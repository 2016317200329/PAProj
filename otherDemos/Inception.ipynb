{
 "cells": [
  {
   "cell_type": "markdown",
   "source": [
    "# 1. d2l的例子"
   ],
   "metadata": {
    "collapsed": false
   }
  },
  {
   "cell_type": "code",
   "execution_count": 21,
   "metadata": {
    "collapsed": true
   },
   "outputs": [],
   "source": [
    "import torch\n",
    "from torch import nn\n",
    "from torch.nn import functional as F\n",
    "\n",
    "class Inception(nn.Module):\n",
    "    def __init__(self,in_channels,c1,c2,c3,c4):\n",
    "        super(Inception,self).__init__()\n",
    "        self.conv1 = nn.Conv2d(in_channels,c1,kernel_size = 1)\n",
    "        self.conv2 = nn.Sequential(\n",
    "                    nn.Conv2d(in_channels,c2[0],kernel_size = 1),nn.ReLU(),\n",
    "                    nn.Conv2d(c2[0],c2[1],kernel_size=3,padding=1),nn.ReLU()\n",
    "                )\n",
    "        self.conv3 = nn.Sequential(\n",
    "                    nn.Conv2d(in_channels,c3[0],kernel_size=1),nn.ReLU(),\n",
    "                    nn.Conv2d(c3[0],c3[1],kernel_size=5, padding=2),nn.ReLU()\n",
    "                )\n",
    "        self.conv4 = nn.Sequential(\n",
    "                    nn.MaxPool2d(kernel_size=3,stride=1,padding=1),\n",
    "                    nn.Conv2d(in_channels,c4,kernel_size = 1),nn.ReLU(),\n",
    "                )\n",
    "    def forward(self,X):\n",
    "        print(\"--X shape:\",X.shape)\n",
    "        p1 = self.conv1(X)\n",
    "        p2 = self.conv2(X)\n",
    "        p3 = self.conv3(X)\n",
    "        p4 = self.conv4(X)\n",
    "\n",
    "        return torch.cat((p1, p2, p3, p4), dim=1)\n"
   ]
  },
  {
   "cell_type": "code",
   "execution_count": 24,
   "outputs": [],
   "source": [
    "class GoogleNet(nn.Module):\n",
    "    def __init__(self,in_channels,classes):\n",
    "        super(GoogleNet,self).__init__()\n",
    "        self.model = nn.Sequential(\n",
    "            nn.Conv2d(in_channels,out_channels=64,kernel_size=7,stride=2,padding=3),nn.ReLU(),\n",
    "            nn.MaxPool2d(kernel_size=3,stride=2),\n",
    "            nn.Conv2d(in_channels=64,out_channels=64,kernel_size=1),nn.ReLU(),\n",
    "            nn.Conv2d(in_channels=64,out_channels=192,kernel_size=3,padding=1),nn.ReLU(),\n",
    "            nn.MaxPool2d(kernel_size=3,stride=2),\n",
    "            Inception(192,c1=64,c2=[96,128],c3=[16,32],c4=32),\n",
    "            # Inception(256,c1=128,c2=[128,192],c3=[32,96],c4=64),\n",
    "            # nn.MaxPool2d(kernel_size=3,stride=2,padding=1),\n",
    "            # Inception(480,c1=192,c2=[96,208],c3=[16,48],c4=64),\n",
    "            # Inception(512,c1=160,c2=[112,224],c3=[24,64],c4=64),\n",
    "            # Inception(512,c1=128,c2=[128,256],c3=[24,64],c4=64),\n",
    "            # Inception(512,c1=112,c2=[144,288],c3=[32,64],c4=64),\n",
    "            # Inception(528,c1=256,c2=[160,320],c3=[32,128],c4=128),\n",
    "            # nn.MaxPool2d(kernel_size=3,stride=2,padding=1),\n",
    "            # Inception(832,c1=256,c2=[160,320],c3=[32,128],c4=128),\n",
    "            # Inception(832,c1=384,c2=[192,384],c3=[48,128],c4=128),\n",
    "            # nn.AvgPool2d(kernel_size=7,stride=1),\n",
    "            # nn.Dropout(p=0.4),\n",
    "            # nn.Flatten(),\n",
    "            # nn.Linear(1024,classes),\n",
    "            # nn.Softmax(dim=1)\n",
    "                )\n",
    "    def forward(self,X:torch.tensor):\n",
    "        for layer in self.model:\n",
    "            X = layer(X)\n",
    "            print(layer.__class__.__name__,'output shape:',X.shape)"
   ],
   "metadata": {
    "collapsed": false
   }
  },
  {
   "cell_type": "code",
   "execution_count": 25,
   "outputs": [
    {
     "name": "stdout",
     "output_type": "stream",
     "text": [
      "Conv2d output shape: torch.Size([1, 64, 112, 112])\n",
      "ReLU output shape: torch.Size([1, 64, 112, 112])\n",
      "MaxPool2d output shape: torch.Size([1, 64, 55, 55])\n",
      "Conv2d output shape: torch.Size([1, 64, 55, 55])\n",
      "ReLU output shape: torch.Size([1, 64, 55, 55])\n",
      "Conv2d output shape: torch.Size([1, 192, 55, 55])\n",
      "ReLU output shape: torch.Size([1, 192, 55, 55])\n",
      "MaxPool2d output shape: torch.Size([1, 192, 27, 27])\n",
      "--X shape: torch.Size([1, 192, 27, 27])\n",
      "Inception output shape: torch.Size([1, 256, 27, 27])\n"
     ]
    }
   ],
   "source": [
    "X = torch.randn(size=(1,3,224,224))\n",
    "net = GoogleNet(3,1000)\n",
    "net(X)"
   ],
   "metadata": {
    "collapsed": false
   }
  },
  {
   "cell_type": "markdown",
   "source": [
    "# 2."
   ],
   "metadata": {
    "collapsed": false
   }
  },
  {
   "cell_type": "code",
   "execution_count": null,
   "outputs": [],
   "source": [
    "class Inception_Block_V1(nn.Module):\n",
    "    def __init__(self, in_channels, out_channels, num_kernels=6, init_weight=True):\n",
    "        super(Inception_Block_V1, self).__init__()\n",
    "        self.in_channels = in_channels\n",
    "        self.out_channels = out_channels\n",
    "        self.num_kernels = num_kernels\n",
    "        kernels = []\n",
    "        # self.ln_in = int((300-kernel_size)/stride+1)\n",
    "        for i in range(self.num_kernels):\n",
    "            kernels.append(nn.Conv2d(in_channels, out_channels, kernel_size=2 * i + 1, padding=i))\n",
    "        self.kernels = nn.ModuleList(kernels)\n",
    "        if init_weight:\n",
    "            self._initialize_weights()\n",
    "\n",
    "    def _initialize_weights(self):\n",
    "        for m in self.modules():\n",
    "            if isinstance(m, nn.Conv2d):\n",
    "                nn.init.kaiming_normal_(m.weight, mode='fan_out', nonlinearity='relu')\n",
    "                if m.bias is not None:\n",
    "                    nn.init.constant_(m.bias, 0)\n",
    "\n",
    "    def forward(self, x):\n",
    "        res_list = []\n",
    "        for i in range(self.num_kernels):\n",
    "            res_list.append(self.kernels[i](x))\n",
    "        res = torch.stack(res_list, dim=-1).mean(-1)\n",
    "        return res\n"
   ],
   "metadata": {
    "collapsed": false
   }
  }
 ],
 "metadata": {
  "kernelspec": {
   "display_name": "Python 3",
   "language": "python",
   "name": "python3"
  },
  "language_info": {
   "codemirror_mode": {
    "name": "ipython",
    "version": 2
   },
   "file_extension": ".py",
   "mimetype": "text/x-python",
   "name": "python",
   "nbconvert_exporter": "python",
   "pygments_lexer": "ipython2",
   "version": "2.7.6"
  }
 },
 "nbformat": 4,
 "nbformat_minor": 0
}
