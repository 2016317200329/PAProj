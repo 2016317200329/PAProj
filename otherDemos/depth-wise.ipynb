{
 "cells": [
  {
   "cell_type": "code",
   "execution_count": 11,
   "metadata": {
    "collapsed": true
   },
   "outputs": [],
   "source": [
    "import torch.nn as nn\n",
    "import torch\n",
    "from torchsummary import summary"
   ]
  },
  {
   "cell_type": "code",
   "execution_count": 5,
   "outputs": [],
   "source": [
    "class depthwise_separable_conv(nn.Module):\n",
    "    def init(self, nin, nout):\n",
    "        super(depthwise_separable_conv, self).init()\n",
    "        self.depthwise = nn.Conv2d(nin, nin, kernel_size=3, padding=0, groups=nin)\n",
    "        self.pointwise = nn.Conv2d(nin, nout, kernel_size=1)\n",
    "    def forward(self, x):\n",
    "        out = self.depthwise(x)\n",
    "        out = self.pointwise(out)\n",
    "        return out"
   ],
   "metadata": {
    "collapsed": false
   }
  },
  {
   "cell_type": "markdown",
   "source": [],
   "metadata": {
    "collapsed": false
   }
  },
  {
   "cell_type": "code",
   "execution_count": 7,
   "outputs": [
    {
     "ename": "TypeError",
     "evalue": "__init__() got an unexpected keyword argument 'nin'",
     "output_type": "error",
     "traceback": [
      "\u001B[1;31m---------------------------------------------------------------------------\u001B[0m",
      "\u001B[1;31mTypeError\u001B[0m                                 Traceback (most recent call last)",
      "\u001B[1;32m~\\AppData\\Local\\Temp\\ipykernel_22148\\1770867303.py\u001B[0m in \u001B[0;36m<module>\u001B[1;34m\u001B[0m\n\u001B[1;32m----> 1\u001B[1;33m \u001B[0mmodel\u001B[0m \u001B[1;33m=\u001B[0m \u001B[0mdepthwise_separable_conv\u001B[0m\u001B[1;33m(\u001B[0m\u001B[0mnin\u001B[0m\u001B[1;33m=\u001B[0m\u001B[1;36m15\u001B[0m\u001B[1;33m,\u001B[0m\u001B[0mnout\u001B[0m\u001B[1;33m=\u001B[0m\u001B[1;36m15\u001B[0m\u001B[1;33m)\u001B[0m\u001B[1;33m\u001B[0m\u001B[1;33m\u001B[0m\u001B[0m\n\u001B[0m",
      "\u001B[1;31mTypeError\u001B[0m: __init__() got an unexpected keyword argument 'nin'"
     ]
    }
   ],
   "source": [
    "model = depthwise_separable_conv()"
   ],
   "metadata": {
    "collapsed": false
   }
  },
  {
   "cell_type": "code",
   "execution_count": 61,
   "outputs": [],
   "source": [
    "# 1569\n",
    "class Conv_block_7(nn.Module):\n",
    "    def __init__(self, ch_out=1,kernel_size=9, stride=3) -> None:\n",
    "        super().__init__()\n",
    "\n",
    "        self.kernel_size = (3,kernel_size)\n",
    "        self.stride = (3,stride)\n",
    "        # self.ln_in = int((300-kernel_size)/stride+1)\n",
    "        self.ln_in = 84\n",
    "\n",
    "        self.ac_func = nn.Softplus()\n",
    "\n",
    "        self.conv1 = nn.LazyConv1d(out_channels=2*3,kernel_size=9,stride=3,groups=3)\n",
    "        self.conv2 = nn.LazyConv1d(out_channels=4*3,kernel_size=6,stride=3,groups=2*3)\n",
    "        self.conv3 = nn.LazyConv1d(out_channels=8*3,kernel_size=4,stride=2,groups=4*3)\n",
    "        # 相当于对len=14的维度，用一个kernel去提取\n",
    "        self.conv4 = nn.LazyConv1d(out_channels=3,kernel_size=1,stride=1)\n",
    "\n",
    "        self.BN_aff1 = nn.BatchNorm1d(num_features=2*3,affine=True)\n",
    "        self.BN_aff2 = nn.BatchNorm1d(num_features=4*3,affine=True)\n",
    "        self.BN_aff3 = nn.BatchNorm1d(num_features=8*3,affine=True)\n",
    "        self.BN_aff4 = nn.BatchNorm1d(num_features=3,affine=True)\n",
    "\n",
    "    def forward(self, x):\n",
    "        # Conv=>BN=>AC\n",
    "        x = self.conv1(x)\n",
    "        x = self.ac_func(self.BN_aff1(x))\n",
    "\n",
    "        x = self.conv2(x)\n",
    "        x = self.ac_func(self.BN_aff2(x))\n",
    "\n",
    "        x = self.conv3(x)\n",
    "        x = self.ac_func(self.BN_aff3(x))\n",
    "\n",
    "        x = self.conv4(x)\n",
    "        x = self.ac_func(self.BN_aff4(x))\n",
    "        x = torch.flatten(x,start_dim=1)\n",
    "\n",
    "        return x\n",
    "\n",
    "class Conv_1_7(nn.Module):\n",
    "    # code->generate->override methods\n",
    "    def __init__(self, n_gaussians, ch_out=1, kernel_size=9, stride=3) -> None:\n",
    "        super().__init__()\n",
    "\n",
    "        self.kernel_size = (3,kernel_size)\n",
    "        self.stride = (3,stride)\n",
    "        # self.ln_in = int((300-self.kernel_size[1])/self.stride[1]+1)\n",
    "        self.ln_in = 42\n",
    "\n",
    "        self.BN1 = nn.BatchNorm1d(num_features=3,affine=True)\n",
    "        # out_channels == K * in_channels\n",
    "        # 有in_channels个group,每一个group有K个卷积核，能产生K张特征图，所以最后的输出是Cin*K.\n",
    "\n",
    "        self.layer_pi = Conv_block_7(ch_out=1,kernel_size=kernel_size,stride=stride)\n",
    "        self.layer_scale = Conv_block_7(ch_out=1,kernel_size=kernel_size,stride=stride)\n",
    "        self.layer_shape = Conv_block_7(ch_out=1,kernel_size=kernel_size,stride=stride)\n",
    "\n",
    "        self.ac_func = nn.Softplus()\n",
    "\n",
    "        self.z_pi = nn.Sequential(\n",
    "            nn.Linear(self.ln_in, n_gaussians),\n",
    "            nn.Softmax(dim=1)           # dim=0是B, dim=1才是feature\n",
    "        )\n",
    "        self.z_scale = nn.Linear(self.ln_in, n_gaussians)\n",
    "        self.z_shape = nn.Linear(self.ln_in, n_gaussians)\n",
    "\n",
    "    def forward(self, x):\n",
    "\n",
    "        x = self.BN1(x)\n",
    "        # x = torch.unsqueeze(x,dim=1)                     # torch.Size([B, 1, 3, 300])\n",
    "\n",
    "\n",
    "        x_pi = self.layer_pi(x)\n",
    "        x_scale = self.layer_scale(x)\n",
    "        x_shape = self.layer_shape(x)\n",
    "\n",
    "        pi = self.z_pi(x_pi)\n",
    "        scale = torch.exp(self.z_scale(x_scale))\n",
    "        scale = torch.clamp(scale,1e-4)\n",
    "        shape = torch.exp(self.z_shape(x_shape))\n",
    "        shape = torch.clamp(shape,1e-4)\n",
    "\n",
    "        return pi,scale,shape\n",
    "        # return pi"
   ],
   "metadata": {
    "collapsed": false
   }
  },
  {
   "cell_type": "code",
   "execution_count": 62,
   "outputs": [
    {
     "name": "stdout",
     "output_type": "stream",
     "text": [
      "----------------------------------------------------------------\n",
      "        Layer (type)               Output Shape         Param #\n",
      "================================================================\n",
      "       BatchNorm1d-1               [-1, 3, 300]               6\n",
      "            Conv1d-2                [-1, 6, 98]              60\n",
      "       BatchNorm1d-3                [-1, 6, 98]              12\n",
      "          Softplus-4                [-1, 6, 98]               0\n",
      "            Conv1d-5               [-1, 12, 31]              84\n",
      "       BatchNorm1d-6               [-1, 12, 31]              24\n",
      "          Softplus-7               [-1, 12, 31]               0\n",
      "            Conv1d-8               [-1, 24, 14]             120\n",
      "       BatchNorm1d-9               [-1, 24, 14]              48\n",
      "         Softplus-10               [-1, 24, 14]               0\n",
      "           Conv1d-11                [-1, 3, 14]              75\n",
      "      BatchNorm1d-12                [-1, 3, 14]               6\n",
      "         Softplus-13                [-1, 3, 14]               0\n",
      "     Conv_block_7-14                   [-1, 42]               0\n",
      "           Conv1d-15                [-1, 6, 98]              60\n",
      "      BatchNorm1d-16                [-1, 6, 98]              12\n",
      "         Softplus-17                [-1, 6, 98]               0\n",
      "           Conv1d-18               [-1, 12, 31]              84\n",
      "      BatchNorm1d-19               [-1, 12, 31]              24\n",
      "         Softplus-20               [-1, 12, 31]               0\n",
      "           Conv1d-21               [-1, 24, 14]             120\n",
      "      BatchNorm1d-22               [-1, 24, 14]              48\n",
      "         Softplus-23               [-1, 24, 14]               0\n",
      "           Conv1d-24                [-1, 3, 14]              75\n",
      "      BatchNorm1d-25                [-1, 3, 14]               6\n",
      "         Softplus-26                [-1, 3, 14]               0\n",
      "     Conv_block_7-27                   [-1, 42]               0\n",
      "           Conv1d-28                [-1, 6, 98]              60\n",
      "      BatchNorm1d-29                [-1, 6, 98]              12\n",
      "         Softplus-30                [-1, 6, 98]               0\n",
      "           Conv1d-31               [-1, 12, 31]              84\n",
      "      BatchNorm1d-32               [-1, 12, 31]              24\n",
      "         Softplus-33               [-1, 12, 31]               0\n",
      "           Conv1d-34               [-1, 24, 14]             120\n",
      "      BatchNorm1d-35               [-1, 24, 14]              48\n",
      "         Softplus-36               [-1, 24, 14]               0\n",
      "           Conv1d-37                [-1, 3, 14]              75\n",
      "      BatchNorm1d-38                [-1, 3, 14]               6\n",
      "         Softplus-39                [-1, 3, 14]               0\n",
      "     Conv_block_7-40                   [-1, 42]               0\n",
      "           Linear-41                    [-1, 2]              86\n",
      "          Softmax-42                    [-1, 2]               0\n",
      "           Linear-43                    [-1, 2]              86\n",
      "           Linear-44                    [-1, 2]              86\n",
      "================================================================\n",
      "Total params: 1,551\n",
      "Trainable params: 1,551\n",
      "Non-trainable params: 0\n",
      "----------------------------------------------------------------\n",
      "Input size (MB): 0.00\n",
      "Forward/backward pass size (MB): 0.10\n",
      "Params size (MB): 0.01\n",
      "Estimated Total Size (MB): 0.11\n",
      "----------------------------------------------------------------\n"
     ]
    }
   ],
   "source": [
    "mlp = Conv_1_7(2)\n",
    "mlp.to(device=\"cuda\")\n",
    "summary(mlp, (3,300))"
   ],
   "metadata": {
    "collapsed": false
   }
  }
 ],
 "metadata": {
  "kernelspec": {
   "display_name": "Python 3",
   "language": "python",
   "name": "python3"
  },
  "language_info": {
   "codemirror_mode": {
    "name": "ipython",
    "version": 2
   },
   "file_extension": ".py",
   "mimetype": "text/x-python",
   "name": "python",
   "nbconvert_exporter": "python",
   "pygments_lexer": "ipython2",
   "version": "2.7.6"
  }
 },
 "nbformat": 4,
 "nbformat_minor": 0
}
