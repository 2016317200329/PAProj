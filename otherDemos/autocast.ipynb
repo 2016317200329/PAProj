{
 "cells": [
  {
   "cell_type": "code",
   "execution_count": null,
   "metadata": {
    "collapsed": true
   },
   "outputs": [],
   "source": []
  },
  {
   "cell_type": "code",
   "execution_count": 2,
   "outputs": [],
   "source": [
    "import torch\n",
    "from torch.cuda.amp import GradScaler,autocast\n"
   ],
   "metadata": {
    "collapsed": false
   }
  },
  {
   "cell_type": "code",
   "execution_count": 8,
   "outputs": [
    {
     "name": "stdout",
     "output_type": "stream",
     "text": [
      "tensor([[2.4297, 2.2578, 2.3262, 2.1758, 1.8633, 1.8154, 2.1309, 1.3945],\n",
      "        [2.0898, 1.7900, 1.6992, 1.9727, 1.0391, 1.4902, 1.5381, 1.1260],\n",
      "        [1.5703, 1.7178, 1.4414, 1.4424, 1.0371, 1.8154, 0.9053, 0.6802],\n",
      "        [2.3164, 2.2168, 2.1641, 2.2910, 1.9619, 2.0391, 2.2617, 1.3730],\n",
      "        [2.2090, 2.1816, 2.1094, 2.2129, 1.8447, 1.8750, 1.8828, 1.0967],\n",
      "        [2.6973, 2.5215, 2.9023, 2.7617, 2.4512, 2.3965, 3.0898, 1.8311],\n",
      "        [2.5391, 2.2715, 2.6758, 2.0742, 1.4766, 2.3750, 2.0469, 1.6748],\n",
      "        [1.8154, 1.6514, 1.5947, 1.6250, 1.2646, 1.1465, 1.5479, 1.0361]],\n",
      "       device='cuda:0', dtype=torch.float16)\n",
      "tensor([[ 7.6289,  7.2930,  7.3594,  7.3164,  6.0625,  6.4531,  6.9609,  4.3789],\n",
      "        [11.4219, 10.8438, 10.9375, 10.8906,  8.6562,  9.7578, 10.1562,  6.5547],\n",
      "        [ 8.4688,  7.9766,  8.1797,  7.9844,  6.3008,  7.3242,  7.5078,  4.9570],\n",
      "        [ 6.5625,  6.0195,  6.0391,  6.0234,  4.4336,  5.2383,  5.4805,  3.7637],\n",
      "        [10.4375,  9.9453,  9.9688,  9.8203,  7.7188,  9.0391,  8.9688,  5.9258],\n",
      "        [ 9.3125,  8.8359,  8.9375,  8.7891,  7.0898,  7.8359,  8.3359,  5.3984],\n",
      "        [ 6.2969,  6.0508,  5.9727,  6.0703,  4.7852,  5.5781,  5.5547,  3.5684],\n",
      "        [ 7.1523,  6.7422,  6.6992,  6.7383,  5.3828,  5.8984,  6.2227,  4.0273]],\n",
      "       device='cuda:0', dtype=torch.float16)\n",
      "tensor([[28.7439, 27.1736, 27.3791, 27.0962, 21.4941, 24.2642, 25.2473, 16.4971],\n",
      "        [45.0097, 42.5887, 42.9683, 42.5290, 33.7834, 38.1480, 39.7055, 25.8828],\n",
      "        [30.9282, 29.2117, 29.3053, 29.1380, 22.8077, 26.2048, 26.8972, 17.6867],\n",
      "        [25.1300, 23.7808, 23.9126, 23.8365, 18.9229, 21.2478, 22.2026, 14.3942],\n",
      "        [40.5095, 38.2750, 38.4632, 38.1724, 29.9912, 34.3812, 35.3019, 23.1878],\n",
      "        [35.5410, 33.6235, 33.9322, 33.6093, 26.8455, 30.0106, 31.4923, 20.4473],\n",
      "        [25.3399, 23.8764, 24.1316, 23.8544, 18.7717, 21.3876, 22.2353, 14.6069],\n",
      "        [26.3842, 24.9290, 25.1112, 24.9232, 19.7246, 22.2483, 23.2010, 15.1333]],\n",
      "       device='cuda:0')\n"
     ]
    }
   ],
   "source": [
    "# Creates some tensors in default dtype (here assumed to be float32)\n",
    "a_float32 = torch.rand((8, 8), device=\"cuda\")\n",
    "b_float32 = torch.rand((8, 8), device=\"cuda\")\n",
    "c_float32 = torch.rand((8, 8), device=\"cuda\")\n",
    "d_float32 = torch.rand((8, 8), device=\"cuda\")\n",
    "\n",
    "with autocast():\n",
    "    # torch.mm is on autocast's list of ops that should run in float16.\n",
    "    # Inputs are float32, but the op runs in float16 and produces float16 output.\n",
    "    # No manual casts are required.\n",
    "    e_float16 = torch.mm(a_float32, b_float32)\n",
    "    print(e_float16)\n",
    "    # Also handles mixed input types\n",
    "    f_float16 = torch.mm(d_float32, e_float16)\n",
    "    print(f_float16)\n",
    "\n",
    "# After exiting autocast, calls f_float16.float() to use with d_float32\n",
    "g_float32 = torch.mm(d_float32, f_float16.float())\n",
    "print(g_float32)  # torch.float32"
   ],
   "metadata": {
    "collapsed": false
   }
  },
  {
   "cell_type": "code",
   "execution_count": null,
   "outputs": [],
   "source": [],
   "metadata": {
    "collapsed": false
   }
  }
 ],
 "metadata": {
  "kernelspec": {
   "display_name": "Python 3",
   "language": "python",
   "name": "python3"
  },
  "language_info": {
   "codemirror_mode": {
    "name": "ipython",
    "version": 2
   },
   "file_extension": ".py",
   "mimetype": "text/x-python",
   "name": "python",
   "nbconvert_exporter": "python",
   "pygments_lexer": "ipython2",
   "version": "2.7.6"
  }
 },
 "nbformat": 4,
 "nbformat_minor": 0
}
