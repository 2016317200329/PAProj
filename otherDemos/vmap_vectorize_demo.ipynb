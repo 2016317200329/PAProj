{
 "cells": [
  {
   "cell_type": "markdown",
   "source": [
    "# 1. torch.vmap\n",
    "2. github链接：关于如何just use the parallelization capabilities of vmap\n",
    "2. https://github.com/pytorch/functorch/issues/257"
   ],
   "metadata": {
    "collapsed": false
   }
  },
  {
   "cell_type": "code",
   "execution_count": 3,
   "outputs": [],
   "source": [
    "import torch\n",
    "from functorch import vmap"
   ],
   "metadata": {
    "collapsed": false
   }
  },
  {
   "cell_type": "code",
   "execution_count": 28,
   "outputs": [
    {
     "name": "stdout",
     "output_type": "stream",
     "text": [
      "shape of t:torch.Size([8]), shape of b_extend:torch.Size([8])\n"
     ]
    },
    {
     "ename": "TypeError",
     "evalue": "func_2() missing 1 required positional argument: 'b'",
     "output_type": "error",
     "traceback": [
      "\u001B[1;31m---------------------------------------------------------------------------\u001B[0m",
      "\u001B[1;31mTypeError\u001B[0m                                 Traceback (most recent call last)",
      "\u001B[1;32m~\\AppData\\Local\\Temp\\ipykernel_15204\\314091053.py\u001B[0m in \u001B[0;36m<module>\u001B[1;34m\u001B[0m\n\u001B[0;32m     27\u001B[0m \u001B[1;33m\u001B[0m\u001B[0m\n\u001B[0;32m     28\u001B[0m \u001B[1;31m# Use vmap() to construct a new function.  # [D], [D] -> []\u001B[0m\u001B[1;33m\u001B[0m\u001B[1;33m\u001B[0m\u001B[0m\n\u001B[1;32m---> 29\u001B[1;33m \u001B[0mfunc_vec\u001B[0m \u001B[1;33m=\u001B[0m \u001B[0mvmap\u001B[0m\u001B[1;33m(\u001B[0m\u001B[0mfunc_2\u001B[0m\u001B[1;33m)\u001B[0m\u001B[1;33m(\u001B[0m\u001B[0mb\u001B[0m\u001B[1;33m)\u001B[0m  \u001B[1;31m# [N, D], [N, D] -> [N]\u001B[0m\u001B[1;33m\u001B[0m\u001B[1;33m\u001B[0m\u001B[0m\n\u001B[0m\u001B[0;32m     30\u001B[0m \u001B[1;31m# ans = func_vec(t,b_extend)\u001B[0m\u001B[1;33m\u001B[0m\u001B[1;33m\u001B[0m\u001B[0m\n\u001B[0;32m     31\u001B[0m \u001B[0mans\u001B[0m \u001B[1;33m=\u001B[0m \u001B[0mfunc_vec\u001B[0m\u001B[1;33m(\u001B[0m\u001B[0mt\u001B[0m\u001B[1;33m,\u001B[0m\u001B[0mb\u001B[0m\u001B[1;33m)\u001B[0m\u001B[1;33m\u001B[0m\u001B[1;33m\u001B[0m\u001B[0m\n",
      "\u001B[1;32mD:\\Anaconda\\Lib\\site-packages\\functorch\\_src\\vmap.py\u001B[0m in \u001B[0;36mwrapped\u001B[1;34m(*args, **kwargs)\u001B[0m\n\u001B[0;32m    360\u001B[0m         \u001B[0m_check_out_dims_is_int_or_int_pytree\u001B[0m\u001B[1;33m(\u001B[0m\u001B[0mout_dims\u001B[0m\u001B[1;33m,\u001B[0m \u001B[0mfunc\u001B[0m\u001B[1;33m)\u001B[0m\u001B[1;33m\u001B[0m\u001B[1;33m\u001B[0m\u001B[0m\n\u001B[0;32m    361\u001B[0m         \u001B[0mbatch_size\u001B[0m\u001B[1;33m,\u001B[0m \u001B[0mflat_in_dims\u001B[0m\u001B[1;33m,\u001B[0m \u001B[0mflat_args\u001B[0m\u001B[1;33m,\u001B[0m \u001B[0margs_spec\u001B[0m \u001B[1;33m=\u001B[0m \u001B[0m_process_batched_inputs\u001B[0m\u001B[1;33m(\u001B[0m\u001B[0min_dims\u001B[0m\u001B[1;33m,\u001B[0m \u001B[0margs\u001B[0m\u001B[1;33m,\u001B[0m \u001B[0mfunc\u001B[0m\u001B[1;33m)\u001B[0m\u001B[1;33m\u001B[0m\u001B[1;33m\u001B[0m\u001B[0m\n\u001B[1;32m--> 362\u001B[1;33m         return _flat_vmap(\n\u001B[0m\u001B[0;32m    363\u001B[0m             \u001B[0mfunc\u001B[0m\u001B[1;33m,\u001B[0m \u001B[0mbatch_size\u001B[0m\u001B[1;33m,\u001B[0m \u001B[0mflat_in_dims\u001B[0m\u001B[1;33m,\u001B[0m \u001B[0mflat_args\u001B[0m\u001B[1;33m,\u001B[0m \u001B[0margs_spec\u001B[0m\u001B[1;33m,\u001B[0m \u001B[0mout_dims\u001B[0m\u001B[1;33m,\u001B[0m \u001B[0mrandomness\u001B[0m\u001B[1;33m,\u001B[0m \u001B[1;33m**\u001B[0m\u001B[0mkwargs\u001B[0m\u001B[1;33m\u001B[0m\u001B[1;33m\u001B[0m\u001B[0m\n\u001B[0;32m    364\u001B[0m         )\n",
      "\u001B[1;32mD:\\Anaconda\\Lib\\site-packages\\functorch\\_src\\vmap.py\u001B[0m in \u001B[0;36mfn\u001B[1;34m(*args, **kwargs)\u001B[0m\n\u001B[0;32m     33\u001B[0m     \u001B[1;32mdef\u001B[0m \u001B[0mfn\u001B[0m\u001B[1;33m(\u001B[0m\u001B[1;33m*\u001B[0m\u001B[0margs\u001B[0m\u001B[1;33m,\u001B[0m \u001B[1;33m**\u001B[0m\u001B[0mkwargs\u001B[0m\u001B[1;33m)\u001B[0m\u001B[1;33m:\u001B[0m\u001B[1;33m\u001B[0m\u001B[1;33m\u001B[0m\u001B[0m\n\u001B[0;32m     34\u001B[0m         \u001B[1;32mwith\u001B[0m \u001B[0mtorch\u001B[0m\u001B[1;33m.\u001B[0m\u001B[0mautograd\u001B[0m\u001B[1;33m.\u001B[0m\u001B[0mgraph\u001B[0m\u001B[1;33m.\u001B[0m\u001B[0mdisable_saved_tensors_hooks\u001B[0m\u001B[1;33m(\u001B[0m\u001B[0mmessage\u001B[0m\u001B[1;33m)\u001B[0m\u001B[1;33m:\u001B[0m\u001B[1;33m\u001B[0m\u001B[1;33m\u001B[0m\u001B[0m\n\u001B[1;32m---> 35\u001B[1;33m             \u001B[1;32mreturn\u001B[0m \u001B[0mf\u001B[0m\u001B[1;33m(\u001B[0m\u001B[1;33m*\u001B[0m\u001B[0margs\u001B[0m\u001B[1;33m,\u001B[0m \u001B[1;33m**\u001B[0m\u001B[0mkwargs\u001B[0m\u001B[1;33m)\u001B[0m\u001B[1;33m\u001B[0m\u001B[1;33m\u001B[0m\u001B[0m\n\u001B[0m\u001B[0;32m     36\u001B[0m     \u001B[1;32mreturn\u001B[0m \u001B[0mfn\u001B[0m\u001B[1;33m\u001B[0m\u001B[1;33m\u001B[0m\u001B[0m\n\u001B[0;32m     37\u001B[0m \u001B[1;33m\u001B[0m\u001B[0m\n",
      "\u001B[1;32mD:\\Anaconda\\Lib\\site-packages\\functorch\\_src\\vmap.py\u001B[0m in \u001B[0;36m_flat_vmap\u001B[1;34m(func, batch_size, flat_in_dims, flat_args, args_spec, out_dims, randomness, **kwargs)\u001B[0m\n\u001B[0;32m    487\u001B[0m     \u001B[1;32mtry\u001B[0m\u001B[1;33m:\u001B[0m\u001B[1;33m\u001B[0m\u001B[1;33m\u001B[0m\u001B[0m\n\u001B[0;32m    488\u001B[0m         \u001B[0mbatched_inputs\u001B[0m \u001B[1;33m=\u001B[0m \u001B[0m_create_batched_inputs\u001B[0m\u001B[1;33m(\u001B[0m\u001B[0mflat_in_dims\u001B[0m\u001B[1;33m,\u001B[0m \u001B[0mflat_args\u001B[0m\u001B[1;33m,\u001B[0m \u001B[0mvmap_level\u001B[0m\u001B[1;33m,\u001B[0m \u001B[0margs_spec\u001B[0m\u001B[1;33m)\u001B[0m\u001B[1;33m\u001B[0m\u001B[1;33m\u001B[0m\u001B[0m\n\u001B[1;32m--> 489\u001B[1;33m         \u001B[0mbatched_outputs\u001B[0m \u001B[1;33m=\u001B[0m \u001B[0mfunc\u001B[0m\u001B[1;33m(\u001B[0m\u001B[1;33m*\u001B[0m\u001B[0mbatched_inputs\u001B[0m\u001B[1;33m,\u001B[0m \u001B[1;33m**\u001B[0m\u001B[0mkwargs\u001B[0m\u001B[1;33m)\u001B[0m\u001B[1;33m\u001B[0m\u001B[1;33m\u001B[0m\u001B[0m\n\u001B[0m\u001B[0;32m    490\u001B[0m         \u001B[1;32mreturn\u001B[0m \u001B[0m_unwrap_batched\u001B[0m\u001B[1;33m(\u001B[0m\u001B[0mbatched_outputs\u001B[0m\u001B[1;33m,\u001B[0m \u001B[0mout_dims\u001B[0m\u001B[1;33m,\u001B[0m \u001B[0mvmap_level\u001B[0m\u001B[1;33m,\u001B[0m \u001B[0mbatch_size\u001B[0m\u001B[1;33m,\u001B[0m \u001B[0mfunc\u001B[0m\u001B[1;33m)\u001B[0m\u001B[1;33m\u001B[0m\u001B[1;33m\u001B[0m\u001B[0m\n\u001B[0;32m    491\u001B[0m     \u001B[1;32mfinally\u001B[0m\u001B[1;33m:\u001B[0m\u001B[1;33m\u001B[0m\u001B[1;33m\u001B[0m\u001B[0m\n",
      "\u001B[1;31mTypeError\u001B[0m: func_2() missing 1 required positional argument: 'b'"
     ]
    }
   ],
   "source": [
    "def func_3(t,b):\n",
    "    return t*b\n",
    "\n",
    "# if分支isn't a differentiability requirement;\n",
    "def func(t,b):\n",
    "    tmp = t*b\n",
    "    if tmp > 5:     # error: Data-dependent control flow\n",
    "        root = t*b\n",
    "    else:\n",
    "        root = -t\n",
    "    return root\n",
    "\n",
    "def func_2(t,b):\n",
    "    return torch.where((t>5.),\n",
    "                        func_3(t,b),\n",
    "                        -t)\n",
    "\n",
    "\n",
    "t = torch.tensor([1.,2.,3.,4.,5.,6.,7.,8.])\n",
    "b = torch.tensor([1.],requires_grad=True)\n",
    "b_extend = torch.expand_copy(b,size=t.shape)    # 必须把b扩张到和t同一个size否则报错\n",
    "b_extend.retain_grad()\n",
    "\n",
    "print(f\"shape of t:{t.shape}, shape of b_extend:{b_extend.shape}\")\n",
    "# shape of t:torch.Size([8]), shape of b_extend:torch.Size([8])\n",
    "\n",
    "\n",
    "# Use vmap() to construct a new function.  # [D], [D] -> []\n",
    "func_vec = vmap(func_2)  # [N, D], [N, D] -> [N]\n",
    "ans = func_vec(t,b_extend)\n",
    "ans.sum().backward()   # 等价于: ans.backward(torch.ones(b_extend.shape))\n",
    "b_extend.grad          # 可以预见：b的导数是t：在t>5.时导数是t,在t<=5.时导数是0\n",
    "# tensor([0., 0., 0., 0., 0., 6., 7., 8.])"
   ],
   "metadata": {
    "collapsed": false
   }
  },
  {
   "cell_type": "markdown",
   "source": [
    "# 2. np.vectorize"
   ],
   "metadata": {
    "collapsed": false
   }
  },
  {
   "cell_type": "code",
   "execution_count": 7,
   "outputs": [
    {
     "name": "stdout",
     "output_type": "stream",
     "text": [
      "[ 2  3  4  5  6  7  8  9 10]\n"
     ]
    },
    {
     "data": {
      "text/plain": "[1.0, 1.0, 18, 27, 36, 45, 54, 63, 72, 81, 90, -1]"
     },
     "execution_count": 7,
     "metadata": {},
     "output_type": "execute_result"
    }
   ],
   "source": [
    "import numpy as np\n",
    "def U_GT1(t, v, d, b,eps = 1e-10):\n",
    "    return (v-b)*t\n",
    "    # return np.clip(1 - b / (v - (t - 1) * d), eps, 1 - eps)  # 注意设置LEN之内，eps < U < 1-eps\n",
    "\n",
    "LEN = 10\n",
    "v=10\n",
    "b=1\n",
    "d=2\n",
    "U = [0] * (LEN + 2)  # U: the prob. that someone offers a bid in t_th round\n",
    "U[0], U[1] = 1., 1.  # u[0]用不到,u[1]=1保证auction至少1轮\n",
    "\n",
    "# 使用\n",
    "t = np.arange(2,LEN+1)\n",
    "print(t)\n",
    "U_GT1_vec = np.vectorize(U_GT1)\n",
    "U[2:-1] = U_GT1_vec(t, v, d, b)\n",
    "U[-1] = -1\n",
    "U"
   ],
   "metadata": {
    "collapsed": false
   }
  },
  {
   "cell_type": "code",
   "execution_count": null,
   "outputs": [],
   "source": [],
   "metadata": {
    "collapsed": false
   }
  }
 ],
 "metadata": {
  "kernelspec": {
   "display_name": "Python 3",
   "language": "python",
   "name": "python3"
  },
  "language_info": {
   "codemirror_mode": {
    "name": "ipython",
    "version": 2
   },
   "file_extension": ".py",
   "mimetype": "text/x-python",
   "name": "python",
   "nbconvert_exporter": "python",
   "pygments_lexer": "ipython2",
   "version": "2.7.6"
  }
 },
 "nbformat": 4,
 "nbformat_minor": 0
}
