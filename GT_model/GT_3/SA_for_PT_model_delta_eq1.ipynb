{
 "cells": [
  {
   "cell_type": "code",
   "execution_count": 175,
   "outputs": [
    {
     "name": "stdout",
     "output_type": "stream",
     "text": [
      "The autoreload extension is already loaded. To reload it, use:\n",
      "  %reload_ext autoreload\n"
     ]
    }
   ],
   "source": [
    "%load_ext autoreload\n",
    "%autoreload 2"
   ],
   "metadata": {
    "collapsed": false
   }
  },
  {
   "cell_type": "markdown",
   "source": [
    "# 0. What for\n",
    "\n",
    "# 1. Preparations\n",
    "1. infer参数一是需要data，二是需要把p表示出来才能写出来loss func\n",
    "2. data来自`data_selected_path`\n",
    "\n",
    "## 1.1 全局设置\n"
   ],
   "metadata": {
    "collapsed": false
   }
  },
  {
   "cell_type": "markdown",
   "source": [
    "## 1.2 data 读取\n",
    "1. 读取data以做SA\n",
    "2. 提取出来`data_key`，以及其他计算需要的features"
   ],
   "metadata": {
    "collapsed": false
   }
  },
  {
   "cell_type": "code",
   "execution_count": 209,
   "outputs": [],
   "source": [
    "ARTIFICIAL = True\n",
    "noise_pct = 0.05\n",
    "\n",
    "# Small dataset\n",
    "data_small_np_path = r'../../data/small_auctions_np.csv'\n",
    "\n",
    "# Large data\n",
    "data_large_np_path = r'E:\\DATA\\large_dta\\large_auctions_np.csv'\n",
    "\n",
    "\n",
    "if ARTIFICIAL:\n",
    "    target_root_path = \"../../data/artificial_targets_v2_noise=\" +str(noise_pct)\n",
    "else:\n",
    "    target_root_path = \"../../data/targets_all\"\n",
    "\n",
    "# output path: optimized parameters' saving path:\n",
    "if ARTIFICIAL:\n",
    "    params_opitim_delta_path_3 = \"../../data/SA_PT/params_opitim_artificial_GT3_noise_\"+str(noise_pct)+\".csv\"\n",
    "else:\n",
    "    params_opitim_delta_path_3 = \"../../data/SA_PT/params_opitim_delta_GT3.csv\"\n",
    "\n",
    "unique_setting_NN = ['desc','bidincrement','bidfee','retail','flg_endprice']\n",
    "LEN = 300\n",
    "\n",
    "# for SA\n",
    "# initial params\n",
    "table_5_M = [-0.2]  # 但是0.025不是一个很好的起始值，-0.1目前最好\n",
    "\n",
    "# lower/ upper bound\n",
    "lb = [-0.3]\n",
    "ub = [0.3]\n",
    "\n",
    "import numpy as np\n",
    "import csv\n",
    "import os\n",
    "import pandas as pd\n",
    "from visdom import Visdom\n",
    "from tqdm import tqdm\n",
    "from GT_model.SA_modified import SABoltzmann\n",
    "from sko.tools import set_run_mode\n",
    "from SA_for_PT_funcs_delta_eq1 import *\n",
    "import SA_for_PT_funcs_delta_eq1\n",
    "from func_timeout import func_set_timeout\n",
    "import func_timeout\n",
    "import time\n",
    "\n",
    "from MLP.Config.config_base import BaseConfig\n",
    "config = BaseConfig()"
   ],
   "metadata": {
    "collapsed": false
   }
  },
  {
   "cell_type": "code",
   "execution_count": 210,
   "outputs": [
    {
     "name": "stdout",
     "output_type": "stream",
     "text": [
      "For PT model, there are *1276* settings waiting to be inferred.\n"
     ]
    },
    {
     "data": {
      "text/plain": "                                            desc  bidincrement  bidfee  \\\n0  Sony Ericsson S500i Unlocked Mysterious Green          0.15    0.75   \n1               PSP Slim & Lite Sony Piano Black          0.15    0.75   \n2     iPod Touch Apple 8GB with Software Upgrade          0.15    0.75   \n3      Logitech Cordless Wave Keyboard and Mouse          0.15    0.75   \n4                     SanDisk Cruzer Contour 4GB          0.15    0.75   \n\n   retail  flg_endprice  \n0  499.99             0  \n1  169.99             0  \n2  299.99             0  \n3   89.99             0  \n4   59.99             0  ",
      "text/html": "<div>\n<style scoped>\n    .dataframe tbody tr th:only-of-type {\n        vertical-align: middle;\n    }\n\n    .dataframe tbody tr th {\n        vertical-align: top;\n    }\n\n    .dataframe thead th {\n        text-align: right;\n    }\n</style>\n<table border=\"1\" class=\"dataframe\">\n  <thead>\n    <tr style=\"text-align: right;\">\n      <th></th>\n      <th>desc</th>\n      <th>bidincrement</th>\n      <th>bidfee</th>\n      <th>retail</th>\n      <th>flg_endprice</th>\n    </tr>\n  </thead>\n  <tbody>\n    <tr>\n      <th>0</th>\n      <td>Sony Ericsson S500i Unlocked Mysterious Green</td>\n      <td>0.15</td>\n      <td>0.75</td>\n      <td>499.99</td>\n      <td>0</td>\n    </tr>\n    <tr>\n      <th>1</th>\n      <td>PSP Slim &amp; Lite Sony Piano Black</td>\n      <td>0.15</td>\n      <td>0.75</td>\n      <td>169.99</td>\n      <td>0</td>\n    </tr>\n    <tr>\n      <th>2</th>\n      <td>iPod Touch Apple 8GB with Software Upgrade</td>\n      <td>0.15</td>\n      <td>0.75</td>\n      <td>299.99</td>\n      <td>0</td>\n    </tr>\n    <tr>\n      <th>3</th>\n      <td>Logitech Cordless Wave Keyboard and Mouse</td>\n      <td>0.15</td>\n      <td>0.75</td>\n      <td>89.99</td>\n      <td>0</td>\n    </tr>\n    <tr>\n      <th>4</th>\n      <td>SanDisk Cruzer Contour 4GB</td>\n      <td>0.15</td>\n      <td>0.75</td>\n      <td>59.99</td>\n      <td>0</td>\n    </tr>\n  </tbody>\n</table>\n</div>"
     },
     "execution_count": 210,
     "metadata": {},
     "output_type": "execute_result"
    }
   ],
   "source": [
    "data_small = pd.read_csv(data_small_np_path, encoding=\"utf-8\")\n",
    "data_large = pd.read_csv(data_large_np_path, encoding=\"utf-8\")\n",
    "data = pd.concat([data_small,data_large],axis=0,ignore_index=True)\n",
    "# 由于columns不同，合并后data中肯定有nan，不过我们需要的columns不是nan就好\n",
    "\n",
    "data_key = pd.read_csv(config.data_key_path,encoding=\"utf-8\")\n",
    "\n",
    "# 有`N_uniq_auction`组setting\n",
    "N_uniq_auction= data_key.shape[0]\n",
    "print(\"For PT model, there are *{}* settings waiting to be inferred.\".format(N_uniq_auction))\n",
    "data_key.head()"
   ],
   "metadata": {
    "collapsed": false
   }
  },
  {
   "cell_type": "code",
   "execution_count": 211,
   "outputs": [],
   "source": [
    "all_target_file = os.listdir(target_root_path)"
   ],
   "metadata": {
    "collapsed": false
   }
  },
  {
   "cell_type": "markdown",
   "source": [
    "## 1.3 functions about 'key'"
   ],
   "metadata": {
    "collapsed": false
   }
  },
  {
   "cell_type": "code",
   "execution_count": 212,
   "outputs": [],
   "source": [
    "def select_data_fromkey(i):\n",
    "    return data[(data['desc'] == data_key.iloc[i,0]) &\n",
    "                (data['bidincrement'] == data_key.iloc[i,1]) &\n",
    "                (data['bidfee'] == data_key.iloc[i,2]) &\n",
    "                (data['retail'] == data_key.iloc[i,3]) &\n",
    "                (data['flg_endprice'] == data_key.iloc[i,4])].copy()\n",
    "\n",
    "def readin_data_fromkey(i):\n",
    "    data_i_path = os.path.join(target_root_path,all_target_file[i])\n",
    "    data_i = pd.read_csv(data_i_path,encoding=\"utf-8\")\n",
    "    return data_i"
   ],
   "metadata": {
    "collapsed": false
   }
  },
  {
   "cell_type": "markdown",
   "source": [
    "# 3. SA\n",
    "## 3.1 define loss function\n",
    "1. loss function: NLL for auctions with same `features_GT`\n",
    "2. 注意只能使用理论上限max_T之内的samples"
   ],
   "metadata": {
    "collapsed": false
   }
  },
  {
   "cell_type": "code",
   "execution_count": 213,
   "outputs": [],
   "source": [
    "def loss_func(params,other_params):\n",
    "    # start_time_loss = datetime.datetime.now()\n",
    "    alpha = params[0]\n",
    "    # delta = 1\n",
    "\n",
    "    i = other_params[0]\n",
    "    if ARTIFICIAL:\n",
    "        data_i = readin_data_fromkey(i)\n",
    "\n",
    "    else:\n",
    "        data_i = readin_data_fromkey(i)\n",
    "\n",
    "    # data_i = select_data_fromkey(i)\n",
    "    # data_i.reset_index(drop=True,inplace=True)\n",
    "\n",
    "    # Get params\n",
    "    v = float(data_key.iloc[i,3])\n",
    "    d = float(data_key.iloc[i,1])\n",
    "    b = float(data_key.iloc[i,2])\n",
    "    T_i = data_i['N'].astype(int)            # auction duration sequence\n",
    "\n",
    "    LEN,T = get_LEN_T(v,b,d,max(T_i))\n",
    "\n",
    "    # To get U_i given LEN and other params\n",
    "    U_i = get_U_GT3(LEN, v, d, b, alpha)\n",
    "\n",
    "    # Calculate NLL under this auction setting & PT params\n",
    "    nll = get_nll_loss(T_i, U_i, LEN)\n",
    "\n",
    "    return nll"
   ],
   "metadata": {
    "collapsed": false
   }
  },
  {
   "cell_type": "markdown",
   "source": [
    "\n",
    "## 3.2 do SA\n",
    "1. 要对每一个setting做一次infer == 对每一个setting执行一次SA。\n",
    "    - 可以并行吗？YES\n",
    "2. 具体的：对每个setting `i`\n",
    "    - 每一个setting `i` 对应一组samples: `data_i`\n",
    "    - `data_i`中的`cnt_uniq`，也就是`A`，是相同的，表示setting `i` 进行的拍卖总次数.【但是这个`A`在计算loss的时候派不上用场】\n",
    "    - `N`表示duration，因此paper公式里的$T_a$即`N[a]`\n",
    "    - 因此有`A = sum(data_i['cnt_n_2'])`，其中的'cnt_n_2'表示了该行对应的`duration=N`发生的次数\n",
    "    - 按照上文，求解`U[i]_t` which is a array with shape of (max(N)),也就是求解paper里的`p_t`\n",
    "3.每次进行`L`次对参数的试探寻找，每次寻找对应一个温度一组新的参数。\n",
    "    - 优化的完成/退出条件：温度小于`T_min`或者最低温度保持`max_stay_counter`次的不变\n",
    "    - 鉴于温度小于`T_min`很难达到，因此基本上对一组参数进行优化要进行L*max_stay_counter+1次运算（loss运算）"
   ],
   "metadata": {
    "collapsed": false
   }
  },
  {
   "cell_type": "code",
   "execution_count": 214,
   "outputs": [],
   "source": [
    "params_opitim = pd.DataFrame(columns=['key_idx','alpha','delta','initial_loss','final_loss','avg_loss'])"
   ],
   "metadata": {
    "collapsed": false
   }
  },
  {
   "cell_type": "code",
   "execution_count": 215,
   "outputs": [],
   "source": [
    "# Perform SA respectively for all settings\n",
    "# 设定timer，如果60s内没infer出来就跳过\n",
    "@func_set_timeout(120)   # 60s\n",
    "def perform_with_time(sa_boltzmann):\n",
    "    return sa_boltzmann.run()"
   ],
   "metadata": {
    "collapsed": false
   }
  },
  {
   "cell_type": "code",
   "execution_count": 216,
   "outputs": [
    {
     "name": "stderr",
     "output_type": "stream",
     "text": [
      "  0%|          | 0/1276 [00:00<?, ?it/s]"
     ]
    },
    {
     "name": "stdout",
     "output_type": "stream",
     "text": [
      "> For the *0_th* data_key\n",
      "> retail = 499.99,bidincrement = 0.15, bidfee = 0.75, infer PT's parameters\n",
      "> Now do SA....... \n",
      "\n"
     ]
    },
    {
     "name": "stderr",
     "output_type": "stream",
     "text": [
      "  0%|          | 1/1276 [00:03<1:04:18,  3.03s/it]"
     ]
    },
    {
     "name": "stdout",
     "output_type": "stream",
     "text": [
      "STOP CODE:  Stay unchanged in the last 6 iterations\n",
      "> SA ENDS....... \n",
      "\n",
      "> avg loss: 23.02585084794229\n",
      "> For the *1_th* data_key\n",
      "> retail = 169.99,bidincrement = 0.15, bidfee = 0.75, infer PT's parameters\n",
      "> Now do SA....... \n",
      "\n"
     ]
    },
    {
     "name": "stderr",
     "output_type": "stream",
     "text": [
      "  0%|          | 2/1276 [00:05<59:14,  2.79s/it]  "
     ]
    },
    {
     "name": "stdout",
     "output_type": "stream",
     "text": [
      "STOP CODE:  Stay unchanged in the last 6 iterations\n",
      "> SA ENDS....... \n",
      "\n",
      "> avg loss: 2.6943006097987863\n",
      "> For the *2_th* data_key\n",
      "> retail = 299.99,bidincrement = 0.15, bidfee = 0.75, infer PT's parameters\n",
      "> Now do SA....... \n",
      "\n"
     ]
    },
    {
     "name": "stderr",
     "output_type": "stream",
     "text": [
      "  0%|          | 3/1276 [00:10<1:21:59,  3.86s/it]"
     ]
    },
    {
     "name": "stdout",
     "output_type": "stream",
     "text": [
      "STOP CODE:  Stay unchanged in the last 6 iterations\n",
      "> SA ENDS....... \n",
      "\n",
      "> avg loss: 2.8421457910573897\n",
      "> For the *3_th* data_key\n",
      "> retail = 89.99,bidincrement = 0.15, bidfee = 0.75, infer PT's parameters\n",
      "> Now do SA....... \n",
      "\n"
     ]
    },
    {
     "name": "stderr",
     "output_type": "stream",
     "text": [
      "  0%|          | 4/1276 [00:14<1:16:43,  3.62s/it]"
     ]
    },
    {
     "name": "stdout",
     "output_type": "stream",
     "text": [
      "STOP CODE:  Stay unchanged in the last 6 iterations\n",
      "> SA ENDS....... \n",
      "\n",
      "> avg loss: 2.337520699255813\n",
      "> For the *4_th* data_key\n",
      "> retail = 59.99,bidincrement = 0.15, bidfee = 0.75, infer PT's parameters\n",
      "> Now do SA....... \n",
      "\n"
     ]
    },
    {
     "name": "stderr",
     "output_type": "stream",
     "text": [
      "  0%|          | 5/1276 [00:18<1:25:53,  4.05s/it]"
     ]
    },
    {
     "name": "stdout",
     "output_type": "stream",
     "text": [
      "STOP CODE:  Stay unchanged in the last 6 iterations\n",
      "> SA ENDS....... \n",
      "\n",
      "> avg loss: 3.0390163625175903\n",
      "> For the *5_th* data_key\n",
      "> retail = 49.99,bidincrement = 0.15, bidfee = 0.75, infer PT's parameters\n",
      "> Now do SA....... \n",
      "\n"
     ]
    },
    {
     "name": "stderr",
     "output_type": "stream",
     "text": [
      "  0%|          | 6/1276 [00:22<1:21:29,  3.85s/it]"
     ]
    },
    {
     "name": "stdout",
     "output_type": "stream",
     "text": [
      "STOP CODE:  Stay unchanged in the last 6 iterations\n",
      "> SA ENDS....... \n",
      "\n",
      "> avg loss: 2.204525591967467\n",
      "> For the *6_th* data_key\n",
      "> retail = 399.99,bidincrement = 0.15, bidfee = 0.75, infer PT's parameters\n",
      "> Now do SA....... \n",
      "\n"
     ]
    },
    {
     "name": "stderr",
     "output_type": "stream",
     "text": [
      "  1%|          | 7/1276 [00:27<1:32:44,  4.38s/it]"
     ]
    },
    {
     "name": "stdout",
     "output_type": "stream",
     "text": [
      "STOP CODE:  Stay unchanged in the last 6 iterations\n",
      "> SA ENDS....... \n",
      "\n",
      "> avg loss: 23.025850848035883\n",
      "> For the *7_th* data_key\n",
      "> retail = 129.99,bidincrement = 0.15, bidfee = 0.75, infer PT's parameters\n",
      "> Now do SA....... \n",
      "\n"
     ]
    },
    {
     "name": "stderr",
     "output_type": "stream",
     "text": [
      "  1%|          | 8/1276 [00:31<1:29:32,  4.24s/it]"
     ]
    },
    {
     "name": "stdout",
     "output_type": "stream",
     "text": [
      "STOP CODE:  Stay unchanged in the last 6 iterations\n",
      "> SA ENDS....... \n",
      "\n",
      "> avg loss: 2.5947865673468926\n",
      "> For the *8_th* data_key\n",
      "> retail = 39.95,bidincrement = 0.15, bidfee = 0.75, infer PT's parameters\n",
      "> Now do SA....... \n",
      "\n"
     ]
    },
    {
     "name": "stderr",
     "output_type": "stream",
     "text": [
      "  1%|          | 9/1276 [00:36<1:31:49,  4.35s/it]"
     ]
    },
    {
     "name": "stdout",
     "output_type": "stream",
     "text": [
      "STOP CODE:  Stay unchanged in the last 6 iterations\n",
      "> SA ENDS....... \n",
      "\n",
      "> avg loss: 2.782837112670589\n",
      "> For the *9_th* data_key\n",
      "> retail = 549.99,bidincrement = 0.15, bidfee = 0.75, infer PT's parameters\n",
      "> Now do SA....... \n",
      "\n"
     ]
    },
    {
     "name": "stderr",
     "output_type": "stream",
     "text": [
      "  1%|          | 10/1276 [01:02<3:53:43, 11.08s/it]"
     ]
    },
    {
     "name": "stdout",
     "output_type": "stream",
     "text": [
      "STOP CODE:  Stay unchanged in the last 6 iterations\n",
      "> SA ENDS....... \n",
      "\n",
      "> avg loss: 2.7092047281144747\n",
      "> For the *10_th* data_key\n",
      "> retail = 49.99,bidincrement = 0.15, bidfee = 0.75, infer PT's parameters\n",
      "> Now do SA....... \n",
      "\n"
     ]
    },
    {
     "name": "stderr",
     "output_type": "stream",
     "text": [
      "  1%|          | 11/1276 [01:05<3:03:55,  8.72s/it]"
     ]
    },
    {
     "name": "stdout",
     "output_type": "stream",
     "text": [
      "STOP CODE:  Stay unchanged in the last 6 iterations\n",
      "> SA ENDS....... \n",
      "\n",
      "> avg loss: 2.1397478350202896\n",
      "> For the *11_th* data_key\n",
      "> retail = 129.99,bidincrement = 0.15, bidfee = 0.75, infer PT's parameters\n",
      "> Now do SA....... \n",
      "\n"
     ]
    },
    {
     "name": "stderr",
     "output_type": "stream",
     "text": [
      "  1%|          | 12/1276 [01:10<2:34:41,  7.34s/it]"
     ]
    },
    {
     "name": "stdout",
     "output_type": "stream",
     "text": [
      "STOP CODE:  Stay unchanged in the last 6 iterations\n",
      "> SA ENDS....... \n",
      "\n",
      "> avg loss: 2.3844537983632894\n",
      "> For the *12_th* data_key\n",
      "> retail = 69.99,bidincrement = 0.15, bidfee = 0.75, infer PT's parameters\n",
      "> Now do SA....... \n",
      "\n"
     ]
    },
    {
     "name": "stderr",
     "output_type": "stream",
     "text": [
      "  1%|          | 13/1276 [01:15<2:24:48,  6.88s/it]"
     ]
    },
    {
     "name": "stdout",
     "output_type": "stream",
     "text": [
      "STOP CODE:  Stay unchanged in the last 6 iterations\n",
      "> SA ENDS....... \n",
      "\n",
      "> avg loss: 2.790102438939075\n",
      "> For the *13_th* data_key\n",
      "> retail = 899.99,bidincrement = 0.15, bidfee = 0.75, infer PT's parameters\n",
      "> Now do SA....... \n",
      "\n"
     ]
    },
    {
     "name": "stderr",
     "output_type": "stream",
     "text": [
      "  1%|          | 14/1276 [01:32<3:25:25,  9.77s/it]"
     ]
    },
    {
     "name": "stdout",
     "output_type": "stream",
     "text": [
      "STOP CODE:  Stay unchanged in the last 6 iterations\n",
      "> SA ENDS....... \n",
      "\n",
      "> avg loss: 7.861993111135583\n",
      "> For the *14_th* data_key\n",
      "> retail = 129.99,bidincrement = 0.15, bidfee = 0.75, infer PT's parameters\n",
      "> Now do SA....... \n",
      "\n"
     ]
    },
    {
     "name": "stderr",
     "output_type": "stream",
     "text": [
      "  1%|          | 15/1276 [01:36<2:51:52,  8.18s/it]"
     ]
    },
    {
     "name": "stdout",
     "output_type": "stream",
     "text": [
      "STOP CODE:  Stay unchanged in the last 6 iterations\n",
      "> SA ENDS....... \n",
      "\n",
      "> avg loss: 22.790365880879975\n",
      "> For the *15_th* data_key\n",
      "> retail = 249.99,bidincrement = 0.15, bidfee = 0.75, infer PT's parameters\n",
      "> Now do SA....... \n",
      "\n"
     ]
    },
    {
     "name": "stderr",
     "output_type": "stream",
     "text": [
      "  1%|▏         | 16/1276 [01:42<2:37:14,  7.49s/it]"
     ]
    },
    {
     "name": "stdout",
     "output_type": "stream",
     "text": [
      "STOP CODE:  Stay unchanged in the last 6 iterations\n",
      "> SA ENDS....... \n",
      "\n",
      "> avg loss: 2.165799174920252\n",
      "> For the *16_th* data_key\n",
      "> retail = 129.99,bidincrement = 0.15, bidfee = 0.75, infer PT's parameters\n",
      "> Now do SA....... \n",
      "\n"
     ]
    },
    {
     "name": "stderr",
     "output_type": "stream",
     "text": [
      "  1%|▏         | 17/1276 [01:48<2:27:48,  7.04s/it]"
     ]
    },
    {
     "name": "stdout",
     "output_type": "stream",
     "text": [
      "STOP CODE:  Stay unchanged in the last 6 iterations\n",
      "> SA ENDS....... \n",
      "\n",
      "> avg loss: 2.422122148531641\n",
      "> For the *17_th* data_key\n",
      "> retail = 129.99,bidincrement = 0.15, bidfee = 0.75, infer PT's parameters\n",
      "> Now do SA....... \n",
      "\n"
     ]
    },
    {
     "name": "stderr",
     "output_type": "stream",
     "text": [
      "  1%|▏         | 18/1276 [01:53<2:14:03,  6.39s/it]"
     ]
    },
    {
     "name": "stdout",
     "output_type": "stream",
     "text": [
      "STOP CODE:  Stay unchanged in the last 6 iterations\n",
      "> SA ENDS....... \n",
      "\n",
      "> avg loss: 2.31502804233203\n",
      "> For the *18_th* data_key\n",
      "> retail = 49.99,bidincrement = 0.15, bidfee = 0.75, infer PT's parameters\n",
      "> Now do SA....... \n",
      "\n"
     ]
    },
    {
     "name": "stderr",
     "output_type": "stream",
     "text": [
      "  1%|▏         | 19/1276 [01:57<1:55:24,  5.51s/it]"
     ]
    },
    {
     "name": "stdout",
     "output_type": "stream",
     "text": [
      "STOP CODE:  Stay unchanged in the last 6 iterations\n",
      "> SA ENDS....... \n",
      "\n",
      "> avg loss: 2.3190277067567475\n",
      "> For the *19_th* data_key\n",
      "> retail = 499.99,bidincrement = 0.15, bidfee = 0.75, infer PT's parameters\n",
      "> Now do SA....... \n",
      "\n"
     ]
    },
    {
     "name": "stderr",
     "output_type": "stream",
     "text": [
      "  2%|▏         | 20/1276 [02:19<3:43:40, 10.68s/it]"
     ]
    },
    {
     "name": "stdout",
     "output_type": "stream",
     "text": [
      "STOP CODE:  Stay unchanged in the last 6 iterations\n",
      "> SA ENDS....... \n",
      "\n",
      "> avg loss: 2.855517731711168\n",
      "> For the *20_th* data_key\n",
      "> retail = 80.0,bidincrement = 0.0, bidfee = 0.75, infer PT's parameters\n",
      "> Now do SA....... \n",
      "\n"
     ]
    },
    {
     "name": "stderr",
     "output_type": "stream",
     "text": [
      "  2%|▏         | 21/1276 [02:22<2:52:01,  8.22s/it]"
     ]
    },
    {
     "name": "stdout",
     "output_type": "stream",
     "text": [
      "STOP CODE:  Stay unchanged in the last 6 iterations\n",
      "> SA ENDS....... \n",
      "\n",
      "> avg loss: 5.658718659729118\n",
      "> For the *21_th* data_key\n",
      "> retail = 1000.0,bidincrement = 0.0, bidfee = 0.75, infer PT's parameters\n",
      "> Now do SA....... \n",
      "\n"
     ]
    },
    {
     "name": "stderr",
     "output_type": "stream",
     "text": [
      "  2%|▏         | 22/1276 [02:23<2:09:58,  6.22s/it]"
     ]
    },
    {
     "name": "stdout",
     "output_type": "stream",
     "text": [
      "STOP CODE:  Stay unchanged in the last 6 iterations\n",
      "> SA ENDS....... \n",
      "\n",
      "> avg loss: 22.949606335894803\n",
      "> For the *22_th* data_key\n",
      "> retail = 50.0,bidincrement = 0.0, bidfee = 0.75, infer PT's parameters\n",
      "> Now do SA....... \n",
      "\n"
     ]
    },
    {
     "name": "stderr",
     "output_type": "stream",
     "text": [
      "  2%|▏         | 23/1276 [02:25<1:43:23,  4.95s/it]"
     ]
    },
    {
     "name": "stdout",
     "output_type": "stream",
     "text": [
      "STOP CODE:  Stay unchanged in the last 6 iterations\n",
      "> SA ENDS....... \n",
      "\n",
      "> avg loss: 5.2569586892588145\n",
      "> For the *23_th* data_key\n",
      "> retail = 300.0,bidincrement = 0.0, bidfee = 0.75, infer PT's parameters\n",
      "> Now do SA....... \n",
      "\n"
     ]
    },
    {
     "name": "stderr",
     "output_type": "stream",
     "text": [
      "  2%|▏         | 24/1276 [02:28<1:28:09,  4.22s/it]"
     ]
    },
    {
     "name": "stdout",
     "output_type": "stream",
     "text": [
      "STOP CODE:  Stay unchanged in the last 6 iterations\n",
      "> SA ENDS....... \n",
      "\n",
      "> avg loss: 22.9779800840013\n",
      "> For the *24_th* data_key\n",
      "> retail = 44.99,bidincrement = 0.15, bidfee = 0.75, infer PT's parameters\n",
      "> Now do SA....... \n",
      "\n"
     ]
    },
    {
     "name": "stderr",
     "output_type": "stream",
     "text": [
      "  2%|▏         | 25/1276 [02:30<1:18:14,  3.75s/it]"
     ]
    },
    {
     "name": "stdout",
     "output_type": "stream",
     "text": [
      "STOP CODE:  Stay unchanged in the last 6 iterations\n",
      "> SA ENDS....... \n",
      "\n",
      "> avg loss: 3.22751694512667\n",
      "> For the *25_th* data_key\n",
      "> retail = 118.0,bidincrement = 0.15, bidfee = 0.75, infer PT's parameters\n",
      "> Now do SA....... \n",
      "\n"
     ]
    },
    {
     "name": "stderr",
     "output_type": "stream",
     "text": [
      "  2%|▏         | 26/1276 [02:38<1:40:50,  4.84s/it]"
     ]
    },
    {
     "name": "stdout",
     "output_type": "stream",
     "text": [
      "STOP CODE:  Stay unchanged in the last 6 iterations\n",
      "> SA ENDS....... \n",
      "\n",
      "> avg loss: 2.9634385185397227\n",
      "> For the *26_th* data_key\n",
      "> retail = 320.0,bidincrement = 0.0, bidfee = 0.75, infer PT's parameters\n",
      "> Now do SA....... \n",
      "\n"
     ]
    },
    {
     "name": "stderr",
     "output_type": "stream",
     "text": [
      "  2%|▏         | 27/1276 [02:42<1:36:24,  4.63s/it]"
     ]
    },
    {
     "name": "stdout",
     "output_type": "stream",
     "text": [
      "STOP CODE:  Stay unchanged in the last 6 iterations\n",
      "> SA ENDS....... \n",
      "\n",
      "> avg loss: 6.692494945457512\n",
      "> For the *27_th* data_key\n",
      "> retail = 39.99,bidincrement = 0.15, bidfee = 0.75, infer PT's parameters\n",
      "> Now do SA....... \n",
      "\n"
     ]
    },
    {
     "name": "stderr",
     "output_type": "stream",
     "text": [
      "  2%|▏         | 28/1276 [02:44<1:22:20,  3.96s/it]"
     ]
    },
    {
     "name": "stdout",
     "output_type": "stream",
     "text": [
      "STOP CODE:  Stay unchanged in the last 6 iterations\n",
      "> SA ENDS....... \n",
      "\n",
      "> avg loss: 2.2715575705484485\n",
      "> For the *28_th* data_key\n",
      "> retail = 949.99,bidincrement = 0.0, bidfee = 0.75, infer PT's parameters\n",
      "> Now do SA....... \n",
      "\n"
     ]
    },
    {
     "name": "stderr",
     "output_type": "stream",
     "text": [
      "  2%|▏         | 29/1276 [02:47<1:15:02,  3.61s/it]"
     ]
    },
    {
     "name": "stdout",
     "output_type": "stream",
     "text": [
      "STOP CODE:  Stay unchanged in the last 6 iterations\n",
      "> SA ENDS....... \n",
      "\n",
      "> avg loss: 22.97737541202114\n",
      "> For the *29_th* data_key\n",
      "> retail = 399.99,bidincrement = 0.15, bidfee = 0.75, infer PT's parameters\n",
      "> Now do SA....... \n",
      "\n"
     ]
    },
    {
     "name": "stderr",
     "output_type": "stream",
     "text": [
      "  2%|▏         | 30/1276 [03:02<2:22:12,  6.85s/it]"
     ]
    },
    {
     "name": "stdout",
     "output_type": "stream",
     "text": [
      "STOP CODE:  Stay unchanged in the last 6 iterations\n",
      "> SA ENDS....... \n",
      "\n",
      "> avg loss: 2.4470281427806975\n",
      "> For the *30_th* data_key\n",
      "> retail = 57.0,bidincrement = 0.15, bidfee = 0.75, infer PT's parameters\n",
      "> Now do SA....... \n",
      "\n"
     ]
    },
    {
     "name": "stderr",
     "output_type": "stream",
     "text": [
      "  2%|▏         | 31/1276 [03:09<2:23:25,  6.91s/it]"
     ]
    },
    {
     "name": "stdout",
     "output_type": "stream",
     "text": [
      "STOP CODE:  Stay unchanged in the last 6 iterations\n",
      "> SA ENDS....... \n",
      "\n",
      "> avg loss: 4.121879474521358\n",
      "> For the *31_th* data_key\n",
      "> retail = 69.99,bidincrement = 0.15, bidfee = 0.75, infer PT's parameters\n",
      "> Now do SA....... \n",
      "\n"
     ]
    },
    {
     "name": "stderr",
     "output_type": "stream",
     "text": [
      "  3%|▎         | 32/1276 [03:12<1:58:35,  5.72s/it]"
     ]
    },
    {
     "name": "stdout",
     "output_type": "stream",
     "text": [
      "STOP CODE:  Stay unchanged in the last 6 iterations\n",
      "> SA ENDS....... \n",
      "\n",
      "> avg loss: 2.304332801502343\n",
      "> For the *32_th* data_key\n",
      "> retail = 159.99,bidincrement = 0.15, bidfee = 0.75, infer PT's parameters\n",
      "> Now do SA....... \n",
      "\n"
     ]
    },
    {
     "name": "stderr",
     "output_type": "stream",
     "text": [
      "  3%|▎         | 33/1276 [03:17<1:56:28,  5.62s/it]"
     ]
    },
    {
     "name": "stdout",
     "output_type": "stream",
     "text": [
      "STOP CODE:  Stay unchanged in the last 6 iterations\n",
      "> SA ENDS....... \n",
      "\n",
      "> avg loss: 4.77737822231109\n",
      "> For the *33_th* data_key\n",
      "> retail = 220.0,bidincrement = 0.0, bidfee = 0.75, infer PT's parameters\n",
      "> Now do SA....... \n",
      "\n"
     ]
    },
    {
     "name": "stderr",
     "output_type": "stream",
     "text": [
      "  3%|▎         | 34/1276 [03:21<1:47:34,  5.20s/it]"
     ]
    },
    {
     "name": "stdout",
     "output_type": "stream",
     "text": [
      "STOP CODE:  Stay unchanged in the last 6 iterations\n",
      "> SA ENDS....... \n",
      "\n",
      "> avg loss: 6.386707279709892\n",
      "> For the *34_th* data_key\n",
      "> retail = 330.0,bidincrement = 0.0, bidfee = 0.75, infer PT's parameters\n",
      "> Now do SA....... \n",
      "\n"
     ]
    },
    {
     "name": "stderr",
     "output_type": "stream",
     "text": [
      "  3%|▎         | 35/1276 [03:28<1:55:14,  5.57s/it]"
     ]
    },
    {
     "name": "stdout",
     "output_type": "stream",
     "text": [
      "STOP CODE:  Stay unchanged in the last 6 iterations\n",
      "> SA ENDS....... \n",
      "\n",
      "> avg loss: 6.6315499624251775\n",
      "> For the *35_th* data_key\n",
      "> retail = 50.0,bidincrement = 0.15, bidfee = 0.75, infer PT's parameters\n",
      "> Now do SA....... \n",
      "\n"
     ]
    },
    {
     "name": "stderr",
     "output_type": "stream",
     "text": [
      "  3%|▎         | 36/1276 [03:30<1:36:22,  4.66s/it]"
     ]
    },
    {
     "name": "stdout",
     "output_type": "stream",
     "text": [
      "STOP CODE:  Stay unchanged in the last 6 iterations\n",
      "> SA ENDS....... \n",
      "\n",
      "> avg loss: 3.4151410714421675\n",
      "> For the *36_th* data_key\n",
      "> retail = 149.99,bidincrement = 0.15, bidfee = 0.75, infer PT's parameters\n",
      "> Now do SA....... \n",
      "\n"
     ]
    },
    {
     "name": "stderr",
     "output_type": "stream",
     "text": [
      "  3%|▎         | 37/1276 [03:37<1:50:26,  5.35s/it]"
     ]
    },
    {
     "name": "stdout",
     "output_type": "stream",
     "text": [
      "STOP CODE:  Stay unchanged in the last 6 iterations\n",
      "> SA ENDS....... \n",
      "\n",
      "> avg loss: 3.5335463523504806\n",
      "> For the *37_th* data_key\n",
      "> retail = 23.99,bidincrement = 0.15, bidfee = 0.75, infer PT's parameters\n",
      "> Now do SA....... \n",
      "\n"
     ]
    },
    {
     "name": "stderr",
     "output_type": "stream",
     "text": [
      "  3%|▎         | 38/1276 [03:38<1:24:38,  4.10s/it]"
     ]
    },
    {
     "name": "stdout",
     "output_type": "stream",
     "text": [
      "STOP CODE:  Stay unchanged in the last 6 iterations\n",
      "> SA ENDS....... \n",
      "\n",
      "> avg loss: 2.3630368816854053\n",
      "> For the *38_th* data_key\n",
      "> retail = 599.0,bidincrement = 0.15, bidfee = 0.75, infer PT's parameters\n",
      "> Now do SA....... \n",
      "\n"
     ]
    },
    {
     "name": "stderr",
     "output_type": "stream",
     "text": [
      "  3%|▎         | 39/1276 [03:47<1:50:55,  5.38s/it]"
     ]
    },
    {
     "name": "stdout",
     "output_type": "stream",
     "text": [
      "STOP CODE:  Stay unchanged in the last 6 iterations\n",
      "> SA ENDS....... \n",
      "\n",
      "> avg loss: 23.025850847689437\n",
      "> For the *39_th* data_key\n",
      "> retail = 599.0,bidincrement = 0.15, bidfee = 0.75, infer PT's parameters\n",
      "> Now do SA....... \n",
      "\n"
     ]
    },
    {
     "name": "stderr",
     "output_type": "stream",
     "text": [
      "  3%|▎         | 40/1276 [03:55<2:08:35,  6.24s/it]"
     ]
    },
    {
     "name": "stdout",
     "output_type": "stream",
     "text": [
      "STOP CODE:  Stay unchanged in the last 6 iterations\n",
      "> SA ENDS....... \n",
      "\n",
      "> avg loss: 23.025850847756494\n",
      "> For the *40_th* data_key\n",
      "> retail = 24.99,bidincrement = 0.15, bidfee = 0.75, infer PT's parameters\n",
      "> Now do SA....... \n",
      "\n"
     ]
    },
    {
     "name": "stderr",
     "output_type": "stream",
     "text": [
      "  3%|▎         | 41/1276 [03:59<1:53:03,  5.49s/it]"
     ]
    },
    {
     "name": "stdout",
     "output_type": "stream",
     "text": [
      "STOP CODE:  Stay unchanged in the last 6 iterations\n",
      "> SA ENDS....... \n",
      "\n",
      "> avg loss: 2.437615203034761\n",
      "> For the *41_th* data_key\n",
      "> retail = 569.0,bidincrement = 0.15, bidfee = 0.75, infer PT's parameters\n",
      "> Now do SA....... \n",
      "\n"
     ]
    },
    {
     "name": "stderr",
     "output_type": "stream",
     "text": [
      "  3%|▎         | 42/1276 [04:29<4:28:10, 13.04s/it]"
     ]
    },
    {
     "name": "stdout",
     "output_type": "stream",
     "text": [
      "STOP CODE:  Stay unchanged in the last 6 iterations\n",
      "> SA ENDS....... \n",
      "\n",
      "> avg loss: 2.478590792500281\n",
      "> For the *42_th* data_key\n",
      "> retail = 1299.99,bidincrement = 0.01, bidfee = 0.75, infer PT's parameters\n",
      "> Now do SA....... \n",
      "\n"
     ]
    },
    {
     "name": "stderr",
     "output_type": "stream",
     "text": [
      "  3%|▎         | 43/1276 [06:32<15:44:10, 45.95s/it]"
     ]
    },
    {
     "name": "stdout",
     "output_type": "stream",
     "text": [
      "> 超时\n",
      "> SA ENDS....... \n",
      "\n",
      "> avg loss: 23.02585102757264\n",
      "> For the *43_th* data_key\n",
      "> retail = 399.99,bidincrement = 0.15, bidfee = 0.75, infer PT's parameters\n",
      "> Now do SA....... \n",
      "\n"
     ]
    },
    {
     "name": "stderr",
     "output_type": "stream",
     "text": [
      "  3%|▎         | 44/1276 [06:38<11:36:49, 33.94s/it]"
     ]
    },
    {
     "name": "stdout",
     "output_type": "stream",
     "text": [
      "STOP CODE:  Stay unchanged in the last 6 iterations\n",
      "> SA ENDS....... \n",
      "\n",
      "> avg loss: 23.02585084784992\n",
      "> For the *44_th* data_key\n",
      "> retail = 399.99,bidincrement = 0.15, bidfee = 0.75, infer PT's parameters\n",
      "> Now do SA....... \n",
      "\n"
     ]
    },
    {
     "name": "stderr",
     "output_type": "stream",
     "text": [
      "  4%|▎         | 45/1276 [06:54<9:43:35, 28.45s/it] "
     ]
    },
    {
     "name": "stdout",
     "output_type": "stream",
     "text": [
      "STOP CODE:  Stay unchanged in the last 6 iterations\n",
      "> SA ENDS....... \n",
      "\n",
      "> avg loss: 2.9161136869916033\n",
      "> For the *45_th* data_key\n",
      "> retail = 1199.99,bidincrement = 0.01, bidfee = 0.75, infer PT's parameters\n",
      "> Now do SA....... \n",
      "\n"
     ]
    },
    {
     "name": "stderr",
     "output_type": "stream",
     "text": [
      "  4%|▎         | 46/1276 [08:56<19:21:19, 56.65s/it]"
     ]
    },
    {
     "name": "stdout",
     "output_type": "stream",
     "text": [
      "> 超时\n",
      "> SA ENDS....... \n",
      "\n",
      "> avg loss: 23.02585100858321\n",
      "> For the *46_th* data_key\n",
      "> retail = 249.99,bidincrement = 0.15, bidfee = 0.75, infer PT's parameters\n",
      "> Now do SA....... \n",
      "\n"
     ]
    },
    {
     "name": "stderr",
     "output_type": "stream",
     "text": [
      "  4%|▎         | 47/1276 [09:06<14:31:08, 42.53s/it]"
     ]
    },
    {
     "name": "stdout",
     "output_type": "stream",
     "text": [
      "STOP CODE:  Stay unchanged in the last 6 iterations\n",
      "> SA ENDS....... \n",
      "\n",
      "> avg loss: 2.8196891855721957\n",
      "> For the *47_th* data_key\n",
      "> retail = 49.99,bidincrement = 0.15, bidfee = 0.75, infer PT's parameters\n",
      "> Now do SA....... \n",
      "\n"
     ]
    },
    {
     "name": "stderr",
     "output_type": "stream",
     "text": [
      "  4%|▍         | 48/1276 [09:08<10:26:54, 30.63s/it]"
     ]
    },
    {
     "name": "stdout",
     "output_type": "stream",
     "text": [
      "STOP CODE:  Stay unchanged in the last 6 iterations\n",
      "> SA ENDS....... \n",
      "\n",
      "> avg loss: 2.10174655460265\n",
      "> For the *48_th* data_key\n",
      "> retail = 65.0,bidincrement = 0.15, bidfee = 0.75, infer PT's parameters\n",
      "> Now do SA....... \n",
      "\n"
     ]
    },
    {
     "name": "stderr",
     "output_type": "stream",
     "text": [
      "  4%|▍         | 49/1276 [09:11<7:34:21, 22.22s/it] "
     ]
    },
    {
     "name": "stdout",
     "output_type": "stream",
     "text": [
      "STOP CODE:  Stay unchanged in the last 6 iterations\n",
      "> SA ENDS....... \n",
      "\n",
      "> avg loss: 4.34553626993658\n",
      "> For the *49_th* data_key\n",
      "> retail = 95.0,bidincrement = 0.15, bidfee = 0.75, infer PT's parameters\n",
      "> Now do SA....... \n",
      "\n"
     ]
    },
    {
     "name": "stderr",
     "output_type": "stream",
     "text": [
      "  4%|▍         | 50/1276 [09:18<6:03:15, 17.78s/it]"
     ]
    },
    {
     "name": "stdout",
     "output_type": "stream",
     "text": [
      "STOP CODE:  Stay unchanged in the last 6 iterations\n",
      "> SA ENDS....... \n",
      "\n",
      "> avg loss: 3.3252781989368514\n",
      "> For the *50_th* data_key\n",
      "> retail = 69.99,bidincrement = 0.15, bidfee = 0.75, infer PT's parameters\n",
      "> Now do SA....... \n",
      "\n"
     ]
    },
    {
     "name": "stderr",
     "output_type": "stream",
     "text": [
      "  4%|▍         | 51/1276 [09:23<4:39:04, 13.67s/it]"
     ]
    },
    {
     "name": "stdout",
     "output_type": "stream",
     "text": [
      "STOP CODE:  Stay unchanged in the last 6 iterations\n",
      "> SA ENDS....... \n",
      "\n",
      "> avg loss: 3.196022753512588\n",
      "> For the *51_th* data_key\n",
      "> retail = 349.99,bidincrement = 0.15, bidfee = 0.75, infer PT's parameters\n",
      "> Now do SA....... \n",
      "\n"
     ]
    },
    {
     "name": "stderr",
     "output_type": "stream",
     "text": [
      "  4%|▍         | 52/1276 [09:30<4:03:18, 11.93s/it]"
     ]
    },
    {
     "name": "stdout",
     "output_type": "stream",
     "text": [
      "STOP CODE:  Stay unchanged in the last 6 iterations\n",
      "> SA ENDS....... \n",
      "\n",
      "> avg loss: 3.298195800212243\n",
      "> For the *52_th* data_key\n",
      "> retail = 189.99,bidincrement = 0.15, bidfee = 0.75, infer PT's parameters\n",
      "> Now do SA....... \n",
      "\n"
     ]
    },
    {
     "name": "stderr",
     "output_type": "stream",
     "text": [
      "  4%|▍         | 53/1276 [09:37<3:29:35, 10.28s/it]"
     ]
    },
    {
     "name": "stdout",
     "output_type": "stream",
     "text": [
      "STOP CODE:  Stay unchanged in the last 6 iterations\n",
      "> SA ENDS....... \n",
      "\n",
      "> avg loss: 3.995882234673649\n",
      "> For the *53_th* data_key\n",
      "> retail = 99.99,bidincrement = 0.15, bidfee = 0.75, infer PT's parameters\n",
      "> Now do SA....... \n",
      "\n"
     ]
    },
    {
     "name": "stderr",
     "output_type": "stream",
     "text": [
      "  4%|▍         | 54/1276 [09:40<2:45:57,  8.15s/it]"
     ]
    },
    {
     "name": "stdout",
     "output_type": "stream",
     "text": [
      "STOP CODE:  Stay unchanged in the last 6 iterations\n",
      "> SA ENDS....... \n",
      "\n",
      "> avg loss: 3.7204243314049337\n",
      "> For the *54_th* data_key\n",
      "> retail = 139.99,bidincrement = 0.15, bidfee = 0.75, infer PT's parameters\n",
      "> Now do SA....... \n",
      "\n"
     ]
    },
    {
     "name": "stderr",
     "output_type": "stream",
     "text": [
      "  4%|▍         | 55/1276 [09:43<2:12:13,  6.50s/it]"
     ]
    },
    {
     "name": "stdout",
     "output_type": "stream",
     "text": [
      "STOP CODE:  Stay unchanged in the last 6 iterations\n",
      "> SA ENDS....... \n",
      "\n",
      "> avg loss: 23.025850849331256\n",
      "> For the *55_th* data_key\n",
      "> retail = 169.99,bidincrement = 0.15, bidfee = 0.75, infer PT's parameters\n",
      "> Now do SA....... \n",
      "\n"
     ]
    },
    {
     "name": "stderr",
     "output_type": "stream",
     "text": [
      "  4%|▍         | 56/1276 [09:49<2:11:16,  6.46s/it]"
     ]
    },
    {
     "name": "stdout",
     "output_type": "stream",
     "text": [
      "STOP CODE:  Stay unchanged in the last 6 iterations\n",
      "> SA ENDS....... \n",
      "\n",
      "> avg loss: 4.169816694185048\n",
      "> For the *56_th* data_key\n",
      "> retail = 99.99,bidincrement = 0.15, bidfee = 0.75, infer PT's parameters\n",
      "> Now do SA....... \n",
      "\n"
     ]
    },
    {
     "name": "stderr",
     "output_type": "stream",
     "text": [
      "  4%|▍         | 57/1276 [09:52<1:48:45,  5.35s/it]"
     ]
    },
    {
     "name": "stdout",
     "output_type": "stream",
     "text": [
      "STOP CODE:  Stay unchanged in the last 6 iterations\n",
      "> SA ENDS....... \n",
      "\n",
      "> avg loss: 2.812977873911806\n",
      "> For the *57_th* data_key\n",
      "> retail = 289.99,bidincrement = 0.15, bidfee = 0.75, infer PT's parameters\n",
      "> Now do SA....... \n",
      "\n"
     ]
    },
    {
     "name": "stderr",
     "output_type": "stream",
     "text": [
      "  5%|▍         | 58/1276 [10:08<2:57:04,  8.72s/it]"
     ]
    },
    {
     "name": "stdout",
     "output_type": "stream",
     "text": [
      "STOP CODE:  Stay unchanged in the last 6 iterations\n",
      "> SA ENDS....... \n",
      "\n",
      "> avg loss: 3.4027640880913324\n",
      "> For the *58_th* data_key\n",
      "> retail = 89.99,bidincrement = 0.15, bidfee = 0.75, infer PT's parameters\n",
      "> Now do SA....... \n",
      "\n"
     ]
    },
    {
     "name": "stderr",
     "output_type": "stream",
     "text": [
      "  5%|▍         | 59/1276 [10:12<2:27:27,  7.27s/it]"
     ]
    },
    {
     "name": "stdout",
     "output_type": "stream",
     "text": [
      "STOP CODE:  Stay unchanged in the last 6 iterations\n",
      "> SA ENDS....... \n",
      "\n",
      "> avg loss: 3.6110725464714624\n",
      "> For the *59_th* data_key\n",
      "> retail = 79.99,bidincrement = 0.15, bidfee = 0.75, infer PT's parameters\n",
      "> Now do SA....... \n",
      "\n"
     ]
    },
    {
     "name": "stderr",
     "output_type": "stream",
     "text": [
      "  5%|▍         | 60/1276 [10:16<2:07:42,  6.30s/it]"
     ]
    },
    {
     "name": "stdout",
     "output_type": "stream",
     "text": [
      "STOP CODE:  Stay unchanged in the last 6 iterations\n",
      "> SA ENDS....... \n",
      "\n",
      "> avg loss: 2.70066336488507\n",
      "> For the *60_th* data_key\n",
      "> retail = 69.99,bidincrement = 0.15, bidfee = 0.75, infer PT's parameters\n",
      "> Now do SA....... \n",
      "\n"
     ]
    },
    {
     "name": "stderr",
     "output_type": "stream",
     "text": [
      "  5%|▍         | 61/1276 [10:18<1:41:48,  5.03s/it]"
     ]
    },
    {
     "name": "stdout",
     "output_type": "stream",
     "text": [
      "STOP CODE:  Stay unchanged in the last 6 iterations\n",
      "> SA ENDS....... \n",
      "\n",
      "> avg loss: 3.0276882144915587\n",
      "> For the *61_th* data_key\n",
      "> retail = 89.99,bidincrement = 0.15, bidfee = 0.75, infer PT's parameters\n",
      "> Now do SA....... \n",
      "\n"
     ]
    },
    {
     "name": "stderr",
     "output_type": "stream",
     "text": [
      "  5%|▍         | 62/1276 [10:24<1:42:34,  5.07s/it]"
     ]
    },
    {
     "name": "stdout",
     "output_type": "stream",
     "text": [
      "STOP CODE:  Stay unchanged in the last 6 iterations\n",
      "> SA ENDS....... \n",
      "\n",
      "> avg loss: 2.873056664250434\n",
      "> For the *62_th* data_key\n",
      "> retail = 69.95,bidincrement = 0.15, bidfee = 0.75, infer PT's parameters\n",
      "> Now do SA....... \n",
      "\n"
     ]
    },
    {
     "name": "stderr",
     "output_type": "stream",
     "text": [
      "  5%|▍         | 63/1276 [10:27<1:35:15,  4.71s/it]"
     ]
    },
    {
     "name": "stdout",
     "output_type": "stream",
     "text": [
      "STOP CODE:  Stay unchanged in the last 6 iterations\n",
      "> SA ENDS....... \n",
      "\n",
      "> avg loss: 3.8332941695205656\n",
      "> For the *63_th* data_key\n",
      "> retail = 279.99,bidincrement = 0.15, bidfee = 0.75, infer PT's parameters\n",
      "> Now do SA....... \n",
      "\n"
     ]
    },
    {
     "name": "stderr",
     "output_type": "stream",
     "text": [
      "  5%|▌         | 64/1276 [10:32<1:31:36,  4.53s/it]"
     ]
    },
    {
     "name": "stdout",
     "output_type": "stream",
     "text": [
      "STOP CODE:  Stay unchanged in the last 6 iterations\n",
      "> SA ENDS....... \n",
      "\n",
      "> avg loss: 23.0258508478755\n",
      "> For the *64_th* data_key\n",
      "> retail = 99.99,bidincrement = 0.15, bidfee = 0.75, infer PT's parameters\n",
      "> Now do SA....... \n",
      "\n"
     ]
    },
    {
     "name": "stderr",
     "output_type": "stream",
     "text": [
      "  5%|▌         | 65/1276 [10:39<1:51:59,  5.55s/it]"
     ]
    },
    {
     "name": "stdout",
     "output_type": "stream",
     "text": [
      "STOP CODE:  Stay unchanged in the last 6 iterations\n",
      "> SA ENDS....... \n",
      "\n",
      "> avg loss: 3.0239318372384716\n",
      "> For the *65_th* data_key\n",
      "> retail = 1399.99,bidincrement = 0.0, bidfee = 0.75, infer PT's parameters\n",
      "> Now do SA....... \n",
      "\n"
     ]
    },
    {
     "name": "stderr",
     "output_type": "stream",
     "text": [
      "  5%|▌         | 66/1276 [10:43<1:36:37,  4.79s/it]"
     ]
    },
    {
     "name": "stdout",
     "output_type": "stream",
     "text": [
      "STOP CODE:  Stay unchanged in the last 6 iterations\n",
      "> SA ENDS....... \n",
      "\n",
      "> avg loss: 22.933747489972337\n",
      "> For the *66_th* data_key\n",
      "> retail = 79.95,bidincrement = 0.15, bidfee = 0.75, infer PT's parameters\n",
      "> Now do SA....... \n",
      "\n"
     ]
    },
    {
     "name": "stderr",
     "output_type": "stream",
     "text": [
      "  5%|▌         | 67/1276 [10:46<1:26:45,  4.31s/it]"
     ]
    },
    {
     "name": "stdout",
     "output_type": "stream",
     "text": [
      "STOP CODE:  Stay unchanged in the last 6 iterations\n",
      "> SA ENDS....... \n",
      "\n",
      "> avg loss: 3.057607992629366\n",
      "> For the *67_th* data_key\n",
      "> retail = 94.99,bidincrement = 0.15, bidfee = 0.75, infer PT's parameters\n",
      "> Now do SA....... \n",
      "\n"
     ]
    },
    {
     "name": "stderr",
     "output_type": "stream",
     "text": [
      "  5%|▌         | 68/1276 [10:51<1:31:40,  4.55s/it]"
     ]
    },
    {
     "name": "stdout",
     "output_type": "stream",
     "text": [
      "STOP CODE:  Stay unchanged in the last 6 iterations\n",
      "> SA ENDS....... \n",
      "\n",
      "> avg loss: 3.132152875594224\n",
      "> For the *68_th* data_key\n",
      "> retail = 59.99,bidincrement = 0.15, bidfee = 0.75, infer PT's parameters\n",
      "> Now do SA....... \n",
      "\n"
     ]
    },
    {
     "name": "stderr",
     "output_type": "stream",
     "text": [
      "  5%|▌         | 69/1276 [10:53<1:17:16,  3.84s/it]"
     ]
    },
    {
     "name": "stdout",
     "output_type": "stream",
     "text": [
      "STOP CODE:  Stay unchanged in the last 6 iterations\n",
      "> SA ENDS....... \n",
      "\n",
      "> avg loss: 3.3554603261083873\n",
      "> For the *69_th* data_key\n",
      "> retail = 829.99,bidincrement = 0.15, bidfee = 0.75, infer PT's parameters\n",
      "> Now do SA....... \n",
      "\n"
     ]
    },
    {
     "name": "stderr",
     "output_type": "stream",
     "text": [
      "  5%|▌         | 70/1276 [11:15<3:04:24,  9.17s/it]"
     ]
    },
    {
     "name": "stdout",
     "output_type": "stream",
     "text": [
      "STOP CODE:  Stay unchanged in the last 6 iterations\n",
      "> SA ENDS....... \n",
      "\n",
      "> avg loss: 2.2745408230271558\n",
      "> For the *70_th* data_key\n",
      "> retail = 169.99,bidincrement = 0.15, bidfee = 0.75, infer PT's parameters\n",
      "> Now do SA....... \n",
      "\n"
     ]
    },
    {
     "name": "stderr",
     "output_type": "stream",
     "text": [
      "  6%|▌         | 71/1276 [11:23<2:58:05,  8.87s/it]"
     ]
    },
    {
     "name": "stdout",
     "output_type": "stream",
     "text": [
      "STOP CODE:  Stay unchanged in the last 6 iterations\n",
      "> SA ENDS....... \n",
      "\n",
      "> avg loss: 2.188041476950971\n",
      "> For the *71_th* data_key\n",
      "> retail = 59.99,bidincrement = 0.15, bidfee = 0.75, infer PT's parameters\n",
      "> Now do SA....... \n",
      "\n"
     ]
    },
    {
     "name": "stderr",
     "output_type": "stream",
     "text": [
      "  6%|▌         | 72/1276 [11:27<2:27:07,  7.33s/it]"
     ]
    },
    {
     "name": "stdout",
     "output_type": "stream",
     "text": [
      "STOP CODE:  Stay unchanged in the last 6 iterations\n",
      "> SA ENDS....... \n",
      "\n",
      "> avg loss: 2.538278355127113\n",
      "> For the *72_th* data_key\n",
      "> retail = 59.99,bidincrement = 0.15, bidfee = 0.75, infer PT's parameters\n",
      "> Now do SA....... \n",
      "\n"
     ]
    },
    {
     "name": "stderr",
     "output_type": "stream",
     "text": [
      "  6%|▌         | 73/1276 [11:30<2:02:12,  6.09s/it]"
     ]
    },
    {
     "name": "stdout",
     "output_type": "stream",
     "text": [
      "STOP CODE:  Stay unchanged in the last 6 iterations\n",
      "> SA ENDS....... \n",
      "\n",
      "> avg loss: 2.535865397644789\n",
      "> For the *73_th* data_key\n",
      "> retail = 29.99,bidincrement = 0.15, bidfee = 0.75, infer PT's parameters\n",
      "> Now do SA....... \n",
      "\n"
     ]
    },
    {
     "name": "stderr",
     "output_type": "stream",
     "text": [
      "  6%|▌         | 74/1276 [11:32<1:41:21,  5.06s/it]"
     ]
    },
    {
     "name": "stdout",
     "output_type": "stream",
     "text": [
      "STOP CODE:  Stay unchanged in the last 6 iterations\n",
      "> SA ENDS....... \n",
      "\n",
      "> avg loss: 2.172861838412447\n",
      "> For the *74_th* data_key\n",
      "> retail = 49.99,bidincrement = 0.15, bidfee = 0.75, infer PT's parameters\n",
      "> Now do SA....... \n",
      "\n"
     ]
    },
    {
     "name": "stderr",
     "output_type": "stream",
     "text": [
      "  6%|▌         | 75/1276 [11:35<1:26:13,  4.31s/it]"
     ]
    },
    {
     "name": "stdout",
     "output_type": "stream",
     "text": [
      "STOP CODE:  Stay unchanged in the last 6 iterations\n",
      "> SA ENDS....... \n",
      "\n",
      "> avg loss: 2.3543316484777916\n",
      "> For the *75_th* data_key\n",
      "> retail = 59.99,bidincrement = 0.15, bidfee = 0.75, infer PT's parameters\n",
      "> Now do SA....... \n",
      "\n"
     ]
    },
    {
     "name": "stderr",
     "output_type": "stream",
     "text": [
      "  6%|▌         | 76/1276 [11:39<1:24:41,  4.23s/it]"
     ]
    },
    {
     "name": "stdout",
     "output_type": "stream",
     "text": [
      "STOP CODE:  Stay unchanged in the last 6 iterations\n",
      "> SA ENDS....... \n",
      "\n",
      "> avg loss: 2.7616875164533554\n",
      "> For the *76_th* data_key\n",
      "> retail = 49.99,bidincrement = 0.15, bidfee = 0.75, infer PT's parameters\n",
      "> Now do SA....... \n",
      "\n"
     ]
    },
    {
     "name": "stderr",
     "output_type": "stream",
     "text": [
      "  6%|▌         | 77/1276 [11:42<1:14:27,  3.73s/it]"
     ]
    },
    {
     "name": "stdout",
     "output_type": "stream",
     "text": [
      "STOP CODE:  Stay unchanged in the last 6 iterations\n",
      "> SA ENDS....... \n",
      "\n",
      "> avg loss: 2.3075547859285357\n",
      "> For the *77_th* data_key\n",
      "> retail = 39.99,bidincrement = 0.15, bidfee = 0.75, infer PT's parameters\n",
      "> Now do SA....... \n",
      "\n"
     ]
    },
    {
     "name": "stderr",
     "output_type": "stream",
     "text": [
      "  6%|▌         | 78/1276 [11:45<1:15:09,  3.76s/it]"
     ]
    },
    {
     "name": "stdout",
     "output_type": "stream",
     "text": [
      "STOP CODE:  Stay unchanged in the last 6 iterations\n",
      "> SA ENDS....... \n",
      "\n",
      "> avg loss: 2.7062592851905434\n",
      "> For the *78_th* data_key\n",
      "> retail = 34.99,bidincrement = 0.15, bidfee = 0.75, infer PT's parameters\n",
      "> Now do SA....... \n",
      "\n"
     ]
    },
    {
     "name": "stderr",
     "output_type": "stream",
     "text": [
      "  6%|▌         | 79/1276 [11:49<1:13:00,  3.66s/it]"
     ]
    },
    {
     "name": "stdout",
     "output_type": "stream",
     "text": [
      "STOP CODE:  Stay unchanged in the last 6 iterations\n",
      "> SA ENDS....... \n",
      "\n",
      "> avg loss: 2.581611417485772\n",
      "> For the *79_th* data_key\n",
      "> retail = 59.99,bidincrement = 0.15, bidfee = 0.75, infer PT's parameters\n",
      "> Now do SA....... \n",
      "\n"
     ]
    },
    {
     "name": "stderr",
     "output_type": "stream",
     "text": [
      "  6%|▋         | 80/1276 [11:52<1:11:27,  3.59s/it]"
     ]
    },
    {
     "name": "stdout",
     "output_type": "stream",
     "text": [
      "STOP CODE:  Stay unchanged in the last 6 iterations\n",
      "> SA ENDS....... \n",
      "\n",
      "> avg loss: 2.67803397913818\n",
      "> For the *80_th* data_key\n",
      "> retail = 34.99,bidincrement = 0.15, bidfee = 0.75, infer PT's parameters\n",
      "> Now do SA....... \n",
      "\n"
     ]
    },
    {
     "name": "stderr",
     "output_type": "stream",
     "text": [
      "  6%|▋         | 81/1276 [11:56<1:14:29,  3.74s/it]"
     ]
    },
    {
     "name": "stdout",
     "output_type": "stream",
     "text": [
      "STOP CODE:  Stay unchanged in the last 6 iterations\n",
      "> SA ENDS....... \n",
      "\n",
      "> avg loss: 2.5107411439472505\n",
      "> For the *81_th* data_key\n",
      "> retail = 49.99,bidincrement = 0.15, bidfee = 0.75, infer PT's parameters\n",
      "> Now do SA....... \n",
      "\n"
     ]
    },
    {
     "name": "stderr",
     "output_type": "stream",
     "text": [
      "  6%|▋         | 82/1276 [11:59<1:10:50,  3.56s/it]"
     ]
    },
    {
     "name": "stdout",
     "output_type": "stream",
     "text": [
      "STOP CODE:  Stay unchanged in the last 6 iterations\n",
      "> SA ENDS....... \n",
      "\n",
      "> avg loss: 2.06928023401247\n",
      "> For the *82_th* data_key\n",
      "> retail = 29.99,bidincrement = 0.15, bidfee = 0.75, infer PT's parameters\n",
      "> Now do SA....... \n",
      "\n"
     ]
    },
    {
     "name": "stderr",
     "output_type": "stream",
     "text": [
      "  7%|▋         | 83/1276 [12:02<1:02:46,  3.16s/it]"
     ]
    },
    {
     "name": "stdout",
     "output_type": "stream",
     "text": [
      "STOP CODE:  Stay unchanged in the last 6 iterations\n",
      "> SA ENDS....... \n",
      "\n",
      "> avg loss: 2.088067371135649\n",
      "> For the *83_th* data_key\n",
      "> retail = 59.99,bidincrement = 0.15, bidfee = 0.75, infer PT's parameters\n",
      "> Now do SA....... \n",
      "\n"
     ]
    },
    {
     "name": "stderr",
     "output_type": "stream",
     "text": [
      "  7%|▋         | 84/1276 [12:04<59:58,  3.02s/it]  "
     ]
    },
    {
     "name": "stdout",
     "output_type": "stream",
     "text": [
      "STOP CODE:  Stay unchanged in the last 6 iterations\n",
      "> SA ENDS....... \n",
      "\n",
      "> avg loss: 2.365476623808901\n",
      "> For the *84_th* data_key\n",
      "> retail = 59.99,bidincrement = 0.15, bidfee = 0.75, infer PT's parameters\n",
      "> Now do SA....... \n",
      "\n"
     ]
    },
    {
     "name": "stderr",
     "output_type": "stream",
     "text": [
      "  7%|▋         | 85/1276 [12:07<57:38,  2.90s/it]"
     ]
    },
    {
     "name": "stdout",
     "output_type": "stream",
     "text": [
      "STOP CODE:  Stay unchanged in the last 6 iterations\n",
      "> SA ENDS....... \n",
      "\n",
      "> avg loss: 2.741806532836674\n",
      "> For the *85_th* data_key\n",
      "> retail = 29.99,bidincrement = 0.15, bidfee = 0.75, infer PT's parameters\n",
      "> Now do SA....... \n",
      "\n"
     ]
    },
    {
     "name": "stderr",
     "output_type": "stream",
     "text": [
      "  7%|▋         | 86/1276 [12:10<57:04,  2.88s/it]"
     ]
    },
    {
     "name": "stdout",
     "output_type": "stream",
     "text": [
      "STOP CODE:  Stay unchanged in the last 6 iterations\n",
      "> SA ENDS....... \n",
      "\n",
      "> avg loss: 2.1205974289966036\n",
      "> For the *86_th* data_key\n",
      "> retail = 39.98,bidincrement = 0.15, bidfee = 0.75, infer PT's parameters\n",
      "> Now do SA....... \n",
      "\n"
     ]
    },
    {
     "name": "stderr",
     "output_type": "stream",
     "text": [
      "  7%|▋         | 87/1276 [12:12<53:27,  2.70s/it]"
     ]
    },
    {
     "name": "stdout",
     "output_type": "stream",
     "text": [
      "STOP CODE:  Stay unchanged in the last 6 iterations\n",
      "> SA ENDS....... \n",
      "\n",
      "> avg loss: 2.860544767741358\n",
      "> For the *87_th* data_key\n",
      "> retail = 34.99,bidincrement = 0.15, bidfee = 0.75, infer PT's parameters\n",
      "> Now do SA....... \n",
      "\n"
     ]
    },
    {
     "name": "stderr",
     "output_type": "stream",
     "text": [
      "  7%|▋         | 88/1276 [12:15<52:07,  2.63s/it]"
     ]
    },
    {
     "name": "stdout",
     "output_type": "stream",
     "text": [
      "STOP CODE:  Stay unchanged in the last 6 iterations\n",
      "> SA ENDS....... \n",
      "\n",
      "> avg loss: 2.7359651685325934\n",
      "> For the *88_th* data_key\n",
      "> retail = 39.98,bidincrement = 0.15, bidfee = 0.75, infer PT's parameters\n",
      "> Now do SA....... \n",
      "\n"
     ]
    },
    {
     "name": "stderr",
     "output_type": "stream",
     "text": [
      "  7%|▋         | 89/1276 [12:21<1:14:53,  3.79s/it]"
     ]
    },
    {
     "name": "stdout",
     "output_type": "stream",
     "text": [
      "STOP CODE:  Stay unchanged in the last 6 iterations\n",
      "> SA ENDS....... \n",
      "\n",
      "> avg loss: 2.547216993953906\n",
      "> For the *89_th* data_key\n",
      "> retail = 39.99,bidincrement = 0.15, bidfee = 0.75, infer PT's parameters\n",
      "> Now do SA....... \n",
      "\n"
     ]
    },
    {
     "name": "stderr",
     "output_type": "stream",
     "text": [
      "  7%|▋         | 90/1276 [12:23<1:03:26,  3.21s/it]"
     ]
    },
    {
     "name": "stdout",
     "output_type": "stream",
     "text": [
      "STOP CODE:  Stay unchanged in the last 6 iterations\n",
      "> SA ENDS....... \n",
      "\n",
      "> avg loss: 2.056390004961187\n",
      "> For the *90_th* data_key\n",
      "> retail = 49.99,bidincrement = 0.15, bidfee = 0.75, infer PT's parameters\n",
      "> Now do SA....... \n",
      "\n"
     ]
    },
    {
     "name": "stderr",
     "output_type": "stream",
     "text": [
      "  7%|▋         | 91/1276 [12:25<57:52,  2.93s/it]  "
     ]
    },
    {
     "name": "stdout",
     "output_type": "stream",
     "text": [
      "STOP CODE:  Stay unchanged in the last 6 iterations\n",
      "> SA ENDS....... \n",
      "\n",
      "> avg loss: 2.133254845173563\n",
      "> For the *91_th* data_key\n",
      "> retail = 19.99,bidincrement = 0.15, bidfee = 0.75, infer PT's parameters\n",
      "> Now do SA....... \n",
      "\n"
     ]
    },
    {
     "name": "stderr",
     "output_type": "stream",
     "text": [
      "  7%|▋         | 92/1276 [12:28<55:48,  2.83s/it]"
     ]
    },
    {
     "name": "stdout",
     "output_type": "stream",
     "text": [
      "STOP CODE:  Stay unchanged in the last 6 iterations\n",
      "> SA ENDS....... \n",
      "\n",
      "> avg loss: 1.8471998748116822\n",
      "> For the *92_th* data_key\n",
      "> retail = 49.99,bidincrement = 0.15, bidfee = 0.75, infer PT's parameters\n",
      "> Now do SA....... \n",
      "\n"
     ]
    },
    {
     "name": "stderr",
     "output_type": "stream",
     "text": [
      "  7%|▋         | 93/1276 [12:30<53:23,  2.71s/it]"
     ]
    },
    {
     "name": "stdout",
     "output_type": "stream",
     "text": [
      "STOP CODE:  Stay unchanged in the last 6 iterations\n",
      "> SA ENDS....... \n",
      "\n",
      "> avg loss: 2.1660529406942026\n",
      "> For the *93_th* data_key\n",
      "> retail = 59.99,bidincrement = 0.15, bidfee = 0.75, infer PT's parameters\n",
      "> Now do SA....... \n",
      "\n"
     ]
    },
    {
     "name": "stderr",
     "output_type": "stream",
     "text": [
      "  7%|▋         | 94/1276 [12:34<1:02:13,  3.16s/it]"
     ]
    },
    {
     "name": "stdout",
     "output_type": "stream",
     "text": [
      "STOP CODE:  Stay unchanged in the last 6 iterations\n",
      "> SA ENDS....... \n",
      "\n",
      "> avg loss: 3.008294082289413\n",
      "> For the *94_th* data_key\n",
      "> retail = 35.99,bidincrement = 0.15, bidfee = 0.75, infer PT's parameters\n",
      "> Now do SA....... \n",
      "\n"
     ]
    },
    {
     "name": "stderr",
     "output_type": "stream",
     "text": [
      "  7%|▋         | 95/1276 [12:39<1:10:54,  3.60s/it]"
     ]
    },
    {
     "name": "stdout",
     "output_type": "stream",
     "text": [
      "STOP CODE:  Stay unchanged in the last 6 iterations\n",
      "> SA ENDS....... \n",
      "\n",
      "> avg loss: 2.6427090128149375\n",
      "> For the *95_th* data_key\n",
      "> retail = 39.98,bidincrement = 0.15, bidfee = 0.75, infer PT's parameters\n",
      "> Now do SA....... \n",
      "\n"
     ]
    },
    {
     "name": "stderr",
     "output_type": "stream",
     "text": [
      "  8%|▊         | 96/1276 [12:41<1:01:39,  3.14s/it]"
     ]
    },
    {
     "name": "stdout",
     "output_type": "stream",
     "text": [
      "STOP CODE:  Stay unchanged in the last 6 iterations\n",
      "> SA ENDS....... \n",
      "\n",
      "> avg loss: 2.4971352580363995\n",
      "> For the *96_th* data_key\n",
      "> retail = 44.99,bidincrement = 0.15, bidfee = 0.75, infer PT's parameters\n",
      "> Now do SA....... \n",
      "\n"
     ]
    },
    {
     "name": "stderr",
     "output_type": "stream",
     "text": [
      "  8%|▊         | 97/1276 [12:44<1:02:16,  3.17s/it]"
     ]
    },
    {
     "name": "stdout",
     "output_type": "stream",
     "text": [
      "STOP CODE:  Stay unchanged in the last 6 iterations\n",
      "> SA ENDS....... \n",
      "\n",
      "> avg loss: 2.2163315390793485\n",
      "> For the *97_th* data_key\n",
      "> retail = 19.99,bidincrement = 0.15, bidfee = 0.75, infer PT's parameters\n",
      "> Now do SA....... \n",
      "\n"
     ]
    },
    {
     "name": "stderr",
     "output_type": "stream",
     "text": [
      "  8%|▊         | 98/1276 [12:48<1:06:07,  3.37s/it]"
     ]
    },
    {
     "name": "stdout",
     "output_type": "stream",
     "text": [
      "STOP CODE:  Stay unchanged in the last 6 iterations\n",
      "> SA ENDS....... \n",
      "\n",
      "> avg loss: 2.047600852035123\n",
      "> For the *98_th* data_key\n",
      "> retail = 65.0,bidincrement = 0.15, bidfee = 0.75, infer PT's parameters\n",
      "> Now do SA....... \n",
      "\n"
     ]
    },
    {
     "name": "stderr",
     "output_type": "stream",
     "text": [
      "  8%|▊         | 99/1276 [12:51<1:01:36,  3.14s/it]"
     ]
    },
    {
     "name": "stdout",
     "output_type": "stream",
     "text": [
      "STOP CODE:  Stay unchanged in the last 6 iterations\n",
      "> SA ENDS....... \n",
      "\n",
      "> avg loss: 4.071611251895616\n",
      "> For the *99_th* data_key\n",
      "> retail = 46.08,bidincrement = 0.15, bidfee = 0.75, infer PT's parameters\n",
      "> Now do SA....... \n",
      "\n"
     ]
    },
    {
     "name": "stderr",
     "output_type": "stream",
     "text": [
      "  8%|▊         | 100/1276 [12:53<54:16,  2.77s/it] "
     ]
    },
    {
     "name": "stdout",
     "output_type": "stream",
     "text": [
      "STOP CODE:  Stay unchanged in the last 6 iterations\n",
      "> SA ENDS....... \n",
      "\n",
      "> avg loss: 2.873854060897754\n",
      "> For the *100_th* data_key\n",
      "> retail = 49.99,bidincrement = 0.15, bidfee = 0.75, infer PT's parameters\n",
      "> Now do SA....... \n",
      "\n"
     ]
    },
    {
     "name": "stderr",
     "output_type": "stream",
     "text": [
      "  8%|▊         | 101/1276 [12:57<1:01:08,  3.12s/it]"
     ]
    },
    {
     "name": "stdout",
     "output_type": "stream",
     "text": [
      "STOP CODE:  Stay unchanged in the last 6 iterations\n",
      "> SA ENDS....... \n",
      "\n",
      "> avg loss: 3.052299534462235\n",
      "> For the *101_th* data_key\n",
      "> retail = 79.95,bidincrement = 0.15, bidfee = 0.75, infer PT's parameters\n",
      "> Now do SA....... \n",
      "\n"
     ]
    },
    {
     "name": "stderr",
     "output_type": "stream",
     "text": [
      "  8%|▊         | 102/1276 [13:01<1:06:12,  3.38s/it]"
     ]
    },
    {
     "name": "stdout",
     "output_type": "stream",
     "text": [
      "STOP CODE:  Stay unchanged in the last 6 iterations\n",
      "> SA ENDS....... \n",
      "\n",
      "> avg loss: 3.201000678970161\n",
      "> For the *102_th* data_key\n",
      "> retail = 89.95,bidincrement = 0.15, bidfee = 0.75, infer PT's parameters\n",
      "> Now do SA....... \n",
      "\n"
     ]
    },
    {
     "name": "stderr",
     "output_type": "stream",
     "text": [
      "  8%|▊         | 103/1276 [13:09<1:37:50,  5.00s/it]"
     ]
    },
    {
     "name": "stdout",
     "output_type": "stream",
     "text": [
      "STOP CODE:  Stay unchanged in the last 6 iterations\n",
      "> SA ENDS....... \n",
      "\n",
      "> avg loss: 3.5156888779340467\n",
      "> For the *103_th* data_key\n",
      "> retail = 569.0,bidincrement = 0.01, bidfee = 0.75, infer PT's parameters\n",
      "> Now do SA....... \n",
      "\n"
     ]
    },
    {
     "name": "stderr",
     "output_type": "stream",
     "text": [
      "  8%|▊         | 104/1276 [15:10<12:57:32, 39.81s/it]"
     ]
    },
    {
     "name": "stdout",
     "output_type": "stream",
     "text": [
      "> 超时\n",
      "> SA ENDS....... \n",
      "\n",
      "> avg loss: 23.025850926181672\n",
      "> For the *104_th* data_key\n",
      "> retail = 99.99,bidincrement = 0.15, bidfee = 0.75, infer PT's parameters\n",
      "> Now do SA....... \n",
      "\n"
     ]
    },
    {
     "name": "stderr",
     "output_type": "stream",
     "text": [
      "  8%|▊         | 105/1276 [15:14<9:25:46, 28.99s/it] "
     ]
    },
    {
     "name": "stdout",
     "output_type": "stream",
     "text": [
      "STOP CODE:  Stay unchanged in the last 6 iterations\n",
      "> SA ENDS....... \n",
      "\n",
      "> avg loss: 2.9623321391612083\n",
      "> For the *105_th* data_key\n",
      "> retail = 99.95,bidincrement = 0.15, bidfee = 0.75, infer PT's parameters\n",
      "> Now do SA....... \n",
      "\n"
     ]
    },
    {
     "name": "stderr",
     "output_type": "stream",
     "text": [
      "  8%|▊         | 106/1276 [15:20<7:09:35, 22.03s/it]"
     ]
    },
    {
     "name": "stdout",
     "output_type": "stream",
     "text": [
      "STOP CODE:  Stay unchanged in the last 6 iterations\n",
      "> SA ENDS....... \n",
      "\n",
      "> avg loss: 3.190054943566654\n",
      "> For the *106_th* data_key\n",
      "> retail = 58.0,bidincrement = 0.15, bidfee = 0.75, infer PT's parameters\n",
      "> Now do SA....... \n",
      "\n"
     ]
    },
    {
     "name": "stderr",
     "output_type": "stream",
     "text": [
      "  8%|▊         | 107/1276 [15:27<5:44:11, 17.67s/it]"
     ]
    },
    {
     "name": "stdout",
     "output_type": "stream",
     "text": [
      "STOP CODE:  Stay unchanged in the last 6 iterations\n",
      "> SA ENDS....... \n",
      "\n",
      "> avg loss: 3.148467856611947\n",
      "> For the *107_th* data_key\n",
      "> retail = 29.99,bidincrement = 0.15, bidfee = 0.75, infer PT's parameters\n",
      "> Now do SA....... \n",
      "\n"
     ]
    },
    {
     "name": "stderr",
     "output_type": "stream",
     "text": [
      "  8%|▊         | 108/1276 [15:30<4:17:24, 13.22s/it]"
     ]
    },
    {
     "name": "stdout",
     "output_type": "stream",
     "text": [
      "STOP CODE:  Stay unchanged in the last 6 iterations\n",
      "> SA ENDS....... \n",
      "\n",
      "> avg loss: 2.763048786388552\n",
      "> For the *108_th* data_key\n",
      "> retail = 29.99,bidincrement = 0.15, bidfee = 0.75, infer PT's parameters\n",
      "> Now do SA....... \n",
      "\n"
     ]
    },
    {
     "name": "stderr",
     "output_type": "stream",
     "text": [
      "  9%|▊         | 109/1276 [15:33<3:14:32, 10.00s/it]"
     ]
    },
    {
     "name": "stdout",
     "output_type": "stream",
     "text": [
      "STOP CODE:  Stay unchanged in the last 6 iterations\n",
      "> SA ENDS....... \n",
      "\n",
      "> avg loss: 2.267017024833435\n",
      "> For the *109_th* data_key\n",
      "> retail = 19.99,bidincrement = 0.15, bidfee = 0.75, infer PT's parameters\n",
      "> Now do SA....... \n",
      "\n"
     ]
    },
    {
     "name": "stderr",
     "output_type": "stream",
     "text": [
      "  9%|▊         | 110/1276 [15:35<2:28:09,  7.62s/it]"
     ]
    },
    {
     "name": "stdout",
     "output_type": "stream",
     "text": [
      "STOP CODE:  Stay unchanged in the last 6 iterations\n",
      "> SA ENDS....... \n",
      "\n",
      "> avg loss: 2.130863619527072\n",
      "> For the *110_th* data_key\n",
      "> retail = 229.0,bidincrement = 0.15, bidfee = 0.75, infer PT's parameters\n",
      "> Now do SA....... \n",
      "\n"
     ]
    },
    {
     "name": "stderr",
     "output_type": "stream",
     "text": [
      "  9%|▊         | 111/1276 [15:46<2:48:19,  8.67s/it]"
     ]
    },
    {
     "name": "stdout",
     "output_type": "stream",
     "text": [
      "STOP CODE:  Stay unchanged in the last 6 iterations\n",
      "> SA ENDS....... \n",
      "\n",
      "> avg loss: 2.910819333250219\n",
      "> For the *111_th* data_key\n",
      "> retail = 37.99,bidincrement = 0.15, bidfee = 0.75, infer PT's parameters\n",
      "> Now do SA....... \n",
      "\n"
     ]
    },
    {
     "name": "stderr",
     "output_type": "stream",
     "text": [
      "  9%|▉         | 112/1276 [15:48<2:11:19,  6.77s/it]"
     ]
    },
    {
     "name": "stdout",
     "output_type": "stream",
     "text": [
      "STOP CODE:  Stay unchanged in the last 6 iterations\n",
      "> SA ENDS....... \n",
      "\n",
      "> avg loss: 2.649501783027283\n",
      "> For the *112_th* data_key\n",
      "> retail = 39.99,bidincrement = 0.15, bidfee = 0.75, infer PT's parameters\n",
      "> Now do SA....... \n",
      "\n"
     ]
    },
    {
     "name": "stderr",
     "output_type": "stream",
     "text": [
      "  9%|▉         | 113/1276 [15:51<1:45:21,  5.44s/it]"
     ]
    },
    {
     "name": "stdout",
     "output_type": "stream",
     "text": [
      "STOP CODE:  Stay unchanged in the last 6 iterations\n",
      "> SA ENDS....... \n",
      "\n",
      "> avg loss: 2.8283775545443723\n",
      "> For the *113_th* data_key\n",
      "> retail = 199.99,bidincrement = 0.15, bidfee = 0.75, infer PT's parameters\n",
      "> Now do SA....... \n",
      "\n"
     ]
    },
    {
     "name": "stderr",
     "output_type": "stream",
     "text": [
      "  9%|▉         | 114/1276 [16:01<2:14:54,  6.97s/it]"
     ]
    },
    {
     "name": "stdout",
     "output_type": "stream",
     "text": [
      "STOP CODE:  Stay unchanged in the last 6 iterations\n",
      "> SA ENDS....... \n",
      "\n",
      "> avg loss: 2.4517430980616015\n",
      "> For the *114_th* data_key\n",
      "> retail = 79.99,bidincrement = 0.15, bidfee = 0.75, infer PT's parameters\n",
      "> Now do SA....... \n",
      "\n"
     ]
    },
    {
     "name": "stderr",
     "output_type": "stream",
     "text": [
      "  9%|▉         | 115/1276 [16:05<1:58:16,  6.11s/it]"
     ]
    },
    {
     "name": "stdout",
     "output_type": "stream",
     "text": [
      "STOP CODE:  Stay unchanged in the last 6 iterations\n",
      "> SA ENDS....... \n",
      "\n",
      "> avg loss: 2.8854379075324577\n",
      "> For the *115_th* data_key\n",
      "> retail = 1149.99,bidincrement = 0.01, bidfee = 0.75, infer PT's parameters\n",
      "> Now do SA....... \n",
      "\n"
     ]
    },
    {
     "name": "stderr",
     "output_type": "stream",
     "text": [
      "  9%|▉         | 116/1276 [18:08<13:12:01, 40.97s/it]"
     ]
    },
    {
     "name": "stdout",
     "output_type": "stream",
     "text": [
      "> 超时\n",
      "> SA ENDS....... \n",
      "\n",
      "> avg loss: 23.025851028125935\n",
      "> For the *116_th* data_key\n",
      "> retail = 29.99,bidincrement = 0.15, bidfee = 0.75, infer PT's parameters\n",
      "> Now do SA....... \n",
      "\n"
     ]
    },
    {
     "name": "stderr",
     "output_type": "stream",
     "text": [
      "  9%|▉         | 117/1276 [18:10<9:27:19, 29.37s/it] "
     ]
    },
    {
     "name": "stdout",
     "output_type": "stream",
     "text": [
      "STOP CODE:  Stay unchanged in the last 6 iterations\n",
      "> SA ENDS....... \n",
      "\n",
      "> avg loss: 2.1696116579668936\n",
      "> For the *117_th* data_key\n",
      "> retail = 44.99,bidincrement = 0.15, bidfee = 0.75, infer PT's parameters\n",
      "> Now do SA....... \n",
      "\n"
     ]
    },
    {
     "name": "stderr",
     "output_type": "stream",
     "text": [
      "  9%|▉         | 118/1276 [18:13<6:52:55, 21.39s/it]"
     ]
    },
    {
     "name": "stdout",
     "output_type": "stream",
     "text": [
      "STOP CODE:  Stay unchanged in the last 6 iterations\n",
      "> SA ENDS....... \n",
      "\n",
      "> avg loss: 2.8311075488892876\n",
      "> For the *118_th* data_key\n",
      "> retail = 49.99,bidincrement = 0.15, bidfee = 0.75, infer PT's parameters\n",
      "> Now do SA....... \n",
      "\n"
     ]
    },
    {
     "name": "stderr",
     "output_type": "stream",
     "text": [
      "  9%|▉         | 119/1276 [18:16<5:05:14, 15.83s/it]"
     ]
    },
    {
     "name": "stdout",
     "output_type": "stream",
     "text": [
      "STOP CODE:  Stay unchanged in the last 6 iterations\n",
      "> SA ENDS....... \n",
      "\n",
      "> avg loss: 2.3268150407710286\n",
      "> For the *119_th* data_key\n",
      "> retail = 49.99,bidincrement = 0.15, bidfee = 0.75, infer PT's parameters\n",
      "> Now do SA....... \n",
      "\n"
     ]
    },
    {
     "name": "stderr",
     "output_type": "stream",
     "text": [
      "  9%|▉         | 120/1276 [18:18<3:49:20, 11.90s/it]"
     ]
    },
    {
     "name": "stdout",
     "output_type": "stream",
     "text": [
      "STOP CODE:  Stay unchanged in the last 6 iterations\n",
      "> SA ENDS....... \n",
      "\n",
      "> avg loss: 2.583731326805406\n",
      "> For the *120_th* data_key\n",
      "> retail = 337.38,bidincrement = 0.15, bidfee = 0.75, infer PT's parameters\n",
      "> Now do SA....... \n",
      "\n"
     ]
    },
    {
     "name": "stderr",
     "output_type": "stream",
     "text": [
      "  9%|▉         | 121/1276 [18:26<3:22:55, 10.54s/it]"
     ]
    },
    {
     "name": "stdout",
     "output_type": "stream",
     "text": [
      "STOP CODE:  Stay unchanged in the last 6 iterations\n",
      "> SA ENDS....... \n",
      "\n",
      "> avg loss: 3.7993240475294017\n",
      "> For the *121_th* data_key\n",
      "> retail = 449.99,bidincrement = 0.15, bidfee = 0.75, infer PT's parameters\n",
      "> Now do SA....... \n",
      "\n"
     ]
    },
    {
     "name": "stderr",
     "output_type": "stream",
     "text": [
      " 10%|▉         | 122/1276 [18:32<2:58:43,  9.29s/it]"
     ]
    },
    {
     "name": "stdout",
     "output_type": "stream",
     "text": [
      "STOP CODE:  Stay unchanged in the last 6 iterations\n",
      "> SA ENDS....... \n",
      "\n",
      "> avg loss: 23.02585084793839\n",
      "> For the *122_th* data_key\n",
      "> retail = 199.0,bidincrement = 0.15, bidfee = 0.75, infer PT's parameters\n",
      "> Now do SA....... \n",
      "\n"
     ]
    },
    {
     "name": "stderr",
     "output_type": "stream",
     "text": [
      " 10%|▉         | 123/1276 [18:39<2:47:49,  8.73s/it]"
     ]
    },
    {
     "name": "stdout",
     "output_type": "stream",
     "text": [
      "STOP CODE:  Stay unchanged in the last 6 iterations\n",
      "> SA ENDS....... \n",
      "\n",
      "> avg loss: 2.886470124957069\n",
      "> For the *123_th* data_key\n",
      "> retail = 199.0,bidincrement = 0.15, bidfee = 0.75, infer PT's parameters\n",
      "> Now do SA....... \n",
      "\n"
     ]
    },
    {
     "name": "stderr",
     "output_type": "stream",
     "text": [
      " 10%|▉         | 124/1276 [18:47<2:40:33,  8.36s/it]"
     ]
    },
    {
     "name": "stdout",
     "output_type": "stream",
     "text": [
      "STOP CODE:  Stay unchanged in the last 6 iterations\n",
      "> SA ENDS....... \n",
      "\n",
      "> avg loss: 3.034775448029032\n",
      "> For the *124_th* data_key\n",
      "> retail = 1899.99,bidincrement = 0.01, bidfee = 0.75, infer PT's parameters\n",
      "> Now do SA....... \n",
      "\n"
     ]
    },
    {
     "name": "stderr",
     "output_type": "stream",
     "text": [
      " 10%|▉         | 125/1276 [20:51<13:44:43, 42.99s/it]"
     ]
    },
    {
     "name": "stdout",
     "output_type": "stream",
     "text": [
      "> 超时\n",
      "> SA ENDS....... \n",
      "\n",
      "> avg loss: 23.025851094882306\n",
      "> For the *125_th* data_key\n",
      "> retail = 49.99,bidincrement = 0.15, bidfee = 0.75, infer PT's parameters\n",
      "> Now do SA....... \n",
      "\n"
     ]
    },
    {
     "name": "stderr",
     "output_type": "stream",
     "text": [
      " 10%|▉         | 126/1276 [20:54<9:52:49, 30.93s/it] "
     ]
    },
    {
     "name": "stdout",
     "output_type": "stream",
     "text": [
      "STOP CODE:  Stay unchanged in the last 6 iterations\n",
      "> SA ENDS....... \n",
      "\n",
      "> avg loss: 2.136525821867074\n",
      "> For the *126_th* data_key\n",
      "> retail = 370.0,bidincrement = 0.15, bidfee = 0.75, infer PT's parameters\n",
      "> Now do SA....... \n",
      "\n"
     ]
    },
    {
     "name": "stderr",
     "output_type": "stream",
     "text": [
      " 10%|▉         | 127/1276 [20:59<7:24:15, 23.20s/it]"
     ]
    },
    {
     "name": "stdout",
     "output_type": "stream",
     "text": [
      "STOP CODE:  Stay unchanged in the last 6 iterations\n",
      "> SA ENDS....... \n",
      "\n",
      "> avg loss: 23.02585084787055\n",
      "> For the *127_th* data_key\n",
      "> retail = 495.0,bidincrement = 0.15, bidfee = 0.75, infer PT's parameters\n",
      "> Now do SA....... \n",
      "\n"
     ]
    },
    {
     "name": "stderr",
     "output_type": "stream",
     "text": [
      " 10%|█         | 128/1276 [21:15<6:46:34, 21.25s/it]"
     ]
    },
    {
     "name": "stdout",
     "output_type": "stream",
     "text": [
      "STOP CODE:  Stay unchanged in the last 6 iterations\n",
      "> SA ENDS....... \n",
      "\n",
      "> avg loss: 7.316835910737092\n",
      "> For the *128_th* data_key\n",
      "> retail = 79.95,bidincrement = 0.15, bidfee = 0.75, infer PT's parameters\n",
      "> Now do SA....... \n",
      "\n"
     ]
    },
    {
     "name": "stderr",
     "output_type": "stream",
     "text": [
      " 10%|█         | 129/1276 [21:19<5:06:13, 16.02s/it]"
     ]
    },
    {
     "name": "stdout",
     "output_type": "stream",
     "text": [
      "STOP CODE:  Stay unchanged in the last 6 iterations\n",
      "> SA ENDS....... \n",
      "\n",
      "> avg loss: 4.2695979537391455\n",
      "> For the *129_th* data_key\n",
      "> retail = 355.0,bidincrement = 0.15, bidfee = 0.75, infer PT's parameters\n",
      "> Now do SA....... \n",
      "\n"
     ]
    },
    {
     "name": "stderr",
     "output_type": "stream",
     "text": [
      " 10%|█         | 130/1276 [21:29<4:32:20, 14.26s/it]"
     ]
    },
    {
     "name": "stdout",
     "output_type": "stream",
     "text": [
      "STOP CODE:  Stay unchanged in the last 6 iterations\n",
      "> SA ENDS....... \n",
      "\n",
      "> avg loss: 23.001830640976305\n",
      "> For the *130_th* data_key\n",
      "> retail = 495.0,bidincrement = 0.15, bidfee = 0.75, infer PT's parameters\n",
      "> Now do SA....... \n",
      "\n"
     ]
    },
    {
     "name": "stderr",
     "output_type": "stream",
     "text": [
      " 10%|█         | 131/1276 [21:36<3:50:47, 12.09s/it]"
     ]
    },
    {
     "name": "stdout",
     "output_type": "stream",
     "text": [
      "STOP CODE:  Stay unchanged in the last 6 iterations\n",
      "> SA ENDS....... \n",
      "\n",
      "> avg loss: 23.025850847684175\n",
      "> For the *131_th* data_key\n",
      "> retail = 1899.99,bidincrement = 0.01, bidfee = 0.75, infer PT's parameters\n",
      "> Now do SA....... \n",
      "\n"
     ]
    },
    {
     "name": "stderr",
     "output_type": "stream",
     "text": [
      " 10%|█         | 132/1276 [23:40<14:29:44, 45.62s/it]"
     ]
    },
    {
     "name": "stdout",
     "output_type": "stream",
     "text": [
      "> 超时\n",
      "> SA ENDS....... \n",
      "\n",
      "> avg loss: 23.02585108155208\n",
      "> For the *132_th* data_key\n",
      "> retail = 1199.99,bidincrement = 0.15, bidfee = 0.75, infer PT's parameters\n",
      "> Now do SA....... \n",
      "\n"
     ]
    },
    {
     "name": "stderr",
     "output_type": "stream",
     "text": [
      " 10%|█         | 133/1276 [23:57<11:43:57, 36.95s/it]"
     ]
    },
    {
     "name": "stdout",
     "output_type": "stream",
     "text": [
      "STOP CODE:  Stay unchanged in the last 6 iterations\n",
      "> SA ENDS....... \n",
      "\n",
      "> avg loss: 23.025850991749095\n",
      "> For the *133_th* data_key\n",
      "> retail = 499.95,bidincrement = 0.15, bidfee = 0.75, infer PT's parameters\n",
      "> Now do SA....... \n",
      "\n"
     ]
    },
    {
     "name": "stderr",
     "output_type": "stream",
     "text": [
      " 11%|█         | 134/1276 [24:04<8:52:23, 27.97s/it] "
     ]
    },
    {
     "name": "stdout",
     "output_type": "stream",
     "text": [
      "STOP CODE:  Stay unchanged in the last 6 iterations\n",
      "> SA ENDS....... \n",
      "\n",
      "> avg loss: 23.025850847836\n",
      "> For the *134_th* data_key\n",
      "> retail = 39.99,bidincrement = 0.15, bidfee = 0.75, infer PT's parameters\n",
      "> Now do SA....... \n",
      "\n"
     ]
    },
    {
     "name": "stderr",
     "output_type": "stream",
     "text": [
      " 11%|█         | 135/1276 [24:05<6:20:05, 19.99s/it]"
     ]
    },
    {
     "name": "stdout",
     "output_type": "stream",
     "text": [
      "STOP CODE:  Stay unchanged in the last 6 iterations\n",
      "> SA ENDS....... \n",
      "\n",
      "> avg loss: 3.228086036017847\n",
      "> For the *135_th* data_key\n",
      "> retail = 39.99,bidincrement = 0.15, bidfee = 0.75, infer PT's parameters\n",
      "> Now do SA....... \n",
      "\n"
     ]
    },
    {
     "name": "stderr",
     "output_type": "stream",
     "text": [
      " 11%|█         | 136/1276 [24:12<5:04:16, 16.01s/it]"
     ]
    },
    {
     "name": "stdout",
     "output_type": "stream",
     "text": [
      "STOP CODE:  Stay unchanged in the last 6 iterations\n",
      "> SA ENDS....... \n",
      "\n",
      "> avg loss: 2.9649661183808362\n",
      "> For the *136_th* data_key\n",
      "> retail = 355.0,bidincrement = 0.15, bidfee = 0.75, infer PT's parameters\n",
      "> Now do SA....... \n",
      "\n"
     ]
    },
    {
     "name": "stderr",
     "output_type": "stream",
     "text": [
      " 11%|█         | 137/1276 [24:22<4:30:15, 14.24s/it]"
     ]
    },
    {
     "name": "stdout",
     "output_type": "stream",
     "text": [
      "STOP CODE:  Stay unchanged in the last 6 iterations\n",
      "> SA ENDS....... \n",
      "\n",
      "> avg loss: 4.015936275668364\n",
      "> For the *137_th* data_key\n",
      "> retail = 495.0,bidincrement = 0.15, bidfee = 0.75, infer PT's parameters\n",
      "> Now do SA....... \n",
      "\n"
     ]
    },
    {
     "name": "stderr",
     "output_type": "stream",
     "text": [
      " 11%|█         | 138/1276 [24:45<5:20:58, 16.92s/it]"
     ]
    },
    {
     "name": "stdout",
     "output_type": "stream",
     "text": [
      "STOP CODE:  Stay unchanged in the last 6 iterations\n",
      "> SA ENDS....... \n",
      "\n",
      "> avg loss: 2.93602035756399\n",
      "> For the *138_th* data_key\n",
      "> retail = 149.99,bidincrement = 0.15, bidfee = 0.75, infer PT's parameters\n",
      "> Now do SA....... \n",
      "\n"
     ]
    },
    {
     "name": "stderr",
     "output_type": "stream",
     "text": [
      " 11%|█         | 139/1276 [24:49<4:03:36, 12.86s/it]"
     ]
    },
    {
     "name": "stdout",
     "output_type": "stream",
     "text": [
      "STOP CODE:  Stay unchanged in the last 6 iterations\n",
      "> SA ENDS....... \n",
      "\n",
      "> avg loss: 4.443344571360966\n",
      "> For the *139_th* data_key\n",
      "> retail = 495.0,bidincrement = 0.15, bidfee = 0.75, infer PT's parameters\n",
      "> Now do SA....... \n",
      "\n"
     ]
    },
    {
     "name": "stderr",
     "output_type": "stream",
     "text": [
      " 11%|█         | 140/1276 [24:55<3:28:31, 11.01s/it]"
     ]
    },
    {
     "name": "stdout",
     "output_type": "stream",
     "text": [
      "STOP CODE:  Stay unchanged in the last 6 iterations\n",
      "> SA ENDS....... \n",
      "\n",
      "> avg loss: 23.02585085470841\n",
      "> For the *140_th* data_key\n",
      "> retail = 240.0,bidincrement = 0.15, bidfee = 0.75, infer PT's parameters\n",
      "> Now do SA....... \n",
      "\n"
     ]
    },
    {
     "name": "stderr",
     "output_type": "stream",
     "text": [
      " 11%|█         | 141/1276 [25:11<3:56:32, 12.50s/it]"
     ]
    },
    {
     "name": "stdout",
     "output_type": "stream",
     "text": [
      "STOP CODE:  Stay unchanged in the last 6 iterations\n",
      "> SA ENDS....... \n",
      "\n",
      "> avg loss: 3.0917319716699603\n",
      "> For the *141_th* data_key\n",
      "> retail = 35.0,bidincrement = 0.15, bidfee = 0.75, infer PT's parameters\n",
      "> Now do SA....... \n",
      "\n"
     ]
    },
    {
     "name": "stderr",
     "output_type": "stream",
     "text": [
      " 11%|█         | 142/1276 [25:15<3:04:24,  9.76s/it]"
     ]
    },
    {
     "name": "stdout",
     "output_type": "stream",
     "text": [
      "STOP CODE:  Stay unchanged in the last 6 iterations\n",
      "> SA ENDS....... \n",
      "\n",
      "> avg loss: 3.7818712569821256\n",
      "> For the *142_th* data_key\n",
      "> retail = 39.99,bidincrement = 0.15, bidfee = 0.75, infer PT's parameters\n",
      "> Now do SA....... \n",
      "\n"
     ]
    },
    {
     "name": "stderr",
     "output_type": "stream",
     "text": [
      " 11%|█         | 143/1276 [25:17<2:24:22,  7.65s/it]"
     ]
    },
    {
     "name": "stdout",
     "output_type": "stream",
     "text": [
      "STOP CODE:  Stay unchanged in the last 6 iterations\n",
      "> SA ENDS....... \n",
      "\n",
      "> avg loss: 2.2550503475162755\n",
      "> For the *143_th* data_key\n",
      "> retail = 1249.99,bidincrement = 0.15, bidfee = 0.75, infer PT's parameters\n",
      "> Now do SA....... \n",
      "\n"
     ]
    },
    {
     "name": "stderr",
     "output_type": "stream",
     "text": [
      " 11%|█▏        | 144/1276 [25:53<5:03:50, 16.10s/it]"
     ]
    },
    {
     "name": "stdout",
     "output_type": "stream",
     "text": [
      "STOP CODE:  Stay unchanged in the last 6 iterations\n",
      "> SA ENDS....... \n",
      "\n",
      "> avg loss: 22.986500976872087\n",
      "> For the *144_th* data_key\n",
      "> retail = 249.0,bidincrement = 0.15, bidfee = 0.75, infer PT's parameters\n",
      "> Now do SA....... \n",
      "\n"
     ]
    },
    {
     "name": "stderr",
     "output_type": "stream",
     "text": [
      " 11%|█▏        | 145/1276 [25:57<3:55:38, 12.50s/it]"
     ]
    },
    {
     "name": "stdout",
     "output_type": "stream",
     "text": [
      "STOP CODE:  Stay unchanged in the last 6 iterations\n",
      "> SA ENDS....... \n",
      "\n",
      "> avg loss: 23.025850848120307\n",
      "> For the *145_th* data_key\n",
      "> retail = 249.0,bidincrement = 0.15, bidfee = 0.75, infer PT's parameters\n",
      "> Now do SA....... \n",
      "\n"
     ]
    },
    {
     "name": "stderr",
     "output_type": "stream",
     "text": [
      " 11%|█▏        | 146/1276 [26:01<3:06:38,  9.91s/it]"
     ]
    },
    {
     "name": "stdout",
     "output_type": "stream",
     "text": [
      "STOP CODE:  Stay unchanged in the last 6 iterations\n",
      "> SA ENDS....... \n",
      "\n",
      "> avg loss: 23.025850847808133\n",
      "> For the *146_th* data_key\n",
      "> retail = 29.99,bidincrement = 0.15, bidfee = 0.75, infer PT's parameters\n",
      "> Now do SA....... \n",
      "\n"
     ]
    },
    {
     "name": "stderr",
     "output_type": "stream",
     "text": [
      " 12%|█▏        | 147/1276 [26:05<2:31:33,  8.05s/it]"
     ]
    },
    {
     "name": "stdout",
     "output_type": "stream",
     "text": [
      "STOP CODE:  Stay unchanged in the last 6 iterations\n",
      "> SA ENDS....... \n",
      "\n",
      "> avg loss: 2.101189354900957\n",
      "> For the *147_th* data_key\n",
      "> retail = 35.0,bidincrement = 0.15, bidfee = 0.75, infer PT's parameters\n",
      "> Now do SA....... \n",
      "\n"
     ]
    },
    {
     "name": "stderr",
     "output_type": "stream",
     "text": [
      " 12%|█▏        | 148/1276 [26:08<2:02:44,  6.53s/it]"
     ]
    },
    {
     "name": "stdout",
     "output_type": "stream",
     "text": [
      "STOP CODE:  Stay unchanged in the last 6 iterations\n",
      "> SA ENDS....... \n",
      "\n",
      "> avg loss: 3.346531774389536\n",
      "> For the *148_th* data_key\n",
      "> retail = 1049.99,bidincrement = 0.0, bidfee = 0.75, infer PT's parameters\n",
      "> Now do SA....... \n",
      "\n"
     ]
    },
    {
     "name": "stderr",
     "output_type": "stream",
     "text": [
      " 12%|█▏        | 149/1276 [26:09<1:32:06,  4.90s/it]"
     ]
    },
    {
     "name": "stdout",
     "output_type": "stream",
     "text": [
      "STOP CODE:  Stay unchanged in the last 6 iterations\n",
      "> SA ENDS....... \n",
      "\n",
      "> avg loss: 22.92305689207913\n",
      "> For the *149_th* data_key\n",
      "> retail = 699.99,bidincrement = 0.15, bidfee = 0.75, infer PT's parameters\n",
      "> Now do SA....... \n",
      "\n"
     ]
    },
    {
     "name": "stderr",
     "output_type": "stream",
     "text": [
      " 12%|█▏        | 150/1276 [26:18<1:55:14,  6.14s/it]"
     ]
    },
    {
     "name": "stdout",
     "output_type": "stream",
     "text": [
      "STOP CODE:  Stay unchanged in the last 6 iterations\n",
      "> SA ENDS....... \n",
      "\n",
      "> avg loss: 23.02585084780864\n",
      "> For the *150_th* data_key\n",
      "> retail = 699.99,bidincrement = 0.15, bidfee = 0.75, infer PT's parameters\n",
      "> Now do SA....... \n",
      "\n"
     ]
    },
    {
     "name": "stderr",
     "output_type": "stream",
     "text": [
      " 12%|█▏        | 151/1276 [26:39<3:17:19, 10.52s/it]"
     ]
    },
    {
     "name": "stdout",
     "output_type": "stream",
     "text": [
      "STOP CODE:  Stay unchanged in the last 6 iterations\n",
      "> SA ENDS....... \n",
      "\n",
      "> avg loss: 2.770181740474073\n",
      "> For the *151_th* data_key\n",
      "> retail = 19.99,bidincrement = 0.15, bidfee = 0.75, infer PT's parameters\n",
      "> Now do SA....... \n",
      "\n"
     ]
    },
    {
     "name": "stderr",
     "output_type": "stream",
     "text": [
      " 12%|█▏        | 152/1276 [26:43<2:42:19,  8.66s/it]"
     ]
    },
    {
     "name": "stdout",
     "output_type": "stream",
     "text": [
      "STOP CODE:  Stay unchanged in the last 6 iterations\n",
      "> SA ENDS....... \n",
      "\n",
      "> avg loss: 2.5650221022332924\n",
      "> For the *152_th* data_key\n",
      "> retail = 19.99,bidincrement = 0.15, bidfee = 0.75, infer PT's parameters\n",
      "> Now do SA....... \n",
      "\n"
     ]
    },
    {
     "name": "stderr",
     "output_type": "stream",
     "text": [
      " 12%|█▏        | 153/1276 [26:45<2:05:00,  6.68s/it]"
     ]
    },
    {
     "name": "stdout",
     "output_type": "stream",
     "text": [
      "STOP CODE:  Stay unchanged in the last 6 iterations\n",
      "> SA ENDS....... \n",
      "\n",
      "> avg loss: 2.4242500970990655\n",
      "> For the *153_th* data_key\n",
      "> retail = 9.99,bidincrement = 0.15, bidfee = 0.75, infer PT's parameters\n",
      "> Now do SA....... \n",
      "\n"
     ]
    },
    {
     "name": "stderr",
     "output_type": "stream",
     "text": [
      " 12%|█▏        | 154/1276 [26:48<1:42:30,  5.48s/it]"
     ]
    },
    {
     "name": "stdout",
     "output_type": "stream",
     "text": [
      "STOP CODE:  Stay unchanged in the last 6 iterations\n",
      "> SA ENDS....... \n",
      "\n",
      "> avg loss: 1.9798407887359073\n",
      "> For the *154_th* data_key\n",
      "> retail = 19.99,bidincrement = 0.15, bidfee = 0.75, infer PT's parameters\n",
      "> Now do SA....... \n",
      "\n"
     ]
    },
    {
     "name": "stderr",
     "output_type": "stream",
     "text": [
      " 12%|█▏        | 155/1276 [26:50<1:20:45,  4.32s/it]"
     ]
    },
    {
     "name": "stdout",
     "output_type": "stream",
     "text": [
      "STOP CODE:  Stay unchanged in the last 6 iterations\n",
      "> SA ENDS....... \n",
      "\n",
      "> avg loss: 2.3005362835577157\n",
      "> For the *155_th* data_key\n",
      "> retail = 119.99,bidincrement = 0.15, bidfee = 0.75, infer PT's parameters\n",
      "> Now do SA....... \n",
      "\n"
     ]
    },
    {
     "name": "stderr",
     "output_type": "stream",
     "text": [
      " 12%|█▏        | 156/1276 [26:56<1:34:51,  5.08s/it]"
     ]
    },
    {
     "name": "stdout",
     "output_type": "stream",
     "text": [
      "STOP CODE:  Stay unchanged in the last 6 iterations\n",
      "> SA ENDS....... \n",
      "\n",
      "> avg loss: 4.069281827326012\n",
      "> For the *156_th* data_key\n",
      "> retail = 129.99,bidincrement = 0.15, bidfee = 0.75, infer PT's parameters\n",
      "> Now do SA....... \n",
      "\n"
     ]
    },
    {
     "name": "stderr",
     "output_type": "stream",
     "text": [
      " 12%|█▏        | 157/1276 [27:02<1:35:52,  5.14s/it]"
     ]
    },
    {
     "name": "stdout",
     "output_type": "stream",
     "text": [
      "STOP CODE:  Stay unchanged in the last 6 iterations\n",
      "> SA ENDS....... \n",
      "\n",
      "> avg loss: 3.2459991098066387\n",
      "> For the *157_th* data_key\n",
      "> retail = 169.99,bidincrement = 0.15, bidfee = 0.75, infer PT's parameters\n",
      "> Now do SA....... \n",
      "\n"
     ]
    },
    {
     "name": "stderr",
     "output_type": "stream",
     "text": [
      " 12%|█▏        | 158/1276 [27:12<2:06:19,  6.78s/it]"
     ]
    },
    {
     "name": "stdout",
     "output_type": "stream",
     "text": [
      "STOP CODE:  Stay unchanged in the last 6 iterations\n",
      "> SA ENDS....... \n",
      "\n",
      "> avg loss: 2.7045027567569404\n",
      "> For the *158_th* data_key\n",
      "> retail = 36.99,bidincrement = 0.15, bidfee = 0.75, infer PT's parameters\n",
      "> Now do SA....... \n",
      "\n"
     ]
    },
    {
     "name": "stderr",
     "output_type": "stream",
     "text": [
      " 12%|█▏        | 159/1276 [27:16<1:48:07,  5.81s/it]"
     ]
    },
    {
     "name": "stdout",
     "output_type": "stream",
     "text": [
      "STOP CODE:  Stay unchanged in the last 6 iterations\n",
      "> SA ENDS....... \n",
      "\n",
      "> avg loss: 2.7373564424861514\n",
      "> For the *159_th* data_key\n",
      "> retail = 109.99,bidincrement = 0.15, bidfee = 0.75, infer PT's parameters\n",
      "> Now do SA....... \n",
      "\n"
     ]
    },
    {
     "name": "stderr",
     "output_type": "stream",
     "text": [
      " 13%|█▎        | 160/1276 [27:20<1:36:28,  5.19s/it]"
     ]
    },
    {
     "name": "stdout",
     "output_type": "stream",
     "text": [
      "STOP CODE:  Stay unchanged in the last 6 iterations\n",
      "> SA ENDS....... \n",
      "\n",
      "> avg loss: 3.2754413455983475\n",
      "> For the *160_th* data_key\n",
      "> retail = 69.99,bidincrement = 0.15, bidfee = 0.75, infer PT's parameters\n",
      "> Now do SA....... \n",
      "\n"
     ]
    },
    {
     "name": "stderr",
     "output_type": "stream",
     "text": [
      " 13%|█▎        | 161/1276 [27:23<1:24:15,  4.53s/it]"
     ]
    },
    {
     "name": "stdout",
     "output_type": "stream",
     "text": [
      "STOP CODE:  Stay unchanged in the last 6 iterations\n",
      "> SA ENDS....... \n",
      "\n",
      "> avg loss: 2.8988057282620106\n",
      "> For the *161_th* data_key\n",
      "> retail = 1249.99,bidincrement = 0.01, bidfee = 0.75, infer PT's parameters\n",
      "> Now do SA....... \n",
      "\n"
     ]
    },
    {
     "name": "stderr",
     "output_type": "stream",
     "text": [
      " 13%|█▎        | 162/1276 [29:25<12:21:36, 39.94s/it]"
     ]
    },
    {
     "name": "stdout",
     "output_type": "stream",
     "text": [
      "> 超时\n",
      "> SA ENDS....... \n",
      "\n",
      "> avg loss: 23.025851005273076\n",
      "> For the *162_th* data_key\n",
      "> retail = 59.99,bidincrement = 0.15, bidfee = 0.75, infer PT's parameters\n",
      "> Now do SA....... \n",
      "\n"
     ]
    },
    {
     "name": "stderr",
     "output_type": "stream",
     "text": [
      " 13%|█▎        | 163/1276 [29:29<9:02:46, 29.26s/it] "
     ]
    },
    {
     "name": "stdout",
     "output_type": "stream",
     "text": [
      "STOP CODE:  Stay unchanged in the last 6 iterations\n",
      "> SA ENDS....... \n",
      "\n",
      "> avg loss: 2.1344682587146577\n",
      "> For the *163_th* data_key\n",
      "> retail = 129.99,bidincrement = 0.15, bidfee = 0.75, infer PT's parameters\n",
      "> Now do SA....... \n",
      "\n"
     ]
    },
    {
     "name": "stderr",
     "output_type": "stream",
     "text": [
      " 13%|█▎        | 164/1276 [29:37<6:58:54, 22.60s/it]"
     ]
    },
    {
     "name": "stdout",
     "output_type": "stream",
     "text": [
      "STOP CODE:  Stay unchanged in the last 6 iterations\n",
      "> SA ENDS....... \n",
      "\n",
      "> avg loss: 3.1322133970619697\n",
      "> For the *164_th* data_key\n",
      "> retail = 1649.99,bidincrement = 0.01, bidfee = 0.75, infer PT's parameters\n",
      "> Now do SA....... \n",
      "\n"
     ]
    },
    {
     "name": "stderr",
     "output_type": "stream",
     "text": [
      " 13%|█▎        | 165/1276 [31:40<16:18:28, 52.84s/it]"
     ]
    },
    {
     "name": "stdout",
     "output_type": "stream",
     "text": [
      "> 超时\n",
      "> SA ENDS....... \n",
      "\n",
      "> avg loss: 23.025851079026687\n",
      "> For the *165_th* data_key\n",
      "> retail = 37.99,bidincrement = 0.15, bidfee = 0.75, infer PT's parameters\n",
      "> Now do SA....... \n",
      "\n"
     ]
    },
    {
     "name": "stderr",
     "output_type": "stream",
     "text": [
      " 13%|█▎        | 166/1276 [31:42<11:38:02, 37.73s/it]"
     ]
    },
    {
     "name": "stdout",
     "output_type": "stream",
     "text": [
      "STOP CODE:  Stay unchanged in the last 6 iterations\n",
      "> SA ENDS....... \n",
      "\n",
      "> avg loss: 2.7166568665220536\n",
      "> For the *166_th* data_key\n",
      "> retail = 495.0,bidincrement = 0.15, bidfee = 0.75, infer PT's parameters\n",
      "> Now do SA....... \n",
      "\n"
     ]
    },
    {
     "name": "stderr",
     "output_type": "stream",
     "text": [
      " 13%|█▎        | 167/1276 [32:02<9:56:34, 32.28s/it] "
     ]
    },
    {
     "name": "stdout",
     "output_type": "stream",
     "text": [
      "STOP CODE:  Stay unchanged in the last 6 iterations\n",
      "> SA ENDS....... \n",
      "\n",
      "> avg loss: 2.5982260966710418\n",
      "> For the *167_th* data_key\n",
      "> retail = 1495.0,bidincrement = 0.15, bidfee = 0.75, infer PT's parameters\n",
      "> Now do SA....... \n",
      "\n"
     ]
    },
    {
     "name": "stderr",
     "output_type": "stream",
     "text": [
      " 13%|█▎        | 168/1276 [32:35<10:02:06, 32.61s/it]"
     ]
    },
    {
     "name": "stdout",
     "output_type": "stream",
     "text": [
      "STOP CODE:  Stay unchanged in the last 6 iterations\n",
      "> SA ENDS....... \n",
      "\n",
      "> avg loss: 23.006770510737603\n",
      "> For the *168_th* data_key\n",
      "> retail = 62.95,bidincrement = 0.15, bidfee = 0.75, infer PT's parameters\n",
      "> Now do SA....... \n",
      "\n"
     ]
    },
    {
     "name": "stderr",
     "output_type": "stream",
     "text": [
      " 13%|█▎        | 169/1276 [32:39<7:23:50, 24.06s/it] "
     ]
    },
    {
     "name": "stdout",
     "output_type": "stream",
     "text": [
      "STOP CODE:  Stay unchanged in the last 6 iterations\n",
      "> SA ENDS....... \n",
      "\n",
      "> avg loss: 2.229723253276167\n",
      "> For the *169_th* data_key\n",
      "> retail = 295.0,bidincrement = 0.15, bidfee = 0.75, infer PT's parameters\n",
      "> Now do SA....... \n",
      "\n"
     ]
    },
    {
     "name": "stderr",
     "output_type": "stream",
     "text": [
      " 13%|█▎        | 170/1276 [32:44<5:37:55, 18.33s/it]"
     ]
    },
    {
     "name": "stdout",
     "output_type": "stream",
     "text": [
      "STOP CODE:  Stay unchanged in the last 6 iterations\n",
      "> SA ENDS....... \n",
      "\n",
      "> avg loss: 22.990320720394056\n",
      "> For the *170_th* data_key\n",
      "> retail = 133.74,bidincrement = 0.15, bidfee = 0.75, infer PT's parameters\n",
      "> Now do SA....... \n",
      "\n"
     ]
    },
    {
     "name": "stderr",
     "output_type": "stream",
     "text": [
      " 13%|█▎        | 171/1276 [32:52<4:38:41, 15.13s/it]"
     ]
    },
    {
     "name": "stdout",
     "output_type": "stream",
     "text": [
      "STOP CODE:  Stay unchanged in the last 6 iterations\n",
      "> SA ENDS....... \n",
      "\n",
      "> avg loss: 3.018400812484416\n",
      "> For the *171_th* data_key\n",
      "> retail = 29.99,bidincrement = 0.15, bidfee = 0.75, infer PT's parameters\n",
      "> Now do SA....... \n",
      "\n"
     ]
    },
    {
     "name": "stderr",
     "output_type": "stream",
     "text": [
      " 13%|█▎        | 172/1276 [32:56<3:36:43, 11.78s/it]"
     ]
    },
    {
     "name": "stdout",
     "output_type": "stream",
     "text": [
      "STOP CODE:  Stay unchanged in the last 6 iterations\n",
      "> SA ENDS....... \n",
      "\n",
      "> avg loss: 2.873116614679904\n",
      "> For the *172_th* data_key\n",
      "> retail = 49.99,bidincrement = 0.15, bidfee = 0.75, infer PT's parameters\n",
      "> Now do SA....... \n",
      "\n"
     ]
    },
    {
     "name": "stderr",
     "output_type": "stream",
     "text": [
      " 14%|█▎        | 173/1276 [32:58<2:43:18,  8.88s/it]"
     ]
    },
    {
     "name": "stdout",
     "output_type": "stream",
     "text": [
      "STOP CODE:  Stay unchanged in the last 6 iterations\n",
      "> SA ENDS....... \n",
      "\n",
      "> avg loss: 2.569895659526338\n",
      "> For the *173_th* data_key\n",
      "> retail = 1599.99,bidincrement = 0.01, bidfee = 0.75, infer PT's parameters\n",
      "> Now do SA....... \n",
      "\n"
     ]
    },
    {
     "name": "stderr",
     "output_type": "stream",
     "text": [
      " 14%|█▎        | 174/1276 [35:01<13:13:24, 43.20s/it]"
     ]
    },
    {
     "name": "stdout",
     "output_type": "stream",
     "text": [
      "> 超时\n",
      "> SA ENDS....... \n",
      "\n",
      "> avg loss: 23.025851063195585\n",
      "> For the *174_th* data_key\n",
      "> retail = 1399.99,bidincrement = 0.01, bidfee = 0.75, infer PT's parameters\n",
      "> Now do SA....... \n",
      "\n"
     ]
    },
    {
     "name": "stderr",
     "output_type": "stream",
     "text": [
      " 14%|█▎        | 175/1276 [37:04<20:30:22, 67.05s/it]"
     ]
    },
    {
     "name": "stdout",
     "output_type": "stream",
     "text": [
      "> 超时\n",
      "> SA ENDS....... \n",
      "\n",
      "> avg loss: 23.025851040662708\n",
      "> For the *175_th* data_key\n",
      "> retail = 139.99,bidincrement = 0.15, bidfee = 0.75, infer PT's parameters\n",
      "> Now do SA....... \n",
      "\n"
     ]
    },
    {
     "name": "stderr",
     "output_type": "stream",
     "text": [
      " 14%|█▍        | 176/1276 [37:08<14:43:29, 48.19s/it]"
     ]
    },
    {
     "name": "stdout",
     "output_type": "stream",
     "text": [
      "STOP CODE:  Stay unchanged in the last 6 iterations\n",
      "> SA ENDS....... \n",
      "\n",
      "> avg loss: 4.059820455966919\n",
      "> For the *176_th* data_key\n",
      "> retail = 169.99,bidincrement = 0.15, bidfee = 0.75, infer PT's parameters\n",
      "> Now do SA....... \n",
      "\n"
     ]
    },
    {
     "name": "stderr",
     "output_type": "stream",
     "text": [
      " 14%|█▍        | 177/1276 [37:14<10:47:21, 35.34s/it]"
     ]
    },
    {
     "name": "stdout",
     "output_type": "stream",
     "text": [
      "STOP CODE:  Stay unchanged in the last 6 iterations\n",
      "> SA ENDS....... \n",
      "\n",
      "> avg loss: 4.3261548132369905\n",
      "> For the *177_th* data_key\n",
      "> retail = 629.99,bidincrement = 0.15, bidfee = 0.75, infer PT's parameters\n",
      "> Now do SA....... \n",
      "\n"
     ]
    },
    {
     "name": "stderr",
     "output_type": "stream",
     "text": [
      " 14%|█▍        | 178/1276 [37:22<8:19:15, 27.28s/it] "
     ]
    },
    {
     "name": "stdout",
     "output_type": "stream",
     "text": [
      "STOP CODE:  Stay unchanged in the last 6 iterations\n",
      "> SA ENDS....... \n",
      "\n",
      "> avg loss: 23.02585084756893\n",
      "> For the *178_th* data_key\n",
      "> retail = 1495.0,bidincrement = 0.15, bidfee = 0.75, infer PT's parameters\n",
      "> Now do SA....... \n",
      "\n"
     ]
    },
    {
     "name": "stderr",
     "output_type": "stream",
     "text": [
      " 14%|█▍        | 179/1276 [37:44<7:46:18, 25.50s/it]"
     ]
    },
    {
     "name": "stdout",
     "output_type": "stream",
     "text": [
      "STOP CODE:  Stay unchanged in the last 6 iterations\n",
      "> SA ENDS....... \n",
      "\n",
      "> avg loss: 23.025851022409835\n",
      "> For the *179_th* data_key\n",
      "> retail = 105.5,bidincrement = 0.15, bidfee = 0.75, infer PT's parameters\n",
      "> Now do SA....... \n",
      "\n"
     ]
    },
    {
     "name": "stderr",
     "output_type": "stream",
     "text": [
      " 14%|█▍        | 180/1276 [37:49<5:56:30, 19.52s/it]"
     ]
    },
    {
     "name": "stdout",
     "output_type": "stream",
     "text": [
      "STOP CODE:  Stay unchanged in the last 6 iterations\n",
      "> SA ENDS....... \n",
      "\n",
      "> avg loss: 4.006237244193154\n",
      "> For the *180_th* data_key\n",
      "> retail = 299.0,bidincrement = 0.15, bidfee = 0.75, infer PT's parameters\n",
      "> Now do SA....... \n",
      "\n"
     ]
    },
    {
     "name": "stderr",
     "output_type": "stream",
     "text": [
      " 14%|█▍        | 181/1276 [37:57<4:50:08, 15.90s/it]"
     ]
    },
    {
     "name": "stdout",
     "output_type": "stream",
     "text": [
      "STOP CODE:  Stay unchanged in the last 6 iterations\n",
      "> SA ENDS....... \n",
      "\n",
      "> avg loss: 5.854361570955348\n",
      "> For the *181_th* data_key\n",
      "> retail = 610.0,bidincrement = 0.15, bidfee = 0.75, infer PT's parameters\n",
      "> Now do SA....... \n",
      "\n"
     ]
    },
    {
     "name": "stderr",
     "output_type": "stream",
     "text": [
      " 14%|█▍        | 182/1276 [38:09<4:32:24, 14.94s/it]"
     ]
    },
    {
     "name": "stdout",
     "output_type": "stream",
     "text": [
      "STOP CODE:  Stay unchanged in the last 6 iterations\n",
      "> SA ENDS....... \n",
      "\n",
      "> avg loss: 3.4865250933815144\n",
      "> For the *182_th* data_key\n",
      "> retail = 24.99,bidincrement = 0.15, bidfee = 0.75, infer PT's parameters\n",
      "> Now do SA....... \n",
      "\n"
     ]
    },
    {
     "name": "stderr",
     "output_type": "stream",
     "text": [
      " 14%|█▍        | 183/1276 [38:11<3:19:00, 10.92s/it]"
     ]
    },
    {
     "name": "stdout",
     "output_type": "stream",
     "text": [
      "STOP CODE:  Stay unchanged in the last 6 iterations\n",
      "> SA ENDS....... \n",
      "\n",
      "> avg loss: 2.027397147685228\n",
      "> For the *183_th* data_key\n",
      "> retail = 89.99,bidincrement = 0.15, bidfee = 0.75, infer PT's parameters\n",
      "> Now do SA....... \n",
      "\n"
     ]
    },
    {
     "name": "stderr",
     "output_type": "stream",
     "text": [
      " 14%|█▍        | 184/1276 [38:14<2:35:02,  8.52s/it]"
     ]
    },
    {
     "name": "stdout",
     "output_type": "stream",
     "text": [
      "STOP CODE:  Stay unchanged in the last 6 iterations\n",
      "> SA ENDS....... \n",
      "\n",
      "> avg loss: 2.5568100474856696\n",
      "> For the *184_th* data_key\n",
      "> retail = 49.99,bidincrement = 0.15, bidfee = 0.75, infer PT's parameters\n",
      "> Now do SA....... \n",
      "\n"
     ]
    },
    {
     "name": "stderr",
     "output_type": "stream",
     "text": [
      " 14%|█▍        | 185/1276 [38:17<2:04:16,  6.83s/it]"
     ]
    },
    {
     "name": "stdout",
     "output_type": "stream",
     "text": [
      "STOP CODE:  Stay unchanged in the last 6 iterations\n",
      "> SA ENDS....... \n",
      "\n",
      "> avg loss: 2.1207542706888147\n",
      "> For the *185_th* data_key\n",
      "> retail = 59.95,bidincrement = 0.15, bidfee = 0.75, infer PT's parameters\n",
      "> Now do SA....... \n",
      "\n"
     ]
    },
    {
     "name": "stderr",
     "output_type": "stream",
     "text": [
      " 15%|█▍        | 186/1276 [38:22<1:56:44,  6.43s/it]"
     ]
    },
    {
     "name": "stdout",
     "output_type": "stream",
     "text": [
      "STOP CODE:  Stay unchanged in the last 6 iterations\n",
      "> SA ENDS....... \n",
      "\n",
      "> avg loss: 2.628271099957158\n",
      "> For the *186_th* data_key\n",
      "> retail = 49.99,bidincrement = 0.15, bidfee = 0.75, infer PT's parameters\n",
      "> Now do SA....... \n",
      "\n"
     ]
    },
    {
     "name": "stderr",
     "output_type": "stream",
     "text": [
      " 15%|█▍        | 187/1276 [38:25<1:37:58,  5.40s/it]"
     ]
    },
    {
     "name": "stdout",
     "output_type": "stream",
     "text": [
      "STOP CODE:  Stay unchanged in the last 6 iterations\n",
      "> SA ENDS....... \n",
      "\n",
      "> avg loss: 2.050564668133652\n",
      "> For the *187_th* data_key\n",
      "> retail = 49.99,bidincrement = 0.15, bidfee = 0.75, infer PT's parameters\n",
      "> Now do SA....... \n",
      "\n"
     ]
    },
    {
     "name": "stderr",
     "output_type": "stream",
     "text": [
      " 15%|█▍        | 188/1276 [38:28<1:22:25,  4.55s/it]"
     ]
    },
    {
     "name": "stdout",
     "output_type": "stream",
     "text": [
      "STOP CODE:  Stay unchanged in the last 6 iterations\n",
      "> SA ENDS....... \n",
      "\n",
      "> avg loss: 2.190040866668385\n",
      "> For the *188_th* data_key\n",
      "> retail = 49.99,bidincrement = 0.15, bidfee = 0.75, infer PT's parameters\n",
      "> Now do SA....... \n",
      "\n"
     ]
    },
    {
     "name": "stderr",
     "output_type": "stream",
     "text": [
      " 15%|█▍        | 189/1276 [38:31<1:15:26,  4.16s/it]"
     ]
    },
    {
     "name": "stdout",
     "output_type": "stream",
     "text": [
      "STOP CODE:  Stay unchanged in the last 6 iterations\n",
      "> SA ENDS....... \n",
      "\n",
      "> avg loss: 2.2026019530352205\n",
      "> For the *189_th* data_key\n",
      "> retail = 39.99,bidincrement = 0.15, bidfee = 0.75, infer PT's parameters\n",
      "> Now do SA....... \n",
      "\n"
     ]
    },
    {
     "name": "stderr",
     "output_type": "stream",
     "text": [
      " 15%|█▍        | 190/1276 [38:35<1:14:52,  4.14s/it]"
     ]
    },
    {
     "name": "stdout",
     "output_type": "stream",
     "text": [
      "STOP CODE:  Stay unchanged in the last 6 iterations\n",
      "> SA ENDS....... \n",
      "\n",
      "> avg loss: 2.2444110965993236\n",
      "> For the *190_th* data_key\n",
      "> retail = 39.99,bidincrement = 0.15, bidfee = 0.75, infer PT's parameters\n",
      "> Now do SA....... \n",
      "\n"
     ]
    },
    {
     "name": "stderr",
     "output_type": "stream",
     "text": [
      " 15%|█▍        | 191/1276 [38:38<1:06:42,  3.69s/it]"
     ]
    },
    {
     "name": "stdout",
     "output_type": "stream",
     "text": [
      "STOP CODE:  Stay unchanged in the last 6 iterations\n",
      "> SA ENDS....... \n",
      "\n",
      "> avg loss: 2.077096951889093\n",
      "> For the *191_th* data_key\n",
      "> retail = 59.99,bidincrement = 0.15, bidfee = 0.75, infer PT's parameters\n",
      "> Now do SA....... \n",
      "\n"
     ]
    },
    {
     "name": "stderr",
     "output_type": "stream",
     "text": [
      " 15%|█▌        | 192/1276 [38:40<56:56,  3.15s/it]  "
     ]
    },
    {
     "name": "stdout",
     "output_type": "stream",
     "text": [
      "STOP CODE:  Stay unchanged in the last 6 iterations\n",
      "> SA ENDS....... \n",
      "\n",
      "> avg loss: 2.171956565644003\n",
      "> For the *192_th* data_key\n",
      "> retail = 49.99,bidincrement = 0.15, bidfee = 0.75, infer PT's parameters\n",
      "> Now do SA....... \n",
      "\n"
     ]
    },
    {
     "name": "stderr",
     "output_type": "stream",
     "text": [
      " 15%|█▌        | 193/1276 [38:42<53:57,  2.99s/it]"
     ]
    },
    {
     "name": "stdout",
     "output_type": "stream",
     "text": [
      "STOP CODE:  Stay unchanged in the last 6 iterations\n",
      "> SA ENDS....... \n",
      "\n",
      "> avg loss: 2.3940088277622995\n",
      "> For the *193_th* data_key\n",
      "> retail = 495.0,bidincrement = 0.15, bidfee = 0.75, infer PT's parameters\n",
      "> Now do SA....... \n",
      "\n"
     ]
    },
    {
     "name": "stderr",
     "output_type": "stream",
     "text": [
      " 15%|█▌        | 194/1276 [39:01<2:19:39,  7.74s/it]"
     ]
    },
    {
     "name": "stdout",
     "output_type": "stream",
     "text": [
      "STOP CODE:  Stay unchanged in the last 6 iterations\n",
      "> SA ENDS....... \n",
      "\n",
      "> avg loss: 2.6106786930229555\n",
      "> For the *194_th* data_key\n",
      "> retail = 795.0,bidincrement = 0.15, bidfee = 0.75, infer PT's parameters\n",
      "> Now do SA....... \n",
      "\n"
     ]
    },
    {
     "name": "stderr",
     "output_type": "stream",
     "text": [
      " 15%|█▌        | 195/1276 [39:12<2:36:58,  8.71s/it]"
     ]
    },
    {
     "name": "stdout",
     "output_type": "stream",
     "text": [
      "STOP CODE:  Stay unchanged in the last 6 iterations\n",
      "> SA ENDS....... \n",
      "\n",
      "> avg loss: 23.025850937261396\n",
      "> For the *195_th* data_key\n",
      "> retail = 375.0,bidincrement = 0.15, bidfee = 0.75, infer PT's parameters\n",
      "> Now do SA....... \n",
      "\n"
     ]
    },
    {
     "name": "stderr",
     "output_type": "stream",
     "text": [
      " 15%|█▌        | 196/1276 [39:31<3:34:57, 11.94s/it]"
     ]
    },
    {
     "name": "stdout",
     "output_type": "stream",
     "text": [
      "STOP CODE:  Stay unchanged in the last 6 iterations\n",
      "> SA ENDS....... \n",
      "\n",
      "> avg loss: 3.934616203705235\n",
      "> For the *196_th* data_key\n",
      "> retail = 19.99,bidincrement = 0.15, bidfee = 0.75, infer PT's parameters\n",
      "> Now do SA....... \n",
      "\n"
     ]
    },
    {
     "name": "stderr",
     "output_type": "stream",
     "text": [
      " 15%|█▌        | 197/1276 [39:33<2:39:02,  8.84s/it]"
     ]
    },
    {
     "name": "stdout",
     "output_type": "stream",
     "text": [
      "STOP CODE:  Stay unchanged in the last 6 iterations\n",
      "> SA ENDS....... \n",
      "\n",
      "> avg loss: 1.9862888229722633\n",
      "> For the *197_th* data_key\n",
      "> retail = 12.99,bidincrement = 0.15, bidfee = 0.75, infer PT's parameters\n",
      "> Now do SA....... \n",
      "\n"
     ]
    },
    {
     "name": "stderr",
     "output_type": "stream",
     "text": [
      " 16%|█▌        | 198/1276 [39:36<2:09:21,  7.20s/it]"
     ]
    },
    {
     "name": "stdout",
     "output_type": "stream",
     "text": [
      "STOP CODE:  Stay unchanged in the last 6 iterations\n",
      "> SA ENDS....... \n",
      "\n",
      "> avg loss: 1.8499664351855127\n",
      "> For the *198_th* data_key\n",
      "> retail = 139.99,bidincrement = 0.15, bidfee = 0.75, infer PT's parameters\n",
      "> Now do SA....... \n",
      "\n"
     ]
    },
    {
     "name": "stderr",
     "output_type": "stream",
     "text": [
      " 16%|█▌        | 199/1276 [39:44<2:09:09,  7.20s/it]"
     ]
    },
    {
     "name": "stdout",
     "output_type": "stream",
     "text": [
      "STOP CODE:  Stay unchanged in the last 6 iterations\n",
      "> SA ENDS....... \n",
      "\n",
      "> avg loss: 3.8193412861573277\n",
      "> For the *199_th* data_key\n",
      "> retail = 149.99,bidincrement = 0.15, bidfee = 0.75, infer PT's parameters\n",
      "> Now do SA....... \n",
      "\n"
     ]
    },
    {
     "name": "stderr",
     "output_type": "stream",
     "text": [
      " 16%|█▌        | 200/1276 [39:52<2:14:36,  7.51s/it]"
     ]
    },
    {
     "name": "stdout",
     "output_type": "stream",
     "text": [
      "STOP CODE:  Stay unchanged in the last 6 iterations\n",
      "> SA ENDS....... \n",
      "\n",
      "> avg loss: 3.6621619319715855\n",
      "> For the *200_th* data_key\n",
      "> retail = 39.99,bidincrement = 0.15, bidfee = 0.75, infer PT's parameters\n",
      "> Now do SA....... \n",
      "\n"
     ]
    },
    {
     "name": "stderr",
     "output_type": "stream",
     "text": [
      " 16%|█▌        | 201/1276 [39:55<1:52:49,  6.30s/it]"
     ]
    },
    {
     "name": "stdout",
     "output_type": "stream",
     "text": [
      "STOP CODE:  Stay unchanged in the last 6 iterations\n",
      "> SA ENDS....... \n",
      "\n",
      "> avg loss: 2.366738444353805\n",
      "> For the *201_th* data_key\n",
      "> retail = 599.99,bidincrement = 0.15, bidfee = 0.75, infer PT's parameters\n",
      "> Now do SA....... \n",
      "\n"
     ]
    },
    {
     "name": "stderr",
     "output_type": "stream",
     "text": [
      " 16%|█▌        | 202/1276 [40:10<2:39:31,  8.91s/it]"
     ]
    },
    {
     "name": "stdout",
     "output_type": "stream",
     "text": [
      "STOP CODE:  Stay unchanged in the last 6 iterations\n",
      "> SA ENDS....... \n",
      "\n",
      "> avg loss: 2.4182407229396885\n",
      "> For the *202_th* data_key\n",
      "> retail = 39.99,bidincrement = 0.15, bidfee = 0.75, infer PT's parameters\n",
      "> Now do SA....... \n",
      "\n"
     ]
    },
    {
     "name": "stderr",
     "output_type": "stream",
     "text": [
      " 16%|█▌        | 203/1276 [40:16<2:22:04,  7.94s/it]"
     ]
    },
    {
     "name": "stdout",
     "output_type": "stream",
     "text": [
      "STOP CODE:  Stay unchanged in the last 6 iterations\n",
      "> SA ENDS....... \n",
      "\n",
      "> avg loss: 2.6403469051985837\n",
      "> For the *203_th* data_key\n",
      "> retail = 49.99,bidincrement = 0.15, bidfee = 0.75, infer PT's parameters\n",
      "> Now do SA....... \n",
      "\n"
     ]
    },
    {
     "name": "stderr",
     "output_type": "stream",
     "text": [
      " 16%|█▌        | 204/1276 [40:19<1:54:19,  6.40s/it]"
     ]
    },
    {
     "name": "stdout",
     "output_type": "stream",
     "text": [
      "STOP CODE:  Stay unchanged in the last 6 iterations\n",
      "> SA ENDS....... \n",
      "\n",
      "> avg loss: 3.071530417100087\n",
      "> For the *204_th* data_key\n",
      "> retail = 449.95,bidincrement = 0.15, bidfee = 0.75, infer PT's parameters\n",
      "> Now do SA....... \n",
      "\n"
     ]
    },
    {
     "name": "stderr",
     "output_type": "stream",
     "text": [
      " 16%|█▌        | 205/1276 [40:39<3:06:17, 10.44s/it]"
     ]
    },
    {
     "name": "stdout",
     "output_type": "stream",
     "text": [
      "STOP CODE:  Stay unchanged in the last 6 iterations\n",
      "> SA ENDS....... \n",
      "\n",
      "> avg loss: 2.937610870626658\n",
      "> For the *205_th* data_key\n",
      "> retail = 99.99,bidincrement = 0.15, bidfee = 0.75, infer PT's parameters\n",
      "> Now do SA....... \n",
      "\n"
     ]
    },
    {
     "name": "stderr",
     "output_type": "stream",
     "text": [
      " 16%|█▌        | 206/1276 [40:43<2:32:12,  8.54s/it]"
     ]
    },
    {
     "name": "stdout",
     "output_type": "stream",
     "text": [
      "STOP CODE:  Stay unchanged in the last 6 iterations\n",
      "> SA ENDS....... \n",
      "\n",
      "> avg loss: 3.2449693973711113\n",
      "> For the *206_th* data_key\n",
      "> retail = 64.79,bidincrement = 0.15, bidfee = 0.75, infer PT's parameters\n",
      "> Now do SA....... \n",
      "\n"
     ]
    },
    {
     "name": "stderr",
     "output_type": "stream",
     "text": [
      " 16%|█▌        | 207/1276 [40:46<2:01:51,  6.84s/it]"
     ]
    },
    {
     "name": "stdout",
     "output_type": "stream",
     "text": [
      "STOP CODE:  Stay unchanged in the last 6 iterations\n",
      "> SA ENDS....... \n",
      "\n",
      "> avg loss: 3.644273038338732\n",
      "> For the *207_th* data_key\n",
      "> retail = 32.39,bidincrement = 0.15, bidfee = 0.75, infer PT's parameters\n",
      "> Now do SA....... \n",
      "\n"
     ]
    },
    {
     "name": "stderr",
     "output_type": "stream",
     "text": [
      " 16%|█▋        | 208/1276 [40:48<1:39:18,  5.58s/it]"
     ]
    },
    {
     "name": "stdout",
     "output_type": "stream",
     "text": [
      "STOP CODE:  Stay unchanged in the last 6 iterations\n",
      "> SA ENDS....... \n",
      "\n",
      "> avg loss: 2.17036047364926\n",
      "> For the *208_th* data_key\n",
      "> retail = 495.0,bidincrement = 0.15, bidfee = 0.75, infer PT's parameters\n",
      "> Now do SA....... \n",
      "\n"
     ]
    },
    {
     "name": "stderr",
     "output_type": "stream",
     "text": [
      " 16%|█▋        | 209/1276 [41:14<3:26:02, 11.59s/it]"
     ]
    },
    {
     "name": "stdout",
     "output_type": "stream",
     "text": [
      "STOP CODE:  Stay unchanged in the last 6 iterations\n",
      "> SA ENDS....... \n",
      "\n",
      "> avg loss: 2.93770745030793\n",
      "> For the *209_th* data_key\n",
      "> retail = 349.99,bidincrement = 0.15, bidfee = 0.75, infer PT's parameters\n",
      "> Now do SA....... \n",
      "\n"
     ]
    },
    {
     "name": "stderr",
     "output_type": "stream",
     "text": [
      " 16%|█▋        | 210/1276 [41:23<3:11:29, 10.78s/it]"
     ]
    },
    {
     "name": "stdout",
     "output_type": "stream",
     "text": [
      "STOP CODE:  Stay unchanged in the last 6 iterations\n",
      "> SA ENDS....... \n",
      "\n",
      "> avg loss: 2.126008328672142\n",
      "> For the *210_th* data_key\n",
      "> retail = 36.99,bidincrement = 0.15, bidfee = 0.75, infer PT's parameters\n",
      "> Now do SA....... \n",
      "\n"
     ]
    },
    {
     "name": "stderr",
     "output_type": "stream",
     "text": [
      " 17%|█▋        | 211/1276 [41:30<2:50:35,  9.61s/it]"
     ]
    },
    {
     "name": "stdout",
     "output_type": "stream",
     "text": [
      "STOP CODE:  Stay unchanged in the last 6 iterations\n",
      "> SA ENDS....... \n",
      "\n",
      "> avg loss: 2.750008704538561\n",
      "> For the *211_th* data_key\n",
      "> retail = 29.99,bidincrement = 0.15, bidfee = 0.75, infer PT's parameters\n",
      "> Now do SA....... \n",
      "\n"
     ]
    },
    {
     "name": "stderr",
     "output_type": "stream",
     "text": [
      " 17%|█▋        | 212/1276 [41:32<2:10:44,  7.37s/it]"
     ]
    },
    {
     "name": "stdout",
     "output_type": "stream",
     "text": [
      "STOP CODE:  Stay unchanged in the last 6 iterations\n",
      "> SA ENDS....... \n",
      "\n",
      "> avg loss: 2.6441881967834857\n",
      "> For the *212_th* data_key\n",
      "> retail = 59.99,bidincrement = 0.15, bidfee = 0.75, infer PT's parameters\n",
      "> Now do SA....... \n",
      "\n"
     ]
    },
    {
     "name": "stderr",
     "output_type": "stream",
     "text": [
      " 17%|█▋        | 213/1276 [41:38<2:02:09,  6.89s/it]"
     ]
    },
    {
     "name": "stdout",
     "output_type": "stream",
     "text": [
      "STOP CODE:  Stay unchanged in the last 6 iterations\n",
      "> SA ENDS....... \n",
      "\n",
      "> avg loss: 2.2969932056272246\n",
      "> For the *213_th* data_key\n",
      "> retail = 49.99,bidincrement = 0.15, bidfee = 0.75, infer PT's parameters\n",
      "> Now do SA....... \n",
      "\n"
     ]
    },
    {
     "name": "stderr",
     "output_type": "stream",
     "text": [
      " 17%|█▋        | 214/1276 [41:40<1:36:34,  5.46s/it]"
     ]
    },
    {
     "name": "stdout",
     "output_type": "stream",
     "text": [
      "STOP CODE:  Stay unchanged in the last 6 iterations\n",
      "> SA ENDS....... \n",
      "\n",
      "> avg loss: 2.3019111078295307\n",
      "> For the *214_th* data_key\n",
      "> retail = 49.99,bidincrement = 0.15, bidfee = 0.75, infer PT's parameters\n",
      "> Now do SA....... \n",
      "\n"
     ]
    },
    {
     "name": "stderr",
     "output_type": "stream",
     "text": [
      " 17%|█▋        | 215/1276 [41:42<1:17:21,  4.37s/it]"
     ]
    },
    {
     "name": "stdout",
     "output_type": "stream",
     "text": [
      "STOP CODE:  Stay unchanged in the last 6 iterations\n",
      "> SA ENDS....... \n",
      "\n",
      "> avg loss: 2.3245441708396863\n",
      "> For the *215_th* data_key\n",
      "> retail = 59.99,bidincrement = 0.15, bidfee = 0.75, infer PT's parameters\n",
      "> Now do SA....... \n",
      "\n"
     ]
    },
    {
     "name": "stderr",
     "output_type": "stream",
     "text": [
      " 17%|█▋        | 216/1276 [41:44<1:06:00,  3.74s/it]"
     ]
    },
    {
     "name": "stdout",
     "output_type": "stream",
     "text": [
      "STOP CODE:  Stay unchanged in the last 6 iterations\n",
      "> SA ENDS....... \n",
      "\n",
      "> avg loss: 2.4624569493302086\n",
      "> For the *216_th* data_key\n",
      "> retail = 59.99,bidincrement = 0.15, bidfee = 0.75, infer PT's parameters\n",
      "> Now do SA....... \n",
      "\n"
     ]
    },
    {
     "name": "stderr",
     "output_type": "stream",
     "text": [
      " 17%|█▋        | 217/1276 [41:47<1:01:39,  3.49s/it]"
     ]
    },
    {
     "name": "stdout",
     "output_type": "stream",
     "text": [
      "STOP CODE:  Stay unchanged in the last 6 iterations\n",
      "> SA ENDS....... \n",
      "\n",
      "> avg loss: 2.8047377442161\n",
      "> For the *217_th* data_key\n",
      "> retail = 59.99,bidincrement = 0.15, bidfee = 0.75, infer PT's parameters\n",
      "> Now do SA....... \n",
      "\n"
     ]
    },
    {
     "name": "stderr",
     "output_type": "stream",
     "text": [
      " 17%|█▋        | 218/1276 [41:49<56:32,  3.21s/it]  "
     ]
    },
    {
     "name": "stdout",
     "output_type": "stream",
     "text": [
      "STOP CODE:  Stay unchanged in the last 6 iterations\n",
      "> SA ENDS....... \n",
      "\n",
      "> avg loss: 2.5680345804143387\n",
      "> For the *218_th* data_key\n",
      "> retail = 59.99,bidincrement = 0.15, bidfee = 0.75, infer PT's parameters\n",
      "> Now do SA....... \n",
      "\n"
     ]
    },
    {
     "name": "stderr",
     "output_type": "stream",
     "text": [
      " 17%|█▋        | 219/1276 [41:51<50:19,  2.86s/it]"
     ]
    },
    {
     "name": "stdout",
     "output_type": "stream",
     "text": [
      "STOP CODE:  Stay unchanged in the last 6 iterations\n",
      "> SA ENDS....... \n",
      "\n",
      "> avg loss: 2.3835278702980145\n",
      "> For the *219_th* data_key\n",
      "> retail = 29.99,bidincrement = 0.15, bidfee = 0.75, infer PT's parameters\n",
      "> Now do SA....... \n",
      "\n"
     ]
    },
    {
     "name": "stderr",
     "output_type": "stream",
     "text": [
      " 17%|█▋        | 220/1276 [41:54<50:33,  2.87s/it]"
     ]
    },
    {
     "name": "stdout",
     "output_type": "stream",
     "text": [
      "STOP CODE:  Stay unchanged in the last 6 iterations\n",
      "> SA ENDS....... \n",
      "\n",
      "> avg loss: 2.101684727994849\n",
      "> For the *220_th* data_key\n",
      "> retail = 19.99,bidincrement = 0.15, bidfee = 0.75, infer PT's parameters\n",
      "> Now do SA....... \n",
      "\n"
     ]
    },
    {
     "name": "stderr",
     "output_type": "stream",
     "text": [
      " 17%|█▋        | 221/1276 [41:58<53:20,  3.03s/it]"
     ]
    },
    {
     "name": "stdout",
     "output_type": "stream",
     "text": [
      "STOP CODE:  Stay unchanged in the last 6 iterations\n",
      "> SA ENDS....... \n",
      "\n",
      "> avg loss: 2.2766770079125576\n",
      "> For the *221_th* data_key\n",
      "> retail = 59.99,bidincrement = 0.15, bidfee = 0.75, infer PT's parameters\n",
      "> Now do SA....... \n",
      "\n"
     ]
    },
    {
     "name": "stderr",
     "output_type": "stream",
     "text": [
      " 17%|█▋        | 222/1276 [42:02<58:12,  3.31s/it]"
     ]
    },
    {
     "name": "stdout",
     "output_type": "stream",
     "text": [
      "STOP CODE:  Stay unchanged in the last 6 iterations\n",
      "> SA ENDS....... \n",
      "\n",
      "> avg loss: 2.5231690720810485\n",
      "> For the *222_th* data_key\n",
      "> retail = 899.99,bidincrement = 0.01, bidfee = 0.75, infer PT's parameters\n",
      "> Now do SA....... \n",
      "\n"
     ]
    },
    {
     "name": "stderr",
     "output_type": "stream",
     "text": [
      " 17%|█▋        | 223/1276 [44:03<11:21:52, 38.85s/it]"
     ]
    },
    {
     "name": "stdout",
     "output_type": "stream",
     "text": [
      "> 超时\n",
      "> SA ENDS....... \n",
      "\n",
      "> avg loss: 23.025850972089035\n",
      "> For the *223_th* data_key\n",
      "> retail = 29.99,bidincrement = 0.15, bidfee = 0.75, infer PT's parameters\n",
      "> Now do SA....... \n",
      "\n"
     ]
    },
    {
     "name": "stderr",
     "output_type": "stream",
     "text": [
      " 18%|█▊        | 224/1276 [44:07<8:14:04, 28.18s/it] "
     ]
    },
    {
     "name": "stdout",
     "output_type": "stream",
     "text": [
      "STOP CODE:  Stay unchanged in the last 6 iterations\n",
      "> SA ENDS....... \n",
      "\n",
      "> avg loss: 2.550798085876703\n",
      "> For the *224_th* data_key\n",
      "> retail = 449.95,bidincrement = 0.01, bidfee = 0.75, infer PT's parameters\n",
      "> Now do SA....... \n",
      "\n"
     ]
    },
    {
     "name": "stderr",
     "output_type": "stream",
     "text": [
      " 18%|█▊        | 225/1276 [46:07<16:20:20, 55.97s/it]"
     ]
    },
    {
     "name": "stdout",
     "output_type": "stream",
     "text": [
      "> 超时\n",
      "> SA ENDS....... \n",
      "\n",
      "> avg loss: 23.02585090825454\n",
      "> For the *225_th* data_key\n",
      "> retail = 499.0,bidincrement = 0.15, bidfee = 0.75, infer PT's parameters\n",
      "> Now do SA....... \n",
      "\n"
     ]
    },
    {
     "name": "stderr",
     "output_type": "stream",
     "text": [
      " 18%|█▊        | 226/1276 [46:15<12:03:05, 41.32s/it]"
     ]
    },
    {
     "name": "stdout",
     "output_type": "stream",
     "text": [
      "STOP CODE:  Stay unchanged in the last 6 iterations\n",
      "> SA ENDS....... \n",
      "\n",
      "> avg loss: 23.025850847601905\n",
      "> For the *226_th* data_key\n",
      "> retail = 129.99,bidincrement = 0.15, bidfee = 0.75, infer PT's parameters\n",
      "> Now do SA....... \n",
      "\n"
     ]
    },
    {
     "name": "stderr",
     "output_type": "stream",
     "text": [
      " 18%|█▊        | 227/1276 [46:20<8:54:34, 30.58s/it] "
     ]
    },
    {
     "name": "stdout",
     "output_type": "stream",
     "text": [
      "STOP CODE:  Stay unchanged in the last 6 iterations\n",
      "> SA ENDS....... \n",
      "\n",
      "> avg loss: 3.375097430497547\n",
      "> For the *227_th* data_key\n",
      "> retail = 49.99,bidincrement = 0.15, bidfee = 0.75, infer PT's parameters\n",
      "> Now do SA....... \n",
      "\n"
     ]
    },
    {
     "name": "stderr",
     "output_type": "stream",
     "text": [
      " 18%|█▊        | 228/1276 [46:24<6:36:38, 22.71s/it]"
     ]
    },
    {
     "name": "stdout",
     "output_type": "stream",
     "text": [
      "STOP CODE:  Stay unchanged in the last 6 iterations\n",
      "> SA ENDS....... \n",
      "\n",
      "> avg loss: 2.7742845793745072\n",
      "> For the *228_th* data_key\n",
      "> retail = 58.21,bidincrement = 0.15, bidfee = 0.75, infer PT's parameters\n",
      "> Now do SA....... \n",
      "\n"
     ]
    },
    {
     "name": "stderr",
     "output_type": "stream",
     "text": [
      " 18%|█▊        | 229/1276 [46:27<4:51:01, 16.68s/it]"
     ]
    },
    {
     "name": "stdout",
     "output_type": "stream",
     "text": [
      "STOP CODE:  Stay unchanged in the last 6 iterations\n",
      "> SA ENDS....... \n",
      "\n",
      "> avg loss: 2.851182954507242\n",
      "> For the *229_th* data_key\n",
      "> retail = 29.99,bidincrement = 0.15, bidfee = 0.75, infer PT's parameters\n",
      "> Now do SA....... \n",
      "\n"
     ]
    },
    {
     "name": "stderr",
     "output_type": "stream",
     "text": [
      " 18%|█▊        | 230/1276 [46:32<3:50:43, 13.23s/it]"
     ]
    },
    {
     "name": "stdout",
     "output_type": "stream",
     "text": [
      "STOP CODE:  Stay unchanged in the last 6 iterations\n",
      "> SA ENDS....... \n",
      "\n",
      "> avg loss: 2.7859742041385176\n",
      "> For the *230_th* data_key\n",
      "> retail = 39.99,bidincrement = 0.15, bidfee = 0.75, infer PT's parameters\n",
      "> Now do SA....... \n",
      "\n"
     ]
    },
    {
     "name": "stderr",
     "output_type": "stream",
     "text": [
      " 18%|█▊        | 231/1276 [46:36<3:02:49, 10.50s/it]"
     ]
    },
    {
     "name": "stdout",
     "output_type": "stream",
     "text": [
      "STOP CODE:  Stay unchanged in the last 6 iterations\n",
      "> SA ENDS....... \n",
      "\n",
      "> avg loss: 2.5607945408929305\n",
      "> For the *231_th* data_key\n",
      "> retail = 115.5,bidincrement = 0.15, bidfee = 0.75, infer PT's parameters\n",
      "> Now do SA....... \n",
      "\n"
     ]
    },
    {
     "name": "stderr",
     "output_type": "stream",
     "text": [
      " 18%|█▊        | 232/1276 [46:40<2:27:01,  8.45s/it]"
     ]
    },
    {
     "name": "stdout",
     "output_type": "stream",
     "text": [
      "STOP CODE:  Stay unchanged in the last 6 iterations\n",
      "> SA ENDS....... \n",
      "\n",
      "> avg loss: 2.7285492453624607\n",
      "> For the *232_th* data_key\n",
      "> retail = 39.99,bidincrement = 0.15, bidfee = 0.75, infer PT's parameters\n",
      "> Now do SA....... \n",
      "\n"
     ]
    },
    {
     "name": "stderr",
     "output_type": "stream",
     "text": [
      " 18%|█▊        | 233/1276 [46:42<1:53:44,  6.54s/it]"
     ]
    },
    {
     "name": "stdout",
     "output_type": "stream",
     "text": [
      "STOP CODE:  Stay unchanged in the last 6 iterations\n",
      "> SA ENDS....... \n",
      "\n",
      "> avg loss: 2.845926612054363\n",
      "> For the *233_th* data_key\n",
      "> retail = 12.99,bidincrement = 0.15, bidfee = 0.75, infer PT's parameters\n",
      "> Now do SA....... \n",
      "\n"
     ]
    },
    {
     "name": "stderr",
     "output_type": "stream",
     "text": [
      " 18%|█▊        | 234/1276 [46:45<1:33:00,  5.36s/it]"
     ]
    },
    {
     "name": "stdout",
     "output_type": "stream",
     "text": [
      "STOP CODE:  Stay unchanged in the last 6 iterations\n",
      "> SA ENDS....... \n",
      "\n",
      "> avg loss: 2.5447603906930767\n",
      "> For the *234_th* data_key\n",
      "> retail = 29.99,bidincrement = 0.15, bidfee = 0.75, infer PT's parameters\n",
      "> Now do SA....... \n",
      "\n"
     ]
    },
    {
     "name": "stderr",
     "output_type": "stream",
     "text": [
      " 18%|█▊        | 235/1276 [46:48<1:21:55,  4.72s/it]"
     ]
    },
    {
     "name": "stdout",
     "output_type": "stream",
     "text": [
      "STOP CODE:  Stay unchanged in the last 6 iterations\n",
      "> SA ENDS....... \n",
      "\n",
      "> avg loss: 2.7967265798887144\n",
      "> For the *235_th* data_key\n",
      "> retail = 599.99,bidincrement = 0.15, bidfee = 0.75, infer PT's parameters\n",
      "> Now do SA....... \n",
      "\n"
     ]
    },
    {
     "name": "stderr",
     "output_type": "stream",
     "text": [
      " 18%|█▊        | 236/1276 [47:06<2:29:46,  8.64s/it]"
     ]
    },
    {
     "name": "stdout",
     "output_type": "stream",
     "text": [
      "STOP CODE:  Stay unchanged in the last 6 iterations\n",
      "> SA ENDS....... \n",
      "\n",
      "> avg loss: 3.7437508841240237\n",
      "> For the *236_th* data_key\n",
      "> retail = 99.99,bidincrement = 0.15, bidfee = 0.75, infer PT's parameters\n",
      "> Now do SA....... \n",
      "\n"
     ]
    },
    {
     "name": "stderr",
     "output_type": "stream",
     "text": [
      " 19%|█▊        | 237/1276 [47:11<2:11:30,  7.59s/it]"
     ]
    },
    {
     "name": "stdout",
     "output_type": "stream",
     "text": [
      "STOP CODE:  Stay unchanged in the last 6 iterations\n",
      "> SA ENDS....... \n",
      "\n",
      "> avg loss: 3.050391420357252\n",
      "> For the *237_th* data_key\n",
      "> retail = 99.99,bidincrement = 0.15, bidfee = 0.75, infer PT's parameters\n",
      "> Now do SA....... \n",
      "\n"
     ]
    },
    {
     "name": "stderr",
     "output_type": "stream",
     "text": [
      " 19%|█▊        | 238/1276 [47:14<1:46:21,  6.15s/it]"
     ]
    },
    {
     "name": "stdout",
     "output_type": "stream",
     "text": [
      "STOP CODE:  Stay unchanged in the last 6 iterations\n",
      "> SA ENDS....... \n",
      "\n",
      "> avg loss: 3.333023301809803\n",
      "> For the *238_th* data_key\n",
      "> retail = 54.99,bidincrement = 0.15, bidfee = 0.75, infer PT's parameters\n",
      "> Now do SA....... \n",
      "\n"
     ]
    },
    {
     "name": "stderr",
     "output_type": "stream",
     "text": [
      " 19%|█▊        | 239/1276 [47:19<1:40:51,  5.84s/it]"
     ]
    },
    {
     "name": "stdout",
     "output_type": "stream",
     "text": [
      "STOP CODE:  Stay unchanged in the last 6 iterations\n",
      "> SA ENDS....... \n",
      "\n",
      "> avg loss: 2.7621621969637538\n",
      "> For the *239_th* data_key\n",
      "> retail = 29.99,bidincrement = 0.15, bidfee = 0.75, infer PT's parameters\n",
      "> Now do SA....... \n",
      "\n"
     ]
    },
    {
     "name": "stderr",
     "output_type": "stream",
     "text": [
      " 19%|█▉        | 240/1276 [47:20<1:18:41,  4.56s/it]"
     ]
    },
    {
     "name": "stdout",
     "output_type": "stream",
     "text": [
      "STOP CODE:  Stay unchanged in the last 6 iterations\n",
      "> SA ENDS....... \n",
      "\n",
      "> avg loss: 2.9612589197943695\n",
      "> For the *240_th* data_key\n",
      "> retail = 29.95,bidincrement = 0.15, bidfee = 0.75, infer PT's parameters\n",
      "> Now do SA....... \n",
      "\n"
     ]
    },
    {
     "name": "stderr",
     "output_type": "stream",
     "text": [
      " 19%|█▉        | 241/1276 [47:22<1:06:06,  3.83s/it]"
     ]
    },
    {
     "name": "stdout",
     "output_type": "stream",
     "text": [
      "STOP CODE:  Stay unchanged in the last 6 iterations\n",
      "> SA ENDS....... \n",
      "\n",
      "> avg loss: 2.924326500950215\n",
      "> For the *241_th* data_key\n",
      "> retail = 39.99,bidincrement = 0.15, bidfee = 0.75, infer PT's parameters\n",
      "> Now do SA....... \n",
      "\n"
     ]
    },
    {
     "name": "stderr",
     "output_type": "stream",
     "text": [
      " 19%|█▉        | 242/1276 [47:25<57:45,  3.35s/it]  "
     ]
    },
    {
     "name": "stdout",
     "output_type": "stream",
     "text": [
      "STOP CODE:  Stay unchanged in the last 6 iterations\n",
      "> SA ENDS....... \n",
      "\n",
      "> avg loss: 2.833691867344658\n",
      "> For the *242_th* data_key\n",
      "> retail = 39.99,bidincrement = 0.15, bidfee = 0.75, infer PT's parameters\n",
      "> Now do SA....... \n",
      "\n"
     ]
    },
    {
     "name": "stderr",
     "output_type": "stream",
     "text": [
      " 19%|█▉        | 243/1276 [47:27<51:59,  3.02s/it]"
     ]
    },
    {
     "name": "stdout",
     "output_type": "stream",
     "text": [
      "STOP CODE:  Stay unchanged in the last 6 iterations\n",
      "> SA ENDS....... \n",
      "\n",
      "> avg loss: 2.409088459543837\n",
      "> For the *243_th* data_key\n",
      "> retail = 29.99,bidincrement = 0.15, bidfee = 0.75, infer PT's parameters\n",
      "> Now do SA....... \n",
      "\n"
     ]
    },
    {
     "name": "stderr",
     "output_type": "stream",
     "text": [
      " 19%|█▉        | 244/1276 [47:30<53:29,  3.11s/it]"
     ]
    },
    {
     "name": "stdout",
     "output_type": "stream",
     "text": [
      "STOP CODE:  Stay unchanged in the last 6 iterations\n",
      "> SA ENDS....... \n",
      "\n",
      "> avg loss: 2.1119751208871063\n",
      "> For the *244_th* data_key\n",
      "> retail = 49.99,bidincrement = 0.15, bidfee = 0.75, infer PT's parameters\n",
      "> Now do SA....... \n",
      "\n"
     ]
    },
    {
     "name": "stderr",
     "output_type": "stream",
     "text": [
      " 19%|█▉        | 245/1276 [47:34<57:34,  3.35s/it]"
     ]
    },
    {
     "name": "stdout",
     "output_type": "stream",
     "text": [
      "STOP CODE:  Stay unchanged in the last 6 iterations\n",
      "> SA ENDS....... \n",
      "\n",
      "> avg loss: 2.004897623903581\n",
      "> For the *245_th* data_key\n",
      "> retail = 28.95,bidincrement = 0.15, bidfee = 0.75, infer PT's parameters\n",
      "> Now do SA....... \n",
      "\n"
     ]
    },
    {
     "name": "stderr",
     "output_type": "stream",
     "text": [
      " 19%|█▉        | 246/1276 [47:39<1:03:15,  3.69s/it]"
     ]
    },
    {
     "name": "stdout",
     "output_type": "stream",
     "text": [
      "STOP CODE:  Stay unchanged in the last 6 iterations\n",
      "> SA ENDS....... \n",
      "\n",
      "> avg loss: 2.362494020867674\n",
      "> For the *246_th* data_key\n",
      "> retail = 44.98,bidincrement = 0.15, bidfee = 0.75, infer PT's parameters\n",
      "> Now do SA....... \n",
      "\n"
     ]
    },
    {
     "name": "stderr",
     "output_type": "stream",
     "text": [
      " 19%|█▉        | 247/1276 [47:42<1:00:18,  3.52s/it]"
     ]
    },
    {
     "name": "stdout",
     "output_type": "stream",
     "text": [
      "STOP CODE:  Stay unchanged in the last 6 iterations\n",
      "> SA ENDS....... \n",
      "\n",
      "> avg loss: 2.0965066228721745\n",
      "> For the *247_th* data_key\n",
      "> retail = 39.99,bidincrement = 0.15, bidfee = 0.75, infer PT's parameters\n",
      "> Now do SA....... \n",
      "\n"
     ]
    },
    {
     "name": "stderr",
     "output_type": "stream",
     "text": [
      " 19%|█▉        | 248/1276 [47:46<1:03:48,  3.72s/it]"
     ]
    },
    {
     "name": "stdout",
     "output_type": "stream",
     "text": [
      "STOP CODE:  Stay unchanged in the last 6 iterations\n",
      "> SA ENDS....... \n",
      "\n",
      "> avg loss: 2.3468068848986725\n",
      "> For the *248_th* data_key\n",
      "> retail = 249.99,bidincrement = 0.15, bidfee = 0.75, infer PT's parameters\n",
      "> Now do SA....... \n",
      "\n"
     ]
    },
    {
     "name": "stderr",
     "output_type": "stream",
     "text": [
      " 20%|█▉        | 249/1276 [47:54<1:24:43,  4.95s/it]"
     ]
    },
    {
     "name": "stdout",
     "output_type": "stream",
     "text": [
      "STOP CODE:  Stay unchanged in the last 6 iterations\n",
      "> SA ENDS....... \n",
      "\n",
      "> avg loss: 4.885357775064452\n",
      "> For the *249_th* data_key\n",
      "> retail = 1599.0,bidincrement = 0.01, bidfee = 0.75, infer PT's parameters\n",
      "> Now do SA....... \n",
      "\n"
     ]
    },
    {
     "name": "stderr",
     "output_type": "stream",
     "text": [
      " 20%|█▉        | 250/1276 [49:57<11:31:17, 40.43s/it]"
     ]
    },
    {
     "name": "stdout",
     "output_type": "stream",
     "text": [
      "> 超时\n",
      "> SA ENDS....... \n",
      "\n",
      "> avg loss: 23.025851076430698\n",
      "> For the *250_th* data_key\n",
      "> retail = 49.99,bidincrement = 0.15, bidfee = 0.75, infer PT's parameters\n",
      "> Now do SA....... \n",
      "\n"
     ]
    },
    {
     "name": "stderr",
     "output_type": "stream",
     "text": [
      " 20%|█▉        | 251/1276 [50:01<8:25:11, 29.57s/it] "
     ]
    },
    {
     "name": "stdout",
     "output_type": "stream",
     "text": [
      "STOP CODE:  Stay unchanged in the last 6 iterations\n",
      "> SA ENDS....... \n",
      "\n",
      "> avg loss: 3.1382586139681083\n",
      "> For the *251_th* data_key\n",
      "> retail = 49.99,bidincrement = 0.15, bidfee = 0.75, infer PT's parameters\n",
      "> Now do SA....... \n",
      "\n"
     ]
    },
    {
     "name": "stderr",
     "output_type": "stream",
     "text": [
      " 20%|█▉        | 252/1276 [50:04<6:05:33, 21.42s/it]"
     ]
    },
    {
     "name": "stdout",
     "output_type": "stream",
     "text": [
      "STOP CODE:  Stay unchanged in the last 6 iterations\n",
      "> SA ENDS....... \n",
      "\n",
      "> avg loss: 2.4369796499540417\n",
      "> For the *252_th* data_key\n",
      "> retail = 59.99,bidincrement = 0.15, bidfee = 0.75, infer PT's parameters\n",
      "> Now do SA....... \n",
      "\n"
     ]
    },
    {
     "name": "stderr",
     "output_type": "stream",
     "text": [
      " 20%|█▉        | 253/1276 [50:09<4:44:48, 16.70s/it]"
     ]
    },
    {
     "name": "stdout",
     "output_type": "stream",
     "text": [
      "STOP CODE:  Stay unchanged in the last 6 iterations\n",
      "> SA ENDS....... \n",
      "\n",
      "> avg loss: 2.629780972488913\n",
      "> For the *253_th* data_key\n",
      "> retail = 34.99,bidincrement = 0.15, bidfee = 0.75, infer PT's parameters\n",
      "> Now do SA....... \n",
      "\n"
     ]
    },
    {
     "name": "stderr",
     "output_type": "stream",
     "text": [
      " 20%|█▉        | 254/1276 [50:12<3:32:54, 12.50s/it]"
     ]
    },
    {
     "name": "stdout",
     "output_type": "stream",
     "text": [
      "STOP CODE:  Stay unchanged in the last 6 iterations\n",
      "> SA ENDS....... \n",
      "\n",
      "> avg loss: 2.3911338705621508\n",
      "> For the *254_th* data_key\n",
      "> retail = 19.99,bidincrement = 0.15, bidfee = 0.75, infer PT's parameters\n",
      "> Now do SA....... \n",
      "\n"
     ]
    },
    {
     "name": "stderr",
     "output_type": "stream",
     "text": [
      " 20%|█▉        | 255/1276 [50:13<2:36:05,  9.17s/it]"
     ]
    },
    {
     "name": "stdout",
     "output_type": "stream",
     "text": [
      "STOP CODE:  Stay unchanged in the last 6 iterations\n",
      "> SA ENDS....... \n",
      "\n",
      "> avg loss: 2.1927474565065816\n",
      "> For the *255_th* data_key\n",
      "> retail = 129.99,bidincrement = 0.15, bidfee = 0.75, infer PT's parameters\n",
      "> Now do SA....... \n",
      "\n"
     ]
    },
    {
     "name": "stderr",
     "output_type": "stream",
     "text": [
      " 20%|██        | 256/1276 [50:18<2:10:38,  7.68s/it]"
     ]
    },
    {
     "name": "stdout",
     "output_type": "stream",
     "text": [
      "STOP CODE:  Stay unchanged in the last 6 iterations\n",
      "> SA ENDS....... \n",
      "\n",
      "> avg loss: 3.2041696983241112\n",
      "> For the *256_th* data_key\n",
      "> retail = 45.0,bidincrement = 0.15, bidfee = 0.75, infer PT's parameters\n",
      "> Now do SA....... \n",
      "\n"
     ]
    },
    {
     "name": "stderr",
     "output_type": "stream",
     "text": [
      " 20%|██        | 257/1276 [50:22<1:51:25,  6.56s/it]"
     ]
    },
    {
     "name": "stdout",
     "output_type": "stream",
     "text": [
      "STOP CODE:  Stay unchanged in the last 6 iterations\n",
      "> SA ENDS....... \n",
      "\n",
      "> avg loss: 2.3563074980057532\n",
      "> For the *257_th* data_key\n",
      "> retail = 129.99,bidincrement = 0.15, bidfee = 0.75, infer PT's parameters\n",
      "> Now do SA....... \n",
      "\n"
     ]
    },
    {
     "name": "stderr",
     "output_type": "stream",
     "text": [
      " 20%|██        | 258/1276 [50:26<1:39:03,  5.84s/it]"
     ]
    },
    {
     "name": "stdout",
     "output_type": "stream",
     "text": [
      "STOP CODE:  Stay unchanged in the last 6 iterations\n",
      "> SA ENDS....... \n",
      "\n",
      "> avg loss: 5.472669902250141\n",
      "> For the *258_th* data_key\n",
      "> retail = 162.89,bidincrement = 0.15, bidfee = 0.75, infer PT's parameters\n",
      "> Now do SA....... \n",
      "\n"
     ]
    },
    {
     "name": "stderr",
     "output_type": "stream",
     "text": [
      " 20%|██        | 259/1276 [50:29<1:27:50,  5.18s/it]"
     ]
    },
    {
     "name": "stdout",
     "output_type": "stream",
     "text": [
      "STOP CODE:  Stay unchanged in the last 6 iterations\n",
      "> SA ENDS....... \n",
      "\n",
      "> avg loss: 2.8295276582680016\n",
      "> For the *259_th* data_key\n",
      "> retail = 380.13,bidincrement = 0.15, bidfee = 0.75, infer PT's parameters\n",
      "> Now do SA....... \n",
      "\n"
     ]
    },
    {
     "name": "stderr",
     "output_type": "stream",
     "text": [
      " 20%|██        | 260/1276 [50:34<1:27:15,  5.15s/it]"
     ]
    },
    {
     "name": "stdout",
     "output_type": "stream",
     "text": [
      "STOP CODE:  Stay unchanged in the last 6 iterations\n",
      "> SA ENDS....... \n",
      "\n",
      "> avg loss: 23.02585084838301\n",
      "> For the *260_th* data_key\n",
      "> retail = 1199.0,bidincrement = 0.01, bidfee = 0.75, infer PT's parameters\n",
      "> Now do SA....... \n",
      "\n"
     ]
    },
    {
     "name": "stderr",
     "output_type": "stream",
     "text": [
      " 20%|██        | 261/1276 [52:37<11:22:13, 40.33s/it]"
     ]
    },
    {
     "name": "stdout",
     "output_type": "stream",
     "text": [
      "> 超时\n",
      "> SA ENDS....... \n",
      "\n",
      "> avg loss: 23.025851018853754\n",
      "> For the *261_th* data_key\n",
      "> retail = 1299.0,bidincrement = 0.01, bidfee = 0.75, infer PT's parameters\n",
      "> Now do SA....... \n",
      "\n"
     ]
    },
    {
     "name": "stderr",
     "output_type": "stream",
     "text": [
      " 21%|██        | 262/1276 [54:40<18:19:16, 65.05s/it]"
     ]
    },
    {
     "name": "stdout",
     "output_type": "stream",
     "text": [
      "> 超时\n",
      "> SA ENDS....... \n",
      "\n",
      "> avg loss: 23.0258510234292\n",
      "> For the *262_th* data_key\n",
      "> retail = 499.99,bidincrement = 0.15, bidfee = 0.75, infer PT's parameters\n",
      "> Now do SA....... \n",
      "\n"
     ]
    },
    {
     "name": "stderr",
     "output_type": "stream",
     "text": [
      " 21%|██        | 263/1276 [54:47<13:24:28, 47.65s/it]"
     ]
    },
    {
     "name": "stdout",
     "output_type": "stream",
     "text": [
      "STOP CODE:  Stay unchanged in the last 6 iterations\n",
      "> SA ENDS....... \n",
      "\n",
      "> avg loss: 23.02585084743458\n",
      "> For the *263_th* data_key\n",
      "> retail = 29.92,bidincrement = 0.15, bidfee = 0.75, infer PT's parameters\n",
      "> Now do SA....... \n",
      "\n"
     ]
    },
    {
     "name": "stderr",
     "output_type": "stream",
     "text": [
      " 21%|██        | 264/1276 [54:50<9:38:53, 34.32s/it] "
     ]
    },
    {
     "name": "stdout",
     "output_type": "stream",
     "text": [
      "STOP CODE:  Stay unchanged in the last 6 iterations\n",
      "> SA ENDS....... \n",
      "\n",
      "> avg loss: 2.487316435508915\n",
      "> For the *264_th* data_key\n",
      "> retail = 218.99,bidincrement = 0.15, bidfee = 0.75, infer PT's parameters\n",
      "> Now do SA....... \n",
      "\n"
     ]
    },
    {
     "name": "stderr",
     "output_type": "stream",
     "text": [
      " 21%|██        | 265/1276 [54:56<7:13:48, 25.74s/it]"
     ]
    },
    {
     "name": "stdout",
     "output_type": "stream",
     "text": [
      "STOP CODE:  Stay unchanged in the last 6 iterations\n",
      "> SA ENDS....... \n",
      "\n",
      "> avg loss: 3.0754328178416466\n",
      "> For the *265_th* data_key\n",
      "> retail = 499.0,bidincrement = 0.15, bidfee = 0.75, infer PT's parameters\n",
      "> Now do SA....... \n",
      "\n"
     ]
    },
    {
     "name": "stderr",
     "output_type": "stream",
     "text": [
      " 21%|██        | 266/1276 [55:02<5:38:01, 20.08s/it]"
     ]
    },
    {
     "name": "stdout",
     "output_type": "stream",
     "text": [
      "STOP CODE:  Stay unchanged in the last 6 iterations\n",
      "> SA ENDS....... \n",
      "\n",
      "> avg loss: 23.02585084803052\n",
      "> For the *266_th* data_key\n",
      "> retail = 102.99,bidincrement = 0.15, bidfee = 0.75, infer PT's parameters\n",
      "> Now do SA....... \n",
      "\n"
     ]
    },
    {
     "name": "stderr",
     "output_type": "stream",
     "text": [
      " 21%|██        | 267/1276 [55:06<4:12:35, 15.02s/it]"
     ]
    },
    {
     "name": "stdout",
     "output_type": "stream",
     "text": [
      "STOP CODE:  Stay unchanged in the last 6 iterations\n",
      "> SA ENDS....... \n",
      "\n",
      "> avg loss: 3.7188370159671016\n",
      "> For the *267_th* data_key\n",
      "> retail = 1049.0,bidincrement = 0.15, bidfee = 0.75, infer PT's parameters\n",
      "> Now do SA....... \n",
      "\n"
     ]
    },
    {
     "name": "stderr",
     "output_type": "stream",
     "text": [
      " 21%|██        | 268/1276 [55:23<4:21:34, 15.57s/it]"
     ]
    },
    {
     "name": "stdout",
     "output_type": "stream",
     "text": [
      "STOP CODE:  Stay unchanged in the last 6 iterations\n",
      "> SA ENDS....... \n",
      "\n",
      "> avg loss: 23.025850971873258\n",
      "> For the *268_th* data_key\n",
      "> retail = 129.95,bidincrement = 0.15, bidfee = 0.75, infer PT's parameters\n",
      "> Now do SA....... \n",
      "\n"
     ]
    },
    {
     "name": "stderr",
     "output_type": "stream",
     "text": [
      " 21%|██        | 269/1276 [55:28<3:30:11, 12.52s/it]"
     ]
    },
    {
     "name": "stdout",
     "output_type": "stream",
     "text": [
      "STOP CODE:  Stay unchanged in the last 6 iterations\n",
      "> SA ENDS....... \n",
      "\n",
      "> avg loss: 3.007915153537736\n",
      "> For the *269_th* data_key\n",
      "> retail = 99.99,bidincrement = 0.15, bidfee = 0.75, infer PT's parameters\n",
      "> Now do SA....... \n",
      "\n"
     ]
    },
    {
     "name": "stderr",
     "output_type": "stream",
     "text": [
      " 21%|██        | 270/1276 [55:30<2:39:39,  9.52s/it]"
     ]
    },
    {
     "name": "stdout",
     "output_type": "stream",
     "text": [
      "STOP CODE:  Stay unchanged in the last 6 iterations\n",
      "> SA ENDS....... \n",
      "\n",
      "> avg loss: 4.0143499749323075\n",
      "> For the *270_th* data_key\n",
      "> retail = 119.99,bidincrement = 0.15, bidfee = 0.75, infer PT's parameters\n",
      "> Now do SA....... \n",
      "\n"
     ]
    },
    {
     "name": "stderr",
     "output_type": "stream",
     "text": [
      " 21%|██        | 271/1276 [55:38<2:29:45,  8.94s/it]"
     ]
    },
    {
     "name": "stdout",
     "output_type": "stream",
     "text": [
      "STOP CODE:  Stay unchanged in the last 6 iterations\n",
      "> SA ENDS....... \n",
      "\n",
      "> avg loss: 4.121749977291946\n",
      "> For the *271_th* data_key\n",
      "> retail = 1299.95,bidincrement = 0.01, bidfee = 0.75, infer PT's parameters\n",
      "> Now do SA....... \n",
      "\n"
     ]
    },
    {
     "name": "stderr",
     "output_type": "stream",
     "text": [
      " 21%|██▏       | 272/1276 [57:41<12:00:43, 43.07s/it]"
     ]
    },
    {
     "name": "stdout",
     "output_type": "stream",
     "text": [
      "> 超时\n",
      "> SA ENDS....... \n",
      "\n",
      "> avg loss: 23.025851026313166\n",
      "> For the *272_th* data_key\n",
      "> retail = 140.0,bidincrement = 0.15, bidfee = 0.75, infer PT's parameters\n",
      "> Now do SA....... \n",
      "\n"
     ]
    },
    {
     "name": "stderr",
     "output_type": "stream",
     "text": [
      " 21%|██▏       | 273/1276 [57:49<9:07:04, 32.73s/it] "
     ]
    },
    {
     "name": "stdout",
     "output_type": "stream",
     "text": [
      "STOP CODE:  Stay unchanged in the last 6 iterations\n",
      "> SA ENDS....... \n",
      "\n",
      "> avg loss: 4.514317882417721\n",
      "> For the *273_th* data_key\n",
      "> retail = 39.95,bidincrement = 0.15, bidfee = 0.75, infer PT's parameters\n",
      "> Now do SA....... \n",
      "\n"
     ]
    },
    {
     "name": "stderr",
     "output_type": "stream",
     "text": [
      " 21%|██▏       | 274/1276 [57:52<6:36:34, 23.75s/it]"
     ]
    },
    {
     "name": "stdout",
     "output_type": "stream",
     "text": [
      "STOP CODE:  Stay unchanged in the last 6 iterations\n",
      "> SA ENDS....... \n",
      "\n",
      "> avg loss: 2.4324039733758562\n",
      "> For the *274_th* data_key\n",
      "> retail = 49.99,bidincrement = 0.15, bidfee = 0.75, infer PT's parameters\n",
      "> Now do SA....... \n",
      "\n"
     ]
    },
    {
     "name": "stderr",
     "output_type": "stream",
     "text": [
      " 22%|██▏       | 275/1276 [57:55<4:49:16, 17.34s/it]"
     ]
    },
    {
     "name": "stdout",
     "output_type": "stream",
     "text": [
      "STOP CODE:  Stay unchanged in the last 6 iterations\n",
      "> SA ENDS....... \n",
      "\n",
      "> avg loss: 3.0598363707801948\n",
      "> For the *275_th* data_key\n",
      "> retail = 17.95,bidincrement = 0.15, bidfee = 0.75, infer PT's parameters\n",
      "> Now do SA....... \n",
      "\n"
     ]
    },
    {
     "name": "stderr",
     "output_type": "stream",
     "text": [
      " 22%|██▏       | 276/1276 [57:57<3:35:16, 12.92s/it]"
     ]
    },
    {
     "name": "stdout",
     "output_type": "stream",
     "text": [
      "STOP CODE:  Stay unchanged in the last 6 iterations\n",
      "> SA ENDS....... \n",
      "\n",
      "> avg loss: 2.2662344523547016\n",
      "> For the *276_th* data_key\n",
      "> retail = 89.99,bidincrement = 0.15, bidfee = 0.75, infer PT's parameters\n",
      "> Now do SA....... \n",
      "\n"
     ]
    },
    {
     "name": "stderr",
     "output_type": "stream",
     "text": [
      " 22%|██▏       | 277/1276 [58:00<2:46:57, 10.03s/it]"
     ]
    },
    {
     "name": "stdout",
     "output_type": "stream",
     "text": [
      "STOP CODE:  Stay unchanged in the last 6 iterations\n",
      "> SA ENDS....... \n",
      "\n",
      "> avg loss: 4.061819930303986\n",
      "> For the *277_th* data_key\n",
      "> retail = 51.14,bidincrement = 0.15, bidfee = 0.75, infer PT's parameters\n",
      "> Now do SA....... \n",
      "\n"
     ]
    },
    {
     "name": "stderr",
     "output_type": "stream",
     "text": [
      " 22%|██▏       | 278/1276 [58:04<2:12:28,  7.96s/it]"
     ]
    },
    {
     "name": "stdout",
     "output_type": "stream",
     "text": [
      "STOP CODE:  Stay unchanged in the last 6 iterations\n",
      "> SA ENDS....... \n",
      "\n",
      "> avg loss: 2.8250866418919616\n",
      "> For the *278_th* data_key\n",
      "> retail = 249.99,bidincrement = 0.01, bidfee = 0.75, infer PT's parameters\n",
      "> Now do SA....... \n",
      "\n"
     ]
    },
    {
     "name": "stderr",
     "output_type": "stream",
     "text": [
      " 22%|██▏       | 279/1276 [1:00:04<11:33:30, 41.74s/it]"
     ]
    },
    {
     "name": "stdout",
     "output_type": "stream",
     "text": [
      "> 超时\n",
      "> SA ENDS....... \n",
      "\n",
      "> avg loss: 23.02585088094438\n",
      "> For the *279_th* data_key\n",
      "> retail = 139.95,bidincrement = 0.15, bidfee = 0.75, infer PT's parameters\n",
      "> Now do SA....... \n",
      "\n"
     ]
    },
    {
     "name": "stderr",
     "output_type": "stream",
     "text": [
      " 22%|██▏       | 280/1276 [1:00:07<8:21:41, 30.22s/it] "
     ]
    },
    {
     "name": "stdout",
     "output_type": "stream",
     "text": [
      "STOP CODE:  Stay unchanged in the last 6 iterations\n",
      "> SA ENDS....... \n",
      "\n",
      "> avg loss: 3.1892909194625423\n",
      "> For the *280_th* data_key\n",
      "> retail = 49.99,bidincrement = 0.15, bidfee = 0.75, infer PT's parameters\n",
      "> Now do SA....... \n",
      "\n"
     ]
    },
    {
     "name": "stderr",
     "output_type": "stream",
     "text": [
      " 22%|██▏       | 281/1276 [1:00:12<6:12:49, 22.48s/it]"
     ]
    },
    {
     "name": "stdout",
     "output_type": "stream",
     "text": [
      "STOP CODE:  Stay unchanged in the last 6 iterations\n",
      "> SA ENDS....... \n",
      "\n",
      "> avg loss: 2.9504714604434725\n",
      "> For the *281_th* data_key\n",
      "> retail = 97.92,bidincrement = 0.15, bidfee = 0.75, infer PT's parameters\n",
      "> Now do SA....... \n",
      "\n"
     ]
    },
    {
     "name": "stderr",
     "output_type": "stream",
     "text": [
      " 22%|██▏       | 282/1276 [1:00:19<4:55:20, 17.83s/it]"
     ]
    },
    {
     "name": "stdout",
     "output_type": "stream",
     "text": [
      "STOP CODE:  Stay unchanged in the last 6 iterations\n",
      "> SA ENDS....... \n",
      "\n",
      "> avg loss: 2.6192767155530663\n",
      "> For the *282_th* data_key\n",
      "> retail = 549.95,bidincrement = 0.01, bidfee = 0.75, infer PT's parameters\n",
      "> Now do SA....... \n",
      "\n"
     ]
    },
    {
     "name": "stderr",
     "output_type": "stream",
     "text": [
      " 22%|██▏       | 283/1276 [1:02:20<13:27:46, 48.81s/it]"
     ]
    },
    {
     "name": "stdout",
     "output_type": "stream",
     "text": [
      "> 超时\n",
      "> SA ENDS....... \n",
      "\n",
      "> avg loss: 23.025850924309694\n",
      "> For the *283_th* data_key\n",
      "> retail = 679.0,bidincrement = 0.15, bidfee = 0.75, infer PT's parameters\n",
      "> Now do SA....... \n",
      "\n"
     ]
    },
    {
     "name": "stderr",
     "output_type": "stream",
     "text": [
      " 22%|██▏       | 284/1276 [1:02:48<11:43:02, 42.52s/it]"
     ]
    },
    {
     "name": "stdout",
     "output_type": "stream",
     "text": [
      "STOP CODE:  Stay unchanged in the last 6 iterations\n",
      "> SA ENDS....... \n",
      "\n",
      "> avg loss: 2.87579477912124\n",
      "> For the *284_th* data_key\n",
      "> retail = 189.99,bidincrement = 0.15, bidfee = 0.75, infer PT's parameters\n",
      "> Now do SA....... \n",
      "\n"
     ]
    },
    {
     "name": "stderr",
     "output_type": "stream",
     "text": [
      " 22%|██▏       | 285/1276 [1:02:55<8:47:09, 31.92s/it] "
     ]
    },
    {
     "name": "stdout",
     "output_type": "stream",
     "text": [
      "STOP CODE:  Stay unchanged in the last 6 iterations\n",
      "> SA ENDS....... \n",
      "\n",
      "> avg loss: 2.1770971008950335\n",
      "> For the *285_th* data_key\n",
      "> retail = 729.99,bidincrement = 0.01, bidfee = 0.75, infer PT's parameters\n",
      "> Now do SA....... \n",
      "\n"
     ]
    },
    {
     "name": "stderr",
     "output_type": "stream",
     "text": [
      " 22%|██▏       | 286/1276 [1:04:56<16:10:04, 58.79s/it]"
     ]
    },
    {
     "name": "stdout",
     "output_type": "stream",
     "text": [
      "> 超时\n",
      "> SA ENDS....... \n",
      "\n",
      "> avg loss: 23.025850952086095\n",
      "> For the *286_th* data_key\n",
      "> retail = 1200.0,bidincrement = 0.01, bidfee = 0.75, infer PT's parameters\n",
      "> Now do SA....... \n",
      "\n"
     ]
    },
    {
     "name": "stderr",
     "output_type": "stream",
     "text": [
      " 22%|██▏       | 287/1276 [1:06:59<21:23:27, 77.86s/it]"
     ]
    },
    {
     "name": "stdout",
     "output_type": "stream",
     "text": [
      "> 超时\n",
      "> SA ENDS....... \n",
      "\n",
      "> avg loss: 23.025851007079627\n",
      "> For the *287_th* data_key\n",
      "> retail = 49.99,bidincrement = 0.15, bidfee = 0.75, infer PT's parameters\n",
      "> Now do SA....... \n",
      "\n"
     ]
    },
    {
     "name": "stderr",
     "output_type": "stream",
     "text": [
      " 23%|██▎       | 288/1276 [1:07:01<15:08:44, 55.19s/it]"
     ]
    },
    {
     "name": "stdout",
     "output_type": "stream",
     "text": [
      "STOP CODE:  Stay unchanged in the last 6 iterations\n",
      "> SA ENDS....... \n",
      "\n",
      "> avg loss: 2.84260425389124\n",
      "> For the *288_th* data_key\n",
      "> retail = 59.99,bidincrement = 0.15, bidfee = 0.75, infer PT's parameters\n",
      "> Now do SA....... \n",
      "\n"
     ]
    },
    {
     "name": "stderr",
     "output_type": "stream",
     "text": [
      " 23%|██▎       | 289/1276 [1:07:04<10:47:49, 39.38s/it]"
     ]
    },
    {
     "name": "stdout",
     "output_type": "stream",
     "text": [
      "STOP CODE:  Stay unchanged in the last 6 iterations\n",
      "> SA ENDS....... \n",
      "\n",
      "> avg loss: 3.049057541956\n",
      "> For the *289_th* data_key\n",
      "> retail = 59.99,bidincrement = 0.15, bidfee = 0.75, infer PT's parameters\n",
      "> Now do SA....... \n",
      "\n"
     ]
    },
    {
     "name": "stderr",
     "output_type": "stream",
     "text": [
      " 23%|██▎       | 290/1276 [1:07:08<7:57:07, 29.03s/it] "
     ]
    },
    {
     "name": "stdout",
     "output_type": "stream",
     "text": [
      "STOP CODE:  Stay unchanged in the last 6 iterations\n",
      "> SA ENDS....... \n",
      "\n",
      "> avg loss: 2.5668511270389254\n",
      "> For the *290_th* data_key\n",
      "> retail = 268.42,bidincrement = 0.15, bidfee = 0.75, infer PT's parameters\n",
      "> Now do SA....... \n",
      "\n"
     ]
    },
    {
     "name": "stderr",
     "output_type": "stream",
     "text": [
      " 23%|██▎       | 291/1276 [1:07:21<6:35:18, 24.08s/it]"
     ]
    },
    {
     "name": "stdout",
     "output_type": "stream",
     "text": [
      "STOP CODE:  Stay unchanged in the last 6 iterations\n",
      "> SA ENDS....... \n",
      "\n",
      "> avg loss: 3.584699366777769\n",
      "> For the *291_th* data_key\n",
      "> retail = 149.99,bidincrement = 0.15, bidfee = 0.75, infer PT's parameters\n",
      "> Now do SA....... \n",
      "\n"
     ]
    },
    {
     "name": "stderr",
     "output_type": "stream",
     "text": [
      " 23%|██▎       | 292/1276 [1:07:24<4:50:16, 17.70s/it]"
     ]
    },
    {
     "name": "stdout",
     "output_type": "stream",
     "text": [
      "STOP CODE:  Stay unchanged in the last 6 iterations\n",
      "> SA ENDS....... \n",
      "\n",
      "> avg loss: 23.025850847711975\n",
      "> For the *292_th* data_key\n",
      "> retail = 373.36,bidincrement = 0.15, bidfee = 0.75, infer PT's parameters\n",
      "> Now do SA....... \n",
      "\n"
     ]
    },
    {
     "name": "stderr",
     "output_type": "stream",
     "text": [
      " 23%|██▎       | 293/1276 [1:07:42<4:50:27, 17.73s/it]"
     ]
    },
    {
     "name": "stdout",
     "output_type": "stream",
     "text": [
      "STOP CODE:  Stay unchanged in the last 6 iterations\n",
      "> SA ENDS....... \n",
      "\n",
      "> avg loss: 2.7478323631580843\n",
      "> For the *293_th* data_key\n",
      "> retail = 149.99,bidincrement = 0.15, bidfee = 0.75, infer PT's parameters\n",
      "> Now do SA....... \n",
      "\n"
     ]
    },
    {
     "name": "stderr",
     "output_type": "stream",
     "text": [
      " 23%|██▎       | 294/1276 [1:07:48<3:54:03, 14.30s/it]"
     ]
    },
    {
     "name": "stdout",
     "output_type": "stream",
     "text": [
      "STOP CODE:  Stay unchanged in the last 6 iterations\n",
      "> SA ENDS....... \n",
      "\n",
      "> avg loss: 3.96473856041147\n",
      "> For the *294_th* data_key\n",
      "> retail = 149.99,bidincrement = 0.15, bidfee = 0.75, infer PT's parameters\n",
      "> Now do SA....... \n",
      "\n"
     ]
    },
    {
     "name": "stderr",
     "output_type": "stream",
     "text": [
      " 23%|██▎       | 295/1276 [1:07:57<3:26:42, 12.64s/it]"
     ]
    },
    {
     "name": "stdout",
     "output_type": "stream",
     "text": [
      "STOP CODE:  Stay unchanged in the last 6 iterations\n",
      "> SA ENDS....... \n",
      "\n",
      "> avg loss: 3.3500115207977594\n",
      "> For the *295_th* data_key\n",
      "> retail = 149.99,bidincrement = 0.15, bidfee = 0.75, infer PT's parameters\n",
      "> Now do SA....... \n",
      "\n"
     ]
    },
    {
     "name": "stderr",
     "output_type": "stream",
     "text": [
      " 23%|██▎       | 296/1276 [1:08:00<2:40:11,  9.81s/it]"
     ]
    },
    {
     "name": "stdout",
     "output_type": "stream",
     "text": [
      "STOP CODE:  Stay unchanged in the last 6 iterations\n",
      "> SA ENDS....... \n",
      "\n",
      "> avg loss: 3.2684450678354984\n",
      "> For the *296_th* data_key\n",
      "> retail = 149.99,bidincrement = 0.15, bidfee = 0.75, infer PT's parameters\n",
      "> Now do SA....... \n",
      "\n"
     ]
    },
    {
     "name": "stderr",
     "output_type": "stream",
     "text": [
      " 23%|██▎       | 297/1276 [1:08:04<2:14:11,  8.22s/it]"
     ]
    },
    {
     "name": "stdout",
     "output_type": "stream",
     "text": [
      "STOP CODE:  Stay unchanged in the last 6 iterations\n",
      "> SA ENDS....... \n",
      "\n",
      "> avg loss: 3.3391829825542314\n",
      "> For the *297_th* data_key\n",
      "> retail = 39.99,bidincrement = 0.15, bidfee = 0.75, infer PT's parameters\n",
      "> Now do SA....... \n",
      "\n"
     ]
    },
    {
     "name": "stderr",
     "output_type": "stream",
     "text": [
      " 23%|██▎       | 298/1276 [1:08:08<1:52:02,  6.87s/it]"
     ]
    },
    {
     "name": "stdout",
     "output_type": "stream",
     "text": [
      "STOP CODE:  Stay unchanged in the last 6 iterations\n",
      "> SA ENDS....... \n",
      "\n",
      "> avg loss: 2.7217213839774788\n",
      "> For the *298_th* data_key\n",
      "> retail = 55.0,bidincrement = 0.15, bidfee = 0.75, infer PT's parameters\n",
      "> Now do SA....... \n",
      "\n"
     ]
    },
    {
     "name": "stderr",
     "output_type": "stream",
     "text": [
      " 23%|██▎       | 299/1276 [1:08:12<1:38:51,  6.07s/it]"
     ]
    },
    {
     "name": "stdout",
     "output_type": "stream",
     "text": [
      "STOP CODE:  Stay unchanged in the last 6 iterations\n",
      "> SA ENDS....... \n",
      "\n",
      "> avg loss: 3.5066904802628556\n",
      "> For the *299_th* data_key\n",
      "> retail = 59.0,bidincrement = 0.15, bidfee = 0.75, infer PT's parameters\n",
      "> Now do SA....... \n",
      "\n"
     ]
    },
    {
     "name": "stderr",
     "output_type": "stream",
     "text": [
      " 24%|██▎       | 300/1276 [1:08:15<1:22:55,  5.10s/it]"
     ]
    },
    {
     "name": "stdout",
     "output_type": "stream",
     "text": [
      "STOP CODE:  Stay unchanged in the last 6 iterations\n",
      "> SA ENDS....... \n",
      "\n",
      "> avg loss: 3.9665402265504652\n",
      "> For the *300_th* data_key\n",
      "> retail = 349.95,bidincrement = 0.15, bidfee = 0.75, infer PT's parameters\n",
      "> Now do SA....... \n",
      "\n"
     ]
    },
    {
     "name": "stderr",
     "output_type": "stream",
     "text": [
      " 24%|██▎       | 301/1276 [1:08:20<1:20:41,  4.97s/it]"
     ]
    },
    {
     "name": "stdout",
     "output_type": "stream",
     "text": [
      "STOP CODE:  Stay unchanged in the last 6 iterations\n",
      "> SA ENDS....... \n",
      "\n",
      "> avg loss: 23.02585084775294\n",
      "> For the *301_th* data_key\n",
      "> retail = 1090.07,bidincrement = 0.15, bidfee = 0.75, infer PT's parameters\n",
      "> Now do SA....... \n",
      "\n"
     ]
    },
    {
     "name": "stderr",
     "output_type": "stream",
     "text": [
      " 24%|██▎       | 302/1276 [1:08:53<3:36:19, 13.33s/it]"
     ]
    },
    {
     "name": "stdout",
     "output_type": "stream",
     "text": [
      "STOP CODE:  Stay unchanged in the last 6 iterations\n",
      "> SA ENDS....... \n",
      "\n",
      "> avg loss: 8.120384952298101\n",
      "> For the *302_th* data_key\n",
      "> retail = 74.78,bidincrement = 0.15, bidfee = 0.75, infer PT's parameters\n",
      "> Now do SA....... \n",
      "\n"
     ]
    },
    {
     "name": "stderr",
     "output_type": "stream",
     "text": [
      " 24%|██▎       | 303/1276 [1:08:55<2:41:34,  9.96s/it]"
     ]
    },
    {
     "name": "stdout",
     "output_type": "stream",
     "text": [
      "STOP CODE:  Stay unchanged in the last 6 iterations\n",
      "> SA ENDS....... \n",
      "\n",
      "> avg loss: 3.1742305138991416\n",
      "> For the *303_th* data_key\n",
      "> retail = 1049.0,bidincrement = 0.01, bidfee = 0.75, infer PT's parameters\n",
      "> Now do SA....... \n",
      "\n"
     ]
    },
    {
     "name": "stderr",
     "output_type": "stream",
     "text": [
      " 24%|██▍       | 304/1276 [1:10:57<11:46:31, 43.61s/it]"
     ]
    },
    {
     "name": "stdout",
     "output_type": "stream",
     "text": [
      "> 超时\n",
      "> SA ENDS....... \n",
      "\n",
      "> avg loss: 23.025850994554457\n",
      "> For the *304_th* data_key\n",
      "> retail = 1457.61,bidincrement = 0.15, bidfee = 0.75, infer PT's parameters\n",
      "> Now do SA....... \n",
      "\n"
     ]
    },
    {
     "name": "stderr",
     "output_type": "stream",
     "text": [
      " 24%|██▍       | 305/1276 [1:11:25<10:32:11, 39.06s/it]"
     ]
    },
    {
     "name": "stdout",
     "output_type": "stream",
     "text": [
      "STOP CODE:  Stay unchanged in the last 6 iterations\n",
      "> SA ENDS....... \n",
      "\n",
      "> avg loss: 22.790408337703873\n",
      "> For the *305_th* data_key\n",
      "> retail = 1185.27,bidincrement = 0.15, bidfee = 0.75, infer PT's parameters\n",
      "> Now do SA....... \n",
      "\n"
     ]
    },
    {
     "name": "stderr",
     "output_type": "stream",
     "text": [
      " 24%|██▍       | 306/1276 [1:11:43<8:47:13, 32.61s/it] "
     ]
    },
    {
     "name": "stdout",
     "output_type": "stream",
     "text": [
      "STOP CODE:  Stay unchanged in the last 6 iterations\n",
      "> SA ENDS....... \n",
      "\n",
      "> avg loss: 23.0258509901008\n",
      "> For the *306_th* data_key\n",
      "> retail = 357.12,bidincrement = 0.15, bidfee = 0.75, infer PT's parameters\n",
      "> Now do SA....... \n",
      "\n"
     ]
    },
    {
     "name": "stderr",
     "output_type": "stream",
     "text": [
      " 24%|██▍       | 307/1276 [1:12:03<7:43:43, 28.71s/it]"
     ]
    },
    {
     "name": "stdout",
     "output_type": "stream",
     "text": [
      "STOP CODE:  Stay unchanged in the last 6 iterations\n",
      "> SA ENDS....... \n",
      "\n",
      "> avg loss: 7.207097980098769\n",
      "> For the *307_th* data_key\n",
      "> retail = 749.81,bidincrement = 0.15, bidfee = 0.75, infer PT's parameters\n",
      "> Now do SA....... \n",
      "\n"
     ]
    },
    {
     "name": "stderr",
     "output_type": "stream",
     "text": [
      " 24%|██▍       | 308/1276 [1:12:15<6:23:42, 23.78s/it]"
     ]
    },
    {
     "name": "stdout",
     "output_type": "stream",
     "text": [
      "STOP CODE:  Stay unchanged in the last 6 iterations\n",
      "> SA ENDS....... \n",
      "\n",
      "> avg loss: 23.025850934871674\n",
      "> For the *308_th* data_key\n",
      "> retail = 712.01,bidincrement = 0.15, bidfee = 0.75, infer PT's parameters\n",
      "> Now do SA....... \n",
      "\n"
     ]
    },
    {
     "name": "stderr",
     "output_type": "stream",
     "text": [
      " 24%|██▍       | 309/1276 [1:12:44<6:49:33, 25.41s/it]"
     ]
    },
    {
     "name": "stdout",
     "output_type": "stream",
     "text": [
      "STOP CODE:  Stay unchanged in the last 6 iterations\n",
      "> SA ENDS....... \n",
      "\n",
      "> avg loss: 7.7073660711972956\n",
      "> For the *309_th* data_key\n",
      "> retail = 59.0,bidincrement = 0.15, bidfee = 0.75, infer PT's parameters\n",
      "> Now do SA....... \n",
      "\n"
     ]
    },
    {
     "name": "stderr",
     "output_type": "stream",
     "text": [
      " 24%|██▍       | 310/1276 [1:12:49<5:11:01, 19.32s/it]"
     ]
    },
    {
     "name": "stdout",
     "output_type": "stream",
     "text": [
      "STOP CODE:  Stay unchanged in the last 6 iterations\n",
      "> SA ENDS....... \n",
      "\n",
      "> avg loss: 3.6843493678151256\n",
      "> For the *310_th* data_key\n",
      "> retail = 70.0,bidincrement = 0.15, bidfee = 0.75, infer PT's parameters\n",
      "> Now do SA....... \n",
      "\n"
     ]
    },
    {
     "name": "stderr",
     "output_type": "stream",
     "text": [
      " 24%|██▍       | 311/1276 [1:12:54<4:01:28, 15.01s/it]"
     ]
    },
    {
     "name": "stdout",
     "output_type": "stream",
     "text": [
      "STOP CODE:  Stay unchanged in the last 6 iterations\n",
      "> SA ENDS....... \n",
      "\n",
      "> avg loss: 3.604381314448519\n",
      "> For the *311_th* data_key\n",
      "> retail = 49.99,bidincrement = 0.15, bidfee = 0.75, infer PT's parameters\n",
      "> Now do SA....... \n",
      "\n"
     ]
    },
    {
     "name": "stderr",
     "output_type": "stream",
     "text": [
      " 24%|██▍       | 312/1276 [1:12:58<3:10:03, 11.83s/it]"
     ]
    },
    {
     "name": "stdout",
     "output_type": "stream",
     "text": [
      "STOP CODE:  Stay unchanged in the last 6 iterations\n",
      "> SA ENDS....... \n",
      "\n",
      "> avg loss: 2.883336408919857\n",
      "> For the *312_th* data_key\n",
      "> retail = 49.99,bidincrement = 0.15, bidfee = 0.75, infer PT's parameters\n",
      "> Now do SA....... \n",
      "\n"
     ]
    },
    {
     "name": "stderr",
     "output_type": "stream",
     "text": [
      " 25%|██▍       | 313/1276 [1:13:02<2:30:00,  9.35s/it]"
     ]
    },
    {
     "name": "stdout",
     "output_type": "stream",
     "text": [
      "STOP CODE:  Stay unchanged in the last 6 iterations\n",
      "> SA ENDS....... \n",
      "\n",
      "> avg loss: 2.7228218931095283\n",
      "> For the *313_th* data_key\n",
      "> retail = 43.44,bidincrement = 0.15, bidfee = 0.75, infer PT's parameters\n",
      "> Now do SA....... \n",
      "\n"
     ]
    },
    {
     "name": "stderr",
     "output_type": "stream",
     "text": [
      " 25%|██▍       | 314/1276 [1:13:06<2:03:08,  7.68s/it]"
     ]
    },
    {
     "name": "stdout",
     "output_type": "stream",
     "text": [
      "STOP CODE:  Stay unchanged in the last 6 iterations\n",
      "> SA ENDS....... \n",
      "\n",
      "> avg loss: 2.791694567248063\n",
      "> For the *314_th* data_key\n",
      "> retail = 49.99,bidincrement = 0.15, bidfee = 0.75, infer PT's parameters\n",
      "> Now do SA....... \n",
      "\n"
     ]
    },
    {
     "name": "stderr",
     "output_type": "stream",
     "text": [
      " 25%|██▍       | 315/1276 [1:13:11<1:50:07,  6.88s/it]"
     ]
    },
    {
     "name": "stdout",
     "output_type": "stream",
     "text": [
      "STOP CODE:  Stay unchanged in the last 6 iterations\n",
      "> SA ENDS....... \n",
      "\n",
      "> avg loss: 2.8006787032568665\n",
      "> For the *315_th* data_key\n",
      "> retail = 12.99,bidincrement = 0.15, bidfee = 0.75, infer PT's parameters\n",
      "> Now do SA....... \n",
      "\n"
     ]
    },
    {
     "name": "stderr",
     "output_type": "stream",
     "text": [
      " 25%|██▍       | 316/1276 [1:13:13<1:27:11,  5.45s/it]"
     ]
    },
    {
     "name": "stdout",
     "output_type": "stream",
     "text": [
      "STOP CODE:  Stay unchanged in the last 6 iterations\n",
      "> SA ENDS....... \n",
      "\n",
      "> avg loss: 2.135522292129102\n",
      "> For the *316_th* data_key\n",
      "> retail = 39.98,bidincrement = 0.15, bidfee = 0.75, infer PT's parameters\n",
      "> Now do SA....... \n",
      "\n"
     ]
    },
    {
     "name": "stderr",
     "output_type": "stream",
     "text": [
      " 25%|██▍       | 317/1276 [1:13:16<1:13:27,  4.60s/it]"
     ]
    },
    {
     "name": "stdout",
     "output_type": "stream",
     "text": [
      "STOP CODE:  Stay unchanged in the last 6 iterations\n",
      "> SA ENDS....... \n",
      "\n",
      "> avg loss: 2.3306730126825497\n",
      "> For the *317_th* data_key\n",
      "> retail = 35.99,bidincrement = 0.15, bidfee = 0.75, infer PT's parameters\n",
      "> Now do SA....... \n",
      "\n"
     ]
    },
    {
     "name": "stderr",
     "output_type": "stream",
     "text": [
      " 25%|██▍       | 318/1276 [1:13:18<1:03:31,  3.98s/it]"
     ]
    },
    {
     "name": "stdout",
     "output_type": "stream",
     "text": [
      "STOP CODE:  Stay unchanged in the last 6 iterations\n",
      "> SA ENDS....... \n",
      "\n",
      "> avg loss: 2.585573923183867\n",
      "> For the *318_th* data_key\n",
      "> retail = 39.99,bidincrement = 0.15, bidfee = 0.75, infer PT's parameters\n",
      "> Now do SA....... \n",
      "\n"
     ]
    },
    {
     "name": "stderr",
     "output_type": "stream",
     "text": [
      " 25%|██▌       | 319/1276 [1:13:20<54:57,  3.45s/it]  "
     ]
    },
    {
     "name": "stdout",
     "output_type": "stream",
     "text": [
      "STOP CODE:  Stay unchanged in the last 6 iterations\n",
      "> SA ENDS....... \n",
      "\n",
      "> avg loss: 2.335014784276066\n",
      "> For the *319_th* data_key\n",
      "> retail = 34.95,bidincrement = 0.15, bidfee = 0.75, infer PT's parameters\n",
      "> Now do SA....... \n",
      "\n"
     ]
    },
    {
     "name": "stderr",
     "output_type": "stream",
     "text": [
      " 25%|██▌       | 320/1276 [1:13:23<53:08,  3.33s/it]"
     ]
    },
    {
     "name": "stdout",
     "output_type": "stream",
     "text": [
      "STOP CODE:  Stay unchanged in the last 6 iterations\n",
      "> SA ENDS....... \n",
      "\n",
      "> avg loss: 2.6906920607123794\n",
      "> For the *320_th* data_key\n",
      "> retail = 28.99,bidincrement = 0.15, bidfee = 0.75, infer PT's parameters\n",
      "> Now do SA....... \n",
      "\n"
     ]
    },
    {
     "name": "stderr",
     "output_type": "stream",
     "text": [
      " 25%|██▌       | 321/1276 [1:13:26<47:26,  2.98s/it]"
     ]
    },
    {
     "name": "stdout",
     "output_type": "stream",
     "text": [
      "STOP CODE:  Stay unchanged in the last 6 iterations\n",
      "> SA ENDS....... \n",
      "\n",
      "> avg loss: 2.3828072402929052\n",
      "> For the *321_th* data_key\n",
      "> retail = 28.99,bidincrement = 0.15, bidfee = 0.75, infer PT's parameters\n",
      "> Now do SA....... \n",
      "\n"
     ]
    },
    {
     "name": "stderr",
     "output_type": "stream",
     "text": [
      " 25%|██▌       | 322/1276 [1:13:29<49:18,  3.10s/it]"
     ]
    },
    {
     "name": "stdout",
     "output_type": "stream",
     "text": [
      "STOP CODE:  Stay unchanged in the last 6 iterations\n",
      "> SA ENDS....... \n",
      "\n",
      "> avg loss: 2.6537591798664053\n",
      "> For the *322_th* data_key\n",
      "> retail = 29.98,bidincrement = 0.15, bidfee = 0.75, infer PT's parameters\n",
      "> Now do SA....... \n",
      "\n"
     ]
    },
    {
     "name": "stderr",
     "output_type": "stream",
     "text": [
      " 25%|██▌       | 323/1276 [1:13:32<51:33,  3.25s/it]"
     ]
    },
    {
     "name": "stdout",
     "output_type": "stream",
     "text": [
      "STOP CODE:  Stay unchanged in the last 6 iterations\n",
      "> SA ENDS....... \n",
      "\n",
      "> avg loss: 2.6400080725011805\n",
      "> For the *323_th* data_key\n",
      "> retail = 39.99,bidincrement = 0.15, bidfee = 0.75, infer PT's parameters\n",
      "> Now do SA....... \n",
      "\n"
     ]
    },
    {
     "name": "stderr",
     "output_type": "stream",
     "text": [
      " 25%|██▌       | 324/1276 [1:13:35<48:51,  3.08s/it]"
     ]
    },
    {
     "name": "stdout",
     "output_type": "stream",
     "text": [
      "STOP CODE:  Stay unchanged in the last 6 iterations\n",
      "> SA ENDS....... \n",
      "\n",
      "> avg loss: 2.7721043669365075\n",
      "> For the *324_th* data_key\n",
      "> retail = 34.99,bidincrement = 0.15, bidfee = 0.75, infer PT's parameters\n",
      "> Now do SA....... \n",
      "\n"
     ]
    },
    {
     "name": "stderr",
     "output_type": "stream",
     "text": [
      " 25%|██▌       | 325/1276 [1:13:39<51:05,  3.22s/it]"
     ]
    },
    {
     "name": "stdout",
     "output_type": "stream",
     "text": [
      "STOP CODE:  Stay unchanged in the last 6 iterations\n",
      "> SA ENDS....... \n",
      "\n",
      "> avg loss: 2.920118844861604\n",
      "> For the *325_th* data_key\n",
      "> retail = 34.99,bidincrement = 0.15, bidfee = 0.75, infer PT's parameters\n",
      "> Now do SA....... \n",
      "\n"
     ]
    },
    {
     "name": "stderr",
     "output_type": "stream",
     "text": [
      " 26%|██▌       | 326/1276 [1:13:42<50:23,  3.18s/it]"
     ]
    },
    {
     "name": "stdout",
     "output_type": "stream",
     "text": [
      "STOP CODE:  Stay unchanged in the last 6 iterations\n",
      "> SA ENDS....... \n",
      "\n",
      "> avg loss: 2.7609292900423834\n",
      "> For the *326_th* data_key\n",
      "> retail = 39.98,bidincrement = 0.15, bidfee = 0.75, infer PT's parameters\n",
      "> Now do SA....... \n",
      "\n"
     ]
    },
    {
     "name": "stderr",
     "output_type": "stream",
     "text": [
      " 26%|██▌       | 327/1276 [1:13:47<57:42,  3.65s/it]"
     ]
    },
    {
     "name": "stdout",
     "output_type": "stream",
     "text": [
      "STOP CODE:  Stay unchanged in the last 6 iterations\n",
      "> SA ENDS....... \n",
      "\n",
      "> avg loss: 2.7587046082185265\n",
      "> For the *327_th* data_key\n",
      "> retail = 39.99,bidincrement = 0.15, bidfee = 0.75, infer PT's parameters\n",
      "> Now do SA....... \n",
      "\n"
     ]
    },
    {
     "name": "stderr",
     "output_type": "stream",
     "text": [
      " 26%|██▌       | 328/1276 [1:13:48<47:06,  2.98s/it]"
     ]
    },
    {
     "name": "stdout",
     "output_type": "stream",
     "text": [
      "STOP CODE:  Stay unchanged in the last 6 iterations\n",
      "> SA ENDS....... \n",
      "\n",
      "> avg loss: 2.4651782550349273\n",
      "> For the *328_th* data_key\n",
      "> retail = 59.99,bidincrement = 0.15, bidfee = 0.75, infer PT's parameters\n",
      "> Now do SA....... \n",
      "\n"
     ]
    },
    {
     "name": "stderr",
     "output_type": "stream",
     "text": [
      " 26%|██▌       | 329/1276 [1:13:53<55:54,  3.54s/it]"
     ]
    },
    {
     "name": "stdout",
     "output_type": "stream",
     "text": [
      "STOP CODE:  Stay unchanged in the last 6 iterations\n",
      "> SA ENDS....... \n",
      "\n",
      "> avg loss: 2.582975210778299\n",
      "> For the *329_th* data_key\n",
      "> retail = 29.99,bidincrement = 0.15, bidfee = 0.75, infer PT's parameters\n",
      "> Now do SA....... \n",
      "\n"
     ]
    },
    {
     "name": "stderr",
     "output_type": "stream",
     "text": [
      " 26%|██▌       | 330/1276 [1:13:55<48:07,  3.05s/it]"
     ]
    },
    {
     "name": "stdout",
     "output_type": "stream",
     "text": [
      "STOP CODE:  Stay unchanged in the last 6 iterations\n",
      "> SA ENDS....... \n",
      "\n",
      "> avg loss: 2.3982736228469315\n",
      "> For the *330_th* data_key\n",
      "> retail = 49.99,bidincrement = 0.15, bidfee = 0.75, infer PT's parameters\n",
      "> Now do SA....... \n",
      "\n"
     ]
    },
    {
     "name": "stderr",
     "output_type": "stream",
     "text": [
      " 26%|██▌       | 331/1276 [1:13:58<48:18,  3.07s/it]"
     ]
    },
    {
     "name": "stdout",
     "output_type": "stream",
     "text": [
      "STOP CODE:  Stay unchanged in the last 6 iterations\n",
      "> SA ENDS....... \n",
      "\n",
      "> avg loss: 2.3809294298561694\n",
      "> For the *331_th* data_key\n",
      "> retail = 39.99,bidincrement = 0.15, bidfee = 0.75, infer PT's parameters\n",
      "> Now do SA....... \n",
      "\n"
     ]
    },
    {
     "name": "stderr",
     "output_type": "stream",
     "text": [
      " 26%|██▌       | 332/1276 [1:14:01<50:10,  3.19s/it]"
     ]
    },
    {
     "name": "stdout",
     "output_type": "stream",
     "text": [
      "STOP CODE:  Stay unchanged in the last 6 iterations\n",
      "> SA ENDS....... \n",
      "\n",
      "> avg loss: 2.1042748563053184\n",
      "> For the *332_th* data_key\n",
      "> retail = 59.99,bidincrement = 0.15, bidfee = 0.75, infer PT's parameters\n",
      "> Now do SA....... \n",
      "\n"
     ]
    },
    {
     "name": "stderr",
     "output_type": "stream",
     "text": [
      " 26%|██▌       | 333/1276 [1:14:04<45:22,  2.89s/it]"
     ]
    },
    {
     "name": "stdout",
     "output_type": "stream",
     "text": [
      "STOP CODE:  Stay unchanged in the last 6 iterations\n",
      "> SA ENDS....... \n",
      "\n",
      "> avg loss: 3.1409419656924427\n",
      "> For the *333_th* data_key\n",
      "> retail = 29.99,bidincrement = 0.15, bidfee = 0.75, infer PT's parameters\n",
      "> Now do SA....... \n",
      "\n"
     ]
    },
    {
     "name": "stderr",
     "output_type": "stream",
     "text": [
      " 26%|██▌       | 334/1276 [1:14:06<44:12,  2.82s/it]"
     ]
    },
    {
     "name": "stdout",
     "output_type": "stream",
     "text": [
      "STOP CODE:  Stay unchanged in the last 6 iterations\n",
      "> SA ENDS....... \n",
      "\n",
      "> avg loss: 2.272036279741546\n",
      "> For the *334_th* data_key\n",
      "> retail = 29.99,bidincrement = 0.15, bidfee = 0.75, infer PT's parameters\n",
      "> Now do SA....... \n",
      "\n"
     ]
    },
    {
     "name": "stderr",
     "output_type": "stream",
     "text": [
      " 26%|██▋       | 335/1276 [1:14:11<51:38,  3.29s/it]"
     ]
    },
    {
     "name": "stdout",
     "output_type": "stream",
     "text": [
      "STOP CODE:  Stay unchanged in the last 6 iterations\n",
      "> SA ENDS....... \n",
      "\n",
      "> avg loss: 2.135589031963543\n",
      "> For the *335_th* data_key\n",
      "> retail = 59.99,bidincrement = 0.15, bidfee = 0.75, infer PT's parameters\n",
      "> Now do SA....... \n",
      "\n"
     ]
    },
    {
     "name": "stderr",
     "output_type": "stream",
     "text": [
      " 26%|██▋       | 336/1276 [1:14:13<49:46,  3.18s/it]"
     ]
    },
    {
     "name": "stdout",
     "output_type": "stream",
     "text": [
      "STOP CODE:  Stay unchanged in the last 6 iterations\n",
      "> SA ENDS....... \n",
      "\n",
      "> avg loss: 2.723961464159297\n",
      "> For the *336_th* data_key\n",
      "> retail = 29.99,bidincrement = 0.15, bidfee = 0.75, infer PT's parameters\n",
      "> Now do SA....... \n",
      "\n"
     ]
    },
    {
     "name": "stderr",
     "output_type": "stream",
     "text": [
      " 26%|██▋       | 337/1276 [1:14:16<48:11,  3.08s/it]"
     ]
    },
    {
     "name": "stdout",
     "output_type": "stream",
     "text": [
      "STOP CODE:  Stay unchanged in the last 6 iterations\n",
      "> SA ENDS....... \n",
      "\n",
      "> avg loss: 2.2748238080705567\n",
      "> For the *337_th* data_key\n",
      "> retail = 29.99,bidincrement = 0.15, bidfee = 0.75, infer PT's parameters\n",
      "> Now do SA....... \n",
      "\n"
     ]
    },
    {
     "name": "stderr",
     "output_type": "stream",
     "text": [
      " 26%|██▋       | 338/1276 [1:14:19<47:33,  3.04s/it]"
     ]
    },
    {
     "name": "stdout",
     "output_type": "stream",
     "text": [
      "STOP CODE:  Stay unchanged in the last 6 iterations\n",
      "> SA ENDS....... \n",
      "\n",
      "> avg loss: 2.3413404552297092\n",
      "> For the *338_th* data_key\n",
      "> retail = 19.99,bidincrement = 0.15, bidfee = 0.75, infer PT's parameters\n",
      "> Now do SA....... \n",
      "\n"
     ]
    },
    {
     "name": "stderr",
     "output_type": "stream",
     "text": [
      " 27%|██▋       | 339/1276 [1:14:21<41:32,  2.66s/it]"
     ]
    },
    {
     "name": "stdout",
     "output_type": "stream",
     "text": [
      "STOP CODE:  Stay unchanged in the last 6 iterations\n",
      "> SA ENDS....... \n",
      "\n",
      "> avg loss: 2.2717694211469226\n",
      "> For the *339_th* data_key\n",
      "> retail = 29.99,bidincrement = 0.15, bidfee = 0.75, infer PT's parameters\n",
      "> Now do SA....... \n",
      "\n"
     ]
    },
    {
     "name": "stderr",
     "output_type": "stream",
     "text": [
      " 27%|██▋       | 340/1276 [1:14:24<42:44,  2.74s/it]"
     ]
    },
    {
     "name": "stdout",
     "output_type": "stream",
     "text": [
      "STOP CODE:  Stay unchanged in the last 6 iterations\n",
      "> SA ENDS....... \n",
      "\n",
      "> avg loss: 2.2006553456938667\n",
      "> For the *340_th* data_key\n",
      "> retail = 39.99,bidincrement = 0.15, bidfee = 0.75, infer PT's parameters\n",
      "> Now do SA....... \n",
      "\n"
     ]
    },
    {
     "name": "stderr",
     "output_type": "stream",
     "text": [
      " 27%|██▋       | 341/1276 [1:14:27<41:45,  2.68s/it]"
     ]
    },
    {
     "name": "stdout",
     "output_type": "stream",
     "text": [
      "STOP CODE:  Stay unchanged in the last 6 iterations\n",
      "> SA ENDS....... \n",
      "\n",
      "> avg loss: 2.443099437457519\n",
      "> For the *341_th* data_key\n",
      "> retail = 49.99,bidincrement = 0.15, bidfee = 0.75, infer PT's parameters\n",
      "> Now do SA....... \n",
      "\n"
     ]
    },
    {
     "name": "stderr",
     "output_type": "stream",
     "text": [
      " 27%|██▋       | 342/1276 [1:14:32<54:49,  3.52s/it]"
     ]
    },
    {
     "name": "stdout",
     "output_type": "stream",
     "text": [
      "STOP CODE:  Stay unchanged in the last 6 iterations\n",
      "> SA ENDS....... \n",
      "\n",
      "> avg loss: 2.2716891535102883\n",
      "> For the *342_th* data_key\n",
      "> retail = 49.99,bidincrement = 0.15, bidfee = 0.75, infer PT's parameters\n",
      "> Now do SA....... \n",
      "\n"
     ]
    },
    {
     "name": "stderr",
     "output_type": "stream",
     "text": [
      " 27%|██▋       | 343/1276 [1:14:34<49:23,  3.18s/it]"
     ]
    },
    {
     "name": "stdout",
     "output_type": "stream",
     "text": [
      "STOP CODE:  Stay unchanged in the last 6 iterations\n",
      "> SA ENDS....... \n",
      "\n",
      "> avg loss: 2.2170231807932015\n",
      "> For the *343_th* data_key\n",
      "> retail = 49.99,bidincrement = 0.15, bidfee = 0.75, infer PT's parameters\n",
      "> Now do SA....... \n",
      "\n"
     ]
    },
    {
     "name": "stderr",
     "output_type": "stream",
     "text": [
      " 27%|██▋       | 344/1276 [1:14:38<49:46,  3.20s/it]"
     ]
    },
    {
     "name": "stdout",
     "output_type": "stream",
     "text": [
      "STOP CODE:  Stay unchanged in the last 6 iterations\n",
      "> SA ENDS....... \n",
      "\n",
      "> avg loss: 2.3533305744717277\n",
      "> For the *344_th* data_key\n",
      "> retail = 59.99,bidincrement = 0.15, bidfee = 0.75, infer PT's parameters\n",
      "> Now do SA....... \n",
      "\n"
     ]
    },
    {
     "name": "stderr",
     "output_type": "stream",
     "text": [
      " 27%|██▋       | 345/1276 [1:14:42<55:49,  3.60s/it]"
     ]
    },
    {
     "name": "stdout",
     "output_type": "stream",
     "text": [
      "STOP CODE:  Stay unchanged in the last 6 iterations\n",
      "> SA ENDS....... \n",
      "\n",
      "> avg loss: 2.4324420739034758\n",
      "> For the *345_th* data_key\n",
      "> retail = 29.99,bidincrement = 0.15, bidfee = 0.75, infer PT's parameters\n",
      "> Now do SA....... \n",
      "\n"
     ]
    },
    {
     "name": "stderr",
     "output_type": "stream",
     "text": [
      " 27%|██▋       | 346/1276 [1:14:45<53:02,  3.42s/it]"
     ]
    },
    {
     "name": "stdout",
     "output_type": "stream",
     "text": [
      "STOP CODE:  Stay unchanged in the last 6 iterations\n",
      "> SA ENDS....... \n",
      "\n",
      "> avg loss: 1.997224634902625\n",
      "> For the *346_th* data_key\n",
      "> retail = 383.0,bidincrement = 0.15, bidfee = 0.75, infer PT's parameters\n",
      "> Now do SA....... \n",
      "\n"
     ]
    },
    {
     "name": "stderr",
     "output_type": "stream",
     "text": [
      " 27%|██▋       | 347/1276 [1:14:53<1:11:35,  4.62s/it]"
     ]
    },
    {
     "name": "stdout",
     "output_type": "stream",
     "text": [
      "STOP CODE:  Stay unchanged in the last 6 iterations\n",
      "> SA ENDS....... \n",
      "\n",
      "> avg loss: 23.02585091448742\n",
      "> For the *347_th* data_key\n",
      "> retail = 357.0,bidincrement = 0.15, bidfee = 0.75, infer PT's parameters\n",
      "> Now do SA....... \n",
      "\n"
     ]
    },
    {
     "name": "stderr",
     "output_type": "stream",
     "text": [
      " 27%|██▋       | 348/1276 [1:15:06<1:51:07,  7.18s/it]"
     ]
    },
    {
     "name": "stdout",
     "output_type": "stream",
     "text": [
      "STOP CODE:  Stay unchanged in the last 6 iterations\n",
      "> SA ENDS....... \n",
      "\n",
      "> avg loss: 3.146455918893311\n",
      "> For the *348_th* data_key\n",
      "> retail = 44.99,bidincrement = 0.15, bidfee = 0.75, infer PT's parameters\n",
      "> Now do SA....... \n",
      "\n"
     ]
    },
    {
     "name": "stderr",
     "output_type": "stream",
     "text": [
      " 27%|██▋       | 349/1276 [1:15:09<1:31:56,  5.95s/it]"
     ]
    },
    {
     "name": "stdout",
     "output_type": "stream",
     "text": [
      "STOP CODE:  Stay unchanged in the last 6 iterations\n",
      "> SA ENDS....... \n",
      "\n",
      "> avg loss: 2.070338394786351\n",
      "> For the *349_th* data_key\n",
      "> retail = 225.0,bidincrement = 0.0, bidfee = 0.75, infer PT's parameters\n",
      "> Now do SA....... \n",
      "\n"
     ]
    },
    {
     "name": "stderr",
     "output_type": "stream",
     "text": [
      " 27%|██▋       | 350/1276 [1:15:12<1:19:09,  5.13s/it]"
     ]
    },
    {
     "name": "stdout",
     "output_type": "stream",
     "text": [
      "STOP CODE:  Stay unchanged in the last 6 iterations\n",
      "> SA ENDS....... \n",
      "\n",
      "> avg loss: 6.302350301445343\n",
      "> For the *350_th* data_key\n",
      "> retail = 1200.0,bidincrement = 0.01, bidfee = 0.75, infer PT's parameters\n",
      "> Now do SA....... \n",
      "\n"
     ]
    },
    {
     "name": "stderr",
     "output_type": "stream",
     "text": [
      " 28%|██▊       | 351/1276 [1:17:15<10:21:59, 40.35s/it]"
     ]
    },
    {
     "name": "stdout",
     "output_type": "stream",
     "text": [
      "> 超时\n",
      "> SA ENDS....... \n",
      "\n",
      "> avg loss: 23.025850998276134\n",
      "> For the *351_th* data_key\n",
      "> retail = 373.36,bidincrement = 0.15, bidfee = 0.75, infer PT's parameters\n",
      "> Now do SA....... \n",
      "\n"
     ]
    },
    {
     "name": "stderr",
     "output_type": "stream",
     "text": [
      " 28%|██▊       | 352/1276 [1:17:25<8:01:29, 31.27s/it] "
     ]
    },
    {
     "name": "stdout",
     "output_type": "stream",
     "text": [
      "STOP CODE:  Stay unchanged in the last 6 iterations\n",
      "> SA ENDS....... \n",
      "\n",
      "> avg loss: 2.681615566390863\n",
      "> For the *352_th* data_key\n",
      "> retail = 1000.0,bidincrement = 0.01, bidfee = 0.75, infer PT's parameters\n",
      "> Now do SA....... \n",
      "\n"
     ]
    },
    {
     "name": "stderr",
     "output_type": "stream",
     "text": [
      " 28%|██▊       | 353/1276 [1:19:27<15:00:08, 58.51s/it]"
     ]
    },
    {
     "name": "stdout",
     "output_type": "stream",
     "text": [
      "> 超时\n",
      "> SA ENDS....... \n",
      "\n",
      "> avg loss: 23.025850984030907\n",
      "> For the *353_th* data_key\n",
      "> retail = 1299.99,bidincrement = 0.01, bidfee = 0.75, infer PT's parameters\n",
      "> Now do SA....... \n",
      "\n"
     ]
    },
    {
     "name": "stderr",
     "output_type": "stream",
     "text": [
      " 28%|██▊       | 354/1276 [1:21:29<19:54:11, 77.71s/it]"
     ]
    },
    {
     "name": "stdout",
     "output_type": "stream",
     "text": [
      "> 超时\n",
      "> SA ENDS....... \n",
      "\n",
      "> avg loss: 23.025851030815218\n",
      "> For the *354_th* data_key\n",
      "> retail = 199.99,bidincrement = 0.15, bidfee = 0.75, infer PT's parameters\n",
      "> Now do SA....... \n",
      "\n"
     ]
    },
    {
     "name": "stderr",
     "output_type": "stream",
     "text": [
      " 28%|██▊       | 355/1276 [1:21:40<14:45:05, 57.66s/it]"
     ]
    },
    {
     "name": "stdout",
     "output_type": "stream",
     "text": [
      "STOP CODE:  Stay unchanged in the last 6 iterations\n",
      "> SA ENDS....... \n",
      "\n",
      "> avg loss: 3.167991352515539\n",
      "> For the *355_th* data_key\n",
      "> retail = 249.99,bidincrement = 0.15, bidfee = 0.75, infer PT's parameters\n",
      "> Now do SA....... \n",
      "\n"
     ]
    },
    {
     "name": "stderr",
     "output_type": "stream",
     "text": [
      " 28%|██▊       | 356/1276 [1:21:44<10:35:54, 41.47s/it]"
     ]
    },
    {
     "name": "stdout",
     "output_type": "stream",
     "text": [
      "STOP CODE:  Stay unchanged in the last 6 iterations\n",
      "> SA ENDS....... \n",
      "\n",
      "> avg loss: 23.025850848420525\n",
      "> For the *356_th* data_key\n",
      "> retail = 199.99,bidincrement = 0.15, bidfee = 0.75, infer PT's parameters\n",
      "> Now do SA....... \n",
      "\n"
     ]
    },
    {
     "name": "stderr",
     "output_type": "stream",
     "text": [
      " 28%|██▊       | 357/1276 [1:21:49<7:50:23, 30.71s/it] "
     ]
    },
    {
     "name": "stdout",
     "output_type": "stream",
     "text": [
      "STOP CODE:  Stay unchanged in the last 6 iterations\n",
      "> SA ENDS....... \n",
      "\n",
      "> avg loss: 2.255801755762752\n",
      "> For the *357_th* data_key\n",
      "> retail = 299.99,bidincrement = 0.15, bidfee = 0.75, infer PT's parameters\n",
      "> Now do SA....... \n",
      "\n"
     ]
    },
    {
     "name": "stderr",
     "output_type": "stream",
     "text": [
      " 28%|██▊       | 358/1276 [1:21:59<6:14:40, 24.49s/it]"
     ]
    },
    {
     "name": "stdout",
     "output_type": "stream",
     "text": [
      "STOP CODE:  Stay unchanged in the last 6 iterations\n",
      "> SA ENDS....... \n",
      "\n",
      "> avg loss: 2.6359867898707505\n",
      "> For the *358_th* data_key\n",
      "> retail = 49.0,bidincrement = 0.15, bidfee = 0.75, infer PT's parameters\n",
      "> Now do SA....... \n",
      "\n"
     ]
    },
    {
     "name": "stderr",
     "output_type": "stream",
     "text": [
      " 28%|██▊       | 359/1276 [1:22:02<4:35:42, 18.04s/it]"
     ]
    },
    {
     "name": "stdout",
     "output_type": "stream",
     "text": [
      "STOP CODE:  Stay unchanged in the last 6 iterations\n",
      "> SA ENDS....... \n",
      "\n",
      "> avg loss: 2.235013295589613\n",
      "> For the *359_th* data_key\n",
      "> retail = 575.0,bidincrement = 0.15, bidfee = 0.75, infer PT's parameters\n",
      "> Now do SA....... \n",
      "\n"
     ]
    },
    {
     "name": "stderr",
     "output_type": "stream",
     "text": [
      " 28%|██▊       | 360/1276 [1:22:17<4:20:04, 17.04s/it]"
     ]
    },
    {
     "name": "stdout",
     "output_type": "stream",
     "text": [
      "STOP CODE:  Stay unchanged in the last 6 iterations\n",
      "> SA ENDS....... \n",
      "\n",
      "> avg loss: 2.7564172265856928\n",
      "> For the *360_th* data_key\n",
      "> retail = 37.5,bidincrement = 0.0, bidfee = 0.75, infer PT's parameters\n",
      "> Now do SA....... \n",
      "\n"
     ]
    },
    {
     "name": "stderr",
     "output_type": "stream",
     "text": [
      " 28%|██▊       | 361/1276 [1:22:19<3:10:34, 12.50s/it]"
     ]
    },
    {
     "name": "stdout",
     "output_type": "stream",
     "text": [
      "STOP CODE:  Stay unchanged in the last 6 iterations\n",
      "> SA ENDS....... \n",
      "\n",
      "> avg loss: 4.909132356559937\n",
      "> For the *361_th* data_key\n",
      "> retail = 69.99,bidincrement = 0.15, bidfee = 0.75, infer PT's parameters\n",
      "> Now do SA....... \n",
      "\n"
     ]
    },
    {
     "name": "stderr",
     "output_type": "stream",
     "text": [
      " 28%|██▊       | 362/1276 [1:22:22<2:26:08,  9.59s/it]"
     ]
    },
    {
     "name": "stdout",
     "output_type": "stream",
     "text": [
      "STOP CODE:  Stay unchanged in the last 6 iterations\n",
      "> SA ENDS....... \n",
      "\n",
      "> avg loss: 2.6932757785741006\n",
      "> For the *362_th* data_key\n",
      "> retail = 769.99,bidincrement = 0.01, bidfee = 0.75, infer PT's parameters\n",
      "> Now do SA....... \n",
      "\n"
     ]
    },
    {
     "name": "stderr",
     "output_type": "stream",
     "text": [
      " 28%|██▊       | 363/1276 [1:24:23<10:56:45, 43.16s/it]"
     ]
    },
    {
     "name": "stdout",
     "output_type": "stream",
     "text": [
      "> 超时\n",
      "> SA ENDS....... \n",
      "\n",
      "> avg loss: 23.025850947206862\n",
      "> For the *363_th* data_key\n",
      "> retail = 229.99,bidincrement = 0.15, bidfee = 0.75, infer PT's parameters\n",
      "> Now do SA....... \n",
      "\n"
     ]
    },
    {
     "name": "stderr",
     "output_type": "stream",
     "text": [
      " 29%|██▊       | 364/1276 [1:24:34<8:29:58, 33.55s/it] "
     ]
    },
    {
     "name": "stdout",
     "output_type": "stream",
     "text": [
      "STOP CODE:  Stay unchanged in the last 6 iterations\n",
      "> SA ENDS....... \n",
      "\n",
      "> avg loss: 2.8749918718199043\n",
      "> For the *364_th* data_key\n",
      "> retail = 23.31,bidincrement = 0.15, bidfee = 0.75, infer PT's parameters\n",
      "> Now do SA....... \n",
      "\n"
     ]
    },
    {
     "name": "stderr",
     "output_type": "stream",
     "text": [
      " 29%|██▊       | 365/1276 [1:24:38<6:14:59, 24.70s/it]"
     ]
    },
    {
     "name": "stdout",
     "output_type": "stream",
     "text": [
      "STOP CODE:  Stay unchanged in the last 6 iterations\n",
      "> SA ENDS....... \n",
      "\n",
      "> avg loss: 2.5294504400520803\n",
      "> For the *365_th* data_key\n",
      "> retail = 19.99,bidincrement = 0.15, bidfee = 0.75, infer PT's parameters\n",
      "> Now do SA....... \n",
      "\n"
     ]
    },
    {
     "name": "stderr",
     "output_type": "stream",
     "text": [
      " 29%|██▊       | 366/1276 [1:24:41<4:35:07, 18.14s/it]"
     ]
    },
    {
     "name": "stdout",
     "output_type": "stream",
     "text": [
      "STOP CODE:  Stay unchanged in the last 6 iterations\n",
      "> SA ENDS....... \n",
      "\n",
      "> avg loss: 2.3769644457181687\n",
      "> For the *366_th* data_key\n",
      "> retail = 104.15,bidincrement = 0.15, bidfee = 0.75, infer PT's parameters\n",
      "> Now do SA....... \n",
      "\n"
     ]
    },
    {
     "name": "stderr",
     "output_type": "stream",
     "text": [
      " 29%|██▉       | 367/1276 [1:24:45<3:28:18, 13.75s/it]"
     ]
    },
    {
     "name": "stdout",
     "output_type": "stream",
     "text": [
      "STOP CODE:  Stay unchanged in the last 6 iterations\n",
      "> SA ENDS....... \n",
      "\n",
      "> avg loss: 3.7236441465637276\n",
      "> For the *367_th* data_key\n",
      "> retail = 84.99,bidincrement = 0.15, bidfee = 0.75, infer PT's parameters\n",
      "> Now do SA....... \n",
      "\n"
     ]
    },
    {
     "name": "stderr",
     "output_type": "stream",
     "text": [
      " 29%|██▉       | 368/1276 [1:24:47<2:36:33, 10.35s/it]"
     ]
    },
    {
     "name": "stdout",
     "output_type": "stream",
     "text": [
      "STOP CODE:  Stay unchanged in the last 6 iterations\n",
      "> SA ENDS....... \n",
      "\n",
      "> avg loss: 3.0483630186767185\n",
      "> For the *368_th* data_key\n",
      "> retail = 162.99,bidincrement = 0.15, bidfee = 0.75, infer PT's parameters\n",
      "> Now do SA....... \n",
      "\n"
     ]
    },
    {
     "name": "stderr",
     "output_type": "stream",
     "text": [
      " 29%|██▉       | 369/1276 [1:24:53<2:15:43,  8.98s/it]"
     ]
    },
    {
     "name": "stdout",
     "output_type": "stream",
     "text": [
      "STOP CODE:  Stay unchanged in the last 6 iterations\n",
      "> SA ENDS....... \n",
      "\n",
      "> avg loss: 3.1099714617271714\n",
      "> For the *369_th* data_key\n",
      "> retail = 162.99,bidincrement = 0.15, bidfee = 0.75, infer PT's parameters\n",
      "> Now do SA....... \n",
      "\n"
     ]
    },
    {
     "name": "stderr",
     "output_type": "stream",
     "text": [
      " 29%|██▉       | 370/1276 [1:25:02<2:17:25,  9.10s/it]"
     ]
    },
    {
     "name": "stdout",
     "output_type": "stream",
     "text": [
      "STOP CODE:  Stay unchanged in the last 6 iterations\n",
      "> SA ENDS....... \n",
      "\n",
      "> avg loss: 3.1429779803519167\n",
      "> For the *370_th* data_key\n",
      "> retail = 110.11,bidincrement = 0.15, bidfee = 0.75, infer PT's parameters\n",
      "> Now do SA....... \n",
      "\n"
     ]
    },
    {
     "name": "stderr",
     "output_type": "stream",
     "text": [
      " 29%|██▉       | 371/1276 [1:25:05<1:47:45,  7.14s/it]"
     ]
    },
    {
     "name": "stdout",
     "output_type": "stream",
     "text": [
      "STOP CODE:  Stay unchanged in the last 6 iterations\n",
      "> SA ENDS....... \n",
      "\n",
      "> avg loss: 19.326149018099347\n",
      "> For the *371_th* data_key\n",
      "> retail = 179.99,bidincrement = 0.15, bidfee = 0.75, infer PT's parameters\n",
      "> Now do SA....... \n",
      "\n"
     ]
    },
    {
     "name": "stderr",
     "output_type": "stream",
     "text": [
      " 29%|██▉       | 372/1276 [1:25:09<1:33:56,  6.24s/it]"
     ]
    },
    {
     "name": "stdout",
     "output_type": "stream",
     "text": [
      "STOP CODE:  Stay unchanged in the last 6 iterations\n",
      "> SA ENDS....... \n",
      "\n",
      "> avg loss: 23.024931211517963\n",
      "> For the *372_th* data_key\n",
      "> retail = 129.99,bidincrement = 0.15, bidfee = 0.75, infer PT's parameters\n",
      "> Now do SA....... \n",
      "\n"
     ]
    },
    {
     "name": "stderr",
     "output_type": "stream",
     "text": [
      " 29%|██▉       | 373/1276 [1:25:14<1:29:18,  5.93s/it]"
     ]
    },
    {
     "name": "stdout",
     "output_type": "stream",
     "text": [
      "STOP CODE:  Stay unchanged in the last 6 iterations\n",
      "> SA ENDS....... \n",
      "\n",
      "> avg loss: 2.560936210066943\n",
      "> For the *373_th* data_key\n",
      "> retail = 499.0,bidincrement = 0.15, bidfee = 0.75, infer PT's parameters\n",
      "> Now do SA....... \n",
      "\n"
     ]
    },
    {
     "name": "stderr",
     "output_type": "stream",
     "text": [
      " 29%|██▉       | 374/1276 [1:25:21<1:33:31,  6.22s/it]"
     ]
    },
    {
     "name": "stdout",
     "output_type": "stream",
     "text": [
      "STOP CODE:  Stay unchanged in the last 6 iterations\n",
      "> SA ENDS....... \n",
      "\n",
      "> avg loss: 23.025850847825772\n",
      "> For the *374_th* data_key\n",
      "> retail = 499.0,bidincrement = 0.15, bidfee = 0.75, infer PT's parameters\n",
      "> Now do SA....... \n",
      "\n"
     ]
    },
    {
     "name": "stderr",
     "output_type": "stream",
     "text": [
      " 29%|██▉       | 375/1276 [1:25:37<2:14:43,  8.97s/it]"
     ]
    },
    {
     "name": "stdout",
     "output_type": "stream",
     "text": [
      "STOP CODE:  Stay unchanged in the last 6 iterations\n",
      "> SA ENDS....... \n",
      "\n",
      "> avg loss: 3.1127284226550005\n",
      "> For the *375_th* data_key\n",
      "> retail = 29.99,bidincrement = 0.15, bidfee = 0.75, infer PT's parameters\n",
      "> Now do SA....... \n",
      "\n"
     ]
    },
    {
     "name": "stderr",
     "output_type": "stream",
     "text": [
      " 29%|██▉       | 376/1276 [1:25:41<1:54:12,  7.61s/it]"
     ]
    },
    {
     "name": "stdout",
     "output_type": "stream",
     "text": [
      "STOP CODE:  Stay unchanged in the last 6 iterations\n",
      "> SA ENDS....... \n",
      "\n",
      "> avg loss: 2.6516508631594986\n",
      "> For the *376_th* data_key\n",
      "> retail = 429.31,bidincrement = 0.15, bidfee = 0.75, infer PT's parameters\n",
      "> Now do SA....... \n",
      "\n"
     ]
    },
    {
     "name": "stderr",
     "output_type": "stream",
     "text": [
      " 30%|██▉       | 377/1276 [1:25:51<2:03:00,  8.21s/it]"
     ]
    },
    {
     "name": "stdout",
     "output_type": "stream",
     "text": [
      "STOP CODE:  Stay unchanged in the last 6 iterations\n",
      "> SA ENDS....... \n",
      "\n",
      "> avg loss: 2.7890906578861667\n",
      "> For the *377_th* data_key\n",
      "> retail = 1799.99,bidincrement = 0.01, bidfee = 0.75, infer PT's parameters\n",
      "> Now do SA....... \n",
      "\n"
     ]
    },
    {
     "name": "stderr",
     "output_type": "stream",
     "text": [
      " 30%|██▉       | 378/1276 [1:27:54<10:41:47, 42.88s/it]"
     ]
    },
    {
     "name": "stdout",
     "output_type": "stream",
     "text": [
      "> 超时\n",
      "> SA ENDS....... \n",
      "\n",
      "> avg loss: 23.025851109172546\n",
      "> For the *378_th* data_key\n",
      "> retail = 60.0,bidincrement = 0.15, bidfee = 0.75, infer PT's parameters\n",
      "> Now do SA....... \n",
      "\n"
     ]
    },
    {
     "name": "stderr",
     "output_type": "stream",
     "text": [
      " 30%|██▉       | 379/1276 [1:28:00<7:55:14, 31.79s/it] "
     ]
    },
    {
     "name": "stdout",
     "output_type": "stream",
     "text": [
      "STOP CODE:  Stay unchanged in the last 6 iterations\n",
      "> SA ENDS....... \n",
      "\n",
      "> avg loss: 2.8391679703621655\n",
      "> For the *379_th* data_key\n",
      "> retail = 399.95,bidincrement = 0.15, bidfee = 0.75, infer PT's parameters\n",
      "> Now do SA....... \n",
      "\n"
     ]
    },
    {
     "name": "stderr",
     "output_type": "stream",
     "text": [
      " 30%|██▉       | 380/1276 [1:28:14<6:32:06, 26.26s/it]"
     ]
    },
    {
     "name": "stdout",
     "output_type": "stream",
     "text": [
      "STOP CODE:  Stay unchanged in the last 6 iterations\n",
      "> SA ENDS....... \n",
      "\n",
      "> avg loss: 3.683341919938665\n",
      "> For the *380_th* data_key\n",
      "> retail = 59.99,bidincrement = 0.15, bidfee = 0.75, infer PT's parameters\n",
      "> Now do SA....... \n",
      "\n"
     ]
    },
    {
     "name": "stderr",
     "output_type": "stream",
     "text": [
      " 30%|██▉       | 381/1276 [1:28:18<4:54:07, 19.72s/it]"
     ]
    },
    {
     "name": "stdout",
     "output_type": "stream",
     "text": [
      "STOP CODE:  Stay unchanged in the last 6 iterations\n",
      "> SA ENDS....... \n",
      "\n",
      "> avg loss: 2.532277647848647\n",
      "> For the *381_th* data_key\n",
      "> retail = 246.0,bidincrement = 0.15, bidfee = 0.75, infer PT's parameters\n",
      "> Now do SA....... \n",
      "\n"
     ]
    },
    {
     "name": "stderr",
     "output_type": "stream",
     "text": [
      " 30%|██▉       | 382/1276 [1:28:34<4:36:46, 18.58s/it]"
     ]
    },
    {
     "name": "stdout",
     "output_type": "stream",
     "text": [
      "STOP CODE:  Stay unchanged in the last 6 iterations\n",
      "> SA ENDS....... \n",
      "\n",
      "> avg loss: 2.8179551226314468\n",
      "> For the *382_th* data_key\n",
      "> retail = 48.49,bidincrement = 0.15, bidfee = 0.75, infer PT's parameters\n",
      "> Now do SA....... \n",
      "\n"
     ]
    },
    {
     "name": "stderr",
     "output_type": "stream",
     "text": [
      " 30%|███       | 383/1276 [1:28:37<3:27:00, 13.91s/it]"
     ]
    },
    {
     "name": "stdout",
     "output_type": "stream",
     "text": [
      "STOP CODE:  Stay unchanged in the last 6 iterations\n",
      "> SA ENDS....... \n",
      "\n",
      "> avg loss: 3.0937841590429334\n",
      "> For the *383_th* data_key\n",
      "> retail = 59.99,bidincrement = 0.15, bidfee = 0.75, infer PT's parameters\n",
      "> Now do SA....... \n",
      "\n"
     ]
    },
    {
     "name": "stderr",
     "output_type": "stream",
     "text": [
      " 30%|███       | 384/1276 [1:28:40<2:38:14, 10.64s/it]"
     ]
    },
    {
     "name": "stdout",
     "output_type": "stream",
     "text": [
      "STOP CODE:  Stay unchanged in the last 6 iterations\n",
      "> SA ENDS....... \n",
      "\n",
      "> avg loss: 3.128542534041357\n",
      "> For the *384_th* data_key\n",
      "> retail = 29.99,bidincrement = 0.15, bidfee = 0.75, infer PT's parameters\n",
      "> Now do SA....... \n",
      "\n"
     ]
    },
    {
     "name": "stderr",
     "output_type": "stream",
     "text": [
      " 30%|███       | 385/1276 [1:28:43<2:03:23,  8.31s/it]"
     ]
    },
    {
     "name": "stdout",
     "output_type": "stream",
     "text": [
      "STOP CODE:  Stay unchanged in the last 6 iterations\n",
      "> SA ENDS....... \n",
      "\n",
      "> avg loss: 2.7539507178884515\n",
      "> For the *385_th* data_key\n",
      "> retail = 408.0,bidincrement = 0.15, bidfee = 0.75, infer PT's parameters\n",
      "> Now do SA....... \n",
      "\n"
     ]
    },
    {
     "name": "stderr",
     "output_type": "stream",
     "text": [
      " 30%|███       | 386/1276 [1:28:53<2:09:15,  8.71s/it]"
     ]
    },
    {
     "name": "stdout",
     "output_type": "stream",
     "text": [
      "STOP CODE:  Stay unchanged in the last 6 iterations\n",
      "> SA ENDS....... \n",
      "\n",
      "> avg loss: 3.6440718904904537\n",
      "> For the *386_th* data_key\n",
      "> retail = 799.0,bidincrement = 0.15, bidfee = 0.75, infer PT's parameters\n",
      "> Now do SA....... \n",
      "\n"
     ]
    },
    {
     "name": "stderr",
     "output_type": "stream",
     "text": [
      " 30%|███       | 387/1276 [1:29:03<2:15:36,  9.15s/it]"
     ]
    },
    {
     "name": "stdout",
     "output_type": "stream",
     "text": [
      "STOP CODE:  Stay unchanged in the last 6 iterations\n",
      "> SA ENDS....... \n",
      "\n",
      "> avg loss: 23.02585084753498\n",
      "> For the *387_th* data_key\n",
      "> retail = 579.99,bidincrement = 0.15, bidfee = 0.75, infer PT's parameters\n",
      "> Now do SA....... \n",
      "\n"
     ]
    },
    {
     "name": "stderr",
     "output_type": "stream",
     "text": [
      " 30%|███       | 388/1276 [1:29:11<2:09:28,  8.75s/it]"
     ]
    },
    {
     "name": "stdout",
     "output_type": "stream",
     "text": [
      "STOP CODE:  Stay unchanged in the last 6 iterations\n",
      "> SA ENDS....... \n",
      "\n",
      "> avg loss: 23.02585084755984\n",
      "> For the *388_th* data_key\n",
      "> retail = 49.99,bidincrement = 0.15, bidfee = 0.75, infer PT's parameters\n",
      "> Now do SA....... \n",
      "\n"
     ]
    },
    {
     "name": "stderr",
     "output_type": "stream",
     "text": [
      " 30%|███       | 389/1276 [1:29:13<1:42:39,  6.94s/it]"
     ]
    },
    {
     "name": "stdout",
     "output_type": "stream",
     "text": [
      "STOP CODE:  Stay unchanged in the last 6 iterations\n",
      "> SA ENDS....... \n",
      "\n",
      "> avg loss: 3.34499733475941\n",
      "> For the *389_th* data_key\n",
      "> retail = 149.99,bidincrement = 0.01, bidfee = 0.75, infer PT's parameters\n",
      "> Now do SA....... \n",
      "\n"
     ]
    },
    {
     "name": "stderr",
     "output_type": "stream",
     "text": [
      " 31%|███       | 390/1276 [1:29:59<4:33:38, 18.53s/it]"
     ]
    },
    {
     "name": "stdout",
     "output_type": "stream",
     "text": [
      "STOP CODE:  Stay unchanged in the last 6 iterations\n",
      "> SA ENDS....... \n",
      "\n",
      "> avg loss: 6.396937539130074\n",
      "> For the *390_th* data_key\n",
      "> retail = 199.99,bidincrement = 0.15, bidfee = 0.75, infer PT's parameters\n",
      "> Now do SA....... \n",
      "\n"
     ]
    },
    {
     "name": "stderr",
     "output_type": "stream",
     "text": [
      " 31%|███       | 391/1276 [1:30:03<3:30:17, 14.26s/it]"
     ]
    },
    {
     "name": "stdout",
     "output_type": "stream",
     "text": [
      "STOP CODE:  Stay unchanged in the last 6 iterations\n",
      "> SA ENDS....... \n",
      "\n",
      "> avg loss: 3.11708910923595\n",
      "> For the *391_th* data_key\n",
      "> retail = 51.14,bidincrement = 0.01, bidfee = 0.75, infer PT's parameters\n",
      "> Now do SA....... \n",
      "\n"
     ]
    },
    {
     "name": "stderr",
     "output_type": "stream",
     "text": [
      " 31%|███       | 392/1276 [1:30:21<3:46:49, 15.40s/it]"
     ]
    },
    {
     "name": "stdout",
     "output_type": "stream",
     "text": [
      "STOP CODE:  Stay unchanged in the last 6 iterations\n",
      "> SA ENDS....... \n",
      "\n",
      "> avg loss: 5.337349254911958\n",
      "> For the *392_th* data_key\n",
      "> retail = 299.99,bidincrement = 0.15, bidfee = 0.75, infer PT's parameters\n",
      "> Now do SA....... \n",
      "\n"
     ]
    },
    {
     "name": "stderr",
     "output_type": "stream",
     "text": [
      " 31%|███       | 393/1276 [1:30:34<3:34:45, 14.59s/it]"
     ]
    },
    {
     "name": "stdout",
     "output_type": "stream",
     "text": [
      "STOP CODE:  Stay unchanged in the last 6 iterations\n",
      "> SA ENDS....... \n",
      "\n",
      "> avg loss: 2.6833035591282073\n",
      "> For the *393_th* data_key\n",
      "> retail = 169.99,bidincrement = 0.15, bidfee = 0.75, infer PT's parameters\n",
      "> Now do SA....... \n",
      "\n"
     ]
    },
    {
     "name": "stderr",
     "output_type": "stream",
     "text": [
      " 31%|███       | 394/1276 [1:30:46<3:23:06, 13.82s/it]"
     ]
    },
    {
     "name": "stdout",
     "output_type": "stream",
     "text": [
      "STOP CODE:  Stay unchanged in the last 6 iterations\n",
      "> SA ENDS....... \n",
      "\n",
      "> avg loss: 2.8996756555662593\n",
      "> For the *394_th* data_key\n",
      "> retail = 299.99,bidincrement = 0.01, bidfee = 0.75, infer PT's parameters\n",
      "> Now do SA....... \n",
      "\n"
     ]
    },
    {
     "name": "stderr",
     "output_type": "stream",
     "text": [
      " 31%|███       | 395/1276 [1:32:47<11:13:20, 45.86s/it]"
     ]
    },
    {
     "name": "stdout",
     "output_type": "stream",
     "text": [
      "> 超时\n",
      "> SA ENDS....... \n",
      "\n",
      "> avg loss: 23.025850891030046\n",
      "> For the *395_th* data_key\n",
      "> retail = 29.99,bidincrement = 0.01, bidfee = 0.75, infer PT's parameters\n",
      "> Now do SA....... \n",
      "\n"
     ]
    },
    {
     "name": "stderr",
     "output_type": "stream",
     "text": [
      " 31%|███       | 396/1276 [1:32:55<8:29:00, 34.71s/it] "
     ]
    },
    {
     "name": "stdout",
     "output_type": "stream",
     "text": [
      "STOP CODE:  Stay unchanged in the last 6 iterations\n",
      "> SA ENDS....... \n",
      "\n",
      "> avg loss: 4.702045181497622\n",
      "> For the *396_th* data_key\n",
      "> retail = 349.99,bidincrement = 0.01, bidfee = 0.75, infer PT's parameters\n",
      "> Now do SA....... \n",
      "\n"
     ]
    },
    {
     "name": "stderr",
     "output_type": "stream",
     "text": [
      " 31%|███       | 397/1276 [1:34:56<14:45:54, 60.47s/it]"
     ]
    },
    {
     "name": "stdout",
     "output_type": "stream",
     "text": [
      "> 超时\n",
      "> SA ENDS....... \n",
      "\n",
      "> avg loss: 23.025850896151017\n",
      "> For the *397_th* data_key\n",
      "> retail = 2400.0,bidincrement = 0.01, bidfee = 0.75, infer PT's parameters\n",
      "> Now do SA....... \n",
      "\n"
     ]
    },
    {
     "name": "stderr",
     "output_type": "stream",
     "text": [
      " 31%|███       | 398/1276 [1:37:01<19:27:49, 79.81s/it]"
     ]
    },
    {
     "name": "stdout",
     "output_type": "stream",
     "text": [
      "> 超时\n",
      "> SA ENDS....... \n",
      "\n",
      "> avg loss: 23.025851184694517\n",
      "> For the *398_th* data_key\n",
      "> retail = 80.0,bidincrement = 0.01, bidfee = 0.75, infer PT's parameters\n",
      "> Now do SA....... \n",
      "\n"
     ]
    },
    {
     "name": "stderr",
     "output_type": "stream",
     "text": [
      " 31%|███▏      | 399/1276 [1:37:46<16:54:21, 69.40s/it]"
     ]
    },
    {
     "name": "stdout",
     "output_type": "stream",
     "text": [
      "STOP CODE:  Stay unchanged in the last 6 iterations\n",
      "> SA ENDS....... \n",
      "\n",
      "> avg loss: 5.737334237940622\n",
      "> For the *399_th* data_key\n",
      "> retail = 225.0,bidincrement = 0.01, bidfee = 0.75, infer PT's parameters\n",
      "> Now do SA....... \n",
      "\n"
     ]
    },
    {
     "name": "stderr",
     "output_type": "stream",
     "text": [
      " 31%|███▏      | 400/1276 [1:39:01<17:20:18, 71.25s/it]"
     ]
    },
    {
     "name": "stdout",
     "output_type": "stream",
     "text": [
      "STOP CODE:  Stay unchanged in the last 6 iterations\n",
      "> SA ENDS....... \n",
      "\n",
      "> avg loss: 6.694138751996668\n",
      "> For the *400_th* data_key\n",
      "> retail = 37.5,bidincrement = 0.01, bidfee = 0.75, infer PT's parameters\n",
      "> Now do SA....... \n",
      "\n"
     ]
    },
    {
     "name": "stderr",
     "output_type": "stream",
     "text": [
      " 31%|███▏      | 401/1276 [1:39:19<13:25:58, 55.27s/it]"
     ]
    },
    {
     "name": "stdout",
     "output_type": "stream",
     "text": [
      "STOP CODE:  Stay unchanged in the last 6 iterations\n",
      "> SA ENDS....... \n",
      "\n",
      "> avg loss: 4.937063986558389\n",
      "> For the *401_th* data_key\n",
      "> retail = 211.13,bidincrement = 0.15, bidfee = 0.75, infer PT's parameters\n",
      "> Now do SA....... \n",
      "\n"
     ]
    },
    {
     "name": "stderr",
     "output_type": "stream",
     "text": [
      " 32%|███▏      | 402/1276 [1:39:29<10:04:16, 41.48s/it]"
     ]
    },
    {
     "name": "stdout",
     "output_type": "stream",
     "text": [
      "STOP CODE:  Stay unchanged in the last 6 iterations\n",
      "> SA ENDS....... \n",
      "\n",
      "> avg loss: 3.1880938552018927\n",
      "> For the *402_th* data_key\n",
      "> retail = 1109.44,bidincrement = 0.01, bidfee = 0.75, infer PT's parameters\n",
      "> Now do SA....... \n",
      "\n"
     ]
    },
    {
     "name": "stderr",
     "output_type": "stream",
     "text": [
      " 32%|███▏      | 403/1276 [1:41:31<15:55:31, 65.67s/it]"
     ]
    },
    {
     "name": "stdout",
     "output_type": "stream",
     "text": [
      "> 超时\n",
      "> SA ENDS....... \n",
      "\n",
      "> avg loss: 23.02585100701839\n",
      "> For the *403_th* data_key\n",
      "> retail = 40.99,bidincrement = 0.15, bidfee = 0.75, infer PT's parameters\n",
      "> Now do SA....... \n",
      "\n"
     ]
    },
    {
     "name": "stderr",
     "output_type": "stream",
     "text": [
      " 32%|███▏      | 404/1276 [1:41:34<11:23:15, 47.01s/it]"
     ]
    },
    {
     "name": "stdout",
     "output_type": "stream",
     "text": [
      "STOP CODE:  Stay unchanged in the last 6 iterations\n",
      "> SA ENDS....... \n",
      "\n",
      "> avg loss: 3.040602778535375\n",
      "> For the *404_th* data_key\n",
      "> retail = 24.99,bidincrement = 0.15, bidfee = 0.75, infer PT's parameters\n",
      "> Now do SA....... \n",
      "\n"
     ]
    },
    {
     "name": "stderr",
     "output_type": "stream",
     "text": [
      " 32%|███▏      | 405/1276 [1:41:39<8:18:31, 34.34s/it] "
     ]
    },
    {
     "name": "stdout",
     "output_type": "stream",
     "text": [
      "STOP CODE:  Stay unchanged in the last 6 iterations\n",
      "> SA ENDS....... \n",
      "\n",
      "> avg loss: 2.7752366936166806\n",
      "> For the *405_th* data_key\n",
      "> retail = 42.99,bidincrement = 0.15, bidfee = 0.75, infer PT's parameters\n",
      "> Now do SA....... \n",
      "\n"
     ]
    },
    {
     "name": "stderr",
     "output_type": "stream",
     "text": [
      " 32%|███▏      | 406/1276 [1:41:42<5:59:53, 24.82s/it]"
     ]
    },
    {
     "name": "stdout",
     "output_type": "stream",
     "text": [
      "STOP CODE:  Stay unchanged in the last 6 iterations\n",
      "> SA ENDS....... \n",
      "\n",
      "> avg loss: 3.1752166728578333\n",
      "> For the *406_th* data_key\n",
      "> retail = 49.99,bidincrement = 0.15, bidfee = 0.75, infer PT's parameters\n",
      "> Now do SA....... \n",
      "\n"
     ]
    },
    {
     "name": "stderr",
     "output_type": "stream",
     "text": [
      " 32%|███▏      | 407/1276 [1:41:45<4:25:23, 18.32s/it]"
     ]
    },
    {
     "name": "stdout",
     "output_type": "stream",
     "text": [
      "STOP CODE:  Stay unchanged in the last 6 iterations\n",
      "> SA ENDS....... \n",
      "\n",
      "> avg loss: 2.962560742199879\n",
      "> For the *407_th* data_key\n",
      "> retail = 1000.0,bidincrement = 0.01, bidfee = 0.75, infer PT's parameters\n",
      "> Now do SA....... \n",
      "\n"
     ]
    },
    {
     "name": "stderr",
     "output_type": "stream",
     "text": [
      " 32%|███▏      | 408/1276 [1:43:47<11:55:04, 49.43s/it]"
     ]
    },
    {
     "name": "stdout",
     "output_type": "stream",
     "text": [
      "> 超时\n",
      "> SA ENDS....... \n",
      "\n",
      "> avg loss: 23.0258509914852\n",
      "> For the *408_th* data_key\n",
      "> retail = 349.99,bidincrement = 0.01, bidfee = 0.75, infer PT's parameters\n",
      "> Now do SA....... \n",
      "\n"
     ]
    },
    {
     "name": "stderr",
     "output_type": "stream",
     "text": [
      " 32%|███▏      | 409/1276 [1:45:48<17:02:57, 70.79s/it]"
     ]
    },
    {
     "name": "stdout",
     "output_type": "stream",
     "text": [
      "> 超时\n",
      "> SA ENDS....... \n",
      "\n",
      "> avg loss: 23.025850894244517\n",
      "> For the *409_th* data_key\n",
      "> retail = 35.99,bidincrement = 0.15, bidfee = 0.75, infer PT's parameters\n",
      "> Now do SA....... \n",
      "\n"
     ]
    },
    {
     "name": "stderr",
     "output_type": "stream",
     "text": [
      " 32%|███▏      | 410/1276 [1:45:50<12:07:05, 50.38s/it]"
     ]
    },
    {
     "name": "stdout",
     "output_type": "stream",
     "text": [
      "STOP CODE:  Stay unchanged in the last 6 iterations\n",
      "> SA ENDS....... \n",
      "\n",
      "> avg loss: 2.7955645228949253\n",
      "> For the *410_th* data_key\n",
      "> retail = 49.95,bidincrement = 0.15, bidfee = 0.75, infer PT's parameters\n",
      "> Now do SA....... \n",
      "\n"
     ]
    },
    {
     "name": "stderr",
     "output_type": "stream",
     "text": [
      " 32%|███▏      | 411/1276 [1:45:54<8:45:24, 36.44s/it] "
     ]
    },
    {
     "name": "stdout",
     "output_type": "stream",
     "text": [
      "STOP CODE:  Stay unchanged in the last 6 iterations\n",
      "> SA ENDS....... \n",
      "\n",
      "> avg loss: 2.691939495557086\n",
      "> For the *411_th* data_key\n",
      "> retail = 1199.99,bidincrement = 0.01, bidfee = 0.75, infer PT's parameters\n",
      "> Now do SA....... \n",
      "\n"
     ]
    },
    {
     "name": "stderr",
     "output_type": "stream",
     "text": [
      " 32%|███▏      | 412/1276 [1:47:56<14:54:54, 62.15s/it]"
     ]
    },
    {
     "name": "stdout",
     "output_type": "stream",
     "text": [
      "> 超时\n",
      "> SA ENDS....... \n",
      "\n",
      "> avg loss: 23.025851014876107\n",
      "> For the *412_th* data_key\n",
      "> retail = 39.99,bidincrement = 0.15, bidfee = 0.75, infer PT's parameters\n",
      "> Now do SA....... \n",
      "\n"
     ]
    },
    {
     "name": "stderr",
     "output_type": "stream",
     "text": [
      " 32%|███▏      | 413/1276 [1:47:59<10:37:16, 44.31s/it]"
     ]
    },
    {
     "name": "stdout",
     "output_type": "stream",
     "text": [
      "STOP CODE:  Stay unchanged in the last 6 iterations\n",
      "> SA ENDS....... \n",
      "\n",
      "> avg loss: 2.7082778894481447\n",
      "> For the *413_th* data_key\n",
      "> retail = 299.99,bidincrement = 0.15, bidfee = 0.75, infer PT's parameters\n",
      "> Now do SA....... \n",
      "\n"
     ]
    },
    {
     "name": "stderr",
     "output_type": "stream",
     "text": [
      " 32%|███▏      | 414/1276 [1:48:05<7:52:24, 32.88s/it] "
     ]
    },
    {
     "name": "stdout",
     "output_type": "stream",
     "text": [
      "STOP CODE:  Stay unchanged in the last 6 iterations\n",
      "> SA ENDS....... \n",
      "\n",
      "> avg loss: 2.664752586629885\n",
      "> For the *414_th* data_key\n",
      "> retail = 59.99,bidincrement = 0.15, bidfee = 0.75, infer PT's parameters\n",
      "> Now do SA....... \n",
      "\n"
     ]
    },
    {
     "name": "stderr",
     "output_type": "stream",
     "text": [
      " 33%|███▎      | 415/1276 [1:48:10<5:50:54, 24.45s/it]"
     ]
    },
    {
     "name": "stdout",
     "output_type": "stream",
     "text": [
      "STOP CODE:  Stay unchanged in the last 6 iterations\n",
      "> SA ENDS....... \n",
      "\n",
      "> avg loss: 2.7758007356230627\n",
      "> For the *415_th* data_key\n",
      "> retail = 1499.0,bidincrement = 0.01, bidfee = 0.75, infer PT's parameters\n",
      "> Now do SA....... \n",
      "\n"
     ]
    },
    {
     "name": "stderr",
     "output_type": "stream",
     "text": [
      " 33%|███▎      | 416/1276 [1:50:13<12:54:00, 54.00s/it]"
     ]
    },
    {
     "name": "stdout",
     "output_type": "stream",
     "text": [
      "> 超时\n",
      "> SA ENDS....... \n",
      "\n",
      "> avg loss: 23.025851043986652\n",
      "> For the *416_th* data_key\n",
      "> retail = 49.99,bidincrement = 0.15, bidfee = 0.75, infer PT's parameters\n",
      "> Now do SA....... \n",
      "\n"
     ]
    },
    {
     "name": "stderr",
     "output_type": "stream",
     "text": [
      " 33%|███▎      | 417/1276 [1:50:18<9:22:21, 39.28s/it] "
     ]
    },
    {
     "name": "stdout",
     "output_type": "stream",
     "text": [
      "STOP CODE:  Stay unchanged in the last 6 iterations\n",
      "> SA ENDS....... \n",
      "\n",
      "> avg loss: 2.2546610778544043\n",
      "> For the *417_th* data_key\n",
      "> retail = 1282.83,bidincrement = 0.15, bidfee = 0.75, infer PT's parameters\n",
      "> Now do SA....... \n",
      "\n"
     ]
    },
    {
     "name": "stderr",
     "output_type": "stream",
     "text": [
      " 33%|███▎      | 418/1276 [1:50:38<7:58:09, 33.44s/it]"
     ]
    },
    {
     "name": "stdout",
     "output_type": "stream",
     "text": [
      "STOP CODE:  Stay unchanged in the last 6 iterations\n",
      "> SA ENDS....... \n",
      "\n",
      "> avg loss: 23.025851007107104\n",
      "> For the *418_th* data_key\n",
      "> retail = 549.95,bidincrement = 0.15, bidfee = 0.75, infer PT's parameters\n",
      "> Now do SA....... \n",
      "\n"
     ]
    },
    {
     "name": "stderr",
     "output_type": "stream",
     "text": [
      " 33%|███▎      | 419/1276 [1:50:52<6:33:54, 27.58s/it]"
     ]
    },
    {
     "name": "stdout",
     "output_type": "stream",
     "text": [
      "STOP CODE:  Stay unchanged in the last 6 iterations\n",
      "> SA ENDS....... \n",
      "\n",
      "> avg loss: 2.5202063625105118\n",
      "> For the *419_th* data_key\n",
      "> retail = 47.99,bidincrement = 0.15, bidfee = 0.75, infer PT's parameters\n",
      "> Now do SA....... \n",
      "\n"
     ]
    },
    {
     "name": "stderr",
     "output_type": "stream",
     "text": [
      " 33%|███▎      | 420/1276 [1:50:57<4:57:57, 20.88s/it]"
     ]
    },
    {
     "name": "stdout",
     "output_type": "stream",
     "text": [
      "STOP CODE:  Stay unchanged in the last 6 iterations\n",
      "> SA ENDS....... \n",
      "\n",
      "> avg loss: 2.7549714706880613\n",
      "> For the *420_th* data_key\n",
      "> retail = 1470.68,bidincrement = 0.01, bidfee = 0.75, infer PT's parameters\n",
      "> Now do SA....... \n",
      "\n"
     ]
    },
    {
     "name": "stderr",
     "output_type": "stream",
     "text": [
      " 33%|███▎      | 421/1276 [1:53:00<12:14:33, 51.55s/it]"
     ]
    },
    {
     "name": "stdout",
     "output_type": "stream",
     "text": [
      "> 超时\n",
      "> SA ENDS....... \n",
      "\n",
      "> avg loss: 23.025851054439904\n",
      "> For the *421_th* data_key\n",
      "> retail = 699.99,bidincrement = 0.15, bidfee = 0.75, infer PT's parameters\n",
      "> Now do SA....... \n",
      "\n"
     ]
    },
    {
     "name": "stderr",
     "output_type": "stream",
     "text": [
      " 33%|███▎      | 422/1276 [1:53:11<9:19:59, 39.34s/it] "
     ]
    },
    {
     "name": "stdout",
     "output_type": "stream",
     "text": [
      "STOP CODE:  Stay unchanged in the last 6 iterations\n",
      "> SA ENDS....... \n",
      "\n",
      "> avg loss: 23.025850926270216\n",
      "> For the *422_th* data_key\n",
      "> retail = 699.99,bidincrement = 0.15, bidfee = 0.75, infer PT's parameters\n",
      "> Now do SA....... \n",
      "\n"
     ]
    },
    {
     "name": "stderr",
     "output_type": "stream",
     "text": [
      " 33%|███▎      | 423/1276 [1:53:30<7:51:50, 33.19s/it]"
     ]
    },
    {
     "name": "stdout",
     "output_type": "stream",
     "text": [
      "STOP CODE:  Stay unchanged in the last 6 iterations\n",
      "> SA ENDS....... \n",
      "\n",
      "> avg loss: 7.688266072164409\n",
      "> For the *423_th* data_key\n",
      "> retail = 1799.0,bidincrement = 0.01, bidfee = 0.75, infer PT's parameters\n",
      "> Now do SA....... \n",
      "\n"
     ]
    },
    {
     "name": "stderr",
     "output_type": "stream",
     "text": [
      " 33%|███▎      | 424/1276 [1:55:33<14:16:09, 60.29s/it]"
     ]
    },
    {
     "name": "stdout",
     "output_type": "stream",
     "text": [
      "> 超时\n",
      "> SA ENDS....... \n",
      "\n",
      "> avg loss: 23.025851092089404\n",
      "> For the *424_th* data_key\n",
      "> retail = 229.0,bidincrement = 0.15, bidfee = 0.75, infer PT's parameters\n",
      "> Now do SA....... \n",
      "\n"
     ]
    },
    {
     "name": "stderr",
     "output_type": "stream",
     "text": [
      " 33%|███▎      | 425/1276 [1:55:41<10:29:56, 44.41s/it]"
     ]
    },
    {
     "name": "stdout",
     "output_type": "stream",
     "text": [
      "STOP CODE:  Stay unchanged in the last 6 iterations\n",
      "> SA ENDS....... \n",
      "\n",
      "> avg loss: 3.454303381886312\n",
      "> For the *425_th* data_key\n",
      "> retail = 49.95,bidincrement = 0.15, bidfee = 0.75, infer PT's parameters\n",
      "> Now do SA....... \n",
      "\n"
     ]
    },
    {
     "name": "stderr",
     "output_type": "stream",
     "text": [
      " 33%|███▎      | 426/1276 [1:55:44<7:36:55, 32.25s/it] "
     ]
    },
    {
     "name": "stdout",
     "output_type": "stream",
     "text": [
      "STOP CODE:  Stay unchanged in the last 6 iterations\n",
      "> SA ENDS....... \n",
      "\n",
      "> avg loss: 2.3761535355202317\n",
      "> For the *426_th* data_key\n",
      "> retail = 29.99,bidincrement = 0.15, bidfee = 0.75, infer PT's parameters\n",
      "> Now do SA....... \n",
      "\n"
     ]
    },
    {
     "name": "stderr",
     "output_type": "stream",
     "text": [
      " 33%|███▎      | 427/1276 [1:55:48<5:34:59, 23.67s/it]"
     ]
    },
    {
     "name": "stdout",
     "output_type": "stream",
     "text": [
      "STOP CODE:  Stay unchanged in the last 6 iterations\n",
      "> SA ENDS....... \n",
      "\n",
      "> avg loss: 2.0841125618186322\n",
      "> For the *427_th* data_key\n",
      "> retail = 29.95,bidincrement = 0.15, bidfee = 0.75, infer PT's parameters\n",
      "> Now do SA....... \n",
      "\n"
     ]
    },
    {
     "name": "stderr",
     "output_type": "stream",
     "text": [
      " 34%|███▎      | 428/1276 [1:55:50<4:03:48, 17.25s/it]"
     ]
    },
    {
     "name": "stdout",
     "output_type": "stream",
     "text": [
      "STOP CODE:  Stay unchanged in the last 6 iterations\n",
      "> SA ENDS....... \n",
      "\n",
      "> avg loss: 2.1848477486858022\n",
      "> For the *428_th* data_key\n",
      "> retail = 59.99,bidincrement = 0.15, bidfee = 0.75, infer PT's parameters\n",
      "> Now do SA....... \n",
      "\n"
     ]
    },
    {
     "name": "stderr",
     "output_type": "stream",
     "text": [
      " 34%|███▎      | 429/1276 [1:55:53<3:02:45, 12.95s/it]"
     ]
    },
    {
     "name": "stdout",
     "output_type": "stream",
     "text": [
      "STOP CODE:  Stay unchanged in the last 6 iterations\n",
      "> SA ENDS....... \n",
      "\n",
      "> avg loss: 2.3645171144141583\n",
      "> For the *429_th* data_key\n",
      "> retail = 59.99,bidincrement = 0.15, bidfee = 0.75, infer PT's parameters\n",
      "> Now do SA....... \n",
      "\n"
     ]
    },
    {
     "name": "stderr",
     "output_type": "stream",
     "text": [
      " 34%|███▎      | 430/1276 [1:55:57<2:24:37, 10.26s/it]"
     ]
    },
    {
     "name": "stdout",
     "output_type": "stream",
     "text": [
      "STOP CODE:  Stay unchanged in the last 6 iterations\n",
      "> SA ENDS....... \n",
      "\n",
      "> avg loss: 2.3433925424029343\n",
      "> For the *430_th* data_key\n",
      "> retail = 49.99,bidincrement = 0.15, bidfee = 0.75, infer PT's parameters\n",
      "> Now do SA....... \n",
      "\n"
     ]
    },
    {
     "name": "stderr",
     "output_type": "stream",
     "text": [
      " 34%|███▍      | 431/1276 [1:56:00<1:51:20,  7.91s/it]"
     ]
    },
    {
     "name": "stdout",
     "output_type": "stream",
     "text": [
      "STOP CODE:  Stay unchanged in the last 6 iterations\n",
      "> SA ENDS....... \n",
      "\n",
      "> avg loss: 2.456869233211226\n",
      "> For the *431_th* data_key\n",
      "> retail = 59.99,bidincrement = 0.15, bidfee = 0.75, infer PT's parameters\n",
      "> Now do SA....... \n",
      "\n"
     ]
    },
    {
     "name": "stderr",
     "output_type": "stream",
     "text": [
      " 34%|███▍      | 432/1276 [1:56:02<1:29:14,  6.34s/it]"
     ]
    },
    {
     "name": "stdout",
     "output_type": "stream",
     "text": [
      "STOP CODE:  Stay unchanged in the last 6 iterations\n",
      "> SA ENDS....... \n",
      "\n",
      "> avg loss: 2.3537280032120242\n",
      "> For the *432_th* data_key\n",
      "> retail = 59.99,bidincrement = 0.15, bidfee = 0.75, infer PT's parameters\n",
      "> Now do SA....... \n",
      "\n"
     ]
    },
    {
     "name": "stderr",
     "output_type": "stream",
     "text": [
      " 34%|███▍      | 433/1276 [1:56:06<1:17:53,  5.54s/it]"
     ]
    },
    {
     "name": "stdout",
     "output_type": "stream",
     "text": [
      "STOP CODE:  Stay unchanged in the last 6 iterations\n",
      "> SA ENDS....... \n",
      "\n",
      "> avg loss: 2.3619301100761576\n",
      "> For the *433_th* data_key\n",
      "> retail = 49.99,bidincrement = 0.15, bidfee = 0.75, infer PT's parameters\n",
      "> Now do SA....... \n",
      "\n"
     ]
    },
    {
     "name": "stderr",
     "output_type": "stream",
     "text": [
      " 34%|███▍      | 434/1276 [1:56:09<1:06:07,  4.71s/it]"
     ]
    },
    {
     "name": "stdout",
     "output_type": "stream",
     "text": [
      "STOP CODE:  Stay unchanged in the last 6 iterations\n",
      "> SA ENDS....... \n",
      "\n",
      "> avg loss: 2.146480530134538\n",
      "> For the *434_th* data_key\n",
      "> retail = 59.99,bidincrement = 0.15, bidfee = 0.75, infer PT's parameters\n",
      "> Now do SA....... \n",
      "\n"
     ]
    },
    {
     "name": "stderr",
     "output_type": "stream",
     "text": [
      " 34%|███▍      | 435/1276 [1:56:11<54:38,  3.90s/it]  "
     ]
    },
    {
     "name": "stdout",
     "output_type": "stream",
     "text": [
      "STOP CODE:  Stay unchanged in the last 6 iterations\n",
      "> SA ENDS....... \n",
      "\n",
      "> avg loss: 2.5798619503377247\n",
      "> For the *435_th* data_key\n",
      "> retail = 1499.99,bidincrement = 0.01, bidfee = 0.75, infer PT's parameters\n",
      "> Now do SA....... \n",
      "\n"
     ]
    },
    {
     "name": "stderr",
     "output_type": "stream",
     "text": [
      " 34%|███▍      | 436/1276 [1:58:14<9:14:56, 39.64s/it]"
     ]
    },
    {
     "name": "stdout",
     "output_type": "stream",
     "text": [
      "> 超时\n",
      "> SA ENDS....... \n",
      "\n",
      "> avg loss: 23.025851028334696\n",
      "> For the *436_th* data_key\n",
      "> retail = 1048.0,bidincrement = 0.01, bidfee = 0.75, infer PT's parameters\n",
      "> Now do SA....... \n",
      "\n"
     ]
    },
    {
     "name": "stderr",
     "output_type": "stream",
     "text": [
      " 34%|███▍      | 437/1276 [2:00:16<15:00:58, 64.43s/it]"
     ]
    },
    {
     "name": "stdout",
     "output_type": "stream",
     "text": [
      "> 超时\n",
      "> SA ENDS....... \n",
      "\n",
      "> avg loss: 23.025850983514456\n",
      "> For the *437_th* data_key\n",
      "> retail = 35.99,bidincrement = 0.15, bidfee = 0.75, infer PT's parameters\n",
      "> Now do SA....... \n",
      "\n"
     ]
    },
    {
     "name": "stderr",
     "output_type": "stream",
     "text": [
      " 34%|███▍      | 438/1276 [2:00:18<10:37:27, 45.64s/it]"
     ]
    },
    {
     "name": "stdout",
     "output_type": "stream",
     "text": [
      "STOP CODE:  Stay unchanged in the last 6 iterations\n",
      "> SA ENDS....... \n",
      "\n",
      "> avg loss: 2.6792392185058445\n",
      "> For the *438_th* data_key\n",
      "> retail = 269.99,bidincrement = 0.01, bidfee = 0.75, infer PT's parameters\n",
      "> Now do SA....... \n",
      "\n"
     ]
    },
    {
     "name": "stderr",
     "output_type": "stream",
     "text": [
      " 34%|███▍      | 439/1276 [2:02:15<15:34:48, 67.01s/it]"
     ]
    },
    {
     "name": "stdout",
     "output_type": "stream",
     "text": [
      "STOP CODE:  Stay unchanged in the last 6 iterations\n",
      "> SA ENDS....... \n",
      "\n",
      "> avg loss: 6.916936706420414\n",
      "> For the *439_th* data_key\n",
      "> retail = 1499.99,bidincrement = 0.01, bidfee = 0.75, infer PT's parameters\n",
      "> Now do SA....... \n",
      "\n"
     ]
    },
    {
     "name": "stderr",
     "output_type": "stream",
     "text": [
      " 34%|███▍      | 440/1276 [2:04:18<19:28:15, 83.85s/it]"
     ]
    },
    {
     "name": "stdout",
     "output_type": "stream",
     "text": [
      "> 超时\n",
      "> SA ENDS....... \n",
      "\n",
      "> avg loss: 23.025851063297875\n",
      "> For the *440_th* data_key\n",
      "> retail = 129.0,bidincrement = 0.15, bidfee = 0.75, infer PT's parameters\n",
      "> Now do SA....... \n",
      "\n"
     ]
    },
    {
     "name": "stderr",
     "output_type": "stream",
     "text": [
      " 35%|███▍      | 441/1276 [2:04:29<14:22:06, 61.95s/it]"
     ]
    },
    {
     "name": "stdout",
     "output_type": "stream",
     "text": [
      "STOP CODE:  Stay unchanged in the last 6 iterations\n",
      "> SA ENDS....... \n",
      "\n",
      "> avg loss: 2.590957181910467\n",
      "> For the *441_th* data_key\n",
      "> retail = 189.0,bidincrement = 0.15, bidfee = 0.75, infer PT's parameters\n",
      "> Now do SA....... \n",
      "\n"
     ]
    },
    {
     "name": "stderr",
     "output_type": "stream",
     "text": [
      " 35%|███▍      | 442/1276 [2:04:38<10:42:47, 46.24s/it]"
     ]
    },
    {
     "name": "stdout",
     "output_type": "stream",
     "text": [
      "STOP CODE:  Stay unchanged in the last 6 iterations\n",
      "> SA ENDS....... \n",
      "\n",
      "> avg loss: 2.8097962035152713\n",
      "> For the *442_th* data_key\n",
      "> retail = 89.99,bidincrement = 0.15, bidfee = 0.75, infer PT's parameters\n",
      "> Now do SA....... \n",
      "\n"
     ]
    },
    {
     "name": "stderr",
     "output_type": "stream",
     "text": [
      " 35%|███▍      | 443/1276 [2:04:42<7:42:39, 33.32s/it] "
     ]
    },
    {
     "name": "stdout",
     "output_type": "stream",
     "text": [
      "STOP CODE:  Stay unchanged in the last 6 iterations\n",
      "> SA ENDS....... \n",
      "\n",
      "> avg loss: 3.244556493212946\n",
      "> For the *443_th* data_key\n",
      "> retail = 910.0,bidincrement = 0.01, bidfee = 0.75, infer PT's parameters\n",
      "> Now do SA....... \n",
      "\n"
     ]
    },
    {
     "name": "stderr",
     "output_type": "stream",
     "text": [
      " 35%|███▍      | 444/1276 [2:06:43<13:49:35, 59.83s/it]"
     ]
    },
    {
     "name": "stdout",
     "output_type": "stream",
     "text": [
      "> 超时\n",
      "> SA ENDS....... \n",
      "\n",
      "> avg loss: 23.025850974512544\n",
      "> For the *444_th* data_key\n",
      "> retail = 263.62,bidincrement = 0.15, bidfee = 0.75, infer PT's parameters\n",
      "> Now do SA....... \n",
      "\n"
     ]
    },
    {
     "name": "stderr",
     "output_type": "stream",
     "text": [
      " 35%|███▍      | 445/1276 [2:06:49<10:05:27, 43.72s/it]"
     ]
    },
    {
     "name": "stdout",
     "output_type": "stream",
     "text": [
      "STOP CODE:  Stay unchanged in the last 6 iterations\n",
      "> SA ENDS....... \n",
      "\n",
      "> avg loss: 5.337487126824638\n",
      "> For the *445_th* data_key\n",
      "> retail = 224.07,bidincrement = 0.15, bidfee = 0.75, infer PT's parameters\n",
      "> Now do SA....... \n",
      "\n"
     ]
    },
    {
     "name": "stderr",
     "output_type": "stream",
     "text": [
      " 35%|███▍      | 446/1276 [2:06:56<7:30:10, 32.54s/it] "
     ]
    },
    {
     "name": "stdout",
     "output_type": "stream",
     "text": [
      "STOP CODE:  Stay unchanged in the last 6 iterations\n",
      "> SA ENDS....... \n",
      "\n",
      "> avg loss: 5.627768685732473\n",
      "> For the *446_th* data_key\n",
      "> retail = 446.61,bidincrement = 0.15, bidfee = 0.75, infer PT's parameters\n",
      "> Now do SA....... \n",
      "\n"
     ]
    },
    {
     "name": "stderr",
     "output_type": "stream",
     "text": [
      " 35%|███▌      | 447/1276 [2:07:02<5:39:20, 24.56s/it]"
     ]
    },
    {
     "name": "stdout",
     "output_type": "stream",
     "text": [
      "STOP CODE:  Stay unchanged in the last 6 iterations\n",
      "> SA ENDS....... \n",
      "\n",
      "> avg loss: 23.025850847398594\n",
      "> For the *447_th* data_key\n",
      "> retail = 475.12,bidincrement = 0.15, bidfee = 0.75, infer PT's parameters\n",
      "> Now do SA....... \n",
      "\n"
     ]
    },
    {
     "name": "stderr",
     "output_type": "stream",
     "text": [
      " 35%|███▌      | 448/1276 [2:07:08<4:24:31, 19.17s/it]"
     ]
    },
    {
     "name": "stdout",
     "output_type": "stream",
     "text": [
      "STOP CODE:  Stay unchanged in the last 6 iterations\n",
      "> SA ENDS....... \n",
      "\n",
      "> avg loss: 23.025850847518555\n",
      "> For the *448_th* data_key\n",
      "> retail = 149.99,bidincrement = 0.15, bidfee = 0.75, infer PT's parameters\n",
      "> Now do SA....... \n",
      "\n"
     ]
    },
    {
     "name": "stderr",
     "output_type": "stream",
     "text": [
      " 35%|███▌      | 449/1276 [2:07:19<3:47:39, 16.52s/it]"
     ]
    },
    {
     "name": "stdout",
     "output_type": "stream",
     "text": [
      "STOP CODE:  Stay unchanged in the last 6 iterations\n",
      "> SA ENDS....... \n",
      "\n",
      "> avg loss: 3.7405160179771797\n",
      "> For the *449_th* data_key\n",
      "> retail = 49.99,bidincrement = 0.15, bidfee = 0.75, infer PT's parameters\n",
      "> Now do SA....... \n",
      "\n"
     ]
    },
    {
     "name": "stderr",
     "output_type": "stream",
     "text": [
      " 35%|███▌      | 450/1276 [2:07:23<2:55:44, 12.77s/it]"
     ]
    },
    {
     "name": "stdout",
     "output_type": "stream",
     "text": [
      "STOP CODE:  Stay unchanged in the last 6 iterations\n",
      "> SA ENDS....... \n",
      "\n",
      "> avg loss: 2.4665104196310788\n",
      "> For the *450_th* data_key\n",
      "> retail = 277.0,bidincrement = 0.15, bidfee = 0.75, infer PT's parameters\n",
      "> Now do SA....... \n",
      "\n"
     ]
    },
    {
     "name": "stderr",
     "output_type": "stream",
     "text": [
      " 35%|███▌      | 451/1276 [2:07:38<3:06:34, 13.57s/it]"
     ]
    },
    {
     "name": "stdout",
     "output_type": "stream",
     "text": [
      "STOP CODE:  Stay unchanged in the last 6 iterations\n",
      "> SA ENDS....... \n",
      "\n",
      "> avg loss: 4.102142465773487\n",
      "> For the *451_th* data_key\n",
      "> retail = 37.5,bidincrement = 0.01, bidfee = 0.75, infer PT's parameters\n",
      "> Now do SA....... \n",
      "\n"
     ]
    },
    {
     "name": "stderr",
     "output_type": "stream",
     "text": [
      " 35%|███▌      | 452/1276 [2:07:51<3:04:25, 13.43s/it]"
     ]
    },
    {
     "name": "stdout",
     "output_type": "stream",
     "text": [
      "STOP CODE:  Stay unchanged in the last 6 iterations\n",
      "> SA ENDS....... \n",
      "\n",
      "> avg loss: 4.943569789778612\n",
      "> For the *452_th* data_key\n",
      "> retail = 225.0,bidincrement = 0.01, bidfee = 0.75, infer PT's parameters\n",
      "> Now do SA....... \n",
      "\n"
     ]
    },
    {
     "name": "stderr",
     "output_type": "stream",
     "text": [
      " 36%|███▌      | 453/1276 [2:09:52<10:24:48, 45.55s/it]"
     ]
    },
    {
     "name": "stdout",
     "output_type": "stream",
     "text": [
      "> 超时\n",
      "> SA ENDS....... \n",
      "\n",
      "> avg loss: 23.025850877499476\n",
      "> For the *453_th* data_key\n",
      "> retail = 1549.99,bidincrement = 0.15, bidfee = 0.75, infer PT's parameters\n",
      "> Now do SA....... \n",
      "\n"
     ]
    },
    {
     "name": "stderr",
     "output_type": "stream",
     "text": [
      " 36%|███▌      | 454/1276 [2:10:42<10:43:22, 46.96s/it]"
     ]
    },
    {
     "name": "stdout",
     "output_type": "stream",
     "text": [
      "STOP CODE:  Stay unchanged in the last 6 iterations\n",
      "> SA ENDS....... \n",
      "\n",
      "> avg loss: 8.402867026848599\n",
      "> For the *454_th* data_key\n",
      "> retail = 42.99,bidincrement = 0.15, bidfee = 0.75, infer PT's parameters\n",
      "> Now do SA....... \n",
      "\n"
     ]
    },
    {
     "name": "stderr",
     "output_type": "stream",
     "text": [
      " 36%|███▌      | 455/1276 [2:10:46<7:44:31, 33.95s/it] "
     ]
    },
    {
     "name": "stdout",
     "output_type": "stream",
     "text": [
      "STOP CODE:  Stay unchanged in the last 6 iterations\n",
      "> SA ENDS....... \n",
      "\n",
      "> avg loss: 2.745249330272639\n",
      "> For the *455_th* data_key\n",
      "> retail = 469.0,bidincrement = 0.15, bidfee = 0.75, infer PT's parameters\n",
      "> Now do SA....... \n",
      "\n"
     ]
    },
    {
     "name": "stderr",
     "output_type": "stream",
     "text": [
      " 36%|███▌      | 456/1276 [2:11:13<7:18:12, 32.06s/it]"
     ]
    },
    {
     "name": "stdout",
     "output_type": "stream",
     "text": [
      "STOP CODE:  Stay unchanged in the last 6 iterations\n",
      "> SA ENDS....... \n",
      "\n",
      "> avg loss: 2.551497122304907\n",
      "> For the *456_th* data_key\n",
      "> retail = 399.99,bidincrement = 0.15, bidfee = 0.75, infer PT's parameters\n",
      "> Now do SA....... \n",
      "\n"
     ]
    },
    {
     "name": "stderr",
     "output_type": "stream",
     "text": [
      " 36%|███▌      | 457/1276 [2:11:19<5:29:09, 24.11s/it]"
     ]
    },
    {
     "name": "stdout",
     "output_type": "stream",
     "text": [
      "STOP CODE:  Stay unchanged in the last 6 iterations\n",
      "> SA ENDS....... \n",
      "\n",
      "> avg loss: 23.025850847710608\n",
      "> For the *457_th* data_key\n",
      "> retail = 376.8,bidincrement = 0.15, bidfee = 0.75, infer PT's parameters\n",
      "> Now do SA....... \n",
      "\n"
     ]
    },
    {
     "name": "stderr",
     "output_type": "stream",
     "text": [
      " 36%|███▌      | 458/1276 [2:11:34<4:52:51, 21.48s/it]"
     ]
    },
    {
     "name": "stdout",
     "output_type": "stream",
     "text": [
      "STOP CODE:  Stay unchanged in the last 6 iterations\n",
      "> SA ENDS....... \n",
      "\n",
      "> avg loss: 6.774854166324646\n",
      "> For the *458_th* data_key\n",
      "> retail = 376.8,bidincrement = 0.15, bidfee = 0.75, infer PT's parameters\n",
      "> Now do SA....... \n",
      "\n"
     ]
    },
    {
     "name": "stderr",
     "output_type": "stream",
     "text": [
      " 36%|███▌      | 459/1276 [2:11:43<3:59:23, 17.58s/it]"
     ]
    },
    {
     "name": "stdout",
     "output_type": "stream",
     "text": [
      "STOP CODE:  Stay unchanged in the last 6 iterations\n",
      "> SA ENDS....... \n",
      "\n",
      "> avg loss: 6.913390445439154\n",
      "> For the *459_th* data_key\n",
      "> retail = 1499.99,bidincrement = 0.01, bidfee = 0.75, infer PT's parameters\n",
      "> Now do SA....... \n",
      "\n"
     ]
    },
    {
     "name": "stderr",
     "output_type": "stream",
     "text": [
      " 36%|███▌      | 460/1276 [2:13:46<11:09:25, 49.22s/it]"
     ]
    },
    {
     "name": "stdout",
     "output_type": "stream",
     "text": [
      "> 超时\n",
      "> SA ENDS....... \n",
      "\n",
      "> avg loss: 23.025851059642967\n",
      "> For the *460_th* data_key\n",
      "> retail = 59.95,bidincrement = 0.15, bidfee = 0.75, infer PT's parameters\n",
      "> Now do SA....... \n",
      "\n"
     ]
    },
    {
     "name": "stderr",
     "output_type": "stream",
     "text": [
      " 36%|███▌      | 461/1276 [2:13:48<7:58:22, 35.22s/it] "
     ]
    },
    {
     "name": "stdout",
     "output_type": "stream",
     "text": [
      "STOP CODE:  Stay unchanged in the last 6 iterations\n",
      "> SA ENDS....... \n",
      "\n",
      "> avg loss: 2.732079550681213\n",
      "> For the *461_th* data_key\n",
      "> retail = 905.24,bidincrement = 0.01, bidfee = 0.75, infer PT's parameters\n",
      "> Now do SA....... \n",
      "\n"
     ]
    },
    {
     "name": "stderr",
     "output_type": "stream",
     "text": [
      " 36%|███▌      | 462/1276 [2:15:50<13:50:31, 61.22s/it]"
     ]
    },
    {
     "name": "stdout",
     "output_type": "stream",
     "text": [
      "> 超时\n",
      "> SA ENDS....... \n",
      "\n",
      "> avg loss: 23.02585097480918\n",
      "> For the *462_th* data_key\n",
      "> retail = 469.0,bidincrement = 0.15, bidfee = 0.75, infer PT's parameters\n",
      "> Now do SA....... \n",
      "\n"
     ]
    },
    {
     "name": "stderr",
     "output_type": "stream",
     "text": [
      " 36%|███▋      | 463/1276 [2:16:11<11:06:18, 49.17s/it]"
     ]
    },
    {
     "name": "stdout",
     "output_type": "stream",
     "text": [
      "STOP CODE:  Stay unchanged in the last 6 iterations\n",
      "> SA ENDS....... \n",
      "\n",
      "> avg loss: 2.599450590725273\n",
      "> For the *463_th* data_key\n",
      "> retail = 49.99,bidincrement = 0.15, bidfee = 0.75, infer PT's parameters\n",
      "> Now do SA....... \n",
      "\n"
     ]
    },
    {
     "name": "stderr",
     "output_type": "stream",
     "text": [
      " 36%|███▋      | 464/1276 [2:16:14<7:59:20, 35.42s/it] "
     ]
    },
    {
     "name": "stdout",
     "output_type": "stream",
     "text": [
      "STOP CODE:  Stay unchanged in the last 6 iterations\n",
      "> SA ENDS....... \n",
      "\n",
      "> avg loss: 2.6485719877227765\n",
      "> For the *464_th* data_key\n",
      "> retail = 149.99,bidincrement = 0.15, bidfee = 0.75, infer PT's parameters\n",
      "> Now do SA....... \n",
      "\n"
     ]
    },
    {
     "name": "stderr",
     "output_type": "stream",
     "text": [
      " 36%|███▋      | 465/1276 [2:16:22<6:04:34, 26.97s/it]"
     ]
    },
    {
     "name": "stdout",
     "output_type": "stream",
     "text": [
      "STOP CODE:  Stay unchanged in the last 6 iterations\n",
      "> SA ENDS....... \n",
      "\n",
      "> avg loss: 3.529965214002586\n",
      "> For the *465_th* data_key\n",
      "> retail = 279.95,bidincrement = 0.15, bidfee = 0.75, infer PT's parameters\n",
      "> Now do SA....... \n",
      "\n"
     ]
    },
    {
     "name": "stderr",
     "output_type": "stream",
     "text": [
      " 37%|███▋      | 466/1276 [2:16:26<4:31:37, 20.12s/it]"
     ]
    },
    {
     "name": "stdout",
     "output_type": "stream",
     "text": [
      "STOP CODE:  Stay unchanged in the last 6 iterations\n",
      "> SA ENDS....... \n",
      "\n",
      "> avg loss: 23.02585084847262\n",
      "> For the *466_th* data_key\n",
      "> retail = 85.0,bidincrement = 0.15, bidfee = 0.75, infer PT's parameters\n",
      "> Now do SA....... \n",
      "\n"
     ]
    },
    {
     "name": "stderr",
     "output_type": "stream",
     "text": [
      " 37%|███▋      | 467/1276 [2:16:29<3:24:37, 15.18s/it]"
     ]
    },
    {
     "name": "stdout",
     "output_type": "stream",
     "text": [
      "STOP CODE:  Stay unchanged in the last 6 iterations\n",
      "> SA ENDS....... \n",
      "\n",
      "> avg loss: 4.100985611514637\n",
      "> For the *467_th* data_key\n",
      "> retail = 62.0,bidincrement = 0.15, bidfee = 0.75, infer PT's parameters\n",
      "> Now do SA....... \n",
      "\n"
     ]
    },
    {
     "name": "stderr",
     "output_type": "stream",
     "text": [
      " 37%|███▋      | 468/1276 [2:16:32<2:31:47, 11.27s/it]"
     ]
    },
    {
     "name": "stdout",
     "output_type": "stream",
     "text": [
      "STOP CODE:  Stay unchanged in the last 6 iterations\n",
      "> SA ENDS....... \n",
      "\n",
      "> avg loss: 3.6834213892672323\n",
      "> For the *468_th* data_key\n",
      "> retail = 48.0,bidincrement = 0.15, bidfee = 0.75, infer PT's parameters\n",
      "> Now do SA....... \n",
      "\n"
     ]
    },
    {
     "name": "stderr",
     "output_type": "stream",
     "text": [
      " 37%|███▋      | 469/1276 [2:16:34<1:55:14,  8.57s/it]"
     ]
    },
    {
     "name": "stdout",
     "output_type": "stream",
     "text": [
      "STOP CODE:  Stay unchanged in the last 6 iterations\n",
      "> SA ENDS....... \n",
      "\n",
      "> avg loss: 3.3776518313148016\n",
      "> For the *469_th* data_key\n",
      "> retail = 59.99,bidincrement = 0.15, bidfee = 0.75, infer PT's parameters\n",
      "> Now do SA....... \n",
      "\n"
     ]
    },
    {
     "name": "stderr",
     "output_type": "stream",
     "text": [
      " 37%|███▋      | 470/1276 [2:16:37<1:31:43,  6.83s/it]"
     ]
    },
    {
     "name": "stdout",
     "output_type": "stream",
     "text": [
      "STOP CODE:  Stay unchanged in the last 6 iterations\n",
      "> SA ENDS....... \n",
      "\n",
      "> avg loss: 2.620062758535157\n",
      "> For the *470_th* data_key\n",
      "> retail = 59.99,bidincrement = 0.15, bidfee = 0.75, infer PT's parameters\n",
      "> Now do SA....... \n",
      "\n"
     ]
    },
    {
     "name": "stderr",
     "output_type": "stream",
     "text": [
      " 37%|███▋      | 471/1276 [2:16:43<1:30:30,  6.75s/it]"
     ]
    },
    {
     "name": "stdout",
     "output_type": "stream",
     "text": [
      "STOP CODE:  Stay unchanged in the last 6 iterations\n",
      "> SA ENDS....... \n",
      "\n",
      "> avg loss: 2.642148274385364\n",
      "> For the *471_th* data_key\n",
      "> retail = 59.99,bidincrement = 0.15, bidfee = 0.75, infer PT's parameters\n",
      "> Now do SA....... \n",
      "\n"
     ]
    },
    {
     "name": "stderr",
     "output_type": "stream",
     "text": [
      " 37%|███▋      | 472/1276 [2:16:47<1:19:25,  5.93s/it]"
     ]
    },
    {
     "name": "stdout",
     "output_type": "stream",
     "text": [
      "STOP CODE:  Stay unchanged in the last 6 iterations\n",
      "> SA ENDS....... \n",
      "\n",
      "> avg loss: 2.299299136865757\n",
      "> For the *472_th* data_key\n",
      "> retail = 19.99,bidincrement = 0.15, bidfee = 0.75, infer PT's parameters\n",
      "> Now do SA....... \n",
      "\n"
     ]
    },
    {
     "name": "stderr",
     "output_type": "stream",
     "text": [
      " 37%|███▋      | 473/1276 [2:16:50<1:07:08,  5.02s/it]"
     ]
    },
    {
     "name": "stdout",
     "output_type": "stream",
     "text": [
      "STOP CODE:  Stay unchanged in the last 6 iterations\n",
      "> SA ENDS....... \n",
      "\n",
      "> avg loss: 2.0603370486911303\n",
      "> For the *473_th* data_key\n",
      "> retail = 299.98,bidincrement = 0.15, bidfee = 0.75, infer PT's parameters\n",
      "> Now do SA....... \n",
      "\n"
     ]
    },
    {
     "name": "stderr",
     "output_type": "stream",
     "text": [
      " 37%|███▋      | 474/1276 [2:16:55<1:04:30,  4.83s/it]"
     ]
    },
    {
     "name": "stdout",
     "output_type": "stream",
     "text": [
      "STOP CODE:  Stay unchanged in the last 6 iterations\n",
      "> SA ENDS....... \n",
      "\n",
      "> avg loss: 23.025850848864593\n",
      "> For the *474_th* data_key\n",
      "> retail = 429.99,bidincrement = 0.15, bidfee = 0.75, infer PT's parameters\n",
      "> Now do SA....... \n",
      "\n"
     ]
    },
    {
     "name": "stderr",
     "output_type": "stream",
     "text": [
      " 37%|███▋      | 475/1276 [2:17:00<1:07:41,  5.07s/it]"
     ]
    },
    {
     "name": "stdout",
     "output_type": "stream",
     "text": [
      "STOP CODE:  Stay unchanged in the last 6 iterations\n",
      "> SA ENDS....... \n",
      "\n",
      "> avg loss: 23.02585084764568\n",
      "> For the *475_th* data_key\n",
      "> retail = 549.99,bidincrement = 0.15, bidfee = 0.75, infer PT's parameters\n",
      "> Now do SA....... \n",
      "\n"
     ]
    },
    {
     "name": "stderr",
     "output_type": "stream",
     "text": [
      " 37%|███▋      | 476/1276 [2:17:08<1:17:28,  5.81s/it]"
     ]
    },
    {
     "name": "stdout",
     "output_type": "stream",
     "text": [
      "STOP CODE:  Stay unchanged in the last 6 iterations\n",
      "> SA ENDS....... \n",
      "\n",
      "> avg loss: 23.02585084776704\n",
      "> For the *476_th* data_key\n",
      "> retail = 39.99,bidincrement = 0.15, bidfee = 0.75, infer PT's parameters\n",
      "> Now do SA....... \n",
      "\n"
     ]
    },
    {
     "name": "stderr",
     "output_type": "stream",
     "text": [
      " 37%|███▋      | 477/1276 [2:17:10<1:01:27,  4.62s/it]"
     ]
    },
    {
     "name": "stdout",
     "output_type": "stream",
     "text": [
      "STOP CODE:  Stay unchanged in the last 6 iterations\n",
      "> SA ENDS....... \n",
      "\n",
      "> avg loss: 2.902072705620605\n",
      "> For the *477_th* data_key\n",
      "> retail = 1199.99,bidincrement = 0.01, bidfee = 0.75, infer PT's parameters\n",
      "> Now do SA....... \n",
      "\n"
     ]
    },
    {
     "name": "stderr",
     "output_type": "stream",
     "text": [
      " 37%|███▋      | 478/1276 [2:19:12<8:51:55, 39.99s/it]"
     ]
    },
    {
     "name": "stdout",
     "output_type": "stream",
     "text": [
      "> 超时\n",
      "> SA ENDS....... \n",
      "\n",
      "> avg loss: 23.02585100236809\n",
      "> For the *478_th* data_key\n",
      "> retail = 54.0,bidincrement = 0.15, bidfee = 0.75, infer PT's parameters\n",
      "> Now do SA....... \n",
      "\n"
     ]
    },
    {
     "name": "stderr",
     "output_type": "stream",
     "text": [
      " 38%|███▊      | 479/1276 [2:19:15<6:22:47, 28.82s/it]"
     ]
    },
    {
     "name": "stdout",
     "output_type": "stream",
     "text": [
      "STOP CODE:  Stay unchanged in the last 6 iterations\n",
      "> SA ENDS....... \n",
      "\n",
      "> avg loss: 3.077483525875675\n",
      "> For the *479_th* data_key\n",
      "> retail = 189.99,bidincrement = 0.15, bidfee = 0.75, infer PT's parameters\n",
      "> Now do SA....... \n",
      "\n"
     ]
    },
    {
     "name": "stderr",
     "output_type": "stream",
     "text": [
      " 38%|███▊      | 480/1276 [2:19:24<5:03:41, 22.89s/it]"
     ]
    },
    {
     "name": "stdout",
     "output_type": "stream",
     "text": [
      "STOP CODE:  Stay unchanged in the last 6 iterations\n",
      "> SA ENDS....... \n",
      "\n",
      "> avg loss: 3.5244184772077567\n",
      "> For the *480_th* data_key\n",
      "> retail = 129.99,bidincrement = 0.15, bidfee = 0.75, infer PT's parameters\n",
      "> Now do SA....... \n",
      "\n"
     ]
    },
    {
     "name": "stderr",
     "output_type": "stream",
     "text": [
      " 38%|███▊      | 481/1276 [2:19:30<3:57:48, 17.95s/it]"
     ]
    },
    {
     "name": "stdout",
     "output_type": "stream",
     "text": [
      "STOP CODE:  Stay unchanged in the last 6 iterations\n",
      "> SA ENDS....... \n",
      "\n",
      "> avg loss: 3.435146190986656\n",
      "> For the *481_th* data_key\n",
      "> retail = 34.99,bidincrement = 0.15, bidfee = 0.75, infer PT's parameters\n",
      "> Now do SA....... \n",
      "\n"
     ]
    },
    {
     "name": "stderr",
     "output_type": "stream",
     "text": [
      " 38%|███▊      | 482/1276 [2:19:34<3:02:03, 13.76s/it]"
     ]
    },
    {
     "name": "stdout",
     "output_type": "stream",
     "text": [
      "STOP CODE:  Stay unchanged in the last 6 iterations\n",
      "> SA ENDS....... \n",
      "\n",
      "> avg loss: 3.0233109100880258\n",
      "> For the *482_th* data_key\n",
      "> retail = 169.99,bidincrement = 0.15, bidfee = 0.75, infer PT's parameters\n",
      "> Now do SA....... \n",
      "\n"
     ]
    },
    {
     "name": "stderr",
     "output_type": "stream",
     "text": [
      " 38%|███▊      | 483/1276 [2:19:39<2:26:28, 11.08s/it]"
     ]
    },
    {
     "name": "stdout",
     "output_type": "stream",
     "text": [
      "STOP CODE:  Stay unchanged in the last 6 iterations\n",
      "> SA ENDS....... \n",
      "\n",
      "> avg loss: 2.952996338895226\n",
      "> For the *483_th* data_key\n",
      "> retail = 40.55,bidincrement = 0.15, bidfee = 0.75, infer PT's parameters\n",
      "> Now do SA....... \n",
      "\n"
     ]
    },
    {
     "name": "stderr",
     "output_type": "stream",
     "text": [
      " 38%|███▊      | 484/1276 [2:19:42<1:54:34,  8.68s/it]"
     ]
    },
    {
     "name": "stdout",
     "output_type": "stream",
     "text": [
      "STOP CODE:  Stay unchanged in the last 6 iterations\n",
      "> SA ENDS....... \n",
      "\n",
      "> avg loss: 2.2656038841032533\n",
      "> For the *484_th* data_key\n",
      "> retail = 249.99,bidincrement = 0.15, bidfee = 0.75, infer PT's parameters\n",
      "> Now do SA....... \n",
      "\n"
     ]
    },
    {
     "name": "stderr",
     "output_type": "stream",
     "text": [
      " 38%|███▊      | 485/1276 [2:19:46<1:33:39,  7.10s/it]"
     ]
    },
    {
     "name": "stdout",
     "output_type": "stream",
     "text": [
      "STOP CODE:  Stay unchanged in the last 6 iterations\n",
      "> SA ENDS....... \n",
      "\n",
      "> avg loss: 23.025850847525817\n",
      "> For the *485_th* data_key\n",
      "> retail = 59.99,bidincrement = 0.15, bidfee = 0.75, infer PT's parameters\n",
      "> Now do SA....... \n",
      "\n"
     ]
    },
    {
     "name": "stderr",
     "output_type": "stream",
     "text": [
      " 38%|███▊      | 486/1276 [2:19:48<1:14:03,  5.63s/it]"
     ]
    },
    {
     "name": "stdout",
     "output_type": "stream",
     "text": [
      "STOP CODE:  Stay unchanged in the last 6 iterations\n",
      "> SA ENDS....... \n",
      "\n",
      "> avg loss: 3.4120828653288586\n",
      "> For the *486_th* data_key\n",
      "> retail = 399.0,bidincrement = 0.15, bidfee = 0.75, infer PT's parameters\n",
      "> Now do SA....... \n",
      "\n"
     ]
    },
    {
     "name": "stderr",
     "output_type": "stream",
     "text": [
      " 38%|███▊      | 487/1276 [2:19:53<1:13:06,  5.56s/it]"
     ]
    },
    {
     "name": "stdout",
     "output_type": "stream",
     "text": [
      "STOP CODE:  Stay unchanged in the last 6 iterations\n",
      "> SA ENDS....... \n",
      "\n",
      "> avg loss: 23.02585084794178\n",
      "> For the *487_th* data_key\n",
      "> retail = 351.03,bidincrement = 0.15, bidfee = 0.75, infer PT's parameters\n",
      "> Now do SA....... \n",
      "\n"
     ]
    },
    {
     "name": "stderr",
     "output_type": "stream",
     "text": [
      " 38%|███▊      | 488/1276 [2:20:11<2:02:04,  9.30s/it]"
     ]
    },
    {
     "name": "stdout",
     "output_type": "stream",
     "text": [
      "STOP CODE:  Stay unchanged in the last 6 iterations\n",
      "> SA ENDS....... \n",
      "\n",
      "> avg loss: 3.790685196954328\n",
      "> For the *488_th* data_key\n",
      "> retail = 275.48,bidincrement = 0.15, bidfee = 0.75, infer PT's parameters\n",
      "> Now do SA....... \n",
      "\n"
     ]
    },
    {
     "name": "stderr",
     "output_type": "stream",
     "text": [
      " 38%|███▊      | 489/1276 [2:20:23<2:12:42, 10.12s/it]"
     ]
    },
    {
     "name": "stdout",
     "output_type": "stream",
     "text": [
      "STOP CODE:  Stay unchanged in the last 6 iterations\n",
      "> SA ENDS....... \n",
      "\n",
      "> avg loss: 5.229680309923643\n",
      "> For the *489_th* data_key\n",
      "> retail = 1035.55,bidincrement = 0.01, bidfee = 0.75, infer PT's parameters\n",
      "> Now do SA....... \n",
      "\n"
     ]
    },
    {
     "name": "stderr",
     "output_type": "stream",
     "text": [
      " 38%|███▊      | 490/1276 [2:22:25<9:32:54, 43.73s/it]"
     ]
    },
    {
     "name": "stdout",
     "output_type": "stream",
     "text": [
      "> 超时\n",
      "> SA ENDS....... \n",
      "\n",
      "> avg loss: 23.0258509943908\n",
      "> For the *490_th* data_key\n",
      "> retail = 59.99,bidincrement = 0.15, bidfee = 0.75, infer PT's parameters\n",
      "> Now do SA....... \n",
      "\n"
     ]
    },
    {
     "name": "stderr",
     "output_type": "stream",
     "text": [
      " 38%|███▊      | 491/1276 [2:22:30<6:58:29, 31.99s/it]"
     ]
    },
    {
     "name": "stdout",
     "output_type": "stream",
     "text": [
      "STOP CODE:  Stay unchanged in the last 6 iterations\n",
      "> SA ENDS....... \n",
      "\n",
      "> avg loss: 2.345524649056797\n",
      "> For the *491_th* data_key\n",
      "> retail = 179.9,bidincrement = 0.15, bidfee = 0.75, infer PT's parameters\n",
      "> Now do SA....... \n",
      "\n"
     ]
    },
    {
     "name": "stderr",
     "output_type": "stream",
     "text": [
      " 39%|███▊      | 492/1276 [2:22:46<5:53:39, 27.07s/it]"
     ]
    },
    {
     "name": "stdout",
     "output_type": "stream",
     "text": [
      "STOP CODE:  Stay unchanged in the last 6 iterations\n",
      "> SA ENDS....... \n",
      "\n",
      "> avg loss: 2.825633868053092\n",
      "> For the *492_th* data_key\n",
      "> retail = 209.99,bidincrement = 0.15, bidfee = 0.75, infer PT's parameters\n",
      "> Now do SA....... \n",
      "\n"
     ]
    },
    {
     "name": "stderr",
     "output_type": "stream",
     "text": [
      " 39%|███▊      | 493/1276 [2:22:54<4:39:37, 21.43s/it]"
     ]
    },
    {
     "name": "stdout",
     "output_type": "stream",
     "text": [
      "STOP CODE:  Stay unchanged in the last 6 iterations\n",
      "> SA ENDS....... \n",
      "\n",
      "> avg loss: 2.94166025196604\n",
      "> For the *493_th* data_key\n",
      "> retail = 399.99,bidincrement = 0.15, bidfee = 0.75, infer PT's parameters\n",
      "> Now do SA....... \n",
      "\n"
     ]
    },
    {
     "name": "stderr",
     "output_type": "stream",
     "text": [
      " 39%|███▊      | 494/1276 [2:23:06<4:02:38, 18.62s/it]"
     ]
    },
    {
     "name": "stdout",
     "output_type": "stream",
     "text": [
      "STOP CODE:  Stay unchanged in the last 6 iterations\n",
      "> SA ENDS....... \n",
      "\n",
      "> avg loss: 3.751760912806895\n",
      "> For the *494_th* data_key\n",
      "> retail = 1150.0,bidincrement = 0.01, bidfee = 0.75, infer PT's parameters\n",
      "> Now do SA....... \n",
      "\n"
     ]
    },
    {
     "name": "stderr",
     "output_type": "stream",
     "text": [
      " 39%|███▉      | 495/1276 [2:25:08<10:47:51, 49.77s/it]"
     ]
    },
    {
     "name": "stdout",
     "output_type": "stream",
     "text": [
      "> 超时\n",
      "> SA ENDS....... \n",
      "\n",
      "> avg loss: 23.025850992667213\n",
      "> For the *495_th* data_key\n",
      "> retail = 349.0,bidincrement = 0.15, bidfee = 0.75, infer PT's parameters\n",
      "> Now do SA....... \n",
      "\n"
     ]
    },
    {
     "name": "stderr",
     "output_type": "stream",
     "text": [
      " 39%|███▉      | 496/1276 [2:25:24<8:35:44, 39.67s/it] "
     ]
    },
    {
     "name": "stdout",
     "output_type": "stream",
     "text": [
      "STOP CODE:  Stay unchanged in the last 6 iterations\n",
      "> SA ENDS....... \n",
      "\n",
      "> avg loss: 2.279237949397435\n",
      "> For the *496_th* data_key\n",
      "> retail = 2101.0,bidincrement = 0.01, bidfee = 0.75, infer PT's parameters\n",
      "> Now do SA....... \n",
      "\n"
     ]
    },
    {
     "name": "stderr",
     "output_type": "stream",
     "text": [
      " 39%|███▉      | 497/1276 [2:27:29<14:04:19, 65.03s/it]"
     ]
    },
    {
     "name": "stdout",
     "output_type": "stream",
     "text": [
      "> 超时\n",
      "> SA ENDS....... \n",
      "\n",
      "> avg loss: 23.025851154724112\n",
      "> For the *497_th* data_key\n",
      "> retail = 149.99,bidincrement = 0.15, bidfee = 0.75, infer PT's parameters\n",
      "> Now do SA....... \n",
      "\n"
     ]
    },
    {
     "name": "stderr",
     "output_type": "stream",
     "text": [
      " 39%|███▉      | 498/1276 [2:27:35<10:15:12, 47.44s/it]"
     ]
    },
    {
     "name": "stdout",
     "output_type": "stream",
     "text": [
      "STOP CODE:  Stay unchanged in the last 6 iterations\n",
      "> SA ENDS....... \n",
      "\n",
      "> avg loss: 4.403226159707417\n",
      "> For the *498_th* data_key\n",
      "> retail = 88.99,bidincrement = 0.15, bidfee = 0.75, infer PT's parameters\n",
      "> Now do SA....... \n",
      "\n"
     ]
    },
    {
     "name": "stderr",
     "output_type": "stream",
     "text": [
      " 39%|███▉      | 499/1276 [2:27:39<7:23:47, 34.27s/it] "
     ]
    },
    {
     "name": "stdout",
     "output_type": "stream",
     "text": [
      "STOP CODE:  Stay unchanged in the last 6 iterations\n",
      "> SA ENDS....... \n",
      "\n",
      "> avg loss: 3.5432592507909386\n",
      "> For the *499_th* data_key\n",
      "> retail = 1199.99,bidincrement = 0.15, bidfee = 0.75, infer PT's parameters\n",
      "> Now do SA....... \n",
      "\n"
     ]
    },
    {
     "name": "stderr",
     "output_type": "stream",
     "text": [
      " 39%|███▉      | 500/1276 [2:27:56<6:18:52, 29.29s/it]"
     ]
    },
    {
     "name": "stdout",
     "output_type": "stream",
     "text": [
      "STOP CODE:  Stay unchanged in the last 6 iterations\n",
      "> SA ENDS....... \n",
      "\n",
      "> avg loss: 23.025850993734565\n",
      "> For the *500_th* data_key\n",
      "> retail = 899.0,bidincrement = 0.15, bidfee = 0.75, infer PT's parameters\n",
      "> Now do SA....... \n",
      "\n"
     ]
    },
    {
     "name": "stderr",
     "output_type": "stream",
     "text": [
      " 39%|███▉      | 501/1276 [2:28:36<6:56:56, 32.28s/it]"
     ]
    },
    {
     "name": "stdout",
     "output_type": "stream",
     "text": [
      "STOP CODE:  Stay unchanged in the last 6 iterations\n",
      "> SA ENDS....... \n",
      "\n",
      "> avg loss: 7.9229757996045755\n",
      "> For the *501_th* data_key\n",
      "> retail = 124.99,bidincrement = 0.15, bidfee = 0.75, infer PT's parameters\n",
      "> Now do SA....... \n",
      "\n"
     ]
    },
    {
     "name": "stderr",
     "output_type": "stream",
     "text": [
      " 39%|███▉      | 502/1276 [2:28:41<5:11:22, 24.14s/it]"
     ]
    },
    {
     "name": "stdout",
     "output_type": "stream",
     "text": [
      "STOP CODE:  Stay unchanged in the last 6 iterations\n",
      "> SA ENDS....... \n",
      "\n",
      "> avg loss: 4.1310367695689205\n",
      "> For the *502_th* data_key\n",
      "> retail = 229.99,bidincrement = 0.15, bidfee = 0.75, infer PT's parameters\n",
      "> Now do SA....... \n",
      "\n"
     ]
    },
    {
     "name": "stderr",
     "output_type": "stream",
     "text": [
      " 39%|███▉      | 503/1276 [2:28:44<3:50:24, 17.88s/it]"
     ]
    },
    {
     "name": "stdout",
     "output_type": "stream",
     "text": [
      "STOP CODE:  Stay unchanged in the last 6 iterations\n",
      "> SA ENDS....... \n",
      "\n",
      "> avg loss: 23.02585084787665\n",
      "> For the *503_th* data_key\n",
      "> retail = 30.0,bidincrement = 0.15, bidfee = 0.75, infer PT's parameters\n",
      "> Now do SA....... \n",
      "\n"
     ]
    },
    {
     "name": "stderr",
     "output_type": "stream",
     "text": [
      " 39%|███▉      | 504/1276 [2:28:46<2:47:53, 13.05s/it]"
     ]
    },
    {
     "name": "stdout",
     "output_type": "stream",
     "text": [
      "STOP CODE:  Stay unchanged in the last 6 iterations\n",
      "> SA ENDS....... \n",
      "\n",
      "> avg loss: 2.965319064425401\n",
      "> For the *504_th* data_key\n",
      "> retail = 899.99,bidincrement = 0.01, bidfee = 0.75, infer PT's parameters\n",
      "> Now do SA....... \n",
      "\n"
     ]
    },
    {
     "name": "stderr",
     "output_type": "stream",
     "text": [
      " 40%|███▉      | 505/1276 [2:30:47<9:46:34, 45.65s/it]"
     ]
    },
    {
     "name": "stdout",
     "output_type": "stream",
     "text": [
      "> 超时\n",
      "> SA ENDS....... \n",
      "\n",
      "> avg loss: 23.025850977759784\n",
      "> For the *505_th* data_key\n",
      "> retail = 179.99,bidincrement = 0.15, bidfee = 0.75, infer PT's parameters\n",
      "> Now do SA....... \n",
      "\n"
     ]
    },
    {
     "name": "stderr",
     "output_type": "stream",
     "text": [
      " 40%|███▉      | 506/1276 [2:30:56<7:22:53, 34.51s/it]"
     ]
    },
    {
     "name": "stdout",
     "output_type": "stream",
     "text": [
      "STOP CODE:  Stay unchanged in the last 6 iterations\n",
      "> SA ENDS....... \n",
      "\n",
      "> avg loss: 2.6974687884446906\n",
      "> For the *506_th* data_key\n",
      "> retail = 55.0,bidincrement = 0.15, bidfee = 0.75, infer PT's parameters\n",
      "> Now do SA....... \n",
      "\n"
     ]
    },
    {
     "name": "stderr",
     "output_type": "stream",
     "text": [
      " 40%|███▉      | 507/1276 [2:31:00<5:25:07, 25.37s/it]"
     ]
    },
    {
     "name": "stdout",
     "output_type": "stream",
     "text": [
      "STOP CODE:  Stay unchanged in the last 6 iterations\n",
      "> SA ENDS....... \n",
      "\n",
      "> avg loss: 2.95704850322339\n",
      "> For the *507_th* data_key\n",
      "> retail = 139.95,bidincrement = 0.15, bidfee = 0.75, infer PT's parameters\n",
      "> Now do SA....... \n",
      "\n"
     ]
    },
    {
     "name": "stderr",
     "output_type": "stream",
     "text": [
      " 40%|███▉      | 508/1276 [2:31:12<4:31:35, 21.22s/it]"
     ]
    },
    {
     "name": "stdout",
     "output_type": "stream",
     "text": [
      "STOP CODE:  Stay unchanged in the last 6 iterations\n",
      "> SA ENDS....... \n",
      "\n",
      "> avg loss: 2.6768755102167447\n",
      "> For the *508_th* data_key\n",
      "> retail = 269.99,bidincrement = 0.15, bidfee = 0.75, infer PT's parameters\n",
      "> Now do SA....... \n",
      "\n"
     ]
    },
    {
     "name": "stderr",
     "output_type": "stream",
     "text": [
      " 40%|███▉      | 509/1276 [2:31:16<3:25:54, 16.11s/it]"
     ]
    },
    {
     "name": "stdout",
     "output_type": "stream",
     "text": [
      "STOP CODE:  Stay unchanged in the last 6 iterations\n",
      "> SA ENDS....... \n",
      "\n",
      "> avg loss: 23.02585084808048\n",
      "> For the *509_th* data_key\n",
      "> retail = 178.6,bidincrement = 0.15, bidfee = 0.75, infer PT's parameters\n",
      "> Now do SA....... \n",
      "\n"
     ]
    },
    {
     "name": "stderr",
     "output_type": "stream",
     "text": [
      " 40%|███▉      | 510/1276 [2:31:19<2:38:18, 12.40s/it]"
     ]
    },
    {
     "name": "stdout",
     "output_type": "stream",
     "text": [
      "STOP CODE:  Stay unchanged in the last 6 iterations\n",
      "> SA ENDS....... \n",
      "\n",
      "> avg loss: 2.845231059302536\n",
      "> For the *510_th* data_key\n",
      "> retail = 29.99,bidincrement = 0.15, bidfee = 0.75, infer PT's parameters\n",
      "> Now do SA....... \n",
      "\n"
     ]
    },
    {
     "name": "stderr",
     "output_type": "stream",
     "text": [
      " 40%|████      | 511/1276 [2:31:22<1:58:31,  9.30s/it]"
     ]
    },
    {
     "name": "stdout",
     "output_type": "stream",
     "text": [
      "STOP CODE:  Stay unchanged in the last 6 iterations\n",
      "> SA ENDS....... \n",
      "\n",
      "> avg loss: 1.991422175927039\n",
      "> For the *511_th* data_key\n",
      "> retail = 19.99,bidincrement = 0.15, bidfee = 0.75, infer PT's parameters\n",
      "> Now do SA....... \n",
      "\n"
     ]
    },
    {
     "name": "stderr",
     "output_type": "stream",
     "text": [
      " 40%|████      | 512/1276 [2:31:23<1:29:32,  7.03s/it]"
     ]
    },
    {
     "name": "stdout",
     "output_type": "stream",
     "text": [
      "STOP CODE:  Stay unchanged in the last 6 iterations\n",
      "> SA ENDS....... \n",
      "\n",
      "> avg loss: 2.747974361804391\n",
      "> For the *512_th* data_key\n",
      "> retail = 699.99,bidincrement = 0.01, bidfee = 0.75, infer PT's parameters\n",
      "> Now do SA....... \n",
      "\n"
     ]
    },
    {
     "name": "stderr",
     "output_type": "stream",
     "text": [
      " 40%|████      | 513/1276 [2:33:25<8:45:19, 41.31s/it]"
     ]
    },
    {
     "name": "stdout",
     "output_type": "stream",
     "text": [
      "> 超时\n",
      "> SA ENDS....... \n",
      "\n",
      "> avg loss: 23.025850944899233\n",
      "> For the *513_th* data_key\n",
      "> retail = 125.0,bidincrement = 0.15, bidfee = 0.75, infer PT's parameters\n",
      "> Now do SA....... \n",
      "\n"
     ]
    },
    {
     "name": "stderr",
     "output_type": "stream",
     "text": [
      " 40%|████      | 514/1276 [2:33:27<6:17:32, 29.73s/it]"
     ]
    },
    {
     "name": "stdout",
     "output_type": "stream",
     "text": [
      "STOP CODE:  Stay unchanged in the last 6 iterations\n",
      "> SA ENDS....... \n",
      "\n",
      "> avg loss: 3.4809580305807164\n",
      "> For the *514_th* data_key\n",
      "> retail = 99.99,bidincrement = 0.15, bidfee = 0.75, infer PT's parameters\n",
      "> Now do SA....... \n",
      "\n"
     ]
    },
    {
     "name": "stderr",
     "output_type": "stream",
     "text": [
      " 40%|████      | 515/1276 [2:33:32<4:43:01, 22.31s/it]"
     ]
    },
    {
     "name": "stdout",
     "output_type": "stream",
     "text": [
      "STOP CODE:  Stay unchanged in the last 6 iterations\n",
      "> SA ENDS....... \n",
      "\n",
      "> avg loss: 3.2420121158370816\n",
      "> For the *515_th* data_key\n",
      "> retail = 149.99,bidincrement = 0.15, bidfee = 0.75, infer PT's parameters\n",
      "> Now do SA....... \n",
      "\n"
     ]
    },
    {
     "name": "stderr",
     "output_type": "stream",
     "text": [
      " 40%|████      | 516/1276 [2:33:41<3:50:14, 18.18s/it]"
     ]
    },
    {
     "name": "stdout",
     "output_type": "stream",
     "text": [
      "STOP CODE:  Stay unchanged in the last 6 iterations\n",
      "> SA ENDS....... \n",
      "\n",
      "> avg loss: 3.693637123042535\n",
      "> For the *516_th* data_key\n",
      "> retail = 937.36,bidincrement = 0.15, bidfee = 0.75, infer PT's parameters\n",
      "> Now do SA....... \n",
      "\n"
     ]
    },
    {
     "name": "stderr",
     "output_type": "stream",
     "text": [
      " 41%|████      | 517/1276 [2:34:21<5:11:31, 24.63s/it]"
     ]
    },
    {
     "name": "stdout",
     "output_type": "stream",
     "text": [
      "STOP CODE:  Stay unchanged in the last 6 iterations\n",
      "> SA ENDS....... \n",
      "\n",
      "> avg loss: 7.9957167663302195\n",
      "> For the *517_th* data_key\n",
      "> retail = 899.99,bidincrement = 0.01, bidfee = 0.75, infer PT's parameters\n",
      "> Now do SA....... \n",
      "\n"
     ]
    },
    {
     "name": "stderr",
     "output_type": "stream",
     "text": [
      " 41%|████      | 518/1276 [2:36:22<11:19:19, 53.77s/it]"
     ]
    },
    {
     "name": "stdout",
     "output_type": "stream",
     "text": [
      "> 超时\n",
      "> SA ENDS....... \n",
      "\n",
      "> avg loss: 23.025850966445162\n",
      "> For the *518_th* data_key\n",
      "> retail = 29.99,bidincrement = 0.15, bidfee = 0.75, infer PT's parameters\n",
      "> Now do SA....... \n",
      "\n"
     ]
    },
    {
     "name": "stderr",
     "output_type": "stream",
     "text": [
      " 41%|████      | 519/1276 [2:36:24<8:02:50, 38.27s/it] "
     ]
    },
    {
     "name": "stdout",
     "output_type": "stream",
     "text": [
      "STOP CODE:  Stay unchanged in the last 6 iterations\n",
      "> SA ENDS....... \n",
      "\n",
      "> avg loss: 2.5591457630626926\n",
      "> For the *519_th* data_key\n",
      "> retail = 35.99,bidincrement = 0.15, bidfee = 0.75, infer PT's parameters\n",
      "> Now do SA....... \n",
      "\n"
     ]
    },
    {
     "name": "stderr",
     "output_type": "stream",
     "text": [
      " 41%|████      | 520/1276 [2:36:27<5:49:16, 27.72s/it]"
     ]
    },
    {
     "name": "stdout",
     "output_type": "stream",
     "text": [
      "STOP CODE:  Stay unchanged in the last 6 iterations\n",
      "> SA ENDS....... \n",
      "\n",
      "> avg loss: 2.813505720508491\n",
      "> For the *520_th* data_key\n",
      "> retail = 69.99,bidincrement = 0.15, bidfee = 0.75, infer PT's parameters\n",
      "> Now do SA....... \n",
      "\n"
     ]
    },
    {
     "name": "stderr",
     "output_type": "stream",
     "text": [
      " 41%|████      | 521/1276 [2:36:33<4:23:08, 20.91s/it]"
     ]
    },
    {
     "name": "stdout",
     "output_type": "stream",
     "text": [
      "STOP CODE:  Stay unchanged in the last 6 iterations\n",
      "> SA ENDS....... \n",
      "\n",
      "> avg loss: 2.2465379161055377\n",
      "> For the *521_th* data_key\n",
      "> retail = 59.99,bidincrement = 0.15, bidfee = 0.75, infer PT's parameters\n",
      "> Now do SA....... \n",
      "\n"
     ]
    },
    {
     "name": "stderr",
     "output_type": "stream",
     "text": [
      " 41%|████      | 522/1276 [2:36:35<3:14:20, 15.46s/it]"
     ]
    },
    {
     "name": "stdout",
     "output_type": "stream",
     "text": [
      "STOP CODE:  Stay unchanged in the last 6 iterations\n",
      "> SA ENDS....... \n",
      "\n",
      "> avg loss: 2.646090228751871\n",
      "> For the *522_th* data_key\n",
      "> retail = 59.99,bidincrement = 0.15, bidfee = 0.75, infer PT's parameters\n",
      "> Now do SA....... \n",
      "\n"
     ]
    },
    {
     "name": "stderr",
     "output_type": "stream",
     "text": [
      " 41%|████      | 523/1276 [2:36:39<2:29:06, 11.88s/it]"
     ]
    },
    {
     "name": "stdout",
     "output_type": "stream",
     "text": [
      "STOP CODE:  Stay unchanged in the last 6 iterations\n",
      "> SA ENDS....... \n",
      "\n",
      "> avg loss: 2.6314632688421824\n",
      "> For the *523_th* data_key\n",
      "> retail = 29.99,bidincrement = 0.15, bidfee = 0.75, infer PT's parameters\n",
      "> Now do SA....... \n",
      "\n"
     ]
    },
    {
     "name": "stderr",
     "output_type": "stream",
     "text": [
      " 41%|████      | 524/1276 [2:36:43<2:00:16,  9.60s/it]"
     ]
    },
    {
     "name": "stdout",
     "output_type": "stream",
     "text": [
      "STOP CODE:  Stay unchanged in the last 6 iterations\n",
      "> SA ENDS....... \n",
      "\n",
      "> avg loss: 2.1791590451526752\n",
      "> For the *524_th* data_key\n",
      "> retail = 39.99,bidincrement = 0.15, bidfee = 0.75, infer PT's parameters\n",
      "> Now do SA....... \n",
      "\n"
     ]
    },
    {
     "name": "stderr",
     "output_type": "stream",
     "text": [
      " 41%|████      | 525/1276 [2:36:46<1:36:37,  7.72s/it]"
     ]
    },
    {
     "name": "stdout",
     "output_type": "stream",
     "text": [
      "STOP CODE:  Stay unchanged in the last 6 iterations\n",
      "> SA ENDS....... \n",
      "\n",
      "> avg loss: 3.051845524169269\n",
      "> For the *525_th* data_key\n",
      "> retail = 39.99,bidincrement = 0.15, bidfee = 0.75, infer PT's parameters\n",
      "> Now do SA....... \n",
      "\n"
     ]
    },
    {
     "name": "stderr",
     "output_type": "stream",
     "text": [
      " 41%|████      | 526/1276 [2:36:49<1:17:22,  6.19s/it]"
     ]
    },
    {
     "name": "stdout",
     "output_type": "stream",
     "text": [
      "STOP CODE:  Stay unchanged in the last 6 iterations\n",
      "> SA ENDS....... \n",
      "\n",
      "> avg loss: 2.835306034140516\n",
      "> For the *526_th* data_key\n",
      "> retail = 59.99,bidincrement = 0.15, bidfee = 0.75, infer PT's parameters\n",
      "> Now do SA....... \n",
      "\n"
     ]
    },
    {
     "name": "stderr",
     "output_type": "stream",
     "text": [
      " 41%|████▏     | 527/1276 [2:36:53<1:07:23,  5.40s/it]"
     ]
    },
    {
     "name": "stdout",
     "output_type": "stream",
     "text": [
      "STOP CODE:  Stay unchanged in the last 6 iterations\n",
      "> SA ENDS....... \n",
      "\n",
      "> avg loss: 2.2188688152470344\n",
      "> For the *527_th* data_key\n",
      "> retail = 399.99,bidincrement = 0.15, bidfee = 0.75, infer PT's parameters\n",
      "> Now do SA....... \n",
      "\n"
     ]
    },
    {
     "name": "stderr",
     "output_type": "stream",
     "text": [
      " 41%|████▏     | 528/1276 [2:36:58<1:07:08,  5.39s/it]"
     ]
    },
    {
     "name": "stdout",
     "output_type": "stream",
     "text": [
      "STOP CODE:  Stay unchanged in the last 6 iterations\n",
      "> SA ENDS....... \n",
      "\n",
      "> avg loss: 23.025850847552906\n",
      "> For the *528_th* data_key\n",
      "> retail = 59.99,bidincrement = 0.15, bidfee = 0.75, infer PT's parameters\n",
      "> Now do SA....... \n",
      "\n"
     ]
    },
    {
     "name": "stderr",
     "output_type": "stream",
     "text": [
      " 41%|████▏     | 529/1276 [2:37:02<1:02:21,  5.01s/it]"
     ]
    },
    {
     "name": "stdout",
     "output_type": "stream",
     "text": [
      "STOP CODE:  Stay unchanged in the last 6 iterations\n",
      "> SA ENDS....... \n",
      "\n",
      "> avg loss: 2.570556408049598\n",
      "> For the *529_th* data_key\n",
      "> retail = 59.99,bidincrement = 0.15, bidfee = 0.75, infer PT's parameters\n",
      "> Now do SA....... \n",
      "\n"
     ]
    },
    {
     "name": "stderr",
     "output_type": "stream",
     "text": [
      " 42%|████▏     | 530/1276 [2:37:05<54:05,  4.35s/it]  "
     ]
    },
    {
     "name": "stdout",
     "output_type": "stream",
     "text": [
      "STOP CODE:  Stay unchanged in the last 6 iterations\n",
      "> SA ENDS....... \n",
      "\n",
      "> avg loss: 2.837078569469027\n",
      "> For the *530_th* data_key\n",
      "> retail = 349.99,bidincrement = 0.15, bidfee = 0.75, infer PT's parameters\n",
      "> Now do SA....... \n",
      "\n"
     ]
    },
    {
     "name": "stderr",
     "output_type": "stream",
     "text": [
      " 42%|████▏     | 531/1276 [2:37:10<57:39,  4.64s/it]"
     ]
    },
    {
     "name": "stdout",
     "output_type": "stream",
     "text": [
      "STOP CODE:  Stay unchanged in the last 6 iterations\n",
      "> SA ENDS....... \n",
      "\n",
      "> avg loss: 23.02585084783603\n",
      "> For the *531_th* data_key\n",
      "> retail = 24.99,bidincrement = 0.15, bidfee = 0.75, infer PT's parameters\n",
      "> Now do SA....... \n",
      "\n"
     ]
    },
    {
     "name": "stderr",
     "output_type": "stream",
     "text": [
      " 42%|████▏     | 532/1276 [2:37:12<47:32,  3.83s/it]"
     ]
    },
    {
     "name": "stdout",
     "output_type": "stream",
     "text": [
      "STOP CODE:  Stay unchanged in the last 6 iterations\n",
      "> SA ENDS....... \n",
      "\n",
      "> avg loss: 2.720920647719343\n",
      "> For the *532_th* data_key\n",
      "> retail = 1399.99,bidincrement = 0.01, bidfee = 0.75, infer PT's parameters\n",
      "> Now do SA....... \n",
      "\n"
     ]
    },
    {
     "name": "stderr",
     "output_type": "stream",
     "text": [
      " 42%|████▏     | 533/1276 [2:39:15<8:09:45, 39.55s/it]"
     ]
    },
    {
     "name": "stdout",
     "output_type": "stream",
     "text": [
      "> 超时\n",
      "> SA ENDS....... \n",
      "\n",
      "> avg loss: 23.025851037230577\n",
      "> For the *533_th* data_key\n",
      "> retail = 56.25,bidincrement = 0.15, bidfee = 0.75, infer PT's parameters\n",
      "> Now do SA....... \n",
      "\n"
     ]
    },
    {
     "name": "stderr",
     "output_type": "stream",
     "text": [
      " 42%|████▏     | 534/1276 [2:39:19<5:56:02, 28.79s/it]"
     ]
    },
    {
     "name": "stdout",
     "output_type": "stream",
     "text": [
      "STOP CODE:  Stay unchanged in the last 6 iterations\n",
      "> SA ENDS....... \n",
      "\n",
      "> avg loss: 2.5271214485613966\n",
      "> For the *534_th* data_key\n",
      "> retail = 23.99,bidincrement = 0.15, bidfee = 0.75, infer PT's parameters\n",
      "> Now do SA....... \n",
      "\n"
     ]
    },
    {
     "name": "stderr",
     "output_type": "stream",
     "text": [
      " 42%|████▏     | 535/1276 [2:39:22<4:19:36, 21.02s/it]"
     ]
    },
    {
     "name": "stdout",
     "output_type": "stream",
     "text": [
      "STOP CODE:  Stay unchanged in the last 6 iterations\n",
      "> SA ENDS....... \n",
      "\n",
      "> avg loss: 2.783861464842832\n",
      "> For the *535_th* data_key\n",
      "> retail = 678.93,bidincrement = 0.01, bidfee = 0.75, infer PT's parameters\n",
      "> Now do SA....... \n",
      "\n"
     ]
    },
    {
     "name": "stderr",
     "output_type": "stream",
     "text": [
      " 42%|████▏     | 536/1276 [2:41:23<10:30:30, 51.12s/it]"
     ]
    },
    {
     "name": "stdout",
     "output_type": "stream",
     "text": [
      "> 超时\n",
      "> SA ENDS....... \n",
      "\n",
      "> avg loss: 23.02585093221608\n",
      "> For the *536_th* data_key\n",
      "> retail = 149.99,bidincrement = 0.15, bidfee = 0.75, infer PT's parameters\n",
      "> Now do SA....... \n",
      "\n"
     ]
    },
    {
     "name": "stderr",
     "output_type": "stream",
     "text": [
      " 42%|████▏     | 537/1276 [2:41:28<7:38:13, 37.20s/it] "
     ]
    },
    {
     "name": "stdout",
     "output_type": "stream",
     "text": [
      "STOP CODE:  Stay unchanged in the last 6 iterations\n",
      "> SA ENDS....... \n",
      "\n",
      "> avg loss: 3.63743673320466\n",
      "> For the *537_th* data_key\n",
      "> retail = 1509.95,bidincrement = 0.01, bidfee = 0.75, infer PT's parameters\n",
      "> Now do SA....... \n",
      "\n"
     ]
    },
    {
     "name": "stderr",
     "output_type": "stream",
     "text": [
      " 42%|████▏     | 538/1276 [2:43:31<12:53:47, 62.91s/it]"
     ]
    },
    {
     "name": "stdout",
     "output_type": "stream",
     "text": [
      "> 超时\n",
      "> SA ENDS....... \n",
      "\n",
      "> avg loss: 23.02585107847974\n",
      "> For the *538_th* data_key\n",
      "> retail = 599.99,bidincrement = 0.01, bidfee = 0.75, infer PT's parameters\n",
      "> Now do SA....... \n",
      "\n"
     ]
    },
    {
     "name": "stderr",
     "output_type": "stream",
     "text": [
      " 42%|████▏     | 539/1276 [2:45:32<16:27:36, 80.40s/it]"
     ]
    },
    {
     "name": "stdout",
     "output_type": "stream",
     "text": [
      "> 超时\n",
      "> SA ENDS....... \n",
      "\n",
      "> avg loss: 23.025850929922562\n",
      "> For the *539_th* data_key\n",
      "> retail = 79.0,bidincrement = 0.15, bidfee = 0.75, infer PT's parameters\n",
      "> Now do SA....... \n",
      "\n"
     ]
    },
    {
     "name": "stderr",
     "output_type": "stream",
     "text": [
      " 42%|████▏     | 540/1276 [2:45:38<11:52:39, 58.10s/it]"
     ]
    },
    {
     "name": "stdout",
     "output_type": "stream",
     "text": [
      "STOP CODE:  Stay unchanged in the last 6 iterations\n",
      "> SA ENDS....... \n",
      "\n",
      "> avg loss: 2.7820204711004837\n",
      "> For the *540_th* data_key\n",
      "> retail = 89.99,bidincrement = 0.01, bidfee = 0.75, infer PT's parameters\n",
      "> Now do SA....... \n",
      "\n"
     ]
    },
    {
     "name": "stderr",
     "output_type": "stream",
     "text": [
      " 42%|████▏     | 541/1276 [2:46:24<11:07:55, 54.52s/it]"
     ]
    },
    {
     "name": "stdout",
     "output_type": "stream",
     "text": [
      "STOP CODE:  Stay unchanged in the last 6 iterations\n",
      "> SA ENDS....... \n",
      "\n",
      "> avg loss: 5.906415535851762\n",
      "> For the *541_th* data_key\n",
      "> retail = 98.04,bidincrement = 0.15, bidfee = 0.75, infer PT's parameters\n",
      "> Now do SA....... \n",
      "\n"
     ]
    },
    {
     "name": "stderr",
     "output_type": "stream",
     "text": [
      " 42%|████▏     | 542/1276 [2:46:29<8:04:52, 39.63s/it] "
     ]
    },
    {
     "name": "stdout",
     "output_type": "stream",
     "text": [
      "STOP CODE:  Stay unchanged in the last 6 iterations\n",
      "> SA ENDS....... \n",
      "\n",
      "> avg loss: 3.7481366531187947\n",
      "> For the *542_th* data_key\n",
      "> retail = 49.99,bidincrement = 0.15, bidfee = 0.75, infer PT's parameters\n",
      "> Now do SA....... \n",
      "\n"
     ]
    },
    {
     "name": "stderr",
     "output_type": "stream",
     "text": [
      " 43%|████▎     | 543/1276 [2:46:32<5:50:04, 28.66s/it]"
     ]
    },
    {
     "name": "stdout",
     "output_type": "stream",
     "text": [
      "STOP CODE:  Stay unchanged in the last 6 iterations\n",
      "> SA ENDS....... \n",
      "\n",
      "> avg loss: 3.299933254252472\n",
      "> For the *543_th* data_key\n",
      "> retail = 31.44,bidincrement = 0.15, bidfee = 0.75, infer PT's parameters\n",
      "> Now do SA....... \n",
      "\n"
     ]
    },
    {
     "name": "stderr",
     "output_type": "stream",
     "text": [
      " 43%|████▎     | 544/1276 [2:46:35<4:14:23, 20.85s/it]"
     ]
    },
    {
     "name": "stdout",
     "output_type": "stream",
     "text": [
      "STOP CODE:  Stay unchanged in the last 6 iterations\n",
      "> SA ENDS....... \n",
      "\n",
      "> avg loss: 2.6215388368024044\n",
      "> For the *544_th* data_key\n",
      "> retail = 79.99,bidincrement = 0.15, bidfee = 0.75, infer PT's parameters\n",
      "> Now do SA....... \n",
      "\n"
     ]
    },
    {
     "name": "stderr",
     "output_type": "stream",
     "text": [
      " 43%|████▎     | 545/1276 [2:46:38<3:09:25, 15.55s/it]"
     ]
    },
    {
     "name": "stdout",
     "output_type": "stream",
     "text": [
      "STOP CODE:  Stay unchanged in the last 6 iterations\n",
      "> SA ENDS....... \n",
      "\n",
      "> avg loss: 2.451002833795291\n",
      "> For the *545_th* data_key\n",
      "> retail = 11.36,bidincrement = 0.15, bidfee = 0.75, infer PT's parameters\n",
      "> Now do SA....... \n",
      "\n"
     ]
    },
    {
     "name": "stderr",
     "output_type": "stream",
     "text": [
      " 43%|████▎     | 546/1276 [2:46:41<2:24:41, 11.89s/it]"
     ]
    },
    {
     "name": "stdout",
     "output_type": "stream",
     "text": [
      "STOP CODE:  Stay unchanged in the last 6 iterations\n",
      "> SA ENDS....... \n",
      "\n",
      "> avg loss: 2.1169339508222196\n",
      "> For the *546_th* data_key\n",
      "> retail = 29.95,bidincrement = 0.15, bidfee = 0.75, infer PT's parameters\n",
      "> Now do SA....... \n",
      "\n"
     ]
    },
    {
     "name": "stderr",
     "output_type": "stream",
     "text": [
      " 43%|████▎     | 547/1276 [2:46:43<1:48:23,  8.92s/it]"
     ]
    },
    {
     "name": "stdout",
     "output_type": "stream",
     "text": [
      "STOP CODE:  Stay unchanged in the last 6 iterations\n",
      "> SA ENDS....... \n",
      "\n",
      "> avg loss: 2.5785659928821048\n",
      "> For the *547_th* data_key\n",
      "> retail = 18.41,bidincrement = 0.15, bidfee = 0.75, infer PT's parameters\n",
      "> Now do SA....... \n",
      "\n"
     ]
    },
    {
     "name": "stderr",
     "output_type": "stream",
     "text": [
      " 43%|████▎     | 548/1276 [2:46:46<1:25:29,  7.05s/it]"
     ]
    },
    {
     "name": "stdout",
     "output_type": "stream",
     "text": [
      "STOP CODE:  Stay unchanged in the last 6 iterations\n",
      "> SA ENDS....... \n",
      "\n",
      "> avg loss: 2.4140985352490762\n",
      "> For the *548_th* data_key\n",
      "> retail = 49.99,bidincrement = 0.15, bidfee = 0.75, infer PT's parameters\n",
      "> Now do SA....... \n",
      "\n"
     ]
    },
    {
     "name": "stderr",
     "output_type": "stream",
     "text": [
      " 43%|████▎     | 549/1276 [2:46:48<1:07:13,  5.55s/it]"
     ]
    },
    {
     "name": "stdout",
     "output_type": "stream",
     "text": [
      "STOP CODE:  Stay unchanged in the last 6 iterations\n",
      "> SA ENDS....... \n",
      "\n",
      "> avg loss: 2.814475216486522\n",
      "> For the *549_th* data_key\n",
      "> retail = 379.99,bidincrement = 0.15, bidfee = 0.75, infer PT's parameters\n",
      "> Now do SA....... \n",
      "\n"
     ]
    },
    {
     "name": "stderr",
     "output_type": "stream",
     "text": [
      " 43%|████▎     | 550/1276 [2:47:09<2:03:35, 10.21s/it]"
     ]
    },
    {
     "name": "stdout",
     "output_type": "stream",
     "text": [
      "STOP CODE:  Stay unchanged in the last 6 iterations\n",
      "> SA ENDS....... \n",
      "\n",
      "> avg loss: 2.616638537120638\n",
      "> For the *550_th* data_key\n",
      "> retail = 289.99,bidincrement = 0.15, bidfee = 0.75, infer PT's parameters\n",
      "> Now do SA....... \n",
      "\n"
     ]
    },
    {
     "name": "stderr",
     "output_type": "stream",
     "text": [
      " 43%|████▎     | 551/1276 [2:47:13<1:41:44,  8.42s/it]"
     ]
    },
    {
     "name": "stdout",
     "output_type": "stream",
     "text": [
      "STOP CODE:  Stay unchanged in the last 6 iterations\n",
      "> SA ENDS....... \n",
      "\n",
      "> avg loss: 23.02585084801031\n",
      "> For the *551_th* data_key\n",
      "> retail = 29.99,bidincrement = 0.15, bidfee = 0.75, infer PT's parameters\n",
      "> Now do SA....... \n",
      "\n"
     ]
    },
    {
     "name": "stderr",
     "output_type": "stream",
     "text": [
      " 43%|████▎     | 552/1276 [2:47:16<1:20:18,  6.66s/it]"
     ]
    },
    {
     "name": "stdout",
     "output_type": "stream",
     "text": [
      "STOP CODE:  Stay unchanged in the last 6 iterations\n",
      "> SA ENDS....... \n",
      "\n",
      "> avg loss: 3.1134650700133295\n",
      "> For the *552_th* data_key\n",
      "> retail = 59.99,bidincrement = 0.15, bidfee = 0.75, infer PT's parameters\n",
      "> Now do SA....... \n",
      "\n"
     ]
    },
    {
     "name": "stderr",
     "output_type": "stream",
     "text": [
      " 43%|████▎     | 553/1276 [2:47:20<1:12:44,  6.04s/it]"
     ]
    },
    {
     "name": "stdout",
     "output_type": "stream",
     "text": [
      "STOP CODE:  Stay unchanged in the last 6 iterations\n",
      "> SA ENDS....... \n",
      "\n",
      "> avg loss: 3.1196701546979133\n",
      "> For the *553_th* data_key\n",
      "> retail = 349.99,bidincrement = 0.15, bidfee = 0.75, infer PT's parameters\n",
      "> Now do SA....... \n",
      "\n"
     ]
    },
    {
     "name": "stderr",
     "output_type": "stream",
     "text": [
      " 43%|████▎     | 554/1276 [2:47:39<1:56:57,  9.72s/it]"
     ]
    },
    {
     "name": "stdout",
     "output_type": "stream",
     "text": [
      "STOP CODE:  Stay unchanged in the last 6 iterations\n",
      "> SA ENDS....... \n",
      "\n",
      "> avg loss: 2.6026529759989456\n",
      "> For the *554_th* data_key\n",
      "> retail = 349.99,bidincrement = 0.15, bidfee = 0.75, infer PT's parameters\n",
      "> Now do SA....... \n",
      "\n"
     ]
    },
    {
     "name": "stderr",
     "output_type": "stream",
     "text": [
      " 43%|████▎     | 555/1276 [2:47:52<2:10:03, 10.82s/it]"
     ]
    },
    {
     "name": "stdout",
     "output_type": "stream",
     "text": [
      "STOP CODE:  Stay unchanged in the last 6 iterations\n",
      "> SA ENDS....... \n",
      "\n",
      "> avg loss: 2.741838417432634\n",
      "> For the *555_th* data_key\n",
      "> retail = 349.99,bidincrement = 0.15, bidfee = 0.75, infer PT's parameters\n",
      "> Now do SA....... \n",
      "\n"
     ]
    },
    {
     "name": "stderr",
     "output_type": "stream",
     "text": [
      " 44%|████▎     | 556/1276 [2:48:00<1:59:08,  9.93s/it]"
     ]
    },
    {
     "name": "stdout",
     "output_type": "stream",
     "text": [
      "STOP CODE:  Stay unchanged in the last 6 iterations\n",
      "> SA ENDS....... \n",
      "\n",
      "> avg loss: 2.6907414978663518\n",
      "> For the *556_th* data_key\n",
      "> retail = 49.99,bidincrement = 0.15, bidfee = 0.75, infer PT's parameters\n",
      "> Now do SA....... \n",
      "\n"
     ]
    },
    {
     "name": "stderr",
     "output_type": "stream",
     "text": [
      " 44%|████▎     | 557/1276 [2:48:04<1:37:29,  8.14s/it]"
     ]
    },
    {
     "name": "stdout",
     "output_type": "stream",
     "text": [
      "STOP CODE:  Stay unchanged in the last 6 iterations\n",
      "> SA ENDS....... \n",
      "\n",
      "> avg loss: 3.2841768783461878\n",
      "> For the *557_th* data_key\n",
      "> retail = 1790.0,bidincrement = 0.01, bidfee = 0.75, infer PT's parameters\n",
      "> Now do SA....... \n",
      "\n"
     ]
    },
    {
     "name": "stderr",
     "output_type": "stream",
     "text": [
      " 44%|████▎     | 558/1276 [2:50:07<8:32:01, 42.79s/it]"
     ]
    },
    {
     "name": "stdout",
     "output_type": "stream",
     "text": [
      "> 超时\n",
      "> SA ENDS....... \n",
      "\n",
      "> avg loss: 23.02585111525471\n",
      "> For the *558_th* data_key\n",
      "> retail = 1299.99,bidincrement = 0.01, bidfee = 0.75, infer PT's parameters\n",
      "> Now do SA....... \n",
      "\n"
     ]
    },
    {
     "name": "stderr",
     "output_type": "stream",
     "text": [
      " 44%|████▍     | 559/1276 [2:52:10<13:16:49, 66.68s/it]"
     ]
    },
    {
     "name": "stdout",
     "output_type": "stream",
     "text": [
      "> 超时\n",
      "> SA ENDS....... \n",
      "\n",
      "> avg loss: 23.02585103055552\n",
      "> For the *559_th* data_key\n",
      "> retail = 1299.99,bidincrement = 0.01, bidfee = 0.75, infer PT's parameters\n",
      "> Now do SA....... \n",
      "\n"
     ]
    },
    {
     "name": "stderr",
     "output_type": "stream",
     "text": [
      " 44%|████▍     | 560/1276 [2:54:13<16:36:13, 83.48s/it]"
     ]
    },
    {
     "name": "stdout",
     "output_type": "stream",
     "text": [
      "> 超时\n",
      "> SA ENDS....... \n",
      "\n",
      "> avg loss: 23.025851023212027\n",
      "> For the *560_th* data_key\n",
      "> retail = 1899.99,bidincrement = 0.01, bidfee = 0.75, infer PT's parameters\n",
      "> Now do SA....... \n",
      "\n"
     ]
    },
    {
     "name": "stderr",
     "output_type": "stream",
     "text": [
      " 44%|████▍     | 561/1276 [2:56:17<18:59:31, 95.62s/it]"
     ]
    },
    {
     "name": "stdout",
     "output_type": "stream",
     "text": [
      "> 超时\n",
      "> SA ENDS....... \n",
      "\n",
      "> avg loss: 23.025851095544105\n",
      "> For the *561_th* data_key\n",
      "> retail = 169.99,bidincrement = 0.15, bidfee = 0.75, infer PT's parameters\n",
      "> Now do SA....... \n",
      "\n"
     ]
    },
    {
     "name": "stderr",
     "output_type": "stream",
     "text": [
      " 44%|████▍     | 562/1276 [2:56:20<13:30:33, 68.11s/it]"
     ]
    },
    {
     "name": "stdout",
     "output_type": "stream",
     "text": [
      "STOP CODE:  Stay unchanged in the last 6 iterations\n",
      "> SA ENDS....... \n",
      "\n",
      "> avg loss: 2.97333840358616\n",
      "> For the *562_th* data_key\n",
      "> retail = 169.99,bidincrement = 0.15, bidfee = 0.75, infer PT's parameters\n",
      "> Now do SA....... \n",
      "\n"
     ]
    },
    {
     "name": "stderr",
     "output_type": "stream",
     "text": [
      " 44%|████▍     | 563/1276 [2:56:25<9:43:32, 49.11s/it] "
     ]
    },
    {
     "name": "stdout",
     "output_type": "stream",
     "text": [
      "STOP CODE:  Stay unchanged in the last 6 iterations\n",
      "> SA ENDS....... \n",
      "\n",
      "> avg loss: 3.01014811382421\n",
      "> For the *563_th* data_key\n",
      "> retail = 399.99,bidincrement = 0.15, bidfee = 0.75, infer PT's parameters\n",
      "> Now do SA....... \n",
      "\n"
     ]
    },
    {
     "name": "stderr",
     "output_type": "stream",
     "text": [
      " 44%|████▍     | 564/1276 [2:56:44<7:53:24, 39.89s/it]"
     ]
    },
    {
     "name": "stdout",
     "output_type": "stream",
     "text": [
      "STOP CODE:  Stay unchanged in the last 6 iterations\n",
      "> SA ENDS....... \n",
      "\n",
      "> avg loss: 2.6008565694422874\n",
      "> For the *564_th* data_key\n",
      "> retail = 1020.34,bidincrement = 0.01, bidfee = 0.75, infer PT's parameters\n",
      "> Now do SA....... \n",
      "\n"
     ]
    },
    {
     "name": "stderr",
     "output_type": "stream",
     "text": [
      " 44%|████▍     | 565/1276 [2:58:46<12:44:42, 64.53s/it]"
     ]
    },
    {
     "name": "stdout",
     "output_type": "stream",
     "text": [
      "> 超时\n",
      "> SA ENDS....... \n",
      "\n",
      "> avg loss: 23.025850984011555\n",
      "> For the *565_th* data_key\n",
      "> retail = 64.99,bidincrement = 0.15, bidfee = 0.75, infer PT's parameters\n",
      "> Now do SA....... \n",
      "\n"
     ]
    },
    {
     "name": "stderr",
     "output_type": "stream",
     "text": [
      " 44%|████▍     | 566/1276 [2:58:48<9:04:03, 45.98s/it] "
     ]
    },
    {
     "name": "stdout",
     "output_type": "stream",
     "text": [
      "STOP CODE:  Stay unchanged in the last 6 iterations\n",
      "> SA ENDS....... \n",
      "\n",
      "> avg loss: 3.598901757086575\n",
      "> For the *566_th* data_key\n",
      "> retail = 80.0,bidincrement = 0.15, bidfee = 0.75, infer PT's parameters\n",
      "> Now do SA....... \n",
      "\n"
     ]
    },
    {
     "name": "stderr",
     "output_type": "stream",
     "text": [
      " 44%|████▍     | 567/1276 [2:58:51<6:30:08, 33.02s/it]"
     ]
    },
    {
     "name": "stdout",
     "output_type": "stream",
     "text": [
      "STOP CODE:  Stay unchanged in the last 6 iterations\n",
      "> SA ENDS....... \n",
      "\n",
      "> avg loss: 3.426570505740799\n",
      "> For the *567_th* data_key\n",
      "> retail = 313.0,bidincrement = 0.15, bidfee = 0.75, infer PT's parameters\n",
      "> Now do SA....... \n",
      "\n"
     ]
    },
    {
     "name": "stderr",
     "output_type": "stream",
     "text": [
      " 45%|████▍     | 568/1276 [2:59:01<5:06:07, 25.94s/it]"
     ]
    },
    {
     "name": "stdout",
     "output_type": "stream",
     "text": [
      "STOP CODE:  Stay unchanged in the last 6 iterations\n",
      "> SA ENDS....... \n",
      "\n",
      "> avg loss: 2.4198607622133705\n",
      "> For the *568_th* data_key\n",
      "> retail = 99.99,bidincrement = 0.15, bidfee = 0.75, infer PT's parameters\n",
      "> Now do SA....... \n",
      "\n"
     ]
    },
    {
     "name": "stderr",
     "output_type": "stream",
     "text": [
      " 45%|████▍     | 569/1276 [2:59:10<4:07:23, 20.99s/it]"
     ]
    },
    {
     "name": "stdout",
     "output_type": "stream",
     "text": [
      "STOP CODE:  Stay unchanged in the last 6 iterations\n",
      "> SA ENDS....... \n",
      "\n",
      "> avg loss: 2.7913733882871212\n",
      "> For the *569_th* data_key\n",
      "> retail = 119.99,bidincrement = 0.15, bidfee = 0.75, infer PT's parameters\n",
      "> Now do SA....... \n",
      "\n"
     ]
    },
    {
     "name": "stderr",
     "output_type": "stream",
     "text": [
      " 45%|████▍     | 570/1276 [2:59:13<3:05:17, 15.75s/it]"
     ]
    },
    {
     "name": "stdout",
     "output_type": "stream",
     "text": [
      "STOP CODE:  Stay unchanged in the last 6 iterations\n",
      "> SA ENDS....... \n",
      "\n",
      "> avg loss: 3.71880030257985\n",
      "> For the *570_th* data_key\n",
      "> retail = 149.99,bidincrement = 0.15, bidfee = 0.75, infer PT's parameters\n",
      "> Now do SA....... \n",
      "\n"
     ]
    },
    {
     "name": "stderr",
     "output_type": "stream",
     "text": [
      " 45%|████▍     | 571/1276 [2:59:18<2:24:08, 12.27s/it]"
     ]
    },
    {
     "name": "stdout",
     "output_type": "stream",
     "text": [
      "STOP CODE:  Stay unchanged in the last 6 iterations\n",
      "> SA ENDS....... \n",
      "\n",
      "> avg loss: 3.908324472287127\n",
      "> For the *571_th* data_key\n",
      "> retail = 249.99,bidincrement = 0.15, bidfee = 0.75, infer PT's parameters\n",
      "> Now do SA....... \n",
      "\n"
     ]
    },
    {
     "name": "stderr",
     "output_type": "stream",
     "text": [
      " 45%|████▍     | 572/1276 [2:59:26<2:09:10, 11.01s/it]"
     ]
    },
    {
     "name": "stdout",
     "output_type": "stream",
     "text": [
      "STOP CODE:  Stay unchanged in the last 6 iterations\n",
      "> SA ENDS....... \n",
      "\n",
      "> avg loss: 4.250174562721001\n",
      "> For the *572_th* data_key\n",
      "> retail = 30.5,bidincrement = 0.15, bidfee = 0.75, infer PT's parameters\n",
      "> Now do SA....... \n",
      "\n"
     ]
    },
    {
     "name": "stderr",
     "output_type": "stream",
     "text": [
      " 45%|████▍     | 573/1276 [2:59:29<1:42:14,  8.73s/it]"
     ]
    },
    {
     "name": "stdout",
     "output_type": "stream",
     "text": [
      "STOP CODE:  Stay unchanged in the last 6 iterations\n",
      "> SA ENDS....... \n",
      "\n",
      "> avg loss: 2.641988496266937\n",
      "> For the *573_th* data_key\n",
      "> retail = 209.99,bidincrement = 0.15, bidfee = 0.75, infer PT's parameters\n",
      "> Now do SA....... \n",
      "\n"
     ]
    },
    {
     "name": "stderr",
     "output_type": "stream",
     "text": [
      " 45%|████▍     | 574/1276 [2:59:36<1:34:23,  8.07s/it]"
     ]
    },
    {
     "name": "stdout",
     "output_type": "stream",
     "text": [
      "STOP CODE:  Stay unchanged in the last 6 iterations\n",
      "> SA ENDS....... \n",
      "\n",
      "> avg loss: 4.44557296200923\n",
      "> For the *574_th* data_key\n",
      "> retail = 9.99,bidincrement = 0.15, bidfee = 0.75, infer PT's parameters\n",
      "> Now do SA....... \n",
      "\n"
     ]
    },
    {
     "name": "stderr",
     "output_type": "stream",
     "text": [
      " 45%|████▌     | 575/1276 [2:59:40<1:21:28,  6.97s/it]"
     ]
    },
    {
     "name": "stdout",
     "output_type": "stream",
     "text": [
      "STOP CODE:  Stay unchanged in the last 6 iterations\n",
      "> SA ENDS....... \n",
      "\n",
      "> avg loss: 2.0108623237179577\n",
      "> For the *575_th* data_key\n",
      "> retail = 379.99,bidincrement = 0.15, bidfee = 0.75, infer PT's parameters\n",
      "> Now do SA....... \n",
      "\n"
     ]
    },
    {
     "name": "stderr",
     "output_type": "stream",
     "text": [
      " 45%|████▌     | 576/1276 [2:59:45<1:14:35,  6.39s/it]"
     ]
    },
    {
     "name": "stdout",
     "output_type": "stream",
     "text": [
      "STOP CODE:  Stay unchanged in the last 6 iterations\n",
      "> SA ENDS....... \n",
      "\n",
      "> avg loss: 23.025850847810762\n",
      "> For the *576_th* data_key\n",
      "> retail = 54.99,bidincrement = 0.15, bidfee = 0.75, infer PT's parameters\n",
      "> Now do SA....... \n",
      "\n"
     ]
    },
    {
     "name": "stderr",
     "output_type": "stream",
     "text": [
      " 45%|████▌     | 577/1276 [2:59:49<1:04:31,  5.54s/it]"
     ]
    },
    {
     "name": "stdout",
     "output_type": "stream",
     "text": [
      "STOP CODE:  Stay unchanged in the last 6 iterations\n",
      "> SA ENDS....... \n",
      "\n",
      "> avg loss: 3.0106544488645146\n",
      "> For the *577_th* data_key\n",
      "> retail = 2287.0,bidincrement = 0.01, bidfee = 0.75, infer PT's parameters\n",
      "> Now do SA....... \n",
      "\n"
     ]
    },
    {
     "name": "stderr",
     "output_type": "stream",
     "text": [
      " 45%|████▌     | 578/1276 [3:01:53<7:59:59, 41.26s/it]"
     ]
    },
    {
     "name": "stdout",
     "output_type": "stream",
     "text": [
      "> 超时\n",
      "> SA ENDS....... \n",
      "\n",
      "> avg loss: 23.025851168540704\n",
      "> For the *578_th* data_key\n",
      "> retail = 599.99,bidincrement = 0.01, bidfee = 0.75, infer PT's parameters\n",
      "> Now do SA....... \n",
      "\n"
     ]
    },
    {
     "name": "stderr",
     "output_type": "stream",
     "text": [
      " 45%|████▌     | 579/1276 [3:03:43<11:56:37, 61.69s/it]"
     ]
    },
    {
     "name": "stdout",
     "output_type": "stream",
     "text": [
      "STOP CODE:  Stay unchanged in the last 6 iterations\n",
      "> SA ENDS....... \n",
      "\n",
      "> avg loss: 23.025850930146653\n",
      "> For the *579_th* data_key\n",
      "> retail = 799.99,bidincrement = 0.01, bidfee = 0.75, infer PT's parameters\n",
      "> Now do SA....... \n",
      "\n"
     ]
    },
    {
     "name": "stderr",
     "output_type": "stream",
     "text": [
      " 45%|████▌     | 580/1276 [3:05:44<15:23:10, 79.58s/it]"
     ]
    },
    {
     "name": "stdout",
     "output_type": "stream",
     "text": [
      "> 超时\n",
      "> SA ENDS....... \n",
      "\n",
      "> avg loss: 23.025850955534317\n",
      "> For the *580_th* data_key\n",
      "> retail = 60.0,bidincrement = 0.15, bidfee = 0.75, infer PT's parameters\n",
      "> Now do SA....... \n",
      "\n"
     ]
    },
    {
     "name": "stderr",
     "output_type": "stream",
     "text": [
      " 46%|████▌     | 581/1276 [3:05:48<11:00:08, 56.99s/it]"
     ]
    },
    {
     "name": "stdout",
     "output_type": "stream",
     "text": [
      "STOP CODE:  Stay unchanged in the last 6 iterations\n",
      "> SA ENDS....... \n",
      "\n",
      "> avg loss: 3.324403477661208\n",
      "> For the *581_th* data_key\n",
      "> retail = 219.99,bidincrement = 0.15, bidfee = 0.75, infer PT's parameters\n",
      "> Now do SA....... \n",
      "\n"
     ]
    },
    {
     "name": "stderr",
     "output_type": "stream",
     "text": [
      " 46%|████▌     | 582/1276 [3:05:56<8:07:43, 42.17s/it] "
     ]
    },
    {
     "name": "stdout",
     "output_type": "stream",
     "text": [
      "STOP CODE:  Stay unchanged in the last 6 iterations\n",
      "> SA ENDS....... \n",
      "\n",
      "> avg loss: 2.7392841757790527\n",
      "> For the *582_th* data_key\n",
      "> retail = 276.8,bidincrement = 0.15, bidfee = 0.75, infer PT's parameters\n",
      "> Now do SA....... \n",
      "\n"
     ]
    },
    {
     "name": "stderr",
     "output_type": "stream",
     "text": [
      " 46%|████▌     | 583/1276 [3:06:06<6:17:52, 32.72s/it]"
     ]
    },
    {
     "name": "stdout",
     "output_type": "stream",
     "text": [
      "STOP CODE:  Stay unchanged in the last 6 iterations\n",
      "> SA ENDS....... \n",
      "\n",
      "> avg loss: 6.600302736553944\n",
      "> For the *583_th* data_key\n",
      "> retail = 39.98,bidincrement = 0.15, bidfee = 0.75, infer PT's parameters\n",
      "> Now do SA....... \n",
      "\n"
     ]
    },
    {
     "name": "stderr",
     "output_type": "stream",
     "text": [
      " 46%|████▌     | 584/1276 [3:06:10<4:35:24, 23.88s/it]"
     ]
    },
    {
     "name": "stdout",
     "output_type": "stream",
     "text": [
      "STOP CODE:  Stay unchanged in the last 6 iterations\n",
      "> SA ENDS....... \n",
      "\n",
      "> avg loss: 2.494243866847406\n",
      "> For the *584_th* data_key\n",
      "> retail = 39.99,bidincrement = 0.15, bidfee = 0.75, infer PT's parameters\n",
      "> Now do SA....... \n",
      "\n"
     ]
    },
    {
     "name": "stderr",
     "output_type": "stream",
     "text": [
      " 46%|████▌     | 585/1276 [3:06:12<3:20:32, 17.41s/it]"
     ]
    },
    {
     "name": "stdout",
     "output_type": "stream",
     "text": [
      "STOP CODE:  Stay unchanged in the last 6 iterations\n",
      "> SA ENDS....... \n",
      "\n",
      "> avg loss: 2.427702717196084\n",
      "> For the *585_th* data_key\n",
      "> retail = 29.99,bidincrement = 0.15, bidfee = 0.75, infer PT's parameters\n",
      "> Now do SA....... \n",
      "\n"
     ]
    },
    {
     "name": "stderr",
     "output_type": "stream",
     "text": [
      " 46%|████▌     | 586/1276 [3:06:14<2:27:52, 12.86s/it]"
     ]
    },
    {
     "name": "stdout",
     "output_type": "stream",
     "text": [
      "STOP CODE:  Stay unchanged in the last 6 iterations\n",
      "> SA ENDS....... \n",
      "\n",
      "> avg loss: 2.4502922248346737\n",
      "> For the *586_th* data_key\n",
      "> retail = 39.99,bidincrement = 0.15, bidfee = 0.75, infer PT's parameters\n",
      "> Now do SA....... \n",
      "\n"
     ]
    },
    {
     "name": "stderr",
     "output_type": "stream",
     "text": [
      " 46%|████▌     | 587/1276 [3:06:18<1:56:15, 10.12s/it]"
     ]
    },
    {
     "name": "stdout",
     "output_type": "stream",
     "text": [
      "STOP CODE:  Stay unchanged in the last 6 iterations\n",
      "> SA ENDS....... \n",
      "\n",
      "> avg loss: 3.2122043457684915\n",
      "> For the *587_th* data_key\n",
      "> retail = 49.99,bidincrement = 0.15, bidfee = 0.75, infer PT's parameters\n",
      "> Now do SA....... \n",
      "\n"
     ]
    },
    {
     "name": "stderr",
     "output_type": "stream",
     "text": [
      " 46%|████▌     | 588/1276 [3:06:23<1:37:56,  8.54s/it]"
     ]
    },
    {
     "name": "stdout",
     "output_type": "stream",
     "text": [
      "STOP CODE:  Stay unchanged in the last 6 iterations\n",
      "> SA ENDS....... \n",
      "\n",
      "> avg loss: 2.456989113143483\n",
      "> For the *588_th* data_key\n",
      "> retail = 1699.99,bidincrement = 0.01, bidfee = 0.75, infer PT's parameters\n",
      "> Now do SA....... \n",
      "\n"
     ]
    },
    {
     "name": "stderr",
     "output_type": "stream",
     "text": [
      " 46%|████▌     | 589/1276 [3:08:26<8:12:20, 43.00s/it]"
     ]
    },
    {
     "name": "stdout",
     "output_type": "stream",
     "text": [
      "> 超时\n",
      "> SA ENDS....... \n",
      "\n",
      "> avg loss: 23.025851088376175\n",
      "> For the *589_th* data_key\n",
      "> retail = 299.99,bidincrement = 0.15, bidfee = 0.75, infer PT's parameters\n",
      "> Now do SA....... \n",
      "\n"
     ]
    },
    {
     "name": "stderr",
     "output_type": "stream",
     "text": [
      " 46%|████▌     | 590/1276 [3:08:37<6:22:00, 33.41s/it]"
     ]
    },
    {
     "name": "stdout",
     "output_type": "stream",
     "text": [
      "STOP CODE:  Stay unchanged in the last 6 iterations\n",
      "> SA ENDS....... \n",
      "\n",
      "> avg loss: 2.508814461782713\n",
      "> For the *590_th* data_key\n",
      "> retail = 149.95,bidincrement = 0.15, bidfee = 0.75, infer PT's parameters\n",
      "> Now do SA....... \n",
      "\n"
     ]
    },
    {
     "name": "stderr",
     "output_type": "stream",
     "text": [
      " 46%|████▋     | 591/1276 [3:08:44<4:48:58, 25.31s/it]"
     ]
    },
    {
     "name": "stdout",
     "output_type": "stream",
     "text": [
      "STOP CODE:  Stay unchanged in the last 6 iterations\n",
      "> SA ENDS....... \n",
      "\n",
      "> avg loss: 2.9967052400371665\n",
      "> For the *591_th* data_key\n",
      "> retail = 42.0,bidincrement = 0.15, bidfee = 0.75, infer PT's parameters\n",
      "> Now do SA....... \n",
      "\n"
     ]
    },
    {
     "name": "stderr",
     "output_type": "stream",
     "text": [
      " 46%|████▋     | 592/1276 [3:08:47<3:31:41, 18.57s/it]"
     ]
    },
    {
     "name": "stdout",
     "output_type": "stream",
     "text": [
      "STOP CODE:  Stay unchanged in the last 6 iterations\n",
      "> SA ENDS....... \n",
      "\n",
      "> avg loss: 2.2725635204626675\n",
      "> For the *592_th* data_key\n",
      "> retail = 399.0,bidincrement = 0.15, bidfee = 0.75, infer PT's parameters\n",
      "> Now do SA....... \n",
      "\n"
     ]
    },
    {
     "name": "stderr",
     "output_type": "stream",
     "text": [
      " 46%|████▋     | 593/1276 [3:08:59<3:11:28, 16.82s/it]"
     ]
    },
    {
     "name": "stdout",
     "output_type": "stream",
     "text": [
      "STOP CODE:  Stay unchanged in the last 6 iterations\n",
      "> SA ENDS....... \n",
      "\n",
      "> avg loss: 3.0045949605101114\n",
      "> For the *593_th* data_key\n",
      "> retail = 279.99,bidincrement = 0.15, bidfee = 0.75, infer PT's parameters\n",
      "> Now do SA....... \n",
      "\n"
     ]
    },
    {
     "name": "stderr",
     "output_type": "stream",
     "text": [
      " 47%|████▋     | 594/1276 [3:09:04<2:28:56, 13.10s/it]"
     ]
    },
    {
     "name": "stdout",
     "output_type": "stream",
     "text": [
      "STOP CODE:  Stay unchanged in the last 6 iterations\n",
      "> SA ENDS....... \n",
      "\n",
      "> avg loss: 23.025850848677152\n",
      "> For the *594_th* data_key\n",
      "> retail = 89.99,bidincrement = 0.15, bidfee = 0.75, infer PT's parameters\n",
      "> Now do SA....... \n",
      "\n"
     ]
    },
    {
     "name": "stderr",
     "output_type": "stream",
     "text": [
      " 47%|████▋     | 595/1276 [3:09:09<2:03:09, 10.85s/it]"
     ]
    },
    {
     "name": "stdout",
     "output_type": "stream",
     "text": [
      "STOP CODE:  Stay unchanged in the last 6 iterations\n",
      "> SA ENDS....... \n",
      "\n",
      "> avg loss: 2.0700005505476198\n",
      "> For the *595_th* data_key\n",
      "> retail = 799.99,bidincrement = 0.15, bidfee = 0.75, infer PT's parameters\n",
      "> Now do SA....... \n",
      "\n"
     ]
    },
    {
     "name": "stderr",
     "output_type": "stream",
     "text": [
      " 47%|████▋     | 596/1276 [3:09:21<2:06:13, 11.14s/it]"
     ]
    },
    {
     "name": "stdout",
     "output_type": "stream",
     "text": [
      "STOP CODE:  Stay unchanged in the last 6 iterations\n",
      "> SA ENDS....... \n",
      "\n",
      "> avg loss: 23.025850930734837\n",
      "> For the *596_th* data_key\n",
      "> retail = 169.99,bidincrement = 0.01, bidfee = 0.75, infer PT's parameters\n",
      "> Now do SA....... \n",
      "\n"
     ]
    },
    {
     "name": "stderr",
     "output_type": "stream",
     "text": [
      " 47%|████▋     | 597/1276 [3:10:46<6:16:29, 33.27s/it]"
     ]
    },
    {
     "name": "stdout",
     "output_type": "stream",
     "text": [
      "STOP CODE:  Stay unchanged in the last 6 iterations\n",
      "> SA ENDS....... \n",
      "\n",
      "> avg loss: 6.469742476359928\n",
      "> For the *597_th* data_key\n",
      "> retail = 1499.99,bidincrement = 0.01, bidfee = 0.75, infer PT's parameters\n",
      "> Now do SA....... \n",
      "\n"
     ]
    },
    {
     "name": "stderr",
     "output_type": "stream",
     "text": [
      " 47%|████▋     | 598/1276 [3:12:49<11:20:19, 60.21s/it]"
     ]
    },
    {
     "name": "stdout",
     "output_type": "stream",
     "text": [
      "> 超时\n",
      "> SA ENDS....... \n",
      "\n",
      "> avg loss: 23.025851060637237\n",
      "> For the *598_th* data_key\n",
      "> retail = 1199.0,bidincrement = 0.01, bidfee = 0.75, infer PT's parameters\n",
      "> Now do SA....... \n",
      "\n"
     ]
    },
    {
     "name": "stderr",
     "output_type": "stream",
     "text": [
      " 47%|████▋     | 599/1276 [3:14:52<14:50:01, 78.88s/it]"
     ]
    },
    {
     "name": "stdout",
     "output_type": "stream",
     "text": [
      "> 超时\n",
      "> SA ENDS....... \n",
      "\n",
      "> avg loss: 23.025851007485425\n",
      "> For the *599_th* data_key\n",
      "> retail = 699.0,bidincrement = 0.01, bidfee = 0.75, infer PT's parameters\n",
      "> Now do SA....... \n",
      "\n"
     ]
    },
    {
     "name": "stderr",
     "output_type": "stream",
     "text": [
      " 47%|████▋     | 600/1276 [3:16:53<17:12:17, 91.62s/it]"
     ]
    },
    {
     "name": "stdout",
     "output_type": "stream",
     "text": [
      "> 超时\n",
      "> SA ENDS....... \n",
      "\n",
      "> avg loss: 23.0258509435882\n",
      "> For the *600_th* data_key\n",
      "> retail = 699.0,bidincrement = 0.01, bidfee = 0.75, infer PT's parameters\n",
      "> Now do SA....... \n",
      "\n"
     ]
    },
    {
     "name": "stderr",
     "output_type": "stream",
     "text": [
      " 47%|████▋     | 601/1276 [3:18:54<18:50:19, 100.47s/it]"
     ]
    },
    {
     "name": "stdout",
     "output_type": "stream",
     "text": [
      "> 超时\n",
      "> SA ENDS....... \n",
      "\n",
      "> avg loss: 23.025850937884385\n",
      "> For the *601_th* data_key\n",
      "> retail = 68.99,bidincrement = 0.15, bidfee = 0.75, infer PT's parameters\n",
      "> Now do SA....... \n",
      "\n"
     ]
    },
    {
     "name": "stderr",
     "output_type": "stream",
     "text": [
      " 47%|████▋     | 602/1276 [3:18:58<13:22:48, 71.47s/it] "
     ]
    },
    {
     "name": "stdout",
     "output_type": "stream",
     "text": [
      "STOP CODE:  Stay unchanged in the last 6 iterations\n",
      "> SA ENDS....... \n",
      "\n",
      "> avg loss: 3.211495180283632\n",
      "> For the *602_th* data_key\n",
      "> retail = 89.99,bidincrement = 0.15, bidfee = 0.75, infer PT's parameters\n",
      "> Now do SA....... \n",
      "\n"
     ]
    },
    {
     "name": "stderr",
     "output_type": "stream",
     "text": [
      " 47%|████▋     | 603/1276 [3:19:01<9:31:44, 50.97s/it] "
     ]
    },
    {
     "name": "stdout",
     "output_type": "stream",
     "text": [
      "STOP CODE:  Stay unchanged in the last 6 iterations\n",
      "> SA ENDS....... \n",
      "\n",
      "> avg loss: 3.6664718740099507\n",
      "> For the *603_th* data_key\n",
      "> retail = 429.99,bidincrement = 0.01, bidfee = 0.75, infer PT's parameters\n",
      "> Now do SA....... \n",
      "\n"
     ]
    },
    {
     "name": "stderr",
     "output_type": "stream",
     "text": [
      " 47%|████▋     | 604/1276 [3:21:02<13:25:48, 71.95s/it]"
     ]
    },
    {
     "name": "stdout",
     "output_type": "stream",
     "text": [
      "> 超时\n",
      "> SA ENDS....... \n",
      "\n",
      "> avg loss: 23.025850906831263\n",
      "> For the *604_th* data_key\n",
      "> retail = 99.7,bidincrement = 0.15, bidfee = 0.75, infer PT's parameters\n",
      "> Now do SA....... \n",
      "\n"
     ]
    },
    {
     "name": "stderr",
     "output_type": "stream",
     "text": [
      " 47%|████▋     | 605/1276 [3:21:07<9:39:54, 51.85s/it] "
     ]
    },
    {
     "name": "stdout",
     "output_type": "stream",
     "text": [
      "STOP CODE:  Stay unchanged in the last 6 iterations\n",
      "> SA ENDS....... \n",
      "\n",
      "> avg loss: 3.355772148088066\n",
      "> For the *605_th* data_key\n",
      "> retail = 144.4,bidincrement = 0.15, bidfee = 0.75, infer PT's parameters\n",
      "> Now do SA....... \n",
      "\n"
     ]
    },
    {
     "name": "stderr",
     "output_type": "stream",
     "text": [
      " 47%|████▋     | 606/1276 [3:21:12<7:01:49, 37.78s/it]"
     ]
    },
    {
     "name": "stdout",
     "output_type": "stream",
     "text": [
      "STOP CODE:  Stay unchanged in the last 6 iterations\n",
      "> SA ENDS....... \n",
      "\n",
      "> avg loss: 3.6827232641711425\n",
      "> For the *606_th* data_key\n",
      "> retail = 219.99,bidincrement = 0.15, bidfee = 0.75, infer PT's parameters\n",
      "> Now do SA....... \n",
      "\n"
     ]
    },
    {
     "name": "stderr",
     "output_type": "stream",
     "text": [
      " 48%|████▊     | 607/1276 [3:21:23<5:30:52, 29.68s/it]"
     ]
    },
    {
     "name": "stdout",
     "output_type": "stream",
     "text": [
      "STOP CODE:  Stay unchanged in the last 6 iterations\n",
      "> SA ENDS....... \n",
      "\n",
      "> avg loss: 3.2159089094321898\n",
      "> For the *607_th* data_key\n",
      "> retail = 99.95,bidincrement = 0.15, bidfee = 0.75, infer PT's parameters\n",
      "> Now do SA....... \n",
      "\n"
     ]
    },
    {
     "name": "stderr",
     "output_type": "stream",
     "text": [
      " 48%|████▊     | 608/1276 [3:21:28<4:10:41, 22.52s/it]"
     ]
    },
    {
     "name": "stdout",
     "output_type": "stream",
     "text": [
      "STOP CODE:  Stay unchanged in the last 6 iterations\n",
      "> SA ENDS....... \n",
      "\n",
      "> avg loss: 3.3506398798365034\n",
      "> For the *608_th* data_key\n",
      "> retail = 169.99,bidincrement = 0.15, bidfee = 0.75, infer PT's parameters\n",
      "> Now do SA....... \n",
      "\n"
     ]
    },
    {
     "name": "stderr",
     "output_type": "stream",
     "text": [
      " 48%|████▊     | 609/1276 [3:21:33<3:12:11, 17.29s/it]"
     ]
    },
    {
     "name": "stdout",
     "output_type": "stream",
     "text": [
      "STOP CODE:  Stay unchanged in the last 6 iterations\n",
      "> SA ENDS....... \n",
      "\n",
      "> avg loss: 4.397108147609869\n",
      "> For the *609_th* data_key\n",
      "> retail = 149.0,bidincrement = 0.15, bidfee = 0.75, infer PT's parameters\n",
      "> Now do SA....... \n",
      "\n"
     ]
    },
    {
     "name": "stderr",
     "output_type": "stream",
     "text": [
      " 48%|████▊     | 610/1276 [3:21:40<2:35:09, 13.98s/it]"
     ]
    },
    {
     "name": "stdout",
     "output_type": "stream",
     "text": [
      "STOP CODE:  Stay unchanged in the last 6 iterations\n",
      "> SA ENDS....... \n",
      "\n",
      "> avg loss: 3.5623961300181906\n",
      "> For the *610_th* data_key\n",
      "> retail = 49.99,bidincrement = 0.15, bidfee = 0.75, infer PT's parameters\n",
      "> Now do SA....... \n",
      "\n"
     ]
    },
    {
     "name": "stderr",
     "output_type": "stream",
     "text": [
      " 48%|████▊     | 611/1276 [3:21:43<2:00:59, 10.92s/it]"
     ]
    },
    {
     "name": "stdout",
     "output_type": "stream",
     "text": [
      "STOP CODE:  Stay unchanged in the last 6 iterations\n",
      "> SA ENDS....... \n",
      "\n",
      "> avg loss: 2.9686290165548925\n",
      "> For the *611_th* data_key\n",
      "> retail = 29.95,bidincrement = 0.15, bidfee = 0.75, infer PT's parameters\n",
      "> Now do SA....... \n",
      "\n"
     ]
    },
    {
     "name": "stderr",
     "output_type": "stream",
     "text": [
      " 48%|████▊     | 612/1276 [3:21:47<1:34:59,  8.58s/it]"
     ]
    },
    {
     "name": "stdout",
     "output_type": "stream",
     "text": [
      "STOP CODE:  Stay unchanged in the last 6 iterations\n",
      "> SA ENDS....... \n",
      "\n",
      "> avg loss: 2.6562072160351264\n",
      "> For the *612_th* data_key\n",
      "> retail = 29.95,bidincrement = 0.15, bidfee = 0.75, infer PT's parameters\n",
      "> Now do SA....... \n",
      "\n"
     ]
    },
    {
     "name": "stderr",
     "output_type": "stream",
     "text": [
      " 48%|████▊     | 613/1276 [3:21:49<1:12:54,  6.60s/it]"
     ]
    },
    {
     "name": "stdout",
     "output_type": "stream",
     "text": [
      "STOP CODE:  Stay unchanged in the last 6 iterations\n",
      "> SA ENDS....... \n",
      "\n",
      "> avg loss: 2.396365168751083\n",
      "> For the *613_th* data_key\n",
      "> retail = 9.99,bidincrement = 0.15, bidfee = 0.75, infer PT's parameters\n",
      "> Now do SA....... \n",
      "\n"
     ]
    },
    {
     "name": "stderr",
     "output_type": "stream",
     "text": [
      " 48%|████▊     | 614/1276 [3:21:51<1:00:26,  5.48s/it]"
     ]
    },
    {
     "name": "stdout",
     "output_type": "stream",
     "text": [
      "STOP CODE:  Stay unchanged in the last 6 iterations\n",
      "> SA ENDS....... \n",
      "\n",
      "> avg loss: 1.859339533328419\n",
      "> For the *614_th* data_key\n",
      "> retail = 18.99,bidincrement = 0.15, bidfee = 0.75, infer PT's parameters\n",
      "> Now do SA....... \n",
      "\n"
     ]
    },
    {
     "name": "stderr",
     "output_type": "stream",
     "text": [
      " 48%|████▊     | 615/1276 [3:21:54<52:17,  4.75s/it]  "
     ]
    },
    {
     "name": "stdout",
     "output_type": "stream",
     "text": [
      "STOP CODE:  Stay unchanged in the last 6 iterations\n",
      "> SA ENDS....... \n",
      "\n",
      "> avg loss: 3.048101784683508\n",
      "> For the *615_th* data_key\n",
      "> retail = 18.98,bidincrement = 0.15, bidfee = 0.75, infer PT's parameters\n",
      "> Now do SA....... \n",
      "\n"
     ]
    },
    {
     "name": "stderr",
     "output_type": "stream",
     "text": [
      " 48%|████▊     | 616/1276 [3:21:58<48:09,  4.38s/it]"
     ]
    },
    {
     "name": "stdout",
     "output_type": "stream",
     "text": [
      "STOP CODE:  Stay unchanged in the last 6 iterations\n",
      "> SA ENDS....... \n",
      "\n",
      "> avg loss: 2.1797549194855206\n",
      "> For the *616_th* data_key\n",
      "> retail = 18.98,bidincrement = 0.15, bidfee = 0.75, infer PT's parameters\n",
      "> Now do SA....... \n",
      "\n"
     ]
    },
    {
     "name": "stderr",
     "output_type": "stream",
     "text": [
      " 48%|████▊     | 617/1276 [3:22:01<43:55,  4.00s/it]"
     ]
    },
    {
     "name": "stdout",
     "output_type": "stream",
     "text": [
      "STOP CODE:  Stay unchanged in the last 6 iterations\n",
      "> SA ENDS....... \n",
      "\n",
      "> avg loss: 2.5429420101602025\n",
      "> For the *617_th* data_key\n",
      "> retail = 59.99,bidincrement = 0.15, bidfee = 0.75, infer PT's parameters\n",
      "> Now do SA....... \n",
      "\n"
     ]
    },
    {
     "name": "stderr",
     "output_type": "stream",
     "text": [
      " 48%|████▊     | 618/1276 [3:22:04<40:46,  3.72s/it]"
     ]
    },
    {
     "name": "stdout",
     "output_type": "stream",
     "text": [
      "STOP CODE:  Stay unchanged in the last 6 iterations\n",
      "> SA ENDS....... \n",
      "\n",
      "> avg loss: 3.010289838173793\n",
      "> For the *618_th* data_key\n",
      "> retail = 41.75,bidincrement = 0.15, bidfee = 0.75, infer PT's parameters\n",
      "> Now do SA....... \n",
      "\n"
     ]
    },
    {
     "name": "stderr",
     "output_type": "stream",
     "text": [
      " 49%|████▊     | 619/1276 [3:22:08<40:43,  3.72s/it]"
     ]
    },
    {
     "name": "stdout",
     "output_type": "stream",
     "text": [
      "STOP CODE:  Stay unchanged in the last 6 iterations\n",
      "> SA ENDS....... \n",
      "\n",
      "> avg loss: 2.123487745720454\n",
      "> For the *619_th* data_key\n",
      "> retail = 69.99,bidincrement = 0.15, bidfee = 0.75, infer PT's parameters\n",
      "> Now do SA....... \n",
      "\n"
     ]
    },
    {
     "name": "stderr",
     "output_type": "stream",
     "text": [
      " 49%|████▊     | 620/1276 [3:22:10<36:47,  3.36s/it]"
     ]
    },
    {
     "name": "stdout",
     "output_type": "stream",
     "text": [
      "STOP CODE:  Stay unchanged in the last 6 iterations\n",
      "> SA ENDS....... \n",
      "\n",
      "> avg loss: 2.2452282090128923\n",
      "> For the *620_th* data_key\n",
      "> retail = 39.99,bidincrement = 0.15, bidfee = 0.75, infer PT's parameters\n",
      "> Now do SA....... \n",
      "\n"
     ]
    },
    {
     "name": "stderr",
     "output_type": "stream",
     "text": [
      " 49%|████▊     | 621/1276 [3:22:12<31:20,  2.87s/it]"
     ]
    },
    {
     "name": "stdout",
     "output_type": "stream",
     "text": [
      "STOP CODE:  Stay unchanged in the last 6 iterations\n",
      "> SA ENDS....... \n",
      "\n",
      "> avg loss: 2.301750521519809\n",
      "> For the *621_th* data_key\n",
      "> retail = 15.99,bidincrement = 0.15, bidfee = 0.75, infer PT's parameters\n",
      "> Now do SA....... \n",
      "\n"
     ]
    },
    {
     "name": "stderr",
     "output_type": "stream",
     "text": [
      " 49%|████▊     | 622/1276 [3:22:14<29:08,  2.67s/it]"
     ]
    },
    {
     "name": "stdout",
     "output_type": "stream",
     "text": [
      "STOP CODE:  Stay unchanged in the last 6 iterations\n",
      "> SA ENDS....... \n",
      "\n",
      "> avg loss: 2.1113724488757533\n",
      "> For the *622_th* data_key\n",
      "> retail = 29.99,bidincrement = 0.15, bidfee = 0.75, infer PT's parameters\n",
      "> Now do SA....... \n",
      "\n"
     ]
    },
    {
     "name": "stderr",
     "output_type": "stream",
     "text": [
      " 49%|████▉     | 623/1276 [3:22:17<27:51,  2.56s/it]"
     ]
    },
    {
     "name": "stdout",
     "output_type": "stream",
     "text": [
      "STOP CODE:  Stay unchanged in the last 6 iterations\n",
      "> SA ENDS....... \n",
      "\n",
      "> avg loss: 2.604764774274612\n",
      "> For the *623_th* data_key\n",
      "> retail = 19.99,bidincrement = 0.15, bidfee = 0.75, infer PT's parameters\n",
      "> Now do SA....... \n",
      "\n"
     ]
    },
    {
     "name": "stderr",
     "output_type": "stream",
     "text": [
      " 49%|████▉     | 624/1276 [3:22:18<23:42,  2.18s/it]"
     ]
    },
    {
     "name": "stdout",
     "output_type": "stream",
     "text": [
      "STOP CODE:  Stay unchanged in the last 6 iterations\n",
      "> SA ENDS....... \n",
      "\n",
      "> avg loss: 2.1795045089372866\n",
      "> For the *624_th* data_key\n",
      "> retail = 29.99,bidincrement = 0.15, bidfee = 0.75, infer PT's parameters\n",
      "> Now do SA....... \n",
      "\n"
     ]
    },
    {
     "name": "stderr",
     "output_type": "stream",
     "text": [
      " 49%|████▉     | 625/1276 [3:22:21<25:41,  2.37s/it]"
     ]
    },
    {
     "name": "stdout",
     "output_type": "stream",
     "text": [
      "STOP CODE:  Stay unchanged in the last 6 iterations\n",
      "> SA ENDS....... \n",
      "\n",
      "> avg loss: 2.8341611748226003\n",
      "> For the *625_th* data_key\n",
      "> retail = 49.95,bidincrement = 0.15, bidfee = 0.75, infer PT's parameters\n",
      "> Now do SA....... \n",
      "\n"
     ]
    },
    {
     "name": "stderr",
     "output_type": "stream",
     "text": [
      " 49%|████▉     | 626/1276 [3:22:24<28:02,  2.59s/it]"
     ]
    },
    {
     "name": "stdout",
     "output_type": "stream",
     "text": [
      "STOP CODE:  Stay unchanged in the last 6 iterations\n",
      "> SA ENDS....... \n",
      "\n",
      "> avg loss: 2.7302404034121746\n",
      "> For the *626_th* data_key\n",
      "> retail = 99.95,bidincrement = 0.15, bidfee = 0.75, infer PT's parameters\n",
      "> Now do SA....... \n",
      "\n"
     ]
    },
    {
     "name": "stderr",
     "output_type": "stream",
     "text": [
      " 49%|████▉     | 627/1276 [3:22:28<32:53,  3.04s/it]"
     ]
    },
    {
     "name": "stdout",
     "output_type": "stream",
     "text": [
      "STOP CODE:  Stay unchanged in the last 6 iterations\n",
      "> SA ENDS....... \n",
      "\n",
      "> avg loss: 3.390181941522927\n",
      "> For the *627_th* data_key\n",
      "> retail = 259.99,bidincrement = 0.15, bidfee = 0.75, infer PT's parameters\n",
      "> Now do SA....... \n",
      "\n"
     ]
    },
    {
     "name": "stderr",
     "output_type": "stream",
     "text": [
      " 49%|████▉     | 628/1276 [3:22:34<42:12,  3.91s/it]"
     ]
    },
    {
     "name": "stdout",
     "output_type": "stream",
     "text": [
      "STOP CODE:  Stay unchanged in the last 6 iterations\n",
      "> SA ENDS....... \n",
      "\n",
      "> avg loss: 3.4637659988872898\n",
      "> For the *628_th* data_key\n",
      "> retail = 905.24,bidincrement = 0.01, bidfee = 0.75, infer PT's parameters\n",
      "> Now do SA....... \n",
      "\n"
     ]
    },
    {
     "name": "stderr",
     "output_type": "stream",
     "text": [
      " 49%|████▉     | 629/1276 [3:24:36<7:03:00, 39.23s/it]"
     ]
    },
    {
     "name": "stdout",
     "output_type": "stream",
     "text": [
      "> 超时\n",
      "> SA ENDS....... \n",
      "\n",
      "> avg loss: 23.025850972582315\n",
      "> For the *629_th* data_key\n",
      "> retail = 91.86,bidincrement = 0.15, bidfee = 0.75, infer PT's parameters\n",
      "> Now do SA....... \n",
      "\n"
     ]
    },
    {
     "name": "stderr",
     "output_type": "stream",
     "text": [
      " 49%|████▉     | 630/1276 [3:24:41<5:11:58, 28.98s/it]"
     ]
    },
    {
     "name": "stdout",
     "output_type": "stream",
     "text": [
      "STOP CODE:  Stay unchanged in the last 6 iterations\n",
      "> SA ENDS....... \n",
      "\n",
      "> avg loss: 4.041121532508336\n",
      "> For the *630_th* data_key\n",
      "> retail = 129.94,bidincrement = 0.15, bidfee = 0.75, infer PT's parameters\n",
      "> Now do SA....... \n",
      "\n"
     ]
    },
    {
     "name": "stderr",
     "output_type": "stream",
     "text": [
      " 49%|████▉     | 631/1276 [3:24:47<3:58:45, 22.21s/it]"
     ]
    },
    {
     "name": "stdout",
     "output_type": "stream",
     "text": [
      "STOP CODE:  Stay unchanged in the last 6 iterations\n",
      "> SA ENDS....... \n",
      "\n",
      "> avg loss: 2.8028666203753785\n",
      "> For the *631_th* data_key\n",
      "> retail = 128.77,bidincrement = 0.15, bidfee = 0.75, infer PT's parameters\n",
      "> Now do SA....... \n",
      "\n"
     ]
    },
    {
     "name": "stderr",
     "output_type": "stream",
     "text": [
      " 50%|████▉     | 632/1276 [3:24:51<3:01:07, 16.88s/it]"
     ]
    },
    {
     "name": "stdout",
     "output_type": "stream",
     "text": [
      "STOP CODE:  Stay unchanged in the last 6 iterations\n",
      "> SA ENDS....... \n",
      "\n",
      "> avg loss: 3.92023899178649\n",
      "> For the *632_th* data_key\n",
      "> retail = 169.3,bidincrement = 0.15, bidfee = 0.75, infer PT's parameters\n",
      "> Now do SA....... \n",
      "\n"
     ]
    },
    {
     "name": "stderr",
     "output_type": "stream",
     "text": [
      " 50%|████▉     | 633/1276 [3:24:58<2:28:18, 13.84s/it]"
     ]
    },
    {
     "name": "stdout",
     "output_type": "stream",
     "text": [
      "STOP CODE:  Stay unchanged in the last 6 iterations\n",
      "> SA ENDS....... \n",
      "\n",
      "> avg loss: 4.085707408870138\n",
      "> For the *633_th* data_key\n",
      "> retail = 182.42,bidincrement = 0.15, bidfee = 0.75, infer PT's parameters\n",
      "> Now do SA....... \n",
      "\n"
     ]
    },
    {
     "name": "stderr",
     "output_type": "stream",
     "text": [
      " 50%|████▉     | 634/1276 [3:25:06<2:07:39, 11.93s/it]"
     ]
    },
    {
     "name": "stdout",
     "output_type": "stream",
     "text": [
      "STOP CODE:  Stay unchanged in the last 6 iterations\n",
      "> SA ENDS....... \n",
      "\n",
      "> avg loss: 3.339260929110058\n",
      "> For the *634_th* data_key\n",
      "> retail = 160.0,bidincrement = 0.15, bidfee = 0.75, infer PT's parameters\n",
      "> Now do SA....... \n",
      "\n"
     ]
    },
    {
     "name": "stderr",
     "output_type": "stream",
     "text": [
      " 50%|████▉     | 635/1276 [3:25:11<1:45:04,  9.84s/it]"
     ]
    },
    {
     "name": "stdout",
     "output_type": "stream",
     "text": [
      "STOP CODE:  Stay unchanged in the last 6 iterations\n",
      "> SA ENDS....... \n",
      "\n",
      "> avg loss: 3.4211697650512165\n",
      "> For the *635_th* data_key\n",
      "> retail = 364.99,bidincrement = 0.15, bidfee = 0.75, infer PT's parameters\n",
      "> Now do SA....... \n",
      "\n"
     ]
    },
    {
     "name": "stderr",
     "output_type": "stream",
     "text": [
      " 50%|████▉     | 636/1276 [3:25:16<1:31:08,  8.54s/it]"
     ]
    },
    {
     "name": "stdout",
     "output_type": "stream",
     "text": [
      "STOP CODE:  Stay unchanged in the last 6 iterations\n",
      "> SA ENDS....... \n",
      "\n",
      "> avg loss: 23.02585084805047\n",
      "> For the *636_th* data_key\n",
      "> retail = 15.0,bidincrement = 0.01, bidfee = 0.75, infer PT's parameters\n",
      "> Now do SA....... \n",
      "\n"
     ]
    },
    {
     "name": "stderr",
     "output_type": "stream",
     "text": [
      " 50%|████▉     | 637/1276 [3:25:31<1:52:10, 10.53s/it]"
     ]
    },
    {
     "name": "stdout",
     "output_type": "stream",
     "text": [
      "STOP CODE:  Stay unchanged in the last 6 iterations\n",
      "> SA ENDS....... \n",
      "\n",
      "> avg loss: 3.9601028209941895\n",
      "> For the *637_th* data_key\n",
      "> retail = 849.95,bidincrement = 0.01, bidfee = 0.75, infer PT's parameters\n",
      "> Now do SA....... \n",
      "\n"
     ]
    },
    {
     "name": "stderr",
     "output_type": "stream",
     "text": [
      " 50%|█████     | 638/1276 [3:27:33<7:46:27, 43.87s/it]"
     ]
    },
    {
     "name": "stdout",
     "output_type": "stream",
     "text": [
      "> 超时\n",
      "> SA ENDS....... \n",
      "\n",
      "> avg loss: 23.025850972127216\n",
      "> For the *638_th* data_key\n",
      "> retail = 899.99,bidincrement = 0.01, bidfee = 0.75, infer PT's parameters\n",
      "> Now do SA....... \n",
      "\n"
     ]
    },
    {
     "name": "stderr",
     "output_type": "stream",
     "text": [
      " 50%|█████     | 639/1276 [3:29:35<11:54:03, 67.26s/it]"
     ]
    },
    {
     "name": "stdout",
     "output_type": "stream",
     "text": [
      "> 超时\n",
      "> SA ENDS....... \n",
      "\n",
      "> avg loss: 23.025850971979352\n",
      "> For the *639_th* data_key\n",
      "> retail = 19.99,bidincrement = 0.15, bidfee = 0.75, infer PT's parameters\n",
      "> Now do SA....... \n",
      "\n"
     ]
    },
    {
     "name": "stderr",
     "output_type": "stream",
     "text": [
      " 50%|█████     | 640/1276 [3:29:37<8:26:34, 47.79s/it] "
     ]
    },
    {
     "name": "stdout",
     "output_type": "stream",
     "text": [
      "STOP CODE:  Stay unchanged in the last 6 iterations\n",
      "> SA ENDS....... \n",
      "\n",
      "> avg loss: 2.2061380598400238\n",
      "> For the *640_th* data_key\n",
      "> retail = 21.99,bidincrement = 0.15, bidfee = 0.75, infer PT's parameters\n",
      "> Now do SA....... \n",
      "\n"
     ]
    },
    {
     "name": "stderr",
     "output_type": "stream",
     "text": [
      " 50%|█████     | 641/1276 [3:29:41<6:05:35, 34.54s/it]"
     ]
    },
    {
     "name": "stdout",
     "output_type": "stream",
     "text": [
      "STOP CODE:  Stay unchanged in the last 6 iterations\n",
      "> SA ENDS....... \n",
      "\n",
      "> avg loss: 2.5288493000821273\n",
      "> For the *641_th* data_key\n",
      "> retail = 86.99,bidincrement = 0.15, bidfee = 0.75, infer PT's parameters\n",
      "> Now do SA....... \n",
      "\n"
     ]
    },
    {
     "name": "stderr",
     "output_type": "stream",
     "text": [
      " 50%|█████     | 642/1276 [3:29:45<4:28:52, 25.45s/it]"
     ]
    },
    {
     "name": "stdout",
     "output_type": "stream",
     "text": [
      "STOP CODE:  Stay unchanged in the last 6 iterations\n",
      "> SA ENDS....... \n",
      "\n",
      "> avg loss: 3.488876637621973\n",
      "> For the *642_th* data_key\n",
      "> retail = 1199.99,bidincrement = 0.01, bidfee = 0.75, infer PT's parameters\n",
      "> Now do SA....... \n",
      "\n"
     ]
    },
    {
     "name": "stderr",
     "output_type": "stream",
     "text": [
      " 50%|█████     | 643/1276 [3:31:47<9:35:05, 54.51s/it]"
     ]
    },
    {
     "name": "stdout",
     "output_type": "stream",
     "text": [
      "> 超时\n",
      "> SA ENDS....... \n",
      "\n",
      "> avg loss: 23.025851006331276\n",
      "> For the *643_th* data_key\n",
      "> retail = 16.99,bidincrement = 0.15, bidfee = 0.75, infer PT's parameters\n",
      "> Now do SA....... \n",
      "\n"
     ]
    },
    {
     "name": "stderr",
     "output_type": "stream",
     "text": [
      " 50%|█████     | 644/1276 [3:31:49<6:48:04, 38.74s/it]"
     ]
    },
    {
     "name": "stdout",
     "output_type": "stream",
     "text": [
      "STOP CODE:  Stay unchanged in the last 6 iterations\n",
      "> SA ENDS....... \n",
      "\n",
      "> avg loss: 2.3133702957093685\n",
      "> For the *644_th* data_key\n",
      "> retail = 34.99,bidincrement = 0.15, bidfee = 0.75, infer PT's parameters\n",
      "> Now do SA....... \n",
      "\n"
     ]
    },
    {
     "name": "stderr",
     "output_type": "stream",
     "text": [
      " 51%|█████     | 645/1276 [3:31:52<4:54:46, 28.03s/it]"
     ]
    },
    {
     "name": "stdout",
     "output_type": "stream",
     "text": [
      "STOP CODE:  Stay unchanged in the last 6 iterations\n",
      "> SA ENDS....... \n",
      "\n",
      "> avg loss: 2.9244091568927453\n",
      "> For the *645_th* data_key\n",
      "> retail = 27.99,bidincrement = 0.15, bidfee = 0.75, infer PT's parameters\n",
      "> Now do SA....... \n",
      "\n"
     ]
    },
    {
     "name": "stderr",
     "output_type": "stream",
     "text": [
      " 51%|█████     | 646/1276 [3:31:56<3:36:39, 20.63s/it]"
     ]
    },
    {
     "name": "stdout",
     "output_type": "stream",
     "text": [
      "STOP CODE:  Stay unchanged in the last 6 iterations\n",
      "> SA ENDS....... \n",
      "\n",
      "> avg loss: 2.9353825451954365\n",
      "> For the *646_th* data_key\n",
      "> retail = 1260.0,bidincrement = 0.01, bidfee = 0.75, infer PT's parameters\n",
      "> Now do SA....... \n",
      "\n"
     ]
    },
    {
     "name": "stderr",
     "output_type": "stream",
     "text": [
      " 51%|█████     | 647/1276 [3:33:58<8:56:46, 51.20s/it]"
     ]
    },
    {
     "name": "stdout",
     "output_type": "stream",
     "text": [
      "> 超时\n",
      "> SA ENDS....... \n",
      "\n",
      "> avg loss: 23.025851027889328\n",
      "> For the *647_th* data_key\n",
      "> retail = 110.0,bidincrement = 0.15, bidfee = 0.75, infer PT's parameters\n",
      "> Now do SA....... \n",
      "\n"
     ]
    },
    {
     "name": "stderr",
     "output_type": "stream",
     "text": [
      " 51%|█████     | 648/1276 [3:34:02<6:25:33, 36.84s/it]"
     ]
    },
    {
     "name": "stdout",
     "output_type": "stream",
     "text": [
      "STOP CODE:  Stay unchanged in the last 6 iterations\n",
      "> SA ENDS....... \n",
      "\n",
      "> avg loss: 3.4397815432519026\n",
      "> For the *648_th* data_key\n",
      "> retail = 90.0,bidincrement = 0.15, bidfee = 0.75, infer PT's parameters\n",
      "> Now do SA....... \n",
      "\n"
     ]
    },
    {
     "name": "stderr",
     "output_type": "stream",
     "text": [
      " 51%|█████     | 649/1276 [3:34:05<4:40:51, 26.88s/it]"
     ]
    },
    {
     "name": "stdout",
     "output_type": "stream",
     "text": [
      "STOP CODE:  Stay unchanged in the last 6 iterations\n",
      "> SA ENDS....... \n",
      "\n",
      "> avg loss: 3.6233728047313134\n",
      "> For the *649_th* data_key\n",
      "> retail = 219.99,bidincrement = 0.15, bidfee = 0.75, infer PT's parameters\n",
      "> Now do SA....... \n",
      "\n"
     ]
    },
    {
     "name": "stderr",
     "output_type": "stream",
     "text": [
      " 51%|█████     | 650/1276 [3:34:09<3:27:02, 19.84s/it]"
     ]
    },
    {
     "name": "stdout",
     "output_type": "stream",
     "text": [
      "STOP CODE:  Stay unchanged in the last 6 iterations\n",
      "> SA ENDS....... \n",
      "\n",
      "> avg loss: 23.025850849674985\n",
      "> For the *650_th* data_key\n",
      "> retail = 33.94,bidincrement = 0.15, bidfee = 0.75, infer PT's parameters\n",
      "> Now do SA....... \n",
      "\n"
     ]
    },
    {
     "name": "stderr",
     "output_type": "stream",
     "text": [
      " 51%|█████     | 651/1276 [3:34:12<2:34:11, 14.80s/it]"
     ]
    },
    {
     "name": "stdout",
     "output_type": "stream",
     "text": [
      "STOP CODE:  Stay unchanged in the last 6 iterations\n",
      "> SA ENDS....... \n",
      "\n",
      "> avg loss: 3.073556642533823\n",
      "> For the *651_th* data_key\n",
      "> retail = 12.99,bidincrement = 0.15, bidfee = 0.75, infer PT's parameters\n",
      "> Now do SA....... \n",
      "\n"
     ]
    },
    {
     "name": "stderr",
     "output_type": "stream",
     "text": [
      " 51%|█████     | 652/1276 [3:34:12<1:49:59, 10.58s/it]"
     ]
    },
    {
     "name": "stdout",
     "output_type": "stream",
     "text": [
      "STOP CODE:  Stay unchanged in the last 6 iterations\n",
      "> SA ENDS....... \n",
      "\n",
      "> avg loss: 3.8120937131092094\n",
      "> For the *652_th* data_key\n",
      "> retail = 13.99,bidincrement = 0.15, bidfee = 0.75, infer PT's parameters\n",
      "> Now do SA....... \n",
      "\n"
     ]
    },
    {
     "name": "stderr",
     "output_type": "stream",
     "text": [
      " 51%|█████     | 653/1276 [3:34:15<1:25:18,  8.22s/it]"
     ]
    },
    {
     "name": "stdout",
     "output_type": "stream",
     "text": [
      "STOP CODE:  Stay unchanged in the last 6 iterations\n",
      "> SA ENDS....... \n",
      "\n",
      "> avg loss: 2.2680163192440843\n",
      "> For the *653_th* data_key\n",
      "> retail = 11.99,bidincrement = 0.15, bidfee = 0.75, infer PT's parameters\n",
      "> Now do SA....... \n",
      "\n"
     ]
    },
    {
     "name": "stderr",
     "output_type": "stream",
     "text": [
      " 51%|█████▏    | 654/1276 [3:34:18<1:09:40,  6.72s/it]"
     ]
    },
    {
     "name": "stdout",
     "output_type": "stream",
     "text": [
      "STOP CODE:  Stay unchanged in the last 6 iterations\n",
      "> SA ENDS....... \n",
      "\n",
      "> avg loss: 2.009883489115023\n",
      "> For the *654_th* data_key\n",
      "> retail = 336.0,bidincrement = 0.15, bidfee = 0.75, infer PT's parameters\n",
      "> Now do SA....... \n",
      "\n"
     ]
    },
    {
     "name": "stderr",
     "output_type": "stream",
     "text": [
      " 51%|█████▏    | 655/1276 [3:34:34<1:36:10,  9.29s/it]"
     ]
    },
    {
     "name": "stdout",
     "output_type": "stream",
     "text": [
      "STOP CODE:  Stay unchanged in the last 6 iterations\n",
      "> SA ENDS....... \n",
      "\n",
      "> avg loss: 3.1538393684689527\n",
      "> For the *655_th* data_key\n",
      "> retail = 1199.9,bidincrement = 0.01, bidfee = 0.75, infer PT's parameters\n",
      "> Now do SA....... \n",
      "\n"
     ]
    },
    {
     "name": "stderr",
     "output_type": "stream",
     "text": [
      " 51%|█████▏    | 656/1276 [3:36:36<7:26:55, 43.25s/it]"
     ]
    },
    {
     "name": "stdout",
     "output_type": "stream",
     "text": [
      "> 超时\n",
      "> SA ENDS....... \n",
      "\n",
      "> avg loss: 23.025851014830362\n",
      "> For the *656_th* data_key\n",
      "> retail = 99.99,bidincrement = 0.15, bidfee = 0.75, infer PT's parameters\n",
      "> Now do SA....... \n",
      "\n"
     ]
    },
    {
     "name": "stderr",
     "output_type": "stream",
     "text": [
      " 51%|█████▏    | 657/1276 [3:36:43<5:32:18, 32.21s/it]"
     ]
    },
    {
     "name": "stdout",
     "output_type": "stream",
     "text": [
      "STOP CODE:  Stay unchanged in the last 6 iterations\n",
      "> SA ENDS....... \n",
      "\n",
      "> avg loss: 3.5949321575882096\n",
      "> For the *657_th* data_key\n",
      "> retail = 179.0,bidincrement = 0.15, bidfee = 0.75, infer PT's parameters\n",
      "> Now do SA....... \n",
      "\n"
     ]
    },
    {
     "name": "stderr",
     "output_type": "stream",
     "text": [
      " 52%|█████▏    | 658/1276 [3:36:45<4:01:07, 23.41s/it]"
     ]
    },
    {
     "name": "stdout",
     "output_type": "stream",
     "text": [
      "STOP CODE:  Stay unchanged in the last 6 iterations\n",
      "> SA ENDS....... \n",
      "\n",
      "> avg loss: 23.02585084752972\n",
      "> For the *658_th* data_key\n",
      "> retail = 451.13,bidincrement = 0.15, bidfee = 0.75, infer PT's parameters\n",
      "> Now do SA....... \n",
      "\n"
     ]
    },
    {
     "name": "stderr",
     "output_type": "stream",
     "text": [
      " 52%|█████▏    | 659/1276 [3:36:56<3:20:40, 19.52s/it]"
     ]
    },
    {
     "name": "stdout",
     "output_type": "stream",
     "text": [
      "STOP CODE:  Stay unchanged in the last 6 iterations\n",
      "> SA ENDS....... \n",
      "\n",
      "> avg loss: 3.6689943701014935\n",
      "> For the *659_th* data_key\n",
      "> retail = 1449.99,bidincrement = 0.01, bidfee = 0.75, infer PT's parameters\n",
      "> Now do SA....... \n",
      "\n"
     ]
    },
    {
     "name": "stderr",
     "output_type": "stream",
     "text": [
      " 52%|█████▏    | 660/1276 [3:38:59<8:39:01, 50.55s/it]"
     ]
    },
    {
     "name": "stdout",
     "output_type": "stream",
     "text": [
      "> 超时\n",
      "> SA ENDS....... \n",
      "\n",
      "> avg loss: 23.02585104491049\n",
      "> For the *660_th* data_key\n",
      "> retail = 549.99,bidincrement = 0.15, bidfee = 0.75, infer PT's parameters\n",
      "> Now do SA....... \n",
      "\n"
     ]
    },
    {
     "name": "stderr",
     "output_type": "stream",
     "text": [
      " 52%|█████▏    | 661/1276 [3:39:07<6:26:41, 37.73s/it]"
     ]
    },
    {
     "name": "stdout",
     "output_type": "stream",
     "text": [
      "STOP CODE:  Stay unchanged in the last 6 iterations\n",
      "> SA ENDS....... \n",
      "\n",
      "> avg loss: 23.02585084795011\n",
      "> For the *661_th* data_key\n",
      "> retail = 134.99,bidincrement = 0.15, bidfee = 0.75, infer PT's parameters\n",
      "> Now do SA....... \n",
      "\n"
     ]
    },
    {
     "name": "stderr",
     "output_type": "stream",
     "text": [
      " 52%|█████▏    | 662/1276 [3:39:12<4:47:05, 28.05s/it]"
     ]
    },
    {
     "name": "stdout",
     "output_type": "stream",
     "text": [
      "STOP CODE:  Stay unchanged in the last 6 iterations\n",
      "> SA ENDS....... \n",
      "\n",
      "> avg loss: 2.1733202211118616\n",
      "> For the *662_th* data_key\n",
      "> retail = 199.99,bidincrement = 0.15, bidfee = 0.75, infer PT's parameters\n",
      "> Now do SA....... \n",
      "\n"
     ]
    },
    {
     "name": "stderr",
     "output_type": "stream",
     "text": [
      " 52%|█████▏    | 663/1276 [3:39:19<3:42:05, 21.74s/it]"
     ]
    },
    {
     "name": "stdout",
     "output_type": "stream",
     "text": [
      "STOP CODE:  Stay unchanged in the last 6 iterations\n",
      "> SA ENDS....... \n",
      "\n",
      "> avg loss: 3.2432740068773147\n",
      "> For the *663_th* data_key\n",
      "> retail = 119.99,bidincrement = 0.15, bidfee = 0.75, infer PT's parameters\n",
      "> Now do SA....... \n",
      "\n"
     ]
    },
    {
     "name": "stderr",
     "output_type": "stream",
     "text": [
      " 52%|█████▏    | 664/1276 [3:39:27<3:00:25, 17.69s/it]"
     ]
    },
    {
     "name": "stdout",
     "output_type": "stream",
     "text": [
      "STOP CODE:  Stay unchanged in the last 6 iterations\n",
      "> SA ENDS....... \n",
      "\n",
      "> avg loss: 4.824588301760182\n",
      "> For the *664_th* data_key\n",
      "> retail = 299.99,bidincrement = 0.15, bidfee = 0.75, infer PT's parameters\n",
      "> Now do SA....... \n",
      "\n"
     ]
    },
    {
     "name": "stderr",
     "output_type": "stream",
     "text": [
      " 52%|█████▏    | 665/1276 [3:39:39<2:41:36, 15.87s/it]"
     ]
    },
    {
     "name": "stdout",
     "output_type": "stream",
     "text": [
      "STOP CODE:  Stay unchanged in the last 6 iterations\n",
      "> SA ENDS....... \n",
      "\n",
      "> avg loss: 2.5973577797243856\n",
      "> For the *665_th* data_key\n",
      "> retail = 79.99,bidincrement = 0.15, bidfee = 0.75, infer PT's parameters\n",
      "> Now do SA....... \n",
      "\n"
     ]
    },
    {
     "name": "stderr",
     "output_type": "stream",
     "text": [
      " 52%|█████▏    | 666/1276 [3:39:46<2:14:58, 13.28s/it]"
     ]
    },
    {
     "name": "stdout",
     "output_type": "stream",
     "text": [
      "STOP CODE:  Stay unchanged in the last 6 iterations\n",
      "> SA ENDS....... \n",
      "\n",
      "> avg loss: 3.4224964445267765\n",
      "> For the *666_th* data_key\n",
      "> retail = 29.99,bidincrement = 0.15, bidfee = 0.75, infer PT's parameters\n",
      "> Now do SA....... \n",
      "\n"
     ]
    },
    {
     "name": "stderr",
     "output_type": "stream",
     "text": [
      " 52%|█████▏    | 667/1276 [3:39:50<1:44:42, 10.32s/it]"
     ]
    },
    {
     "name": "stdout",
     "output_type": "stream",
     "text": [
      "STOP CODE:  Stay unchanged in the last 6 iterations\n",
      "> SA ENDS....... \n",
      "\n",
      "> avg loss: 2.30371688560435\n",
      "> For the *667_th* data_key\n",
      "> retail = 29.95,bidincrement = 0.15, bidfee = 0.75, infer PT's parameters\n",
      "> Now do SA....... \n",
      "\n"
     ]
    },
    {
     "name": "stderr",
     "output_type": "stream",
     "text": [
      " 52%|█████▏    | 668/1276 [3:39:54<1:25:32,  8.44s/it]"
     ]
    },
    {
     "name": "stdout",
     "output_type": "stream",
     "text": [
      "STOP CODE:  Stay unchanged in the last 6 iterations\n",
      "> SA ENDS....... \n",
      "\n",
      "> avg loss: 2.821951734097063\n",
      "> For the *668_th* data_key\n",
      "> retail = 38.99,bidincrement = 0.15, bidfee = 0.75, infer PT's parameters\n",
      "> Now do SA....... \n",
      "\n"
     ]
    },
    {
     "name": "stderr",
     "output_type": "stream",
     "text": [
      " 52%|█████▏    | 669/1276 [3:39:55<1:04:53,  6.41s/it]"
     ]
    },
    {
     "name": "stdout",
     "output_type": "stream",
     "text": [
      "STOP CODE:  Stay unchanged in the last 6 iterations\n",
      "> SA ENDS....... \n",
      "\n",
      "> avg loss: 2.981888822502549\n",
      "> For the *669_th* data_key\n",
      "> retail = 42.99,bidincrement = 0.15, bidfee = 0.75, infer PT's parameters\n",
      "> Now do SA....... \n",
      "\n"
     ]
    },
    {
     "name": "stderr",
     "output_type": "stream",
     "text": [
      " 53%|█████▎    | 670/1276 [3:39:58<53:41,  5.32s/it]  "
     ]
    },
    {
     "name": "stdout",
     "output_type": "stream",
     "text": [
      "STOP CODE:  Stay unchanged in the last 6 iterations\n",
      "> SA ENDS....... \n",
      "\n",
      "> avg loss: 3.1333813243374657\n",
      "> For the *670_th* data_key\n",
      "> retail = 19.99,bidincrement = 0.15, bidfee = 0.75, infer PT's parameters\n",
      "> Now do SA....... \n",
      "\n"
     ]
    },
    {
     "name": "stderr",
     "output_type": "stream",
     "text": [
      " 53%|█████▎    | 671/1276 [3:40:01<45:45,  4.54s/it]"
     ]
    },
    {
     "name": "stdout",
     "output_type": "stream",
     "text": [
      "STOP CODE:  Stay unchanged in the last 6 iterations\n",
      "> SA ENDS....... \n",
      "\n",
      "> avg loss: 2.4332939248908443\n",
      "> For the *671_th* data_key\n",
      "> retail = 9.99,bidincrement = 0.15, bidfee = 0.75, infer PT's parameters\n",
      "> Now do SA....... \n",
      "\n"
     ]
    },
    {
     "name": "stderr",
     "output_type": "stream",
     "text": [
      " 53%|█████▎    | 672/1276 [3:40:02<36:16,  3.60s/it]"
     ]
    },
    {
     "name": "stdout",
     "output_type": "stream",
     "text": [
      "STOP CODE:  Stay unchanged in the last 6 iterations\n",
      "> SA ENDS....... \n",
      "\n",
      "> avg loss: 1.9694690737089038\n",
      "> For the *672_th* data_key\n",
      "> retail = 19.99,bidincrement = 0.15, bidfee = 0.75, infer PT's parameters\n",
      "> Now do SA....... \n",
      "\n"
     ]
    },
    {
     "name": "stderr",
     "output_type": "stream",
     "text": [
      " 53%|█████▎    | 673/1276 [3:40:05<33:57,  3.38s/it]"
     ]
    },
    {
     "name": "stdout",
     "output_type": "stream",
     "text": [
      "STOP CODE:  Stay unchanged in the last 6 iterations\n",
      "> SA ENDS....... \n",
      "\n",
      "> avg loss: 2.2720650293869658\n",
      "> For the *673_th* data_key\n",
      "> retail = 29.99,bidincrement = 0.15, bidfee = 0.75, infer PT's parameters\n",
      "> Now do SA....... \n",
      "\n"
     ]
    },
    {
     "name": "stderr",
     "output_type": "stream",
     "text": [
      " 53%|█████▎    | 674/1276 [3:40:11<41:19,  4.12s/it]"
     ]
    },
    {
     "name": "stdout",
     "output_type": "stream",
     "text": [
      "STOP CODE:  Stay unchanged in the last 6 iterations\n",
      "> SA ENDS....... \n",
      "\n",
      "> avg loss: 2.8439940193309075\n",
      "> For the *674_th* data_key\n",
      "> retail = 19.99,bidincrement = 0.15, bidfee = 0.75, infer PT's parameters\n",
      "> Now do SA....... \n",
      "\n"
     ]
    },
    {
     "name": "stderr",
     "output_type": "stream",
     "text": [
      " 53%|█████▎    | 675/1276 [3:40:14<39:03,  3.90s/it]"
     ]
    },
    {
     "name": "stdout",
     "output_type": "stream",
     "text": [
      "STOP CODE:  Stay unchanged in the last 6 iterations\n",
      "> SA ENDS....... \n",
      "\n",
      "> avg loss: 2.2754380607038365\n",
      "> For the *675_th* data_key\n",
      "> retail = 9.99,bidincrement = 0.15, bidfee = 0.75, infer PT's parameters\n",
      "> Now do SA....... \n",
      "\n"
     ]
    },
    {
     "name": "stderr",
     "output_type": "stream",
     "text": [
      " 53%|█████▎    | 676/1276 [3:40:17<33:52,  3.39s/it]"
     ]
    },
    {
     "name": "stdout",
     "output_type": "stream",
     "text": [
      "STOP CODE:  Stay unchanged in the last 6 iterations\n",
      "> SA ENDS....... \n",
      "\n",
      "> avg loss: 1.827538521947675\n",
      "> For the *676_th* data_key\n",
      "> retail = 459.68,bidincrement = 0.15, bidfee = 0.75, infer PT's parameters\n",
      "> Now do SA....... \n",
      "\n"
     ]
    },
    {
     "name": "stderr",
     "output_type": "stream",
     "text": [
      " 53%|█████▎    | 677/1276 [3:40:23<42:26,  4.25s/it]"
     ]
    },
    {
     "name": "stdout",
     "output_type": "stream",
     "text": [
      "STOP CODE:  Stay unchanged in the last 6 iterations\n",
      "> SA ENDS....... \n",
      "\n",
      "> avg loss: 23.02585084763637\n",
      "> For the *677_th* data_key\n",
      "> retail = 459.99,bidincrement = 0.15, bidfee = 0.75, infer PT's parameters\n",
      "> Now do SA....... \n",
      "\n"
     ]
    },
    {
     "name": "stderr",
     "output_type": "stream",
     "text": [
      " 53%|█████▎    | 678/1276 [3:40:38<1:14:53,  7.51s/it]"
     ]
    },
    {
     "name": "stdout",
     "output_type": "stream",
     "text": [
      "STOP CODE:  Stay unchanged in the last 6 iterations\n",
      "> SA ENDS....... \n",
      "\n",
      "> avg loss: 2.4881158093423736\n",
      "> For the *678_th* data_key\n",
      "> retail = 390.0,bidincrement = 0.15, bidfee = 0.75, infer PT's parameters\n",
      "> Now do SA....... \n",
      "\n"
     ]
    },
    {
     "name": "stderr",
     "output_type": "stream",
     "text": [
      " 53%|█████▎    | 679/1276 [3:40:53<1:36:05,  9.66s/it]"
     ]
    },
    {
     "name": "stdout",
     "output_type": "stream",
     "text": [
      "STOP CODE:  Stay unchanged in the last 6 iterations\n",
      "> SA ENDS....... \n",
      "\n",
      "> avg loss: 4.772034574471697\n",
      "> For the *679_th* data_key\n",
      "> retail = 331.19,bidincrement = 0.15, bidfee = 0.75, infer PT's parameters\n",
      "> Now do SA....... \n",
      "\n"
     ]
    },
    {
     "name": "stderr",
     "output_type": "stream",
     "text": [
      " 53%|█████▎    | 680/1276 [3:40:59<1:27:21,  8.80s/it]"
     ]
    },
    {
     "name": "stdout",
     "output_type": "stream",
     "text": [
      "STOP CODE:  Stay unchanged in the last 6 iterations\n",
      "> SA ENDS....... \n",
      "\n",
      "> avg loss: 22.99955906679599\n",
      "> For the *680_th* data_key\n",
      "> retail = 207.49,bidincrement = 0.15, bidfee = 0.75, infer PT's parameters\n",
      "> Now do SA....... \n",
      "\n"
     ]
    },
    {
     "name": "stderr",
     "output_type": "stream",
     "text": [
      " 53%|█████▎    | 681/1276 [3:41:03<1:12:58,  7.36s/it]"
     ]
    },
    {
     "name": "stdout",
     "output_type": "stream",
     "text": [
      "STOP CODE:  Stay unchanged in the last 6 iterations\n",
      "> SA ENDS....... \n",
      "\n",
      "> avg loss: 2.6453912762226586\n",
      "> For the *681_th* data_key\n",
      "> retail = 207.49,bidincrement = 0.15, bidfee = 0.75, infer PT's parameters\n",
      "> Now do SA....... \n",
      "\n"
     ]
    },
    {
     "name": "stderr",
     "output_type": "stream",
     "text": [
      " 53%|█████▎    | 682/1276 [3:41:07<1:01:10,  6.18s/it]"
     ]
    },
    {
     "name": "stdout",
     "output_type": "stream",
     "text": [
      "STOP CODE:  Stay unchanged in the last 6 iterations\n",
      "> SA ENDS....... \n",
      "\n",
      "> avg loss: 23.025850847674306\n",
      "> For the *682_th* data_key\n",
      "> retail = 144.99,bidincrement = 0.15, bidfee = 0.75, infer PT's parameters\n",
      "> Now do SA....... \n",
      "\n"
     ]
    },
    {
     "name": "stderr",
     "output_type": "stream",
     "text": [
      " 54%|█████▎    | 683/1276 [3:41:11<53:47,  5.44s/it]  "
     ]
    },
    {
     "name": "stdout",
     "output_type": "stream",
     "text": [
      "STOP CODE:  Stay unchanged in the last 6 iterations\n",
      "> SA ENDS....... \n",
      "\n",
      "> avg loss: 3.29473309988863\n",
      "> For the *683_th* data_key\n",
      "> retail = 1046.06,bidincrement = 0.01, bidfee = 0.75, infer PT's parameters\n",
      "> Now do SA....... \n",
      "\n"
     ]
    },
    {
     "name": "stderr",
     "output_type": "stream",
     "text": [
      " 54%|█████▎    | 684/1276 [3:43:13<6:39:10, 40.46s/it]"
     ]
    },
    {
     "name": "stdout",
     "output_type": "stream",
     "text": [
      "> 超时\n",
      "> SA ENDS....... \n",
      "\n",
      "> avg loss: 23.025851000058207\n",
      "> For the *684_th* data_key\n",
      "> retail = 49.99,bidincrement = 0.15, bidfee = 0.75, infer PT's parameters\n",
      "> Now do SA....... \n",
      "\n"
     ]
    },
    {
     "name": "stderr",
     "output_type": "stream",
     "text": [
      " 54%|█████▎    | 685/1276 [3:43:16<4:47:27, 29.18s/it]"
     ]
    },
    {
     "name": "stdout",
     "output_type": "stream",
     "text": [
      "STOP CODE:  Stay unchanged in the last 6 iterations\n",
      "> SA ENDS....... \n",
      "\n",
      "> avg loss: 2.908642731321637\n",
      "> For the *685_th* data_key\n",
      "> retail = 30.99,bidincrement = 0.15, bidfee = 0.75, infer PT's parameters\n",
      "> Now do SA....... \n",
      "\n"
     ]
    },
    {
     "name": "stderr",
     "output_type": "stream",
     "text": [
      " 54%|█████▍    | 686/1276 [3:43:19<3:32:11, 21.58s/it]"
     ]
    },
    {
     "name": "stdout",
     "output_type": "stream",
     "text": [
      "STOP CODE:  Stay unchanged in the last 6 iterations\n",
      "> SA ENDS....... \n",
      "\n",
      "> avg loss: 2.662030390500784\n",
      "> For the *686_th* data_key\n",
      "> retail = 34.27,bidincrement = 0.15, bidfee = 0.75, infer PT's parameters\n",
      "> Now do SA....... \n",
      "\n"
     ]
    },
    {
     "name": "stderr",
     "output_type": "stream",
     "text": [
      " 54%|█████▍    | 687/1276 [3:43:22<2:35:53, 15.88s/it]"
     ]
    },
    {
     "name": "stdout",
     "output_type": "stream",
     "text": [
      "STOP CODE:  Stay unchanged in the last 6 iterations\n",
      "> SA ENDS....... \n",
      "\n",
      "> avg loss: 2.9291943793377375\n",
      "> For the *687_th* data_key\n",
      "> retail = 19.99,bidincrement = 0.15, bidfee = 0.75, infer PT's parameters\n",
      "> Now do SA....... \n",
      "\n"
     ]
    },
    {
     "name": "stderr",
     "output_type": "stream",
     "text": [
      " 54%|█████▍    | 688/1276 [3:43:23<1:51:59, 11.43s/it]"
     ]
    },
    {
     "name": "stdout",
     "output_type": "stream",
     "text": [
      "STOP CODE:  Stay unchanged in the last 6 iterations\n",
      "> SA ENDS....... \n",
      "\n",
      "> avg loss: 2.3202443876872967\n",
      "> For the *688_th* data_key\n",
      "> retail = 56.0,bidincrement = 0.15, bidfee = 0.75, infer PT's parameters\n",
      "> Now do SA....... \n",
      "\n"
     ]
    },
    {
     "name": "stderr",
     "output_type": "stream",
     "text": [
      " 54%|█████▍    | 689/1276 [3:43:26<1:26:12,  8.81s/it]"
     ]
    },
    {
     "name": "stdout",
     "output_type": "stream",
     "text": [
      "STOP CODE:  Stay unchanged in the last 6 iterations\n",
      "> SA ENDS....... \n",
      "\n",
      "> avg loss: 3.22944463808762\n",
      "> For the *689_th* data_key\n",
      "> retail = 29.99,bidincrement = 0.15, bidfee = 0.75, infer PT's parameters\n",
      "> Now do SA....... \n",
      "\n"
     ]
    },
    {
     "name": "stderr",
     "output_type": "stream",
     "text": [
      " 54%|█████▍    | 690/1276 [3:43:31<1:15:00,  7.68s/it]"
     ]
    },
    {
     "name": "stdout",
     "output_type": "stream",
     "text": [
      "STOP CODE:  Stay unchanged in the last 6 iterations\n",
      "> SA ENDS....... \n",
      "\n",
      "> avg loss: 2.405613554885886\n",
      "> For the *690_th* data_key\n",
      "> retail = 29.99,bidincrement = 0.15, bidfee = 0.75, infer PT's parameters\n",
      "> Now do SA....... \n",
      "\n"
     ]
    },
    {
     "name": "stderr",
     "output_type": "stream",
     "text": [
      " 54%|█████▍    | 691/1276 [3:43:33<1:00:18,  6.19s/it]"
     ]
    },
    {
     "name": "stdout",
     "output_type": "stream",
     "text": [
      "STOP CODE:  Stay unchanged in the last 6 iterations\n",
      "> SA ENDS....... \n",
      "\n",
      "> avg loss: 2.9466203801826176\n",
      "> For the *691_th* data_key\n",
      "> retail = 199.99,bidincrement = 0.15, bidfee = 0.75, infer PT's parameters\n",
      "> Now do SA....... \n",
      "\n"
     ]
    },
    {
     "name": "stderr",
     "output_type": "stream",
     "text": [
      " 54%|█████▍    | 692/1276 [3:43:37<51:12,  5.26s/it]  "
     ]
    },
    {
     "name": "stdout",
     "output_type": "stream",
     "text": [
      "STOP CODE:  Stay unchanged in the last 6 iterations\n",
      "> SA ENDS....... \n",
      "\n",
      "> avg loss: 23.025850847509485\n",
      "> For the *692_th* data_key\n",
      "> retail = 16.37,bidincrement = 0.15, bidfee = 0.75, infer PT's parameters\n",
      "> Now do SA....... \n",
      "\n"
     ]
    },
    {
     "name": "stderr",
     "output_type": "stream",
     "text": [
      " 54%|█████▍    | 693/1276 [3:43:41<48:31,  4.99s/it]"
     ]
    },
    {
     "name": "stdout",
     "output_type": "stream",
     "text": [
      "STOP CODE:  Stay unchanged in the last 6 iterations\n",
      "> SA ENDS....... \n",
      "\n",
      "> avg loss: 2.494537509369413\n",
      "> For the *693_th* data_key\n",
      "> retail = 19.99,bidincrement = 0.15, bidfee = 0.75, infer PT's parameters\n",
      "> Now do SA....... \n",
      "\n"
     ]
    },
    {
     "name": "stderr",
     "output_type": "stream",
     "text": [
      " 54%|█████▍    | 694/1276 [3:43:43<40:16,  4.15s/it]"
     ]
    },
    {
     "name": "stdout",
     "output_type": "stream",
     "text": [
      "STOP CODE:  Stay unchanged in the last 6 iterations\n",
      "> SA ENDS....... \n",
      "\n",
      "> avg loss: 2.0877714996629906\n",
      "> For the *694_th* data_key\n",
      "> retail = 10.0,bidincrement = 0.15, bidfee = 0.75, infer PT's parameters\n",
      "> Now do SA....... \n",
      "\n"
     ]
    },
    {
     "name": "stderr",
     "output_type": "stream",
     "text": [
      " 54%|█████▍    | 695/1276 [3:43:45<32:13,  3.33s/it]"
     ]
    },
    {
     "name": "stdout",
     "output_type": "stream",
     "text": [
      "STOP CODE:  Stay unchanged in the last 6 iterations\n",
      "> SA ENDS....... \n",
      "\n",
      "> avg loss: 1.873654161663578\n",
      "> For the *695_th* data_key\n",
      "> retail = 10.0,bidincrement = 0.15, bidfee = 0.75, infer PT's parameters\n",
      "> Now do SA....... \n",
      "\n"
     ]
    },
    {
     "name": "stderr",
     "output_type": "stream",
     "text": [
      " 55%|█████▍    | 696/1276 [3:43:47<30:25,  3.15s/it]"
     ]
    },
    {
     "name": "stdout",
     "output_type": "stream",
     "text": [
      "STOP CODE:  Stay unchanged in the last 6 iterations\n",
      "> SA ENDS....... \n",
      "\n",
      "> avg loss: 2.119364618253637\n",
      "> For the *696_th* data_key\n",
      "> retail = 59.95,bidincrement = 0.15, bidfee = 0.75, infer PT's parameters\n",
      "> Now do SA....... \n",
      "\n"
     ]
    },
    {
     "name": "stderr",
     "output_type": "stream",
     "text": [
      " 55%|█████▍    | 697/1276 [3:43:55<43:03,  4.46s/it]"
     ]
    },
    {
     "name": "stdout",
     "output_type": "stream",
     "text": [
      "STOP CODE:  Stay unchanged in the last 6 iterations\n",
      "> SA ENDS....... \n",
      "\n",
      "> avg loss: 3.7209359924164467\n",
      "> For the *697_th* data_key\n",
      "> retail = 49.99,bidincrement = 0.15, bidfee = 0.75, infer PT's parameters\n",
      "> Now do SA....... \n",
      "\n"
     ]
    },
    {
     "name": "stderr",
     "output_type": "stream",
     "text": [
      " 55%|█████▍    | 698/1276 [3:44:00<45:58,  4.77s/it]"
     ]
    },
    {
     "name": "stdout",
     "output_type": "stream",
     "text": [
      "STOP CODE:  Stay unchanged in the last 6 iterations\n",
      "> SA ENDS....... \n",
      "\n",
      "> avg loss: 2.8158838374680752\n",
      "> For the *698_th* data_key\n",
      "> retail = 48.99,bidincrement = 0.15, bidfee = 0.75, infer PT's parameters\n",
      "> Now do SA....... \n",
      "\n"
     ]
    },
    {
     "name": "stderr",
     "output_type": "stream",
     "text": [
      " 55%|█████▍    | 699/1276 [3:44:03<39:35,  4.12s/it]"
     ]
    },
    {
     "name": "stdout",
     "output_type": "stream",
     "text": [
      "STOP CODE:  Stay unchanged in the last 6 iterations\n",
      "> SA ENDS....... \n",
      "\n",
      "> avg loss: 2.5570112039561703\n",
      "> For the *699_th* data_key\n",
      "> retail = 699.0,bidincrement = 0.01, bidfee = 0.75, infer PT's parameters\n",
      "> Now do SA....... \n",
      "\n"
     ]
    },
    {
     "name": "stderr",
     "output_type": "stream",
     "text": [
      " 55%|█████▍    | 700/1276 [3:46:04<6:16:50, 39.25s/it]"
     ]
    },
    {
     "name": "stdout",
     "output_type": "stream",
     "text": [
      "> 超时\n",
      "> SA ENDS....... \n",
      "\n",
      "> avg loss: 23.02585093155896\n",
      "> For the *700_th* data_key\n",
      "> retail = 699.0,bidincrement = 0.01, bidfee = 0.75, infer PT's parameters\n",
      "> Now do SA....... \n",
      "\n"
     ]
    },
    {
     "name": "stderr",
     "output_type": "stream",
     "text": [
      " 55%|█████▍    | 701/1276 [3:48:05<10:11:52, 63.85s/it]"
     ]
    },
    {
     "name": "stdout",
     "output_type": "stream",
     "text": [
      "> 超时\n",
      "> SA ENDS....... \n",
      "\n",
      "> avg loss: 23.025850939135164\n",
      "> For the *701_th* data_key\n",
      "> retail = 169.99,bidincrement = 0.12, bidfee = 0.6, infer PT's parameters\n",
      "> Now do SA....... \n",
      "\n"
     ]
    },
    {
     "name": "stderr",
     "output_type": "stream",
     "text": [
      " 55%|█████▌    | 702/1276 [3:48:13<7:28:39, 46.90s/it] "
     ]
    },
    {
     "name": "stdout",
     "output_type": "stream",
     "text": [
      "STOP CODE:  Stay unchanged in the last 6 iterations\n",
      "> SA ENDS....... \n",
      "\n",
      "> avg loss: 6.45123242214061\n",
      "> For the *702_th* data_key\n",
      "> retail = 249.99,bidincrement = 0.12, bidfee = 0.6, infer PT's parameters\n",
      "> Now do SA....... \n",
      "\n"
     ]
    },
    {
     "name": "stderr",
     "output_type": "stream",
     "text": [
      " 55%|█████▌    | 703/1276 [3:48:24<5:45:10, 36.14s/it]"
     ]
    },
    {
     "name": "stdout",
     "output_type": "stream",
     "text": [
      "STOP CODE:  Stay unchanged in the last 6 iterations\n",
      "> SA ENDS....... \n",
      "\n",
      "> avg loss: 6.912557487993244\n",
      "> For the *703_th* data_key\n",
      "> retail = 169.99,bidincrement = 0.12, bidfee = 0.6, infer PT's parameters\n",
      "> Now do SA....... \n",
      "\n"
     ]
    },
    {
     "name": "stderr",
     "output_type": "stream",
     "text": [
      " 55%|█████▌    | 704/1276 [3:48:32<4:25:42, 27.87s/it]"
     ]
    },
    {
     "name": "stdout",
     "output_type": "stream",
     "text": [
      "STOP CODE:  Stay unchanged in the last 6 iterations\n",
      "> SA ENDS....... \n",
      "\n",
      "> avg loss: 6.465364194332086\n",
      "> For the *704_th* data_key\n",
      "> retail = 24.99,bidincrement = 0.12, bidfee = 0.6, infer PT's parameters\n",
      "> Now do SA....... \n",
      "\n"
     ]
    },
    {
     "name": "stderr",
     "output_type": "stream",
     "text": [
      " 55%|█████▌    | 705/1276 [3:48:36<3:16:05, 20.60s/it]"
     ]
    },
    {
     "name": "stdout",
     "output_type": "stream",
     "text": [
      "STOP CODE:  Stay unchanged in the last 6 iterations\n",
      "> SA ENDS....... \n",
      "\n",
      "> avg loss: 4.511127451680835\n",
      "> For the *705_th* data_key\n",
      "> retail = 25.0,bidincrement = 0.01, bidfee = 0.75, infer PT's parameters\n",
      "> Now do SA....... \n",
      "\n"
     ]
    },
    {
     "name": "stderr",
     "output_type": "stream",
     "text": [
      " 55%|█████▌    | 706/1276 [3:48:43<2:36:45, 16.50s/it]"
     ]
    },
    {
     "name": "stdout",
     "output_type": "stream",
     "text": [
      "STOP CODE:  Stay unchanged in the last 6 iterations\n",
      "> SA ENDS....... \n",
      "\n",
      "> avg loss: 4.619159592340424\n",
      "> For the *706_th* data_key\n",
      "> retail = 150.0,bidincrement = 0.01, bidfee = 0.75, infer PT's parameters\n",
      "> Now do SA....... \n",
      "\n"
     ]
    },
    {
     "name": "stderr",
     "output_type": "stream",
     "text": [
      " 55%|█████▌    | 707/1276 [3:49:48<4:55:51, 31.20s/it]"
     ]
    },
    {
     "name": "stdout",
     "output_type": "stream",
     "text": [
      "STOP CODE:  Stay unchanged in the last 6 iterations\n",
      "> SA ENDS....... \n",
      "\n",
      "> avg loss: 6.337394236258296\n",
      "> For the *707_th* data_key\n",
      "> retail = 10.0,bidincrement = 0.01, bidfee = 0.75, infer PT's parameters\n",
      "> Now do SA....... \n",
      "\n"
     ]
    },
    {
     "name": "stderr",
     "output_type": "stream",
     "text": [
      " 55%|█████▌    | 708/1276 [3:49:52<3:37:47, 23.01s/it]"
     ]
    },
    {
     "name": "stdout",
     "output_type": "stream",
     "text": [
      "STOP CODE:  Stay unchanged in the last 6 iterations\n",
      "> SA ENDS....... \n",
      "\n",
      "> avg loss: 3.58546386529085\n",
      "> For the *708_th* data_key\n",
      "> retail = 37.5,bidincrement = 0.01, bidfee = 0.6, infer PT's parameters\n",
      "> Now do SA....... \n",
      "\n"
     ]
    },
    {
     "name": "stderr",
     "output_type": "stream",
     "text": [
      " 56%|█████▌    | 709/1276 [3:50:09<3:19:52, 21.15s/it]"
     ]
    },
    {
     "name": "stdout",
     "output_type": "stream",
     "text": [
      "STOP CODE:  Stay unchanged in the last 6 iterations\n",
      "> SA ENDS....... \n",
      "\n",
      "> avg loss: 5.300374720189289\n",
      "> For the *709_th* data_key\n",
      "> retail = 225.0,bidincrement = 0.01, bidfee = 0.6, infer PT's parameters\n",
      "> Now do SA....... \n",
      "\n"
     ]
    },
    {
     "name": "stderr",
     "output_type": "stream",
     "text": [
      " 56%|█████▌    | 710/1276 [3:50:50<4:16:11, 27.16s/it]"
     ]
    },
    {
     "name": "stdout",
     "output_type": "stream",
     "text": [
      "STOP CODE:  Stay unchanged in the last 6 iterations\n",
      "> SA ENDS....... \n",
      "\n",
      "> avg loss: 23.02585088627223\n",
      "> For the *710_th* data_key\n",
      "> retail = 180.0,bidincrement = 0.01, bidfee = 0.6, infer PT's parameters\n",
      "> Now do SA....... \n",
      "\n"
     ]
    },
    {
     "name": "stderr",
     "output_type": "stream",
     "text": [
      " 56%|█████▌    | 711/1276 [3:52:02<6:21:35, 40.52s/it]"
     ]
    },
    {
     "name": "stdout",
     "output_type": "stream",
     "text": [
      "STOP CODE:  Stay unchanged in the last 6 iterations\n",
      "> SA ENDS....... \n",
      "\n",
      "> avg loss: 6.63596910880684\n",
      "> For the *711_th* data_key\n",
      "> retail = 12.0,bidincrement = 0.12, bidfee = 0.6, infer PT's parameters\n",
      "> Now do SA....... \n",
      "\n"
     ]
    },
    {
     "name": "stderr",
     "output_type": "stream",
     "text": [
      " 56%|█████▌    | 712/1276 [3:52:05<4:34:44, 29.23s/it]"
     ]
    },
    {
     "name": "stdout",
     "output_type": "stream",
     "text": [
      "STOP CODE:  Stay unchanged in the last 6 iterations\n",
      "> SA ENDS....... \n",
      "\n",
      "> avg loss: 3.798909878189059\n",
      "> For the *712_th* data_key\n",
      "> retail = 12.0,bidincrement = 0.01, bidfee = 0.6, infer PT's parameters\n",
      "> Now do SA....... \n",
      "\n"
     ]
    },
    {
     "name": "stderr",
     "output_type": "stream",
     "text": [
      " 56%|█████▌    | 713/1276 [3:52:12<3:32:16, 22.62s/it]"
     ]
    },
    {
     "name": "stdout",
     "output_type": "stream",
     "text": [
      "STOP CODE:  Stay unchanged in the last 6 iterations\n",
      "> SA ENDS....... \n",
      "\n",
      "> avg loss: 3.9842551200617944\n",
      "> For the *713_th* data_key\n",
      "> retail = 49.99,bidincrement = 0.12, bidfee = 0.6, infer PT's parameters\n",
      "> Now do SA....... \n",
      "\n"
     ]
    },
    {
     "name": "stderr",
     "output_type": "stream",
     "text": [
      " 56%|█████▌    | 714/1276 [3:52:15<2:37:37, 16.83s/it]"
     ]
    },
    {
     "name": "stdout",
     "output_type": "stream",
     "text": [
      "STOP CODE:  Stay unchanged in the last 6 iterations\n",
      "> SA ENDS....... \n",
      "\n",
      "> avg loss: 5.245974928640724\n",
      "> For the *714_th* data_key\n",
      "> retail = 59.99,bidincrement = 0.12, bidfee = 0.6, infer PT's parameters\n",
      "> Now do SA....... \n",
      "\n"
     ]
    },
    {
     "name": "stderr",
     "output_type": "stream",
     "text": [
      " 56%|█████▌    | 715/1276 [3:52:18<1:58:23, 12.66s/it]"
     ]
    },
    {
     "name": "stdout",
     "output_type": "stream",
     "text": [
      "STOP CODE:  Stay unchanged in the last 6 iterations\n",
      "> SA ENDS....... \n",
      "\n",
      "> avg loss: 5.4572617851234515\n",
      "> For the *715_th* data_key\n",
      "> retail = 19.99,bidincrement = 0.12, bidfee = 0.6, infer PT's parameters\n",
      "> Now do SA....... \n",
      "\n"
     ]
    },
    {
     "name": "stderr",
     "output_type": "stream",
     "text": [
      " 56%|█████▌    | 716/1276 [3:52:19<1:25:57,  9.21s/it]"
     ]
    },
    {
     "name": "stdout",
     "output_type": "stream",
     "text": [
      "STOP CODE:  Stay unchanged in the last 6 iterations\n",
      "> SA ENDS....... \n",
      "\n",
      "> avg loss: 4.231331941795747\n",
      "> For the *716_th* data_key\n",
      "> retail = 89.99,bidincrement = 0.12, bidfee = 0.6, infer PT's parameters\n",
      "> Now do SA....... \n",
      "\n"
     ]
    },
    {
     "name": "stderr",
     "output_type": "stream",
     "text": [
      " 56%|█████▌    | 717/1276 [3:52:23<1:10:40,  7.59s/it]"
     ]
    },
    {
     "name": "stdout",
     "output_type": "stream",
     "text": [
      "STOP CODE:  Stay unchanged in the last 6 iterations\n",
      "> SA ENDS....... \n",
      "\n",
      "> avg loss: 5.79714638429301\n",
      "> For the *717_th* data_key\n",
      "> retail = 399.99,bidincrement = 0.12, bidfee = 0.6, infer PT's parameters\n",
      "> Now do SA....... \n",
      "\n"
     ]
    },
    {
     "name": "stderr",
     "output_type": "stream",
     "text": [
      " 56%|█████▋    | 718/1276 [3:52:37<1:27:59,  9.46s/it]"
     ]
    },
    {
     "name": "stdout",
     "output_type": "stream",
     "text": [
      "STOP CODE:  Stay unchanged in the last 6 iterations\n",
      "> SA ENDS....... \n",
      "\n",
      "> avg loss: 22.984173547328204\n",
      "> For the *718_th* data_key\n",
      "> retail = 459.99,bidincrement = 0.12, bidfee = 0.6, infer PT's parameters\n",
      "> Now do SA....... \n",
      "\n"
     ]
    },
    {
     "name": "stderr",
     "output_type": "stream",
     "text": [
      " 56%|█████▋    | 719/1276 [3:52:54<1:49:19, 11.78s/it]"
     ]
    },
    {
     "name": "stdout",
     "output_type": "stream",
     "text": [
      "STOP CODE:  Stay unchanged in the last 6 iterations\n",
      "> SA ENDS....... \n",
      "\n",
      "> avg loss: 7.399833344392078\n",
      "> For the *719_th* data_key\n",
      "> retail = 56.25,bidincrement = 0.01, bidfee = 0.75, infer PT's parameters\n",
      "> Now do SA....... \n",
      "\n"
     ]
    },
    {
     "name": "stderr",
     "output_type": "stream",
     "text": [
      " 56%|█████▋    | 720/1276 [3:53:32<3:00:12, 19.45s/it]"
     ]
    },
    {
     "name": "stdout",
     "output_type": "stream",
     "text": [
      "STOP CODE:  Stay unchanged in the last 6 iterations\n",
      "> SA ENDS....... \n",
      "\n",
      "> avg loss: 5.351420413136281\n",
      "> For the *720_th* data_key\n",
      "> retail = 119.99,bidincrement = 0.12, bidfee = 0.6, infer PT's parameters\n",
      "> Now do SA....... \n",
      "\n"
     ]
    },
    {
     "name": "stderr",
     "output_type": "stream",
     "text": [
      " 57%|█████▋    | 721/1276 [3:53:39<2:26:02, 15.79s/it]"
     ]
    },
    {
     "name": "stdout",
     "output_type": "stream",
     "text": [
      "STOP CODE:  Stay unchanged in the last 6 iterations\n",
      "> SA ENDS....... \n",
      "\n",
      "> avg loss: 6.130230799981842\n",
      "> For the *721_th* data_key\n",
      "> retail = 47.99,bidincrement = 0.12, bidfee = 0.6, infer PT's parameters\n",
      "> Now do SA....... \n",
      "\n"
     ]
    },
    {
     "name": "stderr",
     "output_type": "stream",
     "text": [
      " 57%|█████▋    | 722/1276 [3:53:43<1:52:03, 12.14s/it]"
     ]
    },
    {
     "name": "stdout",
     "output_type": "stream",
     "text": [
      "STOP CODE:  Stay unchanged in the last 6 iterations\n",
      "> SA ENDS....... \n",
      "\n",
      "> avg loss: 5.171047783332642\n",
      "> For the *722_th* data_key\n",
      "> retail = 119.99,bidincrement = 0.12, bidfee = 0.6, infer PT's parameters\n",
      "> Now do SA....... \n",
      "\n"
     ]
    },
    {
     "name": "stderr",
     "output_type": "stream",
     "text": [
      " 57%|█████▋    | 723/1276 [3:53:48<1:34:29, 10.25s/it]"
     ]
    },
    {
     "name": "stdout",
     "output_type": "stream",
     "text": [
      "STOP CODE:  Stay unchanged in the last 6 iterations\n",
      "> SA ENDS....... \n",
      "\n",
      "> avg loss: 6.142618133950903\n",
      "> For the *723_th* data_key\n",
      "> retail = 68.99,bidincrement = 0.12, bidfee = 0.6, infer PT's parameters\n",
      "> Now do SA....... \n",
      "\n"
     ]
    },
    {
     "name": "stderr",
     "output_type": "stream",
     "text": [
      " 57%|█████▋    | 724/1276 [3:53:53<1:18:41,  8.55s/it]"
     ]
    },
    {
     "name": "stdout",
     "output_type": "stream",
     "text": [
      "STOP CODE:  Stay unchanged in the last 6 iterations\n",
      "> SA ENDS....... \n",
      "\n",
      "> avg loss: 5.5927963616075855\n",
      "> For the *724_th* data_key\n",
      "> retail = 144.99,bidincrement = 0.12, bidfee = 0.6, infer PT's parameters\n",
      "> Now do SA....... \n",
      "\n"
     ]
    },
    {
     "name": "stderr",
     "output_type": "stream",
     "text": [
      " 57%|█████▋    | 725/1276 [3:53:58<1:09:37,  7.58s/it]"
     ]
    },
    {
     "name": "stdout",
     "output_type": "stream",
     "text": [
      "STOP CODE:  Stay unchanged in the last 6 iterations\n",
      "> SA ENDS....... \n",
      "\n",
      "> avg loss: 6.341515635040465\n",
      "> For the *725_th* data_key\n",
      "> retail = 30.99,bidincrement = 0.12, bidfee = 0.6, infer PT's parameters\n",
      "> Now do SA....... \n",
      "\n"
     ]
    },
    {
     "name": "stderr",
     "output_type": "stream",
     "text": [
      " 57%|█████▋    | 726/1276 [3:54:01<55:24,  6.04s/it]  "
     ]
    },
    {
     "name": "stdout",
     "output_type": "stream",
     "text": [
      "STOP CODE:  Stay unchanged in the last 6 iterations\n",
      "> SA ENDS....... \n",
      "\n",
      "> avg loss: 4.80027305878602\n",
      "> For the *726_th* data_key\n",
      "> retail = 29.99,bidincrement = 0.12, bidfee = 0.6, infer PT's parameters\n",
      "> Now do SA....... \n",
      "\n"
     ]
    },
    {
     "name": "stderr",
     "output_type": "stream",
     "text": [
      " 57%|█████▋    | 727/1276 [3:54:03<44:25,  4.86s/it]"
     ]
    },
    {
     "name": "stdout",
     "output_type": "stream",
     "text": [
      "STOP CODE:  Stay unchanged in the last 6 iterations\n",
      "> SA ENDS....... \n",
      "\n",
      "> avg loss: 4.697769549723191\n",
      "> For the *727_th* data_key\n",
      "> retail = 229.0,bidincrement = 0.12, bidfee = 0.6, infer PT's parameters\n",
      "> Now do SA....... \n",
      "\n"
     ]
    },
    {
     "name": "stderr",
     "output_type": "stream",
     "text": [
      " 57%|█████▋    | 728/1276 [3:54:21<1:20:55,  8.86s/it]"
     ]
    },
    {
     "name": "stdout",
     "output_type": "stream",
     "text": [
      "STOP CODE:  Stay unchanged in the last 6 iterations\n",
      "> SA ENDS....... \n",
      "\n",
      "> avg loss: 6.7655845431287185\n",
      "> For the *728_th* data_key\n",
      "> retail = 140.0,bidincrement = 0.12, bidfee = 0.6, infer PT's parameters\n",
      "> Now do SA....... \n",
      "\n"
     ]
    },
    {
     "name": "stderr",
     "output_type": "stream",
     "text": [
      " 57%|█████▋    | 729/1276 [3:54:31<1:22:54,  9.09s/it]"
     ]
    },
    {
     "name": "stdout",
     "output_type": "stream",
     "text": [
      "STOP CODE:  Stay unchanged in the last 6 iterations\n",
      "> SA ENDS....... \n",
      "\n",
      "> avg loss: 6.2312247053942835\n",
      "> For the *729_th* data_key\n",
      "> retail = 16.37,bidincrement = 0.12, bidfee = 0.6, infer PT's parameters\n",
      "> Now do SA....... \n",
      "\n"
     ]
    },
    {
     "name": "stderr",
     "output_type": "stream",
     "text": [
      " 57%|█████▋    | 730/1276 [3:54:34<1:06:35,  7.32s/it]"
     ]
    },
    {
     "name": "stdout",
     "output_type": "stream",
     "text": [
      "STOP CODE:  Stay unchanged in the last 6 iterations\n",
      "> SA ENDS....... \n",
      "\n",
      "> avg loss: 4.091973321100244\n",
      "> For the *730_th* data_key\n",
      "> retail = 19.99,bidincrement = 0.12, bidfee = 0.6, infer PT's parameters\n",
      "> Now do SA....... \n",
      "\n"
     ]
    },
    {
     "name": "stderr",
     "output_type": "stream",
     "text": [
      " 57%|█████▋    | 731/1276 [3:54:37<54:02,  5.95s/it]  "
     ]
    },
    {
     "name": "stdout",
     "output_type": "stream",
     "text": [
      "STOP CODE:  Stay unchanged in the last 6 iterations\n",
      "> SA ENDS....... \n",
      "\n",
      "> avg loss: 4.3034879745145975\n",
      "> For the *731_th* data_key\n",
      "> retail = 10.0,bidincrement = 0.12, bidfee = 0.6, infer PT's parameters\n",
      "> Now do SA....... \n",
      "\n"
     ]
    },
    {
     "name": "stderr",
     "output_type": "stream",
     "text": [
      " 57%|█████▋    | 732/1276 [3:54:38<41:50,  4.62s/it]"
     ]
    },
    {
     "name": "stdout",
     "output_type": "stream",
     "text": [
      "STOP CODE:  Stay unchanged in the last 6 iterations\n",
      "> SA ENDS....... \n",
      "\n",
      "> avg loss: 3.6307620191991186\n",
      "> For the *732_th* data_key\n",
      "> retail = 222.0,bidincrement = 0.12, bidfee = 0.6, infer PT's parameters\n",
      "> Now do SA....... \n",
      "\n"
     ]
    },
    {
     "name": "stderr",
     "output_type": "stream",
     "text": [
      " 57%|█████▋    | 733/1276 [3:54:48<55:04,  6.08s/it]"
     ]
    },
    {
     "name": "stdout",
     "output_type": "stream",
     "text": [
      "STOP CODE:  Stay unchanged in the last 6 iterations\n",
      "> SA ENDS....... \n",
      "\n",
      "> avg loss: 6.749838428301646\n",
      "> For the *733_th* data_key\n",
      "> retail = 56.25,bidincrement = 0.01, bidfee = 0.6, infer PT's parameters\n",
      "> Now do SA....... \n",
      "\n"
     ]
    },
    {
     "name": "stderr",
     "output_type": "stream",
     "text": [
      " 58%|█████▊    | 734/1276 [3:55:17<1:59:10, 13.19s/it]"
     ]
    },
    {
     "name": "stdout",
     "output_type": "stream",
     "text": [
      "STOP CODE:  Stay unchanged in the last 6 iterations\n",
      "> SA ENDS....... \n",
      "\n",
      "> avg loss: 5.585817282710063\n",
      "> For the *734_th* data_key\n",
      "> retail = 46.99,bidincrement = 0.12, bidfee = 0.6, infer PT's parameters\n",
      "> Now do SA....... \n",
      "\n"
     ]
    },
    {
     "name": "stderr",
     "output_type": "stream",
     "text": [
      " 58%|█████▊    | 735/1276 [3:55:20<1:30:16, 10.01s/it]"
     ]
    },
    {
     "name": "stdout",
     "output_type": "stream",
     "text": [
      "STOP CODE:  Stay unchanged in the last 6 iterations\n",
      "> SA ENDS....... \n",
      "\n",
      "> avg loss: 5.167868163617101\n",
      "> For the *735_th* data_key\n",
      "> retail = 46.99,bidincrement = 0.12, bidfee = 0.6, infer PT's parameters\n",
      "> Now do SA....... \n",
      "\n"
     ]
    },
    {
     "name": "stderr",
     "output_type": "stream",
     "text": [
      " 58%|█████▊    | 736/1276 [3:55:25<1:15:29,  8.39s/it]"
     ]
    },
    {
     "name": "stdout",
     "output_type": "stream",
     "text": [
      "STOP CODE:  Stay unchanged in the last 6 iterations\n",
      "> SA ENDS....... \n",
      "\n",
      "> avg loss: 5.204687998491485\n",
      "> For the *736_th* data_key\n",
      "> retail = 64.12,bidincrement = 0.12, bidfee = 0.6, infer PT's parameters\n",
      "> Now do SA....... \n",
      "\n"
     ]
    },
    {
     "name": "stderr",
     "output_type": "stream",
     "text": [
      " 58%|█████▊    | 737/1276 [3:55:31<1:10:30,  7.85s/it]"
     ]
    },
    {
     "name": "stdout",
     "output_type": "stream",
     "text": [
      "STOP CODE:  Stay unchanged in the last 6 iterations\n",
      "> SA ENDS....... \n",
      "\n",
      "> avg loss: 5.473663300725632\n",
      "> For the *737_th* data_key\n",
      "> retail = 36.99,bidincrement = 0.12, bidfee = 0.6, infer PT's parameters\n",
      "> Now do SA....... \n",
      "\n"
     ]
    },
    {
     "name": "stderr",
     "output_type": "stream",
     "text": [
      " 58%|█████▊    | 738/1276 [3:55:35<58:36,  6.54s/it]  "
     ]
    },
    {
     "name": "stdout",
     "output_type": "stream",
     "text": [
      "STOP CODE:  Stay unchanged in the last 6 iterations\n",
      "> SA ENDS....... \n",
      "\n",
      "> avg loss: 4.917510544338494\n",
      "> For the *738_th* data_key\n",
      "> retail = 27.99,bidincrement = 0.12, bidfee = 0.6, infer PT's parameters\n",
      "> Now do SA....... \n",
      "\n"
     ]
    },
    {
     "name": "stderr",
     "output_type": "stream",
     "text": [
      " 58%|█████▊    | 739/1276 [3:55:39<52:19,  5.85s/it]"
     ]
    },
    {
     "name": "stdout",
     "output_type": "stream",
     "text": [
      "STOP CODE:  Stay unchanged in the last 6 iterations\n",
      "> SA ENDS....... \n",
      "\n",
      "> avg loss: 4.671332402567552\n",
      "> For the *739_th* data_key\n",
      "> retail = 53.99,bidincrement = 0.12, bidfee = 0.6, infer PT's parameters\n",
      "> Now do SA....... \n",
      "\n"
     ]
    },
    {
     "name": "stderr",
     "output_type": "stream",
     "text": [
      " 58%|█████▊    | 740/1276 [3:55:42<46:07,  5.16s/it]"
     ]
    },
    {
     "name": "stdout",
     "output_type": "stream",
     "text": [
      "STOP CODE:  Stay unchanged in the last 6 iterations\n",
      "> SA ENDS....... \n",
      "\n",
      "> avg loss: 5.295752779373167\n",
      "> For the *740_th* data_key\n",
      "> retail = 19.99,bidincrement = 0.12, bidfee = 0.6, infer PT's parameters\n",
      "> Now do SA....... \n",
      "\n"
     ]
    },
    {
     "name": "stderr",
     "output_type": "stream",
     "text": [
      " 58%|█████▊    | 741/1276 [3:55:45<38:51,  4.36s/it]"
     ]
    },
    {
     "name": "stdout",
     "output_type": "stream",
     "text": [
      "STOP CODE:  Stay unchanged in the last 6 iterations\n",
      "> SA ENDS....... \n",
      "\n",
      "> avg loss: 4.319554181700697\n",
      "> For the *741_th* data_key\n",
      "> retail = 46.99,bidincrement = 0.12, bidfee = 0.6, infer PT's parameters\n",
      "> Now do SA....... \n",
      "\n"
     ]
    },
    {
     "name": "stderr",
     "output_type": "stream",
     "text": [
      " 58%|█████▊    | 742/1276 [3:55:50<40:56,  4.60s/it]"
     ]
    },
    {
     "name": "stdout",
     "output_type": "stream",
     "text": [
      "STOP CODE:  Stay unchanged in the last 6 iterations\n",
      "> SA ENDS....... \n",
      "\n",
      "> avg loss: 5.144668773776194\n",
      "> For the *742_th* data_key\n",
      "> retail = 89.79,bidincrement = 0.12, bidfee = 0.6, infer PT's parameters\n",
      "> Now do SA....... \n",
      "\n"
     ]
    },
    {
     "name": "stderr",
     "output_type": "stream",
     "text": [
      " 58%|█████▊    | 743/1276 [3:55:55<42:26,  4.78s/it]"
     ]
    },
    {
     "name": "stdout",
     "output_type": "stream",
     "text": [
      "STOP CODE:  Stay unchanged in the last 6 iterations\n",
      "> SA ENDS....... \n",
      "\n",
      "> avg loss: 5.814430423173454\n",
      "> For the *743_th* data_key\n",
      "> retail = 40.99,bidincrement = 0.12, bidfee = 0.6, infer PT's parameters\n",
      "> Now do SA....... \n",
      "\n"
     ]
    },
    {
     "name": "stderr",
     "output_type": "stream",
     "text": [
      " 58%|█████▊    | 744/1276 [3:56:00<43:15,  4.88s/it]"
     ]
    },
    {
     "name": "stdout",
     "output_type": "stream",
     "text": [
      "STOP CODE:  Stay unchanged in the last 6 iterations\n",
      "> SA ENDS....... \n",
      "\n",
      "> avg loss: 5.070846389312496\n",
      "> For the *744_th* data_key\n",
      "> retail = 52.99,bidincrement = 0.24, bidfee = 0.6, infer PT's parameters\n",
      "> Now do SA....... \n",
      "\n"
     ]
    },
    {
     "name": "stderr",
     "output_type": "stream",
     "text": [
      " 58%|█████▊    | 745/1276 [3:56:02<33:59,  3.84s/it]"
     ]
    },
    {
     "name": "stdout",
     "output_type": "stream",
     "text": [
      "STOP CODE:  Stay unchanged in the last 6 iterations\n",
      "> SA ENDS....... \n",
      "\n",
      "> avg loss: 2.475661951624284\n",
      "> For the *745_th* data_key\n",
      "> retail = 56.99,bidincrement = 0.24, bidfee = 0.6, infer PT's parameters\n",
      "> Now do SA....... \n",
      "\n"
     ]
    },
    {
     "name": "stderr",
     "output_type": "stream",
     "text": [
      " 58%|█████▊    | 746/1276 [3:56:06<34:37,  3.92s/it]"
     ]
    },
    {
     "name": "stdout",
     "output_type": "stream",
     "text": [
      "STOP CODE:  Stay unchanged in the last 6 iterations\n",
      "> SA ENDS....... \n",
      "\n",
      "> avg loss: 2.402932431233416\n",
      "> For the *746_th* data_key\n",
      "> retail = 14.99,bidincrement = 0.24, bidfee = 0.6, infer PT's parameters\n",
      "> Now do SA....... \n",
      "\n"
     ]
    },
    {
     "name": "stderr",
     "output_type": "stream",
     "text": [
      " 59%|█████▊    | 747/1276 [3:56:08<28:41,  3.25s/it]"
     ]
    },
    {
     "name": "stdout",
     "output_type": "stream",
     "text": [
      "STOP CODE:  Stay unchanged in the last 6 iterations\n",
      "> SA ENDS....... \n",
      "\n",
      "> avg loss: 2.432038393933989\n",
      "> For the *747_th* data_key\n",
      "> retail = 15.99,bidincrement = 0.12, bidfee = 0.6, infer PT's parameters\n",
      "> Now do SA....... \n",
      "\n"
     ]
    },
    {
     "name": "stderr",
     "output_type": "stream",
     "text": [
      " 59%|█████▊    | 748/1276 [3:56:09<22:57,  2.61s/it]"
     ]
    },
    {
     "name": "stdout",
     "output_type": "stream",
     "text": [
      "STOP CODE:  Stay unchanged in the last 6 iterations\n",
      "> SA ENDS....... \n",
      "\n",
      "> avg loss: 4.0642179405298595\n",
      "> For the *748_th* data_key\n",
      "> retail = 35.64,bidincrement = 0.12, bidfee = 0.6, infer PT's parameters\n",
      "> Now do SA....... \n",
      "\n"
     ]
    },
    {
     "name": "stderr",
     "output_type": "stream",
     "text": [
      " 59%|█████▊    | 749/1276 [3:56:11<22:04,  2.51s/it]"
     ]
    },
    {
     "name": "stdout",
     "output_type": "stream",
     "text": [
      "STOP CODE:  Stay unchanged in the last 6 iterations\n",
      "> SA ENDS....... \n",
      "\n",
      "> avg loss: 4.840029050123115\n",
      "> For the *749_th* data_key\n",
      "> retail = 819.99,bidincrement = 0.02, bidfee = 0.6, infer PT's parameters\n",
      "> Now do SA....... \n",
      "\n"
     ]
    },
    {
     "name": "stderr",
     "output_type": "stream",
     "text": [
      " 59%|█████▉    | 750/1276 [3:58:12<5:33:21, 38.03s/it]"
     ]
    },
    {
     "name": "stdout",
     "output_type": "stream",
     "text": [
      "> 超时\n",
      "> SA ENDS....... \n",
      "\n",
      "> avg loss: 23.025850982015076\n",
      "> For the *750_th* data_key\n",
      "> retail = 37.3,bidincrement = 0.12, bidfee = 0.6, infer PT's parameters\n",
      "> Now do SA....... \n",
      "\n"
     ]
    },
    {
     "name": "stderr",
     "output_type": "stream",
     "text": [
      " 59%|█████▉    | 751/1276 [3:58:16<4:03:08, 27.79s/it]"
     ]
    },
    {
     "name": "stdout",
     "output_type": "stream",
     "text": [
      "STOP CODE:  Stay unchanged in the last 6 iterations\n",
      "> SA ENDS....... \n",
      "\n",
      "> avg loss: 4.962546313807638\n",
      "> For the *751_th* data_key\n",
      "> retail = 10.15,bidincrement = 0.12, bidfee = 0.6, infer PT's parameters\n",
      "> Now do SA....... \n",
      "\n"
     ]
    },
    {
     "name": "stderr",
     "output_type": "stream",
     "text": [
      " 59%|█████▉    | 752/1276 [3:58:17<2:54:15, 19.95s/it]"
     ]
    },
    {
     "name": "stdout",
     "output_type": "stream",
     "text": [
      "STOP CODE:  Stay unchanged in the last 6 iterations\n",
      "> SA ENDS....... \n",
      "\n",
      "> avg loss: 3.5937420459676366\n",
      "> For the *752_th* data_key\n",
      "> retail = 35.44,bidincrement = 0.12, bidfee = 0.6, infer PT's parameters\n",
      "> Now do SA....... \n",
      "\n"
     ]
    },
    {
     "name": "stderr",
     "output_type": "stream",
     "text": [
      " 59%|█████▉    | 753/1276 [3:58:23<2:14:56, 15.48s/it]"
     ]
    },
    {
     "name": "stdout",
     "output_type": "stream",
     "text": [
      "STOP CODE:  Stay unchanged in the last 6 iterations\n",
      "> SA ENDS....... \n",
      "\n",
      "> avg loss: 4.90776973019244\n",
      "> For the *753_th* data_key\n",
      "> retail = 269.99,bidincrement = 0.12, bidfee = 0.6, infer PT's parameters\n",
      "> Now do SA....... \n",
      "\n"
     ]
    },
    {
     "name": "stderr",
     "output_type": "stream",
     "text": [
      " 59%|█████▉    | 754/1276 [3:58:35<2:06:30, 14.54s/it]"
     ]
    },
    {
     "name": "stdout",
     "output_type": "stream",
     "text": [
      "STOP CODE:  Stay unchanged in the last 6 iterations\n",
      "> SA ENDS....... \n",
      "\n",
      "> avg loss: 6.981026160978899\n",
      "> For the *754_th* data_key\n",
      "> retail = 2087.97,bidincrement = 0.02, bidfee = 0.6, infer PT's parameters\n",
      "> Now do SA....... \n",
      "\n"
     ]
    },
    {
     "name": "stderr",
     "output_type": "stream",
     "text": [
      " 59%|█████▉    | 755/1276 [4:00:37<6:46:19, 46.79s/it]"
     ]
    },
    {
     "name": "stdout",
     "output_type": "stream",
     "text": [
      "> 超时\n",
      "> SA ENDS....... \n",
      "\n",
      "> avg loss: 23.02585120220843\n",
      "> For the *755_th* data_key\n",
      "> retail = 1614.93,bidincrement = 0.02, bidfee = 0.6, infer PT's parameters\n",
      "> Now do SA....... \n",
      "\n"
     ]
    },
    {
     "name": "stderr",
     "output_type": "stream",
     "text": [
      " 59%|█████▉    | 756/1276 [4:02:39<10:00:25, 69.28s/it]"
     ]
    },
    {
     "name": "stdout",
     "output_type": "stream",
     "text": [
      "> 超时\n",
      "> SA ENDS....... \n",
      "\n",
      "> avg loss: 23.02585112558052\n",
      "> For the *756_th* data_key\n",
      "> retail = 1599.99,bidincrement = 0.02, bidfee = 0.6, infer PT's parameters\n",
      "> Now do SA....... \n",
      "\n"
     ]
    },
    {
     "name": "stderr",
     "output_type": "stream",
     "text": [
      " 59%|█████▉    | 757/1276 [4:04:40<12:15:16, 85.00s/it]"
     ]
    },
    {
     "name": "stdout",
     "output_type": "stream",
     "text": [
      "> 超时\n",
      "> SA ENDS....... \n",
      "\n",
      "> avg loss: 23.02585111966532\n",
      "> For the *757_th* data_key\n",
      "> retail = 234.29,bidincrement = 0.06, bidfee = 0.6, infer PT's parameters\n",
      "> Now do SA....... \n",
      "\n"
     ]
    },
    {
     "name": "stderr",
     "output_type": "stream",
     "text": [
      " 59%|█████▉    | 758/1276 [4:05:31<10:45:58, 74.82s/it]"
     ]
    },
    {
     "name": "stdout",
     "output_type": "stream",
     "text": [
      "STOP CODE:  Stay unchanged in the last 6 iterations\n",
      "> SA ENDS....... \n",
      "\n",
      "> avg loss: 6.9458681250718275\n",
      "> For the *758_th* data_key\n",
      "> retail = 1766.19,bidincrement = 0.02, bidfee = 0.6, infer PT's parameters\n",
      "> Now do SA....... \n",
      "\n"
     ]
    },
    {
     "name": "stderr",
     "output_type": "stream",
     "text": [
      " 59%|█████▉    | 759/1276 [4:07:33<12:46:08, 88.91s/it]"
     ]
    },
    {
     "name": "stdout",
     "output_type": "stream",
     "text": [
      "> 超时\n",
      "> SA ENDS....... \n",
      "\n",
      "> avg loss: 23.02585114134973\n",
      "> For the *759_th* data_key\n",
      "> retail = 1146.98,bidincrement = 0.02, bidfee = 0.6, infer PT's parameters\n",
      "> Now do SA....... \n",
      "\n"
     ]
    },
    {
     "name": "stderr",
     "output_type": "stream",
     "text": [
      " 60%|█████▉    | 760/1276 [4:09:34<14:07:47, 98.58s/it]"
     ]
    },
    {
     "name": "stdout",
     "output_type": "stream",
     "text": [
      "> 超时\n",
      "> SA ENDS....... \n",
      "\n",
      "> avg loss: 23.025851028030086\n",
      "> For the *760_th* data_key\n",
      "> retail = 993.43,bidincrement = 0.02, bidfee = 0.6, infer PT's parameters\n",
      "> Now do SA....... \n",
      "\n"
     ]
    },
    {
     "name": "stderr",
     "output_type": "stream",
     "text": [
      " 60%|█████▉    | 761/1276 [4:11:06<13:48:59, 96.58s/it]"
     ]
    },
    {
     "name": "stdout",
     "output_type": "stream",
     "text": [
      "STOP CODE:  Stay unchanged in the last 6 iterations\n",
      "> SA ENDS....... \n",
      "\n",
      "> avg loss: 23.025851020682808\n",
      "> For the *761_th* data_key\n",
      "> retail = 214.99,bidincrement = 0.12, bidfee = 0.6, infer PT's parameters\n",
      "> Now do SA....... \n",
      "\n"
     ]
    },
    {
     "name": "stderr",
     "output_type": "stream",
     "text": [
      " 60%|█████▉    | 762/1276 [4:11:16<10:03:19, 70.43s/it]"
     ]
    },
    {
     "name": "stdout",
     "output_type": "stream",
     "text": [
      "STOP CODE:  Stay unchanged in the last 6 iterations\n",
      "> SA ENDS....... \n",
      "\n",
      "> avg loss: 6.693670027304217\n",
      "> For the *762_th* data_key\n",
      "> retail = 76.99,bidincrement = 0.12, bidfee = 0.6, infer PT's parameters\n",
      "> Now do SA....... \n",
      "\n"
     ]
    },
    {
     "name": "stderr",
     "output_type": "stream",
     "text": [
      " 60%|█████▉    | 763/1276 [4:11:19<7:09:04, 50.18s/it] "
     ]
    },
    {
     "name": "stdout",
     "output_type": "stream",
     "text": [
      "STOP CODE:  Stay unchanged in the last 6 iterations\n",
      "> SA ENDS....... \n",
      "\n",
      "> avg loss: 5.65485534234854\n",
      "> For the *763_th* data_key\n",
      "> retail = 328.0,bidincrement = 0.12, bidfee = 0.6, infer PT's parameters\n",
      "> Now do SA....... \n",
      "\n"
     ]
    },
    {
     "name": "stderr",
     "output_type": "stream",
     "text": [
      " 60%|█████▉    | 764/1276 [4:11:36<5:43:17, 40.23s/it]"
     ]
    },
    {
     "name": "stdout",
     "output_type": "stream",
     "text": [
      "STOP CODE:  Stay unchanged in the last 6 iterations\n",
      "> SA ENDS....... \n",
      "\n",
      "> avg loss: 7.010679523106051\n",
      "> For the *764_th* data_key\n",
      "> retail = 42.99,bidincrement = 0.12, bidfee = 0.6, infer PT's parameters\n",
      "> Now do SA....... \n",
      "\n"
     ]
    },
    {
     "name": "stderr",
     "output_type": "stream",
     "text": [
      " 60%|█████▉    | 765/1276 [4:11:41<4:14:15, 29.85s/it]"
     ]
    },
    {
     "name": "stdout",
     "output_type": "stream",
     "text": [
      "STOP CODE:  Stay unchanged in the last 6 iterations\n",
      "> SA ENDS....... \n",
      "\n",
      "> avg loss: 5.085568507557601\n",
      "> For the *765_th* data_key\n",
      "> retail = 1139.0,bidincrement = 0.02, bidfee = 0.6, infer PT's parameters\n",
      "> Now do SA....... \n",
      "\n"
     ]
    },
    {
     "name": "stderr",
     "output_type": "stream",
     "text": [
      " 60%|██████    | 766/1276 [4:13:42<8:06:36, 57.25s/it]"
     ]
    },
    {
     "name": "stdout",
     "output_type": "stream",
     "text": [
      "> 超时\n",
      "> SA ENDS....... \n",
      "\n",
      "> avg loss: 23.02585103113516\n",
      "> For the *766_th* data_key\n",
      "> retail = 369.0,bidincrement = 0.12, bidfee = 0.6, infer PT's parameters\n",
      "> Now do SA....... \n",
      "\n"
     ]
    },
    {
     "name": "stderr",
     "output_type": "stream",
     "text": [
      " 60%|██████    | 767/1276 [4:13:54<6:08:19, 43.42s/it]"
     ]
    },
    {
     "name": "stdout",
     "output_type": "stream",
     "text": [
      "STOP CODE:  Stay unchanged in the last 6 iterations\n",
      "> SA ENDS....... \n",
      "\n",
      "> avg loss: 7.255022139678844\n",
      "> For the *767_th* data_key\n",
      "> retail = 52.95,bidincrement = 0.12, bidfee = 0.6, infer PT's parameters\n",
      "> Now do SA....... \n",
      "\n"
     ]
    },
    {
     "name": "stderr",
     "output_type": "stream",
     "text": [
      " 60%|██████    | 768/1276 [4:13:57<4:25:43, 31.38s/it]"
     ]
    },
    {
     "name": "stdout",
     "output_type": "stream",
     "text": [
      "STOP CODE:  Stay unchanged in the last 6 iterations\n",
      "> SA ENDS....... \n",
      "\n",
      "> avg loss: 5.29015562055406\n",
      "> For the *768_th* data_key\n",
      "> retail = 44.96,bidincrement = 0.12, bidfee = 0.6, infer PT's parameters\n",
      "> Now do SA....... \n",
      "\n"
     ]
    },
    {
     "name": "stderr",
     "output_type": "stream",
     "text": [
      " 60%|██████    | 769/1276 [4:13:59<3:11:53, 22.71s/it]"
     ]
    },
    {
     "name": "stdout",
     "output_type": "stream",
     "text": [
      "STOP CODE:  Stay unchanged in the last 6 iterations\n",
      "> SA ENDS....... \n",
      "\n",
      "> avg loss: 5.145207301014369\n",
      "> For the *769_th* data_key\n",
      "> retail = 749.0,bidincrement = 0.02, bidfee = 0.6, infer PT's parameters\n",
      "> Now do SA....... \n",
      "\n"
     ]
    },
    {
     "name": "stderr",
     "output_type": "stream",
     "text": [
      " 60%|██████    | 770/1276 [4:16:00<7:19:36, 52.13s/it]"
     ]
    },
    {
     "name": "stdout",
     "output_type": "stream",
     "text": [
      "> 超时\n",
      "> SA ENDS....... \n",
      "\n",
      "> avg loss: 23.025850968484388\n",
      "> For the *770_th* data_key\n",
      "> retail = 1050.0,bidincrement = 0.02, bidfee = 0.6, infer PT's parameters\n",
      "> Now do SA....... \n",
      "\n"
     ]
    },
    {
     "name": "stderr",
     "output_type": "stream",
     "text": [
      " 60%|██████    | 771/1276 [4:17:39<9:17:07, 66.19s/it]"
     ]
    },
    {
     "name": "stdout",
     "output_type": "stream",
     "text": [
      "STOP CODE:  Stay unchanged in the last 6 iterations\n",
      "> SA ENDS....... \n",
      "\n",
      "> avg loss: 23.025851038224914\n",
      "> For the *771_th* data_key\n",
      "> retail = 19.74,bidincrement = 0.12, bidfee = 0.6, infer PT's parameters\n",
      "> Now do SA....... \n",
      "\n"
     ]
    },
    {
     "name": "stderr",
     "output_type": "stream",
     "text": [
      " 61%|██████    | 772/1276 [4:17:42<6:37:44, 47.35s/it]"
     ]
    },
    {
     "name": "stdout",
     "output_type": "stream",
     "text": [
      "STOP CODE:  Stay unchanged in the last 6 iterations\n",
      "> SA ENDS....... \n",
      "\n",
      "> avg loss: 4.309749914943171\n",
      "> For the *772_th* data_key\n",
      "> retail = 79.0,bidincrement = 0.12, bidfee = 0.6, infer PT's parameters\n",
      "> Now do SA....... \n",
      "\n"
     ]
    },
    {
     "name": "stderr",
     "output_type": "stream",
     "text": [
      " 61%|██████    | 773/1276 [4:17:46<4:47:11, 34.26s/it]"
     ]
    },
    {
     "name": "stdout",
     "output_type": "stream",
     "text": [
      "STOP CODE:  Stay unchanged in the last 6 iterations\n",
      "> SA ENDS....... \n",
      "\n",
      "> avg loss: 5.708533684703488\n",
      "> For the *773_th* data_key\n",
      "> retail = 79.0,bidincrement = 0.12, bidfee = 0.6, infer PT's parameters\n",
      "> Now do SA....... \n",
      "\n"
     ]
    },
    {
     "name": "stderr",
     "output_type": "stream",
     "text": [
      " 61%|██████    | 774/1276 [4:17:56<3:44:18, 26.81s/it]"
     ]
    },
    {
     "name": "stdout",
     "output_type": "stream",
     "text": [
      "STOP CODE:  Stay unchanged in the last 6 iterations\n",
      "> SA ENDS....... \n",
      "\n",
      "> avg loss: 5.733636721204565\n",
      "> For the *774_th* data_key\n",
      "> retail = 169.99,bidincrement = 0.12, bidfee = 0.6, infer PT's parameters\n",
      "> Now do SA....... \n",
      "\n"
     ]
    },
    {
     "name": "stderr",
     "output_type": "stream",
     "text": [
      " 61%|██████    | 775/1276 [4:18:09<3:09:05, 22.65s/it]"
     ]
    },
    {
     "name": "stdout",
     "output_type": "stream",
     "text": [
      "STOP CODE:  Stay unchanged in the last 6 iterations\n",
      "> SA ENDS....... \n",
      "\n",
      "> avg loss: 6.484901039270612\n",
      "> For the *775_th* data_key\n",
      "> retail = 99.97,bidincrement = 0.24, bidfee = 0.6, infer PT's parameters\n",
      "> Now do SA....... \n",
      "\n"
     ]
    },
    {
     "name": "stderr",
     "output_type": "stream",
     "text": [
      " 61%|██████    | 776/1276 [4:18:12<2:20:36, 16.87s/it]"
     ]
    },
    {
     "name": "stdout",
     "output_type": "stream",
     "text": [
      "STOP CODE:  Stay unchanged in the last 6 iterations\n",
      "> SA ENDS....... \n",
      "\n",
      "> avg loss: 2.709420356385635\n",
      "> For the *776_th* data_key\n",
      "> retail = 80.79,bidincrement = 0.24, bidfee = 0.6, infer PT's parameters\n",
      "> Now do SA....... \n",
      "\n"
     ]
    },
    {
     "name": "stderr",
     "output_type": "stream",
     "text": [
      " 61%|██████    | 777/1276 [4:18:15<1:45:06, 12.64s/it]"
     ]
    },
    {
     "name": "stdout",
     "output_type": "stream",
     "text": [
      "STOP CODE:  Stay unchanged in the last 6 iterations\n",
      "> SA ENDS....... \n",
      "\n",
      "> avg loss: 2.9742554445036693\n",
      "> For the *777_th* data_key\n",
      "> retail = 149.99,bidincrement = 0.24, bidfee = 0.6, infer PT's parameters\n",
      "> Now do SA....... \n",
      "\n"
     ]
    },
    {
     "name": "stderr",
     "output_type": "stream",
     "text": [
      " 61%|██████    | 778/1276 [4:18:19<1:23:25, 10.05s/it]"
     ]
    },
    {
     "name": "stdout",
     "output_type": "stream",
     "text": [
      "STOP CODE:  Stay unchanged in the last 6 iterations\n",
      "> SA ENDS....... \n",
      "\n",
      "> avg loss: 3.0607086240705743\n",
      "> For the *778_th* data_key\n",
      "> retail = 119.99,bidincrement = 0.24, bidfee = 0.6, infer PT's parameters\n",
      "> Now do SA....... \n",
      "\n"
     ]
    },
    {
     "name": "stderr",
     "output_type": "stream",
     "text": [
      " 61%|██████    | 779/1276 [4:18:23<1:09:32,  8.39s/it]"
     ]
    },
    {
     "name": "stdout",
     "output_type": "stream",
     "text": [
      "STOP CODE:  Stay unchanged in the last 6 iterations\n",
      "> SA ENDS....... \n",
      "\n",
      "> avg loss: 2.9569525367323526\n",
      "> For the *779_th* data_key\n",
      "> retail = 70.99,bidincrement = 0.24, bidfee = 0.6, infer PT's parameters\n",
      "> Now do SA....... \n",
      "\n"
     ]
    },
    {
     "name": "stderr",
     "output_type": "stream",
     "text": [
      " 61%|██████    | 780/1276 [4:18:25<53:39,  6.49s/it]  "
     ]
    },
    {
     "name": "stdout",
     "output_type": "stream",
     "text": [
      "STOP CODE:  Stay unchanged in the last 6 iterations\n",
      "> SA ENDS....... \n",
      "\n",
      "> avg loss: 2.728054612734423\n",
      "> For the *780_th* data_key\n",
      "> retail = 64.99,bidincrement = 0.24, bidfee = 0.6, infer PT's parameters\n",
      "> Now do SA....... \n",
      "\n"
     ]
    },
    {
     "name": "stderr",
     "output_type": "stream",
     "text": [
      " 61%|██████    | 781/1276 [4:18:28<44:25,  5.38s/it]"
     ]
    },
    {
     "name": "stdout",
     "output_type": "stream",
     "text": [
      "STOP CODE:  Stay unchanged in the last 6 iterations\n",
      "> SA ENDS....... \n",
      "\n",
      "> avg loss: 2.4102789149997976\n",
      "> For the *781_th* data_key\n",
      "> retail = 62.38,bidincrement = 0.24, bidfee = 0.6, infer PT's parameters\n",
      "> Now do SA....... \n",
      "\n"
     ]
    },
    {
     "name": "stderr",
     "output_type": "stream",
     "text": [
      " 61%|██████▏   | 782/1276 [4:18:32<40:42,  4.94s/it]"
     ]
    },
    {
     "name": "stdout",
     "output_type": "stream",
     "text": [
      "STOP CODE:  Stay unchanged in the last 6 iterations\n",
      "> SA ENDS....... \n",
      "\n",
      "> avg loss: 2.800447863143776\n",
      "> For the *782_th* data_key\n",
      "> retail = 46.99,bidincrement = 0.24, bidfee = 0.6, infer PT's parameters\n",
      "> Now do SA....... \n",
      "\n"
     ]
    },
    {
     "name": "stderr",
     "output_type": "stream",
     "text": [
      " 61%|██████▏   | 783/1276 [4:18:36<38:09,  4.64s/it]"
     ]
    },
    {
     "name": "stdout",
     "output_type": "stream",
     "text": [
      "STOP CODE:  Stay unchanged in the last 6 iterations\n",
      "> SA ENDS....... \n",
      "\n",
      "> avg loss: 2.630002145976941\n",
      "> For the *783_th* data_key\n",
      "> retail = 61.49,bidincrement = 0.24, bidfee = 0.6, infer PT's parameters\n",
      "> Now do SA....... \n",
      "\n"
     ]
    },
    {
     "name": "stderr",
     "output_type": "stream",
     "text": [
      " 61%|██████▏   | 784/1276 [4:18:38<32:15,  3.93s/it]"
     ]
    },
    {
     "name": "stdout",
     "output_type": "stream",
     "text": [
      "STOP CODE:  Stay unchanged in the last 6 iterations\n",
      "> SA ENDS....... \n",
      "\n",
      "> avg loss: 2.2880641711978322\n",
      "> For the *784_th* data_key\n",
      "> retail = 75.98,bidincrement = 0.24, bidfee = 0.6, infer PT's parameters\n",
      "> Now do SA....... \n",
      "\n"
     ]
    },
    {
     "name": "stderr",
     "output_type": "stream",
     "text": [
      " 62%|██████▏   | 785/1276 [4:18:41<28:33,  3.49s/it]"
     ]
    },
    {
     "name": "stdout",
     "output_type": "stream",
     "text": [
      "STOP CODE:  Stay unchanged in the last 6 iterations\n",
      "> SA ENDS....... \n",
      "\n",
      "> avg loss: 2.6512462643263546\n",
      "> For the *785_th* data_key\n",
      "> retail = 98.0,bidincrement = 0.12, bidfee = 0.6, infer PT's parameters\n",
      "> Now do SA....... \n",
      "\n"
     ]
    },
    {
     "name": "stderr",
     "output_type": "stream",
     "text": [
      " 62%|██████▏   | 786/1276 [4:18:46<33:44,  4.13s/it]"
     ]
    },
    {
     "name": "stdout",
     "output_type": "stream",
     "text": [
      "STOP CODE:  Stay unchanged in the last 6 iterations\n",
      "> SA ENDS....... \n",
      "\n",
      "> avg loss: 5.909970556863022\n",
      "> For the *786_th* data_key\n",
      "> retail = 79.99,bidincrement = 0.12, bidfee = 0.6, infer PT's parameters\n",
      "> Now do SA....... \n",
      "\n"
     ]
    },
    {
     "name": "stderr",
     "output_type": "stream",
     "text": [
      " 62%|██████▏   | 787/1276 [4:18:54<42:30,  5.21s/it]"
     ]
    },
    {
     "name": "stdout",
     "output_type": "stream",
     "text": [
      "STOP CODE:  Stay unchanged in the last 6 iterations\n",
      "> SA ENDS....... \n",
      "\n",
      "> avg loss: 5.728051497994143\n",
      "> For the *787_th* data_key\n",
      "> retail = 21.89,bidincrement = 0.12, bidfee = 0.6, infer PT's parameters\n",
      "> Now do SA....... \n",
      "\n"
     ]
    },
    {
     "name": "stderr",
     "output_type": "stream",
     "text": [
      " 62%|██████▏   | 788/1276 [4:18:56<33:24,  4.11s/it]"
     ]
    },
    {
     "name": "stdout",
     "output_type": "stream",
     "text": [
      "STOP CODE:  Stay unchanged in the last 6 iterations\n",
      "> SA ENDS....... \n",
      "\n",
      "> avg loss: 4.428396205033249\n",
      "> For the *788_th* data_key\n",
      "> retail = 29.49,bidincrement = 0.12, bidfee = 0.6, infer PT's parameters\n",
      "> Now do SA....... \n",
      "\n"
     ]
    },
    {
     "name": "stderr",
     "output_type": "stream",
     "text": [
      " 62%|██████▏   | 789/1276 [4:18:59<30:36,  3.77s/it]"
     ]
    },
    {
     "name": "stdout",
     "output_type": "stream",
     "text": [
      "STOP CODE:  Stay unchanged in the last 6 iterations\n",
      "> SA ENDS....... \n",
      "\n",
      "> avg loss: 4.6755026764919005\n",
      "> For the *789_th* data_key\n",
      "> retail = 459.68,bidincrement = 0.12, bidfee = 0.6, infer PT's parameters\n",
      "> Now do SA....... \n",
      "\n"
     ]
    },
    {
     "name": "stderr",
     "output_type": "stream",
     "text": [
      " 62%|██████▏   | 790/1276 [4:19:14<58:48,  7.26s/it]"
     ]
    },
    {
     "name": "stdout",
     "output_type": "stream",
     "text": [
      "STOP CODE:  Stay unchanged in the last 6 iterations\n",
      "> SA ENDS....... \n",
      "\n",
      "> avg loss: 22.616302317586204\n",
      "> For the *790_th* data_key\n",
      "> retail = 236.48,bidincrement = 0.12, bidfee = 0.6, infer PT's parameters\n",
      "> Now do SA....... \n",
      "\n"
     ]
    },
    {
     "name": "stderr",
     "output_type": "stream",
     "text": [
      " 62%|██████▏   | 791/1276 [4:19:23<1:01:44,  7.64s/it]"
     ]
    },
    {
     "name": "stdout",
     "output_type": "stream",
     "text": [
      "STOP CODE:  Stay unchanged in the last 6 iterations\n",
      "> SA ENDS....... \n",
      "\n",
      "> avg loss: 6.805074726197495\n",
      "> For the *791_th* data_key\n",
      "> retail = 236.48,bidincrement = 0.12, bidfee = 0.6, infer PT's parameters\n",
      "> Now do SA....... \n",
      "\n"
     ]
    },
    {
     "name": "stderr",
     "output_type": "stream",
     "text": [
      " 62%|██████▏   | 792/1276 [4:19:33<1:08:43,  8.52s/it]"
     ]
    },
    {
     "name": "stdout",
     "output_type": "stream",
     "text": [
      "STOP CODE:  Stay unchanged in the last 6 iterations\n",
      "> SA ENDS....... \n",
      "\n",
      "> avg loss: 6.879745640077141\n",
      "> For the *792_th* data_key\n",
      "> retail = 264.6,bidincrement = 0.12, bidfee = 0.6, infer PT's parameters\n",
      "> Now do SA....... \n",
      "\n"
     ]
    },
    {
     "name": "stderr",
     "output_type": "stream",
     "text": [
      " 62%|██████▏   | 793/1276 [4:19:48<1:24:24, 10.49s/it]"
     ]
    },
    {
     "name": "stdout",
     "output_type": "stream",
     "text": [
      "STOP CODE:  Stay unchanged in the last 6 iterations\n",
      "> SA ENDS....... \n",
      "\n",
      "> avg loss: 6.973834221479102\n",
      "> For the *793_th* data_key\n",
      "> retail = 208.5,bidincrement = 0.12, bidfee = 0.6, infer PT's parameters\n",
      "> Now do SA....... \n",
      "\n"
     ]
    },
    {
     "name": "stderr",
     "output_type": "stream",
     "text": [
      " 62%|██████▏   | 794/1276 [4:19:54<1:13:04,  9.10s/it]"
     ]
    },
    {
     "name": "stdout",
     "output_type": "stream",
     "text": [
      "STOP CODE:  Stay unchanged in the last 6 iterations\n",
      "> SA ENDS....... \n",
      "\n",
      "> avg loss: 6.714339821104404\n",
      "> For the *794_th* data_key\n",
      "> retail = 181.84,bidincrement = 0.12, bidfee = 0.6, infer PT's parameters\n",
      "> Now do SA....... \n",
      "\n"
     ]
    },
    {
     "name": "stderr",
     "output_type": "stream",
     "text": [
      " 62%|██████▏   | 795/1276 [4:20:01<1:06:40,  8.32s/it]"
     ]
    },
    {
     "name": "stdout",
     "output_type": "stream",
     "text": [
      "STOP CODE:  Stay unchanged in the last 6 iterations\n",
      "> SA ENDS....... \n",
      "\n",
      "> avg loss: 6.51312285555614\n",
      "> For the *795_th* data_key\n",
      "> retail = 204.23,bidincrement = 0.06, bidfee = 0.6, infer PT's parameters\n",
      "> Now do SA....... \n",
      "\n"
     ]
    },
    {
     "name": "stderr",
     "output_type": "stream",
     "text": [
      " 62%|██████▏   | 796/1276 [4:20:10<1:08:09,  8.52s/it]"
     ]
    },
    {
     "name": "stdout",
     "output_type": "stream",
     "text": [
      "STOP CODE:  Stay unchanged in the last 6 iterations\n",
      "> SA ENDS....... \n",
      "\n",
      "> avg loss: 23.018849568454108\n",
      "> For the *796_th* data_key\n",
      "> retail = 99.99,bidincrement = 0.12, bidfee = 0.6, infer PT's parameters\n",
      "> Now do SA....... \n",
      "\n"
     ]
    },
    {
     "name": "stderr",
     "output_type": "stream",
     "text": [
      " 62%|██████▏   | 797/1276 [4:20:12<54:43,  6.86s/it]  "
     ]
    },
    {
     "name": "stdout",
     "output_type": "stream",
     "text": [
      "STOP CODE:  Stay unchanged in the last 6 iterations\n",
      "> SA ENDS....... \n",
      "\n",
      "> avg loss: 5.9782561078503464\n",
      "> For the *797_th* data_key\n",
      "> retail = 49.99,bidincrement = 0.24, bidfee = 0.6, infer PT's parameters\n",
      "> Now do SA....... \n",
      "\n"
     ]
    },
    {
     "name": "stderr",
     "output_type": "stream",
     "text": [
      " 63%|██████▎   | 798/1276 [4:20:16<45:38,  5.73s/it]"
     ]
    },
    {
     "name": "stdout",
     "output_type": "stream",
     "text": [
      "STOP CODE:  Stay unchanged in the last 6 iterations\n",
      "> SA ENDS....... \n",
      "\n",
      "> avg loss: 2.826816485405574\n",
      "> For the *798_th* data_key\n",
      "> retail = 10.95,bidincrement = 0.24, bidfee = 0.6, infer PT's parameters\n",
      "> Now do SA....... \n",
      "\n"
     ]
    },
    {
     "name": "stderr",
     "output_type": "stream",
     "text": [
      " 63%|██████▎   | 799/1276 [4:20:18<38:43,  4.87s/it]"
     ]
    },
    {
     "name": "stdout",
     "output_type": "stream",
     "text": [
      "STOP CODE:  Stay unchanged in the last 6 iterations\n",
      "> SA ENDS....... \n",
      "\n",
      "> avg loss: 2.2982025786511144\n",
      "> For the *799_th* data_key\n",
      "> retail = 1498.0,bidincrement = 0.02, bidfee = 0.6, infer PT's parameters\n",
      "> Now do SA....... \n",
      "\n"
     ]
    },
    {
     "name": "stderr",
     "output_type": "stream",
     "text": [
      " 63%|██████▎   | 800/1276 [4:22:20<5:16:19, 39.87s/it]"
     ]
    },
    {
     "name": "stdout",
     "output_type": "stream",
     "text": [
      "> 超时\n",
      "> SA ENDS....... \n",
      "\n",
      "> avg loss: 23.025851093612133\n",
      "> For the *800_th* data_key\n",
      "> retail = 299.5,bidincrement = 0.12, bidfee = 0.6, infer PT's parameters\n",
      "> Now do SA....... \n",
      "\n"
     ]
    },
    {
     "name": "stderr",
     "output_type": "stream",
     "text": [
      " 63%|██████▎   | 801/1276 [4:22:39<4:25:44, 33.57s/it]"
     ]
    },
    {
     "name": "stdout",
     "output_type": "stream",
     "text": [
      "STOP CODE:  Stay unchanged in the last 6 iterations\n",
      "> SA ENDS....... \n",
      "\n",
      "> avg loss: 7.106637520380471\n",
      "> For the *801_th* data_key\n",
      "> retail = 73.74,bidincrement = 0.12, bidfee = 0.6, infer PT's parameters\n",
      "> Now do SA....... \n",
      "\n"
     ]
    },
    {
     "name": "stderr",
     "output_type": "stream",
     "text": [
      " 63%|██████▎   | 802/1276 [4:22:45<3:20:10, 25.34s/it]"
     ]
    },
    {
     "name": "stdout",
     "output_type": "stream",
     "text": [
      "STOP CODE:  Stay unchanged in the last 6 iterations\n",
      "> SA ENDS....... \n",
      "\n",
      "> avg loss: 5.588957851363265\n",
      "> For the *802_th* data_key\n",
      "> retail = 39.0,bidincrement = 0.24, bidfee = 0.6, infer PT's parameters\n",
      "> Now do SA....... \n",
      "\n"
     ]
    },
    {
     "name": "stderr",
     "output_type": "stream",
     "text": [
      " 63%|██████▎   | 803/1276 [4:22:48<2:27:07, 18.66s/it]"
     ]
    },
    {
     "name": "stdout",
     "output_type": "stream",
     "text": [
      "STOP CODE:  Stay unchanged in the last 6 iterations\n",
      "> SA ENDS....... \n",
      "\n",
      "> avg loss: 2.3668932658275823\n",
      "> For the *803_th* data_key\n",
      "> retail = 94.27,bidincrement = 0.12, bidfee = 0.6, infer PT's parameters\n",
      "> Now do SA....... \n",
      "\n"
     ]
    },
    {
     "name": "stderr",
     "output_type": "stream",
     "text": [
      " 63%|██████▎   | 804/1276 [4:22:52<1:51:44, 14.20s/it]"
     ]
    },
    {
     "name": "stdout",
     "output_type": "stream",
     "text": [
      "STOP CODE:  Stay unchanged in the last 6 iterations\n",
      "> SA ENDS....... \n",
      "\n",
      "> avg loss: 5.934472335005825\n",
      "> For the *804_th* data_key\n",
      "> retail = 269.99,bidincrement = 0.06, bidfee = 0.6, infer PT's parameters\n",
      "> Now do SA....... \n",
      "\n"
     ]
    },
    {
     "name": "stderr",
     "output_type": "stream",
     "text": [
      " 63%|██████▎   | 805/1276 [4:23:17<2:16:43, 17.42s/it]"
     ]
    },
    {
     "name": "stdout",
     "output_type": "stream",
     "text": [
      "STOP CODE:  Stay unchanged in the last 6 iterations\n",
      "> SA ENDS....... \n",
      "\n",
      "> avg loss: 7.078417552500464\n",
      "> For the *805_th* data_key\n",
      "> retail = 32.24,bidincrement = 0.24, bidfee = 0.6, infer PT's parameters\n",
      "> Now do SA....... \n",
      "\n"
     ]
    },
    {
     "name": "stderr",
     "output_type": "stream",
     "text": [
      " 63%|██████▎   | 806/1276 [4:23:20<1:44:08, 13.30s/it]"
     ]
    },
    {
     "name": "stdout",
     "output_type": "stream",
     "text": [
      "STOP CODE:  Stay unchanged in the last 6 iterations\n",
      "> SA ENDS....... \n",
      "\n",
      "> avg loss: 2.7556886401960052\n",
      "> For the *806_th* data_key\n",
      "> retail = 38.21,bidincrement = 0.24, bidfee = 0.6, infer PT's parameters\n",
      "> Now do SA....... \n",
      "\n"
     ]
    },
    {
     "name": "stderr",
     "output_type": "stream",
     "text": [
      " 63%|██████▎   | 807/1276 [4:23:23<1:19:02, 10.11s/it]"
     ]
    },
    {
     "name": "stdout",
     "output_type": "stream",
     "text": [
      "STOP CODE:  Stay unchanged in the last 6 iterations\n",
      "> SA ENDS....... \n",
      "\n",
      "> avg loss: 2.758633331685596\n",
      "> For the *807_th* data_key\n",
      "> retail = 1699.84,bidincrement = 0.02, bidfee = 0.6, infer PT's parameters\n",
      "> Now do SA....... \n",
      "\n"
     ]
    },
    {
     "name": "stderr",
     "output_type": "stream",
     "text": [
      " 63%|██████▎   | 808/1276 [4:25:25<5:39:42, 43.55s/it]"
     ]
    },
    {
     "name": "stdout",
     "output_type": "stream",
     "text": [
      "> 超时\n",
      "> SA ENDS....... \n",
      "\n",
      "> avg loss: 23.025851108142444\n",
      "> For the *808_th* data_key\n",
      "> retail = 898.0,bidincrement = 0.06, bidfee = 0.6, infer PT's parameters\n",
      "> Now do SA....... \n",
      "\n"
     ]
    },
    {
     "name": "stderr",
     "output_type": "stream",
     "text": [
      " 63%|██████▎   | 809/1276 [4:26:32<6:35:12, 50.78s/it]"
     ]
    },
    {
     "name": "stdout",
     "output_type": "stream",
     "text": [
      "STOP CODE:  Stay unchanged in the last 6 iterations\n",
      "> SA ENDS....... \n",
      "\n",
      "> avg loss: 8.33435739599557\n",
      "> For the *809_th* data_key\n",
      "> retail = 898.0,bidincrement = 0.06, bidfee = 0.6, infer PT's parameters\n",
      "> Now do SA....... \n",
      "\n"
     ]
    },
    {
     "name": "stderr",
     "output_type": "stream",
     "text": [
      " 63%|██████▎   | 810/1276 [4:27:02<5:45:37, 44.50s/it]"
     ]
    },
    {
     "name": "stdout",
     "output_type": "stream",
     "text": [
      "STOP CODE:  Stay unchanged in the last 6 iterations\n",
      "> SA ENDS....... \n",
      "\n",
      "> avg loss: 23.025850986075532\n",
      "> For the *810_th* data_key\n",
      "> retail = 599.99,bidincrement = 0.06, bidfee = 0.6, infer PT's parameters\n",
      "> Now do SA....... \n",
      "\n"
     ]
    },
    {
     "name": "stderr",
     "output_type": "stream",
     "text": [
      " 64%|██████▎   | 811/1276 [4:28:22<7:06:41, 55.06s/it]"
     ]
    },
    {
     "name": "stdout",
     "output_type": "stream",
     "text": [
      "STOP CODE:  Stay unchanged in the last 6 iterations\n",
      "> SA ENDS....... \n",
      "\n",
      "> avg loss: 7.906492057846433\n",
      "> For the *811_th* data_key\n",
      "> retail = 1478.98,bidincrement = 0.02, bidfee = 0.6, infer PT's parameters\n",
      "> Now do SA....... \n",
      "\n"
     ]
    },
    {
     "name": "stderr",
     "output_type": "stream",
     "text": [
      " 64%|██████▎   | 812/1276 [4:30:23<9:40:00, 75.00s/it]"
     ]
    },
    {
     "name": "stdout",
     "output_type": "stream",
     "text": [
      "> 超时\n",
      "> SA ENDS....... \n",
      "\n",
      "> avg loss: 23.02585112940737\n",
      "> For the *812_th* data_key\n",
      "> retail = 26.23,bidincrement = 0.12, bidfee = 0.6, infer PT's parameters\n",
      "> Now do SA....... \n",
      "\n"
     ]
    },
    {
     "name": "stderr",
     "output_type": "stream",
     "text": [
      " 64%|██████▎   | 813/1276 [4:30:27<6:52:47, 53.49s/it]"
     ]
    },
    {
     "name": "stdout",
     "output_type": "stream",
     "text": [
      "STOP CODE:  Stay unchanged in the last 6 iterations\n",
      "> SA ENDS....... \n",
      "\n",
      "> avg loss: 4.63281117605353\n",
      "> For the *813_th* data_key\n",
      "> retail = 17.97,bidincrement = 0.12, bidfee = 0.6, infer PT's parameters\n",
      "> Now do SA....... \n",
      "\n"
     ]
    },
    {
     "name": "stderr",
     "output_type": "stream",
     "text": [
      " 64%|██████▍   | 814/1276 [4:30:28<4:52:00, 37.92s/it]"
     ]
    },
    {
     "name": "stdout",
     "output_type": "stream",
     "text": [
      "STOP CODE:  Stay unchanged in the last 6 iterations\n",
      "> SA ENDS....... \n",
      "\n",
      "> avg loss: 4.209229772024425\n",
      "> For the *814_th* data_key\n",
      "> retail = 19.99,bidincrement = 0.12, bidfee = 0.6, infer PT's parameters\n",
      "> Now do SA....... \n",
      "\n"
     ]
    },
    {
     "name": "stderr",
     "output_type": "stream",
     "text": [
      " 64%|██████▍   | 815/1276 [4:30:32<3:33:08, 27.74s/it]"
     ]
    },
    {
     "name": "stdout",
     "output_type": "stream",
     "text": [
      "STOP CODE:  Stay unchanged in the last 6 iterations\n",
      "> SA ENDS....... \n",
      "\n",
      "> avg loss: 4.309060611111444\n",
      "> For the *815_th* data_key\n",
      "> retail = 199.99,bidincrement = 0.12, bidfee = 0.6, infer PT's parameters\n",
      "> Now do SA....... \n",
      "\n"
     ]
    },
    {
     "name": "stderr",
     "output_type": "stream",
     "text": [
      " 64%|██████▍   | 816/1276 [4:30:44<2:54:44, 22.79s/it]"
     ]
    },
    {
     "name": "stdout",
     "output_type": "stream",
     "text": [
      "STOP CODE:  Stay unchanged in the last 6 iterations\n",
      "> SA ENDS....... \n",
      "\n",
      "> avg loss: 6.701729095202799\n",
      "> For the *816_th* data_key\n",
      "> retail = 1468.99,bidincrement = 0.02, bidfee = 0.6, infer PT's parameters\n",
      "> Now do SA....... \n",
      "\n"
     ]
    },
    {
     "name": "stderr",
     "output_type": "stream",
     "text": [
      " 64%|██████▍   | 817/1276 [4:32:45<6:41:01, 52.42s/it]"
     ]
    },
    {
     "name": "stdout",
     "output_type": "stream",
     "text": [
      "> 超时\n",
      "> SA ENDS....... \n",
      "\n",
      "> avg loss: 23.025851086193473\n",
      "> For the *817_th* data_key\n",
      "> retail = 683.98,bidincrement = 0.12, bidfee = 0.6, infer PT's parameters\n",
      "> Now do SA....... \n",
      "\n"
     ]
    },
    {
     "name": "stderr",
     "output_type": "stream",
     "text": [
      " 64%|██████▍   | 818/1276 [4:33:15<5:48:56, 45.71s/it]"
     ]
    },
    {
     "name": "stdout",
     "output_type": "stream",
     "text": [
      "STOP CODE:  Stay unchanged in the last 6 iterations\n",
      "> SA ENDS....... \n",
      "\n",
      "> avg loss: 7.909681999716047\n",
      "> For the *818_th* data_key\n",
      "> retail = 141.48,bidincrement = 0.12, bidfee = 0.6, infer PT's parameters\n",
      "> Now do SA....... \n",
      "\n"
     ]
    },
    {
     "name": "stderr",
     "output_type": "stream",
     "text": [
      " 64%|██████▍   | 819/1276 [4:33:24<4:24:53, 34.78s/it]"
     ]
    },
    {
     "name": "stdout",
     "output_type": "stream",
     "text": [
      "STOP CODE:  Stay unchanged in the last 6 iterations\n",
      "> SA ENDS....... \n",
      "\n",
      "> avg loss: 6.285118198174439\n",
      "> For the *819_th* data_key\n",
      "> retail = 279.99,bidincrement = 0.12, bidfee = 0.6, infer PT's parameters\n",
      "> Now do SA....... \n",
      "\n"
     ]
    },
    {
     "name": "stderr",
     "output_type": "stream",
     "text": [
      " 64%|██████▍   | 820/1276 [4:33:42<3:45:44, 29.70s/it]"
     ]
    },
    {
     "name": "stdout",
     "output_type": "stream",
     "text": [
      "STOP CODE:  Stay unchanged in the last 6 iterations\n",
      "> SA ENDS....... \n",
      "\n",
      "> avg loss: 7.004986599494934\n",
      "> For the *820_th* data_key\n",
      "> retail = 179.0,bidincrement = 0.12, bidfee = 0.6, infer PT's parameters\n",
      "> Now do SA....... \n",
      "\n"
     ]
    },
    {
     "name": "stderr",
     "output_type": "stream",
     "text": [
      " 64%|██████▍   | 821/1276 [4:33:50<2:55:27, 23.14s/it]"
     ]
    },
    {
     "name": "stdout",
     "output_type": "stream",
     "text": [
      "STOP CODE:  Stay unchanged in the last 6 iterations\n",
      "> SA ENDS....... \n",
      "\n",
      "> avg loss: 6.565749634562767\n",
      "> For the *821_th* data_key\n",
      "> retail = 406.47,bidincrement = 0.06, bidfee = 0.6, infer PT's parameters\n",
      "> Now do SA....... \n",
      "\n"
     ]
    },
    {
     "name": "stderr",
     "output_type": "stream",
     "text": [
      " 64%|██████▍   | 822/1276 [4:34:08<2:42:37, 21.49s/it]"
     ]
    },
    {
     "name": "stdout",
     "output_type": "stream",
     "text": [
      "STOP CODE:  Stay unchanged in the last 6 iterations\n",
      "> SA ENDS....... \n",
      "\n",
      "> avg loss: 7.475739762542237\n",
      "> For the *822_th* data_key\n",
      "> retail = 259.99,bidincrement = 0.24, bidfee = 0.6, infer PT's parameters\n",
      "> Now do SA....... \n",
      "\n"
     ]
    },
    {
     "name": "stderr",
     "output_type": "stream",
     "text": [
      " 64%|██████▍   | 823/1276 [4:34:11<2:00:28, 15.96s/it]"
     ]
    },
    {
     "name": "stdout",
     "output_type": "stream",
     "text": [
      "STOP CODE:  Stay unchanged in the last 6 iterations\n",
      "> SA ENDS....... \n",
      "\n",
      "> avg loss: 23.02585084782826\n",
      "> For the *823_th* data_key\n",
      "> retail = 79.99,bidincrement = 0.24, bidfee = 0.6, infer PT's parameters\n",
      "> Now do SA....... \n",
      "\n"
     ]
    },
    {
     "name": "stderr",
     "output_type": "stream",
     "text": [
      " 65%|██████▍   | 824/1276 [4:34:13<1:29:47, 11.92s/it]"
     ]
    },
    {
     "name": "stdout",
     "output_type": "stream",
     "text": [
      "STOP CODE:  Stay unchanged in the last 6 iterations\n",
      "> SA ENDS....... \n",
      "\n",
      "> avg loss: 2.8059736442309284\n",
      "> For the *824_th* data_key\n",
      "> retail = 58.8,bidincrement = 0.12, bidfee = 0.6, infer PT's parameters\n",
      "> Now do SA....... \n",
      "\n"
     ]
    },
    {
     "name": "stderr",
     "output_type": "stream",
     "text": [
      " 65%|██████▍   | 825/1276 [4:34:17<1:11:39,  9.53s/it]"
     ]
    },
    {
     "name": "stdout",
     "output_type": "stream",
     "text": [
      "STOP CODE:  Stay unchanged in the last 6 iterations\n",
      "> SA ENDS....... \n",
      "\n",
      "> avg loss: 5.417530102500026\n",
      "> For the *825_th* data_key\n",
      "> retail = 44.99,bidincrement = 0.24, bidfee = 0.6, infer PT's parameters\n",
      "> Now do SA....... \n",
      "\n"
     ]
    },
    {
     "name": "stderr",
     "output_type": "stream",
     "text": [
      " 65%|██████▍   | 826/1276 [4:34:20<56:29,  7.53s/it]  "
     ]
    },
    {
     "name": "stdout",
     "output_type": "stream",
     "text": [
      "STOP CODE:  Stay unchanged in the last 6 iterations\n",
      "> SA ENDS....... \n",
      "\n",
      "> avg loss: 2.2228260006657794\n",
      "> For the *826_th* data_key\n",
      "> retail = 59.99,bidincrement = 0.24, bidfee = 0.6, infer PT's parameters\n",
      "> Now do SA....... \n",
      "\n"
     ]
    },
    {
     "name": "stderr",
     "output_type": "stream",
     "text": [
      " 65%|██████▍   | 827/1276 [4:34:23<45:00,  6.01s/it]"
     ]
    },
    {
     "name": "stdout",
     "output_type": "stream",
     "text": [
      "STOP CODE:  Stay unchanged in the last 6 iterations\n",
      "> SA ENDS....... \n",
      "\n",
      "> avg loss: 2.540833150872268\n",
      "> For the *827_th* data_key\n",
      "> retail = 49.72,bidincrement = 0.24, bidfee = 0.6, infer PT's parameters\n",
      "> Now do SA....... \n",
      "\n"
     ]
    },
    {
     "name": "stderr",
     "output_type": "stream",
     "text": [
      " 65%|██████▍   | 828/1276 [4:34:27<40:42,  5.45s/it]"
     ]
    },
    {
     "name": "stdout",
     "output_type": "stream",
     "text": [
      "STOP CODE:  Stay unchanged in the last 6 iterations\n",
      "> SA ENDS....... \n",
      "\n",
      "> avg loss: 2.915975948024532\n",
      "> For the *828_th* data_key\n",
      "> retail = 419.99,bidincrement = 0.06, bidfee = 0.6, infer PT's parameters\n",
      "> Now do SA....... \n",
      "\n"
     ]
    },
    {
     "name": "stderr",
     "output_type": "stream",
     "text": [
      " 65%|██████▍   | 829/1276 [4:34:48<1:15:17, 10.11s/it]"
     ]
    },
    {
     "name": "stdout",
     "output_type": "stream",
     "text": [
      "STOP CODE:  Stay unchanged in the last 6 iterations\n",
      "> SA ENDS....... \n",
      "\n",
      "> avg loss: 7.503259365691194\n",
      "> For the *829_th* data_key\n",
      "> retail = 8.59,bidincrement = 0.12, bidfee = 0.6, infer PT's parameters\n",
      "> Now do SA....... \n",
      "\n"
     ]
    },
    {
     "name": "stderr",
     "output_type": "stream",
     "text": [
      " 65%|██████▌   | 830/1276 [4:34:49<55:46,  7.50s/it]  "
     ]
    },
    {
     "name": "stdout",
     "output_type": "stream",
     "text": [
      "STOP CODE:  Stay unchanged in the last 6 iterations\n",
      "> SA ENDS....... \n",
      "\n",
      "> avg loss: 3.4764143094591042\n",
      "> For the *830_th* data_key\n",
      "> retail = 9.99,bidincrement = 0.12, bidfee = 0.6, infer PT's parameters\n",
      "> Now do SA....... \n",
      "\n"
     ]
    },
    {
     "name": "stderr",
     "output_type": "stream",
     "text": [
      " 65%|██████▌   | 831/1276 [4:34:53<46:35,  6.28s/it]"
     ]
    },
    {
     "name": "stdout",
     "output_type": "stream",
     "text": [
      "STOP CODE:  Stay unchanged in the last 6 iterations\n",
      "> SA ENDS....... \n",
      "\n",
      "> avg loss: 3.6021711630288094\n",
      "> For the *831_th* data_key\n",
      "> retail = 10.15,bidincrement = 0.12, bidfee = 0.6, infer PT's parameters\n",
      "> Now do SA....... \n",
      "\n"
     ]
    },
    {
     "name": "stderr",
     "output_type": "stream",
     "text": [
      " 65%|██████▌   | 832/1276 [4:34:54<35:29,  4.80s/it]"
     ]
    },
    {
     "name": "stdout",
     "output_type": "stream",
     "text": [
      "STOP CODE:  Stay unchanged in the last 6 iterations\n",
      "> SA ENDS....... \n",
      "\n",
      "> avg loss: 3.6333162246499175\n",
      "> For the *832_th* data_key\n",
      "> retail = 30.0,bidincrement = 0.12, bidfee = 0.6, infer PT's parameters\n",
      "> Now do SA....... \n",
      "\n"
     ]
    },
    {
     "name": "stderr",
     "output_type": "stream",
     "text": [
      " 65%|██████▌   | 833/1276 [4:34:56<30:16,  4.10s/it]"
     ]
    },
    {
     "name": "stdout",
     "output_type": "stream",
     "text": [
      "STOP CODE:  Stay unchanged in the last 6 iterations\n",
      "> SA ENDS....... \n",
      "\n",
      "> avg loss: 4.815008085580499\n",
      "> For the *833_th* data_key\n",
      "> retail = 180.0,bidincrement = 0.12, bidfee = 0.6, infer PT's parameters\n",
      "> Now do SA....... \n",
      "\n"
     ]
    },
    {
     "name": "stderr",
     "output_type": "stream",
     "text": [
      " 65%|██████▌   | 834/1276 [4:35:06<42:09,  5.72s/it]"
     ]
    },
    {
     "name": "stdout",
     "output_type": "stream",
     "text": [
      "STOP CODE:  Stay unchanged in the last 6 iterations\n",
      "> SA ENDS....... \n",
      "\n",
      "> avg loss: 6.502825831008818\n",
      "> For the *834_th* data_key\n",
      "> retail = 45.0,bidincrement = 0.12, bidfee = 0.6, infer PT's parameters\n",
      "> Now do SA....... \n",
      "\n"
     ]
    },
    {
     "name": "stderr",
     "output_type": "stream",
     "text": [
      " 65%|██████▌   | 835/1276 [4:35:12<41:50,  5.69s/it]"
     ]
    },
    {
     "name": "stdout",
     "output_type": "stream",
     "text": [
      "STOP CODE:  Stay unchanged in the last 6 iterations\n",
      "> SA ENDS....... \n",
      "\n",
      "> avg loss: 5.200675797860254\n",
      "> For the *835_th* data_key\n",
      "> retail = 52.99,bidincrement = 0.12, bidfee = 0.6, infer PT's parameters\n",
      "> Now do SA....... \n",
      "\n"
     ]
    },
    {
     "name": "stderr",
     "output_type": "stream",
     "text": [
      " 66%|██████▌   | 836/1276 [4:35:16<39:31,  5.39s/it]"
     ]
    },
    {
     "name": "stdout",
     "output_type": "stream",
     "text": [
      "STOP CODE:  Stay unchanged in the last 6 iterations\n",
      "> SA ENDS....... \n",
      "\n",
      "> avg loss: 5.306655066884533\n",
      "> For the *836_th* data_key\n",
      "> retail = 56.99,bidincrement = 0.12, bidfee = 0.6, infer PT's parameters\n",
      "> Now do SA....... \n",
      "\n"
     ]
    },
    {
     "name": "stderr",
     "output_type": "stream",
     "text": [
      " 66%|██████▌   | 837/1276 [4:35:20<36:02,  4.93s/it]"
     ]
    },
    {
     "name": "stdout",
     "output_type": "stream",
     "text": [
      "STOP CODE:  Stay unchanged in the last 6 iterations\n",
      "> SA ENDS....... \n",
      "\n",
      "> avg loss: 5.395684280162218\n",
      "> For the *837_th* data_key\n",
      "> retail = 19.99,bidincrement = 0.12, bidfee = 0.6, infer PT's parameters\n",
      "> Now do SA....... \n",
      "\n"
     ]
    },
    {
     "name": "stderr",
     "output_type": "stream",
     "text": [
      " 66%|██████▌   | 838/1276 [4:35:21<27:29,  3.77s/it]"
     ]
    },
    {
     "name": "stdout",
     "output_type": "stream",
     "text": [
      "STOP CODE:  Stay unchanged in the last 6 iterations\n",
      "> SA ENDS....... \n",
      "\n",
      "> avg loss: 4.349784806151591\n",
      "> For the *838_th* data_key\n",
      "> retail = 56.99,bidincrement = 0.12, bidfee = 0.6, infer PT's parameters\n",
      "> Now do SA....... \n",
      "\n"
     ]
    },
    {
     "name": "stderr",
     "output_type": "stream",
     "text": [
      " 66%|██████▌   | 839/1276 [4:35:26<30:04,  4.13s/it]"
     ]
    },
    {
     "name": "stdout",
     "output_type": "stream",
     "text": [
      "STOP CODE:  Stay unchanged in the last 6 iterations\n",
      "> SA ENDS....... \n",
      "\n",
      "> avg loss: 5.438876155324764\n",
      "> For the *839_th* data_key\n",
      "> retail = 27.99,bidincrement = 0.12, bidfee = 0.6, infer PT's parameters\n",
      "> Now do SA....... \n",
      "\n"
     ]
    },
    {
     "name": "stderr",
     "output_type": "stream",
     "text": [
      " 66%|██████▌   | 840/1276 [4:35:28<26:09,  3.60s/it]"
     ]
    },
    {
     "name": "stdout",
     "output_type": "stream",
     "text": [
      "STOP CODE:  Stay unchanged in the last 6 iterations\n",
      "> SA ENDS....... \n",
      "\n",
      "> avg loss: 4.700265825991723\n",
      "> For the *840_th* data_key\n",
      "> retail = 99.97,bidincrement = 0.12, bidfee = 0.6, infer PT's parameters\n",
      "> Now do SA....... \n",
      "\n"
     ]
    },
    {
     "name": "stderr",
     "output_type": "stream",
     "text": [
      " 66%|██████▌   | 841/1276 [4:35:35<33:10,  4.58s/it]"
     ]
    },
    {
     "name": "stdout",
     "output_type": "stream",
     "text": [
      "STOP CODE:  Stay unchanged in the last 6 iterations\n",
      "> SA ENDS....... \n",
      "\n",
      "> avg loss: 5.99810195433448\n",
      "> For the *841_th* data_key\n",
      "> retail = 80.79,bidincrement = 0.12, bidfee = 0.6, infer PT's parameters\n",
      "> Now do SA....... \n",
      "\n"
     ]
    },
    {
     "name": "stderr",
     "output_type": "stream",
     "text": [
      " 66%|██████▌   | 842/1276 [4:35:41<36:11,  5.00s/it]"
     ]
    },
    {
     "name": "stdout",
     "output_type": "stream",
     "text": [
      "STOP CODE:  Stay unchanged in the last 6 iterations\n",
      "> SA ENDS....... \n",
      "\n",
      "> avg loss: 5.774958132141074\n",
      "> For the *842_th* data_key\n",
      "> retail = 70.99,bidincrement = 0.12, bidfee = 0.6, infer PT's parameters\n",
      "> Now do SA....... \n",
      "\n"
     ]
    },
    {
     "name": "stderr",
     "output_type": "stream",
     "text": [
      " 66%|██████▌   | 843/1276 [4:35:49<41:54,  5.81s/it]"
     ]
    },
    {
     "name": "stdout",
     "output_type": "stream",
     "text": [
      "STOP CODE:  Stay unchanged in the last 6 iterations\n",
      "> SA ENDS....... \n",
      "\n",
      "> avg loss: 5.61984783275557\n",
      "> For the *843_th* data_key\n",
      "> retail = 19.99,bidincrement = 0.12, bidfee = 0.6, infer PT's parameters\n",
      "> Now do SA....... \n",
      "\n"
     ]
    },
    {
     "name": "stderr",
     "output_type": "stream",
     "text": [
      " 66%|██████▌   | 844/1276 [4:35:51<33:20,  4.63s/it]"
     ]
    },
    {
     "name": "stdout",
     "output_type": "stream",
     "text": [
      "STOP CODE:  Stay unchanged in the last 6 iterations\n",
      "> SA ENDS....... \n",
      "\n",
      "> avg loss: 4.325494147872823\n",
      "> For the *844_th* data_key\n",
      "> retail = 35.95,bidincrement = 0.12, bidfee = 0.6, infer PT's parameters\n",
      "> Now do SA....... \n",
      "\n"
     ]
    },
    {
     "name": "stderr",
     "output_type": "stream",
     "text": [
      " 66%|██████▌   | 845/1276 [4:35:53<28:40,  3.99s/it]"
     ]
    },
    {
     "name": "stdout",
     "output_type": "stream",
     "text": [
      "STOP CODE:  Stay unchanged in the last 6 iterations\n",
      "> SA ENDS....... \n",
      "\n",
      "> avg loss: 4.887498435532958\n",
      "> For the *845_th* data_key\n",
      "> retail = 348.72,bidincrement = 0.06, bidfee = 0.6, infer PT's parameters\n",
      "> Now do SA....... \n",
      "\n"
     ]
    },
    {
     "name": "stderr",
     "output_type": "stream",
     "text": [
      " 66%|██████▋   | 846/1276 [4:36:17<1:11:36,  9.99s/it]"
     ]
    },
    {
     "name": "stdout",
     "output_type": "stream",
     "text": [
      "STOP CODE:  Stay unchanged in the last 6 iterations\n",
      "> SA ENDS....... \n",
      "\n",
      "> avg loss: 7.270962866144927\n",
      "> For the *846_th* data_key\n",
      "> retail = 46.99,bidincrement = 0.12, bidfee = 0.6, infer PT's parameters\n",
      "> Now do SA....... \n",
      "\n"
     ]
    },
    {
     "name": "stderr",
     "output_type": "stream",
     "text": [
      " 66%|██████▋   | 847/1276 [4:36:21<57:06,  7.99s/it]  "
     ]
    },
    {
     "name": "stdout",
     "output_type": "stream",
     "text": [
      "STOP CODE:  Stay unchanged in the last 6 iterations\n",
      "> SA ENDS....... \n",
      "\n",
      "> avg loss: 5.200327158075774\n",
      "> For the *847_th* data_key\n",
      "> retail = 1379.99,bidincrement = 0.02, bidfee = 0.6, infer PT's parameters\n",
      "> Now do SA....... \n",
      "\n"
     ]
    },
    {
     "name": "stderr",
     "output_type": "stream",
     "text": [
      " 66%|██████▋   | 848/1276 [4:38:22<4:59:41, 42.01s/it]"
     ]
    },
    {
     "name": "stdout",
     "output_type": "stream",
     "text": [
      "> 超时\n",
      "> SA ENDS....... \n",
      "\n",
      "> avg loss: 23.02585108580737\n",
      "> For the *848_th* data_key\n",
      "> retail = 771.89,bidincrement = 0.02, bidfee = 0.6, infer PT's parameters\n",
      "> Now do SA....... \n",
      "\n"
     ]
    },
    {
     "name": "stderr",
     "output_type": "stream",
     "text": [
      " 67%|██████▋   | 849/1276 [4:40:23<7:47:12, 65.65s/it]"
     ]
    },
    {
     "name": "stdout",
     "output_type": "stream",
     "text": [
      "> 超时\n",
      "> SA ENDS....... \n",
      "\n",
      "> avg loss: 23.025850993984676\n",
      "> For the *849_th* data_key\n",
      "> retail = 1499.99,bidincrement = 0.02, bidfee = 0.6, infer PT's parameters\n",
      "> Now do SA....... \n",
      "\n"
     ]
    },
    {
     "name": "stderr",
     "output_type": "stream",
     "text": [
      " 67%|██████▋   | 850/1276 [4:42:25<9:45:17, 82.44s/it]"
     ]
    },
    {
     "name": "stdout",
     "output_type": "stream",
     "text": [
      "> 超时\n",
      "> SA ENDS....... \n",
      "\n",
      "> avg loss: 23.025851093461746\n",
      "> For the *850_th* data_key\n",
      "> retail = 169.99,bidincrement = 0.12, bidfee = 0.6, infer PT's parameters\n",
      "> Now do SA....... \n",
      "\n"
     ]
    },
    {
     "name": "stderr",
     "output_type": "stream",
     "text": [
      " 67%|██████▋   | 851/1276 [4:42:33<7:06:26, 60.20s/it]"
     ]
    },
    {
     "name": "stdout",
     "output_type": "stream",
     "text": [
      "STOP CODE:  Stay unchanged in the last 6 iterations\n",
      "> SA ENDS....... \n",
      "\n",
      "> avg loss: 6.400195109765619\n",
      "> For the *851_th* data_key\n",
      "> retail = 1199.99,bidincrement = 0.06, bidfee = 0.6, infer PT's parameters\n",
      "> Now do SA....... \n",
      "\n"
     ]
    },
    {
     "name": "stderr",
     "output_type": "stream",
     "text": [
      " 67%|██████▋   | 852/1276 [4:44:33<9:13:06, 78.27s/it]"
     ]
    },
    {
     "name": "stdout",
     "output_type": "stream",
     "text": [
      "> 超时\n",
      "> SA ENDS....... \n",
      "\n",
      "> avg loss: 23.025851030279433\n",
      "> For the *852_th* data_key\n",
      "> retail = 1199.99,bidincrement = 0.02, bidfee = 0.6, infer PT's parameters\n",
      "> Now do SA....... \n",
      "\n"
     ]
    },
    {
     "name": "stderr",
     "output_type": "stream",
     "text": [
      " 67%|██████▋   | 853/1276 [4:46:26<10:24:59, 88.65s/it]"
     ]
    },
    {
     "name": "stdout",
     "output_type": "stream",
     "text": [
      "STOP CODE:  Stay unchanged in the last 6 iterations\n",
      "> SA ENDS....... \n",
      "\n",
      "> avg loss: 23.025851050399336\n",
      "> For the *853_th* data_key\n",
      "> retail = 898.0,bidincrement = 0.02, bidfee = 0.6, infer PT's parameters\n",
      "> Now do SA....... \n",
      "\n"
     ]
    },
    {
     "name": "stderr",
     "output_type": "stream",
     "text": [
      " 67%|██████▋   | 854/1276 [4:47:49<10:11:37, 86.96s/it]"
     ]
    },
    {
     "name": "stdout",
     "output_type": "stream",
     "text": [
      "STOP CODE:  Stay unchanged in the last 6 iterations\n",
      "> SA ENDS....... \n",
      "\n",
      "> avg loss: 23.025851001567425\n",
      "> For the *854_th* data_key\n",
      "> retail = 898.0,bidincrement = 0.02, bidfee = 0.6, infer PT's parameters\n",
      "> Now do SA....... \n",
      "\n"
     ]
    },
    {
     "name": "stderr",
     "output_type": "stream",
     "text": [
      " 67%|██████▋   | 855/1276 [4:49:50<11:21:51, 97.18s/it]"
     ]
    },
    {
     "name": "stdout",
     "output_type": "stream",
     "text": [
      "> 超时\n",
      "> SA ENDS....... \n",
      "\n",
      "> avg loss: 23.02585100019286\n",
      "> For the *855_th* data_key\n",
      "> retail = 459.0,bidincrement = 0.06, bidfee = 0.6, infer PT's parameters\n",
      "> Now do SA....... \n",
      "\n"
     ]
    },
    {
     "name": "stderr",
     "output_type": "stream",
     "text": [
      " 67%|██████▋   | 856/1276 [4:50:06<8:30:11, 72.88s/it] "
     ]
    },
    {
     "name": "stdout",
     "output_type": "stream",
     "text": [
      "STOP CODE:  Stay unchanged in the last 6 iterations\n",
      "> SA ENDS....... \n",
      "\n",
      "> avg loss: 23.025850917833367\n",
      "> For the *856_th* data_key\n",
      "> retail = 569.99,bidincrement = 0.06, bidfee = 0.6, infer PT's parameters\n",
      "> Now do SA....... \n",
      "\n"
     ]
    },
    {
     "name": "stderr",
     "output_type": "stream",
     "text": [
      " 67%|██████▋   | 857/1276 [4:51:09<8:07:26, 69.80s/it]"
     ]
    },
    {
     "name": "stdout",
     "output_type": "stream",
     "text": [
      "STOP CODE:  Stay unchanged in the last 6 iterations\n",
      "> SA ENDS....... \n",
      "\n",
      "> avg loss: 7.776906807307404\n",
      "> For the *857_th* data_key\n",
      "> retail = 406.47,bidincrement = 0.12, bidfee = 0.6, infer PT's parameters\n",
      "> Now do SA....... \n",
      "\n"
     ]
    },
    {
     "name": "stderr",
     "output_type": "stream",
     "text": [
      " 67%|██████▋   | 858/1276 [4:51:32<6:28:08, 55.71s/it]"
     ]
    },
    {
     "name": "stdout",
     "output_type": "stream",
     "text": [
      "STOP CODE:  Stay unchanged in the last 6 iterations\n",
      "> SA ENDS....... \n",
      "\n",
      "> avg loss: 7.308470572581005\n",
      "> For the *858_th* data_key\n",
      "> retail = 259.99,bidincrement = 0.12, bidfee = 0.6, infer PT's parameters\n",
      "> Now do SA....... \n",
      "\n"
     ]
    },
    {
     "name": "stderr",
     "output_type": "stream",
     "text": [
      " 67%|██████▋   | 859/1276 [4:51:57<5:23:41, 46.57s/it]"
     ]
    },
    {
     "name": "stdout",
     "output_type": "stream",
     "text": [
      "STOP CODE:  Stay unchanged in the last 6 iterations\n",
      "> SA ENDS....... \n",
      "\n",
      "> avg loss: 6.892171010057961\n",
      "> For the *859_th* data_key\n",
      "> retail = 44.99,bidincrement = 0.12, bidfee = 0.6, infer PT's parameters\n",
      "> Now do SA....... \n",
      "\n"
     ]
    },
    {
     "name": "stderr",
     "output_type": "stream",
     "text": [
      " 67%|██████▋   | 860/1276 [4:52:02<3:56:00, 34.04s/it]"
     ]
    },
    {
     "name": "stdout",
     "output_type": "stream",
     "text": [
      "STOP CODE:  Stay unchanged in the last 6 iterations\n",
      "> SA ENDS....... \n",
      "\n",
      "> avg loss: 5.104290969123413\n",
      "> For the *860_th* data_key\n",
      "> retail = 47.47,bidincrement = 0.12, bidfee = 0.6, infer PT's parameters\n",
      "> Now do SA....... \n",
      "\n"
     ]
    },
    {
     "name": "stderr",
     "output_type": "stream",
     "text": [
      " 67%|██████▋   | 861/1276 [4:52:05<2:51:36, 24.81s/it]"
     ]
    },
    {
     "name": "stdout",
     "output_type": "stream",
     "text": [
      "STOP CODE:  Stay unchanged in the last 6 iterations\n",
      "> SA ENDS....... \n",
      "\n",
      "> avg loss: 5.197233672897868\n",
      "> For the *861_th* data_key\n",
      "> retail = 199.99,bidincrement = 0.12, bidfee = 0.6, infer PT's parameters\n",
      "> Now do SA....... \n",
      "\n"
     ]
    },
    {
     "name": "stderr",
     "output_type": "stream",
     "text": [
      " 68%|██████▊   | 862/1276 [4:52:18<2:26:12, 21.19s/it]"
     ]
    },
    {
     "name": "stdout",
     "output_type": "stream",
     "text": [
      "STOP CODE:  Stay unchanged in the last 6 iterations\n",
      "> SA ENDS....... \n",
      "\n",
      "> avg loss: 6.619628564778528\n",
      "> For the *862_th* data_key\n",
      "> retail = 76.99,bidincrement = 0.24, bidfee = 0.6, infer PT's parameters\n",
      "> Now do SA....... \n",
      "\n"
     ]
    },
    {
     "name": "stderr",
     "output_type": "stream",
     "text": [
      " 68%|██████▊   | 863/1276 [4:52:21<1:48:21, 15.74s/it]"
     ]
    },
    {
     "name": "stdout",
     "output_type": "stream",
     "text": [
      "STOP CODE:  Stay unchanged in the last 6 iterations\n",
      "> SA ENDS....... \n",
      "\n",
      "> avg loss: 2.478266606157159\n",
      "> For the *863_th* data_key\n",
      "> retail = 69.99,bidincrement = 0.12, bidfee = 0.6, infer PT's parameters\n",
      "> Now do SA....... \n",
      "\n"
     ]
    },
    {
     "name": "stderr",
     "output_type": "stream",
     "text": [
      " 68%|██████▊   | 864/1276 [4:52:25<1:23:56, 12.23s/it]"
     ]
    },
    {
     "name": "stdout",
     "output_type": "stream",
     "text": [
      "STOP CODE:  Stay unchanged in the last 6 iterations\n",
      "> SA ENDS....... \n",
      "\n",
      "> avg loss: 5.593762521992439\n",
      "> For the *864_th* data_key\n",
      "> retail = 79.99,bidincrement = 0.12, bidfee = 0.6, infer PT's parameters\n",
      "> Now do SA....... \n",
      "\n"
     ]
    },
    {
     "name": "stderr",
     "output_type": "stream",
     "text": [
      " 68%|██████▊   | 865/1276 [4:52:32<1:13:51, 10.78s/it]"
     ]
    },
    {
     "name": "stdout",
     "output_type": "stream",
     "text": [
      "STOP CODE:  Stay unchanged in the last 6 iterations\n",
      "> SA ENDS....... \n",
      "\n",
      "> avg loss: 5.716226390202139\n",
      "> For the *865_th* data_key\n",
      "> retail = 199.99,bidincrement = 0.12, bidfee = 0.6, infer PT's parameters\n",
      "> Now do SA....... \n",
      "\n"
     ]
    },
    {
     "name": "stderr",
     "output_type": "stream",
     "text": [
      " 68%|██████▊   | 866/1276 [4:52:43<1:13:47, 10.80s/it]"
     ]
    },
    {
     "name": "stdout",
     "output_type": "stream",
     "text": [
      "STOP CODE:  Stay unchanged in the last 6 iterations\n",
      "> SA ENDS....... \n",
      "\n",
      "> avg loss: 6.602843174944317\n",
      "> For the *866_th* data_key\n",
      "> retail = 819.99,bidincrement = 0.06, bidfee = 0.6, infer PT's parameters\n",
      "> Now do SA....... \n",
      "\n"
     ]
    },
    {
     "name": "stderr",
     "output_type": "stream",
     "text": [
      " 68%|██████▊   | 867/1276 [4:53:09<1:45:05, 15.42s/it]"
     ]
    },
    {
     "name": "stdout",
     "output_type": "stream",
     "text": [
      "STOP CODE:  Stay unchanged in the last 6 iterations\n",
      "> SA ENDS....... \n",
      "\n",
      "> avg loss: 23.025850982838147\n",
      "> For the *867_th* data_key\n",
      "> retail = 1139.0,bidincrement = 0.06, bidfee = 0.6, infer PT's parameters\n",
      "> Now do SA....... \n",
      "\n"
     ]
    },
    {
     "name": "stderr",
     "output_type": "stream",
     "text": [
      " 68%|██████▊   | 868/1276 [4:53:48<2:31:30, 22.28s/it]"
     ]
    },
    {
     "name": "stdout",
     "output_type": "stream",
     "text": [
      "STOP CODE:  Stay unchanged in the last 6 iterations\n",
      "> SA ENDS....... \n",
      "\n",
      "> avg loss: 23.025851028463926\n",
      "> For the *868_th* data_key\n",
      "> retail = 2099.99,bidincrement = 0.02, bidfee = 0.6, infer PT's parameters\n",
      "> Now do SA....... \n",
      "\n"
     ]
    },
    {
     "name": "stderr",
     "output_type": "stream",
     "text": [
      " 68%|██████▊   | 869/1276 [4:55:50<5:54:23, 52.24s/it]"
     ]
    },
    {
     "name": "stdout",
     "output_type": "stream",
     "text": [
      "> 超时\n",
      "> SA ENDS....... \n",
      "\n",
      "> avg loss: 23.025851221622453\n",
      "> For the *869_th* data_key\n",
      "> retail = 137.4,bidincrement = 0.12, bidfee = 0.6, infer PT's parameters\n",
      "> Now do SA....... \n",
      "\n"
     ]
    },
    {
     "name": "stderr",
     "output_type": "stream",
     "text": [
      " 68%|██████▊   | 870/1276 [4:55:57<4:22:56, 38.86s/it]"
     ]
    },
    {
     "name": "stdout",
     "output_type": "stream",
     "text": [
      "STOP CODE:  Stay unchanged in the last 6 iterations\n",
      "> SA ENDS....... \n",
      "\n",
      "> avg loss: 6.289650798971041\n",
      "> For the *870_th* data_key\n",
      "> retail = 141.67,bidincrement = 0.12, bidfee = 0.6, infer PT's parameters\n",
      "> Now do SA....... \n",
      "\n"
     ]
    },
    {
     "name": "stderr",
     "output_type": "stream",
     "text": [
      " 68%|██████▊   | 871/1276 [4:56:05<3:19:42, 29.59s/it]"
     ]
    },
    {
     "name": "stdout",
     "output_type": "stream",
     "text": [
      "STOP CODE:  Stay unchanged in the last 6 iterations\n",
      "> SA ENDS....... \n",
      "\n",
      "> avg loss: 6.253689757710045\n",
      "> For the *871_th* data_key\n",
      "> retail = 100.67,bidincrement = 0.12, bidfee = 0.6, infer PT's parameters\n",
      "> Now do SA....... \n",
      "\n"
     ]
    },
    {
     "name": "stderr",
     "output_type": "stream",
     "text": [
      " 68%|██████▊   | 872/1276 [4:56:10<2:29:27, 22.20s/it]"
     ]
    },
    {
     "name": "stdout",
     "output_type": "stream",
     "text": [
      "STOP CODE:  Stay unchanged in the last 6 iterations\n",
      "> SA ENDS....... \n",
      "\n",
      "> avg loss: 5.963109343678136\n",
      "> For the *872_th* data_key\n",
      "> retail = 599.99,bidincrement = 0.06, bidfee = 0.6, infer PT's parameters\n",
      "> Now do SA....... \n",
      "\n"
     ]
    },
    {
     "name": "stderr",
     "output_type": "stream",
     "text": [
      " 68%|██████▊   | 873/1276 [4:56:50<3:03:39, 27.34s/it]"
     ]
    },
    {
     "name": "stdout",
     "output_type": "stream",
     "text": [
      "STOP CODE:  Stay unchanged in the last 6 iterations\n",
      "> SA ENDS....... \n",
      "\n",
      "> avg loss: 7.9413427590463455\n",
      "> For the *873_th* data_key\n",
      "> retail = 299.99,bidincrement = 0.12, bidfee = 0.6, infer PT's parameters\n",
      "> Now do SA....... \n",
      "\n"
     ]
    },
    {
     "name": "stderr",
     "output_type": "stream",
     "text": [
      " 68%|██████▊   | 874/1276 [4:57:01<2:30:35, 22.48s/it]"
     ]
    },
    {
     "name": "stdout",
     "output_type": "stream",
     "text": [
      "STOP CODE:  Stay unchanged in the last 6 iterations\n",
      "> SA ENDS....... \n",
      "\n",
      "> avg loss: 7.033669864354538\n",
      "> For the *874_th* data_key\n",
      "> retail = 1699.84,bidincrement = 0.06, bidfee = 0.6, infer PT's parameters\n",
      "> Now do SA....... \n",
      "\n"
     ]
    },
    {
     "name": "stderr",
     "output_type": "stream",
     "text": [
      " 69%|██████▊   | 875/1276 [4:57:57<3:37:04, 32.48s/it]"
     ]
    },
    {
     "name": "stdout",
     "output_type": "stream",
     "text": [
      "STOP CODE:  Stay unchanged in the last 6 iterations\n",
      "> SA ENDS....... \n",
      "\n",
      "> avg loss: 23.025851113248436\n",
      "> For the *875_th* data_key\n",
      "> retail = 599.99,bidincrement = 0.06, bidfee = 0.6, infer PT's parameters\n",
      "> Now do SA....... \n",
      "\n"
     ]
    },
    {
     "name": "stderr",
     "output_type": "stream",
     "text": [
      " 69%|██████▊   | 876/1276 [4:58:18<3:14:24, 29.16s/it]"
     ]
    },
    {
     "name": "stdout",
     "output_type": "stream",
     "text": [
      "STOP CODE:  Stay unchanged in the last 6 iterations\n",
      "> SA ENDS....... \n",
      "\n",
      "> avg loss: 23.025850947558357\n",
      "> For the *876_th* data_key\n",
      "> retail = 32.49,bidincrement = 0.24, bidfee = 0.6, infer PT's parameters\n",
      "> Now do SA....... \n",
      "\n"
     ]
    },
    {
     "name": "stderr",
     "output_type": "stream",
     "text": [
      " 69%|██████▊   | 877/1276 [4:58:22<2:22:55, 21.49s/it]"
     ]
    },
    {
     "name": "stdout",
     "output_type": "stream",
     "text": [
      "STOP CODE:  Stay unchanged in the last 6 iterations\n",
      "> SA ENDS....... \n",
      "\n",
      "> avg loss: 2.3018762377540742\n",
      "> For the *877_th* data_key\n",
      "> retail = 69.49,bidincrement = 0.12, bidfee = 0.6, infer PT's parameters\n",
      "> Now do SA....... \n",
      "\n"
     ]
    },
    {
     "name": "stderr",
     "output_type": "stream",
     "text": [
      " 69%|██████▉   | 878/1276 [4:58:27<1:50:08, 16.60s/it]"
     ]
    },
    {
     "name": "stdout",
     "output_type": "stream",
     "text": [
      "STOP CODE:  Stay unchanged in the last 6 iterations\n",
      "> SA ENDS....... \n",
      "\n",
      "> avg loss: 5.58931531029579\n",
      "> For the *878_th* data_key\n",
      "> retail = 22.95,bidincrement = 0.24, bidfee = 0.6, infer PT's parameters\n",
      "> Now do SA....... \n",
      "\n"
     ]
    },
    {
     "name": "stderr",
     "output_type": "stream",
     "text": [
      " 69%|██████▉   | 879/1276 [4:58:28<1:19:36, 12.03s/it]"
     ]
    },
    {
     "name": "stdout",
     "output_type": "stream",
     "text": [
      "STOP CODE:  Stay unchanged in the last 6 iterations\n",
      "> SA ENDS....... \n",
      "\n",
      "> avg loss: 2.376029061756759\n",
      "> For the *879_th* data_key\n",
      "> retail = 120.99,bidincrement = 0.24, bidfee = 0.6, infer PT's parameters\n",
      "> Now do SA....... \n",
      "\n"
     ]
    },
    {
     "name": "stderr",
     "output_type": "stream",
     "text": [
      " 69%|██████▉   | 880/1276 [4:58:32<1:03:13,  9.58s/it]"
     ]
    },
    {
     "name": "stdout",
     "output_type": "stream",
     "text": [
      "STOP CODE:  Stay unchanged in the last 6 iterations\n",
      "> SA ENDS....... \n",
      "\n",
      "> avg loss: 2.3396593187203685\n",
      "> For the *880_th* data_key\n",
      "> retail = 21.99,bidincrement = 0.24, bidfee = 0.6, infer PT's parameters\n",
      "> Now do SA....... \n",
      "\n"
     ]
    },
    {
     "name": "stderr",
     "output_type": "stream",
     "text": [
      " 69%|██████▉   | 881/1276 [4:58:35<50:24,  7.66s/it]  "
     ]
    },
    {
     "name": "stdout",
     "output_type": "stream",
     "text": [
      "STOP CODE:  Stay unchanged in the last 6 iterations\n",
      "> SA ENDS....... \n",
      "\n",
      "> avg loss: 2.4362549438230494\n",
      "> For the *881_th* data_key\n",
      "> retail = 1468.99,bidincrement = 0.06, bidfee = 0.6, infer PT's parameters\n",
      "> Now do SA....... \n",
      "\n"
     ]
    },
    {
     "name": "stderr",
     "output_type": "stream",
     "text": [
      " 69%|██████▉   | 882/1276 [4:59:38<2:38:06, 24.08s/it]"
     ]
    },
    {
     "name": "stdout",
     "output_type": "stream",
     "text": [
      "STOP CODE:  Stay unchanged in the last 6 iterations\n",
      "> SA ENDS....... \n",
      "\n",
      "> avg loss: 18.28316487443217\n",
      "> For the *882_th* data_key\n",
      "> retail = 19.99,bidincrement = 0.12, bidfee = 0.6, infer PT's parameters\n",
      "> Now do SA....... \n",
      "\n"
     ]
    },
    {
     "name": "stderr",
     "output_type": "stream",
     "text": [
      " 69%|██████▉   | 883/1276 [4:59:41<1:56:04, 17.72s/it]"
     ]
    },
    {
     "name": "stdout",
     "output_type": "stream",
     "text": [
      "STOP CODE:  Stay unchanged in the last 6 iterations\n",
      "> SA ENDS....... \n",
      "\n",
      "> avg loss: 4.3630199491068815\n",
      "> For the *883_th* data_key\n",
      "> retail = 59.99,bidincrement = 0.12, bidfee = 0.6, infer PT's parameters\n",
      "> Now do SA....... \n",
      "\n"
     ]
    },
    {
     "name": "stderr",
     "output_type": "stream",
     "text": [
      " 69%|██████▉   | 884/1276 [4:59:44<1:28:41, 13.57s/it]"
     ]
    },
    {
     "name": "stdout",
     "output_type": "stream",
     "text": [
      "STOP CODE:  Stay unchanged in the last 6 iterations\n",
      "> SA ENDS....... \n",
      "\n",
      "> avg loss: 5.414707137992895\n",
      "> For the *884_th* data_key\n",
      "> retail = 169.99,bidincrement = 0.24, bidfee = 0.6, infer PT's parameters\n",
      "> Now do SA....... \n",
      "\n"
     ]
    },
    {
     "name": "stderr",
     "output_type": "stream",
     "text": [
      " 69%|██████▉   | 885/1276 [4:59:52<1:16:19, 11.71s/it]"
     ]
    },
    {
     "name": "stdout",
     "output_type": "stream",
     "text": [
      "STOP CODE:  Stay unchanged in the last 6 iterations\n",
      "> SA ENDS....... \n",
      "\n",
      "> avg loss: 2.210988295790595\n",
      "> For the *885_th* data_key\n",
      "> retail = 59.99,bidincrement = 0.24, bidfee = 0.6, infer PT's parameters\n",
      "> Now do SA....... \n",
      "\n"
     ]
    },
    {
     "name": "stderr",
     "output_type": "stream",
     "text": [
      " 69%|██████▉   | 886/1276 [4:59:55<58:35,  9.01s/it]  "
     ]
    },
    {
     "name": "stdout",
     "output_type": "stream",
     "text": [
      "STOP CODE:  Stay unchanged in the last 6 iterations\n",
      "> SA ENDS....... \n",
      "\n",
      "> avg loss: 2.8026552276750825\n",
      "> For the *886_th* data_key\n",
      "> retail = 59.99,bidincrement = 0.12, bidfee = 0.6, infer PT's parameters\n",
      "> Now do SA....... \n",
      "\n"
     ]
    },
    {
     "name": "stderr",
     "output_type": "stream",
     "text": [
      " 70%|██████▉   | 887/1276 [5:00:02<55:15,  8.52s/it]"
     ]
    },
    {
     "name": "stdout",
     "output_type": "stream",
     "text": [
      "STOP CODE:  Stay unchanged in the last 6 iterations\n",
      "> SA ENDS....... \n",
      "\n",
      "> avg loss: 5.479499610411422\n",
      "> For the *887_th* data_key\n",
      "> retail = 59.99,bidincrement = 0.24, bidfee = 0.6, infer PT's parameters\n",
      "> Now do SA....... \n",
      "\n"
     ]
    },
    {
     "name": "stderr",
     "output_type": "stream",
     "text": [
      " 70%|██████▉   | 888/1276 [5:00:05<43:45,  6.77s/it]"
     ]
    },
    {
     "name": "stdout",
     "output_type": "stream",
     "text": [
      "STOP CODE:  Stay unchanged in the last 6 iterations\n",
      "> SA ENDS....... \n",
      "\n",
      "> avg loss: 2.327810230911413\n",
      "> For the *888_th* data_key\n",
      "> retail = 59.99,bidincrement = 0.24, bidfee = 0.6, infer PT's parameters\n",
      "> Now do SA....... \n",
      "\n"
     ]
    },
    {
     "name": "stderr",
     "output_type": "stream",
     "text": [
      " 70%|██████▉   | 889/1276 [5:00:08<36:12,  5.61s/it]"
     ]
    },
    {
     "name": "stdout",
     "output_type": "stream",
     "text": [
      "STOP CODE:  Stay unchanged in the last 6 iterations\n",
      "> SA ENDS....... \n",
      "\n",
      "> avg loss: 2.296524138850364\n",
      "> For the *889_th* data_key\n",
      "> retail = 59.99,bidincrement = 0.12, bidfee = 0.6, infer PT's parameters\n",
      "> Now do SA....... \n",
      "\n"
     ]
    },
    {
     "name": "stderr",
     "output_type": "stream",
     "text": [
      " 70%|██████▉   | 890/1276 [5:00:10<30:13,  4.70s/it]"
     ]
    },
    {
     "name": "stdout",
     "output_type": "stream",
     "text": [
      "STOP CODE:  Stay unchanged in the last 6 iterations\n",
      "> SA ENDS....... \n",
      "\n",
      "> avg loss: 5.44485571289972\n",
      "> For the *890_th* data_key\n",
      "> retail = 59.99,bidincrement = 0.24, bidfee = 0.6, infer PT's parameters\n",
      "> Now do SA....... \n",
      "\n"
     ]
    },
    {
     "name": "stderr",
     "output_type": "stream",
     "text": [
      " 70%|██████▉   | 891/1276 [5:00:13<26:51,  4.19s/it]"
     ]
    },
    {
     "name": "stdout",
     "output_type": "stream",
     "text": [
      "STOP CODE:  Stay unchanged in the last 6 iterations\n",
      "> SA ENDS....... \n",
      "\n",
      "> avg loss: 2.537675741661679\n",
      "> For the *891_th* data_key\n",
      "> retail = 99.99,bidincrement = 0.12, bidfee = 0.6, infer PT's parameters\n",
      "> Now do SA....... \n",
      "\n"
     ]
    },
    {
     "name": "stderr",
     "output_type": "stream",
     "text": [
      " 70%|██████▉   | 892/1276 [5:00:17<25:53,  4.05s/it]"
     ]
    },
    {
     "name": "stdout",
     "output_type": "stream",
     "text": [
      "STOP CODE:  Stay unchanged in the last 6 iterations\n",
      "> SA ENDS....... \n",
      "\n",
      "> avg loss: 5.866127407892201\n",
      "> For the *892_th* data_key\n",
      "> retail = 59.99,bidincrement = 0.24, bidfee = 0.6, infer PT's parameters\n",
      "> Now do SA....... \n",
      "\n"
     ]
    },
    {
     "name": "stderr",
     "output_type": "stream",
     "text": [
      " 70%|██████▉   | 893/1276 [5:00:20<24:07,  3.78s/it]"
     ]
    },
    {
     "name": "stdout",
     "output_type": "stream",
     "text": [
      "STOP CODE:  Stay unchanged in the last 6 iterations\n",
      "> SA ENDS....... \n",
      "\n",
      "> avg loss: 2.3050542860604306\n",
      "> For the *893_th* data_key\n",
      "> retail = 49.99,bidincrement = 0.24, bidfee = 0.6, infer PT's parameters\n",
      "> Now do SA....... \n",
      "\n"
     ]
    },
    {
     "name": "stderr",
     "output_type": "stream",
     "text": [
      " 70%|███████   | 894/1276 [5:00:22<21:05,  3.31s/it]"
     ]
    },
    {
     "name": "stdout",
     "output_type": "stream",
     "text": [
      "STOP CODE:  Stay unchanged in the last 6 iterations\n",
      "> SA ENDS....... \n",
      "\n",
      "> avg loss: 2.3711884608536797\n",
      "> For the *894_th* data_key\n",
      "> retail = 64.12,bidincrement = 0.24, bidfee = 0.6, infer PT's parameters\n",
      "> Now do SA....... \n",
      "\n"
     ]
    },
    {
     "name": "stderr",
     "output_type": "stream",
     "text": [
      " 70%|███████   | 895/1276 [5:00:25<19:32,  3.08s/it]"
     ]
    },
    {
     "name": "stdout",
     "output_type": "stream",
     "text": [
      "STOP CODE:  Stay unchanged in the last 6 iterations\n",
      "> SA ENDS....... \n",
      "\n",
      "> avg loss: 2.2282347815580237\n",
      "> For the *895_th* data_key\n",
      "> retail = 10.0,bidincrement = 0.12, bidfee = 0.6, infer PT's parameters\n",
      "> Now do SA....... \n",
      "\n"
     ]
    },
    {
     "name": "stderr",
     "output_type": "stream",
     "text": [
      " 70%|███████   | 896/1276 [5:00:28<19:21,  3.06s/it]"
     ]
    },
    {
     "name": "stdout",
     "output_type": "stream",
     "text": [
      "STOP CODE:  Stay unchanged in the last 6 iterations\n",
      "> SA ENDS....... \n",
      "\n",
      "> avg loss: 3.617721849765178\n",
      "> For the *896_th* data_key\n",
      "> retail = 249.99,bidincrement = 0.12, bidfee = 0.6, infer PT's parameters\n",
      "> Now do SA....... \n",
      "\n"
     ]
    },
    {
     "name": "stderr",
     "output_type": "stream",
     "text": [
      " 70%|███████   | 897/1276 [5:00:41<39:15,  6.22s/it]"
     ]
    },
    {
     "name": "stdout",
     "output_type": "stream",
     "text": [
      "STOP CODE:  Stay unchanged in the last 6 iterations\n",
      "> SA ENDS....... \n",
      "\n",
      "> avg loss: 6.887681216983805\n",
      "> For the *897_th* data_key\n",
      "> retail = 429.99,bidincrement = 0.06, bidfee = 0.6, infer PT's parameters\n",
      "> Now do SA....... \n",
      "\n"
     ]
    },
    {
     "name": "stderr",
     "output_type": "stream",
     "text": [
      " 70%|███████   | 898/1276 [5:01:14<1:29:53, 14.27s/it]"
     ]
    },
    {
     "name": "stdout",
     "output_type": "stream",
     "text": [
      "STOP CODE:  Stay unchanged in the last 6 iterations\n",
      "> SA ENDS....... \n",
      "\n",
      "> avg loss: 7.428203426525607\n",
      "> For the *898_th* data_key\n",
      "> retail = 117.99,bidincrement = 0.12, bidfee = 0.6, infer PT's parameters\n",
      "> Now do SA....... \n",
      "\n"
     ]
    },
    {
     "name": "stderr",
     "output_type": "stream",
     "text": [
      " 70%|███████   | 899/1276 [5:01:18<1:09:27, 11.05s/it]"
     ]
    },
    {
     "name": "stdout",
     "output_type": "stream",
     "text": [
      "STOP CODE:  Stay unchanged in the last 6 iterations\n",
      "> SA ENDS....... \n",
      "\n",
      "> avg loss: 6.101651140919693\n",
      "> For the *899_th* data_key\n",
      "> retail = 162.13,bidincrement = 0.12, bidfee = 0.6, infer PT's parameters\n",
      "> Now do SA....... \n",
      "\n"
     ]
    },
    {
     "name": "stderr",
     "output_type": "stream",
     "text": [
      " 71%|███████   | 900/1276 [5:01:27<1:06:31, 10.61s/it]"
     ]
    },
    {
     "name": "stdout",
     "output_type": "stream",
     "text": [
      "STOP CODE:  Stay unchanged in the last 6 iterations\n",
      "> SA ENDS....... \n",
      "\n",
      "> avg loss: 6.483557602505427\n",
      "> For the *900_th* data_key\n",
      "> retail = 29.95,bidincrement = 0.24, bidfee = 0.6, infer PT's parameters\n",
      "> Now do SA....... \n",
      "\n"
     ]
    },
    {
     "name": "stderr",
     "output_type": "stream",
     "text": [
      " 71%|███████   | 901/1276 [5:01:31<53:11,  8.51s/it]  "
     ]
    },
    {
     "name": "stdout",
     "output_type": "stream",
     "text": [
      "STOP CODE:  Stay unchanged in the last 6 iterations\n",
      "> SA ENDS....... \n",
      "\n",
      "> avg loss: 2.3508656823771212\n",
      "> For the *901_th* data_key\n",
      "> retail = 384.0,bidincrement = 0.12, bidfee = 0.6, infer PT's parameters\n",
      "> Now do SA....... \n",
      "\n"
     ]
    },
    {
     "name": "stderr",
     "output_type": "stream",
     "text": [
      " 71%|███████   | 902/1276 [5:01:49<1:10:56, 11.38s/it]"
     ]
    },
    {
     "name": "stdout",
     "output_type": "stream",
     "text": [
      "STOP CODE:  Stay unchanged in the last 6 iterations\n",
      "> SA ENDS....... \n",
      "\n",
      "> avg loss: 7.337380402579748\n",
      "> For the *902_th* data_key\n",
      "> retail = 149.95,bidincrement = 0.12, bidfee = 0.6, infer PT's parameters\n",
      "> Now do SA....... \n",
      "\n"
     ]
    },
    {
     "name": "stderr",
     "output_type": "stream",
     "text": [
      " 71%|███████   | 903/1276 [5:01:58<1:06:25, 10.69s/it]"
     ]
    },
    {
     "name": "stdout",
     "output_type": "stream",
     "text": [
      "STOP CODE:  Stay unchanged in the last 6 iterations\n",
      "> SA ENDS....... \n",
      "\n",
      "> avg loss: 6.303992022257331\n",
      "> For the *903_th* data_key\n",
      "> retail = 599.99,bidincrement = 0.06, bidfee = 0.6, infer PT's parameters\n",
      "> Now do SA....... \n",
      "\n"
     ]
    },
    {
     "name": "stderr",
     "output_type": "stream",
     "text": [
      " 71%|███████   | 904/1276 [5:03:08<2:57:00, 28.55s/it]"
     ]
    },
    {
     "name": "stdout",
     "output_type": "stream",
     "text": [
      "STOP CODE:  Stay unchanged in the last 6 iterations\n",
      "> SA ENDS....... \n",
      "\n",
      "> avg loss: 7.773316376853475\n",
      "> For the *904_th* data_key\n",
      "> retail = 449.99,bidincrement = 0.12, bidfee = 0.6, infer PT's parameters\n",
      "> Now do SA....... \n",
      "\n"
     ]
    },
    {
     "name": "stderr",
     "output_type": "stream",
     "text": [
      " 71%|███████   | 905/1276 [5:03:31<2:44:32, 26.61s/it]"
     ]
    },
    {
     "name": "stdout",
     "output_type": "stream",
     "text": [
      "STOP CODE:  Stay unchanged in the last 6 iterations\n",
      "> SA ENDS....... \n",
      "\n",
      "> avg loss: 7.43555915953425\n",
      "> For the *905_th* data_key\n",
      "> retail = 299.99,bidincrement = 0.12, bidfee = 0.6, infer PT's parameters\n",
      "> Now do SA....... \n",
      "\n"
     ]
    },
    {
     "name": "stderr",
     "output_type": "stream",
     "text": [
      " 71%|███████   | 906/1276 [5:03:43<2:17:49, 22.35s/it]"
     ]
    },
    {
     "name": "stdout",
     "output_type": "stream",
     "text": [
      "STOP CODE:  Stay unchanged in the last 6 iterations\n",
      "> SA ENDS....... \n",
      "\n",
      "> avg loss: 7.073935758087247\n",
      "> For the *906_th* data_key\n",
      "> retail = 44.5,bidincrement = 0.24, bidfee = 0.6, infer PT's parameters\n",
      "> Now do SA....... \n",
      "\n"
     ]
    },
    {
     "name": "stderr",
     "output_type": "stream",
     "text": [
      " 71%|███████   | 907/1276 [5:03:45<1:40:46, 16.39s/it]"
     ]
    },
    {
     "name": "stdout",
     "output_type": "stream",
     "text": [
      "STOP CODE:  Stay unchanged in the last 6 iterations\n",
      "> SA ENDS....... \n",
      "\n",
      "> avg loss: 2.3171068163543813\n",
      "> For the *907_th* data_key\n",
      "> retail = 59.99,bidincrement = 0.24, bidfee = 0.6, infer PT's parameters\n",
      "> Now do SA....... \n",
      "\n"
     ]
    },
    {
     "name": "stderr",
     "output_type": "stream",
     "text": [
      " 71%|███████   | 908/1276 [5:03:48<1:14:35, 12.16s/it]"
     ]
    },
    {
     "name": "stdout",
     "output_type": "stream",
     "text": [
      "STOP CODE:  Stay unchanged in the last 6 iterations\n",
      "> SA ENDS....... \n",
      "\n",
      "> avg loss: 2.1575081844996222\n",
      "> For the *908_th* data_key\n",
      "> retail = 29.99,bidincrement = 0.24, bidfee = 0.6, infer PT's parameters\n",
      "> Now do SA....... \n",
      "\n"
     ]
    },
    {
     "name": "stderr",
     "output_type": "stream",
     "text": [
      " 71%|███████   | 909/1276 [5:03:50<55:53,  9.14s/it]  "
     ]
    },
    {
     "name": "stdout",
     "output_type": "stream",
     "text": [
      "STOP CODE:  Stay unchanged in the last 6 iterations\n",
      "> SA ENDS....... \n",
      "\n",
      "> avg loss: 2.147725557834181\n",
      "> For the *909_th* data_key\n",
      "> retail = 29.99,bidincrement = 0.24, bidfee = 0.6, infer PT's parameters\n",
      "> Now do SA....... \n",
      "\n"
     ]
    },
    {
     "name": "stderr",
     "output_type": "stream",
     "text": [
      " 71%|███████▏  | 910/1276 [5:03:52<43:04,  7.06s/it]"
     ]
    },
    {
     "name": "stdout",
     "output_type": "stream",
     "text": [
      "STOP CODE:  Stay unchanged in the last 6 iterations\n",
      "> SA ENDS....... \n",
      "\n",
      "> avg loss: 2.219641078341252\n",
      "> For the *910_th* data_key\n",
      "> retail = 1299.0,bidincrement = 0.02, bidfee = 0.6, infer PT's parameters\n",
      "> Now do SA....... \n",
      "\n"
     ]
    },
    {
     "name": "stderr",
     "output_type": "stream",
     "text": [
      " 71%|███████▏  | 911/1276 [5:05:53<4:11:23, 41.33s/it]"
     ]
    },
    {
     "name": "stdout",
     "output_type": "stream",
     "text": [
      "> 超时\n",
      "> SA ENDS....... \n",
      "\n",
      "> avg loss: 23.02585107232001\n",
      "> For the *911_th* data_key\n",
      "> retail = 549.99,bidincrement = 0.12, bidfee = 0.6, infer PT's parameters\n",
      "> Now do SA....... \n",
      "\n"
     ]
    },
    {
     "name": "stderr",
     "output_type": "stream",
     "text": [
      " 71%|███████▏  | 912/1276 [5:06:08<3:21:36, 33.23s/it]"
     ]
    },
    {
     "name": "stdout",
     "output_type": "stream",
     "text": [
      "STOP CODE:  Stay unchanged in the last 6 iterations\n",
      "> SA ENDS....... \n",
      "\n",
      "> avg loss: 22.981227549704116\n",
      "> For the *912_th* data_key\n",
      "> retail = 30.0,bidincrement = 0.02, bidfee = 0.6, infer PT's parameters\n",
      "> Now do SA....... \n",
      "\n"
     ]
    },
    {
     "name": "stderr",
     "output_type": "stream",
     "text": [
      " 72%|███████▏  | 913/1276 [5:06:13<2:30:05, 24.81s/it]"
     ]
    },
    {
     "name": "stdout",
     "output_type": "stream",
     "text": [
      "STOP CODE:  Stay unchanged in the last 6 iterations\n",
      "> SA ENDS....... \n",
      "\n",
      "> avg loss: 4.874853215953548\n",
      "> For the *913_th* data_key\n",
      "> retail = 180.0,bidincrement = 0.02, bidfee = 0.6, infer PT's parameters\n",
      "> Now do SA....... \n",
      "\n"
     ]
    },
    {
     "name": "stderr",
     "output_type": "stream",
     "text": [
      " 72%|███████▏  | 914/1276 [5:06:39<2:32:26, 25.27s/it]"
     ]
    },
    {
     "name": "stdout",
     "output_type": "stream",
     "text": [
      "STOP CODE:  Stay unchanged in the last 6 iterations\n",
      "> SA ENDS....... \n",
      "\n",
      "> avg loss: 6.6604816302130825\n",
      "> For the *914_th* data_key\n",
      "> retail = 12.0,bidincrement = 0.02, bidfee = 0.6, infer PT's parameters\n",
      "> Now do SA....... \n",
      "\n"
     ]
    },
    {
     "name": "stderr",
     "output_type": "stream",
     "text": [
      " 72%|███████▏  | 915/1276 [5:06:42<1:51:29, 18.53s/it]"
     ]
    },
    {
     "name": "stdout",
     "output_type": "stream",
     "text": [
      "STOP CODE:  Stay unchanged in the last 6 iterations\n",
      "> SA ENDS....... \n",
      "\n",
      "> avg loss: 3.9461532446881353\n",
      "> For the *915_th* data_key\n",
      "> retail = 45.0,bidincrement = 0.02, bidfee = 0.6, infer PT's parameters\n",
      "> Now do SA....... \n",
      "\n"
     ]
    },
    {
     "name": "stderr",
     "output_type": "stream",
     "text": [
      " 72%|███████▏  | 916/1276 [5:06:53<1:37:06, 16.19s/it]"
     ]
    },
    {
     "name": "stdout",
     "output_type": "stream",
     "text": [
      "STOP CODE:  Stay unchanged in the last 6 iterations\n",
      "> SA ENDS....... \n",
      "\n",
      "> avg loss: 5.381637698486376\n",
      "> For the *916_th* data_key\n",
      "> retail = 779.99,bidincrement = 0.06, bidfee = 0.6, infer PT's parameters\n",
      "> Now do SA....... \n",
      "\n"
     ]
    },
    {
     "name": "stderr",
     "output_type": "stream",
     "text": [
      " 72%|███████▏  | 917/1276 [5:07:56<3:01:57, 30.41s/it]"
     ]
    },
    {
     "name": "stdout",
     "output_type": "stream",
     "text": [
      "STOP CODE:  Stay unchanged in the last 6 iterations\n",
      "> SA ENDS....... \n",
      "\n",
      "> avg loss: 8.118452784460617\n",
      "> For the *917_th* data_key\n",
      "> retail = 459.99,bidincrement = 0.24, bidfee = 0.6, infer PT's parameters\n",
      "> Now do SA....... \n",
      "\n"
     ]
    },
    {
     "name": "stderr",
     "output_type": "stream",
     "text": [
      " 72%|███████▏  | 918/1276 [5:08:00<2:14:12, 22.49s/it]"
     ]
    },
    {
     "name": "stdout",
     "output_type": "stream",
     "text": [
      "STOP CODE:  Stay unchanged in the last 6 iterations\n",
      "> SA ENDS....... \n",
      "\n",
      "> avg loss: 23.02585084746819\n",
      "> For the *918_th* data_key\n",
      "> retail = 129.99,bidincrement = 0.12, bidfee = 0.6, infer PT's parameters\n",
      "> Now do SA....... \n",
      "\n"
     ]
    },
    {
     "name": "stderr",
     "output_type": "stream",
     "text": [
      " 72%|███████▏  | 919/1276 [5:08:08<1:46:34, 17.91s/it]"
     ]
    },
    {
     "name": "stdout",
     "output_type": "stream",
     "text": [
      "STOP CODE:  Stay unchanged in the last 6 iterations\n",
      "> SA ENDS....... \n",
      "\n",
      "> avg loss: 6.148044174733474\n",
      "> For the *919_th* data_key\n",
      "> retail = 270.0,bidincrement = 0.12, bidfee = 0.6, infer PT's parameters\n",
      "> Now do SA....... \n",
      "\n"
     ]
    },
    {
     "name": "stderr",
     "output_type": "stream",
     "text": [
      " 72%|███████▏  | 920/1276 [5:08:28<1:50:56, 18.70s/it]"
     ]
    },
    {
     "name": "stdout",
     "output_type": "stream",
     "text": [
      "STOP CODE:  Stay unchanged in the last 6 iterations\n",
      "> SA ENDS....... \n",
      "\n",
      "> avg loss: 6.947894947093248\n",
      "> For the *920_th* data_key\n",
      "> retail = 59.99,bidincrement = 0.24, bidfee = 0.6, infer PT's parameters\n",
      "> Now do SA....... \n",
      "\n"
     ]
    },
    {
     "name": "stderr",
     "output_type": "stream",
     "text": [
      " 72%|███████▏  | 921/1276 [5:08:30<1:21:36, 13.79s/it]"
     ]
    },
    {
     "name": "stdout",
     "output_type": "stream",
     "text": [
      "STOP CODE:  Stay unchanged in the last 6 iterations\n",
      "> SA ENDS....... \n",
      "\n",
      "> avg loss: 3.701096911897077\n",
      "> For the *921_th* data_key\n",
      "> retail = 49.99,bidincrement = 0.12, bidfee = 0.6, infer PT's parameters\n",
      "> Now do SA....... \n",
      "\n"
     ]
    },
    {
     "name": "stderr",
     "output_type": "stream",
     "text": [
      " 72%|███████▏  | 922/1276 [5:08:34<1:03:16, 10.72s/it]"
     ]
    },
    {
     "name": "stdout",
     "output_type": "stream",
     "text": [
      "STOP CODE:  Stay unchanged in the last 6 iterations\n",
      "> SA ENDS....... \n",
      "\n",
      "> avg loss: 5.229395368283956\n",
      "> For the *922_th* data_key\n",
      "> retail = 49.99,bidincrement = 0.24, bidfee = 0.6, infer PT's parameters\n",
      "> Now do SA....... \n",
      "\n"
     ]
    },
    {
     "name": "stderr",
     "output_type": "stream",
     "text": [
      " 72%|███████▏  | 923/1276 [5:08:37<49:21,  8.39s/it]  "
     ]
    },
    {
     "name": "stdout",
     "output_type": "stream",
     "text": [
      "STOP CODE:  Stay unchanged in the last 6 iterations\n",
      "> SA ENDS....... \n",
      "\n",
      "> avg loss: 2.749823583966096\n",
      "> For the *923_th* data_key\n",
      "> retail = 59.99,bidincrement = 0.12, bidfee = 0.6, infer PT's parameters\n",
      "> Now do SA....... \n",
      "\n"
     ]
    },
    {
     "name": "stderr",
     "output_type": "stream",
     "text": [
      " 72%|███████▏  | 924/1276 [5:08:44<47:20,  8.07s/it]"
     ]
    },
    {
     "name": "stdout",
     "output_type": "stream",
     "text": [
      "STOP CODE:  Stay unchanged in the last 6 iterations\n",
      "> SA ENDS....... \n",
      "\n",
      "> avg loss: 5.468340853169301\n",
      "> For the *924_th* data_key\n",
      "> retail = 59.99,bidincrement = 0.12, bidfee = 0.6, infer PT's parameters\n",
      "> Now do SA....... \n",
      "\n"
     ]
    },
    {
     "name": "stderr",
     "output_type": "stream",
     "text": [
      " 72%|███████▏  | 925/1276 [5:08:48<40:02,  6.84s/it]"
     ]
    },
    {
     "name": "stdout",
     "output_type": "stream",
     "text": [
      "STOP CODE:  Stay unchanged in the last 6 iterations\n",
      "> SA ENDS....... \n",
      "\n",
      "> avg loss: 5.353134911576718\n",
      "> For the *925_th* data_key\n",
      "> retail = 59.99,bidincrement = 0.12, bidfee = 0.6, infer PT's parameters\n",
      "> Now do SA....... \n",
      "\n"
     ]
    },
    {
     "name": "stderr",
     "output_type": "stream",
     "text": [
      " 73%|███████▎  | 926/1276 [5:08:51<32:51,  5.63s/it]"
     ]
    },
    {
     "name": "stdout",
     "output_type": "stream",
     "text": [
      "STOP CODE:  Stay unchanged in the last 6 iterations\n",
      "> SA ENDS....... \n",
      "\n",
      "> avg loss: 5.510827357626148\n",
      "> For the *926_th* data_key\n",
      "> retail = 49.99,bidincrement = 0.12, bidfee = 0.6, infer PT's parameters\n",
      "> Now do SA....... \n",
      "\n"
     ]
    },
    {
     "name": "stderr",
     "output_type": "stream",
     "text": [
      " 73%|███████▎  | 927/1276 [5:08:54<28:49,  4.96s/it]"
     ]
    },
    {
     "name": "stdout",
     "output_type": "stream",
     "text": [
      "STOP CODE:  Stay unchanged in the last 6 iterations\n",
      "> SA ENDS....... \n",
      "\n",
      "> avg loss: 5.2909130970363565\n",
      "> For the *927_th* data_key\n",
      "> retail = 799.99,bidincrement = 0.06, bidfee = 0.6, infer PT's parameters\n",
      "> Now do SA....... \n",
      "\n"
     ]
    },
    {
     "name": "stderr",
     "output_type": "stream",
     "text": [
      " 73%|███████▎  | 928/1276 [5:10:27<3:01:00, 31.21s/it]"
     ]
    },
    {
     "name": "stdout",
     "output_type": "stream",
     "text": [
      "STOP CODE:  Stay unchanged in the last 6 iterations\n",
      "> SA ENDS....... \n",
      "\n",
      "> avg loss: 8.162687442754763\n",
      "> For the *928_th* data_key\n",
      "> retail = 799.99,bidincrement = 0.02, bidfee = 0.6, infer PT's parameters\n",
      "> Now do SA....... \n",
      "\n"
     ]
    },
    {
     "name": "stderr",
     "output_type": "stream",
     "text": [
      " 73%|███████▎  | 929/1276 [5:11:43<4:18:51, 44.76s/it]"
     ]
    },
    {
     "name": "stdout",
     "output_type": "stream",
     "text": [
      "STOP CODE:  Stay unchanged in the last 6 iterations\n",
      "> SA ENDS....... \n",
      "\n",
      "> avg loss: 23.025850984996474\n",
      "> For the *929_th* data_key\n",
      "> retail = 19.99,bidincrement = 0.12, bidfee = 0.6, infer PT's parameters\n",
      "> Now do SA....... \n",
      "\n"
     ]
    },
    {
     "name": "stderr",
     "output_type": "stream",
     "text": [
      " 73%|███████▎  | 930/1276 [5:11:48<3:08:35, 32.70s/it]"
     ]
    },
    {
     "name": "stdout",
     "output_type": "stream",
     "text": [
      "STOP CODE:  Stay unchanged in the last 6 iterations\n",
      "> SA ENDS....... \n",
      "\n",
      "> avg loss: 4.350145102836678\n",
      "> For the *930_th* data_key\n",
      "> retail = 849.99,bidincrement = 0.02, bidfee = 0.6, infer PT's parameters\n",
      "> Now do SA....... \n",
      "\n"
     ]
    },
    {
     "name": "stderr",
     "output_type": "stream",
     "text": [
      " 73%|███████▎  | 931/1276 [5:13:49<5:40:10, 59.16s/it]"
     ]
    },
    {
     "name": "stdout",
     "output_type": "stream",
     "text": [
      "> 超时\n",
      "> SA ENDS....... \n",
      "\n",
      "> avg loss: 23.02585098827084\n",
      "> For the *931_th* data_key\n",
      "> retail = 2799.99,bidincrement = 0.02, bidfee = 0.6, infer PT's parameters\n",
      "> Now do SA....... \n",
      "\n"
     ]
    },
    {
     "name": "stderr",
     "output_type": "stream",
     "text": [
      " 73%|███████▎  | 932/1276 [5:15:52<7:28:50, 78.29s/it]"
     ]
    },
    {
     "name": "stdout",
     "output_type": "stream",
     "text": [
      "> 超时\n",
      "> SA ENDS....... \n",
      "\n",
      "> avg loss: 23.025851317135405\n",
      "> For the *932_th* data_key\n",
      "> retail = 1599.99,bidincrement = 0.02, bidfee = 0.6, infer PT's parameters\n",
      "> Now do SA....... \n",
      "\n"
     ]
    },
    {
     "name": "stderr",
     "output_type": "stream",
     "text": [
      " 73%|███████▎  | 933/1276 [5:17:53<8:41:58, 91.31s/it]"
     ]
    },
    {
     "name": "stdout",
     "output_type": "stream",
     "text": [
      "> 超时\n",
      "> SA ENDS....... \n",
      "\n",
      "> avg loss: 23.025851139378\n",
      "> For the *933_th* data_key\n",
      "> retail = 249.99,bidincrement = 0.12, bidfee = 0.6, infer PT's parameters\n",
      "> Now do SA....... \n",
      "\n"
     ]
    },
    {
     "name": "stderr",
     "output_type": "stream",
     "text": [
      " 73%|███████▎  | 934/1276 [5:18:09<6:30:28, 68.50s/it]"
     ]
    },
    {
     "name": "stdout",
     "output_type": "stream",
     "text": [
      "STOP CODE:  Stay unchanged in the last 6 iterations\n",
      "> SA ENDS....... \n",
      "\n",
      "> avg loss: 6.877147167151453\n",
      "> For the *934_th* data_key\n",
      "> retail = 1749.0,bidincrement = 0.06, bidfee = 0.6, infer PT's parameters\n",
      "> Now do SA....... \n",
      "\n"
     ]
    },
    {
     "name": "stderr",
     "output_type": "stream",
     "text": [
      " 73%|███████▎  | 935/1276 [5:20:09<7:58:04, 84.12s/it]"
     ]
    },
    {
     "name": "stdout",
     "output_type": "stream",
     "text": [
      "> 超时\n",
      "> SA ENDS....... \n",
      "\n",
      "> avg loss: 23.025851115508107\n",
      "> For the *935_th* data_key\n",
      "> retail = 140.0,bidincrement = 0.24, bidfee = 0.6, infer PT's parameters\n",
      "> Now do SA....... \n",
      "\n"
     ]
    },
    {
     "name": "stderr",
     "output_type": "stream",
     "text": [
      " 73%|███████▎  | 936/1276 [5:20:13<5:40:08, 60.02s/it]"
     ]
    },
    {
     "name": "stdout",
     "output_type": "stream",
     "text": [
      "STOP CODE:  Stay unchanged in the last 6 iterations\n",
      "> SA ENDS....... \n",
      "\n",
      "> avg loss: 3.028897596758116\n",
      "> For the *936_th* data_key\n",
      "> retail = 1169.0,bidincrement = 0.02, bidfee = 0.6, infer PT's parameters\n",
      "> Now do SA....... \n",
      "\n"
     ]
    },
    {
     "name": "stderr",
     "output_type": "stream",
     "text": [
      " 73%|███████▎  | 937/1276 [5:22:01<7:00:20, 74.40s/it]"
     ]
    },
    {
     "name": "stdout",
     "output_type": "stream",
     "text": [
      "STOP CODE:  Stay unchanged in the last 6 iterations\n",
      "> SA ENDS....... \n",
      "\n",
      "> avg loss: 23.02585106611415\n",
      "> For the *937_th* data_key\n",
      "> retail = 50.99,bidincrement = 0.24, bidfee = 0.6, infer PT's parameters\n",
      "> Now do SA....... \n",
      "\n"
     ]
    },
    {
     "name": "stderr",
     "output_type": "stream",
     "text": [
      " 74%|███████▎  | 938/1276 [5:22:03<4:56:18, 52.60s/it]"
     ]
    },
    {
     "name": "stdout",
     "output_type": "stream",
     "text": [
      "STOP CODE:  Stay unchanged in the last 6 iterations\n",
      "> SA ENDS....... \n",
      "\n",
      "> avg loss: 2.1434485841575315\n",
      "> For the *938_th* data_key\n",
      "> retail = 86.99,bidincrement = 0.12, bidfee = 0.6, infer PT's parameters\n",
      "> Now do SA....... \n",
      "\n"
     ]
    },
    {
     "name": "stderr",
     "output_type": "stream",
     "text": [
      " 74%|███████▎  | 939/1276 [5:22:08<3:36:39, 38.57s/it]"
     ]
    },
    {
     "name": "stdout",
     "output_type": "stream",
     "text": [
      "STOP CODE:  Stay unchanged in the last 6 iterations\n",
      "> SA ENDS....... \n",
      "\n",
      "> avg loss: 5.807432149968411\n",
      "> For the *939_th* data_key\n",
      "> retail = 39.95,bidincrement = 0.12, bidfee = 0.6, infer PT's parameters\n",
      "> Now do SA....... \n",
      "\n"
     ]
    },
    {
     "name": "stderr",
     "output_type": "stream",
     "text": [
      " 74%|███████▎  | 940/1276 [5:22:12<2:37:00, 28.04s/it]"
     ]
    },
    {
     "name": "stdout",
     "output_type": "stream",
     "text": [
      "STOP CODE:  Stay unchanged in the last 6 iterations\n",
      "> SA ENDS....... \n",
      "\n",
      "> avg loss: 5.068919548895936\n",
      "> For the *940_th* data_key\n",
      "> retail = 29.99,bidincrement = 0.12, bidfee = 0.6, infer PT's parameters\n",
      "> Now do SA....... \n",
      "\n"
     ]
    },
    {
     "name": "stderr",
     "output_type": "stream",
     "text": [
      " 74%|███████▎  | 941/1276 [5:22:16<1:56:32, 20.87s/it]"
     ]
    },
    {
     "name": "stdout",
     "output_type": "stream",
     "text": [
      "STOP CODE:  Stay unchanged in the last 6 iterations\n",
      "> SA ENDS....... \n",
      "\n",
      "> avg loss: 4.773276824797987\n",
      "> For the *941_th* data_key\n",
      "> retail = 39.99,bidincrement = 0.12, bidfee = 0.6, infer PT's parameters\n",
      "> Now do SA....... \n",
      "\n"
     ]
    },
    {
     "name": "stderr",
     "output_type": "stream",
     "text": [
      " 74%|███████▍  | 942/1276 [5:22:20<1:27:05, 15.65s/it]"
     ]
    },
    {
     "name": "stdout",
     "output_type": "stream",
     "text": [
      "STOP CODE:  Stay unchanged in the last 6 iterations\n",
      "> SA ENDS....... \n",
      "\n",
      "> avg loss: 5.019918211665078\n",
      "> For the *942_th* data_key\n",
      "> retail = 29.99,bidincrement = 0.12, bidfee = 0.6, infer PT's parameters\n",
      "> Now do SA....... \n",
      "\n"
     ]
    },
    {
     "name": "stderr",
     "output_type": "stream",
     "text": [
      " 74%|███████▍  | 943/1276 [5:22:22<1:05:07, 11.73s/it]"
     ]
    },
    {
     "name": "stdout",
     "output_type": "stream",
     "text": [
      "STOP CODE:  Stay unchanged in the last 6 iterations\n",
      "> SA ENDS....... \n",
      "\n",
      "> avg loss: 4.731921266387624\n",
      "> For the *943_th* data_key\n",
      "> retail = 34.99,bidincrement = 0.12, bidfee = 0.6, infer PT's parameters\n",
      "> Now do SA....... \n",
      "\n"
     ]
    },
    {
     "name": "stderr",
     "output_type": "stream",
     "text": [
      " 74%|███████▍  | 944/1276 [5:22:25<49:51,  9.01s/it]  "
     ]
    },
    {
     "name": "stdout",
     "output_type": "stream",
     "text": [
      "STOP CODE:  Stay unchanged in the last 6 iterations\n",
      "> SA ENDS....... \n",
      "\n",
      "> avg loss: 4.889971701059291\n",
      "> For the *944_th* data_key\n",
      "> retail = 29.99,bidincrement = 0.12, bidfee = 0.6, infer PT's parameters\n",
      "> Now do SA....... \n",
      "\n"
     ]
    },
    {
     "name": "stderr",
     "output_type": "stream",
     "text": [
      " 74%|███████▍  | 945/1276 [5:22:27<38:15,  6.93s/it]"
     ]
    },
    {
     "name": "stdout",
     "output_type": "stream",
     "text": [
      "STOP CODE:  Stay unchanged in the last 6 iterations\n",
      "> SA ENDS....... \n",
      "\n",
      "> avg loss: 4.710504465869383\n",
      "> For the *945_th* data_key\n",
      "> retail = 59.99,bidincrement = 0.12, bidfee = 0.6, infer PT's parameters\n",
      "> Now do SA....... \n",
      "\n"
     ]
    },
    {
     "name": "stderr",
     "output_type": "stream",
     "text": [
      " 74%|███████▍  | 946/1276 [5:22:31<34:09,  6.21s/it]"
     ]
    },
    {
     "name": "stdout",
     "output_type": "stream",
     "text": [
      "STOP CODE:  Stay unchanged in the last 6 iterations\n",
      "> SA ENDS....... \n",
      "\n",
      "> avg loss: 5.40263497989144\n",
      "> For the *946_th* data_key\n",
      "> retail = 61.0,bidincrement = 0.12, bidfee = 0.6, infer PT's parameters\n",
      "> Now do SA....... \n",
      "\n"
     ]
    },
    {
     "name": "stderr",
     "output_type": "stream",
     "text": [
      " 74%|███████▍  | 947/1276 [5:22:37<33:22,  6.09s/it]"
     ]
    },
    {
     "name": "stdout",
     "output_type": "stream",
     "text": [
      "STOP CODE:  Stay unchanged in the last 6 iterations\n",
      "> SA ENDS....... \n",
      "\n",
      "> avg loss: 5.551667036859053\n",
      "> For the *947_th* data_key\n",
      "> retail = 1999.99,bidincrement = 0.02, bidfee = 0.6, infer PT's parameters\n",
      "> Now do SA....... \n",
      "\n"
     ]
    },
    {
     "name": "stderr",
     "output_type": "stream",
     "text": [
      " 74%|███████▍  | 948/1276 [5:24:39<3:43:17, 40.84s/it]"
     ]
    },
    {
     "name": "stdout",
     "output_type": "stream",
     "text": [
      "> 超时\n",
      "> SA ENDS....... \n",
      "\n",
      "> avg loss: 23.02585118776711\n",
      "> For the *948_th* data_key\n",
      "> retail = 72.0,bidincrement = 0.24, bidfee = 0.6, infer PT's parameters\n",
      "> Now do SA....... \n",
      "\n"
     ]
    },
    {
     "name": "stderr",
     "output_type": "stream",
     "text": [
      " 74%|███████▍  | 949/1276 [5:24:44<2:43:55, 30.08s/it]"
     ]
    },
    {
     "name": "stdout",
     "output_type": "stream",
     "text": [
      "STOP CODE:  Stay unchanged in the last 6 iterations\n",
      "> SA ENDS....... \n",
      "\n",
      "> avg loss: 3.2603226567189347\n",
      "> For the *949_th* data_key\n",
      "> retail = 67.5,bidincrement = 0.24, bidfee = 0.6, infer PT's parameters\n",
      "> Now do SA....... \n",
      "\n"
     ]
    },
    {
     "name": "stderr",
     "output_type": "stream",
     "text": [
      " 74%|███████▍  | 950/1276 [5:24:47<1:58:41, 21.84s/it]"
     ]
    },
    {
     "name": "stdout",
     "output_type": "stream",
     "text": [
      "STOP CODE:  Stay unchanged in the last 6 iterations\n",
      "> SA ENDS....... \n",
      "\n",
      "> avg loss: 3.126999382114103\n",
      "> For the *950_th* data_key\n",
      "> retail = 129.99,bidincrement = 0.12, bidfee = 0.6, infer PT's parameters\n",
      "> Now do SA....... \n",
      "\n"
     ]
    },
    {
     "name": "stderr",
     "output_type": "stream",
     "text": [
      " 75%|███████▍  | 951/1276 [5:24:55<1:36:39, 17.84s/it]"
     ]
    },
    {
     "name": "stdout",
     "output_type": "stream",
     "text": [
      "STOP CODE:  Stay unchanged in the last 6 iterations\n",
      "> SA ENDS....... \n",
      "\n",
      "> avg loss: 6.224900244336639\n",
      "> For the *951_th* data_key\n",
      "> retail = 69.99,bidincrement = 0.24, bidfee = 0.6, infer PT's parameters\n",
      "> Now do SA....... \n",
      "\n"
     ]
    },
    {
     "name": "stderr",
     "output_type": "stream",
     "text": [
      " 75%|███████▍  | 952/1276 [5:24:58<1:11:23, 13.22s/it]"
     ]
    },
    {
     "name": "stdout",
     "output_type": "stream",
     "text": [
      "STOP CODE:  Stay unchanged in the last 6 iterations\n",
      "> SA ENDS....... \n",
      "\n",
      "> avg loss: 3.3062469519551856\n",
      "> For the *952_th* data_key\n",
      "> retail = 99.99,bidincrement = 0.24, bidfee = 0.6, infer PT's parameters\n",
      "> Now do SA....... \n",
      "\n"
     ]
    },
    {
     "name": "stderr",
     "output_type": "stream",
     "text": [
      " 75%|███████▍  | 953/1276 [5:25:00<53:23,  9.92s/it]  "
     ]
    },
    {
     "name": "stdout",
     "output_type": "stream",
     "text": [
      "STOP CODE:  Stay unchanged in the last 6 iterations\n",
      "> SA ENDS....... \n",
      "\n",
      "> avg loss: 2.905095034735084\n",
      "> For the *953_th* data_key\n",
      "> retail = 84.99,bidincrement = 0.24, bidfee = 0.6, infer PT's parameters\n",
      "> Now do SA....... \n",
      "\n"
     ]
    },
    {
     "name": "stderr",
     "output_type": "stream",
     "text": [
      " 75%|███████▍  | 954/1276 [5:25:02<40:17,  7.51s/it]"
     ]
    },
    {
     "name": "stdout",
     "output_type": "stream",
     "text": [
      "STOP CODE:  Stay unchanged in the last 6 iterations\n",
      "> SA ENDS....... \n",
      "\n",
      "> avg loss: 3.0103067450123167\n",
      "> For the *954_th* data_key\n",
      "> retail = 31.99,bidincrement = 0.12, bidfee = 0.6, infer PT's parameters\n",
      "> Now do SA....... \n",
      "\n"
     ]
    },
    {
     "name": "stderr",
     "output_type": "stream",
     "text": [
      " 75%|███████▍  | 955/1276 [5:25:05<33:40,  6.29s/it]"
     ]
    },
    {
     "name": "stdout",
     "output_type": "stream",
     "text": [
      "STOP CODE:  Stay unchanged in the last 6 iterations\n",
      "> SA ENDS....... \n",
      "\n",
      "> avg loss: 4.779279674290052\n",
      "> For the *955_th* data_key\n",
      "> retail = 899.99,bidincrement = 0.06, bidfee = 0.6, infer PT's parameters\n",
      "> Now do SA....... \n",
      "\n"
     ]
    },
    {
     "name": "stderr",
     "output_type": "stream",
     "text": [
      " 75%|███████▍  | 956/1276 [5:26:01<1:53:00, 21.19s/it]"
     ]
    },
    {
     "name": "stdout",
     "output_type": "stream",
     "text": [
      "STOP CODE:  Stay unchanged in the last 6 iterations\n",
      "> SA ENDS....... \n",
      "\n",
      "> avg loss: 8.28113600178205\n",
      "> For the *956_th* data_key\n",
      "> retail = 39.99,bidincrement = 0.12, bidfee = 0.6, infer PT's parameters\n",
      "> Now do SA....... \n",
      "\n"
     ]
    },
    {
     "name": "stderr",
     "output_type": "stream",
     "text": [
      " 75%|███████▌  | 957/1276 [5:26:04<1:23:17, 15.67s/it]"
     ]
    },
    {
     "name": "stdout",
     "output_type": "stream",
     "text": [
      "STOP CODE:  Stay unchanged in the last 6 iterations\n",
      "> SA ENDS....... \n",
      "\n",
      "> avg loss: 5.068007806348729\n",
      "> For the *957_th* data_key\n",
      "> retail = 34.99,bidincrement = 0.12, bidfee = 0.6, infer PT's parameters\n",
      "> Now do SA....... \n",
      "\n"
     ]
    },
    {
     "name": "stderr",
     "output_type": "stream",
     "text": [
      " 75%|███████▌  | 958/1276 [5:26:06<1:01:07, 11.53s/it]"
     ]
    },
    {
     "name": "stdout",
     "output_type": "stream",
     "text": [
      "STOP CODE:  Stay unchanged in the last 6 iterations\n",
      "> SA ENDS....... \n",
      "\n",
      "> avg loss: 4.868834427884302\n",
      "> For the *958_th* data_key\n",
      "> retail = 34.99,bidincrement = 0.12, bidfee = 0.6, infer PT's parameters\n",
      "> Now do SA....... \n",
      "\n"
     ]
    },
    {
     "name": "stderr",
     "output_type": "stream",
     "text": [
      " 75%|███████▌  | 959/1276 [5:26:08<45:29,  8.61s/it]  "
     ]
    },
    {
     "name": "stdout",
     "output_type": "stream",
     "text": [
      "STOP CODE:  Stay unchanged in the last 6 iterations\n",
      "> SA ENDS....... \n",
      "\n",
      "> avg loss: 4.9087496915460145\n",
      "> For the *959_th* data_key\n",
      "> retail = 169.99,bidincrement = 0.12, bidfee = 0.6, infer PT's parameters\n",
      "> Now do SA....... \n",
      "\n"
     ]
    },
    {
     "name": "stderr",
     "output_type": "stream",
     "text": [
      " 75%|███████▌  | 960/1276 [5:26:20<50:35,  9.61s/it]"
     ]
    },
    {
     "name": "stdout",
     "output_type": "stream",
     "text": [
      "STOP CODE:  Stay unchanged in the last 6 iterations\n",
      "> SA ENDS....... \n",
      "\n",
      "> avg loss: 6.4482799734335075\n",
      "> For the *960_th* data_key\n",
      "> retail = 59.99,bidincrement = 0.12, bidfee = 0.6, infer PT's parameters\n",
      "> Now do SA....... \n",
      "\n"
     ]
    },
    {
     "name": "stderr",
     "output_type": "stream",
     "text": [
      " 75%|███████▌  | 961/1276 [5:26:22<39:11,  7.47s/it]"
     ]
    },
    {
     "name": "stdout",
     "output_type": "stream",
     "text": [
      "STOP CODE:  Stay unchanged in the last 6 iterations\n",
      "> SA ENDS....... \n",
      "\n",
      "> avg loss: 5.372729704220643\n",
      "> For the *961_th* data_key\n",
      "> retail = 59.99,bidincrement = 0.12, bidfee = 0.6, infer PT's parameters\n",
      "> Now do SA....... \n",
      "\n"
     ]
    },
    {
     "name": "stderr",
     "output_type": "stream",
     "text": [
      " 75%|███████▌  | 962/1276 [5:26:25<32:09,  6.14s/it]"
     ]
    },
    {
     "name": "stdout",
     "output_type": "stream",
     "text": [
      "STOP CODE:  Stay unchanged in the last 6 iterations\n",
      "> SA ENDS....... \n",
      "\n",
      "> avg loss: 5.4006223193719896\n",
      "> For the *962_th* data_key\n",
      "> retail = 19.23,bidincrement = 0.12, bidfee = 0.6, infer PT's parameters\n",
      "> Now do SA....... \n",
      "\n"
     ]
    },
    {
     "name": "stderr",
     "output_type": "stream",
     "text": [
      " 75%|███████▌  | 963/1276 [5:26:26<24:06,  4.62s/it]"
     ]
    },
    {
     "name": "stdout",
     "output_type": "stream",
     "text": [
      "STOP CODE:  Stay unchanged in the last 6 iterations\n",
      "> SA ENDS....... \n",
      "\n",
      "> avg loss: 4.296321410159723\n",
      "> For the *963_th* data_key\n",
      "> retail = 1199.99,bidincrement = 0.02, bidfee = 0.6, infer PT's parameters\n",
      "> Now do SA....... \n",
      "\n"
     ]
    },
    {
     "name": "stderr",
     "output_type": "stream",
     "text": [
      " 76%|███████▌  | 964/1276 [5:28:27<3:25:58, 39.61s/it]"
     ]
    },
    {
     "name": "stdout",
     "output_type": "stream",
     "text": [
      "> 超时\n",
      "> SA ENDS....... \n",
      "\n",
      "> avg loss: 23.02585105589588\n",
      "> For the *964_th* data_key\n",
      "> retail = 299.99,bidincrement = 0.12, bidfee = 0.6, infer PT's parameters\n",
      "> Now do SA....... \n",
      "\n"
     ]
    },
    {
     "name": "stderr",
     "output_type": "stream",
     "text": [
      " 76%|███████▌  | 965/1276 [5:28:52<3:02:21, 35.18s/it]"
     ]
    },
    {
     "name": "stdout",
     "output_type": "stream",
     "text": [
      "STOP CODE:  Stay unchanged in the last 6 iterations\n",
      "> SA ENDS....... \n",
      "\n",
      "> avg loss: 7.044619748531418\n",
      "> For the *965_th* data_key\n",
      "> retail = 69.99,bidincrement = 0.24, bidfee = 0.6, infer PT's parameters\n",
      "> Now do SA....... \n",
      "\n"
     ]
    },
    {
     "name": "stderr",
     "output_type": "stream",
     "text": [
      " 76%|███████▌  | 966/1276 [5:28:55<2:11:19, 25.42s/it]"
     ]
    },
    {
     "name": "stdout",
     "output_type": "stream",
     "text": [
      "STOP CODE:  Stay unchanged in the last 6 iterations\n",
      "> SA ENDS....... \n",
      "\n",
      "> avg loss: 2.343752333613862\n",
      "> For the *966_th* data_key\n",
      "> retail = 19.74,bidincrement = 0.24, bidfee = 0.6, infer PT's parameters\n",
      "> Now do SA....... \n",
      "\n"
     ]
    },
    {
     "name": "stderr",
     "output_type": "stream",
     "text": [
      " 76%|███████▌  | 967/1276 [5:28:57<1:34:19, 18.32s/it]"
     ]
    },
    {
     "name": "stdout",
     "output_type": "stream",
     "text": [
      "STOP CODE:  Stay unchanged in the last 6 iterations\n",
      "> SA ENDS....... \n",
      "\n",
      "> avg loss: 2.7050916799509244\n",
      "> For the *967_th* data_key\n",
      "> retail = 169.99,bidincrement = 0.24, bidfee = 0.6, infer PT's parameters\n",
      "> Now do SA....... \n",
      "\n"
     ]
    },
    {
     "name": "stderr",
     "output_type": "stream",
     "text": [
      " 76%|███████▌  | 968/1276 [5:29:01<1:13:06, 14.24s/it]"
     ]
    },
    {
     "name": "stdout",
     "output_type": "stream",
     "text": [
      "STOP CODE:  Stay unchanged in the last 6 iterations\n",
      "> SA ENDS....... \n",
      "\n",
      "> avg loss: 3.068441071031086\n",
      "> For the *968_th* data_key\n",
      "> retail = 129.99,bidincrement = 0.24, bidfee = 0.6, infer PT's parameters\n",
      "> Now do SA....... \n",
      "\n"
     ]
    },
    {
     "name": "stderr",
     "output_type": "stream",
     "text": [
      " 76%|███████▌  | 969/1276 [5:29:05<56:32, 11.05s/it]  "
     ]
    },
    {
     "name": "stdout",
     "output_type": "stream",
     "text": [
      "STOP CODE:  Stay unchanged in the last 6 iterations\n",
      "> SA ENDS....... \n",
      "\n",
      "> avg loss: 2.8080560627516857\n",
      "> For the *969_th* data_key\n",
      "> retail = 589.99,bidincrement = 0.06, bidfee = 0.6, infer PT's parameters\n",
      "> Now do SA....... \n",
      "\n"
     ]
    },
    {
     "name": "stderr",
     "output_type": "stream",
     "text": [
      " 76%|███████▌  | 970/1276 [5:29:49<1:46:38, 20.91s/it]"
     ]
    },
    {
     "name": "stdout",
     "output_type": "stream",
     "text": [
      "STOP CODE:  Stay unchanged in the last 6 iterations\n",
      "> SA ENDS....... \n",
      "\n",
      "> avg loss: 7.853205861158673\n",
      "> For the *970_th* data_key\n",
      "> retail = 399.99,bidincrement = 0.12, bidfee = 0.6, infer PT's parameters\n",
      "> Now do SA....... \n",
      "\n"
     ]
    },
    {
     "name": "stderr",
     "output_type": "stream",
     "text": [
      " 76%|███████▌  | 971/1276 [5:30:08<1:43:44, 20.41s/it]"
     ]
    },
    {
     "name": "stdout",
     "output_type": "stream",
     "text": [
      "STOP CODE:  Stay unchanged in the last 6 iterations\n",
      "> SA ENDS....... \n",
      "\n",
      "> avg loss: 7.367322677500582\n",
      "> For the *971_th* data_key\n",
      "> retail = 549.95,bidincrement = 0.06, bidfee = 0.6, infer PT's parameters\n",
      "> Now do SA....... \n",
      "\n"
     ]
    },
    {
     "name": "stderr",
     "output_type": "stream",
     "text": [
      " 76%|███████▌  | 972/1276 [5:30:27<1:40:55, 19.92s/it]"
     ]
    },
    {
     "name": "stdout",
     "output_type": "stream",
     "text": [
      "STOP CODE:  Stay unchanged in the last 6 iterations\n",
      "> SA ENDS....... \n",
      "\n",
      "> avg loss: 23.025850928575682\n",
      "> For the *972_th* data_key\n",
      "> retail = 699.99,bidincrement = 0.06, bidfee = 0.6, infer PT's parameters\n",
      "> Now do SA....... \n",
      "\n"
     ]
    },
    {
     "name": "stderr",
     "output_type": "stream",
     "text": [
      " 76%|███████▋  | 973/1276 [5:31:54<3:21:45, 39.95s/it]"
     ]
    },
    {
     "name": "stdout",
     "output_type": "stream",
     "text": [
      "STOP CODE:  Stay unchanged in the last 6 iterations\n",
      "> SA ENDS....... \n",
      "\n",
      "> avg loss: 7.981308536373004\n",
      "> For the *973_th* data_key\n",
      "> retail = 99.99,bidincrement = 0.12, bidfee = 0.6, infer PT's parameters\n",
      "> Now do SA....... \n",
      "\n"
     ]
    },
    {
     "name": "stderr",
     "output_type": "stream",
     "text": [
      " 76%|███████▋  | 974/1276 [5:31:57<2:25:24, 28.89s/it]"
     ]
    },
    {
     "name": "stdout",
     "output_type": "stream",
     "text": [
      "STOP CODE:  Stay unchanged in the last 6 iterations\n",
      "> SA ENDS....... \n",
      "\n",
      "> avg loss: 5.910609054196053\n",
      "> For the *974_th* data_key\n",
      "> retail = 47.0,bidincrement = 0.24, bidfee = 0.6, infer PT's parameters\n",
      "> Now do SA....... \n",
      "\n"
     ]
    },
    {
     "name": "stderr",
     "output_type": "stream",
     "text": [
      " 76%|███████▋  | 975/1276 [5:32:00<1:45:44, 21.08s/it]"
     ]
    },
    {
     "name": "stdout",
     "output_type": "stream",
     "text": [
      "STOP CODE:  Stay unchanged in the last 6 iterations\n",
      "> SA ENDS....... \n",
      "\n",
      "> avg loss: 2.5682751028515702\n",
      "> For the *975_th* data_key\n",
      "> retail = 159.99,bidincrement = 0.12, bidfee = 0.6, infer PT's parameters\n",
      "> Now do SA....... \n",
      "\n"
     ]
    },
    {
     "name": "stderr",
     "output_type": "stream",
     "text": [
      " 76%|███████▋  | 976/1276 [5:32:11<1:31:09, 18.23s/it]"
     ]
    },
    {
     "name": "stdout",
     "output_type": "stream",
     "text": [
      "STOP CODE:  Stay unchanged in the last 6 iterations\n",
      "> SA ENDS....... \n",
      "\n",
      "> avg loss: 6.4043723291077095\n",
      "> For the *976_th* data_key\n",
      "> retail = 699.99,bidincrement = 0.06, bidfee = 0.6, infer PT's parameters\n",
      "> Now do SA....... \n",
      "\n"
     ]
    },
    {
     "name": "stderr",
     "output_type": "stream",
     "text": [
      " 77%|███████▋  | 977/1276 [5:32:36<1:40:58, 20.26s/it]"
     ]
    },
    {
     "name": "stdout",
     "output_type": "stream",
     "text": [
      "STOP CODE:  Stay unchanged in the last 6 iterations\n",
      "> SA ENDS....... \n",
      "\n",
      "> avg loss: 23.025850960758206\n",
      "> For the *977_th* data_key\n",
      "> retail = 29.99,bidincrement = 0.24, bidfee = 0.6, infer PT's parameters\n",
      "> Now do SA....... \n",
      "\n"
     ]
    },
    {
     "name": "stderr",
     "output_type": "stream",
     "text": [
      " 77%|███████▋  | 978/1276 [5:32:39<1:15:10, 15.14s/it]"
     ]
    },
    {
     "name": "stdout",
     "output_type": "stream",
     "text": [
      "STOP CODE:  Stay unchanged in the last 6 iterations\n",
      "> SA ENDS....... \n",
      "\n",
      "> avg loss: 2.105034128326799\n",
      "> For the *978_th* data_key\n",
      "> retail = 39.99,bidincrement = 0.24, bidfee = 0.6, infer PT's parameters\n",
      "> Now do SA....... \n",
      "\n"
     ]
    },
    {
     "name": "stderr",
     "output_type": "stream",
     "text": [
      " 77%|███████▋  | 979/1276 [5:32:41<55:40, 11.25s/it]  "
     ]
    },
    {
     "name": "stdout",
     "output_type": "stream",
     "text": [
      "STOP CODE:  Stay unchanged in the last 6 iterations\n",
      "> SA ENDS....... \n",
      "\n",
      "> avg loss: 3.2032768730240724\n",
      "> For the *979_th* data_key\n",
      "> retail = 154.99,bidincrement = 0.12, bidfee = 0.6, infer PT's parameters\n",
      "> Now do SA....... \n",
      "\n"
     ]
    },
    {
     "name": "stderr",
     "output_type": "stream",
     "text": [
      " 77%|███████▋  | 980/1276 [5:32:47<46:55,  9.51s/it]"
     ]
    },
    {
     "name": "stdout",
     "output_type": "stream",
     "text": [
      "STOP CODE:  Stay unchanged in the last 6 iterations\n",
      "> SA ENDS....... \n",
      "\n",
      "> avg loss: 6.341236898052129\n",
      "> For the *980_th* data_key\n",
      "> retail = 89.99,bidincrement = 0.24, bidfee = 0.6, infer PT's parameters\n",
      "> Now do SA....... \n",
      "\n"
     ]
    },
    {
     "name": "stderr",
     "output_type": "stream",
     "text": [
      " 77%|███████▋  | 981/1276 [5:32:49<35:30,  7.22s/it]"
     ]
    },
    {
     "name": "stdout",
     "output_type": "stream",
     "text": [
      "STOP CODE:  Stay unchanged in the last 6 iterations\n",
      "> SA ENDS....... \n",
      "\n",
      "> avg loss: 2.2971811867695098\n",
      "> For the *981_th* data_key\n",
      "> retail = 30.0,bidincrement = 0.06, bidfee = 0.6, infer PT's parameters\n",
      "> Now do SA....... \n",
      "\n"
     ]
    },
    {
     "name": "stderr",
     "output_type": "stream",
     "text": [
      " 77%|███████▋  | 982/1276 [5:32:52<28:45,  5.87s/it]"
     ]
    },
    {
     "name": "stdout",
     "output_type": "stream",
     "text": [
      "STOP CODE:  Stay unchanged in the last 6 iterations\n",
      "> SA ENDS....... \n",
      "\n",
      "> avg loss: 4.8321145605373985\n",
      "> For the *982_th* data_key\n",
      "> retail = 180.0,bidincrement = 0.06, bidfee = 0.6, infer PT's parameters\n",
      "> Now do SA....... \n",
      "\n"
     ]
    },
    {
     "name": "stderr",
     "output_type": "stream",
     "text": [
      " 77%|███████▋  | 983/1276 [5:33:08<44:25,  9.10s/it]"
     ]
    },
    {
     "name": "stdout",
     "output_type": "stream",
     "text": [
      "STOP CODE:  Stay unchanged in the last 6 iterations\n",
      "> SA ENDS....... \n",
      "\n",
      "> avg loss: 6.693090731007935\n",
      "> For the *983_th* data_key\n",
      "> retail = 99.99,bidincrement = 0.12, bidfee = 0.6, infer PT's parameters\n",
      "> Now do SA....... \n",
      "\n"
     ]
    },
    {
     "name": "stderr",
     "output_type": "stream",
     "text": [
      " 77%|███████▋  | 984/1276 [5:33:15<40:18,  8.28s/it]"
     ]
    },
    {
     "name": "stdout",
     "output_type": "stream",
     "text": [
      "STOP CODE:  Stay unchanged in the last 6 iterations\n",
      "> SA ENDS....... \n",
      "\n",
      "> avg loss: 5.966808154049541\n",
      "> For the *984_th* data_key\n",
      "> retail = 12.0,bidincrement = 0.06, bidfee = 0.6, infer PT's parameters\n",
      "> Now do SA....... \n",
      "\n"
     ]
    },
    {
     "name": "stderr",
     "output_type": "stream",
     "text": [
      " 77%|███████▋  | 985/1276 [5:33:17<31:19,  6.46s/it]"
     ]
    },
    {
     "name": "stdout",
     "output_type": "stream",
     "text": [
      "STOP CODE:  Stay unchanged in the last 6 iterations\n",
      "> SA ENDS....... \n",
      "\n",
      "> avg loss: 3.895008504290715\n",
      "> For the *985_th* data_key\n",
      "> retail = 45.0,bidincrement = 0.06, bidfee = 0.6, infer PT's parameters\n",
      "> Now do SA....... \n",
      "\n"
     ]
    },
    {
     "name": "stderr",
     "output_type": "stream",
     "text": [
      " 77%|███████▋  | 986/1276 [5:33:24<31:53,  6.60s/it]"
     ]
    },
    {
     "name": "stdout",
     "output_type": "stream",
     "text": [
      "STOP CODE:  Stay unchanged in the last 6 iterations\n",
      "> SA ENDS....... \n",
      "\n",
      "> avg loss: 5.2725565070430385\n",
      "> For the *986_th* data_key\n",
      "> retail = 210.0,bidincrement = 0.12, bidfee = 0.6, infer PT's parameters\n",
      "> Now do SA....... \n",
      "\n"
     ]
    },
    {
     "name": "stderr",
     "output_type": "stream",
     "text": [
      " 77%|███████▋  | 987/1276 [5:33:44<51:41, 10.73s/it]"
     ]
    },
    {
     "name": "stdout",
     "output_type": "stream",
     "text": [
      "STOP CODE:  Stay unchanged in the last 6 iterations\n",
      "> SA ENDS....... \n",
      "\n",
      "> avg loss: 6.765213283081963\n",
      "> For the *987_th* data_key\n",
      "> retail = 24.99,bidincrement = 0.24, bidfee = 0.6, infer PT's parameters\n",
      "> Now do SA....... \n",
      "\n"
     ]
    },
    {
     "name": "stderr",
     "output_type": "stream",
     "text": [
      " 77%|███████▋  | 988/1276 [5:33:46<38:46,  8.08s/it]"
     ]
    },
    {
     "name": "stdout",
     "output_type": "stream",
     "text": [
      "STOP CODE:  Stay unchanged in the last 6 iterations\n",
      "> SA ENDS....... \n",
      "\n",
      "> avg loss: 2.5444813551709773\n",
      "> For the *988_th* data_key\n",
      "> retail = 49.99,bidincrement = 0.12, bidfee = 0.6, infer PT's parameters\n",
      "> Now do SA....... \n",
      "\n"
     ]
    },
    {
     "name": "stderr",
     "output_type": "stream",
     "text": [
      " 78%|███████▊  | 989/1276 [5:33:50<32:14,  6.74s/it]"
     ]
    },
    {
     "name": "stdout",
     "output_type": "stream",
     "text": [
      "STOP CODE:  Stay unchanged in the last 6 iterations\n",
      "> SA ENDS....... \n",
      "\n",
      "> avg loss: 5.210243298798852\n",
      "> For the *989_th* data_key\n",
      "> retail = 289.99,bidincrement = 0.12, bidfee = 0.6, infer PT's parameters\n",
      "> Now do SA....... \n",
      "\n"
     ]
    },
    {
     "name": "stderr",
     "output_type": "stream",
     "text": [
      " 78%|███████▊  | 990/1276 [5:34:12<55:11, 11.58s/it]"
     ]
    },
    {
     "name": "stdout",
     "output_type": "stream",
     "text": [
      "STOP CODE:  Stay unchanged in the last 6 iterations\n",
      "> SA ENDS....... \n",
      "\n",
      "> avg loss: 7.04191266893612\n",
      "> For the *990_th* data_key\n",
      "> retail = 1169.0,bidincrement = 0.06, bidfee = 0.6, infer PT's parameters\n",
      "> Now do SA....... \n",
      "\n"
     ]
    },
    {
     "name": "stderr",
     "output_type": "stream",
     "text": [
      " 78%|███████▊  | 991/1276 [5:35:11<2:02:40, 25.83s/it]"
     ]
    },
    {
     "name": "stdout",
     "output_type": "stream",
     "text": [
      "STOP CODE:  Stay unchanged in the last 6 iterations\n",
      "> SA ENDS....... \n",
      "\n",
      "> avg loss: 8.505244892448388\n",
      "> For the *991_th* data_key\n",
      "> retail = 799.99,bidincrement = 0.06, bidfee = 0.6, infer PT's parameters\n",
      "> Now do SA....... \n",
      "\n"
     ]
    },
    {
     "name": "stderr",
     "output_type": "stream",
     "text": [
      " 78%|███████▊  | 992/1276 [5:36:51<3:47:18, 48.02s/it]"
     ]
    },
    {
     "name": "stdout",
     "output_type": "stream",
     "text": [
      "STOP CODE:  Stay unchanged in the last 6 iterations\n",
      "> SA ENDS....... \n",
      "\n",
      "> avg loss: 8.170731606378821\n",
      "> For the *992_th* data_key\n",
      "> retail = 1007.0,bidincrement = 0.06, bidfee = 0.6, infer PT's parameters\n",
      "> Now do SA....... \n",
      "\n"
     ]
    },
    {
     "name": "stderr",
     "output_type": "stream",
     "text": [
      " 78%|███████▊  | 993/1276 [5:38:07<4:25:21, 56.26s/it]"
     ]
    },
    {
     "name": "stdout",
     "output_type": "stream",
     "text": [
      "STOP CODE:  Stay unchanged in the last 6 iterations\n",
      "> SA ENDS....... \n",
      "\n",
      "> avg loss: 8.320955456833165\n",
      "> For the *993_th* data_key\n",
      "> retail = 49.99,bidincrement = 0.24, bidfee = 0.6, infer PT's parameters\n",
      "> Now do SA....... \n",
      "\n"
     ]
    },
    {
     "name": "stderr",
     "output_type": "stream",
     "text": [
      " 78%|███████▊  | 994/1276 [5:38:09<3:08:47, 40.17s/it]"
     ]
    },
    {
     "name": "stdout",
     "output_type": "stream",
     "text": [
      "STOP CODE:  Stay unchanged in the last 6 iterations\n",
      "> SA ENDS....... \n",
      "\n",
      "> avg loss: 2.112153159385485\n",
      "> For the *994_th* data_key\n",
      "> retail = 59.99,bidincrement = 0.24, bidfee = 0.6, infer PT's parameters\n",
      "> Now do SA....... \n",
      "\n"
     ]
    },
    {
     "name": "stderr",
     "output_type": "stream",
     "text": [
      " 78%|███████▊  | 995/1276 [5:38:11<2:14:36, 28.74s/it]"
     ]
    },
    {
     "name": "stdout",
     "output_type": "stream",
     "text": [
      "STOP CODE:  Stay unchanged in the last 6 iterations\n",
      "> SA ENDS....... \n",
      "\n",
      "> avg loss: 2.3584970189895262\n",
      "> For the *995_th* data_key\n",
      "> retail = 44.99,bidincrement = 0.24, bidfee = 0.6, infer PT's parameters\n",
      "> Now do SA....... \n",
      "\n"
     ]
    },
    {
     "name": "stderr",
     "output_type": "stream",
     "text": [
      " 78%|███████▊  | 996/1276 [5:38:13<1:36:30, 20.68s/it]"
     ]
    },
    {
     "name": "stdout",
     "output_type": "stream",
     "text": [
      "STOP CODE:  Stay unchanged in the last 6 iterations\n",
      "> SA ENDS....... \n",
      "\n",
      "> avg loss: 2.270464674810956\n",
      "> For the *996_th* data_key\n",
      "> retail = 79.99,bidincrement = 0.24, bidfee = 0.6, infer PT's parameters\n",
      "> Now do SA....... \n",
      "\n"
     ]
    },
    {
     "name": "stderr",
     "output_type": "stream",
     "text": [
      " 78%|███████▊  | 997/1276 [5:38:16<1:10:50, 15.23s/it]"
     ]
    },
    {
     "name": "stdout",
     "output_type": "stream",
     "text": [
      "STOP CODE:  Stay unchanged in the last 6 iterations\n",
      "> SA ENDS....... \n",
      "\n",
      "> avg loss: 2.2754487923883504\n",
      "> For the *997_th* data_key\n",
      "> retail = 99.99,bidincrement = 0.12, bidfee = 0.6, infer PT's parameters\n",
      "> Now do SA....... \n",
      "\n"
     ]
    },
    {
     "name": "stderr",
     "output_type": "stream",
     "text": [
      " 78%|███████▊  | 998/1276 [5:38:19<53:56, 11.64s/it]  "
     ]
    },
    {
     "name": "stdout",
     "output_type": "stream",
     "text": [
      "STOP CODE:  Stay unchanged in the last 6 iterations\n",
      "> SA ENDS....... \n",
      "\n",
      "> avg loss: 6.006861946318402\n",
      "> For the *998_th* data_key\n",
      "> retail = 99.99,bidincrement = 0.12, bidfee = 0.6, infer PT's parameters\n",
      "> Now do SA....... \n",
      "\n"
     ]
    },
    {
     "name": "stderr",
     "output_type": "stream",
     "text": [
      " 78%|███████▊  | 999/1276 [5:38:28<49:43, 10.77s/it]"
     ]
    },
    {
     "name": "stdout",
     "output_type": "stream",
     "text": [
      "STOP CODE:  Stay unchanged in the last 6 iterations\n",
      "> SA ENDS....... \n",
      "\n",
      "> avg loss: 5.939347096365527\n",
      "> For the *999_th* data_key\n",
      "> retail = 129.99,bidincrement = 0.12, bidfee = 0.6, infer PT's parameters\n",
      "> Now do SA....... \n",
      "\n"
     ]
    },
    {
     "name": "stderr",
     "output_type": "stream",
     "text": [
      " 78%|███████▊  | 1000/1276 [5:38:32<39:56,  8.68s/it]"
     ]
    },
    {
     "name": "stdout",
     "output_type": "stream",
     "text": [
      "STOP CODE:  Stay unchanged in the last 6 iterations\n",
      "> SA ENDS....... \n",
      "\n",
      "> avg loss: 6.18492633366212\n",
      "> For the *1000_th* data_key\n",
      "> retail = 42.99,bidincrement = 0.24, bidfee = 0.6, infer PT's parameters\n",
      "> Now do SA....... \n",
      "\n"
     ]
    },
    {
     "name": "stderr",
     "output_type": "stream",
     "text": [
      " 78%|███████▊  | 1001/1276 [5:38:33<30:06,  6.57s/it]"
     ]
    },
    {
     "name": "stdout",
     "output_type": "stream",
     "text": [
      "STOP CODE:  Stay unchanged in the last 6 iterations\n",
      "> SA ENDS....... \n",
      "\n",
      "> avg loss: 2.799067766894446\n",
      "> For the *1001_th* data_key\n",
      "> retail = 299.99,bidincrement = 0.06, bidfee = 0.6, infer PT's parameters\n",
      "> Now do SA....... \n",
      "\n"
     ]
    },
    {
     "name": "stderr",
     "output_type": "stream",
     "text": [
      " 79%|███████▊  | 1002/1276 [5:39:00<57:01, 12.49s/it]"
     ]
    },
    {
     "name": "stdout",
     "output_type": "stream",
     "text": [
      "STOP CODE:  Stay unchanged in the last 6 iterations\n",
      "> SA ENDS....... \n",
      "\n",
      "> avg loss: 7.190112502631206\n",
      "> For the *1002_th* data_key\n",
      "> retail = 469.99,bidincrement = 0.12, bidfee = 0.6, infer PT's parameters\n",
      "> Now do SA....... \n",
      "\n"
     ]
    },
    {
     "name": "stderr",
     "output_type": "stream",
     "text": [
      " 79%|███████▊  | 1003/1276 [5:39:20<1:07:04, 14.74s/it]"
     ]
    },
    {
     "name": "stdout",
     "output_type": "stream",
     "text": [
      "STOP CODE:  Stay unchanged in the last 6 iterations\n",
      "> SA ENDS....... \n",
      "\n",
      "> avg loss: 7.454952071491782\n",
      "> For the *1003_th* data_key\n",
      "> retail = 389.99,bidincrement = 0.12, bidfee = 0.6, infer PT's parameters\n",
      "> Now do SA....... \n",
      "\n"
     ]
    },
    {
     "name": "stderr",
     "output_type": "stream",
     "text": [
      " 79%|███████▊  | 1004/1276 [5:39:35<1:07:12, 14.82s/it]"
     ]
    },
    {
     "name": "stdout",
     "output_type": "stream",
     "text": [
      "STOP CODE:  Stay unchanged in the last 6 iterations\n",
      "> SA ENDS....... \n",
      "\n",
      "> avg loss: 7.304066709699911\n",
      "> For the *1004_th* data_key\n",
      "> retail = 299.99,bidincrement = 0.06, bidfee = 0.6, infer PT's parameters\n",
      "> Now do SA....... \n",
      "\n"
     ]
    },
    {
     "name": "stderr",
     "output_type": "stream",
     "text": [
      " 79%|███████▉  | 1005/1276 [5:39:45<1:01:05, 13.53s/it]"
     ]
    },
    {
     "name": "stdout",
     "output_type": "stream",
     "text": [
      "STOP CODE:  Stay unchanged in the last 6 iterations\n",
      "> SA ENDS....... \n",
      "\n",
      "> avg loss: 23.02585089341971\n",
      "> For the *1005_th* data_key\n",
      "> retail = 10.0,bidincrement = 0.24, bidfee = 0.6, infer PT's parameters\n",
      "> Now do SA....... \n",
      "\n"
     ]
    },
    {
     "name": "stderr",
     "output_type": "stream",
     "text": [
      " 79%|███████▉  | 1006/1276 [5:39:47<45:36, 10.14s/it]  "
     ]
    },
    {
     "name": "stdout",
     "output_type": "stream",
     "text": [
      "STOP CODE:  Stay unchanged in the last 6 iterations\n",
      "> SA ENDS....... \n",
      "\n",
      "> avg loss: 2.2862504749075656\n",
      "> For the *1006_th* data_key\n",
      "> retail = 9.99,bidincrement = 0.24, bidfee = 0.6, infer PT's parameters\n",
      "> Now do SA....... \n",
      "\n"
     ]
    },
    {
     "name": "stderr",
     "output_type": "stream",
     "text": [
      " 79%|███████▉  | 1007/1276 [5:39:50<34:53,  7.78s/it]"
     ]
    },
    {
     "name": "stdout",
     "output_type": "stream",
     "text": [
      "STOP CODE:  Stay unchanged in the last 6 iterations\n",
      "> SA ENDS....... \n",
      "\n",
      "> avg loss: 1.995036063173669\n",
      "> For the *1007_th* data_key\n",
      "> retail = 10.15,bidincrement = 0.24, bidfee = 0.6, infer PT's parameters\n",
      "> Now do SA....... \n",
      "\n"
     ]
    },
    {
     "name": "stderr",
     "output_type": "stream",
     "text": [
      " 79%|███████▉  | 1008/1276 [5:39:54<29:38,  6.64s/it]"
     ]
    },
    {
     "name": "stdout",
     "output_type": "stream",
     "text": [
      "STOP CODE:  Stay unchanged in the last 6 iterations\n",
      "> SA ENDS....... \n",
      "\n",
      "> avg loss: 2.1031979937344185\n",
      "> For the *1008_th* data_key\n",
      "> retail = 205.0,bidincrement = 0.24, bidfee = 0.6, infer PT's parameters\n",
      "> Now do SA....... \n",
      "\n"
     ]
    },
    {
     "name": "stderr",
     "output_type": "stream",
     "text": [
      " 79%|███████▉  | 1009/1276 [5:40:01<30:39,  6.89s/it]"
     ]
    },
    {
     "name": "stdout",
     "output_type": "stream",
     "text": [
      "STOP CODE:  Stay unchanged in the last 6 iterations\n",
      "> SA ENDS....... \n",
      "\n",
      "> avg loss: 3.3068840544740516\n",
      "> For the *1009_th* data_key\n",
      "> retail = 19.23,bidincrement = 0.24, bidfee = 0.6, infer PT's parameters\n",
      "> Now do SA....... \n",
      "\n"
     ]
    },
    {
     "name": "stderr",
     "output_type": "stream",
     "text": [
      " 79%|███████▉  | 1010/1276 [5:40:03<23:20,  5.26s/it]"
     ]
    },
    {
     "name": "stdout",
     "output_type": "stream",
     "text": [
      "STOP CODE:  Stay unchanged in the last 6 iterations\n",
      "> SA ENDS....... \n",
      "\n",
      "> avg loss: 2.3111400644700906\n",
      "> For the *1010_th* data_key\n",
      "> retail = 349.99,bidincrement = 0.12, bidfee = 0.6, infer PT's parameters\n",
      "> Now do SA....... \n",
      "\n"
     ]
    },
    {
     "name": "stderr",
     "output_type": "stream",
     "text": [
      " 79%|███████▉  | 1011/1276 [5:40:11<27:20,  6.19s/it]"
     ]
    },
    {
     "name": "stdout",
     "output_type": "stream",
     "text": [
      "STOP CODE:  Stay unchanged in the last 6 iterations\n",
      "> SA ENDS....... \n",
      "\n",
      "> avg loss: 22.96774694596958\n",
      "> For the *1011_th* data_key\n",
      "> retail = 489.99,bidincrement = 0.06, bidfee = 0.6, infer PT's parameters\n",
      "> Now do SA....... \n",
      "\n"
     ]
    },
    {
     "name": "stderr",
     "output_type": "stream",
     "text": [
      " 79%|███████▉  | 1012/1276 [5:41:00<1:23:43, 19.03s/it]"
     ]
    },
    {
     "name": "stdout",
     "output_type": "stream",
     "text": [
      "STOP CODE:  Stay unchanged in the last 6 iterations\n",
      "> SA ENDS....... \n",
      "\n",
      "> avg loss: 7.701974409725027\n",
      "> For the *1012_th* data_key\n",
      "> retail = 1599.99,bidincrement = 0.06, bidfee = 0.6, infer PT's parameters\n",
      "> Now do SA....... \n",
      "\n"
     ]
    },
    {
     "name": "stderr",
     "output_type": "stream",
     "text": [
      " 79%|███████▉  | 1013/1276 [5:42:56<3:30:24, 48.00s/it]"
     ]
    },
    {
     "name": "stdout",
     "output_type": "stream",
     "text": [
      "STOP CODE:  Stay unchanged in the last 6 iterations\n",
      "> SA ENDS....... \n",
      "\n",
      "> avg loss: 8.860300376666702\n",
      "> For the *1013_th* data_key\n",
      "> retail = 249.99,bidincrement = 0.12, bidfee = 0.6, infer PT's parameters\n",
      "> Now do SA....... \n",
      "\n"
     ]
    },
    {
     "name": "stderr",
     "output_type": "stream",
     "text": [
      " 79%|███████▉  | 1014/1276 [5:43:09<2:44:11, 37.60s/it]"
     ]
    },
    {
     "name": "stdout",
     "output_type": "stream",
     "text": [
      "STOP CODE:  Stay unchanged in the last 6 iterations\n",
      "> SA ENDS....... \n",
      "\n",
      "> avg loss: 6.85856196113851\n",
      "> For the *1014_th* data_key\n",
      "> retail = 249.99,bidincrement = 0.12, bidfee = 0.6, infer PT's parameters\n",
      "> Now do SA....... \n",
      "\n"
     ]
    },
    {
     "name": "stderr",
     "output_type": "stream",
     "text": [
      " 80%|███████▉  | 1015/1276 [5:43:25<2:15:15, 31.09s/it]"
     ]
    },
    {
     "name": "stdout",
     "output_type": "stream",
     "text": [
      "STOP CODE:  Stay unchanged in the last 6 iterations\n",
      "> SA ENDS....... \n",
      "\n",
      "> avg loss: 6.908212413740836\n",
      "> For the *1015_th* data_key\n",
      "> retail = 199.99,bidincrement = 0.12, bidfee = 0.6, infer PT's parameters\n",
      "> Now do SA....... \n",
      "\n"
     ]
    },
    {
     "name": "stderr",
     "output_type": "stream",
     "text": [
      " 80%|███████▉  | 1016/1276 [5:43:34<1:45:45, 24.41s/it]"
     ]
    },
    {
     "name": "stdout",
     "output_type": "stream",
     "text": [
      "STOP CODE:  Stay unchanged in the last 6 iterations\n",
      "> SA ENDS....... \n",
      "\n",
      "> avg loss: 6.653634504512451\n",
      "> For the *1016_th* data_key\n",
      "> retail = 199.99,bidincrement = 0.12, bidfee = 0.6, infer PT's parameters\n",
      "> Now do SA....... \n",
      "\n"
     ]
    },
    {
     "name": "stderr",
     "output_type": "stream",
     "text": [
      " 80%|███████▉  | 1017/1276 [5:43:40<1:22:38, 19.14s/it]"
     ]
    },
    {
     "name": "stdout",
     "output_type": "stream",
     "text": [
      "STOP CODE:  Stay unchanged in the last 6 iterations\n",
      "> SA ENDS....... \n",
      "\n",
      "> avg loss: 6.685722273799644\n",
      "> For the *1017_th* data_key\n",
      "> retail = 79.99,bidincrement = 0.12, bidfee = 0.6, infer PT's parameters\n",
      "> Now do SA....... \n",
      "\n"
     ]
    },
    {
     "name": "stderr",
     "output_type": "stream",
     "text": [
      " 80%|███████▉  | 1018/1276 [5:43:49<1:08:36, 15.96s/it]"
     ]
    },
    {
     "name": "stdout",
     "output_type": "stream",
     "text": [
      "STOP CODE:  Stay unchanged in the last 6 iterations\n",
      "> SA ENDS....... \n",
      "\n",
      "> avg loss: 5.739561065122004\n",
      "> For the *1018_th* data_key\n",
      "> retail = 249.99,bidincrement = 0.12, bidfee = 0.6, infer PT's parameters\n",
      "> Now do SA....... \n",
      "\n"
     ]
    },
    {
     "name": "stderr",
     "output_type": "stream",
     "text": [
      " 80%|███████▉  | 1019/1276 [5:44:09<1:13:57, 17.27s/it]"
     ]
    },
    {
     "name": "stdout",
     "output_type": "stream",
     "text": [
      "STOP CODE:  Stay unchanged in the last 6 iterations\n",
      "> SA ENDS....... \n",
      "\n",
      "> avg loss: 6.9001310871258665\n",
      "> For the *1019_th* data_key\n",
      "> retail = 425.0,bidincrement = 0.12, bidfee = 0.6, infer PT's parameters\n",
      "> Now do SA....... \n",
      "\n"
     ]
    },
    {
     "name": "stderr",
     "output_type": "stream",
     "text": [
      " 80%|███████▉  | 1020/1276 [5:44:23<1:09:03, 16.19s/it]"
     ]
    },
    {
     "name": "stdout",
     "output_type": "stream",
     "text": [
      "STOP CODE:  Stay unchanged in the last 6 iterations\n",
      "> SA ENDS....... \n",
      "\n",
      "> avg loss: 7.404550597431291\n",
      "> For the *1020_th* data_key\n",
      "> retail = 159.99,bidincrement = 0.12, bidfee = 0.6, infer PT's parameters\n",
      "> Now do SA....... \n",
      "\n"
     ]
    },
    {
     "name": "stderr",
     "output_type": "stream",
     "text": [
      " 80%|████████  | 1021/1276 [5:44:27<53:11, 12.51s/it]  "
     ]
    },
    {
     "name": "stdout",
     "output_type": "stream",
     "text": [
      "STOP CODE:  Stay unchanged in the last 6 iterations\n",
      "> SA ENDS....... \n",
      "\n",
      "> avg loss: 6.448065475954302\n",
      "> For the *1021_th* data_key\n",
      "> retail = 209.82,bidincrement = 0.12, bidfee = 0.6, infer PT's parameters\n",
      "> Now do SA....... \n",
      "\n"
     ]
    },
    {
     "name": "stderr",
     "output_type": "stream",
     "text": [
      " 80%|████████  | 1022/1276 [5:44:40<54:22, 12.84s/it]"
     ]
    },
    {
     "name": "stdout",
     "output_type": "stream",
     "text": [
      "STOP CODE:  Stay unchanged in the last 6 iterations\n",
      "> SA ENDS....... \n",
      "\n",
      "> avg loss: 6.7044518449735095\n",
      "> For the *1022_th* data_key\n",
      "> retail = 49.99,bidincrement = 0.12, bidfee = 0.6, infer PT's parameters\n",
      "> Now do SA....... \n",
      "\n"
     ]
    },
    {
     "name": "stderr",
     "output_type": "stream",
     "text": [
      " 80%|████████  | 1023/1276 [5:44:47<46:11, 10.95s/it]"
     ]
    },
    {
     "name": "stdout",
     "output_type": "stream",
     "text": [
      "STOP CODE:  Stay unchanged in the last 6 iterations\n",
      "> SA ENDS....... \n",
      "\n",
      "> avg loss: 5.275117465581305\n",
      "> For the *1023_th* data_key\n",
      "> retail = 204.95,bidincrement = 0.12, bidfee = 0.6, infer PT's parameters\n",
      "> Now do SA....... \n",
      "\n"
     ]
    },
    {
     "name": "stderr",
     "output_type": "stream",
     "text": [
      " 80%|████████  | 1024/1276 [5:44:57<44:46, 10.66s/it]"
     ]
    },
    {
     "name": "stdout",
     "output_type": "stream",
     "text": [
      "STOP CODE:  Stay unchanged in the last 6 iterations\n",
      "> SA ENDS....... \n",
      "\n",
      "> avg loss: 6.687080120609768\n",
      "> For the *1024_th* data_key\n",
      "> retail = 314.52,bidincrement = 0.12, bidfee = 0.6, infer PT's parameters\n",
      "> Now do SA....... \n",
      "\n"
     ]
    },
    {
     "name": "stderr",
     "output_type": "stream",
     "text": [
      " 80%|████████  | 1025/1276 [5:45:10<48:03, 11.49s/it]"
     ]
    },
    {
     "name": "stdout",
     "output_type": "stream",
     "text": [
      "STOP CODE:  Stay unchanged in the last 6 iterations\n",
      "> SA ENDS....... \n",
      "\n",
      "> avg loss: 7.14935484747051\n",
      "> For the *1025_th* data_key\n",
      "> retail = 499.99,bidincrement = 0.12, bidfee = 0.6, infer PT's parameters\n",
      "> Now do SA....... \n",
      "\n"
     ]
    },
    {
     "name": "stderr",
     "output_type": "stream",
     "text": [
      " 80%|████████  | 1026/1276 [5:45:37<1:06:23, 15.93s/it]"
     ]
    },
    {
     "name": "stdout",
     "output_type": "stream",
     "text": [
      "STOP CODE:  Stay unchanged in the last 6 iterations\n",
      "> SA ENDS....... \n",
      "\n",
      "> avg loss: 7.547909553595382\n",
      "> For the *1026_th* data_key\n",
      "> retail = 59.99,bidincrement = 0.12, bidfee = 0.6, infer PT's parameters\n",
      "> Now do SA....... \n",
      "\n"
     ]
    },
    {
     "name": "stderr",
     "output_type": "stream",
     "text": [
      " 80%|████████  | 1027/1276 [5:45:41<51:02, 12.30s/it]  "
     ]
    },
    {
     "name": "stdout",
     "output_type": "stream",
     "text": [
      "STOP CODE:  Stay unchanged in the last 6 iterations\n",
      "> SA ENDS....... \n",
      "\n",
      "> avg loss: 5.484115648384147\n",
      "> For the *1027_th* data_key\n",
      "> retail = 589.99,bidincrement = 0.06, bidfee = 0.6, infer PT's parameters\n",
      "> Now do SA....... \n",
      "\n"
     ]
    },
    {
     "name": "stderr",
     "output_type": "stream",
     "text": [
      " 81%|████████  | 1028/1276 [5:47:00<2:14:08, 32.45s/it]"
     ]
    },
    {
     "name": "stdout",
     "output_type": "stream",
     "text": [
      "STOP CODE:  Stay unchanged in the last 6 iterations\n",
      "> SA ENDS....... \n",
      "\n",
      "> avg loss: 7.842988973294041\n",
      "> For the *1028_th* data_key\n",
      "> retail = 115.99,bidincrement = 0.12, bidfee = 0.6, infer PT's parameters\n",
      "> Now do SA....... \n",
      "\n"
     ]
    },
    {
     "name": "stderr",
     "output_type": "stream",
     "text": [
      " 81%|████████  | 1029/1276 [5:47:09<1:44:28, 25.38s/it]"
     ]
    },
    {
     "name": "stdout",
     "output_type": "stream",
     "text": [
      "STOP CODE:  Stay unchanged in the last 6 iterations\n",
      "> SA ENDS....... \n",
      "\n",
      "> avg loss: 6.0966153264201175\n",
      "> For the *1029_th* data_key\n",
      "> retail = 599.99,bidincrement = 0.06, bidfee = 0.6, infer PT's parameters\n",
      "> Now do SA....... \n",
      "\n"
     ]
    },
    {
     "name": "stderr",
     "output_type": "stream",
     "text": [
      " 81%|████████  | 1030/1276 [5:48:12<2:30:31, 36.71s/it]"
     ]
    },
    {
     "name": "stdout",
     "output_type": "stream",
     "text": [
      "STOP CODE:  Stay unchanged in the last 6 iterations\n",
      "> SA ENDS....... \n",
      "\n",
      "> avg loss: 7.838818402080587\n",
      "> For the *1030_th* data_key\n",
      "> retail = 49.99,bidincrement = 0.12, bidfee = 0.6, infer PT's parameters\n",
      "> Now do SA....... \n",
      "\n"
     ]
    },
    {
     "name": "stderr",
     "output_type": "stream",
     "text": [
      " 81%|████████  | 1031/1276 [5:48:16<1:50:11, 26.98s/it]"
     ]
    },
    {
     "name": "stdout",
     "output_type": "stream",
     "text": [
      "STOP CODE:  Stay unchanged in the last 6 iterations\n",
      "> SA ENDS....... \n",
      "\n",
      "> avg loss: 5.284805683244301\n",
      "> For the *1031_th* data_key\n",
      "> retail = 49.99,bidincrement = 0.12, bidfee = 0.6, infer PT's parameters\n",
      "> Now do SA....... \n",
      "\n"
     ]
    },
    {
     "name": "stderr",
     "output_type": "stream",
     "text": [
      " 81%|████████  | 1032/1276 [5:48:19<1:20:15, 19.74s/it]"
     ]
    },
    {
     "name": "stdout",
     "output_type": "stream",
     "text": [
      "STOP CODE:  Stay unchanged in the last 6 iterations\n",
      "> SA ENDS....... \n",
      "\n",
      "> avg loss: 5.242152020763691\n",
      "> For the *1032_th* data_key\n",
      "> retail = 49.99,bidincrement = 0.12, bidfee = 0.6, infer PT's parameters\n",
      "> Now do SA....... \n",
      "\n"
     ]
    },
    {
     "name": "stderr",
     "output_type": "stream",
     "text": [
      " 81%|████████  | 1033/1276 [5:48:22<59:12, 14.62s/it]  "
     ]
    },
    {
     "name": "stdout",
     "output_type": "stream",
     "text": [
      "STOP CODE:  Stay unchanged in the last 6 iterations\n",
      "> SA ENDS....... \n",
      "\n",
      "> avg loss: 5.358890756588556\n",
      "> For the *1033_th* data_key\n",
      "> retail = 49.99,bidincrement = 0.12, bidfee = 0.6, infer PT's parameters\n",
      "> Now do SA....... \n",
      "\n"
     ]
    },
    {
     "name": "stderr",
     "output_type": "stream",
     "text": [
      " 81%|████████  | 1034/1276 [5:48:27<47:00, 11.66s/it]"
     ]
    },
    {
     "name": "stdout",
     "output_type": "stream",
     "text": [
      "STOP CODE:  Stay unchanged in the last 6 iterations\n",
      "> SA ENDS....... \n",
      "\n",
      "> avg loss: 5.200578927283215\n",
      "> For the *1034_th* data_key\n",
      "> retail = 27.49,bidincrement = 0.12, bidfee = 0.6, infer PT's parameters\n",
      "> Now do SA....... \n",
      "\n"
     ]
    },
    {
     "name": "stderr",
     "output_type": "stream",
     "text": [
      " 81%|████████  | 1035/1276 [5:48:29<35:56,  8.95s/it]"
     ]
    },
    {
     "name": "stdout",
     "output_type": "stream",
     "text": [
      "STOP CODE:  Stay unchanged in the last 6 iterations\n",
      "> SA ENDS....... \n",
      "\n",
      "> avg loss: 4.636691819503736\n",
      "> For the *1035_th* data_key\n",
      "> retail = 34.99,bidincrement = 0.24, bidfee = 0.6, infer PT's parameters\n",
      "> Now do SA....... \n",
      "\n"
     ]
    },
    {
     "name": "stderr",
     "output_type": "stream",
     "text": [
      " 81%|████████  | 1036/1276 [5:48:31<27:19,  6.83s/it]"
     ]
    },
    {
     "name": "stdout",
     "output_type": "stream",
     "text": [
      "STOP CODE:  Stay unchanged in the last 6 iterations\n",
      "> SA ENDS....... \n",
      "\n",
      "> avg loss: 2.439062385562254\n",
      "> For the *1036_th* data_key\n",
      "> retail = 37.0,bidincrement = 0.12, bidfee = 0.6, infer PT's parameters\n",
      "> Now do SA....... \n",
      "\n"
     ]
    },
    {
     "name": "stderr",
     "output_type": "stream",
     "text": [
      " 81%|████████▏ | 1037/1276 [5:48:34<22:05,  5.55s/it]"
     ]
    },
    {
     "name": "stdout",
     "output_type": "stream",
     "text": [
      "STOP CODE:  Stay unchanged in the last 6 iterations\n",
      "> SA ENDS....... \n",
      "\n",
      "> avg loss: 4.737664808666619\n",
      "> For the *1037_th* data_key\n",
      "> retail = 199.99,bidincrement = 0.12, bidfee = 0.6, infer PT's parameters\n",
      "> Now do SA....... \n",
      "\n"
     ]
    },
    {
     "name": "stderr",
     "output_type": "stream",
     "text": [
      " 81%|████████▏ | 1038/1276 [5:48:40<23:24,  5.90s/it]"
     ]
    },
    {
     "name": "stdout",
     "output_type": "stream",
     "text": [
      "STOP CODE:  Stay unchanged in the last 6 iterations\n",
      "> SA ENDS....... \n",
      "\n",
      "> avg loss: 6.622110386793436\n",
      "> For the *1038_th* data_key\n",
      "> retail = 645.0,bidincrement = 0.06, bidfee = 0.6, infer PT's parameters\n",
      "> Now do SA....... \n",
      "\n"
     ]
    },
    {
     "name": "stderr",
     "output_type": "stream",
     "text": [
      " 81%|████████▏ | 1039/1276 [5:49:02<42:07, 10.66s/it]"
     ]
    },
    {
     "name": "stdout",
     "output_type": "stream",
     "text": [
      "STOP CODE:  Stay unchanged in the last 6 iterations\n",
      "> SA ENDS....... \n",
      "\n",
      "> avg loss: 23.02585095303168\n",
      "> For the *1039_th* data_key\n",
      "> retail = 1999.99,bidincrement = 0.02, bidfee = 0.6, infer PT's parameters\n",
      "> Now do SA....... \n",
      "\n"
     ]
    },
    {
     "name": "stderr",
     "output_type": "stream",
     "text": [
      " 82%|████████▏ | 1040/1276 [5:51:04<2:53:28, 44.11s/it]"
     ]
    },
    {
     "name": "stdout",
     "output_type": "stream",
     "text": [
      "> 超时\n",
      "> SA ENDS....... \n",
      "\n",
      "> avg loss: 23.025851183033918\n",
      "> For the *1040_th* data_key\n",
      "> retail = 18.85,bidincrement = 0.12, bidfee = 0.6, infer PT's parameters\n",
      "> Now do SA....... \n",
      "\n"
     ]
    },
    {
     "name": "stderr",
     "output_type": "stream",
     "text": [
      " 82%|████████▏ | 1041/1276 [5:51:07<2:04:11, 31.71s/it]"
     ]
    },
    {
     "name": "stdout",
     "output_type": "stream",
     "text": [
      "STOP CODE:  Stay unchanged in the last 6 iterations\n",
      "> SA ENDS....... \n",
      "\n",
      "> avg loss: 4.2757005957694085\n",
      "> For the *1041_th* data_key\n",
      "> retail = 143.45,bidincrement = 0.12, bidfee = 0.6, infer PT's parameters\n",
      "> Now do SA....... \n",
      "\n"
     ]
    },
    {
     "name": "stderr",
     "output_type": "stream",
     "text": [
      " 82%|████████▏ | 1042/1276 [5:51:20<1:41:20, 25.99s/it]"
     ]
    },
    {
     "name": "stdout",
     "output_type": "stream",
     "text": [
      "STOP CODE:  Stay unchanged in the last 6 iterations\n",
      "> SA ENDS....... \n",
      "\n",
      "> avg loss: 6.305841465400142\n",
      "> For the *1042_th* data_key\n",
      "> retail = 199.0,bidincrement = 0.12, bidfee = 0.6, infer PT's parameters\n",
      "> Now do SA....... \n",
      "\n"
     ]
    },
    {
     "name": "stderr",
     "output_type": "stream",
     "text": [
      " 82%|████████▏ | 1043/1276 [5:51:29<1:21:50, 21.08s/it]"
     ]
    },
    {
     "name": "stdout",
     "output_type": "stream",
     "text": [
      "STOP CODE:  Stay unchanged in the last 6 iterations\n",
      "> SA ENDS....... \n",
      "\n",
      "> avg loss: 6.6943015518501126\n",
      "> For the *1043_th* data_key\n",
      "> retail = 98.99,bidincrement = 0.12, bidfee = 0.6, infer PT's parameters\n",
      "> Now do SA....... \n",
      "\n"
     ]
    },
    {
     "name": "stderr",
     "output_type": "stream",
     "text": [
      " 82%|████████▏ | 1044/1276 [5:51:38<1:06:30, 17.20s/it]"
     ]
    },
    {
     "name": "stdout",
     "output_type": "stream",
     "text": [
      "STOP CODE:  Stay unchanged in the last 6 iterations\n",
      "> SA ENDS....... \n",
      "\n",
      "> avg loss: 5.943041370143144\n",
      "> For the *1044_th* data_key\n",
      "> retail = 98.99,bidincrement = 0.12, bidfee = 0.6, infer PT's parameters\n",
      "> Now do SA....... \n",
      "\n"
     ]
    },
    {
     "name": "stderr",
     "output_type": "stream",
     "text": [
      " 82%|████████▏ | 1045/1276 [5:51:48<58:27, 15.18s/it]  "
     ]
    },
    {
     "name": "stdout",
     "output_type": "stream",
     "text": [
      "STOP CODE:  Stay unchanged in the last 6 iterations\n",
      "> SA ENDS....... \n",
      "\n",
      "> avg loss: 5.985594838090458\n",
      "> For the *1045_th* data_key\n",
      "> retail = 56.99,bidincrement = 0.12, bidfee = 0.6, infer PT's parameters\n",
      "> Now do SA....... \n",
      "\n"
     ]
    },
    {
     "name": "stderr",
     "output_type": "stream",
     "text": [
      " 82%|████████▏ | 1046/1276 [5:51:53<46:36, 12.16s/it]"
     ]
    },
    {
     "name": "stdout",
     "output_type": "stream",
     "text": [
      "STOP CODE:  Stay unchanged in the last 6 iterations\n",
      "> SA ENDS....... \n",
      "\n",
      "> avg loss: 5.4178171658073495\n",
      "> For the *1046_th* data_key\n",
      "> retail = 27.99,bidincrement = 0.12, bidfee = 0.6, infer PT's parameters\n",
      "> Now do SA....... \n",
      "\n"
     ]
    },
    {
     "name": "stderr",
     "output_type": "stream",
     "text": [
      " 82%|████████▏ | 1047/1276 [5:51:56<35:39,  9.34s/it]"
     ]
    },
    {
     "name": "stdout",
     "output_type": "stream",
     "text": [
      "STOP CODE:  Stay unchanged in the last 6 iterations\n",
      "> SA ENDS....... \n",
      "\n",
      "> avg loss: 4.754474431248616\n",
      "> For the *1047_th* data_key\n",
      "> retail = 46.99,bidincrement = 0.12, bidfee = 0.6, infer PT's parameters\n",
      "> Now do SA....... \n",
      "\n"
     ]
    },
    {
     "name": "stderr",
     "output_type": "stream",
     "text": [
      " 82%|████████▏ | 1048/1276 [5:51:59<28:31,  7.51s/it]"
     ]
    },
    {
     "name": "stdout",
     "output_type": "stream",
     "text": [
      "STOP CODE:  Stay unchanged in the last 6 iterations\n",
      "> SA ENDS....... \n",
      "\n",
      "> avg loss: 5.271741904836074\n",
      "> For the *1048_th* data_key\n",
      "> retail = 56.99,bidincrement = 0.12, bidfee = 0.6, infer PT's parameters\n",
      "> Now do SA....... \n",
      "\n"
     ]
    },
    {
     "name": "stderr",
     "output_type": "stream",
     "text": [
      " 82%|████████▏ | 1049/1276 [5:52:04<25:06,  6.64s/it]"
     ]
    },
    {
     "name": "stdout",
     "output_type": "stream",
     "text": [
      "STOP CODE:  Stay unchanged in the last 6 iterations\n",
      "> SA ENDS....... \n",
      "\n",
      "> avg loss: 5.420451242504643\n",
      "> For the *1049_th* data_key\n",
      "> retail = 54.49,bidincrement = 0.12, bidfee = 0.6, infer PT's parameters\n",
      "> Now do SA....... \n",
      "\n"
     ]
    },
    {
     "name": "stderr",
     "output_type": "stream",
     "text": [
      " 82%|████████▏ | 1050/1276 [5:52:06<20:16,  5.38s/it]"
     ]
    },
    {
     "name": "stdout",
     "output_type": "stream",
     "text": [
      "STOP CODE:  Stay unchanged in the last 6 iterations\n",
      "> SA ENDS....... \n",
      "\n",
      "> avg loss: 5.3632871858299245\n",
      "> For the *1050_th* data_key\n",
      "> retail = 56.99,bidincrement = 0.12, bidfee = 0.6, infer PT's parameters\n",
      "> Now do SA....... \n",
      "\n"
     ]
    },
    {
     "name": "stderr",
     "output_type": "stream",
     "text": [
      " 82%|████████▏ | 1051/1276 [5:52:10<18:02,  4.81s/it]"
     ]
    },
    {
     "name": "stdout",
     "output_type": "stream",
     "text": [
      "STOP CODE:  Stay unchanged in the last 6 iterations\n",
      "> SA ENDS....... \n",
      "\n",
      "> avg loss: 5.353476042491358\n",
      "> For the *1051_th* data_key\n",
      "> retail = 29.99,bidincrement = 0.12, bidfee = 0.6, infer PT's parameters\n",
      "> Now do SA....... \n",
      "\n"
     ]
    },
    {
     "name": "stderr",
     "output_type": "stream",
     "text": [
      " 82%|████████▏ | 1052/1276 [5:52:12<14:54,  3.99s/it]"
     ]
    },
    {
     "name": "stdout",
     "output_type": "stream",
     "text": [
      "STOP CODE:  Stay unchanged in the last 6 iterations\n",
      "> SA ENDS....... \n",
      "\n",
      "> avg loss: 4.74797038617391\n",
      "> For the *1052_th* data_key\n",
      "> retail = 56.99,bidincrement = 0.12, bidfee = 0.6, infer PT's parameters\n",
      "> Now do SA....... \n",
      "\n"
     ]
    },
    {
     "name": "stderr",
     "output_type": "stream",
     "text": [
      " 83%|████████▎ | 1053/1276 [5:52:15<14:34,  3.92s/it]"
     ]
    },
    {
     "name": "stdout",
     "output_type": "stream",
     "text": [
      "STOP CODE:  Stay unchanged in the last 6 iterations\n",
      "> SA ENDS....... \n",
      "\n",
      "> avg loss: 5.44876775093708\n",
      "> For the *1053_th* data_key\n",
      "> retail = 56.99,bidincrement = 0.12, bidfee = 0.6, infer PT's parameters\n",
      "> Now do SA....... \n",
      "\n"
     ]
    },
    {
     "name": "stderr",
     "output_type": "stream",
     "text": [
      " 83%|████████▎ | 1054/1276 [5:52:19<14:38,  3.96s/it]"
     ]
    },
    {
     "name": "stdout",
     "output_type": "stream",
     "text": [
      "STOP CODE:  Stay unchanged in the last 6 iterations\n",
      "> SA ENDS....... \n",
      "\n",
      "> avg loss: 5.386306246670878\n",
      "> For the *1054_th* data_key\n",
      "> retail = 58.99,bidincrement = 0.12, bidfee = 0.6, infer PT's parameters\n",
      "> Now do SA....... \n",
      "\n"
     ]
    },
    {
     "name": "stderr",
     "output_type": "stream",
     "text": [
      " 83%|████████▎ | 1055/1276 [5:52:25<15:54,  4.32s/it]"
     ]
    },
    {
     "name": "stdout",
     "output_type": "stream",
     "text": [
      "STOP CODE:  Stay unchanged in the last 6 iterations\n",
      "> SA ENDS....... \n",
      "\n",
      "> avg loss: 5.3571566688252386\n",
      "> For the *1055_th* data_key\n",
      "> retail = 58.99,bidincrement = 0.12, bidfee = 0.6, infer PT's parameters\n",
      "> Now do SA....... \n",
      "\n"
     ]
    },
    {
     "name": "stderr",
     "output_type": "stream",
     "text": [
      " 83%|████████▎ | 1056/1276 [5:52:31<17:41,  4.82s/it]"
     ]
    },
    {
     "name": "stdout",
     "output_type": "stream",
     "text": [
      "STOP CODE:  Stay unchanged in the last 6 iterations\n",
      "> SA ENDS....... \n",
      "\n",
      "> avg loss: 5.395786611425703\n",
      "> For the *1056_th* data_key\n",
      "> retail = 46.99,bidincrement = 0.12, bidfee = 0.6, infer PT's parameters\n",
      "> Now do SA....... \n",
      "\n"
     ]
    },
    {
     "name": "stderr",
     "output_type": "stream",
     "text": [
      " 83%|████████▎ | 1057/1276 [5:52:34<16:28,  4.51s/it]"
     ]
    },
    {
     "name": "stdout",
     "output_type": "stream",
     "text": [
      "STOP CODE:  Stay unchanged in the last 6 iterations\n",
      "> SA ENDS....... \n",
      "\n",
      "> avg loss: 5.20995213726204\n",
      "> For the *1057_th* data_key\n",
      "> retail = 33.99,bidincrement = 0.12, bidfee = 0.6, infer PT's parameters\n",
      "> Now do SA....... \n",
      "\n"
     ]
    },
    {
     "name": "stderr",
     "output_type": "stream",
     "text": [
      " 83%|████████▎ | 1058/1276 [5:52:38<15:04,  4.15s/it]"
     ]
    },
    {
     "name": "stdout",
     "output_type": "stream",
     "text": [
      "STOP CODE:  Stay unchanged in the last 6 iterations\n",
      "> SA ENDS....... \n",
      "\n",
      "> avg loss: 4.876281304175812\n",
      "> For the *1058_th* data_key\n",
      "> retail = 44.99,bidincrement = 0.12, bidfee = 0.6, infer PT's parameters\n",
      "> Now do SA....... \n",
      "\n"
     ]
    },
    {
     "name": "stderr",
     "output_type": "stream",
     "text": [
      " 83%|████████▎ | 1059/1276 [5:52:44<16:46,  4.64s/it]"
     ]
    },
    {
     "name": "stdout",
     "output_type": "stream",
     "text": [
      "STOP CODE:  Stay unchanged in the last 6 iterations\n",
      "> SA ENDS....... \n",
      "\n",
      "> avg loss: 5.217477279660296\n",
      "> For the *1059_th* data_key\n",
      "> retail = 46.99,bidincrement = 0.12, bidfee = 0.6, infer PT's parameters\n",
      "> Now do SA....... \n",
      "\n"
     ]
    },
    {
     "name": "stderr",
     "output_type": "stream",
     "text": [
      " 83%|████████▎ | 1060/1276 [5:52:49<17:19,  4.81s/it]"
     ]
    },
    {
     "name": "stdout",
     "output_type": "stream",
     "text": [
      "STOP CODE:  Stay unchanged in the last 6 iterations\n",
      "> SA ENDS....... \n",
      "\n",
      "> avg loss: 5.1984567259820835\n",
      "> For the *1060_th* data_key\n",
      "> retail = 36.99,bidincrement = 0.12, bidfee = 0.6, infer PT's parameters\n",
      "> Now do SA....... \n",
      "\n"
     ]
    },
    {
     "name": "stderr",
     "output_type": "stream",
     "text": [
      " 83%|████████▎ | 1061/1276 [5:52:52<15:46,  4.40s/it]"
     ]
    },
    {
     "name": "stdout",
     "output_type": "stream",
     "text": [
      "STOP CODE:  Stay unchanged in the last 6 iterations\n",
      "> SA ENDS....... \n",
      "\n",
      "> avg loss: 4.884866821010034\n",
      "> For the *1061_th* data_key\n",
      "> retail = 29.99,bidincrement = 0.12, bidfee = 0.6, infer PT's parameters\n",
      "> Now do SA....... \n",
      "\n"
     ]
    },
    {
     "name": "stderr",
     "output_type": "stream",
     "text": [
      " 83%|████████▎ | 1062/1276 [5:52:55<14:19,  4.02s/it]"
     ]
    },
    {
     "name": "stdout",
     "output_type": "stream",
     "text": [
      "STOP CODE:  Stay unchanged in the last 6 iterations\n",
      "> SA ENDS....... \n",
      "\n",
      "> avg loss: 4.710731083783962\n",
      "> For the *1062_th* data_key\n",
      "> retail = 46.99,bidincrement = 0.12, bidfee = 0.6, infer PT's parameters\n",
      "> Now do SA....... \n",
      "\n"
     ]
    },
    {
     "name": "stderr",
     "output_type": "stream",
     "text": [
      " 83%|████████▎ | 1063/1276 [5:53:02<17:14,  4.86s/it]"
     ]
    },
    {
     "name": "stdout",
     "output_type": "stream",
     "text": [
      "STOP CODE:  Stay unchanged in the last 6 iterations\n",
      "> SA ENDS....... \n",
      "\n",
      "> avg loss: 5.193735883489979\n",
      "> For the *1063_th* data_key\n",
      "> retail = 56.99,bidincrement = 0.12, bidfee = 0.6, infer PT's parameters\n",
      "> Now do SA....... \n",
      "\n"
     ]
    },
    {
     "name": "stderr",
     "output_type": "stream",
     "text": [
      " 83%|████████▎ | 1064/1276 [5:53:06<15:42,  4.45s/it]"
     ]
    },
    {
     "name": "stdout",
     "output_type": "stream",
     "text": [
      "STOP CODE:  Stay unchanged in the last 6 iterations\n",
      "> SA ENDS....... \n",
      "\n",
      "> avg loss: 5.357283580536692\n",
      "> For the *1064_th* data_key\n",
      "> retail = 59.99,bidincrement = 0.12, bidfee = 0.6, infer PT's parameters\n",
      "> Now do SA....... \n",
      "\n"
     ]
    },
    {
     "name": "stderr",
     "output_type": "stream",
     "text": [
      " 83%|████████▎ | 1065/1276 [5:53:12<17:46,  5.06s/it]"
     ]
    },
    {
     "name": "stdout",
     "output_type": "stream",
     "text": [
      "STOP CODE:  Stay unchanged in the last 6 iterations\n",
      "> SA ENDS....... \n",
      "\n",
      "> avg loss: 5.43381408510636\n",
      "> For the *1065_th* data_key\n",
      "> retail = 59.99,bidincrement = 0.12, bidfee = 0.6, infer PT's parameters\n",
      "> Now do SA....... \n",
      "\n"
     ]
    },
    {
     "name": "stderr",
     "output_type": "stream",
     "text": [
      " 84%|████████▎ | 1066/1276 [5:53:15<15:10,  4.34s/it]"
     ]
    },
    {
     "name": "stdout",
     "output_type": "stream",
     "text": [
      "STOP CODE:  Stay unchanged in the last 6 iterations\n",
      "> SA ENDS....... \n",
      "\n",
      "> avg loss: 5.463679210551657\n",
      "> For the *1066_th* data_key\n",
      "> retail = 59.99,bidincrement = 0.12, bidfee = 0.6, infer PT's parameters\n",
      "> Now do SA....... \n",
      "\n"
     ]
    },
    {
     "name": "stderr",
     "output_type": "stream",
     "text": [
      " 84%|████████▎ | 1067/1276 [5:53:19<15:21,  4.41s/it]"
     ]
    },
    {
     "name": "stdout",
     "output_type": "stream",
     "text": [
      "STOP CODE:  Stay unchanged in the last 6 iterations\n",
      "> SA ENDS....... \n",
      "\n",
      "> avg loss: 5.428199610736612\n",
      "> For the *1067_th* data_key\n",
      "> retail = 56.99,bidincrement = 0.12, bidfee = 0.6, infer PT's parameters\n",
      "> Now do SA....... \n",
      "\n"
     ]
    },
    {
     "name": "stderr",
     "output_type": "stream",
     "text": [
      " 84%|████████▎ | 1068/1276 [5:53:24<15:33,  4.49s/it]"
     ]
    },
    {
     "name": "stdout",
     "output_type": "stream",
     "text": [
      "STOP CODE:  Stay unchanged in the last 6 iterations\n",
      "> SA ENDS....... \n",
      "\n",
      "> avg loss: 5.391950228122411\n",
      "> For the *1068_th* data_key\n",
      "> retail = 36.99,bidincrement = 0.12, bidfee = 0.6, infer PT's parameters\n",
      "> Now do SA....... \n",
      "\n"
     ]
    },
    {
     "name": "stderr",
     "output_type": "stream",
     "text": [
      " 84%|████████▍ | 1069/1276 [5:53:29<15:32,  4.50s/it]"
     ]
    },
    {
     "name": "stdout",
     "output_type": "stream",
     "text": [
      "STOP CODE:  Stay unchanged in the last 6 iterations\n",
      "> SA ENDS....... \n",
      "\n",
      "> avg loss: 4.94354161693176\n",
      "> For the *1069_th* data_key\n",
      "> retail = 36.99,bidincrement = 0.12, bidfee = 0.6, infer PT's parameters\n",
      "> Now do SA....... \n",
      "\n"
     ]
    },
    {
     "name": "stderr",
     "output_type": "stream",
     "text": [
      " 84%|████████▍ | 1070/1276 [5:53:30<12:29,  3.64s/it]"
     ]
    },
    {
     "name": "stdout",
     "output_type": "stream",
     "text": [
      "STOP CODE:  Stay unchanged in the last 6 iterations\n",
      "> SA ENDS....... \n",
      "\n",
      "> avg loss: 5.021966240334885\n",
      "> For the *1070_th* data_key\n",
      "> retail = 54.99,bidincrement = 0.12, bidfee = 0.6, infer PT's parameters\n",
      "> Now do SA....... \n",
      "\n"
     ]
    },
    {
     "name": "stderr",
     "output_type": "stream",
     "text": [
      " 84%|████████▍ | 1071/1276 [5:53:34<12:49,  3.75s/it]"
     ]
    },
    {
     "name": "stdout",
     "output_type": "stream",
     "text": [
      "STOP CODE:  Stay unchanged in the last 6 iterations\n",
      "> SA ENDS....... \n",
      "\n",
      "> avg loss: 5.383948565738481\n",
      "> For the *1071_th* data_key\n",
      "> retail = 56.99,bidincrement = 0.12, bidfee = 0.6, infer PT's parameters\n",
      "> Now do SA....... \n",
      "\n"
     ]
    },
    {
     "name": "stderr",
     "output_type": "stream",
     "text": [
      " 84%|████████▍ | 1072/1276 [5:53:38<12:50,  3.78s/it]"
     ]
    },
    {
     "name": "stdout",
     "output_type": "stream",
     "text": [
      "STOP CODE:  Stay unchanged in the last 6 iterations\n",
      "> SA ENDS....... \n",
      "\n",
      "> avg loss: 5.3313564932558455\n",
      "> For the *1072_th* data_key\n",
      "> retail = 56.99,bidincrement = 0.12, bidfee = 0.6, infer PT's parameters\n",
      "> Now do SA....... \n",
      "\n"
     ]
    },
    {
     "name": "stderr",
     "output_type": "stream",
     "text": [
      " 84%|████████▍ | 1073/1276 [5:53:42<12:56,  3.83s/it]"
     ]
    },
    {
     "name": "stdout",
     "output_type": "stream",
     "text": [
      "STOP CODE:  Stay unchanged in the last 6 iterations\n",
      "> SA ENDS....... \n",
      "\n",
      "> avg loss: 5.484391361011989\n",
      "> For the *1073_th* data_key\n",
      "> retail = 56.99,bidincrement = 0.12, bidfee = 0.6, infer PT's parameters\n",
      "> Now do SA....... \n",
      "\n"
     ]
    },
    {
     "name": "stderr",
     "output_type": "stream",
     "text": [
      " 84%|████████▍ | 1074/1276 [5:53:47<14:11,  4.22s/it]"
     ]
    },
    {
     "name": "stdout",
     "output_type": "stream",
     "text": [
      "STOP CODE:  Stay unchanged in the last 6 iterations\n",
      "> SA ENDS....... \n",
      "\n",
      "> avg loss: 5.3544560636016\n",
      "> For the *1074_th* data_key\n",
      "> retail = 56.99,bidincrement = 0.12, bidfee = 0.6, infer PT's parameters\n",
      "> Now do SA....... \n",
      "\n"
     ]
    },
    {
     "name": "stderr",
     "output_type": "stream",
     "text": [
      " 84%|████████▍ | 1075/1276 [5:53:50<13:00,  3.88s/it]"
     ]
    },
    {
     "name": "stdout",
     "output_type": "stream",
     "text": [
      "STOP CODE:  Stay unchanged in the last 6 iterations\n",
      "> SA ENDS....... \n",
      "\n",
      "> avg loss: 5.403749749934004\n",
      "> For the *1075_th* data_key\n",
      "> retail = 49.99,bidincrement = 0.12, bidfee = 0.6, infer PT's parameters\n",
      "> Now do SA....... \n",
      "\n"
     ]
    },
    {
     "name": "stderr",
     "output_type": "stream",
     "text": [
      " 84%|████████▍ | 1076/1276 [5:53:54<12:32,  3.76s/it]"
     ]
    },
    {
     "name": "stdout",
     "output_type": "stream",
     "text": [
      "STOP CODE:  Stay unchanged in the last 6 iterations\n",
      "> SA ENDS....... \n",
      "\n",
      "> avg loss: 5.224548242962818\n",
      "> For the *1076_th* data_key\n",
      "> retail = 29.99,bidincrement = 0.12, bidfee = 0.6, infer PT's parameters\n",
      "> Now do SA....... \n",
      "\n"
     ]
    },
    {
     "name": "stderr",
     "output_type": "stream",
     "text": [
      " 84%|████████▍ | 1077/1276 [5:53:58<12:33,  3.78s/it]"
     ]
    },
    {
     "name": "stdout",
     "output_type": "stream",
     "text": [
      "STOP CODE:  Stay unchanged in the last 6 iterations\n",
      "> SA ENDS....... \n",
      "\n",
      "> avg loss: 4.694835117682892\n",
      "> For the *1077_th* data_key\n",
      "> retail = 399.0,bidincrement = 0.12, bidfee = 0.6, infer PT's parameters\n",
      "> Now do SA....... \n",
      "\n"
     ]
    },
    {
     "name": "stderr",
     "output_type": "stream",
     "text": [
      " 84%|████████▍ | 1078/1276 [5:54:13<24:07,  7.31s/it]"
     ]
    },
    {
     "name": "stdout",
     "output_type": "stream",
     "text": [
      "STOP CODE:  Stay unchanged in the last 6 iterations\n",
      "> SA ENDS....... \n",
      "\n",
      "> avg loss: 7.33790750600942\n",
      "> For the *1078_th* data_key\n",
      "> retail = 249.99,bidincrement = 0.12, bidfee = 0.6, infer PT's parameters\n",
      "> Now do SA....... \n",
      "\n"
     ]
    },
    {
     "name": "stderr",
     "output_type": "stream",
     "text": [
      " 85%|████████▍ | 1079/1276 [5:54:24<27:59,  8.53s/it]"
     ]
    },
    {
     "name": "stdout",
     "output_type": "stream",
     "text": [
      "STOP CODE:  Stay unchanged in the last 6 iterations\n",
      "> SA ENDS....... \n",
      "\n",
      "> avg loss: 6.853420708417077\n",
      "> For the *1079_th* data_key\n",
      "> retail = 19.99,bidincrement = 0.12, bidfee = 0.6, infer PT's parameters\n",
      "> Now do SA....... \n",
      "\n"
     ]
    },
    {
     "name": "stderr",
     "output_type": "stream",
     "text": [
      " 85%|████████▍ | 1080/1276 [5:54:27<22:26,  6.87s/it]"
     ]
    },
    {
     "name": "stdout",
     "output_type": "stream",
     "text": [
      "STOP CODE:  Stay unchanged in the last 6 iterations\n",
      "> SA ENDS....... \n",
      "\n",
      "> avg loss: 4.322403496726746\n",
      "> For the *1080_th* data_key\n",
      "> retail = 99.99,bidincrement = 0.12, bidfee = 0.6, infer PT's parameters\n",
      "> Now do SA....... \n",
      "\n"
     ]
    },
    {
     "name": "stderr",
     "output_type": "stream",
     "text": [
      " 85%|████████▍ | 1081/1276 [5:54:34<21:55,  6.75s/it]"
     ]
    },
    {
     "name": "stdout",
     "output_type": "stream",
     "text": [
      "STOP CODE:  Stay unchanged in the last 6 iterations\n",
      "> SA ENDS....... \n",
      "\n",
      "> avg loss: 5.9644276428331064\n",
      "> For the *1081_th* data_key\n",
      "> retail = 24.99,bidincrement = 0.24, bidfee = 0.6, infer PT's parameters\n",
      "> Now do SA....... \n",
      "\n"
     ]
    },
    {
     "name": "stderr",
     "output_type": "stream",
     "text": [
      " 85%|████████▍ | 1082/1276 [5:54:35<16:31,  5.11s/it]"
     ]
    },
    {
     "name": "stdout",
     "output_type": "stream",
     "text": [
      "STOP CODE:  Stay unchanged in the last 6 iterations\n",
      "> SA ENDS....... \n",
      "\n",
      "> avg loss: 2.5244917962562767\n",
      "> For the *1082_th* data_key\n",
      "> retail = 19.99,bidincrement = 0.24, bidfee = 0.6, infer PT's parameters\n",
      "> Now do SA....... \n",
      "\n"
     ]
    },
    {
     "name": "stderr",
     "output_type": "stream",
     "text": [
      " 85%|████████▍ | 1083/1276 [5:54:37<13:39,  4.25s/it]"
     ]
    },
    {
     "name": "stdout",
     "output_type": "stream",
     "text": [
      "STOP CODE:  Stay unchanged in the last 6 iterations\n",
      "> SA ENDS....... \n",
      "\n",
      "> avg loss: 2.500986797221824\n",
      "> For the *1083_th* data_key\n",
      "> retail = 29.95,bidincrement = 0.24, bidfee = 0.6, infer PT's parameters\n",
      "> Now do SA....... \n",
      "\n"
     ]
    },
    {
     "name": "stderr",
     "output_type": "stream",
     "text": [
      " 85%|████████▍ | 1084/1276 [5:54:39<10:41,  3.34s/it]"
     ]
    },
    {
     "name": "stdout",
     "output_type": "stream",
     "text": [
      "STOP CODE:  Stay unchanged in the last 6 iterations\n",
      "> SA ENDS....... \n",
      "\n",
      "> avg loss: 3.044572905170911\n",
      "> For the *1084_th* data_key\n",
      "> retail = 49.99,bidincrement = 0.12, bidfee = 0.6, infer PT's parameters\n",
      "> Now do SA....... \n",
      "\n"
     ]
    },
    {
     "name": "stderr",
     "output_type": "stream",
     "text": [
      " 85%|████████▌ | 1085/1276 [5:54:42<11:03,  3.47s/it]"
     ]
    },
    {
     "name": "stdout",
     "output_type": "stream",
     "text": [
      "STOP CODE:  Stay unchanged in the last 6 iterations\n",
      "> SA ENDS....... \n",
      "\n",
      "> avg loss: 5.294687509224529\n",
      "> For the *1085_th* data_key\n",
      "> retail = 49.99,bidincrement = 0.12, bidfee = 0.6, infer PT's parameters\n",
      "> Now do SA....... \n",
      "\n"
     ]
    },
    {
     "name": "stderr",
     "output_type": "stream",
     "text": [
      " 85%|████████▌ | 1086/1276 [5:54:46<11:26,  3.61s/it]"
     ]
    },
    {
     "name": "stdout",
     "output_type": "stream",
     "text": [
      "STOP CODE:  Stay unchanged in the last 6 iterations\n",
      "> SA ENDS....... \n",
      "\n",
      "> avg loss: 5.230021081979611\n",
      "> For the *1086_th* data_key\n",
      "> retail = 49.99,bidincrement = 0.12, bidfee = 0.6, infer PT's parameters\n",
      "> Now do SA....... \n",
      "\n"
     ]
    },
    {
     "name": "stderr",
     "output_type": "stream",
     "text": [
      " 85%|████████▌ | 1087/1276 [5:54:49<10:01,  3.18s/it]"
     ]
    },
    {
     "name": "stdout",
     "output_type": "stream",
     "text": [
      "STOP CODE:  Stay unchanged in the last 6 iterations\n",
      "> SA ENDS....... \n",
      "\n",
      "> avg loss: 5.210700584884569\n",
      "> For the *1087_th* data_key\n",
      "> retail = 41.99,bidincrement = 0.12, bidfee = 0.6, infer PT's parameters\n",
      "> Now do SA....... \n",
      "\n"
     ]
    },
    {
     "name": "stderr",
     "output_type": "stream",
     "text": [
      " 85%|████████▌ | 1088/1276 [5:54:53<11:31,  3.68s/it]"
     ]
    },
    {
     "name": "stdout",
     "output_type": "stream",
     "text": [
      "STOP CODE:  Stay unchanged in the last 6 iterations\n",
      "> SA ENDS....... \n",
      "\n",
      "> avg loss: 5.011838347183782\n",
      "> For the *1088_th* data_key\n",
      "> retail = 49.99,bidincrement = 0.12, bidfee = 0.6, infer PT's parameters\n",
      "> Now do SA....... \n",
      "\n"
     ]
    },
    {
     "name": "stderr",
     "output_type": "stream",
     "text": [
      " 85%|████████▌ | 1089/1276 [5:54:57<11:23,  3.66s/it]"
     ]
    },
    {
     "name": "stdout",
     "output_type": "stream",
     "text": [
      "STOP CODE:  Stay unchanged in the last 6 iterations\n",
      "> SA ENDS....... \n",
      "\n",
      "> avg loss: 5.243592864874788\n",
      "> For the *1089_th* data_key\n",
      "> retail = 54.99,bidincrement = 0.12, bidfee = 0.6, infer PT's parameters\n",
      "> Now do SA....... \n",
      "\n"
     ]
    },
    {
     "name": "stderr",
     "output_type": "stream",
     "text": [
      " 85%|████████▌ | 1090/1276 [5:55:02<12:30,  4.04s/it]"
     ]
    },
    {
     "name": "stdout",
     "output_type": "stream",
     "text": [
      "STOP CODE:  Stay unchanged in the last 6 iterations\n",
      "> SA ENDS....... \n",
      "\n",
      "> avg loss: 5.3918367002630445\n",
      "> For the *1090_th* data_key\n",
      "> retail = 36.99,bidincrement = 0.12, bidfee = 0.6, infer PT's parameters\n",
      "> Now do SA....... \n",
      "\n"
     ]
    },
    {
     "name": "stderr",
     "output_type": "stream",
     "text": [
      " 86%|████████▌ | 1091/1276 [5:55:05<11:57,  3.88s/it]"
     ]
    },
    {
     "name": "stdout",
     "output_type": "stream",
     "text": [
      "STOP CODE:  Stay unchanged in the last 6 iterations\n",
      "> SA ENDS....... \n",
      "\n",
      "> avg loss: 4.973846000060062\n",
      "> For the *1091_th* data_key\n",
      "> retail = 59.99,bidincrement = 0.12, bidfee = 0.6, infer PT's parameters\n",
      "> Now do SA....... \n",
      "\n"
     ]
    },
    {
     "name": "stderr",
     "output_type": "stream",
     "text": [
      " 86%|████████▌ | 1092/1276 [5:55:11<13:05,  4.27s/it]"
     ]
    },
    {
     "name": "stdout",
     "output_type": "stream",
     "text": [
      "STOP CODE:  Stay unchanged in the last 6 iterations\n",
      "> SA ENDS....... \n",
      "\n",
      "> avg loss: 5.461264303601909\n",
      "> For the *1092_th* data_key\n",
      "> retail = 112.0,bidincrement = 0.12, bidfee = 0.6, infer PT's parameters\n",
      "> Now do SA....... \n",
      "\n"
     ]
    },
    {
     "name": "stderr",
     "output_type": "stream",
     "text": [
      " 86%|████████▌ | 1093/1276 [5:55:17<14:42,  4.82s/it]"
     ]
    },
    {
     "name": "stdout",
     "output_type": "stream",
     "text": [
      "STOP CODE:  Stay unchanged in the last 6 iterations\n",
      "> SA ENDS....... \n",
      "\n",
      "> avg loss: 6.043629131184168\n",
      "> For the *1093_th* data_key\n",
      "> retail = 38.99,bidincrement = 0.12, bidfee = 0.6, infer PT's parameters\n",
      "> Now do SA....... \n",
      "\n"
     ]
    },
    {
     "name": "stderr",
     "output_type": "stream",
     "text": [
      " 86%|████████▌ | 1094/1276 [5:55:24<17:01,  5.61s/it]"
     ]
    },
    {
     "name": "stdout",
     "output_type": "stream",
     "text": [
      "STOP CODE:  Stay unchanged in the last 6 iterations\n",
      "> SA ENDS....... \n",
      "\n",
      "> avg loss: 5.034513328475835\n",
      "> For the *1094_th* data_key\n",
      "> retail = 35.65,bidincrement = 0.12, bidfee = 0.6, infer PT's parameters\n",
      "> Now do SA....... \n",
      "\n"
     ]
    },
    {
     "name": "stderr",
     "output_type": "stream",
     "text": [
      " 86%|████████▌ | 1095/1276 [5:55:27<14:04,  4.66s/it]"
     ]
    },
    {
     "name": "stdout",
     "output_type": "stream",
     "text": [
      "STOP CODE:  Stay unchanged in the last 6 iterations\n",
      "> SA ENDS....... \n",
      "\n",
      "> avg loss: 5.002914315831462\n",
      "> For the *1095_th* data_key\n",
      "> retail = 39.99,bidincrement = 0.12, bidfee = 0.6, infer PT's parameters\n",
      "> Now do SA....... \n",
      "\n"
     ]
    },
    {
     "name": "stderr",
     "output_type": "stream",
     "text": [
      " 86%|████████▌ | 1096/1276 [5:55:30<13:10,  4.39s/it]"
     ]
    },
    {
     "name": "stdout",
     "output_type": "stream",
     "text": [
      "STOP CODE:  Stay unchanged in the last 6 iterations\n",
      "> SA ENDS....... \n",
      "\n",
      "> avg loss: 5.012605419710988\n",
      "> For the *1096_th* data_key\n",
      "> retail = 54.99,bidincrement = 0.12, bidfee = 0.6, infer PT's parameters\n",
      "> Now do SA....... \n",
      "\n"
     ]
    },
    {
     "name": "stderr",
     "output_type": "stream",
     "text": [
      " 86%|████████▌ | 1097/1276 [5:55:36<14:20,  4.81s/it]"
     ]
    },
    {
     "name": "stdout",
     "output_type": "stream",
     "text": [
      "STOP CODE:  Stay unchanged in the last 6 iterations\n",
      "> SA ENDS....... \n",
      "\n",
      "> avg loss: 5.3750632612388936\n",
      "> For the *1097_th* data_key\n",
      "> retail = 69.99,bidincrement = 0.12, bidfee = 0.6, infer PT's parameters\n",
      "> Now do SA....... \n",
      "\n"
     ]
    },
    {
     "name": "stderr",
     "output_type": "stream",
     "text": [
      " 86%|████████▌ | 1098/1276 [5:55:39<12:49,  4.32s/it]"
     ]
    },
    {
     "name": "stdout",
     "output_type": "stream",
     "text": [
      "STOP CODE:  Stay unchanged in the last 6 iterations\n",
      "> SA ENDS....... \n",
      "\n",
      "> avg loss: 5.5475355954465915\n",
      "> For the *1098_th* data_key\n",
      "> retail = 65.0,bidincrement = 0.12, bidfee = 0.6, infer PT's parameters\n",
      "> Now do SA....... \n",
      "\n"
     ]
    },
    {
     "name": "stderr",
     "output_type": "stream",
     "text": [
      " 86%|████████▌ | 1099/1276 [5:55:43<12:28,  4.23s/it]"
     ]
    },
    {
     "name": "stdout",
     "output_type": "stream",
     "text": [
      "STOP CODE:  Stay unchanged in the last 6 iterations\n",
      "> SA ENDS....... \n",
      "\n",
      "> avg loss: 5.52287257878953\n",
      "> For the *1099_th* data_key\n",
      "> retail = 30.0,bidincrement = 0.01, bidfee = 0.6, infer PT's parameters\n",
      "> Now do SA....... \n",
      "\n"
     ]
    },
    {
     "name": "stderr",
     "output_type": "stream",
     "text": [
      " 86%|████████▌ | 1100/1276 [5:55:54<17:52,  6.09s/it]"
     ]
    },
    {
     "name": "stdout",
     "output_type": "stream",
     "text": [
      "STOP CODE:  Stay unchanged in the last 6 iterations\n",
      "> SA ENDS....... \n",
      "\n",
      "> avg loss: 4.921223133237147\n",
      "> For the *1100_th* data_key\n",
      "> retail = 45.0,bidincrement = 0.01, bidfee = 0.6, infer PT's parameters\n",
      "> Now do SA....... \n",
      "\n"
     ]
    },
    {
     "name": "stderr",
     "output_type": "stream",
     "text": [
      " 86%|████████▋ | 1101/1276 [5:56:14<30:28, 10.45s/it]"
     ]
    },
    {
     "name": "stdout",
     "output_type": "stream",
     "text": [
      "STOP CODE:  Stay unchanged in the last 6 iterations\n",
      "> SA ENDS....... \n",
      "\n",
      "> avg loss: 5.284487381631128\n",
      "> For the *1101_th* data_key\n",
      "> retail = 549.99,bidincrement = 0.06, bidfee = 0.6, infer PT's parameters\n",
      "> Now do SA....... \n",
      "\n"
     ]
    },
    {
     "name": "stderr",
     "output_type": "stream",
     "text": [
      " 86%|████████▋ | 1102/1276 [5:56:40<43:16, 14.92s/it]"
     ]
    },
    {
     "name": "stdout",
     "output_type": "stream",
     "text": [
      "STOP CODE:  Stay unchanged in the last 6 iterations\n",
      "> SA ENDS....... \n",
      "\n",
      "> avg loss: 7.7249434931510566\n",
      "> For the *1102_th* data_key\n",
      "> retail = 188.99,bidincrement = 0.12, bidfee = 0.6, infer PT's parameters\n",
      "> Now do SA....... \n",
      "\n"
     ]
    },
    {
     "name": "stderr",
     "output_type": "stream",
     "text": [
      " 86%|████████▋ | 1103/1276 [5:56:46<35:40, 12.38s/it]"
     ]
    },
    {
     "name": "stdout",
     "output_type": "stream",
     "text": [
      "STOP CODE:  Stay unchanged in the last 6 iterations\n",
      "> SA ENDS....... \n",
      "\n",
      "> avg loss: 6.5457018062428425\n",
      "> For the *1103_th* data_key\n",
      "> retail = 109.95,bidincrement = 0.12, bidfee = 0.6, infer PT's parameters\n",
      "> Now do SA....... \n",
      "\n"
     ]
    },
    {
     "name": "stderr",
     "output_type": "stream",
     "text": [
      " 87%|████████▋ | 1104/1276 [5:56:52<29:58, 10.46s/it]"
     ]
    },
    {
     "name": "stdout",
     "output_type": "stream",
     "text": [
      "STOP CODE:  Stay unchanged in the last 6 iterations\n",
      "> SA ENDS....... \n",
      "\n",
      "> avg loss: 5.99896183179185\n",
      "> For the *1104_th* data_key\n",
      "> retail = 72.99,bidincrement = 0.12, bidfee = 0.6, infer PT's parameters\n",
      "> Now do SA....... \n",
      "\n"
     ]
    },
    {
     "name": "stderr",
     "output_type": "stream",
     "text": [
      " 87%|████████▋ | 1105/1276 [5:57:00<27:17,  9.58s/it]"
     ]
    },
    {
     "name": "stdout",
     "output_type": "stream",
     "text": [
      "STOP CODE:  Stay unchanged in the last 6 iterations\n",
      "> SA ENDS....... \n",
      "\n",
      "> avg loss: 5.62786823394822\n",
      "> For the *1105_th* data_key\n",
      "> retail = 31.99,bidincrement = 0.12, bidfee = 0.6, infer PT's parameters\n",
      "> Now do SA....... \n",
      "\n"
     ]
    },
    {
     "name": "stderr",
     "output_type": "stream",
     "text": [
      " 87%|████████▋ | 1106/1276 [5:57:03<22:10,  7.82s/it]"
     ]
    },
    {
     "name": "stdout",
     "output_type": "stream",
     "text": [
      "STOP CODE:  Stay unchanged in the last 6 iterations\n",
      "> SA ENDS....... \n",
      "\n",
      "> avg loss: 4.790051970955622\n",
      "> For the *1106_th* data_key\n",
      "> retail = 129.99,bidincrement = 0.12, bidfee = 0.6, infer PT's parameters\n",
      "> Now do SA....... \n",
      "\n"
     ]
    },
    {
     "name": "stderr",
     "output_type": "stream",
     "text": [
      " 87%|████████▋ | 1107/1276 [5:57:20<29:19, 10.41s/it]"
     ]
    },
    {
     "name": "stdout",
     "output_type": "stream",
     "text": [
      "STOP CODE:  Stay unchanged in the last 6 iterations\n",
      "> SA ENDS....... \n",
      "\n",
      "> avg loss: 6.1853088062963755\n",
      "> For the *1107_th* data_key\n",
      "> retail = 109.0,bidincrement = 0.12, bidfee = 0.6, infer PT's parameters\n",
      "> Now do SA....... \n",
      "\n"
     ]
    },
    {
     "name": "stderr",
     "output_type": "stream",
     "text": [
      " 87%|████████▋ | 1108/1276 [5:57:27<26:42,  9.54s/it]"
     ]
    },
    {
     "name": "stdout",
     "output_type": "stream",
     "text": [
      "STOP CODE:  Stay unchanged in the last 6 iterations\n",
      "> SA ENDS....... \n",
      "\n",
      "> avg loss: 6.033156543943999\n",
      "> For the *1108_th* data_key\n",
      "> retail = 99.99,bidincrement = 0.12, bidfee = 0.6, infer PT's parameters\n",
      "> Now do SA....... \n",
      "\n"
     ]
    },
    {
     "name": "stderr",
     "output_type": "stream",
     "text": [
      " 87%|████████▋ | 1109/1276 [5:57:36<26:01,  9.35s/it]"
     ]
    },
    {
     "name": "stdout",
     "output_type": "stream",
     "text": [
      "STOP CODE:  Stay unchanged in the last 6 iterations\n",
      "> SA ENDS....... \n",
      "\n",
      "> avg loss: 5.921456421570942\n",
      "> For the *1109_th* data_key\n",
      "> retail = 30.99,bidincrement = 0.12, bidfee = 0.6, infer PT's parameters\n",
      "> Now do SA....... \n",
      "\n"
     ]
    },
    {
     "name": "stderr",
     "output_type": "stream",
     "text": [
      " 87%|████████▋ | 1110/1276 [5:57:40<21:24,  7.74s/it]"
     ]
    },
    {
     "name": "stdout",
     "output_type": "stream",
     "text": [
      "STOP CODE:  Stay unchanged in the last 6 iterations\n",
      "> SA ENDS....... \n",
      "\n",
      "> avg loss: 4.7201232171399905\n",
      "> For the *1110_th* data_key\n",
      "> retail = 56.99,bidincrement = 0.12, bidfee = 0.6, infer PT's parameters\n",
      "> Now do SA....... \n",
      "\n"
     ]
    },
    {
     "name": "stderr",
     "output_type": "stream",
     "text": [
      " 87%|████████▋ | 1111/1276 [5:57:43<16:57,  6.16s/it]"
     ]
    },
    {
     "name": "stdout",
     "output_type": "stream",
     "text": [
      "STOP CODE:  Stay unchanged in the last 6 iterations\n",
      "> SA ENDS....... \n",
      "\n",
      "> avg loss: 5.398358081457582\n",
      "> For the *1111_th* data_key\n",
      "> retail = 39.99,bidincrement = 0.12, bidfee = 0.6, infer PT's parameters\n",
      "> Now do SA....... \n",
      "\n"
     ]
    },
    {
     "name": "stderr",
     "output_type": "stream",
     "text": [
      " 87%|████████▋ | 1112/1276 [5:57:46<14:29,  5.30s/it]"
     ]
    },
    {
     "name": "stdout",
     "output_type": "stream",
     "text": [
      "STOP CODE:  Stay unchanged in the last 6 iterations\n",
      "> SA ENDS....... \n",
      "\n",
      "> avg loss: 5.037128007737068\n",
      "> For the *1112_th* data_key\n",
      "> retail = 34.99,bidincrement = 0.12, bidfee = 0.6, infer PT's parameters\n",
      "> Now do SA....... \n",
      "\n"
     ]
    },
    {
     "name": "stderr",
     "output_type": "stream",
     "text": [
      " 87%|████████▋ | 1113/1276 [5:57:48<11:20,  4.18s/it]"
     ]
    },
    {
     "name": "stdout",
     "output_type": "stream",
     "text": [
      "STOP CODE:  Stay unchanged in the last 6 iterations\n",
      "> SA ENDS....... \n",
      "\n",
      "> avg loss: 4.844873089273656\n",
      "> For the *1113_th* data_key\n",
      "> retail = 58.99,bidincrement = 0.12, bidfee = 0.6, infer PT's parameters\n",
      "> Now do SA....... \n",
      "\n"
     ]
    },
    {
     "name": "stderr",
     "output_type": "stream",
     "text": [
      " 87%|████████▋ | 1114/1276 [5:57:51<10:16,  3.80s/it]"
     ]
    },
    {
     "name": "stdout",
     "output_type": "stream",
     "text": [
      "STOP CODE:  Stay unchanged in the last 6 iterations\n",
      "> SA ENDS....... \n",
      "\n",
      "> avg loss: 5.442285027203771\n",
      "> For the *1114_th* data_key\n",
      "> retail = 34.76,bidincrement = 0.12, bidfee = 0.6, infer PT's parameters\n",
      "> Now do SA....... \n",
      "\n"
     ]
    },
    {
     "name": "stderr",
     "output_type": "stream",
     "text": [
      " 87%|████████▋ | 1115/1276 [5:57:54<09:41,  3.61s/it]"
     ]
    },
    {
     "name": "stdout",
     "output_type": "stream",
     "text": [
      "STOP CODE:  Stay unchanged in the last 6 iterations\n",
      "> SA ENDS....... \n",
      "\n",
      "> avg loss: 4.83743600695194\n",
      "> For the *1115_th* data_key\n",
      "> retail = 379.99,bidincrement = 0.12, bidfee = 0.6, infer PT's parameters\n",
      "> Now do SA....... \n",
      "\n"
     ]
    },
    {
     "name": "stderr",
     "output_type": "stream",
     "text": [
      " 87%|████████▋ | 1116/1276 [5:58:08<17:53,  6.71s/it]"
     ]
    },
    {
     "name": "stdout",
     "output_type": "stream",
     "text": [
      "STOP CODE:  Stay unchanged in the last 6 iterations\n",
      "> SA ENDS....... \n",
      "\n",
      "> avg loss: 7.267888235063761\n",
      "> For the *1116_th* data_key\n",
      "> retail = 19.49,bidincrement = 0.12, bidfee = 0.6, infer PT's parameters\n",
      "> Now do SA....... \n",
      "\n"
     ]
    },
    {
     "name": "stderr",
     "output_type": "stream",
     "text": [
      " 88%|████████▊ | 1117/1276 [5:58:09<13:31,  5.10s/it]"
     ]
    },
    {
     "name": "stdout",
     "output_type": "stream",
     "text": [
      "STOP CODE:  Stay unchanged in the last 6 iterations\n",
      "> SA ENDS....... \n",
      "\n",
      "> avg loss: 4.274074843296693\n",
      "> For the *1117_th* data_key\n",
      "> retail = 94.99,bidincrement = 0.12, bidfee = 0.6, infer PT's parameters\n",
      "> Now do SA....... \n",
      "\n"
     ]
    },
    {
     "name": "stderr",
     "output_type": "stream",
     "text": [
      " 88%|████████▊ | 1118/1276 [5:58:16<14:38,  5.56s/it]"
     ]
    },
    {
     "name": "stdout",
     "output_type": "stream",
     "text": [
      "STOP CODE:  Stay unchanged in the last 6 iterations\n",
      "> SA ENDS....... \n",
      "\n",
      "> avg loss: 5.905511976095587\n",
      "> For the *1118_th* data_key\n",
      "> retail = 36.49,bidincrement = 0.12, bidfee = 0.6, infer PT's parameters\n",
      "> Now do SA....... \n",
      "\n"
     ]
    },
    {
     "name": "stderr",
     "output_type": "stream",
     "text": [
      " 88%|████████▊ | 1119/1276 [5:58:19<12:59,  4.97s/it]"
     ]
    },
    {
     "name": "stdout",
     "output_type": "stream",
     "text": [
      "STOP CODE:  Stay unchanged in the last 6 iterations\n",
      "> SA ENDS....... \n",
      "\n",
      "> avg loss: 4.966792133415808\n",
      "> For the *1119_th* data_key\n",
      "> retail = 59.95,bidincrement = 0.12, bidfee = 0.6, infer PT's parameters\n",
      "> Now do SA....... \n",
      "\n"
     ]
    },
    {
     "name": "stderr",
     "output_type": "stream",
     "text": [
      " 88%|████████▊ | 1120/1276 [5:58:25<13:39,  5.25s/it]"
     ]
    },
    {
     "name": "stdout",
     "output_type": "stream",
     "text": [
      "STOP CODE:  Stay unchanged in the last 6 iterations\n",
      "> SA ENDS....... \n",
      "\n",
      "> avg loss: 5.423301009919463\n",
      "> For the *1120_th* data_key\n",
      "> retail = 1849.0,bidincrement = 0.01, bidfee = 0.6, infer PT's parameters\n",
      "> Now do SA....... \n",
      "\n"
     ]
    },
    {
     "name": "stderr",
     "output_type": "stream",
     "text": [
      " 88%|████████▊ | 1121/1276 [6:00:29<1:45:24, 40.80s/it]"
     ]
    },
    {
     "name": "stdout",
     "output_type": "stream",
     "text": [
      "> 超时\n",
      "> SA ENDS....... \n",
      "\n",
      "> avg loss: 23.025851151065837\n",
      "> For the *1121_th* data_key\n",
      "> retail = 749.95,bidincrement = 0.01, bidfee = 0.6, infer PT's parameters\n",
      "> Now do SA....... \n",
      "\n"
     ]
    },
    {
     "name": "stderr",
     "output_type": "stream",
     "text": [
      " 88%|████████▊ | 1122/1276 [6:02:30<2:46:54, 65.03s/it]"
     ]
    },
    {
     "name": "stdout",
     "output_type": "stream",
     "text": [
      "> 超时\n",
      "> SA ENDS....... \n",
      "\n",
      "> avg loss: 23.025850968029513\n",
      "> For the *1122_th* data_key\n",
      "> retail = 1081.99,bidincrement = 0.01, bidfee = 0.6, infer PT's parameters\n",
      "> Now do SA....... \n",
      "\n"
     ]
    },
    {
     "name": "stderr",
     "output_type": "stream",
     "text": [
      " 88%|████████▊ | 1123/1276 [6:04:32<3:29:27, 82.14s/it]"
     ]
    },
    {
     "name": "stdout",
     "output_type": "stream",
     "text": [
      "> 超时\n",
      "> SA ENDS....... \n",
      "\n",
      "> avg loss: 23.025851045909427\n",
      "> For the *1123_th* data_key\n",
      "> retail = 549.99,bidincrement = 0.01, bidfee = 0.6, infer PT's parameters\n",
      "> Now do SA....... \n",
      "\n"
     ]
    },
    {
     "name": "stderr",
     "output_type": "stream",
     "text": [
      " 88%|████████▊ | 1124/1276 [6:06:34<3:57:42, 93.83s/it]"
     ]
    },
    {
     "name": "stdout",
     "output_type": "stream",
     "text": [
      "> 超时\n",
      "> SA ENDS....... \n",
      "\n",
      "> avg loss: 23.02585094581169\n",
      "> For the *1124_th* data_key\n",
      "> retail = 1999.99,bidincrement = 0.01, bidfee = 0.6, infer PT's parameters\n",
      "> Now do SA....... \n",
      "\n"
     ]
    },
    {
     "name": "stderr",
     "output_type": "stream",
     "text": [
      " 88%|████████▊ | 1125/1276 [6:08:37<4:18:41, 102.79s/it]"
     ]
    },
    {
     "name": "stdout",
     "output_type": "stream",
     "text": [
      "> 超时\n",
      "> SA ENDS....... \n",
      "\n",
      "> avg loss: 23.025851200861094\n",
      "> For the *1125_th* data_key\n",
      "> retail = 1499.0,bidincrement = 0.01, bidfee = 0.6, infer PT's parameters\n",
      "> Now do SA....... \n",
      "\n"
     ]
    },
    {
     "name": "stderr",
     "output_type": "stream",
     "text": [
      " 88%|████████▊ | 1126/1276 [6:10:40<4:32:12, 108.88s/it]"
     ]
    },
    {
     "name": "stdout",
     "output_type": "stream",
     "text": [
      "> 超时\n",
      "> SA ENDS....... \n",
      "\n",
      "> avg loss: 23.025851117748974\n",
      "> For the *1126_th* data_key\n",
      "> retail = 57.99,bidincrement = 0.12, bidfee = 0.6, infer PT's parameters\n",
      "> Now do SA....... \n",
      "\n"
     ]
    },
    {
     "name": "stderr",
     "output_type": "stream",
     "text": [
      " 88%|████████▊ | 1127/1276 [6:10:46<3:13:36, 77.96s/it] "
     ]
    },
    {
     "name": "stdout",
     "output_type": "stream",
     "text": [
      "STOP CODE:  Stay unchanged in the last 6 iterations\n",
      "> SA ENDS....... \n",
      "\n",
      "> avg loss: 5.383308164450784\n",
      "> For the *1127_th* data_key\n",
      "> retail = 59.99,bidincrement = 0.12, bidfee = 0.6, infer PT's parameters\n",
      "> Now do SA....... \n",
      "\n"
     ]
    },
    {
     "name": "stderr",
     "output_type": "stream",
     "text": [
      " 88%|████████▊ | 1128/1276 [6:10:50<2:17:13, 55.63s/it]"
     ]
    },
    {
     "name": "stdout",
     "output_type": "stream",
     "text": [
      "STOP CODE:  Stay unchanged in the last 6 iterations\n",
      "> SA ENDS....... \n",
      "\n",
      "> avg loss: 5.441377291677429\n",
      "> For the *1128_th* data_key\n",
      "> retail = 51.99,bidincrement = 0.12, bidfee = 0.6, infer PT's parameters\n",
      "> Now do SA....... \n",
      "\n"
     ]
    },
    {
     "name": "stderr",
     "output_type": "stream",
     "text": [
      " 88%|████████▊ | 1129/1276 [6:10:56<1:39:51, 40.76s/it]"
     ]
    },
    {
     "name": "stdout",
     "output_type": "stream",
     "text": [
      "STOP CODE:  Stay unchanged in the last 6 iterations\n",
      "> SA ENDS....... \n",
      "\n",
      "> avg loss: 5.414734216791735\n",
      "> For the *1129_th* data_key\n",
      "> retail = 54.99,bidincrement = 0.12, bidfee = 0.6, infer PT's parameters\n",
      "> Now do SA....... \n",
      "\n"
     ]
    },
    {
     "name": "stderr",
     "output_type": "stream",
     "text": [
      " 89%|████████▊ | 1130/1276 [6:10:59<1:11:48, 29.51s/it]"
     ]
    },
    {
     "name": "stdout",
     "output_type": "stream",
     "text": [
      "STOP CODE:  Stay unchanged in the last 6 iterations\n",
      "> SA ENDS....... \n",
      "\n",
      "> avg loss: 5.341440417098518\n",
      "> For the *1130_th* data_key\n",
      "> retail = 49.99,bidincrement = 0.12, bidfee = 0.6, infer PT's parameters\n",
      "> Now do SA....... \n",
      "\n"
     ]
    },
    {
     "name": "stderr",
     "output_type": "stream",
     "text": [
      " 89%|████████▊ | 1131/1276 [6:11:03<52:55, 21.90s/it]  "
     ]
    },
    {
     "name": "stdout",
     "output_type": "stream",
     "text": [
      "STOP CODE:  Stay unchanged in the last 6 iterations\n",
      "> SA ENDS....... \n",
      "\n",
      "> avg loss: 5.230052781760007\n",
      "> For the *1131_th* data_key\n",
      "> retail = 42.99,bidincrement = 0.12, bidfee = 0.6, infer PT's parameters\n",
      "> Now do SA....... \n",
      "\n"
     ]
    },
    {
     "name": "stderr",
     "output_type": "stream",
     "text": [
      " 89%|████████▊ | 1132/1276 [6:11:07<39:19, 16.38s/it]"
     ]
    },
    {
     "name": "stdout",
     "output_type": "stream",
     "text": [
      "STOP CODE:  Stay unchanged in the last 6 iterations\n",
      "> SA ENDS....... \n",
      "\n",
      "> avg loss: 5.096583887856856\n",
      "> For the *1132_th* data_key\n",
      "> retail = 59.99,bidincrement = 0.12, bidfee = 0.6, infer PT's parameters\n",
      "> Now do SA....... \n",
      "\n"
     ]
    },
    {
     "name": "stderr",
     "output_type": "stream",
     "text": [
      " 89%|████████▉ | 1133/1276 [6:11:10<29:44, 12.48s/it]"
     ]
    },
    {
     "name": "stdout",
     "output_type": "stream",
     "text": [
      "STOP CODE:  Stay unchanged in the last 6 iterations\n",
      "> SA ENDS....... \n",
      "\n",
      "> avg loss: 5.432414397502186\n",
      "> For the *1133_th* data_key\n",
      "> retail = 57.99,bidincrement = 0.12, bidfee = 0.6, infer PT's parameters\n",
      "> Now do SA....... \n",
      "\n"
     ]
    },
    {
     "name": "stderr",
     "output_type": "stream",
     "text": [
      " 89%|████████▉ | 1134/1276 [6:11:14<23:15,  9.83s/it]"
     ]
    },
    {
     "name": "stdout",
     "output_type": "stream",
     "text": [
      "STOP CODE:  Stay unchanged in the last 6 iterations\n",
      "> SA ENDS....... \n",
      "\n",
      "> avg loss: 5.4174350697080635\n",
      "> For the *1134_th* data_key\n",
      "> retail = 51.99,bidincrement = 0.12, bidfee = 0.6, infer PT's parameters\n",
      "> Now do SA....... \n",
      "\n"
     ]
    },
    {
     "name": "stderr",
     "output_type": "stream",
     "text": [
      " 89%|████████▉ | 1135/1276 [6:11:21<21:26,  9.12s/it]"
     ]
    },
    {
     "name": "stdout",
     "output_type": "stream",
     "text": [
      "STOP CODE:  Stay unchanged in the last 6 iterations\n",
      "> SA ENDS....... \n",
      "\n",
      "> avg loss: 5.277994788173879\n",
      "> For the *1135_th* data_key\n",
      "> retail = 59.99,bidincrement = 0.12, bidfee = 0.6, infer PT's parameters\n",
      "> Now do SA....... \n",
      "\n"
     ]
    },
    {
     "name": "stderr",
     "output_type": "stream",
     "text": [
      " 89%|████████▉ | 1136/1276 [6:11:24<16:38,  7.13s/it]"
     ]
    },
    {
     "name": "stdout",
     "output_type": "stream",
     "text": [
      "STOP CODE:  Stay unchanged in the last 6 iterations\n",
      "> SA ENDS....... \n",
      "\n",
      "> avg loss: 5.403925245119502\n",
      "> For the *1136_th* data_key\n",
      "> retail = 59.99,bidincrement = 0.12, bidfee = 0.6, infer PT's parameters\n",
      "> Now do SA....... \n",
      "\n"
     ]
    },
    {
     "name": "stderr",
     "output_type": "stream",
     "text": [
      " 89%|████████▉ | 1137/1276 [6:11:27<13:31,  5.84s/it]"
     ]
    },
    {
     "name": "stdout",
     "output_type": "stream",
     "text": [
      "STOP CODE:  Stay unchanged in the last 6 iterations\n",
      "> SA ENDS....... \n",
      "\n",
      "> avg loss: 5.394397578387582\n",
      "> For the *1137_th* data_key\n",
      "> retail = 59.99,bidincrement = 0.12, bidfee = 0.6, infer PT's parameters\n",
      "> Now do SA....... \n",
      "\n"
     ]
    },
    {
     "name": "stderr",
     "output_type": "stream",
     "text": [
      " 89%|████████▉ | 1138/1276 [6:11:30<11:37,  5.06s/it]"
     ]
    },
    {
     "name": "stdout",
     "output_type": "stream",
     "text": [
      "STOP CODE:  Stay unchanged in the last 6 iterations\n",
      "> SA ENDS....... \n",
      "\n",
      "> avg loss: 5.439419033494065\n",
      "> For the *1138_th* data_key\n",
      "> retail = 54.99,bidincrement = 0.12, bidfee = 0.6, infer PT's parameters\n",
      "> Now do SA....... \n",
      "\n"
     ]
    },
    {
     "name": "stderr",
     "output_type": "stream",
     "text": [
      " 89%|████████▉ | 1139/1276 [6:11:32<09:45,  4.27s/it]"
     ]
    },
    {
     "name": "stdout",
     "output_type": "stream",
     "text": [
      "STOP CODE:  Stay unchanged in the last 6 iterations\n",
      "> SA ENDS....... \n",
      "\n",
      "> avg loss: 5.410550173961527\n",
      "> For the *1139_th* data_key\n",
      "> retail = 42.99,bidincrement = 0.12, bidfee = 0.6, infer PT's parameters\n",
      "> Now do SA....... \n",
      "\n"
     ]
    },
    {
     "name": "stderr",
     "output_type": "stream",
     "text": [
      " 89%|████████▉ | 1140/1276 [6:11:35<09:00,  3.98s/it]"
     ]
    },
    {
     "name": "stdout",
     "output_type": "stream",
     "text": [
      "STOP CODE:  Stay unchanged in the last 6 iterations\n",
      "> SA ENDS....... \n",
      "\n",
      "> avg loss: 5.041905778256711\n",
      "> For the *1140_th* data_key\n",
      "> retail = 54.99,bidincrement = 0.12, bidfee = 0.6, infer PT's parameters\n",
      "> Now do SA....... \n",
      "\n"
     ]
    },
    {
     "name": "stderr",
     "output_type": "stream",
     "text": [
      " 89%|████████▉ | 1141/1276 [6:11:38<08:05,  3.60s/it]"
     ]
    },
    {
     "name": "stdout",
     "output_type": "stream",
     "text": [
      "STOP CODE:  Stay unchanged in the last 6 iterations\n",
      "> SA ENDS....... \n",
      "\n",
      "> avg loss: 5.315296029251555\n",
      "> For the *1141_th* data_key\n",
      "> retail = 44.99,bidincrement = 0.12, bidfee = 0.6, infer PT's parameters\n",
      "> Now do SA....... \n",
      "\n"
     ]
    },
    {
     "name": "stderr",
     "output_type": "stream",
     "text": [
      " 89%|████████▉ | 1142/1276 [6:11:43<08:51,  3.96s/it]"
     ]
    },
    {
     "name": "stdout",
     "output_type": "stream",
     "text": [
      "STOP CODE:  Stay unchanged in the last 6 iterations\n",
      "> SA ENDS....... \n",
      "\n",
      "> avg loss: 5.090449059609473\n",
      "> For the *1142_th* data_key\n",
      "> retail = 119.99,bidincrement = 0.12, bidfee = 0.6, infer PT's parameters\n",
      "> Now do SA....... \n",
      "\n"
     ]
    },
    {
     "name": "stderr",
     "output_type": "stream",
     "text": [
      " 90%|████████▉ | 1143/1276 [6:11:48<09:38,  4.35s/it]"
     ]
    },
    {
     "name": "stdout",
     "output_type": "stream",
     "text": [
      "STOP CODE:  Stay unchanged in the last 6 iterations\n",
      "> SA ENDS....... \n",
      "\n",
      "> avg loss: 6.163816353075046\n",
      "> For the *1143_th* data_key\n",
      "> retail = 119.99,bidincrement = 0.12, bidfee = 0.6, infer PT's parameters\n",
      "> Now do SA....... \n",
      "\n"
     ]
    },
    {
     "name": "stderr",
     "output_type": "stream",
     "text": [
      " 90%|████████▉ | 1144/1276 [6:11:53<10:06,  4.60s/it]"
     ]
    },
    {
     "name": "stdout",
     "output_type": "stream",
     "text": [
      "STOP CODE:  Stay unchanged in the last 6 iterations\n",
      "> SA ENDS....... \n",
      "\n",
      "> avg loss: 6.1161620940235455\n",
      "> For the *1144_th* data_key\n",
      "> retail = 119.99,bidincrement = 0.12, bidfee = 0.6, infer PT's parameters\n",
      "> Now do SA....... \n",
      "\n"
     ]
    },
    {
     "name": "stderr",
     "output_type": "stream",
     "text": [
      " 90%|████████▉ | 1145/1276 [6:11:58<09:48,  4.49s/it]"
     ]
    },
    {
     "name": "stdout",
     "output_type": "stream",
     "text": [
      "STOP CODE:  Stay unchanged in the last 6 iterations\n",
      "> SA ENDS....... \n",
      "\n",
      "> avg loss: 6.1347747110683235\n",
      "> For the *1145_th* data_key\n",
      "> retail = 59.99,bidincrement = 0.12, bidfee = 0.6, infer PT's parameters\n",
      "> Now do SA....... \n",
      "\n"
     ]
    },
    {
     "name": "stderr",
     "output_type": "stream",
     "text": [
      " 90%|████████▉ | 1146/1276 [6:12:04<10:39,  4.92s/it]"
     ]
    },
    {
     "name": "stdout",
     "output_type": "stream",
     "text": [
      "STOP CODE:  Stay unchanged in the last 6 iterations\n",
      "> SA ENDS....... \n",
      "\n",
      "> avg loss: 5.443115371228652\n",
      "> For the *1146_th* data_key\n",
      "> retail = 59.99,bidincrement = 0.12, bidfee = 0.6, infer PT's parameters\n",
      "> Now do SA....... \n",
      "\n"
     ]
    },
    {
     "name": "stderr",
     "output_type": "stream",
     "text": [
      " 90%|████████▉ | 1147/1276 [6:12:07<09:20,  4.35s/it]"
     ]
    },
    {
     "name": "stdout",
     "output_type": "stream",
     "text": [
      "STOP CODE:  Stay unchanged in the last 6 iterations\n",
      "> SA ENDS....... \n",
      "\n",
      "> avg loss: 5.447539529208535\n",
      "> For the *1147_th* data_key\n",
      "> retail = 59.99,bidincrement = 0.12, bidfee = 0.6, infer PT's parameters\n",
      "> Now do SA....... \n",
      "\n"
     ]
    },
    {
     "name": "stderr",
     "output_type": "stream",
     "text": [
      " 90%|████████▉ | 1148/1276 [6:12:09<08:10,  3.83s/it]"
     ]
    },
    {
     "name": "stdout",
     "output_type": "stream",
     "text": [
      "STOP CODE:  Stay unchanged in the last 6 iterations\n",
      "> SA ENDS....... \n",
      "\n",
      "> avg loss: 5.439140306298899\n",
      "> For the *1148_th* data_key\n",
      "> retail = 399.99,bidincrement = 0.12, bidfee = 0.6, infer PT's parameters\n",
      "> Now do SA....... \n",
      "\n"
     ]
    },
    {
     "name": "stderr",
     "output_type": "stream",
     "text": [
      " 90%|█████████ | 1149/1276 [6:12:33<20:28,  9.67s/it]"
     ]
    },
    {
     "name": "stdout",
     "output_type": "stream",
     "text": [
      "STOP CODE:  Stay unchanged in the last 6 iterations\n",
      "> SA ENDS....... \n",
      "\n",
      "> avg loss: 7.316373706293313\n",
      "> For the *1149_th* data_key\n",
      "> retail = 429.99,bidincrement = 0.12, bidfee = 0.6, infer PT's parameters\n",
      "> Now do SA....... \n",
      "\n"
     ]
    },
    {
     "name": "stderr",
     "output_type": "stream",
     "text": [
      " 90%|█████████ | 1150/1276 [6:13:00<31:22, 14.94s/it]"
     ]
    },
    {
     "name": "stdout",
     "output_type": "stream",
     "text": [
      "STOP CODE:  Stay unchanged in the last 6 iterations\n",
      "> SA ENDS....... \n",
      "\n",
      "> avg loss: 7.493929426194789\n",
      "> For the *1150_th* data_key\n",
      "> retail = 39.99,bidincrement = 0.12, bidfee = 0.6, infer PT's parameters\n",
      "> Now do SA....... \n",
      "\n"
     ]
    },
    {
     "name": "stderr",
     "output_type": "stream",
     "text": [
      " 90%|█████████ | 1151/1276 [6:13:03<23:50, 11.44s/it]"
     ]
    },
    {
     "name": "stdout",
     "output_type": "stream",
     "text": [
      "STOP CODE:  Stay unchanged in the last 6 iterations\n",
      "> SA ENDS....... \n",
      "\n",
      "> avg loss: 4.984011848231146\n",
      "> For the *1151_th* data_key\n",
      "> retail = 59.99,bidincrement = 0.12, bidfee = 0.6, infer PT's parameters\n",
      "> Now do SA....... \n",
      "\n"
     ]
    },
    {
     "name": "stderr",
     "output_type": "stream",
     "text": [
      " 90%|█████████ | 1152/1276 [6:13:08<19:23,  9.39s/it]"
     ]
    },
    {
     "name": "stdout",
     "output_type": "stream",
     "text": [
      "STOP CODE:  Stay unchanged in the last 6 iterations\n",
      "> SA ENDS....... \n",
      "\n",
      "> avg loss: 5.4361153477318505\n",
      "> For the *1152_th* data_key\n",
      "> retail = 329.99,bidincrement = 0.12, bidfee = 0.6, infer PT's parameters\n",
      "> Now do SA....... \n",
      "\n"
     ]
    },
    {
     "name": "stderr",
     "output_type": "stream",
     "text": [
      " 90%|█████████ | 1153/1276 [6:13:19<20:27,  9.98s/it]"
     ]
    },
    {
     "name": "stdout",
     "output_type": "stream",
     "text": [
      "STOP CODE:  Stay unchanged in the last 6 iterations\n",
      "> SA ENDS....... \n",
      "\n",
      "> avg loss: 7.114957846059199\n",
      "> For the *1153_th* data_key\n",
      "> retail = 829.99,bidincrement = 0.01, bidfee = 0.6, infer PT's parameters\n",
      "> Now do SA....... \n",
      "\n"
     ]
    },
    {
     "name": "stderr",
     "output_type": "stream",
     "text": [
      " 90%|█████████ | 1154/1276 [6:15:21<1:28:19, 43.44s/it]"
     ]
    },
    {
     "name": "stdout",
     "output_type": "stream",
     "text": [
      "> 超时\n",
      "> SA ENDS....... \n",
      "\n",
      "> avg loss: 23.02585097746866\n",
      "> For the *1154_th* data_key\n",
      "> retail = 189.99,bidincrement = 0.12, bidfee = 0.6, infer PT's parameters\n",
      "> Now do SA....... \n",
      "\n"
     ]
    },
    {
     "name": "stderr",
     "output_type": "stream",
     "text": [
      " 91%|█████████ | 1155/1276 [6:15:38<1:11:43, 35.57s/it]"
     ]
    },
    {
     "name": "stdout",
     "output_type": "stream",
     "text": [
      "STOP CODE:  Stay unchanged in the last 6 iterations\n",
      "> SA ENDS....... \n",
      "\n",
      "> avg loss: 6.553681130916121\n",
      "> For the *1155_th* data_key\n",
      "> retail = 189.99,bidincrement = 0.12, bidfee = 0.6, infer PT's parameters\n",
      "> Now do SA....... \n",
      "\n"
     ]
    },
    {
     "name": "stderr",
     "output_type": "stream",
     "text": [
      " 91%|█████████ | 1156/1276 [6:15:53<58:58, 29.49s/it]  "
     ]
    },
    {
     "name": "stdout",
     "output_type": "stream",
     "text": [
      "STOP CODE:  Stay unchanged in the last 6 iterations\n",
      "> SA ENDS....... \n",
      "\n",
      "> avg loss: 6.622638258828695\n",
      "> For the *1156_th* data_key\n",
      "> retail = 1249.0,bidincrement = 0.01, bidfee = 0.6, infer PT's parameters\n",
      "> Now do SA....... \n",
      "\n"
     ]
    },
    {
     "name": "stderr",
     "output_type": "stream",
     "text": [
      " 91%|█████████ | 1157/1276 [6:17:55<1:53:44, 57.35s/it]"
     ]
    },
    {
     "name": "stdout",
     "output_type": "stream",
     "text": [
      "> 超时\n",
      "> SA ENDS....... \n",
      "\n",
      "> avg loss: 23.025851068583595\n",
      "> For the *1157_th* data_key\n",
      "> retail = 219.99,bidincrement = 0.12, bidfee = 0.6, infer PT's parameters\n",
      "> Now do SA....... \n",
      "\n"
     ]
    },
    {
     "name": "stderr",
     "output_type": "stream",
     "text": [
      " 91%|█████████ | 1158/1276 [6:18:05<1:24:45, 43.09s/it]"
     ]
    },
    {
     "name": "stdout",
     "output_type": "stream",
     "text": [
      "STOP CODE:  Stay unchanged in the last 6 iterations\n",
      "> SA ENDS....... \n",
      "\n",
      "> avg loss: 6.7353539288834785\n",
      "> For the *1158_th* data_key\n",
      "> retail = 59.99,bidincrement = 0.12, bidfee = 0.6, infer PT's parameters\n",
      "> Now do SA....... \n",
      "\n"
     ]
    },
    {
     "name": "stderr",
     "output_type": "stream",
     "text": [
      " 91%|█████████ | 1159/1276 [6:18:09<1:01:00, 31.29s/it]"
     ]
    },
    {
     "name": "stdout",
     "output_type": "stream",
     "text": [
      "STOP CODE:  Stay unchanged in the last 6 iterations\n",
      "> SA ENDS....... \n",
      "\n",
      "> avg loss: 5.419863520265136\n",
      "> For the *1159_th* data_key\n",
      "> retail = 49.99,bidincrement = 0.12, bidfee = 0.6, infer PT's parameters\n",
      "> Now do SA....... \n",
      "\n"
     ]
    },
    {
     "name": "stderr",
     "output_type": "stream",
     "text": [
      " 91%|█████████ | 1160/1276 [6:18:11<43:28, 22.49s/it]  "
     ]
    },
    {
     "name": "stdout",
     "output_type": "stream",
     "text": [
      "STOP CODE:  Stay unchanged in the last 6 iterations\n",
      "> SA ENDS....... \n",
      "\n",
      "> avg loss: 5.233316500669535\n",
      "> For the *1160_th* data_key\n",
      "> retail = 399.99,bidincrement = 0.12, bidfee = 0.6, infer PT's parameters\n",
      "> Now do SA....... \n",
      "\n"
     ]
    },
    {
     "name": "stderr",
     "output_type": "stream",
     "text": [
      " 91%|█████████ | 1161/1276 [6:18:39<46:03, 24.03s/it]"
     ]
    },
    {
     "name": "stdout",
     "output_type": "stream",
     "text": [
      "STOP CODE:  Stay unchanged in the last 6 iterations\n",
      "> SA ENDS....... \n",
      "\n",
      "> avg loss: 7.3564095600364325\n",
      "> For the *1161_th* data_key\n",
      "> retail = 36.49,bidincrement = 0.12, bidfee = 0.6, infer PT's parameters\n",
      "> Now do SA....... \n",
      "\n"
     ]
    },
    {
     "name": "stderr",
     "output_type": "stream",
     "text": [
      " 91%|█████████ | 1162/1276 [6:18:40<32:47, 17.26s/it]"
     ]
    },
    {
     "name": "stdout",
     "output_type": "stream",
     "text": [
      "STOP CODE:  Stay unchanged in the last 6 iterations\n",
      "> SA ENDS....... \n",
      "\n",
      "> avg loss: 4.924028002410166\n",
      "> For the *1162_th* data_key\n",
      "> retail = 29.63,bidincrement = 0.12, bidfee = 0.6, infer PT's parameters\n",
      "> Now do SA....... \n",
      "\n"
     ]
    },
    {
     "name": "stderr",
     "output_type": "stream",
     "text": [
      " 91%|█████████ | 1163/1276 [6:18:42<24:00, 12.75s/it]"
     ]
    },
    {
     "name": "stdout",
     "output_type": "stream",
     "text": [
      "STOP CODE:  Stay unchanged in the last 6 iterations\n",
      "> SA ENDS....... \n",
      "\n",
      "> avg loss: 4.622123640615012\n",
      "> For the *1163_th* data_key\n",
      "> retail = 599.99,bidincrement = 0.01, bidfee = 0.6, infer PT's parameters\n",
      "> Now do SA....... \n",
      "\n"
     ]
    },
    {
     "name": "stderr",
     "output_type": "stream",
     "text": [
      " 91%|█████████ | 1164/1276 [6:20:32<1:18:06, 41.84s/it]"
     ]
    },
    {
     "name": "stdout",
     "output_type": "stream",
     "text": [
      "STOP CODE:  Stay unchanged in the last 6 iterations\n",
      "> SA ENDS....... \n",
      "\n",
      "> avg loss: 23.025850944420235\n",
      "> For the *1164_th* data_key\n",
      "> retail = 199.99,bidincrement = 0.12, bidfee = 0.6, infer PT's parameters\n",
      "> Now do SA....... \n",
      "\n"
     ]
    },
    {
     "name": "stderr",
     "output_type": "stream",
     "text": [
      " 91%|█████████▏| 1165/1276 [6:20:48<1:02:49, 33.96s/it]"
     ]
    },
    {
     "name": "stdout",
     "output_type": "stream",
     "text": [
      "STOP CODE:  Stay unchanged in the last 6 iterations\n",
      "> SA ENDS....... \n",
      "\n",
      "> avg loss: 6.585832341631058\n",
      "> For the *1165_th* data_key\n",
      "> retail = 19.99,bidincrement = 0.12, bidfee = 0.6, infer PT's parameters\n",
      "> Now do SA....... \n",
      "\n"
     ]
    },
    {
     "name": "stderr",
     "output_type": "stream",
     "text": [
      " 91%|█████████▏| 1166/1276 [6:20:54<46:52, 25.57s/it]  "
     ]
    },
    {
     "name": "stdout",
     "output_type": "stream",
     "text": [
      "STOP CODE:  Stay unchanged in the last 6 iterations\n",
      "> SA ENDS....... \n",
      "\n",
      "> avg loss: 4.317519177732276\n",
      "> For the *1166_th* data_key\n",
      "> retail = 89.99,bidincrement = 0.12, bidfee = 0.6, infer PT's parameters\n",
      "> Now do SA....... \n",
      "\n"
     ]
    },
    {
     "name": "stderr",
     "output_type": "stream",
     "text": [
      " 91%|█████████▏| 1167/1276 [6:20:58<34:50, 19.17s/it]"
     ]
    },
    {
     "name": "stdout",
     "output_type": "stream",
     "text": [
      "STOP CODE:  Stay unchanged in the last 6 iterations\n",
      "> SA ENDS....... \n",
      "\n",
      "> avg loss: 5.883022888959423\n",
      "> For the *1167_th* data_key\n",
      "> retail = 1699.0,bidincrement = 0.01, bidfee = 0.6, infer PT's parameters\n",
      "> Now do SA....... \n",
      "\n"
     ]
    },
    {
     "name": "stderr",
     "output_type": "stream",
     "text": [
      " 92%|█████████▏| 1168/1276 [6:23:01<1:30:49, 50.46s/it]"
     ]
    },
    {
     "name": "stdout",
     "output_type": "stream",
     "text": [
      "> 超时\n",
      "> SA ENDS....... \n",
      "\n",
      "> avg loss: 23.025851130460456\n",
      "> For the *1168_th* data_key\n",
      "> retail = 919.99,bidincrement = 0.01, bidfee = 0.6, infer PT's parameters\n",
      "> Now do SA....... \n",
      "\n"
     ]
    },
    {
     "name": "stderr",
     "output_type": "stream",
     "text": [
      " 92%|█████████▏| 1169/1276 [6:25:03<2:08:09, 71.86s/it]"
     ]
    },
    {
     "name": "stdout",
     "output_type": "stream",
     "text": [
      "> 超时\n",
      "> SA ENDS....... \n",
      "\n",
      "> avg loss: 23.025851002127443\n",
      "> For the *1169_th* data_key\n",
      "> retail = 29.99,bidincrement = 0.12, bidfee = 0.6, infer PT's parameters\n",
      "> Now do SA....... \n",
      "\n"
     ]
    },
    {
     "name": "stderr",
     "output_type": "stream",
     "text": [
      " 92%|█████████▏| 1170/1276 [6:25:07<1:31:06, 51.57s/it]"
     ]
    },
    {
     "name": "stdout",
     "output_type": "stream",
     "text": [
      "STOP CODE:  Stay unchanged in the last 6 iterations\n",
      "> SA ENDS....... \n",
      "\n",
      "> avg loss: 4.755681238582282\n",
      "> For the *1170_th* data_key\n",
      "> retail = 29.99,bidincrement = 0.12, bidfee = 0.6, infer PT's parameters\n",
      "> Now do SA....... \n",
      "\n"
     ]
    },
    {
     "name": "stderr",
     "output_type": "stream",
     "text": [
      " 92%|█████████▏| 1171/1276 [6:25:10<1:04:49, 37.04s/it]"
     ]
    },
    {
     "name": "stdout",
     "output_type": "stream",
     "text": [
      "STOP CODE:  Stay unchanged in the last 6 iterations\n",
      "> SA ENDS....... \n",
      "\n",
      "> avg loss: 4.792413890243061\n",
      "> For the *1171_th* data_key\n",
      "> retail = 99.99,bidincrement = 0.12, bidfee = 0.6, infer PT's parameters\n",
      "> Now do SA....... \n",
      "\n"
     ]
    },
    {
     "name": "stderr",
     "output_type": "stream",
     "text": [
      " 92%|█████████▏| 1172/1276 [6:25:14<47:02, 27.14s/it]  "
     ]
    },
    {
     "name": "stdout",
     "output_type": "stream",
     "text": [
      "STOP CODE:  Stay unchanged in the last 6 iterations\n",
      "> SA ENDS....... \n",
      "\n",
      "> avg loss: 5.944048805411156\n",
      "> For the *1172_th* data_key\n",
      "> retail = 144.99,bidincrement = 0.12, bidfee = 0.6, infer PT's parameters\n",
      "> Now do SA....... \n",
      "\n"
     ]
    },
    {
     "name": "stderr",
     "output_type": "stream",
     "text": [
      " 92%|█████████▏| 1173/1276 [6:25:22<36:20, 21.17s/it]"
     ]
    },
    {
     "name": "stdout",
     "output_type": "stream",
     "text": [
      "STOP CODE:  Stay unchanged in the last 6 iterations\n",
      "> SA ENDS....... \n",
      "\n",
      "> avg loss: 6.306737413652891\n",
      "> For the *1173_th* data_key\n",
      "> retail = 119.99,bidincrement = 0.12, bidfee = 0.6, infer PT's parameters\n",
      "> Now do SA....... \n",
      "\n"
     ]
    },
    {
     "name": "stderr",
     "output_type": "stream",
     "text": [
      " 92%|█████████▏| 1174/1276 [6:25:27<28:04, 16.52s/it]"
     ]
    },
    {
     "name": "stdout",
     "output_type": "stream",
     "text": [
      "STOP CODE:  Stay unchanged in the last 6 iterations\n",
      "> SA ENDS....... \n",
      "\n",
      "> avg loss: 6.193520299891777\n",
      "> For the *1174_th* data_key\n",
      "> retail = 124.99,bidincrement = 0.12, bidfee = 0.6, infer PT's parameters\n",
      "> Now do SA....... \n",
      "\n"
     ]
    },
    {
     "name": "stderr",
     "output_type": "stream",
     "text": [
      " 92%|█████████▏| 1175/1276 [6:25:32<21:41, 12.89s/it]"
     ]
    },
    {
     "name": "stdout",
     "output_type": "stream",
     "text": [
      "STOP CODE:  Stay unchanged in the last 6 iterations\n",
      "> SA ENDS....... \n",
      "\n",
      "> avg loss: 6.197932957992943\n",
      "> For the *1175_th* data_key\n",
      "> retail = 109.99,bidincrement = 0.12, bidfee = 0.6, infer PT's parameters\n",
      "> Now do SA....... \n",
      "\n"
     ]
    },
    {
     "name": "stderr",
     "output_type": "stream",
     "text": [
      " 92%|█████████▏| 1176/1276 [6:25:37<17:26, 10.47s/it]"
     ]
    },
    {
     "name": "stdout",
     "output_type": "stream",
     "text": [
      "STOP CODE:  Stay unchanged in the last 6 iterations\n",
      "> SA ENDS....... \n",
      "\n",
      "> avg loss: 6.081628213909158\n",
      "> For the *1176_th* data_key\n",
      "> retail = 1199.0,bidincrement = 0.01, bidfee = 0.6, infer PT's parameters\n",
      "> Now do SA....... \n",
      "\n"
     ]
    },
    {
     "name": "stderr",
     "output_type": "stream",
     "text": [
      " 92%|█████████▏| 1177/1276 [6:27:39<1:12:43, 44.08s/it]"
     ]
    },
    {
     "name": "stdout",
     "output_type": "stream",
     "text": [
      "> 超时\n",
      "> SA ENDS....... \n",
      "\n",
      "> avg loss: 23.025851048870248\n",
      "> For the *1177_th* data_key\n",
      "> retail = 39.95,bidincrement = 0.12, bidfee = 0.6, infer PT's parameters\n",
      "> Now do SA....... \n",
      "\n"
     ]
    },
    {
     "name": "stderr",
     "output_type": "stream",
     "text": [
      " 92%|█████████▏| 1178/1276 [6:27:43<52:31, 32.16s/it]  "
     ]
    },
    {
     "name": "stdout",
     "output_type": "stream",
     "text": [
      "STOP CODE:  Stay unchanged in the last 6 iterations\n",
      "> SA ENDS....... \n",
      "\n",
      "> avg loss: 5.037480286425872\n",
      "> For the *1178_th* data_key\n",
      "> retail = 49.99,bidincrement = 0.12, bidfee = 0.6, infer PT's parameters\n",
      "> Now do SA....... \n",
      "\n"
     ]
    },
    {
     "name": "stderr",
     "output_type": "stream",
     "text": [
      " 92%|█████████▏| 1179/1276 [6:27:47<37:57, 23.48s/it]"
     ]
    },
    {
     "name": "stdout",
     "output_type": "stream",
     "text": [
      "STOP CODE:  Stay unchanged in the last 6 iterations\n",
      "> SA ENDS....... \n",
      "\n",
      "> avg loss: 5.2804096067748265\n",
      "> For the *1179_th* data_key\n",
      "> retail = 615.0,bidincrement = 0.01, bidfee = 0.6, infer PT's parameters\n",
      "> Now do SA....... \n",
      "\n"
     ]
    },
    {
     "name": "stderr",
     "output_type": "stream",
     "text": [
      " 92%|█████████▏| 1180/1276 [6:29:48<1:24:27, 52.79s/it]"
     ]
    },
    {
     "name": "stdout",
     "output_type": "stream",
     "text": [
      "> 超时\n",
      "> SA ENDS....... \n",
      "\n",
      "> avg loss: 23.025850952237363\n",
      "> For the *1180_th* data_key\n",
      "> retail = 49.99,bidincrement = 0.12, bidfee = 0.6, infer PT's parameters\n",
      "> Now do SA....... \n",
      "\n"
     ]
    },
    {
     "name": "stderr",
     "output_type": "stream",
     "text": [
      " 93%|█████████▎| 1181/1276 [6:29:50<59:36, 37.65s/it]  "
     ]
    },
    {
     "name": "stdout",
     "output_type": "stream",
     "text": [
      "STOP CODE:  Stay unchanged in the last 6 iterations\n",
      "> SA ENDS....... \n",
      "\n",
      "> avg loss: 5.255886534297987\n",
      "> For the *1181_th* data_key\n",
      "> retail = 49.99,bidincrement = 0.12, bidfee = 0.6, infer PT's parameters\n",
      "> Now do SA....... \n",
      "\n"
     ]
    },
    {
     "name": "stderr",
     "output_type": "stream",
     "text": [
      " 93%|█████████▎| 1182/1276 [6:29:53<42:40, 27.24s/it]"
     ]
    },
    {
     "name": "stdout",
     "output_type": "stream",
     "text": [
      "STOP CODE:  Stay unchanged in the last 6 iterations\n",
      "> SA ENDS....... \n",
      "\n",
      "> avg loss: 5.32206201521405\n",
      "> For the *1182_th* data_key\n",
      "> retail = 919.99,bidincrement = 0.01, bidfee = 0.6, infer PT's parameters\n",
      "> Now do SA....... \n",
      "\n"
     ]
    },
    {
     "name": "stderr",
     "output_type": "stream",
     "text": [
      " 93%|█████████▎| 1183/1276 [6:31:55<1:26:11, 55.61s/it]"
     ]
    },
    {
     "name": "stdout",
     "output_type": "stream",
     "text": [
      "> 超时\n",
      "> SA ENDS....... \n",
      "\n",
      "> avg loss: 23.02585100628976\n",
      "> For the *1183_th* data_key\n",
      "> retail = 359.99,bidincrement = 0.12, bidfee = 0.6, infer PT's parameters\n",
      "> Now do SA....... \n",
      "\n"
     ]
    },
    {
     "name": "stderr",
     "output_type": "stream",
     "text": [
      " 93%|█████████▎| 1184/1276 [6:32:15<1:08:57, 44.98s/it]"
     ]
    },
    {
     "name": "stdout",
     "output_type": "stream",
     "text": [
      "STOP CODE:  Stay unchanged in the last 6 iterations\n",
      "> SA ENDS....... \n",
      "\n",
      "> avg loss: 7.214253077803964\n",
      "> For the *1184_th* data_key\n",
      "> retail = 1339.0,bidincrement = 0.01, bidfee = 0.6, infer PT's parameters\n",
      "> Now do SA....... \n",
      "\n"
     ]
    },
    {
     "name": "stderr",
     "output_type": "stream",
     "text": [
      " 93%|█████████▎| 1185/1276 [6:34:18<1:43:36, 68.31s/it]"
     ]
    },
    {
     "name": "stdout",
     "output_type": "stream",
     "text": [
      "> 超时\n",
      "> SA ENDS....... \n",
      "\n",
      "> avg loss: 23.02585106583454\n",
      "> For the *1185_th* data_key\n",
      "> retail = 1719.0,bidincrement = 0.01, bidfee = 0.6, infer PT's parameters\n",
      "> Now do SA....... \n",
      "\n"
     ]
    },
    {
     "name": "stderr",
     "output_type": "stream",
     "text": [
      " 93%|█████████▎| 1186/1276 [6:36:21<2:07:21, 84.90s/it]"
     ]
    },
    {
     "name": "stdout",
     "output_type": "stream",
     "text": [
      "> 超时\n",
      "> SA ENDS....... \n",
      "\n",
      "> avg loss: 23.025851161371403\n",
      "> For the *1186_th* data_key\n",
      "> retail = 689.99,bidincrement = 0.01, bidfee = 0.6, infer PT's parameters\n",
      "> Now do SA....... \n",
      "\n"
     ]
    },
    {
     "name": "stderr",
     "output_type": "stream",
     "text": [
      " 93%|█████████▎| 1187/1276 [6:38:23<2:22:08, 95.83s/it]"
     ]
    },
    {
     "name": "stdout",
     "output_type": "stream",
     "text": [
      "> 超时\n",
      "> SA ENDS....... \n",
      "\n",
      "> avg loss: 23.025850975612297\n",
      "> For the *1187_th* data_key\n",
      "> retail = 429.99,bidincrement = 0.12, bidfee = 0.6, infer PT's parameters\n",
      "> Now do SA....... \n",
      "\n"
     ]
    },
    {
     "name": "stderr",
     "output_type": "stream",
     "text": [
      " 93%|█████████▎| 1188/1276 [6:38:40<1:46:01, 72.29s/it]"
     ]
    },
    {
     "name": "stdout",
     "output_type": "stream",
     "text": [
      "STOP CODE:  Stay unchanged in the last 6 iterations\n",
      "> SA ENDS....... \n",
      "\n",
      "> avg loss: 7.416431318206871\n",
      "> For the *1188_th* data_key\n",
      "> retail = 919.99,bidincrement = 0.01, bidfee = 0.6, infer PT's parameters\n",
      "> Now do SA....... \n",
      "\n"
     ]
    },
    {
     "name": "stderr",
     "output_type": "stream",
     "text": [
      " 93%|█████████▎| 1189/1276 [6:40:42<2:06:23, 87.17s/it]"
     ]
    },
    {
     "name": "stdout",
     "output_type": "stream",
     "text": [
      "> 超时\n",
      "> SA ENDS....... \n",
      "\n",
      "> avg loss: 23.02585099639705\n",
      "> For the *1189_th* data_key\n",
      "> retail = 1339.0,bidincrement = 0.01, bidfee = 0.6, infer PT's parameters\n",
      "> Now do SA....... \n",
      "\n"
     ]
    },
    {
     "name": "stderr",
     "output_type": "stream",
     "text": [
      " 93%|█████████▎| 1190/1276 [6:42:45<2:20:13, 97.83s/it]"
     ]
    },
    {
     "name": "stdout",
     "output_type": "stream",
     "text": [
      "> 超时\n",
      "> SA ENDS....... \n",
      "\n",
      "> avg loss: 23.025851075234783\n",
      "> For the *1190_th* data_key\n",
      "> retail = 379.99,bidincrement = 0.12, bidfee = 0.6, infer PT's parameters\n",
      "> Now do SA....... \n",
      "\n"
     ]
    },
    {
     "name": "stderr",
     "output_type": "stream",
     "text": [
      " 93%|█████████▎| 1191/1276 [6:43:06<1:45:59, 74.82s/it]"
     ]
    },
    {
     "name": "stdout",
     "output_type": "stream",
     "text": [
      "STOP CODE:  Stay unchanged in the last 6 iterations\n",
      "> SA ENDS....... \n",
      "\n",
      "> avg loss: 7.358569549046565\n",
      "> For the *1191_th* data_key\n",
      "> retail = 379.99,bidincrement = 0.12, bidfee = 0.6, infer PT's parameters\n",
      "> Now do SA....... \n",
      "\n"
     ]
    },
    {
     "name": "stderr",
     "output_type": "stream",
     "text": [
      " 93%|█████████▎| 1192/1276 [6:43:18<1:18:31, 56.09s/it]"
     ]
    },
    {
     "name": "stdout",
     "output_type": "stream",
     "text": [
      "STOP CODE:  Stay unchanged in the last 6 iterations\n",
      "> SA ENDS....... \n",
      "\n",
      "> avg loss: 22.814611790443042\n",
      "> For the *1192_th* data_key\n",
      "> retail = 46.99,bidincrement = 0.12, bidfee = 0.6, infer PT's parameters\n",
      "> Now do SA....... \n",
      "\n"
     ]
    },
    {
     "name": "stderr",
     "output_type": "stream",
     "text": [
      " 93%|█████████▎| 1193/1276 [6:43:22<55:57, 40.46s/it]  "
     ]
    },
    {
     "name": "stdout",
     "output_type": "stream",
     "text": [
      "STOP CODE:  Stay unchanged in the last 6 iterations\n",
      "> SA ENDS....... \n",
      "\n",
      "> avg loss: 5.189752783048334\n",
      "> For the *1193_th* data_key\n",
      "> retail = 1719.0,bidincrement = 0.01, bidfee = 0.6, infer PT's parameters\n",
      "> Now do SA....... \n",
      "\n"
     ]
    },
    {
     "name": "stderr",
     "output_type": "stream",
     "text": [
      " 94%|█████████▎| 1194/1276 [6:45:26<1:29:17, 65.34s/it]"
     ]
    },
    {
     "name": "stdout",
     "output_type": "stream",
     "text": [
      "> 超时\n",
      "> SA ENDS....... \n",
      "\n",
      "> avg loss: 23.02585112679814\n",
      "> For the *1194_th* data_key\n",
      "> retail = 429.99,bidincrement = 0.12, bidfee = 0.6, infer PT's parameters\n",
      "> Now do SA....... \n",
      "\n"
     ]
    },
    {
     "name": "stderr",
     "output_type": "stream",
     "text": [
      " 94%|█████████▎| 1195/1276 [6:45:33<1:04:54, 48.08s/it]"
     ]
    },
    {
     "name": "stdout",
     "output_type": "stream",
     "text": [
      "STOP CODE:  Stay unchanged in the last 6 iterations\n",
      "> SA ENDS....... \n",
      "\n",
      "> avg loss: 23.025850906408984\n",
      "> For the *1195_th* data_key\n",
      "> retail = 1018.0,bidincrement = 0.01, bidfee = 0.6, infer PT's parameters\n",
      "> Now do SA....... \n",
      "\n"
     ]
    },
    {
     "name": "stderr",
     "output_type": "stream",
     "text": [
      " 94%|█████████▎| 1196/1276 [6:47:35<1:33:41, 70.27s/it]"
     ]
    },
    {
     "name": "stdout",
     "output_type": "stream",
     "text": [
      "> 超时\n",
      "> SA ENDS....... \n",
      "\n",
      "> avg loss: 23.02585102120625\n",
      "> For the *1196_th* data_key\n",
      "> retail = 14.0,bidincrement = 0.01, bidfee = 0.01, infer PT's parameters\n",
      "> Now do SA....... \n",
      "\n"
     ]
    },
    {
     "name": "stderr",
     "output_type": "stream",
     "text": [
      " 94%|█████████▍| 1197/1276 [6:47:48<1:09:45, 52.98s/it]"
     ]
    },
    {
     "name": "stdout",
     "output_type": "stream",
     "text": [
      "STOP CODE:  Stay unchanged in the last 6 iterations\n",
      "> SA ENDS....... \n",
      "\n",
      "> avg loss: 599.4429849959018\n",
      "> For the *1197_th* data_key\n",
      "> retail = 15.0,bidincrement = 0.01, bidfee = 0.01, infer PT's parameters\n",
      "> Now do SA....... \n",
      "\n"
     ]
    },
    {
     "name": "stderr",
     "output_type": "stream",
     "text": [
      " 94%|█████████▍| 1198/1276 [6:47:57<51:33, 39.67s/it]  "
     ]
    },
    {
     "name": "stdout",
     "output_type": "stream",
     "text": [
      "STOP CODE:  Stay unchanged in the last 6 iterations\n",
      "> SA ENDS....... \n",
      "\n",
      "> avg loss: 832.1564307383032\n",
      "> For the *1198_th* data_key\n",
      "> retail = 35.0,bidincrement = 0.01, bidfee = 0.01, infer PT's parameters\n",
      "> Now do SA....... \n",
      "\n"
     ]
    },
    {
     "name": "stderr",
     "output_type": "stream",
     "text": [
      " 94%|█████████▍| 1199/1276 [6:48:23<45:55, 35.78s/it]"
     ]
    },
    {
     "name": "stdout",
     "output_type": "stream",
     "text": [
      "STOP CODE:  Stay unchanged in the last 6 iterations\n",
      "> SA ENDS....... \n",
      "\n",
      "> avg loss: 2475.977707333554\n",
      "> For the *1199_th* data_key\n",
      "> retail = 35.0,bidincrement = 0.01, bidfee = 0.01, infer PT's parameters\n",
      "> Now do SA....... \n",
      "\n"
     ]
    },
    {
     "name": "stderr",
     "output_type": "stream",
     "text": [
      " 94%|█████████▍| 1200/1276 [6:48:45<39:56, 31.53s/it]"
     ]
    },
    {
     "name": "stdout",
     "output_type": "stream",
     "text": [
      "STOP CODE:  Stay unchanged in the last 6 iterations\n",
      "> SA ENDS....... \n",
      "\n",
      "> avg loss: 2057.969113359753\n",
      "> For the *1200_th* data_key\n",
      "> retail = 35.0,bidincrement = 0.01, bidfee = 0.01, infer PT's parameters\n",
      "> Now do SA....... \n",
      "\n"
     ]
    },
    {
     "name": "stderr",
     "output_type": "stream",
     "text": [
      " 94%|█████████▍| 1201/1276 [6:49:06<35:36, 28.48s/it]"
     ]
    },
    {
     "name": "stdout",
     "output_type": "stream",
     "text": [
      "STOP CODE:  Stay unchanged in the last 6 iterations\n",
      "> SA ENDS....... \n",
      "\n",
      "> avg loss: 2839.652810456382\n",
      "> For the *1201_th* data_key\n",
      "> retail = 59.0,bidincrement = 0.01, bidfee = 0.01, infer PT's parameters\n",
      "> Now do SA....... \n",
      "\n"
     ]
    },
    {
     "name": "stderr",
     "output_type": "stream",
     "text": [
      " 94%|█████████▍| 1202/1276 [6:49:44<38:33, 31.27s/it]"
     ]
    },
    {
     "name": "stdout",
     "output_type": "stream",
     "text": [
      "STOP CODE:  Stay unchanged in the last 6 iterations\n",
      "> SA ENDS....... \n",
      "\n",
      "> avg loss: 4509.516488842289\n",
      "> For the *1202_th* data_key\n",
      "> retail = 80.0,bidincrement = 0.01, bidfee = 0.01, infer PT's parameters\n",
      "> Now do SA....... \n",
      "\n"
     ]
    },
    {
     "name": "stderr",
     "output_type": "stream",
     "text": [
      " 94%|█████████▍| 1203/1276 [6:50:12<36:39, 30.12s/it]"
     ]
    },
    {
     "name": "stdout",
     "output_type": "stream",
     "text": [
      "STOP CODE:  Stay unchanged in the last 6 iterations\n",
      "> SA ENDS....... \n",
      "\n",
      "> avg loss: 7975.764877801646\n",
      "> For the *1203_th* data_key\n",
      "> retail = 113.0,bidincrement = 0.01, bidfee = 0.01, infer PT's parameters\n",
      "> Now do SA....... \n",
      "\n"
     ]
    },
    {
     "name": "stderr",
     "output_type": "stream",
     "text": [
      " 94%|█████████▍| 1204/1276 [6:51:29<53:02, 44.20s/it]"
     ]
    },
    {
     "name": "stdout",
     "output_type": "stream",
     "text": [
      "STOP CODE:  Stay unchanged in the last 6 iterations\n",
      "> SA ENDS....... \n",
      "\n",
      "> avg loss: 10287.530767264057\n",
      "> For the *1204_th* data_key\n",
      "> retail = 176.0,bidincrement = 0.01, bidfee = 0.01, infer PT's parameters\n",
      "> Now do SA....... \n",
      "\n"
     ]
    },
    {
     "name": "stderr",
     "output_type": "stream",
     "text": [
      " 94%|█████████▍| 1205/1276 [6:53:09<1:12:21, 61.14s/it]"
     ]
    },
    {
     "name": "stdout",
     "output_type": "stream",
     "text": [
      "STOP CODE:  Stay unchanged in the last 6 iterations\n",
      "> SA ENDS....... \n",
      "\n",
      "> avg loss: 6186.616018026117\n",
      "> For the *1205_th* data_key\n",
      "> retail = 211.0,bidincrement = 0.01, bidfee = 0.01, infer PT's parameters\n",
      "> Now do SA....... \n",
      "\n"
     ]
    },
    {
     "name": "stderr",
     "output_type": "stream",
     "text": [
      " 95%|█████████▍| 1206/1276 [6:55:10<1:32:07, 78.97s/it]"
     ]
    },
    {
     "name": "stdout",
     "output_type": "stream",
     "text": [
      "> 超时\n",
      "> SA ENDS....... \n",
      "\n",
      "> avg loss: 8298.694480681112\n",
      "> For the *1206_th* data_key\n",
      "> retail = 211.0,bidincrement = 0.01, bidfee = 0.01, infer PT's parameters\n",
      "> Now do SA....... \n",
      "\n"
     ]
    },
    {
     "name": "stderr",
     "output_type": "stream",
     "text": [
      " 95%|█████████▍| 1207/1276 [6:56:30<1:31:02, 79.17s/it]"
     ]
    },
    {
     "name": "stdout",
     "output_type": "stream",
     "text": [
      "STOP CODE:  Stay unchanged in the last 6 iterations\n",
      "> SA ENDS....... \n",
      "\n",
      "> avg loss: 11098.050424931878\n",
      "> For the *1207_th* data_key\n",
      "> retail = 219.0,bidincrement = 0.01, bidfee = 0.01, infer PT's parameters\n",
      "> Now do SA....... \n",
      "\n"
     ]
    },
    {
     "name": "stderr",
     "output_type": "stream",
     "text": [
      " 95%|█████████▍| 1208/1276 [6:58:10<1:36:48, 85.42s/it]"
     ]
    },
    {
     "name": "stdout",
     "output_type": "stream",
     "text": [
      "STOP CODE:  Stay unchanged in the last 6 iterations\n",
      "> SA ENDS....... \n",
      "\n",
      "> avg loss: 17334.362998417684\n",
      "> For the *1208_th* data_key\n",
      "> retail = 253.0,bidincrement = 0.01, bidfee = 0.01, infer PT's parameters\n",
      "> Now do SA....... \n",
      "\n"
     ]
    },
    {
     "name": "stderr",
     "output_type": "stream",
     "text": [
      " 95%|█████████▍| 1209/1276 [6:59:53<1:41:24, 90.82s/it]"
     ]
    },
    {
     "name": "stdout",
     "output_type": "stream",
     "text": [
      "STOP CODE:  Stay unchanged in the last 6 iterations\n",
      "> SA ENDS....... \n",
      "\n",
      "> avg loss: 9410.977435391977\n",
      "> For the *1209_th* data_key\n",
      "> retail = 325.0,bidincrement = 0.01, bidfee = 0.01, infer PT's parameters\n",
      "> Now do SA....... \n",
      "\n"
     ]
    },
    {
     "name": "stderr",
     "output_type": "stream",
     "text": [
      " 95%|█████████▍| 1210/1276 [7:01:54<1:49:51, 99.87s/it]"
     ]
    },
    {
     "name": "stdout",
     "output_type": "stream",
     "text": [
      "> 超时\n",
      "> SA ENDS....... \n",
      "\n",
      "> avg loss: 13534.913675842381\n",
      "> For the *1210_th* data_key\n",
      "> retail = 241.0,bidincrement = 0.01, bidfee = 0.01, infer PT's parameters\n",
      "> Now do SA....... \n",
      "\n"
     ]
    },
    {
     "name": "stderr",
     "output_type": "stream",
     "text": [
      " 95%|█████████▍| 1211/1276 [7:03:55<1:55:00, 106.16s/it]"
     ]
    },
    {
     "name": "stdout",
     "output_type": "stream",
     "text": [
      "> 超时\n",
      "> SA ENDS....... \n",
      "\n",
      "> avg loss: 14658.617078062807\n",
      "> For the *1211_th* data_key\n",
      "> retail = 314.0,bidincrement = 0.01, bidfee = 0.01, infer PT's parameters\n",
      "> Now do SA....... \n",
      "\n"
     ]
    },
    {
     "name": "stderr",
     "output_type": "stream",
     "text": [
      " 95%|█████████▍| 1212/1276 [7:05:56<1:58:00, 110.64s/it]"
     ]
    },
    {
     "name": "stdout",
     "output_type": "stream",
     "text": [
      "> 超时\n",
      "> SA ENDS....... \n",
      "\n",
      "> avg loss: 15083.090443614348\n",
      "> For the *1212_th* data_key\n",
      "> retail = 433.0,bidincrement = 0.01, bidfee = 0.01, infer PT's parameters\n",
      "> Now do SA....... \n",
      "\n"
     ]
    },
    {
     "name": "stderr",
     "output_type": "stream",
     "text": [
      " 95%|█████████▌| 1213/1276 [7:07:57<1:59:29, 113.81s/it]"
     ]
    },
    {
     "name": "stdout",
     "output_type": "stream",
     "text": [
      "> 超时\n",
      "> SA ENDS....... \n",
      "\n",
      "> avg loss: 24290.618773769602\n",
      "> For the *1213_th* data_key\n",
      "> retail = 403.0,bidincrement = 0.01, bidfee = 0.01, infer PT's parameters\n",
      "> Now do SA....... \n",
      "\n"
     ]
    },
    {
     "name": "stderr",
     "output_type": "stream",
     "text": [
      " 95%|█████████▌| 1214/1276 [7:09:58<1:59:50, 115.97s/it]"
     ]
    },
    {
     "name": "stdout",
     "output_type": "stream",
     "text": [
      "> 超时\n",
      "> SA ENDS....... \n",
      "\n",
      "> avg loss: 30874.328178406122\n",
      "> For the *1214_th* data_key\n",
      "> retail = 378.0,bidincrement = 0.01, bidfee = 0.01, infer PT's parameters\n",
      "> Now do SA....... \n",
      "\n"
     ]
    },
    {
     "name": "stderr",
     "output_type": "stream",
     "text": [
      " 95%|█████████▌| 1215/1276 [7:11:50<1:56:46, 114.86s/it]"
     ]
    },
    {
     "name": "stdout",
     "output_type": "stream",
     "text": [
      "STOP CODE:  Stay unchanged in the last 6 iterations\n",
      "> SA ENDS....... \n",
      "\n",
      "> avg loss: 21575.44581377979\n",
      "> For the *1215_th* data_key\n",
      "> retail = 698.0,bidincrement = 0.01, bidfee = 0.01, infer PT's parameters\n",
      "> Now do SA....... \n",
      "\n"
     ]
    },
    {
     "name": "stderr",
     "output_type": "stream",
     "text": [
      " 95%|█████████▌| 1216/1276 [7:13:52<1:56:57, 116.96s/it]"
     ]
    },
    {
     "name": "stdout",
     "output_type": "stream",
     "text": [
      "> 超时\n",
      "> SA ENDS....... \n",
      "\n",
      "> avg loss: 45725.813020798676\n",
      "> For the *1216_th* data_key\n",
      "> retail = 559.0,bidincrement = 0.01, bidfee = 0.01, infer PT's parameters\n",
      "> Now do SA....... \n",
      "\n"
     ]
    },
    {
     "name": "stderr",
     "output_type": "stream",
     "text": [
      " 95%|█████████▌| 1217/1276 [7:15:54<1:56:24, 118.38s/it]"
     ]
    },
    {
     "name": "stdout",
     "output_type": "stream",
     "text": [
      "> 超时\n",
      "> SA ENDS....... \n",
      "\n",
      "> avg loss: 44639.345736062845\n",
      "> For the *1217_th* data_key\n",
      "> retail = 585.0,bidincrement = 0.01, bidfee = 0.01, infer PT's parameters\n",
      "> Now do SA....... \n",
      "\n"
     ]
    },
    {
     "name": "stderr",
     "output_type": "stream",
     "text": [
      " 95%|█████████▌| 1218/1276 [7:17:56<1:55:25, 119.40s/it]"
     ]
    },
    {
     "name": "stdout",
     "output_type": "stream",
     "text": [
      "> 超时\n",
      "> SA ENDS....... \n",
      "\n",
      "> avg loss: 22400.945844107173\n",
      "> For the *1218_th* data_key\n",
      "> retail = 664.0,bidincrement = 0.01, bidfee = 0.01, infer PT's parameters\n",
      "> Now do SA....... \n",
      "\n"
     ]
    },
    {
     "name": "stderr",
     "output_type": "stream",
     "text": [
      " 96%|█████████▌| 1219/1276 [7:19:58<1:54:11, 120.19s/it]"
     ]
    },
    {
     "name": "stdout",
     "output_type": "stream",
     "text": [
      "> 超时\n",
      "> SA ENDS....... \n",
      "\n",
      "> avg loss: 58937.51545171426\n",
      "> For the *1219_th* data_key\n",
      "> retail = 609.0,bidincrement = 0.01, bidfee = 0.01, infer PT's parameters\n",
      "> Now do SA....... \n",
      "\n"
     ]
    },
    {
     "name": "stderr",
     "output_type": "stream",
     "text": [
      " 96%|█████████▌| 1220/1276 [7:22:00<1:52:39, 120.70s/it]"
     ]
    },
    {
     "name": "stdout",
     "output_type": "stream",
     "text": [
      "> 超时\n",
      "> SA ENDS....... \n",
      "\n",
      "> avg loss: 12328.24698342938\n",
      "> For the *1220_th* data_key\n",
      "> retail = 647.0,bidincrement = 0.01, bidfee = 0.01, infer PT's parameters\n",
      "> Now do SA....... \n",
      "\n"
     ]
    },
    {
     "name": "stderr",
     "output_type": "stream",
     "text": [
      " 96%|█████████▌| 1221/1276 [7:24:02<1:50:59, 121.09s/it]"
     ]
    },
    {
     "name": "stdout",
     "output_type": "stream",
     "text": [
      "> 超时\n",
      "> SA ENDS....... \n",
      "\n",
      "> avg loss: 41183.27793382585\n",
      "> For the *1221_th* data_key\n",
      "> retail = 654.0,bidincrement = 0.01, bidfee = 0.01, infer PT's parameters\n",
      "> Now do SA....... \n",
      "\n"
     ]
    },
    {
     "name": "stderr",
     "output_type": "stream",
     "text": [
      " 96%|█████████▌| 1222/1276 [7:26:04<1:49:12, 121.35s/it]"
     ]
    },
    {
     "name": "stdout",
     "output_type": "stream",
     "text": [
      "> 超时\n",
      "> SA ENDS....... \n",
      "\n",
      "> avg loss: 47128.719855855496\n",
      "> For the *1222_th* data_key\n",
      "> retail = 997.0,bidincrement = 0.01, bidfee = 0.01, infer PT's parameters\n",
      "> Now do SA....... \n",
      "\n"
     ]
    },
    {
     "name": "stderr",
     "output_type": "stream",
     "text": [
      " 96%|█████████▌| 1223/1276 [7:28:06<1:47:34, 121.79s/it]"
     ]
    },
    {
     "name": "stdout",
     "output_type": "stream",
     "text": [
      "> 超时\n",
      "> SA ENDS....... \n",
      "\n",
      "> avg loss: 72148.7969086335\n",
      "> For the *1223_th* data_key\n",
      "> retail = 635.0,bidincrement = 0.01, bidfee = 0.01, infer PT's parameters\n",
      "> Now do SA....... \n",
      "\n"
     ]
    },
    {
     "name": "stderr",
     "output_type": "stream",
     "text": [
      " 96%|█████████▌| 1224/1276 [7:30:08<1:45:30, 121.75s/it]"
     ]
    },
    {
     "name": "stdout",
     "output_type": "stream",
     "text": [
      "> 超时\n",
      "> SA ENDS....... \n",
      "\n",
      "> avg loss: 18627.76248695691\n",
      "> For the *1224_th* data_key\n",
      "> retail = 690.0,bidincrement = 0.01, bidfee = 0.01, infer PT's parameters\n",
      "> Now do SA....... \n",
      "\n"
     ]
    },
    {
     "name": "stderr",
     "output_type": "stream",
     "text": [
      " 96%|█████████▌| 1225/1276 [7:32:10<1:43:37, 121.91s/it]"
     ]
    },
    {
     "name": "stdout",
     "output_type": "stream",
     "text": [
      "> 超时\n",
      "> SA ENDS....... \n",
      "\n",
      "> avg loss: 35445.68484432858\n",
      "> For the *1225_th* data_key\n",
      "> retail = 531.0,bidincrement = 0.01, bidfee = 0.01, infer PT's parameters\n",
      "> Now do SA....... \n",
      "\n"
     ]
    },
    {
     "name": "stderr",
     "output_type": "stream",
     "text": [
      " 96%|█████████▌| 1226/1276 [7:34:12<1:41:27, 121.75s/it]"
     ]
    },
    {
     "name": "stdout",
     "output_type": "stream",
     "text": [
      "> 超时\n",
      "> SA ENDS....... \n",
      "\n",
      "> avg loss: 37304.92194680495\n",
      "> For the *1226_th* data_key\n",
      "> retail = 760.0,bidincrement = 0.01, bidfee = 0.01, infer PT's parameters\n",
      "> Now do SA....... \n",
      "\n"
     ]
    },
    {
     "name": "stderr",
     "output_type": "stream",
     "text": [
      " 96%|█████████▌| 1227/1276 [7:36:14<1:39:37, 122.00s/it]"
     ]
    },
    {
     "name": "stdout",
     "output_type": "stream",
     "text": [
      "> 超时\n",
      "> SA ENDS....... \n",
      "\n",
      "> avg loss: 24606.90094522412\n",
      "> For the *1227_th* data_key\n",
      "> retail = 995.0,bidincrement = 0.01, bidfee = 0.01, infer PT's parameters\n",
      "> Now do SA....... \n",
      "\n"
     ]
    },
    {
     "name": "stderr",
     "output_type": "stream",
     "text": [
      " 96%|█████████▌| 1228/1276 [7:38:17<1:37:47, 122.25s/it]"
     ]
    },
    {
     "name": "stdout",
     "output_type": "stream",
     "text": [
      "> 超时\n",
      "> SA ENDS....... \n",
      "\n",
      "> avg loss: 59945.32744439241\n",
      "> For the *1228_th* data_key\n",
      "> retail = 980.0,bidincrement = 0.01, bidfee = 0.01, infer PT's parameters\n",
      "> Now do SA....... \n",
      "\n"
     ]
    },
    {
     "name": "stderr",
     "output_type": "stream",
     "text": [
      " 96%|█████████▋| 1229/1276 [7:40:20<1:36:00, 122.55s/it]"
     ]
    },
    {
     "name": "stdout",
     "output_type": "stream",
     "text": [
      "> 超时\n",
      "> SA ENDS....... \n",
      "\n",
      "> avg loss: 70920.75637966403\n",
      "> For the *1229_th* data_key\n",
      "> retail = 985.0,bidincrement = 0.01, bidfee = 0.01, infer PT's parameters\n",
      "> Now do SA....... \n",
      "\n"
     ]
    },
    {
     "name": "stderr",
     "output_type": "stream",
     "text": [
      " 96%|█████████▋| 1230/1276 [7:42:24<1:34:07, 122.77s/it]"
     ]
    },
    {
     "name": "stdout",
     "output_type": "stream",
     "text": [
      "> 超时\n",
      "> SA ENDS....... \n",
      "\n",
      "> avg loss: 43396.91904488425\n",
      "> For the *1230_th* data_key\n",
      "> retail = 1029.0,bidincrement = 0.01, bidfee = 0.01, infer PT's parameters\n",
      "> Now do SA....... \n",
      "\n"
     ]
    },
    {
     "name": "stderr",
     "output_type": "stream",
     "text": [
      " 96%|█████████▋| 1231/1276 [7:44:27<1:32:11, 122.93s/it]"
     ]
    },
    {
     "name": "stdout",
     "output_type": "stream",
     "text": [
      "> 超时\n",
      "> SA ENDS....... \n",
      "\n",
      "> avg loss: 62263.51229750308\n",
      "> For the *1231_th* data_key\n",
      "> retail = 1011.0,bidincrement = 0.01, bidfee = 0.01, infer PT's parameters\n",
      "> Now do SA....... \n",
      "\n"
     ]
    },
    {
     "name": "stderr",
     "output_type": "stream",
     "text": [
      " 97%|█████████▋| 1232/1276 [7:46:30<1:30:15, 123.07s/it]"
     ]
    },
    {
     "name": "stdout",
     "output_type": "stream",
     "text": [
      "> 超时\n",
      "> SA ENDS....... \n",
      "\n",
      "> avg loss: 46746.647455990395\n",
      "> For the *1232_th* data_key\n",
      "> retail = 1091.0,bidincrement = 0.01, bidfee = 0.01, infer PT's parameters\n",
      "> Now do SA....... \n",
      "\n"
     ]
    },
    {
     "name": "stderr",
     "output_type": "stream",
     "text": [
      " 97%|█████████▋| 1233/1276 [7:48:33<1:28:08, 123.00s/it]"
     ]
    },
    {
     "name": "stdout",
     "output_type": "stream",
     "text": [
      "> 超时\n",
      "> SA ENDS....... \n",
      "\n",
      "> avg loss: 78217.49665164905\n",
      "> For the *1233_th* data_key\n",
      "> retail = 972.0,bidincrement = 0.01, bidfee = 0.01, infer PT's parameters\n",
      "> Now do SA....... \n",
      "\n"
     ]
    },
    {
     "name": "stderr",
     "output_type": "stream",
     "text": [
      " 97%|█████████▋| 1234/1276 [7:50:36<1:26:06, 123.01s/it]"
     ]
    },
    {
     "name": "stdout",
     "output_type": "stream",
     "text": [
      "> 超时\n",
      "> SA ENDS....... \n",
      "\n",
      "> avg loss: 67889.79682824918\n",
      "> For the *1234_th* data_key\n",
      "> retail = 1063.0,bidincrement = 0.01, bidfee = 0.01, infer PT's parameters\n",
      "> Now do SA....... \n",
      "\n"
     ]
    },
    {
     "name": "stderr",
     "output_type": "stream",
     "text": [
      " 97%|█████████▋| 1235/1276 [7:52:40<1:24:07, 123.11s/it]"
     ]
    },
    {
     "name": "stdout",
     "output_type": "stream",
     "text": [
      "> 超时\n",
      "> SA ENDS....... \n",
      "\n",
      "> avg loss: 65288.17759573846\n",
      "> For the *1235_th* data_key\n",
      "> retail = 1023.0,bidincrement = 0.01, bidfee = 0.01, infer PT's parameters\n",
      "> Now do SA....... \n",
      "\n"
     ]
    },
    {
     "name": "stderr",
     "output_type": "stream",
     "text": [
      " 97%|█████████▋| 1236/1276 [7:54:43<1:22:09, 123.24s/it]"
     ]
    },
    {
     "name": "stdout",
     "output_type": "stream",
     "text": [
      "> 超时\n",
      "> SA ENDS....... \n",
      "\n",
      "> avg loss: 70219.99535033596\n",
      "> For the *1236_th* data_key\n",
      "> retail = 1071.0,bidincrement = 0.01, bidfee = 0.01, infer PT's parameters\n",
      "> Now do SA....... \n",
      "\n"
     ]
    },
    {
     "name": "stderr",
     "output_type": "stream",
     "text": [
      " 97%|█████████▋| 1237/1276 [7:56:46<1:20:03, 123.17s/it]"
     ]
    },
    {
     "name": "stdout",
     "output_type": "stream",
     "text": [
      "> 超时\n",
      "> SA ENDS....... \n",
      "\n",
      "> avg loss: 33720.19365686826\n",
      "> For the *1237_th* data_key\n",
      "> retail = 1207.0,bidincrement = 0.01, bidfee = 0.01, infer PT's parameters\n",
      "> Now do SA....... \n",
      "\n"
     ]
    },
    {
     "name": "stderr",
     "output_type": "stream",
     "text": [
      " 97%|█████████▋| 1238/1276 [7:58:50<1:18:05, 123.29s/it]"
     ]
    },
    {
     "name": "stdout",
     "output_type": "stream",
     "text": [
      "> 超时\n",
      "> SA ENDS....... \n",
      "\n",
      "> avg loss: 78837.31905205011\n",
      "> For the *1238_th* data_key\n",
      "> retail = 1306.0,bidincrement = 0.01, bidfee = 0.01, infer PT's parameters\n",
      "> Now do SA....... \n",
      "\n"
     ]
    },
    {
     "name": "stderr",
     "output_type": "stream",
     "text": [
      " 97%|█████████▋| 1239/1276 [8:00:54<1:16:14, 123.63s/it]"
     ]
    },
    {
     "name": "stdout",
     "output_type": "stream",
     "text": [
      "> 超时\n",
      "> SA ENDS....... \n",
      "\n",
      "> avg loss: 46173.89390761484\n",
      "> For the *1239_th* data_key\n",
      "> retail = 1436.0,bidincrement = 0.01, bidfee = 0.01, infer PT's parameters\n",
      "> Now do SA....... \n",
      "\n"
     ]
    },
    {
     "name": "stderr",
     "output_type": "stream",
     "text": [
      " 97%|█████████▋| 1240/1276 [8:02:59<1:14:21, 123.93s/it]"
     ]
    },
    {
     "name": "stdout",
     "output_type": "stream",
     "text": [
      "> 超时\n",
      "> SA ENDS....... \n",
      "\n",
      "> avg loss: 43786.51172569533\n",
      "> For the *1240_th* data_key\n",
      "> retail = 1352.0,bidincrement = 0.01, bidfee = 0.01, infer PT's parameters\n",
      "> Now do SA....... \n",
      "\n"
     ]
    },
    {
     "name": "stderr",
     "output_type": "stream",
     "text": [
      " 97%|█████████▋| 1241/1276 [8:05:03<1:12:22, 124.06s/it]"
     ]
    },
    {
     "name": "stdout",
     "output_type": "stream",
     "text": [
      "> 超时\n",
      "> SA ENDS....... \n",
      "\n",
      "> avg loss: 64285.745223273836\n",
      "> For the *1241_th* data_key\n",
      "> retail = 1369.0,bidincrement = 0.01, bidfee = 0.01, infer PT's parameters\n",
      "> Now do SA....... \n",
      "\n"
     ]
    },
    {
     "name": "stderr",
     "output_type": "stream",
     "text": [
      " 97%|█████████▋| 1242/1276 [8:07:07<1:10:14, 123.97s/it]"
     ]
    },
    {
     "name": "stdout",
     "output_type": "stream",
     "text": [
      "> 超时\n",
      "> SA ENDS....... \n",
      "\n",
      "> avg loss: 112887.40507369838\n",
      "> For the *1242_th* data_key\n",
      "> retail = 1120.0,bidincrement = 0.01, bidfee = 0.01, infer PT's parameters\n",
      "> Now do SA....... \n",
      "\n"
     ]
    },
    {
     "name": "stderr",
     "output_type": "stream",
     "text": [
      " 97%|█████████▋| 1243/1276 [8:09:10<1:08:07, 123.85s/it]"
     ]
    },
    {
     "name": "stdout",
     "output_type": "stream",
     "text": [
      "> 超时\n",
      "> SA ENDS....... \n",
      "\n",
      "> avg loss: 80567.54785377331\n",
      "> For the *1243_th* data_key\n",
      "> retail = 1257.0,bidincrement = 0.01, bidfee = 0.01, infer PT's parameters\n",
      "> Now do SA....... \n",
      "\n"
     ]
    },
    {
     "name": "stderr",
     "output_type": "stream",
     "text": [
      " 97%|█████████▋| 1244/1276 [8:11:14<1:05:59, 123.74s/it]"
     ]
    },
    {
     "name": "stdout",
     "output_type": "stream",
     "text": [
      "> 超时\n",
      "> SA ENDS....... \n",
      "\n",
      "> avg loss: 96546.62706614107\n",
      "> For the *1244_th* data_key\n",
      "> retail = 1769.0,bidincrement = 0.01, bidfee = 0.01, infer PT's parameters\n",
      "> Now do SA....... \n",
      "\n"
     ]
    },
    {
     "name": "stderr",
     "output_type": "stream",
     "text": [
      " 98%|█████████▊| 1245/1276 [8:13:20<1:04:16, 124.41s/it]"
     ]
    },
    {
     "name": "stdout",
     "output_type": "stream",
     "text": [
      "> 超时\n",
      "> SA ENDS....... \n",
      "\n",
      "> avg loss: 58366.029582005685\n",
      "> For the *1245_th* data_key\n",
      "> retail = 1442.0,bidincrement = 0.01, bidfee = 0.01, infer PT's parameters\n",
      "> Now do SA....... \n",
      "\n"
     ]
    },
    {
     "name": "stderr",
     "output_type": "stream",
     "text": [
      " 98%|█████████▊| 1246/1276 [8:15:24<1:02:07, 124.27s/it]"
     ]
    },
    {
     "name": "stdout",
     "output_type": "stream",
     "text": [
      "> 超时\n",
      "> SA ENDS....... \n",
      "\n",
      "> avg loss: 88911.33795782078\n",
      "> For the *1246_th* data_key\n",
      "> retail = 1236.0,bidincrement = 0.01, bidfee = 0.01, infer PT's parameters\n",
      "> Now do SA....... \n",
      "\n"
     ]
    },
    {
     "name": "stderr",
     "output_type": "stream",
     "text": [
      " 98%|█████████▊| 1247/1276 [8:17:27<59:54, 123.95s/it]  "
     ]
    },
    {
     "name": "stdout",
     "output_type": "stream",
     "text": [
      "> 超时\n",
      "> SA ENDS....... \n",
      "\n",
      "> avg loss: 57795.855188113404\n",
      "> For the *1247_th* data_key\n",
      "> retail = 1092.0,bidincrement = 0.01, bidfee = 0.01, infer PT's parameters\n",
      "> Now do SA....... \n",
      "\n"
     ]
    },
    {
     "name": "stderr",
     "output_type": "stream",
     "text": [
      " 98%|█████████▊| 1248/1276 [8:19:31<57:47, 123.83s/it]"
     ]
    },
    {
     "name": "stdout",
     "output_type": "stream",
     "text": [
      "> 超时\n",
      "> SA ENDS....... \n",
      "\n",
      "> avg loss: 46904.12182008872\n",
      "> For the *1248_th* data_key\n",
      "> retail = 1053.0,bidincrement = 0.01, bidfee = 0.01, infer PT's parameters\n",
      "> Now do SA....... \n",
      "\n"
     ]
    },
    {
     "name": "stderr",
     "output_type": "stream",
     "text": [
      " 98%|█████████▊| 1249/1276 [8:21:34<55:42, 123.78s/it]"
     ]
    },
    {
     "name": "stdout",
     "output_type": "stream",
     "text": [
      "> 超时\n",
      "> SA ENDS....... \n",
      "\n",
      "> avg loss: 97683.44690088292\n",
      "> For the *1249_th* data_key\n",
      "> retail = 1398.0,bidincrement = 0.01, bidfee = 0.01, infer PT's parameters\n",
      "> Now do SA....... \n",
      "\n"
     ]
    },
    {
     "name": "stderr",
     "output_type": "stream",
     "text": [
      " 98%|█████████▊| 1250/1276 [8:23:39<53:45, 124.05s/it]"
     ]
    },
    {
     "name": "stdout",
     "output_type": "stream",
     "text": [
      "> 超时\n",
      "> SA ENDS....... \n",
      "\n",
      "> avg loss: 59857.87140652548\n",
      "> For the *1250_th* data_key\n",
      "> retail = 1326.0,bidincrement = 0.01, bidfee = 0.01, infer PT's parameters\n",
      "> Now do SA....... \n",
      "\n"
     ]
    },
    {
     "name": "stderr",
     "output_type": "stream",
     "text": [
      " 98%|█████████▊| 1251/1276 [8:25:42<51:34, 123.79s/it]"
     ]
    },
    {
     "name": "stdout",
     "output_type": "stream",
     "text": [
      "> 超时\n",
      "> SA ENDS....... \n",
      "\n",
      "> avg loss: 66773.68095535618\n",
      "> For the *1251_th* data_key\n",
      "> retail = 1422.0,bidincrement = 0.01, bidfee = 0.01, infer PT's parameters\n",
      "> Now do SA....... \n",
      "\n"
     ]
    },
    {
     "name": "stderr",
     "output_type": "stream",
     "text": [
      " 98%|█████████▊| 1252/1276 [8:27:47<49:35, 123.98s/it]"
     ]
    },
    {
     "name": "stdout",
     "output_type": "stream",
     "text": [
      "> 超时\n",
      "> SA ENDS....... \n",
      "\n",
      "> avg loss: 54014.97878578648\n",
      "> For the *1252_th* data_key\n",
      "> retail = 1207.0,bidincrement = 0.01, bidfee = 0.01, infer PT's parameters\n",
      "> Now do SA....... \n",
      "\n"
     ]
    },
    {
     "name": "stderr",
     "output_type": "stream",
     "text": [
      " 98%|█████████▊| 1253/1276 [8:29:50<47:30, 123.95s/it]"
     ]
    },
    {
     "name": "stdout",
     "output_type": "stream",
     "text": [
      "> 超时\n",
      "> SA ENDS....... \n",
      "\n",
      "> avg loss: 88519.76202733167\n",
      "> For the *1253_th* data_key\n",
      "> retail = 1359.0,bidincrement = 0.01, bidfee = 0.01, infer PT's parameters\n",
      "> Now do SA....... \n",
      "\n"
     ]
    },
    {
     "name": "stderr",
     "output_type": "stream",
     "text": [
      " 98%|█████████▊| 1254/1276 [8:31:55<45:30, 124.14s/it]"
     ]
    },
    {
     "name": "stdout",
     "output_type": "stream",
     "text": [
      "> 超时\n",
      "> SA ENDS....... \n",
      "\n",
      "> avg loss: 73306.57793560911\n",
      "> For the *1254_th* data_key\n",
      "> retail = 1484.0,bidincrement = 0.01, bidfee = 0.01, infer PT's parameters\n",
      "> Now do SA....... \n",
      "\n"
     ]
    },
    {
     "name": "stderr",
     "output_type": "stream",
     "text": [
      " 98%|█████████▊| 1255/1276 [8:33:59<43:27, 124.15s/it]"
     ]
    },
    {
     "name": "stdout",
     "output_type": "stream",
     "text": [
      "> 超时\n",
      "> SA ENDS....... \n",
      "\n",
      "> avg loss: 73761.07863918449\n",
      "> For the *1255_th* data_key\n",
      "> retail = 1453.0,bidincrement = 0.01, bidfee = 0.01, infer PT's parameters\n",
      "> Now do SA....... \n",
      "\n"
     ]
    },
    {
     "name": "stderr",
     "output_type": "stream",
     "text": [
      " 98%|█████████▊| 1256/1276 [8:36:04<41:24, 124.24s/it]"
     ]
    },
    {
     "name": "stdout",
     "output_type": "stream",
     "text": [
      "> 超时\n",
      "> SA ENDS....... \n",
      "\n",
      "> avg loss: 102873.22703726354\n",
      "> For the *1256_th* data_key\n",
      "> retail = 1653.0,bidincrement = 0.01, bidfee = 0.01, infer PT's parameters\n",
      "> Now do SA....... \n",
      "\n"
     ]
    },
    {
     "name": "stderr",
     "output_type": "stream",
     "text": [
      " 99%|█████████▊| 1257/1276 [8:38:08<39:21, 124.29s/it]"
     ]
    },
    {
     "name": "stdout",
     "output_type": "stream",
     "text": [
      "> 超时\n",
      "> SA ENDS....... \n",
      "\n",
      "> avg loss: 118559.6030934332\n",
      "> For the *1257_th* data_key\n",
      "> retail = 1486.0,bidincrement = 0.01, bidfee = 0.01, infer PT's parameters\n",
      "> Now do SA....... \n",
      "\n"
     ]
    },
    {
     "name": "stderr",
     "output_type": "stream",
     "text": [
      " 99%|█████████▊| 1258/1276 [8:40:12<37:16, 124.23s/it]"
     ]
    },
    {
     "name": "stdout",
     "output_type": "stream",
     "text": [
      "> 超时\n",
      "> SA ENDS....... \n",
      "\n",
      "> avg loss: 70223.91404777279\n",
      "> For the *1258_th* data_key\n",
      "> retail = 1458.0,bidincrement = 0.01, bidfee = 0.01, infer PT's parameters\n",
      "> Now do SA....... \n",
      "\n"
     ]
    },
    {
     "name": "stderr",
     "output_type": "stream",
     "text": [
      " 99%|█████████▊| 1259/1276 [8:42:17<35:12, 124.29s/it]"
     ]
    },
    {
     "name": "stdout",
     "output_type": "stream",
     "text": [
      "> 超时\n",
      "> SA ENDS....... \n",
      "\n",
      "> avg loss: 91336.01317955462\n",
      "> For the *1259_th* data_key\n",
      "> retail = 1597.0,bidincrement = 0.01, bidfee = 0.01, infer PT's parameters\n",
      "> Now do SA....... \n",
      "\n"
     ]
    },
    {
     "name": "stderr",
     "output_type": "stream",
     "text": [
      " 99%|█████████▊| 1260/1276 [8:44:21<33:10, 124.41s/it]"
     ]
    },
    {
     "name": "stdout",
     "output_type": "stream",
     "text": [
      "> 超时\n",
      "> SA ENDS....... \n",
      "\n",
      "> avg loss: 114149.34557987563\n",
      "> For the *1260_th* data_key\n",
      "> retail = 1433.0,bidincrement = 0.01, bidfee = 0.01, infer PT's parameters\n",
      "> Now do SA....... \n",
      "\n"
     ]
    },
    {
     "name": "stderr",
     "output_type": "stream",
     "text": [
      " 99%|█████████▉| 1261/1276 [8:46:25<31:03, 124.25s/it]"
     ]
    },
    {
     "name": "stdout",
     "output_type": "stream",
     "text": [
      "> 超时\n",
      "> SA ENDS....... \n",
      "\n",
      "> avg loss: 65005.41946307131\n",
      "> For the *1261_th* data_key\n",
      "> retail = 1649.0,bidincrement = 0.01, bidfee = 0.01, infer PT's parameters\n",
      "> Now do SA....... \n",
      "\n"
     ]
    },
    {
     "name": "stderr",
     "output_type": "stream",
     "text": [
      " 99%|█████████▉| 1262/1276 [8:48:30<29:00, 124.36s/it]"
     ]
    },
    {
     "name": "stdout",
     "output_type": "stream",
     "text": [
      "> 超时\n",
      "> SA ENDS....... \n",
      "\n",
      "> avg loss: 71398.95292609185\n",
      "> For the *1262_th* data_key\n",
      "> retail = 1615.0,bidincrement = 0.01, bidfee = 0.01, infer PT's parameters\n",
      "> Now do SA....... \n",
      "\n"
     ]
    },
    {
     "name": "stderr",
     "output_type": "stream",
     "text": [
      " 99%|█████████▉| 1263/1276 [8:50:35<27:00, 124.62s/it]"
     ]
    },
    {
     "name": "stdout",
     "output_type": "stream",
     "text": [
      "> 超时\n",
      "> SA ENDS....... \n",
      "\n",
      "> avg loss: 49659.825725648996\n",
      "> For the *1263_th* data_key\n",
      "> retail = 1480.0,bidincrement = 0.01, bidfee = 0.01, infer PT's parameters\n",
      "> Now do SA....... \n",
      "\n"
     ]
    },
    {
     "name": "stderr",
     "output_type": "stream",
     "text": [
      " 99%|█████████▉| 1264/1276 [8:52:40<24:56, 124.69s/it]"
     ]
    },
    {
     "name": "stdout",
     "output_type": "stream",
     "text": [
      "> 超时\n",
      "> SA ENDS....... \n",
      "\n",
      "> avg loss: 129558.88603613689\n",
      "> For the *1264_th* data_key\n",
      "> retail = 1796.0,bidincrement = 0.01, bidfee = 0.01, infer PT's parameters\n",
      "> Now do SA....... \n",
      "\n"
     ]
    },
    {
     "name": "stderr",
     "output_type": "stream",
     "text": [
      " 99%|█████████▉| 1265/1276 [8:54:45<22:53, 124.91s/it]"
     ]
    },
    {
     "name": "stdout",
     "output_type": "stream",
     "text": [
      "> 超时\n",
      "> SA ENDS....... \n",
      "\n",
      "> avg loss: 163890.58260842884\n",
      "> For the *1265_th* data_key\n",
      "> retail = 1569.0,bidincrement = 0.01, bidfee = 0.01, infer PT's parameters\n",
      "> Now do SA....... \n",
      "\n"
     ]
    },
    {
     "name": "stderr",
     "output_type": "stream",
     "text": [
      " 99%|█████████▉| 1266/1276 [8:56:49<20:47, 124.71s/it]"
     ]
    },
    {
     "name": "stdout",
     "output_type": "stream",
     "text": [
      "> 超时\n",
      "> SA ENDS....... \n",
      "\n",
      "> avg loss: 54345.95209589793\n",
      "> For the *1266_th* data_key\n",
      "> retail = 1608.0,bidincrement = 0.01, bidfee = 0.01, infer PT's parameters\n",
      "> Now do SA....... \n",
      "\n"
     ]
    },
    {
     "name": "stderr",
     "output_type": "stream",
     "text": [
      " 99%|█████████▉| 1267/1276 [8:58:54<18:40, 124.53s/it]"
     ]
    },
    {
     "name": "stdout",
     "output_type": "stream",
     "text": [
      "> 超时\n",
      "> SA ENDS....... \n",
      "\n",
      "> avg loss: 149101.9618641787\n",
      "> For the *1267_th* data_key\n",
      "> retail = 1802.0,bidincrement = 0.01, bidfee = 0.01, infer PT's parameters\n",
      "> Now do SA....... \n",
      "\n"
     ]
    },
    {
     "name": "stderr",
     "output_type": "stream",
     "text": [
      " 99%|█████████▉| 1268/1276 [9:00:58<16:37, 124.64s/it]"
     ]
    },
    {
     "name": "stdout",
     "output_type": "stream",
     "text": [
      "> 超时\n",
      "> SA ENDS....... \n",
      "\n",
      "> avg loss: 97093.42649387241\n",
      "> For the *1268_th* data_key\n",
      "> retail = 1525.0,bidincrement = 0.01, bidfee = 0.01, infer PT's parameters\n",
      "> Now do SA....... \n",
      "\n"
     ]
    },
    {
     "name": "stderr",
     "output_type": "stream",
     "text": [
      " 99%|█████████▉| 1269/1276 [9:03:02<14:30, 124.35s/it]"
     ]
    },
    {
     "name": "stdout",
     "output_type": "stream",
     "text": [
      "> 超时\n",
      "> SA ENDS....... \n",
      "\n",
      "> avg loss: 144846.96174742206\n",
      "> For the *1269_th* data_key\n",
      "> retail = 1756.0,bidincrement = 0.01, bidfee = 0.01, infer PT's parameters\n",
      "> Now do SA....... \n",
      "\n"
     ]
    },
    {
     "name": "stderr",
     "output_type": "stream",
     "text": [
      "100%|█████████▉| 1270/1276 [9:05:08<12:28, 124.81s/it]"
     ]
    },
    {
     "name": "stdout",
     "output_type": "stream",
     "text": [
      "> 超时\n",
      "> SA ENDS....... \n",
      "\n",
      "> avg loss: 74717.58110891597\n",
      "> For the *1270_th* data_key\n",
      "> retail = 1650.0,bidincrement = 0.01, bidfee = 0.01, infer PT's parameters\n",
      "> Now do SA....... \n",
      "\n"
     ]
    },
    {
     "name": "stderr",
     "output_type": "stream",
     "text": [
      "100%|█████████▉| 1271/1276 [9:07:13<10:24, 124.81s/it]"
     ]
    },
    {
     "name": "stdout",
     "output_type": "stream",
     "text": [
      "> 超时\n",
      "> SA ENDS....... \n",
      "\n",
      "> avg loss: 114109.22874154388\n",
      "> For the *1271_th* data_key\n",
      "> retail = 1598.0,bidincrement = 0.01, bidfee = 0.01, infer PT's parameters\n",
      "> Now do SA....... \n",
      "\n"
     ]
    },
    {
     "name": "stderr",
     "output_type": "stream",
     "text": [
      "100%|█████████▉| 1272/1276 [9:09:17<08:18, 124.54s/it]"
     ]
    },
    {
     "name": "stdout",
     "output_type": "stream",
     "text": [
      "> 超时\n",
      "> SA ENDS....... \n",
      "\n",
      "> avg loss: 90679.79187887529\n",
      "> For the *1272_th* data_key\n",
      "> retail = 2142.0,bidincrement = 0.01, bidfee = 0.01, infer PT's parameters\n",
      "> Now do SA....... \n",
      "\n"
     ]
    },
    {
     "name": "stderr",
     "output_type": "stream",
     "text": [
      "100%|█████████▉| 1273/1276 [9:11:23<06:15, 125.04s/it]"
     ]
    },
    {
     "name": "stdout",
     "output_type": "stream",
     "text": [
      "> 超时\n",
      "> SA ENDS....... \n",
      "\n",
      "> avg loss: 206433.02736493963\n",
      "> For the *1273_th* data_key\n",
      "> retail = 1891.0,bidincrement = 0.01, bidfee = 0.01, infer PT's parameters\n",
      "> Now do SA....... \n",
      "\n"
     ]
    },
    {
     "name": "stderr",
     "output_type": "stream",
     "text": [
      "100%|█████████▉| 1274/1276 [9:13:28<04:09, 124.96s/it]"
     ]
    },
    {
     "name": "stdout",
     "output_type": "stream",
     "text": [
      "> 超时\n",
      "> SA ENDS....... \n",
      "\n",
      "> avg loss: 139589.76606425107\n",
      "> For the *1274_th* data_key\n",
      "> retail = 1802.0,bidincrement = 0.01, bidfee = 0.01, infer PT's parameters\n",
      "> Now do SA....... \n",
      "\n"
     ]
    },
    {
     "name": "stderr",
     "output_type": "stream",
     "text": [
      "100%|█████████▉| 1275/1276 [9:15:33<02:05, 125.21s/it]"
     ]
    },
    {
     "name": "stdout",
     "output_type": "stream",
     "text": [
      "> 超时\n",
      "> SA ENDS....... \n",
      "\n",
      "> avg loss: 120169.40144821124\n",
      "> For the *1275_th* data_key\n",
      "> retail = 1717.0,bidincrement = 0.01, bidfee = 0.01, infer PT's parameters\n",
      "> Now do SA....... \n",
      "\n"
     ]
    },
    {
     "name": "stderr",
     "output_type": "stream",
     "text": [
      "100%|██████████| 1276/1276 [9:17:38<00:00, 26.22s/it] "
     ]
    },
    {
     "name": "stdout",
     "output_type": "stream",
     "text": [
      "> 超时\n",
      "> SA ENDS....... \n",
      "\n",
      "> avg loss: 123695.34487104266\n"
     ]
    },
    {
     "name": "stderr",
     "output_type": "stream",
     "text": [
      "\n"
     ]
    }
   ],
   "source": [
    "for i in tqdm(range(0,N_uniq_auction)):        # N_uniq_auction\n",
    "\n",
    "    # Extract data with same `key_i` into a table\n",
    "    if ARTIFICIAL:\n",
    "        data_i = readin_data_fromkey(i)\n",
    "\n",
    "    else:\n",
    "        data_i = select_data_fromkey(i)\n",
    "        data_i.reset_index(drop=True,inplace=True)\n",
    "\n",
    "\n",
    "    T_i = data_i['N'].astype(int)          # auction duration sequence\n",
    "    max_T = int(max(T_i))                  # max duration value\n",
    "    A_i = len(T_i)                          # data records\n",
    "\n",
    "    v = float(data_key.iloc[i,3])\n",
    "    d = float(data_key.iloc[i,1])\n",
    "    b = float(data_key.iloc[i,2])\n",
    "    # d==0 suggests a fixed-price auction\n",
    "    if d == 0:\n",
    "        T = 1000                                   # duration limitation\n",
    "        LEN = int(max(T_i))                        # U_i length\n",
    "    else:\n",
    "        T = np.floor((v-b)/d)                         # duration limitation\n",
    "        LEN = int(T)                                  # U_i length\n",
    "\n",
    "    initial_t = max(data['cnt_N'].astype(int))        # initial temperature\n",
    "    # Calculate NLL\n",
    "    print(f\"> For the *{i}_th* data_key\")\n",
    "    print(\"> retail = {0},bidincrement = {1}, bidfee = {2}, infer PT's parameters\".format(v,d,b))\n",
    "    # print(\"> Initilizing SA....... \\n\")\n",
    "    set_run_mode(loss_func, 'cached')\n",
    "    set_run_mode(loss_func, 'multithreading')\n",
    "\n",
    "    # L=30, max_stay_counter=15\n",
    "    sa_boltzmann = SABoltzmann(func=loss_func, x0=table_5_M, other_params = [i], T_max=initial_t, T_min=0.9, learn_rate=0.01, L=15, max_stay_counter=5,lb=lb, ub=ub)\n",
    "\n",
    "    print(\"> Now do SA....... \\n\")\n",
    "    try:\n",
    "        best_x, best_y = perform_with_time(sa_boltzmann)\n",
    "    except func_timeout.exceptions.FunctionTimedOut:\n",
    "        print(f'> 超时')\n",
    "        # 超时，参数按照初始化的值，loss按照初始loss\n",
    "        best_x, best_y = table_5_M, sa_boltzmann.generation_best_Y[0]\n",
    "\n",
    "    print(\"> SA ENDS....... \\n\")\n",
    "    print(f\"> avg loss: {best_y/A_i}\")\n",
    "\n",
    "    # append the opitimized params into the df\n",
    "    df_tmp = pd.DataFrame([[i,best_x[0],1,sa_boltzmann.generation_best_Y[0],best_y,best_y/A_i]],columns=['key_idx','alpha','delta','initial_loss','final_loss','avg_loss'])\n",
    "    params_opitim = pd.concat([params_opitim,df_tmp],axis=0,ignore_index=True)\n",
    "    # ignore_index=True could help in rearranging index"
   ],
   "metadata": {
    "collapsed": false
   }
  },
  {
   "cell_type": "code",
   "execution_count": 217,
   "outputs": [
    {
     "data": {
      "text/plain": "  key_idx     alpha delta  initial_loss   final_loss   avg_loss\n0       0 -0.200000     1   7368.272271  7368.272271  23.025851\n1       1  0.245135     1   6976.832807   816.373085   2.694301\n2       2  0.211711     1  12433.959458  1534.758727   2.842146\n3       3  0.300000     1   4943.903209   591.392737   2.337521\n4       4  0.173771     1   4631.119593  1048.460645   3.039016",
      "text/html": "<div>\n<style scoped>\n    .dataframe tbody tr th:only-of-type {\n        vertical-align: middle;\n    }\n\n    .dataframe tbody tr th {\n        vertical-align: top;\n    }\n\n    .dataframe thead th {\n        text-align: right;\n    }\n</style>\n<table border=\"1\" class=\"dataframe\">\n  <thead>\n    <tr style=\"text-align: right;\">\n      <th></th>\n      <th>key_idx</th>\n      <th>alpha</th>\n      <th>delta</th>\n      <th>initial_loss</th>\n      <th>final_loss</th>\n      <th>avg_loss</th>\n    </tr>\n  </thead>\n  <tbody>\n    <tr>\n      <th>0</th>\n      <td>0</td>\n      <td>-0.200000</td>\n      <td>1</td>\n      <td>7368.272271</td>\n      <td>7368.272271</td>\n      <td>23.025851</td>\n    </tr>\n    <tr>\n      <th>1</th>\n      <td>1</td>\n      <td>0.245135</td>\n      <td>1</td>\n      <td>6976.832807</td>\n      <td>816.373085</td>\n      <td>2.694301</td>\n    </tr>\n    <tr>\n      <th>2</th>\n      <td>2</td>\n      <td>0.211711</td>\n      <td>1</td>\n      <td>12433.959458</td>\n      <td>1534.758727</td>\n      <td>2.842146</td>\n    </tr>\n    <tr>\n      <th>3</th>\n      <td>3</td>\n      <td>0.300000</td>\n      <td>1</td>\n      <td>4943.903209</td>\n      <td>591.392737</td>\n      <td>2.337521</td>\n    </tr>\n    <tr>\n      <th>4</th>\n      <td>4</td>\n      <td>0.173771</td>\n      <td>1</td>\n      <td>4631.119593</td>\n      <td>1048.460645</td>\n      <td>3.039016</td>\n    </tr>\n  </tbody>\n</table>\n</div>"
     },
     "execution_count": 217,
     "metadata": {},
     "output_type": "execute_result"
    }
   ],
   "source": [
    "params_opitim.head()"
   ],
   "metadata": {
    "collapsed": false
   }
  },
  {
   "cell_type": "code",
   "execution_count": 218,
   "outputs": [
    {
     "data": {
      "text/plain": "'../../data/SA_PT/params_opitim_artificial_GT3_noise_0.05.csv'"
     },
     "execution_count": 218,
     "metadata": {},
     "output_type": "execute_result"
    }
   ],
   "source": [
    "params_opitim_delta_path_3"
   ],
   "metadata": {
    "collapsed": false
   }
  },
  {
   "cell_type": "code",
   "execution_count": 219,
   "outputs": [],
   "source": [
    "# save 'params_opitim' for later check\n",
    "params_opitim.to_csv(params_opitim_delta_path_3, header=True, encoding=\"utf-8\",index=False)"
   ],
   "metadata": {
    "collapsed": false
   }
  },
  {
   "cell_type": "markdown",
   "source": [
    "# 4. append with data key\n",
    "1. 根据需要更改一下，总之只执行1次\n",
    "2. 添加data key以及duration等信息"
   ],
   "metadata": {
    "collapsed": false
   }
  },
  {
   "cell_type": "code",
   "source": [
    "# params_opitim = pd.read_csv(params_opitim_delta_path_3, encoding=\"utf-8\")\n",
    "# params_opitim_withsetting = pd.concat([data_key,params_opitim],axis = 1)"
   ],
   "metadata": {
    "collapsed": false
   },
   "execution_count": null,
   "outputs": []
  },
  {
   "cell_type": "code",
   "execution_count": 90,
   "outputs": [],
   "source": [
    "# def to_float(x):\n",
    "#     return float(x.strip('[]'))"
   ],
   "metadata": {
    "collapsed": false
   }
  },
  {
   "cell_type": "code",
   "execution_count": 91,
   "outputs": [],
   "source": [
    "# params_opitim_origin = pd.read_csv(params_opitim_delta_path_3, encoding=\"utf-8\")\n",
    "# params_opitim_origin['alpha'] = params_opitim_origin['alpha'].apply(to_float)\n"
   ],
   "metadata": {
    "collapsed": false
   }
  },
  {
   "cell_type": "code",
   "execution_count": 92,
   "outputs": [
    {
     "name": "stdout",
     "output_type": "stream",
     "text": [
      "float64\n"
     ]
    }
   ],
   "source": [
    "# print(params_opitim_origin['alpha'].dtype)"
   ],
   "metadata": {
    "collapsed": false
   }
  },
  {
   "cell_type": "code",
   "execution_count": 93,
   "outputs": [],
   "source": [
    "# params_opitim_origin.to_csv(params_opitim_delta_path_3, header=True, index=False)"
   ],
   "metadata": {
    "collapsed": false
   }
  }
 ],
 "metadata": {
  "kernelspec": {
   "display_name": "Python 3",
   "language": "python",
   "name": "python3"
  },
  "language_info": {
   "codemirror_mode": {
    "name": "ipython",
    "version": 2
   },
   "file_extension": ".py",
   "mimetype": "text/x-python",
   "name": "python",
   "nbconvert_exporter": "python",
   "pygments_lexer": "ipython2",
   "version": "2.7.6"
  }
 },
 "nbformat": 4,
 "nbformat_minor": 0
}
