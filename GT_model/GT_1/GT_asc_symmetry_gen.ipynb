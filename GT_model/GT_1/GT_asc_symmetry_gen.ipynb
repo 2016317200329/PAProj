{
 "cells": [
  {
   "cell_type": "code",
   "execution_count": 22,
   "metadata": {
    "collapsed": true
   },
   "outputs": [],
   "source": [
    "#!/usr/bin/env python\n",
    "# -*- coding: utf-8 -*-\n",
    "# @Time    : 2022/9/26 22:24\n",
    "# @Author  : Wang Yujia\n",
    "# @File    : GT_asc_symmetry_gen.ipynb\n",
    "# @Description : 根据GT_asc_symmetry_gen_demo.ipynb，计算ascending-price auction的data。ref：信息不对称的paper里symmetry的情况。"
   ]
  },
  {
   "cell_type": "markdown",
   "metadata": {},
   "source": [
    "# 0. what for\n",
    "1. 在`GT_asc_symmetry_gen_demo.ipynb`上实验过的思路，现在automatically执行一下，输入所有的auction setting，得到相应的输出\n",
    "2. **Steps**：\n",
    "    - collect GT计算需要的features: `features_GT`，记得给target data留一个flag:`unique_setting`\n",
    "        - features_GT = ['bidincrement','bidfee','retail']\n",
    "        - unique_setting = ['product_id', 'bidincrement', 'bidfee','retail']\n",
    "    - 根据`features_GT`计算GT预测的结果`n`和`p`"
   ]
  },
  {
   "cell_type": "code",
   "execution_count": 53,
   "metadata": {},
   "outputs": [],
   "source": [
    "# 经过threshold==16 filter之后，得到的dataset\n",
    "data_selected_path = \"../../data/info_asymm/datawithnp_asc_symmetry_selected.csv\"\n",
    "data_key_path = \"../../data/info_asymm/data_key_GT_1.csv\"\n",
    "\n",
    "# output path\n",
    "data_path_root = \"../../data/info_asymm/results/asc_symmetry/\"\n",
    "# target data is from method-2\n",
    "filename_head = \"GT_asc_symmetry_P2_K=\"\n",
    "filename_tail = \".csv\"\n",
    "\n",
    "# GT计算需要的features\n",
    "# 实际上不需要'product_id'这个属性。对于GT来说'retail'就足以反映product信息\n",
    "features_GT = ['bidincrement','bidfee','retail']\n",
    "\n",
    "# threshold\n",
    "# K=100\n",
    "\n",
    "import numpy as np\n",
    "#import cupy as np\n",
    "import pandas as pd\n",
    "import csv\n",
    "import seaborn as sns\n",
    "import matplotlib.pyplot as plt\n",
    "from tqdm.notebook import tqdm\n",
    "from visdom import Visdom"
   ]
  },
  {
   "cell_type": "markdown",
   "source": [
    "# 1. Preparations\n",
    "## 1.1 全局设置"
   ],
   "metadata": {
    "collapsed": false
   }
  },
  {
   "cell_type": "markdown",
   "metadata": {},
   "source": [
    "## 1.2 读取data\n",
    "1. data and the keys"
   ]
  },
  {
   "cell_type": "code",
   "execution_count": 54,
   "metadata": {},
   "outputs": [
    {
     "name": "stdout",
     "output_type": "stream",
     "text": [
      "For symmetry GT model in ascending-price auctions, there are *605* settings waiting to be inferred.\n"
     ]
    }
   ],
   "source": [
    "data = pd.read_csv(data_selected_path, encoding=\"utf-8\")\n",
    "\n",
    "data_key = data[features_GT].copy()\n",
    "data_key.drop_duplicates(inplace=True,ignore_index=True)\n",
    "data_key.to_csv(data_key_path,header=True, encoding=\"utf-8\",index=False)\n",
    "\n",
    "# 之前是612\n",
    "print(\"For symmetry GT model in ascending-price auctions, there are *{}* settings waiting to be inferred.\".format(data_key.shape[0]))"
   ]
  },
  {
   "cell_type": "markdown",
   "source": [
    "## 1.3 functions about 'key'"
   ],
   "metadata": {
    "collapsed": false
   }
  },
  {
   "cell_type": "code",
   "execution_count": 55,
   "outputs": [],
   "source": [
    "# get key from i in 'data_key'\n",
    "def get_key_from_index(i,flag=\"NotStr\"):\n",
    "    if(flag == \"str\"):\n",
    "        key_i = list(data_key.iloc[i,:])\n",
    "        key_i_str = (str(key_i[0]),str(key_i[1]),str(key_i[2]))\n",
    "        return key_i_str\n",
    "    else:\n",
    "        key_i = data_key.iloc[i,:]\n",
    "        return key_i\n",
    "\n",
    "#features_GT = ['bidincrement','bidfee','retail']\n",
    "def select_data_fromkey(key_i_str):\n",
    "    return data[(data['bidincrement'] == key_i_str[0]) & (data['bidfee'] == key_i_str[1]) & (data['retail'] == key_i_str[2])].copy()"
   ],
   "metadata": {
    "collapsed": false
   }
  },
  {
   "cell_type": "markdown",
   "metadata": {},
   "source": [
    "# 2. U&P\n",
    "1. For ascending-price, there is $n \\leq Q $\n",
    "2. 根据公式可知`U[key][0]`不存在，指定为1，方便后续`P`的计算\n",
    "3. `U[key][j]`表示在某一个setting下：\n",
    "> The probability that somebody makes the jth bid (given that j − 1 previous bids have been made)\n",
    "4. `P`作为一个**dict**，它的key是`features_GT`,每一个key对应一个大小为(T+1)的list.\n",
    "5. 由于threshold的存在，`P[key_i]`的大小设置为`K+1`，其中`p[key_i][K]`记录的是sum(P[i]) when i > K\n",
    "    - 如果threshold> T_i，则用0padding"
   ]
  },
  {
   "cell_type": "code",
   "execution_count": 66,
   "outputs": [
    {
     "name": "stdout",
     "output_type": "stream",
     "text": [
      "Done\n"
     ]
    }
   ],
   "source": [
    "# whether set threshold or not\n",
    "threshold_flag = 1\n",
    "plot_flag = 0\n",
    "\n",
    "K = 300\n",
    "col_names = ['bidincrement','bidfee','retail']\n",
    "tmp = np.arange(0,K)\n",
    "tmp_str = [str(x) for x in tmp]\n",
    "col_names.extend(tmp_str)\n",
    "\n",
    "P = pd.DataFrame(columns=col_names)\n",
    "\n",
    "if(plot_flag):\n",
    "    env_str = 'P_GT-1_threshold'\n",
    "    viz = Visdom(env=env_str)\n",
    "print(\"Done\")"
   ],
   "metadata": {
    "collapsed": false
   }
  },
  {
   "cell_type": "markdown",
   "source": [
    "6. 想对比归一化的区别：可以把第一个elif的条件改了\n",
    "7. **`P[i]`表示`duration=i+1`的概率，i从0开始计数**"
   ],
   "metadata": {
    "collapsed": false
   }
  },
  {
   "cell_type": "code",
   "execution_count": 67,
   "outputs": [
    {
     "data": {
      "text/plain": "  0%|          | 0/10 [00:00<?, ?it/s]",
      "application/vnd.jupyter.widget-view+json": {
       "version_major": 2,
       "version_minor": 0,
       "model_id": "2801be7675294d07bc3d8c2edcc46fe1"
      }
     },
     "metadata": {},
     "output_type": "display_data"
    },
    {
     "name": "stdout",
     "output_type": "stream",
     "text": [
      "[1.87734668e-02 1.84904497e-02 1.82106447e-02 1.79340273e-02\n",
      " 1.76605733e-02 1.73902584e-02 1.71230585e-02 1.68589496e-02\n",
      " 1.65979078e-02 1.63399093e-02 1.60849302e-02 1.58329470e-02\n",
      " 1.55839360e-02 1.53378738e-02 1.50947371e-02 1.48545026e-02\n",
      " 1.46171470e-02 1.43826473e-02 1.41509805e-02 1.39221237e-02\n",
      " 1.36960540e-02 1.34727488e-02 1.32521854e-02 1.30343413e-02\n",
      " 1.28191939e-02 1.26067211e-02 1.23969005e-02 1.21897100e-02\n",
      " 1.19851274e-02 1.17831309e-02 1.15836985e-02 1.13868084e-02\n",
      " 1.11924390e-02 1.10005686e-02 1.08111758e-02 1.06242390e-02\n",
      " 1.04397370e-02 1.02576486e-02 1.00779526e-02 9.90062789e-03\n",
      " 9.72565361e-03 9.55300888e-03 9.38267291e-03 9.21462503e-03\n",
      " 9.04884467e-03 8.88531134e-03 8.72400463e-03 8.56490424e-03\n",
      " 8.40798996e-03 8.25324168e-03 8.10063937e-03 7.95016310e-03\n",
      " 7.80179302e-03 7.65550940e-03 7.51129258e-03 7.36912301e-03\n",
      " 7.22898121e-03 7.09084781e-03 6.95470353e-03 6.82052919e-03\n",
      " 6.68830568e-03 6.55801401e-03 6.42963527e-03 6.30315064e-03\n",
      " 6.17854140e-03 6.05578893e-03 5.93487467e-03 5.81578020e-03\n",
      " 5.69848715e-03 5.58297728e-03 5.46923241e-03 5.35723447e-03\n",
      " 5.24696550e-03 5.13840759e-03 5.03154296e-03 4.92635391e-03\n",
      " 4.82282283e-03 4.72093221e-03 4.62066462e-03 4.52200274e-03\n",
      " 4.42492934e-03 4.32942727e-03 4.23547948e-03 4.14306902e-03\n",
      " 4.05217902e-03 3.96279272e-03 3.87489343e-03 3.78846458e-03\n",
      " 3.70348968e-03 3.61995232e-03 3.53783619e-03 3.45712510e-03\n",
      " 3.37780292e-03 3.29985362e-03 3.22326128e-03 3.14801004e-03\n",
      " 3.07408417e-03 3.00146801e-03 2.93014599e-03 2.86010266e-03\n",
      " 2.79132264e-03 2.72379064e-03 2.65749148e-03 2.59241005e-03\n",
      " 2.52853137e-03 2.46584051e-03 2.40432265e-03 2.34396309e-03\n",
      " 2.28474718e-03 2.22666039e-03 2.16968827e-03 2.11381647e-03\n",
      " 2.05903073e-03 2.00531688e-03 1.95266086e-03 1.90104868e-03\n",
      " 1.85046645e-03 1.80090038e-03 1.75233678e-03 1.70476202e-03\n",
      " 1.65816261e-03 1.61252510e-03 1.56783619e-03 1.52408262e-03\n",
      " 1.48125126e-03 1.43932905e-03 1.39830305e-03 1.35816037e-03\n",
      " 1.31888827e-03 1.28047405e-03 1.24290513e-03 1.20616901e-03\n",
      " 1.17025331e-03 1.13514571e-03 1.10083400e-03 1.06730606e-03\n",
      " 1.03454987e-03 1.00255348e-03 9.71305059e-04 9.40792858e-04\n",
      " 9.11005221e-04 8.81930587e-04 8.53557485e-04 8.25874539e-04\n",
      " 7.98870467e-04 7.72534078e-04 7.46854275e-04 7.21820053e-04\n",
      " 6.97420502e-04 6.73644803e-04 6.50482231e-04 6.27922154e-04\n",
      " 6.05954032e-04 5.84567419e-04 5.63751962e-04 5.43497400e-04\n",
      " 5.23793567e-04 5.04630388e-04 4.85997881e-04 4.67886159e-04\n",
      " 4.50285426e-04 4.33185979e-04 4.16578210e-04 4.00452602e-04\n",
      " 3.84799731e-04 3.69610268e-04 3.54874975e-04 3.40584708e-04\n",
      " 3.26730415e-04 3.13303137e-04 3.00294011e-04 2.87694262e-04\n",
      " 2.75495212e-04 2.63688274e-04 2.52264955e-04 2.41216855e-04\n",
      " 2.30535666e-04 2.20213174e-04 2.10241256e-04 2.00611886e-04\n",
      " 1.91317127e-04 1.82349136e-04 1.73700165e-04 1.65362557e-04\n",
      " 1.57328749e-04 1.49591270e-04 1.42142742e-04 1.34975881e-04\n",
      " 1.28083495e-04 1.21458487e-04 1.15093850e-04 1.08982672e-04\n",
      " 1.03118134e-04 9.74935082e-05 9.21021622e-05 8.69375549e-05\n",
      " 8.19932390e-05 7.72628598e-05 7.27401559e-05 6.84189585e-05\n",
      " 6.42931921e-05 6.03568743e-05 5.66041152e-05 5.30291185e-05\n",
      " 4.96261804e-05 4.63896904e-05 4.33141308e-05 4.03940770e-05\n",
      " 3.76241975e-05 3.49992535e-05 3.25140994e-05 3.01636825e-05\n",
      " 2.79430433e-05 2.58473151e-05 2.38717241e-05 2.20115898e-05\n",
      " 2.02623244e-05 1.86194332e-05 1.70785146e-05 1.56352598e-05\n",
      " 1.42854532e-05 1.30249721e-05 1.18497866e-05 1.07559602e-05\n",
      " 9.73964896e-06 8.79710229e-06 7.92466239e-06 7.11876452e-06\n",
      " 6.37593692e-06 5.69280082e-06 5.06607045e-06 4.49255304e-06\n",
      " 3.96914881e-06 3.49285095e-06 3.06074568e-06 2.67001219e-06\n",
      " 2.31792267e-06 2.00184230e-06 1.71922927e-06 1.46763474e-06\n",
      " 1.24470288e-06 1.04817085e-06 8.75868793e-07 7.25719857e-07\n",
      " 5.95740181e-07 4.84038897e-07 3.88818130e-07 3.08373000e-07\n",
      " 2.41091618e-07 1.85455091e-07 1.40037518e-07 1.03505991e-07\n",
      " 7.46205984e-08 5.22344189e-08 3.52935263e-08 2.28369876e-08\n",
      " 1.39968634e-08 7.99820763e-09 4.15906797e-09 1.89048544e-09\n",
      " 6.96494636e-10 0.00000000e+00 0.00000000e+00 0.00000000e+00\n",
      " 0.00000000e+00 0.00000000e+00 0.00000000e+00 0.00000000e+00\n",
      " 0.00000000e+00 0.00000000e+00 0.00000000e+00 0.00000000e+00\n",
      " 0.00000000e+00 0.00000000e+00 0.00000000e+00 0.00000000e+00\n",
      " 0.00000000e+00 0.00000000e+00 0.00000000e+00 0.00000000e+00\n",
      " 0.00000000e+00 0.00000000e+00 0.00000000e+00 0.00000000e+00\n",
      " 0.00000000e+00 0.00000000e+00 0.00000000e+00 0.00000000e+00\n",
      " 0.00000000e+00 0.00000000e+00 0.00000000e+00 0.00000000e+00\n",
      " 0.00000000e+00 0.00000000e+00 0.00000000e+00 0.00000000e+00\n",
      " 0.00000000e+00 0.00000000e+00 0.00000000e+00 0.00000000e+00]\n",
      "Done\n"
     ]
    }
   ],
   "source": [
    "######################################################### new\n",
    "# for every uniq setting i\n",
    "for i in tqdm(range(0,data_key.shape[0])):\n",
    "# for i in tqdm(range(0,10)):\n",
    "\n",
    "    # get i_th data_key\n",
    "    key_i = get_key_from_index(i)\n",
    "    # print(key_i)\n",
    "    data_i = select_data_fromkey(key_i)\n",
    "    data_i.reset_index(drop=True,inplace=True)\n",
    "\n",
    "    # Get params\n",
    "    v = float(data_i['retail'].unique())            # retail price = valuation\n",
    "    d = float(data_i['bidincrement'].unique())      # bid increment\n",
    "    b = float(data_i['bidfee'].unique())            # bid fee\n",
    "    T_i = int((v-b)/d)                              # duration limitation\n",
    "\n",
    "    # key_i_str = get_key_from_index(i,\"str\")         # key for P\n",
    "\n",
    "    # solve for U\n",
    "    U = [0] * (T_i + 1)                               # the prob. that someone offers a bid in t_th round\n",
    "    U[0] = 1\n",
    "    for t in range(1,T_i+1):\n",
    "        U[t] = 1.0-b/(v-d*(t-1))\n",
    "\n",
    "    # decide whether set threshold or not\n",
    "    if (threshold_flag != 1):\n",
    "        K = T_i\n",
    "\n",
    "    # solve for P\n",
    "    p = np.array([0.0]*(K))\n",
    "    tmp = np.array([0.0]*(K+3))                         # tmp的大小不需要太精确\n",
    "    tmp[0] = 1.0\n",
    "\n",
    "    # solve for P\n",
    "    if((K+1) > T_i):                                    # threshold>T_i时，补零\n",
    "        for t in range(0,T_i):\n",
    "            tmp[t+1] = tmp[t]*U[t]                      # tmp[t]存了到(t-1)的连乘积\n",
    "            p[t] = (1-U[t+1])*tmp[t+1]\n",
    "        print(p)\n",
    "\n",
    "    elif((K+1) == T_i):                                 # threshold==T_i时\n",
    "        for t in range(0,K):\n",
    "            tmp[t+1] = tmp[t]*U[t]                      # tmp[t]存了到(t-1)的连乘积\n",
    "            p[t] = (1-U[t+1])*tmp[t+1]\n",
    "        p[K-1] = 1-sum(p)\n",
    "\n",
    "    elif((K+1) < T_i):                              # threshold<T_i时，归一化\n",
    "        for t in range(0,K):\n",
    "            tmp[t+1] = tmp[t]*U[t]                      # tmp[t]存了到(t-1)的连乘积\n",
    "            p[t] = (1-U[t+1])*tmp[t+1]\n",
    "\n",
    "        # 归一化\n",
    "        scale_sum = np.sum(p)\n",
    "        p = p/scale_sum\n",
    "\n",
    "    else:\n",
    "        print(\"Undecided yet. Waiting to be completed.\")\n",
    "\n",
    "    # concat df P\n",
    "    pd_tmp = pd.DataFrame(data=[[d,b,v]])\n",
    "    pd_tmp = pd.concat([pd_tmp,pd.DataFrame(p).T],axis=1)\n",
    "    pd_tmp.columns = col_names\n",
    "    P = pd.concat([P,pd_tmp],ignore_index=True)\n",
    "    # draw\n",
    "\n",
    "    if(plot_flag& (i%10 == 0)):\n",
    "        viz.line(p,np.arange(0,p.shape[0]),win = 'P_'+str(i),env=env_str, opts= dict(title = f'P_{i}_v={v}_b={b}_d={d}'))\n",
    "\n",
    "print(\"Done\")"
   ],
   "metadata": {
    "collapsed": false
   }
  },
  {
   "cell_type": "markdown",
   "metadata": {},
   "source": [
    "# 3. Output ans save\n",
    "1. 每个unique setting对应着一组keys + 一个distrb"
   ]
  },
  {
   "cell_type": "code",
   "execution_count": 58,
   "metadata": {},
   "outputs": [],
   "source": [
    "filename_P = data_path_root + filename_head + str(K) + filename_tail\n",
    "col_names = ['bidincrement','bidfee','retail','P']"
   ]
  },
  {
   "cell_type": "code",
   "execution_count": 59,
   "outputs": [
    {
     "name": "stdout",
     "output_type": "stream",
     "text": [
      "../../data/info_asymm/results/asc_symmetry/GT_asc_symmetry_P2_K=300.csv\n",
      "DONE\n"
     ]
    }
   ],
   "source": [
    "# 保存整个环境\n",
    "if(plot_flag):\n",
    "    viz.save(envs=[env_str])\n",
    "P.to_csv(filename_P,header=True,index=False,encoding=\"utf-8\")\n",
    "print(filename_P)\n",
    "print(\"DONE\")"
   ],
   "metadata": {
    "collapsed": false
   }
  },
  {
   "cell_type": "code",
   "execution_count": 63,
   "outputs": [
    {
     "data": {
      "text/plain": "((605, 303), 0)"
     },
     "execution_count": 63,
     "metadata": {},
     "output_type": "execute_result"
    }
   ],
   "source": [
    "P.shape,np.sum(np.sum(pd.isna(P)))\n"
   ],
   "metadata": {
    "collapsed": false
   }
  },
  {
   "cell_type": "markdown",
   "metadata": {},
   "source": [
    "# 4. Test and Plot\n",
    "## 4.1 plot\n",
    "1. 根据指定的index进行画图，"
   ]
  },
  {
   "cell_type": "code",
   "execution_count": null,
   "metadata": {
    "pycharm": {
     "is_executing": true
    }
   },
   "outputs": [],
   "source": [
    "index_i = 28\n",
    "key_i_forplot =  get_key_from_index(index_i)\n",
    "\n",
    "plt.xlabel(\"Duration n\")\n",
    "plt.ylabel(\"The density p\")\n",
    "plt.title(\"bid increment={0}, bid fee={1}, retail={2}, Q={3}, K={4}\".format(float(key_i_forplot[0])*0.01,float(key_i_forplot[1]),key_i_forplot[2],Q[key_i_forplot],K))\n",
    "\n",
    "ax = sns.barplot(x = np.arange(0,len(P[key_i_forplot])),y=P[key_i_forplot])\n",
    "\n",
    "# 设置刻度\n",
    "steps_xaxis = np.arange(0, Q[index_i], step=steps_xaxis)\n",
    "plt.xticks(steps_xaxis,steps_xaxis,rotation=30)\n",
    "\n",
    "plt.show()\n",
    "print(\"Plot is DONE\")"
   ]
  }
 ],
 "metadata": {
  "kernelspec": {
   "display_name": "Python 3",
   "language": "python",
   "name": "python3"
  },
  "language_info": {
   "codemirror_mode": {
    "name": "ipython",
    "version": 3
   },
   "file_extension": ".py",
   "mimetype": "text/x-python",
   "name": "python",
   "nbconvert_exporter": "python",
   "pygments_lexer": "ipython3",
   "version": "3.7.0"
  },
  "toc": {
   "base_numbering": 1,
   "nav_menu": {
    "height": "212px",
    "width": "411px"
   },
   "number_sections": false,
   "sideBar": true,
   "skip_h1_title": false,
   "title_cell": "Table of Contents",
   "title_sidebar": "Contents",
   "toc_cell": false,
   "toc_position": {},
   "toc_section_display": true,
   "toc_window_display": false
  },
  "varInspector": {
   "cols": {
    "lenName": 16,
    "lenType": 16,
    "lenVar": 40
   },
   "kernels_config": {
    "python": {
     "delete_cmd_postfix": "",
     "delete_cmd_prefix": "del ",
     "library": "var_list.py",
     "varRefreshCmd": "print(var_dic_list())"
    },
    "r": {
     "delete_cmd_postfix": ") ",
     "delete_cmd_prefix": "rm(",
     "library": "var_list.r",
     "varRefreshCmd": "cat(var_dic_list()) "
    }
   },
   "types_to_exclude": [
    "module",
    "function",
    "builtin_function_or_method",
    "instance",
    "_Feature"
   ],
   "window_display": false
  }
 },
 "nbformat": 4,
 "nbformat_minor": 1
}
