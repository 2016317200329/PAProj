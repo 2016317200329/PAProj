{
 "cells": [
  {
   "cell_type": "code",
   "execution_count": 2,
   "metadata": {
    "collapsed": true
   },
   "outputs": [],
   "source": [
    "#!/usr/bin/env python\n",
    "# -*- coding: utf-8 -*-\n",
    "# @Time    : 2022/9/26 22:24\n",
    "# @Author  : Wang Yujia\n",
    "# @File    : GT_asc_symmetry_gen.ipynb\n",
    "# @Description : 根据GT_asc_symmetry_gen_demo.ipynb，计算ascending-price auction的data。ref：信息不对称的paper里symmetry的情况。"
   ]
  },
  {
   "cell_type": "markdown",
   "metadata": {},
   "source": [
    "# 0. what for\n",
    "1. 在`GT_asc_symmetry_gen_demo.ipynb`上实验过的思路，现在automatically执行一下，输入所有的auction setting，得到相应的输出\n",
    "2. **Steps**：\n",
    "    - collect GT计算需要的features: `features_GT`，记得给target data留一个flag:`unique_setting`\n",
    "        - features_GT = ['bidincrement','bidfee','retail']\n",
    "        - unique_setting = ['product_id', 'bidincrement', 'bidfee','retail']\n",
    "    - 根据`features_GT`计算GT预测的结果`n`和`p`"
   ]
  },
  {
   "cell_type": "code",
   "execution_count": 1,
   "metadata": {},
   "outputs": [],
   "source": [
    "# 经过threshold==16 filter之后，得到的dataset\n",
    "data_selected_path = \"../../data/info_asymm/datawithnp_asc_symmetry_2_selected.csv\"\n",
    "data_key_path = \"../../data/info_asymm/data_key_GT_2.csv\"\n",
    "\n",
    "# output path\n",
    "data_path_root = \"../../data/info_asymm/results/asc_symmetry/\"\n",
    "# target data is from method-2\n",
    "filename_head = \"GT_asc_symmetry_P2_K=\"\n",
    "filename_tail = \".csv\"\n",
    "\n",
    "# GT计算需要的features\n",
    "# 实际上不需要'product_id'这个属性。对于GT来说'retail'就足以反映product信息\n",
    "features_GT = ['bidincrement','bidfee','retail']\n",
    "\n",
    "# threshold\n",
    "K=300\n",
    "\n",
    "import numpy as np\n",
    "#import cupy as np\n",
    "import pandas as pd\n",
    "import csv\n",
    "import seaborn as sns\n",
    "import matplotlib.pyplot as plt\n",
    "from tqdm.notebook import tqdm\n",
    "from visdom import Visdom"
   ]
  },
  {
   "cell_type": "markdown",
   "source": [
    "# 1. Preparations\n",
    "## 1.1 全局设置"
   ],
   "metadata": {
    "collapsed": false
   }
  },
  {
   "cell_type": "markdown",
   "metadata": {},
   "source": [
    "## 1.2 读取data\n",
    "1. data and the keys"
   ]
  },
  {
   "cell_type": "code",
   "execution_count": 2,
   "metadata": {},
   "outputs": [
    {
     "name": "stdout",
     "output_type": "stream",
     "text": [
      "For symmetry GT model in ascending-price auctions, there are *600* settings waiting to be inferred.\n"
     ]
    }
   ],
   "source": [
    "data = pd.read_csv(data_selected_path, encoding=\"utf-8\")\n",
    "\n",
    "data_key = data[features_GT].copy()\n",
    "data_key.drop_duplicates(inplace=True,ignore_index=True)\n",
    "data_key.to_csv(data_key_path,header=True, encoding=\"utf-8\",index=False)\n",
    "\n",
    "# 之前是612\n",
    "print(\"For symmetry GT model in ascending-price auctions, there are *{}* settings waiting to be inferred.\".format(data_key.shape[0]))"
   ]
  },
  {
   "cell_type": "markdown",
   "source": [
    "## 1.3 functions about 'key'"
   ],
   "metadata": {
    "collapsed": false
   }
  },
  {
   "cell_type": "code",
   "execution_count": 3,
   "outputs": [],
   "source": [
    "# get key from i in 'data_key'\n",
    "def get_key_from_index(i,flag=\"NotStr\"):\n",
    "    if(flag == \"str\"):\n",
    "        key_i = list(data_key.iloc[i,:])\n",
    "        key_i_str = (str(key_i[0]),str(key_i[1]),str(key_i[2]))\n",
    "        return key_i_str\n",
    "    else:\n",
    "        key_i = data_key.iloc[i,:]\n",
    "        return key_i\n",
    "\n",
    "#features_GT = ['bidincrement','bidfee','retail']\n",
    "def select_data_fromkey(key_i_str):\n",
    "    return data[(data['bidincrement'] == key_i_str[0]) & (data['bidfee'] == key_i_str[1]) & (data['retail'] == key_i_str[2])].copy()"
   ],
   "metadata": {
    "collapsed": false
   }
  },
  {
   "cell_type": "markdown",
   "metadata": {},
   "source": [
    "# 2. U&P\n",
    "1. For ascending-price, there is $n \\leq Q $\n",
    "2. 根据公式可知`U[key][0]`不存在，指定为1，方便后续`P`的计算\n",
    "3. `U[key][j]`表示在某一个setting下：\n",
    "> The probability that somebody makes the jth bid (given that j − 1 previous bids have been made)\n",
    "4. `P`作为一个**dict**，它的key是`features_GT`,每一个key对应一个大小为(T+1)的list.\n",
    "5. 由于threshold的存在，`P[key_i]`的大小设置为`K+1`，其中`p[key_i][K]`记录的是sum(P[i]) when i > K\n",
    "    - 如果threshold> T_i，则用0padding"
   ]
  },
  {
   "cell_type": "code",
   "execution_count": 214,
   "outputs": [
    {
     "name": "stdout",
     "output_type": "stream",
     "text": [
      "Done\n"
     ]
    }
   ],
   "source": [
    "# whether set threshold or not\n",
    "threshold_flag = 1\n",
    "plot_flag = 0\n",
    "\n",
    "K = 300\n",
    "col_names = ['bidincrement','bidfee','retail']\n",
    "tmp = np.arange(0,K)\n",
    "tmp_str = [str(x) for x in tmp]\n",
    "col_names.extend(tmp_str)\n",
    "\n",
    "P = pd.DataFrame(columns=col_names)\n",
    "\n",
    "if(plot_flag):\n",
    "    env_str = 'P_GT-1_threshold'\n",
    "    viz = Visdom(env=env_str)\n",
    "print(\"Done\")"
   ],
   "metadata": {
    "collapsed": false
   }
  },
  {
   "cell_type": "markdown",
   "source": [
    "6. 想对比归一化的区别：可以把第一个elif的条件改了\n",
    "7. **`P[i]`表示`duration=i+1`的概率，i从0开始计数**"
   ],
   "metadata": {
    "collapsed": false
   }
  },
  {
   "cell_type": "code",
   "execution_count": 215,
   "outputs": [
    {
     "data": {
      "text/plain": "  0%|          | 0/600 [00:00<?, ?it/s]",
      "application/vnd.jupyter.widget-view+json": {
       "version_major": 2,
       "version_minor": 0,
       "model_id": "4faaeb4cae00435082ec99132ad8328e"
      }
     },
     "metadata": {},
     "output_type": "display_data"
    },
    {
     "name": "stdout",
     "output_type": "stream",
     "text": [
      "Done\n"
     ]
    }
   ],
   "source": [
    "######################################################### new\n",
    "# for every uniq setting i\n",
    "for i in tqdm(range(0,data_key.shape[0])):\n",
    "\n",
    "    # get i_th data_key\n",
    "    key_i = get_key_from_index(i)\n",
    "    # print(key_i)\n",
    "    data_i = select_data_fromkey(key_i)\n",
    "    data_i.reset_index(drop=True,inplace=True)\n",
    "\n",
    "    # Get params\n",
    "    v = float(data_i['retail'].unique())            # retail price = valuation\n",
    "    d = float(data_i['bidincrement'].unique())      # bid increment\n",
    "    b = float(data_i['bidfee'].unique())            # bid fee\n",
    "    T_i = int((v-b)/d)                              # duration limitation\n",
    "\n",
    "    # key_i_str = get_key_from_index(i,\"str\")         # key for P\n",
    "\n",
    "    # solve for U\n",
    "    U = [0] * (T_i + 1)                               # the prob. that someone offers a bid in t_th round\n",
    "    U[0] = 1\n",
    "    for t in range(1,T_i+1):\n",
    "        U[t] = 1.0-b/(v-d*(t-1))\n",
    "\n",
    "    # decide whether set threshold or not\n",
    "    if (threshold_flag != 1):\n",
    "        K = T_i\n",
    "\n",
    "    # solve for P\n",
    "    p = np.array([0.0]*(K))\n",
    "    tmp = np.array([0.0]*(K+3))                # tmp的大小不需要太精确\n",
    "    tmp[0] = 1.0\n",
    "\n",
    "    # solve for P\n",
    "    if((K+1) > T_i):                                # threshold>T_i时，补零\n",
    "        for t in range(0,T_i):\n",
    "            tmp[t+1] = tmp[t]*U[t]                      # tmp[t]存了到(t-1)的连乘积\n",
    "            p[t] = (1-U[t+1])*tmp[t+1]\n",
    "\n",
    "    elif((K+1) == T_i):                              # threshold==T_i时\n",
    "        for t in range(0,K):\n",
    "            tmp[t+1] = tmp[t]*U[t]                      # tmp[t]存了到(t-1)的连乘积\n",
    "            p[t] = (1-U[t+1])*tmp[t+1]\n",
    "        p[K] = 1-sum(p)\n",
    "\n",
    "    elif((K+1) < T_i):                              # threshold<T_i时，归一化\n",
    "        for t in range(0,K):                          # 注意是k+1不是k\n",
    "            tmp[t+1] = tmp[t]*U[t]                      # tmp[t]存了到(t-1)的连乘积\n",
    "            p[t] = (1-U[t+1])*tmp[t+1]\n",
    "        scale_sum = np.sum(p)\n",
    "        p = p/scale_sum\n",
    "\n",
    "    else:\n",
    "        assert 1==1, \"Undecided yet. Waiting to be completed.\"\n",
    "        # print(\"Undecided yet. Waiting to be completed.\")\n",
    "\n",
    "    # concat df P\n",
    "    pd_tmp = pd.DataFrame(data=[[d,b,v]])\n",
    "    pd_tmp = pd.concat([pd_tmp,pd.DataFrame(p).T],axis=1)\n",
    "    pd_tmp.columns = col_names\n",
    "    P = P.append(pd_tmp,ignore_index=True)\n",
    "\n",
    "    # draw\n",
    "\n",
    "    if(plot_flag& (i%10 == 0)):\n",
    "        viz.line(p,np.arange(0,p.shape[0]),win = 'P_'+str(i),env=env_str,\n",
    "                 opts= dict(title = f'P_{i}_v={v}_b={b}_d={d}'))\n",
    "\n",
    "print(\"Done\")"
   ],
   "metadata": {
    "collapsed": false
   }
  },
  {
   "cell_type": "markdown",
   "metadata": {},
   "source": [
    "# 3. Dict Output\n",
    "1. 每个unique setting对应着一组keys + 一个distrb"
   ]
  },
  {
   "cell_type": "code",
   "execution_count": 216,
   "metadata": {},
   "outputs": [],
   "source": [
    "filename_P = data_path_root + filename_head + str(K) + filename_tail\n",
    "col_names = ['bidincrement','bidfee','retail','P']"
   ]
  },
  {
   "cell_type": "code",
   "execution_count": 217,
   "outputs": [
    {
     "name": "stdout",
     "output_type": "stream",
     "text": [
      "DONE\n"
     ]
    }
   ],
   "source": [
    "# 保存整个环境\n",
    "if(plot_flag):\n",
    "    viz.save(envs=[env_str])\n",
    "P.to_csv(filename_P,header=True,index=False,encoding=\"utf-8\")\n",
    "print(\"DONE\")"
   ],
   "metadata": {
    "collapsed": false
   }
  },
  {
   "cell_type": "code",
   "execution_count": 218,
   "outputs": [
    {
     "data": {
      "text/plain": "(600, 303)"
     },
     "execution_count": 218,
     "metadata": {},
     "output_type": "execute_result"
    }
   ],
   "source": [
    "P.shape"
   ],
   "metadata": {
    "collapsed": false
   }
  },
  {
   "cell_type": "markdown",
   "metadata": {},
   "source": [
    "# 4. Test and Plot\n",
    "## 4.1 plot\n",
    "1. 根据指定的index进行画图，"
   ]
  },
  {
   "cell_type": "code",
   "execution_count": null,
   "metadata": {
    "pycharm": {
     "is_executing": true
    }
   },
   "outputs": [],
   "source": [
    "index_i = 28\n",
    "key_i_forplot =  get_key_from_index(index_i)\n",
    "\n",
    "plt.xlabel(\"Duration n\")\n",
    "plt.ylabel(\"The density p\")\n",
    "plt.title(\"bid increment={0}, bid fee={1}, retail={2}, Q={3}, K={4}\".format(float(key_i_forplot[0])*0.01,float(key_i_forplot[1]),key_i_forplot[2],Q[key_i_forplot],K))\n",
    "\n",
    "ax = sns.barplot(x = np.arange(0,len(P[key_i_forplot])),y=P[key_i_forplot])\n",
    "\n",
    "# 设置刻度\n",
    "steps_xaxis = np.arange(0, Q[index_i], step=steps_xaxis)\n",
    "plt.xticks(steps_xaxis,steps_xaxis,rotation=30)\n",
    "\n",
    "plt.show()\n",
    "print(\"Plot is DONE\")"
   ]
  }
 ],
 "metadata": {
  "kernelspec": {
   "display_name": "Python 3",
   "language": "python",
   "name": "python3"
  },
  "language_info": {
   "codemirror_mode": {
    "name": "ipython",
    "version": 3
   },
   "file_extension": ".py",
   "mimetype": "text/x-python",
   "name": "python",
   "nbconvert_exporter": "python",
   "pygments_lexer": "ipython3",
   "version": "3.7.0"
  },
  "toc": {
   "base_numbering": 1,
   "nav_menu": {
    "height": "212px",
    "width": "411px"
   },
   "number_sections": false,
   "sideBar": true,
   "skip_h1_title": false,
   "title_cell": "Table of Contents",
   "title_sidebar": "Contents",
   "toc_cell": false,
   "toc_position": {},
   "toc_section_display": true,
   "toc_window_display": false
  },
  "varInspector": {
   "cols": {
    "lenName": 16,
    "lenType": 16,
    "lenVar": 40
   },
   "kernels_config": {
    "python": {
     "delete_cmd_postfix": "",
     "delete_cmd_prefix": "del ",
     "library": "var_list.py",
     "varRefreshCmd": "print(var_dic_list())"
    },
    "r": {
     "delete_cmd_postfix": ") ",
     "delete_cmd_prefix": "rm(",
     "library": "var_list.r",
     "varRefreshCmd": "cat(var_dic_list()) "
    }
   },
   "types_to_exclude": [
    "module",
    "function",
    "builtin_function_or_method",
    "instance",
    "_Feature"
   ],
   "window_display": false
  }
 },
 "nbformat": 4,
 "nbformat_minor": 1
}
