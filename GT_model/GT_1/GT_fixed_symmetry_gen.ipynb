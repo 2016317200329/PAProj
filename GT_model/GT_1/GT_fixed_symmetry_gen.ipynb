{
 "cells": [
  {
   "cell_type": "code",
   "execution_count": 52,
   "metadata": {
    "collapsed": true
   },
   "outputs": [],
   "source": [
    "#!/usr/bin/env python\n",
    "# -*- coding: utf-8 -*-\n",
    "# @Time    : 2022/9/30 09:23\n",
    "# @Author  : Wang Yujia\n",
    "# @File    : GT_fixed_symmetry_gen.ipynb\n",
    "# @Description : 根据GT_fixed_symmetry_gen_demo.ipynb，计算fixed-price auction的data。ref：信息不对称的paper里symmetry的情况。"
   ]
  },
  {
   "cell_type": "markdown",
   "source": [
    "# 0. what for\n",
    "1. 在`GT_fixed_symmetry_gen_demo.ipynb`上实验过的思路，现在一次性输入所有的auction settings，得到相应的输出\n",
    "2. **Steps**：\n",
    "    - collect GT计算需要的features: `features_GT`，NN需要的features：`unique_setting`\n",
    "        - features_GT = ['bidfee','retail','finalprice']\n",
    "        - unique_setting = ['product_id', 'bidincrement', 'bidfee','retail','finalprice'] *[Unsure for now]*\n",
    "        - Note：对于GT来说可能会出现不同的商品对应同样的retail，需要把他们当做不同的商品处理。GT并不在意是什么商品，只是在意`retail`大小\n",
    "    - 根据`features_GT`计算GT预测的结果`n`和`p`"
   ],
   "metadata": {
    "collapsed": false
   }
  },
  {
   "cell_type": "markdown",
   "source": [
    "# 1. Preparations\n",
    "## 1.1 全局设置"
   ],
   "metadata": {
    "collapsed": false
   }
  },
  {
   "cell_type": "code",
   "execution_count": 9,
   "outputs": [],
   "source": [
    "\n",
    "data_selected_path = \"../../data/info_asymm/datawithnp_fixed_symmetry_selected.csv\"\n",
    "# data_key_path\n",
    "data_key_path = \"../../data/info_asymm/data_key_GT_1_fixed.csv\"\n",
    "\n",
    "# output path\n",
    "data_path_root = \"../../data/info_asymm/results/fixed_symmetry/\"\n",
    "# target data is from method-2\n",
    "filename_head = \"GT_fixed_symmetry_P2_K=\"\n",
    "filename_tail = \".csv\"\n",
    "\n",
    "# GT计算需要的features\n",
    "features_GT = ['bidincrement','bidfee','retail']\n",
    "\n",
    "import numpy as np\n",
    "import pandas as pd\n",
    "import csv\n",
    "import seaborn as sns\n",
    "import matplotlib.pyplot as plt\n",
    "from matplotlib.pyplot import MultipleLocator # 用于设置刻度间隔\n",
    "from visdom import Visdom\n",
    "from tqdm import tqdm"
   ],
   "metadata": {
    "collapsed": false
   }
  },
  {
   "cell_type": "markdown",
   "source": [
    "## 1.2 读取data"
   ],
   "metadata": {
    "collapsed": false
   }
  },
  {
   "cell_type": "code",
   "execution_count": 4,
   "outputs": [
    {
     "name": "stdout",
     "output_type": "stream",
     "text": [
      "For symmetry GT model in constant-price auctions, there are *22* settings waiting to be inferred.\n"
     ]
    }
   ],
   "source": [
    "data = pd.read_csv(data_selected_path, encoding=\"utf-8\")\n",
    "\n",
    "data_key = data[features_GT].copy()\n",
    "data_key.drop_duplicates(inplace=True,ignore_index=True)\n",
    "data_key.to_csv(data_key_path,header=True, encoding=\"utf-8\",index=False)\n",
    "\n",
    "print(\"For symmetry GT model in constant-price auctions, there are *{}* settings waiting to be inferred.\".format(data_key.shape[0]))"
   ],
   "metadata": {
    "collapsed": false
   }
  },
  {
   "cell_type": "markdown",
   "source": [
    "## 1.3 functions about 'key'"
   ],
   "metadata": {
    "collapsed": false
   }
  },
  {
   "cell_type": "code",
   "execution_count": 5,
   "outputs": [],
   "source": [
    "# get key from i in 'data_key'\n",
    "def get_key_from_index(i,flag=\"NotStr\"):\n",
    "    if(flag == \"str\"):\n",
    "        key_i = list(data_key.iloc[i,:])\n",
    "        key_i_str = (str(key_i[0]),str(key_i[1]),str(key_i[2]))\n",
    "        return key_i_str\n",
    "    else:\n",
    "        key_i = data_key.iloc[i,:]\n",
    "        return key_i\n",
    "\n",
    "#features_GT = ['bidincrement','bidfee','retail']\n",
    "def select_data_fromkey(key_i_str):\n",
    "    return data[(data['bidincrement'] == key_i_str[0]) & (data['bidfee'] == key_i_str[1]) & (data['retail'] == key_i_str[2])].copy()"
   ],
   "metadata": {
    "collapsed": false
   }
  },
  {
   "cell_type": "markdown",
   "source": [
    "# 2. U&P\n",
    "1. For fixed-price, there is $Q = inf $\n",
    "2. `U[key][0]`初始化为1，方便后续`P`的计算\n",
    "3. `U[key][j]`表示在某一个setting下：\n",
    "> The probability that somebody makes the jth bid (given that j − 1 previous bids have been made)\n",
    "4. `P`作为一个**dict**，它的key是`features_GT`,每一个key对应一个大小为(T+1)的list.\n",
    "5. 由于threshold的存在，`P[key_i]`的大小设置为`K+1`，其中`p[key_i][K]`记录的是sum(P[i]) when i > K\n",
    "    - 如果threshold> T_i，则用0padding"
   ],
   "metadata": {
    "collapsed": false
   }
  },
  {
   "cell_type": "code",
   "execution_count": 7,
   "outputs": [
    {
     "name": "stdout",
     "output_type": "stream",
     "text": [
      "Done\n"
     ]
    }
   ],
   "source": [
    "# whether set threshold or not\n",
    "threshold_flag = 1\n",
    "plot_flag = 0\n",
    "\n",
    "K = 300\n",
    "col_names = ['bidincrement','bidfee','retail']\n",
    "tmp = np.arange(0,K)\n",
    "tmp_str = [str(x) for x in tmp]\n",
    "col_names.extend(tmp_str)\n",
    "\n",
    "P = pd.DataFrame(columns=col_names)\n",
    "\n",
    "if(plot_flag):\n",
    "    env_str = 'P_GT-1_threshold'\n",
    "    viz = Visdom(env=env_str)\n",
    "print(\"Done\")"
   ],
   "metadata": {
    "collapsed": false
   }
  },
  {
   "cell_type": "markdown",
   "source": [
    "6. 想对比归一化的区别：可以把第一个elif的条件改了\n",
    "7. **`P[i]`表示`duration=i+1`的概率，i从0开始计数**"
   ],
   "metadata": {
    "collapsed": false
   }
  },
  {
   "cell_type": "code",
   "execution_count": 10,
   "outputs": [
    {
     "name": "stderr",
     "output_type": "stream",
     "text": [
      "100%|██████████| 22/22 [00:00<00:00, 453.61it/s]"
     ]
    },
    {
     "name": "stdout",
     "output_type": "stream",
     "text": [
      "Done\n",
      "0\n"
     ]
    },
    {
     "name": "stderr",
     "output_type": "stream",
     "text": [
      "\n"
     ]
    }
   ],
   "source": [
    "######################################################### new\n",
    "# for every uniq setting i\n",
    "cnt = 0\n",
    "for i in tqdm(range(0,data_key.shape[0])):\n",
    "# for i in tqdm(range(8,10)):\n",
    "\n",
    "    # get i_th data_key\n",
    "    key_i = get_key_from_index(i)\n",
    "    # print(key_i)\n",
    "    data_i = select_data_fromkey(key_i)\n",
    "    data_i.reset_index(drop=True,inplace=True)\n",
    "\n",
    "    # Get params\n",
    "    v = float(data_i['retail'].unique())            # retail price = valuation\n",
    "    d = float(data_i['bidincrement'].unique())      # bid increment\n",
    "    b = float(data_i['bidfee'].unique())            # bid fee\n",
    "    T_i = int((v-b)/d)                              # duration limitation\n",
    "\n",
    "    # key_i_str = get_key_from_index(i,\"str\")         # key for P\n",
    "\n",
    "    # solve for U\n",
    "    U = [0] * (T_i + 1)                               # the prob. that someone offers a bid in t_th round\n",
    "    U[0] = 1\n",
    "    for t in range(1,len(U)):\n",
    "        U[t] = 1.0-(b/(v-d*(t-1)))\n",
    "        assert U[t]>=0, \"U[t]<0 when t ={},and b = {},v = {}, d = {}\".format(t,b,v,d)\n",
    "\n",
    "    # decide whether set threshold or not\n",
    "    if (threshold_flag != 1):\n",
    "        K = T_i\n",
    "\n",
    "    # solve for P\n",
    "    p = np.array([0.0]*(K))\n",
    "    tmp = np.array([0.0]*(K+3))                         # tmp的大小不需要太精确\n",
    "    tmp[0] = 1.0\n",
    "\n",
    "    # solve for P\n",
    "    if((K+1) > T_i):                                    # threshold>T_i时，补零\n",
    "        cnt += 1\n",
    "        for t in range(0,T_i):\n",
    "            tmp[t+1] = tmp[t]*U[t]                      # tmp[t]存了到(t-1)的连乘积\n",
    "            p[t] = (1-U[t+1])*tmp[t+1]\n",
    "            print(p[t])\n",
    "        assert np.min(p) >= 0, \"A: in {}, p<0, when b = {},v = {}, d = {}\".format(i,b,v,d)\n",
    "\n",
    "    elif((K+1) == T_i):                                 # threshold==T_i时\n",
    "        for t in range(0,K):\n",
    "            tmp[t+1] = tmp[t]*U[t]                      # tmp[t]存了到(t-1)的连乘积\n",
    "            p[t] = (1-U[t+1])*tmp[t+1]\n",
    "        p[K-1] = 1-sum(p)\n",
    "        assert np.min(p) >= 0, \"B: in {}, p<0, when b = {},v = {}, d = {}\".format(i,b,v,d)\n",
    "\n",
    "    elif((K+1) < T_i):                              # threshold<T_i时，归一化\n",
    "        for t in range(0,K):\n",
    "            tmp[t+1] = tmp[t]*U[t]                      # tmp[t]存了到(t-1)的连乘积\n",
    "            p[t] = (1-U[t+1])*tmp[t+1]\n",
    "        assert np.min(p) >= 0, \"C: in {}, p<0, when b = {},v = {}, d = {}\".format(i,b,v,d)\n",
    "\n",
    "        # 归一化\n",
    "        scale_sum = np.sum(p)\n",
    "        p = p/scale_sum\n",
    "\n",
    "    else:\n",
    "        print(\"Undecided yet. Waiting to be completed.\")\n",
    "\n",
    "    # concat df P\n",
    "    pd_tmp = pd.DataFrame(data=[[d,b,v]])\n",
    "    pd_tmp = pd.concat([pd_tmp,pd.DataFrame(p).T],axis=1)\n",
    "    pd_tmp.columns = col_names\n",
    "    P = pd.concat([P,pd_tmp],ignore_index=True)\n",
    "    # draw\n",
    "\n",
    "    if(plot_flag& (i%10 == 0)):\n",
    "        viz.line(p,np.arange(0,p.shape[0]),win = 'P_'+str(i),env=env_str, opts= dict(title = f'P_{i}_v={v}_b={b}_d={d}'))\n",
    "\n",
    "print(\"Done\")\n",
    "print(cnt)"
   ],
   "metadata": {
    "collapsed": false
   }
  },
  {
   "cell_type": "markdown",
   "source": [
    "# 3. Output ans save\n",
    "1. 每个unique setting对应着一组keys + 一个distrb"
   ],
   "metadata": {
    "collapsed": false
   }
  },
  {
   "cell_type": "code",
   "source": [
    "filename_P = data_path_root + filename_head + str(K) + filename_tail\n",
    "col_names = ['bidincrement','bidfee','retail','P']"
   ],
   "metadata": {
    "collapsed": false
   },
   "execution_count": 11,
   "outputs": []
  },
  {
   "cell_type": "code",
   "execution_count": 12,
   "outputs": [
    {
     "name": "stdout",
     "output_type": "stream",
     "text": [
      "../../data/info_asymm/results/fixed_symmetry/GT_fixed_symmetry_P2_K=300.csv\n",
      "DONE\n"
     ]
    }
   ],
   "source": [
    "# 保存整个环境\n",
    "if(plot_flag):\n",
    "    viz.save(envs=[env_str])\n",
    "P.to_csv(filename_P,header=True,index=False,encoding=\"utf-8\")\n",
    "print(filename_P)\n",
    "print(\"DONE\")"
   ],
   "metadata": {
    "collapsed": false
   }
  },
  {
   "cell_type": "markdown",
   "source": [
    "# 4. Test and Plot\n",
    "## 4.1 plot\n",
    "1. 根据指定的index进行画图，"
   ],
   "metadata": {
    "collapsed": false
   }
  },
  {
   "cell_type": "code",
   "execution_count": 61,
   "outputs": [
    {
     "data": {
      "text/plain": "<Figure size 432x288 with 1 Axes>",
      "image/png": "[encoded data removed]"
     },
     "metadata": {
      "needs_background": "light"
     },
     "output_type": "display_data"
    },
    {
     "name": "stdout",
     "output_type": "stream",
     "text": [
      "Plot is DONE\n"
     ]
    }
   ],
   "source": [
    "index_i = 28\n",
    "key_i_forplot =  get_key_from_index(index_i)\n",
    "\n",
    "plt.xlabel(\"Duration n\")\n",
    "plt.ylabel(\"The density p\")\n",
    "plt.title(\"bid increment={0}, bid fee={1}, retail={2}, Q={3}, K={4}\".format(float(key_i_forplot[0])*0.01,float(key_i_forplot[1]),key_i_forplot[2],Q[key_i_forplot],K))\n",
    "\n",
    "ax = sns.barplot(x = np.arange(0,len(P[key_i_forplot])),y=P[key_i_forplot])\n",
    "\n",
    "# 设置刻度\n",
    "steps_xaxis = np.arange(0, Q[index_i], step=steps_xaxis)\n",
    "plt.xticks(steps_xaxis,steps_xaxis,rotation=30)\n",
    "\n",
    "plt.show()\n",
    "print(\"Plot is DONE\")"
   ],
   "metadata": {
    "collapsed": false
   }
  }
 ],
 "metadata": {
  "kernelspec": {
   "display_name": "Python 3",
   "language": "python",
   "name": "python3"
  },
  "language_info": {
   "codemirror_mode": {
    "name": "ipython",
    "version": 2
   },
   "file_extension": ".py",
   "mimetype": "text/x-python",
   "name": "python",
   "nbconvert_exporter": "python",
   "pygments_lexer": "ipython2",
   "version": "2.7.6"
  }
 },
 "nbformat": 4,
 "nbformat_minor": 0
}
