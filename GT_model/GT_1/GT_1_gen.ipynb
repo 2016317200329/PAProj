{
 "cells": [
  {
   "cell_type": "markdown",
   "source": [
    "# 0. Intro\n",
    "1. 试图整合fixed和ascending两种拍卖\n",
    "2. 直接输出LEN=300的data\n",
    "\n",
    "# 1. Global settings\n",
    "## 1.1 data path"
   ],
   "metadata": {
    "collapsed": false
   }
  },
  {
   "cell_type": "code",
   "execution_count": 6,
   "outputs": [],
   "source": [
    "LEN = 300\n",
    "ARTIFICIAL = True  # 是否使用的人工数据集\n",
    "\n",
    "# Small dataset\n",
    "data_small_np_path = r'../../data/small_auctions_np.csv'\n",
    "\n",
    "# Large data\n",
    "data_large_np_path = r'E:\\DATA\\large_dta\\large_auctions_np.csv'\n",
    "\n",
    "# auction config\n",
    "settings_NN_path = r\"../data/target_datakey_all.csv\"\n",
    "\n",
    "# output path\n",
    "data_path_root = \"../../data/info_asymm/results/\"\n",
    "# target data is from method-2\n",
    "if ARTIFICIAL:\n",
    "    filename_head = \"GT_1_artificial_LEN=\"\n",
    "else:\n",
    "    filename_head = \"GT_1_LEN=\"\n",
    "filename_tail = \".csv\"\n",
    "\n",
    "# 衡量一场auction是否unique的标志\n",
    "unique_setting_GT = ['bidincrement','bidfee','retail','flg_endprice']\n",
    "unique_setting_NN = ['desc','bidincrement','bidfee','retail','flg_endprice']\n",
    "\n",
    "\n",
    "import numpy as np\n",
    "#import cupy as np\n",
    "import pandas as pd\n",
    "import csv\n",
    "import seaborn as sns\n",
    "import matplotlib.pyplot as plt\n",
    "from tqdm.notebook import tqdm\n",
    "from visdom import Visdom"
   ],
   "metadata": {
    "collapsed": false
   }
  },
  {
   "cell_type": "markdown",
   "source": [
    "## 1.2 read"
   ],
   "metadata": {
    "collapsed": false
   }
  },
  {
   "cell_type": "code",
   "execution_count": 7,
   "outputs": [],
   "source": [
    "data_small = pd.read_csv(data_small_np_path, encoding=\"utf-8\")\n",
    "data_large = pd.read_csv(data_large_np_path, encoding=\"utf-8\")\n",
    "data = pd.concat([data_small,data_large],axis=0,ignore_index=True)\n",
    "\n",
    "data_key = pd.read_csv(settings_NN_path, encoding=\"utf-8\")"
   ],
   "metadata": {
    "collapsed": false
   }
  },
  {
   "cell_type": "markdown",
   "source": [
    "# 2. U&P\n",
    "1. There is $n \\leq T $\n",
    "2. `U[i][0]` is initialized as 1 for convenience .\n",
    "3. `U[i][j]` means：\n",
    "> The probability that somebody makes the jth bid (given that j − 1 previous bids have been made)\n",
    "4. `P` is the final output. `P[i]` represents the probability that auction ends at `duration=i+1`"
   ],
   "metadata": {
    "collapsed": false
   }
  },
  {
   "cell_type": "code",
   "execution_count": 8,
   "outputs": [
    {
     "data": {
      "text/plain": "Empty DataFrame\nColumns: [0, 1, 2, 3, 4, 5, 6, 7, 8, 9, 10, 11, 12, 13, 14, 15, 16, 17, 18, 19, 20, 21, 22, 23, 24, 25, 26, 27, 28, 29, 30, 31, 32, 33, 34, 35, 36, 37, 38, 39, 40, 41, 42, 43, 44, 45, 46, 47, 48, 49, 50, 51, 52, 53, 54, 55, 56, 57, 58, 59, 60, 61, 62, 63, 64, 65, 66, 67, 68, 69, 70, 71, 72, 73, 74, 75, 76, 77, 78, 79, 80, 81, 82, 83, 84, 85, 86, 87, 88, 89, 90, 91, 92, 93, 94, 95, 96, 97, 98, 99, ...]\nIndex: []\n\n[0 rows x 300 columns]",
      "text/html": "<div>\n<style scoped>\n    .dataframe tbody tr th:only-of-type {\n        vertical-align: middle;\n    }\n\n    .dataframe tbody tr th {\n        vertical-align: top;\n    }\n\n    .dataframe thead th {\n        text-align: right;\n    }\n</style>\n<table border=\"1\" class=\"dataframe\">\n  <thead>\n    <tr style=\"text-align: right;\">\n      <th></th>\n      <th>0</th>\n      <th>1</th>\n      <th>2</th>\n      <th>3</th>\n      <th>4</th>\n      <th>5</th>\n      <th>6</th>\n      <th>7</th>\n      <th>8</th>\n      <th>9</th>\n      <th>...</th>\n      <th>290</th>\n      <th>291</th>\n      <th>292</th>\n      <th>293</th>\n      <th>294</th>\n      <th>295</th>\n      <th>296</th>\n      <th>297</th>\n      <th>298</th>\n      <th>299</th>\n    </tr>\n  </thead>\n  <tbody>\n  </tbody>\n</table>\n<p>0 rows × 300 columns</p>\n</div>"
     },
     "execution_count": 8,
     "metadata": {},
     "output_type": "execute_result"
    }
   ],
   "source": [
    "col_names = []\n",
    "tmp = np.arange(0,LEN)\n",
    "tmp_str = [str(x) for x in tmp]\n",
    "col_names.extend(tmp_str)\n",
    "\n",
    "P_df = pd.DataFrame(columns=col_names)\n",
    "\n",
    "P_df"
   ],
   "metadata": {
    "collapsed": false
   }
  },
  {
   "cell_type": "code",
   "execution_count": 9,
   "outputs": [
    {
     "data": {
      "text/plain": "  0%|          | 0/1276 [00:00<?, ?it/s]",
      "application/vnd.jupyter.widget-view+json": {
       "version_major": 2,
       "version_minor": 0,
       "model_id": "8a2c1e67e39f4e45953a8d766271d454"
      }
     },
     "metadata": {},
     "output_type": "display_data"
    },
    {
     "name": "stdout",
     "output_type": "stream",
     "text": [
      "Done\n"
     ]
    }
   ],
   "source": [
    "# For every uniq auction config i\n",
    "for i in tqdm(range(0,data_key.shape[0])):\n",
    "\n",
    "    # Get params\n",
    "    v = float(data_key.loc[i,'retail'].item())            # retail price = valuation\n",
    "    d = float(data_key.loc[i,'bidincrement'].item())      # bid increment\n",
    "    b = float(data_key.loc[i,'bidfee'].item())            # bid fee\n",
    "\n",
    "    # d==0 suggests a fixed-price auction.\n",
    "    if d == 0:\n",
    "        T = np.inf                                    # duration limitation\n",
    "    else:\n",
    "        T = np.floor((v-b)/d)                         # duration limitation\n",
    "\n",
    "    # Solve for U with length of LEN\n",
    "    U = [0] * (LEN + 2)                               # the prob. that someone offers a bid in t_th round\n",
    "    U[0],U[1] = 1,1                                   # Actually we do not need u[0]. U[1]=1 ensures that the auction will last for more than 1 round.\n",
    "    for t in range(2,len(U)):\n",
    "        if(t<T):            # Not exceed the upper limit T. Caculable.\n",
    "            U[t] = 1.0-(b/(v-d*(t-1)))\n",
    "        else:               # Exceed the upper limit T. Not caculable and set as zero.\n",
    "            U[t] = 0.0\n",
    "        assert U[t]>=0, \"U[t]<0 when t ={},and b = {},v = {}, d = {}\".format(t,b,v,d)\n",
    "\n",
    "    # Solve for P with length of LEN\n",
    "    P = np.array([0.0]*(LEN+1))\n",
    "    P[0] = 0.0                                            # Prob of auction duration==0, which is 0.\n",
    "    tmp = np.array([0.0]*(LEN+3))\n",
    "    tmp[0] = 1.0\n",
    "\n",
    "    # Note：P[i][t] = U[i][1]*U[i][2]*...*(1-U[i][t+1])\n",
    "    for t in range(1,len(P)):\n",
    "        tmp[t] = tmp[t-1]*U[t]                          # tmp[t] is the continued product from U[1] to U[t].\n",
    "        P[t] = (1-U[t+1])*tmp[t]\n",
    "\n",
    "    # Dele the P[0]\n",
    "    P = np.delete(P,[0],axis=0)\n",
    "    assert len(P)==LEN,\"P has wrong length (should be LEN)\"\n",
    "\n",
    "    pd_tmp = pd.DataFrame(P).T\n",
    "    pd_tmp.columns = col_names\n",
    "    P_df = pd.concat([P_df,pd_tmp],ignore_index=True)\n",
    "\n",
    "print(\"Done\")"
   ],
   "metadata": {
    "collapsed": false
   }
  },
  {
   "cell_type": "markdown",
   "source": [
    "# 3. save"
   ],
   "metadata": {
    "collapsed": false
   }
  },
  {
   "cell_type": "code",
   "execution_count": 10,
   "outputs": [
    {
     "data": {
      "text/plain": "(1276, 300)"
     },
     "execution_count": 10,
     "metadata": {},
     "output_type": "execute_result"
    }
   ],
   "source": [
    "P_df.shape"
   ],
   "metadata": {
    "collapsed": false
   }
  },
  {
   "cell_type": "code",
   "execution_count": 11,
   "outputs": [
    {
     "name": "stdout",
     "output_type": "stream",
     "text": [
      "../../data/info_asymm/results/GT_1_LEN=300.csv\n",
      "DONE\n"
     ]
    }
   ],
   "source": [
    "filename_P = data_path_root + filename_head + str(LEN) + filename_tail\n",
    "P_df.to_csv(filename_P,header=True,index=False,encoding=\"utf-8\")\n",
    "print(filename_P)\n",
    "print(\"DONE\")"
   ],
   "metadata": {
    "collapsed": false
   }
  },
  {
   "cell_type": "code",
   "execution_count": null,
   "outputs": [],
   "source": [],
   "metadata": {
    "collapsed": false
   }
  }
 ],
 "metadata": {
  "kernelspec": {
   "display_name": "Python 3",
   "language": "python",
   "name": "python3"
  },
  "language_info": {
   "codemirror_mode": {
    "name": "ipython",
    "version": 2
   },
   "file_extension": ".py",
   "mimetype": "text/x-python",
   "name": "python",
   "nbconvert_exporter": "python",
   "pygments_lexer": "ipython2",
   "version": "2.7.6"
  }
 },
 "nbformat": 4,
 "nbformat_minor": 0
}
