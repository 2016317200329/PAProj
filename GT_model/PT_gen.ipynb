{
 "cells": [
  {
   "cell_type": "code",
   "execution_count": 19,
   "metadata": {
    "collapsed": true
   },
   "outputs": [],
   "source": [
    "#!/usr/bin/env python\n",
    "# -*- coding: utf-8 -*-\n",
    "# @Time    : 2022/11/07 16:36\n",
    "# @Author  : Wang Yujia\n",
    "# @File    : PT_gen.ipynb\n",
    "# @Description : calculating U&P with inferred params"
   ]
  },
  {
   "cell_type": "markdown",
   "source": [
    "# 0. What for\n",
    "1. Demo for,用infer的结果来算U_t\n",
    "\n",
    "# 1. Preparations\n",
    "## 1.1 全局设置"
   ],
   "metadata": {
    "collapsed": false
   }
  },
  {
   "cell_type": "markdown",
   "source": [
    "## 1.2 data 读取\n",
    "1. 保存data_key_15\n",
    "2. 并且提取成功infer的data`params_all`"
   ],
   "metadata": {
    "collapsed": false
   }
  },
  {
   "cell_type": "code",
   "execution_count": 5,
   "outputs": [],
   "source": [
    "# small fix from here\n",
    "# data path\n",
    "data_selected_path = \"../data/SA_PT/datawithnp_PT_selected.csv\"\n",
    "# data key path\n",
    "data_key_path = \"../data/SA_PT/data_key_PT.csv\"\n",
    "# inferred params\n",
    "params_opitim_delta_wset_path = \"../data/SA_PT/params_opitim_delta_T_wset.csv\"\n",
    "\n",
    "# output path\n",
    "output_path_root = \"../data/SA_PT/results/\"\n",
    "filename_head = \"PT_all1303_\"\n",
    "filename_tail = \".csv\"\n",
    "filename_P = output_path_root+(filename_head + \"P\" + filename_tail)\n",
    "\n",
    "features_GT = ['product_id','bidincrement','bidfee','retail']\n",
    "\n",
    "# threshold\n",
    "K = 100\n",
    "\n",
    "import numpy as np\n",
    "import csv\n",
    "import pandas as pd\n",
    "from visdom import Visdom\n",
    "from SA_for_PT_funcs_delta_eq1 import *\n",
    "import json\n",
    "\n",
    "\n",
    "# viz = Visdom(env='P_1forall',use_incoming_socket=False)"
   ],
   "metadata": {
    "collapsed": false
   }
  },
  {
   "cell_type": "code",
   "execution_count": 2,
   "outputs": [
    {
     "name": "stdout",
     "output_type": "stream",
     "text": [
      "一共有 *1303* 个auction setting成功infer\n",
      "一共有 *0* 个auction setting未能成功infer\n"
     ]
    }
   ],
   "source": [
    "data = pd.read_csv(data_selected_path, encoding=\"utf-8\")\n",
    "params_opitim_delta_wset = pd.read_csv(params_opitim_delta_wset_path, encoding=\"utf-8\")\n",
    "\n",
    "idx = (pd.notna(params_opitim_delta_wset.alpha))\n",
    "params_all = params_opitim_delta_wset[idx][:]\n",
    "params_all.reset_index(drop=True,inplace=True)\n",
    "print(f\"一共有 *{params_all.shape[0]}* 个auction setting成功infer\")\n",
    "print(f\"一共有 *{params_opitim_delta_wset.shape[0] - params_all.shape[0]}* 个auction setting未能成功infer\")\n",
    "\n",
    "data_key = pd.read_csv(data_key_path, encoding=\"utf-8\")"
   ],
   "metadata": {
    "collapsed": false
   }
  },
  {
   "cell_type": "markdown",
   "source": [
    "## 1.3 functions about 'key'"
   ],
   "metadata": {
    "collapsed": false
   }
  },
  {
   "cell_type": "code",
   "execution_count": 3,
   "outputs": [],
   "source": [
    "# get key from i in 'data_key'\n",
    "def get_key_from_index(i,flag=\"NotStr\"):\n",
    "    if(flag == \"str\"):\n",
    "        key_i = list(data_key.iloc[i,:])\n",
    "        key_i_str = (str(int(key_i[0])),str(key_i[1]),str(key_i[2]),str(key_i[3]))\n",
    "\n",
    "        return key_i_str\n",
    "    else:\n",
    "        key_i = data_key.iloc[i,:]\n",
    "        return key_i\n",
    "\n",
    "#features_GT = ['product_id','bidincrement','bidfee','retail']\n",
    "def select_data_fromkey(key_i_str):\n",
    "    return data[(data['product_id'] == key_i_str[0]) & (data['bidincrement'] == key_i_str[1]) & (data['bidfee'] == key_i_str[2]) & (data['retail'] == key_i_str[3])].copy()"
   ],
   "metadata": {
    "collapsed": false
   }
  },
  {
   "cell_type": "markdown",
   "source": [
    "# 2. U&P\n",
    "\n",
    "1. 得到`params_all`之后，可以对不同的auction settings做generate了\n",
    "2. generate过程无非是求u-->p，u的代码在上面loss func里写过了。然后把P存到dict里\n",
    "3. U 由 `f_equi`得到\n",
    "3. `P[t] = U[0]*U[1]*U[2]...*U[t]*U[t+1]`\n",
    "4. `P[key_i_str][max_T]==tmp[max_T]*U[max_T]`"
   ],
   "metadata": {
    "collapsed": false
   }
  },
  {
   "cell_type": "code",
   "execution_count": null,
   "outputs": [],
   "source": [
    "# solve for U&P respectively for all settings\n",
    "P = {}\n",
    "# params_all.shape[0]\n",
    "for i in range(0,params_all.shape[0]):\n",
    "\n",
    "    # get optimized params\n",
    "    alpha, labda = params_all.alpha[i],params_all.labda[i]\n",
    "\n",
    "    # get i_th data_key\n",
    "    key_i = get_key_from_index(i)\n",
    "    data_i = select_data_fromkey(key_i)\n",
    "    data_i.reset_index(drop=True,inplace=True)\n",
    "\n",
    "    # Get params\n",
    "    cnt_n_2_i = data_i['cnt_n_2'].astype(int)       # Number of occurrences of different durations\n",
    "    v = float(data_i['retail'].unique())            # retail price = valuation\n",
    "    d = float(data_i['bidincrement'].unique())      # bid increment\n",
    "    b = float(data_i['bidfee'].unique())            # bid fee\n",
    "    T_i = int((v-b)/d)                                   # duration limitation\n",
    "\n",
    "    U = [0] * (T_i + 1)                            # the prob. that someone offers a bid in t_th round\n",
    "    U[0] = 1\n",
    "    key_i_str = get_key_from_index(i,\"str\")         # key for P\n",
    "\n",
    "    P[key_i_str] = np.array([0.0]*(T_i+1))\n",
    "    P_tmp = [0.0]*(T_i+1)                         # P is what we want to generate\n",
    "    P_tmp[0] = 1\n",
    "    tmp = np.array([0.0]*(T_i+2))                 # tmp的大小其实不需要太精确\n",
    "    tmp[0] = 1.0\n",
    "\n",
    "    # solve for U\n",
    "    for t in range(1,T_i+1):\n",
    "        U[t] = f_Equi(t, v, d, b, alpha, labda)\n",
    "\n",
    "    # solve for P\n",
    "    for t in range(0,T_i):\n",
    "        tmp[t+1] = tmp[t]*U[t]                      # tmp[t]存了到(t-1)的连乘积\n",
    "        P[key_i_str][t] = (1-U[t+1])*tmp[t+1]\n",
    "\n",
    "    P[key_i_str][T_i] = tmp[T_i]*U[T_i]\n",
    "\n",
    "    # if(i%10 == 0):\n",
    "    #     viz.line(P[key_i_str],np.arange(0,P[key_i_str].shape[0]),win = 'P_'+str(i),opts= dict(title = f'P_{i}_v={v}_b={b}_d={d}'))\n",
    "print(\"Done\")"
   ],
   "metadata": {
    "collapsed": false,
    "pycharm": {
     "is_executing": true
    }
   }
  },
  {
   "cell_type": "markdown",
   "source": [
    "## 2.1 Add threshold\n"
   ],
   "metadata": {
    "collapsed": false
   }
  },
  {
   "cell_type": "code",
   "execution_count": 14,
   "outputs": [
    {
     "data": {
      "text/plain": "1288"
     },
     "execution_count": 14,
     "metadata": {},
     "output_type": "execute_result"
    }
   ],
   "source": [
    "# waited to be filled"
   ],
   "metadata": {
    "collapsed": false
   }
  },
  {
   "cell_type": "markdown",
   "source": [
    "## 2.2 save\n",
    "1. 保存结果以及viz环境"
   ],
   "metadata": {
    "collapsed": false
   }
  },
  {
   "cell_type": "code",
   "execution_count": null,
   "outputs": [],
   "source": [
    "# 保存整个环境\n",
    "viz.save(envs=['P'])"
   ],
   "metadata": {
    "collapsed": false
   }
  },
  {
   "cell_type": "code",
   "execution_count": 6,
   "outputs": [
    {
     "name": "stdout",
     "output_type": "stream",
     "text": [
      "Done\n"
     ]
    }
   ],
   "source": [
    "with open(filename_P,\"w+\",encoding='utf—8',newline='') as f:\n",
    "    w= csv.DictWriter(f,fieldnames=['product_id','bidincrement','bidfee','retail','P'])\n",
    "    w.writeheader()\n",
    "\n",
    "    key=list(P.keys())\n",
    "    value =list(P.values())\n",
    "    for i in range(len(key)):\n",
    "        dic = {       #字典类型\n",
    "            'product_id':key[i][0],\n",
    "            'bidincrement':key[i][1],\n",
    "            'bidfee':key[i][2],\n",
    "            'retail':key[i][3],\n",
    "            'P': list(value[i])\n",
    "        }\n",
    "        w.writerow(dic)   #数据写入csv文件\n",
    "\n",
    "print(\"Done\")"
   ],
   "metadata": {
    "collapsed": false
   }
  },
  {
   "cell_type": "code",
   "execution_count": 103,
   "outputs": [
    {
     "ename": "IndentationError",
     "evalue": "unindent does not match any outer indentation level (<tokenize>, line 12)",
     "output_type": "error",
     "traceback": [
      "\u001B[1;36m  File \u001B[1;32m\"<tokenize>\"\u001B[1;36m, line \u001B[1;32m12\u001B[0m\n\u001B[1;33m    assert mode=='w' or mode=='a'\u001B[0m\n\u001B[1;37m    ^\u001B[0m\n\u001B[1;31mIndentationError\u001B[0m\u001B[1;31m:\u001B[0m unindent does not match any outer indentation level\n"
     ]
    }
   ],
   "source": [
    "import json\n",
    "fileName_viz = \"../data/vis/env_P.json\"\n",
    "# 保存指定的win\n",
    "\n",
    "def saveVisdomData(win, env, fileName, mode='w'):\n",
    "\t'''\n",
    "\t\t模型训练完或中断时，可以先将前阶段visdom的数据保存到本地\n",
    "\t\targ:\n",
    "\t\t\twin:　窗口名称\n",
    "\t\t\tenv:　环境名称\n",
    "\t\t\tfileName:　保存文件路径\n",
    "\t\t\tmode:　文件保存格式，‘w’表示重写，‘a’表示添加在末端\n",
    "\t'''\n",
    "    # rewrite or append\n",
    "    assert mode=='w' or mode=='a'\n",
    "    viz = Visdom()\n",
    "    win_data = viz.get_window_data(win, env)\n",
    "    pre_data = json.loads(win_data)\n",
    "    x = pre_data[\"content\"][\"data\"][0][\"x\"]  # x坐标的值\n",
    "    y1 = pre_data[\"content\"][\"data\"][0][\"y\"]  # 曲线１\n",
    "    y2 = pre_data[\"content\"][\"data\"][1][\"y\"]  # 曲线２\n",
    "    assert len(x)==len(y1)==len(y2)\n",
    "    with open(fileName_viz, mode) as f:\n",
    "        writer = csv.writer(f)\n",
    "        for i in range(len(x)):\n",
    "            writer.writerow([x[i], y1[i], y2[i]])\n",
    "\n",
    "saveVisdomData()"
   ],
   "metadata": {
    "collapsed": false
   }
  },
  {
   "cell_type": "markdown",
   "source": [
    "# 3. 还原viz环境"
   ],
   "metadata": {
    "collapsed": false
   }
  },
  {
   "cell_type": "code",
   "execution_count": 11,
   "outputs": [],
   "source": [
    "\n",
    "viz_path = \"../data/vis/P.json\"\n",
    "with open(viz_path,\"r\") as f:\n",
    "    pre_data=json.load(f)\n",
    "\n",
    "tmp = pre_data['jsons'].values()\n",
    "for i in range(0,len((pre_data['jsons']).keys())):\n",
    "    tmpi = list(tmp)[i]\n",
    "    viz.line(\n",
    "        X=np.array(tmpi['content'][\"data\"][0][\"x\"]),\n",
    "        Y=np.array(tmpi['content'][\"data\"][0][\"y\"]),\n",
    "        env = \"P\",\n",
    "        win = tmpi['id'],\n",
    "        opts= dict(title=tmpi['title']),\n",
    "    )"
   ],
   "metadata": {
    "collapsed": false
   }
  },
  {
   "cell_type": "code",
   "execution_count": null,
   "outputs": [],
   "source": [],
   "metadata": {
    "collapsed": false
   }
  }
 ],
 "metadata": {
  "kernelspec": {
   "display_name": "Python 3",
   "language": "python",
   "name": "python3"
  },
  "language_info": {
   "codemirror_mode": {
    "name": "ipython",
    "version": 2
   },
   "file_extension": ".py",
   "mimetype": "text/x-python",
   "name": "python",
   "nbconvert_exporter": "python",
   "pygments_lexer": "ipython2",
   "version": "2.7.6"
  }
 },
 "nbformat": 4,
 "nbformat_minor": 0
}
