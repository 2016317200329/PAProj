{
 "cells": [
  {
   "cell_type": "code",
   "execution_count": 19,
   "metadata": {
    "collapsed": true
   },
   "outputs": [],
   "source": [
    "#!/usr/bin/env python\n",
    "# -*- coding: utf-8 -*-\n",
    "# @Time    : 2022/11/07 16:36\n",
    "# @Author  : Wang Yujia\n",
    "# @File    : PT_gen.ipynb\n",
    "# @Description : Demo for calculating u_t with inferred params"
   ]
  },
  {
   "cell_type": "markdown",
   "source": [
    "# 0. What for\n",
    "1. Demo for,用infer的结果来算U_t\n",
    "\n",
    "# 1. Preparations\n",
    "## 1.1 全局设置"
   ],
   "metadata": {
    "collapsed": false,
    "pycharm": {
     "name": "#%% md\n"
    }
   }
  },
  {
   "cell_type": "code",
   "execution_count": 86,
   "outputs": [
    {
     "name": "stderr",
     "output_type": "stream",
     "text": [
      "Setting up a new session...\n",
      "[Errno 11001] getaddrinfo failed\n",
      "on_close() takes 1 positional argument but 3 were given\n",
      "Without the incoming socket you cannot receive events from the server or register event handlers to your Visdom client.\n"
     ]
    }
   ],
   "source": [
    "# data path\n",
    "data_selected_path = \"../data/info_asymm/datawithnp_asc_symmetry_2_selected.csv\"\n",
    "# data_key_15 path\n",
    "data_key_15_path = \"../data/SA_PT/data_key_15.csv\"\n",
    "# inferred params\n",
    "params_opitim_delta_wset_path = \"../data/SA_PT/params_opitim_delta_wset.csv\"\n",
    "\n",
    "# output path\n",
    "output_path_root = \"../data/pt/results/\"\n",
    "# target data is from method-2\n",
    "filename_head = \"PT_all1288_\"\n",
    "filename_tail = \".csv\"\n",
    "filename_P = output_path_root+(filename_head + \"P\" + filename_tail)\n",
    "\n",
    "features_GT = ['product_id','bidincrement','bidfee','retail']\n",
    "\n",
    "import numpy as np\n",
    "import csv\n",
    "import pandas as pd\n",
    "from visdom import Visdom\n",
    "from SA_for_PT_funcs_delta_eq1 import *\n",
    "\n",
    "viz = Visdom(env='P',use_incoming_socket=False)"
   ],
   "metadata": {
    "collapsed": false,
    "pycharm": {
     "name": "#%%\n"
    }
   }
  },
  {
   "cell_type": "markdown",
   "source": [
    "## 1.2 data 读取\n",
    "1. 保存data_key_15\n",
    "2. 并且提取成功infer的data`params_all`"
   ],
   "metadata": {
    "collapsed": false
   }
  },
  {
   "cell_type": "code",
   "execution_count": 70,
   "outputs": [
    {
     "name": "stdout",
     "output_type": "stream",
     "text": [
      "一共有 *1288* 个auction setting成功infer\n",
      "一共有 *15* 个auction setting未能成功infer\n"
     ]
    }
   ],
   "source": [
    "data = pd.read_csv(data_selected_path, encoding=\"utf-8\")\n",
    "params_opitim_delta_wset = pd.read_csv(params_opitim_delta_wset_path, encoding=\"utf-8\")\n",
    "\n",
    "idx = (pd.notna(params_opitim_delta_wset.alpha))\n",
    "params_all = params_opitim_delta_wset[idx][:]\n",
    "params_all.reset_index(drop=True,inplace=True)\n",
    "print(f\"一共有 *{params_all.shape[0]}* 个auction setting成功infer\")\n",
    "print(f\"一共有 *{params_opitim_delta_wset.shape[0] - params_all.shape[0]}* 个auction setting未能成功infer\")\n",
    "\n",
    "data_key_15 = params_all[features_GT].copy()\n",
    "data_key_15.reset_index(inplace=True)\n",
    "data_key_15.to_csv(data_key_15_path,header=True, encoding=\"utf-8\",index=False)"
   ],
   "metadata": {
    "collapsed": false,
    "pycharm": {
     "name": "#%%\n"
    }
   }
  },
  {
   "cell_type": "markdown",
   "source": [
    "## 1.3 functions about 'key'"
   ],
   "metadata": {
    "collapsed": false
   }
  },
  {
   "cell_type": "code",
   "execution_count": 73,
   "outputs": [],
   "source": [
    "# get key from i in 'data_key'\n",
    "def get_key_from_index(i,flag=\"NotStr\"):\n",
    "    if(flag == \"str\"):\n",
    "        key_i = list(data_key_15.iloc[i,1:])\n",
    "        key_i_str = (str(int(key_i[0])),str(key_i[1]),str(key_i[2]),str(key_i[3]))\n",
    "\n",
    "        return key_i_str\n",
    "    else:\n",
    "        key_i = data_key_15.iloc[i,1:]\n",
    "        return key_i\n",
    "\n",
    "#features_GT = ['product_id','bidincrement','bidfee','retail']\n",
    "def select_data_fromkey(key_i_str):\n",
    "    return data[(data['product_id'] == key_i_str[0]) & (data['bidincrement'] == key_i_str[1]) & (data['bidfee'] == key_i_str[2]) & (data['retail'] == key_i_str[3])].copy()"
   ],
   "metadata": {
    "collapsed": false,
    "pycharm": {
     "name": "#%%\n"
    }
   }
  },
  {
   "cell_type": "markdown",
   "source": [
    "# 2. U&P\n",
    "1. 得到`params_all`之后，可以对不同的auction settings做generate了\n",
    "2. generate过程无非是求u-->p，u的代码在上面loss func里写过了。然后把P存到dict里\n",
    "3. `P[t] = U[0]*U[1]*U[2]...*U[t]*U[t+1]`\n",
    "4. `P[key_i_str][max_T]==tmp[max_T]*U[max_T]`"
   ],
   "metadata": {
    "collapsed": false,
    "pycharm": {
     "name": "#%% md\n"
    }
   }
  },
  {
   "cell_type": "code",
   "execution_count": 83,
   "outputs": [
    {
     "name": "stderr",
     "output_type": "stream",
     "text": [
      "[Errno 11001] getaddrinfo failed\n",
      "on_close() takes 1 positional argument but 3 were given\n",
      "[Errno 11001] getaddrinfo failed\n",
      "on_close() takes 1 positional argument but 3 were given\n",
      "[Errno 11001] getaddrinfo failed\n",
      "on_close() takes 1 positional argument but 3 were given\n",
      "[Errno 11001] getaddrinfo failed\n",
      "on_close() takes 1 positional argument but 3 were given\n",
      "[Errno 11001] getaddrinfo failed\n",
      "on_close() takes 1 positional argument but 3 were given\n",
      "[Errno 11001] getaddrinfo failed\n",
      "on_close() takes 1 positional argument but 3 were given\n",
      "[Errno 11001] getaddrinfo failed\n",
      "on_close() takes 1 positional argument but 3 were given\n",
      "[Errno 11001] getaddrinfo failed\n",
      "on_close() takes 1 positional argument but 3 were given\n",
      "[Errno 11001] getaddrinfo failed\n",
      "on_close() takes 1 positional argument but 3 were given\n",
      "[Errno 11001] getaddrinfo failed\n",
      "on_close() takes 1 positional argument but 3 were given\n",
      "[Errno 11001] getaddrinfo failed\n",
      "on_close() takes 1 positional argument but 3 were given\n",
      "[Errno 11001] getaddrinfo failed\n",
      "on_close() takes 1 positional argument but 3 were given\n",
      "[Errno 11001] getaddrinfo failed\n",
      "on_close() takes 1 positional argument but 3 were given\n",
      "[Errno 11001] getaddrinfo failed\n",
      "on_close() takes 1 positional argument but 3 were given\n",
      "[Errno 11001] getaddrinfo failed\n",
      "on_close() takes 1 positional argument but 3 were given\n",
      "[Errno 11001] getaddrinfo failed\n",
      "on_close() takes 1 positional argument but 3 were given\n",
      "[Errno 11001] getaddrinfo failed\n",
      "on_close() takes 1 positional argument but 3 were given\n",
      "[Errno 11001] getaddrinfo failed\n",
      "on_close() takes 1 positional argument but 3 were given\n",
      "[Errno 11001] getaddrinfo failed\n",
      "on_close() takes 1 positional argument but 3 were given\n",
      "[Errno 11001] getaddrinfo failed\n",
      "on_close() takes 1 positional argument but 3 were given\n",
      "[Errno 11001] getaddrinfo failed\n",
      "on_close() takes 1 positional argument but 3 were given\n"
     ]
    }
   ],
   "source": [
    "# solve for U&P respectively for all settings\n",
    "P = {}\n",
    "# params_all.shape[0]\n",
    "for i in range(0,params_all.shape[0]):\n",
    "\n",
    "    # get optimized params\n",
    "    alpha, labda = params_all.alpha[i],params_all.labda[i]\n",
    "\n",
    "    # get i_th data_key\n",
    "    key_i = get_key_from_index(i)\n",
    "    data_i = select_data_fromkey(key_i)\n",
    "    data_i.reset_index(drop=True,inplace=True)\n",
    "\n",
    "    # Get params\n",
    "    T_i = data_i['N'].astype(int)                   # auction duration sequence\n",
    "    max_T = int(max(T_i))                           # max duration value\n",
    "    cnt_n_2_i = data_i['cnt_n_2'].astype(int)       # Number of occurrences of different durations\n",
    "    v = float(data_i['retail'].unique())            # retail price = valuation\n",
    "    d = float(data_i['bidincrement'].unique())      # bid increment\n",
    "    b = float(data_i['bidfee'].unique())            # bid fee\n",
    "\n",
    "    U= [0] * (max_T + 1)                            # the prob. that someone offers a bid in t_th round\n",
    "    U[0] = 1\n",
    "    key_i_str = get_key_from_index(i,\"str\")         # key for P\n",
    "    # print(f\"in {i}_th, the key_i_str is: \\n {key_i_str}\")\n",
    "\n",
    "    P[key_i_str] = np.array([0.0]*(max_T+1))\n",
    "    P_tmp = [0.0]*(max_T+1)                         # P is what we want to generate\n",
    "    P_tmp[0] = 1\n",
    "    tmp = np.array([0.0]*(max_T+2))                 # tmp的大小其实不需要太精确\n",
    "    tmp[0] = 1.0\n",
    "\n",
    "    # solve for U\n",
    "    for t in range(1,max_T+1):\n",
    "        U[t] = f_Equi(t, v, d, b, alpha, labda)\n",
    "\n",
    "    # solve for P\n",
    "    for t in range(0,max_T):\n",
    "        tmp[t+1] = tmp[t]*U[t]                      # tmp[t]存了到(t-1)的连乘积\n",
    "        P[key_i_str][t] = (1-U[t+1])*tmp[t+1]\n",
    "\n",
    "    P[key_i_str][max_T] = tmp[max_T]*U[max_T]\n",
    "    # assert(P[key_i_str][max_T]==tmp[max_T]*U[max_T],\"Wrong\")\n",
    "\n",
    "    # if(i%10 == 0):\n",
    "    viz.line(P[key_i_str],np.arange(0,P[key_i_str].shape[0]),win = 'P_'+str(i),opts= dict(title = f'P_{i}_v={v}_b={b}_d={d}'))"
   ],
   "metadata": {
    "collapsed": false,
    "pycharm": {
     "name": "#%%\n"
    }
   }
  },
  {
   "cell_type": "markdown",
   "source": [
    "## 2.1 save"
   ],
   "metadata": {
    "collapsed": false,
    "pycharm": {
     "name": "#%% md\n"
    }
   }
  },
  {
   "cell_type": "code",
   "execution_count": 87,
   "outputs": [
    {
     "name": "stderr",
     "output_type": "stream",
     "text": [
      "[Errno 11001] getaddrinfo failed\n",
      "on_close() takes 1 positional argument but 3 were given\n"
     ]
    }
   ],
   "source": [
    "with open(filename_P,\"w+\",encoding='utf—8') as f:\n",
    "    w=csv.writer(f)        # 每行存储一个键值对\n",
    "    w.writerow(P.items())"
   ],
   "metadata": {
    "collapsed": false,
    "pycharm": {
     "name": "#%%\n"
    }
   }
  }
 ],
 "metadata": {
  "kernelspec": {
   "display_name": "Python 3",
   "language": "python",
   "name": "python3"
  },
  "language_info": {
   "codemirror_mode": {
    "name": "ipython",
    "version": 2
   },
   "file_extension": ".py",
   "mimetype": "text/x-python",
   "name": "python",
   "nbconvert_exporter": "python",
   "pygments_lexer": "ipython2",
   "version": "2.7.6"
  }
 },
 "nbformat": 4,
 "nbformat_minor": 0
}