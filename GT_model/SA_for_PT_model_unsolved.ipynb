{
 "cells": [
  {
   "cell_type": "code",
   "execution_count": 2,
   "outputs": [],
   "source": [
    "%load_ext autoreload\n",
    "%autoreload 2"
   ],
   "metadata": {
    "collapsed": false,
    "pycharm": {
     "name": "#%%\n"
    }
   }
  },
  {
   "cell_type": "code",
   "execution_count": 3,
   "metadata": {
    "collapsed": true
   },
   "outputs": [],
   "source": [
    "#!/usr/bin/env python\n",
    "# -*- coding: utf-8 -*-\n",
    "# @Time    : 2022/11/05 16:11\n",
    "# @Author  : Wang Yujia\n",
    "# @File    : SA_for_PT_model_unsolved.ipynb\n",
    "# @Description : Parameter estimation for PT_model using Simulated Annealing and Delta==1.\n",
    "#                   Some settings fail in inference and I wonder why."
   ]
  },
  {
   "cell_type": "markdown",
   "source": [
    "# 0. What for\n",
    "1. 一些参数infer不出来，这里探究一下why\n",
    "\n",
    "# 1. Preparations\n",
    "## 1.1 全局设置"
   ],
   "metadata": {
    "collapsed": false,
    "pycharm": {
     "name": "#%% md\n"
    }
   }
  },
  {
   "cell_type": "code",
   "execution_count": 4,
   "outputs": [],
   "source": [
    "# data_key path\n",
    "data_key_path = \"../data/SA_PT/data_key.csv\"\n",
    "# inferred params\n",
    "params_opitim_delta_wset_path = \"../data/SA_PT/params_opitim_delta_wset.csv\"\n",
    "# 初始参数\n",
    "table_5_M = [0.025,3.72]\n",
    "\n",
    "import numpy as np\n",
    "import pandas as pd\n",
    "from visdom import Visdom\n",
    "from SA_for_PT_funcs_delta_eq1 import *\n",
    "from scipy.misc import derivative"
   ],
   "metadata": {
    "collapsed": false,
    "pycharm": {
     "name": "#%%\n"
    }
   }
  },
  {
   "cell_type": "markdown",
   "source": [
    "## 1.2 data 读取"
   ],
   "metadata": {
    "collapsed": false,
    "pycharm": {
     "name": "#%% md\n"
    }
   }
  },
  {
   "cell_type": "code",
   "execution_count": 5,
   "outputs": [],
   "source": [
    "data_key = pd.read_csv(data_key_path, encoding=\"utf-8\")\n",
    "params_opitim_delta_wset = pd.read_csv(params_opitim_delta_wset_path, encoding=\"utf-8\")"
   ],
   "metadata": {
    "collapsed": false,
    "pycharm": {
     "name": "#%%\n"
    }
   }
  },
  {
   "cell_type": "markdown",
   "source": [
    "# 1.3. 提取没能infer的auction参数"
   ],
   "metadata": {
    "collapsed": false,
    "pycharm": {
     "name": "#%% md\n"
    }
   }
  },
  {
   "cell_type": "code",
   "execution_count": 6,
   "outputs": [
    {
     "name": "stderr",
     "output_type": "stream",
     "text": [
      "Setting up a new session...\n"
     ]
    },
    {
     "name": "stdout",
     "output_type": "stream",
     "text": [
      "一共有 *30* 个auction setting没能infer出来（NaN）\n"
     ]
    }
   ],
   "source": [
    "idx_na = pd.isna(params_opitim_delta_wset.alpha)\n",
    "params_na = params_opitim_delta_wset[idx_na][:].reset_index()\n",
    "print(f\"一共有 *{params_na.shape[0]}* 个auction setting没能infer出来（NaN）\")\n",
    "viz = Visdom(env='002')"
   ],
   "metadata": {
    "collapsed": false,
    "pycharm": {
     "name": "#%%\n"
    }
   }
  },
  {
   "cell_type": "markdown",
   "source": [
    "# 1.4 cal u"
   ],
   "metadata": {
    "collapsed": false,
    "pycharm": {
     "name": "#%% md\n"
    }
   }
  },
  {
   "cell_type": "code",
   "execution_count": 7,
   "outputs": [],
   "source": [
    "def cal_u(params,other_params):\n",
    "    alpha = params[0]\n",
    "    labda = params[1]\n",
    "    max_T,v,d,b = other_params\n",
    "\n",
    "    # solve for U from Equi. condt.\n",
    "    U_i = [0] * (max_T + 1)\n",
    "    U_i[0] = 1\n",
    "    flag = 1\n",
    "    flag_t = 0\n",
    "    for t in range(1,max_T+1):\n",
    "\n",
    "        U_i[t] = f_Equi(t, v, d, b, alpha, labda)\n",
    "        # 等于或小于0\n",
    "        #if(flag & (np.isclose(U_i[t],0.0) | (U_i[t]<0))):\n",
    "        # 小于0\n",
    "        if(flag & (U_i[t]<0)):\n",
    "            print(f\"t:{t} -- u = 0.0:{U_i[t]}\")\n",
    "            flag_t = t\n",
    "            flag = 0\n",
    "    if(U_i[0]==1):\n",
    "        U_i.pop(0)\n",
    "    return U_i,(flag_t-1)"
   ],
   "metadata": {
    "collapsed": false,
    "pycharm": {
     "name": "#%%\n"
    }
   }
  },
  {
   "cell_type": "markdown",
   "source": [
    "# 2. 分析\n",
    "## 2.1 是因为max_T太大了导致infer不出来吗\n",
    "1. max_T很小的时候，也有infer不出来的"
   ],
   "metadata": {
    "collapsed": false,
    "pycharm": {
     "name": "#%% md\n"
    }
   }
  },
  {
   "cell_type": "code",
   "execution_count": 150,
   "outputs": [
    {
     "name": "stdout",
     "output_type": "stream",
     "text": [
      "max_T 平均值是 *10089.266666666666*\n",
      "max_T 最小的是 *107*\n"
     ]
    }
   ],
   "source": [
    "viz.bar(np.array(params_na.max_T),win = 'Max_T distrb.', env='002',opts= dict(title='Max_T distrb.'))\n",
    "print(f\"max_T 平均值是 *{np.mean(np.array(params_na.max_T))}*\")\n",
    "print(f\"max_T 最小的是 *{np.min(np.array(params_na.max_T))}*\")"
   ],
   "metadata": {
    "collapsed": false,
    "pycharm": {
     "name": "#%%\n"
    }
   }
  },
  {
   "cell_type": "markdown",
   "source": [
    "## 2.2 infer时，计算初始loss会出问题吗\n",
    "1. 用`t_u_lt0`记录下每个setting里，第一个<0的t值，如果`t_u_lt0[t] == -1`这说明并没有<0的数\n",
    "2. 这30个均出现了<=0的情况。而且<0的情况有 21/30的比例，只有9个setting下不存在<0的u"
   ],
   "metadata": {
    "collapsed": false,
    "pycharm": {
     "name": "#%% md\n"
    }
   }
  },
  {
   "cell_type": "code",
   "execution_count": 248,
   "outputs": [
    {
     "name": "stdout",
     "output_type": "stream",
     "text": [
      "t:1662 -- u = 0.0:-1.4807183343880737e-06\n",
      "t:1996 -- u = 0.0:-1.0552703008402242e-06\n",
      "t:2662 -- u = 0.0:-3.4756774069114724e-08\n",
      "t:4862 -- u = 0.0:-9.080125649259905e-12\n",
      "t:3329 -- u = 0.0:-7.115308336219532e-09\n",
      "t:8330 -- u = 0.0:-5.551115123125932e-17\n",
      "t:7996 -- u = 0.0:-2.2204460492505226e-16\n",
      "t:529 -- u = 0.0:-0.0002992513676255309\n",
      "t:7996 -- u = 0.0:-1.665334536937892e-16\n",
      "t:529 -- u = 0.0:-0.0002992513676255309\n",
      "t:529 -- u = 0.0:-0.0002992513676255309\n",
      "t:246 -- u = 0.0:-0.0012334214791850735\n",
      "t:1496 -- u = 0.0:-6.902474420174295e-06\n",
      "t:856 -- u = 0.0:-7.8974108604033e-05\n",
      "t:856 -- u = 0.0:-7.8974108604033e-05\n",
      "t:356 -- u = 0.0:-0.0006691220611303275\n",
      "t:96 -- u = 0.0:-0.004422011803766538\n",
      "t:246 -- u = 0.0:-0.001368530438202125\n",
      "t:1496 -- u = 0.0:-1.7080880446999987e-05\n",
      "t:491 -- u = 0.0:-0.00022321778611344916\n",
      "t:2991 -- u = 0.0:-9.531666966272318e-08\n"
     ]
    }
   ],
   "source": [
    "#viz = Visdom(env='003')\n",
    "t_u_lt0 = []\n",
    "U_na = pd.DataFrame()\n",
    "for i in range(0,params_na.shape[0]):\n",
    "\n",
    "    max_T_i = int(np.array(params_na.max_T)[i])\n",
    "    v = float(np.array(params_na.retail)[i])\n",
    "    d = float(np.array(params_na.bidincrement)[i])\n",
    "    b = float(np.array(params_na.bidfee)[i])\n",
    "\n",
    "    U_i,flag_t = cal_u(table_5_M,other_params = [max_T_i,v,d,b])\n",
    "    U_na.append(U_i)\n",
    "    t_u_lt0.append(flag_t)\n",
    "    #viz.line(np.array(U_i),np.arange(0,U_i.__len__()),win = 'U of '+str(i),env='003',opts=dict(title='U of '+str(i)))"
   ],
   "metadata": {
    "collapsed": false,
    "pycharm": {
     "name": "#%%\n"
    }
   }
  },
  {
   "cell_type": "markdown",
   "source": [
    "3. 有3/30个auction，u恒>0；有6/30个auction，u=0而没有<0；有 21/30个auction,出现了u<0的情况\n",
    "    - 3个auction：降低SA的停止条件可以infer出来\n",
    "    - 6个auction：出现u=0而没有<0\n",
    "    - 21个auction:出现了u<0"
   ],
   "metadata": {
    "collapsed": false,
    "pycharm": {
     "name": "#%% md\n"
    }
   }
  },
  {
   "cell_type": "code",
   "execution_count": 246,
   "outputs": [
    {
     "name": "stdout",
     "output_type": "stream",
     "text": [
      "在30个没infer出结果的auction setting里，有 *3* 个并未出现u<=0的情况（u均>0）\n",
      "    index  product_id  bidincrement  bidfee   retail  key_idx  alpha  delta  \\\n",
      "6     144    10010498          0.01    0.75  1899.99      144    NaN    NaN   \n",
      "17    469    10010868          0.01    0.75   149.99      469    NaN    NaN   \n",
      "21    540    10011706          0.01    0.75   225.00      540    NaN    NaN   \n",
      "\n",
      "    labda  initial_loss  final_loss  avg_loss  max_T         T  \n",
      "6     NaN           NaN         NaN       NaN  18091  189924.0  \n",
      "17    NaN           NaN         NaN       NaN   2155   14924.0  \n",
      "21    NaN           NaN         NaN       NaN   7745   22425.0  \n"
     ]
    }
   ],
   "source": [
    "# 只运行一次就好\n",
    "idx_u_gt0 = []\n",
    "for i in range(0,params_na.shape[0]):\n",
    "    if(t_u_lt0[i] == -1):\n",
    "        idx_u_gt0.append(i)\n",
    "print(f\"在30个没infer出结果的auction setting里，有 *{idx_u_gt0.__len__()}* 个并未出现u<=0的情况（u均>0）\")\n",
    "print(params_na.iloc[idx_u_gt0][:])"
   ],
   "metadata": {
    "collapsed": false,
    "pycharm": {
     "name": "#%%\n"
    }
   }
  },
  {
   "cell_type": "code",
   "execution_count": 260,
   "outputs": [
    {
     "name": "stdout",
     "output_type": "stream",
     "text": [
      "    index  product_id  bidincrement  bidfee   retail  key_idx  alpha  delta  \\\n",
      "0      21    10006485          0.15    0.75   249.99       21    NaN    NaN   \n",
      "1      30    10002407          0.15    0.75   300.00       30    NaN    NaN   \n",
      "2      54    10010735          0.15    0.75   399.99       54    NaN    NaN   \n",
      "3      61    10010648          0.15    0.75   729.99       61    NaN    NaN   \n",
      "4     124    10009874          0.15    0.75   499.95      124    NaN    NaN   \n",
      "5     133    10010049          0.15    0.75  1249.99      133    NaN    NaN   \n",
      "7     149    10010794          0.15    0.75  1199.99      149    NaN    NaN   \n",
      "8     151    10010878          0.15    0.75    79.95      151    NaN    NaN   \n",
      "9     175    10010871          0.15    0.75  1200.00      175    NaN    NaN   \n",
      "11    235    10011047          0.15    0.75    79.95      235    NaN    NaN   \n",
      "14    331    10011308          0.15    0.75    79.95      331    NaN    NaN   \n",
      "15    416    10009318          0.15    0.75    37.50      416    NaN    NaN   \n",
      "16    417    10002407          0.15    0.75   225.00      417    NaN    NaN   \n",
      "20    524    10011641          0.15    0.75   129.00      524    NaN    NaN   \n",
      "23    546    10011781          0.15    0.75   129.00      546    NaN    NaN   \n",
      "24    572    10011776          0.15    0.75    54.00      572    NaN    NaN   \n",
      "25    821    10012220          0.12    0.60    12.00      821    NaN    NaN   \n",
      "26    940    10011707          0.12    0.60    30.00      940    NaN    NaN   \n",
      "27    941    10011706          0.12    0.60   180.00      941    NaN    NaN   \n",
      "28   1091    10011707          0.06    0.60    30.00     1091    NaN    NaN   \n",
      "29   1092    10011706          0.06    0.60   180.00     1092    NaN    NaN   \n",
      "\n",
      "    labda  initial_loss  final_loss  avg_loss  max_T            T  \n",
      "0     NaN           NaN         NaN       NaN   3612  1661.600000  \n",
      "1     NaN           NaN         NaN       NaN  11887  1995.000000  \n",
      "2     NaN           NaN         NaN       NaN   3202  2661.600000  \n",
      "3     NaN           NaN         NaN       NaN  23195  4861.600000  \n",
      "4     NaN           NaN         NaN       NaN   6644  3328.000000  \n",
      "5     NaN           NaN         NaN       NaN  36770  8328.266667  \n",
      "7     NaN           NaN         NaN       NaN  15483  7994.933333  \n",
      "8     NaN           NaN         NaN       NaN   1563   528.000000  \n",
      "9     NaN           NaN         NaN       NaN   9347  7995.000000  \n",
      "11    NaN           NaN         NaN       NaN    590   528.000000  \n",
      "14    NaN           NaN         NaN       NaN   1925   528.000000  \n",
      "15    NaN           NaN         NaN       NaN   1006   245.000000  \n",
      "16    NaN           NaN         NaN       NaN   8468  1495.000000  \n",
      "20    NaN           NaN         NaN       NaN   1211   855.000000  \n",
      "23    NaN           NaN         NaN       NaN    966   855.000000  \n",
      "24    NaN           NaN         NaN       NaN    669   355.000000  \n",
      "25    NaN           NaN         NaN       NaN    107    95.000000  \n",
      "26    NaN           NaN         NaN       NaN    401   245.000000  \n",
      "27    NaN           NaN         NaN       NaN   1551  1495.000000  \n",
      "28    NaN           NaN         NaN       NaN    654   490.000000  \n",
      "29    NaN           NaN         NaN       NaN   3295  2990.000000  \n"
     ]
    }
   ],
   "source": [
    "# 只运行一次就好\n",
    "idx_u_eq0 = [10,12,13,18,19,22]\n",
    "idx_u_ls0 = []\n",
    "for i in range(0,params_na.shape[0]):\n",
    "    if (np.isin(i,idx_u_gt0) | np.isin(i,idx_u_eq0)):\n",
    "        continue\n",
    "    else:\n",
    "        idx_u_ls0.append(i)\n",
    "print(params_na.iloc[idx_u_ls0][:])"
   ],
   "metadata": {
    "collapsed": false,
    "pycharm": {
     "name": "#%%\n"
    }
   }
  },
  {
   "cell_type": "markdown",
   "source": [
    "## 2.3 可以infer的setting的u是怎么样的呢\n",
    "1. 有一些初始loss为inf（比如max_T较大的情况），但是也可以infer出来的。筛选出这些settings\n",
    "2. 然后从上面筛选出`max_T>20000`的： `params_2w`，计算他们的初始u"
   ],
   "metadata": {
    "collapsed": false,
    "pycharm": {
     "name": "#%% md\n"
    }
   }
  },
  {
   "cell_type": "code",
   "execution_count": 80,
   "outputs": [
    {
     "name": "stderr",
     "output_type": "stream",
     "text": [
      "Setting up a new session...\n"
     ]
    }
   ],
   "source": [
    "idx_2w = ((pd.notna(params_opitim_delta_wset.alpha)) & (params_opitim_delta_wset.max_T>20000))\n",
    "params_2w = params_opitim_delta_wset[idx_2w][:]\n",
    "viz = Visdom(env='004')"
   ],
   "metadata": {
    "collapsed": false,
    "pycharm": {
     "name": "#%%\n"
    }
   }
  },
  {
   "cell_type": "code",
   "execution_count": 229,
   "outputs": [
    {
     "name": "stdout",
     "output_type": "stream",
     "text": [
      "t:6662 -- u = 0.0:-1.0602629885319147e-14\n",
      "t:6662 -- u = 0.0:-8.881784197126003e-15\n",
      "t:6662 -- u = 0.0:-8.881784197126003e-15\n",
      "t:7996 -- u = 0.0:-2.2204460492505226e-16\n"
     ]
    }
   ],
   "source": [
    "t_u_lt0 = []\n",
    "for i in range(0,params_2w.shape[0]):\n",
    "\n",
    "    max_T_i = int(np.array(params_2w.max_T)[i])\n",
    "    v = float(np.array(params_2w.retail)[i])\n",
    "    d = float(np.array(params_2w.bidincrement)[i])\n",
    "    b = float(np.array(params_2w.bidfee)[i])\n",
    "\n",
    "    U_i,flag_t = cal_u(table_5_M,other_params = [max_T_i,v,d,b])\n",
    "    t_u_lt0.append(flag_t)\n",
    "    viz.line(np.array(U_i),np.arange(0,U_i.__len__()),win = 'U of '+str(i),env='004',opts=dict(title='U of '+str(i)))"
   ],
   "metadata": {
    "collapsed": false,
    "pycharm": {
     "name": "#%%\n"
    }
   }
  },
  {
   "cell_type": "markdown",
   "source": [
    "3. 对于那些可以infer的，alpha的均值在："
   ],
   "metadata": {
    "collapsed": false,
    "pycharm": {
     "name": "#%% md\n"
    }
   }
  },
  {
   "cell_type": "code",
   "execution_count": 278,
   "outputs": [
    {
     "data": {
      "text/plain": "-0.039774288769835034"
     },
     "execution_count": 278,
     "metadata": {},
     "output_type": "execute_result"
    }
   ],
   "source": [
    "idx_ok = (pd.notna(params_opitim_delta_wset.alpha))\n",
    "params_ok = params_opitim_delta_wset[idx_ok][:]\n",
    "alpha_avg = np.mean(params_ok.alpha)\n",
    "alpha_avg"
   ],
   "metadata": {
    "collapsed": false,
    "pycharm": {
     "name": "#%%\n"
    }
   }
  },
  {
   "cell_type": "markdown",
   "source": [
    "## 2.4 对于不同的alpha，曲线u与x轴的交点会变化吗\n",
    "1. 设置了6组参数，分别单独改变alpha的值，观察交点变化，记录在`t_u_lt0_alpha`中\n",
    "2. **发现这个交点t不会变**，t不会变（个别极限除外）"
   ],
   "metadata": {
    "collapsed": false,
    "pycharm": {
     "name": "#%% md\n"
    }
   }
  },
  {
   "cell_type": "code",
   "execution_count": 9,
   "outputs": [
    {
     "name": "stderr",
     "output_type": "stream",
     "text": [
      "Setting up a new session...\n"
     ]
    }
   ],
   "source": [
    "params_initial = [[-0.025,3.72],[-0.001,3.72],[0.025,3.72],[0.05,3.72],[0.1,3.72],[0.2,3.72]]\n",
    "viz = Visdom(env='004')"
   ],
   "metadata": {
    "collapsed": false,
    "pycharm": {
     "name": "#%%\n"
    }
   }
  },
  {
   "cell_type": "code",
   "execution_count": 10,
   "outputs": [
    {
     "name": "stdout",
     "output_type": "stream",
     "text": [
      "t:1662 -- u = 0.0:-0.000744427145778997\n",
      "t:1996 -- u = 0.0:-0.0018584884728845303\n",
      "t:2662 -- u = 0.0:-0.0007430081491805548\n",
      "t:4862 -- u = 0.0:-0.000742974049472756\n",
      "t:3329 -- u = 0.0:-0.0018574598455916255\n",
      "t:8329 -- u = 0.0:-0.0013621264523631298\n",
      "t:7995 -- u = 0.0:-0.0001238283037920323\n",
      "t:529 -- u = 0.0:-0.002151126411443148\n",
      "t:7996 -- u = 0.0:-0.0018574528628445303\n",
      "t:529 -- u = 0.0:-0.002151126411443148\n",
      "t:529 -- u = 0.0:-0.002151126411443148\n",
      "t:246 -- u = 0.0:-0.00306785069471228\n",
      "t:1496 -- u = 0.0:-0.0018642267392213168\n",
      "t:856 -- u = 0.0:-0.0019349554612040475\n",
      "t:10329 -- u = 0.0:-0.001362126452364771\n",
      "t:856 -- u = 0.0:-0.0019349554612040475\n",
      "t:356 -- u = 0.0:-0.002514095777063806\n",
      "t:96 -- u = 0.0:-0.005844326857626388\n",
      "t:246 -- u = 0.0:-0.0028368290389451985\n",
      "t:1496 -- u = 0.0:-0.001505591809338759\n",
      "t:491 -- u = 0.0:-0.0009642606811450834\n",
      "t:2990 -- u = 0.0:-8.636313063562333e-16\n",
      "t:1662 -- u = 0.0:-0.00013578625579518548\n",
      "t:1996 -- u = 0.0:-0.0002895119397696306\n",
      "t:2662 -- u = 0.0:-9.10456052662566e-05\n",
      "t:4862 -- u = 0.0:-5.790714182375298e-05\n",
      "t:3329 -- u = 0.0:-0.0001906434429558566\n",
      "t:8329 -- u = 0.0:-7.706785684482343e-05\n",
      "t:7995 -- u = 0.0:-7.153984272237344e-06\n",
      "t:529 -- u = 0.0:-0.0009792494832693262\n",
      "t:7996 -- u = 0.0:-0.00010729958688309548\n",
      "t:529 -- u = 0.0:-0.0009792494832693262\n",
      "t:529 -- u = 0.0:-0.0009792494832693262\n",
      "t:246 -- u = 0.0:-0.0020530889450847507\n",
      "t:1496 -- u = 0.0:-0.000372541753455776\n",
      "t:856 -- u = 0.0:-0.0006208216531615374\n",
      "t:10329 -- u = 0.0:-6.979970346091604e-05\n",
      "t:856 -- u = 0.0:-0.0006208216531615374\n",
      "t:356 -- u = 0.0:-0.0014339445902054005\n",
      "t:96 -- u = 0.0:-0.005130547581677088\n",
      "t:246 -- u = 0.0:-0.002045662030738358\n",
      "t:1496 -- u = 0.0:-0.0003645672372807168\n",
      "t:491 -- u = 0.0:-0.0005223474287609036\n",
      "t:2990 -- u = 0.0:-2.570744851621233e-16\n",
      "t:1662 -- u = 0.0:-1.4807183343880737e-06\n",
      "t:1996 -- u = 0.0:-1.0552703008402242e-06\n",
      "t:2662 -- u = 0.0:-3.4756774069114724e-08\n",
      "t:4862 -- u = 0.0:-9.080125649259905e-12\n",
      "t:3329 -- u = 0.0:-7.115308336219532e-09\n",
      "t:8330 -- u = 0.0:-5.551115123125932e-17\n",
      "t:7996 -- u = 0.0:-2.2204460492505226e-16\n",
      "t:529 -- u = 0.0:-0.0002992513676255309\n",
      "t:7996 -- u = 0.0:-1.665334536937892e-16\n",
      "t:529 -- u = 0.0:-0.0002992513676255309\n",
      "t:529 -- u = 0.0:-0.0002992513676255309\n",
      "t:246 -- u = 0.0:-0.0012334214791850735\n",
      "t:1496 -- u = 0.0:-6.902474420174295e-06\n",
      "t:856 -- u = 0.0:-7.8974108604033e-05\n",
      "t:856 -- u = 0.0:-7.8974108604033e-05\n",
      "t:356 -- u = 0.0:-0.0006691220611303275\n",
      "t:96 -- u = 0.0:-0.004422011803766538\n",
      "t:246 -- u = 0.0:-0.001368530438202125\n",
      "t:1496 -- u = 0.0:-1.7080880446999987e-05\n",
      "t:491 -- u = 0.0:-0.00022321778611344916\n",
      "t:2991 -- u = 0.0:-9.531666966272318e-08\n",
      "t:1662 -- u = 0.0:-5.82395658579489e-09\n",
      "t:1996 -- u = 0.0:-1.1865133674470348e-09\n",
      "t:2662 -- u = 0.0:-3.2211455792858636e-12\n",
      "t:4927 -- u = 0.0:-5.551115123125783e-17\n",
      "t:3329 -- u = 0.0:-5.401235014877731e-14\n",
      "t:529 -- u = 0.0:-7.257209474246917e-05\n",
      "t:529 -- u = 0.0:-7.257209474246917e-05\n",
      "t:529 -- u = 0.0:-7.257209474246917e-05\n",
      "t:246 -- u = 0.0:-0.0007045076474006286\n",
      "t:1496 -- u = 0.0:-5.04524821905597e-08\n",
      "t:856 -- u = 0.0:-6.140273840816491e-06\n",
      "t:856 -- u = 0.0:-6.140273840816491e-06\n",
      "t:356 -- u = 0.0:-0.00027975984110600687\n",
      "t:96 -- u = 0.0:-0.003805195470248129\n",
      "t:246 -- u = 0.0:-0.0008883323313266522\n",
      "t:1496 -- u = 0.0:-3.8040986481729525e-07\n",
      "t:491 -- u = 0.0:-8.352342834663021e-05\n",
      "t:2991 -- u = 0.0:-2.4221236513210812e-11\n",
      "t:1662 -- u = 0.0:-4.518607710290036e-14\n",
      "t:1996 -- u = 0.0:-7.771561172376845e-16\n",
      "t:529 -- u = 0.0:-2.7061184529113175e-06\n",
      "t:529 -- u = 0.0:-2.7061184529113175e-06\n",
      "t:529 -- u = 0.0:-2.7061184529113175e-06\n",
      "t:246 -- u = 0.0:-0.00019339046773766042\n",
      "t:1496 -- u = 0.0:-1.357525203597191e-12\n",
      "t:856 -- u = 0.0:-2.004391324482162e-08\n",
      "t:856 -- u = 0.0:-2.004391324482162e-08\n",
      "t:356 -- u = 0.0:-3.64096836761481e-05\n",
      "t:96 -- u = 0.0:-0.002758814395773707\n",
      "t:246 -- u = 0.0:-0.0003322470852888184\n",
      "t:1496 -- u = 0.0:-9.645062676936596e-11\n",
      "t:491 -- u = 0.0:-8.381926503706839e-06\n",
      "t:3016 -- u = 0.0:-5.551115123125784e-17\n",
      "t:529 -- u = 0.0:-1.9515001420767365e-09\n",
      "t:529 -- u = 0.0:-1.9515001420767365e-09\n",
      "t:529 -- u = 0.0:-1.9515001420767365e-09\n",
      "t:246 -- u = 0.0:-9.50132721389005e-06\n",
      "t:856 -- u = 0.0:-1.0713652187703878e-13\n",
      "t:856 -- u = 0.0:-1.0713652187703878e-13\n",
      "t:356 -- u = 0.0:-3.502404641295848e-07\n",
      "t:96 -- u = 0.0:-0.0013405360598030122\n",
      "t:246 -- u = 0.0:-3.3224679378562344e-05\n",
      "t:1505 -- u = 0.0:-5.551115123125784e-17\n",
      "t:491 -- u = 0.0:-4.658522124586175e-08\n"
     ]
    }
   ],
   "source": [
    "t_u_lt0_alpha = []\n",
    "for j in range(0,params_initial.__len__()):\n",
    "    table_5_M = params_initial[j]\n",
    "    t_u_lt0_j = []\n",
    "    for i in range(0,params_na.shape[0]):\n",
    "\n",
    "        max_T_i = int(np.array(params_na.max_T)[i])\n",
    "        v = float(np.array(params_na.retail)[i])\n",
    "        d = float(np.array(params_na.bidincrement)[i])\n",
    "        b = float(np.array(params_na.bidfee)[i])\n",
    "\n",
    "        U_i,flag_t = cal_u(table_5_M,other_params = [max_T_i,v,d,b])\n",
    "        t_u_lt0_j.append(flag_t)\n",
    "    t_u_lt0_alpha.append(t_u_lt0_j)\n",
    "\n",
    "t_u_lt0_alpha = np.array(t_u_lt0_alpha)"
   ],
   "metadata": {
    "collapsed": false,
    "pycharm": {
     "name": "#%%\n"
    }
   }
  },
  {
   "cell_type": "markdown",
   "source": [
    "## 2.5 接上，探寻一下alpha的变化对于U的影响\n",
    "1. 设置了6+1组，3负3正以及一个(0.2)的设置，绘出7个曲线"
   ],
   "metadata": {
    "collapsed": false,
    "pycharm": {
     "name": "#%% md\n"
    }
   }
  },
  {
   "cell_type": "code",
   "execution_count": 13,
   "outputs": [
    {
     "name": "stderr",
     "output_type": "stream",
     "text": [
      "Setting up a new session...\n"
     ]
    }
   ],
   "source": [
    "# 29对应的1092在alpha值很大时不太行总是NA\n",
    "params_initial = [[-0.1,3.72],[-0.05,3.72],[-0.025,3.72],[-0.001,3.72],[0.001,3.72],[0.025,3.72],[0.05,3.72],[0.1,3.72],[0.2,3.72]]\n",
    "test_i = 29\n",
    "viz = Visdom(env=\"004\")\n",
    "t_u_lt0_alpha=[]"
   ],
   "metadata": {
    "collapsed": false,
    "pycharm": {
     "name": "#%%\n"
    }
   }
  },
  {
   "cell_type": "code",
   "execution_count": 14,
   "outputs": [
    {
     "name": "stdout",
     "output_type": "stream",
     "text": [
      "t:2990 -- u = 0.0:-3.4660518397742095e-15\n",
      "t:2990 -- u = 0.0:-1.7312413411898857e-15\n",
      "t:2990 -- u = 0.0:-8.636313063562333e-16\n",
      "t:2990 -- u = 0.0:-2.570744851621233e-16\n",
      "t:2991 -- u = 0.0:-6.945194938563114e-05\n",
      "t:2991 -- u = 0.0:-9.531666966272318e-08\n",
      "t:2991 -- u = 0.0:-2.4221236513210812e-11\n",
      "t:3016 -- u = 0.0:-5.551115123125784e-17\n"
     ]
    }
   ],
   "source": [
    "for j in range(0,params_initial.__len__()):\n",
    "    table_5_M = params_initial[j]\n",
    "    t_u_lt0_j = []\n",
    "    for i in range(test_i,test_i+1):\n",
    "\n",
    "        max_T_i = int(np.array(params_na.max_T)[i])\n",
    "        v = float(np.array(params_na.retail)[i])\n",
    "        d = float(np.array(params_na.bidincrement)[i])\n",
    "        b = float(np.array(params_na.bidfee)[i])\n",
    "\n",
    "        U_i,flag_t = cal_u(table_5_M,other_params = [max_T_i,v,d,b])\n",
    "        t_u_lt0_j.append(flag_t)\n",
    "        viz.line(np.array(U_i),np.arange(0,U_i.__len__()),win = 'U_1092 with alpha='+str(table_5_M[0]),env='004',opts=dict(title='U_1092 with alpha='+str(table_5_M[0])))\n",
    "\n",
    "    t_u_lt0_alpha.append(t_u_lt0_j)\n",
    "\n",
    "t_u_lt0_alpha = np.array(t_u_lt0_alpha)"
   ],
   "metadata": {
    "collapsed": false,
    "pycharm": {
     "name": "#%%\n"
    }
   }
  },
  {
   "cell_type": "markdown",
   "source": [
    "2. 对求解root的函数进行求导\n",
    "*失败失败失败*"
   ],
   "metadata": {
    "collapsed": false,
    "pycharm": {
     "name": "#%% md\n"
    }
   }
  },
  {
   "cell_type": "code",
   "execution_count": null,
   "outputs": [],
   "source": [
    "def u_func(t,v,d,b,alpha):\n",
    "    tmp = v-d*t-C(t-1,b) - b\n",
    "    return (f(C(t-1,b),alpha) - f(-tmp,alpha)) / (f(C(t-1,b)+b,alpha) + f(-tmp,alpha))\n",
    "\n",
    "for j in range(0,params_initial.__len__()):\n",
    "    table_5_M = params_initial[j]\n",
    "    t_u_lt0_j = []\n",
    "    for i in range(test_i,test_i+1):\n",
    "\n",
    "        max_T_i = int(np.array(params_na.max_T)[i])\n",
    "        v = float(np.array(params_na.retail)[i])\n",
    "        d = float(np.array(params_na.bidincrement)[i])\n",
    "        b = float(np.array(params_na.bidfee)[i])\n",
    "\n",
    "        #U_i,flag_t = cal_u(table_5_M,other_params = [max_T_i,v,d,b])\n",
    "        derivative(u_func, t, n=1, dx=1e-6)\n",
    "        t_u_lt0_j.append(flag_t)\n",
    "        viz.line(np.array(U_i),np.arange(0,U_i.__len__()),win = 'U_i with alpha='+str(table_5_M[0]),env='004',opts=dict(title='U_i with alpha='+str(table_5_M[0])))\n",
    "\n",
    "    t_u_lt0_alpha.append(t_u_lt0_j)\n",
    "\n",
    "max_T_i = int(np.array(params_na.max_T)[i])\n",
    "v = float(np.array(params_na.retail)[i])\n",
    "d = float(np.array(params_na.bidincrement)[i])\n",
    "b = float(np.array(params_na.bidfee)[i])"
   ],
   "metadata": {
    "collapsed": false,
    "pycharm": {
     "name": "#%%\n"
    }
   }
  },
  {
   "cell_type": "code",
   "execution_count": 276,
   "outputs": [
    {
     "ename": "TypeError",
     "evalue": "loop of ufunc does not support argument 0 of type Mul which has no callable exp method",
     "output_type": "error",
     "traceback": [
      "\u001B[1;31m---------------------------------------------------------------------------\u001B[0m",
      "\u001B[1;31mAttributeError\u001B[0m                            Traceback (most recent call last)",
      "\u001B[1;31mAttributeError\u001B[0m: 'Mul' object has no attribute 'exp'",
      "\nThe above exception was the direct cause of the following exception:\n",
      "\u001B[1;31mTypeError\u001B[0m                                 Traceback (most recent call last)",
      "\u001B[1;32m<ipython-input-276-8a56f45453ba>\u001B[0m in \u001B[0;36m<module>\u001B[1;34m\u001B[0m\n\u001B[0;32m      9\u001B[0m     \u001B[0malpha_d\u001B[0m\u001B[1;33m,\u001B[0m \u001B[0mt_d\u001B[0m \u001B[1;33m=\u001B[0m \u001B[0msympy\u001B[0m\u001B[1;33m.\u001B[0m\u001B[0msymbols\u001B[0m\u001B[1;33m(\u001B[0m\u001B[1;34m'a1 a2'\u001B[0m\u001B[1;33m)\u001B[0m\u001B[1;33m\u001B[0m\u001B[1;33m\u001B[0m\u001B[0m\n\u001B[0;32m     10\u001B[0m     \u001B[0mtmp\u001B[0m \u001B[1;33m=\u001B[0m \u001B[0mv\u001B[0m\u001B[1;33m-\u001B[0m\u001B[0md\u001B[0m\u001B[1;33m*\u001B[0m\u001B[0mt_d\u001B[0m\u001B[1;33m-\u001B[0m\u001B[0mC\u001B[0m\u001B[1;33m(\u001B[0m\u001B[0mt_d\u001B[0m\u001B[1;33m-\u001B[0m\u001B[1;36m1\u001B[0m\u001B[1;33m,\u001B[0m\u001B[0mb\u001B[0m\u001B[1;33m)\u001B[0m \u001B[1;33m-\u001B[0m \u001B[0mb\u001B[0m\u001B[1;33m\u001B[0m\u001B[1;33m\u001B[0m\u001B[0m\n\u001B[1;32m---> 11\u001B[1;33m     \u001B[0mu_func\u001B[0m \u001B[1;33m=\u001B[0m \u001B[1;33m(\u001B[0m\u001B[0mf\u001B[0m\u001B[1;33m(\u001B[0m\u001B[0mC\u001B[0m\u001B[1;33m(\u001B[0m\u001B[0mt_d\u001B[0m\u001B[1;33m-\u001B[0m\u001B[1;36m1\u001B[0m\u001B[1;33m,\u001B[0m\u001B[0mb\u001B[0m\u001B[1;33m)\u001B[0m\u001B[1;33m,\u001B[0m\u001B[0malpha_d\u001B[0m\u001B[1;33m)\u001B[0m \u001B[1;33m-\u001B[0m \u001B[0mf\u001B[0m\u001B[1;33m(\u001B[0m\u001B[1;33m-\u001B[0m\u001B[0mtmp\u001B[0m\u001B[1;33m,\u001B[0m\u001B[0malpha_d\u001B[0m\u001B[1;33m)\u001B[0m\u001B[1;33m)\u001B[0m \u001B[1;33m/\u001B[0m \u001B[1;33m(\u001B[0m\u001B[0mf\u001B[0m\u001B[1;33m(\u001B[0m\u001B[0mC\u001B[0m\u001B[1;33m(\u001B[0m\u001B[0mt_d\u001B[0m\u001B[1;33m-\u001B[0m\u001B[1;36m1\u001B[0m\u001B[1;33m,\u001B[0m\u001B[0mb\u001B[0m\u001B[1;33m)\u001B[0m\u001B[1;33m+\u001B[0m\u001B[0mb\u001B[0m\u001B[1;33m,\u001B[0m\u001B[0malpha_d\u001B[0m\u001B[1;33m)\u001B[0m \u001B[1;33m+\u001B[0m \u001B[0mf\u001B[0m\u001B[1;33m(\u001B[0m\u001B[1;33m-\u001B[0m\u001B[0mtmp\u001B[0m\u001B[1;33m,\u001B[0m\u001B[0malpha_d\u001B[0m\u001B[1;33m)\u001B[0m\u001B[1;33m)\u001B[0m\u001B[1;33m\u001B[0m\u001B[1;33m\u001B[0m\u001B[0m\n\u001B[0m\u001B[0;32m     12\u001B[0m     \u001B[0mprint\u001B[0m\u001B[1;33m(\u001B[0m\u001B[0msympy\u001B[0m\u001B[1;33m.\u001B[0m\u001B[0mdiff\u001B[0m\u001B[1;33m(\u001B[0m\u001B[0mu_func\u001B[0m\u001B[1;33m,\u001B[0m\u001B[0malpha_d\u001B[0m\u001B[1;33m)\u001B[0m\u001B[1;33m)\u001B[0m\u001B[1;33m\u001B[0m\u001B[1;33m\u001B[0m\u001B[0m\n\u001B[0;32m     13\u001B[0m \u001B[1;33m\u001B[0m\u001B[0m\n",
      "\u001B[1;32mD:\\Desktop\\PROJ\\PAProj\\GT_model\\SA_for_PT_funcs_delta_eq1.py\u001B[0m in \u001B[0;36mf\u001B[1;34m(x, alpha)\u001B[0m\n\u001B[0;32m     19\u001B[0m \u001B[1;33m\u001B[0m\u001B[0m\n\u001B[0;32m     20\u001B[0m \u001B[1;32mdef\u001B[0m \u001B[0mf\u001B[0m\u001B[1;33m(\u001B[0m\u001B[0mx\u001B[0m\u001B[1;33m,\u001B[0m \u001B[0malpha\u001B[0m\u001B[1;33m)\u001B[0m\u001B[1;33m:\u001B[0m\u001B[1;33m\u001B[0m\u001B[1;33m\u001B[0m\u001B[0m\n\u001B[1;32m---> 21\u001B[1;33m     \u001B[1;32mreturn\u001B[0m \u001B[1;33m(\u001B[0m\u001B[1;36m1\u001B[0m\u001B[1;33m-\u001B[0m\u001B[0mnp\u001B[0m\u001B[1;33m.\u001B[0m\u001B[0mexp\u001B[0m\u001B[1;33m(\u001B[0m\u001B[1;33m-\u001B[0m\u001B[0malpha\u001B[0m\u001B[1;33m*\u001B[0m\u001B[0mx\u001B[0m\u001B[1;33m)\u001B[0m\u001B[1;33m)\u001B[0m\u001B[1;33m\u001B[0m\u001B[1;33m\u001B[0m\u001B[0m\n\u001B[0m\u001B[0;32m     22\u001B[0m \u001B[1;33m\u001B[0m\u001B[0m\n\u001B[0;32m     23\u001B[0m \u001B[1;32mdef\u001B[0m \u001B[0mf_Equi\u001B[0m\u001B[1;33m(\u001B[0m\u001B[0mt\u001B[0m\u001B[1;33m,\u001B[0m\u001B[0mv\u001B[0m\u001B[1;33m,\u001B[0m\u001B[0md\u001B[0m\u001B[1;33m,\u001B[0m\u001B[0mb\u001B[0m\u001B[1;33m,\u001B[0m\u001B[0malpha\u001B[0m\u001B[1;33m,\u001B[0m\u001B[0mlabda\u001B[0m\u001B[1;33m)\u001B[0m\u001B[1;33m:\u001B[0m\u001B[1;33m\u001B[0m\u001B[1;33m\u001B[0m\u001B[0m\n",
      "\u001B[1;31mTypeError\u001B[0m: loop of ufunc does not support argument 0 of type Mul which has no callable exp method"
     ]
    }
   ],
   "source": [
    "import sympy\n",
    "for i in range(test_i,test_i+1):\n",
    "\n",
    "    max_T_i = int(np.array(params_na.max_T)[i])\n",
    "    v = float(np.array(params_na.retail)[i])\n",
    "    d = float(np.array(params_na.bidincrement)[i])\n",
    "    b = float(np.array(params_na.bidfee)[i])\n",
    "\n",
    "    alpha_d, t_d = sympy.symbols('a1 a2')\n",
    "    tmp = v-d*t_d-C(t_d-1,b) - b\n",
    "    u_func = (f(C(t_d-1,b),alpha_d) - f(-tmp,alpha_d)) / (f(C(t_d-1,b)+b,alpha_d) + f(-tmp,alpha_d))\n",
    "    print(sympy.diff(u_func,alpha_d))"
   ],
   "metadata": {
    "collapsed": false,
    "pycharm": {
     "name": "#%%\n"
    }
   }
  },
  {
   "cell_type": "markdown",
   "source": [
    "## 2.6 T和Max_T的差别有多大\n",
    "1. 首先理论duration的上界普遍偏大，大于实际duration。"
   ],
   "metadata": {
    "collapsed": false,
    "pycharm": {
     "name": "#%% md\n"
    }
   }
  },
  {
   "cell_type": "code",
   "execution_count": 198,
   "outputs": [
    {
     "name": "stderr",
     "output_type": "stream",
     "text": [
      "Setting up a new session...\n"
     ]
    },
    {
     "name": "stdout",
     "output_type": "stream",
     "text": [
      "有 *0.1335379892555641* 的auction setting，实际duration > 理论上限\n"
     ]
    },
    {
     "data": {
      "text/plain": "'diff for all: Max_T - T'"
     },
     "execution_count": 198,
     "metadata": {},
     "output_type": "execute_result"
    }
   ],
   "source": [
    "viz = Visdom(env='002')\n",
    "diff_T = np.array(params_opitim_delta_wset['max_T'] - params_opitim_delta_wset['T'])\n",
    "# print(f\"实际duration和理论duration的上界之差，平均有： *{np.mean(diff_T)}*\")\n",
    "# print(f\"实际duration和理论duration的上界之差，中位数有： *{np.median(diff_T)}*\")\n",
    "print(f\"有 *{sum(diff_T>0) / diff_T.__len__()}* 的auction setting，实际duration > 理论上限\")\n",
    "\n",
    "viz.bar(diff_T,win = 'diff for all: Max_T - T', env='002',opts= dict(title='diff for all: Max_T - T'))"
   ],
   "metadata": {
    "collapsed": false,
    "pycharm": {
     "name": "#%%\n"
    }
   }
  },
  {
   "cell_type": "markdown",
   "source": [
    "2. 而infer不出来的参数，他们的diff则普遍实际大于理论\n",
    "3. 虽然并不是所有“实际duration > 理论上限”的auction都infer不出来，**但是这个确实是infer不出来的重要原因之一。**\n",
    "    - 在T>0的时候"
   ],
   "metadata": {
    "collapsed": false,
    "pycharm": {
     "name": "#%% md\n"
    }
   }
  },
  {
   "cell_type": "code",
   "execution_count": 199,
   "outputs": [
    {
     "name": "stdout",
     "output_type": "stream",
     "text": [
      "对于infer不出来的30个setting来说\n",
      "有 *0.7333333333333333* 的auction setting，实际duration > 理论上限\n"
     ]
    },
    {
     "data": {
      "text/plain": "'diff for uninferred: Max_T - T'"
     },
     "execution_count": 199,
     "metadata": {},
     "output_type": "execute_result"
    }
   ],
   "source": [
    "diff_T_na = np.array(params_na['max_T'] - params_na['T'])\n",
    "print(\"对于infer不出来的30个setting来说\")\n",
    "print(f\"有 *{sum(diff_T_na>0) / diff_T_na.__len__()}* 的auction setting，实际duration > 理论上限\")\n",
    "viz.bar(diff_T_na,win = 'diff for uninferred: Max_T - T', env='002',opts= dict(title='diff for uninferred: Max_T - T'))"
   ],
   "metadata": {
    "collapsed": false,
    "pycharm": {
     "name": "#%%\n"
    }
   }
  },
  {
   "cell_type": "markdown",
   "source": [
    "4. 最后还剩15个infer不出来的，他们是不是max_T和T的差值真的很大，max_T和T差值很大的是不是都在这里了\n",
    "    - 差值大小：diff_p = (max_T-T)/T\n",
    "    -"
   ],
   "metadata": {
    "collapsed": false
   }
  },
  {
   "cell_type": "code",
   "execution_count": 63,
   "outputs": [
    {
     "data": {
      "text/plain": "    index  product_id  bidincrement  bidfee   retail  key_idx  alpha  delta  \\\n22    541    10011720          0.15    0.75  1549.99      541    NaN    NaN   \n27    941    10011706          0.12    0.60   180.00      941    NaN    NaN   \n29   1092    10011706          0.06    0.60   180.00     1092    NaN    NaN   \n11    235    10011047          0.15    0.75    79.95      235    NaN    NaN   \n25    821    10012220          0.12    0.60    12.00      821    NaN    NaN   \n23    546    10011781          0.15    0.75   129.00      546    NaN    NaN   \n9     175    10010871          0.15    0.75  1200.00      175    NaN    NaN   \n2      54    10010735          0.15    0.75   399.99       54    NaN    NaN   \n28   1091    10011707          0.06    0.60    30.00     1091    NaN    NaN   \n20    524    10011641          0.15    0.75   129.00      524    NaN    NaN   \n26    940    10011707          0.12    0.60    30.00      940    NaN    NaN   \n24    572    10011776          0.15    0.75    54.00      572    NaN    NaN   \n7     149    10010794          0.15    0.75  1199.99      149    NaN    NaN   \n4     124    10009874          0.15    0.75   499.95      124    NaN    NaN   \n0      21    10006485          0.15    0.75   249.99       21    NaN    NaN   \n8     151    10010878          0.15    0.75    79.95      151    NaN    NaN   \n14    331    10011308          0.15    0.75    79.95      331    NaN    NaN   \n15    416    10009318          0.15    0.75    37.50      416    NaN    NaN   \n5     133    10010049          0.15    0.75  1249.99      133    NaN    NaN   \n3      61    10010648          0.15    0.75   729.99       61    NaN    NaN   \n16    417    10002407          0.15    0.75   225.00      417    NaN    NaN   \n1      30    10002407          0.15    0.75   300.00       30    NaN    NaN   \n\n    labda  initial_loss  final_loss  avg_loss  max_T             T    diff_p  \n22    NaN           NaN         NaN       NaN  10674  10328.266667  0.033474  \n27    NaN           NaN         NaN       NaN   1551   1495.000000  0.037458  \n29    NaN           NaN         NaN       NaN   3295   2990.000000  0.102007  \n11    NaN           NaN         NaN       NaN    590    528.000000  0.117424  \n25    NaN           NaN         NaN       NaN    107     95.000000  0.126316  \n23    NaN           NaN         NaN       NaN    966    855.000000  0.129825  \n9     NaN           NaN         NaN       NaN   9347   7995.000000  0.169106  \n2     NaN           NaN         NaN       NaN   3202   2661.600000  0.203036  \n28    NaN           NaN         NaN       NaN    654    490.000000  0.334694  \n20    NaN           NaN         NaN       NaN   1211    855.000000  0.416374  \n26    NaN           NaN         NaN       NaN    401    245.000000  0.636735  \n24    NaN           NaN         NaN       NaN    669    355.000000  0.884507  \n7     NaN           NaN         NaN       NaN  15483   7994.933333  0.936602  \n4     NaN           NaN         NaN       NaN   6644   3328.000000  0.996394  \n0     NaN           NaN         NaN       NaN   3612   1661.600000  1.173808  \n8     NaN           NaN         NaN       NaN   1563    528.000000  1.960227  \n14    NaN           NaN         NaN       NaN   1925    528.000000  2.645833  \n15    NaN           NaN         NaN       NaN   1006    245.000000  3.106122  \n5     NaN           NaN         NaN       NaN  36770   8328.266667  3.415084  \n3     NaN           NaN         NaN       NaN  23195   4861.600000  3.771063  \n16    NaN           NaN         NaN       NaN   8468   1495.000000  4.664214  \n1     NaN           NaN         NaN       NaN  11887   1995.000000  4.958396  ",
      "text/html": "<div>\n<style scoped>\n    .dataframe tbody tr th:only-of-type {\n        vertical-align: middle;\n    }\n\n    .dataframe tbody tr th {\n        vertical-align: top;\n    }\n\n    .dataframe thead th {\n        text-align: right;\n    }\n</style>\n<table border=\"1\" class=\"dataframe\">\n  <thead>\n    <tr style=\"text-align: right;\">\n      <th></th>\n      <th>index</th>\n      <th>product_id</th>\n      <th>bidincrement</th>\n      <th>bidfee</th>\n      <th>retail</th>\n      <th>key_idx</th>\n      <th>alpha</th>\n      <th>delta</th>\n      <th>labda</th>\n      <th>initial_loss</th>\n      <th>final_loss</th>\n      <th>avg_loss</th>\n      <th>max_T</th>\n      <th>T</th>\n      <th>diff_p</th>\n    </tr>\n  </thead>\n  <tbody>\n    <tr>\n      <th>22</th>\n      <td>541</td>\n      <td>10011720</td>\n      <td>0.15</td>\n      <td>0.75</td>\n      <td>1549.99</td>\n      <td>541</td>\n      <td>NaN</td>\n      <td>NaN</td>\n      <td>NaN</td>\n      <td>NaN</td>\n      <td>NaN</td>\n      <td>NaN</td>\n      <td>10674</td>\n      <td>10328.266667</td>\n      <td>0.033474</td>\n    </tr>\n    <tr>\n      <th>27</th>\n      <td>941</td>\n      <td>10011706</td>\n      <td>0.12</td>\n      <td>0.60</td>\n      <td>180.00</td>\n      <td>941</td>\n      <td>NaN</td>\n      <td>NaN</td>\n      <td>NaN</td>\n      <td>NaN</td>\n      <td>NaN</td>\n      <td>NaN</td>\n      <td>1551</td>\n      <td>1495.000000</td>\n      <td>0.037458</td>\n    </tr>\n    <tr>\n      <th>29</th>\n      <td>1092</td>\n      <td>10011706</td>\n      <td>0.06</td>\n      <td>0.60</td>\n      <td>180.00</td>\n      <td>1092</td>\n      <td>NaN</td>\n      <td>NaN</td>\n      <td>NaN</td>\n      <td>NaN</td>\n      <td>NaN</td>\n      <td>NaN</td>\n      <td>3295</td>\n      <td>2990.000000</td>\n      <td>0.102007</td>\n    </tr>\n    <tr>\n      <th>11</th>\n      <td>235</td>\n      <td>10011047</td>\n      <td>0.15</td>\n      <td>0.75</td>\n      <td>79.95</td>\n      <td>235</td>\n      <td>NaN</td>\n      <td>NaN</td>\n      <td>NaN</td>\n      <td>NaN</td>\n      <td>NaN</td>\n      <td>NaN</td>\n      <td>590</td>\n      <td>528.000000</td>\n      <td>0.117424</td>\n    </tr>\n    <tr>\n      <th>25</th>\n      <td>821</td>\n      <td>10012220</td>\n      <td>0.12</td>\n      <td>0.60</td>\n      <td>12.00</td>\n      <td>821</td>\n      <td>NaN</td>\n      <td>NaN</td>\n      <td>NaN</td>\n      <td>NaN</td>\n      <td>NaN</td>\n      <td>NaN</td>\n      <td>107</td>\n      <td>95.000000</td>\n      <td>0.126316</td>\n    </tr>\n    <tr>\n      <th>23</th>\n      <td>546</td>\n      <td>10011781</td>\n      <td>0.15</td>\n      <td>0.75</td>\n      <td>129.00</td>\n      <td>546</td>\n      <td>NaN</td>\n      <td>NaN</td>\n      <td>NaN</td>\n      <td>NaN</td>\n      <td>NaN</td>\n      <td>NaN</td>\n      <td>966</td>\n      <td>855.000000</td>\n      <td>0.129825</td>\n    </tr>\n    <tr>\n      <th>9</th>\n      <td>175</td>\n      <td>10010871</td>\n      <td>0.15</td>\n      <td>0.75</td>\n      <td>1200.00</td>\n      <td>175</td>\n      <td>NaN</td>\n      <td>NaN</td>\n      <td>NaN</td>\n      <td>NaN</td>\n      <td>NaN</td>\n      <td>NaN</td>\n      <td>9347</td>\n      <td>7995.000000</td>\n      <td>0.169106</td>\n    </tr>\n    <tr>\n      <th>2</th>\n      <td>54</td>\n      <td>10010735</td>\n      <td>0.15</td>\n      <td>0.75</td>\n      <td>399.99</td>\n      <td>54</td>\n      <td>NaN</td>\n      <td>NaN</td>\n      <td>NaN</td>\n      <td>NaN</td>\n      <td>NaN</td>\n      <td>NaN</td>\n      <td>3202</td>\n      <td>2661.600000</td>\n      <td>0.203036</td>\n    </tr>\n    <tr>\n      <th>28</th>\n      <td>1091</td>\n      <td>10011707</td>\n      <td>0.06</td>\n      <td>0.60</td>\n      <td>30.00</td>\n      <td>1091</td>\n      <td>NaN</td>\n      <td>NaN</td>\n      <td>NaN</td>\n      <td>NaN</td>\n      <td>NaN</td>\n      <td>NaN</td>\n      <td>654</td>\n      <td>490.000000</td>\n      <td>0.334694</td>\n    </tr>\n    <tr>\n      <th>20</th>\n      <td>524</td>\n      <td>10011641</td>\n      <td>0.15</td>\n      <td>0.75</td>\n      <td>129.00</td>\n      <td>524</td>\n      <td>NaN</td>\n      <td>NaN</td>\n      <td>NaN</td>\n      <td>NaN</td>\n      <td>NaN</td>\n      <td>NaN</td>\n      <td>1211</td>\n      <td>855.000000</td>\n      <td>0.416374</td>\n    </tr>\n    <tr>\n      <th>26</th>\n      <td>940</td>\n      <td>10011707</td>\n      <td>0.12</td>\n      <td>0.60</td>\n      <td>30.00</td>\n      <td>940</td>\n      <td>NaN</td>\n      <td>NaN</td>\n      <td>NaN</td>\n      <td>NaN</td>\n      <td>NaN</td>\n      <td>NaN</td>\n      <td>401</td>\n      <td>245.000000</td>\n      <td>0.636735</td>\n    </tr>\n    <tr>\n      <th>24</th>\n      <td>572</td>\n      <td>10011776</td>\n      <td>0.15</td>\n      <td>0.75</td>\n      <td>54.00</td>\n      <td>572</td>\n      <td>NaN</td>\n      <td>NaN</td>\n      <td>NaN</td>\n      <td>NaN</td>\n      <td>NaN</td>\n      <td>NaN</td>\n      <td>669</td>\n      <td>355.000000</td>\n      <td>0.884507</td>\n    </tr>\n    <tr>\n      <th>7</th>\n      <td>149</td>\n      <td>10010794</td>\n      <td>0.15</td>\n      <td>0.75</td>\n      <td>1199.99</td>\n      <td>149</td>\n      <td>NaN</td>\n      <td>NaN</td>\n      <td>NaN</td>\n      <td>NaN</td>\n      <td>NaN</td>\n      <td>NaN</td>\n      <td>15483</td>\n      <td>7994.933333</td>\n      <td>0.936602</td>\n    </tr>\n    <tr>\n      <th>4</th>\n      <td>124</td>\n      <td>10009874</td>\n      <td>0.15</td>\n      <td>0.75</td>\n      <td>499.95</td>\n      <td>124</td>\n      <td>NaN</td>\n      <td>NaN</td>\n      <td>NaN</td>\n      <td>NaN</td>\n      <td>NaN</td>\n      <td>NaN</td>\n      <td>6644</td>\n      <td>3328.000000</td>\n      <td>0.996394</td>\n    </tr>\n    <tr>\n      <th>0</th>\n      <td>21</td>\n      <td>10006485</td>\n      <td>0.15</td>\n      <td>0.75</td>\n      <td>249.99</td>\n      <td>21</td>\n      <td>NaN</td>\n      <td>NaN</td>\n      <td>NaN</td>\n      <td>NaN</td>\n      <td>NaN</td>\n      <td>NaN</td>\n      <td>3612</td>\n      <td>1661.600000</td>\n      <td>1.173808</td>\n    </tr>\n    <tr>\n      <th>8</th>\n      <td>151</td>\n      <td>10010878</td>\n      <td>0.15</td>\n      <td>0.75</td>\n      <td>79.95</td>\n      <td>151</td>\n      <td>NaN</td>\n      <td>NaN</td>\n      <td>NaN</td>\n      <td>NaN</td>\n      <td>NaN</td>\n      <td>NaN</td>\n      <td>1563</td>\n      <td>528.000000</td>\n      <td>1.960227</td>\n    </tr>\n    <tr>\n      <th>14</th>\n      <td>331</td>\n      <td>10011308</td>\n      <td>0.15</td>\n      <td>0.75</td>\n      <td>79.95</td>\n      <td>331</td>\n      <td>NaN</td>\n      <td>NaN</td>\n      <td>NaN</td>\n      <td>NaN</td>\n      <td>NaN</td>\n      <td>NaN</td>\n      <td>1925</td>\n      <td>528.000000</td>\n      <td>2.645833</td>\n    </tr>\n    <tr>\n      <th>15</th>\n      <td>416</td>\n      <td>10009318</td>\n      <td>0.15</td>\n      <td>0.75</td>\n      <td>37.50</td>\n      <td>416</td>\n      <td>NaN</td>\n      <td>NaN</td>\n      <td>NaN</td>\n      <td>NaN</td>\n      <td>NaN</td>\n      <td>NaN</td>\n      <td>1006</td>\n      <td>245.000000</td>\n      <td>3.106122</td>\n    </tr>\n    <tr>\n      <th>5</th>\n      <td>133</td>\n      <td>10010049</td>\n      <td>0.15</td>\n      <td>0.75</td>\n      <td>1249.99</td>\n      <td>133</td>\n      <td>NaN</td>\n      <td>NaN</td>\n      <td>NaN</td>\n      <td>NaN</td>\n      <td>NaN</td>\n      <td>NaN</td>\n      <td>36770</td>\n      <td>8328.266667</td>\n      <td>3.415084</td>\n    </tr>\n    <tr>\n      <th>3</th>\n      <td>61</td>\n      <td>10010648</td>\n      <td>0.15</td>\n      <td>0.75</td>\n      <td>729.99</td>\n      <td>61</td>\n      <td>NaN</td>\n      <td>NaN</td>\n      <td>NaN</td>\n      <td>NaN</td>\n      <td>NaN</td>\n      <td>NaN</td>\n      <td>23195</td>\n      <td>4861.600000</td>\n      <td>3.771063</td>\n    </tr>\n    <tr>\n      <th>16</th>\n      <td>417</td>\n      <td>10002407</td>\n      <td>0.15</td>\n      <td>0.75</td>\n      <td>225.00</td>\n      <td>417</td>\n      <td>NaN</td>\n      <td>NaN</td>\n      <td>NaN</td>\n      <td>NaN</td>\n      <td>NaN</td>\n      <td>NaN</td>\n      <td>8468</td>\n      <td>1495.000000</td>\n      <td>4.664214</td>\n    </tr>\n    <tr>\n      <th>1</th>\n      <td>30</td>\n      <td>10002407</td>\n      <td>0.15</td>\n      <td>0.75</td>\n      <td>300.00</td>\n      <td>30</td>\n      <td>NaN</td>\n      <td>NaN</td>\n      <td>NaN</td>\n      <td>NaN</td>\n      <td>NaN</td>\n      <td>NaN</td>\n      <td>11887</td>\n      <td>1995.000000</td>\n      <td>4.958396</td>\n    </tr>\n  </tbody>\n</table>\n</div>"
     },
     "execution_count": 63,
     "metadata": {},
     "output_type": "execute_result"
    }
   ],
   "source": [
    "# viz = Visdom(env='002')\n",
    "params_na_maxT_gt_T = params_na[(params_na.loc[:,'max_T'] - params_na.loc[:,'T']) > 0]\n",
    "params_na_maxT_gt_T = params_na_maxT_gt_T.copy()\n",
    "params_na_maxT_gt_T['diff_p'] = np.array(params_na_maxT_gt_T.loc[:,'max_T'] - params_na_maxT_gt_T.loc[:,'T']) / params_na_maxT_gt_T.loc[:,'T']\n",
    "params_na_maxT_gt_T.sort_values('diff_p',inplace=True)\n",
    "# print(f\"对于infer不出来的 *{params_na.shape[0]}* 个setting来说\")\n",
    "#print(diff_p)\n",
    "\n",
    "params_maxT_gt_T = params_opitim_delta_wset[(params_opitim_delta_wset.loc[:,'max_T'] - params_opitim_delta_wset.loc[:,'T']) > 0]\n",
    "params_maxT_gt_T = params_maxT_gt_T.copy()\n",
    "params_maxT_gt_T['diff_all_p'] = np.array(params_maxT_gt_T.loc[:,'max_T'] - params_maxT_gt_T.loc[:,'T']) / params_maxT_gt_T.loc[:,'T']\n",
    "params_maxT_gt_T.sort_values('diff_all_p',inplace=True)\n",
    "# print(diff_all_p)\n",
    "\n",
    "# print(np.array([range(0,diff_all_p.shape[0]),diff_all_p]).T)\n",
    "params_na_maxT_gt_T\n",
    "# viz.line(diff_p,np.arange(0,diff_p.shape[0]),win = 'diff percentage', env='002',update='append',opts= dict(title='diff percentage',linecolor = np.array(50)))\n",
    "# viz.line(diff_all_p,np.arange(0,diff_all_p.shape[0]),win = 'diff percentage', env='002',update='append',opts= dict(title='diff percentage'))\n",
    "# viz.scatter(diff_all_p,win = 'diff percentage',  env='002',opts= dict(title='diff percentage',legend=['diff_all_p']))\n",
    "# viz.boxplot(X=[diff_all_p,diff_p],win = 'diff percentage',env='002',opts= dict(title='diff percentage',legend=['diff_all_p','diff_p']))"
   ],
   "metadata": {
    "collapsed": false,
    "pycharm": {
     "name": "#%%\n"
    }
   }
  },
  {
   "cell_type": "markdown",
   "source": [
    "## 2.7 f(x)与alpha和x的关系\n",
    "$f(x) = 1-exp((-\\alpha*x))$\n",
    "1. 当`alpha<0`时，此时f随着x递减此时f随着x递减, 但是x很大时，`f(x)`无限接近-inf ：\n",
    "> RuntimeWarning: overflow encountered in exp return (1-np.exp(-alpha*x))\n",
    "2. 当`alpha>0`时，f随着x递增直到1然后不变。"
   ],
   "metadata": {
    "collapsed": false,
    "pycharm": {
     "name": "#%% md\n"
    }
   }
  },
  {
   "cell_type": "code",
   "execution_count": 225,
   "outputs": [
    {
     "data": {
      "text/plain": "'f_alpha_ls0'"
     },
     "execution_count": 225,
     "metadata": {},
     "output_type": "execute_result"
    }
   ],
   "source": [
    "x = np.arange(0,1000)\n",
    "viz.line(f(x,0.025),x,win = 'f_alpha_gt0', env='002',opts= dict(title='f_alpha_gt0'))\n",
    "# 会提示溢出\n",
    "viz.line(f(x,-0.025),x,win = 'f_alpha_ls0', env='002',opts= dict(title='f_alpha_ls0'))"
   ],
   "metadata": {
    "collapsed": false,
    "pycharm": {
     "name": "#%%\n"
    }
   }
  },
  {
   "cell_type": "markdown",
   "source": [
    "3. 比较一下f的导数和alpha的关系：\n",
    "    - $df = (-\\alpha)*exp((-\\alpha*x))$\n",
    "    - `alpha>0`时，导数有界而且，当x比较大时，导数增速也很慢\n",
    "    - `alpha<0`时，导数是一个指数函数，绝对值可以到inf"
   ],
   "metadata": {
    "collapsed": false,
    "pycharm": {
     "name": "#%% md\n"
    }
   }
  },
  {
   "cell_type": "code",
   "execution_count": 226,
   "outputs": [
    {
     "data": {
      "text/plain": "'df_alpha_ls0'"
     },
     "execution_count": 226,
     "metadata": {},
     "output_type": "execute_result"
    }
   ],
   "source": [
    "viz.line(0.025*f(x,0.025),x,win = 'df_alpha_gt0', env='002',opts= dict(title='df_alpha_gt0'))\n",
    "viz.line((-0.025)*f(x,-0.025),x,win = 'df_alpha_ls0', env='002',opts= dict(title='df_alpha_ls0'))"
   ],
   "metadata": {
    "collapsed": false,
    "pycharm": {
     "name": "#%%\n"
    }
   }
  },
  {
   "cell_type": "markdown",
   "source": [
    "# 3 retry\n",
    "## 3.1 对于Max_T<5000的重新取一下初始值去infer, 看看u的情况"
   ],
   "metadata": {
    "collapsed": false,
    "pycharm": {
     "name": "#%% md\n"
    }
   }
  },
  {
   "cell_type": "code",
   "execution_count": 93,
   "outputs": [
    {
     "name": "stderr",
     "output_type": "stream",
     "text": [
      "Setting up a new session...\n"
     ]
    },
    {
     "name": "stdout",
     "output_type": "stream",
     "text": [
      "一共有 *15* 个auction setting需要在新的初始值下infer\n"
     ]
    }
   ],
   "source": [
    "idx_5k = ((pd.isna(params_na.alpha)) & (params_na.max_T<5000))\n",
    "params_5k = params_na[idx_5k][:]\n",
    "print(f\"一共有 *{params_5k.shape[0]}* 个auction setting需要在新的初始值下infer\")\n",
    "viz = Visdom(env='003')"
   ],
   "metadata": {
    "collapsed": false,
    "pycharm": {
     "name": "#%%\n"
    }
   }
  },
  {
   "cell_type": "code",
   "execution_count": 99,
   "outputs": [
    {
     "name": "stdout",
     "output_type": "stream",
     "text": [
      "t:529 -- u = 0.0:-1.9515001420767365e-09\n",
      "t:529 -- u = 0.0:-1.9515001420767365e-09\n",
      "t:529 -- u = 0.0:-1.9515001420767365e-09\n",
      "t:246 -- u = 0.0:-9.50132721389005e-06\n",
      "t:856 -- u = 0.0:-1.0713652187703878e-13\n",
      "t:856 -- u = 0.0:-1.0713652187703878e-13\n",
      "t:356 -- u = 0.0:-3.502404641295848e-07\n",
      "t:96 -- u = 0.0:-0.0013405360598030122\n",
      "t:246 -- u = 0.0:-3.3224679378562344e-05\n",
      "t:1505 -- u = 0.0:-5.551115123125784e-17\n",
      "t:491 -- u = 0.0:-4.658522124586175e-08\n"
     ]
    }
   ],
   "source": [
    "for i in range(0,params_5k.shape[0]):\n",
    "\n",
    "    max_T_i = int(np.array(params_5k.max_T)[i])\n",
    "    v = float(np.array(params_5k.retail)[i])\n",
    "    d = float(np.array(params_5k.bidincrement)[i])\n",
    "    b = float(np.array(params_5k.bidfee)[i])\n",
    "\n",
    "    U_i,flag_t = cal_u(table_5_M,other_params = [max_T_i,v,d,b])\n",
    "    t_u_lt0.append(flag_t)\n",
    "    viz.line(np.array(U_i),np.arange(0,U_i.__len__()),win = 'U‘ of '+str(i),env='003',opts=dict(title='U’ of '+str(i)))"
   ],
   "metadata": {
    "collapsed": false,
    "pycharm": {
     "name": "#%%\n"
    }
   }
  },
  {
   "cell_type": "code",
   "execution_count": null,
   "outputs": [],
   "source": [],
   "metadata": {
    "collapsed": false,
    "pycharm": {
     "name": "#%%\n"
    }
   }
  }
 ],
 "metadata": {
  "kernelspec": {
   "display_name": "Python 3",
   "language": "python",
   "name": "python3"
  },
  "language_info": {
   "codemirror_mode": {
    "name": "ipython",
    "version": 2
   },
   "file_extension": ".py",
   "mimetype": "text/x-python",
   "name": "python",
   "nbconvert_exporter": "python",
   "pygments_lexer": "ipython2",
   "version": "2.7.6"
  }
 },
 "nbformat": 4,
 "nbformat_minor": 0
}