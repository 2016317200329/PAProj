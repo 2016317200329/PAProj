{
 "cells": [
  {
   "cell_type": "code",
   "execution_count": 1,
   "outputs": [],
   "source": [
    "%load_ext autoreload\n",
    "%autoreload 2"
   ],
   "metadata": {
    "collapsed": false,
    "pycharm": {
     "name": "#%%\n"
    }
   }
  },
  {
   "cell_type": "code",
   "execution_count": 2,
   "metadata": {
    "collapsed": true
   },
   "outputs": [],
   "source": [
    "#!/usr/bin/env python\n",
    "# -*- coding: utf-8 -*-\n",
    "# @Time    : 2022/11/05 16:11\n",
    "# @Author  : Wang Yujia\n",
    "# @File    : SA_for_PT_model_unsolved.ipynb\n",
    "# @Description : Parameter estimation for PT_model using Simulated Annealing and Delta==1.\n",
    "#                   Some settings fail in inference and I wonder why."
   ]
  },
  {
   "cell_type": "markdown",
   "source": [
    "# 0. What for\n",
    "1. 一些参数infer不出来，这里探究一下why\n",
    "\n",
    "# 1. Preparations\n",
    "## 1.1 全局设置"
   ],
   "metadata": {
    "collapsed": false,
    "pycharm": {
     "name": "#%% md\n"
    }
   }
  },
  {
   "cell_type": "code",
   "execution_count": 148,
   "outputs": [],
   "source": [
    "# data_key path\n",
    "data_key_path = \"../data/SA_PT/data_key.csv\"\n",
    "# inferred params\n",
    "params_opitim_delta_wset_path = \"../data/SA_PT/params_opitim_delta_wset.csv\"\n",
    "# 初始参数\n",
    "table_5_M = [0.025,3.72]\n",
    "\n",
    "import numpy as np\n",
    "import pandas as pd\n",
    "from visdom import Visdom\n",
    "from SA_for_PT_funcs_delta_eq1 import *"
   ],
   "metadata": {
    "collapsed": false,
    "pycharm": {
     "name": "#%%\n"
    }
   }
  },
  {
   "cell_type": "markdown",
   "source": [
    "## 1.2 data 读取"
   ],
   "metadata": {
    "collapsed": false,
    "pycharm": {
     "name": "#%% md\n"
    }
   }
  },
  {
   "cell_type": "code",
   "execution_count": 176,
   "outputs": [],
   "source": [
    "data_key = pd.read_csv(data_key_path, encoding=\"utf-8\")\n",
    "params_opitim_delta_wset = pd.read_csv(params_opitim_delta_wset_path, encoding=\"utf-8\")"
   ],
   "metadata": {
    "collapsed": false,
    "pycharm": {
     "name": "#%%\n"
    }
   }
  },
  {
   "cell_type": "markdown",
   "source": [
    "# 1.3. 提取没能infer的auction参数"
   ],
   "metadata": {
    "collapsed": false,
    "pycharm": {
     "name": "#%% md\n"
    }
   }
  },
  {
   "cell_type": "code",
   "execution_count": 191,
   "outputs": [
    {
     "name": "stderr",
     "output_type": "stream",
     "text": [
      "Setting up a new session...\n"
     ]
    },
    {
     "name": "stdout",
     "output_type": "stream",
     "text": [
      "一共有 *30* 个auction setting没能infer出来（NaN）\n"
     ]
    }
   ],
   "source": [
    "idx_na = pd.isna(params_opitim_delta_wset.alpha)\n",
    "params_na = params_opitim_delta_wset[idx_na][:].reset_index()\n",
    "print(f\"一共有 *{params_na.shape[0]}* 个auction setting没能infer出来（NaN）\")\n",
    "viz = Visdom(env='002')"
   ],
   "metadata": {
    "collapsed": false,
    "pycharm": {
     "name": "#%%\n"
    }
   }
  },
  {
   "cell_type": "markdown",
   "source": [
    "# 1.4 cal u"
   ],
   "metadata": {
    "collapsed": false,
    "pycharm": {
     "name": "#%% md\n"
    }
   }
  },
  {
   "cell_type": "code",
   "execution_count": 247,
   "outputs": [],
   "source": [
    "def cal_u(params,other_params):\n",
    "    alpha = params[0]\n",
    "    labda = params[1]\n",
    "    max_T,v,d,b = other_params\n",
    "\n",
    "    # solve for U from Equi. condt.\n",
    "    U_i = [0] * (max_T + 1)\n",
    "    U_i[0] = 1\n",
    "    flag = 1\n",
    "    flag_t = 0\n",
    "    for t in range(1,max_T+1):\n",
    "\n",
    "        U_i[t] = f_Equi(t, v, d, b, alpha, labda)\n",
    "        # 等于或小于0\n",
    "        #if(flag & (np.isclose(U_i[t],0.0) | (U_i[t]<0))):\n",
    "        # 小于0\n",
    "        if(flag & (U_i[t]<0)):\n",
    "            print(f\"t:{t} -- u = 0.0:{U_i[t]}\")\n",
    "            flag_t = t\n",
    "            flag = 0\n",
    "    if(U_i[0]==1):\n",
    "        U_i.pop(0)\n",
    "    return U_i,(flag_t-1)"
   ],
   "metadata": {
    "collapsed": false,
    "pycharm": {
     "name": "#%%\n"
    }
   }
  },
  {
   "cell_type": "markdown",
   "source": [
    "# 2. 分析\n",
    "## 2.1 是因为max_T太大了导致infer不出来吗\n",
    "1. max_T很小的时候，也有infer不出来的"
   ],
   "metadata": {
    "collapsed": false,
    "pycharm": {
     "name": "#%% md\n"
    }
   }
  },
  {
   "cell_type": "code",
   "execution_count": 150,
   "outputs": [
    {
     "name": "stdout",
     "output_type": "stream",
     "text": [
      "max_T 平均值是 *10089.266666666666*\n",
      "max_T 最小的是 *107*\n"
     ]
    }
   ],
   "source": [
    "viz.bar(np.array(params_na.max_T),win = 'Max_T distrb.', env='002',opts= dict(title='Max_T distrb.'))\n",
    "print(f\"max_T 平均值是 *{np.mean(np.array(params_na.max_T))}*\")\n",
    "print(f\"max_T 最小的是 *{np.min(np.array(params_na.max_T))}*\")"
   ],
   "metadata": {
    "collapsed": false,
    "pycharm": {
     "name": "#%%\n"
    }
   }
  },
  {
   "cell_type": "markdown",
   "source": [
    "## 2.2 infer时，计算初始loss会出问题吗\n",
    "1. 用`t_u_lt0`记录下每个setting里，第一个<0的t值，如果`t_u_lt0[t] == -1`这说明并没有<0的数\n",
    "2. 这30个均出现了<=0的情况。而且<0的情况有 21/30的比例，只有9个setting下不存在<0的u"
   ],
   "metadata": {
    "collapsed": false,
    "pycharm": {
     "name": "#%% md\n"
    }
   }
  },
  {
   "cell_type": "code",
   "execution_count": 248,
   "outputs": [
    {
     "name": "stdout",
     "output_type": "stream",
     "text": [
      "t:1662 -- u = 0.0:-1.4807183343880737e-06\n",
      "t:1996 -- u = 0.0:-1.0552703008402242e-06\n",
      "t:2662 -- u = 0.0:-3.4756774069114724e-08\n",
      "t:4862 -- u = 0.0:-9.080125649259905e-12\n",
      "t:3329 -- u = 0.0:-7.115308336219532e-09\n",
      "t:8330 -- u = 0.0:-5.551115123125932e-17\n",
      "t:7996 -- u = 0.0:-2.2204460492505226e-16\n",
      "t:529 -- u = 0.0:-0.0002992513676255309\n",
      "t:7996 -- u = 0.0:-1.665334536937892e-16\n",
      "t:529 -- u = 0.0:-0.0002992513676255309\n",
      "t:529 -- u = 0.0:-0.0002992513676255309\n",
      "t:246 -- u = 0.0:-0.0012334214791850735\n",
      "t:1496 -- u = 0.0:-6.902474420174295e-06\n",
      "t:856 -- u = 0.0:-7.8974108604033e-05\n",
      "t:856 -- u = 0.0:-7.8974108604033e-05\n",
      "t:356 -- u = 0.0:-0.0006691220611303275\n",
      "t:96 -- u = 0.0:-0.004422011803766538\n",
      "t:246 -- u = 0.0:-0.001368530438202125\n",
      "t:1496 -- u = 0.0:-1.7080880446999987e-05\n",
      "t:491 -- u = 0.0:-0.00022321778611344916\n",
      "t:2991 -- u = 0.0:-9.531666966272318e-08\n"
     ]
    }
   ],
   "source": [
    "#viz = Visdom(env='003')\n",
    "t_u_lt0 = []\n",
    "U_na = pd.DataFrame()\n",
    "for i in range(0,params_na.shape[0]):\n",
    "\n",
    "    max_T_i = int(np.array(params_na.max_T)[i])\n",
    "    v = float(np.array(params_na.retail)[i])\n",
    "    d = float(np.array(params_na.bidincrement)[i])\n",
    "    b = float(np.array(params_na.bidfee)[i])\n",
    "\n",
    "    U_i,flag_t = cal_u(table_5_M,other_params = [max_T_i,v,d,b])\n",
    "    U_na.append(U_i)\n",
    "    t_u_lt0.append(flag_t)\n",
    "    #viz.line(np.array(U_i),np.arange(0,U_i.__len__()),win = 'U of '+str(i),env='003',opts=dict(title='U of '+str(i)))"
   ],
   "metadata": {
    "collapsed": false,
    "pycharm": {
     "name": "#%%\n"
    }
   }
  },
  {
   "cell_type": "markdown",
   "source": [
    "3. 有3/30个auction，u恒>0；有6/30个auction，u=0而没有<0；有 21/30个auction,出现了u<0的情况\n",
    "    - 3个auction：降低SA的停止条件可以infer出来\n",
    "    - 6个auction："
   ],
   "metadata": {
    "collapsed": false,
    "pycharm": {
     "name": "#%% md\n"
    }
   }
  },
  {
   "cell_type": "code",
   "execution_count": 246,
   "outputs": [
    {
     "name": "stdout",
     "output_type": "stream",
     "text": [
      "在30个没infer出结果的auction setting里，有 *3* 个并未出现u<=0的情况（u均>0）\n",
      "    index  product_id  bidincrement  bidfee   retail  key_idx  alpha  delta  \\\n",
      "6     144    10010498          0.01    0.75  1899.99      144    NaN    NaN   \n",
      "17    469    10010868          0.01    0.75   149.99      469    NaN    NaN   \n",
      "21    540    10011706          0.01    0.75   225.00      540    NaN    NaN   \n",
      "\n",
      "    labda  initial_loss  final_loss  avg_loss  max_T         T  \n",
      "6     NaN           NaN         NaN       NaN  18091  189924.0  \n",
      "17    NaN           NaN         NaN       NaN   2155   14924.0  \n",
      "21    NaN           NaN         NaN       NaN   7745   22425.0  \n"
     ]
    }
   ],
   "source": [
    "# 只运行一次就好\n",
    "idx_u_gt0 = []\n",
    "for i in range(0,params_na.shape[0]):\n",
    "    if(t_u_lt0[i] == -1):\n",
    "        idx_u_gt0.append(i)\n",
    "print(f\"在30个没infer出结果的auction setting里，有 *{idx_u_gt0.__len__()}* 个并未出现u<=0的情况（u均>0）\")\n",
    "print(params_na.iloc[idx_u_gt0][:])"
   ],
   "metadata": {
    "collapsed": false,
    "pycharm": {
     "name": "#%%\n"
    }
   }
  },
  {
   "cell_type": "code",
   "execution_count": 260,
   "outputs": [
    {
     "name": "stdout",
     "output_type": "stream",
     "text": [
      "    index  product_id  bidincrement  bidfee   retail  key_idx  alpha  delta  \\\n",
      "0      21    10006485          0.15    0.75   249.99       21    NaN    NaN   \n",
      "1      30    10002407          0.15    0.75   300.00       30    NaN    NaN   \n",
      "2      54    10010735          0.15    0.75   399.99       54    NaN    NaN   \n",
      "3      61    10010648          0.15    0.75   729.99       61    NaN    NaN   \n",
      "4     124    10009874          0.15    0.75   499.95      124    NaN    NaN   \n",
      "5     133    10010049          0.15    0.75  1249.99      133    NaN    NaN   \n",
      "7     149    10010794          0.15    0.75  1199.99      149    NaN    NaN   \n",
      "8     151    10010878          0.15    0.75    79.95      151    NaN    NaN   \n",
      "9     175    10010871          0.15    0.75  1200.00      175    NaN    NaN   \n",
      "11    235    10011047          0.15    0.75    79.95      235    NaN    NaN   \n",
      "14    331    10011308          0.15    0.75    79.95      331    NaN    NaN   \n",
      "15    416    10009318          0.15    0.75    37.50      416    NaN    NaN   \n",
      "16    417    10002407          0.15    0.75   225.00      417    NaN    NaN   \n",
      "20    524    10011641          0.15    0.75   129.00      524    NaN    NaN   \n",
      "23    546    10011781          0.15    0.75   129.00      546    NaN    NaN   \n",
      "24    572    10011776          0.15    0.75    54.00      572    NaN    NaN   \n",
      "25    821    10012220          0.12    0.60    12.00      821    NaN    NaN   \n",
      "26    940    10011707          0.12    0.60    30.00      940    NaN    NaN   \n",
      "27    941    10011706          0.12    0.60   180.00      941    NaN    NaN   \n",
      "28   1091    10011707          0.06    0.60    30.00     1091    NaN    NaN   \n",
      "29   1092    10011706          0.06    0.60   180.00     1092    NaN    NaN   \n",
      "\n",
      "    labda  initial_loss  final_loss  avg_loss  max_T            T  \n",
      "0     NaN           NaN         NaN       NaN   3612  1661.600000  \n",
      "1     NaN           NaN         NaN       NaN  11887  1995.000000  \n",
      "2     NaN           NaN         NaN       NaN   3202  2661.600000  \n",
      "3     NaN           NaN         NaN       NaN  23195  4861.600000  \n",
      "4     NaN           NaN         NaN       NaN   6644  3328.000000  \n",
      "5     NaN           NaN         NaN       NaN  36770  8328.266667  \n",
      "7     NaN           NaN         NaN       NaN  15483  7994.933333  \n",
      "8     NaN           NaN         NaN       NaN   1563   528.000000  \n",
      "9     NaN           NaN         NaN       NaN   9347  7995.000000  \n",
      "11    NaN           NaN         NaN       NaN    590   528.000000  \n",
      "14    NaN           NaN         NaN       NaN   1925   528.000000  \n",
      "15    NaN           NaN         NaN       NaN   1006   245.000000  \n",
      "16    NaN           NaN         NaN       NaN   8468  1495.000000  \n",
      "20    NaN           NaN         NaN       NaN   1211   855.000000  \n",
      "23    NaN           NaN         NaN       NaN    966   855.000000  \n",
      "24    NaN           NaN         NaN       NaN    669   355.000000  \n",
      "25    NaN           NaN         NaN       NaN    107    95.000000  \n",
      "26    NaN           NaN         NaN       NaN    401   245.000000  \n",
      "27    NaN           NaN         NaN       NaN   1551  1495.000000  \n",
      "28    NaN           NaN         NaN       NaN    654   490.000000  \n",
      "29    NaN           NaN         NaN       NaN   3295  2990.000000  \n"
     ]
    }
   ],
   "source": [
    "# 只运行一次就好\n",
    "idx_u_eq0 = [10,12,13,18,19,22]\n",
    "idx_u_ls0 = []\n",
    "for i in range(0,params_na.shape[0]):\n",
    "    if (np.isin(i,idx_u_gt0) | np.isin(i,idx_u_eq0)):\n",
    "        continue\n",
    "    else:\n",
    "        idx_u_ls0.append(i)\n",
    "print(params_na.iloc[idx_u_ls0][:])"
   ],
   "metadata": {
    "collapsed": false,
    "pycharm": {
     "name": "#%%\n"
    }
   }
  },
  {
   "cell_type": "markdown",
   "source": [
    "## 2.3 可以infer的setting的u是怎么样的呢\n",
    "3. 但是有一些初始loss为inf（比如max_T较大的情况），但是也可以infer出来的。筛选出这些settings\n",
    "4. 筛选出`max_T>20000`并且能infer出来结果（至少不会卡住的）的setting `params_2w`，计算他们的初始u"
   ],
   "metadata": {
    "collapsed": false,
    "pycharm": {
     "name": "#%% md\n"
    }
   }
  },
  {
   "cell_type": "code",
   "execution_count": 80,
   "outputs": [
    {
     "name": "stderr",
     "output_type": "stream",
     "text": [
      "Setting up a new session...\n"
     ]
    }
   ],
   "source": [
    "idx_2w = ((pd.notna(params_opitim_delta_wset.alpha)) & (params_opitim_delta_wset.max_T>20000))\n",
    "params_2w = params_opitim_delta_wset[idx_2w][:]\n",
    "viz = Visdom(env='004')"
   ],
   "metadata": {
    "collapsed": false,
    "pycharm": {
     "name": "#%%\n"
    }
   }
  },
  {
   "cell_type": "code",
   "execution_count": 229,
   "outputs": [
    {
     "name": "stdout",
     "output_type": "stream",
     "text": [
      "t:6662 -- u = 0.0:-1.0602629885319147e-14\n",
      "t:6662 -- u = 0.0:-8.881784197126003e-15\n",
      "t:6662 -- u = 0.0:-8.881784197126003e-15\n",
      "t:7996 -- u = 0.0:-2.2204460492505226e-16\n"
     ]
    }
   ],
   "source": [
    "t_u_lt0 = []\n",
    "for i in range(0,params_2w.shape[0]):\n",
    "\n",
    "    max_T_i = int(np.array(params_2w.max_T)[i])\n",
    "    v = float(np.array(params_2w.retail)[i])\n",
    "    d = float(np.array(params_2w.bidincrement)[i])\n",
    "    b = float(np.array(params_2w.bidfee)[i])\n",
    "\n",
    "    U_i,flag_t = cal_u(table_5_M,other_params = [max_T_i,v,d,b])\n",
    "    t_u_lt0.append(flag_t)\n",
    "    viz.line(np.array(U_i),np.arange(0,U_i.__len__()),win = 'U of '+str(i),env='004',opts=dict(title='U of '+str(i)))"
   ],
   "metadata": {
    "collapsed": false,
    "pycharm": {
     "name": "#%%\n"
    }
   }
  },
  {
   "cell_type": "markdown",
   "source": [
    "## 2.4 对于不同的alpha，曲线u与x轴的交点会变化吗\n",
    "1. 设置了6组参数，分别单独改变alpha的值，观察交点变化，记录在`t_u_lt0_alpha`中\n",
    "2. **发现这个交点t不会变**，t不会变（个别极限除外）"
   ],
   "metadata": {
    "collapsed": false,
    "pycharm": {
     "name": "#%% md\n"
    }
   }
  },
  {
   "cell_type": "code",
   "execution_count": 135,
   "outputs": [
    {
     "name": "stdout",
     "output_type": "stream",
     "text": [
      "t:1662 -- u = 0.0:-0.000744427145778997\n",
      "t:1996 -- u = 0.0:-0.0018584884728845303\n",
      "t:2662 -- u = 0.0:-0.0007430081491805548\n",
      "t:4862 -- u = 0.0:-0.000742974049472756\n",
      "t:3329 -- u = 0.0:-0.0018574598455916255\n",
      "t:8329 -- u = 0.0:-0.0013621264523631298\n",
      "t:7995 -- u = 0.0:-0.0001238283037920323\n",
      "t:529 -- u = 0.0:-0.002151126411443148\n",
      "t:7996 -- u = 0.0:-0.0018574528628445303\n",
      "t:529 -- u = 0.0:-0.002151126411443148\n",
      "t:529 -- u = 0.0:-0.002151126411443148\n",
      "t:246 -- u = 0.0:-0.00306785069471228\n",
      "t:1496 -- u = 0.0:-0.0018642267392213168\n",
      "t:856 -- u = 0.0:-0.0019349554612040475\n",
      "t:10329 -- u = 0.0:-0.001362126452364771\n",
      "t:856 -- u = 0.0:-0.0019349554612040475\n",
      "t:356 -- u = 0.0:-0.002514095777063806\n",
      "t:96 -- u = 0.0:-0.005844326857626388\n",
      "t:246 -- u = 0.0:-0.0028368290389451985\n",
      "t:1496 -- u = 0.0:-0.001505591809338759\n",
      "t:491 -- u = 0.0:-0.0009642606811450834\n",
      "t:2990 -- u = 0.0:-8.636313063562333e-16\n",
      "t:1662 -- u = 0.0:-0.00013578625579518548\n",
      "t:1996 -- u = 0.0:-0.0002895119397696306\n",
      "t:2662 -- u = 0.0:-9.10456052662566e-05\n",
      "t:4862 -- u = 0.0:-5.790714182375298e-05\n",
      "t:3329 -- u = 0.0:-0.0001906434429558566\n",
      "t:8329 -- u = 0.0:-7.706785684482343e-05\n",
      "t:7995 -- u = 0.0:-7.153984272237344e-06\n",
      "t:529 -- u = 0.0:-0.0009792494832693262\n",
      "t:7996 -- u = 0.0:-0.00010729958688309548\n",
      "t:529 -- u = 0.0:-0.0009792494832693262\n",
      "t:529 -- u = 0.0:-0.0009792494832693262\n",
      "t:246 -- u = 0.0:-0.0020530889450847507\n",
      "t:1496 -- u = 0.0:-0.000372541753455776\n",
      "t:856 -- u = 0.0:-0.0006208216531615374\n",
      "t:10329 -- u = 0.0:-6.979970346091604e-05\n",
      "t:856 -- u = 0.0:-0.0006208216531615374\n",
      "t:356 -- u = 0.0:-0.0014339445902054005\n",
      "t:96 -- u = 0.0:-0.005130547581677088\n",
      "t:246 -- u = 0.0:-0.002045662030738358\n",
      "t:1496 -- u = 0.0:-0.0003645672372807168\n",
      "t:491 -- u = 0.0:-0.0005223474287609036\n",
      "t:2990 -- u = 0.0:-2.570744851621233e-16\n",
      "t:1662 -- u = 0.0:-1.4807183343880737e-06\n",
      "t:1996 -- u = 0.0:-1.0552703008402242e-06\n",
      "t:2662 -- u = 0.0:-3.4756774069114724e-08\n",
      "t:4862 -- u = 0.0:-9.080125649259905e-12\n",
      "t:3329 -- u = 0.0:-7.115308336219532e-09\n",
      "t:8330 -- u = 0.0:-5.551115123125932e-17\n",
      "t:7996 -- u = 0.0:-2.2204460492505226e-16\n",
      "t:529 -- u = 0.0:-0.0002992513676255309\n",
      "t:7996 -- u = 0.0:-1.665334536937892e-16\n",
      "t:529 -- u = 0.0:-0.0002992513676255309\n",
      "t:529 -- u = 0.0:-0.0002992513676255309\n",
      "t:246 -- u = 0.0:-0.0012334214791850735\n",
      "t:1496 -- u = 0.0:-6.902474420174295e-06\n",
      "t:856 -- u = 0.0:-7.8974108604033e-05\n",
      "t:856 -- u = 0.0:-7.8974108604033e-05\n",
      "t:356 -- u = 0.0:-0.0006691220611303275\n",
      "t:96 -- u = 0.0:-0.004422011803766538\n",
      "t:246 -- u = 0.0:-0.001368530438202125\n",
      "t:1496 -- u = 0.0:-1.7080880446999987e-05\n",
      "t:491 -- u = 0.0:-0.00022321778611344916\n",
      "t:2991 -- u = 0.0:-9.531666966272318e-08\n",
      "t:1662 -- u = 0.0:-5.82395658579489e-09\n",
      "t:1996 -- u = 0.0:-1.1865133674470348e-09\n",
      "t:2662 -- u = 0.0:-3.2211455792858636e-12\n",
      "t:4927 -- u = 0.0:-5.551115123125783e-17\n",
      "t:3329 -- u = 0.0:-5.401235014877731e-14\n",
      "t:529 -- u = 0.0:-7.257209474246917e-05\n",
      "t:529 -- u = 0.0:-7.257209474246917e-05\n",
      "t:529 -- u = 0.0:-7.257209474246917e-05\n",
      "t:246 -- u = 0.0:-0.0007045076474006286\n",
      "t:1496 -- u = 0.0:-5.04524821905597e-08\n",
      "t:856 -- u = 0.0:-6.140273840816491e-06\n",
      "t:856 -- u = 0.0:-6.140273840816491e-06\n",
      "t:356 -- u = 0.0:-0.00027975984110600687\n",
      "t:96 -- u = 0.0:-0.003805195470248129\n",
      "t:246 -- u = 0.0:-0.0008883323313266522\n",
      "t:1496 -- u = 0.0:-3.8040986481729525e-07\n",
      "t:491 -- u = 0.0:-8.352342834663021e-05\n",
      "t:2991 -- u = 0.0:-2.4221236513210812e-11\n",
      "t:1662 -- u = 0.0:-4.518607710290036e-14\n",
      "t:1996 -- u = 0.0:-7.771561172376845e-16\n",
      "t:529 -- u = 0.0:-2.7061184529113175e-06\n",
      "t:529 -- u = 0.0:-2.7061184529113175e-06\n",
      "t:529 -- u = 0.0:-2.7061184529113175e-06\n",
      "t:246 -- u = 0.0:-0.00019339046773766042\n",
      "t:1496 -- u = 0.0:-1.357525203597191e-12\n",
      "t:856 -- u = 0.0:-2.004391324482162e-08\n",
      "t:856 -- u = 0.0:-2.004391324482162e-08\n",
      "t:356 -- u = 0.0:-3.64096836761481e-05\n",
      "t:96 -- u = 0.0:-0.002758814395773707\n",
      "t:246 -- u = 0.0:-0.0003322470852888184\n",
      "t:1496 -- u = 0.0:-9.645062676936596e-11\n",
      "t:491 -- u = 0.0:-8.381926503706839e-06\n",
      "t:3016 -- u = 0.0:-5.551115123125784e-17\n",
      "t:529 -- u = 0.0:-1.9515001420767365e-09\n",
      "t:529 -- u = 0.0:-1.9515001420767365e-09\n",
      "t:529 -- u = 0.0:-1.9515001420767365e-09\n",
      "t:246 -- u = 0.0:-9.50132721389005e-06\n",
      "t:856 -- u = 0.0:-1.0713652187703878e-13\n",
      "t:856 -- u = 0.0:-1.0713652187703878e-13\n",
      "t:356 -- u = 0.0:-3.502404641295848e-07\n",
      "t:96 -- u = 0.0:-0.0013405360598030122\n",
      "t:246 -- u = 0.0:-3.3224679378562344e-05\n",
      "t:1505 -- u = 0.0:-5.551115123125784e-17\n",
      "t:491 -- u = 0.0:-4.658522124586175e-08\n"
     ]
    }
   ],
   "source": [
    "params_initial = [[-0.025,3.72],[-0.001,3.72],[0.025,3.72],[0.05,3.72],[0.1,3.72],[0.2,3.72]]\n",
    "t_u_lt0_alpha = []\n",
    "for j in range(0,params_initial.__len__()):\n",
    "    table_5_M = params_initial[j]\n",
    "    t_u_lt0_j = []\n",
    "    for i in range(0,params_na.shape[0]):\n",
    "\n",
    "        max_T_i = int(np.array(params_na.max_T)[i])\n",
    "        v = float(np.array(params_na.retail)[i])\n",
    "        d = float(np.array(params_na.bidincrement)[i])\n",
    "        b = float(np.array(params_na.bidfee)[i])\n",
    "\n",
    "        U_i,flag_t = cal_u(table_5_M,other_params = [max_T_i,v,d,b])\n",
    "        t_u_lt0_j.append(flag_t)\n",
    "    t_u_lt0_alpha.append(t_u_lt0_j)\n",
    "\n",
    "t_u_lt0_alpha = np.array(t_u_lt0_alpha)"
   ],
   "metadata": {
    "collapsed": false,
    "pycharm": {
     "name": "#%%\n"
    }
   }
  },
  {
   "cell_type": "markdown",
   "source": [
    "## 2.5 T和Max_T的差别有多大\n",
    "1. 首先理论duration的上界普遍偏大，大于实际duration。"
   ],
   "metadata": {
    "collapsed": false,
    "pycharm": {
     "name": "#%% md\n"
    }
   }
  },
  {
   "cell_type": "code",
   "execution_count": 198,
   "outputs": [
    {
     "name": "stderr",
     "output_type": "stream",
     "text": [
      "Setting up a new session...\n"
     ]
    },
    {
     "name": "stdout",
     "output_type": "stream",
     "text": [
      "有 *0.1335379892555641* 的auction setting，实际duration > 理论上限\n"
     ]
    },
    {
     "data": {
      "text/plain": "'diff for all: Max_T - T'"
     },
     "execution_count": 198,
     "metadata": {},
     "output_type": "execute_result"
    }
   ],
   "source": [
    "viz = Visdom(env='002')\n",
    "diff_T = np.array(params_opitim_delta_wset['max_T'] - params_opitim_delta_wset['T'])\n",
    "# print(f\"实际duration和理论duration的上界之差，平均有： *{np.mean(diff_T)}*\")\n",
    "# print(f\"实际duration和理论duration的上界之差，中位数有： *{np.median(diff_T)}*\")\n",
    "print(f\"有 *{sum(diff_T>0) / diff_T.__len__()}* 的auction setting，实际duration > 理论上限\")\n",
    "\n",
    "viz.bar(diff_T,win = 'diff for all: Max_T - T', env='002',opts= dict(title='diff for all: Max_T - T'))"
   ],
   "metadata": {
    "collapsed": false,
    "pycharm": {
     "name": "#%%\n"
    }
   }
  },
  {
   "cell_type": "markdown",
   "source": [
    "2. 而infer不出来的参数，他们的diff则普遍实际大于理论\n",
    "3. 虽然并不是所有“实际duration > 理论上限”的auction都infer不出来，**但是这个确实是infer不出来的重要原因之一。**\n",
    "    - 在T>0的时候"
   ],
   "metadata": {
    "collapsed": false,
    "pycharm": {
     "name": "#%% md\n"
    }
   }
  },
  {
   "cell_type": "code",
   "execution_count": 199,
   "outputs": [
    {
     "name": "stdout",
     "output_type": "stream",
     "text": [
      "对于infer不出来的30个setting来说\n",
      "有 *0.7333333333333333* 的auction setting，实际duration > 理论上限\n"
     ]
    },
    {
     "data": {
      "text/plain": "'diff for uninferred: Max_T - T'"
     },
     "execution_count": 199,
     "metadata": {},
     "output_type": "execute_result"
    }
   ],
   "source": [
    "diff_T_na = np.array(params_na['max_T'] - params_na['T'])\n",
    "print(\"对于infer不出来的30个setting来说\")\n",
    "print(f\"有 *{sum(diff_T_na>0) / diff_T_na.__len__()}* 的auction setting，实际duration > 理论上限\")\n",
    "viz.bar(diff_T_na,win = 'diff for uninferred: Max_T - T', env='002',opts= dict(title='diff for uninferred: Max_T - T'))"
   ],
   "metadata": {
    "collapsed": false,
    "pycharm": {
     "name": "#%%\n"
    }
   }
  },
  {
   "cell_type": "markdown",
   "source": [
    "## 2.6 f(x)与alpha和x的关系\n",
    "$f(x) = 1-exp((-\\alpha*x))$\n",
    "1. 当`alpha<0`时，此时f随着x递减此时f随着x递减, 但是x很大时，`f(x)`无限接近-inf ：\n",
    "> RuntimeWarning: overflow encountered in exp return (1-np.exp(-alpha*x))\n",
    "2. 当`alpha>0`时，f随着x递增直到1然后不变。"
   ],
   "metadata": {
    "collapsed": false,
    "pycharm": {
     "name": "#%% md\n"
    }
   }
  },
  {
   "cell_type": "code",
   "execution_count": 225,
   "outputs": [
    {
     "data": {
      "text/plain": "'f_alpha_ls0'"
     },
     "execution_count": 225,
     "metadata": {},
     "output_type": "execute_result"
    }
   ],
   "source": [
    "x = np.arange(0,1000)\n",
    "viz.line(f(x,0.025),x,win = 'f_alpha_gt0', env='002',opts= dict(title='f_alpha_gt0'))\n",
    "# 会提示溢出\n",
    "viz.line(f(x,-0.025),x,win = 'f_alpha_ls0', env='002',opts= dict(title='f_alpha_ls0'))"
   ],
   "metadata": {
    "collapsed": false,
    "pycharm": {
     "name": "#%%\n"
    }
   }
  },
  {
   "cell_type": "markdown",
   "source": [
    "3. 比较一下f的导数和alpha的关系：\n",
    "    - $df = (-\\alpha)*exp((-\\alpha*x))$\n",
    "    - `alpha>0`时，导数有界而且，当x比较大时，导数增速也很慢\n",
    "    - `alpha<0`时，导数是一个指数函数，绝对值可以到inf"
   ],
   "metadata": {
    "collapsed": false,
    "pycharm": {
     "name": "#%% md\n"
    }
   }
  },
  {
   "cell_type": "code",
   "execution_count": 226,
   "outputs": [
    {
     "data": {
      "text/plain": "'df_alpha_ls0'"
     },
     "execution_count": 226,
     "metadata": {},
     "output_type": "execute_result"
    }
   ],
   "source": [
    "viz.line(0.025*f(x,0.025),x,win = 'df_alpha_gt0', env='002',opts= dict(title='df_alpha_gt0'))\n",
    "viz.line((-0.025)*f(x,-0.025),x,win = 'df_alpha_ls0', env='002',opts= dict(title='df_alpha_ls0'))"
   ],
   "metadata": {
    "collapsed": false,
    "pycharm": {
     "name": "#%%\n"
    }
   }
  },
  {
   "cell_type": "markdown",
   "source": [
    "# 3\n",
    "## 3.1 对于Max_T<5000的重新取一下初始值去infer, 看看u的情况"
   ],
   "metadata": {
    "collapsed": false,
    "pycharm": {
     "name": "#%% md\n"
    }
   }
  },
  {
   "cell_type": "code",
   "execution_count": 93,
   "outputs": [
    {
     "name": "stderr",
     "output_type": "stream",
     "text": [
      "Setting up a new session...\n"
     ]
    },
    {
     "name": "stdout",
     "output_type": "stream",
     "text": [
      "一共有 *15* 个auction setting需要在新的初始值下infer\n"
     ]
    }
   ],
   "source": [
    "idx_5k = ((pd.isna(params_na.alpha)) & (params_na.max_T<5000))\n",
    "params_5k = params_na[idx_5k][:]\n",
    "print(f\"一共有 *{params_5k.shape[0]}* 个auction setting需要在新的初始值下infer\")\n",
    "viz = Visdom(env='003')"
   ],
   "metadata": {
    "collapsed": false,
    "pycharm": {
     "name": "#%%\n"
    }
   }
  },
  {
   "cell_type": "code",
   "execution_count": 99,
   "outputs": [
    {
     "name": "stdout",
     "output_type": "stream",
     "text": [
      "t:529 -- u = 0.0:-1.9515001420767365e-09\n",
      "t:529 -- u = 0.0:-1.9515001420767365e-09\n",
      "t:529 -- u = 0.0:-1.9515001420767365e-09\n",
      "t:246 -- u = 0.0:-9.50132721389005e-06\n",
      "t:856 -- u = 0.0:-1.0713652187703878e-13\n",
      "t:856 -- u = 0.0:-1.0713652187703878e-13\n",
      "t:356 -- u = 0.0:-3.502404641295848e-07\n",
      "t:96 -- u = 0.0:-0.0013405360598030122\n",
      "t:246 -- u = 0.0:-3.3224679378562344e-05\n",
      "t:1505 -- u = 0.0:-5.551115123125784e-17\n",
      "t:491 -- u = 0.0:-4.658522124586175e-08\n"
     ]
    }
   ],
   "source": [
    "for i in range(0,params_5k.shape[0]):\n",
    "\n",
    "    max_T_i = int(np.array(params_5k.max_T)[i])\n",
    "    v = float(np.array(params_5k.retail)[i])\n",
    "    d = float(np.array(params_5k.bidincrement)[i])\n",
    "    b = float(np.array(params_5k.bidfee)[i])\n",
    "\n",
    "    U_i,flag_t = cal_u(table_5_M,other_params = [max_T_i,v,d,b])\n",
    "    t_u_lt0.append(flag_t)\n",
    "    viz.line(np.array(U_i),np.arange(0,U_i.__len__()),win = 'U‘ of '+str(i),env='003',opts=dict(title='U’ of '+str(i)))\n",
    "\n"
   ],
   "metadata": {
    "collapsed": false,
    "pycharm": {
     "name": "#%%\n"
    }
   }
  },
  {
   "cell_type": "code",
   "execution_count": 245,
   "outputs": [
    {
     "name": "stderr",
     "output_type": "stream",
     "text": [
      "D:\\Anaconda\\envs\\pythorch\\lib\\site-packages\\ipykernel_launcher.py:1: RuntimeWarning: overflow encountered in exp\n",
      "  \"\"\"Entry point for launching an IPython kernel.\n"
     ]
    },
    {
     "data": {
      "text/plain": "inf"
     },
     "execution_count": 245,
     "metadata": {},
     "output_type": "execute_result"
    }
   ],
   "source": [],
   "metadata": {
    "collapsed": false,
    "pycharm": {
     "name": "#%%\n"
    }
   }
  },
  {
   "cell_type": "code",
   "execution_count": null,
   "outputs": [],
   "source": [],
   "metadata": {
    "collapsed": false,
    "pycharm": {
     "name": "#%%\n"
    }
   }
  }
 ],
 "metadata": {
  "kernelspec": {
   "display_name": "Python 3",
   "language": "python",
   "name": "python3"
  },
  "language_info": {
   "codemirror_mode": {
    "name": "ipython",
    "version": 2
   },
   "file_extension": ".py",
   "mimetype": "text/x-python",
   "name": "python",
   "nbconvert_exporter": "python",
   "pygments_lexer": "ipython2",
   "version": "2.7.6"
  }
 },
 "nbformat": 4,
 "nbformat_minor": 0
}