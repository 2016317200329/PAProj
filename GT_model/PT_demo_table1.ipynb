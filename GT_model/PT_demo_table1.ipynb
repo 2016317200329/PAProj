{
 "cells": [
  {
   "cell_type": "code",
   "execution_count": null,
   "outputs": [],
   "source": [
    "#!/usr/bin/env python\n",
    "# -*- coding: utf-8 -*-\n",
    "# @Time    : 2022/10/16 15:17\n",
    "# @Author  : Wang Yujia\n",
    "# @File    : PT_demo_table1.ipynb\n",
    "\n",
    "# @Description : 1. 复现一下table 1的结果. 代码太长了，从PT_demo.ipynb里分出来"
   ],
   "metadata": {
    "collapsed": false,
    "pycharm": {
     "name": "#%%\n"
    }
   }
  },
  {
   "cell_type": "markdown",
   "metadata": {
    "collapsed": true,
    "pycharm": {
     "name": "#%% md\n"
    }
   },
   "source": [
    "# 1. Preparations\n",
    "## 1.1 全局设置"
   ]
  },
  {
   "cell_type": "code",
   "execution_count": 1,
   "outputs": [],
   "source": [
    "# auction setting\n",
    "b = 2\n",
    "V = 6\n",
    "d = 1\n",
    "\n",
    "T = 3\n",
    "\n",
    "import numpy as np\n",
    "import pandas as pd\n",
    "import sympy\n",
    "from sko.SA import SA\n",
    "from scipy import optimize\n",
    "from tqdm.notebook import tqdm\n",
    "import seaborn as sns"
   ],
   "metadata": {
    "collapsed": false,
    "pycharm": {
     "name": "#%%\n"
    }
   }
  },
  {
   "cell_type": "markdown",
   "source": [
    "# 2. 验证Table.1\n",
    "## 2.1 With EUT"
   ],
   "metadata": {
    "collapsed": false
   }
  },
  {
   "cell_type": "code",
   "execution_count": null,
   "outputs": [],
   "source": [
    "print(\"With EUT\\n\")\n",
    "x_1 = sympy.Symbol('x_1')\n",
    "def func(x):\n",
    "    return x * (-b) + (1 - x) * (V - t * d - b)\n",
    "\n",
    "p=[]\n",
    "for t in range(1,T+1):\n",
    "    p.append(float((sympy.nsolve(func,x_1,(0,1)))))\n",
    "    print(\"p[{0}]: {1}\".format(t,p[t-1]))"
   ],
   "metadata": {
    "collapsed": false,
    "pycharm": {
     "name": "#%%\n"
    }
   }
  },
  {
   "cell_type": "markdown",
   "source": [
    "## 2.2 With PT\n",
    "1. 为了验证Table 1但是failed，只有最后一组[1,1,2.25]的第一个结果对不上\n",
    "2. 侧面说明`C=[0,0,0,b]`是正确的设置？"
   ],
   "metadata": {
    "collapsed": false
   }
  },
  {
   "cell_type": "code",
   "execution_count": null,
   "outputs": [],
   "source": [
    "# prob. weighting function\n",
    "def omg(p):\n",
    "    tmp = p**delta\n",
    "    return tmp*((tmp + (1-p)**delta)**(-1/delta))\n",
    "\n",
    "# value function\n",
    "def f_x(x):\n",
    "    return x**alpha\n",
    "\n",
    "# for PT\n",
    "alpha = 1\n",
    "delta = 1\n",
    "labda = 2.25\n",
    "\n",
    "print(\"With PT\\n\")\n",
    "x = sympy.Symbol('x')\n",
    "p_2=[]\n",
    "C=[0,0,0,b]\n",
    "for t in range(1,T+1):\n",
    "        #C = (t-1)*b*0.2\n",
    "        tmp = V-d*(t)-C[t]-b\n",
    "        if(tmp > 0):\n",
    "            print(\">0\")\n",
    "            func_1 = (labda*f_x(C[t]) + omg(x)*(-labda)*f_x(C[t]+b) + omg(1-x)*f_x(tmp))\n",
    "            p_2.append((sympy.nsolve(func_1,(0,1), solver='bisect', verify=False)))\n",
    "        else:\n",
    "            print(\"<=0\")\n",
    "            func_2 = (-f_x(C[t]) + omg(x)*(f_x(C[t]+b))+(1-omg(x))*f_x(-tmp))\n",
    "            p_2.append((sympy.nsolve(func_2, (0,1), solver='bisect', verify=False)))\n",
    "        print(\"p[{0}]: {1}\".format(t,p_2[t-1]))"
   ],
   "metadata": {
    "collapsed": false,
    "pycharm": {
     "name": "#%%\n"
    }
   }
  }
 ],
 "metadata": {
  "kernelspec": {
   "display_name": "Python 3",
   "language": "python",
   "name": "python3"
  },
  "language_info": {
   "codemirror_mode": {
    "name": "ipython",
    "version": 2
   },
   "file_extension": ".py",
   "mimetype": "text/x-python",
   "name": "python",
   "nbconvert_exporter": "python",
   "pygments_lexer": "ipython2",
   "version": "2.7.6"
  }
 },
 "nbformat": 4,
 "nbformat_minor": 0
}