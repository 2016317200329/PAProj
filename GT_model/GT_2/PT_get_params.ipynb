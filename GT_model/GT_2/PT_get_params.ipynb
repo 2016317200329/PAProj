{
 "cells": [
  {
   "cell_type": "code",
   "execution_count": 1,
   "outputs": [],
   "source": [
    "%load_ext autoreload\n",
    "%autoreload 2"
   ],
   "metadata": {
    "collapsed": false
   }
  },
  {
   "cell_type": "markdown",
   "source": [
    "# 0. Intro\n",
    "1. 利用InferNet生成GT-2需要的params，由此可以计算MDN的input\n",
    "# 1. preparations\n",
    "## 1.1 全局设置"
   ],
   "metadata": {
    "collapsed": false
   }
  },
  {
   "cell_type": "code",
   "execution_count": 6,
   "outputs": [],
   "source": [
    "import sys\n",
    "sys.path.insert(0, 'D:\\\\Desktop\\\\PROJ\\\\PAProj')"
   ],
   "metadata": {
    "collapsed": false
   }
  },
  {
   "cell_type": "code",
   "execution_count": 7,
   "outputs": [],
   "source": [
    "import torch\n",
    "import os\n",
    "import torch.nn as nn\n",
    "import numpy as np\n",
    "import random\n",
    "from MLP.utils import setup_seed\n",
    "from MLP.utils import load_checkpoint\n",
    "from MLP.utils import get_InferNet_save_path\n",
    "import pandas as pd\n",
    "from tqdm import tqdm\n",
    "from MLP.models import MLP_2_1\n",
    "from importlib import reload\n",
    "from MLP.my_collate_fn import my_collate_fn_GT2,my_collate_fn_3\n",
    "from torch.utils.data import DataLoader, SequentialSampler, SubsetRandomSampler\n",
    "from MLP.mydataset_GT2 import myDataset\n",
    "\n",
    "from MLP.Config import config_GT_gen\n",
    "reload(config_GT_gen)  # 必须reload！！\n",
    "device = torch.device('cuda:0' if torch.cuda.is_available() else 'cpu')\n",
    "\n",
    "bound_alpha = torch.tensor([-0.3,0.3],device=device)\n",
    "bound_labda = torch.tensor([0.01,18],device=device)\n",
    "\n",
    "opt = config_GT_gen.DefaultConfig()"
   ],
   "metadata": {
    "collapsed": false
   }
  },
  {
   "cell_type": "markdown",
   "source": [
    "## 1.2 相关path"
   ],
   "metadata": {
    "collapsed": false
   }
  },
  {
   "cell_type": "code",
   "execution_count": 8,
   "outputs": [],
   "source": [
    "MODEL_NAME = \"InferNet_GT2\""
   ],
   "metadata": {
    "collapsed": false
   }
  },
  {
   "cell_type": "code",
   "execution_count": 12,
   "outputs": [
    {
     "name": "stdout",
     "output_type": "stream",
     "text": [
      "seed= 62\n",
      "arti= False\n",
      "GT_w_Params= 2\n",
      "MODEL_NAME= InferNet_GT2\n"
     ]
    }
   ],
   "source": [
    "setup_seed(opt.seed)\n",
    "\n",
    "dataset = myDataset(opt.train_path, opt.target_path_metric, opt.target_path_loss, opt.params_opitim_path,opt.data_key_path, opt.NLL_metric_path)\n",
    "\n",
    "data_idx = np.arange(0,dataset.__len__()).tolist()\n",
    "print(\"seed=\",opt.seed)\n",
    "print(\"arti=\",opt.ARTIFICIAL)\n",
    "print(\"GT_w_Params=\",opt.GT_w_Params)\n",
    "\n",
    "MODEL_NAME = \"InferNet_GT\" +str(opt.GT_w_Params)\n",
    "print(\"MODEL_NAME=\",MODEL_NAME)"
   ],
   "metadata": {
    "collapsed": false
   }
  },
  {
   "cell_type": "markdown",
   "source": [
    "# 2. dataloader\n",
    "1. 每次返回1个data file，并且按照字典序"
   ],
   "metadata": {
    "collapsed": false
   }
  },
  {
   "cell_type": "code",
   "execution_count": 13,
   "outputs": [],
   "source": [
    "data_loader = DataLoader(dataset=dataset, batch_size=1, shuffle=False, num_workers=0, drop_last=False, sampler=SequentialSampler(data_idx), collate_fn=my_collate_fn_GT2)"
   ],
   "metadata": {
    "collapsed": false
   }
  },
  {
   "cell_type": "markdown",
   "source": [
    "# 3. 读取model并且生成"
   ],
   "metadata": {
    "collapsed": false
   }
  },
  {
   "cell_type": "markdown",
   "source": [
    "- 读取model"
   ],
   "metadata": {
    "collapsed": false
   }
  },
  {
   "cell_type": "code",
   "execution_count": 15,
   "outputs": [],
   "source": [
    "mlp = MLP_2_1()\n",
    "if opt.seed in [4,31,204,35,407]:\n",
    "    mlp.load_state_dict(torch.load(opt.model_params_MLP))\n",
    "else:\n",
    "    model_path = get_InferNet_save_path(opt.ARTIFICIAL, opt.seed, opt.net_root_path,opt.noise_pct,MODEL_NAME)\n",
    "    mlp, _ = load_checkpoint(model_path, mlp)\n",
    "mlp = mlp.to(device=device)"
   ],
   "metadata": {
    "collapsed": false
   }
  },
  {
   "cell_type": "code",
   "execution_count": 16,
   "outputs": [],
   "source": [
    "params_arr = np.array([0.]*(dataset.__len__()*2)).reshape(-1,2)\n",
    "params = pd.DataFrame(params_arr,columns = ['alpha','labda'])"
   ],
   "metadata": {
    "collapsed": false
   }
  },
  {
   "cell_type": "code",
   "execution_count": 17,
   "outputs": [
    {
     "name": "stdout",
     "output_type": "stream",
     "text": [
      "Done\n",
      "      alpha     labda\n",
      "0  0.003386  0.302196\n",
      "1  0.011722  0.413244\n",
      "2 -0.001566  0.353366\n",
      "3  0.015664  0.446528\n",
      "4  0.016598  0.581930\n"
     ]
    }
   ],
   "source": [
    "model=mlp.eval()\n",
    "for batch_id, data in enumerate(data_loader):\n",
    "\n",
    "    input_data, _,_, _, _, _= data\n",
    "    # Do the inference\n",
    "    input_data = input_data.to(device)\n",
    "\n",
    "    Alpha, Labda = mlp(input_data)\n",
    "\n",
    "    Alpha = Alpha.detach().cpu().numpy()\n",
    "    Labda = Labda.detach().cpu().numpy()\n",
    "\n",
    "    params.loc[batch_id,'alpha'] = Alpha\n",
    "    params.loc[batch_id,'labda'] = Labda\n",
    "\n",
    "print(\"Done\")\n",
    "print(params.head())"
   ],
   "metadata": {
    "collapsed": false
   }
  },
  {
   "cell_type": "markdown",
   "source": [
    "- save"
   ],
   "metadata": {
    "collapsed": false
   }
  },
  {
   "cell_type": "code",
   "execution_count": 18,
   "outputs": [
    {
     "name": "stdout",
     "output_type": "stream",
     "text": [
      "D:/Desktop/PROJ/PAProj\\data/SA_PT/params_GT2_seed=62.csv\n"
     ]
    }
   ],
   "source": [
    "print(opt.params_gen_path)"
   ],
   "metadata": {
    "collapsed": false
   }
  },
  {
   "cell_type": "code",
   "execution_count": 19,
   "outputs": [],
   "source": [
    "params.to_csv(opt.params_gen_path,encoding=\"utf-8\", header=True,index=False)"
   ],
   "metadata": {
    "collapsed": false
   }
  },
  {
   "cell_type": "code",
   "execution_count": 59,
   "outputs": [],
   "source": [],
   "metadata": {
    "collapsed": false
   }
  }
 ],
 "metadata": {
  "kernelspec": {
   "display_name": "Python 3",
   "language": "python",
   "name": "python3"
  },
  "language_info": {
   "codemirror_mode": {
    "name": "ipython",
    "version": 2
   },
   "file_extension": ".py",
   "mimetype": "text/x-python",
   "name": "python",
   "nbconvert_exporter": "python",
   "pygments_lexer": "ipython2",
   "version": "2.7.6"
  }
 },
 "nbformat": 4,
 "nbformat_minor": 0
}
