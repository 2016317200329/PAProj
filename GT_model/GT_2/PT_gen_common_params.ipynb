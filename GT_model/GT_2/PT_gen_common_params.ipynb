{
 "cells": [
  {
   "cell_type": "code",
   "execution_count": 1,
   "outputs": [],
   "source": [
    "#!/usr/bin/env python\n",
    "# -*- coding: utf-8 -*-\n",
    "# @Time    : 2022/11/07 16:36\n",
    "# @Author  : Wang Yujia\n",
    "# @File    : PT_gen_oneforall.ipynb\n",
    "# @Description : calculating U&P with inferred param"
   ],
   "metadata": {
    "collapsed": false
   }
  },
  {
   "cell_type": "markdown",
   "source": [
    "# 0. What for\n",
    "1. 用infer的结果来算U和P\n",
    "2. 使用的params是common parameter\n",
    "3. 设置threshold = K = 300\n",
    "    - T < 300的padding（补零）\n",
    "    - T > 300的求和到最后一个值\n",
    "\n",
    "# 1. Preparations\n",
    "## 1.1 全局设置"
   ],
   "metadata": {
    "collapsed": false
   }
  },
  {
   "cell_type": "code",
   "execution_count": 2,
   "outputs": [],
   "source": [
    "# Small dataset\n",
    "data_small_np_path = r'../../data/small_auctions_np.csv'\n",
    "settings_small_NN_path = r\"../../data/small_settings_NN.csv\"\n",
    "\n",
    "# Large data\n",
    "data_large_np_path = r'E:\\DATA\\large_dta\\large_auctions_np.csv'\n",
    "settings_large_NN_path = r'E:\\DATA\\large_dta\\large_settings_NN.csv'\n",
    "\n",
    "# inferred params\n",
    "params_opitim_oneforall_path = \"../../data/SA_PT/params_opitim_oneforall.csv\"\n",
    "\n",
    "unique_setting_NN = ['desc','bidincrement','bidfee','retail','flg_fixedprice']\n",
    "LEN = 300\n",
    "\n",
    "# output path\n",
    "data_path_root = \"../../data/SA_PT/results/\"\n",
    "filename_head = \"GT_2_small_LEN=\"\n",
    "# filename_head = \"GT_2_large_LEN=\"\n",
    "filename_tail = \".csv\"\n",
    "\n",
    "import numpy as np\n",
    "import csv\n",
    "import pandas as pd\n",
    "from visdom import Visdom\n",
    "from SA_for_PT_funcs_delta_eq1 import *\n",
    "from tqdm import tqdm\n",
    "import json\n"
   ],
   "metadata": {
    "collapsed": false
   }
  },
  {
   "cell_type": "markdown",
   "source": [
    "## 1.2 data 读取\n",
    "1. data_key不变\n",
    "2. 并且提取成功infer的参数结果`params_all`"
   ],
   "metadata": {
    "collapsed": false
   }
  },
  {
   "cell_type": "code",
   "execution_count": 15,
   "outputs": [
    {
     "name": "stdout",
     "output_type": "stream",
     "text": [
      "For PT model, there are *1226* settings waiting to be inferred.\n"
     ]
    },
    {
     "data": {
      "text/plain": "                                            desc  bidincrement  bidfee  \\\n0  Sony Ericsson S500i Unlocked Mysterious Green          0.15    0.75   \n1               PSP Slim & Lite Sony Piano Black          0.15    0.75   \n2     iPod Touch Apple 8GB with Software Upgrade          0.15    0.75   \n3                 LG KU990 Viewty Unlocked Black          0.00    0.75   \n4      Logitech Cordless Wave Keyboard and Mouse          0.15    0.75   \n\n   retail  flg_fixedprice  \n0  499.99               0  \n1  169.99               0  \n2  299.99               0  \n3  899.99               1  \n4   89.99               0  ",
      "text/html": "<div>\n<style scoped>\n    .dataframe tbody tr th:only-of-type {\n        vertical-align: middle;\n    }\n\n    .dataframe tbody tr th {\n        vertical-align: top;\n    }\n\n    .dataframe thead th {\n        text-align: right;\n    }\n</style>\n<table border=\"1\" class=\"dataframe\">\n  <thead>\n    <tr style=\"text-align: right;\">\n      <th></th>\n      <th>desc</th>\n      <th>bidincrement</th>\n      <th>bidfee</th>\n      <th>retail</th>\n      <th>flg_fixedprice</th>\n    </tr>\n  </thead>\n  <tbody>\n    <tr>\n      <th>0</th>\n      <td>Sony Ericsson S500i Unlocked Mysterious Green</td>\n      <td>0.15</td>\n      <td>0.75</td>\n      <td>499.99</td>\n      <td>0</td>\n    </tr>\n    <tr>\n      <th>1</th>\n      <td>PSP Slim &amp; Lite Sony Piano Black</td>\n      <td>0.15</td>\n      <td>0.75</td>\n      <td>169.99</td>\n      <td>0</td>\n    </tr>\n    <tr>\n      <th>2</th>\n      <td>iPod Touch Apple 8GB with Software Upgrade</td>\n      <td>0.15</td>\n      <td>0.75</td>\n      <td>299.99</td>\n      <td>0</td>\n    </tr>\n    <tr>\n      <th>3</th>\n      <td>LG KU990 Viewty Unlocked Black</td>\n      <td>0.00</td>\n      <td>0.75</td>\n      <td>899.99</td>\n      <td>1</td>\n    </tr>\n    <tr>\n      <th>4</th>\n      <td>Logitech Cordless Wave Keyboard and Mouse</td>\n      <td>0.15</td>\n      <td>0.75</td>\n      <td>89.99</td>\n      <td>0</td>\n    </tr>\n  </tbody>\n</table>\n</div>"
     },
     "execution_count": 15,
     "metadata": {},
     "output_type": "execute_result"
    }
   ],
   "source": [
    "data = pd.read_csv(data_small_np_path, encoding=\"utf-8\")\n",
    "# data = pd.read_csv(data_large_np_path, encoding=\"utf-8\")\n",
    "# data = pd.concat([data_small,data_large],axis=0,ignore_index=True)\n",
    "# 由于columns不同，合并后data中肯定有nan，不过我们需要的columns不是nan就好\n",
    "\n",
    "data_key = pd.read_csv(settings_small_NN_path, encoding=\"utf-8\")\n",
    "# data_key = pd.read_csv(settings_large_NN_path, encoding=\"utf-8\")\n",
    "# data_key = pd.concat([data_key_small,data_key_large],axis=0,ignore_index=True)\n",
    "\n",
    "params_all = pd.read_csv(params_opitim_oneforall_path, encoding=\"utf-8\")\n",
    "\n",
    "# 有`N_uniq_auction`组setting\n",
    "N_uniq_auction= data_key.shape[0]\n",
    "print(\"For PT model, there are *{}* settings waiting to be inferred.\".format(N_uniq_auction))\n",
    "data_key.head()"
   ],
   "metadata": {
    "collapsed": false
   }
  },
  {
   "cell_type": "markdown",
   "source": [
    "## 1.3 functions about 'key'"
   ],
   "metadata": {
    "collapsed": false
   }
  },
  {
   "cell_type": "code",
   "execution_count": 16,
   "outputs": [],
   "source": [
    "# unique_setting_NN = ['desc','bidincrement','bidfee','retail','flg_fixedprice']\n",
    "def select_data_fromkey(i):\n",
    "    return data[(data['desc'] == data_key.iloc[i,0]) &\n",
    "                (data['bidincrement'] == data_key.iloc[i,1]) &\n",
    "                (data['bidfee'] == data_key.iloc[i,2]) &\n",
    "                (data['retail'] == data_key.iloc[i,3]) &\n",
    "                (data['flg_fixedprice'] == data_key.iloc[i,4])].copy()"
   ],
   "metadata": {
    "collapsed": false
   }
  },
  {
   "cell_type": "markdown",
   "source": [
    "## 1.4 get alpha, lambda\n",
    "1. 得到avg_loss最小值对应的alpha和lambda"
   ],
   "metadata": {
    "collapsed": false
   }
  },
  {
   "cell_type": "code",
   "execution_count": 17,
   "outputs": [
    {
     "name": "stdout",
     "output_type": "stream",
     "text": [
      "The alpha = -0.013581112, delta = 1, lambda = 3.312402533\n"
     ]
    }
   ],
   "source": [
    "params = params_all[min(params_all.avg_loss) == params_all.avg_loss]\n",
    "alpha = np.float64(params.alpha)\n",
    "delta = 1\n",
    "labda = np.float64(params.labda)\n",
    "print(f\"The alpha = {alpha}, delta = 1, lambda = {labda}\")\n",
    "data_key['T'] = np.array((data_key.retail - data_key.bidfee) / data_key.bidincrement, dtype=int)"
   ],
   "metadata": {
    "collapsed": false
   }
  },
  {
   "cell_type": "markdown",
   "source": [
    "# 2. U & P\n",
    "## 2.1 generate\n",
    "\n",
    "1. 对不同的auction settings做generate\n",
    "2. generate过程: u-->p，然后把P存到dict里\n",
    "3. U 由 `f_equi`得到\n",
    "4. 注意P最后删去了第一个值P[0]，因此现在P[i]表示duration=i+1的概率"
   ],
   "metadata": {
    "collapsed": false
   }
  },
  {
   "cell_type": "code",
   "execution_count": 18,
   "outputs": [
    {
     "data": {
      "text/plain": "Empty DataFrame\nColumns: [0, 1, 2, 3, 4, 5, 6, 7, 8, 9, 10, 11, 12, 13, 14, 15, 16, 17, 18, 19, 20, 21, 22, 23, 24, 25, 26, 27, 28, 29, 30, 31, 32, 33, 34, 35, 36, 37, 38, 39, 40, 41, 42, 43, 44, 45, 46, 47, 48, 49, 50, 51, 52, 53, 54, 55, 56, 57, 58, 59, 60, 61, 62, 63, 64, 65, 66, 67, 68, 69, 70, 71, 72, 73, 74, 75, 76, 77, 78, 79, 80, 81, 82, 83, 84, 85, 86, 87, 88, 89, 90, 91, 92, 93, 94, 95, 96, 97, 98, 99, ...]\nIndex: []\n\n[0 rows x 300 columns]",
      "text/html": "<div>\n<style scoped>\n    .dataframe tbody tr th:only-of-type {\n        vertical-align: middle;\n    }\n\n    .dataframe tbody tr th {\n        vertical-align: top;\n    }\n\n    .dataframe thead th {\n        text-align: right;\n    }\n</style>\n<table border=\"1\" class=\"dataframe\">\n  <thead>\n    <tr style=\"text-align: right;\">\n      <th></th>\n      <th>0</th>\n      <th>1</th>\n      <th>2</th>\n      <th>3</th>\n      <th>4</th>\n      <th>5</th>\n      <th>6</th>\n      <th>7</th>\n      <th>8</th>\n      <th>9</th>\n      <th>...</th>\n      <th>290</th>\n      <th>291</th>\n      <th>292</th>\n      <th>293</th>\n      <th>294</th>\n      <th>295</th>\n      <th>296</th>\n      <th>297</th>\n      <th>298</th>\n      <th>299</th>\n    </tr>\n  </thead>\n  <tbody>\n  </tbody>\n</table>\n<p>0 rows × 300 columns</p>\n</div>"
     },
     "execution_count": 18,
     "metadata": {},
     "output_type": "execute_result"
    }
   ],
   "source": [
    "# col_names = ['bidincrement','bidfee','retail']\n",
    "col_names = []\n",
    "tmp = np.arange(0,LEN)\n",
    "tmp_str = [str(x) for x in tmp]\n",
    "col_names.extend(tmp_str)\n",
    "\n",
    "P_df = pd.DataFrame(columns=col_names)\n",
    "\n",
    "P_df"
   ],
   "metadata": {
    "collapsed": false
   }
  },
  {
   "cell_type": "code",
   "execution_count": 19,
   "outputs": [
    {
     "name": "stderr",
     "output_type": "stream",
     "text": [
      "100%|██████████| 1226/1226 [00:08<00:00, 151.36it/s]"
     ]
    },
    {
     "name": "stdout",
     "output_type": "stream",
     "text": [
      "Done\n"
     ]
    },
    {
     "name": "stderr",
     "output_type": "stream",
     "text": [
      "\n"
     ]
    }
   ],
   "source": [
    "# solve for U & P\n",
    "for i in tqdm(range(data_key.shape[0])):\n",
    "\n",
    "    data_i = select_data_fromkey(i)\n",
    "    data_i.reset_index(drop=True,inplace=True)\n",
    "\n",
    "    # Get params\n",
    "    # cnt_n_2_i = data_i['cnt_n_2'].astype(int)       # Number of occurrences of different durations\n",
    "    v = float(data_i['retail'].unique())\n",
    "    d = float(data_i['bidincrement'].unique())\n",
    "    b = float(data_i['bidfee'].unique())\n",
    "\n",
    "    # d==0 suggests a fixed-price auction\n",
    "    if d == 0:\n",
    "        T = np.inf                                    # duration limitation\n",
    "    else:\n",
    "        T = np.floor((v-b)/d)                         # duration limitation\n",
    "\n",
    "    # Solve for U\n",
    "    U = [0] * (LEN + 2)                               # the prob. that someone offers a bid in t_th round\n",
    "    U[0],U[1] = 1,1\n",
    "    for t in range(1,len(U)):\n",
    "        if(t < T):  # 不超过理论上限T_i，可计算\n",
    "            U[t] = f_Equi(t, v, d, b, alpha, labda)\n",
    "        else:\n",
    "            U[t] = 0\n",
    "        assert U[t]>=0, \"U[t]<0! when t ={},and b = {},v = {}, d = {}\".format(t,b,v,d)\n",
    "        assert U[t]<=1, \"U[t]>1! when t ={},and b = {},v = {}, d = {}\".format(t,b,v,d)\n",
    "\n",
    "    # Solve for P with length of LEN\n",
    "    P = np.array([0.0]*(LEN+1))\n",
    "    P[0] = 0.0                                            # auction duration==0的概率=0\n",
    "    tmp = np.array([0.0]*(LEN+3))                         # tmp的大小不需要太精确\n",
    "    tmp[0] = 1.0\n",
    "\n",
    "    # 注意：P[i][t] = U[i][1]*U[i][2]*...*(1-U[i][t+1])\n",
    "    for t in range(1,len(P)):\n",
    "        tmp[t] = tmp[t-1]*U[t]                          # tmp[t]存了U从1到(t)的连乘积\n",
    "        P[t] = (1-U[t+1])*tmp[t]\n",
    "\n",
    "    # Dele the P[0]\n",
    "    P = np.delete(P,[0],axis=0)\n",
    "    assert len(P)==LEN,\"P has wrong length (should be LEN)\"\n",
    "\n",
    "    # if np.floor((v-b)/d) > LEN:                     # 理论upper bound比较高，存在截断的情况，做归一化？\n",
    "    #     scale_sum = np.sum(P)\n",
    "    #     P = P/scale_sum\n",
    "\n",
    "    # Concat with dataframe\n",
    "    # pd_tmp = pd.DataFrame(data=[[d,b,v]])\n",
    "    # pd_tmp = pd.concat([pd_tmp,pd.DataFrame(P).T],axis=1)\n",
    "    pd_tmp = pd.DataFrame(P).T\n",
    "    pd_tmp.columns = col_names\n",
    "    P_df = pd.concat([P_df,pd_tmp],ignore_index=True)\n",
    "\n",
    "    # # Plot\n",
    "    # if(plot_flag& (i%10 == 0)):\n",
    "    #     viz.line(p,np.arange(0,p.shape[0]),win = 'P_'+str(i),env=env_str, opts= dict(title = f'P_{i}_v={v}_b={b}_d={d}'))\n",
    "print(\"Done\")\n"
   ],
   "metadata": {
    "collapsed": false
   }
  },
  {
   "cell_type": "markdown",
   "source": [
    "# 3. save"
   ],
   "metadata": {
    "collapsed": false
   }
  },
  {
   "cell_type": "code",
   "execution_count": 20,
   "outputs": [
    {
     "name": "stdout",
     "output_type": "stream",
     "text": [
      "../../data/SA_PT/results/GT_2_small_LEN=300.csv\n",
      "DONE\n"
     ]
    }
   ],
   "source": [
    "filename_P = data_path_root + filename_head + str(LEN) + filename_tail\n",
    "P_df.to_csv(filename_P,header=True,index=False,encoding=\"utf-8\")\n",
    "print(filename_P)\n",
    "print(\"DONE\")"
   ],
   "metadata": {
    "collapsed": false
   }
  },
  {
   "cell_type": "markdown",
   "source": [
    "# 4. 读取json并且还原viz环境"
   ],
   "metadata": {
    "collapsed": false
   }
  },
  {
   "cell_type": "code",
   "execution_count": 11,
   "outputs": [],
   "source": [
    "\n",
    "viz_path = \"../data/vis/P.json\"\n",
    "with open(viz_path,\"r\") as f:\n",
    "    pre_data=json.load(f)\n",
    "\n",
    "tmp = pre_data['jsons'].values()\n",
    "for i in range(0,len((pre_data['jsons']).keys())):\n",
    "    tmpi = list(tmp)[i]\n",
    "    viz.line(\n",
    "        X=np.array(tmpi['content'][\"data\"][0][\"x\"]),\n",
    "        Y=np.array(tmpi['content'][\"data\"][0][\"y\"]),\n",
    "        env = \"P_oneforall\",\n",
    "        win = tmpi['id'],\n",
    "        opts= dict(title=tmpi['title']),\n",
    "    )"
   ],
   "metadata": {
    "collapsed": false
   }
  }
 ],
 "metadata": {
  "kernelspec": {
   "display_name": "Python 3",
   "language": "python",
   "name": "python3"
  },
  "language_info": {
   "codemirror_mode": {
    "name": "ipython",
    "version": 2
   },
   "file_extension": ".py",
   "mimetype": "text/x-python",
   "name": "python",
   "nbconvert_exporter": "python",
   "pygments_lexer": "ipython2",
   "version": "2.7.6"
  }
 },
 "nbformat": 4,
 "nbformat_minor": 0
}
