{
 "cells": [
  {
   "cell_type": "code",
   "execution_count": 3,
   "outputs": [],
   "source": [
    "#!/usr/bin/env python\n",
    "# -*- coding: utf-8 -*-\n",
    "# @Time    : 2022/11/07 16:36\n",
    "# @Author  : Wang Yujia\n",
    "# @File    : PT_gen_oneforall.ipynb\n",
    "# @Description : calculating U&P with inferred param"
   ],
   "metadata": {
    "collapsed": false
   }
  },
  {
   "cell_type": "markdown",
   "source": [
    "# 0. What for\n",
    "1. 用infer的结果来算U和P\n",
    "2. 使用的params是common parameter\n",
    "3. 设置threshold = K = 300\n",
    "    - T < 300的padding（补零）\n",
    "    - T > 300的求和到最后一个值\n",
    "\n",
    "# 1. Preparations\n",
    "## 1.1 全局设置"
   ],
   "metadata": {
    "collapsed": false
   }
  },
  {
   "cell_type": "code",
   "execution_count": 4,
   "outputs": [],
   "source": [
    "# data path\n",
    "data_selected_path = \"../../data/SA_PT/datawithnp_PT_selected.csv\"\n",
    "# data key path\n",
    "data_key_path = \"../../data/SA_PT/data_key_PT.csv\"\n",
    "# inferred params\n",
    "params_opitim_oneforall_path = \"../../data/SA_PT/params_opitim_oneforall.csv\"\n",
    "\n",
    "# output path\n",
    "output_path_root = \"../../data/SA_PT/results/\"\n",
    "filename_head = \"PT_oneforall_\"\n",
    "filename_tail = \".csv\"\n",
    "\n",
    "features_GT = ['bidincrement','bidfee','retail']\n",
    "\n",
    "import numpy as np\n",
    "import csv\n",
    "import pandas as pd\n",
    "from visdom import Visdom\n",
    "from SA_for_PT_funcs_delta_eq1 import *\n",
    "from tqdm import tqdm\n",
    "import json\n"
   ],
   "metadata": {
    "collapsed": false
   }
  },
  {
   "cell_type": "markdown",
   "source": [
    "## 1.2 data 读取\n",
    "1. data_key不变\n",
    "2. 并且提取成功infer的参数结果`params_all`"
   ],
   "metadata": {
    "collapsed": false
   }
  },
  {
   "cell_type": "code",
   "execution_count": 5,
   "outputs": [],
   "source": [
    "data = pd.read_csv(data_selected_path, encoding=\"utf-8\")\n",
    "params_all = pd.read_csv(params_opitim_oneforall_path, encoding=\"utf-8\")"
   ],
   "metadata": {
    "collapsed": false
   }
  },
  {
   "cell_type": "code",
   "execution_count": 6,
   "outputs": [
    {
     "data": {
      "text/plain": "(605, 3)"
     },
     "execution_count": 6,
     "metadata": {},
     "output_type": "execute_result"
    }
   ],
   "source": [
    "data_key = data[features_GT].copy()\n",
    "data_key.drop_duplicates(inplace=True,ignore_index=True)\n",
    "data_key.to_csv(data_key_path,header=True, encoding=\"utf-8\",index=False)\n",
    "data_key.shape"
   ],
   "metadata": {
    "collapsed": false
   }
  },
  {
   "cell_type": "markdown",
   "source": [
    "## 1.3 functions about 'key'"
   ],
   "metadata": {
    "collapsed": false
   }
  },
  {
   "cell_type": "code",
   "execution_count": 7,
   "outputs": [],
   "source": [
    "# get key from i in 'data_key'\n",
    "def get_key_from_index(i,flag=\"NotStr\"):\n",
    "    if(flag == \"str\"):\n",
    "        key_i = list(data_key.iloc[i,:])\n",
    "        key_i_str = (str(key_i[0]),str(key_i[1]),str(key_i[2]))\n",
    "        return key_i_str\n",
    "    else:\n",
    "        key_i = data_key.iloc[i,:-1]\n",
    "        return key_i\n",
    "\n",
    "#features_GT = ['bidincrement','bidfee','retail']\n",
    "def select_data_fromkey(key_i_str):\n",
    "    return data[(data['bidincrement'] == key_i_str[0]) & (data['bidfee'] == key_i_str[1]) & (data['retail'] == key_i_str[2])].copy()"
   ],
   "metadata": {
    "collapsed": false
   }
  },
  {
   "cell_type": "markdown",
   "source": [
    "## 1.4 get alpha, lambda\n",
    "1. 得到avg_loss最小值对应的alpha和lambda"
   ],
   "metadata": {
    "collapsed": false
   }
  },
  {
   "cell_type": "code",
   "execution_count": 8,
   "outputs": [
    {
     "name": "stdout",
     "output_type": "stream",
     "text": [
      "The alpha = -0.013581112, delta = 1, lambda = 3.312402533\n"
     ]
    }
   ],
   "source": [
    "params = params_all[min(params_all.avg_loss) == params_all.avg_loss]\n",
    "alpha = np.float64(params.alpha)\n",
    "delta = 1\n",
    "labda = np.float64(params.labda)\n",
    "print(f\"The alpha = {alpha}, delta = 1, lambda = {labda}\")\n",
    "data_key['T'] = np.array((data_key.retail - data_key.bidfee) / data_key.bidincrement, dtype=int)"
   ],
   "metadata": {
    "collapsed": false
   }
  },
  {
   "cell_type": "markdown",
   "source": [
    "# 2. U & P\n",
    "## 2.1 generate\n",
    "\n",
    "1. 对不同的auction settings做generate\n",
    "2. generate过程: u-->p，然后把P存到dict里\n",
    "3. U 由 `f_equi`得到\n",
    "4. `P[t] = U[0]*U[1]*U[2]...*U[t]*U[t+1]`\n",
    "5. `tmp[T]*U[T]`并不等于`1-sum(P[key_i])`而且后者可能是个负值\n",
    "6. 对于是否设置`threshold_flag`，有不同的处理方式"
   ],
   "metadata": {
    "collapsed": false
   }
  },
  {
   "cell_type": "code",
   "execution_count": 9,
   "outputs": [
    {
     "name": "stdout",
     "output_type": "stream",
     "text": [
      "Done\n"
     ]
    }
   ],
   "source": [
    "# whether set threshold or not\n",
    "threshold_flag = 1\n",
    "plot_flag = 0\n",
    "\n",
    "K = 300\n",
    "col_names = ['bidincrement','bidfee','retail']\n",
    "tmp = np.arange(0,K)\n",
    "tmp_str = [str(x) for x in tmp]\n",
    "col_names.extend(tmp_str)\n",
    "\n",
    "P = pd.DataFrame(columns=col_names)\n",
    "\n",
    "if(plot_flag):\n",
    "    env_str = 'P_oneforall_threshold'\n",
    "    viz = Visdom(env=env_str)\n",
    "\n",
    "print(\"Done\")"
   ],
   "metadata": {
    "collapsed": false
   }
  },
  {
   "cell_type": "markdown",
   "source": [
    "7. 想对比归一化的区别：可以把第一个elif的条件改了\n",
    "8. `P[i]`表示`duration=i+1`的概率，i从0开始计数"
   ],
   "metadata": {
    "collapsed": false
   }
  },
  {
   "cell_type": "code",
   "execution_count": 10,
   "outputs": [
    {
     "name": "stderr",
     "output_type": "stream",
     "text": [
      "100%|██████████| 605/605 [00:46<00:00, 13.09it/s]"
     ]
    },
    {
     "name": "stdout",
     "output_type": "stream",
     "text": [
      "Done\n",
      "123\n"
     ]
    },
    {
     "name": "stderr",
     "output_type": "stream",
     "text": [
      "\n"
     ]
    }
   ],
   "source": [
    "# solve for U & P\n",
    "# data_key.shape[0]\n",
    "cnt = 0\n",
    "zero_padding_len = []\n",
    "for i in tqdm(range(data_key.shape[0])):\n",
    "\n",
    "    # get i_th data_key\n",
    "    key_i = get_key_from_index(i)\n",
    "    data_i = select_data_fromkey(key_i)\n",
    "    data_i.reset_index(drop=True,inplace=True)\n",
    "\n",
    "    # Get params\n",
    "    # cnt_n_2_i = data_i['cnt_n_2'].astype(int)       # Number of occurrences of different durations\n",
    "    v = float(data_i['retail'].unique())            # retail price = valuation\n",
    "    d = float(data_i['bidincrement'].unique())      # bid increment\n",
    "    b = float(data_i['bidfee'].unique())            # bid fee\n",
    "    T_i = int((v-b)/d)                              # duration limitation\n",
    "\n",
    "    key_i_str = get_key_from_index(i,\"str\")         # key for P\n",
    "\n",
    "    # Solve for U\n",
    "    U = [0] * (T_i + 1)                               # the prob. that someone offers a bid in t_th round\n",
    "    U[0] = 1\n",
    "    for t in range(1,T_i+1):\n",
    "        U[t] = f_Equi(t, v, d, b, alpha, labda)\n",
    "\n",
    "    # Decide whether set threshold or not\n",
    "    if (threshold_flag != 1):\n",
    "        K = T_i\n",
    "\n",
    "    # Solve for P\n",
    "    p = np.array([0.0]*(K))\n",
    "    tmp = np.array([0.0]*(K+3))                         # tmp的大小不需要太精确\n",
    "    tmp[0] = 1.0\n",
    "\n",
    "    if(threshold_flag and ((K+1) > T_i)):               # threshold>T_i时，补零\n",
    "        cnt += 1\n",
    "        zero_padding_len.append(K+1-T_i)\n",
    "        for t in range(0,T_i):\n",
    "            tmp[t+1] = tmp[t]*U[t]                      # tmp[t]存了到(t-1)的连乘积\n",
    "            p[t] = (1-U[t+1])*tmp[t+1]\n",
    "        # new added: 不再补0，将p[t]的概率平均分配到后面的位置上\n",
    "\n",
    "    elif (threshold_flag and ((K+1) == T_i)):                                   # threshold=T_i时，正常操作就好\n",
    "        for t in range(0,K):\n",
    "            tmp[t+1] = tmp[t]*U[t]                      # tmp[t]存了到(t-1)的连乘积\n",
    "            p[t] = (1-U[t+1])*tmp[t+1]\n",
    "        p[K-1] = 1-sum(p)\n",
    "\n",
    "    elif (threshold_flag and ((K+1) < T_i)):            # threshold<T_i时，归一化\n",
    "        for t in range(0,K):                            # 注意是k+1不是k\n",
    "            tmp[t+1] = tmp[t]*U[t]                      # tmp[t]存了到(t-1)的连乘积\n",
    "            p[t] = (1-U[t+1])*tmp[t+1]                  # Alert: 当U很大接近1，p[t]很可能为0，下面scale_sum也会=0\n",
    "\n",
    "        # 归一化？\n",
    "        scale_sum = np.sum(p)\n",
    "        if(scale_sum == 0):\n",
    "            print(\"i:\",i)                 # 490\n",
    "            print(\"key_i_str\",key_i_str)  # ('0.02', '0.6', '2799.99')在小于250时P会全0！！\n",
    "            print(\"after\",p)\n",
    "            print(\"U[0:300]\",U[0:300])\n",
    "        # assert scale_sum == 0, \"ZERO!!!!\"\n",
    "        p = p/scale_sum\n",
    "\n",
    "        # if(i==490):\n",
    "        #     print(\"after\",p)\n",
    "        #     print(\"U[0:300]\",U[0:300])\n",
    "\n",
    "    else:\n",
    "        print(\"K: T_i: \",K,T_i)\n",
    "        print(\"Undecided yet. Waiting to be completed.\")\n",
    "\n",
    "    # Concat df P\n",
    "    pd_tmp = pd.DataFrame(data=[[d,b,v]])\n",
    "    pd_tmp = pd.concat([pd_tmp,pd.DataFrame(p).T],axis=1)\n",
    "    pd_tmp.columns = col_names\n",
    "    # P = P.append(pd_tmp,ignore_index=True)\n",
    "    P = pd.concat([P,pd_tmp],ignore_index=True)\n",
    "\n",
    "    # Plot\n",
    "    if(plot_flag& (i%10 == 0)):\n",
    "        viz.line(p,np.arange(0,p.shape[0]),win = 'P_'+str(i),env=env_str, opts= dict(title = f'P_{i}_v={v}_b={b}_d={d}'))\n",
    "print(\"Done\")\n",
    "print(cnt)"
   ],
   "metadata": {
    "collapsed": false
   }
  },
  {
   "cell_type": "code",
   "execution_count": 12,
   "outputs": [
    {
     "data": {
      "text/plain": "(array([2., 1., 4., 2., 2., 0., 1., 2., 1., 2., 0., 1., 1., 0., 2., 0., 2.,\n        4., 0., 1., 0., 3., 0., 0., 2., 2., 1., 3., 0., 0., 2., 0., 0., 4.,\n        0., 2., 1., 0., 1., 0., 1., 0., 2., 0., 3., 1., 1., 1., 0., 5., 2.,\n        1., 2., 0., 1., 2., 0., 1., 1., 0., 0., 0., 0., 1., 0., 3., 1., 2.,\n        2., 1., 1., 0., 0., 2., 1., 0., 0., 0., 0., 3., 2., 0., 0., 2., 2.,\n        0., 1., 1., 0., 0., 1., 0., 1., 2., 0., 0., 1., 1., 0., 2., 0., 0.,\n        0., 2., 4., 1., 1., 0., 1., 0., 1., 0., 2., 1., 0., 0., 0., 0., 0.,\n        0., 0., 1., 3.]),\n array([  2.        ,   4.11382114,   6.22764228,   8.34146341,\n         10.45528455,  12.56910569,  14.68292683,  16.79674797,\n         18.91056911,  21.02439024,  23.13821138,  25.25203252,\n         27.36585366,  29.4796748 ,  31.59349593,  33.70731707,\n         35.82113821,  37.93495935,  40.04878049,  42.16260163,\n         44.27642276,  46.3902439 ,  48.50406504,  50.61788618,\n         52.73170732,  54.84552846,  56.95934959,  59.07317073,\n         61.18699187,  63.30081301,  65.41463415,  67.52845528,\n         69.64227642,  71.75609756,  73.8699187 ,  75.98373984,\n         78.09756098,  80.21138211,  82.32520325,  84.43902439,\n         86.55284553,  88.66666667,  90.7804878 ,  92.89430894,\n         95.00813008,  97.12195122,  99.23577236, 101.3495935 ,\n        103.46341463, 105.57723577, 107.69105691, 109.80487805,\n        111.91869919, 114.03252033, 116.14634146, 118.2601626 ,\n        120.37398374, 122.48780488, 124.60162602, 126.71544715,\n        128.82926829, 130.94308943, 133.05691057, 135.17073171,\n        137.28455285, 139.39837398, 141.51219512, 143.62601626,\n        145.7398374 , 147.85365854, 149.96747967, 152.08130081,\n        154.19512195, 156.30894309, 158.42276423, 160.53658537,\n        162.6504065 , 164.76422764, 166.87804878, 168.99186992,\n        171.10569106, 173.2195122 , 175.33333333, 177.44715447,\n        179.56097561, 181.67479675, 183.78861789, 185.90243902,\n        188.01626016, 190.1300813 , 192.24390244, 194.35772358,\n        196.47154472, 198.58536585, 200.69918699, 202.81300813,\n        204.92682927, 207.04065041, 209.15447154, 211.26829268,\n        213.38211382, 215.49593496, 217.6097561 , 219.72357724,\n        221.83739837, 223.95121951, 226.06504065, 228.17886179,\n        230.29268293, 232.40650407, 234.5203252 , 236.63414634,\n        238.74796748, 240.86178862, 242.97560976, 245.08943089,\n        247.20325203, 249.31707317, 251.43089431, 253.54471545,\n        255.65853659, 257.77235772, 259.88617886, 262.        ]),\n <BarContainer object of 123 artists>)"
     },
     "execution_count": 12,
     "metadata": {},
     "output_type": "execute_result"
    },
    {
     "data": {
      "text/plain": "<Figure size 640x480 with 1 Axes>",
      "image/png": "[encoded data removed]"
     },
     "metadata": {},
     "output_type": "display_data"
    }
   ],
   "source": [
    "import matplotlib.pyplot as plt\n",
    "\n",
    "plt.figure()\n",
    "ax = plt.subplot(111)\n",
    "# padding zero hist: 太多padding with zero会影响效果\n",
    "ax.hist(zero_padding_len,bins=len(zero_padding_len))"
   ],
   "metadata": {
    "collapsed": false
   }
  },
  {
   "cell_type": "markdown",
   "source": [
    "## 2.3 save\n",
    "1. 保存结果以及viz环境"
   ],
   "metadata": {
    "collapsed": false
   }
  },
  {
   "cell_type": "code",
   "execution_count": 114,
   "outputs": [
    {
     "name": "stdout",
     "output_type": "stream",
     "text": [
      "DONE\n",
      "../../data/SA_PT/results/PT_oneforall_P_K=300.csv\n",
      "0\n"
     ]
    }
   ],
   "source": [
    "# 保存整个环境\n",
    "if(plot_flag):\n",
    "    viz.save(envs=[env_str])\n",
    "\n",
    "if(threshold_flag):\n",
    "    K_str = str(K)\n",
    "else:\n",
    "    K_str = str(0)\n",
    "\n",
    "filename_P = output_path_root+(filename_head + \"P_K=\" +K_str+ filename_tail)\n",
    "P.to_csv(filename_P,header=True,index=False,encoding=\"utf-8\")\n",
    "print(\"DONE\")\n",
    "print(filename_P)\n",
    "print(np.sum(np.sum(pd.isna(P))))"
   ],
   "metadata": {
    "collapsed": false
   }
  },
  {
   "cell_type": "code",
   "execution_count": 103,
   "outputs": [
    {
     "ename": "IndentationError",
     "evalue": "unindent does not match any outer indentation level (<tokenize>, line 12)",
     "output_type": "error",
     "traceback": [
      "\u001B[1;36m  File \u001B[1;32m\"<tokenize>\"\u001B[1;36m, line \u001B[1;32m12\u001B[0m\n\u001B[1;33m    assert mode=='w' or mode=='a'\u001B[0m\n\u001B[1;37m    ^\u001B[0m\n\u001B[1;31mIndentationError\u001B[0m\u001B[1;31m:\u001B[0m unindent does not match any outer indentation level\n"
     ]
    }
   ],
   "source": [
    "import json\n",
    "fileName_viz = \"../data/vis/env_P.json\"\n",
    "# 保存指定的win\n",
    "def saveVisdomData(win, env, fileName, mode='w'):\n",
    "\t'''\n",
    "\t\t模型训练完或中断时，可以先将前阶段visdom的数据保存到本地\n",
    "\t\targ:\n",
    "\t\t\twin:　窗口名称\n",
    "\t\t\tenv:　环境名称\n",
    "\t\t\tfileName:　保存文件路径\n",
    "\t\t\tmode:　文件保存格式，‘w’表示重写，‘a’表示添加在末端\n",
    "\t'''\n",
    "    # rewrite or append\n",
    "    assert mode=='w' or mode=='a'\n",
    "    viz = Visdom()\n",
    "    win_data = viz.get_window_data(win, env)\n",
    "    pre_data = json.loads(win_data)\n",
    "    x = pre_data[\"content\"][\"data\"][0][\"x\"]  # x坐标的值\n",
    "    y1 = pre_data[\"content\"][\"data\"][0][\"y\"]  # 曲线１\n",
    "    y2 = pre_data[\"content\"][\"data\"][1][\"y\"]  # 曲线２\n",
    "    assert len(x)==len(y1)==len(y2)\n",
    "    with open(fileName_viz, mode) as f:\n",
    "        writer = csv.writer(f)\n",
    "        for i in range(len(x)):\n",
    "            writer.writerow([x[i], y1[i], y2[i]])\n",
    "\n",
    "# saveVisdomData()"
   ],
   "metadata": {
    "collapsed": false
   }
  },
  {
   "cell_type": "markdown",
   "source": [
    "# 4. 读取json并且还原viz环境"
   ],
   "metadata": {
    "collapsed": false
   }
  },
  {
   "cell_type": "code",
   "execution_count": 11,
   "outputs": [],
   "source": [
    "\n",
    "viz_path = \"../data/vis/P.json\"\n",
    "with open(viz_path,\"r\") as f:\n",
    "    pre_data=json.load(f)\n",
    "\n",
    "tmp = pre_data['jsons'].values()\n",
    "for i in range(0,len((pre_data['jsons']).keys())):\n",
    "    tmpi = list(tmp)[i]\n",
    "    viz.line(\n",
    "        X=np.array(tmpi['content'][\"data\"][0][\"x\"]),\n",
    "        Y=np.array(tmpi['content'][\"data\"][0][\"y\"]),\n",
    "        env = \"P_oneforall\",\n",
    "        win = tmpi['id'],\n",
    "        opts= dict(title=tmpi['title']),\n",
    "    )"
   ],
   "metadata": {
    "collapsed": false
   }
  }
 ],
 "metadata": {
  "kernelspec": {
   "display_name": "Python 3",
   "language": "python",
   "name": "python3"
  },
  "language_info": {
   "codemirror_mode": {
    "name": "ipython",
    "version": 2
   },
   "file_extension": ".py",
   "mimetype": "text/x-python",
   "name": "python",
   "nbconvert_exporter": "python",
   "pygments_lexer": "ipython2",
   "version": "2.7.6"
  }
 },
 "nbformat": 4,
 "nbformat_minor": 0
}
