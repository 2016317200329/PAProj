{
 "cells": [
  {
   "cell_type": "code",
   "execution_count": 1,
   "outputs": [],
   "source": [
    "%load_ext autoreload\n",
    "%autoreload 2"
   ],
   "metadata": {
    "collapsed": false
   }
  },
  {
   "cell_type": "code",
   "execution_count": 2,
   "metadata": {
    "collapsed": true
   },
   "outputs": [],
   "source": [
    "#!/usr/bin/env python\n",
    "# -*- coding: utf-8 -*-\n",
    "# @Time    : 2022/10/09 16:19\n",
    "# @Author  : Wang Yujia\n",
    "# @File    : SA_for_PT_model.ipynb\n",
    "# @Description : Parameter estimation for PT_model using Simulated Annealing and Delta==1"
   ]
  },
  {
   "cell_type": "markdown",
   "source": [
    "# 0. What for\n",
    "\n",
    "# 1. Preparations\n",
    "1. infer参数一是需要data，二是需要把p表示出来才能写出来loss func\n",
    "2. data来自`data_selected_path`\n",
    "\n",
    "## 1.1 全局设置\n"
   ],
   "metadata": {
    "collapsed": false
   }
  },
  {
   "cell_type": "code",
   "execution_count": 46,
   "outputs": [],
   "source": [
    "ARTIFICIAL = True\n",
    "noise_pct = 0\n",
    "\n",
    "# Small dataset\n",
    "data_small_np_path = r'../../data/small_auctions_np.csv'\n",
    "settings_small_NN_path = r\"../../data/small_settings_NN.csv\"\n",
    "\n",
    "# Large data\n",
    "data_large_np_path = r'E:\\DATA\\large_dta\\large_auctions_np.csv'\n",
    "settings_large_NN_path = r'E:\\DATA\\large_dta\\large_settings_NN.csv'\n",
    "\n",
    "\n",
    "if ARTIFICIAL:\n",
    "    target_root_path = \"../../data/artificial_targets_v2_noise=\" +str(noise_pct)\n",
    "else:\n",
    "    target_root_path = \"../../data/targets_all\"\n",
    "\n",
    "# output path: optimized parameters' saving path:\n",
    "if ARTIFICIAL:\n",
    "    params_opitim_delta_path = \"../../data/SA_PT/params_opitim_artificial_v2_noise_\"+str(noise_pct)+\".csv\"\n",
    "else:\n",
    "    params_opitim_delta_path = \"../../data/SA_PT/params_opitim_delta_T.csv\"\n",
    "\n",
    "unique_setting_NN = ['desc','bidincrement','bidfee','retail','flg_endprice']\n",
    "LEN = 300\n",
    "\n",
    "\n",
    "# for SA\n",
    "# initial params\n",
    "table_5_M = [0.025,3.72]\n",
    "# lower/ upper bound\n",
    "lb = [-0.3,0.01]\n",
    "ub = [0.3,18]\n",
    "\n",
    "import numpy as np\n",
    "import csv\n",
    "import os\n",
    "import pandas as pd\n",
    "from visdom import Visdom\n",
    "from tqdm import tqdm\n",
    "from SA_modified import SABoltzmann\n",
    "from sko.tools import set_run_mode\n",
    "from SA_for_PT_funcs_delta_eq1 import *\n",
    "import SA_for_PT_funcs_delta_eq1\n",
    "from func_timeout import func_set_timeout\n",
    "import func_timeout\n",
    "import time"
   ],
   "metadata": {
    "collapsed": false
   }
  },
  {
   "cell_type": "markdown",
   "source": [
    "## 1.2 data 读取\n",
    "1. 读取data以做SA\n",
    "2. 提取出来`data_key`，以及其他计算需要的features"
   ],
   "metadata": {
    "collapsed": false
   }
  },
  {
   "cell_type": "code",
   "execution_count": 47,
   "outputs": [
    {
     "name": "stdout",
     "output_type": "stream",
     "text": [
      "For PT model, there are *1276* settings waiting to be inferred.\n"
     ]
    },
    {
     "data": {
      "text/plain": "                                            desc  bidincrement  bidfee  \\\n0  Sony Ericsson S500i Unlocked Mysterious Green          0.15    0.75   \n1               PSP Slim & Lite Sony Piano Black          0.15    0.75   \n2     iPod Touch Apple 8GB with Software Upgrade          0.15    0.75   \n3      Logitech Cordless Wave Keyboard and Mouse          0.15    0.75   \n4                     SanDisk Cruzer Contour 4GB          0.15    0.75   \n\n   retail  flg_endprice  \n0  499.99             0  \n1  169.99             0  \n2  299.99             0  \n3   89.99             0  \n4   59.99             0  ",
      "text/html": "<div>\n<style scoped>\n    .dataframe tbody tr th:only-of-type {\n        vertical-align: middle;\n    }\n\n    .dataframe tbody tr th {\n        vertical-align: top;\n    }\n\n    .dataframe thead th {\n        text-align: right;\n    }\n</style>\n<table border=\"1\" class=\"dataframe\">\n  <thead>\n    <tr style=\"text-align: right;\">\n      <th></th>\n      <th>desc</th>\n      <th>bidincrement</th>\n      <th>bidfee</th>\n      <th>retail</th>\n      <th>flg_endprice</th>\n    </tr>\n  </thead>\n  <tbody>\n    <tr>\n      <th>0</th>\n      <td>Sony Ericsson S500i Unlocked Mysterious Green</td>\n      <td>0.15</td>\n      <td>0.75</td>\n      <td>499.99</td>\n      <td>0</td>\n    </tr>\n    <tr>\n      <th>1</th>\n      <td>PSP Slim &amp; Lite Sony Piano Black</td>\n      <td>0.15</td>\n      <td>0.75</td>\n      <td>169.99</td>\n      <td>0</td>\n    </tr>\n    <tr>\n      <th>2</th>\n      <td>iPod Touch Apple 8GB with Software Upgrade</td>\n      <td>0.15</td>\n      <td>0.75</td>\n      <td>299.99</td>\n      <td>0</td>\n    </tr>\n    <tr>\n      <th>3</th>\n      <td>Logitech Cordless Wave Keyboard and Mouse</td>\n      <td>0.15</td>\n      <td>0.75</td>\n      <td>89.99</td>\n      <td>0</td>\n    </tr>\n    <tr>\n      <th>4</th>\n      <td>SanDisk Cruzer Contour 4GB</td>\n      <td>0.15</td>\n      <td>0.75</td>\n      <td>59.99</td>\n      <td>0</td>\n    </tr>\n  </tbody>\n</table>\n</div>"
     },
     "execution_count": 47,
     "metadata": {},
     "output_type": "execute_result"
    }
   ],
   "source": [
    "data_small = pd.read_csv(data_small_np_path, encoding=\"utf-8\")\n",
    "data_large = pd.read_csv(data_large_np_path, encoding=\"utf-8\")\n",
    "data = pd.concat([data_small,data_large],axis=0,ignore_index=True)\n",
    "# 由于columns不同，合并后data中肯定有nan，不过我们需要的columns不是nan就好\n",
    "\n",
    "data_key_small = pd.read_csv(settings_small_NN_path, encoding=\"utf-8\")\n",
    "data_key_large = pd.read_csv(settings_large_NN_path, encoding=\"utf-8\")\n",
    "data_key = pd.concat([data_key_small,data_key_large],axis=0,ignore_index=True)\n",
    "\n",
    "# 有`N_uniq_auction`组setting\n",
    "N_uniq_auction= data_key.shape[0]\n",
    "print(\"For PT model, there are *{}* settings waiting to be inferred.\".format(N_uniq_auction))\n",
    "data_key.head()"
   ],
   "metadata": {
    "collapsed": false
   }
  },
  {
   "cell_type": "code",
   "execution_count": 48,
   "outputs": [],
   "source": [
    "all_target_file = os.listdir(target_root_path)"
   ],
   "metadata": {
    "collapsed": false
   }
  },
  {
   "cell_type": "markdown",
   "source": [
    "## 1.3 functions about 'key'"
   ],
   "metadata": {
    "collapsed": false
   }
  },
  {
   "cell_type": "code",
   "execution_count": 49,
   "outputs": [],
   "source": [
    "def select_data_fromkey(i):\n",
    "    return data[(data['desc'] == data_key.iloc[i,0]) &\n",
    "                (data['bidincrement'] == data_key.iloc[i,1]) &\n",
    "                (data['bidfee'] == data_key.iloc[i,2]) &\n",
    "                (data['retail'] == data_key.iloc[i,3]) &\n",
    "                (data['flg_endprice'] == data_key.iloc[i,4])].copy()\n",
    "\n",
    "def readin_data_fromkey(i):\n",
    "    data_i_path = os.path.join(target_root_path,all_target_file[i])\n",
    "    data_i = pd.read_csv(data_i_path,encoding=\"utf-8\")\n",
    "    return data_i"
   ],
   "metadata": {
    "collapsed": false
   }
  },
  {
   "cell_type": "markdown",
   "source": [
    "# 3. SA\n",
    "## 3.1 define loss function\n",
    "1. loss function: NLL for auctions with same `features_GT`\n",
    "2. 注意只能使用理论上限max_T之内的samples"
   ],
   "metadata": {
    "collapsed": false
   }
  },
  {
   "cell_type": "code",
   "execution_count": 50,
   "outputs": [
    {
     "name": "stdout",
     "output_type": "stream",
     "text": [
      "tensor(57.4000)\n",
      "Execution time for Function A: 0.0\n",
      "tensor(57.4000)\n",
      "Execution time for Function B: 0.0010004043579101562\n"
     ]
    }
   ],
   "source": [
    "import time\n",
    "U = torch.Tensor([0,0.1,0.2,0.3,0.4,0.5,0.6,0.7])\n",
    "target = [1,3,5,1,2,3,4,5,3,4,5,3,4,1,3,5,1,2,3,4,5,3,4,1,3,5,1,2,3,4,5,3,4,1,3,5,1,2,3,4,5,3,4]\n",
    "\n",
    "start_time_a = time.time()\n",
    "ans = torch.sum(torch.tensor([torch.sum(U[1:i+1])+(1-U[i+1]) for i in target]))\n",
    "end_time_a = time.time()\n",
    "\n",
    "start_time_b = time.time()\n",
    "nll = torch.tensor(0.)\n",
    "for i in target:\n",
    "    nll = nll + torch.sum(U[1:i+1])+(1-U[i+1])\n",
    "end_time_b = time.time()\n",
    "\n",
    "# print the results and execution times\n",
    "print(ans)\n",
    "print(\"Execution time for Function A:\", end_time_a - start_time_a)\n",
    "print(nll)\n",
    "print(\"Execution time for Function B:\", end_time_b - start_time_b)\n"
   ],
   "metadata": {
    "collapsed": false
   }
  },
  {
   "cell_type": "code",
   "execution_count": 51,
   "outputs": [
    {
     "data": {
      "text/plain": "tensor([0.0000, 0.1000, 0.3000, 0.6000, 1.0000, 1.5000, 2.1000, 2.8000])"
     },
     "execution_count": 51,
     "metadata": {},
     "output_type": "execute_result"
    }
   ],
   "source": [
    "U = torch.Tensor([0, 0.1, 0.2, 0.3, 0.4, 0.5, 0.6, 0.7])\n",
    "U_cumsum = torch.cumsum(U,dim=0)\n",
    "U_cumsum"
   ],
   "metadata": {
    "collapsed": false
   }
  },
  {
   "cell_type": "code",
   "execution_count": 52,
   "outputs": [
    {
     "name": "stdout",
     "output_type": "stream",
     "text": [
      "tensor([[0.0000, 0.1000, 0.2000, 0.3000, 0.4000, 0.5000, 0.6000, 0.7000],\n",
      "        [0.0000, 0.1000, 0.2000, 0.3000, 0.4000, 0.5000, 0.6000, 0.7000],\n",
      "        [0.0000, 0.1000, 0.2000, 0.3000, 0.4000, 0.5000, 0.6000, 0.7000],\n",
      "        [0.0000, 0.1000, 0.2000, 0.3000, 0.4000, 0.5000, 0.6000, 0.7000]])\n",
      "tensor([[0.0000, 0.1000, 0.3000, 0.6000, 1.0000, 1.5000, 2.1000, 2.8000],\n",
      "        [0.0000, 0.1000, 0.3000, 0.6000, 1.0000, 1.5000, 2.1000, 2.8000],\n",
      "        [0.0000, 0.1000, 0.3000, 0.6000, 1.0000, 1.5000, 2.1000, 2.8000],\n",
      "        [0.0000, 0.1000, 0.3000, 0.6000, 1.0000, 1.5000, 2.1000, 2.8000]])\n",
      "tensor([[0.1000],\n",
      "        [0.6000],\n",
      "        [1.5000],\n",
      "        [0.1000]])\n",
      "tensor([1., 1., 1., 1.])\n"
     ]
    }
   ],
   "source": [
    "target = [1,3,5,1]\n",
    "U = torch.Tensor([0, 0.1, 0.2, 0.3, 0.4, 0.5, 0.6, 0.7])\n",
    "U_extend = torch.repeat_interleave(U[None,:],repeats=len(target),dim=0)    # [len(target),len(U)]\n",
    "U_cumsum = torch.cumsum(U_extend,dim=1)\n",
    "idx = torch.tensor(target)[:,None]\n",
    "\n",
    "U_sum = torch.gather(U_cumsum,dim=1,index=torch.tensor(target)[:,None])   # into: [len(target),1]\n",
    "U_sum_2 = torch.max(torch.gather(U,0,index=torch.tensor(target)),torch.tensor(1.))\n",
    "\n",
    "print(U_extend)\n",
    "print(U_cumsum)\n",
    "print(U_sum)\n",
    "print(U_sum_2)\n",
    "\n",
    "\n",
    "# target = [1, 3, 5, 1]\n",
    "# # target = [1,3,5,1,2,3,4,5,3,4,5,3,4,1,3,5,1,2,3,4,5,3,4,1,3,5,1,2,3,4,5,3,4,1,3,5,1,2,3,4,5,3,4]\n",
    "# U = torch.Tensor([0, 0.1, 0.2, 0.3, 0.4, 0.5, 0.6, 0.7])\n",
    "# total_sum = U.gather(0, torch.tensor(target))#.cumsum(0).max()\n",
    "# # total_sum = U_extend.gather(0, torch.arange(1:torch.tensor(target))) #.cumsum(0).max()\n",
    "#\n",
    "# print(\"Total sum:\", total_sum)\n"
   ],
   "metadata": {
    "collapsed": false
   }
  },
  {
   "cell_type": "code",
   "execution_count": 53,
   "outputs": [],
   "source": [
    "def loss_func(params,other_params):\n",
    "    # start_time_loss = datetime.datetime.now()\n",
    "    alpha = params[0]\n",
    "    # delta = 1\n",
    "    labda = params[1]\n",
    "\n",
    "    i = other_params[0]\n",
    "    if ARTIFICIAL:\n",
    "        data_i = readin_data_fromkey(i)\n",
    "\n",
    "    else:\n",
    "        data_i = readin_data_fromkey(i)\n",
    "\n",
    "        # data_i = select_data_fromkey(i)\n",
    "        # data_i.reset_index(drop=True,inplace=True)\n",
    "\n",
    "    # Get params\n",
    "    v = float(data_key.iloc[i,3])\n",
    "    d = float(data_key.iloc[i,1])\n",
    "    b = float(data_key.iloc[i,2])\n",
    "    T_i = data_i['N'].astype(int)            # auction duration sequence\n",
    "\n",
    "    LEN,T = get_LEN_T(v,b,d,max(T_i))\n",
    "\n",
    "    # To get U_i given LEN and other params\n",
    "    U_i = get_U_GT2(LEN, v, d, b, alpha, labda)\n",
    "\n",
    "    # Calculate NLL under this auction setting & PT params\n",
    "    nll = get_nll_loss(T_i, U_i, LEN)\n",
    "\n",
    "    return nll"
   ],
   "metadata": {
    "collapsed": false
   }
  },
  {
   "cell_type": "markdown",
   "source": [
    "\n",
    "## 3.2 do SA\n",
    "1. 要对每一个setting做一次infer == 对每一个setting执行一次SA。\n",
    "    - 可以并行吗？YES\n",
    "2. 具体的：对每个setting `i`\n",
    "    - 每一个setting `i` 对应一组samples: `data_i`\n",
    "    - `data_i`中的`cnt_uniq`，也就是`A`，是相同的，表示setting `i` 进行的拍卖总次数.【但是这个`A`在计算loss的时候派不上用场】\n",
    "    - `N`表示duration，因此paper公式里的$T_a$即`N[a]`\n",
    "    - 因此有`A = sum(data_i['cnt_n_2'])`，其中的'cnt_n_2'表示了该行对应的`duration=N`发生的次数\n",
    "    - 按照上文，求解`U[i]_t` which is a array with shape of (max(N)),也就是求解paper里的`p_t`\n",
    "3.每次进行`L`次对参数的试探寻找，每次寻找对应一个温度一组新的参数。\n",
    "    - 优化的完成/退出条件：温度小于`T_min`或者最低温度保持`max_stay_counter`次的不变\n",
    "    - 鉴于温度小于`T_min`很难达到，因此基本上对一组参数进行优化要进行L*max_stay_counter+1次运算（loss运算）"
   ],
   "metadata": {
    "collapsed": false
   }
  },
  {
   "cell_type": "code",
   "execution_count": 54,
   "outputs": [],
   "source": [
    "\n",
    "params_opitim = pd.DataFrame(columns=['key_idx','alpha','delta','labda','initial_loss','final_loss','avg_loss'])"
   ],
   "metadata": {
    "collapsed": false
   }
  },
  {
   "cell_type": "code",
   "execution_count": 55,
   "outputs": [],
   "source": [
    "# Perform SA respectively for all settings\n",
    "# 设定timer，如果1分钟内没infer出来就跳过\n",
    "@func_set_timeout(60)\n",
    "def perform_with_time(sa_boltzmann):\n",
    "    return sa_boltzmann.run()"
   ],
   "metadata": {
    "collapsed": false
   }
  },
  {
   "cell_type": "code",
   "execution_count": 56,
   "outputs": [
    {
     "name": "stderr",
     "output_type": "stream",
     "text": [
      "  0%|          | 0/1276 [00:00<?, ?it/s]"
     ]
    },
    {
     "name": "stdout",
     "output_type": "stream",
     "text": [
      "> For the *0_th* data_key\n",
      "> retail = 499.99,bidincrement = 0.15, bidfee = 0.75, infer PT's parameters\n",
      "> Now do SA....... \n",
      "\n"
     ]
    },
    {
     "name": "stderr",
     "output_type": "stream",
     "text": [
      "  0%|          | 1/1276 [00:04<1:32:19,  4.34s/it]"
     ]
    },
    {
     "name": "stdout",
     "output_type": "stream",
     "text": [
      "STOP CODE:  Stay unchanged in the last 6 iterations\n",
      "> SA ENDS....... \n",
      "\n",
      "> avg loss: 3.105446254422148\n",
      "> For the *1_th* data_key\n",
      "> retail = 169.99,bidincrement = 0.15, bidfee = 0.75, infer PT's parameters\n",
      "> Now do SA....... \n",
      "\n"
     ]
    },
    {
     "name": "stderr",
     "output_type": "stream",
     "text": [
      "  0%|          | 2/1276 [00:07<1:18:33,  3.70s/it]"
     ]
    },
    {
     "name": "stdout",
     "output_type": "stream",
     "text": [
      "STOP CODE:  Stay unchanged in the last 6 iterations\n",
      "> SA ENDS....... \n",
      "\n",
      "> avg loss: 2.680496922680227\n",
      "> For the *2_th* data_key\n",
      "> retail = 299.99,bidincrement = 0.15, bidfee = 0.75, infer PT's parameters\n",
      "> Now do SA....... \n",
      "\n"
     ]
    },
    {
     "name": "stderr",
     "output_type": "stream",
     "text": [
      "  0%|          | 3/1276 [00:10<1:15:29,  3.56s/it]"
     ]
    },
    {
     "name": "stdout",
     "output_type": "stream",
     "text": [
      "STOP CODE:  Stay unchanged in the last 6 iterations\n",
      "> SA ENDS....... \n",
      "\n",
      "> avg loss: 2.8150737325957613\n",
      "> For the *3_th* data_key\n",
      "> retail = 89.99,bidincrement = 0.15, bidfee = 0.75, infer PT's parameters\n",
      "> Now do SA....... \n",
      "\n"
     ]
    },
    {
     "name": "stderr",
     "output_type": "stream",
     "text": [
      "  0%|          | 4/1276 [00:13<1:04:51,  3.06s/it]"
     ]
    },
    {
     "name": "stdout",
     "output_type": "stream",
     "text": [
      "STOP CODE:  Stay unchanged in the last 6 iterations\n",
      "> SA ENDS....... \n",
      "\n",
      "> avg loss: 2.3778583563390416\n",
      "> For the *4_th* data_key\n",
      "> retail = 59.99,bidincrement = 0.15, bidfee = 0.75, infer PT's parameters\n",
      "> Now do SA....... \n",
      "\n"
     ]
    },
    {
     "name": "stderr",
     "output_type": "stream",
     "text": [
      "  0%|          | 5/1276 [00:14<48:30,  2.29s/it]  "
     ]
    },
    {
     "name": "stdout",
     "output_type": "stream",
     "text": [
      "STOP CODE:  Stay unchanged in the last 6 iterations\n",
      "> SA ENDS....... \n",
      "\n",
      "> avg loss: 3.140083931381324\n",
      "> For the *5_th* data_key\n",
      "> retail = 49.99,bidincrement = 0.15, bidfee = 0.75, infer PT's parameters\n",
      "> Now do SA....... \n",
      "\n"
     ]
    },
    {
     "name": "stderr",
     "output_type": "stream",
     "text": [
      "  0%|          | 6/1276 [00:15<41:12,  1.95s/it]"
     ]
    },
    {
     "name": "stdout",
     "output_type": "stream",
     "text": [
      "STOP CODE:  Stay unchanged in the last 6 iterations\n",
      "> SA ENDS....... \n",
      "\n",
      "> avg loss: 2.237336921221949\n",
      "> For the *6_th* data_key\n",
      "> retail = 399.99,bidincrement = 0.15, bidfee = 0.75, infer PT's parameters\n",
      "> Now do SA....... \n",
      "\n"
     ]
    },
    {
     "name": "stderr",
     "output_type": "stream",
     "text": [
      "  1%|          | 7/1276 [00:18<48:29,  2.29s/it]"
     ]
    },
    {
     "name": "stdout",
     "output_type": "stream",
     "text": [
      "STOP CODE:  Stay unchanged in the last 6 iterations\n",
      "> SA ENDS....... \n",
      "\n",
      "> avg loss: 3.192952823584272\n",
      "> For the *7_th* data_key\n",
      "> retail = 129.99,bidincrement = 0.15, bidfee = 0.75, infer PT's parameters\n",
      "> Now do SA....... \n",
      "\n"
     ]
    },
    {
     "name": "stderr",
     "output_type": "stream",
     "text": [
      "  1%|          | 8/1276 [00:22<59:55,  2.84s/it]"
     ]
    },
    {
     "name": "stdout",
     "output_type": "stream",
     "text": [
      "STOP CODE:  Stay unchanged in the last 6 iterations\n",
      "> SA ENDS....... \n",
      "\n",
      "> avg loss: 2.393346031249363\n",
      "> For the *8_th* data_key\n",
      "> retail = 39.95,bidincrement = 0.15, bidfee = 0.75, infer PT's parameters\n",
      "> Now do SA....... \n",
      "\n"
     ]
    },
    {
     "name": "stderr",
     "output_type": "stream",
     "text": [
      "  1%|          | 9/1276 [00:23<47:52,  2.27s/it]"
     ]
    },
    {
     "name": "stdout",
     "output_type": "stream",
     "text": [
      "STOP CODE:  Stay unchanged in the last 6 iterations\n",
      "> SA ENDS....... \n",
      "\n",
      "> avg loss: 2.7504814503643127\n",
      "> For the *9_th* data_key\n",
      "> retail = 549.99,bidincrement = 0.15, bidfee = 0.75, infer PT's parameters\n",
      "> Now do SA....... \n",
      "\n"
     ]
    },
    {
     "name": "stderr",
     "output_type": "stream",
     "text": [
      "  1%|          | 10/1276 [00:28<1:04:26,  3.05s/it]"
     ]
    },
    {
     "name": "stdout",
     "output_type": "stream",
     "text": [
      "STOP CODE:  Stay unchanged in the last 6 iterations\n",
      "> SA ENDS....... \n",
      "\n",
      "> avg loss: 2.6157029015403404\n",
      "> For the *10_th* data_key\n",
      "> retail = 49.99,bidincrement = 0.15, bidfee = 0.75, infer PT's parameters\n",
      "> Now do SA....... \n",
      "\n"
     ]
    },
    {
     "name": "stderr",
     "output_type": "stream",
     "text": [
      "  1%|          | 11/1276 [00:29<51:31,  2.44s/it]  "
     ]
    },
    {
     "name": "stdout",
     "output_type": "stream",
     "text": [
      "STOP CODE:  Stay unchanged in the last 6 iterations\n",
      "> SA ENDS....... \n",
      "\n",
      "> avg loss: 2.0767762964328083\n",
      "> For the *11_th* data_key\n",
      "> retail = 129.99,bidincrement = 0.15, bidfee = 0.75, infer PT's parameters\n",
      "> Now do SA....... \n",
      "\n"
     ]
    },
    {
     "name": "stderr",
     "output_type": "stream",
     "text": [
      "  1%|          | 12/1276 [00:31<48:34,  2.31s/it]"
     ]
    },
    {
     "name": "stdout",
     "output_type": "stream",
     "text": [
      "STOP CODE:  Stay unchanged in the last 6 iterations\n",
      "> SA ENDS....... \n",
      "\n",
      "> avg loss: 2.4516687035137057\n",
      "> For the *12_th* data_key\n",
      "> retail = 69.99,bidincrement = 0.15, bidfee = 0.75, infer PT's parameters\n",
      "> Now do SA....... \n",
      "\n"
     ]
    },
    {
     "name": "stderr",
     "output_type": "stream",
     "text": [
      "  1%|          | 13/1276 [00:32<39:28,  1.88s/it]"
     ]
    },
    {
     "name": "stdout",
     "output_type": "stream",
     "text": [
      "STOP CODE:  Stay unchanged in the last 6 iterations\n",
      "> SA ENDS....... \n",
      "\n",
      "> avg loss: 2.7343860402560987\n",
      "> For the *13_th* data_key\n",
      "> retail = 899.99,bidincrement = 0.15, bidfee = 0.75, infer PT's parameters\n",
      "> Now do SA....... \n",
      "\n"
     ]
    },
    {
     "name": "stderr",
     "output_type": "stream",
     "text": [
      "  1%|          | 14/1276 [00:52<2:35:24,  7.39s/it]"
     ]
    },
    {
     "name": "stdout",
     "output_type": "stream",
     "text": [
      "STOP CODE:  Stay unchanged in the last 6 iterations\n",
      "> SA ENDS....... \n",
      "\n",
      "> avg loss: 7.9496044757758195\n",
      "> For the *14_th* data_key\n",
      "> retail = 129.99,bidincrement = 0.15, bidfee = 0.75, infer PT's parameters\n",
      "> Now do SA....... \n",
      "\n"
     ]
    },
    {
     "name": "stderr",
     "output_type": "stream",
     "text": [
      "  1%|          | 15/1276 [00:56<2:13:59,  6.38s/it]"
     ]
    },
    {
     "name": "stdout",
     "output_type": "stream",
     "text": [
      "STOP CODE:  Stay unchanged in the last 6 iterations\n",
      "> SA ENDS....... \n",
      "\n",
      "> avg loss: 2.4525758469266856\n",
      "> For the *15_th* data_key\n",
      "> retail = 249.99,bidincrement = 0.15, bidfee = 0.75, infer PT's parameters\n",
      "> Now do SA....... \n",
      "\n"
     ]
    },
    {
     "name": "stderr",
     "output_type": "stream",
     "text": [
      "  1%|▏         | 16/1276 [00:59<1:52:50,  5.37s/it]"
     ]
    },
    {
     "name": "stdout",
     "output_type": "stream",
     "text": [
      "STOP CODE:  Stay unchanged in the last 6 iterations\n",
      "> SA ENDS....... \n",
      "\n",
      "> avg loss: 2.0035117049436018\n",
      "> For the *16_th* data_key\n",
      "> retail = 129.99,bidincrement = 0.15, bidfee = 0.75, infer PT's parameters\n",
      "> Now do SA....... \n",
      "\n"
     ]
    },
    {
     "name": "stderr",
     "output_type": "stream",
     "text": [
      "  1%|▏         | 17/1276 [01:01<1:29:31,  4.27s/it]"
     ]
    },
    {
     "name": "stdout",
     "output_type": "stream",
     "text": [
      "STOP CODE:  Stay unchanged in the last 6 iterations\n",
      "> SA ENDS....... \n",
      "\n",
      "> avg loss: 2.295246308223408\n",
      "> For the *17_th* data_key\n",
      "> retail = 129.99,bidincrement = 0.15, bidfee = 0.75, infer PT's parameters\n",
      "> Now do SA....... \n",
      "\n"
     ]
    },
    {
     "name": "stderr",
     "output_type": "stream",
     "text": [
      "  1%|▏         | 18/1276 [01:02<1:12:35,  3.46s/it]"
     ]
    },
    {
     "name": "stdout",
     "output_type": "stream",
     "text": [
      "STOP CODE:  Stay unchanged in the last 6 iterations\n",
      "> SA ENDS....... \n",
      "\n",
      "> avg loss: 2.2152254661102355\n",
      "> For the *18_th* data_key\n",
      "> retail = 49.99,bidincrement = 0.15, bidfee = 0.75, infer PT's parameters\n",
      "> Now do SA....... \n",
      "\n"
     ]
    },
    {
     "name": "stderr",
     "output_type": "stream",
     "text": [
      "  1%|▏         | 19/1276 [01:04<1:02:26,  2.98s/it]"
     ]
    },
    {
     "name": "stdout",
     "output_type": "stream",
     "text": [
      "STOP CODE:  Stay unchanged in the last 6 iterations\n",
      "> SA ENDS....... \n",
      "\n",
      "> avg loss: 2.175578974803862\n",
      "> For the *19_th* data_key\n",
      "> retail = 499.99,bidincrement = 0.15, bidfee = 0.75, infer PT's parameters\n",
      "> Now do SA....... \n",
      "\n"
     ]
    },
    {
     "name": "stderr",
     "output_type": "stream",
     "text": [
      "  2%|▏         | 20/1276 [01:08<1:07:22,  3.22s/it]"
     ]
    },
    {
     "name": "stdout",
     "output_type": "stream",
     "text": [
      "STOP CODE:  Stay unchanged in the last 6 iterations\n",
      "> SA ENDS....... \n",
      "\n",
      "> avg loss: 2.920335568341253\n",
      "> For the *20_th* data_key\n",
      "> retail = 80.0,bidincrement = 0.0, bidfee = 0.75, infer PT's parameters\n",
      "> Now do SA....... \n",
      "\n"
     ]
    },
    {
     "name": "stderr",
     "output_type": "stream",
     "text": [
      "  2%|▏         | 21/1276 [01:11<1:06:52,  3.20s/it]"
     ]
    },
    {
     "name": "stdout",
     "output_type": "stream",
     "text": [
      "STOP CODE:  Stay unchanged in the last 6 iterations\n",
      "> SA ENDS....... \n",
      "\n",
      "> avg loss: 5.635141188488292\n",
      "> For the *21_th* data_key\n",
      "> retail = 1000.0,bidincrement = 0.0, bidfee = 0.75, infer PT's parameters\n",
      "> Now do SA....... \n",
      "\n"
     ]
    },
    {
     "name": "stderr",
     "output_type": "stream",
     "text": [
      "  2%|▏         | 22/1276 [01:12<52:51,  2.53s/it]  "
     ]
    },
    {
     "name": "stdout",
     "output_type": "stream",
     "text": [
      "STOP CODE:  Stay unchanged in the last 6 iterations\n",
      "> SA ENDS....... \n",
      "\n",
      "> avg loss: 1.4184935564519745\n",
      "> For the *22_th* data_key\n",
      "> retail = 50.0,bidincrement = 0.0, bidfee = 0.75, infer PT's parameters\n",
      "> Now do SA....... \n",
      "\n"
     ]
    },
    {
     "name": "stderr",
     "output_type": "stream",
     "text": [
      "  2%|▏         | 23/1276 [01:15<52:52,  2.53s/it]"
     ]
    },
    {
     "name": "stdout",
     "output_type": "stream",
     "text": [
      "STOP CODE:  Stay unchanged in the last 6 iterations\n",
      "> SA ENDS....... \n",
      "\n",
      "> avg loss: 5.089621038663437\n",
      "> For the *23_th* data_key\n",
      "> retail = 300.0,bidincrement = 0.0, bidfee = 0.75, infer PT's parameters\n",
      "> Now do SA....... \n",
      "\n"
     ]
    },
    {
     "name": "stderr",
     "output_type": "stream",
     "text": [
      "  2%|▏         | 24/1276 [01:18<56:45,  2.72s/it]"
     ]
    },
    {
     "name": "stdout",
     "output_type": "stream",
     "text": [
      "STOP CODE:  Stay unchanged in the last 6 iterations\n",
      "> SA ENDS....... \n",
      "\n",
      "> avg loss: 4.802023790475305\n",
      "> For the *24_th* data_key\n",
      "> retail = 44.99,bidincrement = 0.15, bidfee = 0.75, infer PT's parameters\n",
      "> Now do SA....... \n",
      "\n"
     ]
    },
    {
     "name": "stderr",
     "output_type": "stream",
     "text": [
      "  2%|▏         | 25/1276 [01:18<44:45,  2.15s/it]"
     ]
    },
    {
     "name": "stdout",
     "output_type": "stream",
     "text": [
      "STOP CODE:  Stay unchanged in the last 6 iterations\n",
      "> SA ENDS....... \n",
      "\n",
      "> avg loss: 3.2309638547440116\n",
      "> For the *25_th* data_key\n",
      "> retail = 118.0,bidincrement = 0.15, bidfee = 0.75, infer PT's parameters\n",
      "> Now do SA....... \n",
      "\n"
     ]
    },
    {
     "name": "stderr",
     "output_type": "stream",
     "text": [
      "  2%|▏         | 26/1276 [01:20<38:42,  1.86s/it]"
     ]
    },
    {
     "name": "stdout",
     "output_type": "stream",
     "text": [
      "STOP CODE:  Stay unchanged in the last 6 iterations\n",
      "> SA ENDS....... \n",
      "\n",
      "> avg loss: 3.0375510836269397\n",
      "> For the *26_th* data_key\n",
      "> retail = 320.0,bidincrement = 0.0, bidfee = 0.75, infer PT's parameters\n",
      "> Now do SA....... \n",
      "\n"
     ]
    },
    {
     "name": "stderr",
     "output_type": "stream",
     "text": [
      "  2%|▏         | 27/1276 [01:23<49:40,  2.39s/it]"
     ]
    },
    {
     "name": "stdout",
     "output_type": "stream",
     "text": [
      "STOP CODE:  Stay unchanged in the last 6 iterations\n",
      "> SA ENDS....... \n",
      "\n",
      "> avg loss: 4.7679558635286785\n",
      "> For the *27_th* data_key\n",
      "> retail = 39.99,bidincrement = 0.15, bidfee = 0.75, infer PT's parameters\n",
      "> Now do SA....... \n",
      "\n"
     ]
    },
    {
     "name": "stderr",
     "output_type": "stream",
     "text": [
      "  2%|▏         | 28/1276 [01:24<41:21,  1.99s/it]"
     ]
    },
    {
     "name": "stdout",
     "output_type": "stream",
     "text": [
      "STOP CODE:  Stay unchanged in the last 6 iterations\n",
      "> SA ENDS....... \n",
      "\n",
      "> avg loss: 2.1810250004603184\n",
      "> For the *28_th* data_key\n",
      "> retail = 949.99,bidincrement = 0.0, bidfee = 0.75, infer PT's parameters\n",
      "> Now do SA....... \n",
      "\n"
     ]
    },
    {
     "name": "stderr",
     "output_type": "stream",
     "text": [
      "  2%|▏         | 29/1276 [01:26<39:27,  1.90s/it]"
     ]
    },
    {
     "name": "stdout",
     "output_type": "stream",
     "text": [
      "STOP CODE:  Stay unchanged in the last 6 iterations\n",
      "> SA ENDS....... \n",
      "\n",
      "> avg loss: 2.2876289093235527\n",
      "> For the *29_th* data_key\n",
      "> retail = 399.99,bidincrement = 0.15, bidfee = 0.75, infer PT's parameters\n",
      "> Now do SA....... \n",
      "\n"
     ]
    },
    {
     "name": "stderr",
     "output_type": "stream",
     "text": [
      "  2%|▏         | 30/1276 [01:30<51:48,  2.49s/it]"
     ]
    },
    {
     "name": "stdout",
     "output_type": "stream",
     "text": [
      "STOP CODE:  Stay unchanged in the last 6 iterations\n",
      "> SA ENDS....... \n",
      "\n",
      "> avg loss: 2.3187811543370067\n",
      "> For the *30_th* data_key\n",
      "> retail = 57.0,bidincrement = 0.15, bidfee = 0.75, infer PT's parameters\n",
      "> Now do SA....... \n",
      "\n"
     ]
    },
    {
     "name": "stderr",
     "output_type": "stream",
     "text": [
      "  2%|▏         | 31/1276 [01:31<41:52,  2.02s/it]"
     ]
    },
    {
     "name": "stdout",
     "output_type": "stream",
     "text": [
      "STOP CODE:  Stay unchanged in the last 6 iterations\n",
      "> SA ENDS....... \n",
      "\n",
      "> avg loss: 4.033537987217507\n",
      "> For the *31_th* data_key\n",
      "> retail = 69.99,bidincrement = 0.15, bidfee = 0.75, infer PT's parameters\n",
      "> Now do SA....... \n",
      "\n"
     ]
    },
    {
     "name": "stderr",
     "output_type": "stream",
     "text": [
      "  3%|▎         | 32/1276 [01:32<34:42,  1.67s/it]"
     ]
    },
    {
     "name": "stdout",
     "output_type": "stream",
     "text": [
      "STOP CODE:  Stay unchanged in the last 6 iterations\n",
      "> SA ENDS....... \n",
      "\n",
      "> avg loss: 2.1192107653701333\n",
      "> For the *32_th* data_key\n",
      "> retail = 159.99,bidincrement = 0.15, bidfee = 0.75, infer PT's parameters\n",
      "> Now do SA....... \n",
      "\n"
     ]
    },
    {
     "name": "stderr",
     "output_type": "stream",
     "text": [
      "  3%|▎         | 33/1276 [01:34<38:42,  1.87s/it]"
     ]
    },
    {
     "name": "stdout",
     "output_type": "stream",
     "text": [
      "STOP CODE:  Stay unchanged in the last 6 iterations\n",
      "> SA ENDS....... \n",
      "\n",
      "> avg loss: 4.859830665707061\n",
      "> For the *33_th* data_key\n",
      "> retail = 220.0,bidincrement = 0.0, bidfee = 0.75, infer PT's parameters\n",
      "> Now do SA....... \n",
      "\n"
     ]
    },
    {
     "name": "stderr",
     "output_type": "stream",
     "text": [
      "  3%|▎         | 34/1276 [01:37<44:23,  2.14s/it]"
     ]
    },
    {
     "name": "stdout",
     "output_type": "stream",
     "text": [
      "STOP CODE:  Stay unchanged in the last 6 iterations\n",
      "> SA ENDS....... \n",
      "\n",
      "> avg loss: 4.776329737878151\n",
      "> For the *34_th* data_key\n",
      "> retail = 330.0,bidincrement = 0.0, bidfee = 0.75, infer PT's parameters\n",
      "> Now do SA....... \n",
      "\n"
     ]
    },
    {
     "name": "stderr",
     "output_type": "stream",
     "text": [
      "  3%|▎         | 35/1276 [01:39<43:47,  2.12s/it]"
     ]
    },
    {
     "name": "stdout",
     "output_type": "stream",
     "text": [
      "STOP CODE:  Stay unchanged in the last 6 iterations\n",
      "> SA ENDS....... \n",
      "\n",
      "> avg loss: 4.469582709103132\n",
      "> For the *35_th* data_key\n",
      "> retail = 50.0,bidincrement = 0.15, bidfee = 0.75, infer PT's parameters\n",
      "> Now do SA....... \n",
      "\n"
     ]
    },
    {
     "name": "stderr",
     "output_type": "stream",
     "text": [
      "  3%|▎         | 36/1276 [01:40<37:32,  1.82s/it]"
     ]
    },
    {
     "name": "stdout",
     "output_type": "stream",
     "text": [
      "STOP CODE:  Stay unchanged in the last 6 iterations\n",
      "> SA ENDS....... \n",
      "\n",
      "> avg loss: 3.297475951922188\n",
      "> For the *36_th* data_key\n",
      "> retail = 149.99,bidincrement = 0.15, bidfee = 0.75, infer PT's parameters\n",
      "> Now do SA....... \n",
      "\n"
     ]
    },
    {
     "name": "stderr",
     "output_type": "stream",
     "text": [
      "  3%|▎         | 37/1276 [01:42<36:08,  1.75s/it]"
     ]
    },
    {
     "name": "stdout",
     "output_type": "stream",
     "text": [
      "STOP CODE:  Stay unchanged in the last 6 iterations\n",
      "> SA ENDS....... \n",
      "\n",
      "> avg loss: 3.510912602509126\n",
      "> For the *37_th* data_key\n",
      "> retail = 23.99,bidincrement = 0.15, bidfee = 0.75, infer PT's parameters\n",
      "> Now do SA....... \n",
      "\n"
     ]
    },
    {
     "name": "stderr",
     "output_type": "stream",
     "text": [
      "  3%|▎         | 38/1276 [01:42<28:40,  1.39s/it]"
     ]
    },
    {
     "name": "stdout",
     "output_type": "stream",
     "text": [
      "STOP CODE:  Stay unchanged in the last 6 iterations\n",
      "> SA ENDS....... \n",
      "\n",
      "> avg loss: 2.4635567563399\n",
      "> For the *38_th* data_key\n",
      "> retail = 599.0,bidincrement = 0.15, bidfee = 0.75, infer PT's parameters\n",
      "> Now do SA....... \n",
      "\n"
     ]
    },
    {
     "name": "stderr",
     "output_type": "stream",
     "text": [
      "  3%|▎         | 39/1276 [01:47<48:10,  2.34s/it]"
     ]
    },
    {
     "name": "stdout",
     "output_type": "stream",
     "text": [
      "STOP CODE:  Stay unchanged in the last 6 iterations\n",
      "> SA ENDS....... \n",
      "\n",
      "> avg loss: 2.6521705911898352\n",
      "> For the *39_th* data_key\n",
      "> retail = 599.0,bidincrement = 0.15, bidfee = 0.75, infer PT's parameters\n",
      "> Now do SA....... \n",
      "\n"
     ]
    },
    {
     "name": "stderr",
     "output_type": "stream",
     "text": [
      "  3%|▎         | 40/1276 [01:54<1:17:25,  3.76s/it]"
     ]
    },
    {
     "name": "stdout",
     "output_type": "stream",
     "text": [
      "STOP CODE:  Stay unchanged in the last 6 iterations\n",
      "> SA ENDS....... \n",
      "\n",
      "> avg loss: 2.7175586181852003\n",
      "> For the *40_th* data_key\n",
      "> retail = 24.99,bidincrement = 0.15, bidfee = 0.75, infer PT's parameters\n",
      "> Now do SA....... \n",
      "\n"
     ]
    },
    {
     "name": "stderr",
     "output_type": "stream",
     "text": [
      "  3%|▎         | 41/1276 [01:55<1:01:52,  3.01s/it]"
     ]
    },
    {
     "name": "stdout",
     "output_type": "stream",
     "text": [
      "STOP CODE:  Stay unchanged in the last 6 iterations\n",
      "> SA ENDS....... \n",
      "\n",
      "> avg loss: 2.5637921232717935\n",
      "> For the *41_th* data_key\n",
      "> retail = 569.0,bidincrement = 0.15, bidfee = 0.75, infer PT's parameters\n",
      "> Now do SA....... \n",
      "\n"
     ]
    },
    {
     "name": "stderr",
     "output_type": "stream",
     "text": [
      "  3%|▎         | 42/1276 [02:02<1:29:28,  4.35s/it]"
     ]
    },
    {
     "name": "stdout",
     "output_type": "stream",
     "text": [
      "STOP CODE:  Stay unchanged in the last 6 iterations\n",
      "> SA ENDS....... \n",
      "\n",
      "> avg loss: 2.354049988291972\n",
      "> For the *42_th* data_key\n",
      "> retail = 1299.99,bidincrement = 0.01, bidfee = 0.75, infer PT's parameters\n",
      "> Now do SA....... \n",
      "\n"
     ]
    },
    {
     "name": "stderr",
     "output_type": "stream",
     "text": [
      "  3%|▎         | 43/1276 [03:04<7:20:10, 21.42s/it]"
     ]
    },
    {
     "name": "stdout",
     "output_type": "stream",
     "text": [
      "> 超时\n",
      "> SA ENDS....... \n",
      "\n",
      "> avg loss: 16.326666299549533\n",
      "> For the *43_th* data_key\n",
      "> retail = 399.99,bidincrement = 0.15, bidfee = 0.75, infer PT's parameters\n",
      "> Now do SA....... \n",
      "\n"
     ]
    },
    {
     "name": "stderr",
     "output_type": "stream",
     "text": [
      "  3%|▎         | 44/1276 [03:07<5:30:33, 16.10s/it]"
     ]
    },
    {
     "name": "stdout",
     "output_type": "stream",
     "text": [
      "STOP CODE:  Stay unchanged in the last 6 iterations\n",
      "> SA ENDS....... \n",
      "\n",
      "> avg loss: 2.8197425994608047\n",
      "> For the *44_th* data_key\n",
      "> retail = 399.99,bidincrement = 0.15, bidfee = 0.75, infer PT's parameters\n",
      "> Now do SA....... \n",
      "\n"
     ]
    },
    {
     "name": "stderr",
     "output_type": "stream",
     "text": [
      "  4%|▎         | 45/1276 [03:12<4:17:44, 12.56s/it]"
     ]
    },
    {
     "name": "stdout",
     "output_type": "stream",
     "text": [
      "STOP CODE:  Stay unchanged in the last 6 iterations\n",
      "> SA ENDS....... \n",
      "\n",
      "> avg loss: 2.9012906259406335\n",
      "> For the *45_th* data_key\n",
      "> retail = 1199.99,bidincrement = 0.01, bidfee = 0.75, infer PT's parameters\n",
      "> Now do SA....... \n",
      "\n"
     ]
    },
    {
     "name": "stderr",
     "output_type": "stream",
     "text": [
      "  4%|▎         | 46/1276 [04:13<9:16:29, 27.15s/it]"
     ]
    },
    {
     "name": "stdout",
     "output_type": "stream",
     "text": [
      "> 超时\n",
      "> SA ENDS....... \n",
      "\n",
      "> avg loss: 16.690794826211707\n",
      "> For the *46_th* data_key\n",
      "> retail = 249.99,bidincrement = 0.15, bidfee = 0.75, infer PT's parameters\n",
      "> Now do SA....... \n",
      "\n"
     ]
    },
    {
     "name": "stderr",
     "output_type": "stream",
     "text": [
      "  4%|▎         | 47/1276 [04:17<6:55:18, 20.28s/it]"
     ]
    },
    {
     "name": "stdout",
     "output_type": "stream",
     "text": [
      "STOP CODE:  Stay unchanged in the last 6 iterations\n",
      "> SA ENDS....... \n",
      "\n",
      "> avg loss: 2.8892514953494617\n",
      "> For the *47_th* data_key\n",
      "> retail = 49.99,bidincrement = 0.15, bidfee = 0.75, infer PT's parameters\n",
      "> Now do SA....... \n",
      "\n"
     ]
    },
    {
     "name": "stderr",
     "output_type": "stream",
     "text": [
      "  4%|▍         | 48/1276 [04:18<4:58:33, 14.59s/it]"
     ]
    },
    {
     "name": "stdout",
     "output_type": "stream",
     "text": [
      "STOP CODE:  Stay unchanged in the last 6 iterations\n",
      "> SA ENDS....... \n",
      "\n",
      "> avg loss: 1.8828821274896899\n",
      "> For the *48_th* data_key\n",
      "> retail = 65.0,bidincrement = 0.15, bidfee = 0.75, infer PT's parameters\n",
      "> Now do SA....... \n",
      "\n"
     ]
    },
    {
     "name": "stderr",
     "output_type": "stream",
     "text": [
      "  4%|▍         | 49/1276 [04:19<3:34:14, 10.48s/it]"
     ]
    },
    {
     "name": "stdout",
     "output_type": "stream",
     "text": [
      "STOP CODE:  Stay unchanged in the last 6 iterations\n",
      "> SA ENDS....... \n",
      "\n",
      "> avg loss: 4.424334119162573\n",
      "> For the *49_th* data_key\n",
      "> retail = 95.0,bidincrement = 0.15, bidfee = 0.75, infer PT's parameters\n",
      "> Now do SA....... \n",
      "\n"
     ]
    },
    {
     "name": "stderr",
     "output_type": "stream",
     "text": [
      "  4%|▍         | 50/1276 [04:21<2:37:42,  7.72s/it]"
     ]
    },
    {
     "name": "stdout",
     "output_type": "stream",
     "text": [
      "STOP CODE:  Stay unchanged in the last 6 iterations\n",
      "> SA ENDS....... \n",
      "\n",
      "> avg loss: 3.13713195707008\n",
      "> For the *50_th* data_key\n",
      "> retail = 69.99,bidincrement = 0.15, bidfee = 0.75, infer PT's parameters\n",
      "> Now do SA....... \n",
      "\n"
     ]
    },
    {
     "name": "stderr",
     "output_type": "stream",
     "text": [
      "  4%|▍         | 51/1276 [04:22<1:57:05,  5.73s/it]"
     ]
    },
    {
     "name": "stdout",
     "output_type": "stream",
     "text": [
      "STOP CODE:  Stay unchanged in the last 6 iterations\n",
      "> SA ENDS....... \n",
      "\n",
      "> avg loss: 3.1529595807787203\n",
      "> For the *51_th* data_key\n",
      "> retail = 349.99,bidincrement = 0.15, bidfee = 0.75, infer PT's parameters\n",
      "> Now do SA....... \n",
      "\n"
     ]
    },
    {
     "name": "stderr",
     "output_type": "stream",
     "text": [
      "  4%|▍         | 52/1276 [04:25<1:40:00,  4.90s/it]"
     ]
    },
    {
     "name": "stdout",
     "output_type": "stream",
     "text": [
      "STOP CODE:  Stay unchanged in the last 6 iterations\n",
      "> SA ENDS....... \n",
      "\n",
      "> avg loss: 3.177544067316629\n",
      "> For the *52_th* data_key\n",
      "> retail = 189.99,bidincrement = 0.15, bidfee = 0.75, infer PT's parameters\n",
      "> Now do SA....... \n",
      "\n"
     ]
    },
    {
     "name": "stderr",
     "output_type": "stream",
     "text": [
      "  4%|▍         | 53/1276 [04:26<1:18:27,  3.85s/it]"
     ]
    },
    {
     "name": "stdout",
     "output_type": "stream",
     "text": [
      "STOP CODE:  Stay unchanged in the last 6 iterations\n",
      "> SA ENDS....... \n",
      "\n",
      "> avg loss: 4.001432614703088\n",
      "> For the *53_th* data_key\n",
      "> retail = 99.99,bidincrement = 0.15, bidfee = 0.75, infer PT's parameters\n",
      "> Now do SA....... \n",
      "\n"
     ]
    },
    {
     "name": "stderr",
     "output_type": "stream",
     "text": [
      "  4%|▍         | 54/1276 [04:27<1:02:19,  3.06s/it]"
     ]
    },
    {
     "name": "stdout",
     "output_type": "stream",
     "text": [
      "STOP CODE:  Stay unchanged in the last 6 iterations\n",
      "> SA ENDS....... \n",
      "\n",
      "> avg loss: 3.560352183380623\n",
      "> For the *54_th* data_key\n",
      "> retail = 139.99,bidincrement = 0.15, bidfee = 0.75, infer PT's parameters\n",
      "> Now do SA....... \n",
      "\n"
     ]
    },
    {
     "name": "stderr",
     "output_type": "stream",
     "text": [
      "  4%|▍         | 55/1276 [04:29<51:18,  2.52s/it]  "
     ]
    },
    {
     "name": "stdout",
     "output_type": "stream",
     "text": [
      "STOP CODE:  Stay unchanged in the last 6 iterations\n",
      "> SA ENDS....... \n",
      "\n",
      "> avg loss: 3.936285152810948\n",
      "> For the *55_th* data_key\n",
      "> retail = 169.99,bidincrement = 0.15, bidfee = 0.75, infer PT's parameters\n",
      "> Now do SA....... \n",
      "\n"
     ]
    },
    {
     "name": "stderr",
     "output_type": "stream",
     "text": [
      "  4%|▍         | 56/1276 [04:30<46:18,  2.28s/it]"
     ]
    },
    {
     "name": "stdout",
     "output_type": "stream",
     "text": [
      "STOP CODE:  Stay unchanged in the last 6 iterations\n",
      "> SA ENDS....... \n",
      "\n",
      "> avg loss: 4.032707768974395\n",
      "> For the *56_th* data_key\n",
      "> retail = 99.99,bidincrement = 0.15, bidfee = 0.75, infer PT's parameters\n",
      "> Now do SA....... \n",
      "\n"
     ]
    },
    {
     "name": "stderr",
     "output_type": "stream",
     "text": [
      "  4%|▍         | 57/1276 [04:31<38:04,  1.87s/it]"
     ]
    },
    {
     "name": "stdout",
     "output_type": "stream",
     "text": [
      "STOP CODE:  Stay unchanged in the last 6 iterations\n",
      "> SA ENDS....... \n",
      "\n",
      "> avg loss: 2.645813877663797\n",
      "> For the *57_th* data_key\n",
      "> retail = 289.99,bidincrement = 0.15, bidfee = 0.75, infer PT's parameters\n",
      "> Now do SA....... \n",
      "\n"
     ]
    },
    {
     "name": "stderr",
     "output_type": "stream",
     "text": [
      "  5%|▍         | 58/1276 [04:34<42:35,  2.10s/it]"
     ]
    },
    {
     "name": "stdout",
     "output_type": "stream",
     "text": [
      "STOP CODE:  Stay unchanged in the last 6 iterations\n",
      "> SA ENDS....... \n",
      "\n",
      "> avg loss: 3.4037467971179747\n",
      "> For the *58_th* data_key\n",
      "> retail = 89.99,bidincrement = 0.15, bidfee = 0.75, infer PT's parameters\n",
      "> Now do SA....... \n",
      "\n"
     ]
    },
    {
     "name": "stderr",
     "output_type": "stream",
     "text": [
      "  5%|▍         | 59/1276 [04:36<41:30,  2.05s/it]"
     ]
    },
    {
     "name": "stdout",
     "output_type": "stream",
     "text": [
      "STOP CODE:  Stay unchanged in the last 6 iterations\n",
      "> SA ENDS....... \n",
      "\n",
      "> avg loss: 3.526717435607464\n",
      "> For the *59_th* data_key\n",
      "> retail = 79.99,bidincrement = 0.15, bidfee = 0.75, infer PT's parameters\n",
      "> Now do SA....... \n",
      "\n"
     ]
    },
    {
     "name": "stderr",
     "output_type": "stream",
     "text": [
      "  5%|▍         | 60/1276 [04:38<43:08,  2.13s/it]"
     ]
    },
    {
     "name": "stdout",
     "output_type": "stream",
     "text": [
      "STOP CODE:  Stay unchanged in the last 6 iterations\n",
      "> SA ENDS....... \n",
      "\n",
      "> avg loss: 2.6035704055446116\n",
      "> For the *60_th* data_key\n",
      "> retail = 69.99,bidincrement = 0.15, bidfee = 0.75, infer PT's parameters\n",
      "> Now do SA....... \n",
      "\n"
     ]
    },
    {
     "name": "stderr",
     "output_type": "stream",
     "text": [
      "  5%|▍         | 61/1276 [04:40<40:42,  2.01s/it]"
     ]
    },
    {
     "name": "stdout",
     "output_type": "stream",
     "text": [
      "STOP CODE:  Stay unchanged in the last 6 iterations\n",
      "> SA ENDS....... \n",
      "\n",
      "> avg loss: 2.9848722799716345\n",
      "> For the *61_th* data_key\n",
      "> retail = 89.99,bidincrement = 0.15, bidfee = 0.75, infer PT's parameters\n",
      "> Now do SA....... \n",
      "\n"
     ]
    },
    {
     "name": "stderr",
     "output_type": "stream",
     "text": [
      "  5%|▍         | 62/1276 [04:42<42:18,  2.09s/it]"
     ]
    },
    {
     "name": "stdout",
     "output_type": "stream",
     "text": [
      "STOP CODE:  Stay unchanged in the last 6 iterations\n",
      "> SA ENDS....... \n",
      "\n",
      "> avg loss: 3.0362772787550036\n",
      "> For the *62_th* data_key\n",
      "> retail = 69.95,bidincrement = 0.15, bidfee = 0.75, infer PT's parameters\n",
      "> Now do SA....... \n",
      "\n"
     ]
    },
    {
     "name": "stderr",
     "output_type": "stream",
     "text": [
      "  5%|▍         | 63/1276 [04:43<34:38,  1.71s/it]"
     ]
    },
    {
     "name": "stdout",
     "output_type": "stream",
     "text": [
      "STOP CODE:  Stay unchanged in the last 6 iterations\n",
      "> SA ENDS....... \n",
      "\n",
      "> avg loss: 3.828030461852388\n",
      "> For the *63_th* data_key\n",
      "> retail = 279.99,bidincrement = 0.15, bidfee = 0.75, infer PT's parameters\n",
      "> Now do SA....... \n",
      "\n"
     ]
    },
    {
     "name": "stderr",
     "output_type": "stream",
     "text": [
      "  5%|▌         | 64/1276 [04:46<44:12,  2.19s/it]"
     ]
    },
    {
     "name": "stdout",
     "output_type": "stream",
     "text": [
      "STOP CODE:  Stay unchanged in the last 6 iterations\n",
      "> SA ENDS....... \n",
      "\n",
      "> avg loss: 2.862469212774627\n",
      "> For the *64_th* data_key\n",
      "> retail = 99.99,bidincrement = 0.15, bidfee = 0.75, infer PT's parameters\n",
      "> Now do SA....... \n",
      "\n"
     ]
    },
    {
     "name": "stderr",
     "output_type": "stream",
     "text": [
      "  5%|▌         | 65/1276 [04:48<40:34,  2.01s/it]"
     ]
    },
    {
     "name": "stdout",
     "output_type": "stream",
     "text": [
      "STOP CODE:  Stay unchanged in the last 6 iterations\n",
      "> SA ENDS....... \n",
      "\n",
      "> avg loss: 2.937257391645191\n",
      "> For the *65_th* data_key\n",
      "> retail = 1399.99,bidincrement = 0.0, bidfee = 0.75, infer PT's parameters\n",
      "> Now do SA....... \n",
      "\n"
     ]
    },
    {
     "name": "stderr",
     "output_type": "stream",
     "text": [
      "  5%|▌         | 66/1276 [04:52<51:21,  2.55s/it]"
     ]
    },
    {
     "name": "stdout",
     "output_type": "stream",
     "text": [
      "STOP CODE:  Stay unchanged in the last 6 iterations\n",
      "> SA ENDS....... \n",
      "\n",
      "> avg loss: 2.0182682121492608\n",
      "> For the *66_th* data_key\n",
      "> retail = 79.95,bidincrement = 0.15, bidfee = 0.75, infer PT's parameters\n",
      "> Now do SA....... \n",
      "\n"
     ]
    },
    {
     "name": "stderr",
     "output_type": "stream",
     "text": [
      "  5%|▌         | 67/1276 [04:53<46:41,  2.32s/it]"
     ]
    },
    {
     "name": "stdout",
     "output_type": "stream",
     "text": [
      "STOP CODE:  Stay unchanged in the last 6 iterations\n",
      "> SA ENDS....... \n",
      "\n",
      "> avg loss: 2.8232856682266902\n",
      "> For the *67_th* data_key\n",
      "> retail = 94.99,bidincrement = 0.15, bidfee = 0.75, infer PT's parameters\n",
      "> Now do SA....... \n",
      "\n"
     ]
    },
    {
     "name": "stderr",
     "output_type": "stream",
     "text": [
      "  5%|▌         | 68/1276 [04:55<40:04,  1.99s/it]"
     ]
    },
    {
     "name": "stdout",
     "output_type": "stream",
     "text": [
      "STOP CODE:  Stay unchanged in the last 6 iterations\n",
      "> SA ENDS....... \n",
      "\n",
      "> avg loss: 3.074930636213388\n",
      "> For the *68_th* data_key\n",
      "> retail = 59.99,bidincrement = 0.15, bidfee = 0.75, infer PT's parameters\n",
      "> Now do SA....... \n",
      "\n"
     ]
    },
    {
     "name": "stderr",
     "output_type": "stream",
     "text": [
      "  5%|▌         | 69/1276 [04:56<34:02,  1.69s/it]"
     ]
    },
    {
     "name": "stdout",
     "output_type": "stream",
     "text": [
      "STOP CODE:  Stay unchanged in the last 6 iterations\n",
      "> SA ENDS....... \n",
      "\n",
      "> avg loss: 3.408767756410412\n",
      "> For the *69_th* data_key\n",
      "> retail = 829.99,bidincrement = 0.15, bidfee = 0.75, infer PT's parameters\n",
      "> Now do SA....... \n",
      "\n"
     ]
    },
    {
     "name": "stderr",
     "output_type": "stream",
     "text": [
      "  5%|▌         | 70/1276 [05:13<2:10:50,  6.51s/it]"
     ]
    },
    {
     "name": "stdout",
     "output_type": "stream",
     "text": [
      "STOP CODE:  Stay unchanged in the last 6 iterations\n",
      "> SA ENDS....... \n",
      "\n",
      "> avg loss: 2.184243564769814\n",
      "> For the *70_th* data_key\n",
      "> retail = 169.99,bidincrement = 0.15, bidfee = 0.75, infer PT's parameters\n",
      "> Now do SA....... \n",
      "\n"
     ]
    },
    {
     "name": "stderr",
     "output_type": "stream",
     "text": [
      "  6%|▌         | 71/1276 [05:15<1:41:14,  5.04s/it]"
     ]
    },
    {
     "name": "stdout",
     "output_type": "stream",
     "text": [
      "STOP CODE:  Stay unchanged in the last 6 iterations\n",
      "> SA ENDS....... \n",
      "\n",
      "> avg loss: 2.0395677672351447\n",
      "> For the *71_th* data_key\n",
      "> retail = 59.99,bidincrement = 0.15, bidfee = 0.75, infer PT's parameters\n",
      "> Now do SA....... \n",
      "\n"
     ]
    },
    {
     "name": "stderr",
     "output_type": "stream",
     "text": [
      "  6%|▌         | 72/1276 [05:16<1:16:24,  3.81s/it]"
     ]
    },
    {
     "name": "stdout",
     "output_type": "stream",
     "text": [
      "STOP CODE:  Stay unchanged in the last 6 iterations\n",
      "> SA ENDS....... \n",
      "\n",
      "> avg loss: 2.595095085105016\n",
      "> For the *72_th* data_key\n",
      "> retail = 59.99,bidincrement = 0.15, bidfee = 0.75, infer PT's parameters\n",
      "> Now do SA....... \n",
      "\n"
     ]
    },
    {
     "name": "stderr",
     "output_type": "stream",
     "text": [
      "  6%|▌         | 73/1276 [05:17<58:55,  2.94s/it]  "
     ]
    },
    {
     "name": "stdout",
     "output_type": "stream",
     "text": [
      "STOP CODE:  Stay unchanged in the last 6 iterations\n",
      "> SA ENDS....... \n",
      "\n",
      "> avg loss: 2.456542408914029\n",
      "> For the *73_th* data_key\n",
      "> retail = 29.99,bidincrement = 0.15, bidfee = 0.75, infer PT's parameters\n",
      "> Now do SA....... \n",
      "\n"
     ]
    },
    {
     "name": "stderr",
     "output_type": "stream",
     "text": [
      "  6%|▌         | 74/1276 [05:18<45:56,  2.29s/it]"
     ]
    },
    {
     "name": "stdout",
     "output_type": "stream",
     "text": [
      "STOP CODE:  Stay unchanged in the last 6 iterations\n",
      "> SA ENDS....... \n",
      "\n",
      "> avg loss: 2.0105794645794255\n",
      "> For the *74_th* data_key\n",
      "> retail = 49.99,bidincrement = 0.15, bidfee = 0.75, infer PT's parameters\n",
      "> Now do SA....... \n",
      "\n"
     ]
    },
    {
     "name": "stderr",
     "output_type": "stream",
     "text": [
      "  6%|▌         | 75/1276 [05:19<38:36,  1.93s/it]"
     ]
    },
    {
     "name": "stdout",
     "output_type": "stream",
     "text": [
      "STOP CODE:  Stay unchanged in the last 6 iterations\n",
      "> SA ENDS....... \n",
      "\n",
      "> avg loss: 2.3524414139534637\n",
      "> For the *75_th* data_key\n",
      "> retail = 59.99,bidincrement = 0.15, bidfee = 0.75, infer PT's parameters\n",
      "> Now do SA....... \n",
      "\n"
     ]
    },
    {
     "name": "stderr",
     "output_type": "stream",
     "text": [
      "  6%|▌         | 76/1276 [05:20<32:11,  1.61s/it]"
     ]
    },
    {
     "name": "stdout",
     "output_type": "stream",
     "text": [
      "STOP CODE:  Stay unchanged in the last 6 iterations\n",
      "> SA ENDS....... \n",
      "\n",
      "> avg loss: 2.776821883044346\n",
      "> For the *76_th* data_key\n",
      "> retail = 49.99,bidincrement = 0.15, bidfee = 0.75, infer PT's parameters\n",
      "> Now do SA....... \n",
      "\n"
     ]
    },
    {
     "name": "stderr",
     "output_type": "stream",
     "text": [
      "  6%|▌         | 77/1276 [05:21<28:36,  1.43s/it]"
     ]
    },
    {
     "name": "stdout",
     "output_type": "stream",
     "text": [
      "STOP CODE:  Stay unchanged in the last 6 iterations\n",
      "> SA ENDS....... \n",
      "\n",
      "> avg loss: 2.2637621012139317\n",
      "> For the *77_th* data_key\n",
      "> retail = 39.99,bidincrement = 0.15, bidfee = 0.75, infer PT's parameters\n",
      "> Now do SA....... \n",
      "\n"
     ]
    },
    {
     "name": "stderr",
     "output_type": "stream",
     "text": [
      "  6%|▌         | 78/1276 [05:21<23:57,  1.20s/it]"
     ]
    },
    {
     "name": "stdout",
     "output_type": "stream",
     "text": [
      "STOP CODE:  Stay unchanged in the last 6 iterations\n",
      "> SA ENDS....... \n",
      "\n",
      "> avg loss: 2.48065665805095\n",
      "> For the *78_th* data_key\n",
      "> retail = 34.99,bidincrement = 0.15, bidfee = 0.75, infer PT's parameters\n",
      "> Now do SA....... \n",
      "\n"
     ]
    },
    {
     "name": "stderr",
     "output_type": "stream",
     "text": [
      "  6%|▌         | 79/1276 [05:22<20:22,  1.02s/it]"
     ]
    },
    {
     "name": "stdout",
     "output_type": "stream",
     "text": [
      "STOP CODE:  Stay unchanged in the last 6 iterations\n",
      "> SA ENDS....... \n",
      "\n",
      "> avg loss: 2.4530291868544523\n",
      "> For the *79_th* data_key\n",
      "> retail = 59.99,bidincrement = 0.15, bidfee = 0.75, infer PT's parameters\n",
      "> Now do SA....... \n",
      "\n"
     ]
    },
    {
     "name": "stderr",
     "output_type": "stream",
     "text": [
      "  6%|▋         | 80/1276 [05:23<23:39,  1.19s/it]"
     ]
    },
    {
     "name": "stdout",
     "output_type": "stream",
     "text": [
      "STOP CODE:  Stay unchanged in the last 6 iterations\n",
      "> SA ENDS....... \n",
      "\n",
      "> avg loss: 2.6088293389770585\n",
      "> For the *80_th* data_key\n",
      "> retail = 34.99,bidincrement = 0.15, bidfee = 0.75, infer PT's parameters\n",
      "> Now do SA....... \n",
      "\n"
     ]
    },
    {
     "name": "stderr",
     "output_type": "stream",
     "text": [
      "  6%|▋         | 81/1276 [05:24<20:58,  1.05s/it]"
     ]
    },
    {
     "name": "stdout",
     "output_type": "stream",
     "text": [
      "STOP CODE:  Stay unchanged in the last 6 iterations\n",
      "> SA ENDS....... \n",
      "\n",
      "> avg loss: 2.4696407126746944\n",
      "> For the *81_th* data_key\n",
      "> retail = 49.99,bidincrement = 0.15, bidfee = 0.75, infer PT's parameters\n",
      "> Now do SA....... \n",
      "\n"
     ]
    },
    {
     "name": "stderr",
     "output_type": "stream",
     "text": [
      "  6%|▋         | 82/1276 [05:25<21:26,  1.08s/it]"
     ]
    },
    {
     "name": "stdout",
     "output_type": "stream",
     "text": [
      "STOP CODE:  Stay unchanged in the last 6 iterations\n",
      "> SA ENDS....... \n",
      "\n",
      "> avg loss: 1.769894064106263\n",
      "> For the *82_th* data_key\n",
      "> retail = 29.99,bidincrement = 0.15, bidfee = 0.75, infer PT's parameters\n",
      "> Now do SA....... \n",
      "\n"
     ]
    },
    {
     "name": "stderr",
     "output_type": "stream",
     "text": [
      "  7%|▋         | 83/1276 [05:26<21:35,  1.09s/it]"
     ]
    },
    {
     "name": "stdout",
     "output_type": "stream",
     "text": [
      "STOP CODE:  Stay unchanged in the last 6 iterations\n",
      "> SA ENDS....... \n",
      "\n",
      "> avg loss: 1.9292807412481243\n",
      "> For the *83_th* data_key\n",
      "> retail = 59.99,bidincrement = 0.15, bidfee = 0.75, infer PT's parameters\n",
      "> Now do SA....... \n",
      "\n"
     ]
    },
    {
     "name": "stderr",
     "output_type": "stream",
     "text": [
      "  7%|▋         | 84/1276 [05:27<20:57,  1.06s/it]"
     ]
    },
    {
     "name": "stdout",
     "output_type": "stream",
     "text": [
      "STOP CODE:  Stay unchanged in the last 6 iterations\n",
      "> SA ENDS....... \n",
      "\n",
      "> avg loss: 2.3319771608966344\n",
      "> For the *84_th* data_key\n",
      "> retail = 59.99,bidincrement = 0.15, bidfee = 0.75, infer PT's parameters\n",
      "> Now do SA....... \n",
      "\n"
     ]
    },
    {
     "name": "stderr",
     "output_type": "stream",
     "text": [
      "  7%|▋         | 85/1276 [05:29<21:42,  1.09s/it]"
     ]
    },
    {
     "name": "stdout",
     "output_type": "stream",
     "text": [
      "STOP CODE:  Stay unchanged in the last 6 iterations\n",
      "> SA ENDS....... \n",
      "\n",
      "> avg loss: 2.7978445517367185\n",
      "> For the *85_th* data_key\n",
      "> retail = 29.99,bidincrement = 0.15, bidfee = 0.75, infer PT's parameters\n",
      "> Now do SA....... \n",
      "\n"
     ]
    },
    {
     "name": "stderr",
     "output_type": "stream",
     "text": [
      "  7%|▋         | 86/1276 [05:29<20:11,  1.02s/it]"
     ]
    },
    {
     "name": "stdout",
     "output_type": "stream",
     "text": [
      "STOP CODE:  Stay unchanged in the last 6 iterations\n",
      "> SA ENDS....... \n",
      "\n",
      "> avg loss: 2.0458258881486255\n",
      "> For the *86_th* data_key\n",
      "> retail = 39.98,bidincrement = 0.15, bidfee = 0.75, infer PT's parameters\n",
      "> Now do SA....... \n",
      "\n"
     ]
    },
    {
     "name": "stderr",
     "output_type": "stream",
     "text": [
      "  7%|▋         | 87/1276 [05:30<18:20,  1.08it/s]"
     ]
    },
    {
     "name": "stdout",
     "output_type": "stream",
     "text": [
      "STOP CODE:  Stay unchanged in the last 6 iterations\n",
      "> SA ENDS....... \n",
      "\n",
      "> avg loss: 2.7090536336145887\n",
      "> For the *87_th* data_key\n",
      "> retail = 34.99,bidincrement = 0.15, bidfee = 0.75, infer PT's parameters\n",
      "> Now do SA....... \n",
      "\n"
     ]
    },
    {
     "name": "stderr",
     "output_type": "stream",
     "text": [
      "  7%|▋         | 88/1276 [05:33<30:22,  1.53s/it]"
     ]
    },
    {
     "name": "stdout",
     "output_type": "stream",
     "text": [
      "STOP CODE:  Stay unchanged in the last 6 iterations\n",
      "> SA ENDS....... \n",
      "\n",
      "> avg loss: 2.6706898661130647\n",
      "> For the *88_th* data_key\n",
      "> retail = 39.98,bidincrement = 0.15, bidfee = 0.75, infer PT's parameters\n",
      "> Now do SA....... \n",
      "\n"
     ]
    },
    {
     "name": "stderr",
     "output_type": "stream",
     "text": [
      "  7%|▋         | 89/1276 [05:34<28:52,  1.46s/it]"
     ]
    },
    {
     "name": "stdout",
     "output_type": "stream",
     "text": [
      "STOP CODE:  Stay unchanged in the last 6 iterations\n",
      "> SA ENDS....... \n",
      "\n",
      "> avg loss: 2.543079728044803\n",
      "> For the *89_th* data_key\n",
      "> retail = 39.99,bidincrement = 0.15, bidfee = 0.75, infer PT's parameters\n",
      "> Now do SA....... \n",
      "\n"
     ]
    },
    {
     "name": "stderr",
     "output_type": "stream",
     "text": [
      "  7%|▋         | 90/1276 [05:35<23:45,  1.20s/it]"
     ]
    },
    {
     "name": "stdout",
     "output_type": "stream",
     "text": [
      "STOP CODE:  Stay unchanged in the last 6 iterations\n",
      "> SA ENDS....... \n",
      "\n",
      "> avg loss: 1.9090467543258882\n",
      "> For the *90_th* data_key\n",
      "> retail = 49.99,bidincrement = 0.15, bidfee = 0.75, infer PT's parameters\n",
      "> Now do SA....... \n",
      "\n"
     ]
    },
    {
     "name": "stderr",
     "output_type": "stream",
     "text": [
      "  7%|▋         | 91/1276 [05:37<31:21,  1.59s/it]"
     ]
    },
    {
     "name": "stdout",
     "output_type": "stream",
     "text": [
      "STOP CODE:  Stay unchanged in the last 6 iterations\n",
      "> SA ENDS....... \n",
      "\n",
      "> avg loss: 1.9860564654083428\n",
      "> For the *91_th* data_key\n",
      "> retail = 19.99,bidincrement = 0.15, bidfee = 0.75, infer PT's parameters\n",
      "> Now do SA....... \n",
      "\n"
     ]
    },
    {
     "name": "stderr",
     "output_type": "stream",
     "text": [
      "  7%|▋         | 92/1276 [05:38<25:38,  1.30s/it]"
     ]
    },
    {
     "name": "stdout",
     "output_type": "stream",
     "text": [
      "STOP CODE:  Stay unchanged in the last 6 iterations\n",
      "> SA ENDS....... \n",
      "\n",
      "> avg loss: 1.5248101825782348\n",
      "> For the *92_th* data_key\n",
      "> retail = 49.99,bidincrement = 0.15, bidfee = 0.75, infer PT's parameters\n",
      "> Now do SA....... \n",
      "\n"
     ]
    },
    {
     "name": "stderr",
     "output_type": "stream",
     "text": [
      "  7%|▋         | 93/1276 [05:39<24:42,  1.25s/it]"
     ]
    },
    {
     "name": "stdout",
     "output_type": "stream",
     "text": [
      "STOP CODE:  Stay unchanged in the last 6 iterations\n",
      "> SA ENDS....... \n",
      "\n",
      "> avg loss: 1.997288173724608\n",
      "> For the *93_th* data_key\n",
      "> retail = 59.99,bidincrement = 0.15, bidfee = 0.75, infer PT's parameters\n",
      "> Now do SA....... \n",
      "\n"
     ]
    },
    {
     "name": "stderr",
     "output_type": "stream",
     "text": [
      "  7%|▋         | 94/1276 [05:41<27:46,  1.41s/it]"
     ]
    },
    {
     "name": "stdout",
     "output_type": "stream",
     "text": [
      "STOP CODE:  Stay unchanged in the last 6 iterations\n",
      "> SA ENDS....... \n",
      "\n",
      "> avg loss: 2.79842040900621\n",
      "> For the *94_th* data_key\n",
      "> retail = 35.99,bidincrement = 0.15, bidfee = 0.75, infer PT's parameters\n",
      "> Now do SA....... \n",
      "\n"
     ]
    },
    {
     "name": "stderr",
     "output_type": "stream",
     "text": [
      "  7%|▋         | 95/1276 [05:42<27:00,  1.37s/it]"
     ]
    },
    {
     "name": "stdout",
     "output_type": "stream",
     "text": [
      "STOP CODE:  Stay unchanged in the last 6 iterations\n",
      "> SA ENDS....... \n",
      "\n",
      "> avg loss: 2.6136037590704566\n",
      "> For the *95_th* data_key\n",
      "> retail = 39.98,bidincrement = 0.15, bidfee = 0.75, infer PT's parameters\n",
      "> Now do SA....... \n",
      "\n"
     ]
    },
    {
     "name": "stderr",
     "output_type": "stream",
     "text": [
      "  8%|▊         | 96/1276 [05:43<22:14,  1.13s/it]"
     ]
    },
    {
     "name": "stdout",
     "output_type": "stream",
     "text": [
      "STOP CODE:  Stay unchanged in the last 6 iterations\n",
      "> SA ENDS....... \n",
      "\n",
      "> avg loss: 2.3943529894454962\n",
      "> For the *96_th* data_key\n",
      "> retail = 44.99,bidincrement = 0.15, bidfee = 0.75, infer PT's parameters\n",
      "> Now do SA....... \n",
      "\n"
     ]
    },
    {
     "name": "stderr",
     "output_type": "stream",
     "text": [
      "  8%|▊         | 97/1276 [05:44<20:07,  1.02s/it]"
     ]
    },
    {
     "name": "stdout",
     "output_type": "stream",
     "text": [
      "STOP CODE:  Stay unchanged in the last 6 iterations\n",
      "> SA ENDS....... \n",
      "\n",
      "> avg loss: 2.2635700231679725\n",
      "> For the *97_th* data_key\n",
      "> retail = 19.99,bidincrement = 0.15, bidfee = 0.75, infer PT's parameters\n",
      "> Now do SA....... \n",
      "\n"
     ]
    },
    {
     "name": "stderr",
     "output_type": "stream",
     "text": [
      "  8%|▊         | 98/1276 [05:46<26:30,  1.35s/it]"
     ]
    },
    {
     "name": "stdout",
     "output_type": "stream",
     "text": [
      "STOP CODE:  Stay unchanged in the last 6 iterations\n",
      "> SA ENDS....... \n",
      "\n",
      "> avg loss: 1.9070061479170255\n",
      "> For the *98_th* data_key\n",
      "> retail = 65.0,bidincrement = 0.15, bidfee = 0.75, infer PT's parameters\n",
      "> Now do SA....... \n",
      "\n"
     ]
    },
    {
     "name": "stderr",
     "output_type": "stream",
     "text": [
      "  8%|▊         | 99/1276 [05:47<26:34,  1.35s/it]"
     ]
    },
    {
     "name": "stdout",
     "output_type": "stream",
     "text": [
      "STOP CODE:  Stay unchanged in the last 6 iterations\n",
      "> SA ENDS....... \n",
      "\n",
      "> avg loss: 4.066590647452554\n",
      "> For the *99_th* data_key\n",
      "> retail = 46.08,bidincrement = 0.15, bidfee = 0.75, infer PT's parameters\n",
      "> Now do SA....... \n",
      "\n"
     ]
    },
    {
     "name": "stderr",
     "output_type": "stream",
     "text": [
      "  8%|▊         | 100/1276 [05:48<22:27,  1.15s/it]"
     ]
    },
    {
     "name": "stdout",
     "output_type": "stream",
     "text": [
      "STOP CODE:  Stay unchanged in the last 6 iterations\n",
      "> SA ENDS....... \n",
      "\n",
      "> avg loss: 2.843763306245336\n",
      "> For the *100_th* data_key\n",
      "> retail = 49.99,bidincrement = 0.15, bidfee = 0.75, infer PT's parameters\n",
      "> Now do SA....... \n",
      "\n"
     ]
    },
    {
     "name": "stderr",
     "output_type": "stream",
     "text": [
      "  8%|▊         | 101/1276 [05:49<25:41,  1.31s/it]"
     ]
    },
    {
     "name": "stdout",
     "output_type": "stream",
     "text": [
      "STOP CODE:  Stay unchanged in the last 6 iterations\n",
      "> SA ENDS....... \n",
      "\n",
      "> avg loss: 3.0457476339988667\n",
      "> For the *101_th* data_key\n",
      "> retail = 79.95,bidincrement = 0.15, bidfee = 0.75, infer PT's parameters\n",
      "> Now do SA....... \n",
      "\n"
     ]
    },
    {
     "name": "stderr",
     "output_type": "stream",
     "text": [
      "  8%|▊         | 102/1276 [05:51<25:13,  1.29s/it]"
     ]
    },
    {
     "name": "stdout",
     "output_type": "stream",
     "text": [
      "STOP CODE:  Stay unchanged in the last 6 iterations\n",
      "> SA ENDS....... \n",
      "\n",
      "> avg loss: 3.0826444716614447\n",
      "> For the *102_th* data_key\n",
      "> retail = 89.95,bidincrement = 0.15, bidfee = 0.75, infer PT's parameters\n",
      "> Now do SA....... \n",
      "\n"
     ]
    },
    {
     "name": "stderr",
     "output_type": "stream",
     "text": [
      "  8%|▊         | 103/1276 [05:52<25:13,  1.29s/it]"
     ]
    },
    {
     "name": "stdout",
     "output_type": "stream",
     "text": [
      "STOP CODE:  Stay unchanged in the last 6 iterations\n",
      "> SA ENDS....... \n",
      "\n",
      "> avg loss: 3.3014369671359933\n",
      "> For the *103_th* data_key\n",
      "> retail = 569.0,bidincrement = 0.01, bidfee = 0.75, infer PT's parameters\n",
      "> Now do SA....... \n",
      "\n"
     ]
    },
    {
     "name": "stderr",
     "output_type": "stream",
     "text": [
      "  8%|▊         | 104/1276 [06:53<6:12:45, 19.08s/it]"
     ]
    },
    {
     "name": "stdout",
     "output_type": "stream",
     "text": [
      "> 超时\n",
      "> SA ENDS....... \n",
      "\n",
      "> avg loss: 12.967501975041037\n",
      "> For the *104_th* data_key\n",
      "> retail = 99.99,bidincrement = 0.15, bidfee = 0.75, infer PT's parameters\n",
      "> Now do SA....... \n",
      "\n"
     ]
    },
    {
     "name": "stderr",
     "output_type": "stream",
     "text": [
      "  8%|▊         | 105/1276 [06:57<4:43:45, 14.54s/it]"
     ]
    },
    {
     "name": "stdout",
     "output_type": "stream",
     "text": [
      "STOP CODE:  Stay unchanged in the last 6 iterations\n",
      "> SA ENDS....... \n",
      "\n",
      "> avg loss: 3.0157639218635706\n",
      "> For the *105_th* data_key\n",
      "> retail = 99.95,bidincrement = 0.15, bidfee = 0.75, infer PT's parameters\n",
      "> Now do SA....... \n",
      "\n"
     ]
    },
    {
     "name": "stderr",
     "output_type": "stream",
     "text": [
      "  8%|▊         | 106/1276 [06:58<3:25:23, 10.53s/it]"
     ]
    },
    {
     "name": "stdout",
     "output_type": "stream",
     "text": [
      "STOP CODE:  Stay unchanged in the last 6 iterations\n",
      "> SA ENDS....... \n",
      "\n",
      "> avg loss: 3.164738188095587\n",
      "> For the *106_th* data_key\n",
      "> retail = 58.0,bidincrement = 0.15, bidfee = 0.75, infer PT's parameters\n",
      "> Now do SA....... \n",
      "\n"
     ]
    },
    {
     "name": "stderr",
     "output_type": "stream",
     "text": [
      "  8%|▊         | 107/1276 [06:59<2:29:56,  7.70s/it]"
     ]
    },
    {
     "name": "stdout",
     "output_type": "stream",
     "text": [
      "STOP CODE:  Stay unchanged in the last 6 iterations\n",
      "> SA ENDS....... \n",
      "\n",
      "> avg loss: 3.15711794982815\n",
      "> For the *107_th* data_key\n",
      "> retail = 29.99,bidincrement = 0.15, bidfee = 0.75, infer PT's parameters\n",
      "> Now do SA....... \n",
      "\n"
     ]
    },
    {
     "name": "stderr",
     "output_type": "stream",
     "text": [
      "  8%|▊         | 108/1276 [06:59<1:48:12,  5.56s/it]"
     ]
    },
    {
     "name": "stdout",
     "output_type": "stream",
     "text": [
      "STOP CODE:  Stay unchanged in the last 6 iterations\n",
      "> SA ENDS....... \n",
      "\n",
      "> avg loss: 2.7444690963277214\n",
      "> For the *108_th* data_key\n",
      "> retail = 29.99,bidincrement = 0.15, bidfee = 0.75, infer PT's parameters\n",
      "> Now do SA....... \n",
      "\n"
     ]
    },
    {
     "name": "stderr",
     "output_type": "stream",
     "text": [
      "  9%|▊         | 109/1276 [07:01<1:25:19,  4.39s/it]"
     ]
    },
    {
     "name": "stdout",
     "output_type": "stream",
     "text": [
      "STOP CODE:  Stay unchanged in the last 6 iterations\n",
      "> SA ENDS....... \n",
      "\n",
      "> avg loss: 2.2114342653502876\n",
      "> For the *109_th* data_key\n",
      "> retail = 19.99,bidincrement = 0.15, bidfee = 0.75, infer PT's parameters\n",
      "> Now do SA....... \n",
      "\n"
     ]
    },
    {
     "name": "stderr",
     "output_type": "stream",
     "text": [
      "  9%|▊         | 110/1276 [07:02<1:04:46,  3.33s/it]"
     ]
    },
    {
     "name": "stdout",
     "output_type": "stream",
     "text": [
      "STOP CODE:  Stay unchanged in the last 6 iterations\n",
      "> SA ENDS....... \n",
      "\n",
      "> avg loss: 1.823185149975794\n",
      "> For the *110_th* data_key\n",
      "> retail = 229.0,bidincrement = 0.15, bidfee = 0.75, infer PT's parameters\n",
      "> Now do SA....... \n",
      "\n"
     ]
    },
    {
     "name": "stderr",
     "output_type": "stream",
     "text": [
      "  9%|▊         | 111/1276 [07:04<56:33,  2.91s/it]  "
     ]
    },
    {
     "name": "stdout",
     "output_type": "stream",
     "text": [
      "STOP CODE:  Stay unchanged in the last 6 iterations\n",
      "> SA ENDS....... \n",
      "\n",
      "> avg loss: 2.8287726391570724\n",
      "> For the *111_th* data_key\n",
      "> retail = 37.99,bidincrement = 0.15, bidfee = 0.75, infer PT's parameters\n",
      "> Now do SA....... \n",
      "\n"
     ]
    },
    {
     "name": "stderr",
     "output_type": "stream",
     "text": [
      "  9%|▉         | 112/1276 [07:04<42:48,  2.21s/it]"
     ]
    },
    {
     "name": "stdout",
     "output_type": "stream",
     "text": [
      "STOP CODE:  Stay unchanged in the last 6 iterations\n",
      "> SA ENDS....... \n",
      "\n",
      "> avg loss: 2.8268582202741834\n",
      "> For the *112_th* data_key\n",
      "> retail = 39.99,bidincrement = 0.15, bidfee = 0.75, infer PT's parameters\n",
      "> Now do SA....... \n",
      "\n"
     ]
    },
    {
     "name": "stderr",
     "output_type": "stream",
     "text": [
      "  9%|▉         | 113/1276 [07:06<37:18,  1.93s/it]"
     ]
    },
    {
     "name": "stdout",
     "output_type": "stream",
     "text": [
      "STOP CODE:  Stay unchanged in the last 6 iterations\n",
      "> SA ENDS....... \n",
      "\n",
      "> avg loss: 2.8588738790283417\n",
      "> For the *113_th* data_key\n",
      "> retail = 199.99,bidincrement = 0.15, bidfee = 0.75, infer PT's parameters\n",
      "> Now do SA....... \n",
      "\n"
     ]
    },
    {
     "name": "stderr",
     "output_type": "stream",
     "text": [
      "  9%|▉         | 114/1276 [07:07<36:53,  1.90s/it]"
     ]
    },
    {
     "name": "stdout",
     "output_type": "stream",
     "text": [
      "STOP CODE:  Stay unchanged in the last 6 iterations\n",
      "> SA ENDS....... \n",
      "\n",
      "> avg loss: 2.447076538278034\n",
      "> For the *114_th* data_key\n",
      "> retail = 79.99,bidincrement = 0.15, bidfee = 0.75, infer PT's parameters\n",
      "> Now do SA....... \n",
      "\n"
     ]
    },
    {
     "name": "stderr",
     "output_type": "stream",
     "text": [
      "  9%|▉         | 115/1276 [07:08<31:05,  1.61s/it]"
     ]
    },
    {
     "name": "stdout",
     "output_type": "stream",
     "text": [
      "STOP CODE:  Stay unchanged in the last 6 iterations\n",
      "> SA ENDS....... \n",
      "\n",
      "> avg loss: 2.7531846382129763\n",
      "> For the *115_th* data_key\n",
      "> retail = 1149.99,bidincrement = 0.01, bidfee = 0.75, infer PT's parameters\n",
      "> Now do SA....... \n",
      "\n"
     ]
    },
    {
     "name": "stderr",
     "output_type": "stream",
     "text": [
      "  9%|▉         | 116/1276 [08:09<6:15:50, 19.44s/it]"
     ]
    },
    {
     "name": "stdout",
     "output_type": "stream",
     "text": [
      "> 超时\n",
      "> SA ENDS....... \n",
      "\n",
      "> avg loss: 16.157644587126935\n",
      "> For the *116_th* data_key\n",
      "> retail = 29.99,bidincrement = 0.15, bidfee = 0.75, infer PT's parameters\n",
      "> Now do SA....... \n",
      "\n"
     ]
    },
    {
     "name": "stderr",
     "output_type": "stream",
     "text": [
      "  9%|▉         | 117/1276 [08:10<4:26:10, 13.78s/it]"
     ]
    },
    {
     "name": "stdout",
     "output_type": "stream",
     "text": [
      "STOP CODE:  Stay unchanged in the last 6 iterations\n",
      "> SA ENDS....... \n",
      "\n",
      "> avg loss: 2.199644504438438\n",
      "> For the *117_th* data_key\n",
      "> retail = 44.99,bidincrement = 0.15, bidfee = 0.75, infer PT's parameters\n",
      "> Now do SA....... \n",
      "\n"
     ]
    },
    {
     "name": "stderr",
     "output_type": "stream",
     "text": [
      "  9%|▉         | 118/1276 [08:11<3:11:16,  9.91s/it]"
     ]
    },
    {
     "name": "stdout",
     "output_type": "stream",
     "text": [
      "STOP CODE:  Stay unchanged in the last 6 iterations\n",
      "> SA ENDS....... \n",
      "\n",
      "> avg loss: 2.800240494972709\n",
      "> For the *118_th* data_key\n",
      "> retail = 49.99,bidincrement = 0.15, bidfee = 0.75, infer PT's parameters\n",
      "> Now do SA....... \n",
      "\n"
     ]
    },
    {
     "name": "stderr",
     "output_type": "stream",
     "text": [
      "  9%|▉         | 119/1276 [08:13<2:27:51,  7.67s/it]"
     ]
    },
    {
     "name": "stdout",
     "output_type": "stream",
     "text": [
      "STOP CODE:  Stay unchanged in the last 6 iterations\n",
      "> SA ENDS....... \n",
      "\n",
      "> avg loss: 1.9709162597569108\n",
      "> For the *119_th* data_key\n",
      "> retail = 49.99,bidincrement = 0.15, bidfee = 0.75, infer PT's parameters\n",
      "> Now do SA....... \n",
      "\n"
     ]
    },
    {
     "name": "stderr",
     "output_type": "stream",
     "text": [
      "  9%|▉         | 120/1276 [08:14<1:47:56,  5.60s/it]"
     ]
    },
    {
     "name": "stdout",
     "output_type": "stream",
     "text": [
      "STOP CODE:  Stay unchanged in the last 6 iterations\n",
      "> SA ENDS....... \n",
      "\n",
      "> avg loss: 2.619686222761565\n",
      "> For the *120_th* data_key\n",
      "> retail = 337.38,bidincrement = 0.15, bidfee = 0.75, infer PT's parameters\n",
      "> Now do SA....... \n",
      "\n"
     ]
    },
    {
     "name": "stderr",
     "output_type": "stream",
     "text": [
      "  9%|▉         | 121/1276 [08:20<1:46:49,  5.55s/it]"
     ]
    },
    {
     "name": "stdout",
     "output_type": "stream",
     "text": [
      "STOP CODE:  Stay unchanged in the last 6 iterations\n",
      "> SA ENDS....... \n",
      "\n",
      "> avg loss: 3.593248292250537\n",
      "> For the *121_th* data_key\n",
      "> retail = 449.99,bidincrement = 0.15, bidfee = 0.75, infer PT's parameters\n",
      "> Now do SA....... \n",
      "\n"
     ]
    },
    {
     "name": "stderr",
     "output_type": "stream",
     "text": [
      " 10%|▉         | 122/1276 [08:24<1:41:56,  5.30s/it]"
     ]
    },
    {
     "name": "stdout",
     "output_type": "stream",
     "text": [
      "STOP CODE:  Stay unchanged in the last 6 iterations\n",
      "> SA ENDS....... \n",
      "\n",
      "> avg loss: 3.2963842068968088\n",
      "> For the *122_th* data_key\n",
      "> retail = 199.0,bidincrement = 0.15, bidfee = 0.75, infer PT's parameters\n",
      "> Now do SA....... \n",
      "\n"
     ]
    },
    {
     "name": "stderr",
     "output_type": "stream",
     "text": [
      " 10%|▉         | 123/1276 [08:26<1:21:33,  4.24s/it]"
     ]
    },
    {
     "name": "stdout",
     "output_type": "stream",
     "text": [
      "STOP CODE:  Stay unchanged in the last 6 iterations\n",
      "> SA ENDS....... \n",
      "\n",
      "> avg loss: 2.798688219822362\n",
      "> For the *123_th* data_key\n",
      "> retail = 199.0,bidincrement = 0.15, bidfee = 0.75, infer PT's parameters\n",
      "> Now do SA....... \n",
      "\n"
     ]
    },
    {
     "name": "stderr",
     "output_type": "stream",
     "text": [
      " 10%|▉         | 124/1276 [08:29<1:13:45,  3.84s/it]"
     ]
    },
    {
     "name": "stdout",
     "output_type": "stream",
     "text": [
      "STOP CODE:  Stay unchanged in the last 6 iterations\n",
      "> SA ENDS....... \n",
      "\n",
      "> avg loss: 2.769341975121129\n",
      "> For the *124_th* data_key\n",
      "> retail = 1899.99,bidincrement = 0.01, bidfee = 0.75, infer PT's parameters\n",
      "> Now do SA....... \n",
      "\n"
     ]
    },
    {
     "name": "stderr",
     "output_type": "stream",
     "text": [
      " 10%|▉         | 125/1276 [09:31<6:46:45, 21.20s/it]"
     ]
    },
    {
     "name": "stdout",
     "output_type": "stream",
     "text": [
      "> 超时\n",
      "> SA ENDS....... \n",
      "\n",
      "> avg loss: 18.78001113739702\n",
      "> For the *125_th* data_key\n",
      "> retail = 49.99,bidincrement = 0.15, bidfee = 0.75, infer PT's parameters\n",
      "> Now do SA....... \n",
      "\n"
     ]
    },
    {
     "name": "stderr",
     "output_type": "stream",
     "text": [
      " 10%|▉         | 126/1276 [09:31<4:48:36, 15.06s/it]"
     ]
    },
    {
     "name": "stdout",
     "output_type": "stream",
     "text": [
      "STOP CODE:  Stay unchanged in the last 6 iterations\n",
      "> SA ENDS....... \n",
      "\n",
      "> avg loss: 2.1634820489306197\n",
      "> For the *126_th* data_key\n",
      "> retail = 370.0,bidincrement = 0.15, bidfee = 0.75, infer PT's parameters\n",
      "> Now do SA....... \n",
      "\n"
     ]
    },
    {
     "name": "stderr",
     "output_type": "stream",
     "text": [
      " 10%|▉         | 127/1276 [09:34<3:37:01, 11.33s/it]"
     ]
    },
    {
     "name": "stdout",
     "output_type": "stream",
     "text": [
      "STOP CODE:  Stay unchanged in the last 6 iterations\n",
      "> SA ENDS....... \n",
      "\n",
      "> avg loss: 2.9604223154600717\n",
      "> For the *127_th* data_key\n",
      "> retail = 495.0,bidincrement = 0.15, bidfee = 0.75, infer PT's parameters\n",
      "> Now do SA....... \n",
      "\n"
     ]
    },
    {
     "name": "stderr",
     "output_type": "stream",
     "text": [
      " 10%|█         | 128/1276 [09:47<3:46:22, 11.83s/it]"
     ]
    },
    {
     "name": "stdout",
     "output_type": "stream",
     "text": [
      "STOP CODE:  Stay unchanged in the last 6 iterations\n",
      "> SA ENDS....... \n",
      "\n",
      "> avg loss: 6.976436061980943\n",
      "> For the *128_th* data_key\n",
      "> retail = 79.95,bidincrement = 0.15, bidfee = 0.75, infer PT's parameters\n",
      "> Now do SA....... \n",
      "\n"
     ]
    },
    {
     "name": "stderr",
     "output_type": "stream",
     "text": [
      " 10%|█         | 129/1276 [09:48<2:44:26,  8.60s/it]"
     ]
    },
    {
     "name": "stdout",
     "output_type": "stream",
     "text": [
      "STOP CODE:  Stay unchanged in the last 6 iterations\n",
      "> SA ENDS....... \n",
      "\n",
      "> avg loss: 4.227089355008758\n",
      "> For the *129_th* data_key\n",
      "> retail = 355.0,bidincrement = 0.15, bidfee = 0.75, infer PT's parameters\n",
      "> Now do SA....... \n",
      "\n"
     ]
    },
    {
     "name": "stderr",
     "output_type": "stream",
     "text": [
      " 10%|█         | 130/1276 [09:55<2:32:08,  7.97s/it]"
     ]
    },
    {
     "name": "stdout",
     "output_type": "stream",
     "text": [
      "STOP CODE:  Stay unchanged in the last 6 iterations\n",
      "> SA ENDS....... \n",
      "\n",
      "> avg loss: 3.5982592790578978\n",
      "> For the *130_th* data_key\n",
      "> retail = 495.0,bidincrement = 0.15, bidfee = 0.75, infer PT's parameters\n",
      "> Now do SA....... \n",
      "\n"
     ]
    },
    {
     "name": "stderr",
     "output_type": "stream",
     "text": [
      " 10%|█         | 131/1276 [10:00<2:19:02,  7.29s/it]"
     ]
    },
    {
     "name": "stdout",
     "output_type": "stream",
     "text": [
      "STOP CODE:  Stay unchanged in the last 6 iterations\n",
      "> SA ENDS....... \n",
      "\n",
      "> avg loss: 2.642592590613117\n",
      "> For the *131_th* data_key\n",
      "> retail = 1899.99,bidincrement = 0.01, bidfee = 0.75, infer PT's parameters\n",
      "> Now do SA....... \n",
      "\n"
     ]
    },
    {
     "name": "stderr",
     "output_type": "stream",
     "text": [
      " 10%|█         | 132/1276 [11:02<7:30:30, 23.63s/it]"
     ]
    },
    {
     "name": "stdout",
     "output_type": "stream",
     "text": [
      "> 超时\n",
      "> SA ENDS....... \n",
      "\n",
      "> avg loss: 19.286703154920964\n",
      "> For the *132_th* data_key\n",
      "> retail = 1199.99,bidincrement = 0.15, bidfee = 0.75, infer PT's parameters\n",
      "> Now do SA....... \n",
      "\n"
     ]
    },
    {
     "name": "stderr",
     "output_type": "stream",
     "text": [
      " 10%|█         | 133/1276 [11:26<7:30:35, 23.65s/it]"
     ]
    },
    {
     "name": "stdout",
     "output_type": "stream",
     "text": [
      "STOP CODE:  Stay unchanged in the last 6 iterations\n",
      "> SA ENDS....... \n",
      "\n",
      "> avg loss: 8.443884832106548\n",
      "> For the *133_th* data_key\n",
      "> retail = 499.95,bidincrement = 0.15, bidfee = 0.75, infer PT's parameters\n",
      "> Now do SA....... \n",
      "\n"
     ]
    },
    {
     "name": "stderr",
     "output_type": "stream",
     "text": [
      " 11%|█         | 134/1276 [11:32<5:52:50, 18.54s/it]"
     ]
    },
    {
     "name": "stdout",
     "output_type": "stream",
     "text": [
      "STOP CODE:  Stay unchanged in the last 6 iterations\n",
      "> SA ENDS....... \n",
      "\n",
      "> avg loss: 2.7541798381960683\n",
      "> For the *134_th* data_key\n",
      "> retail = 39.99,bidincrement = 0.15, bidfee = 0.75, infer PT's parameters\n",
      "> Now do SA....... \n",
      "\n"
     ]
    },
    {
     "name": "stderr",
     "output_type": "stream",
     "text": [
      " 11%|█         | 135/1276 [11:33<4:10:23, 13.17s/it]"
     ]
    },
    {
     "name": "stdout",
     "output_type": "stream",
     "text": [
      "STOP CODE:  Stay unchanged in the last 6 iterations\n",
      "> SA ENDS....... \n",
      "\n",
      "> avg loss: 3.429146246731787\n",
      "> For the *135_th* data_key\n",
      "> retail = 39.99,bidincrement = 0.15, bidfee = 0.75, infer PT's parameters\n",
      "> Now do SA....... \n",
      "\n"
     ]
    },
    {
     "name": "stderr",
     "output_type": "stream",
     "text": [
      " 11%|█         | 136/1276 [11:34<3:01:06,  9.53s/it]"
     ]
    },
    {
     "name": "stdout",
     "output_type": "stream",
     "text": [
      "STOP CODE:  Stay unchanged in the last 6 iterations\n",
      "> SA ENDS....... \n",
      "\n",
      "> avg loss: 3.0110531335367274\n",
      "> For the *136_th* data_key\n",
      "> retail = 355.0,bidincrement = 0.15, bidfee = 0.75, infer PT's parameters\n",
      "> Now do SA....... \n",
      "\n"
     ]
    },
    {
     "name": "stderr",
     "output_type": "stream",
     "text": [
      " 11%|█         | 137/1276 [11:38<2:31:21,  7.97s/it]"
     ]
    },
    {
     "name": "stdout",
     "output_type": "stream",
     "text": [
      "STOP CODE:  Stay unchanged in the last 6 iterations\n",
      "> SA ENDS....... \n",
      "\n",
      "> avg loss: 3.8614301278375596\n",
      "> For the *137_th* data_key\n",
      "> retail = 495.0,bidincrement = 0.15, bidfee = 0.75, infer PT's parameters\n",
      "> Now do SA....... \n",
      "\n"
     ]
    },
    {
     "name": "stderr",
     "output_type": "stream",
     "text": [
      " 11%|█         | 138/1276 [11:50<2:52:44,  9.11s/it]"
     ]
    },
    {
     "name": "stdout",
     "output_type": "stream",
     "text": [
      "STOP CODE:  Stay unchanged in the last 6 iterations\n",
      "> SA ENDS....... \n",
      "\n",
      "> avg loss: 2.850289116806388\n",
      "> For the *138_th* data_key\n",
      "> retail = 149.99,bidincrement = 0.15, bidfee = 0.75, infer PT's parameters\n",
      "> Now do SA....... \n",
      "\n"
     ]
    },
    {
     "name": "stderr",
     "output_type": "stream",
     "text": [
      " 11%|█         | 139/1276 [11:53<2:17:31,  7.26s/it]"
     ]
    },
    {
     "name": "stdout",
     "output_type": "stream",
     "text": [
      "STOP CODE:  Stay unchanged in the last 6 iterations\n",
      "> SA ENDS....... \n",
      "\n",
      "> avg loss: 4.43312351204463\n",
      "> For the *139_th* data_key\n",
      "> retail = 495.0,bidincrement = 0.15, bidfee = 0.75, infer PT's parameters\n",
      "> Now do SA....... \n",
      "\n"
     ]
    },
    {
     "name": "stderr",
     "output_type": "stream",
     "text": [
      " 11%|█         | 140/1276 [12:00<2:16:15,  7.20s/it]"
     ]
    },
    {
     "name": "stdout",
     "output_type": "stream",
     "text": [
      "STOP CODE:  Stay unchanged in the last 6 iterations\n",
      "> SA ENDS....... \n",
      "\n",
      "> avg loss: 5.235249695032003\n",
      "> For the *140_th* data_key\n",
      "> retail = 240.0,bidincrement = 0.15, bidfee = 0.75, infer PT's parameters\n",
      "> Now do SA....... \n",
      "\n"
     ]
    },
    {
     "name": "stderr",
     "output_type": "stream",
     "text": [
      " 11%|█         | 141/1276 [12:02<1:47:57,  5.71s/it]"
     ]
    },
    {
     "name": "stdout",
     "output_type": "stream",
     "text": [
      "STOP CODE:  Stay unchanged in the last 6 iterations\n",
      "> SA ENDS....... \n",
      "\n",
      "> avg loss: 2.8667614024301455\n",
      "> For the *141_th* data_key\n",
      "> retail = 35.0,bidincrement = 0.15, bidfee = 0.75, infer PT's parameters\n",
      "> Now do SA....... \n",
      "\n"
     ]
    },
    {
     "name": "stderr",
     "output_type": "stream",
     "text": [
      " 11%|█         | 142/1276 [12:03<1:19:28,  4.20s/it]"
     ]
    },
    {
     "name": "stdout",
     "output_type": "stream",
     "text": [
      "STOP CODE:  Stay unchanged in the last 6 iterations\n",
      "> SA ENDS....... \n",
      "\n",
      "> avg loss: 3.758318326418095\n",
      "> For the *142_th* data_key\n",
      "> retail = 39.99,bidincrement = 0.15, bidfee = 0.75, infer PT's parameters\n",
      "> Now do SA....... \n",
      "\n"
     ]
    },
    {
     "name": "stderr",
     "output_type": "stream",
     "text": [
      " 11%|█         | 143/1276 [12:07<1:16:14,  4.04s/it]"
     ]
    },
    {
     "name": "stdout",
     "output_type": "stream",
     "text": [
      "STOP CODE:  Stay unchanged in the last 6 iterations\n",
      "> SA ENDS....... \n",
      "\n",
      "> avg loss: 2.119709699220138\n",
      "> For the *143_th* data_key\n",
      "> retail = 1249.99,bidincrement = 0.15, bidfee = 0.75, infer PT's parameters\n",
      "> Now do SA....... \n",
      "\n"
     ]
    },
    {
     "name": "stderr",
     "output_type": "stream",
     "text": [
      " 11%|█▏        | 144/1276 [12:26<2:44:33,  8.72s/it]"
     ]
    },
    {
     "name": "stdout",
     "output_type": "stream",
     "text": [
      "STOP CODE:  Stay unchanged in the last 6 iterations\n",
      "> SA ENDS....... \n",
      "\n",
      "> avg loss: 8.335559728808354\n",
      "> For the *144_th* data_key\n",
      "> retail = 249.0,bidincrement = 0.15, bidfee = 0.75, infer PT's parameters\n",
      "> Now do SA....... \n",
      "\n"
     ]
    },
    {
     "name": "stderr",
     "output_type": "stream",
     "text": [
      " 11%|█▏        | 145/1276 [12:29<2:09:15,  6.86s/it]"
     ]
    },
    {
     "name": "stdout",
     "output_type": "stream",
     "text": [
      "STOP CODE:  Stay unchanged in the last 6 iterations\n",
      "> SA ENDS....... \n",
      "\n",
      "> avg loss: 3.134587553543946\n",
      "> For the *145_th* data_key\n",
      "> retail = 249.0,bidincrement = 0.15, bidfee = 0.75, infer PT's parameters\n",
      "> Now do SA....... \n",
      "\n"
     ]
    },
    {
     "name": "stderr",
     "output_type": "stream",
     "text": [
      " 11%|█▏        | 146/1276 [12:32<1:47:37,  5.71s/it]"
     ]
    },
    {
     "name": "stdout",
     "output_type": "stream",
     "text": [
      "STOP CODE:  Stay unchanged in the last 6 iterations\n",
      "> SA ENDS....... \n",
      "\n",
      "> avg loss: 2.971670875013375\n",
      "> For the *146_th* data_key\n",
      "> retail = 29.99,bidincrement = 0.15, bidfee = 0.75, infer PT's parameters\n",
      "> Now do SA....... \n",
      "\n"
     ]
    },
    {
     "name": "stderr",
     "output_type": "stream",
     "text": [
      " 12%|█▏        | 147/1276 [12:32<1:18:24,  4.17s/it]"
     ]
    },
    {
     "name": "stdout",
     "output_type": "stream",
     "text": [
      "STOP CODE:  Stay unchanged in the last 6 iterations\n",
      "> SA ENDS....... \n",
      "\n",
      "> avg loss: 2.0648846073092235\n",
      "> For the *147_th* data_key\n",
      "> retail = 35.0,bidincrement = 0.15, bidfee = 0.75, infer PT's parameters\n",
      "> Now do SA....... \n",
      "\n"
     ]
    },
    {
     "name": "stderr",
     "output_type": "stream",
     "text": [
      " 12%|█▏        | 148/1276 [12:33<59:03,  3.14s/it]  "
     ]
    },
    {
     "name": "stdout",
     "output_type": "stream",
     "text": [
      "STOP CODE:  Stay unchanged in the last 6 iterations\n",
      "> SA ENDS....... \n",
      "\n",
      "> avg loss: 3.289413390714463\n",
      "> For the *148_th* data_key\n",
      "> retail = 1049.99,bidincrement = 0.0, bidfee = 0.75, infer PT's parameters\n",
      "> Now do SA....... \n",
      "\n"
     ]
    },
    {
     "name": "stderr",
     "output_type": "stream",
     "text": [
      " 12%|█▏        | 149/1276 [12:34<45:07,  2.40s/it]"
     ]
    },
    {
     "name": "stdout",
     "output_type": "stream",
     "text": [
      "STOP CODE:  Stay unchanged in the last 6 iterations\n",
      "> SA ENDS....... \n",
      "\n",
      "> avg loss: 1.2374444579144794\n",
      "> For the *149_th* data_key\n",
      "> retail = 699.99,bidincrement = 0.15, bidfee = 0.75, infer PT's parameters\n",
      "> Now do SA....... \n",
      "\n"
     ]
    },
    {
     "name": "stderr",
     "output_type": "stream",
     "text": [
      " 12%|█▏        | 150/1276 [12:39<59:01,  3.15s/it]"
     ]
    },
    {
     "name": "stdout",
     "output_type": "stream",
     "text": [
      "STOP CODE:  Stay unchanged in the last 6 iterations\n",
      "> SA ENDS....... \n",
      "\n",
      "> avg loss: 2.761753544084345\n",
      "> For the *150_th* data_key\n",
      "> retail = 699.99,bidincrement = 0.15, bidfee = 0.75, infer PT's parameters\n",
      "> Now do SA....... \n",
      "\n"
     ]
    },
    {
     "name": "stderr",
     "output_type": "stream",
     "text": [
      " 12%|█▏        | 151/1276 [12:45<1:17:45,  4.15s/it]"
     ]
    },
    {
     "name": "stdout",
     "output_type": "stream",
     "text": [
      "STOP CODE:  Stay unchanged in the last 6 iterations\n",
      "> SA ENDS....... \n",
      "\n",
      "> avg loss: 2.7564338039812046\n",
      "> For the *151_th* data_key\n",
      "> retail = 19.99,bidincrement = 0.15, bidfee = 0.75, infer PT's parameters\n",
      "> Now do SA....... \n",
      "\n"
     ]
    },
    {
     "name": "stderr",
     "output_type": "stream",
     "text": [
      " 12%|█▏        | 152/1276 [12:46<57:30,  3.07s/it]  "
     ]
    },
    {
     "name": "stdout",
     "output_type": "stream",
     "text": [
      "STOP CODE:  Stay unchanged in the last 6 iterations\n",
      "> SA ENDS....... \n",
      "\n",
      "> avg loss: 2.541526205192938\n",
      "> For the *152_th* data_key\n",
      "> retail = 19.99,bidincrement = 0.15, bidfee = 0.75, infer PT's parameters\n",
      "> Now do SA....... \n",
      "\n"
     ]
    },
    {
     "name": "stderr",
     "output_type": "stream",
     "text": [
      " 12%|█▏        | 153/1276 [12:47<45:46,  2.45s/it]"
     ]
    },
    {
     "name": "stdout",
     "output_type": "stream",
     "text": [
      "STOP CODE:  Stay unchanged in the last 6 iterations\n",
      "> SA ENDS....... \n",
      "\n",
      "> avg loss: 2.3588704884664677\n",
      "> For the *153_th* data_key\n",
      "> retail = 9.99,bidincrement = 0.15, bidfee = 0.75, infer PT's parameters\n",
      "> Now do SA....... \n",
      "\n"
     ]
    },
    {
     "name": "stderr",
     "output_type": "stream",
     "text": [
      " 12%|█▏        | 154/1276 [12:48<39:13,  2.10s/it]"
     ]
    },
    {
     "name": "stdout",
     "output_type": "stream",
     "text": [
      "STOP CODE:  Stay unchanged in the last 6 iterations\n",
      "> SA ENDS....... \n",
      "\n",
      "> avg loss: 1.8501828305387436\n",
      "> For the *154_th* data_key\n",
      "> retail = 19.99,bidincrement = 0.15, bidfee = 0.75, infer PT's parameters\n",
      "> Now do SA....... \n",
      "\n"
     ]
    },
    {
     "name": "stderr",
     "output_type": "stream",
     "text": [
      " 12%|█▏        | 155/1276 [12:49<33:04,  1.77s/it]"
     ]
    },
    {
     "name": "stdout",
     "output_type": "stream",
     "text": [
      "STOP CODE:  Stay unchanged in the last 6 iterations\n",
      "> SA ENDS....... \n",
      "\n",
      "> avg loss: 2.3100613094235083\n",
      "> For the *155_th* data_key\n",
      "> retail = 119.99,bidincrement = 0.15, bidfee = 0.75, infer PT's parameters\n",
      "> Now do SA....... \n",
      "\n"
     ]
    },
    {
     "name": "stderr",
     "output_type": "stream",
     "text": [
      " 12%|█▏        | 156/1276 [12:50<30:25,  1.63s/it]"
     ]
    },
    {
     "name": "stdout",
     "output_type": "stream",
     "text": [
      "STOP CODE:  Stay unchanged in the last 6 iterations\n",
      "> SA ENDS....... \n",
      "\n",
      "> avg loss: 4.209372908555871\n",
      "> For the *156_th* data_key\n",
      "> retail = 129.99,bidincrement = 0.15, bidfee = 0.75, infer PT's parameters\n",
      "> Now do SA....... \n",
      "\n"
     ]
    },
    {
     "name": "stderr",
     "output_type": "stream",
     "text": [
      " 12%|█▏        | 157/1276 [12:53<36:13,  1.94s/it]"
     ]
    },
    {
     "name": "stdout",
     "output_type": "stream",
     "text": [
      "STOP CODE:  Stay unchanged in the last 6 iterations\n",
      "> SA ENDS....... \n",
      "\n",
      "> avg loss: 3.348891015236482\n",
      "> For the *157_th* data_key\n",
      "> retail = 169.99,bidincrement = 0.15, bidfee = 0.75, infer PT's parameters\n",
      "> Now do SA....... \n",
      "\n"
     ]
    },
    {
     "name": "stderr",
     "output_type": "stream",
     "text": [
      " 12%|█▏        | 158/1276 [12:55<34:00,  1.83s/it]"
     ]
    },
    {
     "name": "stdout",
     "output_type": "stream",
     "text": [
      "STOP CODE:  Stay unchanged in the last 6 iterations\n",
      "> SA ENDS....... \n",
      "\n",
      "> avg loss: 2.650879978422054\n",
      "> For the *158_th* data_key\n",
      "> retail = 36.99,bidincrement = 0.15, bidfee = 0.75, infer PT's parameters\n",
      "> Now do SA....... \n",
      "\n"
     ]
    },
    {
     "name": "stderr",
     "output_type": "stream",
     "text": [
      " 12%|█▏        | 159/1276 [12:55<28:13,  1.52s/it]"
     ]
    },
    {
     "name": "stdout",
     "output_type": "stream",
     "text": [
      "STOP CODE:  Stay unchanged in the last 6 iterations\n",
      "> SA ENDS....... \n",
      "\n",
      "> avg loss: 2.7913094209166918\n",
      "> For the *159_th* data_key\n",
      "> retail = 109.99,bidincrement = 0.15, bidfee = 0.75, infer PT's parameters\n",
      "> Now do SA....... \n",
      "\n"
     ]
    },
    {
     "name": "stderr",
     "output_type": "stream",
     "text": [
      " 13%|█▎        | 160/1276 [12:58<32:39,  1.76s/it]"
     ]
    },
    {
     "name": "stdout",
     "output_type": "stream",
     "text": [
      "STOP CODE:  Stay unchanged in the last 6 iterations\n",
      "> SA ENDS....... \n",
      "\n",
      "> avg loss: 3.19228741387482\n",
      "> For the *160_th* data_key\n",
      "> retail = 69.99,bidincrement = 0.15, bidfee = 0.75, infer PT's parameters\n",
      "> Now do SA....... \n",
      "\n"
     ]
    },
    {
     "name": "stderr",
     "output_type": "stream",
     "text": [
      " 13%|█▎        | 161/1276 [12:59<29:35,  1.59s/it]"
     ]
    },
    {
     "name": "stdout",
     "output_type": "stream",
     "text": [
      "STOP CODE:  Stay unchanged in the last 6 iterations\n",
      "> SA ENDS....... \n",
      "\n",
      "> avg loss: 2.958775757051504\n",
      "> For the *161_th* data_key\n",
      "> retail = 1249.99,bidincrement = 0.01, bidfee = 0.75, infer PT's parameters\n",
      "> Now do SA....... \n",
      "\n"
     ]
    },
    {
     "name": "stderr",
     "output_type": "stream",
     "text": [
      " 13%|█▎        | 162/1276 [14:00<6:01:47, 19.49s/it]"
     ]
    },
    {
     "name": "stdout",
     "output_type": "stream",
     "text": [
      "> 超时\n",
      "> SA ENDS....... \n",
      "\n",
      "> avg loss: 16.82476815386199\n",
      "> For the *162_th* data_key\n",
      "> retail = 59.99,bidincrement = 0.15, bidfee = 0.75, infer PT's parameters\n",
      "> Now do SA....... \n",
      "\n"
     ]
    },
    {
     "name": "stderr",
     "output_type": "stream",
     "text": [
      " 13%|█▎        | 163/1276 [14:01<4:18:14, 13.92s/it]"
     ]
    },
    {
     "name": "stdout",
     "output_type": "stream",
     "text": [
      "STOP CODE:  Stay unchanged in the last 6 iterations\n",
      "> SA ENDS....... \n",
      "\n",
      "> avg loss: 2.0204489523240863\n",
      "> For the *163_th* data_key\n",
      "> retail = 129.99,bidincrement = 0.15, bidfee = 0.75, infer PT's parameters\n",
      "> Now do SA....... \n",
      "\n"
     ]
    },
    {
     "name": "stderr",
     "output_type": "stream",
     "text": [
      " 13%|█▎        | 164/1276 [14:03<3:09:31, 10.23s/it]"
     ]
    },
    {
     "name": "stdout",
     "output_type": "stream",
     "text": [
      "STOP CODE:  Stay unchanged in the last 6 iterations\n",
      "> SA ENDS....... \n",
      "\n",
      "> avg loss: 3.167463377791015\n",
      "> For the *164_th* data_key\n",
      "> retail = 1649.99,bidincrement = 0.01, bidfee = 0.75, infer PT's parameters\n",
      "> Now do SA....... \n",
      "\n"
     ]
    },
    {
     "name": "stderr",
     "output_type": "stream",
     "text": [
      " 13%|█▎        | 165/1276 [15:04<7:54:43, 25.64s/it]"
     ]
    },
    {
     "name": "stdout",
     "output_type": "stream",
     "text": [
      "> 超时\n",
      "> SA ENDS....... \n",
      "\n",
      "> avg loss: 18.643431199355536\n",
      "> For the *165_th* data_key\n",
      "> retail = 37.99,bidincrement = 0.15, bidfee = 0.75, infer PT's parameters\n",
      "> Now do SA....... \n",
      "\n"
     ]
    },
    {
     "name": "stderr",
     "output_type": "stream",
     "text": [
      " 13%|█▎        | 166/1276 [15:05<5:37:15, 18.23s/it]"
     ]
    },
    {
     "name": "stdout",
     "output_type": "stream",
     "text": [
      "STOP CODE:  Stay unchanged in the last 6 iterations\n",
      "> SA ENDS....... \n",
      "\n",
      "> avg loss: 2.760595265923101\n",
      "> For the *166_th* data_key\n",
      "> retail = 495.0,bidincrement = 0.15, bidfee = 0.75, infer PT's parameters\n",
      "> Now do SA....... \n",
      "\n"
     ]
    },
    {
     "name": "stderr",
     "output_type": "stream",
     "text": [
      " 13%|█▎        | 167/1276 [15:12<4:32:26, 14.74s/it]"
     ]
    },
    {
     "name": "stdout",
     "output_type": "stream",
     "text": [
      "STOP CODE:  Stay unchanged in the last 6 iterations\n",
      "> SA ENDS....... \n",
      "\n",
      "> avg loss: 2.68252321367809\n",
      "> For the *167_th* data_key\n",
      "> retail = 1495.0,bidincrement = 0.15, bidfee = 0.75, infer PT's parameters\n",
      "> Now do SA....... \n",
      "\n"
     ]
    },
    {
     "name": "stderr",
     "output_type": "stream",
     "text": [
      " 13%|█▎        | 168/1276 [15:26<4:28:52, 14.56s/it]"
     ]
    },
    {
     "name": "stdout",
     "output_type": "stream",
     "text": [
      "STOP CODE:  Stay unchanged in the last 6 iterations\n",
      "> SA ENDS....... \n",
      "\n",
      "> avg loss: 8.499566732143645\n",
      "> For the *168_th* data_key\n",
      "> retail = 62.95,bidincrement = 0.15, bidfee = 0.75, infer PT's parameters\n",
      "> Now do SA....... \n",
      "\n"
     ]
    },
    {
     "name": "stderr",
     "output_type": "stream",
     "text": [
      " 13%|█▎        | 169/1276 [15:28<3:20:31, 10.87s/it]"
     ]
    },
    {
     "name": "stdout",
     "output_type": "stream",
     "text": [
      "STOP CODE:  Stay unchanged in the last 6 iterations\n",
      "> SA ENDS....... \n",
      "\n",
      "> avg loss: 2.143759018470312\n",
      "> For the *169_th* data_key\n",
      "> retail = 295.0,bidincrement = 0.15, bidfee = 0.75, infer PT's parameters\n",
      "> Now do SA....... \n",
      "\n"
     ]
    },
    {
     "name": "stderr",
     "output_type": "stream",
     "text": [
      " 13%|█▎        | 170/1276 [15:31<2:37:02,  8.52s/it]"
     ]
    },
    {
     "name": "stdout",
     "output_type": "stream",
     "text": [
      "STOP CODE:  Stay unchanged in the last 6 iterations\n",
      "> SA ENDS....... \n",
      "\n",
      "> avg loss: 5.861167363874729\n",
      "> For the *170_th* data_key\n",
      "> retail = 133.74,bidincrement = 0.15, bidfee = 0.75, infer PT's parameters\n",
      "> Now do SA....... \n",
      "\n"
     ]
    },
    {
     "name": "stderr",
     "output_type": "stream",
     "text": [
      " 13%|█▎        | 171/1276 [15:33<1:56:50,  6.34s/it]"
     ]
    },
    {
     "name": "stdout",
     "output_type": "stream",
     "text": [
      "STOP CODE:  Stay unchanged in the last 6 iterations\n",
      "> SA ENDS....... \n",
      "\n",
      "> avg loss: 2.9315243862943285\n",
      "> For the *171_th* data_key\n",
      "> retail = 29.99,bidincrement = 0.15, bidfee = 0.75, infer PT's parameters\n",
      "> Now do SA....... \n",
      "\n"
     ]
    },
    {
     "name": "stderr",
     "output_type": "stream",
     "text": [
      " 13%|█▎        | 172/1276 [15:33<1:25:28,  4.65s/it]"
     ]
    },
    {
     "name": "stdout",
     "output_type": "stream",
     "text": [
      "STOP CODE:  Stay unchanged in the last 6 iterations\n",
      "> SA ENDS....... \n",
      "\n",
      "> avg loss: 2.8303242151375025\n",
      "> For the *172_th* data_key\n",
      "> retail = 49.99,bidincrement = 0.15, bidfee = 0.75, infer PT's parameters\n",
      "> Now do SA....... \n",
      "\n"
     ]
    },
    {
     "name": "stderr",
     "output_type": "stream",
     "text": [
      " 14%|█▎        | 173/1276 [15:34<1:04:52,  3.53s/it]"
     ]
    },
    {
     "name": "stdout",
     "output_type": "stream",
     "text": [
      "STOP CODE:  Stay unchanged in the last 6 iterations\n",
      "> SA ENDS....... \n",
      "\n",
      "> avg loss: 2.492112432207089\n",
      "> For the *173_th* data_key\n",
      "> retail = 1599.99,bidincrement = 0.01, bidfee = 0.75, infer PT's parameters\n",
      "> Now do SA....... \n",
      "\n"
     ]
    },
    {
     "name": "stderr",
     "output_type": "stream",
     "text": [
      " 14%|█▎        | 174/1276 [16:36<6:24:25, 20.93s/it]"
     ]
    },
    {
     "name": "stdout",
     "output_type": "stream",
     "text": [
      "> 超时\n",
      "> SA ENDS....... \n",
      "\n",
      "> avg loss: 19.261537811117744\n",
      "> For the *174_th* data_key\n",
      "> retail = 1399.99,bidincrement = 0.01, bidfee = 0.75, infer PT's parameters\n",
      "> Now do SA....... \n",
      "\n"
     ]
    },
    {
     "name": "stderr",
     "output_type": "stream",
     "text": [
      " 14%|█▎        | 175/1276 [17:37<10:06:25, 33.05s/it]"
     ]
    },
    {
     "name": "stdout",
     "output_type": "stream",
     "text": [
      "> 超时\n",
      "> SA ENDS....... \n",
      "\n",
      "> avg loss: 17.316819881849245\n",
      "> For the *175_th* data_key\n",
      "> retail = 139.99,bidincrement = 0.15, bidfee = 0.75, infer PT's parameters\n",
      "> Now do SA....... \n",
      "\n"
     ]
    },
    {
     "name": "stderr",
     "output_type": "stream",
     "text": [
      " 14%|█▍        | 176/1276 [17:40<7:19:09, 23.95s/it] "
     ]
    },
    {
     "name": "stdout",
     "output_type": "stream",
     "text": [
      "STOP CODE:  Stay unchanged in the last 6 iterations\n",
      "> SA ENDS....... \n",
      "\n",
      "> avg loss: 4.054859122297112\n",
      "> For the *176_th* data_key\n",
      "> retail = 169.99,bidincrement = 0.15, bidfee = 0.75, infer PT's parameters\n",
      "> Now do SA....... \n",
      "\n"
     ]
    },
    {
     "name": "stderr",
     "output_type": "stream",
     "text": [
      " 14%|█▍        | 177/1276 [17:41<5:15:10, 17.21s/it]"
     ]
    },
    {
     "name": "stdout",
     "output_type": "stream",
     "text": [
      "STOP CODE:  Stay unchanged in the last 6 iterations\n",
      "> SA ENDS....... \n",
      "\n",
      "> avg loss: 4.183325759323692\n",
      "> For the *177_th* data_key\n",
      "> retail = 629.99,bidincrement = 0.15, bidfee = 0.75, infer PT's parameters\n",
      "> Now do SA....... \n",
      "\n"
     ]
    },
    {
     "name": "stderr",
     "output_type": "stream",
     "text": [
      " 14%|█▍        | 178/1276 [17:47<4:10:06, 13.67s/it]"
     ]
    },
    {
     "name": "stdout",
     "output_type": "stream",
     "text": [
      "STOP CODE:  Stay unchanged in the last 6 iterations\n",
      "> SA ENDS....... \n",
      "\n",
      "> avg loss: 2.38137144773485\n",
      "> For the *178_th* data_key\n",
      "> retail = 1495.0,bidincrement = 0.15, bidfee = 0.75, infer PT's parameters\n",
      "> Now do SA....... \n",
      "\n"
     ]
    },
    {
     "name": "stderr",
     "output_type": "stream",
     "text": [
      " 14%|█▍        | 179/1276 [18:07<4:44:18, 15.55s/it]"
     ]
    },
    {
     "name": "stdout",
     "output_type": "stream",
     "text": [
      "STOP CODE:  Stay unchanged in the last 6 iterations\n",
      "> SA ENDS....... \n",
      "\n",
      "> avg loss: 8.498175956140296\n",
      "> For the *179_th* data_key\n",
      "> retail = 105.5,bidincrement = 0.15, bidfee = 0.75, infer PT's parameters\n",
      "> Now do SA....... \n",
      "\n"
     ]
    },
    {
     "name": "stderr",
     "output_type": "stream",
     "text": [
      " 14%|█▍        | 180/1276 [18:09<3:31:56, 11.60s/it]"
     ]
    },
    {
     "name": "stdout",
     "output_type": "stream",
     "text": [
      "STOP CODE:  Stay unchanged in the last 6 iterations\n",
      "> SA ENDS....... \n",
      "\n",
      "> avg loss: 4.102748052021532\n",
      "> For the *180_th* data_key\n",
      "> retail = 299.0,bidincrement = 0.15, bidfee = 0.75, infer PT's parameters\n",
      "> Now do SA....... \n",
      "\n"
     ]
    },
    {
     "name": "stderr",
     "output_type": "stream",
     "text": [
      " 14%|█▍        | 181/1276 [18:12<2:43:24,  8.95s/it]"
     ]
    },
    {
     "name": "stdout",
     "output_type": "stream",
     "text": [
      "STOP CODE:  Stay unchanged in the last 6 iterations\n",
      "> SA ENDS....... \n",
      "\n",
      "> avg loss: 5.850843058920952\n",
      "> For the *181_th* data_key\n",
      "> retail = 610.0,bidincrement = 0.15, bidfee = 0.75, infer PT's parameters\n",
      "> Now do SA....... \n",
      "\n"
     ]
    },
    {
     "name": "stderr",
     "output_type": "stream",
     "text": [
      " 14%|█▍        | 182/1276 [18:17<2:22:04,  7.79s/it]"
     ]
    },
    {
     "name": "stdout",
     "output_type": "stream",
     "text": [
      "STOP CODE:  Stay unchanged in the last 6 iterations\n",
      "> SA ENDS....... \n",
      "\n",
      "> avg loss: 3.459153815806738\n",
      "> For the *182_th* data_key\n",
      "> retail = 24.99,bidincrement = 0.15, bidfee = 0.75, infer PT's parameters\n",
      "> Now do SA....... \n",
      "\n"
     ]
    },
    {
     "name": "stderr",
     "output_type": "stream",
     "text": [
      " 14%|█▍        | 183/1276 [18:18<1:43:31,  5.68s/it]"
     ]
    },
    {
     "name": "stdout",
     "output_type": "stream",
     "text": [
      "STOP CODE:  Stay unchanged in the last 6 iterations\n",
      "> SA ENDS....... \n",
      "\n",
      "> avg loss: 1.8462197551235426\n",
      "> For the *183_th* data_key\n",
      "> retail = 89.99,bidincrement = 0.15, bidfee = 0.75, infer PT's parameters\n",
      "> Now do SA....... \n",
      "\n"
     ]
    },
    {
     "name": "stderr",
     "output_type": "stream",
     "text": [
      " 14%|█▍        | 184/1276 [18:19<1:19:17,  4.36s/it]"
     ]
    },
    {
     "name": "stdout",
     "output_type": "stream",
     "text": [
      "STOP CODE:  Stay unchanged in the last 6 iterations\n",
      "> SA ENDS....... \n",
      "\n",
      "> avg loss: 2.3984846991673514\n",
      "> For the *184_th* data_key\n",
      "> retail = 49.99,bidincrement = 0.15, bidfee = 0.75, infer PT's parameters\n",
      "> Now do SA....... \n",
      "\n"
     ]
    },
    {
     "name": "stderr",
     "output_type": "stream",
     "text": [
      " 14%|█▍        | 185/1276 [18:22<1:14:45,  4.11s/it]"
     ]
    },
    {
     "name": "stdout",
     "output_type": "stream",
     "text": [
      "STOP CODE:  Stay unchanged in the last 6 iterations\n",
      "> SA ENDS....... \n",
      "\n",
      "> avg loss: 1.893991242367885\n",
      "> For the *185_th* data_key\n",
      "> retail = 59.95,bidincrement = 0.15, bidfee = 0.75, infer PT's parameters\n",
      "> Now do SA....... \n",
      "\n"
     ]
    },
    {
     "name": "stderr",
     "output_type": "stream",
     "text": [
      " 15%|█▍        | 186/1276 [18:23<57:12,  3.15s/it]  "
     ]
    },
    {
     "name": "stdout",
     "output_type": "stream",
     "text": [
      "STOP CODE:  Stay unchanged in the last 6 iterations\n",
      "> SA ENDS....... \n",
      "\n",
      "> avg loss: 2.494714872883918\n",
      "> For the *186_th* data_key\n",
      "> retail = 49.99,bidincrement = 0.15, bidfee = 0.75, infer PT's parameters\n",
      "> Now do SA....... \n",
      "\n"
     ]
    },
    {
     "name": "stderr",
     "output_type": "stream",
     "text": [
      " 15%|█▍        | 187/1276 [18:24<44:15,  2.44s/it]"
     ]
    },
    {
     "name": "stdout",
     "output_type": "stream",
     "text": [
      "STOP CODE:  Stay unchanged in the last 6 iterations\n",
      "> SA ENDS....... \n",
      "\n",
      "> avg loss: 1.787407666363179\n",
      "> For the *187_th* data_key\n",
      "> retail = 49.99,bidincrement = 0.15, bidfee = 0.75, infer PT's parameters\n",
      "> Now do SA....... \n",
      "\n"
     ]
    },
    {
     "name": "stderr",
     "output_type": "stream",
     "text": [
      " 15%|█▍        | 188/1276 [18:26<42:04,  2.32s/it]"
     ]
    },
    {
     "name": "stdout",
     "output_type": "stream",
     "text": [
      "STOP CODE:  Stay unchanged in the last 6 iterations\n",
      "> SA ENDS....... \n",
      "\n",
      "> avg loss: 2.038021335140495\n",
      "> For the *188_th* data_key\n",
      "> retail = 49.99,bidincrement = 0.15, bidfee = 0.75, infer PT's parameters\n",
      "> Now do SA....... \n",
      "\n"
     ]
    },
    {
     "name": "stderr",
     "output_type": "stream",
     "text": [
      " 15%|█▍        | 189/1276 [18:28<38:30,  2.13s/it]"
     ]
    },
    {
     "name": "stdout",
     "output_type": "stream",
     "text": [
      "STOP CODE:  Stay unchanged in the last 6 iterations\n",
      "> SA ENDS....... \n",
      "\n",
      "> avg loss: 1.9166486451151326\n",
      "> For the *189_th* data_key\n",
      "> retail = 39.99,bidincrement = 0.15, bidfee = 0.75, infer PT's parameters\n",
      "> Now do SA....... \n",
      "\n"
     ]
    },
    {
     "name": "stderr",
     "output_type": "stream",
     "text": [
      " 15%|█▍        | 190/1276 [18:29<31:54,  1.76s/it]"
     ]
    },
    {
     "name": "stdout",
     "output_type": "stream",
     "text": [
      "STOP CODE:  Stay unchanged in the last 6 iterations\n",
      "> SA ENDS....... \n",
      "\n",
      "> avg loss: 2.2068790313732145\n",
      "> For the *190_th* data_key\n",
      "> retail = 39.99,bidincrement = 0.15, bidfee = 0.75, infer PT's parameters\n",
      "> Now do SA....... \n",
      "\n"
     ]
    },
    {
     "name": "stderr",
     "output_type": "stream",
     "text": [
      " 15%|█▍        | 191/1276 [18:30<28:59,  1.60s/it]"
     ]
    },
    {
     "name": "stdout",
     "output_type": "stream",
     "text": [
      "STOP CODE:  Stay unchanged in the last 6 iterations\n",
      "> SA ENDS....... \n",
      "\n",
      "> avg loss: 1.9521851314898273\n",
      "> For the *191_th* data_key\n",
      "> retail = 59.99,bidincrement = 0.15, bidfee = 0.75, infer PT's parameters\n",
      "> Now do SA....... \n",
      "\n"
     ]
    },
    {
     "name": "stderr",
     "output_type": "stream",
     "text": [
      " 15%|█▌        | 192/1276 [18:31<27:34,  1.53s/it]"
     ]
    },
    {
     "name": "stdout",
     "output_type": "stream",
     "text": [
      "STOP CODE:  Stay unchanged in the last 6 iterations\n",
      "> SA ENDS....... \n",
      "\n",
      "> avg loss: 1.9742880186159113\n",
      "> For the *192_th* data_key\n",
      "> retail = 49.99,bidincrement = 0.15, bidfee = 0.75, infer PT's parameters\n",
      "> Now do SA....... \n",
      "\n"
     ]
    },
    {
     "name": "stderr",
     "output_type": "stream",
     "text": [
      " 15%|█▌        | 193/1276 [18:33<27:19,  1.51s/it]"
     ]
    },
    {
     "name": "stdout",
     "output_type": "stream",
     "text": [
      "STOP CODE:  Stay unchanged in the last 6 iterations\n",
      "> SA ENDS....... \n",
      "\n",
      "> avg loss: 2.370328189030322\n",
      "> For the *193_th* data_key\n",
      "> retail = 495.0,bidincrement = 0.15, bidfee = 0.75, infer PT's parameters\n",
      "> Now do SA....... \n",
      "\n"
     ]
    },
    {
     "name": "stderr",
     "output_type": "stream",
     "text": [
      " 15%|█▌        | 194/1276 [18:38<47:12,  2.62s/it]"
     ]
    },
    {
     "name": "stdout",
     "output_type": "stream",
     "text": [
      "STOP CODE:  Stay unchanged in the last 6 iterations\n",
      "> SA ENDS....... \n",
      "\n",
      "> avg loss: 2.661150544417598\n",
      "> For the *194_th* data_key\n",
      "> retail = 795.0,bidincrement = 0.15, bidfee = 0.75, infer PT's parameters\n",
      "> Now do SA....... \n",
      "\n"
     ]
    },
    {
     "name": "stderr",
     "output_type": "stream",
     "text": [
      " 15%|█▌        | 195/1276 [18:55<2:07:46,  7.09s/it]"
     ]
    },
    {
     "name": "stdout",
     "output_type": "stream",
     "text": [
      "STOP CODE:  Stay unchanged in the last 6 iterations\n",
      "> SA ENDS....... \n",
      "\n",
      "> avg loss: 7.854467822715644\n",
      "> For the *195_th* data_key\n",
      "> retail = 375.0,bidincrement = 0.15, bidfee = 0.75, infer PT's parameters\n",
      "> Now do SA....... \n",
      "\n"
     ]
    },
    {
     "name": "stderr",
     "output_type": "stream",
     "text": [
      " 15%|█▌        | 196/1276 [18:58<1:44:56,  5.83s/it]"
     ]
    },
    {
     "name": "stdout",
     "output_type": "stream",
     "text": [
      "STOP CODE:  Stay unchanged in the last 6 iterations\n",
      "> SA ENDS....... \n",
      "\n",
      "> avg loss: 3.981683762299865\n",
      "> For the *196_th* data_key\n",
      "> retail = 19.99,bidincrement = 0.15, bidfee = 0.75, infer PT's parameters\n",
      "> Now do SA....... \n",
      "\n"
     ]
    },
    {
     "name": "stderr",
     "output_type": "stream",
     "text": [
      " 15%|█▌        | 197/1276 [18:59<1:19:18,  4.41s/it]"
     ]
    },
    {
     "name": "stdout",
     "output_type": "stream",
     "text": [
      "STOP CODE:  Stay unchanged in the last 6 iterations\n",
      "> SA ENDS....... \n",
      "\n",
      "> avg loss: 1.8034588605965793\n",
      "> For the *197_th* data_key\n",
      "> retail = 12.99,bidincrement = 0.15, bidfee = 0.75, infer PT's parameters\n",
      "> Now do SA....... \n",
      "\n"
     ]
    },
    {
     "name": "stderr",
     "output_type": "stream",
     "text": [
      " 16%|█▌        | 198/1276 [19:02<1:06:44,  3.71s/it]"
     ]
    },
    {
     "name": "stdout",
     "output_type": "stream",
     "text": [
      "STOP CODE:  Stay unchanged in the last 6 iterations\n",
      "> SA ENDS....... \n",
      "\n",
      "> avg loss: 1.4558755688331042\n",
      "> For the *198_th* data_key\n",
      "> retail = 139.99,bidincrement = 0.15, bidfee = 0.75, infer PT's parameters\n",
      "> Now do SA....... \n",
      "\n"
     ]
    },
    {
     "name": "stderr",
     "output_type": "stream",
     "text": [
      " 16%|█▌        | 199/1276 [19:03<54:23,  3.03s/it]  "
     ]
    },
    {
     "name": "stdout",
     "output_type": "stream",
     "text": [
      "STOP CODE:  Stay unchanged in the last 6 iterations\n",
      "> SA ENDS....... \n",
      "\n",
      "> avg loss: 3.6450655449291367\n",
      "> For the *199_th* data_key\n",
      "> retail = 149.99,bidincrement = 0.15, bidfee = 0.75, infer PT's parameters\n",
      "> Now do SA....... \n",
      "\n"
     ]
    },
    {
     "name": "stderr",
     "output_type": "stream",
     "text": [
      " 16%|█▌        | 200/1276 [19:05<48:02,  2.68s/it]"
     ]
    },
    {
     "name": "stdout",
     "output_type": "stream",
     "text": [
      "STOP CODE:  Stay unchanged in the last 6 iterations\n",
      "> SA ENDS....... \n",
      "\n",
      "> avg loss: 3.304568342821498\n",
      "> For the *200_th* data_key\n",
      "> retail = 39.99,bidincrement = 0.15, bidfee = 0.75, infer PT's parameters\n",
      "> Now do SA....... \n",
      "\n"
     ]
    },
    {
     "name": "stderr",
     "output_type": "stream",
     "text": [
      " 16%|█▌        | 201/1276 [19:06<38:42,  2.16s/it]"
     ]
    },
    {
     "name": "stdout",
     "output_type": "stream",
     "text": [
      "STOP CODE:  Stay unchanged in the last 6 iterations\n",
      "> SA ENDS....... \n",
      "\n",
      "> avg loss: 2.3856580044466473\n",
      "> For the *201_th* data_key\n",
      "> retail = 599.99,bidincrement = 0.15, bidfee = 0.75, infer PT's parameters\n",
      "> Now do SA....... \n",
      "\n"
     ]
    },
    {
     "name": "stderr",
     "output_type": "stream",
     "text": [
      " 16%|█▌        | 202/1276 [19:13<1:05:03,  3.63s/it]"
     ]
    },
    {
     "name": "stdout",
     "output_type": "stream",
     "text": [
      "STOP CODE:  Stay unchanged in the last 6 iterations\n",
      "> SA ENDS....... \n",
      "\n",
      "> avg loss: 2.4267217900261437\n",
      "> For the *202_th* data_key\n",
      "> retail = 39.99,bidincrement = 0.15, bidfee = 0.75, infer PT's parameters\n",
      "> Now do SA....... \n",
      "\n"
     ]
    },
    {
     "name": "stderr",
     "output_type": "stream",
     "text": [
      " 16%|█▌        | 203/1276 [19:14<51:23,  2.87s/it]  "
     ]
    },
    {
     "name": "stdout",
     "output_type": "stream",
     "text": [
      "STOP CODE:  Stay unchanged in the last 6 iterations\n",
      "> SA ENDS....... \n",
      "\n",
      "> avg loss: 2.6585607450190705\n",
      "> For the *203_th* data_key\n",
      "> retail = 49.99,bidincrement = 0.15, bidfee = 0.75, infer PT's parameters\n",
      "> Now do SA....... \n",
      "\n"
     ]
    },
    {
     "name": "stderr",
     "output_type": "stream",
     "text": [
      " 16%|█▌        | 204/1276 [19:15<39:58,  2.24s/it]"
     ]
    },
    {
     "name": "stdout",
     "output_type": "stream",
     "text": [
      "STOP CODE:  Stay unchanged in the last 6 iterations\n",
      "> SA ENDS....... \n",
      "\n",
      "> avg loss: 3.075678311435479\n",
      "> For the *204_th* data_key\n",
      "> retail = 449.95,bidincrement = 0.15, bidfee = 0.75, infer PT's parameters\n",
      "> Now do SA....... \n",
      "\n"
     ]
    },
    {
     "name": "stderr",
     "output_type": "stream",
     "text": [
      " 16%|█▌        | 205/1276 [19:20<53:52,  3.02s/it]"
     ]
    },
    {
     "name": "stdout",
     "output_type": "stream",
     "text": [
      "STOP CODE:  Stay unchanged in the last 6 iterations\n",
      "> SA ENDS....... \n",
      "\n",
      "> avg loss: 2.783866529698039\n",
      "> For the *205_th* data_key\n",
      "> retail = 99.99,bidincrement = 0.15, bidfee = 0.75, infer PT's parameters\n",
      "> Now do SA....... \n",
      "\n"
     ]
    },
    {
     "name": "stderr",
     "output_type": "stream",
     "text": [
      " 16%|█▌        | 206/1276 [19:23<53:38,  3.01s/it]"
     ]
    },
    {
     "name": "stdout",
     "output_type": "stream",
     "text": [
      "STOP CODE:  Stay unchanged in the last 6 iterations\n",
      "> SA ENDS....... \n",
      "\n",
      "> avg loss: 3.0304631318991793\n",
      "> For the *206_th* data_key\n",
      "> retail = 64.79,bidincrement = 0.15, bidfee = 0.75, infer PT's parameters\n",
      "> Now do SA....... \n",
      "\n"
     ]
    },
    {
     "name": "stderr",
     "output_type": "stream",
     "text": [
      " 16%|█▌        | 207/1276 [19:23<41:29,  2.33s/it]"
     ]
    },
    {
     "name": "stdout",
     "output_type": "stream",
     "text": [
      "STOP CODE:  Stay unchanged in the last 6 iterations\n",
      "> SA ENDS....... \n",
      "\n",
      "> avg loss: 3.702715804749557\n",
      "> For the *207_th* data_key\n",
      "> retail = 32.39,bidincrement = 0.15, bidfee = 0.75, infer PT's parameters\n",
      "> Now do SA....... \n",
      "\n"
     ]
    },
    {
     "name": "stderr",
     "output_type": "stream",
     "text": [
      " 16%|█▋        | 208/1276 [19:24<32:40,  1.84s/it]"
     ]
    },
    {
     "name": "stdout",
     "output_type": "stream",
     "text": [
      "STOP CODE:  Stay unchanged in the last 6 iterations\n",
      "> SA ENDS....... \n",
      "\n",
      "> avg loss: 2.027109911053759\n",
      "> For the *208_th* data_key\n",
      "> retail = 495.0,bidincrement = 0.15, bidfee = 0.75, infer PT's parameters\n",
      "> Now do SA....... \n",
      "\n"
     ]
    },
    {
     "name": "stderr",
     "output_type": "stream",
     "text": [
      " 16%|█▋        | 209/1276 [19:27<41:13,  2.32s/it]"
     ]
    },
    {
     "name": "stdout",
     "output_type": "stream",
     "text": [
      "STOP CODE:  Stay unchanged in the last 6 iterations\n",
      "> SA ENDS....... \n",
      "\n",
      "> avg loss: 2.660368842563096\n",
      "> For the *209_th* data_key\n",
      "> retail = 349.99,bidincrement = 0.15, bidfee = 0.75, infer PT's parameters\n",
      "> Now do SA....... \n",
      "\n"
     ]
    },
    {
     "name": "stderr",
     "output_type": "stream",
     "text": [
      " 16%|█▋        | 210/1276 [19:34<1:02:00,  3.49s/it]"
     ]
    },
    {
     "name": "stdout",
     "output_type": "stream",
     "text": [
      "STOP CODE:  Stay unchanged in the last 6 iterations\n",
      "> SA ENDS....... \n",
      "\n",
      "> avg loss: 1.9578841259730495\n",
      "> For the *210_th* data_key\n",
      "> retail = 36.99,bidincrement = 0.15, bidfee = 0.75, infer PT's parameters\n",
      "> Now do SA....... \n",
      "\n"
     ]
    },
    {
     "name": "stderr",
     "output_type": "stream",
     "text": [
      " 17%|█▋        | 211/1276 [19:34<47:02,  2.65s/it]  "
     ]
    },
    {
     "name": "stdout",
     "output_type": "stream",
     "text": [
      "STOP CODE:  Stay unchanged in the last 6 iterations\n",
      "> SA ENDS....... \n",
      "\n",
      "> avg loss: 2.652482125884285\n",
      "> For the *211_th* data_key\n",
      "> retail = 29.99,bidincrement = 0.15, bidfee = 0.75, infer PT's parameters\n",
      "> Now do SA....... \n",
      "\n"
     ]
    },
    {
     "name": "stderr",
     "output_type": "stream",
     "text": [
      " 17%|█▋        | 212/1276 [19:35<35:16,  1.99s/it]"
     ]
    },
    {
     "name": "stdout",
     "output_type": "stream",
     "text": [
      "STOP CODE:  Stay unchanged in the last 6 iterations\n",
      "> SA ENDS....... \n",
      "\n",
      "> avg loss: 2.6769853379782886\n",
      "> For the *212_th* data_key\n",
      "> retail = 59.99,bidincrement = 0.15, bidfee = 0.75, infer PT's parameters\n",
      "> Now do SA....... \n",
      "\n"
     ]
    },
    {
     "name": "stderr",
     "output_type": "stream",
     "text": [
      " 17%|█▋        | 213/1276 [19:38<42:49,  2.42s/it]"
     ]
    },
    {
     "name": "stdout",
     "output_type": "stream",
     "text": [
      "STOP CODE:  Stay unchanged in the last 6 iterations\n",
      "> SA ENDS....... \n",
      "\n",
      "> avg loss: 2.139866340484216\n",
      "> For the *213_th* data_key\n",
      "> retail = 49.99,bidincrement = 0.15, bidfee = 0.75, infer PT's parameters\n",
      "> Now do SA....... \n",
      "\n"
     ]
    },
    {
     "name": "stderr",
     "output_type": "stream",
     "text": [
      " 17%|█▋        | 214/1276 [19:39<33:44,  1.91s/it]"
     ]
    },
    {
     "name": "stdout",
     "output_type": "stream",
     "text": [
      "STOP CODE:  Stay unchanged in the last 6 iterations\n",
      "> SA ENDS....... \n",
      "\n",
      "> avg loss: 2.3784314024057958\n",
      "> For the *214_th* data_key\n",
      "> retail = 49.99,bidincrement = 0.15, bidfee = 0.75, infer PT's parameters\n",
      "> Now do SA....... \n",
      "\n"
     ]
    },
    {
     "name": "stderr",
     "output_type": "stream",
     "text": [
      " 17%|█▋        | 215/1276 [19:41<32:20,  1.83s/it]"
     ]
    },
    {
     "name": "stdout",
     "output_type": "stream",
     "text": [
      "STOP CODE:  Stay unchanged in the last 6 iterations\n",
      "> SA ENDS....... \n",
      "\n",
      "> avg loss: 2.1485365904394405\n",
      "> For the *215_th* data_key\n",
      "> retail = 59.99,bidincrement = 0.15, bidfee = 0.75, infer PT's parameters\n",
      "> Now do SA....... \n",
      "\n"
     ]
    },
    {
     "name": "stderr",
     "output_type": "stream",
     "text": [
      " 17%|█▋        | 216/1276 [19:42<31:38,  1.79s/it]"
     ]
    },
    {
     "name": "stdout",
     "output_type": "stream",
     "text": [
      "STOP CODE:  Stay unchanged in the last 6 iterations\n",
      "> SA ENDS....... \n",
      "\n",
      "> avg loss: 2.4377941188939483\n",
      "> For the *216_th* data_key\n",
      "> retail = 59.99,bidincrement = 0.15, bidfee = 0.75, infer PT's parameters\n",
      "> Now do SA....... \n",
      "\n"
     ]
    },
    {
     "name": "stderr",
     "output_type": "stream",
     "text": [
      " 17%|█▋        | 217/1276 [19:44<28:59,  1.64s/it]"
     ]
    },
    {
     "name": "stdout",
     "output_type": "stream",
     "text": [
      "STOP CODE:  Stay unchanged in the last 6 iterations\n",
      "> SA ENDS....... \n",
      "\n",
      "> avg loss: 2.7697942839259952\n",
      "> For the *217_th* data_key\n",
      "> retail = 59.99,bidincrement = 0.15, bidfee = 0.75, infer PT's parameters\n",
      "> Now do SA....... \n",
      "\n"
     ]
    },
    {
     "name": "stderr",
     "output_type": "stream",
     "text": [
      " 17%|█▋        | 218/1276 [19:45<26:09,  1.48s/it]"
     ]
    },
    {
     "name": "stdout",
     "output_type": "stream",
     "text": [
      "STOP CODE:  Stay unchanged in the last 6 iterations\n",
      "> SA ENDS....... \n",
      "\n",
      "> avg loss: 2.480217121595762\n",
      "> For the *218_th* data_key\n",
      "> retail = 59.99,bidincrement = 0.15, bidfee = 0.75, infer PT's parameters\n",
      "> Now do SA....... \n",
      "\n"
     ]
    },
    {
     "name": "stderr",
     "output_type": "stream",
     "text": [
      " 17%|█▋        | 219/1276 [19:45<22:36,  1.28s/it]"
     ]
    },
    {
     "name": "stdout",
     "output_type": "stream",
     "text": [
      "STOP CODE:  Stay unchanged in the last 6 iterations\n",
      "> SA ENDS....... \n",
      "\n",
      "> avg loss: 2.582036850233486\n",
      "> For the *219_th* data_key\n",
      "> retail = 29.99,bidincrement = 0.15, bidfee = 0.75, infer PT's parameters\n",
      "> Now do SA....... \n",
      "\n"
     ]
    },
    {
     "name": "stderr",
     "output_type": "stream",
     "text": [
      " 17%|█▋        | 220/1276 [19:46<19:13,  1.09s/it]"
     ]
    },
    {
     "name": "stdout",
     "output_type": "stream",
     "text": [
      "STOP CODE:  Stay unchanged in the last 6 iterations\n",
      "> SA ENDS....... \n",
      "\n",
      "> avg loss: 2.028400186868699\n",
      "> For the *220_th* data_key\n",
      "> retail = 19.99,bidincrement = 0.15, bidfee = 0.75, infer PT's parameters\n",
      "> Now do SA....... \n",
      "\n"
     ]
    },
    {
     "name": "stderr",
     "output_type": "stream",
     "text": [
      " 17%|█▋        | 221/1276 [19:47<18:11,  1.03s/it]"
     ]
    },
    {
     "name": "stdout",
     "output_type": "stream",
     "text": [
      "STOP CODE:  Stay unchanged in the last 6 iterations\n",
      "> SA ENDS....... \n",
      "\n",
      "> avg loss: 2.179356663883554\n",
      "> For the *221_th* data_key\n",
      "> retail = 59.99,bidincrement = 0.15, bidfee = 0.75, infer PT's parameters\n",
      "> Now do SA....... \n",
      "\n"
     ]
    },
    {
     "name": "stderr",
     "output_type": "stream",
     "text": [
      " 17%|█▋        | 222/1276 [19:50<25:59,  1.48s/it]"
     ]
    },
    {
     "name": "stdout",
     "output_type": "stream",
     "text": [
      "STOP CODE:  Stay unchanged in the last 6 iterations\n",
      "> SA ENDS....... \n",
      "\n",
      "> avg loss: 2.5179703864161764\n",
      "> For the *222_th* data_key\n",
      "> retail = 899.99,bidincrement = 0.01, bidfee = 0.75, infer PT's parameters\n",
      "> Now do SA....... \n",
      "\n"
     ]
    },
    {
     "name": "stderr",
     "output_type": "stream",
     "text": [
      " 17%|█▋        | 223/1276 [20:50<5:38:42, 19.30s/it]"
     ]
    },
    {
     "name": "stdout",
     "output_type": "stream",
     "text": [
      "> 超时\n",
      "> SA ENDS....... \n",
      "\n",
      "> avg loss: 14.849231394403175\n",
      "> For the *223_th* data_key\n",
      "> retail = 29.99,bidincrement = 0.15, bidfee = 0.75, infer PT's parameters\n",
      "> Now do SA....... \n",
      "\n"
     ]
    },
    {
     "name": "stderr",
     "output_type": "stream",
     "text": [
      " 18%|█▊        | 224/1276 [20:52<4:06:25, 14.05s/it]"
     ]
    },
    {
     "name": "stdout",
     "output_type": "stream",
     "text": [
      "STOP CODE:  Stay unchanged in the last 6 iterations\n",
      "> SA ENDS....... \n",
      "\n",
      "> avg loss: 2.4043564301699965\n",
      "> For the *224_th* data_key\n",
      "> retail = 449.95,bidincrement = 0.01, bidfee = 0.75, infer PT's parameters\n",
      "> Now do SA....... \n",
      "\n"
     ]
    },
    {
     "name": "stderr",
     "output_type": "stream",
     "text": [
      " 18%|█▊        | 225/1276 [21:53<8:09:56, 27.97s/it]"
     ]
    },
    {
     "name": "stdout",
     "output_type": "stream",
     "text": [
      "> 超时\n",
      "> SA ENDS....... \n",
      "\n",
      "> avg loss: 11.822315571102925\n",
      "> For the *225_th* data_key\n",
      "> retail = 499.0,bidincrement = 0.15, bidfee = 0.75, infer PT's parameters\n",
      "> Now do SA....... \n",
      "\n"
     ]
    },
    {
     "name": "stderr",
     "output_type": "stream",
     "text": [
      " 18%|█▊        | 226/1276 [22:03<6:36:26, 22.65s/it]"
     ]
    },
    {
     "name": "stdout",
     "output_type": "stream",
     "text": [
      "STOP CODE:  Stay unchanged in the last 6 iterations\n",
      "> SA ENDS....... \n",
      "\n",
      "> avg loss: 2.442578009022929\n",
      "> For the *226_th* data_key\n",
      "> retail = 129.99,bidincrement = 0.15, bidfee = 0.75, infer PT's parameters\n",
      "> Now do SA....... \n",
      "\n"
     ]
    },
    {
     "name": "stderr",
     "output_type": "stream",
     "text": [
      " 18%|█▊        | 227/1276 [22:04<4:43:49, 16.23s/it]"
     ]
    },
    {
     "name": "stdout",
     "output_type": "stream",
     "text": [
      "STOP CODE:  Stay unchanged in the last 6 iterations\n",
      "> SA ENDS....... \n",
      "\n",
      "> avg loss: 3.344350556230125\n",
      "> For the *227_th* data_key\n",
      "> retail = 49.99,bidincrement = 0.15, bidfee = 0.75, infer PT's parameters\n",
      "> Now do SA....... \n",
      "\n"
     ]
    },
    {
     "name": "stderr",
     "output_type": "stream",
     "text": [
      " 18%|█▊        | 228/1276 [22:06<3:25:52, 11.79s/it]"
     ]
    },
    {
     "name": "stdout",
     "output_type": "stream",
     "text": [
      "STOP CODE:  Stay unchanged in the last 6 iterations\n",
      "> SA ENDS....... \n",
      "\n",
      "> avg loss: 2.946223072804244\n",
      "> For the *228_th* data_key\n",
      "> retail = 58.21,bidincrement = 0.15, bidfee = 0.75, infer PT's parameters\n",
      "> Now do SA....... \n",
      "\n"
     ]
    },
    {
     "name": "stderr",
     "output_type": "stream",
     "text": [
      " 18%|█▊        | 229/1276 [22:07<2:29:44,  8.58s/it]"
     ]
    },
    {
     "name": "stdout",
     "output_type": "stream",
     "text": [
      "STOP CODE:  Stay unchanged in the last 6 iterations\n",
      "> SA ENDS....... \n",
      "\n",
      "> avg loss: 2.794594800929622\n",
      "> For the *229_th* data_key\n",
      "> retail = 29.99,bidincrement = 0.15, bidfee = 0.75, infer PT's parameters\n",
      "> Now do SA....... \n",
      "\n"
     ]
    },
    {
     "name": "stderr",
     "output_type": "stream",
     "text": [
      " 18%|█▊        | 230/1276 [22:08<1:49:18,  6.27s/it]"
     ]
    },
    {
     "name": "stdout",
     "output_type": "stream",
     "text": [
      "STOP CODE:  Stay unchanged in the last 6 iterations\n",
      "> SA ENDS....... \n",
      "\n",
      "> avg loss: 2.735535000682175\n",
      "> For the *230_th* data_key\n",
      "> retail = 39.99,bidincrement = 0.15, bidfee = 0.75, infer PT's parameters\n",
      "> Now do SA....... \n",
      "\n"
     ]
    },
    {
     "name": "stderr",
     "output_type": "stream",
     "text": [
      " 18%|█▊        | 231/1276 [22:08<1:21:13,  4.66s/it]"
     ]
    },
    {
     "name": "stdout",
     "output_type": "stream",
     "text": [
      "STOP CODE:  Stay unchanged in the last 6 iterations\n",
      "> SA ENDS....... \n",
      "\n",
      "> avg loss: 2.5686445907875144\n",
      "> For the *231_th* data_key\n",
      "> retail = 115.5,bidincrement = 0.15, bidfee = 0.75, infer PT's parameters\n",
      "> Now do SA....... \n",
      "\n"
     ]
    },
    {
     "name": "stderr",
     "output_type": "stream",
     "text": [
      " 18%|█▊        | 232/1276 [22:10<1:05:04,  3.74s/it]"
     ]
    },
    {
     "name": "stdout",
     "output_type": "stream",
     "text": [
      "STOP CODE:  Stay unchanged in the last 6 iterations\n",
      "> SA ENDS....... \n",
      "\n",
      "> avg loss: 2.633880631771448\n",
      "> For the *232_th* data_key\n",
      "> retail = 39.99,bidincrement = 0.15, bidfee = 0.75, infer PT's parameters\n",
      "> Now do SA....... \n",
      "\n"
     ]
    },
    {
     "name": "stderr",
     "output_type": "stream",
     "text": [
      " 18%|█▊        | 233/1276 [22:12<57:46,  3.32s/it]  "
     ]
    },
    {
     "name": "stdout",
     "output_type": "stream",
     "text": [
      "STOP CODE:  Stay unchanged in the last 6 iterations\n",
      "> SA ENDS....... \n",
      "\n",
      "> avg loss: 2.6413640837494934\n",
      "> For the *233_th* data_key\n",
      "> retail = 12.99,bidincrement = 0.15, bidfee = 0.75, infer PT's parameters\n",
      "> Now do SA....... \n",
      "\n"
     ]
    },
    {
     "name": "stderr",
     "output_type": "stream",
     "text": [
      " 18%|█▊        | 234/1276 [22:14<46:24,  2.67s/it]"
     ]
    },
    {
     "name": "stdout",
     "output_type": "stream",
     "text": [
      "STOP CODE:  Stay unchanged in the last 6 iterations\n",
      "> SA ENDS....... \n",
      "\n",
      "> avg loss: 2.138289978206983\n",
      "> For the *234_th* data_key\n",
      "> retail = 29.99,bidincrement = 0.15, bidfee = 0.75, infer PT's parameters\n",
      "> Now do SA....... \n",
      "\n"
     ]
    },
    {
     "name": "stderr",
     "output_type": "stream",
     "text": [
      " 18%|█▊        | 235/1276 [22:14<36:14,  2.09s/it]"
     ]
    },
    {
     "name": "stdout",
     "output_type": "stream",
     "text": [
      "STOP CODE:  Stay unchanged in the last 6 iterations\n",
      "> SA ENDS....... \n",
      "\n",
      "> avg loss: 2.762982638020552\n",
      "> For the *235_th* data_key\n",
      "> retail = 599.99,bidincrement = 0.15, bidfee = 0.75, infer PT's parameters\n",
      "> Now do SA....... \n",
      "\n"
     ]
    },
    {
     "name": "stderr",
     "output_type": "stream",
     "text": [
      " 18%|█▊        | 236/1276 [22:24<1:13:50,  4.26s/it]"
     ]
    },
    {
     "name": "stdout",
     "output_type": "stream",
     "text": [
      "STOP CODE:  Stay unchanged in the last 6 iterations\n",
      "> SA ENDS....... \n",
      "\n",
      "> avg loss: 2.482664370530348\n",
      "> For the *236_th* data_key\n",
      "> retail = 99.99,bidincrement = 0.15, bidfee = 0.75, infer PT's parameters\n",
      "> Now do SA....... \n",
      "\n"
     ]
    },
    {
     "name": "stderr",
     "output_type": "stream",
     "text": [
      " 19%|█▊        | 237/1276 [22:25<1:01:14,  3.54s/it]"
     ]
    },
    {
     "name": "stdout",
     "output_type": "stream",
     "text": [
      "STOP CODE:  Stay unchanged in the last 6 iterations\n",
      "> SA ENDS....... \n",
      "\n",
      "> avg loss: 3.048922358829161\n",
      "> For the *237_th* data_key\n",
      "> retail = 99.99,bidincrement = 0.15, bidfee = 0.75, infer PT's parameters\n",
      "> Now do SA....... \n",
      "\n"
     ]
    },
    {
     "name": "stderr",
     "output_type": "stream",
     "text": [
      " 19%|█▊        | 238/1276 [22:27<52:23,  3.03s/it]  "
     ]
    },
    {
     "name": "stdout",
     "output_type": "stream",
     "text": [
      "STOP CODE:  Stay unchanged in the last 6 iterations\n",
      "> SA ENDS....... \n",
      "\n",
      "> avg loss: 3.1846013998194915\n",
      "> For the *238_th* data_key\n",
      "> retail = 54.99,bidincrement = 0.15, bidfee = 0.75, infer PT's parameters\n",
      "> Now do SA....... \n",
      "\n"
     ]
    },
    {
     "name": "stderr",
     "output_type": "stream",
     "text": [
      " 19%|█▊        | 239/1276 [22:29<45:37,  2.64s/it]"
     ]
    },
    {
     "name": "stdout",
     "output_type": "stream",
     "text": [
      "STOP CODE:  Stay unchanged in the last 6 iterations\n",
      "> SA ENDS....... \n",
      "\n",
      "> avg loss: 2.74649694739229\n",
      "> For the *239_th* data_key\n",
      "> retail = 29.99,bidincrement = 0.15, bidfee = 0.75, infer PT's parameters\n",
      "> Now do SA....... \n",
      "\n"
     ]
    },
    {
     "name": "stderr",
     "output_type": "stream",
     "text": [
      " 19%|█▉        | 240/1276 [22:30<34:31,  2.00s/it]"
     ]
    },
    {
     "name": "stdout",
     "output_type": "stream",
     "text": [
      "STOP CODE:  Stay unchanged in the last 6 iterations\n",
      "> SA ENDS....... \n",
      "\n",
      "> avg loss: 2.8918648730355105\n",
      "> For the *240_th* data_key\n",
      "> retail = 29.95,bidincrement = 0.15, bidfee = 0.75, infer PT's parameters\n",
      "> Now do SA....... \n",
      "\n"
     ]
    },
    {
     "name": "stderr",
     "output_type": "stream",
     "text": [
      " 19%|█▉        | 241/1276 [22:30<28:21,  1.64s/it]"
     ]
    },
    {
     "name": "stdout",
     "output_type": "stream",
     "text": [
      "STOP CODE:  Stay unchanged in the last 6 iterations\n",
      "> SA ENDS....... \n",
      "\n",
      "> avg loss: 2.9421660342170135\n",
      "> For the *241_th* data_key\n",
      "> retail = 39.99,bidincrement = 0.15, bidfee = 0.75, infer PT's parameters\n",
      "> Now do SA....... \n",
      "\n"
     ]
    },
    {
     "name": "stderr",
     "output_type": "stream",
     "text": [
      " 19%|█▉        | 242/1276 [22:31<24:14,  1.41s/it]"
     ]
    },
    {
     "name": "stdout",
     "output_type": "stream",
     "text": [
      "STOP CODE:  Stay unchanged in the last 6 iterations\n",
      "> SA ENDS....... \n",
      "\n",
      "> avg loss: 2.813303751752768\n",
      "> For the *242_th* data_key\n",
      "> retail = 39.99,bidincrement = 0.15, bidfee = 0.75, infer PT's parameters\n",
      "> Now do SA....... \n",
      "\n"
     ]
    },
    {
     "name": "stderr",
     "output_type": "stream",
     "text": [
      " 19%|█▉        | 243/1276 [22:32<20:00,  1.16s/it]"
     ]
    },
    {
     "name": "stdout",
     "output_type": "stream",
     "text": [
      "STOP CODE:  Stay unchanged in the last 6 iterations\n",
      "> SA ENDS....... \n",
      "\n",
      "> avg loss: 2.372582200782379\n",
      "> For the *243_th* data_key\n",
      "> retail = 29.99,bidincrement = 0.15, bidfee = 0.75, infer PT's parameters\n",
      "> Now do SA....... \n",
      "\n"
     ]
    },
    {
     "name": "stderr",
     "output_type": "stream",
     "text": [
      " 19%|█▉        | 244/1276 [22:33<22:23,  1.30s/it]"
     ]
    },
    {
     "name": "stdout",
     "output_type": "stream",
     "text": [
      "STOP CODE:  Stay unchanged in the last 6 iterations\n",
      "> SA ENDS....... \n",
      "\n",
      "> avg loss: 1.9427117959053768\n",
      "> For the *244_th* data_key\n",
      "> retail = 49.99,bidincrement = 0.15, bidfee = 0.75, infer PT's parameters\n",
      "> Now do SA....... \n",
      "\n"
     ]
    },
    {
     "name": "stderr",
     "output_type": "stream",
     "text": [
      " 19%|█▉        | 245/1276 [22:35<25:03,  1.46s/it]"
     ]
    },
    {
     "name": "stdout",
     "output_type": "stream",
     "text": [
      "STOP CODE:  Stay unchanged in the last 6 iterations\n",
      "> SA ENDS....... \n",
      "\n",
      "> avg loss: 1.621521752177651\n",
      "> For the *245_th* data_key\n",
      "> retail = 28.95,bidincrement = 0.15, bidfee = 0.75, infer PT's parameters\n",
      "> Now do SA....... \n",
      "\n"
     ]
    },
    {
     "name": "stderr",
     "output_type": "stream",
     "text": [
      " 19%|█▉        | 246/1276 [22:36<21:17,  1.24s/it]"
     ]
    },
    {
     "name": "stdout",
     "output_type": "stream",
     "text": [
      "STOP CODE:  Stay unchanged in the last 6 iterations\n",
      "> SA ENDS....... \n",
      "\n",
      "> avg loss: 2.447769214591626\n",
      "> For the *246_th* data_key\n",
      "> retail = 44.98,bidincrement = 0.15, bidfee = 0.75, infer PT's parameters\n",
      "> Now do SA....... \n",
      "\n"
     ]
    },
    {
     "name": "stderr",
     "output_type": "stream",
     "text": [
      " 19%|█▉        | 247/1276 [22:37<18:54,  1.10s/it]"
     ]
    },
    {
     "name": "stdout",
     "output_type": "stream",
     "text": [
      "STOP CODE:  Stay unchanged in the last 6 iterations\n",
      "> SA ENDS....... \n",
      "\n",
      "> avg loss: 2.033565880860668\n",
      "> For the *247_th* data_key\n",
      "> retail = 39.99,bidincrement = 0.15, bidfee = 0.75, infer PT's parameters\n",
      "> Now do SA....... \n",
      "\n"
     ]
    },
    {
     "name": "stderr",
     "output_type": "stream",
     "text": [
      " 19%|█▉        | 248/1276 [22:40<28:18,  1.65s/it]"
     ]
    },
    {
     "name": "stdout",
     "output_type": "stream",
     "text": [
      "STOP CODE:  Stay unchanged in the last 6 iterations\n",
      "> SA ENDS....... \n",
      "\n",
      "> avg loss: 2.3669066355233053\n",
      "> For the *248_th* data_key\n",
      "> retail = 249.99,bidincrement = 0.15, bidfee = 0.75, infer PT's parameters\n",
      "> Now do SA....... \n",
      "\n"
     ]
    },
    {
     "name": "stderr",
     "output_type": "stream",
     "text": [
      " 20%|█▉        | 249/1276 [22:42<30:35,  1.79s/it]"
     ]
    },
    {
     "name": "stdout",
     "output_type": "stream",
     "text": [
      "STOP CODE:  Stay unchanged in the last 6 iterations\n",
      "> SA ENDS....... \n",
      "\n",
      "> avg loss: 4.786637207831672\n",
      "> For the *249_th* data_key\n",
      "> retail = 1599.0,bidincrement = 0.01, bidfee = 0.75, infer PT's parameters\n",
      "> Now do SA....... \n",
      "\n"
     ]
    },
    {
     "name": "stderr",
     "output_type": "stream",
     "text": [
      " 20%|█▉        | 250/1276 [23:43<5:36:53, 19.70s/it]"
     ]
    },
    {
     "name": "stdout",
     "output_type": "stream",
     "text": [
      "> 超时\n",
      "> SA ENDS....... \n",
      "\n",
      "> avg loss: 18.930623268387937\n",
      "> For the *250_th* data_key\n",
      "> retail = 49.99,bidincrement = 0.15, bidfee = 0.75, infer PT's parameters\n",
      "> Now do SA....... \n",
      "\n"
     ]
    },
    {
     "name": "stderr",
     "output_type": "stream",
     "text": [
      " 20%|█▉        | 251/1276 [23:45<4:03:23, 14.25s/it]"
     ]
    },
    {
     "name": "stdout",
     "output_type": "stream",
     "text": [
      "STOP CODE:  Stay unchanged in the last 6 iterations\n",
      "> SA ENDS....... \n",
      "\n",
      "> avg loss: 3.1861172661951587\n",
      "> For the *251_th* data_key\n",
      "> retail = 49.99,bidincrement = 0.15, bidfee = 0.75, infer PT's parameters\n",
      "> Now do SA....... \n",
      "\n"
     ]
    },
    {
     "name": "stderr",
     "output_type": "stream",
     "text": [
      " 20%|█▉        | 252/1276 [23:46<2:55:56, 10.31s/it]"
     ]
    },
    {
     "name": "stdout",
     "output_type": "stream",
     "text": [
      "STOP CODE:  Stay unchanged in the last 6 iterations\n",
      "> SA ENDS....... \n",
      "\n",
      "> avg loss: 2.2133731506723486\n",
      "> For the *252_th* data_key\n",
      "> retail = 59.99,bidincrement = 0.15, bidfee = 0.75, infer PT's parameters\n",
      "> Now do SA....... \n",
      "\n"
     ]
    },
    {
     "name": "stderr",
     "output_type": "stream",
     "text": [
      " 20%|█▉        | 253/1276 [23:47<2:10:08,  7.63s/it]"
     ]
    },
    {
     "name": "stdout",
     "output_type": "stream",
     "text": [
      "STOP CODE:  Stay unchanged in the last 6 iterations\n",
      "> SA ENDS....... \n",
      "\n",
      "> avg loss: 2.721983559659612\n",
      "> For the *253_th* data_key\n",
      "> retail = 34.99,bidincrement = 0.15, bidfee = 0.75, infer PT's parameters\n",
      "> Now do SA....... \n",
      "\n"
     ]
    },
    {
     "name": "stderr",
     "output_type": "stream",
     "text": [
      " 20%|█▉        | 254/1276 [23:48<1:35:33,  5.61s/it]"
     ]
    },
    {
     "name": "stdout",
     "output_type": "stream",
     "text": [
      "STOP CODE:  Stay unchanged in the last 6 iterations\n",
      "> SA ENDS....... \n",
      "\n",
      "> avg loss: 2.4069524452003654\n",
      "> For the *254_th* data_key\n",
      "> retail = 19.99,bidincrement = 0.15, bidfee = 0.75, infer PT's parameters\n",
      "> Now do SA....... \n",
      "\n"
     ]
    },
    {
     "name": "stderr",
     "output_type": "stream",
     "text": [
      " 20%|█▉        | 255/1276 [23:49<1:09:32,  4.09s/it]"
     ]
    },
    {
     "name": "stdout",
     "output_type": "stream",
     "text": [
      "STOP CODE:  Stay unchanged in the last 6 iterations\n",
      "> SA ENDS....... \n",
      "\n",
      "> avg loss: 2.2589299984473725\n",
      "> For the *255_th* data_key\n",
      "> retail = 129.99,bidincrement = 0.15, bidfee = 0.75, infer PT's parameters\n",
      "> Now do SA....... \n",
      "\n"
     ]
    },
    {
     "name": "stderr",
     "output_type": "stream",
     "text": [
      " 20%|██        | 256/1276 [23:50<55:10,  3.25s/it]  "
     ]
    },
    {
     "name": "stdout",
     "output_type": "stream",
     "text": [
      "STOP CODE:  Stay unchanged in the last 6 iterations\n",
      "> SA ENDS....... \n",
      "\n",
      "> avg loss: 3.111906558271741\n",
      "> For the *256_th* data_key\n",
      "> retail = 45.0,bidincrement = 0.15, bidfee = 0.75, infer PT's parameters\n",
      "> Now do SA....... \n",
      "\n"
     ]
    },
    {
     "name": "stderr",
     "output_type": "stream",
     "text": [
      " 20%|██        | 257/1276 [23:52<48:51,  2.88s/it]"
     ]
    },
    {
     "name": "stdout",
     "output_type": "stream",
     "text": [
      "STOP CODE:  Stay unchanged in the last 6 iterations\n",
      "> SA ENDS....... \n",
      "\n",
      "> avg loss: 2.5131188049434168\n",
      "> For the *257_th* data_key\n",
      "> retail = 129.99,bidincrement = 0.15, bidfee = 0.75, infer PT's parameters\n",
      "> Now do SA....... \n",
      "\n"
     ]
    },
    {
     "name": "stderr",
     "output_type": "stream",
     "text": [
      " 20%|██        | 258/1276 [23:55<48:37,  2.87s/it]"
     ]
    },
    {
     "name": "stdout",
     "output_type": "stream",
     "text": [
      "STOP CODE:  Stay unchanged in the last 6 iterations\n",
      "> SA ENDS....... \n",
      "\n",
      "> avg loss: 5.345962257578997\n",
      "> For the *258_th* data_key\n",
      "> retail = 162.89,bidincrement = 0.15, bidfee = 0.75, infer PT's parameters\n",
      "> Now do SA....... \n",
      "\n"
     ]
    },
    {
     "name": "stderr",
     "output_type": "stream",
     "text": [
      " 20%|██        | 259/1276 [23:56<40:28,  2.39s/it]"
     ]
    },
    {
     "name": "stdout",
     "output_type": "stream",
     "text": [
      "STOP CODE:  Stay unchanged in the last 6 iterations\n",
      "> SA ENDS....... \n",
      "\n",
      "> avg loss: 2.838215507851711\n",
      "> For the *259_th* data_key\n",
      "> retail = 380.13,bidincrement = 0.15, bidfee = 0.75, infer PT's parameters\n",
      "> Now do SA....... \n",
      "\n"
     ]
    },
    {
     "name": "stderr",
     "output_type": "stream",
     "text": [
      " 20%|██        | 260/1276 [24:01<50:30,  2.98s/it]"
     ]
    },
    {
     "name": "stdout",
     "output_type": "stream",
     "text": [
      "STOP CODE:  Stay unchanged in the last 6 iterations\n",
      "> SA ENDS....... \n",
      "\n",
      "> avg loss: 3.508524409930276\n",
      "> For the *260_th* data_key\n",
      "> retail = 1199.0,bidincrement = 0.01, bidfee = 0.75, infer PT's parameters\n",
      "> Now do SA....... \n",
      "\n"
     ]
    },
    {
     "name": "stderr",
     "output_type": "stream",
     "text": [
      " 20%|██        | 261/1276 [25:02<5:45:31, 20.43s/it]"
     ]
    },
    {
     "name": "stdout",
     "output_type": "stream",
     "text": [
      "> 超时\n",
      "> SA ENDS....... \n",
      "\n",
      "> avg loss: 16.167015291906548\n",
      "> For the *261_th* data_key\n",
      "> retail = 1299.0,bidincrement = 0.01, bidfee = 0.75, infer PT's parameters\n",
      "> Now do SA....... \n",
      "\n"
     ]
    },
    {
     "name": "stderr",
     "output_type": "stream",
     "text": [
      " 21%|██        | 262/1276 [26:03<9:12:45, 32.71s/it]"
     ]
    },
    {
     "name": "stdout",
     "output_type": "stream",
     "text": [
      "> 超时\n",
      "> SA ENDS....... \n",
      "\n",
      "> avg loss: 17.057017572686593\n",
      "> For the *262_th* data_key\n",
      "> retail = 499.99,bidincrement = 0.15, bidfee = 0.75, infer PT's parameters\n",
      "> Now do SA....... \n",
      "\n"
     ]
    },
    {
     "name": "stderr",
     "output_type": "stream",
     "text": [
      " 21%|██        | 263/1276 [26:08<6:52:02, 24.41s/it]"
     ]
    },
    {
     "name": "stdout",
     "output_type": "stream",
     "text": [
      "STOP CODE:  Stay unchanged in the last 6 iterations\n",
      "> SA ENDS....... \n",
      "\n",
      "> avg loss: 2.0251285429322134\n",
      "> For the *263_th* data_key\n",
      "> retail = 29.92,bidincrement = 0.15, bidfee = 0.75, infer PT's parameters\n",
      "> Now do SA....... \n",
      "\n"
     ]
    },
    {
     "name": "stderr",
     "output_type": "stream",
     "text": [
      " 21%|██        | 264/1276 [26:09<4:52:40, 17.35s/it]"
     ]
    },
    {
     "name": "stdout",
     "output_type": "stream",
     "text": [
      "STOP CODE:  Stay unchanged in the last 6 iterations\n",
      "> SA ENDS....... \n",
      "\n",
      "> avg loss: 2.608988610851694\n",
      "> For the *264_th* data_key\n",
      "> retail = 218.99,bidincrement = 0.15, bidfee = 0.75, infer PT's parameters\n",
      "> Now do SA....... \n",
      "\n"
     ]
    },
    {
     "name": "stderr",
     "output_type": "stream",
     "text": [
      " 21%|██        | 265/1276 [26:11<3:35:27, 12.79s/it]"
     ]
    },
    {
     "name": "stdout",
     "output_type": "stream",
     "text": [
      "STOP CODE:  Stay unchanged in the last 6 iterations\n",
      "> SA ENDS....... \n",
      "\n",
      "> avg loss: 3.0441299812323037\n",
      "> For the *265_th* data_key\n",
      "> retail = 499.0,bidincrement = 0.15, bidfee = 0.75, infer PT's parameters\n",
      "> Now do SA....... \n",
      "\n"
     ]
    },
    {
     "name": "stderr",
     "output_type": "stream",
     "text": [
      " 21%|██        | 266/1276 [26:17<3:02:50, 10.86s/it]"
     ]
    },
    {
     "name": "stdout",
     "output_type": "stream",
     "text": [
      "STOP CODE:  Stay unchanged in the last 6 iterations\n",
      "> SA ENDS....... \n",
      "\n",
      "> avg loss: 2.9604409125424063\n",
      "> For the *266_th* data_key\n",
      "> retail = 102.99,bidincrement = 0.15, bidfee = 0.75, infer PT's parameters\n",
      "> Now do SA....... \n",
      "\n"
     ]
    },
    {
     "name": "stderr",
     "output_type": "stream",
     "text": [
      " 21%|██        | 267/1276 [26:18<2:12:27,  7.88s/it]"
     ]
    },
    {
     "name": "stdout",
     "output_type": "stream",
     "text": [
      "STOP CODE:  Stay unchanged in the last 6 iterations\n",
      "> SA ENDS....... \n",
      "\n",
      "> avg loss: 3.73204474495144\n",
      "> For the *267_th* data_key\n",
      "> retail = 1049.0,bidincrement = 0.15, bidfee = 0.75, infer PT's parameters\n",
      "> Now do SA....... \n",
      "\n"
     ]
    },
    {
     "name": "stderr",
     "output_type": "stream",
     "text": [
      " 21%|██        | 268/1276 [26:36<2:59:09, 10.66s/it]"
     ]
    },
    {
     "name": "stdout",
     "output_type": "stream",
     "text": [
      "STOP CODE:  Stay unchanged in the last 6 iterations\n",
      "> SA ENDS....... \n",
      "\n",
      "> avg loss: 8.128311976355498\n",
      "> For the *268_th* data_key\n",
      "> retail = 129.95,bidincrement = 0.15, bidfee = 0.75, infer PT's parameters\n",
      "> Now do SA....... \n",
      "\n"
     ]
    },
    {
     "name": "stderr",
     "output_type": "stream",
     "text": [
      " 21%|██        | 269/1276 [26:37<2:12:46,  7.91s/it]"
     ]
    },
    {
     "name": "stdout",
     "output_type": "stream",
     "text": [
      "STOP CODE:  Stay unchanged in the last 6 iterations\n",
      "> SA ENDS....... \n",
      "\n",
      "> avg loss: 3.1036023781355477\n",
      "> For the *269_th* data_key\n",
      "> retail = 99.99,bidincrement = 0.15, bidfee = 0.75, infer PT's parameters\n",
      "> Now do SA....... \n",
      "\n"
     ]
    },
    {
     "name": "stderr",
     "output_type": "stream",
     "text": [
      " 21%|██        | 270/1276 [26:39<1:42:56,  6.14s/it]"
     ]
    },
    {
     "name": "stdout",
     "output_type": "stream",
     "text": [
      "STOP CODE:  Stay unchanged in the last 6 iterations\n",
      "> SA ENDS....... \n",
      "\n",
      "> avg loss: 3.963152621874527\n",
      "> For the *270_th* data_key\n",
      "> retail = 119.99,bidincrement = 0.15, bidfee = 0.75, infer PT's parameters\n",
      "> Now do SA....... \n",
      "\n"
     ]
    },
    {
     "name": "stderr",
     "output_type": "stream",
     "text": [
      " 21%|██        | 271/1276 [26:41<1:22:03,  4.90s/it]"
     ]
    },
    {
     "name": "stdout",
     "output_type": "stream",
     "text": [
      "STOP CODE:  Stay unchanged in the last 6 iterations\n",
      "> SA ENDS....... \n",
      "\n",
      "> avg loss: 4.151088485621119\n",
      "> For the *271_th* data_key\n",
      "> retail = 1299.95,bidincrement = 0.01, bidfee = 0.75, infer PT's parameters\n",
      "> Now do SA....... \n",
      "\n"
     ]
    },
    {
     "name": "stderr",
     "output_type": "stream",
     "text": [
      " 21%|██▏       | 272/1276 [27:42<6:05:07, 21.82s/it]"
     ]
    },
    {
     "name": "stdout",
     "output_type": "stream",
     "text": [
      "> 超时\n",
      "> SA ENDS....... \n",
      "\n",
      "> avg loss: 17.17587583397064\n",
      "> For the *272_th* data_key\n",
      "> retail = 140.0,bidincrement = 0.15, bidfee = 0.75, infer PT's parameters\n",
      "> Now do SA....... \n",
      "\n"
     ]
    },
    {
     "name": "stderr",
     "output_type": "stream",
     "text": [
      " 21%|██▏       | 273/1276 [27:46<4:34:03, 16.39s/it]"
     ]
    },
    {
     "name": "stdout",
     "output_type": "stream",
     "text": [
      "STOP CODE:  Stay unchanged in the last 6 iterations\n",
      "> SA ENDS....... \n",
      "\n",
      "> avg loss: 4.330432589103034\n",
      "> For the *273_th* data_key\n",
      "> retail = 39.95,bidincrement = 0.15, bidfee = 0.75, infer PT's parameters\n",
      "> Now do SA....... \n",
      "\n"
     ]
    },
    {
     "name": "stderr",
     "output_type": "stream",
     "text": [
      " 21%|██▏       | 274/1276 [27:47<3:17:30, 11.83s/it]"
     ]
    },
    {
     "name": "stdout",
     "output_type": "stream",
     "text": [
      "STOP CODE:  Stay unchanged in the last 6 iterations\n",
      "> SA ENDS....... \n",
      "\n",
      "> avg loss: 2.4557254861218363\n",
      "> For the *274_th* data_key\n",
      "> retail = 49.99,bidincrement = 0.15, bidfee = 0.75, infer PT's parameters\n",
      "> Now do SA....... \n",
      "\n"
     ]
    },
    {
     "name": "stderr",
     "output_type": "stream",
     "text": [
      " 22%|██▏       | 275/1276 [27:49<2:25:26,  8.72s/it]"
     ]
    },
    {
     "name": "stdout",
     "output_type": "stream",
     "text": [
      "STOP CODE:  Stay unchanged in the last 6 iterations\n",
      "> SA ENDS....... \n",
      "\n",
      "> avg loss: 2.9955231879711457\n",
      "> For the *275_th* data_key\n",
      "> retail = 17.95,bidincrement = 0.15, bidfee = 0.75, infer PT's parameters\n",
      "> Now do SA....... \n",
      "\n"
     ]
    },
    {
     "name": "stderr",
     "output_type": "stream",
     "text": [
      " 22%|██▏       | 276/1276 [27:49<1:44:58,  6.30s/it]"
     ]
    },
    {
     "name": "stdout",
     "output_type": "stream",
     "text": [
      "STOP CODE:  Stay unchanged in the last 6 iterations\n",
      "> SA ENDS....... \n",
      "\n",
      "> avg loss: 2.2076975591602648\n",
      "> For the *276_th* data_key\n",
      "> retail = 89.99,bidincrement = 0.15, bidfee = 0.75, infer PT's parameters\n",
      "> Now do SA....... \n",
      "\n"
     ]
    },
    {
     "name": "stderr",
     "output_type": "stream",
     "text": [
      " 22%|██▏       | 277/1276 [27:50<1:18:20,  4.71s/it]"
     ]
    },
    {
     "name": "stdout",
     "output_type": "stream",
     "text": [
      "STOP CODE:  Stay unchanged in the last 6 iterations\n",
      "> SA ENDS....... \n",
      "\n",
      "> avg loss: 4.007875615949195\n",
      "> For the *277_th* data_key\n",
      "> retail = 51.14,bidincrement = 0.15, bidfee = 0.75, infer PT's parameters\n",
      "> Now do SA....... \n",
      "\n"
     ]
    },
    {
     "name": "stderr",
     "output_type": "stream",
     "text": [
      " 22%|██▏       | 278/1276 [27:51<59:17,  3.57s/it]  "
     ]
    },
    {
     "name": "stdout",
     "output_type": "stream",
     "text": [
      "STOP CODE:  Stay unchanged in the last 6 iterations\n",
      "> SA ENDS....... \n",
      "\n",
      "> avg loss: 2.7089455901665906\n",
      "> For the *278_th* data_key\n",
      "> retail = 249.99,bidincrement = 0.01, bidfee = 0.75, infer PT's parameters\n",
      "> Now do SA....... \n",
      "\n"
     ]
    },
    {
     "name": "stderr",
     "output_type": "stream",
     "text": [
      " 22%|██▏       | 279/1276 [28:17<2:47:35, 10.09s/it]"
     ]
    },
    {
     "name": "stdout",
     "output_type": "stream",
     "text": [
      "STOP CODE:  Stay unchanged in the last 6 iterations\n",
      "> SA ENDS....... \n",
      "\n",
      "> avg loss: 6.979984786148472\n",
      "> For the *279_th* data_key\n",
      "> retail = 139.95,bidincrement = 0.15, bidfee = 0.75, infer PT's parameters\n",
      "> Now do SA....... \n",
      "\n"
     ]
    },
    {
     "name": "stderr",
     "output_type": "stream",
     "text": [
      " 22%|██▏       | 280/1276 [28:18<2:06:43,  7.63s/it]"
     ]
    },
    {
     "name": "stdout",
     "output_type": "stream",
     "text": [
      "STOP CODE:  Stay unchanged in the last 6 iterations\n",
      "> SA ENDS....... \n",
      "\n",
      "> avg loss: 2.893090004729934\n",
      "> For the *280_th* data_key\n",
      "> retail = 49.99,bidincrement = 0.15, bidfee = 0.75, infer PT's parameters\n",
      "> Now do SA....... \n",
      "\n"
     ]
    },
    {
     "name": "stderr",
     "output_type": "stream",
     "text": [
      " 22%|██▏       | 281/1276 [28:19<1:32:13,  5.56s/it]"
     ]
    },
    {
     "name": "stdout",
     "output_type": "stream",
     "text": [
      "STOP CODE:  Stay unchanged in the last 6 iterations\n",
      "> SA ENDS....... \n",
      "\n",
      "> avg loss: 3.0055550608742205\n",
      "> For the *281_th* data_key\n",
      "> retail = 97.92,bidincrement = 0.15, bidfee = 0.75, infer PT's parameters\n",
      "> Now do SA....... \n",
      "\n"
     ]
    },
    {
     "name": "stderr",
     "output_type": "stream",
     "text": [
      " 22%|██▏       | 282/1276 [28:22<1:16:37,  4.62s/it]"
     ]
    },
    {
     "name": "stdout",
     "output_type": "stream",
     "text": [
      "STOP CODE:  Stay unchanged in the last 6 iterations\n",
      "> SA ENDS....... \n",
      "\n",
      "> avg loss: 2.5396428797078916\n",
      "> For the *282_th* data_key\n",
      "> retail = 549.95,bidincrement = 0.01, bidfee = 0.75, infer PT's parameters\n",
      "> Now do SA....... \n",
      "\n"
     ]
    },
    {
     "name": "stderr",
     "output_type": "stream",
     "text": [
      " 22%|██▏       | 283/1276 [29:22<5:54:36, 21.43s/it]"
     ]
    },
    {
     "name": "stdout",
     "output_type": "stream",
     "text": [
      "> 超时\n",
      "> SA ENDS....... \n",
      "\n",
      "> avg loss: 13.056834482471722\n",
      "> For the *283_th* data_key\n",
      "> retail = 679.0,bidincrement = 0.15, bidfee = 0.75, infer PT's parameters\n",
      "> Now do SA....... \n",
      "\n"
     ]
    },
    {
     "name": "stderr",
     "output_type": "stream",
     "text": [
      " 22%|██▏       | 284/1276 [29:27<4:32:55, 16.51s/it]"
     ]
    },
    {
     "name": "stdout",
     "output_type": "stream",
     "text": [
      "STOP CODE:  Stay unchanged in the last 6 iterations\n",
      "> SA ENDS....... \n",
      "\n",
      "> avg loss: 2.9099222732045282\n",
      "> For the *284_th* data_key\n",
      "> retail = 189.99,bidincrement = 0.15, bidfee = 0.75, infer PT's parameters\n",
      "> Now do SA....... \n",
      "\n"
     ]
    },
    {
     "name": "stderr",
     "output_type": "stream",
     "text": [
      " 22%|██▏       | 285/1276 [29:29<3:21:24, 12.19s/it]"
     ]
    },
    {
     "name": "stdout",
     "output_type": "stream",
     "text": [
      "STOP CODE:  Stay unchanged in the last 6 iterations\n",
      "> SA ENDS....... \n",
      "\n",
      "> avg loss: 2.0424168751353506\n",
      "> For the *285_th* data_key\n",
      "> retail = 729.99,bidincrement = 0.01, bidfee = 0.75, infer PT's parameters\n",
      "> Now do SA....... \n",
      "\n"
     ]
    },
    {
     "name": "stderr",
     "output_type": "stream",
     "text": [
      " 22%|██▏       | 286/1276 [30:30<7:21:41, 26.77s/it]"
     ]
    },
    {
     "name": "stdout",
     "output_type": "stream",
     "text": [
      "> 超时\n",
      "> SA ENDS....... \n",
      "\n",
      "> avg loss: 13.930953324774864\n",
      "> For the *286_th* data_key\n",
      "> retail = 1200.0,bidincrement = 0.01, bidfee = 0.75, infer PT's parameters\n",
      "> Now do SA....... \n",
      "\n"
     ]
    },
    {
     "name": "stderr",
     "output_type": "stream",
     "text": [
      " 22%|██▏       | 287/1276 [31:32<10:16:38, 37.41s/it]"
     ]
    },
    {
     "name": "stdout",
     "output_type": "stream",
     "text": [
      "> 超时\n",
      "> SA ENDS....... \n",
      "\n",
      "> avg loss: 16.877664864061035\n",
      "> For the *287_th* data_key\n",
      "> retail = 49.99,bidincrement = 0.15, bidfee = 0.75, infer PT's parameters\n",
      "> Now do SA....... \n",
      "\n"
     ]
    },
    {
     "name": "stderr",
     "output_type": "stream",
     "text": [
      " 23%|██▎       | 288/1276 [31:35<7:24:15, 26.98s/it] "
     ]
    },
    {
     "name": "stdout",
     "output_type": "stream",
     "text": [
      "STOP CODE:  Stay unchanged in the last 6 iterations\n",
      "> SA ENDS....... \n",
      "\n",
      "> avg loss: 2.847574738553273\n",
      "> For the *288_th* data_key\n",
      "> retail = 59.99,bidincrement = 0.15, bidfee = 0.75, infer PT's parameters\n",
      "> Now do SA....... \n",
      "\n"
     ]
    },
    {
     "name": "stderr",
     "output_type": "stream",
     "text": [
      " 23%|██▎       | 289/1276 [31:36<5:16:52, 19.26s/it]"
     ]
    },
    {
     "name": "stdout",
     "output_type": "stream",
     "text": [
      "STOP CODE:  Stay unchanged in the last 6 iterations\n",
      "> SA ENDS....... \n",
      "\n",
      "> avg loss: 3.1077352302874846\n",
      "> For the *289_th* data_key\n",
      "> retail = 59.99,bidincrement = 0.15, bidfee = 0.75, infer PT's parameters\n",
      "> Now do SA....... \n",
      "\n"
     ]
    },
    {
     "name": "stderr",
     "output_type": "stream",
     "text": [
      " 23%|██▎       | 290/1276 [31:39<3:56:37, 14.40s/it]"
     ]
    },
    {
     "name": "stdout",
     "output_type": "stream",
     "text": [
      "STOP CODE:  Stay unchanged in the last 6 iterations\n",
      "> SA ENDS....... \n",
      "\n",
      "> avg loss: 2.51354172027608\n",
      "> For the *290_th* data_key\n",
      "> retail = 268.42,bidincrement = 0.15, bidfee = 0.75, infer PT's parameters\n",
      "> Now do SA....... \n",
      "\n"
     ]
    },
    {
     "name": "stderr",
     "output_type": "stream",
     "text": [
      " 23%|██▎       | 291/1276 [31:45<3:11:13, 11.65s/it]"
     ]
    },
    {
     "name": "stdout",
     "output_type": "stream",
     "text": [
      "STOP CODE:  Stay unchanged in the last 6 iterations\n",
      "> SA ENDS....... \n",
      "\n",
      "> avg loss: 3.474125323255748\n",
      "> For the *291_th* data_key\n",
      "> retail = 149.99,bidincrement = 0.15, bidfee = 0.75, infer PT's parameters\n",
      "> Now do SA....... \n",
      "\n"
     ]
    },
    {
     "name": "stderr",
     "output_type": "stream",
     "text": [
      " 23%|██▎       | 292/1276 [31:49<2:35:57,  9.51s/it]"
     ]
    },
    {
     "name": "stdout",
     "output_type": "stream",
     "text": [
      "STOP CODE:  Stay unchanged in the last 6 iterations\n",
      "> SA ENDS....... \n",
      "\n",
      "> avg loss: 2.5863871994064964\n",
      "> For the *292_th* data_key\n",
      "> retail = 373.36,bidincrement = 0.15, bidfee = 0.75, infer PT's parameters\n",
      "> Now do SA....... \n",
      "\n"
     ]
    },
    {
     "name": "stderr",
     "output_type": "stream",
     "text": [
      " 23%|██▎       | 293/1276 [32:02<2:50:59, 10.44s/it]"
     ]
    },
    {
     "name": "stdout",
     "output_type": "stream",
     "text": [
      "STOP CODE:  Stay unchanged in the last 6 iterations\n",
      "> SA ENDS....... \n",
      "\n",
      "> avg loss: 2.629355057464943\n",
      "> For the *293_th* data_key\n",
      "> retail = 149.99,bidincrement = 0.15, bidfee = 0.75, infer PT's parameters\n",
      "> Now do SA....... \n",
      "\n"
     ]
    },
    {
     "name": "stderr",
     "output_type": "stream",
     "text": [
      " 23%|██▎       | 294/1276 [32:04<2:11:54,  8.06s/it]"
     ]
    },
    {
     "name": "stdout",
     "output_type": "stream",
     "text": [
      "STOP CODE:  Stay unchanged in the last 6 iterations\n",
      "> SA ENDS....... \n",
      "\n",
      "> avg loss: 3.966141588502338\n",
      "> For the *294_th* data_key\n",
      "> retail = 149.99,bidincrement = 0.15, bidfee = 0.75, infer PT's parameters\n",
      "> Now do SA....... \n",
      "\n"
     ]
    },
    {
     "name": "stderr",
     "output_type": "stream",
     "text": [
      " 23%|██▎       | 295/1276 [32:07<1:46:16,  6.50s/it]"
     ]
    },
    {
     "name": "stdout",
     "output_type": "stream",
     "text": [
      "STOP CODE:  Stay unchanged in the last 6 iterations\n",
      "> SA ENDS....... \n",
      "\n",
      "> avg loss: 3.2937183585937237\n",
      "> For the *295_th* data_key\n",
      "> retail = 149.99,bidincrement = 0.15, bidfee = 0.75, infer PT's parameters\n",
      "> Now do SA....... \n",
      "\n"
     ]
    },
    {
     "name": "stderr",
     "output_type": "stream",
     "text": [
      " 23%|██▎       | 296/1276 [32:12<1:37:01,  5.94s/it]"
     ]
    },
    {
     "name": "stdout",
     "output_type": "stream",
     "text": [
      "STOP CODE:  Stay unchanged in the last 6 iterations\n",
      "> SA ENDS....... \n",
      "\n",
      "> avg loss: 3.186670240081428\n",
      "> For the *296_th* data_key\n",
      "> retail = 149.99,bidincrement = 0.15, bidfee = 0.75, infer PT's parameters\n",
      "> Now do SA....... \n",
      "\n"
     ]
    },
    {
     "name": "stderr",
     "output_type": "stream",
     "text": [
      " 23%|██▎       | 297/1276 [32:15<1:23:25,  5.11s/it]"
     ]
    },
    {
     "name": "stdout",
     "output_type": "stream",
     "text": [
      "STOP CODE:  Stay unchanged in the last 6 iterations\n",
      "> SA ENDS....... \n",
      "\n",
      "> avg loss: 3.2171192137808085\n",
      "> For the *297_th* data_key\n",
      "> retail = 39.99,bidincrement = 0.15, bidfee = 0.75, infer PT's parameters\n",
      "> Now do SA....... \n",
      "\n"
     ]
    },
    {
     "name": "stderr",
     "output_type": "stream",
     "text": [
      " 23%|██▎       | 298/1276 [32:17<1:06:32,  4.08s/it]"
     ]
    },
    {
     "name": "stdout",
     "output_type": "stream",
     "text": [
      "STOP CODE:  Stay unchanged in the last 6 iterations\n",
      "> SA ENDS....... \n",
      "\n",
      "> avg loss: 2.719714265705101\n",
      "> For the *298_th* data_key\n",
      "> retail = 55.0,bidincrement = 0.15, bidfee = 0.75, infer PT's parameters\n",
      "> Now do SA....... \n",
      "\n"
     ]
    },
    {
     "name": "stderr",
     "output_type": "stream",
     "text": [
      " 23%|██▎       | 299/1276 [32:22<1:14:57,  4.60s/it]"
     ]
    },
    {
     "name": "stdout",
     "output_type": "stream",
     "text": [
      "STOP CODE:  Stay unchanged in the last 6 iterations\n",
      "> SA ENDS....... \n",
      "\n",
      "> avg loss: 3.4193364160617454\n",
      "> For the *299_th* data_key\n",
      "> retail = 59.0,bidincrement = 0.15, bidfee = 0.75, infer PT's parameters\n",
      "> Now do SA....... \n",
      "\n"
     ]
    },
    {
     "name": "stderr",
     "output_type": "stream",
     "text": [
      " 24%|██▎       | 300/1276 [32:25<1:06:51,  4.11s/it]"
     ]
    },
    {
     "name": "stdout",
     "output_type": "stream",
     "text": [
      "STOP CODE:  Stay unchanged in the last 6 iterations\n",
      "> SA ENDS....... \n",
      "\n",
      "> avg loss: 3.832404267364558\n",
      "> For the *300_th* data_key\n",
      "> retail = 349.95,bidincrement = 0.15, bidfee = 0.75, infer PT's parameters\n",
      "> Now do SA....... \n",
      "\n"
     ]
    },
    {
     "name": "stderr",
     "output_type": "stream",
     "text": [
      " 24%|██▎       | 301/1276 [32:38<1:45:40,  6.50s/it]"
     ]
    },
    {
     "name": "stdout",
     "output_type": "stream",
     "text": [
      "STOP CODE:  Stay unchanged in the last 6 iterations\n",
      "> SA ENDS....... \n",
      "\n",
      "> avg loss: 2.9278438475472397\n",
      "> For the *301_th* data_key\n",
      "> retail = 1090.07,bidincrement = 0.15, bidfee = 0.75, infer PT's parameters\n",
      "> Now do SA....... \n",
      "\n"
     ]
    },
    {
     "name": "stderr",
     "output_type": "stream",
     "text": [
      " 24%|██▎       | 302/1276 [33:29<5:25:29, 20.05s/it]"
     ]
    },
    {
     "name": "stdout",
     "output_type": "stream",
     "text": [
      "STOP CODE:  Stay unchanged in the last 6 iterations\n",
      "> SA ENDS....... \n",
      "\n",
      "> avg loss: 8.115245249394846\n",
      "> For the *302_th* data_key\n",
      "> retail = 74.78,bidincrement = 0.15, bidfee = 0.75, infer PT's parameters\n",
      "> Now do SA....... \n",
      "\n"
     ]
    },
    {
     "name": "stderr",
     "output_type": "stream",
     "text": [
      " 24%|██▎       | 303/1276 [33:31<3:56:48, 14.60s/it]"
     ]
    },
    {
     "name": "stdout",
     "output_type": "stream",
     "text": [
      "STOP CODE:  Stay unchanged in the last 6 iterations\n",
      "> SA ENDS....... \n",
      "\n",
      "> avg loss: 3.0505711951052428\n",
      "> For the *303_th* data_key\n",
      "> retail = 1049.0,bidincrement = 0.01, bidfee = 0.75, infer PT's parameters\n",
      "> Now do SA....... \n",
      "\n"
     ]
    },
    {
     "name": "stderr",
     "output_type": "stream",
     "text": [
      " 24%|██▍       | 304/1276 [34:32<7:44:05, 28.65s/it]"
     ]
    },
    {
     "name": "stdout",
     "output_type": "stream",
     "text": [
      "> 超时\n",
      "> SA ENDS....... \n",
      "\n",
      "> avg loss: 15.838421385755861\n",
      "> For the *304_th* data_key\n",
      "> retail = 1457.61,bidincrement = 0.15, bidfee = 0.75, infer PT's parameters\n",
      "> Now do SA....... \n",
      "\n"
     ]
    },
    {
     "name": "stderr",
     "output_type": "stream",
     "text": [
      " 24%|██▍       | 305/1276 [34:51<6:53:43, 25.57s/it]"
     ]
    },
    {
     "name": "stdout",
     "output_type": "stream",
     "text": [
      "STOP CODE:  Stay unchanged in the last 6 iterations\n",
      "> SA ENDS....... \n",
      "\n",
      "> avg loss: 8.735331302608046\n",
      "> For the *305_th* data_key\n",
      "> retail = 1185.27,bidincrement = 0.15, bidfee = 0.75, infer PT's parameters\n",
      "> Now do SA....... \n",
      "\n"
     ]
    },
    {
     "name": "stderr",
     "output_type": "stream",
     "text": [
      " 24%|██▍       | 306/1276 [35:06<6:02:11, 22.40s/it]"
     ]
    },
    {
     "name": "stdout",
     "output_type": "stream",
     "text": [
      "STOP CODE:  Stay unchanged in the last 6 iterations\n",
      "> SA ENDS....... \n",
      "\n",
      "> avg loss: 8.399311994372376\n",
      "> For the *306_th* data_key\n",
      "> retail = 357.12,bidincrement = 0.15, bidfee = 0.75, infer PT's parameters\n",
      "> Now do SA....... \n",
      "\n"
     ]
    },
    {
     "name": "stderr",
     "output_type": "stream",
     "text": [
      " 24%|██▍       | 307/1276 [35:13<4:46:27, 17.74s/it]"
     ]
    },
    {
     "name": "stdout",
     "output_type": "stream",
     "text": [
      "STOP CODE:  Stay unchanged in the last 6 iterations\n",
      "> SA ENDS....... \n",
      "\n",
      "> avg loss: 6.219539597710265\n",
      "> For the *307_th* data_key\n",
      "> retail = 749.81,bidincrement = 0.15, bidfee = 0.75, infer PT's parameters\n",
      "> Now do SA....... \n",
      "\n"
     ]
    },
    {
     "name": "stderr",
     "output_type": "stream",
     "text": [
      " 24%|██▍       | 308/1276 [35:31<4:48:44, 17.90s/it]"
     ]
    },
    {
     "name": "stdout",
     "output_type": "stream",
     "text": [
      "STOP CODE:  Stay unchanged in the last 6 iterations\n",
      "> SA ENDS....... \n",
      "\n",
      "> avg loss: 7.919935542584006\n",
      "> For the *308_th* data_key\n",
      "> retail = 712.01,bidincrement = 0.15, bidfee = 0.75, infer PT's parameters\n",
      "> Now do SA....... \n",
      "\n"
     ]
    },
    {
     "name": "stderr",
     "output_type": "stream",
     "text": [
      " 24%|██▍       | 309/1276 [35:45<4:27:35, 16.60s/it]"
     ]
    },
    {
     "name": "stdout",
     "output_type": "stream",
     "text": [
      "STOP CODE:  Stay unchanged in the last 6 iterations\n",
      "> SA ENDS....... \n",
      "\n",
      "> avg loss: 7.671256875410706\n",
      "> For the *309_th* data_key\n",
      "> retail = 59.0,bidincrement = 0.15, bidfee = 0.75, infer PT's parameters\n",
      "> Now do SA....... \n",
      "\n"
     ]
    },
    {
     "name": "stderr",
     "output_type": "stream",
     "text": [
      " 24%|██▍       | 310/1276 [35:45<3:10:31, 11.83s/it]"
     ]
    },
    {
     "name": "stdout",
     "output_type": "stream",
     "text": [
      "STOP CODE:  Stay unchanged in the last 6 iterations\n",
      "> SA ENDS....... \n",
      "\n",
      "> avg loss: 3.6966787053854344\n",
      "> For the *310_th* data_key\n",
      "> retail = 70.0,bidincrement = 0.15, bidfee = 0.75, infer PT's parameters\n",
      "> Now do SA....... \n",
      "\n"
     ]
    },
    {
     "name": "stderr",
     "output_type": "stream",
     "text": [
      " 24%|██▍       | 311/1276 [35:46<2:18:42,  8.62s/it]"
     ]
    },
    {
     "name": "stdout",
     "output_type": "stream",
     "text": [
      "STOP CODE:  Stay unchanged in the last 6 iterations\n",
      "> SA ENDS....... \n",
      "\n",
      "> avg loss: 3.5952978051451114\n",
      "> For the *311_th* data_key\n",
      "> retail = 49.99,bidincrement = 0.15, bidfee = 0.75, infer PT's parameters\n",
      "> Now do SA....... \n",
      "\n"
     ]
    },
    {
     "name": "stderr",
     "output_type": "stream",
     "text": [
      " 24%|██▍       | 312/1276 [35:47<1:41:25,  6.31s/it]"
     ]
    },
    {
     "name": "stdout",
     "output_type": "stream",
     "text": [
      "STOP CODE:  Stay unchanged in the last 6 iterations\n",
      "> SA ENDS....... \n",
      "\n",
      "> avg loss: 2.830737277384181\n",
      "> For the *312_th* data_key\n",
      "> retail = 49.99,bidincrement = 0.15, bidfee = 0.75, infer PT's parameters\n",
      "> Now do SA....... \n",
      "\n"
     ]
    },
    {
     "name": "stderr",
     "output_type": "stream",
     "text": [
      " 25%|██▍       | 313/1276 [35:48<1:14:14,  4.63s/it]"
     ]
    },
    {
     "name": "stdout",
     "output_type": "stream",
     "text": [
      "STOP CODE:  Stay unchanged in the last 6 iterations\n",
      "> SA ENDS....... \n",
      "\n",
      "> avg loss: 2.738228631618011\n",
      "> For the *313_th* data_key\n",
      "> retail = 43.44,bidincrement = 0.15, bidfee = 0.75, infer PT's parameters\n",
      "> Now do SA....... \n",
      "\n"
     ]
    },
    {
     "name": "stderr",
     "output_type": "stream",
     "text": [
      " 25%|██▍       | 314/1276 [35:49<55:45,  3.48s/it]  "
     ]
    },
    {
     "name": "stdout",
     "output_type": "stream",
     "text": [
      "STOP CODE:  Stay unchanged in the last 6 iterations\n",
      "> SA ENDS....... \n",
      "\n",
      "> avg loss: 2.8749403003306506\n",
      "> For the *314_th* data_key\n",
      "> retail = 49.99,bidincrement = 0.15, bidfee = 0.75, infer PT's parameters\n",
      "> Now do SA....... \n",
      "\n"
     ]
    },
    {
     "name": "stderr",
     "output_type": "stream",
     "text": [
      " 25%|██▍       | 315/1276 [35:50<43:56,  2.74s/it]"
     ]
    },
    {
     "name": "stdout",
     "output_type": "stream",
     "text": [
      "STOP CODE:  Stay unchanged in the last 6 iterations\n",
      "> SA ENDS....... \n",
      "\n",
      "> avg loss: 2.7426577107046923\n",
      "> For the *315_th* data_key\n",
      "> retail = 12.99,bidincrement = 0.15, bidfee = 0.75, infer PT's parameters\n",
      "> Now do SA....... \n",
      "\n"
     ]
    },
    {
     "name": "stderr",
     "output_type": "stream",
     "text": [
      " 25%|██▍       | 316/1276 [35:50<32:56,  2.06s/it]"
     ]
    },
    {
     "name": "stdout",
     "output_type": "stream",
     "text": [
      "STOP CODE:  Stay unchanged in the last 6 iterations\n",
      "> SA ENDS....... \n",
      "\n",
      "> avg loss: 2.142931159226939\n",
      "> For the *316_th* data_key\n",
      "> retail = 39.98,bidincrement = 0.15, bidfee = 0.75, infer PT's parameters\n",
      "> Now do SA....... \n",
      "\n"
     ]
    },
    {
     "name": "stderr",
     "output_type": "stream",
     "text": [
      " 25%|██▍       | 317/1276 [35:52<29:15,  1.83s/it]"
     ]
    },
    {
     "name": "stdout",
     "output_type": "stream",
     "text": [
      "STOP CODE:  Stay unchanged in the last 6 iterations\n",
      "> SA ENDS....... \n",
      "\n",
      "> avg loss: 2.099531318762171\n",
      "> For the *317_th* data_key\n",
      "> retail = 35.99,bidincrement = 0.15, bidfee = 0.75, infer PT's parameters\n",
      "> Now do SA....... \n",
      "\n"
     ]
    },
    {
     "name": "stderr",
     "output_type": "stream",
     "text": [
      " 25%|██▍       | 318/1276 [35:53<27:04,  1.70s/it]"
     ]
    },
    {
     "name": "stdout",
     "output_type": "stream",
     "text": [
      "STOP CODE:  Stay unchanged in the last 6 iterations\n",
      "> SA ENDS....... \n",
      "\n",
      "> avg loss: 2.7033360922586245\n",
      "> For the *318_th* data_key\n",
      "> retail = 39.99,bidincrement = 0.15, bidfee = 0.75, infer PT's parameters\n",
      "> Now do SA....... \n",
      "\n"
     ]
    },
    {
     "name": "stderr",
     "output_type": "stream",
     "text": [
      " 25%|██▌       | 319/1276 [35:55<26:32,  1.66s/it]"
     ]
    },
    {
     "name": "stdout",
     "output_type": "stream",
     "text": [
      "STOP CODE:  Stay unchanged in the last 6 iterations\n",
      "> SA ENDS....... \n",
      "\n",
      "> avg loss: 2.436166335195003\n",
      "> For the *319_th* data_key\n",
      "> retail = 34.95,bidincrement = 0.15, bidfee = 0.75, infer PT's parameters\n",
      "> Now do SA....... \n",
      "\n"
     ]
    },
    {
     "name": "stderr",
     "output_type": "stream",
     "text": [
      " 25%|██▌       | 320/1276 [35:55<21:23,  1.34s/it]"
     ]
    },
    {
     "name": "stdout",
     "output_type": "stream",
     "text": [
      "STOP CODE:  Stay unchanged in the last 6 iterations\n",
      "> SA ENDS....... \n",
      "\n",
      "> avg loss: 2.4109234643452586\n",
      "> For the *320_th* data_key\n",
      "> retail = 28.99,bidincrement = 0.15, bidfee = 0.75, infer PT's parameters\n",
      "> Now do SA....... \n",
      "\n"
     ]
    },
    {
     "name": "stderr",
     "output_type": "stream",
     "text": [
      " 25%|██▌       | 321/1276 [35:57<22:37,  1.42s/it]"
     ]
    },
    {
     "name": "stdout",
     "output_type": "stream",
     "text": [
      "STOP CODE:  Stay unchanged in the last 6 iterations\n",
      "> SA ENDS....... \n",
      "\n",
      "> avg loss: 2.3703855586108933\n",
      "> For the *321_th* data_key\n",
      "> retail = 28.99,bidincrement = 0.15, bidfee = 0.75, infer PT's parameters\n",
      "> Now do SA....... \n",
      "\n"
     ]
    },
    {
     "name": "stderr",
     "output_type": "stream",
     "text": [
      " 25%|██▌       | 322/1276 [35:58<21:01,  1.32s/it]"
     ]
    },
    {
     "name": "stdout",
     "output_type": "stream",
     "text": [
      "STOP CODE:  Stay unchanged in the last 6 iterations\n",
      "> SA ENDS....... \n",
      "\n",
      "> avg loss: 2.7181946620624835\n",
      "> For the *322_th* data_key\n",
      "> retail = 29.98,bidincrement = 0.15, bidfee = 0.75, infer PT's parameters\n",
      "> Now do SA....... \n",
      "\n"
     ]
    },
    {
     "name": "stderr",
     "output_type": "stream",
     "text": [
      " 25%|██▌       | 323/1276 [35:59<20:30,  1.29s/it]"
     ]
    },
    {
     "name": "stdout",
     "output_type": "stream",
     "text": [
      "STOP CODE:  Stay unchanged in the last 6 iterations\n",
      "> SA ENDS....... \n",
      "\n",
      "> avg loss: 2.4129056692852267\n",
      "> For the *323_th* data_key\n",
      "> retail = 39.99,bidincrement = 0.15, bidfee = 0.75, infer PT's parameters\n",
      "> Now do SA....... \n",
      "\n"
     ]
    },
    {
     "name": "stderr",
     "output_type": "stream",
     "text": [
      " 25%|██▌       | 324/1276 [36:01<21:02,  1.33s/it]"
     ]
    },
    {
     "name": "stdout",
     "output_type": "stream",
     "text": [
      "STOP CODE:  Stay unchanged in the last 6 iterations\n",
      "> SA ENDS....... \n",
      "\n",
      "> avg loss: 2.7364141528532\n",
      "> For the *324_th* data_key\n",
      "> retail = 34.99,bidincrement = 0.15, bidfee = 0.75, infer PT's parameters\n",
      "> Now do SA....... \n",
      "\n"
     ]
    },
    {
     "name": "stderr",
     "output_type": "stream",
     "text": [
      " 25%|██▌       | 325/1276 [36:01<18:19,  1.16s/it]"
     ]
    },
    {
     "name": "stdout",
     "output_type": "stream",
     "text": [
      "STOP CODE:  Stay unchanged in the last 6 iterations\n",
      "> SA ENDS....... \n",
      "\n",
      "> avg loss: 3.0422736879541517\n",
      "> For the *325_th* data_key\n",
      "> retail = 34.99,bidincrement = 0.15, bidfee = 0.75, infer PT's parameters\n",
      "> Now do SA....... \n",
      "\n"
     ]
    },
    {
     "name": "stderr",
     "output_type": "stream",
     "text": [
      " 26%|██▌       | 326/1276 [36:02<16:19,  1.03s/it]"
     ]
    },
    {
     "name": "stdout",
     "output_type": "stream",
     "text": [
      "STOP CODE:  Stay unchanged in the last 6 iterations\n",
      "> SA ENDS....... \n",
      "\n",
      "> avg loss: 2.8256545155623143\n",
      "> For the *326_th* data_key\n",
      "> retail = 39.98,bidincrement = 0.15, bidfee = 0.75, infer PT's parameters\n",
      "> Now do SA....... \n",
      "\n"
     ]
    },
    {
     "name": "stderr",
     "output_type": "stream",
     "text": [
      " 26%|██▌       | 327/1276 [36:03<17:17,  1.09s/it]"
     ]
    },
    {
     "name": "stdout",
     "output_type": "stream",
     "text": [
      "STOP CODE:  Stay unchanged in the last 6 iterations\n",
      "> SA ENDS....... \n",
      "\n",
      "> avg loss: 2.8726473538344455\n",
      "> For the *327_th* data_key\n",
      "> retail = 39.99,bidincrement = 0.15, bidfee = 0.75, infer PT's parameters\n",
      "> Now do SA....... \n",
      "\n"
     ]
    },
    {
     "name": "stderr",
     "output_type": "stream",
     "text": [
      " 26%|██▌       | 328/1276 [36:04<16:53,  1.07s/it]"
     ]
    },
    {
     "name": "stdout",
     "output_type": "stream",
     "text": [
      "STOP CODE:  Stay unchanged in the last 6 iterations\n",
      "> SA ENDS....... \n",
      "\n",
      "> avg loss: 2.5236968640159487\n",
      "> For the *328_th* data_key\n",
      "> retail = 59.99,bidincrement = 0.15, bidfee = 0.75, infer PT's parameters\n",
      "> Now do SA....... \n",
      "\n"
     ]
    },
    {
     "name": "stderr",
     "output_type": "stream",
     "text": [
      " 26%|██▌       | 329/1276 [36:06<18:52,  1.20s/it]"
     ]
    },
    {
     "name": "stdout",
     "output_type": "stream",
     "text": [
      "STOP CODE:  Stay unchanged in the last 6 iterations\n",
      "> SA ENDS....... \n",
      "\n",
      "> avg loss: 2.4625496922731056\n",
      "> For the *329_th* data_key\n",
      "> retail = 29.99,bidincrement = 0.15, bidfee = 0.75, infer PT's parameters\n",
      "> Now do SA....... \n",
      "\n"
     ]
    },
    {
     "name": "stderr",
     "output_type": "stream",
     "text": [
      " 26%|██▌       | 330/1276 [36:06<16:17,  1.03s/it]"
     ]
    },
    {
     "name": "stdout",
     "output_type": "stream",
     "text": [
      "STOP CODE:  Stay unchanged in the last 6 iterations\n",
      "> SA ENDS....... \n",
      "\n",
      "> avg loss: 2.366965171476251\n",
      "> For the *330_th* data_key\n",
      "> retail = 49.99,bidincrement = 0.15, bidfee = 0.75, infer PT's parameters\n",
      "> Now do SA....... \n",
      "\n"
     ]
    },
    {
     "name": "stderr",
     "output_type": "stream",
     "text": [
      " 26%|██▌       | 331/1276 [36:08<16:47,  1.07s/it]"
     ]
    },
    {
     "name": "stdout",
     "output_type": "stream",
     "text": [
      "STOP CODE:  Stay unchanged in the last 6 iterations\n",
      "> SA ENDS....... \n",
      "\n",
      "> avg loss: 2.22317329625847\n",
      "> For the *331_th* data_key\n",
      "> retail = 39.99,bidincrement = 0.15, bidfee = 0.75, infer PT's parameters\n",
      "> Now do SA....... \n",
      "\n"
     ]
    },
    {
     "name": "stderr",
     "output_type": "stream",
     "text": [
      " 26%|██▌       | 332/1276 [36:08<14:41,  1.07it/s]"
     ]
    },
    {
     "name": "stdout",
     "output_type": "stream",
     "text": [
      "STOP CODE:  Stay unchanged in the last 6 iterations\n",
      "> SA ENDS....... \n",
      "\n",
      "> avg loss: 2.1214984911945356\n",
      "> For the *332_th* data_key\n",
      "> retail = 59.99,bidincrement = 0.15, bidfee = 0.75, infer PT's parameters\n",
      "> Now do SA....... \n",
      "\n"
     ]
    },
    {
     "name": "stderr",
     "output_type": "stream",
     "text": [
      " 26%|██▌       | 333/1276 [36:09<14:49,  1.06it/s]"
     ]
    },
    {
     "name": "stdout",
     "output_type": "stream",
     "text": [
      "STOP CODE:  Stay unchanged in the last 6 iterations\n",
      "> SA ENDS....... \n",
      "\n",
      "> avg loss: 2.9989454517463985\n",
      "> For the *333_th* data_key\n",
      "> retail = 29.99,bidincrement = 0.15, bidfee = 0.75, infer PT's parameters\n",
      "> Now do SA....... \n",
      "\n"
     ]
    },
    {
     "name": "stderr",
     "output_type": "stream",
     "text": [
      " 26%|██▌       | 334/1276 [36:11<17:12,  1.10s/it]"
     ]
    },
    {
     "name": "stdout",
     "output_type": "stream",
     "text": [
      "STOP CODE:  Stay unchanged in the last 6 iterations\n",
      "> SA ENDS....... \n",
      "\n",
      "> avg loss: 2.178511795072075\n",
      "> For the *334_th* data_key\n",
      "> retail = 29.99,bidincrement = 0.15, bidfee = 0.75, infer PT's parameters\n",
      "> Now do SA....... \n",
      "\n"
     ]
    },
    {
     "name": "stderr",
     "output_type": "stream",
     "text": [
      " 26%|██▋       | 335/1276 [36:14<27:09,  1.73s/it]"
     ]
    },
    {
     "name": "stdout",
     "output_type": "stream",
     "text": [
      "STOP CODE:  Stay unchanged in the last 6 iterations\n",
      "> SA ENDS....... \n",
      "\n",
      "> avg loss: 2.073309550277874\n",
      "> For the *335_th* data_key\n",
      "> retail = 59.99,bidincrement = 0.15, bidfee = 0.75, infer PT's parameters\n",
      "> Now do SA....... \n",
      "\n"
     ]
    },
    {
     "name": "stderr",
     "output_type": "stream",
     "text": [
      " 26%|██▋       | 336/1276 [36:15<24:23,  1.56s/it]"
     ]
    },
    {
     "name": "stdout",
     "output_type": "stream",
     "text": [
      "STOP CODE:  Stay unchanged in the last 6 iterations\n",
      "> SA ENDS....... \n",
      "\n",
      "> avg loss: 2.6389871920667747\n",
      "> For the *336_th* data_key\n",
      "> retail = 29.99,bidincrement = 0.15, bidfee = 0.75, infer PT's parameters\n",
      "> Now do SA....... \n",
      "\n"
     ]
    },
    {
     "name": "stderr",
     "output_type": "stream",
     "text": [
      " 26%|██▋       | 337/1276 [36:16<23:22,  1.49s/it]"
     ]
    },
    {
     "name": "stdout",
     "output_type": "stream",
     "text": [
      "STOP CODE:  Stay unchanged in the last 6 iterations\n",
      "> SA ENDS....... \n",
      "\n",
      "> avg loss: 2.069494879542564\n",
      "> For the *337_th* data_key\n",
      "> retail = 29.99,bidincrement = 0.15, bidfee = 0.75, infer PT's parameters\n",
      "> Now do SA....... \n",
      "\n"
     ]
    },
    {
     "name": "stderr",
     "output_type": "stream",
     "text": [
      " 26%|██▋       | 338/1276 [36:17<20:32,  1.31s/it]"
     ]
    },
    {
     "name": "stdout",
     "output_type": "stream",
     "text": [
      "STOP CODE:  Stay unchanged in the last 6 iterations\n",
      "> SA ENDS....... \n",
      "\n",
      "> avg loss: 2.2053311183628614\n",
      "> For the *338_th* data_key\n",
      "> retail = 19.99,bidincrement = 0.15, bidfee = 0.75, infer PT's parameters\n",
      "> Now do SA....... \n",
      "\n"
     ]
    },
    {
     "name": "stderr",
     "output_type": "stream",
     "text": [
      " 27%|██▋       | 339/1276 [36:18<17:53,  1.15s/it]"
     ]
    },
    {
     "name": "stdout",
     "output_type": "stream",
     "text": [
      "STOP CODE:  Stay unchanged in the last 6 iterations\n",
      "> SA ENDS....... \n",
      "\n",
      "> avg loss: 2.1139752387541364\n",
      "> For the *339_th* data_key\n",
      "> retail = 29.99,bidincrement = 0.15, bidfee = 0.75, infer PT's parameters\n",
      "> Now do SA....... \n",
      "\n"
     ]
    },
    {
     "name": "stderr",
     "output_type": "stream",
     "text": [
      " 27%|██▋       | 340/1276 [36:19<15:40,  1.00s/it]"
     ]
    },
    {
     "name": "stdout",
     "output_type": "stream",
     "text": [
      "STOP CODE:  Stay unchanged in the last 6 iterations\n",
      "> SA ENDS....... \n",
      "\n",
      "> avg loss: 2.051309628824532\n",
      "> For the *340_th* data_key\n",
      "> retail = 39.99,bidincrement = 0.15, bidfee = 0.75, infer PT's parameters\n",
      "> Now do SA....... \n",
      "\n"
     ]
    },
    {
     "name": "stderr",
     "output_type": "stream",
     "text": [
      " 27%|██▋       | 341/1276 [36:21<21:11,  1.36s/it]"
     ]
    },
    {
     "name": "stdout",
     "output_type": "stream",
     "text": [
      "STOP CODE:  Stay unchanged in the last 6 iterations\n",
      "> SA ENDS....... \n",
      "\n",
      "> avg loss: 2.100697159456175\n",
      "> For the *341_th* data_key\n",
      "> retail = 49.99,bidincrement = 0.15, bidfee = 0.75, infer PT's parameters\n",
      "> Now do SA....... \n",
      "\n"
     ]
    },
    {
     "name": "stderr",
     "output_type": "stream",
     "text": [
      " 27%|██▋       | 342/1276 [36:22<20:01,  1.29s/it]"
     ]
    },
    {
     "name": "stdout",
     "output_type": "stream",
     "text": [
      "STOP CODE:  Stay unchanged in the last 6 iterations\n",
      "> SA ENDS....... \n",
      "\n",
      "> avg loss: 2.306275043143568\n",
      "> For the *342_th* data_key\n",
      "> retail = 49.99,bidincrement = 0.15, bidfee = 0.75, infer PT's parameters\n",
      "> Now do SA....... \n",
      "\n"
     ]
    },
    {
     "name": "stderr",
     "output_type": "stream",
     "text": [
      " 27%|██▋       | 343/1276 [36:23<18:00,  1.16s/it]"
     ]
    },
    {
     "name": "stdout",
     "output_type": "stream",
     "text": [
      "STOP CODE:  Stay unchanged in the last 6 iterations\n",
      "> SA ENDS....... \n",
      "\n",
      "> avg loss: 2.118262949492338\n",
      "> For the *343_th* data_key\n",
      "> retail = 49.99,bidincrement = 0.15, bidfee = 0.75, infer PT's parameters\n",
      "> Now do SA....... \n",
      "\n"
     ]
    },
    {
     "name": "stderr",
     "output_type": "stream",
     "text": [
      " 27%|██▋       | 344/1276 [36:24<16:13,  1.05s/it]"
     ]
    },
    {
     "name": "stdout",
     "output_type": "stream",
     "text": [
      "STOP CODE:  Stay unchanged in the last 6 iterations\n",
      "> SA ENDS....... \n",
      "\n",
      "> avg loss: 2.3576704396249815\n",
      "> For the *344_th* data_key\n",
      "> retail = 59.99,bidincrement = 0.15, bidfee = 0.75, infer PT's parameters\n",
      "> Now do SA....... \n",
      "\n"
     ]
    },
    {
     "name": "stderr",
     "output_type": "stream",
     "text": [
      " 27%|██▋       | 345/1276 [36:26<20:38,  1.33s/it]"
     ]
    },
    {
     "name": "stdout",
     "output_type": "stream",
     "text": [
      "STOP CODE:  Stay unchanged in the last 6 iterations\n",
      "> SA ENDS....... \n",
      "\n",
      "> avg loss: 2.3671483156104824\n",
      "> For the *345_th* data_key\n",
      "> retail = 29.99,bidincrement = 0.15, bidfee = 0.75, infer PT's parameters\n",
      "> Now do SA....... \n",
      "\n"
     ]
    },
    {
     "name": "stderr",
     "output_type": "stream",
     "text": [
      " 27%|██▋       | 346/1276 [36:27<21:07,  1.36s/it]"
     ]
    },
    {
     "name": "stdout",
     "output_type": "stream",
     "text": [
      "STOP CODE:  Stay unchanged in the last 6 iterations\n",
      "> SA ENDS....... \n",
      "\n",
      "> avg loss: 1.8789269056384215\n",
      "> For the *346_th* data_key\n",
      "> retail = 383.0,bidincrement = 0.15, bidfee = 0.75, infer PT's parameters\n",
      "> Now do SA....... \n",
      "\n"
     ]
    },
    {
     "name": "stderr",
     "output_type": "stream",
     "text": [
      " 27%|██▋       | 347/1276 [36:31<35:37,  2.30s/it]"
     ]
    },
    {
     "name": "stdout",
     "output_type": "stream",
     "text": [
      "STOP CODE:  Stay unchanged in the last 6 iterations\n",
      "> SA ENDS....... \n",
      "\n",
      "> avg loss: 6.342130516271228\n",
      "> For the *347_th* data_key\n",
      "> retail = 357.0,bidincrement = 0.15, bidfee = 0.75, infer PT's parameters\n",
      "> Now do SA....... \n",
      "\n"
     ]
    },
    {
     "name": "stderr",
     "output_type": "stream",
     "text": [
      " 27%|██▋       | 348/1276 [36:36<45:08,  2.92s/it]"
     ]
    },
    {
     "name": "stdout",
     "output_type": "stream",
     "text": [
      "STOP CODE:  Stay unchanged in the last 6 iterations\n",
      "> SA ENDS....... \n",
      "\n",
      "> avg loss: 3.2604184385333146\n",
      "> For the *348_th* data_key\n",
      "> retail = 44.99,bidincrement = 0.15, bidfee = 0.75, infer PT's parameters\n",
      "> Now do SA....... \n",
      "\n"
     ]
    },
    {
     "name": "stderr",
     "output_type": "stream",
     "text": [
      " 27%|██▋       | 349/1276 [36:37<35:18,  2.29s/it]"
     ]
    },
    {
     "name": "stdout",
     "output_type": "stream",
     "text": [
      "STOP CODE:  Stay unchanged in the last 6 iterations\n",
      "> SA ENDS....... \n",
      "\n",
      "> avg loss: 2.0658279826578445\n",
      "> For the *349_th* data_key\n",
      "> retail = 225.0,bidincrement = 0.0, bidfee = 0.75, infer PT's parameters\n",
      "> Now do SA....... \n",
      "\n"
     ]
    },
    {
     "name": "stderr",
     "output_type": "stream",
     "text": [
      " 27%|██▋       | 350/1276 [36:39<33:38,  2.18s/it]"
     ]
    },
    {
     "name": "stdout",
     "output_type": "stream",
     "text": [
      "STOP CODE:  Stay unchanged in the last 6 iterations\n",
      "> SA ENDS....... \n",
      "\n",
      "> avg loss: 4.818581086335494\n",
      "> For the *350_th* data_key\n",
      "> retail = 1200.0,bidincrement = 0.01, bidfee = 0.75, infer PT's parameters\n",
      "> Now do SA....... \n",
      "\n"
     ]
    },
    {
     "name": "stderr",
     "output_type": "stream",
     "text": [
      " 28%|██▊       | 351/1276 [37:40<5:06:43, 19.90s/it]"
     ]
    },
    {
     "name": "stdout",
     "output_type": "stream",
     "text": [
      "> 超时\n",
      "> SA ENDS....... \n",
      "\n",
      "> avg loss: 16.61364353084633\n",
      "> For the *351_th* data_key\n",
      "> retail = 373.36,bidincrement = 0.15, bidfee = 0.75, infer PT's parameters\n",
      "> Now do SA....... \n",
      "\n"
     ]
    },
    {
     "name": "stderr",
     "output_type": "stream",
     "text": [
      " 28%|██▊       | 352/1276 [37:44<3:54:53, 15.25s/it]"
     ]
    },
    {
     "name": "stdout",
     "output_type": "stream",
     "text": [
      "STOP CODE:  Stay unchanged in the last 6 iterations\n",
      "> SA ENDS....... \n",
      "\n",
      "> avg loss: 2.6112417704654725\n",
      "> For the *352_th* data_key\n",
      "> retail = 1000.0,bidincrement = 0.01, bidfee = 0.75, infer PT's parameters\n",
      "> Now do SA....... \n",
      "\n"
     ]
    },
    {
     "name": "stderr",
     "output_type": "stream",
     "text": [
      " 28%|██▊       | 353/1276 [38:45<7:25:59, 28.99s/it]"
     ]
    },
    {
     "name": "stdout",
     "output_type": "stream",
     "text": [
      "> 超时\n",
      "> SA ENDS....... \n",
      "\n",
      "> avg loss: 15.353787712356453\n",
      "> For the *353_th* data_key\n",
      "> retail = 1299.99,bidincrement = 0.01, bidfee = 0.75, infer PT's parameters\n",
      "> Now do SA....... \n",
      "\n"
     ]
    },
    {
     "name": "stderr",
     "output_type": "stream",
     "text": [
      " 28%|██▊       | 354/1276 [39:47<9:54:21, 38.68s/it]"
     ]
    },
    {
     "name": "stdout",
     "output_type": "stream",
     "text": [
      "> 超时\n",
      "> SA ENDS....... \n",
      "\n",
      "> avg loss: 17.13677087718551\n",
      "> For the *354_th* data_key\n",
      "> retail = 199.99,bidincrement = 0.15, bidfee = 0.75, infer PT's parameters\n",
      "> Now do SA....... \n",
      "\n"
     ]
    },
    {
     "name": "stderr",
     "output_type": "stream",
     "text": [
      " 28%|██▊       | 355/1276 [39:49<7:06:53, 27.81s/it]"
     ]
    },
    {
     "name": "stdout",
     "output_type": "stream",
     "text": [
      "STOP CODE:  Stay unchanged in the last 6 iterations\n",
      "> SA ENDS....... \n",
      "\n",
      "> avg loss: 3.03227410851359\n",
      "> For the *355_th* data_key\n",
      "> retail = 249.99,bidincrement = 0.15, bidfee = 0.75, infer PT's parameters\n",
      "> Now do SA....... \n",
      "\n"
     ]
    },
    {
     "name": "stderr",
     "output_type": "stream",
     "text": [
      " 28%|██▊       | 356/1276 [39:51<5:08:45, 20.14s/it]"
     ]
    },
    {
     "name": "stdout",
     "output_type": "stream",
     "text": [
      "STOP CODE:  Stay unchanged in the last 6 iterations\n",
      "> SA ENDS....... \n",
      "\n",
      "> avg loss: 3.41349276347216\n",
      "> For the *356_th* data_key\n",
      "> retail = 199.99,bidincrement = 0.15, bidfee = 0.75, infer PT's parameters\n",
      "> Now do SA....... \n",
      "\n"
     ]
    },
    {
     "name": "stderr",
     "output_type": "stream",
     "text": [
      " 28%|██▊       | 357/1276 [39:54<3:47:27, 14.85s/it]"
     ]
    },
    {
     "name": "stdout",
     "output_type": "stream",
     "text": [
      "STOP CODE:  Stay unchanged in the last 6 iterations\n",
      "> SA ENDS....... \n",
      "\n",
      "> avg loss: 2.1032571460652973\n",
      "> For the *357_th* data_key\n",
      "> retail = 299.99,bidincrement = 0.15, bidfee = 0.75, infer PT's parameters\n",
      "> Now do SA....... \n",
      "\n"
     ]
    },
    {
     "name": "stderr",
     "output_type": "stream",
     "text": [
      " 28%|██▊       | 358/1276 [40:01<3:14:04, 12.68s/it]"
     ]
    },
    {
     "name": "stdout",
     "output_type": "stream",
     "text": [
      "STOP CODE:  Stay unchanged in the last 6 iterations\n",
      "> SA ENDS....... \n",
      "\n",
      "> avg loss: 2.7227704606264296\n",
      "> For the *358_th* data_key\n",
      "> retail = 49.0,bidincrement = 0.15, bidfee = 0.75, infer PT's parameters\n",
      "> Now do SA....... \n",
      "\n"
     ]
    },
    {
     "name": "stderr",
     "output_type": "stream",
     "text": [
      " 28%|██▊       | 359/1276 [40:02<2:20:28,  9.19s/it]"
     ]
    },
    {
     "name": "stdout",
     "output_type": "stream",
     "text": [
      "STOP CODE:  Stay unchanged in the last 6 iterations\n",
      "> SA ENDS....... \n",
      "\n",
      "> avg loss: 2.274973565810489\n",
      "> For the *359_th* data_key\n",
      "> retail = 575.0,bidincrement = 0.15, bidfee = 0.75, infer PT's parameters\n",
      "> Now do SA....... \n",
      "\n"
     ]
    },
    {
     "name": "stderr",
     "output_type": "stream",
     "text": [
      " 28%|██▊       | 360/1276 [40:09<2:10:08,  8.52s/it]"
     ]
    },
    {
     "name": "stdout",
     "output_type": "stream",
     "text": [
      "STOP CODE:  Stay unchanged in the last 6 iterations\n",
      "> SA ENDS....... \n",
      "\n",
      "> avg loss: 2.792783864198923\n",
      "> For the *360_th* data_key\n",
      "> retail = 37.5,bidincrement = 0.0, bidfee = 0.75, infer PT's parameters\n",
      "> Now do SA....... \n",
      "\n"
     ]
    },
    {
     "name": "stderr",
     "output_type": "stream",
     "text": [
      " 28%|██▊       | 361/1276 [40:11<1:38:30,  6.46s/it]"
     ]
    },
    {
     "name": "stdout",
     "output_type": "stream",
     "text": [
      "STOP CODE:  Stay unchanged in the last 6 iterations\n",
      "> SA ENDS....... \n",
      "\n",
      "> avg loss: 4.950989313641886\n",
      "> For the *361_th* data_key\n",
      "> retail = 69.99,bidincrement = 0.15, bidfee = 0.75, infer PT's parameters\n",
      "> Now do SA....... \n",
      "\n"
     ]
    },
    {
     "name": "stderr",
     "output_type": "stream",
     "text": [
      " 28%|██▊       | 362/1276 [40:13<1:17:33,  5.09s/it]"
     ]
    },
    {
     "name": "stdout",
     "output_type": "stream",
     "text": [
      "STOP CODE:  Stay unchanged in the last 6 iterations\n",
      "> SA ENDS....... \n",
      "\n",
      "> avg loss: 2.7676954520045762\n",
      "> For the *362_th* data_key\n",
      "> retail = 769.99,bidincrement = 0.01, bidfee = 0.75, infer PT's parameters\n",
      "> Now do SA....... \n",
      "\n"
     ]
    },
    {
     "name": "stderr",
     "output_type": "stream",
     "text": [
      " 28%|██▊       | 363/1276 [41:14<5:31:47, 21.80s/it]"
     ]
    },
    {
     "name": "stdout",
     "output_type": "stream",
     "text": [
      "> 超时\n",
      "> SA ENDS....... \n",
      "\n",
      "> avg loss: 14.197587276981144\n",
      "> For the *363_th* data_key\n",
      "> retail = 229.99,bidincrement = 0.15, bidfee = 0.75, infer PT's parameters\n",
      "> Now do SA....... \n",
      "\n"
     ]
    },
    {
     "name": "stderr",
     "output_type": "stream",
     "text": [
      " 29%|██▊       | 364/1276 [41:16<4:04:15, 16.07s/it]"
     ]
    },
    {
     "name": "stdout",
     "output_type": "stream",
     "text": [
      "STOP CODE:  Stay unchanged in the last 6 iterations\n",
      "> SA ENDS....... \n",
      "\n",
      "> avg loss: 2.8363168926647333\n",
      "> For the *364_th* data_key\n",
      "> retail = 23.31,bidincrement = 0.15, bidfee = 0.75, infer PT's parameters\n",
      "> Now do SA....... \n",
      "\n"
     ]
    },
    {
     "name": "stderr",
     "output_type": "stream",
     "text": [
      " 29%|██▊       | 365/1276 [41:17<2:53:53, 11.45s/it]"
     ]
    },
    {
     "name": "stdout",
     "output_type": "stream",
     "text": [
      "STOP CODE:  Stay unchanged in the last 6 iterations\n",
      "> SA ENDS....... \n",
      "\n",
      "> avg loss: 2.505523546741289\n",
      "> For the *365_th* data_key\n",
      "> retail = 19.99,bidincrement = 0.15, bidfee = 0.75, infer PT's parameters\n",
      "> Now do SA....... \n",
      "\n"
     ]
    },
    {
     "name": "stderr",
     "output_type": "stream",
     "text": [
      " 29%|██▊       | 366/1276 [41:18<2:05:00,  8.24s/it]"
     ]
    },
    {
     "name": "stdout",
     "output_type": "stream",
     "text": [
      "STOP CODE:  Stay unchanged in the last 6 iterations\n",
      "> SA ENDS....... \n",
      "\n",
      "> avg loss: 2.251229325288312\n",
      "> For the *366_th* data_key\n",
      "> retail = 104.15,bidincrement = 0.15, bidfee = 0.75, infer PT's parameters\n",
      "> Now do SA....... \n",
      "\n"
     ]
    },
    {
     "name": "stderr",
     "output_type": "stream",
     "text": [
      " 29%|██▉       | 367/1276 [41:20<1:35:03,  6.27s/it]"
     ]
    },
    {
     "name": "stdout",
     "output_type": "stream",
     "text": [
      "STOP CODE:  Stay unchanged in the last 6 iterations\n",
      "> SA ENDS....... \n",
      "\n",
      "> avg loss: 3.643301048241685\n",
      "> For the *367_th* data_key\n",
      "> retail = 84.99,bidincrement = 0.15, bidfee = 0.75, infer PT's parameters\n",
      "> Now do SA....... \n",
      "\n"
     ]
    },
    {
     "name": "stderr",
     "output_type": "stream",
     "text": [
      " 29%|██▉       | 368/1276 [41:20<1:10:33,  4.66s/it]"
     ]
    },
    {
     "name": "stdout",
     "output_type": "stream",
     "text": [
      "STOP CODE:  Stay unchanged in the last 6 iterations\n",
      "> SA ENDS....... \n",
      "\n",
      "> avg loss: 3.0149283117212526\n",
      "> For the *368_th* data_key\n",
      "> retail = 162.99,bidincrement = 0.15, bidfee = 0.75, infer PT's parameters\n",
      "> Now do SA....... \n",
      "\n"
     ]
    },
    {
     "name": "stderr",
     "output_type": "stream",
     "text": [
      " 29%|██▉       | 369/1276 [41:25<1:10:11,  4.64s/it]"
     ]
    },
    {
     "name": "stdout",
     "output_type": "stream",
     "text": [
      "STOP CODE:  Stay unchanged in the last 6 iterations\n",
      "> SA ENDS....... \n",
      "\n",
      "> avg loss: 3.0760475611904514\n",
      "> For the *369_th* data_key\n",
      "> retail = 162.99,bidincrement = 0.15, bidfee = 0.75, infer PT's parameters\n",
      "> Now do SA....... \n",
      "\n"
     ]
    },
    {
     "name": "stderr",
     "output_type": "stream",
     "text": [
      " 29%|██▉       | 370/1276 [41:27<56:03,  3.71s/it]  "
     ]
    },
    {
     "name": "stdout",
     "output_type": "stream",
     "text": [
      "STOP CODE:  Stay unchanged in the last 6 iterations\n",
      "> SA ENDS....... \n",
      "\n",
      "> avg loss: 3.233824325601649\n",
      "> For the *370_th* data_key\n",
      "> retail = 110.11,bidincrement = 0.15, bidfee = 0.75, infer PT's parameters\n",
      "> Now do SA....... \n",
      "\n"
     ]
    },
    {
     "name": "stderr",
     "output_type": "stream",
     "text": [
      " 29%|██▉       | 371/1276 [41:28<43:58,  2.92s/it]"
     ]
    },
    {
     "name": "stdout",
     "output_type": "stream",
     "text": [
      "STOP CODE:  Stay unchanged in the last 6 iterations\n",
      "> SA ENDS....... \n",
      "\n",
      "> avg loss: 2.774634744503481\n",
      "> For the *371_th* data_key\n",
      "> retail = 179.99,bidincrement = 0.15, bidfee = 0.75, infer PT's parameters\n",
      "> Now do SA....... \n",
      "\n"
     ]
    },
    {
     "name": "stderr",
     "output_type": "stream",
     "text": [
      " 29%|██▉       | 372/1276 [41:29<38:02,  2.53s/it]"
     ]
    },
    {
     "name": "stdout",
     "output_type": "stream",
     "text": [
      "STOP CODE:  Stay unchanged in the last 6 iterations\n",
      "> SA ENDS....... \n",
      "\n",
      "> avg loss: 2.8085904835534206\n",
      "> For the *372_th* data_key\n",
      "> retail = 129.99,bidincrement = 0.15, bidfee = 0.75, infer PT's parameters\n",
      "> Now do SA....... \n",
      "\n"
     ]
    },
    {
     "name": "stderr",
     "output_type": "stream",
     "text": [
      " 29%|██▉       | 373/1276 [41:30<31:37,  2.10s/it]"
     ]
    },
    {
     "name": "stdout",
     "output_type": "stream",
     "text": [
      "STOP CODE:  Stay unchanged in the last 6 iterations\n",
      "> SA ENDS....... \n",
      "\n",
      "> avg loss: 2.348114618395881\n",
      "> For the *373_th* data_key\n",
      "> retail = 499.0,bidincrement = 0.15, bidfee = 0.75, infer PT's parameters\n",
      "> Now do SA....... \n",
      "\n"
     ]
    },
    {
     "name": "stderr",
     "output_type": "stream",
     "text": [
      " 29%|██▉       | 374/1276 [41:36<45:24,  3.02s/it]"
     ]
    },
    {
     "name": "stdout",
     "output_type": "stream",
     "text": [
      "STOP CODE:  Stay unchanged in the last 6 iterations\n",
      "> SA ENDS....... \n",
      "\n",
      "> avg loss: 2.997693771452458\n",
      "> For the *374_th* data_key\n",
      "> retail = 499.0,bidincrement = 0.15, bidfee = 0.75, infer PT's parameters\n",
      "> Now do SA....... \n",
      "\n"
     ]
    },
    {
     "name": "stderr",
     "output_type": "stream",
     "text": [
      " 29%|██▉       | 375/1276 [41:41<55:52,  3.72s/it]"
     ]
    },
    {
     "name": "stdout",
     "output_type": "stream",
     "text": [
      "STOP CODE:  Stay unchanged in the last 6 iterations\n",
      "> SA ENDS....... \n",
      "\n",
      "> avg loss: 3.115398912643267\n",
      "> For the *375_th* data_key\n",
      "> retail = 29.99,bidincrement = 0.15, bidfee = 0.75, infer PT's parameters\n",
      "> Now do SA....... \n",
      "\n"
     ]
    },
    {
     "name": "stderr",
     "output_type": "stream",
     "text": [
      " 29%|██▉       | 376/1276 [41:42<43:44,  2.92s/it]"
     ]
    },
    {
     "name": "stdout",
     "output_type": "stream",
     "text": [
      "STOP CODE:  Stay unchanged in the last 6 iterations\n",
      "> SA ENDS....... \n",
      "\n",
      "> avg loss: 2.5905911480715744\n",
      "> For the *376_th* data_key\n",
      "> retail = 429.31,bidincrement = 0.15, bidfee = 0.75, infer PT's parameters\n",
      "> Now do SA....... \n",
      "\n"
     ]
    },
    {
     "name": "stderr",
     "output_type": "stream",
     "text": [
      " 30%|██▉       | 377/1276 [41:45<44:34,  2.97s/it]"
     ]
    },
    {
     "name": "stdout",
     "output_type": "stream",
     "text": [
      "STOP CODE:  Stay unchanged in the last 6 iterations\n",
      "> SA ENDS....... \n",
      "\n",
      "> avg loss: 2.922780244867344\n",
      "> For the *377_th* data_key\n",
      "> retail = 1799.99,bidincrement = 0.01, bidfee = 0.75, infer PT's parameters\n",
      "> Now do SA....... \n",
      "\n"
     ]
    },
    {
     "name": "stderr",
     "output_type": "stream",
     "text": [
      " 30%|██▉       | 378/1276 [42:47<5:08:13, 20.59s/it]"
     ]
    },
    {
     "name": "stdout",
     "output_type": "stream",
     "text": [
      "> 超时\n",
      "> SA ENDS....... \n",
      "\n",
      "> avg loss: 18.36267474626512\n",
      "> For the *378_th* data_key\n",
      "> retail = 60.0,bidincrement = 0.15, bidfee = 0.75, infer PT's parameters\n",
      "> Now do SA....... \n",
      "\n"
     ]
    },
    {
     "name": "stderr",
     "output_type": "stream",
     "text": [
      " 30%|██▉       | 379/1276 [42:49<3:45:57, 15.11s/it]"
     ]
    },
    {
     "name": "stdout",
     "output_type": "stream",
     "text": [
      "STOP CODE:  Stay unchanged in the last 6 iterations\n",
      "> SA ENDS....... \n",
      "\n",
      "> avg loss: 2.774432863272066\n",
      "> For the *379_th* data_key\n",
      "> retail = 399.95,bidincrement = 0.15, bidfee = 0.75, infer PT's parameters\n",
      "> Now do SA....... \n",
      "\n"
     ]
    },
    {
     "name": "stderr",
     "output_type": "stream",
     "text": [
      " 30%|██▉       | 380/1276 [42:55<3:05:42, 12.44s/it]"
     ]
    },
    {
     "name": "stdout",
     "output_type": "stream",
     "text": [
      "STOP CODE:  Stay unchanged in the last 6 iterations\n",
      "> SA ENDS....... \n",
      "\n",
      "> avg loss: 3.791444567799608\n",
      "> For the *380_th* data_key\n",
      "> retail = 59.99,bidincrement = 0.15, bidfee = 0.75, infer PT's parameters\n",
      "> Now do SA....... \n",
      "\n"
     ]
    },
    {
     "name": "stderr",
     "output_type": "stream",
     "text": [
      " 30%|██▉       | 381/1276 [42:56<2:14:13,  9.00s/it]"
     ]
    },
    {
     "name": "stdout",
     "output_type": "stream",
     "text": [
      "STOP CODE:  Stay unchanged in the last 6 iterations\n",
      "> SA ENDS....... \n",
      "\n",
      "> avg loss: 2.519947043695886\n",
      "> For the *381_th* data_key\n",
      "> retail = 246.0,bidincrement = 0.15, bidfee = 0.75, infer PT's parameters\n",
      "> Now do SA....... \n",
      "\n"
     ]
    },
    {
     "name": "stderr",
     "output_type": "stream",
     "text": [
      " 30%|██▉       | 382/1276 [42:58<1:43:11,  6.93s/it]"
     ]
    },
    {
     "name": "stdout",
     "output_type": "stream",
     "text": [
      "STOP CODE:  Stay unchanged in the last 6 iterations\n",
      "> SA ENDS....... \n",
      "\n",
      "> avg loss: 2.872407453827657\n",
      "> For the *382_th* data_key\n",
      "> retail = 48.49,bidincrement = 0.15, bidfee = 0.75, infer PT's parameters\n",
      "> Now do SA....... \n",
      "\n"
     ]
    },
    {
     "name": "stderr",
     "output_type": "stream",
     "text": [
      " 30%|███       | 383/1276 [42:59<1:15:05,  5.05s/it]"
     ]
    },
    {
     "name": "stdout",
     "output_type": "stream",
     "text": [
      "STOP CODE:  Stay unchanged in the last 6 iterations\n",
      "> SA ENDS....... \n",
      "\n",
      "> avg loss: 3.0022052025720343\n",
      "> For the *383_th* data_key\n",
      "> retail = 59.99,bidincrement = 0.15, bidfee = 0.75, infer PT's parameters\n",
      "> Now do SA....... \n",
      "\n"
     ]
    },
    {
     "name": "stderr",
     "output_type": "stream",
     "text": [
      " 30%|███       | 384/1276 [43:00<55:47,  3.75s/it]  "
     ]
    },
    {
     "name": "stdout",
     "output_type": "stream",
     "text": [
      "STOP CODE:  Stay unchanged in the last 6 iterations\n",
      "> SA ENDS....... \n",
      "\n",
      "> avg loss: 3.1121924655731235\n",
      "> For the *384_th* data_key\n",
      "> retail = 29.99,bidincrement = 0.15, bidfee = 0.75, infer PT's parameters\n",
      "> Now do SA....... \n",
      "\n"
     ]
    },
    {
     "name": "stderr",
     "output_type": "stream",
     "text": [
      " 30%|███       | 385/1276 [43:00<42:00,  2.83s/it]"
     ]
    },
    {
     "name": "stdout",
     "output_type": "stream",
     "text": [
      "STOP CODE:  Stay unchanged in the last 6 iterations\n",
      "> SA ENDS....... \n",
      "\n",
      "> avg loss: 2.676713098491294\n",
      "> For the *385_th* data_key\n",
      "> retail = 408.0,bidincrement = 0.15, bidfee = 0.75, infer PT's parameters\n",
      "> Now do SA....... \n",
      "\n"
     ]
    },
    {
     "name": "stderr",
     "output_type": "stream",
     "text": [
      " 30%|███       | 386/1276 [43:08<1:01:04,  4.12s/it]"
     ]
    },
    {
     "name": "stdout",
     "output_type": "stream",
     "text": [
      "STOP CODE:  Stay unchanged in the last 6 iterations\n",
      "> SA ENDS....... \n",
      "\n",
      "> avg loss: 3.558111304277102\n",
      "> For the *386_th* data_key\n",
      "> retail = 799.0,bidincrement = 0.15, bidfee = 0.75, infer PT's parameters\n",
      "> Now do SA....... \n",
      "\n"
     ]
    },
    {
     "name": "stderr",
     "output_type": "stream",
     "text": [
      " 30%|███       | 387/1276 [43:15<1:18:02,  5.27s/it]"
     ]
    },
    {
     "name": "stdout",
     "output_type": "stream",
     "text": [
      "STOP CODE:  Stay unchanged in the last 6 iterations\n",
      "> SA ENDS....... \n",
      "\n",
      "> avg loss: 2.3133436197165396\n",
      "> For the *387_th* data_key\n",
      "> retail = 579.99,bidincrement = 0.15, bidfee = 0.75, infer PT's parameters\n",
      "> Now do SA....... \n",
      "\n"
     ]
    },
    {
     "name": "stderr",
     "output_type": "stream",
     "text": [
      " 30%|███       | 388/1276 [43:25<1:35:06,  6.43s/it]"
     ]
    },
    {
     "name": "stdout",
     "output_type": "stream",
     "text": [
      "STOP CODE:  Stay unchanged in the last 6 iterations\n",
      "> SA ENDS....... \n",
      "\n",
      "> avg loss: 2.304308691483034\n",
      "> For the *388_th* data_key\n",
      "> retail = 49.99,bidincrement = 0.15, bidfee = 0.75, infer PT's parameters\n",
      "> Now do SA....... \n",
      "\n"
     ]
    },
    {
     "name": "stderr",
     "output_type": "stream",
     "text": [
      " 30%|███       | 389/1276 [43:26<1:13:24,  4.97s/it]"
     ]
    },
    {
     "name": "stdout",
     "output_type": "stream",
     "text": [
      "STOP CODE:  Stay unchanged in the last 6 iterations\n",
      "> SA ENDS....... \n",
      "\n",
      "> avg loss: 3.391667482554373\n",
      "> For the *389_th* data_key\n",
      "> retail = 149.99,bidincrement = 0.01, bidfee = 0.75, infer PT's parameters\n",
      "> Now do SA....... \n",
      "\n"
     ]
    },
    {
     "name": "stderr",
     "output_type": "stream",
     "text": [
      " 31%|███       | 390/1276 [44:02<3:31:23, 14.32s/it]"
     ]
    },
    {
     "name": "stdout",
     "output_type": "stream",
     "text": [
      "STOP CODE:  Stay unchanged in the last 6 iterations\n",
      "> SA ENDS....... \n",
      "\n",
      "> avg loss: 6.428951839322591\n",
      "> For the *390_th* data_key\n",
      "> retail = 199.99,bidincrement = 0.15, bidfee = 0.75, infer PT's parameters\n",
      "> Now do SA....... \n",
      "\n"
     ]
    },
    {
     "name": "stderr",
     "output_type": "stream",
     "text": [
      " 31%|███       | 391/1276 [44:04<2:35:49, 10.56s/it]"
     ]
    },
    {
     "name": "stdout",
     "output_type": "stream",
     "text": [
      "STOP CODE:  Stay unchanged in the last 6 iterations\n",
      "> SA ENDS....... \n",
      "\n",
      "> avg loss: 3.151193012355347\n",
      "> For the *391_th* data_key\n",
      "> retail = 51.14,bidincrement = 0.01, bidfee = 0.75, infer PT's parameters\n",
      "> Now do SA....... \n",
      "\n"
     ]
    },
    {
     "name": "stderr",
     "output_type": "stream",
     "text": [
      " 31%|███       | 392/1276 [44:11<2:18:41,  9.41s/it]"
     ]
    },
    {
     "name": "stdout",
     "output_type": "stream",
     "text": [
      "STOP CODE:  Stay unchanged in the last 6 iterations\n",
      "> SA ENDS....... \n",
      "\n",
      "> avg loss: 5.145935135092654\n",
      "> For the *392_th* data_key\n",
      "> retail = 299.99,bidincrement = 0.15, bidfee = 0.75, infer PT's parameters\n",
      "> Now do SA....... \n",
      "\n"
     ]
    },
    {
     "name": "stderr",
     "output_type": "stream",
     "text": [
      " 31%|███       | 393/1276 [44:16<2:00:46,  8.21s/it]"
     ]
    },
    {
     "name": "stdout",
     "output_type": "stream",
     "text": [
      "STOP CODE:  Stay unchanged in the last 6 iterations\n",
      "> SA ENDS....... \n",
      "\n",
      "> avg loss: 2.522921536843752\n",
      "> For the *393_th* data_key\n",
      "> retail = 169.99,bidincrement = 0.15, bidfee = 0.75, infer PT's parameters\n",
      "> Now do SA....... \n",
      "\n"
     ]
    },
    {
     "name": "stderr",
     "output_type": "stream",
     "text": [
      " 31%|███       | 394/1276 [44:20<1:39:55,  6.80s/it]"
     ]
    },
    {
     "name": "stdout",
     "output_type": "stream",
     "text": [
      "STOP CODE:  Stay unchanged in the last 6 iterations\n",
      "> SA ENDS....... \n",
      "\n",
      "> avg loss: 2.896986815359485\n",
      "> For the *394_th* data_key\n",
      "> retail = 299.99,bidincrement = 0.01, bidfee = 0.75, infer PT's parameters\n",
      "> Now do SA....... \n",
      "\n"
     ]
    },
    {
     "name": "stderr",
     "output_type": "stream",
     "text": [
      " 31%|███       | 395/1276 [45:16<5:17:47, 21.64s/it]"
     ]
    },
    {
     "name": "stdout",
     "output_type": "stream",
     "text": [
      "STOP CODE:  Stay unchanged in the last 6 iterations\n",
      "> SA ENDS....... \n",
      "\n",
      "> avg loss: 7.0335283212998645\n",
      "> For the *395_th* data_key\n",
      "> retail = 29.99,bidincrement = 0.01, bidfee = 0.75, infer PT's parameters\n",
      "> Now do SA....... \n",
      "\n"
     ]
    },
    {
     "name": "stderr",
     "output_type": "stream",
     "text": [
      " 31%|███       | 396/1276 [45:22<4:08:21, 16.93s/it]"
     ]
    },
    {
     "name": "stdout",
     "output_type": "stream",
     "text": [
      "STOP CODE:  Stay unchanged in the last 6 iterations\n",
      "> SA ENDS....... \n",
      "\n",
      "> avg loss: 4.786339846931499\n",
      "> For the *396_th* data_key\n",
      "> retail = 349.99,bidincrement = 0.01, bidfee = 0.75, infer PT's parameters\n",
      "> Now do SA....... \n",
      "\n"
     ]
    },
    {
     "name": "stderr",
     "output_type": "stream",
     "text": [
      " 31%|███       | 397/1276 [46:22<7:19:05, 29.97s/it]"
     ]
    },
    {
     "name": "stdout",
     "output_type": "stream",
     "text": [
      "> 超时\n",
      "> SA ENDS....... \n",
      "\n",
      "> avg loss: 11.38530148583023\n",
      "> For the *397_th* data_key\n",
      "> retail = 2400.0,bidincrement = 0.01, bidfee = 0.75, infer PT's parameters\n",
      "> Now do SA....... \n",
      "\n"
     ]
    },
    {
     "name": "stderr",
     "output_type": "stream",
     "text": [
      " 31%|███       | 398/1276 [47:25<9:40:58, 39.70s/it]"
     ]
    },
    {
     "name": "stdout",
     "output_type": "stream",
     "text": [
      "> 超时\n",
      "> SA ENDS....... \n",
      "\n",
      "> avg loss: 20.714215003971734\n",
      "> For the *398_th* data_key\n",
      "> retail = 80.0,bidincrement = 0.01, bidfee = 0.75, infer PT's parameters\n",
      "> Now do SA....... \n",
      "\n"
     ]
    },
    {
     "name": "stderr",
     "output_type": "stream",
     "text": [
      " 31%|███▏      | 399/1276 [47:47<8:24:39, 34.53s/it]"
     ]
    },
    {
     "name": "stdout",
     "output_type": "stream",
     "text": [
      "STOP CODE:  Stay unchanged in the last 6 iterations\n",
      "> SA ENDS....... \n",
      "\n",
      "> avg loss: 5.592033744800825\n",
      "> For the *399_th* data_key\n",
      "> retail = 225.0,bidincrement = 0.01, bidfee = 0.75, infer PT's parameters\n",
      "> Now do SA....... \n",
      "\n"
     ]
    },
    {
     "name": "stderr",
     "output_type": "stream",
     "text": [
      " 31%|███▏      | 400/1276 [48:10<7:33:16, 31.05s/it]"
     ]
    },
    {
     "name": "stdout",
     "output_type": "stream",
     "text": [
      "STOP CODE:  Stay unchanged in the last 6 iterations\n",
      "> SA ENDS....... \n",
      "\n",
      "> avg loss: 6.820125083180005\n",
      "> For the *400_th* data_key\n",
      "> retail = 37.5,bidincrement = 0.01, bidfee = 0.75, infer PT's parameters\n",
      "> Now do SA....... \n",
      "\n"
     ]
    },
    {
     "name": "stderr",
     "output_type": "stream",
     "text": [
      " 31%|███▏      | 401/1276 [48:15<5:37:29, 23.14s/it]"
     ]
    },
    {
     "name": "stdout",
     "output_type": "stream",
     "text": [
      "STOP CODE:  Stay unchanged in the last 6 iterations\n",
      "> SA ENDS....... \n",
      "\n",
      "> avg loss: 4.902229427157154\n",
      "> For the *401_th* data_key\n",
      "> retail = 211.13,bidincrement = 0.15, bidfee = 0.75, infer PT's parameters\n",
      "> Now do SA....... \n",
      "\n"
     ]
    },
    {
     "name": "stderr",
     "output_type": "stream",
     "text": [
      " 32%|███▏      | 402/1276 [48:19<4:12:34, 17.34s/it]"
     ]
    },
    {
     "name": "stdout",
     "output_type": "stream",
     "text": [
      "STOP CODE:  Stay unchanged in the last 6 iterations\n",
      "> SA ENDS....... \n",
      "\n",
      "> avg loss: 3.2303771985272216\n",
      "> For the *402_th* data_key\n",
      "> retail = 1109.44,bidincrement = 0.01, bidfee = 0.75, infer PT's parameters\n",
      "> Now do SA....... \n",
      "\n"
     ]
    },
    {
     "name": "stderr",
     "output_type": "stream",
     "text": [
      " 32%|███▏      | 403/1276 [49:20<7:23:18, 30.47s/it]"
     ]
    },
    {
     "name": "stdout",
     "output_type": "stream",
     "text": [
      "> 超时\n",
      "> SA ENDS....... \n",
      "\n",
      "> avg loss: 16.02002896067234\n",
      "> For the *403_th* data_key\n",
      "> retail = 40.99,bidincrement = 0.15, bidfee = 0.75, infer PT's parameters\n",
      "> Now do SA....... \n",
      "\n"
     ]
    },
    {
     "name": "stderr",
     "output_type": "stream",
     "text": [
      " 32%|███▏      | 404/1276 [49:21<5:15:29, 21.71s/it]"
     ]
    },
    {
     "name": "stdout",
     "output_type": "stream",
     "text": [
      "STOP CODE:  Stay unchanged in the last 6 iterations\n",
      "> SA ENDS....... \n",
      "\n",
      "> avg loss: 3.1441050274779605\n",
      "> For the *404_th* data_key\n",
      "> retail = 24.99,bidincrement = 0.15, bidfee = 0.75, infer PT's parameters\n",
      "> Now do SA....... \n",
      "\n"
     ]
    },
    {
     "name": "stderr",
     "output_type": "stream",
     "text": [
      " 32%|███▏      | 405/1276 [49:22<3:43:24, 15.39s/it]"
     ]
    },
    {
     "name": "stdout",
     "output_type": "stream",
     "text": [
      "STOP CODE:  Stay unchanged in the last 6 iterations\n",
      "> SA ENDS....... \n",
      "\n",
      "> avg loss: 2.8433394785735455\n",
      "> For the *405_th* data_key\n",
      "> retail = 42.99,bidincrement = 0.15, bidfee = 0.75, infer PT's parameters\n",
      "> Now do SA....... \n",
      "\n"
     ]
    },
    {
     "name": "stderr",
     "output_type": "stream",
     "text": [
      " 32%|███▏      | 406/1276 [49:23<2:40:27, 11.07s/it]"
     ]
    },
    {
     "name": "stdout",
     "output_type": "stream",
     "text": [
      "STOP CODE:  Stay unchanged in the last 6 iterations\n",
      "> SA ENDS....... \n",
      "\n",
      "> avg loss: 3.2312320091494\n",
      "> For the *406_th* data_key\n",
      "> retail = 49.99,bidincrement = 0.15, bidfee = 0.75, infer PT's parameters\n",
      "> Now do SA....... \n",
      "\n"
     ]
    },
    {
     "name": "stderr",
     "output_type": "stream",
     "text": [
      " 32%|███▏      | 407/1276 [49:24<1:58:37,  8.19s/it]"
     ]
    },
    {
     "name": "stdout",
     "output_type": "stream",
     "text": [
      "STOP CODE:  Stay unchanged in the last 6 iterations\n",
      "> SA ENDS....... \n",
      "\n",
      "> avg loss: 2.933809350877533\n",
      "> For the *407_th* data_key\n",
      "> retail = 1000.0,bidincrement = 0.01, bidfee = 0.75, infer PT's parameters\n",
      "> Now do SA....... \n",
      "\n"
     ]
    },
    {
     "name": "stderr",
     "output_type": "stream",
     "text": [
      " 32%|███▏      | 408/1276 [50:25<5:47:49, 24.04s/it]"
     ]
    },
    {
     "name": "stdout",
     "output_type": "stream",
     "text": [
      "> 超时\n",
      "> SA ENDS....... \n",
      "\n",
      "> avg loss: 15.530873280593116\n",
      "> For the *408_th* data_key\n",
      "> retail = 349.99,bidincrement = 0.01, bidfee = 0.75, infer PT's parameters\n",
      "> Now do SA....... \n",
      "\n"
     ]
    },
    {
     "name": "stderr",
     "output_type": "stream",
     "text": [
      " 32%|███▏      | 409/1276 [51:26<8:25:11, 34.96s/it]"
     ]
    },
    {
     "name": "stdout",
     "output_type": "stream",
     "text": [
      "> 超时\n",
      "> SA ENDS....... \n",
      "\n",
      "> avg loss: 11.193032329500552\n",
      "> For the *409_th* data_key\n",
      "> retail = 35.99,bidincrement = 0.15, bidfee = 0.75, infer PT's parameters\n",
      "> Now do SA....... \n",
      "\n"
     ]
    },
    {
     "name": "stderr",
     "output_type": "stream",
     "text": [
      " 32%|███▏      | 410/1276 [51:26<5:55:47, 24.65s/it]"
     ]
    },
    {
     "name": "stdout",
     "output_type": "stream",
     "text": [
      "STOP CODE:  Stay unchanged in the last 6 iterations\n",
      "> SA ENDS....... \n",
      "\n",
      "> avg loss: 2.7614927450338995\n",
      "> For the *410_th* data_key\n",
      "> retail = 49.95,bidincrement = 0.15, bidfee = 0.75, infer PT's parameters\n",
      "> Now do SA....... \n",
      "\n"
     ]
    },
    {
     "name": "stderr",
     "output_type": "stream",
     "text": [
      " 32%|███▏      | 411/1276 [51:27<4:12:47, 17.53s/it]"
     ]
    },
    {
     "name": "stdout",
     "output_type": "stream",
     "text": [
      "STOP CODE:  Stay unchanged in the last 6 iterations\n",
      "> SA ENDS....... \n",
      "\n",
      "> avg loss: 2.5840096845239358\n",
      "> For the *411_th* data_key\n",
      "> retail = 1199.99,bidincrement = 0.01, bidfee = 0.75, infer PT's parameters\n",
      "> Now do SA....... \n",
      "\n"
     ]
    },
    {
     "name": "stderr",
     "output_type": "stream",
     "text": [
      " 32%|███▏      | 412/1276 [52:28<7:20:50, 30.61s/it]"
     ]
    },
    {
     "name": "stdout",
     "output_type": "stream",
     "text": [
      "> 超时\n",
      "> SA ENDS....... \n",
      "\n",
      "> avg loss: 16.735790426762374\n",
      "> For the *412_th* data_key\n",
      "> retail = 39.99,bidincrement = 0.15, bidfee = 0.75, infer PT's parameters\n",
      "> Now do SA....... \n",
      "\n"
     ]
    },
    {
     "name": "stderr",
     "output_type": "stream",
     "text": [
      " 32%|███▏      | 413/1276 [52:29<5:11:19, 21.64s/it]"
     ]
    },
    {
     "name": "stdout",
     "output_type": "stream",
     "text": [
      "STOP CODE:  Stay unchanged in the last 6 iterations\n",
      "> SA ENDS....... \n",
      "\n",
      "> avg loss: 2.824771776487481\n",
      "> For the *413_th* data_key\n",
      "> retail = 299.99,bidincrement = 0.15, bidfee = 0.75, infer PT's parameters\n",
      "> Now do SA....... \n",
      "\n"
     ]
    },
    {
     "name": "stderr",
     "output_type": "stream",
     "text": [
      " 32%|███▏      | 414/1276 [52:34<3:59:56, 16.70s/it]"
     ]
    },
    {
     "name": "stdout",
     "output_type": "stream",
     "text": [
      "STOP CODE:  Stay unchanged in the last 6 iterations\n",
      "> SA ENDS....... \n",
      "\n",
      "> avg loss: 2.7407463378559163\n",
      "> For the *414_th* data_key\n",
      "> retail = 59.99,bidincrement = 0.15, bidfee = 0.75, infer PT's parameters\n",
      "> Now do SA....... \n",
      "\n"
     ]
    },
    {
     "name": "stderr",
     "output_type": "stream",
     "text": [
      " 33%|███▎      | 415/1276 [52:35<2:53:42, 12.10s/it]"
     ]
    },
    {
     "name": "stdout",
     "output_type": "stream",
     "text": [
      "STOP CODE:  Stay unchanged in the last 6 iterations\n",
      "> SA ENDS....... \n",
      "\n",
      "> avg loss: 2.76208805048872\n",
      "> For the *415_th* data_key\n",
      "> retail = 1499.0,bidincrement = 0.01, bidfee = 0.75, infer PT's parameters\n",
      "> Now do SA....... \n",
      "\n"
     ]
    },
    {
     "name": "stderr",
     "output_type": "stream",
     "text": [
      " 33%|███▎      | 416/1276 [53:37<6:25:43, 26.91s/it]"
     ]
    },
    {
     "name": "stdout",
     "output_type": "stream",
     "text": [
      "> 超时\n",
      "> SA ENDS....... \n",
      "\n",
      "> avg loss: 17.669750466464716\n",
      "> For the *416_th* data_key\n",
      "> retail = 49.99,bidincrement = 0.15, bidfee = 0.75, infer PT's parameters\n",
      "> Now do SA....... \n",
      "\n"
     ]
    },
    {
     "name": "stderr",
     "output_type": "stream",
     "text": [
      " 33%|███▎      | 417/1276 [53:38<4:34:09, 19.15s/it]"
     ]
    },
    {
     "name": "stdout",
     "output_type": "stream",
     "text": [
      "STOP CODE:  Stay unchanged in the last 6 iterations\n",
      "> SA ENDS....... \n",
      "\n",
      "> avg loss: 2.257587675421714\n",
      "> For the *417_th* data_key\n",
      "> retail = 1282.83,bidincrement = 0.15, bidfee = 0.75, infer PT's parameters\n",
      "> Now do SA....... \n",
      "\n"
     ]
    },
    {
     "name": "stderr",
     "output_type": "stream",
     "text": [
      " 33%|███▎      | 418/1276 [54:07<5:14:54, 22.02s/it]"
     ]
    },
    {
     "name": "stdout",
     "output_type": "stream",
     "text": [
      "STOP CODE:  Stay unchanged in the last 6 iterations\n",
      "> SA ENDS....... \n",
      "\n",
      "> avg loss: 8.302262726263795\n",
      "> For the *418_th* data_key\n",
      "> retail = 549.95,bidincrement = 0.15, bidfee = 0.75, infer PT's parameters\n",
      "> Now do SA....... \n",
      "\n"
     ]
    },
    {
     "name": "stderr",
     "output_type": "stream",
     "text": [
      " 33%|███▎      | 419/1276 [54:11<3:58:14, 16.68s/it]"
     ]
    },
    {
     "name": "stdout",
     "output_type": "stream",
     "text": [
      "STOP CODE:  Stay unchanged in the last 6 iterations\n",
      "> SA ENDS....... \n",
      "\n",
      "> avg loss: 2.5437314081477997\n",
      "> For the *419_th* data_key\n",
      "> retail = 47.99,bidincrement = 0.15, bidfee = 0.75, infer PT's parameters\n",
      "> Now do SA....... \n",
      "\n"
     ]
    },
    {
     "name": "stderr",
     "output_type": "stream",
     "text": [
      " 33%|███▎      | 420/1276 [54:13<2:53:27, 12.16s/it]"
     ]
    },
    {
     "name": "stdout",
     "output_type": "stream",
     "text": [
      "STOP CODE:  Stay unchanged in the last 6 iterations\n",
      "> SA ENDS....... \n",
      "\n",
      "> avg loss: 2.706637679606122\n",
      "> For the *420_th* data_key\n",
      "> retail = 1470.68,bidincrement = 0.01, bidfee = 0.75, infer PT's parameters\n",
      "> Now do SA....... \n",
      "\n"
     ]
    },
    {
     "name": "stderr",
     "output_type": "stream",
     "text": [
      " 33%|███▎      | 421/1276 [55:14<6:23:55, 26.94s/it]"
     ]
    },
    {
     "name": "stdout",
     "output_type": "stream",
     "text": [
      "> 超时\n",
      "> SA ENDS....... \n",
      "\n",
      "> avg loss: 17.61620514802498\n",
      "> For the *421_th* data_key\n",
      "> retail = 699.99,bidincrement = 0.15, bidfee = 0.75, infer PT's parameters\n",
      "> Now do SA....... \n",
      "\n"
     ]
    },
    {
     "name": "stderr",
     "output_type": "stream",
     "text": [
      " 33%|███▎      | 422/1276 [55:38<6:10:27, 26.03s/it]"
     ]
    },
    {
     "name": "stdout",
     "output_type": "stream",
     "text": [
      "STOP CODE:  Stay unchanged in the last 6 iterations\n",
      "> SA ENDS....... \n",
      "\n",
      "> avg loss: 7.623058346586975\n",
      "> For the *422_th* data_key\n",
      "> retail = 699.99,bidincrement = 0.15, bidfee = 0.75, infer PT's parameters\n",
      "> Now do SA....... \n",
      "\n"
     ]
    },
    {
     "name": "stderr",
     "output_type": "stream",
     "text": [
      " 33%|███▎      | 423/1276 [55:48<5:00:05, 21.11s/it]"
     ]
    },
    {
     "name": "stdout",
     "output_type": "stream",
     "text": [
      "STOP CODE:  Stay unchanged in the last 6 iterations\n",
      "> SA ENDS....... \n",
      "\n",
      "> avg loss: 7.6847077784535935\n",
      "> For the *423_th* data_key\n",
      "> retail = 1799.0,bidincrement = 0.01, bidfee = 0.75, infer PT's parameters\n",
      "> Now do SA....... \n",
      "\n"
     ]
    },
    {
     "name": "stderr",
     "output_type": "stream",
     "text": [
      " 33%|███▎      | 424/1276 [56:49<7:53:28, 33.34s/it]"
     ]
    },
    {
     "name": "stdout",
     "output_type": "stream",
     "text": [
      "> 超时\n",
      "> SA ENDS....... \n",
      "\n",
      "> avg loss: 18.88580160912527\n",
      "> For the *424_th* data_key\n",
      "> retail = 229.0,bidincrement = 0.15, bidfee = 0.75, infer PT's parameters\n",
      "> Now do SA....... \n",
      "\n"
     ]
    },
    {
     "name": "stderr",
     "output_type": "stream",
     "text": [
      " 33%|███▎      | 425/1276 [56:54<5:49:20, 24.63s/it]"
     ]
    },
    {
     "name": "stdout",
     "output_type": "stream",
     "text": [
      "STOP CODE:  Stay unchanged in the last 6 iterations\n",
      "> SA ENDS....... \n",
      "\n",
      "> avg loss: 3.495342916176771\n",
      "> For the *425_th* data_key\n",
      "> retail = 49.95,bidincrement = 0.15, bidfee = 0.75, infer PT's parameters\n",
      "> Now do SA....... \n",
      "\n"
     ]
    },
    {
     "name": "stderr",
     "output_type": "stream",
     "text": [
      " 33%|███▎      | 426/1276 [56:55<4:11:54, 17.78s/it]"
     ]
    },
    {
     "name": "stdout",
     "output_type": "stream",
     "text": [
      "STOP CODE:  Stay unchanged in the last 6 iterations\n",
      "> SA ENDS....... \n",
      "\n",
      "> avg loss: 2.1514531485837267\n",
      "> For the *426_th* data_key\n",
      "> retail = 29.99,bidincrement = 0.15, bidfee = 0.75, infer PT's parameters\n",
      "> Now do SA....... \n",
      "\n"
     ]
    },
    {
     "name": "stderr",
     "output_type": "stream",
     "text": [
      " 33%|███▎      | 427/1276 [56:57<3:02:56, 12.93s/it]"
     ]
    },
    {
     "name": "stdout",
     "output_type": "stream",
     "text": [
      "STOP CODE:  Stay unchanged in the last 6 iterations\n",
      "> SA ENDS....... \n",
      "\n",
      "> avg loss: 2.0673576260314945\n",
      "> For the *427_th* data_key\n",
      "> retail = 29.95,bidincrement = 0.15, bidfee = 0.75, infer PT's parameters\n",
      "> Now do SA....... \n",
      "\n"
     ]
    },
    {
     "name": "stderr",
     "output_type": "stream",
     "text": [
      " 34%|███▎      | 428/1276 [56:58<2:12:49,  9.40s/it]"
     ]
    },
    {
     "name": "stdout",
     "output_type": "stream",
     "text": [
      "STOP CODE:  Stay unchanged in the last 6 iterations\n",
      "> SA ENDS....... \n",
      "\n",
      "> avg loss: 2.0774566362870677\n",
      "> For the *428_th* data_key\n",
      "> retail = 59.99,bidincrement = 0.15, bidfee = 0.75, infer PT's parameters\n",
      "> Now do SA....... \n",
      "\n"
     ]
    },
    {
     "name": "stderr",
     "output_type": "stream",
     "text": [
      " 34%|███▎      | 429/1276 [56:59<1:37:40,  6.92s/it]"
     ]
    },
    {
     "name": "stdout",
     "output_type": "stream",
     "text": [
      "STOP CODE:  Stay unchanged in the last 6 iterations\n",
      "> SA ENDS....... \n",
      "\n",
      "> avg loss: 2.3682103044777363\n",
      "> For the *429_th* data_key\n",
      "> retail = 59.99,bidincrement = 0.15, bidfee = 0.75, infer PT's parameters\n",
      "> Now do SA....... \n",
      "\n"
     ]
    },
    {
     "name": "stderr",
     "output_type": "stream",
     "text": [
      " 34%|███▎      | 430/1276 [57:00<1:12:26,  5.14s/it]"
     ]
    },
    {
     "name": "stdout",
     "output_type": "stream",
     "text": [
      "STOP CODE:  Stay unchanged in the last 6 iterations\n",
      "> SA ENDS....... \n",
      "\n",
      "> avg loss: 2.270908238287477\n",
      "> For the *430_th* data_key\n",
      "> retail = 49.99,bidincrement = 0.15, bidfee = 0.75, infer PT's parameters\n",
      "> Now do SA....... \n",
      "\n"
     ]
    },
    {
     "name": "stderr",
     "output_type": "stream",
     "text": [
      " 34%|███▍      | 431/1276 [57:01<54:35,  3.88s/it]  "
     ]
    },
    {
     "name": "stdout",
     "output_type": "stream",
     "text": [
      "STOP CODE:  Stay unchanged in the last 6 iterations\n",
      "> SA ENDS....... \n",
      "\n",
      "> avg loss: 2.317167821244163\n",
      "> For the *431_th* data_key\n",
      "> retail = 59.99,bidincrement = 0.15, bidfee = 0.75, infer PT's parameters\n",
      "> Now do SA....... \n",
      "\n"
     ]
    },
    {
     "name": "stderr",
     "output_type": "stream",
     "text": [
      " 34%|███▍      | 432/1276 [57:03<47:00,  3.34s/it]"
     ]
    },
    {
     "name": "stdout",
     "output_type": "stream",
     "text": [
      "STOP CODE:  Stay unchanged in the last 6 iterations\n",
      "> SA ENDS....... \n",
      "\n",
      "> avg loss: 2.459434171010497\n",
      "> For the *432_th* data_key\n",
      "> retail = 59.99,bidincrement = 0.15, bidfee = 0.75, infer PT's parameters\n",
      "> Now do SA....... \n",
      "\n"
     ]
    },
    {
     "name": "stderr",
     "output_type": "stream",
     "text": [
      " 34%|███▍      | 433/1276 [57:04<36:58,  2.63s/it]"
     ]
    },
    {
     "name": "stdout",
     "output_type": "stream",
     "text": [
      "STOP CODE:  Stay unchanged in the last 6 iterations\n",
      "> SA ENDS....... \n",
      "\n",
      "> avg loss: 2.388231889894745\n",
      "> For the *433_th* data_key\n",
      "> retail = 49.99,bidincrement = 0.15, bidfee = 0.75, infer PT's parameters\n",
      "> Now do SA....... \n",
      "\n"
     ]
    },
    {
     "name": "stderr",
     "output_type": "stream",
     "text": [
      " 34%|███▍      | 434/1276 [57:07<34:56,  2.49s/it]"
     ]
    },
    {
     "name": "stdout",
     "output_type": "stream",
     "text": [
      "STOP CODE:  Stay unchanged in the last 6 iterations\n",
      "> SA ENDS....... \n",
      "\n",
      "> avg loss: 2.1342807340500936\n",
      "> For the *434_th* data_key\n",
      "> retail = 59.99,bidincrement = 0.15, bidfee = 0.75, infer PT's parameters\n",
      "> Now do SA....... \n",
      "\n"
     ]
    },
    {
     "name": "stderr",
     "output_type": "stream",
     "text": [
      " 34%|███▍      | 435/1276 [57:08<31:44,  2.26s/it]"
     ]
    },
    {
     "name": "stdout",
     "output_type": "stream",
     "text": [
      "STOP CODE:  Stay unchanged in the last 6 iterations\n",
      "> SA ENDS....... \n",
      "\n",
      "> avg loss: 2.4924284196970734\n",
      "> For the *435_th* data_key\n",
      "> retail = 1499.99,bidincrement = 0.01, bidfee = 0.75, infer PT's parameters\n",
      "> Now do SA....... \n",
      "\n"
     ]
    },
    {
     "name": "stderr",
     "output_type": "stream",
     "text": [
      " 34%|███▍      | 436/1276 [58:10<4:40:43, 20.05s/it]"
     ]
    },
    {
     "name": "stdout",
     "output_type": "stream",
     "text": [
      "> 超时\n",
      "> SA ENDS....... \n",
      "\n",
      "> avg loss: 18.444920990016247\n",
      "> For the *436_th* data_key\n",
      "> retail = 1048.0,bidincrement = 0.01, bidfee = 0.75, infer PT's parameters\n",
      "> Now do SA....... \n",
      "\n"
     ]
    },
    {
     "name": "stderr",
     "output_type": "stream",
     "text": [
      " 34%|███▍      | 437/1276 [59:11<7:33:03, 32.40s/it]"
     ]
    },
    {
     "name": "stdout",
     "output_type": "stream",
     "text": [
      "> 超时\n",
      "> SA ENDS....... \n",
      "\n",
      "> avg loss: 15.608963289436494\n",
      "> For the *437_th* data_key\n",
      "> retail = 35.99,bidincrement = 0.15, bidfee = 0.75, infer PT's parameters\n",
      "> Now do SA....... \n",
      "\n"
     ]
    },
    {
     "name": "stderr",
     "output_type": "stream",
     "text": [
      " 34%|███▍      | 438/1276 [59:13<5:25:03, 23.27s/it]"
     ]
    },
    {
     "name": "stdout",
     "output_type": "stream",
     "text": [
      "STOP CODE:  Stay unchanged in the last 6 iterations\n",
      "> SA ENDS....... \n",
      "\n",
      "> avg loss: 2.6504153875376506\n",
      "> For the *438_th* data_key\n",
      "> retail = 269.99,bidincrement = 0.01, bidfee = 0.75, infer PT's parameters\n",
      "> Now do SA....... \n",
      "\n"
     ]
    },
    {
     "name": "stderr",
     "output_type": "stream",
     "text": [
      " 34%|███▍      | 439/1276 [1:00:13<7:59:41, 34.39s/it]"
     ]
    },
    {
     "name": "stdout",
     "output_type": "stream",
     "text": [
      "> 超时\n",
      "> SA ENDS....... \n",
      "\n",
      "> avg loss: 10.263103884879818\n",
      "> For the *439_th* data_key\n",
      "> retail = 1499.99,bidincrement = 0.01, bidfee = 0.75, infer PT's parameters\n",
      "> Now do SA....... \n",
      "\n"
     ]
    },
    {
     "name": "stderr",
     "output_type": "stream",
     "text": [
      " 34%|███▍      | 440/1276 [1:01:15<9:52:17, 42.51s/it]"
     ]
    },
    {
     "name": "stdout",
     "output_type": "stream",
     "text": [
      "> 超时\n",
      "> SA ENDS....... \n",
      "\n",
      "> avg loss: 18.213165832730244\n",
      "> For the *440_th* data_key\n",
      "> retail = 129.0,bidincrement = 0.15, bidfee = 0.75, infer PT's parameters\n",
      "> Now do SA....... \n",
      "\n"
     ]
    },
    {
     "name": "stderr",
     "output_type": "stream",
     "text": [
      " 35%|███▍      | 441/1276 [1:01:17<7:03:40, 30.44s/it]"
     ]
    },
    {
     "name": "stdout",
     "output_type": "stream",
     "text": [
      "STOP CODE:  Stay unchanged in the last 6 iterations\n",
      "> SA ENDS....... \n",
      "\n",
      "> avg loss: 2.264469952998496\n",
      "> For the *441_th* data_key\n",
      "> retail = 189.0,bidincrement = 0.15, bidfee = 0.75, infer PT's parameters\n",
      "> Now do SA....... \n",
      "\n"
     ]
    },
    {
     "name": "stderr",
     "output_type": "stream",
     "text": [
      " 35%|███▍      | 442/1276 [1:01:19<5:05:49, 22.00s/it]"
     ]
    },
    {
     "name": "stdout",
     "output_type": "stream",
     "text": [
      "STOP CODE:  Stay unchanged in the last 6 iterations\n",
      "> SA ENDS....... \n",
      "\n",
      "> avg loss: 2.853991012651648\n",
      "> For the *442_th* data_key\n",
      "> retail = 89.99,bidincrement = 0.15, bidfee = 0.75, infer PT's parameters\n",
      "> Now do SA....... \n",
      "\n"
     ]
    },
    {
     "name": "stderr",
     "output_type": "stream",
     "text": [
      " 35%|███▍      | 443/1276 [1:01:21<3:40:35, 15.89s/it]"
     ]
    },
    {
     "name": "stdout",
     "output_type": "stream",
     "text": [
      "STOP CODE:  Stay unchanged in the last 6 iterations\n",
      "> SA ENDS....... \n",
      "\n",
      "> avg loss: 3.2520318371002452\n",
      "> For the *443_th* data_key\n",
      "> retail = 910.0,bidincrement = 0.01, bidfee = 0.75, infer PT's parameters\n",
      "> Now do SA....... \n",
      "\n"
     ]
    },
    {
     "name": "stderr",
     "output_type": "stream",
     "text": [
      " 35%|███▍      | 444/1276 [1:02:22<6:47:47, 29.41s/it]"
     ]
    },
    {
     "name": "stdout",
     "output_type": "stream",
     "text": [
      "> 超时\n",
      "> SA ENDS....... \n",
      "\n",
      "> avg loss: 15.041405401623004\n",
      "> For the *444_th* data_key\n",
      "> retail = 263.62,bidincrement = 0.15, bidfee = 0.75, infer PT's parameters\n",
      "> Now do SA....... \n",
      "\n"
     ]
    },
    {
     "name": "stderr",
     "output_type": "stream",
     "text": [
      " 35%|███▍      | 445/1276 [1:02:26<5:00:15, 21.68s/it]"
     ]
    },
    {
     "name": "stdout",
     "output_type": "stream",
     "text": [
      "STOP CODE:  Stay unchanged in the last 6 iterations\n",
      "> SA ENDS....... \n",
      "\n",
      "> avg loss: 5.323631067190779\n",
      "> For the *445_th* data_key\n",
      "> retail = 224.07,bidincrement = 0.15, bidfee = 0.75, infer PT's parameters\n",
      "> Now do SA....... \n",
      "\n"
     ]
    },
    {
     "name": "stderr",
     "output_type": "stream",
     "text": [
      " 35%|███▍      | 446/1276 [1:02:30<3:46:57, 16.41s/it]"
     ]
    },
    {
     "name": "stdout",
     "output_type": "stream",
     "text": [
      "STOP CODE:  Stay unchanged in the last 6 iterations\n",
      "> SA ENDS....... \n",
      "\n",
      "> avg loss: 5.624963305166356\n",
      "> For the *446_th* data_key\n",
      "> retail = 446.61,bidincrement = 0.15, bidfee = 0.75, infer PT's parameters\n",
      "> Now do SA....... \n",
      "\n"
     ]
    },
    {
     "name": "stderr",
     "output_type": "stream",
     "text": [
      " 35%|███▌      | 447/1276 [1:02:34<2:57:25, 12.84s/it]"
     ]
    },
    {
     "name": "stdout",
     "output_type": "stream",
     "text": [
      "STOP CODE:  Stay unchanged in the last 6 iterations\n",
      "> SA ENDS....... \n",
      "\n",
      "> avg loss: 1.9081217936372543\n",
      "> For the *447_th* data_key\n",
      "> retail = 475.12,bidincrement = 0.15, bidfee = 0.75, infer PT's parameters\n",
      "> Now do SA....... \n",
      "\n"
     ]
    },
    {
     "name": "stderr",
     "output_type": "stream",
     "text": [
      " 35%|███▌      | 448/1276 [1:02:38<2:19:20, 10.10s/it]"
     ]
    },
    {
     "name": "stdout",
     "output_type": "stream",
     "text": [
      "STOP CODE:  Stay unchanged in the last 6 iterations\n",
      "> SA ENDS....... \n",
      "\n",
      "> avg loss: 2.271751436135015\n",
      "> For the *448_th* data_key\n",
      "> retail = 149.99,bidincrement = 0.15, bidfee = 0.75, infer PT's parameters\n",
      "> Now do SA....... \n",
      "\n"
     ]
    },
    {
     "name": "stderr",
     "output_type": "stream",
     "text": [
      " 35%|███▌      | 449/1276 [1:02:40<1:47:57,  7.83s/it]"
     ]
    },
    {
     "name": "stdout",
     "output_type": "stream",
     "text": [
      "STOP CODE:  Stay unchanged in the last 6 iterations\n",
      "> SA ENDS....... \n",
      "\n",
      "> avg loss: 3.6746423257284815\n",
      "> For the *449_th* data_key\n",
      "> retail = 49.99,bidincrement = 0.15, bidfee = 0.75, infer PT's parameters\n",
      "> Now do SA....... \n",
      "\n"
     ]
    },
    {
     "name": "stderr",
     "output_type": "stream",
     "text": [
      " 35%|███▌      | 450/1276 [1:02:42<1:19:46,  5.79s/it]"
     ]
    },
    {
     "name": "stdout",
     "output_type": "stream",
     "text": [
      "STOP CODE:  Stay unchanged in the last 6 iterations\n",
      "> SA ENDS....... \n",
      "\n",
      "> avg loss: 2.5215366258627925\n",
      "> For the *450_th* data_key\n",
      "> retail = 277.0,bidincrement = 0.15, bidfee = 0.75, infer PT's parameters\n",
      "> Now do SA....... \n",
      "\n"
     ]
    },
    {
     "name": "stderr",
     "output_type": "stream",
     "text": [
      " 35%|███▌      | 451/1276 [1:02:43<1:03:32,  4.62s/it]"
     ]
    },
    {
     "name": "stdout",
     "output_type": "stream",
     "text": [
      "STOP CODE:  Stay unchanged in the last 6 iterations\n",
      "> SA ENDS....... \n",
      "\n",
      "> avg loss: 3.8906511955695127\n",
      "> For the *451_th* data_key\n",
      "> retail = 37.5,bidincrement = 0.01, bidfee = 0.75, infer PT's parameters\n",
      "> Now do SA....... \n",
      "\n"
     ]
    },
    {
     "name": "stderr",
     "output_type": "stream",
     "text": [
      " 35%|███▌      | 452/1276 [1:02:49<1:05:31,  4.77s/it]"
     ]
    },
    {
     "name": "stdout",
     "output_type": "stream",
     "text": [
      "STOP CODE:  Stay unchanged in the last 6 iterations\n",
      "> SA ENDS....... \n",
      "\n",
      "> avg loss: 4.95798238060155\n",
      "> For the *452_th* data_key\n",
      "> retail = 225.0,bidincrement = 0.01, bidfee = 0.75, infer PT's parameters\n",
      "> Now do SA....... \n",
      "\n"
     ]
    },
    {
     "name": "stderr",
     "output_type": "stream",
     "text": [
      " 36%|███▌      | 453/1276 [1:03:21<3:00:00, 13.12s/it]"
     ]
    },
    {
     "name": "stdout",
     "output_type": "stream",
     "text": [
      "STOP CODE:  Stay unchanged in the last 6 iterations\n",
      "> SA ENDS....... \n",
      "\n",
      "> avg loss: 6.643442162176042\n",
      "> For the *453_th* data_key\n",
      "> retail = 1549.99,bidincrement = 0.15, bidfee = 0.75, infer PT's parameters\n",
      "> Now do SA....... \n",
      "\n"
     ]
    },
    {
     "name": "stderr",
     "output_type": "stream",
     "text": [
      " 36%|███▌      | 454/1276 [1:03:39<3:21:10, 14.68s/it]"
     ]
    },
    {
     "name": "stdout",
     "output_type": "stream",
     "text": [
      "STOP CODE:  Stay unchanged in the last 6 iterations\n",
      "> SA ENDS....... \n",
      "\n",
      "> avg loss: 8.623206566842285\n",
      "> For the *454_th* data_key\n",
      "> retail = 42.99,bidincrement = 0.15, bidfee = 0.75, infer PT's parameters\n",
      "> Now do SA....... \n",
      "\n"
     ]
    },
    {
     "name": "stderr",
     "output_type": "stream",
     "text": [
      " 36%|███▌      | 455/1276 [1:03:41<2:25:39, 10.65s/it]"
     ]
    },
    {
     "name": "stdout",
     "output_type": "stream",
     "text": [
      "STOP CODE:  Stay unchanged in the last 6 iterations\n",
      "> SA ENDS....... \n",
      "\n",
      "> avg loss: 2.490287873338632\n",
      "> For the *455_th* data_key\n",
      "> retail = 469.0,bidincrement = 0.15, bidfee = 0.75, infer PT's parameters\n",
      "> Now do SA....... \n",
      "\n"
     ]
    },
    {
     "name": "stderr",
     "output_type": "stream",
     "text": [
      " 36%|███▌      | 456/1276 [1:03:58<2:53:19, 12.68s/it]"
     ]
    },
    {
     "name": "stdout",
     "output_type": "stream",
     "text": [
      "STOP CODE:  Stay unchanged in the last 6 iterations\n",
      "> SA ENDS....... \n",
      "\n",
      "> avg loss: 2.575601352024905\n",
      "> For the *456_th* data_key\n",
      "> retail = 399.99,bidincrement = 0.15, bidfee = 0.75, infer PT's parameters\n",
      "> Now do SA....... \n",
      "\n"
     ]
    },
    {
     "name": "stderr",
     "output_type": "stream",
     "text": [
      " 36%|███▌      | 457/1276 [1:04:09<2:45:34, 12.13s/it]"
     ]
    },
    {
     "name": "stdout",
     "output_type": "stream",
     "text": [
      "STOP CODE:  Stay unchanged in the last 6 iterations\n",
      "> SA ENDS....... \n",
      "\n",
      "> avg loss: 2.619439762563071\n",
      "> For the *457_th* data_key\n",
      "> retail = 376.8,bidincrement = 0.15, bidfee = 0.75, infer PT's parameters\n",
      "> Now do SA....... \n",
      "\n"
     ]
    },
    {
     "name": "stderr",
     "output_type": "stream",
     "text": [
      " 36%|███▌      | 458/1276 [1:04:17<2:27:12, 10.80s/it]"
     ]
    },
    {
     "name": "stdout",
     "output_type": "stream",
     "text": [
      "STOP CODE:  Stay unchanged in the last 6 iterations\n",
      "> SA ENDS....... \n",
      "\n",
      "> avg loss: 6.6120970898123455\n",
      "> For the *458_th* data_key\n",
      "> retail = 376.8,bidincrement = 0.15, bidfee = 0.75, infer PT's parameters\n",
      "> Now do SA....... \n",
      "\n"
     ]
    },
    {
     "name": "stderr",
     "output_type": "stream",
     "text": [
      " 36%|███▌      | 459/1276 [1:04:40<3:18:07, 14.55s/it]"
     ]
    },
    {
     "name": "stdout",
     "output_type": "stream",
     "text": [
      "STOP CODE:  Stay unchanged in the last 6 iterations\n",
      "> SA ENDS....... \n",
      "\n",
      "> avg loss: 6.689626490050465\n",
      "> For the *459_th* data_key\n",
      "> retail = 1499.99,bidincrement = 0.01, bidfee = 0.75, infer PT's parameters\n",
      "> Now do SA....... \n",
      "\n"
     ]
    },
    {
     "name": "stderr",
     "output_type": "stream",
     "text": [
      " 36%|███▌      | 460/1276 [1:05:43<6:36:04, 29.12s/it]"
     ]
    },
    {
     "name": "stdout",
     "output_type": "stream",
     "text": [
      "> 超时\n",
      "> SA ENDS....... \n",
      "\n",
      "> avg loss: 18.238436878741272\n",
      "> For the *460_th* data_key\n",
      "> retail = 59.95,bidincrement = 0.15, bidfee = 0.75, infer PT's parameters\n",
      "> Now do SA....... \n",
      "\n"
     ]
    },
    {
     "name": "stderr",
     "output_type": "stream",
     "text": [
      " 36%|███▌      | 461/1276 [1:05:47<4:52:00, 21.50s/it]"
     ]
    },
    {
     "name": "stdout",
     "output_type": "stream",
     "text": [
      "STOP CODE:  Stay unchanged in the last 6 iterations\n",
      "> SA ENDS....... \n",
      "\n",
      "> avg loss: 2.8138573252938137\n",
      "> For the *461_th* data_key\n",
      "> retail = 905.24,bidincrement = 0.01, bidfee = 0.75, infer PT's parameters\n",
      "> Now do SA....... \n",
      "\n"
     ]
    },
    {
     "name": "stderr",
     "output_type": "stream",
     "text": [
      " 36%|███▌      | 462/1276 [1:06:48<7:33:43, 33.44s/it]"
     ]
    },
    {
     "name": "stdout",
     "output_type": "stream",
     "text": [
      "> 超时\n",
      "> SA ENDS....... \n",
      "\n",
      "> avg loss: 15.227895617089098\n",
      "> For the *462_th* data_key\n",
      "> retail = 469.0,bidincrement = 0.15, bidfee = 0.75, infer PT's parameters\n",
      "> Now do SA....... \n",
      "\n"
     ]
    },
    {
     "name": "stderr",
     "output_type": "stream",
     "text": [
      " 36%|███▋      | 463/1276 [1:06:53<5:38:59, 25.02s/it]"
     ]
    },
    {
     "name": "stdout",
     "output_type": "stream",
     "text": [
      "STOP CODE:  Stay unchanged in the last 6 iterations\n",
      "> SA ENDS....... \n",
      "\n",
      "> avg loss: 2.555258302399032\n",
      "> For the *463_th* data_key\n",
      "> retail = 49.99,bidincrement = 0.15, bidfee = 0.75, infer PT's parameters\n",
      "> Now do SA....... \n",
      "\n"
     ]
    },
    {
     "name": "stderr",
     "output_type": "stream",
     "text": [
      " 36%|███▋      | 464/1276 [1:06:54<4:00:01, 17.74s/it]"
     ]
    },
    {
     "name": "stdout",
     "output_type": "stream",
     "text": [
      "STOP CODE:  Stay unchanged in the last 6 iterations\n",
      "> SA ENDS....... \n",
      "\n",
      "> avg loss: 2.753152663885713\n",
      "> For the *464_th* data_key\n",
      "> retail = 149.99,bidincrement = 0.15, bidfee = 0.75, infer PT's parameters\n",
      "> Now do SA....... \n",
      "\n"
     ]
    },
    {
     "name": "stderr",
     "output_type": "stream",
     "text": [
      " 36%|███▋      | 465/1276 [1:06:57<2:58:59, 13.24s/it]"
     ]
    },
    {
     "name": "stdout",
     "output_type": "stream",
     "text": [
      "STOP CODE:  Stay unchanged in the last 6 iterations\n",
      "> SA ENDS....... \n",
      "\n",
      "> avg loss: 3.4596383366378607\n",
      "> For the *465_th* data_key\n",
      "> retail = 279.95,bidincrement = 0.15, bidfee = 0.75, infer PT's parameters\n",
      "> Now do SA....... \n",
      "\n"
     ]
    },
    {
     "name": "stderr",
     "output_type": "stream",
     "text": [
      " 37%|███▋      | 466/1276 [1:07:04<2:34:30, 11.45s/it]"
     ]
    },
    {
     "name": "stdout",
     "output_type": "stream",
     "text": [
      "STOP CODE:  Stay unchanged in the last 6 iterations\n",
      "> SA ENDS....... \n",
      "\n",
      "> avg loss: 3.428216992958274\n",
      "> For the *466_th* data_key\n",
      "> retail = 85.0,bidincrement = 0.15, bidfee = 0.75, infer PT's parameters\n",
      "> Now do SA....... \n",
      "\n"
     ]
    },
    {
     "name": "stderr",
     "output_type": "stream",
     "text": [
      " 37%|███▋      | 467/1276 [1:07:05<1:52:40,  8.36s/it]"
     ]
    },
    {
     "name": "stdout",
     "output_type": "stream",
     "text": [
      "STOP CODE:  Stay unchanged in the last 6 iterations\n",
      "> SA ENDS....... \n",
      "\n",
      "> avg loss: 3.924041721187821\n",
      "> For the *467_th* data_key\n",
      "> retail = 62.0,bidincrement = 0.15, bidfee = 0.75, infer PT's parameters\n",
      "> Now do SA....... \n",
      "\n"
     ]
    },
    {
     "name": "stderr",
     "output_type": "stream",
     "text": [
      " 37%|███▋      | 468/1276 [1:07:06<1:21:55,  6.08s/it]"
     ]
    },
    {
     "name": "stdout",
     "output_type": "stream",
     "text": [
      "STOP CODE:  Stay unchanged in the last 6 iterations\n",
      "> SA ENDS....... \n",
      "\n",
      "> avg loss: 3.6432300529405532\n",
      "> For the *468_th* data_key\n",
      "> retail = 48.0,bidincrement = 0.15, bidfee = 0.75, infer PT's parameters\n",
      "> Now do SA....... \n",
      "\n"
     ]
    },
    {
     "name": "stderr",
     "output_type": "stream",
     "text": [
      " 37%|███▋      | 469/1276 [1:07:08<1:05:33,  4.87s/it]"
     ]
    },
    {
     "name": "stdout",
     "output_type": "stream",
     "text": [
      "STOP CODE:  Stay unchanged in the last 6 iterations\n",
      "> SA ENDS....... \n",
      "\n",
      "> avg loss: 3.2857737471842148\n",
      "> For the *469_th* data_key\n",
      "> retail = 59.99,bidincrement = 0.15, bidfee = 0.75, infer PT's parameters\n",
      "> Now do SA....... \n",
      "\n"
     ]
    },
    {
     "name": "stderr",
     "output_type": "stream",
     "text": [
      " 37%|███▋      | 470/1276 [1:07:09<48:50,  3.64s/it]  "
     ]
    },
    {
     "name": "stdout",
     "output_type": "stream",
     "text": [
      "STOP CODE:  Stay unchanged in the last 6 iterations\n",
      "> SA ENDS....... \n",
      "\n",
      "> avg loss: 2.450032811442514\n",
      "> For the *470_th* data_key\n",
      "> retail = 59.99,bidincrement = 0.15, bidfee = 0.75, infer PT's parameters\n",
      "> Now do SA....... \n",
      "\n"
     ]
    },
    {
     "name": "stderr",
     "output_type": "stream",
     "text": [
      " 37%|███▋      | 471/1276 [1:07:10<38:26,  2.86s/it]"
     ]
    },
    {
     "name": "stdout",
     "output_type": "stream",
     "text": [
      "STOP CODE:  Stay unchanged in the last 6 iterations\n",
      "> SA ENDS....... \n",
      "\n",
      "> avg loss: 2.4991860555599117\n",
      "> For the *471_th* data_key\n",
      "> retail = 59.99,bidincrement = 0.15, bidfee = 0.75, infer PT's parameters\n",
      "> Now do SA....... \n",
      "\n"
     ]
    },
    {
     "name": "stderr",
     "output_type": "stream",
     "text": [
      " 37%|███▋      | 472/1276 [1:07:11<31:38,  2.36s/it]"
     ]
    },
    {
     "name": "stdout",
     "output_type": "stream",
     "text": [
      "STOP CODE:  Stay unchanged in the last 6 iterations\n",
      "> SA ENDS....... \n",
      "\n",
      "> avg loss: 2.199084725723985\n",
      "> For the *472_th* data_key\n",
      "> retail = 19.99,bidincrement = 0.15, bidfee = 0.75, infer PT's parameters\n",
      "> Now do SA....... \n",
      "\n"
     ]
    },
    {
     "name": "stderr",
     "output_type": "stream",
     "text": [
      " 37%|███▋      | 473/1276 [1:07:12<26:47,  2.00s/it]"
     ]
    },
    {
     "name": "stdout",
     "output_type": "stream",
     "text": [
      "STOP CODE:  Stay unchanged in the last 6 iterations\n",
      "> SA ENDS....... \n",
      "\n",
      "> avg loss: 1.804077555341832\n",
      "> For the *473_th* data_key\n",
      "> retail = 299.98,bidincrement = 0.15, bidfee = 0.75, infer PT's parameters\n",
      "> Now do SA....... \n",
      "\n"
     ]
    },
    {
     "name": "stderr",
     "output_type": "stream",
     "text": [
      " 37%|███▋      | 474/1276 [1:07:18<42:03,  3.15s/it]"
     ]
    },
    {
     "name": "stdout",
     "output_type": "stream",
     "text": [
      "STOP CODE:  Stay unchanged in the last 6 iterations\n",
      "> SA ENDS....... \n",
      "\n",
      "> avg loss: 3.5461191336407354\n",
      "> For the *474_th* data_key\n",
      "> retail = 429.99,bidincrement = 0.15, bidfee = 0.75, infer PT's parameters\n",
      "> Now do SA....... \n",
      "\n"
     ]
    },
    {
     "name": "stderr",
     "output_type": "stream",
     "text": [
      " 37%|███▋      | 475/1276 [1:07:31<1:20:54,  6.06s/it]"
     ]
    },
    {
     "name": "stdout",
     "output_type": "stream",
     "text": [
      "STOP CODE:  Stay unchanged in the last 6 iterations\n",
      "> SA ENDS....... \n",
      "\n",
      "> avg loss: 2.6307220746445994\n",
      "> For the *475_th* data_key\n",
      "> retail = 549.99,bidincrement = 0.15, bidfee = 0.75, infer PT's parameters\n",
      "> Now do SA....... \n",
      "\n"
     ]
    },
    {
     "name": "stderr",
     "output_type": "stream",
     "text": [
      " 37%|███▋      | 476/1276 [1:07:41<1:35:16,  7.15s/it]"
     ]
    },
    {
     "name": "stdout",
     "output_type": "stream",
     "text": [
      "STOP CODE:  Stay unchanged in the last 6 iterations\n",
      "> SA ENDS....... \n",
      "\n",
      "> avg loss: 2.736223347967913\n",
      "> For the *476_th* data_key\n",
      "> retail = 39.99,bidincrement = 0.15, bidfee = 0.75, infer PT's parameters\n",
      "> Now do SA....... \n",
      "\n"
     ]
    },
    {
     "name": "stderr",
     "output_type": "stream",
     "text": [
      " 37%|███▋      | 477/1276 [1:07:42<1:12:01,  5.41s/it]"
     ]
    },
    {
     "name": "stdout",
     "output_type": "stream",
     "text": [
      "STOP CODE:  Stay unchanged in the last 6 iterations\n",
      "> SA ENDS....... \n",
      "\n",
      "> avg loss: 2.950772386762048\n",
      "> For the *477_th* data_key\n",
      "> retail = 1199.99,bidincrement = 0.01, bidfee = 0.75, infer PT's parameters\n",
      "> Now do SA....... \n",
      "\n"
     ]
    },
    {
     "name": "stderr",
     "output_type": "stream",
     "text": [
      " 37%|███▋      | 478/1276 [1:08:45<4:59:51, 22.55s/it]"
     ]
    },
    {
     "name": "stdout",
     "output_type": "stream",
     "text": [
      "> 超时\n",
      "> SA ENDS....... \n",
      "\n",
      "> avg loss: 16.35371439139113\n",
      "> For the *478_th* data_key\n",
      "> retail = 54.0,bidincrement = 0.15, bidfee = 0.75, infer PT's parameters\n",
      "> Now do SA....... \n",
      "\n"
     ]
    },
    {
     "name": "stderr",
     "output_type": "stream",
     "text": [
      " 38%|███▊      | 479/1276 [1:08:45<3:32:32, 16.00s/it]"
     ]
    },
    {
     "name": "stdout",
     "output_type": "stream",
     "text": [
      "STOP CODE:  Stay unchanged in the last 6 iterations\n",
      "> SA ENDS....... \n",
      "\n",
      "> avg loss: 3.119288311791668\n",
      "> For the *479_th* data_key\n",
      "> retail = 189.99,bidincrement = 0.15, bidfee = 0.75, infer PT's parameters\n",
      "> Now do SA....... \n",
      "\n"
     ]
    },
    {
     "name": "stderr",
     "output_type": "stream",
     "text": [
      " 38%|███▊      | 480/1276 [1:08:49<2:44:45, 12.42s/it]"
     ]
    },
    {
     "name": "stdout",
     "output_type": "stream",
     "text": [
      "STOP CODE:  Stay unchanged in the last 6 iterations\n",
      "> SA ENDS....... \n",
      "\n",
      "> avg loss: 3.5914673372621144\n",
      "> For the *480_th* data_key\n",
      "> retail = 129.99,bidincrement = 0.15, bidfee = 0.75, infer PT's parameters\n",
      "> Now do SA....... \n",
      "\n"
     ]
    },
    {
     "name": "stderr",
     "output_type": "stream",
     "text": [
      " 38%|███▊      | 481/1276 [1:08:53<2:09:22,  9.76s/it]"
     ]
    },
    {
     "name": "stdout",
     "output_type": "stream",
     "text": [
      "STOP CODE:  Stay unchanged in the last 6 iterations\n",
      "> SA ENDS....... \n",
      "\n",
      "> avg loss: 3.5663409607233008\n",
      "> For the *481_th* data_key\n",
      "> retail = 34.99,bidincrement = 0.15, bidfee = 0.75, infer PT's parameters\n",
      "> Now do SA....... \n",
      "\n"
     ]
    },
    {
     "name": "stderr",
     "output_type": "stream",
     "text": [
      " 38%|███▊      | 482/1276 [1:08:54<1:35:52,  7.24s/it]"
     ]
    },
    {
     "name": "stdout",
     "output_type": "stream",
     "text": [
      "STOP CODE:  Stay unchanged in the last 6 iterations\n",
      "> SA ENDS....... \n",
      "\n",
      "> avg loss: 3.0796495189964457\n",
      "> For the *482_th* data_key\n",
      "> retail = 169.99,bidincrement = 0.15, bidfee = 0.75, infer PT's parameters\n",
      "> Now do SA....... \n",
      "\n"
     ]
    },
    {
     "name": "stderr",
     "output_type": "stream",
     "text": [
      " 38%|███▊      | 483/1276 [1:08:58<1:21:23,  6.16s/it]"
     ]
    },
    {
     "name": "stdout",
     "output_type": "stream",
     "text": [
      "STOP CODE:  Stay unchanged in the last 6 iterations\n",
      "> SA ENDS....... \n",
      "\n",
      "> avg loss: 2.9929128257977817\n",
      "> For the *483_th* data_key\n",
      "> retail = 40.55,bidincrement = 0.15, bidfee = 0.75, infer PT's parameters\n",
      "> Now do SA....... \n",
      "\n"
     ]
    },
    {
     "name": "stderr",
     "output_type": "stream",
     "text": [
      " 38%|███▊      | 484/1276 [1:09:02<1:13:54,  5.60s/it]"
     ]
    },
    {
     "name": "stdout",
     "output_type": "stream",
     "text": [
      "STOP CODE:  Stay unchanged in the last 6 iterations\n",
      "> SA ENDS....... \n",
      "\n",
      "> avg loss: 2.2940289401040124\n",
      "> For the *484_th* data_key\n",
      "> retail = 249.99,bidincrement = 0.15, bidfee = 0.75, infer PT's parameters\n",
      "> Now do SA....... \n",
      "\n"
     ]
    },
    {
     "name": "stderr",
     "output_type": "stream",
     "text": [
      " 38%|███▊      | 485/1276 [1:09:07<1:09:41,  5.29s/it]"
     ]
    },
    {
     "name": "stdout",
     "output_type": "stream",
     "text": [
      "STOP CODE:  Stay unchanged in the last 6 iterations\n",
      "> SA ENDS....... \n",
      "\n",
      "> avg loss: 2.5993768439197606\n",
      "> For the *485_th* data_key\n",
      "> retail = 59.99,bidincrement = 0.15, bidfee = 0.75, infer PT's parameters\n",
      "> Now do SA....... \n",
      "\n"
     ]
    },
    {
     "name": "stderr",
     "output_type": "stream",
     "text": [
      " 38%|███▊      | 486/1276 [1:09:09<56:57,  4.33s/it]  "
     ]
    },
    {
     "name": "stdout",
     "output_type": "stream",
     "text": [
      "STOP CODE:  Stay unchanged in the last 6 iterations\n",
      "> SA ENDS....... \n",
      "\n",
      "> avg loss: 3.424178670076016\n",
      "> For the *486_th* data_key\n",
      "> retail = 399.0,bidincrement = 0.15, bidfee = 0.75, infer PT's parameters\n",
      "> Now do SA....... \n",
      "\n"
     ]
    },
    {
     "name": "stderr",
     "output_type": "stream",
     "text": [
      " 38%|███▊      | 487/1276 [1:09:25<1:44:57,  7.98s/it]"
     ]
    },
    {
     "name": "stdout",
     "output_type": "stream",
     "text": [
      "STOP CODE:  Stay unchanged in the last 6 iterations\n",
      "> SA ENDS....... \n",
      "\n",
      "> avg loss: 3.1313514864941334\n",
      "> For the *487_th* data_key\n",
      "> retail = 351.03,bidincrement = 0.15, bidfee = 0.75, infer PT's parameters\n",
      "> Now do SA....... \n",
      "\n"
     ]
    },
    {
     "name": "stderr",
     "output_type": "stream",
     "text": [
      " 38%|███▊      | 488/1276 [1:09:33<1:42:43,  7.82s/it]"
     ]
    },
    {
     "name": "stdout",
     "output_type": "stream",
     "text": [
      "STOP CODE:  Stay unchanged in the last 6 iterations\n",
      "> SA ENDS....... \n",
      "\n",
      "> avg loss: 3.6806014900667767\n",
      "> For the *488_th* data_key\n",
      "> retail = 275.48,bidincrement = 0.15, bidfee = 0.75, infer PT's parameters\n",
      "> Now do SA....... \n",
      "\n"
     ]
    },
    {
     "name": "stderr",
     "output_type": "stream",
     "text": [
      " 38%|███▊      | 489/1276 [1:09:44<1:57:11,  8.93s/it]"
     ]
    },
    {
     "name": "stdout",
     "output_type": "stream",
     "text": [
      "STOP CODE:  Stay unchanged in the last 6 iterations\n",
      "> SA ENDS....... \n",
      "\n",
      "> avg loss: 5.181030547184406\n",
      "> For the *489_th* data_key\n",
      "> retail = 1035.55,bidincrement = 0.01, bidfee = 0.75, infer PT's parameters\n",
      "> Now do SA....... \n",
      "\n"
     ]
    },
    {
     "name": "stderr",
     "output_type": "stream",
     "text": [
      " 38%|███▊      | 490/1276 [1:10:47<5:26:11, 24.90s/it]"
     ]
    },
    {
     "name": "stdout",
     "output_type": "stream",
     "text": [
      "> 超时\n",
      "> SA ENDS....... \n",
      "\n",
      "> avg loss: 15.771275015244786\n",
      "> For the *490_th* data_key\n",
      "> retail = 59.99,bidincrement = 0.15, bidfee = 0.75, infer PT's parameters\n",
      "> Now do SA....... \n",
      "\n"
     ]
    },
    {
     "name": "stderr",
     "output_type": "stream",
     "text": [
      " 38%|███▊      | 491/1276 [1:10:51<4:06:16, 18.82s/it]"
     ]
    },
    {
     "name": "stdout",
     "output_type": "stream",
     "text": [
      "STOP CODE:  Stay unchanged in the last 6 iterations\n",
      "> SA ENDS....... \n",
      "\n",
      "> avg loss: 2.2919177300087537\n",
      "> For the *491_th* data_key\n",
      "> retail = 179.9,bidincrement = 0.15, bidfee = 0.75, infer PT's parameters\n",
      "> Now do SA....... \n",
      "\n"
     ]
    },
    {
     "name": "stderr",
     "output_type": "stream",
     "text": [
      " 39%|███▊      | 492/1276 [1:10:56<3:10:34, 14.59s/it]"
     ]
    },
    {
     "name": "stdout",
     "output_type": "stream",
     "text": [
      "STOP CODE:  Stay unchanged in the last 6 iterations\n",
      "> SA ENDS....... \n",
      "\n",
      "> avg loss: 2.7737034709903883\n",
      "> For the *492_th* data_key\n",
      "> retail = 209.99,bidincrement = 0.15, bidfee = 0.75, infer PT's parameters\n",
      "> Now do SA....... \n",
      "\n"
     ]
    },
    {
     "name": "stderr",
     "output_type": "stream",
     "text": [
      " 39%|███▊      | 493/1276 [1:11:03<2:42:17, 12.44s/it]"
     ]
    },
    {
     "name": "stdout",
     "output_type": "stream",
     "text": [
      "STOP CODE:  Stay unchanged in the last 6 iterations\n",
      "> SA ENDS....... \n",
      "\n",
      "> avg loss: 2.9247113078867737\n",
      "> For the *493_th* data_key\n",
      "> retail = 399.99,bidincrement = 0.15, bidfee = 0.75, infer PT's parameters\n",
      "> Now do SA....... \n",
      "\n"
     ]
    },
    {
     "name": "stderr",
     "output_type": "stream",
     "text": [
      " 39%|███▊      | 494/1276 [1:11:15<2:39:09, 12.21s/it]"
     ]
    },
    {
     "name": "stdout",
     "output_type": "stream",
     "text": [
      "STOP CODE:  Stay unchanged in the last 6 iterations\n",
      "> SA ENDS....... \n",
      "\n",
      "> avg loss: 3.7271246141164385\n",
      "> For the *494_th* data_key\n",
      "> retail = 1150.0,bidincrement = 0.01, bidfee = 0.75, infer PT's parameters\n",
      "> Now do SA....... \n",
      "\n"
     ]
    },
    {
     "name": "stderr",
     "output_type": "stream",
     "text": [
      " 39%|███▉      | 495/1276 [1:12:17<5:53:19, 27.14s/it]"
     ]
    },
    {
     "name": "stdout",
     "output_type": "stream",
     "text": [
      "> 超时\n",
      "> SA ENDS....... \n",
      "\n",
      "> avg loss: 15.805219479277596\n",
      "> For the *495_th* data_key\n",
      "> retail = 349.0,bidincrement = 0.15, bidfee = 0.75, infer PT's parameters\n",
      "> Now do SA....... \n",
      "\n"
     ]
    },
    {
     "name": "stderr",
     "output_type": "stream",
     "text": [
      " 39%|███▉      | 496/1276 [1:12:25<4:37:33, 21.35s/it]"
     ]
    },
    {
     "name": "stdout",
     "output_type": "stream",
     "text": [
      "STOP CODE:  Stay unchanged in the last 6 iterations\n",
      "> SA ENDS....... \n",
      "\n",
      "> avg loss: 2.2533759325075633\n",
      "> For the *496_th* data_key\n",
      "> retail = 2101.0,bidincrement = 0.01, bidfee = 0.75, infer PT's parameters\n",
      "> Now do SA....... \n",
      "\n"
     ]
    },
    {
     "name": "stderr",
     "output_type": "stream",
     "text": [
      " 39%|███▉      | 497/1276 [1:13:30<7:27:38, 34.48s/it]"
     ]
    },
    {
     "name": "stdout",
     "output_type": "stream",
     "text": [
      "> 超时\n",
      "> SA ENDS....... \n",
      "\n",
      "> avg loss: 19.620988087972847\n",
      "> For the *497_th* data_key\n",
      "> retail = 149.99,bidincrement = 0.15, bidfee = 0.75, infer PT's parameters\n",
      "> Now do SA....... \n",
      "\n"
     ]
    },
    {
     "name": "stderr",
     "output_type": "stream",
     "text": [
      " 39%|███▉      | 498/1276 [1:13:35<5:31:32, 25.57s/it]"
     ]
    },
    {
     "name": "stdout",
     "output_type": "stream",
     "text": [
      "STOP CODE:  Stay unchanged in the last 6 iterations\n",
      "> SA ENDS....... \n",
      "\n",
      "> avg loss: 4.313921109626349\n",
      "> For the *498_th* data_key\n",
      "> retail = 88.99,bidincrement = 0.15, bidfee = 0.75, infer PT's parameters\n",
      "> Now do SA....... \n",
      "\n"
     ]
    },
    {
     "name": "stderr",
     "output_type": "stream",
     "text": [
      " 39%|███▉      | 499/1276 [1:13:39<4:09:02, 19.23s/it]"
     ]
    },
    {
     "name": "stdout",
     "output_type": "stream",
     "text": [
      "STOP CODE:  Stay unchanged in the last 6 iterations\n",
      "> SA ENDS....... \n",
      "\n",
      "> avg loss: 3.532795997602153\n",
      "> For the *499_th* data_key\n",
      "> retail = 1199.99,bidincrement = 0.15, bidfee = 0.75, infer PT's parameters\n",
      "> Now do SA....... \n",
      "\n"
     ]
    },
    {
     "name": "stderr",
     "output_type": "stream",
     "text": [
      " 39%|███▉      | 500/1276 [1:14:39<6:47:55, 31.54s/it]"
     ]
    },
    {
     "name": "stdout",
     "output_type": "stream",
     "text": [
      "> 超时\n",
      "> SA ENDS....... \n",
      "\n",
      "> avg loss: 15.503584157073387\n",
      "> For the *500_th* data_key\n",
      "> retail = 899.0,bidincrement = 0.15, bidfee = 0.75, infer PT's parameters\n",
      "> Now do SA....... \n",
      "\n"
     ]
    },
    {
     "name": "stderr",
     "output_type": "stream",
     "text": [
      " 39%|███▉      | 501/1276 [1:14:56<5:49:46, 27.08s/it]"
     ]
    },
    {
     "name": "stdout",
     "output_type": "stream",
     "text": [
      "STOP CODE:  Stay unchanged in the last 6 iterations\n",
      "> SA ENDS....... \n",
      "\n",
      "> avg loss: 8.13124201728053\n",
      "> For the *501_th* data_key\n",
      "> retail = 124.99,bidincrement = 0.15, bidfee = 0.75, infer PT's parameters\n",
      "> Now do SA....... \n",
      "\n"
     ]
    },
    {
     "name": "stderr",
     "output_type": "stream",
     "text": [
      " 39%|███▉      | 502/1276 [1:14:58<4:12:13, 19.55s/it]"
     ]
    },
    {
     "name": "stdout",
     "output_type": "stream",
     "text": [
      "STOP CODE:  Stay unchanged in the last 6 iterations\n",
      "> SA ENDS....... \n",
      "\n",
      "> avg loss: 3.9789170808317516\n",
      "> For the *502_th* data_key\n",
      "> retail = 229.99,bidincrement = 0.15, bidfee = 0.75, infer PT's parameters\n",
      "> Now do SA....... \n",
      "\n"
     ]
    },
    {
     "name": "stderr",
     "output_type": "stream",
     "text": [
      " 39%|███▉      | 503/1276 [1:15:00<3:03:46, 14.26s/it]"
     ]
    },
    {
     "name": "stdout",
     "output_type": "stream",
     "text": [
      "STOP CODE:  Stay unchanged in the last 6 iterations\n",
      "> SA ENDS....... \n",
      "\n",
      "> avg loss: 3.056549649295771\n",
      "> For the *503_th* data_key\n",
      "> retail = 30.0,bidincrement = 0.15, bidfee = 0.75, infer PT's parameters\n",
      "> Now do SA....... \n",
      "\n"
     ]
    },
    {
     "name": "stderr",
     "output_type": "stream",
     "text": [
      " 39%|███▉      | 504/1276 [1:15:01<2:11:34, 10.23s/it]"
     ]
    },
    {
     "name": "stdout",
     "output_type": "stream",
     "text": [
      "STOP CODE:  Stay unchanged in the last 6 iterations\n",
      "> SA ENDS....... \n",
      "\n",
      "> avg loss: 2.5869781159036713\n",
      "> For the *504_th* data_key\n",
      "> retail = 899.99,bidincrement = 0.01, bidfee = 0.75, infer PT's parameters\n",
      "> Now do SA....... \n",
      "\n"
     ]
    },
    {
     "name": "stderr",
     "output_type": "stream",
     "text": [
      " 40%|███▉      | 505/1276 [1:16:02<5:26:44, 25.43s/it]"
     ]
    },
    {
     "name": "stdout",
     "output_type": "stream",
     "text": [
      "> 超时\n",
      "> SA ENDS....... \n",
      "\n",
      "> avg loss: 14.9451964589275\n",
      "> For the *505_th* data_key\n",
      "> retail = 179.99,bidincrement = 0.15, bidfee = 0.75, infer PT's parameters\n",
      "> Now do SA....... \n",
      "\n"
     ]
    },
    {
     "name": "stderr",
     "output_type": "stream",
     "text": [
      " 40%|███▉      | 506/1276 [1:16:04<3:58:06, 18.55s/it]"
     ]
    },
    {
     "name": "stdout",
     "output_type": "stream",
     "text": [
      "STOP CODE:  Stay unchanged in the last 6 iterations\n",
      "> SA ENDS....... \n",
      "\n",
      "> avg loss: 2.616011132360721\n",
      "> For the *506_th* data_key\n",
      "> retail = 55.0,bidincrement = 0.15, bidfee = 0.75, infer PT's parameters\n",
      "> Now do SA....... \n",
      "\n"
     ]
    },
    {
     "name": "stderr",
     "output_type": "stream",
     "text": [
      " 40%|███▉      | 507/1276 [1:16:06<2:53:13, 13.52s/it]"
     ]
    },
    {
     "name": "stdout",
     "output_type": "stream",
     "text": [
      "STOP CODE:  Stay unchanged in the last 6 iterations\n",
      "> SA ENDS....... \n",
      "\n",
      "> avg loss: 2.9028950770235222\n",
      "> For the *507_th* data_key\n",
      "> retail = 139.95,bidincrement = 0.15, bidfee = 0.75, infer PT's parameters\n",
      "> Now do SA....... \n",
      "\n"
     ]
    },
    {
     "name": "stderr",
     "output_type": "stream",
     "text": [
      " 40%|███▉      | 508/1276 [1:16:09<2:13:59, 10.47s/it]"
     ]
    },
    {
     "name": "stdout",
     "output_type": "stream",
     "text": [
      "STOP CODE:  Stay unchanged in the last 6 iterations\n",
      "> SA ENDS....... \n",
      "\n",
      "> avg loss: 2.6029737147244902\n",
      "> For the *508_th* data_key\n",
      "> retail = 269.99,bidincrement = 0.15, bidfee = 0.75, infer PT's parameters\n",
      "> Now do SA....... \n",
      "\n"
     ]
    },
    {
     "name": "stderr",
     "output_type": "stream",
     "text": [
      " 40%|███▉      | 509/1276 [1:16:12<1:43:17,  8.08s/it]"
     ]
    },
    {
     "name": "stdout",
     "output_type": "stream",
     "text": [
      "STOP CODE:  Stay unchanged in the last 6 iterations\n",
      "> SA ENDS....... \n",
      "\n",
      "> avg loss: 3.1194515972523096\n",
      "> For the *509_th* data_key\n",
      "> retail = 178.6,bidincrement = 0.15, bidfee = 0.75, infer PT's parameters\n",
      "> Now do SA....... \n",
      "\n"
     ]
    },
    {
     "name": "stderr",
     "output_type": "stream",
     "text": [
      " 40%|███▉      | 510/1276 [1:16:14<1:21:11,  6.36s/it]"
     ]
    },
    {
     "name": "stdout",
     "output_type": "stream",
     "text": [
      "STOP CODE:  Stay unchanged in the last 6 iterations\n",
      "> SA ENDS....... \n",
      "\n",
      "> avg loss: 2.9137962791980856\n",
      "> For the *510_th* data_key\n",
      "> retail = 29.99,bidincrement = 0.15, bidfee = 0.75, infer PT's parameters\n",
      "> Now do SA....... \n",
      "\n"
     ]
    },
    {
     "name": "stderr",
     "output_type": "stream",
     "text": [
      " 40%|████      | 511/1276 [1:16:15<1:01:23,  4.82s/it]"
     ]
    },
    {
     "name": "stdout",
     "output_type": "stream",
     "text": [
      "STOP CODE:  Stay unchanged in the last 6 iterations\n",
      "> SA ENDS....... \n",
      "\n",
      "> avg loss: 1.8667109417803265\n",
      "> For the *511_th* data_key\n",
      "> retail = 19.99,bidincrement = 0.15, bidfee = 0.75, infer PT's parameters\n",
      "> Now do SA....... \n",
      "\n"
     ]
    },
    {
     "name": "stderr",
     "output_type": "stream",
     "text": [
      " 40%|████      | 512/1276 [1:16:16<45:22,  3.56s/it]  "
     ]
    },
    {
     "name": "stdout",
     "output_type": "stream",
     "text": [
      "STOP CODE:  Stay unchanged in the last 6 iterations\n",
      "> SA ENDS....... \n",
      "\n",
      "> avg loss: 2.7002897075675802\n",
      "> For the *512_th* data_key\n",
      "> retail = 699.99,bidincrement = 0.01, bidfee = 0.75, infer PT's parameters\n",
      "> Now do SA....... \n",
      "\n"
     ]
    },
    {
     "name": "stderr",
     "output_type": "stream",
     "text": [
      " 40%|████      | 513/1276 [1:17:17<4:23:18, 20.71s/it]"
     ]
    },
    {
     "name": "stdout",
     "output_type": "stream",
     "text": [
      "> 超时\n",
      "> SA ENDS....... \n",
      "\n",
      "> avg loss: 13.927650957224587\n",
      "> For the *513_th* data_key\n",
      "> retail = 125.0,bidincrement = 0.15, bidfee = 0.75, infer PT's parameters\n",
      "> Now do SA....... \n",
      "\n"
     ]
    },
    {
     "name": "stderr",
     "output_type": "stream",
     "text": [
      " 40%|████      | 514/1276 [1:17:25<3:37:15, 17.11s/it]"
     ]
    },
    {
     "name": "stdout",
     "output_type": "stream",
     "text": [
      "STOP CODE:  Stay unchanged in the last 6 iterations\n",
      "> SA ENDS....... \n",
      "\n",
      "> avg loss: 3.2386118329479383\n",
      "> For the *514_th* data_key\n",
      "> retail = 99.99,bidincrement = 0.15, bidfee = 0.75, infer PT's parameters\n",
      "> Now do SA....... \n",
      "\n"
     ]
    },
    {
     "name": "stderr",
     "output_type": "stream",
     "text": [
      " 40%|████      | 515/1276 [1:17:30<2:49:07, 13.33s/it]"
     ]
    },
    {
     "name": "stdout",
     "output_type": "stream",
     "text": [
      "STOP CODE:  Stay unchanged in the last 6 iterations\n",
      "> SA ENDS....... \n",
      "\n",
      "> avg loss: 3.1595588134907238\n",
      "> For the *515_th* data_key\n",
      "> retail = 149.99,bidincrement = 0.15, bidfee = 0.75, infer PT's parameters\n",
      "> Now do SA....... \n",
      "\n"
     ]
    },
    {
     "name": "stderr",
     "output_type": "stream",
     "text": [
      " 40%|████      | 516/1276 [1:17:38<2:26:59, 11.60s/it]"
     ]
    },
    {
     "name": "stdout",
     "output_type": "stream",
     "text": [
      "STOP CODE:  Stay unchanged in the last 6 iterations\n",
      "> SA ENDS....... \n",
      "\n",
      "> avg loss: 3.7030316844712505\n",
      "> For the *516_th* data_key\n",
      "> retail = 937.36,bidincrement = 0.15, bidfee = 0.75, infer PT's parameters\n",
      "> Now do SA....... \n",
      "\n"
     ]
    },
    {
     "name": "stderr",
     "output_type": "stream",
     "text": [
      " 41%|████      | 517/1276 [1:18:00<3:07:42, 14.84s/it]"
     ]
    },
    {
     "name": "stdout",
     "output_type": "stream",
     "text": [
      "STOP CODE:  Stay unchanged in the last 6 iterations\n",
      "> SA ENDS....... \n",
      "\n",
      "> avg loss: 8.028684357935203\n",
      "> For the *517_th* data_key\n",
      "> retail = 899.99,bidincrement = 0.01, bidfee = 0.75, infer PT's parameters\n",
      "> Now do SA....... \n",
      "\n"
     ]
    },
    {
     "name": "stderr",
     "output_type": "stream",
     "text": [
      " 41%|████      | 518/1276 [1:19:02<6:06:19, 29.00s/it]"
     ]
    },
    {
     "name": "stdout",
     "output_type": "stream",
     "text": [
      "> 超时\n",
      "> SA ENDS....... \n",
      "\n",
      "> avg loss: 15.650432706501917\n",
      "> For the *518_th* data_key\n",
      "> retail = 29.99,bidincrement = 0.15, bidfee = 0.75, infer PT's parameters\n",
      "> Now do SA....... \n",
      "\n"
     ]
    },
    {
     "name": "stderr",
     "output_type": "stream",
     "text": [
      " 41%|████      | 519/1276 [1:19:06<4:29:49, 21.39s/it]"
     ]
    },
    {
     "name": "stdout",
     "output_type": "stream",
     "text": [
      "STOP CODE:  Stay unchanged in the last 6 iterations\n",
      "> SA ENDS....... \n",
      "\n",
      "> avg loss: 2.2345086191075927\n",
      "> For the *519_th* data_key\n",
      "> retail = 35.99,bidincrement = 0.15, bidfee = 0.75, infer PT's parameters\n",
      "> Now do SA....... \n",
      "\n"
     ]
    },
    {
     "name": "stderr",
     "output_type": "stream",
     "text": [
      " 41%|████      | 520/1276 [1:19:09<3:19:50, 15.86s/it]"
     ]
    },
    {
     "name": "stdout",
     "output_type": "stream",
     "text": [
      "STOP CODE:  Stay unchanged in the last 6 iterations\n",
      "> SA ENDS....... \n",
      "\n",
      "> avg loss: 2.8759063318614158\n",
      "> For the *520_th* data_key\n",
      "> retail = 69.99,bidincrement = 0.15, bidfee = 0.75, infer PT's parameters\n",
      "> Now do SA....... \n",
      "\n"
     ]
    },
    {
     "name": "stderr",
     "output_type": "stream",
     "text": [
      " 41%|████      | 521/1276 [1:19:12<2:30:48, 11.99s/it]"
     ]
    },
    {
     "name": "stdout",
     "output_type": "stream",
     "text": [
      "STOP CODE:  Stay unchanged in the last 6 iterations\n",
      "> SA ENDS....... \n",
      "\n",
      "> avg loss: 1.9882102214329085\n",
      "> For the *521_th* data_key\n",
      "> retail = 59.99,bidincrement = 0.15, bidfee = 0.75, infer PT's parameters\n",
      "> Now do SA....... \n",
      "\n"
     ]
    },
    {
     "name": "stderr",
     "output_type": "stream",
     "text": [
      " 41%|████      | 522/1276 [1:19:13<1:51:18,  8.86s/it]"
     ]
    },
    {
     "name": "stdout",
     "output_type": "stream",
     "text": [
      "STOP CODE:  Stay unchanged in the last 6 iterations\n",
      "> SA ENDS....... \n",
      "\n",
      "> avg loss: 2.530888407020575\n",
      "> For the *522_th* data_key\n",
      "> retail = 59.99,bidincrement = 0.15, bidfee = 0.75, infer PT's parameters\n",
      "> Now do SA....... \n",
      "\n"
     ]
    },
    {
     "name": "stderr",
     "output_type": "stream",
     "text": [
      " 41%|████      | 523/1276 [1:19:17<1:31:09,  7.26s/it]"
     ]
    },
    {
     "name": "stdout",
     "output_type": "stream",
     "text": [
      "STOP CODE:  Stay unchanged in the last 6 iterations\n",
      "> SA ENDS....... \n",
      "\n",
      "> avg loss: 2.5689687808745827\n",
      "> For the *523_th* data_key\n",
      "> retail = 29.99,bidincrement = 0.15, bidfee = 0.75, infer PT's parameters\n",
      "> Now do SA....... \n",
      "\n"
     ]
    },
    {
     "name": "stderr",
     "output_type": "stream",
     "text": [
      " 41%|████      | 524/1276 [1:19:18<1:07:26,  5.38s/it]"
     ]
    },
    {
     "name": "stdout",
     "output_type": "stream",
     "text": [
      "STOP CODE:  Stay unchanged in the last 6 iterations\n",
      "> SA ENDS....... \n",
      "\n",
      "> avg loss: 2.0267114550686256\n",
      "> For the *524_th* data_key\n",
      "> retail = 39.99,bidincrement = 0.15, bidfee = 0.75, infer PT's parameters\n",
      "> Now do SA....... \n",
      "\n"
     ]
    },
    {
     "name": "stderr",
     "output_type": "stream",
     "text": [
      " 41%|████      | 525/1276 [1:19:20<56:58,  4.55s/it]  "
     ]
    },
    {
     "name": "stdout",
     "output_type": "stream",
     "text": [
      "STOP CODE:  Stay unchanged in the last 6 iterations\n",
      "> SA ENDS....... \n",
      "\n",
      "> avg loss: 3.082028509090737\n",
      "> For the *525_th* data_key\n",
      "> retail = 39.99,bidincrement = 0.15, bidfee = 0.75, infer PT's parameters\n",
      "> Now do SA....... \n",
      "\n"
     ]
    },
    {
     "name": "stderr",
     "output_type": "stream",
     "text": [
      " 41%|████      | 526/1276 [1:19:22<45:05,  3.61s/it]"
     ]
    },
    {
     "name": "stdout",
     "output_type": "stream",
     "text": [
      "STOP CODE:  Stay unchanged in the last 6 iterations\n",
      "> SA ENDS....... \n",
      "\n",
      "> avg loss: 2.8338636382604085\n",
      "> For the *526_th* data_key\n",
      "> retail = 59.99,bidincrement = 0.15, bidfee = 0.75, infer PT's parameters\n",
      "> Now do SA....... \n",
      "\n"
     ]
    },
    {
     "name": "stderr",
     "output_type": "stream",
     "text": [
      " 41%|████▏     | 527/1276 [1:19:24<40:32,  3.25s/it]"
     ]
    },
    {
     "name": "stdout",
     "output_type": "stream",
     "text": [
      "STOP CODE:  Stay unchanged in the last 6 iterations\n",
      "> SA ENDS....... \n",
      "\n",
      "> avg loss: 2.2281047923394746\n",
      "> For the *527_th* data_key\n",
      "> retail = 399.99,bidincrement = 0.15, bidfee = 0.75, infer PT's parameters\n",
      "> Now do SA....... \n",
      "\n"
     ]
    },
    {
     "name": "stderr",
     "output_type": "stream",
     "text": [
      " 41%|████▏     | 528/1276 [1:19:30<52:31,  4.21s/it]"
     ]
    },
    {
     "name": "stdout",
     "output_type": "stream",
     "text": [
      "STOP CODE:  Stay unchanged in the last 6 iterations\n",
      "> SA ENDS....... \n",
      "\n",
      "> avg loss: 2.3081080210902525\n",
      "> For the *528_th* data_key\n",
      "> retail = 59.99,bidincrement = 0.15, bidfee = 0.75, infer PT's parameters\n",
      "> Now do SA....... \n",
      "\n"
     ]
    },
    {
     "name": "stderr",
     "output_type": "stream",
     "text": [
      " 41%|████▏     | 529/1276 [1:19:33<46:39,  3.75s/it]"
     ]
    },
    {
     "name": "stdout",
     "output_type": "stream",
     "text": [
      "STOP CODE:  Stay unchanged in the last 6 iterations\n",
      "> SA ENDS....... \n",
      "\n",
      "> avg loss: 2.6735593604805454\n",
      "> For the *529_th* data_key\n",
      "> retail = 59.99,bidincrement = 0.15, bidfee = 0.75, infer PT's parameters\n",
      "> Now do SA....... \n",
      "\n"
     ]
    },
    {
     "name": "stderr",
     "output_type": "stream",
     "text": [
      " 42%|████▏     | 530/1276 [1:19:38<49:05,  3.95s/it]"
     ]
    },
    {
     "name": "stdout",
     "output_type": "stream",
     "text": [
      "STOP CODE:  Stay unchanged in the last 6 iterations\n",
      "> SA ENDS....... \n",
      "\n",
      "> avg loss: 2.742668679109484\n",
      "> For the *530_th* data_key\n",
      "> retail = 349.99,bidincrement = 0.15, bidfee = 0.75, infer PT's parameters\n",
      "> Now do SA....... \n",
      "\n"
     ]
    },
    {
     "name": "stderr",
     "output_type": "stream",
     "text": [
      " 42%|████▏     | 531/1276 [1:19:47<1:09:13,  5.58s/it]"
     ]
    },
    {
     "name": "stdout",
     "output_type": "stream",
     "text": [
      "STOP CODE:  Stay unchanged in the last 6 iterations\n",
      "> SA ENDS....... \n",
      "\n",
      "> avg loss: 2.8068677561326103\n",
      "> For the *531_th* data_key\n",
      "> retail = 24.99,bidincrement = 0.15, bidfee = 0.75, infer PT's parameters\n",
      "> Now do SA....... \n",
      "\n"
     ]
    },
    {
     "name": "stderr",
     "output_type": "stream",
     "text": [
      " 42%|████▏     | 532/1276 [1:19:49<57:15,  4.62s/it]  "
     ]
    },
    {
     "name": "stdout",
     "output_type": "stream",
     "text": [
      "STOP CODE:  Stay unchanged in the last 6 iterations\n",
      "> SA ENDS....... \n",
      "\n",
      "> avg loss: 2.8407110182920534\n",
      "> For the *532_th* data_key\n",
      "> retail = 1399.99,bidincrement = 0.01, bidfee = 0.75, infer PT's parameters\n",
      "> Now do SA....... \n",
      "\n"
     ]
    },
    {
     "name": "stderr",
     "output_type": "stream",
     "text": [
      " 42%|████▏     | 533/1276 [1:20:52<4:31:45, 21.95s/it]"
     ]
    },
    {
     "name": "stdout",
     "output_type": "stream",
     "text": [
      "> 超时\n",
      "> SA ENDS....... \n",
      "\n",
      "> avg loss: 17.330688837682516\n",
      "> For the *533_th* data_key\n",
      "> retail = 56.25,bidincrement = 0.15, bidfee = 0.75, infer PT's parameters\n",
      "> Now do SA....... \n",
      "\n"
     ]
    },
    {
     "name": "stderr",
     "output_type": "stream",
     "text": [
      " 42%|████▏     | 534/1276 [1:20:54<3:17:25, 15.96s/it]"
     ]
    },
    {
     "name": "stdout",
     "output_type": "stream",
     "text": [
      "STOP CODE:  Stay unchanged in the last 6 iterations\n",
      "> SA ENDS....... \n",
      "\n",
      "> avg loss: 2.295039756852195\n",
      "> For the *534_th* data_key\n",
      "> retail = 23.99,bidincrement = 0.15, bidfee = 0.75, infer PT's parameters\n",
      "> Now do SA....... \n",
      "\n"
     ]
    },
    {
     "name": "stderr",
     "output_type": "stream",
     "text": [
      " 42%|████▏     | 535/1276 [1:20:54<2:20:03, 11.34s/it]"
     ]
    },
    {
     "name": "stdout",
     "output_type": "stream",
     "text": [
      "STOP CODE:  Stay unchanged in the last 6 iterations\n",
      "> SA ENDS....... \n",
      "\n",
      "> avg loss: 2.6216251002994615\n",
      "> For the *535_th* data_key\n",
      "> retail = 678.93,bidincrement = 0.01, bidfee = 0.75, infer PT's parameters\n",
      "> Now do SA....... \n",
      "\n"
     ]
    },
    {
     "name": "stderr",
     "output_type": "stream",
     "text": [
      " 42%|████▏     | 536/1276 [1:21:56<5:24:52, 26.34s/it]"
     ]
    },
    {
     "name": "stdout",
     "output_type": "stream",
     "text": [
      "> 超时\n",
      "> SA ENDS....... \n",
      "\n",
      "> avg loss: 13.978350464837812\n",
      "> For the *536_th* data_key\n",
      "> retail = 149.99,bidincrement = 0.15, bidfee = 0.75, infer PT's parameters\n",
      "> Now do SA....... \n",
      "\n"
     ]
    },
    {
     "name": "stderr",
     "output_type": "stream",
     "text": [
      " 42%|████▏     | 537/1276 [1:22:03<4:15:18, 20.73s/it]"
     ]
    },
    {
     "name": "stdout",
     "output_type": "stream",
     "text": [
      "STOP CODE:  Stay unchanged in the last 6 iterations\n",
      "> SA ENDS....... \n",
      "\n",
      "> avg loss: 3.5407231907163577\n",
      "> For the *537_th* data_key\n",
      "> retail = 1509.95,bidincrement = 0.01, bidfee = 0.75, infer PT's parameters\n",
      "> Now do SA....... \n",
      "\n"
     ]
    },
    {
     "name": "stderr",
     "output_type": "stream",
     "text": [
      " 42%|████▏     | 538/1276 [1:23:06<6:50:24, 33.37s/it]"
     ]
    },
    {
     "name": "stdout",
     "output_type": "stream",
     "text": [
      "> 超时\n",
      "> SA ENDS....... \n",
      "\n",
      "> avg loss: 17.85585861607091\n",
      "> For the *538_th* data_key\n",
      "> retail = 599.99,bidincrement = 0.01, bidfee = 0.75, infer PT's parameters\n",
      "> Now do SA....... \n",
      "\n"
     ]
    },
    {
     "name": "stderr",
     "output_type": "stream",
     "text": [
      " 42%|████▏     | 539/1276 [1:24:07<8:32:20, 41.71s/it]"
     ]
    },
    {
     "name": "stdout",
     "output_type": "stream",
     "text": [
      "> 超时\n",
      "> SA ENDS....... \n",
      "\n",
      "> avg loss: 13.443781515815475\n",
      "> For the *539_th* data_key\n",
      "> retail = 79.0,bidincrement = 0.15, bidfee = 0.75, infer PT's parameters\n",
      "> Now do SA....... \n",
      "\n"
     ]
    },
    {
     "name": "stderr",
     "output_type": "stream",
     "text": [
      " 42%|████▏     | 540/1276 [1:24:11<6:10:51, 30.23s/it]"
     ]
    },
    {
     "name": "stdout",
     "output_type": "stream",
     "text": [
      "STOP CODE:  Stay unchanged in the last 6 iterations\n",
      "> SA ENDS....... \n",
      "\n",
      "> avg loss: 2.7893737549122855\n",
      "> For the *540_th* data_key\n",
      "> retail = 89.99,bidincrement = 0.01, bidfee = 0.75, infer PT's parameters\n",
      "> Now do SA....... \n",
      "\n"
     ]
    },
    {
     "name": "stderr",
     "output_type": "stream",
     "text": [
      " 42%|████▏     | 541/1276 [1:24:22<5:00:22, 24.52s/it]"
     ]
    },
    {
     "name": "stdout",
     "output_type": "stream",
     "text": [
      "STOP CODE:  Stay unchanged in the last 6 iterations\n",
      "> SA ENDS....... \n",
      "\n",
      "> avg loss: 5.852710436219844\n",
      "> For the *541_th* data_key\n",
      "> retail = 98.04,bidincrement = 0.15, bidfee = 0.75, infer PT's parameters\n",
      "> Now do SA....... \n",
      "\n"
     ]
    },
    {
     "name": "stderr",
     "output_type": "stream",
     "text": [
      " 42%|████▏     | 542/1276 [1:24:25<3:42:41, 18.20s/it]"
     ]
    },
    {
     "name": "stdout",
     "output_type": "stream",
     "text": [
      "STOP CODE:  Stay unchanged in the last 6 iterations\n",
      "> SA ENDS....... \n",
      "\n",
      "> avg loss: 3.8197571888249984\n",
      "> For the *542_th* data_key\n",
      "> retail = 49.99,bidincrement = 0.15, bidfee = 0.75, infer PT's parameters\n",
      "> Now do SA....... \n",
      "\n"
     ]
    },
    {
     "name": "stderr",
     "output_type": "stream",
     "text": [
      " 43%|████▎     | 543/1276 [1:24:26<2:38:31, 12.98s/it]"
     ]
    },
    {
     "name": "stdout",
     "output_type": "stream",
     "text": [
      "STOP CODE:  Stay unchanged in the last 6 iterations\n",
      "> SA ENDS....... \n",
      "\n",
      "> avg loss: 3.3885308805203107\n",
      "> For the *543_th* data_key\n",
      "> retail = 31.44,bidincrement = 0.15, bidfee = 0.75, infer PT's parameters\n",
      "> Now do SA....... \n",
      "\n"
     ]
    },
    {
     "name": "stderr",
     "output_type": "stream",
     "text": [
      " 43%|████▎     | 544/1276 [1:24:27<1:53:52,  9.33s/it]"
     ]
    },
    {
     "name": "stdout",
     "output_type": "stream",
     "text": [
      "STOP CODE:  Stay unchanged in the last 6 iterations\n",
      "> SA ENDS....... \n",
      "\n",
      "> avg loss: 2.67456993594908\n",
      "> For the *544_th* data_key\n",
      "> retail = 79.99,bidincrement = 0.15, bidfee = 0.75, infer PT's parameters\n",
      "> Now do SA....... \n",
      "\n"
     ]
    },
    {
     "name": "stderr",
     "output_type": "stream",
     "text": [
      " 43%|████▎     | 545/1276 [1:24:28<1:24:52,  6.97s/it]"
     ]
    },
    {
     "name": "stdout",
     "output_type": "stream",
     "text": [
      "STOP CODE:  Stay unchanged in the last 6 iterations\n",
      "> SA ENDS....... \n",
      "\n",
      "> avg loss: 2.388674664583544\n",
      "> For the *545_th* data_key\n",
      "> retail = 11.36,bidincrement = 0.15, bidfee = 0.75, infer PT's parameters\n",
      "> Now do SA....... \n",
      "\n"
     ]
    },
    {
     "name": "stderr",
     "output_type": "stream",
     "text": [
      " 43%|████▎     | 546/1276 [1:24:29<1:02:29,  5.14s/it]"
     ]
    },
    {
     "name": "stdout",
     "output_type": "stream",
     "text": [
      "STOP CODE:  Stay unchanged in the last 6 iterations\n",
      "> SA ENDS....... \n",
      "\n",
      "> avg loss: 1.9799115464246184\n",
      "> For the *546_th* data_key\n",
      "> retail = 29.95,bidincrement = 0.15, bidfee = 0.75, infer PT's parameters\n",
      "> Now do SA....... \n",
      "\n"
     ]
    },
    {
     "name": "stderr",
     "output_type": "stream",
     "text": [
      " 43%|████▎     | 547/1276 [1:24:30<46:44,  3.85s/it]  "
     ]
    },
    {
     "name": "stdout",
     "output_type": "stream",
     "text": [
      "STOP CODE:  Stay unchanged in the last 6 iterations\n",
      "> SA ENDS....... \n",
      "\n",
      "> avg loss: 2.4711958270097045\n",
      "> For the *547_th* data_key\n",
      "> retail = 18.41,bidincrement = 0.15, bidfee = 0.75, infer PT's parameters\n",
      "> Now do SA....... \n",
      "\n"
     ]
    },
    {
     "name": "stderr",
     "output_type": "stream",
     "text": [
      " 43%|████▎     | 548/1276 [1:24:31<35:29,  2.92s/it]"
     ]
    },
    {
     "name": "stdout",
     "output_type": "stream",
     "text": [
      "STOP CODE:  Stay unchanged in the last 6 iterations\n",
      "> SA ENDS....... \n",
      "\n",
      "> avg loss: 2.321365189054243\n",
      "> For the *548_th* data_key\n",
      "> retail = 49.99,bidincrement = 0.15, bidfee = 0.75, infer PT's parameters\n",
      "> Now do SA....... \n",
      "\n"
     ]
    },
    {
     "name": "stderr",
     "output_type": "stream",
     "text": [
      " 43%|████▎     | 549/1276 [1:24:32<27:47,  2.29s/it]"
     ]
    },
    {
     "name": "stdout",
     "output_type": "stream",
     "text": [
      "STOP CODE:  Stay unchanged in the last 6 iterations\n",
      "> SA ENDS....... \n",
      "\n",
      "> avg loss: 2.694977334058062\n",
      "> For the *549_th* data_key\n",
      "> retail = 379.99,bidincrement = 0.15, bidfee = 0.75, infer PT's parameters\n",
      "> Now do SA....... \n",
      "\n"
     ]
    },
    {
     "name": "stderr",
     "output_type": "stream",
     "text": [
      " 43%|████▎     | 550/1276 [1:24:35<31:45,  2.62s/it]"
     ]
    },
    {
     "name": "stdout",
     "output_type": "stream",
     "text": [
      "STOP CODE:  Stay unchanged in the last 6 iterations\n",
      "> SA ENDS....... \n",
      "\n",
      "> avg loss: 2.5591376402010115\n",
      "> For the *550_th* data_key\n",
      "> retail = 289.99,bidincrement = 0.15, bidfee = 0.75, infer PT's parameters\n",
      "> Now do SA....... \n",
      "\n"
     ]
    },
    {
     "name": "stderr",
     "output_type": "stream",
     "text": [
      " 43%|████▎     | 551/1276 [1:24:38<32:58,  2.73s/it]"
     ]
    },
    {
     "name": "stdout",
     "output_type": "stream",
     "text": [
      "STOP CODE:  Stay unchanged in the last 6 iterations\n",
      "> SA ENDS....... \n",
      "\n",
      "> avg loss: 3.0111367661842143\n",
      "> For the *551_th* data_key\n",
      "> retail = 29.99,bidincrement = 0.15, bidfee = 0.75, infer PT's parameters\n",
      "> Now do SA....... \n",
      "\n"
     ]
    },
    {
     "name": "stderr",
     "output_type": "stream",
     "text": [
      " 43%|████▎     | 552/1276 [1:24:39<26:34,  2.20s/it]"
     ]
    },
    {
     "name": "stdout",
     "output_type": "stream",
     "text": [
      "STOP CODE:  Stay unchanged in the last 6 iterations\n",
      "> SA ENDS....... \n",
      "\n",
      "> avg loss: 3.0257629880433465\n",
      "> For the *552_th* data_key\n",
      "> retail = 59.99,bidincrement = 0.15, bidfee = 0.75, infer PT's parameters\n",
      "> Now do SA....... \n",
      "\n"
     ]
    },
    {
     "name": "stderr",
     "output_type": "stream",
     "text": [
      " 43%|████▎     | 553/1276 [1:24:40<22:48,  1.89s/it]"
     ]
    },
    {
     "name": "stdout",
     "output_type": "stream",
     "text": [
      "STOP CODE:  Stay unchanged in the last 6 iterations\n",
      "> SA ENDS....... \n",
      "\n",
      "> avg loss: 3.0375062696187074\n",
      "> For the *553_th* data_key\n",
      "> retail = 349.99,bidincrement = 0.15, bidfee = 0.75, infer PT's parameters\n",
      "> Now do SA....... \n",
      "\n"
     ]
    },
    {
     "name": "stderr",
     "output_type": "stream",
     "text": [
      " 43%|████▎     | 554/1276 [1:24:49<46:14,  3.84s/it]"
     ]
    },
    {
     "name": "stdout",
     "output_type": "stream",
     "text": [
      "STOP CODE:  Stay unchanged in the last 6 iterations\n",
      "> SA ENDS....... \n",
      "\n",
      "> avg loss: 2.6277741055775734\n",
      "> For the *554_th* data_key\n",
      "> retail = 349.99,bidincrement = 0.15, bidfee = 0.75, infer PT's parameters\n",
      "> Now do SA....... \n",
      "\n"
     ]
    },
    {
     "name": "stderr",
     "output_type": "stream",
     "text": [
      " 43%|████▎     | 555/1276 [1:24:52<42:44,  3.56s/it]"
     ]
    },
    {
     "name": "stdout",
     "output_type": "stream",
     "text": [
      "STOP CODE:  Stay unchanged in the last 6 iterations\n",
      "> SA ENDS....... \n",
      "\n",
      "> avg loss: 2.670591336211346\n",
      "> For the *555_th* data_key\n",
      "> retail = 349.99,bidincrement = 0.15, bidfee = 0.75, infer PT's parameters\n",
      "> Now do SA....... \n",
      "\n"
     ]
    },
    {
     "name": "stderr",
     "output_type": "stream",
     "text": [
      " 44%|████▎     | 556/1276 [1:24:55<43:31,  3.63s/it]"
     ]
    },
    {
     "name": "stdout",
     "output_type": "stream",
     "text": [
      "STOP CODE:  Stay unchanged in the last 6 iterations\n",
      "> SA ENDS....... \n",
      "\n",
      "> avg loss: 2.550289477008356\n",
      "> For the *556_th* data_key\n",
      "> retail = 49.99,bidincrement = 0.15, bidfee = 0.75, infer PT's parameters\n",
      "> Now do SA....... \n",
      "\n"
     ]
    },
    {
     "name": "stderr",
     "output_type": "stream",
     "text": [
      " 44%|████▎     | 557/1276 [1:24:56<33:06,  2.76s/it]"
     ]
    },
    {
     "name": "stdout",
     "output_type": "stream",
     "text": [
      "STOP CODE:  Stay unchanged in the last 6 iterations\n",
      "> SA ENDS....... \n",
      "\n",
      "> avg loss: 3.172280440458594\n",
      "> For the *557_th* data_key\n",
      "> retail = 1790.0,bidincrement = 0.01, bidfee = 0.75, infer PT's parameters\n",
      "> Now do SA....... \n",
      "\n"
     ]
    },
    {
     "name": "stderr",
     "output_type": "stream",
     "text": [
      " 44%|████▎     | 558/1276 [1:25:58<4:05:09, 20.49s/it]"
     ]
    },
    {
     "name": "stdout",
     "output_type": "stream",
     "text": [
      "> 超时\n",
      "> SA ENDS....... \n",
      "\n",
      "> avg loss: 18.398621158455487\n",
      "> For the *558_th* data_key\n",
      "> retail = 1299.99,bidincrement = 0.01, bidfee = 0.75, infer PT's parameters\n",
      "> Now do SA....... \n",
      "\n"
     ]
    },
    {
     "name": "stderr",
     "output_type": "stream",
     "text": [
      " 44%|████▍     | 559/1276 [1:26:59<6:30:55, 32.71s/it]"
     ]
    },
    {
     "name": "stdout",
     "output_type": "stream",
     "text": [
      "> 超时\n",
      "> SA ENDS....... \n",
      "\n",
      "> avg loss: 16.987248417469925\n",
      "> For the *559_th* data_key\n",
      "> retail = 1299.99,bidincrement = 0.01, bidfee = 0.75, infer PT's parameters\n",
      "> Now do SA....... \n",
      "\n"
     ]
    },
    {
     "name": "stderr",
     "output_type": "stream",
     "text": [
      " 44%|████▍     | 560/1276 [1:28:00<8:12:39, 41.28s/it]"
     ]
    },
    {
     "name": "stdout",
     "output_type": "stream",
     "text": [
      "> 超时\n",
      "> SA ENDS....... \n",
      "\n",
      "> avg loss: 16.74495533530115\n",
      "> For the *560_th* data_key\n",
      "> retail = 1899.99,bidincrement = 0.01, bidfee = 0.75, infer PT's parameters\n",
      "> Now do SA....... \n",
      "\n"
     ]
    },
    {
     "name": "stderr",
     "output_type": "stream",
     "text": [
      " 44%|████▍     | 561/1276 [1:29:02<9:25:32, 47.46s/it]"
     ]
    },
    {
     "name": "stdout",
     "output_type": "stream",
     "text": [
      "> 超时\n",
      "> SA ENDS....... \n",
      "\n",
      "> avg loss: 19.67526740565945\n",
      "> For the *561_th* data_key\n",
      "> retail = 169.99,bidincrement = 0.15, bidfee = 0.75, infer PT's parameters\n",
      "> Now do SA....... \n",
      "\n"
     ]
    },
    {
     "name": "stderr",
     "output_type": "stream",
     "text": [
      " 44%|████▍     | 562/1276 [1:29:05<6:43:13, 33.88s/it]"
     ]
    },
    {
     "name": "stdout",
     "output_type": "stream",
     "text": [
      "STOP CODE:  Stay unchanged in the last 6 iterations\n",
      "> SA ENDS....... \n",
      "\n",
      "> avg loss: 3.0486652699219787\n",
      "> For the *562_th* data_key\n",
      "> retail = 169.99,bidincrement = 0.15, bidfee = 0.75, infer PT's parameters\n",
      "> Now do SA....... \n",
      "\n"
     ]
    },
    {
     "name": "stderr",
     "output_type": "stream",
     "text": [
      " 44%|████▍     | 563/1276 [1:29:07<4:49:09, 24.33s/it]"
     ]
    },
    {
     "name": "stdout",
     "output_type": "stream",
     "text": [
      "STOP CODE:  Stay unchanged in the last 6 iterations\n",
      "> SA ENDS....... \n",
      "\n",
      "> avg loss: 2.985403305007084\n",
      "> For the *563_th* data_key\n",
      "> retail = 399.99,bidincrement = 0.15, bidfee = 0.75, infer PT's parameters\n",
      "> Now do SA....... \n",
      "\n"
     ]
    },
    {
     "name": "stderr",
     "output_type": "stream",
     "text": [
      " 44%|████▍     | 564/1276 [1:29:10<3:35:03, 18.12s/it]"
     ]
    },
    {
     "name": "stdout",
     "output_type": "stream",
     "text": [
      "STOP CODE:  Stay unchanged in the last 6 iterations\n",
      "> SA ENDS....... \n",
      "\n",
      "> avg loss: 2.6170824976172837\n",
      "> For the *564_th* data_key\n",
      "> retail = 1020.34,bidincrement = 0.01, bidfee = 0.75, infer PT's parameters\n",
      "> Now do SA....... \n",
      "\n"
     ]
    },
    {
     "name": "stderr",
     "output_type": "stream",
     "text": [
      " 44%|████▍     | 565/1276 [1:30:11<6:07:46, 31.04s/it]"
     ]
    },
    {
     "name": "stdout",
     "output_type": "stream",
     "text": [
      "> 超时\n",
      "> SA ENDS....... \n",
      "\n",
      "> avg loss: 16.08194759289886\n",
      "> For the *565_th* data_key\n",
      "> retail = 64.99,bidincrement = 0.15, bidfee = 0.75, infer PT's parameters\n",
      "> Now do SA....... \n",
      "\n"
     ]
    },
    {
     "name": "stderr",
     "output_type": "stream",
     "text": [
      " 44%|████▍     | 566/1276 [1:30:12<4:20:24, 22.01s/it]"
     ]
    },
    {
     "name": "stdout",
     "output_type": "stream",
     "text": [
      "STOP CODE:  Stay unchanged in the last 6 iterations\n",
      "> SA ENDS....... \n",
      "\n",
      "> avg loss: 3.6942576253539143\n",
      "> For the *566_th* data_key\n",
      "> retail = 80.0,bidincrement = 0.15, bidfee = 0.75, infer PT's parameters\n",
      "> Now do SA....... \n",
      "\n"
     ]
    },
    {
     "name": "stderr",
     "output_type": "stream",
     "text": [
      " 44%|████▍     | 567/1276 [1:30:13<3:05:41, 15.71s/it]"
     ]
    },
    {
     "name": "stdout",
     "output_type": "stream",
     "text": [
      "STOP CODE:  Stay unchanged in the last 6 iterations\n",
      "> SA ENDS....... \n",
      "\n",
      "> avg loss: 3.390922531593401\n",
      "> For the *567_th* data_key\n",
      "> retail = 313.0,bidincrement = 0.15, bidfee = 0.75, infer PT's parameters\n",
      "> Now do SA....... \n",
      "\n"
     ]
    },
    {
     "name": "stderr",
     "output_type": "stream",
     "text": [
      " 45%|████▍     | 568/1276 [1:30:16<2:20:55, 11.94s/it]"
     ]
    },
    {
     "name": "stdout",
     "output_type": "stream",
     "text": [
      "STOP CODE:  Stay unchanged in the last 6 iterations\n",
      "> SA ENDS....... \n",
      "\n",
      "> avg loss: 2.3775536244087876\n",
      "> For the *568_th* data_key\n",
      "> retail = 99.99,bidincrement = 0.15, bidfee = 0.75, infer PT's parameters\n",
      "> Now do SA....... \n",
      "\n"
     ]
    },
    {
     "name": "stderr",
     "output_type": "stream",
     "text": [
      " 45%|████▍     | 569/1276 [1:30:18<1:42:42,  8.72s/it]"
     ]
    },
    {
     "name": "stdout",
     "output_type": "stream",
     "text": [
      "STOP CODE:  Stay unchanged in the last 6 iterations\n",
      "> SA ENDS....... \n",
      "\n",
      "> avg loss: 2.707684165547541\n",
      "> For the *569_th* data_key\n",
      "> retail = 119.99,bidincrement = 0.15, bidfee = 0.75, infer PT's parameters\n",
      "> Now do SA....... \n",
      "\n"
     ]
    },
    {
     "name": "stderr",
     "output_type": "stream",
     "text": [
      " 45%|████▍     | 570/1276 [1:30:21<1:24:48,  7.21s/it]"
     ]
    },
    {
     "name": "stdout",
     "output_type": "stream",
     "text": [
      "STOP CODE:  Stay unchanged in the last 6 iterations\n",
      "> SA ENDS....... \n",
      "\n",
      "> avg loss: 3.601080092678783\n",
      "> For the *570_th* data_key\n",
      "> retail = 149.99,bidincrement = 0.15, bidfee = 0.75, infer PT's parameters\n",
      "> Now do SA....... \n",
      "\n"
     ]
    },
    {
     "name": "stderr",
     "output_type": "stream",
     "text": [
      " 45%|████▍     | 571/1276 [1:30:23<1:03:49,  5.43s/it]"
     ]
    },
    {
     "name": "stdout",
     "output_type": "stream",
     "text": [
      "STOP CODE:  Stay unchanged in the last 6 iterations\n",
      "> SA ENDS....... \n",
      "\n",
      "> avg loss: 3.8964372544787893\n",
      "> For the *571_th* data_key\n",
      "> retail = 249.99,bidincrement = 0.15, bidfee = 0.75, infer PT's parameters\n",
      "> Now do SA....... \n",
      "\n"
     ]
    },
    {
     "name": "stderr",
     "output_type": "stream",
     "text": [
      " 45%|████▍     | 572/1276 [1:30:34<1:24:44,  7.22s/it]"
     ]
    },
    {
     "name": "stdout",
     "output_type": "stream",
     "text": [
      "STOP CODE:  Stay unchanged in the last 6 iterations\n",
      "> SA ENDS....... \n",
      "\n",
      "> avg loss: 4.084466222867682\n",
      "> For the *572_th* data_key\n",
      "> retail = 30.5,bidincrement = 0.15, bidfee = 0.75, infer PT's parameters\n",
      "> Now do SA....... \n",
      "\n"
     ]
    },
    {
     "name": "stderr",
     "output_type": "stream",
     "text": [
      " 45%|████▍     | 573/1276 [1:30:35<1:01:30,  5.25s/it]"
     ]
    },
    {
     "name": "stdout",
     "output_type": "stream",
     "text": [
      "STOP CODE:  Stay unchanged in the last 6 iterations\n",
      "> SA ENDS....... \n",
      "\n",
      "> avg loss: 2.48050520355959\n",
      "> For the *573_th* data_key\n",
      "> retail = 209.99,bidincrement = 0.15, bidfee = 0.75, infer PT's parameters\n",
      "> Now do SA....... \n",
      "\n"
     ]
    },
    {
     "name": "stderr",
     "output_type": "stream",
     "text": [
      " 45%|████▍     | 574/1276 [1:30:37<49:48,  4.26s/it]  "
     ]
    },
    {
     "name": "stdout",
     "output_type": "stream",
     "text": [
      "STOP CODE:  Stay unchanged in the last 6 iterations\n",
      "> SA ENDS....... \n",
      "\n",
      "> avg loss: 4.3226445713443065\n",
      "> For the *574_th* data_key\n",
      "> retail = 9.99,bidincrement = 0.15, bidfee = 0.75, infer PT's parameters\n",
      "> Now do SA....... \n",
      "\n"
     ]
    },
    {
     "name": "stderr",
     "output_type": "stream",
     "text": [
      " 45%|████▌     | 575/1276 [1:30:38<38:28,  3.29s/it]"
     ]
    },
    {
     "name": "stdout",
     "output_type": "stream",
     "text": [
      "STOP CODE:  Stay unchanged in the last 6 iterations\n",
      "> SA ENDS....... \n",
      "\n",
      "> avg loss: 1.8972625071524039\n",
      "> For the *575_th* data_key\n",
      "> retail = 379.99,bidincrement = 0.15, bidfee = 0.75, infer PT's parameters\n",
      "> Now do SA....... \n",
      "\n"
     ]
    },
    {
     "name": "stderr",
     "output_type": "stream",
     "text": [
      " 45%|████▌     | 576/1276 [1:30:41<37:31,  3.22s/it]"
     ]
    },
    {
     "name": "stdout",
     "output_type": "stream",
     "text": [
      "STOP CODE:  Stay unchanged in the last 6 iterations\n",
      "> SA ENDS....... \n",
      "\n",
      "> avg loss: 2.4843313730708183\n",
      "> For the *576_th* data_key\n",
      "> retail = 54.99,bidincrement = 0.15, bidfee = 0.75, infer PT's parameters\n",
      "> Now do SA....... \n",
      "\n"
     ]
    },
    {
     "name": "stderr",
     "output_type": "stream",
     "text": [
      " 45%|████▌     | 577/1276 [1:30:42<29:23,  2.52s/it]"
     ]
    },
    {
     "name": "stdout",
     "output_type": "stream",
     "text": [
      "STOP CODE:  Stay unchanged in the last 6 iterations\n",
      "> SA ENDS....... \n",
      "\n",
      "> avg loss: 3.0797586158168877\n",
      "> For the *577_th* data_key\n",
      "> retail = 2287.0,bidincrement = 0.01, bidfee = 0.75, infer PT's parameters\n",
      "> Now do SA....... \n",
      "\n"
     ]
    },
    {
     "name": "stderr",
     "output_type": "stream",
     "text": [
      " 45%|████▌     | 578/1276 [1:31:44<3:58:02, 20.46s/it]"
     ]
    },
    {
     "name": "stdout",
     "output_type": "stream",
     "text": [
      "> 超时\n",
      "> SA ENDS....... \n",
      "\n",
      "> avg loss: 20.52840836729622\n",
      "> For the *578_th* data_key\n",
      "> retail = 599.99,bidincrement = 0.01, bidfee = 0.75, infer PT's parameters\n",
      "> Now do SA....... \n",
      "\n"
     ]
    },
    {
     "name": "stderr",
     "output_type": "stream",
     "text": [
      " 45%|████▌     | 579/1276 [1:32:45<6:17:43, 32.52s/it]"
     ]
    },
    {
     "name": "stdout",
     "output_type": "stream",
     "text": [
      "> 超时\n",
      "> SA ENDS....... \n",
      "\n",
      "> avg loss: 13.316102930837925\n",
      "> For the *579_th* data_key\n",
      "> retail = 799.99,bidincrement = 0.01, bidfee = 0.75, infer PT's parameters\n",
      "> Now do SA....... \n",
      "\n"
     ]
    },
    {
     "name": "stderr",
     "output_type": "stream",
     "text": [
      " 45%|████▌     | 580/1276 [1:33:45<7:55:43, 41.01s/it]"
     ]
    },
    {
     "name": "stdout",
     "output_type": "stream",
     "text": [
      "> 超时\n",
      "> SA ENDS....... \n",
      "\n",
      "> avg loss: 14.703680398920152\n",
      "> For the *580_th* data_key\n",
      "> retail = 60.0,bidincrement = 0.15, bidfee = 0.75, infer PT's parameters\n",
      "> Now do SA....... \n",
      "\n"
     ]
    },
    {
     "name": "stderr",
     "output_type": "stream",
     "text": [
      " 46%|████▌     | 581/1276 [1:33:47<5:36:31, 29.05s/it]"
     ]
    },
    {
     "name": "stdout",
     "output_type": "stream",
     "text": [
      "STOP CODE:  Stay unchanged in the last 6 iterations\n",
      "> SA ENDS....... \n",
      "\n",
      "> avg loss: 3.130647757771046\n",
      "> For the *581_th* data_key\n",
      "> retail = 219.99,bidincrement = 0.15, bidfee = 0.75, infer PT's parameters\n",
      "> Now do SA....... \n",
      "\n"
     ]
    },
    {
     "name": "stderr",
     "output_type": "stream",
     "text": [
      " 46%|████▌     | 582/1276 [1:33:51<4:09:08, 21.54s/it]"
     ]
    },
    {
     "name": "stdout",
     "output_type": "stream",
     "text": [
      "STOP CODE:  Stay unchanged in the last 6 iterations\n",
      "> SA ENDS....... \n",
      "\n",
      "> avg loss: 2.661030293563126\n",
      "> For the *582_th* data_key\n",
      "> retail = 276.8,bidincrement = 0.15, bidfee = 0.75, infer PT's parameters\n",
      "> Now do SA....... \n",
      "\n"
     ]
    },
    {
     "name": "stderr",
     "output_type": "stream",
     "text": [
      " 46%|████▌     | 583/1276 [1:33:55<3:09:51, 16.44s/it]"
     ]
    },
    {
     "name": "stdout",
     "output_type": "stream",
     "text": [
      "STOP CODE:  Stay unchanged in the last 6 iterations\n",
      "> SA ENDS....... \n",
      "\n",
      "> avg loss: 6.371594033168365\n",
      "> For the *583_th* data_key\n",
      "> retail = 39.98,bidincrement = 0.15, bidfee = 0.75, infer PT's parameters\n",
      "> Now do SA....... \n",
      "\n"
     ]
    },
    {
     "name": "stderr",
     "output_type": "stream",
     "text": [
      " 46%|████▌     | 584/1276 [1:33:56<2:15:22, 11.74s/it]"
     ]
    },
    {
     "name": "stdout",
     "output_type": "stream",
     "text": [
      "STOP CODE:  Stay unchanged in the last 6 iterations\n",
      "> SA ENDS....... \n",
      "\n",
      "> avg loss: 2.480220580726017\n",
      "> For the *584_th* data_key\n",
      "> retail = 39.99,bidincrement = 0.15, bidfee = 0.75, infer PT's parameters\n",
      "> Now do SA....... \n",
      "\n"
     ]
    },
    {
     "name": "stderr",
     "output_type": "stream",
     "text": [
      " 46%|████▌     | 585/1276 [1:33:57<1:38:33,  8.56s/it]"
     ]
    },
    {
     "name": "stdout",
     "output_type": "stream",
     "text": [
      "STOP CODE:  Stay unchanged in the last 6 iterations\n",
      "> SA ENDS....... \n",
      "\n",
      "> avg loss: 2.4357255962738202\n",
      "> For the *585_th* data_key\n",
      "> retail = 29.99,bidincrement = 0.15, bidfee = 0.75, infer PT's parameters\n",
      "> Now do SA....... \n",
      "\n"
     ]
    },
    {
     "name": "stderr",
     "output_type": "stream",
     "text": [
      " 46%|████▌     | 586/1276 [1:33:58<1:11:31,  6.22s/it]"
     ]
    },
    {
     "name": "stdout",
     "output_type": "stream",
     "text": [
      "STOP CODE:  Stay unchanged in the last 6 iterations\n",
      "> SA ENDS....... \n",
      "\n",
      "> avg loss: 2.3490983715668334\n",
      "> For the *586_th* data_key\n",
      "> retail = 39.99,bidincrement = 0.15, bidfee = 0.75, infer PT's parameters\n",
      "> Now do SA....... \n",
      "\n"
     ]
    },
    {
     "name": "stderr",
     "output_type": "stream",
     "text": [
      " 46%|████▌     | 587/1276 [1:34:00<56:21,  4.91s/it]  "
     ]
    },
    {
     "name": "stdout",
     "output_type": "stream",
     "text": [
      "STOP CODE:  Stay unchanged in the last 6 iterations\n",
      "> SA ENDS....... \n",
      "\n",
      "> avg loss: 3.0349374104359157\n",
      "> For the *587_th* data_key\n",
      "> retail = 49.99,bidincrement = 0.15, bidfee = 0.75, infer PT's parameters\n",
      "> Now do SA....... \n",
      "\n"
     ]
    },
    {
     "name": "stderr",
     "output_type": "stream",
     "text": [
      " 46%|████▌     | 588/1276 [1:34:01<44:38,  3.89s/it]"
     ]
    },
    {
     "name": "stdout",
     "output_type": "stream",
     "text": [
      "STOP CODE:  Stay unchanged in the last 6 iterations\n",
      "> SA ENDS....... \n",
      "\n",
      "> avg loss: 2.386475340553575\n",
      "> For the *588_th* data_key\n",
      "> retail = 1699.99,bidincrement = 0.01, bidfee = 0.75, infer PT's parameters\n",
      "> Now do SA....... \n",
      "\n"
     ]
    },
    {
     "name": "stderr",
     "output_type": "stream",
     "text": [
      " 46%|████▌     | 589/1276 [1:35:03<4:03:06, 21.23s/it]"
     ]
    },
    {
     "name": "stdout",
     "output_type": "stream",
     "text": [
      "> 超时\n",
      "> SA ENDS....... \n",
      "\n",
      "> avg loss: 18.239362830251665\n",
      "> For the *589_th* data_key\n",
      "> retail = 299.99,bidincrement = 0.15, bidfee = 0.75, infer PT's parameters\n",
      "> Now do SA....... \n",
      "\n"
     ]
    },
    {
     "name": "stderr",
     "output_type": "stream",
     "text": [
      " 46%|████▌     | 590/1276 [1:35:06<3:00:16, 15.77s/it]"
     ]
    },
    {
     "name": "stdout",
     "output_type": "stream",
     "text": [
      "STOP CODE:  Stay unchanged in the last 6 iterations\n",
      "> SA ENDS....... \n",
      "\n",
      "> avg loss: 2.4679375845749014\n",
      "> For the *590_th* data_key\n",
      "> retail = 149.95,bidincrement = 0.15, bidfee = 0.75, infer PT's parameters\n",
      "> Now do SA....... \n",
      "\n"
     ]
    },
    {
     "name": "stderr",
     "output_type": "stream",
     "text": [
      " 46%|████▋     | 591/1276 [1:35:07<2:10:46, 11.45s/it]"
     ]
    },
    {
     "name": "stdout",
     "output_type": "stream",
     "text": [
      "STOP CODE:  Stay unchanged in the last 6 iterations\n",
      "> SA ENDS....... \n",
      "\n",
      "> avg loss: 2.975001259228546\n",
      "> For the *591_th* data_key\n",
      "> retail = 42.0,bidincrement = 0.15, bidfee = 0.75, infer PT's parameters\n",
      "> Now do SA....... \n",
      "\n"
     ]
    },
    {
     "name": "stderr",
     "output_type": "stream",
     "text": [
      " 46%|████▋     | 592/1276 [1:35:09<1:37:00,  8.51s/it]"
     ]
    },
    {
     "name": "stdout",
     "output_type": "stream",
     "text": [
      "STOP CODE:  Stay unchanged in the last 6 iterations\n",
      "> SA ENDS....... \n",
      "\n",
      "> avg loss: 2.2645464314587502\n",
      "> For the *592_th* data_key\n",
      "> retail = 399.0,bidincrement = 0.15, bidfee = 0.75, infer PT's parameters\n",
      "> Now do SA....... \n",
      "\n"
     ]
    },
    {
     "name": "stderr",
     "output_type": "stream",
     "text": [
      " 46%|████▋     | 593/1276 [1:35:12<1:18:07,  6.86s/it]"
     ]
    },
    {
     "name": "stdout",
     "output_type": "stream",
     "text": [
      "STOP CODE:  Stay unchanged in the last 6 iterations\n",
      "> SA ENDS....... \n",
      "\n",
      "> avg loss: 2.863862567233046\n",
      "> For the *593_th* data_key\n",
      "> retail = 279.99,bidincrement = 0.15, bidfee = 0.75, infer PT's parameters\n",
      "> Now do SA....... \n",
      "\n"
     ]
    },
    {
     "name": "stderr",
     "output_type": "stream",
     "text": [
      " 47%|████▋     | 594/1276 [1:35:16<1:08:05,  5.99s/it]"
     ]
    },
    {
     "name": "stdout",
     "output_type": "stream",
     "text": [
      "STOP CODE:  Stay unchanged in the last 6 iterations\n",
      "> SA ENDS....... \n",
      "\n",
      "> avg loss: 3.651723293599951\n",
      "> For the *594_th* data_key\n",
      "> retail = 89.99,bidincrement = 0.15, bidfee = 0.75, infer PT's parameters\n",
      "> Now do SA....... \n",
      "\n"
     ]
    },
    {
     "name": "stderr",
     "output_type": "stream",
     "text": [
      " 47%|████▋     | 595/1276 [1:35:19<58:39,  5.17s/it]  "
     ]
    },
    {
     "name": "stdout",
     "output_type": "stream",
     "text": [
      "STOP CODE:  Stay unchanged in the last 6 iterations\n",
      "> SA ENDS....... \n",
      "\n",
      "> avg loss: 1.9352640214862307\n",
      "> For the *595_th* data_key\n",
      "> retail = 799.99,bidincrement = 0.15, bidfee = 0.75, infer PT's parameters\n",
      "> Now do SA....... \n",
      "\n"
     ]
    },
    {
     "name": "stderr",
     "output_type": "stream",
     "text": [
      " 47%|████▋     | 596/1276 [1:35:40<1:51:05,  9.80s/it]"
     ]
    },
    {
     "name": "stdout",
     "output_type": "stream",
     "text": [
      "STOP CODE:  Stay unchanged in the last 6 iterations\n",
      "> SA ENDS....... \n",
      "\n",
      "> avg loss: 7.844310018575147\n",
      "> For the *596_th* data_key\n",
      "> retail = 169.99,bidincrement = 0.01, bidfee = 0.75, infer PT's parameters\n",
      "> Now do SA....... \n",
      "\n"
     ]
    },
    {
     "name": "stderr",
     "output_type": "stream",
     "text": [
      " 47%|████▋     | 597/1276 [1:35:59<2:23:37, 12.69s/it]"
     ]
    },
    {
     "name": "stdout",
     "output_type": "stream",
     "text": [
      "STOP CODE:  Stay unchanged in the last 6 iterations\n",
      "> SA ENDS....... \n",
      "\n",
      "> avg loss: 6.710098554289015\n",
      "> For the *597_th* data_key\n",
      "> retail = 1499.99,bidincrement = 0.01, bidfee = 0.75, infer PT's parameters\n",
      "> Now do SA....... \n",
      "\n"
     ]
    },
    {
     "name": "stderr",
     "output_type": "stream",
     "text": [
      " 47%|████▋     | 598/1276 [1:37:01<5:08:31, 27.30s/it]"
     ]
    },
    {
     "name": "stdout",
     "output_type": "stream",
     "text": [
      "> 超时\n",
      "> SA ENDS....... \n",
      "\n",
      "> avg loss: 18.196546296868714\n",
      "> For the *598_th* data_key\n",
      "> retail = 1199.0,bidincrement = 0.01, bidfee = 0.75, infer PT's parameters\n",
      "> Now do SA....... \n",
      "\n"
     ]
    },
    {
     "name": "stderr",
     "output_type": "stream",
     "text": [
      " 47%|████▋     | 599/1276 [1:38:02<7:02:54, 37.48s/it]"
     ]
    },
    {
     "name": "stdout",
     "output_type": "stream",
     "text": [
      "> 超时\n",
      "> SA ENDS....... \n",
      "\n",
      "> avg loss: 16.437584731971242\n",
      "> For the *599_th* data_key\n",
      "> retail = 699.0,bidincrement = 0.01, bidfee = 0.75, infer PT's parameters\n",
      "> Now do SA....... \n",
      "\n"
     ]
    },
    {
     "name": "stderr",
     "output_type": "stream",
     "text": [
      " 47%|████▋     | 600/1276 [1:39:03<8:20:52, 44.46s/it]"
     ]
    },
    {
     "name": "stdout",
     "output_type": "stream",
     "text": [
      "> 超时\n",
      "> SA ENDS....... \n",
      "\n",
      "> avg loss: 13.508971928461573\n",
      "> For the *600_th* data_key\n",
      "> retail = 699.0,bidincrement = 0.01, bidfee = 0.75, infer PT's parameters\n",
      "> Now do SA....... \n",
      "\n"
     ]
    },
    {
     "name": "stderr",
     "output_type": "stream",
     "text": [
      " 47%|████▋     | 601/1276 [1:40:04<9:16:39, 49.48s/it]"
     ]
    },
    {
     "name": "stdout",
     "output_type": "stream",
     "text": [
      "> 超时\n",
      "> SA ENDS....... \n",
      "\n",
      "> avg loss: 13.961224641654034\n",
      "> For the *601_th* data_key\n",
      "> retail = 68.99,bidincrement = 0.15, bidfee = 0.75, infer PT's parameters\n",
      "> Now do SA....... \n",
      "\n"
     ]
    },
    {
     "name": "stderr",
     "output_type": "stream",
     "text": [
      " 47%|████▋     | 602/1276 [1:40:09<6:45:34, 36.10s/it]"
     ]
    },
    {
     "name": "stdout",
     "output_type": "stream",
     "text": [
      "STOP CODE:  Stay unchanged in the last 6 iterations\n",
      "> SA ENDS....... \n",
      "\n",
      "> avg loss: 3.017313694510895\n",
      "> For the *602_th* data_key\n",
      "> retail = 89.99,bidincrement = 0.15, bidfee = 0.75, infer PT's parameters\n",
      "> Now do SA....... \n",
      "\n"
     ]
    },
    {
     "name": "stderr",
     "output_type": "stream",
     "text": [
      " 47%|████▋     | 603/1276 [1:40:12<4:53:45, 26.19s/it]"
     ]
    },
    {
     "name": "stdout",
     "output_type": "stream",
     "text": [
      "STOP CODE:  Stay unchanged in the last 6 iterations\n",
      "> SA ENDS....... \n",
      "\n",
      "> avg loss: 3.6110046526327038\n",
      "> For the *603_th* data_key\n",
      "> retail = 429.99,bidincrement = 0.01, bidfee = 0.75, infer PT's parameters\n",
      "> Now do SA....... \n",
      "\n"
     ]
    },
    {
     "name": "stderr",
     "output_type": "stream",
     "text": [
      " 47%|████▋     | 604/1276 [1:41:12<6:48:29, 36.47s/it]"
     ]
    },
    {
     "name": "stdout",
     "output_type": "stream",
     "text": [
      "> 超时\n",
      "> SA ENDS....... \n",
      "\n",
      "> avg loss: 11.968656916936121\n",
      "> For the *604_th* data_key\n",
      "> retail = 99.7,bidincrement = 0.15, bidfee = 0.75, infer PT's parameters\n",
      "> Now do SA....... \n",
      "\n"
     ]
    },
    {
     "name": "stderr",
     "output_type": "stream",
     "text": [
      " 47%|████▋     | 605/1276 [1:41:15<4:55:11, 26.40s/it]"
     ]
    },
    {
     "name": "stdout",
     "output_type": "stream",
     "text": [
      "STOP CODE:  Stay unchanged in the last 6 iterations\n",
      "> SA ENDS....... \n",
      "\n",
      "> avg loss: 3.3934435795423847\n",
      "> For the *605_th* data_key\n",
      "> retail = 144.4,bidincrement = 0.15, bidfee = 0.75, infer PT's parameters\n",
      "> Now do SA....... \n",
      "\n"
     ]
    },
    {
     "name": "stderr",
     "output_type": "stream",
     "text": [
      " 47%|████▋     | 606/1276 [1:41:18<3:37:44, 19.50s/it]"
     ]
    },
    {
     "name": "stdout",
     "output_type": "stream",
     "text": [
      "STOP CODE:  Stay unchanged in the last 6 iterations\n",
      "> SA ENDS....... \n",
      "\n",
      "> avg loss: 3.562925715596772\n",
      "> For the *606_th* data_key\n",
      "> retail = 219.99,bidincrement = 0.15, bidfee = 0.75, infer PT's parameters\n",
      "> Now do SA....... \n",
      "\n"
     ]
    },
    {
     "name": "stderr",
     "output_type": "stream",
     "text": [
      " 48%|████▊     | 607/1276 [1:41:24<2:51:35, 15.39s/it]"
     ]
    },
    {
     "name": "stdout",
     "output_type": "stream",
     "text": [
      "STOP CODE:  Stay unchanged in the last 6 iterations\n",
      "> SA ENDS....... \n",
      "\n",
      "> avg loss: 3.315340812106815\n",
      "> For the *607_th* data_key\n",
      "> retail = 99.95,bidincrement = 0.15, bidfee = 0.75, infer PT's parameters\n",
      "> Now do SA....... \n",
      "\n"
     ]
    },
    {
     "name": "stderr",
     "output_type": "stream",
     "text": [
      " 48%|████▊     | 608/1276 [1:41:31<2:22:54, 12.84s/it]"
     ]
    },
    {
     "name": "stdout",
     "output_type": "stream",
     "text": [
      "STOP CODE:  Stay unchanged in the last 6 iterations\n",
      "> SA ENDS....... \n",
      "\n",
      "> avg loss: 3.273439396633903\n",
      "> For the *608_th* data_key\n",
      "> retail = 169.99,bidincrement = 0.15, bidfee = 0.75, infer PT's parameters\n",
      "> Now do SA....... \n",
      "\n"
     ]
    },
    {
     "name": "stderr",
     "output_type": "stream",
     "text": [
      " 48%|████▊     | 609/1276 [1:41:37<1:59:20, 10.74s/it]"
     ]
    },
    {
     "name": "stdout",
     "output_type": "stream",
     "text": [
      "STOP CODE:  Stay unchanged in the last 6 iterations\n",
      "> SA ENDS....... \n",
      "\n",
      "> avg loss: 4.108427926516997\n",
      "> For the *609_th* data_key\n",
      "> retail = 149.0,bidincrement = 0.15, bidfee = 0.75, infer PT's parameters\n",
      "> Now do SA....... \n",
      "\n"
     ]
    },
    {
     "name": "stderr",
     "output_type": "stream",
     "text": [
      " 48%|████▊     | 610/1276 [1:41:40<1:32:10,  8.30s/it]"
     ]
    },
    {
     "name": "stdout",
     "output_type": "stream",
     "text": [
      "STOP CODE:  Stay unchanged in the last 6 iterations\n",
      "> SA ENDS....... \n",
      "\n",
      "> avg loss: 3.543870466341627\n",
      "> For the *610_th* data_key\n",
      "> retail = 49.99,bidincrement = 0.15, bidfee = 0.75, infer PT's parameters\n",
      "> Now do SA....... \n",
      "\n"
     ]
    },
    {
     "name": "stderr",
     "output_type": "stream",
     "text": [
      " 48%|████▊     | 611/1276 [1:41:41<1:08:15,  6.16s/it]"
     ]
    },
    {
     "name": "stdout",
     "output_type": "stream",
     "text": [
      "STOP CODE:  Stay unchanged in the last 6 iterations\n",
      "> SA ENDS....... \n",
      "\n",
      "> avg loss: 3.2046493666367657\n",
      "> For the *611_th* data_key\n",
      "> retail = 29.95,bidincrement = 0.15, bidfee = 0.75, infer PT's parameters\n",
      "> Now do SA....... \n",
      "\n"
     ]
    },
    {
     "name": "stderr",
     "output_type": "stream",
     "text": [
      " 48%|████▊     | 612/1276 [1:41:47<1:09:08,  6.25s/it]"
     ]
    },
    {
     "name": "stdout",
     "output_type": "stream",
     "text": [
      "STOP CODE:  Stay unchanged in the last 6 iterations\n",
      "> SA ENDS....... \n",
      "\n",
      "> avg loss: 2.431294148116384\n",
      "> For the *612_th* data_key\n",
      "> retail = 29.95,bidincrement = 0.15, bidfee = 0.75, infer PT's parameters\n",
      "> Now do SA....... \n",
      "\n"
     ]
    },
    {
     "name": "stderr",
     "output_type": "stream",
     "text": [
      " 48%|████▊     | 613/1276 [1:41:48<51:22,  4.65s/it]  "
     ]
    },
    {
     "name": "stdout",
     "output_type": "stream",
     "text": [
      "STOP CODE:  Stay unchanged in the last 6 iterations\n",
      "> SA ENDS....... \n",
      "\n",
      "> avg loss: 2.344018462992041\n",
      "> For the *613_th* data_key\n",
      "> retail = 9.99,bidincrement = 0.15, bidfee = 0.75, infer PT's parameters\n",
      "> Now do SA....... \n",
      "\n"
     ]
    },
    {
     "name": "stderr",
     "output_type": "stream",
     "text": [
      " 48%|████▊     | 614/1276 [1:41:49<38:12,  3.46s/it]"
     ]
    },
    {
     "name": "stdout",
     "output_type": "stream",
     "text": [
      "STOP CODE:  Stay unchanged in the last 6 iterations\n",
      "> SA ENDS....... \n",
      "\n",
      "> avg loss: 1.5228914301433885\n",
      "> For the *614_th* data_key\n",
      "> retail = 18.99,bidincrement = 0.15, bidfee = 0.75, infer PT's parameters\n",
      "> Now do SA....... \n",
      "\n"
     ]
    },
    {
     "name": "stderr",
     "output_type": "stream",
     "text": [
      " 48%|████▊     | 615/1276 [1:41:52<35:43,  3.24s/it]"
     ]
    },
    {
     "name": "stdout",
     "output_type": "stream",
     "text": [
      "STOP CODE:  Stay unchanged in the last 6 iterations\n",
      "> SA ENDS....... \n",
      "\n",
      "> avg loss: 2.7406560409723375\n",
      "> For the *615_th* data_key\n",
      "> retail = 18.98,bidincrement = 0.15, bidfee = 0.75, infer PT's parameters\n",
      "> Now do SA....... \n",
      "\n"
     ]
    },
    {
     "name": "stderr",
     "output_type": "stream",
     "text": [
      " 48%|████▊     | 616/1276 [1:41:52<27:49,  2.53s/it]"
     ]
    },
    {
     "name": "stdout",
     "output_type": "stream",
     "text": [
      "STOP CODE:  Stay unchanged in the last 6 iterations\n",
      "> SA ENDS....... \n",
      "\n",
      "> avg loss: 2.0902492808843838\n",
      "> For the *616_th* data_key\n",
      "> retail = 18.98,bidincrement = 0.15, bidfee = 0.75, infer PT's parameters\n",
      "> Now do SA....... \n",
      "\n"
     ]
    },
    {
     "name": "stderr",
     "output_type": "stream",
     "text": [
      " 48%|████▊     | 617/1276 [1:41:54<23:53,  2.18s/it]"
     ]
    },
    {
     "name": "stdout",
     "output_type": "stream",
     "text": [
      "STOP CODE:  Stay unchanged in the last 6 iterations\n",
      "> SA ENDS....... \n",
      "\n",
      "> avg loss: 2.593809316362673\n",
      "> For the *617_th* data_key\n",
      "> retail = 59.99,bidincrement = 0.15, bidfee = 0.75, infer PT's parameters\n",
      "> Now do SA....... \n",
      "\n"
     ]
    },
    {
     "name": "stderr",
     "output_type": "stream",
     "text": [
      " 48%|████▊     | 618/1276 [1:41:59<33:40,  3.07s/it]"
     ]
    },
    {
     "name": "stdout",
     "output_type": "stream",
     "text": [
      "STOP CODE:  Stay unchanged in the last 6 iterations\n",
      "> SA ENDS....... \n",
      "\n",
      "> avg loss: 2.978906366499581\n",
      "> For the *618_th* data_key\n",
      "> retail = 41.75,bidincrement = 0.15, bidfee = 0.75, infer PT's parameters\n",
      "> Now do SA....... \n",
      "\n"
     ]
    },
    {
     "name": "stderr",
     "output_type": "stream",
     "text": [
      " 49%|████▊     | 619/1276 [1:42:00<27:08,  2.48s/it]"
     ]
    },
    {
     "name": "stdout",
     "output_type": "stream",
     "text": [
      "STOP CODE:  Stay unchanged in the last 6 iterations\n",
      "> SA ENDS....... \n",
      "\n",
      "> avg loss: 1.9488678657574217\n",
      "> For the *619_th* data_key\n",
      "> retail = 69.99,bidincrement = 0.15, bidfee = 0.75, infer PT's parameters\n",
      "> Now do SA....... \n",
      "\n"
     ]
    },
    {
     "name": "stderr",
     "output_type": "stream",
     "text": [
      " 49%|████▊     | 620/1276 [1:42:03<27:47,  2.54s/it]"
     ]
    },
    {
     "name": "stdout",
     "output_type": "stream",
     "text": [
      "STOP CODE:  Stay unchanged in the last 6 iterations\n",
      "> SA ENDS....... \n",
      "\n",
      "> avg loss: 2.1082084799343113\n",
      "> For the *620_th* data_key\n",
      "> retail = 39.99,bidincrement = 0.15, bidfee = 0.75, infer PT's parameters\n",
      "> Now do SA....... \n",
      "\n"
     ]
    },
    {
     "name": "stderr",
     "output_type": "stream",
     "text": [
      " 49%|████▊     | 621/1276 [1:42:05<26:52,  2.46s/it]"
     ]
    },
    {
     "name": "stdout",
     "output_type": "stream",
     "text": [
      "STOP CODE:  Stay unchanged in the last 6 iterations\n",
      "> SA ENDS....... \n",
      "\n",
      "> avg loss: 2.2684070784487114\n",
      "> For the *621_th* data_key\n",
      "> retail = 15.99,bidincrement = 0.15, bidfee = 0.75, infer PT's parameters\n",
      "> Now do SA....... \n",
      "\n"
     ]
    },
    {
     "name": "stderr",
     "output_type": "stream",
     "text": [
      " 49%|████▊     | 622/1276 [1:42:06<21:20,  1.96s/it]"
     ]
    },
    {
     "name": "stdout",
     "output_type": "stream",
     "text": [
      "STOP CODE:  Stay unchanged in the last 6 iterations\n",
      "> SA ENDS....... \n",
      "\n",
      "> avg loss: 2.1499435115527166\n",
      "> For the *622_th* data_key\n",
      "> retail = 29.99,bidincrement = 0.15, bidfee = 0.75, infer PT's parameters\n",
      "> Now do SA....... \n",
      "\n"
     ]
    },
    {
     "name": "stderr",
     "output_type": "stream",
     "text": [
      " 49%|████▉     | 623/1276 [1:42:07<19:31,  1.79s/it]"
     ]
    },
    {
     "name": "stdout",
     "output_type": "stream",
     "text": [
      "STOP CODE:  Stay unchanged in the last 6 iterations\n",
      "> SA ENDS....... \n",
      "\n",
      "> avg loss: 2.522465441788218\n",
      "> For the *623_th* data_key\n",
      "> retail = 19.99,bidincrement = 0.15, bidfee = 0.75, infer PT's parameters\n",
      "> Now do SA....... \n",
      "\n"
     ]
    },
    {
     "name": "stderr",
     "output_type": "stream",
     "text": [
      " 49%|████▉     | 624/1276 [1:42:08<16:51,  1.55s/it]"
     ]
    },
    {
     "name": "stdout",
     "output_type": "stream",
     "text": [
      "STOP CODE:  Stay unchanged in the last 6 iterations\n",
      "> SA ENDS....... \n",
      "\n",
      "> avg loss: 2.15231028210241\n",
      "> For the *624_th* data_key\n",
      "> retail = 29.99,bidincrement = 0.15, bidfee = 0.75, infer PT's parameters\n",
      "> Now do SA....... \n",
      "\n"
     ]
    },
    {
     "name": "stderr",
     "output_type": "stream",
     "text": [
      " 49%|████▉     | 625/1276 [1:42:12<23:22,  2.15s/it]"
     ]
    },
    {
     "name": "stdout",
     "output_type": "stream",
     "text": [
      "STOP CODE:  Stay unchanged in the last 6 iterations\n",
      "> SA ENDS....... \n",
      "\n",
      "> avg loss: 2.860632124648238\n",
      "> For the *625_th* data_key\n",
      "> retail = 49.95,bidincrement = 0.15, bidfee = 0.75, infer PT's parameters\n",
      "> Now do SA....... \n",
      "\n"
     ]
    },
    {
     "name": "stderr",
     "output_type": "stream",
     "text": [
      " 49%|████▉     | 626/1276 [1:42:13<21:41,  2.00s/it]"
     ]
    },
    {
     "name": "stdout",
     "output_type": "stream",
     "text": [
      "STOP CODE:  Stay unchanged in the last 6 iterations\n",
      "> SA ENDS....... \n",
      "\n",
      "> avg loss: 2.604477792817091\n",
      "> For the *626_th* data_key\n",
      "> retail = 99.95,bidincrement = 0.15, bidfee = 0.75, infer PT's parameters\n",
      "> Now do SA....... \n",
      "\n"
     ]
    },
    {
     "name": "stderr",
     "output_type": "stream",
     "text": [
      " 49%|████▉     | 627/1276 [1:42:15<21:49,  2.02s/it]"
     ]
    },
    {
     "name": "stdout",
     "output_type": "stream",
     "text": [
      "STOP CODE:  Stay unchanged in the last 6 iterations\n",
      "> SA ENDS....... \n",
      "\n",
      "> avg loss: 3.264652096254548\n",
      "> For the *627_th* data_key\n",
      "> retail = 259.99,bidincrement = 0.15, bidfee = 0.75, infer PT's parameters\n",
      "> Now do SA....... \n",
      "\n"
     ]
    },
    {
     "name": "stderr",
     "output_type": "stream",
     "text": [
      " 49%|████▉     | 628/1276 [1:42:19<27:04,  2.51s/it]"
     ]
    },
    {
     "name": "stdout",
     "output_type": "stream",
     "text": [
      "STOP CODE:  Stay unchanged in the last 6 iterations\n",
      "> SA ENDS....... \n",
      "\n",
      "> avg loss: 3.403459918179613\n",
      "> For the *628_th* data_key\n",
      "> retail = 905.24,bidincrement = 0.01, bidfee = 0.75, infer PT's parameters\n",
      "> Now do SA....... \n",
      "\n"
     ]
    },
    {
     "name": "stderr",
     "output_type": "stream",
     "text": [
      " 49%|████▉     | 629/1276 [1:43:21<3:39:50, 20.39s/it]"
     ]
    },
    {
     "name": "stdout",
     "output_type": "stream",
     "text": [
      "> 超时\n",
      "> SA ENDS....... \n",
      "\n",
      "> avg loss: 15.112761230943105\n",
      "> For the *629_th* data_key\n",
      "> retail = 91.86,bidincrement = 0.15, bidfee = 0.75, infer PT's parameters\n",
      "> Now do SA....... \n",
      "\n"
     ]
    },
    {
     "name": "stderr",
     "output_type": "stream",
     "text": [
      " 49%|████▉     | 630/1276 [1:43:34<3:14:09, 18.03s/it]"
     ]
    },
    {
     "name": "stdout",
     "output_type": "stream",
     "text": [
      "STOP CODE:  Stay unchanged in the last 6 iterations\n",
      "> SA ENDS....... \n",
      "\n",
      "> avg loss: 3.929094511108526\n",
      "> For the *630_th* data_key\n",
      "> retail = 129.94,bidincrement = 0.15, bidfee = 0.75, infer PT's parameters\n",
      "> Now do SA....... \n",
      "\n"
     ]
    },
    {
     "name": "stderr",
     "output_type": "stream",
     "text": [
      " 49%|████▉     | 631/1276 [1:43:42<2:43:50, 15.24s/it]"
     ]
    },
    {
     "name": "stdout",
     "output_type": "stream",
     "text": [
      "STOP CODE:  Stay unchanged in the last 6 iterations\n",
      "> SA ENDS....... \n",
      "\n",
      "> avg loss: 2.774515922066236\n",
      "> For the *631_th* data_key\n",
      "> retail = 128.77,bidincrement = 0.15, bidfee = 0.75, infer PT's parameters\n",
      "> Now do SA....... \n",
      "\n"
     ]
    },
    {
     "name": "stderr",
     "output_type": "stream",
     "text": [
      " 50%|████▉     | 632/1276 [1:43:46<2:04:40, 11.62s/it]"
     ]
    },
    {
     "name": "stdout",
     "output_type": "stream",
     "text": [
      "STOP CODE:  Stay unchanged in the last 6 iterations\n",
      "> SA ENDS....... \n",
      "\n",
      "> avg loss: 3.8323267011214686\n",
      "> For the *632_th* data_key\n",
      "> retail = 169.3,bidincrement = 0.15, bidfee = 0.75, infer PT's parameters\n",
      "> Now do SA....... \n",
      "\n"
     ]
    },
    {
     "name": "stderr",
     "output_type": "stream",
     "text": [
      " 50%|████▉     | 633/1276 [1:43:54<1:55:47, 10.80s/it]"
     ]
    },
    {
     "name": "stdout",
     "output_type": "stream",
     "text": [
      "STOP CODE:  Stay unchanged in the last 6 iterations\n",
      "> SA ENDS....... \n",
      "\n",
      "> avg loss: 3.793061481766174\n",
      "> For the *633_th* data_key\n",
      "> retail = 182.42,bidincrement = 0.15, bidfee = 0.75, infer PT's parameters\n",
      "> Now do SA....... \n",
      "\n"
     ]
    },
    {
     "name": "stderr",
     "output_type": "stream",
     "text": [
      " 50%|████▉     | 634/1276 [1:43:59<1:34:36,  8.84s/it]"
     ]
    },
    {
     "name": "stdout",
     "output_type": "stream",
     "text": [
      "STOP CODE:  Stay unchanged in the last 6 iterations\n",
      "> SA ENDS....... \n",
      "\n",
      "> avg loss: 3.2976623186019736\n",
      "> For the *634_th* data_key\n",
      "> retail = 160.0,bidincrement = 0.15, bidfee = 0.75, infer PT's parameters\n",
      "> Now do SA....... \n",
      "\n"
     ]
    },
    {
     "name": "stderr",
     "output_type": "stream",
     "text": [
      " 50%|████▉     | 635/1276 [1:44:05<1:25:04,  7.96s/it]"
     ]
    },
    {
     "name": "stdout",
     "output_type": "stream",
     "text": [
      "STOP CODE:  Stay unchanged in the last 6 iterations\n",
      "> SA ENDS....... \n",
      "\n",
      "> avg loss: 3.4843647172835066\n",
      "> For the *635_th* data_key\n",
      "> retail = 364.99,bidincrement = 0.15, bidfee = 0.75, infer PT's parameters\n",
      "> Now do SA....... \n",
      "\n"
     ]
    },
    {
     "name": "stderr",
     "output_type": "stream",
     "text": [
      " 50%|████▉     | 636/1276 [1:44:15<1:31:24,  8.57s/it]"
     ]
    },
    {
     "name": "stdout",
     "output_type": "stream",
     "text": [
      "STOP CODE:  Stay unchanged in the last 6 iterations\n",
      "> SA ENDS....... \n",
      "\n",
      "> avg loss: 3.1781697774512505\n",
      "> For the *636_th* data_key\n",
      "> retail = 15.0,bidincrement = 0.01, bidfee = 0.75, infer PT's parameters\n",
      "> Now do SA....... \n",
      "\n"
     ]
    },
    {
     "name": "stderr",
     "output_type": "stream",
     "text": [
      " 50%|████▉     | 637/1276 [1:44:21<1:24:36,  7.94s/it]"
     ]
    },
    {
     "name": "stdout",
     "output_type": "stream",
     "text": [
      "STOP CODE:  Stay unchanged in the last 6 iterations\n",
      "> SA ENDS....... \n",
      "\n",
      "> avg loss: 3.9455021384313276\n",
      "> For the *637_th* data_key\n",
      "> retail = 849.95,bidincrement = 0.01, bidfee = 0.75, infer PT's parameters\n",
      "> Now do SA....... \n",
      "\n"
     ]
    },
    {
     "name": "stderr",
     "output_type": "stream",
     "text": [
      " 50%|█████     | 638/1276 [1:45:22<4:14:08, 23.90s/it]"
     ]
    },
    {
     "name": "stdout",
     "output_type": "stream",
     "text": [
      "> 超时\n",
      "> SA ENDS....... \n",
      "\n",
      "> avg loss: 14.907769935205513\n",
      "> For the *638_th* data_key\n",
      "> retail = 899.99,bidincrement = 0.01, bidfee = 0.75, infer PT's parameters\n",
      "> Now do SA....... \n",
      "\n"
     ]
    },
    {
     "name": "stderr",
     "output_type": "stream",
     "text": [
      " 50%|█████     | 639/1276 [1:46:24<6:14:26, 35.27s/it]"
     ]
    },
    {
     "name": "stdout",
     "output_type": "stream",
     "text": [
      "> 超时\n",
      "> SA ENDS....... \n",
      "\n",
      "> avg loss: 14.479164148626964\n",
      "> For the *639_th* data_key\n",
      "> retail = 19.99,bidincrement = 0.15, bidfee = 0.75, infer PT's parameters\n",
      "> Now do SA....... \n",
      "\n"
     ]
    },
    {
     "name": "stderr",
     "output_type": "stream",
     "text": [
      " 50%|█████     | 640/1276 [1:46:25<4:23:58, 24.90s/it]"
     ]
    },
    {
     "name": "stdout",
     "output_type": "stream",
     "text": [
      "STOP CODE:  Stay unchanged in the last 6 iterations\n",
      "> SA ENDS....... \n",
      "\n",
      "> avg loss: 2.262554992424564\n",
      "> For the *640_th* data_key\n",
      "> retail = 21.99,bidincrement = 0.15, bidfee = 0.75, infer PT's parameters\n",
      "> Now do SA....... \n",
      "\n"
     ]
    },
    {
     "name": "stderr",
     "output_type": "stream",
     "text": [
      " 50%|█████     | 641/1276 [1:46:25<3:06:20, 17.61s/it]"
     ]
    },
    {
     "name": "stdout",
     "output_type": "stream",
     "text": [
      "STOP CODE:  Stay unchanged in the last 6 iterations\n",
      "> SA ENDS....... \n",
      "\n",
      "> avg loss: 2.5288237443501824\n",
      "> For the *641_th* data_key\n",
      "> retail = 86.99,bidincrement = 0.15, bidfee = 0.75, infer PT's parameters\n",
      "> Now do SA....... \n",
      "\n"
     ]
    },
    {
     "name": "stderr",
     "output_type": "stream",
     "text": [
      " 50%|█████     | 642/1276 [1:46:30<2:25:21, 13.76s/it]"
     ]
    },
    {
     "name": "stdout",
     "output_type": "stream",
     "text": [
      "STOP CODE:  Stay unchanged in the last 6 iterations\n",
      "> SA ENDS....... \n",
      "\n",
      "> avg loss: 3.474151679212221\n",
      "> For the *642_th* data_key\n",
      "> retail = 1199.99,bidincrement = 0.01, bidfee = 0.75, infer PT's parameters\n",
      "> Now do SA....... \n",
      "\n"
     ]
    },
    {
     "name": "stderr",
     "output_type": "stream",
     "text": [
      " 50%|█████     | 643/1276 [1:47:31<4:55:46, 28.04s/it]"
     ]
    },
    {
     "name": "stdout",
     "output_type": "stream",
     "text": [
      "> 超时\n",
      "> SA ENDS....... \n",
      "\n",
      "> avg loss: 16.392741912398108\n",
      "> For the *643_th* data_key\n",
      "> retail = 16.99,bidincrement = 0.15, bidfee = 0.75, infer PT's parameters\n",
      "> Now do SA....... \n",
      "\n"
     ]
    },
    {
     "name": "stderr",
     "output_type": "stream",
     "text": [
      " 50%|█████     | 644/1276 [1:47:33<3:31:54, 20.12s/it]"
     ]
    },
    {
     "name": "stdout",
     "output_type": "stream",
     "text": [
      "STOP CODE:  Stay unchanged in the last 6 iterations\n",
      "> SA ENDS....... \n",
      "\n",
      "> avg loss: 2.3108433734858482\n",
      "> For the *644_th* data_key\n",
      "> retail = 34.99,bidincrement = 0.15, bidfee = 0.75, infer PT's parameters\n",
      "> Now do SA....... \n",
      "\n"
     ]
    },
    {
     "name": "stderr",
     "output_type": "stream",
     "text": [
      " 51%|█████     | 645/1276 [1:47:35<2:35:04, 14.75s/it]"
     ]
    },
    {
     "name": "stdout",
     "output_type": "stream",
     "text": [
      "STOP CODE:  Stay unchanged in the last 6 iterations\n",
      "> SA ENDS....... \n",
      "\n",
      "> avg loss: 2.8668284661113383\n",
      "> For the *645_th* data_key\n",
      "> retail = 27.99,bidincrement = 0.15, bidfee = 0.75, infer PT's parameters\n",
      "> Now do SA....... \n",
      "\n"
     ]
    },
    {
     "name": "stderr",
     "output_type": "stream",
     "text": [
      " 51%|█████     | 646/1276 [1:47:36<1:51:10, 10.59s/it]"
     ]
    },
    {
     "name": "stdout",
     "output_type": "stream",
     "text": [
      "STOP CODE:  Stay unchanged in the last 6 iterations\n",
      "> SA ENDS....... \n",
      "\n",
      "> avg loss: 2.8359615046276914\n",
      "> For the *646_th* data_key\n",
      "> retail = 1260.0,bidincrement = 0.01, bidfee = 0.75, infer PT's parameters\n",
      "> Now do SA....... \n",
      "\n"
     ]
    },
    {
     "name": "stderr",
     "output_type": "stream",
     "text": [
      " 51%|█████     | 647/1276 [1:48:37<4:30:10, 25.77s/it]"
     ]
    },
    {
     "name": "stdout",
     "output_type": "stream",
     "text": [
      "> 超时\n",
      "> SA ENDS....... \n",
      "\n",
      "> avg loss: 16.83162274248347\n",
      "> For the *647_th* data_key\n",
      "> retail = 110.0,bidincrement = 0.15, bidfee = 0.75, infer PT's parameters\n",
      "> Now do SA....... \n",
      "\n"
     ]
    },
    {
     "name": "stderr",
     "output_type": "stream",
     "text": [
      " 51%|█████     | 648/1276 [1:48:39<3:12:34, 18.40s/it]"
     ]
    },
    {
     "name": "stdout",
     "output_type": "stream",
     "text": [
      "STOP CODE:  Stay unchanged in the last 6 iterations\n",
      "> SA ENDS....... \n",
      "\n",
      "> avg loss: 3.4647516290434193\n",
      "> For the *648_th* data_key\n",
      "> retail = 90.0,bidincrement = 0.15, bidfee = 0.75, infer PT's parameters\n",
      "> Now do SA....... \n",
      "\n"
     ]
    },
    {
     "name": "stderr",
     "output_type": "stream",
     "text": [
      " 51%|█████     | 649/1276 [1:48:40<2:18:14, 13.23s/it]"
     ]
    },
    {
     "name": "stdout",
     "output_type": "stream",
     "text": [
      "STOP CODE:  Stay unchanged in the last 6 iterations\n",
      "> SA ENDS....... \n",
      "\n",
      "> avg loss: 3.5039681674060295\n",
      "> For the *649_th* data_key\n",
      "> retail = 219.99,bidincrement = 0.15, bidfee = 0.75, infer PT's parameters\n",
      "> Now do SA....... \n",
      "\n"
     ]
    },
    {
     "name": "stderr",
     "output_type": "stream",
     "text": [
      " 51%|█████     | 650/1276 [1:48:46<1:57:21, 11.25s/it]"
     ]
    },
    {
     "name": "stdout",
     "output_type": "stream",
     "text": [
      "STOP CODE:  Stay unchanged in the last 6 iterations\n",
      "> SA ENDS....... \n",
      "\n",
      "> avg loss: 4.200846782812159\n",
      "> For the *650_th* data_key\n",
      "> retail = 33.94,bidincrement = 0.15, bidfee = 0.75, infer PT's parameters\n",
      "> Now do SA....... \n",
      "\n"
     ]
    },
    {
     "name": "stderr",
     "output_type": "stream",
     "text": [
      " 51%|█████     | 651/1276 [1:48:50<1:32:50,  8.91s/it]"
     ]
    },
    {
     "name": "stdout",
     "output_type": "stream",
     "text": [
      "STOP CODE:  Stay unchanged in the last 6 iterations\n",
      "> SA ENDS....... \n",
      "\n",
      "> avg loss: 3.1523674044604935\n",
      "> For the *651_th* data_key\n",
      "> retail = 12.99,bidincrement = 0.15, bidfee = 0.75, infer PT's parameters\n",
      "> Now do SA....... \n",
      "\n"
     ]
    },
    {
     "name": "stderr",
     "output_type": "stream",
     "text": [
      " 51%|█████     | 652/1276 [1:48:50<1:06:07,  6.36s/it]"
     ]
    },
    {
     "name": "stdout",
     "output_type": "stream",
     "text": [
      "STOP CODE:  Stay unchanged in the last 6 iterations\n",
      "> SA ENDS....... \n",
      "\n",
      "> avg loss: 2.1709386017756795\n",
      "> For the *652_th* data_key\n",
      "> retail = 13.99,bidincrement = 0.15, bidfee = 0.75, infer PT's parameters\n",
      "> Now do SA....... \n",
      "\n"
     ]
    },
    {
     "name": "stderr",
     "output_type": "stream",
     "text": [
      " 51%|█████     | 653/1276 [1:48:53<54:35,  5.26s/it]  "
     ]
    },
    {
     "name": "stdout",
     "output_type": "stream",
     "text": [
      "STOP CODE:  Stay unchanged in the last 6 iterations\n",
      "> SA ENDS....... \n",
      "\n",
      "> avg loss: 2.238893310289224\n",
      "> For the *653_th* data_key\n",
      "> retail = 11.99,bidincrement = 0.15, bidfee = 0.75, infer PT's parameters\n",
      "> Now do SA....... \n",
      "\n"
     ]
    },
    {
     "name": "stderr",
     "output_type": "stream",
     "text": [
      " 51%|█████▏    | 654/1276 [1:48:54<41:10,  3.97s/it]"
     ]
    },
    {
     "name": "stdout",
     "output_type": "stream",
     "text": [
      "STOP CODE:  Stay unchanged in the last 6 iterations\n",
      "> SA ENDS....... \n",
      "\n",
      "> avg loss: 1.85640975315183\n",
      "> For the *654_th* data_key\n",
      "> retail = 336.0,bidincrement = 0.15, bidfee = 0.75, infer PT's parameters\n",
      "> Now do SA....... \n",
      "\n"
     ]
    },
    {
     "name": "stderr",
     "output_type": "stream",
     "text": [
      " 51%|█████▏    | 655/1276 [1:49:01<50:14,  4.85s/it]"
     ]
    },
    {
     "name": "stdout",
     "output_type": "stream",
     "text": [
      "STOP CODE:  Stay unchanged in the last 6 iterations\n",
      "> SA ENDS....... \n",
      "\n",
      "> avg loss: 3.060249414258154\n",
      "> For the *655_th* data_key\n",
      "> retail = 1199.9,bidincrement = 0.01, bidfee = 0.75, infer PT's parameters\n",
      "> Now do SA....... \n",
      "\n"
     ]
    },
    {
     "name": "stderr",
     "output_type": "stream",
     "text": [
      " 51%|█████▏    | 656/1276 [1:50:03<3:47:44, 22.04s/it]"
     ]
    },
    {
     "name": "stdout",
     "output_type": "stream",
     "text": [
      "> 超时\n",
      "> SA ENDS....... \n",
      "\n",
      "> avg loss: 16.859459154126856\n",
      "> For the *656_th* data_key\n",
      "> retail = 99.99,bidincrement = 0.15, bidfee = 0.75, infer PT's parameters\n",
      "> Now do SA....... \n",
      "\n"
     ]
    },
    {
     "name": "stderr",
     "output_type": "stream",
     "text": [
      " 51%|█████▏    | 657/1276 [1:50:05<2:45:58, 16.09s/it]"
     ]
    },
    {
     "name": "stdout",
     "output_type": "stream",
     "text": [
      "STOP CODE:  Stay unchanged in the last 6 iterations\n",
      "> SA ENDS....... \n",
      "\n",
      "> avg loss: 3.4822351220965198\n",
      "> For the *657_th* data_key\n",
      "> retail = 179.0,bidincrement = 0.15, bidfee = 0.75, infer PT's parameters\n",
      "> Now do SA....... \n",
      "\n"
     ]
    },
    {
     "name": "stderr",
     "output_type": "stream",
     "text": [
      " 52%|█████▏    | 658/1276 [1:50:08<2:05:59, 12.23s/it]"
     ]
    },
    {
     "name": "stdout",
     "output_type": "stream",
     "text": [
      "STOP CODE:  Stay unchanged in the last 6 iterations\n",
      "> SA ENDS....... \n",
      "\n",
      "> avg loss: 2.257200379158701\n",
      "> For the *658_th* data_key\n",
      "> retail = 451.13,bidincrement = 0.15, bidfee = 0.75, infer PT's parameters\n",
      "> Now do SA....... \n",
      "\n"
     ]
    },
    {
     "name": "stderr",
     "output_type": "stream",
     "text": [
      " 52%|█████▏    | 659/1276 [1:50:33<2:44:11, 15.97s/it]"
     ]
    },
    {
     "name": "stdout",
     "output_type": "stream",
     "text": [
      "STOP CODE:  Stay unchanged in the last 6 iterations\n",
      "> SA ENDS....... \n",
      "\n",
      "> avg loss: 3.6924239956810943\n",
      "> For the *659_th* data_key\n",
      "> retail = 1449.99,bidincrement = 0.01, bidfee = 0.75, infer PT's parameters\n",
      "> Now do SA....... \n",
      "\n"
     ]
    },
    {
     "name": "stderr",
     "output_type": "stream",
     "text": [
      " 52%|█████▏    | 660/1276 [1:51:34<5:03:51, 29.60s/it]"
     ]
    },
    {
     "name": "stdout",
     "output_type": "stream",
     "text": [
      "> 超时\n",
      "> SA ENDS....... \n",
      "\n",
      "> avg loss: 17.373027975755786\n",
      "> For the *660_th* data_key\n",
      "> retail = 549.99,bidincrement = 0.15, bidfee = 0.75, infer PT's parameters\n",
      "> Now do SA....... \n",
      "\n"
     ]
    },
    {
     "name": "stderr",
     "output_type": "stream",
     "text": [
      " 52%|█████▏    | 661/1276 [1:51:55<4:34:19, 26.76s/it]"
     ]
    },
    {
     "name": "stdout",
     "output_type": "stream",
     "text": [
      "STOP CODE:  Stay unchanged in the last 6 iterations\n",
      "> SA ENDS....... \n",
      "\n",
      "> avg loss: 3.107741236523386\n",
      "> For the *661_th* data_key\n",
      "> retail = 134.99,bidincrement = 0.15, bidfee = 0.75, infer PT's parameters\n",
      "> Now do SA....... \n",
      "\n"
     ]
    },
    {
     "name": "stderr",
     "output_type": "stream",
     "text": [
      " 52%|█████▏    | 662/1276 [1:52:02<3:34:36, 20.97s/it]"
     ]
    },
    {
     "name": "stdout",
     "output_type": "stream",
     "text": [
      "STOP CODE:  Stay unchanged in the last 6 iterations\n",
      "> SA ENDS....... \n",
      "\n",
      "> avg loss: 1.9990771642938783\n",
      "> For the *662_th* data_key\n",
      "> retail = 199.99,bidincrement = 0.15, bidfee = 0.75, infer PT's parameters\n",
      "> Now do SA....... \n",
      "\n"
     ]
    },
    {
     "name": "stderr",
     "output_type": "stream",
     "text": [
      " 52%|█████▏    | 663/1276 [1:52:13<3:02:58, 17.91s/it]"
     ]
    },
    {
     "name": "stdout",
     "output_type": "stream",
     "text": [
      "STOP CODE:  Stay unchanged in the last 6 iterations\n",
      "> SA ENDS....... \n",
      "\n",
      "> avg loss: 3.144897838895932\n",
      "> For the *663_th* data_key\n",
      "> retail = 119.99,bidincrement = 0.15, bidfee = 0.75, infer PT's parameters\n",
      "> Now do SA....... \n",
      "\n"
     ]
    },
    {
     "name": "stderr",
     "output_type": "stream",
     "text": [
      " 52%|█████▏    | 664/1276 [1:52:15<2:14:03, 13.14s/it]"
     ]
    },
    {
     "name": "stdout",
     "output_type": "stream",
     "text": [
      "STOP CODE:  Stay unchanged in the last 6 iterations\n",
      "> SA ENDS....... \n",
      "\n",
      "> avg loss: 4.7923516443502665\n",
      "> For the *664_th* data_key\n",
      "> retail = 299.99,bidincrement = 0.15, bidfee = 0.75, infer PT's parameters\n",
      "> Now do SA....... \n",
      "\n"
     ]
    },
    {
     "name": "stderr",
     "output_type": "stream",
     "text": [
      " 52%|█████▏    | 665/1276 [1:52:21<1:51:42, 10.97s/it]"
     ]
    },
    {
     "name": "stdout",
     "output_type": "stream",
     "text": [
      "STOP CODE:  Stay unchanged in the last 6 iterations\n",
      "> SA ENDS....... \n",
      "\n",
      "> avg loss: 2.447259509956704\n",
      "> For the *665_th* data_key\n",
      "> retail = 79.99,bidincrement = 0.15, bidfee = 0.75, infer PT's parameters\n",
      "> Now do SA....... \n",
      "\n"
     ]
    },
    {
     "name": "stderr",
     "output_type": "stream",
     "text": [
      " 52%|█████▏    | 666/1276 [1:52:25<1:31:04,  8.96s/it]"
     ]
    },
    {
     "name": "stdout",
     "output_type": "stream",
     "text": [
      "STOP CODE:  Stay unchanged in the last 6 iterations\n",
      "> SA ENDS....... \n",
      "\n",
      "> avg loss: 3.349631994847416\n",
      "> For the *666_th* data_key\n",
      "> retail = 29.99,bidincrement = 0.15, bidfee = 0.75, infer PT's parameters\n",
      "> Now do SA....... \n",
      "\n"
     ]
    },
    {
     "name": "stderr",
     "output_type": "stream",
     "text": [
      " 52%|█████▏    | 667/1276 [1:52:29<1:15:24,  7.43s/it]"
     ]
    },
    {
     "name": "stdout",
     "output_type": "stream",
     "text": [
      "STOP CODE:  Stay unchanged in the last 6 iterations\n",
      "> SA ENDS....... \n",
      "\n",
      "> avg loss: 2.279736413467887\n",
      "> For the *667_th* data_key\n",
      "> retail = 29.95,bidincrement = 0.15, bidfee = 0.75, infer PT's parameters\n",
      "> Now do SA....... \n",
      "\n"
     ]
    },
    {
     "name": "stderr",
     "output_type": "stream",
     "text": [
      " 52%|█████▏    | 668/1276 [1:52:33<1:05:55,  6.51s/it]"
     ]
    },
    {
     "name": "stdout",
     "output_type": "stream",
     "text": [
      "STOP CODE:  Stay unchanged in the last 6 iterations\n",
      "> SA ENDS....... \n",
      "\n",
      "> avg loss: 2.7548374744836694\n",
      "> For the *668_th* data_key\n",
      "> retail = 38.99,bidincrement = 0.15, bidfee = 0.75, infer PT's parameters\n",
      "> Now do SA....... \n",
      "\n"
     ]
    },
    {
     "name": "stderr",
     "output_type": "stream",
     "text": [
      " 52%|█████▏    | 669/1276 [1:52:35<50:22,  4.98s/it]  "
     ]
    },
    {
     "name": "stdout",
     "output_type": "stream",
     "text": [
      "STOP CODE:  Stay unchanged in the last 6 iterations\n",
      "> SA ENDS....... \n",
      "\n",
      "> avg loss: 2.8744502550658635\n",
      "> For the *669_th* data_key\n",
      "> retail = 42.99,bidincrement = 0.15, bidfee = 0.75, infer PT's parameters\n",
      "> Now do SA....... \n",
      "\n"
     ]
    },
    {
     "name": "stderr",
     "output_type": "stream",
     "text": [
      " 53%|█████▎    | 670/1276 [1:52:39<47:10,  4.67s/it]"
     ]
    },
    {
     "name": "stdout",
     "output_type": "stream",
     "text": [
      "STOP CODE:  Stay unchanged in the last 6 iterations\n",
      "> SA ENDS....... \n",
      "\n",
      "> avg loss: 2.9889555757599076\n",
      "> For the *670_th* data_key\n",
      "> retail = 19.99,bidincrement = 0.15, bidfee = 0.75, infer PT's parameters\n",
      "> Now do SA....... \n",
      "\n"
     ]
    },
    {
     "name": "stderr",
     "output_type": "stream",
     "text": [
      " 53%|█████▎    | 671/1276 [1:52:40<36:26,  3.61s/it]"
     ]
    },
    {
     "name": "stdout",
     "output_type": "stream",
     "text": [
      "STOP CODE:  Stay unchanged in the last 6 iterations\n",
      "> SA ENDS....... \n",
      "\n",
      "> avg loss: 2.489165570336552\n",
      "> For the *671_th* data_key\n",
      "> retail = 9.99,bidincrement = 0.15, bidfee = 0.75, infer PT's parameters\n",
      "> Now do SA....... \n",
      "\n"
     ]
    },
    {
     "name": "stderr",
     "output_type": "stream",
     "text": [
      " 53%|█████▎    | 672/1276 [1:52:42<32:26,  3.22s/it]"
     ]
    },
    {
     "name": "stdout",
     "output_type": "stream",
     "text": [
      "STOP CODE:  Stay unchanged in the last 6 iterations\n",
      "> SA ENDS....... \n",
      "\n",
      "> avg loss: 1.8679818461820825\n",
      "> For the *672_th* data_key\n",
      "> retail = 19.99,bidincrement = 0.15, bidfee = 0.75, infer PT's parameters\n",
      "> Now do SA....... \n",
      "\n"
     ]
    },
    {
     "name": "stderr",
     "output_type": "stream",
     "text": [
      " 53%|█████▎    | 673/1276 [1:52:44<27:20,  2.72s/it]"
     ]
    },
    {
     "name": "stdout",
     "output_type": "stream",
     "text": [
      "STOP CODE:  Stay unchanged in the last 6 iterations\n",
      "> SA ENDS....... \n",
      "\n",
      "> avg loss: 2.1187332819381735\n",
      "> For the *673_th* data_key\n",
      "> retail = 29.99,bidincrement = 0.15, bidfee = 0.75, infer PT's parameters\n",
      "> Now do SA....... \n",
      "\n"
     ]
    },
    {
     "name": "stderr",
     "output_type": "stream",
     "text": [
      " 53%|█████▎    | 674/1276 [1:52:44<21:19,  2.13s/it]"
     ]
    },
    {
     "name": "stdout",
     "output_type": "stream",
     "text": [
      "STOP CODE:  Stay unchanged in the last 6 iterations\n",
      "> SA ENDS....... \n",
      "\n",
      "> avg loss: 2.8278129050411978\n",
      "> For the *674_th* data_key\n",
      "> retail = 19.99,bidincrement = 0.15, bidfee = 0.75, infer PT's parameters\n",
      "> Now do SA....... \n",
      "\n"
     ]
    },
    {
     "name": "stderr",
     "output_type": "stream",
     "text": [
      " 53%|█████▎    | 675/1276 [1:52:45<16:42,  1.67s/it]"
     ]
    },
    {
     "name": "stdout",
     "output_type": "stream",
     "text": [
      "STOP CODE:  Stay unchanged in the last 6 iterations\n",
      "> SA ENDS....... \n",
      "\n",
      "> avg loss: 2.172031427665396\n",
      "> For the *675_th* data_key\n",
      "> retail = 9.99,bidincrement = 0.15, bidfee = 0.75, infer PT's parameters\n",
      "> Now do SA....... \n",
      "\n"
     ]
    },
    {
     "name": "stderr",
     "output_type": "stream",
     "text": [
      " 53%|█████▎    | 676/1276 [1:52:49<23:27,  2.35s/it]"
     ]
    },
    {
     "name": "stdout",
     "output_type": "stream",
     "text": [
      "STOP CODE:  Stay unchanged in the last 6 iterations\n",
      "> SA ENDS....... \n",
      "\n",
      "> avg loss: 1.5459553353227946\n",
      "> For the *676_th* data_key\n",
      "> retail = 459.68,bidincrement = 0.15, bidfee = 0.75, infer PT's parameters\n",
      "> Now do SA....... \n",
      "\n"
     ]
    },
    {
     "name": "stderr",
     "output_type": "stream",
     "text": [
      " 53%|█████▎    | 677/1276 [1:52:55<34:45,  3.48s/it]"
     ]
    },
    {
     "name": "stdout",
     "output_type": "stream",
     "text": [
      "STOP CODE:  Stay unchanged in the last 6 iterations\n",
      "> SA ENDS....... \n",
      "\n",
      "> avg loss: 2.536128792002824\n",
      "> For the *677_th* data_key\n",
      "> retail = 459.99,bidincrement = 0.15, bidfee = 0.75, infer PT's parameters\n",
      "> Now do SA....... \n",
      "\n"
     ]
    },
    {
     "name": "stderr",
     "output_type": "stream",
     "text": [
      " 53%|█████▎    | 678/1276 [1:53:15<1:25:06,  8.54s/it]"
     ]
    },
    {
     "name": "stdout",
     "output_type": "stream",
     "text": [
      "STOP CODE:  Stay unchanged in the last 6 iterations\n",
      "> SA ENDS....... \n",
      "\n",
      "> avg loss: 2.388996780714869\n",
      "> For the *678_th* data_key\n",
      "> retail = 390.0,bidincrement = 0.15, bidfee = 0.75, infer PT's parameters\n",
      "> Now do SA....... \n",
      "\n"
     ]
    },
    {
     "name": "stderr",
     "output_type": "stream",
     "text": [
      " 53%|█████▎    | 679/1276 [1:53:22<1:19:10,  7.96s/it]"
     ]
    },
    {
     "name": "stdout",
     "output_type": "stream",
     "text": [
      "STOP CODE:  Stay unchanged in the last 6 iterations\n",
      "> SA ENDS....... \n",
      "\n",
      "> avg loss: 4.65260691930728\n",
      "> For the *679_th* data_key\n",
      "> retail = 331.19,bidincrement = 0.15, bidfee = 0.75, infer PT's parameters\n",
      "> Now do SA....... \n",
      "\n"
     ]
    },
    {
     "name": "stderr",
     "output_type": "stream",
     "text": [
      " 53%|█████▎    | 680/1276 [1:53:30<1:18:52,  7.94s/it]"
     ]
    },
    {
     "name": "stdout",
     "output_type": "stream",
     "text": [
      "STOP CODE:  Stay unchanged in the last 6 iterations\n",
      "> SA ENDS....... \n",
      "\n",
      "> avg loss: 5.69546847276917\n",
      "> For the *680_th* data_key\n",
      "> retail = 207.49,bidincrement = 0.15, bidfee = 0.75, infer PT's parameters\n",
      "> Now do SA....... \n",
      "\n"
     ]
    },
    {
     "name": "stderr",
     "output_type": "stream",
     "text": [
      " 53%|█████▎    | 681/1276 [1:53:34<1:07:42,  6.83s/it]"
     ]
    },
    {
     "name": "stdout",
     "output_type": "stream",
     "text": [
      "STOP CODE:  Stay unchanged in the last 6 iterations\n",
      "> SA ENDS....... \n",
      "\n",
      "> avg loss: 2.5220884500642304\n",
      "> For the *681_th* data_key\n",
      "> retail = 207.49,bidincrement = 0.15, bidfee = 0.75, infer PT's parameters\n",
      "> Now do SA....... \n",
      "\n"
     ]
    },
    {
     "name": "stderr",
     "output_type": "stream",
     "text": [
      " 53%|█████▎    | 682/1276 [1:53:38<58:13,  5.88s/it]  "
     ]
    },
    {
     "name": "stdout",
     "output_type": "stream",
     "text": [
      "STOP CODE:  Stay unchanged in the last 6 iterations\n",
      "> SA ENDS....... \n",
      "\n",
      "> avg loss: 2.573529500786215\n",
      "> For the *682_th* data_key\n",
      "> retail = 144.99,bidincrement = 0.15, bidfee = 0.75, infer PT's parameters\n",
      "> Now do SA....... \n",
      "\n"
     ]
    },
    {
     "name": "stderr",
     "output_type": "stream",
     "text": [
      " 54%|█████▎    | 683/1276 [1:53:40<48:17,  4.89s/it]"
     ]
    },
    {
     "name": "stdout",
     "output_type": "stream",
     "text": [
      "STOP CODE:  Stay unchanged in the last 6 iterations\n",
      "> SA ENDS....... \n",
      "\n",
      "> avg loss: 3.392821898469669\n",
      "> For the *683_th* data_key\n",
      "> retail = 1046.06,bidincrement = 0.01, bidfee = 0.75, infer PT's parameters\n",
      "> Now do SA....... \n",
      "\n"
     ]
    },
    {
     "name": "stderr",
     "output_type": "stream",
     "text": [
      " 54%|█████▎    | 684/1276 [1:54:42<3:37:08, 22.01s/it]"
     ]
    },
    {
     "name": "stdout",
     "output_type": "stream",
     "text": [
      "> 超时\n",
      "> SA ENDS....... \n",
      "\n",
      "> avg loss: 15.688483303859536\n",
      "> For the *684_th* data_key\n",
      "> retail = 49.99,bidincrement = 0.15, bidfee = 0.75, infer PT's parameters\n",
      "> Now do SA....... \n",
      "\n"
     ]
    },
    {
     "name": "stderr",
     "output_type": "stream",
     "text": [
      " 54%|█████▎    | 685/1276 [1:54:44<2:38:10, 16.06s/it]"
     ]
    },
    {
     "name": "stdout",
     "output_type": "stream",
     "text": [
      "STOP CODE:  Stay unchanged in the last 6 iterations\n",
      "> SA ENDS....... \n",
      "\n",
      "> avg loss: 2.773608900996848\n",
      "> For the *685_th* data_key\n",
      "> retail = 30.99,bidincrement = 0.15, bidfee = 0.75, infer PT's parameters\n",
      "> Now do SA....... \n",
      "\n"
     ]
    },
    {
     "name": "stderr",
     "output_type": "stream",
     "text": [
      " 54%|█████▍    | 686/1276 [1:54:45<1:52:51, 11.48s/it]"
     ]
    },
    {
     "name": "stdout",
     "output_type": "stream",
     "text": [
      "STOP CODE:  Stay unchanged in the last 6 iterations\n",
      "> SA ENDS....... \n",
      "\n",
      "> avg loss: 2.582050303771478\n",
      "> For the *686_th* data_key\n",
      "> retail = 34.27,bidincrement = 0.15, bidfee = 0.75, infer PT's parameters\n",
      "> Now do SA....... \n",
      "\n"
     ]
    },
    {
     "name": "stderr",
     "output_type": "stream",
     "text": [
      " 54%|█████▍    | 687/1276 [1:54:50<1:33:02,  9.48s/it]"
     ]
    },
    {
     "name": "stdout",
     "output_type": "stream",
     "text": [
      "STOP CODE:  Stay unchanged in the last 6 iterations\n",
      "> SA ENDS....... \n",
      "\n",
      "> avg loss: 2.7764522372086224\n",
      "> For the *687_th* data_key\n",
      "> retail = 19.99,bidincrement = 0.15, bidfee = 0.75, infer PT's parameters\n",
      "> Now do SA....... \n",
      "\n"
     ]
    },
    {
     "name": "stderr",
     "output_type": "stream",
     "text": [
      " 54%|█████▍    | 688/1276 [1:54:51<1:06:35,  6.79s/it]"
     ]
    },
    {
     "name": "stdout",
     "output_type": "stream",
     "text": [
      "STOP CODE:  Stay unchanged in the last 6 iterations\n",
      "> SA ENDS....... \n",
      "\n",
      "> avg loss: 2.1758460849570254\n",
      "> For the *688_th* data_key\n",
      "> retail = 56.0,bidincrement = 0.15, bidfee = 0.75, infer PT's parameters\n",
      "> Now do SA....... \n",
      "\n"
     ]
    },
    {
     "name": "stderr",
     "output_type": "stream",
     "text": [
      " 54%|█████▍    | 689/1276 [1:54:52<49:12,  5.03s/it]  "
     ]
    },
    {
     "name": "stdout",
     "output_type": "stream",
     "text": [
      "STOP CODE:  Stay unchanged in the last 6 iterations\n",
      "> SA ENDS....... \n",
      "\n",
      "> avg loss: 3.138809183881066\n",
      "> For the *689_th* data_key\n",
      "> retail = 29.99,bidincrement = 0.15, bidfee = 0.75, infer PT's parameters\n",
      "> Now do SA....... \n",
      "\n"
     ]
    },
    {
     "name": "stderr",
     "output_type": "stream",
     "text": [
      " 54%|█████▍    | 690/1276 [1:54:54<41:48,  4.28s/it]"
     ]
    },
    {
     "name": "stdout",
     "output_type": "stream",
     "text": [
      "STOP CODE:  Stay unchanged in the last 6 iterations\n",
      "> SA ENDS....... \n",
      "\n",
      "> avg loss: 2.39751468151867\n",
      "> For the *690_th* data_key\n",
      "> retail = 29.99,bidincrement = 0.15, bidfee = 0.75, infer PT's parameters\n",
      "> Now do SA....... \n",
      "\n"
     ]
    },
    {
     "name": "stderr",
     "output_type": "stream",
     "text": [
      " 54%|█████▍    | 691/1276 [1:54:55<32:32,  3.34s/it]"
     ]
    },
    {
     "name": "stdout",
     "output_type": "stream",
     "text": [
      "STOP CODE:  Stay unchanged in the last 6 iterations\n",
      "> SA ENDS....... \n",
      "\n",
      "> avg loss: 2.9764100333300574\n",
      "> For the *691_th* data_key\n",
      "> retail = 199.99,bidincrement = 0.15, bidfee = 0.75, infer PT's parameters\n",
      "> Now do SA....... \n",
      "\n"
     ]
    },
    {
     "name": "stderr",
     "output_type": "stream",
     "text": [
      " 54%|█████▍    | 692/1276 [1:54:59<34:50,  3.58s/it]"
     ]
    },
    {
     "name": "stdout",
     "output_type": "stream",
     "text": [
      "STOP CODE:  Stay unchanged in the last 6 iterations\n",
      "> SA ENDS....... \n",
      "\n",
      "> avg loss: 2.0327672280401448\n",
      "> For the *692_th* data_key\n",
      "> retail = 16.37,bidincrement = 0.15, bidfee = 0.75, infer PT's parameters\n",
      "> Now do SA....... \n",
      "\n"
     ]
    },
    {
     "name": "stderr",
     "output_type": "stream",
     "text": [
      " 54%|█████▍    | 693/1276 [1:55:01<30:07,  3.10s/it]"
     ]
    },
    {
     "name": "stdout",
     "output_type": "stream",
     "text": [
      "STOP CODE:  Stay unchanged in the last 6 iterations\n",
      "> SA ENDS....... \n",
      "\n",
      "> avg loss: 2.46823145213398\n",
      "> For the *693_th* data_key\n",
      "> retail = 19.99,bidincrement = 0.15, bidfee = 0.75, infer PT's parameters\n",
      "> Now do SA....... \n",
      "\n"
     ]
    },
    {
     "name": "stderr",
     "output_type": "stream",
     "text": [
      " 54%|█████▍    | 694/1276 [1:55:02<23:35,  2.43s/it]"
     ]
    },
    {
     "name": "stdout",
     "output_type": "stream",
     "text": [
      "STOP CODE:  Stay unchanged in the last 6 iterations\n",
      "> SA ENDS....... \n",
      "\n",
      "> avg loss: 1.9937983433422029\n",
      "> For the *694_th* data_key\n",
      "> retail = 10.0,bidincrement = 0.15, bidfee = 0.75, infer PT's parameters\n",
      "> Now do SA....... \n",
      "\n"
     ]
    },
    {
     "name": "stderr",
     "output_type": "stream",
     "text": [
      " 54%|█████▍    | 695/1276 [1:55:06<27:02,  2.79s/it]"
     ]
    },
    {
     "name": "stdout",
     "output_type": "stream",
     "text": [
      "STOP CODE:  Stay unchanged in the last 6 iterations\n",
      "> SA ENDS....... \n",
      "\n",
      "> avg loss: 1.748568891784414\n",
      "> For the *695_th* data_key\n",
      "> retail = 10.0,bidincrement = 0.15, bidfee = 0.75, infer PT's parameters\n",
      "> Now do SA....... \n",
      "\n"
     ]
    },
    {
     "name": "stderr",
     "output_type": "stream",
     "text": [
      " 55%|█████▍    | 696/1276 [1:55:07<21:11,  2.19s/it]"
     ]
    },
    {
     "name": "stdout",
     "output_type": "stream",
     "text": [
      "STOP CODE:  Stay unchanged in the last 6 iterations\n",
      "> SA ENDS....... \n",
      "\n",
      "> avg loss: 2.048400677142925\n",
      "> For the *696_th* data_key\n",
      "> retail = 59.95,bidincrement = 0.15, bidfee = 0.75, infer PT's parameters\n",
      "> Now do SA....... \n",
      "\n"
     ]
    },
    {
     "name": "stderr",
     "output_type": "stream",
     "text": [
      " 55%|█████▍    | 697/1276 [1:55:08<17:53,  1.85s/it]"
     ]
    },
    {
     "name": "stdout",
     "output_type": "stream",
     "text": [
      "STOP CODE:  Stay unchanged in the last 6 iterations\n",
      "> SA ENDS....... \n",
      "\n",
      "> avg loss: 3.6890335087247377\n",
      "> For the *697_th* data_key\n",
      "> retail = 49.99,bidincrement = 0.15, bidfee = 0.75, infer PT's parameters\n",
      "> Now do SA....... \n",
      "\n"
     ]
    },
    {
     "name": "stderr",
     "output_type": "stream",
     "text": [
      " 55%|█████▍    | 698/1276 [1:55:09<15:17,  1.59s/it]"
     ]
    },
    {
     "name": "stdout",
     "output_type": "stream",
     "text": [
      "STOP CODE:  Stay unchanged in the last 6 iterations\n",
      "> SA ENDS....... \n",
      "\n",
      "> avg loss: 2.692289276041246\n",
      "> For the *698_th* data_key\n",
      "> retail = 48.99,bidincrement = 0.15, bidfee = 0.75, infer PT's parameters\n",
      "> Now do SA....... \n",
      "\n"
     ]
    },
    {
     "name": "stderr",
     "output_type": "stream",
     "text": [
      " 55%|█████▍    | 699/1276 [1:55:12<21:05,  2.19s/it]"
     ]
    },
    {
     "name": "stdout",
     "output_type": "stream",
     "text": [
      "STOP CODE:  Stay unchanged in the last 6 iterations\n",
      "> SA ENDS....... \n",
      "\n",
      "> avg loss: 2.4793844577556956\n",
      "> For the *699_th* data_key\n",
      "> retail = 699.0,bidincrement = 0.01, bidfee = 0.75, infer PT's parameters\n",
      "> Now do SA....... \n",
      "\n"
     ]
    },
    {
     "name": "stderr",
     "output_type": "stream",
     "text": [
      " 55%|█████▍    | 700/1276 [1:56:13<3:10:00, 19.79s/it]"
     ]
    },
    {
     "name": "stdout",
     "output_type": "stream",
     "text": [
      "> 超时\n",
      "> SA ENDS....... \n",
      "\n",
      "> avg loss: 14.219987531551892\n",
      "> For the *700_th* data_key\n",
      "> retail = 699.0,bidincrement = 0.01, bidfee = 0.75, infer PT's parameters\n",
      "> Now do SA....... \n",
      "\n"
     ]
    },
    {
     "name": "stderr",
     "output_type": "stream",
     "text": [
      " 55%|█████▍    | 701/1276 [1:57:14<5:08:39, 32.21s/it]"
     ]
    },
    {
     "name": "stdout",
     "output_type": "stream",
     "text": [
      "> 超时\n",
      "> SA ENDS....... \n",
      "\n",
      "> avg loss: 13.83950658249176\n",
      "> For the *701_th* data_key\n",
      "> retail = 169.99,bidincrement = 0.12, bidfee = 0.6, infer PT's parameters\n",
      "> Now do SA....... \n",
      "\n"
     ]
    },
    {
     "name": "stderr",
     "output_type": "stream",
     "text": [
      " 55%|█████▌    | 702/1276 [1:57:22<3:58:44, 24.96s/it]"
     ]
    },
    {
     "name": "stdout",
     "output_type": "stream",
     "text": [
      "STOP CODE:  Stay unchanged in the last 6 iterations\n",
      "> SA ENDS....... \n",
      "\n",
      "> avg loss: 6.433594847051706\n",
      "> For the *702_th* data_key\n",
      "> retail = 249.99,bidincrement = 0.12, bidfee = 0.6, infer PT's parameters\n",
      "> Now do SA....... \n",
      "\n"
     ]
    },
    {
     "name": "stderr",
     "output_type": "stream",
     "text": [
      " 55%|█████▌    | 703/1276 [1:57:28<3:04:14, 19.29s/it]"
     ]
    },
    {
     "name": "stdout",
     "output_type": "stream",
     "text": [
      "STOP CODE:  Stay unchanged in the last 6 iterations\n",
      "> SA ENDS....... \n",
      "\n",
      "> avg loss: 6.984526190606033\n",
      "> For the *703_th* data_key\n",
      "> retail = 169.99,bidincrement = 0.12, bidfee = 0.6, infer PT's parameters\n",
      "> Now do SA....... \n",
      "\n"
     ]
    },
    {
     "name": "stderr",
     "output_type": "stream",
     "text": [
      " 55%|█████▌    | 704/1276 [1:57:33<2:21:44, 14.87s/it]"
     ]
    },
    {
     "name": "stdout",
     "output_type": "stream",
     "text": [
      "STOP CODE:  Stay unchanged in the last 6 iterations\n",
      "> SA ENDS....... \n",
      "\n",
      "> avg loss: 6.781249513476106\n",
      "> For the *704_th* data_key\n",
      "> retail = 24.99,bidincrement = 0.12, bidfee = 0.6, infer PT's parameters\n",
      "> Now do SA....... \n",
      "\n"
     ]
    },
    {
     "name": "stderr",
     "output_type": "stream",
     "text": [
      " 55%|█████▌    | 705/1276 [1:57:34<1:41:16, 10.64s/it]"
     ]
    },
    {
     "name": "stdout",
     "output_type": "stream",
     "text": [
      "STOP CODE:  Stay unchanged in the last 6 iterations\n",
      "> SA ENDS....... \n",
      "\n",
      "> avg loss: 4.815694823555131\n",
      "> For the *705_th* data_key\n",
      "> retail = 25.0,bidincrement = 0.01, bidfee = 0.75, infer PT's parameters\n",
      "> Now do SA....... \n",
      "\n"
     ]
    },
    {
     "name": "stderr",
     "output_type": "stream",
     "text": [
      " 55%|█████▌    | 706/1276 [1:57:46<1:44:20, 10.98s/it]"
     ]
    },
    {
     "name": "stdout",
     "output_type": "stream",
     "text": [
      "STOP CODE:  Stay unchanged in the last 6 iterations\n",
      "> SA ENDS....... \n",
      "\n",
      "> avg loss: 4.383653591343246\n",
      "> For the *706_th* data_key\n",
      "> retail = 150.0,bidincrement = 0.01, bidfee = 0.75, infer PT's parameters\n",
      "> Now do SA....... \n",
      "\n"
     ]
    },
    {
     "name": "stderr",
     "output_type": "stream",
     "text": [
      " 55%|█████▌    | 707/1276 [1:58:38<3:42:23, 23.45s/it]"
     ]
    },
    {
     "name": "stdout",
     "output_type": "stream",
     "text": [
      "STOP CODE:  Stay unchanged in the last 6 iterations\n",
      "> SA ENDS....... \n",
      "\n",
      "> avg loss: 6.2682357384957035\n",
      "> For the *707_th* data_key\n",
      "> retail = 10.0,bidincrement = 0.01, bidfee = 0.75, infer PT's parameters\n",
      "> Now do SA....... \n",
      "\n"
     ]
    },
    {
     "name": "stderr",
     "output_type": "stream",
     "text": [
      " 55%|█████▌    | 708/1276 [1:58:40<2:41:46, 17.09s/it]"
     ]
    },
    {
     "name": "stdout",
     "output_type": "stream",
     "text": [
      "STOP CODE:  Stay unchanged in the last 6 iterations\n",
      "> SA ENDS....... \n",
      "\n",
      "> avg loss: 3.5932817452067476\n",
      "> For the *708_th* data_key\n",
      "> retail = 37.5,bidincrement = 0.01, bidfee = 0.6, infer PT's parameters\n",
      "> Now do SA....... \n",
      "\n"
     ]
    },
    {
     "name": "stderr",
     "output_type": "stream",
     "text": [
      " 56%|█████▌    | 709/1276 [1:58:47<2:13:15, 14.10s/it]"
     ]
    },
    {
     "name": "stdout",
     "output_type": "stream",
     "text": [
      "STOP CODE:  Stay unchanged in the last 6 iterations\n",
      "> SA ENDS....... \n",
      "\n",
      "> avg loss: 5.3152463577133515\n",
      "> For the *709_th* data_key\n",
      "> retail = 225.0,bidincrement = 0.01, bidfee = 0.6, infer PT's parameters\n",
      "> Now do SA....... \n",
      "\n"
     ]
    },
    {
     "name": "stderr",
     "output_type": "stream",
     "text": [
      " 56%|█████▌    | 710/1276 [1:59:48<4:23:43, 27.96s/it]"
     ]
    },
    {
     "name": "stdout",
     "output_type": "stream",
     "text": [
      "> 超时\n",
      "> SA ENDS....... \n",
      "\n",
      "> avg loss: 9.883554545123134\n",
      "> For the *710_th* data_key\n",
      "> retail = 180.0,bidincrement = 0.01, bidfee = 0.6, infer PT's parameters\n",
      "> Now do SA....... \n",
      "\n"
     ]
    },
    {
     "name": "stderr",
     "output_type": "stream",
     "text": [
      " 56%|█████▌    | 711/1276 [2:00:40<5:31:10, 35.17s/it]"
     ]
    },
    {
     "name": "stdout",
     "output_type": "stream",
     "text": [
      "STOP CODE:  Stay unchanged in the last 6 iterations\n",
      "> SA ENDS....... \n",
      "\n",
      "> avg loss: 6.740194961298335\n",
      "> For the *711_th* data_key\n",
      "> retail = 12.0,bidincrement = 0.12, bidfee = 0.6, infer PT's parameters\n",
      "> Now do SA....... \n",
      "\n"
     ]
    },
    {
     "name": "stderr",
     "output_type": "stream",
     "text": [
      " 56%|█████▌    | 712/1276 [2:00:42<3:57:39, 25.28s/it]"
     ]
    },
    {
     "name": "stdout",
     "output_type": "stream",
     "text": [
      "STOP CODE:  Stay unchanged in the last 6 iterations\n",
      "> SA ENDS....... \n",
      "\n",
      "> avg loss: 3.777269016453108\n",
      "> For the *712_th* data_key\n",
      "> retail = 12.0,bidincrement = 0.01, bidfee = 0.6, infer PT's parameters\n",
      "> Now do SA....... \n",
      "\n"
     ]
    },
    {
     "name": "stderr",
     "output_type": "stream",
     "text": [
      " 56%|█████▌    | 713/1276 [2:00:48<3:02:53, 19.49s/it]"
     ]
    },
    {
     "name": "stdout",
     "output_type": "stream",
     "text": [
      "STOP CODE:  Stay unchanged in the last 6 iterations\n",
      "> SA ENDS....... \n",
      "\n",
      "> avg loss: 3.9193697299639703\n",
      "> For the *713_th* data_key\n",
      "> retail = 49.99,bidincrement = 0.12, bidfee = 0.6, infer PT's parameters\n",
      "> Now do SA....... \n",
      "\n"
     ]
    },
    {
     "name": "stderr",
     "output_type": "stream",
     "text": [
      " 56%|█████▌    | 714/1276 [2:00:52<2:18:42, 14.81s/it]"
     ]
    },
    {
     "name": "stdout",
     "output_type": "stream",
     "text": [
      "STOP CODE:  Stay unchanged in the last 6 iterations\n",
      "> SA ENDS....... \n",
      "\n",
      "> avg loss: 5.172623125457613\n",
      "> For the *714_th* data_key\n",
      "> retail = 59.99,bidincrement = 0.12, bidfee = 0.6, infer PT's parameters\n",
      "> Now do SA....... \n",
      "\n"
     ]
    },
    {
     "name": "stderr",
     "output_type": "stream",
     "text": [
      " 56%|█████▌    | 715/1276 [2:00:54<1:44:23, 11.17s/it]"
     ]
    },
    {
     "name": "stdout",
     "output_type": "stream",
     "text": [
      "STOP CODE:  Stay unchanged in the last 6 iterations\n",
      "> SA ENDS....... \n",
      "\n",
      "> avg loss: 5.377458866171602\n",
      "> For the *715_th* data_key\n",
      "> retail = 19.99,bidincrement = 0.12, bidfee = 0.6, infer PT's parameters\n",
      "> Now do SA....... \n",
      "\n"
     ]
    },
    {
     "name": "stderr",
     "output_type": "stream",
     "text": [
      " 56%|█████▌    | 716/1276 [2:00:56<1:17:35,  8.31s/it]"
     ]
    },
    {
     "name": "stdout",
     "output_type": "stream",
     "text": [
      "STOP CODE:  Stay unchanged in the last 6 iterations\n",
      "> SA ENDS....... \n",
      "\n",
      "> avg loss: 4.4114775539181466\n",
      "> For the *716_th* data_key\n",
      "> retail = 89.99,bidincrement = 0.12, bidfee = 0.6, infer PT's parameters\n",
      "> Now do SA....... \n",
      "\n"
     ]
    },
    {
     "name": "stderr",
     "output_type": "stream",
     "text": [
      " 56%|█████▌    | 717/1276 [2:00:59<1:01:58,  6.65s/it]"
     ]
    },
    {
     "name": "stdout",
     "output_type": "stream",
     "text": [
      "STOP CODE:  Stay unchanged in the last 6 iterations\n",
      "> SA ENDS....... \n",
      "\n",
      "> avg loss: 5.865501441700982\n",
      "> For the *717_th* data_key\n",
      "> retail = 399.99,bidincrement = 0.12, bidfee = 0.6, infer PT's parameters\n",
      "> Now do SA....... \n",
      "\n"
     ]
    },
    {
     "name": "stderr",
     "output_type": "stream",
     "text": [
      " 56%|█████▋    | 718/1276 [2:01:16<1:29:49,  9.66s/it]"
     ]
    },
    {
     "name": "stdout",
     "output_type": "stream",
     "text": [
      "STOP CODE:  Stay unchanged in the last 6 iterations\n",
      "> SA ENDS....... \n",
      "\n",
      "> avg loss: 7.266094309129423\n",
      "> For the *718_th* data_key\n",
      "> retail = 459.99,bidincrement = 0.12, bidfee = 0.6, infer PT's parameters\n",
      "> Now do SA....... \n",
      "\n"
     ]
    },
    {
     "name": "stderr",
     "output_type": "stream",
     "text": [
      " 56%|█████▋    | 719/1276 [2:01:49<2:36:59, 16.91s/it]"
     ]
    },
    {
     "name": "stdout",
     "output_type": "stream",
     "text": [
      "STOP CODE:  Stay unchanged in the last 6 iterations\n",
      "> SA ENDS....... \n",
      "\n",
      "> avg loss: 7.363451397560302\n",
      "> For the *719_th* data_key\n",
      "> retail = 56.25,bidincrement = 0.01, bidfee = 0.75, infer PT's parameters\n",
      "> Now do SA....... \n",
      "\n"
     ]
    },
    {
     "name": "stderr",
     "output_type": "stream",
     "text": [
      " 56%|█████▋    | 720/1276 [2:02:08<2:42:32, 17.54s/it]"
     ]
    },
    {
     "name": "stdout",
     "output_type": "stream",
     "text": [
      "STOP CODE:  Stay unchanged in the last 6 iterations\n",
      "> SA ENDS....... \n",
      "\n",
      "> avg loss: 5.263125514602284\n",
      "> For the *720_th* data_key\n",
      "> retail = 119.99,bidincrement = 0.12, bidfee = 0.6, infer PT's parameters\n",
      "> Now do SA....... \n",
      "\n"
     ]
    },
    {
     "name": "stderr",
     "output_type": "stream",
     "text": [
      " 57%|█████▋    | 721/1276 [2:02:15<2:12:14, 14.30s/it]"
     ]
    },
    {
     "name": "stdout",
     "output_type": "stream",
     "text": [
      "STOP CODE:  Stay unchanged in the last 6 iterations\n",
      "> SA ENDS....... \n",
      "\n",
      "> avg loss: 6.082967584935046\n",
      "> For the *721_th* data_key\n",
      "> retail = 47.99,bidincrement = 0.12, bidfee = 0.6, infer PT's parameters\n",
      "> Now do SA....... \n",
      "\n"
     ]
    },
    {
     "name": "stderr",
     "output_type": "stream",
     "text": [
      " 57%|█████▋    | 722/1276 [2:02:19<1:43:52, 11.25s/it]"
     ]
    },
    {
     "name": "stdout",
     "output_type": "stream",
     "text": [
      "STOP CODE:  Stay unchanged in the last 6 iterations\n",
      "> SA ENDS....... \n",
      "\n",
      "> avg loss: 5.149691163038605\n",
      "> For the *722_th* data_key\n",
      "> retail = 119.99,bidincrement = 0.12, bidfee = 0.6, infer PT's parameters\n",
      "> Now do SA....... \n",
      "\n"
     ]
    },
    {
     "name": "stderr",
     "output_type": "stream",
     "text": [
      " 57%|█████▋    | 723/1276 [2:02:23<1:22:08,  8.91s/it]"
     ]
    },
    {
     "name": "stdout",
     "output_type": "stream",
     "text": [
      "STOP CODE:  Stay unchanged in the last 6 iterations\n",
      "> SA ENDS....... \n",
      "\n",
      "> avg loss: 6.098355455785587\n",
      "> For the *723_th* data_key\n",
      "> retail = 68.99,bidincrement = 0.12, bidfee = 0.6, infer PT's parameters\n",
      "> Now do SA....... \n",
      "\n"
     ]
    },
    {
     "name": "stderr",
     "output_type": "stream",
     "text": [
      " 57%|█████▋    | 724/1276 [2:02:28<1:11:19,  7.75s/it]"
     ]
    },
    {
     "name": "stdout",
     "output_type": "stream",
     "text": [
      "STOP CODE:  Stay unchanged in the last 6 iterations\n",
      "> SA ENDS....... \n",
      "\n",
      "> avg loss: 5.493190944972422\n",
      "> For the *724_th* data_key\n",
      "> retail = 144.99,bidincrement = 0.12, bidfee = 0.6, infer PT's parameters\n",
      "> Now do SA....... \n",
      "\n"
     ]
    },
    {
     "name": "stderr",
     "output_type": "stream",
     "text": [
      " 57%|█████▋    | 725/1276 [2:02:32<1:00:53,  6.63s/it]"
     ]
    },
    {
     "name": "stdout",
     "output_type": "stream",
     "text": [
      "STOP CODE:  Stay unchanged in the last 6 iterations\n",
      "> SA ENDS....... \n",
      "\n",
      "> avg loss: 6.241433164090592\n",
      "> For the *725_th* data_key\n",
      "> retail = 30.99,bidincrement = 0.12, bidfee = 0.6, infer PT's parameters\n",
      "> Now do SA....... \n",
      "\n"
     ]
    },
    {
     "name": "stderr",
     "output_type": "stream",
     "text": [
      " 57%|█████▋    | 726/1276 [2:02:33<45:51,  5.00s/it]  "
     ]
    },
    {
     "name": "stdout",
     "output_type": "stream",
     "text": [
      "STOP CODE:  Stay unchanged in the last 6 iterations\n",
      "> SA ENDS....... \n",
      "\n",
      "> avg loss: 4.775060533073137\n",
      "> For the *726_th* data_key\n",
      "> retail = 29.99,bidincrement = 0.12, bidfee = 0.6, infer PT's parameters\n",
      "> Now do SA....... \n",
      "\n"
     ]
    },
    {
     "name": "stderr",
     "output_type": "stream",
     "text": [
      " 57%|█████▋    | 727/1276 [2:02:34<35:54,  3.92s/it]"
     ]
    },
    {
     "name": "stdout",
     "output_type": "stream",
     "text": [
      "STOP CODE:  Stay unchanged in the last 6 iterations\n",
      "> SA ENDS....... \n",
      "\n",
      "> avg loss: 4.869805864871861\n",
      "> For the *727_th* data_key\n",
      "> retail = 229.0,bidincrement = 0.12, bidfee = 0.6, infer PT's parameters\n",
      "> Now do SA....... \n",
      "\n"
     ]
    },
    {
     "name": "stderr",
     "output_type": "stream",
     "text": [
      " 57%|█████▋    | 728/1276 [2:02:52<1:12:35,  7.95s/it]"
     ]
    },
    {
     "name": "stdout",
     "output_type": "stream",
     "text": [
      "STOP CODE:  Stay unchanged in the last 6 iterations\n",
      "> SA ENDS....... \n",
      "\n",
      "> avg loss: 6.74000684051201\n",
      "> For the *728_th* data_key\n",
      "> retail = 140.0,bidincrement = 0.12, bidfee = 0.6, infer PT's parameters\n",
      "> Now do SA....... \n",
      "\n"
     ]
    },
    {
     "name": "stderr",
     "output_type": "stream",
     "text": [
      " 57%|█████▋    | 729/1276 [2:02:59<1:11:02,  7.79s/it]"
     ]
    },
    {
     "name": "stdout",
     "output_type": "stream",
     "text": [
      "STOP CODE:  Stay unchanged in the last 6 iterations\n",
      "> SA ENDS....... \n",
      "\n",
      "> avg loss: 6.269739617930159\n",
      "> For the *729_th* data_key\n",
      "> retail = 16.37,bidincrement = 0.12, bidfee = 0.6, infer PT's parameters\n",
      "> Now do SA....... \n",
      "\n"
     ]
    },
    {
     "name": "stderr",
     "output_type": "stream",
     "text": [
      " 57%|█████▋    | 730/1276 [2:03:02<58:23,  6.42s/it]  "
     ]
    },
    {
     "name": "stdout",
     "output_type": "stream",
     "text": [
      "STOP CODE:  Stay unchanged in the last 6 iterations\n",
      "> SA ENDS....... \n",
      "\n",
      "> avg loss: 4.06009025342853\n",
      "> For the *730_th* data_key\n",
      "> retail = 19.99,bidincrement = 0.12, bidfee = 0.6, infer PT's parameters\n",
      "> Now do SA....... \n",
      "\n"
     ]
    },
    {
     "name": "stderr",
     "output_type": "stream",
     "text": [
      " 57%|█████▋    | 731/1276 [2:03:03<43:02,  4.74s/it]"
     ]
    },
    {
     "name": "stdout",
     "output_type": "stream",
     "text": [
      "STOP CODE:  Stay unchanged in the last 6 iterations\n",
      "> SA ENDS....... \n",
      "\n",
      "> avg loss: 4.382664869782582\n",
      "> For the *731_th* data_key\n",
      "> retail = 10.0,bidincrement = 0.12, bidfee = 0.6, infer PT's parameters\n",
      "> Now do SA....... \n",
      "\n"
     ]
    },
    {
     "name": "stderr",
     "output_type": "stream",
     "text": [
      " 57%|█████▋    | 732/1276 [2:03:04<32:31,  3.59s/it]"
     ]
    },
    {
     "name": "stdout",
     "output_type": "stream",
     "text": [
      "STOP CODE:  Stay unchanged in the last 6 iterations\n",
      "> SA ENDS....... \n",
      "\n",
      "> avg loss: 3.5187439688779047\n",
      "> For the *732_th* data_key\n",
      "> retail = 222.0,bidincrement = 0.12, bidfee = 0.6, infer PT's parameters\n",
      "> Now do SA....... \n",
      "\n"
     ]
    },
    {
     "name": "stderr",
     "output_type": "stream",
     "text": [
      " 57%|█████▋    | 733/1276 [2:03:12<45:27,  5.02s/it]"
     ]
    },
    {
     "name": "stdout",
     "output_type": "stream",
     "text": [
      "STOP CODE:  Stay unchanged in the last 6 iterations\n",
      "> SA ENDS....... \n",
      "\n",
      "> avg loss: 6.724096568743744\n",
      "> For the *733_th* data_key\n",
      "> retail = 56.25,bidincrement = 0.01, bidfee = 0.6, infer PT's parameters\n",
      "> Now do SA....... \n",
      "\n"
     ]
    },
    {
     "name": "stderr",
     "output_type": "stream",
     "text": [
      " 58%|█████▊    | 734/1276 [2:03:31<1:23:04,  9.20s/it]"
     ]
    },
    {
     "name": "stdout",
     "output_type": "stream",
     "text": [
      "STOP CODE:  Stay unchanged in the last 6 iterations\n",
      "> SA ENDS....... \n",
      "\n",
      "> avg loss: 5.487339389804002\n",
      "> For the *734_th* data_key\n",
      "> retail = 46.99,bidincrement = 0.12, bidfee = 0.6, infer PT's parameters\n",
      "> Now do SA....... \n",
      "\n"
     ]
    },
    {
     "name": "stderr",
     "output_type": "stream",
     "text": [
      " 58%|█████▊    | 735/1276 [2:03:33<1:02:27,  6.93s/it]"
     ]
    },
    {
     "name": "stdout",
     "output_type": "stream",
     "text": [
      "STOP CODE:  Stay unchanged in the last 6 iterations\n",
      "> SA ENDS....... \n",
      "\n",
      "> avg loss: 5.152216458541539\n",
      "> For the *735_th* data_key\n",
      "> retail = 46.99,bidincrement = 0.12, bidfee = 0.6, infer PT's parameters\n",
      "> Now do SA....... \n",
      "\n"
     ]
    },
    {
     "name": "stderr",
     "output_type": "stream",
     "text": [
      " 58%|█████▊    | 736/1276 [2:03:36<52:12,  5.80s/it]  "
     ]
    },
    {
     "name": "stdout",
     "output_type": "stream",
     "text": [
      "STOP CODE:  Stay unchanged in the last 6 iterations\n",
      "> SA ENDS....... \n",
      "\n",
      "> avg loss: 5.327228946099017\n",
      "> For the *736_th* data_key\n",
      "> retail = 64.12,bidincrement = 0.12, bidfee = 0.6, infer PT's parameters\n",
      "> Now do SA....... \n",
      "\n"
     ]
    },
    {
     "name": "stderr",
     "output_type": "stream",
     "text": [
      " 58%|█████▊    | 737/1276 [2:03:45<1:00:46,  6.77s/it]"
     ]
    },
    {
     "name": "stdout",
     "output_type": "stream",
     "text": [
      "STOP CODE:  Stay unchanged in the last 6 iterations\n",
      "> SA ENDS....... \n",
      "\n",
      "> avg loss: 5.4593017130459645\n",
      "> For the *737_th* data_key\n",
      "> retail = 36.99,bidincrement = 0.12, bidfee = 0.6, infer PT's parameters\n",
      "> Now do SA....... \n",
      "\n"
     ]
    },
    {
     "name": "stderr",
     "output_type": "stream",
     "text": [
      " 58%|█████▊    | 738/1276 [2:03:47<46:46,  5.22s/it]  "
     ]
    },
    {
     "name": "stdout",
     "output_type": "stream",
     "text": [
      "STOP CODE:  Stay unchanged in the last 6 iterations\n",
      "> SA ENDS....... \n",
      "\n",
      "> avg loss: 4.862594465776543\n",
      "> For the *738_th* data_key\n",
      "> retail = 27.99,bidincrement = 0.12, bidfee = 0.6, infer PT's parameters\n",
      "> Now do SA....... \n",
      "\n"
     ]
    },
    {
     "name": "stderr",
     "output_type": "stream",
     "text": [
      " 58%|█████▊    | 739/1276 [2:03:48<36:44,  4.11s/it]"
     ]
    },
    {
     "name": "stdout",
     "output_type": "stream",
     "text": [
      "STOP CODE:  Stay unchanged in the last 6 iterations\n",
      "> SA ENDS....... \n",
      "\n",
      "> avg loss: 4.603931876658183\n",
      "> For the *739_th* data_key\n",
      "> retail = 53.99,bidincrement = 0.12, bidfee = 0.6, infer PT's parameters\n",
      "> Now do SA....... \n",
      "\n"
     ]
    },
    {
     "name": "stderr",
     "output_type": "stream",
     "text": [
      " 58%|█████▊    | 740/1276 [2:03:51<32:49,  3.67s/it]"
     ]
    },
    {
     "name": "stdout",
     "output_type": "stream",
     "text": [
      "STOP CODE:  Stay unchanged in the last 6 iterations\n",
      "> SA ENDS....... \n",
      "\n",
      "> avg loss: 5.498844338631484\n",
      "> For the *740_th* data_key\n",
      "> retail = 19.99,bidincrement = 0.12, bidfee = 0.6, infer PT's parameters\n",
      "> Now do SA....... \n",
      "\n"
     ]
    },
    {
     "name": "stderr",
     "output_type": "stream",
     "text": [
      " 58%|█████▊    | 741/1276 [2:03:53<27:07,  3.04s/it]"
     ]
    },
    {
     "name": "stdout",
     "output_type": "stream",
     "text": [
      "STOP CODE:  Stay unchanged in the last 6 iterations\n",
      "> SA ENDS....... \n",
      "\n",
      "> avg loss: 4.424412334385042\n",
      "> For the *741_th* data_key\n",
      "> retail = 46.99,bidincrement = 0.12, bidfee = 0.6, infer PT's parameters\n",
      "> Now do SA....... \n",
      "\n"
     ]
    },
    {
     "name": "stderr",
     "output_type": "stream",
     "text": [
      " 58%|█████▊    | 742/1276 [2:03:55<25:19,  2.85s/it]"
     ]
    },
    {
     "name": "stdout",
     "output_type": "stream",
     "text": [
      "STOP CODE:  Stay unchanged in the last 6 iterations\n",
      "> SA ENDS....... \n",
      "\n",
      "> avg loss: 5.116516168175114\n",
      "> For the *742_th* data_key\n",
      "> retail = 89.79,bidincrement = 0.12, bidfee = 0.6, infer PT's parameters\n",
      "> Now do SA....... \n",
      "\n"
     ]
    },
    {
     "name": "stderr",
     "output_type": "stream",
     "text": [
      " 58%|█████▊    | 743/1276 [2:04:00<30:43,  3.46s/it]"
     ]
    },
    {
     "name": "stdout",
     "output_type": "stream",
     "text": [
      "STOP CODE:  Stay unchanged in the last 6 iterations\n",
      "> SA ENDS....... \n",
      "\n",
      "> avg loss: 5.787596031494226\n",
      "> For the *743_th* data_key\n",
      "> retail = 40.99,bidincrement = 0.12, bidfee = 0.6, infer PT's parameters\n",
      "> Now do SA....... \n",
      "\n"
     ]
    },
    {
     "name": "stderr",
     "output_type": "stream",
     "text": [
      " 58%|█████▊    | 744/1276 [2:04:02<26:33,  3.00s/it]"
     ]
    },
    {
     "name": "stdout",
     "output_type": "stream",
     "text": [
      "STOP CODE:  Stay unchanged in the last 6 iterations\n",
      "> SA ENDS....... \n",
      "\n",
      "> avg loss: 5.103632669679635\n",
      "> For the *744_th* data_key\n",
      "> retail = 52.99,bidincrement = 0.24, bidfee = 0.6, infer PT's parameters\n",
      "> Now do SA....... \n",
      "\n"
     ]
    },
    {
     "name": "stderr",
     "output_type": "stream",
     "text": [
      " 58%|█████▊    | 745/1276 [2:04:05<25:56,  2.93s/it]"
     ]
    },
    {
     "name": "stdout",
     "output_type": "stream",
     "text": [
      "STOP CODE:  Stay unchanged in the last 6 iterations\n",
      "> SA ENDS....... \n",
      "\n",
      "> avg loss: 2.2276884703476956\n",
      "> For the *745_th* data_key\n",
      "> retail = 56.99,bidincrement = 0.24, bidfee = 0.6, infer PT's parameters\n",
      "> Now do SA....... \n",
      "\n"
     ]
    },
    {
     "name": "stderr",
     "output_type": "stream",
     "text": [
      " 58%|█████▊    | 746/1276 [2:04:07<24:06,  2.73s/it]"
     ]
    },
    {
     "name": "stdout",
     "output_type": "stream",
     "text": [
      "STOP CODE:  Stay unchanged in the last 6 iterations\n",
      "> SA ENDS....... \n",
      "\n",
      "> avg loss: 2.3478790734849815\n",
      "> For the *746_th* data_key\n",
      "> retail = 14.99,bidincrement = 0.24, bidfee = 0.6, infer PT's parameters\n",
      "> Now do SA....... \n",
      "\n"
     ]
    },
    {
     "name": "stderr",
     "output_type": "stream",
     "text": [
      " 59%|█████▊    | 747/1276 [2:04:12<29:27,  3.34s/it]"
     ]
    },
    {
     "name": "stdout",
     "output_type": "stream",
     "text": [
      "STOP CODE:  Stay unchanged in the last 6 iterations\n",
      "> SA ENDS....... \n",
      "\n",
      "> avg loss: 1.9444473658441912\n",
      "> For the *747_th* data_key\n",
      "> retail = 15.99,bidincrement = 0.12, bidfee = 0.6, infer PT's parameters\n",
      "> Now do SA....... \n",
      "\n"
     ]
    },
    {
     "name": "stderr",
     "output_type": "stream",
     "text": [
      " 59%|█████▊    | 748/1276 [2:04:13<25:05,  2.85s/it]"
     ]
    },
    {
     "name": "stdout",
     "output_type": "stream",
     "text": [
      "STOP CODE:  Stay unchanged in the last 6 iterations\n",
      "> SA ENDS....... \n",
      "\n",
      "> avg loss: 4.1104174611226\n",
      "> For the *748_th* data_key\n",
      "> retail = 35.64,bidincrement = 0.12, bidfee = 0.6, infer PT's parameters\n",
      "> Now do SA....... \n",
      "\n"
     ]
    },
    {
     "name": "stderr",
     "output_type": "stream",
     "text": [
      " 59%|█████▊    | 749/1276 [2:04:18<30:35,  3.48s/it]"
     ]
    },
    {
     "name": "stdout",
     "output_type": "stream",
     "text": [
      "STOP CODE:  Stay unchanged in the last 6 iterations\n",
      "> SA ENDS....... \n",
      "\n",
      "> avg loss: 4.932575475806473\n",
      "> For the *749_th* data_key\n",
      "> retail = 819.99,bidincrement = 0.02, bidfee = 0.6, infer PT's parameters\n",
      "> Now do SA....... \n",
      "\n"
     ]
    },
    {
     "name": "stderr",
     "output_type": "stream",
     "text": [
      " 59%|█████▉    | 750/1276 [2:05:19<3:01:10, 20.67s/it]"
     ]
    },
    {
     "name": "stdout",
     "output_type": "stream",
     "text": [
      "> 超时\n",
      "> SA ENDS....... \n",
      "\n",
      "> avg loss: 15.154520976803717\n",
      "> For the *750_th* data_key\n",
      "> retail = 37.3,bidincrement = 0.12, bidfee = 0.6, infer PT's parameters\n",
      "> Now do SA....... \n",
      "\n"
     ]
    },
    {
     "name": "stderr",
     "output_type": "stream",
     "text": [
      " 59%|█████▉    | 751/1276 [2:05:24<2:19:59, 16.00s/it]"
     ]
    },
    {
     "name": "stdout",
     "output_type": "stream",
     "text": [
      "STOP CODE:  Stay unchanged in the last 6 iterations\n",
      "> SA ENDS....... \n",
      "\n",
      "> avg loss: 4.889794945879379\n",
      "> For the *751_th* data_key\n",
      "> retail = 10.15,bidincrement = 0.12, bidfee = 0.6, infer PT's parameters\n",
      "> Now do SA....... \n",
      "\n"
     ]
    },
    {
     "name": "stderr",
     "output_type": "stream",
     "text": [
      " 59%|█████▉    | 752/1276 [2:05:26<1:42:43, 11.76s/it]"
     ]
    },
    {
     "name": "stdout",
     "output_type": "stream",
     "text": [
      "STOP CODE:  Stay unchanged in the last 6 iterations\n",
      "> SA ENDS....... \n",
      "\n",
      "> avg loss: 3.529136393072921\n",
      "> For the *752_th* data_key\n",
      "> retail = 35.44,bidincrement = 0.12, bidfee = 0.6, infer PT's parameters\n",
      "> Now do SA....... \n",
      "\n"
     ]
    },
    {
     "name": "stderr",
     "output_type": "stream",
     "text": [
      " 59%|█████▉    | 753/1276 [2:05:28<1:18:06,  8.96s/it]"
     ]
    },
    {
     "name": "stdout",
     "output_type": "stream",
     "text": [
      "STOP CODE:  Stay unchanged in the last 6 iterations\n",
      "> SA ENDS....... \n",
      "\n",
      "> avg loss: 4.856914319907029\n",
      "> For the *753_th* data_key\n",
      "> retail = 269.99,bidincrement = 0.12, bidfee = 0.6, infer PT's parameters\n",
      "> Now do SA....... \n",
      "\n"
     ]
    },
    {
     "name": "stderr",
     "output_type": "stream",
     "text": [
      " 59%|█████▉    | 754/1276 [2:05:39<1:22:48,  9.52s/it]"
     ]
    },
    {
     "name": "stdout",
     "output_type": "stream",
     "text": [
      "STOP CODE:  Stay unchanged in the last 6 iterations\n",
      "> SA ENDS....... \n",
      "\n",
      "> avg loss: 6.99063715326282\n",
      "> For the *754_th* data_key\n",
      "> retail = 2087.97,bidincrement = 0.02, bidfee = 0.6, infer PT's parameters\n",
      "> Now do SA....... \n",
      "\n"
     ]
    },
    {
     "name": "stderr",
     "output_type": "stream",
     "text": [
      " 59%|█████▉    | 755/1276 [2:06:42<3:40:46, 25.43s/it]"
     ]
    },
    {
     "name": "stdout",
     "output_type": "stream",
     "text": [
      "> 超时\n",
      "> SA ENDS....... \n",
      "\n",
      "> avg loss: 20.112305715902142\n",
      "> For the *755_th* data_key\n",
      "> retail = 1614.93,bidincrement = 0.02, bidfee = 0.6, infer PT's parameters\n",
      "> Now do SA....... \n",
      "\n"
     ]
    },
    {
     "name": "stderr",
     "output_type": "stream",
     "text": [
      " 59%|█████▉    | 756/1276 [2:07:44<5:15:14, 36.37s/it]"
     ]
    },
    {
     "name": "stdout",
     "output_type": "stream",
     "text": [
      "> 超时\n",
      "> SA ENDS....... \n",
      "\n",
      "> avg loss: 18.04466877755442\n",
      "> For the *756_th* data_key\n",
      "> retail = 1599.99,bidincrement = 0.02, bidfee = 0.6, infer PT's parameters\n",
      "> Now do SA....... \n",
      "\n"
     ]
    },
    {
     "name": "stderr",
     "output_type": "stream",
     "text": [
      " 59%|█████▉    | 757/1276 [2:08:45<6:19:56, 43.92s/it]"
     ]
    },
    {
     "name": "stdout",
     "output_type": "stream",
     "text": [
      "> 超时\n",
      "> SA ENDS....... \n",
      "\n",
      "> avg loss: 18.44784239638\n",
      "> For the *757_th* data_key\n",
      "> retail = 234.29,bidincrement = 0.06, bidfee = 0.6, infer PT's parameters\n",
      "> Now do SA....... \n",
      "\n"
     ]
    },
    {
     "name": "stderr",
     "output_type": "stream",
     "text": [
      " 59%|█████▉    | 758/1276 [2:09:24<6:06:10, 42.41s/it]"
     ]
    },
    {
     "name": "stdout",
     "output_type": "stream",
     "text": [
      "STOP CODE:  Stay unchanged in the last 6 iterations\n",
      "> SA ENDS....... \n",
      "\n",
      "> avg loss: 6.902470249088318\n",
      "> For the *758_th* data_key\n",
      "> retail = 1766.19,bidincrement = 0.02, bidfee = 0.6, infer PT's parameters\n",
      "> Now do SA....... \n",
      "\n"
     ]
    },
    {
     "name": "stderr",
     "output_type": "stream",
     "text": [
      " 59%|█████▉    | 759/1276 [2:10:25<6:53:44, 48.02s/it]"
     ]
    },
    {
     "name": "stdout",
     "output_type": "stream",
     "text": [
      "> 超时\n",
      "> SA ENDS....... \n",
      "\n",
      "> avg loss: 18.831292163174286\n",
      "> For the *759_th* data_key\n",
      "> retail = 1146.98,bidincrement = 0.02, bidfee = 0.6, infer PT's parameters\n",
      "> Now do SA....... \n",
      "\n"
     ]
    },
    {
     "name": "stderr",
     "output_type": "stream",
     "text": [
      " 60%|█████▉    | 760/1276 [2:11:26<7:26:57, 51.97s/it]"
     ]
    },
    {
     "name": "stdout",
     "output_type": "stream",
     "text": [
      "> 超时\n",
      "> SA ENDS....... \n",
      "\n",
      "> avg loss: 16.72371739228423\n",
      "> For the *760_th* data_key\n",
      "> retail = 993.43,bidincrement = 0.02, bidfee = 0.6, infer PT's parameters\n",
      "> Now do SA....... \n",
      "\n"
     ]
    },
    {
     "name": "stderr",
     "output_type": "stream",
     "text": [
      " 60%|█████▉    | 761/1276 [2:12:27<7:49:02, 54.65s/it]"
     ]
    },
    {
     "name": "stdout",
     "output_type": "stream",
     "text": [
      "> 超时\n",
      "> SA ENDS....... \n",
      "\n",
      "> avg loss: 15.845176572967322\n",
      "> For the *761_th* data_key\n",
      "> retail = 214.99,bidincrement = 0.12, bidfee = 0.6, infer PT's parameters\n",
      "> Now do SA....... \n",
      "\n"
     ]
    },
    {
     "name": "stderr",
     "output_type": "stream",
     "text": [
      " 60%|█████▉    | 762/1276 [2:12:36<5:50:29, 40.91s/it]"
     ]
    },
    {
     "name": "stdout",
     "output_type": "stream",
     "text": [
      "STOP CODE:  Stay unchanged in the last 6 iterations\n",
      "> SA ENDS....... \n",
      "\n",
      "> avg loss: 6.686638011488548\n",
      "> For the *762_th* data_key\n",
      "> retail = 76.99,bidincrement = 0.12, bidfee = 0.6, infer PT's parameters\n",
      "> Now do SA....... \n",
      "\n"
     ]
    },
    {
     "name": "stderr",
     "output_type": "stream",
     "text": [
      " 60%|█████▉    | 763/1276 [2:12:37<4:07:48, 28.98s/it]"
     ]
    },
    {
     "name": "stdout",
     "output_type": "stream",
     "text": [
      "STOP CODE:  Stay unchanged in the last 6 iterations\n",
      "> SA ENDS....... \n",
      "\n",
      "> avg loss: 5.909103719387001\n",
      "> For the *763_th* data_key\n",
      "> retail = 328.0,bidincrement = 0.12, bidfee = 0.6, infer PT's parameters\n",
      "> Now do SA....... \n",
      "\n"
     ]
    },
    {
     "name": "stderr",
     "output_type": "stream",
     "text": [
      " 60%|█████▉    | 764/1276 [2:12:52<3:31:48, 24.82s/it]"
     ]
    },
    {
     "name": "stdout",
     "output_type": "stream",
     "text": [
      "STOP CODE:  Stay unchanged in the last 6 iterations\n",
      "> SA ENDS....... \n",
      "\n",
      "> avg loss: 7.058500350803871\n",
      "> For the *764_th* data_key\n",
      "> retail = 42.99,bidincrement = 0.12, bidfee = 0.6, infer PT's parameters\n",
      "> Now do SA....... \n",
      "\n"
     ]
    },
    {
     "name": "stderr",
     "output_type": "stream",
     "text": [
      " 60%|█████▉    | 765/1276 [2:12:54<2:31:03, 17.74s/it]"
     ]
    },
    {
     "name": "stdout",
     "output_type": "stream",
     "text": [
      "STOP CODE:  Stay unchanged in the last 6 iterations\n",
      "> SA ENDS....... \n",
      "\n",
      "> avg loss: 5.101418336541135\n",
      "> For the *765_th* data_key\n",
      "> retail = 1139.0,bidincrement = 0.02, bidfee = 0.6, infer PT's parameters\n",
      "> Now do SA....... \n",
      "\n"
     ]
    },
    {
     "name": "stderr",
     "output_type": "stream",
     "text": [
      " 60%|██████    | 766/1276 [2:13:55<4:20:48, 30.68s/it]"
     ]
    },
    {
     "name": "stdout",
     "output_type": "stream",
     "text": [
      "> 超时\n",
      "> SA ENDS....... \n",
      "\n",
      "> avg loss: 16.3015298599397\n",
      "> For the *766_th* data_key\n",
      "> retail = 369.0,bidincrement = 0.12, bidfee = 0.6, infer PT's parameters\n",
      "> Now do SA....... \n",
      "\n"
     ]
    },
    {
     "name": "stderr",
     "output_type": "stream",
     "text": [
      " 60%|██████    | 767/1276 [2:14:07<3:33:26, 25.16s/it]"
     ]
    },
    {
     "name": "stdout",
     "output_type": "stream",
     "text": [
      "STOP CODE:  Stay unchanged in the last 6 iterations\n",
      "> SA ENDS....... \n",
      "\n",
      "> avg loss: 7.561098522345771\n",
      "> For the *767_th* data_key\n",
      "> retail = 52.95,bidincrement = 0.12, bidfee = 0.6, infer PT's parameters\n",
      "> Now do SA....... \n",
      "\n"
     ]
    },
    {
     "name": "stderr",
     "output_type": "stream",
     "text": [
      " 60%|██████    | 768/1276 [2:14:09<2:35:41, 18.39s/it]"
     ]
    },
    {
     "name": "stdout",
     "output_type": "stream",
     "text": [
      "STOP CODE:  Stay unchanged in the last 6 iterations\n",
      "> SA ENDS....... \n",
      "\n",
      "> avg loss: 5.521698921855963\n",
      "> For the *768_th* data_key\n",
      "> retail = 44.96,bidincrement = 0.12, bidfee = 0.6, infer PT's parameters\n",
      "> Now do SA....... \n",
      "\n"
     ]
    },
    {
     "name": "stderr",
     "output_type": "stream",
     "text": [
      " 60%|██████    | 769/1276 [2:14:10<1:51:13, 13.16s/it]"
     ]
    },
    {
     "name": "stdout",
     "output_type": "stream",
     "text": [
      "STOP CODE:  Stay unchanged in the last 6 iterations\n",
      "> SA ENDS....... \n",
      "\n",
      "> avg loss: 5.382761631206253\n",
      "> For the *769_th* data_key\n",
      "> retail = 749.0,bidincrement = 0.02, bidfee = 0.6, infer PT's parameters\n",
      "> Now do SA....... \n",
      "\n"
     ]
    },
    {
     "name": "stderr",
     "output_type": "stream",
     "text": [
      " 60%|██████    | 770/1276 [2:15:11<3:51:47, 27.48s/it]"
     ]
    },
    {
     "name": "stdout",
     "output_type": "stream",
     "text": [
      "> 超时\n",
      "> SA ENDS....... \n",
      "\n",
      "> avg loss: 14.228062848762232\n",
      "> For the *770_th* data_key\n",
      "> retail = 1050.0,bidincrement = 0.02, bidfee = 0.6, infer PT's parameters\n",
      "> Now do SA....... \n",
      "\n"
     ]
    },
    {
     "name": "stderr",
     "output_type": "stream",
     "text": [
      " 60%|██████    | 771/1276 [2:16:12<5:15:04, 37.43s/it]"
     ]
    },
    {
     "name": "stdout",
     "output_type": "stream",
     "text": [
      "> 超时\n",
      "> SA ENDS....... \n",
      "\n",
      "> avg loss: 16.134834488097564\n",
      "> For the *771_th* data_key\n",
      "> retail = 19.74,bidincrement = 0.12, bidfee = 0.6, infer PT's parameters\n",
      "> Now do SA....... \n",
      "\n"
     ]
    },
    {
     "name": "stderr",
     "output_type": "stream",
     "text": [
      " 61%|██████    | 772/1276 [2:16:15<3:46:41, 26.99s/it]"
     ]
    },
    {
     "name": "stdout",
     "output_type": "stream",
     "text": [
      "STOP CODE:  Stay unchanged in the last 6 iterations\n",
      "> SA ENDS....... \n",
      "\n",
      "> avg loss: 4.291748032903334\n",
      "> For the *772_th* data_key\n",
      "> retail = 79.0,bidincrement = 0.12, bidfee = 0.6, infer PT's parameters\n",
      "> Now do SA....... \n",
      "\n"
     ]
    },
    {
     "name": "stderr",
     "output_type": "stream",
     "text": [
      " 61%|██████    | 773/1276 [2:16:16<2:41:09, 19.22s/it]"
     ]
    },
    {
     "name": "stdout",
     "output_type": "stream",
     "text": [
      "STOP CODE:  Stay unchanged in the last 6 iterations\n",
      "> SA ENDS....... \n",
      "\n",
      "> avg loss: 5.835256577787961\n",
      "> For the *773_th* data_key\n",
      "> retail = 79.0,bidincrement = 0.12, bidfee = 0.6, infer PT's parameters\n",
      "> Now do SA....... \n",
      "\n"
     ]
    },
    {
     "name": "stderr",
     "output_type": "stream",
     "text": [
      " 61%|██████    | 774/1276 [2:16:18<1:58:17, 14.14s/it]"
     ]
    },
    {
     "name": "stdout",
     "output_type": "stream",
     "text": [
      "STOP CODE:  Stay unchanged in the last 6 iterations\n",
      "> SA ENDS....... \n",
      "\n",
      "> avg loss: 5.809440134467444\n",
      "> For the *774_th* data_key\n",
      "> retail = 169.99,bidincrement = 0.12, bidfee = 0.6, infer PT's parameters\n",
      "> Now do SA....... \n",
      "\n"
     ]
    },
    {
     "name": "stderr",
     "output_type": "stream",
     "text": [
      " 61%|██████    | 775/1276 [2:16:24<1:37:44, 11.71s/it]"
     ]
    },
    {
     "name": "stdout",
     "output_type": "stream",
     "text": [
      "STOP CODE:  Stay unchanged in the last 6 iterations\n",
      "> SA ENDS....... \n",
      "\n",
      "> avg loss: 6.469407091766688\n",
      "> For the *775_th* data_key\n",
      "> retail = 99.97,bidincrement = 0.24, bidfee = 0.6, infer PT's parameters\n",
      "> Now do SA....... \n",
      "\n"
     ]
    },
    {
     "name": "stderr",
     "output_type": "stream",
     "text": [
      " 61%|██████    | 776/1276 [2:16:27<1:15:32,  9.06s/it]"
     ]
    },
    {
     "name": "stdout",
     "output_type": "stream",
     "text": [
      "STOP CODE:  Stay unchanged in the last 6 iterations\n",
      "> SA ENDS....... \n",
      "\n",
      "> avg loss: 2.719645213667147\n",
      "> For the *776_th* data_key\n",
      "> retail = 80.79,bidincrement = 0.24, bidfee = 0.6, infer PT's parameters\n",
      "> Now do SA....... \n",
      "\n"
     ]
    },
    {
     "name": "stderr",
     "output_type": "stream",
     "text": [
      " 61%|██████    | 777/1276 [2:16:29<58:43,  7.06s/it]  "
     ]
    },
    {
     "name": "stdout",
     "output_type": "stream",
     "text": [
      "STOP CODE:  Stay unchanged in the last 6 iterations\n",
      "> SA ENDS....... \n",
      "\n",
      "> avg loss: 2.8899150763850074\n",
      "> For the *777_th* data_key\n",
      "> retail = 149.99,bidincrement = 0.24, bidfee = 0.6, infer PT's parameters\n",
      "> Now do SA....... \n",
      "\n"
     ]
    },
    {
     "name": "stderr",
     "output_type": "stream",
     "text": [
      " 61%|██████    | 778/1276 [2:16:33<50:35,  6.10s/it]"
     ]
    },
    {
     "name": "stdout",
     "output_type": "stream",
     "text": [
      "STOP CODE:  Stay unchanged in the last 6 iterations\n",
      "> SA ENDS....... \n",
      "\n",
      "> avg loss: 2.933833157371964\n",
      "> For the *778_th* data_key\n",
      "> retail = 119.99,bidincrement = 0.24, bidfee = 0.6, infer PT's parameters\n",
      "> Now do SA....... \n",
      "\n"
     ]
    },
    {
     "name": "stderr",
     "output_type": "stream",
     "text": [
      " 61%|██████    | 779/1276 [2:16:36<42:59,  5.19s/it]"
     ]
    },
    {
     "name": "stdout",
     "output_type": "stream",
     "text": [
      "STOP CODE:  Stay unchanged in the last 6 iterations\n",
      "> SA ENDS....... \n",
      "\n",
      "> avg loss: 2.8376401483672327\n",
      "> For the *779_th* data_key\n",
      "> retail = 70.99,bidincrement = 0.24, bidfee = 0.6, infer PT's parameters\n",
      "> Now do SA....... \n",
      "\n"
     ]
    },
    {
     "name": "stderr",
     "output_type": "stream",
     "text": [
      " 61%|██████    | 780/1276 [2:16:37<32:59,  3.99s/it]"
     ]
    },
    {
     "name": "stdout",
     "output_type": "stream",
     "text": [
      "STOP CODE:  Stay unchanged in the last 6 iterations\n",
      "> SA ENDS....... \n",
      "\n",
      "> avg loss: 2.5223515043356683\n",
      "> For the *780_th* data_key\n",
      "> retail = 64.99,bidincrement = 0.24, bidfee = 0.6, infer PT's parameters\n",
      "> Now do SA....... \n",
      "\n"
     ]
    },
    {
     "name": "stderr",
     "output_type": "stream",
     "text": [
      " 61%|██████    | 781/1276 [2:16:41<32:35,  3.95s/it]"
     ]
    },
    {
     "name": "stdout",
     "output_type": "stream",
     "text": [
      "STOP CODE:  Stay unchanged in the last 6 iterations\n",
      "> SA ENDS....... \n",
      "\n",
      "> avg loss: 2.3711153473196536\n",
      "> For the *781_th* data_key\n",
      "> retail = 62.38,bidincrement = 0.24, bidfee = 0.6, infer PT's parameters\n",
      "> Now do SA....... \n",
      "\n"
     ]
    },
    {
     "name": "stderr",
     "output_type": "stream",
     "text": [
      " 61%|██████▏   | 782/1276 [2:16:44<29:20,  3.56s/it]"
     ]
    },
    {
     "name": "stdout",
     "output_type": "stream",
     "text": [
      "STOP CODE:  Stay unchanged in the last 6 iterations\n",
      "> SA ENDS....... \n",
      "\n",
      "> avg loss: 2.773667067523067\n",
      "> For the *782_th* data_key\n",
      "> retail = 46.99,bidincrement = 0.24, bidfee = 0.6, infer PT's parameters\n",
      "> Now do SA....... \n",
      "\n"
     ]
    },
    {
     "name": "stderr",
     "output_type": "stream",
     "text": [
      " 61%|██████▏   | 783/1276 [2:16:45<24:00,  2.92s/it]"
     ]
    },
    {
     "name": "stdout",
     "output_type": "stream",
     "text": [
      "STOP CODE:  Stay unchanged in the last 6 iterations\n",
      "> SA ENDS....... \n",
      "\n",
      "> avg loss: 2.5702889247894136\n",
      "> For the *783_th* data_key\n",
      "> retail = 61.49,bidincrement = 0.24, bidfee = 0.6, infer PT's parameters\n",
      "> Now do SA....... \n",
      "\n"
     ]
    },
    {
     "name": "stderr",
     "output_type": "stream",
     "text": [
      " 61%|██████▏   | 784/1276 [2:16:47<20:57,  2.56s/it]"
     ]
    },
    {
     "name": "stdout",
     "output_type": "stream",
     "text": [
      "STOP CODE:  Stay unchanged in the last 6 iterations\n",
      "> SA ENDS....... \n",
      "\n",
      "> avg loss: 2.175987020559774\n",
      "> For the *784_th* data_key\n",
      "> retail = 75.98,bidincrement = 0.24, bidfee = 0.6, infer PT's parameters\n",
      "> Now do SA....... \n",
      "\n"
     ]
    },
    {
     "name": "stderr",
     "output_type": "stream",
     "text": [
      " 62%|██████▏   | 785/1276 [2:16:48<17:06,  2.09s/it]"
     ]
    },
    {
     "name": "stdout",
     "output_type": "stream",
     "text": [
      "STOP CODE:  Stay unchanged in the last 6 iterations\n",
      "> SA ENDS....... \n",
      "\n",
      "> avg loss: 2.7423042978245658\n",
      "> For the *785_th* data_key\n",
      "> retail = 98.0,bidincrement = 0.12, bidfee = 0.6, infer PT's parameters\n",
      "> Now do SA....... \n",
      "\n"
     ]
    },
    {
     "name": "stderr",
     "output_type": "stream",
     "text": [
      " 62%|██████▏   | 786/1276 [2:16:56<31:32,  3.86s/it]"
     ]
    },
    {
     "name": "stdout",
     "output_type": "stream",
     "text": [
      "STOP CODE:  Stay unchanged in the last 6 iterations\n",
      "> SA ENDS....... \n",
      "\n",
      "> avg loss: 5.923019872016204\n",
      "> For the *786_th* data_key\n",
      "> retail = 79.99,bidincrement = 0.12, bidfee = 0.6, infer PT's parameters\n",
      "> Now do SA....... \n",
      "\n"
     ]
    },
    {
     "name": "stderr",
     "output_type": "stream",
     "text": [
      " 62%|██████▏   | 787/1276 [2:17:05<44:48,  5.50s/it]"
     ]
    },
    {
     "name": "stdout",
     "output_type": "stream",
     "text": [
      "STOP CODE:  Stay unchanged in the last 6 iterations\n",
      "> SA ENDS....... \n",
      "\n",
      "> avg loss: 5.698300581840679\n",
      "> For the *787_th* data_key\n",
      "> retail = 21.89,bidincrement = 0.12, bidfee = 0.6, infer PT's parameters\n",
      "> Now do SA....... \n",
      "\n"
     ]
    },
    {
     "name": "stderr",
     "output_type": "stream",
     "text": [
      " 62%|██████▏   | 788/1276 [2:17:07<34:18,  4.22s/it]"
     ]
    },
    {
     "name": "stdout",
     "output_type": "stream",
     "text": [
      "STOP CODE:  Stay unchanged in the last 6 iterations\n",
      "> SA ENDS....... \n",
      "\n",
      "> avg loss: 4.368046463803736\n",
      "> For the *788_th* data_key\n",
      "> retail = 29.49,bidincrement = 0.12, bidfee = 0.6, infer PT's parameters\n",
      "> Now do SA....... \n",
      "\n"
     ]
    },
    {
     "name": "stderr",
     "output_type": "stream",
     "text": [
      " 62%|██████▏   | 789/1276 [2:17:09<29:57,  3.69s/it]"
     ]
    },
    {
     "name": "stdout",
     "output_type": "stream",
     "text": [
      "STOP CODE:  Stay unchanged in the last 6 iterations\n",
      "> SA ENDS....... \n",
      "\n",
      "> avg loss: 4.661769594805001\n",
      "> For the *789_th* data_key\n",
      "> retail = 459.68,bidincrement = 0.12, bidfee = 0.6, infer PT's parameters\n",
      "> Now do SA....... \n",
      "\n"
     ]
    },
    {
     "name": "stderr",
     "output_type": "stream",
     "text": [
      " 62%|██████▏   | 790/1276 [2:17:29<1:10:24,  8.69s/it]"
     ]
    },
    {
     "name": "stdout",
     "output_type": "stream",
     "text": [
      "STOP CODE:  Stay unchanged in the last 6 iterations\n",
      "> SA ENDS....... \n",
      "\n",
      "> avg loss: 7.46150684658752\n",
      "> For the *790_th* data_key\n",
      "> retail = 236.48,bidincrement = 0.12, bidfee = 0.6, infer PT's parameters\n",
      "> Now do SA....... \n",
      "\n"
     ]
    },
    {
     "name": "stderr",
     "output_type": "stream",
     "text": [
      " 62%|██████▏   | 791/1276 [2:17:57<1:55:27, 14.28s/it]"
     ]
    },
    {
     "name": "stdout",
     "output_type": "stream",
     "text": [
      "STOP CODE:  Stay unchanged in the last 6 iterations\n",
      "> SA ENDS....... \n",
      "\n",
      "> avg loss: 6.80596149420795\n",
      "> For the *791_th* data_key\n",
      "> retail = 236.48,bidincrement = 0.12, bidfee = 0.6, infer PT's parameters\n",
      "> Now do SA....... \n",
      "\n"
     ]
    },
    {
     "name": "stderr",
     "output_type": "stream",
     "text": [
      " 62%|██████▏   | 792/1276 [2:18:10<1:52:01, 13.89s/it]"
     ]
    },
    {
     "name": "stdout",
     "output_type": "stream",
     "text": [
      "STOP CODE:  Stay unchanged in the last 6 iterations\n",
      "> SA ENDS....... \n",
      "\n",
      "> avg loss: 6.864277376389597\n",
      "> For the *792_th* data_key\n",
      "> retail = 264.6,bidincrement = 0.12, bidfee = 0.6, infer PT's parameters\n",
      "> Now do SA....... \n",
      "\n"
     ]
    },
    {
     "name": "stderr",
     "output_type": "stream",
     "text": [
      " 62%|██████▏   | 793/1276 [2:18:20<1:42:59, 12.79s/it]"
     ]
    },
    {
     "name": "stdout",
     "output_type": "stream",
     "text": [
      "STOP CODE:  Stay unchanged in the last 6 iterations\n",
      "> SA ENDS....... \n",
      "\n",
      "> avg loss: 6.8777243246780015\n",
      "> For the *793_th* data_key\n",
      "> retail = 208.5,bidincrement = 0.12, bidfee = 0.6, infer PT's parameters\n",
      "> Now do SA....... \n",
      "\n"
     ]
    },
    {
     "name": "stderr",
     "output_type": "stream",
     "text": [
      " 62%|██████▏   | 794/1276 [2:18:41<2:03:29, 15.37s/it]"
     ]
    },
    {
     "name": "stdout",
     "output_type": "stream",
     "text": [
      "STOP CODE:  Stay unchanged in the last 6 iterations\n",
      "> SA ENDS....... \n",
      "\n",
      "> avg loss: 6.670458608654585\n",
      "> For the *794_th* data_key\n",
      "> retail = 181.84,bidincrement = 0.12, bidfee = 0.6, infer PT's parameters\n",
      "> Now do SA....... \n",
      "\n"
     ]
    },
    {
     "name": "stderr",
     "output_type": "stream",
     "text": [
      " 62%|██████▏   | 795/1276 [2:19:02<2:15:33, 16.91s/it]"
     ]
    },
    {
     "name": "stdout",
     "output_type": "stream",
     "text": [
      "STOP CODE:  Stay unchanged in the last 6 iterations\n",
      "> SA ENDS....... \n",
      "\n",
      "> avg loss: 6.533173637659869\n",
      "> For the *795_th* data_key\n",
      "> retail = 204.23,bidincrement = 0.06, bidfee = 0.6, infer PT's parameters\n",
      "> Now do SA....... \n",
      "\n"
     ]
    },
    {
     "name": "stderr",
     "output_type": "stream",
     "text": [
      " 62%|██████▏   | 796/1276 [2:19:13<2:02:02, 15.26s/it]"
     ]
    },
    {
     "name": "stdout",
     "output_type": "stream",
     "text": [
      "STOP CODE:  Stay unchanged in the last 6 iterations\n",
      "> SA ENDS....... \n",
      "\n",
      "> avg loss: 6.7545410678854525\n",
      "> For the *796_th* data_key\n",
      "> retail = 99.99,bidincrement = 0.12, bidfee = 0.6, infer PT's parameters\n",
      "> Now do SA....... \n",
      "\n"
     ]
    },
    {
     "name": "stderr",
     "output_type": "stream",
     "text": [
      " 62%|██████▏   | 797/1276 [2:19:23<1:49:34, 13.72s/it]"
     ]
    },
    {
     "name": "stdout",
     "output_type": "stream",
     "text": [
      "STOP CODE:  Stay unchanged in the last 6 iterations\n",
      "> SA ENDS....... \n",
      "\n",
      "> avg loss: 5.881398963458956\n",
      "> For the *797_th* data_key\n",
      "> retail = 49.99,bidincrement = 0.24, bidfee = 0.6, infer PT's parameters\n",
      "> Now do SA....... \n",
      "\n"
     ]
    },
    {
     "name": "stderr",
     "output_type": "stream",
     "text": [
      " 63%|██████▎   | 798/1276 [2:19:26<1:23:59, 10.54s/it]"
     ]
    },
    {
     "name": "stdout",
     "output_type": "stream",
     "text": [
      "STOP CODE:  Stay unchanged in the last 6 iterations\n",
      "> SA ENDS....... \n",
      "\n",
      "> avg loss: 2.781675912777241\n",
      "> For the *798_th* data_key\n",
      "> retail = 10.95,bidincrement = 0.24, bidfee = 0.6, infer PT's parameters\n",
      "> Now do SA....... \n",
      "\n"
     ]
    },
    {
     "name": "stderr",
     "output_type": "stream",
     "text": [
      " 63%|██████▎   | 799/1276 [2:19:27<59:40,  7.51s/it]  "
     ]
    },
    {
     "name": "stdout",
     "output_type": "stream",
     "text": [
      "STOP CODE:  Stay unchanged in the last 6 iterations\n",
      "> SA ENDS....... \n",
      "\n",
      "> avg loss: 2.27545355694771\n",
      "> For the *799_th* data_key\n",
      "> retail = 1498.0,bidincrement = 0.02, bidfee = 0.6, infer PT's parameters\n",
      "> Now do SA....... \n",
      "\n"
     ]
    },
    {
     "name": "stderr",
     "output_type": "stream",
     "text": [
      " 63%|██████▎   | 800/1276 [2:20:28<3:07:43, 23.66s/it]"
     ]
    },
    {
     "name": "stdout",
     "output_type": "stream",
     "text": [
      "> 超时\n",
      "> SA ENDS....... \n",
      "\n",
      "> avg loss: 17.701855886059565\n",
      "> For the *800_th* data_key\n",
      "> retail = 299.5,bidincrement = 0.12, bidfee = 0.6, infer PT's parameters\n",
      "> Now do SA....... \n",
      "\n"
     ]
    },
    {
     "name": "stderr",
     "output_type": "stream",
     "text": [
      " 63%|██████▎   | 801/1276 [2:20:36<2:29:33, 18.89s/it]"
     ]
    },
    {
     "name": "stdout",
     "output_type": "stream",
     "text": [
      "STOP CODE:  Stay unchanged in the last 6 iterations\n",
      "> SA ENDS....... \n",
      "\n",
      "> avg loss: 7.155117984502586\n",
      "> For the *801_th* data_key\n",
      "> retail = 73.74,bidincrement = 0.12, bidfee = 0.6, infer PT's parameters\n",
      "> Now do SA....... \n",
      "\n"
     ]
    },
    {
     "name": "stderr",
     "output_type": "stream",
     "text": [
      " 63%|██████▎   | 802/1276 [2:20:38<1:50:08, 13.94s/it]"
     ]
    },
    {
     "name": "stdout",
     "output_type": "stream",
     "text": [
      "STOP CODE:  Stay unchanged in the last 6 iterations\n",
      "> SA ENDS....... \n",
      "\n",
      "> avg loss: 5.606310960166639\n",
      "> For the *802_th* data_key\n",
      "> retail = 39.0,bidincrement = 0.24, bidfee = 0.6, infer PT's parameters\n",
      "> Now do SA....... \n",
      "\n"
     ]
    },
    {
     "name": "stderr",
     "output_type": "stream",
     "text": [
      " 63%|██████▎   | 803/1276 [2:20:40<1:19:58, 10.15s/it]"
     ]
    },
    {
     "name": "stdout",
     "output_type": "stream",
     "text": [
      "STOP CODE:  Stay unchanged in the last 6 iterations\n",
      "> SA ENDS....... \n",
      "\n",
      "> avg loss: 2.3749666475270548\n",
      "> For the *803_th* data_key\n",
      "> retail = 94.27,bidincrement = 0.12, bidfee = 0.6, infer PT's parameters\n",
      "> Now do SA....... \n",
      "\n"
     ]
    },
    {
     "name": "stderr",
     "output_type": "stream",
     "text": [
      " 63%|██████▎   | 804/1276 [2:20:45<1:09:32,  8.84s/it]"
     ]
    },
    {
     "name": "stdout",
     "output_type": "stream",
     "text": [
      "STOP CODE:  Stay unchanged in the last 6 iterations\n",
      "> SA ENDS....... \n",
      "\n",
      "> avg loss: 5.825448882728275\n",
      "> For the *804_th* data_key\n",
      "> retail = 269.99,bidincrement = 0.06, bidfee = 0.6, infer PT's parameters\n",
      "> Now do SA....... \n",
      "\n"
     ]
    },
    {
     "name": "stderr",
     "output_type": "stream",
     "text": [
      " 63%|██████▎   | 805/1276 [2:21:25<2:20:45, 17.93s/it]"
     ]
    },
    {
     "name": "stdout",
     "output_type": "stream",
     "text": [
      "STOP CODE:  Stay unchanged in the last 6 iterations\n",
      "> SA ENDS....... \n",
      "\n",
      "> avg loss: 7.034506866411912\n",
      "> For the *805_th* data_key\n",
      "> retail = 32.24,bidincrement = 0.24, bidfee = 0.6, infer PT's parameters\n",
      "> Now do SA....... \n",
      "\n"
     ]
    },
    {
     "name": "stderr",
     "output_type": "stream",
     "text": [
      " 63%|██████▎   | 806/1276 [2:21:26<1:41:08, 12.91s/it]"
     ]
    },
    {
     "name": "stdout",
     "output_type": "stream",
     "text": [
      "STOP CODE:  Stay unchanged in the last 6 iterations\n",
      "> SA ENDS....... \n",
      "\n",
      "> avg loss: 2.7677903842304423\n",
      "> For the *806_th* data_key\n",
      "> retail = 38.21,bidincrement = 0.24, bidfee = 0.6, infer PT's parameters\n",
      "> Now do SA....... \n",
      "\n"
     ]
    },
    {
     "name": "stderr",
     "output_type": "stream",
     "text": [
      " 63%|██████▎   | 807/1276 [2:21:31<1:21:47, 10.46s/it]"
     ]
    },
    {
     "name": "stdout",
     "output_type": "stream",
     "text": [
      "STOP CODE:  Stay unchanged in the last 6 iterations\n",
      "> SA ENDS....... \n",
      "\n",
      "> avg loss: 2.6185512391356354\n",
      "> For the *807_th* data_key\n",
      "> retail = 1699.84,bidincrement = 0.02, bidfee = 0.6, infer PT's parameters\n",
      "> Now do SA....... \n",
      "\n"
     ]
    },
    {
     "name": "stderr",
     "output_type": "stream",
     "text": [
      " 63%|██████▎   | 808/1276 [2:22:32<3:21:30, 25.83s/it]"
     ]
    },
    {
     "name": "stdout",
     "output_type": "stream",
     "text": [
      "> 超时\n",
      "> SA ENDS....... \n",
      "\n",
      "> avg loss: 18.998206288991092\n",
      "> For the *808_th* data_key\n",
      "> retail = 898.0,bidincrement = 0.06, bidfee = 0.6, infer PT's parameters\n",
      "> Now do SA....... \n",
      "\n"
     ]
    },
    {
     "name": "stderr",
     "output_type": "stream",
     "text": [
      " 63%|██████▎   | 809/1276 [2:23:15<3:59:27, 30.77s/it]"
     ]
    },
    {
     "name": "stdout",
     "output_type": "stream",
     "text": [
      "STOP CODE:  Stay unchanged in the last 6 iterations\n",
      "> SA ENDS....... \n",
      "\n",
      "> avg loss: 8.435356555601974\n",
      "> For the *809_th* data_key\n",
      "> retail = 898.0,bidincrement = 0.06, bidfee = 0.6, infer PT's parameters\n",
      "> Now do SA....... \n",
      "\n"
     ]
    },
    {
     "name": "stderr",
     "output_type": "stream",
     "text": [
      " 63%|██████▎   | 810/1276 [2:23:54<4:18:08, 33.24s/it]"
     ]
    },
    {
     "name": "stdout",
     "output_type": "stream",
     "text": [
      "STOP CODE:  Stay unchanged in the last 6 iterations\n",
      "> SA ENDS....... \n",
      "\n",
      "> avg loss: 8.502508856034364\n",
      "> For the *810_th* data_key\n",
      "> retail = 599.99,bidincrement = 0.06, bidfee = 0.6, infer PT's parameters\n",
      "> Now do SA....... \n",
      "\n"
     ]
    },
    {
     "name": "stderr",
     "output_type": "stream",
     "text": [
      " 64%|██████▎   | 811/1276 [2:24:37<4:42:27, 36.45s/it]"
     ]
    },
    {
     "name": "stdout",
     "output_type": "stream",
     "text": [
      "STOP CODE:  Stay unchanged in the last 6 iterations\n",
      "> SA ENDS....... \n",
      "\n",
      "> avg loss: 7.858769210255434\n",
      "> For the *811_th* data_key\n",
      "> retail = 1478.98,bidincrement = 0.02, bidfee = 0.6, infer PT's parameters\n",
      "> Now do SA....... \n",
      "\n"
     ]
    },
    {
     "name": "stderr",
     "output_type": "stream",
     "text": [
      " 64%|██████▎   | 812/1276 [2:25:39<5:39:41, 43.93s/it]"
     ]
    },
    {
     "name": "stdout",
     "output_type": "stream",
     "text": [
      "> 超时\n",
      "> SA ENDS....... \n",
      "\n",
      "> avg loss: 18.437332013645815\n",
      "> For the *812_th* data_key\n",
      "> retail = 26.23,bidincrement = 0.12, bidfee = 0.6, infer PT's parameters\n",
      "> Now do SA....... \n",
      "\n"
     ]
    },
    {
     "name": "stderr",
     "output_type": "stream",
     "text": [
      " 64%|██████▎   | 813/1276 [2:25:40<4:00:43, 31.20s/it]"
     ]
    },
    {
     "name": "stdout",
     "output_type": "stream",
     "text": [
      "STOP CODE:  Stay unchanged in the last 6 iterations\n",
      "> SA ENDS....... \n",
      "\n",
      "> avg loss: 4.723826198629289\n",
      "> For the *813_th* data_key\n",
      "> retail = 17.97,bidincrement = 0.12, bidfee = 0.6, infer PT's parameters\n",
      "> Now do SA....... \n",
      "\n"
     ]
    },
    {
     "name": "stderr",
     "output_type": "stream",
     "text": [
      " 64%|██████▍   | 814/1276 [2:25:42<2:51:13, 22.24s/it]"
     ]
    },
    {
     "name": "stdout",
     "output_type": "stream",
     "text": [
      "STOP CODE:  Stay unchanged in the last 6 iterations\n",
      "> SA ENDS....... \n",
      "\n",
      "> avg loss: 4.137003734992837\n",
      "> For the *814_th* data_key\n",
      "> retail = 19.99,bidincrement = 0.12, bidfee = 0.6, infer PT's parameters\n",
      "> Now do SA....... \n",
      "\n"
     ]
    },
    {
     "name": "stderr",
     "output_type": "stream",
     "text": [
      " 64%|██████▍   | 815/1276 [2:25:44<2:06:06, 16.41s/it]"
     ]
    },
    {
     "name": "stdout",
     "output_type": "stream",
     "text": [
      "STOP CODE:  Stay unchanged in the last 6 iterations\n",
      "> SA ENDS....... \n",
      "\n",
      "> avg loss: 4.247927899736228\n",
      "> For the *815_th* data_key\n",
      "> retail = 199.99,bidincrement = 0.12, bidfee = 0.6, infer PT's parameters\n",
      "> Now do SA....... \n",
      "\n"
     ]
    },
    {
     "name": "stderr",
     "output_type": "stream",
     "text": [
      " 64%|██████▍   | 816/1276 [2:25:51<1:44:02, 13.57s/it]"
     ]
    },
    {
     "name": "stdout",
     "output_type": "stream",
     "text": [
      "STOP CODE:  Stay unchanged in the last 6 iterations\n",
      "> SA ENDS....... \n",
      "\n",
      "> avg loss: 6.646607924492059\n",
      "> For the *816_th* data_key\n",
      "> retail = 1468.99,bidincrement = 0.02, bidfee = 0.6, infer PT's parameters\n",
      "> Now do SA....... \n",
      "\n"
     ]
    },
    {
     "name": "stderr",
     "output_type": "stream",
     "text": [
      " 64%|██████▍   | 817/1276 [2:26:53<3:33:01, 27.85s/it]"
     ]
    },
    {
     "name": "stdout",
     "output_type": "stream",
     "text": [
      "> 超时\n",
      "> SA ENDS....... \n",
      "\n",
      "> avg loss: 17.274679463471838\n",
      "> For the *817_th* data_key\n",
      "> retail = 683.98,bidincrement = 0.12, bidfee = 0.6, infer PT's parameters\n",
      "> Now do SA....... \n",
      "\n"
     ]
    },
    {
     "name": "stderr",
     "output_type": "stream",
     "text": [
      " 64%|██████▍   | 818/1276 [2:27:52<4:44:57, 37.33s/it]"
     ]
    },
    {
     "name": "stdout",
     "output_type": "stream",
     "text": [
      "STOP CODE:  Stay unchanged in the last 6 iterations\n",
      "> SA ENDS....... \n",
      "\n",
      "> avg loss: 8.070173943658466\n",
      "> For the *818_th* data_key\n",
      "> retail = 141.48,bidincrement = 0.12, bidfee = 0.6, infer PT's parameters\n",
      "> Now do SA....... \n",
      "\n"
     ]
    },
    {
     "name": "stderr",
     "output_type": "stream",
     "text": [
      " 64%|██████▍   | 819/1276 [2:27:58<3:32:23, 27.89s/it]"
     ]
    },
    {
     "name": "stdout",
     "output_type": "stream",
     "text": [
      "STOP CODE:  Stay unchanged in the last 6 iterations\n",
      "> SA ENDS....... \n",
      "\n",
      "> avg loss: 6.236007231392449\n",
      "> For the *819_th* data_key\n",
      "> retail = 279.99,bidincrement = 0.12, bidfee = 0.6, infer PT's parameters\n",
      "> Now do SA....... \n",
      "\n"
     ]
    },
    {
     "name": "stderr",
     "output_type": "stream",
     "text": [
      " 64%|██████▍   | 820/1276 [2:28:04<2:42:57, 21.44s/it]"
     ]
    },
    {
     "name": "stdout",
     "output_type": "stream",
     "text": [
      "STOP CODE:  Stay unchanged in the last 6 iterations\n",
      "> SA ENDS....... \n",
      "\n",
      "> avg loss: 7.042564540116578\n",
      "> For the *820_th* data_key\n",
      "> retail = 179.0,bidincrement = 0.12, bidfee = 0.6, infer PT's parameters\n",
      "> Now do SA....... \n",
      "\n"
     ]
    },
    {
     "name": "stderr",
     "output_type": "stream",
     "text": [
      " 64%|██████▍   | 821/1276 [2:28:09<2:04:38, 16.44s/it]"
     ]
    },
    {
     "name": "stdout",
     "output_type": "stream",
     "text": [
      "STOP CODE:  Stay unchanged in the last 6 iterations\n",
      "> SA ENDS....... \n",
      "\n",
      "> avg loss: 6.701078097418677\n",
      "> For the *821_th* data_key\n",
      "> retail = 406.47,bidincrement = 0.06, bidfee = 0.6, infer PT's parameters\n",
      "> Now do SA....... \n",
      "\n"
     ]
    },
    {
     "name": "stderr",
     "output_type": "stream",
     "text": [
      " 64%|██████▍   | 822/1276 [2:28:40<2:36:16, 20.65s/it]"
     ]
    },
    {
     "name": "stdout",
     "output_type": "stream",
     "text": [
      "STOP CODE:  Stay unchanged in the last 6 iterations\n",
      "> SA ENDS....... \n",
      "\n",
      "> avg loss: 7.388471238486011\n",
      "> For the *822_th* data_key\n",
      "> retail = 259.99,bidincrement = 0.24, bidfee = 0.6, infer PT's parameters\n",
      "> Now do SA....... \n",
      "\n"
     ]
    },
    {
     "name": "stderr",
     "output_type": "stream",
     "text": [
      " 64%|██████▍   | 823/1276 [2:28:45<2:01:26, 16.08s/it]"
     ]
    },
    {
     "name": "stdout",
     "output_type": "stream",
     "text": [
      "STOP CODE:  Stay unchanged in the last 6 iterations\n",
      "> SA ENDS....... \n",
      "\n",
      "> avg loss: 2.7432131693149455\n",
      "> For the *823_th* data_key\n",
      "> retail = 79.99,bidincrement = 0.24, bidfee = 0.6, infer PT's parameters\n",
      "> Now do SA....... \n",
      "\n"
     ]
    },
    {
     "name": "stderr",
     "output_type": "stream",
     "text": [
      " 65%|██████▍   | 824/1276 [2:28:47<1:30:12, 11.98s/it]"
     ]
    },
    {
     "name": "stdout",
     "output_type": "stream",
     "text": [
      "STOP CODE:  Stay unchanged in the last 6 iterations\n",
      "> SA ENDS....... \n",
      "\n",
      "> avg loss: 2.6617627152435506\n",
      "> For the *824_th* data_key\n",
      "> retail = 58.8,bidincrement = 0.12, bidfee = 0.6, infer PT's parameters\n",
      "> Now do SA....... \n",
      "\n"
     ]
    },
    {
     "name": "stderr",
     "output_type": "stream",
     "text": [
      " 65%|██████▍   | 825/1276 [2:28:51<1:11:06,  9.46s/it]"
     ]
    },
    {
     "name": "stdout",
     "output_type": "stream",
     "text": [
      "STOP CODE:  Stay unchanged in the last 6 iterations\n",
      "> SA ENDS....... \n",
      "\n",
      "> avg loss: 5.372697223753222\n",
      "> For the *825_th* data_key\n",
      "> retail = 44.99,bidincrement = 0.24, bidfee = 0.6, infer PT's parameters\n",
      "> Now do SA....... \n",
      "\n"
     ]
    },
    {
     "name": "stderr",
     "output_type": "stream",
     "text": [
      " 65%|██████▍   | 826/1276 [2:28:53<54:45,  7.30s/it]  "
     ]
    },
    {
     "name": "stdout",
     "output_type": "stream",
     "text": [
      "STOP CODE:  Stay unchanged in the last 6 iterations\n",
      "> SA ENDS....... \n",
      "\n",
      "> avg loss: 1.9549199056141102\n",
      "> For the *826_th* data_key\n",
      "> retail = 59.99,bidincrement = 0.24, bidfee = 0.6, infer PT's parameters\n",
      "> Now do SA....... \n",
      "\n"
     ]
    },
    {
     "name": "stderr",
     "output_type": "stream",
     "text": [
      " 65%|██████▍   | 827/1276 [2:28:57<46:02,  6.15s/it]"
     ]
    },
    {
     "name": "stdout",
     "output_type": "stream",
     "text": [
      "STOP CODE:  Stay unchanged in the last 6 iterations\n",
      "> SA ENDS....... \n",
      "\n",
      "> avg loss: 2.575613547761204\n",
      "> For the *827_th* data_key\n",
      "> retail = 49.72,bidincrement = 0.24, bidfee = 0.6, infer PT's parameters\n",
      "> Now do SA....... \n",
      "\n"
     ]
    },
    {
     "name": "stderr",
     "output_type": "stream",
     "text": [
      " 65%|██████▍   | 828/1276 [2:28:58<34:06,  4.57s/it]"
     ]
    },
    {
     "name": "stdout",
     "output_type": "stream",
     "text": [
      "STOP CODE:  Stay unchanged in the last 6 iterations\n",
      "> SA ENDS....... \n",
      "\n",
      "> avg loss: 2.835775610484168\n",
      "> For the *828_th* data_key\n",
      "> retail = 419.99,bidincrement = 0.06, bidfee = 0.6, infer PT's parameters\n",
      "> Now do SA....... \n",
      "\n"
     ]
    },
    {
     "name": "stderr",
     "output_type": "stream",
     "text": [
      " 65%|██████▍   | 829/1276 [2:29:18<1:08:39,  9.22s/it]"
     ]
    },
    {
     "name": "stdout",
     "output_type": "stream",
     "text": [
      "STOP CODE:  Stay unchanged in the last 6 iterations\n",
      "> SA ENDS....... \n",
      "\n",
      "> avg loss: 7.761073212213328\n",
      "> For the *829_th* data_key\n",
      "> retail = 8.59,bidincrement = 0.12, bidfee = 0.6, infer PT's parameters\n",
      "> Now do SA....... \n",
      "\n"
     ]
    },
    {
     "name": "stderr",
     "output_type": "stream",
     "text": [
      " 65%|██████▌   | 830/1276 [2:29:20<52:12,  7.02s/it]  "
     ]
    },
    {
     "name": "stdout",
     "output_type": "stream",
     "text": [
      "STOP CODE:  Stay unchanged in the last 6 iterations\n",
      "> SA ENDS....... \n",
      "\n",
      "> avg loss: 3.489188833702972\n",
      "> For the *830_th* data_key\n",
      "> retail = 9.99,bidincrement = 0.12, bidfee = 0.6, infer PT's parameters\n",
      "> Now do SA....... \n",
      "\n"
     ]
    },
    {
     "name": "stderr",
     "output_type": "stream",
     "text": [
      " 65%|██████▌   | 831/1276 [2:29:21<39:18,  5.30s/it]"
     ]
    },
    {
     "name": "stdout",
     "output_type": "stream",
     "text": [
      "STOP CODE:  Stay unchanged in the last 6 iterations\n",
      "> SA ENDS....... \n",
      "\n",
      "> avg loss: 3.5654371003137477\n",
      "> For the *831_th* data_key\n",
      "> retail = 10.15,bidincrement = 0.12, bidfee = 0.6, infer PT's parameters\n",
      "> Now do SA....... \n",
      "\n"
     ]
    },
    {
     "name": "stderr",
     "output_type": "stream",
     "text": [
      " 65%|██████▌   | 832/1276 [2:29:22<30:16,  4.09s/it]"
     ]
    },
    {
     "name": "stdout",
     "output_type": "stream",
     "text": [
      "STOP CODE:  Stay unchanged in the last 6 iterations\n",
      "> SA ENDS....... \n",
      "\n",
      "> avg loss: 3.631961401522224\n",
      "> For the *832_th* data_key\n",
      "> retail = 30.0,bidincrement = 0.12, bidfee = 0.6, infer PT's parameters\n",
      "> Now do SA....... \n",
      "\n"
     ]
    },
    {
     "name": "stderr",
     "output_type": "stream",
     "text": [
      " 65%|██████▌   | 833/1276 [2:29:25<27:46,  3.76s/it]"
     ]
    },
    {
     "name": "stdout",
     "output_type": "stream",
     "text": [
      "STOP CODE:  Stay unchanged in the last 6 iterations\n",
      "> SA ENDS....... \n",
      "\n",
      "> avg loss: 4.630672975945368\n",
      "> For the *833_th* data_key\n",
      "> retail = 180.0,bidincrement = 0.12, bidfee = 0.6, infer PT's parameters\n",
      "> Now do SA....... \n",
      "\n"
     ]
    },
    {
     "name": "stderr",
     "output_type": "stream",
     "text": [
      " 65%|██████▌   | 834/1276 [2:29:32<35:49,  4.86s/it]"
     ]
    },
    {
     "name": "stdout",
     "output_type": "stream",
     "text": [
      "STOP CODE:  Stay unchanged in the last 6 iterations\n",
      "> SA ENDS....... \n",
      "\n",
      "> avg loss: 6.562116254401479\n",
      "> For the *834_th* data_key\n",
      "> retail = 45.0,bidincrement = 0.12, bidfee = 0.6, infer PT's parameters\n",
      "> Now do SA....... \n",
      "\n"
     ]
    },
    {
     "name": "stderr",
     "output_type": "stream",
     "text": [
      " 65%|██████▌   | 835/1276 [2:29:36<33:07,  4.51s/it]"
     ]
    },
    {
     "name": "stdout",
     "output_type": "stream",
     "text": [
      "STOP CODE:  Stay unchanged in the last 6 iterations\n",
      "> SA ENDS....... \n",
      "\n",
      "> avg loss: 5.148430356435187\n",
      "> For the *835_th* data_key\n",
      "> retail = 52.99,bidincrement = 0.12, bidfee = 0.6, infer PT's parameters\n",
      "> Now do SA....... \n",
      "\n"
     ]
    },
    {
     "name": "stderr",
     "output_type": "stream",
     "text": [
      " 66%|██████▌   | 836/1276 [2:29:38<27:40,  3.77s/it]"
     ]
    },
    {
     "name": "stdout",
     "output_type": "stream",
     "text": [
      "STOP CODE:  Stay unchanged in the last 6 iterations\n",
      "> SA ENDS....... \n",
      "\n",
      "> avg loss: 5.543573315647373\n",
      "> For the *836_th* data_key\n",
      "> retail = 56.99,bidincrement = 0.12, bidfee = 0.6, infer PT's parameters\n",
      "> Now do SA....... \n",
      "\n"
     ]
    },
    {
     "name": "stderr",
     "output_type": "stream",
     "text": [
      " 66%|██████▌   | 837/1276 [2:29:45<33:30,  4.58s/it]"
     ]
    },
    {
     "name": "stdout",
     "output_type": "stream",
     "text": [
      "STOP CODE:  Stay unchanged in the last 6 iterations\n",
      "> SA ENDS....... \n",
      "\n",
      "> avg loss: 5.349236308604704\n",
      "> For the *837_th* data_key\n",
      "> retail = 19.99,bidincrement = 0.12, bidfee = 0.6, infer PT's parameters\n",
      "> Now do SA....... \n",
      "\n"
     ]
    },
    {
     "name": "stderr",
     "output_type": "stream",
     "text": [
      " 66%|██████▌   | 838/1276 [2:29:47<27:24,  3.75s/it]"
     ]
    },
    {
     "name": "stdout",
     "output_type": "stream",
     "text": [
      "STOP CODE:  Stay unchanged in the last 6 iterations\n",
      "> SA ENDS....... \n",
      "\n",
      "> avg loss: 4.310948800181917\n",
      "> For the *838_th* data_key\n",
      "> retail = 56.99,bidincrement = 0.12, bidfee = 0.6, infer PT's parameters\n",
      "> Now do SA....... \n",
      "\n"
     ]
    },
    {
     "name": "stderr",
     "output_type": "stream",
     "text": [
      " 66%|██████▌   | 839/1276 [2:29:50<26:19,  3.61s/it]"
     ]
    },
    {
     "name": "stdout",
     "output_type": "stream",
     "text": [
      "STOP CODE:  Stay unchanged in the last 6 iterations\n",
      "> SA ENDS....... \n",
      "\n",
      "> avg loss: 5.418658953918722\n",
      "> For the *839_th* data_key\n",
      "> retail = 27.99,bidincrement = 0.12, bidfee = 0.6, infer PT's parameters\n",
      "> Now do SA....... \n",
      "\n"
     ]
    },
    {
     "name": "stderr",
     "output_type": "stream",
     "text": [
      " 66%|██████▌   | 840/1276 [2:29:51<21:08,  2.91s/it]"
     ]
    },
    {
     "name": "stdout",
     "output_type": "stream",
     "text": [
      "STOP CODE:  Stay unchanged in the last 6 iterations\n",
      "> SA ENDS....... \n",
      "\n",
      "> avg loss: 4.804387040746794\n",
      "> For the *840_th* data_key\n",
      "> retail = 99.97,bidincrement = 0.12, bidfee = 0.6, infer PT's parameters\n",
      "> Now do SA....... \n",
      "\n"
     ]
    },
    {
     "name": "stderr",
     "output_type": "stream",
     "text": [
      " 66%|██████▌   | 841/1276 [2:29:56<25:22,  3.50s/it]"
     ]
    },
    {
     "name": "stdout",
     "output_type": "stream",
     "text": [
      "STOP CODE:  Stay unchanged in the last 6 iterations\n",
      "> SA ENDS....... \n",
      "\n",
      "> avg loss: 5.913928633401587\n",
      "> For the *841_th* data_key\n",
      "> retail = 80.79,bidincrement = 0.12, bidfee = 0.6, infer PT's parameters\n",
      "> Now do SA....... \n",
      "\n"
     ]
    },
    {
     "name": "stderr",
     "output_type": "stream",
     "text": [
      " 66%|██████▌   | 842/1276 [2:29:59<24:20,  3.36s/it]"
     ]
    },
    {
     "name": "stdout",
     "output_type": "stream",
     "text": [
      "STOP CODE:  Stay unchanged in the last 6 iterations\n",
      "> SA ENDS....... \n",
      "\n",
      "> avg loss: 5.848499919563198\n",
      "> For the *842_th* data_key\n",
      "> retail = 70.99,bidincrement = 0.12, bidfee = 0.6, infer PT's parameters\n",
      "> Now do SA....... \n",
      "\n"
     ]
    },
    {
     "name": "stderr",
     "output_type": "stream",
     "text": [
      " 66%|██████▌   | 843/1276 [2:30:01<21:26,  2.97s/it]"
     ]
    },
    {
     "name": "stdout",
     "output_type": "stream",
     "text": [
      "STOP CODE:  Stay unchanged in the last 6 iterations\n",
      "> SA ENDS....... \n",
      "\n",
      "> avg loss: 5.7679897360880705\n",
      "> For the *843_th* data_key\n",
      "> retail = 19.99,bidincrement = 0.12, bidfee = 0.6, infer PT's parameters\n",
      "> Now do SA....... \n",
      "\n"
     ]
    },
    {
     "name": "stderr",
     "output_type": "stream",
     "text": [
      " 66%|██████▌   | 844/1276 [2:30:03<19:43,  2.74s/it]"
     ]
    },
    {
     "name": "stdout",
     "output_type": "stream",
     "text": [
      "STOP CODE:  Stay unchanged in the last 6 iterations\n",
      "> SA ENDS....... \n",
      "\n",
      "> avg loss: 4.281473565884956\n",
      "> For the *844_th* data_key\n",
      "> retail = 35.95,bidincrement = 0.12, bidfee = 0.6, infer PT's parameters\n",
      "> Now do SA....... \n",
      "\n"
     ]
    },
    {
     "name": "stderr",
     "output_type": "stream",
     "text": [
      " 66%|██████▌   | 845/1276 [2:30:08<24:37,  3.43s/it]"
     ]
    },
    {
     "name": "stdout",
     "output_type": "stream",
     "text": [
      "STOP CODE:  Stay unchanged in the last 6 iterations\n",
      "> SA ENDS....... \n",
      "\n",
      "> avg loss: 4.863599442139868\n",
      "> For the *845_th* data_key\n",
      "> retail = 348.72,bidincrement = 0.06, bidfee = 0.6, infer PT's parameters\n",
      "> Now do SA....... \n",
      "\n"
     ]
    },
    {
     "name": "stderr",
     "output_type": "stream",
     "text": [
      " 66%|██████▋   | 846/1276 [2:30:37<1:19:24, 11.08s/it]"
     ]
    },
    {
     "name": "stdout",
     "output_type": "stream",
     "text": [
      "STOP CODE:  Stay unchanged in the last 6 iterations\n",
      "> SA ENDS....... \n",
      "\n",
      "> avg loss: 7.489093595881038\n",
      "> For the *846_th* data_key\n",
      "> retail = 46.99,bidincrement = 0.12, bidfee = 0.6, infer PT's parameters\n",
      "> Now do SA....... \n",
      "\n"
     ]
    },
    {
     "name": "stderr",
     "output_type": "stream",
     "text": [
      " 66%|██████▋   | 847/1276 [2:30:41<1:03:59,  8.95s/it]"
     ]
    },
    {
     "name": "stdout",
     "output_type": "stream",
     "text": [
      "STOP CODE:  Stay unchanged in the last 6 iterations\n",
      "> SA ENDS....... \n",
      "\n",
      "> avg loss: 5.201085414904462\n",
      "> For the *847_th* data_key\n",
      "> retail = 1379.99,bidincrement = 0.02, bidfee = 0.6, infer PT's parameters\n",
      "> Now do SA....... \n",
      "\n"
     ]
    },
    {
     "name": "stderr",
     "output_type": "stream",
     "text": [
      " 66%|██████▋   | 848/1276 [2:31:43<2:55:59, 24.67s/it]"
     ]
    },
    {
     "name": "stdout",
     "output_type": "stream",
     "text": [
      "> 超时\n",
      "> SA ENDS....... \n",
      "\n",
      "> avg loss: 17.4740129713418\n",
      "> For the *848_th* data_key\n",
      "> retail = 771.89,bidincrement = 0.02, bidfee = 0.6, infer PT's parameters\n",
      "> Now do SA....... \n",
      "\n"
     ]
    },
    {
     "name": "stderr",
     "output_type": "stream",
     "text": [
      " 67%|██████▋   | 849/1276 [2:32:43<4:11:56, 35.40s/it]"
     ]
    },
    {
     "name": "stdout",
     "output_type": "stream",
     "text": [
      "> 超时\n",
      "> SA ENDS....... \n",
      "\n",
      "> avg loss: 15.032059301498638\n",
      "> For the *849_th* data_key\n",
      "> retail = 1499.99,bidincrement = 0.02, bidfee = 0.6, infer PT's parameters\n",
      "> Now do SA....... \n",
      "\n"
     ]
    },
    {
     "name": "stderr",
     "output_type": "stream",
     "text": [
      " 67%|██████▋   | 850/1276 [2:33:45<5:07:08, 43.26s/it]"
     ]
    },
    {
     "name": "stdout",
     "output_type": "stream",
     "text": [
      "> 超时\n",
      "> SA ENDS....... \n",
      "\n",
      "> avg loss: 17.693992639230544\n",
      "> For the *850_th* data_key\n",
      "> retail = 169.99,bidincrement = 0.12, bidfee = 0.6, infer PT's parameters\n",
      "> Now do SA....... \n",
      "\n"
     ]
    },
    {
     "name": "stderr",
     "output_type": "stream",
     "text": [
      " 67%|██████▋   | 851/1276 [2:33:50<3:45:07, 31.78s/it]"
     ]
    },
    {
     "name": "stdout",
     "output_type": "stream",
     "text": [
      "STOP CODE:  Stay unchanged in the last 6 iterations\n",
      "> SA ENDS....... \n",
      "\n",
      "> avg loss: 6.717830485257672\n",
      "> For the *851_th* data_key\n",
      "> retail = 1199.99,bidincrement = 0.06, bidfee = 0.6, infer PT's parameters\n",
      "> Now do SA....... \n",
      "\n"
     ]
    },
    {
     "name": "stderr",
     "output_type": "stream",
     "text": [
      " 67%|██████▋   | 852/1276 [2:34:50<4:44:56, 40.32s/it]"
     ]
    },
    {
     "name": "stdout",
     "output_type": "stream",
     "text": [
      "> 超时\n",
      "> SA ENDS....... \n",
      "\n",
      "> avg loss: 15.98243375746964\n",
      "> For the *852_th* data_key\n",
      "> retail = 1199.99,bidincrement = 0.02, bidfee = 0.6, infer PT's parameters\n",
      "> Now do SA....... \n",
      "\n"
     ]
    },
    {
     "name": "stderr",
     "output_type": "stream",
     "text": [
      " 67%|██████▋   | 853/1276 [2:35:51<5:28:09, 46.55s/it]"
     ]
    },
    {
     "name": "stdout",
     "output_type": "stream",
     "text": [
      "> 超时\n",
      "> SA ENDS....... \n",
      "\n",
      "> avg loss: 16.818618481854994\n",
      "> For the *853_th* data_key\n",
      "> retail = 898.0,bidincrement = 0.02, bidfee = 0.6, infer PT's parameters\n",
      "> Now do SA....... \n",
      "\n"
     ]
    },
    {
     "name": "stderr",
     "output_type": "stream",
     "text": [
      " 67%|██████▋   | 854/1276 [2:36:52<5:57:23, 50.81s/it]"
     ]
    },
    {
     "name": "stdout",
     "output_type": "stream",
     "text": [
      "> 超时\n",
      "> SA ENDS....... \n",
      "\n",
      "> avg loss: 15.356308151497286\n",
      "> For the *854_th* data_key\n",
      "> retail = 898.0,bidincrement = 0.02, bidfee = 0.6, infer PT's parameters\n",
      "> Now do SA....... \n",
      "\n"
     ]
    },
    {
     "name": "stderr",
     "output_type": "stream",
     "text": [
      " 67%|██████▋   | 855/1276 [2:37:53<6:18:12, 53.90s/it]"
     ]
    },
    {
     "name": "stdout",
     "output_type": "stream",
     "text": [
      "> 超时\n",
      "> SA ENDS....... \n",
      "\n",
      "> avg loss: 15.368911372263394\n",
      "> For the *855_th* data_key\n",
      "> retail = 459.0,bidincrement = 0.06, bidfee = 0.6, infer PT's parameters\n",
      "> Now do SA....... \n",
      "\n"
     ]
    },
    {
     "name": "stderr",
     "output_type": "stream",
     "text": [
      " 67%|██████▋   | 856/1276 [2:38:48<6:19:04, 54.15s/it]"
     ]
    },
    {
     "name": "stdout",
     "output_type": "stream",
     "text": [
      "STOP CODE:  Stay unchanged in the last 6 iterations\n",
      "> SA ENDS....... \n",
      "\n",
      "> avg loss: 7.523572964543844\n",
      "> For the *856_th* data_key\n",
      "> retail = 569.99,bidincrement = 0.06, bidfee = 0.6, infer PT's parameters\n",
      "> Now do SA....... \n",
      "\n"
     ]
    },
    {
     "name": "stderr",
     "output_type": "stream",
     "text": [
      " 67%|██████▋   | 857/1276 [2:39:43<6:21:37, 54.65s/it]"
     ]
    },
    {
     "name": "stdout",
     "output_type": "stream",
     "text": [
      "STOP CODE:  Stay unchanged in the last 6 iterations\n",
      "> SA ENDS....... \n",
      "\n",
      "> avg loss: 7.813512905048657\n",
      "> For the *857_th* data_key\n",
      "> retail = 406.47,bidincrement = 0.12, bidfee = 0.6, infer PT's parameters\n",
      "> Now do SA....... \n",
      "\n"
     ]
    },
    {
     "name": "stderr",
     "output_type": "stream",
     "text": [
      " 67%|██████▋   | 858/1276 [2:39:52<4:43:53, 40.75s/it]"
     ]
    },
    {
     "name": "stdout",
     "output_type": "stream",
     "text": [
      "STOP CODE:  Stay unchanged in the last 6 iterations\n",
      "> SA ENDS....... \n",
      "\n",
      "> avg loss: 7.5701007649287835\n",
      "> For the *858_th* data_key\n",
      "> retail = 259.99,bidincrement = 0.12, bidfee = 0.6, infer PT's parameters\n",
      "> Now do SA....... \n",
      "\n"
     ]
    },
    {
     "name": "stderr",
     "output_type": "stream",
     "text": [
      " 67%|██████▋   | 859/1276 [2:39:58<3:32:18, 30.55s/it]"
     ]
    },
    {
     "name": "stdout",
     "output_type": "stream",
     "text": [
      "STOP CODE:  Stay unchanged in the last 6 iterations\n",
      "> SA ENDS....... \n",
      "\n",
      "> avg loss: 7.270736504648542\n",
      "> For the *859_th* data_key\n",
      "> retail = 44.99,bidincrement = 0.12, bidfee = 0.6, infer PT's parameters\n",
      "> Now do SA....... \n",
      "\n"
     ]
    },
    {
     "name": "stderr",
     "output_type": "stream",
     "text": [
      " 67%|██████▋   | 860/1276 [2:40:01<2:33:06, 22.08s/it]"
     ]
    },
    {
     "name": "stdout",
     "output_type": "stream",
     "text": [
      "STOP CODE:  Stay unchanged in the last 6 iterations\n",
      "> SA ENDS....... \n",
      "\n",
      "> avg loss: 5.138934754993179\n",
      "> For the *860_th* data_key\n",
      "> retail = 47.47,bidincrement = 0.12, bidfee = 0.6, infer PT's parameters\n",
      "> Now do SA....... \n",
      "\n"
     ]
    },
    {
     "name": "stderr",
     "output_type": "stream",
     "text": [
      " 67%|██████▋   | 861/1276 [2:40:02<1:50:36, 15.99s/it]"
     ]
    },
    {
     "name": "stdout",
     "output_type": "stream",
     "text": [
      "STOP CODE:  Stay unchanged in the last 6 iterations\n",
      "> SA ENDS....... \n",
      "\n",
      "> avg loss: 5.225856208260186\n",
      "> For the *861_th* data_key\n",
      "> retail = 199.99,bidincrement = 0.12, bidfee = 0.6, infer PT's parameters\n",
      "> Now do SA....... \n",
      "\n"
     ]
    },
    {
     "name": "stderr",
     "output_type": "stream",
     "text": [
      " 68%|██████▊   | 862/1276 [2:40:07<1:26:48, 12.58s/it]"
     ]
    },
    {
     "name": "stdout",
     "output_type": "stream",
     "text": [
      "STOP CODE:  Stay unchanged in the last 6 iterations\n",
      "> SA ENDS....... \n",
      "\n",
      "> avg loss: 6.873735537646759\n",
      "> For the *862_th* data_key\n",
      "> retail = 76.99,bidincrement = 0.24, bidfee = 0.6, infer PT's parameters\n",
      "> Now do SA....... \n",
      "\n"
     ]
    },
    {
     "name": "stderr",
     "output_type": "stream",
     "text": [
      " 68%|██████▊   | 863/1276 [2:40:10<1:05:54,  9.57s/it]"
     ]
    },
    {
     "name": "stdout",
     "output_type": "stream",
     "text": [
      "STOP CODE:  Stay unchanged in the last 6 iterations\n",
      "> SA ENDS....... \n",
      "\n",
      "> avg loss: 2.4464364717755216\n",
      "> For the *863_th* data_key\n",
      "> retail = 69.99,bidincrement = 0.12, bidfee = 0.6, infer PT's parameters\n",
      "> Now do SA....... \n",
      "\n"
     ]
    },
    {
     "name": "stderr",
     "output_type": "stream",
     "text": [
      " 68%|██████▊   | 864/1276 [2:40:12<49:48,  7.25s/it]  "
     ]
    },
    {
     "name": "stdout",
     "output_type": "stream",
     "text": [
      "STOP CODE:  Stay unchanged in the last 6 iterations\n",
      "> SA ENDS....... \n",
      "\n",
      "> avg loss: 5.9696739492319235\n",
      "> For the *864_th* data_key\n",
      "> retail = 79.99,bidincrement = 0.12, bidfee = 0.6, infer PT's parameters\n",
      "> Now do SA....... \n",
      "\n"
     ]
    },
    {
     "name": "stderr",
     "output_type": "stream",
     "text": [
      " 68%|██████▊   | 865/1276 [2:40:20<52:13,  7.62s/it]"
     ]
    },
    {
     "name": "stdout",
     "output_type": "stream",
     "text": [
      "STOP CODE:  Stay unchanged in the last 6 iterations\n",
      "> SA ENDS....... \n",
      "\n",
      "> avg loss: 5.660585170661923\n",
      "> For the *865_th* data_key\n",
      "> retail = 199.99,bidincrement = 0.12, bidfee = 0.6, infer PT's parameters\n",
      "> Now do SA....... \n",
      "\n"
     ]
    },
    {
     "name": "stderr",
     "output_type": "stream",
     "text": [
      " 68%|██████▊   | 866/1276 [2:40:25<45:53,  6.72s/it]"
     ]
    },
    {
     "name": "stdout",
     "output_type": "stream",
     "text": [
      "STOP CODE:  Stay unchanged in the last 6 iterations\n",
      "> SA ENDS....... \n",
      "\n",
      "> avg loss: 6.682715826065027\n",
      "> For the *866_th* data_key\n",
      "> retail = 819.99,bidincrement = 0.06, bidfee = 0.6, infer PT's parameters\n",
      "> Now do SA....... \n",
      "\n"
     ]
    },
    {
     "name": "stderr",
     "output_type": "stream",
     "text": [
      " 68%|██████▊   | 867/1276 [2:41:25<2:35:07, 22.76s/it]"
     ]
    },
    {
     "name": "stdout",
     "output_type": "stream",
     "text": [
      "> 超时\n",
      "> SA ENDS....... \n",
      "\n",
      "> avg loss: 14.451385478823816\n",
      "> For the *867_th* data_key\n",
      "> retail = 1139.0,bidincrement = 0.06, bidfee = 0.6, infer PT's parameters\n",
      "> Now do SA....... \n",
      "\n"
     ]
    },
    {
     "name": "stderr",
     "output_type": "stream",
     "text": [
      " 68%|██████▊   | 868/1276 [2:42:25<3:51:13, 34.00s/it]"
     ]
    },
    {
     "name": "stdout",
     "output_type": "stream",
     "text": [
      "> 超时\n",
      "> SA ENDS....... \n",
      "\n",
      "> avg loss: 16.68867508081371\n",
      "> For the *868_th* data_key\n",
      "> retail = 2099.99,bidincrement = 0.02, bidfee = 0.6, infer PT's parameters\n",
      "> Now do SA....... \n",
      "\n"
     ]
    },
    {
     "name": "stderr",
     "output_type": "stream",
     "text": [
      " 68%|██████▊   | 869/1276 [2:43:27<4:48:13, 42.49s/it]"
     ]
    },
    {
     "name": "stdout",
     "output_type": "stream",
     "text": [
      "> 超时\n",
      "> SA ENDS....... \n",
      "\n",
      "> avg loss: 19.48389231584152\n",
      "> For the *869_th* data_key\n",
      "> retail = 137.4,bidincrement = 0.12, bidfee = 0.6, infer PT's parameters\n",
      "> Now do SA....... \n",
      "\n"
     ]
    },
    {
     "name": "stderr",
     "output_type": "stream",
     "text": [
      " 68%|██████▊   | 870/1276 [2:43:32<3:31:04, 31.19s/it]"
     ]
    },
    {
     "name": "stdout",
     "output_type": "stream",
     "text": [
      "STOP CODE:  Stay unchanged in the last 6 iterations\n",
      "> SA ENDS....... \n",
      "\n",
      "> avg loss: 6.32154600865831\n",
      "> For the *870_th* data_key\n",
      "> retail = 141.67,bidincrement = 0.12, bidfee = 0.6, infer PT's parameters\n",
      "> Now do SA....... \n",
      "\n"
     ]
    },
    {
     "name": "stderr",
     "output_type": "stream",
     "text": [
      " 68%|██████▊   | 871/1276 [2:43:43<2:50:13, 25.22s/it]"
     ]
    },
    {
     "name": "stdout",
     "output_type": "stream",
     "text": [
      "STOP CODE:  Stay unchanged in the last 6 iterations\n",
      "> SA ENDS....... \n",
      "\n",
      "> avg loss: 6.2862965709009515\n",
      "> For the *871_th* data_key\n",
      "> retail = 100.67,bidincrement = 0.12, bidfee = 0.6, infer PT's parameters\n",
      "> Now do SA....... \n",
      "\n"
     ]
    },
    {
     "name": "stderr",
     "output_type": "stream",
     "text": [
      " 68%|██████▊   | 872/1276 [2:43:49<2:10:55, 19.44s/it]"
     ]
    },
    {
     "name": "stdout",
     "output_type": "stream",
     "text": [
      "STOP CODE:  Stay unchanged in the last 6 iterations\n",
      "> SA ENDS....... \n",
      "\n",
      "> avg loss: 5.918469539864523\n",
      "> For the *872_th* data_key\n",
      "> retail = 599.99,bidincrement = 0.06, bidfee = 0.6, infer PT's parameters\n",
      "> Now do SA....... \n",
      "\n"
     ]
    },
    {
     "name": "stderr",
     "output_type": "stream",
     "text": [
      " 68%|██████▊   | 873/1276 [2:44:50<3:32:33, 31.65s/it]"
     ]
    },
    {
     "name": "stdout",
     "output_type": "stream",
     "text": [
      "> 超时\n",
      "> SA ENDS....... \n",
      "\n",
      "> avg loss: 12.868303938029873\n",
      "> For the *873_th* data_key\n",
      "> retail = 299.99,bidincrement = 0.12, bidfee = 0.6, infer PT's parameters\n",
      "> Now do SA....... \n",
      "\n"
     ]
    },
    {
     "name": "stderr",
     "output_type": "stream",
     "text": [
      " 68%|██████▊   | 874/1276 [2:44:57<2:43:54, 24.46s/it]"
     ]
    },
    {
     "name": "stdout",
     "output_type": "stream",
     "text": [
      "STOP CODE:  Stay unchanged in the last 6 iterations\n",
      "> SA ENDS....... \n",
      "\n",
      "> avg loss: 7.21671679348919\n",
      "> For the *874_th* data_key\n",
      "> retail = 1699.84,bidincrement = 0.06, bidfee = 0.6, infer PT's parameters\n",
      "> Now do SA....... \n",
      "\n"
     ]
    },
    {
     "name": "stderr",
     "output_type": "stream",
     "text": [
      " 69%|██████▊   | 875/1276 [2:45:58<3:55:44, 35.27s/it]"
     ]
    },
    {
     "name": "stdout",
     "output_type": "stream",
     "text": [
      "> 超时\n",
      "> SA ENDS....... \n",
      "\n",
      "> avg loss: 18.29356022847394\n",
      "> For the *875_th* data_key\n",
      "> retail = 599.99,bidincrement = 0.06, bidfee = 0.6, infer PT's parameters\n",
      "> Now do SA....... \n",
      "\n"
     ]
    },
    {
     "name": "stderr",
     "output_type": "stream",
     "text": [
      " 69%|██████▊   | 876/1276 [2:46:58<4:44:57, 42.74s/it]"
     ]
    },
    {
     "name": "stdout",
     "output_type": "stream",
     "text": [
      "> 超时\n",
      "> SA ENDS....... \n",
      "\n",
      "> avg loss: 12.676350063832665\n",
      "> For the *876_th* data_key\n",
      "> retail = 32.49,bidincrement = 0.24, bidfee = 0.6, infer PT's parameters\n",
      "> Now do SA....... \n",
      "\n"
     ]
    },
    {
     "name": "stderr",
     "output_type": "stream",
     "text": [
      " 69%|██████▊   | 877/1276 [2:47:06<3:34:42, 32.29s/it]"
     ]
    },
    {
     "name": "stdout",
     "output_type": "stream",
     "text": [
      "STOP CODE:  Stay unchanged in the last 6 iterations\n",
      "> SA ENDS....... \n",
      "\n",
      "> avg loss: 2.1904594717781225\n",
      "> For the *877_th* data_key\n",
      "> retail = 69.49,bidincrement = 0.12, bidfee = 0.6, infer PT's parameters\n",
      "> Now do SA....... \n",
      "\n"
     ]
    },
    {
     "name": "stderr",
     "output_type": "stream",
     "text": [
      " 69%|██████▉   | 878/1276 [2:47:08<2:33:27, 23.13s/it]"
     ]
    },
    {
     "name": "stdout",
     "output_type": "stream",
     "text": [
      "STOP CODE:  Stay unchanged in the last 6 iterations\n",
      "> SA ENDS....... \n",
      "\n",
      "> avg loss: 5.490378654755733\n",
      "> For the *878_th* data_key\n",
      "> retail = 22.95,bidincrement = 0.24, bidfee = 0.6, infer PT's parameters\n",
      "> Now do SA....... \n",
      "\n"
     ]
    },
    {
     "name": "stderr",
     "output_type": "stream",
     "text": [
      " 69%|██████▉   | 879/1276 [2:47:09<1:49:53, 16.61s/it]"
     ]
    },
    {
     "name": "stdout",
     "output_type": "stream",
     "text": [
      "STOP CODE:  Stay unchanged in the last 6 iterations\n",
      "> SA ENDS....... \n",
      "\n",
      "> avg loss: 2.134120287183123\n",
      "> For the *879_th* data_key\n",
      "> retail = 120.99,bidincrement = 0.24, bidfee = 0.6, infer PT's parameters\n",
      "> Now do SA....... \n",
      "\n"
     ]
    },
    {
     "name": "stderr",
     "output_type": "stream",
     "text": [
      " 69%|██████▉   | 880/1276 [2:47:12<1:21:48, 12.39s/it]"
     ]
    },
    {
     "name": "stdout",
     "output_type": "stream",
     "text": [
      "STOP CODE:  Stay unchanged in the last 6 iterations\n",
      "> SA ENDS....... \n",
      "\n",
      "> avg loss: 2.2711094730827703\n",
      "> For the *880_th* data_key\n",
      "> retail = 21.99,bidincrement = 0.24, bidfee = 0.6, infer PT's parameters\n",
      "> Now do SA....... \n",
      "\n"
     ]
    },
    {
     "name": "stderr",
     "output_type": "stream",
     "text": [
      " 69%|██████▉   | 881/1276 [2:47:13<59:31,  9.04s/it]  "
     ]
    },
    {
     "name": "stdout",
     "output_type": "stream",
     "text": [
      "STOP CODE:  Stay unchanged in the last 6 iterations\n",
      "> SA ENDS....... \n",
      "\n",
      "> avg loss: 2.22198610327744\n",
      "> For the *881_th* data_key\n",
      "> retail = 1468.99,bidincrement = 0.06, bidfee = 0.6, infer PT's parameters\n",
      "> Now do SA....... \n",
      "\n"
     ]
    },
    {
     "name": "stderr",
     "output_type": "stream",
     "text": [
      " 69%|██████▉   | 882/1276 [2:48:13<2:40:33, 24.45s/it]"
     ]
    },
    {
     "name": "stdout",
     "output_type": "stream",
     "text": [
      "> 超时\n",
      "> SA ENDS....... \n",
      "\n",
      "> avg loss: 17.370491724494205\n",
      "> For the *882_th* data_key\n",
      "> retail = 19.99,bidincrement = 0.12, bidfee = 0.6, infer PT's parameters\n",
      "> Now do SA....... \n",
      "\n"
     ]
    },
    {
     "name": "stderr",
     "output_type": "stream",
     "text": [
      " 69%|██████▉   | 883/1276 [2:48:15<1:55:29, 17.63s/it]"
     ]
    },
    {
     "name": "stdout",
     "output_type": "stream",
     "text": [
      "STOP CODE:  Stay unchanged in the last 6 iterations\n",
      "> SA ENDS....... \n",
      "\n",
      "> avg loss: 4.382805917479175\n",
      "> For the *883_th* data_key\n",
      "> retail = 59.99,bidincrement = 0.12, bidfee = 0.6, infer PT's parameters\n",
      "> Now do SA....... \n",
      "\n"
     ]
    },
    {
     "name": "stderr",
     "output_type": "stream",
     "text": [
      " 69%|██████▉   | 884/1276 [2:48:17<1:24:14, 12.90s/it]"
     ]
    },
    {
     "name": "stdout",
     "output_type": "stream",
     "text": [
      "STOP CODE:  Stay unchanged in the last 6 iterations\n",
      "> SA ENDS....... \n",
      "\n",
      "> avg loss: 5.578715448300337\n",
      "> For the *884_th* data_key\n",
      "> retail = 169.99,bidincrement = 0.24, bidfee = 0.6, infer PT's parameters\n",
      "> Now do SA....... \n",
      "\n"
     ]
    },
    {
     "name": "stderr",
     "output_type": "stream",
     "text": [
      " 69%|██████▉   | 885/1276 [2:48:24<1:13:52, 11.34s/it]"
     ]
    },
    {
     "name": "stdout",
     "output_type": "stream",
     "text": [
      "STOP CODE:  Stay unchanged in the last 6 iterations\n",
      "> SA ENDS....... \n",
      "\n",
      "> avg loss: 2.0494947980551284\n",
      "> For the *885_th* data_key\n",
      "> retail = 59.99,bidincrement = 0.24, bidfee = 0.6, infer PT's parameters\n",
      "> Now do SA....... \n",
      "\n"
     ]
    },
    {
     "name": "stderr",
     "output_type": "stream",
     "text": [
      " 69%|██████▉   | 886/1276 [2:48:26<54:20,  8.36s/it]  "
     ]
    },
    {
     "name": "stdout",
     "output_type": "stream",
     "text": [
      "STOP CODE:  Stay unchanged in the last 6 iterations\n",
      "> SA ENDS....... \n",
      "\n",
      "> avg loss: 2.7231784211067134\n",
      "> For the *886_th* data_key\n",
      "> retail = 59.99,bidincrement = 0.12, bidfee = 0.6, infer PT's parameters\n",
      "> Now do SA....... \n",
      "\n"
     ]
    },
    {
     "name": "stderr",
     "output_type": "stream",
     "text": [
      " 70%|██████▉   | 887/1276 [2:48:31<47:21,  7.30s/it]"
     ]
    },
    {
     "name": "stdout",
     "output_type": "stream",
     "text": [
      "STOP CODE:  Stay unchanged in the last 6 iterations\n",
      "> SA ENDS....... \n",
      "\n",
      "> avg loss: 5.3927643666163805\n",
      "> For the *887_th* data_key\n",
      "> retail = 59.99,bidincrement = 0.24, bidfee = 0.6, infer PT's parameters\n",
      "> Now do SA....... \n",
      "\n"
     ]
    },
    {
     "name": "stderr",
     "output_type": "stream",
     "text": [
      " 70%|██████▉   | 888/1276 [2:48:32<36:15,  5.61s/it]"
     ]
    },
    {
     "name": "stdout",
     "output_type": "stream",
     "text": [
      "STOP CODE:  Stay unchanged in the last 6 iterations\n",
      "> SA ENDS....... \n",
      "\n",
      "> avg loss: 2.1267101190095787\n",
      "> For the *888_th* data_key\n",
      "> retail = 59.99,bidincrement = 0.24, bidfee = 0.6, infer PT's parameters\n",
      "> Now do SA....... \n",
      "\n"
     ]
    },
    {
     "name": "stderr",
     "output_type": "stream",
     "text": [
      " 70%|██████▉   | 889/1276 [2:48:35<30:18,  4.70s/it]"
     ]
    },
    {
     "name": "stdout",
     "output_type": "stream",
     "text": [
      "STOP CODE:  Stay unchanged in the last 6 iterations\n",
      "> SA ENDS....... \n",
      "\n",
      "> avg loss: 2.089918386420735\n",
      "> For the *889_th* data_key\n",
      "> retail = 59.99,bidincrement = 0.12, bidfee = 0.6, infer PT's parameters\n",
      "> Now do SA....... \n",
      "\n"
     ]
    },
    {
     "name": "stderr",
     "output_type": "stream",
     "text": [
      " 70%|██████▉   | 890/1276 [2:48:39<28:37,  4.45s/it]"
     ]
    },
    {
     "name": "stdout",
     "output_type": "stream",
     "text": [
      "STOP CODE:  Stay unchanged in the last 6 iterations\n",
      "> SA ENDS....... \n",
      "\n",
      "> avg loss: 5.443921087746251\n",
      "> For the *890_th* data_key\n",
      "> retail = 59.99,bidincrement = 0.24, bidfee = 0.6, infer PT's parameters\n",
      "> Now do SA....... \n",
      "\n"
     ]
    },
    {
     "name": "stderr",
     "output_type": "stream",
     "text": [
      " 70%|██████▉   | 891/1276 [2:48:44<29:39,  4.62s/it]"
     ]
    },
    {
     "name": "stdout",
     "output_type": "stream",
     "text": [
      "STOP CODE:  Stay unchanged in the last 6 iterations\n",
      "> SA ENDS....... \n",
      "\n",
      "> avg loss: 2.4520713182955434\n",
      "> For the *891_th* data_key\n",
      "> retail = 99.99,bidincrement = 0.12, bidfee = 0.6, infer PT's parameters\n",
      "> Now do SA....... \n",
      "\n"
     ]
    },
    {
     "name": "stderr",
     "output_type": "stream",
     "text": [
      " 70%|██████▉   | 892/1276 [2:48:48<28:41,  4.48s/it]"
     ]
    },
    {
     "name": "stdout",
     "output_type": "stream",
     "text": [
      "STOP CODE:  Stay unchanged in the last 6 iterations\n",
      "> SA ENDS....... \n",
      "\n",
      "> avg loss: 5.786197739920897\n",
      "> For the *892_th* data_key\n",
      "> retail = 59.99,bidincrement = 0.24, bidfee = 0.6, infer PT's parameters\n",
      "> Now do SA....... \n",
      "\n"
     ]
    },
    {
     "name": "stderr",
     "output_type": "stream",
     "text": [
      " 70%|██████▉   | 893/1276 [2:48:52<26:58,  4.23s/it]"
     ]
    },
    {
     "name": "stdout",
     "output_type": "stream",
     "text": [
      "STOP CODE:  Stay unchanged in the last 6 iterations\n",
      "> SA ENDS....... \n",
      "\n",
      "> avg loss: 2.275594097225194\n",
      "> For the *893_th* data_key\n",
      "> retail = 49.99,bidincrement = 0.24, bidfee = 0.6, infer PT's parameters\n",
      "> Now do SA....... \n",
      "\n"
     ]
    },
    {
     "name": "stderr",
     "output_type": "stream",
     "text": [
      " 70%|███████   | 894/1276 [2:48:52<20:37,  3.24s/it]"
     ]
    },
    {
     "name": "stdout",
     "output_type": "stream",
     "text": [
      "STOP CODE:  Stay unchanged in the last 6 iterations\n",
      "> SA ENDS....... \n",
      "\n",
      "> avg loss: 2.236691908184925\n",
      "> For the *894_th* data_key\n",
      "> retail = 64.12,bidincrement = 0.24, bidfee = 0.6, infer PT's parameters\n",
      "> Now do SA....... \n",
      "\n"
     ]
    },
    {
     "name": "stderr",
     "output_type": "stream",
     "text": [
      " 70%|███████   | 895/1276 [2:48:55<19:48,  3.12s/it]"
     ]
    },
    {
     "name": "stdout",
     "output_type": "stream",
     "text": [
      "STOP CODE:  Stay unchanged in the last 6 iterations\n",
      "> SA ENDS....... \n",
      "\n",
      "> avg loss: 2.0006460687774843\n",
      "> For the *895_th* data_key\n",
      "> retail = 10.0,bidincrement = 0.12, bidfee = 0.6, infer PT's parameters\n",
      "> Now do SA....... \n",
      "\n"
     ]
    },
    {
     "name": "stderr",
     "output_type": "stream",
     "text": [
      " 70%|███████   | 896/1276 [2:48:59<19:52,  3.14s/it]"
     ]
    },
    {
     "name": "stdout",
     "output_type": "stream",
     "text": [
      "STOP CODE:  Stay unchanged in the last 6 iterations\n",
      "> SA ENDS....... \n",
      "\n",
      "> avg loss: 3.564148106124438\n",
      "> For the *896_th* data_key\n",
      "> retail = 249.99,bidincrement = 0.12, bidfee = 0.6, infer PT's parameters\n",
      "> Now do SA....... \n",
      "\n"
     ]
    },
    {
     "name": "stderr",
     "output_type": "stream",
     "text": [
      " 70%|███████   | 897/1276 [2:49:15<45:03,  7.13s/it]"
     ]
    },
    {
     "name": "stdout",
     "output_type": "stream",
     "text": [
      "STOP CODE:  Stay unchanged in the last 6 iterations\n",
      "> SA ENDS....... \n",
      "\n",
      "> avg loss: 6.805277862041354\n",
      "> For the *897_th* data_key\n",
      "> retail = 429.99,bidincrement = 0.06, bidfee = 0.6, infer PT's parameters\n",
      "> Now do SA....... \n",
      "\n"
     ]
    },
    {
     "name": "stderr",
     "output_type": "stream",
     "text": [
      " 70%|███████   | 898/1276 [2:50:15<2:25:07, 23.04s/it]"
     ]
    },
    {
     "name": "stdout",
     "output_type": "stream",
     "text": [
      "> 超时\n",
      "> SA ENDS....... \n",
      "\n",
      "> avg loss: 11.754337631179807\n",
      "> For the *898_th* data_key\n",
      "> retail = 117.99,bidincrement = 0.12, bidfee = 0.6, infer PT's parameters\n",
      "> Now do SA....... \n",
      "\n"
     ]
    },
    {
     "name": "stderr",
     "output_type": "stream",
     "text": [
      " 70%|███████   | 899/1276 [2:50:20<1:50:26, 17.58s/it]"
     ]
    },
    {
     "name": "stdout",
     "output_type": "stream",
     "text": [
      "STOP CODE:  Stay unchanged in the last 6 iterations\n",
      "> SA ENDS....... \n",
      "\n",
      "> avg loss: 6.062119662871846\n",
      "> For the *899_th* data_key\n",
      "> retail = 162.13,bidincrement = 0.12, bidfee = 0.6, infer PT's parameters\n",
      "> Now do SA....... \n",
      "\n"
     ]
    },
    {
     "name": "stderr",
     "output_type": "stream",
     "text": [
      " 71%|███████   | 900/1276 [2:50:23<1:23:35, 13.34s/it]"
     ]
    },
    {
     "name": "stdout",
     "output_type": "stream",
     "text": [
      "STOP CODE:  Stay unchanged in the last 6 iterations\n",
      "> SA ENDS....... \n",
      "\n",
      "> avg loss: 6.495305275913549\n",
      "> For the *900_th* data_key\n",
      "> retail = 29.95,bidincrement = 0.24, bidfee = 0.6, infer PT's parameters\n",
      "> Now do SA....... \n",
      "\n"
     ]
    },
    {
     "name": "stderr",
     "output_type": "stream",
     "text": [
      " 71%|███████   | 901/1276 [2:50:25<1:00:37,  9.70s/it]"
     ]
    },
    {
     "name": "stdout",
     "output_type": "stream",
     "text": [
      "STOP CODE:  Stay unchanged in the last 6 iterations\n",
      "> SA ENDS....... \n",
      "\n",
      "> avg loss: 2.1773503201574855\n",
      "> For the *901_th* data_key\n",
      "> retail = 384.0,bidincrement = 0.12, bidfee = 0.6, infer PT's parameters\n",
      "> Now do SA....... \n",
      "\n"
     ]
    },
    {
     "name": "stderr",
     "output_type": "stream",
     "text": [
      " 71%|███████   | 902/1276 [2:50:34<1:00:42,  9.74s/it]"
     ]
    },
    {
     "name": "stdout",
     "output_type": "stream",
     "text": [
      "STOP CODE:  Stay unchanged in the last 6 iterations\n",
      "> SA ENDS....... \n",
      "\n",
      "> avg loss: 7.376204465651754\n",
      "> For the *902_th* data_key\n",
      "> retail = 149.95,bidincrement = 0.12, bidfee = 0.6, infer PT's parameters\n",
      "> Now do SA....... \n",
      "\n"
     ]
    },
    {
     "name": "stderr",
     "output_type": "stream",
     "text": [
      " 71%|███████   | 903/1276 [2:50:48<1:07:33, 10.87s/it]"
     ]
    },
    {
     "name": "stdout",
     "output_type": "stream",
     "text": [
      "STOP CODE:  Stay unchanged in the last 6 iterations\n",
      "> SA ENDS....... \n",
      "\n",
      "> avg loss: 6.431523157247236\n",
      "> For the *903_th* data_key\n",
      "> retail = 599.99,bidincrement = 0.06, bidfee = 0.6, infer PT's parameters\n",
      "> Now do SA....... \n",
      "\n"
     ]
    },
    {
     "name": "stderr",
     "output_type": "stream",
     "text": [
      " 71%|███████   | 904/1276 [2:51:14<1:35:59, 15.48s/it]"
     ]
    },
    {
     "name": "stdout",
     "output_type": "stream",
     "text": [
      "STOP CODE:  Stay unchanged in the last 6 iterations\n",
      "> SA ENDS....... \n",
      "\n",
      "> avg loss: 8.172413582304547\n",
      "> For the *904_th* data_key\n",
      "> retail = 449.99,bidincrement = 0.12, bidfee = 0.6, infer PT's parameters\n",
      "> Now do SA....... \n",
      "\n"
     ]
    },
    {
     "name": "stderr",
     "output_type": "stream",
     "text": [
      " 71%|███████   | 905/1276 [2:51:34<1:44:11, 16.85s/it]"
     ]
    },
    {
     "name": "stdout",
     "output_type": "stream",
     "text": [
      "STOP CODE:  Stay unchanged in the last 6 iterations\n",
      "> SA ENDS....... \n",
      "\n",
      "> avg loss: 7.346515393435217\n",
      "> For the *905_th* data_key\n",
      "> retail = 299.99,bidincrement = 0.12, bidfee = 0.6, infer PT's parameters\n",
      "> Now do SA....... \n",
      "\n"
     ]
    },
    {
     "name": "stderr",
     "output_type": "stream",
     "text": [
      " 71%|███████   | 906/1276 [2:51:48<1:37:33, 15.82s/it]"
     ]
    },
    {
     "name": "stdout",
     "output_type": "stream",
     "text": [
      "STOP CODE:  Stay unchanged in the last 6 iterations\n",
      "> SA ENDS....... \n",
      "\n",
      "> avg loss: 7.103636034298525\n",
      "> For the *906_th* data_key\n",
      "> retail = 44.5,bidincrement = 0.24, bidfee = 0.6, infer PT's parameters\n",
      "> Now do SA....... \n",
      "\n"
     ]
    },
    {
     "name": "stderr",
     "output_type": "stream",
     "text": [
      " 71%|███████   | 907/1276 [2:51:51<1:14:29, 12.11s/it]"
     ]
    },
    {
     "name": "stdout",
     "output_type": "stream",
     "text": [
      "STOP CODE:  Stay unchanged in the last 6 iterations\n",
      "> SA ENDS....... \n",
      "\n",
      "> avg loss: 2.100688114610704\n",
      "> For the *907_th* data_key\n",
      "> retail = 59.99,bidincrement = 0.24, bidfee = 0.6, infer PT's parameters\n",
      "> Now do SA....... \n",
      "\n"
     ]
    },
    {
     "name": "stderr",
     "output_type": "stream",
     "text": [
      " 71%|███████   | 908/1276 [2:51:55<58:58,  9.62s/it]  "
     ]
    },
    {
     "name": "stdout",
     "output_type": "stream",
     "text": [
      "STOP CODE:  Stay unchanged in the last 6 iterations\n",
      "> SA ENDS....... \n",
      "\n",
      "> avg loss: 1.8695564898713564\n",
      "> For the *908_th* data_key\n",
      "> retail = 29.99,bidincrement = 0.24, bidfee = 0.6, infer PT's parameters\n",
      "> Now do SA....... \n",
      "\n"
     ]
    },
    {
     "name": "stderr",
     "output_type": "stream",
     "text": [
      " 71%|███████   | 909/1276 [2:51:56<42:22,  6.93s/it]"
     ]
    },
    {
     "name": "stdout",
     "output_type": "stream",
     "text": [
      "STOP CODE:  Stay unchanged in the last 6 iterations\n",
      "> SA ENDS....... \n",
      "\n",
      "> avg loss: 1.9847305140799583\n",
      "> For the *909_th* data_key\n",
      "> retail = 29.99,bidincrement = 0.24, bidfee = 0.6, infer PT's parameters\n",
      "> Now do SA....... \n",
      "\n"
     ]
    },
    {
     "name": "stderr",
     "output_type": "stream",
     "text": [
      " 71%|███████▏  | 910/1276 [2:51:57<31:53,  5.23s/it]"
     ]
    },
    {
     "name": "stdout",
     "output_type": "stream",
     "text": [
      "STOP CODE:  Stay unchanged in the last 6 iterations\n",
      "> SA ENDS....... \n",
      "\n",
      "> avg loss: 1.9944639835181384\n",
      "> For the *910_th* data_key\n",
      "> retail = 1299.0,bidincrement = 0.02, bidfee = 0.6, infer PT's parameters\n",
      "> Now do SA....... \n",
      "\n"
     ]
    },
    {
     "name": "stderr",
     "output_type": "stream",
     "text": [
      " 71%|███████▏  | 911/1276 [2:52:58<2:14:11, 22.06s/it]"
     ]
    },
    {
     "name": "stdout",
     "output_type": "stream",
     "text": [
      "> 超时\n",
      "> SA ENDS....... \n",
      "\n",
      "> avg loss: 17.169363940450427\n",
      "> For the *911_th* data_key\n",
      "> retail = 549.99,bidincrement = 0.12, bidfee = 0.6, infer PT's parameters\n",
      "> Now do SA....... \n",
      "\n"
     ]
    },
    {
     "name": "stderr",
     "output_type": "stream",
     "text": [
      " 71%|███████▏  | 912/1276 [2:53:25<2:22:54, 23.56s/it]"
     ]
    },
    {
     "name": "stdout",
     "output_type": "stream",
     "text": [
      "STOP CODE:  Stay unchanged in the last 6 iterations\n",
      "> SA ENDS....... \n",
      "\n",
      "> avg loss: 7.566581817059503\n",
      "> For the *912_th* data_key\n",
      "> retail = 30.0,bidincrement = 0.02, bidfee = 0.6, infer PT's parameters\n",
      "> Now do SA....... \n",
      "\n"
     ]
    },
    {
     "name": "stderr",
     "output_type": "stream",
     "text": [
      " 72%|███████▏  | 913/1276 [2:53:31<1:49:31, 18.10s/it]"
     ]
    },
    {
     "name": "stdout",
     "output_type": "stream",
     "text": [
      "STOP CODE:  Stay unchanged in the last 6 iterations\n",
      "> SA ENDS....... \n",
      "\n",
      "> avg loss: 5.032488200786184\n",
      "> For the *913_th* data_key\n",
      "> retail = 180.0,bidincrement = 0.02, bidfee = 0.6, infer PT's parameters\n",
      "> Now do SA....... \n",
      "\n"
     ]
    },
    {
     "name": "stderr",
     "output_type": "stream",
     "text": [
      " 72%|███████▏  | 914/1276 [2:54:00<2:09:33, 21.47s/it]"
     ]
    },
    {
     "name": "stdout",
     "output_type": "stream",
     "text": [
      "STOP CODE:  Stay unchanged in the last 6 iterations\n",
      "> SA ENDS....... \n",
      "\n",
      "> avg loss: 6.638973364006773\n",
      "> For the *914_th* data_key\n",
      "> retail = 12.0,bidincrement = 0.02, bidfee = 0.6, infer PT's parameters\n",
      "> Now do SA....... \n",
      "\n"
     ]
    },
    {
     "name": "stderr",
     "output_type": "stream",
     "text": [
      " 72%|███████▏  | 915/1276 [2:54:02<1:34:56, 15.78s/it]"
     ]
    },
    {
     "name": "stdout",
     "output_type": "stream",
     "text": [
      "STOP CODE:  Stay unchanged in the last 6 iterations\n",
      "> SA ENDS....... \n",
      "\n",
      "> avg loss: 3.9512808723910338\n",
      "> For the *915_th* data_key\n",
      "> retail = 45.0,bidincrement = 0.02, bidfee = 0.6, infer PT's parameters\n",
      "> Now do SA....... \n",
      "\n"
     ]
    },
    {
     "name": "stderr",
     "output_type": "stream",
     "text": [
      " 72%|███████▏  | 916/1276 [2:54:13<1:24:35, 14.10s/it]"
     ]
    },
    {
     "name": "stdout",
     "output_type": "stream",
     "text": [
      "STOP CODE:  Stay unchanged in the last 6 iterations\n",
      "> SA ENDS....... \n",
      "\n",
      "> avg loss: 5.292156649211814\n",
      "> For the *916_th* data_key\n",
      "> retail = 779.99,bidincrement = 0.06, bidfee = 0.6, infer PT's parameters\n",
      "> Now do SA....... \n",
      "\n"
     ]
    },
    {
     "name": "stderr",
     "output_type": "stream",
     "text": [
      " 72%|███████▏  | 917/1276 [2:55:01<2:26:02, 24.41s/it]"
     ]
    },
    {
     "name": "stdout",
     "output_type": "stream",
     "text": [
      "STOP CODE:  Stay unchanged in the last 6 iterations\n",
      "> SA ENDS....... \n",
      "\n",
      "> avg loss: 8.306350254230454\n",
      "> For the *917_th* data_key\n",
      "> retail = 459.99,bidincrement = 0.24, bidfee = 0.6, infer PT's parameters\n",
      "> Now do SA....... \n",
      "\n"
     ]
    },
    {
     "name": "stderr",
     "output_type": "stream",
     "text": [
      " 72%|███████▏  | 918/1276 [2:55:07<1:52:20, 18.83s/it]"
     ]
    },
    {
     "name": "stdout",
     "output_type": "stream",
     "text": [
      "STOP CODE:  Stay unchanged in the last 6 iterations\n",
      "> SA ENDS....... \n",
      "\n",
      "> avg loss: 2.053482999933381\n",
      "> For the *918_th* data_key\n",
      "> retail = 129.99,bidincrement = 0.12, bidfee = 0.6, infer PT's parameters\n",
      "> Now do SA....... \n",
      "\n"
     ]
    },
    {
     "name": "stderr",
     "output_type": "stream",
     "text": [
      " 72%|███████▏  | 919/1276 [2:55:11<1:25:56, 14.45s/it]"
     ]
    },
    {
     "name": "stdout",
     "output_type": "stream",
     "text": [
      "STOP CODE:  Stay unchanged in the last 6 iterations\n",
      "> SA ENDS....... \n",
      "\n",
      "> avg loss: 6.324770066751942\n",
      "> For the *919_th* data_key\n",
      "> retail = 270.0,bidincrement = 0.12, bidfee = 0.6, infer PT's parameters\n",
      "> Now do SA....... \n",
      "\n"
     ]
    },
    {
     "name": "stderr",
     "output_type": "stream",
     "text": [
      " 72%|███████▏  | 920/1276 [2:55:35<1:41:48, 17.16s/it]"
     ]
    },
    {
     "name": "stdout",
     "output_type": "stream",
     "text": [
      "STOP CODE:  Stay unchanged in the last 6 iterations\n",
      "> SA ENDS....... \n",
      "\n",
      "> avg loss: 6.9015628640979525\n",
      "> For the *920_th* data_key\n",
      "> retail = 59.99,bidincrement = 0.24, bidfee = 0.6, infer PT's parameters\n",
      "> Now do SA....... \n",
      "\n"
     ]
    },
    {
     "name": "stderr",
     "output_type": "stream",
     "text": [
      " 72%|███████▏  | 921/1276 [2:55:38<1:16:18, 12.90s/it]"
     ]
    },
    {
     "name": "stdout",
     "output_type": "stream",
     "text": [
      "STOP CODE:  Stay unchanged in the last 6 iterations\n",
      "> SA ENDS....... \n",
      "\n",
      "> avg loss: 3.602541215029164\n",
      "> For the *921_th* data_key\n",
      "> retail = 49.99,bidincrement = 0.12, bidfee = 0.6, infer PT's parameters\n",
      "> Now do SA....... \n",
      "\n"
     ]
    },
    {
     "name": "stderr",
     "output_type": "stream",
     "text": [
      " 72%|███████▏  | 922/1276 [2:55:40<57:40,  9.78s/it]  "
     ]
    },
    {
     "name": "stdout",
     "output_type": "stream",
     "text": [
      "STOP CODE:  Stay unchanged in the last 6 iterations\n",
      "> SA ENDS....... \n",
      "\n",
      "> avg loss: 5.250122357754179\n",
      "> For the *922_th* data_key\n",
      "> retail = 49.99,bidincrement = 0.24, bidfee = 0.6, infer PT's parameters\n",
      "> Now do SA....... \n",
      "\n"
     ]
    },
    {
     "name": "stderr",
     "output_type": "stream",
     "text": [
      " 72%|███████▏  | 923/1276 [2:55:42<44:08,  7.50s/it]"
     ]
    },
    {
     "name": "stdout",
     "output_type": "stream",
     "text": [
      "STOP CODE:  Stay unchanged in the last 6 iterations\n",
      "> SA ENDS....... \n",
      "\n",
      "> avg loss: 2.699379659347995\n",
      "> For the *923_th* data_key\n",
      "> retail = 59.99,bidincrement = 0.12, bidfee = 0.6, infer PT's parameters\n",
      "> Now do SA....... \n",
      "\n"
     ]
    },
    {
     "name": "stderr",
     "output_type": "stream",
     "text": [
      " 72%|███████▏  | 924/1276 [2:55:52<48:47,  8.32s/it]"
     ]
    },
    {
     "name": "stdout",
     "output_type": "stream",
     "text": [
      "STOP CODE:  Stay unchanged in the last 6 iterations\n",
      "> SA ENDS....... \n",
      "\n",
      "> avg loss: 5.466958466508244\n",
      "> For the *924_th* data_key\n",
      "> retail = 59.99,bidincrement = 0.12, bidfee = 0.6, infer PT's parameters\n",
      "> Now do SA....... \n",
      "\n"
     ]
    },
    {
     "name": "stderr",
     "output_type": "stream",
     "text": [
      " 72%|███████▏  | 925/1276 [2:55:58<43:25,  7.42s/it]"
     ]
    },
    {
     "name": "stdout",
     "output_type": "stream",
     "text": [
      "STOP CODE:  Stay unchanged in the last 6 iterations\n",
      "> SA ENDS....... \n",
      "\n",
      "> avg loss: 5.394396024509755\n",
      "> For the *925_th* data_key\n",
      "> retail = 59.99,bidincrement = 0.12, bidfee = 0.6, infer PT's parameters\n",
      "> Now do SA....... \n",
      "\n"
     ]
    },
    {
     "name": "stderr",
     "output_type": "stream",
     "text": [
      " 73%|███████▎  | 926/1276 [2:56:05<43:04,  7.39s/it]"
     ]
    },
    {
     "name": "stdout",
     "output_type": "stream",
     "text": [
      "STOP CODE:  Stay unchanged in the last 6 iterations\n",
      "> SA ENDS....... \n",
      "\n",
      "> avg loss: 5.526305512796056\n",
      "> For the *926_th* data_key\n",
      "> retail = 49.99,bidincrement = 0.12, bidfee = 0.6, infer PT's parameters\n",
      "> Now do SA....... \n",
      "\n"
     ]
    },
    {
     "name": "stderr",
     "output_type": "stream",
     "text": [
      " 73%|███████▎  | 927/1276 [2:56:09<37:42,  6.48s/it]"
     ]
    },
    {
     "name": "stdout",
     "output_type": "stream",
     "text": [
      "STOP CODE:  Stay unchanged in the last 6 iterations\n",
      "> SA ENDS....... \n",
      "\n",
      "> avg loss: 5.250289135922597\n",
      "> For the *927_th* data_key\n",
      "> retail = 799.99,bidincrement = 0.06, bidfee = 0.6, infer PT's parameters\n",
      "> Now do SA....... \n",
      "\n"
     ]
    },
    {
     "name": "stderr",
     "output_type": "stream",
     "text": [
      " 73%|███████▎  | 928/1276 [2:57:10<2:11:21, 22.65s/it]"
     ]
    },
    {
     "name": "stdout",
     "output_type": "stream",
     "text": [
      "> 超时\n",
      "> SA ENDS....... \n",
      "\n",
      "> avg loss: 14.211797695433502\n",
      "> For the *928_th* data_key\n",
      "> retail = 799.99,bidincrement = 0.02, bidfee = 0.6, infer PT's parameters\n",
      "> Now do SA....... \n",
      "\n"
     ]
    },
    {
     "name": "stderr",
     "output_type": "stream",
     "text": [
      " 73%|███████▎  | 929/1276 [2:58:10<3:16:52, 34.04s/it]"
     ]
    },
    {
     "name": "stdout",
     "output_type": "stream",
     "text": [
      "> 超时\n",
      "> SA ENDS....... \n",
      "\n",
      "> avg loss: 14.890600879725673\n",
      "> For the *929_th* data_key\n",
      "> retail = 19.99,bidincrement = 0.12, bidfee = 0.6, infer PT's parameters\n",
      "> Now do SA....... \n",
      "\n"
     ]
    },
    {
     "name": "stderr",
     "output_type": "stream",
     "text": [
      " 73%|███████▎  | 930/1276 [2:58:13<2:21:29, 24.54s/it]"
     ]
    },
    {
     "name": "stdout",
     "output_type": "stream",
     "text": [
      "STOP CODE:  Stay unchanged in the last 6 iterations\n",
      "> SA ENDS....... \n",
      "\n",
      "> avg loss: 4.316885758524615\n",
      "> For the *930_th* data_key\n",
      "> retail = 849.99,bidincrement = 0.02, bidfee = 0.6, infer PT's parameters\n",
      "> Now do SA....... \n",
      "\n"
     ]
    },
    {
     "name": "stderr",
     "output_type": "stream",
     "text": [
      " 73%|███████▎  | 931/1276 [2:59:14<3:24:00, 35.48s/it]"
     ]
    },
    {
     "name": "stdout",
     "output_type": "stream",
     "text": [
      "> 超时\n",
      "> SA ENDS....... \n",
      "\n",
      "> avg loss: 14.595959972263339\n",
      "> For the *931_th* data_key\n",
      "> retail = 2799.99,bidincrement = 0.02, bidfee = 0.6, infer PT's parameters\n",
      "> Now do SA....... \n",
      "\n"
     ]
    },
    {
     "name": "stderr",
     "output_type": "stream",
     "text": [
      " 73%|███████▎  | 932/1276 [3:00:17<4:11:23, 43.85s/it]"
     ]
    },
    {
     "name": "stdout",
     "output_type": "stream",
     "text": [
      "> 超时\n",
      "> SA ENDS....... \n",
      "\n",
      "> avg loss: 21.91484110121768\n",
      "> For the *932_th* data_key\n",
      "> retail = 1599.99,bidincrement = 0.02, bidfee = 0.6, infer PT's parameters\n",
      "> Now do SA....... \n",
      "\n"
     ]
    },
    {
     "name": "stderr",
     "output_type": "stream",
     "text": [
      " 73%|███████▎  | 933/1276 [3:01:18<4:40:34, 49.08s/it]"
     ]
    },
    {
     "name": "stdout",
     "output_type": "stream",
     "text": [
      "> 超时\n",
      "> SA ENDS....... \n",
      "\n",
      "> avg loss: 18.913465067439006\n",
      "> For the *933_th* data_key\n",
      "> retail = 249.99,bidincrement = 0.12, bidfee = 0.6, infer PT's parameters\n",
      "> Now do SA....... \n",
      "\n"
     ]
    },
    {
     "name": "stderr",
     "output_type": "stream",
     "text": [
      " 73%|███████▎  | 934/1276 [3:01:38<3:49:50, 40.32s/it]"
     ]
    },
    {
     "name": "stdout",
     "output_type": "stream",
     "text": [
      "STOP CODE:  Stay unchanged in the last 6 iterations\n",
      "> SA ENDS....... \n",
      "\n",
      "> avg loss: 6.84371901334232\n",
      "> For the *934_th* data_key\n",
      "> retail = 1749.0,bidincrement = 0.06, bidfee = 0.6, infer PT's parameters\n",
      "> Now do SA....... \n",
      "\n"
     ]
    },
    {
     "name": "stderr",
     "output_type": "stream",
     "text": [
      " 73%|███████▎  | 935/1276 [3:02:39<4:23:18, 46.33s/it]"
     ]
    },
    {
     "name": "stdout",
     "output_type": "stream",
     "text": [
      "> 超时\n",
      "> SA ENDS....... \n",
      "\n",
      "> avg loss: 19.020496550537793\n",
      "> For the *935_th* data_key\n",
      "> retail = 140.0,bidincrement = 0.24, bidfee = 0.6, infer PT's parameters\n",
      "> Now do SA....... \n",
      "\n"
     ]
    },
    {
     "name": "stderr",
     "output_type": "stream",
     "text": [
      " 73%|███████▎  | 936/1276 [3:02:42<3:09:03, 33.36s/it]"
     ]
    },
    {
     "name": "stdout",
     "output_type": "stream",
     "text": [
      "STOP CODE:  Stay unchanged in the last 6 iterations\n",
      "> SA ENDS....... \n",
      "\n",
      "> avg loss: 2.8762016890906317\n",
      "> For the *936_th* data_key\n",
      "> retail = 1169.0,bidincrement = 0.02, bidfee = 0.6, infer PT's parameters\n",
      "> Now do SA....... \n",
      "\n"
     ]
    },
    {
     "name": "stderr",
     "output_type": "stream",
     "text": [
      " 73%|███████▎  | 937/1276 [3:03:43<3:55:34, 41.70s/it]"
     ]
    },
    {
     "name": "stdout",
     "output_type": "stream",
     "text": [
      "> 超时\n",
      "> SA ENDS....... \n",
      "\n",
      "> avg loss: 16.993146038805296\n",
      "> For the *937_th* data_key\n",
      "> retail = 50.99,bidincrement = 0.24, bidfee = 0.6, infer PT's parameters\n",
      "> Now do SA....... \n",
      "\n"
     ]
    },
    {
     "name": "stderr",
     "output_type": "stream",
     "text": [
      " 74%|███████▎  | 938/1276 [3:03:44<2:46:29, 29.55s/it]"
     ]
    },
    {
     "name": "stdout",
     "output_type": "stream",
     "text": [
      "STOP CODE:  Stay unchanged in the last 6 iterations\n",
      "> SA ENDS....... \n",
      "\n",
      "> avg loss: 1.852639724788682\n",
      "> For the *938_th* data_key\n",
      "> retail = 86.99,bidincrement = 0.12, bidfee = 0.6, infer PT's parameters\n",
      "> Now do SA....... \n",
      "\n"
     ]
    },
    {
     "name": "stderr",
     "output_type": "stream",
     "text": [
      " 74%|███████▎  | 939/1276 [3:03:56<2:16:33, 24.31s/it]"
     ]
    },
    {
     "name": "stdout",
     "output_type": "stream",
     "text": [
      "STOP CODE:  Stay unchanged in the last 6 iterations\n",
      "> SA ENDS....... \n",
      "\n",
      "> avg loss: 5.788166784565061\n",
      "> For the *939_th* data_key\n",
      "> retail = 39.95,bidincrement = 0.12, bidfee = 0.6, infer PT's parameters\n",
      "> Now do SA....... \n",
      "\n"
     ]
    },
    {
     "name": "stderr",
     "output_type": "stream",
     "text": [
      " 74%|███████▎  | 940/1276 [3:04:02<1:44:30, 18.66s/it]"
     ]
    },
    {
     "name": "stdout",
     "output_type": "stream",
     "text": [
      "STOP CODE:  Stay unchanged in the last 6 iterations\n",
      "> SA ENDS....... \n",
      "\n",
      "> avg loss: 4.97510640879712\n",
      "> For the *940_th* data_key\n",
      "> retail = 29.99,bidincrement = 0.12, bidfee = 0.6, infer PT's parameters\n",
      "> Now do SA....... \n",
      "\n"
     ]
    },
    {
     "name": "stderr",
     "output_type": "stream",
     "text": [
      " 74%|███████▎  | 941/1276 [3:04:06<1:19:42, 14.28s/it]"
     ]
    },
    {
     "name": "stdout",
     "output_type": "stream",
     "text": [
      "STOP CODE:  Stay unchanged in the last 6 iterations\n",
      "> SA ENDS....... \n",
      "\n",
      "> avg loss: 4.740870916147944\n",
      "> For the *941_th* data_key\n",
      "> retail = 39.99,bidincrement = 0.12, bidfee = 0.6, infer PT's parameters\n",
      "> Now do SA....... \n",
      "\n"
     ]
    },
    {
     "name": "stderr",
     "output_type": "stream",
     "text": [
      " 74%|███████▍  | 942/1276 [3:04:09<1:00:18, 10.83s/it]"
     ]
    },
    {
     "name": "stdout",
     "output_type": "stream",
     "text": [
      "STOP CODE:  Stay unchanged in the last 6 iterations\n",
      "> SA ENDS....... \n",
      "\n",
      "> avg loss: 4.993898967092836\n",
      "> For the *942_th* data_key\n",
      "> retail = 29.99,bidincrement = 0.12, bidfee = 0.6, infer PT's parameters\n",
      "> Now do SA....... \n",
      "\n"
     ]
    },
    {
     "name": "stderr",
     "output_type": "stream",
     "text": [
      " 74%|███████▍  | 943/1276 [3:04:11<45:54,  8.27s/it]  "
     ]
    },
    {
     "name": "stdout",
     "output_type": "stream",
     "text": [
      "STOP CODE:  Stay unchanged in the last 6 iterations\n",
      "> SA ENDS....... \n",
      "\n",
      "> avg loss: 4.704574673791118\n",
      "> For the *943_th* data_key\n",
      "> retail = 34.99,bidincrement = 0.12, bidfee = 0.6, infer PT's parameters\n",
      "> Now do SA....... \n",
      "\n"
     ]
    },
    {
     "name": "stderr",
     "output_type": "stream",
     "text": [
      " 74%|███████▍  | 944/1276 [3:04:13<35:54,  6.49s/it]"
     ]
    },
    {
     "name": "stdout",
     "output_type": "stream",
     "text": [
      "STOP CODE:  Stay unchanged in the last 6 iterations\n",
      "> SA ENDS....... \n",
      "\n",
      "> avg loss: 4.862282686196732\n",
      "> For the *944_th* data_key\n",
      "> retail = 29.99,bidincrement = 0.12, bidfee = 0.6, infer PT's parameters\n",
      "> Now do SA....... \n",
      "\n"
     ]
    },
    {
     "name": "stderr",
     "output_type": "stream",
     "text": [
      " 74%|███████▍  | 945/1276 [3:04:14<27:04,  4.91s/it]"
     ]
    },
    {
     "name": "stdout",
     "output_type": "stream",
     "text": [
      "STOP CODE:  Stay unchanged in the last 6 iterations\n",
      "> SA ENDS....... \n",
      "\n",
      "> avg loss: 4.641720980753796\n",
      "> For the *945_th* data_key\n",
      "> retail = 59.99,bidincrement = 0.12, bidfee = 0.6, infer PT's parameters\n",
      "> Now do SA....... \n",
      "\n"
     ]
    },
    {
     "name": "stderr",
     "output_type": "stream",
     "text": [
      " 74%|███████▍  | 946/1276 [3:04:18<25:17,  4.60s/it]"
     ]
    },
    {
     "name": "stdout",
     "output_type": "stream",
     "text": [
      "STOP CODE:  Stay unchanged in the last 6 iterations\n",
      "> SA ENDS....... \n",
      "\n",
      "> avg loss: 5.425857232057639\n",
      "> For the *946_th* data_key\n",
      "> retail = 61.0,bidincrement = 0.12, bidfee = 0.6, infer PT's parameters\n",
      "> Now do SA....... \n",
      "\n"
     ]
    },
    {
     "name": "stderr",
     "output_type": "stream",
     "text": [
      " 74%|███████▍  | 947/1276 [3:04:21<21:23,  3.90s/it]"
     ]
    },
    {
     "name": "stdout",
     "output_type": "stream",
     "text": [
      "STOP CODE:  Stay unchanged in the last 6 iterations\n",
      "> SA ENDS....... \n",
      "\n",
      "> avg loss: 5.621675616149371\n",
      "> For the *947_th* data_key\n",
      "> retail = 1999.99,bidincrement = 0.02, bidfee = 0.6, infer PT's parameters\n",
      "> Now do SA....... \n",
      "\n"
     ]
    },
    {
     "name": "stderr",
     "output_type": "stream",
     "text": [
      " 74%|███████▍  | 948/1276 [3:05:23<1:57:09, 21.43s/it]"
     ]
    },
    {
     "name": "stdout",
     "output_type": "stream",
     "text": [
      "> 超时\n",
      "> SA ENDS....... \n",
      "\n",
      "> avg loss: 19.728804132426667\n",
      "> For the *948_th* data_key\n",
      "> retail = 72.0,bidincrement = 0.24, bidfee = 0.6, infer PT's parameters\n",
      "> Now do SA....... \n",
      "\n"
     ]
    },
    {
     "name": "stderr",
     "output_type": "stream",
     "text": [
      " 74%|███████▍  | 949/1276 [3:05:24<1:24:07, 15.44s/it]"
     ]
    },
    {
     "name": "stdout",
     "output_type": "stream",
     "text": [
      "STOP CODE:  Stay unchanged in the last 6 iterations\n",
      "> SA ENDS....... \n",
      "\n",
      "> avg loss: 3.227077064223379\n",
      "> For the *949_th* data_key\n",
      "> retail = 67.5,bidincrement = 0.24, bidfee = 0.6, infer PT's parameters\n",
      "> Now do SA....... \n",
      "\n"
     ]
    },
    {
     "name": "stderr",
     "output_type": "stream",
     "text": [
      " 74%|███████▍  | 950/1276 [3:05:31<1:08:50, 12.67s/it]"
     ]
    },
    {
     "name": "stdout",
     "output_type": "stream",
     "text": [
      "STOP CODE:  Stay unchanged in the last 6 iterations\n",
      "> SA ENDS....... \n",
      "\n",
      "> avg loss: 3.089674877150571\n",
      "> For the *950_th* data_key\n",
      "> retail = 129.99,bidincrement = 0.12, bidfee = 0.6, infer PT's parameters\n",
      "> Now do SA....... \n",
      "\n"
     ]
    },
    {
     "name": "stderr",
     "output_type": "stream",
     "text": [
      " 75%|███████▍  | 951/1276 [3:05:37<57:48, 10.67s/it]  "
     ]
    },
    {
     "name": "stdout",
     "output_type": "stream",
     "text": [
      "STOP CODE:  Stay unchanged in the last 6 iterations\n",
      "> SA ENDS....... \n",
      "\n",
      "> avg loss: 6.213835754855368\n",
      "> For the *951_th* data_key\n",
      "> retail = 69.99,bidincrement = 0.24, bidfee = 0.6, infer PT's parameters\n",
      "> Now do SA....... \n",
      "\n"
     ]
    },
    {
     "name": "stderr",
     "output_type": "stream",
     "text": [
      " 75%|███████▍  | 952/1276 [3:05:38<42:43,  7.91s/it]"
     ]
    },
    {
     "name": "stdout",
     "output_type": "stream",
     "text": [
      "STOP CODE:  Stay unchanged in the last 6 iterations\n",
      "> SA ENDS....... \n",
      "\n",
      "> avg loss: 3.1931681932392366\n",
      "> For the *952_th* data_key\n",
      "> retail = 99.99,bidincrement = 0.24, bidfee = 0.6, infer PT's parameters\n",
      "> Now do SA....... \n",
      "\n"
     ]
    },
    {
     "name": "stderr",
     "output_type": "stream",
     "text": [
      " 75%|███████▍  | 953/1276 [3:05:40<32:52,  6.11s/it]"
     ]
    },
    {
     "name": "stdout",
     "output_type": "stream",
     "text": [
      "STOP CODE:  Stay unchanged in the last 6 iterations\n",
      "> SA ENDS....... \n",
      "\n",
      "> avg loss: 2.849272346387417\n",
      "> For the *953_th* data_key\n",
      "> retail = 84.99,bidincrement = 0.24, bidfee = 0.6, infer PT's parameters\n",
      "> Now do SA....... \n",
      "\n"
     ]
    },
    {
     "name": "stderr",
     "output_type": "stream",
     "text": [
      " 75%|███████▍  | 954/1276 [3:05:43<28:07,  5.24s/it]"
     ]
    },
    {
     "name": "stdout",
     "output_type": "stream",
     "text": [
      "STOP CODE:  Stay unchanged in the last 6 iterations\n",
      "> SA ENDS....... \n",
      "\n",
      "> avg loss: 2.9262111116660097\n",
      "> For the *954_th* data_key\n",
      "> retail = 31.99,bidincrement = 0.12, bidfee = 0.6, infer PT's parameters\n",
      "> Now do SA....... \n",
      "\n"
     ]
    },
    {
     "name": "stderr",
     "output_type": "stream",
     "text": [
      " 75%|███████▍  | 955/1276 [3:05:45<22:00,  4.11s/it]"
     ]
    },
    {
     "name": "stdout",
     "output_type": "stream",
     "text": [
      "STOP CODE:  Stay unchanged in the last 6 iterations\n",
      "> SA ENDS....... \n",
      "\n",
      "> avg loss: 4.722247368438929\n",
      "> For the *955_th* data_key\n",
      "> retail = 899.99,bidincrement = 0.06, bidfee = 0.6, infer PT's parameters\n",
      "> Now do SA....... \n",
      "\n"
     ]
    },
    {
     "name": "stderr",
     "output_type": "stream",
     "text": [
      " 75%|███████▍  | 956/1276 [3:06:30<1:27:29, 16.40s/it]"
     ]
    },
    {
     "name": "stdout",
     "output_type": "stream",
     "text": [
      "STOP CODE:  Stay unchanged in the last 6 iterations\n",
      "> SA ENDS....... \n",
      "\n",
      "> avg loss: 8.260019624017998\n",
      "> For the *956_th* data_key\n",
      "> retail = 39.99,bidincrement = 0.12, bidfee = 0.6, infer PT's parameters\n",
      "> Now do SA....... \n",
      "\n"
     ]
    },
    {
     "name": "stderr",
     "output_type": "stream",
     "text": [
      " 75%|███████▌  | 957/1276 [3:06:31<1:03:14, 11.90s/it]"
     ]
    },
    {
     "name": "stdout",
     "output_type": "stream",
     "text": [
      "STOP CODE:  Stay unchanged in the last 6 iterations\n",
      "> SA ENDS....... \n",
      "\n",
      "> avg loss: 5.17478240159517\n",
      "> For the *957_th* data_key\n",
      "> retail = 34.99,bidincrement = 0.12, bidfee = 0.6, infer PT's parameters\n",
      "> Now do SA....... \n",
      "\n"
     ]
    },
    {
     "name": "stderr",
     "output_type": "stream",
     "text": [
      " 75%|███████▌  | 958/1276 [3:06:33<46:41,  8.81s/it]  "
     ]
    },
    {
     "name": "stdout",
     "output_type": "stream",
     "text": [
      "STOP CODE:  Stay unchanged in the last 6 iterations\n",
      "> SA ENDS....... \n",
      "\n",
      "> avg loss: 4.811872663428427\n",
      "> For the *958_th* data_key\n",
      "> retail = 34.99,bidincrement = 0.12, bidfee = 0.6, infer PT's parameters\n",
      "> Now do SA....... \n",
      "\n"
     ]
    },
    {
     "name": "stderr",
     "output_type": "stream",
     "text": [
      " 75%|███████▌  | 959/1276 [3:06:35<35:23,  6.70s/it]"
     ]
    },
    {
     "name": "stdout",
     "output_type": "stream",
     "text": [
      "STOP CODE:  Stay unchanged in the last 6 iterations\n",
      "> SA ENDS....... \n",
      "\n",
      "> avg loss: 5.024131067685138\n",
      "> For the *959_th* data_key\n",
      "> retail = 169.99,bidincrement = 0.12, bidfee = 0.6, infer PT's parameters\n",
      "> Now do SA....... \n",
      "\n"
     ]
    },
    {
     "name": "stderr",
     "output_type": "stream",
     "text": [
      " 75%|███████▌  | 960/1276 [3:06:44<39:06,  7.43s/it]"
     ]
    },
    {
     "name": "stdout",
     "output_type": "stream",
     "text": [
      "STOP CODE:  Stay unchanged in the last 6 iterations\n",
      "> SA ENDS....... \n",
      "\n",
      "> avg loss: 6.784310447880306\n",
      "> For the *960_th* data_key\n",
      "> retail = 59.99,bidincrement = 0.12, bidfee = 0.6, infer PT's parameters\n",
      "> Now do SA....... \n",
      "\n"
     ]
    },
    {
     "name": "stderr",
     "output_type": "stream",
     "text": [
      " 75%|███████▌  | 961/1276 [3:06:47<32:41,  6.23s/it]"
     ]
    },
    {
     "name": "stdout",
     "output_type": "stream",
     "text": [
      "STOP CODE:  Stay unchanged in the last 6 iterations\n",
      "> SA ENDS....... \n",
      "\n",
      "> avg loss: 5.562832402914749\n",
      "> For the *961_th* data_key\n",
      "> retail = 59.99,bidincrement = 0.12, bidfee = 0.6, infer PT's parameters\n",
      "> Now do SA....... \n",
      "\n"
     ]
    },
    {
     "name": "stderr",
     "output_type": "stream",
     "text": [
      " 75%|███████▌  | 962/1276 [3:06:51<29:03,  5.55s/it]"
     ]
    },
    {
     "name": "stdout",
     "output_type": "stream",
     "text": [
      "STOP CODE:  Stay unchanged in the last 6 iterations\n",
      "> SA ENDS....... \n",
      "\n",
      "> avg loss: 5.447044088543834\n",
      "> For the *962_th* data_key\n",
      "> retail = 19.23,bidincrement = 0.12, bidfee = 0.6, infer PT's parameters\n",
      "> Now do SA....... \n",
      "\n"
     ]
    },
    {
     "name": "stderr",
     "output_type": "stream",
     "text": [
      " 75%|███████▌  | 963/1276 [3:06:52<21:48,  4.18s/it]"
     ]
    },
    {
     "name": "stdout",
     "output_type": "stream",
     "text": [
      "STOP CODE:  Stay unchanged in the last 6 iterations\n",
      "> SA ENDS....... \n",
      "\n",
      "> avg loss: 4.144919226236263\n",
      "> For the *963_th* data_key\n",
      "> retail = 1199.99,bidincrement = 0.02, bidfee = 0.6, infer PT's parameters\n",
      "> Now do SA....... \n",
      "\n"
     ]
    },
    {
     "name": "stderr",
     "output_type": "stream",
     "text": [
      " 76%|███████▌  | 964/1276 [3:07:53<1:49:53, 21.13s/it]"
     ]
    },
    {
     "name": "stdout",
     "output_type": "stream",
     "text": [
      "> 超时\n",
      "> SA ENDS....... \n",
      "\n",
      "> avg loss: 17.257877203689745\n",
      "> For the *964_th* data_key\n",
      "> retail = 299.99,bidincrement = 0.12, bidfee = 0.6, infer PT's parameters\n",
      "> Now do SA....... \n",
      "\n"
     ]
    },
    {
     "name": "stderr",
     "output_type": "stream",
     "text": [
      " 76%|███████▌  | 965/1276 [3:08:06<1:36:47, 18.68s/it]"
     ]
    },
    {
     "name": "stdout",
     "output_type": "stream",
     "text": [
      "STOP CODE:  Stay unchanged in the last 6 iterations\n",
      "> SA ENDS....... \n",
      "\n",
      "> avg loss: 7.322552155148581\n",
      "> For the *965_th* data_key\n",
      "> retail = 69.99,bidincrement = 0.24, bidfee = 0.6, infer PT's parameters\n",
      "> Now do SA....... \n",
      "\n"
     ]
    },
    {
     "name": "stderr",
     "output_type": "stream",
     "text": [
      " 76%|███████▌  | 966/1276 [3:08:10<1:13:34, 14.24s/it]"
     ]
    },
    {
     "name": "stdout",
     "output_type": "stream",
     "text": [
      "STOP CODE:  Stay unchanged in the last 6 iterations\n",
      "> SA ENDS....... \n",
      "\n",
      "> avg loss: 2.1843237473508093\n",
      "> For the *966_th* data_key\n",
      "> retail = 19.74,bidincrement = 0.24, bidfee = 0.6, infer PT's parameters\n",
      "> Now do SA....... \n",
      "\n"
     ]
    },
    {
     "name": "stderr",
     "output_type": "stream",
     "text": [
      " 76%|███████▌  | 967/1276 [3:08:11<53:04, 10.30s/it]  "
     ]
    },
    {
     "name": "stdout",
     "output_type": "stream",
     "text": [
      "STOP CODE:  Stay unchanged in the last 6 iterations\n",
      "> SA ENDS....... \n",
      "\n",
      "> avg loss: 2.650243948470866\n",
      "> For the *967_th* data_key\n",
      "> retail = 169.99,bidincrement = 0.24, bidfee = 0.6, infer PT's parameters\n",
      "> Now do SA....... \n",
      "\n"
     ]
    },
    {
     "name": "stderr",
     "output_type": "stream",
     "text": [
      " 76%|███████▌  | 968/1276 [3:08:19<49:51,  9.71s/it]"
     ]
    },
    {
     "name": "stdout",
     "output_type": "stream",
     "text": [
      "STOP CODE:  Stay unchanged in the last 6 iterations\n",
      "> SA ENDS....... \n",
      "\n",
      "> avg loss: 2.986680565948149\n",
      "> For the *968_th* data_key\n",
      "> retail = 129.99,bidincrement = 0.24, bidfee = 0.6, infer PT's parameters\n",
      "> Now do SA....... \n",
      "\n"
     ]
    },
    {
     "name": "stderr",
     "output_type": "stream",
     "text": [
      " 76%|███████▌  | 969/1276 [3:08:22<40:01,  7.82s/it]"
     ]
    },
    {
     "name": "stdout",
     "output_type": "stream",
     "text": [
      "STOP CODE:  Stay unchanged in the last 6 iterations\n",
      "> SA ENDS....... \n",
      "\n",
      "> avg loss: 2.5736984432311094\n",
      "> For the *969_th* data_key\n",
      "> retail = 589.99,bidincrement = 0.06, bidfee = 0.6, infer PT's parameters\n",
      "> Now do SA....... \n",
      "\n"
     ]
    },
    {
     "name": "stderr",
     "output_type": "stream",
     "text": [
      " 76%|███████▌  | 970/1276 [3:08:49<1:08:56, 13.52s/it]"
     ]
    },
    {
     "name": "stdout",
     "output_type": "stream",
     "text": [
      "STOP CODE:  Stay unchanged in the last 6 iterations\n",
      "> SA ENDS....... \n",
      "\n",
      "> avg loss: 7.856971636518883\n",
      "> For the *970_th* data_key\n",
      "> retail = 399.99,bidincrement = 0.12, bidfee = 0.6, infer PT's parameters\n",
      "> Now do SA....... \n",
      "\n"
     ]
    },
    {
     "name": "stderr",
     "output_type": "stream",
     "text": [
      " 76%|███████▌  | 971/1276 [3:09:08<1:16:31, 15.05s/it]"
     ]
    },
    {
     "name": "stdout",
     "output_type": "stream",
     "text": [
      "STOP CODE:  Stay unchanged in the last 6 iterations\n",
      "> SA ENDS....... \n",
      "\n",
      "> avg loss: 7.358876242590961\n",
      "> For the *971_th* data_key\n",
      "> retail = 549.95,bidincrement = 0.06, bidfee = 0.6, infer PT's parameters\n",
      "> Now do SA....... \n",
      "\n"
     ]
    },
    {
     "name": "stderr",
     "output_type": "stream",
     "text": [
      " 76%|███████▌  | 972/1276 [3:09:40<1:42:30, 20.23s/it]"
     ]
    },
    {
     "name": "stdout",
     "output_type": "stream",
     "text": [
      "STOP CODE:  Stay unchanged in the last 6 iterations\n",
      "> SA ENDS....... \n",
      "\n",
      "> avg loss: 8.001176089160346\n",
      "> For the *972_th* data_key\n",
      "> retail = 699.99,bidincrement = 0.06, bidfee = 0.6, infer PT's parameters\n",
      "> Now do SA....... \n",
      "\n"
     ]
    },
    {
     "name": "stderr",
     "output_type": "stream",
     "text": [
      " 76%|███████▋  | 973/1276 [3:10:16<2:05:17, 24.81s/it]"
     ]
    },
    {
     "name": "stdout",
     "output_type": "stream",
     "text": [
      "STOP CODE:  Stay unchanged in the last 6 iterations\n",
      "> SA ENDS....... \n",
      "\n",
      "> avg loss: 8.093632622970107\n",
      "> For the *973_th* data_key\n",
      "> retail = 99.99,bidincrement = 0.12, bidfee = 0.6, infer PT's parameters\n",
      "> Now do SA....... \n",
      "\n"
     ]
    },
    {
     "name": "stderr",
     "output_type": "stream",
     "text": [
      " 76%|███████▋  | 974/1276 [3:10:18<1:31:27, 18.17s/it]"
     ]
    },
    {
     "name": "stdout",
     "output_type": "stream",
     "text": [
      "STOP CODE:  Stay unchanged in the last 6 iterations\n",
      "> SA ENDS....... \n",
      "\n",
      "> avg loss: 6.058792425478777\n",
      "> For the *974_th* data_key\n",
      "> retail = 47.0,bidincrement = 0.24, bidfee = 0.6, infer PT's parameters\n",
      "> Now do SA....... \n",
      "\n"
     ]
    },
    {
     "name": "stderr",
     "output_type": "stream",
     "text": [
      " 76%|███████▋  | 975/1276 [3:10:21<1:08:11, 13.59s/it]"
     ]
    },
    {
     "name": "stdout",
     "output_type": "stream",
     "text": [
      "STOP CODE:  Stay unchanged in the last 6 iterations\n",
      "> SA ENDS....... \n",
      "\n",
      "> avg loss: 2.648607670478531\n",
      "> For the *975_th* data_key\n",
      "> retail = 159.99,bidincrement = 0.12, bidfee = 0.6, infer PT's parameters\n",
      "> Now do SA....... \n",
      "\n"
     ]
    },
    {
     "name": "stderr",
     "output_type": "stream",
     "text": [
      " 76%|███████▋  | 976/1276 [3:10:25<53:31, 10.71s/it]  "
     ]
    },
    {
     "name": "stdout",
     "output_type": "stream",
     "text": [
      "STOP CODE:  Stay unchanged in the last 6 iterations\n",
      "> SA ENDS....... \n",
      "\n",
      "> avg loss: 6.539440119561358\n",
      "> For the *976_th* data_key\n",
      "> retail = 699.99,bidincrement = 0.06, bidfee = 0.6, infer PT's parameters\n",
      "> Now do SA....... \n",
      "\n"
     ]
    },
    {
     "name": "stderr",
     "output_type": "stream",
     "text": [
      " 77%|███████▋  | 977/1276 [3:11:19<1:57:18, 23.54s/it]"
     ]
    },
    {
     "name": "stdout",
     "output_type": "stream",
     "text": [
      "STOP CODE:  Stay unchanged in the last 6 iterations\n",
      "> SA ENDS....... \n",
      "\n",
      "> avg loss: 7.988721761258194\n",
      "> For the *977_th* data_key\n",
      "> retail = 29.99,bidincrement = 0.24, bidfee = 0.6, infer PT's parameters\n",
      "> Now do SA....... \n",
      "\n"
     ]
    },
    {
     "name": "stderr",
     "output_type": "stream",
     "text": [
      " 77%|███████▋  | 978/1276 [3:11:22<1:26:55, 17.50s/it]"
     ]
    },
    {
     "name": "stdout",
     "output_type": "stream",
     "text": [
      "STOP CODE:  Stay unchanged in the last 6 iterations\n",
      "> SA ENDS....... \n",
      "\n",
      "> avg loss: 1.7321310647166759\n",
      "> For the *978_th* data_key\n",
      "> retail = 39.99,bidincrement = 0.24, bidfee = 0.6, infer PT's parameters\n",
      "> Now do SA....... \n",
      "\n"
     ]
    },
    {
     "name": "stderr",
     "output_type": "stream",
     "text": [
      " 77%|███████▋  | 979/1276 [3:11:25<1:05:23, 13.21s/it]"
     ]
    },
    {
     "name": "stdout",
     "output_type": "stream",
     "text": [
      "STOP CODE:  Stay unchanged in the last 6 iterations\n",
      "> SA ENDS....... \n",
      "\n",
      "> avg loss: 3.119460884403877\n",
      "> For the *979_th* data_key\n",
      "> retail = 154.99,bidincrement = 0.12, bidfee = 0.6, infer PT's parameters\n",
      "> Now do SA....... \n",
      "\n"
     ]
    },
    {
     "name": "stderr",
     "output_type": "stream",
     "text": [
      " 77%|███████▋  | 980/1276 [3:11:35<59:57, 12.15s/it]  "
     ]
    },
    {
     "name": "stdout",
     "output_type": "stream",
     "text": [
      "STOP CODE:  Stay unchanged in the last 6 iterations\n",
      "> SA ENDS....... \n",
      "\n",
      "> avg loss: 6.356601580965397\n",
      "> For the *980_th* data_key\n",
      "> retail = 89.99,bidincrement = 0.24, bidfee = 0.6, infer PT's parameters\n",
      "> Now do SA....... \n",
      "\n"
     ]
    },
    {
     "name": "stderr",
     "output_type": "stream",
     "text": [
      " 77%|███████▋  | 981/1276 [3:11:38<46:27,  9.45s/it]"
     ]
    },
    {
     "name": "stdout",
     "output_type": "stream",
     "text": [
      "STOP CODE:  Stay unchanged in the last 6 iterations\n",
      "> SA ENDS....... \n",
      "\n",
      "> avg loss: 2.275173177057305\n",
      "> For the *981_th* data_key\n",
      "> retail = 30.0,bidincrement = 0.06, bidfee = 0.6, infer PT's parameters\n",
      "> Now do SA....... \n",
      "\n"
     ]
    },
    {
     "name": "stderr",
     "output_type": "stream",
     "text": [
      " 77%|███████▋  | 982/1276 [3:11:40<35:26,  7.23s/it]"
     ]
    },
    {
     "name": "stdout",
     "output_type": "stream",
     "text": [
      "STOP CODE:  Stay unchanged in the last 6 iterations\n",
      "> SA ENDS....... \n",
      "\n",
      "> avg loss: 4.937224995818269\n",
      "> For the *982_th* data_key\n",
      "> retail = 180.0,bidincrement = 0.06, bidfee = 0.6, infer PT's parameters\n",
      "> Now do SA....... \n",
      "\n"
     ]
    },
    {
     "name": "stderr",
     "output_type": "stream",
     "text": [
      " 77%|███████▋  | 983/1276 [3:12:02<57:11, 11.71s/it]"
     ]
    },
    {
     "name": "stdout",
     "output_type": "stream",
     "text": [
      "STOP CODE:  Stay unchanged in the last 6 iterations\n",
      "> SA ENDS....... \n",
      "\n",
      "> avg loss: 6.568063336070733\n",
      "> For the *983_th* data_key\n",
      "> retail = 99.99,bidincrement = 0.12, bidfee = 0.6, infer PT's parameters\n",
      "> Now do SA....... \n",
      "\n"
     ]
    },
    {
     "name": "stderr",
     "output_type": "stream",
     "text": [
      " 77%|███████▋  | 984/1276 [3:12:09<49:05, 10.09s/it]"
     ]
    },
    {
     "name": "stdout",
     "output_type": "stream",
     "text": [
      "STOP CODE:  Stay unchanged in the last 6 iterations\n",
      "> SA ENDS....... \n",
      "\n",
      "> avg loss: 5.9303767860351\n",
      "> For the *984_th* data_key\n",
      "> retail = 12.0,bidincrement = 0.06, bidfee = 0.6, infer PT's parameters\n",
      "> Now do SA....... \n",
      "\n"
     ]
    },
    {
     "name": "stderr",
     "output_type": "stream",
     "text": [
      " 77%|███████▋  | 985/1276 [3:12:11<37:17,  7.69s/it]"
     ]
    },
    {
     "name": "stdout",
     "output_type": "stream",
     "text": [
      "STOP CODE:  Stay unchanged in the last 6 iterations\n",
      "> SA ENDS....... \n",
      "\n",
      "> avg loss: 3.952260837414748\n",
      "> For the *985_th* data_key\n",
      "> retail = 45.0,bidincrement = 0.06, bidfee = 0.6, infer PT's parameters\n",
      "> Now do SA....... \n",
      "\n"
     ]
    },
    {
     "name": "stderr",
     "output_type": "stream",
     "text": [
      " 77%|███████▋  | 986/1276 [3:12:19<37:42,  7.80s/it]"
     ]
    },
    {
     "name": "stdout",
     "output_type": "stream",
     "text": [
      "STOP CODE:  Stay unchanged in the last 6 iterations\n",
      "> SA ENDS....... \n",
      "\n",
      "> avg loss: 5.251329927401662\n",
      "> For the *986_th* data_key\n",
      "> retail = 210.0,bidincrement = 0.12, bidfee = 0.6, infer PT's parameters\n",
      "> Now do SA....... \n",
      "\n"
     ]
    },
    {
     "name": "stderr",
     "output_type": "stream",
     "text": [
      " 77%|███████▋  | 987/1276 [3:12:26<36:17,  7.53s/it]"
     ]
    },
    {
     "name": "stdout",
     "output_type": "stream",
     "text": [
      "STOP CODE:  Stay unchanged in the last 6 iterations\n",
      "> SA ENDS....... \n",
      "\n",
      "> avg loss: 6.756669270605062\n",
      "> For the *987_th* data_key\n",
      "> retail = 24.99,bidincrement = 0.24, bidfee = 0.6, infer PT's parameters\n",
      "> Now do SA....... \n",
      "\n"
     ]
    },
    {
     "name": "stderr",
     "output_type": "stream",
     "text": [
      " 77%|███████▋  | 988/1276 [3:12:28<28:04,  5.85s/it]"
     ]
    },
    {
     "name": "stdout",
     "output_type": "stream",
     "text": [
      "STOP CODE:  Stay unchanged in the last 6 iterations\n",
      "> SA ENDS....... \n",
      "\n",
      "> avg loss: 2.5475446531061174\n",
      "> For the *988_th* data_key\n",
      "> retail = 49.99,bidincrement = 0.12, bidfee = 0.6, infer PT's parameters\n",
      "> Now do SA....... \n",
      "\n"
     ]
    },
    {
     "name": "stderr",
     "output_type": "stream",
     "text": [
      " 78%|███████▊  | 989/1276 [3:12:32<26:30,  5.54s/it]"
     ]
    },
    {
     "name": "stdout",
     "output_type": "stream",
     "text": [
      "STOP CODE:  Stay unchanged in the last 6 iterations\n",
      "> SA ENDS....... \n",
      "\n",
      "> avg loss: 5.248700103403853\n",
      "> For the *989_th* data_key\n",
      "> retail = 289.99,bidincrement = 0.12, bidfee = 0.6, infer PT's parameters\n",
      "> Now do SA....... \n",
      "\n"
     ]
    },
    {
     "name": "stderr",
     "output_type": "stream",
     "text": [
      " 78%|███████▊  | 990/1276 [3:12:44<35:35,  7.47s/it]"
     ]
    },
    {
     "name": "stdout",
     "output_type": "stream",
     "text": [
      "STOP CODE:  Stay unchanged in the last 6 iterations\n",
      "> SA ENDS....... \n",
      "\n",
      "> avg loss: 6.958455521020192\n",
      "> For the *990_th* data_key\n",
      "> retail = 1169.0,bidincrement = 0.06, bidfee = 0.6, infer PT's parameters\n",
      "> Now do SA....... \n",
      "\n"
     ]
    },
    {
     "name": "stderr",
     "output_type": "stream",
     "text": [
      " 78%|███████▊  | 991/1276 [3:13:45<1:50:42, 23.31s/it]"
     ]
    },
    {
     "name": "stdout",
     "output_type": "stream",
     "text": [
      "> 超时\n",
      "> SA ENDS....... \n",
      "\n",
      "> avg loss: 16.094912167387655\n",
      "> For the *991_th* data_key\n",
      "> retail = 799.99,bidincrement = 0.06, bidfee = 0.6, infer PT's parameters\n",
      "> Now do SA....... \n",
      "\n"
     ]
    },
    {
     "name": "stderr",
     "output_type": "stream",
     "text": [
      " 78%|███████▊  | 992/1276 [3:14:30<2:20:56, 29.78s/it]"
     ]
    },
    {
     "name": "stdout",
     "output_type": "stream",
     "text": [
      "STOP CODE:  Stay unchanged in the last 6 iterations\n",
      "> SA ENDS....... \n",
      "\n",
      "> avg loss: 8.069671520812035\n",
      "> For the *992_th* data_key\n",
      "> retail = 1007.0,bidincrement = 0.06, bidfee = 0.6, infer PT's parameters\n",
      "> Now do SA....... \n",
      "\n"
     ]
    },
    {
     "name": "stderr",
     "output_type": "stream",
     "text": [
      " 78%|███████▊  | 993/1276 [3:15:23<2:53:16, 36.74s/it]"
     ]
    },
    {
     "name": "stdout",
     "output_type": "stream",
     "text": [
      "STOP CODE:  Stay unchanged in the last 6 iterations\n",
      "> SA ENDS....... \n",
      "\n",
      "> avg loss: 8.58580257560048\n",
      "> For the *993_th* data_key\n",
      "> retail = 49.99,bidincrement = 0.24, bidfee = 0.6, infer PT's parameters\n",
      "> Now do SA....... \n",
      "\n"
     ]
    },
    {
     "name": "stderr",
     "output_type": "stream",
     "text": [
      " 78%|███████▊  | 994/1276 [3:15:28<2:07:58, 27.23s/it]"
     ]
    },
    {
     "name": "stdout",
     "output_type": "stream",
     "text": [
      "STOP CODE:  Stay unchanged in the last 6 iterations\n",
      "> SA ENDS....... \n",
      "\n",
      "> avg loss: 1.7231421904018291\n",
      "> For the *994_th* data_key\n",
      "> retail = 59.99,bidincrement = 0.24, bidfee = 0.6, infer PT's parameters\n",
      "> Now do SA....... \n",
      "\n"
     ]
    },
    {
     "name": "stderr",
     "output_type": "stream",
     "text": [
      " 78%|███████▊  | 995/1276 [3:15:31<1:34:22, 20.15s/it]"
     ]
    },
    {
     "name": "stdout",
     "output_type": "stream",
     "text": [
      "STOP CODE:  Stay unchanged in the last 6 iterations\n",
      "> SA ENDS....... \n",
      "\n",
      "> avg loss: 2.138382012615337\n",
      "> For the *995_th* data_key\n",
      "> retail = 44.99,bidincrement = 0.24, bidfee = 0.6, infer PT's parameters\n",
      "> Now do SA....... \n",
      "\n"
     ]
    },
    {
     "name": "stderr",
     "output_type": "stream",
     "text": [
      " 78%|███████▊  | 996/1276 [3:15:33<1:08:18, 14.64s/it]"
     ]
    },
    {
     "name": "stdout",
     "output_type": "stream",
     "text": [
      "STOP CODE:  Stay unchanged in the last 6 iterations\n",
      "> SA ENDS....... \n",
      "\n",
      "> avg loss: 2.0503666012619384\n",
      "> For the *996_th* data_key\n",
      "> retail = 79.99,bidincrement = 0.24, bidfee = 0.6, infer PT's parameters\n",
      "> Now do SA....... \n",
      "\n"
     ]
    },
    {
     "name": "stderr",
     "output_type": "stream",
     "text": [
      " 78%|███████▊  | 997/1276 [3:15:35<50:47, 10.92s/it]  "
     ]
    },
    {
     "name": "stdout",
     "output_type": "stream",
     "text": [
      "STOP CODE:  Stay unchanged in the last 6 iterations\n",
      "> SA ENDS....... \n",
      "\n",
      "> avg loss: 2.162191019386791\n",
      "> For the *997_th* data_key\n",
      "> retail = 99.99,bidincrement = 0.12, bidfee = 0.6, infer PT's parameters\n",
      "> Now do SA....... \n",
      "\n"
     ]
    },
    {
     "name": "stderr",
     "output_type": "stream",
     "text": [
      " 78%|███████▊  | 998/1276 [3:15:38<39:16,  8.48s/it]"
     ]
    },
    {
     "name": "stdout",
     "output_type": "stream",
     "text": [
      "STOP CODE:  Stay unchanged in the last 6 iterations\n",
      "> SA ENDS....... \n",
      "\n",
      "> avg loss: 6.167803215259512\n",
      "> For the *998_th* data_key\n",
      "> retail = 99.99,bidincrement = 0.12, bidfee = 0.6, infer PT's parameters\n",
      "> Now do SA....... \n",
      "\n"
     ]
    },
    {
     "name": "stderr",
     "output_type": "stream",
     "text": [
      " 78%|███████▊  | 999/1276 [3:15:45<36:34,  7.92s/it]"
     ]
    },
    {
     "name": "stdout",
     "output_type": "stream",
     "text": [
      "STOP CODE:  Stay unchanged in the last 6 iterations\n",
      "> SA ENDS....... \n",
      "\n",
      "> avg loss: 5.936676127007967\n",
      "> For the *999_th* data_key\n",
      "> retail = 129.99,bidincrement = 0.12, bidfee = 0.6, infer PT's parameters\n",
      "> Now do SA....... \n",
      "\n"
     ]
    },
    {
     "name": "stderr",
     "output_type": "stream",
     "text": [
      " 78%|███████▊  | 1000/1276 [3:15:53<36:55,  8.03s/it]"
     ]
    },
    {
     "name": "stdout",
     "output_type": "stream",
     "text": [
      "STOP CODE:  Stay unchanged in the last 6 iterations\n",
      "> SA ENDS....... \n",
      "\n",
      "> avg loss: 6.214786783671237\n",
      "> For the *1000_th* data_key\n",
      "> retail = 42.99,bidincrement = 0.24, bidfee = 0.6, infer PT's parameters\n",
      "> Now do SA....... \n",
      "\n"
     ]
    },
    {
     "name": "stderr",
     "output_type": "stream",
     "text": [
      " 78%|███████▊  | 1001/1276 [3:15:54<27:02,  5.90s/it]"
     ]
    },
    {
     "name": "stdout",
     "output_type": "stream",
     "text": [
      "STOP CODE:  Stay unchanged in the last 6 iterations\n",
      "> SA ENDS....... \n",
      "\n",
      "> avg loss: 2.785214102586571\n",
      "> For the *1001_th* data_key\n",
      "> retail = 299.99,bidincrement = 0.06, bidfee = 0.6, infer PT's parameters\n",
      "> Now do SA....... \n",
      "\n"
     ]
    },
    {
     "name": "stderr",
     "output_type": "stream",
     "text": [
      " 79%|███████▊  | 1002/1276 [3:16:22<57:06, 12.51s/it]"
     ]
    },
    {
     "name": "stdout",
     "output_type": "stream",
     "text": [
      "STOP CODE:  Stay unchanged in the last 6 iterations\n",
      "> SA ENDS....... \n",
      "\n",
      "> avg loss: 7.156266086418955\n",
      "> For the *1002_th* data_key\n",
      "> retail = 469.99,bidincrement = 0.12, bidfee = 0.6, infer PT's parameters\n",
      "> Now do SA....... \n",
      "\n"
     ]
    },
    {
     "name": "stderr",
     "output_type": "stream",
     "text": [
      " 79%|███████▊  | 1003/1276 [3:16:36<59:14, 13.02s/it]"
     ]
    },
    {
     "name": "stdout",
     "output_type": "stream",
     "text": [
      "STOP CODE:  Stay unchanged in the last 6 iterations\n",
      "> SA ENDS....... \n",
      "\n",
      "> avg loss: 7.595903399953806\n",
      "> For the *1003_th* data_key\n",
      "> retail = 389.99,bidincrement = 0.12, bidfee = 0.6, infer PT's parameters\n",
      "> Now do SA....... \n",
      "\n"
     ]
    },
    {
     "name": "stderr",
     "output_type": "stream",
     "text": [
      " 79%|███████▊  | 1004/1276 [3:16:46<54:19, 11.98s/it]"
     ]
    },
    {
     "name": "stdout",
     "output_type": "stream",
     "text": [
      "STOP CODE:  Stay unchanged in the last 6 iterations\n",
      "> SA ENDS....... \n",
      "\n",
      "> avg loss: 7.306392066419825\n",
      "> For the *1004_th* data_key\n",
      "> retail = 299.99,bidincrement = 0.06, bidfee = 0.6, infer PT's parameters\n",
      "> Now do SA....... \n",
      "\n"
     ]
    },
    {
     "name": "stderr",
     "output_type": "stream",
     "text": [
      " 79%|███████▉  | 1005/1276 [3:17:01<58:44, 13.01s/it]"
     ]
    },
    {
     "name": "stdout",
     "output_type": "stream",
     "text": [
      "STOP CODE:  Stay unchanged in the last 6 iterations\n",
      "> SA ENDS....... \n",
      "\n",
      "> avg loss: 7.184221411464044\n",
      "> For the *1005_th* data_key\n",
      "> retail = 10.0,bidincrement = 0.24, bidfee = 0.6, infer PT's parameters\n",
      "> Now do SA....... \n",
      "\n"
     ]
    },
    {
     "name": "stderr",
     "output_type": "stream",
     "text": [
      " 79%|███████▉  | 1006/1276 [3:17:02<42:21,  9.41s/it]"
     ]
    },
    {
     "name": "stdout",
     "output_type": "stream",
     "text": [
      "STOP CODE:  Stay unchanged in the last 6 iterations\n",
      "> SA ENDS....... \n",
      "\n",
      "> avg loss: 2.1798762066954227\n",
      "> For the *1006_th* data_key\n",
      "> retail = 9.99,bidincrement = 0.24, bidfee = 0.6, infer PT's parameters\n",
      "> Now do SA....... \n",
      "\n"
     ]
    },
    {
     "name": "stderr",
     "output_type": "stream",
     "text": [
      " 79%|███████▉  | 1007/1276 [3:17:03<31:21,  6.99s/it]"
     ]
    },
    {
     "name": "stdout",
     "output_type": "stream",
     "text": [
      "STOP CODE:  Stay unchanged in the last 6 iterations\n",
      "> SA ENDS....... \n",
      "\n",
      "> avg loss: 1.5968851178184402\n",
      "> For the *1007_th* data_key\n",
      "> retail = 10.15,bidincrement = 0.24, bidfee = 0.6, infer PT's parameters\n",
      "> Now do SA....... \n",
      "\n"
     ]
    },
    {
     "name": "stderr",
     "output_type": "stream",
     "text": [
      " 79%|███████▉  | 1008/1276 [3:17:04<23:12,  5.20s/it]"
     ]
    },
    {
     "name": "stdout",
     "output_type": "stream",
     "text": [
      "STOP CODE:  Stay unchanged in the last 6 iterations\n",
      "> SA ENDS....... \n",
      "\n",
      "> avg loss: 1.811923023583788\n",
      "> For the *1008_th* data_key\n",
      "> retail = 205.0,bidincrement = 0.24, bidfee = 0.6, infer PT's parameters\n",
      "> Now do SA....... \n",
      "\n"
     ]
    },
    {
     "name": "stderr",
     "output_type": "stream",
     "text": [
      " 79%|███████▉  | 1009/1276 [3:17:07<20:24,  4.59s/it]"
     ]
    },
    {
     "name": "stdout",
     "output_type": "stream",
     "text": [
      "STOP CODE:  Stay unchanged in the last 6 iterations\n",
      "> SA ENDS....... \n",
      "\n",
      "> avg loss: 3.195820371820266\n",
      "> For the *1009_th* data_key\n",
      "> retail = 19.23,bidincrement = 0.24, bidfee = 0.6, infer PT's parameters\n",
      "> Now do SA....... \n",
      "\n"
     ]
    },
    {
     "name": "stderr",
     "output_type": "stream",
     "text": [
      " 79%|███████▉  | 1010/1276 [3:17:08<15:05,  3.41s/it]"
     ]
    },
    {
     "name": "stdout",
     "output_type": "stream",
     "text": [
      "STOP CODE:  Stay unchanged in the last 6 iterations\n",
      "> SA ENDS....... \n",
      "\n",
      "> avg loss: 2.3018516783545047\n",
      "> For the *1010_th* data_key\n",
      "> retail = 349.99,bidincrement = 0.12, bidfee = 0.6, infer PT's parameters\n",
      "> Now do SA....... \n",
      "\n"
     ]
    },
    {
     "name": "stderr",
     "output_type": "stream",
     "text": [
      " 79%|███████▉  | 1011/1276 [3:17:17<22:39,  5.13s/it]"
     ]
    },
    {
     "name": "stdout",
     "output_type": "stream",
     "text": [
      "STOP CODE:  Stay unchanged in the last 6 iterations\n",
      "> SA ENDS....... \n",
      "\n",
      "> avg loss: 7.361227778120005\n",
      "> For the *1011_th* data_key\n",
      "> retail = 489.99,bidincrement = 0.06, bidfee = 0.6, infer PT's parameters\n",
      "> Now do SA....... \n",
      "\n"
     ]
    },
    {
     "name": "stderr",
     "output_type": "stream",
     "text": [
      " 79%|███████▉  | 1012/1276 [3:18:16<1:33:30, 21.25s/it]"
     ]
    },
    {
     "name": "stdout",
     "output_type": "stream",
     "text": [
      "STOP CODE:  Stay unchanged in the last 6 iterations\n",
      "> SA ENDS....... \n",
      "\n",
      "> avg loss: 7.495712380034475\n",
      "> For the *1012_th* data_key\n",
      "> retail = 1599.99,bidincrement = 0.06, bidfee = 0.6, infer PT's parameters\n",
      "> Now do SA....... \n",
      "\n"
     ]
    },
    {
     "name": "stderr",
     "output_type": "stream",
     "text": [
      " 79%|███████▉  | 1013/1276 [3:19:17<2:24:33, 32.98s/it]"
     ]
    },
    {
     "name": "stdout",
     "output_type": "stream",
     "text": [
      "> 超时\n",
      "> SA ENDS....... \n",
      "\n",
      "> avg loss: 18.23454681589727\n",
      "> For the *1013_th* data_key\n",
      "> retail = 249.99,bidincrement = 0.12, bidfee = 0.6, infer PT's parameters\n",
      "> Now do SA....... \n",
      "\n"
     ]
    },
    {
     "name": "stderr",
     "output_type": "stream",
     "text": [
      " 79%|███████▉  | 1014/1276 [3:19:32<2:00:46, 27.66s/it]"
     ]
    },
    {
     "name": "stdout",
     "output_type": "stream",
     "text": [
      "STOP CODE:  Stay unchanged in the last 6 iterations\n",
      "> SA ENDS....... \n",
      "\n",
      "> avg loss: 6.875322265554674\n",
      "> For the *1014_th* data_key\n",
      "> retail = 249.99,bidincrement = 0.12, bidfee = 0.6, infer PT's parameters\n",
      "> Now do SA....... \n",
      "\n"
     ]
    },
    {
     "name": "stderr",
     "output_type": "stream",
     "text": [
      " 80%|███████▉  | 1015/1276 [3:19:46<1:42:24, 23.54s/it]"
     ]
    },
    {
     "name": "stdout",
     "output_type": "stream",
     "text": [
      "STOP CODE:  Stay unchanged in the last 6 iterations\n",
      "> SA ENDS....... \n",
      "\n",
      "> avg loss: 6.827347300176545\n",
      "> For the *1015_th* data_key\n",
      "> retail = 199.99,bidincrement = 0.12, bidfee = 0.6, infer PT's parameters\n",
      "> Now do SA....... \n",
      "\n"
     ]
    },
    {
     "name": "stderr",
     "output_type": "stream",
     "text": [
      " 80%|███████▉  | 1016/1276 [3:19:52<1:19:55, 18.45s/it]"
     ]
    },
    {
     "name": "stdout",
     "output_type": "stream",
     "text": [
      "STOP CODE:  Stay unchanged in the last 6 iterations\n",
      "> SA ENDS....... \n",
      "\n",
      "> avg loss: 6.6856013454924135\n",
      "> For the *1016_th* data_key\n",
      "> retail = 199.99,bidincrement = 0.12, bidfee = 0.6, infer PT's parameters\n",
      "> Now do SA....... \n",
      "\n"
     ]
    },
    {
     "name": "stderr",
     "output_type": "stream",
     "text": [
      " 80%|███████▉  | 1017/1276 [3:20:07<1:14:13, 17.20s/it]"
     ]
    },
    {
     "name": "stdout",
     "output_type": "stream",
     "text": [
      "STOP CODE:  Stay unchanged in the last 6 iterations\n",
      "> SA ENDS....... \n",
      "\n",
      "> avg loss: 6.593608155976331\n",
      "> For the *1017_th* data_key\n",
      "> retail = 79.99,bidincrement = 0.12, bidfee = 0.6, infer PT's parameters\n",
      "> Now do SA....... \n",
      "\n"
     ]
    },
    {
     "name": "stderr",
     "output_type": "stream",
     "text": [
      " 80%|███████▉  | 1018/1276 [3:20:15<1:03:03, 14.66s/it]"
     ]
    },
    {
     "name": "stdout",
     "output_type": "stream",
     "text": [
      "STOP CODE:  Stay unchanged in the last 6 iterations\n",
      "> SA ENDS....... \n",
      "\n",
      "> avg loss: 5.692974466424262\n",
      "> For the *1018_th* data_key\n",
      "> retail = 249.99,bidincrement = 0.12, bidfee = 0.6, infer PT's parameters\n",
      "> Now do SA....... \n",
      "\n"
     ]
    },
    {
     "name": "stderr",
     "output_type": "stream",
     "text": [
      " 80%|███████▉  | 1019/1276 [3:20:23<53:51, 12.57s/it]  "
     ]
    },
    {
     "name": "stdout",
     "output_type": "stream",
     "text": [
      "STOP CODE:  Stay unchanged in the last 6 iterations\n",
      "> SA ENDS....... \n",
      "\n",
      "> avg loss: 7.280443183738873\n",
      "> For the *1019_th* data_key\n",
      "> retail = 425.0,bidincrement = 0.12, bidfee = 0.6, infer PT's parameters\n",
      "> Now do SA....... \n",
      "\n"
     ]
    },
    {
     "name": "stderr",
     "output_type": "stream",
     "text": [
      " 80%|███████▉  | 1020/1276 [3:20:35<52:30, 12.31s/it]"
     ]
    },
    {
     "name": "stdout",
     "output_type": "stream",
     "text": [
      "STOP CODE:  Stay unchanged in the last 6 iterations\n",
      "> SA ENDS....... \n",
      "\n",
      "> avg loss: 7.4340772114931655\n",
      "> For the *1020_th* data_key\n",
      "> retail = 159.99,bidincrement = 0.12, bidfee = 0.6, infer PT's parameters\n",
      "> Now do SA....... \n",
      "\n"
     ]
    },
    {
     "name": "stderr",
     "output_type": "stream",
     "text": [
      " 80%|████████  | 1021/1276 [3:20:43<46:44, 11.00s/it]"
     ]
    },
    {
     "name": "stdout",
     "output_type": "stream",
     "text": [
      "STOP CODE:  Stay unchanged in the last 6 iterations\n",
      "> SA ENDS....... \n",
      "\n",
      "> avg loss: 6.45364469422379\n",
      "> For the *1021_th* data_key\n",
      "> retail = 209.82,bidincrement = 0.12, bidfee = 0.6, infer PT's parameters\n",
      "> Now do SA....... \n",
      "\n"
     ]
    },
    {
     "name": "stderr",
     "output_type": "stream",
     "text": [
      " 80%|████████  | 1022/1276 [3:20:57<51:09, 12.09s/it]"
     ]
    },
    {
     "name": "stdout",
     "output_type": "stream",
     "text": [
      "STOP CODE:  Stay unchanged in the last 6 iterations\n",
      "> SA ENDS....... \n",
      "\n",
      "> avg loss: 6.593335539499703\n",
      "> For the *1022_th* data_key\n",
      "> retail = 49.99,bidincrement = 0.12, bidfee = 0.6, infer PT's parameters\n",
      "> Now do SA....... \n",
      "\n"
     ]
    },
    {
     "name": "stderr",
     "output_type": "stream",
     "text": [
      " 80%|████████  | 1023/1276 [3:21:00<38:54,  9.23s/it]"
     ]
    },
    {
     "name": "stdout",
     "output_type": "stream",
     "text": [
      "STOP CODE:  Stay unchanged in the last 6 iterations\n",
      "> SA ENDS....... \n",
      "\n",
      "> avg loss: 5.267005940062322\n",
      "> For the *1023_th* data_key\n",
      "> retail = 204.95,bidincrement = 0.12, bidfee = 0.6, infer PT's parameters\n",
      "> Now do SA....... \n",
      "\n"
     ]
    },
    {
     "name": "stderr",
     "output_type": "stream",
     "text": [
      " 80%|████████  | 1024/1276 [3:21:10<39:38,  9.44s/it]"
     ]
    },
    {
     "name": "stdout",
     "output_type": "stream",
     "text": [
      "STOP CODE:  Stay unchanged in the last 6 iterations\n",
      "> SA ENDS....... \n",
      "\n",
      "> avg loss: 6.606563623574858\n",
      "> For the *1024_th* data_key\n",
      "> retail = 314.52,bidincrement = 0.12, bidfee = 0.6, infer PT's parameters\n",
      "> Now do SA....... \n",
      "\n"
     ]
    },
    {
     "name": "stderr",
     "output_type": "stream",
     "text": [
      " 80%|████████  | 1025/1276 [3:21:22<42:26, 10.14s/it]"
     ]
    },
    {
     "name": "stdout",
     "output_type": "stream",
     "text": [
      "STOP CODE:  Stay unchanged in the last 6 iterations\n",
      "> SA ENDS....... \n",
      "\n",
      "> avg loss: 7.143711744054764\n",
      "> For the *1025_th* data_key\n",
      "> retail = 499.99,bidincrement = 0.12, bidfee = 0.6, infer PT's parameters\n",
      "> Now do SA....... \n",
      "\n"
     ]
    },
    {
     "name": "stderr",
     "output_type": "stream",
     "text": [
      " 80%|████████  | 1026/1276 [3:21:54<1:09:45, 16.74s/it]"
     ]
    },
    {
     "name": "stdout",
     "output_type": "stream",
     "text": [
      "STOP CODE:  Stay unchanged in the last 6 iterations\n",
      "> SA ENDS....... \n",
      "\n",
      "> avg loss: 7.48040869547675\n",
      "> For the *1026_th* data_key\n",
      "> retail = 59.99,bidincrement = 0.12, bidfee = 0.6, infer PT's parameters\n",
      "> Now do SA....... \n",
      "\n"
     ]
    },
    {
     "name": "stderr",
     "output_type": "stream",
     "text": [
      " 80%|████████  | 1027/1276 [3:21:55<50:30, 12.17s/it]  "
     ]
    },
    {
     "name": "stdout",
     "output_type": "stream",
     "text": [
      "STOP CODE:  Stay unchanged in the last 6 iterations\n",
      "> SA ENDS....... \n",
      "\n",
      "> avg loss: 5.5779557156950235\n",
      "> For the *1027_th* data_key\n",
      "> retail = 589.99,bidincrement = 0.06, bidfee = 0.6, infer PT's parameters\n",
      "> Now do SA....... \n",
      "\n"
     ]
    },
    {
     "name": "stderr",
     "output_type": "stream",
     "text": [
      " 81%|████████  | 1028/1276 [3:22:54<1:47:42, 26.06s/it]"
     ]
    },
    {
     "name": "stdout",
     "output_type": "stream",
     "text": [
      "STOP CODE:  Stay unchanged in the last 6 iterations\n",
      "> SA ENDS....... \n",
      "\n",
      "> avg loss: 7.794985407125648\n",
      "> For the *1028_th* data_key\n",
      "> retail = 115.99,bidincrement = 0.12, bidfee = 0.6, infer PT's parameters\n",
      "> Now do SA....... \n",
      "\n"
     ]
    },
    {
     "name": "stderr",
     "output_type": "stream",
     "text": [
      " 81%|████████  | 1029/1276 [3:23:07<1:31:54, 22.32s/it]"
     ]
    },
    {
     "name": "stdout",
     "output_type": "stream",
     "text": [
      "STOP CODE:  Stay unchanged in the last 6 iterations\n",
      "> SA ENDS....... \n",
      "\n",
      "> avg loss: 6.036771865486223\n",
      "> For the *1029_th* data_key\n",
      "> retail = 599.99,bidincrement = 0.06, bidfee = 0.6, infer PT's parameters\n",
      "> Now do SA....... \n",
      "\n"
     ]
    },
    {
     "name": "stderr",
     "output_type": "stream",
     "text": [
      " 81%|████████  | 1030/1276 [3:23:35<1:37:49, 23.86s/it]"
     ]
    },
    {
     "name": "stdout",
     "output_type": "stream",
     "text": [
      "STOP CODE:  Stay unchanged in the last 6 iterations\n",
      "> SA ENDS....... \n",
      "\n",
      "> avg loss: 8.092349189349392\n",
      "> For the *1030_th* data_key\n",
      "> retail = 49.99,bidincrement = 0.12, bidfee = 0.6, infer PT's parameters\n",
      "> Now do SA....... \n",
      "\n"
     ]
    },
    {
     "name": "stderr",
     "output_type": "stream",
     "text": [
      " 81%|████████  | 1031/1276 [3:23:38<1:11:51, 17.60s/it]"
     ]
    },
    {
     "name": "stdout",
     "output_type": "stream",
     "text": [
      "STOP CODE:  Stay unchanged in the last 6 iterations\n",
      "> SA ENDS....... \n",
      "\n",
      "> avg loss: 5.277130219476601\n",
      "> For the *1031_th* data_key\n",
      "> retail = 49.99,bidincrement = 0.12, bidfee = 0.6, infer PT's parameters\n",
      "> Now do SA....... \n",
      "\n"
     ]
    },
    {
     "name": "stderr",
     "output_type": "stream",
     "text": [
      " 81%|████████  | 1032/1276 [3:23:41<54:18, 13.36s/it]  "
     ]
    },
    {
     "name": "stdout",
     "output_type": "stream",
     "text": [
      "STOP CODE:  Stay unchanged in the last 6 iterations\n",
      "> SA ENDS....... \n",
      "\n",
      "> avg loss: 5.163765289262985\n",
      "> For the *1032_th* data_key\n",
      "> retail = 49.99,bidincrement = 0.12, bidfee = 0.6, infer PT's parameters\n",
      "> Now do SA....... \n",
      "\n"
     ]
    },
    {
     "name": "stderr",
     "output_type": "stream",
     "text": [
      " 81%|████████  | 1033/1276 [3:23:43<39:47,  9.82s/it]"
     ]
    },
    {
     "name": "stdout",
     "output_type": "stream",
     "text": [
      "STOP CODE:  Stay unchanged in the last 6 iterations\n",
      "> SA ENDS....... \n",
      "\n",
      "> avg loss: 5.180581889943065\n",
      "> For the *1033_th* data_key\n",
      "> retail = 49.99,bidincrement = 0.12, bidfee = 0.6, infer PT's parameters\n",
      "> Now do SA....... \n",
      "\n"
     ]
    },
    {
     "name": "stderr",
     "output_type": "stream",
     "text": [
      " 81%|████████  | 1034/1276 [3:23:44<29:41,  7.36s/it]"
     ]
    },
    {
     "name": "stdout",
     "output_type": "stream",
     "text": [
      "STOP CODE:  Stay unchanged in the last 6 iterations\n",
      "> SA ENDS....... \n",
      "\n",
      "> avg loss: 5.0989308365627295\n",
      "> For the *1034_th* data_key\n",
      "> retail = 27.49,bidincrement = 0.12, bidfee = 0.6, infer PT's parameters\n",
      "> Now do SA....... \n",
      "\n"
     ]
    },
    {
     "name": "stderr",
     "output_type": "stream",
     "text": [
      " 81%|████████  | 1035/1276 [3:23:48<24:56,  6.21s/it]"
     ]
    },
    {
     "name": "stdout",
     "output_type": "stream",
     "text": [
      "STOP CODE:  Stay unchanged in the last 6 iterations\n",
      "> SA ENDS....... \n",
      "\n",
      "> avg loss: 4.664076283058711\n",
      "> For the *1035_th* data_key\n",
      "> retail = 34.99,bidincrement = 0.24, bidfee = 0.6, infer PT's parameters\n",
      "> Now do SA....... \n",
      "\n"
     ]
    },
    {
     "name": "stderr",
     "output_type": "stream",
     "text": [
      " 81%|████████  | 1036/1276 [3:23:51<21:00,  5.25s/it]"
     ]
    },
    {
     "name": "stdout",
     "output_type": "stream",
     "text": [
      "STOP CODE:  Stay unchanged in the last 6 iterations\n",
      "> SA ENDS....... \n",
      "\n",
      "> avg loss: 2.410576607006719\n",
      "> For the *1036_th* data_key\n",
      "> retail = 37.0,bidincrement = 0.12, bidfee = 0.6, infer PT's parameters\n",
      "> Now do SA....... \n",
      "\n"
     ]
    },
    {
     "name": "stderr",
     "output_type": "stream",
     "text": [
      " 81%|████████▏ | 1037/1276 [3:23:52<16:31,  4.15s/it]"
     ]
    },
    {
     "name": "stdout",
     "output_type": "stream",
     "text": [
      "STOP CODE:  Stay unchanged in the last 6 iterations\n",
      "> SA ENDS....... \n",
      "\n",
      "> avg loss: 4.872791807103411\n",
      "> For the *1037_th* data_key\n",
      "> retail = 199.99,bidincrement = 0.12, bidfee = 0.6, infer PT's parameters\n",
      "> Now do SA....... \n",
      "\n"
     ]
    },
    {
     "name": "stderr",
     "output_type": "stream",
     "text": [
      " 81%|████████▏ | 1038/1276 [3:24:00<19:58,  5.04s/it]"
     ]
    },
    {
     "name": "stdout",
     "output_type": "stream",
     "text": [
      "STOP CODE:  Stay unchanged in the last 6 iterations\n",
      "> SA ENDS....... \n",
      "\n",
      "> avg loss: 6.612946265266731\n",
      "> For the *1038_th* data_key\n",
      "> retail = 645.0,bidincrement = 0.06, bidfee = 0.6, infer PT's parameters\n",
      "> Now do SA....... \n",
      "\n"
     ]
    },
    {
     "name": "stderr",
     "output_type": "stream",
     "text": [
      " 81%|████████▏ | 1039/1276 [3:25:00<1:25:16, 21.59s/it]"
     ]
    },
    {
     "name": "stdout",
     "output_type": "stream",
     "text": [
      "> 超时\n",
      "> SA ENDS....... \n",
      "\n",
      "> avg loss: 12.967904667358761\n",
      "> For the *1039_th* data_key\n",
      "> retail = 1999.99,bidincrement = 0.02, bidfee = 0.6, infer PT's parameters\n",
      "> Now do SA....... \n",
      "\n"
     ]
    },
    {
     "name": "stderr",
     "output_type": "stream",
     "text": [
      " 82%|████████▏ | 1040/1276 [3:26:02<2:12:41, 33.74s/it]"
     ]
    },
    {
     "name": "stdout",
     "output_type": "stream",
     "text": [
      "> 超时\n",
      "> SA ENDS....... \n",
      "\n",
      "> avg loss: 20.139922396199257\n",
      "> For the *1040_th* data_key\n",
      "> retail = 18.85,bidincrement = 0.12, bidfee = 0.6, infer PT's parameters\n",
      "> Now do SA....... \n",
      "\n"
     ]
    },
    {
     "name": "stderr",
     "output_type": "stream",
     "text": [
      " 82%|████████▏ | 1041/1276 [3:26:03<1:33:46, 23.94s/it]"
     ]
    },
    {
     "name": "stdout",
     "output_type": "stream",
     "text": [
      "STOP CODE:  Stay unchanged in the last 6 iterations\n",
      "> SA ENDS....... \n",
      "\n",
      "> avg loss: 4.363279002839865\n",
      "> For the *1041_th* data_key\n",
      "> retail = 143.45,bidincrement = 0.12, bidfee = 0.6, infer PT's parameters\n",
      "> Now do SA....... \n",
      "\n"
     ]
    },
    {
     "name": "stderr",
     "output_type": "stream",
     "text": [
      " 82%|████████▏ | 1042/1276 [3:26:07<1:10:08, 17.98s/it]"
     ]
    },
    {
     "name": "stdout",
     "output_type": "stream",
     "text": [
      "STOP CODE:  Stay unchanged in the last 6 iterations\n",
      "> SA ENDS....... \n",
      "\n",
      "> avg loss: 6.39493010367166\n",
      "> For the *1042_th* data_key\n",
      "> retail = 199.0,bidincrement = 0.12, bidfee = 0.6, infer PT's parameters\n",
      "> Now do SA....... \n",
      "\n"
     ]
    },
    {
     "name": "stderr",
     "output_type": "stream",
     "text": [
      " 82%|████████▏ | 1043/1276 [3:26:14<57:33, 14.82s/it]  "
     ]
    },
    {
     "name": "stdout",
     "output_type": "stream",
     "text": [
      "STOP CODE:  Stay unchanged in the last 6 iterations\n",
      "> SA ENDS....... \n",
      "\n",
      "> avg loss: 6.710984947368588\n",
      "> For the *1043_th* data_key\n",
      "> retail = 98.99,bidincrement = 0.12, bidfee = 0.6, infer PT's parameters\n",
      "> Now do SA....... \n",
      "\n"
     ]
    },
    {
     "name": "stderr",
     "output_type": "stream",
     "text": [
      " 82%|████████▏ | 1044/1276 [3:26:17<43:11, 11.17s/it]"
     ]
    },
    {
     "name": "stdout",
     "output_type": "stream",
     "text": [
      "STOP CODE:  Stay unchanged in the last 6 iterations\n",
      "> SA ENDS....... \n",
      "\n",
      "> avg loss: 5.940404941979203\n",
      "> For the *1044_th* data_key\n",
      "> retail = 98.99,bidincrement = 0.12, bidfee = 0.6, infer PT's parameters\n",
      "> Now do SA....... \n",
      "\n"
     ]
    },
    {
     "name": "stderr",
     "output_type": "stream",
     "text": [
      " 82%|████████▏ | 1045/1276 [3:26:21<35:09,  9.13s/it]"
     ]
    },
    {
     "name": "stdout",
     "output_type": "stream",
     "text": [
      "STOP CODE:  Stay unchanged in the last 6 iterations\n",
      "> SA ENDS....... \n",
      "\n",
      "> avg loss: 6.312050339626657\n",
      "> For the *1045_th* data_key\n",
      "> retail = 56.99,bidincrement = 0.12, bidfee = 0.6, infer PT's parameters\n",
      "> Now do SA....... \n",
      "\n"
     ]
    },
    {
     "name": "stderr",
     "output_type": "stream",
     "text": [
      " 82%|████████▏ | 1046/1276 [3:26:25<28:15,  7.37s/it]"
     ]
    },
    {
     "name": "stdout",
     "output_type": "stream",
     "text": [
      "STOP CODE:  Stay unchanged in the last 6 iterations\n",
      "> SA ENDS....... \n",
      "\n",
      "> avg loss: 5.367106263182766\n",
      "> For the *1046_th* data_key\n",
      "> retail = 27.99,bidincrement = 0.12, bidfee = 0.6, infer PT's parameters\n",
      "> Now do SA....... \n",
      "\n"
     ]
    },
    {
     "name": "stderr",
     "output_type": "stream",
     "text": [
      " 82%|████████▏ | 1047/1276 [3:26:26<21:34,  5.65s/it]"
     ]
    },
    {
     "name": "stdout",
     "output_type": "stream",
     "text": [
      "STOP CODE:  Stay unchanged in the last 6 iterations\n",
      "> SA ENDS....... \n",
      "\n",
      "> avg loss: 4.66015801126085\n",
      "> For the *1047_th* data_key\n",
      "> retail = 46.99,bidincrement = 0.12, bidfee = 0.6, infer PT's parameters\n",
      "> Now do SA....... \n",
      "\n"
     ]
    },
    {
     "name": "stderr",
     "output_type": "stream",
     "text": [
      " 82%|████████▏ | 1048/1276 [3:26:30<19:19,  5.09s/it]"
     ]
    },
    {
     "name": "stdout",
     "output_type": "stream",
     "text": [
      "STOP CODE:  Stay unchanged in the last 6 iterations\n",
      "> SA ENDS....... \n",
      "\n",
      "> avg loss: 5.138583417555384\n",
      "> For the *1048_th* data_key\n",
      "> retail = 56.99,bidincrement = 0.12, bidfee = 0.6, infer PT's parameters\n",
      "> Now do SA....... \n",
      "\n"
     ]
    },
    {
     "name": "stderr",
     "output_type": "stream",
     "text": [
      " 82%|████████▏ | 1049/1276 [3:26:33<16:10,  4.27s/it]"
     ]
    },
    {
     "name": "stdout",
     "output_type": "stream",
     "text": [
      "STOP CODE:  Stay unchanged in the last 6 iterations\n",
      "> SA ENDS....... \n",
      "\n",
      "> avg loss: 5.385038251554305\n",
      "> For the *1049_th* data_key\n",
      "> retail = 54.49,bidincrement = 0.12, bidfee = 0.6, infer PT's parameters\n",
      "> Now do SA....... \n",
      "\n"
     ]
    },
    {
     "name": "stderr",
     "output_type": "stream",
     "text": [
      " 82%|████████▏ | 1050/1276 [3:26:37<15:47,  4.19s/it]"
     ]
    },
    {
     "name": "stdout",
     "output_type": "stream",
     "text": [
      "STOP CODE:  Stay unchanged in the last 6 iterations\n",
      "> SA ENDS....... \n",
      "\n",
      "> avg loss: 5.333230515913477\n",
      "> For the *1050_th* data_key\n",
      "> retail = 56.99,bidincrement = 0.12, bidfee = 0.6, infer PT's parameters\n",
      "> Now do SA....... \n",
      "\n"
     ]
    },
    {
     "name": "stderr",
     "output_type": "stream",
     "text": [
      " 82%|████████▏ | 1051/1276 [3:26:38<12:28,  3.33s/it]"
     ]
    },
    {
     "name": "stdout",
     "output_type": "stream",
     "text": [
      "STOP CODE:  Stay unchanged in the last 6 iterations\n",
      "> SA ENDS....... \n",
      "\n",
      "> avg loss: 5.434781647823554\n",
      "> For the *1051_th* data_key\n",
      "> retail = 29.99,bidincrement = 0.12, bidfee = 0.6, infer PT's parameters\n",
      "> Now do SA....... \n",
      "\n"
     ]
    },
    {
     "name": "stderr",
     "output_type": "stream",
     "text": [
      " 82%|████████▏ | 1052/1276 [3:26:39<10:33,  2.83s/it]"
     ]
    },
    {
     "name": "stdout",
     "output_type": "stream",
     "text": [
      "STOP CODE:  Stay unchanged in the last 6 iterations\n",
      "> SA ENDS....... \n",
      "\n",
      "> avg loss: 4.830967989155488\n",
      "> For the *1052_th* data_key\n",
      "> retail = 56.99,bidincrement = 0.12, bidfee = 0.6, infer PT's parameters\n",
      "> Now do SA....... \n",
      "\n"
     ]
    },
    {
     "name": "stderr",
     "output_type": "stream",
     "text": [
      " 83%|████████▎ | 1053/1276 [3:26:42<10:40,  2.87s/it]"
     ]
    },
    {
     "name": "stdout",
     "output_type": "stream",
     "text": [
      "STOP CODE:  Stay unchanged in the last 6 iterations\n",
      "> SA ENDS....... \n",
      "\n",
      "> avg loss: 5.311327896483921\n",
      "> For the *1053_th* data_key\n",
      "> retail = 56.99,bidincrement = 0.12, bidfee = 0.6, infer PT's parameters\n",
      "> Now do SA....... \n",
      "\n"
     ]
    },
    {
     "name": "stderr",
     "output_type": "stream",
     "text": [
      " 83%|████████▎ | 1054/1276 [3:26:48<13:28,  3.64s/it]"
     ]
    },
    {
     "name": "stdout",
     "output_type": "stream",
     "text": [
      "STOP CODE:  Stay unchanged in the last 6 iterations\n",
      "> SA ENDS....... \n",
      "\n",
      "> avg loss: 5.222336178204605\n",
      "> For the *1054_th* data_key\n",
      "> retail = 58.99,bidincrement = 0.12, bidfee = 0.6, infer PT's parameters\n",
      "> Now do SA....... \n",
      "\n"
     ]
    },
    {
     "name": "stderr",
     "output_type": "stream",
     "text": [
      " 83%|████████▎ | 1055/1276 [3:26:50<11:43,  3.18s/it]"
     ]
    },
    {
     "name": "stdout",
     "output_type": "stream",
     "text": [
      "STOP CODE:  Stay unchanged in the last 6 iterations\n",
      "> SA ENDS....... \n",
      "\n",
      "> avg loss: 5.441157505520309\n",
      "> For the *1055_th* data_key\n",
      "> retail = 58.99,bidincrement = 0.12, bidfee = 0.6, infer PT's parameters\n",
      "> Now do SA....... \n",
      "\n"
     ]
    },
    {
     "name": "stderr",
     "output_type": "stream",
     "text": [
      " 83%|████████▎ | 1056/1276 [3:26:53<10:56,  2.98s/it]"
     ]
    },
    {
     "name": "stdout",
     "output_type": "stream",
     "text": [
      "STOP CODE:  Stay unchanged in the last 6 iterations\n",
      "> SA ENDS....... \n",
      "\n",
      "> avg loss: 5.429329493533706\n",
      "> For the *1056_th* data_key\n",
      "> retail = 46.99,bidincrement = 0.12, bidfee = 0.6, infer PT's parameters\n",
      "> Now do SA....... \n",
      "\n"
     ]
    },
    {
     "name": "stderr",
     "output_type": "stream",
     "text": [
      " 83%|████████▎ | 1057/1276 [3:26:55<10:01,  2.75s/it]"
     ]
    },
    {
     "name": "stdout",
     "output_type": "stream",
     "text": [
      "STOP CODE:  Stay unchanged in the last 6 iterations\n",
      "> SA ENDS....... \n",
      "\n",
      "> avg loss: 5.366209762812955\n",
      "> For the *1057_th* data_key\n",
      "> retail = 33.99,bidincrement = 0.12, bidfee = 0.6, infer PT's parameters\n",
      "> Now do SA....... \n",
      "\n"
     ]
    },
    {
     "name": "stderr",
     "output_type": "stream",
     "text": [
      " 83%|████████▎ | 1058/1276 [3:26:56<08:25,  2.32s/it]"
     ]
    },
    {
     "name": "stdout",
     "output_type": "stream",
     "text": [
      "STOP CODE:  Stay unchanged in the last 6 iterations\n",
      "> SA ENDS....... \n",
      "\n",
      "> avg loss: 5.049311031600403\n",
      "> For the *1058_th* data_key\n",
      "> retail = 44.99,bidincrement = 0.12, bidfee = 0.6, infer PT's parameters\n",
      "> Now do SA....... \n",
      "\n"
     ]
    },
    {
     "name": "stderr",
     "output_type": "stream",
     "text": [
      " 83%|████████▎ | 1059/1276 [3:26:58<08:11,  2.27s/it]"
     ]
    },
    {
     "name": "stdout",
     "output_type": "stream",
     "text": [
      "STOP CODE:  Stay unchanged in the last 6 iterations\n",
      "> SA ENDS....... \n",
      "\n",
      "> avg loss: 5.129392428710779\n",
      "> For the *1059_th* data_key\n",
      "> retail = 46.99,bidincrement = 0.12, bidfee = 0.6, infer PT's parameters\n",
      "> Now do SA....... \n",
      "\n"
     ]
    },
    {
     "name": "stderr",
     "output_type": "stream",
     "text": [
      " 83%|████████▎ | 1060/1276 [3:27:00<08:05,  2.25s/it]"
     ]
    },
    {
     "name": "stdout",
     "output_type": "stream",
     "text": [
      "STOP CODE:  Stay unchanged in the last 6 iterations\n",
      "> SA ENDS....... \n",
      "\n",
      "> avg loss: 5.3603295303052025\n",
      "> For the *1060_th* data_key\n",
      "> retail = 36.99,bidincrement = 0.12, bidfee = 0.6, infer PT's parameters\n",
      "> Now do SA....... \n",
      "\n"
     ]
    },
    {
     "name": "stderr",
     "output_type": "stream",
     "text": [
      " 83%|████████▎ | 1061/1276 [3:27:03<08:07,  2.27s/it]"
     ]
    },
    {
     "name": "stdout",
     "output_type": "stream",
     "text": [
      "STOP CODE:  Stay unchanged in the last 6 iterations\n",
      "> SA ENDS....... \n",
      "\n",
      "> avg loss: 4.916002698362708\n",
      "> For the *1061_th* data_key\n",
      "> retail = 29.99,bidincrement = 0.12, bidfee = 0.6, infer PT's parameters\n",
      "> Now do SA....... \n",
      "\n"
     ]
    },
    {
     "name": "stderr",
     "output_type": "stream",
     "text": [
      " 83%|████████▎ | 1062/1276 [3:27:08<11:17,  3.17s/it]"
     ]
    },
    {
     "name": "stdout",
     "output_type": "stream",
     "text": [
      "STOP CODE:  Stay unchanged in the last 6 iterations\n",
      "> SA ENDS....... \n",
      "\n",
      "> avg loss: 4.755755986134928\n",
      "> For the *1062_th* data_key\n",
      "> retail = 46.99,bidincrement = 0.12, bidfee = 0.6, infer PT's parameters\n",
      "> Now do SA....... \n",
      "\n"
     ]
    },
    {
     "name": "stderr",
     "output_type": "stream",
     "text": [
      " 83%|████████▎ | 1063/1276 [3:27:10<10:17,  2.90s/it]"
     ]
    },
    {
     "name": "stdout",
     "output_type": "stream",
     "text": [
      "STOP CODE:  Stay unchanged in the last 6 iterations\n",
      "> SA ENDS....... \n",
      "\n",
      "> avg loss: 5.179416237426653\n",
      "> For the *1063_th* data_key\n",
      "> retail = 56.99,bidincrement = 0.12, bidfee = 0.6, infer PT's parameters\n",
      "> Now do SA....... \n",
      "\n"
     ]
    },
    {
     "name": "stderr",
     "output_type": "stream",
     "text": [
      " 83%|████████▎ | 1064/1276 [3:27:13<10:08,  2.87s/it]"
     ]
    },
    {
     "name": "stdout",
     "output_type": "stream",
     "text": [
      "STOP CODE:  Stay unchanged in the last 6 iterations\n",
      "> SA ENDS....... \n",
      "\n",
      "> avg loss: 5.35144408088287\n",
      "> For the *1064_th* data_key\n",
      "> retail = 59.99,bidincrement = 0.12, bidfee = 0.6, infer PT's parameters\n",
      "> Now do SA....... \n",
      "\n"
     ]
    },
    {
     "name": "stderr",
     "output_type": "stream",
     "text": [
      " 83%|████████▎ | 1065/1276 [3:27:17<11:35,  3.30s/it]"
     ]
    },
    {
     "name": "stdout",
     "output_type": "stream",
     "text": [
      "STOP CODE:  Stay unchanged in the last 6 iterations\n",
      "> SA ENDS....... \n",
      "\n",
      "> avg loss: 5.459321387040486\n",
      "> For the *1065_th* data_key\n",
      "> retail = 59.99,bidincrement = 0.12, bidfee = 0.6, infer PT's parameters\n",
      "> Now do SA....... \n",
      "\n"
     ]
    },
    {
     "name": "stderr",
     "output_type": "stream",
     "text": [
      " 84%|████████▎ | 1066/1276 [3:27:20<11:15,  3.21s/it]"
     ]
    },
    {
     "name": "stdout",
     "output_type": "stream",
     "text": [
      "STOP CODE:  Stay unchanged in the last 6 iterations\n",
      "> SA ENDS....... \n",
      "\n",
      "> avg loss: 5.413330054513057\n",
      "> For the *1066_th* data_key\n",
      "> retail = 59.99,bidincrement = 0.12, bidfee = 0.6, infer PT's parameters\n",
      "> Now do SA....... \n",
      "\n"
     ]
    },
    {
     "name": "stderr",
     "output_type": "stream",
     "text": [
      " 84%|████████▎ | 1067/1276 [3:27:26<13:53,  3.99s/it]"
     ]
    },
    {
     "name": "stdout",
     "output_type": "stream",
     "text": [
      "STOP CODE:  Stay unchanged in the last 6 iterations\n",
      "> SA ENDS....... \n",
      "\n",
      "> avg loss: 5.560724176579145\n",
      "> For the *1067_th* data_key\n",
      "> retail = 56.99,bidincrement = 0.12, bidfee = 0.6, infer PT's parameters\n",
      "> Now do SA....... \n",
      "\n"
     ]
    },
    {
     "name": "stderr",
     "output_type": "stream",
     "text": [
      " 84%|████████▎ | 1068/1276 [3:27:31<14:50,  4.28s/it]"
     ]
    },
    {
     "name": "stdout",
     "output_type": "stream",
     "text": [
      "STOP CODE:  Stay unchanged in the last 6 iterations\n",
      "> SA ENDS....... \n",
      "\n",
      "> avg loss: 5.390343248500801\n",
      "> For the *1068_th* data_key\n",
      "> retail = 36.99,bidincrement = 0.12, bidfee = 0.6, infer PT's parameters\n",
      "> Now do SA....... \n",
      "\n"
     ]
    },
    {
     "name": "stderr",
     "output_type": "stream",
     "text": [
      " 84%|████████▍ | 1069/1276 [3:27:34<13:38,  3.95s/it]"
     ]
    },
    {
     "name": "stdout",
     "output_type": "stream",
     "text": [
      "STOP CODE:  Stay unchanged in the last 6 iterations\n",
      "> SA ENDS....... \n",
      "\n",
      "> avg loss: 4.830318172984497\n",
      "> For the *1069_th* data_key\n",
      "> retail = 36.99,bidincrement = 0.12, bidfee = 0.6, infer PT's parameters\n",
      "> Now do SA....... \n",
      "\n"
     ]
    },
    {
     "name": "stderr",
     "output_type": "stream",
     "text": [
      " 84%|████████▍ | 1070/1276 [3:27:35<10:38,  3.10s/it]"
     ]
    },
    {
     "name": "stdout",
     "output_type": "stream",
     "text": [
      "STOP CODE:  Stay unchanged in the last 6 iterations\n",
      "> SA ENDS....... \n",
      "\n",
      "> avg loss: 4.9257779253658445\n",
      "> For the *1070_th* data_key\n",
      "> retail = 54.99,bidincrement = 0.12, bidfee = 0.6, infer PT's parameters\n",
      "> Now do SA....... \n",
      "\n"
     ]
    },
    {
     "name": "stderr",
     "output_type": "stream",
     "text": [
      " 84%|████████▍ | 1071/1276 [3:27:37<09:17,  2.72s/it]"
     ]
    },
    {
     "name": "stdout",
     "output_type": "stream",
     "text": [
      "STOP CODE:  Stay unchanged in the last 6 iterations\n",
      "> SA ENDS....... \n",
      "\n",
      "> avg loss: 5.311288903039223\n",
      "> For the *1071_th* data_key\n",
      "> retail = 56.99,bidincrement = 0.12, bidfee = 0.6, infer PT's parameters\n",
      "> Now do SA....... \n",
      "\n"
     ]
    },
    {
     "name": "stderr",
     "output_type": "stream",
     "text": [
      " 84%|████████▍ | 1072/1276 [3:27:41<10:29,  3.09s/it]"
     ]
    },
    {
     "name": "stdout",
     "output_type": "stream",
     "text": [
      "STOP CODE:  Stay unchanged in the last 6 iterations\n",
      "> SA ENDS....... \n",
      "\n",
      "> avg loss: 5.394240231885514\n",
      "> For the *1072_th* data_key\n",
      "> retail = 56.99,bidincrement = 0.12, bidfee = 0.6, infer PT's parameters\n",
      "> Now do SA....... \n",
      "\n"
     ]
    },
    {
     "name": "stderr",
     "output_type": "stream",
     "text": [
      " 84%|████████▍ | 1073/1276 [3:27:45<11:33,  3.42s/it]"
     ]
    },
    {
     "name": "stdout",
     "output_type": "stream",
     "text": [
      "STOP CODE:  Stay unchanged in the last 6 iterations\n",
      "> SA ENDS....... \n",
      "\n",
      "> avg loss: 5.4668716889764335\n",
      "> For the *1073_th* data_key\n",
      "> retail = 56.99,bidincrement = 0.12, bidfee = 0.6, infer PT's parameters\n",
      "> Now do SA....... \n",
      "\n"
     ]
    },
    {
     "name": "stderr",
     "output_type": "stream",
     "text": [
      " 84%|████████▍ | 1074/1276 [3:27:48<10:20,  3.07s/it]"
     ]
    },
    {
     "name": "stdout",
     "output_type": "stream",
     "text": [
      "STOP CODE:  Stay unchanged in the last 6 iterations\n",
      "> SA ENDS....... \n",
      "\n",
      "> avg loss: 5.345742517728001\n",
      "> For the *1074_th* data_key\n",
      "> retail = 56.99,bidincrement = 0.12, bidfee = 0.6, infer PT's parameters\n",
      "> Now do SA....... \n",
      "\n"
     ]
    },
    {
     "name": "stderr",
     "output_type": "stream",
     "text": [
      " 84%|████████▍ | 1075/1276 [3:27:54<14:00,  4.18s/it]"
     ]
    },
    {
     "name": "stdout",
     "output_type": "stream",
     "text": [
      "STOP CODE:  Stay unchanged in the last 6 iterations\n",
      "> SA ENDS....... \n",
      "\n",
      "> avg loss: 5.366023266384775\n",
      "> For the *1075_th* data_key\n",
      "> retail = 49.99,bidincrement = 0.12, bidfee = 0.6, infer PT's parameters\n",
      "> Now do SA....... \n",
      "\n"
     ]
    },
    {
     "name": "stderr",
     "output_type": "stream",
     "text": [
      " 84%|████████▍ | 1076/1276 [3:28:02<17:03,  5.12s/it]"
     ]
    },
    {
     "name": "stdout",
     "output_type": "stream",
     "text": [
      "STOP CODE:  Stay unchanged in the last 6 iterations\n",
      "> SA ENDS....... \n",
      "\n",
      "> avg loss: 5.205368018440158\n",
      "> For the *1076_th* data_key\n",
      "> retail = 29.99,bidincrement = 0.12, bidfee = 0.6, infer PT's parameters\n",
      "> Now do SA....... \n",
      "\n"
     ]
    },
    {
     "name": "stderr",
     "output_type": "stream",
     "text": [
      " 84%|████████▍ | 1077/1276 [3:28:04<14:25,  4.35s/it]"
     ]
    },
    {
     "name": "stdout",
     "output_type": "stream",
     "text": [
      "STOP CODE:  Stay unchanged in the last 6 iterations\n",
      "> SA ENDS....... \n",
      "\n",
      "> avg loss: 4.727890256807178\n",
      "> For the *1077_th* data_key\n",
      "> retail = 399.0,bidincrement = 0.12, bidfee = 0.6, infer PT's parameters\n",
      "> Now do SA....... \n",
      "\n"
     ]
    },
    {
     "name": "stderr",
     "output_type": "stream",
     "text": [
      " 84%|████████▍ | 1078/1276 [3:28:14<19:55,  6.04s/it]"
     ]
    },
    {
     "name": "stdout",
     "output_type": "stream",
     "text": [
      "STOP CODE:  Stay unchanged in the last 6 iterations\n",
      "> SA ENDS....... \n",
      "\n",
      "> avg loss: 7.474747678557843\n",
      "> For the *1078_th* data_key\n",
      "> retail = 249.99,bidincrement = 0.12, bidfee = 0.6, infer PT's parameters\n",
      "> Now do SA....... \n",
      "\n"
     ]
    },
    {
     "name": "stderr",
     "output_type": "stream",
     "text": [
      " 85%|████████▍ | 1079/1276 [3:28:22<21:55,  6.68s/it]"
     ]
    },
    {
     "name": "stdout",
     "output_type": "stream",
     "text": [
      "STOP CODE:  Stay unchanged in the last 6 iterations\n",
      "> SA ENDS....... \n",
      "\n",
      "> avg loss: 6.871230235992385\n",
      "> For the *1079_th* data_key\n",
      "> retail = 19.99,bidincrement = 0.12, bidfee = 0.6, infer PT's parameters\n",
      "> Now do SA....... \n",
      "\n"
     ]
    },
    {
     "name": "stderr",
     "output_type": "stream",
     "text": [
      " 85%|████████▍ | 1080/1276 [3:28:27<19:53,  6.09s/it]"
     ]
    },
    {
     "name": "stdout",
     "output_type": "stream",
     "text": [
      "STOP CODE:  Stay unchanged in the last 6 iterations\n",
      "> SA ENDS....... \n",
      "\n",
      "> avg loss: 4.32619092996385\n",
      "> For the *1080_th* data_key\n",
      "> retail = 99.99,bidincrement = 0.12, bidfee = 0.6, infer PT's parameters\n",
      "> Now do SA....... \n",
      "\n"
     ]
    },
    {
     "name": "stderr",
     "output_type": "stream",
     "text": [
      " 85%|████████▍ | 1081/1276 [3:28:30<16:46,  5.16s/it]"
     ]
    },
    {
     "name": "stdout",
     "output_type": "stream",
     "text": [
      "STOP CODE:  Stay unchanged in the last 6 iterations\n",
      "> SA ENDS....... \n",
      "\n",
      "> avg loss: 5.944532206257413\n",
      "> For the *1081_th* data_key\n",
      "> retail = 24.99,bidincrement = 0.24, bidfee = 0.6, infer PT's parameters\n",
      "> Now do SA....... \n",
      "\n"
     ]
    },
    {
     "name": "stderr",
     "output_type": "stream",
     "text": [
      " 85%|████████▍ | 1082/1276 [3:28:31<12:10,  3.77s/it]"
     ]
    },
    {
     "name": "stdout",
     "output_type": "stream",
     "text": [
      "STOP CODE:  Stay unchanged in the last 6 iterations\n",
      "> SA ENDS....... \n",
      "\n",
      "> avg loss: 2.2865753521248395\n",
      "> For the *1082_th* data_key\n",
      "> retail = 19.99,bidincrement = 0.24, bidfee = 0.6, infer PT's parameters\n",
      "> Now do SA....... \n",
      "\n"
     ]
    },
    {
     "name": "stderr",
     "output_type": "stream",
     "text": [
      " 85%|████████▍ | 1083/1276 [3:28:32<10:10,  3.16s/it]"
     ]
    },
    {
     "name": "stdout",
     "output_type": "stream",
     "text": [
      "STOP CODE:  Stay unchanged in the last 6 iterations\n",
      "> SA ENDS....... \n",
      "\n",
      "> avg loss: 2.417321971243937\n",
      "> For the *1083_th* data_key\n",
      "> retail = 29.95,bidincrement = 0.24, bidfee = 0.6, infer PT's parameters\n",
      "> Now do SA....... \n",
      "\n"
     ]
    },
    {
     "name": "stderr",
     "output_type": "stream",
     "text": [
      " 85%|████████▍ | 1084/1276 [3:28:35<09:17,  2.90s/it]"
     ]
    },
    {
     "name": "stdout",
     "output_type": "stream",
     "text": [
      "STOP CODE:  Stay unchanged in the last 6 iterations\n",
      "> SA ENDS....... \n",
      "\n",
      "> avg loss: 2.941092830114816\n",
      "> For the *1084_th* data_key\n",
      "> retail = 49.99,bidincrement = 0.12, bidfee = 0.6, infer PT's parameters\n",
      "> Now do SA....... \n",
      "\n"
     ]
    },
    {
     "name": "stderr",
     "output_type": "stream",
     "text": [
      " 85%|████████▌ | 1085/1276 [3:28:37<08:45,  2.75s/it]"
     ]
    },
    {
     "name": "stdout",
     "output_type": "stream",
     "text": [
      "STOP CODE:  Stay unchanged in the last 6 iterations\n",
      "> SA ENDS....... \n",
      "\n",
      "> avg loss: 5.229282450187756\n",
      "> For the *1085_th* data_key\n",
      "> retail = 49.99,bidincrement = 0.12, bidfee = 0.6, infer PT's parameters\n",
      "> Now do SA....... \n",
      "\n"
     ]
    },
    {
     "name": "stderr",
     "output_type": "stream",
     "text": [
      " 85%|████████▌ | 1086/1276 [3:28:41<09:22,  2.96s/it]"
     ]
    },
    {
     "name": "stdout",
     "output_type": "stream",
     "text": [
      "STOP CODE:  Stay unchanged in the last 6 iterations\n",
      "> SA ENDS....... \n",
      "\n",
      "> avg loss: 5.263176373638945\n",
      "> For the *1086_th* data_key\n",
      "> retail = 49.99,bidincrement = 0.12, bidfee = 0.6, infer PT's parameters\n",
      "> Now do SA....... \n",
      "\n"
     ]
    },
    {
     "name": "stderr",
     "output_type": "stream",
     "text": [
      " 85%|████████▌ | 1087/1276 [3:28:46<11:47,  3.74s/it]"
     ]
    },
    {
     "name": "stdout",
     "output_type": "stream",
     "text": [
      "STOP CODE:  Stay unchanged in the last 6 iterations\n",
      "> SA ENDS....... \n",
      "\n",
      "> avg loss: 5.19196976036814\n",
      "> For the *1087_th* data_key\n",
      "> retail = 41.99,bidincrement = 0.12, bidfee = 0.6, infer PT's parameters\n",
      "> Now do SA....... \n",
      "\n"
     ]
    },
    {
     "name": "stderr",
     "output_type": "stream",
     "text": [
      " 85%|████████▌ | 1088/1276 [3:28:48<09:33,  3.05s/it]"
     ]
    },
    {
     "name": "stdout",
     "output_type": "stream",
     "text": [
      "STOP CODE:  Stay unchanged in the last 6 iterations\n",
      "> SA ENDS....... \n",
      "\n",
      "> avg loss: 5.247016079056185\n",
      "> For the *1088_th* data_key\n",
      "> retail = 49.99,bidincrement = 0.12, bidfee = 0.6, infer PT's parameters\n",
      "> Now do SA....... \n",
      "\n"
     ]
    },
    {
     "name": "stderr",
     "output_type": "stream",
     "text": [
      " 85%|████████▌ | 1089/1276 [3:28:50<08:44,  2.80s/it]"
     ]
    },
    {
     "name": "stdout",
     "output_type": "stream",
     "text": [
      "STOP CODE:  Stay unchanged in the last 6 iterations\n",
      "> SA ENDS....... \n",
      "\n",
      "> avg loss: 5.403779637617197\n",
      "> For the *1089_th* data_key\n",
      "> retail = 54.99,bidincrement = 0.12, bidfee = 0.6, infer PT's parameters\n",
      "> Now do SA....... \n",
      "\n"
     ]
    },
    {
     "name": "stderr",
     "output_type": "stream",
     "text": [
      " 85%|████████▌ | 1090/1276 [3:28:52<08:11,  2.64s/it]"
     ]
    },
    {
     "name": "stdout",
     "output_type": "stream",
     "text": [
      "STOP CODE:  Stay unchanged in the last 6 iterations\n",
      "> SA ENDS....... \n",
      "\n",
      "> avg loss: 5.488952787994968\n",
      "> For the *1090_th* data_key\n",
      "> retail = 36.99,bidincrement = 0.12, bidfee = 0.6, infer PT's parameters\n",
      "> Now do SA....... \n",
      "\n"
     ]
    },
    {
     "name": "stderr",
     "output_type": "stream",
     "text": [
      " 86%|████████▌ | 1091/1276 [3:28:55<08:21,  2.71s/it]"
     ]
    },
    {
     "name": "stdout",
     "output_type": "stream",
     "text": [
      "STOP CODE:  Stay unchanged in the last 6 iterations\n",
      "> SA ENDS....... \n",
      "\n",
      "> avg loss: 4.859292187300024\n",
      "> For the *1091_th* data_key\n",
      "> retail = 59.99,bidincrement = 0.12, bidfee = 0.6, infer PT's parameters\n",
      "> Now do SA....... \n",
      "\n"
     ]
    },
    {
     "name": "stderr",
     "output_type": "stream",
     "text": [
      " 86%|████████▌ | 1092/1276 [3:28:57<08:01,  2.62s/it]"
     ]
    },
    {
     "name": "stdout",
     "output_type": "stream",
     "text": [
      "STOP CODE:  Stay unchanged in the last 6 iterations\n",
      "> SA ENDS....... \n",
      "\n",
      "> avg loss: 5.517725111432331\n",
      "> For the *1092_th* data_key\n",
      "> retail = 112.0,bidincrement = 0.12, bidfee = 0.6, infer PT's parameters\n",
      "> Now do SA....... \n",
      "\n"
     ]
    },
    {
     "name": "stderr",
     "output_type": "stream",
     "text": [
      " 86%|████████▌ | 1093/1276 [3:29:01<08:43,  2.86s/it]"
     ]
    },
    {
     "name": "stdout",
     "output_type": "stream",
     "text": [
      "STOP CODE:  Stay unchanged in the last 6 iterations\n",
      "> SA ENDS....... \n",
      "\n",
      "> avg loss: 6.184707866535358\n",
      "> For the *1093_th* data_key\n",
      "> retail = 38.99,bidincrement = 0.12, bidfee = 0.6, infer PT's parameters\n",
      "> Now do SA....... \n",
      "\n"
     ]
    },
    {
     "name": "stderr",
     "output_type": "stream",
     "text": [
      " 86%|████████▌ | 1094/1276 [3:29:06<10:34,  3.49s/it]"
     ]
    },
    {
     "name": "stdout",
     "output_type": "stream",
     "text": [
      "STOP CODE:  Stay unchanged in the last 6 iterations\n",
      "> SA ENDS....... \n",
      "\n",
      "> avg loss: 4.993945510124699\n",
      "> For the *1094_th* data_key\n",
      "> retail = 35.65,bidincrement = 0.12, bidfee = 0.6, infer PT's parameters\n",
      "> Now do SA....... \n",
      "\n"
     ]
    },
    {
     "name": "stderr",
     "output_type": "stream",
     "text": [
      " 86%|████████▌ | 1095/1276 [3:29:07<08:36,  2.85s/it]"
     ]
    },
    {
     "name": "stdout",
     "output_type": "stream",
     "text": [
      "STOP CODE:  Stay unchanged in the last 6 iterations\n",
      "> SA ENDS....... \n",
      "\n",
      "> avg loss: 5.039666522855993\n",
      "> For the *1095_th* data_key\n",
      "> retail = 39.99,bidincrement = 0.12, bidfee = 0.6, infer PT's parameters\n",
      "> Now do SA....... \n",
      "\n"
     ]
    },
    {
     "name": "stderr",
     "output_type": "stream",
     "text": [
      " 86%|████████▌ | 1096/1276 [3:29:14<12:33,  4.19s/it]"
     ]
    },
    {
     "name": "stdout",
     "output_type": "stream",
     "text": [
      "STOP CODE:  Stay unchanged in the last 6 iterations\n",
      "> SA ENDS....... \n",
      "\n",
      "> avg loss: 4.959739158956546\n",
      "> For the *1096_th* data_key\n",
      "> retail = 54.99,bidincrement = 0.12, bidfee = 0.6, infer PT's parameters\n",
      "> Now do SA....... \n",
      "\n"
     ]
    },
    {
     "name": "stderr",
     "output_type": "stream",
     "text": [
      " 86%|████████▌ | 1097/1276 [3:29:23<16:53,  5.66s/it]"
     ]
    },
    {
     "name": "stdout",
     "output_type": "stream",
     "text": [
      "STOP CODE:  Stay unchanged in the last 6 iterations\n",
      "> SA ENDS....... \n",
      "\n",
      "> avg loss: 5.284792091178741\n",
      "> For the *1097_th* data_key\n",
      "> retail = 69.99,bidincrement = 0.12, bidfee = 0.6, infer PT's parameters\n",
      "> Now do SA....... \n",
      "\n"
     ]
    },
    {
     "name": "stderr",
     "output_type": "stream",
     "text": [
      " 86%|████████▌ | 1098/1276 [3:29:28<16:06,  5.43s/it]"
     ]
    },
    {
     "name": "stdout",
     "output_type": "stream",
     "text": [
      "STOP CODE:  Stay unchanged in the last 6 iterations\n",
      "> SA ENDS....... \n",
      "\n",
      "> avg loss: 5.540844707779496\n",
      "> For the *1098_th* data_key\n",
      "> retail = 65.0,bidincrement = 0.12, bidfee = 0.6, infer PT's parameters\n",
      "> Now do SA....... \n",
      "\n"
     ]
    },
    {
     "name": "stderr",
     "output_type": "stream",
     "text": [
      " 86%|████████▌ | 1099/1276 [3:29:33<15:21,  5.21s/it]"
     ]
    },
    {
     "name": "stdout",
     "output_type": "stream",
     "text": [
      "STOP CODE:  Stay unchanged in the last 6 iterations\n",
      "> SA ENDS....... \n",
      "\n",
      "> avg loss: 5.50940974808811\n",
      "> For the *1099_th* data_key\n",
      "> retail = 30.0,bidincrement = 0.01, bidfee = 0.6, infer PT's parameters\n",
      "> Now do SA....... \n",
      "\n"
     ]
    },
    {
     "name": "stderr",
     "output_type": "stream",
     "text": [
      " 86%|████████▌ | 1100/1276 [3:29:47<22:56,  7.82s/it]"
     ]
    },
    {
     "name": "stdout",
     "output_type": "stream",
     "text": [
      "STOP CODE:  Stay unchanged in the last 6 iterations\n",
      "> SA ENDS....... \n",
      "\n",
      "> avg loss: 4.944540352899597\n",
      "> For the *1100_th* data_key\n",
      "> retail = 45.0,bidincrement = 0.01, bidfee = 0.6, infer PT's parameters\n",
      "> Now do SA....... \n",
      "\n"
     ]
    },
    {
     "name": "stderr",
     "output_type": "stream",
     "text": [
      " 86%|████████▋ | 1101/1276 [3:29:58<25:45,  8.83s/it]"
     ]
    },
    {
     "name": "stdout",
     "output_type": "stream",
     "text": [
      "STOP CODE:  Stay unchanged in the last 6 iterations\n",
      "> SA ENDS....... \n",
      "\n",
      "> avg loss: 5.20031114554684\n",
      "> For the *1101_th* data_key\n",
      "> retail = 549.99,bidincrement = 0.06, bidfee = 0.6, infer PT's parameters\n",
      "> Now do SA....... \n",
      "\n"
     ]
    },
    {
     "name": "stderr",
     "output_type": "stream",
     "text": [
      " 86%|████████▋ | 1102/1276 [3:30:23<39:18, 13.55s/it]"
     ]
    },
    {
     "name": "stdout",
     "output_type": "stream",
     "text": [
      "STOP CODE:  Stay unchanged in the last 6 iterations\n",
      "> SA ENDS....... \n",
      "\n",
      "> avg loss: 7.787231190063538\n",
      "> For the *1102_th* data_key\n",
      "> retail = 188.99,bidincrement = 0.12, bidfee = 0.6, infer PT's parameters\n",
      "> Now do SA....... \n",
      "\n"
     ]
    },
    {
     "name": "stderr",
     "output_type": "stream",
     "text": [
      " 86%|████████▋ | 1103/1276 [3:30:36<38:55, 13.50s/it]"
     ]
    },
    {
     "name": "stdout",
     "output_type": "stream",
     "text": [
      "STOP CODE:  Stay unchanged in the last 6 iterations\n",
      "> SA ENDS....... \n",
      "\n",
      "> avg loss: 6.5542094249561975\n",
      "> For the *1103_th* data_key\n",
      "> retail = 109.95,bidincrement = 0.12, bidfee = 0.6, infer PT's parameters\n",
      "> Now do SA....... \n",
      "\n"
     ]
    },
    {
     "name": "stderr",
     "output_type": "stream",
     "text": [
      " 87%|████████▋ | 1104/1276 [3:30:43<32:58, 11.51s/it]"
     ]
    },
    {
     "name": "stdout",
     "output_type": "stream",
     "text": [
      "STOP CODE:  Stay unchanged in the last 6 iterations\n",
      "> SA ENDS....... \n",
      "\n",
      "> avg loss: 6.0879909970311035\n",
      "> For the *1104_th* data_key\n",
      "> retail = 72.99,bidincrement = 0.12, bidfee = 0.6, infer PT's parameters\n",
      "> Now do SA....... \n",
      "\n"
     ]
    },
    {
     "name": "stderr",
     "output_type": "stream",
     "text": [
      " 87%|████████▋ | 1105/1276 [3:30:49<28:30, 10.00s/it]"
     ]
    },
    {
     "name": "stdout",
     "output_type": "stream",
     "text": [
      "STOP CODE:  Stay unchanged in the last 6 iterations\n",
      "> SA ENDS....... \n",
      "\n",
      "> avg loss: 5.62703001232548\n",
      "> For the *1105_th* data_key\n",
      "> retail = 31.99,bidincrement = 0.12, bidfee = 0.6, infer PT's parameters\n",
      "> Now do SA....... \n",
      "\n"
     ]
    },
    {
     "name": "stderr",
     "output_type": "stream",
     "text": [
      " 87%|████████▋ | 1106/1276 [3:30:52<22:15,  7.86s/it]"
     ]
    },
    {
     "name": "stdout",
     "output_type": "stream",
     "text": [
      "STOP CODE:  Stay unchanged in the last 6 iterations\n",
      "> SA ENDS....... \n",
      "\n",
      "> avg loss: 4.727725900687238\n",
      "> For the *1106_th* data_key\n",
      "> retail = 129.99,bidincrement = 0.12, bidfee = 0.6, infer PT's parameters\n",
      "> Now do SA....... \n",
      "\n"
     ]
    },
    {
     "name": "stderr",
     "output_type": "stream",
     "text": [
      " 87%|████████▋ | 1107/1276 [3:31:00<22:23,  7.95s/it]"
     ]
    },
    {
     "name": "stdout",
     "output_type": "stream",
     "text": [
      "STOP CODE:  Stay unchanged in the last 6 iterations\n",
      "> SA ENDS....... \n",
      "\n",
      "> avg loss: 6.146344325761271\n",
      "> For the *1107_th* data_key\n",
      "> retail = 109.0,bidincrement = 0.12, bidfee = 0.6, infer PT's parameters\n",
      "> Now do SA....... \n",
      "\n"
     ]
    },
    {
     "name": "stderr",
     "output_type": "stream",
     "text": [
      " 87%|████████▋ | 1108/1276 [3:31:10<23:46,  8.49s/it]"
     ]
    },
    {
     "name": "stdout",
     "output_type": "stream",
     "text": [
      "STOP CODE:  Stay unchanged in the last 6 iterations\n",
      "> SA ENDS....... \n",
      "\n",
      "> avg loss: 5.981882109854678\n",
      "> For the *1108_th* data_key\n",
      "> retail = 99.99,bidincrement = 0.12, bidfee = 0.6, infer PT's parameters\n",
      "> Now do SA....... \n",
      "\n"
     ]
    },
    {
     "name": "stderr",
     "output_type": "stream",
     "text": [
      " 87%|████████▋ | 1109/1276 [3:31:13<18:40,  6.71s/it]"
     ]
    },
    {
     "name": "stdout",
     "output_type": "stream",
     "text": [
      "STOP CODE:  Stay unchanged in the last 6 iterations\n",
      "> SA ENDS....... \n",
      "\n",
      "> avg loss: 6.056786028277355\n",
      "> For the *1109_th* data_key\n",
      "> retail = 30.99,bidincrement = 0.12, bidfee = 0.6, infer PT's parameters\n",
      "> Now do SA....... \n",
      "\n"
     ]
    },
    {
     "name": "stderr",
     "output_type": "stream",
     "text": [
      " 87%|████████▋ | 1110/1276 [3:31:15<14:29,  5.24s/it]"
     ]
    },
    {
     "name": "stdout",
     "output_type": "stream",
     "text": [
      "STOP CODE:  Stay unchanged in the last 6 iterations\n",
      "> SA ENDS....... \n",
      "\n",
      "> avg loss: 4.794740571148434\n",
      "> For the *1110_th* data_key\n",
      "> retail = 56.99,bidincrement = 0.12, bidfee = 0.6, infer PT's parameters\n",
      "> Now do SA....... \n",
      "\n"
     ]
    },
    {
     "name": "stderr",
     "output_type": "stream",
     "text": [
      " 87%|████████▋ | 1111/1276 [3:31:17<11:50,  4.31s/it]"
     ]
    },
    {
     "name": "stdout",
     "output_type": "stream",
     "text": [
      "STOP CODE:  Stay unchanged in the last 6 iterations\n",
      "> SA ENDS....... \n",
      "\n",
      "> avg loss: 5.3812124707992\n",
      "> For the *1111_th* data_key\n",
      "> retail = 39.99,bidincrement = 0.12, bidfee = 0.6, infer PT's parameters\n",
      "> Now do SA....... \n",
      "\n"
     ]
    },
    {
     "name": "stderr",
     "output_type": "stream",
     "text": [
      " 87%|████████▋ | 1112/1276 [3:31:22<12:32,  4.59s/it]"
     ]
    },
    {
     "name": "stdout",
     "output_type": "stream",
     "text": [
      "STOP CODE:  Stay unchanged in the last 6 iterations\n",
      "> SA ENDS....... \n",
      "\n",
      "> avg loss: 5.019151368712895\n",
      "> For the *1112_th* data_key\n",
      "> retail = 34.99,bidincrement = 0.12, bidfee = 0.6, infer PT's parameters\n",
      "> Now do SA....... \n",
      "\n"
     ]
    },
    {
     "name": "stderr",
     "output_type": "stream",
     "text": [
      " 87%|████████▋ | 1113/1276 [3:31:25<10:55,  4.02s/it]"
     ]
    },
    {
     "name": "stdout",
     "output_type": "stream",
     "text": [
      "STOP CODE:  Stay unchanged in the last 6 iterations\n",
      "> SA ENDS....... \n",
      "\n",
      "> avg loss: 4.882144846520454\n",
      "> For the *1113_th* data_key\n",
      "> retail = 58.99,bidincrement = 0.12, bidfee = 0.6, infer PT's parameters\n",
      "> Now do SA....... \n",
      "\n"
     ]
    },
    {
     "name": "stderr",
     "output_type": "stream",
     "text": [
      " 87%|████████▋ | 1114/1276 [3:31:30<11:39,  4.32s/it]"
     ]
    },
    {
     "name": "stdout",
     "output_type": "stream",
     "text": [
      "STOP CODE:  Stay unchanged in the last 6 iterations\n",
      "> SA ENDS....... \n",
      "\n",
      "> avg loss: 5.362774388589829\n",
      "> For the *1114_th* data_key\n",
      "> retail = 34.76,bidincrement = 0.12, bidfee = 0.6, infer PT's parameters\n",
      "> Now do SA....... \n",
      "\n"
     ]
    },
    {
     "name": "stderr",
     "output_type": "stream",
     "text": [
      " 87%|████████▋ | 1115/1276 [3:31:32<10:06,  3.77s/it]"
     ]
    },
    {
     "name": "stdout",
     "output_type": "stream",
     "text": [
      "STOP CODE:  Stay unchanged in the last 6 iterations\n",
      "> SA ENDS....... \n",
      "\n",
      "> avg loss: 4.832627949970428\n",
      "> For the *1115_th* data_key\n",
      "> retail = 379.99,bidincrement = 0.12, bidfee = 0.6, infer PT's parameters\n",
      "> Now do SA....... \n",
      "\n"
     ]
    },
    {
     "name": "stderr",
     "output_type": "stream",
     "text": [
      " 87%|████████▋ | 1116/1276 [3:31:45<17:21,  6.51s/it]"
     ]
    },
    {
     "name": "stdout",
     "output_type": "stream",
     "text": [
      "STOP CODE:  Stay unchanged in the last 6 iterations\n",
      "> SA ENDS....... \n",
      "\n",
      "> avg loss: 7.22807219415377\n",
      "> For the *1116_th* data_key\n",
      "> retail = 19.49,bidincrement = 0.12, bidfee = 0.6, infer PT's parameters\n",
      "> Now do SA....... \n",
      "\n"
     ]
    },
    {
     "name": "stderr",
     "output_type": "stream",
     "text": [
      " 88%|████████▊ | 1117/1276 [3:31:47<13:15,  5.00s/it]"
     ]
    },
    {
     "name": "stdout",
     "output_type": "stream",
     "text": [
      "STOP CODE:  Stay unchanged in the last 6 iterations\n",
      "> SA ENDS....... \n",
      "\n",
      "> avg loss: 4.313355576912579\n",
      "> For the *1117_th* data_key\n",
      "> retail = 94.99,bidincrement = 0.12, bidfee = 0.6, infer PT's parameters\n",
      "> Now do SA....... \n",
      "\n"
     ]
    },
    {
     "name": "stderr",
     "output_type": "stream",
     "text": [
      " 88%|████████▊ | 1118/1276 [3:31:50<11:46,  4.47s/it]"
     ]
    },
    {
     "name": "stdout",
     "output_type": "stream",
     "text": [
      "STOP CODE:  Stay unchanged in the last 6 iterations\n",
      "> SA ENDS....... \n",
      "\n",
      "> avg loss: 6.031400323062645\n",
      "> For the *1118_th* data_key\n",
      "> retail = 36.49,bidincrement = 0.12, bidfee = 0.6, infer PT's parameters\n",
      "> Now do SA....... \n",
      "\n"
     ]
    },
    {
     "name": "stderr",
     "output_type": "stream",
     "text": [
      " 88%|████████▊ | 1119/1276 [3:31:52<09:40,  3.70s/it]"
     ]
    },
    {
     "name": "stdout",
     "output_type": "stream",
     "text": [
      "STOP CODE:  Stay unchanged in the last 6 iterations\n",
      "> SA ENDS....... \n",
      "\n",
      "> avg loss: 4.780864769882965\n",
      "> For the *1119_th* data_key\n",
      "> retail = 59.95,bidincrement = 0.12, bidfee = 0.6, infer PT's parameters\n",
      "> Now do SA....... \n",
      "\n"
     ]
    },
    {
     "name": "stderr",
     "output_type": "stream",
     "text": [
      " 88%|████████▊ | 1120/1276 [3:31:55<09:15,  3.56s/it]"
     ]
    },
    {
     "name": "stdout",
     "output_type": "stream",
     "text": [
      "STOP CODE:  Stay unchanged in the last 6 iterations\n",
      "> SA ENDS....... \n",
      "\n",
      "> avg loss: 5.4209916945064345\n",
      "> For the *1120_th* data_key\n",
      "> retail = 1849.0,bidincrement = 0.01, bidfee = 0.6, infer PT's parameters\n",
      "> Now do SA....... \n",
      "\n"
     ]
    },
    {
     "name": "stderr",
     "output_type": "stream",
     "text": [
      " 88%|████████▊ | 1121/1276 [3:32:58<55:15, 21.39s/it]"
     ]
    },
    {
     "name": "stdout",
     "output_type": "stream",
     "text": [
      "> 超时\n",
      "> SA ENDS....... \n",
      "\n",
      "> avg loss: 19.124394462284446\n",
      "> For the *1121_th* data_key\n",
      "> retail = 749.95,bidincrement = 0.01, bidfee = 0.6, infer PT's parameters\n",
      "> Now do SA....... \n",
      "\n"
     ]
    },
    {
     "name": "stderr",
     "output_type": "stream",
     "text": [
      " 88%|████████▊ | 1122/1276 [3:33:59<1:25:28, 33.30s/it]"
     ]
    },
    {
     "name": "stdout",
     "output_type": "stream",
     "text": [
      "> 超时\n",
      "> SA ENDS....... \n",
      "\n",
      "> avg loss: 14.315492724804988\n",
      "> For the *1122_th* data_key\n",
      "> retail = 1081.99,bidincrement = 0.01, bidfee = 0.6, infer PT's parameters\n",
      "> Now do SA....... \n",
      "\n"
     ]
    },
    {
     "name": "stderr",
     "output_type": "stream",
     "text": [
      " 88%|████████▊ | 1123/1276 [3:35:01<1:47:02, 41.98s/it]"
     ]
    },
    {
     "name": "stdout",
     "output_type": "stream",
     "text": [
      "> 超时\n",
      "> SA ENDS....... \n",
      "\n",
      "> avg loss: 16.150271890447357\n",
      "> For the *1123_th* data_key\n",
      "> retail = 549.99,bidincrement = 0.01, bidfee = 0.6, infer PT's parameters\n",
      "> Now do SA....... \n",
      "\n"
     ]
    },
    {
     "name": "stderr",
     "output_type": "stream",
     "text": [
      " 88%|████████▊ | 1124/1276 [3:36:02<2:00:27, 47.55s/it]"
     ]
    },
    {
     "name": "stdout",
     "output_type": "stream",
     "text": [
      "> 超时\n",
      "> SA ENDS....... \n",
      "\n",
      "> avg loss: 13.043818322993676\n",
      "> For the *1124_th* data_key\n",
      "> retail = 1999.99,bidincrement = 0.01, bidfee = 0.6, infer PT's parameters\n",
      "> Now do SA....... \n",
      "\n"
     ]
    },
    {
     "name": "stderr",
     "output_type": "stream",
     "text": [
      " 88%|████████▊ | 1125/1276 [3:37:06<2:12:15, 52.55s/it]"
     ]
    },
    {
     "name": "stdout",
     "output_type": "stream",
     "text": [
      "> 超时\n",
      "> SA ENDS....... \n",
      "\n",
      "> avg loss: 19.7951154252109\n",
      "> For the *1125_th* data_key\n",
      "> retail = 1499.0,bidincrement = 0.01, bidfee = 0.6, infer PT's parameters\n",
      "> Now do SA....... \n",
      "\n"
     ]
    },
    {
     "name": "stderr",
     "output_type": "stream",
     "text": [
      " 88%|████████▊ | 1126/1276 [3:38:09<2:19:25, 55.77s/it]"
     ]
    },
    {
     "name": "stdout",
     "output_type": "stream",
     "text": [
      "> 超时\n",
      "> SA ENDS....... \n",
      "\n",
      "> avg loss: 18.585153780987284\n",
      "> For the *1126_th* data_key\n",
      "> retail = 57.99,bidincrement = 0.12, bidfee = 0.6, infer PT's parameters\n",
      "> Now do SA....... \n",
      "\n"
     ]
    },
    {
     "name": "stderr",
     "output_type": "stream",
     "text": [
      " 88%|████████▊ | 1127/1276 [3:38:15<1:41:29, 40.87s/it]"
     ]
    },
    {
     "name": "stdout",
     "output_type": "stream",
     "text": [
      "STOP CODE:  Stay unchanged in the last 6 iterations\n",
      "> SA ENDS....... \n",
      "\n",
      "> avg loss: 5.322869720790165\n",
      "> For the *1127_th* data_key\n",
      "> retail = 59.99,bidincrement = 0.12, bidfee = 0.6, infer PT's parameters\n",
      "> Now do SA....... \n",
      "\n"
     ]
    },
    {
     "name": "stderr",
     "output_type": "stream",
     "text": [
      " 88%|████████▊ | 1128/1276 [3:38:20<1:14:03, 30.02s/it]"
     ]
    },
    {
     "name": "stdout",
     "output_type": "stream",
     "text": [
      "STOP CODE:  Stay unchanged in the last 6 iterations\n",
      "> SA ENDS....... \n",
      "\n",
      "> avg loss: 5.413094383166857\n",
      "> For the *1128_th* data_key\n",
      "> retail = 51.99,bidincrement = 0.12, bidfee = 0.6, infer PT's parameters\n",
      "> Now do SA....... \n",
      "\n"
     ]
    },
    {
     "name": "stderr",
     "output_type": "stream",
     "text": [
      " 88%|████████▊ | 1129/1276 [3:38:23<53:57, 22.02s/it]  "
     ]
    },
    {
     "name": "stdout",
     "output_type": "stream",
     "text": [
      "STOP CODE:  Stay unchanged in the last 6 iterations\n",
      "> SA ENDS....... \n",
      "\n",
      "> avg loss: 5.298387282982417\n",
      "> For the *1129_th* data_key\n",
      "> retail = 54.99,bidincrement = 0.12, bidfee = 0.6, infer PT's parameters\n",
      "> Now do SA....... \n",
      "\n"
     ]
    },
    {
     "name": "stderr",
     "output_type": "stream",
     "text": [
      " 89%|████████▊ | 1130/1276 [3:38:27<40:00, 16.44s/it]"
     ]
    },
    {
     "name": "stdout",
     "output_type": "stream",
     "text": [
      "STOP CODE:  Stay unchanged in the last 6 iterations\n",
      "> SA ENDS....... \n",
      "\n",
      "> avg loss: 5.339275537888074\n",
      "> For the *1130_th* data_key\n",
      "> retail = 49.99,bidincrement = 0.12, bidfee = 0.6, infer PT's parameters\n",
      "> Now do SA....... \n",
      "\n"
     ]
    },
    {
     "name": "stderr",
     "output_type": "stream",
     "text": [
      " 89%|████████▊ | 1131/1276 [3:38:29<29:20, 12.14s/it]"
     ]
    },
    {
     "name": "stdout",
     "output_type": "stream",
     "text": [
      "STOP CODE:  Stay unchanged in the last 6 iterations\n",
      "> SA ENDS....... \n",
      "\n",
      "> avg loss: 5.18784706230736\n",
      "> For the *1131_th* data_key\n",
      "> retail = 42.99,bidincrement = 0.12, bidfee = 0.6, infer PT's parameters\n",
      "> Now do SA....... \n",
      "\n"
     ]
    },
    {
     "name": "stderr",
     "output_type": "stream",
     "text": [
      " 89%|████████▊ | 1132/1276 [3:38:31<21:55,  9.14s/it]"
     ]
    },
    {
     "name": "stdout",
     "output_type": "stream",
     "text": [
      "STOP CODE:  Stay unchanged in the last 6 iterations\n",
      "> SA ENDS....... \n",
      "\n",
      "> avg loss: 5.058971878203417\n",
      "> For the *1132_th* data_key\n",
      "> retail = 59.99,bidincrement = 0.12, bidfee = 0.6, infer PT's parameters\n",
      "> Now do SA....... \n",
      "\n"
     ]
    },
    {
     "name": "stderr",
     "output_type": "stream",
     "text": [
      " 89%|████████▉ | 1133/1276 [3:38:33<16:50,  7.07s/it]"
     ]
    },
    {
     "name": "stdout",
     "output_type": "stream",
     "text": [
      "STOP CODE:  Stay unchanged in the last 6 iterations\n",
      "> SA ENDS....... \n",
      "\n",
      "> avg loss: 5.545653238513556\n",
      "> For the *1133_th* data_key\n",
      "> retail = 57.99,bidincrement = 0.12, bidfee = 0.6, infer PT's parameters\n",
      "> Now do SA....... \n",
      "\n"
     ]
    },
    {
     "name": "stderr",
     "output_type": "stream",
     "text": [
      " 89%|████████▉ | 1134/1276 [3:38:37<14:08,  5.97s/it]"
     ]
    },
    {
     "name": "stdout",
     "output_type": "stream",
     "text": [
      "STOP CODE:  Stay unchanged in the last 6 iterations\n",
      "> SA ENDS....... \n",
      "\n",
      "> avg loss: 5.385471111769033\n",
      "> For the *1134_th* data_key\n",
      "> retail = 51.99,bidincrement = 0.12, bidfee = 0.6, infer PT's parameters\n",
      "> Now do SA....... \n",
      "\n"
     ]
    },
    {
     "name": "stderr",
     "output_type": "stream",
     "text": [
      " 89%|████████▉ | 1135/1276 [3:38:41<12:52,  5.48s/it]"
     ]
    },
    {
     "name": "stdout",
     "output_type": "stream",
     "text": [
      "STOP CODE:  Stay unchanged in the last 6 iterations\n",
      "> SA ENDS....... \n",
      "\n",
      "> avg loss: 5.269262753498321\n",
      "> For the *1135_th* data_key\n",
      "> retail = 59.99,bidincrement = 0.12, bidfee = 0.6, infer PT's parameters\n",
      "> Now do SA....... \n",
      "\n"
     ]
    },
    {
     "name": "stderr",
     "output_type": "stream",
     "text": [
      " 89%|████████▉ | 1136/1276 [3:38:44<10:45,  4.61s/it]"
     ]
    },
    {
     "name": "stdout",
     "output_type": "stream",
     "text": [
      "STOP CODE:  Stay unchanged in the last 6 iterations\n",
      "> SA ENDS....... \n",
      "\n",
      "> avg loss: 5.397310209716672\n",
      "> For the *1136_th* data_key\n",
      "> retail = 59.99,bidincrement = 0.12, bidfee = 0.6, infer PT's parameters\n",
      "> Now do SA....... \n",
      "\n"
     ]
    },
    {
     "name": "stderr",
     "output_type": "stream",
     "text": [
      " 89%|████████▉ | 1137/1276 [3:38:47<09:55,  4.29s/it]"
     ]
    },
    {
     "name": "stdout",
     "output_type": "stream",
     "text": [
      "STOP CODE:  Stay unchanged in the last 6 iterations\n",
      "> SA ENDS....... \n",
      "\n",
      "> avg loss: 5.400292658647973\n",
      "> For the *1137_th* data_key\n",
      "> retail = 59.99,bidincrement = 0.12, bidfee = 0.6, infer PT's parameters\n",
      "> Now do SA....... \n",
      "\n"
     ]
    },
    {
     "name": "stderr",
     "output_type": "stream",
     "text": [
      " 89%|████████▉ | 1138/1276 [3:38:55<12:27,  5.42s/it]"
     ]
    },
    {
     "name": "stdout",
     "output_type": "stream",
     "text": [
      "STOP CODE:  Stay unchanged in the last 6 iterations\n",
      "> SA ENDS....... \n",
      "\n",
      "> avg loss: 5.5080822003793966\n",
      "> For the *1138_th* data_key\n",
      "> retail = 54.99,bidincrement = 0.12, bidfee = 0.6, infer PT's parameters\n",
      "> Now do SA....... \n",
      "\n"
     ]
    },
    {
     "name": "stderr",
     "output_type": "stream",
     "text": [
      " 89%|████████▉ | 1139/1276 [3:38:58<10:51,  4.76s/it]"
     ]
    },
    {
     "name": "stdout",
     "output_type": "stream",
     "text": [
      "STOP CODE:  Stay unchanged in the last 6 iterations\n",
      "> SA ENDS....... \n",
      "\n",
      "> avg loss: 5.261746309374235\n",
      "> For the *1139_th* data_key\n",
      "> retail = 42.99,bidincrement = 0.12, bidfee = 0.6, infer PT's parameters\n",
      "> Now do SA....... \n",
      "\n"
     ]
    },
    {
     "name": "stderr",
     "output_type": "stream",
     "text": [
      " 89%|████████▉ | 1140/1276 [3:39:02<09:42,  4.28s/it]"
     ]
    },
    {
     "name": "stdout",
     "output_type": "stream",
     "text": [
      "STOP CODE:  Stay unchanged in the last 6 iterations\n",
      "> SA ENDS....... \n",
      "\n",
      "> avg loss: 5.001550252543885\n",
      "> For the *1140_th* data_key\n",
      "> retail = 54.99,bidincrement = 0.12, bidfee = 0.6, infer PT's parameters\n",
      "> Now do SA....... \n",
      "\n"
     ]
    },
    {
     "name": "stderr",
     "output_type": "stream",
     "text": [
      " 89%|████████▉ | 1141/1276 [3:39:08<11:15,  5.00s/it]"
     ]
    },
    {
     "name": "stdout",
     "output_type": "stream",
     "text": [
      "STOP CODE:  Stay unchanged in the last 6 iterations\n",
      "> SA ENDS....... \n",
      "\n",
      "> avg loss: 5.332478424614396\n",
      "> For the *1141_th* data_key\n",
      "> retail = 44.99,bidincrement = 0.12, bidfee = 0.6, infer PT's parameters\n",
      "> Now do SA....... \n",
      "\n"
     ]
    },
    {
     "name": "stderr",
     "output_type": "stream",
     "text": [
      " 89%|████████▉ | 1142/1276 [3:39:10<09:11,  4.11s/it]"
     ]
    },
    {
     "name": "stdout",
     "output_type": "stream",
     "text": [
      "STOP CODE:  Stay unchanged in the last 6 iterations\n",
      "> SA ENDS....... \n",
      "\n",
      "> avg loss: 5.1113254862156206\n",
      "> For the *1142_th* data_key\n",
      "> retail = 119.99,bidincrement = 0.12, bidfee = 0.6, infer PT's parameters\n",
      "> Now do SA....... \n",
      "\n"
     ]
    },
    {
     "name": "stderr",
     "output_type": "stream",
     "text": [
      " 90%|████████▉ | 1143/1276 [3:39:14<08:30,  3.84s/it]"
     ]
    },
    {
     "name": "stdout",
     "output_type": "stream",
     "text": [
      "STOP CODE:  Stay unchanged in the last 6 iterations\n",
      "> SA ENDS....... \n",
      "\n",
      "> avg loss: 6.26545859346478\n",
      "> For the *1143_th* data_key\n",
      "> retail = 119.99,bidincrement = 0.12, bidfee = 0.6, infer PT's parameters\n",
      "> Now do SA....... \n",
      "\n"
     ]
    },
    {
     "name": "stderr",
     "output_type": "stream",
     "text": [
      " 90%|████████▉ | 1144/1276 [3:39:17<08:20,  3.80s/it]"
     ]
    },
    {
     "name": "stdout",
     "output_type": "stream",
     "text": [
      "STOP CODE:  Stay unchanged in the last 6 iterations\n",
      "> SA ENDS....... \n",
      "\n",
      "> avg loss: 6.21265086969215\n",
      "> For the *1144_th* data_key\n",
      "> retail = 119.99,bidincrement = 0.12, bidfee = 0.6, infer PT's parameters\n",
      "> Now do SA....... \n",
      "\n"
     ]
    },
    {
     "name": "stderr",
     "output_type": "stream",
     "text": [
      " 90%|████████▉ | 1145/1276 [3:39:20<07:50,  3.59s/it]"
     ]
    },
    {
     "name": "stdout",
     "output_type": "stream",
     "text": [
      "STOP CODE:  Stay unchanged in the last 6 iterations\n",
      "> SA ENDS....... \n",
      "\n",
      "> avg loss: 6.326773315755587\n",
      "> For the *1145_th* data_key\n",
      "> retail = 59.99,bidincrement = 0.12, bidfee = 0.6, infer PT's parameters\n",
      "> Now do SA....... \n",
      "\n"
     ]
    },
    {
     "name": "stderr",
     "output_type": "stream",
     "text": [
      " 90%|████████▉ | 1146/1276 [3:39:26<09:18,  4.30s/it]"
     ]
    },
    {
     "name": "stdout",
     "output_type": "stream",
     "text": [
      "STOP CODE:  Stay unchanged in the last 6 iterations\n",
      "> SA ENDS....... \n",
      "\n",
      "> avg loss: 5.420727055091441\n",
      "> For the *1146_th* data_key\n",
      "> retail = 59.99,bidincrement = 0.12, bidfee = 0.6, infer PT's parameters\n",
      "> Now do SA....... \n",
      "\n"
     ]
    },
    {
     "name": "stderr",
     "output_type": "stream",
     "text": [
      " 90%|████████▉ | 1147/1276 [3:39:34<11:08,  5.18s/it]"
     ]
    },
    {
     "name": "stdout",
     "output_type": "stream",
     "text": [
      "STOP CODE:  Stay unchanged in the last 6 iterations\n",
      "> SA ENDS....... \n",
      "\n",
      "> avg loss: 5.429732957125068\n",
      "> For the *1147_th* data_key\n",
      "> retail = 59.99,bidincrement = 0.12, bidfee = 0.6, infer PT's parameters\n",
      "> Now do SA....... \n",
      "\n"
     ]
    },
    {
     "name": "stderr",
     "output_type": "stream",
     "text": [
      " 90%|████████▉ | 1148/1276 [3:39:38<10:23,  4.87s/it]"
     ]
    },
    {
     "name": "stdout",
     "output_type": "stream",
     "text": [
      "STOP CODE:  Stay unchanged in the last 6 iterations\n",
      "> SA ENDS....... \n",
      "\n",
      "> avg loss: 5.377922566325395\n",
      "> For the *1148_th* data_key\n",
      "> retail = 399.99,bidincrement = 0.12, bidfee = 0.6, infer PT's parameters\n",
      "> Now do SA....... \n",
      "\n"
     ]
    },
    {
     "name": "stderr",
     "output_type": "stream",
     "text": [
      " 90%|█████████ | 1149/1276 [3:39:49<14:10,  6.69s/it]"
     ]
    },
    {
     "name": "stdout",
     "output_type": "stream",
     "text": [
      "STOP CODE:  Stay unchanged in the last 6 iterations\n",
      "> SA ENDS....... \n",
      "\n",
      "> avg loss: 7.639200815034188\n",
      "> For the *1149_th* data_key\n",
      "> retail = 429.99,bidincrement = 0.12, bidfee = 0.6, infer PT's parameters\n",
      "> Now do SA....... \n",
      "\n"
     ]
    },
    {
     "name": "stderr",
     "output_type": "stream",
     "text": [
      " 90%|█████████ | 1150/1276 [3:40:06<20:50,  9.93s/it]"
     ]
    },
    {
     "name": "stdout",
     "output_type": "stream",
     "text": [
      "STOP CODE:  Stay unchanged in the last 6 iterations\n",
      "> SA ENDS....... \n",
      "\n",
      "> avg loss: 7.675362327485762\n",
      "> For the *1150_th* data_key\n",
      "> retail = 39.99,bidincrement = 0.12, bidfee = 0.6, infer PT's parameters\n",
      "> Now do SA....... \n",
      "\n"
     ]
    },
    {
     "name": "stderr",
     "output_type": "stream",
     "text": [
      " 90%|█████████ | 1151/1276 [3:40:08<15:46,  7.57s/it]"
     ]
    },
    {
     "name": "stdout",
     "output_type": "stream",
     "text": [
      "STOP CODE:  Stay unchanged in the last 6 iterations\n",
      "> SA ENDS....... \n",
      "\n",
      "> avg loss: 5.009081415003108\n",
      "> For the *1151_th* data_key\n",
      "> retail = 59.99,bidincrement = 0.12, bidfee = 0.6, infer PT's parameters\n",
      "> Now do SA....... \n",
      "\n"
     ]
    },
    {
     "name": "stderr",
     "output_type": "stream",
     "text": [
      " 90%|█████████ | 1152/1276 [3:40:11<12:47,  6.19s/it]"
     ]
    },
    {
     "name": "stdout",
     "output_type": "stream",
     "text": [
      "STOP CODE:  Stay unchanged in the last 6 iterations\n",
      "> SA ENDS....... \n",
      "\n",
      "> avg loss: 5.413794623857309\n",
      "> For the *1152_th* data_key\n",
      "> retail = 329.99,bidincrement = 0.12, bidfee = 0.6, infer PT's parameters\n",
      "> Now do SA....... \n",
      "\n"
     ]
    },
    {
     "name": "stderr",
     "output_type": "stream",
     "text": [
      " 90%|█████████ | 1153/1276 [3:40:30<20:43, 10.11s/it]"
     ]
    },
    {
     "name": "stdout",
     "output_type": "stream",
     "text": [
      "STOP CODE:  Stay unchanged in the last 6 iterations\n",
      "> SA ENDS....... \n",
      "\n",
      "> avg loss: 7.0914553979918145\n",
      "> For the *1153_th* data_key\n",
      "> retail = 829.99,bidincrement = 0.01, bidfee = 0.6, infer PT's parameters\n",
      "> Now do SA....... \n",
      "\n"
     ]
    },
    {
     "name": "stderr",
     "output_type": "stream",
     "text": [
      " 90%|█████████ | 1154/1276 [3:41:32<52:06, 25.63s/it]"
     ]
    },
    {
     "name": "stdout",
     "output_type": "stream",
     "text": [
      "> 超时\n",
      "> SA ENDS....... \n",
      "\n",
      "> avg loss: 14.575772095828363\n",
      "> For the *1154_th* data_key\n",
      "> retail = 189.99,bidincrement = 0.12, bidfee = 0.6, infer PT's parameters\n",
      "> Now do SA....... \n",
      "\n"
     ]
    },
    {
     "name": "stderr",
     "output_type": "stream",
     "text": [
      " 91%|█████████ | 1155/1276 [3:41:38<39:31, 19.60s/it]"
     ]
    },
    {
     "name": "stdout",
     "output_type": "stream",
     "text": [
      "STOP CODE:  Stay unchanged in the last 6 iterations\n",
      "> SA ENDS....... \n",
      "\n",
      "> avg loss: 6.708923047886833\n",
      "> For the *1155_th* data_key\n",
      "> retail = 189.99,bidincrement = 0.12, bidfee = 0.6, infer PT's parameters\n",
      "> Now do SA....... \n",
      "\n"
     ]
    },
    {
     "name": "stderr",
     "output_type": "stream",
     "text": [
      " 91%|█████████ | 1156/1276 [3:41:43<30:38, 15.32s/it]"
     ]
    },
    {
     "name": "stdout",
     "output_type": "stream",
     "text": [
      "STOP CODE:  Stay unchanged in the last 6 iterations\n",
      "> SA ENDS....... \n",
      "\n",
      "> avg loss: 6.710210403974839\n",
      "> For the *1156_th* data_key\n",
      "> retail = 1249.0,bidincrement = 0.01, bidfee = 0.6, infer PT's parameters\n",
      "> Now do SA....... \n",
      "\n"
     ]
    },
    {
     "name": "stderr",
     "output_type": "stream",
     "text": [
      " 91%|█████████ | 1157/1276 [3:42:46<58:41, 29.59s/it]"
     ]
    },
    {
     "name": "stdout",
     "output_type": "stream",
     "text": [
      "> 超时\n",
      "> SA ENDS....... \n",
      "\n",
      "> avg loss: 17.24617744503677\n",
      "> For the *1157_th* data_key\n",
      "> retail = 219.99,bidincrement = 0.12, bidfee = 0.6, infer PT's parameters\n",
      "> Now do SA....... \n",
      "\n"
     ]
    },
    {
     "name": "stderr",
     "output_type": "stream",
     "text": [
      " 91%|█████████ | 1158/1276 [3:42:52<44:17, 22.53s/it]"
     ]
    },
    {
     "name": "stdout",
     "output_type": "stream",
     "text": [
      "STOP CODE:  Stay unchanged in the last 6 iterations\n",
      "> SA ENDS....... \n",
      "\n",
      "> avg loss: 6.94715441629227\n",
      "> For the *1158_th* data_key\n",
      "> retail = 59.99,bidincrement = 0.12, bidfee = 0.6, infer PT's parameters\n",
      "> Now do SA....... \n",
      "\n"
     ]
    },
    {
     "name": "stderr",
     "output_type": "stream",
     "text": [
      " 91%|█████████ | 1159/1276 [3:42:58<33:56, 17.41s/it]"
     ]
    },
    {
     "name": "stdout",
     "output_type": "stream",
     "text": [
      "STOP CODE:  Stay unchanged in the last 6 iterations\n",
      "> SA ENDS....... \n",
      "\n",
      "> avg loss: 5.42901109888724\n",
      "> For the *1159_th* data_key\n",
      "> retail = 49.99,bidincrement = 0.12, bidfee = 0.6, infer PT's parameters\n",
      "> Now do SA....... \n",
      "\n"
     ]
    },
    {
     "name": "stderr",
     "output_type": "stream",
     "text": [
      " 91%|█████████ | 1160/1276 [3:43:00<25:04, 12.97s/it]"
     ]
    },
    {
     "name": "stdout",
     "output_type": "stream",
     "text": [
      "STOP CODE:  Stay unchanged in the last 6 iterations\n",
      "> SA ENDS....... \n",
      "\n",
      "> avg loss: 5.197291993266141\n",
      "> For the *1160_th* data_key\n",
      "> retail = 399.99,bidincrement = 0.12, bidfee = 0.6, infer PT's parameters\n",
      "> Now do SA....... \n",
      "\n"
     ]
    },
    {
     "name": "stderr",
     "output_type": "stream",
     "text": [
      " 91%|█████████ | 1161/1276 [3:43:53<47:32, 24.81s/it]"
     ]
    },
    {
     "name": "stdout",
     "output_type": "stream",
     "text": [
      "STOP CODE:  Stay unchanged in the last 6 iterations\n",
      "> SA ENDS....... \n",
      "\n",
      "> avg loss: 7.332130751673017\n",
      "> For the *1161_th* data_key\n",
      "> retail = 36.49,bidincrement = 0.12, bidfee = 0.6, infer PT's parameters\n",
      "> Now do SA....... \n",
      "\n"
     ]
    },
    {
     "name": "stderr",
     "output_type": "stream",
     "text": [
      " 91%|█████████ | 1162/1276 [3:43:54<33:57, 17.88s/it]"
     ]
    },
    {
     "name": "stdout",
     "output_type": "stream",
     "text": [
      "STOP CODE:  Stay unchanged in the last 6 iterations\n",
      "> SA ENDS....... \n",
      "\n",
      "> avg loss: 4.794319357357095\n",
      "> For the *1162_th* data_key\n",
      "> retail = 29.63,bidincrement = 0.12, bidfee = 0.6, infer PT's parameters\n",
      "> Now do SA....... \n",
      "\n"
     ]
    },
    {
     "name": "stderr",
     "output_type": "stream",
     "text": [
      " 91%|█████████ | 1163/1276 [3:43:56<24:18, 12.91s/it]"
     ]
    },
    {
     "name": "stdout",
     "output_type": "stream",
     "text": [
      "STOP CODE:  Stay unchanged in the last 6 iterations\n",
      "> SA ENDS....... \n",
      "\n",
      "> avg loss: 4.925859619787381\n",
      "> For the *1163_th* data_key\n",
      "> retail = 599.99,bidincrement = 0.01, bidfee = 0.6, infer PT's parameters\n",
      "> Now do SA....... \n",
      "\n"
     ]
    },
    {
     "name": "stderr",
     "output_type": "stream",
     "text": [
      " 91%|█████████ | 1164/1276 [3:44:57<51:09, 27.41s/it]"
     ]
    },
    {
     "name": "stdout",
     "output_type": "stream",
     "text": [
      "> 超时\n",
      "> SA ENDS....... \n",
      "\n",
      "> avg loss: 12.93891288000434\n",
      "> For the *1164_th* data_key\n",
      "> retail = 199.99,bidincrement = 0.12, bidfee = 0.6, infer PT's parameters\n",
      "> Now do SA....... \n",
      "\n"
     ]
    },
    {
     "name": "stderr",
     "output_type": "stream",
     "text": [
      " 91%|█████████▏| 1165/1276 [3:45:02<38:16, 20.69s/it]"
     ]
    },
    {
     "name": "stdout",
     "output_type": "stream",
     "text": [
      "STOP CODE:  Stay unchanged in the last 6 iterations\n",
      "> SA ENDS....... \n",
      "\n",
      "> avg loss: 6.879489200676037\n",
      "> For the *1165_th* data_key\n",
      "> retail = 19.99,bidincrement = 0.12, bidfee = 0.6, infer PT's parameters\n",
      "> Now do SA....... \n",
      "\n"
     ]
    },
    {
     "name": "stderr",
     "output_type": "stream",
     "text": [
      " 91%|█████████▏| 1166/1276 [3:45:03<27:20, 14.91s/it]"
     ]
    },
    {
     "name": "stdout",
     "output_type": "stream",
     "text": [
      "STOP CODE:  Stay unchanged in the last 6 iterations\n",
      "> SA ENDS....... \n",
      "\n",
      "> avg loss: 4.556522589141485\n",
      "> For the *1166_th* data_key\n",
      "> retail = 89.99,bidincrement = 0.12, bidfee = 0.6, infer PT's parameters\n",
      "> Now do SA....... \n",
      "\n"
     ]
    },
    {
     "name": "stderr",
     "output_type": "stream",
     "text": [
      " 91%|█████████▏| 1167/1276 [3:45:07<21:00, 11.57s/it]"
     ]
    },
    {
     "name": "stdout",
     "output_type": "stream",
     "text": [
      "STOP CODE:  Stay unchanged in the last 6 iterations\n",
      "> SA ENDS....... \n",
      "\n",
      "> avg loss: 5.804742708587245\n",
      "> For the *1167_th* data_key\n",
      "> retail = 1699.0,bidincrement = 0.01, bidfee = 0.6, infer PT's parameters\n",
      "> Now do SA....... \n",
      "\n"
     ]
    },
    {
     "name": "stderr",
     "output_type": "stream",
     "text": [
      " 92%|█████████▏| 1168/1276 [3:46:10<48:35, 27.00s/it]"
     ]
    },
    {
     "name": "stdout",
     "output_type": "stream",
     "text": [
      "> 超时\n",
      "> SA ENDS....... \n",
      "\n",
      "> avg loss: 19.00698967442337\n",
      "> For the *1168_th* data_key\n",
      "> retail = 919.99,bidincrement = 0.01, bidfee = 0.6, infer PT's parameters\n",
      "> Now do SA....... \n",
      "\n"
     ]
    },
    {
     "name": "stderr",
     "output_type": "stream",
     "text": [
      " 92%|█████████▏| 1169/1276 [3:47:11<1:06:26, 37.25s/it]"
     ]
    },
    {
     "name": "stdout",
     "output_type": "stream",
     "text": [
      "> 超时\n",
      "> SA ENDS....... \n",
      "\n",
      "> avg loss: 15.015996214692258\n",
      "> For the *1169_th* data_key\n",
      "> retail = 29.99,bidincrement = 0.12, bidfee = 0.6, infer PT's parameters\n",
      "> Now do SA....... \n",
      "\n"
     ]
    },
    {
     "name": "stderr",
     "output_type": "stream",
     "text": [
      " 92%|█████████▏| 1170/1276 [3:47:13<46:45, 26.47s/it]  "
     ]
    },
    {
     "name": "stdout",
     "output_type": "stream",
     "text": [
      "STOP CODE:  Stay unchanged in the last 6 iterations\n",
      "> SA ENDS....... \n",
      "\n",
      "> avg loss: 4.725980866905477\n",
      "> For the *1170_th* data_key\n",
      "> retail = 29.99,bidincrement = 0.12, bidfee = 0.6, infer PT's parameters\n",
      "> Now do SA....... \n",
      "\n"
     ]
    },
    {
     "name": "stderr",
     "output_type": "stream",
     "text": [
      " 92%|█████████▏| 1171/1276 [3:47:17<34:59, 20.00s/it]"
     ]
    },
    {
     "name": "stdout",
     "output_type": "stream",
     "text": [
      "STOP CODE:  Stay unchanged in the last 6 iterations\n",
      "> SA ENDS....... \n",
      "\n",
      "> avg loss: 4.77954065307303\n",
      "> For the *1171_th* data_key\n",
      "> retail = 99.99,bidincrement = 0.12, bidfee = 0.6, infer PT's parameters\n",
      "> Now do SA....... \n",
      "\n"
     ]
    },
    {
     "name": "stderr",
     "output_type": "stream",
     "text": [
      " 92%|█████████▏| 1172/1276 [3:47:20<25:23, 14.65s/it]"
     ]
    },
    {
     "name": "stdout",
     "output_type": "stream",
     "text": [
      "STOP CODE:  Stay unchanged in the last 6 iterations\n",
      "> SA ENDS....... \n",
      "\n",
      "> avg loss: 5.991542122484274\n",
      "> For the *1172_th* data_key\n",
      "> retail = 144.99,bidincrement = 0.12, bidfee = 0.6, infer PT's parameters\n",
      "> Now do SA....... \n",
      "\n"
     ]
    },
    {
     "name": "stderr",
     "output_type": "stream",
     "text": [
      " 92%|█████████▏| 1173/1276 [3:47:24<19:43, 11.49s/it]"
     ]
    },
    {
     "name": "stdout",
     "output_type": "stream",
     "text": [
      "STOP CODE:  Stay unchanged in the last 6 iterations\n",
      "> SA ENDS....... \n",
      "\n",
      "> avg loss: 6.444360978592747\n",
      "> For the *1173_th* data_key\n",
      "> retail = 119.99,bidincrement = 0.12, bidfee = 0.6, infer PT's parameters\n",
      "> Now do SA....... \n",
      "\n"
     ]
    },
    {
     "name": "stderr",
     "output_type": "stream",
     "text": [
      " 92%|█████████▏| 1174/1276 [3:47:32<18:00, 10.59s/it]"
     ]
    },
    {
     "name": "stdout",
     "output_type": "stream",
     "text": [
      "STOP CODE:  Stay unchanged in the last 6 iterations\n",
      "> SA ENDS....... \n",
      "\n",
      "> avg loss: 6.081195064646852\n",
      "> For the *1174_th* data_key\n",
      "> retail = 124.99,bidincrement = 0.12, bidfee = 0.6, infer PT's parameters\n",
      "> Now do SA....... \n",
      "\n"
     ]
    },
    {
     "name": "stderr",
     "output_type": "stream",
     "text": [
      " 92%|█████████▏| 1175/1276 [3:47:38<15:16,  9.07s/it]"
     ]
    },
    {
     "name": "stdout",
     "output_type": "stream",
     "text": [
      "STOP CODE:  Stay unchanged in the last 6 iterations\n",
      "> SA ENDS....... \n",
      "\n",
      "> avg loss: 6.081384143199067\n",
      "> For the *1175_th* data_key\n",
      "> retail = 109.99,bidincrement = 0.12, bidfee = 0.6, infer PT's parameters\n",
      "> Now do SA....... \n",
      "\n"
     ]
    },
    {
     "name": "stderr",
     "output_type": "stream",
     "text": [
      " 92%|█████████▏| 1176/1276 [3:47:42<12:34,  7.54s/it]"
     ]
    },
    {
     "name": "stdout",
     "output_type": "stream",
     "text": [
      "STOP CODE:  Stay unchanged in the last 6 iterations\n",
      "> SA ENDS....... \n",
      "\n",
      "> avg loss: 6.2007376076072696\n",
      "> For the *1176_th* data_key\n",
      "> retail = 1199.0,bidincrement = 0.01, bidfee = 0.6, infer PT's parameters\n",
      "> Now do SA....... \n",
      "\n"
     ]
    },
    {
     "name": "stderr",
     "output_type": "stream",
     "text": [
      " 92%|█████████▏| 1177/1276 [3:48:44<39:37, 24.01s/it]"
     ]
    },
    {
     "name": "stdout",
     "output_type": "stream",
     "text": [
      "> 超时\n",
      "> SA ENDS....... \n",
      "\n",
      "> avg loss: 16.762105615992557\n",
      "> For the *1177_th* data_key\n",
      "> retail = 39.95,bidincrement = 0.12, bidfee = 0.6, infer PT's parameters\n",
      "> Now do SA....... \n",
      "\n"
     ]
    },
    {
     "name": "stderr",
     "output_type": "stream",
     "text": [
      " 92%|█████████▏| 1178/1276 [3:48:47<28:44, 17.60s/it]"
     ]
    },
    {
     "name": "stdout",
     "output_type": "stream",
     "text": [
      "STOP CODE:  Stay unchanged in the last 6 iterations\n",
      "> SA ENDS....... \n",
      "\n",
      "> avg loss: 5.009811322764485\n",
      "> For the *1178_th* data_key\n",
      "> retail = 49.99,bidincrement = 0.12, bidfee = 0.6, infer PT's parameters\n",
      "> Now do SA....... \n",
      "\n"
     ]
    },
    {
     "name": "stderr",
     "output_type": "stream",
     "text": [
      " 92%|█████████▏| 1179/1276 [3:48:51<22:08, 13.70s/it]"
     ]
    },
    {
     "name": "stdout",
     "output_type": "stream",
     "text": [
      "STOP CODE:  Stay unchanged in the last 6 iterations\n",
      "> SA ENDS....... \n",
      "\n",
      "> avg loss: 5.211801426780352\n",
      "> For the *1179_th* data_key\n",
      "> retail = 615.0,bidincrement = 0.01, bidfee = 0.6, infer PT's parameters\n",
      "> Now do SA....... \n",
      "\n"
     ]
    },
    {
     "name": "stderr",
     "output_type": "stream",
     "text": [
      " 92%|█████████▏| 1180/1276 [3:49:53<44:40, 27.92s/it]"
     ]
    },
    {
     "name": "stdout",
     "output_type": "stream",
     "text": [
      "> 超时\n",
      "> SA ENDS....... \n",
      "\n",
      "> avg loss: 13.497367303459342\n",
      "> For the *1180_th* data_key\n",
      "> retail = 49.99,bidincrement = 0.12, bidfee = 0.6, infer PT's parameters\n",
      "> Now do SA....... \n",
      "\n"
     ]
    },
    {
     "name": "stderr",
     "output_type": "stream",
     "text": [
      " 93%|█████████▎| 1181/1276 [3:49:55<32:00, 20.22s/it]"
     ]
    },
    {
     "name": "stdout",
     "output_type": "stream",
     "text": [
      "STOP CODE:  Stay unchanged in the last 6 iterations\n",
      "> SA ENDS....... \n",
      "\n",
      "> avg loss: 5.2637481370079495\n",
      "> For the *1181_th* data_key\n",
      "> retail = 49.99,bidincrement = 0.12, bidfee = 0.6, infer PT's parameters\n",
      "> Now do SA....... \n",
      "\n"
     ]
    },
    {
     "name": "stderr",
     "output_type": "stream",
     "text": [
      " 93%|█████████▎| 1182/1276 [3:49:59<24:10, 15.43s/it]"
     ]
    },
    {
     "name": "stdout",
     "output_type": "stream",
     "text": [
      "STOP CODE:  Stay unchanged in the last 6 iterations\n",
      "> SA ENDS....... \n",
      "\n",
      "> avg loss: 5.197916647868914\n",
      "> For the *1182_th* data_key\n",
      "> retail = 919.99,bidincrement = 0.01, bidfee = 0.6, infer PT's parameters\n",
      "> Now do SA....... \n",
      "\n"
     ]
    },
    {
     "name": "stderr",
     "output_type": "stream",
     "text": [
      " 93%|█████████▎| 1183/1276 [3:51:01<45:29, 29.34s/it]"
     ]
    },
    {
     "name": "stdout",
     "output_type": "stream",
     "text": [
      "> 超时\n",
      "> SA ENDS....... \n",
      "\n",
      "> avg loss: 15.37804004906279\n",
      "> For the *1183_th* data_key\n",
      "> retail = 359.99,bidincrement = 0.12, bidfee = 0.6, infer PT's parameters\n",
      "> Now do SA....... \n",
      "\n"
     ]
    },
    {
     "name": "stderr",
     "output_type": "stream",
     "text": [
      " 93%|█████████▎| 1184/1276 [3:51:39<49:07, 32.04s/it]"
     ]
    },
    {
     "name": "stdout",
     "output_type": "stream",
     "text": [
      "STOP CODE:  Stay unchanged in the last 6 iterations\n",
      "> SA ENDS....... \n",
      "\n",
      "> avg loss: 7.156344346546137\n",
      "> For the *1184_th* data_key\n",
      "> retail = 1339.0,bidincrement = 0.01, bidfee = 0.6, infer PT's parameters\n",
      "> Now do SA....... \n",
      "\n"
     ]
    },
    {
     "name": "stderr",
     "output_type": "stream",
     "text": [
      " 93%|█████████▎| 1185/1276 [3:52:41<1:02:08, 40.98s/it]"
     ]
    },
    {
     "name": "stdout",
     "output_type": "stream",
     "text": [
      "> 超时\n",
      "> SA ENDS....... \n",
      "\n",
      "> avg loss: 17.332065402311777\n",
      "> For the *1185_th* data_key\n",
      "> retail = 1719.0,bidincrement = 0.01, bidfee = 0.6, infer PT's parameters\n",
      "> Now do SA....... \n",
      "\n"
     ]
    },
    {
     "name": "stderr",
     "output_type": "stream",
     "text": [
      " 93%|█████████▎| 1186/1276 [3:53:44<1:11:25, 47.62s/it]"
     ]
    },
    {
     "name": "stdout",
     "output_type": "stream",
     "text": [
      "> 超时\n",
      "> SA ENDS....... \n",
      "\n",
      "> avg loss: 18.88541036570069\n",
      "> For the *1186_th* data_key\n",
      "> retail = 689.99,bidincrement = 0.01, bidfee = 0.6, infer PT's parameters\n",
      "> Now do SA....... \n",
      "\n"
     ]
    },
    {
     "name": "stderr",
     "output_type": "stream",
     "text": [
      " 93%|█████████▎| 1187/1276 [3:54:46<1:16:51, 51.81s/it]"
     ]
    },
    {
     "name": "stdout",
     "output_type": "stream",
     "text": [
      "> 超时\n",
      "> SA ENDS....... \n",
      "\n",
      "> avg loss: 13.849023815916954\n",
      "> For the *1187_th* data_key\n",
      "> retail = 429.99,bidincrement = 0.12, bidfee = 0.6, infer PT's parameters\n",
      "> Now do SA....... \n",
      "\n"
     ]
    },
    {
     "name": "stderr",
     "output_type": "stream",
     "text": [
      " 93%|█████████▎| 1188/1276 [3:55:01<59:43, 40.72s/it]  "
     ]
    },
    {
     "name": "stdout",
     "output_type": "stream",
     "text": [
      "STOP CODE:  Stay unchanged in the last 6 iterations\n",
      "> SA ENDS....... \n",
      "\n",
      "> avg loss: 7.5640681854164615\n",
      "> For the *1188_th* data_key\n",
      "> retail = 919.99,bidincrement = 0.01, bidfee = 0.6, infer PT's parameters\n",
      "> Now do SA....... \n",
      "\n"
     ]
    },
    {
     "name": "stderr",
     "output_type": "stream",
     "text": [
      " 93%|█████████▎| 1189/1276 [3:56:02<1:08:08, 47.00s/it]"
     ]
    },
    {
     "name": "stdout",
     "output_type": "stream",
     "text": [
      "> 超时\n",
      "> SA ENDS....... \n",
      "\n",
      "> avg loss: 15.047903503420253\n",
      "> For the *1189_th* data_key\n",
      "> retail = 1339.0,bidincrement = 0.01, bidfee = 0.6, infer PT's parameters\n",
      "> Now do SA....... \n",
      "\n"
     ]
    },
    {
     "name": "stderr",
     "output_type": "stream",
     "text": [
      " 93%|█████████▎| 1190/1276 [3:57:04<1:13:46, 51.47s/it]"
     ]
    },
    {
     "name": "stdout",
     "output_type": "stream",
     "text": [
      "> 超时\n",
      "> SA ENDS....... \n",
      "\n",
      "> avg loss: 17.40907511609577\n",
      "> For the *1190_th* data_key\n",
      "> retail = 379.99,bidincrement = 0.12, bidfee = 0.6, infer PT's parameters\n",
      "> Now do SA....... \n",
      "\n"
     ]
    },
    {
     "name": "stderr",
     "output_type": "stream",
     "text": [
      " 93%|█████████▎| 1191/1276 [3:57:15<55:33, 39.22s/it]  "
     ]
    },
    {
     "name": "stdout",
     "output_type": "stream",
     "text": [
      "STOP CODE:  Stay unchanged in the last 6 iterations\n",
      "> SA ENDS....... \n",
      "\n",
      "> avg loss: 7.326060116466232\n",
      "> For the *1191_th* data_key\n",
      "> retail = 379.99,bidincrement = 0.12, bidfee = 0.6, infer PT's parameters\n",
      "> Now do SA....... \n",
      "\n"
     ]
    },
    {
     "name": "stderr",
     "output_type": "stream",
     "text": [
      " 93%|█████████▎| 1192/1276 [3:57:36<47:16, 33.76s/it]"
     ]
    },
    {
     "name": "stdout",
     "output_type": "stream",
     "text": [
      "STOP CODE:  Stay unchanged in the last 6 iterations\n",
      "> SA ENDS....... \n",
      "\n",
      "> avg loss: 7.159452974792322\n",
      "> For the *1192_th* data_key\n",
      "> retail = 46.99,bidincrement = 0.12, bidfee = 0.6, infer PT's parameters\n",
      "> Now do SA....... \n",
      "\n"
     ]
    },
    {
     "name": "stderr",
     "output_type": "stream",
     "text": [
      " 93%|█████████▎| 1193/1276 [3:57:41<34:49, 25.17s/it]"
     ]
    },
    {
     "name": "stdout",
     "output_type": "stream",
     "text": [
      "STOP CODE:  Stay unchanged in the last 6 iterations\n",
      "> SA ENDS....... \n",
      "\n",
      "> avg loss: 5.182441220289678\n",
      "> For the *1193_th* data_key\n",
      "> retail = 1719.0,bidincrement = 0.01, bidfee = 0.6, infer PT's parameters\n",
      "> Now do SA....... \n",
      "\n"
     ]
    },
    {
     "name": "stderr",
     "output_type": "stream",
     "text": [
      " 94%|█████████▎| 1194/1276 [3:58:44<50:02, 36.62s/it]"
     ]
    },
    {
     "name": "stdout",
     "output_type": "stream",
     "text": [
      "> 超时\n",
      "> SA ENDS....... \n",
      "\n",
      "> avg loss: 19.046739456269577\n",
      "> For the *1194_th* data_key\n",
      "> retail = 429.99,bidincrement = 0.12, bidfee = 0.6, infer PT's parameters\n",
      "> Now do SA....... \n",
      "\n"
     ]
    },
    {
     "name": "stderr",
     "output_type": "stream",
     "text": [
      " 94%|█████████▎| 1195/1276 [3:59:00<41:10, 30.51s/it]"
     ]
    },
    {
     "name": "stdout",
     "output_type": "stream",
     "text": [
      "STOP CODE:  Stay unchanged in the last 6 iterations\n",
      "> SA ENDS....... \n",
      "\n",
      "> avg loss: 7.494390826033175\n",
      "> For the *1195_th* data_key\n",
      "> retail = 1018.0,bidincrement = 0.01, bidfee = 0.6, infer PT's parameters\n",
      "> Now do SA....... \n",
      "\n"
     ]
    },
    {
     "name": "stderr",
     "output_type": "stream",
     "text": [
      " 94%|█████████▎| 1196/1276 [4:00:02<53:08, 39.85s/it]"
     ]
    },
    {
     "name": "stdout",
     "output_type": "stream",
     "text": [
      "> 超时\n",
      "> SA ENDS....... \n",
      "\n",
      "> avg loss: 15.671154970718055\n",
      "> For the *1196_th* data_key\n",
      "> retail = 14.0,bidincrement = 0.01, bidfee = 0.01, infer PT's parameters\n",
      "> Now do SA....... \n",
      "\n"
     ]
    },
    {
     "name": "stderr",
     "output_type": "stream",
     "text": [
      " 94%|█████████▍| 1197/1276 [4:00:08<39:15, 29.81s/it]"
     ]
    },
    {
     "name": "stdout",
     "output_type": "stream",
     "text": [
      "STOP CODE:  Stay unchanged in the last 6 iterations\n",
      "> SA ENDS....... \n",
      "\n",
      "> avg loss: 7.247852072002964\n",
      "> For the *1197_th* data_key\n",
      "> retail = 15.0,bidincrement = 0.01, bidfee = 0.01, infer PT's parameters\n",
      "> Now do SA....... \n",
      "\n"
     ]
    },
    {
     "name": "stderr",
     "output_type": "stream",
     "text": [
      " 94%|█████████▍| 1198/1276 [4:00:18<30:40, 23.59s/it]"
     ]
    },
    {
     "name": "stdout",
     "output_type": "stream",
     "text": [
      "STOP CODE:  Stay unchanged in the last 6 iterations\n",
      "> SA ENDS....... \n",
      "\n",
      "> avg loss: 7.476894766884267\n",
      "> For the *1198_th* data_key\n",
      "> retail = 35.0,bidincrement = 0.01, bidfee = 0.01, infer PT's parameters\n",
      "> Now do SA....... \n",
      "\n"
     ]
    },
    {
     "name": "stderr",
     "output_type": "stream",
     "text": [
      " 94%|█████████▍| 1199/1276 [4:00:31<26:21, 20.53s/it]"
     ]
    },
    {
     "name": "stdout",
     "output_type": "stream",
     "text": [
      "STOP CODE:  Stay unchanged in the last 6 iterations\n",
      "> SA ENDS....... \n",
      "\n",
      "> avg loss: 8.3779731536037\n",
      "> For the *1199_th* data_key\n",
      "> retail = 35.0,bidincrement = 0.01, bidfee = 0.01, infer PT's parameters\n",
      "> Now do SA....... \n",
      "\n"
     ]
    },
    {
     "name": "stderr",
     "output_type": "stream",
     "text": [
      " 94%|█████████▍| 1200/1276 [4:01:02<30:02, 23.72s/it]"
     ]
    },
    {
     "name": "stdout",
     "output_type": "stream",
     "text": [
      "STOP CODE:  Stay unchanged in the last 6 iterations\n",
      "> SA ENDS....... \n",
      "\n",
      "> avg loss: 8.157660156730845\n",
      "> For the *1200_th* data_key\n",
      "> retail = 35.0,bidincrement = 0.01, bidfee = 0.01, infer PT's parameters\n",
      "> Now do SA....... \n",
      "\n"
     ]
    },
    {
     "name": "stderr",
     "output_type": "stream",
     "text": [
      " 94%|█████████▍| 1201/1276 [4:01:25<29:19, 23.45s/it]"
     ]
    },
    {
     "name": "stdout",
     "output_type": "stream",
     "text": [
      "STOP CODE:  Stay unchanged in the last 6 iterations\n",
      "> SA ENDS....... \n",
      "\n",
      "> avg loss: 8.148596113088027\n",
      "> For the *1201_th* data_key\n",
      "> retail = 59.0,bidincrement = 0.01, bidfee = 0.01, infer PT's parameters\n",
      "> Now do SA....... \n",
      "\n"
     ]
    },
    {
     "name": "stderr",
     "output_type": "stream",
     "text": [
      " 94%|█████████▍| 1202/1276 [4:01:50<29:19, 23.78s/it]"
     ]
    },
    {
     "name": "stdout",
     "output_type": "stream",
     "text": [
      "STOP CODE:  Stay unchanged in the last 6 iterations\n",
      "> SA ENDS....... \n",
      "\n",
      "> avg loss: 8.773937588280823\n",
      "> For the *1202_th* data_key\n",
      "> retail = 80.0,bidincrement = 0.01, bidfee = 0.01, infer PT's parameters\n",
      "> Now do SA....... \n",
      "\n"
     ]
    },
    {
     "name": "stderr",
     "output_type": "stream",
     "text": [
      " 94%|█████████▍| 1203/1276 [4:02:26<33:40, 27.68s/it]"
     ]
    },
    {
     "name": "stdout",
     "output_type": "stream",
     "text": [
      "STOP CODE:  Stay unchanged in the last 6 iterations\n",
      "> SA ENDS....... \n",
      "\n",
      "> avg loss: 8.99172439288492\n",
      "> For the *1203_th* data_key\n",
      "> retail = 113.0,bidincrement = 0.01, bidfee = 0.01, infer PT's parameters\n",
      "> Now do SA....... \n",
      "\n"
     ]
    },
    {
     "name": "stderr",
     "output_type": "stream",
     "text": [
      " 94%|█████████▍| 1204/1276 [4:03:27<44:58, 37.48s/it]"
     ]
    },
    {
     "name": "stdout",
     "output_type": "stream",
     "text": [
      "> 超时\n",
      "> SA ENDS....... \n",
      "\n",
      "> avg loss: 10.778835861513722\n",
      "> For the *1204_th* data_key\n",
      "> retail = 176.0,bidincrement = 0.01, bidfee = 0.01, infer PT's parameters\n",
      "> Now do SA....... \n",
      "\n"
     ]
    },
    {
     "name": "stderr",
     "output_type": "stream",
     "text": [
      " 94%|█████████▍| 1205/1276 [4:04:27<52:30, 44.37s/it]"
     ]
    },
    {
     "name": "stdout",
     "output_type": "stream",
     "text": [
      "> 超时\n",
      "> SA ENDS....... \n",
      "\n",
      "> avg loss: 11.920583886302204\n",
      "> For the *1205_th* data_key\n",
      "> retail = 211.0,bidincrement = 0.01, bidfee = 0.01, infer PT's parameters\n",
      "> Now do SA....... \n",
      "\n"
     ]
    },
    {
     "name": "stderr",
     "output_type": "stream",
     "text": [
      " 95%|█████████▍| 1206/1276 [4:05:27<57:23, 49.19s/it]"
     ]
    },
    {
     "name": "stdout",
     "output_type": "stream",
     "text": [
      "> 超时\n",
      "> SA ENDS....... \n",
      "\n",
      "> avg loss: 12.369809979799781\n",
      "> For the *1206_th* data_key\n",
      "> retail = 211.0,bidincrement = 0.01, bidfee = 0.01, infer PT's parameters\n",
      "> Now do SA....... \n",
      "\n"
     ]
    },
    {
     "name": "stderr",
     "output_type": "stream",
     "text": [
      " 95%|█████████▍| 1207/1276 [4:06:28<1:00:28, 52.58s/it]"
     ]
    },
    {
     "name": "stdout",
     "output_type": "stream",
     "text": [
      "> 超时\n",
      "> SA ENDS....... \n",
      "\n",
      "> avg loss: 12.435887756109691\n",
      "> For the *1207_th* data_key\n",
      "> retail = 219.0,bidincrement = 0.01, bidfee = 0.01, infer PT's parameters\n",
      "> Now do SA....... \n",
      "\n"
     ]
    },
    {
     "name": "stderr",
     "output_type": "stream",
     "text": [
      " 95%|█████████▍| 1208/1276 [4:07:28<1:02:16, 54.95s/it]"
     ]
    },
    {
     "name": "stdout",
     "output_type": "stream",
     "text": [
      "> 超时\n",
      "> SA ENDS....... \n",
      "\n",
      "> avg loss: 12.585178710845964\n",
      "> For the *1208_th* data_key\n",
      "> retail = 253.0,bidincrement = 0.01, bidfee = 0.01, infer PT's parameters\n",
      "> Now do SA....... \n",
      "\n"
     ]
    },
    {
     "name": "stderr",
     "output_type": "stream",
     "text": [
      " 95%|█████████▍| 1209/1276 [4:08:29<1:03:11, 56.59s/it]"
     ]
    },
    {
     "name": "stdout",
     "output_type": "stream",
     "text": [
      "> 超时\n",
      "> SA ENDS....... \n",
      "\n",
      "> avg loss: 12.907323323941815\n",
      "> For the *1209_th* data_key\n",
      "> retail = 325.0,bidincrement = 0.01, bidfee = 0.01, infer PT's parameters\n",
      "> Now do SA....... \n",
      "\n"
     ]
    },
    {
     "name": "stderr",
     "output_type": "stream",
     "text": [
      " 95%|█████████▍| 1210/1276 [4:09:30<1:03:35, 57.81s/it]"
     ]
    },
    {
     "name": "stdout",
     "output_type": "stream",
     "text": [
      "> 超时\n",
      "> SA ENDS....... \n",
      "\n",
      "> avg loss: 13.599072072087514\n",
      "> For the *1210_th* data_key\n",
      "> retail = 241.0,bidincrement = 0.01, bidfee = 0.01, infer PT's parameters\n",
      "> Now do SA....... \n",
      "\n"
     ]
    },
    {
     "name": "stderr",
     "output_type": "stream",
     "text": [
      " 95%|█████████▍| 1211/1276 [4:10:30<1:03:32, 58.65s/it]"
     ]
    },
    {
     "name": "stdout",
     "output_type": "stream",
     "text": [
      "> 超时\n",
      "> SA ENDS....... \n",
      "\n",
      "> avg loss: 12.70859856149954\n",
      "> For the *1211_th* data_key\n",
      "> retail = 314.0,bidincrement = 0.01, bidfee = 0.01, infer PT's parameters\n",
      "> Now do SA....... \n",
      "\n"
     ]
    },
    {
     "name": "stderr",
     "output_type": "stream",
     "text": [
      " 95%|█████████▍| 1212/1276 [4:11:31<1:03:21, 59.40s/it]"
     ]
    },
    {
     "name": "stdout",
     "output_type": "stream",
     "text": [
      "> 超时\n",
      "> SA ENDS....... \n",
      "\n",
      "> avg loss: 13.629159650062839\n",
      "> For the *1212_th* data_key\n",
      "> retail = 433.0,bidincrement = 0.01, bidfee = 0.01, infer PT's parameters\n",
      "> Now do SA....... \n",
      "\n"
     ]
    },
    {
     "name": "stderr",
     "output_type": "stream",
     "text": [
      " 95%|█████████▌| 1213/1276 [4:12:33<1:02:56, 59.94s/it]"
     ]
    },
    {
     "name": "stdout",
     "output_type": "stream",
     "text": [
      "> 超时\n",
      "> SA ENDS....... \n",
      "\n",
      "> avg loss: 14.6331150664273\n",
      "> For the *1213_th* data_key\n",
      "> retail = 403.0,bidincrement = 0.01, bidfee = 0.01, infer PT's parameters\n",
      "> Now do SA....... \n",
      "\n"
     ]
    },
    {
     "name": "stderr",
     "output_type": "stream",
     "text": [
      " 95%|█████████▌| 1214/1276 [4:13:33<1:02:14, 60.23s/it]"
     ]
    },
    {
     "name": "stdout",
     "output_type": "stream",
     "text": [
      "> 超时\n",
      "> SA ENDS....... \n",
      "\n",
      "> avg loss: 14.368838164246181\n",
      "> For the *1214_th* data_key\n",
      "> retail = 378.0,bidincrement = 0.01, bidfee = 0.01, infer PT's parameters\n",
      "> Now do SA....... \n",
      "\n"
     ]
    },
    {
     "name": "stderr",
     "output_type": "stream",
     "text": [
      " 95%|█████████▌| 1215/1276 [4:14:34<1:01:27, 60.44s/it]"
     ]
    },
    {
     "name": "stdout",
     "output_type": "stream",
     "text": [
      "> 超时\n",
      "> SA ENDS....... \n",
      "\n",
      "> avg loss: 14.020348205242092\n",
      "> For the *1215_th* data_key\n",
      "> retail = 698.0,bidincrement = 0.01, bidfee = 0.01, infer PT's parameters\n",
      "> Now do SA....... \n",
      "\n"
     ]
    },
    {
     "name": "stderr",
     "output_type": "stream",
     "text": [
      " 95%|█████████▌| 1216/1276 [4:15:37<1:01:02, 61.04s/it]"
     ]
    },
    {
     "name": "stdout",
     "output_type": "stream",
     "text": [
      "> 超时\n",
      "> SA ENDS....... \n",
      "\n",
      "> avg loss: 16.18116509691818\n",
      "> For the *1216_th* data_key\n",
      "> retail = 559.0,bidincrement = 0.01, bidfee = 0.01, infer PT's parameters\n",
      "> Now do SA....... \n",
      "\n"
     ]
    },
    {
     "name": "stderr",
     "output_type": "stream",
     "text": [
      " 95%|█████████▌| 1217/1276 [4:16:39<1:00:15, 61.28s/it]"
     ]
    },
    {
     "name": "stdout",
     "output_type": "stream",
     "text": [
      "> 超时\n",
      "> SA ENDS....... \n",
      "\n",
      "> avg loss: 15.315135780415794\n",
      "> For the *1217_th* data_key\n",
      "> retail = 585.0,bidincrement = 0.01, bidfee = 0.01, infer PT's parameters\n",
      "> Now do SA....... \n",
      "\n"
     ]
    },
    {
     "name": "stderr",
     "output_type": "stream",
     "text": [
      " 95%|█████████▌| 1218/1276 [4:17:40<59:11, 61.24s/it]  "
     ]
    },
    {
     "name": "stdout",
     "output_type": "stream",
     "text": [
      "> 超时\n",
      "> SA ENDS....... \n",
      "\n",
      "> avg loss: 15.452197649197382\n",
      "> For the *1218_th* data_key\n",
      "> retail = 664.0,bidincrement = 0.01, bidfee = 0.01, infer PT's parameters\n",
      "> Now do SA....... \n",
      "\n"
     ]
    },
    {
     "name": "stderr",
     "output_type": "stream",
     "text": [
      " 96%|█████████▌| 1219/1276 [4:18:41<58:13, 61.29s/it]"
     ]
    },
    {
     "name": "stdout",
     "output_type": "stream",
     "text": [
      "> 超时\n",
      "> SA ENDS....... \n",
      "\n",
      "> avg loss: 15.691970876068051\n",
      "> For the *1219_th* data_key\n",
      "> retail = 609.0,bidincrement = 0.01, bidfee = 0.01, infer PT's parameters\n",
      "> Now do SA....... \n",
      "\n"
     ]
    },
    {
     "name": "stderr",
     "output_type": "stream",
     "text": [
      " 96%|█████████▌| 1220/1276 [4:19:43<57:24, 61.51s/it]"
     ]
    },
    {
     "name": "stdout",
     "output_type": "stream",
     "text": [
      "> 超时\n",
      "> SA ENDS....... \n",
      "\n",
      "> avg loss: 15.525946020703145\n",
      "> For the *1220_th* data_key\n",
      "> retail = 647.0,bidincrement = 0.01, bidfee = 0.01, infer PT's parameters\n",
      "> Now do SA....... \n",
      "\n"
     ]
    },
    {
     "name": "stderr",
     "output_type": "stream",
     "text": [
      " 96%|█████████▌| 1221/1276 [4:20:45<56:20, 61.46s/it]"
     ]
    },
    {
     "name": "stdout",
     "output_type": "stream",
     "text": [
      "> 超时\n",
      "> SA ENDS....... \n",
      "\n",
      "> avg loss: 15.67710857938772\n",
      "> For the *1221_th* data_key\n",
      "> retail = 654.0,bidincrement = 0.01, bidfee = 0.01, infer PT's parameters\n",
      "> Now do SA....... \n",
      "\n"
     ]
    },
    {
     "name": "stderr",
     "output_type": "stream",
     "text": [
      " 96%|█████████▌| 1222/1276 [4:21:46<55:22, 61.53s/it]"
     ]
    },
    {
     "name": "stdout",
     "output_type": "stream",
     "text": [
      "> 超时\n",
      "> SA ENDS....... \n",
      "\n",
      "> avg loss: 15.629482251953553\n",
      "> For the *1222_th* data_key\n",
      "> retail = 997.0,bidincrement = 0.01, bidfee = 0.01, infer PT's parameters\n",
      "> Now do SA....... \n",
      "\n"
     ]
    },
    {
     "name": "stderr",
     "output_type": "stream",
     "text": [
      " 96%|█████████▌| 1223/1276 [4:22:49<54:33, 61.76s/it]"
     ]
    },
    {
     "name": "stdout",
     "output_type": "stream",
     "text": [
      "> 超时\n",
      "> SA ENDS....... \n",
      "\n",
      "> avg loss: 17.110455830526735\n",
      "> For the *1223_th* data_key\n",
      "> retail = 635.0,bidincrement = 0.01, bidfee = 0.01, infer PT's parameters\n",
      "> Now do SA....... \n",
      "\n"
     ]
    },
    {
     "name": "stderr",
     "output_type": "stream",
     "text": [
      " 96%|█████████▌| 1224/1276 [4:23:50<53:32, 61.79s/it]"
     ]
    },
    {
     "name": "stdout",
     "output_type": "stream",
     "text": [
      "> 超时\n",
      "> SA ENDS....... \n",
      "\n",
      "> avg loss: 15.748591653737583\n",
      "> For the *1224_th* data_key\n",
      "> retail = 690.0,bidincrement = 0.01, bidfee = 0.01, infer PT's parameters\n",
      "> Now do SA....... \n",
      "\n"
     ]
    },
    {
     "name": "stderr",
     "output_type": "stream",
     "text": [
      " 96%|█████████▌| 1225/1276 [4:24:53<52:39, 61.95s/it]"
     ]
    },
    {
     "name": "stdout",
     "output_type": "stream",
     "text": [
      "> 超时\n",
      "> SA ENDS....... \n",
      "\n",
      "> avg loss: 15.957581067109952\n",
      "> For the *1225_th* data_key\n",
      "> retail = 531.0,bidincrement = 0.01, bidfee = 0.01, infer PT's parameters\n",
      "> Now do SA....... \n",
      "\n"
     ]
    },
    {
     "name": "stderr",
     "output_type": "stream",
     "text": [
      " 96%|█████████▌| 1226/1276 [4:25:54<51:25, 61.71s/it]"
     ]
    },
    {
     "name": "stdout",
     "output_type": "stream",
     "text": [
      "> 超时\n",
      "> SA ENDS....... \n",
      "\n",
      "> avg loss: 15.053936165931205\n",
      "> For the *1226_th* data_key\n",
      "> retail = 760.0,bidincrement = 0.01, bidfee = 0.01, infer PT's parameters\n",
      "> Now do SA....... \n",
      "\n"
     ]
    },
    {
     "name": "stderr",
     "output_type": "stream",
     "text": [
      " 96%|█████████▌| 1227/1276 [4:26:57<50:39, 62.03s/it]"
     ]
    },
    {
     "name": "stdout",
     "output_type": "stream",
     "text": [
      "> 超时\n",
      "> SA ENDS....... \n",
      "\n",
      "> avg loss: 16.29016413147766\n",
      "> For the *1227_th* data_key\n",
      "> retail = 995.0,bidincrement = 0.01, bidfee = 0.01, infer PT's parameters\n",
      "> Now do SA....... \n",
      "\n"
     ]
    },
    {
     "name": "stderr",
     "output_type": "stream",
     "text": [
      " 96%|█████████▌| 1228/1276 [4:28:00<49:53, 62.37s/it]"
     ]
    },
    {
     "name": "stdout",
     "output_type": "stream",
     "text": [
      "> 超时\n",
      "> SA ENDS....... \n",
      "\n",
      "> avg loss: 17.104886366054505\n",
      "> For the *1228_th* data_key\n",
      "> retail = 980.0,bidincrement = 0.01, bidfee = 0.01, infer PT's parameters\n",
      "> Now do SA....... \n",
      "\n"
     ]
    },
    {
     "name": "stderr",
     "output_type": "stream",
     "text": [
      " 96%|█████████▋| 1229/1276 [4:29:03<49:04, 62.65s/it]"
     ]
    },
    {
     "name": "stdout",
     "output_type": "stream",
     "text": [
      "> 超时\n",
      "> SA ENDS....... \n",
      "\n",
      "> avg loss: 16.97998120938655\n",
      "> For the *1229_th* data_key\n",
      "> retail = 985.0,bidincrement = 0.01, bidfee = 0.01, infer PT's parameters\n",
      "> Now do SA....... \n",
      "\n"
     ]
    },
    {
     "name": "stderr",
     "output_type": "stream",
     "text": [
      " 96%|█████████▋| 1230/1276 [4:30:06<48:12, 62.87s/it]"
     ]
    },
    {
     "name": "stdout",
     "output_type": "stream",
     "text": [
      "> 超时\n",
      "> SA ENDS....... \n",
      "\n",
      "> avg loss: 16.890095542912196\n",
      "> For the *1230_th* data_key\n",
      "> retail = 1029.0,bidincrement = 0.01, bidfee = 0.01, infer PT's parameters\n",
      "> Now do SA....... \n",
      "\n"
     ]
    },
    {
     "name": "stderr",
     "output_type": "stream",
     "text": [
      " 96%|█████████▋| 1231/1276 [4:31:10<47:21, 63.15s/it]"
     ]
    },
    {
     "name": "stdout",
     "output_type": "stream",
     "text": [
      "> 超时\n",
      "> SA ENDS....... \n",
      "\n",
      "> avg loss: 16.994227200624717\n",
      "> For the *1231_th* data_key\n",
      "> retail = 1011.0,bidincrement = 0.01, bidfee = 0.01, infer PT's parameters\n",
      "> Now do SA....... \n",
      "\n"
     ]
    },
    {
     "name": "stderr",
     "output_type": "stream",
     "text": [
      " 97%|█████████▋| 1232/1276 [4:32:14<46:27, 63.34s/it]"
     ]
    },
    {
     "name": "stdout",
     "output_type": "stream",
     "text": [
      "> 超时\n",
      "> SA ENDS....... \n",
      "\n",
      "> avg loss: 17.16719959200221\n",
      "> For the *1232_th* data_key\n",
      "> retail = 1091.0,bidincrement = 0.01, bidfee = 0.01, infer PT's parameters\n",
      "> Now do SA....... \n",
      "\n"
     ]
    },
    {
     "name": "stderr",
     "output_type": "stream",
     "text": [
      " 97%|█████████▋| 1233/1276 [4:33:17<45:15, 63.15s/it]"
     ]
    },
    {
     "name": "stdout",
     "output_type": "stream",
     "text": [
      "> 超时\n",
      "> SA ENDS....... \n",
      "\n",
      "> avg loss: 17.568793932656654\n",
      "> For the *1233_th* data_key\n",
      "> retail = 972.0,bidincrement = 0.01, bidfee = 0.01, infer PT's parameters\n",
      "> Now do SA....... \n",
      "\n"
     ]
    },
    {
     "name": "stderr",
     "output_type": "stream",
     "text": [
      " 97%|█████████▋| 1234/1276 [4:34:20<44:19, 63.32s/it]"
     ]
    },
    {
     "name": "stdout",
     "output_type": "stream",
     "text": [
      "> 超时\n",
      "> SA ENDS....... \n",
      "\n",
      "> avg loss: 16.829367742003086\n",
      "> For the *1234_th* data_key\n",
      "> retail = 1063.0,bidincrement = 0.01, bidfee = 0.01, infer PT's parameters\n",
      "> Now do SA....... \n",
      "\n"
     ]
    },
    {
     "name": "stderr",
     "output_type": "stream",
     "text": [
      " 97%|█████████▋| 1235/1276 [4:35:24<43:19, 63.40s/it]"
     ]
    },
    {
     "name": "stdout",
     "output_type": "stream",
     "text": [
      "> 超时\n",
      "> SA ENDS....... \n",
      "\n",
      "> avg loss: 17.31000999487088\n",
      "> For the *1235_th* data_key\n",
      "> retail = 1023.0,bidincrement = 0.01, bidfee = 0.01, infer PT's parameters\n",
      "> Now do SA....... \n",
      "\n"
     ]
    },
    {
     "name": "stderr",
     "output_type": "stream",
     "text": [
      " 97%|█████████▋| 1236/1276 [4:36:28<42:23, 63.58s/it]"
     ]
    },
    {
     "name": "stdout",
     "output_type": "stream",
     "text": [
      "> 超时\n",
      "> SA ENDS....... \n",
      "\n",
      "> avg loss: 17.15215186199606\n",
      "> For the *1236_th* data_key\n",
      "> retail = 1071.0,bidincrement = 0.01, bidfee = 0.01, infer PT's parameters\n",
      "> Now do SA....... \n",
      "\n"
     ]
    },
    {
     "name": "stderr",
     "output_type": "stream",
     "text": [
      " 97%|█████████▋| 1237/1276 [4:37:32<41:18, 63.54s/it]"
     ]
    },
    {
     "name": "stdout",
     "output_type": "stream",
     "text": [
      "> 超时\n",
      "> SA ENDS....... \n",
      "\n",
      "> avg loss: 17.61206439904077\n",
      "> For the *1237_th* data_key\n",
      "> retail = 1207.0,bidincrement = 0.01, bidfee = 0.01, infer PT's parameters\n",
      "> Now do SA....... \n",
      "\n"
     ]
    },
    {
     "name": "stderr",
     "output_type": "stream",
     "text": [
      " 97%|█████████▋| 1238/1276 [4:38:35<40:15, 63.57s/it]"
     ]
    },
    {
     "name": "stdout",
     "output_type": "stream",
     "text": [
      "> 超时\n",
      "> SA ENDS....... \n",
      "\n",
      "> avg loss: 17.662745732923092\n",
      "> For the *1238_th* data_key\n",
      "> retail = 1306.0,bidincrement = 0.01, bidfee = 0.01, infer PT's parameters\n",
      "> Now do SA....... \n",
      "\n"
     ]
    },
    {
     "name": "stderr",
     "output_type": "stream",
     "text": [
      " 97%|█████████▋| 1239/1276 [4:39:40<39:25, 63.94s/it]"
     ]
    },
    {
     "name": "stdout",
     "output_type": "stream",
     "text": [
      "> 超时\n",
      "> SA ENDS....... \n",
      "\n",
      "> avg loss: 17.87392346827683\n",
      "> For the *1239_th* data_key\n",
      "> retail = 1436.0,bidincrement = 0.01, bidfee = 0.01, infer PT's parameters\n",
      "> Now do SA....... \n",
      "\n"
     ]
    },
    {
     "name": "stderr",
     "output_type": "stream",
     "text": [
      " 97%|█████████▋| 1240/1276 [4:40:44<38:28, 64.11s/it]"
     ]
    },
    {
     "name": "stdout",
     "output_type": "stream",
     "text": [
      "> 超时\n",
      "> SA ENDS....... \n",
      "\n",
      "> avg loss: 18.28867689181029\n",
      "> For the *1240_th* data_key\n",
      "> retail = 1352.0,bidincrement = 0.01, bidfee = 0.01, infer PT's parameters\n",
      "> Now do SA....... \n",
      "\n"
     ]
    },
    {
     "name": "stderr",
     "output_type": "stream",
     "text": [
      " 97%|█████████▋| 1241/1276 [4:41:49<37:33, 64.38s/it]"
     ]
    },
    {
     "name": "stdout",
     "output_type": "stream",
     "text": [
      "> 超时\n",
      "> SA ENDS....... \n",
      "\n",
      "> avg loss: 18.157205795783764\n",
      "> For the *1241_th* data_key\n",
      "> retail = 1369.0,bidincrement = 0.01, bidfee = 0.01, infer PT's parameters\n",
      "> Now do SA....... \n",
      "\n"
     ]
    },
    {
     "name": "stderr",
     "output_type": "stream",
     "text": [
      " 97%|█████████▋| 1242/1276 [4:42:54<36:26, 64.32s/it]"
     ]
    },
    {
     "name": "stdout",
     "output_type": "stream",
     "text": [
      "> 超时\n",
      "> SA ENDS....... \n",
      "\n",
      "> avg loss: 17.871255737324184\n",
      "> For the *1242_th* data_key\n",
      "> retail = 1120.0,bidincrement = 0.01, bidfee = 0.01, infer PT's parameters\n",
      "> Now do SA....... \n",
      "\n"
     ]
    },
    {
     "name": "stderr",
     "output_type": "stream",
     "text": [
      " 97%|█████████▋| 1243/1276 [4:43:57<35:12, 64.02s/it]"
     ]
    },
    {
     "name": "stdout",
     "output_type": "stream",
     "text": [
      "> 超时\n",
      "> SA ENDS....... \n",
      "\n",
      "> avg loss: 17.37711874547868\n",
      "> For the *1243_th* data_key\n",
      "> retail = 1257.0,bidincrement = 0.01, bidfee = 0.01, infer PT's parameters\n",
      "> Now do SA....... \n",
      "\n"
     ]
    },
    {
     "name": "stderr",
     "output_type": "stream",
     "text": [
      " 97%|█████████▋| 1244/1276 [4:45:01<34:06, 63.96s/it]"
     ]
    },
    {
     "name": "stdout",
     "output_type": "stream",
     "text": [
      "> 超时\n",
      "> SA ENDS....... \n",
      "\n",
      "> avg loss: 17.917463971548656\n",
      "> For the *1244_th* data_key\n",
      "> retail = 1769.0,bidincrement = 0.01, bidfee = 0.01, infer PT's parameters\n",
      "> Now do SA....... \n",
      "\n"
     ]
    },
    {
     "name": "stderr",
     "output_type": "stream",
     "text": [
      " 98%|█████████▊| 1245/1276 [4:46:07<33:21, 64.58s/it]"
     ]
    },
    {
     "name": "stdout",
     "output_type": "stream",
     "text": [
      "> 超时\n",
      "> SA ENDS....... \n",
      "\n",
      "> avg loss: 19.120036320354778\n",
      "> For the *1245_th* data_key\n",
      "> retail = 1442.0,bidincrement = 0.01, bidfee = 0.01, infer PT's parameters\n",
      "> Now do SA....... \n",
      "\n"
     ]
    },
    {
     "name": "stderr",
     "output_type": "stream",
     "text": [
      " 98%|█████████▊| 1246/1276 [4:47:10<32:08, 64.28s/it]"
     ]
    },
    {
     "name": "stdout",
     "output_type": "stream",
     "text": [
      "> 超时\n",
      "> SA ENDS....... \n",
      "\n",
      "> avg loss: 18.609913937140185\n",
      "> For the *1246_th* data_key\n",
      "> retail = 1236.0,bidincrement = 0.01, bidfee = 0.01, infer PT's parameters\n",
      "> Now do SA....... \n",
      "\n"
     ]
    },
    {
     "name": "stderr",
     "output_type": "stream",
     "text": [
      " 98%|█████████▊| 1247/1276 [4:48:14<30:56, 64.02s/it]"
     ]
    },
    {
     "name": "stdout",
     "output_type": "stream",
     "text": [
      "> 超时\n",
      "> SA ENDS....... \n",
      "\n",
      "> avg loss: 17.58029739267758\n",
      "> For the *1247_th* data_key\n",
      "> retail = 1092.0,bidincrement = 0.01, bidfee = 0.01, infer PT's parameters\n",
      "> Now do SA....... \n",
      "\n"
     ]
    },
    {
     "name": "stderr",
     "output_type": "stream",
     "text": [
      " 98%|█████████▊| 1248/1276 [4:49:18<29:52, 64.02s/it]"
     ]
    },
    {
     "name": "stdout",
     "output_type": "stream",
     "text": [
      "> 超时\n",
      "> SA ENDS....... \n",
      "\n",
      "> avg loss: 17.43093102585475\n",
      "> For the *1248_th* data_key\n",
      "> retail = 1053.0,bidincrement = 0.01, bidfee = 0.01, infer PT's parameters\n",
      "> Now do SA....... \n",
      "\n"
     ]
    },
    {
     "name": "stderr",
     "output_type": "stream",
     "text": [
      " 98%|█████████▊| 1249/1276 [4:50:22<28:46, 63.93s/it]"
     ]
    },
    {
     "name": "stdout",
     "output_type": "stream",
     "text": [
      "> 超时\n",
      "> SA ENDS....... \n",
      "\n",
      "> avg loss: 17.31789226955703\n",
      "> For the *1249_th* data_key\n",
      "> retail = 1398.0,bidincrement = 0.01, bidfee = 0.01, infer PT's parameters\n",
      "> Now do SA....... \n",
      "\n"
     ]
    },
    {
     "name": "stderr",
     "output_type": "stream",
     "text": [
      " 98%|█████████▊| 1250/1276 [4:51:27<27:50, 64.26s/it]"
     ]
    },
    {
     "name": "stdout",
     "output_type": "stream",
     "text": [
      "> 超时\n",
      "> SA ENDS....... \n",
      "\n",
      "> avg loss: 18.526145131565205\n",
      "> For the *1250_th* data_key\n",
      "> retail = 1326.0,bidincrement = 0.01, bidfee = 0.01, infer PT's parameters\n",
      "> Now do SA....... \n",
      "\n"
     ]
    },
    {
     "name": "stderr",
     "output_type": "stream",
     "text": [
      " 98%|█████████▊| 1251/1276 [4:52:30<26:39, 64.00s/it]"
     ]
    },
    {
     "name": "stdout",
     "output_type": "stream",
     "text": [
      "> 超时\n",
      "> SA ENDS....... \n",
      "\n",
      "> avg loss: 18.01501724004586\n",
      "> For the *1251_th* data_key\n",
      "> retail = 1422.0,bidincrement = 0.01, bidfee = 0.01, infer PT's parameters\n",
      "> Now do SA....... \n",
      "\n"
     ]
    },
    {
     "name": "stderr",
     "output_type": "stream",
     "text": [
      " 98%|█████████▊| 1252/1276 [4:53:35<25:39, 64.17s/it]"
     ]
    },
    {
     "name": "stdout",
     "output_type": "stream",
     "text": [
      "> 超时\n",
      "> SA ENDS....... \n",
      "\n",
      "> avg loss: 18.35951361524749\n",
      "> For the *1252_th* data_key\n",
      "> retail = 1207.0,bidincrement = 0.01, bidfee = 0.01, infer PT's parameters\n",
      "> Now do SA....... \n",
      "\n"
     ]
    },
    {
     "name": "stderr",
     "output_type": "stream",
     "text": [
      " 98%|█████████▊| 1253/1276 [4:54:39<24:36, 64.19s/it]"
     ]
    },
    {
     "name": "stdout",
     "output_type": "stream",
     "text": [
      "> 超时\n",
      "> SA ENDS....... \n",
      "\n",
      "> avg loss: 17.77690081374822\n",
      "> For the *1253_th* data_key\n",
      "> retail = 1359.0,bidincrement = 0.01, bidfee = 0.01, infer PT's parameters\n",
      "> Now do SA....... \n",
      "\n"
     ]
    },
    {
     "name": "stderr",
     "output_type": "stream",
     "text": [
      " 98%|█████████▊| 1254/1276 [4:55:44<23:36, 64.39s/it]"
     ]
    },
    {
     "name": "stdout",
     "output_type": "stream",
     "text": [
      "> 超时\n",
      "> SA ENDS....... \n",
      "\n",
      "> avg loss: 18.097459130528485\n",
      "> For the *1254_th* data_key\n",
      "> retail = 1484.0,bidincrement = 0.01, bidfee = 0.01, infer PT's parameters\n",
      "> Now do SA....... \n",
      "\n"
     ]
    },
    {
     "name": "stderr",
     "output_type": "stream",
     "text": [
      " 98%|█████████▊| 1255/1276 [4:56:48<22:33, 64.44s/it]"
     ]
    },
    {
     "name": "stdout",
     "output_type": "stream",
     "text": [
      "> 超时\n",
      "> SA ENDS....... \n",
      "\n",
      "> avg loss: 18.430761430223164\n",
      "> For the *1255_th* data_key\n",
      "> retail = 1453.0,bidincrement = 0.01, bidfee = 0.01, infer PT's parameters\n",
      "> Now do SA....... \n",
      "\n"
     ]
    },
    {
     "name": "stderr",
     "output_type": "stream",
     "text": [
      " 98%|█████████▊| 1256/1276 [4:57:52<21:26, 64.31s/it]"
     ]
    },
    {
     "name": "stdout",
     "output_type": "stream",
     "text": [
      "> 超时\n",
      "> SA ENDS....... \n",
      "\n",
      "> avg loss: 18.4495159103238\n",
      "> For the *1256_th* data_key\n",
      "> retail = 1653.0,bidincrement = 0.01, bidfee = 0.01, infer PT's parameters\n",
      "> Now do SA....... \n",
      "\n"
     ]
    },
    {
     "name": "stderr",
     "output_type": "stream",
     "text": [
      " 99%|█████████▊| 1257/1276 [4:58:57<20:23, 64.39s/it]"
     ]
    },
    {
     "name": "stdout",
     "output_type": "stream",
     "text": [
      "> 超时\n",
      "> SA ENDS....... \n",
      "\n",
      "> avg loss: 18.72976261108163\n",
      "> For the *1257_th* data_key\n",
      "> retail = 1486.0,bidincrement = 0.01, bidfee = 0.01, infer PT's parameters\n",
      "> Now do SA....... \n",
      "\n"
     ]
    },
    {
     "name": "stderr",
     "output_type": "stream",
     "text": [
      " 99%|█████████▊| 1258/1276 [5:00:01<19:20, 64.48s/it]"
     ]
    },
    {
     "name": "stdout",
     "output_type": "stream",
     "text": [
      "> 超时\n",
      "> SA ENDS....... \n",
      "\n",
      "> avg loss: 18.451429459143018\n",
      "> For the *1258_th* data_key\n",
      "> retail = 1458.0,bidincrement = 0.01, bidfee = 0.01, infer PT's parameters\n",
      "> Now do SA....... \n",
      "\n"
     ]
    },
    {
     "name": "stderr",
     "output_type": "stream",
     "text": [
      " 99%|█████████▊| 1259/1276 [5:01:07<18:19, 64.68s/it]"
     ]
    },
    {
     "name": "stdout",
     "output_type": "stream",
     "text": [
      "> 超时\n",
      "> SA ENDS....... \n",
      "\n",
      "> avg loss: 18.61230209886654\n",
      "> For the *1259_th* data_key\n",
      "> retail = 1597.0,bidincrement = 0.01, bidfee = 0.01, infer PT's parameters\n",
      "> Now do SA....... \n",
      "\n"
     ]
    },
    {
     "name": "stderr",
     "output_type": "stream",
     "text": [
      " 99%|█████████▊| 1260/1276 [5:02:11<17:15, 64.70s/it]"
     ]
    },
    {
     "name": "stdout",
     "output_type": "stream",
     "text": [
      "> 超时\n",
      "> SA ENDS....... \n",
      "\n",
      "> avg loss: 18.899960177705193\n",
      "> For the *1260_th* data_key\n",
      "> retail = 1433.0,bidincrement = 0.01, bidfee = 0.01, infer PT's parameters\n",
      "> Now do SA....... \n",
      "\n"
     ]
    },
    {
     "name": "stderr",
     "output_type": "stream",
     "text": [
      " 99%|█████████▉| 1261/1276 [5:03:16<16:09, 64.60s/it]"
     ]
    },
    {
     "name": "stdout",
     "output_type": "stream",
     "text": [
      "> 超时\n",
      "> SA ENDS....... \n",
      "\n",
      "> avg loss: 18.241964037367012\n",
      "> For the *1261_th* data_key\n",
      "> retail = 1649.0,bidincrement = 0.01, bidfee = 0.01, infer PT's parameters\n",
      "> Now do SA....... \n",
      "\n"
     ]
    },
    {
     "name": "stderr",
     "output_type": "stream",
     "text": [
      " 99%|█████████▉| 1262/1276 [5:04:21<15:06, 64.72s/it]"
     ]
    },
    {
     "name": "stdout",
     "output_type": "stream",
     "text": [
      "> 超时\n",
      "> SA ENDS....... \n",
      "\n",
      "> avg loss: 18.718955963417095\n",
      "> For the *1262_th* data_key\n",
      "> retail = 1615.0,bidincrement = 0.01, bidfee = 0.01, infer PT's parameters\n",
      "> Now do SA....... \n",
      "\n"
     ]
    },
    {
     "name": "stderr",
     "output_type": "stream",
     "text": [
      " 99%|█████████▉| 1263/1276 [5:05:26<14:04, 64.99s/it]"
     ]
    },
    {
     "name": "stdout",
     "output_type": "stream",
     "text": [
      "> 超时\n",
      "> SA ENDS....... \n",
      "\n",
      "> avg loss: 18.683373571139416\n",
      "> For the *1263_th* data_key\n",
      "> retail = 1480.0,bidincrement = 0.01, bidfee = 0.01, infer PT's parameters\n",
      "> Now do SA....... \n",
      "\n"
     ]
    },
    {
     "name": "stderr",
     "output_type": "stream",
     "text": [
      " 99%|█████████▉| 1264/1276 [5:06:32<13:01, 65.09s/it]"
     ]
    },
    {
     "name": "stdout",
     "output_type": "stream",
     "text": [
      "> 超时\n",
      "> SA ENDS....... \n",
      "\n",
      "> avg loss: 18.255516089831527\n",
      "> For the *1264_th* data_key\n",
      "> retail = 1796.0,bidincrement = 0.01, bidfee = 0.01, infer PT's parameters\n",
      "> Now do SA....... \n",
      "\n"
     ]
    },
    {
     "name": "stderr",
     "output_type": "stream",
     "text": [
      " 99%|█████████▉| 1265/1276 [5:07:38<11:58, 65.33s/it]"
     ]
    },
    {
     "name": "stdout",
     "output_type": "stream",
     "text": [
      "> 超时\n",
      "> SA ENDS....... \n",
      "\n",
      "> avg loss: 19.0341789196721\n",
      "> For the *1265_th* data_key\n",
      "> retail = 1569.0,bidincrement = 0.01, bidfee = 0.01, infer PT's parameters\n",
      "> Now do SA....... \n",
      "\n"
     ]
    },
    {
     "name": "stderr",
     "output_type": "stream",
     "text": [
      " 99%|█████████▉| 1266/1276 [5:08:42<10:51, 65.18s/it]"
     ]
    },
    {
     "name": "stdout",
     "output_type": "stream",
     "text": [
      "> 超时\n",
      "> SA ENDS....... \n",
      "\n",
      "> avg loss: 18.65162832019752\n",
      "> For the *1266_th* data_key\n",
      "> retail = 1608.0,bidincrement = 0.01, bidfee = 0.01, infer PT's parameters\n",
      "> Now do SA....... \n",
      "\n"
     ]
    },
    {
     "name": "stderr",
     "output_type": "stream",
     "text": [
      " 99%|█████████▉| 1267/1276 [5:09:47<09:46, 65.14s/it]"
     ]
    },
    {
     "name": "stdout",
     "output_type": "stream",
     "text": [
      "> 超时\n",
      "> SA ENDS....... \n",
      "\n",
      "> avg loss: 18.88799116179121\n",
      "> For the *1267_th* data_key\n",
      "> retail = 1802.0,bidincrement = 0.01, bidfee = 0.01, infer PT's parameters\n",
      "> Now do SA....... \n",
      "\n"
     ]
    },
    {
     "name": "stderr",
     "output_type": "stream",
     "text": [
      " 99%|█████████▉| 1268/1276 [5:10:52<08:40, 65.10s/it]"
     ]
    },
    {
     "name": "stdout",
     "output_type": "stream",
     "text": [
      "> 超时\n",
      "> SA ENDS....... \n",
      "\n",
      "> avg loss: 19.103995908630615\n",
      "> For the *1268_th* data_key\n",
      "> retail = 1525.0,bidincrement = 0.01, bidfee = 0.01, infer PT's parameters\n",
      "> Now do SA....... \n",
      "\n"
     ]
    },
    {
     "name": "stderr",
     "output_type": "stream",
     "text": [
      " 99%|█████████▉| 1269/1276 [5:11:57<07:34, 64.99s/it]"
     ]
    },
    {
     "name": "stdout",
     "output_type": "stream",
     "text": [
      "> 超时\n",
      "> SA ENDS....... \n",
      "\n",
      "> avg loss: 18.444150332551374\n",
      "> For the *1269_th* data_key\n",
      "> retail = 1756.0,bidincrement = 0.01, bidfee = 0.01, infer PT's parameters\n",
      "> Now do SA....... \n",
      "\n"
     ]
    },
    {
     "name": "stderr",
     "output_type": "stream",
     "text": [
      "100%|█████████▉| 1270/1276 [5:13:04<06:32, 65.42s/it]"
     ]
    },
    {
     "name": "stdout",
     "output_type": "stream",
     "text": [
      "> 超时\n",
      "> SA ENDS....... \n",
      "\n",
      "> avg loss: 19.36924213292494\n",
      "> For the *1270_th* data_key\n",
      "> retail = 1650.0,bidincrement = 0.01, bidfee = 0.01, infer PT's parameters\n",
      "> Now do SA....... \n",
      "\n"
     ]
    },
    {
     "name": "stderr",
     "output_type": "stream",
     "text": [
      "100%|█████████▉| 1271/1276 [5:14:09<05:26, 65.40s/it]"
     ]
    },
    {
     "name": "stdout",
     "output_type": "stream",
     "text": [
      "> 超时\n",
      "> SA ENDS....... \n",
      "\n",
      "> avg loss: 19.2852643546973\n",
      "> For the *1271_th* data_key\n",
      "> retail = 1598.0,bidincrement = 0.01, bidfee = 0.01, infer PT's parameters\n",
      "> Now do SA....... \n",
      "\n"
     ]
    },
    {
     "name": "stderr",
     "output_type": "stream",
     "text": [
      "100%|█████████▉| 1272/1276 [5:15:13<04:20, 65.03s/it]"
     ]
    },
    {
     "name": "stdout",
     "output_type": "stream",
     "text": [
      "> 超时\n",
      "> SA ENDS....... \n",
      "\n",
      "> avg loss: 18.787753663654723\n",
      "> For the *1272_th* data_key\n",
      "> retail = 2142.0,bidincrement = 0.01, bidfee = 0.01, infer PT's parameters\n",
      "> Now do SA....... \n",
      "\n"
     ]
    },
    {
     "name": "stderr",
     "output_type": "stream",
     "text": [
      "100%|█████████▉| 1273/1276 [5:16:20<03:17, 65.68s/it]"
     ]
    },
    {
     "name": "stdout",
     "output_type": "stream",
     "text": [
      "> 超时\n",
      "> SA ENDS....... \n",
      "\n",
      "> avg loss: 19.947019754506055\n",
      "> For the *1273_th* data_key\n",
      "> retail = 1891.0,bidincrement = 0.01, bidfee = 0.01, infer PT's parameters\n",
      "> Now do SA....... \n",
      "\n"
     ]
    },
    {
     "name": "stderr",
     "output_type": "stream",
     "text": [
      "100%|█████████▉| 1274/1276 [5:17:26<02:11, 65.63s/it]"
     ]
    },
    {
     "name": "stdout",
     "output_type": "stream",
     "text": [
      "> 超时\n",
      "> SA ENDS....... \n",
      "\n",
      "> avg loss: 19.29777692088215\n",
      "> For the *1274_th* data_key\n",
      "> retail = 1802.0,bidincrement = 0.01, bidfee = 0.01, infer PT's parameters\n",
      "> Now do SA....... \n",
      "\n"
     ]
    },
    {
     "name": "stderr",
     "output_type": "stream",
     "text": [
      "100%|█████████▉| 1275/1276 [5:18:32<01:05, 65.93s/it]"
     ]
    },
    {
     "name": "stdout",
     "output_type": "stream",
     "text": [
      "> 超时\n",
      "> SA ENDS....... \n",
      "\n",
      "> avg loss: 19.43468368896195\n",
      "> For the *1275_th* data_key\n",
      "> retail = 1717.0,bidincrement = 0.01, bidfee = 0.01, infer PT's parameters\n",
      "> Now do SA....... \n",
      "\n"
     ]
    },
    {
     "name": "stderr",
     "output_type": "stream",
     "text": [
      "100%|██████████| 1276/1276 [5:19:37<00:00, 15.03s/it]"
     ]
    },
    {
     "name": "stdout",
     "output_type": "stream",
     "text": [
      "> 超时\n",
      "> SA ENDS....... \n",
      "\n",
      "> avg loss: 18.88085308980296\n"
     ]
    },
    {
     "name": "stderr",
     "output_type": "stream",
     "text": [
      "\n"
     ]
    }
   ],
   "source": [
    "for i in tqdm(range(0,N_uniq_auction)):        # N_uniq_auction\n",
    "\n",
    "    # Extract data with same `key_i` into a table\n",
    "    if ARTIFICIAL:\n",
    "        data_i = readin_data_fromkey(i)\n",
    "\n",
    "    else:\n",
    "        data_i = select_data_fromkey(i)\n",
    "        data_i.reset_index(drop=True,inplace=True)\n",
    "\n",
    "\n",
    "    T_i = data_i['N'].astype(int)          # auction duration sequence\n",
    "    max_T = int(max(T_i))                  # max duration value\n",
    "    A_i = len(T_i)                          # data records\n",
    "\n",
    "    v = float(data_key.iloc[i,3])\n",
    "    d = float(data_key.iloc[i,1])\n",
    "    b = float(data_key.iloc[i,2])\n",
    "    # d==0 suggests a fixed-price auction\n",
    "    if d == 0:\n",
    "        T = 1000                                   # duration limitation\n",
    "        LEN = int(max(T_i))                        # U_i length\n",
    "    else:\n",
    "        T = np.floor((v-b)/d)                         # duration limitation\n",
    "        LEN = int(T)                                  # U_i length\n",
    "\n",
    "    initial_t = max(data['cnt_N'].astype(int))        # initial temperature\n",
    "    # Calculate NLL\n",
    "    print(f\"> For the *{i}_th* data_key\")\n",
    "    print(\"> retail = {0},bidincrement = {1}, bidfee = {2}, infer PT's parameters\".format(v,d,b))\n",
    "    # print(\"> Initilizing SA....... \\n\")\n",
    "    set_run_mode(loss_func, 'cached')\n",
    "    set_run_mode(loss_func, 'multithreading')\n",
    "\n",
    "    # L=30, max_stay_counter=15\n",
    "    sa_boltzmann = SABoltzmann(func=loss_func, x0=table_5_M, other_params = [i], T_max=initial_t, T_min=0.9, learn_rate=0.01, L=15, max_stay_counter=5,lb=lb, ub=ub)\n",
    "\n",
    "    print(\"> Now do SA....... \\n\")\n",
    "    try:\n",
    "        best_x, best_y = perform_with_time(sa_boltzmann)\n",
    "    except func_timeout.exceptions.FunctionTimedOut:\n",
    "        print(f'> 超时')\n",
    "        # 超时，参数按照初始化的值，loss按照初始loss\n",
    "        best_x, best_y = table_5_M, sa_boltzmann.generation_best_Y[0]\n",
    "\n",
    "    print(\"> SA ENDS....... \\n\")\n",
    "    print(f\"> avg loss: {best_y/A_i}\")\n",
    "\n",
    "    # append the opitimized params into the df\n",
    "    df_tmp = pd.DataFrame([[i,best_x[0],1,best_x[1],sa_boltzmann.generation_best_Y[0],best_y,best_y/A_i]],columns=['key_idx','alpha','delta','labda','initial_loss','final_loss','avg_loss'])\n",
    "    params_opitim = pd.concat([params_opitim,df_tmp],axis=0,ignore_index=True)\n",
    "    # ignore_index=True could help in rearranging index"
   ],
   "metadata": {
    "collapsed": false
   }
  },
  {
   "cell_type": "code",
   "execution_count": 57,
   "outputs": [
    {
     "data": {
      "text/plain": "  key_idx     alpha delta     labda  initial_loss   final_loss  avg_loss\n0       0  0.075778     1  3.120237   1059.156662   993.742801  3.105446\n1       1  0.053608     1  6.529389    941.926861   812.190568  2.680497\n2       2  0.046656     1  6.566431   1714.669126  1520.139816  2.815074\n3       3  0.223856     1  2.719125    747.660247   601.598164  2.377858\n4       4  0.074946     1  3.242809   1111.958785  1083.328956  3.140084",
      "text/html": "<div>\n<style scoped>\n    .dataframe tbody tr th:only-of-type {\n        vertical-align: middle;\n    }\n\n    .dataframe tbody tr th {\n        vertical-align: top;\n    }\n\n    .dataframe thead th {\n        text-align: right;\n    }\n</style>\n<table border=\"1\" class=\"dataframe\">\n  <thead>\n    <tr style=\"text-align: right;\">\n      <th></th>\n      <th>key_idx</th>\n      <th>alpha</th>\n      <th>delta</th>\n      <th>labda</th>\n      <th>initial_loss</th>\n      <th>final_loss</th>\n      <th>avg_loss</th>\n    </tr>\n  </thead>\n  <tbody>\n    <tr>\n      <th>0</th>\n      <td>0</td>\n      <td>0.075778</td>\n      <td>1</td>\n      <td>3.120237</td>\n      <td>1059.156662</td>\n      <td>993.742801</td>\n      <td>3.105446</td>\n    </tr>\n    <tr>\n      <th>1</th>\n      <td>1</td>\n      <td>0.053608</td>\n      <td>1</td>\n      <td>6.529389</td>\n      <td>941.926861</td>\n      <td>812.190568</td>\n      <td>2.680497</td>\n    </tr>\n    <tr>\n      <th>2</th>\n      <td>2</td>\n      <td>0.046656</td>\n      <td>1</td>\n      <td>6.566431</td>\n      <td>1714.669126</td>\n      <td>1520.139816</td>\n      <td>2.815074</td>\n    </tr>\n    <tr>\n      <th>3</th>\n      <td>3</td>\n      <td>0.223856</td>\n      <td>1</td>\n      <td>2.719125</td>\n      <td>747.660247</td>\n      <td>601.598164</td>\n      <td>2.377858</td>\n    </tr>\n    <tr>\n      <th>4</th>\n      <td>4</td>\n      <td>0.074946</td>\n      <td>1</td>\n      <td>3.242809</td>\n      <td>1111.958785</td>\n      <td>1083.328956</td>\n      <td>3.140084</td>\n    </tr>\n  </tbody>\n</table>\n</div>"
     },
     "execution_count": 57,
     "metadata": {},
     "output_type": "execute_result"
    }
   ],
   "source": [
    "params_opitim.head()"
   ],
   "metadata": {
    "collapsed": false
   }
  },
  {
   "cell_type": "code",
   "execution_count": 58,
   "outputs": [
    {
     "data": {
      "text/plain": "'../../data/SA_PT/params_opitim_artificial_v2_noise_0.csv'"
     },
     "execution_count": 58,
     "metadata": {},
     "output_type": "execute_result"
    }
   ],
   "source": [
    "params_opitim_delta_path"
   ],
   "metadata": {
    "collapsed": false
   }
  },
  {
   "cell_type": "code",
   "execution_count": 59,
   "outputs": [],
   "source": [
    "# save 'params_opitim' for later check\n",
    "params_opitim.to_csv(params_opitim_delta_path, header=True, encoding=\"utf-8\",index=False)"
   ],
   "metadata": {
    "collapsed": false
   }
  },
  {
   "cell_type": "markdown",
   "source": [
    "# 4. append with data key\n",
    "1. 根据需要更改一下，总之只执行1次\n",
    "2. 添加data key以及duration等信息"
   ],
   "metadata": {
    "collapsed": false
   }
  },
  {
   "cell_type": "code",
   "source": [
    "params_opitim = pd.read_csv(params_opitim_delta_path, encoding=\"utf-8\")\n",
    "params_opitim_withsetting = pd.concat([data_key,params_opitim],axis = 1)"
   ],
   "metadata": {
    "collapsed": false
   },
   "execution_count": null,
   "outputs": []
  }
 ],
 "metadata": {
  "kernelspec": {
   "display_name": "Python 3",
   "language": "python",
   "name": "python3"
  },
  "language_info": {
   "codemirror_mode": {
    "name": "ipython",
    "version": 2
   },
   "file_extension": ".py",
   "mimetype": "text/x-python",
   "name": "python",
   "nbconvert_exporter": "python",
   "pygments_lexer": "ipython2",
   "version": "2.7.6"
  }
 },
 "nbformat": 4,
 "nbformat_minor": 0
}
