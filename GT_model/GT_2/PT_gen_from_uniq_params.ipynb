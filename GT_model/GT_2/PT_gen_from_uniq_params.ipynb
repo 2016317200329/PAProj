{
 "cells": [
  {
   "cell_type": "code",
   "execution_count": 1,
   "outputs": [],
   "source": [
    "#!/usr/bin/env python\n",
    "# -*- coding: utf-8 -*-\n",
    "# @Time    : 2022/11/07 16:36\n",
    "# @Author  : Wang Yujia\n",
    "# @File    : PT_gen_oneforall.ipynb\n",
    "# @Description : calculating U&P with inferred param"
   ],
   "metadata": {
    "collapsed": false
   }
  },
  {
   "cell_type": "markdown",
   "source": [
    "# 0. What for\n",
    "1. 用infer的结果来算U和P\n",
    "2. 使用的params是unique parameter\n",
    "3. 设置threshold = K = 300\n",
    "    - T < 300的padding（补零）\n",
    "    - T > 300的求和到最后一个值\n",
    "\n",
    "# 1. Preparations\n",
    "## 1.1 全局设置"
   ],
   "metadata": {
    "collapsed": false
   }
  },
  {
   "cell_type": "code",
   "execution_count": 9,
   "outputs": [],
   "source": [
    "# 人工数据集or真实数据集\n",
    "ARTIFICIAL = False\n",
    "SHIFT = True\n",
    "SHIFT_STR = \"sft_bidfee\"\n",
    "# seed = [3,31,204,223,407]\n",
    "seed = 512\n",
    "noise_pct = 0.05\n",
    "GT_w_Params = 2  # GT2 or GT3. If GT1, this will be ignored\n",
    "\n",
    "# Small dataset\n",
    "settings_small_NN_path = r\"../../data/small_settings_NN.csv\"\n",
    "# Large data\n",
    "settings_large_NN_path = r'E:\\DATA\\large_dta\\large_settings_NN.csv'\n",
    "\n",
    "# inferred params\n",
    "if ARTIFICIAL:\n",
    "    params_opitim_path =  r\"../../data/SA_PT/params_artificial_GT\"+str(GT_w_Params)+\"_noise=\" + str(noise_pct) + \"_seed=\" + str(seed) + \".csv\"\n",
    "else:\n",
    "    # params_opitim_path = \"../../data/SA_PT/params_seed=\"+str(seed)+\".csv\"\n",
    "    params_opitim_path = \"../../data/SA_PT/params_GT\"+str(GT_w_Params)+\"_seed=\" + str(seed) + \".csv\"\n",
    "\n",
    "if SHIFT:\n",
    "    params_opitim_path = \"../../data/SA_PT/params_GT\"+str(GT_w_Params)+\"_\"+SHIFT_STR+\".csv\"\n",
    "\n",
    "# # output path\n",
    "# if self.ARTIFICIAL:\n",
    "#     self.params_gen_path = os.path.join(self.data_root, \"data/SA_PT/params_artificial_GT\"+str(self.GT_w_Params)+\"_noise=\" + str(self.noise_pct) + \"_seed=\" + str(self.seed) + \".csv\")\n",
    "# else:\n",
    "\n",
    "# params_opitim_path = r\"../../data/params_and_K_sampled.csv\"\n",
    "unique_setting_NN = ['desc','bidincrement','bidfee','retail','flg_endprice']\n",
    "LEN = 300\n",
    "\n",
    "# output path\n",
    "if ARTIFICIAL:\n",
    "    filename_P = r\"../../data/SA_PT/results/GT_2_artificial_SA_LEN=\" +str(LEN) +\"_noise=\"+str(noise_pct)+\"_seed=\"+str(seed)+ \".csv\"\n",
    "else:\n",
    "    filename_P = r\"../../data/SA_PT/results/GT_2_NN_LEN=300_seed=\"+str(seed)+ \".csv\"\n",
    "\n",
    "if SHIFT:\n",
    "    filename_P = \"../../data/SA_PT/results/GT_2_NN_LEN=300_\"+SHIFT_STR+\".csv\"\n",
    "\n",
    "import numpy as np\n",
    "import csv\n",
    "import os\n",
    "import pandas as pd\n",
    "from visdom import Visdom\n",
    "from SA_for_PT_funcs_delta_eq1 import *\n",
    "from tqdm import tqdm\n",
    "import json"
   ],
   "metadata": {
    "collapsed": false
   }
  },
  {
   "cell_type": "markdown",
   "source": [
    "## 1.2 data 读取\n",
    "1. data_key不变\n",
    "2. 并且提取成功infer的参数结果`params_all`"
   ],
   "metadata": {
    "collapsed": false
   }
  },
  {
   "cell_type": "code",
   "execution_count": 10,
   "outputs": [
    {
     "data": {
      "text/plain": "'../../data/SA_PT/params_GT2_sft_bidinc.csv'"
     },
     "execution_count": 10,
     "metadata": {},
     "output_type": "execute_result"
    }
   ],
   "source": [
    "params_opitim_path"
   ],
   "metadata": {
    "collapsed": false
   }
  },
  {
   "cell_type": "code",
   "execution_count": 11,
   "outputs": [],
   "source": [
    "\n",
    "data_key_small = pd.read_csv(settings_small_NN_path, encoding=\"utf-8\")\n",
    "data_key_large = pd.read_csv(settings_large_NN_path, encoding=\"utf-8\")\n",
    "data_key = pd.concat([data_key_small,data_key_large],axis=0,ignore_index=True)\n",
    "\n",
    "params_all = pd.read_csv(params_opitim_path, encoding=\"utf-8\")\n",
    "\n",
    "\n",
    "# 有`N_uniq_auction`组setting\n",
    "LEN_small = data_key_small.shape[0]\n",
    "LEN_large = data_key_large.shape[0]"
   ],
   "metadata": {
    "collapsed": false
   }
  },
  {
   "cell_type": "markdown",
   "source": [
    "# 2. U & P\n",
    "## 2.1 generate\n",
    "\n",
    "1. 对不同的auction settings做generate\n",
    "2. generate过程: u-->p，然后把P存到dict里\n",
    "3. U 由 `f_equi`得到\n",
    "4. 注意P最后删去了第一个值P[0]，因此现在P[i]表示duration=i+1的概率"
   ],
   "metadata": {
    "collapsed": false
   }
  },
  {
   "cell_type": "code",
   "execution_count": 12,
   "outputs": [
    {
     "data": {
      "text/plain": "Empty DataFrame\nColumns: [0, 1, 2, 3, 4, 5, 6, 7, 8, 9, 10, 11, 12, 13, 14, 15, 16, 17, 18, 19, 20, 21, 22, 23, 24, 25, 26, 27, 28, 29, 30, 31, 32, 33, 34, 35, 36, 37, 38, 39, 40, 41, 42, 43, 44, 45, 46, 47, 48, 49, 50, 51, 52, 53, 54, 55, 56, 57, 58, 59, 60, 61, 62, 63, 64, 65, 66, 67, 68, 69, 70, 71, 72, 73, 74, 75, 76, 77, 78, 79, 80, 81, 82, 83, 84, 85, 86, 87, 88, 89, 90, 91, 92, 93, 94, 95, 96, 97, 98, 99, ...]\nIndex: []\n\n[0 rows x 300 columns]",
      "text/html": "<div>\n<style scoped>\n    .dataframe tbody tr th:only-of-type {\n        vertical-align: middle;\n    }\n\n    .dataframe tbody tr th {\n        vertical-align: top;\n    }\n\n    .dataframe thead th {\n        text-align: right;\n    }\n</style>\n<table border=\"1\" class=\"dataframe\">\n  <thead>\n    <tr style=\"text-align: right;\">\n      <th></th>\n      <th>0</th>\n      <th>1</th>\n      <th>2</th>\n      <th>3</th>\n      <th>4</th>\n      <th>5</th>\n      <th>6</th>\n      <th>7</th>\n      <th>8</th>\n      <th>9</th>\n      <th>...</th>\n      <th>290</th>\n      <th>291</th>\n      <th>292</th>\n      <th>293</th>\n      <th>294</th>\n      <th>295</th>\n      <th>296</th>\n      <th>297</th>\n      <th>298</th>\n      <th>299</th>\n    </tr>\n  </thead>\n  <tbody>\n  </tbody>\n</table>\n<p>0 rows × 300 columns</p>\n</div>"
     },
     "execution_count": 12,
     "metadata": {},
     "output_type": "execute_result"
    }
   ],
   "source": [
    "# col_names = ['bidincrement','bidfee','retail']\n",
    "col_names = []\n",
    "tmp = np.arange(0,LEN)\n",
    "tmp_str = [str(x) for x in tmp]\n",
    "col_names.extend(tmp_str)\n",
    "\n",
    "P_df = pd.DataFrame(columns=col_names)\n",
    "\n",
    "P_df"
   ],
   "metadata": {
    "collapsed": false
   }
  },
  {
   "cell_type": "code",
   "execution_count": 13,
   "outputs": [
    {
     "name": "stderr",
     "output_type": "stream",
     "text": [
      "100%|██████████| 1276/1276 [00:03<00:00, 323.86it/s]"
     ]
    },
    {
     "name": "stdout",
     "output_type": "stream",
     "text": [
      "Done\n"
     ]
    },
    {
     "name": "stderr",
     "output_type": "stream",
     "text": [
      "\n"
     ]
    }
   ],
   "source": [
    "# solve for U & P\n",
    "for i in tqdm(range(LEN_small+LEN_large)):\n",
    "\n",
    "    # Get params\n",
    "    v = float(data_key.iloc[i,3])\n",
    "    d = float(data_key.iloc[i,1])\n",
    "    b = float(data_key.iloc[i,2])\n",
    "    params = params_all.iloc[i,:]\n",
    "\n",
    "    # if ARTIFICIAL:\n",
    "    alpha = params[0].item()\n",
    "    labda = params[1].item()\n",
    "    # else:\n",
    "    #     alpha = params[1].item()\n",
    "    #     labda = params[3].item()\n",
    "\n",
    "    # d==0 suggests a fixed-price auction\n",
    "    if d == 0:\n",
    "        T = np.inf                                    # duration limitation\n",
    "    else:\n",
    "        T = np.floor((v-b)/d)                         # duration limitation\n",
    "\n",
    "    if T >= LEN:\n",
    "        U = get_U_GT2(LEN,v, d, b, alpha, labda,eps = 0.)\n",
    "    elif T < LEN:\n",
    "        U = [0] * (LEN + 2)              # the prob. that someone offers a bid in t_th round\n",
    "        U[0],U[1] = 1,1\n",
    "        for t in range(2,len(U)):\n",
    "            if(t <= T):  # 不超过理论上限T_i，可计算\n",
    "                U[t] = f_Equi(t, v, d, b, alpha, labda)\n",
    "            else:\n",
    "                U[t] = 0\n",
    "            assert U[t]>=0, \"U[t]<0! when t ={},and b = {},v = {}, d = {}\".format(t,b,v,d)\n",
    "            assert U[t]<=1, \"U[t]>1! when t ={},and b = {},v = {}, d = {}\".format(t,b,v,d)\n",
    "\n",
    "    # Solve for P with length of LEN\n",
    "    P = get_P(U,LEN)\n",
    "    # P[i][t] = U[i][1]*U[i][2]*...*(1-U[i][t+1])\n",
    "    assert len(P)==LEN,\"P has wrong length (should be LEN)\"\n",
    "\n",
    "    # 归一化这里不做的话，在输入NN之前也会在collate里面执行\n",
    "    # if np.floor((v-b)/d) > LEN:\n",
    "    #     scale_sum = np.sum(P)\n",
    "    # P = P/np.sum(P)\n",
    "\n",
    "    # Concat with dataframe\n",
    "    pd_tmp = pd.DataFrame(P).T\n",
    "    pd_tmp.columns = col_names\n",
    "    P_df = pd.concat([P_df,pd_tmp],ignore_index=True)\n",
    "    # # Plot\n",
    "    # if(plot_flag& (i%10 == 0)):\n",
    "    #     viz.line(p,np.arange(0,p.shape[0]),win = 'P_'+str(i),env=env_str, opts= dict(title = f'P_{i}_v={v}_b={b}_d={d}'))\n",
    "print(\"Done\")\n"
   ],
   "metadata": {
    "collapsed": false
   }
  },
  {
   "cell_type": "markdown",
   "source": [
    "# 3. save"
   ],
   "metadata": {
    "collapsed": false
   }
  },
  {
   "cell_type": "code",
   "execution_count": 14,
   "outputs": [
    {
     "data": {
      "text/plain": "'../../data/SA_PT/GT_2_NN_LEN=300_sft_bidinc.csv'"
     },
     "execution_count": 14,
     "metadata": {},
     "output_type": "execute_result"
    }
   ],
   "source": [
    "filename_P"
   ],
   "metadata": {
    "collapsed": false
   }
  },
  {
   "cell_type": "code",
   "execution_count": 15,
   "outputs": [
    {
     "name": "stdout",
     "output_type": "stream",
     "text": [
      "DONE\n"
     ]
    }
   ],
   "source": [
    "P_df.to_csv(filename_P,header=True,index=False,encoding=\"utf-8\")\n",
    "print(\"DONE\")"
   ],
   "metadata": {
    "collapsed": false
   }
  },
  {
   "cell_type": "code",
   "execution_count": 12,
   "outputs": [
    {
     "data": {
      "text/plain": "(array([2., 1., 4., 2., 2., 0., 1., 2., 1., 2., 0., 1., 1., 0., 2., 0., 2.,\n        4., 0., 1., 0., 3., 0., 0., 2., 2., 1., 3., 0., 0., 2., 0., 0., 4.,\n        0., 2., 1., 0., 1., 0., 1., 0., 2., 0., 3., 1., 1., 1., 0., 5., 2.,\n        1., 2., 0., 1., 2., 0., 1., 1., 0., 0., 0., 0., 1., 0., 3., 1., 2.,\n        2., 1., 1., 0., 0., 2., 1., 0., 0., 0., 0., 3., 2., 0., 0., 2., 2.,\n        0., 1., 1., 0., 0., 1., 0., 1., 2., 0., 0., 1., 1., 0., 2., 0., 0.,\n        0., 2., 4., 1., 1., 0., 1., 0., 1., 0., 2., 1., 0., 0., 0., 0., 0.,\n        0., 0., 1., 3.]),\n array([  2.        ,   4.11382114,   6.22764228,   8.34146341,\n         10.45528455,  12.56910569,  14.68292683,  16.79674797,\n         18.91056911,  21.02439024,  23.13821138,  25.25203252,\n         27.36585366,  29.4796748 ,  31.59349593,  33.70731707,\n         35.82113821,  37.93495935,  40.04878049,  42.16260163,\n         44.27642276,  46.3902439 ,  48.50406504,  50.61788618,\n         52.73170732,  54.84552846,  56.95934959,  59.07317073,\n         61.18699187,  63.30081301,  65.41463415,  67.52845528,\n         69.64227642,  71.75609756,  73.8699187 ,  75.98373984,\n         78.09756098,  80.21138211,  82.32520325,  84.43902439,\n         86.55284553,  88.66666667,  90.7804878 ,  92.89430894,\n         95.00813008,  97.12195122,  99.23577236, 101.3495935 ,\n        103.46341463, 105.57723577, 107.69105691, 109.80487805,\n        111.91869919, 114.03252033, 116.14634146, 118.2601626 ,\n        120.37398374, 122.48780488, 124.60162602, 126.71544715,\n        128.82926829, 130.94308943, 133.05691057, 135.17073171,\n        137.28455285, 139.39837398, 141.51219512, 143.62601626,\n        145.7398374 , 147.85365854, 149.96747967, 152.08130081,\n        154.19512195, 156.30894309, 158.42276423, 160.53658537,\n        162.6504065 , 164.76422764, 166.87804878, 168.99186992,\n        171.10569106, 173.2195122 , 175.33333333, 177.44715447,\n        179.56097561, 181.67479675, 183.78861789, 185.90243902,\n        188.01626016, 190.1300813 , 192.24390244, 194.35772358,\n        196.47154472, 198.58536585, 200.69918699, 202.81300813,\n        204.92682927, 207.04065041, 209.15447154, 211.26829268,\n        213.38211382, 215.49593496, 217.6097561 , 219.72357724,\n        221.83739837, 223.95121951, 226.06504065, 228.17886179,\n        230.29268293, 232.40650407, 234.5203252 , 236.63414634,\n        238.74796748, 240.86178862, 242.97560976, 245.08943089,\n        247.20325203, 249.31707317, 251.43089431, 253.54471545,\n        255.65853659, 257.77235772, 259.88617886, 262.        ]),\n <BarContainer object of 123 artists>)"
     },
     "execution_count": 12,
     "metadata": {},
     "output_type": "execute_result"
    },
    {
     "data": {
      "text/plain": "<Figure size 640x480 with 1 Axes>",
      "image/png": "[encoded data removed]"
     },
     "metadata": {},
     "output_type": "display_data"
    }
   ],
   "source": [
    "import matplotlib.pyplot as plt\n",
    "\n",
    "plt.figure()\n",
    "ax = plt.subplot(111)\n",
    "# padding zero hist: 太多padding with zero会影响效果\n",
    "ax.hist(zero_padding_len,bins=len(zero_padding_len))"
   ],
   "metadata": {
    "collapsed": false
   }
  },
  {
   "cell_type": "markdown",
   "source": [
    "# 4. 读取json并且还原viz环境"
   ],
   "metadata": {
    "collapsed": false
   }
  },
  {
   "cell_type": "code",
   "execution_count": 11,
   "outputs": [],
   "source": [
    "\n",
    "viz_path = \"../data/vis/P.json\"\n",
    "with open(viz_path,\"r\") as f:\n",
    "    pre_data=json.load(f)\n",
    "\n",
    "tmp = pre_data['jsons'].values()\n",
    "for i in range(0,len((pre_data['jsons']).keys())):\n",
    "    tmpi = list(tmp)[i]\n",
    "    viz.line(\n",
    "        X=np.array(tmpi['content'][\"data\"][0][\"x\"]),\n",
    "        Y=np.array(tmpi['content'][\"data\"][0][\"y\"]),\n",
    "        env = \"P_oneforall\",\n",
    "        win = tmpi['id'],\n",
    "        opts= dict(title=tmpi['title']),\n",
    "    )"
   ],
   "metadata": {
    "collapsed": false
   }
  }
 ],
 "metadata": {
  "kernelspec": {
   "display_name": "Python 3",
   "language": "python",
   "name": "python3"
  },
  "language_info": {
   "codemirror_mode": {
    "name": "ipython",
    "version": 2
   },
   "file_extension": ".py",
   "mimetype": "text/x-python",
   "name": "python",
   "nbconvert_exporter": "python",
   "pygments_lexer": "ipython2",
   "version": "2.7.6"
  }
 },
 "nbformat": 4,
 "nbformat_minor": 0
}
