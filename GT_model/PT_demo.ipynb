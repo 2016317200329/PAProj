{
 "cells": [
  {
   "cell_type": "code",
   "execution_count": 87,
   "metadata": {
    "collapsed": true
   },
   "outputs": [
    {
     "name": "stdout",
     "output_type": "stream",
     "text": [
      "The autoreload extension is already loaded. To reload it, use:\n",
      "  %reload_ext autoreload\n"
     ]
    }
   ],
   "source": [
    "#!/usr/bin/env python\n",
    "# -*- coding: utf-8 -*-\n",
    "# @Time    : 2022/10/08 13:58\n",
    "# @Author  : Wang Yujia\n",
    "# @File    : PT_demo.ipynb\n",
    "\n",
    "# @Description : 1. 用SA试做一下inference of PT model's 3 params 2. 复现table 1的code见PT_demo_table1.ipynb"
   ]
  },
  {
   "cell_type": "markdown",
   "source": [
    "# 1. Preparations\n",
    "## 1.1 Import"
   ],
   "metadata": {
    "collapsed": false,
    "pycharm": {
     "name": "#%% md\n"
    }
   }
  },
  {
   "cell_type": "code",
   "execution_count": 9,
   "outputs": [],
   "source": [
    "import numpy as np\n",
    "import pandas as pd\n",
    "import sympy\n",
    "from sko.SA import SA\n",
    "from tqdm.notebook import tqdm\n",
    "import seaborn as sns"
   ],
   "metadata": {
    "collapsed": false,
    "pycharm": {
     "name": "#%%\n"
    }
   }
  },
  {
   "cell_type": "markdown",
   "source": [
    "## 1.2 Global Settings"
   ],
   "metadata": {
    "collapsed": false,
    "pycharm": {
     "name": "#%% md\n"
    }
   }
  },
  {
   "cell_type": "code",
   "execution_count": 12,
   "outputs": [],
   "source": [
    "# auction settings from Swoopo\n",
    "#b = 0.75\n",
    "#v = 169.99\n",
    "#d = 0.15\n",
    "\n",
    "# auction settings from paper's Fig.1 left\n",
    "b= 0.75\n",
    "v = 27.99\n",
    "d = 0.01\n",
    "\n",
    "# cnt_row = data_i.shape[0]\n",
    "cnt_row = 5\n",
    "# cnt_n_2 = data_i['cnt_n_2']\n",
    "cnt_n_2 = [1,1,2,3,1]\n",
    "#N_i = data_i['N']\n",
    "N_i = [500,50,100,200,300]\n",
    "# max duration from Swoopo\n",
    "max_T = 831\n",
    "\n",
    "# from paper's Table 5 'All auction'\n",
    "# alpha = 0.025\n",
    "# delta = 0.85\n",
    "# labda = 3.72\n",
    "\n",
    "# initial params\n",
    "table_5_M = [0.025,0.85,3.72]\n",
    "# lower/ upper bound\n",
    "lb = [-0.3,0.01,0.01]\n",
    "ub = [0.3, 2, 16]\n",
    "\n",
    "# paper setting\n",
    "#T = int((v-b)/d)"
   ],
   "metadata": {
    "collapsed": false,
    "pycharm": {
     "name": "#%%\n"
    }
   }
  },
  {
   "cell_type": "markdown",
   "source": [
    "# 2. Infer with SA\n",
    "1. 用SA 求解参数。\n",
    "2. 定义函数之后，求一个uniq auction下的u和p\n",
    "3. 然后用p求NLL作为最终的loss"
   ],
   "metadata": {
    "collapsed": false,
    "pycharm": {
     "name": "#%% md\n"
    }
   }
  },
  {
   "cell_type": "markdown",
   "source": [
    "## 2.1 function definition\n",
    "1. 根据Eq(7)-(9)"
   ],
   "metadata": {
    "collapsed": false
   }
  },
  {
   "cell_type": "code",
   "execution_count": 3,
   "outputs": [],
   "source": [
    "def C(t,b):\n",
    "    return 0.2*t*b\n",
    "\n",
    "def OMEGA(p,delta):\n",
    "    return p**delta * ((p**delta + (1-p)**delta)**(-1/delta))\n",
    "\n",
    "# valuation function\n",
    "def f(x, alpha):\n",
    "    return (1-sympy.E**(-alpha*x))/alpha\n",
    "    # when x < 0, in fact, it shoule be : (-labda)*(1-sympy.E**(alpha*x))/alpha\n",
    "\n",
    "def f_Equi(t,v,d,b,alpha,labda,delta):\n",
    "    u = sympy.Symbol('u')\n",
    "\n",
    "    tmp = v-d*t-C(t-1,b) - b\n",
    "\n",
    "    func_1 = (labda * f(x=C(t-1, b), alpha=alpha) - labda * OMEGA(u, delta) * f(x=(C(t-1, b) + b), alpha=alpha) + OMEGA(1-u, delta) * f(tmp, alpha))\n",
    "    func_2 = (-f(x=C(t-1, b), alpha=alpha) + OMEGA(u, delta) * f(x=(C(t-1, b) + b), alpha=alpha) + (1 - OMEGA(u, delta)) * f(-tmp, alpha))\n",
    "\n",
    "    if(tmp >= 0):\n",
    "        return sympy.nsolve(func_1,(0,1),solver='bisect', verify=False)\n",
    "    else:\n",
    "        return sympy.nsolve(func_2,(0,1),solver='bisect', verify=False)"
   ],
   "metadata": {
    "collapsed": false,
    "pycharm": {
     "name": "#%%\n"
    }
   }
  },
  {
   "cell_type": "markdown",
   "source": [
    "## 2.2 Loss func\n",
    "1. 这个函数比较长 没办法，求u需要用SA给的params的值。`loss_func`的返回值是NLL\n",
    "2. 求解`U_i[t]` which is a array with shape of (max(N)),`U_i[t]`就是paper里的`p_t`\n",
    "3. for different auction, the duration is N_i[idx] and the value of duration it is various\n",
    "4. nll计算时乘的`cnt_n_2[idx]`是为了减少计算次数，表示duration相同的auction的数量。"
   ],
   "metadata": {
    "collapsed": false,
    "pycharm": {
     "name": "#%% md\n"
    }
   }
  },
  {
   "cell_type": "code",
   "execution_count": 10,
   "outputs": [],
   "source": [
    "def loss_func(params):\n",
    "\n",
    "    alpha = params[0]\n",
    "    delta = params[1]\n",
    "    labda = params[2]\n",
    "\n",
    "    # solve for U from Equi. condt.\n",
    "    U_i = [0] * (max_T + 1)\n",
    "    U_i[0] = 1\n",
    "    #P_tmp = [0]*(max_T+1)   # P is what we want but NOT what NLL needs\n",
    "    #P_tmp[0] = 1\n",
    "\n",
    "    # tmp = 1\n",
    "    for t in tqdm(range(1,max_T+1),desc=\"solve for U\"):\n",
    "\n",
    "        # if((t>1) & (U_i[t-1] > 1-1e-5)):\n",
    "        #     print(\"> Break when t == {}, cause U_i[t-1] > 1-1e-6\".format(t))\n",
    "        #     break\n",
    "        U_i[t] = f_Equi(t, v, d, b, alpha, labda, delta)\n",
    "        #P_tmp[t] = (1- U_i[t])*tmp\n",
    "        #tmp = tmp*U_i[t]\n",
    "\n",
    "    # calculate NLL under this auction setting & PT params\n",
    "    nll = 0\n",
    "    if(U_i[0]==1):\n",
    "        U_i.pop(0)            # because P_tmp[0]=1\n",
    "    # P_tmp_df = pd.DataFrame(P_tmp,index=np.arange(0,P_tmp.__len__()),columns=['P'],dtype=float)\n",
    "    U_tmp_df = pd.DataFrame(U_i, index=np.arange(0, U_i.__len__()), columns=['U'], dtype=float)\n",
    "    # cnt_row = data_i.shape[0]\n",
    "    for idx in range(0,cnt_row):\n",
    "        # sum up the log prob among all durations of this auction\n",
    "        nll += ( np.sum(U_tmp_df[0:(N_i[idx]-1)][:].apply(np.log,axis=1)) + np.log(1-U_tmp_df.iat[(N_i[idx]-1),0]) )* cnt_n_2[idx]\n",
    "\n",
    "    return float(-nll)"
   ],
   "metadata": {
    "collapsed": false,
    "pycharm": {
     "name": "#%%\n"
    }
   }
  },
  {
   "cell_type": "code",
   "execution_count": 132,
   "outputs": [
    {
     "data": {
      "text/plain": "-16.679542725154533"
     },
     "execution_count": 132,
     "metadata": {},
     "output_type": "execute_result"
    }
   ],
   "source": [
    "# for SA testing\n",
    "def demo_func(x):\n",
    "    alpha = x[0]\n",
    "    delta = x[1]\n",
    "    labda = x[2]\n",
    "    return alpha ** 2 + (labda - 0.05) ** 2 + delta ** 2"
   ],
   "metadata": {
    "collapsed": false,
    "pycharm": {
     "name": "#%%\n"
    }
   }
  },
  {
   "cell_type": "code",
   "execution_count": 15,
   "outputs": [
    {
     "name": "stdout",
     "output_type": "stream",
     "text": [
      "> Initilizing SA....... \n",
      "\n"
     ]
    },
    {
     "data": {
      "text/plain": "solve for U:   0%|          | 0/831 [00:00<?, ?it/s]",
      "application/vnd.jupyter.widget-view+json": {
       "version_major": 2,
       "version_minor": 0,
       "model_id": "ceb28039566f4e209f646b01498553f9"
      }
     },
     "metadata": {},
     "output_type": "display_data"
    }
   ],
   "source": [
    "print(\"> Initilizing SA....... \\n\")\n",
    "from sko.SA import SABoltzmann\n",
    "from sko.SA import SACauchy\n",
    "\n",
    "#sa_cauchy = SACauchy(func=loss_func, x0=table_5_M, T_max=1000, T_min=1e-5, learn_rate=0.01, L=50, max_stay_counter=50,\n",
    "#                     lb=[-0.3,0.01,0.01], ub=[0.3, 2, 16])\n",
    "\n",
    "sa_boltzmann = SABoltzmann(func=loss_func, x0=table_5_M, T_max=1000, T_min=1e-5, learn_rate=0.01, L=50, max_stay_counter=50,\n",
    "                            lb=lb, ub=ub)\n",
    "\n",
    "#sa = SA(func=loss_func, x0=table_5_M, T_max=1000, T_min=1e-5, L=50, max_stay_counter=50,\n",
    "#        lb=[-0.3,0.01,0.01], ub=[0.3, 2, 16])\n",
    "\n",
    "# for SA_Fast:\n",
    "# [-1.  3. 10.] ok"
   ],
   "metadata": {
    "collapsed": false,
    "pycharm": {
     "name": "#%%\n"
    }
   }
  },
  {
   "cell_type": "code",
   "execution_count": null,
   "outputs": [
    {
     "name": "stdout",
     "output_type": "stream",
     "text": [
      "> Now do SA....... \n",
      "\n",
      "-------------- 0_th iteration --------------\n",
      "\n",
      "---------- 0/L ----------\n",
      "\n",
      "x_new before clipping:  [0.0045621  0.5558748  3.84665087]\n",
      "x_new after clipping:  [0.0045621  0.5558748  3.84665087]\n"
     ]
    },
    {
     "data": {
      "text/plain": "solve for U:   0%|          | 0/831 [00:00<?, ?it/s]",
      "application/vnd.jupyter.widget-view+json": {
       "version_major": 2,
       "version_minor": 0,
       "model_id": "643fa80443cf4eb0bbc8c64b53ca7b56"
      }
     },
     "metadata": {},
     "output_type": "display_data"
    },
    {
     "name": "stdout",
     "output_type": "stream",
     "text": [
      "y_new - y_current is -13.405098352927581: \n",
      "---------- 0/L ----------\n",
      "\n",
      "---------- 1/L ----------\n",
      "\n",
      "x_new before clipping:  [0.16324084 0.51542019 3.84990631]\n",
      "x_new after clipping:  [0.16324084 0.51542019 3.84990631]\n"
     ]
    },
    {
     "data": {
      "text/plain": "solve for U:   0%|          | 0/831 [00:00<?, ?it/s]",
      "application/vnd.jupyter.widget-view+json": {
       "version_major": 2,
       "version_minor": 0,
       "model_id": "a35162b6c6dc447aa2183464a95d64be"
      }
     },
     "metadata": {},
     "output_type": "display_data"
    },
    {
     "name": "stdout",
     "output_type": "stream",
     "text": [
      "y_new - y_current is 40.49307970345589: \n",
      "---------- 1/L ----------\n",
      "\n",
      "---------- 2/L ----------\n",
      "\n",
      "x_new before clipping:  [0.26678227 0.32447155 3.75189781]\n",
      "x_new after clipping:  [0.26678227 0.32447155 3.75189781]\n"
     ]
    },
    {
     "data": {
      "text/plain": "solve for U:   0%|          | 0/831 [00:00<?, ?it/s]",
      "application/vnd.jupyter.widget-view+json": {
       "version_major": 2,
       "version_minor": 0,
       "model_id": "c4734da19d0b4e8fb2c58c6c27011602"
      }
     },
     "metadata": {},
     "output_type": "display_data"
    },
    {
     "name": "stdout",
     "output_type": "stream",
     "text": [
      "y_new - y_current is 102.85583465754411: \n",
      "---------- 2/L ----------\n",
      "\n",
      "---------- 3/L ----------\n",
      "\n",
      "x_new before clipping:  [0.49005385 0.344982   3.64785802]\n",
      "x_new after clipping:  [0.3        0.344982   3.64785802]\n"
     ]
    },
    {
     "data": {
      "text/plain": "solve for U:   0%|          | 0/831 [00:00<?, ?it/s]",
      "application/vnd.jupyter.widget-view+json": {
       "version_major": 2,
       "version_minor": 0,
       "model_id": "d589c508d8284bbcbf8775c8f3a99946"
      }
     },
     "metadata": {},
     "output_type": "display_data"
    },
    {
     "name": "stdout",
     "output_type": "stream",
     "text": [
      "y_new - y_current is 0.7836066572979234: \n",
      "---------- 3/L ----------\n",
      "\n",
      "---------- 4/L ----------\n",
      "\n",
      "x_new before clipping:  [0.44930939 0.37931029 3.23823285]\n",
      "x_new after clipping:  [0.3        0.37931029 3.23823285]\n"
     ]
    },
    {
     "data": {
      "text/plain": "solve for U:   0%|          | 0/831 [00:00<?, ?it/s]",
      "application/vnd.jupyter.widget-view+json": {
       "version_major": 2,
       "version_minor": 0,
       "model_id": "1fa55c063df847f1b7ef04b75b90493d"
      }
     },
     "metadata": {},
     "output_type": "display_data"
    },
    {
     "name": "stdout",
     "output_type": "stream",
     "text": [
      "y_new - y_current is -19.98605865889496: \n",
      "---------- 4/L ----------\n",
      "\n",
      "---------- 5/L ----------\n",
      "\n",
      "x_new before clipping:  [0.4724446  0.56984594 3.62632332]\n",
      "x_new after clipping:  [0.3        0.56984594 3.62632332]\n"
     ]
    },
    {
     "data": {
      "text/plain": "solve for U:   0%|          | 0/831 [00:00<?, ?it/s]",
      "application/vnd.jupyter.widget-view+json": {
       "version_major": 2,
       "version_minor": 0,
       "model_id": "7afc0579bd2b453387e70ed8f101b29f"
      }
     },
     "metadata": {},
     "output_type": "display_data"
    },
    {
     "name": "stdout",
     "output_type": "stream",
     "text": [
      "y_new - y_current is -55.65628933114448: \n",
      "---------- 5/L ----------\n",
      "\n",
      "---------- 6/L ----------\n",
      "\n",
      "x_new before clipping:  [0.33273558 0.763063   3.5675256 ]\n",
      "x_new after clipping:  [0.3       0.763063  3.5675256]\n"
     ]
    },
    {
     "data": {
      "text/plain": "solve for U:   0%|          | 0/831 [00:00<?, ?it/s]",
      "application/vnd.jupyter.widget-view+json": {
       "version_major": 2,
       "version_minor": 0,
       "model_id": "10d0e4211ff3426b9cba405c16fa58af"
      }
     },
     "metadata": {},
     "output_type": "display_data"
    },
    {
     "name": "stdout",
     "output_type": "stream",
     "text": [
      "y_new - y_current is -17.247570779464013: \n",
      "---------- 6/L ----------\n",
      "\n",
      "---------- 7/L ----------\n",
      "\n",
      "x_new before clipping:  [0.29436853 0.8443377  3.75906161]\n",
      "x_new after clipping:  [0.29436853 0.8443377  3.75906161]\n"
     ]
    },
    {
     "data": {
      "text/plain": "solve for U:   0%|          | 0/831 [00:00<?, ?it/s]",
      "application/vnd.jupyter.widget-view+json": {
       "version_major": 2,
       "version_minor": 0,
       "model_id": "206c2729907040578a600926f593698b"
      }
     },
     "metadata": {},
     "output_type": "display_data"
    },
    {
     "name": "stdout",
     "output_type": "stream",
     "text": [
      "y_new - y_current is -1.5267993463398142: \n",
      "---------- 7/L ----------\n",
      "\n",
      "---------- 8/L ----------\n",
      "\n",
      "x_new before clipping:  [0.32191141 1.10854657 3.36177253]\n",
      "x_new after clipping:  [0.3        1.10854657 3.36177253]\n"
     ]
    },
    {
     "data": {
      "text/plain": "solve for U:   0%|          | 0/831 [00:00<?, ?it/s]",
      "application/vnd.jupyter.widget-view+json": {
       "version_major": 2,
       "version_minor": 0,
       "model_id": "e6cb1e9c816e45e68f2f6597f95b95de"
      }
     },
     "metadata": {},
     "output_type": "display_data"
    },
    {
     "name": "stdout",
     "output_type": "stream",
     "text": [
      "y_new - y_current is 3.0782872483551387: \n",
      "---------- 8/L ----------\n",
      "\n",
      "---------- 9/L ----------\n",
      "\n",
      "x_new before clipping:  [-0.00375933  1.22798997  3.41353145]\n",
      "x_new after clipping:  [-0.00375933  1.22798997  3.41353145]\n"
     ]
    },
    {
     "data": {
      "text/plain": "solve for U:   0%|          | 0/831 [00:00<?, ?it/s]",
      "application/vnd.jupyter.widget-view+json": {
       "version_major": 2,
       "version_minor": 0,
       "model_id": "b866151a430d48df9ac43c6e96e874be"
      }
     },
     "metadata": {},
     "output_type": "display_data"
    }
   ],
   "source": [
    "print(\"> Now do SA....... \\n\")\n",
    "# best_x, best_y = sa.run()\n",
    "sa_boltzmann.run()\n",
    "#sa_cauchy.run()\n",
    "\n",
    "# print('best_x:', best_x, 'best_y', best_y)\n",
    "print(\"SA ends \\n\")\n",
    "\n",
    "# sns.lineplot(x = np.arange(0,sa.iter_cycle+1),y=np.array(sa.generation_best_Y))"
   ],
   "metadata": {
    "collapsed": false,
    "pycharm": {
     "name": "#%%\n",
     "is_executing": true
    }
   }
  },
  {
   "cell_type": "code",
   "execution_count": null,
   "outputs": [],
   "source": [
    "# alpha_g = -0.1\n",
    "# def g(x):\n",
    "#     return (1-np.exp(-alpha_g*x))/alpha_g\n",
    "#\n",
    "# x_g = pd.DataFrame(np.arange(0,100),index=(np.arange(0,100)),columns=['x'])\n",
    "# x_g['y'] = x_g.apply(g,axis=1)\n",
    "# sns.scatterplot(x = x_g['x'],y=x_g['y'])"
   ],
   "metadata": {
    "collapsed": false,
    "pycharm": {
     "name": "#%%\n"
    }
   }
  },
  {
   "cell_type": "code",
   "execution_count": null,
   "outputs": [],
   "source": [],
   "metadata": {
    "collapsed": false,
    "pycharm": {
     "name": "#%%\n"
    }
   }
  }
 ],
 "metadata": {
  "kernelspec": {
   "display_name": "Python 3",
   "language": "python",
   "name": "python3"
  },
  "language_info": {
   "codemirror_mode": {
    "name": "ipython",
    "version": 2
   },
   "file_extension": ".py",
   "mimetype": "text/x-python",
   "name": "python",
   "nbconvert_exporter": "python",
   "pygments_lexer": "ipython2",
   "version": "2.7.6"
  }
 },
 "nbformat": 4,
 "nbformat_minor": 0
}