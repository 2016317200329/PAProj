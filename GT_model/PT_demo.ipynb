{
 "cells": [
  {
   "cell_type": "code",
   "execution_count": 87,
   "metadata": {
    "collapsed": true
   },
   "outputs": [
    {
     "name": "stdout",
     "output_type": "stream",
     "text": [
      "The autoreload extension is already loaded. To reload it, use:\n",
      "  %reload_ext autoreload\n"
     ]
    }
   ],
   "source": [
    "#!/usr/bin/env python\n",
    "# -*- coding: utf-8 -*-\n",
    "# @Time    : 2022/10/08 13:58\n",
    "# @Author  : Wang Yujia\n",
    "# @File    : PT_demo.ipynb\n",
    "\n",
    "# @Description : 1. 用SA试做一下inference of PT model's 3 params 2. 复现table 1的code见PT_demo_table1.ipynb"
   ]
  },
  {
   "cell_type": "markdown",
   "source": [
    "# 1. Preparations\n",
    "## 1.1 Import"
   ],
   "metadata": {
    "collapsed": false,
    "pycharm": {
     "name": "#%% md\n"
    }
   }
  },
  {
   "cell_type": "code",
   "execution_count": 101,
   "outputs": [],
   "source": [
    "import numpy as np\n",
    "import pandas as pd\n",
    "import sympy\n",
    "from sko.SA import SA\n",
    "from tqdm.notebook import tqdm\n",
    "import seaborn as sns"
   ],
   "metadata": {
    "collapsed": false,
    "pycharm": {
     "name": "#%%\n"
    }
   }
  },
  {
   "cell_type": "markdown",
   "source": [
    "## 1.2 Global Settings"
   ],
   "metadata": {
    "collapsed": false,
    "pycharm": {
     "name": "#%% md\n"
    }
   }
  },
  {
   "cell_type": "code",
   "execution_count": 134,
   "outputs": [],
   "source": [
    "# auction settings from Swoopo\n",
    "#b = 0.75\n",
    "#v = 169.99\n",
    "#d = 0.15\n",
    "\n",
    "# auction settings from paper's Fig.1 left\n",
    "b= 0.75\n",
    "v = 27.99\n",
    "d = 0.01\n",
    "\n",
    "# cnt_row = data_i.shape[0]\n",
    "cnt_row = 5\n",
    "# cnt_n_2 = data_i['cnt_n_2']\n",
    "cnt_n_2 = [1,1,2,3,1]\n",
    "\n",
    "# from paper's Table 5 'All auction'\n",
    "alpha = 0.025\n",
    "delta = 0.85\n",
    "labda = 3.72\n",
    "table_5_M = [0.025,0.85,3.72]\n",
    "\n",
    "# max duration from Swoopo\n",
    "max_T = 831\n",
    "# paper setting\n",
    "#T = int((v-b)/d)"
   ],
   "metadata": {
    "collapsed": false,
    "pycharm": {
     "name": "#%%\n"
    }
   }
  },
  {
   "cell_type": "markdown",
   "source": [
    "# 2. Infer with SA\n",
    "1. 用SA 求解参数。\n",
    "2. 定义函数之后，求一个uniq auction下的u和p\n",
    "3. 然后用p求NLL作为最终的loss"
   ],
   "metadata": {
    "collapsed": false,
    "pycharm": {
     "name": "#%% md\n"
    }
   }
  },
  {
   "cell_type": "markdown",
   "source": [
    "## 2.1 function definition\n",
    "1. 根据Eq(7)-(9)"
   ],
   "metadata": {
    "collapsed": false
   }
  },
  {
   "cell_type": "code",
   "execution_count": 106,
   "outputs": [],
   "source": [
    "def C(t,b):\n",
    "    return 0.2*t*b\n",
    "\n",
    "def OMEGA(p,delta):\n",
    "    return p**delta * ((p**delta + (1-p)**delta)**(-1/delta))\n",
    "\n",
    "# valuation function\n",
    "def f(x, alpha):\n",
    "    return (1-sympy.E**(-alpha*x))/alpha\n",
    "    # when x < 0, in fact, it shoule be : (-labda)*(1-sympy.E**(alpha*x))/alpha\n",
    "\n",
    "def f_Equi(t,v,d,b,alpha,labda,delta):\n",
    "    u = sympy.Symbol('u')\n",
    "\n",
    "    tmp = v-d*t-C(t-1,b) - b\n",
    "\n",
    "    func_1 = (labda * f(x=C(t-1, b), alpha=alpha) - labda * OMEGA(u, delta) * f(x=(C(t-1, b) + b), alpha=alpha) + OMEGA(1-u, delta) * f(tmp, alpha))\n",
    "    func_2 = (-f(x=C(t-1, b), alpha=alpha) + OMEGA(u, delta) * f(x=(C(t-1, b) + b), alpha=alpha) + (1 - OMEGA(u, delta)) * f(-tmp, alpha))\n",
    "\n",
    "    if(tmp >= 0):\n",
    "        return sympy.nsolve(func_1,(0,1),solver='bisect', verify=False)\n",
    "    else:\n",
    "        return sympy.nsolve(func_2,(0,1),solver='bisect', verify=False)"
   ],
   "metadata": {
    "collapsed": false,
    "pycharm": {
     "name": "#%%\n"
    }
   }
  },
  {
   "cell_type": "markdown",
   "source": [
    "## 2.2 Loss func\n",
    "1. 这个函数比较长 没办法，求u也需要用SA给的params的值。\n",
    "2. 最后返回NLL"
   ],
   "metadata": {
    "collapsed": false,
    "pycharm": {
     "name": "#%% md\n"
    }
   }
  },
  {
   "cell_type": "code",
   "execution_count": 147,
   "outputs": [],
   "source": [
    "def loss_func(params):\n",
    "\n",
    "    alpha = params[0]\n",
    "    delta = params[1]\n",
    "    labda = params[2]\n",
    "\n",
    "    #alpha = 0.025\n",
    "    #labda = 3.72\n",
    "    #delta = 0.85\n",
    "\n",
    "    # solve for u&p from Equi. condt.\n",
    "    U_tmp = [0]*(max_T+1)\n",
    "    U_tmp[0] = 1\n",
    "    P_tmp = [0]*(max_T+1)   # P is what we want\n",
    "    P_tmp[0] = 1\n",
    "\n",
    "    tmp = 1\n",
    "    for t in tqdm(range(1,max_T+1),desc=\"solve for U&P\"):\n",
    "\n",
    "        # if((t>1) & (U_tmp[t-1] > 1-1e-5)):\n",
    "        #     print(\"> Break when t == {}, cause U_tmp[t-1] > 1-1e-6\".format(t))\n",
    "        #     break\n",
    "        U_tmp[t] = f_Equi(t,v,d,b,alpha,labda,delta)\n",
    "        P_tmp[t] = (1- U_tmp[t])*tmp\n",
    "        tmp = tmp*U_tmp[t]\n",
    "\n",
    "    # calculate NLL value under this auction setting & PT params\n",
    "    nll = 0\n",
    "    if(P_tmp[0]==1):\n",
    "        P_tmp.pop(0)            # because P_tmp[0]=1\n",
    "    P_tmp_df = pd.DataFrame(P_tmp,index=np.arange(0,P_tmp.__len__()),columns=['P'],dtype=float)\n",
    "    for idx in range(0,cnt_row):\n",
    "        nll += (np.sum(P_tmp_df[0:(P_tmp_df.shape[0]-1)][:].apply(np.log,axis=1)) + np.log(P_tmp_df.iat[-1,0]) )* cnt_n_2[idx]\n",
    "\n",
    "    return float(-nll)"
   ],
   "metadata": {
    "collapsed": false,
    "pycharm": {
     "name": "#%%\n"
    }
   }
  },
  {
   "cell_type": "code",
   "execution_count": 132,
   "outputs": [
    {
     "data": {
      "text/plain": "-16.679542725154533"
     },
     "execution_count": 132,
     "metadata": {},
     "output_type": "execute_result"
    }
   ],
   "source": [
    "# for SA testing\n",
    "def demo_func(x):\n",
    "    alpha = x[0]\n",
    "    delta = x[1]\n",
    "    labda = x[2]\n",
    "    return alpha ** 2 + (labda - 0.05) ** 2 + delta ** 2"
   ],
   "metadata": {
    "collapsed": false,
    "pycharm": {
     "name": "#%%\n"
    }
   }
  },
  {
   "cell_type": "code",
   "execution_count": 170,
   "outputs": [
    {
     "name": "stdout",
     "output_type": "stream",
     "text": [
      "> Initilizing SA....... \n",
      "\n"
     ]
    },
    {
     "data": {
      "text/plain": "solve for U&P:   0%|          | 0/831 [00:00<?, ?it/s]",
      "application/vnd.jupyter.widget-view+json": {
       "version_major": 2,
       "version_minor": 0,
       "model_id": "204086d8ed4d47c4a73fd6a0e07f7840"
      }
     },
     "metadata": {},
     "output_type": "display_data"
    },
    {
     "data": {
      "text/plain": "cal NLL:   0%|          | 0/5 [00:00<?, ?it/s]",
      "application/vnd.jupyter.widget-view+json": {
       "version_major": 2,
       "version_minor": 0,
       "model_id": "7271a5b47f3a4ecb851cdddbb7f1c161"
      }
     },
     "metadata": {},
     "output_type": "display_data"
    }
   ],
   "source": [
    "print(\"> Initilizing SA....... \\n\")\n",
    "from sko.SA import SABoltzmann\n",
    "from sko.SA import SACauchy\n",
    "\n",
    "#sa_cauchy = SACauchy(func=loss_func, x0=table_5_M, T_max=100000, T_min=1e-5, learn_rate=0.01, L=50, max_stay_counter=50,\n",
    "#                     lb=[-0.3,0.01,0.01], ub=[0.3, 2, 16])\n",
    "\n",
    "sa_boltzmann = SABoltzmann(func=loss_func, x0=table_5_M, T_max=100000, T_min=1e-5, learn_rate=0.01, L=50, max_stay_counter=50,\n",
    "                            lb=[-0.3,0.01,0.01], ub=[0.3, 2, 16])\n",
    "\n",
    "#sa = SA(func=loss_func, x0=table_5_M, T_max=100000, T_min=1e-5, L=50, max_stay_counter=50,\n",
    "#        lb=[-0.3,0.01,0.01], ub=[0.3, 2, 16])\n",
    "\n",
    "# for SA_Fast:\n",
    "# [-1.  3. 10.] ok"
   ],
   "metadata": {
    "collapsed": false,
    "pycharm": {
     "name": "#%%\n"
    }
   }
  },
  {
   "cell_type": "code",
   "execution_count": null,
   "outputs": [
    {
     "name": "stdout",
     "output_type": "stream",
     "text": [
      "> Now do SA....... \n",
      "\n",
      "-------------- 0_th iteration --------------\n",
      "\n",
      "---------- 0/L ----------\n",
      "\n",
      "x_new before clipping:  [ 0.20304637  0.32892831 13.77596819]\n",
      "x_new after clipping:  [ 0.20304637  0.32892831 13.77596819]\n"
     ]
    },
    {
     "data": {
      "text/plain": "solve for U&P:   0%|          | 0/831 [00:00<?, ?it/s]",
      "application/vnd.jupyter.widget-view+json": {
       "version_major": 2,
       "version_minor": 0,
       "model_id": "9a57ab8d4ba745e9991963d01f63f876"
      }
     },
     "metadata": {},
     "output_type": "display_data"
    },
    {
     "data": {
      "text/plain": "cal NLL:   0%|          | 0/5 [00:00<?, ?it/s]",
      "application/vnd.jupyter.widget-view+json": {
       "version_major": 2,
       "version_minor": 0,
       "model_id": "245a2d747a8448f198a64c64a404ae4c"
      }
     },
     "metadata": {},
     "output_type": "display_data"
    },
    {
     "name": "stdout",
     "output_type": "stream",
     "text": [
      "y_new - y_current is 83882.2936966126: \n",
      "---------- 0/L ----------\n",
      "\n",
      "---------- 1/L ----------\n",
      "\n",
      "x_new before clipping:  [0.03839533 1.203996   2.45467404]\n",
      "x_new after clipping:  [0.03839533 1.203996   2.45467404]\n"
     ]
    },
    {
     "data": {
      "text/plain": "solve for U&P:   0%|          | 0/831 [00:00<?, ?it/s]",
      "application/vnd.jupyter.widget-view+json": {
       "version_major": 2,
       "version_minor": 0,
       "model_id": "e7325967b9ef434e8474e50bbb08be22"
      }
     },
     "metadata": {},
     "output_type": "display_data"
    },
    {
     "data": {
      "text/plain": "cal NLL:   0%|          | 0/5 [00:00<?, ?it/s]",
      "application/vnd.jupyter.widget-view+json": {
       "version_major": 2,
       "version_minor": 0,
       "model_id": "19382473cba1487fa4e0efe2bbe5ff16"
      }
     },
     "metadata": {},
     "output_type": "display_data"
    },
    {
     "name": "stdout",
     "output_type": "stream",
     "text": [
      "y_new - y_current is 62607.67816905155: \n",
      "---------- 1/L ----------\n",
      "\n",
      "---------- 2/L ----------\n",
      "\n",
      "x_new before clipping:  [-0.2122548   0.58422494  0.50225375]\n",
      "x_new after clipping:  [-0.2122548   0.58422494  0.50225375]\n"
     ]
    },
    {
     "data": {
      "text/plain": "solve for U&P:   0%|          | 0/831 [00:00<?, ?it/s]",
      "application/vnd.jupyter.widget-view+json": {
       "version_major": 2,
       "version_minor": 0,
       "model_id": "95c4cf14ad7c46cea991558245735009"
      }
     },
     "metadata": {},
     "output_type": "display_data"
    },
    {
     "data": {
      "text/plain": "cal NLL:   0%|          | 0/5 [00:00<?, ?it/s]",
      "application/vnd.jupyter.widget-view+json": {
       "version_major": 2,
       "version_minor": 0,
       "model_id": "12cc871349b24ad98b766a0f8f235ffe"
      }
     },
     "metadata": {},
     "output_type": "display_data"
    },
    {
     "name": "stdout",
     "output_type": "stream",
     "text": [
      "y_new - y_current is -66002.33114140628: \n",
      "---------- 2/L ----------\n",
      "\n",
      "---------- 3/L ----------\n",
      "\n",
      "x_new before clipping:  [-0.41962362  0.67693361  0.06029674]\n",
      "x_new after clipping:  [-0.3         0.67693361  0.06029674]\n"
     ]
    },
    {
     "data": {
      "text/plain": "solve for U&P:   0%|          | 0/831 [00:00<?, ?it/s]",
      "application/vnd.jupyter.widget-view+json": {
       "version_major": 2,
       "version_minor": 0,
       "model_id": "eb9d6eb968974ea5b5a01c463f75b559"
      }
     },
     "metadata": {},
     "output_type": "display_data"
    },
    {
     "data": {
      "text/plain": "cal NLL:   0%|          | 0/5 [00:00<?, ?it/s]",
      "application/vnd.jupyter.widget-view+json": {
       "version_major": 2,
       "version_minor": 0,
       "model_id": "e647ef25d75b4e0c85b1f26a457702b7"
      }
     },
     "metadata": {},
     "output_type": "display_data"
    },
    {
     "name": "stdout",
     "output_type": "stream",
     "text": [
      "y_new - y_current is 111586.2044442068: \n",
      "---------- 3/L ----------\n",
      "\n",
      "---------- 4/L ----------\n",
      "\n",
      "x_new before clipping:  [-0.40477029  0.56325454 -2.31075093]\n",
      "x_new after clipping:  [-0.3         0.56325454  0.01      ]\n"
     ]
    },
    {
     "data": {
      "text/plain": "solve for U&P:   0%|          | 0/831 [00:00<?, ?it/s]",
      "application/vnd.jupyter.widget-view+json": {
       "version_major": 2,
       "version_minor": 0,
       "model_id": "91af3f36ef60421d85379455b7e37070"
      }
     },
     "metadata": {},
     "output_type": "display_data"
    },
    {
     "data": {
      "text/plain": "cal NLL:   0%|          | 0/5 [00:00<?, ?it/s]",
      "application/vnd.jupyter.widget-view+json": {
       "version_major": 2,
       "version_minor": 0,
       "model_id": "cd098330b2f34f4881e5d8968f082014"
      }
     },
     "metadata": {},
     "output_type": "display_data"
    },
    {
     "name": "stdout",
     "output_type": "stream",
     "text": [
      "y_new - y_current is 21832.501976417043: \n",
      "---------- 4/L ----------\n",
      "\n",
      "---------- 5/L ----------\n",
      "\n",
      "x_new before clipping:  [-0.21398211  0.54209463 -3.88891964]\n",
      "x_new after clipping:  [-0.21398211  0.54209463  0.01      ]\n"
     ]
    },
    {
     "data": {
      "text/plain": "solve for U&P:   0%|          | 0/831 [00:00<?, ?it/s]",
      "application/vnd.jupyter.widget-view+json": {
       "version_major": 2,
       "version_minor": 0,
       "model_id": "2f6e61d071cf490e9f8da74c260f039c"
      }
     },
     "metadata": {},
     "output_type": "display_data"
    },
    {
     "data": {
      "text/plain": "cal NLL:   0%|          | 0/5 [00:00<?, ?it/s]",
      "application/vnd.jupyter.widget-view+json": {
       "version_major": 2,
       "version_minor": 0,
       "model_id": "dc869e58f05045ffb05dcb86f678aaae"
      }
     },
     "metadata": {},
     "output_type": "display_data"
    },
    {
     "name": "stdout",
     "output_type": "stream",
     "text": [
      "y_new - y_current is -31558.470766132603: \n",
      "---------- 5/L ----------\n",
      "\n",
      "---------- 6/L ----------\n",
      "\n",
      "x_new before clipping:  [-0.21961952  1.8261798   1.37535998]\n",
      "x_new after clipping:  [-0.21961952  1.8261798   1.37535998]\n"
     ]
    },
    {
     "data": {
      "text/plain": "solve for U&P:   0%|          | 0/831 [00:00<?, ?it/s]",
      "application/vnd.jupyter.widget-view+json": {
       "version_major": 2,
       "version_minor": 0,
       "model_id": "80fafe55b72f41f0bf01aa0725d13498"
      }
     },
     "metadata": {},
     "output_type": "display_data"
    },
    {
     "data": {
      "text/plain": "cal NLL:   0%|          | 0/5 [00:00<?, ?it/s]",
      "application/vnd.jupyter.widget-view+json": {
       "version_major": 2,
       "version_minor": 0,
       "model_id": "3529204c19174bd0b235f48813dae651"
      }
     },
     "metadata": {},
     "output_type": "display_data"
    },
    {
     "name": "stdout",
     "output_type": "stream",
     "text": [
      "y_new - y_current is 366760.04289929173: \n",
      "---------- 6/L ----------\n",
      "\n",
      "---------- 7/L ----------\n",
      "\n",
      "x_new before clipping:  [-0.19099918  1.11246475 -0.48039697]\n",
      "x_new after clipping:  [-0.19099918  1.11246475  0.01      ]\n"
     ]
    },
    {
     "data": {
      "text/plain": "solve for U&P:   0%|          | 0/831 [00:00<?, ?it/s]",
      "application/vnd.jupyter.widget-view+json": {
       "version_major": 2,
       "version_minor": 0,
       "model_id": "e4ed7fb12bc1438b948e2d972f17eced"
      }
     },
     "metadata": {},
     "output_type": "display_data"
    },
    {
     "data": {
      "text/plain": "cal NLL:   0%|          | 0/5 [00:00<?, ?it/s]",
      "application/vnd.jupyter.widget-view+json": {
       "version_major": 2,
       "version_minor": 0,
       "model_id": "045c11013b9f40069a1915c8a0cf325a"
      }
     },
     "metadata": {},
     "output_type": "display_data"
    },
    {
     "name": "stdout",
     "output_type": "stream",
     "text": [
      "y_new - y_current is 269251.11290294555: \n",
      "---------- 7/L ----------\n",
      "\n",
      "---------- 8/L ----------\n",
      "\n",
      "x_new before clipping:  [0.03807187 0.26128606 2.82453131]\n",
      "x_new after clipping:  [0.03807187 0.26128606 2.82453131]\n"
     ]
    },
    {
     "data": {
      "text/plain": "solve for U&P:   0%|          | 0/831 [00:00<?, ?it/s]",
      "application/vnd.jupyter.widget-view+json": {
       "version_major": 2,
       "version_minor": 0,
       "model_id": "d8b53b64619145e7805a7c6ef8e60320"
      }
     },
     "metadata": {},
     "output_type": "display_data"
    },
    {
     "data": {
      "text/plain": "cal NLL:   0%|          | 0/5 [00:00<?, ?it/s]",
      "application/vnd.jupyter.widget-view+json": {
       "version_major": 2,
       "version_minor": 0,
       "model_id": "77544959fb7b423e9553a548ff119c34"
      }
     },
     "metadata": {},
     "output_type": "display_data"
    },
    {
     "name": "stdout",
     "output_type": "stream",
     "text": [
      "y_new - y_current is 64112.011593065596: \n",
      "---------- 8/L ----------\n",
      "\n",
      "---------- 9/L ----------\n",
      "\n",
      "x_new before clipping:  [-0.29657975 -0.08433178 -8.12107733]\n",
      "x_new after clipping:  [-0.29657975  0.01        0.01      ]\n"
     ]
    },
    {
     "data": {
      "text/plain": "solve for U&P:   0%|          | 0/831 [00:00<?, ?it/s]",
      "application/vnd.jupyter.widget-view+json": {
       "version_major": 2,
       "version_minor": 0,
       "model_id": "247bd11474534a0383677e6c6596667b"
      }
     },
     "metadata": {},
     "output_type": "display_data"
    },
    {
     "data": {
      "text/plain": "cal NLL:   0%|          | 0/5 [00:00<?, ?it/s]",
      "application/vnd.jupyter.widget-view+json": {
       "version_major": 2,
       "version_minor": 0,
       "model_id": "447912480f5d49c7a5cf95343d94bad0"
      }
     },
     "metadata": {},
     "output_type": "display_data"
    },
    {
     "name": "stdout",
     "output_type": "stream",
     "text": [
      "y_new - y_current is inf: \n",
      "---------- 9/L ----------\n",
      "\n",
      "---------- 10/L ----------\n",
      "\n",
      "x_new before clipping:  [-0.1034424   0.06549579  1.04862098]\n",
      "x_new after clipping:  [-0.1034424   0.06549579  1.04862098]\n"
     ]
    },
    {
     "name": "stderr",
     "output_type": "stream",
     "text": [
      "D:\\Anaconda\\envs\\pythorch\\lib\\site-packages\\ipykernel_launcher.py:33: RuntimeWarning: divide by zero encountered in log\n"
     ]
    },
    {
     "data": {
      "text/plain": "solve for U&P:   0%|          | 0/831 [00:00<?, ?it/s]",
      "application/vnd.jupyter.widget-view+json": {
       "version_major": 2,
       "version_minor": 0,
       "model_id": "7efb75a7c8a34e09b0a5bbbe9f56e12a"
      }
     },
     "metadata": {},
     "output_type": "display_data"
    },
    {
     "data": {
      "text/plain": "cal NLL:   0%|          | 0/5 [00:00<?, ?it/s]",
      "application/vnd.jupyter.widget-view+json": {
       "version_major": 2,
       "version_minor": 0,
       "model_id": "17d78031d767403bbb730ee37b331b18"
      }
     },
     "metadata": {},
     "output_type": "display_data"
    },
    {
     "name": "stdout",
     "output_type": "stream",
     "text": [
      "y_new - y_current is inf: \n",
      "---------- 10/L ----------\n",
      "\n",
      "---------- 11/L ----------\n",
      "\n",
      "x_new before clipping:  [-0.14224724  0.06504576 -0.13966848]\n",
      "x_new after clipping:  [-0.14224724  0.06504576  0.01      ]\n"
     ]
    },
    {
     "data": {
      "text/plain": "solve for U&P:   0%|          | 0/831 [00:00<?, ?it/s]",
      "application/vnd.jupyter.widget-view+json": {
       "version_major": 2,
       "version_minor": 0,
       "model_id": "2877bcc469ae46deb25a47424938b4f9"
      }
     },
     "metadata": {},
     "output_type": "display_data"
    },
    {
     "data": {
      "text/plain": "cal NLL:   0%|          | 0/5 [00:00<?, ?it/s]",
      "application/vnd.jupyter.widget-view+json": {
       "version_major": 2,
       "version_minor": 0,
       "model_id": "cf59fc1b2384465ea473f521ad197109"
      }
     },
     "metadata": {},
     "output_type": "display_data"
    },
    {
     "name": "stdout",
     "output_type": "stream",
     "text": [
      "y_new - y_current is inf: \n",
      "---------- 11/L ----------\n",
      "\n",
      "---------- 12/L ----------\n",
      "\n",
      "x_new before clipping:  [-0.1355151   0.81840512 -2.30799881]\n",
      "x_new after clipping:  [-0.1355151   0.81840512  0.01      ]\n"
     ]
    },
    {
     "data": {
      "text/plain": "solve for U&P:   0%|          | 0/831 [00:00<?, ?it/s]",
      "application/vnd.jupyter.widget-view+json": {
       "version_major": 2,
       "version_minor": 0,
       "model_id": "271f3097980e4e7c8a10fc667648f197"
      }
     },
     "metadata": {},
     "output_type": "display_data"
    }
   ],
   "source": [
    "print(\"> Now do SA....... \\n\")\n",
    "# best_x, best_y = sa.run()\n",
    "sa_boltzmann.run()\n",
    "#sa_cauchy.run()\n",
    "\n",
    "# print('best_x:', best_x, 'best_y', best_y)\n",
    "print(\"SA ends \\n\")\n",
    "\n",
    "# sns.lineplot(x = np.arange(0,sa.iter_cycle+1),y=np.array(sa.generation_best_Y))"
   ],
   "metadata": {
    "collapsed": false,
    "pycharm": {
     "name": "#%%\n",
     "is_executing": true
    }
   }
  },
  {
   "cell_type": "code",
   "execution_count": null,
   "outputs": [],
   "source": [
    "# alpha_g = -0.1\n",
    "# def g(x):\n",
    "#     return (1-np.exp(-alpha_g*x))/alpha_g\n",
    "#\n",
    "# x_g = pd.DataFrame(np.arange(0,100),index=(np.arange(0,100)),columns=['x'])\n",
    "# x_g['y'] = x_g.apply(g,axis=1)\n",
    "# sns.scatterplot(x = x_g['x'],y=x_g['y'])"
   ],
   "metadata": {
    "collapsed": false,
    "pycharm": {
     "name": "#%%\n"
    }
   }
  },
  {
   "cell_type": "code",
   "execution_count": null,
   "outputs": [],
   "source": [],
   "metadata": {
    "collapsed": false,
    "pycharm": {
     "name": "#%%\n"
    }
   }
  }
 ],
 "metadata": {
  "kernelspec": {
   "display_name": "Python 3",
   "language": "python",
   "name": "python3"
  },
  "language_info": {
   "codemirror_mode": {
    "name": "ipython",
    "version": 2
   },
   "file_extension": ".py",
   "mimetype": "text/x-python",
   "name": "python",
   "nbconvert_exporter": "python",
   "pygments_lexer": "ipython2",
   "version": "2.7.6"
  }
 },
 "nbformat": 4,
 "nbformat_minor": 0
}