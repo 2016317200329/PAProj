{
 "cells": [
  {
   "cell_type": "code",
   "execution_count": 5,
   "metadata": {
    "collapsed": true
   },
   "outputs": [],
   "source": [
    "#!/usr/bin/env python\n",
    "# -*- coding: utf-8 -*-\n",
    "# @Time    : 2022/10/08 13:58\n",
    "# @Author  : Wang Yujia\n",
    "# @File    : PT_demo.ipynb\n",
    "\n",
    "# @Description : 1. 用SA试做一下inference of PT model's 3 params 2. 复现table 1的code见PT_demo_table1.ipynb"
   ]
  },
  {
   "cell_type": "markdown",
   "source": [
    "# 1. Preparations\n",
    "## 1.1 Import"
   ],
   "metadata": {
    "collapsed": false,
    "pycharm": {
     "name": "#%% md\n"
    }
   }
  },
  {
   "cell_type": "code",
   "execution_count": 14,
   "outputs": [],
   "source": [
    "import numpy as np\n",
    "import pandas as pd\n",
    "import sympy\n",
    "import time\n",
    "import datetime\n",
    "from sko.SA import SA\n",
    "from sko.tools import set_run_mode\n",
    "from tqdm.notebook import tqdm\n",
    "import seaborn as sns\n",
    "import matplotlib.pyplot as plt"
   ],
   "metadata": {
    "collapsed": false,
    "pycharm": {
     "name": "#%%\n"
    }
   }
  },
  {
   "cell_type": "markdown",
   "source": [
    "## 1.2 Global Settings"
   ],
   "metadata": {
    "collapsed": false,
    "pycharm": {
     "name": "#%% md\n"
    }
   }
  },
  {
   "cell_type": "code",
   "execution_count": 7,
   "outputs": [],
   "source": [
    "# auction settings from Swoopo\n",
    "#b = 0.75\n",
    "#v = 169.99\n",
    "#d = 0.15\n",
    "\n",
    "# auction settings from paper's Fig.1 left\n",
    "b= 0.75\n",
    "v = 27.99\n",
    "d = 0.01\n",
    "\n",
    "# cnt_row = data_i.shape[0]\n",
    "cnt_row = 5\n",
    "# cnt_n_2 = data_i['cnt_n_2']\n",
    "cnt_n_2 = [1,1,2,3,1]\n",
    "#N_i = data_i['N']\n",
    "N_i = [500,50,100,200,300]\n",
    "# max duration from Swoopo\n",
    "max_T = 831\n",
    "\n",
    "# from paper's Table 5 'All auction'\n",
    "# alpha = 0.025\n",
    "# delta = 0.85\n",
    "# labda = 3.72\n",
    "\n",
    "# initial params\n",
    "table_5_M = [0.025,0.85,3.72]\n",
    "# lower/ upper bound\n",
    "lb = [-0.3,0.01,0.01]\n",
    "ub = [0.3, 2, 16]\n",
    "\n",
    "# paper setting\n",
    "#T = int((v-b)/d)"
   ],
   "metadata": {
    "collapsed": false,
    "pycharm": {
     "name": "#%%\n"
    }
   }
  },
  {
   "cell_type": "markdown",
   "source": [
    "# 2. Infer with SA\n",
    "1. 用SA 求解参数。\n",
    "2. 定义函数之后，求一个uniq auction下的u和p\n",
    "3. 然后用p求NLL作为最终的loss"
   ],
   "metadata": {
    "collapsed": false,
    "pycharm": {
     "name": "#%% md\n"
    }
   }
  },
  {
   "cell_type": "markdown",
   "source": [
    "## 2.1 function definition\n",
    "1. 根据Eq(7)-(9)"
   ],
   "metadata": {
    "collapsed": false
   }
  },
  {
   "cell_type": "code",
   "execution_count": 8,
   "outputs": [],
   "source": [
    "def C(t,b):\n",
    "    return 0.2*t*b\n",
    "\n",
    "def OMEGA(p,delta):\n",
    "    return p**delta * ((p**delta + (1-p)**delta)**(-1/delta))\n",
    "\n",
    "# valuation function\n",
    "def f(x, alpha):\n",
    "    return (1-sympy.E**(-alpha*x))/alpha\n",
    "    # when x < 0, in fact, it shoule be : (-labda)*(1-sympy.E**(alpha*x))/alpha\n",
    "\n",
    "def f_Equi(t,v,d,b,alpha,labda,delta):\n",
    "    u = sympy.Symbol('u')\n",
    "\n",
    "    tmp = v-d*t-C(t-1,b) - b\n",
    "\n",
    "    func_1 = (labda * f(x=C(t-1, b), alpha=alpha) - labda * OMEGA(u, delta) * f(x=(C(t-1, b) + b), alpha=alpha) + OMEGA(1-u, delta) * f(tmp, alpha))\n",
    "    func_2 = (-f(x=C(t-1, b), alpha=alpha) + OMEGA(u, delta) * f(x=(C(t-1, b) + b), alpha=alpha) + (1 - OMEGA(u, delta)) * f(-tmp, alpha))\n",
    "\n",
    "    if(tmp >= 0):\n",
    "        return sympy.nsolve(func_1,(0,1),solver='bisect', verify=False)\n",
    "    else:\n",
    "        return sympy.nsolve(func_2,(0,1),solver='bisect', verify=False)"
   ],
   "metadata": {
    "collapsed": false,
    "pycharm": {
     "name": "#%%\n"
    }
   }
  },
  {
   "cell_type": "markdown",
   "source": [
    "## 2.2 Loss func\n",
    "1. 这个函数比较长 没办法，求u需要用SA给的params的值。`loss_func`的返回值是NLL\n",
    "2. 求解`U_i[t]` which is a array with shape of (max(N)),`U_i[t]`就是paper里的`p_t`\n",
    "3. for different auction, the duration is N_i[idx] and the value of duration it is various\n",
    "4. nll计算时乘的`cnt_n_2[idx]`是为了减少计算次数，表示duration相同的auction的数量。"
   ],
   "metadata": {
    "collapsed": false,
    "pycharm": {
     "name": "#%% md\n"
    }
   }
  },
  {
   "cell_type": "code",
   "execution_count": 9,
   "outputs": [],
   "source": [
    "def loss_func(params):\n",
    "\n",
    "    start_time = datetime.datetime.now()\n",
    "\n",
    "    alpha = params[0]\n",
    "    delta = params[1]\n",
    "    labda = params[2]\n",
    "\n",
    "    # solve for U from Equi. condt.\n",
    "    U_i = [0] * (max_T + 1)\n",
    "    U_i[0] = 1\n",
    "    #P_tmp = [0]*(max_T+1)   # P is what we want but NOT what NLL needs\n",
    "    #P_tmp[0] = 1\n",
    "\n",
    "    # tmp = 1\n",
    "\n",
    "    for t in range(1,max_T+1):\n",
    "\n",
    "        # if((t>1) & (U_i[t-1] > 1-1e-5)):\n",
    "        #     print(\"> Break when t == {}, cause U_i[t-1] > 1-1e-6\".format(t))\n",
    "        #     break\n",
    "        U_i[t] = f_Equi(t, v, d, b, alpha, labda, delta)\n",
    "        #P_tmp[t] = (1- U_i[t])*tmp\n",
    "        #tmp = tmp*U_i[t]\n",
    "\n",
    "    # calculate NLL under this auction setting & PT params\n",
    "    nll = 0\n",
    "    if(U_i[0]==1):\n",
    "        U_i.pop(0)            # because P_tmp[0]=1\n",
    "    # P_tmp_df = pd.DataFrame(P_tmp,index=np.arange(0,P_tmp.__len__()),columns=['P'],dtype=float)\n",
    "    U_tmp_df = pd.DataFrame(U_i, index=np.arange(0, U_i.__len__()), columns=['U'], dtype=float)\n",
    "    # cnt_row = data_i.shape[0]\n",
    "    for idx in range(0,cnt_row):\n",
    "        # sum up the log prob among all durations of this auction\n",
    "        nll += ( np.sum(U_tmp_df[0:(N_i[idx]-1)][:].apply(np.log,axis=1)) + np.log(1-U_tmp_df.iat[(N_i[idx]-1),0]) )* cnt_n_2[idx]\n",
    "\n",
    "    print('loss_func costs {time_costs}s \\n'.format(time_costs=(datetime.datetime.now() - start_time).total_seconds()))\n",
    "    return float(-nll)"
   ],
   "metadata": {
    "collapsed": false,
    "pycharm": {
     "name": "#%%\n"
    }
   }
  },
  {
   "cell_type": "code",
   "execution_count": 10,
   "outputs": [],
   "source": [
    "# for SA testing\n",
    "def demo_func(x):\n",
    "    alpha = x[0]\n",
    "    delta = x[1]\n",
    "    labda = x[2]\n",
    "    return alpha ** 2 + (labda - 0.05) ** 2 + delta ** 2"
   ],
   "metadata": {
    "collapsed": false,
    "pycharm": {
     "name": "#%%\n"
    }
   }
  },
  {
   "cell_type": "code",
   "execution_count": 11,
   "outputs": [
    {
     "name": "stdout",
     "output_type": "stream",
     "text": [
      "> Initilizing SA....... \n",
      "\n"
     ]
    },
    {
     "data": {
      "text/plain": "solve for U:   0%|          | 0/831 [00:00<?, ?it/s]",
      "application/vnd.jupyter.widget-view+json": {
       "version_major": 2,
       "version_minor": 0,
       "model_id": "e6affc768637456f9c6cfb6847568375"
      }
     },
     "metadata": {},
     "output_type": "display_data"
    }
   ],
   "source": [
    "print(\"> Initilizing SA....... \\n\")\n",
    "from sko.SA import SABoltzmann\n",
    "\n",
    "set_run_mode(loss_func, 'multithreading')\n",
    "sa_boltzmann = SABoltzmann(func=loss_func, x0=table_5_M, T_max=1000, T_min=1e-5, learn_rate=0.01, L=50, max_stay_counter=50,\n",
    "                            lb=lb, ub=ub)"
   ],
   "metadata": {
    "collapsed": false,
    "pycharm": {
     "name": "#%%\n"
    }
   }
  },
  {
   "cell_type": "code",
   "execution_count": 12,
   "outputs": [
    {
     "name": "stdout",
     "output_type": "stream",
     "text": [
      "> Now do SA....... \n",
      "\n",
      "-------------- 0_th iteration --------------\n",
      "\n",
      "---------- 0/L ----------\n",
      "\n",
      "x_new before clipping:  [-2.81797256e-04  1.22159767e+00  3.50531797e+00]\n",
      "x_new after clipping:  [-2.81797256e-04  1.22159767e+00  3.50531797e+00]\n"
     ]
    },
    {
     "data": {
      "text/plain": "solve for U:   0%|          | 0/831 [00:00<?, ?it/s]",
      "application/vnd.jupyter.widget-view+json": {
       "version_major": 2,
       "version_minor": 0,
       "model_id": "c9b9a5b5aeb74cf6b6ec97a9a7884fd8"
      }
     },
     "metadata": {},
     "output_type": "display_data"
    },
    {
     "name": "stdout",
     "output_type": "stream",
     "text": [
      "y_new - y_current is 61.85370472653889: \n",
      "---------- 0/L ----------\n",
      "\n",
      "---------- 1/L ----------\n",
      "\n",
      "x_new before clipping:  [0.16115458 1.14100207 3.72743484]\n",
      "x_new after clipping:  [0.16115458 1.14100207 3.72743484]\n"
     ]
    },
    {
     "data": {
      "text/plain": "solve for U:   0%|          | 0/831 [00:00<?, ?it/s]",
      "application/vnd.jupyter.widget-view+json": {
       "version_major": 2,
       "version_minor": 0,
       "model_id": "a0467673fc9f461bbdd9c124af4d6867"
      }
     },
     "metadata": {},
     "output_type": "display_data"
    },
    {
     "name": "stdout",
     "output_type": "stream",
     "text": [
      "y_new - y_current is -26.18051003444461: \n",
      "---------- 1/L ----------\n",
      "\n",
      "---------- 2/L ----------\n",
      "\n",
      "x_new before clipping:  [0.43330249 1.49678554 3.43399653]\n",
      "x_new after clipping:  [0.3        1.49678554 3.43399653]\n"
     ]
    },
    {
     "data": {
      "text/plain": "solve for U:   0%|          | 0/831 [00:00<?, ?it/s]",
      "application/vnd.jupyter.widget-view+json": {
       "version_major": 2,
       "version_minor": 0,
       "model_id": "2b34951d4fdf4dc89e6ec6511d4995fe"
      }
     },
     "metadata": {},
     "output_type": "display_data"
    },
    {
     "name": "stdout",
     "output_type": "stream",
     "text": [
      "y_new - y_current is 15.375261698648458: \n",
      "---------- 2/L ----------\n",
      "\n",
      "---------- 3/L ----------\n",
      "\n",
      "x_new before clipping:  [0.35912655 1.36731818 3.81219019]\n",
      "x_new after clipping:  [0.3        1.36731818 3.81219019]\n"
     ]
    },
    {
     "data": {
      "text/plain": "solve for U:   0%|          | 0/831 [00:00<?, ?it/s]",
      "application/vnd.jupyter.widget-view+json": {
       "version_major": 2,
       "version_minor": 0,
       "model_id": "e50ba96b289c439eb32523bf384f57a0"
      }
     },
     "metadata": {},
     "output_type": "display_data"
    },
    {
     "name": "stdout",
     "output_type": "stream",
     "text": [
      "y_new - y_current is -0.37172892277231995: \n",
      "---------- 3/L ----------\n",
      "\n",
      "---------- 4/L ----------\n",
      "\n",
      "x_new before clipping:  [0.41166361 1.82042305 3.30176154]\n",
      "x_new after clipping:  [0.3        1.82042305 3.30176154]\n"
     ]
    },
    {
     "data": {
      "text/plain": "solve for U:   0%|          | 0/831 [00:00<?, ?it/s]",
      "application/vnd.jupyter.widget-view+json": {
       "version_major": 2,
       "version_minor": 0,
       "model_id": "7b601f8fe572435bb79ded972ce86c86"
      }
     },
     "metadata": {},
     "output_type": "display_data"
    },
    {
     "name": "stdout",
     "output_type": "stream",
     "text": [
      "y_new - y_current is -0.527477245043471: \n",
      "---------- 4/L ----------\n",
      "\n",
      "---------- 5/L ----------\n",
      "\n",
      "x_new before clipping:  [0.31260999 1.89381635 3.48094038]\n",
      "x_new after clipping:  [0.3        1.89381635 3.48094038]\n"
     ]
    },
    {
     "data": {
      "text/plain": "solve for U:   0%|          | 0/831 [00:00<?, ?it/s]",
      "application/vnd.jupyter.widget-view+json": {
       "version_major": 2,
       "version_minor": 0,
       "model_id": "15ad3c79e00548b392eaf1e37a48e725"
      }
     },
     "metadata": {},
     "output_type": "display_data"
    },
    {
     "name": "stdout",
     "output_type": "stream",
     "text": [
      "y_new - y_current is -0.2055939081094209: \n",
      "---------- 5/L ----------\n",
      "\n",
      "---------- 6/L ----------\n",
      "\n",
      "x_new before clipping:  [0.30852254 1.7214548  3.64726977]\n",
      "x_new after clipping:  [0.3        1.7214548  3.64726977]\n"
     ]
    },
    {
     "data": {
      "text/plain": "solve for U:   0%|          | 0/831 [00:00<?, ?it/s]",
      "application/vnd.jupyter.widget-view+json": {
       "version_major": 2,
       "version_minor": 0,
       "model_id": "3c2373a87c104d56932415baeb635a49"
      }
     },
     "metadata": {},
     "output_type": "display_data"
    },
    {
     "name": "stdout",
     "output_type": "stream",
     "text": [
      "y_new - y_current is 2.1514625549233557: \n",
      "---------- 6/L ----------\n",
      "\n",
      "---------- 7/L ----------\n",
      "\n",
      "x_new before clipping:  [0.34785714 1.47069107 3.71597755]\n",
      "x_new after clipping:  [0.3        1.47069107 3.71597755]\n"
     ]
    },
    {
     "data": {
      "text/plain": "solve for U:   0%|          | 0/831 [00:00<?, ?it/s]",
      "application/vnd.jupyter.widget-view+json": {
       "version_major": 2,
       "version_minor": 0,
       "model_id": "9e2fd29b9ba1462fbc0408217739092a"
      }
     },
     "metadata": {},
     "output_type": "display_data"
    },
    {
     "name": "stdout",
     "output_type": "stream",
     "text": [
      "y_new - y_current is -0.05008087996183974: \n",
      "---------- 7/L ----------\n",
      "\n",
      "---------- 8/L ----------\n",
      "\n",
      "x_new before clipping:  [0.54961743 1.33901446 3.59555981]\n",
      "x_new after clipping:  [0.3        1.33901446 3.59555981]\n"
     ]
    },
    {
     "data": {
      "text/plain": "solve for U:   0%|          | 0/831 [00:00<?, ?it/s]",
      "application/vnd.jupyter.widget-view+json": {
       "version_major": 2,
       "version_minor": 0,
       "model_id": "0ac9a6f597f1491482c68181da85316f"
      }
     },
     "metadata": {},
     "output_type": "display_data"
    },
    {
     "name": "stdout",
     "output_type": "stream",
     "text": [
      "y_new - y_current is -3.182377153709865: \n",
      "---------- 8/L ----------\n",
      "\n",
      "---------- 9/L ----------\n",
      "\n",
      "x_new before clipping:  [0.54274363 1.53970742 2.96177174]\n",
      "x_new after clipping:  [0.3        1.53970742 2.96177174]\n"
     ]
    },
    {
     "data": {
      "text/plain": "solve for U:   0%|          | 0/831 [00:00<?, ?it/s]",
      "application/vnd.jupyter.widget-view+json": {
       "version_major": 2,
       "version_minor": 0,
       "model_id": "dcc9deaa1d4f412a8ab4fda9704df6a9"
      }
     },
     "metadata": {},
     "output_type": "display_data"
    },
    {
     "name": "stdout",
     "output_type": "stream",
     "text": [
      "y_new - y_current is 0.24339723247149436: \n",
      "---------- 9/L ----------\n",
      "\n",
      "---------- 10/L ----------\n",
      "\n",
      "x_new before clipping:  [0.30267455 2.18975008 3.22061241]\n",
      "x_new after clipping:  [0.3        2.         3.22061241]\n"
     ]
    },
    {
     "data": {
      "text/plain": "solve for U:   0%|          | 0/831 [00:00<?, ?it/s]",
      "application/vnd.jupyter.widget-view+json": {
       "version_major": 2,
       "version_minor": 0,
       "model_id": "69d6a02995ff4107adeb0bea6cbc9255"
      }
     },
     "metadata": {},
     "output_type": "display_data"
    },
    {
     "name": "stdout",
     "output_type": "stream",
     "text": [
      "y_new - y_current is -1.1562494505294865: \n",
      "---------- 10/L ----------\n",
      "\n",
      "---------- 11/L ----------\n",
      "\n",
      "x_new before clipping:  [0.44769493 1.74088181 3.36618232]\n",
      "x_new after clipping:  [0.3        1.74088181 3.36618232]\n"
     ]
    },
    {
     "data": {
      "text/plain": "solve for U:   0%|          | 0/831 [00:00<?, ?it/s]",
      "application/vnd.jupyter.widget-view+json": {
       "version_major": 2,
       "version_minor": 0,
       "model_id": "f14f65bc03e94b16b7263a52c8c204c8"
      }
     },
     "metadata": {},
     "output_type": "display_data"
    },
    {
     "name": "stdout",
     "output_type": "stream",
     "text": [
      "y_new - y_current is 3.0423119861617636: \n",
      "---------- 11/L ----------\n",
      "\n",
      "---------- 12/L ----------\n",
      "\n",
      "x_new before clipping:  [0.1400031  1.60916955 3.25784713]\n",
      "x_new after clipping:  [0.1400031  1.60916955 3.25784713]\n"
     ]
    },
    {
     "data": {
      "text/plain": "solve for U:   0%|          | 0/831 [00:00<?, ?it/s]",
      "application/vnd.jupyter.widget-view+json": {
       "version_major": 2,
       "version_minor": 0,
       "model_id": "8f6950f1b6f74876acbba08ffe0065ee"
      }
     },
     "metadata": {},
     "output_type": "display_data"
    },
    {
     "name": "stdout",
     "output_type": "stream",
     "text": [
      "y_new - y_current is -2.6525382762450818: \n",
      "---------- 12/L ----------\n",
      "\n",
      "---------- 13/L ----------\n",
      "\n",
      "x_new before clipping:  [0.32293375 2.0159959  3.59215638]\n",
      "x_new after clipping:  [0.3        2.         3.59215638]\n"
     ]
    },
    {
     "data": {
      "text/plain": "solve for U:   0%|          | 0/831 [00:00<?, ?it/s]",
      "application/vnd.jupyter.widget-view+json": {
       "version_major": 2,
       "version_minor": 0,
       "model_id": "b4eedef1194a4f2b8f52ae49797b9afb"
      }
     },
     "metadata": {},
     "output_type": "display_data"
    },
    {
     "name": "stdout",
     "output_type": "stream",
     "text": [
      "y_new - y_current is 0.5664597248375571: \n",
      "---------- 13/L ----------\n",
      "\n",
      "---------- 14/L ----------\n",
      "\n",
      "x_new before clipping:  [0.18844567 2.30848641 3.90480202]\n",
      "x_new after clipping:  [0.18844567 2.         3.90480202]\n"
     ]
    },
    {
     "data": {
      "text/plain": "solve for U:   0%|          | 0/831 [00:00<?, ?it/s]",
      "application/vnd.jupyter.widget-view+json": {
       "version_major": 2,
       "version_minor": 0,
       "model_id": "b558d25b0a5a4a18ab89b839deb317cd"
      }
     },
     "metadata": {},
     "output_type": "display_data"
    },
    {
     "name": "stdout",
     "output_type": "stream",
     "text": [
      "y_new - y_current is -4.072178346315823: \n",
      "---------- 14/L ----------\n",
      "\n",
      "---------- 15/L ----------\n",
      "\n",
      "x_new before clipping:  [-0.059768    1.76234614  3.62309121]\n",
      "x_new after clipping:  [-0.059768    1.76234614  3.62309121]\n"
     ]
    },
    {
     "data": {
      "text/plain": "solve for U:   0%|          | 0/831 [00:00<?, ?it/s]",
      "application/vnd.jupyter.widget-view+json": {
       "version_major": 2,
       "version_minor": 0,
       "model_id": "9097c6b179de43778e413fc1dcf61807"
      }
     },
     "metadata": {},
     "output_type": "display_data"
    },
    {
     "name": "stdout",
     "output_type": "stream",
     "text": [
      "y_new - y_current is 51.992282066841184: \n",
      "---------- 15/L ----------\n",
      "\n",
      "---------- 16/L ----------\n",
      "\n",
      "x_new before clipping:  [-0.28933155  1.73776601  3.36367715]\n",
      "x_new after clipping:  [-0.28933155  1.73776601  3.36367715]\n"
     ]
    },
    {
     "data": {
      "text/plain": "solve for U:   0%|          | 0/831 [00:00<?, ?it/s]",
      "application/vnd.jupyter.widget-view+json": {
       "version_major": 2,
       "version_minor": 0,
       "model_id": "7d36e2ae673547adb32d85869f764f1f"
      }
     },
     "metadata": {},
     "output_type": "display_data"
    },
    {
     "name": "stdout",
     "output_type": "stream",
     "text": [
      "y_new - y_current is 121.05074650887741: \n",
      "---------- 16/L ----------\n",
      "\n",
      "---------- 17/L ----------\n",
      "\n",
      "x_new before clipping:  [-0.83563581  1.53342278  3.09976357]\n",
      "x_new after clipping:  [-0.3         1.53342278  3.09976357]\n"
     ]
    },
    {
     "data": {
      "text/plain": "solve for U:   0%|          | 0/831 [00:00<?, ?it/s]",
      "application/vnd.jupyter.widget-view+json": {
       "version_major": 2,
       "version_minor": 0,
       "model_id": "ad4840dbabbc48dba561877ab18638af"
      }
     },
     "metadata": {},
     "output_type": "display_data"
    },
    {
     "name": "stdout",
     "output_type": "stream",
     "text": [
      "y_new - y_current is 17.17732359125921: \n",
      "---------- 17/L ----------\n",
      "\n",
      "---------- 18/L ----------\n",
      "\n",
      "x_new before clipping:  [-0.19092151  1.85394715  3.3177206 ]\n",
      "x_new after clipping:  [-0.19092151  1.85394715  3.3177206 ]\n"
     ]
    },
    {
     "data": {
      "text/plain": "solve for U:   0%|          | 0/831 [00:00<?, ?it/s]",
      "application/vnd.jupyter.widget-view+json": {
       "version_major": 2,
       "version_minor": 0,
       "model_id": "6fb4d457d8154d8ea295db2b97778f26"
      }
     },
     "metadata": {},
     "output_type": "display_data"
    },
    {
     "name": "stdout",
     "output_type": "stream",
     "text": [
      "y_new - y_current is -79.26962522235314: \n",
      "---------- 18/L ----------\n",
      "\n",
      "---------- 19/L ----------\n",
      "\n",
      "x_new before clipping:  [-0.43489431  1.45874537  3.59867964]\n",
      "x_new after clipping:  [-0.3         1.45874537  3.59867964]\n"
     ]
    },
    {
     "data": {
      "text/plain": "solve for U:   0%|          | 0/831 [00:00<?, ?it/s]",
      "application/vnd.jupyter.widget-view+json": {
       "version_major": 2,
       "version_minor": 0,
       "model_id": "9925dfde8e264c60b7d469d166b00aca"
      }
     },
     "metadata": {},
     "output_type": "display_data"
    },
    {
     "name": "stdout",
     "output_type": "stream",
     "text": [
      "y_new - y_current is 84.29923870173022: \n",
      "---------- 19/L ----------\n",
      "\n",
      "---------- 20/L ----------\n",
      "\n",
      "x_new before clipping:  [-0.62574275  1.57301576  3.52864106]\n",
      "x_new after clipping:  [-0.3         1.57301576  3.52864106]\n"
     ]
    },
    {
     "data": {
      "text/plain": "solve for U:   0%|          | 0/831 [00:00<?, ?it/s]",
      "application/vnd.jupyter.widget-view+json": {
       "version_major": 2,
       "version_minor": 0,
       "model_id": "ab930e20400844b6bf53e2e89facca9c"
      }
     },
     "metadata": {},
     "output_type": "display_data"
    },
    {
     "name": "stdout",
     "output_type": "stream",
     "text": [
      "y_new - y_current is -4.365173777281711: \n",
      "---------- 20/L ----------\n",
      "\n",
      "---------- 21/L ----------\n",
      "\n",
      "x_new before clipping:  [-0.56003265  1.3028571   3.30669064]\n",
      "x_new after clipping:  [-0.3         1.3028571   3.30669064]\n"
     ]
    },
    {
     "data": {
      "text/plain": "solve for U:   0%|          | 0/831 [00:00<?, ?it/s]",
      "application/vnd.jupyter.widget-view+json": {
       "version_major": 2,
       "version_minor": 0,
       "model_id": "6a3ad35a87a74bcab28a4bf76ed552aa"
      }
     },
     "metadata": {},
     "output_type": "display_data"
    },
    {
     "name": "stdout",
     "output_type": "stream",
     "text": [
      "y_new - y_current is 0.21360127167088194: \n",
      "---------- 21/L ----------\n",
      "\n",
      "---------- 22/L ----------\n",
      "\n",
      "x_new before clipping:  [-0.23574632  0.73627214  2.82561458]\n",
      "x_new after clipping:  [-0.23574632  0.73627214  2.82561458]\n"
     ]
    },
    {
     "data": {
      "text/plain": "solve for U:   0%|          | 0/831 [00:00<?, ?it/s]",
      "application/vnd.jupyter.widget-view+json": {
       "version_major": 2,
       "version_minor": 0,
       "model_id": "7eb6d21fc9164135b5e9de35ef38e11e"
      }
     },
     "metadata": {},
     "output_type": "display_data"
    },
    {
     "name": "stdout",
     "output_type": "stream",
     "text": [
      "y_new - y_current is -203.54798534444686: \n",
      "---------- 22/L ----------\n",
      "\n",
      "---------- 23/L ----------\n",
      "\n",
      "x_new before clipping:  [0.04682892 0.66111979 2.52198769]\n",
      "x_new after clipping:  [0.04682892 0.66111979 2.52198769]\n"
     ]
    },
    {
     "data": {
      "text/plain": "solve for U:   0%|          | 0/831 [00:00<?, ?it/s]",
      "application/vnd.jupyter.widget-view+json": {
       "version_major": 2,
       "version_minor": 0,
       "model_id": "054c70e8401c4287adb62a3aa37f4331"
      }
     },
     "metadata": {},
     "output_type": "display_data"
    },
    {
     "name": "stdout",
     "output_type": "stream",
     "text": [
      "y_new - y_current is -46.02475846979773: \n",
      "---------- 23/L ----------\n",
      "\n",
      "---------- 24/L ----------\n",
      "\n",
      "x_new before clipping:  [0.07414311 0.49444569 3.19057182]\n",
      "x_new after clipping:  [0.07414311 0.49444569 3.19057182]\n"
     ]
    },
    {
     "data": {
      "text/plain": "solve for U:   0%|          | 0/831 [00:00<?, ?it/s]",
      "application/vnd.jupyter.widget-view+json": {
       "version_major": 2,
       "version_minor": 0,
       "model_id": "0cc51cf39c964c97828253695e18b20a"
      }
     },
     "metadata": {},
     "output_type": "display_data"
    },
    {
     "name": "stdout",
     "output_type": "stream",
     "text": [
      "y_new - y_current is 20.630038604838973: \n",
      "---------- 24/L ----------\n",
      "\n",
      "---------- 25/L ----------\n",
      "\n",
      "x_new before clipping:  [0.00623326 0.33918671 3.29580348]\n",
      "x_new after clipping:  [0.00623326 0.33918671 3.29580348]\n"
     ]
    },
    {
     "data": {
      "text/plain": "solve for U:   0%|          | 0/831 [00:00<?, ?it/s]",
      "application/vnd.jupyter.widget-view+json": {
       "version_major": 2,
       "version_minor": 0,
       "model_id": "63f447a6a9f043688604fd027531c3b0"
      }
     },
     "metadata": {},
     "output_type": "display_data"
    },
    {
     "name": "stdout",
     "output_type": "stream",
     "text": [
      "y_new - y_current is 23.154158014764192: \n",
      "---------- 25/L ----------\n",
      "\n",
      "---------- 26/L ----------\n",
      "\n",
      "x_new before clipping:  [-0.07822373  0.31416679  3.64025792]\n",
      "x_new after clipping:  [-0.07822373  0.31416679  3.64025792]\n"
     ]
    },
    {
     "data": {
      "text/plain": "solve for U:   0%|          | 0/831 [00:00<?, ?it/s]",
      "application/vnd.jupyter.widget-view+json": {
       "version_major": 2,
       "version_minor": 0,
       "model_id": "21aecb8d80c64a01a0bd066980150f44"
      }
     },
     "metadata": {},
     "output_type": "display_data"
    },
    {
     "name": "stdout",
     "output_type": "stream",
     "text": [
      "y_new - y_current is -8.795768378384267: \n",
      "---------- 26/L ----------\n",
      "\n",
      "---------- 27/L ----------\n",
      "\n",
      "x_new before clipping:  [-0.02251411 -0.23156147  3.80906676]\n",
      "x_new after clipping:  [-0.02251411  0.01        3.80906676]\n"
     ]
    },
    {
     "data": {
      "text/plain": "solve for U:   0%|          | 0/831 [00:00<?, ?it/s]",
      "application/vnd.jupyter.widget-view+json": {
       "version_major": 2,
       "version_minor": 0,
       "model_id": "da0a48c265ac4493b5a98747c17ac5f3"
      }
     },
     "metadata": {},
     "output_type": "display_data"
    },
    {
     "name": "stdout",
     "output_type": "stream",
     "text": [
      "y_new - y_current is inf: \n",
      "---------- 27/L ----------\n",
      "\n",
      "---------- 28/L ----------\n",
      "\n",
      "x_new before clipping:  [-0.08968256  0.46429795  3.54356644]\n",
      "x_new after clipping:  [-0.08968256  0.46429795  3.54356644]\n"
     ]
    },
    {
     "name": "stderr",
     "output_type": "stream",
     "text": [
      "D:\\Anaconda\\envs\\pythorch\\lib\\site-packages\\ipykernel_launcher.py:32: RuntimeWarning: divide by zero encountered in log\n"
     ]
    },
    {
     "data": {
      "text/plain": "solve for U:   0%|          | 0/831 [00:00<?, ?it/s]",
      "application/vnd.jupyter.widget-view+json": {
       "version_major": 2,
       "version_minor": 0,
       "model_id": "491902f606204149867e21b9f1c69445"
      }
     },
     "metadata": {},
     "output_type": "display_data"
    },
    {
     "name": "stdout",
     "output_type": "stream",
     "text": [
      "y_new - y_current is -37.41027225909892: \n",
      "---------- 28/L ----------\n",
      "\n",
      "---------- 29/L ----------\n",
      "\n",
      "x_new before clipping:  [0.27308712 0.50102406 4.02670472]\n",
      "x_new after clipping:  [0.27308712 0.50102406 4.02670472]\n"
     ]
    },
    {
     "data": {
      "text/plain": "solve for U:   0%|          | 0/831 [00:00<?, ?it/s]",
      "application/vnd.jupyter.widget-view+json": {
       "version_major": 2,
       "version_minor": 0,
       "model_id": "f6627a39cc134eb7b94c78667410c859"
      }
     },
     "metadata": {},
     "output_type": "display_data"
    },
    {
     "name": "stdout",
     "output_type": "stream",
     "text": [
      "y_new - y_current is 77.90656575926161: \n",
      "---------- 29/L ----------\n",
      "\n",
      "---------- 30/L ----------\n",
      "\n",
      "x_new before clipping:  [0.45550256 0.96618566 3.69380476]\n",
      "x_new after clipping:  [0.3        0.96618566 3.69380476]\n"
     ]
    },
    {
     "data": {
      "text/plain": "solve for U:   0%|          | 0/831 [00:00<?, ?it/s]",
      "application/vnd.jupyter.widget-view+json": {
       "version_major": 2,
       "version_minor": 0,
       "model_id": "6bfbd1898c554b35b9f8cfe5edeb261b"
      }
     },
     "metadata": {},
     "output_type": "display_data"
    },
    {
     "name": "stdout",
     "output_type": "stream",
     "text": [
      "y_new - y_current is -24.21305217728792: \n",
      "---------- 30/L ----------\n",
      "\n",
      "---------- 31/L ----------\n",
      "\n",
      "x_new before clipping:  [0.43610475 1.05270783 3.36380801]\n",
      "x_new after clipping:  [0.3        1.05270783 3.36380801]\n"
     ]
    },
    {
     "data": {
      "text/plain": "solve for U:   0%|          | 0/831 [00:00<?, ?it/s]",
      "application/vnd.jupyter.widget-view+json": {
       "version_major": 2,
       "version_minor": 0,
       "model_id": "4d5bbe806f0b4dc78722ce3206cc7228"
      }
     },
     "metadata": {},
     "output_type": "display_data"
    },
    {
     "name": "stdout",
     "output_type": "stream",
     "text": [
      "y_new - y_current is -0.024337675912391887: \n",
      "---------- 31/L ----------\n",
      "\n",
      "---------- 32/L ----------\n",
      "\n",
      "x_new before clipping:  [0.13778374 0.9906987  3.43736515]\n",
      "x_new after clipping:  [0.13778374 0.9906987  3.43736515]\n"
     ]
    },
    {
     "data": {
      "text/plain": "solve for U:   0%|          | 0/831 [00:00<?, ?it/s]",
      "application/vnd.jupyter.widget-view+json": {
       "version_major": 2,
       "version_minor": 0,
       "model_id": "ddf4f641599c43708b0741526d731438"
      }
     },
     "metadata": {},
     "output_type": "display_data"
    },
    {
     "name": "stdout",
     "output_type": "stream",
     "text": [
      "y_new - y_current is -17.39810129849998: \n",
      "---------- 32/L ----------\n",
      "\n",
      "---------- 33/L ----------\n",
      "\n",
      "x_new before clipping:  [0.05248234 1.10313532 2.97706312]\n",
      "x_new after clipping:  [0.05248234 1.10313532 2.97706312]\n"
     ]
    },
    {
     "data": {
      "text/plain": "solve for U:   0%|          | 0/831 [00:00<?, ?it/s]",
      "application/vnd.jupyter.widget-view+json": {
       "version_major": 2,
       "version_minor": 0,
       "model_id": "562d5d5b5600433487278347bf2aef82"
      }
     },
     "metadata": {},
     "output_type": "display_data"
    },
    {
     "name": "stdout",
     "output_type": "stream",
     "text": [
      "y_new - y_current is 10.457182413045913: \n",
      "---------- 33/L ----------\n",
      "\n",
      "---------- 34/L ----------\n",
      "\n",
      "x_new before clipping:  [0.35235879 1.38170372 3.09758793]\n",
      "x_new after clipping:  [0.3        1.38170372 3.09758793]\n"
     ]
    },
    {
     "data": {
      "text/plain": "solve for U:   0%|          | 0/831 [00:00<?, ?it/s]",
      "application/vnd.jupyter.widget-view+json": {
       "version_major": 2,
       "version_minor": 0,
       "model_id": "bb439057c2114a08824d641c93aa8ef8"
      }
     },
     "metadata": {},
     "output_type": "display_data"
    },
    {
     "name": "stdout",
     "output_type": "stream",
     "text": [
      "y_new - y_current is 16.521233973667222: \n",
      "---------- 34/L ----------\n",
      "\n",
      "---------- 35/L ----------\n",
      "\n",
      "x_new before clipping:  [0.24409586 1.23622916 2.64573831]\n",
      "x_new after clipping:  [0.24409586 1.23622916 2.64573831]\n"
     ]
    },
    {
     "data": {
      "text/plain": "solve for U:   0%|          | 0/831 [00:00<?, ?it/s]",
      "application/vnd.jupyter.widget-view+json": {
       "version_major": 2,
       "version_minor": 0,
       "model_id": "3f92abedba10417aa0205809e9ac202c"
      }
     },
     "metadata": {},
     "output_type": "display_data"
    },
    {
     "name": "stdout",
     "output_type": "stream",
     "text": [
      "y_new - y_current is -11.554696165929315: \n",
      "---------- 35/L ----------\n",
      "\n",
      "---------- 36/L ----------\n",
      "\n",
      "x_new before clipping:  [0.31632158 1.28399674 2.19646218]\n",
      "x_new after clipping:  [0.3        1.28399674 2.19646218]\n"
     ]
    },
    {
     "data": {
      "text/plain": "solve for U:   0%|          | 0/831 [00:00<?, ?it/s]",
      "application/vnd.jupyter.widget-view+json": {
       "version_major": 2,
       "version_minor": 0,
       "model_id": "860bc8683f21493f8331f23ca6d448c7"
      }
     },
     "metadata": {},
     "output_type": "display_data"
    },
    {
     "name": "stdout",
     "output_type": "stream",
     "text": [
      "y_new - y_current is 1.5402733884997275: \n",
      "---------- 36/L ----------\n",
      "\n",
      "---------- 37/L ----------\n",
      "\n",
      "x_new before clipping:  [0.30523954 0.72459923 2.35187353]\n",
      "x_new after clipping:  [0.3        0.72459923 2.35187353]\n"
     ]
    },
    {
     "data": {
      "text/plain": "solve for U:   0%|          | 0/831 [00:00<?, ?it/s]",
      "application/vnd.jupyter.widget-view+json": {
       "version_major": 2,
       "version_minor": 0,
       "model_id": "0a6c9f539fb24450b7e420a7bc79553e"
      }
     },
     "metadata": {},
     "output_type": "display_data"
    },
    {
     "name": "stdout",
     "output_type": "stream",
     "text": [
      "y_new - y_current is -4.398600653143504: \n",
      "---------- 37/L ----------\n",
      "\n",
      "---------- 38/L ----------\n",
      "\n",
      "x_new before clipping:  [0.37882107 0.90572069 2.01852974]\n",
      "x_new after clipping:  [0.3        0.90572069 2.01852974]\n"
     ]
    },
    {
     "data": {
      "text/plain": "solve for U:   0%|          | 0/831 [00:00<?, ?it/s]",
      "application/vnd.jupyter.widget-view+json": {
       "version_major": 2,
       "version_minor": 0,
       "model_id": "e610cd1eed6a40f6979fa0924b8fbce3"
      }
     },
     "metadata": {},
     "output_type": "display_data"
    },
    {
     "name": "stdout",
     "output_type": "stream",
     "text": [
      "y_new - y_current is -7.990655793998826: \n",
      "---------- 38/L ----------\n",
      "\n",
      "---------- 39/L ----------\n",
      "\n",
      "x_new before clipping:  [0.18553115 1.19433493 2.22494296]\n",
      "x_new after clipping:  [0.18553115 1.19433493 2.22494296]\n"
     ]
    },
    {
     "data": {
      "text/plain": "solve for U:   0%|          | 0/831 [00:00<?, ?it/s]",
      "application/vnd.jupyter.widget-view+json": {
       "version_major": 2,
       "version_minor": 0,
       "model_id": "6c4b53f1b17a4187900aa6650ebc20ca"
      }
     },
     "metadata": {},
     "output_type": "display_data"
    },
    {
     "name": "stdout",
     "output_type": "stream",
     "text": [
      "y_new - y_current is 2.1336132636705685: \n",
      "---------- 39/L ----------\n",
      "\n",
      "---------- 40/L ----------\n",
      "\n",
      "x_new before clipping:  [0.12865941 0.58982199 2.40228367]\n",
      "x_new after clipping:  [0.12865941 0.58982199 2.40228367]\n"
     ]
    },
    {
     "data": {
      "text/plain": "solve for U:   0%|          | 0/831 [00:00<?, ?it/s]",
      "application/vnd.jupyter.widget-view+json": {
       "version_major": 2,
       "version_minor": 0,
       "model_id": "bd2af345af4649378c21051a56d754f9"
      }
     },
     "metadata": {},
     "output_type": "display_data"
    },
    {
     "name": "stdout",
     "output_type": "stream",
     "text": [
      "y_new - y_current is -20.847739334132996: \n",
      "---------- 40/L ----------\n",
      "\n",
      "---------- 41/L ----------\n",
      "\n",
      "x_new before clipping:  [0.54136974 0.17845841 2.5114497 ]\n",
      "x_new after clipping:  [0.3        0.17845841 2.5114497 ]\n"
     ]
    },
    {
     "data": {
      "text/plain": "solve for U:   0%|          | 0/831 [00:00<?, ?it/s]",
      "application/vnd.jupyter.widget-view+json": {
       "version_major": 2,
       "version_minor": 0,
       "model_id": "dd3d9af1ce3f4fe9811b77f2d23b37e3"
      }
     },
     "metadata": {},
     "output_type": "display_data"
    },
    {
     "name": "stdout",
     "output_type": "stream",
     "text": [
      "y_new - y_current is inf: \n",
      "---------- 41/L ----------\n",
      "\n",
      "---------- 42/L ----------\n",
      "\n",
      "x_new before clipping:  [ 0.12130025 -0.11294742  2.37778623]\n",
      "x_new after clipping:  [0.12130025 0.01       2.37778623]\n"
     ]
    },
    {
     "data": {
      "text/plain": "solve for U:   0%|          | 0/831 [00:00<?, ?it/s]",
      "application/vnd.jupyter.widget-view+json": {
       "version_major": 2,
       "version_minor": 0,
       "model_id": "f1356714ab994a3481cf638acb26fb63"
      }
     },
     "metadata": {},
     "output_type": "display_data"
    },
    {
     "name": "stdout",
     "output_type": "stream",
     "text": [
      "y_new - y_current is inf: \n",
      "---------- 42/L ----------\n",
      "\n",
      "---------- 43/L ----------\n",
      "\n",
      "x_new before clipping:  [0.07423189 1.16494279 2.2237102 ]\n",
      "x_new after clipping:  [0.07423189 1.16494279 2.2237102 ]\n"
     ]
    },
    {
     "data": {
      "text/plain": "solve for U:   0%|          | 0/831 [00:00<?, ?it/s]",
      "application/vnd.jupyter.widget-view+json": {
       "version_major": 2,
       "version_minor": 0,
       "model_id": "a2bea04b61d448acbfceb0eb668e74e4"
      }
     },
     "metadata": {},
     "output_type": "display_data"
    },
    {
     "name": "stdout",
     "output_type": "stream",
     "text": [
      "y_new - y_current is 21.449332222525754: \n",
      "---------- 43/L ----------\n",
      "\n",
      "---------- 44/L ----------\n",
      "\n",
      "x_new before clipping:  [0.26643515 0.53565147 2.5260039 ]\n",
      "x_new after clipping:  [0.26643515 0.53565147 2.5260039 ]\n"
     ]
    },
    {
     "data": {
      "text/plain": "solve for U:   0%|          | 0/831 [00:00<?, ?it/s]",
      "application/vnd.jupyter.widget-view+json": {
       "version_major": 2,
       "version_minor": 0,
       "model_id": "e0ef465159d64fb48e0966724b486ea4"
      }
     },
     "metadata": {},
     "output_type": "display_data"
    },
    {
     "name": "stdout",
     "output_type": "stream",
     "text": [
      "y_new - y_current is 20.65684209221945: \n",
      "---------- 44/L ----------\n",
      "\n",
      "---------- 45/L ----------\n",
      "\n",
      "x_new before clipping:  [0.5521418  0.80338999 2.82883743]\n",
      "x_new after clipping:  [0.3        0.80338999 2.82883743]\n"
     ]
    },
    {
     "data": {
      "text/plain": "solve for U:   0%|          | 0/831 [00:00<?, ?it/s]",
      "application/vnd.jupyter.widget-view+json": {
       "version_major": 2,
       "version_minor": 0,
       "model_id": "58ae95e5955b490399ef96facb3c1c22"
      }
     },
     "metadata": {},
     "output_type": "display_data"
    },
    {
     "name": "stdout",
     "output_type": "stream",
     "text": [
      "y_new - y_current is -15.818082673964454: \n",
      "---------- 45/L ----------\n",
      "\n",
      "---------- 46/L ----------\n",
      "\n",
      "x_new before clipping:  [0.46337384 1.25093119 2.9112999 ]\n",
      "x_new after clipping:  [0.3        1.25093119 2.9112999 ]\n"
     ]
    },
    {
     "data": {
      "text/plain": "solve for U:   0%|          | 0/831 [00:00<?, ?it/s]",
      "application/vnd.jupyter.widget-view+json": {
       "version_major": 2,
       "version_minor": 0,
       "model_id": "2b057f3bb7644a71883a8953a646c16a"
      }
     },
     "metadata": {},
     "output_type": "display_data"
    },
    {
     "name": "stdout",
     "output_type": "stream",
     "text": [
      "y_new - y_current is 9.345582479837105: \n",
      "---------- 46/L ----------\n",
      "\n",
      "---------- 47/L ----------\n",
      "\n",
      "x_new before clipping:  [0.16914035 1.671764   2.80501087]\n",
      "x_new after clipping:  [0.16914035 1.671764   2.80501087]\n"
     ]
    },
    {
     "data": {
      "text/plain": "solve for U:   0%|          | 0/831 [00:00<?, ?it/s]",
      "application/vnd.jupyter.widget-view+json": {
       "version_major": 2,
       "version_minor": 0,
       "model_id": "465282dda9a949cb985f99fd7f0b769d"
      }
     },
     "metadata": {},
     "output_type": "display_data"
    },
    {
     "name": "stdout",
     "output_type": "stream",
     "text": [
      "y_new - y_current is 2.9625004370394095: \n",
      "---------- 47/L ----------\n",
      "\n",
      "---------- 48/L ----------\n",
      "\n",
      "x_new before clipping:  [0.07477413 2.12764965 3.23098989]\n",
      "x_new after clipping:  [0.07477413 2.         3.23098989]\n"
     ]
    },
    {
     "data": {
      "text/plain": "solve for U:   0%|          | 0/831 [00:00<?, ?it/s]",
      "application/vnd.jupyter.widget-view+json": {
       "version_major": 2,
       "version_minor": 0,
       "model_id": "54c21e6090f1461c8d5ac6f855a79b4b"
      }
     },
     "metadata": {},
     "output_type": "display_data"
    },
    {
     "name": "stdout",
     "output_type": "stream",
     "text": [
      "y_new - y_current is 3.450345056766821: \n",
      "---------- 48/L ----------\n",
      "\n",
      "---------- 49/L ----------\n",
      "\n",
      "x_new before clipping:  [0.75798834 1.92993947 3.54524706]\n",
      "x_new after clipping:  [0.3        1.92993947 3.54524706]\n"
     ]
    },
    {
     "data": {
      "text/plain": "solve for U:   0%|          | 0/831 [00:00<?, ?it/s]",
      "application/vnd.jupyter.widget-view+json": {
       "version_major": 2,
       "version_minor": 0,
       "model_id": "af0683e15d914c4a869f99280ae6b447"
      }
     },
     "metadata": {},
     "output_type": "display_data"
    },
    {
     "name": "stdout",
     "output_type": "stream",
     "text": [
      "y_new - y_current is 1.5739807561442376: \n",
      "---------- 49/L ----------\n",
      "\n",
      "-------------- 1_th iteration --------------\n",
      "\n",
      "---------- 0/L ----------\n",
      "\n",
      "x_new before clipping:  [-0.10343524  1.60013361  3.60914081]\n",
      "x_new after clipping:  [-0.10343524  1.60013361  3.60914081]\n"
     ]
    },
    {
     "data": {
      "text/plain": "solve for U:   0%|          | 0/831 [00:00<?, ?it/s]",
      "application/vnd.jupyter.widget-view+json": {
       "version_major": 2,
       "version_minor": 0,
       "model_id": "f09e67ad15634e40affd6c4fbd92c69a"
      }
     },
     "metadata": {},
     "output_type": "display_data"
    },
    {
     "name": "stdout",
     "output_type": "stream",
     "text": [
      "y_new - y_current is 74.140359311531: \n",
      "---------- 0/L ----------\n",
      "\n",
      "---------- 1/L ----------\n",
      "\n",
      "x_new before clipping:  [-0.50837607  1.12201457  3.79226829]\n",
      "x_new after clipping:  [-0.3         1.12201457  3.79226829]\n"
     ]
    },
    {
     "data": {
      "text/plain": "solve for U:   0%|          | 0/831 [00:00<?, ?it/s]",
      "application/vnd.jupyter.widget-view+json": {
       "version_major": 2,
       "version_minor": 0,
       "model_id": "6493168944564ed7b5037f05b55bb943"
      }
     },
     "metadata": {},
     "output_type": "display_data"
    },
    {
     "name": "stdout",
     "output_type": "stream",
     "text": [
      "y_new - y_current is 93.67436904434805: \n",
      "---------- 1/L ----------\n",
      "\n",
      "---------- 2/L ----------\n",
      "\n",
      "x_new before clipping:  [-0.70734824  1.4897817   3.41656146]\n",
      "x_new after clipping:  [-0.3         1.4897817   3.41656146]\n"
     ]
    },
    {
     "data": {
      "text/plain": "solve for U:   0%|          | 0/831 [00:00<?, ?it/s]",
      "application/vnd.jupyter.widget-view+json": {
       "version_major": 2,
       "version_minor": 0,
       "model_id": "32a224001b0044ac9a7bbaea926d8ce8"
      }
     },
     "metadata": {},
     "output_type": "display_data"
    },
    {
     "name": "stdout",
     "output_type": "stream",
     "text": [
      "y_new - y_current is 20.887359736086125: \n",
      "---------- 2/L ----------\n",
      "\n",
      "---------- 3/L ----------\n",
      "\n",
      "x_new before clipping:  [-0.40440218  1.03315315  3.67412068]\n",
      "x_new after clipping:  [-0.3         1.03315315  3.67412068]\n"
     ]
    },
    {
     "data": {
      "text/plain": "solve for U:   0%|          | 0/831 [00:00<?, ?it/s]",
      "application/vnd.jupyter.widget-view+json": {
       "version_major": 2,
       "version_minor": 0,
       "model_id": "966842d116854979b76e9c0934c2a46d"
      }
     },
     "metadata": {},
     "output_type": "display_data"
    },
    {
     "name": "stdout",
     "output_type": "stream",
     "text": [
      "y_new - y_current is -21.416807284031904: \n",
      "---------- 3/L ----------\n",
      "\n",
      "---------- 4/L ----------\n",
      "\n",
      "x_new before clipping:  [-0.3587599   1.67465768  3.47870193]\n",
      "x_new after clipping:  [-0.3         1.67465768  3.47870193]\n"
     ]
    },
    {
     "data": {
      "text/plain": "solve for U:   0%|          | 0/831 [00:00<?, ?it/s]",
      "application/vnd.jupyter.widget-view+json": {
       "version_major": 2,
       "version_minor": 0,
       "model_id": "e9c66e0fce2741a0b94ca7fa88f2012c"
      }
     },
     "metadata": {},
     "output_type": "display_data"
    },
    {
     "name": "stdout",
     "output_type": "stream",
     "text": [
      "y_new - y_current is 33.05891085462258: \n",
      "---------- 4/L ----------\n",
      "\n",
      "---------- 5/L ----------\n",
      "\n",
      "x_new before clipping:  [-0.1224798   1.69136406  3.41727429]\n",
      "x_new after clipping:  [-0.1224798   1.69136406  3.41727429]\n"
     ]
    },
    {
     "data": {
      "text/plain": "solve for U:   0%|          | 0/831 [00:00<?, ?it/s]",
      "application/vnd.jupyter.widget-view+json": {
       "version_major": 2,
       "version_minor": 0,
       "model_id": "c74a463f9849424281abebc80a543708"
      }
     },
     "metadata": {},
     "output_type": "display_data"
    },
    {
     "name": "stdout",
     "output_type": "stream",
     "text": [
      "y_new - y_current is -99.61424171055626: \n",
      "---------- 5/L ----------\n",
      "\n",
      "---------- 6/L ----------\n",
      "\n",
      "x_new before clipping:  [0.40986367 1.62633804 3.37358934]\n",
      "x_new after clipping:  [0.3        1.62633804 3.37358934]\n"
     ]
    },
    {
     "data": {
      "text/plain": "solve for U:   0%|          | 0/831 [00:00<?, ?it/s]",
      "application/vnd.jupyter.widget-view+json": {
       "version_major": 2,
       "version_minor": 0,
       "model_id": "8d880dc1677648d4aacff5264bdcc644"
      }
     },
     "metadata": {},
     "output_type": "display_data"
    },
    {
     "name": "stdout",
     "output_type": "stream",
     "text": [
      "y_new - y_current is -78.11184395639621: \n",
      "---------- 6/L ----------\n",
      "\n",
      "---------- 7/L ----------\n",
      "\n",
      "x_new before clipping:  [0.04676046 1.796679   3.9968856 ]\n",
      "x_new after clipping:  [0.04676046 1.796679   3.9968856 ]\n"
     ]
    },
    {
     "data": {
      "text/plain": "solve for U:   0%|          | 0/831 [00:00<?, ?it/s]",
      "application/vnd.jupyter.widget-view+json": {
       "version_major": 2,
       "version_minor": 0,
       "model_id": "b200da3e92ab4735ad18d1acd825d583"
      }
     },
     "metadata": {},
     "output_type": "display_data"
    },
    {
     "name": "stdout",
     "output_type": "stream",
     "text": [
      "y_new - y_current is 9.837524295716051: \n",
      "---------- 7/L ----------\n",
      "\n",
      "---------- 8/L ----------\n",
      "\n",
      "x_new before clipping:  [0.38912963 2.74572323 3.61385796]\n",
      "x_new after clipping:  [0.3        2.         3.61385796]\n"
     ]
    },
    {
     "data": {
      "text/plain": "solve for U:   0%|          | 0/831 [00:00<?, ?it/s]",
      "application/vnd.jupyter.widget-view+json": {
       "version_major": 2,
       "version_minor": 0,
       "model_id": "b0b4fd82c862422382b387a197ac45c9"
      }
     },
     "metadata": {},
     "output_type": "display_data"
    },
    {
     "name": "stdout",
     "output_type": "stream",
     "text": [
      "y_new - y_current is -12.299903383459338: \n",
      "---------- 8/L ----------\n",
      "\n",
      "---------- 9/L ----------\n",
      "\n",
      "x_new before clipping:  [0.28015807 2.75635634 3.38490115]\n",
      "x_new after clipping:  [0.28015807 2.         3.38490115]\n"
     ]
    },
    {
     "data": {
      "text/plain": "solve for U:   0%|          | 0/831 [00:00<?, ?it/s]",
      "application/vnd.jupyter.widget-view+json": {
       "version_major": 2,
       "version_minor": 0,
       "model_id": "1ceca3cff1f5444880f9d2daa1ee8e0c"
      }
     },
     "metadata": {},
     "output_type": "display_data"
    },
    {
     "name": "stdout",
     "output_type": "stream",
     "text": [
      "y_new - y_current is -1.8453814348362698: \n",
      "---------- 9/L ----------\n",
      "\n",
      "---------- 10/L ----------\n",
      "\n",
      "x_new before clipping:  [0.39579171 2.21598967 3.19154613]\n",
      "x_new after clipping:  [0.3        2.         3.19154613]\n"
     ]
    },
    {
     "data": {
      "text/plain": "solve for U:   0%|          | 0/831 [00:00<?, ?it/s]",
      "application/vnd.jupyter.widget-view+json": {
       "version_major": 2,
       "version_minor": 0,
       "model_id": "adca36335f5c4e088f8a913cd49a30e3"
      }
     },
     "metadata": {},
     "output_type": "display_data"
    },
    {
     "name": "stdout",
     "output_type": "stream",
     "text": [
      "y_new - y_current is 0.7566935193779187: \n",
      "---------- 10/L ----------\n",
      "\n",
      "---------- 11/L ----------\n",
      "\n",
      "x_new before clipping:  [0.56316338 1.74461392 2.82555986]\n",
      "x_new after clipping:  [0.3        1.74461392 2.82555986]\n"
     ]
    },
    {
     "data": {
      "text/plain": "solve for U:   0%|          | 0/831 [00:00<?, ?it/s]",
      "application/vnd.jupyter.widget-view+json": {
       "version_major": 2,
       "version_minor": 0,
       "model_id": "07796eba46ec4cbcabb5c9e4b75d1627"
      }
     },
     "metadata": {},
     "output_type": "display_data"
    },
    {
     "name": "stdout",
     "output_type": "stream",
     "text": [
      "y_new - y_current is 0.9576310696608203: \n",
      "---------- 11/L ----------\n",
      "\n",
      "---------- 12/L ----------\n",
      "\n",
      "x_new before clipping:  [0.25838242 1.78510391 3.24049243]\n",
      "x_new after clipping:  [0.25838242 1.78510391 3.24049243]\n"
     ]
    },
    {
     "data": {
      "text/plain": "solve for U:   0%|          | 0/831 [00:00<?, ?it/s]",
      "application/vnd.jupyter.widget-view+json": {
       "version_major": 2,
       "version_minor": 0,
       "model_id": "2046926061a54ad68c8ed7d763613652"
      }
     },
     "metadata": {},
     "output_type": "display_data"
    },
    {
     "name": "stdout",
     "output_type": "stream",
     "text": [
      "y_new - y_current is -0.9067314628816234: \n",
      "---------- 12/L ----------\n",
      "\n",
      "---------- 13/L ----------\n",
      "\n",
      "x_new before clipping:  [0.23761317 2.43528411 3.14077974]\n",
      "x_new after clipping:  [0.23761317 2.         3.14077974]\n"
     ]
    },
    {
     "data": {
      "text/plain": "solve for U:   0%|          | 0/831 [00:00<?, ?it/s]",
      "application/vnd.jupyter.widget-view+json": {
       "version_major": 2,
       "version_minor": 0,
       "model_id": "85423c4c40f347ea9185f61345f8e9b2"
      }
     },
     "metadata": {},
     "output_type": "display_data"
    },
    {
     "name": "stdout",
     "output_type": "stream",
     "text": [
      "y_new - y_current is -3.760617350410996: \n",
      "---------- 13/L ----------\n",
      "\n",
      "---------- 14/L ----------\n",
      "\n",
      "x_new before clipping:  [0.32988134 1.86813993 2.97887318]\n",
      "x_new after clipping:  [0.3        1.86813993 2.97887318]\n"
     ]
    },
    {
     "data": {
      "text/plain": "solve for U:   0%|          | 0/831 [00:00<?, ?it/s]",
      "application/vnd.jupyter.widget-view+json": {
       "version_major": 2,
       "version_minor": 0,
       "model_id": "85cce7e366204f6eab71bac7411793fe"
      }
     },
     "metadata": {},
     "output_type": "display_data"
    },
    {
     "name": "stdout",
     "output_type": "stream",
     "text": [
      "y_new - y_current is 4.4518106280509215: \n",
      "---------- 14/L ----------\n",
      "\n",
      "---------- 15/L ----------\n",
      "\n",
      "x_new before clipping:  [0.57995528 2.02097129 3.10119574]\n",
      "x_new after clipping:  [0.3        2.         3.10119574]\n"
     ]
    },
    {
     "data": {
      "text/plain": "solve for U:   0%|          | 0/831 [00:00<?, ?it/s]",
      "application/vnd.jupyter.widget-view+json": {
       "version_major": 2,
       "version_minor": 0,
       "model_id": "b59688394f0740aa904a1b209eda8f2d"
      }
     },
     "metadata": {},
     "output_type": "display_data"
    },
    {
     "name": "stdout",
     "output_type": "stream",
     "text": [
      "y_new - y_current is -0.9972372067422697: \n",
      "---------- 15/L ----------\n",
      "\n",
      "---------- 16/L ----------\n",
      "\n",
      "x_new before clipping:  [0.56331366 2.10369976 2.88260997]\n",
      "x_new after clipping:  [0.3        2.         2.88260997]\n"
     ]
    },
    {
     "data": {
      "text/plain": "solve for U:   0%|          | 0/831 [00:00<?, ?it/s]",
      "application/vnd.jupyter.widget-view+json": {
       "version_major": 2,
       "version_minor": 0,
       "model_id": "ff650cfc8f7f4cf58e95726466889de4"
      }
     },
     "metadata": {},
     "output_type": "display_data"
    },
    {
     "name": "stdout",
     "output_type": "stream",
     "text": [
      "y_new - y_current is -0.6552436635896584: \n",
      "---------- 16/L ----------\n",
      "\n",
      "---------- 17/L ----------\n",
      "\n",
      "x_new before clipping:  [0.39059087 1.68560928 3.03826249]\n",
      "x_new after clipping:  [0.3        1.68560928 3.03826249]\n"
     ]
    },
    {
     "data": {
      "text/plain": "solve for U:   0%|          | 0/831 [00:00<?, ?it/s]",
      "application/vnd.jupyter.widget-view+json": {
       "version_major": 2,
       "version_minor": 0,
       "model_id": "60a2e2533da24135928d137698ca9654"
      }
     },
     "metadata": {},
     "output_type": "display_data"
    },
    {
     "name": "stdout",
     "output_type": "stream",
     "text": [
      "y_new - y_current is 2.9747969557430025: \n",
      "---------- 17/L ----------\n",
      "\n",
      "---------- 18/L ----------\n",
      "\n",
      "x_new before clipping:  [-0.13590804  1.5202546   3.1255689 ]\n",
      "x_new after clipping:  [-0.13590804  1.5202546   3.1255689 ]\n"
     ]
    },
    {
     "data": {
      "text/plain": "solve for U:   0%|          | 0/831 [00:00<?, ?it/s]",
      "application/vnd.jupyter.widget-view+json": {
       "version_major": 2,
       "version_minor": 0,
       "model_id": "6159d3f8d60c41cead60076d32ad25cf"
      }
     },
     "metadata": {},
     "output_type": "display_data"
    },
    {
     "name": "stdout",
     "output_type": "stream",
     "text": [
      "y_new - y_current is 89.46739403164797: \n",
      "---------- 18/L ----------\n",
      "\n",
      "---------- 19/L ----------\n",
      "\n",
      "x_new before clipping:  [0.0144622  1.30694584 2.85244979]\n",
      "x_new after clipping:  [0.0144622  1.30694584 2.85244979]\n"
     ]
    },
    {
     "data": {
      "text/plain": "solve for U:   0%|          | 0/831 [00:00<?, ?it/s]",
      "application/vnd.jupyter.widget-view+json": {
       "version_major": 2,
       "version_minor": 0,
       "model_id": "095a10ec491745e6a26790b298cc8440"
      }
     },
     "metadata": {},
     "output_type": "display_data"
    },
    {
     "name": "stdout",
     "output_type": "stream",
     "text": [
      "y_new - y_current is -79.94249531620261: \n",
      "---------- 19/L ----------\n",
      "\n",
      "---------- 20/L ----------\n",
      "\n",
      "x_new before clipping:  [-0.00617237  0.98573172  3.0983704 ]\n",
      "x_new after clipping:  [-0.00617237  0.98573172  3.0983704 ]\n"
     ]
    },
    {
     "data": {
      "text/plain": "solve for U:   0%|          | 0/831 [00:00<?, ?it/s]",
      "application/vnd.jupyter.widget-view+json": {
       "version_major": 2,
       "version_minor": 0,
       "model_id": "87486dc4c5674262b5c5fee12bb7992e"
      }
     },
     "metadata": {},
     "output_type": "display_data"
    },
    {
     "name": "stdout",
     "output_type": "stream",
     "text": [
      "y_new - y_current is -37.395795599336196: \n",
      "---------- 20/L ----------\n",
      "\n",
      "---------- 21/L ----------\n",
      "\n",
      "x_new before clipping:  [-0.08429667  1.70161686  2.93969098]\n",
      "x_new after clipping:  [-0.08429667  1.70161686  2.93969098]\n"
     ]
    },
    {
     "data": {
      "text/plain": "solve for U:   0%|          | 0/831 [00:00<?, ?it/s]",
      "application/vnd.jupyter.widget-view+json": {
       "version_major": 2,
       "version_minor": 0,
       "model_id": "ef07bc8b3d2342a28af7dae1703ff35f"
      }
     },
     "metadata": {},
     "output_type": "display_data"
    },
    {
     "name": "stdout",
     "output_type": "stream",
     "text": [
      "y_new - y_current is 84.34426587890928: \n",
      "---------- 21/L ----------\n",
      "\n",
      "---------- 22/L ----------\n",
      "\n",
      "x_new before clipping:  [0.10578363 1.7856704  3.34820731]\n",
      "x_new after clipping:  [0.10578363 1.7856704  3.34820731]\n"
     ]
    },
    {
     "data": {
      "text/plain": "solve for U:   0%|          | 0/831 [00:00<?, ?it/s]",
      "application/vnd.jupyter.widget-view+json": {
       "version_major": 2,
       "version_minor": 0,
       "model_id": "b50c02c0c2234945bd697aca0015ec0c"
      }
     },
     "metadata": {},
     "output_type": "display_data"
    },
    {
     "name": "stdout",
     "output_type": "stream",
     "text": [
      "y_new - y_current is -56.80007889016835: \n",
      "---------- 22/L ----------\n",
      "\n",
      "---------- 23/L ----------\n",
      "\n",
      "x_new before clipping:  [0.12198703 2.08497666 3.0028474 ]\n",
      "x_new after clipping:  [0.12198703 2.         3.0028474 ]\n"
     ]
    },
    {
     "data": {
      "text/plain": "solve for U:   0%|          | 0/831 [00:00<?, ?it/s]",
      "application/vnd.jupyter.widget-view+json": {
       "version_major": 2,
       "version_minor": 0,
       "model_id": "4e34aa41db884beaade6330097a7d92f"
      }
     },
     "metadata": {},
     "output_type": "display_data"
    },
    {
     "name": "stdout",
     "output_type": "stream",
     "text": [
      "y_new - y_current is -6.473371493912978: \n",
      "---------- 23/L ----------\n",
      "\n",
      "---------- 24/L ----------\n",
      "\n",
      "x_new before clipping:  [-0.00964432  2.79553471  3.21688277]\n",
      "x_new after clipping:  [-0.00964432  2.          3.21688277]\n"
     ]
    },
    {
     "data": {
      "text/plain": "solve for U:   0%|          | 0/831 [00:00<?, ?it/s]",
      "application/vnd.jupyter.widget-view+json": {
       "version_major": 2,
       "version_minor": 0,
       "model_id": "cd9e0eecc8a04b71aa7da59145356d16"
      }
     },
     "metadata": {},
     "output_type": "display_data"
    },
    {
     "name": "stdout",
     "output_type": "stream",
     "text": [
      "y_new - y_current is 22.999890009836733: \n",
      "---------- 24/L ----------\n",
      "\n",
      "---------- 25/L ----------\n",
      "\n",
      "x_new before clipping:  [0.19945984 1.47750522 3.20672897]\n",
      "x_new after clipping:  [0.19945984 1.47750522 3.20672897]\n"
     ]
    },
    {
     "data": {
      "text/plain": "solve for U:   0%|          | 0/831 [00:00<?, ?it/s]",
      "application/vnd.jupyter.widget-view+json": {
       "version_major": 2,
       "version_minor": 0,
       "model_id": "36a6e197e3f14b399334e781e3a6a272"
      }
     },
     "metadata": {},
     "output_type": "display_data"
    },
    {
     "name": "stdout",
     "output_type": "stream",
     "text": [
      "y_new - y_current is -20.18423835828436: \n",
      "---------- 25/L ----------\n",
      "\n",
      "---------- 26/L ----------\n",
      "\n",
      "x_new before clipping:  [0.23042675 1.02672242 3.47086316]\n",
      "x_new after clipping:  [0.23042675 1.02672242 3.47086316]\n"
     ]
    },
    {
     "data": {
      "text/plain": "solve for U:   0%|          | 0/831 [00:00<?, ?it/s]",
      "application/vnd.jupyter.widget-view+json": {
       "version_major": 2,
       "version_minor": 0,
       "model_id": "11a8173079c54d718a8934e5cf97996d"
      }
     },
     "metadata": {},
     "output_type": "display_data"
    },
    {
     "name": "stdout",
     "output_type": "stream",
     "text": [
      "y_new - y_current is -15.304681985395078: \n",
      "---------- 26/L ----------\n",
      "\n",
      "---------- 27/L ----------\n",
      "\n",
      "x_new before clipping:  [0.2456497  0.83540483 3.72506179]\n",
      "x_new after clipping:  [0.2456497  0.83540483 3.72506179]\n"
     ]
    },
    {
     "data": {
      "text/plain": "solve for U:   0%|          | 0/831 [00:00<?, ?it/s]",
      "application/vnd.jupyter.widget-view+json": {
       "version_major": 2,
       "version_minor": 0,
       "model_id": "2ce1a24fb76145deaf23163a04c58dcd"
      }
     },
     "metadata": {},
     "output_type": "display_data"
    },
    {
     "name": "stdout",
     "output_type": "stream",
     "text": [
      "y_new - y_current is -2.656615289558104: \n",
      "---------- 27/L ----------\n",
      "\n",
      "---------- 28/L ----------\n",
      "\n",
      "x_new before clipping:  [0.3106232  0.73728858 3.91770903]\n",
      "x_new after clipping:  [0.3        0.73728858 3.91770903]\n"
     ]
    },
    {
     "data": {
      "text/plain": "solve for U:   0%|          | 0/831 [00:00<?, ?it/s]",
      "application/vnd.jupyter.widget-view+json": {
       "version_major": 2,
       "version_minor": 0,
       "model_id": "2028fa5f7719405685bd53acf895caeb"
      }
     },
     "metadata": {},
     "output_type": "display_data"
    },
    {
     "name": "stdout",
     "output_type": "stream",
     "text": [
      "y_new - y_current is 12.614581782231213: \n",
      "---------- 28/L ----------\n",
      "\n",
      "---------- 29/L ----------\n",
      "\n",
      "x_new before clipping:  [0.25077508 0.89152578 3.9827467 ]\n",
      "x_new after clipping:  [0.25077508 0.89152578 3.9827467 ]\n"
     ]
    },
    {
     "data": {
      "text/plain": "solve for U:   0%|          | 0/831 [00:00<?, ?it/s]",
      "application/vnd.jupyter.widget-view+json": {
       "version_major": 2,
       "version_minor": 0,
       "model_id": "f8583b0304f449d090ea7a4432bd4f78"
      }
     },
     "metadata": {},
     "output_type": "display_data"
    },
    {
     "name": "stdout",
     "output_type": "stream",
     "text": [
      "y_new - y_current is -9.437596520578836: \n",
      "---------- 29/L ----------\n",
      "\n",
      "---------- 30/L ----------\n",
      "\n",
      "x_new before clipping:  [0.31097568 1.05278318 3.89866152]\n",
      "x_new after clipping:  [0.3        1.05278318 3.89866152]\n"
     ]
    },
    {
     "data": {
      "text/plain": "solve for U:   0%|          | 0/831 [00:00<?, ?it/s]",
      "application/vnd.jupyter.widget-view+json": {
       "version_major": 2,
       "version_minor": 0,
       "model_id": "13d049cae847431c81e0aff6958b2db8"
      }
     },
     "metadata": {},
     "output_type": "display_data"
    },
    {
     "name": "stdout",
     "output_type": "stream",
     "text": [
      "y_new - y_current is 9.710603385373162: \n",
      "---------- 30/L ----------\n",
      "\n",
      "---------- 31/L ----------\n",
      "\n",
      "x_new before clipping:  [0.02163438 1.04226875 3.90603576]\n",
      "x_new after clipping:  [0.02163438 1.04226875 3.90603576]\n"
     ]
    },
    {
     "data": {
      "text/plain": "solve for U:   0%|          | 0/831 [00:00<?, ?it/s]",
      "application/vnd.jupyter.widget-view+json": {
       "version_major": 2,
       "version_minor": 0,
       "model_id": "58b9b75a65564df5a560e32b1fd3ec63"
      }
     },
     "metadata": {},
     "output_type": "display_data"
    },
    {
     "name": "stdout",
     "output_type": "stream",
     "text": [
      "y_new - y_current is -7.717699403628757: \n",
      "---------- 31/L ----------\n",
      "\n",
      "---------- 32/L ----------\n",
      "\n",
      "x_new before clipping:  [-0.47159385  1.13978034  3.99318661]\n",
      "x_new after clipping:  [-0.3         1.13978034  3.99318661]\n"
     ]
    },
    {
     "data": {
      "text/plain": "solve for U:   0%|          | 0/831 [00:00<?, ?it/s]",
      "application/vnd.jupyter.widget-view+json": {
       "version_major": 2,
       "version_minor": 0,
       "model_id": "9dc1aa5c3f4841a4bff7e2bcf0b1fe12"
      }
     },
     "metadata": {},
     "output_type": "display_data"
    },
    {
     "name": "stdout",
     "output_type": "stream",
     "text": [
      "y_new - y_current is 188.5301821484202: \n",
      "---------- 32/L ----------\n",
      "\n",
      "---------- 33/L ----------\n",
      "\n",
      "x_new before clipping:  [-0.1504349   1.84776655  4.07266603]\n",
      "x_new after clipping:  [-0.1504349   1.84776655  4.07266603]\n"
     ]
    },
    {
     "data": {
      "text/plain": "solve for U:   0%|          | 0/831 [00:00<?, ?it/s]",
      "application/vnd.jupyter.widget-view+json": {
       "version_major": 2,
       "version_minor": 0,
       "model_id": "3abe41413db2445aa2ffb3253869c807"
      }
     },
     "metadata": {},
     "output_type": "display_data"
    },
    {
     "name": "stdout",
     "output_type": "stream",
     "text": [
      "y_new - y_current is -82.79303362473829: \n",
      "---------- 33/L ----------\n",
      "\n",
      "---------- 34/L ----------\n",
      "\n",
      "x_new before clipping:  [-0.11264073  1.66298772  2.94972073]\n",
      "x_new after clipping:  [-0.11264073  1.66298772  2.94972073]\n"
     ]
    },
    {
     "data": {
      "text/plain": "solve for U:   0%|          | 0/831 [00:00<?, ?it/s]",
      "application/vnd.jupyter.widget-view+json": {
       "version_major": 2,
       "version_minor": 0,
       "model_id": "235646c5bba3450c8ce1b0031dc1cb0f"
      }
     },
     "metadata": {},
     "output_type": "display_data"
    },
    {
     "name": "stdout",
     "output_type": "stream",
     "text": [
      "y_new - y_current is -16.60746691312221: \n",
      "---------- 34/L ----------\n",
      "\n",
      "---------- 35/L ----------\n",
      "\n",
      "x_new before clipping:  [-0.35866182  1.87479492  3.02189609]\n",
      "x_new after clipping:  [-0.3         1.87479492  3.02189609]\n"
     ]
    },
    {
     "data": {
      "text/plain": "solve for U:   0%|          | 0/831 [00:00<?, ?it/s]",
      "application/vnd.jupyter.widget-view+json": {
       "version_major": 2,
       "version_minor": 0,
       "model_id": "b4af88f26d36451a94c275fa68a80c92"
      }
     },
     "metadata": {},
     "output_type": "display_data"
    },
    {
     "name": "stdout",
     "output_type": "stream",
     "text": [
      "y_new - y_current is 87.53400234562733: \n",
      "---------- 35/L ----------\n",
      "\n",
      "---------- 36/L ----------\n",
      "\n",
      "x_new before clipping:  [-0.13634388  1.78011974  2.82237999]\n",
      "x_new after clipping:  [-0.13634388  1.78011974  2.82237999]\n"
     ]
    },
    {
     "data": {
      "text/plain": "solve for U:   0%|          | 0/831 [00:00<?, ?it/s]",
      "application/vnd.jupyter.widget-view+json": {
       "version_major": 2,
       "version_minor": 0,
       "model_id": "6588a881f21c404b998d90473d6289e0"
      }
     },
     "metadata": {},
     "output_type": "display_data"
    },
    {
     "name": "stdout",
     "output_type": "stream",
     "text": [
      "y_new - y_current is -81.20508625757867: \n",
      "---------- 36/L ----------\n",
      "\n",
      "---------- 37/L ----------\n",
      "\n",
      "x_new before clipping:  [-0.02424769  2.02555183  2.7031265 ]\n",
      "x_new after clipping:  [-0.02424769  2.          2.7031265 ]\n"
     ]
    },
    {
     "data": {
      "text/plain": "solve for U:   0%|          | 0/831 [00:00<?, ?it/s]",
      "application/vnd.jupyter.widget-view+json": {
       "version_major": 2,
       "version_minor": 0,
       "model_id": "75b4d6ca9b2d4f8c90cd555ad9c03a85"
      }
     },
     "metadata": {},
     "output_type": "display_data"
    },
    {
     "name": "stdout",
     "output_type": "stream",
     "text": [
      "y_new - y_current is -60.38254599879002: \n",
      "---------- 37/L ----------\n",
      "\n",
      "---------- 38/L ----------\n",
      "\n",
      "x_new before clipping:  [-0.18068115  2.07475503  2.69220942]\n",
      "x_new after clipping:  [-0.18068115  2.          2.69220942]\n"
     ]
    },
    {
     "data": {
      "text/plain": "solve for U:   0%|          | 0/831 [00:00<?, ?it/s]",
      "application/vnd.jupyter.widget-view+json": {
       "version_major": 2,
       "version_minor": 0,
       "model_id": "1a0e11f0fab847eebd72acd2a974ebe6"
      }
     },
     "metadata": {},
     "output_type": "display_data"
    },
    {
     "name": "stdout",
     "output_type": "stream",
     "text": [
      "y_new - y_current is 68.22439221384838: \n",
      "---------- 38/L ----------\n",
      "\n",
      "---------- 39/L ----------\n",
      "\n",
      "x_new before clipping:  [0.14451748 2.5406636  2.46956418]\n",
      "x_new after clipping:  [0.14451748 2.         2.46956418]\n"
     ]
    },
    {
     "data": {
      "text/plain": "solve for U:   0%|          | 0/831 [00:00<?, ?it/s]",
      "application/vnd.jupyter.widget-view+json": {
       "version_major": 2,
       "version_minor": 0,
       "model_id": "b0e86f59a27141479f0d4dc7b9632e91"
      }
     },
     "metadata": {},
     "output_type": "display_data"
    },
    {
     "name": "stdout",
     "output_type": "stream",
     "text": [
      "y_new - y_current is -96.33961016884255: \n",
      "---------- 39/L ----------\n",
      "\n",
      "---------- 40/L ----------\n",
      "\n",
      "x_new before clipping:  [0.25527976 2.32562892 2.19383026]\n",
      "x_new after clipping:  [0.25527976 2.         2.19383026]\n"
     ]
    },
    {
     "data": {
      "text/plain": "solve for U:   0%|          | 0/831 [00:00<?, ?it/s]",
      "application/vnd.jupyter.widget-view+json": {
       "version_major": 2,
       "version_minor": 0,
       "model_id": "b1549a3a62cf4651b28c430849b50ed1"
      }
     },
     "metadata": {},
     "output_type": "display_data"
    },
    {
     "name": "stdout",
     "output_type": "stream",
     "text": [
      "y_new - y_current is 1.4389255604694284: \n",
      "---------- 40/L ----------\n",
      "\n",
      "---------- 41/L ----------\n",
      "\n",
      "x_new before clipping:  [0.20200941 1.99187291 2.18687412]\n",
      "x_new after clipping:  [0.20200941 1.99187291 2.18687412]\n"
     ]
    },
    {
     "data": {
      "text/plain": "solve for U:   0%|          | 0/831 [00:00<?, ?it/s]",
      "application/vnd.jupyter.widget-view+json": {
       "version_major": 2,
       "version_minor": 0,
       "model_id": "fe0116b44a974aaabac0fa81881a95b2"
      }
     },
     "metadata": {},
     "output_type": "display_data"
    },
    {
     "name": "stdout",
     "output_type": "stream",
     "text": [
      "y_new - y_current is -2.293621254649196: \n",
      "---------- 41/L ----------\n",
      "\n",
      "---------- 42/L ----------\n",
      "\n",
      "x_new before clipping:  [0.24849088 1.85388709 2.32217095]\n",
      "x_new after clipping:  [0.24849088 1.85388709 2.32217095]\n"
     ]
    },
    {
     "data": {
      "text/plain": "solve for U:   0%|          | 0/831 [00:00<?, ?it/s]",
      "application/vnd.jupyter.widget-view+json": {
       "version_major": 2,
       "version_minor": 0,
       "model_id": "74edeba7bf1b483c878a3f0f86dcbdb0"
      }
     },
     "metadata": {},
     "output_type": "display_data"
    },
    {
     "name": "stdout",
     "output_type": "stream",
     "text": [
      "y_new - y_current is 3.6732681110562453: \n",
      "---------- 42/L ----------\n",
      "\n",
      "---------- 43/L ----------\n",
      "\n",
      "x_new before clipping:  [0.08978956 2.11853463 2.87604504]\n",
      "x_new after clipping:  [0.08978956 2.         2.87604504]\n"
     ]
    },
    {
     "data": {
      "text/plain": "solve for U:   0%|          | 0/831 [00:00<?, ?it/s]",
      "application/vnd.jupyter.widget-view+json": {
       "version_major": 2,
       "version_minor": 0,
       "model_id": "b21001c6f84641008e7277470f49efe8"
      }
     },
     "metadata": {},
     "output_type": "display_data"
    },
    {
     "name": "stdout",
     "output_type": "stream",
     "text": [
      "y_new - y_current is 2.060984895988895: \n",
      "---------- 43/L ----------\n",
      "\n",
      "---------- 44/L ----------\n",
      "\n",
      "x_new before clipping:  [0.4157894  1.26665944 3.58830973]\n",
      "x_new after clipping:  [0.3        1.26665944 3.58830973]\n"
     ]
    },
    {
     "data": {
      "text/plain": "solve for U:   0%|          | 0/831 [00:00<?, ?it/s]",
      "application/vnd.jupyter.widget-view+json": {
       "version_major": 2,
       "version_minor": 0,
       "model_id": "f9d1e88219934baabd35a21766be624c"
      }
     },
     "metadata": {},
     "output_type": "display_data"
    },
    {
     "name": "stdout",
     "output_type": "stream",
     "text": [
      "y_new - y_current is 1.57098651512473: \n",
      "---------- 44/L ----------\n",
      "\n",
      "---------- 45/L ----------\n",
      "\n",
      "x_new before clipping:  [0.21785054 0.89118172 3.43132468]\n",
      "x_new after clipping:  [0.21785054 0.89118172 3.43132468]\n"
     ]
    },
    {
     "data": {
      "text/plain": "solve for U:   0%|          | 0/831 [00:00<?, ?it/s]",
      "application/vnd.jupyter.widget-view+json": {
       "version_major": 2,
       "version_minor": 0,
       "model_id": "584aa82d79e840949e83c33249aa198b"
      }
     },
     "metadata": {},
     "output_type": "display_data"
    },
    {
     "name": "stdout",
     "output_type": "stream",
     "text": [
      "y_new - y_current is -23.459496518069187: \n",
      "---------- 45/L ----------\n",
      "\n",
      "---------- 46/L ----------\n",
      "\n",
      "x_new before clipping:  [0.56230118 0.52239994 3.75127295]\n",
      "x_new after clipping:  [0.3        0.52239994 3.75127295]\n"
     ]
    },
    {
     "data": {
      "text/plain": "solve for U:   0%|          | 0/831 [00:00<?, ?it/s]",
      "application/vnd.jupyter.widget-view+json": {
       "version_major": 2,
       "version_minor": 0,
       "model_id": "346b20b9303f4ad8ac563f7548c6c346"
      }
     },
     "metadata": {},
     "output_type": "display_data"
    },
    {
     "name": "stdout",
     "output_type": "stream",
     "text": [
      "y_new - y_current is 41.16630531104974: \n",
      "---------- 46/L ----------\n",
      "\n",
      "---------- 47/L ----------\n",
      "\n",
      "x_new before clipping:  [ 0.1660637  -0.27721738  3.90562701]\n",
      "x_new after clipping:  [0.1660637  0.01       3.90562701]\n"
     ]
    },
    {
     "data": {
      "text/plain": "solve for U:   0%|          | 0/831 [00:00<?, ?it/s]",
      "application/vnd.jupyter.widget-view+json": {
       "version_major": 2,
       "version_minor": 0,
       "model_id": "6c8111e9896448d1a89dbab768a58ee8"
      }
     },
     "metadata": {},
     "output_type": "display_data"
    },
    {
     "name": "stdout",
     "output_type": "stream",
     "text": [
      "y_new - y_current is inf: \n",
      "---------- 47/L ----------\n",
      "\n",
      "---------- 48/L ----------\n",
      "\n",
      "x_new before clipping:  [ 0.37546526 -0.03307807  3.63460931]\n",
      "x_new after clipping:  [0.3        0.01       3.63460931]\n"
     ]
    },
    {
     "data": {
      "text/plain": "solve for U:   0%|          | 0/831 [00:00<?, ?it/s]",
      "application/vnd.jupyter.widget-view+json": {
       "version_major": 2,
       "version_minor": 0,
       "model_id": "2d776d5beead4675bb87e823dbe3c541"
      }
     },
     "metadata": {},
     "output_type": "display_data"
    },
    {
     "name": "stdout",
     "output_type": "stream",
     "text": [
      "y_new - y_current is inf: \n",
      "---------- 48/L ----------\n",
      "\n",
      "---------- 49/L ----------\n",
      "\n",
      "x_new before clipping:  [0.16055561 0.98907453 3.06090357]\n",
      "x_new after clipping:  [0.16055561 0.98907453 3.06090357]\n"
     ]
    },
    {
     "data": {
      "text/plain": "solve for U:   0%|          | 0/831 [00:00<?, ?it/s]",
      "application/vnd.jupyter.widget-view+json": {
       "version_major": 2,
       "version_minor": 0,
       "model_id": "aa00434e562049a2b324e1db64a397f5"
      }
     },
     "metadata": {},
     "output_type": "display_data"
    },
    {
     "name": "stdout",
     "output_type": "stream",
     "text": [
      "y_new - y_current is -45.23945920585365: \n",
      "---------- 49/L ----------\n",
      "\n",
      "-------------- 2_th iteration --------------\n",
      "\n",
      "---------- 0/L ----------\n",
      "\n",
      "x_new before clipping:  [0.15766964 1.04670655 2.9300778 ]\n",
      "x_new after clipping:  [0.15766964 1.04670655 2.9300778 ]\n"
     ]
    },
    {
     "data": {
      "text/plain": "solve for U:   0%|          | 0/831 [00:00<?, ?it/s]",
      "application/vnd.jupyter.widget-view+json": {
       "version_major": 2,
       "version_minor": 0,
       "model_id": "92eba201a0f44931a3d209051f74ba50"
      }
     },
     "metadata": {},
     "output_type": "display_data"
    },
    {
     "name": "stdout",
     "output_type": "stream",
     "text": [
      "y_new - y_current is 3.1614624284197532: \n",
      "---------- 0/L ----------\n",
      "\n",
      "---------- 1/L ----------\n",
      "\n",
      "x_new before clipping:  [0.55052851 0.52598788 3.23836809]\n",
      "x_new after clipping:  [0.3        0.52598788 3.23836809]\n"
     ]
    },
    {
     "data": {
      "text/plain": "solve for U:   0%|          | 0/831 [00:00<?, ?it/s]",
      "application/vnd.jupyter.widget-view+json": {
       "version_major": 2,
       "version_minor": 0,
       "model_id": "6d2cd57488bf41ce98bd402d10ef595b"
      }
     },
     "metadata": {},
     "output_type": "display_data"
    },
    {
     "name": "stdout",
     "output_type": "stream",
     "text": [
      "y_new - y_current is 39.58536053706038: \n",
      "---------- 1/L ----------\n",
      "\n",
      "---------- 2/L ----------\n",
      "\n",
      "x_new before clipping:  [0.47317698 0.77506126 2.94021023]\n",
      "x_new after clipping:  [0.3        0.77506126 2.94021023]\n"
     ]
    },
    {
     "data": {
      "text/plain": "solve for U:   0%|          | 0/831 [00:00<?, ?it/s]",
      "application/vnd.jupyter.widget-view+json": {
       "version_major": 2,
       "version_minor": 0,
       "model_id": "34789a07ee994c8b9f3ebf7282c3b862"
      }
     },
     "metadata": {},
     "output_type": "display_data"
    },
    {
     "name": "stdout",
     "output_type": "stream",
     "text": [
      "y_new - y_current is -27.884836384124796: \n",
      "---------- 2/L ----------\n",
      "\n",
      "---------- 3/L ----------\n",
      "\n",
      "x_new before clipping:  [0.67889983 1.03055011 2.8794498 ]\n",
      "x_new after clipping:  [0.3        1.03055011 2.8794498 ]\n"
     ]
    },
    {
     "data": {
      "text/plain": "solve for U:   0%|          | 0/831 [00:00<?, ?it/s]",
      "application/vnd.jupyter.widget-view+json": {
       "version_major": 2,
       "version_minor": 0,
       "model_id": "ceb492d628e94365bc0c90dbb9a7674f"
      }
     },
     "metadata": {},
     "output_type": "display_data"
    },
    {
     "name": "stdout",
     "output_type": "stream",
     "text": [
      "y_new - y_current is -0.31930072657138453: \n",
      "---------- 3/L ----------\n",
      "\n",
      "---------- 4/L ----------\n",
      "\n",
      "x_new before clipping:  [0.2181842  1.10086728 3.52954477]\n",
      "x_new after clipping:  [0.2181842  1.10086728 3.52954477]\n"
     ]
    },
    {
     "data": {
      "text/plain": "solve for U:   0%|          | 0/831 [00:00<?, ?it/s]",
      "application/vnd.jupyter.widget-view+json": {
       "version_major": 2,
       "version_minor": 0,
       "model_id": "4cc138027fe84a48ba5e325d0dcfc218"
      }
     },
     "metadata": {},
     "output_type": "display_data"
    },
    {
     "name": "stdout",
     "output_type": "stream",
     "text": [
      "y_new - y_current is 0.4581250041888012: \n",
      "---------- 4/L ----------\n",
      "\n",
      "---------- 5/L ----------\n",
      "\n",
      "x_new before clipping:  [0.34241746 0.91068832 3.60873262]\n",
      "x_new after clipping:  [0.3        0.91068832 3.60873262]\n"
     ]
    },
    {
     "data": {
      "text/plain": "solve for U:   0%|          | 0/831 [00:00<?, ?it/s]",
      "application/vnd.jupyter.widget-view+json": {
       "version_major": 2,
       "version_minor": 0,
       "model_id": "e56e15f459914a3e92e04c35fc2c6e6c"
      }
     },
     "metadata": {},
     "output_type": "display_data"
    },
    {
     "name": "stdout",
     "output_type": "stream",
     "text": [
      "y_new - y_current is 2.383291010462912: \n",
      "---------- 5/L ----------\n",
      "\n",
      "---------- 6/L ----------\n",
      "\n",
      "x_new before clipping:  [0.42084222 1.39327519 3.59723861]\n",
      "x_new after clipping:  [0.3        1.39327519 3.59723861]\n"
     ]
    },
    {
     "data": {
      "text/plain": "solve for U:   0%|          | 0/831 [00:00<?, ?it/s]",
      "application/vnd.jupyter.widget-view+json": {
       "version_major": 2,
       "version_minor": 0,
       "model_id": "5c5279f314ce45a59159d5566414e83c"
      }
     },
     "metadata": {},
     "output_type": "display_data"
    },
    {
     "name": "stdout",
     "output_type": "stream",
     "text": [
      "y_new - y_current is 13.77858557466186: \n",
      "---------- 6/L ----------\n",
      "\n",
      "---------- 7/L ----------\n",
      "\n",
      "x_new before clipping:  [0.18253371 0.99991422 3.83432675]\n",
      "x_new after clipping:  [0.18253371 0.99991422 3.83432675]\n"
     ]
    },
    {
     "data": {
      "text/plain": "solve for U:   0%|          | 0/831 [00:00<?, ?it/s]",
      "application/vnd.jupyter.widget-view+json": {
       "version_major": 2,
       "version_minor": 0,
       "model_id": "ac00562a9dfc468090b287e960c5673b"
      }
     },
     "metadata": {},
     "output_type": "display_data"
    },
    {
     "name": "stdout",
     "output_type": "stream",
     "text": [
      "y_new - y_current is -23.056356046678033: \n",
      "---------- 7/L ----------\n",
      "\n",
      "---------- 8/L ----------\n",
      "\n",
      "x_new before clipping:  [0.06349167 0.93000922 4.1344857 ]\n",
      "x_new after clipping:  [0.06349167 0.93000922 4.1344857 ]\n"
     ]
    },
    {
     "data": {
      "text/plain": "solve for U:   0%|          | 0/831 [00:00<?, ?it/s]",
      "application/vnd.jupyter.widget-view+json": {
       "version_major": 2,
       "version_minor": 0,
       "model_id": "28e8ede890c342dcb05ac85497d9e2b2"
      }
     },
     "metadata": {},
     "output_type": "display_data"
    },
    {
     "name": "stdout",
     "output_type": "stream",
     "text": [
      "y_new - y_current is -12.963813381301222: \n",
      "---------- 8/L ----------\n",
      "\n",
      "---------- 9/L ----------\n",
      "\n",
      "x_new before clipping:  [0.29601045 1.12077027 4.18043623]\n",
      "x_new after clipping:  [0.29601045 1.12077027 4.18043623]\n"
     ]
    },
    {
     "data": {
      "text/plain": "solve for U:   0%|          | 0/831 [00:00<?, ?it/s]",
      "application/vnd.jupyter.widget-view+json": {
       "version_major": 2,
       "version_minor": 0,
       "model_id": "18676715ee8044a28949a2827b0ee78f"
      }
     },
     "metadata": {},
     "output_type": "display_data"
    },
    {
     "name": "stdout",
     "output_type": "stream",
     "text": [
      "y_new - y_current is 30.098445167902028: \n",
      "---------- 9/L ----------\n",
      "\n",
      "---------- 10/L ----------\n",
      "\n",
      "x_new before clipping:  [0.13374525 0.64767627 4.48934948]\n",
      "x_new after clipping:  [0.13374525 0.64767627 4.48934948]\n"
     ]
    },
    {
     "data": {
      "text/plain": "solve for U:   0%|          | 0/831 [00:00<?, ?it/s]",
      "application/vnd.jupyter.widget-view+json": {
       "version_major": 2,
       "version_minor": 0,
       "model_id": "99a726c44d724dc7a21821557755c229"
      }
     },
     "metadata": {},
     "output_type": "display_data"
    },
    {
     "name": "stdout",
     "output_type": "stream",
     "text": [
      "y_new - y_current is -34.72488191794123: \n",
      "---------- 10/L ----------\n",
      "\n",
      "---------- 11/L ----------\n",
      "\n",
      "x_new before clipping:  [0.14112069 0.88242933 4.59039682]\n",
      "x_new after clipping:  [0.14112069 0.88242933 4.59039682]\n"
     ]
    },
    {
     "data": {
      "text/plain": "solve for U:   0%|          | 0/831 [00:00<?, ?it/s]",
      "application/vnd.jupyter.widget-view+json": {
       "version_major": 2,
       "version_minor": 0,
       "model_id": "6636977ebdaf4000b8efd78b73a53bfd"
      }
     },
     "metadata": {},
     "output_type": "display_data"
    },
    {
     "name": "stdout",
     "output_type": "stream",
     "text": [
      "y_new - y_current is 8.914925882596734: \n",
      "---------- 11/L ----------\n",
      "\n",
      "---------- 12/L ----------\n",
      "\n",
      "x_new before clipping:  [0.27740071 1.45148584 5.12093053]\n",
      "x_new after clipping:  [0.27740071 1.45148584 5.12093053]\n"
     ]
    },
    {
     "data": {
      "text/plain": "solve for U:   0%|          | 0/831 [00:00<?, ?it/s]",
      "application/vnd.jupyter.widget-view+json": {
       "version_major": 2,
       "version_minor": 0,
       "model_id": "d5a184bd60944af18646ba15828a7bcb"
      }
     },
     "metadata": {},
     "output_type": "display_data"
    },
    {
     "name": "stdout",
     "output_type": "stream",
     "text": [
      "y_new - y_current is 37.537348873439726: \n",
      "---------- 12/L ----------\n",
      "\n",
      "---------- 13/L ----------\n",
      "\n",
      "x_new before clipping:  [0.20370874 1.87184921 4.99675192]\n",
      "x_new after clipping:  [0.20370874 1.87184921 4.99675192]\n"
     ]
    },
    {
     "data": {
      "text/plain": "solve for U:   0%|          | 0/831 [00:00<?, ?it/s]",
      "application/vnd.jupyter.widget-view+json": {
       "version_major": 2,
       "version_minor": 0,
       "model_id": "662652cb2c05408c86bac77cddaf81c0"
      }
     },
     "metadata": {},
     "output_type": "display_data"
    },
    {
     "name": "stdout",
     "output_type": "stream",
     "text": [
      "y_new - y_current is -6.038101520812177: \n",
      "---------- 13/L ----------\n",
      "\n",
      "---------- 14/L ----------\n",
      "\n",
      "x_new before clipping:  [0.12466343 2.32380763 4.86612206]\n",
      "x_new after clipping:  [0.12466343 2.         4.86612206]\n"
     ]
    },
    {
     "data": {
      "text/plain": "solve for U:   0%|          | 0/831 [00:00<?, ?it/s]",
      "application/vnd.jupyter.widget-view+json": {
       "version_major": 2,
       "version_minor": 0,
       "model_id": "b70b26862cf042ce9e3e98ee5cfda90d"
      }
     },
     "metadata": {},
     "output_type": "display_data"
    },
    {
     "name": "stdout",
     "output_type": "stream",
     "text": [
      "y_new - y_current is -1.6662881305563104: \n",
      "---------- 14/L ----------\n",
      "\n",
      "---------- 15/L ----------\n",
      "\n",
      "x_new before clipping:  [0.03319809 2.41154499 5.02215255]\n",
      "x_new after clipping:  [0.03319809 2.         5.02215255]\n"
     ]
    },
    {
     "data": {
      "text/plain": "solve for U:   0%|          | 0/831 [00:00<?, ?it/s]",
      "application/vnd.jupyter.widget-view+json": {
       "version_major": 2,
       "version_minor": 0,
       "model_id": "96039e5524ed4453a636c2b6741eec5f"
      }
     },
     "metadata": {},
     "output_type": "display_data"
    },
    {
     "name": "stdout",
     "output_type": "stream",
     "text": [
      "y_new - y_current is 12.549711207004648: \n",
      "---------- 15/L ----------\n",
      "\n",
      "---------- 16/L ----------\n",
      "\n",
      "x_new before clipping:  [0.27686942 2.07798774 4.90386608]\n",
      "x_new after clipping:  [0.27686942 2.         4.90386608]\n"
     ]
    },
    {
     "data": {
      "text/plain": "solve for U:   0%|          | 0/831 [00:00<?, ?it/s]",
      "application/vnd.jupyter.widget-view+json": {
       "version_major": 2,
       "version_minor": 0,
       "model_id": "766c09c9fffe4ba2bef25fbe7a7377a2"
      }
     },
     "metadata": {},
     "output_type": "display_data"
    },
    {
     "name": "stdout",
     "output_type": "stream",
     "text": [
      "y_new - y_current is -10.717922997579052: \n",
      "---------- 16/L ----------\n",
      "\n",
      "---------- 17/L ----------\n",
      "\n",
      "x_new before clipping:  [0.02258774 1.88483387 4.69288759]\n",
      "x_new after clipping:  [0.02258774 1.88483387 4.69288759]\n"
     ]
    },
    {
     "data": {
      "text/plain": "solve for U:   0%|          | 0/831 [00:00<?, ?it/s]",
      "application/vnd.jupyter.widget-view+json": {
       "version_major": 2,
       "version_minor": 0,
       "model_id": "688b67a932da435eb87c931fbb86fd33"
      }
     },
     "metadata": {},
     "output_type": "display_data"
    },
    {
     "name": "stdout",
     "output_type": "stream",
     "text": [
      "y_new - y_current is 16.626693501016774: \n",
      "---------- 17/L ----------\n",
      "\n",
      "---------- 18/L ----------\n",
      "\n",
      "x_new before clipping:  [0.0328456  1.66578987 4.71751207]\n",
      "x_new after clipping:  [0.0328456  1.66578987 4.71751207]\n"
     ]
    },
    {
     "data": {
      "text/plain": "solve for U:   0%|          | 0/831 [00:00<?, ?it/s]",
      "application/vnd.jupyter.widget-view+json": {
       "version_major": 2,
       "version_minor": 0,
       "model_id": "3aee45cdae7c4429a6f89ce03f76058c"
      }
     },
     "metadata": {},
     "output_type": "display_data"
    },
    {
     "name": "stdout",
     "output_type": "stream",
     "text": [
      "y_new - y_current is 4.451636318273017: \n",
      "---------- 18/L ----------\n",
      "\n",
      "---------- 19/L ----------\n",
      "\n",
      "x_new before clipping:  [0.36368079 1.95988946 4.72121668]\n",
      "x_new after clipping:  [0.3        1.95988946 4.72121668]\n"
     ]
    },
    {
     "data": {
      "text/plain": "solve for U:   0%|          | 0/831 [00:00<?, ?it/s]",
      "application/vnd.jupyter.widget-view+json": {
       "version_major": 2,
       "version_minor": 0,
       "model_id": "e760b219e83a481cb75339626d001a32"
      }
     },
     "metadata": {},
     "output_type": "display_data"
    },
    {
     "name": "stdout",
     "output_type": "stream",
     "text": [
      "y_new - y_current is -19.356911265630643: \n",
      "---------- 19/L ----------\n",
      "\n",
      "---------- 20/L ----------\n",
      "\n",
      "x_new before clipping:  [0.45125134 2.17314509 4.67081498]\n",
      "x_new after clipping:  [0.3        2.         4.67081498]\n"
     ]
    },
    {
     "data": {
      "text/plain": "solve for U:   0%|          | 0/831 [00:00<?, ?it/s]",
      "application/vnd.jupyter.widget-view+json": {
       "version_major": 2,
       "version_minor": 0,
       "model_id": "e1d3d15f251a467fa366b715b15156b0"
      }
     },
     "metadata": {},
     "output_type": "display_data"
    },
    {
     "name": "stdout",
     "output_type": "stream",
     "text": [
      "y_new - y_current is -0.7308034826822762: \n",
      "---------- 20/L ----------\n",
      "\n",
      "---------- 21/L ----------\n",
      "\n",
      "x_new before clipping:  [0.25392983 2.0093697  4.51923909]\n",
      "x_new after clipping:  [0.25392983 2.         4.51923909]\n"
     ]
    },
    {
     "data": {
      "text/plain": "solve for U:   0%|          | 0/831 [00:00<?, ?it/s]",
      "application/vnd.jupyter.widget-view+json": {
       "version_major": 2,
       "version_minor": 0,
       "model_id": "a33e92df05d743548267187aee07ff60"
      }
     },
     "metadata": {},
     "output_type": "display_data"
    },
    {
     "name": "stdout",
     "output_type": "stream",
     "text": [
      "y_new - y_current is -2.8787936562709433: \n",
      "---------- 21/L ----------\n",
      "\n",
      "---------- 22/L ----------\n",
      "\n",
      "x_new before clipping:  [0.40276465 2.48783976 4.5252102 ]\n",
      "x_new after clipping:  [0.3       2.        4.5252102]\n"
     ]
    },
    {
     "data": {
      "text/plain": "solve for U:   0%|          | 0/831 [00:00<?, ?it/s]",
      "application/vnd.jupyter.widget-view+json": {
       "version_major": 2,
       "version_minor": 0,
       "model_id": "6813846cd3a04c33953adf2c14270b68"
      }
     },
     "metadata": {},
     "output_type": "display_data"
    },
    {
     "name": "stdout",
     "output_type": "stream",
     "text": [
      "y_new - y_current is 2.6177584429526632: \n",
      "---------- 22/L ----------\n",
      "\n",
      "---------- 23/L ----------\n",
      "\n",
      "x_new before clipping:  [0.38437955 2.12569263 4.49897251]\n",
      "x_new after clipping:  [0.3        2.         4.49897251]\n"
     ]
    },
    {
     "data": {
      "text/plain": "solve for U:   0%|          | 0/831 [00:00<?, ?it/s]",
      "application/vnd.jupyter.widget-view+json": {
       "version_major": 2,
       "version_minor": 0,
       "model_id": "e4d35c1c7f8b48a58852f09887fbc0fa"
      }
     },
     "metadata": {},
     "output_type": "display_data"
    },
    {
     "name": "stdout",
     "output_type": "stream",
     "text": [
      "y_new - y_current is -0.048123016435241084: \n",
      "---------- 23/L ----------\n",
      "\n",
      "---------- 24/L ----------\n",
      "\n",
      "x_new before clipping:  [-0.30412886  2.08375133  4.40499841]\n",
      "x_new after clipping:  [-0.3         2.          4.40499841]\n"
     ]
    },
    {
     "data": {
      "text/plain": "solve for U:   0%|          | 0/831 [00:00<?, ?it/s]",
      "application/vnd.jupyter.widget-view+json": {
       "version_major": 2,
       "version_minor": 0,
       "model_id": "4a65340ce9f341be9bb2af65008e912f"
      }
     },
     "metadata": {},
     "output_type": "display_data"
    },
    {
     "name": "stdout",
     "output_type": "stream",
     "text": [
      "y_new - y_current is 152.94023400587633: \n",
      "---------- 24/L ----------\n",
      "\n",
      "---------- 25/L ----------\n",
      "\n",
      "x_new before clipping:  [-0.64780881  1.38006055  4.18844829]\n",
      "x_new after clipping:  [-0.3         1.38006055  4.18844829]\n"
     ]
    },
    {
     "data": {
      "text/plain": "solve for U:   0%|          | 0/831 [00:00<?, ?it/s]",
      "application/vnd.jupyter.widget-view+json": {
       "version_major": 2,
       "version_minor": 0,
       "model_id": "73bc9d2b5d34445399183a8a0510f340"
      }
     },
     "metadata": {},
     "output_type": "display_data"
    },
    {
     "name": "stdout",
     "output_type": "stream",
     "text": [
      "y_new - y_current is 39.433923370245225: \n",
      "---------- 25/L ----------\n",
      "\n",
      "---------- 26/L ----------\n",
      "\n",
      "x_new before clipping:  [-0.47501829  1.23847604  4.00886033]\n",
      "x_new after clipping:  [-0.3         1.23847604  4.00886033]\n"
     ]
    },
    {
     "data": {
      "text/plain": "solve for U:   0%|          | 0/831 [00:00<?, ?it/s]",
      "application/vnd.jupyter.widget-view+json": {
       "version_major": 2,
       "version_minor": 0,
       "model_id": "09213bec32174f689a3def61fa56e5c7"
      }
     },
     "metadata": {},
     "output_type": "display_data"
    },
    {
     "name": "stdout",
     "output_type": "stream",
     "text": [
      "y_new - y_current is -8.290696886261628: \n",
      "---------- 26/L ----------\n",
      "\n",
      "---------- 27/L ----------\n",
      "\n",
      "x_new before clipping:  [-0.10976371  0.89665341  3.79652195]\n",
      "x_new after clipping:  [-0.10976371  0.89665341  3.79652195]\n"
     ]
    },
    {
     "data": {
      "text/plain": "solve for U:   0%|          | 0/831 [00:00<?, ?it/s]",
      "application/vnd.jupyter.widget-view+json": {
       "version_major": 2,
       "version_minor": 0,
       "model_id": "53e0b90e5b324c3c8ce925c590d391c6"
      }
     },
     "metadata": {},
     "output_type": "display_data"
    },
    {
     "name": "stdout",
     "output_type": "stream",
     "text": [
      "y_new - y_current is -198.4292055687813: \n",
      "---------- 27/L ----------\n",
      "\n",
      "---------- 28/L ----------\n",
      "\n",
      "x_new before clipping:  [0.03178669 1.1972734  3.9845552 ]\n",
      "x_new after clipping:  [0.03178669 1.1972734  3.9845552 ]\n"
     ]
    },
    {
     "data": {
      "text/plain": "solve for U:   0%|          | 0/831 [00:00<?, ?it/s]",
      "application/vnd.jupyter.widget-view+json": {
       "version_major": 2,
       "version_minor": 0,
       "model_id": "5ba43729e8444678a194b128f7801465"
      }
     },
     "metadata": {},
     "output_type": "display_data"
    },
    {
     "name": "stdout",
     "output_type": "stream",
     "text": [
      "y_new - y_current is 17.627617001874043: \n",
      "---------- 28/L ----------\n",
      "\n",
      "---------- 29/L ----------\n",
      "\n",
      "x_new before clipping:  [-0.22778876  0.82335071  4.01426488]\n",
      "x_new after clipping:  [-0.22778876  0.82335071  4.01426488]\n"
     ]
    },
    {
     "data": {
      "text/plain": "solve for U:   0%|          | 0/831 [00:00<?, ?it/s]",
      "application/vnd.jupyter.widget-view+json": {
       "version_major": 2,
       "version_minor": 0,
       "model_id": "414569229aa34b458e2b6a3e622fbc9f"
      }
     },
     "metadata": {},
     "output_type": "display_data"
    },
    {
     "name": "stdout",
     "output_type": "stream",
     "text": [
      "y_new - y_current is 14.86515903852603: \n",
      "---------- 29/L ----------\n",
      "\n",
      "---------- 30/L ----------\n",
      "\n",
      "x_new before clipping:  [-0.20843866  1.12663355  4.10330855]\n",
      "x_new after clipping:  [-0.20843866  1.12663355  4.10330855]\n"
     ]
    },
    {
     "data": {
      "text/plain": "solve for U:   0%|          | 0/831 [00:00<?, ?it/s]",
      "application/vnd.jupyter.widget-view+json": {
       "version_major": 2,
       "version_minor": 0,
       "model_id": "a9f23ea67f3c4bf78ed8e64737d73ae2"
      }
     },
     "metadata": {},
     "output_type": "display_data"
    },
    {
     "name": "stdout",
     "output_type": "stream",
     "text": [
      "y_new - y_current is 89.20155697269823: \n",
      "---------- 30/L ----------\n",
      "\n",
      "---------- 31/L ----------\n",
      "\n",
      "x_new before clipping:  [-0.91136793  0.83758198  4.11584516]\n",
      "x_new after clipping:  [-0.3         0.83758198  4.11584516]\n"
     ]
    },
    {
     "data": {
      "text/plain": "solve for U:   0%|          | 0/831 [00:00<?, ?it/s]",
      "application/vnd.jupyter.widget-view+json": {
       "version_major": 2,
       "version_minor": 0,
       "model_id": "4e02213e9bf74043ba54e61c2e8a96ad"
      }
     },
     "metadata": {},
     "output_type": "display_data"
    },
    {
     "name": "stdout",
     "output_type": "stream",
     "text": [
      "y_new - y_current is -38.59044834667529: \n",
      "---------- 31/L ----------\n",
      "\n",
      "---------- 32/L ----------\n",
      "\n",
      "x_new before clipping:  [-0.3145082   0.72644483  4.26387372]\n",
      "x_new after clipping:  [-0.3         0.72644483  4.26387372]\n"
     ]
    },
    {
     "data": {
      "text/plain": "solve for U:   0%|          | 0/831 [00:00<?, ?it/s]",
      "application/vnd.jupyter.widget-view+json": {
       "version_major": 2,
       "version_minor": 0,
       "model_id": "2ac60e21d48f498cb969598f2ba7447e"
      }
     },
     "metadata": {},
     "output_type": "display_data"
    },
    {
     "name": "stdout",
     "output_type": "stream",
     "text": [
      "y_new - y_current is -59.23668743285921: \n",
      "---------- 32/L ----------\n",
      "\n",
      "---------- 33/L ----------\n",
      "\n",
      "x_new before clipping:  [-0.53566594  1.07285116  4.81023742]\n",
      "x_new after clipping:  [-0.3         1.07285116  4.81023742]\n"
     ]
    },
    {
     "data": {
      "text/plain": "solve for U:   0%|          | 0/831 [00:00<?, ?it/s]",
      "application/vnd.jupyter.widget-view+json": {
       "version_major": 2,
       "version_minor": 0,
       "model_id": "8d141bb97a044be38515ac9a3f428db2"
      }
     },
     "metadata": {},
     "output_type": "display_data"
    },
    {
     "name": "stdout",
     "output_type": "stream",
     "text": [
      "y_new - y_current is 150.83682847670605: \n",
      "---------- 33/L ----------\n",
      "\n",
      "---------- 34/L ----------\n",
      "\n",
      "x_new before clipping:  [-0.2939353   0.95394537  4.44107423]\n",
      "x_new after clipping:  [-0.2939353   0.95394537  4.44107423]\n"
     ]
    },
    {
     "data": {
      "text/plain": "solve for U:   0%|          | 0/831 [00:00<?, ?it/s]",
      "application/vnd.jupyter.widget-view+json": {
       "version_major": 2,
       "version_minor": 0,
       "model_id": "fa3b163257ad4d689edd7dffa3790e63"
      }
     },
     "metadata": {},
     "output_type": "display_data"
    },
    {
     "name": "stdout",
     "output_type": "stream",
     "text": [
      "y_new - y_current is -42.533386415999445: \n",
      "---------- 34/L ----------\n",
      "\n",
      "---------- 35/L ----------\n",
      "\n",
      "x_new before clipping:  [-0.194633    1.42170642  4.24362083]\n",
      "x_new after clipping:  [-0.194633    1.42170642  4.24362083]\n"
     ]
    },
    {
     "data": {
      "text/plain": "solve for U:   0%|          | 0/831 [00:00<?, ?it/s]",
      "application/vnd.jupyter.widget-view+json": {
       "version_major": 2,
       "version_minor": 0,
       "model_id": "b5397e6bd1ca4ba89a8633eecc93cc4f"
      }
     },
     "metadata": {},
     "output_type": "display_data"
    },
    {
     "name": "stdout",
     "output_type": "stream",
     "text": [
      "y_new - y_current is 11.329247066084264: \n",
      "---------- 35/L ----------\n",
      "\n",
      "---------- 36/L ----------\n",
      "\n",
      "x_new before clipping:  [0.06550263 1.92544812 4.18735902]\n",
      "x_new after clipping:  [0.06550263 1.92544812 4.18735902]\n"
     ]
    },
    {
     "data": {
      "text/plain": "solve for U:   0%|          | 0/831 [00:00<?, ?it/s]",
      "application/vnd.jupyter.widget-view+json": {
       "version_major": 2,
       "version_minor": 0,
       "model_id": "e2c161f374064ea89eada60e3d164b31"
      }
     },
     "metadata": {},
     "output_type": "display_data"
    },
    {
     "name": "stdout",
     "output_type": "stream",
     "text": [
      "y_new - y_current is -125.23423396114586: \n",
      "---------- 36/L ----------\n",
      "\n",
      "---------- 37/L ----------\n",
      "\n",
      "x_new before clipping:  [0.22913781 2.1303682  4.36839748]\n",
      "x_new after clipping:  [0.22913781 2.         4.36839748]\n"
     ]
    },
    {
     "data": {
      "text/plain": "solve for U:   0%|          | 0/831 [00:00<?, ?it/s]",
      "application/vnd.jupyter.widget-view+json": {
       "version_major": 2,
       "version_minor": 0,
       "model_id": "d9055d066ccd4d7086f1c1ebb7f56351"
      }
     },
     "metadata": {},
     "output_type": "display_data"
    },
    {
     "name": "stdout",
     "output_type": "stream",
     "text": [
      "y_new - y_current is -7.833602873672405: \n",
      "---------- 37/L ----------\n",
      "\n",
      "---------- 38/L ----------\n",
      "\n",
      "x_new before clipping:  [0.12377507 1.80278395 4.66994265]\n",
      "x_new after clipping:  [0.12377507 1.80278395 4.66994265]\n"
     ]
    },
    {
     "data": {
      "text/plain": "solve for U:   0%|          | 0/831 [00:00<?, ?it/s]",
      "application/vnd.jupyter.widget-view+json": {
       "version_major": 2,
       "version_minor": 0,
       "model_id": "1b312782d91b43c0aba41ad47937b72d"
      }
     },
     "metadata": {},
     "output_type": "display_data"
    },
    {
     "name": "stdout",
     "output_type": "stream",
     "text": [
      "y_new - y_current is 5.675485560415538: \n",
      "---------- 38/L ----------\n",
      "\n",
      "---------- 39/L ----------\n",
      "\n",
      "x_new before clipping:  [0.1470069  2.45589205 4.12722355]\n",
      "x_new after clipping:  [0.1470069  2.         4.12722355]\n"
     ]
    },
    {
     "data": {
      "text/plain": "solve for U:   0%|          | 0/831 [00:00<?, ?it/s]",
      "application/vnd.jupyter.widget-view+json": {
       "version_major": 2,
       "version_minor": 0,
       "model_id": "1253978866454ed78dd07297bfdd7720"
      }
     },
     "metadata": {},
     "output_type": "display_data"
    },
    {
     "name": "stdout",
     "output_type": "stream",
     "text": [
      "y_new - y_current is -6.923129200099808: \n",
      "---------- 39/L ----------\n",
      "\n",
      "---------- 40/L ----------\n",
      "\n",
      "x_new before clipping:  [-0.13208989  2.43243757  4.08134151]\n",
      "x_new after clipping:  [-0.13208989  2.          4.08134151]\n"
     ]
    },
    {
     "data": {
      "text/plain": "solve for U:   0%|          | 0/831 [00:00<?, ?it/s]",
      "application/vnd.jupyter.widget-view+json": {
       "version_major": 2,
       "version_minor": 0,
       "model_id": "fc531c6a9a1043f0b08b214348021571"
      }
     },
     "metadata": {},
     "output_type": "display_data"
    },
    {
     "name": "stdout",
     "output_type": "stream",
     "text": [
      "y_new - y_current is 73.95778239914178: \n",
      "---------- 40/L ----------\n",
      "\n",
      "---------- 41/L ----------\n",
      "\n",
      "x_new before clipping:  [0.06486032 2.14609919 4.01693008]\n",
      "x_new after clipping:  [0.06486032 2.         4.01693008]\n"
     ]
    },
    {
     "data": {
      "text/plain": "solve for U:   0%|          | 0/831 [00:00<?, ?it/s]",
      "application/vnd.jupyter.widget-view+json": {
       "version_major": 2,
       "version_minor": 0,
       "model_id": "118135236a6e4cac819398ace8e33322"
      }
     },
     "metadata": {},
     "output_type": "display_data"
    },
    {
     "name": "stdout",
     "output_type": "stream",
     "text": [
      "y_new - y_current is -67.44238994094937: \n",
      "---------- 41/L ----------\n",
      "\n",
      "---------- 42/L ----------\n",
      "\n",
      "x_new before clipping:  [0.578958   2.24749435 3.91425099]\n",
      "x_new after clipping:  [0.3        2.         3.91425099]\n"
     ]
    },
    {
     "data": {
      "text/plain": "solve for U:   0%|          | 0/831 [00:00<?, ?it/s]",
      "application/vnd.jupyter.widget-view+json": {
       "version_major": 2,
       "version_minor": 0,
       "model_id": "f3fd3fc62fad436199f878b2722e1f18"
      }
     },
     "metadata": {},
     "output_type": "display_data"
    },
    {
     "name": "stdout",
     "output_type": "stream",
     "text": [
      "y_new - y_current is -2.523908358807148: \n",
      "---------- 42/L ----------\n",
      "\n",
      "---------- 43/L ----------\n",
      "\n",
      "x_new before clipping:  [0.40837109 1.62104826 4.06779656]\n",
      "x_new after clipping:  [0.3        1.62104826 4.06779656]\n"
     ]
    },
    {
     "data": {
      "text/plain": "solve for U:   0%|          | 0/831 [00:00<?, ?it/s]",
      "application/vnd.jupyter.widget-view+json": {
       "version_major": 2,
       "version_minor": 0,
       "model_id": "e02b7e83e815475188bcb3c46e3c6408"
      }
     },
     "metadata": {},
     "output_type": "display_data"
    },
    {
     "name": "stdout",
     "output_type": "stream",
     "text": [
      "y_new - y_current is 4.358145812316536: \n",
      "---------- 43/L ----------\n",
      "\n",
      "---------- 44/L ----------\n",
      "\n",
      "x_new before clipping:  [0.2016164  2.08059785 3.93840304]\n",
      "x_new after clipping:  [0.2016164  2.         3.93840304]\n"
     ]
    },
    {
     "data": {
      "text/plain": "solve for U:   0%|          | 0/831 [00:00<?, ?it/s]",
      "application/vnd.jupyter.widget-view+json": {
       "version_major": 2,
       "version_minor": 0,
       "model_id": "c552867b499342328e254649efffb592"
      }
     },
     "metadata": {},
     "output_type": "display_data"
    },
    {
     "name": "stdout",
     "output_type": "stream",
     "text": [
      "y_new - y_current is -8.866923282156165: \n",
      "---------- 44/L ----------\n",
      "\n",
      "---------- 45/L ----------\n",
      "\n",
      "x_new before clipping:  [0.02917662 1.96066553 4.01314222]\n",
      "x_new after clipping:  [0.02917662 1.96066553 4.01314222]\n"
     ]
    },
    {
     "data": {
      "text/plain": "solve for U:   0%|          | 0/831 [00:00<?, ?it/s]",
      "application/vnd.jupyter.widget-view+json": {
       "version_major": 2,
       "version_minor": 0,
       "model_id": "272953dcd0ae43faa9bb87272989e7a0"
      }
     },
     "metadata": {},
     "output_type": "display_data"
    },
    {
     "name": "stdout",
     "output_type": "stream",
     "text": [
      "y_new - y_current is 15.055073567124424: \n",
      "---------- 45/L ----------\n",
      "\n",
      "---------- 46/L ----------\n",
      "\n",
      "x_new before clipping:  [0.02728763 2.27681657 4.36182186]\n",
      "x_new after clipping:  [0.02728763 2.         4.36182186]\n"
     ]
    },
    {
     "data": {
      "text/plain": "solve for U:   0%|          | 0/831 [00:00<?, ?it/s]",
      "application/vnd.jupyter.widget-view+json": {
       "version_major": 2,
       "version_minor": 0,
       "model_id": "f593c99dc753408eab3b200b2cb527dd"
      }
     },
     "metadata": {},
     "output_type": "display_data"
    },
    {
     "name": "stdout",
     "output_type": "stream",
     "text": [
      "y_new - y_current is 0.19803195940394858: \n",
      "---------- 46/L ----------\n",
      "\n",
      "---------- 47/L ----------\n",
      "\n",
      "x_new before clipping:  [-0.00880794  2.29081872  4.5697603 ]\n",
      "x_new after clipping:  [-0.00880794  2.          4.5697603 ]\n"
     ]
    },
    {
     "data": {
      "text/plain": "solve for U:   0%|          | 0/831 [00:00<?, ?it/s]",
      "application/vnd.jupyter.widget-view+json": {
       "version_major": 2,
       "version_minor": 0,
       "model_id": "68e5e4164f214f09ae29be6179116c0f"
      }
     },
     "metadata": {},
     "output_type": "display_data"
    },
    {
     "name": "stdout",
     "output_type": "stream",
     "text": [
      "y_new - y_current is 10.44472087964553: \n",
      "---------- 47/L ----------\n",
      "\n",
      "---------- 48/L ----------\n",
      "\n",
      "x_new before clipping:  [0.14041012 1.72342357 4.02409438]\n",
      "x_new after clipping:  [0.14041012 1.72342357 4.02409438]\n"
     ]
    },
    {
     "data": {
      "text/plain": "solve for U:   0%|          | 0/831 [00:00<?, ?it/s]",
      "application/vnd.jupyter.widget-view+json": {
       "version_major": 2,
       "version_minor": 0,
       "model_id": "1ccb6c8b33e44dd6ad677129fdf09c58"
      }
     },
     "metadata": {},
     "output_type": "display_data"
    },
    {
     "name": "stdout",
     "output_type": "stream",
     "text": [
      "y_new - y_current is -20.01398020343487: \n",
      "---------- 48/L ----------\n",
      "\n",
      "---------- 49/L ----------\n",
      "\n",
      "x_new before clipping:  [-0.02507902  1.84775204  4.55617837]\n",
      "x_new after clipping:  [-0.02507902  1.84775204  4.55617837]\n"
     ]
    },
    {
     "data": {
      "text/plain": "solve for U:   0%|          | 0/831 [00:00<?, ?it/s]",
      "application/vnd.jupyter.widget-view+json": {
       "version_major": 2,
       "version_minor": 0,
       "model_id": "02dda89364ed4f78b991ec52318ce488"
      }
     },
     "metadata": {},
     "output_type": "display_data"
    },
    {
     "name": "stdout",
     "output_type": "stream",
     "text": [
      "y_new - y_current is 32.24900252026481: \n",
      "---------- 49/L ----------\n",
      "\n",
      "-------------- 3_th iteration --------------\n",
      "\n",
      "---------- 0/L ----------\n",
      "\n",
      "x_new before clipping:  [-0.27280122  1.54278875  4.47877294]\n",
      "x_new after clipping:  [-0.27280122  1.54278875  4.47877294]\n"
     ]
    },
    {
     "data": {
      "text/plain": "solve for U:   0%|          | 0/831 [00:00<?, ?it/s]",
      "application/vnd.jupyter.widget-view+json": {
       "version_major": 2,
       "version_minor": 0,
       "model_id": "72627389f7334d4f8dc4bf9668b60da1"
      }
     },
     "metadata": {},
     "output_type": "display_data"
    },
    {
     "name": "stdout",
     "output_type": "stream",
     "text": [
      "y_new - y_current is 142.9218170058524: \n",
      "---------- 0/L ----------\n",
      "\n",
      "---------- 1/L ----------\n",
      "\n",
      "x_new before clipping:  [-0.28900835  1.24676444  4.39539121]\n",
      "x_new after clipping:  [-0.28900835  1.24676444  4.39539121]\n"
     ]
    },
    {
     "data": {
      "text/plain": "solve for U:   0%|          | 0/831 [00:00<?, ?it/s]",
      "application/vnd.jupyter.widget-view+json": {
       "version_major": 2,
       "version_minor": 0,
       "model_id": "9cbb7ccf53664374a40f57ccaadf1dbb"
      }
     },
     "metadata": {},
     "output_type": "display_data"
    },
    {
     "name": "stdout",
     "output_type": "stream",
     "text": [
      "y_new - y_current is 4.305199982523959: \n",
      "---------- 1/L ----------\n",
      "\n",
      "---------- 2/L ----------\n",
      "\n",
      "x_new before clipping:  [0.02163992 1.1115581  4.66982238]\n",
      "x_new after clipping:  [0.02163992 1.1115581  4.66982238]\n"
     ]
    },
    {
     "data": {
      "text/plain": "solve for U:   0%|          | 0/831 [00:00<?, ?it/s]",
      "application/vnd.jupyter.widget-view+json": {
       "version_major": 2,
       "version_minor": 0,
       "model_id": "8a3cec1924c04c81af13ba53dd901f70"
      }
     },
     "metadata": {},
     "output_type": "display_data"
    },
    {
     "name": "stdout",
     "output_type": "stream",
     "text": [
      "y_new - y_current is -180.8726695553475: \n",
      "---------- 2/L ----------\n",
      "\n",
      "---------- 3/L ----------\n",
      "\n",
      "x_new before clipping:  [-0.12923822  1.00856507  4.57871696]\n",
      "x_new after clipping:  [-0.12923822  1.00856507  4.57871696]\n"
     ]
    },
    {
     "data": {
      "text/plain": "solve for U:   0%|          | 0/831 [00:00<?, ?it/s]",
      "application/vnd.jupyter.widget-view+json": {
       "version_major": 2,
       "version_minor": 0,
       "model_id": "aee1ce7475d74402a5b9aef1a1647442"
      }
     },
     "metadata": {},
     "output_type": "display_data"
    },
    {
     "name": "stdout",
     "output_type": "stream",
     "text": [
      "y_new - y_current is 33.24800013523627: \n",
      "---------- 3/L ----------\n",
      "\n",
      "---------- 4/L ----------\n",
      "\n",
      "x_new before clipping:  [0.26007357 1.23903505 4.38198728]\n",
      "x_new after clipping:  [0.26007357 1.23903505 4.38198728]\n"
     ]
    },
    {
     "data": {
      "text/plain": "solve for U:   0%|          | 0/831 [00:00<?, ?it/s]",
      "application/vnd.jupyter.widget-view+json": {
       "version_major": 2,
       "version_minor": 0,
       "model_id": "521c376d528c4eeab73af2749a86ca49"
      }
     },
     "metadata": {},
     "output_type": "display_data"
    },
    {
     "name": "stdout",
     "output_type": "stream",
     "text": [
      "y_new - y_current is -35.09220246836473: \n",
      "---------- 4/L ----------\n",
      "\n",
      "---------- 5/L ----------\n",
      "\n",
      "x_new before clipping:  [0.57708163 1.50834579 4.18034714]\n",
      "x_new after clipping:  [0.3        1.50834579 4.18034714]\n"
     ]
    },
    {
     "data": {
      "text/plain": "solve for U:   0%|          | 0/831 [00:00<?, ?it/s]",
      "application/vnd.jupyter.widget-view+json": {
       "version_major": 2,
       "version_minor": 0,
       "model_id": "c744ba5f0d274df395e21979a95078fe"
      }
     },
     "metadata": {},
     "output_type": "display_data"
    },
    {
     "name": "stdout",
     "output_type": "stream",
     "text": [
      "y_new - y_current is 6.683701680868623: \n",
      "---------- 5/L ----------\n",
      "\n",
      "---------- 6/L ----------\n",
      "\n",
      "x_new before clipping:  [-0.01587436  1.4326541   4.18117333]\n",
      "x_new after clipping:  [-0.01587436  1.4326541   4.18117333]\n"
     ]
    },
    {
     "data": {
      "text/plain": "solve for U:   0%|          | 0/831 [00:00<?, ?it/s]",
      "application/vnd.jupyter.widget-view+json": {
       "version_major": 2,
       "version_minor": 0,
       "model_id": "680a5a2b77cb4dd2ae2a54934fb51a8b"
      }
     },
     "metadata": {},
     "output_type": "display_data"
    },
    {
     "name": "stdout",
     "output_type": "stream",
     "text": [
      "y_new - y_current is 32.20378605668756: \n",
      "---------- 6/L ----------\n",
      "\n",
      "---------- 7/L ----------\n",
      "\n",
      "x_new before clipping:  [-0.24583798  1.49143651  4.2014068 ]\n",
      "x_new after clipping:  [-0.24583798  1.49143651  4.2014068 ]\n"
     ]
    },
    {
     "data": {
      "text/plain": "solve for U:   0%|          | 0/831 [00:00<?, ?it/s]",
      "application/vnd.jupyter.widget-view+json": {
       "version_major": 2,
       "version_minor": 0,
       "model_id": "25c80d6faaa04bb3b69889be8f7f5d8d"
      }
     },
     "metadata": {},
     "output_type": "display_data"
    },
    {
     "name": "stdout",
     "output_type": "stream",
     "text": [
      "y_new - y_current is 123.86091238432817: \n",
      "---------- 7/L ----------\n",
      "\n",
      "---------- 8/L ----------\n",
      "\n",
      "x_new before clipping:  [-0.20416478  1.4527824   4.42855431]\n",
      "x_new after clipping:  [-0.20416478  1.4527824   4.42855431]\n"
     ]
    },
    {
     "data": {
      "text/plain": "solve for U:   0%|          | 0/831 [00:00<?, ?it/s]",
      "application/vnd.jupyter.widget-view+json": {
       "version_major": 2,
       "version_minor": 0,
       "model_id": "5da13c04ea6b4bbd9dd0dbd0c806e8d0"
      }
     },
     "metadata": {},
     "output_type": "display_data"
    },
    {
     "name": "stdout",
     "output_type": "stream",
     "text": [
      "y_new - y_current is -23.350375908186095: \n",
      "---------- 8/L ----------\n",
      "\n",
      "---------- 9/L ----------\n",
      "\n",
      "x_new before clipping:  [-0.2612864   1.37644419  4.25740284]\n",
      "x_new after clipping:  [-0.2612864   1.37644419  4.25740284]\n"
     ]
    },
    {
     "data": {
      "text/plain": "solve for U:   0%|          | 0/831 [00:00<?, ?it/s]",
      "application/vnd.jupyter.widget-view+json": {
       "version_major": 2,
       "version_minor": 0,
       "model_id": "35a87bc79422474ba18d1e9bb7402e1f"
      }
     },
     "metadata": {},
     "output_type": "display_data"
    },
    {
     "name": "stdout",
     "output_type": "stream",
     "text": [
      "y_new - y_current is 32.564040888903605: \n",
      "---------- 9/L ----------\n",
      "\n",
      "---------- 10/L ----------\n",
      "\n",
      "x_new before clipping:  [-0.27670705  1.59900723  4.17874736]\n",
      "x_new after clipping:  [-0.27670705  1.59900723  4.17874736]\n"
     ]
    },
    {
     "data": {
      "text/plain": "solve for U:   0%|          | 0/831 [00:00<?, ?it/s]",
      "application/vnd.jupyter.widget-view+json": {
       "version_major": 2,
       "version_minor": 0,
       "model_id": "872afd62df114b36abc5f9c88668077f"
      }
     },
     "metadata": {},
     "output_type": "display_data"
    },
    {
     "name": "stdout",
     "output_type": "stream",
     "text": [
      "y_new - y_current is 4.725272488131736: \n",
      "---------- 10/L ----------\n",
      "\n",
      "---------- 11/L ----------\n",
      "\n",
      "x_new before clipping:  [-0.46177903  1.3327926   3.88702001]\n",
      "x_new after clipping:  [-0.3         1.3327926   3.88702001]\n"
     ]
    },
    {
     "data": {
      "text/plain": "solve for U:   0%|          | 0/831 [00:00<?, ?it/s]",
      "application/vnd.jupyter.widget-view+json": {
       "version_major": 2,
       "version_minor": 0,
       "model_id": "d85b7ae3c1a24b538b4113d049fdcef1"
      }
     },
     "metadata": {},
     "output_type": "display_data"
    },
    {
     "name": "stdout",
     "output_type": "stream",
     "text": [
      "y_new - y_current is 16.20660517352087: \n",
      "---------- 11/L ----------\n",
      "\n",
      "---------- 12/L ----------\n",
      "\n",
      "x_new before clipping:  [-0.51953554  1.55938303  3.61898664]\n",
      "x_new after clipping:  [-0.3         1.55938303  3.61898664]\n"
     ]
    },
    {
     "data": {
      "text/plain": "solve for U:   0%|          | 0/831 [00:00<?, ?it/s]",
      "application/vnd.jupyter.widget-view+json": {
       "version_major": 2,
       "version_minor": 0,
       "model_id": "dc073f4168304e16b13d049af1de6175"
      }
     },
     "metadata": {},
     "output_type": "display_data"
    },
    {
     "name": "stdout",
     "output_type": "stream",
     "text": [
      "y_new - y_current is -3.6011209549189402: \n",
      "---------- 12/L ----------\n",
      "\n",
      "---------- 13/L ----------\n",
      "\n",
      "x_new before clipping:  [-0.52553351  1.78617909  3.45395577]\n",
      "x_new after clipping:  [-0.3         1.78617909  3.45395577]\n"
     ]
    },
    {
     "data": {
      "text/plain": "solve for U:   0%|          | 0/831 [00:00<?, ?it/s]",
      "application/vnd.jupyter.widget-view+json": {
       "version_major": 2,
       "version_minor": 0,
       "model_id": "fea7c78552d147f38a3215f60bbd0fd4"
      }
     },
     "metadata": {},
     "output_type": "display_data"
    },
    {
     "name": "stdout",
     "output_type": "stream",
     "text": [
      "y_new - y_current is -16.77704080827675: \n",
      "---------- 13/L ----------\n",
      "\n",
      "---------- 14/L ----------\n",
      "\n",
      "x_new before clipping:  [-0.07999484  1.93399306  3.63790485]\n",
      "x_new after clipping:  [-0.07999484  1.93399306  3.63790485]\n"
     ]
    },
    {
     "data": {
      "text/plain": "solve for U:   0%|          | 0/831 [00:00<?, ?it/s]",
      "application/vnd.jupyter.widget-view+json": {
       "version_major": 2,
       "version_minor": 0,
       "model_id": "a52117b35f8b4837863752da41edefed"
      }
     },
     "metadata": {},
     "output_type": "display_data"
    },
    {
     "name": "stdout",
     "output_type": "stream",
     "text": [
      "y_new - y_current is -122.4836321273742: \n",
      "---------- 14/L ----------\n",
      "\n",
      "---------- 15/L ----------\n",
      "\n",
      "x_new before clipping:  [-8.06966006e-05  2.36328447e+00  3.93310760e+00]\n",
      "x_new after clipping:  [-8.06966006e-05  2.00000000e+00  3.93310760e+00]\n"
     ]
    },
    {
     "data": {
      "text/plain": "solve for U:   0%|          | 0/831 [00:00<?, ?it/s]",
      "application/vnd.jupyter.widget-view+json": {
       "version_major": 2,
       "version_minor": 0,
       "model_id": "95b1a620bd694a42a1de552253dea52c"
      }
     },
     "metadata": {},
     "output_type": "display_data"
    },
    {
     "name": "stdout",
     "output_type": "stream",
     "text": [
      "y_new - y_current is -31.478758346999: \n",
      "---------- 15/L ----------\n",
      "\n",
      "---------- 16/L ----------\n",
      "\n",
      "x_new before clipping:  [-0.25445552  2.11184022  4.13865593]\n",
      "x_new after clipping:  [-0.25445552  2.          4.13865593]\n"
     ]
    },
    {
     "data": {
      "text/plain": "solve for U:   0%|          | 0/831 [00:00<?, ?it/s]",
      "application/vnd.jupyter.widget-view+json": {
       "version_major": 2,
       "version_minor": 0,
       "model_id": "2537032b881542cdb6b6e016a63e09fa"
      }
     },
     "metadata": {},
     "output_type": "display_data"
    },
    {
     "name": "stdout",
     "output_type": "stream",
     "text": [
      "y_new - y_current is 114.02045427025249: \n",
      "---------- 16/L ----------\n",
      "\n",
      "---------- 17/L ----------\n",
      "\n",
      "x_new before clipping:  [-0.55356813  2.04374216  4.43188066]\n",
      "x_new after clipping:  [-0.3         2.          4.43188066]\n"
     ]
    },
    {
     "data": {
      "text/plain": "solve for U:   0%|          | 0/831 [00:00<?, ?it/s]",
      "application/vnd.jupyter.widget-view+json": {
       "version_major": 2,
       "version_minor": 0,
       "model_id": "5b45e86d6f8a4270b331c7075cc71c71"
      }
     },
     "metadata": {},
     "output_type": "display_data"
    },
    {
     "name": "stdout",
     "output_type": "stream",
     "text": [
      "y_new - y_current is 23.69735320233147: \n",
      "---------- 17/L ----------\n",
      "\n",
      "---------- 18/L ----------\n",
      "\n",
      "x_new before clipping:  [-0.32351127  2.08879653  4.5429824 ]\n",
      "x_new after clipping:  [-0.3        2.         4.5429824]\n"
     ]
    },
    {
     "data": {
      "text/plain": "solve for U:   0%|          | 0/831 [00:00<?, ?it/s]",
      "application/vnd.jupyter.widget-view+json": {
       "version_major": 2,
       "version_minor": 0,
       "model_id": "f4f3baee72b94aa9a534c776137eab3d"
      }
     },
     "metadata": {},
     "output_type": "display_data"
    },
    {
     "name": "stdout",
     "output_type": "stream",
     "text": [
      "y_new - y_current is 0.3880966130626575: \n",
      "---------- 18/L ----------\n",
      "\n",
      "---------- 19/L ----------\n",
      "\n",
      "x_new before clipping:  [-0.30714934  2.17431542  4.78300364]\n",
      "x_new after clipping:  [-0.3         2.          4.78300364]\n"
     ]
    },
    {
     "data": {
      "text/plain": "solve for U:   0%|          | 0/831 [00:00<?, ?it/s]",
      "application/vnd.jupyter.widget-view+json": {
       "version_major": 2,
       "version_minor": 0,
       "model_id": "c03a471b12cc40a88809bda6ad17d8a2"
      }
     },
     "metadata": {},
     "output_type": "display_data"
    },
    {
     "name": "stdout",
     "output_type": "stream",
     "text": [
      "y_new - y_current is 0.807847432755068: \n",
      "---------- 19/L ----------\n",
      "\n",
      "---------- 20/L ----------\n",
      "\n",
      "x_new before clipping:  [-0.27828803  2.52982006  4.6816022 ]\n",
      "x_new after clipping:  [-0.27828803  2.          4.6816022 ]\n"
     ]
    },
    {
     "data": {
      "text/plain": "solve for U:   0%|          | 0/831 [00:00<?, ?it/s]",
      "application/vnd.jupyter.widget-view+json": {
       "version_major": 2,
       "version_minor": 0,
       "model_id": "78ca77d0f33746369163ae305f50e2f9"
      }
     },
     "metadata": {},
     "output_type": "display_data"
    },
    {
     "name": "stdout",
     "output_type": "stream",
     "text": [
      "y_new - y_current is -11.081232684213205: \n",
      "---------- 20/L ----------\n",
      "\n",
      "---------- 21/L ----------\n",
      "\n",
      "x_new before clipping:  [-0.18993739  2.23270503  4.3926422 ]\n",
      "x_new after clipping:  [-0.18993739  2.          4.3926422 ]\n"
     ]
    },
    {
     "data": {
      "text/plain": "solve for U:   0%|          | 0/831 [00:00<?, ?it/s]",
      "application/vnd.jupyter.widget-view+json": {
       "version_major": 2,
       "version_minor": 0,
       "model_id": "1ddbb02300074a428df8faf74c71f55d"
      }
     },
     "metadata": {},
     "output_type": "display_data"
    },
    {
     "name": "stdout",
     "output_type": "stream",
     "text": [
      "y_new - y_current is -44.95687734837088: \n",
      "---------- 21/L ----------\n",
      "\n",
      "---------- 22/L ----------\n",
      "\n",
      "x_new before clipping:  [0.01066325 1.9560858  4.07328098]\n",
      "x_new after clipping:  [0.01066325 1.9560858  4.07328098]\n"
     ]
    },
    {
     "data": {
      "text/plain": "solve for U:   0%|          | 0/831 [00:00<?, ?it/s]",
      "application/vnd.jupyter.widget-view+json": {
       "version_major": 2,
       "version_minor": 0,
       "model_id": "90018ac24076455398877070c68a31d1"
      }
     },
     "metadata": {},
     "output_type": "display_data"
    },
    {
     "name": "stdout",
     "output_type": "stream",
     "text": [
      "y_new - y_current is -83.75552555010577: \n",
      "---------- 22/L ----------\n",
      "\n",
      "---------- 23/L ----------\n",
      "\n",
      "x_new before clipping:  [0.05366589 2.02894644 4.28914123]\n",
      "x_new after clipping:  [0.05366589 2.         4.28914123]\n"
     ]
    },
    {
     "data": {
      "text/plain": "solve for U:   0%|          | 0/831 [00:00<?, ?it/s]",
      "application/vnd.jupyter.widget-view+json": {
       "version_major": 2,
       "version_minor": 0,
       "model_id": "493f7a718b03450bbd58e3ff0c708ce0"
      }
     },
     "metadata": {},
     "output_type": "display_data"
    },
    {
     "name": "stdout",
     "output_type": "stream",
     "text": [
      "y_new - y_current is -10.448157901653786: \n",
      "---------- 23/L ----------\n",
      "\n",
      "---------- 24/L ----------\n",
      "\n",
      "x_new before clipping:  [0.39928519 2.45721383 4.34740819]\n",
      "x_new after clipping:  [0.3        2.         4.34740819]\n"
     ]
    },
    {
     "data": {
      "text/plain": "solve for U:   0%|          | 0/831 [00:00<?, ?it/s]",
      "application/vnd.jupyter.widget-view+json": {
       "version_major": 2,
       "version_minor": 0,
       "model_id": "5c49529e69624a51a071de72146b85fa"
      }
     },
     "metadata": {},
     "output_type": "display_data"
    },
    {
     "name": "stdout",
     "output_type": "stream",
     "text": [
      "y_new - y_current is -4.2745222469984725: \n",
      "---------- 24/L ----------\n",
      "\n",
      "---------- 25/L ----------\n",
      "\n",
      "x_new before clipping:  [0.24298642 1.75765831 4.62300366]\n",
      "x_new after clipping:  [0.24298642 1.75765831 4.62300366]\n"
     ]
    },
    {
     "data": {
      "text/plain": "solve for U:   0%|          | 0/831 [00:00<?, ?it/s]",
      "application/vnd.jupyter.widget-view+json": {
       "version_major": 2,
       "version_minor": 0,
       "model_id": "0ba4d137a91f47b2a9b63347d4295f37"
      }
     },
     "metadata": {},
     "output_type": "display_data"
    },
    {
     "name": "stdout",
     "output_type": "stream",
     "text": [
      "y_new - y_current is 1.352513713321997: \n",
      "---------- 25/L ----------\n",
      "\n",
      "---------- 26/L ----------\n",
      "\n",
      "x_new before clipping:  [0.28681547 1.99686596 4.61604504]\n",
      "x_new after clipping:  [0.28681547 1.99686596 4.61604504]\n"
     ]
    },
    {
     "data": {
      "text/plain": "solve for U:   0%|          | 0/831 [00:00<?, ?it/s]",
      "application/vnd.jupyter.widget-view+json": {
       "version_major": 2,
       "version_minor": 0,
       "model_id": "4ef2457da1c54da9be960b07b4be1a1b"
      }
     },
     "metadata": {},
     "output_type": "display_data"
    },
    {
     "name": "stdout",
     "output_type": "stream",
     "text": [
      "y_new - y_current is -1.6261119151940875: \n",
      "---------- 26/L ----------\n",
      "\n",
      "---------- 27/L ----------\n",
      "\n",
      "x_new before clipping:  [0.54248609 2.13893844 4.74936831]\n",
      "x_new after clipping:  [0.3        2.         4.74936831]\n"
     ]
    },
    {
     "data": {
      "text/plain": "solve for U:   0%|          | 0/831 [00:00<?, ?it/s]",
      "application/vnd.jupyter.widget-view+json": {
       "version_major": 2,
       "version_minor": 0,
       "model_id": "bb6fe04b3eb74ec5835ef4483c09bb2c"
      }
     },
     "metadata": {},
     "output_type": "display_data"
    },
    {
     "name": "stdout",
     "output_type": "stream",
     "text": [
      "y_new - y_current is 1.0043202600085266: \n",
      "---------- 27/L ----------\n",
      "\n",
      "---------- 28/L ----------\n",
      "\n",
      "x_new before clipping:  [0.59691781 2.38721779 4.62833946]\n",
      "x_new after clipping:  [0.3        2.         4.62833946]\n"
     ]
    },
    {
     "data": {
      "text/plain": "solve for U:   0%|          | 0/831 [00:00<?, ?it/s]",
      "application/vnd.jupyter.widget-view+json": {
       "version_major": 2,
       "version_minor": 0,
       "model_id": "4eb0767a9a624173b245387ae78709ca"
      }
     },
     "metadata": {},
     "output_type": "display_data"
    },
    {
     "name": "stdout",
     "output_type": "stream",
     "text": [
      "y_new - y_current is -0.21186703227493808: \n",
      "---------- 28/L ----------\n",
      "\n",
      "---------- 29/L ----------\n",
      "\n",
      "x_new before clipping:  [0.41001174 2.17950682 4.96491845]\n",
      "x_new after clipping:  [0.3        2.         4.96491845]\n"
     ]
    },
    {
     "data": {
      "text/plain": "solve for U:   0%|          | 0/831 [00:00<?, ?it/s]",
      "application/vnd.jupyter.widget-view+json": {
       "version_major": 2,
       "version_minor": 0,
       "model_id": "23f5fbe2d95d4f6196bae9fb5a83f51e"
      }
     },
     "metadata": {},
     "output_type": "display_data"
    },
    {
     "name": "stdout",
     "output_type": "stream",
     "text": [
      "y_new - y_current is 0.5733802500108709: \n",
      "---------- 29/L ----------\n",
      "\n",
      "---------- 30/L ----------\n",
      "\n",
      "x_new before clipping:  [0.81723879 1.92506513 5.19962973]\n",
      "x_new after clipping:  [0.3        1.92506513 5.19962973]\n"
     ]
    },
    {
     "data": {
      "text/plain": "solve for U:   0%|          | 0/831 [00:00<?, ?it/s]",
      "application/vnd.jupyter.widget-view+json": {
       "version_major": 2,
       "version_minor": 0,
       "model_id": "dee7f8835c3c4695a031cda90db673e3"
      }
     },
     "metadata": {},
     "output_type": "display_data"
    },
    {
     "name": "stdout",
     "output_type": "stream",
     "text": [
      "y_new - y_current is 1.6376095340744996: \n",
      "---------- 30/L ----------\n",
      "\n",
      "---------- 31/L ----------\n",
      "\n",
      "x_new before clipping:  [0.41495827 1.91747283 5.29179777]\n",
      "x_new after clipping:  [0.3        1.91747283 5.29179777]\n"
     ]
    },
    {
     "data": {
      "text/plain": "solve for U:   0%|          | 0/831 [00:00<?, ?it/s]",
      "application/vnd.jupyter.widget-view+json": {
       "version_major": 2,
       "version_minor": 0,
       "model_id": "d3aa8d0e1376437780718ab7ecd8ab1c"
      }
     },
     "metadata": {},
     "output_type": "display_data"
    },
    {
     "name": "stdout",
     "output_type": "stream",
     "text": [
      "y_new - y_current is 0.28129075669276915: \n",
      "---------- 31/L ----------\n",
      "\n",
      "---------- 32/L ----------\n",
      "\n",
      "x_new before clipping:  [0.33297625 2.18289469 5.14804401]\n",
      "x_new after clipping:  [0.3        2.         5.14804401]\n"
     ]
    },
    {
     "data": {
      "text/plain": "solve for U:   0%|          | 0/831 [00:00<?, ?it/s]",
      "application/vnd.jupyter.widget-view+json": {
       "version_major": 2,
       "version_minor": 0,
       "model_id": "e65df556b37e4ae9b81cb35e7b9d8ea3"
      }
     },
     "metadata": {},
     "output_type": "display_data"
    },
    {
     "name": "stdout",
     "output_type": "stream",
     "text": [
      "y_new - y_current is -1.6265160340466451: \n",
      "---------- 32/L ----------\n",
      "\n",
      "---------- 33/L ----------\n",
      "\n",
      "x_new before clipping:  [0.45174471 2.36561607 5.72447207]\n",
      "x_new after clipping:  [0.3        2.         5.72447207]\n"
     ]
    },
    {
     "data": {
      "text/plain": "solve for U:   0%|          | 0/831 [00:00<?, ?it/s]",
      "application/vnd.jupyter.widget-view+json": {
       "version_major": 2,
       "version_minor": 0,
       "model_id": "8833f20058884aca9a4efbd0acce3ebd"
      }
     },
     "metadata": {},
     "output_type": "display_data"
    },
    {
     "name": "stdout",
     "output_type": "stream",
     "text": [
      "y_new - y_current is 0.8430648476589795: \n",
      "---------- 33/L ----------\n",
      "\n",
      "---------- 34/L ----------\n",
      "\n",
      "x_new before clipping:  [0.10842623 1.83126336 5.98478373]\n",
      "x_new after clipping:  [0.10842623 1.83126336 5.98478373]\n"
     ]
    },
    {
     "data": {
      "text/plain": "solve for U:   0%|          | 0/831 [00:00<?, ?it/s]",
      "application/vnd.jupyter.widget-view+json": {
       "version_major": 2,
       "version_minor": 0,
       "model_id": "6d880cab8a814d399d7f3efb7b8fe108"
      }
     },
     "metadata": {},
     "output_type": "display_data"
    },
    {
     "name": "stdout",
     "output_type": "stream",
     "text": [
      "y_new - y_current is 3.7709828972708124: \n",
      "---------- 34/L ----------\n",
      "\n",
      "---------- 35/L ----------\n",
      "\n",
      "x_new before clipping:  [-0.1079047   1.84996405  6.04733531]\n",
      "x_new after clipping:  [-0.1079047   1.84996405  6.04733531]\n"
     ]
    },
    {
     "data": {
      "text/plain": "solve for U:   0%|          | 0/831 [00:00<?, ?it/s]",
      "application/vnd.jupyter.widget-view+json": {
       "version_major": 2,
       "version_minor": 0,
       "model_id": "3b310152422e4a36a1ad11fb3b6eca81"
      }
     },
     "metadata": {},
     "output_type": "display_data"
    },
    {
     "name": "stdout",
     "output_type": "stream",
     "text": [
      "y_new - y_current is 68.13658375353626: \n",
      "---------- 35/L ----------\n",
      "\n",
      "---------- 36/L ----------\n",
      "\n",
      "x_new before clipping:  [-0.18330601  1.85733998  6.91345418]\n",
      "x_new after clipping:  [-0.18330601  1.85733998  6.91345418]\n"
     ]
    },
    {
     "data": {
      "text/plain": "solve for U:   0%|          | 0/831 [00:00<?, ?it/s]",
      "application/vnd.jupyter.widget-view+json": {
       "version_major": 2,
       "version_minor": 0,
       "model_id": "52bd4736a2074776933a2a44d3f3b78b"
      }
     },
     "metadata": {},
     "output_type": "display_data"
    },
    {
     "name": "stdout",
     "output_type": "stream",
     "text": [
      "y_new - y_current is 40.36273295882424: \n",
      "---------- 36/L ----------\n",
      "\n",
      "---------- 37/L ----------\n",
      "\n",
      "x_new before clipping:  [-0.26546103  2.01939504  7.03594623]\n",
      "x_new after clipping:  [-0.26546103  2.          7.03594623]\n"
     ]
    },
    {
     "data": {
      "text/plain": "solve for U:   0%|          | 0/831 [00:00<?, ?it/s]",
      "application/vnd.jupyter.widget-view+json": {
       "version_major": 2,
       "version_minor": 0,
       "model_id": "ce6b916f61e24c2dac142b781c489a3f"
      }
     },
     "metadata": {},
     "output_type": "display_data"
    },
    {
     "name": "stdout",
     "output_type": "stream",
     "text": [
      "y_new - y_current is 29.109521322512308: \n",
      "---------- 37/L ----------\n",
      "\n",
      "---------- 38/L ----------\n",
      "\n",
      "x_new before clipping:  [-0.30050408  2.35275171  6.90194201]\n",
      "x_new after clipping:  [-0.3         2.          6.90194201]\n"
     ]
    },
    {
     "data": {
      "text/plain": "solve for U:   0%|          | 0/831 [00:00<?, ?it/s]",
      "application/vnd.jupyter.widget-view+json": {
       "version_major": 2,
       "version_minor": 0,
       "model_id": "ee55db9bd0144868b2dc23e9157afcbe"
      }
     },
     "metadata": {},
     "output_type": "display_data"
    },
    {
     "name": "stdout",
     "output_type": "stream",
     "text": [
      "y_new - y_current is 16.69507927112062: \n",
      "---------- 38/L ----------\n",
      "\n",
      "---------- 39/L ----------\n",
      "\n",
      "x_new before clipping:  [-0.78370163  1.78816409  7.06625455]\n",
      "x_new after clipping:  [-0.3         1.78816409  7.06625455]\n"
     ]
    },
    {
     "data": {
      "text/plain": "solve for U:   0%|          | 0/831 [00:00<?, ?it/s]",
      "application/vnd.jupyter.widget-view+json": {
       "version_major": 2,
       "version_minor": 0,
       "model_id": "3e4c1f84f81449b0b152fcaa65ef8d99"
      }
     },
     "metadata": {},
     "output_type": "display_data"
    },
    {
     "name": "stdout",
     "output_type": "stream",
     "text": [
      "y_new - y_current is 21.7448607643139: \n",
      "---------- 39/L ----------\n",
      "\n",
      "---------- 40/L ----------\n",
      "\n",
      "x_new before clipping:  [-0.33529938  1.47351464  6.46316477]\n",
      "x_new after clipping:  [-0.3         1.47351464  6.46316477]\n"
     ]
    },
    {
     "data": {
      "text/plain": "solve for U:   0%|          | 0/831 [00:00<?, ?it/s]",
      "application/vnd.jupyter.widget-view+json": {
       "version_major": 2,
       "version_minor": 0,
       "model_id": "0e22744cfa53422385a53b245ff3dd9b"
      }
     },
     "metadata": {},
     "output_type": "display_data"
    },
    {
     "name": "stdout",
     "output_type": "stream",
     "text": [
      "y_new - y_current is 18.756852908812846: \n",
      "---------- 40/L ----------\n",
      "\n",
      "---------- 41/L ----------\n",
      "\n",
      "x_new before clipping:  [-0.1396668   2.01935657  7.18139442]\n",
      "x_new after clipping:  [-0.1396668   2.          7.18139442]\n"
     ]
    },
    {
     "data": {
      "text/plain": "solve for U:   0%|          | 0/831 [00:00<?, ?it/s]",
      "application/vnd.jupyter.widget-view+json": {
       "version_major": 2,
       "version_minor": 0,
       "model_id": "a1365976d7b74d1fa6d11c244a7e249b"
      }
     },
     "metadata": {},
     "output_type": "display_data"
    },
    {
     "name": "stdout",
     "output_type": "stream",
     "text": [
      "y_new - y_current is -100.22673012922311: \n",
      "---------- 41/L ----------\n",
      "\n",
      "---------- 42/L ----------\n",
      "\n",
      "x_new before clipping:  [-0.1182124   2.11323576  7.42125908]\n",
      "x_new after clipping:  [-0.1182124   2.          7.42125908]\n"
     ]
    },
    {
     "data": {
      "text/plain": "solve for U:   0%|          | 0/831 [00:00<?, ?it/s]",
      "application/vnd.jupyter.widget-view+json": {
       "version_major": 2,
       "version_minor": 0,
       "model_id": "648b9863cb504f6b8b8bacc51014024b"
      }
     },
     "metadata": {},
     "output_type": "display_data"
    },
    {
     "name": "stdout",
     "output_type": "stream",
     "text": [
      "y_new - y_current is -9.76250510393237: \n",
      "---------- 42/L ----------\n",
      "\n",
      "---------- 43/L ----------\n",
      "\n",
      "x_new before clipping:  [-0.23662259  2.3968763   7.35587638]\n",
      "x_new after clipping:  [-0.23662259  2.          7.35587638]\n"
     ]
    },
    {
     "data": {
      "text/plain": "solve for U:   0%|          | 0/831 [00:00<?, ?it/s]",
      "application/vnd.jupyter.widget-view+json": {
       "version_major": 2,
       "version_minor": 0,
       "model_id": "5b77fd4aa8e9455b99fae76ef1c27cfd"
      }
     },
     "metadata": {},
     "output_type": "display_data"
    },
    {
     "name": "stdout",
     "output_type": "stream",
     "text": [
      "y_new - y_current is 58.00037620074997: \n",
      "---------- 43/L ----------\n",
      "\n",
      "---------- 44/L ----------\n",
      "\n",
      "x_new before clipping:  [-0.13095562  2.21858571  7.62186226]\n",
      "x_new after clipping:  [-0.13095562  2.          7.62186226]\n"
     ]
    },
    {
     "data": {
      "text/plain": "solve for U:   0%|          | 0/831 [00:00<?, ?it/s]",
      "application/vnd.jupyter.widget-view+json": {
       "version_major": 2,
       "version_minor": 0,
       "model_id": "1e2ccaaa9f8441c484c5dc90e3d61968"
      }
     },
     "metadata": {},
     "output_type": "display_data"
    },
    {
     "name": "stdout",
     "output_type": "stream",
     "text": [
      "y_new - y_current is -51.492120456113184: \n",
      "---------- 44/L ----------\n",
      "\n",
      "---------- 45/L ----------\n",
      "\n",
      "x_new before clipping:  [-0.37379828  1.91221076  7.60194786]\n",
      "x_new after clipping:  [-0.3         1.91221076  7.60194786]\n"
     ]
    },
    {
     "data": {
      "text/plain": "solve for U:   0%|          | 0/831 [00:00<?, ?it/s]",
      "application/vnd.jupyter.widget-view+json": {
       "version_major": 2,
       "version_minor": 0,
       "model_id": "83574cec1a694e1a8c09a3d964ecfb58"
      }
     },
     "metadata": {},
     "output_type": "display_data"
    },
    {
     "name": "stdout",
     "output_type": "stream",
     "text": [
      "y_new - y_current is 92.47072432261257: \n",
      "---------- 45/L ----------\n",
      "\n",
      "---------- 46/L ----------\n",
      "\n",
      "x_new before clipping:  [-0.1798723   1.72922237  7.82564299]\n",
      "x_new after clipping:  [-0.1798723   1.72922237  7.82564299]\n"
     ]
    },
    {
     "data": {
      "text/plain": "solve for U:   0%|          | 0/831 [00:00<?, ?it/s]",
      "application/vnd.jupyter.widget-view+json": {
       "version_major": 2,
       "version_minor": 0,
       "model_id": "301499fad6cf4293a52a36e2c4d55dfc"
      }
     },
     "metadata": {},
     "output_type": "display_data"
    },
    {
     "name": "stdout",
     "output_type": "stream",
     "text": [
      "y_new - y_current is -46.19943730643706: \n",
      "---------- 46/L ----------\n",
      "\n",
      "---------- 47/L ----------\n",
      "\n",
      "x_new before clipping:  [-0.05953607  1.8306704   8.00331883]\n",
      "x_new after clipping:  [-0.05953607  1.8306704   8.00331883]\n"
     ]
    },
    {
     "data": {
      "text/plain": "solve for U:   0%|          | 0/831 [00:00<?, ?it/s]",
      "application/vnd.jupyter.widget-view+json": {
       "version_major": 2,
       "version_minor": 0,
       "model_id": "2374061bba0a43e19bbc2282ee43371e"
      }
     },
     "metadata": {},
     "output_type": "display_data"
    },
    {
     "name": "stdout",
     "output_type": "stream",
     "text": [
      "y_new - y_current is -67.28757349374905: \n",
      "---------- 47/L ----------\n",
      "\n",
      "---------- 48/L ----------\n",
      "\n",
      "x_new before clipping:  [-0.07600701  1.21294137  7.34575887]\n",
      "x_new after clipping:  [-0.07600701  1.21294137  7.34575887]\n"
     ]
    },
    {
     "data": {
      "text/plain": "solve for U:   0%|          | 0/831 [00:00<?, ?it/s]",
      "application/vnd.jupyter.widget-view+json": {
       "version_major": 2,
       "version_minor": 0,
       "model_id": "518f4c87a95f4ac2a69410ce1b5a1284"
      }
     },
     "metadata": {},
     "output_type": "display_data"
    },
    {
     "name": "stdout",
     "output_type": "stream",
     "text": [
      "y_new - y_current is 3.6150760810747613: \n",
      "---------- 48/L ----------\n",
      "\n",
      "---------- 49/L ----------\n",
      "\n",
      "x_new before clipping:  [-0.39256303  1.16184056  7.21320584]\n",
      "x_new after clipping:  [-0.3         1.16184056  7.21320584]\n"
     ]
    },
    {
     "data": {
      "text/plain": "solve for U:   0%|          | 0/831 [00:00<?, ?it/s]",
      "application/vnd.jupyter.widget-view+json": {
       "version_major": 2,
       "version_minor": 0,
       "model_id": "424c21804b0f4763b96aa8d77d736ddb"
      }
     },
     "metadata": {},
     "output_type": "display_data"
    },
    {
     "name": "stdout",
     "output_type": "stream",
     "text": [
      "y_new - y_current is 124.90271224520856: \n",
      "---------- 49/L ----------\n",
      "\n",
      "-------------- 4_th iteration --------------\n",
      "\n",
      "---------- 0/L ----------\n",
      "\n",
      "x_new before clipping:  [0.0180816  1.48166598 7.08508358]\n",
      "x_new after clipping:  [0.0180816  1.48166598 7.08508358]\n"
     ]
    },
    {
     "data": {
      "text/plain": "solve for U:   0%|          | 0/831 [00:00<?, ?it/s]",
      "application/vnd.jupyter.widget-view+json": {
       "version_major": 2,
       "version_minor": 0,
       "model_id": "b072e030f1d040c5ad3d0fd2a7091d5c"
      }
     },
     "metadata": {},
     "output_type": "display_data"
    },
    {
     "name": "stdout",
     "output_type": "stream",
     "text": [
      "y_new - y_current is -148.81365365247515: \n",
      "---------- 0/L ----------\n",
      "\n",
      "---------- 1/L ----------\n",
      "\n",
      "x_new before clipping:  [0.36364119 1.51886012 7.01531094]\n",
      "x_new after clipping:  [0.3        1.51886012 7.01531094]\n"
     ]
    },
    {
     "data": {
      "text/plain": "solve for U:   0%|          | 0/831 [00:00<?, ?it/s]",
      "application/vnd.jupyter.widget-view+json": {
       "version_major": 2,
       "version_minor": 0,
       "model_id": "2feae014cffe4a54944c0538103941cc"
      }
     },
     "metadata": {},
     "output_type": "display_data"
    },
    {
     "name": "stdout",
     "output_type": "stream",
     "text": [
      "y_new - y_current is -25.986593972250688: \n",
      "---------- 1/L ----------\n",
      "\n",
      "---------- 2/L ----------\n",
      "\n",
      "x_new before clipping:  [0.30743032 2.18460742 7.02274313]\n",
      "x_new after clipping:  [0.3        2.         7.02274313]\n"
     ]
    },
    {
     "data": {
      "text/plain": "solve for U:   0%|          | 0/831 [00:00<?, ?it/s]",
      "application/vnd.jupyter.widget-view+json": {
       "version_major": 2,
       "version_minor": 0,
       "model_id": "a744c221334e4ba29e2b5df134d9edc2"
      }
     },
     "metadata": {},
     "output_type": "display_data"
    },
    {
     "name": "stdout",
     "output_type": "stream",
     "text": [
      "y_new - y_current is -7.474526276368039: \n",
      "---------- 2/L ----------\n",
      "\n",
      "---------- 3/L ----------\n",
      "\n",
      "x_new before clipping:  [0.13776012 1.94945452 6.97068395]\n",
      "x_new after clipping:  [0.13776012 1.94945452 6.97068395]\n"
     ]
    },
    {
     "data": {
      "text/plain": "solve for U:   0%|          | 0/831 [00:00<?, ?it/s]",
      "application/vnd.jupyter.widget-view+json": {
       "version_major": 2,
       "version_minor": 0,
       "model_id": "d80032be2f354d718d31ba309b4a8da5"
      }
     },
     "metadata": {},
     "output_type": "display_data"
    },
    {
     "name": "stdout",
     "output_type": "stream",
     "text": [
      "y_new - y_current is -1.6416996349266952: \n",
      "---------- 3/L ----------\n",
      "\n",
      "---------- 4/L ----------\n",
      "\n",
      "x_new before clipping:  [0.24125662 1.53154351 7.58172015]\n",
      "x_new after clipping:  [0.24125662 1.53154351 7.58172015]\n"
     ]
    },
    {
     "data": {
      "text/plain": "solve for U:   0%|          | 0/831 [00:00<?, ?it/s]",
      "application/vnd.jupyter.widget-view+json": {
       "version_major": 2,
       "version_minor": 0,
       "model_id": "6128ac2fd3e84af79572ba9fd11754b4"
      }
     },
     "metadata": {},
     "output_type": "display_data"
    },
    {
     "name": "stdout",
     "output_type": "stream",
     "text": [
      "y_new - y_current is 8.26996590304249: \n",
      "---------- 4/L ----------\n",
      "\n",
      "---------- 5/L ----------\n",
      "\n",
      "x_new before clipping:  [0.41970704 1.66694772 7.74991884]\n",
      "x_new after clipping:  [0.3        1.66694772 7.74991884]\n"
     ]
    },
    {
     "data": {
      "text/plain": "solve for U:   0%|          | 0/831 [00:00<?, ?it/s]",
      "application/vnd.jupyter.widget-view+json": {
       "version_major": 2,
       "version_minor": 0,
       "model_id": "f4da36b8832849d1b795106c1ed49cfa"
      }
     },
     "metadata": {},
     "output_type": "display_data"
    },
    {
     "name": "stdout",
     "output_type": "stream",
     "text": [
      "y_new - y_current is 0.5280648356189204: \n",
      "---------- 5/L ----------\n",
      "\n",
      "---------- 6/L ----------\n",
      "\n",
      "x_new before clipping:  [0.47758591 1.79723006 7.3616496 ]\n",
      "x_new after clipping:  [0.3        1.79723006 7.3616496 ]\n"
     ]
    },
    {
     "data": {
      "text/plain": "solve for U:   0%|          | 0/831 [00:00<?, ?it/s]",
      "application/vnd.jupyter.widget-view+json": {
       "version_major": 2,
       "version_minor": 0,
       "model_id": "2b42d028168f41d0b9d7308a53d0f993"
      }
     },
     "metadata": {},
     "output_type": "display_data"
    },
    {
     "name": "stdout",
     "output_type": "stream",
     "text": [
      "y_new - y_current is -2.779672733593628: \n",
      "---------- 6/L ----------\n",
      "\n",
      "---------- 7/L ----------\n",
      "\n",
      "x_new before clipping:  [0.58663632 1.95590916 7.51467705]\n",
      "x_new after clipping:  [0.3        1.95590916 7.51467705]\n"
     ]
    },
    {
     "data": {
      "text/plain": "solve for U:   0%|          | 0/831 [00:00<?, ?it/s]",
      "application/vnd.jupyter.widget-view+json": {
       "version_major": 2,
       "version_minor": 0,
       "model_id": "ca915a7a8b434d898808fc5a0f83b045"
      }
     },
     "metadata": {},
     "output_type": "display_data"
    },
    {
     "name": "stdout",
     "output_type": "stream",
     "text": [
      "y_new - y_current is -2.9717928113792595: \n",
      "---------- 7/L ----------\n",
      "\n",
      "---------- 8/L ----------\n",
      "\n",
      "x_new before clipping:  [0.26046915 1.67400534 7.59754566]\n",
      "x_new after clipping:  [0.26046915 1.67400534 7.59754566]\n"
     ]
    },
    {
     "data": {
      "text/plain": "solve for U:   0%|          | 0/831 [00:00<?, ?it/s]",
      "application/vnd.jupyter.widget-view+json": {
       "version_major": 2,
       "version_minor": 0,
       "model_id": "a379d0a481664c85811ee9026c14cd85"
      }
     },
     "metadata": {},
     "output_type": "display_data"
    },
    {
     "name": "stdout",
     "output_type": "stream",
     "text": [
      "y_new - y_current is 3.8410692156606387: \n",
      "---------- 8/L ----------\n",
      "\n",
      "---------- 9/L ----------\n",
      "\n",
      "x_new before clipping:  [0.21464212 1.69563686 7.90803631]\n",
      "x_new after clipping:  [0.21464212 1.69563686 7.90803631]\n"
     ]
    },
    {
     "data": {
      "text/plain": "solve for U:   0%|          | 0/831 [00:00<?, ?it/s]",
      "application/vnd.jupyter.widget-view+json": {
       "version_major": 2,
       "version_minor": 0,
       "model_id": "692e59808e4146729b12e265ec6214b5"
      }
     },
     "metadata": {},
     "output_type": "display_data"
    },
    {
     "name": "stdout",
     "output_type": "stream",
     "text": [
      "y_new - y_current is -0.7572931008595845: \n",
      "---------- 9/L ----------\n",
      "\n",
      "---------- 10/L ----------\n",
      "\n",
      "x_new before clipping:  [-0.08028079  1.98026879  7.97940874]\n",
      "x_new after clipping:  [-0.08028079  1.98026879  7.97940874]\n"
     ]
    },
    {
     "data": {
      "text/plain": "solve for U:   0%|          | 0/831 [00:00<?, ?it/s]",
      "application/vnd.jupyter.widget-view+json": {
       "version_major": 2,
       "version_minor": 0,
       "model_id": "bb06a1586f5c4ee9ae2aa9dd9d8e0fa6"
      }
     },
     "metadata": {},
     "output_type": "display_data"
    },
    {
     "name": "stdout",
     "output_type": "stream",
     "text": [
      "y_new - y_current is 48.77252345924802: \n",
      "---------- 10/L ----------\n",
      "\n",
      "---------- 11/L ----------\n",
      "\n",
      "x_new before clipping:  [-0.08484743  2.10529246  7.72163615]\n",
      "x_new after clipping:  [-0.08484743  2.          7.72163615]\n"
     ]
    },
    {
     "data": {
      "text/plain": "solve for U:   0%|          | 0/831 [00:00<?, ?it/s]",
      "application/vnd.jupyter.widget-view+json": {
       "version_major": 2,
       "version_minor": 0,
       "model_id": "ca806b7e52c944639747a03cdd1c8520"
      }
     },
     "metadata": {},
     "output_type": "display_data"
    },
    {
     "name": "stdout",
     "output_type": "stream",
     "text": [
      "y_new - y_current is 0.21323256892074482: \n",
      "---------- 11/L ----------\n",
      "\n",
      "---------- 12/L ----------\n",
      "\n",
      "x_new before clipping:  [-0.00791791  1.61961562  7.23931271]\n",
      "x_new after clipping:  [-0.00791791  1.61961562  7.23931271]\n"
     ]
    },
    {
     "data": {
      "text/plain": "solve for U:   0%|          | 0/831 [00:00<?, ?it/s]",
      "application/vnd.jupyter.widget-view+json": {
       "version_major": 2,
       "version_minor": 0,
       "model_id": "243ca8faea15478b9e04270c1bb88e6a"
      }
     },
     "metadata": {},
     "output_type": "display_data"
    },
    {
     "name": "stdout",
     "output_type": "stream",
     "text": [
      "y_new - y_current is -12.96464662954142: \n",
      "---------- 12/L ----------\n",
      "\n",
      "---------- 13/L ----------\n",
      "\n",
      "x_new before clipping:  [-0.17064513  1.77024822  7.38927129]\n",
      "x_new after clipping:  [-0.17064513  1.77024822  7.38927129]\n"
     ]
    },
    {
     "data": {
      "text/plain": "solve for U:   0%|          | 0/831 [00:00<?, ?it/s]",
      "application/vnd.jupyter.widget-view+json": {
       "version_major": 2,
       "version_minor": 0,
       "model_id": "e113af14005749799abe1b5f32efef02"
      }
     },
     "metadata": {},
     "output_type": "display_data"
    },
    {
     "name": "stdout",
     "output_type": "stream",
     "text": [
      "y_new - y_current is 71.54251919902214: \n",
      "---------- 13/L ----------\n",
      "\n",
      "---------- 14/L ----------\n",
      "\n",
      "x_new before clipping:  [-0.41548802  2.12796451  7.36456013]\n",
      "x_new after clipping:  [-0.3         2.          7.36456013]\n"
     ]
    },
    {
     "data": {
      "text/plain": "solve for U:   0%|          | 0/831 [00:00<?, ?it/s]",
      "application/vnd.jupyter.widget-view+json": {
       "version_major": 2,
       "version_minor": 0,
       "model_id": "84391bbc61584b5e935567a7435d2efd"
      }
     },
     "metadata": {},
     "output_type": "display_data"
    },
    {
     "name": "stdout",
     "output_type": "stream",
     "text": [
      "y_new - y_current is 45.48630887758523: \n",
      "---------- 14/L ----------\n",
      "\n",
      "---------- 15/L ----------\n",
      "\n",
      "x_new before clipping:  [-0.11041746  1.8811154   7.51669013]\n",
      "x_new after clipping:  [-0.11041746  1.8811154   7.51669013]\n"
     ]
    },
    {
     "data": {
      "text/plain": "solve for U:   0%|          | 0/831 [00:00<?, ?it/s]",
      "application/vnd.jupyter.widget-view+json": {
       "version_major": 2,
       "version_minor": 0,
       "model_id": "c0eddc786b88491185a7980fe5d7a090"
      }
     },
     "metadata": {},
     "output_type": "display_data"
    },
    {
     "name": "stdout",
     "output_type": "stream",
     "text": [
      "y_new - y_current is -84.16536261422311: \n",
      "---------- 15/L ----------\n",
      "\n",
      "---------- 16/L ----------\n",
      "\n",
      "x_new before clipping:  [0.51108463 1.91898849 7.64785462]\n",
      "x_new after clipping:  [0.3        1.91898849 7.64785462]\n"
     ]
    },
    {
     "data": {
      "text/plain": "solve for U:   0%|          | 0/831 [00:00<?, ?it/s]",
      "application/vnd.jupyter.widget-view+json": {
       "version_major": 2,
       "version_minor": 0,
       "model_id": "2eac5402cb344c8cbce424f8240d013e"
      }
     },
     "metadata": {},
     "output_type": "display_data"
    },
    {
     "name": "stdout",
     "output_type": "stream",
     "text": [
      "y_new - y_current is -71.07251781094035: \n",
      "---------- 16/L ----------\n",
      "\n",
      "---------- 17/L ----------\n",
      "\n",
      "x_new before clipping:  [0.67194098 1.89968073 7.56718816]\n",
      "x_new after clipping:  [0.3        1.89968073 7.56718816]\n"
     ]
    },
    {
     "data": {
      "text/plain": "solve for U:   0%|          | 0/831 [00:00<?, ?it/s]",
      "application/vnd.jupyter.widget-view+json": {
       "version_major": 2,
       "version_minor": 0,
       "model_id": "5706f0cdcff6441a89211c27861d1641"
      }
     },
     "metadata": {},
     "output_type": "display_data"
    },
    {
     "name": "stdout",
     "output_type": "stream",
     "text": [
      "y_new - y_current is 0.3077217455691539: \n",
      "---------- 17/L ----------\n",
      "\n",
      "---------- 18/L ----------\n",
      "\n",
      "x_new before clipping:  [0.20853196 1.54110115 7.34580503]\n",
      "x_new after clipping:  [0.20853196 1.54110115 7.34580503]\n"
     ]
    },
    {
     "data": {
      "text/plain": "solve for U:   0%|          | 0/831 [00:00<?, ?it/s]",
      "application/vnd.jupyter.widget-view+json": {
       "version_major": 2,
       "version_minor": 0,
       "model_id": "3f0c0a73b2224eb88c5f2e4bd13f8ebd"
      }
     },
     "metadata": {},
     "output_type": "display_data"
    },
    {
     "name": "stdout",
     "output_type": "stream",
     "text": [
      "y_new - y_current is 3.331599803670855: \n",
      "---------- 18/L ----------\n",
      "\n",
      "---------- 19/L ----------\n",
      "\n",
      "x_new before clipping:  [0.25657966 1.64521966 7.66989257]\n",
      "x_new after clipping:  [0.25657966 1.64521966 7.66989257]\n"
     ]
    },
    {
     "data": {
      "text/plain": "solve for U:   0%|          | 0/831 [00:00<?, ?it/s]",
      "application/vnd.jupyter.widget-view+json": {
       "version_major": 2,
       "version_minor": 0,
       "model_id": "a998e959d0f14afab986192b04b5ff60"
      }
     },
     "metadata": {},
     "output_type": "display_data"
    },
    {
     "name": "stdout",
     "output_type": "stream",
     "text": [
      "y_new - y_current is -0.22799036171574016: \n",
      "---------- 19/L ----------\n",
      "\n",
      "---------- 20/L ----------\n",
      "\n",
      "x_new before clipping:  [0.37204358 1.15162    7.77129197]\n",
      "x_new after clipping:  [0.3        1.15162    7.77129197]\n"
     ]
    },
    {
     "data": {
      "text/plain": "solve for U:   0%|          | 0/831 [00:00<?, ?it/s]",
      "application/vnd.jupyter.widget-view+json": {
       "version_major": 2,
       "version_minor": 0,
       "model_id": "26b45708a8e14d67a314c31f31d40a18"
      }
     },
     "metadata": {},
     "output_type": "display_data"
    },
    {
     "name": "stdout",
     "output_type": "stream",
     "text": [
      "y_new - y_current is -1.6095644146837742: \n",
      "---------- 20/L ----------\n",
      "\n",
      "---------- 21/L ----------\n",
      "\n",
      "x_new before clipping:  [0.45152865 1.41794301 7.91057355]\n",
      "x_new after clipping:  [0.3        1.41794301 7.91057355]\n"
     ]
    },
    {
     "data": {
      "text/plain": "solve for U:   0%|          | 0/831 [00:00<?, ?it/s]",
      "application/vnd.jupyter.widget-view+json": {
       "version_major": 2,
       "version_minor": 0,
       "model_id": "2488755b8edf412d931279260bcb02bf"
      }
     },
     "metadata": {},
     "output_type": "display_data"
    },
    {
     "name": "stdout",
     "output_type": "stream",
     "text": [
      "y_new - y_current is 5.111859010665597: \n",
      "---------- 21/L ----------\n",
      "\n",
      "---------- 22/L ----------\n",
      "\n",
      "x_new before clipping:  [0.11840851 1.3651532  7.93354524]\n",
      "x_new after clipping:  [0.11840851 1.3651532  7.93354524]\n"
     ]
    },
    {
     "data": {
      "text/plain": "solve for U:   0%|          | 0/831 [00:00<?, ?it/s]",
      "application/vnd.jupyter.widget-view+json": {
       "version_major": 2,
       "version_minor": 0,
       "model_id": "569cce8b4fd24dd68ffa714e257536fd"
      }
     },
     "metadata": {},
     "output_type": "display_data"
    },
    {
     "name": "stdout",
     "output_type": "stream",
     "text": [
      "y_new - y_current is 3.5036599401837805: \n",
      "---------- 22/L ----------\n",
      "\n",
      "---------- 23/L ----------\n",
      "\n",
      "x_new before clipping:  [0.29697909 1.23444355 8.32237425]\n",
      "x_new after clipping:  [0.29697909 1.23444355 8.32237425]\n"
     ]
    },
    {
     "data": {
      "text/plain": "solve for U:   0%|          | 0/831 [00:00<?, ?it/s]",
      "application/vnd.jupyter.widget-view+json": {
       "version_major": 2,
       "version_minor": 0,
       "model_id": "f6ea49311972473a819b71e9ea2be835"
      }
     },
     "metadata": {},
     "output_type": "display_data"
    },
    {
     "name": "stdout",
     "output_type": "stream",
     "text": [
      "y_new - y_current is -5.361279304318799: \n",
      "---------- 23/L ----------\n",
      "\n",
      "---------- 24/L ----------\n",
      "\n",
      "x_new before clipping:  [0.08866056 1.3484536  8.25901858]\n",
      "x_new after clipping:  [0.08866056 1.3484536  8.25901858]\n"
     ]
    },
    {
     "data": {
      "text/plain": "solve for U:   0%|          | 0/831 [00:00<?, ?it/s]",
      "application/vnd.jupyter.widget-view+json": {
       "version_major": 2,
       "version_minor": 0,
       "model_id": "15070b4c9492402d99952b3af7906132"
      }
     },
     "metadata": {},
     "output_type": "display_data"
    },
    {
     "name": "stdout",
     "output_type": "stream",
     "text": [
      "y_new - y_current is 10.349714696385092: \n",
      "---------- 24/L ----------\n",
      "\n",
      "---------- 25/L ----------\n",
      "\n",
      "x_new before clipping:  [0.16974881 1.10391458 8.44972117]\n",
      "x_new after clipping:  [0.16974881 1.10391458 8.44972117]\n"
     ]
    },
    {
     "data": {
      "text/plain": "solve for U:   0%|          | 0/831 [00:00<?, ?it/s]",
      "application/vnd.jupyter.widget-view+json": {
       "version_major": 2,
       "version_minor": 0,
       "model_id": "b454e593675845b395228329f57c2fa4"
      }
     },
     "metadata": {},
     "output_type": "display_data"
    },
    {
     "name": "stdout",
     "output_type": "stream",
     "text": [
      "y_new - y_current is -18.556833282080163: \n",
      "---------- 25/L ----------\n",
      "\n",
      "---------- 26/L ----------\n",
      "\n",
      "x_new before clipping:  [0.10860669 0.91377553 8.51755826]\n",
      "x_new after clipping:  [0.10860669 0.91377553 8.51755826]\n"
     ]
    },
    {
     "data": {
      "text/plain": "solve for U:   0%|          | 0/831 [00:00<?, ?it/s]",
      "application/vnd.jupyter.widget-view+json": {
       "version_major": 2,
       "version_minor": 0,
       "model_id": "44be625ab8784b298d172be6ec7a3b8c"
      }
     },
     "metadata": {},
     "output_type": "display_data"
    },
    {
     "name": "stdout",
     "output_type": "stream",
     "text": [
      "y_new - y_current is -20.395407039725697: \n",
      "---------- 26/L ----------\n",
      "\n",
      "---------- 27/L ----------\n",
      "\n",
      "x_new before clipping:  [0.14894511 0.94005988 8.41865967]\n",
      "x_new after clipping:  [0.14894511 0.94005988 8.41865967]\n"
     ]
    },
    {
     "data": {
      "text/plain": "solve for U:   0%|          | 0/831 [00:00<?, ?it/s]",
      "application/vnd.jupyter.widget-view+json": {
       "version_major": 2,
       "version_minor": 0,
       "model_id": "f58c08ee49bf4f3ba1a2468df5c007b5"
      }
     },
     "metadata": {},
     "output_type": "display_data"
    },
    {
     "name": "stdout",
     "output_type": "stream",
     "text": [
      "y_new - y_current is 6.003627668521858: \n",
      "---------- 27/L ----------\n",
      "\n",
      "---------- 28/L ----------\n",
      "\n",
      "x_new before clipping:  [-0.01691505  0.78292811  7.98079337]\n",
      "x_new after clipping:  [-0.01691505  0.78292811  7.98079337]\n"
     ]
    },
    {
     "data": {
      "text/plain": "solve for U:   0%|          | 0/831 [00:00<?, ?it/s]",
      "application/vnd.jupyter.widget-view+json": {
       "version_major": 2,
       "version_minor": 0,
       "model_id": "fa495f523def49319ea524dde872daf4"
      }
     },
     "metadata": {},
     "output_type": "display_data"
    },
    {
     "name": "stdout",
     "output_type": "stream",
     "text": [
      "y_new - y_current is -36.72484474958894: \n",
      "---------- 28/L ----------\n",
      "\n",
      "---------- 29/L ----------\n",
      "\n",
      "x_new before clipping:  [-0.06069323  0.67327368  7.95054912]\n",
      "x_new after clipping:  [-0.06069323  0.67327368  7.95054912]\n"
     ]
    },
    {
     "data": {
      "text/plain": "solve for U:   0%|          | 0/831 [00:00<?, ?it/s]",
      "application/vnd.jupyter.widget-view+json": {
       "version_major": 2,
       "version_minor": 0,
       "model_id": "dbe2a56b8feb461095de974db8372841"
      }
     },
     "metadata": {},
     "output_type": "display_data"
    },
    {
     "name": "stdout",
     "output_type": "stream",
     "text": [
      "y_new - y_current is -17.378893163019313: \n",
      "---------- 29/L ----------\n",
      "\n",
      "---------- 30/L ----------\n",
      "\n",
      "x_new before clipping:  [-0.05568482  0.93588569  7.9376141 ]\n",
      "x_new after clipping:  [-0.05568482  0.93588569  7.9376141 ]\n"
     ]
    },
    {
     "data": {
      "text/plain": "solve for U:   0%|          | 0/831 [00:00<?, ?it/s]",
      "application/vnd.jupyter.widget-view+json": {
       "version_major": 2,
       "version_minor": 0,
       "model_id": "d2c47710b07b4c629cb0302aa762c8a3"
      }
     },
     "metadata": {},
     "output_type": "display_data"
    },
    {
     "name": "stdout",
     "output_type": "stream",
     "text": [
      "y_new - y_current is 58.572144565454735: \n",
      "---------- 30/L ----------\n",
      "\n",
      "---------- 31/L ----------\n",
      "\n",
      "x_new before clipping:  [0.14071882 0.51869836 7.83162746]\n",
      "x_new after clipping:  [0.14071882 0.51869836 7.83162746]\n"
     ]
    },
    {
     "data": {
      "text/plain": "solve for U:   0%|          | 0/831 [00:00<?, ?it/s]",
      "application/vnd.jupyter.widget-view+json": {
       "version_major": 2,
       "version_minor": 0,
       "model_id": "3c09a939cc2d495da1a780c66ba78881"
      }
     },
     "metadata": {},
     "output_type": "display_data"
    },
    {
     "name": "stdout",
     "output_type": "stream",
     "text": [
      "y_new - y_current is -15.327606641042252: \n",
      "---------- 31/L ----------\n",
      "\n",
      "---------- 32/L ----------\n",
      "\n",
      "x_new before clipping:  [0.36889212 0.18099901 8.17800823]\n",
      "x_new after clipping:  [0.3        0.18099901 8.17800823]\n"
     ]
    },
    {
     "data": {
      "text/plain": "solve for U:   0%|          | 0/831 [00:00<?, ?it/s]",
      "application/vnd.jupyter.widget-view+json": {
       "version_major": 2,
       "version_minor": 0,
       "model_id": "51496598950b46f1902d36e5c4026d63"
      }
     },
     "metadata": {},
     "output_type": "display_data"
    },
    {
     "name": "stdout",
     "output_type": "stream",
     "text": [
      "y_new - y_current is inf: \n",
      "---------- 32/L ----------\n",
      "\n",
      "---------- 33/L ----------\n",
      "\n",
      "x_new before clipping:  [-0.29344945  0.45054186  7.72721328]\n",
      "x_new after clipping:  [-0.29344945  0.45054186  7.72721328]\n"
     ]
    },
    {
     "data": {
      "text/plain": "solve for U:   0%|          | 0/831 [00:00<?, ?it/s]",
      "application/vnd.jupyter.widget-view+json": {
       "version_major": 2,
       "version_minor": 0,
       "model_id": "b4ee54c8cc9d4142b81d93216e7f2f3f"
      }
     },
     "metadata": {},
     "output_type": "display_data"
    },
    {
     "name": "stdout",
     "output_type": "stream",
     "text": [
      "y_new - y_current is -52.36570239844579: \n",
      "---------- 33/L ----------\n",
      "\n",
      "---------- 34/L ----------\n",
      "\n",
      "x_new before clipping:  [0.0567607  0.36763037 7.22321271]\n",
      "x_new after clipping:  [0.0567607  0.36763037 7.22321271]\n"
     ]
    },
    {
     "data": {
      "text/plain": "solve for U:   0%|          | 0/831 [00:00<?, ?it/s]",
      "application/vnd.jupyter.widget-view+json": {
       "version_major": 2,
       "version_minor": 0,
       "model_id": "40d6b9bfafaa4a0282b59cf3747b3281"
      }
     },
     "metadata": {},
     "output_type": "display_data"
    },
    {
     "name": "stdout",
     "output_type": "stream",
     "text": [
      "y_new - y_current is 57.961224084678065: \n",
      "---------- 34/L ----------\n",
      "\n",
      "---------- 35/L ----------\n",
      "\n",
      "x_new before clipping:  [ 0.09091445 -0.18855705  7.31044277]\n",
      "x_new after clipping:  [0.09091445 0.01       7.31044277]\n"
     ]
    },
    {
     "data": {
      "text/plain": "solve for U:   0%|          | 0/831 [00:00<?, ?it/s]",
      "application/vnd.jupyter.widget-view+json": {
       "version_major": 2,
       "version_minor": 0,
       "model_id": "0da5b748fd2f4bf0b924bf7ccaf33b2d"
      }
     },
     "metadata": {},
     "output_type": "display_data"
    },
    {
     "name": "stdout",
     "output_type": "stream",
     "text": [
      "y_new - y_current is inf: \n",
      "---------- 35/L ----------\n",
      "\n",
      "---------- 36/L ----------\n",
      "\n",
      "x_new before clipping:  [0.19856889 0.7404878  7.05864596]\n",
      "x_new after clipping:  [0.19856889 0.7404878  7.05864596]\n"
     ]
    },
    {
     "data": {
      "text/plain": "solve for U:   0%|          | 0/831 [00:00<?, ?it/s]",
      "application/vnd.jupyter.widget-view+json": {
       "version_major": 2,
       "version_minor": 0,
       "model_id": "efa1c66b7fb042cba2643a366c6b6e61"
      }
     },
     "metadata": {},
     "output_type": "display_data"
    },
    {
     "name": "stdout",
     "output_type": "stream",
     "text": [
      "y_new - y_current is -2.034994926037669: \n",
      "---------- 36/L ----------\n",
      "\n",
      "---------- 37/L ----------\n",
      "\n",
      "x_new before clipping:  [0.2329886  0.76881975 7.01003969]\n",
      "x_new after clipping:  [0.2329886  0.76881975 7.01003969]\n"
     ]
    },
    {
     "data": {
      "text/plain": "solve for U:   0%|          | 0/831 [00:00<?, ?it/s]",
      "application/vnd.jupyter.widget-view+json": {
       "version_major": 2,
       "version_minor": 0,
       "model_id": "9601e0982e2246be975731e3bcdaa35b"
      }
     },
     "metadata": {},
     "output_type": "display_data"
    },
    {
     "name": "stdout",
     "output_type": "stream",
     "text": [
      "y_new - y_current is 6.9748058449457915: \n",
      "---------- 37/L ----------\n",
      "\n",
      "---------- 38/L ----------\n",
      "\n",
      "x_new before clipping:  [0.39236565 0.50954035 6.71992932]\n",
      "x_new after clipping:  [0.3        0.50954035 6.71992932]\n"
     ]
    },
    {
     "data": {
      "text/plain": "solve for U:   0%|          | 0/831 [00:00<?, ?it/s]",
      "application/vnd.jupyter.widget-view+json": {
       "version_major": 2,
       "version_minor": 0,
       "model_id": "46ee225cb0614240a93f1018c8eb2c40"
      }
     },
     "metadata": {},
     "output_type": "display_data"
    },
    {
     "name": "stdout",
     "output_type": "stream",
     "text": [
      "y_new - y_current is 37.511477997200075: \n",
      "---------- 38/L ----------\n",
      "\n",
      "---------- 39/L ----------\n",
      "\n",
      "x_new before clipping:  [0.05690059 0.16541096 6.84329591]\n",
      "x_new after clipping:  [0.05690059 0.16541096 6.84329591]\n"
     ]
    },
    {
     "data": {
      "text/plain": "solve for U:   0%|          | 0/831 [00:00<?, ?it/s]",
      "application/vnd.jupyter.widget-view+json": {
       "version_major": 2,
       "version_minor": 0,
       "model_id": "5199602c7f0d47dcbf66070679579c87"
      }
     },
     "metadata": {},
     "output_type": "display_data"
    },
    {
     "name": "stdout",
     "output_type": "stream",
     "text": [
      "y_new - y_current is 122.81557949842303: \n",
      "---------- 39/L ----------\n",
      "\n",
      "---------- 40/L ----------\n",
      "\n",
      "x_new before clipping:  [0.22450006 0.49327521 6.82134458]\n",
      "x_new after clipping:  [0.22450006 0.49327521 6.82134458]\n"
     ]
    },
    {
     "data": {
      "text/plain": "solve for U:   0%|          | 0/831 [00:00<?, ?it/s]",
      "application/vnd.jupyter.widget-view+json": {
       "version_major": 2,
       "version_minor": 0,
       "model_id": "a5d050d9f2224db59bc9caed3166a40b"
      }
     },
     "metadata": {},
     "output_type": "display_data"
    },
    {
     "name": "stdout",
     "output_type": "stream",
     "text": [
      "y_new - y_current is -20.260423245683512: \n",
      "---------- 40/L ----------\n",
      "\n",
      "---------- 41/L ----------\n",
      "\n",
      "x_new before clipping:  [0.44362366 0.55543453 6.96298683]\n",
      "x_new after clipping:  [0.3        0.55543453 6.96298683]\n"
     ]
    },
    {
     "data": {
      "text/plain": "solve for U:   0%|          | 0/831 [00:00<?, ?it/s]",
      "application/vnd.jupyter.widget-view+json": {
       "version_major": 2,
       "version_minor": 0,
       "model_id": "2de63d185629447cab3916b102462d07"
      }
     },
     "metadata": {},
     "output_type": "display_data"
    },
    {
     "name": "stdout",
     "output_type": "stream",
     "text": [
      "y_new - y_current is 12.389532627493281: \n",
      "---------- 41/L ----------\n",
      "\n",
      "---------- 42/L ----------\n",
      "\n",
      "x_new before clipping:  [0.63547067 0.61513506 6.74021661]\n",
      "x_new after clipping:  [0.3        0.61513506 6.74021661]\n"
     ]
    },
    {
     "data": {
      "text/plain": "solve for U:   0%|          | 0/831 [00:00<?, ?it/s]",
      "application/vnd.jupyter.widget-view+json": {
       "version_major": 2,
       "version_minor": 0,
       "model_id": "faec08a24b9f41358d20d19c4c111e96"
      }
     },
     "metadata": {},
     "output_type": "display_data"
    },
    {
     "name": "stdout",
     "output_type": "stream",
     "text": [
      "y_new - y_current is -8.521756060587705: \n",
      "---------- 42/L ----------\n",
      "\n",
      "---------- 43/L ----------\n",
      "\n",
      "x_new before clipping:  [0.2448162  0.90960994 6.82898489]\n",
      "x_new after clipping:  [0.2448162  0.90960994 6.82898489]\n"
     ]
    },
    {
     "data": {
      "text/plain": "solve for U:   0%|          | 0/831 [00:00<?, ?it/s]",
      "application/vnd.jupyter.widget-view+json": {
       "version_major": 2,
       "version_minor": 0,
       "model_id": "12786f693a024274bef992d591e1bde0"
      }
     },
     "metadata": {},
     "output_type": "display_data"
    },
    {
     "name": "stdout",
     "output_type": "stream",
     "text": [
      "y_new - y_current is -16.757085233151273: \n",
      "---------- 43/L ----------\n",
      "\n",
      "---------- 44/L ----------\n",
      "\n",
      "x_new before clipping:  [0.14985794 1.02002444 6.5374939 ]\n",
      "x_new after clipping:  [0.14985794 1.02002444 6.5374939 ]\n"
     ]
    },
    {
     "data": {
      "text/plain": "solve for U:   0%|          | 0/831 [00:00<?, ?it/s]",
      "application/vnd.jupyter.widget-view+json": {
       "version_major": 2,
       "version_minor": 0,
       "model_id": "dabb862c87a14994aa47f5989b3774b9"
      }
     },
     "metadata": {},
     "output_type": "display_data"
    },
    {
     "name": "stdout",
     "output_type": "stream",
     "text": [
      "y_new - y_current is -3.2137784294362604: \n",
      "---------- 44/L ----------\n",
      "\n",
      "---------- 45/L ----------\n",
      "\n",
      "x_new before clipping:  [0.08804265 0.72267299 6.66379522]\n",
      "x_new after clipping:  [0.08804265 0.72267299 6.66379522]\n"
     ]
    },
    {
     "data": {
      "text/plain": "solve for U:   0%|          | 0/831 [00:00<?, ?it/s]",
      "application/vnd.jupyter.widget-view+json": {
       "version_major": 2,
       "version_minor": 0,
       "model_id": "c01a3c2480064e558deacfb06420a477"
      }
     },
     "metadata": {},
     "output_type": "display_data"
    },
    {
     "name": "stdout",
     "output_type": "stream",
     "text": [
      "y_new - y_current is -33.17474142166762: \n",
      "---------- 45/L ----------\n",
      "\n",
      "---------- 46/L ----------\n",
      "\n",
      "x_new before clipping:  [0.25888201 0.61143926 7.22992508]\n",
      "x_new after clipping:  [0.25888201 0.61143926 7.22992508]\n"
     ]
    },
    {
     "data": {
      "text/plain": "solve for U:   0%|          | 0/831 [00:00<?, ?it/s]",
      "application/vnd.jupyter.widget-view+json": {
       "version_major": 2,
       "version_minor": 0,
       "model_id": "114cc89e811b447da8191e11b86a1fd8"
      }
     },
     "metadata": {},
     "output_type": "display_data"
    },
    {
     "name": "stdout",
     "output_type": "stream",
     "text": [
      "y_new - y_current is 44.27901410086585: \n",
      "---------- 46/L ----------\n",
      "\n",
      "---------- 47/L ----------\n",
      "\n",
      "x_new before clipping:  [0.3098334  0.88727078 7.77271235]\n",
      "x_new after clipping:  [0.3        0.88727078 7.77271235]\n"
     ]
    },
    {
     "data": {
      "text/plain": "solve for U:   0%|          | 0/831 [00:00<?, ?it/s]",
      "application/vnd.jupyter.widget-view+json": {
       "version_major": 2,
       "version_minor": 0,
       "model_id": "dc96f5a975cb4ea9935ab6312758e3d6"
      }
     },
     "metadata": {},
     "output_type": "display_data"
    },
    {
     "name": "stdout",
     "output_type": "stream",
     "text": [
      "y_new - y_current is 2.0700651314600833: \n",
      "---------- 47/L ----------\n",
      "\n",
      "---------- 48/L ----------\n",
      "\n",
      "x_new before clipping:  [0.3682162  0.82684239 7.79077531]\n",
      "x_new after clipping:  [0.3        0.82684239 7.79077531]\n"
     ]
    },
    {
     "data": {
      "text/plain": "solve for U:   0%|          | 0/831 [00:00<?, ?it/s]",
      "application/vnd.jupyter.widget-view+json": {
       "version_major": 2,
       "version_minor": 0,
       "model_id": "78ade45c1f4548a2af25d32d96386ce3"
      }
     },
     "metadata": {},
     "output_type": "display_data"
    },
    {
     "name": "stdout",
     "output_type": "stream",
     "text": [
      "y_new - y_current is 0.019472173421291927: \n",
      "---------- 48/L ----------\n",
      "\n",
      "---------- 49/L ----------\n",
      "\n",
      "x_new before clipping:  [0.17308542 0.62065866 7.94566354]\n",
      "x_new after clipping:  [0.17308542 0.62065866 7.94566354]\n"
     ]
    },
    {
     "data": {
      "text/plain": "solve for U:   0%|          | 0/831 [00:00<?, ?it/s]",
      "application/vnd.jupyter.widget-view+json": {
       "version_major": 2,
       "version_minor": 0,
       "model_id": "9afae5a1090940dca8f7d76f92145e5b"
      }
     },
     "metadata": {},
     "output_type": "display_data"
    },
    {
     "name": "stdout",
     "output_type": "stream",
     "text": [
      "y_new - y_current is -23.328774379125775: \n",
      "---------- 49/L ----------\n",
      "\n",
      "-------------- 5_th iteration --------------\n",
      "\n",
      "---------- 0/L ----------\n",
      "\n",
      "x_new before clipping:  [0.27056634 1.15094765 8.18032601]\n",
      "x_new after clipping:  [0.27056634 1.15094765 8.18032601]\n"
     ]
    },
    {
     "data": {
      "text/plain": "solve for U:   0%|          | 0/831 [00:00<?, ?it/s]",
      "application/vnd.jupyter.widget-view+json": {
       "version_major": 2,
       "version_minor": 0,
       "model_id": "9e40531f1fe14f6da07dd4b771b84708"
      }
     },
     "metadata": {},
     "output_type": "display_data"
    },
    {
     "name": "stdout",
     "output_type": "stream",
     "text": [
      "y_new - y_current is 28.148212966006767: \n",
      "---------- 0/L ----------\n",
      "\n",
      "---------- 1/L ----------\n",
      "\n",
      "x_new before clipping:  [0.76092572 1.00170768 8.17831178]\n",
      "x_new after clipping:  [0.3        1.00170768 8.17831178]\n"
     ]
    },
    {
     "data": {
      "text/plain": "solve for U:   0%|          | 0/831 [00:00<?, ?it/s]",
      "application/vnd.jupyter.widget-view+json": {
       "version_major": 2,
       "version_minor": 0,
       "model_id": "430ab260dc884d01aa4b84d8371b589a"
      }
     },
     "metadata": {},
     "output_type": "display_data"
    },
    {
     "name": "stdout",
     "output_type": "stream",
     "text": [
      "y_new - y_current is -2.1481977740352534: \n",
      "---------- 1/L ----------\n",
      "\n",
      "---------- 2/L ----------\n",
      "\n",
      "x_new before clipping:  [0.08497112 0.97544507 7.96227552]\n",
      "x_new after clipping:  [0.08497112 0.97544507 7.96227552]\n"
     ]
    },
    {
     "data": {
      "text/plain": "solve for U:   0%|          | 0/831 [00:00<?, ?it/s]",
      "application/vnd.jupyter.widget-view+json": {
       "version_major": 2,
       "version_minor": 0,
       "model_id": "b9537fb4a6994a0c9145100675857d8b"
      }
     },
     "metadata": {},
     "output_type": "display_data"
    },
    {
     "name": "stdout",
     "output_type": "stream",
     "text": [
      "y_new - y_current is -17.829377993865805: \n",
      "---------- 2/L ----------\n",
      "\n",
      "---------- 3/L ----------\n",
      "\n",
      "x_new before clipping:  [0.38876899 1.02830934 8.1195935 ]\n",
      "x_new after clipping:  [0.3        1.02830934 8.1195935 ]\n"
     ]
    },
    {
     "data": {
      "text/plain": "solve for U:   0%|          | 0/831 [00:00<?, ?it/s]",
      "application/vnd.jupyter.widget-view+json": {
       "version_major": 2,
       "version_minor": 0,
       "model_id": "f8b11fda9cc54dd8a7f9c873c4d67895"
      }
     },
     "metadata": {},
     "output_type": "display_data"
    },
    {
     "name": "stdout",
     "output_type": "stream",
     "text": [
      "y_new - y_current is 18.236689567534697: \n",
      "---------- 3/L ----------\n",
      "\n",
      "---------- 4/L ----------\n",
      "\n",
      "x_new before clipping:  [0.44450149 1.24341004 8.1286783 ]\n",
      "x_new after clipping:  [0.3        1.24341004 8.1286783 ]\n"
     ]
    },
    {
     "data": {
      "text/plain": "solve for U:   0%|          | 0/831 [00:00<?, ?it/s]",
      "application/vnd.jupyter.widget-view+json": {
       "version_major": 2,
       "version_minor": 0,
       "model_id": "2e7e4badbaac4af2a2c3d4c27690a4ff"
      }
     },
     "metadata": {},
     "output_type": "display_data"
    },
    {
     "name": "stdout",
     "output_type": "stream",
     "text": [
      "y_new - y_current is 5.417659381453177: \n",
      "---------- 4/L ----------\n",
      "\n",
      "---------- 5/L ----------\n",
      "\n",
      "x_new before clipping:  [-0.12690423  1.21516627  8.13744958]\n",
      "x_new after clipping:  [-0.12690423  1.21516627  8.13744958]\n"
     ]
    },
    {
     "data": {
      "text/plain": "solve for U:   0%|          | 0/831 [00:00<?, ?it/s]",
      "application/vnd.jupyter.widget-view+json": {
       "version_major": 2,
       "version_minor": 0,
       "model_id": "5752d0d4d6a74119822dfcaef8c2382b"
      }
     },
     "metadata": {},
     "output_type": "display_data"
    },
    {
     "name": "stdout",
     "output_type": "stream",
     "text": [
      "y_new - y_current is 78.92496103943125: \n",
      "---------- 5/L ----------\n",
      "\n",
      "---------- 6/L ----------\n",
      "\n",
      "x_new before clipping:  [0.25118553 1.18676475 8.1410731 ]\n",
      "x_new after clipping:  [0.25118553 1.18676475 8.1410731 ]\n"
     ]
    },
    {
     "data": {
      "text/plain": "solve for U:   0%|          | 0/831 [00:00<?, ?it/s]",
      "application/vnd.jupyter.widget-view+json": {
       "version_major": 2,
       "version_minor": 0,
       "model_id": "b189cccafbdb422d99ec75b669d32b27"
      }
     },
     "metadata": {},
     "output_type": "display_data"
    },
    {
     "name": "stdout",
     "output_type": "stream",
     "text": [
      "y_new - y_current is -3.3491997039777175: \n",
      "---------- 6/L ----------\n",
      "\n",
      "---------- 7/L ----------\n",
      "\n",
      "x_new before clipping:  [0.19185641 1.01857729 7.91179939]\n",
      "x_new after clipping:  [0.19185641 1.01857729 7.91179939]\n"
     ]
    },
    {
     "data": {
      "text/plain": "solve for U:   0%|          | 0/831 [00:00<?, ?it/s]",
      "application/vnd.jupyter.widget-view+json": {
       "version_major": 2,
       "version_minor": 0,
       "model_id": "3bb014fa09204ba09f7a17705edfd8e9"
      }
     },
     "metadata": {},
     "output_type": "display_data"
    },
    {
     "name": "stdout",
     "output_type": "stream",
     "text": [
      "y_new - y_current is -11.367792821885587: \n",
      "---------- 7/L ----------\n",
      "\n",
      "---------- 8/L ----------\n",
      "\n",
      "x_new before clipping:  [0.72807125 0.92779133 7.73737389]\n",
      "x_new after clipping:  [0.3        0.92779133 7.73737389]\n"
     ]
    },
    {
     "data": {
      "text/plain": "solve for U:   0%|          | 0/831 [00:00<?, ?it/s]",
      "application/vnd.jupyter.widget-view+json": {
       "version_major": 2,
       "version_minor": 0,
       "model_id": "19c751365c304debaee8681cf17ec994"
      }
     },
     "metadata": {},
     "output_type": "display_data"
    },
    {
     "name": "stdout",
     "output_type": "stream",
     "text": [
      "y_new - y_current is 6.484709866004863: \n",
      "---------- 8/L ----------\n",
      "\n",
      "---------- 9/L ----------\n",
      "\n",
      "x_new before clipping:  [0.18616804 0.74688241 7.63560763]\n",
      "x_new after clipping:  [0.18616804 0.74688241 7.63560763]\n"
     ]
    },
    {
     "data": {
      "text/plain": "solve for U:   0%|          | 0/831 [00:00<?, ?it/s]",
      "application/vnd.jupyter.widget-view+json": {
       "version_major": 2,
       "version_minor": 0,
       "model_id": "85a28191a14d47bbb3516923b2bab273"
      }
     },
     "metadata": {},
     "output_type": "display_data"
    },
    {
     "name": "stdout",
     "output_type": "stream",
     "text": [
      "y_new - y_current is -22.31377402783164: \n",
      "---------- 9/L ----------\n",
      "\n",
      "---------- 10/L ----------\n",
      "\n",
      "x_new before clipping:  [0.38576408 0.88165989 7.59019138]\n",
      "x_new after clipping:  [0.3        0.88165989 7.59019138]\n"
     ]
    },
    {
     "data": {
      "text/plain": "solve for U:   0%|          | 0/831 [00:00<?, ?it/s]",
      "application/vnd.jupyter.widget-view+json": {
       "version_major": 2,
       "version_minor": 0,
       "model_id": "409dffa2dd684ff1bb736d6d94a5312b"
      }
     },
     "metadata": {},
     "output_type": "display_data"
    },
    {
     "name": "stdout",
     "output_type": "stream",
     "text": [
      "y_new - y_current is 21.47439639179521: \n",
      "---------- 10/L ----------\n",
      "\n",
      "---------- 11/L ----------\n",
      "\n",
      "x_new before clipping:  [0.55565353 1.2145425  7.60985308]\n",
      "x_new after clipping:  [0.3        1.2145425  7.60985308]\n"
     ]
    },
    {
     "data": {
      "text/plain": "solve for U:   0%|          | 0/831 [00:00<?, ?it/s]",
      "application/vnd.jupyter.widget-view+json": {
       "version_major": 2,
       "version_minor": 0,
       "model_id": "34d044a473e04ac5957b5c0021c6adda"
      }
     },
     "metadata": {},
     "output_type": "display_data"
    },
    {
     "name": "stdout",
     "output_type": "stream",
     "text": [
      "y_new - y_current is 7.177196554436279: \n",
      "---------- 11/L ----------\n",
      "\n",
      "---------- 12/L ----------\n",
      "\n",
      "x_new before clipping:  [0.31590311 1.68349019 7.78137766]\n",
      "x_new after clipping:  [0.3        1.68349019 7.78137766]\n"
     ]
    },
    {
     "data": {
      "text/plain": "solve for U:   0%|          | 0/831 [00:00<?, ?it/s]",
      "application/vnd.jupyter.widget-view+json": {
       "version_major": 2,
       "version_minor": 0,
       "model_id": "603ecade54014214af36660d5e9ce974"
      }
     },
     "metadata": {},
     "output_type": "display_data"
    },
    {
     "name": "stdout",
     "output_type": "stream",
     "text": [
      "y_new - y_current is 1.5620665182228493: \n",
      "---------- 12/L ----------\n",
      "\n",
      "---------- 13/L ----------\n",
      "\n",
      "x_new before clipping:  [0.03946196 1.78891864 8.19494197]\n",
      "x_new after clipping:  [0.03946196 1.78891864 8.19494197]\n"
     ]
    },
    {
     "data": {
      "text/plain": "solve for U:   0%|          | 0/831 [00:00<?, ?it/s]",
      "application/vnd.jupyter.widget-view+json": {
       "version_major": 2,
       "version_minor": 0,
       "model_id": "90b961df2f474540a7a1fbfc07bb5e40"
      }
     },
     "metadata": {},
     "output_type": "display_data"
    },
    {
     "name": "stdout",
     "output_type": "stream",
     "text": [
      "y_new - y_current is 13.371499465360102: \n",
      "---------- 13/L ----------\n",
      "\n",
      "---------- 14/L ----------\n",
      "\n",
      "x_new before clipping:  [0.29641217 1.9216012  8.5036376 ]\n",
      "x_new after clipping:  [0.29641217 1.9216012  8.5036376 ]\n"
     ]
    },
    {
     "data": {
      "text/plain": "solve for U:   0%|          | 0/831 [00:00<?, ?it/s]",
      "application/vnd.jupyter.widget-view+json": {
       "version_major": 2,
       "version_minor": 0,
       "model_id": "d729603a4d6d48768da9f2f5a03ff29e"
      }
     },
     "metadata": {},
     "output_type": "display_data"
    },
    {
     "name": "stdout",
     "output_type": "stream",
     "text": [
      "y_new - y_current is -17.422368081712193: \n",
      "---------- 14/L ----------\n",
      "\n",
      "---------- 15/L ----------\n",
      "\n",
      "x_new before clipping:  [0.71777591 2.31455719 8.0864139 ]\n",
      "x_new after clipping:  [0.3       2.        8.0864139]\n"
     ]
    },
    {
     "data": {
      "text/plain": "solve for U:   0%|          | 0/831 [00:00<?, ?it/s]",
      "application/vnd.jupyter.widget-view+json": {
       "version_major": 2,
       "version_minor": 0,
       "model_id": "f227d5bcef3a47e8a783ecdee6b76b4d"
      }
     },
     "metadata": {},
     "output_type": "display_data"
    },
    {
     "name": "stdout",
     "output_type": "stream",
     "text": [
      "y_new - y_current is -1.8534278079350202: \n",
      "---------- 15/L ----------\n",
      "\n",
      "---------- 16/L ----------\n",
      "\n",
      "x_new before clipping:  [0.21797939 1.9020363  7.86388701]\n",
      "x_new after clipping:  [0.21797939 1.9020363  7.86388701]\n"
     ]
    },
    {
     "data": {
      "text/plain": "solve for U:   0%|          | 0/831 [00:00<?, ?it/s]",
      "application/vnd.jupyter.widget-view+json": {
       "version_major": 2,
       "version_minor": 0,
       "model_id": "146e58b66a584bfeaaffa7c546a03fa1"
      }
     },
     "metadata": {},
     "output_type": "display_data"
    },
    {
     "name": "stdout",
     "output_type": "stream",
     "text": [
      "y_new - y_current is -1.3240258533949714: \n",
      "---------- 16/L ----------\n",
      "\n",
      "---------- 17/L ----------\n",
      "\n",
      "x_new before clipping:  [0.32882333 1.71051776 7.70676967]\n",
      "x_new after clipping:  [0.3        1.71051776 7.70676967]\n"
     ]
    },
    {
     "data": {
      "text/plain": "solve for U:   0%|          | 0/831 [00:00<?, ?it/s]",
      "application/vnd.jupyter.widget-view+json": {
       "version_major": 2,
       "version_minor": 0,
       "model_id": "a9edf8eabdb548c683f455902055e9c2"
      }
     },
     "metadata": {},
     "output_type": "display_data"
    },
    {
     "name": "stdout",
     "output_type": "stream",
     "text": [
      "y_new - y_current is 6.678296556084774: \n",
      "---------- 17/L ----------\n",
      "\n",
      "---------- 18/L ----------\n",
      "\n",
      "x_new before clipping:  [0.57933269 1.77492531 7.51538532]\n",
      "x_new after clipping:  [0.3        1.77492531 7.51538532]\n"
     ]
    },
    {
     "data": {
      "text/plain": "solve for U:   0%|          | 0/831 [00:00<?, ?it/s]",
      "application/vnd.jupyter.widget-view+json": {
       "version_major": 2,
       "version_minor": 0,
       "model_id": "90b31c98f5cb4a14a369ca22bd20664b"
      }
     },
     "metadata": {},
     "output_type": "display_data"
    },
    {
     "name": "stdout",
     "output_type": "stream",
     "text": [
      "y_new - y_current is -1.3998646326192556: \n",
      "---------- 18/L ----------\n",
      "\n",
      "---------- 19/L ----------\n",
      "\n",
      "x_new before clipping:  [0.39556173 1.7219619  7.80900213]\n",
      "x_new after clipping:  [0.3        1.7219619  7.80900213]\n"
     ]
    },
    {
     "data": {
      "text/plain": "solve for U:   0%|          | 0/831 [00:00<?, ?it/s]",
      "application/vnd.jupyter.widget-view+json": {
       "version_major": 2,
       "version_minor": 0,
       "model_id": "d06541c381814e56b2ad326f2d8e6ef5"
      }
     },
     "metadata": {},
     "output_type": "display_data"
    },
    {
     "name": "stdout",
     "output_type": "stream",
     "text": [
      "y_new - y_current is 1.3379571525325673: \n",
      "---------- 19/L ----------\n",
      "\n",
      "---------- 20/L ----------\n",
      "\n",
      "x_new before clipping:  [0.38326565 1.57182718 7.6418017 ]\n",
      "x_new after clipping:  [0.3        1.57182718 7.6418017 ]\n"
     ]
    },
    {
     "data": {
      "text/plain": "solve for U:   0%|          | 0/831 [00:00<?, ?it/s]",
      "application/vnd.jupyter.widget-view+json": {
       "version_major": 2,
       "version_minor": 0,
       "model_id": "befad933c4204ef880460a27a1f3b420"
      }
     },
     "metadata": {},
     "output_type": "display_data"
    },
    {
     "name": "stdout",
     "output_type": "stream",
     "text": [
      "y_new - y_current is 1.881847477702621: \n",
      "---------- 20/L ----------\n",
      "\n",
      "---------- 21/L ----------\n",
      "\n",
      "x_new before clipping:  [0.88008613 1.52423763 7.72120871]\n",
      "x_new after clipping:  [0.3        1.52423763 7.72120871]\n"
     ]
    },
    {
     "data": {
      "text/plain": "solve for U:   0%|          | 0/831 [00:00<?, ?it/s]",
      "application/vnd.jupyter.widget-view+json": {
       "version_major": 2,
       "version_minor": 0,
       "model_id": "fa72f656e4a14feb89392b3b876632d8"
      }
     },
     "metadata": {},
     "output_type": "display_data"
    },
    {
     "name": "stdout",
     "output_type": "stream",
     "text": [
      "y_new - y_current is 0.5166645482500485: \n",
      "---------- 21/L ----------\n",
      "\n",
      "---------- 22/L ----------\n",
      "\n",
      "x_new before clipping:  [0.32957397 1.12000668 7.46784852]\n",
      "x_new after clipping:  [0.3        1.12000668 7.46784852]\n"
     ]
    },
    {
     "data": {
      "text/plain": "solve for U:   0%|          | 0/831 [00:00<?, ?it/s]",
      "application/vnd.jupyter.widget-view+json": {
       "version_major": 2,
       "version_minor": 0,
       "model_id": "12b4e93bf82f41da8e28cbcc650ae996"
      }
     },
     "metadata": {},
     "output_type": "display_data"
    },
    {
     "name": "stdout",
     "output_type": "stream",
     "text": [
      "y_new - y_current is -6.2803134753033305: \n",
      "---------- 22/L ----------\n",
      "\n",
      "---------- 23/L ----------\n",
      "\n",
      "x_new before clipping:  [0.38303055 0.97433148 7.35220555]\n",
      "x_new after clipping:  [0.3        0.97433148 7.35220555]\n"
     ]
    },
    {
     "data": {
      "text/plain": "solve for U:   0%|          | 0/831 [00:00<?, ?it/s]",
      "application/vnd.jupyter.widget-view+json": {
       "version_major": 2,
       "version_minor": 0,
       "model_id": "d65eaca801e945e9840da5c5a4e20d6b"
      }
     },
     "metadata": {},
     "output_type": "display_data"
    },
    {
     "name": "stdout",
     "output_type": "stream",
     "text": [
      "y_new - y_current is -3.8021030828933533: \n",
      "---------- 23/L ----------\n",
      "\n",
      "---------- 24/L ----------\n",
      "\n",
      "x_new before clipping:  [0.58098965 1.59250576 7.25391082]\n",
      "x_new after clipping:  [0.3        1.59250576 7.25391082]\n"
     ]
    },
    {
     "data": {
      "text/plain": "solve for U:   0%|          | 0/831 [00:00<?, ?it/s]",
      "application/vnd.jupyter.widget-view+json": {
       "version_major": 2,
       "version_minor": 0,
       "model_id": "9db69c450ad34812a58606b73bab92c1"
      }
     },
     "metadata": {},
     "output_type": "display_data"
    },
    {
     "name": "stdout",
     "output_type": "stream",
     "text": [
      "y_new - y_current is 8.714220419148205: \n",
      "---------- 24/L ----------\n",
      "\n",
      "---------- 25/L ----------\n",
      "\n",
      "x_new before clipping:  [0.26604108 1.4564346  6.91516985]\n",
      "x_new after clipping:  [0.26604108 1.4564346  6.91516985]\n"
     ]
    },
    {
     "data": {
      "text/plain": "solve for U:   0%|          | 0/831 [00:00<?, ?it/s]",
      "application/vnd.jupyter.widget-view+json": {
       "version_major": 2,
       "version_minor": 0,
       "model_id": "271a13f314c949e28f8e40aafb8926ef"
      }
     },
     "metadata": {},
     "output_type": "display_data"
    },
    {
     "name": "stdout",
     "output_type": "stream",
     "text": [
      "y_new - y_current is -1.286870383370541: \n",
      "---------- 25/L ----------\n",
      "\n",
      "---------- 26/L ----------\n",
      "\n",
      "x_new before clipping:  [0.17018625 1.41788389 6.80837098]\n",
      "x_new after clipping:  [0.17018625 1.41788389 6.80837098]\n"
     ]
    },
    {
     "data": {
      "text/plain": "solve for U:   0%|          | 0/831 [00:00<?, ?it/s]",
      "application/vnd.jupyter.widget-view+json": {
       "version_major": 2,
       "version_minor": 0,
       "model_id": "cb8e1426ae7547f184623e2469b03339"
      }
     },
     "metadata": {},
     "output_type": "display_data"
    },
    {
     "name": "stdout",
     "output_type": "stream",
     "text": [
      "y_new - y_current is -0.11734507669495997: \n",
      "---------- 26/L ----------\n",
      "\n",
      "---------- 27/L ----------\n",
      "\n",
      "x_new before clipping:  [0.27912656 1.71862833 6.98215402]\n",
      "x_new after clipping:  [0.27912656 1.71862833 6.98215402]\n"
     ]
    },
    {
     "data": {
      "text/plain": "solve for U:   0%|          | 0/831 [00:00<?, ?it/s]",
      "application/vnd.jupyter.widget-view+json": {
       "version_major": 2,
       "version_minor": 0,
       "model_id": "f938c9620c954bb698842809bdc1a888"
      }
     },
     "metadata": {},
     "output_type": "display_data"
    },
    {
     "name": "stdout",
     "output_type": "stream",
     "text": [
      "y_new - y_current is -1.7122212680162932: \n",
      "---------- 27/L ----------\n",
      "\n",
      "---------- 28/L ----------\n",
      "\n",
      "x_new before clipping:  [0.04619685 1.75378371 6.90747818]\n",
      "x_new after clipping:  [0.04619685 1.75378371 6.90747818]\n"
     ]
    },
    {
     "data": {
      "text/plain": "solve for U:   0%|          | 0/831 [00:00<?, ?it/s]",
      "application/vnd.jupyter.widget-view+json": {
       "version_major": 2,
       "version_minor": 0,
       "model_id": "0116f315ef7e4129aa61052baacd45cf"
      }
     },
     "metadata": {},
     "output_type": "display_data"
    },
    {
     "name": "stdout",
     "output_type": "stream",
     "text": [
      "y_new - y_current is 13.125963704628532: \n",
      "---------- 28/L ----------\n",
      "\n",
      "---------- 29/L ----------\n",
      "\n",
      "x_new before clipping:  [0.19458138 1.862675   7.1058546 ]\n",
      "x_new after clipping:  [0.19458138 1.862675   7.1058546 ]\n"
     ]
    },
    {
     "data": {
      "text/plain": "solve for U:   0%|          | 0/831 [00:00<?, ?it/s]",
      "application/vnd.jupyter.widget-view+json": {
       "version_major": 2,
       "version_minor": 0,
       "model_id": "8867f3e9d1d440c3904a9a1a5717dfb7"
      }
     },
     "metadata": {},
     "output_type": "display_data"
    },
    {
     "name": "stdout",
     "output_type": "stream",
     "text": [
      "y_new - y_current is -17.88066861839539: \n",
      "---------- 29/L ----------\n",
      "\n",
      "---------- 30/L ----------\n",
      "\n",
      "x_new before clipping:  [-0.03171014  1.70123458  6.84559968]\n",
      "x_new after clipping:  [-0.03171014  1.70123458  6.84559968]\n"
     ]
    },
    {
     "data": {
      "text/plain": "solve for U:   0%|          | 0/831 [00:00<?, ?it/s]",
      "application/vnd.jupyter.widget-view+json": {
       "version_major": 2,
       "version_minor": 0,
       "model_id": "055a5ae931434c1d918833bf2190e957"
      }
     },
     "metadata": {},
     "output_type": "display_data"
    },
    {
     "name": "stdout",
     "output_type": "stream",
     "text": [
      "y_new - y_current is 46.23107842321241: \n",
      "---------- 30/L ----------\n",
      "\n",
      "---------- 31/L ----------\n",
      "\n",
      "x_new before clipping:  [-0.23474212  2.1120151   7.01501825]\n",
      "x_new after clipping:  [-0.23474212  2.          7.01501825]\n"
     ]
    },
    {
     "data": {
      "text/plain": "solve for U:   0%|          | 0/831 [00:00<?, ?it/s]",
      "application/vnd.jupyter.widget-view+json": {
       "version_major": 2,
       "version_minor": 0,
       "model_id": "3d26ec8a52b540b38b6cc0786be2e4c0"
      }
     },
     "metadata": {},
     "output_type": "display_data"
    },
    {
     "name": "stdout",
     "output_type": "stream",
     "text": [
      "y_new - y_current is 78.84274781801923: \n",
      "---------- 31/L ----------\n",
      "\n",
      "---------- 32/L ----------\n",
      "\n",
      "x_new before clipping:  [-0.41066271  2.16865388  7.20148731]\n",
      "x_new after clipping:  [-0.3         2.          7.20148731]\n"
     ]
    },
    {
     "data": {
      "text/plain": "solve for U:   0%|          | 0/831 [00:00<?, ?it/s]",
      "application/vnd.jupyter.widget-view+json": {
       "version_major": 2,
       "version_minor": 0,
       "model_id": "f3fe2042fae64f5c876bc3caa7871ac0"
      }
     },
     "metadata": {},
     "output_type": "display_data"
    },
    {
     "name": "stdout",
     "output_type": "stream",
     "text": [
      "y_new - y_current is 32.62257959704726: \n",
      "---------- 32/L ----------\n",
      "\n",
      "---------- 33/L ----------\n",
      "\n",
      "x_new before clipping:  [-0.29162575  2.23208249  6.92470655]\n",
      "x_new after clipping:  [-0.29162575  2.          6.92470655]\n"
     ]
    },
    {
     "data": {
      "text/plain": "solve for U:   0%|          | 0/831 [00:00<?, ?it/s]",
      "application/vnd.jupyter.widget-view+json": {
       "version_major": 2,
       "version_minor": 0,
       "model_id": "1f78482eb9f04ec4945b65cdc92c35ca"
      }
     },
     "metadata": {},
     "output_type": "display_data"
    },
    {
     "name": "stdout",
     "output_type": "stream",
     "text": [
      "y_new - y_current is 27.88940234114284: \n",
      "---------- 33/L ----------\n",
      "\n",
      "---------- 34/L ----------\n",
      "\n",
      "x_new before clipping:  [-0.1889971   1.81748435  7.04770172]\n",
      "x_new after clipping:  [-0.1889971   1.81748435  7.04770172]\n"
     ]
    },
    {
     "data": {
      "text/plain": "solve for U:   0%|          | 0/831 [00:00<?, ?it/s]",
      "application/vnd.jupyter.widget-view+json": {
       "version_major": 2,
       "version_minor": 0,
       "model_id": "e09620b6c763415c93e51d353a0b1298"
      }
     },
     "metadata": {},
     "output_type": "display_data"
    },
    {
     "name": "stdout",
     "output_type": "stream",
     "text": [
      "y_new - y_current is -35.22402591537369: \n",
      "---------- 34/L ----------\n",
      "\n",
      "---------- 35/L ----------\n",
      "\n",
      "x_new before clipping:  [-0.21553462  1.91520104  7.30070537]\n",
      "x_new after clipping:  [-0.21553462  1.91520104  7.30070537]\n"
     ]
    },
    {
     "data": {
      "text/plain": "solve for U:   0%|          | 0/831 [00:00<?, ?it/s]",
      "application/vnd.jupyter.widget-view+json": {
       "version_major": 2,
       "version_minor": 0,
       "model_id": "c2b3e03d0dab46b982a8bf08809ba5ec"
      }
     },
     "metadata": {},
     "output_type": "display_data"
    },
    {
     "name": "stdout",
     "output_type": "stream",
     "text": [
      "y_new - y_current is 6.126536916653691: \n",
      "---------- 35/L ----------\n",
      "\n",
      "---------- 36/L ----------\n",
      "\n",
      "x_new before clipping:  [-0.04849022  1.98002236  7.13761205]\n",
      "x_new after clipping:  [-0.04849022  1.98002236  7.13761205]\n"
     ]
    },
    {
     "data": {
      "text/plain": "solve for U:   0%|          | 0/831 [00:00<?, ?it/s]",
      "application/vnd.jupyter.widget-view+json": {
       "version_major": 2,
       "version_minor": 0,
       "model_id": "a892b86f0469491199bc06ffede02876"
      }
     },
     "metadata": {},
     "output_type": "display_data"
    },
    {
     "name": "stdout",
     "output_type": "stream",
     "text": [
      "y_new - y_current is -85.27211524258536: \n",
      "---------- 36/L ----------\n",
      "\n",
      "---------- 37/L ----------\n",
      "\n",
      "x_new before clipping:  [-0.21136895  1.97790909  7.03525696]\n",
      "x_new after clipping:  [-0.21136895  1.97790909  7.03525696]\n"
     ]
    },
    {
     "data": {
      "text/plain": "solve for U:   0%|          | 0/831 [00:00<?, ?it/s]",
      "application/vnd.jupyter.widget-view+json": {
       "version_major": 2,
       "version_minor": 0,
       "model_id": "ca77fdd9b5ee47719170161a99b7e1f0"
      }
     },
     "metadata": {},
     "output_type": "display_data"
    },
    {
     "name": "stdout",
     "output_type": "stream",
     "text": [
      "y_new - y_current is 76.91087454619708: \n",
      "---------- 37/L ----------\n",
      "\n",
      "---------- 38/L ----------\n",
      "\n",
      "x_new before clipping:  [-0.29499835  1.92115721  6.82804087]\n",
      "x_new after clipping:  [-0.29499835  1.92115721  6.82804087]\n"
     ]
    },
    {
     "data": {
      "text/plain": "solve for U:   0%|          | 0/831 [00:00<?, ?it/s]",
      "application/vnd.jupyter.widget-view+json": {
       "version_major": 2,
       "version_minor": 0,
       "model_id": "0c19fc440f49475b9b02ab22fe1ab5ac"
      }
     },
     "metadata": {},
     "output_type": "display_data"
    },
    {
     "name": "stdout",
     "output_type": "stream",
     "text": [
      "y_new - y_current is 47.01754124855643: \n",
      "---------- 38/L ----------\n",
      "\n",
      "---------- 39/L ----------\n",
      "\n",
      "x_new before clipping:  [-0.30335921  2.10813493  6.96084694]\n",
      "x_new after clipping:  [-0.3         2.          6.96084694]\n"
     ]
    },
    {
     "data": {
      "text/plain": "solve for U:   0%|          | 0/831 [00:00<?, ?it/s]",
      "application/vnd.jupyter.widget-view+json": {
       "version_major": 2,
       "version_minor": 0,
       "model_id": "ab4fb39a4cd04f08a337fc8fdae303ac"
      }
     },
     "metadata": {},
     "output_type": "display_data"
    },
    {
     "name": "stdout",
     "output_type": "stream",
     "text": [
      "y_new - y_current is -5.364698456606504: \n",
      "---------- 39/L ----------\n",
      "\n",
      "---------- 40/L ----------\n",
      "\n",
      "x_new before clipping:  [-0.33849095  2.06419871  6.91779202]\n",
      "x_new after clipping:  [-0.3         2.          6.91779202]\n"
     ]
    },
    {
     "data": {
      "text/plain": "solve for U:   0%|          | 0/831 [00:00<?, ?it/s]",
      "application/vnd.jupyter.widget-view+json": {
       "version_major": 2,
       "version_minor": 0,
       "model_id": "e78f6d7eabea463fbc82cc0d5a74cb04"
      }
     },
     "metadata": {},
     "output_type": "display_data"
    },
    {
     "name": "stdout",
     "output_type": "stream",
     "text": [
      "y_new - y_current is -0.09836271462393142: \n",
      "---------- 40/L ----------\n",
      "\n",
      "---------- 41/L ----------\n",
      "\n",
      "x_new before clipping:  [-0.1072532   1.9492112   7.10780806]\n",
      "x_new after clipping:  [-0.1072532   1.9492112   7.10780806]\n"
     ]
    },
    {
     "data": {
      "text/plain": "solve for U:   0%|          | 0/831 [00:00<?, ?it/s]",
      "application/vnd.jupyter.widget-view+json": {
       "version_major": 2,
       "version_minor": 0,
       "model_id": "e5cc739a8c004b20aac519336f21130b"
      }
     },
     "metadata": {},
     "output_type": "display_data"
    },
    {
     "name": "stdout",
     "output_type": "stream",
     "text": [
      "y_new - y_current is -90.51383282109865: \n",
      "---------- 41/L ----------\n",
      "\n",
      "---------- 42/L ----------\n",
      "\n",
      "x_new before clipping:  [-0.08708155  1.69479365  7.16878477]\n",
      "x_new after clipping:  [-0.08708155  1.69479365  7.16878477]\n"
     ]
    },
    {
     "data": {
      "text/plain": "solve for U:   0%|          | 0/831 [00:00<?, ?it/s]",
      "application/vnd.jupyter.widget-view+json": {
       "version_major": 2,
       "version_minor": 0,
       "model_id": "cb530bf123384031bcfaa411e8b494ee"
      }
     },
     "metadata": {},
     "output_type": "display_data"
    },
    {
     "name": "stdout",
     "output_type": "stream",
     "text": [
      "y_new - y_current is 6.699737266848473: \n",
      "---------- 42/L ----------\n",
      "\n",
      "---------- 43/L ----------\n",
      "\n",
      "x_new before clipping:  [-0.18062423  1.32302337  7.16444313]\n",
      "x_new after clipping:  [-0.18062423  1.32302337  7.16444313]\n"
     ]
    },
    {
     "data": {
      "text/plain": "solve for U:   0%|          | 0/831 [00:00<?, ?it/s]",
      "application/vnd.jupyter.widget-view+json": {
       "version_major": 2,
       "version_minor": 0,
       "model_id": "0c6127ecb64b4716b70d5d9cd2c42089"
      }
     },
     "metadata": {},
     "output_type": "display_data"
    },
    {
     "name": "stdout",
     "output_type": "stream",
     "text": [
      "y_new - y_current is 52.512424895701855: \n",
      "---------- 43/L ----------\n",
      "\n",
      "---------- 44/L ----------\n",
      "\n",
      "x_new before clipping:  [0.07333508 1.26787223 7.04640687]\n",
      "x_new after clipping:  [0.07333508 1.26787223 7.04640687]\n"
     ]
    },
    {
     "data": {
      "text/plain": "solve for U:   0%|          | 0/831 [00:00<?, ?it/s]",
      "application/vnd.jupyter.widget-view+json": {
       "version_major": 2,
       "version_minor": 0,
       "model_id": "00fc0a42d1c34392b3b10f1aa5bbab91"
      }
     },
     "metadata": {},
     "output_type": "display_data"
    },
    {
     "name": "stdout",
     "output_type": "stream",
     "text": [
      "y_new - y_current is -111.97811170896605: \n",
      "---------- 44/L ----------\n",
      "\n",
      "---------- 45/L ----------\n",
      "\n",
      "x_new before clipping:  [0.00848778 1.12787783 7.11038526]\n",
      "x_new after clipping:  [0.00848778 1.12787783 7.11038526]\n"
     ]
    },
    {
     "data": {
      "text/plain": "solve for U:   0%|          | 0/831 [00:00<?, ?it/s]",
      "application/vnd.jupyter.widget-view+json": {
       "version_major": 2,
       "version_minor": 0,
       "model_id": "5063a9fb33b04d83929705e86339078a"
      }
     },
     "metadata": {},
     "output_type": "display_data"
    },
    {
     "name": "stdout",
     "output_type": "stream",
     "text": [
      "y_new - y_current is -0.560827864176531: \n",
      "---------- 45/L ----------\n",
      "\n",
      "---------- 46/L ----------\n",
      "\n",
      "x_new before clipping:  [0.05268579 1.19299394 6.85609235]\n",
      "x_new after clipping:  [0.05268579 1.19299394 6.85609235]\n"
     ]
    },
    {
     "data": {
      "text/plain": "solve for U:   0%|          | 0/831 [00:00<?, ?it/s]",
      "application/vnd.jupyter.widget-view+json": {
       "version_major": 2,
       "version_minor": 0,
       "model_id": "cd1adab4b4764912aaace149ad2020cc"
      }
     },
     "metadata": {},
     "output_type": "display_data"
    },
    {
     "name": "stdout",
     "output_type": "stream",
     "text": [
      "y_new - y_current is -2.3112603989443983: \n",
      "---------- 46/L ----------\n",
      "\n",
      "---------- 47/L ----------\n",
      "\n",
      "x_new before clipping:  [-0.03782119  1.12502939  6.95737817]\n",
      "x_new after clipping:  [-0.03782119  1.12502939  6.95737817]\n"
     ]
    },
    {
     "data": {
      "text/plain": "solve for U:   0%|          | 0/831 [00:00<?, ?it/s]",
      "application/vnd.jupyter.widget-view+json": {
       "version_major": 2,
       "version_minor": 0,
       "model_id": "aa30a76a1f6d436e883351fd208853d6"
      }
     },
     "metadata": {},
     "output_type": "display_data"
    },
    {
     "name": "stdout",
     "output_type": "stream",
     "text": [
      "y_new - y_current is 15.098227041264494: \n",
      "---------- 47/L ----------\n",
      "\n",
      "---------- 48/L ----------\n",
      "\n",
      "x_new before clipping:  [-0.04277409  1.1277205   6.68851216]\n",
      "x_new after clipping:  [-0.04277409  1.1277205   6.68851216]\n"
     ]
    },
    {
     "data": {
      "text/plain": "solve for U:   0%|          | 0/831 [00:00<?, ?it/s]",
      "application/vnd.jupyter.widget-view+json": {
       "version_major": 2,
       "version_minor": 0,
       "model_id": "39e45606e24742cb8845b09a15851940"
      }
     },
     "metadata": {},
     "output_type": "display_data"
    },
    {
     "name": "stdout",
     "output_type": "stream",
     "text": [
      "y_new - y_current is 1.1693984972268936: \n",
      "---------- 48/L ----------\n",
      "\n",
      "---------- 49/L ----------\n",
      "\n",
      "x_new before clipping:  [0.02856986 1.27708317 6.51688474]\n",
      "x_new after clipping:  [0.02856986 1.27708317 6.51688474]\n"
     ]
    },
    {
     "data": {
      "text/plain": "solve for U:   0%|          | 0/831 [00:00<?, ?it/s]",
      "application/vnd.jupyter.widget-view+json": {
       "version_major": 2,
       "version_minor": 0,
       "model_id": "90c9bf16c4ad4af6aa1599777e0e7a72"
      }
     },
     "metadata": {},
     "output_type": "display_data"
    },
    {
     "name": "stdout",
     "output_type": "stream",
     "text": [
      "y_new - y_current is -4.790125344625949: \n",
      "---------- 49/L ----------\n",
      "\n",
      "-------------- 6_th iteration --------------\n",
      "\n",
      "---------- 0/L ----------\n",
      "\n",
      "x_new before clipping:  [0.22665183 1.0924192  6.10782568]\n",
      "x_new after clipping:  [0.22665183 1.0924192  6.10782568]\n"
     ]
    },
    {
     "data": {
      "text/plain": "solve for U:   0%|          | 0/831 [00:00<?, ?it/s]",
      "application/vnd.jupyter.widget-view+json": {
       "version_major": 2,
       "version_minor": 0,
       "model_id": "609c9eca08e6446aa4b4a0f256adfe5b"
      }
     },
     "metadata": {},
     "output_type": "display_data"
    },
    {
     "name": "stdout",
     "output_type": "stream",
     "text": [
      "y_new - y_current is -29.14008459626899: \n",
      "---------- 0/L ----------\n",
      "\n",
      "---------- 1/L ----------\n",
      "\n",
      "x_new before clipping:  [0.22902998 0.82914944 6.52439461]\n",
      "x_new after clipping:  [0.22902998 0.82914944 6.52439461]\n"
     ]
    },
    {
     "data": {
      "text/plain": "solve for U:   0%|          | 0/831 [00:00<?, ?it/s]",
      "application/vnd.jupyter.widget-view+json": {
       "version_major": 2,
       "version_minor": 0,
       "model_id": "3500a6cbbf3f4b21ad50e73191f2a27e"
      }
     },
     "metadata": {},
     "output_type": "display_data"
    },
    {
     "name": "stdout",
     "output_type": "stream",
     "text": [
      "y_new - y_current is -9.704032376087213: \n",
      "---------- 1/L ----------\n",
      "\n",
      "---------- 2/L ----------\n",
      "\n",
      "x_new before clipping:  [0.18383462 0.94956094 6.5783616 ]\n",
      "x_new after clipping:  [0.18383462 0.94956094 6.5783616 ]\n"
     ]
    },
    {
     "data": {
      "text/plain": "solve for U:   0%|          | 0/831 [00:00<?, ?it/s]",
      "application/vnd.jupyter.widget-view+json": {
       "version_major": 2,
       "version_minor": 0,
       "model_id": "c7a6f13999f44f0498e1a2448148624c"
      }
     },
     "metadata": {},
     "output_type": "display_data"
    },
    {
     "name": "stdout",
     "output_type": "stream",
     "text": [
      "y_new - y_current is -0.28755496442700235: \n",
      "---------- 2/L ----------\n",
      "\n",
      "---------- 3/L ----------\n",
      "\n",
      "x_new before clipping:  [-0.10039465  1.37397348  6.19038551]\n",
      "x_new after clipping:  [-0.10039465  1.37397348  6.19038551]\n"
     ]
    },
    {
     "data": {
      "text/plain": "solve for U:   0%|          | 0/831 [00:00<?, ?it/s]",
      "application/vnd.jupyter.widget-view+json": {
       "version_major": 2,
       "version_minor": 0,
       "model_id": "4840c7a456aa470f9879c2f9037c3b7f"
      }
     },
     "metadata": {},
     "output_type": "display_data"
    },
    {
     "name": "stdout",
     "output_type": "stream",
     "text": [
      "y_new - y_current is 97.08834609666398: \n",
      "---------- 3/L ----------\n",
      "\n",
      "---------- 4/L ----------\n",
      "\n",
      "x_new before clipping:  [0.48489404 1.3080738  6.52149571]\n",
      "x_new after clipping:  [0.3        1.3080738  6.52149571]\n"
     ]
    },
    {
     "data": {
      "text/plain": "solve for U:   0%|          | 0/831 [00:00<?, ?it/s]",
      "application/vnd.jupyter.widget-view+json": {
       "version_major": 2,
       "version_minor": 0,
       "model_id": "4fd673464f124ca0bf4bb9fbe618cdc6"
      }
     },
     "metadata": {},
     "output_type": "display_data"
    },
    {
     "name": "stdout",
     "output_type": "stream",
     "text": [
      "y_new - y_current is 22.014773388583777: \n",
      "---------- 4/L ----------\n",
      "\n",
      "---------- 5/L ----------\n",
      "\n",
      "x_new before clipping:  [0.41738317 0.90149419 5.99708821]\n",
      "x_new after clipping:  [0.3        0.90149419 5.99708821]\n"
     ]
    },
    {
     "data": {
      "text/plain": "solve for U:   0%|          | 0/831 [00:00<?, ?it/s]",
      "application/vnd.jupyter.widget-view+json": {
       "version_major": 2,
       "version_minor": 0,
       "model_id": "6b579a907f304197b739590d7ff4fbd8"
      }
     },
     "metadata": {},
     "output_type": "display_data"
    },
    {
     "name": "stdout",
     "output_type": "stream",
     "text": [
      "y_new - y_current is -11.61755430873491: \n",
      "---------- 5/L ----------\n",
      "\n",
      "---------- 6/L ----------\n",
      "\n",
      "x_new before clipping:  [0.35082591 1.13305035 5.84300935]\n",
      "x_new after clipping:  [0.3        1.13305035 5.84300935]\n"
     ]
    },
    {
     "data": {
      "text/plain": "solve for U:   0%|          | 0/831 [00:00<?, ?it/s]",
      "application/vnd.jupyter.widget-view+json": {
       "version_major": 2,
       "version_minor": 0,
       "model_id": "bc627c3262484aa78f7398fc4c37c18d"
      }
     },
     "metadata": {},
     "output_type": "display_data"
    },
    {
     "name": "stdout",
     "output_type": "stream",
     "text": [
      "y_new - y_current is 4.666269448702138: \n",
      "---------- 6/L ----------\n",
      "\n",
      "---------- 7/L ----------\n",
      "\n",
      "x_new before clipping:  [0.44637193 0.63514467 5.90085342]\n",
      "x_new after clipping:  [0.3        0.63514467 5.90085342]\n"
     ]
    },
    {
     "data": {
      "text/plain": "solve for U:   0%|          | 0/831 [00:00<?, ?it/s]",
      "application/vnd.jupyter.widget-view+json": {
       "version_major": 2,
       "version_minor": 0,
       "model_id": "e8c9277ce460490abe8b2b90cdb98808"
      }
     },
     "metadata": {},
     "output_type": "display_data"
    },
    {
     "name": "stdout",
     "output_type": "stream",
     "text": [
      "y_new - y_current is 3.0865224361770203: \n",
      "---------- 7/L ----------\n",
      "\n",
      "---------- 8/L ----------\n",
      "\n",
      "x_new before clipping:  [0.45859195 0.65162321 5.66306026]\n",
      "x_new after clipping:  [0.3        0.65162321 5.66306026]\n"
     ]
    },
    {
     "data": {
      "text/plain": "solve for U:   0%|          | 0/831 [00:00<?, ?it/s]",
      "application/vnd.jupyter.widget-view+json": {
       "version_major": 2,
       "version_minor": 0,
       "model_id": "4037f7466bee48cf9e03d79199a59bb8"
      }
     },
     "metadata": {},
     "output_type": "display_data"
    },
    {
     "name": "stdout",
     "output_type": "stream",
     "text": [
      "y_new - y_current is -2.2604378487464487: \n",
      "---------- 8/L ----------\n",
      "\n",
      "---------- 9/L ----------\n",
      "\n",
      "x_new before clipping:  [-4.57656633e-03  6.12307416e-01  5.64709188e+00]\n",
      "x_new after clipping:  [-4.57656633e-03  6.12307416e-01  5.64709188e+00]\n"
     ]
    },
    {
     "data": {
      "text/plain": "solve for U:   0%|          | 0/831 [00:00<?, ?it/s]",
      "application/vnd.jupyter.widget-view+json": {
       "version_major": 2,
       "version_minor": 0,
       "model_id": "a89d6639476e4fc2a98d4149a58efc6a"
      }
     },
     "metadata": {},
     "output_type": "display_data"
    },
    {
     "name": "stdout",
     "output_type": "stream",
     "text": [
      "y_new - y_current is -68.36721255053496: \n",
      "---------- 9/L ----------\n",
      "\n",
      "---------- 10/L ----------\n",
      "\n",
      "x_new before clipping:  [0.32737589 0.89398405 5.52028482]\n",
      "x_new after clipping:  [0.3        0.89398405 5.52028482]\n"
     ]
    },
    {
     "data": {
      "text/plain": "solve for U:   0%|          | 0/831 [00:00<?, ?it/s]",
      "application/vnd.jupyter.widget-view+json": {
       "version_major": 2,
       "version_minor": 0,
       "model_id": "ff63a249abee42a88a050a65f9f0fb52"
      }
     },
     "metadata": {},
     "output_type": "display_data"
    },
    {
     "name": "stdout",
     "output_type": "stream",
     "text": [
      "y_new - y_current is 60.97948022215812: \n",
      "---------- 10/L ----------\n",
      "\n",
      "---------- 11/L ----------\n",
      "\n",
      "x_new before clipping:  [0.38639066 0.84805656 5.39091516]\n",
      "x_new after clipping:  [0.3        0.84805656 5.39091516]\n"
     ]
    },
    {
     "data": {
      "text/plain": "solve for U:   0%|          | 0/831 [00:00<?, ?it/s]",
      "application/vnd.jupyter.widget-view+json": {
       "version_major": 2,
       "version_minor": 0,
       "model_id": "742e022a2aaf4a1b9da20f5a3133aa65"
      }
     },
     "metadata": {},
     "output_type": "display_data"
    },
    {
     "name": "stdout",
     "output_type": "stream",
     "text": [
      "y_new - y_current is -0.6550796242841983: \n",
      "---------- 11/L ----------\n",
      "\n",
      "---------- 12/L ----------\n",
      "\n",
      "x_new before clipping:  [0.34713134 1.12842722 5.55771663]\n",
      "x_new after clipping:  [0.3        1.12842722 5.55771663]\n"
     ]
    },
    {
     "data": {
      "text/plain": "solve for U:   0%|          | 0/831 [00:00<?, ?it/s]",
      "application/vnd.jupyter.widget-view+json": {
       "version_major": 2,
       "version_minor": 0,
       "model_id": "519eecb4532642d7a7d81651ea662b8c"
      }
     },
     "metadata": {},
     "output_type": "display_data"
    },
    {
     "name": "stdout",
     "output_type": "stream",
     "text": [
      "y_new - y_current is 6.024810416406169: \n",
      "---------- 12/L ----------\n",
      "\n",
      "---------- 13/L ----------\n",
      "\n",
      "x_new before clipping:  [0.36906799 1.47312745 5.62007548]\n",
      "x_new after clipping:  [0.3        1.47312745 5.62007548]\n"
     ]
    },
    {
     "data": {
      "text/plain": "solve for U:   0%|          | 0/831 [00:00<?, ?it/s]",
      "application/vnd.jupyter.widget-view+json": {
       "version_major": 2,
       "version_minor": 0,
       "model_id": "5589f2cf4c4d4de483b17df326877477"
      }
     },
     "metadata": {},
     "output_type": "display_data"
    },
    {
     "name": "stdout",
     "output_type": "stream",
     "text": [
      "y_new - y_current is 7.688752275124159: \n",
      "---------- 13/L ----------\n",
      "\n",
      "---------- 14/L ----------\n",
      "\n",
      "x_new before clipping:  [0.52260535 1.37603292 5.47102545]\n",
      "x_new after clipping:  [0.3        1.37603292 5.47102545]\n"
     ]
    },
    {
     "data": {
      "text/plain": "solve for U:   0%|          | 0/831 [00:00<?, ?it/s]",
      "application/vnd.jupyter.widget-view+json": {
       "version_major": 2,
       "version_minor": 0,
       "model_id": "aa8bbf08f9e84774a563c0facfa864b3"
      }
     },
     "metadata": {},
     "output_type": "display_data"
    },
    {
     "name": "stdout",
     "output_type": "stream",
     "text": [
      "y_new - y_current is -1.3718177297484146: \n",
      "---------- 14/L ----------\n",
      "\n",
      "---------- 15/L ----------\n",
      "\n",
      "x_new before clipping:  [0.56510222 1.70870899 5.06734359]\n",
      "x_new after clipping:  [0.3        1.70870899 5.06734359]\n"
     ]
    },
    {
     "data": {
      "text/plain": "solve for U:   0%|          | 0/831 [00:00<?, ?it/s]",
      "application/vnd.jupyter.widget-view+json": {
       "version_major": 2,
       "version_minor": 0,
       "model_id": "5667dacfe10a4683bd46242a1e32608a"
      }
     },
     "metadata": {},
     "output_type": "display_data"
    },
    {
     "name": "stdout",
     "output_type": "stream",
     "text": [
      "y_new - y_current is -1.1250416321148577: \n",
      "---------- 15/L ----------\n",
      "\n",
      "---------- 16/L ----------\n",
      "\n",
      "x_new before clipping:  [0.24227899 1.97891265 5.25883198]\n",
      "x_new after clipping:  [0.24227899 1.97891265 5.25883198]\n"
     ]
    },
    {
     "data": {
      "text/plain": "solve for U:   0%|          | 0/831 [00:00<?, ?it/s]",
      "application/vnd.jupyter.widget-view+json": {
       "version_major": 2,
       "version_minor": 0,
       "model_id": "2a43dd8f5ac243d48665e245991231d8"
      }
     },
     "metadata": {},
     "output_type": "display_data"
    },
    {
     "name": "stdout",
     "output_type": "stream",
     "text": [
      "y_new - y_current is -6.6756738231475055: \n",
      "---------- 16/L ----------\n",
      "\n",
      "---------- 17/L ----------\n",
      "\n",
      "x_new before clipping:  [0.04211462 1.91908501 5.0657192 ]\n",
      "x_new after clipping:  [0.04211462 1.91908501 5.0657192 ]\n"
     ]
    },
    {
     "data": {
      "text/plain": "solve for U:   0%|          | 0/831 [00:00<?, ?it/s]",
      "application/vnd.jupyter.widget-view+json": {
       "version_major": 2,
       "version_minor": 0,
       "model_id": "ce59a63bafbd45acb0b9c1c4b4e58061"
      }
     },
     "metadata": {},
     "output_type": "display_data"
    },
    {
     "name": "stdout",
     "output_type": "stream",
     "text": [
      "y_new - y_current is 12.473761063961504: \n",
      "---------- 17/L ----------\n",
      "\n",
      "---------- 18/L ----------\n",
      "\n",
      "x_new before clipping:  [0.22439228 2.02607612 5.15510655]\n",
      "x_new after clipping:  [0.22439228 2.         5.15510655]\n"
     ]
    },
    {
     "data": {
      "text/plain": "solve for U:   0%|          | 0/831 [00:00<?, ?it/s]",
      "application/vnd.jupyter.widget-view+json": {
       "version_major": 2,
       "version_minor": 0,
       "model_id": "8bf8c278f7f9471c9a6451a006a22162"
      }
     },
     "metadata": {},
     "output_type": "display_data"
    },
    {
     "name": "stdout",
     "output_type": "stream",
     "text": [
      "y_new - y_current is -13.697017779824506: \n",
      "---------- 18/L ----------\n",
      "\n",
      "---------- 19/L ----------\n",
      "\n",
      "x_new before clipping:  [0.46402934 1.97120483 5.44114164]\n",
      "x_new after clipping:  [0.3        1.97120483 5.44114164]\n"
     ]
    },
    {
     "data": {
      "text/plain": "solve for U:   0%|          | 0/831 [00:00<?, ?it/s]",
      "application/vnd.jupyter.widget-view+json": {
       "version_major": 2,
       "version_minor": 0,
       "model_id": "54a80f2743904b9390564ae484ef1766"
      }
     },
     "metadata": {},
     "output_type": "display_data"
    },
    {
     "name": "stdout",
     "output_type": "stream",
     "text": [
      "y_new - y_current is 4.632784371329734: \n",
      "---------- 19/L ----------\n",
      "\n",
      "---------- 20/L ----------\n",
      "\n",
      "x_new before clipping:  [0.70186929 2.20258034 5.24945122]\n",
      "x_new after clipping:  [0.3        2.         5.24945122]\n"
     ]
    },
    {
     "data": {
      "text/plain": "solve for U:   0%|          | 0/831 [00:00<?, ?it/s]",
      "application/vnd.jupyter.widget-view+json": {
       "version_major": 2,
       "version_minor": 0,
       "model_id": "c47c2c954b5c496f96636e9a04bc2414"
      }
     },
     "metadata": {},
     "output_type": "display_data"
    },
    {
     "name": "stdout",
     "output_type": "stream",
     "text": [
      "y_new - y_current is -0.7891167848437419: \n",
      "---------- 20/L ----------\n",
      "\n",
      "---------- 21/L ----------\n",
      "\n",
      "x_new before clipping:  [0.22324767 2.05951138 5.15581018]\n",
      "x_new after clipping:  [0.22324767 2.         5.15581018]\n"
     ]
    },
    {
     "data": {
      "text/plain": "solve for U:   0%|          | 0/831 [00:00<?, ?it/s]",
      "application/vnd.jupyter.widget-view+json": {
       "version_major": 2,
       "version_minor": 0,
       "model_id": "a5382ed32d1243b9b7b9fc0bf35d9cb5"
      }
     },
     "metadata": {},
     "output_type": "display_data"
    },
    {
     "name": "stdout",
     "output_type": "stream",
     "text": [
      "y_new - y_current is -3.8780168935444976: \n",
      "---------- 21/L ----------\n",
      "\n",
      "---------- 22/L ----------\n",
      "\n",
      "x_new before clipping:  [0.30365337 2.01868344 5.03526062]\n",
      "x_new after clipping:  [0.3        2.         5.03526062]\n"
     ]
    },
    {
     "data": {
      "text/plain": "solve for U:   0%|          | 0/831 [00:00<?, ?it/s]",
      "application/vnd.jupyter.widget-view+json": {
       "version_major": 2,
       "version_minor": 0,
       "model_id": "a63c30f5685f4997a554f81a8b929bb3"
      }
     },
     "metadata": {},
     "output_type": "display_data"
    },
    {
     "name": "stdout",
     "output_type": "stream",
     "text": [
      "y_new - y_current is 3.542994787771775: \n",
      "---------- 22/L ----------\n",
      "\n",
      "---------- 23/L ----------\n",
      "\n",
      "x_new before clipping:  [0.22845596 1.81881227 4.6304189 ]\n",
      "x_new after clipping:  [0.22845596 1.81881227 4.6304189 ]\n"
     ]
    },
    {
     "data": {
      "text/plain": "solve for U:   0%|          | 0/831 [00:00<?, ?it/s]",
      "application/vnd.jupyter.widget-view+json": {
       "version_major": 2,
       "version_minor": 0,
       "model_id": "778e331554b74eb89474b373b41ed320"
      }
     },
     "metadata": {},
     "output_type": "display_data"
    },
    {
     "name": "stdout",
     "output_type": "stream",
     "text": [
      "y_new - y_current is -1.1742363619441107: \n",
      "---------- 23/L ----------\n",
      "\n",
      "---------- 24/L ----------\n",
      "\n",
      "x_new before clipping:  [0.14167401 1.71633145 4.55348502]\n",
      "x_new after clipping:  [0.14167401 1.71633145 4.55348502]\n"
     ]
    },
    {
     "data": {
      "text/plain": "solve for U:   0%|          | 0/831 [00:00<?, ?it/s]",
      "application/vnd.jupyter.widget-view+json": {
       "version_major": 2,
       "version_minor": 0,
       "model_id": "2060eef1c1a74b808161c7fd8cd46fa5"
      }
     },
     "metadata": {},
     "output_type": "display_data"
    },
    {
     "name": "stdout",
     "output_type": "stream",
     "text": [
      "y_new - y_current is 2.1542792505709656: \n",
      "---------- 24/L ----------\n",
      "\n",
      "---------- 25/L ----------\n",
      "\n",
      "x_new before clipping:  [0.46502728 1.57521919 4.46947117]\n",
      "x_new after clipping:  [0.3        1.57521919 4.46947117]\n"
     ]
    },
    {
     "data": {
      "text/plain": "solve for U:   0%|          | 0/831 [00:00<?, ?it/s]",
      "application/vnd.jupyter.widget-view+json": {
       "version_major": 2,
       "version_minor": 0,
       "model_id": "c6822d4e19284f379bf23cb448f3a616"
      }
     },
     "metadata": {},
     "output_type": "display_data"
    },
    {
     "name": "stdout",
     "output_type": "stream",
     "text": [
      "y_new - y_current is 2.6835512787296096: \n",
      "---------- 25/L ----------\n",
      "\n",
      "---------- 26/L ----------\n",
      "\n",
      "x_new before clipping:  [0.53835889 1.18502573 4.1219381 ]\n",
      "x_new after clipping:  [0.3        1.18502573 4.1219381 ]\n"
     ]
    },
    {
     "data": {
      "text/plain": "solve for U:   0%|          | 0/831 [00:00<?, ?it/s]",
      "application/vnd.jupyter.widget-view+json": {
       "version_major": 2,
       "version_minor": 0,
       "model_id": "8a10b68ac58c402ab60bb6b26acfb818"
      }
     },
     "metadata": {},
     "output_type": "display_data"
    },
    {
     "name": "stdout",
     "output_type": "stream",
     "text": [
      "y_new - y_current is -8.853496956442399: \n",
      "---------- 26/L ----------\n",
      "\n",
      "---------- 27/L ----------\n",
      "\n",
      "x_new before clipping:  [0.07125652 1.09756798 4.45029267]\n",
      "x_new after clipping:  [0.07125652 1.09756798 4.45029267]\n"
     ]
    },
    {
     "data": {
      "text/plain": "solve for U:   0%|          | 0/831 [00:00<?, ?it/s]",
      "application/vnd.jupyter.widget-view+json": {
       "version_major": 2,
       "version_minor": 0,
       "model_id": "3b4906641ce448c48797f9c3f025f303"
      }
     },
     "metadata": {},
     "output_type": "display_data"
    },
    {
     "name": "stdout",
     "output_type": "stream",
     "text": [
      "y_new - y_current is -7.565115759451302: \n",
      "---------- 27/L ----------\n",
      "\n",
      "---------- 28/L ----------\n",
      "\n",
      "x_new before clipping:  [0.43019838 1.25093751 4.65531563]\n",
      "x_new after clipping:  [0.3        1.25093751 4.65531563]\n"
     ]
    },
    {
     "data": {
      "text/plain": "solve for U:   0%|          | 0/831 [00:00<?, ?it/s]",
      "application/vnd.jupyter.widget-view+json": {
       "version_major": 2,
       "version_minor": 0,
       "model_id": "4adf5e1b4d634e1b8c334472034de2b7"
      }
     },
     "metadata": {},
     "output_type": "display_data"
    },
    {
     "name": "stdout",
     "output_type": "stream",
     "text": [
      "y_new - y_current is 12.292687396444123: \n",
      "---------- 28/L ----------\n",
      "\n",
      "---------- 29/L ----------\n",
      "\n",
      "x_new before clipping:  [0.20827207 1.4954385  4.63010666]\n",
      "x_new after clipping:  [0.20827207 1.4954385  4.63010666]\n"
     ]
    },
    {
     "data": {
      "text/plain": "solve for U:   0%|          | 0/831 [00:00<?, ?it/s]",
      "application/vnd.jupyter.widget-view+json": {
       "version_major": 2,
       "version_minor": 0,
       "model_id": "a72f941d4e584a5c83a8fce3ab5e0778"
      }
     },
     "metadata": {},
     "output_type": "display_data"
    },
    {
     "name": "stdout",
     "output_type": "stream",
     "text": [
      "y_new - y_current is 1.626037012788231: \n",
      "---------- 29/L ----------\n",
      "\n",
      "---------- 30/L ----------\n",
      "\n",
      "x_new before clipping:  [0.50720103 1.50135552 4.6366624 ]\n",
      "x_new after clipping:  [0.3        1.50135552 4.6366624 ]\n"
     ]
    },
    {
     "data": {
      "text/plain": "solve for U:   0%|          | 0/831 [00:00<?, ?it/s]",
      "application/vnd.jupyter.widget-view+json": {
       "version_major": 2,
       "version_minor": 0,
       "model_id": "4f02f885f1474a3a9091033447dcf51d"
      }
     },
     "metadata": {},
     "output_type": "display_data"
    },
    {
     "name": "stdout",
     "output_type": "stream",
     "text": [
      "y_new - y_current is 2.9188780451244156: \n",
      "---------- 30/L ----------\n",
      "\n",
      "---------- 31/L ----------\n",
      "\n",
      "x_new before clipping:  [0.14730011 1.47577559 4.43985169]\n",
      "x_new after clipping:  [0.14730011 1.47577559 4.43985169]\n"
     ]
    },
    {
     "data": {
      "text/plain": "solve for U:   0%|          | 0/831 [00:00<?, ?it/s]",
      "application/vnd.jupyter.widget-view+json": {
       "version_major": 2,
       "version_minor": 0,
       "model_id": "5c8dc197602840f19ce92d6f9324a569"
      }
     },
     "metadata": {},
     "output_type": "display_data"
    },
    {
     "name": "stdout",
     "output_type": "stream",
     "text": [
      "y_new - y_current is -2.2756256095747744: \n",
      "---------- 31/L ----------\n",
      "\n",
      "---------- 32/L ----------\n",
      "\n",
      "x_new before clipping:  [0.01984245 1.51584512 4.55593824]\n",
      "x_new after clipping:  [0.01984245 1.51584512 4.55593824]\n"
     ]
    },
    {
     "data": {
      "text/plain": "solve for U:   0%|          | 0/831 [00:00<?, ?it/s]",
      "application/vnd.jupyter.widget-view+json": {
       "version_major": 2,
       "version_minor": 0,
       "model_id": "f82e2a08742946bd9c7d678b10da8eb8"
      }
     },
     "metadata": {},
     "output_type": "display_data"
    },
    {
     "name": "stdout",
     "output_type": "stream",
     "text": [
      "y_new - y_current is 23.155566768955453: \n",
      "---------- 32/L ----------\n",
      "\n",
      "---------- 33/L ----------\n",
      "\n",
      "x_new before clipping:  [0.29268168 1.97442532 4.54762291]\n",
      "x_new after clipping:  [0.29268168 1.97442532 4.54762291]\n"
     ]
    },
    {
     "data": {
      "text/plain": "solve for U:   0%|          | 0/831 [00:00<?, ?it/s]",
      "application/vnd.jupyter.widget-view+json": {
       "version_major": 2,
       "version_minor": 0,
       "model_id": "d1277437ae94442c8bfa51466a6d2f61"
      }
     },
     "metadata": {},
     "output_type": "display_data"
    },
    {
     "name": "stdout",
     "output_type": "stream",
     "text": [
      "y_new - y_current is -25.852169213345974: \n",
      "---------- 33/L ----------\n",
      "\n",
      "---------- 34/L ----------\n",
      "\n",
      "x_new before clipping:  [0.16038264 1.49407456 4.61334706]\n",
      "x_new after clipping:  [0.16038264 1.49407456 4.61334706]\n"
     ]
    },
    {
     "data": {
      "text/plain": "solve for U:   0%|          | 0/831 [00:00<?, ?it/s]",
      "application/vnd.jupyter.widget-view+json": {
       "version_major": 2,
       "version_minor": 0,
       "model_id": "bc182687985c4f87a3d44712707b37a1"
      }
     },
     "metadata": {},
     "output_type": "display_data"
    },
    {
     "name": "stdout",
     "output_type": "stream",
     "text": [
      "y_new - y_current is 2.866194710402965: \n",
      "---------- 34/L ----------\n",
      "\n",
      "---------- 35/L ----------\n",
      "\n",
      "x_new before clipping:  [0.05026063 1.35116774 4.50961781]\n",
      "x_new after clipping:  [0.05026063 1.35116774 4.50961781]\n"
     ]
    },
    {
     "data": {
      "text/plain": "solve for U:   0%|          | 0/831 [00:00<?, ?it/s]",
      "application/vnd.jupyter.widget-view+json": {
       "version_major": 2,
       "version_minor": 0,
       "model_id": "ba364e78f2f34252a2e5cfdbb2c3f191"
      }
     },
     "metadata": {},
     "output_type": "display_data"
    },
    {
     "name": "stdout",
     "output_type": "stream",
     "text": [
      "y_new - y_current is 11.225894890354311: \n",
      "---------- 35/L ----------\n",
      "\n",
      "---------- 36/L ----------\n",
      "\n",
      "x_new before clipping:  [0.17447169 1.34197768 4.75971639]\n",
      "x_new after clipping:  [0.17447169 1.34197768 4.75971639]\n"
     ]
    },
    {
     "data": {
      "text/plain": "solve for U:   0%|          | 0/831 [00:00<?, ?it/s]",
      "application/vnd.jupyter.widget-view+json": {
       "version_major": 2,
       "version_minor": 0,
       "model_id": "4e1eaa66a1cd429c9ebc2e1a49fd4826"
      }
     },
     "metadata": {},
     "output_type": "display_data"
    },
    {
     "name": "stdout",
     "output_type": "stream",
     "text": [
      "y_new - y_current is -13.374841601760181: \n",
      "---------- 36/L ----------\n",
      "\n",
      "---------- 37/L ----------\n",
      "\n",
      "x_new before clipping:  [0.19547282 1.79605386 4.73275149]\n",
      "x_new after clipping:  [0.19547282 1.79605386 4.73275149]\n"
     ]
    },
    {
     "data": {
      "text/plain": "solve for U:   0%|          | 0/831 [00:00<?, ?it/s]",
      "application/vnd.jupyter.widget-view+json": {
       "version_major": 2,
       "version_minor": 0,
       "model_id": "c48e4e8b8c524770bdb33e3451daf9a8"
      }
     },
     "metadata": {},
     "output_type": "display_data"
    },
    {
     "name": "stdout",
     "output_type": "stream",
     "text": [
      "y_new - y_current is -0.9130369631392341: \n",
      "---------- 37/L ----------\n",
      "\n",
      "---------- 38/L ----------\n",
      "\n",
      "x_new before clipping:  [0.46355861 1.72096447 4.78621544]\n",
      "x_new after clipping:  [0.3        1.72096447 4.78621544]\n"
     ]
    },
    {
     "data": {
      "text/plain": "solve for U:   0%|          | 0/831 [00:00<?, ?it/s]",
      "application/vnd.jupyter.widget-view+json": {
       "version_major": 2,
       "version_minor": 0,
       "model_id": "31be9256db674ca0aeb9f6b899dc463b"
      }
     },
     "metadata": {},
     "output_type": "display_data"
    },
    {
     "name": "stdout",
     "output_type": "stream",
     "text": [
      "y_new - y_current is 4.680942606866665: \n",
      "---------- 38/L ----------\n",
      "\n",
      "---------- 39/L ----------\n",
      "\n",
      "x_new before clipping:  [0.25022902 1.59016853 4.64796581]\n",
      "x_new after clipping:  [0.25022902 1.59016853 4.64796581]\n"
     ]
    },
    {
     "data": {
      "text/plain": "solve for U:   0%|          | 0/831 [00:00<?, ?it/s]",
      "application/vnd.jupyter.widget-view+json": {
       "version_major": 2,
       "version_minor": 0,
       "model_id": "692c11ed530b4f9cbb036d294dfd605f"
      }
     },
     "metadata": {},
     "output_type": "display_data"
    },
    {
     "name": "stdout",
     "output_type": "stream",
     "text": [
      "y_new - y_current is -1.5975469896881407: \n",
      "---------- 39/L ----------\n",
      "\n",
      "---------- 40/L ----------\n",
      "\n",
      "x_new before clipping:  [0.60551654 1.6233834  4.73636064]\n",
      "x_new after clipping:  [0.3        1.6233834  4.73636064]\n"
     ]
    },
    {
     "data": {
      "text/plain": "solve for U:   0%|          | 0/831 [00:00<?, ?it/s]",
      "application/vnd.jupyter.widget-view+json": {
       "version_major": 2,
       "version_minor": 0,
       "model_id": "2a6db611726849cfb774c6ea553b2fbc"
      }
     },
     "metadata": {},
     "output_type": "display_data"
    },
    {
     "name": "stdout",
     "output_type": "stream",
     "text": [
      "y_new - y_current is 2.287007663873595: \n",
      "---------- 40/L ----------\n",
      "\n",
      "---------- 41/L ----------\n",
      "\n",
      "x_new before clipping:  [0.7336019  1.46491426 4.48757319]\n",
      "x_new after clipping:  [0.3        1.46491426 4.48757319]\n"
     ]
    },
    {
     "data": {
      "text/plain": "solve for U:   0%|          | 0/831 [00:00<?, ?it/s]",
      "application/vnd.jupyter.widget-view+json": {
       "version_major": 2,
       "version_minor": 0,
       "model_id": "f7aedc0819e84eb2bb1bda3226431919"
      }
     },
     "metadata": {},
     "output_type": "display_data"
    },
    {
     "name": "stdout",
     "output_type": "stream",
     "text": [
      "y_new - y_current is -0.963359078952152: \n",
      "---------- 41/L ----------\n",
      "\n",
      "---------- 42/L ----------\n",
      "\n",
      "x_new before clipping:  [-0.19748232  1.66625875  4.21723358]\n",
      "x_new after clipping:  [-0.19748232  1.66625875  4.21723358]\n"
     ]
    },
    {
     "data": {
      "text/plain": "solve for U:   0%|          | 0/831 [00:00<?, ?it/s]",
      "application/vnd.jupyter.widget-view+json": {
       "version_major": 2,
       "version_minor": 0,
       "model_id": "e2eb019086d74b59ad04014140eb1e6a"
      }
     },
     "metadata": {},
     "output_type": "display_data"
    },
    {
     "name": "stdout",
     "output_type": "stream",
     "text": [
      "y_new - y_current is 121.07023973191667: \n",
      "---------- 42/L ----------\n",
      "\n",
      "---------- 43/L ----------\n",
      "\n",
      "x_new before clipping:  [-0.43965162  1.83776822  4.33809074]\n",
      "x_new after clipping:  [-0.3         1.83776822  4.33809074]\n"
     ]
    },
    {
     "data": {
      "text/plain": "solve for U:   0%|          | 0/831 [00:00<?, ?it/s]",
      "application/vnd.jupyter.widget-view+json": {
       "version_major": 2,
       "version_minor": 0,
       "model_id": "66fe0ca2dd03456b950d941fd665a567"
      }
     },
     "metadata": {},
     "output_type": "display_data"
    },
    {
     "name": "stdout",
     "output_type": "stream",
     "text": [
      "y_new - y_current is 43.25485024979494: \n",
      "---------- 43/L ----------\n",
      "\n",
      "---------- 44/L ----------\n",
      "\n",
      "x_new before clipping:  [-0.22009369  1.98035093  4.38619837]\n",
      "x_new after clipping:  [-0.22009369  1.98035093  4.38619837]\n"
     ]
    },
    {
     "data": {
      "text/plain": "solve for U:   0%|          | 0/831 [00:00<?, ?it/s]",
      "application/vnd.jupyter.widget-view+json": {
       "version_major": 2,
       "version_minor": 0,
       "model_id": "3ec70717f3e04d1199a2c9d670d8808f"
      }
     },
     "metadata": {},
     "output_type": "display_data"
    },
    {
     "name": "stdout",
     "output_type": "stream",
     "text": [
      "y_new - y_current is -53.7404625229604: \n",
      "---------- 44/L ----------\n",
      "\n",
      "---------- 45/L ----------\n",
      "\n",
      "x_new before clipping:  [-0.31235257  2.06852807  4.3115906 ]\n",
      "x_new after clipping:  [-0.3        2.         4.3115906]\n"
     ]
    },
    {
     "data": {
      "text/plain": "solve for U:   0%|          | 0/831 [00:00<?, ?it/s]",
      "application/vnd.jupyter.widget-view+json": {
       "version_major": 2,
       "version_minor": 0,
       "model_id": "702aa297db184df08b72785b49c67ee7"
      }
     },
     "metadata": {},
     "output_type": "display_data"
    },
    {
     "name": "stdout",
     "output_type": "stream",
     "text": [
      "y_new - y_current is 37.77704336146206: \n",
      "---------- 45/L ----------\n",
      "\n",
      "---------- 46/L ----------\n",
      "\n",
      "x_new before clipping:  [-0.15289342  1.68562557  4.01480548]\n",
      "x_new after clipping:  [-0.15289342  1.68562557  4.01480548]\n"
     ]
    },
    {
     "data": {
      "text/plain": "solve for U:   0%|          | 0/831 [00:00<?, ?it/s]",
      "application/vnd.jupyter.widget-view+json": {
       "version_major": 2,
       "version_minor": 0,
       "model_id": "d67802f18b9c4bdcb9dba107508d540a"
      }
     },
     "metadata": {},
     "output_type": "display_data"
    },
    {
     "name": "stdout",
     "output_type": "stream",
     "text": [
      "y_new - y_current is -53.88559329482777: \n",
      "---------- 46/L ----------\n",
      "\n",
      "---------- 47/L ----------\n",
      "\n",
      "x_new before clipping:  [-0.17449787  1.44218436  4.30038762]\n",
      "x_new after clipping:  [-0.17449787  1.44218436  4.30038762]\n"
     ]
    },
    {
     "data": {
      "text/plain": "solve for U:   0%|          | 0/831 [00:00<?, ?it/s]",
      "application/vnd.jupyter.widget-view+json": {
       "version_major": 2,
       "version_minor": 0,
       "model_id": "25bd7273943144388b6822e7cc6491f1"
      }
     },
     "metadata": {},
     "output_type": "display_data"
    },
    {
     "name": "stdout",
     "output_type": "stream",
     "text": [
      "y_new - y_current is 19.185270237624707: \n",
      "---------- 47/L ----------\n",
      "\n",
      "---------- 48/L ----------\n",
      "\n",
      "x_new before clipping:  [-0.20272877  1.58153096  4.58958426]\n",
      "x_new after clipping:  [-0.20272877  1.58153096  4.58958426]\n"
     ]
    },
    {
     "data": {
      "text/plain": "solve for U:   0%|          | 0/831 [00:00<?, ?it/s]",
      "application/vnd.jupyter.widget-view+json": {
       "version_major": 2,
       "version_minor": 0,
       "model_id": "1c6e0d227d6347049899e51974cc3bee"
      }
     },
     "metadata": {},
     "output_type": "display_data"
    },
    {
     "name": "stdout",
     "output_type": "stream",
     "text": [
      "y_new - y_current is 16.00510526587871: \n",
      "---------- 48/L ----------\n",
      "\n",
      "---------- 49/L ----------\n",
      "\n",
      "x_new before clipping:  [-0.60837319  1.84434162  4.60423014]\n",
      "x_new after clipping:  [-0.3         1.84434162  4.60423014]\n"
     ]
    },
    {
     "data": {
      "text/plain": "solve for U:   0%|          | 0/831 [00:00<?, ?it/s]",
      "application/vnd.jupyter.widget-view+json": {
       "version_major": 2,
       "version_minor": 0,
       "model_id": "8507d8dcbc614c028bcd0564c2572b47"
      }
     },
     "metadata": {},
     "output_type": "display_data"
    },
    {
     "name": "stdout",
     "output_type": "stream",
     "text": [
      "y_new - y_current is 35.061792555590785: \n",
      "---------- 49/L ----------\n",
      "\n",
      "-------------- 7_th iteration --------------\n",
      "\n",
      "---------- 0/L ----------\n",
      "\n",
      "x_new before clipping:  [-0.50982724  1.81713716  4.6818154 ]\n",
      "x_new after clipping:  [-0.3         1.81713716  4.6818154 ]\n"
     ]
    },
    {
     "data": {
      "text/plain": "solve for U:   0%|          | 0/831 [00:00<?, ?it/s]",
      "application/vnd.jupyter.widget-view+json": {
       "version_major": 2,
       "version_minor": 0,
       "model_id": "a2722d33bb184ff4a8eb0d9f30c1e235"
      }
     },
     "metadata": {},
     "output_type": "display_data"
    },
    {
     "name": "stdout",
     "output_type": "stream",
     "text": [
      "y_new - y_current is 2.8335740816401653: \n",
      "---------- 0/L ----------\n",
      "\n",
      "---------- 1/L ----------\n",
      "\n",
      "x_new before clipping:  [0.01525874 1.93958533 4.62829562]\n",
      "x_new after clipping:  [0.01525874 1.93958533 4.62829562]\n"
     ]
    },
    {
     "data": {
      "text/plain": "solve for U:   0%|          | 0/831 [00:00<?, ?it/s]",
      "application/vnd.jupyter.widget-view+json": {
       "version_major": 2,
       "version_minor": 0,
       "model_id": "312f695183cd4a8ea0fefc57ea54e3b7"
      }
     },
     "metadata": {},
     "output_type": "display_data"
    },
    {
     "name": "stdout",
     "output_type": "stream",
     "text": [
      "y_new - y_current is -156.16973711683963: \n",
      "---------- 1/L ----------\n",
      "\n",
      "---------- 2/L ----------\n",
      "\n",
      "x_new before clipping:  [0.35833173 1.68738444 4.76331629]\n",
      "x_new after clipping:  [0.3        1.68738444 4.76331629]\n"
     ]
    },
    {
     "data": {
      "text/plain": "solve for U:   0%|          | 0/831 [00:00<?, ?it/s]",
      "application/vnd.jupyter.widget-view+json": {
       "version_major": 2,
       "version_minor": 0,
       "model_id": "80b34871e2ba425b9d0de871730f7007"
      }
     },
     "metadata": {},
     "output_type": "display_data"
    },
    {
     "name": "stdout",
     "output_type": "stream",
     "text": [
      "y_new - y_current is -10.837485888189406: \n",
      "---------- 2/L ----------\n",
      "\n",
      "---------- 3/L ----------\n",
      "\n",
      "x_new before clipping:  [0.10595256 1.46012576 5.05678339]\n",
      "x_new after clipping:  [0.10595256 1.46012576 5.05678339]\n"
     ]
    },
    {
     "data": {
      "text/plain": "solve for U:   0%|          | 0/831 [00:00<?, ?it/s]",
      "application/vnd.jupyter.widget-view+json": {
       "version_major": 2,
       "version_minor": 0,
       "model_id": "b02f4b760768400d959ee2b2026db2b5"
      }
     },
     "metadata": {},
     "output_type": "display_data"
    },
    {
     "name": "stdout",
     "output_type": "stream",
     "text": [
      "y_new - y_current is 4.377712420094639: \n",
      "---------- 3/L ----------\n",
      "\n",
      "---------- 4/L ----------\n",
      "\n",
      "x_new before clipping:  [-0.07541184  1.38462933  5.31403169]\n",
      "x_new after clipping:  [-0.07541184  1.38462933  5.31403169]\n"
     ]
    },
    {
     "data": {
      "text/plain": "solve for U:   0%|          | 0/831 [00:00<?, ?it/s]",
      "application/vnd.jupyter.widget-view+json": {
       "version_major": 2,
       "version_minor": 0,
       "model_id": "a72d8ca095ee4d7aa831d229528d45ff"
      }
     },
     "metadata": {},
     "output_type": "display_data"
    },
    {
     "name": "stdout",
     "output_type": "stream",
     "text": [
      "y_new - y_current is 57.87379901749341: \n",
      "---------- 4/L ----------\n",
      "\n",
      "---------- 5/L ----------\n",
      "\n",
      "x_new before clipping:  [0.02414562 1.30881278 5.25286   ]\n",
      "x_new after clipping:  [0.02414562 1.30881278 5.25286   ]\n"
     ]
    },
    {
     "data": {
      "text/plain": "solve for U:   0%|          | 0/831 [00:00<?, ?it/s]",
      "application/vnd.jupyter.widget-view+json": {
       "version_major": 2,
       "version_minor": 0,
       "model_id": "4b1f42a1939d40e0a45e7cdee701c3eb"
      }
     },
     "metadata": {},
     "output_type": "display_data"
    },
    {
     "name": "stdout",
     "output_type": "stream",
     "text": [
      "y_new - y_current is -44.236591842574626: \n",
      "---------- 5/L ----------\n",
      "\n",
      "---------- 6/L ----------\n",
      "\n",
      "x_new before clipping:  [0.04516637 1.40924494 5.67173306]\n",
      "x_new after clipping:  [0.04516637 1.40924494 5.67173306]\n"
     ]
    },
    {
     "data": {
      "text/plain": "solve for U:   0%|          | 0/831 [00:00<?, ?it/s]",
      "application/vnd.jupyter.widget-view+json": {
       "version_major": 2,
       "version_minor": 0,
       "model_id": "78937bb13590421aab8b3fc8e2ba50e8"
      }
     },
     "metadata": {},
     "output_type": "display_data"
    },
    {
     "name": "stdout",
     "output_type": "stream",
     "text": [
      "y_new - y_current is 0.2044506046491108: \n",
      "---------- 6/L ----------\n",
      "\n",
      "---------- 7/L ----------\n",
      "\n",
      "x_new before clipping:  [0.12671429 1.51418658 5.46725983]\n",
      "x_new after clipping:  [0.12671429 1.51418658 5.46725983]\n"
     ]
    },
    {
     "data": {
      "text/plain": "solve for U:   0%|          | 0/831 [00:00<?, ?it/s]",
      "application/vnd.jupyter.widget-view+json": {
       "version_major": 2,
       "version_minor": 0,
       "model_id": "9439cb2b0e9547a2b68ca64c78a0adce"
      }
     },
     "metadata": {},
     "output_type": "display_data"
    },
    {
     "name": "stdout",
     "output_type": "stream",
     "text": [
      "y_new - y_current is -14.56147602491896: \n",
      "---------- 7/L ----------\n",
      "\n",
      "---------- 8/L ----------\n",
      "\n",
      "x_new before clipping:  [0.09025342 1.62297274 5.55813016]\n",
      "x_new after clipping:  [0.09025342 1.62297274 5.55813016]\n"
     ]
    },
    {
     "data": {
      "text/plain": "solve for U:   0%|          | 0/831 [00:00<?, ?it/s]",
      "application/vnd.jupyter.widget-view+json": {
       "version_major": 2,
       "version_minor": 0,
       "model_id": "4666bde51b564f1d9f55b33e98c0ed03"
      }
     },
     "metadata": {},
     "output_type": "display_data"
    },
    {
     "name": "stdout",
     "output_type": "stream",
     "text": [
      "y_new - y_current is 3.645312424442409: \n",
      "---------- 8/L ----------\n",
      "\n",
      "---------- 9/L ----------\n",
      "\n",
      "x_new before clipping:  [0.17911996 1.24177672 5.08492307]\n",
      "x_new after clipping:  [0.17911996 1.24177672 5.08492307]\n"
     ]
    },
    {
     "data": {
      "text/plain": "solve for U:   0%|          | 0/831 [00:00<?, ?it/s]",
      "application/vnd.jupyter.widget-view+json": {
       "version_major": 2,
       "version_minor": 0,
       "model_id": "cb17d613dcc84762878ecdc611329d0f"
      }
     },
     "metadata": {},
     "output_type": "display_data"
    },
    {
     "name": "stdout",
     "output_type": "stream",
     "text": [
      "y_new - y_current is -13.614079708751476: \n",
      "---------- 9/L ----------\n",
      "\n",
      "---------- 10/L ----------\n",
      "\n",
      "x_new before clipping:  [0.00987683 1.07626891 5.12697379]\n",
      "x_new after clipping:  [0.00987683 1.07626891 5.12697379]\n"
     ]
    },
    {
     "data": {
      "text/plain": "solve for U:   0%|          | 0/831 [00:00<?, ?it/s]",
      "application/vnd.jupyter.widget-view+json": {
       "version_major": 2,
       "version_minor": 0,
       "model_id": "daac336916ce4e5b9b8b9061ae9eac67"
      }
     },
     "metadata": {},
     "output_type": "display_data"
    },
    {
     "name": "stdout",
     "output_type": "stream",
     "text": [
      "y_new - y_current is -0.6176669001889508: \n",
      "---------- 10/L ----------\n",
      "\n",
      "---------- 11/L ----------\n",
      "\n",
      "x_new before clipping:  [0.0933414  1.54916998 5.30499092]\n",
      "x_new after clipping:  [0.0933414  1.54916998 5.30499092]\n"
     ]
    },
    {
     "data": {
      "text/plain": "solve for U:   0%|          | 0/831 [00:00<?, ?it/s]",
      "application/vnd.jupyter.widget-view+json": {
       "version_major": 2,
       "version_minor": 0,
       "model_id": "30348738235c4af0bcdbe3c4b9884e50"
      }
     },
     "metadata": {},
     "output_type": "display_data"
    },
    {
     "name": "stdout",
     "output_type": "stream",
     "text": [
      "y_new - y_current is 13.932087050427498: \n",
      "---------- 11/L ----------\n",
      "\n",
      "---------- 12/L ----------\n",
      "\n",
      "x_new before clipping:  [-0.03946339  1.75073556  5.74649012]\n",
      "x_new after clipping:  [-0.03946339  1.75073556  5.74649012]\n"
     ]
    },
    {
     "data": {
      "text/plain": "solve for U:   0%|          | 0/831 [00:00<?, ?it/s]",
      "application/vnd.jupyter.widget-view+json": {
       "version_major": 2,
       "version_minor": 0,
       "model_id": "b121410223dd48d1af6bb7ac0f93f12a"
      }
     },
     "metadata": {},
     "output_type": "display_data"
    },
    {
     "name": "stdout",
     "output_type": "stream",
     "text": [
      "y_new - y_current is 34.952047310669286: \n",
      "---------- 12/L ----------\n",
      "\n",
      "---------- 13/L ----------\n",
      "\n",
      "x_new before clipping:  [0.04390387 1.64201972 5.62093281]\n",
      "x_new after clipping:  [0.04390387 1.64201972 5.62093281]\n"
     ]
    },
    {
     "data": {
      "text/plain": "solve for U:   0%|          | 0/831 [00:00<?, ?it/s]",
      "application/vnd.jupyter.widget-view+json": {
       "version_major": 2,
       "version_minor": 0,
       "model_id": "eacdc9e07c164516950bef9800ad506c"
      }
     },
     "metadata": {},
     "output_type": "display_data"
    },
    {
     "name": "stdout",
     "output_type": "stream",
     "text": [
      "y_new - y_current is -25.31278363222461: \n",
      "---------- 13/L ----------\n",
      "\n",
      "---------- 14/L ----------\n",
      "\n",
      "x_new before clipping:  [-0.03958479  1.98786945  5.56396717]\n",
      "x_new after clipping:  [-0.03958479  1.98786945  5.56396717]\n"
     ]
    },
    {
     "data": {
      "text/plain": "solve for U:   0%|          | 0/831 [00:00<?, ?it/s]",
      "application/vnd.jupyter.widget-view+json": {
       "version_major": 2,
       "version_minor": 0,
       "model_id": "e04d690072fc43efbbddd2f5d04c6b66"
      }
     },
     "metadata": {},
     "output_type": "display_data"
    },
    {
     "name": "stdout",
     "output_type": "stream",
     "text": [
      "y_new - y_current is 12.59559854510914: \n",
      "---------- 14/L ----------\n",
      "\n",
      "---------- 15/L ----------\n",
      "\n",
      "x_new before clipping:  [-0.10268163  2.40870952  5.75363119]\n",
      "x_new after clipping:  [-0.10268163  2.          5.75363119]\n"
     ]
    },
    {
     "data": {
      "text/plain": "solve for U:   0%|          | 0/831 [00:00<?, ?it/s]",
      "application/vnd.jupyter.widget-view+json": {
       "version_major": 2,
       "version_minor": 0,
       "model_id": "fe1a2d4b7d0d46b9bb1ed1e535eb604d"
      }
     },
     "metadata": {},
     "output_type": "display_data"
    },
    {
     "name": "stdout",
     "output_type": "stream",
     "text": [
      "y_new - y_current is 26.49400153946155: \n",
      "---------- 15/L ----------\n",
      "\n",
      "---------- 16/L ----------\n",
      "\n",
      "x_new before clipping:  [-0.33152494  2.04982078  5.66444389]\n",
      "x_new after clipping:  [-0.3         2.          5.66444389]\n"
     ]
    },
    {
     "data": {
      "text/plain": "solve for U:   0%|          | 0/831 [00:00<?, ?it/s]",
      "application/vnd.jupyter.widget-view+json": {
       "version_major": 2,
       "version_minor": 0,
       "model_id": "a5080cfdfc004cf0bb3e95315ed6f494"
      }
     },
     "metadata": {},
     "output_type": "display_data"
    },
    {
     "name": "stdout",
     "output_type": "stream",
     "text": [
      "y_new - y_current is 96.36345614056992: \n",
      "---------- 16/L ----------\n",
      "\n",
      "---------- 17/L ----------\n",
      "\n",
      "x_new before clipping:  [-0.59736765  2.32544672  5.62029531]\n",
      "x_new after clipping:  [-0.3         2.          5.62029531]\n"
     ]
    },
    {
     "data": {
      "text/plain": "solve for U:   0%|          | 0/831 [00:00<?, ?it/s]",
      "application/vnd.jupyter.widget-view+json": {
       "version_major": 2,
       "version_minor": 0,
       "model_id": "eb6daaa317574f95b43a75bf16f9bd61"
      }
     },
     "metadata": {},
     "output_type": "display_data"
    },
    {
     "name": "stdout",
     "output_type": "stream",
     "text": [
      "y_new - y_current is -0.1234005074217066: \n",
      "---------- 17/L ----------\n",
      "\n",
      "---------- 18/L ----------\n",
      "\n",
      "x_new before clipping:  [-0.19330464  1.95050571  5.51974781]\n",
      "x_new after clipping:  [-0.19330464  1.95050571  5.51974781]\n"
     ]
    },
    {
     "data": {
      "text/plain": "solve for U:   0%|          | 0/831 [00:00<?, ?it/s]",
      "application/vnd.jupyter.widget-view+json": {
       "version_major": 2,
       "version_minor": 0,
       "model_id": "559af1f423e145d98b0096dbb69c0919"
      }
     },
     "metadata": {},
     "output_type": "display_data"
    },
    {
     "name": "stdout",
     "output_type": "stream",
     "text": [
      "y_new - y_current is -49.07188908142237: \n",
      "---------- 18/L ----------\n",
      "\n",
      "---------- 19/L ----------\n",
      "\n",
      "x_new before clipping:  [-0.44918444  1.94268125  5.56155097]\n",
      "x_new after clipping:  [-0.3         1.94268125  5.56155097]\n"
     ]
    },
    {
     "data": {
      "text/plain": "solve for U:   0%|          | 0/831 [00:00<?, ?it/s]",
      "application/vnd.jupyter.widget-view+json": {
       "version_major": 2,
       "version_minor": 0,
       "model_id": "8116491efec54c9189425044e1a118f0"
      }
     },
     "metadata": {},
     "output_type": "display_data"
    },
    {
     "name": "stdout",
     "output_type": "stream",
     "text": [
      "y_new - y_current is 54.762228275288834: \n",
      "---------- 19/L ----------\n",
      "\n",
      "---------- 20/L ----------\n",
      "\n",
      "x_new before clipping:  [-0.28356478  1.64587782  5.65469565]\n",
      "x_new after clipping:  [-0.28356478  1.64587782  5.65469565]\n"
     ]
    },
    {
     "data": {
      "text/plain": "solve for U:   0%|          | 0/831 [00:00<?, ?it/s]",
      "application/vnd.jupyter.widget-view+json": {
       "version_major": 2,
       "version_minor": 0,
       "model_id": "779316bd62814a878543816dee22c159"
      }
     },
     "metadata": {},
     "output_type": "display_data"
    },
    {
     "name": "stdout",
     "output_type": "stream",
     "text": [
      "y_new - y_current is 17.865819150719346: \n",
      "---------- 20/L ----------\n",
      "\n",
      "---------- 21/L ----------\n",
      "\n",
      "x_new before clipping:  [-0.40680698  1.974662    5.57956416]\n",
      "x_new after clipping:  [-0.3         1.974662    5.57956416]\n"
     ]
    },
    {
     "data": {
      "text/plain": "solve for U:   0%|          | 0/831 [00:00<?, ?it/s]",
      "application/vnd.jupyter.widget-view+json": {
       "version_major": 2,
       "version_minor": 0,
       "model_id": "d5e44086662941a2993f0517248cc1c5"
      }
     },
     "metadata": {},
     "output_type": "display_data"
    },
    {
     "name": "stdout",
     "output_type": "stream",
     "text": [
      "y_new - y_current is -21.073295154520565: \n",
      "---------- 21/L ----------\n",
      "\n",
      "---------- 22/L ----------\n",
      "\n",
      "x_new before clipping:  [-0.17352239  1.96849204  5.56243335]\n",
      "x_new after clipping:  [-0.17352239  1.96849204  5.56243335]\n"
     ]
    },
    {
     "data": {
      "text/plain": "solve for U:   0%|          | 0/831 [00:00<?, ?it/s]",
      "application/vnd.jupyter.widget-view+json": {
       "version_major": 2,
       "version_minor": 0,
       "model_id": "a86016684e484842b9efc1610de37916"
      }
     },
     "metadata": {},
     "output_type": "display_data"
    },
    {
     "name": "stdout",
     "output_type": "stream",
     "text": [
      "y_new - y_current is -62.80838847889896: \n",
      "---------- 22/L ----------\n",
      "\n",
      "---------- 23/L ----------\n",
      "\n",
      "x_new before clipping:  [0.01676861 2.17475698 5.26918661]\n",
      "x_new after clipping:  [0.01676861 2.         5.26918661]\n"
     ]
    },
    {
     "data": {
      "text/plain": "solve for U:   0%|          | 0/831 [00:00<?, ?it/s]",
      "application/vnd.jupyter.widget-view+json": {
       "version_major": 2,
       "version_minor": 0,
       "model_id": "3cdd36399c54416fa44368c1cdf9d63c"
      }
     },
     "metadata": {},
     "output_type": "display_data"
    },
    {
     "name": "stdout",
     "output_type": "stream",
     "text": [
      "y_new - y_current is -81.82382983983544: \n",
      "---------- 23/L ----------\n",
      "\n",
      "---------- 24/L ----------\n",
      "\n",
      "x_new before clipping:  [0.13882905 1.96892926 5.22958391]\n",
      "x_new after clipping:  [0.13882905 1.96892926 5.22958391]\n"
     ]
    },
    {
     "data": {
      "text/plain": "solve for U:   0%|          | 0/831 [00:00<?, ?it/s]",
      "application/vnd.jupyter.widget-view+json": {
       "version_major": 2,
       "version_minor": 0,
       "model_id": "fe389242cb8146d8bcf90cfa5afa5244"
      }
     },
     "metadata": {},
     "output_type": "display_data"
    },
    {
     "name": "stdout",
     "output_type": "stream",
     "text": [
      "y_new - y_current is -16.30331761400477: \n",
      "---------- 24/L ----------\n",
      "\n",
      "---------- 25/L ----------\n",
      "\n",
      "x_new before clipping:  [0.03758972 1.80552962 4.97187209]\n",
      "x_new after clipping:  [0.03758972 1.80552962 4.97187209]\n"
     ]
    },
    {
     "data": {
      "text/plain": "solve for U:   0%|          | 0/831 [00:00<?, ?it/s]",
      "application/vnd.jupyter.widget-view+json": {
       "version_major": 2,
       "version_minor": 0,
       "model_id": "2a961692cdf64fdd932a5054aaf0f4bc"
      }
     },
     "metadata": {},
     "output_type": "display_data"
    },
    {
     "name": "stdout",
     "output_type": "stream",
     "text": [
      "y_new - y_current is 17.525561989814847: \n",
      "---------- 25/L ----------\n",
      "\n",
      "---------- 26/L ----------\n",
      "\n",
      "x_new before clipping:  [-0.1213963   1.46442094  4.93964104]\n",
      "x_new after clipping:  [-0.1213963   1.46442094  4.93964104]\n"
     ]
    },
    {
     "data": {
      "text/plain": "solve for U:   0%|          | 0/831 [00:00<?, ?it/s]",
      "application/vnd.jupyter.widget-view+json": {
       "version_major": 2,
       "version_minor": 0,
       "model_id": "a6cb44d2cfe44712a89964a2851c7a35"
      }
     },
     "metadata": {},
     "output_type": "display_data"
    },
    {
     "name": "stdout",
     "output_type": "stream",
     "text": [
      "y_new - y_current is 75.55254577281298: \n",
      "---------- 26/L ----------\n",
      "\n",
      "---------- 27/L ----------\n",
      "\n",
      "x_new before clipping:  [0.2511488  1.6182872  4.95939977]\n",
      "x_new after clipping:  [0.2511488  1.6182872  4.95939977]\n"
     ]
    },
    {
     "data": {
      "text/plain": "solve for U:   0%|          | 0/831 [00:00<?, ?it/s]",
      "application/vnd.jupyter.widget-view+json": {
       "version_major": 2,
       "version_minor": 0,
       "model_id": "14bbfccb02cc426c8146a26959d9aec6"
      }
     },
     "metadata": {},
     "output_type": "display_data"
    },
    {
     "name": "stdout",
     "output_type": "stream",
     "text": [
      "y_new - y_current is -87.67683065967853: \n",
      "---------- 27/L ----------\n",
      "\n",
      "---------- 28/L ----------\n",
      "\n",
      "x_new before clipping:  [0.43195146 1.42261495 4.92971102]\n",
      "x_new after clipping:  [0.3        1.42261495 4.92971102]\n"
     ]
    },
    {
     "data": {
      "text/plain": "solve for U:   0%|          | 0/831 [00:00<?, ?it/s]",
      "application/vnd.jupyter.widget-view+json": {
       "version_major": 2,
       "version_minor": 0,
       "model_id": "ff8f51bf344649fba66ac12566e6a700"
      }
     },
     "metadata": {},
     "output_type": "display_data"
    },
    {
     "name": "stdout",
     "output_type": "stream",
     "text": [
      "y_new - y_current is 1.6109154579563096: \n",
      "---------- 28/L ----------\n",
      "\n",
      "---------- 29/L ----------\n",
      "\n",
      "x_new before clipping:  [0.20866879 1.25180676 4.93834197]\n",
      "x_new after clipping:  [0.20866879 1.25180676 4.93834197]\n"
     ]
    },
    {
     "data": {
      "text/plain": "solve for U:   0%|          | 0/831 [00:00<?, ?it/s]",
      "application/vnd.jupyter.widget-view+json": {
       "version_major": 2,
       "version_minor": 0,
       "model_id": "ece75e9659b4421faf863a2f7a46dea4"
      }
     },
     "metadata": {},
     "output_type": "display_data"
    },
    {
     "name": "stdout",
     "output_type": "stream",
     "text": [
      "y_new - y_current is -7.031322523953847: \n",
      "---------- 29/L ----------\n",
      "\n",
      "---------- 30/L ----------\n",
      "\n",
      "x_new before clipping:  [0.02755199 1.38697274 5.08070078]\n",
      "x_new after clipping:  [0.02755199 1.38697274 5.08070078]\n"
     ]
    },
    {
     "data": {
      "text/plain": "solve for U:   0%|          | 0/831 [00:00<?, ?it/s]",
      "application/vnd.jupyter.widget-view+json": {
       "version_major": 2,
       "version_minor": 0,
       "model_id": "5df35108ee604a83a0bb38289622b279"
      }
     },
     "metadata": {},
     "output_type": "display_data"
    },
    {
     "name": "stdout",
     "output_type": "stream",
     "text": [
      "y_new - y_current is 26.251380108997793: \n",
      "---------- 30/L ----------\n",
      "\n",
      "---------- 31/L ----------\n",
      "\n",
      "x_new before clipping:  [0.05428834 1.30956285 4.9393106 ]\n",
      "x_new after clipping:  [0.05428834 1.30956285 4.9393106 ]\n"
     ]
    },
    {
     "data": {
      "text/plain": "solve for U:   0%|          | 0/831 [00:00<?, ?it/s]",
      "application/vnd.jupyter.widget-view+json": {
       "version_major": 2,
       "version_minor": 0,
       "model_id": "e39a2967bf9e4bdbb1ca82f4ab519322"
      }
     },
     "metadata": {},
     "output_type": "display_data"
    },
    {
     "name": "stdout",
     "output_type": "stream",
     "text": [
      "y_new - y_current is -10.958509772788574: \n",
      "---------- 31/L ----------\n",
      "\n",
      "---------- 32/L ----------\n",
      "\n",
      "x_new before clipping:  [0.05800171 1.44498278 5.01439751]\n",
      "x_new after clipping:  [0.05800171 1.44498278 5.01439751]\n"
     ]
    },
    {
     "data": {
      "text/plain": "solve for U:   0%|          | 0/831 [00:00<?, ?it/s]",
      "application/vnd.jupyter.widget-view+json": {
       "version_major": 2,
       "version_minor": 0,
       "model_id": "267d199ffb1c4b74b29a646d601c932a"
      }
     },
     "metadata": {},
     "output_type": "display_data"
    },
    {
     "name": "stdout",
     "output_type": "stream",
     "text": [
      "y_new - y_current is 3.8326078398081336: \n",
      "---------- 32/L ----------\n",
      "\n",
      "---------- 33/L ----------\n",
      "\n",
      "x_new before clipping:  [0.17553596 1.33359524 5.03036052]\n",
      "x_new after clipping:  [0.17553596 1.33359524 5.03036052]\n"
     ]
    },
    {
     "data": {
      "text/plain": "solve for U:   0%|          | 0/831 [00:00<?, ?it/s]",
      "application/vnd.jupyter.widget-view+json": {
       "version_major": 2,
       "version_minor": 0,
       "model_id": "23c64c88c436472fb9a0c578005934b6"
      }
     },
     "metadata": {},
     "output_type": "display_data"
    },
    {
     "name": "stdout",
     "output_type": "stream",
     "text": [
      "y_new - y_current is -15.735509599626425: \n",
      "---------- 33/L ----------\n",
      "\n",
      "---------- 34/L ----------\n",
      "\n",
      "x_new before clipping:  [0.12275191 1.58301811 5.30970046]\n",
      "x_new after clipping:  [0.12275191 1.58301811 5.30970046]\n"
     ]
    },
    {
     "data": {
      "text/plain": "solve for U:   0%|          | 0/831 [00:00<?, ?it/s]",
      "application/vnd.jupyter.widget-view+json": {
       "version_major": 2,
       "version_minor": 0,
       "model_id": "5a8775b0678e4f05b5e5e32d85a67337"
      }
     },
     "metadata": {},
     "output_type": "display_data"
    },
    {
     "name": "stdout",
     "output_type": "stream",
     "text": [
      "y_new - y_current is 6.083997503611812: \n",
      "---------- 34/L ----------\n",
      "\n",
      "---------- 35/L ----------\n",
      "\n",
      "x_new before clipping:  [0.35455977 1.78495449 5.70747517]\n",
      "x_new after clipping:  [0.3        1.78495449 5.70747517]\n"
     ]
    },
    {
     "data": {
      "text/plain": "solve for U:   0%|          | 0/831 [00:00<?, ?it/s]",
      "application/vnd.jupyter.widget-view+json": {
       "version_major": 2,
       "version_minor": 0,
       "model_id": "4517c7019be6440b854554c7e809a40a"
      }
     },
     "metadata": {},
     "output_type": "display_data"
    },
    {
     "name": "stdout",
     "output_type": "stream",
     "text": [
      "y_new - y_current is -2.1822874360834135: \n",
      "---------- 35/L ----------\n",
      "\n",
      "---------- 36/L ----------\n",
      "\n",
      "x_new before clipping:  [0.37624741 1.53634261 5.74506824]\n",
      "x_new after clipping:  [0.3        1.53634261 5.74506824]\n"
     ]
    },
    {
     "data": {
      "text/plain": "solve for U:   0%|          | 0/831 [00:00<?, ?it/s]",
      "application/vnd.jupyter.widget-view+json": {
       "version_major": 2,
       "version_minor": 0,
       "model_id": "95116454009f47e7be9f13423d4d42d4"
      }
     },
     "metadata": {},
     "output_type": "display_data"
    },
    {
     "name": "stdout",
     "output_type": "stream",
     "text": [
      "y_new - y_current is 2.585974695627044: \n",
      "---------- 36/L ----------\n",
      "\n",
      "---------- 37/L ----------\n",
      "\n",
      "x_new before clipping:  [0.01005714 2.05620935 5.70214255]\n",
      "x_new after clipping:  [0.01005714 2.         5.70214255]\n"
     ]
    },
    {
     "data": {
      "text/plain": "solve for U:   0%|          | 0/831 [00:00<?, ?it/s]",
      "application/vnd.jupyter.widget-view+json": {
       "version_major": 2,
       "version_minor": 0,
       "model_id": "aaed8dcba4ec4cef81c3dffb5c5fa330"
      }
     },
     "metadata": {},
     "output_type": "display_data"
    },
    {
     "name": "stdout",
     "output_type": "stream",
     "text": [
      "y_new - y_current is 9.274746105752143: \n",
      "---------- 37/L ----------\n",
      "\n",
      "---------- 38/L ----------\n",
      "\n",
      "x_new before clipping:  [0.11173078 2.10396461 5.65088436]\n",
      "x_new after clipping:  [0.11173078 2.         5.65088436]\n"
     ]
    },
    {
     "data": {
      "text/plain": "solve for U:   0%|          | 0/831 [00:00<?, ?it/s]",
      "application/vnd.jupyter.widget-view+json": {
       "version_major": 2,
       "version_minor": 0,
       "model_id": "762351eb6ea840c5880fb4c6fb9c030f"
      }
     },
     "metadata": {},
     "output_type": "display_data"
    },
    {
     "name": "stdout",
     "output_type": "stream",
     "text": [
      "y_new - y_current is -17.52134829305541: \n",
      "---------- 38/L ----------\n",
      "\n",
      "---------- 39/L ----------\n",
      "\n",
      "x_new before clipping:  [0.28033429 2.18011952 5.48472282]\n",
      "x_new after clipping:  [0.28033429 2.         5.48472282]\n"
     ]
    },
    {
     "data": {
      "text/plain": "solve for U:   0%|          | 0/831 [00:00<?, ?it/s]",
      "application/vnd.jupyter.widget-view+json": {
       "version_major": 2,
       "version_minor": 0,
       "model_id": "c45694974eac4184a6ee3b09a1e3203c"
      }
     },
     "metadata": {},
     "output_type": "display_data"
    },
    {
     "name": "stdout",
     "output_type": "stream",
     "text": [
      "y_new - y_current is 0.5049831950111638: \n",
      "---------- 39/L ----------\n",
      "\n",
      "---------- 40/L ----------\n",
      "\n",
      "x_new before clipping:  [0.3106451  2.15178592 5.82774102]\n",
      "x_new after clipping:  [0.3        2.         5.82774102]\n"
     ]
    },
    {
     "data": {
      "text/plain": "solve for U:   0%|          | 0/831 [00:00<?, ?it/s]",
      "application/vnd.jupyter.widget-view+json": {
       "version_major": 2,
       "version_minor": 0,
       "model_id": "9658d867c6b84a8893f0e69d31c632be"
      }
     },
     "metadata": {},
     "output_type": "display_data"
    },
    {
     "name": "stdout",
     "output_type": "stream",
     "text": [
      "y_new - y_current is 1.6486954656209605: \n",
      "---------- 40/L ----------\n",
      "\n",
      "---------- 41/L ----------\n",
      "\n",
      "x_new before clipping:  [0.02166273 1.92663541 6.01928679]\n",
      "x_new after clipping:  [0.02166273 1.92663541 6.01928679]\n"
     ]
    },
    {
     "data": {
      "text/plain": "solve for U:   0%|          | 0/831 [00:00<?, ?it/s]",
      "application/vnd.jupyter.widget-view+json": {
       "version_major": 2,
       "version_minor": 0,
       "model_id": "f570c9d07aed42d7bad004d9ba335f01"
      }
     },
     "metadata": {},
     "output_type": "display_data"
    },
    {
     "name": "stdout",
     "output_type": "stream",
     "text": [
      "y_new - y_current is 16.054313473673375: \n",
      "---------- 41/L ----------\n",
      "\n",
      "---------- 42/L ----------\n",
      "\n",
      "x_new before clipping:  [0.35362836 1.94388517 5.9520951 ]\n",
      "x_new after clipping:  [0.3        1.94388517 5.9520951 ]\n"
     ]
    },
    {
     "data": {
      "text/plain": "solve for U:   0%|          | 0/831 [00:00<?, ?it/s]",
      "application/vnd.jupyter.widget-view+json": {
       "version_major": 2,
       "version_minor": 0,
       "model_id": "c1ecedc05c904584a36d6c7921b33f4c"
      }
     },
     "metadata": {},
     "output_type": "display_data"
    },
    {
     "name": "stdout",
     "output_type": "stream",
     "text": [
      "y_new - y_current is -14.863466113223723: \n",
      "---------- 42/L ----------\n",
      "\n",
      "---------- 43/L ----------\n",
      "\n",
      "x_new before clipping:  [0.33775857 1.98761711 6.33553907]\n",
      "x_new after clipping:  [0.3        1.98761711 6.33553907]\n"
     ]
    },
    {
     "data": {
      "text/plain": "solve for U:   0%|          | 0/831 [00:00<?, ?it/s]",
      "application/vnd.jupyter.widget-view+json": {
       "version_major": 2,
       "version_minor": 0,
       "model_id": "6e5b9937eb294274a50ba7c965e104a1"
      }
     },
     "metadata": {},
     "output_type": "display_data"
    },
    {
     "name": "stdout",
     "output_type": "stream",
     "text": [
      "y_new - y_current is -0.30980627622074053: \n",
      "---------- 43/L ----------\n",
      "\n",
      "---------- 44/L ----------\n",
      "\n",
      "x_new before clipping:  [0.54687388 1.96137391 6.19278366]\n",
      "x_new after clipping:  [0.3        1.96137391 6.19278366]\n"
     ]
    },
    {
     "data": {
      "text/plain": "solve for U:   0%|          | 0/831 [00:00<?, ?it/s]",
      "application/vnd.jupyter.widget-view+json": {
       "version_major": 2,
       "version_minor": 0,
       "model_id": "04790bda557b4071aa81df7699c977d8"
      }
     },
     "metadata": {},
     "output_type": "display_data"
    },
    {
     "name": "stdout",
     "output_type": "stream",
     "text": [
      "y_new - y_current is 0.3127457568919283: \n",
      "---------- 44/L ----------\n",
      "\n",
      "---------- 45/L ----------\n",
      "\n",
      "x_new before clipping:  [0.02975408 2.12290514 6.22782231]\n",
      "x_new after clipping:  [0.02975408 2.         6.22782231]\n"
     ]
    },
    {
     "data": {
      "text/plain": "solve for U:   0%|          | 0/831 [00:00<?, ?it/s]",
      "application/vnd.jupyter.widget-view+json": {
       "version_major": 2,
       "version_minor": 0,
       "model_id": "e87ee86946164704888e13384fc2d56e"
      }
     },
     "metadata": {},
     "output_type": "display_data"
    },
    {
     "name": "stdout",
     "output_type": "stream",
     "text": [
      "y_new - y_current is 10.235644065766508: \n",
      "---------- 45/L ----------\n",
      "\n",
      "---------- 46/L ----------\n",
      "\n",
      "x_new before clipping:  [0.32806957 2.20707666 6.3731857 ]\n",
      "x_new after clipping:  [0.3       2.        6.3731857]\n"
     ]
    },
    {
     "data": {
      "text/plain": "solve for U:   0%|          | 0/831 [00:00<?, ?it/s]",
      "application/vnd.jupyter.widget-view+json": {
       "version_major": 2,
       "version_minor": 0,
       "model_id": "8273f85ad7b14fe488945b786f16cf48"
      }
     },
     "metadata": {},
     "output_type": "display_data"
    },
    {
     "name": "stdout",
     "output_type": "stream",
     "text": [
      "y_new - y_current is -10.737661872519439: \n",
      "---------- 46/L ----------\n",
      "\n",
      "---------- 47/L ----------\n",
      "\n",
      "x_new before clipping:  [0.45684609 2.27323562 5.8501447 ]\n",
      "x_new after clipping:  [0.3       2.        5.8501447]\n"
     ]
    },
    {
     "data": {
      "text/plain": "solve for U:   0%|          | 0/831 [00:00<?, ?it/s]",
      "application/vnd.jupyter.widget-view+json": {
       "version_major": 2,
       "version_minor": 0,
       "model_id": "715f77c7fdcf4b2a909d46674497a727"
      }
     },
     "metadata": {},
     "output_type": "display_data"
    },
    {
     "name": "stdout",
     "output_type": "stream",
     "text": [
      "y_new - y_current is -0.6618006896832327: \n",
      "---------- 47/L ----------\n",
      "\n",
      "---------- 48/L ----------\n",
      "\n",
      "x_new before clipping:  [-0.03407345  1.96225531  5.97632128]\n",
      "x_new after clipping:  [-0.03407345  1.96225531  5.97632128]\n"
     ]
    },
    {
     "data": {
      "text/plain": "solve for U:   0%|          | 0/831 [00:00<?, ?it/s]",
      "application/vnd.jupyter.widget-view+json": {
       "version_major": 2,
       "version_minor": 0,
       "model_id": "762a2f603ee8434ca07610da9a30a29a"
      }
     },
     "metadata": {},
     "output_type": "display_data"
    },
    {
     "name": "stdout",
     "output_type": "stream",
     "text": [
      "y_new - y_current is 32.24425740609311: \n",
      "---------- 48/L ----------\n",
      "\n",
      "---------- 49/L ----------\n",
      "\n",
      "x_new before clipping:  [0.07149997 1.89119156 5.74573089]\n",
      "x_new after clipping:  [0.07149997 1.89119156 5.74573089]\n"
     ]
    },
    {
     "data": {
      "text/plain": "solve for U:   0%|          | 0/831 [00:00<?, ?it/s]",
      "application/vnd.jupyter.widget-view+json": {
       "version_major": 2,
       "version_minor": 0,
       "model_id": "af032036a06e438f9aba60b56ce2f451"
      }
     },
     "metadata": {},
     "output_type": "display_data"
    },
    {
     "name": "stdout",
     "output_type": "stream",
     "text": [
      "y_new - y_current is -26.162264445702192: \n",
      "---------- 49/L ----------\n",
      "\n",
      "SA ends \n",
      "\n"
     ]
    }
   ],
   "source": [
    "print(\"> Now do SA....... \\n\")\n",
    "# best_x, best_y = sa.run()\n",
    "sa_boltzmann.run()\n",
    "#sa_cauchy.run()\n",
    "\n",
    "print(\"SA ends \\n\")"
   ],
   "metadata": {
    "collapsed": false,
    "pycharm": {
     "name": "#%%\n"
    }
   }
  },
  {
   "cell_type": "code",
   "execution_count": 17,
   "outputs": [
    {
     "data": {
      "text/plain": "<Figure size 432x288 with 1 Axes>",
      "image/png": "[encoded data removed]"
     },
     "metadata": {
      "needs_background": "light"
     },
     "output_type": "display_data"
    },
    {
     "name": "stdout",
     "output_type": "stream",
     "text": [
      "best x:  [-0.29344945  0.45054186  7.72721328]\n",
      "best y:  49.91387101249883\n"
     ]
    }
   ],
   "source": [
    "# draw and print\n",
    "plt.title(\"the T(NLL) in SA\")\n",
    "plt.xlabel(\"iter_cycle\")\n",
    "plt.ylabel(\"T of SA\")\n",
    "sns.lineplot(x = np.arange(0,sa_boltzmann.iter_cycle+1),y=np.array(sa_boltzmann.generation_best_Y))\n",
    "plt.show()\n",
    "print(\"best x: \",sa_boltzmann.best_x)\n",
    "print(\"best y: \",sa_boltzmann.best_y)"
   ],
   "metadata": {
    "collapsed": false,
    "pycharm": {
     "name": "#%%\n"
    }
   }
  },
  {
   "cell_type": "code",
   "execution_count": null,
   "outputs": [],
   "source": [
    "# alpha_g = -0.1\n",
    "# def g(x):\n",
    "#     return (1-np.exp(-alpha_g*x))/alpha_g\n",
    "#\n",
    "# x_g = pd.DataFrame(np.arange(0,100),index=(np.arange(0,100)),columns=['x'])\n",
    "# x_g['y'] = x_g.apply(g,axis=1)\n",
    "# sns.scatterplot(x = x_g['x'],y=x_g['y'])"
   ],
   "metadata": {
    "collapsed": false,
    "pycharm": {
     "name": "#%%\n"
    }
   }
  },
  {
   "cell_type": "code",
   "execution_count": 17,
   "outputs": [
    {
     "ename": "NameError",
     "evalue": "name 'c' is not defined",
     "output_type": "error",
     "traceback": [
      "\u001B[1;31m---------------------------------------------------------------------------\u001B[0m",
      "\u001B[1;31mNameError\u001B[0m                                 Traceback (most recent call last)",
      "\u001B[1;32m<ipython-input-17-c636d94c3395>\u001B[0m in \u001B[0;36m<module>\u001B[1;34m\u001B[0m\n\u001B[1;32m----> 1\u001B[1;33m \u001B[0mc\u001B[0m\u001B[1;33m\u001B[0m\u001B[1;33m\u001B[0m\u001B[0m\n\u001B[0m\u001B[0;32m      2\u001B[0m \u001B[1;33m\u001B[0m\u001B[0m\n\u001B[0;32m      3\u001B[0m \u001B[1;33m\u001B[0m\u001B[0m\n",
      "\u001B[1;31mNameError\u001B[0m: name 'c' is not defined"
     ]
    }
   ],
   "source": [],
   "metadata": {
    "collapsed": false,
    "pycharm": {
     "name": "#%%\n"
    }
   }
  }
 ],
 "metadata": {
  "kernelspec": {
   "name": "conda-env-pythorch-py",
   "language": "python",
   "display_name": "Python [conda env:pythorch] *"
  },
  "language_info": {
   "codemirror_mode": {
    "name": "ipython",
    "version": 2
   },
   "file_extension": ".py",
   "mimetype": "text/x-python",
   "name": "python",
   "nbconvert_exporter": "python",
   "pygments_lexer": "ipython2",
   "version": "2.7.6"
  }
 },
 "nbformat": 4,
 "nbformat_minor": 0
}