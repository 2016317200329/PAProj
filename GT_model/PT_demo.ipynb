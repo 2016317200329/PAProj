{
 "cells": [
  {
   "cell_type": "code",
   "execution_count": 87,
   "metadata": {
    "collapsed": true
   },
   "outputs": [
    {
     "name": "stdout",
     "output_type": "stream",
     "text": [
      "The autoreload extension is already loaded. To reload it, use:\n",
      "  %reload_ext autoreload\n"
     ]
    }
   ],
   "source": [
    "%load_ext autoreload\n",
    "%autoreload 2\n",
    "%load SA_PT.py\n",
    "\n",
    "#!/usr/bin/env python\n",
    "# -*- coding: utf-8 -*-\n",
    "# @Time    : 2022/10/08 13:58\n",
    "# @Author  : Wang Yujia\n",
    "# @File    : PT_demo.ipynb\n",
    "\n",
    "# @Description : 1. 主要是复现一下table 1的结果 2. SA的内容在SA_for_PT_model.ipynb上"
   ]
  },
  {
   "cell_type": "markdown",
   "source": [
    "# 1. Preparations\n",
    "## 1.1 全局设置"
   ],
   "metadata": {
    "collapsed": false,
    "pycharm": {
     "name": "#%% md\n"
    }
   }
  },
  {
   "cell_type": "code",
   "execution_count": 80,
   "outputs": [],
   "source": [
    "# auction setting\n",
    "b = 2\n",
    "V = 6\n",
    "d = 1\n",
    "\n",
    "T = 3\n",
    "\n",
    "import numpy as np\n",
    "import pandas as pd\n",
    "import sympy\n",
    "# from sko.SA import SA\n",
    "from scipy import optimize\n",
    "from tqdm.notebook import tqdm\n",
    "import seaborn as sns"
   ],
   "metadata": {
    "collapsed": false,
    "pycharm": {
     "name": "#%%\n"
    }
   }
  },
  {
   "cell_type": "markdown",
   "source": [
    "# 2. 验证Table.1\n",
    "## 2.1 With EUT"
   ],
   "metadata": {
    "collapsed": false
   }
  },
  {
   "cell_type": "code",
   "execution_count": null,
   "outputs": [],
   "source": [
    "print(\"With EUT\\n\")\n",
    "x_1 = sympy.Symbol('x_1')\n",
    "def func(x):\n",
    "    return x * (-b) + (1 - x) * (V - t * d - b)\n",
    "\n",
    "p=[]\n",
    "for t in range(1,T+1):\n",
    "    p.append(float((sympy.nsolve(func,x_1,(0,1)))))\n",
    "    print(\"p[{0}]: {1}\".format(t,p[t-1]))"
   ],
   "metadata": {
    "collapsed": false,
    "pycharm": {
     "name": "#%%\n"
    }
   }
  },
  {
   "cell_type": "markdown",
   "source": [
    "## 2.2 With PT\n",
    "1. 为了验证Table 1但是failed，只有最后一组[1,1,2.25]的第一个结果对不上\n",
    "2. 侧面说明`C=[0,0,0,b]`是正确的设置？"
   ],
   "metadata": {
    "collapsed": false,
    "pycharm": {
     "name": "#%% md\n"
    }
   }
  },
  {
   "cell_type": "code",
   "execution_count": 104,
   "outputs": [
    {
     "name": "stdout",
     "output_type": "stream",
     "text": [
      "With PT\n",
      "\n",
      ">0\n",
      "p[1]: 0.400000000000000\n",
      ">0\n",
      "p[2]: 0.307692307692308\n",
      "<=0\n",
      "p[3]: 0.333333333333333\n"
     ]
    }
   ],
   "source": [
    "# prob. weighting function\n",
    "def omg(p):\n",
    "    tmp = p**delta\n",
    "    return tmp*((tmp + (1-p)**delta)**(-1/delta))\n",
    "\n",
    "# value function\n",
    "def f_x(x):\n",
    "    return x**alpha\n",
    "\n",
    "# for PT\n",
    "alpha = 1\n",
    "delta = 1\n",
    "labda = 2.25\n",
    "\n",
    "print(\"With PT\\n\")\n",
    "x = sympy.Symbol('x')\n",
    "p_2=[]\n",
    "C=[0,0,0,b]\n",
    "for t in range(1,T+1):\n",
    "        #C = (t-1)*b*0.2\n",
    "        tmp = V-d*(t)-C[t]-b\n",
    "        if(tmp > 0):\n",
    "            print(\">0\")\n",
    "            func_1 = (labda*f_x(C[t]) + omg(x)*(-labda)*f_x(C[t]+b) + omg(1-x)*f_x(tmp))\n",
    "            p_2.append((sympy.nsolve(func_1,(0,1), solver='bisect', verify=False)))\n",
    "        else:\n",
    "            print(\"<=0\")\n",
    "            func_2 = (-f_x(C[t]) + omg(x)*(f_x(C[t]+b))+(1-omg(x))*f_x(-tmp))\n",
    "            p_2.append((sympy.nsolve(func_2, (0,1), solver='bisect', verify=False)))\n",
    "        print(\"p[{0}]: {1}\".format(t,p_2[t-1]))"
   ],
   "metadata": {
    "collapsed": false,
    "pycharm": {
     "name": "#%%\n"
    }
   }
  },
  {
   "cell_type": "markdown",
   "source": [
    "# 3. PA test\n",
    "1. 目的是求一个uniq auction下的u，观察过程与debug\n",
    "## 3.1 preparations\n",
    "1. v b d max_T都来自真实值"
   ],
   "metadata": {
    "collapsed": false,
    "pycharm": {
     "name": "#%% md\n"
    }
   }
  },
  {
   "cell_type": "code",
   "source": [
    "# auction setting from Swoopo\n",
    "#b = 0.75\n",
    "#v = 169.99\n",
    "#d = 0.15\n",
    "\n",
    "# auction setting from paper Fig.1 left\n",
    "b= 0.75\n",
    "v = 27.99\n",
    "d = 0.01\n",
    "\n",
    "# from Table 5 'All auction'\n",
    "alpha = 0.025\n",
    "delta = 0.85\n",
    "labda = 3.72\n",
    "\n",
    "# max duration\n",
    "max_T = 831\n",
    "T = int((v-b)/d)"
   ],
   "metadata": {
    "collapsed": false,
    "pycharm": {
     "name": "#%%\n"
    }
   },
   "execution_count": 24,
   "outputs": []
  },
  {
   "cell_type": "markdown",
   "source": [
    "## 3.2 function definition\n",
    "1. 根据Eq(7)-(9)"
   ],
   "metadata": {
    "collapsed": false
   }
  },
  {
   "cell_type": "code",
   "execution_count": 4,
   "outputs": [],
   "source": [
    "def C(t,b):\n",
    "    return 0.2*t*b\n",
    "\n",
    "def OMEGA(p,delta):\n",
    "    return p**delta * ((p**delta + (1-p)**delta)**(-1/delta))\n",
    "\n",
    "# valuation function\n",
    "def f(x, alpha):\n",
    "    return (1-sympy.E**(-alpha*x))/alpha\n",
    "    # when x < 0, in fact, it shoule be : (-labda)*(1-sympy.E**(alpha*x))/alpha\n",
    "\n",
    "def f_Equi(t,v,d,b,alpha,labda,delta):\n",
    "    u = sympy.Symbol('u')\n",
    "\n",
    "    tmp = v-d*t-C(t-1,b) - b\n",
    "\n",
    "    func_1 = (labda * f(x=C(t-1, b), alpha=alpha) - labda * OMEGA(u, delta) * f(x=(C(t-1, b) + b), alpha=alpha) + OMEGA(1-u, delta) * f(tmp, alpha))\n",
    "    func_2 = (-f(x=C(t-1, b), alpha=alpha) + OMEGA(u, delta) * f(x=(C(t-1, b) + b), alpha=alpha) + (1 - OMEGA(u, delta)) * f(-tmp, alpha))\n",
    "\n",
    "    if(tmp >= 0):\n",
    "        return sympy.nsolve(func_1,(0,1),solver='bisect', verify=False)\n",
    "    else:\n",
    "        return sympy.nsolve(func_2,(0,1),solver='bisect', verify=False)"
   ],
   "metadata": {
    "collapsed": false,
    "pycharm": {
     "name": "#%%\n"
    }
   }
  },
  {
   "cell_type": "markdown",
   "source": [
    "## 3.3 implement and plot\n",
    "1. 计算u和p，并且画图p"
   ],
   "metadata": {
    "collapsed": false,
    "pycharm": {
     "name": "#%% md\n"
    }
   }
  },
  {
   "cell_type": "code",
   "execution_count": 47,
   "outputs": [
    {
     "data": {
      "text/plain": "solve for u:   0%|          | 0/2724 [00:00<?, ?it/s]",
      "application/vnd.jupyter.widget-view+json": {
       "version_major": 2,
       "version_minor": 0,
       "model_id": "49d58f5e283e422d8a8f2e14c13d9170"
      }
     },
     "metadata": {},
     "output_type": "display_data"
    }
   ],
   "source": [
    "# solve for u from Equi. condt.\n",
    "U_tmp = [0]*(T+1)\n",
    "U_tmp[0] = 1\n",
    "# P is what we want\n",
    "P_tmp = [0]*(T+1)\n",
    "P_tmp[0] = 1\n",
    "\n",
    "tmp = 1\n",
    "for t in tqdm(range(1,T+1),desc=\"solve for u\"):\n",
    "\n",
    "    if((t>1) & (U_tmp[t-1] > 1-1e-5)):\n",
    "        print(\"Break when t == {}, cause U_tmp[t-1] > 1-1e-6\".format(t))\n",
    "        break\n",
    "    U_tmp[t] = f_Equi(t,v,d,b,alpha,labda,delta)\n",
    "    P_tmp[t] = (1- U_tmp[t])*tmp\n",
    "    tmp = tmp*U_tmp[t]"
   ],
   "metadata": {
    "collapsed": false,
    "pycharm": {
     "name": "#%%\n"
    }
   }
  },
  {
   "cell_type": "markdown",
   "source": [
    "# 4. SA\n",
    "## 4.1 SA trial\n",
    "1. `SA`来自`SA_PT.py`\n",
    "2."
   ],
   "metadata": {
    "collapsed": false,
    "pycharm": {
     "name": "#%% md\n"
    }
   }
  },
  {
   "cell_type": "code",
   "execution_count": 93,
   "outputs": [
    {
     "name": "stdout",
     "output_type": "stream",
     "text": [
      "10 \n",
      "\n",
      "best_x: [-8.69748680e-06  5.00005826e-02 -2.31714330e-06] best_y 8.135487949288827e-11\n",
      "8.135487949288827e-11\n",
      "True\n"
     ]
    },
    {
     "data": {
      "text/plain": "<Figure size 432x288 with 1 Axes>",
      "image/png": "[encoded data removed]"
     },
     "metadata": {
      "needs_background": "light"
     },
     "output_type": "display_data"
    }
   ],
   "source": [
    "from SA_PT import SA\n",
    "demo_func = lambda x: x[0] ** 2 + (x[1] - 0.05) ** 2 + x[2] ** 2\n",
    "\n",
    "sa = SA(func=demo_func, x0=[1, 1, 1], T_max=1, T_min=1e-9, L=300, max_stay_counter=150)\n",
    "best_x, best_y = sa.run()\n",
    "print('best_x:', best_x, 'best_y', best_y)\n",
    "print(best_x[0] ** 2 + (best_x[1] - 0.05) ** 2 + best_x[2] ** 2)\n",
    "\n",
    "sns.lineplot(x = np.arange(0,sa.iter_cycle+1),y=np.array(sa.generation_best_Y))\n",
    "print(sa.generation_best_Y == sa.best_y_history)"
   ],
   "metadata": {
    "collapsed": false,
    "pycharm": {
     "name": "#%%\n"
    }
   }
  },
  {
   "cell_type": "code",
   "execution_count": 157,
   "outputs": [
    {
     "data": {
      "text/plain": "<AxesSubplot:xlabel='x', ylabel='y'>"
     },
     "execution_count": 157,
     "metadata": {},
     "output_type": "execute_result"
    },
    {
     "data": {
      "text/plain": "<Figure size 432x288 with 1 Axes>",
      "image/png": "[encoded data removed]"
     },
     "metadata": {
      "needs_background": "light"
     },
     "output_type": "display_data"
    }
   ],
   "source": [
    "alpha = -0.1\n",
    "def g(x):\n",
    "    return (1-np.exp(-alpha*x))/alpha\n",
    "\n",
    "x_g = pd.DataFrame(np.arange(0,100),index=(np.arange(0,100)),columns=['x'])\n",
    "x_g['y'] = x_g.apply(g,axis=1)\n",
    "sns.scatterplot(x = x_g['x'],y=x_g['y'])"
   ],
   "metadata": {
    "collapsed": false,
    "pycharm": {
     "name": "#%%\n"
    }
   }
  }
 ],
 "metadata": {
  "kernelspec": {
   "display_name": "Python 3",
   "language": "python",
   "name": "python3"
  },
  "language_info": {
   "codemirror_mode": {
    "name": "ipython",
    "version": 2
   },
   "file_extension": ".py",
   "mimetype": "text/x-python",
   "name": "python",
   "nbconvert_exporter": "python",
   "pygments_lexer": "ipython2",
   "version": "2.7.6"
  },
  "pycharm": {
   "stem_cell": {
    "cell_type": "raw",
    "source": [
     "\n"
    ],
    "metadata": {
     "collapsed": false
    }
   }
  }
 },
 "nbformat": 4,
 "nbformat_minor": 0
}