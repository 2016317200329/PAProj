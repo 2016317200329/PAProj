{
 "cells": [
  {
   "cell_type": "code",
   "execution_count": 14,
   "metadata": {
    "collapsed": true
   },
   "outputs": [],
   "source": [
    "\n",
    "#!/usr/bin/env python\n",
    "# -*- coding: utf-8 -*-\n",
    "# @Time    : 2022/10/08 13:58\n",
    "# @Author  : Wang Yujia\n",
    "# @File    : PT_demo.ipynb\n",
    "\n",
    "# @Description : 1. 用SA试做一下inference of PT model's 3 params"
   ]
  },
  {
   "cell_type": "markdown",
   "source": [
    "# 1. Preparations\n",
    "## 1.1 Import"
   ],
   "metadata": {
    "collapsed": false,
    "pycharm": {
     "name": "#%% md\n"
    }
   }
  },
  {
   "cell_type": "code",
   "execution_count": 1,
   "outputs": [],
   "source": [
    "\n",
    "import numpy as np\n",
    "import pandas as pd\n",
    "import sympy\n",
    "import time\n",
    "import datetime\n",
    "from sko.tools import set_run_mode\n",
    "from tqdm.notebook import tqdm\n",
    "import seaborn as sns\n",
    "import matplotlib.pyplot as plt\n",
    "from sko.SA import SABoltzmann\n",
    "#from SA_PT import SABoltzmann as SABoltzmann\n",
    "import multiprocessing\n",
    "from multiprocessing.dummy import Pool"
   ],
   "metadata": {
    "collapsed": false,
    "pycharm": {
     "name": "#%%\n"
    }
   }
  },
  {
   "cell_type": "markdown",
   "source": [
    "## 1.2 Global Settings"
   ],
   "metadata": {
    "collapsed": false,
    "pycharm": {
     "name": "#%% md\n"
    }
   }
  },
  {
   "cell_type": "code",
   "execution_count": 14,
   "outputs": [],
   "source": [
    "# auction settings from Swoopo\n",
    "#b = 0.75\n",
    "#v = 169.99\n",
    "#d = 0.15\n",
    "\n",
    "# auction settings from paper's Fig.1 left\n",
    "b= 0.75\n",
    "v = 49.99\n",
    "d = 0.15\n",
    "\n",
    "# cnt_row = data_i.shape[0]\n",
    "cnt_row = 5\n",
    "# cnt_n_2 = data_i['cnt_n_2']\n",
    "cnt_n_2 = [1,1,2,3,1]\n",
    "#N_i = data_i['N']\n",
    "N_i = [500,50,100,200,300]\n",
    "# max duration from Swoopo\n",
    "max_T = 831\n",
    "\n",
    "# from paper's Table 5 'All auction'\n",
    "alpha = 0.025\n",
    "delta = 1\n",
    "labda = 3.72\n",
    "\n",
    "# initial params\n",
    "# table_5_M = [0.025,0.85,3.72]\n",
    "table_5_M = [0.025,3.72]\n",
    "\n",
    "# lower/ upper bound\n",
    "lb = [-0.3,0.01,0.01]\n",
    "ub = [0.3, 2, 16]\n",
    "\n",
    "# paper setting\n",
    "#T = int((v-b)/d)"
   ],
   "metadata": {
    "collapsed": false,
    "pycharm": {
     "name": "#%%\n"
    }
   }
  },
  {
   "cell_type": "markdown",
   "source": [
    "# 2. Infer with SA\n",
    "1. 用SA 求解参数。\n",
    "2. 定义函数之后，求一个uniq auction下的u和p\n",
    "3. 然后用p求NLL作为最终的loss"
   ],
   "metadata": {
    "collapsed": false,
    "pycharm": {
     "name": "#%% md\n"
    }
   }
  },
  {
   "cell_type": "markdown",
   "source": [
    "## 2.1 function definition\n",
    "1. 根据Eq(7)-(9)"
   ],
   "metadata": {
    "collapsed": false
   }
  },
  {
   "cell_type": "code",
   "execution_count": 4,
   "outputs": [],
   "source": [
    "def C(t,b):\n",
    "    return 0.2*t*b\n",
    "\n",
    "def OMEGA(p,delta):\n",
    "    return p**delta * ((p**delta + (1-p)**delta)**(-1/delta))\n",
    "\n",
    "# valuation function\n",
    "def f(x, alpha):\n",
    "    #return (1-sympy.E**(-alpha*x))/alpha\n",
    "    return (1-np.exp(-alpha*x))/alpha\n",
    "    # when x < 0, in fact, it shoule be : (-labda)*(1-sympy.E**(alpha*x))/alpha\n",
    "\n",
    "def f_Equi(t,v,d,b,alpha,labda,delta):\n",
    "    u = sympy.Symbol('u')\n",
    "\n",
    "    tmp = v-d*t-C(t-1,b) - b\n",
    "\n",
    "    func_1 = (labda * f(x=C(t-1, b), alpha=alpha) - labda * OMEGA(u, delta) * f(x=(C(t-1, b) + b), alpha=alpha) + OMEGA(1-u, delta) * f(tmp, alpha))\n",
    "    func_2 = (-f(x=C(t-1, b), alpha=alpha) + OMEGA(u, delta) * f(x=(C(t-1, b) + b), alpha=alpha) + (1 - OMEGA(u, delta)) * f(-tmp, alpha))\n",
    "\n",
    "    if(tmp >= 0):\n",
    "        return sympy.nsolve(func_1,(0,1),solver='bisect', verify=False)\n",
    "    else:\n",
    "        return sympy.nsolve(func_2,(0,1),solver='bisect', verify=False)"
   ],
   "metadata": {
    "collapsed": false,
    "pycharm": {
     "name": "#%%\n"
    }
   }
  },
  {
   "cell_type": "markdown",
   "source": [
    "## 2.2 Loss func\n",
    "1. 这个函数比较长 没办法，求u需要用SA给的params的值。`loss_func`的返回值是NLL\n",
    "2. 求解`U_i[t]` which is a array with shape of (max(N)),`U_i[t]`就是paper里的`p_t`\n",
    "3. for different auction, the duration is N_i[idx] and the value of duration it is various\n",
    "4. nll计算时乘的`cnt_n_2[idx]`是为了减少计算次数，表示duration相同的auction的数量。"
   ],
   "metadata": {
    "collapsed": false,
    "pycharm": {
     "name": "#%% md\n"
    }
   }
  },
  {
   "cell_type": "code",
   "execution_count": 23,
   "outputs": [],
   "source": [
    "def loss_func(params):\n",
    "\n",
    "    start_time = datetime.datetime.now()\n",
    "\n",
    "    alpha,delta,labda = params\n",
    "\n",
    "    # solve for U from Equi. condt.\n",
    "    U_i = [0] * (max_T + 1)\n",
    "    U_i[0] = 1\n",
    "\n",
    "    for t in range(1,max_T+1):\n",
    "        U_i[t] = f_Equi(t, v, d, b, alpha, labda, delta)\n",
    "\n",
    "    # calculate NLL under this auction setting & PT params\n",
    "    nll = 0\n",
    "    if(U_i[0]==1):\n",
    "        U_i.pop(0)       # because U_i[0]=1\n",
    "\n",
    "    print(\"log test before: \",np.log(min(U_i)))\n",
    "    U_i_sorted = np.sort(np.unique(U_i))\n",
    "    U_i[U_i[U_i == 0.0]] = U_i_sorted[1]\n",
    "    print(\"log test before: \",np.log(min(U_i)))\n",
    "\n",
    "    U_tmp_df = pd.DataFrame(U_i, index=np.arange(0, U_i.__len__()), columns=['U'], dtype=float)\n",
    "    # cnt_row = data_i.shape[0]\n",
    "    for idx in range(0,cnt_row):\n",
    "        # sum up the log prob among all durations of this auction\n",
    "        nll += ( np.sum(U_tmp_df[0:(N_i[idx]-1)][:].apply(np.log,axis=1)) + np.log(1-U_tmp_df.iat[(N_i[idx]-1),0]) )* cnt_n_2[idx]\n",
    "\n",
    "    print('loss_func costs {time_costs}s \\n'.format(time_costs=(datetime.datetime.now() - start_time).total_seconds()))\n",
    "    return float(-nll)"
   ],
   "metadata": {
    "collapsed": false,
    "pycharm": {
     "name": "#%%\n"
    }
   }
  },
  {
   "cell_type": "code",
   "execution_count": 6,
   "outputs": [],
   "source": [
    "# for SA testing\n",
    "def demo_func(x,settings):\n",
    "    alpha = x[0]\n",
    "    delta = x[1]\n",
    "    labda = x[2]\n",
    "\n",
    "    v,d,b = settings[0], settings[1], settings[2]\n",
    "\n",
    "    print(\"what the settings: \",v,d,b)\n",
    "    return alpha ** 2 + (labda - 0.05) ** 2 + delta ** 2"
   ],
   "metadata": {
    "collapsed": false,
    "pycharm": {
     "name": "#%%\n"
    }
   }
  },
  {
   "cell_type": "code",
   "execution_count": 17,
   "outputs": [
    {
     "data": {
      "text/plain": "<Figure size 432x288 with 1 Axes>",
      "image/png": "[encoded data removed]"
     },
     "metadata": {
      "needs_background": "light"
     },
     "output_type": "display_data"
    },
    {
     "name": "stdout",
     "output_type": "stream",
     "text": [
      "best x:  [-0.29344945  0.45054186  7.72721328]\n",
      "best y:  49.91387101249883\n"
     ]
    }
   ],
   "source": [
    "# # draw and print\n",
    "# plt.title(\"the T(NLL) in SA\")\n",
    "# plt.xlabel(\"iter_cycle\")\n",
    "# plt.ylabel(\"T of SA\")\n",
    "# sns.lineplot(x = np.arange(0,sa_boltzmann.iter_cycle+1),y=np.array(sa_boltzmann.generation_best_Y))\n",
    "# plt.show()\n",
    "# print(\"best x: \",sa_boltzmann.best_x)\n",
    "# print(\"best y: \",sa_boltzmann.best_y)"
   ],
   "metadata": {
    "collapsed": false,
    "pycharm": {
     "name": "#%%\n"
    }
   }
  },
  {
   "cell_type": "markdown",
   "source": [
    "#3. calculate P\n",
    "1. infer结束后可以用param计算P，\n",
    "2. 方法无非是先算u再算p,然后把p对应着key输出到字典里"
   ],
   "metadata": {
    "collapsed": false,
    "pycharm": {
     "name": "#%% md\n"
    }
   }
  },
  {
   "cell_type": "code",
   "execution_count": null,
   "outputs": [],
   "source": [
    "alpha = 0.025\n",
    "delta = 1\n",
    "labda = 3.72\n",
    "\n",
    "# solve for U&P from Equi. condt.\n",
    "U_i = [0] * (max_T + 1)\n",
    "U_i[0] = 1\n",
    "P_tmp = [0]*(max_T+1)   # P is what we want to generate\n",
    "P_tmp[0] = 1\n",
    "\n",
    "tmp = 1\n",
    "\n",
    "for t in range(1,max_T+1):\n",
    "\n",
    "    U_i[t] = f_Equi(t, v, d, b, alpha, labda, delta)\n",
    "    P_tmp[t] = (1- U_i[t])*tmp\n",
    "    tmp = tmp*U_i[t]"
   ],
   "metadata": {
    "collapsed": false,
    "pycharm": {
     "name": "#%%\n"
    }
   }
  },
  {
   "cell_type": "markdown",
   "source": [
    "# 4. 解方程方法的比较"
   ],
   "metadata": {
    "collapsed": false,
    "pycharm": {
     "name": "#%% md\n"
    }
   }
  },
  {
   "cell_type": "markdown",
   "source": [
    "## 4.1 scipy\n",
    "1. 需要把求解的方程定义成函数"
   ],
   "metadata": {
    "collapsed": false,
    "pycharm": {
     "name": "#%% md\n"
    }
   }
  },
  {
   "cell_type": "code",
   "execution_count": 26,
   "outputs": [
    {
     "name": "stderr",
     "output_type": "stream",
     "text": [
      "D:\\Anaconda\\envs\\pythorch\\lib\\site-packages\\ipykernel_launcher.py:5: RuntimeWarning: invalid value encountered in power\n",
      "  \"\"\"\n",
      "D:\\Anaconda\\envs\\pythorch\\lib\\site-packages\\scipy\\optimize\\minpack.py:175: RuntimeWarning: The iteration is not making good progress, as measured by the \n",
      "  improvement from the last ten iterations.\n",
      "  warnings.warn(msg, RuntimeWarning)\n"
     ]
    }
   ],
   "source": [
    "from scipy.optimize import fsolve\n",
    "ans_scipy=[]\n",
    "def func_1(u,*args):\n",
    "    alpha,delta,labda,t,b,tmp = args\n",
    "    return (labda * f(x=C(t-1, b), alpha=alpha) - labda * OMEGA(u, delta) * f(x=(C(t-1, b) + b), alpha=alpha) + OMEGA(1-u, delta) * f(tmp, alpha))\n",
    "\n",
    "def func_2(u,*args):\n",
    "    alpha,delta,labda,t,b,tmp = args\n",
    "    return (-f(x=C(t-1, b), alpha=alpha) + OMEGA(u, delta) * f(x=(C(t-1, b) + b), alpha=alpha) + (1 - OMEGA(u, delta)) * f(-tmp, alpha))\n",
    "\n",
    "for t in range(1,max_T+1):\n",
    "    tmp = v-d*t-C(t-1,b) - b\n",
    "    if(tmp >= 0):\n",
    "        root = fsolve(func_1,np.zeros(1),args =(alpha,delta,labda,t,b,tmp))\n",
    "        #print(f\"t:{t} ---- u:{root}\")\n",
    "        ans_scipy.append(root)\n",
    "    else:\n",
    "        root = fsolve(func_2,np.zeros(1),args =(alpha,delta,labda,t,b,tmp))\n",
    "        #print(f\"t:{t} -- u:{root}\")\n",
    "        ans_scipy.append(root)"
   ],
   "metadata": {
    "collapsed": false,
    "pycharm": {
     "name": "#%%\n"
    }
   }
  },
  {
   "cell_type": "code",
   "execution_count": 31,
   "outputs": [
    {
     "name": "stdout",
     "output_type": "stream",
     "text": [
      "log test before:  [-inf]\n",
      "[]\n"
     ]
    },
    {
     "name": "stderr",
     "output_type": "stream",
     "text": [
      "D:\\Anaconda\\envs\\pythorch\\lib\\site-packages\\ipykernel_launcher.py:1: RuntimeWarning: divide by zero encountered in log\n",
      "  \"\"\"Entry point for launching an IPython kernel.\n"
     ]
    },
    {
     "ename": "TypeError",
     "evalue": "only integer scalar arrays can be converted to a scalar index",
     "output_type": "error",
     "traceback": [
      "\u001B[1;31m---------------------------------------------------------------------------\u001B[0m",
      "\u001B[1;31mTypeError\u001B[0m                                 Traceback (most recent call last)",
      "\u001B[1;32m<ipython-input-31-4e740040ee9d>\u001B[0m in \u001B[0;36m<module>\u001B[1;34m\u001B[0m\n\u001B[0;32m      2\u001B[0m \u001B[0mans_scipy_sorted\u001B[0m \u001B[1;33m=\u001B[0m \u001B[0mnp\u001B[0m\u001B[1;33m.\u001B[0m\u001B[0munique\u001B[0m\u001B[1;33m(\u001B[0m\u001B[0mans_scipy\u001B[0m\u001B[1;33m)\u001B[0m\u001B[1;33m\u001B[0m\u001B[1;33m\u001B[0m\u001B[0m\n\u001B[0;32m      3\u001B[0m \u001B[0mprint\u001B[0m\u001B[1;33m(\u001B[0m\u001B[0mnp\u001B[0m\u001B[1;33m.\u001B[0m\u001B[0mwhere\u001B[0m\u001B[1;33m(\u001B[0m\u001B[0mans_scipy\u001B[0m \u001B[1;33m==\u001B[0m \u001B[1;36m0.0\u001B[0m\u001B[1;33m)\u001B[0m\u001B[1;33m[\u001B[0m\u001B[1;36m0\u001B[0m\u001B[1;33m]\u001B[0m\u001B[1;33m)\u001B[0m\u001B[1;33m\u001B[0m\u001B[1;33m\u001B[0m\u001B[0m\n\u001B[1;32m----> 4\u001B[1;33m \u001B[0mans_scipy\u001B[0m\u001B[1;33m[\u001B[0m\u001B[0mnp\u001B[0m\u001B[1;33m.\u001B[0m\u001B[0mwhere\u001B[0m\u001B[1;33m(\u001B[0m\u001B[0mans_scipy\u001B[0m \u001B[1;33m==\u001B[0m \u001B[1;36m0.0\u001B[0m\u001B[1;33m)\u001B[0m\u001B[1;33m[\u001B[0m\u001B[1;36m0\u001B[0m\u001B[1;33m]\u001B[0m\u001B[1;33m]\u001B[0m \u001B[1;33m=\u001B[0m \u001B[0mans_scipy_sorted\u001B[0m\u001B[1;33m[\u001B[0m\u001B[1;36m1\u001B[0m\u001B[1;33m]\u001B[0m\u001B[1;33m\u001B[0m\u001B[1;33m\u001B[0m\u001B[0m\n\u001B[0m\u001B[0;32m      5\u001B[0m \u001B[0mprint\u001B[0m\u001B[1;33m(\u001B[0m\u001B[1;34m\"log test before: \"\u001B[0m\u001B[1;33m,\u001B[0m\u001B[0mnp\u001B[0m\u001B[1;33m.\u001B[0m\u001B[0mlog\u001B[0m\u001B[1;33m(\u001B[0m\u001B[0mmin\u001B[0m\u001B[1;33m(\u001B[0m\u001B[0mans_scipy\u001B[0m\u001B[1;33m)\u001B[0m\u001B[1;33m)\u001B[0m\u001B[1;33m)\u001B[0m\u001B[1;33m\u001B[0m\u001B[1;33m\u001B[0m\u001B[0m\n\u001B[0;32m      6\u001B[0m \u001B[1;33m\u001B[0m\u001B[0m\n",
      "\u001B[1;31mTypeError\u001B[0m: only integer scalar arrays can be converted to a scalar index"
     ]
    }
   ],
   "source": [
    "print(\"log test before: \",np.log(min(ans_scipy)))\n",
    "ans_scipy_sorted = np.unique(ans_scipy)\n",
    "print(np.where(ans_scipy == 0.0)[0])\n",
    "ans_scipy[np.where(ans_scipy == 0.0)[0]] = ans_scipy_sorted[1]\n",
    "print(\"log test before: \",np.log(min(ans_scipy)))\n",
    "\n",
    "\n",
    "ans_scipy_df = pd.DataFrame(ans_scipy,columns=['u'])\n",
    "ans_scipy_df['t'] = np.arange(0,len(ans_scipy)).T\n",
    "#pic = sns.relplot(x = ans_scipy_df['t'], y = ans_scipy_df['u'], kind=\"line\")"
   ],
   "metadata": {
    "collapsed": false,
    "pycharm": {
     "name": "#%%\n"
    }
   }
  },
  {
   "cell_type": "markdown",
   "source": [
    "## 4.2 sympy"
   ],
   "metadata": {
    "collapsed": false,
    "pycharm": {
     "name": "#%% md\n"
    }
   }
  },
  {
   "cell_type": "code",
   "execution_count": 22,
   "outputs": [
    {
     "name": "stdout",
     "output_type": "stream",
     "text": [
      "DONE\n",
      "5.421010862427522e-20\n"
     ]
    }
   ],
   "source": [
    "ans_sympy=[]\n",
    "for t in range(1,max_T+1):\n",
    "    tmp = v-d*t-C(t-1,b) - b\n",
    "    u = sympy.Symbol('u')\n",
    "\n",
    "    if(tmp >= 0):\n",
    "        func_1 = (labda * f(x=C(t-1, b), alpha=alpha) - labda * OMEGA(u, delta) * f(x=(C(t-1, b) + b), alpha=alpha) + OMEGA(1-u, delta) * f(tmp, alpha))\n",
    "        root =  sympy.nsolve(func_1,(0,1),solver='bisect', verify=False)\n",
    "        #print(f\"t:{t} ---- u:{root}\")\n",
    "        ans_sympy.append(np.array(root,dtype=float))\n",
    "    else:\n",
    "        func_2 = (-f(x=C(t-1, b), alpha=alpha) + OMEGA(u, delta) * f(x=(C(t-1, b) + b), alpha=alpha) + (1 - OMEGA(u, delta)) * f(-tmp, alpha))\n",
    "        root =  sympy.nsolve(func_2,(0,1),solver='bisect', verify=False)\n",
    "        #print(f\"t:{t} -- u:{root}\")\n",
    "        ans_sympy.append(np.array(root,dtype=float))\n",
    "print(\"DONE\")"
   ],
   "metadata": {
    "collapsed": false,
    "pycharm": {
     "name": "#%%\n"
    }
   }
  },
  {
   "cell_type": "code",
   "execution_count": 18,
   "outputs": [
    {
     "data": {
      "text/plain": "<Figure size 432x288 with 1 Axes>",
      "image/png": "[encoded data removed]"
     },
     "metadata": {
      "needs_background": "light"
     },
     "output_type": "display_data"
    }
   ],
   "source": [
    "print(min(ans_sympy))    # 5.421010862427522e-20\n",
    "ans_scipy_df['u2'] = np.array(ans_sympy)\n",
    "\n",
    "plt.xlabel(\"t\")\n",
    "plt.ylabel(\"p\")\n",
    "plt.plot(ans_scipy_df.t, ans_scipy_df.u)\n",
    "plt.plot(ans_scipy_df.t, ans_scipy_df.u2)\n",
    "plt.legend(labels=['scipy','sympy'])\n",
    "plt.show()"
   ],
   "metadata": {
    "collapsed": false,
    "pycharm": {
     "name": "#%%\n"
    }
   }
  },
  {
   "cell_type": "code",
   "execution_count": null,
   "outputs": [],
   "source": [],
   "metadata": {
    "collapsed": false,
    "pycharm": {
     "name": "#%%\n"
    }
   }
  }
 ],
 "metadata": {
  "kernelspec": {
   "name": "conda-env-pythorch-py",
   "language": "python",
   "display_name": "Python [conda env:pythorch] *"
  },
  "language_info": {
   "codemirror_mode": {
    "name": "ipython",
    "version": 2
   },
   "file_extension": ".py",
   "mimetype": "text/x-python",
   "name": "python",
   "nbconvert_exporter": "python",
   "pygments_lexer": "ipython2",
   "version": "2.7.6"
  },
  "pycharm": {
   "stem_cell": {
    "cell_type": "raw",
    "source": [
     "\n",
     "%load_ext autoreload\n",
     "%autoreload 2\n",
     "%matplotlib notebook\n",
     "%matplotlib inline\n"
    ],
    "metadata": {
     "collapsed": false
    }
   }
  }
 },
 "nbformat": 4,
 "nbformat_minor": 0
}