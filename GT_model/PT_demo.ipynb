{
 "cells": [
  {
   "cell_type": "code",
   "execution_count": 14,
   "metadata": {
    "collapsed": true
   },
   "outputs": [],
   "source": [
    "\n",
    "#!/usr/bin/env python\n",
    "# -*- coding: utf-8 -*-\n",
    "# @Time    : 2022/10/08 13:58\n",
    "# @Author  : Wang Yujia\n",
    "# @File    : PT_demo.ipynb\n",
    "\n",
    "# @Description : 1. 用SA试做一下inference of PT model's 3 params 2. 复现table 1的code见PT_demo_table1.ipynb"
   ]
  },
  {
   "cell_type": "markdown",
   "source": [
    "# 1. Preparations\n",
    "## 1.1 Import"
   ],
   "metadata": {
    "collapsed": false,
    "pycharm": {
     "name": "#%% md\n"
    }
   }
  },
  {
   "cell_type": "code",
   "execution_count": 15,
   "outputs": [],
   "source": [
    "\n",
    "import numpy as np\n",
    "import pandas as pd\n",
    "import sympy\n",
    "import time\n",
    "import datetime\n",
    "from sko.tools import set_run_mode\n",
    "from tqdm.notebook import tqdm\n",
    "import seaborn as sns\n",
    "import matplotlib.pyplot as plt\n",
    "#from sko.SA import SABoltzmann\n",
    "from SA_PT import SABoltzmann as SABoltzmann\n",
    "import multiprocessing\n",
    "from multiprocessing.dummy import Pool"
   ],
   "metadata": {
    "collapsed": false,
    "pycharm": {
     "name": "#%%\n"
    }
   }
  },
  {
   "cell_type": "markdown",
   "source": [
    "## 1.2 Global Settings"
   ],
   "metadata": {
    "collapsed": false,
    "pycharm": {
     "name": "#%% md\n"
    }
   }
  },
  {
   "cell_type": "code",
   "execution_count": 16,
   "outputs": [],
   "source": [
    "# auction settings from Swoopo\n",
    "#b = 0.75\n",
    "#v = 169.99\n",
    "#d = 0.15\n",
    "\n",
    "# auction settings from paper's Fig.1 left\n",
    "b= 0.75\n",
    "v = 27.99\n",
    "d = 0.01\n",
    "\n",
    "# cnt_row = data_i.shape[0]\n",
    "cnt_row = 5\n",
    "# cnt_n_2 = data_i['cnt_n_2']\n",
    "cnt_n_2 = [1,1,2,3,1]\n",
    "#N_i = data_i['N']\n",
    "N_i = [500,50,100,200,300]\n",
    "# max duration from Swoopo\n",
    "max_T = 831\n",
    "\n",
    "# from paper's Table 5 'All auction'\n",
    "# alpha = 0.025\n",
    "# delta = 0.85\n",
    "# labda = 3.72\n",
    "\n",
    "# initial params\n",
    "table_5_M = [0.025,0.85,3.72]\n",
    "# lower/ upper bound\n",
    "lb = [-0.3,0.01,0.01]\n",
    "ub = [0.3, 2, 16]\n",
    "\n",
    "# paper setting\n",
    "#T = int((v-b)/d)"
   ],
   "metadata": {
    "collapsed": false,
    "pycharm": {
     "name": "#%%\n"
    }
   }
  },
  {
   "cell_type": "markdown",
   "source": [
    "# 2. Infer with SA\n",
    "1. 用SA 求解参数。\n",
    "2. 定义函数之后，求一个uniq auction下的u和p\n",
    "3. 然后用p求NLL作为最终的loss"
   ],
   "metadata": {
    "collapsed": false,
    "pycharm": {
     "name": "#%% md\n"
    }
   }
  },
  {
   "cell_type": "markdown",
   "source": [
    "## 2.1 function definition\n",
    "1. 根据Eq(7)-(9)"
   ],
   "metadata": {
    "collapsed": false
   }
  },
  {
   "cell_type": "code",
   "execution_count": 17,
   "outputs": [],
   "source": [
    "def C(t,b):\n",
    "    return 0.2*t*b\n",
    "\n",
    "def OMEGA(p,delta):\n",
    "    return p**delta * ((p**delta + (1-p)**delta)**(-1/delta))\n",
    "\n",
    "# valuation function\n",
    "def f(x, alpha):\n",
    "    return (1-sympy.E**(-alpha*x))/alpha\n",
    "    # when x < 0, in fact, it shoule be : (-labda)*(1-sympy.E**(alpha*x))/alpha\n",
    "\n",
    "def f_Equi(t,v,d,b,alpha,labda,delta):\n",
    "    u = sympy.Symbol('u')\n",
    "\n",
    "    tmp = v-d*t-C(t-1,b) - b\n",
    "\n",
    "    func_1 = (labda * f(x=C(t-1, b), alpha=alpha) - labda * OMEGA(u, delta) * f(x=(C(t-1, b) + b), alpha=alpha) + OMEGA(1-u, delta) * f(tmp, alpha))\n",
    "    func_2 = (-f(x=C(t-1, b), alpha=alpha) + OMEGA(u, delta) * f(x=(C(t-1, b) + b), alpha=alpha) + (1 - OMEGA(u, delta)) * f(-tmp, alpha))\n",
    "\n",
    "    if(tmp >= 0):\n",
    "        return sympy.nsolve(func_1,(0,1),solver='bisect', verify=False)\n",
    "    else:\n",
    "        return sympy.nsolve(func_2,(0,1),solver='bisect', verify=False)"
   ],
   "metadata": {
    "collapsed": false,
    "pycharm": {
     "name": "#%%\n"
    }
   }
  },
  {
   "cell_type": "markdown",
   "source": [
    "## 2.2 Loss func\n",
    "1. 这个函数比较长 没办法，求u需要用SA给的params的值。`loss_func`的返回值是NLL\n",
    "2. 求解`U_i[t]` which is a array with shape of (max(N)),`U_i[t]`就是paper里的`p_t`\n",
    "3. for different auction, the duration is N_i[idx] and the value of duration it is various\n",
    "4. nll计算时乘的`cnt_n_2[idx]`是为了减少计算次数，表示duration相同的auction的数量。"
   ],
   "metadata": {
    "collapsed": false,
    "pycharm": {
     "name": "#%% md\n"
    }
   }
  },
  {
   "cell_type": "code",
   "execution_count": 18,
   "outputs": [],
   "source": [
    "def loss_func(params):\n",
    "\n",
    "    start_time = datetime.datetime.now()\n",
    "\n",
    "    alpha = params[0]\n",
    "    delta = params[1]\n",
    "    labda = params[2]\n",
    "\n",
    "    # solve for U from Equi. condt.\n",
    "    U_i = [0] * (max_T + 1)\n",
    "    U_i[0] = 1\n",
    "\n",
    "    for t in range(1,max_T+1):\n",
    "        U_i[t] = f_Equi(t, v, d, b, alpha, labda, delta)\n",
    "\n",
    "    # calculate NLL under this auction setting & PT params\n",
    "    nll = 0\n",
    "    if(U_i[0]==1):\n",
    "        U_i.pop(0)            # because U_i[0]=1\n",
    "    U_tmp_df = pd.DataFrame(U_i, index=np.arange(0, U_i.__len__()), columns=['U'], dtype=float)\n",
    "    # cnt_row = data_i.shape[0]\n",
    "    for idx in range(0,cnt_row):\n",
    "        # sum up the log prob among all durations of this auction\n",
    "        nll += ( np.sum(U_tmp_df[0:(N_i[idx]-1)][:].apply(np.log,axis=1)) + np.log(1-U_tmp_df.iat[(N_i[idx]-1),0]) )* cnt_n_2[idx]\n",
    "\n",
    "    print('loss_func costs {time_costs}s \\n'.format(time_costs=(datetime.datetime.now() - start_time).total_seconds()))\n",
    "    return float(-nll)"
   ],
   "metadata": {
    "collapsed": false,
    "pycharm": {
     "name": "#%%\n"
    }
   }
  },
  {
   "cell_type": "code",
   "execution_count": 19,
   "outputs": [],
   "source": [
    "# for SA testing\n",
    "def demo_func(x,settings):\n",
    "    alpha = x[0]\n",
    "    delta = x[1]\n",
    "    labda = x[2]\n",
    "\n",
    "    v,d,b = settings[0], settings[1], settings[2]\n",
    "\n",
    "    print(\"what the settings: \",v,d,b)\n",
    "    return alpha ** 2 + (labda - 0.05) ** 2 + delta ** 2"
   ],
   "metadata": {
    "collapsed": false,
    "pycharm": {
     "name": "#%%\n"
    }
   }
  },
  {
   "cell_type": "code",
   "execution_count": 32,
   "outputs": [],
   "source": [
    "def task():\n",
    "\n",
    "    #set_run_mode(loss_func, 'cached')\n",
    "    #set_run_mode(loss_func, 'multithreading')\n",
    "    sa_boltzmann = SABoltzmann(func=demo_func, x0=table_5_M, settings=[v,d,b],T_max=1000, T_min=1e-5, learn_rate=0.01, L=50, max_stay_counter=50,\n",
    "                                lb=lb, ub=ub)\n",
    "    print(\"> Now do SA....... \\n\")\n",
    "\n",
    "    sa_boltzmann.run()\n",
    "\n",
    "    print(\"SA ends \\n\")"
   ],
   "metadata": {
    "collapsed": false,
    "pycharm": {
     "name": "#%%\n"
    }
   }
  },
  {
   "cell_type": "code",
   "execution_count": null,
   "outputs": [
    {
     "name": "stdout",
     "output_type": "stream",
     "text": [
      "The num of CPU of this computer is :  16\n",
      "> Initilizing SA....... \n",
      "\n",
      "> Now it's 1th thread working....\n",
      "> Initilizing SA....... \n",
      "> Initilizing SA....... \n",
      "\n",
      "> Now it's 3th thread working....\n",
      "\n",
      "> Now it's 2th thread working....\n",
      "loss_func costs 153.6453s \n",
      "\n",
      "> Now do SA....... \n",
      "\n",
      "-------------- 0_th iteration --------------\n",
      "\n",
      "---------- 0/L ----------\n",
      "\n",
      "x_new before clipping:  [-0.09289457  1.06578648  3.45896887]\n",
      "loss_func costs 173.641584s \n",
      "\n",
      "> Now do SA....... \n",
      "\n",
      "-------------- 0_th iteration --------------\n",
      "\n",
      "---------- 0/L ----------\n",
      "\n",
      "x_new before clipping:  [-0.10655365  0.65460869  3.37978113]\n",
      "loss_func costs 358.544551s \n",
      "\n",
      "> Now do SA....... \n",
      "\n",
      "-------------- 0_th iteration --------------\n",
      "\n",
      "---------- 0/L ----------\n",
      "\n",
      "x_new before clipping:  [-0.1358566   0.83489664  3.11945265]\n"
     ]
    },
    {
     "name": "stderr",
     "output_type": "stream",
     "text": [
      "D:\\Anaconda\\envs\\pythorch\\lib\\site-packages\\ipykernel_launcher.py:26: RuntimeWarning: divide by zero encountered in log\n"
     ]
    },
    {
     "name": "stdout",
     "output_type": "stream",
     "text": [
      "loss_func costs 386.741335s \n",
      "\n",
      "y_new - y_current is inf: \n",
      "---------- 1/L ----------\n",
      "\n",
      "x_new before clipping:  [-0.08222353  0.95233763  3.86303469]\n",
      "loss_func costs 427.53907s \n",
      "\n",
      "y_new - y_current is 72.57871859552466: \n",
      "---------- 1/L ----------\n",
      "\n",
      "x_new before clipping:  [-0.16836859  1.01228969  3.21606296]\n"
     ]
    }
   ],
   "source": [
    "#多线程测试，一点都不work超级慢。\n",
    "if __name__ == '__main__':\n",
    "    multiprocessing.freeze_support() # 在Windows下编译需要加这行\n",
    "    print(\"The num of CPU of this computer is : \",multiprocessing.cpu_count())\n",
    "    # 生成进程池\n",
    "    pool = Pool(3)\n",
    "    # 添加进程\n",
    "    p1 = pool.map_async(task, args=(1,[[],[],[]]))\n",
    "\n",
    "    # 不再添加进程\n",
    "    pool.close()\n",
    "\n",
    "    # 主程序等待所有进程完成\n",
    "    pool.join()\n",
    "\n",
    "    # 获取进程函数返回值(如果任务存在返回值)\n",
    "    p1_value = p1.get()\n",
    "\n",
    "    print(f'进程1返回值：{p1_value}')\n"
   ],
   "metadata": {
    "collapsed": false,
    "pycharm": {
     "name": "#%%\n",
     "is_executing": true
    }
   }
  },
  {
   "cell_type": "code",
   "execution_count": 17,
   "outputs": [
    {
     "data": {
      "text/plain": "<Figure size 432x288 with 1 Axes>",
      "image/png": "[encoded data removed]"
     },
     "metadata": {
      "needs_background": "light"
     },
     "output_type": "display_data"
    },
    {
     "name": "stdout",
     "output_type": "stream",
     "text": [
      "best x:  [-0.29344945  0.45054186  7.72721328]\n",
      "best y:  49.91387101249883\n"
     ]
    }
   ],
   "source": [
    "# # draw and print\n",
    "# plt.title(\"the T(NLL) in SA\")\n",
    "# plt.xlabel(\"iter_cycle\")\n",
    "# plt.ylabel(\"T of SA\")\n",
    "# sns.lineplot(x = np.arange(0,sa_boltzmann.iter_cycle+1),y=np.array(sa_boltzmann.generation_best_Y))\n",
    "# plt.show()\n",
    "# print(\"best x: \",sa_boltzmann.best_x)\n",
    "# print(\"best y: \",sa_boltzmann.best_y)"
   ],
   "metadata": {
    "collapsed": false,
    "pycharm": {
     "name": "#%%\n"
    }
   }
  },
  {
   "cell_type": "code",
   "execution_count": null,
   "outputs": [],
   "source": [
    "# alpha_g = -0.1\n",
    "# def g(x):\n",
    "#     return (1-np.exp(-alpha_g*x))/alpha_g\n",
    "#\n",
    "# x_g = pd.DataFrame(np.arange(0,100),index=(np.arange(0,100)),columns=['x'])\n",
    "# x_g['y'] = x_g.apply(g,axis=1)\n",
    "# sns.scatterplot(x = x_g['x'],y=x_g['y'])"
   ],
   "metadata": {
    "collapsed": false,
    "pycharm": {
     "name": "#%%\n"
    }
   }
  },
  {
   "cell_type": "markdown",
   "source": [
    "#3. calculate P\n",
    "1. infer结束后可以用param计算P，\n",
    "2. 方法无非是先算u再算p,然后把p对应着key输出到字典里"
   ],
   "metadata": {
    "collapsed": false,
    "pycharm": {
     "name": "#%% md\n"
    }
   }
  },
  {
   "cell_type": "code",
   "execution_count": null,
   "outputs": [],
   "source": [
    "alpha = 0.025\n",
    "delta = 0.85\n",
    "labda = 3.72\n",
    "\n",
    "# solve for U&P from Equi. condt.\n",
    "U_i = [0] * (max_T + 1)\n",
    "U_i[0] = 1\n",
    "P_tmp = [0]*(max_T+1)   # P is what we want to generate\n",
    "P_tmp[0] = 1\n",
    "\n",
    "tmp = 1\n",
    "\n",
    "for t in range(1,max_T+1):\n",
    "\n",
    "    U_i[t] = f_Equi(t, v, d, b, alpha, labda, delta)\n",
    "    P_tmp[t] = (1- U_i[t])*tmp\n",
    "    tmp = tmp*U_i[t]"
   ],
   "metadata": {
    "collapsed": false,
    "pycharm": {
     "name": "#%%\n"
    }
   }
  },
  {
   "cell_type": "markdown",
   "source": [
    "# 4. 多线程实验，多跑几个core"
   ],
   "metadata": {
    "collapsed": false,
    "pycharm": {
     "name": "#%% md\n"
    }
   }
  },
  {
   "cell_type": "code",
   "execution_count": 4,
   "outputs": [],
   "source": [
    "    sa_boltzmann = SABoltzmann(func=demo_func, x0=table_5_M, settings=[v,d,b],T_max=1000, T_min=1e-5, learn_rate=0.01, L=50, max_stay_counter=50,\n",
    "                                lb=lb, ub=ub)"
   ],
   "metadata": {
    "collapsed": false,
    "pycharm": {
     "name": "#%%\n"
    }
   }
  }
 ],
 "metadata": {
  "kernelspec": {
   "name": "conda-env-pythorch-py",
   "language": "python",
   "display_name": "Python [conda env:pythorch] *"
  },
  "language_info": {
   "codemirror_mode": {
    "name": "ipython",
    "version": 2
   },
   "file_extension": ".py",
   "mimetype": "text/x-python",
   "name": "python",
   "nbconvert_exporter": "python",
   "pygments_lexer": "ipython2",
   "version": "2.7.6"
  },
  "pycharm": {
   "stem_cell": {
    "cell_type": "raw",
    "source": [
     "\n",
     "%load_ext autoreload\n",
     "%autoreload 2\n",
     "%matplotlib notebook\n",
     "%matplotlib inline\n"
    ],
    "metadata": {
     "collapsed": false
    }
   }
  }
 },
 "nbformat": 4,
 "nbformat_minor": 0
}