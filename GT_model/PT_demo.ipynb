{
 "cells": [
  {
   "cell_type": "code",
   "execution_count": 79,
   "metadata": {
    "collapsed": true
   },
   "outputs": [],
   "source": [
    "#!/usr/bin/env python\n",
    "# -*- coding: utf-8 -*-\n",
    "# @Time    : 2022/10/08 13:58\n",
    "# @Author  : Wang Yujia\n",
    "# @File    : PT_demo.ipynb\n",
    "# @Description : 1. 计算GTmodel的infer结果\n"
   ]
  },
  {
   "cell_type": "markdown",
   "source": [
    "# 1. Preparations\n",
    "## 1.1 全局设置"
   ],
   "metadata": {
    "collapsed": false,
    "pycharm": {
     "name": "#%% md\n"
    }
   }
  },
  {
   "cell_type": "code",
   "execution_count": 80,
   "outputs": [],
   "source": [
    "import numpy as np\n",
    "import pandas as pd\n",
    "import sympy"
   ],
   "metadata": {
    "collapsed": false,
    "pycharm": {
     "name": "#%%\n"
    }
   }
  },
  {
   "cell_type": "markdown",
   "source": [
    "参数设置"
   ],
   "metadata": {
    "collapsed": false
   }
  },
  {
   "cell_type": "code",
   "execution_count": 81,
   "outputs": [],
   "source": [
    "# for PT\n",
    "alpha = 1\n",
    "delta = 1\n",
    "labda = 2.25\n",
    "\n",
    "# auction setting\n",
    "b = 2\n",
    "V = 6\n",
    "d = 1\n",
    "\n",
    "T = 3\n",
    "\n",
    "# weight function\n",
    "#omega function\n",
    "def omg(p):\n",
    "    tmp = p**delta\n",
    "    return tmp*((tmp + (1-p)**delta)**(-1/delta))"
   ],
   "metadata": {
    "collapsed": false,
    "pycharm": {
     "name": "#%%\n"
    }
   }
  },
  {
   "cell_type": "markdown",
   "source": [
    "# 2. 验证Table.1\n",
    "## 2.1 With EUT"
   ],
   "metadata": {
    "collapsed": false
   }
  },
  {
   "cell_type": "code",
   "execution_count": null,
   "outputs": [],
   "source": [
    "print(\"With EUT\\n\")\n",
    "x = sympy.Symbol('x')\n",
    "p=[]\n",
    "for t in range(1,T+1):\n",
    "    p.append((sympy.solve((x*(-b)+(1-x)*(V-t*d-b)),x)))\n",
    "    print(\"p[{0}]: {1}\".format(t,p[t-1]))"
   ],
   "metadata": {
    "collapsed": false,
    "pycharm": {
     "name": "#%%\n"
    }
   }
  },
  {
   "cell_type": "markdown",
   "source": [
    "## 2.2 With PT\n",
    "1. 为了验证Table 1但是failed，有的数字对不上\n",
    "2."
   ],
   "metadata": {
    "collapsed": false,
    "pycharm": {
     "name": "#%% md\n"
    }
   }
  },
  {
   "cell_type": "code",
   "execution_count": 86,
   "outputs": [
    {
     "name": "stdout",
     "output_type": "stream",
     "text": [
      "With PT\n",
      "\n",
      ">0\n",
      "p[1]: [0.400000000000000]\n",
      ">0\n",
      "p[2]: [0.357142857142857]\n",
      ">0\n",
      "p[3]: [0.307692307692308]\n"
     ]
    }
   ],
   "source": [
    "def f_x(x):\n",
    "    return x**alpha\n",
    "\n",
    "print(\"With PT\\n\")\n",
    "x = sympy.Symbol('x')\n",
    "p_2=[]\n",
    "C=0\n",
    "for t in range(1,T+1):\n",
    "        C = (t-1)*b*0.2\n",
    "        tmp = V-d*t-C-b\n",
    "        if(tmp > 0):\n",
    "            print(\">0\")\n",
    "            p_2.append((sympy.solve((labda*f_x(C) + omg(x)*(-labda)*f_x(C+b) + omg(1-x)*f_x(tmp)),x)))\n",
    "        else:\n",
    "            print(\"<0\")\n",
    "            p_2.append((sympy.solve((-f_x(C) + omg(x)*(f_x(C+b)+(1-omg(x))*f_x(-tmp))),x)))\n",
    "        print(\"p[{0}]: {1}\".format(t,p_2[t-1]))"
   ],
   "metadata": {
    "collapsed": false,
    "pycharm": {
     "name": "#%%\n"
    }
   }
  },
  {
   "cell_type": "markdown",
   "source": [
    "# 3.\n",
    "1. 根据Eq(7)-(9)\n",
    "\n",
    "## 3.1 value functions\n",
    "1. v: the exponential value function"
   ],
   "metadata": {
    "collapsed": false,
    "pycharm": {
     "name": "#%% md\n"
    }
   }
  },
  {
   "cell_type": "code",
   "source": [
    "def v(x):\n",
    "    if x>=0:\n",
    "        return (1-sympy.E**(-alpha*x))/alpha\n",
    "    else :\n",
    "        return (-labda)(1-sympy.E**(alpha*x))/alpha\n",
    "\n",
    "# the value of placing a bid in period t is as follows:\n",
    "# value function\n",
    "def v_bid(t):\n",
    "    if(x>0):\n",
    "        return f_x(V-d*t-0.2*(t-1)*b-b)\n",
    "    else:\n",
    "        return f_x(-0.2*(t-1)*b-b)\n",
    "\n",
    "def v_notbid(x):\n",
    "    return f_x(-0.2*(t-1)*b)\n"
   ],
   "metadata": {
    "collapsed": false,
    "pycharm": {
     "name": "#%%\n"
    }
   },
   "execution_count": null,
   "outputs": []
  },
  {
   "cell_type": "markdown",
   "source": [
    "## 3.2"
   ],
   "metadata": {
    "collapsed": false
   }
  },
  {
   "cell_type": "code",
   "execution_count": null,
   "outputs": [],
   "source": [],
   "metadata": {
    "collapsed": false,
    "pycharm": {
     "name": "#%%\n"
    }
   }
  }
 ],
 "metadata": {
  "kernelspec": {
   "display_name": "Python 3",
   "language": "python",
   "name": "python3"
  },
  "language_info": {
   "codemirror_mode": {
    "name": "ipython",
    "version": 2
   },
   "file_extension": ".py",
   "mimetype": "text/x-python",
   "name": "python",
   "nbconvert_exporter": "python",
   "pygments_lexer": "ipython2",
   "version": "2.7.6"
  }
 },
 "nbformat": 4,
 "nbformat_minor": 0
}