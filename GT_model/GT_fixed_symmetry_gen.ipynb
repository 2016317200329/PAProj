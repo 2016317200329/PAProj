{
 "cells": [
  {
   "cell_type": "code",
   "execution_count": 52,
   "metadata": {
    "collapsed": true
   },
   "outputs": [],
   "source": [
    "#!/usr/bin/env python\n",
    "# -*- coding: utf-8 -*-\n",
    "# @Time    : 2022/9/30 09:23\n",
    "# @Author  : Wang Yujia\n",
    "# @File    : GT_fixed_symmetry_gen.ipynb\n",
    "# @Description : 根据GT_fixed_symmetry_gen_demo.ipynb，计算fixed-price auction的data。ref：信息不对称的paper里symmetry的情况。\n"
   ]
  },
  {
   "cell_type": "markdown",
   "source": [
    "# 0. what for\n",
    "1. 在`GT_fixed_symmetry_gen_demo.ipynb`上实验过的思路，现在一次性输入所有的auction settings，得到相应的输出\n",
    "2. **Steps**：\n",
    "    - collect GT计算需要的features: `features_GT`，NN需要的features：`unique_setting`\n",
    "        - features_GT = ['bidfee','retail','finalprice']\n",
    "        - unique_setting = ['product_id', 'bidincrement', 'bidfee','retail','finalprice'] *[Unsure for now]*\n",
    "        - Note：对于GT来说可能会出现不同的商品对应同样的retail，需要把他们当做不同的商品处理。GT并不在意是什么商品，只是在意`retail`大小\n",
    "    - 根据`features_GT`计算GT预测的结果`n`和`p`\n",
    "3. **Attention**：GT可以用一个features_GT来generate一组结果。但是对于NN而言，unique setting和GT_setting是两回事，前者更精细，包含的features更多。\n",
    "    - 计算的时候直接忽略掉'product_id'，后面和target作比较的时候可以merge起来"
   ],
   "metadata": {
    "collapsed": false
   }
  },
  {
   "cell_type": "markdown",
   "source": [
    "# 1. Preparations\n",
    "## 1.1 全局设置"
   ],
   "metadata": {
    "collapsed": false
   }
  },
  {
   "cell_type": "code",
   "execution_count": 53,
   "outputs": [],
   "source": [
    "# 经过threshold==16 filter之后，得到的dataset\n",
    "data_selected_path = \"../data/info_asymm/datawithnp_fixed_symmetry_selected.csv\"\n",
    "\n",
    "# output path\n",
    "data_path_root = \"../data/info_asymm/results/fixed_symmetry/\"\n",
    "filename_head = \"GT_fixed_symmetry_\"\n",
    "filename_tail = \".csv\"\n",
    "\n",
    "# GT计算需要的features\n",
    "product_id = ['product_id']\n",
    "# 在这里认为GT连'product_id'的信息都不需要，囊括这个只是为了画图\n",
    "features_GT = ['bidfee','retail','finalprice']\n",
    "# 存在'product_id'相同但是'retail'不同的情况！\n",
    "# 按理说'finalprice'也应该成为一个settings，fixed-price中越低的要价可以吸引越多的bidders\n",
    "unique_setting = ['product_id', 'bidincrement', 'bidfee','retail']\n",
    "\n",
    "import numpy as np\n",
    "import pandas as pd\n",
    "import csv\n",
    "import seaborn as sns\n",
    "import matplotlib.pyplot as plt\n",
    "from matplotlib.pyplot import MultipleLocator # 用于设置刻度间隔"
   ],
   "metadata": {
    "collapsed": false,
    "pycharm": {
     "name": "#%%\n"
    }
   }
  },
  {
   "cell_type": "markdown",
   "source": [
    "## 1.2 读取data"
   ],
   "metadata": {
    "collapsed": false
   }
  },
  {
   "cell_type": "code",
   "execution_count": 54,
   "outputs": [],
   "source": [
    "data = pd.read_csv(data_selected_path, encoding=\"utf-8\")"
   ],
   "metadata": {
    "collapsed": false,
    "pycharm": {
     "name": "#%%\n"
    }
   }
  },
  {
   "cell_type": "markdown",
   "source": [
    "# 2. GT_model: fixed-price auction model in symmetry situation\n",
    "## 2.1 提取GT计算需要的features和data\n",
    "1. 注意`drop_duplicates()`的目的是，对GT model来说，它的setting和NN的setting是不一样的，这里只需要要保留GT计算需要的setting就好"
   ],
   "metadata": {
    "collapsed": false
   }
  },
  {
   "cell_type": "code",
   "execution_count": 62,
   "outputs": [
    {
     "name": "stdout",
     "output_type": "stream",
     "text": [
      "For symmetry GT model in fixed-price auctions, there are *77* settings waiting to be inferred.\n",
      "aaaaa:  898.9145454545454\n"
     ]
    }
   ],
   "source": [
    "# 2.1.1 extract data\n",
    "data_for_GT = data[features_GT].copy()\n",
    "data_for_GT = data_for_GT.drop_duplicates().copy()\n",
    "print(\"For symmetry GT model in \"\n",
    "      \"fixed-price auctions, there are *{}* settings waiting to be inferred.\".format(data_for_GT.shape[0]))\n",
    "\n",
    "# 2.1.2 设置\n",
    "b = np.array(data_for_GT.bidfee*0.01)          # bid fee (cent to dollar)\n",
    "v = np.array(data_for_GT.retail)               # valuation\n",
    "p = np.array(data_for_GT.finalprice)           # fixed-price charged to the winner\n",
    "\n",
    "# 对GT-model来说，有A个不同的settings，因此需要计算`A`组结果\n",
    "A = data_for_GT.shape[0]\n",
    "\n",
    "# 2.1.3 根据i，得到Key/ features_GT\n",
    "def get_key_from_index(i):\n",
    "    key_i = list(data_for_GT[features_GT].iloc[i,:])   # 取出key/ uniq features\n",
    "    # make sure key_i_str is tuple which is hashable\n",
    "    key_i_str = (str(key_i[0]),str(key_i[1]),str(key_i[2]))\n",
    "    return key_i_str"
   ],
   "metadata": {
    "collapsed": false,
    "pycharm": {
     "name": "#%%\n"
    }
   }
  },
  {
   "cell_type": "markdown",
   "source": [
    "## 2.2 K\n",
    "1. $n$ 的threshold $K$ 设置为ascending-price下的$Q$的中位数: $K = 500$ (中位数是490)\n",
    "2. 但是这个效果不好，应该设置更大一点"
   ],
   "metadata": {
    "collapsed": false
   }
  },
  {
   "cell_type": "code",
   "execution_count": 56,
   "outputs": [
    {
     "name": "stdout",
     "output_type": "stream",
     "text": [
      "The threshold is:  1000\n"
     ]
    }
   ],
   "source": [
    "K = 1000\n",
    "print(\"The threshold is: \",K)"
   ],
   "metadata": {
    "collapsed": false,
    "pycharm": {
     "name": "#%%\n"
    }
   }
  },
  {
   "cell_type": "markdown",
   "source": [
    "## 2.3 U\n",
    "1. 计算`U`，在fixed-price下，`U`不会随着轮数的增加而变化\n",
    "2. `U`作为一个**dict**，它的key是`unique_setting`,每一个key对应一个常数. 因此`U`的shape应该为：`A*1`\n",
    "3. $u = 1-b/(v-p)$"
   ],
   "metadata": {
    "collapsed": false
   }
  },
  {
   "cell_type": "code",
   "execution_count": 75,
   "outputs": [
    {
     "name": "stdout",
     "output_type": "stream",
     "text": [
      "U is Prepared Well\n"
     ]
    },
    {
     "data": {
      "text/plain": "0.9986046649864037"
     },
     "execution_count": 75,
     "metadata": {},
     "output_type": "execute_result"
    }
   ],
   "source": [
    "U = dict()\n",
    "\n",
    "# for every uniq setting i\n",
    "for i in range(0,A):\n",
    "    # Get the key of i\n",
    "    key_i = get_key_from_index(i)\n",
    "    U[key_i] = 1.0-b[i]/(v[i]-p[i])\n",
    "\n",
    "assert(len(U) == A)\n",
    "\n",
    "print(\"U is Prepared Well\")\n",
    "sum(U.values()) / len(U)"
   ],
   "metadata": {
    "collapsed": false,
    "pycharm": {
     "name": "#%%\n"
    }
   }
  },
  {
   "cell_type": "markdown",
   "source": [
    "## 2.4 N\n",
    "1. 容易获取N，在fixed-price下，它的长度是`A*K`\n",
    "2."
   ],
   "metadata": {
    "collapsed": false
   }
  },
  {
   "cell_type": "code",
   "execution_count": 58,
   "outputs": [
    {
     "name": "stdout",
     "output_type": "stream",
     "text": [
      "N is Prepared Well.\n"
     ]
    }
   ],
   "source": [
    "N = dict()\n",
    "\n",
    "# for every uniq setting i\n",
    "for i in range(0,A):\n",
    "    key_i = get_key_from_index(i)              # Get the key of i\n",
    "    N[key_i] = np.arange(0,K+1)\n",
    "\n",
    "print(\"N is Prepared Well.\")"
   ],
   "metadata": {
    "collapsed": false,
    "pycharm": {
     "name": "#%%\n"
    }
   }
  },
  {
   "cell_type": "markdown",
   "source": [
    "## 2.5 P\n",
    "1. `P`作为一个**dict**，它的key是`unique_setting`,每一个key对应一个大小为(K+2)的list. 因此`P`的shape应该为：`A*(K+1)`\n",
    "2. 对于某一个确定的setting，`P[key_i]`有`K`个有效数字，有效index从`0`开始，因此`P[key_i]`的长度is a constant `K+1`\n",
    "3. `P[key_i]`和`U[key_i]`的有效长度都是`K+1`，只不过`U[key_i]`为了保持意义，下标从`1`开始"
   ],
   "metadata": {
    "collapsed": false,
    "pycharm": {
     "name": "#%% md\n"
    }
   }
  },
  {
   "cell_type": "code",
   "source": [
    "P = dict()\n",
    "\n",
    "# for every uniq setting i\n",
    "for i in range(0,A):\n",
    "    key_i = get_key_from_index(i)              # Get the key of i\n",
    "    P[key_i] = np.array([0.0]*(K+1))\n",
    "    P[key_i][0] = 1 - U[key_i]\n",
    "    # for every period j in the auction with uniq setting i\n",
    "    for j in range(1,(K)):\n",
    "        P[key_i][j] = P[key_i][j-1] * U[key_i]\n",
    "    # set specifically for Kth round\n",
    "    P[key_i][K] = 1-np.sum(P[key_i])\n",
    "    assert(len(P[key_i]) == len(N[key_i]),\"P should record all the durations record in N\")\n",
    "    print(\"The sum of P_{0} is: {1}\".format(i,np.sum(P[key_i])))\n",
    "\n",
    "print(\"\\nP is Prepared Well.\")"
   ],
   "metadata": {
    "collapsed": false,
    "pycharm": {
     "name": "#%%\n"
    }
   },
   "execution_count": 59,
   "outputs": [
    {
     "name": "stdout",
     "output_type": "stream",
     "text": [
      "The sum of P_0 is: 0.9999999999999999\n",
      "The sum of P_1 is: 1.0\n",
      "The sum of P_2 is: 1.0\n",
      "The sum of P_3 is: 1.0\n",
      "The sum of P_4 is: 0.9999999999999999\n",
      "The sum of P_5 is: 1.0\n",
      "The sum of P_6 is: 1.0\n",
      "The sum of P_7 is: 1.0\n",
      "The sum of P_8 is: 0.9999999999999999\n",
      "The sum of P_9 is: 1.0\n",
      "The sum of P_10 is: 0.9999999999999999\n",
      "The sum of P_11 is: 1.0\n",
      "The sum of P_12 is: 1.0\n",
      "The sum of P_13 is: 1.0\n",
      "The sum of P_14 is: 1.0\n",
      "The sum of P_15 is: 1.0\n",
      "The sum of P_16 is: 1.0\n",
      "The sum of P_17 is: 1.0\n",
      "The sum of P_18 is: 1.0\n",
      "The sum of P_19 is: 1.0\n",
      "The sum of P_20 is: 1.0\n",
      "The sum of P_21 is: 1.0\n",
      "The sum of P_22 is: 1.0\n",
      "The sum of P_23 is: 1.0\n",
      "The sum of P_24 is: 1.0\n",
      "The sum of P_25 is: 1.0\n",
      "The sum of P_26 is: 1.0\n",
      "The sum of P_27 is: 1.0\n",
      "The sum of P_28 is: 1.0\n",
      "The sum of P_29 is: 1.0\n",
      "The sum of P_30 is: 0.9999999999999999\n",
      "The sum of P_31 is: 1.0\n",
      "The sum of P_32 is: 1.0\n",
      "The sum of P_33 is: 1.0\n",
      "The sum of P_34 is: 1.0\n",
      "The sum of P_35 is: 1.0\n",
      "The sum of P_36 is: 1.0\n",
      "The sum of P_37 is: 1.0\n",
      "The sum of P_38 is: 1.0\n",
      "The sum of P_39 is: 1.0\n",
      "The sum of P_40 is: 1.0\n",
      "The sum of P_41 is: 1.0\n",
      "The sum of P_42 is: 1.0\n",
      "The sum of P_43 is: 1.0\n",
      "The sum of P_44 is: 1.0\n",
      "The sum of P_45 is: 1.0\n",
      "The sum of P_46 is: 0.9999999999999999\n",
      "The sum of P_47 is: 1.0\n",
      "The sum of P_48 is: 1.0\n",
      "The sum of P_49 is: 1.0\n",
      "The sum of P_50 is: 1.0\n",
      "The sum of P_51 is: 1.0\n",
      "The sum of P_52 is: 1.0\n",
      "The sum of P_53 is: 1.0\n",
      "The sum of P_54 is: 1.0\n",
      "The sum of P_55 is: 1.0\n",
      "The sum of P_56 is: 1.0\n",
      "The sum of P_57 is: 1.0\n",
      "The sum of P_58 is: 0.9999999999999999\n",
      "The sum of P_59 is: 1.0\n",
      "The sum of P_60 is: 1.0\n",
      "The sum of P_61 is: 1.0\n",
      "The sum of P_62 is: 1.0\n",
      "The sum of P_63 is: 1.0\n",
      "The sum of P_64 is: 1.0\n",
      "The sum of P_65 is: 1.0\n",
      "The sum of P_66 is: 1.0\n",
      "The sum of P_67 is: 0.9999999999999999\n",
      "The sum of P_68 is: 1.0\n",
      "The sum of P_69 is: 1.0\n",
      "The sum of P_70 is: 1.0\n",
      "The sum of P_71 is: 1.0\n",
      "The sum of P_72 is: 1.0\n",
      "The sum of P_73 is: 1.0\n",
      "The sum of P_74 is: 1.0\n",
      "The sum of P_75 is: 1.0\n",
      "The sum of P_76 is: 1.0\n",
      "\n",
      "P is Prepared Well.\n"
     ]
    },
    {
     "name": "stderr",
     "output_type": "stream",
     "text": [
      "<>:13: SyntaxWarning: assertion is always true, perhaps remove parentheses?\n",
      "<>:13: SyntaxWarning: assertion is always true, perhaps remove parentheses?\n",
      "<>:13: SyntaxWarning: assertion is always true, perhaps remove parentheses?\n",
      "<ipython-input-59-8e6c9e7d1e4d>:13: SyntaxWarning: assertion is always true, perhaps remove parentheses?\n",
      "  assert(len(P[key_i]) == len(N[key_i]),\"P should record all the durations record in N\")\n"
     ]
    }
   ]
  },
  {
   "cell_type": "markdown",
   "source": [
    "# 3. Dict Output\n",
    "1每个features_GT对应着一组keys + 一个distrb\n",
    "    - 输出3个csv文件，分别存储了`P,N,Keys`，前两者是dict直接输出\n",
    "    - `P`的每一个item存储的是一个uniq setting以及对应的distrb.\n",
    "    - `N`的每一个item存储的是一个uniq setting以及对应的duration array\n",
    "    - `Keys`的每一个item存储的是一个uniq setting，一共存储了`A`个"
   ],
   "metadata": {
    "collapsed": false
   }
  },
  {
   "cell_type": "code",
   "execution_count": 60,
   "outputs": [
    {
     "name": "stdout",
     "output_type": "stream",
     "text": [
      "Output is DONE\n"
     ]
    }
   ],
   "source": [
    "filename_P = data_path_root+(filename_head + \"P\" + filename_tail)\n",
    "filename_N = data_path_root+(filename_head + \"N\" + filename_tail)\n",
    "filename_keys = data_path_root+(filename_head + \"Keys\" + filename_tail)\n",
    "\n",
    "# P to csv\n",
    "with open(filename_P,\"w+\",encoding='utf—8') as f:\n",
    "    w=csv.writer(f)\n",
    "    w.writerow(P.items())    # 每行存储一个键值对\n",
    "\n",
    "# N to csv\n",
    "with open(filename_N,\"w+\",encoding='utf—8') as f:\n",
    "    w=csv.writer(f)         # 每行存储一个键值对\n",
    "    w.writerow(N.items())\n",
    "\n",
    "# Keys to csv\n",
    "with open(filename_keys,\"w+\",encoding='utf—8',newline=\"\") as f:\n",
    "    w=csv.writer(f)\n",
    "    # write in the header firstly\n",
    "    w.writerow(unique_setting)\n",
    "    # for every uniq setting i\n",
    "    for i in range(0,A):\n",
    "        key = get_key_from_index(i)\n",
    "        w.writerow(key)\n",
    "\n",
    "print(\"Output is DONE\")"
   ],
   "metadata": {
    "collapsed": false,
    "pycharm": {
     "name": "#%%\n"
    }
   }
  },
  {
   "cell_type": "markdown",
   "source": [
    "# 4. Test and Plot\n",
    "## 4.1 plot\n",
    "1. 根据指定的index进行画图，"
   ],
   "metadata": {
    "collapsed": false
   }
  },
  {
   "cell_type": "code",
   "execution_count": 61,
   "outputs": [
    {
     "data": {
      "text/plain": "<Figure size 432x288 with 1 Axes>",
      "image/png": "[encoded data removed]"
     },
     "metadata": {
      "needs_background": "light"
     },
     "output_type": "display_data"
    },
    {
     "name": "stdout",
     "output_type": "stream",
     "text": [
      "Plot is DONE\n"
     ]
    }
   ],
   "source": [
    "index_i = 28\n",
    "key_i_forplot =  get_key_from_index(index_i)\n",
    "\n",
    "plt.xlabel(\"Duration n\")\n",
    "plt.ylabel(\"The density p\")\n",
    "plt.title(\"bid fee={0}, bid increment={1}, retail={2}. Q={3}\".format(float(key_i_forplot[0])*0.01,key_i_forplot[1],key_i_forplot[2],K))\n",
    "\n",
    "ax = sns.barplot(x = N[key_i_forplot],y=P[key_i_forplot])\n",
    "\n",
    "# 设置刻度\n",
    "plt.xticks(np.arange(0, K, step=100),rotation=30)\n",
    "\n",
    "plt.show()\n",
    "print(\"Plot is DONE\")\n"
   ],
   "metadata": {
    "collapsed": false,
    "pycharm": {
     "name": "#%%\n"
    }
   }
  }
 ],
 "metadata": {
  "kernelspec": {
   "display_name": "Python 3",
   "language": "python",
   "name": "python3"
  },
  "language_info": {
   "codemirror_mode": {
    "name": "ipython",
    "version": 2
   },
   "file_extension": ".py",
   "mimetype": "text/x-python",
   "name": "python",
   "nbconvert_exporter": "python",
   "pygments_lexer": "ipython2",
   "version": "2.7.6"
  }
 },
 "nbformat": 4,
 "nbformat_minor": 0
}