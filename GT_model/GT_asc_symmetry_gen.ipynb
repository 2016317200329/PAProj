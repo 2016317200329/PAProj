{
 "cells": [
  {
   "cell_type": "code",
   "execution_count": 2,
   "metadata": {
    "collapsed": true
   },
   "outputs": [],
   "source": [
    "#!/usr/bin/env python\n",
    "# -*- coding: utf-8 -*-\n",
    "# @Time    : 2022/9/26 22:24\n",
    "# @Author  : Wang Yujia\n",
    "# @File    : GT_asc_symmetry_gen.ipynb\n",
    "# @Description : 根据../cal_np_asc_symmetry_demo.ipynb，计算ascending-price auction的data。ref：信息不对称的paper里symmetry的情况。"
   ]
  },
  {
   "cell_type": "markdown",
   "metadata": {
    "pycharm": {
     "name": "#%% md\n"
    }
   },
   "source": [
    "# 0. what for\n",
    "1. 在`../cal_np_asc_symmetry_demo.ipynb`上实验过的思路，现在automatically执行一下，输入所有的auction setting，得到相应的输出\n",
    "2. **Steps**：\n",
    "    - collect GT计算需要的features: `features_GT`，记得给target data留一个flag:`unique_setting`\n",
    "        - features_GT = ['product_id','bidincrement','bidfee','retail']\n",
    "        - unique_setting = ['product_id', 'bidincrement', 'bidfee','retail']\n",
    "        - note：对于GT来说可能会出现不同的商品对应同样的retail，需要把他们当做不同的商品处理\n",
    "    - 根据`features_GT`计算GT预测的结果`n`和`p`"
   ]
  },
  {
   "cell_type": "markdown",
   "metadata": {},
   "source": [
    "# 1. Preparations\n",
    "## 1.1 全局设置"
   ]
  },
  {
   "cell_type": "code",
   "execution_count": 3,
   "metadata": {
    "pycharm": {
     "name": "#%%\n"
    }
   },
   "outputs": [],
   "source": [
    "# 经过threshold==16 filter之后，得到的dataset\n",
    "data_selected_path = \"../data/info_asymm/datawithnp_asc_symmetry_selected.csv\"\n",
    "\n",
    "# output path\n",
    "data_path_root = \"../data/info_asymm/results/asc_symmetry/\"\n",
    "filename_head = \"GT_asc_symmetry_\"\n",
    "filename_tail = \".csv\"\n",
    "\n",
    "# GT计算需要的features\n",
    "features_GT = ['product_id','bidincrement','bidfee','retail']\n",
    "# 存在'product_id'相同但是'retail'不同的情况！\n",
    "unique_setting = ['product_id', 'bidincrement', 'bidfee','retail']\n",
    "\n",
    "import numpy as np\n",
    "import pandas as pd\n",
    "import csv\n",
    "import seaborn as sns\n",
    "import matplotlib.pyplot as plt\n",
    "from matplotlib.pyplot import MultipleLocator # 用于设置刻度间隔"
   ]
  },
  {
   "cell_type": "markdown",
   "metadata": {},
   "source": [
    "## 1.2 读取data"
   ]
  },
  {
   "cell_type": "code",
   "execution_count": 4,
   "metadata": {
    "pycharm": {
     "name": "#%%\n"
    }
   },
   "outputs": [],
   "source": [
    "data = pd.read_csv(data_selected_path, encoding=\"utf-8\")"
   ]
  },
  {
   "cell_type": "markdown",
   "metadata": {},
   "source": [
    "# 2. GT_model: ascending-price auction model in symmetry situation\n",
    "## 2.1 提取GT计算需要的features和data"
   ]
  },
  {
   "cell_type": "code",
   "execution_count": 5,
   "metadata": {
    "pycharm": {
     "name": "#%%\n"
    }
   },
   "outputs": [
    {
     "name": "stdout",
     "output_type": "stream",
     "text": [
      "For symmetry GT model in ascending auctions, there are *99* settings waiting to be inferred.\n"
     ]
    }
   ],
   "source": [
    "# 2.1.1 extract data\n",
    "data_for_GT = data[features_GT].copy()\n",
    "data_for_GT = data_for_GT.drop_duplicates().copy()\n",
    "print(\"For symmetry GT model in ascending auctions, there are *{}* settings waiting to be inferred.\".format(data_for_GT.shape[0]))\n",
    "\n",
    "# 2.1.2 设置\n",
    "b = np.array(data_for_GT.bidfee*0.01)          # bid fee (cent to dollar)\n",
    "s = np.array(data_for_GT.bidincrement*0.01)    # bid increment (cent to dollar)\n",
    "v = np.array(data_for_GT.retail)               # valuation\n",
    "# 需要计算`A`组结果\n",
    "A = data_for_GT.shape[0]\n",
    "\n",
    "# 2.1.3 得到Key的函数\n",
    "def get_key_from_index(i):\n",
    "    key_i = list(data_for_GT[unique_setting].iloc[i,:])   # 取出key/ uniq features\n",
    "    # make sure key_i_str is tuple which is hashable\n",
    "    key_i_str = (str(key_i[0]),str(key_i[1]),str(key_i[2]),str(key_i[3]))\n",
    "    return key_i_str"
   ]
  },
  {
   "cell_type": "markdown",
   "metadata": {},
   "source": [
    "## 2.2 Q\n",
    "1. For ascending-price, there is $n \\leq Q $\n",
    "2. Q的大小应该为`A*1`"
   ]
  },
  {
   "cell_type": "code",
   "execution_count": 6,
   "metadata": {
    "pycharm": {
     "name": "#%%\n"
    }
   },
   "outputs": [
    {
     "name": "stdout",
     "output_type": "stream",
     "text": [
      "\n",
      "shape of Q:  (99,)\n",
      "The largest Q is *58420*, and the smallest one is *152*\n",
      "In average, Q is :  1757.7171717171718\n"
     ]
    }
   ],
   "source": [
    "Q = np.floor((v-b)/s)\n",
    "Q = np.array(Q.astype('int'))\n",
    "print(\"\\nshape of Q: \",Q.shape)\n",
    "print(\"The largest Q is *{0}*, and the smallest one is *{1}*\".format(max(Q),min(Q)))\n",
    "print(\"In average, Q is : \",Q.mean())"
   ]
  },
  {
   "cell_type": "markdown",
   "metadata": {},
   "source": [
    "## 2.3 U\n",
    "1. `U`作为一个**dict**，它的key是`unique_setting`,每一个key对应一个大小为(Q+2)的list. 因此`U`的shape应该为：`A*(Q+2)`\n",
    "2. 注意边界值：根据公式可知`U[key][0]`不存在，指定为1，方便后续`P`的计算\n",
    "3. 对于某一个确定的setting，`U[key]`一共有`Q[key]`个有效数字，有效index从`1`开始，因此`U[key]`的长度is various depending on the `Q`\n",
    "4. 因此`U[key][j]`表示在某一个setting下：\n",
    "> The probability that somebody makes the jth bid (given that j − 1 previous bids have been made)"
   ]
  },
  {
   "cell_type": "code",
   "execution_count": 7,
   "metadata": {
    "pycharm": {
     "name": "#%%\n"
    }
   },
   "outputs": [
    {
     "name": "stdout",
     "output_type": "stream",
     "text": [
      "U is Prepared Well\n"
     ]
    }
   ],
   "source": [
    "U = dict()\n",
    "\n",
    "# for every uniq setting i\n",
    "for i in range(0,A):\n",
    "    # Get the key of i\n",
    "    key_i = get_key_from_index(i)      # u[i][0]方便计算，统一设为1\n",
    "    U[key_i] = np.array([1.0]*(Q[i]+2)) # 避免浅拷贝，请你这样写\n",
    "    # for every period j in the auction with uniq setting i\n",
    "    for j in range(1,Q[i]+2):\n",
    "        U[key_i][j] = 1.0-b[i]/(v[i]-s[i]*(j-1))\n",
    "    assert(U[key_i].shape[0] == (Q[i]+2))\n",
    "\n",
    "print(\"U is Prepared Well\")"
   ]
  },
  {
   "cell_type": "markdown",
   "metadata": {},
   "source": [
    "## 2.4 N\n",
    "1. 容易获取N，在ascending-price下，它和Q直接相关"
   ]
  },
  {
   "cell_type": "code",
   "execution_count": 8,
   "metadata": {
    "pycharm": {
     "name": "#%%\n"
    }
   },
   "outputs": [
    {
     "name": "stdout",
     "output_type": "stream",
     "text": [
      "N is Prepared Well.\n"
     ]
    },
    {
     "name": "stderr",
     "output_type": "stream",
     "text": [
      "<>:7: SyntaxWarning: assertion is always true, perhaps remove parentheses?\n",
      "<>:7: SyntaxWarning: assertion is always true, perhaps remove parentheses?\n",
      "<>:7: SyntaxWarning: assertion is always true, perhaps remove parentheses?\n",
      "<ipython-input-8-6c03b33c9a25>:7: SyntaxWarning: assertion is always true, perhaps remove parentheses?\n",
      "  assert(max(N[key_i]) == Q[i],\"N[key_i]的最大值不是Q[i]\")\n"
     ]
    }
   ],
   "source": [
    "N = dict()\n",
    "\n",
    "# for every uniq setting i\n",
    "for i in range(0,A):\n",
    "    key_i = get_key_from_index(i)              # Get the key of i\n",
    "    N[key_i] = np.arange(0,Q[i]+1)\n",
    "    assert(max(N[key_i]) == Q[i],\"N[key_i]的最大值不是Q[i]\")\n",
    "\n",
    "print(\"N is Prepared Well.\")"
   ]
  },
  {
   "cell_type": "markdown",
   "metadata": {
    "pycharm": {
     "name": "#%% md\n"
    }
   },
   "source": [
    "## 2.5 P\n",
    "1. `P`作为一个**dict**，它的key是`unique_setting`,每一个key对应一个大小为(Q+2)的list. 因此`P`的shape应该为：`A*(Q+1)`\n",
    "2. 对于某一个确定的setting，`P[key_i]`一共有`Q[i]`个有效数字，有效index从`0`开始，因此`P[key_i]`的长度is various depending on the `Q[i]`\n",
    "3. `P[key_i]`和`U[key_i]`的有效长度都是`Q[i]+1`，只不过`U[key_i]`为了保持意义，下标从`1`开始"
   ]
  },
  {
   "cell_type": "code",
   "execution_count": 9,
   "metadata": {
    "pycharm": {
     "name": "#%%\n"
    }
   },
   "outputs": [
    {
     "name": "stdout",
     "output_type": "stream",
     "text": [
      "The sum of P_0 is: 0.9999999999807561\n",
      "The sum of P_1 is: 0.9999999996754446\n",
      "The sum of P_2 is: 0.9999999998946243\n",
      "The sum of P_3 is: 0.9999999998946243\n",
      "The sum of P_4 is: 0.9999999999967758\n",
      "The sum of P_5 is: 0.9999999999967758\n",
      "The sum of P_6 is: 0.9999999999967758\n",
      "The sum of P_7 is: 0.9999999999967758\n",
      "The sum of P_8 is: 0.9999999999995501\n",
      "The sum of P_9 is: 0.9999999999967758\n",
      "The sum of P_10 is: 0.9999999999945259\n",
      "The sum of P_11 is: 0.9999999999999999\n",
      "The sum of P_12 is: 0.9999999999999994\n",
      "The sum of P_13 is: 0.9999999999968002\n",
      "The sum of P_14 is: 0.9999999999968002\n",
      "The sum of P_15 is: 0.9999999999999993\n",
      "The sum of P_16 is: 0.9999999999958279\n",
      "The sum of P_17 is: 0.9999999999999936\n",
      "The sum of P_18 is: 0.9999999999995776\n",
      "The sum of P_19 is: 0.999999999999999\n",
      "The sum of P_20 is: 0.9999999999929461\n",
      "The sum of P_21 is: 0.9999999999998995\n",
      "The sum of P_22 is: 0.9999999999998537\n",
      "The sum of P_23 is: 0.9999999999995002\n",
      "The sum of P_24 is: 0.9999999999998593\n",
      "The sum of P_25 is: 0.9999999999996979\n",
      "The sum of P_26 is: 0.99999999988737\n",
      "The sum of P_27 is: 0.999999999990108\n",
      "The sum of P_28 is: 0.9999999999999987\n",
      "The sum of P_29 is: 0.9999999999996979\n",
      "The sum of P_30 is: 0.9999999999807561\n",
      "The sum of P_31 is: 0.9999999999999991\n",
      "The sum of P_32 is: 0.9999999999968002\n",
      "The sum of P_33 is: 0.9999999999931022\n",
      "The sum of P_34 is: 0.9999999999999936\n",
      "The sum of P_35 is: 0.9999999999999973\n",
      "The sum of P_36 is: 1.0000000000000018\n",
      "The sum of P_37 is: 0.9999999999999756\n",
      "The sum of P_38 is: 0.9999999999697754\n",
      "The sum of P_39 is: 0.9999998659847534\n",
      "The sum of P_40 is: 0.9999999999967758\n",
      "The sum of P_41 is: 0.9999999999999531\n",
      "The sum of P_42 is: 0.9999999999968002\n",
      "The sum of P_43 is: 0.9999999999968002\n",
      "The sum of P_44 is: 0.9999999999968002\n",
      "The sum of P_45 is: 0.9999999999968002\n",
      "The sum of P_46 is: 0.9999999999999971\n",
      "The sum of P_47 is: 0.9999999999735978\n",
      "The sum of P_48 is: 0.9999999999999984\n",
      "The sum of P_49 is: 0.9999999999997381\n",
      "The sum of P_50 is: 0.9999999999997381\n",
      "The sum of P_51 is: 0.9999999999958279\n",
      "The sum of P_52 is: 0.9999999999853127\n",
      "The sum of P_53 is: 0.9999999999956332\n",
      "The sum of P_54 is: 0.9999999999958279\n",
      "The sum of P_55 is: 0.9999999999998742\n",
      "The sum of P_56 is: 0.9999999998946243\n",
      "The sum of P_57 is: 0.9999999999958279\n",
      "The sum of P_58 is: 0.9999999999956332\n",
      "The sum of P_59 is: 0.999999999994481\n",
      "The sum of P_60 is: 0.9999999999963948\n",
      "The sum of P_61 is: 0.9999999999956332\n",
      "The sum of P_62 is: 0.9999999999963948\n",
      "The sum of P_63 is: 0.9999999999995091\n",
      "The sum of P_64 is: 0.9999999999958279\n",
      "The sum of P_65 is: 0.9999999999958279\n",
      "The sum of P_66 is: 0.9999999999958279\n",
      "The sum of P_67 is: 0.9999999999968002\n",
      "The sum of P_68 is: 0.9999999996754446\n",
      "The sum of P_69 is: 0.9999999999999756\n",
      "The sum of P_70 is: 0.9999999999968002\n",
      "The sum of P_71 is: 0.9999999999967758\n",
      "The sum of P_72 is: 0.9999999999989415\n",
      "The sum of P_73 is: 0.9999999999975644\n",
      "The sum of P_74 is: 0.9999999999988923\n",
      "The sum of P_75 is: 0.9999999999998537\n",
      "The sum of P_76 is: 1.0000000000000002\n",
      "The sum of P_77 is: 0.9999999999999893\n",
      "The sum of P_78 is: 0.9999999999990585\n",
      "The sum of P_79 is: 0.9999999999987154\n",
      "The sum of P_80 is: 0.9999999999968002\n",
      "The sum of P_81 is: 0.9999999999983077\n",
      "The sum of P_82 is: 0.9999999999967758\n",
      "The sum of P_83 is: 0.9999999999863167\n",
      "The sum of P_84 is: 0.9999999999998995\n",
      "The sum of P_85 is: 0.9999999999967758\n",
      "The sum of P_86 is: 0.9999999999967758\n",
      "The sum of P_87 is: 0.9999999999975644\n",
      "The sum of P_88 is: 0.9999999999967758\n",
      "The sum of P_89 is: 1.0\n",
      "The sum of P_90 is: 0.9999999999999999\n",
      "The sum of P_91 is: 0.9999999999999999\n",
      "The sum of P_92 is: 0.9999999999999996\n",
      "The sum of P_93 is: 0.9999999999999971\n",
      "The sum of P_94 is: 0.9999999999751307\n",
      "The sum of P_95 is: 0.9999999999968002\n",
      "The sum of P_96 is: 0.9999999999999999\n",
      "The sum of P_97 is: 1.000000000000001\n",
      "The sum of P_98 is: 1.0000000000000004\n",
      "\n",
      "P is Prepared Well.\n"
     ]
    }
   ],
   "source": [
    "P = dict()\n",
    "\n",
    "# for every uniq setting i\n",
    "for i in range(0,A):\n",
    "    key_i = get_key_from_index(i)              # Get the key of i\n",
    "    # N_i = np.array(range(0,Q[i]+1))\n",
    "    P[key_i] = np.array([0.0]*(Q[i]+1))\n",
    "    tmp = np.array([0.0]*(Q[i]+2))\n",
    "    tmp[0] = 1.0\n",
    "    \n",
    "    # for every period j in the auction with uniq setting i\n",
    "    for j in range(0,(Q[i]+1)):\n",
    "        tmp[j+1] = tmp[j]*U[key_i][j]\n",
    "        P[key_i][j] = (1-U[key_i][j+1])*tmp[j+1]\n",
    "\n",
    "    # assert(len(P[key_i]) == len(N[key_i]),\"P should record all the durations record in N\")\n",
    "    print(\"The sum of P_{0} is: {1}\".format(i,np.sum(P[key_i])))\n",
    "\n",
    "print(\"\\nP is Prepared Well.\")"
   ]
  },
  {
   "cell_type": "markdown",
   "metadata": {},
   "source": [
    "# 3. Dict Output\n",
    "1. 每个unique setting对应着一组keys + 一个distrb\n",
    "    - 输出3个csv文件，分别存储了`P,N,Keys`，前两者是dict直接输出\n",
    "    - `P`的每一个item存储的是一个uniq setting以及对应的distrb.\n",
    "    - `N`的每一个item存储的是一个uniq setting以及对应的duration array\n",
    "    - `Keys`的每一个item存储的是一个uniq setting，一共存储了`A`个"
   ]
  },
  {
   "cell_type": "code",
   "execution_count": 10,
   "metadata": {
    "pycharm": {
     "name": "#%%\n"
    }
   },
   "outputs": [
    {
     "name": "stdout",
     "output_type": "stream",
     "text": [
      "Output is DONE\n"
     ]
    }
   ],
   "source": [
    "filename_P = data_path_root+(filename_head + \"P\" + filename_tail)\n",
    "filename_N = data_path_root+(filename_head + \"N\" + filename_tail)\n",
    "filename_keys = data_path_root+(filename_head + \"Keys\" + filename_tail)\n",
    "\n",
    "# P to csv\n",
    "with open(filename_P,\"w+\",encoding='utf—8') as f:\n",
    "    w=csv.writer(f)\n",
    "    # 每行存储一个键值对\n",
    "    w.writerow(P.items())\n",
    "\n",
    "# N to csv\n",
    "with open(filename_N,\"w+\",encoding='utf—8') as f:\n",
    "    w=csv.writer(f)                  # 每行存储一个键值对\n",
    "    w.writerow(N.items())\n",
    "\n",
    "# Keys to csv\n",
    "with open(filename_keys,\"w+\",encoding='utf—8',newline=\"\") as f:\n",
    "    w=csv.writer(f)\n",
    "    # firstly write in the header\n",
    "    w.writerow(unique_setting)\n",
    "    # for every uniq setting i\n",
    "    for i in range(0,A):\n",
    "        key = get_key_from_index(i)\n",
    "        w.writerow(key)\n",
    "\n",
    "print(\"Output is DONE\")"
   ]
  },
  {
   "cell_type": "markdown",
   "source": [
    "# 4. Test and Plot\n",
    "## 4.1 plot\n",
    "1. 根据指定的index进行画图，"
   ],
   "metadata": {
    "collapsed": false
   }
  },
  {
   "cell_type": "code",
   "execution_count": 12,
   "outputs": [
    {
     "data": {
      "text/plain": "<Figure size 432x288 with 1 Axes>",
      "image/png": "[encoded data removed]"
     },
     "metadata": {
      "needs_background": "light"
     },
     "output_type": "display_data"
    },
    {
     "name": "stdout",
     "output_type": "stream",
     "text": [
      "Plot is DONE\n"
     ]
    }
   ],
   "source": [
    "index_i = 28\n",
    "key_i_forplot =  get_key_from_index(index_i)\n",
    "\n",
    "plt.xlabel(\"Duration n\")\n",
    "plt.ylabel(\"The density p\")\n",
    "plt.title(\"product_id={0},bid fee={1}, bid increment={2}, retail={3}. Q={4}\".format(key_i_forplot[0],float(key_i_forplot[1])*0.01,float(key_i_forplot[2])*0.01,key_i_forplot[3],Q[index_i]))\n",
    "\n",
    "ax = sns.barplot(x = N[key_i_forplot],y=P[key_i_forplot])\n",
    "\n",
    "# 设置刻度\n",
    "plt.xticks(np.arange(0, Q[index_i], step=1000),rotation=30)\n",
    "\n",
    "plt.show()\n",
    "print(\"Plot is DONE\")"
   ],
   "metadata": {
    "collapsed": false,
    "pycharm": {
     "name": "#%%\n"
    }
   }
  }
 ],
 "metadata": {
  "kernelspec": {
   "name": "conda-env-pythorch-py",
   "language": "python",
   "display_name": "Python [conda env:pythorch] *"
  },
  "language_info": {
   "codemirror_mode": {
    "name": "ipython",
    "version": 3
   },
   "file_extension": ".py",
   "mimetype": "text/x-python",
   "name": "python",
   "nbconvert_exporter": "python",
   "pygments_lexer": "ipython3",
   "version": "3.6.13"
  },
  "toc": {
   "base_numbering": 1,
   "nav_menu": {
    "height": "212px",
    "width": "411px"
   },
   "number_sections": false,
   "sideBar": true,
   "skip_h1_title": false,
   "title_cell": "Table of Contents",
   "title_sidebar": "Contents",
   "toc_cell": false,
   "toc_position": {},
   "toc_section_display": true,
   "toc_window_display": false
  },
  "varInspector": {
   "cols": {
    "lenName": 16,
    "lenType": 16,
    "lenVar": 40
   },
   "kernels_config": {
    "python": {
     "delete_cmd_postfix": "",
     "delete_cmd_prefix": "del ",
     "library": "var_list.py",
     "varRefreshCmd": "print(var_dic_list())"
    },
    "r": {
     "delete_cmd_postfix": ") ",
     "delete_cmd_prefix": "rm(",
     "library": "var_list.r",
     "varRefreshCmd": "cat(var_dic_list()) "
    }
   },
   "types_to_exclude": [
    "module",
    "function",
    "builtin_function_or_method",
    "instance",
    "_Feature"
   ],
   "window_display": false
  }
 },
 "nbformat": 4,
 "nbformat_minor": 1
}