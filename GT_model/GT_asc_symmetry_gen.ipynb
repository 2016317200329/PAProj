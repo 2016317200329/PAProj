{
 "cells": [
  {
   "cell_type": "code",
   "execution_count": 40,
   "metadata": {
    "collapsed": true
   },
   "outputs": [],
   "source": [
    "#!/usr/bin/env python\n",
    "# -*- coding: utf-8 -*-\n",
    "# @Time    : 2022/9/26 22:24\n",
    "# @Author  : Wang Yujia\n",
    "# @File    : GT_asc_symmetry_gen.ipynb\n",
    "# @Description : 根据GT_asc_symmetry_gen_demo.ipynb，计算ascending-price auction的data。ref：信息不对称的paper里symmetry的情况。"
   ]
  },
  {
   "cell_type": "markdown",
   "metadata": {
    "pycharm": {
     "name": "#%% md\n"
    }
   },
   "source": [
    "# 0. what for\n",
    "1. 在`GT_asc_symmetry_gen_demo.ipynb`上实验过的思路，现在automatically执行一下，输入所有的auction setting，得到相应的输出\n",
    "2. **Steps**：\n",
    "    - collect GT计算需要的features: `features_GT`，记得给target data留一个flag:`unique_setting`\n",
    "        - features_GT = ['bidincrement','bidfee','retail']\n",
    "        - unique_setting = ['product_id', 'bidincrement', 'bidfee','retail']\n",
    "    - 根据`features_GT`计算GT预测的结果`n`和`p`"
   ]
  },
  {
   "cell_type": "markdown",
   "metadata": {},
   "source": [
    "# 1. Preparations\n",
    "## 1.1 全局设置"
   ]
  },
  {
   "cell_type": "code",
   "execution_count": 24,
   "metadata": {
    "pycharm": {
     "name": "#%%\n"
    }
   },
   "outputs": [],
   "source": [
    "# 经过threshold==16 filter之后，得到的dataset\n",
    "#data_selected_path = \"../data/info_asymm/datawithnp_asc_symmetry_2_selected.csv\"\n",
    "data_selected_path = \"../data/info_asymm/datawithnp_asc_symmetry_selected.csv\"\n",
    "\n",
    "# output path\n",
    "data_path_root = \"../data/info_asymm/results/asc_symmetry/\"\n",
    "# target data is from method-2\n",
    "filename_head = \"GT_asc_symmetry_2_\"\n",
    "filename_tail = \".csv\"\n",
    "\n",
    "# GT计算需要的features\n",
    "# 实际上不需要'product_id'这个属性。对于GT来说'retail'就足以反映product信息\n",
    "features_GT = ['bidincrement','bidfee','retail']\n",
    "\n",
    "# 最后给data新增3列预测结果\n",
    "features_added = ['P_1','Q_1','K_1']\n",
    "\n",
    "# threshold，在下面定义了\n",
    "# K=min(Q)\n",
    "\n",
    "import numpy as np\n",
    "#import cupy as np\n",
    "import pandas as pd\n",
    "import csv\n",
    "import seaborn as sns\n",
    "import matplotlib.pyplot as plt\n",
    "from tqdm.notebook import tqdm"
   ]
  },
  {
   "cell_type": "code",
   "execution_count": 8,
   "outputs": [
    {
     "data": {
      "text/plain": "array(1.)"
     },
     "execution_count": 8,
     "metadata": {},
     "output_type": "execute_result"
    }
   ],
   "source": [
    "# cupy test\n",
    "#x_gpu = np.ones((8,8))\n",
    "#x_gpu.mean()"
   ],
   "metadata": {
    "collapsed": false,
    "pycharm": {
     "name": "#%%\n"
    }
   }
  },
  {
   "cell_type": "markdown",
   "metadata": {},
   "source": [
    "## 1.2 读取data"
   ]
  },
  {
   "cell_type": "code",
   "execution_count": 25,
   "metadata": {
    "pycharm": {
     "name": "#%%\n"
    }
   },
   "outputs": [],
   "source": [
    "data = pd.read_csv(data_selected_path, encoding=\"utf-8\")"
   ]
  },
  {
   "cell_type": "markdown",
   "metadata": {},
   "source": [
    "# 2. GT_model: ascending-price auction model in symmetry situation\n",
    "## 2.1 提取GT计算需要的features和data\n",
    "1. 注意`drop_duplicates()`的目的是，对GT model来说，它的setting和NN的setting是不一样的，这里只需要要保留GT计算需要的setting就好\n",
    "2."
   ]
  },
  {
   "cell_type": "code",
   "execution_count": 26,
   "metadata": {
    "pycharm": {
     "name": "#%%\n"
    }
   },
   "outputs": [
    {
     "name": "stdout",
     "output_type": "stream",
     "text": [
      "For symmetry GT model in ascending-price auctions, there are *57* settings waiting to be inferred.\n"
     ]
    }
   ],
   "source": [
    "# 2.1.1 extract data\n",
    "data_for_GT = data[features_GT].copy()\n",
    "data_for_GT = data_for_GT.drop_duplicates().copy()\n",
    "print(\"For symmetry GT model in ascending-price auctions, there are *{}* settings waiting to be inferred.\".format(data_for_GT.shape[0]))\n",
    "\n",
    "# 2.1.2 设置\n",
    "b = np.array(data_for_GT.bidfee)          # bid fee (cent to dollar)\n",
    "s = np.array(data_for_GT.bidincrement)    # bid increment (cent to dollar)\n",
    "v = np.array(data_for_GT.retail)               # valuation\n",
    "# 需要计算`A`组结果\n",
    "A = data_for_GT.shape[0]\n",
    "\n",
    "# 2.1.3 得到Key的函数\n",
    "def get_key_from_index(i):\n",
    "   key_i = list(data_for_GT[features_GT].iloc[i,:])               # 取出key, 这里的key是GT的key，不是NN的\n",
    "   # make sure key_i_str is tuple which is hashable\n",
    "   key_i_str = (str(key_i[0]),str(key_i[1]),str(key_i[2]))\n",
    "   return key_i_str\n",
    "\n",
    "# cupy\n",
    "# def get_key_from_index(i):\n",
    "#     key_i = list(data_for_GT[features_GT].iloc[i,:])               # 取出key, 这里的key是GT的key，不是NN的\n",
    "#     # make sure key_i_str is tuple which is hashable\n",
    "#     key_i_str = np.array([int(key_i[0]),int(key_i[1]),(key_i[2])])\n",
    "#     return key_i_str"
   ]
  },
  {
   "cell_type": "markdown",
   "metadata": {},
   "source": [
    "## 2.2 Q and K\n",
    "1. For ascending-price, there is $n \\leq Q $\n",
    "2. Q的大小应该为`A*1`，K的值是min(Q)"
   ]
  },
  {
   "cell_type": "code",
   "execution_count": 27,
   "metadata": {
    "pycharm": {
     "name": "#%%\n"
    }
   },
   "outputs": [
    {
     "name": "stdout",
     "output_type": "stream",
     "text": [
      "\n",
      "shape of Q:  (57,)\n",
      "The largest Q is *554*, and the smallest one is *-30*\n",
      "In average, Q is :  19.333333333333332\n",
      "The median of Q is *0.0*\n",
      "The threshold K is set as:  -30\n"
     ]
    },
    {
     "data": {
      "text/plain": "([<matplotlib.axis.XTick at 0x1f95c559358>,\n  <matplotlib.axis.XTick at 0x1f95c4fe0b8>,\n  <matplotlib.axis.XTick at 0x1f95c4fe278>,\n  <matplotlib.axis.XTick at 0x1f958d21860>,\n  <matplotlib.axis.XTick at 0x1f958d21cf8>,\n  <matplotlib.axis.XTick at 0x1f958d29128>,\n  <matplotlib.axis.XTick at 0x1f958d295c0>,\n  <matplotlib.axis.XTick at 0x1f958d29ac8>,\n  <matplotlib.axis.XTick at 0x1f958d29c88>,\n  <matplotlib.axis.XTick at 0x1f958d33518>,\n  <matplotlib.axis.XTick at 0x1f958d33a20>,\n  <matplotlib.axis.XTick at 0x1f958d33f28>,\n  <matplotlib.axis.XTick at 0x1f958d39470>,\n  <matplotlib.axis.XTick at 0x1f958d33978>,\n  <matplotlib.axis.XTick at 0x1f958d293c8>,\n  <matplotlib.axis.XTick at 0x1f958d39908>,\n  <matplotlib.axis.XTick at 0x1f958d39e10>,\n  <matplotlib.axis.XTick at 0x1f958d43358>,\n  <matplotlib.axis.XTick at 0x1f958d43860>,\n  <matplotlib.axis.XTick at 0x1f958d43d68>,\n  <matplotlib.axis.XTick at 0x1f958d4b2b0>,\n  <matplotlib.axis.XTick at 0x1f958d4b7b8>,\n  <matplotlib.axis.XTick at 0x1f958d43668>,\n  <matplotlib.axis.XTick at 0x1f958d399e8>,\n  <matplotlib.axis.XTick at 0x1f958d4b9e8>,\n  <matplotlib.axis.XTick at 0x1f958d53128>,\n  <matplotlib.axis.XTick at 0x1f958d535c0>,\n  <matplotlib.axis.XTick at 0x1f958d53ac8>,\n  <matplotlib.axis.XTick at 0x1f958d53c88>],\n <a list of 29 Text xticklabel objects>)"
     },
     "execution_count": 27,
     "metadata": {},
     "output_type": "execute_result"
    },
    {
     "data": {
      "text/plain": "<Figure size 432x288 with 1 Axes>",
      "image/png": "[encoded data removed]"
     },
     "metadata": {
      "needs_background": "light"
     },
     "output_type": "display_data"
    }
   ],
   "source": [
    "Q_a = np.floor((v-b)/s)\n",
    "Q_a = np.array(Q_a.astype('int64'))\n",
    "print(\"\\nshape of Q: \",Q_a.shape)\n",
    "print(\"The largest Q is *{0}*, and the smallest one is *{1}*\".format(np.max(Q_a),np.min(Q_a)))\n",
    "print(\"In average, Q is : \",Q_a.mean())\n",
    "print(\"The median of Q is *{}*\".format(np.median(Q_a)))\n",
    "\n",
    "# threshold\n",
    "K = min(Q_a)\n",
    "print(\"The threshold K is set as: \",K)\n",
    "\n",
    "# transform Q_a into Q_dict\n",
    "Q = {}\n",
    "for i in range(0,A):\n",
    "    key_i = get_key_from_index(i)\n",
    "    Q.update({key_i: Q_a[i]})\n",
    "\n",
    "# distribution of Q\n",
    "plt.xlabel(\"i\")\n",
    "plt.ylabel(\"Q of i\")\n",
    "ax = sns.barplot(x=np.arange(0,len(Q_a)),y=Q_a)\n",
    "# 设置刻度\n",
    "steps_xaxis = np.arange(0, len(Q_a), step=int(len(Q_a)/20))\n",
    "plt.xticks(steps_xaxis,steps_xaxis,rotation=30)"
   ]
  },
  {
   "cell_type": "code",
   "execution_count": 12,
   "outputs": [
    {
     "data": {
      "text/plain": "array([  0,  30,  60,  90, 120, 150, 180, 210, 240, 270, 300, 330, 360,\n       390, 420, 450, 480, 510, 540, 570, 600])"
     },
     "execution_count": 12,
     "metadata": {},
     "output_type": "execute_result"
    }
   ],
   "source": [
    "# np.arange(0, len(Q_a), step=steps_xaxis)"
   ],
   "metadata": {
    "collapsed": false,
    "pycharm": {
     "name": "#%%\n"
    }
   }
  },
  {
   "cell_type": "markdown",
   "metadata": {},
   "source": [
    "## 2.3 U\n",
    "1. `U`作为一个**dict**，它的key是`features_GT`,每一个key对应一个大小为(Q+2)的list. 因此`U`的shape应该为：`A*(Q+2)`\n",
    "2. 注意边界值：根据公式可知`U[key][0]`不存在，指定为1，方便后续`P`的计算\n",
    "3. 对于某一个确定的setting，`U[key]`一共有`Q[key]`个有效数字，有效index从`1`开始，因此`U[key]`的长度is various depending on the `Q`\n",
    "4. 因此`U[key][j]`表示在某一个setting下：\n",
    "> The probability that somebody makes the jth bid (given that j − 1 previous bids have been made)"
   ]
  },
  {
   "cell_type": "code",
   "execution_count": 20,
   "metadata": {
    "pycharm": {
     "name": "#%%\n"
    }
   },
   "outputs": [
    {
     "name": "stdout",
     "output_type": "stream",
     "text": [
      "U is Prepared Well\n"
     ]
    },
    {
     "data": {
      "text/plain": "U::   0%|          | 0/612 [00:00<?, ?it/s]",
      "application/vnd.jupyter.widget-view+json": {
       "version_major": 2,
       "version_minor": 0,
       "model_id": "bbea6e5020db47c295ed17198e3766d5"
      }
     },
     "metadata": {},
     "output_type": "display_data"
    },
    {
     "name": "stdout",
     "output_type": "stream",
     "text": [
      "U is Prepared Well\n"
     ]
    }
   ],
   "source": [
    "U = dict()\n",
    "\n",
    "# for every uniq setting i\n",
    "for i in tqdm(range(0,A),desc=\"U:\"):\n",
    "    # Get the key of i\n",
    "    key_i = get_key_from_index(i)           # u[i][0]方便计算，统一设为1\n",
    "    U[key_i] = np.array([1.0]*(Q[key_i]+2)) # 避免浅拷贝，请你这样写\n",
    "    # for every period j in the auction with uniq setting i\n",
    "    for j in range(1,Q[key_i]+2):\n",
    "        U[key_i][j] = 1.0-b[i]/(v[i]-s[i]*(j-1))\n",
    "    # assert(U[key_i].shape[0] == (Q[key_i]+2),\"Wrong size of U\")\n",
    "\n",
    "\n",
    "print(\"U is Prepared Well\")"
   ]
  },
  {
   "cell_type": "markdown",
   "metadata": {},
   "source": [
    "## 2.4 N\n",
    "1. 容易获取N，在ascending-price下，它和Q直接相关"
   ]
  },
  {
   "cell_type": "code",
   "execution_count": 21,
   "metadata": {
    "pycharm": {
     "name": "#%%\n"
    }
   },
   "outputs": [
    {
     "name": "stderr",
     "output_type": "stream",
     "text": [
      "<ipython-input-21-104450f6de4e>:8: SyntaxWarning: assertion is always true, perhaps remove parentheses?\n",
      "  assert(max(N[key_i]) == Q[key_i],\"N[key_i]的最大值不是Q[i]\")\n"
     ]
    },
    {
     "data": {
      "text/plain": "N::   0%|          | 0/612 [00:00<?, ?it/s]",
      "application/vnd.jupyter.widget-view+json": {
       "version_major": 2,
       "version_minor": 0,
       "model_id": "d036b77461024a04ac5110a8f9f67daf"
      }
     },
     "metadata": {},
     "output_type": "display_data"
    },
    {
     "name": "stdout",
     "output_type": "stream",
     "text": [
      "N is Prepared Well.\n"
     ]
    }
   ],
   "source": [
    "N = dict()\n",
    "\n",
    "# for every uniq setting i\n",
    "for i in tqdm(range(0,A),desc=\"N:\"):\n",
    "    key_i = get_key_from_index(i)              # Get the key of i\n",
    "    N[key_i] = np.arange(0,Q[key_i]+1)\n",
    "    assert(max(N[key_i]) == Q[key_i],\"N[key_i]的最大值不是Q[i]\")\n",
    "\n",
    "print(\"N is Prepared Well.\")"
   ]
  },
  {
   "cell_type": "markdown",
   "metadata": {
    "pycharm": {
     "name": "#%% md\n"
    }
   },
   "source": [
    "## 2.5 P\n",
    "1. `P`作为一个**dict**，它的key是`features_GT`,每一个key对应一个大小为(Q+2)的list. 因此`P`的shape应该为：`A*(Q+1)`\n",
    "2. ~~对于某一个确定的setting，`P[key_i]`一共有`Q[i]`个有效数字，有效index从`0`开始，因此`P[key_i]`的长度is various depending on the `Q[i]`~~\n",
    "3. **New**：由于threshold的存在，`P[key_i]`的大小设置为`K+1`，其中`p[key_i][K]`记录的是sum(P[i]) when i > K\n",
    "4. 也就是说P[key_i][i]= sum(P[key_i][i]), when i>threshold"
   ]
  },
  {
   "cell_type": "code",
   "execution_count": 22,
   "metadata": {
    "pycharm": {
     "name": "#%%\n"
    }
   },
   "outputs": [
    {
     "data": {
      "text/plain": "P:   0%|          | 0/612 [00:00<?, ?it/s]",
      "application/vnd.jupyter.widget-view+json": {
       "version_major": 2,
       "version_minor": 0,
       "model_id": "f5d2afb042bc4eada7bda5a7b6179e26"
      }
     },
     "metadata": {},
     "output_type": "display_data"
    },
    {
     "name": "stdout",
     "output_type": "stream",
     "text": [
      "The sum of P_0 is: 1.0\n",
      "The sum of P_1 is: 1.0\n",
      "The sum of P_2 is: 1.0\n",
      "The sum of P_3 is: 0.9999999999999992\n",
      "The sum of P_4 is: 0.9999999999999997\n",
      "The sum of P_5 is: 1.0000000000000007\n",
      "The sum of P_6 is: 1.0000000000000002\n",
      "The sum of P_7 is: 1.0000000000000002\n",
      "The sum of P_8 is: 1.0\n",
      "The sum of P_9 is: 0.9999999999999999\n",
      "The sum of P_10 is: 0.9999999999999999\n",
      "The sum of P_11 is: 1.0000000000000007\n",
      "The sum of P_12 is: 0.9999999999999999\n",
      "The sum of P_13 is: 0.9999999999999993\n",
      "The sum of P_14 is: 0.9999999999999998\n",
      "The sum of P_15 is: 0.9999999999999996\n",
      "The sum of P_16 is: 0.9999999999999998\n",
      "The sum of P_17 is: 0.9999999999999991\n",
      "The sum of P_18 is: 0.9999999999999998\n",
      "The sum of P_19 is: 0.9999999999999981\n",
      "The sum of P_20 is: 1.0000000000000002\n",
      "The sum of P_21 is: 1.0\n",
      "The sum of P_22 is: 1.0000000000000004\n",
      "The sum of P_23 is: 0.999999999999999\n",
      "The sum of P_24 is: 1.0000000000000002\n",
      "The sum of P_25 is: 1.0\n",
      "The sum of P_26 is: 1.0\n",
      "The sum of P_27 is: 1.0000000000000002\n",
      "The sum of P_28 is: 1.0\n",
      "The sum of P_29 is: 1.0\n",
      "The sum of P_30 is: 0.9999999999999996\n",
      "The sum of P_31 is: 1.0\n",
      "The sum of P_32 is: 1.0000000000000002\n",
      "The sum of P_33 is: 1.0000000000000002\n",
      "The sum of P_34 is: 1.0000000000000002\n",
      "The sum of P_35 is: 0.9999999999999999\n",
      "The sum of P_36 is: 1.0\n",
      "The sum of P_37 is: 1.0\n",
      "The sum of P_38 is: 1.0000000000000004\n",
      "The sum of P_39 is: 1.0\n",
      "The sum of P_40 is: 1.0\n",
      "The sum of P_41 is: 0.9999999999999998\n",
      "The sum of P_42 is: 1.0\n",
      "The sum of P_43 is: 0.9999999999999998\n",
      "The sum of P_44 is: 0.9999999999999999\n",
      "The sum of P_45 is: 1.0000000000000002\n",
      "The sum of P_46 is: 1.0\n",
      "The sum of P_47 is: 1.0000000000000004\n",
      "The sum of P_48 is: 0.9999999999999998\n",
      "The sum of P_49 is: 1.0000000000000004\n",
      "The sum of P_50 is: 1.0\n",
      "The sum of P_51 is: 0.9999999999999999\n",
      "The sum of P_52 is: 0.999999999999998\n",
      "The sum of P_53 is: 1.0000000000000002\n",
      "The sum of P_54 is: 0.9999999999999998\n",
      "The sum of P_55 is: 1.0000000000000044\n",
      "The sum of P_56 is: 0.9999999999999994\n",
      "The sum of P_57 is: 1.0000000000000004\n",
      "The sum of P_58 is: 0.9999999999999996\n",
      "The sum of P_59 is: 1.0\n",
      "The sum of P_60 is: 1.0000000000000007\n",
      "The sum of P_61 is: 1.0000000000000013\n",
      "The sum of P_62 is: 1.0\n",
      "The sum of P_63 is: 1.0000000000000004\n",
      "The sum of P_64 is: 1.0000000000000002\n",
      "The sum of P_65 is: 0.9999999999999999\n",
      "The sum of P_66 is: 0.9999999999999999\n",
      "The sum of P_67 is: 0.9999999999999997\n",
      "The sum of P_68 is: 1.0\n",
      "The sum of P_69 is: 1.0000000000000004\n",
      "The sum of P_70 is: 1.0\n",
      "The sum of P_71 is: 1.0\n",
      "The sum of P_72 is: 0.9999999999999999\n",
      "The sum of P_73 is: 1.0\n",
      "The sum of P_74 is: 1.0\n",
      "The sum of P_75 is: 1.0\n",
      "The sum of P_76 is: 0.9999999999999993\n",
      "The sum of P_77 is: 1.0\n",
      "The sum of P_78 is: 0.9999999999999999\n",
      "The sum of P_79 is: 0.9999999999999998\n",
      "The sum of P_80 is: 1.0000000000000004\n",
      "The sum of P_81 is: 1.0\n",
      "The sum of P_82 is: 0.9999999999999999\n",
      "The sum of P_83 is: 0.9999999999999998\n",
      "The sum of P_84 is: 1.0\n",
      "The sum of P_85 is: 0.9999999999999991\n",
      "The sum of P_86 is: 0.9999999999999998\n",
      "The sum of P_87 is: 0.9999999999999984\n",
      "The sum of P_88 is: 0.9999999999999998\n",
      "The sum of P_89 is: 1.0000000000000004\n",
      "The sum of P_90 is: 0.9999999999999999\n",
      "The sum of P_91 is: 1.0\n",
      "The sum of P_92 is: 1.0\n",
      "The sum of P_93 is: 1.0\n",
      "The sum of P_94 is: 0.9999999999999999\n",
      "The sum of P_95 is: 0.9999999999999996\n",
      "The sum of P_96 is: 0.9999999999999999\n",
      "The sum of P_97 is: 1.0000000000000002\n",
      "The sum of P_98 is: 0.9999999999999999\n",
      "The sum of P_99 is: 0.9999999999999998\n",
      "The sum of P_100 is: 1.0\n",
      "The sum of P_101 is: 1.0000000000000007\n",
      "The sum of P_102 is: 1.0\n",
      "The sum of P_103 is: 1.0000000000000002\n",
      "The sum of P_104 is: 0.9999999999999998\n",
      "The sum of P_105 is: 1.0000000000000002\n",
      "The sum of P_106 is: 1.0\n",
      "The sum of P_107 is: 0.9999999999999997\n",
      "The sum of P_108 is: 1.0000000000000004\n",
      "The sum of P_109 is: 0.9999999999999991\n",
      "The sum of P_110 is: 1.0\n",
      "The sum of P_111 is: 0.9999999999999998\n",
      "The sum of P_112 is: 1.0\n",
      "The sum of P_113 is: 1.0000000000000002\n",
      "The sum of P_114 is: 1.0000000000000009\n",
      "The sum of P_115 is: 1.0000000000000007\n",
      "The sum of P_116 is: 1.0000000000000007\n",
      "The sum of P_117 is: 1.0000000000000013\n",
      "The sum of P_118 is: 1.0\n",
      "The sum of P_119 is: 0.9999999999999997\n",
      "The sum of P_120 is: 1.0\n",
      "The sum of P_121 is: 1.0\n",
      "The sum of P_122 is: 1.0\n",
      "The sum of P_123 is: 0.9999999999999999\n",
      "The sum of P_124 is: 1.0\n",
      "The sum of P_125 is: 0.9999999999999992\n",
      "The sum of P_126 is: 1.0000000000000002\n",
      "The sum of P_127 is: 1.0000000000000004\n",
      "The sum of P_128 is: 1.000000000000004\n",
      "The sum of P_129 is: 0.9999999999999988\n",
      "The sum of P_130 is: 0.9999999999999997\n",
      "The sum of P_131 is: 0.9999999999999996\n",
      "The sum of P_132 is: 1.0000000000000004\n",
      "The sum of P_133 is: 1.0\n",
      "The sum of P_134 is: 0.9999999999999999\n",
      "The sum of P_135 is: 1.0\n",
      "The sum of P_136 is: 0.9999999999999999\n",
      "The sum of P_137 is: 0.9999999999999999\n",
      "The sum of P_138 is: 0.9999999999999998\n",
      "The sum of P_139 is: 0.9999999999999998\n",
      "The sum of P_140 is: 1.0\n",
      "The sum of P_141 is: 1.0000000000000007\n",
      "The sum of P_142 is: 1.0\n",
      "The sum of P_143 is: 0.9999999999999999\n",
      "The sum of P_144 is: 1.0000000000000004\n",
      "The sum of P_145 is: 1.0\n",
      "The sum of P_146 is: 1.0\n",
      "The sum of P_147 is: 1.0\n",
      "The sum of P_148 is: 1.0\n",
      "The sum of P_149 is: 1.0000000000000002\n",
      "The sum of P_150 is: 0.9999999999999999\n",
      "The sum of P_151 is: 1.0000000000000002\n",
      "The sum of P_152 is: 0.9999999999999998\n",
      "The sum of P_153 is: 0.9999999999999987\n",
      "The sum of P_154 is: 1.000000000000001\n",
      "The sum of P_155 is: 1.0\n",
      "The sum of P_156 is: 1.0000000000000013\n",
      "The sum of P_157 is: 1.0\n",
      "The sum of P_158 is: 1.0\n",
      "The sum of P_159 is: 1.0000000000000004\n",
      "The sum of P_160 is: 1.0000000000000004\n",
      "The sum of P_161 is: 0.9999999999999999\n",
      "The sum of P_162 is: 0.9999999999999996\n",
      "The sum of P_163 is: 0.9999999999999999\n",
      "The sum of P_164 is: 1.0\n",
      "The sum of P_165 is: 1.0000000000000002\n",
      "The sum of P_166 is: 0.9999999999999991\n",
      "The sum of P_167 is: 0.9999999999999991\n",
      "The sum of P_168 is: 1.0\n",
      "The sum of P_169 is: 1.0000000000000002\n",
      "The sum of P_170 is: 0.9999999999999997\n",
      "The sum of P_171 is: 1.0\n",
      "The sum of P_172 is: 1.0\n",
      "The sum of P_173 is: 1.0000000000000002\n",
      "The sum of P_174 is: 0.9999999999999982\n",
      "The sum of P_175 is: 1.0000000000000002\n",
      "The sum of P_176 is: 1.0000000000000004\n",
      "The sum of P_177 is: 1.0\n",
      "The sum of P_178 is: 1.0\n",
      "The sum of P_179 is: 0.9999999999999998\n",
      "The sum of P_180 is: 0.9999999999999997\n",
      "The sum of P_181 is: 1.0\n",
      "The sum of P_182 is: 0.9999999999999997\n",
      "The sum of P_183 is: 1.0000000000000013\n",
      "The sum of P_184 is: 1.0000000000000002\n",
      "The sum of P_185 is: 0.9999999999999994\n",
      "The sum of P_186 is: 1.0\n",
      "The sum of P_187 is: 0.9999999999999991\n",
      "The sum of P_188 is: 1.0000000000000002\n",
      "The sum of P_189 is: 1.0\n",
      "The sum of P_190 is: 0.9999999999999987\n",
      "The sum of P_191 is: 1.000000000000001\n",
      "The sum of P_192 is: 0.999999999999999\n",
      "The sum of P_193 is: 0.9999999999999989\n",
      "The sum of P_194 is: 0.9999999999999999\n",
      "The sum of P_195 is: 1.0\n",
      "The sum of P_196 is: 0.9999999999999999\n",
      "The sum of P_197 is: 1.0000000000000013\n",
      "The sum of P_198 is: 1.0\n",
      "The sum of P_199 is: 1.0000000000000007\n",
      "The sum of P_200 is: 1.0\n",
      "The sum of P_201 is: 1.0000000000000002\n",
      "The sum of P_202 is: 0.9999999999999999\n",
      "The sum of P_203 is: 1.0000000000000002\n",
      "The sum of P_204 is: 1.0000000000000004\n",
      "The sum of P_205 is: 0.9999999999999999\n",
      "The sum of P_206 is: 1.0000000000000002\n",
      "The sum of P_207 is: 0.9999999999999999\n",
      "The sum of P_208 is: 1.0\n",
      "The sum of P_209 is: 1.0000000000000002\n",
      "The sum of P_210 is: 0.9999999999999994\n",
      "The sum of P_211 is: 0.9999999999999999\n",
      "The sum of P_212 is: 1.0\n",
      "The sum of P_213 is: 0.9999999999999997\n",
      "The sum of P_214 is: 0.9999999999999999\n",
      "The sum of P_215 is: 1.0\n",
      "The sum of P_216 is: 1.0000000000000007\n",
      "The sum of P_217 is: 1.0000000000000009\n",
      "The sum of P_218 is: 1.0000000000000002\n",
      "The sum of P_219 is: 0.9999999999999999\n",
      "The sum of P_220 is: 0.9999999999999999\n",
      "The sum of P_221 is: 1.0000000000000009\n",
      "The sum of P_222 is: 1.0000000000000002\n",
      "The sum of P_223 is: 1.0\n",
      "The sum of P_224 is: 1.0000000000000002\n",
      "The sum of P_225 is: 0.9999999999999998\n",
      "The sum of P_226 is: 1.0\n",
      "The sum of P_227 is: 1.0000000000000004\n",
      "The sum of P_228 is: 1.0000000000000004\n",
      "The sum of P_229 is: 1.0\n",
      "The sum of P_230 is: 0.9999999999999998\n",
      "The sum of P_231 is: 1.0000000000000004\n",
      "The sum of P_232 is: 0.9999999999999998\n",
      "The sum of P_233 is: 0.999999999999999\n",
      "The sum of P_234 is: 1.0000000000000027\n",
      "The sum of P_235 is: 0.9999999999999998\n",
      "The sum of P_236 is: 1.0\n",
      "The sum of P_237 is: 1.0000000000000004\n",
      "The sum of P_238 is: 1.0000000000000004\n",
      "The sum of P_239 is: 0.9999999999999998\n",
      "The sum of P_240 is: 1.0000000000000004\n",
      "The sum of P_241 is: 1.0000000000000002\n",
      "The sum of P_242 is: 1.0\n",
      "The sum of P_243 is: 1.0\n",
      "The sum of P_244 is: 1.0\n",
      "The sum of P_245 is: 1.0000000000000004\n",
      "The sum of P_246 is: 1.0000000000000007\n",
      "The sum of P_247 is: 1.0000000000000007\n",
      "The sum of P_248 is: 1.0000000000000004\n",
      "The sum of P_249 is: 1.0000000000000044\n",
      "The sum of P_250 is: 1.0\n",
      "The sum of P_251 is: 1.0\n",
      "The sum of P_252 is: 0.9999999999999998\n",
      "The sum of P_253 is: 0.9999999999999991\n",
      "The sum of P_254 is: 0.9999999999999998\n",
      "The sum of P_255 is: 0.9999999999999964\n",
      "The sum of P_256 is: 1.0\n",
      "The sum of P_257 is: 1.0\n",
      "The sum of P_258 is: 0.9999999999999999\n",
      "The sum of P_259 is: 1.0\n",
      "The sum of P_260 is: 1.0\n",
      "The sum of P_261 is: 0.9999999999999999\n",
      "The sum of P_262 is: 1.000000000000001\n",
      "The sum of P_263 is: 1.0\n",
      "The sum of P_264 is: 1.0\n",
      "The sum of P_265 is: 0.9999999999999999\n",
      "The sum of P_266 is: 0.9999999999999991\n",
      "The sum of P_267 is: 1.0000000000000002\n",
      "The sum of P_268 is: 1.0000000000000004\n",
      "The sum of P_269 is: 1.0\n",
      "The sum of P_270 is: 1.0000000000000013\n",
      "The sum of P_271 is: 0.9999999999999979\n",
      "The sum of P_272 is: 1.0000000000000004\n",
      "The sum of P_273 is: 1.0000000000000009\n",
      "The sum of P_274 is: 0.9999999999999998\n",
      "The sum of P_275 is: 0.9999999999999988\n",
      "The sum of P_276 is: 0.9999999999999998\n",
      "The sum of P_277 is: 0.9999999999999993\n",
      "The sum of P_278 is: 1.0\n",
      "The sum of P_279 is: 0.9999999999999998\n",
      "The sum of P_280 is: 1.0000000000000002\n",
      "The sum of P_281 is: 0.9999999999999993\n",
      "The sum of P_282 is: 0.9999999999999999\n",
      "The sum of P_283 is: 0.9999999999999987\n",
      "The sum of P_284 is: 1.0000000000000002\n",
      "The sum of P_285 is: 0.9999999999999962\n",
      "The sum of P_286 is: 0.9999999999999997\n",
      "The sum of P_287 is: 1.0\n",
      "The sum of P_288 is: 0.9999999999999996\n",
      "The sum of P_289 is: 0.9999999999999999\n",
      "The sum of P_290 is: 1.0000000000000004\n",
      "The sum of P_291 is: 1.000000000000002\n",
      "The sum of P_292 is: 1.0000000000000004\n",
      "The sum of P_293 is: 1.0000000000000024\n",
      "The sum of P_294 is: 1.0\n",
      "The sum of P_295 is: 1.0\n",
      "The sum of P_296 is: 0.9999999999999997\n",
      "The sum of P_297 is: 1.0000000000000002\n",
      "The sum of P_298 is: 1.0000000000000002\n",
      "The sum of P_299 is: 0.9999999999999998\n",
      "The sum of P_300 is: 1.0000000000000004\n",
      "The sum of P_301 is: 1.0\n",
      "The sum of P_302 is: 1.0000000000000002\n",
      "The sum of P_303 is: 1.0\n",
      "The sum of P_304 is: 1.0000000000000002\n",
      "The sum of P_305 is: 0.9999999999999996\n",
      "The sum of P_306 is: 0.9999999999999994\n",
      "The sum of P_307 is: 0.9999999999999998\n",
      "The sum of P_308 is: 1.0000000000000002\n",
      "The sum of P_309 is: 1.0000000000000013\n",
      "The sum of P_310 is: 0.9999999999999992\n",
      "The sum of P_311 is: 1.0000000000000002\n",
      "The sum of P_312 is: 1.0000000000000016\n",
      "The sum of P_313 is: 0.9999999999999979\n",
      "The sum of P_314 is: 0.9999999999999991\n",
      "The sum of P_315 is: 1.0\n",
      "The sum of P_316 is: 0.9999999999999999\n",
      "The sum of P_317 is: 1.0000000000000024\n",
      "The sum of P_318 is: 0.9999999999999976\n",
      "The sum of P_319 is: 1.0000000000000002\n",
      "The sum of P_320 is: 1.0000000000000018\n",
      "The sum of P_321 is: 1.0000000000000004\n",
      "The sum of P_322 is: 0.9999999999999998\n",
      "The sum of P_323 is: 1.0\n",
      "The sum of P_324 is: 0.9999999999999996\n",
      "The sum of P_325 is: 1.0000000000000013\n",
      "The sum of P_326 is: 0.999999999999999\n",
      "The sum of P_327 is: 0.9999999999999999\n",
      "The sum of P_328 is: 0.9999999999999978\n",
      "The sum of P_329 is: 1.0000000000000009\n",
      "The sum of P_330 is: 0.9999999999999999\n",
      "The sum of P_331 is: 1.0\n",
      "The sum of P_332 is: 0.9999999999999999\n",
      "The sum of P_333 is: 0.9999999999999996\n",
      "The sum of P_334 is: 1.0000000000000004\n",
      "The sum of P_335 is: 0.9999999999999996\n",
      "The sum of P_336 is: 1.0\n",
      "The sum of P_337 is: 1.0000000000000013\n",
      "The sum of P_338 is: 0.9999999999999986\n",
      "The sum of P_339 is: 0.9999999999999999\n",
      "The sum of P_340 is: 0.9999999999999999\n",
      "The sum of P_341 is: 1.0000000000000004\n",
      "The sum of P_342 is: 0.9999999999999987\n",
      "The sum of P_343 is: 0.9999999999999998\n",
      "The sum of P_344 is: 0.9999999999999998\n",
      "The sum of P_345 is: 0.9999999999999999\n",
      "The sum of P_346 is: 1.0\n",
      "The sum of P_347 is: 1.0000000000000013\n",
      "The sum of P_348 is: 0.9999999999999992\n",
      "The sum of P_349 is: 0.9999999999999987\n",
      "The sum of P_350 is: 0.9999999999999991\n",
      "The sum of P_351 is: 0.9999999999999998\n",
      "The sum of P_352 is: 1.0000000000000018\n",
      "The sum of P_353 is: 1.0000000000000004\n",
      "The sum of P_354 is: 1.0000000000000018\n",
      "The sum of P_355 is: 0.9999999999999982\n",
      "The sum of P_356 is: 1.0000000000000004\n",
      "The sum of P_357 is: 1.0\n",
      "The sum of P_358 is: 1.0000000000000002\n",
      "The sum of P_359 is: 0.9999999999999986\n",
      "The sum of P_360 is: 1.0000000000000002\n",
      "The sum of P_361 is: 1.0000000000000002\n",
      "The sum of P_362 is: 1.0\n",
      "The sum of P_363 is: 1.0\n",
      "The sum of P_364 is: 1.0\n",
      "The sum of P_365 is: 0.9999999999999998\n",
      "The sum of P_366 is: 1.0\n",
      "The sum of P_367 is: 1.0\n",
      "The sum of P_368 is: 0.9999999999999999\n",
      "The sum of P_369 is: 1.0\n",
      "The sum of P_370 is: 1.0\n",
      "The sum of P_371 is: 1.0\n",
      "The sum of P_372 is: 1.0\n",
      "The sum of P_373 is: 1.0\n",
      "The sum of P_374 is: 1.0000000000000004\n",
      "The sum of P_375 is: 0.9999999999999993\n",
      "The sum of P_376 is: 1.0\n",
      "The sum of P_377 is: 1.0\n",
      "The sum of P_378 is: 0.9999999999999971\n",
      "The sum of P_379 is: 1.0000000000000004\n",
      "The sum of P_380 is: 0.9999999999999998\n",
      "The sum of P_381 is: 0.9999999999999998\n",
      "The sum of P_382 is: 1.0\n",
      "The sum of P_383 is: 1.0\n",
      "The sum of P_384 is: 1.000000000000001\n",
      "The sum of P_385 is: 1.0000000000000007\n",
      "The sum of P_386 is: 1.0000000000000002\n",
      "The sum of P_387 is: 0.9999999999999989\n",
      "The sum of P_388 is: 1.0\n",
      "The sum of P_389 is: 1.0\n",
      "The sum of P_390 is: 1.0000000000000002\n",
      "The sum of P_391 is: 1.0000000000000004\n",
      "The sum of P_392 is: 0.9999999999999991\n",
      "The sum of P_393 is: 0.9999999999999977\n",
      "The sum of P_394 is: 1.0000000000000002\n",
      "The sum of P_395 is: 1.0\n",
      "The sum of P_396 is: 0.9999999999999996\n",
      "The sum of P_397 is: 1.0000000000000002\n",
      "The sum of P_398 is: 1.0000000000000004\n",
      "The sum of P_399 is: 1.0\n",
      "The sum of P_400 is: 1.0\n",
      "The sum of P_401 is: 0.9999999999999993\n",
      "The sum of P_402 is: 0.9999999999999982\n",
      "The sum of P_403 is: 1.0\n",
      "The sum of P_404 is: 0.9999999999999999\n",
      "The sum of P_405 is: 0.9999999999999998\n",
      "The sum of P_406 is: 1.0000000000000013\n",
      "The sum of P_407 is: 0.9999999999999996\n",
      "The sum of P_408 is: 1.0000000000000002\n",
      "The sum of P_409 is: 0.9999999999999986\n",
      "The sum of P_410 is: 0.9999999999999996\n",
      "The sum of P_411 is: 1.0000000000000002\n",
      "The sum of P_412 is: 1.0\n",
      "The sum of P_413 is: 1.0\n",
      "The sum of P_414 is: 1.0000000000000002\n",
      "The sum of P_415 is: 1.0\n",
      "The sum of P_416 is: 0.999999999999998\n",
      "The sum of P_417 is: 0.9999999999999996\n",
      "The sum of P_418 is: 1.0\n",
      "The sum of P_419 is: 1.0\n",
      "The sum of P_420 is: 1.0\n",
      "The sum of P_421 is: 1.0\n",
      "The sum of P_422 is: 1.0000000000000002\n",
      "The sum of P_423 is: 0.9999999999999998\n",
      "The sum of P_424 is: 1.0000000000000004\n",
      "The sum of P_425 is: 1.0000000000000002\n",
      "The sum of P_426 is: 1.000000000000001\n",
      "The sum of P_427 is: 0.9999999999999998\n",
      "The sum of P_428 is: 1.0000000000000009\n",
      "The sum of P_429 is: 1.0000000000000002\n",
      "The sum of P_430 is: 0.9999999999999978\n",
      "The sum of P_431 is: 0.9999999999999993\n",
      "The sum of P_432 is: 1.0000000000000004\n",
      "The sum of P_433 is: 1.0000000000000004\n",
      "The sum of P_434 is: 1.0000000000000004\n",
      "The sum of P_435 is: 1.0000000000000013\n",
      "The sum of P_436 is: 1.0000000000000007\n",
      "The sum of P_437 is: 0.9999999999999996\n",
      "The sum of P_438 is: 1.0000000000000002\n",
      "The sum of P_439 is: 0.9999999999999998\n",
      "The sum of P_440 is: 1.0\n",
      "The sum of P_441 is: 1.0000000000000004\n",
      "The sum of P_442 is: 1.0\n",
      "The sum of P_443 is: 1.0000000000000002\n",
      "The sum of P_444 is: 1.0\n",
      "The sum of P_445 is: 1.0\n",
      "The sum of P_446 is: 1.0\n",
      "The sum of P_447 is: 1.0000000000000002\n",
      "The sum of P_448 is: 1.0\n",
      "The sum of P_449 is: 1.0\n",
      "The sum of P_450 is: 1.0000000000000002\n",
      "The sum of P_451 is: 1.0000000000000002\n",
      "The sum of P_452 is: 0.9999999999999987\n",
      "The sum of P_453 is: 1.0000000000000004\n",
      "The sum of P_454 is: 1.0000000000000004\n",
      "The sum of P_455 is: 1.0000000000000013\n",
      "The sum of P_456 is: 0.9999999999999999\n",
      "The sum of P_457 is: 0.9999999999999998\n",
      "The sum of P_458 is: 1.0\n",
      "The sum of P_459 is: 1.0\n",
      "The sum of P_460 is: 0.9999999999999999\n",
      "The sum of P_461 is: 0.9999999999999998\n",
      "The sum of P_462 is: 0.9999999999999998\n",
      "The sum of P_463 is: 1.0\n",
      "The sum of P_464 is: 0.9999999999999987\n",
      "The sum of P_465 is: 0.9999999999999998\n",
      "The sum of P_466 is: 0.9999999999999989\n",
      "The sum of P_467 is: 1.0000000000000002\n",
      "The sum of P_468 is: 0.9999999999999978\n",
      "The sum of P_469 is: 1.0\n",
      "The sum of P_470 is: 1.0000000000000002\n",
      "The sum of P_471 is: 1.0000000000000007\n",
      "The sum of P_472 is: 0.9999999999999998\n",
      "The sum of P_473 is: 1.0000000000000002\n",
      "The sum of P_474 is: 1.0\n",
      "The sum of P_475 is: 0.9999999999999994\n",
      "The sum of P_476 is: 0.9999999999999999\n",
      "The sum of P_477 is: 1.0\n",
      "The sum of P_478 is: 1.0000000000000002\n",
      "The sum of P_479 is: 1.0\n",
      "The sum of P_480 is: 1.0000000000000004\n",
      "The sum of P_481 is: 0.9999999999999982\n",
      "The sum of P_482 is: 0.9999999999999999\n",
      "The sum of P_483 is: 1.0\n",
      "The sum of P_484 is: 1.0000000000000018\n",
      "The sum of P_485 is: 1.0\n",
      "The sum of P_486 is: 1.0000000000000009\n",
      "The sum of P_487 is: 0.9999999999999994\n",
      "The sum of P_488 is: 1.0\n",
      "The sum of P_489 is: 1.0\n",
      "The sum of P_490 is: 1.0000000000000007\n",
      "The sum of P_491 is: 0.9999999999999999\n",
      "The sum of P_492 is: 0.9999999999999999\n",
      "The sum of P_493 is: 1.0\n",
      "The sum of P_494 is: 1.0\n",
      "The sum of P_495 is: 1.0\n",
      "The sum of P_496 is: 1.0\n",
      "The sum of P_497 is: 0.9999999999999998\n",
      "The sum of P_498 is: 1.0\n",
      "The sum of P_499 is: 0.9999999999999999\n",
      "The sum of P_500 is: 0.9999999999999999\n",
      "The sum of P_501 is: 0.9999999999999998\n",
      "The sum of P_502 is: 0.999999999999999\n",
      "The sum of P_503 is: 0.9999999999999998\n",
      "The sum of P_504 is: 1.0000000000000007\n",
      "The sum of P_505 is: 1.0\n",
      "The sum of P_506 is: 0.9999999999999991\n",
      "The sum of P_507 is: 0.9999999999999991\n",
      "The sum of P_508 is: 0.9999999999999993\n",
      "The sum of P_509 is: 1.0\n",
      "The sum of P_510 is: 1.0000000000000002\n",
      "The sum of P_511 is: 0.9999999999999989\n",
      "The sum of P_512 is: 1.0000000000000002\n",
      "The sum of P_513 is: 1.0000000000000018\n",
      "The sum of P_514 is: 0.9999999999999999\n",
      "The sum of P_515 is: 1.0000000000000002\n",
      "The sum of P_516 is: 1.0000000000000002\n",
      "The sum of P_517 is: 0.9999999999999998\n",
      "The sum of P_518 is: 1.0000000000000002\n",
      "The sum of P_519 is: 0.9999999999999998\n",
      "The sum of P_520 is: 1.0000000000000004\n",
      "The sum of P_521 is: 0.9999999999999999\n",
      "The sum of P_522 is: 0.9999999999999998\n",
      "The sum of P_523 is: 1.0\n",
      "The sum of P_524 is: 1.0000000000000002\n",
      "The sum of P_525 is: 0.9999999999999992\n",
      "The sum of P_526 is: 0.9999999999999998\n",
      "The sum of P_527 is: 1.0\n",
      "The sum of P_528 is: 1.000000000000001\n",
      "The sum of P_529 is: 1.0000000000000004\n",
      "The sum of P_530 is: 1.0000000000000009\n",
      "The sum of P_531 is: 1.0\n",
      "The sum of P_532 is: 1.0\n",
      "The sum of P_533 is: 0.9999999999999999\n",
      "The sum of P_534 is: 0.9999999999999997\n",
      "The sum of P_535 is: 0.9999999999999998\n",
      "The sum of P_536 is: 1.0\n",
      "The sum of P_537 is: 1.0\n",
      "The sum of P_538 is: 1.0000000000000002\n",
      "The sum of P_539 is: 0.9999999999999996\n",
      "The sum of P_540 is: 0.9999999999999999\n",
      "The sum of P_541 is: 1.0\n",
      "The sum of P_542 is: 0.9999999999999996\n",
      "The sum of P_543 is: 1.0\n",
      "The sum of P_544 is: 1.0\n",
      "The sum of P_545 is: 1.0\n",
      "The sum of P_546 is: 0.9999999999999999\n",
      "The sum of P_547 is: 0.9999999999999998\n",
      "The sum of P_548 is: 1.0000000000000002\n",
      "The sum of P_549 is: 1.0000000000000002\n",
      "The sum of P_550 is: 0.9999999999999998\n",
      "The sum of P_551 is: 1.0000000000000004\n",
      "The sum of P_552 is: 1.0000000000000009\n",
      "The sum of P_553 is: 0.9999999999999991\n",
      "The sum of P_554 is: 1.0000000000000002\n",
      "The sum of P_555 is: 1.0000000000000002\n",
      "The sum of P_556 is: 1.0000000000000013\n",
      "The sum of P_557 is: 0.9999999999999996\n",
      "The sum of P_558 is: 1.0\n",
      "The sum of P_559 is: 1.0000000000000004\n",
      "The sum of P_560 is: 0.9999999999999987\n",
      "The sum of P_561 is: 0.9999999999999996\n",
      "The sum of P_562 is: 1.0000000000000018\n",
      "The sum of P_563 is: 1.0000000000000004\n",
      "The sum of P_564 is: 1.0000000000000002\n",
      "The sum of P_565 is: 0.9999999999999984\n",
      "The sum of P_566 is: 0.9999999999999994\n",
      "The sum of P_567 is: 1.0000000000000004\n",
      "The sum of P_568 is: 0.9999999999999996\n",
      "The sum of P_569 is: 1.0000000000000004\n",
      "The sum of P_570 is: 0.9999999999999993\n",
      "The sum of P_571 is: 0.9999999999999977\n",
      "The sum of P_572 is: 0.9999999999999998\n",
      "The sum of P_573 is: 1.0000000000000002\n",
      "The sum of P_574 is: 0.9999999999999998\n",
      "The sum of P_575 is: 1.0000000000000009\n",
      "The sum of P_576 is: 1.0\n",
      "The sum of P_577 is: 1.0000000000000007\n",
      "The sum of P_578 is: 0.9999999999999994\n",
      "The sum of P_579 is: 1.0\n",
      "The sum of P_580 is: 0.9999999999999988\n",
      "The sum of P_581 is: 0.9999999999999993\n",
      "The sum of P_582 is: 1.0000000000000004\n",
      "The sum of P_583 is: 0.9999999999999996\n",
      "The sum of P_584 is: 0.9999999999999999\n",
      "The sum of P_585 is: 1.0\n",
      "The sum of P_586 is: 1.0000000000000002\n",
      "The sum of P_587 is: 0.9999999999999999\n",
      "The sum of P_588 is: 1.0\n",
      "The sum of P_589 is: 1.0000000000000002\n",
      "The sum of P_590 is: 0.9999999999999994\n",
      "The sum of P_591 is: 1.0000000000000002\n",
      "The sum of P_592 is: 0.9999999999999999\n",
      "The sum of P_593 is: 0.9999999999999998\n",
      "The sum of P_594 is: 1.0000000000000002\n",
      "The sum of P_595 is: 1.0\n",
      "The sum of P_596 is: 0.9999999999999999\n",
      "The sum of P_597 is: 1.0\n",
      "The sum of P_598 is: 1.0000000000000013\n",
      "The sum of P_599 is: 1.0\n",
      "The sum of P_600 is: 1.0\n",
      "The sum of P_601 is: 1.0\n",
      "The sum of P_602 is: 1.0000000000000004\n",
      "The sum of P_603 is: 1.0000000000000002\n",
      "The sum of P_604 is: 1.0\n",
      "The sum of P_605 is: 0.9999999999999999\n",
      "The sum of P_606 is: 0.9999999999999997\n",
      "The sum of P_607 is: 0.9999999999999999\n",
      "The sum of P_608 is: 0.9999999999999999\n",
      "The sum of P_609 is: 0.9999999999999999\n",
      "The sum of P_610 is: 1.0\n",
      "The sum of P_611 is: 1.0\n",
      "\n",
      "P is Prepared Well.\n"
     ]
    }
   ],
   "source": [
    "P = dict()\n",
    "\n",
    "# for every uniq setting i\n",
    "for i in tqdm(range(0,A),desc=\"P\"):\n",
    "    key_i = get_key_from_index(i)              # Get the key of i\n",
    "    P[key_i] = np.array([0.0]*(K+1))\n",
    "    tmp = np.array([0.0]*(K+2))                # tmp的大小不需要太精确\n",
    "    tmp[0] = 1.0\n",
    "    \n",
    "    # for every period j in the auction with uniq setting i\n",
    "    for j in range(0,K):\n",
    "        tmp[j+1] = tmp[j]*U[key_i][j]\n",
    "        P[key_i][j] = (1-U[key_i][j+1])*tmp[j+1]\n",
    "\n",
    "    P[key_i][K] = 1-sum(P[key_i])\n",
    "\n",
    "    # assert(len(P[key_i]) == len(N[key_i]),\"P should record all the durations record in N\")\n",
    "    # print(\"The sum of P_{0} is: {1}\".format(i,np.sum(P[key_i])))\n",
    "\n",
    "print(\"\\nP is Prepared Well.\")"
   ]
  },
  {
   "cell_type": "markdown",
   "metadata": {},
   "source": [
    "# 3. Dict Output\n",
    "1. 每个unique setting对应着一组keys + 一个distrb\n",
    "    - 输出3个csv文件，分别存储了`P,N,Keys`，前两者是dict直接输出\n",
    "    - `P`的每一个item存储的是一个features_GT以及对应的distrb.\n",
    "    - `N`的每一个item存储的是一个features_GT以及对应的duration array\n",
    "    - `Keys`的每一个item存储的是一个features_GT，一共存储了`A`个\n",
    "2. 输出`N`其实不太重要，主要是有`Q`和threashold `K`就足够了"
   ]
  },
  {
   "cell_type": "code",
   "execution_count": 23,
   "metadata": {
    "pycharm": {
     "name": "#%%\n"
    }
   },
   "outputs": [
    {
     "name": "stdout",
     "output_type": "stream",
     "text": [
      "Output is DONE\n"
     ]
    }
   ],
   "source": [
    "filename_P = data_path_root+(filename_head + \"P\" + filename_tail)\n",
    "filename_N = data_path_root+(filename_head + \"N\" + filename_tail)\n",
    "filename_Q = data_path_root+(filename_head + \"Q\" + filename_tail)\n",
    "filename_keys = data_path_root+(filename_head + \"Keys\" + filename_tail)\n",
    "\n",
    "# P to csv\n",
    "with open(filename_P,\"w+\",encoding='utf—8') as f:\n",
    "    w=csv.writer(f)        # 每行存储一个键值对\n",
    "    w.writerow(P.items())\n",
    "\n",
    "# N to csv\n",
    "with open(filename_N,\"w+\",encoding='utf—8') as f:\n",
    "    w=csv.writer(f)                  # 每行存储一个键值对\n",
    "    w.writerow(N.items())\n",
    "\n",
    "# Q to csv\n",
    "with open(filename_Q,\"w+\",encoding='utf—8') as f:\n",
    "    w=csv.writer(f)                  # 每行存储一个键值对\n",
    "    w.writerow(Q.items())\n",
    "\n",
    "# Keys to csv\n",
    "with open(filename_keys,\"w+\",encoding='utf—8',newline=\"\") as f:\n",
    "    w=csv.writer(f)\n",
    "    # firstly write in the header\n",
    "    w.writerow(features_GT)\n",
    "    # for every uniq setting i\n",
    "    for i in range(0,A):\n",
    "        key = get_key_from_index(i)\n",
    "        w.writerow(key)\n",
    "\n",
    "print(\"Output is DONE\")"
   ]
  },
  {
   "cell_type": "markdown",
   "metadata": {},
   "source": [
    "# 4. Test and Plot\n",
    "## 4.1 plot\n",
    "1. 根据指定的index进行画图，"
   ]
  },
  {
   "cell_type": "code",
   "execution_count": null,
   "metadata": {
    "pycharm": {
     "name": "#%%\n",
     "is_executing": true
    }
   },
   "outputs": [],
   "source": [
    "index_i = 28\n",
    "key_i_forplot =  get_key_from_index(index_i)\n",
    "\n",
    "plt.xlabel(\"Duration n\")\n",
    "plt.ylabel(\"The density p\")\n",
    "plt.title(\"bid increment={0}, bid fee={1}, retail={2}, Q={3}, K={4}\".format(float(key_i_forplot[0])*0.01,float(key_i_forplot[1]),key_i_forplot[2],Q[key_i_forplot],K))\n",
    "\n",
    "ax = sns.barplot(x = np.arange(0,len(P[key_i_forplot])),y=P[key_i_forplot])\n",
    "\n",
    "# 设置刻度\n",
    "steps_xaxis = np.arange(0, Q[index_i], step=steps_xaxis)\n",
    "plt.xticks(steps_xaxis,steps_xaxis,rotation=30)\n",
    "\n",
    "plt.show()\n",
    "print(\"Plot is DONE\")"
   ]
  },
  {
   "cell_type": "markdown",
   "metadata": {},
   "source": [
    "# 5. Combination and merge\n",
    "1. 不用merge，需要什么直接根据setting去取就好"
   ]
  },
  {
   "cell_type": "code",
   "execution_count": null,
   "metadata": {
    "pycharm": {
     "name": "#%%"
    }
   },
   "outputs": [],
   "source": []
  }
 ],
 "metadata": {
  "kernelspec": {
   "display_name": "Python 3",
   "language": "python",
   "name": "python3"
  },
  "language_info": {
   "codemirror_mode": {
    "name": "ipython",
    "version": 3
   },
   "file_extension": ".py",
   "mimetype": "text/x-python",
   "name": "python",
   "nbconvert_exporter": "python",
   "pygments_lexer": "ipython3",
   "version": "3.7.0"
  },
  "toc": {
   "base_numbering": 1,
   "nav_menu": {
    "height": "212px",
    "width": "411px"
   },
   "number_sections": false,
   "sideBar": true,
   "skip_h1_title": false,
   "title_cell": "Table of Contents",
   "title_sidebar": "Contents",
   "toc_cell": false,
   "toc_position": {},
   "toc_section_display": true,
   "toc_window_display": false
  },
  "varInspector": {
   "cols": {
    "lenName": 16,
    "lenType": 16,
    "lenVar": 40
   },
   "kernels_config": {
    "python": {
     "delete_cmd_postfix": "",
     "delete_cmd_prefix": "del ",
     "library": "var_list.py",
     "varRefreshCmd": "print(var_dic_list())"
    },
    "r": {
     "delete_cmd_postfix": ") ",
     "delete_cmd_prefix": "rm(",
     "library": "var_list.r",
     "varRefreshCmd": "cat(var_dic_list()) "
    }
   },
   "types_to_exclude": [
    "module",
    "function",
    "builtin_function_or_method",
    "instance",
    "_Feature"
   ],
   "window_display": false
  }
 },
 "nbformat": 4,
 "nbformat_minor": 1
}