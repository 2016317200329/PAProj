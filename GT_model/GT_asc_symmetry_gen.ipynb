{
 "cells": [
  {
   "cell_type": "code",
   "execution_count": 10,
   "metadata": {
    "collapsed": true
   },
   "outputs": [],
   "source": [
    "#!/usr/bin/env python\n",
    "# -*- coding: utf-8 -*-\n",
    "# @Time    : 2022/9/26 22:24\n",
    "# @Author  : Wang Yujia\n",
    "# @File    : GT_asc_symmetry_gen.ipynb\n",
    "# @Description : 根据GT_asc_symmetry_gen_demo.ipynb，计算ascending-price auction的data。ref：信息不对称的paper里symmetry的情况。"
   ]
  },
  {
   "cell_type": "markdown",
   "metadata": {
    "pycharm": {
     "name": "#%% md\n"
    }
   },
   "source": [
    "# 0. what for\n",
    "1. 在`GT_asc_symmetry_gen_demo.ipynb`上实验过的思路，现在automatically执行一下，输入所有的auction setting，得到相应的输出\n",
    "2. **Steps**：\n",
    "    - collect GT计算需要的features: `features_GT`，记得给target data留一个flag:`unique_setting`\n",
    "        - features_GT = ['bidincrement','bidfee','retail']\n",
    "        - unique_setting = ['product_id', 'bidincrement', 'bidfee','retail']\n",
    "    - 根据`features_GT`计算GT预测的结果`n`和`p`"
   ]
  },
  {
   "cell_type": "markdown",
   "metadata": {},
   "source": [
    "# 1. Preparations\n",
    "## 1.1 全局设置"
   ]
  },
  {
   "cell_type": "code",
   "execution_count": 11,
   "metadata": {
    "pycharm": {
     "name": "#%%\n"
    }
   },
   "outputs": [],
   "source": [
    "# 经过threshold==16 filter之后，得到的dataset\n",
    "data_selected_path = \"../data/info_asymm/datawithnp_asc_symmetry_2_selected.csv\"\n",
    "#data_selected_path = \"../data/info_asymm/datawithnp_asc_symmetry_selected.csv\"\n",
    "\n",
    "# output path\n",
    "data_path_root = \"../data/info_asymm/results/asc_symmetry/\"\n",
    "# target data is from method-2\n",
    "filename_head = \"GT_asc_symmetry_2_\"\n",
    "filename_tail = \".csv\"\n",
    "\n",
    "# GT计算需要的features\n",
    "# 实际上不需要'product_id'这个属性。对于GT来说'retail'就足以反映product信息\n",
    "features_GT = ['bidincrement','bidfee','retail']\n",
    "\n",
    "# 最后给data新增3列预测结果\n",
    "features_added = ['P_1','Q_1','K_1']\n",
    "\n",
    "# threshold，在下面定义了\n",
    "# K=min(Q)\n",
    "\n",
    "import numpy as np\n",
    "#import cupy as np\n",
    "import pandas as pd\n",
    "import csv\n",
    "import seaborn as sns\n",
    "import matplotlib.pyplot as plt\n",
    "from tqdm.notebook import tqdm"
   ]
  },
  {
   "cell_type": "markdown",
   "metadata": {},
   "source": [
    "## 1.2 读取data"
   ]
  },
  {
   "cell_type": "code",
   "execution_count": 12,
   "metadata": {
    "pycharm": {
     "name": "#%%\n"
    }
   },
   "outputs": [],
   "source": [
    "data = pd.read_csv(data_selected_path, encoding=\"utf-8\")"
   ]
  },
  {
   "cell_type": "markdown",
   "metadata": {},
   "source": [
    "# 2. GT_model: ascending-price auction model in symmetry situation\n",
    "## 2.1 提取GT计算需要的features和data\n",
    "1. 注意`drop_duplicates()`的目的是，对GT model来说，它的setting和NN的setting是不一样的，这里只需要要保留GT计算需要的setting就好\n",
    "2."
   ]
  },
  {
   "cell_type": "code",
   "execution_count": 13,
   "metadata": {
    "pycharm": {
     "name": "#%%\n"
    }
   },
   "outputs": [
    {
     "name": "stdout",
     "output_type": "stream",
     "text": [
      "For symmetry GT model in ascending-price auctions, there are *612* settings waiting to be inferred.\n"
     ]
    }
   ],
   "source": [
    "# 2.1.1 extract data\n",
    "data_for_GT = data[features_GT].copy()\n",
    "data_for_GT = data_for_GT.drop_duplicates().copy()\n",
    "print(\"For symmetry GT model in ascending-price auctions, there are *{}* settings waiting to be inferred.\".format(data_for_GT.shape[0]))\n",
    "\n",
    "# 2.1.2 设置\n",
    "b = np.array(data_for_GT.bidfee)          # bid fee (cent to dollar)\n",
    "s = np.array(data_for_GT.bidincrement)    # bid increment (cent to dollar)\n",
    "v = np.array(data_for_GT.retail)               # valuation\n",
    "# 需要计算`A`组结果\n",
    "A = data_for_GT.shape[0]\n",
    "\n",
    "# 2.1.3 得到Key的函数\n",
    "def get_key_from_index(i):\n",
    "   key_i = list(data_for_GT[features_GT].iloc[i,:])               # 取出key, 这里的key是GT的key，不是NN的\n",
    "   # make sure key_i_str is tuple which is hashable\n",
    "   key_i_str = (str(key_i[0]),str(key_i[1]),str(key_i[2]))\n",
    "   return key_i_str"
   ]
  },
  {
   "cell_type": "markdown",
   "metadata": {},
   "source": [
    "## 2.2 Q and K\n",
    "1. For ascending-price, there is $n \\leq Q $\n",
    "2. Q的大小应该为`A*1`，K的值是min(Q)"
   ]
  },
  {
   "cell_type": "code",
   "execution_count": 14,
   "metadata": {
    "pycharm": {
     "name": "#%%\n"
    }
   },
   "outputs": [
    {
     "name": "stdout",
     "output_type": "stream",
     "text": [
      "\n",
      "shape of Q:  (612,)\n",
      "The largest Q is *228625*, and the smallest one is *39*\n",
      "In average, Q is :  17756.995098039217\n",
      "The median of Q is *1398.0*\n",
      "The threshold K is set as:  39\n"
     ]
    },
    {
     "data": {
      "text/plain": "([<matplotlib.axis.XTick at 0x1d3224aecc0>,\n  <matplotlib.axis.XTick at 0x1d3224ae898>,\n  <matplotlib.axis.XTick at 0x1d3224ae550>,\n  <matplotlib.axis.XTick at 0x1d3231d61d0>,\n  <matplotlib.axis.XTick at 0x1d3231ff860>,\n  <matplotlib.axis.XTick at 0x1d323239080>,\n  <matplotlib.axis.XTick at 0x1d323265860>,\n  <matplotlib.axis.XTick at 0x1d32329e080>,\n  <matplotlib.axis.XTick at 0x1d323274080>,\n  <matplotlib.axis.XTick at 0x1d3231afc18>,\n  <matplotlib.axis.XTick at 0x1d3232e8860>,\n  <matplotlib.axis.XTick at 0x1d323320080>,\n  <matplotlib.axis.XTick at 0x1d32334b860>,\n  <matplotlib.axis.XTick at 0x1d323386080>,\n  <matplotlib.axis.XTick at 0x1d3233b3860>,\n  <matplotlib.axis.XTick at 0x1d3233ec080>,\n  <matplotlib.axis.XTick at 0x1d323418860>,\n  <matplotlib.axis.XTick at 0x1d3233ce5c0>,\n  <matplotlib.axis.XTick at 0x1d323320860>,\n  <matplotlib.axis.XTick at 0x1d323444080>,\n  <matplotlib.axis.XTick at 0x1d32346f860>],\n [Text(0, 0, '0'),\n  Text(30, 0, '30'),\n  Text(60, 0, '60'),\n  Text(90, 0, '90'),\n  Text(120, 0, '120'),\n  Text(150, 0, '150'),\n  Text(180, 0, '180'),\n  Text(210, 0, '210'),\n  Text(240, 0, '240'),\n  Text(270, 0, '270'),\n  Text(300, 0, '300'),\n  Text(330, 0, '330'),\n  Text(360, 0, '360'),\n  Text(390, 0, '390'),\n  Text(420, 0, '420'),\n  Text(450, 0, '450'),\n  Text(480, 0, '480'),\n  Text(510, 0, '510'),\n  Text(540, 0, '540'),\n  Text(570, 0, '570'),\n  Text(600, 0, '600')])"
     },
     "execution_count": 14,
     "metadata": {},
     "output_type": "execute_result"
    },
    {
     "data": {
      "text/plain": "<Figure size 432x288 with 1 Axes>",
      "image/png": "[encoded data removed]"
     },
     "metadata": {
      "needs_background": "light"
     },
     "output_type": "display_data"
    }
   ],
   "source": [
    "Q_a = np.floor((v-b)/s)\n",
    "Q_a = np.array(Q_a.astype('int64'))\n",
    "print(\"\\nshape of Q: \",Q_a.shape)\n",
    "print(\"The largest Q is *{0}*, and the smallest one is *{1}*\".format(np.max(Q_a),np.min(Q_a)))\n",
    "print(\"In average, Q is : \",Q_a.mean())\n",
    "print(\"The median of Q is *{}*\".format(np.median(Q_a)))\n",
    "\n",
    "# threshold\n",
    "K = min(Q_a)\n",
    "print(\"The threshold K is set as: \",K)\n",
    "\n",
    "# transform Q_a into Q_dict\n",
    "Q = {}\n",
    "for i in range(0,A):\n",
    "    key_i = get_key_from_index(i)\n",
    "    Q.update({key_i: Q_a[i]})\n",
    "\n",
    "# distribution of Q\n",
    "plt.xlabel(\"i\")\n",
    "plt.ylabel(\"Q of i\")\n",
    "ax = sns.barplot(x=np.arange(0,len(Q_a)),y=Q_a)\n",
    "# 设置刻度\n",
    "steps_xaxis = np.arange(0, len(Q_a), step=int(len(Q_a)/20))\n",
    "plt.xticks(steps_xaxis,steps_xaxis,rotation=30)\n"
   ]
  },
  {
   "cell_type": "markdown",
   "metadata": {},
   "source": [
    "## 2.3 U\n",
    "1. `U`作为一个**dict**，它的key是`features_GT`,每一个key对应一个大小为(Q+2)的list. 因此`U`的shape应该为：`A*(Q+2)`\n",
    "2. 注意边界值：根据公式可知`U[key][0]`不存在，指定为1，方便后续`P`的计算\n",
    "3. 对于某一个确定的setting，`U[key]`一共有`Q[key]`个有效数字，有效index从`1`开始，因此`U[key]`的长度is various depending on the `Q`\n",
    "4. 因此`U[key][j]`表示在某一个setting下：\n",
    "> The probability that somebody makes the jth bid (given that j − 1 previous bids have been made)"
   ]
  },
  {
   "cell_type": "code",
   "execution_count": 16,
   "metadata": {
    "pycharm": {
     "name": "#%%\n"
    }
   },
   "outputs": [
    {
     "data": {
      "text/plain": "U::   0%|          | 0/612 [00:00<?, ?it/s]",
      "application/vnd.jupyter.widget-view+json": {
       "version_major": 2,
       "version_minor": 0,
       "model_id": "b9a78b05eef94a6d997b3b9381a1a9e9"
      }
     },
     "metadata": {},
     "output_type": "display_data"
    },
    {
     "name": "stdout",
     "output_type": "stream",
     "text": [
      "U is Prepared Well\n"
     ]
    }
   ],
   "source": [
    "U = dict()\n",
    "\n",
    "# for every uniq setting i\n",
    "for i in tqdm(range(0,A),desc=\"U:\"):\n",
    "    # Get the key of i\n",
    "    key_i = get_key_from_index(i)           # u[i][0]方便计算，统一设为1\n",
    "    U[key_i] = np.array([1.0]*(Q[key_i]+2)) # 避免浅拷贝，请你这样写\n",
    "    # for every period j in the auction with uniq setting i\n",
    "    for j in range(1,Q[key_i]+2):\n",
    "        U[key_i][j] = 1.0-b[i]/(v[i]-s[i]*(j-1))\n",
    "    # assert(U[key_i].shape[0] == (Q[key_i]+2),\"Wrong size of U\")\n",
    "\n",
    "print(\"U is Prepared Well\")"
   ]
  },
  {
   "cell_type": "markdown",
   "metadata": {},
   "source": [
    "## 2.4 N\n",
    "1. 容易获取N，在ascending-price下，它和Q直接相关"
   ]
  },
  {
   "cell_type": "code",
   "execution_count": 17,
   "metadata": {
    "pycharm": {
     "name": "#%%\n"
    }
   },
   "outputs": [
    {
     "data": {
      "text/plain": "N::   0%|          | 0/612 [00:00<?, ?it/s]",
      "application/vnd.jupyter.widget-view+json": {
       "version_major": 2,
       "version_minor": 0,
       "model_id": "fc1b4ad5413b4c15ba84a0ce4768649b"
      }
     },
     "metadata": {},
     "output_type": "display_data"
    },
    {
     "name": "stdout",
     "output_type": "stream",
     "text": [
      "N is Prepared Well.\n"
     ]
    }
   ],
   "source": [
    "N = dict()\n",
    "\n",
    "# for every uniq setting i\n",
    "for i in tqdm(range(0,A),desc=\"N:\"):\n",
    "    key_i = get_key_from_index(i)              # Get the key of i\n",
    "    N[key_i] = np.arange(0,Q[key_i]+1)\n",
    "    #assert(max(N[key_i]) == Q[key_i],\"N[key_i]的最大值不是Q[i]\")\n",
    "\n",
    "print(\"N is Prepared Well.\")"
   ]
  },
  {
   "cell_type": "markdown",
   "metadata": {
    "pycharm": {
     "name": "#%% md\n"
    }
   },
   "source": [
    "## 2.5 P\n",
    "1. `P`作为一个**dict**，它的key是`features_GT`,每一个key对应一个大小为(Q+2)的list. 因此`P`的shape应该为：`A*(Q+1)`\n",
    "2. ~~对于某一个确定的setting，`P[key_i]`一共有`Q[i]`个有效数字，有效index从`0`开始，因此`P[key_i]`的长度is various depending on the `Q[i]`~~\n",
    "3. **New**：由于threshold的存在，`P[key_i]`的大小设置为`K+1`，其中`p[key_i][K]`记录的是sum(P[i]) when i > K\n",
    "4. 也就是说P[key_i][i]= sum(P[key_i][i]), when i>threshold"
   ]
  },
  {
   "cell_type": "code",
   "execution_count": 18,
   "metadata": {
    "pycharm": {
     "name": "#%%\n"
    }
   },
   "outputs": [
    {
     "data": {
      "text/plain": "P:   0%|          | 0/612 [00:00<?, ?it/s]",
      "application/vnd.jupyter.widget-view+json": {
       "version_major": 2,
       "version_minor": 0,
       "model_id": "f3816238378c4ade8ff0f07c2c1bbf59"
      }
     },
     "metadata": {},
     "output_type": "display_data"
    },
    {
     "name": "stdout",
     "output_type": "stream",
     "text": [
      "\n",
      "P is Prepared Well.\n"
     ]
    }
   ],
   "source": [
    "P = dict()\n",
    "\n",
    "# for every uniq setting i\n",
    "for i in tqdm(range(0,A),desc=\"P\"):\n",
    "    key_i = get_key_from_index(i)              # Get the key of i\n",
    "    P[key_i] = np.array([0.0]*(K+1))\n",
    "    tmp = np.array([0.0]*(K+2))                # tmp的大小不需要太精确\n",
    "    tmp[0] = 1.0\n",
    "    \n",
    "    # for every period j in the auction with uniq setting i\n",
    "    for j in range(0,K):\n",
    "        tmp[j+1] = tmp[j]*U[key_i][j]\n",
    "        P[key_i][j] = (1-U[key_i][j+1])*tmp[j+1]\n",
    "\n",
    "    P[key_i][K] = 1-sum(P[key_i])\n",
    "\n",
    "    # assert(len(P[key_i]) == len(N[key_i]),\"P should record all the durations record in N\")\n",
    "    # print(\"The sum of P_{0} is: {1}\".format(i,np.sum(P[key_i])))\n",
    "\n",
    "print(\"\\nP is Prepared Well.\")"
   ]
  },
  {
   "cell_type": "markdown",
   "metadata": {},
   "source": [
    "# 3. Dict Output\n",
    "1. 每个unique setting对应着一组keys + 一个distrb\n",
    "    - 输出3个csv文件，分别存储了`P,N,Keys`，前两者是dict直接输出\n",
    "    - `P`的每一个item存储的是一个features_GT以及对应的distrb.\n",
    "    - `N`的每一个item存储的是一个features_GT以及对应的duration array\n",
    "    - `Keys`的每一个item存储的是一个features_GT，一共存储了`A`个\n",
    "2. 输出`N`其实不太重要，主要是有`Q`和threashold `K`就足够了"
   ]
  },
  {
   "cell_type": "code",
   "execution_count": 19,
   "metadata": {
    "pycharm": {
     "name": "#%%\n"
    }
   },
   "outputs": [],
   "source": [
    "filename_P = data_path_root+(filename_head + \"P\" + filename_tail)\n",
    "filename_N = data_path_root+(filename_head + \"N\" + filename_tail)\n",
    "filename_Q = data_path_root+(filename_head + \"Q\" + filename_tail)\n",
    "filename_keys = data_path_root+(filename_head + \"Keys\" + filename_tail)"
   ]
  },
  {
   "cell_type": "code",
   "execution_count": 20,
   "outputs": [
    {
     "name": "stdout",
     "output_type": "stream",
     "text": [
      "Output is DONE\n"
     ]
    }
   ],
   "source": [
    "with open(filename_P,\"w+\",encoding='utf—8',newline='') as f:\n",
    "    w= csv.DictWriter(f,fieldnames=['bidincrement','bidfee','retail','P'])\n",
    "    w.writeheader()\n",
    "\n",
    "    key=list(P.keys())\n",
    "    value =list(P.values())\n",
    "    for i in range(len(key)):\n",
    "        dic = {\n",
    "            'bidincrement':key[i][0],\n",
    "            'bidfee':key[i][1],\n",
    "            'retail':key[i][2],\n",
    "            'P': list(value[i]),\n",
    "        }\n",
    "        w.writerow(dic)   #数据写入csv文件\n",
    "\n",
    "\n",
    "# ##fail\n",
    "# # N to csv\n",
    "# with open(filename_N,\"w+\",encoding='utf—8') as f:\n",
    "#     w=csv.writer(f)                  # 每行存储一个键值对\n",
    "#     w.writerow(N.items())\n",
    "#\n",
    "# ##fail\n",
    "# # Q to csv\n",
    "# with open(filename_Q,\"w+\",encoding='utf—8') as f:\n",
    "#     w=csv.writer(f)                  # 每行存储一个键值对\n",
    "#     w.writerow(Q.items())\n",
    "\n",
    "# Keys to csv\n",
    "with open(filename_keys,\"w+\",encoding='utf—8',newline=\"\") as f:\n",
    "    w=csv.writer(f)\n",
    "    # firstly write in the header\n",
    "    w.writerow(features_GT)\n",
    "    # for every uniq setting i\n",
    "    for i in range(0,A):\n",
    "        key = get_key_from_index(i)\n",
    "        w.writerow(key)\n",
    "\n",
    "print(\"Output is DONE\")"
   ],
   "metadata": {
    "collapsed": false,
    "pycharm": {
     "name": "#%%\n"
    }
   }
  },
  {
   "cell_type": "markdown",
   "metadata": {},
   "source": [
    "# 4. Test and Plot\n",
    "## 4.1 plot\n",
    "1. 根据指定的index进行画图，"
   ]
  },
  {
   "cell_type": "code",
   "execution_count": null,
   "metadata": {
    "pycharm": {
     "name": "#%%\n",
     "is_executing": true
    }
   },
   "outputs": [],
   "source": [
    "index_i = 28\n",
    "key_i_forplot =  get_key_from_index(index_i)\n",
    "\n",
    "plt.xlabel(\"Duration n\")\n",
    "plt.ylabel(\"The density p\")\n",
    "plt.title(\"bid increment={0}, bid fee={1}, retail={2}, Q={3}, K={4}\".format(float(key_i_forplot[0])*0.01,float(key_i_forplot[1]),key_i_forplot[2],Q[key_i_forplot],K))\n",
    "\n",
    "ax = sns.barplot(x = np.arange(0,len(P[key_i_forplot])),y=P[key_i_forplot])\n",
    "\n",
    "# 设置刻度\n",
    "steps_xaxis = np.arange(0, Q[index_i], step=steps_xaxis)\n",
    "plt.xticks(steps_xaxis,steps_xaxis,rotation=30)\n",
    "\n",
    "plt.show()\n",
    "print(\"Plot is DONE\")"
   ]
  },
  {
   "cell_type": "markdown",
   "metadata": {},
   "source": [
    "# 5. Combination and merge\n",
    "1. 不用merge，需要什么直接根据setting去取就好"
   ]
  },
  {
   "cell_type": "code",
   "execution_count": null,
   "metadata": {
    "pycharm": {
     "name": "#%%"
    }
   },
   "outputs": [],
   "source": []
  }
 ],
 "metadata": {
  "kernelspec": {
   "display_name": "Python 3",
   "language": "python",
   "name": "python3"
  },
  "language_info": {
   "codemirror_mode": {
    "name": "ipython",
    "version": 3
   },
   "file_extension": ".py",
   "mimetype": "text/x-python",
   "name": "python",
   "nbconvert_exporter": "python",
   "pygments_lexer": "ipython3",
   "version": "3.7.0"
  },
  "toc": {
   "base_numbering": 1,
   "nav_menu": {
    "height": "212px",
    "width": "411px"
   },
   "number_sections": false,
   "sideBar": true,
   "skip_h1_title": false,
   "title_cell": "Table of Contents",
   "title_sidebar": "Contents",
   "toc_cell": false,
   "toc_position": {},
   "toc_section_display": true,
   "toc_window_display": false
  },
  "varInspector": {
   "cols": {
    "lenName": 16,
    "lenType": 16,
    "lenVar": 40
   },
   "kernels_config": {
    "python": {
     "delete_cmd_postfix": "",
     "delete_cmd_prefix": "del ",
     "library": "var_list.py",
     "varRefreshCmd": "print(var_dic_list())"
    },
    "r": {
     "delete_cmd_postfix": ") ",
     "delete_cmd_prefix": "rm(",
     "library": "var_list.r",
     "varRefreshCmd": "cat(var_dic_list()) "
    }
   },
   "types_to_exclude": [
    "module",
    "function",
    "builtin_function_or_method",
    "instance",
    "_Feature"
   ],
   "window_display": false
  }
 },
 "nbformat": 4,
 "nbformat_minor": 1
}