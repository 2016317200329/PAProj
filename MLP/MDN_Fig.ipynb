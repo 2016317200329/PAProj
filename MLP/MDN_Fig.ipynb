{
 "cells": [
  {
   "cell_type": "code",
   "execution_count": 1,
   "outputs": [],
   "source": [
    "import os\n",
    "\n",
    "import pandas as pd\n",
    "\n",
    "os.environ [ \"KMP_DUPLICATE_LIB_OK\" ]= \"TRUE\"\n",
    "\n",
    "%load_ext autoreload\n",
    "%matplotlib notebook\n",
    "%autoreload 2"
   ],
   "metadata": {
    "collapsed": false
   }
  },
  {
   "cell_type": "markdown",
   "source": [
    "# 0. what for\n",
    "1. 用来画图\n",
    "# 1. import"
   ],
   "metadata": {
    "collapsed": false
   }
  },
  {
   "cell_type": "code",
   "execution_count": 2,
   "metadata": {
    "collapsed": true
   },
   "outputs": [],
   "source": [
    "from common import *\n",
    "from utils import *\n",
    "from mydataset import *\n",
    "from tqdm import tqdm\n",
    "from my_collate_fn import my_collate_fn_3\n",
    "\n",
    "import GT_model.GT_2.SA_for_PT_funcs_delta_eq1 as GT_func\n",
    "from GT_model.GT_2.SA_for_PT_funcs_delta_eq1 import *\n",
    "from GT_model.GT_3.SA_for_PT_funcs_delta_eq1 import *\n",
    "\n",
    "import plotly.graph_objs as go\n",
    "import plotly.offline as pyo\n",
    "import plotly.io as pio\n",
    "scaler = GradScaler(backoff_factor = 0.1)\n",
    "\n",
    "from Config import config_MDN_plot\n",
    "# from Config import config\n",
    "import loss\n",
    "import plot"
   ]
  },
  {
   "cell_type": "code",
   "execution_count": 3,
   "outputs": [
    {
     "name": "stdout",
     "output_type": "stream",
     "text": [
      "cuda:0\n"
     ]
    }
   ],
   "source": [
    "reload(config_MDN_plot)  # 必须reload！！\n",
    "reload(loss)    # 必须reload！！\n",
    "reload(plot)\n",
    "reload(GT_func)\n",
    "from loss import cal_metric\n",
    "from loss import validate\n",
    "from plot import *\n",
    "from my_collate_fn import my_collate_fn_3\n",
    "from utils import *\n",
    "from models import Conv_1_4\n",
    "\n",
    "from Config.config_MDN import DefaultConfig\n",
    "\n",
    "total_train_step = 0\n",
    "total_test_step = 0\n",
    "\n",
    "# Range【一般用不到】\n",
    "a = 0\n",
    "b = 255\n",
    "\n",
    "device = torch.device('cuda:0' if torch.cuda.is_available() else 'cpu')\n",
    "print(device)"
   ],
   "metadata": {
    "collapsed": false
   }
  },
  {
   "cell_type": "markdown",
   "source": [
    "# 2. 读入模型数据\n",
    "## 2.1 Load the model and Load the setting"
   ],
   "metadata": {
    "collapsed": false
   }
  },
  {
   "cell_type": "code",
   "execution_count": 5,
   "outputs": [],
   "source": [
    "seed = 407\n",
    "setup_seed(seed)"
   ],
   "metadata": {
    "collapsed": false
   }
  },
  {
   "cell_type": "code",
   "execution_count": 6,
   "outputs": [],
   "source": [
    "SPECIFIC = True         # 是否为特定的idx file 画图\n",
    "SAVE_DATA = False        # save data or not\n",
    "NORMALIZATION = False\n",
    "RECAl_METRIC = True     # 是否重新计算metric of GT2 and GT3\n",
    "SHOW_GT3 = True"
   ],
   "metadata": {
    "collapsed": false
   }
  },
  {
   "cell_type": "code",
   "execution_count": 7,
   "outputs": [],
   "source": [
    "if SPECIFIC:\n",
    "    rangeA = 0\n",
    "    rangeB = 1\n",
    "    file_idx = 701  # seed=3: 364, seed=31: 685, seed=204: 460,\n",
    "else:\n",
    "    rangeA = 120\n",
    "    rangeB = 140   # len(test_idx)    # len(test_idx)\n",
    "\n",
    "NBins = 300   # bins number in the x-axis"
   ],
   "metadata": {
    "collapsed": false
   }
  },
  {
   "cell_type": "code",
   "execution_count": 53,
   "outputs": [
    {
     "data": {
      "text/plain": "Conv_1_4(\n  (BN1): BatchNorm1d(3, eps=1e-05, momentum=0.1, affine=True, track_running_stats=True)\n  (layer_pi): Conv_block_4(\n    (ac_func): Softplus(beta=1, threshold=20)\n    (conv): Conv2d(1, 1, kernel_size=(3, 9), stride=(1, 3))\n    (BN_aff2): BatchNorm1d(98, eps=1e-05, momentum=0.1, affine=True, track_running_stats=True)\n  )\n  (layer_scale): Conv_block_4(\n    (ac_func): Softplus(beta=1, threshold=20)\n    (conv): Conv2d(1, 1, kernel_size=(3, 9), stride=(1, 3))\n    (BN_aff2): BatchNorm1d(98, eps=1e-05, momentum=0.1, affine=True, track_running_stats=True)\n  )\n  (layer_shape): Conv_block_4(\n    (ac_func): Softplus(beta=1, threshold=20)\n    (conv): Conv2d(1, 1, kernel_size=(3, 9), stride=(1, 3))\n    (BN_aff2): BatchNorm1d(98, eps=1e-05, momentum=0.1, affine=True, track_running_stats=True)\n  )\n  (ac_func): Softplus(beta=1, threshold=20)\n  (z_pi): Sequential(\n    (0): Linear(in_features=98, out_features=2, bias=True)\n    (1): Softmax(dim=1)\n  )\n  (z_scale): Linear(in_features=98, out_features=2, bias=True)\n  (z_shape): Linear(in_features=98, out_features=2, bias=True)\n)"
     },
     "execution_count": 53,
     "metadata": {},
     "output_type": "execute_result"
    }
   ],
   "source": [
    "MODEL_NAME = \"GT1_GT2_EMD\"\n",
    "INPUT_LIST = get_Input_List(MODEL_NAME)\n",
    "opt = DefaultConfig(MODEL_NAME=MODEL_NAME)\n",
    "mlp = Conv_1_4(opt.N_gaussians, ch_in=len(INPUT_LIST))\n",
    "model_path = get_MDN_save_path(opt.ARTIFICIAL, seed, opt.net_root_path, opt.noise_pct, MODEL_NAME)\n",
    "mlp, _ = load_checkpoint(model_path, mlp)\n",
    "mlp = mlp.to(device=device)\n",
    "mlp.eval()"
   ],
   "metadata": {
    "collapsed": false
   }
  },
  {
   "cell_type": "code",
   "execution_count": 44,
   "outputs": [],
   "source": [
    "dataset = myDataset(opt.train_path, opt.target_path_metric, opt.target_path_loss, opt.data_key_path, opt.NLL_metric_path)\n",
    "shuffled_indices = save_data_idx(dataset, opt.arr_flag)\n",
    "train_idx, val_idx, test_idx = get_data_idx(shuffled_indices,opt.train_pct, opt.vali_pct,opt.SET_VAL)\n",
    "# Data keys\n",
    "data_key = pd.read_csv(opt.data_key_path,encoding=\"utf-8\")\n",
    "# GT-2 params\n",
    "params_2 = pd.read_csv(opt.params_path_2,encoding=\"utf-8\")\n",
    "# GT-3 params\n",
    "params_3 = pd.read_csv(opt.params_path_3,encoding=\"utf-8\")"
   ],
   "metadata": {
    "collapsed": false
   }
  },
  {
   "cell_type": "markdown",
   "source": [
    "- 注意repeat之后: [N_samples,Dim]"
   ],
   "metadata": {
    "collapsed": false
   }
  },
  {
   "cell_type": "code",
   "execution_count": 54,
   "outputs": [
    {
     "name": "stderr",
     "output_type": "stream",
     "text": [
      "  0%|          | 0/1 [00:00<?, ?it/s]"
     ]
    },
    {
     "name": "stdout",
     "output_type": "stream",
     "text": [
      "GT-2 metric:  4.663951403765056\n",
      "GT-3 metric:  3.7892617773145747\n",
      "GT-3 has alpha: -0.0062602986581623\n",
      "target_nonzero.shape = (68, 1)\n",
      "target_nonzero_2.shape = torch.Size([68, 2])\n"
     ]
    },
    {
     "data": {
      "application/vnd.plotly.v1+json": {
       "data": [
        {
         "histnorm": "probability",
         "name": "target",
         "nbinsx": 300,
         "x": [
          1.0,
          1.0,
          1.0,
          1.0,
          1.0,
          2.0,
          2.0,
          2.0,
          2.0,
          2.0,
          3.0,
          3.0,
          3.0,
          3.0,
          3.0,
          3.0,
          3.0,
          3.0,
          3.0,
          3.0,
          4.0,
          4.0,
          4.0,
          4.0,
          5.0,
          5.0,
          5.0,
          6.0,
          6.0,
          6.0,
          6.0,
          6.0,
          7.0,
          7.0,
          8.0,
          8.0,
          8.0,
          9.0,
          9.0,
          9.0,
          9.0,
          9.0,
          10.0,
          10.0,
          10.0,
          10.0,
          11.0,
          11.0,
          12.0,
          12.0,
          13.0,
          13.0,
          13.0,
          14.0,
          14.0,
          15.0,
          16.0,
          17.0,
          18.0,
          20.0,
          22.0,
          23.0,
          32.0,
          38.0,
          39.0,
          40.0,
          55.0,
          115.0
         ],
         "type": "histogram"
        },
        {
         "name": "pred",
         "x": [
          1.0,
          1.0,
          1.0,
          1.0,
          1.0,
          2.0,
          2.0,
          2.0,
          2.0,
          2.0,
          3.0,
          3.0,
          3.0,
          3.0,
          3.0,
          3.0,
          3.0,
          3.0,
          3.0,
          3.0,
          4.0,
          4.0,
          4.0,
          4.0,
          5.0,
          5.0,
          5.0,
          6.0,
          6.0,
          6.0,
          6.0,
          6.0,
          7.0,
          7.0,
          8.0,
          8.0,
          8.0,
          9.0,
          9.0,
          9.0,
          9.0,
          9.0,
          10.0,
          10.0,
          10.0,
          10.0,
          11.0,
          11.0,
          12.0,
          12.0,
          13.0,
          13.0,
          13.0,
          14.0,
          14.0,
          15.0,
          16.0,
          17.0,
          18.0,
          20.0,
          22.0,
          23.0,
          32.0,
          38.0,
          39.0,
          40.0,
          55.0,
          115.0
         ],
         "y": [
          0.0014006432398349618,
          0.0014006432398349618,
          0.0014006432398349618,
          0.0014006432398349618,
          0.0014006432398349618,
          0.0016565013375863464,
          0.0016565013375863464,
          0.0016565013375863464,
          0.0016565013375863464,
          0.0016565013375863464,
          0.001825497805931584,
          0.001825497805931584,
          0.001825497805931584,
          0.001825497805931584,
          0.001825497805931584,
          0.001825497805931584,
          0.001825497805931584,
          0.001825497805931584,
          0.001825497805931584,
          0.001825497805931584,
          0.001955593242121419,
          0.001955593242121419,
          0.001955593242121419,
          0.001955593242121419,
          0.0020625732074359394,
          0.0020625732074359394,
          0.0020625732074359394,
          0.0021539068767008106,
          0.0021539068767008106,
          0.0021539068767008106,
          0.0021539068767008106,
          0.0021539068767008106,
          0.0022337962950083074,
          0.0022337962950083074,
          0.00230486889386613,
          0.00230486889386613,
          0.00230486889386613,
          0.002368890407209517,
          0.002368890407209517,
          0.002368890407209517,
          0.002368890407209517,
          0.002368890407209517,
          0.002427111661756226,
          0.002427111661756226,
          0.002427111661756226,
          0.002427111661756226,
          0.002480455158682634,
          0.002480455158682634,
          0.0025296232899922476,
          0.0025296232899922476,
          0.002575164877913596,
          0.002575164877913596,
          0.002575164877913596,
          0.0026175180496007594,
          0.0026175180496007594,
          0.0026570389463444494,
          0.0026940215759766566,
          0.002728711921247299,
          0.002761318204840505,
          0.0028209665570539033,
          0.002874124434078034,
          0.0028985550428661825,
          0.0030680075218092098,
          0.003142838404227285,
          0.0031530103836601713,
          0.0031625935796721462,
          0.003248144904968525,
          0.0030138831439679797
         ],
         "type": "scatter"
        },
        {
         "name": "GT1",
         "x": [
          1,
          1,
          1,
          1,
          1,
          2,
          2,
          2,
          2,
          2,
          3,
          3,
          3,
          3,
          3,
          3,
          3,
          3,
          3,
          3,
          4,
          4,
          4,
          4,
          5,
          5,
          5,
          6,
          6,
          6,
          6,
          6,
          7,
          7,
          8,
          8,
          8,
          9,
          9,
          9,
          9,
          9,
          10,
          10,
          10,
          10,
          11,
          11,
          12,
          12,
          13,
          13,
          13,
          14,
          14,
          15,
          16,
          17,
          18,
          20,
          22,
          23,
          32,
          38,
          39,
          40,
          55
         ],
         "y": [
          0.032383419689119175,
          0.032383419689119175,
          0.032383419689119175,
          0.032383419689119175,
          0.032383419689119175,
          0.03153900196580451,
          0.03153900196580451,
          0.03153900196580451,
          0.03153900196580451,
          0.03153900196580451,
          0.03071120663861797,
          0.03071120663861797,
          0.03071120663861797,
          0.03071120663861797,
          0.03071120663861797,
          0.03071120663861797,
          0.03071120663861797,
          0.03071120663861797,
          0.03071120663861797,
          0.03071120663861797,
          0.029899814125048205,
          0.029899814125048205,
          0.029899814125048205,
          0.029899814125048205,
          0.029104606302573454,
          0.029104606302573454,
          0.029104606302573454,
          0.028325366508662516,
          0.028325366508662516,
          0.028325366508662516,
          0.028325366508662516,
          0.028325366508662516,
          0.027561879540774048,
          0.027561879540774048,
          0.026813931656356826,
          0.026813931656356826,
          0.026813931656356826,
          0.02608131057284983,
          0.02608131057284983,
          0.02608131057284983,
          0.02608131057284983,
          0.02608131057284983,
          0.025363805467682028,
          0.025363805467682028,
          0.025363805467682028,
          0.025363805467682028,
          0.024661206978272565,
          0.024661206978272565,
          0.023973307202030673,
          0.023973307202030673,
          0.023299899696355632,
          0.023299899696355632,
          0.023299899696355632,
          0.022640779478636942,
          0.022640779478636942,
          0.021995743026254136,
          0.021364588276576824,
          0.020747114626964797,
          0.020143122934767835,
          0.018974796151969228,
          0.017858043986781848,
          0.017318526041561817,
          0.01299479966496055,
          0.010600748679140834,
          0.010236461782950408,
          0.009881645083368074,
          0.005586710202169101
         ],
         "type": "scatter"
        },
        {
         "name": "GT2",
         "x": [
          1,
          1,
          1,
          1,
          1,
          2,
          2,
          2,
          2,
          2,
          3,
          3,
          3,
          3,
          3,
          3,
          3,
          3,
          3,
          3,
          4,
          4,
          4,
          4,
          5,
          5,
          5,
          6,
          6,
          6,
          6,
          6,
          7,
          7,
          8,
          8,
          8,
          9,
          9,
          9,
          9,
          9,
          10,
          10,
          10,
          10,
          11,
          11,
          12,
          12,
          13,
          13,
          13,
          14,
          14,
          15,
          16,
          17,
          18,
          20,
          22,
          23,
          32,
          38,
          39,
          40,
          55
         ],
         "y": [
          0.00948954504471422,
          0.00948954504471422,
          0.00948954504471422,
          0.00948954504471422,
          0.00948954504471422,
          0.00952531316486612,
          0.00952531316486612,
          0.00952531316486612,
          0.00952531316486612,
          0.00952531316486612,
          0.009561193352930283,
          0.009561193352930283,
          0.009561193352930283,
          0.009561193352930283,
          0.009561193352930283,
          0.009561193352930283,
          0.009561193352930283,
          0.009561193352930283,
          0.009561193352930283,
          0.009561193352930283,
          0.009597184877821534,
          0.009597184877821534,
          0.009597184877821534,
          0.009597184877821534,
          0.009633286958232868,
          0.009633286958232868,
          0.009633286958232868,
          0.009669498760169717,
          0.009669498760169717,
          0.009669498760169717,
          0.009669498760169717,
          0.009669498760169717,
          0.009705819394338575,
          0.009705819394338575,
          0.00974224791338314,
          0.00974224791338314,
          0.00974224791338314,
          0.009778783308959831,
          0.009778783308959831,
          0.009778783308959831,
          0.009778783308959831,
          0.009778783308959831,
          0.00981542450862723,
          0.00981542450862723,
          0.00981542450862723,
          0.00981542450862723,
          0.009852170372553197,
          0.009852170372553197,
          0.009889019690017193,
          0.009889019690017193,
          0.00992597117569207,
          0.00992597117569207,
          0.00992597117569207,
          0.009963023465687244,
          0.009963023465687244,
          0.010000175113343683,
          0.010037424584750607,
          0.010074770253967939,
          0.010112210397927328,
          0.010187366699135626,
          0.010262877544853756,
          0.010300760414198602,
          0.010645041442960362,
          0.010877043914222414,
          0.010915818587277455,
          0.010954608331856177,
          0.011532300827368842
         ],
         "type": "scatter"
        },
        {
         "name": "GT3",
         "x": [
          1,
          1,
          1,
          1,
          1,
          2,
          2,
          2,
          2,
          2,
          3,
          3,
          3,
          3,
          3,
          3,
          3,
          3,
          3,
          3,
          4,
          4,
          4,
          4,
          5,
          5,
          5,
          6,
          6,
          6,
          6,
          6,
          7,
          7,
          8,
          8,
          8,
          9,
          9,
          9,
          9,
          9,
          10,
          10,
          10,
          10,
          11,
          11,
          12,
          12,
          13,
          13,
          13,
          14,
          14,
          15,
          16,
          17,
          18,
          20,
          22,
          23,
          32,
          38,
          39,
          40,
          55
         ],
         "y": [
          0.031247764738712047,
          0.031247764738712047,
          0.031247764738712047,
          0.031247764738712047,
          0.031247764738712047,
          0.030489972432331165,
          0.030489972432331165,
          0.030489972432331165,
          0.030489972432331165,
          0.030489972432331165,
          0.029744975137118046,
          0.029744975137118046,
          0.029744975137118046,
          0.029744975137118046,
          0.029744975137118046,
          0.029744975137118046,
          0.029744975137118046,
          0.029744975137118046,
          0.029744975137118046,
          0.029744975137118046,
          0.029012660839985778,
          0.029012660839985778,
          0.029012660839985778,
          0.029012660839985778,
          0.028292917282183028,
          0.028292917282183028,
          0.028292917282183028,
          0.0275856319668126,
          0.0275856319668126,
          0.0275856319668126,
          0.0275856319668126,
          0.0275856319668126,
          0.026890692166448994,
          0.026890692166448994,
          0.02620798493085919,
          0.02620798493085919,
          0.02620798493085919,
          0.025537397094824846,
          0.025537397094824846,
          0.025537397094824846,
          0.025537397094824846,
          0.025537397094824846,
          0.024878815286068504,
          0.024878815286068504,
          0.024878815286068504,
          0.024878815286068504,
          0.024232125933283468,
          0.024232125933283468,
          0.023597215274268713,
          0.023597215274268713,
          0.02297396936417014,
          0.02297396936417014,
          0.02297396936417014,
          0.022362274083827783,
          0.022362274083827783,
          0.021762015148231367,
          0.021173078115084194,
          0.020595348393475883,
          0.020028711252666115,
          0.01892825514481054,
          0.017870789489799425,
          0.01735789002675236,
          0.013196008574289628,
          0.010847880332637866,
          0.010487536351846226,
          0.01013574473191027,
          0.00580710873853422
         ],
         "type": "scatter"
        }
       ],
       "layout": {
        "title": {
         "text": "idx = 364,seed=3| GT = [3.76727937 3.39854408 3.36151149 4.6639514 ] | NN = 6.12369009306881"
        },
        "xaxis": {
         "title": {
          "text": "duration"
         }
        },
        "yaxis": {
         "title": {
          "text": "density"
         }
        },
        "template": {
         "data": {
          "histogram2dcontour": [
           {
            "type": "histogram2dcontour",
            "colorbar": {
             "outlinewidth": 0,
             "ticks": ""
            },
            "colorscale": [
             [
              0.0,
              "#0d0887"
             ],
             [
              0.1111111111111111,
              "#46039f"
             ],
             [
              0.2222222222222222,
              "#7201a8"
             ],
             [
              0.3333333333333333,
              "#9c179e"
             ],
             [
              0.4444444444444444,
              "#bd3786"
             ],
             [
              0.5555555555555556,
              "#d8576b"
             ],
             [
              0.6666666666666666,
              "#ed7953"
             ],
             [
              0.7777777777777778,
              "#fb9f3a"
             ],
             [
              0.8888888888888888,
              "#fdca26"
             ],
             [
              1.0,
              "#f0f921"
             ]
            ]
           }
          ],
          "choropleth": [
           {
            "type": "choropleth",
            "colorbar": {
             "outlinewidth": 0,
             "ticks": ""
            }
           }
          ],
          "histogram2d": [
           {
            "type": "histogram2d",
            "colorbar": {
             "outlinewidth": 0,
             "ticks": ""
            },
            "colorscale": [
             [
              0.0,
              "#0d0887"
             ],
             [
              0.1111111111111111,
              "#46039f"
             ],
             [
              0.2222222222222222,
              "#7201a8"
             ],
             [
              0.3333333333333333,
              "#9c179e"
             ],
             [
              0.4444444444444444,
              "#bd3786"
             ],
             [
              0.5555555555555556,
              "#d8576b"
             ],
             [
              0.6666666666666666,
              "#ed7953"
             ],
             [
              0.7777777777777778,
              "#fb9f3a"
             ],
             [
              0.8888888888888888,
              "#fdca26"
             ],
             [
              1.0,
              "#f0f921"
             ]
            ]
           }
          ],
          "heatmap": [
           {
            "type": "heatmap",
            "colorbar": {
             "outlinewidth": 0,
             "ticks": ""
            },
            "colorscale": [
             [
              0.0,
              "#0d0887"
             ],
             [
              0.1111111111111111,
              "#46039f"
             ],
             [
              0.2222222222222222,
              "#7201a8"
             ],
             [
              0.3333333333333333,
              "#9c179e"
             ],
             [
              0.4444444444444444,
              "#bd3786"
             ],
             [
              0.5555555555555556,
              "#d8576b"
             ],
             [
              0.6666666666666666,
              "#ed7953"
             ],
             [
              0.7777777777777778,
              "#fb9f3a"
             ],
             [
              0.8888888888888888,
              "#fdca26"
             ],
             [
              1.0,
              "#f0f921"
             ]
            ]
           }
          ],
          "heatmapgl": [
           {
            "type": "heatmapgl",
            "colorbar": {
             "outlinewidth": 0,
             "ticks": ""
            },
            "colorscale": [
             [
              0.0,
              "#0d0887"
             ],
             [
              0.1111111111111111,
              "#46039f"
             ],
             [
              0.2222222222222222,
              "#7201a8"
             ],
             [
              0.3333333333333333,
              "#9c179e"
             ],
             [
              0.4444444444444444,
              "#bd3786"
             ],
             [
              0.5555555555555556,
              "#d8576b"
             ],
             [
              0.6666666666666666,
              "#ed7953"
             ],
             [
              0.7777777777777778,
              "#fb9f3a"
             ],
             [
              0.8888888888888888,
              "#fdca26"
             ],
             [
              1.0,
              "#f0f921"
             ]
            ]
           }
          ],
          "contourcarpet": [
           {
            "type": "contourcarpet",
            "colorbar": {
             "outlinewidth": 0,
             "ticks": ""
            }
           }
          ],
          "contour": [
           {
            "type": "contour",
            "colorbar": {
             "outlinewidth": 0,
             "ticks": ""
            },
            "colorscale": [
             [
              0.0,
              "#0d0887"
             ],
             [
              0.1111111111111111,
              "#46039f"
             ],
             [
              0.2222222222222222,
              "#7201a8"
             ],
             [
              0.3333333333333333,
              "#9c179e"
             ],
             [
              0.4444444444444444,
              "#bd3786"
             ],
             [
              0.5555555555555556,
              "#d8576b"
             ],
             [
              0.6666666666666666,
              "#ed7953"
             ],
             [
              0.7777777777777778,
              "#fb9f3a"
             ],
             [
              0.8888888888888888,
              "#fdca26"
             ],
             [
              1.0,
              "#f0f921"
             ]
            ]
           }
          ],
          "surface": [
           {
            "type": "surface",
            "colorbar": {
             "outlinewidth": 0,
             "ticks": ""
            },
            "colorscale": [
             [
              0.0,
              "#0d0887"
             ],
             [
              0.1111111111111111,
              "#46039f"
             ],
             [
              0.2222222222222222,
              "#7201a8"
             ],
             [
              0.3333333333333333,
              "#9c179e"
             ],
             [
              0.4444444444444444,
              "#bd3786"
             ],
             [
              0.5555555555555556,
              "#d8576b"
             ],
             [
              0.6666666666666666,
              "#ed7953"
             ],
             [
              0.7777777777777778,
              "#fb9f3a"
             ],
             [
              0.8888888888888888,
              "#fdca26"
             ],
             [
              1.0,
              "#f0f921"
             ]
            ]
           }
          ],
          "mesh3d": [
           {
            "type": "mesh3d",
            "colorbar": {
             "outlinewidth": 0,
             "ticks": ""
            }
           }
          ],
          "scatter": [
           {
            "fillpattern": {
             "fillmode": "overlay",
             "size": 10,
             "solidity": 0.2
            },
            "type": "scatter"
           }
          ],
          "parcoords": [
           {
            "type": "parcoords",
            "line": {
             "colorbar": {
              "outlinewidth": 0,
              "ticks": ""
             }
            }
           }
          ],
          "scatterpolargl": [
           {
            "type": "scatterpolargl",
            "marker": {
             "colorbar": {
              "outlinewidth": 0,
              "ticks": ""
             }
            }
           }
          ],
          "bar": [
           {
            "error_x": {
             "color": "#2a3f5f"
            },
            "error_y": {
             "color": "#2a3f5f"
            },
            "marker": {
             "line": {
              "color": "#E5ECF6",
              "width": 0.5
             },
             "pattern": {
              "fillmode": "overlay",
              "size": 10,
              "solidity": 0.2
             }
            },
            "type": "bar"
           }
          ],
          "scattergeo": [
           {
            "type": "scattergeo",
            "marker": {
             "colorbar": {
              "outlinewidth": 0,
              "ticks": ""
             }
            }
           }
          ],
          "scatterpolar": [
           {
            "type": "scatterpolar",
            "marker": {
             "colorbar": {
              "outlinewidth": 0,
              "ticks": ""
             }
            }
           }
          ],
          "histogram": [
           {
            "marker": {
             "pattern": {
              "fillmode": "overlay",
              "size": 10,
              "solidity": 0.2
             }
            },
            "type": "histogram"
           }
          ],
          "scattergl": [
           {
            "type": "scattergl",
            "marker": {
             "colorbar": {
              "outlinewidth": 0,
              "ticks": ""
             }
            }
           }
          ],
          "scatter3d": [
           {
            "type": "scatter3d",
            "line": {
             "colorbar": {
              "outlinewidth": 0,
              "ticks": ""
             }
            },
            "marker": {
             "colorbar": {
              "outlinewidth": 0,
              "ticks": ""
             }
            }
           }
          ],
          "scattermapbox": [
           {
            "type": "scattermapbox",
            "marker": {
             "colorbar": {
              "outlinewidth": 0,
              "ticks": ""
             }
            }
           }
          ],
          "scatterternary": [
           {
            "type": "scatterternary",
            "marker": {
             "colorbar": {
              "outlinewidth": 0,
              "ticks": ""
             }
            }
           }
          ],
          "scattercarpet": [
           {
            "type": "scattercarpet",
            "marker": {
             "colorbar": {
              "outlinewidth": 0,
              "ticks": ""
             }
            }
           }
          ],
          "carpet": [
           {
            "aaxis": {
             "endlinecolor": "#2a3f5f",
             "gridcolor": "white",
             "linecolor": "white",
             "minorgridcolor": "white",
             "startlinecolor": "#2a3f5f"
            },
            "baxis": {
             "endlinecolor": "#2a3f5f",
             "gridcolor": "white",
             "linecolor": "white",
             "minorgridcolor": "white",
             "startlinecolor": "#2a3f5f"
            },
            "type": "carpet"
           }
          ],
          "table": [
           {
            "cells": {
             "fill": {
              "color": "#EBF0F8"
             },
             "line": {
              "color": "white"
             }
            },
            "header": {
             "fill": {
              "color": "#C8D4E3"
             },
             "line": {
              "color": "white"
             }
            },
            "type": "table"
           }
          ],
          "barpolar": [
           {
            "marker": {
             "line": {
              "color": "#E5ECF6",
              "width": 0.5
             },
             "pattern": {
              "fillmode": "overlay",
              "size": 10,
              "solidity": 0.2
             }
            },
            "type": "barpolar"
           }
          ],
          "pie": [
           {
            "automargin": true,
            "type": "pie"
           }
          ]
         },
         "layout": {
          "autotypenumbers": "strict",
          "colorway": [
           "#636efa",
           "#EF553B",
           "#00cc96",
           "#ab63fa",
           "#FFA15A",
           "#19d3f3",
           "#FF6692",
           "#B6E880",
           "#FF97FF",
           "#FECB52"
          ],
          "font": {
           "color": "#2a3f5f"
          },
          "hovermode": "closest",
          "hoverlabel": {
           "align": "left"
          },
          "paper_bgcolor": "white",
          "plot_bgcolor": "#E5ECF6",
          "polar": {
           "bgcolor": "#E5ECF6",
           "angularaxis": {
            "gridcolor": "white",
            "linecolor": "white",
            "ticks": ""
           },
           "radialaxis": {
            "gridcolor": "white",
            "linecolor": "white",
            "ticks": ""
           }
          },
          "ternary": {
           "bgcolor": "#E5ECF6",
           "aaxis": {
            "gridcolor": "white",
            "linecolor": "white",
            "ticks": ""
           },
           "baxis": {
            "gridcolor": "white",
            "linecolor": "white",
            "ticks": ""
           },
           "caxis": {
            "gridcolor": "white",
            "linecolor": "white",
            "ticks": ""
           }
          },
          "coloraxis": {
           "colorbar": {
            "outlinewidth": 0,
            "ticks": ""
           }
          },
          "colorscale": {
           "sequential": [
            [
             0.0,
             "#0d0887"
            ],
            [
             0.1111111111111111,
             "#46039f"
            ],
            [
             0.2222222222222222,
             "#7201a8"
            ],
            [
             0.3333333333333333,
             "#9c179e"
            ],
            [
             0.4444444444444444,
             "#bd3786"
            ],
            [
             0.5555555555555556,
             "#d8576b"
            ],
            [
             0.6666666666666666,
             "#ed7953"
            ],
            [
             0.7777777777777778,
             "#fb9f3a"
            ],
            [
             0.8888888888888888,
             "#fdca26"
            ],
            [
             1.0,
             "#f0f921"
            ]
           ],
           "sequentialminus": [
            [
             0.0,
             "#0d0887"
            ],
            [
             0.1111111111111111,
             "#46039f"
            ],
            [
             0.2222222222222222,
             "#7201a8"
            ],
            [
             0.3333333333333333,
             "#9c179e"
            ],
            [
             0.4444444444444444,
             "#bd3786"
            ],
            [
             0.5555555555555556,
             "#d8576b"
            ],
            [
             0.6666666666666666,
             "#ed7953"
            ],
            [
             0.7777777777777778,
             "#fb9f3a"
            ],
            [
             0.8888888888888888,
             "#fdca26"
            ],
            [
             1.0,
             "#f0f921"
            ]
           ],
           "diverging": [
            [
             0,
             "#8e0152"
            ],
            [
             0.1,
             "#c51b7d"
            ],
            [
             0.2,
             "#de77ae"
            ],
            [
             0.3,
             "#f1b6da"
            ],
            [
             0.4,
             "#fde0ef"
            ],
            [
             0.5,
             "#f7f7f7"
            ],
            [
             0.6,
             "#e6f5d0"
            ],
            [
             0.7,
             "#b8e186"
            ],
            [
             0.8,
             "#7fbc41"
            ],
            [
             0.9,
             "#4d9221"
            ],
            [
             1,
             "#276419"
            ]
           ]
          },
          "xaxis": {
           "gridcolor": "white",
           "linecolor": "white",
           "ticks": "",
           "title": {
            "standoff": 15
           },
           "zerolinecolor": "white",
           "automargin": true,
           "zerolinewidth": 2
          },
          "yaxis": {
           "gridcolor": "white",
           "linecolor": "white",
           "ticks": "",
           "title": {
            "standoff": 15
           },
           "zerolinecolor": "white",
           "automargin": true,
           "zerolinewidth": 2
          },
          "scene": {
           "xaxis": {
            "backgroundcolor": "#E5ECF6",
            "gridcolor": "white",
            "linecolor": "white",
            "showbackground": true,
            "ticks": "",
            "zerolinecolor": "white",
            "gridwidth": 2
           },
           "yaxis": {
            "backgroundcolor": "#E5ECF6",
            "gridcolor": "white",
            "linecolor": "white",
            "showbackground": true,
            "ticks": "",
            "zerolinecolor": "white",
            "gridwidth": 2
           },
           "zaxis": {
            "backgroundcolor": "#E5ECF6",
            "gridcolor": "white",
            "linecolor": "white",
            "showbackground": true,
            "ticks": "",
            "zerolinecolor": "white",
            "gridwidth": 2
           }
          },
          "shapedefaults": {
           "line": {
            "color": "#2a3f5f"
           }
          },
          "annotationdefaults": {
           "arrowcolor": "#2a3f5f",
           "arrowhead": 0,
           "arrowwidth": 1
          },
          "geo": {
           "bgcolor": "white",
           "landcolor": "#E5ECF6",
           "subunitcolor": "white",
           "showland": true,
           "showlakes": true,
           "lakecolor": "white"
          },
          "title": {
           "x": 0.05
          },
          "mapbox": {
           "style": "light"
          }
         }
        }
       },
       "config": {
        "plotlyServerURL": "https://plot.ly"
       }
      },
      "text/html": "<div>                            <div id=\"f7da550c-d402-408c-9aa5-94a0bd4bede2\" class=\"plotly-graph-div\" style=\"height:525px; width:100%;\"></div>            <script type=\"text/javascript\">                require([\"plotly\"], function(Plotly) {                    window.PLOTLYENV=window.PLOTLYENV || {};                                    if (document.getElementById(\"f7da550c-d402-408c-9aa5-94a0bd4bede2\")) {                    Plotly.newPlot(                        \"f7da550c-d402-408c-9aa5-94a0bd4bede2\",                        [{\"histnorm\":\"probability\",\"name\":\"target\",\"nbinsx\":300,\"x\":[1.0,1.0,1.0,1.0,1.0,2.0,2.0,2.0,2.0,2.0,3.0,3.0,3.0,3.0,3.0,3.0,3.0,3.0,3.0,3.0,4.0,4.0,4.0,4.0,5.0,5.0,5.0,6.0,6.0,6.0,6.0,6.0,7.0,7.0,8.0,8.0,8.0,9.0,9.0,9.0,9.0,9.0,10.0,10.0,10.0,10.0,11.0,11.0,12.0,12.0,13.0,13.0,13.0,14.0,14.0,15.0,16.0,17.0,18.0,20.0,22.0,23.0,32.0,38.0,39.0,40.0,55.0,115.0],\"type\":\"histogram\"},{\"name\":\"pred\",\"x\":[1.0,1.0,1.0,1.0,1.0,2.0,2.0,2.0,2.0,2.0,3.0,3.0,3.0,3.0,3.0,3.0,3.0,3.0,3.0,3.0,4.0,4.0,4.0,4.0,5.0,5.0,5.0,6.0,6.0,6.0,6.0,6.0,7.0,7.0,8.0,8.0,8.0,9.0,9.0,9.0,9.0,9.0,10.0,10.0,10.0,10.0,11.0,11.0,12.0,12.0,13.0,13.0,13.0,14.0,14.0,15.0,16.0,17.0,18.0,20.0,22.0,23.0,32.0,38.0,39.0,40.0,55.0,115.0],\"y\":[0.0014006432398349618,0.0014006432398349618,0.0014006432398349618,0.0014006432398349618,0.0014006432398349618,0.0016565013375863464,0.0016565013375863464,0.0016565013375863464,0.0016565013375863464,0.0016565013375863464,0.001825497805931584,0.001825497805931584,0.001825497805931584,0.001825497805931584,0.001825497805931584,0.001825497805931584,0.001825497805931584,0.001825497805931584,0.001825497805931584,0.001825497805931584,0.001955593242121419,0.001955593242121419,0.001955593242121419,0.001955593242121419,0.0020625732074359394,0.0020625732074359394,0.0020625732074359394,0.0021539068767008106,0.0021539068767008106,0.0021539068767008106,0.0021539068767008106,0.0021539068767008106,0.0022337962950083074,0.0022337962950083074,0.00230486889386613,0.00230486889386613,0.00230486889386613,0.002368890407209517,0.002368890407209517,0.002368890407209517,0.002368890407209517,0.002368890407209517,0.002427111661756226,0.002427111661756226,0.002427111661756226,0.002427111661756226,0.002480455158682634,0.002480455158682634,0.0025296232899922476,0.0025296232899922476,0.002575164877913596,0.002575164877913596,0.002575164877913596,0.0026175180496007594,0.0026175180496007594,0.0026570389463444494,0.0026940215759766566,0.002728711921247299,0.002761318204840505,0.0028209665570539033,0.002874124434078034,0.0028985550428661825,0.0030680075218092098,0.003142838404227285,0.0031530103836601713,0.0031625935796721462,0.003248144904968525,0.0030138831439679797],\"type\":\"scatter\"},{\"name\":\"GT1\",\"x\":[1,1,1,1,1,2,2,2,2,2,3,3,3,3,3,3,3,3,3,3,4,4,4,4,5,5,5,6,6,6,6,6,7,7,8,8,8,9,9,9,9,9,10,10,10,10,11,11,12,12,13,13,13,14,14,15,16,17,18,20,22,23,32,38,39,40,55],\"y\":[0.032383419689119175,0.032383419689119175,0.032383419689119175,0.032383419689119175,0.032383419689119175,0.03153900196580451,0.03153900196580451,0.03153900196580451,0.03153900196580451,0.03153900196580451,0.03071120663861797,0.03071120663861797,0.03071120663861797,0.03071120663861797,0.03071120663861797,0.03071120663861797,0.03071120663861797,0.03071120663861797,0.03071120663861797,0.03071120663861797,0.029899814125048205,0.029899814125048205,0.029899814125048205,0.029899814125048205,0.029104606302573454,0.029104606302573454,0.029104606302573454,0.028325366508662516,0.028325366508662516,0.028325366508662516,0.028325366508662516,0.028325366508662516,0.027561879540774048,0.027561879540774048,0.026813931656356826,0.026813931656356826,0.026813931656356826,0.02608131057284983,0.02608131057284983,0.02608131057284983,0.02608131057284983,0.02608131057284983,0.025363805467682028,0.025363805467682028,0.025363805467682028,0.025363805467682028,0.024661206978272565,0.024661206978272565,0.023973307202030673,0.023973307202030673,0.023299899696355632,0.023299899696355632,0.023299899696355632,0.022640779478636942,0.022640779478636942,0.021995743026254136,0.021364588276576824,0.020747114626964797,0.020143122934767835,0.018974796151969228,0.017858043986781848,0.017318526041561817,0.01299479966496055,0.010600748679140834,0.010236461782950408,0.009881645083368074,0.005586710202169101],\"type\":\"scatter\"},{\"name\":\"GT2\",\"x\":[1,1,1,1,1,2,2,2,2,2,3,3,3,3,3,3,3,3,3,3,4,4,4,4,5,5,5,6,6,6,6,6,7,7,8,8,8,9,9,9,9,9,10,10,10,10,11,11,12,12,13,13,13,14,14,15,16,17,18,20,22,23,32,38,39,40,55],\"y\":[0.00948954504471422,0.00948954504471422,0.00948954504471422,0.00948954504471422,0.00948954504471422,0.00952531316486612,0.00952531316486612,0.00952531316486612,0.00952531316486612,0.00952531316486612,0.009561193352930283,0.009561193352930283,0.009561193352930283,0.009561193352930283,0.009561193352930283,0.009561193352930283,0.009561193352930283,0.009561193352930283,0.009561193352930283,0.009561193352930283,0.009597184877821534,0.009597184877821534,0.009597184877821534,0.009597184877821534,0.009633286958232868,0.009633286958232868,0.009633286958232868,0.009669498760169717,0.009669498760169717,0.009669498760169717,0.009669498760169717,0.009669498760169717,0.009705819394338575,0.009705819394338575,0.00974224791338314,0.00974224791338314,0.00974224791338314,0.009778783308959831,0.009778783308959831,0.009778783308959831,0.009778783308959831,0.009778783308959831,0.00981542450862723,0.00981542450862723,0.00981542450862723,0.00981542450862723,0.009852170372553197,0.009852170372553197,0.009889019690017193,0.009889019690017193,0.00992597117569207,0.00992597117569207,0.00992597117569207,0.009963023465687244,0.009963023465687244,0.010000175113343683,0.010037424584750607,0.010074770253967939,0.010112210397927328,0.010187366699135626,0.010262877544853756,0.010300760414198602,0.010645041442960362,0.010877043914222414,0.010915818587277455,0.010954608331856177,0.011532300827368842],\"type\":\"scatter\"},{\"name\":\"GT3\",\"x\":[1,1,1,1,1,2,2,2,2,2,3,3,3,3,3,3,3,3,3,3,4,4,4,4,5,5,5,6,6,6,6,6,7,7,8,8,8,9,9,9,9,9,10,10,10,10,11,11,12,12,13,13,13,14,14,15,16,17,18,20,22,23,32,38,39,40,55],\"y\":[0.031247764738712047,0.031247764738712047,0.031247764738712047,0.031247764738712047,0.031247764738712047,0.030489972432331165,0.030489972432331165,0.030489972432331165,0.030489972432331165,0.030489972432331165,0.029744975137118046,0.029744975137118046,0.029744975137118046,0.029744975137118046,0.029744975137118046,0.029744975137118046,0.029744975137118046,0.029744975137118046,0.029744975137118046,0.029744975137118046,0.029012660839985778,0.029012660839985778,0.029012660839985778,0.029012660839985778,0.028292917282183028,0.028292917282183028,0.028292917282183028,0.0275856319668126,0.0275856319668126,0.0275856319668126,0.0275856319668126,0.0275856319668126,0.026890692166448994,0.026890692166448994,0.02620798493085919,0.02620798493085919,0.02620798493085919,0.025537397094824846,0.025537397094824846,0.025537397094824846,0.025537397094824846,0.025537397094824846,0.024878815286068504,0.024878815286068504,0.024878815286068504,0.024878815286068504,0.024232125933283468,0.024232125933283468,0.023597215274268713,0.023597215274268713,0.02297396936417014,0.02297396936417014,0.02297396936417014,0.022362274083827783,0.022362274083827783,0.021762015148231367,0.021173078115084194,0.020595348393475883,0.020028711252666115,0.01892825514481054,0.017870789489799425,0.01735789002675236,0.013196008574289628,0.010847880332637866,0.010487536351846226,0.01013574473191027,0.00580710873853422],\"type\":\"scatter\"}],                        {\"title\":{\"text\":\"idx = 364,seed=3| GT = [3.76727937 3.39854408 3.36151149 4.6639514 ] | NN = 6.12369009306881\"},\"xaxis\":{\"title\":{\"text\":\"duration\"}},\"yaxis\":{\"title\":{\"text\":\"density\"}},\"template\":{\"data\":{\"histogram2dcontour\":[{\"type\":\"histogram2dcontour\",\"colorbar\":{\"outlinewidth\":0,\"ticks\":\"\"},\"colorscale\":[[0.0,\"#0d0887\"],[0.1111111111111111,\"#46039f\"],[0.2222222222222222,\"#7201a8\"],[0.3333333333333333,\"#9c179e\"],[0.4444444444444444,\"#bd3786\"],[0.5555555555555556,\"#d8576b\"],[0.6666666666666666,\"#ed7953\"],[0.7777777777777778,\"#fb9f3a\"],[0.8888888888888888,\"#fdca26\"],[1.0,\"#f0f921\"]]}],\"choropleth\":[{\"type\":\"choropleth\",\"colorbar\":{\"outlinewidth\":0,\"ticks\":\"\"}}],\"histogram2d\":[{\"type\":\"histogram2d\",\"colorbar\":{\"outlinewidth\":0,\"ticks\":\"\"},\"colorscale\":[[0.0,\"#0d0887\"],[0.1111111111111111,\"#46039f\"],[0.2222222222222222,\"#7201a8\"],[0.3333333333333333,\"#9c179e\"],[0.4444444444444444,\"#bd3786\"],[0.5555555555555556,\"#d8576b\"],[0.6666666666666666,\"#ed7953\"],[0.7777777777777778,\"#fb9f3a\"],[0.8888888888888888,\"#fdca26\"],[1.0,\"#f0f921\"]]}],\"heatmap\":[{\"type\":\"heatmap\",\"colorbar\":{\"outlinewidth\":0,\"ticks\":\"\"},\"colorscale\":[[0.0,\"#0d0887\"],[0.1111111111111111,\"#46039f\"],[0.2222222222222222,\"#7201a8\"],[0.3333333333333333,\"#9c179e\"],[0.4444444444444444,\"#bd3786\"],[0.5555555555555556,\"#d8576b\"],[0.6666666666666666,\"#ed7953\"],[0.7777777777777778,\"#fb9f3a\"],[0.8888888888888888,\"#fdca26\"],[1.0,\"#f0f921\"]]}],\"heatmapgl\":[{\"type\":\"heatmapgl\",\"colorbar\":{\"outlinewidth\":0,\"ticks\":\"\"},\"colorscale\":[[0.0,\"#0d0887\"],[0.1111111111111111,\"#46039f\"],[0.2222222222222222,\"#7201a8\"],[0.3333333333333333,\"#9c179e\"],[0.4444444444444444,\"#bd3786\"],[0.5555555555555556,\"#d8576b\"],[0.6666666666666666,\"#ed7953\"],[0.7777777777777778,\"#fb9f3a\"],[0.8888888888888888,\"#fdca26\"],[1.0,\"#f0f921\"]]}],\"contourcarpet\":[{\"type\":\"contourcarpet\",\"colorbar\":{\"outlinewidth\":0,\"ticks\":\"\"}}],\"contour\":[{\"type\":\"contour\",\"colorbar\":{\"outlinewidth\":0,\"ticks\":\"\"},\"colorscale\":[[0.0,\"#0d0887\"],[0.1111111111111111,\"#46039f\"],[0.2222222222222222,\"#7201a8\"],[0.3333333333333333,\"#9c179e\"],[0.4444444444444444,\"#bd3786\"],[0.5555555555555556,\"#d8576b\"],[0.6666666666666666,\"#ed7953\"],[0.7777777777777778,\"#fb9f3a\"],[0.8888888888888888,\"#fdca26\"],[1.0,\"#f0f921\"]]}],\"surface\":[{\"type\":\"surface\",\"colorbar\":{\"outlinewidth\":0,\"ticks\":\"\"},\"colorscale\":[[0.0,\"#0d0887\"],[0.1111111111111111,\"#46039f\"],[0.2222222222222222,\"#7201a8\"],[0.3333333333333333,\"#9c179e\"],[0.4444444444444444,\"#bd3786\"],[0.5555555555555556,\"#d8576b\"],[0.6666666666666666,\"#ed7953\"],[0.7777777777777778,\"#fb9f3a\"],[0.8888888888888888,\"#fdca26\"],[1.0,\"#f0f921\"]]}],\"mesh3d\":[{\"type\":\"mesh3d\",\"colorbar\":{\"outlinewidth\":0,\"ticks\":\"\"}}],\"scatter\":[{\"fillpattern\":{\"fillmode\":\"overlay\",\"size\":10,\"solidity\":0.2},\"type\":\"scatter\"}],\"parcoords\":[{\"type\":\"parcoords\",\"line\":{\"colorbar\":{\"outlinewidth\":0,\"ticks\":\"\"}}}],\"scatterpolargl\":[{\"type\":\"scatterpolargl\",\"marker\":{\"colorbar\":{\"outlinewidth\":0,\"ticks\":\"\"}}}],\"bar\":[{\"error_x\":{\"color\":\"#2a3f5f\"},\"error_y\":{\"color\":\"#2a3f5f\"},\"marker\":{\"line\":{\"color\":\"#E5ECF6\",\"width\":0.5},\"pattern\":{\"fillmode\":\"overlay\",\"size\":10,\"solidity\":0.2}},\"type\":\"bar\"}],\"scattergeo\":[{\"type\":\"scattergeo\",\"marker\":{\"colorbar\":{\"outlinewidth\":0,\"ticks\":\"\"}}}],\"scatterpolar\":[{\"type\":\"scatterpolar\",\"marker\":{\"colorbar\":{\"outlinewidth\":0,\"ticks\":\"\"}}}],\"histogram\":[{\"marker\":{\"pattern\":{\"fillmode\":\"overlay\",\"size\":10,\"solidity\":0.2}},\"type\":\"histogram\"}],\"scattergl\":[{\"type\":\"scattergl\",\"marker\":{\"colorbar\":{\"outlinewidth\":0,\"ticks\":\"\"}}}],\"scatter3d\":[{\"type\":\"scatter3d\",\"line\":{\"colorbar\":{\"outlinewidth\":0,\"ticks\":\"\"}},\"marker\":{\"colorbar\":{\"outlinewidth\":0,\"ticks\":\"\"}}}],\"scattermapbox\":[{\"type\":\"scattermapbox\",\"marker\":{\"colorbar\":{\"outlinewidth\":0,\"ticks\":\"\"}}}],\"scatterternary\":[{\"type\":\"scatterternary\",\"marker\":{\"colorbar\":{\"outlinewidth\":0,\"ticks\":\"\"}}}],\"scattercarpet\":[{\"type\":\"scattercarpet\",\"marker\":{\"colorbar\":{\"outlinewidth\":0,\"ticks\":\"\"}}}],\"carpet\":[{\"aaxis\":{\"endlinecolor\":\"#2a3f5f\",\"gridcolor\":\"white\",\"linecolor\":\"white\",\"minorgridcolor\":\"white\",\"startlinecolor\":\"#2a3f5f\"},\"baxis\":{\"endlinecolor\":\"#2a3f5f\",\"gridcolor\":\"white\",\"linecolor\":\"white\",\"minorgridcolor\":\"white\",\"startlinecolor\":\"#2a3f5f\"},\"type\":\"carpet\"}],\"table\":[{\"cells\":{\"fill\":{\"color\":\"#EBF0F8\"},\"line\":{\"color\":\"white\"}},\"header\":{\"fill\":{\"color\":\"#C8D4E3\"},\"line\":{\"color\":\"white\"}},\"type\":\"table\"}],\"barpolar\":[{\"marker\":{\"line\":{\"color\":\"#E5ECF6\",\"width\":0.5},\"pattern\":{\"fillmode\":\"overlay\",\"size\":10,\"solidity\":0.2}},\"type\":\"barpolar\"}],\"pie\":[{\"automargin\":true,\"type\":\"pie\"}]},\"layout\":{\"autotypenumbers\":\"strict\",\"colorway\":[\"#636efa\",\"#EF553B\",\"#00cc96\",\"#ab63fa\",\"#FFA15A\",\"#19d3f3\",\"#FF6692\",\"#B6E880\",\"#FF97FF\",\"#FECB52\"],\"font\":{\"color\":\"#2a3f5f\"},\"hovermode\":\"closest\",\"hoverlabel\":{\"align\":\"left\"},\"paper_bgcolor\":\"white\",\"plot_bgcolor\":\"#E5ECF6\",\"polar\":{\"bgcolor\":\"#E5ECF6\",\"angularaxis\":{\"gridcolor\":\"white\",\"linecolor\":\"white\",\"ticks\":\"\"},\"radialaxis\":{\"gridcolor\":\"white\",\"linecolor\":\"white\",\"ticks\":\"\"}},\"ternary\":{\"bgcolor\":\"#E5ECF6\",\"aaxis\":{\"gridcolor\":\"white\",\"linecolor\":\"white\",\"ticks\":\"\"},\"baxis\":{\"gridcolor\":\"white\",\"linecolor\":\"white\",\"ticks\":\"\"},\"caxis\":{\"gridcolor\":\"white\",\"linecolor\":\"white\",\"ticks\":\"\"}},\"coloraxis\":{\"colorbar\":{\"outlinewidth\":0,\"ticks\":\"\"}},\"colorscale\":{\"sequential\":[[0.0,\"#0d0887\"],[0.1111111111111111,\"#46039f\"],[0.2222222222222222,\"#7201a8\"],[0.3333333333333333,\"#9c179e\"],[0.4444444444444444,\"#bd3786\"],[0.5555555555555556,\"#d8576b\"],[0.6666666666666666,\"#ed7953\"],[0.7777777777777778,\"#fb9f3a\"],[0.8888888888888888,\"#fdca26\"],[1.0,\"#f0f921\"]],\"sequentialminus\":[[0.0,\"#0d0887\"],[0.1111111111111111,\"#46039f\"],[0.2222222222222222,\"#7201a8\"],[0.3333333333333333,\"#9c179e\"],[0.4444444444444444,\"#bd3786\"],[0.5555555555555556,\"#d8576b\"],[0.6666666666666666,\"#ed7953\"],[0.7777777777777778,\"#fb9f3a\"],[0.8888888888888888,\"#fdca26\"],[1.0,\"#f0f921\"]],\"diverging\":[[0,\"#8e0152\"],[0.1,\"#c51b7d\"],[0.2,\"#de77ae\"],[0.3,\"#f1b6da\"],[0.4,\"#fde0ef\"],[0.5,\"#f7f7f7\"],[0.6,\"#e6f5d0\"],[0.7,\"#b8e186\"],[0.8,\"#7fbc41\"],[0.9,\"#4d9221\"],[1,\"#276419\"]]},\"xaxis\":{\"gridcolor\":\"white\",\"linecolor\":\"white\",\"ticks\":\"\",\"title\":{\"standoff\":15},\"zerolinecolor\":\"white\",\"automargin\":true,\"zerolinewidth\":2},\"yaxis\":{\"gridcolor\":\"white\",\"linecolor\":\"white\",\"ticks\":\"\",\"title\":{\"standoff\":15},\"zerolinecolor\":\"white\",\"automargin\":true,\"zerolinewidth\":2},\"scene\":{\"xaxis\":{\"backgroundcolor\":\"#E5ECF6\",\"gridcolor\":\"white\",\"linecolor\":\"white\",\"showbackground\":true,\"ticks\":\"\",\"zerolinecolor\":\"white\",\"gridwidth\":2},\"yaxis\":{\"backgroundcolor\":\"#E5ECF6\",\"gridcolor\":\"white\",\"linecolor\":\"white\",\"showbackground\":true,\"ticks\":\"\",\"zerolinecolor\":\"white\",\"gridwidth\":2},\"zaxis\":{\"backgroundcolor\":\"#E5ECF6\",\"gridcolor\":\"white\",\"linecolor\":\"white\",\"showbackground\":true,\"ticks\":\"\",\"zerolinecolor\":\"white\",\"gridwidth\":2}},\"shapedefaults\":{\"line\":{\"color\":\"#2a3f5f\"}},\"annotationdefaults\":{\"arrowcolor\":\"#2a3f5f\",\"arrowhead\":0,\"arrowwidth\":1},\"geo\":{\"bgcolor\":\"white\",\"landcolor\":\"#E5ECF6\",\"subunitcolor\":\"white\",\"showland\":true,\"showlakes\":true,\"lakecolor\":\"white\"},\"title\":{\"x\":0.05},\"mapbox\":{\"style\":\"light\"}}}},                        {\"responsive\": true}                    ).then(function(){\n                            \nvar gd = document.getElementById('f7da550c-d402-408c-9aa5-94a0bd4bede2');\nvar x = new MutationObserver(function (mutations, observer) {{\n        var display = window.getComputedStyle(gd).display;\n        if (!display || display === 'none') {{\n            console.log([gd, 'removed!']);\n            Plotly.purge(gd);\n            observer.disconnect();\n        }}\n}});\n\n// Listen for the removal of the full notebook cells\nvar notebookContainer = gd.closest('#notebook-container');\nif (notebookContainer) {{\n    x.observe(notebookContainer, {childList: true});\n}}\n\n// Listen for the clearing of the current output cell\nvar outputEl = gd.closest('.output');\nif (outputEl) {{\n    x.observe(outputEl, {childList: true});\n}}\n\n                        })                };                });            </script>        </div>"
     },
     "metadata": {},
     "output_type": "display_data"
    },
    {
     "name": "stderr",
     "output_type": "stream",
     "text": [
      "100%|██████████| 1/1 [00:02<00:00,  2.17s/it]"
     ]
    },
    {
     "name": "stdout",
     "output_type": "stream",
     "text": [
      "Done\n"
     ]
    },
    {
     "name": "stderr",
     "output_type": "stream",
     "text": [
      "\n"
     ]
    }
   ],
   "source": [
    "NLL_test_sum = 0.\n",
    "GT_metric = torch.tensor([0.,0.,0.,0.]).reshape(1,-1)\n",
    "\n",
    "for i in tqdm(range(rangeA,rangeB)):\n",
    "    if SPECIFIC:\n",
    "        idx_file = file_idx\n",
    "    train_data, target_data ,_, settings_data, metric_df = dataset.__getitem__(idx_file)\n",
    "\n",
    "    d, b, v, flg_fixedprice = settings_data   # bidincrement,bidfee,retail,flg_fixedprice\n",
    "\n",
    "    # 给GT-1和GT-2画图，通过target_data得到U和P，从而画图\n",
    "    duration = target_data[:,0]\n",
    "    duration_max = max(duration)\n",
    "\n",
    "    LEN, T = get_LEN_T(v, b, d, duration_max)\n",
    "\n",
    "    U_1 = get_U_GT1(LEN, v, d, b,eps = 0.)\n",
    "    alpha_2 = params_2.iloc[idx_file,0]\n",
    "    labda_2 = params_2.iloc[idx_file,1]\n",
    "    U_2 = get_U_GT2(LEN, v, d, b, alpha_2, labda_2,eps = 0.)\n",
    "    alpha_3 = params_3.iloc[idx_file,0]\n",
    "    U_3 = get_U_GT3(LEN, v, d, b, alpha_3, eps = 0.)\n",
    "\n",
    "\n",
    "    # Get x-axis data for GT models\n",
    "    max_num = min(duration_max,T)\n",
    "    duration_int = [int(x) for x in duration]\n",
    "    duration_idx = [int(x) for x in duration if x < max_num]\n",
    "    duration_idx_index = [i-1 for i in duration_idx]\n",
    "\n",
    "    P_1 = get_P(U_1,LEN)\n",
    "    P_1_plot = P_1[duration_idx_index]\n",
    "    P_2 = get_P(U_2,LEN)\n",
    "    P_2_plot = P_2[duration_idx_index]\n",
    "    P_3 = get_P(U_3,LEN)\n",
    "    P_3_plot = P_3[duration_idx_index]\n",
    "\n",
    "    # Cal metric\n",
    "    if RECAl_METRIC:\n",
    "        GT_2_nll = get_nll_meric(duration, U_2, LEN,TARGET = 1)\n",
    "        GT_3_nll = get_nll_meric(duration, U_3, LEN,TARGET = 1)\n",
    "        print(\"GT-2 metric: \",GT_2_nll)\n",
    "        print(\"GT-3 metric: \",GT_3_nll)\n",
    "    if SHOW_GT3:\n",
    "        print(f\"GT-3 has alpha: {alpha_3}\")\n",
    "\n",
    "    # Get distrb.\n",
    "    my_collate_fn = functools.partial(my_collate_fn_3, INPUT_LIST=INPUT_LIST)\n",
    "    _,_,test_loader = get_data_loader(dataset, opt.batch_size, test_idx, test_idx, test_idx, my_collate_fn)\n",
    "    mlp.eval()\n",
    "    with torch.no_grad():\n",
    "        for batch_id, data in enumerate(test_loader):\n",
    "            input_data, _, _, _, _ = data\n",
    "            input_data = input_data.to(device)\n",
    "            pi_idx, scale_idx, shape_idx = mlp(input_data)\n",
    "\n",
    "    # Cal nll of MDN\n",
    "    nll = cal_metric(pi_idx.unsqueeze(0), scale_idx.unsqueeze(0), shape_idx.unsqueeze(0), torch.tensor(target_data).unsqueeze(0), opt.N_gaussians, settings_data, opt.MIN_LOSS, device)\n",
    "\n",
    "    NLL_test_sum += nll.detach().cpu().numpy()\n",
    "    GT_metric += metric_df\n",
    "\n",
    "    target_nonzero = np.expand_dims(duration,axis=1)        # For plotting here\n",
    "    print(f\"target_nonzero.shape = {target_nonzero.shape}\")\n",
    "\n",
    "    # 注意repeat的方式不同\n",
    "    target_nonzero_2 = torch.tensor(target_nonzero.repeat(opt.N_gaussians,1)).to(device=device)\n",
    "    print(f\"target_nonzero_2.shape = {target_nonzero_2.shape}\")\n",
    "    m = torch.distributions.Weibull(scale_idx,shape_idx)\n",
    "    loss_1 = (m.cdf(target_nonzero_2 + 0.5) - m.cdf(target_nonzero_2 - 0.5)).to(device=device)\n",
    "    prob_pred = torch.sum(loss_1 * pi_idx, dim=1)\n",
    "    prob_pred_np = prob_pred.detach().cpu().numpy()\n",
    "\n",
    "    ### NORMALIZATION\n",
    "    if NORMALIZATION:\n",
    "        P_1_plot = P_1_plot/P_1_plot.sum()\n",
    "        P_2_plot = P_2_plot/P_2_plot.sum()\n",
    "        P_3_plot = P_3_plot/P_3_plot.sum()\n",
    "        prob_pred_np = prob_pred_np/prob_pred_np.sum()\n",
    "\n",
    "    hist_trace = go.Histogram(x=duration, nbinsx=NBins, histnorm='probability',name='target')\n",
    "    line_trace = go.Scatter(x=duration, y=prob_pred_np, name='pred')\n",
    "    line_trace_1 = go.Scatter(x=duration_idx, y=P_1_plot, name='GT1')\n",
    "    line_trace_2 = go.Scatter(x=duration_idx, y=P_2_plot, name='GT2')\n",
    "    line_trace_3 = go.Scatter(x=duration_idx, y=P_3_plot, name='GT3')\n",
    "\n",
    "    # Create a layout\n",
    "    layout = go.Layout(title=f'idx = {idx_file},seed={opt.seed}| GT = {metric_df} | NN = {nll}', xaxis=dict(title='duration'), yaxis=dict(title='density'))\n",
    "    # Combine the traces into a single figure\n",
    "    fig = go.Figure(data=[hist_trace, line_trace,line_trace_1,line_trace_2,line_trace_3], layout=layout)\n",
    "\n",
    "    # Show the figure\n",
    "    plot_html = fig.to_html(full_html=False)\n",
    "    fig.show()\n",
    "\n",
    "    if SAVE_DATA and not opt.ARTIFICIAL:\n",
    "        path_root_i = \"Real_\"+\"keyid=\" + str(file_idx)+\"_seed=\" + str(opt.seed)\n",
    "        folder_path = os.path.join(opt.fig_path,path_root_i)\n",
    "        if not os.path.exists(folder_path):\n",
    "            os.makedirs(folder_path)\n",
    "\n",
    "        # Get full prediction: prob_pred_np\n",
    "        target_nonzero_data = torch.arange(1,max(duration_int)+1).reshape(-1,1)     # For output data\n",
    "\n",
    "        target_nonzero_2 = torch.tensor(target_nonzero_data.repeat(opt.N_gaussians,1)).to(device=device)\n",
    "\n",
    "        loss_1 = (m.cdf(target_nonzero_2 + 0.5) - m.cdf(target_nonzero_2 - 0.5)).to(device=device)\n",
    "        prob_pred = torch.sum(loss_1 * pi_idx, dim=1)\n",
    "        prob_pred_np = prob_pred.detach().cpu().numpy()\n",
    "\n",
    "        assert len(prob_pred_np)==max(duration_int),\"Wrong Length\"\n",
    "        # Save the GT data\n",
    "        GT_data_arr= np.array([0.]*max(duration_int)*6).reshape(-1,6)\n",
    "        GT_data_i = pd.DataFrame(GT_data_arr,columns=['N','GT1','GT2','GT3','pred','target'])\n",
    "\n",
    "        # 所有的duration, value从1开始\n",
    "        # 表格长度取决于duration的长度\n",
    "        GT_data_i.loc[:,'N'] = np.arange(1,max(duration_int)+1)\n",
    "        target_p = target_data[:,1]\n",
    "        # 如果有预测值/实际值，赋值为prob. 否则依然是0\n",
    "        # 注意这里取的全部的P sequence，而不仅仅是target data中出现的duration的p\n",
    "        assert len(P_1) == len(P_2)\n",
    "        for i in range(0,max(duration_idx)):\n",
    "            GT_data_i.loc[i,'GT1'] = P_1[i]\n",
    "            GT_data_i.loc[i,'GT2'] = P_2[i]\n",
    "            GT_data_i.loc[i,'GT3'] = P_3[i]\n",
    "        # MDN和target data永远可以把表格填满\n",
    "        for i in range(0,len(GT_data_i)):\n",
    "            # 注意这里取的全部的P sequence，而不仅仅是target data中出现的duration的p\n",
    "            GT_data_i.loc[i,'pred'] = prob_pred_np[i]\n",
    "            # 先获取某个index是否在target上有对应的数据\n",
    "            if i+1 in target_data[:,0]:\n",
    "                idx_i = np.where(target_data[:,0]==i+1)[0][0]\n",
    "                # print(idx_i)\n",
    "                # 根据idx_i获取对应的p，因为真实数据的缘故，所以这一列其实会有很多0\n",
    "                GT_data_i.loc[i,'target'] = target_data[idx_i,1]\n",
    "\n",
    "        file_name = \"data.csv\"\n",
    "        file_path = os.path.join(folder_path,file_name)\n",
    "        GT_data_i.to_csv(file_path,header = True,index = False, encoding=\"utf-8\")\n",
    "\n",
    "print(\"Done\")"
   ],
   "metadata": {
    "collapsed": false
   }
  },
  {
   "cell_type": "code",
   "execution_count": 46,
   "outputs": [
    {
     "data": {
      "text/plain": "(0.02401447095321102,\n tensor([[0.0148, 0.0133, 0.0132, 0.0183]], dtype=torch.float64))"
     },
     "execution_count": 46,
     "metadata": {},
     "output_type": "execute_result"
    }
   ],
   "source": [
    "# GT_metric.shape\n",
    "NLL_test_sum/len(test_idx),GT_metric/len(test_idx)"
   ],
   "metadata": {
    "collapsed": false
   }
  },
  {
   "cell_type": "markdown",
   "source": [
    "# 4. 重新可视化\n",
    "1. 读取csv，重新整理画图的间距"
   ],
   "metadata": {
    "collapsed": false
   }
  },
  {
   "cell_type": "code",
   "execution_count": 39,
   "outputs": [],
   "source": [
    "idx = 4   # Output file index [1,2,3]\n",
    "data_path = \"D://Desktop/MDN_papaer_results/plot_curve_\"+str(idx)+\"_v2.csv\"\n",
    "out_path = \"D://Desktop/MDN_papaer_results/sum_plot_curve_\"+str(idx)+\"_v2.csv\""
   ],
   "metadata": {
    "collapsed": false
   }
  },
  {
   "cell_type": "code",
   "execution_count": 40,
   "outputs": [
    {
     "data": {
      "text/plain": "['GT1(MDN) (NLL: 7.335)',\n 'GT2(MDN) (NLL: 8.416)',\n 'EMD (NLL: 7.427)',\n 'GT1+EMD (NLL: 7.192)',\n 'GT2+EMD (NLL: 7.114)',\n 'GT1+GT2 (NLL: 7.352)',\n 'GT1_GT2_EMD (NLL: 7.133)']"
     },
     "execution_count": 40,
     "metadata": {},
     "output_type": "execute_result"
    }
   ],
   "source": [
    "data_plot = pd.read_csv(data_path, encoding=\"utf-8\")\n",
    "col = data_plot.columns.tolist()\n",
    "col"
   ],
   "metadata": {
    "collapsed": false
   }
  },
  {
   "cell_type": "code",
   "execution_count": 41,
   "outputs": [
    {
     "data": {
      "text/plain": "   GT1(MDN) (NLL: 7.335)  GT2(MDN) (NLL: 8.416)  EMD (NLL: 7.427)  \\\n0               0.003975               0.069138          0.002500   \n1               0.003492               0.037844          0.002748   \n2               0.003243               0.026962          0.002892   \n3               0.003077               0.021187          0.002992   \n4               0.002953               0.017551          0.003067   \n\n   GT1+EMD (NLL: 7.192)  GT2+EMD (NLL: 7.114)  GT1+GT2 (NLL: 7.352)  \\\n0              0.000236              0.000553              0.005094   \n1              0.000275              0.000593              0.004341   \n2              0.000301              0.000619              0.003968   \n3              0.000321              0.000640              0.003723   \n4              0.000338              0.000657              0.003543   \n\n   GT1_GT2_EMD (NLL: 7.133)  \n0                  0.000226  \n1                  0.000282  \n2                  0.000320  \n3                  0.000350  \n4                  0.000375  ",
      "text/html": "<div>\n<style scoped>\n    .dataframe tbody tr th:only-of-type {\n        vertical-align: middle;\n    }\n\n    .dataframe tbody tr th {\n        vertical-align: top;\n    }\n\n    .dataframe thead th {\n        text-align: right;\n    }\n</style>\n<table border=\"1\" class=\"dataframe\">\n  <thead>\n    <tr style=\"text-align: right;\">\n      <th></th>\n      <th>GT1(MDN) (NLL: 7.335)</th>\n      <th>GT2(MDN) (NLL: 8.416)</th>\n      <th>EMD (NLL: 7.427)</th>\n      <th>GT1+EMD (NLL: 7.192)</th>\n      <th>GT2+EMD (NLL: 7.114)</th>\n      <th>GT1+GT2 (NLL: 7.352)</th>\n      <th>GT1_GT2_EMD (NLL: 7.133)</th>\n    </tr>\n  </thead>\n  <tbody>\n    <tr>\n      <th>0</th>\n      <td>0.003975</td>\n      <td>0.069138</td>\n      <td>0.002500</td>\n      <td>0.000236</td>\n      <td>0.000553</td>\n      <td>0.005094</td>\n      <td>0.000226</td>\n    </tr>\n    <tr>\n      <th>1</th>\n      <td>0.003492</td>\n      <td>0.037844</td>\n      <td>0.002748</td>\n      <td>0.000275</td>\n      <td>0.000593</td>\n      <td>0.004341</td>\n      <td>0.000282</td>\n    </tr>\n    <tr>\n      <th>2</th>\n      <td>0.003243</td>\n      <td>0.026962</td>\n      <td>0.002892</td>\n      <td>0.000301</td>\n      <td>0.000619</td>\n      <td>0.003968</td>\n      <td>0.000320</td>\n    </tr>\n    <tr>\n      <th>3</th>\n      <td>0.003077</td>\n      <td>0.021187</td>\n      <td>0.002992</td>\n      <td>0.000321</td>\n      <td>0.000640</td>\n      <td>0.003723</td>\n      <td>0.000350</td>\n    </tr>\n    <tr>\n      <th>4</th>\n      <td>0.002953</td>\n      <td>0.017551</td>\n      <td>0.003067</td>\n      <td>0.000338</td>\n      <td>0.000657</td>\n      <td>0.003543</td>\n      <td>0.000375</td>\n    </tr>\n  </tbody>\n</table>\n</div>"
     },
     "execution_count": 41,
     "metadata": {},
     "output_type": "execute_result"
    }
   ],
   "source": [
    "data_plot.head()"
   ],
   "metadata": {
    "collapsed": false
   }
  },
  {
   "cell_type": "code",
   "execution_count": 48,
   "outputs": [
    {
     "data": {
      "text/plain": "(125, 7)"
     },
     "execution_count": 48,
     "metadata": {},
     "output_type": "execute_result"
    }
   ],
   "source": [
    "interval = 10 # Sum interval\n",
    "len_plot = int(np.ceil(data_plot.shape[0]/interval))  # summed_plot的行数\n",
    "summed_plot_arr = np.array([0]*len(col)*len_plot).reshape(-1,len(col))\n",
    "summed_plot = pd.DataFrame(summed_plot_arr,columns=col)\n",
    "summed_plot.shape"
   ],
   "metadata": {
    "collapsed": false
   }
  },
  {
   "cell_type": "code",
   "execution_count": 49,
   "outputs": [
    {
     "data": {
      "text/plain": "   GT1(MDN) (NLL: 7.335)  GT2(MDN) (NLL: 8.416)  EMD (NLL: 7.427)  \\\n0                      0                      0                 0   \n1                      0                      0                 0   \n2                      0                      0                 0   \n3                      0                      0                 0   \n4                      0                      0                 0   \n\n   GT1+EMD (NLL: 7.192)  GT2+EMD (NLL: 7.114)  GT1+GT2 (NLL: 7.352)  \\\n0                     0                     0                     0   \n1                     0                     0                     0   \n2                     0                     0                     0   \n3                     0                     0                     0   \n4                     0                     0                     0   \n\n   GT1_GT2_EMD (NLL: 7.133)  \n0                         0  \n1                         0  \n2                         0  \n3                         0  \n4                         0  ",
      "text/html": "<div>\n<style scoped>\n    .dataframe tbody tr th:only-of-type {\n        vertical-align: middle;\n    }\n\n    .dataframe tbody tr th {\n        vertical-align: top;\n    }\n\n    .dataframe thead th {\n        text-align: right;\n    }\n</style>\n<table border=\"1\" class=\"dataframe\">\n  <thead>\n    <tr style=\"text-align: right;\">\n      <th></th>\n      <th>GT1(MDN) (NLL: 7.335)</th>\n      <th>GT2(MDN) (NLL: 8.416)</th>\n      <th>EMD (NLL: 7.427)</th>\n      <th>GT1+EMD (NLL: 7.192)</th>\n      <th>GT2+EMD (NLL: 7.114)</th>\n      <th>GT1+GT2 (NLL: 7.352)</th>\n      <th>GT1_GT2_EMD (NLL: 7.133)</th>\n    </tr>\n  </thead>\n  <tbody>\n    <tr>\n      <th>0</th>\n      <td>0</td>\n      <td>0</td>\n      <td>0</td>\n      <td>0</td>\n      <td>0</td>\n      <td>0</td>\n      <td>0</td>\n    </tr>\n    <tr>\n      <th>1</th>\n      <td>0</td>\n      <td>0</td>\n      <td>0</td>\n      <td>0</td>\n      <td>0</td>\n      <td>0</td>\n      <td>0</td>\n    </tr>\n    <tr>\n      <th>2</th>\n      <td>0</td>\n      <td>0</td>\n      <td>0</td>\n      <td>0</td>\n      <td>0</td>\n      <td>0</td>\n      <td>0</td>\n    </tr>\n    <tr>\n      <th>3</th>\n      <td>0</td>\n      <td>0</td>\n      <td>0</td>\n      <td>0</td>\n      <td>0</td>\n      <td>0</td>\n      <td>0</td>\n    </tr>\n    <tr>\n      <th>4</th>\n      <td>0</td>\n      <td>0</td>\n      <td>0</td>\n      <td>0</td>\n      <td>0</td>\n      <td>0</td>\n      <td>0</td>\n    </tr>\n  </tbody>\n</table>\n</div>"
     },
     "execution_count": 49,
     "metadata": {},
     "output_type": "execute_result"
    }
   ],
   "source": [
    "summed_plot.head()"
   ],
   "metadata": {
    "collapsed": false
   }
  },
  {
   "cell_type": "code",
   "execution_count": 50,
   "outputs": [
    {
     "name": "stdout",
     "output_type": "stream",
     "text": [
      "Done\n"
     ]
    }
   ],
   "source": [
    "# 计算每interval行的值之和\n",
    "idx = 0\n",
    "\n",
    "# For each line of summed_plot\n",
    "for i in range(len(summed_plot)):\n",
    "    start = i*interval\n",
    "    end = i*interval+interval if i*interval+interval < data_plot.shape[0] else data_plot.shape[0]\n",
    "\n",
    "    summed_plot.iloc[i,:] = data_plot.iloc[start:end].sum()\n",
    "    summed_plot.iloc[i,0] = int(start+1)    # 给N单独赋值\n",
    "print(\"Done\")"
   ],
   "metadata": {
    "collapsed": false
   }
  },
  {
   "cell_type": "code",
   "execution_count": 51,
   "outputs": [
    {
     "data": {
      "text/plain": "   GT1(MDN) (NLL: 7.335)  GT2(MDN) (NLL: 8.416)  EMD (NLL: 7.427)  \\\n0               0.030299               0.232895          0.030205   \n1               0.023786               0.067514          0.033213   \n2               0.021303               0.042056          0.032980   \n3               0.019693               0.030641          0.031853   \n4               0.018487               0.024076          0.030345   \n\n   GT1+EMD (NLL: 7.192)  GT2+EMD (NLL: 7.114)  GT1+GT2 (NLL: 7.352)  \\\n0              0.003358              0.006544              0.036665   \n1              0.004446              0.007619              0.027362   \n2              0.005065              0.008201              0.024013   \n3              0.005528              0.008620              0.021892   \n4              0.005905              0.008946              0.020333   \n\n   GT1_GT2_EMD (NLL: 7.133)  \n0                  0.003711  \n1                  0.005282  \n2                  0.006145  \n3                  0.006771  \n4                  0.007263  ",
      "text/html": "<div>\n<style scoped>\n    .dataframe tbody tr th:only-of-type {\n        vertical-align: middle;\n    }\n\n    .dataframe tbody tr th {\n        vertical-align: top;\n    }\n\n    .dataframe thead th {\n        text-align: right;\n    }\n</style>\n<table border=\"1\" class=\"dataframe\">\n  <thead>\n    <tr style=\"text-align: right;\">\n      <th></th>\n      <th>GT1(MDN) (NLL: 7.335)</th>\n      <th>GT2(MDN) (NLL: 8.416)</th>\n      <th>EMD (NLL: 7.427)</th>\n      <th>GT1+EMD (NLL: 7.192)</th>\n      <th>GT2+EMD (NLL: 7.114)</th>\n      <th>GT1+GT2 (NLL: 7.352)</th>\n      <th>GT1_GT2_EMD (NLL: 7.133)</th>\n    </tr>\n  </thead>\n  <tbody>\n    <tr>\n      <th>0</th>\n      <td>0.030299</td>\n      <td>0.232895</td>\n      <td>0.030205</td>\n      <td>0.003358</td>\n      <td>0.006544</td>\n      <td>0.036665</td>\n      <td>0.003711</td>\n    </tr>\n    <tr>\n      <th>1</th>\n      <td>0.023786</td>\n      <td>0.067514</td>\n      <td>0.033213</td>\n      <td>0.004446</td>\n      <td>0.007619</td>\n      <td>0.027362</td>\n      <td>0.005282</td>\n    </tr>\n    <tr>\n      <th>2</th>\n      <td>0.021303</td>\n      <td>0.042056</td>\n      <td>0.032980</td>\n      <td>0.005065</td>\n      <td>0.008201</td>\n      <td>0.024013</td>\n      <td>0.006145</td>\n    </tr>\n    <tr>\n      <th>3</th>\n      <td>0.019693</td>\n      <td>0.030641</td>\n      <td>0.031853</td>\n      <td>0.005528</td>\n      <td>0.008620</td>\n      <td>0.021892</td>\n      <td>0.006771</td>\n    </tr>\n    <tr>\n      <th>4</th>\n      <td>0.018487</td>\n      <td>0.024076</td>\n      <td>0.030345</td>\n      <td>0.005905</td>\n      <td>0.008946</td>\n      <td>0.020333</td>\n      <td>0.007263</td>\n    </tr>\n  </tbody>\n</table>\n</div>"
     },
     "execution_count": 51,
     "metadata": {},
     "output_type": "execute_result"
    }
   ],
   "source": [
    "summed_plot.head()"
   ],
   "metadata": {
    "collapsed": false
   }
  },
  {
   "cell_type": "code",
   "execution_count": 52,
   "outputs": [
    {
     "data": {
      "text/plain": "('D://Desktop/MDN_papaer_results/sum_plot_curve_4_v2.csv', (125, 7))"
     },
     "execution_count": 52,
     "metadata": {},
     "output_type": "execute_result"
    }
   ],
   "source": [
    "summed_plot.to_csv(out_path,encoding=\"utf-8\", header=True, index=False)\n",
    "out_path,summed_plot.shape"
   ],
   "metadata": {
    "collapsed": false
   }
  },
  {
   "cell_type": "markdown",
   "source": [
    "# 5. New Added: 得到其他模型的output用于excel的画图"
   ],
   "metadata": {
    "collapsed": false
   }
  },
  {
   "cell_type": "code",
   "execution_count": 18,
   "outputs": [],
   "source": [
    "seed = 407\n",
    "setup_seed(seed)\n",
    "# idx_file = 364\n",
    "test_idx = [701]  # idx needed to be plot"
   ],
   "metadata": {
    "collapsed": false
   }
  },
  {
   "cell_type": "code",
   "execution_count": 19,
   "outputs": [],
   "source": [
    "MODEL_LIST = [\"GT1(MDN)\", \"GT2(MDN)\", \"EMD\", \"GT1+EMD\", \"GT2+EMD\", \"GT1+GT2\", \"GT1_GT2_EMD\"]\n",
    "\n",
    "# Save the GT data\n",
    "GT_data_i = pd.DataFrame()"
   ],
   "metadata": {
    "collapsed": false
   }
  },
  {
   "cell_type": "code",
   "execution_count": 23,
   "outputs": [
    {
     "name": "stdout",
     "output_type": "stream",
     "text": [
      "MODEL_NAME = GT1(MDN)\n",
      "duration_max = 1247\n",
      "input_nonzero_data.shape = torch.Size([1247, 1])\n",
      "input_nonzero_2.shape = torch.Size([1247, 2])\n",
      "MODEL_NAME = GT2(MDN)\n",
      "duration_max = 1247\n",
      "input_nonzero_data.shape = torch.Size([1247, 1])\n",
      "input_nonzero_2.shape = torch.Size([1247, 2])\n",
      "MODEL_NAME = EMD\n",
      "duration_max = 1247\n",
      "input_nonzero_data.shape = torch.Size([1247, 1])\n",
      "input_nonzero_2.shape = torch.Size([1247, 2])\n",
      "MODEL_NAME = GT1+EMD\n",
      "duration_max = 1247\n",
      "input_nonzero_data.shape = torch.Size([1247, 1])\n",
      "input_nonzero_2.shape = torch.Size([1247, 2])\n",
      "MODEL_NAME = GT2+EMD\n",
      "duration_max = 1247\n",
      "input_nonzero_data.shape = torch.Size([1247, 1])\n",
      "input_nonzero_2.shape = torch.Size([1247, 2])\n",
      "MODEL_NAME = GT1+GT2\n",
      "duration_max = 1247\n",
      "input_nonzero_data.shape = torch.Size([1247, 1])\n",
      "input_nonzero_2.shape = torch.Size([1247, 2])\n",
      "MODEL_NAME = GT1_GT2_EMD\n",
      "duration_max = 1247\n"
     ]
    },
    {
     "name": "stderr",
     "output_type": "stream",
     "text": [
      "C:\\Users\\Administrator\\AppData\\Local\\Temp\\ipykernel_14972\\4271937596.py:40: UserWarning:\n",
      "\n",
      "To copy construct from a tensor, it is recommended to use sourceTensor.clone().detach() or sourceTensor.clone().detach().requires_grad_(True), rather than torch.tensor(sourceTensor).\n",
      "\n",
      "C:\\Users\\Administrator\\AppData\\Local\\Temp\\ipykernel_14972\\4271937596.py:40: UserWarning:\n",
      "\n",
      "To copy construct from a tensor, it is recommended to use sourceTensor.clone().detach() or sourceTensor.clone().detach().requires_grad_(True), rather than torch.tensor(sourceTensor).\n",
      "\n",
      "C:\\Users\\Administrator\\AppData\\Local\\Temp\\ipykernel_14972\\4271937596.py:40: UserWarning:\n",
      "\n",
      "To copy construct from a tensor, it is recommended to use sourceTensor.clone().detach() or sourceTensor.clone().detach().requires_grad_(True), rather than torch.tensor(sourceTensor).\n",
      "\n",
      "C:\\Users\\Administrator\\AppData\\Local\\Temp\\ipykernel_14972\\4271937596.py:40: UserWarning:\n",
      "\n",
      "To copy construct from a tensor, it is recommended to use sourceTensor.clone().detach() or sourceTensor.clone().detach().requires_grad_(True), rather than torch.tensor(sourceTensor).\n",
      "\n",
      "C:\\Users\\Administrator\\AppData\\Local\\Temp\\ipykernel_14972\\4271937596.py:40: UserWarning:\n",
      "\n",
      "To copy construct from a tensor, it is recommended to use sourceTensor.clone().detach() or sourceTensor.clone().detach().requires_grad_(True), rather than torch.tensor(sourceTensor).\n",
      "\n",
      "C:\\Users\\Administrator\\AppData\\Local\\Temp\\ipykernel_14972\\4271937596.py:40: UserWarning:\n",
      "\n",
      "To copy construct from a tensor, it is recommended to use sourceTensor.clone().detach() or sourceTensor.clone().detach().requires_grad_(True), rather than torch.tensor(sourceTensor).\n",
      "\n"
     ]
    },
    {
     "name": "stdout",
     "output_type": "stream",
     "text": [
      "input_nonzero_data.shape = torch.Size([1247, 1])\n",
      "input_nonzero_2.shape = torch.Size([1247, 2])\n"
     ]
    },
    {
     "name": "stderr",
     "output_type": "stream",
     "text": [
      "C:\\Users\\Administrator\\AppData\\Local\\Temp\\ipykernel_14972\\4271937596.py:40: UserWarning:\n",
      "\n",
      "To copy construct from a tensor, it is recommended to use sourceTensor.clone().detach() or sourceTensor.clone().detach().requires_grad_(True), rather than torch.tensor(sourceTensor).\n",
      "\n"
     ]
    }
   ],
   "source": [
    "for MODEL_NAME in MODEL_LIST:\n",
    "    print(f\"MODEL_NAME = {MODEL_NAME}\")\n",
    "\n",
    "    INPUT_LIST = get_Input_List(MODEL_NAME)\n",
    "\n",
    "    opt = DefaultConfig(MODEL_NAME=MODEL_NAME)\n",
    "    dataset = myDataset(opt.train_path, opt.target_path_metric, opt.target_path_loss, opt.data_key_path, opt.NLL_metric_path)\n",
    "\n",
    "    train_data, target_data ,_, settings_data, metric_df = dataset.__getitem__(test_idx[0])\n",
    "    my_collate_fn = functools.partial(my_collate_fn_3, INPUT_LIST=INPUT_LIST)\n",
    "    _,_,test_loader = get_data_loader(dataset, opt.batch_size, test_idx, test_idx, test_idx, my_collate_fn)\n",
    "\n",
    "    # 给GT-1和GT-2画图，通过target_data得到U和P，从而画图\n",
    "    duration = target_data[:,0]\n",
    "    duration = [int(x) for x in duration]\n",
    "    duration_max = max(duration)\n",
    "\n",
    "    print(f\"duration_max = {duration_max}\")\n",
    "\n",
    "    mlp = Conv_1_4(opt.N_gaussians, ch_in=len(INPUT_LIST))\n",
    "    model_path = get_MDN_save_path(opt.ARTIFICIAL, seed, opt.net_root_path, opt.noise_pct, MODEL_NAME)\n",
    "    mlp, _ = load_checkpoint(model_path, mlp)\n",
    "    mlp = mlp.to(device=device)\n",
    "\n",
    "    mlp.eval()\n",
    "    with torch.no_grad():\n",
    "        for batch_id, data in enumerate(test_loader):\n",
    "            input_data, _, _, _, _ = data\n",
    "            input_data = input_data.to(device)\n",
    "            pi_idx, scale_idx, shape_idx = mlp(input_data)\n",
    "\n",
    "    # Cal NLL\n",
    "    nll = cal_metric(pi_idx.unsqueeze(0), scale_idx.unsqueeze(0), shape_idx.unsqueeze(0), torch.tensor(target_data).unsqueeze(0), opt.N_gaussians, settings_data, opt.MIN_LOSS, device)\n",
    "\n",
    "    # To output datapoint\n",
    "    # Get full prediction: prob_pred_np\n",
    "    input_nonzero_data = torch.arange(1,duration_max+1).reshape(-1,1)     # For output data\n",
    "    print(f\"input_nonzero_data.shape = {input_nonzero_data.shape}\")\n",
    "\n",
    "    input_nonzero_2 = torch.tensor(input_nonzero_data.repeat(1,opt.N_gaussians)).to(device=device)  # ?\n",
    "    print(f\"input_nonzero_2.shape = {input_nonzero_2.shape}\")\n",
    "\n",
    "    m = torch.distributions.Weibull(scale_idx,shape_idx)\n",
    "    data_output = (m.cdf(input_nonzero_2 + 0.5) - m.cdf(input_nonzero_2 - 0.5)).to(device=device)\n",
    "    prob_pred = torch.sum(data_output * pi_idx, dim=1)\n",
    "    prob_pred_np = prob_pred.detach().cpu().numpy()\n",
    "\n",
    "    assert len(prob_pred_np)==duration_max,\"Wrong Length\"\n",
    "\n",
    "    GT_data_i[MODEL_NAME+ \" (NLL: \" +str(np.around(nll.detach().cpu().numpy(),decimals=3)) +\")\"]= prob_pred_np\n"
   ],
   "metadata": {
    "collapsed": false
   }
  },
  {
   "cell_type": "code",
   "execution_count": 24,
   "outputs": [
    {
     "data": {
      "text/plain": "   GT1(MDN) (NLL: 7.335)  GT2(MDN) (NLL: 8.416)  EMD (NLL: 7.427)  \\\n0               0.003975               0.069138          0.002500   \n1               0.003492               0.037844          0.002748   \n2               0.003243               0.026962          0.002892   \n3               0.003077               0.021187          0.002992   \n4               0.002953               0.017551          0.003067   \n\n   GT1+EMD (NLL: 7.192)  GT2+EMD (NLL: 7.114)  GT1+GT2 (NLL: 7.352)  \\\n0              0.000236              0.000553              0.005094   \n1              0.000275              0.000593              0.004341   \n2              0.000301              0.000619              0.003968   \n3              0.000321              0.000640              0.003723   \n4              0.000338              0.000657              0.003543   \n\n   GT1_GT2_EMD (NLL: 7.133)  \n0                  0.000226  \n1                  0.000282  \n2                  0.000320  \n3                  0.000350  \n4                  0.000375  ",
      "text/html": "<div>\n<style scoped>\n    .dataframe tbody tr th:only-of-type {\n        vertical-align: middle;\n    }\n\n    .dataframe tbody tr th {\n        vertical-align: top;\n    }\n\n    .dataframe thead th {\n        text-align: right;\n    }\n</style>\n<table border=\"1\" class=\"dataframe\">\n  <thead>\n    <tr style=\"text-align: right;\">\n      <th></th>\n      <th>GT1(MDN) (NLL: 7.335)</th>\n      <th>GT2(MDN) (NLL: 8.416)</th>\n      <th>EMD (NLL: 7.427)</th>\n      <th>GT1+EMD (NLL: 7.192)</th>\n      <th>GT2+EMD (NLL: 7.114)</th>\n      <th>GT1+GT2 (NLL: 7.352)</th>\n      <th>GT1_GT2_EMD (NLL: 7.133)</th>\n    </tr>\n  </thead>\n  <tbody>\n    <tr>\n      <th>0</th>\n      <td>0.003975</td>\n      <td>0.069138</td>\n      <td>0.002500</td>\n      <td>0.000236</td>\n      <td>0.000553</td>\n      <td>0.005094</td>\n      <td>0.000226</td>\n    </tr>\n    <tr>\n      <th>1</th>\n      <td>0.003492</td>\n      <td>0.037844</td>\n      <td>0.002748</td>\n      <td>0.000275</td>\n      <td>0.000593</td>\n      <td>0.004341</td>\n      <td>0.000282</td>\n    </tr>\n    <tr>\n      <th>2</th>\n      <td>0.003243</td>\n      <td>0.026962</td>\n      <td>0.002892</td>\n      <td>0.000301</td>\n      <td>0.000619</td>\n      <td>0.003968</td>\n      <td>0.000320</td>\n    </tr>\n    <tr>\n      <th>3</th>\n      <td>0.003077</td>\n      <td>0.021187</td>\n      <td>0.002992</td>\n      <td>0.000321</td>\n      <td>0.000640</td>\n      <td>0.003723</td>\n      <td>0.000350</td>\n    </tr>\n    <tr>\n      <th>4</th>\n      <td>0.002953</td>\n      <td>0.017551</td>\n      <td>0.003067</td>\n      <td>0.000338</td>\n      <td>0.000657</td>\n      <td>0.003543</td>\n      <td>0.000375</td>\n    </tr>\n  </tbody>\n</table>\n</div>"
     },
     "execution_count": 24,
     "metadata": {},
     "output_type": "execute_result"
    }
   ],
   "source": [
    "GT_data_i.head()"
   ],
   "metadata": {
    "collapsed": false
   }
  },
  {
   "cell_type": "code",
   "execution_count": 25,
   "outputs": [],
   "source": [
    "path_root_i = \"Real_\"+\"keyid=\" + str(file_idx)+\"_seed=\" + str(seed)\n",
    "folder_path = os.path.join(opt.fig_path,path_root_i)"
   ],
   "metadata": {
    "collapsed": false
   }
  },
  {
   "cell_type": "code",
   "execution_count": 26,
   "outputs": [],
   "source": [
    "file_name = \"data_other_models.csv\"\n",
    "file_path = os.path.join(folder_path,file_name)\n",
    "GT_data_i.to_csv(file_path,header = True,index = False, encoding=\"utf-8\")"
   ],
   "metadata": {
    "collapsed": false
   }
  },
  {
   "cell_type": "code",
   "execution_count": null,
   "outputs": [],
   "source": [],
   "metadata": {
    "collapsed": false
   }
  }
 ],
 "metadata": {
  "kernelspec": {
   "display_name": "Python 3",
   "language": "python",
   "name": "python3"
  },
  "language_info": {
   "codemirror_mode": {
    "name": "ipython",
    "version": 2
   },
   "file_extension": ".py",
   "mimetype": "text/x-python",
   "name": "python",
   "nbconvert_exporter": "python",
   "pygments_lexer": "ipython2",
   "version": "2.7.6"
  }
 },
 "nbformat": 4,
 "nbformat_minor": 0
}
