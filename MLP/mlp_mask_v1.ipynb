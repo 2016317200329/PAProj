{
 "cells": [
  {
   "cell_type": "markdown",
   "source": [
    "# 0. what for\n",
    "1. 使用全部的data config,但是是部分的data record，\n",
    "    - 相当于mask掉20%的(n,p)值，对这些做predict\n",
    "2. GT-2是用SA的值吗？\n",
    "    - 我建议用SA的方法，这样才能突出InferNet的作用以及game theory model的limitation\n",
    "# 1. Preparation\n",
    "1. metric是MSE or MLE?"
   ],
   "metadata": {
    "collapsed": false
   }
  },
  {
   "cell_type": "code",
   "execution_count": 3,
   "metadata": {
    "collapsed": true
   },
   "outputs": [],
   "source": [
    "import random\n",
    "import pickle\n",
    "import time\n",
    "\n",
    "import torch.utils.data\n",
    "import torchvision.transforms as transforms\n",
    "import visdom\n",
    "\n",
    "from mydataset import myDataset_mask\n",
    "import torch.nn as nn\n",
    "import my_collate_fn\n",
    "from my_collate_fn import my_collate_fn_mask\n",
    "from torch.utils.data import DataLoader, SubsetRandomSampler\n",
    "# from tensorboardX import SummaryWriter\n",
    "from importlib import reload\n",
    "from torch.nn.utils import clip_grad_norm_\n",
    "from plot import draw_loss\n",
    "from plot import draw_metric\n",
    "from models import Conv_1_4\n",
    "\n",
    "######### Ray Tune\n",
    "\n",
    "import loss\n",
    "import plot\n",
    "# import models\n",
    "\n",
    "reload(loss)    # 必须reload！！\n",
    "reload(plot)\n",
    "reload(my_collate_fn)\n",
    "# reload(models)\n",
    "\n",
    "from Config.config_MDN_mask import DefaultConfig\n",
    "from loss import loss_fn_wei\n",
    "from loss import loss_fn_mse\n",
    "from loss import validate\n",
    "\n",
    "opt = DefaultConfig()"
   ]
  },
  {
   "cell_type": "markdown",
   "source": [
    "- 得到某个seed下，dataset中可以mask的(n,p)的idx"
   ],
   "metadata": {
    "collapsed": false
   }
  },
  {
   "cell_type": "code",
   "execution_count": 5,
   "outputs": [],
   "source": [
    "device = torch.device('cuda:0' if torch.cuda.is_available() else 'cpu')\n"
   ],
   "metadata": {
    "collapsed": false
   }
  },
  {
   "cell_type": "code",
   "execution_count": 6,
   "outputs": [],
   "source": [
    "dataset = myDataset_mask(opt.train_path, opt.target_path_metric, opt.target_path_loss, opt.data_key_path, opt.NLL_metric_path, opt.val_mask_idx_path, opt.test_mask_idx_path)\n"
   ],
   "metadata": {
    "collapsed": false
   }
  },
  {
   "cell_type": "code",
   "execution_count": 7,
   "outputs": [],
   "source": [
    "mlp = Conv_1_4(opt.N_gaussians).to(device)\n",
    "mlp = mlp.to(device=device)\n",
    "\n",
    "############ learning rate strategy ############\n",
    "# 1.\n",
    "# Set different lr for params\n",
    "# id: id() 函数返回对象的唯一标识符，标识符是一个整数。返回对象的内存地址。\n",
    "shape_params = list(map(id, mlp.z_shape.parameters()))\n",
    "scale_params = list(map(id, mlp.z_scale.parameters()))\n",
    "pi_params = list(map(id, mlp.z_pi.parameters()))\n",
    "\n",
    "\n",
    "params_id = shape_params + scale_params + pi_params\n",
    "\n",
    "base_params = filter(lambda p: id(p) not in params_id, mlp.parameters())\n",
    "params = [{'params': base_params},         # 如果对某个参数不指定学习率，就使用最外层的默认学习率\n",
    "          {'params': mlp.z_pi.parameters(), 'lr': opt.lr_for_pi},\n",
    "        {'params': mlp.z_shape.parameters(), 'lr': opt.lr_for_shape},\n",
    "          {'params': mlp.z_scale.parameters(), 'lr': opt.lr_for_scale}]\n",
    "\n",
    "optimizer = torch.optim.AdamW(params, lr=1e-3,weight_decay=opt.weight_decay)\n",
    "\n",
    "# 2.\n",
    "# Or set lr decay\n",
    "# StepLR为步进，每step_size个epoch，lr*gamma\n",
    "scheduler  = torch.optim.lr_scheduler.StepLR(optimizer,step_size=15,gamma=opt.StepLR_gamma) # opt.StepLR_step_size\n"
   ],
   "metadata": {
    "collapsed": false
   }
  },
  {
   "cell_type": "code",
   "execution_count": null,
   "outputs": [],
   "source": [],
   "metadata": {
    "collapsed": false
   }
  }
 ],
 "metadata": {
  "kernelspec": {
   "display_name": "Python 3",
   "language": "python",
   "name": "python3"
  },
  "language_info": {
   "codemirror_mode": {
    "name": "ipython",
    "version": 2
   },
   "file_extension": ".py",
   "mimetype": "text/x-python",
   "name": "python",
   "nbconvert_exporter": "python",
   "pygments_lexer": "ipython2",
   "version": "2.7.6"
  }
 },
 "nbformat": 4,
 "nbformat_minor": 0
}
