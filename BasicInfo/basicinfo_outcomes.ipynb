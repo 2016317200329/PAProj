{
 "cells": [
  {
   "cell_type": "code",
   "execution_count": 1,
   "metadata": {
    "collapsed": true
   },
   "outputs": [],
   "source": [
    "#!/usr/bin/env python\n",
    "# -*- coding: utf-8 -*-\n",
    "# @Time    : 2022/9/29 16:01\n",
    "# @Author  : Wang Yujia\n",
    "# @File    : basicinfo_outcomes.py\n",
    "# @Description : 关于outcomes.tsv数据集的一些basic信息\n"
   ]
  },
  {
   "cell_type": "markdown",
   "source": [
    "[TOC]\n",
    "# 0. what for\n",
    "1. 旨在输出一些关于traces数据集的一些basic信息"
   ],
   "metadata": {
    "collapsed": false,
    "pycharm": {
     "name": "#%% md\n"
    }
   }
  },
  {
   "cell_type": "markdown",
   "source": [
    "# 1. Preparations\n",
    "## 1.1 全局设置"
   ],
   "metadata": {
    "collapsed": false
   }
  },
  {
   "cell_type": "code",
   "execution_count": 9,
   "outputs": [],
   "source": [
    "# data path\n",
    "outcomes_orignal_path = \"../data/outcomes.tsv\"\n",
    "traces_original_path = \"../data/traces.tsv\"\n",
    "# outcomes和traces共有的auction_id: `common_auction_id`\n",
    "common_auction_id_path = \"../data/common_auction_id.csv\"\n",
    "\n",
    "# 最终GT model需要的features（不包括np），其中`product_id` is not necessary\n",
    "features_GT = ['auction_id','product_id','bidincrement','bidfee','retail']\n",
    "# 衡量一场auction是否unique的标志\n",
    "unique_setting = ['product_id', 'bidincrement', 'bidfee','retail']\n",
    "# fixed-auction flag\n",
    "flg_fixed = ['flg_fixedprice']\n",
    "\n",
    "import pandas as pd\n",
    "import numpy as np\n",
    "import seaborn as sns"
   ],
   "metadata": {
    "collapsed": false,
    "pycharm": {
     "name": "#%%\n"
    }
   }
  },
  {
   "cell_type": "markdown",
   "source": [
    "## 1.2 读取data"
   ],
   "metadata": {
    "collapsed": false
   }
  },
  {
   "cell_type": "code",
   "execution_count": 14,
   "outputs": [],
   "source": [
    "outcomes = pd.read_csv(outcomes_orignal_path, sep='\\t')\n",
    "traces = pd.read_csv(traces_original_path, sep='\\t')\n",
    "common_auction_id = pd.read_csv(common_auction_id_path, encoding=\"utf-8\").auction_id\n"
   ],
   "metadata": {
    "collapsed": false,
    "pycharm": {
     "name": "#%%\n"
    }
   }
  },
  {
   "cell_type": "markdown",
   "source": [
    "# 2. Info about outcomes.tsv\n",
    "## 2.1 how many auctions are recorded"
   ],
   "metadata": {
    "collapsed": false
   }
  },
  {
   "cell_type": "code",
   "execution_count": 7,
   "outputs": [
    {
     "name": "stdout",
     "output_type": "stream",
     "text": [
      "outcomes.tsv记录了*121419*场auction\n"
     ]
    }
   ],
   "source": [
    "auction_id_unique = outcomes['auction_id'].unique()\n",
    "n_auction_outcomes = auction_id_unique.shape[0]\n",
    "print(\"outcomes.tsv记录了*{}*场auction\".format(n_auction_outcomes))\n",
    "\n"
   ],
   "metadata": {
    "collapsed": false,
    "pycharm": {
     "name": "#%%\n"
    }
   }
  },
  {
   "cell_type": "markdown",
   "source": [
    "## 2.2 how many fixed-price auctions here?\n",
    "1. recall that traces.tsv have no fixed-price auctions"
   ],
   "metadata": {
    "collapsed": false
   }
  },
  {
   "cell_type": "code",
   "execution_count": 15,
   "outputs": [
    {
     "name": "stdout",
     "output_type": "stream",
     "text": [
      "outcomes.tsv 中一共有 *2203* 场auctions 是 fixed-price auction.\n"
     ]
    }
   ],
   "source": [
    "#outcomes = outcomes[(features_GT+flg_fixed)]\n",
    "idx = np.array(outcomes[flg_fixed] == 1)  # 记得转化成array，否则容易因为index不对应产生NaN值\n",
    "outcomes_fixed = outcomes[idx]\n",
    "print(\"outcomes.tsv 中一共有 *{}* 场auctions 是 fixed-price auction.\".format(outcomes_fixed.shape[0]))"
   ],
   "metadata": {
    "collapsed": false,
    "pycharm": {
     "name": "#%%\n"
    }
   }
  },
  {
   "cell_type": "markdown",
   "source": [
    "## 2.3 Do all fixed-price('flg_fixedprice == 1') auctions have 'finalprice' == 0\n",
    "1. 用来判断fixed-price的auction最后的成交价是不是都是0: *Yes*"
   ],
   "metadata": {
    "collapsed": false
   }
  },
  {
   "cell_type": "code",
   "execution_count": 18,
   "outputs": [
    {
     "name": "stdout",
     "output_type": "stream",
     "text": [
      "There is totally *0* fixed-price auctions whose 'finalprice' is NOT zero\n"
     ]
    }
   ],
   "source": [
    "print(\"There is totally *{}* fixed-price auctions whose 'finalprice' is NOT zero\".format(sum(outcomes_fixed['finalprice'] == 0)))"
   ],
   "metadata": {
    "collapsed": false,
    "pycharm": {
     "name": "#%%\n"
    }
   }
  }
 ],
 "metadata": {
  "kernelspec": {
   "display_name": "Python 3",
   "language": "python",
   "name": "python3"
  },
  "language_info": {
   "codemirror_mode": {
    "name": "ipython",
    "version": 2
   },
   "file_extension": ".py",
   "mimetype": "text/x-python",
   "name": "python",
   "nbconvert_exporter": "python",
   "pygments_lexer": "ipython2",
   "version": "2.7.6"
  }
 },
 "nbformat": 4,
 "nbformat_minor": 0
}