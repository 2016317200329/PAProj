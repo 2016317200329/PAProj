{
 "cells": [
  {
   "cell_type": "code",
   "execution_count": 8,
   "metadata": {
    "collapsed": true
   },
   "outputs": [],
   "source": [
    "#!/usr/bin/env python\n",
    "# -*- coding: utf-8 -*-\n",
    "# @Time    : 2022/9/29 16:01\n",
    "# @Author  : Wang Yujia\n",
    "# @File    : basicinfo_outcomes.ipynb\n",
    "# @Description : 关于outcomes.tsv数据集的一些basic信息"
   ]
  },
  {
   "cell_type": "markdown",
   "source": [
    "[TOC]\n",
    "# 0. what for\n",
    "1. 旨在输出一些关于outcomes数据集的一些basic信息\n",
    "2. 部分代码来自`BasicInfo_outcomes.py`这个py现在基本不用了"
   ],
   "metadata": {
    "collapsed": false
   }
  },
  {
   "cell_type": "markdown",
   "source": [
    "# 1. Preparations\n",
    "## 1.1 全局设置"
   ],
   "metadata": {
    "collapsed": false
   }
  },
  {
   "cell_type": "code",
   "execution_count": null,
   "outputs": [],
   "source": [
    "# data path\n",
    "outcomes_orignal_path = \"../data/outcomes.tsv\"\n",
    "traces_original_path = \"../data/traces.tsv\"\n",
    "# outcomes和traces共有的auction_id: `common_auction_id`\n",
    "common_auction_id_path = \"../data/common_auction_id.csv\"\n",
    "\n",
    "# 最终GT model需要的features（不包括np），其中`product_id` is not necessary\n",
    "features_GT = ['auction_id','product_id','bidincrement','bidfee','retail']\n",
    "# 衡量一场auction是否unique的标志\n",
    "unique_setting = ['product_id', 'bidincrement', 'bidfee','retail']\n",
    "# fixed-auction flag\n",
    "flg_fixed = ['flg_fixedprice']\n",
    "\n",
    "import pandas as pd\n",
    "import numpy as np\n",
    "import seaborn as sns\n",
    "import matplotlib.pyplot as plt"
   ],
   "metadata": {
    "collapsed": false,
    "pycharm": {
     "is_executing": true
    }
   }
  },
  {
   "cell_type": "markdown",
   "source": [
    "## 1.2 读取data"
   ],
   "metadata": {
    "collapsed": false
   }
  },
  {
   "cell_type": "code",
   "execution_count": 2,
   "outputs": [],
   "source": [
    "outcomes = pd.read_csv(outcomes_orignal_path, sep='\\t')\n",
    "traces = pd.read_csv(traces_original_path, sep='\\t')\n",
    "common_auction_id = pd.read_csv(common_auction_id_path, encoding=\"utf-8\").auction_id"
   ],
   "metadata": {
    "collapsed": false
   }
  },
  {
   "cell_type": "markdown",
   "source": [
    "# 2. Info about outcomes.tsv\n",
    "## 2.1 how many auctions are recorded"
   ],
   "metadata": {
    "collapsed": false
   }
  },
  {
   "cell_type": "code",
   "execution_count": 11,
   "outputs": [
    {
     "name": "stdout",
     "output_type": "stream",
     "text": [
      "outcomes.tsv记录了*121419*场auction\n",
      "outcomes.tsv记录了*121419*场auction\n"
     ]
    }
   ],
   "source": [
    "auction_id_unique = outcomes['auction_id'].unique()\n",
    "n_auction_outcomes = auction_id_unique.shape[0]\n",
    "print(\"outcomes.tsv记录了*{}*场auction\".format(n_auction_outcomes))"
   ],
   "metadata": {
    "collapsed": false
   }
  },
  {
   "cell_type": "markdown",
   "source": [
    "## 2.2 how many asc/ fixed-price auctions here?\n",
    "1. recall that traces.tsv have no fixed-price auctions"
   ],
   "metadata": {
    "collapsed": false
   }
  },
  {
   "cell_type": "code",
   "execution_count": 27,
   "outputs": [
    {
     "name": "stdout",
     "output_type": "stream",
     "text": [
      "outcomes.tsv 中一共有 *2203* 场auctions 是 fixed-price auction.\n",
      "outcomes.tsv 中一共有 *119216* 场auctions 是 ascending-price auction.\n"
     ]
    }
   ],
   "source": [
    "outcomes_fixed = outcomes[np.array(outcomes[flg_fixed] == 1)]   # 记得转化成array，否则容易因为index不对应产生NaN值\n",
    "print(\"outcomes.tsv 中一共有 *{}* 场auctions 是 fixed-price auction.\".format(outcomes_fixed.shape[0]))\n",
    "\n",
    "outcomes_asc = outcomes[np.array(outcomes[flg_fixed] == 0)]\n",
    "print(\"outcomes.tsv 中一共有 *{}* 场auctions 是 ascending-price auction.\".format(outcomes_asc.shape[0]))\n",
    "\n",
    "assert(outcomes_fixed.shape[0]+outcomes_asc.shape[0] == outcomes.shape[0],\"ascending-price + fixed-price总数量不正确\")"
   ],
   "metadata": {
    "collapsed": false
   }
  },
  {
   "cell_type": "markdown",
   "source": [
    "## 2.3 Do all asc/ fixed-price have 'finalprice' == 'price'\n",
    "1. > finalprice: The price charged to the winner in dollars\n",
    "   > price: The price the auction reached, in dollars\n",
    "\n",
    "2. 因此`finalprice`是最后的要价，`price`是单纯拍卖reach到的价格。\n",
    "3. ascending-price的'finalprice'和'price'是不是都相同的: *No*\n",
    "    - 有相同的也有不同的，大多数相同\n",
    "4. fixed-price的'finalprice'和'price'是不是都相同的: *Only one is not the same*\n",
    "    - 按道理说，定价拍卖的winner不会支付 'price'这个价格，他们付的会是'finalprice'吗？ *[see 2.4]*\n",
    "    - 可以清洗掉这个吧"
   ],
   "metadata": {
    "collapsed": false
   }
  },
  {
   "cell_type": "code",
   "execution_count": 34,
   "outputs": [
    {
     "name": "stdout",
     "output_type": "stream",
     "text": [
      "There is totally *114660* ascending-price auctions whose 'finalprice' == 'price'\n",
      "There is totally *1* fixed-price auctions whose 'finalprice' == 'price'\n"
     ]
    }
   ],
   "source": [
    "print(\"There is totally *{}* ascending-price auctions whose 'finalprice' == 'price'\".format(sum(outcomes_asc['finalprice'] == outcomes_asc['price'])))\n",
    "print(\"There is totally *{}* fixed-price auctions whose 'finalprice' == 'price'\".format(sum(outcomes_fixed['finalprice'] == outcomes_fixed['price'])))"
   ],
   "metadata": {
    "collapsed": false
   }
  },
  {
   "cell_type": "markdown",
   "source": [
    "## 2.4 Do all fixed-price auctions have 'finalprice' < 'price'\n",
    "1. 既然'finalprice' ！= 'price'，而且定价拍卖的bidder不会pay 'price'这个价格，'finalprice' 和'price'有什么关系吗\n",
    "2. 下图可以看出'finalprice'<'price', mostly\n",
    "3. 容易设想，既然finalprice表示网站charge的价格，同时在fixed-price下，winner should pay 一个网站给定的价格，'finalprice'应该就是the price winner pay"
   ],
   "metadata": {
    "collapsed": false
   }
  },
  {
   "cell_type": "code",
   "execution_count": 43,
   "outputs": [
    {
     "data": {
      "text/plain": "<Figure size 432x288 with 1 Axes>",
      "image/png": "[encoded data removed]"
     },
     "metadata": {
      "needs_background": "light"
     },
     "output_type": "display_data"
    }
   ],
   "source": [
    "sns.barplot(x=np.arange(0,outcomes_fixed.shape[0]),y=(outcomes_fixed['finalprice'] - outcomes_fixed['price']))\n",
    "plt.title(\"In fixed-price auction, 'finalprice' - 'price' is like:\")\n",
    "plt.show()"
   ],
   "metadata": {
    "collapsed": false
   }
  },
  {
   "cell_type": "markdown",
   "source": [
    "## 2.5 Do all fixed-price auctions have 'bid_increment' == 0\n",
    "1. fixed-price的auction的bid_increment是不是全都是0: *None*\n",
    "2. **Attention:**\n",
    "    - 虽然`bid_increment`不等于0，但是GT model中通过对bidder的建模，bidders并不在意这个，只关注`v`和`p`的关系\n",
    "    - 因此在GT中其实需要collect相关信息，它可以作为NN的input"
   ],
   "metadata": {
    "collapsed": false
   }
  },
  {
   "cell_type": "markdown",
   "source": [],
   "metadata": {
    "collapsed": false
   }
  },
  {
   "cell_type": "code",
   "execution_count": 19,
   "outputs": [
    {
     "name": "stdout",
     "output_type": "stream",
     "text": [
      "There is totally *0* fixed-price auctions whose 'bid_increment' is zero\n"
     ]
    }
   ],
   "source": [
    "print(\"There is totally *{}* fixed-price auctions whose 'bid_increment' is zero\".format(sum(outcomes_fixed['bidincrement'] == 0)))"
   ],
   "metadata": {
    "collapsed": false
   }
  },
  {
   "cell_type": "markdown",
   "source": [
    "## 2.6 For all auctions, are there always 'bidfee' < 'retail'?\n"
   ],
   "metadata": {
    "collapsed": false
   }
  },
  {
   "cell_type": "code",
   "execution_count": 13,
   "outputs": [
    {
     "name": "stdout",
     "output_type": "stream",
     "text": [
      "There is totally *32* auctions whose 'bidfee' >= 'retail'\n",
      "And we could drop them in pre-preprocess\n"
     ]
    }
   ],
   "source": [
    "outcomes_greater_bidfee = outcomes[(outcomes['bidfee']*0.01)>=outcomes['retail']]\n",
    "print(\"There is totally *{}* auctions whose 'bidfee' >= 'retail'\".format(outcomes_greater_bidfee.shape[0]))\n",
    "print(\"And we could drop them in pre-preprocess\")"
   ],
   "metadata": {
    "collapsed": false
   }
  },
  {
   "cell_type": "markdown",
   "source": [],
   "metadata": {
    "collapsed": false
   }
  },
  {
   "cell_type": "code",
   "execution_count": null,
   "outputs": [],
   "source": [],
   "metadata": {
    "collapsed": false
   }
  }
 ],
 "metadata": {
  "kernelspec": {
   "name": "conda-env-pythorch-py",
   "language": "python",
   "display_name": "Python [conda env:pythorch] *"
  },
  "language_info": {
   "codemirror_mode": {
    "name": "ipython",
    "version": 2
   },
   "file_extension": ".py",
   "mimetype": "text/x-python",
   "name": "python",
   "nbconvert_exporter": "python",
   "pygments_lexer": "ipython2",
   "version": "2.7.6"
  }
 },
 "nbformat": 4,
 "nbformat_minor": 0
}
