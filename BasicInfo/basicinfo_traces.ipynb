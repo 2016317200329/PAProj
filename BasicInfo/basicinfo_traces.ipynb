{
 "cells": [
  {
   "cell_type": "code",
   "execution_count": 1,
   "metadata": {
    "collapsed": true
   },
   "outputs": [],
   "source": [
    "#!/usr/bin/env python\n",
    "# -*- coding: utf-8 -*-\n",
    "# @Time    : 2022/9/29 10:02\n",
    "# @Author  : Wang Yujia\n",
    "# @File    : basicinfo_traces.py\n",
    "# @Description : 关于traces数据集的一些basic信息"
   ]
  },
  {
   "cell_type": "markdown",
   "source": [
    "# 0. what for\n",
    "1. 旨在输出一些关于traces数据集的一些basic信息"
   ],
   "metadata": {
    "collapsed": false
   }
  },
  {
   "cell_type": "markdown",
   "source": [
    "# 1. Preparations\n",
    "## 1.1 全局设置"
   ],
   "metadata": {
    "collapsed": false
   }
  },
  {
   "cell_type": "code",
   "execution_count": 2,
   "outputs": [],
   "source": [
    "# data path\n",
    "outcomes_orignal_path = \"../data/outcomes.tsv\"\n",
    "traces_original_path = \"../data/traces.tsv\"\n",
    "# outcomes和traces共有的auction_id: `common_auction_id`\n",
    "common_auction_id_path = \"../data/common_auction_id.csv\"\n",
    "\n",
    "import pandas as pd\n",
    "import numpy as np\n",
    "import seaborn as sns"
   ],
   "metadata": {
    "collapsed": false,
    "pycharm": {
     "name": "#%%\n"
    }
   }
  },
  {
   "cell_type": "markdown",
   "source": [
    "## 1.2 读取data"
   ],
   "metadata": {
    "collapsed": false
   }
  },
  {
   "cell_type": "code",
   "execution_count": 7,
   "outputs": [],
   "source": [
    "outcomes = pd.read_csv(outcomes_orignal_path, sep='\\t')\n",
    "traces = pd.read_csv(traces_original_path, sep='\\t')\n",
    "common_auction_id = pd.read_csv(common_auction_id_path, encoding=\"utf-8\").auction_id"
   ],
   "metadata": {
    "collapsed": false,
    "pycharm": {
     "name": "#%%\n"
    }
   }
  },
  {
   "cell_type": "markdown",
   "source": [
    "# 2. Info about traces.tsv\n",
    "## 2.1 how many auctions are recorded"
   ],
   "metadata": {
    "collapsed": false
   }
  },
  {
   "cell_type": "code",
   "execution_count": 24,
   "outputs": [
    {
     "name": "stdout",
     "output_type": "stream",
     "text": [
      "traces.tsv记录了*{}*场auction 7353\n"
     ]
    }
   ],
   "source": [
    "auction_id_unique = traces['auction_id'].unique()\n",
    "n_auction_traces = auction_id_unique.shape[0]\n",
    "print(\"traces.tsv记录了*{}*场auction\",n_auction_traces)"
   ],
   "metadata": {
    "collapsed": false,
    "pycharm": {
     "name": "#%%\n"
    }
   }
  },
  {
   "cell_type": "markdown",
   "source": [
    "## 2.2 Any fixed-price auctions recorded in traces.tsv?\n",
    "1. 需要`outcomes.tsv`"
   ],
   "metadata": {
    "collapsed": false,
    "pycharm": {
     "name": "#%% md\n"
    }
   }
  },
  {
   "cell_type": "code",
   "execution_count": 33,
   "outputs": [
    {
     "name": "stdout",
     "output_type": "stream",
     "text": [
      "在outcomes.tsv中，一共有 *2203* 场fixed-price auctions\n",
      "\n",
      "在traces.tsv中,一共有 *0* 场auction 是 fixed-price auctions\n"
     ]
    }
   ],
   "source": [
    "# 提取outcomes中 flg_fixedprice == 1的 auction_id: outcomes_fixedprice\n",
    "outcomes_fixedprice = outcomes[outcomes['flg_fixedprice']==1].auction_id\n",
    "outcomes_fixedprice = np.array(outcomes_fixedprice)\n",
    "print(\"在outcomes.tsv中，一共有 *{}* 场fixed-price auctions\".format(outcomes_fixedprice.shape[0]))\n",
    "\n",
    "# match\n",
    "print(\"\\n在traces.tsv中,一共有 *{}* 场auction 是 fixed-price auctions\".format(sum(np.isin(auction_id_unique,outcomes_fixedprice))))"
   ],
   "metadata": {
    "collapsed": false,
    "pycharm": {
     "name": "#%%\n"
    }
   }
  },
  {
   "cell_type": "markdown",
   "source": [
    "# 3. Info between traces.tsv and outcomes.tsv\n",
    "1. 一些统计需要协助`outcomes.tsv`才可以完成\n",
    "## 3.1 Are those auctions in traces.tsv also in outcomes.tsv"
   ],
   "metadata": {
    "collapsed": false
   }
  },
  {
   "cell_type": "code",
   "execution_count": 18,
   "outputs": [
    {
     "name": "stdout",
     "output_type": "stream",
     "text": [
      "traces.tsv 记录的auction都在 outcomes.tsv 中吗： True\n"
     ]
    }
   ],
   "source": [
    "common_auction_id = np.array(common_auction_id)    # 转换成和auction_id_unique一样的格式\n",
    "common_auction_id.sort()\n",
    "auction_id_unique.sort()\n",
    "print(\"traces.tsv 记录的auction都在 outcomes.tsv 中吗：\",sum(common_auction_id == auction_id_unique) == n_auction_traces)"
   ],
   "metadata": {
    "collapsed": false,
    "pycharm": {
     "name": "#%%\n"
    }
   }
  },
  {
   "cell_type": "markdown",
   "source": [],
   "metadata": {
    "collapsed": false
   }
  }
 ],
 "metadata": {
  "kernelspec": {
   "display_name": "Python 3",
   "language": "python",
   "name": "python3"
  },
  "language_info": {
   "codemirror_mode": {
    "name": "ipython",
    "version": 2
   },
   "file_extension": ".py",
   "mimetype": "text/x-python",
   "name": "python",
   "nbconvert_exporter": "python",
   "pygments_lexer": "ipython2",
   "version": "2.7.6"
  }
 },
 "nbformat": 4,
 "nbformat_minor": 0
}