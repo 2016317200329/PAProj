{
 "cells": [
  {
   "cell_type": "code",
   "execution_count": 1,
   "metadata": {
    "collapsed": true
   },
   "outputs": [],
   "source": [
    "#!/usr/bin/env python\n",
    "# -*- coding: utf-8 -*-\n",
    "# @Time    : 2022/11/08 15:54\n",
    "# @Author  : Wang Yujia\n",
    "# @File    : basicinfo_GT_models.ipynb\n",
    "# @Description : 关于GT模型的计算结果的基本信息"
   ]
  },
  {
   "cell_type": "markdown",
   "source": [
    "# 0. What for\n",
    "1. 关于GT模型的计算结果的基本信息\n",
    "\n",
    "# 1. Preparations\n",
    "## 1.1 全局设置"
   ],
   "metadata": {
    "collapsed": false
   }
  },
  {
   "cell_type": "code",
   "execution_count": 2,
   "outputs": [],
   "source": [
    "import os\n",
    "import pandas as pd\n",
    "import numpy as np\n",
    "from visdom import Visdom\n",
    "import csv\n",
    "from tqdm import tqdm\n",
    "from IPython.display import clear_output"
   ],
   "metadata": {
    "collapsed": false
   }
  },
  {
   "cell_type": "code",
   "execution_count": 3,
   "outputs": [],
   "source": [
    "# Small dataset\n",
    "small_data_np_path = r'../data/small_auctions_np.csv'\n",
    "settings_small_NN_path = r\"../data/small_settings_NN.csv\"\n",
    "\n",
    "# Large data\n",
    "large_data_np_path = r'E:\\DATA\\large_dta\\large_auctions_np.csv'                 #\n",
    "settings_large_NN_path = r'E:\\DATA\\large_dta\\large_settings_NN.csv'\n",
    "\n",
    "# target path\n",
    "target_root_path = \"../data/targets_all/\"\n",
    "train_all_path = os.listdir(target_root_path)\n",
    "\n",
    "unique_setting_NN = ['desc','bidincrement','bidfee','retail','flg_fixedprice']\n"
   ],
   "metadata": {
    "collapsed": false
   }
  },
  {
   "cell_type": "markdown",
   "source": [
    "## 1.2 Read"
   ],
   "metadata": {
    "collapsed": false
   }
  },
  {
   "cell_type": "code",
   "execution_count": 4,
   "outputs": [
    {
     "name": "stdout",
     "output_type": "stream",
     "text": [
      "小数据集有 *1226* 场auction，大数据集有 *80* 场auction，一共*1306*\n"
     ]
    }
   ],
   "source": [
    "data_small = pd.read_csv(small_data_np_path,encoding=\"utf-8\")\n",
    "data_large = pd.read_csv(large_data_np_path,encoding=\"utf-8\")\n",
    "\n",
    "data_key_small = pd.read_csv(settings_small_NN_path,encoding=\"utf-8\")\n",
    "data_key_large = pd.read_csv(settings_large_NN_path,encoding=\"utf-8\")\n",
    "data_key = pd.concat([data_key_small,data_key_large],axis = 0,ignore_index=True)\n",
    "\n",
    "len_small = data_key_small.shape[0]\n",
    "len_large = data_key_large.shape[0]\n",
    "len_all = data_key.shape[0]\n",
    "print(f\"小数据集有 *{len_small}* 场auction，大数据集有 *{len_large}* 场auction，一共*{len_all}*\")"
   ],
   "metadata": {
    "collapsed": false
   }
  },
  {
   "cell_type": "markdown",
   "source": [
    "# 1. Count out data records"
   ],
   "metadata": {
    "collapsed": false
   }
  },
  {
   "cell_type": "code",
   "execution_count": 7,
   "outputs": [
    {
     "name": "stdout",
     "output_type": "stream",
     "text": [
      "一共有 *117625* 条records，平均每场auction有 *90.06508422664625* 条records\n"
     ]
    }
   ],
   "source": [
    "records_all = data_small.shape[0]+data_large.shape[0]\n",
    "records_all_avg = records_all/len_all\n",
    "print(f\"一共有 *{records_all}* 条records，平均每场auction有 *{records_all_avg}* 条records\")"
   ],
   "metadata": {
    "collapsed": false
   }
  },
  {
   "cell_type": "code",
   "execution_count": 15,
   "outputs": [
    {
     "name": "stderr",
     "output_type": "stream",
     "text": [
      "100%|██████████| 1306/1306 [00:00<00:00, 1673.17it/s]\n"
     ]
    }
   ],
   "source": [
    "records_asc = 0\n",
    "records_fixed = 0\n",
    "auction_asc = 0\n",
    "auction_fixed = 0\n",
    "\n",
    "for i in tqdm(range(len_all)):\n",
    "    data_path = os.path.join(target_root_path+train_all_path[i])\n",
    "    data = pd.read_csv(data_path,encoding=\"utf-8\")\n",
    "    if data_key.loc[i,'flg_fixedprice'] == 1:\n",
    "        auction_fixed += 1\n",
    "        records_fixed += data.shape[0]\n",
    "    else:\n",
    "        auction_asc += 1\n",
    "        records_asc += data.shape[0]"
   ],
   "metadata": {
    "collapsed": false
   }
  },
  {
   "cell_type": "code",
   "execution_count": 16,
   "outputs": [
    {
     "name": "stdout",
     "output_type": "stream",
     "text": [
      "Ascending-price中，一共有 *115880* 条records，平均每场auction有 *90.81504702194357* 条records\n",
      "Fixed-price中，一共有 *1745* 条records，平均每场auction有 *58.166666666666664* 条records\n"
     ]
    }
   ],
   "source": [
    "print(f\"Ascending-price中，一共有 *{records_asc}* 条records，平均每场auction有 *{records_asc/auction_asc}* 条records\")\n",
    "print(f\"Fixed-price中，一共有 *{records_fixed}* 条records，平均每场auction有 *{records_fixed/auction_fixed}* 条records\")"
   ],
   "metadata": {
    "collapsed": false
   }
  },
  {
   "cell_type": "markdown",
   "source": [
    "# 2. 统计settings的信息"
   ],
   "metadata": {
    "collapsed": false
   }
  },
  {
   "cell_type": "code",
   "execution_count": 5,
   "outputs": [
    {
     "data": {
      "text/plain": "                                            desc  bidincrement  bidfee  \\\n0  Sony Ericsson S500i Unlocked Mysterious Green          0.15    0.75   \n1               PSP Slim & Lite Sony Piano Black          0.15    0.75   \n2     iPod Touch Apple 8GB with Software Upgrade          0.15    0.75   \n3                 LG KU990 Viewty Unlocked Black          0.00    0.75   \n4      Logitech Cordless Wave Keyboard and Mouse          0.15    0.75   \n\n   retail  flg_fixedprice  \n0  499.99               0  \n1  169.99               0  \n2  299.99               0  \n3  899.99               1  \n4   89.99               0  ",
      "text/html": "<div>\n<style scoped>\n    .dataframe tbody tr th:only-of-type {\n        vertical-align: middle;\n    }\n\n    .dataframe tbody tr th {\n        vertical-align: top;\n    }\n\n    .dataframe thead th {\n        text-align: right;\n    }\n</style>\n<table border=\"1\" class=\"dataframe\">\n  <thead>\n    <tr style=\"text-align: right;\">\n      <th></th>\n      <th>desc</th>\n      <th>bidincrement</th>\n      <th>bidfee</th>\n      <th>retail</th>\n      <th>flg_fixedprice</th>\n    </tr>\n  </thead>\n  <tbody>\n    <tr>\n      <th>0</th>\n      <td>Sony Ericsson S500i Unlocked Mysterious Green</td>\n      <td>0.15</td>\n      <td>0.75</td>\n      <td>499.99</td>\n      <td>0</td>\n    </tr>\n    <tr>\n      <th>1</th>\n      <td>PSP Slim &amp; Lite Sony Piano Black</td>\n      <td>0.15</td>\n      <td>0.75</td>\n      <td>169.99</td>\n      <td>0</td>\n    </tr>\n    <tr>\n      <th>2</th>\n      <td>iPod Touch Apple 8GB with Software Upgrade</td>\n      <td>0.15</td>\n      <td>0.75</td>\n      <td>299.99</td>\n      <td>0</td>\n    </tr>\n    <tr>\n      <th>3</th>\n      <td>LG KU990 Viewty Unlocked Black</td>\n      <td>0.00</td>\n      <td>0.75</td>\n      <td>899.99</td>\n      <td>1</td>\n    </tr>\n    <tr>\n      <th>4</th>\n      <td>Logitech Cordless Wave Keyboard and Mouse</td>\n      <td>0.15</td>\n      <td>0.75</td>\n      <td>89.99</td>\n      <td>0</td>\n    </tr>\n  </tbody>\n</table>\n</div>"
     },
     "execution_count": 5,
     "metadata": {},
     "output_type": "execute_result"
    }
   ],
   "source": [
    "data_key.head()"
   ],
   "metadata": {
    "collapsed": false
   }
  },
  {
   "cell_type": "code",
   "execution_count": 19,
   "outputs": [
    {
     "name": "stdout",
     "output_type": "stream",
     "text": [
      "所有dataset中一共有 7 种unique ‘bid increment’\n",
      "所有dataset中一共有 3 种‘bid fee’\n",
      "所有dataset中一共有 506 种‘retail’\n",
      "去掉fixed-data的话：(7-1)*3*506 = 9108种组合\n",
      "包括fixed-data的话：(7)*3*506 = 10626种组合\n"
     ]
    }
   ],
   "source": [
    "print(f\"所有dataset中一共有 {data_key.bidincrement.nunique()} 种unique ‘bid increment’\")\n",
    "print(f\"所有dataset中一共有 {data_key.bidfee.nunique()} 种‘bid fee’\")\n",
    "print(f\"所有dataset中一共有 {data_key.retail.nunique()} 种‘retail’\")\n",
    "print(f\"去掉fixed-data的话：(7-1)*3*506 = {(7-1)*3*506}种组合\")\n",
    "print(f\"包括fixed-data的话：(7)*3*506 = {(7)*3*506}种组合\")"
   ],
   "metadata": {
    "collapsed": false
   }
  },
  {
   "cell_type": "code",
   "execution_count": 20,
   "outputs": [
    {
     "name": "stdout",
     "output_type": "stream",
     "text": [
      "所有dataset中一共有 [0.15 0.   0.01 0.12 0.24 0.02 0.06] 种unique ‘bid increment’\n",
      "所有dataset中一共有 [0.75 0.6  0.01] 种‘bid fee’\n"
     ]
    }
   ],
   "source": [
    "print(f\"所有dataset中一共有 {data_key.bidincrement.unique()} 种unique ‘bid increment’\")\n",
    "print(f\"所有dataset中一共有 {data_key.bidfee.unique()} 种‘bid fee’\")"
   ],
   "metadata": {
    "collapsed": false
   }
  },
  {
   "cell_type": "code",
   "execution_count": 11,
   "outputs": [
    {
     "data": {
      "text/plain": "     bidincrement  bidfee  retail  size\n0            0.00    0.75  129.95     1\n1            0.00    0.75  249.99     3\n2            0.00    0.75  299.99     1\n3            0.00    0.75  349.99     1\n4            0.00    0.75  449.99     1\n..            ...     ...     ...   ...\n697          0.24    0.60  149.99     1\n698          0.24    0.60  169.99     2\n699          0.24    0.60  205.00     1\n700          0.24    0.60  259.99     1\n701          0.24    0.60  459.99     1\n\n[702 rows x 4 columns]",
      "text/html": "<div>\n<style scoped>\n    .dataframe tbody tr th:only-of-type {\n        vertical-align: middle;\n    }\n\n    .dataframe tbody tr th {\n        vertical-align: top;\n    }\n\n    .dataframe thead th {\n        text-align: right;\n    }\n</style>\n<table border=\"1\" class=\"dataframe\">\n  <thead>\n    <tr style=\"text-align: right;\">\n      <th></th>\n      <th>bidincrement</th>\n      <th>bidfee</th>\n      <th>retail</th>\n      <th>size</th>\n    </tr>\n  </thead>\n  <tbody>\n    <tr>\n      <th>0</th>\n      <td>0.00</td>\n      <td>0.75</td>\n      <td>129.95</td>\n      <td>1</td>\n    </tr>\n    <tr>\n      <th>1</th>\n      <td>0.00</td>\n      <td>0.75</td>\n      <td>249.99</td>\n      <td>3</td>\n    </tr>\n    <tr>\n      <th>2</th>\n      <td>0.00</td>\n      <td>0.75</td>\n      <td>299.99</td>\n      <td>1</td>\n    </tr>\n    <tr>\n      <th>3</th>\n      <td>0.00</td>\n      <td>0.75</td>\n      <td>349.99</td>\n      <td>1</td>\n    </tr>\n    <tr>\n      <th>4</th>\n      <td>0.00</td>\n      <td>0.75</td>\n      <td>449.99</td>\n      <td>1</td>\n    </tr>\n    <tr>\n      <th>...</th>\n      <td>...</td>\n      <td>...</td>\n      <td>...</td>\n      <td>...</td>\n    </tr>\n    <tr>\n      <th>697</th>\n      <td>0.24</td>\n      <td>0.60</td>\n      <td>149.99</td>\n      <td>1</td>\n    </tr>\n    <tr>\n      <th>698</th>\n      <td>0.24</td>\n      <td>0.60</td>\n      <td>169.99</td>\n      <td>2</td>\n    </tr>\n    <tr>\n      <th>699</th>\n      <td>0.24</td>\n      <td>0.60</td>\n      <td>205.00</td>\n      <td>1</td>\n    </tr>\n    <tr>\n      <th>700</th>\n      <td>0.24</td>\n      <td>0.60</td>\n      <td>259.99</td>\n      <td>1</td>\n    </tr>\n    <tr>\n      <th>701</th>\n      <td>0.24</td>\n      <td>0.60</td>\n      <td>459.99</td>\n      <td>1</td>\n    </tr>\n  </tbody>\n</table>\n<p>702 rows × 4 columns</p>\n</div>"
     },
     "execution_count": 11,
     "metadata": {},
     "output_type": "execute_result"
    }
   ],
   "source": [
    "data_grouped = data_key.groupby(by=['bidincrement','bidfee','retail'],as_index=False)\n",
    "pd.DataFrame(data_grouped.size())"
   ],
   "metadata": {
    "collapsed": false
   }
  },
  {
   "cell_type": "code",
   "execution_count": null,
   "outputs": [],
   "source": [],
   "metadata": {
    "collapsed": false
   }
  }
 ],
 "metadata": {
  "kernelspec": {
   "display_name": "Python 3",
   "language": "python",
   "name": "python3"
  },
  "language_info": {
   "codemirror_mode": {
    "name": "ipython",
    "version": 2
   },
   "file_extension": ".py",
   "mimetype": "text/x-python",
   "name": "python",
   "nbconvert_exporter": "python",
   "pygments_lexer": "ipython2",
   "version": "2.7.6"
  }
 },
 "nbformat": 4,
 "nbformat_minor": 0
}
