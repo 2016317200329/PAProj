{
 "cells": [
  {
   "cell_type": "code",
   "execution_count": 1,
   "metadata": {
    "collapsed": true
   },
   "outputs": [],
   "source": [
    "#!/usr/bin/env python\n",
    "# -*- coding: utf-8 -*-\n",
    "# @Time    : 2022/11/08 15:54\n",
    "# @Author  : Wang Yujia\n",
    "# @File    : basicinfo_GT_models.ipynb\n",
    "# @Description : 关于GT模型的计算结果的基本信息"
   ]
  },
  {
   "cell_type": "markdown",
   "source": [
    "# 0. What for\n",
    "1. 关于GT模型的计算结果的基本信息\n",
    "\n",
    "# 1. Preparations\n",
    "## 1.1 全局设置"
   ],
   "metadata": {
    "collapsed": false,
    "pycharm": {
     "name": "#%% md\n"
    }
   }
  },
  {
   "cell_type": "code",
   "execution_count": 2,
   "outputs": [],
   "source": [
    "# P in info_insym\n",
    "P_1_path = \"../data/info_asymm/results/asc_symmetry/GT_asc_symmetry_2_P.csv\"\n",
    "P_2_path = \"../data/pt/results/PT_all1288_P.csv\"\n",
    "\n",
    "features_GT = ['product_id','bidincrement','bidfee','retail']\n",
    "\n",
    "import numpy as np\n",
    "import csv\n",
    "import pandas as pd\n",
    "from visdom import Visdom\n",
    "\n",
    "# viz = Visdom(env='P',use_incoming_socket=False)"
   ],
   "metadata": {
    "collapsed": false,
    "pycharm": {
     "name": "#%%\n"
    }
   }
  },
  {
   "cell_type": "markdown",
   "source": [
    "## 1.2 读取data\n"
   ],
   "metadata": {
    "collapsed": false,
    "pycharm": {
     "name": "#%% md\n"
    }
   }
  },
  {
   "cell_type": "code",
   "execution_count": 3,
   "outputs": [],
   "source": [
    "P_1 = pd.read_csv(P_1_path, encoding=\"utf-8\")\n",
    "P_2 = pd.read_csv(P_2_path, encoding=\"utf-8\")"
   ],
   "metadata": {
    "collapsed": false,
    "pycharm": {
     "name": "#%%\n"
    }
   }
  },
  {
   "cell_type": "markdown",
   "source": [
    "# 2. Info about P which is the input of NNs\n",
    "## 2.1 How many auction settings are included in 'info_insymm', 'GT'"
   ],
   "metadata": {
    "collapsed": false,
    "pycharm": {
     "name": "#%% md\n"
    }
   }
  },
  {
   "cell_type": "code",
   "execution_count": 8,
   "outputs": [
    {
     "name": "stdout",
     "output_type": "stream",
     "text": [
      "In 'info_insymm', there is *(0, 612)*\n",
      "In 'GT', there is *(0, 1288)*\n"
     ]
    }
   ],
   "source": [
    "print(f\"In 'info_insymm', there is *{P_1.shape}*\")\n",
    "print(f\"In 'GT', there is *{P_2.shape}*\")"
   ],
   "metadata": {
    "collapsed": false,
    "pycharm": {
     "name": "#%%\n"
    }
   }
  },
  {
   "cell_type": "code",
   "execution_count": null,
   "outputs": [],
   "source": [],
   "metadata": {
    "collapsed": false,
    "pycharm": {
     "name": "#%%\n"
    }
   }
  }
 ],
 "metadata": {
  "kernelspec": {
   "display_name": "Python 3",
   "language": "python",
   "name": "python3"
  },
  "language_info": {
   "codemirror_mode": {
    "name": "ipython",
    "version": 2
   },
   "file_extension": ".py",
   "mimetype": "text/x-python",
   "name": "python",
   "nbconvert_exporter": "python",
   "pygments_lexer": "ipython2",
   "version": "2.7.6"
  }
 },
 "nbformat": 4,
 "nbformat_minor": 0
}