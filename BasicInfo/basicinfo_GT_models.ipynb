{
 "cells": [
  {
   "cell_type": "code",
   "execution_count": 1,
   "metadata": {
    "collapsed": true
   },
   "outputs": [],
   "source": [
    "#!/usr/bin/env python\n",
    "# -*- coding: utf-8 -*-\n",
    "# @Time    : 2022/11/08 15:54\n",
    "# @Author  : Wang Yujia\n",
    "# @File    : basicinfo_GT_models.ipynb\n",
    "# @Description : 关于GT模型的计算结果的基本信息"
   ]
  },
  {
   "cell_type": "markdown",
   "source": [
    "# 0. What for\n",
    "1. 关于GT模型的计算结果的基本信息\n",
    "\n",
    "# 1. Preparations\n",
    "## 1.1 全局设置"
   ],
   "metadata": {
    "collapsed": false,
    "pycharm": {
     "name": "#%% md\n"
    }
   }
  },
  {
   "cell_type": "code",
   "execution_count": 1,
   "outputs": [],
   "source": [
    "# P in info_insym\n",
    "P_1_path = \"../data/info_asymm/results/asc_symmetry/GT_asc_symmetry_2_P.csv\"\n",
    "P_2_path = \"../data/pt/results/PT_all1288_P.csv\"\n",
    "\n",
    "features_GT = ['product_id','bidincrement','bidfee','retail']\n",
    "\n",
    "import numpy as np\n",
    "import csv\n",
    "import pandas as pd\n",
    "from visdom import Visdom\n",
    "\n",
    "# viz = Visdom(env='P',use_incoming_socket=False)"
   ],
   "metadata": {
    "collapsed": false,
    "pycharm": {
     "name": "#%%\n"
    }
   }
  },
  {
   "cell_type": "markdown",
   "source": [
    "## 1.2 读取data"
   ],
   "metadata": {
    "collapsed": false,
    "pycharm": {
     "name": "#%% md\n"
    }
   }
  },
  {
   "cell_type": "code",
   "execution_count": 15,
   "outputs": [],
   "source": [
    "P_1 = pd.read_csv(P_1_path, encoding=\"utf-8\")\n",
    "P_2 = pd.read_csv(P_2_path, encoding=\"utf-8\")"
   ],
   "metadata": {
    "collapsed": false,
    "pycharm": {
     "name": "#%%\n"
    }
   }
  },
  {
   "cell_type": "markdown",
   "source": [
    "# 2. Info about P which is the input of NNs\n",
    "## 2.1 How many auction settings are included in 'info_insymm', 'GT'"
   ],
   "metadata": {
    "collapsed": false,
    "pycharm": {
     "name": "#%% md\n"
    }
   }
  },
  {
   "cell_type": "code",
   "execution_count": 12,
   "outputs": [
    {
     "name": "stdout",
     "output_type": "stream",
     "text": [
      "In 'info_insymm', there is *(1, 612)*\n",
      "In 'GT', there is *(2, 5)*\n"
     ]
    }
   ],
   "source": [
    "print(f\"In 'info_insymm', there is *{P_1.shape}*\")\n",
    "print(f\"In 'GT', there is *{P_2.shape}*\")"
   ],
   "metadata": {
    "collapsed": false,
    "pycharm": {
     "name": "#%%\n"
    }
   }
  },
  {
   "cell_type": "markdown",
   "source": [
    "# 3. Info about dataset\n",
    "## 3.1 How many ‘settings’ in the dataset\n",
    "1. dataset指的是samples数量在16之上的所有的ascending-price auctions,GT的两个model用这些data做了generate的过程\n",
    "2. 根据settings含义的不同，需要有不同的统计"
   ],
   "metadata": {
    "collapsed": false,
    "pycharm": {
     "name": "#%% md\n"
    }
   }
  },
  {
   "cell_type": "code",
   "execution_count": 13,
   "outputs": [
    {
     "name": "stdout",
     "output_type": "stream",
     "text": [
      "按照setting=['retail', 'bidfee', 'bidincrement'], 一共有 *612*\n",
      "按照setting=['product_id', 'retail', 'bidfee', 'bidincrement'], 一共有 *1303*\n",
      "另外，虽然两个GT的dataset不同，他们的settings是一样的吗？\n",
      "按照setting=['retail', 'bidfee', 'bidincrement'], 一共有 *612*\n",
      "按照setting=['product_id', 'retail', 'bidfee', 'bidincrement'], 一共有 *1303*\n"
     ]
    }
   ],
   "source": [
    "data_path = \"../data/info_asymm/datawithnp_asc_symmetry_2_selected.csv\"\n",
    "data = pd.read_csv(data_path, encoding=\"utf-8\")\n",
    "\n",
    "setting_1 = ['retail','bidfee','bidincrement']\n",
    "setting_2 = ['product_id','retail','bidfee','bidincrement']\n",
    "\n",
    "data_1 = data.groupby(setting_1)\n",
    "data_2 = data.groupby(setting_2)\n",
    "\n",
    "print(f\"按照setting={setting_1}, 一共有 *{len(data_1)}*\")\n",
    "print(f\"按照setting={setting_2}, 一共有 *{len(data_2)}*\")"
   ],
   "metadata": {
    "collapsed": false,
    "pycharm": {
     "name": "#%%\n"
    }
   }
  },
  {
   "cell_type": "markdown",
   "source": [
    "## 3.2 Are the dataset in the same size in the amount of setting?\n",
    "1. 2个GT models用的dataset有微小不同，他们的settings数目是一样的吗: YES"
   ],
   "metadata": {
    "collapsed": false,
    "pycharm": {
     "name": "#%% md\n"
    }
   }
  },
  {
   "cell_type": "code",
   "execution_count": null,
   "outputs": [],
   "source": [
    "data_pt_path = \"../data/SA_PT/datawithnp_GT_selected.csv\"\n",
    "data_pt = pd.read_csv(data_pt_path, encoding=\"utf-8\")\n",
    "\n",
    "data_pt_1 = data_pt.groupby(setting_1)\n",
    "data_pt_2 = data_pt.groupby(setting_2)\n",
    "\n",
    "print(f\"按照setting={setting_1}, 一共有 *{len(data_pt_1)}*\")\n",
    "print(f\"按照setting={setting_2}, 一共有 *{len(data_pt_2)}*\")"
   ],
   "metadata": {
    "collapsed": false,
    "pycharm": {
     "name": "#%%\n"
    }
   }
  }
 ],
 "metadata": {
  "kernelspec": {
   "display_name": "Python 3",
   "language": "python",
   "name": "python3"
  },
  "language_info": {
   "codemirror_mode": {
    "name": "ipython",
    "version": 2
   },
   "file_extension": ".py",
   "mimetype": "text/x-python",
   "name": "python",
   "nbconvert_exporter": "python",
   "pygments_lexer": "ipython2",
   "version": "2.7.6"
  }
 },
 "nbformat": 4,
 "nbformat_minor": 0
}