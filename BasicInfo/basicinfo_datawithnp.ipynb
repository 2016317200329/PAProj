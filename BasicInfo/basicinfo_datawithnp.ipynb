{
 "cells": [
  {
   "cell_type": "code",
   "execution_count": null,
   "outputs": [],
   "source": [
    "#!/usr/bin/env python\n",
    "# -*- coding: utf-8 -*-\n",
    "# @Time    : 2022/6/9 15:46\n",
    "# @Author  : Wang Yujia\n",
    "# @File    : basicinfo_datawithnp.py\n",
    "# @Description : 主要对于处理后（指计算出n与p并且经过threash）的data，进行一些分析"
   ],
   "metadata": {
    "collapsed": false
   }
  },
  {
   "cell_type": "markdown",
   "source": [
    "# 1. Preparations\n",
    "## 1.1 全局设置"
   ],
   "metadata": {
    "collapsed": false
   }
  },
  {
   "cell_type": "code",
   "execution_count": 1,
   "outputs": [],
   "source": [
    "outcomes_orignal_path = \"../data/outcomes.tsv\"\n",
    "data_path = \"../data/datawithnp_2_selected.csv\"\n",
    "\n",
    "import pandas as pd\n",
    "import numpy as np\n",
    "\n",
    "unique_setting = ['id','bidincrement','bidfee','retail']"
   ],
   "metadata": {
    "collapsed": false
   }
  },
  {
   "cell_type": "markdown",
   "source": [
    "## 1.2 read in"
   ],
   "metadata": {
    "collapsed": false
   }
  },
  {
   "cell_type": "code",
   "execution_count": 7,
   "outputs": [
    {
     "data": {
      "text/plain": "(   auction_id  product_id                                      item  \\\n 0       86827    10009602  sony-ericsson-s500i-unlocked-mysterious-   \n 1       87964    10009881            psp-slim-lite-sony-piano-black   \n 2       87965    10009881            psp-slim-lite-sony-piano-black   \n 3       88638    10006115  sony-ericsson-s500i-unlocked-mysterious-   \n 4       88639    10006115  sony-ericsson-s500i-unlocked-mysterious-   \n 5       88693    10008975  sony-ericsson-s500i-unlocked-mysterious-   \n 6       88694    10008975  sony-ericsson-s500i-unlocked-mysterious-   \n 7       89434    10007148  ipod-touch-apple-8gb-with-software-upgra   \n 8       89435    10007148  ipod-touch-apple-8gb-with-software-upgra   \n 9       90127    10007148  ipod-touch-apple-8gb-with-software-upgra   \n \n                                             desc  retail   price  finalprice  \\\n 0  Sony Ericsson S500i Unlocked Mysterious Green  499.99   13.35       13.35   \n 1               PSP Slim & Lite Sony Piano Black  169.99   74.70       74.70   \n 2               PSP Slim & Lite Sony Piano Black  169.99   83.10       83.10   \n 3  Sony Ericsson S500i Unlocked Mysterious Green  499.99   19.65       19.65   \n 4  Sony Ericsson S500i Unlocked Mysterious Green  499.99   47.10       47.10   \n 5  Sony Ericsson S500i Unlocked Mysterious Green  499.99   55.20       55.20   \n 6  Sony Ericsson S500i Unlocked Mysterious Green  499.99   86.10       86.10   \n 7     iPod Touch Apple 8GB with Software Upgrade  299.99   63.45       63.45   \n 8     iPod Touch Apple 8GB with Software Upgrade  299.99   14.55       14.55   \n 9     iPod Touch Apple 8GB with Software Upgrade  299.99  229.65      229.65   \n \n    bidincrement  bidfee        winner  ...           endtime_str  \\\n 0          0.15    0.75       Racer11  ...  19:52 PDT 09-16-2008   \n 1          0.15    0.75        Cemo23  ...  11:17 PDT 08-28-2008   \n 2          0.15    0.75  Jacobsonnich  ...  22:52 PDT 11-07-2008   \n 3          0.15    0.75        Mokkis  ...  22:02 PDT 08-23-2008   \n 4          0.15    0.75  Superloeffel  ...  14:23 PDT 08-24-2008   \n 5          0.15    0.75   Danydemir80  ...  22:44 PDT 08-22-2008   \n 6          0.15    0.75  Destination8  ...  07:10 PDT 08-24-2008   \n 7          0.15    0.75     02bigwill  ...  10:56 PDT 08-22-2008   \n 8          0.15    0.75        Pala84  ...  01:03 PDT 08-22-2008   \n 9          0.15    0.75       Jardes6  ...  14:09 PDT 08-23-2008   \n \n    flg_click_only flg_beginnerauction  flg_fixedprice  flg_endprice  id     N  \\\n 0               0                   0               0             0   0    89   \n 1               0                   0               0             0   1   498   \n 2               0                   1               0             0   1   554   \n 3               0                   0               0             0   0   131   \n 4               0                   0               0             0   0   314   \n 5               0                   0               0             0   0   368   \n 6               0                   0               0             0   0   574   \n 7               0                   0               0             0   2   423   \n 8               0                   0               0             0   2    97   \n 9               0                   0               0             0   2  1531   \n \n    cnt_uniq  cnt_n_2         P  \n 0        69        1  0.014493  \n 1        60        1  0.016667  \n 2        60        1  0.016667  \n 3        69        1  0.014493  \n 4        69        1  0.014493  \n 5        69        1  0.014493  \n 6        69        1  0.014493  \n 7        49        1  0.020408  \n 8        49        1  0.020408  \n 9        49        1  0.020408  \n \n [10 rows x 22 columns],\n (68324, 22))"
     },
     "execution_count": 7,
     "metadata": {},
     "output_type": "execute_result"
    }
   ],
   "source": [
    "data = pd.read_csv(data_path,encoding=\"utf-8\")\n",
    "outcomes = pd.read_csv(outcomes_orignal_path,sep='\\t')\n",
    "data.head(10),data.shape"
   ],
   "metadata": {
    "collapsed": false
   }
  },
  {
   "cell_type": "markdown",
   "source": [
    "# 2. Info\n",
    "## 2.1 Do different 'product_id' has different 'item'?\n",
    "1. 重要结论：**'item'是不全的描述，不应该以此为参考**\n"
   ],
   "metadata": {
    "collapsed": false
   }
  },
  {
   "cell_type": "code",
   "execution_count": 8,
   "outputs": [
    {
     "name": "stdout",
     "output_type": "stream",
     "text": [
      "outcomes.tsv中一共记录了 *1122* 个['product_id','item','desc']对\n",
      "outcomes.tsv中一共记录了 *1117* 个['product_id']\n",
      "outcomes.tsv中一共记录了 *905* 个['item']\n"
     ]
    }
   ],
   "source": [
    "data_prod = data[['product_id','item','desc']].copy()\n",
    "data_prod.drop_duplicates(inplace=True,ignore_index=True)\n",
    "\n",
    "data_prodid = data[['product_id']].copy()\n",
    "data_prodid.drop_duplicates(inplace=True,ignore_index=True)\n",
    "\n",
    "data_item = data[['item']].copy()\n",
    "data_item.drop_duplicates(inplace=True,ignore_index=True)\n",
    "\n",
    "print(f\"outcomes.tsv中一共记录了 *{data_prod.shape[0]}* 个['product_id','item','desc']对\")\n",
    "print(f\"outcomes.tsv中一共记录了 *{data_prodid.shape[0]}* 个['product_id']\")\n",
    "print(f\"outcomes.tsv中一共记录了 *{data_item.shape[0]}* 个['item']\")"
   ],
   "metadata": {
    "collapsed": false
   }
  },
  {
   "cell_type": "code",
   "execution_count": 12,
   "outputs": [
    {
     "name": "stdout",
     "output_type": "stream",
     "text": [
      "有 *5* 个'product_id' 对应了多个'item'\n"
     ]
    },
    {
     "name": "stderr",
     "output_type": "stream",
     "text": [
      "C:\\Users\\Administrator\\AppData\\Local\\Temp\\ipykernel_15640\\1566985900.py:8: FutureWarning: The frame.append method is deprecated and will be removed from pandas in a future version. Use pandas.concat instead.\n",
      "  prod_not_uniq_1 = prod_not_uniq_1.append(prod,ignore_index=True)\n"
     ]
    }
   ],
   "source": [
    "# 问题不大\n",
    "prod_not_uniq_1=pd.DataFrame(columns=['product_id','item','desc'])\n",
    "for i in range(0,data_prodid.shape[0]):\n",
    "    prodid = data_prodid.iloc[i,0]\n",
    "    prod = data_prod[(data_prod['product_id']==prodid)].copy()\n",
    "    prod.drop_duplicates(inplace=True,ignore_index=True)\n",
    "    if(prod.shape[0]!=1):\n",
    "        prod_not_uniq_1 = prod_not_uniq_1.append(prod,ignore_index=True)\n",
    "\n",
    "print(f\"有 *{prod_not_uniq_1['product_id'].nunique()}* 个'product_id' 对应了多个'item'\")"
   ],
   "metadata": {
    "collapsed": false
   }
  },
  {
   "cell_type": "code",
   "execution_count": 11,
   "outputs": [
    {
     "name": "stderr",
     "output_type": "stream",
     "text": [
      "C:\\Users\\Administrator\\AppData\\Local\\Temp\\ipykernel_15640\\1690109597.py:9: FutureWarning: The frame.append method is deprecated and will be removed from pandas in a future version. Use pandas.concat instead.\n",
      "  prod_not_uniq_2 = prod_not_uniq_2.append(prod,ignore_index=True)\n"
     ]
    },
    {
     "name": "stdout",
     "output_type": "stream",
     "text": [
      "有 *130* 个'item' 对应了多个'product_id'\n"
     ]
    }
   ],
   "source": [
    "# 研究一下\n",
    "prod_not_uniq_2=pd.DataFrame(columns=['product_id','item','desc'])\n",
    "\n",
    "for i in range(0,data_item.shape[0]):\n",
    "    item = data_item.iloc[i,0]\n",
    "    prod = data_prod[data_prod['item']==item].copy()\n",
    "    prod.drop_duplicates(inplace=True,ignore_index=True)\n",
    "    if(prod.shape[0]!=1):\n",
    "        prod_not_uniq_2 = prod_not_uniq_2.append(prod,ignore_index=True)\n",
    "print(f\"有 *{prod_not_uniq_2['item'].nunique()}* 个'item' 对应了多个'product_id'\")\n",
    "\n",
    "item = prod_not_uniq_2['item'].unique()"
   ],
   "metadata": {
    "collapsed": false
   }
  },
  {
   "cell_type": "markdown",
   "source": [
    "从data里看看这130个怎么回事，其实也没什么，输出一组`tmp_csv`看看"
   ],
   "metadata": {
    "collapsed": false
   }
  },
  {
   "cell_type": "code",
   "execution_count": 14,
   "outputs": [
    {
     "data": {
      "text/plain": "    auction_id  product_id                                      item  \\\n0        86827    10009602  sony-ericsson-s500i-unlocked-mysterious-   \n1        88638    10006115  sony-ericsson-s500i-unlocked-mysterious-   \n2        88639    10006115  sony-ericsson-s500i-unlocked-mysterious-   \n3        88693    10008975  sony-ericsson-s500i-unlocked-mysterious-   \n4        88694    10008975  sony-ericsson-s500i-unlocked-mysterious-   \n..         ...         ...                                       ...   \n60       99187    10008975  sony-ericsson-s500i-unlocked-mysterious-   \n61      102078    10009602  sony-ericsson-s500i-unlocked-mysterious-   \n62      107728    10009642  sony-ericsson-s500i-unlocked-mysterious-   \n63      115849    10009602  sony-ericsson-s500i-unlocked-mysterious-   \n64      115859    10008975  sony-ericsson-s500i-unlocked-mysterious-   \n\n                                             desc  retail  price  finalprice  \\\n0   Sony Ericsson S500i Unlocked Mysterious Green  499.99  13.35       13.35   \n1   Sony Ericsson S500i Unlocked Mysterious Green  499.99  19.65       19.65   \n2   Sony Ericsson S500i Unlocked Mysterious Green  499.99  47.10       47.10   \n3   Sony Ericsson S500i Unlocked Mysterious Green  499.99  55.20       55.20   \n4   Sony Ericsson S500i Unlocked Mysterious Green  499.99  86.10       86.10   \n..                                            ...     ...    ...         ...   \n60  Sony Ericsson S500i Unlocked Mysterious Green  499.99  34.80       34.80   \n61  Sony Ericsson S500i Unlocked Mysterious Green  499.99  32.10       32.10   \n62  Sony Ericsson S500i Unlocked Mysterious Green  499.99  17.25       17.25   \n63  Sony Ericsson S500i Unlocked Mysterious Green  499.99  24.90       24.90   \n64  Sony Ericsson S500i Unlocked Mysterious Green  499.99  14.25       14.25   \n\n    bidincrement  bidfee        winner  ...           endtime_str  \\\n0           0.15    0.75       Racer11  ...  19:52 PDT 09-16-2008   \n1           0.15    0.75        Mokkis  ...  22:02 PDT 08-23-2008   \n2           0.15    0.75  Superloeffel  ...  14:23 PDT 08-24-2008   \n3           0.15    0.75   Danydemir80  ...  22:44 PDT 08-22-2008   \n4           0.15    0.75  Destination8  ...  07:10 PDT 08-24-2008   \n..           ...     ...           ...  ...                   ...   \n60          0.15    0.75    Jonniboiuk  ...  08:56 PDT 10-18-2008   \n61          0.15    0.75     Blueoscar  ...  18:48 PDT 09-10-2008   \n62          0.15    0.75       Porygon  ...  07:46 PDT 10-11-2008   \n63          0.15    0.75    Catalana71  ...  03:18 PDT 11-07-2008   \n64          0.15    0.75    Mattiyorks  ...  09:10 PDT 11-05-2008   \n\n    flg_click_only flg_beginnerauction  flg_fixedprice  flg_endprice  id    N  \\\n0                0                   0               0             0   0   89   \n1                0                   0               0             0   0  131   \n2                0                   0               0             0   0  314   \n3                0                   0               0             0   0  368   \n4                0                   0               0             0   0  574   \n..             ...                 ...             ...           ...  ..  ...   \n60               0                   0               0             0   0  232   \n61               0                   0               0             0   0  214   \n62               0                   0               0             0   0  115   \n63               0                   1               0             0   0  166   \n64               0                   1               0             0   0   95   \n\n    cnt_uniq  cnt_n_2         P  \n0         69        1  0.014493  \n1         69        1  0.014493  \n2         69        1  0.014493  \n3         69        1  0.014493  \n4         69        1  0.014493  \n..       ...      ...       ...  \n60        69        1  0.014493  \n61        69        1  0.014493  \n62        69        1  0.014493  \n63        69        1  0.014493  \n64        69        1  0.014493  \n\n[65 rows x 22 columns]",
      "text/html": "<div>\n<style scoped>\n    .dataframe tbody tr th:only-of-type {\n        vertical-align: middle;\n    }\n\n    .dataframe tbody tr th {\n        vertical-align: top;\n    }\n\n    .dataframe thead th {\n        text-align: right;\n    }\n</style>\n<table border=\"1\" class=\"dataframe\">\n  <thead>\n    <tr style=\"text-align: right;\">\n      <th></th>\n      <th>auction_id</th>\n      <th>product_id</th>\n      <th>item</th>\n      <th>desc</th>\n      <th>retail</th>\n      <th>price</th>\n      <th>finalprice</th>\n      <th>bidincrement</th>\n      <th>bidfee</th>\n      <th>winner</th>\n      <th>...</th>\n      <th>endtime_str</th>\n      <th>flg_click_only</th>\n      <th>flg_beginnerauction</th>\n      <th>flg_fixedprice</th>\n      <th>flg_endprice</th>\n      <th>id</th>\n      <th>N</th>\n      <th>cnt_uniq</th>\n      <th>cnt_n_2</th>\n      <th>P</th>\n    </tr>\n  </thead>\n  <tbody>\n    <tr>\n      <th>0</th>\n      <td>86827</td>\n      <td>10009602</td>\n      <td>sony-ericsson-s500i-unlocked-mysterious-</td>\n      <td>Sony Ericsson S500i Unlocked Mysterious Green</td>\n      <td>499.99</td>\n      <td>13.35</td>\n      <td>13.35</td>\n      <td>0.15</td>\n      <td>0.75</td>\n      <td>Racer11</td>\n      <td>...</td>\n      <td>19:52 PDT 09-16-2008</td>\n      <td>0</td>\n      <td>0</td>\n      <td>0</td>\n      <td>0</td>\n      <td>0</td>\n      <td>89</td>\n      <td>69</td>\n      <td>1</td>\n      <td>0.014493</td>\n    </tr>\n    <tr>\n      <th>1</th>\n      <td>88638</td>\n      <td>10006115</td>\n      <td>sony-ericsson-s500i-unlocked-mysterious-</td>\n      <td>Sony Ericsson S500i Unlocked Mysterious Green</td>\n      <td>499.99</td>\n      <td>19.65</td>\n      <td>19.65</td>\n      <td>0.15</td>\n      <td>0.75</td>\n      <td>Mokkis</td>\n      <td>...</td>\n      <td>22:02 PDT 08-23-2008</td>\n      <td>0</td>\n      <td>0</td>\n      <td>0</td>\n      <td>0</td>\n      <td>0</td>\n      <td>131</td>\n      <td>69</td>\n      <td>1</td>\n      <td>0.014493</td>\n    </tr>\n    <tr>\n      <th>2</th>\n      <td>88639</td>\n      <td>10006115</td>\n      <td>sony-ericsson-s500i-unlocked-mysterious-</td>\n      <td>Sony Ericsson S500i Unlocked Mysterious Green</td>\n      <td>499.99</td>\n      <td>47.10</td>\n      <td>47.10</td>\n      <td>0.15</td>\n      <td>0.75</td>\n      <td>Superloeffel</td>\n      <td>...</td>\n      <td>14:23 PDT 08-24-2008</td>\n      <td>0</td>\n      <td>0</td>\n      <td>0</td>\n      <td>0</td>\n      <td>0</td>\n      <td>314</td>\n      <td>69</td>\n      <td>1</td>\n      <td>0.014493</td>\n    </tr>\n    <tr>\n      <th>3</th>\n      <td>88693</td>\n      <td>10008975</td>\n      <td>sony-ericsson-s500i-unlocked-mysterious-</td>\n      <td>Sony Ericsson S500i Unlocked Mysterious Green</td>\n      <td>499.99</td>\n      <td>55.20</td>\n      <td>55.20</td>\n      <td>0.15</td>\n      <td>0.75</td>\n      <td>Danydemir80</td>\n      <td>...</td>\n      <td>22:44 PDT 08-22-2008</td>\n      <td>0</td>\n      <td>0</td>\n      <td>0</td>\n      <td>0</td>\n      <td>0</td>\n      <td>368</td>\n      <td>69</td>\n      <td>1</td>\n      <td>0.014493</td>\n    </tr>\n    <tr>\n      <th>4</th>\n      <td>88694</td>\n      <td>10008975</td>\n      <td>sony-ericsson-s500i-unlocked-mysterious-</td>\n      <td>Sony Ericsson S500i Unlocked Mysterious Green</td>\n      <td>499.99</td>\n      <td>86.10</td>\n      <td>86.10</td>\n      <td>0.15</td>\n      <td>0.75</td>\n      <td>Destination8</td>\n      <td>...</td>\n      <td>07:10 PDT 08-24-2008</td>\n      <td>0</td>\n      <td>0</td>\n      <td>0</td>\n      <td>0</td>\n      <td>0</td>\n      <td>574</td>\n      <td>69</td>\n      <td>1</td>\n      <td>0.014493</td>\n    </tr>\n    <tr>\n      <th>...</th>\n      <td>...</td>\n      <td>...</td>\n      <td>...</td>\n      <td>...</td>\n      <td>...</td>\n      <td>...</td>\n      <td>...</td>\n      <td>...</td>\n      <td>...</td>\n      <td>...</td>\n      <td>...</td>\n      <td>...</td>\n      <td>...</td>\n      <td>...</td>\n      <td>...</td>\n      <td>...</td>\n      <td>...</td>\n      <td>...</td>\n      <td>...</td>\n      <td>...</td>\n      <td>...</td>\n    </tr>\n    <tr>\n      <th>60</th>\n      <td>99187</td>\n      <td>10008975</td>\n      <td>sony-ericsson-s500i-unlocked-mysterious-</td>\n      <td>Sony Ericsson S500i Unlocked Mysterious Green</td>\n      <td>499.99</td>\n      <td>34.80</td>\n      <td>34.80</td>\n      <td>0.15</td>\n      <td>0.75</td>\n      <td>Jonniboiuk</td>\n      <td>...</td>\n      <td>08:56 PDT 10-18-2008</td>\n      <td>0</td>\n      <td>0</td>\n      <td>0</td>\n      <td>0</td>\n      <td>0</td>\n      <td>232</td>\n      <td>69</td>\n      <td>1</td>\n      <td>0.014493</td>\n    </tr>\n    <tr>\n      <th>61</th>\n      <td>102078</td>\n      <td>10009602</td>\n      <td>sony-ericsson-s500i-unlocked-mysterious-</td>\n      <td>Sony Ericsson S500i Unlocked Mysterious Green</td>\n      <td>499.99</td>\n      <td>32.10</td>\n      <td>32.10</td>\n      <td>0.15</td>\n      <td>0.75</td>\n      <td>Blueoscar</td>\n      <td>...</td>\n      <td>18:48 PDT 09-10-2008</td>\n      <td>0</td>\n      <td>0</td>\n      <td>0</td>\n      <td>0</td>\n      <td>0</td>\n      <td>214</td>\n      <td>69</td>\n      <td>1</td>\n      <td>0.014493</td>\n    </tr>\n    <tr>\n      <th>62</th>\n      <td>107728</td>\n      <td>10009642</td>\n      <td>sony-ericsson-s500i-unlocked-mysterious-</td>\n      <td>Sony Ericsson S500i Unlocked Mysterious Green</td>\n      <td>499.99</td>\n      <td>17.25</td>\n      <td>17.25</td>\n      <td>0.15</td>\n      <td>0.75</td>\n      <td>Porygon</td>\n      <td>...</td>\n      <td>07:46 PDT 10-11-2008</td>\n      <td>0</td>\n      <td>0</td>\n      <td>0</td>\n      <td>0</td>\n      <td>0</td>\n      <td>115</td>\n      <td>69</td>\n      <td>1</td>\n      <td>0.014493</td>\n    </tr>\n    <tr>\n      <th>63</th>\n      <td>115849</td>\n      <td>10009602</td>\n      <td>sony-ericsson-s500i-unlocked-mysterious-</td>\n      <td>Sony Ericsson S500i Unlocked Mysterious Green</td>\n      <td>499.99</td>\n      <td>24.90</td>\n      <td>24.90</td>\n      <td>0.15</td>\n      <td>0.75</td>\n      <td>Catalana71</td>\n      <td>...</td>\n      <td>03:18 PDT 11-07-2008</td>\n      <td>0</td>\n      <td>1</td>\n      <td>0</td>\n      <td>0</td>\n      <td>0</td>\n      <td>166</td>\n      <td>69</td>\n      <td>1</td>\n      <td>0.014493</td>\n    </tr>\n    <tr>\n      <th>64</th>\n      <td>115859</td>\n      <td>10008975</td>\n      <td>sony-ericsson-s500i-unlocked-mysterious-</td>\n      <td>Sony Ericsson S500i Unlocked Mysterious Green</td>\n      <td>499.99</td>\n      <td>14.25</td>\n      <td>14.25</td>\n      <td>0.15</td>\n      <td>0.75</td>\n      <td>Mattiyorks</td>\n      <td>...</td>\n      <td>09:10 PDT 11-05-2008</td>\n      <td>0</td>\n      <td>1</td>\n      <td>0</td>\n      <td>0</td>\n      <td>0</td>\n      <td>95</td>\n      <td>69</td>\n      <td>1</td>\n      <td>0.014493</td>\n    </tr>\n  </tbody>\n</table>\n<p>65 rows × 22 columns</p>\n</div>"
     },
     "execution_count": 14,
     "metadata": {},
     "output_type": "execute_result"
    }
   ],
   "source": [
    "data_item = data[ data['item'].isin(item)]\n",
    "\n",
    "tmp_csv = data_item[data_item['item'] == item[0]].copy()\n",
    "tmp_csv.reset_index(inplace=True,drop=True)\n",
    "tmp_csv.to_csv(\"tmp_csv.csv\",header=True,encoding=\"utf-8\",index=False)\n",
    "tmp_csv"
   ],
   "metadata": {
    "collapsed": false
   }
  },
  {
   "cell_type": "markdown",
   "source": [
    "可以验证，`prod_not_uniq_2`和`prod_not_uniq_1` **无重合**，所以可以放心处理两组数据不会产生冲突"
   ],
   "metadata": {
    "collapsed": false
   }
  },
  {
   "cell_type": "markdown",
   "source": [
    "## 2.2 Do different 'item' has different 'desc'?\n",
    "1. 重要结论：**'item'是不全的描述，不应该以此为参考**"
   ],
   "metadata": {
    "collapsed": false
   }
  },
  {
   "cell_type": "code",
   "execution_count": 81,
   "outputs": [
    {
     "name": "stdout",
     "output_type": "stream",
     "text": [
      "outcomes.tsv中一共记录了 *899* 个['item','desc']对\n",
      "outcomes.tsv中一共记录了 *897* 个['item']\n",
      "outcomes.tsv中一共记录了 *899* 个['desc']\n"
     ]
    }
   ],
   "source": [
    "data_prod = data[['item','desc']].copy()\n",
    "data_prod.drop_duplicates(inplace=True,ignore_index=True)\n",
    "\n",
    "data_item = data[['item']].copy()\n",
    "data_item.drop_duplicates(inplace=True,ignore_index=True)\n",
    "\n",
    "data_desc = data[['desc']].copy()\n",
    "data_desc.drop_duplicates(inplace=True,ignore_index=True)\n",
    "\n",
    "print(f\"outcomes.tsv中一共记录了 *{data_prod.shape[0]}* 个['item','desc']对\")\n",
    "print(f\"outcomes.tsv中一共记录了 *{data_item.shape[0]}* 个['item']\")\n",
    "print(f\"outcomes.tsv中一共记录了 *{data_desc.shape[0]}* 个['desc']\")"
   ],
   "metadata": {
    "collapsed": false
   }
  },
  {
   "cell_type": "markdown",
   "source": [
    "2. 有2个item对应了多个desc，研究一下"
   ],
   "metadata": {
    "collapsed": false
   }
  },
  {
   "cell_type": "code",
   "execution_count": 82,
   "outputs": [
    {
     "name": "stdout",
     "output_type": "stream",
     "text": [
      "有 *2* 个'item' 对应了多个'desc'\n"
     ]
    },
    {
     "data": {
      "text/plain": "  product_id                                      item  \\\n0        NaN  mario-sonic-at-the-olympic-winter-games-   \n1        NaN  mario-sonic-at-the-olympic-winter-games-   \n2        NaN  star-wars-the-clone-wars-republic-heroes   \n3        NaN  star-wars-the-clone-wars-republic-heroes   \n\n                                                desc  \n0     Mario & Sonic at the Olympic Winter Games (DS)  \n1    Mario & Sonic at the Olympic Winter Games (Wii)  \n2  Star Wars: The Clone Wars - Republic Heroes (Wii)  \n3   Star Wars: The Clone Wars - Republic Heroes (PC)  ",
      "text/html": "<div>\n<style scoped>\n    .dataframe tbody tr th:only-of-type {\n        vertical-align: middle;\n    }\n\n    .dataframe tbody tr th {\n        vertical-align: top;\n    }\n\n    .dataframe thead th {\n        text-align: right;\n    }\n</style>\n<table border=\"1\" class=\"dataframe\">\n  <thead>\n    <tr style=\"text-align: right;\">\n      <th></th>\n      <th>product_id</th>\n      <th>item</th>\n      <th>desc</th>\n    </tr>\n  </thead>\n  <tbody>\n    <tr>\n      <th>0</th>\n      <td>NaN</td>\n      <td>mario-sonic-at-the-olympic-winter-games-</td>\n      <td>Mario &amp; Sonic at the Olympic Winter Games (DS)</td>\n    </tr>\n    <tr>\n      <th>1</th>\n      <td>NaN</td>\n      <td>mario-sonic-at-the-olympic-winter-games-</td>\n      <td>Mario &amp; Sonic at the Olympic Winter Games (Wii)</td>\n    </tr>\n    <tr>\n      <th>2</th>\n      <td>NaN</td>\n      <td>star-wars-the-clone-wars-republic-heroes</td>\n      <td>Star Wars: The Clone Wars - Republic Heroes (Wii)</td>\n    </tr>\n    <tr>\n      <th>3</th>\n      <td>NaN</td>\n      <td>star-wars-the-clone-wars-republic-heroes</td>\n      <td>Star Wars: The Clone Wars - Republic Heroes (PC)</td>\n    </tr>\n  </tbody>\n</table>\n</div>"
     },
     "execution_count": 82,
     "metadata": {},
     "output_type": "execute_result"
    }
   ],
   "source": [
    "# data_prod = data[['product_id','item','desc']].copy()\n",
    "# data_prod.drop_duplicates(inplace=True,ignore_index=True)\n",
    "prod_not_uniq = pd.DataFrame(columns=['product_id','item','desc'])\n",
    "\n",
    "for i in range(0,data_item.shape[0]):\n",
    "    item = data_item.iloc[i,0]\n",
    "    desc = data_prod[data_prod['item']==item].copy()\n",
    "    desc.drop_duplicates(inplace=True,ignore_index=True)\n",
    "    if(desc.shape[0]!=1):\n",
    "        prod_not_uniq = prod_not_uniq.append(desc,ignore_index=True)\n",
    "print(f\"有 *{prod_not_uniq['item'].nunique()}* 个'item' 对应了多个'desc'\")\n",
    "prod_not_uniq"
   ],
   "metadata": {
    "collapsed": false
   }
  },
  {
   "cell_type": "markdown",
   "source": [
    "## 2.3 Do different 'product_id' has different 'desc'?"
   ],
   "metadata": {
    "collapsed": false
   }
  },
  {
   "cell_type": "code",
   "execution_count": 89,
   "outputs": [
    {
     "name": "stdout",
     "output_type": "stream",
     "text": [
      "outcomes.tsv中一共记录了 *1011* 个['product_id','desc']对\n",
      "outcomes.tsv中一共记录了 *1005* 个['product_id']\n",
      "outcomes.tsv中一共记录了 *899* 个['desc']\n"
     ]
    }
   ],
   "source": [
    "data_prod = data[['product_id','desc']].copy()\n",
    "data_prod.drop_duplicates(inplace=True,ignore_index=True)\n",
    "\n",
    "data_prodid = data[['product_id']].copy()\n",
    "data_prodid.drop_duplicates(inplace=True,ignore_index=True)\n",
    "\n",
    "data_item = data[['desc']].copy()\n",
    "data_item.drop_duplicates(inplace=True,ignore_index=True)\n",
    "\n",
    "print(f\"outcomes.tsv中一共记录了 *{data_prod.shape[0]}* 个['product_id','desc']对\")\n",
    "print(f\"outcomes.tsv中一共记录了 *{data_prodid.shape[0]}* 个['product_id']\")\n",
    "print(f\"outcomes.tsv中一共记录了 *{data_item.shape[0]}* 个['desc']\")"
   ],
   "metadata": {
    "collapsed": false
   }
  },
  {
   "cell_type": "markdown",
   "source": [
    "## 2.4 Do same 'desc' have same 'retail'?"
   ],
   "metadata": {
    "collapsed": false
   }
  },
  {
   "cell_type": "code",
   "execution_count": 101,
   "outputs": [
    {
     "name": "stdout",
     "output_type": "stream",
     "text": [
      "outcomes.tsv中一共记录了 *1092* 个['retail','desc']对\n",
      "outcomes.tsv中一共记录了 *907* 个['desc']\n"
     ]
    }
   ],
   "source": [
    "data_prod = data[['retail','desc']].copy()\n",
    "data_prod.drop_duplicates(inplace=True,ignore_index=True)\n",
    "\n",
    "data_desc = data[['desc']].copy()\n",
    "data_desc.drop_duplicates(inplace=True,ignore_index=True)\n",
    "\n",
    "print(f\"outcomes.tsv中一共记录了 *{data_prod.shape[0]}* 个['retail','desc']对\")\n",
    "print(f\"outcomes.tsv中一共记录了 *{data_desc.shape[0]}* 个['desc']\")"
   ],
   "metadata": {
    "collapsed": false
   }
  },
  {
   "cell_type": "markdown",
   "source": [
    "1. find out 有很多desc对应了多个“retail”，这个时候应该把他们当做不同的“auction”！！"
   ],
   "metadata": {
    "collapsed": false
   }
  },
  {
   "cell_type": "code",
   "execution_count": 105,
   "outputs": [
    {
     "name": "stdout",
     "output_type": "stream",
     "text": [
      "有 *150* 个'desc' 对应了多个'retail'\n"
     ]
    },
    {
     "data": {
      "text/plain": "desc\n1 Ounce Gold Bar (31.10g)                             7\n20 Bids Voucher                                       3\n300 Bids Voucher                                      3\n300 FreeBids Voucher                                  2\n50 Bids Voucher                                       3\n                                                     ..\nWii Play (includes Wii Remote Control)                2\nWii Sports Resort with Wii MotionPlus                 4\nWii Wireless Sensor Bar                               2\nWii | Nintendo Console + Wii Sports                   4\nXbox 360 Arcade Console with Sega Superstar Tennis    2\nLength: 150, dtype: int64"
     },
     "execution_count": 105,
     "metadata": {},
     "output_type": "execute_result"
    }
   ],
   "source": [
    "prod_not_uniq = pd.DataFrame(columns=['retail','desc'])\n",
    "\n",
    "for i in range(0,data_desc.shape[0]):\n",
    "    tmp = data_desc.iloc[i,0]\n",
    "    desc = data_prod[data_prod['desc']==tmp].copy()\n",
    "    desc.drop_duplicates(inplace=True,ignore_index=True)\n",
    "    if(desc.shape[0]!=1):\n",
    "        prod_not_uniq = prod_not_uniq.append(desc,ignore_index=True)\n",
    "\n",
    "print(f\"有 *{prod_not_uniq['desc'].nunique()}* 个'desc' 对应了多个'retail'\")\n"
   ],
   "metadata": {
    "collapsed": false
   }
  },
  {
   "cell_type": "markdown",
   "source": [
    "## 2.5 what's the sample amount"
   ],
   "metadata": {
    "collapsed": false
   }
  },
  {
   "cell_type": "code",
   "execution_count": 95,
   "outputs": [
    {
     "name": "stdout",
     "output_type": "stream",
     "text": [
      "一共有 *1196* 个settings\n"
     ]
    },
    {
     "data": {
      "text/plain": "                id  bidincrement       bidfee      retail         size\ncount  1196.000000   1196.000000  1196.000000  1196.00000  1196.000000\nmean    785.630435      0.126647     0.688420   281.46388    57.127090\nstd     468.415208      0.054292     0.073821   422.22706    98.325974\nmin       0.000000      0.010000     0.600000     8.59000     4.000000\n25%     390.500000      0.120000     0.600000    44.99000    19.000000\n50%     771.000000      0.150000     0.750000    82.89000    31.000000\n75%    1134.250000      0.150000     0.750000   313.38000    54.000000\nmax    1748.000000      0.240000     0.750000  2799.99000  1596.000000",
      "text/html": "<div>\n<style scoped>\n    .dataframe tbody tr th:only-of-type {\n        vertical-align: middle;\n    }\n\n    .dataframe tbody tr th {\n        vertical-align: top;\n    }\n\n    .dataframe thead th {\n        text-align: right;\n    }\n</style>\n<table border=\"1\" class=\"dataframe\">\n  <thead>\n    <tr style=\"text-align: right;\">\n      <th></th>\n      <th>id</th>\n      <th>bidincrement</th>\n      <th>bidfee</th>\n      <th>retail</th>\n      <th>size</th>\n    </tr>\n  </thead>\n  <tbody>\n    <tr>\n      <th>count</th>\n      <td>1196.000000</td>\n      <td>1196.000000</td>\n      <td>1196.000000</td>\n      <td>1196.00000</td>\n      <td>1196.000000</td>\n    </tr>\n    <tr>\n      <th>mean</th>\n      <td>785.630435</td>\n      <td>0.126647</td>\n      <td>0.688420</td>\n      <td>281.46388</td>\n      <td>57.127090</td>\n    </tr>\n    <tr>\n      <th>std</th>\n      <td>468.415208</td>\n      <td>0.054292</td>\n      <td>0.073821</td>\n      <td>422.22706</td>\n      <td>98.325974</td>\n    </tr>\n    <tr>\n      <th>min</th>\n      <td>0.000000</td>\n      <td>0.010000</td>\n      <td>0.600000</td>\n      <td>8.59000</td>\n      <td>4.000000</td>\n    </tr>\n    <tr>\n      <th>25%</th>\n      <td>390.500000</td>\n      <td>0.120000</td>\n      <td>0.600000</td>\n      <td>44.99000</td>\n      <td>19.000000</td>\n    </tr>\n    <tr>\n      <th>50%</th>\n      <td>771.000000</td>\n      <td>0.150000</td>\n      <td>0.750000</td>\n      <td>82.89000</td>\n      <td>31.000000</td>\n    </tr>\n    <tr>\n      <th>75%</th>\n      <td>1134.250000</td>\n      <td>0.150000</td>\n      <td>0.750000</td>\n      <td>313.38000</td>\n      <td>54.000000</td>\n    </tr>\n    <tr>\n      <th>max</th>\n      <td>1748.000000</td>\n      <td>0.240000</td>\n      <td>0.750000</td>\n      <td>2799.99000</td>\n      <td>1596.000000</td>\n    </tr>\n  </tbody>\n</table>\n</div>"
     },
     "execution_count": 95,
     "metadata": {},
     "output_type": "execute_result"
    }
   ],
   "source": [
    "data_grouped = data.groupby(unique_setting,as_index=False)\n",
    "data_g = data_grouped.size()\n",
    "print(f\"一共有 *{data_g.shape[0]}* 个settings\")\n",
    "data_g.describe()"
   ],
   "metadata": {
    "collapsed": false
   }
  },
  {
   "cell_type": "markdown",
   "source": [
    "1. 有多少样本数>=100的setting？"
   ],
   "metadata": {
    "collapsed": false
   }
  },
  {
   "cell_type": "code",
   "execution_count": 70,
   "outputs": [
    {
     "name": "stdout",
     "output_type": "stream",
     "text": [
      "133\n"
     ]
    }
   ],
   "source": [
    "print(data_g['size'].map(lambda x: x >= 100).sum())"
   ],
   "metadata": {
    "collapsed": false
   }
  },
  {
   "cell_type": "code",
   "execution_count": 98,
   "outputs": [
    {
     "name": "stdout",
     "output_type": "stream",
     "text": [
      "outcomes.tsv中一共记录了 *1092* 个['retail','desc']对\n",
      "outcomes.tsv中一共记录了 *907* 个['desc']\n"
     ]
    }
   ],
   "source": [],
   "metadata": {
    "collapsed": false
   }
  },
  {
   "cell_type": "code",
   "execution_count": null,
   "outputs": [],
   "source": [],
   "metadata": {
    "collapsed": false
   }
  }
 ],
 "metadata": {
  "kernelspec": {
   "display_name": "Python 3",
   "language": "python",
   "name": "python3"
  },
  "language_info": {
   "codemirror_mode": {
    "name": "ipython",
    "version": 2
   },
   "file_extension": ".py",
   "mimetype": "text/x-python",
   "name": "python",
   "nbconvert_exporter": "python",
   "pygments_lexer": "ipython2",
   "version": "2.7.6"
  }
 },
 "nbformat": 4,
 "nbformat_minor": 0
}
