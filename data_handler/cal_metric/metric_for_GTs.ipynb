{
 "cells": [
  {
   "cell_type": "code",
   "execution_count": 258,
   "metadata": {
    "collapsed": true
   },
   "outputs": [
    {
     "name": "stdout",
     "output_type": "stream",
     "text": [
      "The autoreload extension is already loaded. To reload it, use:\n",
      "  %reload_ext autoreload\n"
     ]
    }
   ],
   "source": [
    "%load_ext autoreload\n",
    "%reload_ext autoreload\n",
    "%autoreload 2"
   ]
  },
  {
   "cell_type": "markdown",
   "source": [
    "# 0. Intro\n",
    "1. 计算得到GT1 GT2 GT3对于testing data的NLL值 or KL-D作为metric\n",
    "2. 不包含InferNet\n",
    "\n",
    "# 1. Preparations\n",
    "## 1.1 global settings"
   ],
   "metadata": {
    "collapsed": false
   }
  },
  {
   "cell_type": "code",
   "execution_count": 259,
   "outputs": [
    {
     "data": {
      "text/plain": "<module 'metric_for_GTs_func' from 'D:\\\\Desktop\\\\PROJ\\\\PAProj\\\\data_handler\\\\cal_metric\\\\metric_for_GTs_func.py'>"
     },
     "execution_count": 259,
     "metadata": {},
     "output_type": "execute_result"
    }
   ],
   "source": [
    "from MLP.utils import *\n",
    "import os\n",
    "from tqdm import tqdm\n",
    "from MLP.Config.config_base import BaseConfig\n",
    "config = BaseConfig()\n",
    "\n",
    "from importlib import reload\n",
    "import metric_for_GTs_func\n",
    "\n",
    "from metric_for_GTs_func import *\n",
    "reload(metric_for_GTs_func)"
   ],
   "metadata": {
    "collapsed": false
   }
  },
  {
   "cell_type": "code",
   "execution_count": 260,
   "outputs": [
    {
     "data": {
      "text/plain": "[4, 31, 35, 66, 204, 407, 508, 512]"
     },
     "execution_count": 260,
     "metadata": {},
     "output_type": "execute_result"
    }
   ],
   "source": [
    "ARTIFICIAL = True\n",
    "noise_pct = 0.05           # 噪音占比:我们希望生成的data总体上最多浮动的百分比noise_pct\n",
    "\n",
    "q=1                 # q=1表示不使用quantile 计算metric\n",
    "CAL_GT1 = False    # 是否计算GT1，按理说只需要计算1次，得到file即可\n",
    "\n",
    "if ARTIFICIAL:\n",
    "        seed_list = [4,31,35,66,204,407,508,512]\n",
    "else:\n",
    "        seed_list = [3,31,62,204,223,407,508,626]\n",
    "seed_list"
   ],
   "metadata": {
    "collapsed": false
   }
  },
  {
   "cell_type": "markdown",
   "source": [
    "## 1.2 the data path\n"
   ],
   "metadata": {
    "collapsed": false
   }
  },
  {
   "cell_type": "code",
   "execution_count": 261,
   "outputs": [],
   "source": [
    "# Target data\n",
    "if ARTIFICIAL:\n",
    "        target_path = \"../../data/artificial_targets_v2_\" + \"noise=\" + str(noise_pct)\n",
    "else:\n",
    "        target_path = r\"../../data/targets_all\"\n",
    "\n",
    "# target data是target_5时 TARGET = 5\n",
    "TARGET = 1\n",
    "\n",
    "# Output\n",
    "output_path = r\"../../MLP/metric_saved/\"\n",
    "prefix = \"\"\n",
    "if ARTIFICIAL:\n",
    "        prefix = \"synthetic_\"\n",
    "else:\n",
    "        prefix = \"real_\"\n",
    "\n",
    "\n",
    "col_names_1 = ['GT1']\n",
    "col_names_2 = ['GT2(Unified)', 'GT2(Avg)']\n",
    "col_names_3 = ['GT3(Unified)', 'GT3(Avg)']\n",
    "\n",
    "\n",
    "# For GT-2\n",
    "# alpha = -0.013581112\n",
    "# delta = 1\n",
    "# labda = 3.312402533\n",
    "\n",
    "MIN_LOSS = 1e-30\n"
   ],
   "metadata": {
    "collapsed": false
   }
  },
  {
   "cell_type": "code",
   "execution_count": 262,
   "outputs": [
    {
     "name": "stdout",
     "output_type": "stream",
     "text": [
      "一共*1276*场auction\n"
     ]
    }
   ],
   "source": [
    "data_key = pd.read_csv(config.data_key_path,encoding=\"utf-8\")\n",
    "\n",
    "# target_path里有全部的target data地址\n",
    "target_all_path = os.listdir(target_path)\n",
    "len_all = len(target_all_path)\n",
    "print(f\"一共*{len(data_key)}*场auction\")\n",
    "\n",
    "assert len_all == len(data_key),\"wrong in len_all\"\n"
   ],
   "metadata": {
    "collapsed": false
   }
  },
  {
   "cell_type": "markdown",
   "source": [
    "# 2. GT1全局只需要算一次\n",
    "1. 生成一个file\n",
    "\n",
    "## 2.1 KL-D"
   ],
   "metadata": {
    "collapsed": false
   }
  },
  {
   "cell_type": "code",
   "execution_count": 224,
   "outputs": [],
   "source": [
    "if CAL_GT1:\n",
    "        metric_GT1_KL = pd.DataFrame()\n",
    "\n",
    "        for idx,file_i in enumerate(target_all_path):\n",
    "\n",
    "                target_path_i = os.path.join(target_path, file_i)\n",
    "                target_df = pd.read_csv(target_path_i,encoding=\"utf-8\")\n",
    "                target_df_uniq = pd.DataFrame(np.unique(target_df,axis=0)) # KL-D计算必须有这一步，去掉N值重复的sample\n",
    "\n",
    "                # Get the auction setting of i_th according to the test_idx\n",
    "                settings_df = data_key.iloc[idx,:]\n",
    "                metric_GT1_KL.loc[idx,col_names_1[0]] = GT1_KL(settings_df,target_df_uniq)\n"
   ],
   "metadata": {
    "collapsed": false
   }
  },
  {
   "cell_type": "code",
   "execution_count": 225,
   "outputs": [],
   "source": [
    "if CAL_GT1:\n",
    "        output_file = output_path + prefix +\"GT1_metric_KL_all.csv\"\n",
    "        metric_GT1_KL.to_csv(output_file)\n",
    "        output_file"
   ],
   "metadata": {
    "collapsed": false
   }
  },
  {
   "cell_type": "markdown",
   "source": [
    "## 2.2 NLL"
   ],
   "metadata": {
    "collapsed": false
   }
  },
  {
   "cell_type": "code",
   "execution_count": 226,
   "outputs": [],
   "source": [
    "if CAL_GT1:\n",
    "        metric_GT1_NLL = pd.DataFrame()\n",
    "\n",
    "        for idx,file_i in enumerate(target_all_path):\n",
    "\n",
    "                target_path_i = os.path.join(target_path, file_i)\n",
    "                target_df = pd.read_csv(target_path_i,encoding=\"utf-8\")\n",
    "                target = list(target_df.iloc[:,0])\n",
    "\n",
    "                # Get the auction setting of i_th according to the test_idx\n",
    "                settings_df = data_key.iloc[idx,:]\n",
    "                metric_GT1_NLL.loc[idx,col_names_1[0]] = GT_1(settings_df,target)\n"
   ],
   "metadata": {
    "collapsed": false
   }
  },
  {
   "cell_type": "code",
   "execution_count": 227,
   "outputs": [],
   "source": [
    "if CAL_GT1:\n",
    "        output_file = output_path + prefix +\"GT1_metric_NLL_all.csv\"\n",
    "        metric_GT1_NLL.to_csv(output_file)\n",
    "        output_file"
   ],
   "metadata": {
    "collapsed": false
   }
  },
  {
   "cell_type": "markdown",
   "source": [
    "# 3. GT2(Unified)和GT2(Avg)\n",
    "- 不同于GT1，需要按照seed算\n",
    "- 同时计算NLL和KL\n"
   ],
   "metadata": {
    "collapsed": false
   }
  },
  {
   "cell_type": "code",
   "execution_count": 118,
   "outputs": [
    {
     "name": "stdout",
     "output_type": "stream",
     "text": [
      "========== seed = 4 ==========\n"
     ]
    },
    {
     "name": "stderr",
     "output_type": "stream",
     "text": [
      "100%|██████████| 255/255 [03:47<00:00,  1.12it/s]\n"
     ]
    },
    {
     "name": "stdout",
     "output_type": "stream",
     "text": [
      "========== seed = 31 ==========\n"
     ]
    },
    {
     "name": "stderr",
     "output_type": "stream",
     "text": [
      "100%|██████████| 255/255 [03:18<00:00,  1.28it/s]\n"
     ]
    },
    {
     "name": "stdout",
     "output_type": "stream",
     "text": [
      "========== seed = 35 ==========\n"
     ]
    },
    {
     "name": "stderr",
     "output_type": "stream",
     "text": [
      "100%|██████████| 255/255 [05:41<00:00,  1.34s/it]\n"
     ]
    },
    {
     "name": "stdout",
     "output_type": "stream",
     "text": [
      "========== seed = 66 ==========\n"
     ]
    },
    {
     "name": "stderr",
     "output_type": "stream",
     "text": [
      "100%|██████████| 255/255 [08:53<00:00,  2.09s/it]\n"
     ]
    },
    {
     "name": "stdout",
     "output_type": "stream",
     "text": [
      "========== seed = 204 ==========\n"
     ]
    },
    {
     "name": "stderr",
     "output_type": "stream",
     "text": [
      "100%|██████████| 255/255 [07:49<00:00,  1.84s/it]\n"
     ]
    },
    {
     "name": "stdout",
     "output_type": "stream",
     "text": [
      "========== seed = 407 ==========\n"
     ]
    },
    {
     "name": "stderr",
     "output_type": "stream",
     "text": [
      "100%|██████████| 255/255 [09:04<00:00,  2.14s/it]\n"
     ]
    },
    {
     "name": "stdout",
     "output_type": "stream",
     "text": [
      "========== seed = 508 ==========\n"
     ]
    },
    {
     "name": "stderr",
     "output_type": "stream",
     "text": [
      "100%|██████████| 255/255 [09:49<00:00,  2.31s/it]\n"
     ]
    },
    {
     "name": "stdout",
     "output_type": "stream",
     "text": [
      "========== seed = 512 ==========\n"
     ]
    },
    {
     "name": "stderr",
     "output_type": "stream",
     "text": [
      "100%|██████████| 255/255 [10:18<00:00,  2.43s/it]"
     ]
    },
    {
     "name": "stdout",
     "output_type": "stream",
     "text": [
      "   index  GT2(Unified)  GT2(Avg)\n",
      "0      4      2.286820  4.183363\n",
      "1     31      2.471957  3.728147\n",
      "2     35      2.172916  3.860008\n",
      "3     66      2.366522  3.884415\n",
      "4    204      4.032703  3.675669\n",
      "5    407      2.648417  3.943135\n",
      "6    508      2.311919  3.815558\n",
      "7    512      2.315638  4.311535\n",
      "   index  GT2(Unified)  GT2(Avg)\n",
      "0      4      6.352456  8.254181\n",
      "1     31      6.527170  7.786769\n",
      "2     35      6.150913  7.842768\n",
      "3     66      6.354901  7.877006\n",
      "4    204      8.026791  7.668687\n",
      "5    407      6.702764  8.000795\n",
      "6    508      6.294789  7.802605\n",
      "7    512      6.442912  8.444024\n"
     ]
    },
    {
     "name": "stderr",
     "output_type": "stream",
     "text": [
      "\n"
     ]
    }
   ],
   "source": [
    "metric_unified_KL = pd.DataFrame()\n",
    "metric_unified_NLL = pd.DataFrame()\n",
    "\n",
    "for seed in seed_list:\n",
    "        setup_seed(seed)\n",
    "        shuffled_indices = save_data_idx_simplified(len_all)\n",
    "        train_idx,_,test_idx = get_data_idx(shuffled_indices, train_pct = config.train_pct, vali_pct=config.vali_pct)\n",
    "\n",
    "        print(f\"========== seed = {seed} ==========\")\n",
    "\n",
    "        if not ARTIFICIAL:\n",
    "                params_unified_path = r\"../../data/SA_PT/params_opitim_GT2_unified_seed=\"+str(seed)+\".csv\"\n",
    "                params_avg_path = r\"../../data/SA_PT/params_opitim_delta_GT2.csv\"\n",
    "        else:\n",
    "                params_unified_path = r\"../../data/SA_PT/params_artificial_GT2_unified_noise=\"+str(noise_pct)+ \"_seed=\"+str(seed)+\".csv\"\n",
    "                params_avg_path = r\"../../data/SA_PT/params_opitim_artificial_GT2_noise_\"+str(noise_pct)+\".csv\"\n",
    "\n",
    "        # Unified\n",
    "        params_unified = pd.read_csv(params_unified_path,encoding=\"utf-8\")\n",
    "        # Get params with the lowest avg_loss\n",
    "        idx_param = params_unified.avg_loss.idxmin(0)\n",
    "        params_unified = params_unified.iloc[idx_param,:]\n",
    "        alpha_unified = params_unified.alpha\n",
    "        labda_unified = params_unified.labda\n",
    "        # print(f\"params_unified:{params_unified}\")\n",
    "\n",
    "        # Avg\n",
    "        params_avg = pd.read_csv(params_avg_path,encoding=\"utf-8\")\n",
    "        # Get all params from training set\n",
    "        params_train = params_avg.iloc[train_idx,:].copy()\n",
    "        # Get avg of them\n",
    "        params_avg = params_train.reset_index().mean()\n",
    "        # print(f\"params_avg:{params_avg}\")\n",
    "\n",
    "        alpha_avg = params_avg.alpha\n",
    "        labda_avg = params_avg.labda\n",
    "\n",
    "\n",
    "        pd_idx = 0\n",
    "        metric_pd_KL = pd.DataFrame()\n",
    "        metric_pd_NLL = pd.DataFrame()\n",
    "        for i in tqdm(test_idx):\n",
    "                # Get target data\n",
    "                target_path_i_path = os.path.join(target_path, target_all_path[i])\n",
    "                target_df = pd.read_csv(target_path_i_path,encoding=\"utf-8\")\n",
    "                target_df_uniq = pd.DataFrame(np.unique(target_df,axis=0)) # KL-D计算必须有这一步，去掉N值重复的sample\n",
    "                target = list(target_df.iloc[:,0])  # NLL计算需要这一步\n",
    "\n",
    "\n",
    "                # Get the auction setting of i_th according to the test_idx\n",
    "                settings_df = data_key.iloc[i,:]\n",
    "\n",
    "                metric_pd_KL.loc[pd_idx,col_names_2[0]] = GT2_KL(settings_df,target_df_uniq,alpha_unified,labda_unified)\n",
    "                metric_pd_KL.loc[pd_idx,col_names_2[1]] = GT2_KL(settings_df,target_df_uniq,alpha_avg,labda_avg)\n",
    "\n",
    "                metric_pd_NLL.loc[pd_idx,col_names_2[0]] = GT_2_uniq(settings_df,target,alpha_unified,labda_unified)\n",
    "                metric_pd_NLL.loc[pd_idx,col_names_2[1]] = GT_2_uniq(settings_df,target,alpha_avg,labda_avg)\n",
    "\n",
    "                pd_idx += 1\n",
    "\n",
    "        metric_unified_KL.loc[seed,col_names_2[0]] = np.mean(metric_pd_KL.loc[:,col_names_2[0]])\n",
    "        metric_unified_KL.loc[seed,col_names_2[1]] = np.mean(metric_pd_KL.loc[:,col_names_2[1]])\n",
    "\n",
    "        metric_unified_NLL.loc[seed,col_names_2[0]] = np.mean(metric_pd_NLL.loc[:,col_names_2[0]])\n",
    "        metric_unified_NLL.loc[seed,col_names_2[1]] = np.mean(metric_pd_NLL.loc[:,col_names_2[1]])\n",
    "\n",
    "metric_unified_KL.reset_index(inplace=True)\n",
    "metric_unified_NLL.reset_index(inplace=True)\n",
    "print(metric_unified_KL)\n",
    "print(metric_unified_NLL)"
   ],
   "metadata": {
    "collapsed": false
   }
  },
  {
   "cell_type": "code",
   "execution_count": 119,
   "outputs": [
    {
     "data": {
      "text/plain": "'../../MLP/metric_saved/synthetic_GT2_metric_KL.csv'"
     },
     "execution_count": 119,
     "metadata": {},
     "output_type": "execute_result"
    }
   ],
   "source": [
    "output_file_KL = output_path + prefix +\"GT2_metric_KL.csv\"\n",
    "metric_unified_KL.to_csv(output_file_KL)\n",
    "output_file_KL"
   ],
   "metadata": {
    "collapsed": false
   }
  },
  {
   "cell_type": "code",
   "execution_count": 120,
   "outputs": [
    {
     "data": {
      "text/plain": "'../../MLP/metric_saved/synthetic_GT2_metric_NLL.csv'"
     },
     "execution_count": 120,
     "metadata": {},
     "output_type": "execute_result"
    }
   ],
   "source": [
    "output_file_NLL = output_path + prefix +\"GT2_metric_NLL.csv\"\n",
    "metric_unified_NLL.to_csv(output_file_NLL)\n",
    "output_file_NLL"
   ],
   "metadata": {
    "collapsed": false
   }
  },
  {
   "cell_type": "markdown",
   "source": [
    "# 4. GT3(Unified)和GT3(Avg)\n",
    "- 不同于GT1，需要按照seed算\n"
   ],
   "metadata": {
    "collapsed": false
   }
  },
  {
   "cell_type": "code",
   "execution_count": 263,
   "outputs": [
    {
     "name": "stdout",
     "output_type": "stream",
     "text": [
      "========== seed = 4 ==========\n",
      "params_avg:index           6.316361e+02\n",
      "key_idx         6.316361e+02\n",
      "alpha           5.512556e-02\n",
      "delta           1.000000e+00\n",
      "initial_loss    1.409671e+06\n",
      "final_loss      1.406431e+06\n",
      "avg_loss        3.597305e+03\n",
      "dtype: float64\n"
     ]
    },
    {
     "name": "stderr",
     "output_type": "stream",
     "text": [
      "100%|██████████| 255/255 [07:30<00:00,  1.77s/it]\n"
     ]
    },
    {
     "name": "stdout",
     "output_type": "stream",
     "text": [
      "========== seed = 31 ==========\n",
      "params_avg:index           6.315073e+02\n",
      "key_idx         6.315073e+02\n",
      "alpha           5.400047e-02\n",
      "delta           1.000000e+00\n",
      "initial_loss    1.387122e+06\n",
      "final_loss      1.383908e+06\n",
      "avg_loss        3.856359e+03\n",
      "dtype: float64\n"
     ]
    },
    {
     "name": "stderr",
     "output_type": "stream",
     "text": [
      "100%|██████████| 255/255 [07:01<00:00,  1.65s/it]\n"
     ]
    },
    {
     "name": "stdout",
     "output_type": "stream",
     "text": [
      "========== seed = 35 ==========\n",
      "params_avg:index           6.290370e+02\n",
      "key_idx         6.290370e+02\n",
      "alpha           5.650647e-02\n",
      "delta           1.000000e+00\n",
      "initial_loss    1.334951e+06\n",
      "final_loss      1.331663e+06\n",
      "avg_loss        3.327227e+03\n",
      "dtype: float64\n"
     ]
    },
    {
     "name": "stderr",
     "output_type": "stream",
     "text": [
      "100%|██████████| 255/255 [06:47<00:00,  1.60s/it]\n"
     ]
    },
    {
     "name": "stdout",
     "output_type": "stream",
     "text": [
      "========== seed = 66 ==========\n",
      "params_avg:index           6.302150e+02\n",
      "key_idx         6.302150e+02\n",
      "alpha           5.882165e-02\n",
      "delta           1.000000e+00\n",
      "initial_loss    1.296829e+06\n",
      "final_loss      1.293512e+06\n",
      "avg_loss        3.547855e+03\n",
      "dtype: float64\n"
     ]
    },
    {
     "name": "stderr",
     "output_type": "stream",
     "text": [
      "100%|██████████| 255/255 [03:54<00:00,  1.09it/s]\n"
     ]
    },
    {
     "name": "stdout",
     "output_type": "stream",
     "text": [
      "========== seed = 204 ==========\n",
      "params_avg:index           6.338455e+02\n",
      "key_idx         6.338455e+02\n",
      "alpha           5.831468e-02\n",
      "delta           1.000000e+00\n",
      "initial_loss    1.509757e+06\n",
      "final_loss      1.506448e+06\n",
      "avg_loss        3.967293e+03\n",
      "dtype: float64\n"
     ]
    },
    {
     "name": "stderr",
     "output_type": "stream",
     "text": [
      "100%|██████████| 255/255 [02:50<00:00,  1.50it/s]\n"
     ]
    },
    {
     "name": "stdout",
     "output_type": "stream",
     "text": [
      "========== seed = 407 ==========\n",
      "params_avg:index           6.326394e+02\n",
      "key_idx         6.326394e+02\n",
      "alpha           5.695327e-02\n",
      "delta           1.000000e+00\n",
      "initial_loss    1.450924e+06\n",
      "final_loss      1.447594e+06\n",
      "avg_loss        3.792409e+03\n",
      "dtype: float64\n"
     ]
    },
    {
     "name": "stderr",
     "output_type": "stream",
     "text": [
      "100%|██████████| 255/255 [04:08<00:00,  1.03it/s]\n"
     ]
    },
    {
     "name": "stdout",
     "output_type": "stream",
     "text": [
      "========== seed = 508 ==========\n",
      "params_avg:index           6.474938e+02\n",
      "key_idx         6.474938e+02\n",
      "alpha           5.475814e-02\n",
      "delta           1.000000e+00\n",
      "initial_loss    1.476784e+06\n",
      "final_loss      1.473457e+06\n",
      "avg_loss        3.773005e+03\n",
      "dtype: float64\n"
     ]
    },
    {
     "name": "stderr",
     "output_type": "stream",
     "text": [
      "100%|██████████| 255/255 [08:36<00:00,  2.02s/it]\n"
     ]
    },
    {
     "name": "stdout",
     "output_type": "stream",
     "text": [
      "========== seed = 512 ==========\n",
      "params_avg:index           6.350941e+02\n",
      "key_idx         6.350941e+02\n",
      "alpha           5.951197e-02\n",
      "delta           1.000000e+00\n",
      "initial_loss    1.192775e+06\n",
      "final_loss      1.189443e+06\n",
      "avg_loss        3.272181e+03\n",
      "dtype: float64\n"
     ]
    },
    {
     "name": "stderr",
     "output_type": "stream",
     "text": [
      "100%|██████████| 255/255 [08:55<00:00,  2.10s/it]"
     ]
    },
    {
     "name": "stdout",
     "output_type": "stream",
     "text": [
      "   index  GT3(Unified)   GT3(Avg)\n",
      "0      4      2.604281   9.481503\n",
      "1     31      3.170322   8.161458\n",
      "2     35      2.316207   8.629289\n",
      "3     66      3.004220   9.256993\n",
      "4    204      5.608378   8.236234\n",
      "5    407      4.341136   8.855707\n",
      "6    508      3.125939   8.703229\n",
      "7    512      3.141783  10.118436\n",
      "   index  GT3(Unified)   GT3(Avg)\n",
      "0      4      6.670822  13.566736\n",
      "1     31      7.227521  12.232042\n",
      "2     35      6.294422  12.625513\n",
      "3     66      6.994390  13.263768\n",
      "4    204      9.607187  12.242754\n",
      "5    407      8.399884  12.926124\n",
      "6    508      7.111192  12.703917\n",
      "7    512      7.271156  14.266156\n"
     ]
    },
    {
     "name": "stderr",
     "output_type": "stream",
     "text": [
      "\n"
     ]
    }
   ],
   "source": [
    "metric_unified_KL = pd.DataFrame()\n",
    "metric_unified_NLL = pd.DataFrame()\n",
    "\n",
    "for seed in seed_list:\n",
    "        setup_seed(seed)\n",
    "        shuffled_indices = save_data_idx_simplified(len_all)\n",
    "        train_idx,_,test_idx = get_data_idx(shuffled_indices, train_pct = config.train_pct, vali_pct=config.vali_pct)\n",
    "\n",
    "        print(f\"========== seed = {seed} ==========\")\n",
    "\n",
    "        if not ARTIFICIAL:\n",
    "                params_unified_path = r\"../../data/SA_PT/params_opitim_GT3_unified_seed=\"+str(seed)+\".csv\"\n",
    "                params_avg_path = r\"../../data/SA_PT/params_opitim_delta_GT3.csv\"\n",
    "        else:\n",
    "                params_unified_path = r\"../../data/SA_PT/params_artificial_GT3_unified_noise=\"+str(noise_pct)+ \"_seed=\"+str(seed)+\".csv\"\n",
    "                params_avg_path = r\"../../data/SA_PT/params_opitim_artificial_GT3_noise_\"+str(noise_pct)+\".csv\"\n",
    "\n",
    "        # Unified\n",
    "        params_unified = pd.read_csv(params_unified_path,encoding=\"utf-8\")\n",
    "        # Get params with the lowest avg_loss\n",
    "        idx_param = params_unified.avg_loss.idxmin(0)\n",
    "        params_unified = params_unified.iloc[idx_param,:]\n",
    "        alpha_unified = params_unified.alpha\n",
    "        # print(f\"params_unified:{params_unified}\")\n",
    "\n",
    "        # Avg\n",
    "        params_avg = pd.read_csv(params_avg_path,encoding=\"utf-8\")\n",
    "        # Get all params from training set\n",
    "        params_train = params_avg.iloc[train_idx,:].copy()\n",
    "        # Get avg of them\n",
    "        params_avg = params_train.reset_index().mean()\n",
    "        print(f\"params_avg:{params_avg}\")\n",
    "\n",
    "        alpha_avg = params_avg.alpha\n",
    "\n",
    "        pd_idx = 0\n",
    "        metric_pd_KL = pd.DataFrame()\n",
    "        metric_pd_NLL = pd.DataFrame()\n",
    "        for i in tqdm(test_idx):\n",
    "                # Get target data\n",
    "                target_path_i_path = os.path.join(target_path, target_all_path[i])\n",
    "                target_df = pd.read_csv(target_path_i_path,encoding=\"utf-8\")\n",
    "                target_df_uniq = pd.DataFrame(np.unique(target_df,axis=0)) # KL-D计算必须有这一步，去掉N值重复的sample\n",
    "                target = list(target_df.iloc[:,0])  # NLL计算需要这一步\n",
    "\n",
    "                # Get the auction setting of i_th according to the test_idx\n",
    "                settings_df = data_key.iloc[i,:]\n",
    "\n",
    "                metric_pd_KL.loc[pd_idx,col_names_3[0]] = GT3_KL(settings_df,target_df_uniq,alpha_unified)\n",
    "                metric_pd_KL.loc[pd_idx,col_names_3[1]] = GT3_KL(settings_df,target_df_uniq,alpha_avg)\n",
    "\n",
    "                metric_pd_NLL.loc[pd_idx,col_names_3[0]] = GT_3_uniq(settings_df,target,alpha_unified)\n",
    "                metric_pd_NLL.loc[pd_idx,col_names_3[1]] = GT_3_uniq(settings_df,target,alpha_avg)\n",
    "\n",
    "                pd_idx += 1\n",
    "\n",
    "        metric_unified_KL.loc[seed,col_names_3[0]] = np.mean(metric_pd_KL.loc[:,col_names_3[0]])\n",
    "        metric_unified_KL.loc[seed,col_names_3[1]] = np.mean(metric_pd_KL.loc[:,col_names_3[1]])\n",
    "\n",
    "        metric_unified_NLL.loc[seed,col_names_3[0]] = np.mean(metric_pd_NLL.loc[:,col_names_3[0]])\n",
    "        metric_unified_NLL.loc[seed,col_names_3[1]] = np.mean(metric_pd_NLL.loc[:,col_names_3[1]])\n",
    "\n",
    "metric_unified_KL.reset_index(inplace=True)\n",
    "metric_unified_NLL.reset_index(inplace=True)\n",
    "print(metric_unified_KL)\n",
    "print(metric_unified_NLL)"
   ],
   "metadata": {
    "collapsed": false
   }
  },
  {
   "cell_type": "code",
   "execution_count": 264,
   "outputs": [
    {
     "data": {
      "text/plain": "   index  GT3(Unified)   GT3(Avg)\n0      4      2.604281   9.481503\n1     31      3.170322   8.161458\n2     35      2.316207   8.629289\n3     66      3.004220   9.256993\n4    204      5.608378   8.236234\n5    407      4.341136   8.855707\n6    508      3.125939   8.703229\n7    512      3.141783  10.118436",
      "text/html": "<div>\n<style scoped>\n    .dataframe tbody tr th:only-of-type {\n        vertical-align: middle;\n    }\n\n    .dataframe tbody tr th {\n        vertical-align: top;\n    }\n\n    .dataframe thead th {\n        text-align: right;\n    }\n</style>\n<table border=\"1\" class=\"dataframe\">\n  <thead>\n    <tr style=\"text-align: right;\">\n      <th></th>\n      <th>index</th>\n      <th>GT3(Unified)</th>\n      <th>GT3(Avg)</th>\n    </tr>\n  </thead>\n  <tbody>\n    <tr>\n      <th>0</th>\n      <td>4</td>\n      <td>2.604281</td>\n      <td>9.481503</td>\n    </tr>\n    <tr>\n      <th>1</th>\n      <td>31</td>\n      <td>3.170322</td>\n      <td>8.161458</td>\n    </tr>\n    <tr>\n      <th>2</th>\n      <td>35</td>\n      <td>2.316207</td>\n      <td>8.629289</td>\n    </tr>\n    <tr>\n      <th>3</th>\n      <td>66</td>\n      <td>3.004220</td>\n      <td>9.256993</td>\n    </tr>\n    <tr>\n      <th>4</th>\n      <td>204</td>\n      <td>5.608378</td>\n      <td>8.236234</td>\n    </tr>\n    <tr>\n      <th>5</th>\n      <td>407</td>\n      <td>4.341136</td>\n      <td>8.855707</td>\n    </tr>\n    <tr>\n      <th>6</th>\n      <td>508</td>\n      <td>3.125939</td>\n      <td>8.703229</td>\n    </tr>\n    <tr>\n      <th>7</th>\n      <td>512</td>\n      <td>3.141783</td>\n      <td>10.118436</td>\n    </tr>\n  </tbody>\n</table>\n</div>"
     },
     "execution_count": 264,
     "metadata": {},
     "output_type": "execute_result"
    }
   ],
   "source": [
    "metric_unified_KL"
   ],
   "metadata": {
    "collapsed": false
   }
  },
  {
   "cell_type": "code",
   "execution_count": 265,
   "outputs": [
    {
     "data": {
      "text/plain": "'../../MLP/metric_saved/synthetic_GT3_metric_KL.csv'"
     },
     "execution_count": 265,
     "metadata": {},
     "output_type": "execute_result"
    }
   ],
   "source": [
    "output_file_KL = output_path + prefix +\"GT3_metric_KL.csv\"\n",
    "metric_unified_KL.to_csv(output_file_KL,index=False)\n",
    "output_file_KL"
   ],
   "metadata": {
    "collapsed": false
   }
  },
  {
   "cell_type": "code",
   "execution_count": 266,
   "outputs": [
    {
     "data": {
      "text/plain": "'../../MLP/metric_saved/synthetic_GT3_metric_NLL.csv'"
     },
     "execution_count": 266,
     "metadata": {},
     "output_type": "execute_result"
    }
   ],
   "source": [
    "output_file_NLL = output_path + prefix +\"GT3_metric_NLL.csv\"\n",
    "metric_unified_NLL.to_csv(output_file_NLL,index=False)\n",
    "output_file_NLL"
   ],
   "metadata": {
    "collapsed": false
   }
  },
  {
   "cell_type": "markdown",
   "source": [
    "# 5. 拾取GT1在test-set上的metric"
   ],
   "metadata": {
    "collapsed": false
   }
  },
  {
   "cell_type": "code",
   "execution_count": 151,
   "outputs": [],
   "source": [
    "metric_KL = pd.DataFrame()\n",
    "metric_NLL = pd.DataFrame()\n",
    "\n",
    "for seed in seed_list:\n",
    "        setup_seed(seed)\n",
    "        shuffled_indices = save_data_idx_simplified(len_all)\n",
    "        _,_,test_idx = get_data_idx(shuffled_indices, train_pct = config.train_pct, vali_pct=config.vali_pct)\n",
    "\n",
    "        KL_metric_path = output_path + prefix +\"GT1_metric_KL_all.csv\"\n",
    "        NLL_metric_path = output_path + prefix +\"GT1_metric_NLL_all.csv\"\n",
    "\n",
    "        KL_metric = pd.read_csv(KL_metric_path,index_col=0)\n",
    "        NLL_metric = pd.read_csv(NLL_metric_path,index_col=0)\n",
    "\n",
    "        metric_KL.loc[seed,col_names_1[0]] = np.mean(KL_metric.loc[test_idx,'GT1'])\n",
    "        metric_NLL.loc[seed,col_names_1[0]] = np.mean(NLL_metric.loc[test_idx,'GT1'])\n"
   ],
   "metadata": {
    "collapsed": false
   }
  },
  {
   "cell_type": "code",
   "execution_count": 152,
   "outputs": [
    {
     "data": {
      "text/plain": "'../../MLP/metric_saved/real_GT1_metric_KL.csv'"
     },
     "execution_count": 152,
     "metadata": {},
     "output_type": "execute_result"
    }
   ],
   "source": [
    "output_file_KL = output_path + prefix + \"GT1_metric_KL.csv\"\n",
    "metric_KL.to_csv(output_file_KL)\n",
    "output_file_KL"
   ],
   "metadata": {
    "collapsed": false
   }
  },
  {
   "cell_type": "code",
   "execution_count": 153,
   "outputs": [
    {
     "data": {
      "text/plain": "'../../MLP/metric_saved/real_GT1_metric_NLL.csv'"
     },
     "execution_count": 153,
     "metadata": {},
     "output_type": "execute_result"
    }
   ],
   "source": [
    "output_file_NLL = output_path + prefix + \"GT1_metric_NLL.csv\"\n",
    "metric_NLL.to_csv(output_file_NLL)\n",
    "output_file_NLL"
   ],
   "metadata": {
    "collapsed": false
   }
  },
  {
   "cell_type": "code",
   "execution_count": null,
   "outputs": [],
   "source": [],
   "metadata": {
    "collapsed": false
   }
  }
 ],
 "metadata": {
  "kernelspec": {
   "display_name": "Python 3",
   "language": "python",
   "name": "python3"
  },
  "language_info": {
   "codemirror_mode": {
    "name": "ipython",
    "version": 2
   },
   "file_extension": ".py",
   "mimetype": "text/x-python",
   "name": "python",
   "nbconvert_exporter": "python",
   "pygments_lexer": "ipython2",
   "version": "2.7.6"
  }
 },
 "nbformat": 4,
 "nbformat_minor": 0
}
