{
 "cells": [
  {
   "cell_type": "markdown",
   "source": [
    "# 0.\n",
    "1. 整理MLP/net_saved中的csv文件\n"
   ],
   "metadata": {
    "collapsed": false
   }
  },
  {
   "cell_type": "code",
   "execution_count": 2,
   "metadata": {
    "collapsed": true
   },
   "outputs": [],
   "source": [
    "import pandas as pd\n",
    "\n",
    "data_root = \"../../MLP/metric_saved/\"\n",
    "\n",
    "ARTIFICIAL = True"
   ]
  },
  {
   "cell_type": "markdown",
   "source": [
    "- 根据参数整理file name\n",
    "    - `index`列为seed"
   ],
   "metadata": {
    "collapsed": false
   }
  },
  {
   "cell_type": "code",
   "execution_count": 8,
   "outputs": [],
   "source": [
    "prefix = \"\"\n",
    "metric_NLL_all = pd.DataFrame()\n",
    "metric_KL_all = pd.DataFrame()\n",
    "\n",
    "if not ARTIFICIAL:\n",
    "    prefix = \"real_\"\n",
    "    metric_NLL_all = pd.DataFrame(data = [3,31,62,204,223,407,508,626],columns=['seed'])\n",
    "    metric_KL_all = pd.DataFrame(data = [3,31,62,204,223,407,508,626],columns=['seed'])\n",
    "\n",
    "\n",
    "if ARTIFICIAL:\n",
    "    prefix = \"synthetic_\"\n",
    "    metric_NLL_all = pd.DataFrame(data = [4,31,35,66,204,407,508,512],columns=['seed'])\n",
    "    metric_KL_all = pd.DataFrame(data = [4,31,35,66,204,407,508,512],columns=['seed'])\n",
    "\n",
    "\n",
    "MODEL_LIST_1dim = [\"GT1(MDN)\",\"GT2(MDN)\",\"GT3\",\"EMD\"]\n",
    "MODEL_LIST_2dim = [\"GT1+GT2\",\"GT1+GT3\",\"GT1+EMD\",\"GT2+GT3\",\"GT2+EMD\",\"GT3+EMD\"]\n",
    "MODEL_LIST_3dim = [\"GT1_GT2_GT3\",\"GT1_GT2_EMD\",\"GT1_GT3_EMD\",\"GT2_GT3_EMD\"]\n",
    "MODEL_LIST_4dim = [\"GT1_GT2_GT3_EMD\"]"
   ],
   "metadata": {
    "collapsed": false
   }
  },
  {
   "cell_type": "markdown",
   "source": [
    "- 合并MODEL_LIST_1dim...的metric到一个表里，按照seed merge\n"
   ],
   "metadata": {
    "collapsed": false
   }
  },
  {
   "cell_type": "code",
   "execution_count": 9,
   "outputs": [
    {
     "name": "stdout",
     "output_type": "stream",
     "text": [
      "file_name = ../../MLP/metric_saved/synthetic_GT1+GT2.csv\n",
      "file_name = ../../MLP/metric_saved/synthetic_GT1+GT3.csv\n",
      "file_name = ../../MLP/metric_saved/synthetic_GT1+EMD.csv\n",
      "file_name = ../../MLP/metric_saved/synthetic_GT2+GT3.csv\n",
      "file_name = ../../MLP/metric_saved/synthetic_GT2+EMD.csv\n",
      "file_name = ../../MLP/metric_saved/synthetic_GT3+EMD.csv\n"
     ]
    }
   ],
   "source": [
    "# for model in MODEL_LIST_1dim+MODEL_LIST_2dim+MODEL_LIST_3dim+MODEL_LIST_4dim:\n",
    "for model in MODEL_LIST_2dim:\n",
    "    file_name = data_root+prefix+model+\".csv\"\n",
    "\n",
    "    print(f\"file_name = {file_name}\")\n",
    "\n",
    "    metric_i = pd.read_csv(file_name)\n",
    "\n",
    "    metric_i_NLL = metric_i[['index','NLL']].copy()\n",
    "    metric_i_KL = metric_i[['index','KL-D']].copy()\n",
    "\n",
    "    metric_i_NLL.columns = ['seed',model]\n",
    "    metric_i_KL.columns = ['seed',model]\n",
    "\n",
    "    metric_NLL_all = pd.merge(metric_NLL_all,metric_i_NLL,how = \"left\", on='seed')\n",
    "    metric_KL_all = pd.merge(metric_KL_all,metric_i_KL,how = \"left\", on='seed')\n"
   ],
   "metadata": {
    "collapsed": false
   }
  },
  {
   "cell_type": "code",
   "execution_count": 10,
   "outputs": [
    {
     "data": {
      "text/plain": "   seed   GT1+GT2   GT1+GT3   GT1+EMD   GT2+GT3   GT2+EMD   GT3+EMD\n0     4  5.527057  5.416844  6.081592  5.602252  5.523818  5.590069\n1    31  5.283689  5.222265  5.920137  5.224831  5.361186  5.411547\n2    35  5.383320  5.379567  6.004590  5.527185  5.392550  5.627825\n3    66  5.482600  5.353164  6.287557  5.246380  5.736234  5.590114\n4   204  5.264512  5.075982  6.328412  5.046281  5.671402  5.189303\n5   407  5.511404  5.314309  5.951461  5.457565  5.521238  5.437730\n6   508  5.277242  5.202309  5.853602  5.179202  5.418640  5.106350\n7   512  5.583831  5.461265  6.162032  5.448652  5.690550  5.573873",
      "text/html": "<div>\n<style scoped>\n    .dataframe tbody tr th:only-of-type {\n        vertical-align: middle;\n    }\n\n    .dataframe tbody tr th {\n        vertical-align: top;\n    }\n\n    .dataframe thead th {\n        text-align: right;\n    }\n</style>\n<table border=\"1\" class=\"dataframe\">\n  <thead>\n    <tr style=\"text-align: right;\">\n      <th></th>\n      <th>seed</th>\n      <th>GT1+GT2</th>\n      <th>GT1+GT3</th>\n      <th>GT1+EMD</th>\n      <th>GT2+GT3</th>\n      <th>GT2+EMD</th>\n      <th>GT3+EMD</th>\n    </tr>\n  </thead>\n  <tbody>\n    <tr>\n      <th>0</th>\n      <td>4</td>\n      <td>5.527057</td>\n      <td>5.416844</td>\n      <td>6.081592</td>\n      <td>5.602252</td>\n      <td>5.523818</td>\n      <td>5.590069</td>\n    </tr>\n    <tr>\n      <th>1</th>\n      <td>31</td>\n      <td>5.283689</td>\n      <td>5.222265</td>\n      <td>5.920137</td>\n      <td>5.224831</td>\n      <td>5.361186</td>\n      <td>5.411547</td>\n    </tr>\n    <tr>\n      <th>2</th>\n      <td>35</td>\n      <td>5.383320</td>\n      <td>5.379567</td>\n      <td>6.004590</td>\n      <td>5.527185</td>\n      <td>5.392550</td>\n      <td>5.627825</td>\n    </tr>\n    <tr>\n      <th>3</th>\n      <td>66</td>\n      <td>5.482600</td>\n      <td>5.353164</td>\n      <td>6.287557</td>\n      <td>5.246380</td>\n      <td>5.736234</td>\n      <td>5.590114</td>\n    </tr>\n    <tr>\n      <th>4</th>\n      <td>204</td>\n      <td>5.264512</td>\n      <td>5.075982</td>\n      <td>6.328412</td>\n      <td>5.046281</td>\n      <td>5.671402</td>\n      <td>5.189303</td>\n    </tr>\n    <tr>\n      <th>5</th>\n      <td>407</td>\n      <td>5.511404</td>\n      <td>5.314309</td>\n      <td>5.951461</td>\n      <td>5.457565</td>\n      <td>5.521238</td>\n      <td>5.437730</td>\n    </tr>\n    <tr>\n      <th>6</th>\n      <td>508</td>\n      <td>5.277242</td>\n      <td>5.202309</td>\n      <td>5.853602</td>\n      <td>5.179202</td>\n      <td>5.418640</td>\n      <td>5.106350</td>\n    </tr>\n    <tr>\n      <th>7</th>\n      <td>512</td>\n      <td>5.583831</td>\n      <td>5.461265</td>\n      <td>6.162032</td>\n      <td>5.448652</td>\n      <td>5.690550</td>\n      <td>5.573873</td>\n    </tr>\n  </tbody>\n</table>\n</div>"
     },
     "execution_count": 10,
     "metadata": {},
     "output_type": "execute_result"
    }
   ],
   "source": [
    "metric_NLL_all"
   ],
   "metadata": {
    "collapsed": false
   }
  },
  {
   "cell_type": "code",
   "execution_count": 11,
   "outputs": [
    {
     "data": {
      "text/plain": "   seed   GT1+GT2   GT1+GT3   GT1+EMD   GT2+GT3   GT2+EMD   GT3+EMD\n0     4  1.478615  1.368402  2.033149  1.553809  1.475373  1.541626\n1    31  1.246058  1.184636  1.882506  1.187203  1.323557  1.373917\n2    35  1.422912  1.419158  2.044179  1.566775  1.432142  1.667415\n3    66  1.510974  1.381540  2.315931  1.274752  1.764608  1.618486\n4   204  1.293223  1.104691  2.357123  1.074989  1.700111  1.218012\n5   407  1.475508  1.278409  1.915563  1.421669  1.485343  1.401834\n6   508  1.311900  1.236970  1.888260  1.213861  1.453301  1.141007\n7   512  1.474170  1.351604  2.052367  1.338991  1.580888  1.464212",
      "text/html": "<div>\n<style scoped>\n    .dataframe tbody tr th:only-of-type {\n        vertical-align: middle;\n    }\n\n    .dataframe tbody tr th {\n        vertical-align: top;\n    }\n\n    .dataframe thead th {\n        text-align: right;\n    }\n</style>\n<table border=\"1\" class=\"dataframe\">\n  <thead>\n    <tr style=\"text-align: right;\">\n      <th></th>\n      <th>seed</th>\n      <th>GT1+GT2</th>\n      <th>GT1+GT3</th>\n      <th>GT1+EMD</th>\n      <th>GT2+GT3</th>\n      <th>GT2+EMD</th>\n      <th>GT3+EMD</th>\n    </tr>\n  </thead>\n  <tbody>\n    <tr>\n      <th>0</th>\n      <td>4</td>\n      <td>1.478615</td>\n      <td>1.368402</td>\n      <td>2.033149</td>\n      <td>1.553809</td>\n      <td>1.475373</td>\n      <td>1.541626</td>\n    </tr>\n    <tr>\n      <th>1</th>\n      <td>31</td>\n      <td>1.246058</td>\n      <td>1.184636</td>\n      <td>1.882506</td>\n      <td>1.187203</td>\n      <td>1.323557</td>\n      <td>1.373917</td>\n    </tr>\n    <tr>\n      <th>2</th>\n      <td>35</td>\n      <td>1.422912</td>\n      <td>1.419158</td>\n      <td>2.044179</td>\n      <td>1.566775</td>\n      <td>1.432142</td>\n      <td>1.667415</td>\n    </tr>\n    <tr>\n      <th>3</th>\n      <td>66</td>\n      <td>1.510974</td>\n      <td>1.381540</td>\n      <td>2.315931</td>\n      <td>1.274752</td>\n      <td>1.764608</td>\n      <td>1.618486</td>\n    </tr>\n    <tr>\n      <th>4</th>\n      <td>204</td>\n      <td>1.293223</td>\n      <td>1.104691</td>\n      <td>2.357123</td>\n      <td>1.074989</td>\n      <td>1.700111</td>\n      <td>1.218012</td>\n    </tr>\n    <tr>\n      <th>5</th>\n      <td>407</td>\n      <td>1.475508</td>\n      <td>1.278409</td>\n      <td>1.915563</td>\n      <td>1.421669</td>\n      <td>1.485343</td>\n      <td>1.401834</td>\n    </tr>\n    <tr>\n      <th>6</th>\n      <td>508</td>\n      <td>1.311900</td>\n      <td>1.236970</td>\n      <td>1.888260</td>\n      <td>1.213861</td>\n      <td>1.453301</td>\n      <td>1.141007</td>\n    </tr>\n    <tr>\n      <th>7</th>\n      <td>512</td>\n      <td>1.474170</td>\n      <td>1.351604</td>\n      <td>2.052367</td>\n      <td>1.338991</td>\n      <td>1.580888</td>\n      <td>1.464212</td>\n    </tr>\n  </tbody>\n</table>\n</div>"
     },
     "execution_count": 11,
     "metadata": {},
     "output_type": "execute_result"
    }
   ],
   "source": [
    "metric_KL_all"
   ],
   "metadata": {
    "collapsed": false
   }
  },
  {
   "cell_type": "code",
   "execution_count": 12,
   "outputs": [],
   "source": [
    "metric_NLL_all.to_csv(\"metric_NLL_all.csv\")\n",
    "metric_KL_all.to_csv(\"metric_KL_all.csv\")"
   ],
   "metadata": {
    "collapsed": false
   }
  },
  {
   "cell_type": "code",
   "execution_count": null,
   "outputs": [],
   "source": [],
   "metadata": {
    "collapsed": false
   }
  }
 ],
 "metadata": {
  "kernelspec": {
   "display_name": "Python 3",
   "language": "python",
   "name": "python3"
  },
  "language_info": {
   "codemirror_mode": {
    "name": "ipython",
    "version": 2
   },
   "file_extension": ".py",
   "mimetype": "text/x-python",
   "name": "python",
   "nbconvert_exporter": "python",
   "pygments_lexer": "ipython2",
   "version": "2.7.6"
  }
 },
 "nbformat": 4,
 "nbformat_minor": 0
}
