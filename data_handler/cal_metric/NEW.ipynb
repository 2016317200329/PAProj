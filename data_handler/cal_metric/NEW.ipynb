{
 "cells": [
  {
   "cell_type": "code",
   "execution_count": null,
   "metadata": {
    "collapsed": true
   },
   "outputs": [],
   "source": [
    "%load_ext autoreload\n",
    "%reload_ext autoreload\n",
    "%autoreload 2"
   ]
  },
  {
   "cell_type": "markdown",
   "source": [
    "# 0. Intro\n",
    "1. 计算得到GT1 GT2 GT3对于testing data的NLL值 or KL-D作为metric\n",
    "2. 不包含InferNet\n",
    "\n",
    "# 1. Preparations\n",
    "## 1.1 global settings"
   ],
   "metadata": {
    "collapsed": false
   }
  },
  {
   "cell_type": "code",
   "execution_count": 2,
   "outputs": [
    {
     "data": {
      "text/plain": "<module 'metric_for_GTs_func' from 'D:\\\\Desktop\\\\PROJ\\\\PAProj\\\\data_handler\\\\cal_metric\\\\metric_for_GTs_func.py'>"
     },
     "execution_count": 2,
     "metadata": {},
     "output_type": "execute_result"
    }
   ],
   "source": [
    "from MLP.utils import *\n",
    "import os\n",
    "from MLP.Config.config_base import BaseConfig\n",
    "config = BaseConfig()\n",
    "# For GT-2\n",
    "from GT_model.GT_2.SA_for_PT_funcs_delta_eq1 import *\n",
    "import GT_model.GT_2.SA_for_PT_funcs_delta_eq1\n",
    "# reload(GT_model.GT_2.SA_for_PT_funcs_delta_eq1)\n",
    "from importlib import reload\n",
    "import metric_for_GTs_func\n",
    "\n",
    "from metric_for_GTs_func import *\n",
    "reload(metric_for_GTs_func)"
   ],
   "metadata": {
    "collapsed": false
   }
  },
  {
   "cell_type": "code",
   "execution_count": null,
   "outputs": [],
   "source": [
    "ARTIFICIAL = False\n",
    "noise_pct = 0.05           # 噪音占比:我们希望生成的data总体上最多浮动的百分比noise_pct\n",
    "# seed = 62            # [3,31,204,223,407]# 计算alpha和lambda的来源：NN的infer结果，还是来自csv的结果\n",
    "q=1                 # q=1表示不使用quantile 计算metric\n",
    "GT_w_Params = 2\n",
    "## Real\n",
    "seed_list = [3,31,204,223,407,62,508,626]\n",
    "\n",
    "## Synth.\n",
    "# seed_list = [4,31,204,35,407,66,508,512]\n"
   ],
   "metadata": {
    "collapsed": false
   }
  },
  {
   "cell_type": "markdown",
   "source": [
    "## 1.2 the data path\n"
   ],
   "metadata": {
    "collapsed": false
   }
  },
  {
   "cell_type": "code",
   "execution_count": null,
   "outputs": [],
   "source": [
    "# [4,31,204,35,407]\n",
    "# Target data\n",
    "if ARTIFICIAL:\n",
    "        target_path = \"../data/artificial_targets_v2_\" + \"noise=\" + str(noise_pct)\n",
    "else:\n",
    "        target_path = r\"../data/targets_all\"\n",
    "\n",
    "# Input: GT-2 params\n",
    "if ARTIFICIAL:\n",
    "        # GT-2 NN 产生的params\n",
    "        params_opitim_path_NN = r\"../data/SA_PT/params_artificial_GT2_noise=\" + str(noise_pct)+\"_seed=\" + str(seed) + \".csv\"\n",
    "        # SA 的 params\n",
    "        params_opitim_path_SA = \"../data/SA_PT/params_opitim_artificial_v2_noise_\"+str(noise_pct)+\".csv\"\n",
    "else:\n",
    "        # GT-2 NN 产生的params\n",
    "        params_opitim_path_NN_2 = r\"../data/SA_PT/params_GT2_seed=\" + str(seed) + \".csv\"\n",
    "        params_opitim_path_NN_3 = r\"../data/SA_PT/params_GT3_seed=\" + str(seed) + \".csv\"\n",
    "        # SA 的 params\n",
    "        params_opitim_path_SA = \"../data/SA_PT/params_opitim_delta_T.csv\"\n",
    "\n",
    "# target data是target_5时 TARGET = 5\n",
    "TARGET = 1\n",
    "\n",
    "# Output path\n",
    "# 3 col and 4 col\n",
    "if ARTIFICIAL:\n",
    "        NLL_metric_path_1  = r\"../data/GT_metric/NLL_metric_GT_Tgt=1_e30_artificial_v_2_noise=\"+str(noise_pct)+\".csv\"\n",
    "        NLL_metric_path_2  =\"../data/GT_metric/NLL_metric_GT_Tgt=1_e30_all_\"+\"artificial_targets_v2_\" + \"noise=\" + str(noise_pct)+\"_seed=\"+str(seed)+\".csv\"\n",
    "else:\n",
    "        NLL_metric_path_1  =\"../data/GT_metric/NLL_metric_GT_Tgt=1_e30.csv\"\n",
    "        # 添加的这一列和seed有关！\n",
    "        NLL_metric_path_2  =\"../data/GT_metric/NLL_metric_GT_Tgt=1_e30_seed=\"+str(seed)+\".csv\"\n",
    "\n",
    "col_names = ['GT1', 'GT2(common)','GT2(SA)']\n",
    "col_names_NN = ['GT2(NN)']\n",
    "\n",
    "# For GT-2\n",
    "alpha = -0.013581112\n",
    "delta = 1\n",
    "labda = 3.312402533\n",
    "\n",
    "MIN_LOSS = 1e-30\n"
   ],
   "metadata": {
    "collapsed": false
   }
  },
  {
   "cell_type": "code",
   "execution_count": null,
   "outputs": [],
   "source": [
    "data_key = pd.read_csv(config.data_key_path,encoding=\"utf-8\")\n",
    "\n",
    "# params_opitim_delta= pd.read_csv(params_opitim_delta_path,encoding=\"utf-8\")\n",
    "params_opitim_SA = pd.read_csv(params_opitim_path_SA,encoding=\"utf-8\")\n",
    "\n",
    "# target_path里有全部的target data地址\n",
    "target_all_path = os.listdir(target_path)\n",
    "len_all = len(target_all_path)\n",
    "print(f\"一共*{len(data_key)}*场auction\")\n",
    "\n",
    "assert len_all == len(data_key),\"wrong in len_all\"\n"
   ],
   "metadata": {
    "collapsed": false
   }
  },
  {
   "cell_type": "markdown",
   "source": [
    "# 2. GT1全局只需要算一次\n",
    "1. 生成一个file"
   ],
   "metadata": {
    "collapsed": false
   }
  },
  {
   "cell_type": "code",
   "execution_count": null,
   "outputs": [],
   "source": [
    "for i in idx:\n",
    "        settings_df = data_key.iloc[idx,:]\n",
    "        metric_pd.loc[pd_idx,col_names[0]] = GT1_KL(settings_df,target_df_uniq)\n"
   ],
   "metadata": {
    "collapsed": false
   }
  },
  {
   "cell_type": "code",
   "execution_count": null,
   "outputs": [],
   "source": [
    "GT1_metric_pd_NLL = pd.DataFrame()\n",
    "\n",
    "for seed in seed_list:\n",
    "        setup_seed(seed)\n",
    "        shuffled_indices = save_data_idx_simplified(len_all)\n",
    "        _,_,test_idx = get_data_idx(shuffled_indices, train_pct = config.train_pct, vali_pct=config.vali_pct)\n",
    "\n",
    "        print(f\"========== seed = {seed} ==========\")\n",
    "\n",
    "        if not ARTIFICIAL:\n",
    "                params_opitim_path_NN_2 = r\"../data/SA_PT/params_GT2_seed=\" + str(seed) + \".csv\"\n",
    "                params_opitim_path_NN_3 = r\"../data/SA_PT/params_GT3_seed=\" + str(seed) + \".csv\"\n",
    "        else:\n",
    "                params_opitim_path_NN_2 = r\"../data/SA_PT/params_artificial_GT2_noise=\" + str(noise_pct)+\"_seed=\" + str(seed) + \".csv\"\n",
    "                params_opitim_path_NN_3 = r\"../data/SA_PT/params_artificial_GT3_noise=\" + str(noise_pct)+\"_seed=\" + str(seed) + \".csv\"\n",
    "\n",
    "        params_opitim_NN_2 = pd.read_csv(params_opitim_path_NN_2,encoding=\"utf-8\")\n",
    "        params_opitim_NN_3 = pd.read_csv(params_opitim_path_NN_3,encoding=\"utf-8\")\n",
    "\n",
    "        pd_idx = 0\n",
    "        metric_pd = pd.DataFrame()\n",
    "        for i in test_idx:\n",
    "                # Get target data\n",
    "                target_path_i_path = os.path.join(target_path, target_all_path[i])\n",
    "                target_df = pd.read_csv(target_path_i_path,encoding=\"utf-8\")\n",
    "                target = list(target_df.iloc[:,0])\n",
    "\n",
    "                if target_df.shape[0] >= THRESHOLD:\n",
    "                        pass\n",
    "                else:   # 不计算少于THRESHOLD的auction\n",
    "                        continue\n",
    "\n",
    "                if not ARTIFICIAL:\n",
    "                        target_df_uniq = pd.DataFrame(np.unique(target_df,axis=0)) # KL-D计算必须有这一步，去掉N值重复的sample\n",
    "                else: # 对于生成数据，不包含P列，需要手动计算\n",
    "                        target_df_group = target_df.groupby(by = ['N'],as_index=False).size()\n",
    "                        target_df_group['P'] = target_df_group['size'] / sum(target_df_group['size'])\n",
    "\n",
    "                        target_df_uniq = pd.merge(left = target_df, right=target_df_group ,how=\"left\", on=['N'])\n",
    "                        target_df_uniq.drop(labels='size',axis=1,inplace=True)\n",
    "                        target_df_uniq = pd.DataFrame(np.unique(target_df_uniq,axis=0)).copy()    # KL-D计算必须有这一步，去掉N值重复的sample\n",
    "                        target_df_uniq.columns = ['N','P']\n",
    "\n",
    "                idx = 0\n",
    "\n",
    "                # Get the auction setting\n",
    "                settings_df = data_key.iloc[idx,:]\n",
    "\n",
    "                alpha_2 = params_opitim_NN_2.loc[pd_idx,'alpha'].item()\n",
    "                labda_2 = params_opitim_NN_2.loc[pd_idx,'labda'].item()\n",
    "                alpha_3 = params_opitim_NN_3.loc[pd_idx,'alpha'].item()\n",
    "\n",
    "                # metric_pd.loc[pd_idx,col_names[0]] = GT1_KL(settings_df,target_df_uniq)\n",
    "                metric_pd.loc[pd_idx,col_names[0]] = GT2_KL(settings_df,target_df_uniq,alpha_2,labda_2)\n",
    "                metric_pd.loc[pd_idx,col_names[1]] = GT3_KL(settings_df,target_df_uniq,alpha_3)\n",
    "\n",
    "                pd_idx += 1\n",
    "\n",
    "        # GT_metric_pd_KL.loc[seed,col_names[0]] = np.mean(metric_pd.loc[:,col_names[0]])\n",
    "        GT_metric_pd_KL.loc[seed,col_names[0]] = np.mean(metric_pd.loc[:,col_names[0]])\n",
    "        GT_metric_pd_KL.loc[seed,col_names[1]] = np.mean(metric_pd.loc[:,col_names[1]])\n",
    "\n",
    "\n",
    "GT_metric_pd_KL.reset_index(inplace=True)\n",
    "print(GT_metric_pd_KL)"
   ],
   "metadata": {
    "collapsed": false
   }
  },
  {
   "cell_type": "code",
   "execution_count": null,
   "outputs": [],
   "source": [
    "NLL_metric = np.array([0]*len(target_all_path)*3).reshape(-1,3)\n",
    "NLL_metric_pd = pd.DataFrame(NLL_metric,columns=col_names)\n",
    "\n",
    "for i in tqdm(range(len_all)):\n",
    "        # Get target data\n",
    "        target_path_i_path = os.path.join(target_path, target_all_path[i])\n",
    "        target_df = pd.read_csv(target_path_i_path,encoding=\"utf-8\")\n",
    "        target = list(target_df.iloc[:,0])\n",
    "        idx = 0\n",
    "        # Get the auction setting\n",
    "        if i < len_small:\n",
    "                idx = i\n",
    "                settings_df = data_key_small.iloc[idx,:]\n",
    "        else:\n",
    "                idx = i-len_small\n",
    "                settings_df = data_key_large.iloc[idx,:]\n",
    "        # Compute the NLL value of each GT models\n",
    "        NLL_metric_pd.iloc[i,0] = GT_1(settings_df,target)\n",
    "        # GT-2: common\n",
    "        NLL_metric_pd.iloc[i,1] = GT_2(settings_df,target)\n",
    "\n",
    "        # GT-2: SA\n",
    "        alpha_i = params_opitim_SA.loc[i,'alpha'].item()\n",
    "        labda_i = params_opitim_SA.loc[i,'labda'].item()\n",
    "        NLL_metric_pd.iloc[i,2] = GT_2_uniq(settings_df,target,alpha_i,labda_i)"
   ],
   "metadata": {
    "collapsed": false
   }
  }
 ],
 "metadata": {
  "kernelspec": {
   "display_name": "Python 3",
   "language": "python",
   "name": "python3"
  },
  "language_info": {
   "codemirror_mode": {
    "name": "ipython",
    "version": 2
   },
   "file_extension": ".py",
   "mimetype": "text/x-python",
   "name": "python",
   "nbconvert_exporter": "python",
   "pygments_lexer": "ipython2",
   "version": "2.7.6"
  }
 },
 "nbformat": 4,
 "nbformat_minor": 0
}
