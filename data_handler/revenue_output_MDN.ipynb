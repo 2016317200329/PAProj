{
 "cells": [
  {
   "cell_type": "code",
   "execution_count": 61,
   "metadata": {
    "collapsed": true
   },
   "outputs": [
    {
     "name": "stdout",
     "output_type": "stream",
     "text": [
      "The autoreload extension is already loaded. To reload it, use:\n",
      "  %reload_ext autoreload\n"
     ]
    }
   ],
   "source": [
    "%load_ext autoreload\n",
    "%reload_ext autoreload\n",
    "%autoreload 2"
   ]
  },
  {
   "cell_type": "markdown",
   "source": [
    "# 0. what for\n",
    "1. 获取MDN的输出\n",
    "\n",
    "# 1."
   ],
   "metadata": {
    "collapsed": false
   }
  },
  {
   "cell_type": "code",
   "execution_count": 71,
   "outputs": [],
   "source": [
    "import random\n",
    "import pickle\n",
    "import time\n",
    "\n",
    "import torch.utils.data\n",
    "import torchvision.transforms as transforms\n",
    "import visdom\n",
    "\n",
    "from MLP.mydataset import *\n",
    "import torch.nn as nn\n",
    "import MLP.my_collate_fn\n",
    "from MLP.my_collate_fn import my_collate_fn_3\n",
    "from torch.utils.data import DataLoader, SequentialSampler\n",
    "\n",
    "from importlib import reload\n",
    "from torch.nn.utils import clip_grad_norm_\n",
    "\n",
    "from MLP.models import Conv_1_4\n",
    "\n",
    "######### Ray Tune\n",
    "\n",
    "import MLP.loss\n",
    "import MLP.plot\n",
    "\n",
    "reload(MLP.loss)    # 必须reload！！\n",
    "\n",
    "reload(MLP.my_collate_fn)\n",
    "\n",
    "from MLP.Config.config_revenue import DefaultConfig\n",
    "reload(MLP.Config.config_revenue)\n",
    "opt = DefaultConfig()\n",
    "device = torch.device('cuda:0' if torch.cuda.is_available() else 'cpu')\n",
    "from MLP.loss import validate\n"
   ],
   "metadata": {
    "collapsed": false
   }
  },
  {
   "cell_type": "code",
   "execution_count": 72,
   "outputs": [
    {
     "name": "stdout",
     "output_type": "stream",
     "text": [
      "seed= 31\n"
     ]
    }
   ],
   "source": [
    "def setup_seed(seed):\n",
    "    torch.manual_seed(seed)\n",
    "    torch.cuda.manual_seed_all(seed)\n",
    "    np.random.seed(seed)\n",
    "    random.seed(seed)\n",
    "    torch.backends.cudnn.deterministic = True\n",
    "\n",
    "setup_seed(opt.seed)\n",
    "\n",
    "dataset = myDataset(opt.train_path, opt.target_path_metric, opt.target_path_loss, opt.data_key_path, opt.NLL_metric_path)\n",
    "\n",
    "\n",
    "data_idx = np.arange(0,dataset.__len__()).tolist()\n",
    "len_all = len(data_idx)\n",
    "print(\"seed=\",opt.seed)"
   ],
   "metadata": {
    "collapsed": false
   }
  },
  {
   "cell_type": "code",
   "execution_count": 73,
   "outputs": [],
   "source": [
    "# 使用全部的data\n",
    "shuffled_indices = np.random.permutation(len_all)"
   ],
   "metadata": {
    "collapsed": false
   }
  },
  {
   "cell_type": "code",
   "execution_count": 74,
   "outputs": [],
   "source": [
    "data_loader = DataLoader(dataset=dataset, batch_size=opt.batch_size, shuffle=False, num_workers=0, drop_last=False, sampler=SequentialSampler(data_idx), collate_fn=my_collate_fn_3)"
   ],
   "metadata": {
    "collapsed": false
   }
  },
  {
   "cell_type": "code",
   "execution_count": 75,
   "outputs": [],
   "source": [
    "mlp = Conv_1_4(opt.N_gaussians)\n",
    "model_data = torch.load(opt.net_root_path) #  map_location=device\n",
    "mlp.load_state_dict(model_data)\n",
    "mlp = mlp.to(device=device)"
   ],
   "metadata": {
    "collapsed": false
   }
  },
  {
   "cell_type": "markdown",
   "source": [
    "- 按照pi,scale,shape的顺序存储，和MDN的输出顺序一致"
   ],
   "metadata": {
    "collapsed": false
   }
  },
  {
   "cell_type": "code",
   "execution_count": 76,
   "outputs": [
    {
     "data": {
      "text/plain": "(1276, 6)"
     },
     "execution_count": 76,
     "metadata": {},
     "output_type": "execute_result"
    }
   ],
   "source": [
    "# pi,scale,shape\n",
    "output_MDN = np.array([0.]*opt.N_gaussians*3*len_all).reshape(-1,opt.N_gaussians*3)\n",
    "output_MDN_pd = pd.DataFrame(output_MDN)\n",
    "output_MDN_pd.shape"
   ],
   "metadata": {
    "collapsed": false
   }
  },
  {
   "cell_type": "code",
   "execution_count": 77,
   "outputs": [
    {
     "name": "stdout",
     "output_type": "stream",
     "text": [
      "Done\n",
      "          0           1         2         3           4         5\n",
      "0  0.118766  208.873566  1.064327  0.881234  650.974121  1.420142\n",
      "1  0.281571  249.948166  0.924029  0.718429  532.396057  1.265382\n",
      "2  0.169522  384.012085  1.215992  0.830478  989.968994  1.397663\n",
      "3  0.735808   84.600212  0.897451  0.264192   86.613136  0.976443\n",
      "4  0.895222   86.128151  1.011115  0.104778  135.253555  1.546015\n"
     ]
    }
   ],
   "source": [
    "model=mlp.eval()\n",
    "for batch_id, data in enumerate(data_loader):\n",
    "\n",
    "    input_data, _,_, _, _ = data\n",
    "    # Do the inference\n",
    "    input_data = input_data.to(device)\n",
    "\n",
    "    pi,scale,shape = mlp(input_data)\n",
    "\n",
    "    pi = pi.detach().cpu().numpy().squeeze()\n",
    "    scale = scale.detach().cpu().numpy().squeeze()\n",
    "    shape = shape.detach().cpu().numpy().squeeze()\n",
    "\n",
    "    for j in range(len(pi)):\n",
    "\n",
    "        output_MDN_pd.iloc[batch_id,0+j*3] = pi[j]\n",
    "        output_MDN_pd.iloc[batch_id,1+j*3] = scale[j]\n",
    "        output_MDN_pd.iloc[batch_id,2+j*3] = shape[j]\n",
    "\n",
    "print(\"Done\")\n",
    "print(output_MDN_pd.head())"
   ],
   "metadata": {
    "collapsed": false
   }
  },
  {
   "cell_type": "code",
   "execution_count": 78,
   "outputs": [
    {
     "data": {
      "text/plain": "'../data/revenue/output_MDN_seed=31.csv'"
     },
     "execution_count": 78,
     "metadata": {},
     "output_type": "execute_result"
    }
   ],
   "source": [
    "opt.params_save_path"
   ],
   "metadata": {
    "collapsed": false
   }
  },
  {
   "cell_type": "code",
   "execution_count": 80,
   "outputs": [],
   "source": [
    "output_MDN_pd.to_csv(opt.params_save_path,encoding=\"utf-8\",header=True,index=False)"
   ],
   "metadata": {
    "collapsed": false
   }
  },
  {
   "cell_type": "markdown",
   "source": [
    "# 2. 对testset\n",
    "1. 先读取bid voucher的id"
   ],
   "metadata": {
    "collapsed": false
   }
  },
  {
   "cell_type": "code",
   "execution_count": 18,
   "outputs": [],
   "source": [
    "data_setting = pd.read_csv(opt.data_key_path, encoding=\"utf-8\")"
   ],
   "metadata": {
    "collapsed": false
   }
  },
  {
   "cell_type": "code",
   "execution_count": 195,
   "outputs": [
    {
     "data": {
      "text/plain": "40"
     },
     "execution_count": 195,
     "metadata": {},
     "output_type": "execute_result"
    }
   ],
   "source": [
    "voucher_idx = []\n",
    "for i in range(data_setting.shape[0]):\n",
    "    if \"Voucher\" in data_setting.loc[i,'desc']:\n",
    "        voucher_idx.append(i)\n",
    "    elif \"VOUCHER\" in data_setting.loc[i,'desc']:\n",
    "        voucher_idx.append(i)\n",
    "voucher_idx.__len__()"
   ],
   "metadata": {
    "collapsed": false
   }
  },
  {
   "cell_type": "code",
   "execution_count": 29,
   "outputs": [],
   "source": [
    "if opt.SET_VAL:\n",
    "    train_idx = shuffled_indices[:int(opt.train_pct * len_all)]\n",
    "    tmp = int((opt.train_pct + opt.vali_pct) * len_all)\n",
    "    val_idx = shuffled_indices[int(opt.train_pct * len_all):tmp]\n",
    "    test_idx = shuffled_indices[tmp:]\n",
    "else:\n",
    "    train_idx = shuffled_indices[:int(opt.train_pct * len_all)]\n",
    "    tmp = int((opt.train_pct + opt.vali_pct) * len_all)\n",
    "    test_idx = shuffled_indices[int(opt.train_pct * len_all):tmp]\n",
    "    val_idx = shuffled_indices[tmp:]"
   ],
   "metadata": {
    "collapsed": false
   }
  },
  {
   "cell_type": "markdown",
   "source": [
    "- dataloader"
   ],
   "metadata": {
    "collapsed": false
   }
  },
  {
   "cell_type": "code",
   "execution_count": 30,
   "outputs": [],
   "source": [
    "if opt.USE_VOUCHER: # 算上voucher,一般情况都会算的\n",
    "    test_loader = DataLoader(dataset=dataset, batch_size=1, shuffle=False, num_workers=0, drop_last=False, sampler=SubsetRandomSampler(test_idx), collate_fn=my_collate_fn_3)\n",
    "\n",
    "# 不算voucher\n",
    "else:\n",
    "    test_idx_wo_voucher = [idx for idx in test_idx if idx not in voucher_idx]\n",
    "    test_loader = DataLoader(dataset=dataset, batch_size=opt.batch_size, shuffle=False, num_workers=0, drop_last=False, sampler=SequentialSampler(test_idx_wo_voucher), collate_fn=my_collate_fn_3)"
   ],
   "metadata": {
    "collapsed": false
   }
  },
  {
   "cell_type": "markdown",
   "source": [
    "- 计算metric"
   ],
   "metadata": {
    "collapsed": false
   }
  },
  {
   "cell_type": "code",
   "execution_count": 31,
   "outputs": [
    {
     "name": "stdout",
     "output_type": "stream",
     "text": [
      "USE_VOUCHER = True\n",
      "GT_metric = tensor([[6.8396, 9.0867, 8.0615, 6.8613]]), NN prediction = 6.303638935089111\n",
      "better than GT1 = 0.5360097885131836\n",
      "the GTs: GT1,GT2(common),GT2(SA), GT2(NN)\n",
      "The odds:  [0.5411764705882353, 0.7333333333333333, 0.5215686274509804]\n",
      "seed = 223\n"
     ]
    }
   ],
   "source": [
    "model=mlp.eval()\n",
    "with torch.no_grad():\n",
    "\n",
    "    total_test_metric, GT_metric,odds = validate(mlp, test_loader, opt.N_gaussians, opt.MIN_LOSS, device,detail = True)\n",
    "\n",
    "    GT_metric_1 = GT_metric[0, 0]# 和GT-1的差值：越大越好\n",
    "    metric_diff = GT_metric_1 - total_test_metric\n",
    "    GT_1 = GT_metric_1\n",
    "    print(f\"USE_VOUCHER = {opt.USE_VOUCHER}\")\n",
    "    print(f\"GT_metric = {GT_metric}, NN prediction = {total_test_metric}\")\n",
    "    print(f\"better than GT1 = {metric_diff}\")\n",
    "    print(f\"the GTs: GT1,GT2(common),GT2(SA), GT2(NN)\")\n",
    "    print(f\"The odds:  {odds}\")\n",
    "    print(f\"seed = {opt.seed}\")\n"
   ],
   "metadata": {
    "collapsed": false
   }
  },
  {
   "cell_type": "code",
   "execution_count": null,
   "outputs": [],
   "source": [],
   "metadata": {
    "collapsed": false
   }
  }
 ],
 "metadata": {
  "kernelspec": {
   "display_name": "Python 3",
   "language": "python",
   "name": "python3"
  },
  "language_info": {
   "codemirror_mode": {
    "name": "ipython",
    "version": 2
   },
   "file_extension": ".py",
   "mimetype": "text/x-python",
   "name": "python",
   "nbconvert_exporter": "python",
   "pygments_lexer": "ipython2",
   "version": "2.7.6"
  }
 },
 "nbformat": 4,
 "nbformat_minor": 0
}
