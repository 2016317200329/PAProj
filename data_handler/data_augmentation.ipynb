{
 "cells": [
  {
   "cell_type": "markdown",
   "source": [
    "# 0. Intro\n",
    "\n",
    "# 1."
   ],
   "metadata": {
    "collapsed": false
   }
  },
  {
   "cell_type": "code",
   "execution_count": 44,
   "outputs": [],
   "source": [
    "import pandas as pd\n",
    "\n",
    "# Target data\n",
    "target_path = r\"../data/targets\"\n",
    "# target_path = r\"../data/targets_5\"\n",
    "\n",
    "# data keys\n",
    "data_key_path = \"../data/target_datakey.csv\"\n",
    "\n",
    "import os\n",
    "from sklearn.cluster import KMeans\n",
    "import numpy as np\n",
    "import pandas as pd\n",
    "import matplotlib.pyplot as plt\n",
    "\n",
    "from scipy.spatial.distance import cdist"
   ],
   "metadata": {
    "collapsed": false
   }
  },
  {
   "cell_type": "code",
   "execution_count": 7,
   "outputs": [],
   "source": [
    "# all_path里有全部的data地址作为list\n",
    "target_all_path = os.listdir(target_path)\n"
   ],
   "metadata": {
    "collapsed": false
   }
  },
  {
   "cell_type": "markdown",
   "source": [
    "# 2. Keans 实验"
   ],
   "metadata": {
    "collapsed": false
   }
  },
  {
   "cell_type": "code",
   "execution_count": 55,
   "outputs": [
    {
     "data": {
      "text/plain": "array([[ 287],\n       [1245],\n       [ 728]])"
     },
     "execution_count": 55,
     "metadata": {},
     "output_type": "execute_result"
    }
   ],
   "source": [
    "index = 2\n",
    "N_cluster = 3\n",
    "\n",
    "data_path = os.path.join(target_path,target_all_path[index])\n",
    "data = pd.read_csv(data_path,encoding=\"utf-8\")\n",
    "data = np.array(data.iloc[:,0]).reshape(-1, 1)\n",
    "\n",
    "kmeans = KMeans(n_clusters=N_cluster, random_state=0).fit(data)\n",
    "# 返回center\n",
    "centers = np.array(kmeans.cluster_centers_, dtype=int)\n",
    "# 返回每一点的标签\n",
    "labels =  pd.DataFrame(kmeans.labels_)\n",
    "centers"
   ],
   "metadata": {
    "collapsed": false
   }
  },
  {
   "cell_type": "code",
   "execution_count": 107,
   "outputs": [
    {
     "data": {
      "text/plain": "<Figure size 2000x500 with 1 Axes>",
      "image/png": "[encoded data removed]"
     },
     "metadata": {},
     "output_type": "display_data"
    }
   ],
   "source": [
    "# 可视化\n",
    "fig = plt.figure(1,figsize=(20,5))\n",
    "ax = fig.add_subplot(111)\n",
    "\n",
    "ax.set_title('Kmeans')\n",
    "plt.xlabel('N')\n",
    "\n",
    "#画散点图\n",
    "y1 = np.zeros(data.shape)\n",
    "y2 = np.zeros(centers.shape)\n",
    "ax.scatter(data,y1,c='b',marker = ',')\n",
    "ax.scatter(centers,y2,c='r',marker = ',')\n",
    "\n",
    "plt.show()"
   ],
   "metadata": {
    "collapsed": false
   }
  },
  {
   "cell_type": "code",
   "execution_count": 110,
   "outputs": [
    {
     "data": {
      "text/plain": "       N   dist  cluster\n0     27  260.0        0\n1     32  255.0        0\n2     57  230.0        0\n3     97  190.0        0\n4    141  146.0        0\n5    181  106.0        0\n6    187  100.0        0\n7    225   62.0        0\n8    270   17.0        0\n9    299   12.0        0\n10   299   12.0        0\n11   352   65.0        0\n12   363   76.0        0\n13   402  115.0        0\n14   423  136.0        0\n15   428  141.0        0\n16   429  142.0        0\n17   431  144.0        0\n18   456  169.0        0\n19   461  174.0        0\n20   468  181.0        0\n21   516  212.0        2\n22   531  197.0        2\n23   545  183.0        2\n24   547  181.0        2\n25   633   95.0        2\n26   683   45.0        2\n27   685   43.0        2\n28   697   31.0        2\n29   713   15.0        2\n30   796   68.0        2\n31   816   88.0        2\n32   829  101.0        2\n33   883  155.0        2\n34   908  180.0        2\n35   931  203.0        2\n36   948  220.0        2\n37  1045  200.0        1\n38  1050  195.0        1\n39  1096  149.0        1\n40  1168   77.0        1\n41  1187   58.0        1\n42  1200   45.0        1\n43  1211   34.0        1\n44  1262   17.0        1\n45  1346  101.0        1\n46  1364  119.0        1\n47  1487  242.0        1\n48  1531  286.0        1",
      "text/html": "<div>\n<style scoped>\n    .dataframe tbody tr th:only-of-type {\n        vertical-align: middle;\n    }\n\n    .dataframe tbody tr th {\n        vertical-align: top;\n    }\n\n    .dataframe thead th {\n        text-align: right;\n    }\n</style>\n<table border=\"1\" class=\"dataframe\">\n  <thead>\n    <tr style=\"text-align: right;\">\n      <th></th>\n      <th>N</th>\n      <th>dist</th>\n      <th>cluster</th>\n    </tr>\n  </thead>\n  <tbody>\n    <tr>\n      <th>0</th>\n      <td>27</td>\n      <td>260.0</td>\n      <td>0</td>\n    </tr>\n    <tr>\n      <th>1</th>\n      <td>32</td>\n      <td>255.0</td>\n      <td>0</td>\n    </tr>\n    <tr>\n      <th>2</th>\n      <td>57</td>\n      <td>230.0</td>\n      <td>0</td>\n    </tr>\n    <tr>\n      <th>3</th>\n      <td>97</td>\n      <td>190.0</td>\n      <td>0</td>\n    </tr>\n    <tr>\n      <th>4</th>\n      <td>141</td>\n      <td>146.0</td>\n      <td>0</td>\n    </tr>\n    <tr>\n      <th>5</th>\n      <td>181</td>\n      <td>106.0</td>\n      <td>0</td>\n    </tr>\n    <tr>\n      <th>6</th>\n      <td>187</td>\n      <td>100.0</td>\n      <td>0</td>\n    </tr>\n    <tr>\n      <th>7</th>\n      <td>225</td>\n      <td>62.0</td>\n      <td>0</td>\n    </tr>\n    <tr>\n      <th>8</th>\n      <td>270</td>\n      <td>17.0</td>\n      <td>0</td>\n    </tr>\n    <tr>\n      <th>9</th>\n      <td>299</td>\n      <td>12.0</td>\n      <td>0</td>\n    </tr>\n    <tr>\n      <th>10</th>\n      <td>299</td>\n      <td>12.0</td>\n      <td>0</td>\n    </tr>\n    <tr>\n      <th>11</th>\n      <td>352</td>\n      <td>65.0</td>\n      <td>0</td>\n    </tr>\n    <tr>\n      <th>12</th>\n      <td>363</td>\n      <td>76.0</td>\n      <td>0</td>\n    </tr>\n    <tr>\n      <th>13</th>\n      <td>402</td>\n      <td>115.0</td>\n      <td>0</td>\n    </tr>\n    <tr>\n      <th>14</th>\n      <td>423</td>\n      <td>136.0</td>\n      <td>0</td>\n    </tr>\n    <tr>\n      <th>15</th>\n      <td>428</td>\n      <td>141.0</td>\n      <td>0</td>\n    </tr>\n    <tr>\n      <th>16</th>\n      <td>429</td>\n      <td>142.0</td>\n      <td>0</td>\n    </tr>\n    <tr>\n      <th>17</th>\n      <td>431</td>\n      <td>144.0</td>\n      <td>0</td>\n    </tr>\n    <tr>\n      <th>18</th>\n      <td>456</td>\n      <td>169.0</td>\n      <td>0</td>\n    </tr>\n    <tr>\n      <th>19</th>\n      <td>461</td>\n      <td>174.0</td>\n      <td>0</td>\n    </tr>\n    <tr>\n      <th>20</th>\n      <td>468</td>\n      <td>181.0</td>\n      <td>0</td>\n    </tr>\n    <tr>\n      <th>21</th>\n      <td>516</td>\n      <td>212.0</td>\n      <td>2</td>\n    </tr>\n    <tr>\n      <th>22</th>\n      <td>531</td>\n      <td>197.0</td>\n      <td>2</td>\n    </tr>\n    <tr>\n      <th>23</th>\n      <td>545</td>\n      <td>183.0</td>\n      <td>2</td>\n    </tr>\n    <tr>\n      <th>24</th>\n      <td>547</td>\n      <td>181.0</td>\n      <td>2</td>\n    </tr>\n    <tr>\n      <th>25</th>\n      <td>633</td>\n      <td>95.0</td>\n      <td>2</td>\n    </tr>\n    <tr>\n      <th>26</th>\n      <td>683</td>\n      <td>45.0</td>\n      <td>2</td>\n    </tr>\n    <tr>\n      <th>27</th>\n      <td>685</td>\n      <td>43.0</td>\n      <td>2</td>\n    </tr>\n    <tr>\n      <th>28</th>\n      <td>697</td>\n      <td>31.0</td>\n      <td>2</td>\n    </tr>\n    <tr>\n      <th>29</th>\n      <td>713</td>\n      <td>15.0</td>\n      <td>2</td>\n    </tr>\n    <tr>\n      <th>30</th>\n      <td>796</td>\n      <td>68.0</td>\n      <td>2</td>\n    </tr>\n    <tr>\n      <th>31</th>\n      <td>816</td>\n      <td>88.0</td>\n      <td>2</td>\n    </tr>\n    <tr>\n      <th>32</th>\n      <td>829</td>\n      <td>101.0</td>\n      <td>2</td>\n    </tr>\n    <tr>\n      <th>33</th>\n      <td>883</td>\n      <td>155.0</td>\n      <td>2</td>\n    </tr>\n    <tr>\n      <th>34</th>\n      <td>908</td>\n      <td>180.0</td>\n      <td>2</td>\n    </tr>\n    <tr>\n      <th>35</th>\n      <td>931</td>\n      <td>203.0</td>\n      <td>2</td>\n    </tr>\n    <tr>\n      <th>36</th>\n      <td>948</td>\n      <td>220.0</td>\n      <td>2</td>\n    </tr>\n    <tr>\n      <th>37</th>\n      <td>1045</td>\n      <td>200.0</td>\n      <td>1</td>\n    </tr>\n    <tr>\n      <th>38</th>\n      <td>1050</td>\n      <td>195.0</td>\n      <td>1</td>\n    </tr>\n    <tr>\n      <th>39</th>\n      <td>1096</td>\n      <td>149.0</td>\n      <td>1</td>\n    </tr>\n    <tr>\n      <th>40</th>\n      <td>1168</td>\n      <td>77.0</td>\n      <td>1</td>\n    </tr>\n    <tr>\n      <th>41</th>\n      <td>1187</td>\n      <td>58.0</td>\n      <td>1</td>\n    </tr>\n    <tr>\n      <th>42</th>\n      <td>1200</td>\n      <td>45.0</td>\n      <td>1</td>\n    </tr>\n    <tr>\n      <th>43</th>\n      <td>1211</td>\n      <td>34.0</td>\n      <td>1</td>\n    </tr>\n    <tr>\n      <th>44</th>\n      <td>1262</td>\n      <td>17.0</td>\n      <td>1</td>\n    </tr>\n    <tr>\n      <th>45</th>\n      <td>1346</td>\n      <td>101.0</td>\n      <td>1</td>\n    </tr>\n    <tr>\n      <th>46</th>\n      <td>1364</td>\n      <td>119.0</td>\n      <td>1</td>\n    </tr>\n    <tr>\n      <th>47</th>\n      <td>1487</td>\n      <td>242.0</td>\n      <td>1</td>\n    </tr>\n    <tr>\n      <th>48</th>\n      <td>1531</td>\n      <td>286.0</td>\n      <td>1</td>\n    </tr>\n  </tbody>\n</table>\n</div>"
     },
     "execution_count": 110,
     "metadata": {},
     "output_type": "execute_result"
    }
   ],
   "source": [
    "dist_all = cdist(data, centers, metric='cityblock')\n",
    "\n",
    "# 距离centers的距离\n",
    "dist = []\n",
    "for i in range(len(dist_all)):\n",
    "    dist.append(dist_all[i,kmeans.labels_[i]])\n",
    "dist = pd.DataFrame(dist)\n",
    "\n",
    "# N 距离 cluster组合成一个pd\n",
    "data_pd = pd.concat([pd.DataFrame(data),dist,labels],axis = 1)\n",
    "data_pd.columns = [\"N\",\"dist\",\"cluster\"]\n",
    "data_pd.head()"
   ],
   "metadata": {
    "collapsed": false
   }
  },
  {
   "cell_type": "markdown",
   "source": [
    "p_new=center+prob*|center−a|"
   ],
   "metadata": {
    "collapsed": false
   }
  },
  {
   "cell_type": "code",
   "execution_count": null,
   "outputs": [],
   "source": [
    "N_new = 50%len(data)"
   ],
   "metadata": {
    "collapsed": false
   }
  }
 ],
 "metadata": {
  "kernelspec": {
   "display_name": "Python 3",
   "language": "python",
   "name": "python3"
  },
  "language_info": {
   "codemirror_mode": {
    "name": "ipython",
    "version": 2
   },
   "file_extension": ".py",
   "mimetype": "text/x-python",
   "name": "python",
   "nbconvert_exporter": "python",
   "pygments_lexer": "ipython2",
   "version": "2.7.6"
  }
 },
 "nbformat": 4,
 "nbformat_minor": 0
}
