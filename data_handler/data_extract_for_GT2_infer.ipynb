{
 "cells": [
  {
   "cell_type": "markdown",
   "source": [
    "# 0. what for\n",
    "1.\n",
    "# 1. preparations\n",
    "## 1.1 全局设置"
   ],
   "metadata": {
    "collapsed": false
   }
  },
  {
   "cell_type": "code",
   "execution_count": 13,
   "metadata": {
    "collapsed": true
   },
   "outputs": [],
   "source": [
    "ARTIFICIAL = False\n",
    "\n",
    "# Small dataset\n",
    "settings_small_NN_path = r\"../data/small_settings_NN.csv\"\n",
    "prod_embedding_small_path = \"../data/small_prod_embedding_4.csv\"\n",
    "\n",
    "# Large data\n",
    "settings_large_NN_path = r'E:\\DATA\\large_dta\\large_settings_NN.csv'\n",
    "prod_embedding_large_path = \"E:\\DATA\\large_dta\\large_prod_embedding_4.csv\"\n",
    "\n",
    "LEN = 8\n",
    "\n",
    "# output path\n",
    "train_root_path= \"../data/train_8_all/\"\n",
    "train_file_head = \"train_data_NP_\"\n",
    "train_file_tail= \".csv\"\n",
    "\n",
    "# for SA\n",
    "# initial params\n",
    "table_5_M = [0.025,3.72]\n",
    "# lower/ upper bound\n",
    "lb = [-0.3,0.01]\n",
    "ub = [0.3,18]\n",
    "\n",
    "import numpy as np\n",
    "import csv\n",
    "import pandas as pd\n",
    "from visdom import Visdom\n",
    "from tqdm import tqdm\n",
    "from sko.tools import set_run_mode\n",
    "from func_timeout import func_set_timeout\n",
    "import func_timeout\n",
    "import time\n",
    "import os\n"
   ]
  },
  {
   "cell_type": "markdown",
   "source": [
    "## 1.2 read"
   ],
   "metadata": {
    "collapsed": false
   }
  },
  {
   "cell_type": "code",
   "execution_count": 14,
   "outputs": [
    {
     "name": "stdout",
     "output_type": "stream",
     "text": [
      "For PT model, there are *1276* settings waiting to be inferred.\n"
     ]
    },
    {
     "data": {
      "text/plain": "                                            desc  bidincrement  bidfee  \\\n0  Sony Ericsson S500i Unlocked Mysterious Green          0.15    0.75   \n1               PSP Slim & Lite Sony Piano Black          0.15    0.75   \n2     iPod Touch Apple 8GB with Software Upgrade          0.15    0.75   \n3      Logitech Cordless Wave Keyboard and Mouse          0.15    0.75   \n4                     SanDisk Cruzer Contour 4GB          0.15    0.75   \n\n   retail  flg_endprice  \n0  499.99             0  \n1  169.99             0  \n2  299.99             0  \n3   89.99             0  \n4   59.99             0  ",
      "text/html": "<div>\n<style scoped>\n    .dataframe tbody tr th:only-of-type {\n        vertical-align: middle;\n    }\n\n    .dataframe tbody tr th {\n        vertical-align: top;\n    }\n\n    .dataframe thead th {\n        text-align: right;\n    }\n</style>\n<table border=\"1\" class=\"dataframe\">\n  <thead>\n    <tr style=\"text-align: right;\">\n      <th></th>\n      <th>desc</th>\n      <th>bidincrement</th>\n      <th>bidfee</th>\n      <th>retail</th>\n      <th>flg_endprice</th>\n    </tr>\n  </thead>\n  <tbody>\n    <tr>\n      <th>0</th>\n      <td>Sony Ericsson S500i Unlocked Mysterious Green</td>\n      <td>0.15</td>\n      <td>0.75</td>\n      <td>499.99</td>\n      <td>0</td>\n    </tr>\n    <tr>\n      <th>1</th>\n      <td>PSP Slim &amp; Lite Sony Piano Black</td>\n      <td>0.15</td>\n      <td>0.75</td>\n      <td>169.99</td>\n      <td>0</td>\n    </tr>\n    <tr>\n      <th>2</th>\n      <td>iPod Touch Apple 8GB with Software Upgrade</td>\n      <td>0.15</td>\n      <td>0.75</td>\n      <td>299.99</td>\n      <td>0</td>\n    </tr>\n    <tr>\n      <th>3</th>\n      <td>Logitech Cordless Wave Keyboard and Mouse</td>\n      <td>0.15</td>\n      <td>0.75</td>\n      <td>89.99</td>\n      <td>0</td>\n    </tr>\n    <tr>\n      <th>4</th>\n      <td>SanDisk Cruzer Contour 4GB</td>\n      <td>0.15</td>\n      <td>0.75</td>\n      <td>59.99</td>\n      <td>0</td>\n    </tr>\n  </tbody>\n</table>\n</div>"
     },
     "execution_count": 14,
     "metadata": {},
     "output_type": "execute_result"
    }
   ],
   "source": [
    "data_key_small = pd.read_csv(settings_small_NN_path, encoding=\"utf-8\")\n",
    "data_key_large = pd.read_csv(settings_large_NN_path, encoding=\"utf-8\")\n",
    "data_key = pd.concat([data_key_small,data_key_large],axis=0,ignore_index=True)\n",
    "len_small = data_key_small.shape[0]\n",
    "len_large = data_key_large.shape[0]\n",
    "# 有`N_uniq_auction`组setting\n",
    "N_uniq_auction= data_key.shape[0]\n",
    "print(\"For PT model, there are *{}* settings waiting to be inferred.\".format(N_uniq_auction))\n",
    "data_key.head()"
   ],
   "metadata": {
    "collapsed": false
   }
  },
  {
   "cell_type": "code",
   "execution_count": 15,
   "outputs": [],
   "source": [
    "prod_embedding_small = pd.read_csv(prod_embedding_small_path, encoding=\"utf-8\")\n",
    "prod_embedding_large = pd.read_csv(prod_embedding_large_path, encoding=\"utf-8\")\n",
    "prod_embedding = pd.concat([prod_embedding_small,prod_embedding_large],axis=0,ignore_index=True)"
   ],
   "metadata": {
    "collapsed": false
   }
  },
  {
   "cell_type": "markdown",
   "source": [
    "- 合并data，去掉desc"
   ],
   "metadata": {
    "collapsed": false
   }
  },
  {
   "cell_type": "code",
   "execution_count": 16,
   "outputs": [
    {
     "data": {
      "text/plain": "   bidincrement  bidfee  retail  flg_endprice         0         1         2  \\\n0          0.15    0.75  499.99             0  0.117575  0.014913  0.027262   \n1          0.15    0.75  169.99             0  0.060650  0.030211 -0.006635   \n2          0.15    0.75  299.99             0 -0.043197 -0.076048 -0.119416   \n3          0.15    0.75   89.99             0  0.001636  0.022876 -0.001473   \n4          0.15    0.75   59.99             0  0.015891 -0.016824 -0.062114   \n\n          3  \n0 -0.075999  \n1  0.039294  \n2  0.044113  \n3  0.074411  \n4 -0.015273  ",
      "text/html": "<div>\n<style scoped>\n    .dataframe tbody tr th:only-of-type {\n        vertical-align: middle;\n    }\n\n    .dataframe tbody tr th {\n        vertical-align: top;\n    }\n\n    .dataframe thead th {\n        text-align: right;\n    }\n</style>\n<table border=\"1\" class=\"dataframe\">\n  <thead>\n    <tr style=\"text-align: right;\">\n      <th></th>\n      <th>bidincrement</th>\n      <th>bidfee</th>\n      <th>retail</th>\n      <th>flg_endprice</th>\n      <th>0</th>\n      <th>1</th>\n      <th>2</th>\n      <th>3</th>\n    </tr>\n  </thead>\n  <tbody>\n    <tr>\n      <th>0</th>\n      <td>0.15</td>\n      <td>0.75</td>\n      <td>499.99</td>\n      <td>0</td>\n      <td>0.117575</td>\n      <td>0.014913</td>\n      <td>0.027262</td>\n      <td>-0.075999</td>\n    </tr>\n    <tr>\n      <th>1</th>\n      <td>0.15</td>\n      <td>0.75</td>\n      <td>169.99</td>\n      <td>0</td>\n      <td>0.060650</td>\n      <td>0.030211</td>\n      <td>-0.006635</td>\n      <td>0.039294</td>\n    </tr>\n    <tr>\n      <th>2</th>\n      <td>0.15</td>\n      <td>0.75</td>\n      <td>299.99</td>\n      <td>0</td>\n      <td>-0.043197</td>\n      <td>-0.076048</td>\n      <td>-0.119416</td>\n      <td>0.044113</td>\n    </tr>\n    <tr>\n      <th>3</th>\n      <td>0.15</td>\n      <td>0.75</td>\n      <td>89.99</td>\n      <td>0</td>\n      <td>0.001636</td>\n      <td>0.022876</td>\n      <td>-0.001473</td>\n      <td>0.074411</td>\n    </tr>\n    <tr>\n      <th>4</th>\n      <td>0.15</td>\n      <td>0.75</td>\n      <td>59.99</td>\n      <td>0</td>\n      <td>0.015891</td>\n      <td>-0.016824</td>\n      <td>-0.062114</td>\n      <td>-0.015273</td>\n    </tr>\n  </tbody>\n</table>\n</div>"
     },
     "execution_count": 16,
     "metadata": {},
     "output_type": "execute_result"
    }
   ],
   "source": [
    "prod_embedding.drop(columns=['desc'],inplace=True)\n",
    "data_key.drop(columns=['desc'],inplace=True)\n",
    "\n",
    "data = pd.concat([data_key,prod_embedding],axis=1)\n",
    "data.head()"
   ],
   "metadata": {
    "collapsed": false
   }
  },
  {
   "cell_type": "code",
   "execution_count": 17,
   "outputs": [
    {
     "data": {
      "text/plain": "(1276, 8)"
     },
     "execution_count": 17,
     "metadata": {},
     "output_type": "execute_result"
    }
   ],
   "source": [
    "data.shape"
   ],
   "metadata": {
    "collapsed": false
   }
  },
  {
   "cell_type": "markdown",
   "source": [
    "# 2. 拼接与输出: training data"
   ],
   "metadata": {
    "collapsed": false
   }
  },
  {
   "cell_type": "code",
   "execution_count": 18,
   "outputs": [
    {
     "name": "stderr",
     "output_type": "stream",
     "text": [
      "100%|██████████| 1276/1276 [00:00<00:00, 1782.09it/s]\n"
     ]
    }
   ],
   "source": [
    "LEN = 8\n",
    "train_col = [str(i) for i in range(0,LEN)]\n",
    "\n",
    "for i in tqdm(range(N_uniq_auction)):\n",
    "\n",
    "    train_tmp = pd.DataFrame(data.iloc[i,:]).T\n",
    "    # 重命名，避免合并出问题\n",
    "    train_tmp.columns = train_col\n",
    "    # Save\n",
    "    output_path = train_root_path + train_file_head + str(i).zfill(4) + train_file_tail\n",
    "    train_tmp.to_csv(output_path,header=True,index=False,encoding=\"utf-8\")\n"
   ],
   "metadata": {
    "collapsed": false
   }
  },
  {
   "cell_type": "markdown",
   "source": [
    "# 3. target data：只保留N<=T的target data"
   ],
   "metadata": {
    "collapsed": false
   }
  },
  {
   "cell_type": "code",
   "execution_count": 20,
   "outputs": [],
   "source": [
    "# input output path\n",
    "if ARTIFICIAL:\n",
    "    target_origin_root_path= r\"../data/artificial_targets/\"\n",
    "    target_root_head= \"../data/artificial_targets_ls_T/target_data_NP_\"\n",
    "else:\n",
    "    target_origin_root_path= r\"../data/targets_all/\"\n",
    "    target_root_head= \"../data/targets_all_ls_T/target_data_NP_\"\n",
    "\n",
    "# output path\n",
    "target_file_tail= \".csv\"\n",
    "all_target_file = os.listdir(target_origin_root_path)"
   ],
   "metadata": {
    "collapsed": false
   }
  },
  {
   "cell_type": "code",
   "execution_count": 21,
   "outputs": [
    {
     "name": "stdout",
     "output_type": "stream",
     "text": [
      "Done\n"
     ]
    }
   ],
   "source": [
    "for i in range(data_key.shape[0]):\n",
    "# for i in range(1):\n",
    "    input_target = os.path.join(target_origin_root_path,all_target_file[i])\n",
    "    output_path = target_root_head + str(i).zfill(4)+target_file_tail\n",
    "\n",
    "    settings = data_key.iloc[i,:]\n",
    "    v = settings['retail']\n",
    "    b = settings['bidfee']\n",
    "    d = settings['bidincrement']\n",
    "    if d==0:\n",
    "        T = np.inf\n",
    "    else:\n",
    "        T = np.floor((v-b)/d)\n",
    "\n",
    "    input = pd.read_csv(input_target,encoding=\"utf-8\")\n",
    "    output = input[input.N<=T]\n",
    "    output.to_csv(output_path, encoding=\"utf-8\", header=True, index=False)\n",
    "print(\"Done\")"
   ],
   "metadata": {
    "collapsed": false
   }
  },
  {
   "cell_type": "code",
   "execution_count": null,
   "outputs": [],
   "source": [],
   "metadata": {
    "collapsed": false
   }
  }
 ],
 "metadata": {
  "kernelspec": {
   "display_name": "Python 3",
   "language": "python",
   "name": "python3"
  },
  "language_info": {
   "codemirror_mode": {
    "name": "ipython",
    "version": 2
   },
   "file_extension": ".py",
   "mimetype": "text/x-python",
   "name": "python",
   "nbconvert_exporter": "python",
   "pygments_lexer": "ipython2",
   "version": "2.7.6"
  }
 },
 "nbformat": 4,
 "nbformat_minor": 0
}
