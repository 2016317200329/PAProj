{
 "cells": [
  {
   "cell_type": "markdown",
   "source": [
    "# 0. what for\n",
    "1. 对大数据集计算np\n",
    "# 1. Preparations\n",
    "## 1.1 全局设置"
   ],
   "metadata": {
    "collapsed": false
   }
  },
  {
   "cell_type": "code",
   "execution_count": 218,
   "outputs": [],
   "source": [
    "#导入pandas包\n",
    "import pandas as pd\n",
    "import numpy as np\n",
    "\n",
    "auctions_cleaned_path = r'E:\\DATA\\large_dta\\auctions_cleaned.csv'   # retail修正的data\n",
    "auctions_threshold = r'E:\\DATA\\large_dta\\auctions_threshold.csv'    # 暂存做完threshold的data但是没用到\n",
    "\n",
    "# settings path after threshold\n",
    "settings_GT_path_thld = r'E:\\DATA\\large_dta\\settings_GT_thld.csv'\n",
    "settings_NN_path_thld = r'E:\\DATA\\large_dta\\settings_NN_thld.csv'\n",
    "\n",
    "# final data output\n",
    "data_np_path = r'E:\\DATA\\large_dta\\auctions_np.csv'                 #\n",
    "settings_np_path = r'E:\\DATA\\large_dta\\settings_np.csv'             #\n",
    "prod_path = r'E:\\DATA\\large_dta\\prod.csv'"
   ],
   "metadata": {
    "collapsed": false
   }
  },
  {
   "cell_type": "markdown",
   "source": [
    "- 读取"
   ],
   "metadata": {
    "collapsed": false
   }
  },
  {
   "cell_type": "code",
   "execution_count": 219,
   "outputs": [],
   "source": [
    "data = pd.read_csv(auctions_cleaned_path,encoding=\"utf-8\")\n",
    "\n",
    "unique_setting_GT = ['k','y','retail']\n",
    "unique_setting_NN = ['item','k','y','retail']"
   ],
   "metadata": {
    "collapsed": false
   }
  },
  {
   "cell_type": "code",
   "execution_count": 220,
   "outputs": [],
   "source": [
    "threshold = 16"
   ],
   "metadata": {
    "collapsed": false
   }
  },
  {
   "cell_type": "markdown",
   "source": [
    "# 1. threshold\n",
    "1. threshold筛选的是某个unique_setting_NN下，记录不够多，那么这个setting不具有代表性\n",
    "2."
   ],
   "metadata": {
    "collapsed": false
   }
  },
  {
   "cell_type": "code",
   "execution_count": 221,
   "outputs": [
    {
     "data": {
      "text/plain": "   auctionid  pennyauction  fixedprice            type currency  exchangerate  \\\n0     138823             1           0  Consumer Goods     Euro        1.3978   \n1     175928             1           0  Consumer Goods     Euro        1.3500   \n2     176047             1           0  Consumer Goods     Euro        1.3448   \n3     176073             1           0  Consumer Goods     Euro        1.3305   \n4     176010             1           0  Consumer Goods     Euro        1.3640   \n\n    adjvalue  endtimeperiod     k     y  retail  \\\n0   9.546973           10.0  0.01  0.01    10.0   \n1  13.500000           18.0  0.01  0.01    14.0   \n2  13.448000           18.0  0.01  0.01    14.0   \n3  13.305000           15.0  0.01  0.01    14.0   \n4  13.639999           32.0  0.01  0.01    14.0   \n\n                                        item  \n0  COSMETICS Brush SET 6 PIECES MADE OF WOOD  \n1                            20 BIDS VOUCHER  \n2                            20 BIDS VOUCHER  \n3                            20 BIDS VOUCHER  \n4                            20 BIDS VOUCHER  ",
      "text/html": "<div>\n<style scoped>\n    .dataframe tbody tr th:only-of-type {\n        vertical-align: middle;\n    }\n\n    .dataframe tbody tr th {\n        vertical-align: top;\n    }\n\n    .dataframe thead th {\n        text-align: right;\n    }\n</style>\n<table border=\"1\" class=\"dataframe\">\n  <thead>\n    <tr style=\"text-align: right;\">\n      <th></th>\n      <th>auctionid</th>\n      <th>pennyauction</th>\n      <th>fixedprice</th>\n      <th>type</th>\n      <th>currency</th>\n      <th>exchangerate</th>\n      <th>adjvalue</th>\n      <th>endtimeperiod</th>\n      <th>k</th>\n      <th>y</th>\n      <th>retail</th>\n      <th>item</th>\n    </tr>\n  </thead>\n  <tbody>\n    <tr>\n      <th>0</th>\n      <td>138823</td>\n      <td>1</td>\n      <td>0</td>\n      <td>Consumer Goods</td>\n      <td>Euro</td>\n      <td>1.3978</td>\n      <td>9.546973</td>\n      <td>10.0</td>\n      <td>0.01</td>\n      <td>0.01</td>\n      <td>10.0</td>\n      <td>COSMETICS Brush SET 6 PIECES MADE OF WOOD</td>\n    </tr>\n    <tr>\n      <th>1</th>\n      <td>175928</td>\n      <td>1</td>\n      <td>0</td>\n      <td>Consumer Goods</td>\n      <td>Euro</td>\n      <td>1.3500</td>\n      <td>13.500000</td>\n      <td>18.0</td>\n      <td>0.01</td>\n      <td>0.01</td>\n      <td>14.0</td>\n      <td>20 BIDS VOUCHER</td>\n    </tr>\n    <tr>\n      <th>2</th>\n      <td>176047</td>\n      <td>1</td>\n      <td>0</td>\n      <td>Consumer Goods</td>\n      <td>Euro</td>\n      <td>1.3448</td>\n      <td>13.448000</td>\n      <td>18.0</td>\n      <td>0.01</td>\n      <td>0.01</td>\n      <td>14.0</td>\n      <td>20 BIDS VOUCHER</td>\n    </tr>\n    <tr>\n      <th>3</th>\n      <td>176073</td>\n      <td>1</td>\n      <td>0</td>\n      <td>Consumer Goods</td>\n      <td>Euro</td>\n      <td>1.3305</td>\n      <td>13.305000</td>\n      <td>15.0</td>\n      <td>0.01</td>\n      <td>0.01</td>\n      <td>14.0</td>\n      <td>20 BIDS VOUCHER</td>\n    </tr>\n    <tr>\n      <th>4</th>\n      <td>176010</td>\n      <td>1</td>\n      <td>0</td>\n      <td>Consumer Goods</td>\n      <td>Euro</td>\n      <td>1.3640</td>\n      <td>13.639999</td>\n      <td>32.0</td>\n      <td>0.01</td>\n      <td>0.01</td>\n      <td>14.0</td>\n      <td>20 BIDS VOUCHER</td>\n    </tr>\n  </tbody>\n</table>\n</div>"
     },
     "execution_count": 221,
     "metadata": {},
     "output_type": "execute_result"
    }
   ],
   "source": [
    "data.head()"
   ],
   "metadata": {
    "collapsed": false
   }
  },
  {
   "cell_type": "markdown",
   "source": [
    "- group by操作，计算cnt_total: 这个settings下一共出现了多少场auctions"
   ],
   "metadata": {
    "collapsed": false
   }
  },
  {
   "cell_type": "code",
   "execution_count": 222,
   "outputs": [
    {
     "name": "stdout",
     "output_type": "stream",
     "text": [
      "                         item     k     y  retail  cnt_uniq\n",
      "0             1 KG SILVER BAR  0.01  0.01   559.0        33\n",
      "1       10 GRAMS OF GOLD BARS  0.01  0.01   325.0        21\n",
      "2      10 GRAMS PLATINUM BARS  0.01  0.01   366.0         7\n",
      "3  10 MARKS BAVARIA GOLD COIN  0.01  0.01   268.0         5\n",
      "4      1000 FREEBIDS VOUCHER!  0.01  0.01   671.0         3\n"
     ]
    },
    {
     "data": {
      "text/plain": "(740, 5)"
     },
     "execution_count": 222,
     "metadata": {},
     "output_type": "execute_result"
    }
   ],
   "source": [
    "features = unique_setting_NN\n",
    "data_NN = data.groupby(by = features,as_index=False)\n",
    "# cnt_total = data_NN.endtimeperiod.sum()\n",
    "# cnt_total\n",
    "data_NN_grouped = pd.DataFrame(data_NN.size())\n",
    "data_NN_grouped.rename(columns={'size': 'cnt_uniq'}, inplace=True)\n",
    "print(data_NN_grouped.head())\n",
    "data_NN_grouped.shape"
   ],
   "metadata": {
    "collapsed": false
   }
  },
  {
   "cell_type": "markdown",
   "source": [
    "- cnt_uniq加入大表，筛下去那些小于threshold的settings"
   ],
   "metadata": {
    "collapsed": false
   }
  },
  {
   "cell_type": "code",
   "execution_count": 223,
   "outputs": [
    {
     "name": "stdout",
     "output_type": "stream",
     "text": [
      "当threshold = *16* 时，剩余78个 auction settings\n"
     ]
    }
   ],
   "source": [
    "data_cnt = pd.merge(data,data_NN_grouped,on=unique_setting_NN,how=\"left\")\n",
    "data_thrld = data_cnt[data_cnt.cnt_uniq>=threshold].copy()\n",
    "\n",
    "settings_NN_thrld = data_thrld[unique_setting_NN].drop_duplicates(inplace=False)\n",
    "settings_NN_thrld.reset_index(drop=True,inplace=True)\n",
    "n_settings = settings_NN_thrld.shape[0]\n",
    "print(f\"当threshold = *{threshold}* 时，剩余{n_settings}个 auction settings\")"
   ],
   "metadata": {
    "collapsed": false
   }
  },
  {
   "cell_type": "code",
   "execution_count": 224,
   "outputs": [
    {
     "data": {
      "text/plain": "                                 item     k     y  retail\n0                     20 BIDS VOUCHER  0.01  0.01    14.0\n1                     20 BIDS VOUCHER  0.01  0.01    15.0\n2                     50 BIDS VOUCHER  0.01  0.01    35.0\n3                50 FREEBIDS VOUCHER!  0.01  0.01    35.0\n4  MAKITA CORDLESS ARTICULATED WRENCH  0.01  0.01    59.0",
      "text/html": "<div>\n<style scoped>\n    .dataframe tbody tr th:only-of-type {\n        vertical-align: middle;\n    }\n\n    .dataframe tbody tr th {\n        vertical-align: top;\n    }\n\n    .dataframe thead th {\n        text-align: right;\n    }\n</style>\n<table border=\"1\" class=\"dataframe\">\n  <thead>\n    <tr style=\"text-align: right;\">\n      <th></th>\n      <th>item</th>\n      <th>k</th>\n      <th>y</th>\n      <th>retail</th>\n    </tr>\n  </thead>\n  <tbody>\n    <tr>\n      <th>0</th>\n      <td>20 BIDS VOUCHER</td>\n      <td>0.01</td>\n      <td>0.01</td>\n      <td>14.0</td>\n    </tr>\n    <tr>\n      <th>1</th>\n      <td>20 BIDS VOUCHER</td>\n      <td>0.01</td>\n      <td>0.01</td>\n      <td>15.0</td>\n    </tr>\n    <tr>\n      <th>2</th>\n      <td>50 BIDS VOUCHER</td>\n      <td>0.01</td>\n      <td>0.01</td>\n      <td>35.0</td>\n    </tr>\n    <tr>\n      <th>3</th>\n      <td>50 FREEBIDS VOUCHER!</td>\n      <td>0.01</td>\n      <td>0.01</td>\n      <td>35.0</td>\n    </tr>\n    <tr>\n      <th>4</th>\n      <td>MAKITA CORDLESS ARTICULATED WRENCH</td>\n      <td>0.01</td>\n      <td>0.01</td>\n      <td>59.0</td>\n    </tr>\n  </tbody>\n</table>\n</div>"
     },
     "execution_count": 224,
     "metadata": {},
     "output_type": "execute_result"
    }
   ],
   "source": [
    "settings_NN_thrld.to_csv(settings_np_path,encoding=\"utf-8\",index=False,header=True)\n",
    "settings_NN_thrld.head()"
   ],
   "metadata": {
    "collapsed": false
   }
  },
  {
   "cell_type": "markdown",
   "source": [
    "# 2. 计算np\n",
    "## 2.1 计算 'n'\n",
    "1. 'endtimeperiod'记录了这个auction的duration，上面计算了这个duration的出现频率"
   ],
   "metadata": {
    "collapsed": false
   }
  },
  {
   "cell_type": "code",
   "execution_count": 225,
   "outputs": [
    {
     "data": {
      "text/plain": "   auctionid  pennyauction  fixedprice            type currency  exchangerate  \\\n1     175928             1           0  Consumer Goods     Euro        1.3500   \n2     176047             1           0  Consumer Goods     Euro        1.3448   \n3     176073             1           0  Consumer Goods     Euro        1.3305   \n4     176010             1           0  Consumer Goods     Euro        1.3640   \n5     175995             1           0  Consumer Goods     Euro        1.3616   \n\n    adjvalue     N     k     y  retail             item  cnt_uniq  \n1  13.500000  18.0  0.01  0.01    14.0  20 BIDS VOUCHER     377.0  \n2  13.448000  18.0  0.01  0.01    14.0  20 BIDS VOUCHER     377.0  \n3  13.305000  15.0  0.01  0.01    14.0  20 BIDS VOUCHER     377.0  \n4  13.639999  32.0  0.01  0.01    14.0  20 BIDS VOUCHER     377.0  \n5  13.616000  16.0  0.01  0.01    14.0  20 BIDS VOUCHER     377.0  ",
      "text/html": "<div>\n<style scoped>\n    .dataframe tbody tr th:only-of-type {\n        vertical-align: middle;\n    }\n\n    .dataframe tbody tr th {\n        vertical-align: top;\n    }\n\n    .dataframe thead th {\n        text-align: right;\n    }\n</style>\n<table border=\"1\" class=\"dataframe\">\n  <thead>\n    <tr style=\"text-align: right;\">\n      <th></th>\n      <th>auctionid</th>\n      <th>pennyauction</th>\n      <th>fixedprice</th>\n      <th>type</th>\n      <th>currency</th>\n      <th>exchangerate</th>\n      <th>adjvalue</th>\n      <th>N</th>\n      <th>k</th>\n      <th>y</th>\n      <th>retail</th>\n      <th>item</th>\n      <th>cnt_uniq</th>\n    </tr>\n  </thead>\n  <tbody>\n    <tr>\n      <th>1</th>\n      <td>175928</td>\n      <td>1</td>\n      <td>0</td>\n      <td>Consumer Goods</td>\n      <td>Euro</td>\n      <td>1.3500</td>\n      <td>13.500000</td>\n      <td>18.0</td>\n      <td>0.01</td>\n      <td>0.01</td>\n      <td>14.0</td>\n      <td>20 BIDS VOUCHER</td>\n      <td>377.0</td>\n    </tr>\n    <tr>\n      <th>2</th>\n      <td>176047</td>\n      <td>1</td>\n      <td>0</td>\n      <td>Consumer Goods</td>\n      <td>Euro</td>\n      <td>1.3448</td>\n      <td>13.448000</td>\n      <td>18.0</td>\n      <td>0.01</td>\n      <td>0.01</td>\n      <td>14.0</td>\n      <td>20 BIDS VOUCHER</td>\n      <td>377.0</td>\n    </tr>\n    <tr>\n      <th>3</th>\n      <td>176073</td>\n      <td>1</td>\n      <td>0</td>\n      <td>Consumer Goods</td>\n      <td>Euro</td>\n      <td>1.3305</td>\n      <td>13.305000</td>\n      <td>15.0</td>\n      <td>0.01</td>\n      <td>0.01</td>\n      <td>14.0</td>\n      <td>20 BIDS VOUCHER</td>\n      <td>377.0</td>\n    </tr>\n    <tr>\n      <th>4</th>\n      <td>176010</td>\n      <td>1</td>\n      <td>0</td>\n      <td>Consumer Goods</td>\n      <td>Euro</td>\n      <td>1.3640</td>\n      <td>13.639999</td>\n      <td>32.0</td>\n      <td>0.01</td>\n      <td>0.01</td>\n      <td>14.0</td>\n      <td>20 BIDS VOUCHER</td>\n      <td>377.0</td>\n    </tr>\n    <tr>\n      <th>5</th>\n      <td>175995</td>\n      <td>1</td>\n      <td>0</td>\n      <td>Consumer Goods</td>\n      <td>Euro</td>\n      <td>1.3616</td>\n      <td>13.616000</td>\n      <td>16.0</td>\n      <td>0.01</td>\n      <td>0.01</td>\n      <td>14.0</td>\n      <td>20 BIDS VOUCHER</td>\n      <td>377.0</td>\n    </tr>\n  </tbody>\n</table>\n</div>"
     },
     "execution_count": 225,
     "metadata": {},
     "output_type": "execute_result"
    }
   ],
   "source": [
    "data_thrld.rename(columns={\"endtimeperiod\":\"N\"},inplace=True)\n",
    "data_thrld.head()"
   ],
   "metadata": {
    "collapsed": false
   }
  },
  {
   "cell_type": "markdown",
   "source": [
    "## 2.2 计算'P'\n",
    "### 2.2.1 计算'cnt_N'\n",
    "1. 应该计算当前setting下，不同的‘N’值出现的次数'cnt_N'"
   ],
   "metadata": {
    "collapsed": false
   }
  },
  {
   "cell_type": "code",
   "execution_count": 226,
   "outputs": [
    {
     "data": {
      "text/plain": "   auctionid  pennyauction  fixedprice            type currency  exchangerate  \\\n0     175928             1           0  Consumer Goods     Euro        1.3500   \n1     176047             1           0  Consumer Goods     Euro        1.3448   \n2     176073             1           0  Consumer Goods     Euro        1.3305   \n3     176010             1           0  Consumer Goods     Euro        1.3640   \n4     175995             1           0  Consumer Goods     Euro        1.3616   \n\n    adjvalue     N     k     y  retail             item  cnt_uniq  cnt_N  \n0  13.500000  18.0  0.01  0.01    14.0  20 BIDS VOUCHER     377.0     10  \n1  13.448000  18.0  0.01  0.01    14.0  20 BIDS VOUCHER     377.0     10  \n2  13.305000  15.0  0.01  0.01    14.0  20 BIDS VOUCHER     377.0     15  \n3  13.639999  32.0  0.01  0.01    14.0  20 BIDS VOUCHER     377.0      6  \n4  13.616000  16.0  0.01  0.01    14.0  20 BIDS VOUCHER     377.0      6  ",
      "text/html": "<div>\n<style scoped>\n    .dataframe tbody tr th:only-of-type {\n        vertical-align: middle;\n    }\n\n    .dataframe tbody tr th {\n        vertical-align: top;\n    }\n\n    .dataframe thead th {\n        text-align: right;\n    }\n</style>\n<table border=\"1\" class=\"dataframe\">\n  <thead>\n    <tr style=\"text-align: right;\">\n      <th></th>\n      <th>auctionid</th>\n      <th>pennyauction</th>\n      <th>fixedprice</th>\n      <th>type</th>\n      <th>currency</th>\n      <th>exchangerate</th>\n      <th>adjvalue</th>\n      <th>N</th>\n      <th>k</th>\n      <th>y</th>\n      <th>retail</th>\n      <th>item</th>\n      <th>cnt_uniq</th>\n      <th>cnt_N</th>\n    </tr>\n  </thead>\n  <tbody>\n    <tr>\n      <th>0</th>\n      <td>175928</td>\n      <td>1</td>\n      <td>0</td>\n      <td>Consumer Goods</td>\n      <td>Euro</td>\n      <td>1.3500</td>\n      <td>13.500000</td>\n      <td>18.0</td>\n      <td>0.01</td>\n      <td>0.01</td>\n      <td>14.0</td>\n      <td>20 BIDS VOUCHER</td>\n      <td>377.0</td>\n      <td>10</td>\n    </tr>\n    <tr>\n      <th>1</th>\n      <td>176047</td>\n      <td>1</td>\n      <td>0</td>\n      <td>Consumer Goods</td>\n      <td>Euro</td>\n      <td>1.3448</td>\n      <td>13.448000</td>\n      <td>18.0</td>\n      <td>0.01</td>\n      <td>0.01</td>\n      <td>14.0</td>\n      <td>20 BIDS VOUCHER</td>\n      <td>377.0</td>\n      <td>10</td>\n    </tr>\n    <tr>\n      <th>2</th>\n      <td>176073</td>\n      <td>1</td>\n      <td>0</td>\n      <td>Consumer Goods</td>\n      <td>Euro</td>\n      <td>1.3305</td>\n      <td>13.305000</td>\n      <td>15.0</td>\n      <td>0.01</td>\n      <td>0.01</td>\n      <td>14.0</td>\n      <td>20 BIDS VOUCHER</td>\n      <td>377.0</td>\n      <td>15</td>\n    </tr>\n    <tr>\n      <th>3</th>\n      <td>176010</td>\n      <td>1</td>\n      <td>0</td>\n      <td>Consumer Goods</td>\n      <td>Euro</td>\n      <td>1.3640</td>\n      <td>13.639999</td>\n      <td>32.0</td>\n      <td>0.01</td>\n      <td>0.01</td>\n      <td>14.0</td>\n      <td>20 BIDS VOUCHER</td>\n      <td>377.0</td>\n      <td>6</td>\n    </tr>\n    <tr>\n      <th>4</th>\n      <td>175995</td>\n      <td>1</td>\n      <td>0</td>\n      <td>Consumer Goods</td>\n      <td>Euro</td>\n      <td>1.3616</td>\n      <td>13.616000</td>\n      <td>16.0</td>\n      <td>0.01</td>\n      <td>0.01</td>\n      <td>14.0</td>\n      <td>20 BIDS VOUCHER</td>\n      <td>377.0</td>\n      <td>6</td>\n    </tr>\n  </tbody>\n</table>\n</div>"
     },
     "execution_count": 226,
     "metadata": {},
     "output_type": "execute_result"
    }
   ],
   "source": [
    "features = unique_setting_NN+['N']\n",
    "data_grouped = data_thrld.groupby(by=features,as_index=False)\n",
    "data_cnt_N = pd.DataFrame(data_grouped.size())\n",
    "data_cnt_N.rename(columns={'size': 'cnt_N'}, inplace=True)\n",
    "\n",
    "data_P = pd.merge(data_thrld,data_cnt_N,on=features,how=\"left\")\n",
    "data_P.head()\n",
    "# pd.merge(data_thrld,data_cnt_N,on=features,how=\"\")"
   ],
   "metadata": {
    "collapsed": false
   }
  },
  {
   "cell_type": "markdown",
   "source": [
    "### 2.2.2 计算P"
   ],
   "metadata": {
    "collapsed": false
   }
  },
  {
   "cell_type": "code",
   "execution_count": 227,
   "outputs": [
    {
     "data": {
      "text/plain": "   auctionid  pennyauction  fixedprice            type currency  exchangerate  \\\n0     175928             1           0  Consumer Goods     Euro        1.3500   \n1     176047             1           0  Consumer Goods     Euro        1.3448   \n2     176073             1           0  Consumer Goods     Euro        1.3305   \n3     176010             1           0  Consumer Goods     Euro        1.3640   \n4     175995             1           0  Consumer Goods     Euro        1.3616   \n\n    adjvalue     N     k     y  retail             item  cnt_uniq  cnt_N  \\\n0  13.500000  18.0  0.01  0.01    14.0  20 BIDS VOUCHER     377.0     10   \n1  13.448000  18.0  0.01  0.01    14.0  20 BIDS VOUCHER     377.0     10   \n2  13.305000  15.0  0.01  0.01    14.0  20 BIDS VOUCHER     377.0     15   \n3  13.639999  32.0  0.01  0.01    14.0  20 BIDS VOUCHER     377.0      6   \n4  13.616000  16.0  0.01  0.01    14.0  20 BIDS VOUCHER     377.0      6   \n\n          P  \n0  0.026525  \n1  0.026525  \n2  0.039788  \n3  0.015915  \n4  0.015915  ",
      "text/html": "<div>\n<style scoped>\n    .dataframe tbody tr th:only-of-type {\n        vertical-align: middle;\n    }\n\n    .dataframe tbody tr th {\n        vertical-align: top;\n    }\n\n    .dataframe thead th {\n        text-align: right;\n    }\n</style>\n<table border=\"1\" class=\"dataframe\">\n  <thead>\n    <tr style=\"text-align: right;\">\n      <th></th>\n      <th>auctionid</th>\n      <th>pennyauction</th>\n      <th>fixedprice</th>\n      <th>type</th>\n      <th>currency</th>\n      <th>exchangerate</th>\n      <th>adjvalue</th>\n      <th>N</th>\n      <th>k</th>\n      <th>y</th>\n      <th>retail</th>\n      <th>item</th>\n      <th>cnt_uniq</th>\n      <th>cnt_N</th>\n      <th>P</th>\n    </tr>\n  </thead>\n  <tbody>\n    <tr>\n      <th>0</th>\n      <td>175928</td>\n      <td>1</td>\n      <td>0</td>\n      <td>Consumer Goods</td>\n      <td>Euro</td>\n      <td>1.3500</td>\n      <td>13.500000</td>\n      <td>18.0</td>\n      <td>0.01</td>\n      <td>0.01</td>\n      <td>14.0</td>\n      <td>20 BIDS VOUCHER</td>\n      <td>377.0</td>\n      <td>10</td>\n      <td>0.026525</td>\n    </tr>\n    <tr>\n      <th>1</th>\n      <td>176047</td>\n      <td>1</td>\n      <td>0</td>\n      <td>Consumer Goods</td>\n      <td>Euro</td>\n      <td>1.3448</td>\n      <td>13.448000</td>\n      <td>18.0</td>\n      <td>0.01</td>\n      <td>0.01</td>\n      <td>14.0</td>\n      <td>20 BIDS VOUCHER</td>\n      <td>377.0</td>\n      <td>10</td>\n      <td>0.026525</td>\n    </tr>\n    <tr>\n      <th>2</th>\n      <td>176073</td>\n      <td>1</td>\n      <td>0</td>\n      <td>Consumer Goods</td>\n      <td>Euro</td>\n      <td>1.3305</td>\n      <td>13.305000</td>\n      <td>15.0</td>\n      <td>0.01</td>\n      <td>0.01</td>\n      <td>14.0</td>\n      <td>20 BIDS VOUCHER</td>\n      <td>377.0</td>\n      <td>15</td>\n      <td>0.039788</td>\n    </tr>\n    <tr>\n      <th>3</th>\n      <td>176010</td>\n      <td>1</td>\n      <td>0</td>\n      <td>Consumer Goods</td>\n      <td>Euro</td>\n      <td>1.3640</td>\n      <td>13.639999</td>\n      <td>32.0</td>\n      <td>0.01</td>\n      <td>0.01</td>\n      <td>14.0</td>\n      <td>20 BIDS VOUCHER</td>\n      <td>377.0</td>\n      <td>6</td>\n      <td>0.015915</td>\n    </tr>\n    <tr>\n      <th>4</th>\n      <td>175995</td>\n      <td>1</td>\n      <td>0</td>\n      <td>Consumer Goods</td>\n      <td>Euro</td>\n      <td>1.3616</td>\n      <td>13.616000</td>\n      <td>16.0</td>\n      <td>0.01</td>\n      <td>0.01</td>\n      <td>14.0</td>\n      <td>20 BIDS VOUCHER</td>\n      <td>377.0</td>\n      <td>6</td>\n      <td>0.015915</td>\n    </tr>\n  </tbody>\n</table>\n</div>"
     },
     "execution_count": 227,
     "metadata": {},
     "output_type": "execute_result"
    }
   ],
   "source": [
    "data_P['P'] = data_P['cnt_N'] / data_P['cnt_uniq']\n",
    "data_P.head()"
   ],
   "metadata": {
    "collapsed": false
   }
  },
  {
   "cell_type": "code",
   "execution_count": 228,
   "outputs": [
    {
     "data": {
      "text/plain": "              item     k     y  retail     N         P  cnt_N\n0  20 BIDS VOUCHER  0.01  0.01    14.0  18.0  0.026525     10\n1  20 BIDS VOUCHER  0.01  0.01    14.0  18.0  0.026525     10\n2  20 BIDS VOUCHER  0.01  0.01    14.0  15.0  0.039788     15\n3  20 BIDS VOUCHER  0.01  0.01    14.0  32.0  0.015915      6\n4  20 BIDS VOUCHER  0.01  0.01    14.0  16.0  0.015915      6",
      "text/html": "<div>\n<style scoped>\n    .dataframe tbody tr th:only-of-type {\n        vertical-align: middle;\n    }\n\n    .dataframe tbody tr th {\n        vertical-align: top;\n    }\n\n    .dataframe thead th {\n        text-align: right;\n    }\n</style>\n<table border=\"1\" class=\"dataframe\">\n  <thead>\n    <tr style=\"text-align: right;\">\n      <th></th>\n      <th>item</th>\n      <th>k</th>\n      <th>y</th>\n      <th>retail</th>\n      <th>N</th>\n      <th>P</th>\n      <th>cnt_N</th>\n    </tr>\n  </thead>\n  <tbody>\n    <tr>\n      <th>0</th>\n      <td>20 BIDS VOUCHER</td>\n      <td>0.01</td>\n      <td>0.01</td>\n      <td>14.0</td>\n      <td>18.0</td>\n      <td>0.026525</td>\n      <td>10</td>\n    </tr>\n    <tr>\n      <th>1</th>\n      <td>20 BIDS VOUCHER</td>\n      <td>0.01</td>\n      <td>0.01</td>\n      <td>14.0</td>\n      <td>18.0</td>\n      <td>0.026525</td>\n      <td>10</td>\n    </tr>\n    <tr>\n      <th>2</th>\n      <td>20 BIDS VOUCHER</td>\n      <td>0.01</td>\n      <td>0.01</td>\n      <td>14.0</td>\n      <td>15.0</td>\n      <td>0.039788</td>\n      <td>15</td>\n    </tr>\n    <tr>\n      <th>3</th>\n      <td>20 BIDS VOUCHER</td>\n      <td>0.01</td>\n      <td>0.01</td>\n      <td>14.0</td>\n      <td>32.0</td>\n      <td>0.015915</td>\n      <td>6</td>\n    </tr>\n    <tr>\n      <th>4</th>\n      <td>20 BIDS VOUCHER</td>\n      <td>0.01</td>\n      <td>0.01</td>\n      <td>14.0</td>\n      <td>16.0</td>\n      <td>0.015915</td>\n      <td>6</td>\n    </tr>\n  </tbody>\n</table>\n</div>"
     },
     "execution_count": 228,
     "metadata": {},
     "output_type": "execute_result"
    }
   ],
   "source": [
    "features = unique_setting_NN +['N'] + ['P']+['cnt_N']\n",
    "data_P = data_P[features].copy()\n",
    "data_P.head()"
   ],
   "metadata": {
    "collapsed": false
   }
  },
  {
   "cell_type": "markdown",
   "source": [
    "- 保存data\n",
    "- 保存item方便embedding"
   ],
   "metadata": {
    "collapsed": false
   }
  },
  {
   "cell_type": "code",
   "execution_count": 229,
   "outputs": [],
   "source": [
    "data_P.to_csv(data_np_path,encoding=\"utf-8\",index=False,header=True)"
   ],
   "metadata": {
    "collapsed": false
   }
  },
  {
   "cell_type": "code",
   "execution_count": 230,
   "outputs": [],
   "source": [
    "item_df = pd.DataFrame(data_P['item'].drop_duplicates(inplace=False))\n",
    "item_df.reset_index(drop=False,inplace=True)\n",
    "item_df.to_csv(prod_path,encoding=\"utf-8\",index=False,header=True)"
   ],
   "metadata": {
    "collapsed": false
   }
  },
  {
   "cell_type": "code",
   "execution_count": null,
   "outputs": [],
   "source": [],
   "metadata": {
    "collapsed": false
   }
  }
 ],
 "metadata": {
  "kernelspec": {
   "display_name": "Python 3",
   "language": "python",
   "name": "python3"
  },
  "language_info": {
   "codemirror_mode": {
    "name": "ipython",
    "version": 2
   },
   "file_extension": ".py",
   "mimetype": "text/x-python",
   "name": "python",
   "nbconvert_exporter": "python",
   "pygments_lexer": "ipython2",
   "version": "2.7.6"
  }
 },
 "nbformat": 4,
 "nbformat_minor": 0
}
