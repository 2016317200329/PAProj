{
 "cells": [
  {
   "cell_type": "markdown",
   "source": [
    "# 0. what for\n",
    "1. 对大数据集计算np\n",
    "# 1. Preparations\n",
    "## 1.1 全局设置"
   ],
   "metadata": {
    "collapsed": false
   }
  },
  {
   "cell_type": "code",
   "execution_count": 28,
   "outputs": [],
   "source": [
    "#导入pandas包\n",
    "import pandas as pd\n",
    "import numpy as np\n",
    "\n",
    "auctions_cleaned_path = r'E:\\DATA\\large_dta\\auctions_cleaned.csv'   # retail修正的data\n",
    "\n",
    "# Output\n",
    "data_np_path = r'E:\\DATA\\large_dta\\large_auctions_np.csv'                 #\n",
    "settings_np_path = r'E:\\DATA\\large_dta\\large_settings_np.csv'             #\n",
    "prod_path = r'E:\\DATA\\large_dta\\large_prod.csv'\n",
    "# settings path\n",
    "settings_GT_path = r'E:\\DATA\\large_dta\\large_settings_GT.csv'\n",
    "settings_NN_path = r'E:\\DATA\\large_dta\\large_settings_NN.csv'"
   ],
   "metadata": {
    "collapsed": false
   }
  },
  {
   "cell_type": "markdown",
   "source": [
    "- 读取"
   ],
   "metadata": {
    "collapsed": false
   }
  },
  {
   "cell_type": "code",
   "execution_count": 29,
   "outputs": [],
   "source": [
    "data = pd.read_csv(auctions_cleaned_path,encoding=\"utf-8\")\n",
    "# features里添加`flg_fixedprice`，以区分两种auction\n",
    "unique_setting_GT = ['bidincrement','bidfee','retail','flg_fixedprice']\n",
    "unique_setting_NN = ['desc','bidincrement','bidfee','retail','flg_fixedprice']"
   ],
   "metadata": {
    "collapsed": false
   }
  },
  {
   "cell_type": "code",
   "execution_count": 30,
   "outputs": [],
   "source": [
    "threshold = 16"
   ],
   "metadata": {
    "collapsed": false
   }
  },
  {
   "cell_type": "markdown",
   "source": [
    "# 2. threshold\n",
    "1. threshold筛选的是某个unique_setting_NN下，拍卖发生的次数不够多，那么这个setting不具有代表性\n",
    "2."
   ],
   "metadata": {
    "collapsed": false
   }
  },
  {
   "cell_type": "code",
   "execution_count": 31,
   "outputs": [
    {
     "data": {
      "text/plain": "   auction_id  pennyauction  flg_fixedprice            type currency  \\\n0      138823             1               0  Consumer Goods     Euro   \n1      175928             1               0  Consumer Goods     Euro   \n2      176047             1               0  Consumer Goods     Euro   \n3      176073             1               0  Consumer Goods     Euro   \n4      176010             1               0  Consumer Goods     Euro   \n\n   exchangerate   adjvalue     N  bidincrement  bidfee  retail  \\\n0        1.3978   9.546973  10.0          0.01    0.01    10.0   \n1        1.3500  13.500000  18.0          0.01    0.01    14.0   \n2        1.3448  13.448000  18.0          0.01    0.01    14.0   \n3        1.3305  13.305000  15.0          0.01    0.01    14.0   \n4        1.3640  13.639999  32.0          0.01    0.01    14.0   \n\n                                        desc  \n0  COSMETICS Brush SET 6 PIECES MADE OF WOOD  \n1                            20 BIDS VOUCHER  \n2                            20 BIDS VOUCHER  \n3                            20 BIDS VOUCHER  \n4                            20 BIDS VOUCHER  ",
      "text/html": "<div>\n<style scoped>\n    .dataframe tbody tr th:only-of-type {\n        vertical-align: middle;\n    }\n\n    .dataframe tbody tr th {\n        vertical-align: top;\n    }\n\n    .dataframe thead th {\n        text-align: right;\n    }\n</style>\n<table border=\"1\" class=\"dataframe\">\n  <thead>\n    <tr style=\"text-align: right;\">\n      <th></th>\n      <th>auction_id</th>\n      <th>pennyauction</th>\n      <th>flg_fixedprice</th>\n      <th>type</th>\n      <th>currency</th>\n      <th>exchangerate</th>\n      <th>adjvalue</th>\n      <th>N</th>\n      <th>bidincrement</th>\n      <th>bidfee</th>\n      <th>retail</th>\n      <th>desc</th>\n    </tr>\n  </thead>\n  <tbody>\n    <tr>\n      <th>0</th>\n      <td>138823</td>\n      <td>1</td>\n      <td>0</td>\n      <td>Consumer Goods</td>\n      <td>Euro</td>\n      <td>1.3978</td>\n      <td>9.546973</td>\n      <td>10.0</td>\n      <td>0.01</td>\n      <td>0.01</td>\n      <td>10.0</td>\n      <td>COSMETICS Brush SET 6 PIECES MADE OF WOOD</td>\n    </tr>\n    <tr>\n      <th>1</th>\n      <td>175928</td>\n      <td>1</td>\n      <td>0</td>\n      <td>Consumer Goods</td>\n      <td>Euro</td>\n      <td>1.3500</td>\n      <td>13.500000</td>\n      <td>18.0</td>\n      <td>0.01</td>\n      <td>0.01</td>\n      <td>14.0</td>\n      <td>20 BIDS VOUCHER</td>\n    </tr>\n    <tr>\n      <th>2</th>\n      <td>176047</td>\n      <td>1</td>\n      <td>0</td>\n      <td>Consumer Goods</td>\n      <td>Euro</td>\n      <td>1.3448</td>\n      <td>13.448000</td>\n      <td>18.0</td>\n      <td>0.01</td>\n      <td>0.01</td>\n      <td>14.0</td>\n      <td>20 BIDS VOUCHER</td>\n    </tr>\n    <tr>\n      <th>3</th>\n      <td>176073</td>\n      <td>1</td>\n      <td>0</td>\n      <td>Consumer Goods</td>\n      <td>Euro</td>\n      <td>1.3305</td>\n      <td>13.305000</td>\n      <td>15.0</td>\n      <td>0.01</td>\n      <td>0.01</td>\n      <td>14.0</td>\n      <td>20 BIDS VOUCHER</td>\n    </tr>\n    <tr>\n      <th>4</th>\n      <td>176010</td>\n      <td>1</td>\n      <td>0</td>\n      <td>Consumer Goods</td>\n      <td>Euro</td>\n      <td>1.3640</td>\n      <td>13.639999</td>\n      <td>32.0</td>\n      <td>0.01</td>\n      <td>0.01</td>\n      <td>14.0</td>\n      <td>20 BIDS VOUCHER</td>\n    </tr>\n  </tbody>\n</table>\n</div>"
     },
     "execution_count": 31,
     "metadata": {},
     "output_type": "execute_result"
    }
   ],
   "source": [
    "data.head()"
   ],
   "metadata": {
    "collapsed": false
   }
  },
  {
   "cell_type": "markdown",
   "source": [
    "- 计算cnt_uniq: 这个uniq settings下一共出现了多少场auctions\n"
   ],
   "metadata": {
    "collapsed": false
   }
  },
  {
   "cell_type": "code",
   "execution_count": 32,
   "outputs": [],
   "source": [
    "features = unique_setting_NN"
   ],
   "metadata": {
    "collapsed": false
   }
  },
  {
   "cell_type": "code",
   "execution_count": 33,
   "outputs": [
    {
     "name": "stdout",
     "output_type": "stream",
     "text": [
      "                         desc  bidincrement  bidfee  retail  flg_fixedprice  \\\n",
      "0             1 KG SILVER BAR          0.01    0.01   559.0               0   \n",
      "1       10 GRAMS OF GOLD BARS          0.01    0.01   325.0               0   \n",
      "2      10 GRAMS PLATINUM BARS          0.01    0.01   366.0               0   \n",
      "3  10 MARKS BAVARIA GOLDMüNZE          0.01    0.01   268.0               0   \n",
      "4      1000 FREEBIDS VOUCHER!          0.01    0.01   671.0               0   \n",
      "\n",
      "   cnt_uniq  \n",
      "0        33  \n",
      "1        21  \n",
      "2         7  \n",
      "3         5  \n",
      "4         3  \n"
     ]
    },
    {
     "data": {
      "text/plain": "(773, 6)"
     },
     "execution_count": 33,
     "metadata": {},
     "output_type": "execute_result"
    }
   ],
   "source": [
    "data_NN = data.groupby(by = features,as_index=False)\n",
    "# cnt_total = data_NN.endtimeperiod.sum()\n",
    "# cnt_total\n",
    "data_NN_grouped = pd.DataFrame(data_NN.size())\n",
    "data_NN_grouped.rename(columns={'size': 'cnt_uniq'}, inplace=True)\n",
    "print(data_NN_grouped.head())\n",
    "data_NN_grouped.shape"
   ],
   "metadata": {
    "collapsed": false
   }
  },
  {
   "cell_type": "markdown",
   "source": [
    "- cnt_uniq加入大表，筛下去那些小于threshold的settings"
   ],
   "metadata": {
    "collapsed": false
   }
  },
  {
   "cell_type": "code",
   "execution_count": 34,
   "outputs": [
    {
     "name": "stdout",
     "output_type": "stream",
     "text": [
      "当threshold = *16* 时，剩余80个 auction settings\n"
     ]
    }
   ],
   "source": [
    "data_cnt = pd.merge(data,data_NN_grouped,on=features,how=\"left\")\n",
    "data_thrld = data_cnt[ data_cnt.cnt_uniq>=threshold ].copy()\n",
    "\n",
    "settings_NN_thrld = data_thrld[features].drop_duplicates(inplace=False)\n",
    "settings_NN_thrld.reset_index(drop=True,inplace=True)\n",
    "n_settings = settings_NN_thrld.shape[0]\n",
    "print(f\"当threshold = *{threshold}* 时，剩余{n_settings}个 auction settings\")"
   ],
   "metadata": {
    "collapsed": false
   }
  },
  {
   "cell_type": "code",
   "execution_count": 35,
   "outputs": [
    {
     "data": {
      "text/plain": "                                              desc  bidincrement  bidfee  \\\n0                                  20 BIDS VOUCHER          0.01    0.01   \n1                                  20 BIDS VOUCHER          0.01    0.01   \n2                                  50 BIDS VOUCHER          0.01    0.01   \n3                             50 FREEBIDS VOUCHER!          0.01    0.01   \n4  CLATRONIC PM 2658 HOT AIR POPCORN MAKER (WHITE)          0.01    0.01   \n\n   retail  flg_fixedprice  \n0    14.0               0  \n1    15.0               0  \n2    35.0               0  \n3    35.0               0  \n4    35.0               0  ",
      "text/html": "<div>\n<style scoped>\n    .dataframe tbody tr th:only-of-type {\n        vertical-align: middle;\n    }\n\n    .dataframe tbody tr th {\n        vertical-align: top;\n    }\n\n    .dataframe thead th {\n        text-align: right;\n    }\n</style>\n<table border=\"1\" class=\"dataframe\">\n  <thead>\n    <tr style=\"text-align: right;\">\n      <th></th>\n      <th>desc</th>\n      <th>bidincrement</th>\n      <th>bidfee</th>\n      <th>retail</th>\n      <th>flg_fixedprice</th>\n    </tr>\n  </thead>\n  <tbody>\n    <tr>\n      <th>0</th>\n      <td>20 BIDS VOUCHER</td>\n      <td>0.01</td>\n      <td>0.01</td>\n      <td>14.0</td>\n      <td>0</td>\n    </tr>\n    <tr>\n      <th>1</th>\n      <td>20 BIDS VOUCHER</td>\n      <td>0.01</td>\n      <td>0.01</td>\n      <td>15.0</td>\n      <td>0</td>\n    </tr>\n    <tr>\n      <th>2</th>\n      <td>50 BIDS VOUCHER</td>\n      <td>0.01</td>\n      <td>0.01</td>\n      <td>35.0</td>\n      <td>0</td>\n    </tr>\n    <tr>\n      <th>3</th>\n      <td>50 FREEBIDS VOUCHER!</td>\n      <td>0.01</td>\n      <td>0.01</td>\n      <td>35.0</td>\n      <td>0</td>\n    </tr>\n    <tr>\n      <th>4</th>\n      <td>CLATRONIC PM 2658 HOT AIR POPCORN MAKER (WHITE)</td>\n      <td>0.01</td>\n      <td>0.01</td>\n      <td>35.0</td>\n      <td>0</td>\n    </tr>\n  </tbody>\n</table>\n</div>"
     },
     "execution_count": 35,
     "metadata": {},
     "output_type": "execute_result"
    }
   ],
   "source": [
    "settings_NN_thrld.to_csv(settings_np_path,encoding=\"utf-8\",index=False,header=True)\n",
    "settings_NN_thrld.head()"
   ],
   "metadata": {
    "collapsed": false
   }
  },
  {
   "cell_type": "code",
   "execution_count": 36,
   "outputs": [
    {
     "data": {
      "text/plain": "         auction_id  pennyauction  flg_fixedprice  exchangerate     adjvalue  \\\ncount    8872.00000        8872.0          8872.0   8872.000000  8872.000000   \nmean   154073.35381           1.0             0.0      1.331190   586.631957   \nstd     22173.37520           0.0             0.0      0.056136   507.141788   \nmin     33894.00000           1.0             0.0      1.249100    13.305000   \n25%    143100.75000           1.0             0.0      1.289200   134.412750   \n50%    157712.50000           1.0             0.0      1.324700   412.160100   \n75%    171799.25000           1.0             0.0      1.359300  1022.735000   \nmax    182400.00000           1.0             0.0      1.594300  2064.500700   \n\n                  N  bidincrement        bidfee       retail     cnt_uniq  \ncount   8872.000000  8.872000e+03  8.872000e+03  8872.000000  8872.000000  \nmean    2190.529869  1.000000e-02  1.000000e-02   719.749098   382.694545  \nstd     3367.467505  9.558865e-16  9.558865e-16   583.842005   323.425343  \nmin        1.000000  1.000000e-02  1.000000e-02    14.000000    16.000000  \n25%      212.000000  1.000000e-02  1.000000e-02   113.000000   134.000000  \n50%      919.000000  1.000000e-02  1.000000e-02   690.000000   258.000000  \n75%     2744.250000  1.000000e-02  1.000000e-02  1306.000000   469.000000  \nmax    37715.000000  1.000000e-02  1.000000e-02  2142.000000  1033.000000  ",
      "text/html": "<div>\n<style scoped>\n    .dataframe tbody tr th:only-of-type {\n        vertical-align: middle;\n    }\n\n    .dataframe tbody tr th {\n        vertical-align: top;\n    }\n\n    .dataframe thead th {\n        text-align: right;\n    }\n</style>\n<table border=\"1\" class=\"dataframe\">\n  <thead>\n    <tr style=\"text-align: right;\">\n      <th></th>\n      <th>auction_id</th>\n      <th>pennyauction</th>\n      <th>flg_fixedprice</th>\n      <th>exchangerate</th>\n      <th>adjvalue</th>\n      <th>N</th>\n      <th>bidincrement</th>\n      <th>bidfee</th>\n      <th>retail</th>\n      <th>cnt_uniq</th>\n    </tr>\n  </thead>\n  <tbody>\n    <tr>\n      <th>count</th>\n      <td>8872.00000</td>\n      <td>8872.0</td>\n      <td>8872.0</td>\n      <td>8872.000000</td>\n      <td>8872.000000</td>\n      <td>8872.000000</td>\n      <td>8.872000e+03</td>\n      <td>8.872000e+03</td>\n      <td>8872.000000</td>\n      <td>8872.000000</td>\n    </tr>\n    <tr>\n      <th>mean</th>\n      <td>154073.35381</td>\n      <td>1.0</td>\n      <td>0.0</td>\n      <td>1.331190</td>\n      <td>586.631957</td>\n      <td>2190.529869</td>\n      <td>1.000000e-02</td>\n      <td>1.000000e-02</td>\n      <td>719.749098</td>\n      <td>382.694545</td>\n    </tr>\n    <tr>\n      <th>std</th>\n      <td>22173.37520</td>\n      <td>0.0</td>\n      <td>0.0</td>\n      <td>0.056136</td>\n      <td>507.141788</td>\n      <td>3367.467505</td>\n      <td>9.558865e-16</td>\n      <td>9.558865e-16</td>\n      <td>583.842005</td>\n      <td>323.425343</td>\n    </tr>\n    <tr>\n      <th>min</th>\n      <td>33894.00000</td>\n      <td>1.0</td>\n      <td>0.0</td>\n      <td>1.249100</td>\n      <td>13.305000</td>\n      <td>1.000000</td>\n      <td>1.000000e-02</td>\n      <td>1.000000e-02</td>\n      <td>14.000000</td>\n      <td>16.000000</td>\n    </tr>\n    <tr>\n      <th>25%</th>\n      <td>143100.75000</td>\n      <td>1.0</td>\n      <td>0.0</td>\n      <td>1.289200</td>\n      <td>134.412750</td>\n      <td>212.000000</td>\n      <td>1.000000e-02</td>\n      <td>1.000000e-02</td>\n      <td>113.000000</td>\n      <td>134.000000</td>\n    </tr>\n    <tr>\n      <th>50%</th>\n      <td>157712.50000</td>\n      <td>1.0</td>\n      <td>0.0</td>\n      <td>1.324700</td>\n      <td>412.160100</td>\n      <td>919.000000</td>\n      <td>1.000000e-02</td>\n      <td>1.000000e-02</td>\n      <td>690.000000</td>\n      <td>258.000000</td>\n    </tr>\n    <tr>\n      <th>75%</th>\n      <td>171799.25000</td>\n      <td>1.0</td>\n      <td>0.0</td>\n      <td>1.359300</td>\n      <td>1022.735000</td>\n      <td>2744.250000</td>\n      <td>1.000000e-02</td>\n      <td>1.000000e-02</td>\n      <td>1306.000000</td>\n      <td>469.000000</td>\n    </tr>\n    <tr>\n      <th>max</th>\n      <td>182400.00000</td>\n      <td>1.0</td>\n      <td>0.0</td>\n      <td>1.594300</td>\n      <td>2064.500700</td>\n      <td>37715.000000</td>\n      <td>1.000000e-02</td>\n      <td>1.000000e-02</td>\n      <td>2142.000000</td>\n      <td>1033.000000</td>\n    </tr>\n  </tbody>\n</table>\n</div>"
     },
     "execution_count": 36,
     "metadata": {},
     "output_type": "execute_result"
    }
   ],
   "source": [
    "data_thrld.describe()"
   ],
   "metadata": {
    "collapsed": false
   }
  },
  {
   "cell_type": "markdown",
   "source": [
    "# 3. 计算np\n",
    "## 3.1 计算 'n'\n",
    "1. 'N'这一列已经记录了这个auction的duration"
   ],
   "metadata": {
    "collapsed": false
   }
  },
  {
   "cell_type": "code",
   "execution_count": 37,
   "outputs": [
    {
     "data": {
      "text/plain": "   auction_id  pennyauction  flg_fixedprice            type currency  \\\n1      175928             1               0  Consumer Goods     Euro   \n2      176047             1               0  Consumer Goods     Euro   \n3      176073             1               0  Consumer Goods     Euro   \n4      176010             1               0  Consumer Goods     Euro   \n5      175995             1               0  Consumer Goods     Euro   \n\n   exchangerate   adjvalue     N  bidincrement  bidfee  retail  \\\n1        1.3500  13.500000  18.0          0.01    0.01    14.0   \n2        1.3448  13.448000  18.0          0.01    0.01    14.0   \n3        1.3305  13.305000  15.0          0.01    0.01    14.0   \n4        1.3640  13.639999  32.0          0.01    0.01    14.0   \n5        1.3616  13.616000  16.0          0.01    0.01    14.0   \n\n              desc  cnt_uniq  \n1  20 BIDS VOUCHER       377  \n2  20 BIDS VOUCHER       377  \n3  20 BIDS VOUCHER       377  \n4  20 BIDS VOUCHER       377  \n5  20 BIDS VOUCHER       377  ",
      "text/html": "<div>\n<style scoped>\n    .dataframe tbody tr th:only-of-type {\n        vertical-align: middle;\n    }\n\n    .dataframe tbody tr th {\n        vertical-align: top;\n    }\n\n    .dataframe thead th {\n        text-align: right;\n    }\n</style>\n<table border=\"1\" class=\"dataframe\">\n  <thead>\n    <tr style=\"text-align: right;\">\n      <th></th>\n      <th>auction_id</th>\n      <th>pennyauction</th>\n      <th>flg_fixedprice</th>\n      <th>type</th>\n      <th>currency</th>\n      <th>exchangerate</th>\n      <th>adjvalue</th>\n      <th>N</th>\n      <th>bidincrement</th>\n      <th>bidfee</th>\n      <th>retail</th>\n      <th>desc</th>\n      <th>cnt_uniq</th>\n    </tr>\n  </thead>\n  <tbody>\n    <tr>\n      <th>1</th>\n      <td>175928</td>\n      <td>1</td>\n      <td>0</td>\n      <td>Consumer Goods</td>\n      <td>Euro</td>\n      <td>1.3500</td>\n      <td>13.500000</td>\n      <td>18.0</td>\n      <td>0.01</td>\n      <td>0.01</td>\n      <td>14.0</td>\n      <td>20 BIDS VOUCHER</td>\n      <td>377</td>\n    </tr>\n    <tr>\n      <th>2</th>\n      <td>176047</td>\n      <td>1</td>\n      <td>0</td>\n      <td>Consumer Goods</td>\n      <td>Euro</td>\n      <td>1.3448</td>\n      <td>13.448000</td>\n      <td>18.0</td>\n      <td>0.01</td>\n      <td>0.01</td>\n      <td>14.0</td>\n      <td>20 BIDS VOUCHER</td>\n      <td>377</td>\n    </tr>\n    <tr>\n      <th>3</th>\n      <td>176073</td>\n      <td>1</td>\n      <td>0</td>\n      <td>Consumer Goods</td>\n      <td>Euro</td>\n      <td>1.3305</td>\n      <td>13.305000</td>\n      <td>15.0</td>\n      <td>0.01</td>\n      <td>0.01</td>\n      <td>14.0</td>\n      <td>20 BIDS VOUCHER</td>\n      <td>377</td>\n    </tr>\n    <tr>\n      <th>4</th>\n      <td>176010</td>\n      <td>1</td>\n      <td>0</td>\n      <td>Consumer Goods</td>\n      <td>Euro</td>\n      <td>1.3640</td>\n      <td>13.639999</td>\n      <td>32.0</td>\n      <td>0.01</td>\n      <td>0.01</td>\n      <td>14.0</td>\n      <td>20 BIDS VOUCHER</td>\n      <td>377</td>\n    </tr>\n    <tr>\n      <th>5</th>\n      <td>175995</td>\n      <td>1</td>\n      <td>0</td>\n      <td>Consumer Goods</td>\n      <td>Euro</td>\n      <td>1.3616</td>\n      <td>13.616000</td>\n      <td>16.0</td>\n      <td>0.01</td>\n      <td>0.01</td>\n      <td>14.0</td>\n      <td>20 BIDS VOUCHER</td>\n      <td>377</td>\n    </tr>\n  </tbody>\n</table>\n</div>"
     },
     "execution_count": 37,
     "metadata": {},
     "output_type": "execute_result"
    }
   ],
   "source": [
    "data_thrld.head()"
   ],
   "metadata": {
    "collapsed": false
   }
  },
  {
   "cell_type": "markdown",
   "source": [
    "## 3.2 计算'P'\n",
    "### 3.2.1 计算'cnt_N'\n",
    "1. 应该计算当前setting下，不同的‘N’值出现的次数'cnt_N'"
   ],
   "metadata": {
    "collapsed": false
   }
  },
  {
   "cell_type": "code",
   "execution_count": 38,
   "outputs": [
    {
     "data": {
      "text/plain": "   auction_id  pennyauction  flg_fixedprice            type currency  \\\n0      175928             1               0  Consumer Goods     Euro   \n1      176047             1               0  Consumer Goods     Euro   \n2      176073             1               0  Consumer Goods     Euro   \n3      176010             1               0  Consumer Goods     Euro   \n4      175995             1               0  Consumer Goods     Euro   \n\n   exchangerate   adjvalue     N  bidincrement  bidfee  retail  \\\n0        1.3500  13.500000  18.0          0.01    0.01    14.0   \n1        1.3448  13.448000  18.0          0.01    0.01    14.0   \n2        1.3305  13.305000  15.0          0.01    0.01    14.0   \n3        1.3640  13.639999  32.0          0.01    0.01    14.0   \n4        1.3616  13.616000  16.0          0.01    0.01    14.0   \n\n              desc  cnt_uniq  cnt_N  \n0  20 BIDS VOUCHER       377     10  \n1  20 BIDS VOUCHER       377     10  \n2  20 BIDS VOUCHER       377     15  \n3  20 BIDS VOUCHER       377      6  \n4  20 BIDS VOUCHER       377      6  ",
      "text/html": "<div>\n<style scoped>\n    .dataframe tbody tr th:only-of-type {\n        vertical-align: middle;\n    }\n\n    .dataframe tbody tr th {\n        vertical-align: top;\n    }\n\n    .dataframe thead th {\n        text-align: right;\n    }\n</style>\n<table border=\"1\" class=\"dataframe\">\n  <thead>\n    <tr style=\"text-align: right;\">\n      <th></th>\n      <th>auction_id</th>\n      <th>pennyauction</th>\n      <th>flg_fixedprice</th>\n      <th>type</th>\n      <th>currency</th>\n      <th>exchangerate</th>\n      <th>adjvalue</th>\n      <th>N</th>\n      <th>bidincrement</th>\n      <th>bidfee</th>\n      <th>retail</th>\n      <th>desc</th>\n      <th>cnt_uniq</th>\n      <th>cnt_N</th>\n    </tr>\n  </thead>\n  <tbody>\n    <tr>\n      <th>0</th>\n      <td>175928</td>\n      <td>1</td>\n      <td>0</td>\n      <td>Consumer Goods</td>\n      <td>Euro</td>\n      <td>1.3500</td>\n      <td>13.500000</td>\n      <td>18.0</td>\n      <td>0.01</td>\n      <td>0.01</td>\n      <td>14.0</td>\n      <td>20 BIDS VOUCHER</td>\n      <td>377</td>\n      <td>10</td>\n    </tr>\n    <tr>\n      <th>1</th>\n      <td>176047</td>\n      <td>1</td>\n      <td>0</td>\n      <td>Consumer Goods</td>\n      <td>Euro</td>\n      <td>1.3448</td>\n      <td>13.448000</td>\n      <td>18.0</td>\n      <td>0.01</td>\n      <td>0.01</td>\n      <td>14.0</td>\n      <td>20 BIDS VOUCHER</td>\n      <td>377</td>\n      <td>10</td>\n    </tr>\n    <tr>\n      <th>2</th>\n      <td>176073</td>\n      <td>1</td>\n      <td>0</td>\n      <td>Consumer Goods</td>\n      <td>Euro</td>\n      <td>1.3305</td>\n      <td>13.305000</td>\n      <td>15.0</td>\n      <td>0.01</td>\n      <td>0.01</td>\n      <td>14.0</td>\n      <td>20 BIDS VOUCHER</td>\n      <td>377</td>\n      <td>15</td>\n    </tr>\n    <tr>\n      <th>3</th>\n      <td>176010</td>\n      <td>1</td>\n      <td>0</td>\n      <td>Consumer Goods</td>\n      <td>Euro</td>\n      <td>1.3640</td>\n      <td>13.639999</td>\n      <td>32.0</td>\n      <td>0.01</td>\n      <td>0.01</td>\n      <td>14.0</td>\n      <td>20 BIDS VOUCHER</td>\n      <td>377</td>\n      <td>6</td>\n    </tr>\n    <tr>\n      <th>4</th>\n      <td>175995</td>\n      <td>1</td>\n      <td>0</td>\n      <td>Consumer Goods</td>\n      <td>Euro</td>\n      <td>1.3616</td>\n      <td>13.616000</td>\n      <td>16.0</td>\n      <td>0.01</td>\n      <td>0.01</td>\n      <td>14.0</td>\n      <td>20 BIDS VOUCHER</td>\n      <td>377</td>\n      <td>6</td>\n    </tr>\n  </tbody>\n</table>\n</div>"
     },
     "execution_count": 38,
     "metadata": {},
     "output_type": "execute_result"
    }
   ],
   "source": [
    "features = unique_setting_NN+['N']\n",
    "\n",
    "data_grouped = data_thrld.groupby(by=features,as_index=False)\n",
    "data_cnt_N = pd.DataFrame(data_grouped.size())\n",
    "data_cnt_N.rename(columns={'size': 'cnt_N'}, inplace=True)\n",
    "\n",
    "data_P = pd.merge(data_thrld,data_cnt_N,on=features,how=\"left\")\n",
    "data_P.head()\n",
    "# pd.merge(data_thrld,data_cnt_N,on=features,how=\"\")"
   ],
   "metadata": {
    "collapsed": false
   }
  },
  {
   "cell_type": "markdown",
   "source": [
    "### 3.2.2 计算P"
   ],
   "metadata": {
    "collapsed": false
   }
  },
  {
   "cell_type": "code",
   "execution_count": 39,
   "outputs": [
    {
     "data": {
      "text/plain": "   auction_id  pennyauction  flg_fixedprice            type currency  \\\n0      175928             1               0  Consumer Goods     Euro   \n1      176047             1               0  Consumer Goods     Euro   \n2      176073             1               0  Consumer Goods     Euro   \n3      176010             1               0  Consumer Goods     Euro   \n4      175995             1               0  Consumer Goods     Euro   \n\n   exchangerate   adjvalue     N  bidincrement  bidfee  retail  \\\n0        1.3500  13.500000  18.0          0.01    0.01    14.0   \n1        1.3448  13.448000  18.0          0.01    0.01    14.0   \n2        1.3305  13.305000  15.0          0.01    0.01    14.0   \n3        1.3640  13.639999  32.0          0.01    0.01    14.0   \n4        1.3616  13.616000  16.0          0.01    0.01    14.0   \n\n              desc  cnt_uniq  cnt_N         P  \n0  20 BIDS VOUCHER       377     10  0.026525  \n1  20 BIDS VOUCHER       377     10  0.026525  \n2  20 BIDS VOUCHER       377     15  0.039788  \n3  20 BIDS VOUCHER       377      6  0.015915  \n4  20 BIDS VOUCHER       377      6  0.015915  ",
      "text/html": "<div>\n<style scoped>\n    .dataframe tbody tr th:only-of-type {\n        vertical-align: middle;\n    }\n\n    .dataframe tbody tr th {\n        vertical-align: top;\n    }\n\n    .dataframe thead th {\n        text-align: right;\n    }\n</style>\n<table border=\"1\" class=\"dataframe\">\n  <thead>\n    <tr style=\"text-align: right;\">\n      <th></th>\n      <th>auction_id</th>\n      <th>pennyauction</th>\n      <th>flg_fixedprice</th>\n      <th>type</th>\n      <th>currency</th>\n      <th>exchangerate</th>\n      <th>adjvalue</th>\n      <th>N</th>\n      <th>bidincrement</th>\n      <th>bidfee</th>\n      <th>retail</th>\n      <th>desc</th>\n      <th>cnt_uniq</th>\n      <th>cnt_N</th>\n      <th>P</th>\n    </tr>\n  </thead>\n  <tbody>\n    <tr>\n      <th>0</th>\n      <td>175928</td>\n      <td>1</td>\n      <td>0</td>\n      <td>Consumer Goods</td>\n      <td>Euro</td>\n      <td>1.3500</td>\n      <td>13.500000</td>\n      <td>18.0</td>\n      <td>0.01</td>\n      <td>0.01</td>\n      <td>14.0</td>\n      <td>20 BIDS VOUCHER</td>\n      <td>377</td>\n      <td>10</td>\n      <td>0.026525</td>\n    </tr>\n    <tr>\n      <th>1</th>\n      <td>176047</td>\n      <td>1</td>\n      <td>0</td>\n      <td>Consumer Goods</td>\n      <td>Euro</td>\n      <td>1.3448</td>\n      <td>13.448000</td>\n      <td>18.0</td>\n      <td>0.01</td>\n      <td>0.01</td>\n      <td>14.0</td>\n      <td>20 BIDS VOUCHER</td>\n      <td>377</td>\n      <td>10</td>\n      <td>0.026525</td>\n    </tr>\n    <tr>\n      <th>2</th>\n      <td>176073</td>\n      <td>1</td>\n      <td>0</td>\n      <td>Consumer Goods</td>\n      <td>Euro</td>\n      <td>1.3305</td>\n      <td>13.305000</td>\n      <td>15.0</td>\n      <td>0.01</td>\n      <td>0.01</td>\n      <td>14.0</td>\n      <td>20 BIDS VOUCHER</td>\n      <td>377</td>\n      <td>15</td>\n      <td>0.039788</td>\n    </tr>\n    <tr>\n      <th>3</th>\n      <td>176010</td>\n      <td>1</td>\n      <td>0</td>\n      <td>Consumer Goods</td>\n      <td>Euro</td>\n      <td>1.3640</td>\n      <td>13.639999</td>\n      <td>32.0</td>\n      <td>0.01</td>\n      <td>0.01</td>\n      <td>14.0</td>\n      <td>20 BIDS VOUCHER</td>\n      <td>377</td>\n      <td>6</td>\n      <td>0.015915</td>\n    </tr>\n    <tr>\n      <th>4</th>\n      <td>175995</td>\n      <td>1</td>\n      <td>0</td>\n      <td>Consumer Goods</td>\n      <td>Euro</td>\n      <td>1.3616</td>\n      <td>13.616000</td>\n      <td>16.0</td>\n      <td>0.01</td>\n      <td>0.01</td>\n      <td>14.0</td>\n      <td>20 BIDS VOUCHER</td>\n      <td>377</td>\n      <td>6</td>\n      <td>0.015915</td>\n    </tr>\n  </tbody>\n</table>\n</div>"
     },
     "execution_count": 39,
     "metadata": {},
     "output_type": "execute_result"
    }
   ],
   "source": [
    "data_P['P'] = data_P['cnt_N'] / data_P['cnt_uniq']\n",
    "data_P.head()"
   ],
   "metadata": {
    "collapsed": false
   }
  },
  {
   "cell_type": "code",
   "execution_count": 40,
   "outputs": [
    {
     "data": {
      "text/plain": "              desc  bidincrement  bidfee  retail  flg_fixedprice     N  \\\n0  20 BIDS VOUCHER          0.01    0.01    14.0               0  18.0   \n1  20 BIDS VOUCHER          0.01    0.01    14.0               0  18.0   \n2  20 BIDS VOUCHER          0.01    0.01    14.0               0  15.0   \n3  20 BIDS VOUCHER          0.01    0.01    14.0               0  32.0   \n4  20 BIDS VOUCHER          0.01    0.01    14.0               0  16.0   \n\n          P  cnt_N  \n0  0.026525     10  \n1  0.026525     10  \n2  0.039788     15  \n3  0.015915      6  \n4  0.015915      6  ",
      "text/html": "<div>\n<style scoped>\n    .dataframe tbody tr th:only-of-type {\n        vertical-align: middle;\n    }\n\n    .dataframe tbody tr th {\n        vertical-align: top;\n    }\n\n    .dataframe thead th {\n        text-align: right;\n    }\n</style>\n<table border=\"1\" class=\"dataframe\">\n  <thead>\n    <tr style=\"text-align: right;\">\n      <th></th>\n      <th>desc</th>\n      <th>bidincrement</th>\n      <th>bidfee</th>\n      <th>retail</th>\n      <th>flg_fixedprice</th>\n      <th>N</th>\n      <th>P</th>\n      <th>cnt_N</th>\n    </tr>\n  </thead>\n  <tbody>\n    <tr>\n      <th>0</th>\n      <td>20 BIDS VOUCHER</td>\n      <td>0.01</td>\n      <td>0.01</td>\n      <td>14.0</td>\n      <td>0</td>\n      <td>18.0</td>\n      <td>0.026525</td>\n      <td>10</td>\n    </tr>\n    <tr>\n      <th>1</th>\n      <td>20 BIDS VOUCHER</td>\n      <td>0.01</td>\n      <td>0.01</td>\n      <td>14.0</td>\n      <td>0</td>\n      <td>18.0</td>\n      <td>0.026525</td>\n      <td>10</td>\n    </tr>\n    <tr>\n      <th>2</th>\n      <td>20 BIDS VOUCHER</td>\n      <td>0.01</td>\n      <td>0.01</td>\n      <td>14.0</td>\n      <td>0</td>\n      <td>15.0</td>\n      <td>0.039788</td>\n      <td>15</td>\n    </tr>\n    <tr>\n      <th>3</th>\n      <td>20 BIDS VOUCHER</td>\n      <td>0.01</td>\n      <td>0.01</td>\n      <td>14.0</td>\n      <td>0</td>\n      <td>32.0</td>\n      <td>0.015915</td>\n      <td>6</td>\n    </tr>\n    <tr>\n      <th>4</th>\n      <td>20 BIDS VOUCHER</td>\n      <td>0.01</td>\n      <td>0.01</td>\n      <td>14.0</td>\n      <td>0</td>\n      <td>16.0</td>\n      <td>0.015915</td>\n      <td>6</td>\n    </tr>\n  </tbody>\n</table>\n</div>"
     },
     "execution_count": 40,
     "metadata": {},
     "output_type": "execute_result"
    }
   ],
   "source": [
    "features_keep = unique_setting_NN +['N'] + ['P']+['cnt_N']  # 想保留的列\n",
    "data_P = data_P[features_keep].copy()\n",
    "data_P.head()"
   ],
   "metadata": {
    "collapsed": false
   }
  },
  {
   "cell_type": "markdown",
   "source": [
    "# 4. save\n",
    "- 保存data\n",
    "- 保存item方便embedding"
   ],
   "metadata": {
    "collapsed": false
   }
  },
  {
   "cell_type": "code",
   "execution_count": 45,
   "outputs": [
    {
     "name": "stdout",
     "output_type": "stream",
     "text": [
      "小数据集一共有 8872 条记录\n"
     ]
    }
   ],
   "source": [
    "data_P.to_csv(data_np_path,encoding=\"utf-8\",index=False,header=True)\n",
    "print(f\"小数据集一共有 {data_P.shape[0]} 条记录\")"
   ],
   "metadata": {
    "collapsed": false
   }
  },
  {
   "cell_type": "code",
   "execution_count": 42,
   "outputs": [
    {
     "data": {
      "text/plain": "                                              desc\n0                                  20 BIDS VOUCHER\n1                                  50 BIDS VOUCHER\n2                             50 FREEBIDS VOUCHER!\n3  CLATRONIC PM 2658 HOT AIR POPCORN MAKER (WHITE)\n4               MAKITA CORDLESS ARTICULATED WRENCH",
      "text/html": "<div>\n<style scoped>\n    .dataframe tbody tr th:only-of-type {\n        vertical-align: middle;\n    }\n\n    .dataframe tbody tr th {\n        vertical-align: top;\n    }\n\n    .dataframe thead th {\n        text-align: right;\n    }\n</style>\n<table border=\"1\" class=\"dataframe\">\n  <thead>\n    <tr style=\"text-align: right;\">\n      <th></th>\n      <th>desc</th>\n    </tr>\n  </thead>\n  <tbody>\n    <tr>\n      <th>0</th>\n      <td>20 BIDS VOUCHER</td>\n    </tr>\n    <tr>\n      <th>1</th>\n      <td>50 BIDS VOUCHER</td>\n    </tr>\n    <tr>\n      <th>2</th>\n      <td>50 FREEBIDS VOUCHER!</td>\n    </tr>\n    <tr>\n      <th>3</th>\n      <td>CLATRONIC PM 2658 HOT AIR POPCORN MAKER (WHITE)</td>\n    </tr>\n    <tr>\n      <th>4</th>\n      <td>MAKITA CORDLESS ARTICULATED WRENCH</td>\n    </tr>\n  </tbody>\n</table>\n</div>"
     },
     "execution_count": 42,
     "metadata": {},
     "output_type": "execute_result"
    }
   ],
   "source": [
    "item_df = pd.DataFrame(data_P['desc'].drop_duplicates(inplace=False))\n",
    "item_df.reset_index(drop=True,inplace=True)\n",
    "item_df.to_csv(prod_path,encoding=\"utf-8\",index=False,header=True)\n",
    "item_df.head()"
   ],
   "metadata": {
    "collapsed": false
   }
  },
  {
   "cell_type": "markdown",
   "source": [
    "- 保存data key"
   ],
   "metadata": {
    "collapsed": false
   }
  },
  {
   "cell_type": "code",
   "execution_count": 43,
   "outputs": [
    {
     "name": "stdout",
     "output_type": "stream",
     "text": [
      "当setting = ['bidincrement', 'bidfee', 'retail', 'flg_fixedprice']\n",
      "一共有 *75*场不同的auction\n"
     ]
    }
   ],
   "source": [
    "data_auction_GT = data_P[unique_setting_GT].copy()\n",
    "settings_GT = data_auction_GT.drop_duplicates(ignore_index=True)\n",
    "settings_GT.to_csv(settings_GT_path,encoding=\"utf-8\",index=False,header=True)\n",
    "\n",
    "print(f\"当setting = {unique_setting_GT}\")\n",
    "print(f\"一共有 *{settings_GT.shape[0]}*场不同的auction\")"
   ],
   "metadata": {
    "collapsed": false
   }
  },
  {
   "cell_type": "code",
   "execution_count": 44,
   "outputs": [
    {
     "name": "stdout",
     "output_type": "stream",
     "text": [
      "当setting = ['desc', 'bidincrement', 'bidfee', 'retail', 'flg_fixedprice']\n",
      "一共有 *80*场不同的auction\n"
     ]
    }
   ],
   "source": [
    "data_auction_NN = data_P[unique_setting_NN].copy()\n",
    "settings_NN = data_auction_NN.drop_duplicates(ignore_index=True)\n",
    "settings_NN.to_csv(settings_NN_path,encoding=\"utf-8\",index=False,header=True)\n",
    "\n",
    "print(f\"当setting = {unique_setting_NN}\")\n",
    "print(f\"一共有 *{settings_NN.shape[0]}*场不同的auction\")"
   ],
   "metadata": {
    "collapsed": false
   }
  },
  {
   "cell_type": "code",
   "execution_count": null,
   "outputs": [],
   "source": [],
   "metadata": {
    "collapsed": false
   }
  }
 ],
 "metadata": {
  "kernelspec": {
   "display_name": "Python 3",
   "language": "python",
   "name": "python3"
  },
  "language_info": {
   "codemirror_mode": {
    "name": "ipython",
    "version": 2
   },
   "file_extension": ".py",
   "mimetype": "text/x-python",
   "name": "python",
   "nbconvert_exporter": "python",
   "pygments_lexer": "ipython2",
   "version": "2.7.6"
  }
 },
 "nbformat": 4,
 "nbformat_minor": 0
}
