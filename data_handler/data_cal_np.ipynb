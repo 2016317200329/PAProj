{
 "cells": [
  {
   "cell_type": "code",
   "execution_count": 35,
   "metadata": {
    "collapsed": true
   },
   "outputs": [],
   "source": [
    "#!/usr/bin/env python\n",
    "# -*- coding: utf-8 -*-\n",
    "# @Time    : 2022/11/21 14:28\n",
    "# @Author  : Wang Yujia\n",
    "# @File    : data_cal_np.ipynb\n",
    "# @Description : 1. 计算N和P 2. 设置threshold"
   ]
  },
  {
   "cell_type": "markdown",
   "source": [
    "# 0. what for\n",
    "1. 计算N和P，从`data_extract_for_asc_symmetry_2.ipynb`提取出来的\n",
    "    - 计算P的方法：**method-2**，`(price-0)/bidincrement`\n",
    "2. 计算完后，样本数小于`threshold`的settings不予考虑\n",
    "3. Output：2个csv\n",
    "    - `datawithnp_2.csv`：去除了重复行，但是未没经过threshold筛选的data\n",
    "    - `datawithnp_2_selected.csv`去除了重复行，且经过threshold筛选\n",
    "4. **检查逻辑的2个思路**：\n",
    "    - 对于同一个unique setting, 是不是 sum(['cnt_n_1'])==['cnt_uniq'].\n",
    "    - 对于同一个unique setting, 是不是['cnt_n_1']==2对应的['P']是['cnt_n_1']==1对应的['P']的 2倍\n",
    "    - 逻辑检查 see 2.2.4\n",
    "# 1. Preparations\n",
    "## 1.1 全局设置"
   ],
   "metadata": {
    "collapsed": false
   }
  },
  {
   "cell_type": "code",
   "execution_count": 36,
   "outputs": [],
   "source": [
    "# outcomes dataset\n",
    "outcomes_path = \"../data/outcomes_cleaned.csv\"\n",
    "\n",
    "# 经过threshold后，得到的dataset\n",
    "data_selected_path = \"../data/datawithnp_2_selected.csv\"\n",
    "\n",
    "# 衡量一场auction是否unique的标志\n",
    "unique_setting = ['id', 'bidincrement', 'bidfee','retail']\n",
    "\n",
    "threshold = 16\n",
    "\n",
    "import numpy as np\n",
    "import pandas as pd"
   ],
   "metadata": {
    "collapsed": false
   }
  },
  {
   "cell_type": "markdown",
   "source": [
    "## 1.2 读取data"
   ],
   "metadata": {
    "collapsed": false
   }
  },
  {
   "cell_type": "code",
   "execution_count": 37,
   "outputs": [],
   "source": [
    "outcomes = pd.read_csv(outcomes_path, encoding=\"utf-8\")"
   ],
   "metadata": {
    "collapsed": false
   }
  },
  {
   "cell_type": "markdown",
   "source": [
    "# 2. 计算N和P\n",
    "## 2.1 计算N\n",
    "1. 这里计算N是 **“方法二”** ：在`outcomes.tsv`中通过(price-0)/bidincrement来计算"
   ],
   "metadata": {
    "collapsed": false
   }
  },
  {
   "cell_type": "code",
   "execution_count": 38,
   "outputs": [
    {
     "name": "stdout",
     "output_type": "stream",
     "text": [
      "Done\n"
     ]
    }
   ],
   "source": [
    "data_withn = outcomes.copy()\n",
    "data_withn.loc[:,'n_2'] = outcomes.loc[:,'price'] / (outcomes.loc[:,'bidincrement'])\n",
    "data_withn['n_2'] = data_withn['n_2'].astype(int)\n",
    "print(\"Done\")# 把n变成int"
   ],
   "metadata": {
    "collapsed": false
   }
  },
  {
   "cell_type": "markdown",
   "source": [
    "## 2.2 threshold\n",
    "1. **取样本数在threshold之上的setting作为数据集来使用**\n",
    "    - 根据每个unique setting下的样本数: `data_withn_cnt['cnt_uniq']`，用`threshold`筛选\n",
    "2. GTmodel可以根据这个进行计算"
   ],
   "metadata": {
    "collapsed": false
   }
  },
  {
   "cell_type": "code",
   "execution_count": 39,
   "outputs": [
    {
     "data": {
      "text/plain": "   auction_id  product_id                                      item  \\\n0       86827    10009602  sony-ericsson-s500i-unlocked-mysterious-   \n1       87964    10009881            psp-slim-lite-sony-piano-black   \n2       87965    10009881            psp-slim-lite-sony-piano-black   \n3       88638    10006115  sony-ericsson-s500i-unlocked-mysterious-   \n4       88639    10006115  sony-ericsson-s500i-unlocked-mysterious-   \n\n                                            desc  retail  price  finalprice  \\\n0  Sony Ericsson S500i Unlocked Mysterious Green  499.99  13.35       13.35   \n1               PSP Slim & Lite Sony Piano Black  169.99  74.70       74.70   \n2               PSP Slim & Lite Sony Piano Black  169.99  83.10       83.10   \n3  Sony Ericsson S500i Unlocked Mysterious Green  499.99  19.65       19.65   \n4  Sony Ericsson S500i Unlocked Mysterious Green  499.99  47.10       47.10   \n\n   bidincrement  bidfee        winner  placedbids  freebids  \\\n0          0.15    0.75       Racer11          26         0   \n1          0.15    0.75        Cemo23          65         0   \n2          0.15    0.75  Jacobsonnich          94         0   \n3          0.15    0.75        Mokkis          10         0   \n4          0.15    0.75  Superloeffel          80         0   \n\n            endtime_str  flg_click_only  flg_beginnerauction  flg_fixedprice  \\\n0  19:52 PDT 09-16-2008               0                    0               0   \n1  11:17 PDT 08-28-2008               0                    0               0   \n2  22:52 PDT 11-07-2008               0                    1               0   \n3  22:02 PDT 08-23-2008               0                    0               0   \n4  14:23 PDT 08-24-2008               0                    0               0   \n\n   flg_endprice  id  n_2  cnt_uniq  \n0             0   0   89        69  \n1             0   1  498        60  \n2             0   1  554        60  \n3             0   0  131        69  \n4             0   0  314        69  ",
      "text/html": "<div>\n<style scoped>\n    .dataframe tbody tr th:only-of-type {\n        vertical-align: middle;\n    }\n\n    .dataframe tbody tr th {\n        vertical-align: top;\n    }\n\n    .dataframe thead th {\n        text-align: right;\n    }\n</style>\n<table border=\"1\" class=\"dataframe\">\n  <thead>\n    <tr style=\"text-align: right;\">\n      <th></th>\n      <th>auction_id</th>\n      <th>product_id</th>\n      <th>item</th>\n      <th>desc</th>\n      <th>retail</th>\n      <th>price</th>\n      <th>finalprice</th>\n      <th>bidincrement</th>\n      <th>bidfee</th>\n      <th>winner</th>\n      <th>placedbids</th>\n      <th>freebids</th>\n      <th>endtime_str</th>\n      <th>flg_click_only</th>\n      <th>flg_beginnerauction</th>\n      <th>flg_fixedprice</th>\n      <th>flg_endprice</th>\n      <th>id</th>\n      <th>n_2</th>\n      <th>cnt_uniq</th>\n    </tr>\n  </thead>\n  <tbody>\n    <tr>\n      <th>0</th>\n      <td>86827</td>\n      <td>10009602</td>\n      <td>sony-ericsson-s500i-unlocked-mysterious-</td>\n      <td>Sony Ericsson S500i Unlocked Mysterious Green</td>\n      <td>499.99</td>\n      <td>13.35</td>\n      <td>13.35</td>\n      <td>0.15</td>\n      <td>0.75</td>\n      <td>Racer11</td>\n      <td>26</td>\n      <td>0</td>\n      <td>19:52 PDT 09-16-2008</td>\n      <td>0</td>\n      <td>0</td>\n      <td>0</td>\n      <td>0</td>\n      <td>0</td>\n      <td>89</td>\n      <td>69</td>\n    </tr>\n    <tr>\n      <th>1</th>\n      <td>87964</td>\n      <td>10009881</td>\n      <td>psp-slim-lite-sony-piano-black</td>\n      <td>PSP Slim &amp; Lite Sony Piano Black</td>\n      <td>169.99</td>\n      <td>74.70</td>\n      <td>74.70</td>\n      <td>0.15</td>\n      <td>0.75</td>\n      <td>Cemo23</td>\n      <td>65</td>\n      <td>0</td>\n      <td>11:17 PDT 08-28-2008</td>\n      <td>0</td>\n      <td>0</td>\n      <td>0</td>\n      <td>0</td>\n      <td>1</td>\n      <td>498</td>\n      <td>60</td>\n    </tr>\n    <tr>\n      <th>2</th>\n      <td>87965</td>\n      <td>10009881</td>\n      <td>psp-slim-lite-sony-piano-black</td>\n      <td>PSP Slim &amp; Lite Sony Piano Black</td>\n      <td>169.99</td>\n      <td>83.10</td>\n      <td>83.10</td>\n      <td>0.15</td>\n      <td>0.75</td>\n      <td>Jacobsonnich</td>\n      <td>94</td>\n      <td>0</td>\n      <td>22:52 PDT 11-07-2008</td>\n      <td>0</td>\n      <td>1</td>\n      <td>0</td>\n      <td>0</td>\n      <td>1</td>\n      <td>554</td>\n      <td>60</td>\n    </tr>\n    <tr>\n      <th>3</th>\n      <td>88638</td>\n      <td>10006115</td>\n      <td>sony-ericsson-s500i-unlocked-mysterious-</td>\n      <td>Sony Ericsson S500i Unlocked Mysterious Green</td>\n      <td>499.99</td>\n      <td>19.65</td>\n      <td>19.65</td>\n      <td>0.15</td>\n      <td>0.75</td>\n      <td>Mokkis</td>\n      <td>10</td>\n      <td>0</td>\n      <td>22:02 PDT 08-23-2008</td>\n      <td>0</td>\n      <td>0</td>\n      <td>0</td>\n      <td>0</td>\n      <td>0</td>\n      <td>131</td>\n      <td>69</td>\n    </tr>\n    <tr>\n      <th>4</th>\n      <td>88639</td>\n      <td>10006115</td>\n      <td>sony-ericsson-s500i-unlocked-mysterious-</td>\n      <td>Sony Ericsson S500i Unlocked Mysterious Green</td>\n      <td>499.99</td>\n      <td>47.10</td>\n      <td>47.10</td>\n      <td>0.15</td>\n      <td>0.75</td>\n      <td>Superloeffel</td>\n      <td>80</td>\n      <td>0</td>\n      <td>14:23 PDT 08-24-2008</td>\n      <td>0</td>\n      <td>0</td>\n      <td>0</td>\n      <td>0</td>\n      <td>0</td>\n      <td>314</td>\n      <td>69</td>\n    </tr>\n  </tbody>\n</table>\n</div>"
     },
     "execution_count": 39,
     "metadata": {},
     "output_type": "execute_result"
    }
   ],
   "source": [
    "# each unique setting对应了'cnt_uniq'场auction\n",
    "# 注意'cnt_uniq'本来并不需要出现在最后的data中，但是后面用threshold会联动一下\n",
    "# 最后的data中保留了这一项，方便计算likelihood\n",
    "\n",
    "data_grouped_tmp = data_withn.groupby(unique_setting,as_index=False)\n",
    "tmp = pd.DataFrame(data_grouped_tmp.size())\n",
    "data_withn_cnt = pd.merge(data_withn, tmp, on=unique_setting, how=\"left\")\n",
    "data_withn_cnt.rename(columns={'size': 'cnt_uniq'}, inplace=True)\n",
    "assert data_withn.shape[0] == data_withn_cnt.shape[0],\"Wrong!\"\n",
    "data_withn_cnt.head()"
   ],
   "metadata": {
    "collapsed": false
   }
  },
  {
   "cell_type": "code",
   "execution_count": 40,
   "outputs": [
    {
     "name": "stdout",
     "output_type": "stream",
     "text": [
      "Drop 掉了 *12175* 行duplicate data\n"
     ]
    }
   ],
   "source": [
    "# 筛选unique setting对应的样本数(data_withn_cnt['cnt_uniq'])在threshold之上的部分\n",
    "data_selected = data_withn_cnt[data_withn_cnt['cnt_uniq'] >= threshold].copy()\n",
    "\n",
    "print(\"Drop 掉了 *{}* 行duplicate data\".format(data_withn_cnt.shape[0] - data_selected.shape[0]))"
   ],
   "metadata": {
    "collapsed": false
   }
  },
  {
   "cell_type": "code",
   "execution_count": 41,
   "outputs": [
    {
     "name": "stdout",
     "output_type": "stream",
     "text": [
      "之前有 *3402* 个uniq settings，现在有 *1196*个\n",
      "Drop 掉了 *2206* 个uniq auction settings\n",
      "uniq settings = ['id', 'bidincrement', 'bidfee', 'retail']\n"
     ]
    }
   ],
   "source": [
    "data_grouped_tmp_2 = data_selected.groupby(unique_setting,as_index=False)\n",
    "tmp_2 = pd.DataFrame(data_grouped_tmp_2.size())\n",
    "\n",
    "print(\"之前有 *{0}* 个uniq settings，现在有 *{1}*个\".format(tmp.shape[0],tmp_2.shape[0]))\n",
    "print(\"Drop 掉了 *{}* 个uniq auction settings\".format(tmp.shape[0] - tmp_2.shape[0]))\n",
    "print(f\"uniq settings = {unique_setting}\")"
   ],
   "metadata": {
    "collapsed": false
   }
  },
  {
   "cell_type": "code",
   "execution_count": 42,
   "outputs": [],
   "source": [
    "del(tmp,tmp_2,data_grouped_tmp_2,data_grouped_tmp)"
   ],
   "metadata": {
    "collapsed": false
   }
  },
  {
   "cell_type": "markdown",
   "source": [
    "## 2.3 计算p\n",
    "1. unique setting一样的auction认为是同一个\n",
    "2. `P = cnt_n_2 / cnt_uniq`，下面需要计算`cnt_n_2`\n",
    "    - `cnt_n_2`表示某个setting下的`n_2`某数值出现了几次\n",
    "    - Example: `cnt_n=2`表示在某个setting下，有2场拍卖持续了n_2轮\n",
    "features_cnt_n_2 = unique_setting+['n_2']"
   ],
   "metadata": {
    "collapsed": false
   }
  },
  {
   "cell_type": "code",
   "execution_count": 43,
   "outputs": [
    {
     "data": {
      "text/plain": "(   auction_id  product_id                                      item  \\\n 0       86827    10009602  sony-ericsson-s500i-unlocked-mysterious-   \n 1       87964    10009881            psp-slim-lite-sony-piano-black   \n 2       87965    10009881            psp-slim-lite-sony-piano-black   \n 3       88638    10006115  sony-ericsson-s500i-unlocked-mysterious-   \n 4       88639    10006115  sony-ericsson-s500i-unlocked-mysterious-   \n \n                                             desc  retail  price  finalprice  \\\n 0  Sony Ericsson S500i Unlocked Mysterious Green  499.99  13.35       13.35   \n 1               PSP Slim & Lite Sony Piano Black  169.99  74.70       74.70   \n 2               PSP Slim & Lite Sony Piano Black  169.99  83.10       83.10   \n 3  Sony Ericsson S500i Unlocked Mysterious Green  499.99  19.65       19.65   \n 4  Sony Ericsson S500i Unlocked Mysterious Green  499.99  47.10       47.10   \n \n    bidincrement  bidfee        winner  placedbids  freebids  \\\n 0          0.15    0.75       Racer11          26         0   \n 1          0.15    0.75        Cemo23          65         0   \n 2          0.15    0.75  Jacobsonnich          94         0   \n 3          0.15    0.75        Mokkis          10         0   \n 4          0.15    0.75  Superloeffel          80         0   \n \n             endtime_str  flg_click_only  flg_beginnerauction  flg_fixedprice  \\\n 0  19:52 PDT 09-16-2008               0                    0               0   \n 1  11:17 PDT 08-28-2008               0                    0               0   \n 2  22:52 PDT 11-07-2008               0                    1               0   \n 3  22:02 PDT 08-23-2008               0                    0               0   \n 4  14:23 PDT 08-24-2008               0                    0               0   \n \n    flg_endprice  id  n_2  cnt_uniq  \n 0             0   0   89        69  \n 1             0   1  498        60  \n 2             0   1  554        60  \n 3             0   0  131        69  \n 4             0   0  314        69  ,\n (107008, 20))"
     },
     "execution_count": 43,
     "metadata": {},
     "output_type": "execute_result"
    }
   ],
   "source": [
    "data_selected.head(),data_selected.shape"
   ],
   "metadata": {
    "collapsed": false
   }
  },
  {
   "cell_type": "code",
   "execution_count": 44,
   "outputs": [
    {
     "data": {
      "text/plain": "(   auction_id  product_id                                      item  \\\n 0       86827    10009602  sony-ericsson-s500i-unlocked-mysterious-   \n 1       87964    10009881            psp-slim-lite-sony-piano-black   \n 2       87965    10009881            psp-slim-lite-sony-piano-black   \n 3       88638    10006115  sony-ericsson-s500i-unlocked-mysterious-   \n 4       88639    10006115  sony-ericsson-s500i-unlocked-mysterious-   \n \n                                             desc  retail  price  finalprice  \\\n 0  Sony Ericsson S500i Unlocked Mysterious Green  499.99  13.35       13.35   \n 1               PSP Slim & Lite Sony Piano Black  169.99  74.70       74.70   \n 2               PSP Slim & Lite Sony Piano Black  169.99  83.10       83.10   \n 3  Sony Ericsson S500i Unlocked Mysterious Green  499.99  19.65       19.65   \n 4  Sony Ericsson S500i Unlocked Mysterious Green  499.99  47.10       47.10   \n \n    bidincrement  bidfee        winner  ...  freebids           endtime_str  \\\n 0          0.15    0.75       Racer11  ...         0  19:52 PDT 09-16-2008   \n 1          0.15    0.75        Cemo23  ...         0  11:17 PDT 08-28-2008   \n 2          0.15    0.75  Jacobsonnich  ...         0  22:52 PDT 11-07-2008   \n 3          0.15    0.75        Mokkis  ...         0  22:02 PDT 08-23-2008   \n 4          0.15    0.75  Superloeffel  ...         0  14:23 PDT 08-24-2008   \n \n   flg_click_only  flg_beginnerauction  flg_fixedprice  flg_endprice  id  n_2  \\\n 0              0                    0               0             0   0   89   \n 1              0                    0               0             0   1  498   \n 2              0                    1               0             0   1  554   \n 3              0                    0               0             0   0  131   \n 4              0                    0               0             0   0  314   \n \n    cnt_uniq  cnt_n_2  \n 0        69        1  \n 1        60        1  \n 2        60        1  \n 3        69        1  \n 4        69        1  \n \n [5 rows x 21 columns],\n (107008, 21))"
     },
     "execution_count": 44,
     "metadata": {},
     "output_type": "execute_result"
    }
   ],
   "source": [
    "# cnt_n_2表示某个setting下的n_2某数值出现了几次/ Example: cnt_n=2表示在某个setting下，有2场拍卖持续了n_2轮\n",
    "features_cnt_n_2 = unique_setting+['n_2']\n",
    "data_grouped_tmp = data_selected.groupby(features_cnt_n_2,as_index=False)\n",
    "tmp = pd.DataFrame(data_grouped_tmp.size())\n",
    "\n",
    "data_withn_cnt_n2 = pd.merge(data_selected, tmp, on=features_cnt_n_2, how=\"left\")\n",
    "data_withn_cnt_n2.rename(columns={'size': 'cnt_n_2'}, inplace=True)\n",
    "data_withn_cnt_n2.head(),data_withn_cnt_n2.shape"
   ],
   "metadata": {
    "collapsed": false
   }
  },
  {
   "cell_type": "markdown",
   "source": [
    "- P = cnt_n / cnt_uniq\n",
    "- 输出的结果在`data_withn_cnt_n12`中，其中包含了所需要的3个值：cnt_n_2 cnt_uniq"
   ],
   "metadata": {
    "collapsed": false
   }
  },
  {
   "cell_type": "code",
   "execution_count": 45,
   "outputs": [
    {
     "data": {
      "text/plain": "(   auction_id  product_id                                      item  \\\n 0       86827    10009602  sony-ericsson-s500i-unlocked-mysterious-   \n 1       87964    10009881            psp-slim-lite-sony-piano-black   \n 2       87965    10009881            psp-slim-lite-sony-piano-black   \n 3       88638    10006115  sony-ericsson-s500i-unlocked-mysterious-   \n 4       88639    10006115  sony-ericsson-s500i-unlocked-mysterious-   \n \n                                             desc  retail  price  finalprice  \\\n 0  Sony Ericsson S500i Unlocked Mysterious Green  499.99  13.35       13.35   \n 1               PSP Slim & Lite Sony Piano Black  169.99  74.70       74.70   \n 2               PSP Slim & Lite Sony Piano Black  169.99  83.10       83.10   \n 3  Sony Ericsson S500i Unlocked Mysterious Green  499.99  19.65       19.65   \n 4  Sony Ericsson S500i Unlocked Mysterious Green  499.99  47.10       47.10   \n \n    bidincrement  bidfee        winner  ...           endtime_str  \\\n 0          0.15    0.75       Racer11  ...  19:52 PDT 09-16-2008   \n 1          0.15    0.75        Cemo23  ...  11:17 PDT 08-28-2008   \n 2          0.15    0.75  Jacobsonnich  ...  22:52 PDT 11-07-2008   \n 3          0.15    0.75        Mokkis  ...  22:02 PDT 08-23-2008   \n 4          0.15    0.75  Superloeffel  ...  14:23 PDT 08-24-2008   \n \n    flg_click_only flg_beginnerauction  flg_fixedprice  flg_endprice  id  n_2  \\\n 0               0                   0               0             0   0   89   \n 1               0                   0               0             0   1  498   \n 2               0                   1               0             0   1  554   \n 3               0                   0               0             0   0  131   \n 4               0                   0               0             0   0  314   \n \n    cnt_uniq  cnt_n_2         P  \n 0        69        1  0.014493  \n 1        60        1  0.016667  \n 2        60        1  0.016667  \n 3        69        1  0.014493  \n 4        69        1  0.014493  \n \n [5 rows x 22 columns],\n (107008, 22))"
     },
     "execution_count": 45,
     "metadata": {},
     "output_type": "execute_result"
    }
   ],
   "source": [
    "# 2.2.3 计算P=cnt_n_2 / cnt_uniq: data_withn_cnt_n2\n",
    "\n",
    "data_withn_cnt_n2['P'] = data_withn_cnt_n2['cnt_n_2'] / data_withn_cnt_n2['cnt_uniq']\n",
    "data_withn_cnt_n2.head(),data_withn_cnt_n2.shape"
   ],
   "metadata": {
    "collapsed": false
   }
  },
  {
   "cell_type": "markdown",
   "source": [
    "# 3. 保存结果\n",
    "## 3.1 去重\n",
    "1. 去重注意**不能**按照`unique_setting`去搞，毕竟一个`unique_setting`对应多对`np`值\n",
    "2. **应该按照** `unique_setting`+`np`+`cnt_n_2`\n",
    "3. 'cnt_uniq'不是必须的列"
   ],
   "metadata": {
    "collapsed": false
   }
  },
  {
   "cell_type": "code",
   "execution_count": 46,
   "outputs": [
    {
     "name": "stdout",
     "output_type": "stream",
     "text": [
      "Drop 掉了 *38684* 行duplicate data\n"
     ]
    }
   ],
   "source": [
    "data_withn_cnt_n2.rename(columns={'n_2': 'N'}, inplace=True)\n",
    "len_before_drop = data_withn_cnt_n2.shape[0]\n",
    "data_withn_cnt_n2.drop_duplicates(subset=(['N','P','cnt_n_2']+unique_setting),inplace=True)\n",
    "print(\"Drop 掉了 *{}* 行duplicate data\".format(len_before_drop - data_withn_cnt_n2.shape[0]))\n",
    "# 221124: 少drop300行的data"
   ],
   "metadata": {
    "collapsed": false
   }
  },
  {
   "cell_type": "code",
   "execution_count": 47,
   "outputs": [
    {
     "data": {
      "text/plain": "   auction_id  product_id                                      item  \\\n0       86827    10009602  sony-ericsson-s500i-unlocked-mysterious-   \n1       87964    10009881            psp-slim-lite-sony-piano-black   \n2       87965    10009881            psp-slim-lite-sony-piano-black   \n3       88638    10006115  sony-ericsson-s500i-unlocked-mysterious-   \n4       88639    10006115  sony-ericsson-s500i-unlocked-mysterious-   \n\n                                            desc  retail  price  finalprice  \\\n0  Sony Ericsson S500i Unlocked Mysterious Green  499.99  13.35       13.35   \n1               PSP Slim & Lite Sony Piano Black  169.99  74.70       74.70   \n2               PSP Slim & Lite Sony Piano Black  169.99  83.10       83.10   \n3  Sony Ericsson S500i Unlocked Mysterious Green  499.99  19.65       19.65   \n4  Sony Ericsson S500i Unlocked Mysterious Green  499.99  47.10       47.10   \n\n   bidincrement  bidfee        winner  ...           endtime_str  \\\n0          0.15    0.75       Racer11  ...  19:52 PDT 09-16-2008   \n1          0.15    0.75        Cemo23  ...  11:17 PDT 08-28-2008   \n2          0.15    0.75  Jacobsonnich  ...  22:52 PDT 11-07-2008   \n3          0.15    0.75        Mokkis  ...  22:02 PDT 08-23-2008   \n4          0.15    0.75  Superloeffel  ...  14:23 PDT 08-24-2008   \n\n   flg_click_only flg_beginnerauction  flg_fixedprice  flg_endprice  id    N  \\\n0               0                   0               0             0   0   89   \n1               0                   0               0             0   1  498   \n2               0                   1               0             0   1  554   \n3               0                   0               0             0   0  131   \n4               0                   0               0             0   0  314   \n\n   cnt_uniq  cnt_n_2         P  \n0        69        1  0.014493  \n1        60        1  0.016667  \n2        60        1  0.016667  \n3        69        1  0.014493  \n4        69        1  0.014493  \n\n[5 rows x 22 columns]",
      "text/html": "<div>\n<style scoped>\n    .dataframe tbody tr th:only-of-type {\n        vertical-align: middle;\n    }\n\n    .dataframe tbody tr th {\n        vertical-align: top;\n    }\n\n    .dataframe thead th {\n        text-align: right;\n    }\n</style>\n<table border=\"1\" class=\"dataframe\">\n  <thead>\n    <tr style=\"text-align: right;\">\n      <th></th>\n      <th>auction_id</th>\n      <th>product_id</th>\n      <th>item</th>\n      <th>desc</th>\n      <th>retail</th>\n      <th>price</th>\n      <th>finalprice</th>\n      <th>bidincrement</th>\n      <th>bidfee</th>\n      <th>winner</th>\n      <th>...</th>\n      <th>endtime_str</th>\n      <th>flg_click_only</th>\n      <th>flg_beginnerauction</th>\n      <th>flg_fixedprice</th>\n      <th>flg_endprice</th>\n      <th>id</th>\n      <th>N</th>\n      <th>cnt_uniq</th>\n      <th>cnt_n_2</th>\n      <th>P</th>\n    </tr>\n  </thead>\n  <tbody>\n    <tr>\n      <th>0</th>\n      <td>86827</td>\n      <td>10009602</td>\n      <td>sony-ericsson-s500i-unlocked-mysterious-</td>\n      <td>Sony Ericsson S500i Unlocked Mysterious Green</td>\n      <td>499.99</td>\n      <td>13.35</td>\n      <td>13.35</td>\n      <td>0.15</td>\n      <td>0.75</td>\n      <td>Racer11</td>\n      <td>...</td>\n      <td>19:52 PDT 09-16-2008</td>\n      <td>0</td>\n      <td>0</td>\n      <td>0</td>\n      <td>0</td>\n      <td>0</td>\n      <td>89</td>\n      <td>69</td>\n      <td>1</td>\n      <td>0.014493</td>\n    </tr>\n    <tr>\n      <th>1</th>\n      <td>87964</td>\n      <td>10009881</td>\n      <td>psp-slim-lite-sony-piano-black</td>\n      <td>PSP Slim &amp; Lite Sony Piano Black</td>\n      <td>169.99</td>\n      <td>74.70</td>\n      <td>74.70</td>\n      <td>0.15</td>\n      <td>0.75</td>\n      <td>Cemo23</td>\n      <td>...</td>\n      <td>11:17 PDT 08-28-2008</td>\n      <td>0</td>\n      <td>0</td>\n      <td>0</td>\n      <td>0</td>\n      <td>1</td>\n      <td>498</td>\n      <td>60</td>\n      <td>1</td>\n      <td>0.016667</td>\n    </tr>\n    <tr>\n      <th>2</th>\n      <td>87965</td>\n      <td>10009881</td>\n      <td>psp-slim-lite-sony-piano-black</td>\n      <td>PSP Slim &amp; Lite Sony Piano Black</td>\n      <td>169.99</td>\n      <td>83.10</td>\n      <td>83.10</td>\n      <td>0.15</td>\n      <td>0.75</td>\n      <td>Jacobsonnich</td>\n      <td>...</td>\n      <td>22:52 PDT 11-07-2008</td>\n      <td>0</td>\n      <td>1</td>\n      <td>0</td>\n      <td>0</td>\n      <td>1</td>\n      <td>554</td>\n      <td>60</td>\n      <td>1</td>\n      <td>0.016667</td>\n    </tr>\n    <tr>\n      <th>3</th>\n      <td>88638</td>\n      <td>10006115</td>\n      <td>sony-ericsson-s500i-unlocked-mysterious-</td>\n      <td>Sony Ericsson S500i Unlocked Mysterious Green</td>\n      <td>499.99</td>\n      <td>19.65</td>\n      <td>19.65</td>\n      <td>0.15</td>\n      <td>0.75</td>\n      <td>Mokkis</td>\n      <td>...</td>\n      <td>22:02 PDT 08-23-2008</td>\n      <td>0</td>\n      <td>0</td>\n      <td>0</td>\n      <td>0</td>\n      <td>0</td>\n      <td>131</td>\n      <td>69</td>\n      <td>1</td>\n      <td>0.014493</td>\n    </tr>\n    <tr>\n      <th>4</th>\n      <td>88639</td>\n      <td>10006115</td>\n      <td>sony-ericsson-s500i-unlocked-mysterious-</td>\n      <td>Sony Ericsson S500i Unlocked Mysterious Green</td>\n      <td>499.99</td>\n      <td>47.10</td>\n      <td>47.10</td>\n      <td>0.15</td>\n      <td>0.75</td>\n      <td>Superloeffel</td>\n      <td>...</td>\n      <td>14:23 PDT 08-24-2008</td>\n      <td>0</td>\n      <td>0</td>\n      <td>0</td>\n      <td>0</td>\n      <td>0</td>\n      <td>314</td>\n      <td>69</td>\n      <td>1</td>\n      <td>0.014493</td>\n    </tr>\n  </tbody>\n</table>\n<p>5 rows × 22 columns</p>\n</div>"
     },
     "execution_count": 47,
     "metadata": {},
     "output_type": "execute_result"
    }
   ],
   "source": [
    "# output to csv\n",
    "data_withn_cnt_n2.to_csv(data_selected_path, header=True, encoding=\"utf-8\",index=False)\n",
    "data_withn_cnt_n2.head()"
   ],
   "metadata": {
    "collapsed": false
   }
  },
  {
   "cell_type": "code",
   "execution_count": null,
   "outputs": [],
   "source": [],
   "metadata": {
    "collapsed": false
   }
  }
 ],
 "metadata": {
  "kernelspec": {
   "display_name": "Python 3",
   "language": "python",
   "name": "python3"
  },
  "language_info": {
   "codemirror_mode": {
    "name": "ipython",
    "version": 2
   },
   "file_extension": ".py",
   "mimetype": "text/x-python",
   "name": "python",
   "nbconvert_exporter": "python",
   "pygments_lexer": "ipython2",
   "version": "2.7.6"
  }
 },
 "nbformat": 4,
 "nbformat_minor": 0
}
