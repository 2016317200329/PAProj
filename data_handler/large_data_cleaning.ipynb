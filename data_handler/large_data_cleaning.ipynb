{
 "cells": [
  {
   "cell_type": "markdown",
   "source": [
    "# 0. what for\n",
    "1. 对大数据集进行清洗\n",
    "# 1. Preparations\n",
    "## 1.1 全局设置"
   ],
   "metadata": {
    "collapsed": false
   }
  },
  {
   "cell_type": "code",
   "execution_count": 65,
   "outputs": [],
   "source": [
    "#导入pandas包\n",
    "import pandas as pd\n",
    "import numpy as np\n",
    "from tqdm import tqdm\n",
    "\n",
    "auctions_selected_path = r'E:\\DATA\\large_dta\\auctions_selected.csv' # 暂存data，只包含了必要的cols\n",
    "PA_auction_id_path = r'E:\\DATA\\large_dta\\PA_auction_id.csv'         # 暂存auction_id，是那些通过了规则筛选的auction id\n",
    "auctions_cleaned_path = r'E:\\DATA\\large_dta\\auctions_cleaned.csv'   # retail修正的data\n",
    "\n",
    "# settings path\n",
    "settings_GT_path = r'E:\\DATA\\large_dta\\settings_GT.csv'\n",
    "settings_NN_path = r'E:\\DATA\\large_dta\\settings_NN.csv'"
   ],
   "metadata": {
    "collapsed": false
   }
  },
  {
   "cell_type": "markdown",
   "source": [
    "- read in"
   ],
   "metadata": {
    "collapsed": false
   }
  },
  {
   "cell_type": "markdown",
   "source": [
    "## 1.2 可以用的columns重新save data\n",
    "1. 'k','y'分别表示bid inc和bid fee\n",
    "2. adjvalue是amazon价格，worthupto是PA网站给出的零售价，\n",
    "    - 这篇paper里用作\n",
    "3. data中的columns包括:`['Unnamed: 0', 'auctionid', 'endtime', 'item', 'worthupto', 'adjvalue',\n",
    "        'endbidlevel', 'endbidlevel_norm', 'endtimeperiod', 'shipping_swp',\n",
    "        'shipping_am', 'beginnerauction', 'nailbiter', 'percentoff',\n",
    "        'fixedprice', 'pennyauction', 'username', 'profit', 'profitperc',\n",
    "        'at_only', 'us_only', 'amazon_match', 'type', 'worthupto_de',\n",
    "        'currency', 'worthupto_com', 'exchangerate', 'cash', 'freebids',\n",
    "        'consumer', 'y', 'k']`\n",
    "4. data_2中的columns包括：`['Unnamed: 0', 'auctionid', 'item', 'adjvalue', 'nailbiter', 'type', 'k',\n",
    "       'time', 'netvalue', 'adjvalue_ln', 'netvalue_ln', 'sunkcosts_agg',\n",
    "       'sunkcosts_agg_ln', 'end', 'hour', 'week', 'day', 'dayofweek',\n",
    "       'valuebin']`\n",
    "5. 新保存的data后缀为`selected`，**实际上我们只需要data这一个auction-level的table就够了**"
   ],
   "metadata": {
    "collapsed": false
   }
  },
  {
   "cell_type": "code",
   "execution_count": 92,
   "outputs": [
    {
     "name": "stdout",
     "output_type": "stream",
     "text": [
      "\n",
      "\n",
      "转换成功...\n"
     ]
    }
   ],
   "source": [
    "\n",
    "# name=pd.read_stata(r'E:\\DATA\\large_dta\\auctions.dta')\n",
    "# name.to_csv(r'E:\\DATA\\large_dta\\auctions.csv', encoding=\"utf-8\",header=True,index = False)\n",
    "# print('\\n')\n",
    "# print('转换成功...')\n"
   ],
   "metadata": {
    "collapsed": false
   }
  },
  {
   "cell_type": "code",
   "execution_count": 8,
   "outputs": [],
   "source": [
    "col = ['auctionid',\n",
    "    'item',\n",
    "    'pennyauction','fixedprice','type',\n",
    "    'currency','exchangerate',\n",
    "    'adjvalue','worthupto',\n",
    "    'endtimeperiod','k','y']\n",
    "col_2 = ['auctionid','item',\n",
    "    'type',\n",
    "    'adjvalue',\n",
    "    'time','end',\n",
    "    'k']\n",
    "\n",
    "data = pd.read_csv(r'E:\\DATA\\large_dta\\auctions.csv')"
   ],
   "metadata": {
    "collapsed": false
   }
  },
  {
   "cell_type": "code",
   "execution_count": 9,
   "outputs": [
    {
     "data": {
      "text/plain": "True"
     },
     "execution_count": 9,
     "metadata": {},
     "output_type": "execute_result"
    }
   ],
   "source": [
    "data.auctionid.nunique() == data.shape[0]"
   ],
   "metadata": {
    "collapsed": false
   }
  },
  {
   "cell_type": "code",
   "execution_count": 10,
   "outputs": [],
   "source": [
    "data_tmp = data[col].copy()\n",
    "data_tmp['k'] = data_tmp.k*0.01\n",
    "data_tmp.to_csv(auctions_selected_path, encoding = 'utf-8', index=False, header=True)\n",
    "# data_tmp.head()\n",
    "del(data_tmp)\n",
    "del(data)"
   ],
   "metadata": {
    "collapsed": false
   }
  },
  {
   "cell_type": "markdown",
   "source": [
    "## 1.3 ReRead\n",
    "1. 重新读入数据，只包括需要的columns"
   ],
   "metadata": {
    "collapsed": false
   }
  },
  {
   "cell_type": "code",
   "execution_count": 11,
   "outputs": [
    {
     "data": {
      "text/plain": "   auctionid                                    item  pennyauction  \\\n0     144359  KOSMETIK BüRSTEN SET 6 TEILIG AUS HOLZ             0   \n1     154753  KOSMETIK BüRSTEN SET 6 TEILIG AUS HOLZ             0   \n2     147974  KOSMETIK BüRSTEN SET 6 TEILIG AUS HOLZ             0   \n3     150174  KOSMETIK BüRSTEN SET 6 TEILIG AUS HOLZ             0   \n4     144356  KOSMETIK BüRSTEN SET 6 TEILIG AUS HOLZ             0   \n\n   fixedprice            type currency  exchangerate  adjvalue  worthupto  \\\n0           0  Consumer Goods     Euro        1.2918  8.822994   9.029682   \n1           0  Consumer Goods     Euro        1.2774  8.929026   8.929026   \n2           0  Consumer Goods     Euro        1.3235  9.039505   9.251265   \n3           0  Consumer Goods     Euro        1.2944  8.840752   9.047855   \n4           0  Consumer Goods     Euro        1.2993  8.874219   9.082107   \n\n   endtimeperiod     k    y  \n0            2.0  0.15  0.1  \n1            1.0  0.15  0.1  \n2            2.0  0.15  0.1  \n3            1.0  0.15  0.1  \n4            1.0  0.15  0.1  ",
      "text/html": "<div>\n<style scoped>\n    .dataframe tbody tr th:only-of-type {\n        vertical-align: middle;\n    }\n\n    .dataframe tbody tr th {\n        vertical-align: top;\n    }\n\n    .dataframe thead th {\n        text-align: right;\n    }\n</style>\n<table border=\"1\" class=\"dataframe\">\n  <thead>\n    <tr style=\"text-align: right;\">\n      <th></th>\n      <th>auctionid</th>\n      <th>item</th>\n      <th>pennyauction</th>\n      <th>fixedprice</th>\n      <th>type</th>\n      <th>currency</th>\n      <th>exchangerate</th>\n      <th>adjvalue</th>\n      <th>worthupto</th>\n      <th>endtimeperiod</th>\n      <th>k</th>\n      <th>y</th>\n    </tr>\n  </thead>\n  <tbody>\n    <tr>\n      <th>0</th>\n      <td>144359</td>\n      <td>KOSMETIK BüRSTEN SET 6 TEILIG AUS HOLZ</td>\n      <td>0</td>\n      <td>0</td>\n      <td>Consumer Goods</td>\n      <td>Euro</td>\n      <td>1.2918</td>\n      <td>8.822994</td>\n      <td>9.029682</td>\n      <td>2.0</td>\n      <td>0.15</td>\n      <td>0.1</td>\n    </tr>\n    <tr>\n      <th>1</th>\n      <td>154753</td>\n      <td>KOSMETIK BüRSTEN SET 6 TEILIG AUS HOLZ</td>\n      <td>0</td>\n      <td>0</td>\n      <td>Consumer Goods</td>\n      <td>Euro</td>\n      <td>1.2774</td>\n      <td>8.929026</td>\n      <td>8.929026</td>\n      <td>1.0</td>\n      <td>0.15</td>\n      <td>0.1</td>\n    </tr>\n    <tr>\n      <th>2</th>\n      <td>147974</td>\n      <td>KOSMETIK BüRSTEN SET 6 TEILIG AUS HOLZ</td>\n      <td>0</td>\n      <td>0</td>\n      <td>Consumer Goods</td>\n      <td>Euro</td>\n      <td>1.3235</td>\n      <td>9.039505</td>\n      <td>9.251265</td>\n      <td>2.0</td>\n      <td>0.15</td>\n      <td>0.1</td>\n    </tr>\n    <tr>\n      <th>3</th>\n      <td>150174</td>\n      <td>KOSMETIK BüRSTEN SET 6 TEILIG AUS HOLZ</td>\n      <td>0</td>\n      <td>0</td>\n      <td>Consumer Goods</td>\n      <td>Euro</td>\n      <td>1.2944</td>\n      <td>8.840752</td>\n      <td>9.047855</td>\n      <td>1.0</td>\n      <td>0.15</td>\n      <td>0.1</td>\n    </tr>\n    <tr>\n      <th>4</th>\n      <td>144356</td>\n      <td>KOSMETIK BüRSTEN SET 6 TEILIG AUS HOLZ</td>\n      <td>0</td>\n      <td>0</td>\n      <td>Consumer Goods</td>\n      <td>Euro</td>\n      <td>1.2993</td>\n      <td>8.874219</td>\n      <td>9.082107</td>\n      <td>1.0</td>\n      <td>0.15</td>\n      <td>0.1</td>\n    </tr>\n  </tbody>\n</table>\n</div>"
     },
     "execution_count": 11,
     "metadata": {},
     "output_type": "execute_result"
    }
   ],
   "source": [
    "data = pd.read_csv(auctions_selected_path, encoding = 'utf-8')\n",
    "data.head()"
   ],
   "metadata": {
    "collapsed": false
   }
  },
  {
   "cell_type": "markdown",
   "source": [
    "# 2. 异常筛选\n",
    "## 2.1 drop data where ['bidfee'] >= ['retail']\n",
    "1. 异常数据，bid fee比retail都高。\n",
    "    - 有几十条\n",
    "2. 注意这里的retail的概念\n",
    "    - 有大概60%的商品可以在amazon上找到，对于这些商品，作者用amazon售价替换了PA网站的建议零售价，构成了*adjusted value*\n",
    "    - amazon的价格只有PA的79%\n",
    "    - 另一个数据集的retail的概念是PA网站提供的价格，虽然也提到了amazon售价是偏低的。"
   ],
   "metadata": {
    "collapsed": false
   }
  },
  {
   "cell_type": "code",
   "execution_count": 12,
   "outputs": [
    {
     "name": "stdout",
     "output_type": "stream",
     "text": [
      "Drop 掉了 *0* 行data，他们的bidfee >= retail\n"
     ]
    }
   ],
   "source": [
    "# common_auction.shape\n",
    "# idx_drop = common_auction[(common_auction['k'])>=common_auction['adjvalue']].index\n",
    "idx_drop = data[(data['k'])>=data['worthupto']].index\n",
    "data.drop(idx_drop,axis = 0,inplace=True)\n",
    "print(\"Drop 掉了 *{}* 行data，他们的bidfee >= retail\".format(len(idx_drop)))"
   ],
   "metadata": {
    "collapsed": false
   }
  },
  {
   "cell_type": "markdown",
   "source": [
    "## 2.2 desc的问题\n",
    "- 有无空值: 无\n"
   ],
   "metadata": {
    "collapsed": false
   }
  },
  {
   "cell_type": "code",
   "execution_count": 13,
   "outputs": [],
   "source": [
    "# data_desc = data.item.unique()\n",
    "# pd.DataFrame(data_desc).to_csv(r'E:\\DATA\\large_dta\\desc.csv', encoding = 'utf-8',index=False)"
   ],
   "metadata": {
    "collapsed": false
   }
  },
  {
   "cell_type": "markdown",
   "source": [
    "# 3. 基本规则筛选\n",
    "## 3.1 only keep pennyauction\n",
    "- 'pennyauction'这一列是boolean value:\n",
    "    - 注意pennyauction远远少于非pennyauction\n",
    "- 'pennyauction'和'fixedprice'有可能同时为1吗:\n",
    "    - 有的，26行，\n",
    "    - 这些行应该去掉吗: 去掉，只保留typical pennyauction"
   ],
   "metadata": {
    "collapsed": false
   }
  },
  {
   "cell_type": "code",
   "execution_count": 14,
   "outputs": [
    {
     "name": "stdout",
     "output_type": "stream",
     "text": [
      "去掉了*155696*个data records, 它们不是penny auction\n",
      "现在剩 *10683* 场auction\n"
     ]
    }
   ],
   "source": [
    "tmp1 = data.loc[data['pennyauction']==1]\n",
    "tmp2 = tmp1.loc[tmp1['fixedprice']==0]\n",
    "auction_id_1 = tmp2.auctionid\n",
    "# auction_id_1.shape\n",
    "print(f\"去掉了*{data.shape[0]-auction_id_1.shape[0]}*个data records, 它们不是penny auction\")\n",
    "print(f\"现在剩 *{auction_id_1.shape[0]}* 场auction\")"
   ],
   "metadata": {
    "collapsed": false
   }
  },
  {
   "cell_type": "markdown",
   "source": [
    "## 3.2 k==0(bid inc=0)的data不需要"
   ],
   "metadata": {
    "collapsed": false
   }
  },
  {
   "cell_type": "code",
   "execution_count": 15,
   "outputs": [
    {
     "name": "stdout",
     "output_type": "stream",
     "text": [
      "去掉了*7*个data records, 它们的bid inc=0\n",
      "现在剩 *10676* 场auction\n"
     ]
    }
   ],
   "source": [
    "data_common = pd.merge(auction_id_1,data,on=\"auctionid\",how=\"left\")\n",
    "data_common_k = data_common[data_common.k != 0]\n",
    "auction_id_2 = data_common_k.auctionid\n",
    "print(f\"去掉了*{auction_id_1.shape[0]-auction_id_2.shape[0]}*个data records, 它们的bid inc=0\")\n",
    "print(f\"现在剩 *{auction_id_2.shape[0]}* 场auction\")"
   ],
   "metadata": {
    "collapsed": false
   }
  },
  {
   "cell_type": "code",
   "execution_count": 16,
   "outputs": [],
   "source": [
    "auction_id_2.to_csv(PA_auction_id_path,encoding=\"utf-8\",index = False)"
   ],
   "metadata": {
    "collapsed": false
   }
  },
  {
   "cell_type": "markdown",
   "source": [
    "## 3.3 对于'item'相同的，对'worthupto'进行统一\n",
    "1. 一样的商品应该具有一样的价格: 取avg"
   ],
   "metadata": {
    "collapsed": false
   }
  },
  {
   "cell_type": "code",
   "execution_count": 40,
   "outputs": [],
   "source": [
    "data_common = pd.merge(auction_id_2,data,on=\"auctionid\",how=\"left\")\n",
    "items = data_common.item.unique()"
   ],
   "metadata": {
    "collapsed": false
   }
  },
  {
   "cell_type": "code",
   "execution_count": 53,
   "outputs": [
    {
     "data": {
      "text/plain": "    auctionid                                    item  pennyauction  \\\n0      138823  KOSMETIK BüRSTEN SET 6 TEILIG AUS HOLZ             1   \n1      175928                       20 BIDS GUTSCHEIN             1   \n2      176047                       20 BIDS GUTSCHEIN             1   \n3      176073                       20 BIDS GUTSCHEIN             1   \n4      176010                       20 BIDS GUTSCHEIN             1   \n5      175995                       20 BIDS GUTSCHEIN             1   \n6      175925                       20 BIDS GUTSCHEIN             1   \n7      180618                       20 BIDS GUTSCHEIN             1   \n8      176043                       20 BIDS GUTSCHEIN             1   \n9      176006                       20 BIDS GUTSCHEIN             1   \n10     175970                       20 BIDS GUTSCHEIN             1   \n11     180627                       20 BIDS GUTSCHEIN             1   \n12     178447                       20 BIDS GUTSCHEIN             1   \n13     180581                       20 BIDS GUTSCHEIN             1   \n14     180598                       20 BIDS GUTSCHEIN             1   \n15     175938                       20 BIDS GUTSCHEIN             1   \n16     176082                       20 BIDS GUTSCHEIN             1   \n17     175930                       20 BIDS GUTSCHEIN             1   \n18     180660                       20 BIDS GUTSCHEIN             1   \n19     176059                       20 BIDS GUTSCHEIN             1   \n\n    fixedprice            type currency  exchangerate   adjvalue  \\\n0            0  Consumer Goods     Euro        1.3978   9.546973   \n1            0  Consumer Goods     Euro        1.3500  13.500000   \n2            0  Consumer Goods     Euro        1.3448  13.448000   \n3            0  Consumer Goods     Euro        1.3305  13.305000   \n4            0  Consumer Goods     Euro        1.3640  13.639999   \n5            0  Consumer Goods     Euro        1.3616  13.616000   \n6            0  Consumer Goods     Euro        1.3500  13.500000   \n7            0  Consumer Goods     Euro        1.3963  13.962999   \n8            0  Consumer Goods     Euro        1.3448  13.448000   \n9            0  Consumer Goods     Euro        1.3640  13.639999   \n10           0  Consumer Goods     Euro        1.3649  13.649000   \n11           0  Consumer Goods     Euro        1.3949  13.948999   \n12           0  Consumer Goods     Euro        1.4003  14.003000   \n13           0  Consumer Goods     Euro        1.4004  14.004001   \n14           0  Consumer Goods     Euro        1.4004  14.004001   \n15           0  Consumer Goods     Euro        1.3581  13.581000   \n16           0  Consumer Goods     Euro        1.3379  13.379001   \n17           0  Consumer Goods     Euro        1.3581  13.581000   \n18           0  Consumer Goods     Euro        1.4045  14.045000   \n19           0  Consumer Goods     Euro        1.3348  13.348000   \n\n    endtimeperiod     k     y  retail  \n0            10.0  0.01  0.01    10.0  \n1            18.0  0.01  0.01    14.0  \n2            18.0  0.01  0.01    14.0  \n3            15.0  0.01  0.01    14.0  \n4            32.0  0.01  0.01    14.0  \n5            16.0  0.01  0.01    14.0  \n6             5.0  0.01  0.01    14.0  \n7           118.0  0.01  0.01    14.0  \n8             6.0  0.01  0.01    14.0  \n9            42.0  0.01  0.01    14.0  \n10           29.0  0.01  0.01    14.0  \n11           29.0  0.01  0.01    14.0  \n12           30.0  0.01  0.01    14.0  \n13           11.0  0.01  0.01    14.0  \n14           23.0  0.01  0.01    14.0  \n15           30.0  0.01  0.01    14.0  \n16           92.0  0.01  0.01    14.0  \n17           23.0  0.01  0.01    14.0  \n18           11.0  0.01  0.01    14.0  \n19           22.0  0.01  0.01    14.0  ",
      "text/html": "<div>\n<style scoped>\n    .dataframe tbody tr th:only-of-type {\n        vertical-align: middle;\n    }\n\n    .dataframe tbody tr th {\n        vertical-align: top;\n    }\n\n    .dataframe thead th {\n        text-align: right;\n    }\n</style>\n<table border=\"1\" class=\"dataframe\">\n  <thead>\n    <tr style=\"text-align: right;\">\n      <th></th>\n      <th>auctionid</th>\n      <th>item</th>\n      <th>pennyauction</th>\n      <th>fixedprice</th>\n      <th>type</th>\n      <th>currency</th>\n      <th>exchangerate</th>\n      <th>adjvalue</th>\n      <th>endtimeperiod</th>\n      <th>k</th>\n      <th>y</th>\n      <th>retail</th>\n    </tr>\n  </thead>\n  <tbody>\n    <tr>\n      <th>0</th>\n      <td>138823</td>\n      <td>KOSMETIK BüRSTEN SET 6 TEILIG AUS HOLZ</td>\n      <td>1</td>\n      <td>0</td>\n      <td>Consumer Goods</td>\n      <td>Euro</td>\n      <td>1.3978</td>\n      <td>9.546973</td>\n      <td>10.0</td>\n      <td>0.01</td>\n      <td>0.01</td>\n      <td>10.0</td>\n    </tr>\n    <tr>\n      <th>1</th>\n      <td>175928</td>\n      <td>20 BIDS GUTSCHEIN</td>\n      <td>1</td>\n      <td>0</td>\n      <td>Consumer Goods</td>\n      <td>Euro</td>\n      <td>1.3500</td>\n      <td>13.500000</td>\n      <td>18.0</td>\n      <td>0.01</td>\n      <td>0.01</td>\n      <td>14.0</td>\n    </tr>\n    <tr>\n      <th>2</th>\n      <td>176047</td>\n      <td>20 BIDS GUTSCHEIN</td>\n      <td>1</td>\n      <td>0</td>\n      <td>Consumer Goods</td>\n      <td>Euro</td>\n      <td>1.3448</td>\n      <td>13.448000</td>\n      <td>18.0</td>\n      <td>0.01</td>\n      <td>0.01</td>\n      <td>14.0</td>\n    </tr>\n    <tr>\n      <th>3</th>\n      <td>176073</td>\n      <td>20 BIDS GUTSCHEIN</td>\n      <td>1</td>\n      <td>0</td>\n      <td>Consumer Goods</td>\n      <td>Euro</td>\n      <td>1.3305</td>\n      <td>13.305000</td>\n      <td>15.0</td>\n      <td>0.01</td>\n      <td>0.01</td>\n      <td>14.0</td>\n    </tr>\n    <tr>\n      <th>4</th>\n      <td>176010</td>\n      <td>20 BIDS GUTSCHEIN</td>\n      <td>1</td>\n      <td>0</td>\n      <td>Consumer Goods</td>\n      <td>Euro</td>\n      <td>1.3640</td>\n      <td>13.639999</td>\n      <td>32.0</td>\n      <td>0.01</td>\n      <td>0.01</td>\n      <td>14.0</td>\n    </tr>\n    <tr>\n      <th>5</th>\n      <td>175995</td>\n      <td>20 BIDS GUTSCHEIN</td>\n      <td>1</td>\n      <td>0</td>\n      <td>Consumer Goods</td>\n      <td>Euro</td>\n      <td>1.3616</td>\n      <td>13.616000</td>\n      <td>16.0</td>\n      <td>0.01</td>\n      <td>0.01</td>\n      <td>14.0</td>\n    </tr>\n    <tr>\n      <th>6</th>\n      <td>175925</td>\n      <td>20 BIDS GUTSCHEIN</td>\n      <td>1</td>\n      <td>0</td>\n      <td>Consumer Goods</td>\n      <td>Euro</td>\n      <td>1.3500</td>\n      <td>13.500000</td>\n      <td>5.0</td>\n      <td>0.01</td>\n      <td>0.01</td>\n      <td>14.0</td>\n    </tr>\n    <tr>\n      <th>7</th>\n      <td>180618</td>\n      <td>20 BIDS GUTSCHEIN</td>\n      <td>1</td>\n      <td>0</td>\n      <td>Consumer Goods</td>\n      <td>Euro</td>\n      <td>1.3963</td>\n      <td>13.962999</td>\n      <td>118.0</td>\n      <td>0.01</td>\n      <td>0.01</td>\n      <td>14.0</td>\n    </tr>\n    <tr>\n      <th>8</th>\n      <td>176043</td>\n      <td>20 BIDS GUTSCHEIN</td>\n      <td>1</td>\n      <td>0</td>\n      <td>Consumer Goods</td>\n      <td>Euro</td>\n      <td>1.3448</td>\n      <td>13.448000</td>\n      <td>6.0</td>\n      <td>0.01</td>\n      <td>0.01</td>\n      <td>14.0</td>\n    </tr>\n    <tr>\n      <th>9</th>\n      <td>176006</td>\n      <td>20 BIDS GUTSCHEIN</td>\n      <td>1</td>\n      <td>0</td>\n      <td>Consumer Goods</td>\n      <td>Euro</td>\n      <td>1.3640</td>\n      <td>13.639999</td>\n      <td>42.0</td>\n      <td>0.01</td>\n      <td>0.01</td>\n      <td>14.0</td>\n    </tr>\n    <tr>\n      <th>10</th>\n      <td>175970</td>\n      <td>20 BIDS GUTSCHEIN</td>\n      <td>1</td>\n      <td>0</td>\n      <td>Consumer Goods</td>\n      <td>Euro</td>\n      <td>1.3649</td>\n      <td>13.649000</td>\n      <td>29.0</td>\n      <td>0.01</td>\n      <td>0.01</td>\n      <td>14.0</td>\n    </tr>\n    <tr>\n      <th>11</th>\n      <td>180627</td>\n      <td>20 BIDS GUTSCHEIN</td>\n      <td>1</td>\n      <td>0</td>\n      <td>Consumer Goods</td>\n      <td>Euro</td>\n      <td>1.3949</td>\n      <td>13.948999</td>\n      <td>29.0</td>\n      <td>0.01</td>\n      <td>0.01</td>\n      <td>14.0</td>\n    </tr>\n    <tr>\n      <th>12</th>\n      <td>178447</td>\n      <td>20 BIDS GUTSCHEIN</td>\n      <td>1</td>\n      <td>0</td>\n      <td>Consumer Goods</td>\n      <td>Euro</td>\n      <td>1.4003</td>\n      <td>14.003000</td>\n      <td>30.0</td>\n      <td>0.01</td>\n      <td>0.01</td>\n      <td>14.0</td>\n    </tr>\n    <tr>\n      <th>13</th>\n      <td>180581</td>\n      <td>20 BIDS GUTSCHEIN</td>\n      <td>1</td>\n      <td>0</td>\n      <td>Consumer Goods</td>\n      <td>Euro</td>\n      <td>1.4004</td>\n      <td>14.004001</td>\n      <td>11.0</td>\n      <td>0.01</td>\n      <td>0.01</td>\n      <td>14.0</td>\n    </tr>\n    <tr>\n      <th>14</th>\n      <td>180598</td>\n      <td>20 BIDS GUTSCHEIN</td>\n      <td>1</td>\n      <td>0</td>\n      <td>Consumer Goods</td>\n      <td>Euro</td>\n      <td>1.4004</td>\n      <td>14.004001</td>\n      <td>23.0</td>\n      <td>0.01</td>\n      <td>0.01</td>\n      <td>14.0</td>\n    </tr>\n    <tr>\n      <th>15</th>\n      <td>175938</td>\n      <td>20 BIDS GUTSCHEIN</td>\n      <td>1</td>\n      <td>0</td>\n      <td>Consumer Goods</td>\n      <td>Euro</td>\n      <td>1.3581</td>\n      <td>13.581000</td>\n      <td>30.0</td>\n      <td>0.01</td>\n      <td>0.01</td>\n      <td>14.0</td>\n    </tr>\n    <tr>\n      <th>16</th>\n      <td>176082</td>\n      <td>20 BIDS GUTSCHEIN</td>\n      <td>1</td>\n      <td>0</td>\n      <td>Consumer Goods</td>\n      <td>Euro</td>\n      <td>1.3379</td>\n      <td>13.379001</td>\n      <td>92.0</td>\n      <td>0.01</td>\n      <td>0.01</td>\n      <td>14.0</td>\n    </tr>\n    <tr>\n      <th>17</th>\n      <td>175930</td>\n      <td>20 BIDS GUTSCHEIN</td>\n      <td>1</td>\n      <td>0</td>\n      <td>Consumer Goods</td>\n      <td>Euro</td>\n      <td>1.3581</td>\n      <td>13.581000</td>\n      <td>23.0</td>\n      <td>0.01</td>\n      <td>0.01</td>\n      <td>14.0</td>\n    </tr>\n    <tr>\n      <th>18</th>\n      <td>180660</td>\n      <td>20 BIDS GUTSCHEIN</td>\n      <td>1</td>\n      <td>0</td>\n      <td>Consumer Goods</td>\n      <td>Euro</td>\n      <td>1.4045</td>\n      <td>14.045000</td>\n      <td>11.0</td>\n      <td>0.01</td>\n      <td>0.01</td>\n      <td>14.0</td>\n    </tr>\n    <tr>\n      <th>19</th>\n      <td>176059</td>\n      <td>20 BIDS GUTSCHEIN</td>\n      <td>1</td>\n      <td>0</td>\n      <td>Consumer Goods</td>\n      <td>Euro</td>\n      <td>1.3348</td>\n      <td>13.348000</td>\n      <td>22.0</td>\n      <td>0.01</td>\n      <td>0.01</td>\n      <td>14.0</td>\n    </tr>\n  </tbody>\n</table>\n</div>"
     },
     "execution_count": 53,
     "metadata": {},
     "output_type": "execute_result"
    }
   ],
   "source": [
    "data_common_grouped = data_common.groupby(by=['item'],as_index=False)\n",
    "item_retail = pd.DataFrame(data_common_grouped.worthupto.mean())\n",
    "item_retail.rename(columns={\"worthupto\":\"retail\"},inplace=True)\n",
    "item_retail['retail'] = np.rint(item_retail.retail)   # 四舍五入\n",
    "\n",
    "data_new_retail = pd.merge(data_common,item_retail,on=['item'],how=\"left\")\n",
    "data_new_retail.drop(columns=['worthupto'],inplace=True)\n",
    "data_new_retail.head(10)\n"
   ],
   "metadata": {
    "collapsed": false
   }
  },
  {
   "cell_type": "markdown",
   "source": [
    "## 3.4 翻译item"
   ],
   "metadata": {
    "collapsed": false
   }
  },
  {
   "cell_type": "code",
   "execution_count": 62,
   "outputs": [
    {
     "name": "stdout",
     "output_type": "stream",
     "text": [
      "一共有auction记录 *10676* 条，一共有 *758 条item*\n"
     ]
    },
    {
     "data": {
      "text/plain": "                                     item item_en\n0  KOSMETIK BüRSTEN SET 6 TEILIG AUS HOLZ        \n1                       20 BIDS GUTSCHEIN        \n2                         20 BIDS VOUCHER        \n3                       50 BIDS GUTSCHEIN        \n4                  50 FREEBIDS-GUTSCHEIN!        ",
      "text/html": "<div>\n<style scoped>\n    .dataframe tbody tr th:only-of-type {\n        vertical-align: middle;\n    }\n\n    .dataframe tbody tr th {\n        vertical-align: top;\n    }\n\n    .dataframe thead th {\n        text-align: right;\n    }\n</style>\n<table border=\"1\" class=\"dataframe\">\n  <thead>\n    <tr style=\"text-align: right;\">\n      <th></th>\n      <th>item</th>\n      <th>item_en</th>\n    </tr>\n  </thead>\n  <tbody>\n    <tr>\n      <th>0</th>\n      <td>KOSMETIK BüRSTEN SET 6 TEILIG AUS HOLZ</td>\n      <td></td>\n    </tr>\n    <tr>\n      <th>1</th>\n      <td>20 BIDS GUTSCHEIN</td>\n      <td></td>\n    </tr>\n    <tr>\n      <th>2</th>\n      <td>20 BIDS VOUCHER</td>\n      <td></td>\n    </tr>\n    <tr>\n      <th>3</th>\n      <td>50 BIDS GUTSCHEIN</td>\n      <td></td>\n    </tr>\n    <tr>\n      <th>4</th>\n      <td>50 FREEBIDS-GUTSCHEIN!</td>\n      <td></td>\n    </tr>\n  </tbody>\n</table>\n</div>"
     },
     "execution_count": 62,
     "metadata": {},
     "output_type": "execute_result"
    }
   ],
   "source": [
    "data = pd.read_csv(auctions_cleaned_path,encoding=\"utf-8\")\n",
    "item = pd.DataFrame(data.item.unique())\n",
    "print(f\"一共有auction记录 *{data.shape[0]}* 条，一共有 *{item.shape[0]} 条item*\")\n",
    "item.insert(1,\"item_en\",\"\")\n",
    "item.rename(columns={0:\"item\"},inplace=True)\n",
    "item.head()\n",
    "# for i in range()"
   ],
   "metadata": {
    "collapsed": false
   }
  },
  {
   "cell_type": "code",
   "execution_count": null,
   "outputs": [],
   "source": [
    "import translators as ts\n",
    "from_language, to_language = 'de', 'en'\n",
    "for i in tqdm(range(item.shape[0])):\n",
    "    text_de = item.iloc[i,0]\n",
    "    text_en = ts.translate_text(text_de, from_language = from_language, to_language = to_language,if_ignore_empty_query=False, if_ignore_limit_of_length=False, limit_of_length=5000)\n",
    "    item.iloc[i,1] = text_en\n",
    "\n",
    "print(\"Done\")"
   ],
   "metadata": {
    "collapsed": false
   }
  },
  {
   "cell_type": "code",
   "execution_count": 83,
   "outputs": [
    {
     "name": "stdout",
     "output_type": "stream",
     "text": [
      "在翻译之前，有 *758* 个items，翻译后有 *755* 个items\n"
     ]
    },
    {
     "data": {
      "text/plain": "   auctionid  pennyauction  fixedprice            type currency  exchangerate  \\\n0     138823             1           0  Consumer Goods     Euro        1.3978   \n1     175928             1           0  Consumer Goods     Euro        1.3500   \n2     176047             1           0  Consumer Goods     Euro        1.3448   \n3     176073             1           0  Consumer Goods     Euro        1.3305   \n4     176010             1           0  Consumer Goods     Euro        1.3640   \n\n    adjvalue  endtimeperiod     k     y  retail  \\\n0   9.546973           10.0  0.01  0.01    10.0   \n1  13.500000           18.0  0.01  0.01    14.0   \n2  13.448000           18.0  0.01  0.01    14.0   \n3  13.305000           15.0  0.01  0.01    14.0   \n4  13.639999           32.0  0.01  0.01    14.0   \n\n                                        item  \n0  COSMETICS Brush SET 6 PIECES MADE OF WOOD  \n1                            20 BIDS VOUCHER  \n2                            20 BIDS VOUCHER  \n3                            20 BIDS VOUCHER  \n4                            20 BIDS VOUCHER  ",
      "text/html": "<div>\n<style scoped>\n    .dataframe tbody tr th:only-of-type {\n        vertical-align: middle;\n    }\n\n    .dataframe tbody tr th {\n        vertical-align: top;\n    }\n\n    .dataframe thead th {\n        text-align: right;\n    }\n</style>\n<table border=\"1\" class=\"dataframe\">\n  <thead>\n    <tr style=\"text-align: right;\">\n      <th></th>\n      <th>auctionid</th>\n      <th>pennyauction</th>\n      <th>fixedprice</th>\n      <th>type</th>\n      <th>currency</th>\n      <th>exchangerate</th>\n      <th>adjvalue</th>\n      <th>endtimeperiod</th>\n      <th>k</th>\n      <th>y</th>\n      <th>retail</th>\n      <th>item</th>\n    </tr>\n  </thead>\n  <tbody>\n    <tr>\n      <th>0</th>\n      <td>138823</td>\n      <td>1</td>\n      <td>0</td>\n      <td>Consumer Goods</td>\n      <td>Euro</td>\n      <td>1.3978</td>\n      <td>9.546973</td>\n      <td>10.0</td>\n      <td>0.01</td>\n      <td>0.01</td>\n      <td>10.0</td>\n      <td>COSMETICS Brush SET 6 PIECES MADE OF WOOD</td>\n    </tr>\n    <tr>\n      <th>1</th>\n      <td>175928</td>\n      <td>1</td>\n      <td>0</td>\n      <td>Consumer Goods</td>\n      <td>Euro</td>\n      <td>1.3500</td>\n      <td>13.500000</td>\n      <td>18.0</td>\n      <td>0.01</td>\n      <td>0.01</td>\n      <td>14.0</td>\n      <td>20 BIDS VOUCHER</td>\n    </tr>\n    <tr>\n      <th>2</th>\n      <td>176047</td>\n      <td>1</td>\n      <td>0</td>\n      <td>Consumer Goods</td>\n      <td>Euro</td>\n      <td>1.3448</td>\n      <td>13.448000</td>\n      <td>18.0</td>\n      <td>0.01</td>\n      <td>0.01</td>\n      <td>14.0</td>\n      <td>20 BIDS VOUCHER</td>\n    </tr>\n    <tr>\n      <th>3</th>\n      <td>176073</td>\n      <td>1</td>\n      <td>0</td>\n      <td>Consumer Goods</td>\n      <td>Euro</td>\n      <td>1.3305</td>\n      <td>13.305000</td>\n      <td>15.0</td>\n      <td>0.01</td>\n      <td>0.01</td>\n      <td>14.0</td>\n      <td>20 BIDS VOUCHER</td>\n    </tr>\n    <tr>\n      <th>4</th>\n      <td>176010</td>\n      <td>1</td>\n      <td>0</td>\n      <td>Consumer Goods</td>\n      <td>Euro</td>\n      <td>1.3640</td>\n      <td>13.639999</td>\n      <td>32.0</td>\n      <td>0.01</td>\n      <td>0.01</td>\n      <td>14.0</td>\n      <td>20 BIDS VOUCHER</td>\n    </tr>\n  </tbody>\n</table>\n</div>"
     },
     "execution_count": 83,
     "metadata": {},
     "output_type": "execute_result"
    }
   ],
   "source": [
    "item=pd.read_csv(r'E:\\DATA\\large_dta\\items.csv')\n",
    "print(f\"在翻译之前，有 *{item.shape[0]}* 个items，翻译后有 *{len(item.item_en.unique())}* 个items\")\n",
    "# 手动纠正了两个翻译\n",
    "data_en = pd.merge(data_new_retail,item,on=\"item\",how=\"left\")\n",
    "data_en.drop(columns=['item'],inplace=True)\n",
    "data_en.rename(columns={\"item_en\":\"item\"},inplace=True)\n",
    "data_en.head()"
   ],
   "metadata": {
    "collapsed": false
   }
  },
  {
   "cell_type": "markdown",
   "source": [
    "## 3.5 endtimeperiod一定是整数"
   ],
   "metadata": {
    "collapsed": false
   }
  },
  {
   "cell_type": "code",
   "execution_count": 84,
   "outputs": [],
   "source": [
    "data_en['endtimeperiod'] = np.rint(data_en.endtimeperiod)   # 四舍五入"
   ],
   "metadata": {
    "collapsed": false
   }
  },
  {
   "cell_type": "markdown",
   "source": [
    "## 3.6 Save data\n"
   ],
   "metadata": {
    "collapsed": false
   }
  },
  {
   "cell_type": "code",
   "execution_count": 85,
   "outputs": [],
   "source": [
    "data_en.to_csv(auctions_cleaned_path,encoding=\"utf-8\",index=False,header=True)"
   ],
   "metadata": {
    "collapsed": false
   }
  },
  {
   "cell_type": "markdown",
   "source": [
    "# 4. 保存settings\n",
    "## 4.1 对于GT: setting = ['k','y','worthupto']\n",
    "1. data_key_GT = ['k','y','worthupto']，只需要这3个attrb.就可以计算GT的output，不在乎item是什么"
   ],
   "metadata": {
    "collapsed": false
   }
  },
  {
   "cell_type": "code",
   "execution_count": 86,
   "outputs": [],
   "source": [
    "auction_id = pd.read_csv(PA_auction_id_path,encoding=\"utf-8\")   # 规则上合理的auction_id\n",
    "data = pd.read_csv(auctions_cleaned_path,encoding=\"utf-8\")\n",
    "assert data.shape[0] == auction_id.shape[0],\"wrong!\""
   ],
   "metadata": {
    "collapsed": false
   }
  },
  {
   "cell_type": "code",
   "execution_count": 87,
   "outputs": [
    {
     "name": "stdout",
     "output_type": "stream",
     "text": [
      "当setting = ['k', 'y', 'retail']\n",
      "一共有 *618*场不同的auction\n"
     ]
    }
   ],
   "source": [
    "unique_setting_GT = ['k','y','retail']\n",
    "# data_new = pd.merge(auction_id,data,on=\"auctionid\",how=\"left\")\n",
    "\n",
    "data_auction_GT = data[unique_setting_GT].copy()\n",
    "settings_GT = data_auction_GT.drop_duplicates(ignore_index=True)\n",
    "settings_GT.to_csv(settings_GT_path,encoding=\"utf-8\",index=False,header=True)\n",
    "\n",
    "print(f\"当setting = {unique_setting_GT}\")\n",
    "print(f\"一共有 *{settings_GT.shape[0]}*场不同的auction\")"
   ],
   "metadata": {
    "collapsed": false
   }
  },
  {
   "cell_type": "markdown",
   "source": [
    "## 4.2 对于NN/ training/ target: ['item',k','y','worthupto']\n",
    "1. 说明还是存在一个item对应多个auction records"
   ],
   "metadata": {
    "collapsed": false
   }
  },
  {
   "cell_type": "code",
   "execution_count": 88,
   "outputs": [
    {
     "name": "stdout",
     "output_type": "stream",
     "text": [
      "当setting = ['item', 'k', 'y', 'retail']\n",
      "一共有 *758*场不同的auction\n"
     ]
    }
   ],
   "source": [
    "\n",
    "unique_setting_NN = ['item','k','y','retail']\n",
    "# data_new = pd.merge(auction_id,data,on=\"auctionid\",how=\"left\")\n",
    "# 把'k'转化成dollar instead of cent\n",
    "# data_new.k = data_new.k*0.01\n",
    "\n",
    "data_auction_NN = data[unique_setting_NN].copy()\n",
    "settings_NN = data_auction_NN.drop_duplicates(ignore_index=True)\n",
    "settings_NN.to_csv(settings_NN_path,encoding=\"utf-8\",index=False,header=True)\n",
    "\n",
    "print(f\"当setting = {unique_setting_NN}\")\n",
    "print(f\"一共有 *{settings_NN.shape[0]}*场不同的auction\")"
   ],
   "metadata": {
    "collapsed": false
   }
  },
  {
   "cell_type": "code",
   "execution_count": null,
   "outputs": [],
   "source": [],
   "metadata": {
    "collapsed": false
   }
  }
 ],
 "metadata": {
  "kernelspec": {
   "display_name": "Python 3",
   "language": "python",
   "name": "python3"
  },
  "language_info": {
   "codemirror_mode": {
    "name": "ipython",
    "version": 2
   },
   "file_extension": ".py",
   "mimetype": "text/x-python",
   "name": "python",
   "nbconvert_exporter": "python",
   "pygments_lexer": "ipython2",
   "version": "2.7.6"
  }
 },
 "nbformat": 4,
 "nbformat_minor": 0
}
