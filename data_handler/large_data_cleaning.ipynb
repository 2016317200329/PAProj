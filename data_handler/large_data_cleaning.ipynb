{
 "cells": [
  {
   "cell_type": "markdown",
   "source": [
    "# 0. what for\n",
    "1. 对大数据集进行清洗\n",
    "# 1. Preparations\n",
    "## 1.1 全局设置"
   ],
   "metadata": {
    "collapsed": false
   }
  },
  {
   "cell_type": "code",
   "execution_count": 56,
   "outputs": [],
   "source": [
    "#导入pandas包\n",
    "import pandas as pd\n",
    "import numpy as np\n",
    "from tqdm import tqdm\n",
    "\n",
    "auctions_selected_path = r'E:\\DATA\\large_dta\\auctions_tmp.csv'      # 暂存data，只包含了必要的cols\n",
    "\n",
    "# output\n",
    "item_trans = r'E:\\DATA\\large_dta\\items.csv'\n",
    "auctions_cleaned_path = r'E:\\DATA\\large_dta\\auctions_cleaned.csv'   # retail修正的data\n"
   ],
   "metadata": {
    "collapsed": false
   }
  },
  {
   "cell_type": "markdown",
   "source": [
    "- read in"
   ],
   "metadata": {
    "collapsed": false
   }
  },
  {
   "cell_type": "markdown",
   "source": [
    "## 1.2 可以用的columns重新save data\n",
    "1. 'k','y'分别表示bid inc和bid fee\n",
    "2. adjvalue是amazon价格，worthupto是PA网站给出的零售价，\n",
    "    - 这篇paper里用作\n",
    "3. data中的columns包括:`['Unnamed: 0', 'auctionid', 'endtime', 'item', 'worthupto', 'adjvalue',\n",
    "        'endbidlevel', 'endbidlevel_norm', 'endtimeperiod', 'shipping_swp',\n",
    "        'shipping_am', 'beginnerauction', 'nailbiter', 'percentoff',\n",
    "        'fixedprice', 'pennyauction', 'username', 'profit', 'profitperc',\n",
    "        'at_only', 'us_only', 'amazon_match', 'type', 'worthupto_de',\n",
    "        'currency', 'worthupto_com', 'exchangerate', 'cash', 'freebids',\n",
    "        'consumer', 'y', 'k']`\n",
    "4. data_2中的columns包括：`['Unnamed: 0', 'auctionid', 'item', 'adjvalue', 'nailbiter', 'type', 'k',\n",
    "       'time', 'netvalue', 'adjvalue_ln', 'netvalue_ln', 'sunkcosts_agg',\n",
    "       'sunkcosts_agg_ln', 'end', 'hour', 'week', 'day', 'dayofweek',\n",
    "       'valuebin']`\n",
    "5. 新保存的data后缀为`selected`，**实际上我们只需要data这一个auction-level的table就够了**"
   ],
   "metadata": {
    "collapsed": false
   }
  },
  {
   "cell_type": "code",
   "execution_count": 92,
   "outputs": [
    {
     "name": "stdout",
     "output_type": "stream",
     "text": [
      "\n",
      "\n",
      "转换成功...\n"
     ]
    }
   ],
   "source": [
    "\n",
    "# name=pd.read_stata(r'E:\\DATA\\large_dta\\auctions.dta')\n",
    "# name.to_csv(r'E:\\DATA\\large_dta\\auctions.csv', encoding=\"utf-8\",header=True,index = False)\n",
    "# print('\\n')\n",
    "# print('转换成功...')\n"
   ],
   "metadata": {
    "collapsed": false
   }
  },
  {
   "cell_type": "markdown",
   "source": [
    "- 保留必要的columns"
   ],
   "metadata": {
    "collapsed": false
   }
  },
  {
   "cell_type": "code",
   "execution_count": 11,
   "outputs": [],
   "source": [
    "col_keep = ['auctionid',\n",
    "    'item',\n",
    "    'pennyauction','fixedprice','type',\n",
    "    'currency','exchangerate',\n",
    "    'adjvalue','worthupto',\n",
    "    'endtimeperiod','k','y']\n",
    "\n",
    "data = pd.read_csv(r'E:\\DATA\\large_dta\\auctions.csv')\n",
    "data_tmp = data[col_keep].copy()"
   ],
   "metadata": {
    "collapsed": false
   }
  },
  {
   "cell_type": "markdown",
   "source": [
    "- 统一列名"
   ],
   "metadata": {
    "collapsed": false
   }
  },
  {
   "cell_type": "code",
   "execution_count": 12,
   "outputs": [
    {
     "data": {
      "text/plain": "Index(['auction_id', 'desc', 'pennyauction', 'flg_fixedprice', 'type',\n       'currency', 'exchangerate', 'adjvalue', 'retail', 'endtimeperiod',\n       'bidincrement', 'bidfee'],\n      dtype='object')"
     },
     "execution_count": 12,
     "metadata": {},
     "output_type": "execute_result"
    }
   ],
   "source": [
    "data_tmp.rename(columns={'k':'bidincrement',\n",
    "                    'y':\"bidfee\",\n",
    "                    'item':'desc',\n",
    "                    'auctionid': 'auction_id',\n",
    "                    'fixedprice':'flg_fixedprice',\n",
    "                    'worthupto':'retail',\n",
    "                    },inplace=True)\n",
    "data_tmp.columns"
   ],
   "metadata": {
    "collapsed": false
   }
  },
  {
   "cell_type": "markdown",
   "source": [
    "- 转换单位"
   ],
   "metadata": {
    "collapsed": false
   }
  },
  {
   "cell_type": "code",
   "execution_count": 13,
   "outputs": [],
   "source": [
    "\n",
    "data_tmp['bidincrement'] = data_tmp.bidincrement*0.01\n",
    "data_tmp.to_csv(auctions_selected_path, encoding = 'utf-8', index=False, header=True)\n",
    "# data_tmp.head()\n",
    "del(data_tmp)\n",
    "del(data)"
   ],
   "metadata": {
    "collapsed": false
   }
  },
  {
   "cell_type": "markdown",
   "source": [
    "## 1.3 ReRead\n",
    "1. 重新读入数据，只包括需要的columns"
   ],
   "metadata": {
    "collapsed": false
   }
  },
  {
   "cell_type": "code",
   "execution_count": 42,
   "outputs": [
    {
     "data": {
      "text/plain": "   auction_id                                    desc  pennyauction  \\\n0      144359  KOSMETIK BüRSTEN SET 6 TEILIG AUS HOLZ             0   \n1      154753  KOSMETIK BüRSTEN SET 6 TEILIG AUS HOLZ             0   \n2      147974  KOSMETIK BüRSTEN SET 6 TEILIG AUS HOLZ             0   \n3      150174  KOSMETIK BüRSTEN SET 6 TEILIG AUS HOLZ             0   \n4      144356  KOSMETIK BüRSTEN SET 6 TEILIG AUS HOLZ             0   \n\n   flg_fixedprice            type currency  exchangerate  adjvalue    retail  \\\n0               0  Consumer Goods     Euro        1.2918  8.822994  9.029682   \n1               0  Consumer Goods     Euro        1.2774  8.929026  8.929026   \n2               0  Consumer Goods     Euro        1.3235  9.039505  9.251265   \n3               0  Consumer Goods     Euro        1.2944  8.840752  9.047855   \n4               0  Consumer Goods     Euro        1.2993  8.874219  9.082107   \n\n   endtimeperiod  bidincrement  bidfee  \n0            2.0          0.15     0.1  \n1            1.0          0.15     0.1  \n2            2.0          0.15     0.1  \n3            1.0          0.15     0.1  \n4            1.0          0.15     0.1  ",
      "text/html": "<div>\n<style scoped>\n    .dataframe tbody tr th:only-of-type {\n        vertical-align: middle;\n    }\n\n    .dataframe tbody tr th {\n        vertical-align: top;\n    }\n\n    .dataframe thead th {\n        text-align: right;\n    }\n</style>\n<table border=\"1\" class=\"dataframe\">\n  <thead>\n    <tr style=\"text-align: right;\">\n      <th></th>\n      <th>auction_id</th>\n      <th>desc</th>\n      <th>pennyauction</th>\n      <th>flg_fixedprice</th>\n      <th>type</th>\n      <th>currency</th>\n      <th>exchangerate</th>\n      <th>adjvalue</th>\n      <th>retail</th>\n      <th>endtimeperiod</th>\n      <th>bidincrement</th>\n      <th>bidfee</th>\n    </tr>\n  </thead>\n  <tbody>\n    <tr>\n      <th>0</th>\n      <td>144359</td>\n      <td>KOSMETIK BüRSTEN SET 6 TEILIG AUS HOLZ</td>\n      <td>0</td>\n      <td>0</td>\n      <td>Consumer Goods</td>\n      <td>Euro</td>\n      <td>1.2918</td>\n      <td>8.822994</td>\n      <td>9.029682</td>\n      <td>2.0</td>\n      <td>0.15</td>\n      <td>0.1</td>\n    </tr>\n    <tr>\n      <th>1</th>\n      <td>154753</td>\n      <td>KOSMETIK BüRSTEN SET 6 TEILIG AUS HOLZ</td>\n      <td>0</td>\n      <td>0</td>\n      <td>Consumer Goods</td>\n      <td>Euro</td>\n      <td>1.2774</td>\n      <td>8.929026</td>\n      <td>8.929026</td>\n      <td>1.0</td>\n      <td>0.15</td>\n      <td>0.1</td>\n    </tr>\n    <tr>\n      <th>2</th>\n      <td>147974</td>\n      <td>KOSMETIK BüRSTEN SET 6 TEILIG AUS HOLZ</td>\n      <td>0</td>\n      <td>0</td>\n      <td>Consumer Goods</td>\n      <td>Euro</td>\n      <td>1.3235</td>\n      <td>9.039505</td>\n      <td>9.251265</td>\n      <td>2.0</td>\n      <td>0.15</td>\n      <td>0.1</td>\n    </tr>\n    <tr>\n      <th>3</th>\n      <td>150174</td>\n      <td>KOSMETIK BüRSTEN SET 6 TEILIG AUS HOLZ</td>\n      <td>0</td>\n      <td>0</td>\n      <td>Consumer Goods</td>\n      <td>Euro</td>\n      <td>1.2944</td>\n      <td>8.840752</td>\n      <td>9.047855</td>\n      <td>1.0</td>\n      <td>0.15</td>\n      <td>0.1</td>\n    </tr>\n    <tr>\n      <th>4</th>\n      <td>144356</td>\n      <td>KOSMETIK BüRSTEN SET 6 TEILIG AUS HOLZ</td>\n      <td>0</td>\n      <td>0</td>\n      <td>Consumer Goods</td>\n      <td>Euro</td>\n      <td>1.2993</td>\n      <td>8.874219</td>\n      <td>9.082107</td>\n      <td>1.0</td>\n      <td>0.15</td>\n      <td>0.1</td>\n    </tr>\n  </tbody>\n</table>\n</div>"
     },
     "execution_count": 42,
     "metadata": {},
     "output_type": "execute_result"
    }
   ],
   "source": [
    "data = pd.read_csv(auctions_selected_path, encoding = 'utf-8')\n",
    "data.head()"
   ],
   "metadata": {
    "collapsed": false
   }
  },
  {
   "cell_type": "markdown",
   "source": [
    "# 2. 异常筛选\n",
    "## 2.1 drop data where ['bidfee'] >= ['retail']\n",
    "1. 异常数据，bid fee比retail都高。\n",
    "    - 有几十条\n",
    "2. 注意这里的retail的概念\n",
    "    - 有大概60%的商品可以在amazon上找到，对于这些商品，作者用amazon售价替换了PA网站的建议零售价，构成了*adjusted value*\n",
    "    - amazon的价格只有PA的79%\n",
    "    - 另一个数据集的retail的概念是PA网站提供的价格，虽然也提到了amazon售价是偏低的。"
   ],
   "metadata": {
    "collapsed": false
   }
  },
  {
   "cell_type": "code",
   "execution_count": 43,
   "outputs": [
    {
     "name": "stdout",
     "output_type": "stream",
     "text": [
      "Drop 掉了 *0* 行data，他们的bidfee >= retail\n"
     ]
    }
   ],
   "source": [
    "idx_drop = data[(data['bidfee'])>=data['retail']].index\n",
    "data.drop(idx_drop,axis = 0,inplace=True)\n",
    "print(\"Drop 掉了 *{}* 行data，他们的bidfee >= retail\".format(len(idx_drop)))"
   ],
   "metadata": {
    "collapsed": false
   }
  },
  {
   "cell_type": "markdown",
   "source": [
    "## 2.2 desc的问题\n",
    "- 有无空值: 无\n"
   ],
   "metadata": {
    "collapsed": false
   }
  },
  {
   "cell_type": "code",
   "execution_count": 44,
   "outputs": [
    {
     "data": {
      "text/plain": "(False, False)"
     },
     "execution_count": 44,
     "metadata": {},
     "output_type": "execute_result"
    }
   ],
   "source": [
    "data.desc.isnull().any(),data.desc.isna().any()"
   ],
   "metadata": {
    "collapsed": false
   }
  },
  {
   "cell_type": "code",
   "execution_count": 45,
   "outputs": [
    {
     "data": {
      "text/plain": "9363"
     },
     "execution_count": 45,
     "metadata": {},
     "output_type": "execute_result"
    }
   ],
   "source": [
    "data.desc.nunique()"
   ],
   "metadata": {
    "collapsed": false
   }
  },
  {
   "cell_type": "code",
   "execution_count": 46,
   "outputs": [],
   "source": [
    "# data_desc = data.item.unique()\n",
    "# pd.DataFrame(data_desc).to_csv(r'E:\\DATA\\large_dta\\desc.csv', encoding = 'utf-8',index=False)"
   ],
   "metadata": {
    "collapsed": false
   }
  },
  {
   "cell_type": "markdown",
   "source": [
    "# 3. 基本规则筛选\n",
    "## 3.1 only keep pennyauction\n",
    "- 'pennyauction'这一列是boolean value:\n",
    "    - 注意pennyauction远远少于非pennyauction\n",
    "- 'pennyauction'和'fixedprice'有可能同时为1吗:\n",
    "    - 有的，26行，\n",
    "    - 这些行应该去掉吗: no"
   ],
   "metadata": {
    "collapsed": false
   }
  },
  {
   "cell_type": "code",
   "execution_count": 47,
   "outputs": [
    {
     "name": "stdout",
     "output_type": "stream",
     "text": [
      "去掉了*155670*个data records, 它们不是penny auction\n",
      "现在剩 *10709* 场auction\n"
     ]
    }
   ],
   "source": [
    "idx_drop = data[data.pennyauction==0].index\n",
    "data.drop(index=idx_drop,inplace=True,axis=0)\n",
    "# auction_id_1.shape\n",
    "print(f\"去掉了*{len(idx_drop)}*个data records, 它们不是penny auction\")\n",
    "print(f\"现在剩 *{data.shape[0]}* 场auction\")"
   ],
   "metadata": {
    "collapsed": false
   }
  },
  {
   "cell_type": "markdown",
   "source": [
    "## 3.2 bid inc=0且不是fixed—price的不需要\n",
    "1. 他们是fixed-price吗：Not all of them"
   ],
   "metadata": {
    "collapsed": false
   }
  },
  {
   "cell_type": "code",
   "execution_count": 48,
   "outputs": [
    {
     "name": "stdout",
     "output_type": "stream",
     "text": [
      "去掉了*7*个data records, 它们的bid inc=0且是增加拍卖\n",
      "现在剩 *10702* 场auction\n"
     ]
    }
   ],
   "source": [
    "# inc==0且是增加拍卖\n",
    "idx_drop= data[(data.bidincrement == 0)&(data.flg_fixedprice == 0)].index\n",
    "data.drop(index=idx_drop,inplace=True,axis=0)\n",
    "\n",
    "print(f\"去掉了*{len(idx_drop)}*个data records, 它们的bid inc=0且是增加拍卖\")\n",
    "print(f\"现在剩 *{data.shape[0]}* 场auction\")\n",
    "data.reset_index(inplace=True,drop=True)"
   ],
   "metadata": {
    "collapsed": false
   }
  },
  {
   "cell_type": "markdown",
   "source": [
    "## 3.3 对于'desc'相同的，对'retail'进行统一\n",
    "1. 一样的商品应该具有一样的价格: 取avg"
   ],
   "metadata": {
    "collapsed": false
   }
  },
  {
   "cell_type": "code",
   "execution_count": 50,
   "outputs": [
    {
     "data": {
      "text/plain": "                       desc  retail\n0         1 KG SILBERBARREN   559.0\n1       10 GRAMM GOLDBARREN   325.0\n2     10 GRAMM PLATINBARREN   366.0\n3  10 MARK BAYERN GOLDMüNZE   268.0\n4  1000 FREEBIDS-GUTSCHEIN!   671.0",
      "text/html": "<div>\n<style scoped>\n    .dataframe tbody tr th:only-of-type {\n        vertical-align: middle;\n    }\n\n    .dataframe tbody tr th {\n        vertical-align: top;\n    }\n\n    .dataframe thead th {\n        text-align: right;\n    }\n</style>\n<table border=\"1\" class=\"dataframe\">\n  <thead>\n    <tr style=\"text-align: right;\">\n      <th></th>\n      <th>desc</th>\n      <th>retail</th>\n    </tr>\n  </thead>\n  <tbody>\n    <tr>\n      <th>0</th>\n      <td>1 KG SILBERBARREN</td>\n      <td>559.0</td>\n    </tr>\n    <tr>\n      <th>1</th>\n      <td>10 GRAMM GOLDBARREN</td>\n      <td>325.0</td>\n    </tr>\n    <tr>\n      <th>2</th>\n      <td>10 GRAMM PLATINBARREN</td>\n      <td>366.0</td>\n    </tr>\n    <tr>\n      <th>3</th>\n      <td>10 MARK BAYERN GOLDMüNZE</td>\n      <td>268.0</td>\n    </tr>\n    <tr>\n      <th>4</th>\n      <td>1000 FREEBIDS-GUTSCHEIN!</td>\n      <td>671.0</td>\n    </tr>\n  </tbody>\n</table>\n</div>"
     },
     "execution_count": 50,
     "metadata": {},
     "output_type": "execute_result"
    }
   ],
   "source": [
    "# 计算新的retail\n",
    "data_common_grouped = data.groupby(by=['desc'],as_index=False)\n",
    "item_retail = pd.DataFrame(data_common_grouped.retail.mean())\n",
    "item_retail['retail'] = np.rint(item_retail.retail)   # 四舍五入\n",
    "item_retail.head()"
   ],
   "metadata": {
    "collapsed": false
   }
  },
  {
   "cell_type": "code",
   "execution_count": 51,
   "outputs": [
    {
     "data": {
      "text/plain": "   auction_id                                    desc  pennyauction  \\\n0      138823  KOSMETIK BüRSTEN SET 6 TEILIG AUS HOLZ             1   \n1      175928                       20 BIDS GUTSCHEIN             1   \n2      176047                       20 BIDS GUTSCHEIN             1   \n3      176073                       20 BIDS GUTSCHEIN             1   \n4      176010                       20 BIDS GUTSCHEIN             1   \n5      175995                       20 BIDS GUTSCHEIN             1   \n6      175925                       20 BIDS GUTSCHEIN             1   \n7      180618                       20 BIDS GUTSCHEIN             1   \n8      176043                       20 BIDS GUTSCHEIN             1   \n9      176006                       20 BIDS GUTSCHEIN             1   \n\n   flg_fixedprice            type currency  exchangerate   adjvalue  \\\n0               0  Consumer Goods     Euro        1.3978   9.546973   \n1               0  Consumer Goods     Euro        1.3500  13.500000   \n2               0  Consumer Goods     Euro        1.3448  13.448000   \n3               0  Consumer Goods     Euro        1.3305  13.305000   \n4               0  Consumer Goods     Euro        1.3640  13.639999   \n5               0  Consumer Goods     Euro        1.3616  13.616000   \n6               0  Consumer Goods     Euro        1.3500  13.500000   \n7               0  Consumer Goods     Euro        1.3963  13.962999   \n8               0  Consumer Goods     Euro        1.3448  13.448000   \n9               0  Consumer Goods     Euro        1.3640  13.639999   \n\n   endtimeperiod  bidincrement  bidfee  retail  \n0           10.0          0.01    0.01    10.0  \n1           18.0          0.01    0.01    14.0  \n2           18.0          0.01    0.01    14.0  \n3           15.0          0.01    0.01    14.0  \n4           32.0          0.01    0.01    14.0  \n5           16.0          0.01    0.01    14.0  \n6            5.0          0.01    0.01    14.0  \n7          118.0          0.01    0.01    14.0  \n8            6.0          0.01    0.01    14.0  \n9           42.0          0.01    0.01    14.0  ",
      "text/html": "<div>\n<style scoped>\n    .dataframe tbody tr th:only-of-type {\n        vertical-align: middle;\n    }\n\n    .dataframe tbody tr th {\n        vertical-align: top;\n    }\n\n    .dataframe thead th {\n        text-align: right;\n    }\n</style>\n<table border=\"1\" class=\"dataframe\">\n  <thead>\n    <tr style=\"text-align: right;\">\n      <th></th>\n      <th>auction_id</th>\n      <th>desc</th>\n      <th>pennyauction</th>\n      <th>flg_fixedprice</th>\n      <th>type</th>\n      <th>currency</th>\n      <th>exchangerate</th>\n      <th>adjvalue</th>\n      <th>endtimeperiod</th>\n      <th>bidincrement</th>\n      <th>bidfee</th>\n      <th>retail</th>\n    </tr>\n  </thead>\n  <tbody>\n    <tr>\n      <th>0</th>\n      <td>138823</td>\n      <td>KOSMETIK BüRSTEN SET 6 TEILIG AUS HOLZ</td>\n      <td>1</td>\n      <td>0</td>\n      <td>Consumer Goods</td>\n      <td>Euro</td>\n      <td>1.3978</td>\n      <td>9.546973</td>\n      <td>10.0</td>\n      <td>0.01</td>\n      <td>0.01</td>\n      <td>10.0</td>\n    </tr>\n    <tr>\n      <th>1</th>\n      <td>175928</td>\n      <td>20 BIDS GUTSCHEIN</td>\n      <td>1</td>\n      <td>0</td>\n      <td>Consumer Goods</td>\n      <td>Euro</td>\n      <td>1.3500</td>\n      <td>13.500000</td>\n      <td>18.0</td>\n      <td>0.01</td>\n      <td>0.01</td>\n      <td>14.0</td>\n    </tr>\n    <tr>\n      <th>2</th>\n      <td>176047</td>\n      <td>20 BIDS GUTSCHEIN</td>\n      <td>1</td>\n      <td>0</td>\n      <td>Consumer Goods</td>\n      <td>Euro</td>\n      <td>1.3448</td>\n      <td>13.448000</td>\n      <td>18.0</td>\n      <td>0.01</td>\n      <td>0.01</td>\n      <td>14.0</td>\n    </tr>\n    <tr>\n      <th>3</th>\n      <td>176073</td>\n      <td>20 BIDS GUTSCHEIN</td>\n      <td>1</td>\n      <td>0</td>\n      <td>Consumer Goods</td>\n      <td>Euro</td>\n      <td>1.3305</td>\n      <td>13.305000</td>\n      <td>15.0</td>\n      <td>0.01</td>\n      <td>0.01</td>\n      <td>14.0</td>\n    </tr>\n    <tr>\n      <th>4</th>\n      <td>176010</td>\n      <td>20 BIDS GUTSCHEIN</td>\n      <td>1</td>\n      <td>0</td>\n      <td>Consumer Goods</td>\n      <td>Euro</td>\n      <td>1.3640</td>\n      <td>13.639999</td>\n      <td>32.0</td>\n      <td>0.01</td>\n      <td>0.01</td>\n      <td>14.0</td>\n    </tr>\n    <tr>\n      <th>5</th>\n      <td>175995</td>\n      <td>20 BIDS GUTSCHEIN</td>\n      <td>1</td>\n      <td>0</td>\n      <td>Consumer Goods</td>\n      <td>Euro</td>\n      <td>1.3616</td>\n      <td>13.616000</td>\n      <td>16.0</td>\n      <td>0.01</td>\n      <td>0.01</td>\n      <td>14.0</td>\n    </tr>\n    <tr>\n      <th>6</th>\n      <td>175925</td>\n      <td>20 BIDS GUTSCHEIN</td>\n      <td>1</td>\n      <td>0</td>\n      <td>Consumer Goods</td>\n      <td>Euro</td>\n      <td>1.3500</td>\n      <td>13.500000</td>\n      <td>5.0</td>\n      <td>0.01</td>\n      <td>0.01</td>\n      <td>14.0</td>\n    </tr>\n    <tr>\n      <th>7</th>\n      <td>180618</td>\n      <td>20 BIDS GUTSCHEIN</td>\n      <td>1</td>\n      <td>0</td>\n      <td>Consumer Goods</td>\n      <td>Euro</td>\n      <td>1.3963</td>\n      <td>13.962999</td>\n      <td>118.0</td>\n      <td>0.01</td>\n      <td>0.01</td>\n      <td>14.0</td>\n    </tr>\n    <tr>\n      <th>8</th>\n      <td>176043</td>\n      <td>20 BIDS GUTSCHEIN</td>\n      <td>1</td>\n      <td>0</td>\n      <td>Consumer Goods</td>\n      <td>Euro</td>\n      <td>1.3448</td>\n      <td>13.448000</td>\n      <td>6.0</td>\n      <td>0.01</td>\n      <td>0.01</td>\n      <td>14.0</td>\n    </tr>\n    <tr>\n      <th>9</th>\n      <td>176006</td>\n      <td>20 BIDS GUTSCHEIN</td>\n      <td>1</td>\n      <td>0</td>\n      <td>Consumer Goods</td>\n      <td>Euro</td>\n      <td>1.3640</td>\n      <td>13.639999</td>\n      <td>42.0</td>\n      <td>0.01</td>\n      <td>0.01</td>\n      <td>14.0</td>\n    </tr>\n  </tbody>\n</table>\n</div>"
     },
     "execution_count": 51,
     "metadata": {},
     "output_type": "execute_result"
    }
   ],
   "source": [
    "# drop旧的retail\n",
    "data.drop(columns='retail',inplace=True,axis=1)\n",
    "# 合并新的\n",
    "data_new_retail = pd.merge(data,item_retail,on=['desc'],how=\"left\")\n",
    "data_new_retail.head(10)"
   ],
   "metadata": {
    "collapsed": false
   }
  },
  {
   "cell_type": "markdown",
   "source": [
    "## 3.4 翻译item"
   ],
   "metadata": {
    "collapsed": false
   }
  },
  {
   "cell_type": "code",
   "execution_count": 53,
   "outputs": [
    {
     "name": "stdout",
     "output_type": "stream",
     "text": [
      "一共有auction记录 *10702* 条，一共有 *764 条item*\n"
     ]
    },
    {
     "data": {
      "text/plain": "                                     desc item_en\n0  KOSMETIK BüRSTEN SET 6 TEILIG AUS HOLZ        \n1                       20 BIDS GUTSCHEIN        \n2                         20 BIDS VOUCHER        \n3                       50 BIDS GUTSCHEIN        \n4                  50 FREEBIDS-GUTSCHEIN!        ",
      "text/html": "<div>\n<style scoped>\n    .dataframe tbody tr th:only-of-type {\n        vertical-align: middle;\n    }\n\n    .dataframe tbody tr th {\n        vertical-align: top;\n    }\n\n    .dataframe thead th {\n        text-align: right;\n    }\n</style>\n<table border=\"1\" class=\"dataframe\">\n  <thead>\n    <tr style=\"text-align: right;\">\n      <th></th>\n      <th>desc</th>\n      <th>item_en</th>\n    </tr>\n  </thead>\n  <tbody>\n    <tr>\n      <th>0</th>\n      <td>KOSMETIK BüRSTEN SET 6 TEILIG AUS HOLZ</td>\n      <td></td>\n    </tr>\n    <tr>\n      <th>1</th>\n      <td>20 BIDS GUTSCHEIN</td>\n      <td></td>\n    </tr>\n    <tr>\n      <th>2</th>\n      <td>20 BIDS VOUCHER</td>\n      <td></td>\n    </tr>\n    <tr>\n      <th>3</th>\n      <td>50 BIDS GUTSCHEIN</td>\n      <td></td>\n    </tr>\n    <tr>\n      <th>4</th>\n      <td>50 FREEBIDS-GUTSCHEIN!</td>\n      <td></td>\n    </tr>\n  </tbody>\n</table>\n</div>"
     },
     "execution_count": 53,
     "metadata": {},
     "output_type": "execute_result"
    }
   ],
   "source": [
    "item = pd.DataFrame(data_new_retail.desc.unique())\n",
    "print(f\"一共有auction记录 *{data_new_retail.shape[0]}* 条，一共有 *{item.shape[0]} 条item*\")\n",
    "item.insert(1,\"item_en\",\"\")\n",
    "item.rename(columns={0:\"desc\"},inplace=True)\n",
    "item.head()"
   ],
   "metadata": {
    "collapsed": false
   }
  },
  {
   "cell_type": "code",
   "execution_count": 54,
   "outputs": [
    {
     "name": "stderr",
     "output_type": "stream",
     "text": [
      "Using state Beijing server backend.\n",
      "100%|██████████| 764/764 [10:45<00:00,  1.18it/s]"
     ]
    },
    {
     "name": "stdout",
     "output_type": "stream",
     "text": [
      "Done\n"
     ]
    },
    {
     "name": "stderr",
     "output_type": "stream",
     "text": [
      "\n"
     ]
    }
   ],
   "source": [
    "import translators as ts\n",
    "from_language, to_language = 'de', 'en'\n",
    "for i in tqdm(range(item.shape[0])):\n",
    "    text_de = item.iloc[i,0]\n",
    "    text_en = ts.translate_text(text_de, from_language = from_language, to_language = to_language,if_ignore_empty_query=False, if_ignore_limit_of_length=False, limit_of_length=5000)\n",
    "    item.iloc[i,1] = text_en\n",
    "\n",
    "print(\"Done\")"
   ],
   "metadata": {
    "collapsed": false
   }
  },
  {
   "cell_type": "code",
   "execution_count": 57,
   "outputs": [],
   "source": [
    "# 暂存一下item翻译记录, 翻译太慢了\n",
    "item.to_csv(item_trans,header=True,index=False,encoding=\"utf-8\")"
   ],
   "metadata": {
    "collapsed": false
   }
  },
  {
   "cell_type": "code",
   "execution_count": 58,
   "outputs": [
    {
     "data": {
      "text/plain": "   auction_id  pennyauction  flg_fixedprice            type currency  \\\n0      138823             1               0  Consumer Goods     Euro   \n1      175928             1               0  Consumer Goods     Euro   \n2      176047             1               0  Consumer Goods     Euro   \n3      176073             1               0  Consumer Goods     Euro   \n4      176010             1               0  Consumer Goods     Euro   \n\n   exchangerate   adjvalue  endtimeperiod  bidincrement  bidfee  retail  \\\n0        1.3978   9.546973           10.0          0.01    0.01    10.0   \n1        1.3500  13.500000           18.0          0.01    0.01    14.0   \n2        1.3448  13.448000           18.0          0.01    0.01    14.0   \n3        1.3305  13.305000           15.0          0.01    0.01    14.0   \n4        1.3640  13.639999           32.0          0.01    0.01    14.0   \n\n                                        desc  \n0  COSMETICS Brush SET 6 PIECES MADE OF WOOD  \n1                            20 BIDS VOUCHER  \n2                            20 BIDS VOUCHER  \n3                            20 BIDS VOUCHER  \n4                            20 BIDS VOUCHER  ",
      "text/html": "<div>\n<style scoped>\n    .dataframe tbody tr th:only-of-type {\n        vertical-align: middle;\n    }\n\n    .dataframe tbody tr th {\n        vertical-align: top;\n    }\n\n    .dataframe thead th {\n        text-align: right;\n    }\n</style>\n<table border=\"1\" class=\"dataframe\">\n  <thead>\n    <tr style=\"text-align: right;\">\n      <th></th>\n      <th>auction_id</th>\n      <th>pennyauction</th>\n      <th>flg_fixedprice</th>\n      <th>type</th>\n      <th>currency</th>\n      <th>exchangerate</th>\n      <th>adjvalue</th>\n      <th>endtimeperiod</th>\n      <th>bidincrement</th>\n      <th>bidfee</th>\n      <th>retail</th>\n      <th>desc</th>\n    </tr>\n  </thead>\n  <tbody>\n    <tr>\n      <th>0</th>\n      <td>138823</td>\n      <td>1</td>\n      <td>0</td>\n      <td>Consumer Goods</td>\n      <td>Euro</td>\n      <td>1.3978</td>\n      <td>9.546973</td>\n      <td>10.0</td>\n      <td>0.01</td>\n      <td>0.01</td>\n      <td>10.0</td>\n      <td>COSMETICS Brush SET 6 PIECES MADE OF WOOD</td>\n    </tr>\n    <tr>\n      <th>1</th>\n      <td>175928</td>\n      <td>1</td>\n      <td>0</td>\n      <td>Consumer Goods</td>\n      <td>Euro</td>\n      <td>1.3500</td>\n      <td>13.500000</td>\n      <td>18.0</td>\n      <td>0.01</td>\n      <td>0.01</td>\n      <td>14.0</td>\n      <td>20 BIDS VOUCHER</td>\n    </tr>\n    <tr>\n      <th>2</th>\n      <td>176047</td>\n      <td>1</td>\n      <td>0</td>\n      <td>Consumer Goods</td>\n      <td>Euro</td>\n      <td>1.3448</td>\n      <td>13.448000</td>\n      <td>18.0</td>\n      <td>0.01</td>\n      <td>0.01</td>\n      <td>14.0</td>\n      <td>20 BIDS VOUCHER</td>\n    </tr>\n    <tr>\n      <th>3</th>\n      <td>176073</td>\n      <td>1</td>\n      <td>0</td>\n      <td>Consumer Goods</td>\n      <td>Euro</td>\n      <td>1.3305</td>\n      <td>13.305000</td>\n      <td>15.0</td>\n      <td>0.01</td>\n      <td>0.01</td>\n      <td>14.0</td>\n      <td>20 BIDS VOUCHER</td>\n    </tr>\n    <tr>\n      <th>4</th>\n      <td>176010</td>\n      <td>1</td>\n      <td>0</td>\n      <td>Consumer Goods</td>\n      <td>Euro</td>\n      <td>1.3640</td>\n      <td>13.639999</td>\n      <td>32.0</td>\n      <td>0.01</td>\n      <td>0.01</td>\n      <td>14.0</td>\n      <td>20 BIDS VOUCHER</td>\n    </tr>\n  </tbody>\n</table>\n</div>"
     },
     "execution_count": 58,
     "metadata": {},
     "output_type": "execute_result"
    }
   ],
   "source": [
    "# 合并，重命名\n",
    "data_en = pd.merge(data_new_retail,item,on=\"desc\",how=\"left\")\n",
    "data_en.drop(columns=['desc'],inplace=True)\n",
    "data_en.rename(columns={\"item_en\":\"desc\"},inplace=True)\n",
    "data_en.head()"
   ],
   "metadata": {
    "collapsed": false
   }
  },
  {
   "cell_type": "markdown",
   "source": [
    "## 3.5 endtimeperiod一定是整数\n",
    "1. 这一列就是N值本身"
   ],
   "metadata": {
    "collapsed": false
   }
  },
  {
   "cell_type": "code",
   "execution_count": 59,
   "outputs": [],
   "source": [
    "data_en['endtimeperiod'] = np.rint(data_en.endtimeperiod)   # 四舍五入\n",
    "data_en.rename(columns={'endtimeperiod':'N'},inplace=True)"
   ],
   "metadata": {
    "collapsed": false
   }
  },
  {
   "cell_type": "markdown",
   "source": [
    "## 3.6 Save data\n"
   ],
   "metadata": {
    "collapsed": false
   }
  },
  {
   "cell_type": "code",
   "execution_count": 60,
   "outputs": [],
   "source": [
    "data_en.to_csv(auctions_cleaned_path,encoding=\"utf-8\",index=False,header=True)"
   ],
   "metadata": {
    "collapsed": false
   }
  }
 ],
 "metadata": {
  "kernelspec": {
   "display_name": "Python 3",
   "language": "python",
   "name": "python3"
  },
  "language_info": {
   "codemirror_mode": {
    "name": "ipython",
    "version": 2
   },
   "file_extension": ".py",
   "mimetype": "text/x-python",
   "name": "python",
   "nbconvert_exporter": "python",
   "pygments_lexer": "ipython2",
   "version": "2.7.6"
  }
 },
 "nbformat": 4,
 "nbformat_minor": 0
}
