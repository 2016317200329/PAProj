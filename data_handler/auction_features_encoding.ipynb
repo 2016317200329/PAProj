{
 "cells": [
  {
   "cell_type": "code",
   "execution_count": 1,
   "metadata": {
    "collapsed": true
   },
   "outputs": [],
   "source": [
    "#!/usr/bin/env python\n",
    "# -*- coding: utf-8 -*-\n",
    "# @Time    : 2022/11/21 10:06\n",
    "# @Author  : Wang Yujia\n",
    "# @File    : auction_features_encoding.ipynb\n",
    "# @Description : 为auction从'desc'列提取contextual features。目前采用的是`SentenceTransformer`\n"
   ]
  },
  {
   "cell_type": "markdown",
   "source": [
    "# 0. what for\n",
    "1. auction的features/ setting info需要encoding\n",
    "2. 只对`desc`进行encoding\n",
    "\n",
    "# 1. preparations\n",
    "## 1.1 全局设置"
   ],
   "metadata": {
    "collapsed": false
   }
  },
  {
   "cell_type": "code",
   "execution_count": 1,
   "outputs": [],
   "source": [
    "data_key_path = \"../data/target_datakey.csv\"\n",
    "prod_id_path = \"../data/prod_id.csv\"\n",
    "\n",
    "# output path\n",
    "prod_embedding_output_path = \"../data/prod_embedding.csv\"\n"
   ],
   "metadata": {
    "collapsed": false
   }
  },
  {
   "cell_type": "code",
   "execution_count": 3,
   "outputs": [],
   "source": [
    "# 希望得到的encoding维度\n",
    "new_dimension = 300\n",
    "\n",
    "# 聚类\n",
    "num_clusters = 4"
   ],
   "metadata": {
    "collapsed": false
   }
  },
  {
   "cell_type": "code",
   "execution_count": 4,
   "outputs": [
    {
     "name": "stdout",
     "output_type": "stream",
     "text": [
      "['C:\\\\Program Files\\\\JetBrains\\\\PyCharm 2022.2.3\\\\plugins\\\\python\\\\helpers-pro\\\\jupyter_debug', 'C:\\\\Program Files\\\\JetBrains\\\\PyCharm 2022.2.3\\\\plugins\\\\python\\\\helpers\\\\pydev', 'D:\\\\Desktop\\\\PROJ\\\\PAProj\\\\data_handler', 'D:\\\\Desktop\\\\PROJ\\\\PAProj', 'D:\\\\Anaconda\\\\envs\\\\py39\\\\python39.zip', 'D:\\\\Anaconda\\\\envs\\\\py39\\\\DLLs', 'D:\\\\Anaconda\\\\envs\\\\py39\\\\lib', 'D:\\\\Anaconda\\\\envs\\\\py39', '', 'D:\\\\Anaconda\\\\envs\\\\py39\\\\lib\\\\site-packages', 'D:\\\\Anaconda\\\\envs\\\\py39\\\\lib\\\\site-packages\\\\win32', 'D:\\\\Anaconda\\\\envs\\\\py39\\\\lib\\\\site-packages\\\\win32\\\\lib', 'D:\\\\Anaconda\\\\envs\\\\py39\\\\lib\\\\site-packages\\\\Pythonwin']\n",
      "True\n"
     ]
    }
   ],
   "source": [
    "import sys\n",
    "import time\n",
    "import pandas as pd\n",
    "import numpy as np\n",
    "from pprint import pprint\n",
    "import torch\n",
    "from transformers import BertModel\n",
    "from visdom import Visdom\n",
    "from sklearn.cluster import KMeans\n",
    "from sklearn.manifold import TSNE\n",
    "import gzip\n",
    "import csv\n",
    "import os\n",
    "import random\n",
    "import logging\n",
    "from sklearn.decomposition import PCA\n",
    "from sentence_transformers import SentenceTransformer, util, InputExample,evaluation,models\n",
    "\n",
    "print(sys.path)\n",
    "device = 'cuda'\n",
    "print(torch.cuda.is_available())"
   ],
   "metadata": {
    "collapsed": false
   }
  },
  {
   "cell_type": "markdown",
   "source": [
    "## 1.2 读取data\n",
    "### 1.2.1 读取id和对应的desc"
   ],
   "metadata": {
    "collapsed": false
   }
  },
  {
   "cell_type": "code",
   "execution_count": 5,
   "outputs": [
    {
     "name": "stdout",
     "output_type": "stream",
     "text": [
      "   id                                           desc\n",
      "0   0  Sony Ericsson S500i Unlocked Mysterious Green\n",
      "1   1               PSP Slim & Lite Sony Piano Black\n",
      "2   2     iPod Touch Apple 8GB with Software Upgrade\n",
      "3   3      Logitech Cordless Wave Keyboard and Mouse\n",
      "4   4   Apple Macbook Air 1.6GHz Core 2 Duo Notebook\n",
      "5   5                     SanDisk Cruzer Contour 4GB\n",
      "6   6           Mario Kart with Wheel (Nintendo Wii)\n",
      "7   7      PS3 | Playstation 3 Sony Console 40GB HDD\n",
      "8   8                    DS | Nintendo DS Lite White\n",
      "9  11            Corsair Voyager Mini 4 GB USB Flash\n",
      "(907, 2)\n"
     ]
    }
   ],
   "source": [
    "data_key = pd.read_csv(data_key_path,encoding=\"utf-8\")\n",
    "prod_id_all = pd.read_csv(prod_id_path,encoding=\"utf-8\")\n",
    "\n",
    "prod_id = prod_id_all[ prod_id_all['id'].isin(data_key['id']) ]\n",
    "prod_id.reset_index(drop=True,inplace=True)\n",
    "print(prod_id.head(10))\n",
    "print(prod_id.shape)"
   ],
   "metadata": {
    "collapsed": false
   }
  },
  {
   "cell_type": "markdown",
   "source": [
    "### 1.2.2 SentenceTransformer微调用到的data\n",
    "1. training：AllNLI（2w个samples）\n",
    "2. evaluating：STS benchmark"
   ],
   "metadata": {
    "collapsed": false
   }
  },
  {
   "cell_type": "code",
   "execution_count": 7,
   "outputs": [],
   "source": [
    "# Use AllNLI as a source of sentences to compute PCA\n",
    "nli_dataset_path = 'datasets/AllNLI.tsv.gz'\n",
    "\n",
    "# Use the STS benchmark dataset to see how much performance we lose by the dimensionality reduction\n",
    "sts_dataset_path = 'datasets/stsbenchmark.tsv.gz'\n",
    "\n",
    "if not os.path.exists(nli_dataset_path):\n",
    "    util.http_get('https://sbert.net/datasets/AllNLI.tsv.gz', nli_dataset_path)\n",
    "\n",
    "if not os.path.exists(sts_dataset_path):\n",
    "    util.http_get('https://sbert.net/datasets/stsbenchmark.tsv.gz', sts_dataset_path)\n"
   ],
   "metadata": {
    "collapsed": false
   }
  },
  {
   "cell_type": "code",
   "execution_count": 8,
   "outputs": [
    {
     "data": {
      "text/plain": "1379"
     },
     "execution_count": 8,
     "metadata": {},
     "output_type": "execute_result"
    }
   ],
   "source": [
    "# Prepare the benchmark dataset\n",
    "eval_examples = []\n",
    "with gzip.open(sts_dataset_path, 'rt', encoding='utf8') as f:\n",
    "    reader = csv.DictReader(f, delimiter='\\t', quoting=csv.QUOTE_NONE)\n",
    "    for row in reader:\n",
    "        if row['split'] == 'test':\n",
    "            score = float(row['score']) / 5.0 #Normalize score to range 0 ... 1\n",
    "            eval_examples.append(InputExample(texts=[row['sentence1'], row['sentence2']], label=score))\n",
    "eval_examples.__len__()"
   ],
   "metadata": {
    "collapsed": false
   }
  },
  {
   "cell_type": "code",
   "execution_count": 9,
   "outputs": [
    {
     "data": {
      "text/plain": "1196755"
     },
     "execution_count": 9,
     "metadata": {},
     "output_type": "execute_result"
    }
   ],
   "source": [
    "#Read sentences from NLI dataset\n",
    "nli_sentences = set()\n",
    "with gzip.open(nli_dataset_path, 'rt', encoding='utf8') as f:\n",
    "    reader = csv.DictReader(f, delimiter='\\t', quoting=csv.QUOTE_NONE)\n",
    "    for row in reader:\n",
    "        nli_sentences.add(row['sentence1'])\n",
    "        nli_sentences.add(row['sentence2'])\n",
    "nli_sentences = list(nli_sentences)\n",
    "random.shuffle(nli_sentences)\n",
    "nli_sentences.__len__()"
   ],
   "metadata": {
    "collapsed": false
   }
  },
  {
   "cell_type": "markdown",
   "source": [
    "## 1.3 读取model\n",
    "1. 读取的model包括\n",
    "    - SentenceTransformer\n",
    "    - PCA：用来降维SentenceTransformer的输出维度\n",
    "    - 聚类用的kmeans和tSNE"
   ],
   "metadata": {
    "collapsed": false
   }
  },
  {
   "cell_type": "code",
   "execution_count": 10,
   "outputs": [
    {
     "data": {
      "text/plain": "Downloading:   0%|          | 0.00/1.18k [00:00<?, ?B/s]",
      "application/vnd.jupyter.widget-view+json": {
       "version_major": 2,
       "version_minor": 0,
       "model_id": "83a0ac608be64cb88ed5e3927ccc65fb"
      }
     },
     "metadata": {},
     "output_type": "display_data"
    },
    {
     "data": {
      "text/plain": "Downloading:   0%|          | 0.00/190 [00:00<?, ?B/s]",
      "application/vnd.jupyter.widget-view+json": {
       "version_major": 2,
       "version_minor": 0,
       "model_id": "d9a3ee6a3c6740a99ebbdc59d56657dc"
      }
     },
     "metadata": {},
     "output_type": "display_data"
    },
    {
     "data": {
      "text/plain": "Downloading:   0%|          | 0.00/10.6k [00:00<?, ?B/s]",
      "application/vnd.jupyter.widget-view+json": {
       "version_major": 2,
       "version_minor": 0,
       "model_id": "fbd734df0fa84f0cadccfabe510f334d"
      }
     },
     "metadata": {},
     "output_type": "display_data"
    },
    {
     "data": {
      "text/plain": "Downloading:   0%|          | 0.00/612 [00:00<?, ?B/s]",
      "application/vnd.jupyter.widget-view+json": {
       "version_major": 2,
       "version_minor": 0,
       "model_id": "990b63b6833d4fcabc92f81881a8254a"
      }
     },
     "metadata": {},
     "output_type": "display_data"
    },
    {
     "data": {
      "text/plain": "Downloading:   0%|          | 0.00/116 [00:00<?, ?B/s]",
      "application/vnd.jupyter.widget-view+json": {
       "version_major": 2,
       "version_minor": 0,
       "model_id": "5fc24c0cff79418ba3b1a7d4cd27e9f4"
      }
     },
     "metadata": {},
     "output_type": "display_data"
    },
    {
     "data": {
      "text/plain": "Downloading:   0%|          | 0.00/39.3k [00:00<?, ?B/s]",
      "application/vnd.jupyter.widget-view+json": {
       "version_major": 2,
       "version_minor": 0,
       "model_id": "818dc4c12b214940af4571ff233d1143"
      }
     },
     "metadata": {},
     "output_type": "display_data"
    },
    {
     "data": {
      "text/plain": "Downloading:   0%|          | 0.00/90.9M [00:00<?, ?B/s]",
      "application/vnd.jupyter.widget-view+json": {
       "version_major": 2,
       "version_minor": 0,
       "model_id": "524a6e0823284f8ea372bee3418f09de"
      }
     },
     "metadata": {},
     "output_type": "display_data"
    },
    {
     "data": {
      "text/plain": "Downloading:   0%|          | 0.00/53.0 [00:00<?, ?B/s]",
      "application/vnd.jupyter.widget-view+json": {
       "version_major": 2,
       "version_minor": 0,
       "model_id": "765da21fd76449318e3579917742d76b"
      }
     },
     "metadata": {},
     "output_type": "display_data"
    },
    {
     "data": {
      "text/plain": "Downloading:   0%|          | 0.00/112 [00:00<?, ?B/s]",
      "application/vnd.jupyter.widget-view+json": {
       "version_major": 2,
       "version_minor": 0,
       "model_id": "bacf2e27d8dc4d93b8f54217b85fa901"
      }
     },
     "metadata": {},
     "output_type": "display_data"
    },
    {
     "data": {
      "text/plain": "Downloading:   0%|          | 0.00/466k [00:00<?, ?B/s]",
      "application/vnd.jupyter.widget-view+json": {
       "version_major": 2,
       "version_minor": 0,
       "model_id": "05a50e3ce8fd497785012750c3bff9bc"
      }
     },
     "metadata": {},
     "output_type": "display_data"
    },
    {
     "data": {
      "text/plain": "Downloading:   0%|          | 0.00/350 [00:00<?, ?B/s]",
      "application/vnd.jupyter.widget-view+json": {
       "version_major": 2,
       "version_minor": 0,
       "model_id": "ceb17fb5d0ae4b898e27d70fa2b7349f"
      }
     },
     "metadata": {},
     "output_type": "display_data"
    },
    {
     "data": {
      "text/plain": "Downloading:   0%|          | 0.00/13.2k [00:00<?, ?B/s]",
      "application/vnd.jupyter.widget-view+json": {
       "version_major": 2,
       "version_minor": 0,
       "model_id": "66b1a8d028514ac5a8c71e9df3a3c1f8"
      }
     },
     "metadata": {},
     "output_type": "display_data"
    },
    {
     "data": {
      "text/plain": "Downloading:   0%|          | 0.00/232k [00:00<?, ?B/s]",
      "application/vnd.jupyter.widget-view+json": {
       "version_major": 2,
       "version_minor": 0,
       "model_id": "b08b572bf5224366bf7f436769c712aa"
      }
     },
     "metadata": {},
     "output_type": "display_data"
    },
    {
     "data": {
      "text/plain": "Downloading:   0%|          | 0.00/349 [00:00<?, ?B/s]",
      "application/vnd.jupyter.widget-view+json": {
       "version_major": 2,
       "version_minor": 0,
       "model_id": "7f2451ee427c4de1b3769b3195366504"
      }
     },
     "metadata": {},
     "output_type": "display_data"
    }
   ],
   "source": [
    "model_2 = SentenceTransformer('sentence-transformers/all-MiniLM-L6-v2')\n",
    "\n",
    "pca = PCA(n_components=new_dimension)\n",
    "\n",
    "tsne_model = TSNE(perplexity=10, n_components=2, init='pca', n_iter=250, random_state=23)\n",
    "clustering_model = KMeans(n_clusters=num_clusters)"
   ],
   "metadata": {
    "collapsed": false
   }
  },
  {
   "cell_type": "markdown",
   "source": [
    "# 2. Encoding\n",
    "\n",
    "## 2.1 全连接层（PCA）降维\n",
    "1. 计算加这个FC层之前的模型表现"
   ],
   "metadata": {
    "collapsed": false
   }
  },
  {
   "cell_type": "code",
   "execution_count": 11,
   "outputs": [
    {
     "data": {
      "text/plain": "0.8203247283076371"
     },
     "execution_count": 11,
     "metadata": {},
     "output_type": "execute_result"
    }
   ],
   "source": [
    "# Measure the performance of the original model\n",
    "# Evaluate the original model on the STS benchmark dataset\n",
    "stsb_evaluator = evaluation.EmbeddingSimilarityEvaluator.from_input_examples(eval_examples, name='sts-benchmark-test')\n",
    "\n",
    "stsb_evaluator(model_2)"
   ],
   "metadata": {
    "collapsed": false
   }
  },
  {
   "cell_type": "markdown",
   "source": [
    "2. 用training data计算PCA特征矩阵"
   ],
   "metadata": {
    "collapsed": false
   }
  },
  {
   "cell_type": "code",
   "execution_count": 12,
   "outputs": [
    {
     "name": "stdout",
     "output_type": "stream",
     "text": [
      "(300, 384)\n",
      "8.884342193603516\n"
     ]
    }
   ],
   "source": [
    "#To determine the PCA matrix, we need some example sentence embeddings.\n",
    "#Here, we compute the embeddings for 20k random sentences from the AllNLI dataset\n",
    "\n",
    "time_start = time.time()\n",
    "pca_train_sentences = nli_sentences[0:20000]\n",
    "train_embeddings = model_2.encode(pca_train_sentences, convert_to_numpy=True)\n",
    "\n",
    "#Compute PCA on the training embeddings matrix\n",
    "pca.fit(train_embeddings)\n",
    "pca_comp = np.asarray(pca.components_)\n",
    "\n",
    "time_end = time.time()  # 记录开始时间\n",
    "\n",
    "print(pca_comp.shape)\n",
    "print(time_end-time_start)"
   ],
   "metadata": {
    "collapsed": false
   }
  },
  {
   "cell_type": "markdown",
   "source": [
    "3. 用PCA矩阵当做全连接层的权重"
   ],
   "metadata": {
    "collapsed": false
   }
  },
  {
   "cell_type": "code",
   "execution_count": 13,
   "outputs": [],
   "source": [
    "# Add a dense layer to the model, so that it will produce directly embeddings with the new size\n",
    "dense = models.Dense(in_features=model_2.get_sentence_embedding_dimension(), out_features=new_dimension, bias=False, activation_function=torch.nn.Identity())\n",
    "dense.linear.weight = torch.nn.Parameter(torch.tensor(pca_comp))\n"
   ],
   "metadata": {
    "collapsed": false
   }
  },
  {
   "cell_type": "markdown",
   "source": [
    "4. 加入现有的pretrained model中，并且计算现在的evaluation"
   ],
   "metadata": {
    "collapsed": false
   }
  },
  {
   "cell_type": "code",
   "execution_count": 14,
   "outputs": [
    {
     "data": {
      "text/plain": "0.8234648135739334"
     },
     "execution_count": 14,
     "metadata": {},
     "output_type": "execute_result"
    }
   ],
   "source": [
    "model_2.add_module('dense', dense)\n",
    "\n",
    "# Evaluate the model with the reduce embedding size\n",
    "stsb_evaluator(model_2)"
   ],
   "metadata": {
    "collapsed": false
   }
  },
  {
   "cell_type": "markdown",
   "source": [
    "## 2.2 Generate and save"
   ],
   "metadata": {
    "collapsed": false
   }
  },
  {
   "cell_type": "code",
   "execution_count": 15,
   "outputs": [
    {
     "name": "stdout",
     "output_type": "stream",
     "text": [
      "0.49586009979248047\n"
     ]
    }
   ],
   "source": [
    "### model generate and save\n",
    "time_start = time.time()\n",
    "prod_embedding = model_2.encode(list(prod_id.loc[:,'desc']), convert_to_numpy=True,device=device)\n",
    "assert prod_embedding.shape[0] == prod_id.shape[0], \"Wrong!\"\n",
    "time_end = time.time()  # 记录开始时间\n",
    "print(time_end - time_start)"
   ],
   "metadata": {
    "collapsed": false
   }
  },
  {
   "cell_type": "code",
   "execution_count": 16,
   "outputs": [
    {
     "data": {
      "text/plain": "(          0         1         2         3         4         5         6  \\\n 0  0.113677  0.015587 -0.017459 -0.083209  0.009277  0.015455 -0.033741   \n 1  0.065721  0.028872  0.015985  0.029794 -0.078768  0.032856  0.038300   \n 2 -0.050416 -0.074042  0.113132  0.051390 -0.042346  0.152172  0.020443   \n 3  0.002531  0.022662  0.008649  0.080328  0.002015 -0.072503  0.164256   \n 4  0.055621  0.064637  0.025927 -0.000543 -0.030083 -0.003895  0.078841   \n 5  0.010668 -0.015149  0.060915 -0.013527  0.084374  0.049732 -0.058918   \n 6  0.089104  0.036358  0.036312  0.129133  0.062260  0.032078  0.037145   \n 7 -0.010504  0.005163  0.018896 -0.063805  0.032434  0.026571  0.008288   \n 8  0.003754  0.086591  0.012458  0.058575 -0.017852 -0.036281 -0.030097   \n 9 -0.028825  0.080478  0.153809  0.014118  0.004908 -0.027036  0.037114   \n \n           7         8         9  ...       292       293       294       295  \\\n 0 -0.033269 -0.056256 -0.050112  ...  0.085058 -0.000890  0.028617  0.019562   \n 1 -0.078052  0.038403  0.120704  ...  0.056570  0.013818  0.019427 -0.015405   \n 2 -0.039997  0.016010 -0.051986  ...  0.008058 -0.012010  0.018087 -0.020538   \n 3 -0.168828 -0.014312  0.022505  ... -0.015971  0.028873 -0.009782  0.036219   \n 4 -0.045546  0.106584 -0.061789  ... -0.040978  0.012542  0.046669  0.016295   \n 5  0.012771 -0.002167 -0.005661  ...  0.041739 -0.002621 -0.020176 -0.032245   \n 6  0.102181 -0.092456 -0.010230  ... -0.040596  0.040064 -0.008055 -0.047306   \n 7  0.023060  0.053166  0.002229  ...  0.026950  0.045510 -0.002749 -0.041779   \n 8  0.079240 -0.070765 -0.010558  ...  0.016215 -0.018473  0.029317  0.000488   \n 9 -0.003883 -0.033481 -0.036695  ...  0.035505 -0.006646  0.002563 -0.043130   \n \n         296       297       298       299  id  \\\n 0  0.030084 -0.020417 -0.003608 -0.051770   0   \n 1  0.040299 -0.028012 -0.009921 -0.007788   1   \n 2  0.008130 -0.030650 -0.048271  0.015314   2   \n 3  0.037236  0.026129 -0.041985  0.019427   3   \n 4  0.033070 -0.065419 -0.026042 -0.031264   4   \n 5  0.045002 -0.046348 -0.048947 -0.042002   5   \n 6  0.002866 -0.011377 -0.058906  0.001794   6   \n 7  0.020151 -0.019260 -0.038038 -0.046660   7   \n 8  0.025472 -0.026843 -0.031529 -0.020900   8   \n 9  0.012904 -0.016055 -0.011248  0.007150  11   \n \n                                             desc  \n 0  Sony Ericsson S500i Unlocked Mysterious Green  \n 1               PSP Slim & Lite Sony Piano Black  \n 2     iPod Touch Apple 8GB with Software Upgrade  \n 3      Logitech Cordless Wave Keyboard and Mouse  \n 4   Apple Macbook Air 1.6GHz Core 2 Duo Notebook  \n 5                     SanDisk Cruzer Contour 4GB  \n 6           Mario Kart with Wheel (Nintendo Wii)  \n 7      PS3 | Playstation 3 Sony Console 40GB HDD  \n 8                    DS | Nintendo DS Lite White  \n 9            Corsair Voyager Mini 4 GB USB Flash  \n \n [10 rows x 302 columns],\n (907, 302))"
     },
     "execution_count": 16,
     "metadata": {},
     "output_type": "execute_result"
    }
   ],
   "source": [
    "prod_embedding_df = pd.DataFrame(prod_embedding)\n",
    "prod_embedding_df['id'] = prod_id['id']\n",
    "prod_embedding_df['desc'] = prod_id['desc']\n",
    "\n",
    "prod_embedding_df.to_csv(prod_embedding_output_path,header=True,index=False,encoding=\"utf-8\")\n",
    "prod_embedding_df.head(10),prod_embedding_df.shape"
   ],
   "metadata": {
    "collapsed": false
   }
  },
  {
   "cell_type": "markdown",
   "source": [
    "# 3. Test: clustering\n",
    "做一下clustering来判断encoding效果\n",
    "see `auction_features_encoding_demo.ipynb`"
   ],
   "metadata": {
    "collapsed": false
   }
  },
  {
   "cell_type": "code",
   "execution_count": null,
   "outputs": [],
   "source": [],
   "metadata": {
    "collapsed": false
   }
  }
 ],
 "metadata": {
  "kernelspec": {
   "display_name": "Python 3",
   "language": "python",
   "name": "python3"
  },
  "language_info": {
   "codemirror_mode": {
    "name": "ipython",
    "version": 2
   },
   "file_extension": ".py",
   "mimetype": "text/x-python",
   "name": "python",
   "nbconvert_exporter": "python",
   "pygments_lexer": "ipython2",
   "version": "2.7.6"
  }
 },
 "nbformat": 4,
 "nbformat_minor": 0
}
