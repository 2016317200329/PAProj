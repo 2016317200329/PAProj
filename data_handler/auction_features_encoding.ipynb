{
 "cells": [
  {
   "cell_type": "code",
   "execution_count": 16,
   "metadata": {
    "collapsed": true
   },
   "outputs": [],
   "source": [
    "#!/usr/bin/env python\n",
    "# -*- coding: utf-8 -*-\n",
    "# @Time    : 2022/11/21 10:06\n",
    "# @Author  : Wang Yujia\n",
    "# @File    : auction_features_encoding.ipynb\n",
    "# @Description : 为auction从'desc'列提取contextual features。目前采用的是`SentenceTransformer`\n"
   ]
  },
  {
   "cell_type": "markdown",
   "source": [
    "# 0. what for\n",
    "1. auction的features/ setting info需要encoding\n",
    "2. 只对`desc`进行encoding\n",
    "\n",
    "# 1. preparations\n",
    "## 1.1 全局设置"
   ],
   "metadata": {
    "collapsed": false
   }
  },
  {
   "cell_type": "code",
   "execution_count": 20,
   "outputs": [],
   "source": [
    "data_key_path = \"../data/target_datakey.csv\"\n",
    "prod_id_path = \"../data/prod_id.csv\"\n",
    "\n",
    "# output path\n",
    "# prod_embedding_output_path = \"../data/prod_embedding.csv\"\n",
    "# prod_embedding_output_path = \"../data/prod_embedding_300.csv\"\n",
    "prod_embedding_output_path = \"../data/prod_embedding_60.csv\"\n"
   ],
   "metadata": {
    "collapsed": false
   }
  },
  {
   "cell_type": "code",
   "execution_count": 21,
   "outputs": [],
   "source": [
    "# 希望得到的encoding维度\n",
    "new_dimension = 60\n",
    "\n",
    "# 聚类\n",
    "num_clusters = 4"
   ],
   "metadata": {
    "collapsed": false
   }
  },
  {
   "cell_type": "code",
   "execution_count": 22,
   "outputs": [
    {
     "name": "stdout",
     "output_type": "stream",
     "text": [
      "['D:\\\\PyCharm\\\\plugins\\\\python\\\\helpers-pro\\\\jupyter_debug', 'D:\\\\PyCharm\\\\plugins\\\\python\\\\helpers\\\\pydev', 'D:\\\\Desktop\\\\PROJ\\\\PAProj\\\\data_handler', 'D:\\\\Desktop\\\\PROJ\\\\PAProj', 'D:\\\\Anaconda\\\\python39.zip', 'D:\\\\Anaconda\\\\DLLs', 'D:\\\\Anaconda\\\\lib', 'D:\\\\Anaconda', '', 'D:\\\\Anaconda\\\\Lib\\\\site-packages', 'D:\\\\Anaconda\\\\Lib\\\\site-packages\\\\win32', 'D:\\\\Anaconda\\\\Lib\\\\site-packages\\\\win32\\\\lib', 'D:\\\\Anaconda\\\\Lib\\\\site-packages\\\\Pythonwin', 'D:\\\\Anaconda\\\\Lib\\\\site-packages\\\\IPython\\\\extensions', 'C:\\\\Users\\\\Administrator\\\\.ipython']\n",
      "True\n"
     ]
    }
   ],
   "source": [
    "import sys\n",
    "import time\n",
    "import pandas as pd\n",
    "import numpy as np\n",
    "from pprint import pprint\n",
    "import torch\n",
    "from transformers import BertModel\n",
    "from visdom import Visdom\n",
    "from sklearn.cluster import KMeans\n",
    "from sklearn.manifold import TSNE\n",
    "import gzip\n",
    "import csv\n",
    "import os\n",
    "import random\n",
    "import logging\n",
    "from sklearn.decomposition import PCA\n",
    "from sentence_transformers import SentenceTransformer, util, InputExample,evaluation,models\n",
    "\n",
    "print(sys.path)\n",
    "device = 'cuda'\n",
    "print(torch.cuda.is_available())"
   ],
   "metadata": {
    "collapsed": false
   }
  },
  {
   "cell_type": "markdown",
   "source": [
    "## 1.2 读取data\n",
    "### 1.2.1 读取id和对应的desc"
   ],
   "metadata": {
    "collapsed": false
   }
  },
  {
   "cell_type": "code",
   "execution_count": 23,
   "outputs": [
    {
     "name": "stdout",
     "output_type": "stream",
     "text": [
      "   id                                           desc\n",
      "0   0  Sony Ericsson S500i Unlocked Mysterious Green\n",
      "1   1               PSP Slim & Lite Sony Piano Black\n",
      "2   2     iPod Touch Apple 8GB with Software Upgrade\n",
      "3   3      Logitech Cordless Wave Keyboard and Mouse\n",
      "4   4   Apple Macbook Air 1.6GHz Core 2 Duo Notebook\n",
      "5   5                     SanDisk Cruzer Contour 4GB\n",
      "6   6           Mario Kart with Wheel (Nintendo Wii)\n",
      "7   7      PS3 | Playstation 3 Sony Console 40GB HDD\n",
      "8   8                    DS | Nintendo DS Lite White\n",
      "9  11            Corsair Voyager Mini 4 GB USB Flash\n",
      "(907, 2)\n"
     ]
    }
   ],
   "source": [
    "data_key = pd.read_csv(data_key_path,encoding=\"utf-8\")\n",
    "prod_id_all = pd.read_csv(prod_id_path,encoding=\"utf-8\")\n",
    "\n",
    "prod_id = prod_id_all[ prod_id_all['id'].isin(data_key['id']) ]\n",
    "prod_id.reset_index(drop=True,inplace=True)\n",
    "print(prod_id.head(10))\n",
    "print(prod_id.shape)"
   ],
   "metadata": {
    "collapsed": false
   }
  },
  {
   "cell_type": "markdown",
   "source": [
    "### 1.2.2 SentenceTransformer微调用到的data\n",
    "1. training：AllNLI（2w个samples）\n",
    "2. evaluating：STS benchmark"
   ],
   "metadata": {
    "collapsed": false
   }
  },
  {
   "cell_type": "code",
   "execution_count": 24,
   "outputs": [],
   "source": [
    "# Use AllNLI as a source of sentences to compute PCA\n",
    "nli_dataset_path = 'datasets/AllNLI.tsv.gz'\n",
    "\n",
    "# Use the STS benchmark dataset to see how much performance we lose by the dimensionality reduction\n",
    "sts_dataset_path = 'datasets/stsbenchmark.tsv.gz'\n",
    "\n",
    "if not os.path.exists(nli_dataset_path):\n",
    "    util.http_get('https://sbert.net/datasets/AllNLI.tsv.gz', nli_dataset_path)\n",
    "\n",
    "if not os.path.exists(sts_dataset_path):\n",
    "    util.http_get('https://sbert.net/datasets/stsbenchmark.tsv.gz', sts_dataset_path)\n"
   ],
   "metadata": {
    "collapsed": false
   }
  },
  {
   "cell_type": "code",
   "execution_count": 25,
   "outputs": [
    {
     "data": {
      "text/plain": "1379"
     },
     "execution_count": 25,
     "metadata": {},
     "output_type": "execute_result"
    }
   ],
   "source": [
    "# Prepare the benchmark dataset\n",
    "eval_examples = []\n",
    "with gzip.open(sts_dataset_path, 'rt', encoding='utf8') as f:\n",
    "    reader = csv.DictReader(f, delimiter='\\t', quoting=csv.QUOTE_NONE)\n",
    "    for row in reader:\n",
    "        if row['split'] == 'test':\n",
    "            score = float(row['score']) / 5.0 #Normalize score to range 0 ... 1\n",
    "            eval_examples.append(InputExample(texts=[row['sentence1'], row['sentence2']], label=score))\n",
    "eval_examples.__len__()"
   ],
   "metadata": {
    "collapsed": false
   }
  },
  {
   "cell_type": "code",
   "execution_count": 26,
   "outputs": [
    {
     "data": {
      "text/plain": "1196755"
     },
     "execution_count": 26,
     "metadata": {},
     "output_type": "execute_result"
    }
   ],
   "source": [
    "#Read sentences from NLI dataset\n",
    "nli_sentences = set()\n",
    "with gzip.open(nli_dataset_path, 'rt', encoding='utf8') as f:\n",
    "    reader = csv.DictReader(f, delimiter='\\t', quoting=csv.QUOTE_NONE)\n",
    "    for row in reader:\n",
    "        nli_sentences.add(row['sentence1'])\n",
    "        nli_sentences.add(row['sentence2'])\n",
    "nli_sentences = list(nli_sentences)\n",
    "random.shuffle(nli_sentences)\n",
    "nli_sentences.__len__()"
   ],
   "metadata": {
    "collapsed": false
   }
  },
  {
   "cell_type": "markdown",
   "source": [
    "## 1.3 读取model\n",
    "1. 读取的model包括\n",
    "    - SentenceTransformer\n",
    "    - PCA：用来降维SentenceTransformer的输出维度\n",
    "    - 聚类用的kmeans和tSNE"
   ],
   "metadata": {
    "collapsed": false
   }
  },
  {
   "cell_type": "code",
   "execution_count": 27,
   "outputs": [],
   "source": [
    "model_2 = SentenceTransformer('sentence-transformers/all-MiniLM-L6-v2')\n",
    "\n",
    "pca = PCA(n_components=new_dimension)\n",
    "\n",
    "tsne_model = TSNE(perplexity=10, n_components=2, init='pca', n_iter=250, random_state=23)\n",
    "clustering_model = KMeans(n_clusters=num_clusters)"
   ],
   "metadata": {
    "collapsed": false
   }
  },
  {
   "cell_type": "markdown",
   "source": [
    "# 2. Encoding\n",
    "\n",
    "## 2.1 全连接层（PCA）降维\n",
    "1. 计算加这个FC层之前的模型表现"
   ],
   "metadata": {
    "collapsed": false
   }
  },
  {
   "cell_type": "code",
   "execution_count": 28,
   "outputs": [
    {
     "data": {
      "text/plain": "0.8203247283076371"
     },
     "execution_count": 28,
     "metadata": {},
     "output_type": "execute_result"
    }
   ],
   "source": [
    "# Measure the performance of the original model\n",
    "# Evaluate the original model on the STS benchmark dataset\n",
    "stsb_evaluator = evaluation.EmbeddingSimilarityEvaluator.from_input_examples(eval_examples, name='sts-benchmark-test')\n",
    "\n",
    "stsb_evaluator(model_2)"
   ],
   "metadata": {
    "collapsed": false
   }
  },
  {
   "cell_type": "markdown",
   "source": [
    "2. 用training data计算PCA特征矩阵"
   ],
   "metadata": {
    "collapsed": false
   }
  },
  {
   "cell_type": "code",
   "execution_count": 29,
   "outputs": [
    {
     "name": "stdout",
     "output_type": "stream",
     "text": [
      "(60, 384)\n",
      "3.8284034729003906\n"
     ]
    }
   ],
   "source": [
    "#To determine the PCA matrix, we need some example sentence embeddings.\n",
    "#Here, we compute the embeddings for 20k random sentences from the AllNLI dataset\n",
    "\n",
    "time_start = time.time()\n",
    "pca_train_sentences = nli_sentences[0:20000]\n",
    "train_embeddings = model_2.encode(pca_train_sentences, convert_to_numpy=True)\n",
    "\n",
    "#Compute PCA on the training embeddings matrix\n",
    "pca.fit(train_embeddings)\n",
    "pca_comp = np.asarray(pca.components_)\n",
    "\n",
    "time_end = time.time()  # 记录开始时间\n",
    "\n",
    "print(pca_comp.shape)\n",
    "print(time_end-time_start)"
   ],
   "metadata": {
    "collapsed": false
   }
  },
  {
   "cell_type": "markdown",
   "source": [
    "3. 用PCA矩阵当做全连接层的权重"
   ],
   "metadata": {
    "collapsed": false
   }
  },
  {
   "cell_type": "code",
   "execution_count": 30,
   "outputs": [],
   "source": [
    "# Add a dense layer to the model, so that it will produce directly embeddings with the new size\n",
    "dense = models.Dense(in_features=model_2.get_sentence_embedding_dimension(), out_features=new_dimension, bias=False, activation_function=torch.nn.Identity())\n",
    "dense.linear.weight = torch.nn.Parameter(torch.tensor(pca_comp))\n"
   ],
   "metadata": {
    "collapsed": false
   }
  },
  {
   "cell_type": "markdown",
   "source": [
    "4. 加入现有的pretrained model中，并且计算现在的evaluation"
   ],
   "metadata": {
    "collapsed": false
   }
  },
  {
   "cell_type": "code",
   "execution_count": 31,
   "outputs": [
    {
     "data": {
      "text/plain": "0.7919215631657248"
     },
     "execution_count": 31,
     "metadata": {},
     "output_type": "execute_result"
    }
   ],
   "source": [
    "model_2.add_module('dense', dense)\n",
    "\n",
    "# Evaluate the model with the reduce embedding size\n",
    "stsb_evaluator(model_2)"
   ],
   "metadata": {
    "collapsed": false
   }
  },
  {
   "cell_type": "markdown",
   "source": [
    "## 2.2 Generate and save"
   ],
   "metadata": {
    "collapsed": false
   }
  },
  {
   "cell_type": "code",
   "execution_count": 32,
   "outputs": [
    {
     "name": "stdout",
     "output_type": "stream",
     "text": [
      "0.1371901035308838\n"
     ]
    }
   ],
   "source": [
    "### model generate and save\n",
    "time_start = time.time()\n",
    "prod_embedding = model_2.encode(list(prod_id.loc[:,'desc']), convert_to_numpy=True,device=device)\n",
    "assert prod_embedding.shape[0] == prod_id.shape[0], \"Wrong!\"\n",
    "time_end = time.time()  # 记录开始时间\n",
    "print(time_end - time_start)"
   ],
   "metadata": {
    "collapsed": false
   }
  },
  {
   "cell_type": "code",
   "execution_count": 33,
   "outputs": [
    {
     "data": {
      "text/plain": "(          0         1         2         3         4         5         6  \\\n 0  0.121169  0.010344 -0.022827 -0.082939  0.014812  0.041113  0.026868   \n 1  0.059538  0.026735  0.015084  0.043650 -0.088015  0.064382 -0.052013   \n 2 -0.054701 -0.069931  0.115950  0.058021 -0.034754  0.145390 -0.024455   \n 3  0.002239  0.022239  0.000863  0.075391  0.008460 -0.055054 -0.178972   \n 4  0.057064  0.064496  0.016740  0.000108 -0.023041  0.008342 -0.098208   \n 5  0.012181 -0.017614  0.053235 -0.011833  0.091869  0.043783  0.063253   \n 6  0.084602  0.033534  0.041429  0.130494  0.069776  0.010816 -0.021464   \n 7 -0.010242  0.004288  0.010891 -0.055872  0.031082  0.032068 -0.005744   \n 8  0.010353  0.080913  0.009352  0.051530 -0.017631 -0.034378  0.038367   \n 9 -0.022652  0.081186  0.152782  0.007968  0.006697 -0.031810 -0.024341   \n \n           7         8         9  ...        52        53        54        55  \\\n 0  0.032689 -0.049661 -0.052078  ...  0.050121 -0.008158  0.060036  0.039513   \n 1  0.057001  0.061996  0.100898  ...  0.012716 -0.037121  0.061844  0.043096   \n 2  0.004109  0.002671 -0.064163  ...  0.048623 -0.114022  0.166801 -0.068707   \n 3  0.150144  0.019524  0.042840  ... -0.047032  0.055298 -0.074437  0.035536   \n 4  0.018909  0.093087 -0.071372  ... -0.074892 -0.023282 -0.082430  0.038063   \n 5 -0.014116 -0.010947 -0.008996  ...  0.198651 -0.033631 -0.005688 -0.095051   \n 6 -0.094174 -0.085650 -0.012255  ... -0.092836 -0.062446  0.042437 -0.004261   \n 7 -0.045487  0.052566 -0.004162  ...  0.025750  0.059668 -0.053847 -0.047464   \n 8 -0.056105 -0.072654 -0.005117  ... -0.004739 -0.066669  0.000157  0.048323   \n 9  0.012936 -0.024715 -0.041914  ... -0.018896  0.059731  0.018701  0.055995   \n \n          56        57        58        59  id  \\\n 0  0.047435  0.068639  0.117635 -0.087491   0   \n 1  0.061762  0.003308 -0.006782 -0.090341   1   \n 2  0.042267 -0.096333  0.000392 -0.035902   2   \n 3 -0.000375  0.002136 -0.018930  0.027969   3   \n 4  0.026600 -0.066164 -0.110611  0.090650   4   \n 5  0.027059  0.098367  0.001035  0.024688   5   \n 6  0.027429  0.078628 -0.030084 -0.006432   6   \n 7  0.023256 -0.016870 -0.033754 -0.004375   7   \n 8  0.060811  0.048817  0.087396 -0.048592   8   \n 9  0.012061  0.043802 -0.065958 -0.068870  11   \n \n                                             desc  \n 0  Sony Ericsson S500i Unlocked Mysterious Green  \n 1               PSP Slim & Lite Sony Piano Black  \n 2     iPod Touch Apple 8GB with Software Upgrade  \n 3      Logitech Cordless Wave Keyboard and Mouse  \n 4   Apple Macbook Air 1.6GHz Core 2 Duo Notebook  \n 5                     SanDisk Cruzer Contour 4GB  \n 6           Mario Kart with Wheel (Nintendo Wii)  \n 7      PS3 | Playstation 3 Sony Console 40GB HDD  \n 8                    DS | Nintendo DS Lite White  \n 9            Corsair Voyager Mini 4 GB USB Flash  \n \n [10 rows x 62 columns],\n (907, 62))"
     },
     "execution_count": 33,
     "metadata": {},
     "output_type": "execute_result"
    }
   ],
   "source": [
    "prod_embedding_df = pd.DataFrame(prod_embedding)\n",
    "prod_embedding_df['id'] = prod_id['id']\n",
    "prod_embedding_df['desc'] = prod_id['desc']\n",
    "\n",
    "prod_embedding_df.to_csv(prod_embedding_output_path,header=True,index=False,encoding=\"utf-8\")\n",
    "prod_embedding_df.head(10),prod_embedding_df.shape"
   ],
   "metadata": {
    "collapsed": false
   }
  },
  {
   "cell_type": "markdown",
   "source": [
    "# 3. Test: clustering\n",
    "做一下clustering来判断encoding效果\n",
    "see `auction_features_encoding_demo.ipynb`"
   ],
   "metadata": {
    "collapsed": false
   }
  },
  {
   "cell_type": "code",
   "execution_count": null,
   "outputs": [],
   "source": [],
   "metadata": {
    "collapsed": false
   }
  }
 ],
 "metadata": {
  "kernelspec": {
   "display_name": "Python 3",
   "language": "python",
   "name": "python3"
  },
  "language_info": {
   "codemirror_mode": {
    "name": "ipython",
    "version": 2
   },
   "file_extension": ".py",
   "mimetype": "text/x-python",
   "name": "python",
   "nbconvert_exporter": "python",
   "pygments_lexer": "ipython2",
   "version": "2.7.6"
  }
 },
 "nbformat": 4,
 "nbformat_minor": 0
}
