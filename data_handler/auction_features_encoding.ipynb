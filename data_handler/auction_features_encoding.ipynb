{
 "cells": [
  {
   "cell_type": "code",
   "execution_count": null,
   "metadata": {
    "collapsed": true
   },
   "outputs": [],
   "source": [
    "#!/usr/bin/env python\n",
    "# -*- coding: utf-8 -*-\n",
    "# @Time    : 2022/11/21 10:06\n",
    "# @Author  : Wang Yujia\n",
    "# @File    : auction_features_encoding.ipynb\n",
    "# @Description : 为auction提取contextual features\n"
   ]
  },
  {
   "cell_type": "markdown",
   "source": [
    "# 0. what for\n",
    "1. auction的features/ setting info需要encoding\n",
    "2. encoding的属性是`['desc','retail','bidfee','bidincrement']`\n",
    "    - 或者只对`desc`进行encoding？\n",
    "\n",
    "# 1. preparations\n",
    "## 1.1 全局设置"
   ],
   "metadata": {
    "collapsed": false
   }
  },
  {
   "cell_type": "code",
   "execution_count": 15,
   "outputs": [],
   "source": [
    "# 这个data无所谓，主要是提取item名字用的\n",
    "target_data_path = \"../data/datawithnp_2_selected.csv\"\n",
    "target_data_key_path = \"../data/targets/target_datakey.csv\"\n",
    "prod_id_path = \"../data/prod_id.csv\"\n",
    "\n",
    "# output path\n",
    "output_data_key_path = \"../data/targets/\"\n",
    "\n",
    "output_data_path = \"../data/data_prod_encode.csv\"\n",
    "\n",
    "unique_feature = ['desc','retail','bidfee','bidincrement']\n",
    "\n",
    "import numpy as np\n",
    "import pandas as pd"
   ],
   "metadata": {
    "collapsed": false
   }
  },
  {
   "cell_type": "markdown",
   "source": [
    "## 1.2 读取data\n",
    "1. 读的是id和对应的desc\n",
    "2. Recall：同样的desc或许具有不同的“retail”"
   ],
   "metadata": {
    "collapsed": false
   }
  },
  {
   "cell_type": "code",
   "execution_count": 16,
   "outputs": [
    {
     "name": "stdout",
     "output_type": "stream",
     "text": [
      "一共有 *907* 种商品 （根据'desc'列的商品描述信息）\n",
      "(1092, 3)\n"
     ]
    }
   ],
   "source": [
    "data_key_all = pd.read_csv(target_data_key_path)\n",
    "data_all = pd.read_csv(target_data_path)\n",
    "\n",
    "prod_key = data_key_all['id'].copy()\n",
    "prod_data = data_all[['id','desc','retail']].copy()\n",
    "\n",
    "prod_data.drop_duplicates(inplace=True,ignore_index=True)\n",
    "prod_key.drop_duplicates(inplace=True)\n",
    "print(f\"一共有 *{prod_key.shape[0]}* 种商品 （根据'desc'列的商品描述信息）\")\n"
   ],
   "metadata": {
    "collapsed": false
   }
  },
  {
   "cell_type": "markdown",
   "source": [
    "# 2. Encoding\n",
    "1. 'product_id' 需要转换一下"
   ],
   "metadata": {
    "collapsed": false
   }
  },
  {
   "cell_type": "code",
   "execution_count": null,
   "outputs": [],
   "source": [],
   "metadata": {
    "collapsed": false
   }
  }
 ],
 "metadata": {
  "kernelspec": {
   "display_name": "Python 3",
   "language": "python",
   "name": "python3"
  },
  "language_info": {
   "codemirror_mode": {
    "name": "ipython",
    "version": 2
   },
   "file_extension": ".py",
   "mimetype": "text/x-python",
   "name": "python",
   "nbconvert_exporter": "python",
   "pygments_lexer": "ipython2",
   "version": "2.7.6"
  }
 },
 "nbformat": 4,
 "nbformat_minor": 0
}
