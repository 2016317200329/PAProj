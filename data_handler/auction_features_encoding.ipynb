{
 "cells": [
  {
   "cell_type": "code",
   "execution_count": null,
   "metadata": {
    "collapsed": true
   },
   "outputs": [],
   "source": [
    "#!/usr/bin/env python\n",
    "# -*- coding: utf-8 -*-\n",
    "# @Time    : 2022/11/21 10:06\n",
    "# @Author  : Wang Yujia\n",
    "# @File    : auction_features_encoding.ipynb\n",
    "# @Description : 为auction提取contextual features\n"
   ]
  },
  {
   "cell_type": "markdown",
   "source": [
    "# 0. what for\n",
    "1. auction的features/ setting info需要encoding\n",
    "\n",
    "# 1. preparations\n",
    "## 1.1 全局设置"
   ],
   "metadata": {
    "collapsed": false
   }
  },
  {
   "cell_type": "code",
   "execution_count": 4,
   "outputs": [],
   "source": [
    "# 这个data无所谓，主要是提取item名字用的\n",
    "data_path = \"../data/targets/target_data_original.csv\"\n",
    "data_key_path = \"../data/targets/target_datakey.csv\"\n",
    "\n",
    "import numpy as np\n",
    "import pandas as pd"
   ],
   "metadata": {
    "collapsed": false
   }
  },
  {
   "cell_type": "markdown",
   "source": [
    "## 1.2 读取data\n"
   ],
   "metadata": {
    "collapsed": false
   }
  },
  {
   "cell_type": "code",
   "execution_count": 5,
   "outputs": [
    {
     "name": "stdout",
     "output_type": "stream",
     "text": [
      "68045\n",
      "1268\n",
      "1011\n",
      "1005\n"
     ]
    }
   ],
   "source": [
    "data_key_all = pd.read_csv(data_key_path)\n",
    "data_all = pd.read_csv(data_path)\n",
    "\n",
    "data_key = data_key_all[['product_id']].copy()\n",
    "data = data_all[['product_id','item']].copy()\n",
    "# data = data_all[['product_id']].copy()\n",
    "\n",
    "\n",
    "print(data.shape[0])\n",
    "print(data_key.shape[0])\n",
    "data.drop_duplicates(inplace=True,ignore_index=True)\n",
    "data_key.drop_duplicates(inplace=True,ignore_index=True)\n",
    "print(data.shape[0])\n",
    "print(data_key.shape[0])\n"
   ],
   "metadata": {
    "collapsed": false
   }
  },
  {
   "cell_type": "markdown",
   "source": [
    "## 1.3 提取item名字\n",
    "1. 根据product_id，提取对应的product（item）名字"
   ],
   "metadata": {
    "collapsed": false
   }
  },
  {
   "cell_type": "code",
   "execution_count": null,
   "outputs": [],
   "source": [],
   "metadata": {
    "collapsed": false
   }
  },
  {
   "cell_type": "markdown",
   "source": [
    "# 2. Categorical data\n",
    "1. 'product_id' 需要转换一下"
   ],
   "metadata": {
    "collapsed": false
   }
  },
  {
   "cell_type": "code",
   "execution_count": null,
   "outputs": [],
   "source": [],
   "metadata": {
    "collapsed": false
   }
  }
 ],
 "metadata": {
  "kernelspec": {
   "display_name": "Python 3",
   "language": "python",
   "name": "python3"
  },
  "language_info": {
   "codemirror_mode": {
    "name": "ipython",
    "version": 2
   },
   "file_extension": ".py",
   "mimetype": "text/x-python",
   "name": "python",
   "nbconvert_exporter": "python",
   "pygments_lexer": "ipython2",
   "version": "2.7.6"
  }
 },
 "nbformat": 4,
 "nbformat_minor": 0
}
