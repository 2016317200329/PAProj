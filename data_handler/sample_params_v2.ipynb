{
 "cells": [
  {
   "cell_type": "markdown",
   "source": [
    "# 1. Reflection from auction settings -> GT models assignment\n",
    "1. 试图制定一个映射：from auction settings to GT_choice\n",
    "    - 先把embedding变成1dim，这样features一共是4dim\n",
    "    - 然后根据PCA，4 dim-> 1dim\n",
    "    - 1 dim的结果，按照分界点划分，使得尽可能达到1:1的比例\n",
    "2. Note:\n",
    "    - 因为d=0会使得GT-1求得的概率为0，所以限制：d=0时，一定由GT-2来生成数据"
   ],
   "metadata": {
    "collapsed": false
   }
  },
  {
   "cell_type": "code",
   "execution_count": 1,
   "outputs": [],
   "source": [
    "data_auction_setting_root = r\"../data/train_8_all\"\n",
    "\n",
    "# embedding\n",
    "prod_embedding_small_path = \"../data/small_prod_embedding_4.csv\"\n",
    "prod_embedding_large_path = \"E:\\DATA\\large_dta\\large_prod_embedding_4.csv\"\n",
    "\n",
    "# output_path\n",
    "auction_assign_path = \"../data/auction_assign.csv\"\n",
    "\n",
    "import os\n",
    "import pandas as pd\n",
    "import numpy as np\n",
    "from sklearn.decomposition import PCA\n",
    "from sklearn.cluster import KMeans\n",
    "from sklearn.preprocessing import StandardScaler,MinMaxScaler\n",
    "import matplotlib.pyplot as plt\n",
    "from functools import reduce\n",
    "\n",
    "# scaling\n",
    "RANGE = (-1,1)\n",
    "alpha_range = (-0.3, 0.3)\n",
    "labda_range = (0, 18)\n",
    "\n",
    "# columns name\n",
    "COL_NAME = ['bidincrement','bidfee','retail','item']\n",
    "COL_NAME_output = ['GT_choice','alpha','labda']"
   ],
   "metadata": {
    "collapsed": false
   }
  },
  {
   "cell_type": "markdown",
   "source": [
    "- 先用PCA把4 dim的product embeddings -> 1dim"
   ],
   "metadata": {
    "collapsed": false
   }
  },
  {
   "cell_type": "code",
   "execution_count": 2,
   "outputs": [],
   "source": [
    "# 读取embeddings\n",
    "prod_embedding_small = pd.read_csv(prod_embedding_small_path, encoding=\"utf-8\")\n",
    "prod_embedding_large = pd.read_csv(prod_embedding_large_path, encoding=\"utf-8\")\n",
    "prod_embedding = pd.concat([prod_embedding_small,prod_embedding_large],axis=0,ignore_index=True)\n",
    "prod_embedding.drop(columns=['desc'],inplace=True)"
   ],
   "metadata": {
    "collapsed": false
   }
  },
  {
   "cell_type": "code",
   "execution_count": 3,
   "outputs": [
    {
     "data": {
      "text/plain": "(1276, 1)"
     },
     "execution_count": 3,
     "metadata": {},
     "output_type": "execute_result"
    }
   ],
   "source": [
    "# 4 dim -> 1dim\n",
    "pca_emd = PCA(n_components=1)\n",
    "emd_1dim = pca_emd.fit_transform(prod_embedding)\n",
    "\n",
    "emd_1dim.shape"
   ],
   "metadata": {
    "collapsed": false
   }
  },
  {
   "cell_type": "code",
   "execution_count": 4,
   "outputs": [
    {
     "data": {
      "text/plain": "(1276, 4)"
     },
     "execution_count": 4,
     "metadata": {},
     "output_type": "execute_result"
    }
   ],
   "source": [
    "# 合并旧的data和新的embedding数据\n",
    "all_data_path = os.listdir(data_auction_setting_root)\n",
    "\n",
    "# 将所有data setting放在一张表中，方便training\n",
    "data = pd.DataFrame()\n",
    "for i in range(len(all_data_path)):\n",
    "    data_path = os.path.join(data_auction_setting_root,all_data_path[i])\n",
    "    data_i = pd.read_csv(data_path, encoding=\"utf-8\")\n",
    "\n",
    "    # 合并成一行\n",
    "    data_i_tmp = pd.concat([data_i.iloc[:,0:3],pd.DataFrame(emd_1dim[i])],axis=1)\n",
    "    # 再合并成一张大表\n",
    "    data = pd.concat([data,data_i_tmp],axis=0)\n",
    "\n",
    "data.shape"
   ],
   "metadata": {
    "collapsed": false
   }
  },
  {
   "cell_type": "code",
   "execution_count": 5,
   "outputs": [
    {
     "data": {
      "text/plain": "   bidincrement  bidfee  retail      item\n0          0.15    0.75  499.99 -0.069145\n0          0.15    0.75  169.99  0.036301\n0          0.15    0.75  299.99 -0.008107\n0          0.15    0.75   89.99  0.074671\n0          0.15    0.75   59.99 -0.036966",
      "text/html": "<div>\n<style scoped>\n    .dataframe tbody tr th:only-of-type {\n        vertical-align: middle;\n    }\n\n    .dataframe tbody tr th {\n        vertical-align: top;\n    }\n\n    .dataframe thead th {\n        text-align: right;\n    }\n</style>\n<table border=\"1\" class=\"dataframe\">\n  <thead>\n    <tr style=\"text-align: right;\">\n      <th></th>\n      <th>bidincrement</th>\n      <th>bidfee</th>\n      <th>retail</th>\n      <th>item</th>\n    </tr>\n  </thead>\n  <tbody>\n    <tr>\n      <th>0</th>\n      <td>0.15</td>\n      <td>0.75</td>\n      <td>499.99</td>\n      <td>-0.069145</td>\n    </tr>\n    <tr>\n      <th>0</th>\n      <td>0.15</td>\n      <td>0.75</td>\n      <td>169.99</td>\n      <td>0.036301</td>\n    </tr>\n    <tr>\n      <th>0</th>\n      <td>0.15</td>\n      <td>0.75</td>\n      <td>299.99</td>\n      <td>-0.008107</td>\n    </tr>\n    <tr>\n      <th>0</th>\n      <td>0.15</td>\n      <td>0.75</td>\n      <td>89.99</td>\n      <td>0.074671</td>\n    </tr>\n    <tr>\n      <th>0</th>\n      <td>0.15</td>\n      <td>0.75</td>\n      <td>59.99</td>\n      <td>-0.036966</td>\n    </tr>\n  </tbody>\n</table>\n</div>"
     },
     "execution_count": 5,
     "metadata": {},
     "output_type": "execute_result"
    }
   ],
   "source": [
    "data.columns=COL_NAME\n",
    "data.head()"
   ],
   "metadata": {
    "collapsed": false
   }
  },
  {
   "cell_type": "markdown",
   "source": [
    "- scaling into `RANGE`, 使得每个feature的权重一样"
   ],
   "metadata": {
    "collapsed": false
   }
  },
  {
   "cell_type": "code",
   "execution_count": 6,
   "outputs": [],
   "source": [
    "def scale_range(data,RANGE):\n",
    "\n",
    "    scaler = MinMaxScaler(RANGE)\n",
    "    new_df = pd.DataFrame(index=data.index, columns=data.columns)   # 创造一个shape相同的df\n",
    "    for i in range(data.shape[1]):\n",
    "        new_df.iloc[:,i] =  scaler.fit_transform(np.array(data.iloc[:,i]).reshape(-1, 1))\n",
    "    return new_df\n"
   ],
   "metadata": {
    "collapsed": false
   }
  },
  {
   "cell_type": "code",
   "execution_count": 7,
   "outputs": [
    {
     "data": {
      "text/plain": "(1276, 4)"
     },
     "execution_count": 7,
     "metadata": {},
     "output_type": "execute_result"
    }
   ],
   "source": [
    "# scaling\n",
    "data_scaled = scale_range(data,RANGE)\n",
    "data_scaled.shape"
   ],
   "metadata": {
    "collapsed": false
   }
  },
  {
   "cell_type": "code",
   "execution_count": 8,
   "outputs": [
    {
     "data": {
      "text/plain": "   bidincrement  bidfee  retail      item\n0          0.15    0.75  499.99 -0.069145\n0          0.15    0.75  169.99  0.036301\n0          0.15    0.75  299.99 -0.008107\n0          0.15    0.75   89.99  0.074671\n0          0.15    0.75   59.99 -0.036966",
      "text/html": "<div>\n<style scoped>\n    .dataframe tbody tr th:only-of-type {\n        vertical-align: middle;\n    }\n\n    .dataframe tbody tr th {\n        vertical-align: top;\n    }\n\n    .dataframe thead th {\n        text-align: right;\n    }\n</style>\n<table border=\"1\" class=\"dataframe\">\n  <thead>\n    <tr style=\"text-align: right;\">\n      <th></th>\n      <th>bidincrement</th>\n      <th>bidfee</th>\n      <th>retail</th>\n      <th>item</th>\n    </tr>\n  </thead>\n  <tbody>\n    <tr>\n      <th>0</th>\n      <td>0.15</td>\n      <td>0.75</td>\n      <td>499.99</td>\n      <td>-0.069145</td>\n    </tr>\n    <tr>\n      <th>0</th>\n      <td>0.15</td>\n      <td>0.75</td>\n      <td>169.99</td>\n      <td>0.036301</td>\n    </tr>\n    <tr>\n      <th>0</th>\n      <td>0.15</td>\n      <td>0.75</td>\n      <td>299.99</td>\n      <td>-0.008107</td>\n    </tr>\n    <tr>\n      <th>0</th>\n      <td>0.15</td>\n      <td>0.75</td>\n      <td>89.99</td>\n      <td>0.074671</td>\n    </tr>\n    <tr>\n      <th>0</th>\n      <td>0.15</td>\n      <td>0.75</td>\n      <td>59.99</td>\n      <td>-0.036966</td>\n    </tr>\n  </tbody>\n</table>\n</div>"
     },
     "execution_count": 8,
     "metadata": {},
     "output_type": "execute_result"
    }
   ],
   "source": [
    "data.head()"
   ],
   "metadata": {
    "collapsed": false
   }
  },
  {
   "cell_type": "code",
   "execution_count": 9,
   "outputs": [
    {
     "data": {
      "text/plain": "   bidincrement  bidfee    retail      item\n0          0.25     1.0 -0.647919 -0.360915\n0          0.25     1.0 -0.884359  0.023168\n0          0.25     1.0 -0.791216 -0.138587\n0          0.25     1.0 -0.941678  0.162927\n0          0.25     1.0 -0.963173 -0.243705",
      "text/html": "<div>\n<style scoped>\n    .dataframe tbody tr th:only-of-type {\n        vertical-align: middle;\n    }\n\n    .dataframe tbody tr th {\n        vertical-align: top;\n    }\n\n    .dataframe thead th {\n        text-align: right;\n    }\n</style>\n<table border=\"1\" class=\"dataframe\">\n  <thead>\n    <tr style=\"text-align: right;\">\n      <th></th>\n      <th>bidincrement</th>\n      <th>bidfee</th>\n      <th>retail</th>\n      <th>item</th>\n    </tr>\n  </thead>\n  <tbody>\n    <tr>\n      <th>0</th>\n      <td>0.25</td>\n      <td>1.0</td>\n      <td>-0.647919</td>\n      <td>-0.360915</td>\n    </tr>\n    <tr>\n      <th>0</th>\n      <td>0.25</td>\n      <td>1.0</td>\n      <td>-0.884359</td>\n      <td>0.023168</td>\n    </tr>\n    <tr>\n      <th>0</th>\n      <td>0.25</td>\n      <td>1.0</td>\n      <td>-0.791216</td>\n      <td>-0.138587</td>\n    </tr>\n    <tr>\n      <th>0</th>\n      <td>0.25</td>\n      <td>1.0</td>\n      <td>-0.941678</td>\n      <td>0.162927</td>\n    </tr>\n    <tr>\n      <th>0</th>\n      <td>0.25</td>\n      <td>1.0</td>\n      <td>-0.963173</td>\n      <td>-0.243705</td>\n    </tr>\n  </tbody>\n</table>\n</div>"
     },
     "execution_count": 9,
     "metadata": {},
     "output_type": "execute_result"
    }
   ],
   "source": [
    "data_scaled.head()"
   ],
   "metadata": {
    "collapsed": false
   }
  },
  {
   "cell_type": "markdown",
   "source": [
    "- 方法一：pca，降至1维并且标准化到[-1,1]上\n",
    "- 选用分界点为-0.6"
   ],
   "metadata": {
    "collapsed": false
   }
  },
  {
   "cell_type": "code",
   "execution_count": 10,
   "outputs": [
    {
     "data": {
      "text/plain": "(1276, 1)"
     },
     "execution_count": 10,
     "metadata": {},
     "output_type": "execute_result"
    }
   ],
   "source": [
    "# 实例化PCA算法，并将数据降到1维\n",
    "pca = PCA(n_components=1)\n",
    "pca_result = pca.fit_transform(data_scaled)\n",
    "\n",
    "# 同时将PCA的输出限制在RANGE范围内\n",
    "# pca_result_ranged = RANGE[0] + (pca_result - np.min(pca_result)) * (RANGE[1] - RANGE[0]) / (np.max(pca_result) - np.min(pca_result))\n",
    "scaler = MinMaxScaler(RANGE)\n",
    "pca_result_ranged = scaler.fit_transform(pca_result)\n",
    "pca_result_ranged.shape"
   ],
   "metadata": {
    "collapsed": false
   }
  },
  {
   "cell_type": "code",
   "execution_count": 11,
   "outputs": [],
   "source": [
    "# type assign\n",
    "auction_assign = np.array([0]*len(data_scaled))\n",
    "\n",
    "Choice_point = -0.6\n",
    "auction_assign[np.where(pca_result_ranged < Choice_point)[0]] = 1\n",
    "auction_assign[np.where(pca_result_ranged >= Choice_point)[0]] = 0"
   ],
   "metadata": {
    "collapsed": false
   }
  },
  {
   "cell_type": "markdown",
   "source": [
    "- 限制d=0时，一定由GT-2来控制数据"
   ],
   "metadata": {
    "collapsed": false
   }
  },
  {
   "cell_type": "code",
   "execution_count": 12,
   "outputs": [],
   "source": [
    "# idx_d = np.where(data.bidincrement==0)[0]\n",
    "# auction_assign[idx_d] == 1"
   ],
   "metadata": {
    "collapsed": false
   }
  },
  {
   "cell_type": "markdown",
   "source": [
    "- 检查比例"
   ],
   "metadata": {
    "collapsed": false
   }
  },
  {
   "cell_type": "code",
   "execution_count": 13,
   "outputs": [
    {
     "name": "stdout",
     "output_type": "stream",
     "text": [
      "GT-2的比例为：\n"
     ]
    },
    {
     "data": {
      "text/plain": "0.512539184952978"
     },
     "execution_count": 13,
     "metadata": {},
     "output_type": "execute_result"
    }
   ],
   "source": [
    "print(\"GT-2的比例为：\")\n",
    "len(auction_assign[auction_assign==1]) / len(auction_assign)"
   ],
   "metadata": {
    "collapsed": false
   }
  },
  {
   "cell_type": "code",
   "execution_count": 14,
   "outputs": [
    {
     "data": {
      "text/plain": "(1276, 1)"
     },
     "execution_count": 14,
     "metadata": {},
     "output_type": "execute_result"
    }
   ],
   "source": [
    "auction_assign_df = pd.DataFrame(auction_assign,columns=['GT_choice'])\n",
    "auction_assign_df.reset_index(drop=True,inplace=True)\n",
    "auction_assign_df.shape\n"
   ],
   "metadata": {
    "collapsed": false
   }
  },
  {
   "cell_type": "markdown",
   "source": [
    "- 可视化"
   ],
   "metadata": {
    "collapsed": false
   }
  },
  {
   "cell_type": "code",
   "execution_count": 15,
   "outputs": [
    {
     "data": {
      "text/plain": "<Figure size 640x480 with 1 Axes>",
      "image/png": "[encoded data removed]"
     },
     "metadata": {},
     "output_type": "display_data"
    }
   ],
   "source": [
    "# 将数据降到2维\n",
    "pca = PCA(n_components=2)\n",
    "all_data_2dim = pca.fit_transform(data_scaled)\n",
    "\n",
    "fig = plt.figure()\n",
    "ax = fig.add_subplot(111)\n",
    "ax.scatter(all_data_2dim[:, 0], all_data_2dim[:, 1], c=auction_assign_df.GT_choice)\n",
    "plt.title(\"assignment results\")\n",
    "plt.show()\n"
   ],
   "metadata": {
    "collapsed": false
   }
  },
  {
   "cell_type": "markdown",
   "source": [
    "# 2. Reflection from auction settings -> alpha,lambda.\n",
    "1. alpha，lambda和4-dim feature（auction config）之间有一个线性的映射\n",
    "2. 系数：\n",
    "    - coeff_labda = [0.07, 0.18, 0.38, 0.37]\n",
    "    - coeff_alpha = [0.31, 0.24, 0.18, 0.27]"
   ],
   "metadata": {
    "collapsed": false
   }
  },
  {
   "cell_type": "code",
   "execution_count": 16,
   "outputs": [],
   "source": [
    "def get_coeff():\n",
    "    shape_coeff = [1, 1, 1, 1]\n",
    "    x = np.random.dirichlet(shape_coeff)\n",
    "\n",
    "    # 保留2位小数\n",
    "    x = np.round(x,2)\n",
    "    x[-1] = np.round(1-np.sum(x[0:-1]),2)\n",
    "    return x"
   ],
   "metadata": {
    "collapsed": false
   }
  },
  {
   "cell_type": "markdown",
   "source": [
    "- 只运行一次，得到系数"
   ],
   "metadata": {
    "collapsed": false
   }
  },
  {
   "cell_type": "code",
   "execution_count": 524,
   "outputs": [],
   "source": [
    "# coeff_alpha = get_coeff().tolist()\n",
    "# coeff_labda = get_coeff().tolist()\n",
    "# coeff_alpha,coeff_labda"
   ],
   "metadata": {
    "collapsed": false
   }
  },
  {
   "cell_type": "code",
   "execution_count": 17,
   "outputs": [
    {
     "data": {
      "text/plain": "(1.0, 1.0)"
     },
     "execution_count": 17,
     "metadata": {},
     "output_type": "execute_result"
    }
   ],
   "source": [
    "coeff_alpha = [0.31, 0.24, 0.18, 0.27]\n",
    "coeff_labda = [0.07, 0.18, 0.38, 0.37]\n",
    "sum(coeff_alpha),sum(coeff_labda)"
   ],
   "metadata": {
    "collapsed": false
   }
  },
  {
   "cell_type": "code",
   "execution_count": 18,
   "outputs": [],
   "source": [
    "def get_reflection(data, range, coeff):\n",
    "\n",
    "    # 1. 将data映射到RANGE范围\n",
    "    data_scaled = scale_range(data,range)\n",
    "\n",
    "    # print(data_scaled.head())\n",
    "    # 2. 根据coeff，线性变换\n",
    "    data_reflcted = pd.DataFrame(np.sum(data_scaled * coeff,axis=1))\n",
    "    data_reflcted.reset_index(drop=True,inplace=True)\n",
    "    # print(data_reflcted.head())\n",
    "\n",
    "    return data_reflcted\n"
   ],
   "metadata": {
    "collapsed": false
   }
  },
  {
   "cell_type": "code",
   "execution_count": 19,
   "outputs": [],
   "source": [
    "reflection_alpha = get_reflection(data, alpha_range, coeff_alpha)\n",
    "reflection_labda = get_reflection(data, labda_range, coeff_labda)"
   ],
   "metadata": {
    "collapsed": false
   }
  },
  {
   "cell_type": "code",
   "execution_count": 20,
   "outputs": [
    {
     "data": {
      "text/plain": "(1276, 1)"
     },
     "execution_count": 20,
     "metadata": {},
     "output_type": "execute_result"
    }
   ],
   "source": [
    "reflection_alpha.shape"
   ],
   "metadata": {
    "collapsed": false
   }
  },
  {
   "cell_type": "markdown",
   "source": [
    "- 合并data和assign等"
   ],
   "metadata": {
    "collapsed": false
   }
  },
  {
   "cell_type": "code",
   "execution_count": 21,
   "outputs": [
    {
     "data": {
      "text/plain": "(1276, 3)"
     },
     "execution_count": 21,
     "metadata": {},
     "output_type": "execute_result"
    }
   ],
   "source": [
    "df_groups = [auction_assign_df, reflection_alpha, reflection_labda]\n",
    "\n",
    "data_params = reduce(lambda left, right: pd.concat([left, right],ignore_index=True,axis=1), df_groups)\n",
    "data_params.columns = COL_NAME_output\n",
    "data_params.shape"
   ],
   "metadata": {
    "collapsed": false
   }
  },
  {
   "cell_type": "markdown",
   "source": [
    "- 合并另一个csv的‘observation’"
   ],
   "metadata": {
    "collapsed": false
   }
  },
  {
   "cell_type": "code",
   "execution_count": 26,
   "outputs": [],
   "source": [
    "old_params_path = r\"../data/params_and_K_sampled.csv\"\n",
    "old_params = pd.read_csv(old_params_path,encoding=\"utf-8\")\n",
    "old_params = old_params.iloc[0:data_params.shape[0],:].copy()\n",
    "data_params['observations'] = old_params.observations"
   ],
   "metadata": {
    "collapsed": false
   }
  },
  {
   "cell_type": "code",
   "execution_count": 27,
   "outputs": [
    {
     "data": {
      "text/plain": "   GT_choice     alpha     labda  observations\n0          1  0.031028  7.359773           320\n1          1  0.049371  7.830142           303\n2          1  0.041299  7.610045           540\n3          1  0.057597  8.099510           253\n4          1  0.023499  6.671912           345",
      "text/html": "<div>\n<style scoped>\n    .dataframe tbody tr th:only-of-type {\n        vertical-align: middle;\n    }\n\n    .dataframe tbody tr th {\n        vertical-align: top;\n    }\n\n    .dataframe thead th {\n        text-align: right;\n    }\n</style>\n<table border=\"1\" class=\"dataframe\">\n  <thead>\n    <tr style=\"text-align: right;\">\n      <th></th>\n      <th>GT_choice</th>\n      <th>alpha</th>\n      <th>labda</th>\n      <th>observations</th>\n    </tr>\n  </thead>\n  <tbody>\n    <tr>\n      <th>0</th>\n      <td>1</td>\n      <td>0.031028</td>\n      <td>7.359773</td>\n      <td>320</td>\n    </tr>\n    <tr>\n      <th>1</th>\n      <td>1</td>\n      <td>0.049371</td>\n      <td>7.830142</td>\n      <td>303</td>\n    </tr>\n    <tr>\n      <th>2</th>\n      <td>1</td>\n      <td>0.041299</td>\n      <td>7.610045</td>\n      <td>540</td>\n    </tr>\n    <tr>\n      <th>3</th>\n      <td>1</td>\n      <td>0.057597</td>\n      <td>8.099510</td>\n      <td>253</td>\n    </tr>\n    <tr>\n      <th>4</th>\n      <td>1</td>\n      <td>0.023499</td>\n      <td>6.671912</td>\n      <td>345</td>\n    </tr>\n  </tbody>\n</table>\n</div>"
     },
     "execution_count": 27,
     "metadata": {},
     "output_type": "execute_result"
    }
   ],
   "source": [
    "data_params.head()"
   ],
   "metadata": {
    "collapsed": false
   }
  },
  {
   "cell_type": "code",
   "execution_count": 28,
   "outputs": [
    {
     "data": {
      "text/plain": "(1276, 4)"
     },
     "execution_count": 28,
     "metadata": {},
     "output_type": "execute_result"
    }
   ],
   "source": [
    "data_params.shape"
   ],
   "metadata": {
    "collapsed": false
   }
  },
  {
   "cell_type": "code",
   "execution_count": 29,
   "outputs": [],
   "source": [
    "data_params.to_csv(auction_assign_path, encoding=\"utf-8\", header=True,index=False)"
   ],
   "metadata": {
    "collapsed": false
   }
  },
  {
   "cell_type": "code",
   "execution_count": null,
   "outputs": [],
   "source": [],
   "metadata": {
    "collapsed": false
   }
  }
 ],
 "metadata": {
  "kernelspec": {
   "display_name": "Python 3",
   "language": "python",
   "name": "python3"
  },
  "language_info": {
   "codemirror_mode": {
    "name": "ipython",
    "version": 2
   },
   "file_extension": ".py",
   "mimetype": "text/x-python",
   "name": "python",
   "nbconvert_exporter": "python",
   "pygments_lexer": "ipython2",
   "version": "2.7.6"
  }
 },
 "nbformat": 4,
 "nbformat_minor": 0
}
