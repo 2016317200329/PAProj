{
 "cells": [
  {
   "cell_type": "code",
   "execution_count": 53,
   "metadata": {
    "collapsed": true
   },
   "outputs": [],
   "source": [
    "#!/usr/bin/env python\n",
    "# -*- coding: utf-8 -*-\n",
    "# @Time    : 2022/11/25 14:22\n",
    "# @Author  : Wang Yujia\n",
    "# @File    : data_extract_for_training.ipynb\n",
    "# @Description : 为了training data分别提取csv并保存"
   ]
  },
  {
   "cell_type": "markdown",
   "source": [
    "# 1. Preparations\n",
    "## 1.1 全局设置\n",
    "1. output一共`data_key.shape[0]`个文件"
   ],
   "metadata": {
    "collapsed": false
   }
  },
  {
   "cell_type": "code",
   "execution_count": 42,
   "outputs": [],
   "source": [
    "# input data\n",
    "GT_1_data_path = \"../data/info_asymm/results/asc_symmetry/GT_asc_symmetry_P2_K=300.csv\"\n",
    "GT_2_data_path = \"../data/SA_PT/results/PT_oneforall_P_K=300.csv\"\n",
    "# prod_embedding_output_path = \"../data/prod_embedding_300.csv\"\n",
    "# prod_embedding_output_path = \"../data/prod_embedding_100.csv\"\n",
    "prod_embedding_output_path = \"../data/prod_embedding_60.csv\"\n",
    "target_data_key_path = \"../data/target_datakey.csv\"\n",
    "\n",
    "# output path\n",
    "train_root_path= \"../data/train_60/\"\n",
    "train_file_head = \"train_data_NP_\"\n",
    "train_file_tail= \".csv\"\n",
    "train_data_key_path = target_data_key_path\n",
    "\n",
    "unique_features = ['id', 'bidincrement', 'bidfee','retail']\n",
    "GT_features = ['bidincrement', 'bidfee','retail']\n",
    "prod_embedding_features = ['id']\n",
    "\n",
    "import pandas as pd\n",
    "import numpy as np\n",
    "from tqdm import tqdm"
   ],
   "metadata": {
    "collapsed": false
   }
  },
  {
   "cell_type": "markdown",
   "source": [
    "# 1.2 data读取与保存data_key"
   ],
   "metadata": {
    "collapsed": false
   }
  },
  {
   "cell_type": "code",
   "execution_count": 43,
   "outputs": [
    {
     "name": "stdout",
     "output_type": "stream",
     "text": [
      "(605, 303) (605, 303) (1196, 4)\n",
      "          0         1         2         3         4         5         6  \\\n",
      "0  0.121169  0.010344 -0.022827 -0.082939  0.014812  0.041113  0.026868   \n",
      "1  0.059538  0.026735  0.015084  0.043650 -0.088015  0.064382 -0.052013   \n",
      "2 -0.054701 -0.069931  0.115950  0.058021 -0.034754  0.145390 -0.024455   \n",
      "3  0.002239  0.022239  0.000863  0.075391  0.008460 -0.055054 -0.178972   \n",
      "4  0.057064  0.064496  0.016740  0.000108 -0.023041  0.008342 -0.098208   \n",
      "\n",
      "          7         8         9  ...        52        53        54        55  \\\n",
      "0  0.032689 -0.049661 -0.052078  ...  0.050121 -0.008158  0.060036  0.039513   \n",
      "1  0.057001  0.061996  0.100898  ...  0.012716 -0.037121  0.061844  0.043096   \n",
      "2  0.004109  0.002671 -0.064163  ...  0.048623 -0.114022  0.166801 -0.068707   \n",
      "3  0.150144  0.019524  0.042840  ... -0.047032  0.055298 -0.074437  0.035536   \n",
      "4  0.018909  0.093087 -0.071372  ... -0.074892 -0.023282 -0.082430  0.038063   \n",
      "\n",
      "         56        57        58        59  id  \\\n",
      "0  0.047435  0.068639  0.117635 -0.087491   0   \n",
      "1  0.061762  0.003308 -0.006782 -0.090341   1   \n",
      "2  0.042267 -0.096333  0.000392 -0.035902   2   \n",
      "3 -0.000375  0.002136 -0.018930  0.027969   3   \n",
      "4  0.026600 -0.066164 -0.110611  0.090650   4   \n",
      "\n",
      "                                            desc  \n",
      "0  Sony Ericsson S500i Unlocked Mysterious Green  \n",
      "1               PSP Slim & Lite Sony Piano Black  \n",
      "2     iPod Touch Apple 8GB with Software Upgrade  \n",
      "3      Logitech Cordless Wave Keyboard and Mouse  \n",
      "4   Apple Macbook Air 1.6GHz Core 2 Duo Notebook  \n",
      "\n",
      "[5 rows x 62 columns]\n"
     ]
    }
   ],
   "source": [
    "data_1 = pd.read_csv(GT_1_data_path, encoding=\"utf-8\")\n",
    "data_2 = pd.read_csv(GT_2_data_path, encoding=\"utf-8\")\n",
    "prod_embedding = pd.read_csv(prod_embedding_output_path,encoding=\"utf-8\")\n",
    "target_data_key = pd.read_csv(target_data_key_path,encoding=\"utf-8\")\n",
    "\n",
    "print(data_1.shape,data_2.shape,target_data_key.shape)\n",
    "print(prod_embedding.head())"
   ],
   "metadata": {
    "collapsed": false
   }
  },
  {
   "cell_type": "code",
   "execution_count": 44,
   "outputs": [
    {
     "data": {
      "text/plain": "     bidincrement  bidfee   retail         0         1         2         3  \\\n0            0.15    0.75   499.99  0.003988  0.003983  0.003978  0.003973   \n1            0.15    0.75   169.99  0.005615  0.005595  0.005575  0.005556   \n2            0.15    0.75   299.99  0.004491  0.004482  0.004473  0.004464   \n3            0.15    0.75    89.99  0.008598  0.008541  0.008484  0.008427   \n4            0.15    0.75    59.99  0.012513  0.012388  0.012263  0.012140   \n..            ...     ...      ...       ...       ...       ...       ...   \n600          0.12    0.60   359.99  0.004068  0.004062  0.004057  0.004051   \n601          0.01    0.60  1339.00  0.003558  0.003556  0.003555  0.003553   \n602          0.01    0.60  1719.00  0.003507  0.003506  0.003505  0.003504   \n603          0.01    0.60   689.99  0.003778  0.003775  0.003772  0.003769   \n604          0.01    0.60  1018.00  0.003631  0.003629  0.003627  0.003625   \n\n            4         5         6  ...       290       291       292  \\\n0    0.003969  0.003964  0.003959  ...  0.002770  0.002766  0.002763   \n1    0.005536  0.005516  0.005497  ...  0.001716  0.001708  0.001700   \n2    0.004455  0.004446  0.004437  ...  0.002398  0.002392  0.002387   \n3    0.008370  0.008314  0.008258  ...  0.000603  0.000595  0.000587   \n4    0.012017  0.011895  0.011775  ...  0.000067  0.000064  0.000062   \n..        ...       ...       ...  ...       ...       ...       ...   \n600  0.004046  0.004041  0.004035  ...  0.002708  0.002704  0.002700   \n601  0.003552  0.003550  0.003549  ...  0.003131  0.003129  0.003128   \n602  0.003503  0.003501  0.003500  ...  0.003175  0.003174  0.003173   \n603  0.003765  0.003762  0.003759  ...  0.002947  0.002944  0.002942   \n604  0.003622  0.003620  0.003618  ...  0.003068  0.003066  0.003065   \n\n          293       294       295       296       297       298       299  \n0    0.002759  0.002755  0.002752  0.002748  0.002745  0.002741  0.002737  \n1    0.001692  0.001684  0.001676  0.001668  0.001660  0.001652  0.001644  \n2    0.002381  0.002375  0.002370  0.002364  0.002359  0.002353  0.002348  \n3    0.000580  0.000572  0.000565  0.000557  0.000550  0.000543  0.000535  \n4    0.000060  0.000057  0.000055  0.000053  0.000051  0.000049  0.000047  \n..        ...       ...       ...       ...       ...       ...       ...  \n600  0.002696  0.002692  0.002688  0.002684  0.002680  0.002676  0.002672  \n601  0.003126  0.003125  0.003124  0.003122  0.003121  0.003120  0.003118  \n602  0.003172  0.003170  0.003169  0.003168  0.003167  0.003166  0.003165  \n603  0.002939  0.002937  0.002934  0.002932  0.002929  0.002927  0.002924  \n604  0.003063  0.003061  0.003059  0.003058  0.003056  0.003054  0.003052  \n\n[605 rows x 303 columns]",
      "text/html": "<div>\n<style scoped>\n    .dataframe tbody tr th:only-of-type {\n        vertical-align: middle;\n    }\n\n    .dataframe tbody tr th {\n        vertical-align: top;\n    }\n\n    .dataframe thead th {\n        text-align: right;\n    }\n</style>\n<table border=\"1\" class=\"dataframe\">\n  <thead>\n    <tr style=\"text-align: right;\">\n      <th></th>\n      <th>bidincrement</th>\n      <th>bidfee</th>\n      <th>retail</th>\n      <th>0</th>\n      <th>1</th>\n      <th>2</th>\n      <th>3</th>\n      <th>4</th>\n      <th>5</th>\n      <th>6</th>\n      <th>...</th>\n      <th>290</th>\n      <th>291</th>\n      <th>292</th>\n      <th>293</th>\n      <th>294</th>\n      <th>295</th>\n      <th>296</th>\n      <th>297</th>\n      <th>298</th>\n      <th>299</th>\n    </tr>\n  </thead>\n  <tbody>\n    <tr>\n      <th>0</th>\n      <td>0.15</td>\n      <td>0.75</td>\n      <td>499.99</td>\n      <td>0.003988</td>\n      <td>0.003983</td>\n      <td>0.003978</td>\n      <td>0.003973</td>\n      <td>0.003969</td>\n      <td>0.003964</td>\n      <td>0.003959</td>\n      <td>...</td>\n      <td>0.002770</td>\n      <td>0.002766</td>\n      <td>0.002763</td>\n      <td>0.002759</td>\n      <td>0.002755</td>\n      <td>0.002752</td>\n      <td>0.002748</td>\n      <td>0.002745</td>\n      <td>0.002741</td>\n      <td>0.002737</td>\n    </tr>\n    <tr>\n      <th>1</th>\n      <td>0.15</td>\n      <td>0.75</td>\n      <td>169.99</td>\n      <td>0.005615</td>\n      <td>0.005595</td>\n      <td>0.005575</td>\n      <td>0.005556</td>\n      <td>0.005536</td>\n      <td>0.005516</td>\n      <td>0.005497</td>\n      <td>...</td>\n      <td>0.001716</td>\n      <td>0.001708</td>\n      <td>0.001700</td>\n      <td>0.001692</td>\n      <td>0.001684</td>\n      <td>0.001676</td>\n      <td>0.001668</td>\n      <td>0.001660</td>\n      <td>0.001652</td>\n      <td>0.001644</td>\n    </tr>\n    <tr>\n      <th>2</th>\n      <td>0.15</td>\n      <td>0.75</td>\n      <td>299.99</td>\n      <td>0.004491</td>\n      <td>0.004482</td>\n      <td>0.004473</td>\n      <td>0.004464</td>\n      <td>0.004455</td>\n      <td>0.004446</td>\n      <td>0.004437</td>\n      <td>...</td>\n      <td>0.002398</td>\n      <td>0.002392</td>\n      <td>0.002387</td>\n      <td>0.002381</td>\n      <td>0.002375</td>\n      <td>0.002370</td>\n      <td>0.002364</td>\n      <td>0.002359</td>\n      <td>0.002353</td>\n      <td>0.002348</td>\n    </tr>\n    <tr>\n      <th>3</th>\n      <td>0.15</td>\n      <td>0.75</td>\n      <td>89.99</td>\n      <td>0.008598</td>\n      <td>0.008541</td>\n      <td>0.008484</td>\n      <td>0.008427</td>\n      <td>0.008370</td>\n      <td>0.008314</td>\n      <td>0.008258</td>\n      <td>...</td>\n      <td>0.000603</td>\n      <td>0.000595</td>\n      <td>0.000587</td>\n      <td>0.000580</td>\n      <td>0.000572</td>\n      <td>0.000565</td>\n      <td>0.000557</td>\n      <td>0.000550</td>\n      <td>0.000543</td>\n      <td>0.000535</td>\n    </tr>\n    <tr>\n      <th>4</th>\n      <td>0.15</td>\n      <td>0.75</td>\n      <td>59.99</td>\n      <td>0.012513</td>\n      <td>0.012388</td>\n      <td>0.012263</td>\n      <td>0.012140</td>\n      <td>0.012017</td>\n      <td>0.011895</td>\n      <td>0.011775</td>\n      <td>...</td>\n      <td>0.000067</td>\n      <td>0.000064</td>\n      <td>0.000062</td>\n      <td>0.000060</td>\n      <td>0.000057</td>\n      <td>0.000055</td>\n      <td>0.000053</td>\n      <td>0.000051</td>\n      <td>0.000049</td>\n      <td>0.000047</td>\n    </tr>\n    <tr>\n      <th>...</th>\n      <td>...</td>\n      <td>...</td>\n      <td>...</td>\n      <td>...</td>\n      <td>...</td>\n      <td>...</td>\n      <td>...</td>\n      <td>...</td>\n      <td>...</td>\n      <td>...</td>\n      <td>...</td>\n      <td>...</td>\n      <td>...</td>\n      <td>...</td>\n      <td>...</td>\n      <td>...</td>\n      <td>...</td>\n      <td>...</td>\n      <td>...</td>\n      <td>...</td>\n      <td>...</td>\n    </tr>\n    <tr>\n      <th>600</th>\n      <td>0.12</td>\n      <td>0.60</td>\n      <td>359.99</td>\n      <td>0.004068</td>\n      <td>0.004062</td>\n      <td>0.004057</td>\n      <td>0.004051</td>\n      <td>0.004046</td>\n      <td>0.004041</td>\n      <td>0.004035</td>\n      <td>...</td>\n      <td>0.002708</td>\n      <td>0.002704</td>\n      <td>0.002700</td>\n      <td>0.002696</td>\n      <td>0.002692</td>\n      <td>0.002688</td>\n      <td>0.002684</td>\n      <td>0.002680</td>\n      <td>0.002676</td>\n      <td>0.002672</td>\n    </tr>\n    <tr>\n      <th>601</th>\n      <td>0.01</td>\n      <td>0.60</td>\n      <td>1339.00</td>\n      <td>0.003558</td>\n      <td>0.003556</td>\n      <td>0.003555</td>\n      <td>0.003553</td>\n      <td>0.003552</td>\n      <td>0.003550</td>\n      <td>0.003549</td>\n      <td>...</td>\n      <td>0.003131</td>\n      <td>0.003129</td>\n      <td>0.003128</td>\n      <td>0.003126</td>\n      <td>0.003125</td>\n      <td>0.003124</td>\n      <td>0.003122</td>\n      <td>0.003121</td>\n      <td>0.003120</td>\n      <td>0.003118</td>\n    </tr>\n    <tr>\n      <th>602</th>\n      <td>0.01</td>\n      <td>0.60</td>\n      <td>1719.00</td>\n      <td>0.003507</td>\n      <td>0.003506</td>\n      <td>0.003505</td>\n      <td>0.003504</td>\n      <td>0.003503</td>\n      <td>0.003501</td>\n      <td>0.003500</td>\n      <td>...</td>\n      <td>0.003175</td>\n      <td>0.003174</td>\n      <td>0.003173</td>\n      <td>0.003172</td>\n      <td>0.003170</td>\n      <td>0.003169</td>\n      <td>0.003168</td>\n      <td>0.003167</td>\n      <td>0.003166</td>\n      <td>0.003165</td>\n    </tr>\n    <tr>\n      <th>603</th>\n      <td>0.01</td>\n      <td>0.60</td>\n      <td>689.99</td>\n      <td>0.003778</td>\n      <td>0.003775</td>\n      <td>0.003772</td>\n      <td>0.003769</td>\n      <td>0.003765</td>\n      <td>0.003762</td>\n      <td>0.003759</td>\n      <td>...</td>\n      <td>0.002947</td>\n      <td>0.002944</td>\n      <td>0.002942</td>\n      <td>0.002939</td>\n      <td>0.002937</td>\n      <td>0.002934</td>\n      <td>0.002932</td>\n      <td>0.002929</td>\n      <td>0.002927</td>\n      <td>0.002924</td>\n    </tr>\n    <tr>\n      <th>604</th>\n      <td>0.01</td>\n      <td>0.60</td>\n      <td>1018.00</td>\n      <td>0.003631</td>\n      <td>0.003629</td>\n      <td>0.003627</td>\n      <td>0.003625</td>\n      <td>0.003622</td>\n      <td>0.003620</td>\n      <td>0.003618</td>\n      <td>...</td>\n      <td>0.003068</td>\n      <td>0.003066</td>\n      <td>0.003065</td>\n      <td>0.003063</td>\n      <td>0.003061</td>\n      <td>0.003059</td>\n      <td>0.003058</td>\n      <td>0.003056</td>\n      <td>0.003054</td>\n      <td>0.003052</td>\n    </tr>\n  </tbody>\n</table>\n<p>605 rows × 303 columns</p>\n</div>"
     },
     "execution_count": 44,
     "metadata": {},
     "output_type": "execute_result"
    }
   ],
   "source": [
    "data_1"
   ],
   "metadata": {
    "collapsed": false
   }
  },
  {
   "cell_type": "markdown",
   "source": [
    "# 2. 合并与拆分\n",
    "## 2.1 合并大表\n",
    "1. 合并的是target_key+GT的P vector\n",
    "2. 合并之后会多一列`id`，后面会去掉这一列\n",
    "3. 注意：**一定要让`target_data_key`成为左表**，这样连接之后，index可以一一对应"
   ],
   "metadata": {
    "collapsed": false
   }
  },
  {
   "cell_type": "code",
   "execution_count": 45,
   "outputs": [
    {
     "data": {
      "text/plain": "   id  bidincrement  bidfee  retail\n0   0          0.15    0.75  499.99\n1   1          0.15    0.75  169.99\n2   2          0.15    0.75  299.99\n3   3          0.15    0.75   89.99\n4   5          0.15    0.75   59.99",
      "text/html": "<div>\n<style scoped>\n    .dataframe tbody tr th:only-of-type {\n        vertical-align: middle;\n    }\n\n    .dataframe tbody tr th {\n        vertical-align: top;\n    }\n\n    .dataframe thead th {\n        text-align: right;\n    }\n</style>\n<table border=\"1\" class=\"dataframe\">\n  <thead>\n    <tr style=\"text-align: right;\">\n      <th></th>\n      <th>id</th>\n      <th>bidincrement</th>\n      <th>bidfee</th>\n      <th>retail</th>\n    </tr>\n  </thead>\n  <tbody>\n    <tr>\n      <th>0</th>\n      <td>0</td>\n      <td>0.15</td>\n      <td>0.75</td>\n      <td>499.99</td>\n    </tr>\n    <tr>\n      <th>1</th>\n      <td>1</td>\n      <td>0.15</td>\n      <td>0.75</td>\n      <td>169.99</td>\n    </tr>\n    <tr>\n      <th>2</th>\n      <td>2</td>\n      <td>0.15</td>\n      <td>0.75</td>\n      <td>299.99</td>\n    </tr>\n    <tr>\n      <th>3</th>\n      <td>3</td>\n      <td>0.15</td>\n      <td>0.75</td>\n      <td>89.99</td>\n    </tr>\n    <tr>\n      <th>4</th>\n      <td>5</td>\n      <td>0.15</td>\n      <td>0.75</td>\n      <td>59.99</td>\n    </tr>\n  </tbody>\n</table>\n</div>"
     },
     "execution_count": 45,
     "metadata": {},
     "output_type": "execute_result"
    }
   ],
   "source": [
    "target_data_key.head()"
   ],
   "metadata": {
    "collapsed": false
   }
  },
  {
   "cell_type": "code",
   "execution_count": 46,
   "outputs": [
    {
     "data": {
      "text/plain": "(        id  bidincrement  bidfee   retail         0         1         2  \\\n 0        0          0.15    0.75   499.99  0.003988  0.003983  0.003978   \n 1        1          0.15    0.75   169.99  0.005615  0.005595  0.005575   \n 2        2          0.15    0.75   299.99  0.004491  0.004482  0.004473   \n 3        3          0.15    0.75    89.99  0.008598  0.008541  0.008484   \n 4        5          0.15    0.75    59.99  0.012513  0.012388  0.012263   \n ...    ...           ...     ...      ...       ...       ...       ...   \n 1191  1720          0.12    0.60   379.99  0.004025  0.004020  0.004015   \n 1192  1721          0.12    0.60    46.99  0.012777  0.012646  0.012516   \n 1193  1723          0.01    0.60  1719.00  0.003507  0.003506  0.003505   \n 1194  1740          0.12    0.60   429.99  0.003938  0.003934  0.003930   \n 1195  1748          0.01    0.60  1018.00  0.003631  0.003629  0.003627   \n \n              3         4         5  ...       290       291       292  \\\n 0     0.003973  0.003969  0.003964  ...  0.002770  0.002766  0.002763   \n 1     0.005556  0.005536  0.005516  ...  0.001716  0.001708  0.001700   \n 2     0.004464  0.004455  0.004446  ...  0.002398  0.002392  0.002387   \n 3     0.008427  0.008370  0.008314  ...  0.000603  0.000595  0.000587   \n 4     0.012140  0.012017  0.011895  ...  0.000067  0.000064  0.000062   \n ...        ...       ...       ...  ...       ...       ...       ...   \n 1191  0.004010  0.004005  0.004000  ...  0.002740  0.002737  0.002733   \n 1192  0.012387  0.012260  0.012133  ...  0.000054  0.000052  0.000050   \n 1193  0.003504  0.003503  0.003501  ...  0.003175  0.003174  0.003173   \n 1194  0.003925  0.003921  0.003916  ...  0.002809  0.002806  0.002802   \n 1195  0.003625  0.003622  0.003620  ...  0.003068  0.003066  0.003065   \n \n            293       294       295       296       297       298       299  \n 0     0.002759  0.002755  0.002752  0.002748  0.002745  0.002741  0.002737  \n 1     0.001692  0.001684  0.001676  0.001668  0.001660  0.001652  0.001644  \n 2     0.002381  0.002375  0.002370  0.002364  0.002359  0.002353  0.002348  \n 3     0.000580  0.000572  0.000565  0.000557  0.000550  0.000543  0.000535  \n 4     0.000060  0.000057  0.000055  0.000053  0.000051  0.000049  0.000047  \n ...        ...       ...       ...       ...       ...       ...       ...  \n 1191  0.002729  0.002725  0.002721  0.002718  0.002714  0.002710  0.002706  \n 1192  0.000048  0.000046  0.000044  0.000042  0.000040  0.000038  0.000037  \n 1193  0.003172  0.003170  0.003169  0.003168  0.003167  0.003166  0.003165  \n 1194  0.002799  0.002796  0.002792  0.002789  0.002785  0.002782  0.002779  \n 1195  0.003063  0.003061  0.003059  0.003058  0.003056  0.003054  0.003052  \n \n [1196 rows x 304 columns],\n (1196, 304),\n False)"
     },
     "execution_count": 46,
     "metadata": {},
     "output_type": "execute_result"
    }
   ],
   "source": [
    "GT_1_withid= pd.merge(target_data_key,data_1,how=\"left\",on=GT_features)\n",
    "GT_1_withid,GT_1_withid.shape,np.any(pd.isna(GT_1_withid))"
   ],
   "metadata": {
    "collapsed": false
   }
  },
  {
   "cell_type": "code",
   "execution_count": 47,
   "outputs": [
    {
     "data": {
      "text/plain": "(   id  bidincrement  bidfee  retail         0         1         2         3  \\\n 0   0          0.15    0.75  499.99  0.001190  0.001197  0.001204  0.001212   \n 1   1          0.15    0.75  169.99  0.004120  0.004129  0.004137  0.004145   \n 2   2          0.15    0.75  299.99  0.001548  0.001557  0.001565  0.001574   \n 3   3          0.15    0.75   89.99  0.014231  0.014097  0.013964  0.013831   \n 4   5          0.15    0.75   59.99  0.026807  0.026188  0.025580  0.024982   \n \n           4         5  ...           290           291           292  \\\n 0  0.001219  0.001227  ...  6.739960e-03  6.779261e-03  6.818779e-03   \n 1  0.004153  0.004161  ...  1.316296e-03  1.302101e-03  1.288004e-03   \n 2  0.001582  0.001591  ...  5.199096e-03  5.209410e-03  5.219623e-03   \n 3  0.013697  0.013564  ...  4.994846e-05  4.879520e-05  4.766925e-05   \n 4  0.024395  0.023818  ...  4.603279e-31  1.240681e-31  3.296644e-32   \n \n             293           294           295           296           297  \\\n 0  6.858513e-03  6.898465e-03  6.938636e-03  6.979027e-03  7.019640e-03   \n 1  1.274006e-03  1.260108e-03  1.246308e-03  1.232608e-03  1.219008e-03   \n 2  5.229736e-03  5.239746e-03  5.249653e-03  5.259455e-03  5.269152e-03   \n 3  4.656995e-05  4.549665e-05  4.444875e-05  4.342564e-05  4.303246e-05   \n 4  8.635272e-33  2.229693e-33  5.674800e-34  1.423519e-34  3.519272e-35   \n \n             298           299  \n 0  7.060475e-03  7.101532e-03  \n 1  1.205509e-03  1.192109e-03  \n 2  5.278742e-03  5.288224e-03  \n 3  5.966552e-05  7.456893e-05  \n 4  8.574078e-36  2.058422e-36  \n \n [5 rows x 304 columns],\n (1196, 304),\n False)"
     },
     "execution_count": 47,
     "metadata": {},
     "output_type": "execute_result"
    }
   ],
   "source": [
    "GT_2_withid= pd.merge(target_data_key,data_2,how=\"left\",on=GT_features)\n",
    "GT_2_withid.head(),GT_2_withid.shape,np.any(pd.isna(GT_1_withid))"
   ],
   "metadata": {
    "collapsed": false
   }
  },
  {
   "cell_type": "markdown",
   "source": [
    "## 2.2 拆分小表与保存\n"
   ],
   "metadata": {
    "collapsed": false
   }
  },
  {
   "cell_type": "code",
   "execution_count": 48,
   "outputs": [
    {
     "name": "stdout",
     "output_type": "stream",
     "text": [
      "1196 1196 907\n",
      "304 304 62\n"
     ]
    }
   ],
   "source": [
    "print(GT_1_withid.shape[0],GT_2_withid.shape[0],prod_embedding.shape[0])\n",
    "print(GT_1_withid.shape[1],GT_2_withid.shape[1],prod_embedding.shape[1])\n",
    "assert GT_1_withid.shape[0]==GT_2_withid.shape[0],\"wrong!\""
   ],
   "metadata": {
    "collapsed": false
   }
  },
  {
   "cell_type": "markdown",
   "source": [
    "1. 把大表按照unique_features分成小表，\n",
    "2. 小表里按照'id'，merge进去embedding的信息,然后删除'id'列，输出保存"
   ],
   "metadata": {
    "collapsed": false
   }
  },
  {
   "cell_type": "code",
   "execution_count": 49,
   "outputs": [
    {
     "data": {
      "text/plain": "(     0    1    2    3    4\n 0  0.2  0.4  0.6  0.8  1.0\n 1  1.2  1.4  1.6  1.8  2.0,\n 5)"
     },
     "execution_count": 49,
     "metadata": {},
     "output_type": "execute_result"
    }
   ],
   "source": [
    "df1 = pd.DataFrame([[1,2,3,4,5],[6,7,8,9,10]])\n",
    "sum1 = np.sum(df1.iloc[0,1:1+2])\n",
    "df1 = df1/sum1\n",
    "df1, sum1"
   ],
   "metadata": {
    "collapsed": false
   }
  },
  {
   "cell_type": "code",
   "execution_count": 50,
   "outputs": [
    {
     "name": "stderr",
     "output_type": "stream",
     "text": [
      "100%|██████████| 1196/1196 [00:03<00:00, 361.65it/s]"
     ]
    },
    {
     "name": "stdout",
     "output_type": "stream",
     "text": [
      "Done\n"
     ]
    },
    {
     "name": "stderr",
     "output_type": "stream",
     "text": [
      "\n"
     ]
    }
   ],
   "source": [
    "LEN = 300\n",
    "train_col = [str(i) for i in range(0,LEN)]\n",
    "\n",
    "for i in tqdm(range(0,GT_1_withid.shape[0])):\n",
    "\n",
    "    # 保存'id'\n",
    "    id = GT_1_withid.loc[i,'id']\n",
    "    # # 用LEN=300的data经过归一化变成LEN100\n",
    "    # scale_sum_1 = np.sum(GT_1_withid.iloc[i,4:4+LEN])\n",
    "    # scale_sum_2 = np.sum(GT_2_withid.iloc[i,4:4+LEN])\n",
    "    # GT_1_withid_LEN = GT_1_withid.iloc[i,4:4+LEN]/scale_sum_1\n",
    "    # GT_12_withid_LEN = GT_2_withid.iloc[i,4:4+LEN]/scale_sum_2\n",
    "    #\n",
    "    # train_tmp = pd.concat([pd.DataFrame(GT_1_withid_LEN).T,\n",
    "    #                     pd.DataFrame(GT_1_withid_LEN).T],\n",
    "    #                     ignore_index=True)\n",
    "\n",
    "    train_tmp = pd.concat([pd.DataFrame(GT_1_withid.iloc[i,:]).T,\n",
    "                            pd.DataFrame(GT_2_withid.iloc[i,:]).T],\n",
    "                            ignore_index=True)\n",
    "    # drop一些列，保持长度相等（LEN）\n",
    "    train_tmp.drop(['id','bidincrement','bidfee','retail'],axis=1,inplace=True)\n",
    "\n",
    "    # 按照'id'列找到embedding信息\n",
    "    embedding = prod_embedding[prod_embedding['id'] == id].copy()\n",
    "    # drop一些列，保持长度相等(LEN)\n",
    "    embedding.drop(['id','desc'],axis=1,inplace=True)\n",
    "    # 重命名，避免合并出问题\n",
    "    train_tmp.columns = train_col\n",
    "    # 合并\n",
    "    train_pd = pd.concat([train_tmp,pd.DataFrame(embedding)], ignore_index=True)\n",
    "    # save\n",
    "    output_path = train_root_path+train_file_head+ str(i).zfill(4) + train_file_tail\n",
    "    train_pd.to_csv(output_path,header=True,index=False,encoding=\"utf-8\")\n",
    "\n",
    "print(\"Done\")"
   ],
   "metadata": {
    "collapsed": false
   }
  },
  {
   "cell_type": "markdown",
   "source": [
    "## 2.3 拆分小表与保存【LEN<300】\n",
    "1. 缩小training data的粒度\n",
    "    - scale=3时相当于LEN=100\n",
    "2. 是在原LEN=300的基础上进行的，必须读入GT长度为300的那2个表+长度为新粒度的embedding表"
   ],
   "metadata": {
    "collapsed": false
   }
  },
  {
   "cell_type": "code",
   "execution_count": 51,
   "outputs": [],
   "source": [
    "def rescale(data,SCALE):\n",
    "    assert data.shape[1]==300,\"!=300\"\n",
    "    data_new = pd.DataFrame()\n",
    "    for i in range(0,data.shape[1],SCALE):\n",
    "        if(i+SCALE<=data.shape[1]):  # 说明可以add SCALE个值\n",
    "            tmp = np.sum(data.iloc[:,i:i+SCALE],axis=1)\n",
    "        else:  # 加不够SCALE个值\n",
    "            tmp = np.sum(data.iloc[:,i:],axis=1)\n",
    "        # 拼接起来\n",
    "        data_new = pd.concat([data_new,tmp],axis=1)\n",
    "    assert data_new.shape[0] == data.shape[0],\"Shape不等\"\n",
    "\n",
    "    return data_new"
   ],
   "metadata": {
    "collapsed": false
   }
  },
  {
   "cell_type": "code",
   "execution_count": 52,
   "outputs": [
    {
     "name": "stdout",
     "output_type": "stream",
     "text": [
      "SCALE=5, LEN=60\n"
     ]
    },
    {
     "name": "stderr",
     "output_type": "stream",
     "text": [
      "100%|██████████| 1196/1196 [00:35<00:00, 33.58it/s]"
     ]
    },
    {
     "name": "stdout",
     "output_type": "stream",
     "text": [
      "Done\n",
      "../data/train_60/\n"
     ]
    },
    {
     "name": "stderr",
     "output_type": "stream",
     "text": [
      "\n"
     ]
    }
   ],
   "source": [
    "SCALE = 5\n",
    "LEN = np.ceil(300/SCALE).astype(int)\n",
    "\n",
    "print(f\"SCALE={SCALE}, LEN={LEN}\")\n",
    "\n",
    "train_col = [str(i) for i in range(0,LEN)]\n",
    "\n",
    "for i in tqdm(range(0,GT_1_withid.shape[0])):\n",
    "\n",
    "    # 保存'id'\n",
    "    id = GT_1_withid.loc[i,'id']\n",
    "    # 先合并GT data\n",
    "    train_tmp = pd.concat([pd.DataFrame(GT_1_withid.iloc[i,:]).T,\n",
    "                            pd.DataFrame(GT_2_withid.iloc[i,:]).T],\n",
    "                            ignore_index=True)\n",
    "\n",
    "    # drop一些列，保持长度相等（LEN）\n",
    "    train_tmp.drop(['id','bidincrement','bidfee','retail'],axis=1,inplace=True)\n",
    "    # 执行Rescale\n",
    "    scaled_data = rescale(train_tmp,SCALE)\n",
    "\n",
    "    # 按照'id'列找到embedding信息\n",
    "    embedding = prod_embedding[prod_embedding['id'] == id].copy()\n",
    "    # drop一些列，保持长度相等(LEN)\n",
    "    embedding.drop(['id','desc'],axis=1,inplace=True)\n",
    "    # 重命名，避免合并出问题\n",
    "    scaled_data.columns = train_col\n",
    "    # 合并\n",
    "    train_pd = pd.concat([scaled_data,pd.DataFrame(embedding)], ignore_index=True)\n",
    "    # save\n",
    "    output_path = train_root_path+train_file_head+ str(i).zfill(4) + train_file_tail\n",
    "    train_pd.to_csv(output_path,header=True,index=False,encoding=\"utf-8\")\n",
    "\n",
    "print(\"Done\")\n",
    "print(train_root_path)"
   ],
   "metadata": {
    "collapsed": false
   }
  },
  {
   "cell_type": "code",
   "execution_count": null,
   "outputs": [],
   "source": [],
   "metadata": {
    "collapsed": false
   }
  }
 ],
 "metadata": {
  "kernelspec": {
   "display_name": "Python 3",
   "language": "python",
   "name": "python3"
  },
  "language_info": {
   "codemirror_mode": {
    "name": "ipython",
    "version": 2
   },
   "file_extension": ".py",
   "mimetype": "text/x-python",
   "name": "python",
   "nbconvert_exporter": "python",
   "pygments_lexer": "ipython2",
   "version": "2.7.6"
  }
 },
 "nbformat": 4,
 "nbformat_minor": 0
}
