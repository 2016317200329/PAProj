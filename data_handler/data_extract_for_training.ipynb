{
 "cells": [
  {
   "cell_type": "code",
   "execution_count": 101,
   "metadata": {
    "collapsed": true
   },
   "outputs": [],
   "source": [
    "#!/usr/bin/env python\n",
    "# -*- coding: utf-8 -*-\n",
    "# @Time    : 2022/11/25 14:22\n",
    "# @Author  : Wang Yujia\n",
    "# @File    : data_extract_for_training.ipynb\n",
    "# @Description : 为了training data分别提取csv并保存"
   ]
  },
  {
   "cell_type": "markdown",
   "source": [
    "# 1. Preparations\n",
    "## 1.1 全局设置\n",
    "1. output一共`data_key.shape[0]`个文件"
   ],
   "metadata": {
    "collapsed": false
   }
  },
  {
   "cell_type": "code",
   "execution_count": 135,
   "outputs": [],
   "source": [
    "# input data\n",
    "GT_1_data_path = \"../data/info_asymm/results/asc_symmetry/GT_asc_symmetry_P2_K=300.csv\"\n",
    "GT_2_data_path = \"../data/SA_PT/results/PT_oneforall_P_K=300.csv\"\n",
    "prod_embedding_output_path = \"../data/prod_embedding.csv\"\n",
    "target_data_key_path = \"../data/targets/target_datakey.csv\"\n",
    "\n",
    "\n",
    "# output path\n",
    "train_root_path= \"../data/train/\"\n",
    "train_file_head = \"train_data_NP_\"\n",
    "train_file_tail= \".csv\"\n",
    "train_data_key_path = target_data_key_path\n",
    "\n",
    "unique_features = ['id', 'bidincrement', 'bidfee','retail']\n",
    "GT_features = ['bidincrement', 'bidfee','retail']\n",
    "prod_embedding_features = ['id']\n",
    "\n",
    "import pandas as pd\n",
    "import numpy as np\n",
    "from tqdm import tqdm"
   ],
   "metadata": {
    "collapsed": false
   }
  },
  {
   "cell_type": "markdown",
   "source": [
    "## 1.2 data读取与保存data_key"
   ],
   "metadata": {
    "collapsed": false
   }
  },
  {
   "cell_type": "code",
   "execution_count": 103,
   "outputs": [
    {
     "name": "stdout",
     "output_type": "stream",
     "text": [
      "(605, 303) (605, 303) (1196, 4)\n"
     ]
    }
   ],
   "source": [
    "data_1 = pd.read_csv(GT_1_data_path, encoding=\"utf-8\")\n",
    "data_2 = pd.read_csv(GT_2_data_path, encoding=\"utf-8\")\n",
    "prod_embedding = pd.read_csv(prod_embedding_output_path,encoding=\"utf-8\")\n",
    "target_data_key = pd.read_csv(target_data_key_path,encoding=\"utf-8\")\n",
    "\n",
    "print(data_1.shape,data_2.shape,target_data_key.shape)\n",
    "\n",
    "assert data_1.shape==data_2.shape,\"Wrong\""
   ],
   "metadata": {
    "collapsed": false
   }
  },
  {
   "cell_type": "code",
   "execution_count": 104,
   "outputs": [
    {
     "data": {
      "text/plain": "   bidincrement  bidfee  retail         0         1         2         3  \\\n0          0.15    0.75  499.99  0.003988  0.003983  0.003978  0.003973   \n1          0.15    0.75  169.99  0.005615  0.005595  0.005575  0.005556   \n2          0.15    0.75  299.99  0.004491  0.004482  0.004473  0.004464   \n3          0.15    0.75   89.99  0.008598  0.008541  0.008484  0.008427   \n4          0.15    0.75   59.99  0.012513  0.012388  0.012263  0.012140   \n\n          4         5         6  ...       290       291       292       293  \\\n0  0.003969  0.003964  0.003959  ...  0.002770  0.002766  0.002763  0.002759   \n1  0.005536  0.005516  0.005497  ...  0.001716  0.001708  0.001700  0.001692   \n2  0.004455  0.004446  0.004437  ...  0.002398  0.002392  0.002387  0.002381   \n3  0.008370  0.008314  0.008258  ...  0.000603  0.000595  0.000587  0.000580   \n4  0.012017  0.011895  0.011775  ...  0.000067  0.000064  0.000062  0.000060   \n\n        294       295       296       297       298       299  \n0  0.002755  0.002752  0.002748  0.002745  0.002741  0.002737  \n1  0.001684  0.001676  0.001668  0.001660  0.001652  0.001644  \n2  0.002375  0.002370  0.002364  0.002359  0.002353  0.002348  \n3  0.000572  0.000565  0.000557  0.000550  0.000543  0.000535  \n4  0.000057  0.000055  0.000053  0.000051  0.000049  0.000047  \n\n[5 rows x 303 columns]",
      "text/html": "<div>\n<style scoped>\n    .dataframe tbody tr th:only-of-type {\n        vertical-align: middle;\n    }\n\n    .dataframe tbody tr th {\n        vertical-align: top;\n    }\n\n    .dataframe thead th {\n        text-align: right;\n    }\n</style>\n<table border=\"1\" class=\"dataframe\">\n  <thead>\n    <tr style=\"text-align: right;\">\n      <th></th>\n      <th>bidincrement</th>\n      <th>bidfee</th>\n      <th>retail</th>\n      <th>0</th>\n      <th>1</th>\n      <th>2</th>\n      <th>3</th>\n      <th>4</th>\n      <th>5</th>\n      <th>6</th>\n      <th>...</th>\n      <th>290</th>\n      <th>291</th>\n      <th>292</th>\n      <th>293</th>\n      <th>294</th>\n      <th>295</th>\n      <th>296</th>\n      <th>297</th>\n      <th>298</th>\n      <th>299</th>\n    </tr>\n  </thead>\n  <tbody>\n    <tr>\n      <th>0</th>\n      <td>0.15</td>\n      <td>0.75</td>\n      <td>499.99</td>\n      <td>0.003988</td>\n      <td>0.003983</td>\n      <td>0.003978</td>\n      <td>0.003973</td>\n      <td>0.003969</td>\n      <td>0.003964</td>\n      <td>0.003959</td>\n      <td>...</td>\n      <td>0.002770</td>\n      <td>0.002766</td>\n      <td>0.002763</td>\n      <td>0.002759</td>\n      <td>0.002755</td>\n      <td>0.002752</td>\n      <td>0.002748</td>\n      <td>0.002745</td>\n      <td>0.002741</td>\n      <td>0.002737</td>\n    </tr>\n    <tr>\n      <th>1</th>\n      <td>0.15</td>\n      <td>0.75</td>\n      <td>169.99</td>\n      <td>0.005615</td>\n      <td>0.005595</td>\n      <td>0.005575</td>\n      <td>0.005556</td>\n      <td>0.005536</td>\n      <td>0.005516</td>\n      <td>0.005497</td>\n      <td>...</td>\n      <td>0.001716</td>\n      <td>0.001708</td>\n      <td>0.001700</td>\n      <td>0.001692</td>\n      <td>0.001684</td>\n      <td>0.001676</td>\n      <td>0.001668</td>\n      <td>0.001660</td>\n      <td>0.001652</td>\n      <td>0.001644</td>\n    </tr>\n    <tr>\n      <th>2</th>\n      <td>0.15</td>\n      <td>0.75</td>\n      <td>299.99</td>\n      <td>0.004491</td>\n      <td>0.004482</td>\n      <td>0.004473</td>\n      <td>0.004464</td>\n      <td>0.004455</td>\n      <td>0.004446</td>\n      <td>0.004437</td>\n      <td>...</td>\n      <td>0.002398</td>\n      <td>0.002392</td>\n      <td>0.002387</td>\n      <td>0.002381</td>\n      <td>0.002375</td>\n      <td>0.002370</td>\n      <td>0.002364</td>\n      <td>0.002359</td>\n      <td>0.002353</td>\n      <td>0.002348</td>\n    </tr>\n    <tr>\n      <th>3</th>\n      <td>0.15</td>\n      <td>0.75</td>\n      <td>89.99</td>\n      <td>0.008598</td>\n      <td>0.008541</td>\n      <td>0.008484</td>\n      <td>0.008427</td>\n      <td>0.008370</td>\n      <td>0.008314</td>\n      <td>0.008258</td>\n      <td>...</td>\n      <td>0.000603</td>\n      <td>0.000595</td>\n      <td>0.000587</td>\n      <td>0.000580</td>\n      <td>0.000572</td>\n      <td>0.000565</td>\n      <td>0.000557</td>\n      <td>0.000550</td>\n      <td>0.000543</td>\n      <td>0.000535</td>\n    </tr>\n    <tr>\n      <th>4</th>\n      <td>0.15</td>\n      <td>0.75</td>\n      <td>59.99</td>\n      <td>0.012513</td>\n      <td>0.012388</td>\n      <td>0.012263</td>\n      <td>0.012140</td>\n      <td>0.012017</td>\n      <td>0.011895</td>\n      <td>0.011775</td>\n      <td>...</td>\n      <td>0.000067</td>\n      <td>0.000064</td>\n      <td>0.000062</td>\n      <td>0.000060</td>\n      <td>0.000057</td>\n      <td>0.000055</td>\n      <td>0.000053</td>\n      <td>0.000051</td>\n      <td>0.000049</td>\n      <td>0.000047</td>\n    </tr>\n  </tbody>\n</table>\n<p>5 rows × 303 columns</p>\n</div>"
     },
     "execution_count": 104,
     "metadata": {},
     "output_type": "execute_result"
    }
   ],
   "source": [
    "data_1.head()"
   ],
   "metadata": {
    "collapsed": false
   }
  },
  {
   "cell_type": "markdown",
   "source": [
    "# 2. 合并与拆分\n",
    "## 2.1 合并大表\n",
    "1. 合并的是target_key+GT的P vector\n",
    "2. 合并之后会多一列`id`，后面会去掉这一列\n",
    "3. 注意：**一定要让`target_data_key`成为左表**，这样连接之后，index可以一一对应"
   ],
   "metadata": {
    "collapsed": false
   }
  },
  {
   "cell_type": "code",
   "execution_count": 105,
   "outputs": [
    {
     "data": {
      "text/plain": "   id  bidincrement  bidfee  retail\n0   0          0.15    0.75  499.99\n1   1          0.15    0.75  169.99\n2   2          0.15    0.75  299.99\n3   3          0.15    0.75   89.99\n4   5          0.15    0.75   59.99",
      "text/html": "<div>\n<style scoped>\n    .dataframe tbody tr th:only-of-type {\n        vertical-align: middle;\n    }\n\n    .dataframe tbody tr th {\n        vertical-align: top;\n    }\n\n    .dataframe thead th {\n        text-align: right;\n    }\n</style>\n<table border=\"1\" class=\"dataframe\">\n  <thead>\n    <tr style=\"text-align: right;\">\n      <th></th>\n      <th>id</th>\n      <th>bidincrement</th>\n      <th>bidfee</th>\n      <th>retail</th>\n    </tr>\n  </thead>\n  <tbody>\n    <tr>\n      <th>0</th>\n      <td>0</td>\n      <td>0.15</td>\n      <td>0.75</td>\n      <td>499.99</td>\n    </tr>\n    <tr>\n      <th>1</th>\n      <td>1</td>\n      <td>0.15</td>\n      <td>0.75</td>\n      <td>169.99</td>\n    </tr>\n    <tr>\n      <th>2</th>\n      <td>2</td>\n      <td>0.15</td>\n      <td>0.75</td>\n      <td>299.99</td>\n    </tr>\n    <tr>\n      <th>3</th>\n      <td>3</td>\n      <td>0.15</td>\n      <td>0.75</td>\n      <td>89.99</td>\n    </tr>\n    <tr>\n      <th>4</th>\n      <td>5</td>\n      <td>0.15</td>\n      <td>0.75</td>\n      <td>59.99</td>\n    </tr>\n  </tbody>\n</table>\n</div>"
     },
     "execution_count": 105,
     "metadata": {},
     "output_type": "execute_result"
    }
   ],
   "source": [
    "target_data_key.head()"
   ],
   "metadata": {
    "collapsed": false
   }
  },
  {
   "cell_type": "code",
   "execution_count": 106,
   "outputs": [
    {
     "data": {
      "text/plain": "(   id  bidincrement  bidfee  retail         0         1         2         3  \\\n 0   0          0.15    0.75  499.99  0.003988  0.003983  0.003978  0.003973   \n 1   1          0.15    0.75  169.99  0.005615  0.005595  0.005575  0.005556   \n 2   2          0.15    0.75  299.99  0.004491  0.004482  0.004473  0.004464   \n 3   3          0.15    0.75   89.99  0.008598  0.008541  0.008484  0.008427   \n 4   5          0.15    0.75   59.99  0.012513  0.012388  0.012263  0.012140   \n \n           4         5  ...       290       291       292       293       294  \\\n 0  0.003969  0.003964  ...  0.002770  0.002766  0.002763  0.002759  0.002755   \n 1  0.005536  0.005516  ...  0.001716  0.001708  0.001700  0.001692  0.001684   \n 2  0.004455  0.004446  ...  0.002398  0.002392  0.002387  0.002381  0.002375   \n 3  0.008370  0.008314  ...  0.000603  0.000595  0.000587  0.000580  0.000572   \n 4  0.012017  0.011895  ...  0.000067  0.000064  0.000062  0.000060  0.000057   \n \n         295       296       297       298       299  \n 0  0.002752  0.002748  0.002745  0.002741  0.002737  \n 1  0.001676  0.001668  0.001660  0.001652  0.001644  \n 2  0.002370  0.002364  0.002359  0.002353  0.002348  \n 3  0.000565  0.000557  0.000550  0.000543  0.000535  \n 4  0.000055  0.000053  0.000051  0.000049  0.000047  \n \n [5 rows x 304 columns],\n (1196, 304))"
     },
     "execution_count": 106,
     "metadata": {},
     "output_type": "execute_result"
    }
   ],
   "source": [
    "GT_1_withid= pd.merge(target_data_key,data_1,how=\"left\",on=GT_features)\n",
    "GT_1_withid.head(),GT_1_withid.shape"
   ],
   "metadata": {
    "collapsed": false
   }
  },
  {
   "cell_type": "code",
   "execution_count": 107,
   "outputs": [
    {
     "data": {
      "text/plain": "(   id  bidincrement  bidfee  retail         0         1         2         3  \\\n 0   0          0.15    0.75  499.99  0.001190  0.001197  0.001204  0.001212   \n 1   1          0.15    0.75  169.99  0.004120  0.004129  0.004137  0.004145   \n 2   2          0.15    0.75  299.99  0.001548  0.001557  0.001565  0.001574   \n 3   3          0.15    0.75   89.99  0.014231  0.014097  0.013964  0.013831   \n 4   5          0.15    0.75   59.99  0.026807  0.026188  0.025580  0.024982   \n \n           4         5  ...           290           291           292  \\\n 0  0.001219  0.001227  ...  6.739960e-03  6.779261e-03  6.818779e-03   \n 1  0.004153  0.004161  ...  1.316296e-03  1.302101e-03  1.288004e-03   \n 2  0.001582  0.001591  ...  5.199096e-03  5.209410e-03  5.219623e-03   \n 3  0.013697  0.013564  ...  4.994846e-05  4.879520e-05  4.766925e-05   \n 4  0.024395  0.023818  ...  4.603279e-31  1.240681e-31  3.296644e-32   \n \n             293           294           295           296           297  \\\n 0  6.858513e-03  6.898465e-03  6.938636e-03  6.979027e-03  7.019640e-03   \n 1  1.274006e-03  1.260108e-03  1.246308e-03  1.232608e-03  1.219008e-03   \n 2  5.229736e-03  5.239746e-03  5.249653e-03  5.259455e-03  5.269152e-03   \n 3  4.656995e-05  4.549665e-05  4.444875e-05  4.342564e-05  4.303246e-05   \n 4  8.635272e-33  2.229693e-33  5.674800e-34  1.423519e-34  3.519272e-35   \n \n             298           299  \n 0  7.060475e-03  7.101532e-03  \n 1  1.205509e-03  1.192109e-03  \n 2  5.278742e-03  5.288224e-03  \n 3  5.966552e-05  7.456893e-05  \n 4  8.574078e-36  2.058422e-36  \n \n [5 rows x 304 columns],\n (1196, 304))"
     },
     "execution_count": 107,
     "metadata": {},
     "output_type": "execute_result"
    }
   ],
   "source": [
    "GT_2_withid= pd.merge(target_data_key,data_2,how=\"left\",on=GT_features)\n",
    "GT_2_withid.head(),GT_2_withid.shape"
   ],
   "metadata": {
    "collapsed": false
   }
  },
  {
   "cell_type": "markdown",
   "source": [
    "## 2.2 拆分小表与保存\n",
    "\n"
   ],
   "metadata": {
    "collapsed": false
   }
  },
  {
   "cell_type": "code",
   "execution_count": 133,
   "outputs": [
    {
     "name": "stdout",
     "output_type": "stream",
     "text": [
      "1196 1196 907\n",
      "304 304 305\n"
     ]
    }
   ],
   "source": [
    "print(GT_1_withid.shape[0],GT_2_withid.shape[0],prod_embedding.shape[0])\n",
    "print(GT_1_withid.shape[1],GT_2_withid.shape[1],prod_embedding.shape[1])\n",
    "assert GT_1_withid.shape[0]==GT_2_withid.shape[0],\"wrong!\""
   ],
   "metadata": {
    "collapsed": false
   }
  },
  {
   "cell_type": "markdown",
   "source": [
    "1. 把大表按照unique_features分成小表，\n",
    "2. 小表里按照'id'，merge进去embedding的信息,然后删除'id'列，输出保存"
   ],
   "metadata": {
    "collapsed": false
   }
  },
  {
   "cell_type": "code",
   "execution_count": 136,
   "outputs": [],
   "source": [
    "train_col = [str(i) for i in range(0,GT_1_withid.shape[1]-1)]\n",
    "for i in tqdm(range(0,GT_1_withid.shape[0])):\n",
    "    train_tmp = pd.concat([pd.DataFrame(GT_1_withid.iloc[i,:]).T,pd.DataFrame(GT_2_withid.iloc[i,:]).T], ignore_index=True)\n",
    "    # 保存'id'\n",
    "    id = GT_1_withid.loc[i,'id']\n",
    "    # drop'id'列，保持长度相等\n",
    "    train_tmp.drop('id',axis=1,inplace=True)\n",
    "    # 按照'id'列找到embedding信息\n",
    "    embedding = prod_embedding[prod_embedding['id'] == id].copy()\n",
    "    # drop['id','desc']列，保持长度相等\n",
    "    embedding.drop(['id','desc'],axis=1,inplace=True)\n",
    "    # 重命名，避免合并出问题\n",
    "    train_tmp.columns = train_col\n",
    "    # 合并\n",
    "    train_pd = pd.concat([train_tmp,pd.DataFrame(embedding)], ignore_index=True)\n",
    "    # print(train_pd.shape)\n",
    "\n",
    "    # save\n",
    "    output_path = train_root_path+train_file_head+ str(i) + train_file_tail\n",
    "    train_pd.to_csv(output_path,header=True,index=False,encoding=\"utf-8\")\n",
    "\n",
    "print(\"Done\")"
   ],
   "metadata": {
    "collapsed": false
   }
  },
  {
   "cell_type": "code",
   "execution_count": null,
   "outputs": [],
   "source": [],
   "metadata": {
    "collapsed": false
   }
  }
 ],
 "metadata": {
  "kernelspec": {
   "display_name": "Python 3",
   "language": "python",
   "name": "python3"
  },
  "language_info": {
   "codemirror_mode": {
    "name": "ipython",
    "version": 2
   },
   "file_extension": ".py",
   "mimetype": "text/x-python",
   "name": "python",
   "nbconvert_exporter": "python",
   "pygments_lexer": "ipython2",
   "version": "2.7.6"
  }
 },
 "nbformat": 4,
 "nbformat_minor": 0
}
