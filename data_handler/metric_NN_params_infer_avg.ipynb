{
 "cells": [
  {
   "cell_type": "markdown",
   "source": [
    "1. 用avg on training set作为testing set的param value值\n",
    "2. 然后计算testing set的metric"
   ],
   "metadata": {
    "collapsed": false
   }
  },
  {
   "cell_type": "code",
   "execution_count": 157,
   "outputs": [],
   "source": [
    "import torch\n",
    "import numpy as np\n",
    "import random\n",
    "import pandas as pd\n",
    "import os\n",
    "from tqdm import tqdm\n",
    "from metric_for_GTs_func import *\n",
    "\n",
    "\n",
    "ARTIFICIAL = True\n",
    "noise_pct = 0.05\n",
    "\n",
    "if ARTIFICIAL:\n",
    "    target_path = \"../data/artificial_targets_v2_\" + \"noise=\" + str(noise_pct)\n",
    "    # SA 的 params\n",
    "    params_opitim_path_SA = \"../data/SA_PT/params_opitim_artificial_v2_noise_\"+str(noise_pct)+\".csv\"\n",
    "else:\n",
    "    target_path = \"../data/targets_all\"\n",
    "    # SA 的 params\n",
    "    params_opitim_path_SA = \"../data/SA_PT/params_opitim_delta_T.csv\"\n",
    "# Small dataset\n",
    "small_settings_NN_path = r\"../data/small_settings_NN.csv\"\n",
    "# Large data\n",
    "large_settings_NN_path = r'E:\\DATA\\large_dta\\large_settings_NN.csv'\n"
   ],
   "metadata": {
    "collapsed": false
   }
  },
  {
   "cell_type": "code",
   "execution_count": 158,
   "outputs": [],
   "source": [
    "# target_path里有全部的target data地址\n",
    "target_all_path = os.listdir(target_path)\n",
    "\n",
    "params_opitim_SA = pd.read_csv(params_opitim_path_SA,encoding=\"utf-8\")\n",
    "\n",
    "data_key_small = pd.read_csv(small_settings_NN_path,encoding=\"utf-8\")\n",
    "data_key_large = pd.read_csv(large_settings_NN_path,encoding=\"utf-8\")\n",
    "\n",
    "data_key = pd.concat([data_key_small,data_key_large],axis=0,ignore_index=True)"
   ],
   "metadata": {
    "collapsed": false
   }
  },
  {
   "cell_type": "code",
   "execution_count": 159,
   "metadata": {
    "collapsed": true
   },
   "outputs": [],
   "source": [
    "def setup_seed(seed):\n",
    "    torch.manual_seed(seed)\n",
    "    torch.cuda.manual_seed_all(seed)\n",
    "    np.random.seed(seed)\n",
    "    random.seed(seed)\n",
    "    torch.backends.cudnn.deterministic = True\n",
    "\n",
    "train_pct=0.7\n",
    "vali_pct=0.1"
   ]
  },
  {
   "cell_type": "code",
   "execution_count": 160,
   "outputs": [],
   "source": [
    "seed = 407       # 3,31,204,223,407 (307)\n",
    "setup_seed(seed)\n",
    "\n",
    "DATA_len = len(target_all_path)\n",
    "shuffled_indices = np.random.permutation(DATA_len)\n",
    "DATA_len = len(shuffled_indices)\n"
   ],
   "metadata": {
    "collapsed": false
   }
  },
  {
   "cell_type": "code",
   "execution_count": 161,
   "outputs": [
    {
     "data": {
      "text/plain": "   key_idx     alpha  delta     labda  initial_loss   final_loss  avg_loss\n0        0  0.061227      1  4.007592   1048.245937   971.189029  3.034966\n1        1  0.047061      1  7.664214    939.993322   804.370159  2.654687\n2        2  0.080019      1  4.080966   1710.033256  1506.151280  2.789169\n3        3  0.097774      1  5.198637    737.680055   589.685310  2.330772\n4        4  0.021540      1  7.627588   1086.205018  1041.966627  3.020193",
      "text/html": "<div>\n<style scoped>\n    .dataframe tbody tr th:only-of-type {\n        vertical-align: middle;\n    }\n\n    .dataframe tbody tr th {\n        vertical-align: top;\n    }\n\n    .dataframe thead th {\n        text-align: right;\n    }\n</style>\n<table border=\"1\" class=\"dataframe\">\n  <thead>\n    <tr style=\"text-align: right;\">\n      <th></th>\n      <th>key_idx</th>\n      <th>alpha</th>\n      <th>delta</th>\n      <th>labda</th>\n      <th>initial_loss</th>\n      <th>final_loss</th>\n      <th>avg_loss</th>\n    </tr>\n  </thead>\n  <tbody>\n    <tr>\n      <th>0</th>\n      <td>0</td>\n      <td>0.061227</td>\n      <td>1</td>\n      <td>4.007592</td>\n      <td>1048.245937</td>\n      <td>971.189029</td>\n      <td>3.034966</td>\n    </tr>\n    <tr>\n      <th>1</th>\n      <td>1</td>\n      <td>0.047061</td>\n      <td>1</td>\n      <td>7.664214</td>\n      <td>939.993322</td>\n      <td>804.370159</td>\n      <td>2.654687</td>\n    </tr>\n    <tr>\n      <th>2</th>\n      <td>2</td>\n      <td>0.080019</td>\n      <td>1</td>\n      <td>4.080966</td>\n      <td>1710.033256</td>\n      <td>1506.151280</td>\n      <td>2.789169</td>\n    </tr>\n    <tr>\n      <th>3</th>\n      <td>3</td>\n      <td>0.097774</td>\n      <td>1</td>\n      <td>5.198637</td>\n      <td>737.680055</td>\n      <td>589.685310</td>\n      <td>2.330772</td>\n    </tr>\n    <tr>\n      <th>4</th>\n      <td>4</td>\n      <td>0.021540</td>\n      <td>1</td>\n      <td>7.627588</td>\n      <td>1086.205018</td>\n      <td>1041.966627</td>\n      <td>3.020193</td>\n    </tr>\n  </tbody>\n</table>\n</div>"
     },
     "execution_count": 161,
     "metadata": {},
     "output_type": "execute_result"
    }
   ],
   "source": [
    "params_opitim_SA.head()"
   ],
   "metadata": {
    "collapsed": false
   }
  },
  {
   "cell_type": "markdown",
   "source": [
    "- 计算avg param values"
   ],
   "metadata": {
    "collapsed": false
   }
  },
  {
   "cell_type": "code",
   "execution_count": 162,
   "outputs": [],
   "source": [
    "train_idx = shuffled_indices[:int(train_pct * DATA_len)]\n",
    "params_train = params_opitim_SA.iloc[train_idx,:].copy()\n",
    "\n",
    "params_avg = params_train.reset_index().mean()"
   ],
   "metadata": {
    "collapsed": false
   }
  },
  {
   "cell_type": "markdown",
   "source": [
    "- 计算testing上的metric"
   ],
   "metadata": {
    "collapsed": false
   }
  },
  {
   "cell_type": "code",
   "execution_count": 163,
   "outputs": [
    {
     "data": {
      "text/plain": "(0.03766712134864847, 4.08987890126484)"
     },
     "execution_count": 163,
     "metadata": {},
     "output_type": "execute_result"
    }
   ],
   "source": [
    "\n",
    "tmp = int((train_pct + vali_pct) * DATA_len)\n",
    "val_idx = shuffled_indices[int(train_pct * DATA_len):tmp]\n",
    "test_idx = shuffled_indices[tmp:]\n",
    "NLL_metric = []\n",
    "\n",
    "alpha = params_avg.alpha\n",
    "labda = params_avg.labda\n",
    "alpha,labda"
   ],
   "metadata": {
    "collapsed": false
   }
  },
  {
   "cell_type": "code",
   "execution_count": 164,
   "outputs": [],
   "source": [
    "for i in test_idx:\n",
    "        # Get target data\n",
    "        target_path_i_path = os.path.join(target_path, target_all_path[i])\n",
    "        target_df = pd.read_csv(target_path_i_path,encoding=\"utf-8\")\n",
    "        target = list(target_df.iloc[:,0])\n",
    "\n",
    "        # Get the auction setting\n",
    "        settings_df = data_key.iloc[i,:]\n",
    "\n",
    "        # GT-2: SA-AVG\n",
    "        NLL_metric.append(GT_2_uniq(settings_df,target,alpha,labda))\n"
   ],
   "metadata": {
    "collapsed": false
   }
  },
  {
   "cell_type": "code",
   "execution_count": 165,
   "outputs": [
    {
     "data": {
      "text/plain": "256"
     },
     "execution_count": 165,
     "metadata": {},
     "output_type": "execute_result"
    }
   ],
   "source": [
    "len(NLL_metric)"
   ],
   "metadata": {
    "collapsed": false
   }
  },
  {
   "cell_type": "code",
   "execution_count": 166,
   "outputs": [
    {
     "name": "stdout",
     "output_type": "stream",
     "text": [
      "seed= 407\n"
     ]
    },
    {
     "data": {
      "text/plain": "8.193912674121918"
     },
     "execution_count": 166,
     "metadata": {},
     "output_type": "execute_result"
    }
   ],
   "source": [
    "print(\"seed=\",seed)\n",
    "np.mean(NLL_metric)"
   ],
   "metadata": {
    "collapsed": false
   }
  },
  {
   "cell_type": "code",
   "execution_count": null,
   "outputs": [],
   "source": [],
   "metadata": {
    "collapsed": false
   }
  }
 ],
 "metadata": {
  "kernelspec": {
   "display_name": "Python 3",
   "language": "python",
   "name": "python3"
  },
  "language_info": {
   "codemirror_mode": {
    "name": "ipython",
    "version": 2
   },
   "file_extension": ".py",
   "mimetype": "text/x-python",
   "name": "python",
   "nbconvert_exporter": "python",
   "pygments_lexer": "ipython2",
   "version": "2.7.6"
  }
 },
 "nbformat": 4,
 "nbformat_minor": 0
}
