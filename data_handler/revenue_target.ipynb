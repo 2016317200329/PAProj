{
 "cells": [
  {
   "cell_type": "code",
   "execution_count": 263,
   "outputs": [
    {
     "name": "stdout",
     "output_type": "stream",
     "text": [
      "The autoreload extension is already loaded. To reload it, use:\n",
      "  %reload_ext autoreload\n"
     ]
    }
   ],
   "source": [
    "%load_ext autoreload\n",
    "%reload_ext autoreload\n",
    "%autoreload 2"
   ],
   "metadata": {
    "collapsed": false
   }
  },
  {
   "cell_type": "markdown",
   "source": [
    "# 0. what for\n",
    "1. 对revenue data的计算\n",
    "\n",
    "# 1."
   ],
   "metadata": {
    "collapsed": false
   }
  },
  {
   "cell_type": "code",
   "execution_count": 264,
   "outputs": [
    {
     "name": "stdout",
     "output_type": "stream",
     "text": [
      "['D:\\\\PyCharm\\\\plugins\\\\python\\\\helpers-pro\\\\jupyter_debug', 'D:\\\\PyCharm\\\\plugins\\\\python\\\\helpers\\\\pydev', 'D:\\\\Desktop\\\\PROJ\\\\PAProj\\\\data_handler', 'D:\\\\Desktop\\\\PROJ\\\\PAProj', 'D:\\\\Anaconda\\\\python39.zip', 'D:\\\\Anaconda\\\\DLLs', 'D:\\\\Anaconda\\\\lib', 'D:\\\\Anaconda', '', 'D:\\\\Anaconda\\\\Lib\\\\site-packages', 'D:\\\\Anaconda\\\\Lib\\\\site-packages\\\\win32', 'D:\\\\Anaconda\\\\Lib\\\\site-packages\\\\win32\\\\lib', 'D:\\\\Anaconda\\\\Lib\\\\site-packages\\\\Pythonwin', 'D:\\\\Anaconda\\\\Lib\\\\site-packages\\\\IPython\\\\extensions', 'C:\\\\Users\\\\Administrator\\\\.ipython', 'D:\\\\Desktop\\\\PROJ\\\\PAProj\\\\data_handler']\n"
     ]
    }
   ],
   "source": [
    "import sys\n",
    "print(sys.path)\n",
    "sys.path.append('D:\\\\Desktop\\\\PROJ\\\\PAProj\\\\data_handler')"
   ],
   "metadata": {
    "collapsed": false
   }
  },
  {
   "cell_type": "code",
   "execution_count": 567,
   "metadata": {
    "collapsed": true
   },
   "outputs": [],
   "source": [
    "\n",
    "seed = 407      # 3,31,204,223,407\n",
    "\n",
    "\n",
    "noise_pct = 0.05  # 噪音占比:我们希望生成的data总体上最多浮动的百分比noise_pct\n",
    "data_key_path = \"../data/target_datakey_all.csv\"\n",
    "N_gaussians = 2  # nums of Gaussian kernels\n",
    "SET_VAL = False\n",
    "VOUCHER = True # Need or not the config about voucher\n",
    "\n",
    "# Input path\n",
    "target_path = r\"../data/targets_all\"\n",
    "# GT-2 NN 产生的params\n",
    "params_opitim_path_NN = r\"../data/SA_PT/params_seed=\" + str(seed) + \".csv\"\n",
    "# MDN 产生的params\n",
    "params_MDN = r\"../data/revenue/output_MDN_seed=\"+str(seed)+\".csv\"\n",
    "\n",
    "\n",
    "# Output path\n",
    "target_ER_path = \"../data/revenue/target_ER.csv\"\n",
    "GT_1_ER_path = \"../data/revenue/target_GT_1_ER.csv\"\n",
    "GT_2_ER_path = \"../data/revenue/target_GT_2_ER_seed=\"+str(seed)+\".csv\"\n",
    "MDN_ER_path = \"../data/revenue/target_MDN_ER_seed=\"+str(seed)+\".csv\"\n",
    "\n",
    "import numpy as np\n",
    "import pandas as pd\n",
    "import os\n",
    "from metric_for_GTs_func import *\n",
    "from tqdm import tqdm\n",
    "import scipy.special\n",
    "import torch\n",
    "import random\n",
    "from sklearn.metrics import mean_squared_error, mean_absolute_error\n",
    "from math import sqrt"
   ]
  },
  {
   "cell_type": "code",
   "execution_count": 568,
   "outputs": [
    {
     "data": {
      "text/plain": "407"
     },
     "execution_count": 568,
     "metadata": {},
     "output_type": "execute_result"
    }
   ],
   "source": [
    "def setup_seed(seed):\n",
    "    \"\"\"\n",
    "    Set seed\n",
    "    Args:\n",
    "        seed:\n",
    "    \"\"\"\n",
    "    torch.manual_seed(seed)\n",
    "    torch.cuda.manual_seed_all(seed)\n",
    "    np.random.seed(seed)\n",
    "    random.seed(seed)\n",
    "    torch.backends.cudnn.deterministic = True\n",
    "\n",
    "setup_seed(seed)\n",
    "train_pct = 0.7\n",
    "vali_pct = 0.2\n",
    "test_pct = 0.1\n",
    "seed"
   ],
   "metadata": {
    "collapsed": false
   }
  },
  {
   "cell_type": "code",
   "execution_count": 569,
   "outputs": [],
   "source": [
    "data_key = pd.read_csv(data_key_path,encoding=\"utf-8\")\n",
    "params_opitim_NN = pd.read_csv(params_opitim_path_NN,encoding=\"utf-8\")\n",
    "MDN_output = pd.read_csv(params_MDN,encoding=\"utf-8\")\n",
    "\n",
    "\n",
    "# target_path里有全部的target data地址\n",
    "target_all_path = os.listdir(target_path)\n",
    "LEN_ALL = target_all_path.__len__()\n",
    "# 使用全部的data\n",
    "shuffled_indices = np.random.permutation(LEN_ALL)\n",
    "if SET_VAL:\n",
    "    train_idx = shuffled_indices[:int(train_pct * LEN_ALL)]\n",
    "    tmp = int((train_pct + vali_pct) * LEN_ALL)\n",
    "    val_idx = shuffled_indices[int(train_pct * LEN_ALL):tmp]\n",
    "    test_idx = shuffled_indices[tmp:]\n",
    "else:\n",
    "    train_idx = shuffled_indices[:int(train_pct * LEN_ALL)]\n",
    "    tmp = int((train_pct + vali_pct) * LEN_ALL)\n",
    "    test_idx = shuffled_indices[int(train_pct * LEN_ALL):tmp]\n",
    "    val_idx = shuffled_indices[tmp:]"
   ],
   "metadata": {
    "collapsed": false
   }
  },
  {
   "cell_type": "markdown",
   "source": [
    "## 1.2 筛选test set\n",
    "1. 是否需要voucher类型的数据？"
   ],
   "metadata": {
    "collapsed": false
   }
  },
  {
   "cell_type": "code",
   "execution_count": 570,
   "outputs": [],
   "source": [
    "if VOUCHER:\n",
    "    test_idx_len = len(test_idx)\n",
    "else:\n",
    "    vou = []\n",
    "    vou_ls = data_key[data_key['desc'].str.contains('Voucher')].index.tolist()\n",
    "    vou_ls_2 = data_key[data_key['desc'].str.contains('VOUCHER')].index.tolist()\n",
    "    vou = vou_ls + vou_ls_2\n",
    "\n",
    "    print(\"before:\",len(test_idx))\n",
    "    test_idx = [i for i in test_idx if i not in vou]\n",
    "    test_idx_len = len(test_idx)\n",
    "    print(\"after:\",len(test_idx))"
   ],
   "metadata": {
    "collapsed": false
   }
  },
  {
   "cell_type": "markdown",
   "source": [
    "\n",
    "# 2. 计算revenue\n",
    "1. 结果为3列：['revenue','retail','odds']\n",
    "    - odds = revenue/retails\n",
    "## 2.1 GT-1的ER\n",
    "1. retail本身"
   ],
   "metadata": {
    "collapsed": false
   }
  },
  {
   "cell_type": "code",
   "execution_count": 523,
   "outputs": [],
   "source": [
    "def GT_1_ER(target,setting):\n",
    "\n",
    "    b = np.array(setting.bidfee)               # bid fee (dollar)\n",
    "    v = np.array(setting.retail)               # valuation\n",
    "    d = np.array(setting.bidincrement)\n",
    "\n",
    "    revenue = v\n",
    "    return revenue, v, revenue/v"
   ],
   "metadata": {
    "collapsed": false
   }
  },
  {
   "cell_type": "markdown",
   "source": [
    "## 2.2 target revenue"
   ],
   "metadata": {
    "collapsed": false
   }
  },
  {
   "cell_type": "code",
   "execution_count": 524,
   "outputs": [],
   "source": [
    "def target_ER(target_df,setting):\n",
    "\n",
    "    b = np.array(setting.bidfee)               # bid fee (dollar)\n",
    "    v = np.array(setting.retail)               # valuation\n",
    "    d = np.array(setting.bidincrement)\n",
    "\n",
    "    # target_df_uniq = target_df.drop_duplicates(inplace=False,ignore_index=True)\n",
    "\n",
    "    revenue = (b+d) * ((target_df.N*target_df.P).sum())\n",
    "\n",
    "    return revenue, v, revenue / v\n"
   ],
   "metadata": {
    "collapsed": false
   }
  },
  {
   "cell_type": "markdown",
   "source": [
    "## 2.3 计算GT-1与 target ER\n",
    "1. 这两个一起算是因为和seed无关"
   ],
   "metadata": {
    "collapsed": false
   }
  },
  {
   "cell_type": "code",
   "execution_count": 525,
   "outputs": [],
   "source": [
    "col_ER = ['test_idx','revenue','retail','odds']\n",
    "col_config = ['desc','bidincrement','bidfee','retail']\n",
    "\n",
    "revenue_target = np.array([0]*LEN_ALL*col_ER.__len__()).reshape(-1,len(col_ER))\n",
    "revenue_target_pd = pd.DataFrame(revenue_target,columns=col_ER)\n",
    "\n",
    "revenue_GT_1 = np.array([0]*LEN_ALL*col_ER.__len__()).reshape(-1,len(col_ER))\n",
    "revenue_GT_1_pd = pd.DataFrame(revenue_target,columns=col_ER)\n"
   ],
   "metadata": {
    "collapsed": false
   }
  },
  {
   "cell_type": "code",
   "execution_count": 450,
   "outputs": [
    {
     "name": "stderr",
     "output_type": "stream",
     "text": [
      "100%|██████████| 1276/1276 [00:01<00:00, 937.09it/s]\n"
     ]
    }
   ],
   "source": [
    "for i in tqdm(range(LEN_ALL)):\n",
    "    target_path_i_path = os.path.join(target_path, target_all_path[i])\n",
    "    target_df = pd.read_csv(target_path_i_path,encoding=\"utf-8\")\n",
    "    config = data_key.iloc[i,:]\n",
    "\n",
    "    # GT-1\n",
    "    target = list(target_df.iloc[:,0])\n",
    "    revenue_GT_1_pd.iloc[i,0] = i\n",
    "    revenue_GT_1_pd.iloc[i,1:] = GT_1_ER(target, config)\n",
    "\n",
    "    # target\n",
    "    revenue_target_pd.iloc[i,0] = i\n",
    "    revenue_target_pd.iloc[i,1:] = target_ER(target_df, config)\n"
   ],
   "metadata": {
    "collapsed": false
   }
  },
  {
   "cell_type": "code",
   "execution_count": 451,
   "outputs": [
    {
     "data": {
      "text/plain": "   test_idx     revenue  retail      odds\n0         0  315.378261  499.99  0.630769\n1         1  405.015000  169.99  2.382581\n2         2  610.420408  299.99  2.034803\n3         3  206.756341   89.99  2.297548\n4         4   48.946154   59.99  0.815905",
      "text/html": "<div>\n<style scoped>\n    .dataframe tbody tr th:only-of-type {\n        vertical-align: middle;\n    }\n\n    .dataframe tbody tr th {\n        vertical-align: top;\n    }\n\n    .dataframe thead th {\n        text-align: right;\n    }\n</style>\n<table border=\"1\" class=\"dataframe\">\n  <thead>\n    <tr style=\"text-align: right;\">\n      <th></th>\n      <th>test_idx</th>\n      <th>revenue</th>\n      <th>retail</th>\n      <th>odds</th>\n    </tr>\n  </thead>\n  <tbody>\n    <tr>\n      <th>0</th>\n      <td>0</td>\n      <td>315.378261</td>\n      <td>499.99</td>\n      <td>0.630769</td>\n    </tr>\n    <tr>\n      <th>1</th>\n      <td>1</td>\n      <td>405.015000</td>\n      <td>169.99</td>\n      <td>2.382581</td>\n    </tr>\n    <tr>\n      <th>2</th>\n      <td>2</td>\n      <td>610.420408</td>\n      <td>299.99</td>\n      <td>2.034803</td>\n    </tr>\n    <tr>\n      <th>3</th>\n      <td>3</td>\n      <td>206.756341</td>\n      <td>89.99</td>\n      <td>2.297548</td>\n    </tr>\n    <tr>\n      <th>4</th>\n      <td>4</td>\n      <td>48.946154</td>\n      <td>59.99</td>\n      <td>0.815905</td>\n    </tr>\n  </tbody>\n</table>\n</div>"
     },
     "execution_count": 451,
     "metadata": {},
     "output_type": "execute_result"
    }
   ],
   "source": [
    "revenue_target_pd.head()"
   ],
   "metadata": {
    "collapsed": false
   }
  },
  {
   "cell_type": "markdown",
   "source": [
    "- save"
   ],
   "metadata": {
    "collapsed": false
   }
  },
  {
   "cell_type": "code",
   "execution_count": 452,
   "outputs": [],
   "source": [
    "# revenue_target_pd.to_csv(target_ER_path,encoding=\"utf-8\",header=True,index=False)\n",
    "# revenue_GT_1_pd.to_csv(GT_1_ER_path,encoding=\"utf-8\",header=True,index=False)"
   ],
   "metadata": {
    "collapsed": false
   }
  },
  {
   "cell_type": "markdown",
   "source": [
    "## 2.4 计算GT-2的ER [seed 相关]"
   ],
   "metadata": {
    "collapsed": false
   }
  },
  {
   "cell_type": "code",
   "execution_count": 453,
   "outputs": [],
   "source": [
    "## 2.2 GT-2的ER\n",
    "def get_ER_GT_2(T_target, U, LEN, TARGET=1):\n",
    "    \"\"\"\n",
    "\n",
    "    Args:\n",
    "        T_target:\n",
    "        U:\n",
    "        LEN:\n",
    "        TARGET:\n",
    "        eps:\n",
    "\n",
    "    Returns:\n",
    "    NLL metric: 正值\n",
    "    \"\"\"\n",
    "\n",
    "    # Solve for P with length of LEN\n",
    "    P = np.array([0.0] * (LEN + 1))\n",
    "    P[0] = 0.0\n",
    "    tmp = np.array([0.0] * (LEN + 3))  # tmp的大小不需要太精确\n",
    "    tmp[0] = 1.0\n",
    "    # 注意：P[i][t] = U[i][1]*U[i][2]*...*(1-U[i][t+1])\n",
    "    for t in range(1, len(P)):\n",
    "        tmp[t] = tmp[t - 1] * U[t]  # tmp[t]存了U从1到(t)的连乘积\n",
    "        P[t] = (1 - U[t + 1]) * tmp[t]\n",
    "\n",
    "    # DO NOT DELETE the P[0] here to keep with actual meaning,和实际意义保持一致\n",
    "    # P = np.delete(P,[0],axis=0)\n",
    "\n",
    "    revenue = sum(i * P[i] for i in range(len(P)))\n",
    "\n",
    "    return revenue\n",
    "\n",
    "\n",
    "def GT_2_ER(target, setting, alpha_i, labda_i):\n",
    "    b = np.array(setting.bidfee)  # bid fee (dollar)\n",
    "    v = np.array(setting.retail)  # valuation\n",
    "    d = np.array(setting.bidincrement)\n",
    "\n",
    "    LEN, T = get_LEN_T(v, b, d, max(target))\n",
    "\n",
    "    # Solve for U\n",
    "    U = get_U_GT2(LEN, v, d, b, alpha_i, labda_i, eps=0.)\n",
    "\n",
    "    revenue = (b + d) * get_ER_GT_2(target, U, LEN, TARGET=1)\n",
    "\n",
    "    return revenue, v, revenue / v"
   ],
   "metadata": {
    "collapsed": false
   }
  },
  {
   "cell_type": "code",
   "execution_count": 454,
   "outputs": [],
   "source": [
    "revenue_GT_2 = np.array([0]*test_idx_len*len(col_ER)).reshape(-1,len(col_ER))\n",
    "revenue_GT_2_pd = pd.DataFrame(revenue_GT_2,columns=col_ER)"
   ],
   "metadata": {
    "collapsed": false
   }
  },
  {
   "cell_type": "code",
   "execution_count": 455,
   "outputs": [],
   "source": [
    "# For those in test set\n",
    "for idx,i in enumerate(test_idx):\n",
    "    target_path_i_path = os.path.join(target_path, target_all_path[i])\n",
    "    target_df = pd.read_csv(target_path_i_path,encoding=\"utf-8\")\n",
    "\n",
    "    target = list(target_df.iloc[:,0])\n",
    "    config = data_key.iloc[i,:]\n",
    "\n",
    "    # GT-2\n",
    "    alpha_i = params_opitim_NN.loc[i,'alpha'].item()\n",
    "    labda_i = params_opitim_NN.loc[i,'labda'].item()\n",
    "\n",
    "    revenue_GT_2_pd.iloc[idx,0] = i\n",
    "    revenue_GT_2_pd.iloc[idx,1:] = GT_2_ER(target, config, alpha_i, labda_i)\n"
   ],
   "metadata": {
    "collapsed": false
   }
  },
  {
   "cell_type": "code",
   "execution_count": 456,
   "outputs": [
    {
     "data": {
      "text/plain": "'../data/revenue/target_GT_2_ER_seed=204.csv'"
     },
     "execution_count": 456,
     "metadata": {},
     "output_type": "execute_result"
    }
   ],
   "source": [
    "GT_2_ER_path"
   ],
   "metadata": {
    "collapsed": false
   }
  },
  {
   "cell_type": "code",
   "execution_count": 325,
   "outputs": [
    {
     "data": {
      "text/plain": "   test_idx     revenue  retail      odds\n0        38  910.377864  599.00  1.519829\n1       905  340.008964  299.99  1.133401\n2       606  284.438960  219.99  1.292963\n3       551   42.764691   29.99  1.425965\n4       893   57.050809   49.99  1.141244",
      "text/html": "<div>\n<style scoped>\n    .dataframe tbody tr th:only-of-type {\n        vertical-align: middle;\n    }\n\n    .dataframe tbody tr th {\n        vertical-align: top;\n    }\n\n    .dataframe thead th {\n        text-align: right;\n    }\n</style>\n<table border=\"1\" class=\"dataframe\">\n  <thead>\n    <tr style=\"text-align: right;\">\n      <th></th>\n      <th>test_idx</th>\n      <th>revenue</th>\n      <th>retail</th>\n      <th>odds</th>\n    </tr>\n  </thead>\n  <tbody>\n    <tr>\n      <th>0</th>\n      <td>38</td>\n      <td>910.377864</td>\n      <td>599.00</td>\n      <td>1.519829</td>\n    </tr>\n    <tr>\n      <th>1</th>\n      <td>905</td>\n      <td>340.008964</td>\n      <td>299.99</td>\n      <td>1.133401</td>\n    </tr>\n    <tr>\n      <th>2</th>\n      <td>606</td>\n      <td>284.438960</td>\n      <td>219.99</td>\n      <td>1.292963</td>\n    </tr>\n    <tr>\n      <th>3</th>\n      <td>551</td>\n      <td>42.764691</td>\n      <td>29.99</td>\n      <td>1.425965</td>\n    </tr>\n    <tr>\n      <th>4</th>\n      <td>893</td>\n      <td>57.050809</td>\n      <td>49.99</td>\n      <td>1.141244</td>\n    </tr>\n  </tbody>\n</table>\n</div>"
     },
     "execution_count": 325,
     "metadata": {},
     "output_type": "execute_result"
    }
   ],
   "source": [
    "revenue_GT_2_pd.head()"
   ],
   "metadata": {
    "collapsed": false
   }
  },
  {
   "cell_type": "code",
   "execution_count": 326,
   "outputs": [],
   "source": [
    "revenue_GT_2_pd.to_csv(GT_2_ER_path,encoding=\"utf-8\",header=True,index=False)"
   ],
   "metadata": {
    "collapsed": false
   }
  },
  {
   "cell_type": "markdown",
   "source": [
    "## 2.5 计算MDN的ER [seed 相关]\n",
    "1. where k > 0 is the shape parameter and λ > 0 is the scale parameter\n",
    "2. mean= scale*gamma(1+1/shape)"
   ],
   "metadata": {
    "collapsed": false
   }
  },
  {
   "cell_type": "code",
   "execution_count": 571,
   "outputs": [],
   "source": [
    "revenue_MDN = np.array([0]*test_idx_len*col_ER.__len__()).reshape(-1,len(col_ER))\n",
    "revenue_MDN_pd = pd.DataFrame(revenue_MDN,columns=col_ER)"
   ],
   "metadata": {
    "collapsed": false
   }
  },
  {
   "cell_type": "code",
   "execution_count": 572,
   "outputs": [],
   "source": [
    "def MDN_ER(mdn_output, setting):\n",
    "\n",
    "    b = np.array(setting.bidfee)  # bid fee (dollar)\n",
    "    v = np.array(setting.retail)  # valuation\n",
    "    d = np.array(setting.bidincrement)\n",
    "\n",
    "    # 1. 从MDN.pth得到结果的预测：即MDN的输出\n",
    "    revenue = 0.\n",
    "    for j in range(N_gaussians):\n",
    "\n",
    "        pi = mdn_output[0+(j*3)]\n",
    "        scale = mdn_output[1+(j*3)]\n",
    "        shape = mdn_output[2+(j*3)]\n",
    "\n",
    "        if pi > 0.1:\n",
    "            revenue += pi*scale*scipy.special.gamma(1+1/shape)\n",
    "\n",
    "    revenue = (b + d) * revenue\n",
    "\n",
    "    return revenue, v, revenue / v"
   ],
   "metadata": {
    "collapsed": false
   }
  },
  {
   "cell_type": "code",
   "execution_count": 573,
   "outputs": [],
   "source": [
    "for idx,i in enumerate(test_idx):\n",
    "    target_path_i_path = os.path.join(target_path, target_all_path[i])\n",
    "    target_df = pd.read_csv(target_path_i_path,encoding=\"utf-8\")\n",
    "\n",
    "    target = list(target_df.iloc[:,0])\n",
    "    config = data_key.iloc[i,:]\n",
    "\n",
    "    # MDN\n",
    "\n",
    "    mdn_output = MDN_output.iloc[i,:]\n",
    "    revenue_MDN_pd.iloc[idx,0] = i\n",
    "    revenue_MDN_pd.iloc[idx,1:] = MDN_ER(mdn_output, config)\n"
   ],
   "metadata": {
    "collapsed": false
   }
  },
  {
   "cell_type": "code",
   "execution_count": 574,
   "outputs": [
    {
     "data": {
      "text/plain": "   test_idx     revenue  retail      odds\n0       708   94.540570   37.50  2.521082\n1      1127   58.395507   59.99  0.973421\n2       469   67.009959   59.99  1.117019\n3       905  486.595241  299.99  1.622038\n4       732  319.465623  222.00  1.439034",
      "text/html": "<div>\n<style scoped>\n    .dataframe tbody tr th:only-of-type {\n        vertical-align: middle;\n    }\n\n    .dataframe tbody tr th {\n        vertical-align: top;\n    }\n\n    .dataframe thead th {\n        text-align: right;\n    }\n</style>\n<table border=\"1\" class=\"dataframe\">\n  <thead>\n    <tr style=\"text-align: right;\">\n      <th></th>\n      <th>test_idx</th>\n      <th>revenue</th>\n      <th>retail</th>\n      <th>odds</th>\n    </tr>\n  </thead>\n  <tbody>\n    <tr>\n      <th>0</th>\n      <td>708</td>\n      <td>94.540570</td>\n      <td>37.50</td>\n      <td>2.521082</td>\n    </tr>\n    <tr>\n      <th>1</th>\n      <td>1127</td>\n      <td>58.395507</td>\n      <td>59.99</td>\n      <td>0.973421</td>\n    </tr>\n    <tr>\n      <th>2</th>\n      <td>469</td>\n      <td>67.009959</td>\n      <td>59.99</td>\n      <td>1.117019</td>\n    </tr>\n    <tr>\n      <th>3</th>\n      <td>905</td>\n      <td>486.595241</td>\n      <td>299.99</td>\n      <td>1.622038</td>\n    </tr>\n    <tr>\n      <th>4</th>\n      <td>732</td>\n      <td>319.465623</td>\n      <td>222.00</td>\n      <td>1.439034</td>\n    </tr>\n  </tbody>\n</table>\n</div>"
     },
     "execution_count": 574,
     "metadata": {},
     "output_type": "execute_result"
    }
   ],
   "source": [
    "revenue_MDN_pd.head()"
   ],
   "metadata": {
    "collapsed": false
   }
  },
  {
   "cell_type": "code",
   "execution_count": 575,
   "outputs": [
    {
     "data": {
      "text/plain": "'../data/revenue/target_MDN_ER_seed=407.csv'"
     },
     "execution_count": 575,
     "metadata": {},
     "output_type": "execute_result"
    }
   ],
   "source": [
    "MDN_ER_path"
   ],
   "metadata": {
    "collapsed": false
   }
  },
  {
   "cell_type": "code",
   "execution_count": 576,
   "outputs": [],
   "source": [
    "revenue_MDN_pd.to_csv(MDN_ER_path,encoding=\"utf-8\",header=True,index=False)"
   ],
   "metadata": {
    "collapsed": false
   }
  },
  {
   "cell_type": "markdown",
   "source": [
    "# 3. 分析\n"
   ],
   "metadata": {
    "collapsed": false
   }
  },
  {
   "cell_type": "code",
   "execution_count": 577,
   "outputs": [],
   "source": [
    "revenue_target_pd = pd.read_csv(target_ER_path,encoding=\"utf-8\")\n",
    "revenue_GT_1_pd = pd.read_csv(GT_1_ER_path,encoding=\"utf-8\")\n",
    "revenue_GT_2_pd = pd.read_csv(GT_2_ER_path,encoding=\"utf-8\")\n",
    "revenue_MDN_pd = pd.read_csv(MDN_ER_path,encoding=\"utf-8\")"
   ],
   "metadata": {
    "collapsed": false
   }
  },
  {
   "cell_type": "markdown",
   "source": [
    "- 对于GT1和target，取test set"
   ],
   "metadata": {
    "collapsed": false
   }
  },
  {
   "cell_type": "code",
   "execution_count": 578,
   "outputs": [
    {
     "data": {
      "text/plain": "   test_idx     revenue  retail      odds\n0         0  283.343478  499.99  0.566698\n1         1  378.405000  169.99  2.226043\n2         2  599.436735  299.99  1.998189\n3         3   99.801220   89.99  1.109026\n4         4   33.680769   59.99  0.561440",
      "text/html": "<div>\n<style scoped>\n    .dataframe tbody tr th:only-of-type {\n        vertical-align: middle;\n    }\n\n    .dataframe tbody tr th {\n        vertical-align: top;\n    }\n\n    .dataframe thead th {\n        text-align: right;\n    }\n</style>\n<table border=\"1\" class=\"dataframe\">\n  <thead>\n    <tr style=\"text-align: right;\">\n      <th></th>\n      <th>test_idx</th>\n      <th>revenue</th>\n      <th>retail</th>\n      <th>odds</th>\n    </tr>\n  </thead>\n  <tbody>\n    <tr>\n      <th>0</th>\n      <td>0</td>\n      <td>283.343478</td>\n      <td>499.99</td>\n      <td>0.566698</td>\n    </tr>\n    <tr>\n      <th>1</th>\n      <td>1</td>\n      <td>378.405000</td>\n      <td>169.99</td>\n      <td>2.226043</td>\n    </tr>\n    <tr>\n      <th>2</th>\n      <td>2</td>\n      <td>599.436735</td>\n      <td>299.99</td>\n      <td>1.998189</td>\n    </tr>\n    <tr>\n      <th>3</th>\n      <td>3</td>\n      <td>99.801220</td>\n      <td>89.99</td>\n      <td>1.109026</td>\n    </tr>\n    <tr>\n      <th>4</th>\n      <td>4</td>\n      <td>33.680769</td>\n      <td>59.99</td>\n      <td>0.561440</td>\n    </tr>\n  </tbody>\n</table>\n</div>"
     },
     "execution_count": 578,
     "metadata": {},
     "output_type": "execute_result"
    }
   ],
   "source": [
    "revenue_target_pd.head()"
   ],
   "metadata": {
    "collapsed": false
   }
  },
  {
   "cell_type": "code",
   "execution_count": 579,
   "outputs": [],
   "source": [
    "# index = revenue_GT_1_pd.index.get_loc(test_idx.tolist())  #2是索引号\n",
    "\n",
    "revenue_GT_1 = revenue_GT_1_pd[revenue_GT_1_pd['test_idx'].isin(test_idx)]\n",
    "revenue_target = revenue_target_pd[revenue_target_pd['test_idx'].isin(test_idx)]\n",
    "revenue_GT_1.reset_index(inplace=True,drop=True)\n",
    "revenue_target.reset_index(inplace=True,drop=True)\n"
   ],
   "metadata": {
    "collapsed": false
   }
  },
  {
   "cell_type": "markdown",
   "source": [
    "## 3.2 test set RMSE and MSE"
   ],
   "metadata": {
    "collapsed": false
   }
  },
  {
   "cell_type": "code",
   "execution_count": 580,
   "outputs": [],
   "source": [
    "def get_rmse(target,data):\n",
    "    target.reset_index(inplace=True,drop=True)\n",
    "    data.reset_index(inplace=True,drop=True)\n",
    "\n",
    "    if VOUCHER:\n",
    "        rmse = sqrt(mean_squared_error(data.odds, target.odds))\n",
    "        # rmse = sqrt(np.sum( (target.odds-data.odds)*(target.odds-data.odds))/target.shape[0] )\n",
    "    else:\n",
    "        # Not in vou\n",
    "        data_wo_vou = data[~data['test_idx'].isin(vou)]\n",
    "        target_wo_vou = target[~target['test_idx'].isin(vou)]\n",
    "\n",
    "        rmse = sqrt(mean_squared_error(data_wo_vou.odds,target_wo_vou.odds))\n",
    "\n",
    "    # rmse = mean_absolute_error(data.odds, target.odds)\n",
    "\n",
    "    return rmse\n",
    "\n",
    "def get_mse(target,data):\n",
    "    target.reset_index(inplace=True,drop=True)\n",
    "    data.reset_index(inplace=True,drop=True)\n",
    "\n",
    "    if VOUCHER:\n",
    "        mse = mean_squared_error(data.odds, target.odds)\n",
    "    else:\n",
    "        # Not in vou\n",
    "        data_wo_vou = data[~data['test_idx'].isin(vou)]\n",
    "        target_wo_vou = target[~target['test_idx'].isin(vou)]\n",
    "\n",
    "        mse = mean_squared_error(data_wo_vou.odds,target_wo_vou.odds)\n",
    "\n",
    "    return mse"
   ],
   "metadata": {
    "collapsed": false
   }
  },
  {
   "cell_type": "code",
   "execution_count": 581,
   "outputs": [],
   "source": [
    "col_rmse = ['GT-1','GT-2(NN)','MDN']\n",
    "rmse_arr = np.array([0.]*1*3).reshape(-1,3)\n",
    "mse_arr = np.array([0.]*1*3).reshape(-1,3)\n",
    "rmse_pd = pd.DataFrame(rmse_arr,columns=col_rmse)\n",
    "mse_pd = pd.DataFrame(mse_arr,columns=col_rmse)"
   ],
   "metadata": {
    "collapsed": false
   }
  },
  {
   "cell_type": "code",
   "execution_count": 582,
   "outputs": [
    {
     "data": {
      "text/plain": "   test_idx     revenue  retail      odds\n0       708   94.540570   37.50  2.521082\n1      1127   58.395507   59.99  0.973421\n2       469   67.009959   59.99  1.117019\n3       905  486.595241  299.99  1.622038\n4       732  319.465623  222.00  1.439034",
      "text/html": "<div>\n<style scoped>\n    .dataframe tbody tr th:only-of-type {\n        vertical-align: middle;\n    }\n\n    .dataframe tbody tr th {\n        vertical-align: top;\n    }\n\n    .dataframe thead th {\n        text-align: right;\n    }\n</style>\n<table border=\"1\" class=\"dataframe\">\n  <thead>\n    <tr style=\"text-align: right;\">\n      <th></th>\n      <th>test_idx</th>\n      <th>revenue</th>\n      <th>retail</th>\n      <th>odds</th>\n    </tr>\n  </thead>\n  <tbody>\n    <tr>\n      <th>0</th>\n      <td>708</td>\n      <td>94.540570</td>\n      <td>37.50</td>\n      <td>2.521082</td>\n    </tr>\n    <tr>\n      <th>1</th>\n      <td>1127</td>\n      <td>58.395507</td>\n      <td>59.99</td>\n      <td>0.973421</td>\n    </tr>\n    <tr>\n      <th>2</th>\n      <td>469</td>\n      <td>67.009959</td>\n      <td>59.99</td>\n      <td>1.117019</td>\n    </tr>\n    <tr>\n      <th>3</th>\n      <td>905</td>\n      <td>486.595241</td>\n      <td>299.99</td>\n      <td>1.622038</td>\n    </tr>\n    <tr>\n      <th>4</th>\n      <td>732</td>\n      <td>319.465623</td>\n      <td>222.00</td>\n      <td>1.439034</td>\n    </tr>\n  </tbody>\n</table>\n</div>"
     },
     "execution_count": 582,
     "metadata": {},
     "output_type": "execute_result"
    }
   ],
   "source": [
    "revenue_MDN_pd.head()"
   ],
   "metadata": {
    "collapsed": false
   }
  },
  {
   "cell_type": "code",
   "execution_count": 583,
   "outputs": [],
   "source": [
    "rmse_pd.iloc[0,0] = get_rmse(revenue_target, revenue_GT_1)\n",
    "rmse_pd.iloc[0,1] = get_rmse(revenue_target, revenue_GT_2_pd)\n",
    "rmse_pd.iloc[0,2] = get_rmse(revenue_target, revenue_MDN_pd)"
   ],
   "metadata": {
    "collapsed": false
   }
  },
  {
   "cell_type": "code",
   "execution_count": 584,
   "outputs": [],
   "source": [
    "mse_pd.iloc[0,0] = get_mse(revenue_target, revenue_GT_1)\n",
    "mse_pd.iloc[0,1] = get_mse(revenue_target, revenue_GT_2_pd)\n",
    "mse_pd.iloc[0,2] = get_mse(revenue_target, revenue_MDN_pd)"
   ],
   "metadata": {
    "collapsed": false
   }
  },
  {
   "cell_type": "code",
   "execution_count": 586,
   "outputs": [
    {
     "name": "stdout",
     "output_type": "stream",
     "text": [
      "在testing上的RMSE,seed=407\n",
      "       GT-1  GT-2(NN)       MDN\n",
      "0  0.859185  3.636454  1.045581\n",
      "在testing上的MSE,seed=407\n",
      "       GT-1   GT-2(NN)       MDN\n",
      "0  0.738199  13.223797  1.093239\n"
     ]
    }
   ],
   "source": [
    "print(f\"在testing上的RMSE,seed={seed}\")\n",
    "print(rmse_pd)\n",
    "print(f\"在testing上的MSE,seed={seed}\")\n",
    "print(mse_pd)"
   ],
   "metadata": {
    "collapsed": false
   }
  },
  {
   "cell_type": "markdown",
   "source": [
    "## 3.3 Details: test set RMSE and MSE\n",
    "1. 观察test set上每一个config\n",
    "2. 表中的值均为**越小越好**"
   ],
   "metadata": {
    "collapsed": false
   }
  },
  {
   "cell_type": "code",
   "execution_count": 587,
   "outputs": [],
   "source": [
    "def get_diff(a, b):\n",
    "    diff = a.odds - b.odds\n",
    "    return diff"
   ],
   "metadata": {
    "collapsed": false
   }
  },
  {
   "cell_type": "code",
   "execution_count": 588,
   "outputs": [],
   "source": [
    "col_diff = ['GT1-target', 'MDN-target', 'GT1-MDN']\n",
    "diff_arr = np.array([0.] * test_idx_len * 3).reshape(-1, 3)\n",
    "diff_pd = pd.DataFrame(diff_arr, columns=col_diff)"
   ],
   "metadata": {
    "collapsed": false
   }
  },
  {
   "cell_type": "code",
   "execution_count": null,
   "outputs": [],
   "source": [
    "diff_pd[diff_pd[\"GT1-target\"]<0]"
   ],
   "metadata": {
    "collapsed": false
   }
  },
  {
   "cell_type": "code",
   "execution_count": 589,
   "outputs": [],
   "source": [
    "diff_pd.iloc[:, 0] = get_diff(revenue_GT_1, revenue_target)\n",
    "diff_pd.iloc[:, 1] = get_diff(revenue_MDN_pd, revenue_target)\n",
    "diff_pd.iloc[:, 2] = get_diff(revenue_GT_1, revenue_MDN_pd)"
   ],
   "metadata": {
    "collapsed": false
   }
  },
  {
   "cell_type": "code",
   "execution_count": 590,
   "outputs": [
    {
     "data": {
      "text/plain": "   index  GT1-target  MDN-target   GT1-MDN\n0      0   -0.998189    0.522893 -1.521082\n1      2   -1.643688   -1.526670 -0.117019\n2      3   -1.133977   -0.511939 -0.622038\n3      4   -1.400101   -0.961067 -0.439034\n4      5   -0.144227    0.851511 -0.995738",
      "text/html": "<div>\n<style scoped>\n    .dataframe tbody tr th:only-of-type {\n        vertical-align: middle;\n    }\n\n    .dataframe tbody tr th {\n        vertical-align: top;\n    }\n\n    .dataframe thead th {\n        text-align: right;\n    }\n</style>\n<table border=\"1\" class=\"dataframe\">\n  <thead>\n    <tr style=\"text-align: right;\">\n      <th></th>\n      <th>index</th>\n      <th>GT1-target</th>\n      <th>MDN-target</th>\n      <th>GT1-MDN</th>\n    </tr>\n  </thead>\n  <tbody>\n    <tr>\n      <th>0</th>\n      <td>0</td>\n      <td>-0.998189</td>\n      <td>0.522893</td>\n      <td>-1.521082</td>\n    </tr>\n    <tr>\n      <th>1</th>\n      <td>2</td>\n      <td>-1.643688</td>\n      <td>-1.526670</td>\n      <td>-0.117019</td>\n    </tr>\n    <tr>\n      <th>2</th>\n      <td>3</td>\n      <td>-1.133977</td>\n      <td>-0.511939</td>\n      <td>-0.622038</td>\n    </tr>\n    <tr>\n      <th>3</th>\n      <td>4</td>\n      <td>-1.400101</td>\n      <td>-0.961067</td>\n      <td>-0.439034</td>\n    </tr>\n    <tr>\n      <th>4</th>\n      <td>5</td>\n      <td>-0.144227</td>\n      <td>0.851511</td>\n      <td>-0.995738</td>\n    </tr>\n  </tbody>\n</table>\n</div>"
     },
     "execution_count": 590,
     "metadata": {},
     "output_type": "execute_result"
    }
   ],
   "source": [
    "diff_great = diff_pd[diff_pd['GT1-MDN'] <= 0]\n",
    "diff_great.reset_index(inplace=True, drop=False)\n",
    "diff_great.head()"
   ],
   "metadata": {
    "collapsed": false
   }
  },
  {
   "cell_type": "code",
   "execution_count": 591,
   "outputs": [
    {
     "data": {
      "text/plain": "     index  GT1-target  MDN-target   GT1-MDN  \\\n0        0   -0.998189    0.522893 -1.521082   \n1        2   -1.643688   -1.526670 -0.117019   \n2        3   -1.133977   -0.511939 -0.622038   \n3        4   -1.400101   -0.961067 -0.439034   \n4        5   -0.144227    0.851511 -0.995738   \n..     ...         ...         ...       ...   \n159    246    0.937423    2.192028 -1.254605   \n160    248    0.944178    1.066811 -0.122633   \n161    251    0.938333    1.088717 -0.150384   \n162    252    0.947896    1.216308 -0.268411   \n163    254    0.928711    0.931136 -0.002424   \n\n                                               desc  bidincrement  bidfee  \\\n0     Sony Ericsson S500i Unlocked Mysterious Green          0.15    0.75   \n1        iPod Touch Apple 8GB with Software Upgrade          0.15    0.75   \n2         Logitech Cordless Wave Keyboard and Mouse          0.15    0.75   \n3                        SanDisk Cruzer Contour 4GB          0.15    0.75   \n4              Mario Kart with Wheel (Nintendo Wii)          0.15    0.75   \n..                                              ...           ...     ...   \n159                 Donkey Kong: Barrel Blast (Wii)          0.15    0.75   \n160  Navigon 2200T 3.5-Inch Portable GPS Navigation          0.15    0.75   \n161                                 Wii Music (Wii)          0.15    0.75   \n162                             Fable II (Xbox 360)          0.15    0.75   \n163                Professor Brainium (Nintendo DS)          0.15    0.75   \n\n     retail  flg_endprice  \n0    499.99             0  \n1    299.99             0  \n2     89.99             0  \n3     59.99             0  \n4     49.99             0  \n..      ...           ...  \n159   44.98             0  \n160  249.99             0  \n161   49.99             0  \n162   59.99             0  \n163   19.99             0  \n\n[164 rows x 9 columns]",
      "text/html": "<div>\n<style scoped>\n    .dataframe tbody tr th:only-of-type {\n        vertical-align: middle;\n    }\n\n    .dataframe tbody tr th {\n        vertical-align: top;\n    }\n\n    .dataframe thead th {\n        text-align: right;\n    }\n</style>\n<table border=\"1\" class=\"dataframe\">\n  <thead>\n    <tr style=\"text-align: right;\">\n      <th></th>\n      <th>index</th>\n      <th>GT1-target</th>\n      <th>MDN-target</th>\n      <th>GT1-MDN</th>\n      <th>desc</th>\n      <th>bidincrement</th>\n      <th>bidfee</th>\n      <th>retail</th>\n      <th>flg_endprice</th>\n    </tr>\n  </thead>\n  <tbody>\n    <tr>\n      <th>0</th>\n      <td>0</td>\n      <td>-0.998189</td>\n      <td>0.522893</td>\n      <td>-1.521082</td>\n      <td>Sony Ericsson S500i Unlocked Mysterious Green</td>\n      <td>0.15</td>\n      <td>0.75</td>\n      <td>499.99</td>\n      <td>0</td>\n    </tr>\n    <tr>\n      <th>1</th>\n      <td>2</td>\n      <td>-1.643688</td>\n      <td>-1.526670</td>\n      <td>-0.117019</td>\n      <td>iPod Touch Apple 8GB with Software Upgrade</td>\n      <td>0.15</td>\n      <td>0.75</td>\n      <td>299.99</td>\n      <td>0</td>\n    </tr>\n    <tr>\n      <th>2</th>\n      <td>3</td>\n      <td>-1.133977</td>\n      <td>-0.511939</td>\n      <td>-0.622038</td>\n      <td>Logitech Cordless Wave Keyboard and Mouse</td>\n      <td>0.15</td>\n      <td>0.75</td>\n      <td>89.99</td>\n      <td>0</td>\n    </tr>\n    <tr>\n      <th>3</th>\n      <td>4</td>\n      <td>-1.400101</td>\n      <td>-0.961067</td>\n      <td>-0.439034</td>\n      <td>SanDisk Cruzer Contour 4GB</td>\n      <td>0.15</td>\n      <td>0.75</td>\n      <td>59.99</td>\n      <td>0</td>\n    </tr>\n    <tr>\n      <th>4</th>\n      <td>5</td>\n      <td>-0.144227</td>\n      <td>0.851511</td>\n      <td>-0.995738</td>\n      <td>Mario Kart with Wheel (Nintendo Wii)</td>\n      <td>0.15</td>\n      <td>0.75</td>\n      <td>49.99</td>\n      <td>0</td>\n    </tr>\n    <tr>\n      <th>...</th>\n      <td>...</td>\n      <td>...</td>\n      <td>...</td>\n      <td>...</td>\n      <td>...</td>\n      <td>...</td>\n      <td>...</td>\n      <td>...</td>\n      <td>...</td>\n    </tr>\n    <tr>\n      <th>159</th>\n      <td>246</td>\n      <td>0.937423</td>\n      <td>2.192028</td>\n      <td>-1.254605</td>\n      <td>Donkey Kong: Barrel Blast (Wii)</td>\n      <td>0.15</td>\n      <td>0.75</td>\n      <td>44.98</td>\n      <td>0</td>\n    </tr>\n    <tr>\n      <th>160</th>\n      <td>248</td>\n      <td>0.944178</td>\n      <td>1.066811</td>\n      <td>-0.122633</td>\n      <td>Navigon 2200T 3.5-Inch Portable GPS Navigation</td>\n      <td>0.15</td>\n      <td>0.75</td>\n      <td>249.99</td>\n      <td>0</td>\n    </tr>\n    <tr>\n      <th>161</th>\n      <td>251</td>\n      <td>0.938333</td>\n      <td>1.088717</td>\n      <td>-0.150384</td>\n      <td>Wii Music (Wii)</td>\n      <td>0.15</td>\n      <td>0.75</td>\n      <td>49.99</td>\n      <td>0</td>\n    </tr>\n    <tr>\n      <th>162</th>\n      <td>252</td>\n      <td>0.947896</td>\n      <td>1.216308</td>\n      <td>-0.268411</td>\n      <td>Fable II (Xbox 360)</td>\n      <td>0.15</td>\n      <td>0.75</td>\n      <td>59.99</td>\n      <td>0</td>\n    </tr>\n    <tr>\n      <th>163</th>\n      <td>254</td>\n      <td>0.928711</td>\n      <td>0.931136</td>\n      <td>-0.002424</td>\n      <td>Professor Brainium (Nintendo DS)</td>\n      <td>0.15</td>\n      <td>0.75</td>\n      <td>19.99</td>\n      <td>0</td>\n    </tr>\n  </tbody>\n</table>\n<p>164 rows × 9 columns</p>\n</div>"
     },
     "execution_count": 591,
     "metadata": {},
     "output_type": "execute_result"
    }
   ],
   "source": [
    "data_key.reset_index(inplace=True, drop=False)\n",
    "diff_great_wkey = pd.merge(diff_great, data_key, on=['index'])\n",
    "diff_great_wkey"
   ],
   "metadata": {
    "collapsed": false
   }
  },
  {
   "cell_type": "code",
   "execution_count": null,
   "outputs": [],
   "source": [],
   "metadata": {
    "collapsed": false
   }
  }
 ],
 "metadata": {
  "kernelspec": {
   "display_name": "Python 3",
   "language": "python",
   "name": "python3"
  },
  "language_info": {
   "codemirror_mode": {
    "name": "ipython",
    "version": 2
   },
   "file_extension": ".py",
   "mimetype": "text/x-python",
   "name": "python",
   "nbconvert_exporter": "python",
   "pygments_lexer": "ipython2",
   "version": "2.7.6"
  }
 },
 "nbformat": 4,
 "nbformat_minor": 0
}
