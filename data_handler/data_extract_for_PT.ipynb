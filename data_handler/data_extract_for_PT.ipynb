{
 "cells": [
  {
   "cell_type": "code",
   "execution_count": null,
   "outputs": [],
   "source": [
    "#!/usr/bin/env python\n",
    "# -*- coding: utf-8 -*-\n",
    "# @Time    : 2022/11/08 21:21\n",
    "# @Author  : Wang Yujia\n",
    "# @File    : data_extract_for_PT.ipynb\n",
    "# @Description : 为PT的inference，drop掉那些N>T的数据，infer的时候不考虑这些"
   ],
   "metadata": {
    "collapsed": false
   }
  },
  {
   "cell_type": "markdown",
   "source": [
    "# 0. what for\n",
    "1. drop掉duration过长的samples\n",
    "2. drop之后对settings的数量不影响，因此不会影响target data和第一个GT模型的使用\n",
    "\n",
    "# 1. Preparations\n",
    "## 1.1 全局设置\n"
   ],
   "metadata": {
    "collapsed": false
   }
  },
  {
   "cell_type": "code",
   "execution_count": 8,
   "outputs": [],
   "source": [
    "data_path = \"../data/datawithnp_2_selected.csv\"\n",
    "\n",
    "# output path\n",
    "output_path = \"../data/SA_PT/datawithnp_PT_selected.csv\"\n",
    "data_key_path = \"../data/SA_PT/data_key_PT.csv\"\n",
    "\n",
    "target_path = \"../data/targets/target_data_original.csv\"\n",
    "\n",
    "features_GT = ['bidincrement','bidfee','retail']\n",
    "import pandas as pd"
   ],
   "metadata": {
    "collapsed": false
   }
  },
  {
   "cell_type": "markdown",
   "source": [
    "## 1.2 data 读取"
   ],
   "metadata": {
    "collapsed": false
   }
  },
  {
   "cell_type": "code",
   "execution_count": 9,
   "outputs": [],
   "source": [
    "data = pd.read_csv(data_path, encoding=\"utf-8\")"
   ],
   "metadata": {
    "collapsed": false
   }
  },
  {
   "cell_type": "markdown",
   "source": [
    "# 2. 筛选\n",
    "1. 2%的data被drop掉\n",
    "2. 筛选后的data不仅是infer用的，也是target data"
   ],
   "metadata": {
    "collapsed": false
   }
  },
  {
   "cell_type": "code",
   "execution_count": 10,
   "outputs": [
    {
     "name": "stdout",
     "output_type": "stream",
     "text": [
      "筛选掉了 *0.01915871436098589* 的数据\n"
     ]
    }
   ],
   "source": [
    "idx_saved = []\n",
    "data['T'] = (data.retail - data.bidfee) / data.bidincrement\n",
    "data_selected = data[data['T'] >= data['N']]\n",
    "print(f\"筛选掉了 *{(data.shape[0] - data_selected.shape[0]) / data.shape[0]}* 的数据\")"
   ],
   "metadata": {
    "collapsed": false
   }
  },
  {
   "cell_type": "code",
   "execution_count": 11,
   "outputs": [
    {
     "name": "stdout",
     "output_type": "stream",
     "text": [
      "包括 *605* 个data key\n",
      "Done\n"
     ]
    }
   ],
   "source": [
    "data_key = data[features_GT].copy()\n",
    "data_key.drop_duplicates(inplace=True,ignore_index=True)\n",
    "data_key.to_csv(data_key_path,index=False,header=True,encoding=\"utf-8\")\n",
    "data_selected.to_csv(output_path,header=True, encoding=\"utf-8\",index=False)\n",
    "# data_selected.to_csv(target_path,header=True, encoding=\"utf-8\",index=False)\n",
    "print(f\"包括 *{data_key.shape[0]}* 个data key\")\n",
    "print(\"Done\")"
   ],
   "metadata": {
    "collapsed": false
   }
  },
  {
   "cell_type": "code",
   "execution_count": null,
   "outputs": [],
   "source": [],
   "metadata": {
    "collapsed": false
   }
  }
 ],
 "metadata": {
  "kernelspec": {
   "display_name": "Python 3",
   "language": "python",
   "name": "python3"
  },
  "language_info": {
   "codemirror_mode": {
    "name": "ipython",
    "version": 2
   },
   "file_extension": ".py",
   "mimetype": "text/x-python",
   "name": "python",
   "nbconvert_exporter": "python",
   "pygments_lexer": "ipython2",
   "version": "2.7.6"
  }
 },
 "nbformat": 4,
 "nbformat_minor": 0
}
