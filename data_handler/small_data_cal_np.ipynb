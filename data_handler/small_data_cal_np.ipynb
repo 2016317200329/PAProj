{
 "cells": [
  {
   "cell_type": "code",
   "execution_count": 88,
   "metadata": {
    "collapsed": true
   },
   "outputs": [],
   "source": [
    "#!/usr/bin/env python\n",
    "# -*- coding: utf-8 -*-\n",
    "# @Time    : 2022/11/21 14:28\n",
    "# @Author  : Wang Yujia\n",
    "# @File    : data_cal_np.ipynb\n",
    "# @Description : 1. 计算N和P 2. 设置threshold"
   ]
  },
  {
   "cell_type": "markdown",
   "source": [
    "# 0. what for\n",
    "1. 计算N和P，从`data_extract_for_asc_symmetry_2.ipynb`提取出来的\n",
    "    - 计算P的方法：**method-2**，`(price-0)/bidincrement`\n",
    "2. 计算完后，样本数小于`threshold`的settings不予考虑\n",
    "# 1. Preparations\n",
    "## 1.1 全局设置"
   ],
   "metadata": {
    "collapsed": false
   }
  },
  {
   "cell_type": "code",
   "execution_count": 89,
   "outputs": [],
   "source": [
    "# outcomes dataset\n",
    "outcomes_path = \"../data/outcomes_cleaned.csv\"\n",
    "\n",
    "# Output\n",
    "data_np_path = r'../data/small_auctions_np.csv'                 #\n",
    "settings_np_path = r'../data/small_settings_np.csv'             #\n",
    "prod_path = r'../data/small_prod.csv'\n",
    "\n",
    "settings_GT_path = \"../data/small_settings_GT.csv\"\n",
    "settings_NN_path = \"../data/small_settings_NN.csv\"\n",
    "\n",
    "# 衡量一场auction是否unique的标志\n",
    "unique_setting_GT = ['bidincrement','bidfee','retail','flg_fixedprice']\n",
    "unique_setting_NN = ['desc','bidincrement','bidfee','retail','flg_fixedprice']\n",
    "\n",
    "threshold = 16\n",
    "\n",
    "import numpy as np\n",
    "import pandas as pd"
   ],
   "metadata": {
    "collapsed": false
   }
  },
  {
   "cell_type": "markdown",
   "source": [
    "## 1.2 读取data"
   ],
   "metadata": {
    "collapsed": false
   }
  },
  {
   "cell_type": "code",
   "execution_count": 90,
   "outputs": [],
   "source": [
    "outcomes = pd.read_csv(outcomes_path, encoding=\"utf-8\")"
   ],
   "metadata": {
    "collapsed": false
   }
  },
  {
   "cell_type": "markdown",
   "source": [
    "# 2. threshold\n",
    "1. threshold筛选的是某个unique_setting_NN下，拍卖发生的次数不够多，那么这个setting不具有代表性\n",
    "2."
   ],
   "metadata": {
    "collapsed": false
   }
  },
  {
   "cell_type": "code",
   "execution_count": 91,
   "outputs": [],
   "source": [
    "features = unique_setting_NN"
   ],
   "metadata": {
    "collapsed": false
   }
  },
  {
   "cell_type": "code",
   "execution_count": 92,
   "outputs": [
    {
     "data": {
      "text/plain": "   auction_id  product_id                                      item  \\\n0       86827    10009602  sony-ericsson-s500i-unlocked-mysterious-   \n1       87964    10009881            psp-slim-lite-sony-piano-black   \n2       87965    10009881            psp-slim-lite-sony-piano-black   \n3       88638    10006115  sony-ericsson-s500i-unlocked-mysterious-   \n4       88639    10006115  sony-ericsson-s500i-unlocked-mysterious-   \n\n                                            desc  retail  price  bidincrement  \\\n0  Sony Ericsson S500i Unlocked Mysterious Green  499.99  13.35          0.15   \n1               PSP Slim & Lite Sony Piano Black  169.99  74.70          0.15   \n2               PSP Slim & Lite Sony Piano Black  169.99  83.10          0.15   \n3  Sony Ericsson S500i Unlocked Mysterious Green  499.99  19.65          0.15   \n4  Sony Ericsson S500i Unlocked Mysterious Green  499.99  47.10          0.15   \n\n   bidfee  flg_fixedprice  id  cnt_uniq  \n0    0.75               0   0        69  \n1    0.75               0   1        60  \n2    0.75               0   1        60  \n3    0.75               0   0        69  \n4    0.75               0   0        69  ",
      "text/html": "<div>\n<style scoped>\n    .dataframe tbody tr th:only-of-type {\n        vertical-align: middle;\n    }\n\n    .dataframe tbody tr th {\n        vertical-align: top;\n    }\n\n    .dataframe thead th {\n        text-align: right;\n    }\n</style>\n<table border=\"1\" class=\"dataframe\">\n  <thead>\n    <tr style=\"text-align: right;\">\n      <th></th>\n      <th>auction_id</th>\n      <th>product_id</th>\n      <th>item</th>\n      <th>desc</th>\n      <th>retail</th>\n      <th>price</th>\n      <th>bidincrement</th>\n      <th>bidfee</th>\n      <th>flg_fixedprice</th>\n      <th>id</th>\n      <th>cnt_uniq</th>\n    </tr>\n  </thead>\n  <tbody>\n    <tr>\n      <th>0</th>\n      <td>86827</td>\n      <td>10009602</td>\n      <td>sony-ericsson-s500i-unlocked-mysterious-</td>\n      <td>Sony Ericsson S500i Unlocked Mysterious Green</td>\n      <td>499.99</td>\n      <td>13.35</td>\n      <td>0.15</td>\n      <td>0.75</td>\n      <td>0</td>\n      <td>0</td>\n      <td>69</td>\n    </tr>\n    <tr>\n      <th>1</th>\n      <td>87964</td>\n      <td>10009881</td>\n      <td>psp-slim-lite-sony-piano-black</td>\n      <td>PSP Slim &amp; Lite Sony Piano Black</td>\n      <td>169.99</td>\n      <td>74.70</td>\n      <td>0.15</td>\n      <td>0.75</td>\n      <td>0</td>\n      <td>1</td>\n      <td>60</td>\n    </tr>\n    <tr>\n      <th>2</th>\n      <td>87965</td>\n      <td>10009881</td>\n      <td>psp-slim-lite-sony-piano-black</td>\n      <td>PSP Slim &amp; Lite Sony Piano Black</td>\n      <td>169.99</td>\n      <td>83.10</td>\n      <td>0.15</td>\n      <td>0.75</td>\n      <td>0</td>\n      <td>1</td>\n      <td>60</td>\n    </tr>\n    <tr>\n      <th>3</th>\n      <td>88638</td>\n      <td>10006115</td>\n      <td>sony-ericsson-s500i-unlocked-mysterious-</td>\n      <td>Sony Ericsson S500i Unlocked Mysterious Green</td>\n      <td>499.99</td>\n      <td>19.65</td>\n      <td>0.15</td>\n      <td>0.75</td>\n      <td>0</td>\n      <td>0</td>\n      <td>69</td>\n    </tr>\n    <tr>\n      <th>4</th>\n      <td>88639</td>\n      <td>10006115</td>\n      <td>sony-ericsson-s500i-unlocked-mysterious-</td>\n      <td>Sony Ericsson S500i Unlocked Mysterious Green</td>\n      <td>499.99</td>\n      <td>47.10</td>\n      <td>0.15</td>\n      <td>0.75</td>\n      <td>0</td>\n      <td>0</td>\n      <td>69</td>\n    </tr>\n  </tbody>\n</table>\n</div>"
     },
     "execution_count": 92,
     "metadata": {},
     "output_type": "execute_result"
    }
   ],
   "source": [
    "# each unique setting对应了'cnt_uniq'场auction\n",
    "# 注意'cnt_uniq'本来并不需要出现在最后的data中，后面用threshold会联动一下\n",
    "\n",
    "data_grouped_tmp = outcomes.groupby(features,as_index=False)\n",
    "tmp = pd.DataFrame(data_grouped_tmp.size())\n",
    "\n",
    "# 加入大表\n",
    "data_withn_cnt = pd.merge(outcomes, tmp, on=features, how=\"left\")\n",
    "data_withn_cnt.rename(columns={'size': 'cnt_uniq'}, inplace=True)\n",
    "assert outcomes.shape[0] == data_withn_cnt.shape[0],\"Wrong!\"\n",
    "data_withn_cnt.head()"
   ],
   "metadata": {
    "collapsed": false
   }
  },
  {
   "cell_type": "markdown",
   "source": [
    "- threshold筛选"
   ],
   "metadata": {
    "collapsed": false
   }
  },
  {
   "cell_type": "code",
   "execution_count": 93,
   "outputs": [
    {
     "name": "stdout",
     "output_type": "stream",
     "text": [
      "Drop 掉了 *12598* 行duplicate data\n"
     ]
    }
   ],
   "source": [
    "# 筛选unique setting对应的样本数(data_withn_cnt['cnt_uniq'])在threshold之上的部分\n",
    "data_thrld = data_withn_cnt[data_withn_cnt['cnt_uniq'] >= threshold].copy()\n",
    "\n",
    "print(\"Drop 掉了 *{}* 行duplicate data\".format(data_withn_cnt.shape[0] - data_thrld.shape[0]))"
   ],
   "metadata": {
    "collapsed": false
   }
  },
  {
   "cell_type": "code",
   "execution_count": 94,
   "outputs": [
    {
     "name": "stdout",
     "output_type": "stream",
     "text": [
      "还剩 1226 个uniq auction settings\n"
     ]
    }
   ],
   "source": [
    "settings_NN_thrld = data_thrld[features].drop_duplicates(inplace=False)\n",
    "settings_NN_thrld.reset_index(drop=True,inplace=True)\n",
    "n_settings = settings_NN_thrld.shape[0]\n",
    "\n",
    "print(f\"还剩 {n_settings} 个uniq auction settings\")"
   ],
   "metadata": {
    "collapsed": false
   }
  },
  {
   "cell_type": "code",
   "execution_count": 95,
   "outputs": [
    {
     "data": {
      "text/plain": "          auction_id    product_id         retail          price  \\\ncount  108753.000000  1.087530e+05  108753.000000  108753.000000   \nmean   170414.271799  1.001097e+07     229.557186      43.158318   \nstd     44414.854122  2.055473e+03     347.499074      97.946797   \nmin     86827.000000  1.000158e+07       8.590000       0.010000   \n25%    132963.000000  1.001069e+07      39.990000       3.450000   \n50%    166843.000000  1.001145e+07      89.990000      14.400000   \n75%    208808.000000  1.001222e+07     249.990000      47.930000   \nmax    259070.000000  1.001539e+07    2799.990000    5515.500000   \n\n        bidincrement         bidfee  flg_fixedprice             id  \\\ncount  108753.000000  108753.000000   108753.000000  108753.000000   \nmean        0.121971       0.699857        0.016046     595.029158   \nstd         0.052451       0.070762        0.125651     468.240046   \nmin         0.010000       0.600000        0.000000       0.000000   \n25%         0.120000       0.600000        0.000000     140.000000   \n50%         0.150000       0.750000        0.000000     562.000000   \n75%         0.150000       0.750000        0.000000    1027.000000   \nmax         0.240000       0.750000        1.000000    1776.000000   \n\n            cnt_uniq  \ncount  108753.000000  \nmean      699.018519  \nstd      1121.683898  \nmin        16.000000  \n25%        61.000000  \n50%       224.000000  \n75%       955.000000  \nmax      4998.000000  ",
      "text/html": "<div>\n<style scoped>\n    .dataframe tbody tr th:only-of-type {\n        vertical-align: middle;\n    }\n\n    .dataframe tbody tr th {\n        vertical-align: top;\n    }\n\n    .dataframe thead th {\n        text-align: right;\n    }\n</style>\n<table border=\"1\" class=\"dataframe\">\n  <thead>\n    <tr style=\"text-align: right;\">\n      <th></th>\n      <th>auction_id</th>\n      <th>product_id</th>\n      <th>retail</th>\n      <th>price</th>\n      <th>bidincrement</th>\n      <th>bidfee</th>\n      <th>flg_fixedprice</th>\n      <th>id</th>\n      <th>cnt_uniq</th>\n    </tr>\n  </thead>\n  <tbody>\n    <tr>\n      <th>count</th>\n      <td>108753.000000</td>\n      <td>1.087530e+05</td>\n      <td>108753.000000</td>\n      <td>108753.000000</td>\n      <td>108753.000000</td>\n      <td>108753.000000</td>\n      <td>108753.000000</td>\n      <td>108753.000000</td>\n      <td>108753.000000</td>\n    </tr>\n    <tr>\n      <th>mean</th>\n      <td>170414.271799</td>\n      <td>1.001097e+07</td>\n      <td>229.557186</td>\n      <td>43.158318</td>\n      <td>0.121971</td>\n      <td>0.699857</td>\n      <td>0.016046</td>\n      <td>595.029158</td>\n      <td>699.018519</td>\n    </tr>\n    <tr>\n      <th>std</th>\n      <td>44414.854122</td>\n      <td>2.055473e+03</td>\n      <td>347.499074</td>\n      <td>97.946797</td>\n      <td>0.052451</td>\n      <td>0.070762</td>\n      <td>0.125651</td>\n      <td>468.240046</td>\n      <td>1121.683898</td>\n    </tr>\n    <tr>\n      <th>min</th>\n      <td>86827.000000</td>\n      <td>1.000158e+07</td>\n      <td>8.590000</td>\n      <td>0.010000</td>\n      <td>0.010000</td>\n      <td>0.600000</td>\n      <td>0.000000</td>\n      <td>0.000000</td>\n      <td>16.000000</td>\n    </tr>\n    <tr>\n      <th>25%</th>\n      <td>132963.000000</td>\n      <td>1.001069e+07</td>\n      <td>39.990000</td>\n      <td>3.450000</td>\n      <td>0.120000</td>\n      <td>0.600000</td>\n      <td>0.000000</td>\n      <td>140.000000</td>\n      <td>61.000000</td>\n    </tr>\n    <tr>\n      <th>50%</th>\n      <td>166843.000000</td>\n      <td>1.001145e+07</td>\n      <td>89.990000</td>\n      <td>14.400000</td>\n      <td>0.150000</td>\n      <td>0.750000</td>\n      <td>0.000000</td>\n      <td>562.000000</td>\n      <td>224.000000</td>\n    </tr>\n    <tr>\n      <th>75%</th>\n      <td>208808.000000</td>\n      <td>1.001222e+07</td>\n      <td>249.990000</td>\n      <td>47.930000</td>\n      <td>0.150000</td>\n      <td>0.750000</td>\n      <td>0.000000</td>\n      <td>1027.000000</td>\n      <td>955.000000</td>\n    </tr>\n    <tr>\n      <th>max</th>\n      <td>259070.000000</td>\n      <td>1.001539e+07</td>\n      <td>2799.990000</td>\n      <td>5515.500000</td>\n      <td>0.240000</td>\n      <td>0.750000</td>\n      <td>1.000000</td>\n      <td>1776.000000</td>\n      <td>4998.000000</td>\n    </tr>\n  </tbody>\n</table>\n</div>"
     },
     "execution_count": 95,
     "metadata": {},
     "output_type": "execute_result"
    }
   ],
   "source": [
    "data_thrld.describe()"
   ],
   "metadata": {
    "collapsed": false
   }
  },
  {
   "cell_type": "markdown",
   "source": [
    "# 3. 计算N和P\n",
    "## 3.1 计算N\n",
    "1. 这里计算N是 **“方法二”** ：在`outcomes.tsv`中通过(price-0)/bidincrement来计算"
   ],
   "metadata": {
    "collapsed": false
   }
  },
  {
   "cell_type": "code",
   "execution_count": 96,
   "outputs": [
    {
     "data": {
      "text/plain": "   auction_id  product_id                                      item  \\\n0       86827    10009602  sony-ericsson-s500i-unlocked-mysterious-   \n1       87964    10009881            psp-slim-lite-sony-piano-black   \n2       87965    10009881            psp-slim-lite-sony-piano-black   \n3       88638    10006115  sony-ericsson-s500i-unlocked-mysterious-   \n4       88639    10006115  sony-ericsson-s500i-unlocked-mysterious-   \n\n                                            desc  retail  price  bidincrement  \\\n0  Sony Ericsson S500i Unlocked Mysterious Green  499.99  13.35          0.15   \n1               PSP Slim & Lite Sony Piano Black  169.99  74.70          0.15   \n2               PSP Slim & Lite Sony Piano Black  169.99  83.10          0.15   \n3  Sony Ericsson S500i Unlocked Mysterious Green  499.99  19.65          0.15   \n4  Sony Ericsson S500i Unlocked Mysterious Green  499.99  47.10          0.15   \n\n   bidfee  flg_fixedprice  id  cnt_uniq    N  \n0    0.75               0   0        69   89  \n1    0.75               0   1        60  498  \n2    0.75               0   1        60  554  \n3    0.75               0   0        69  131  \n4    0.75               0   0        69  314  ",
      "text/html": "<div>\n<style scoped>\n    .dataframe tbody tr th:only-of-type {\n        vertical-align: middle;\n    }\n\n    .dataframe tbody tr th {\n        vertical-align: top;\n    }\n\n    .dataframe thead th {\n        text-align: right;\n    }\n</style>\n<table border=\"1\" class=\"dataframe\">\n  <thead>\n    <tr style=\"text-align: right;\">\n      <th></th>\n      <th>auction_id</th>\n      <th>product_id</th>\n      <th>item</th>\n      <th>desc</th>\n      <th>retail</th>\n      <th>price</th>\n      <th>bidincrement</th>\n      <th>bidfee</th>\n      <th>flg_fixedprice</th>\n      <th>id</th>\n      <th>cnt_uniq</th>\n      <th>N</th>\n    </tr>\n  </thead>\n  <tbody>\n    <tr>\n      <th>0</th>\n      <td>86827</td>\n      <td>10009602</td>\n      <td>sony-ericsson-s500i-unlocked-mysterious-</td>\n      <td>Sony Ericsson S500i Unlocked Mysterious Green</td>\n      <td>499.99</td>\n      <td>13.35</td>\n      <td>0.15</td>\n      <td>0.75</td>\n      <td>0</td>\n      <td>0</td>\n      <td>69</td>\n      <td>89</td>\n    </tr>\n    <tr>\n      <th>1</th>\n      <td>87964</td>\n      <td>10009881</td>\n      <td>psp-slim-lite-sony-piano-black</td>\n      <td>PSP Slim &amp; Lite Sony Piano Black</td>\n      <td>169.99</td>\n      <td>74.70</td>\n      <td>0.15</td>\n      <td>0.75</td>\n      <td>0</td>\n      <td>1</td>\n      <td>60</td>\n      <td>498</td>\n    </tr>\n    <tr>\n      <th>2</th>\n      <td>87965</td>\n      <td>10009881</td>\n      <td>psp-slim-lite-sony-piano-black</td>\n      <td>PSP Slim &amp; Lite Sony Piano Black</td>\n      <td>169.99</td>\n      <td>83.10</td>\n      <td>0.15</td>\n      <td>0.75</td>\n      <td>0</td>\n      <td>1</td>\n      <td>60</td>\n      <td>554</td>\n    </tr>\n    <tr>\n      <th>3</th>\n      <td>88638</td>\n      <td>10006115</td>\n      <td>sony-ericsson-s500i-unlocked-mysterious-</td>\n      <td>Sony Ericsson S500i Unlocked Mysterious Green</td>\n      <td>499.99</td>\n      <td>19.65</td>\n      <td>0.15</td>\n      <td>0.75</td>\n      <td>0</td>\n      <td>0</td>\n      <td>69</td>\n      <td>131</td>\n    </tr>\n    <tr>\n      <th>4</th>\n      <td>88639</td>\n      <td>10006115</td>\n      <td>sony-ericsson-s500i-unlocked-mysterious-</td>\n      <td>Sony Ericsson S500i Unlocked Mysterious Green</td>\n      <td>499.99</td>\n      <td>47.10</td>\n      <td>0.15</td>\n      <td>0.75</td>\n      <td>0</td>\n      <td>0</td>\n      <td>69</td>\n      <td>314</td>\n    </tr>\n  </tbody>\n</table>\n</div>"
     },
     "execution_count": 96,
     "metadata": {},
     "output_type": "execute_result"
    }
   ],
   "source": [
    "data_thrld = data_thrld.copy()\n",
    "data_thrld.loc[:,'N'] = data_thrld.loc[:,'price'] / (data_thrld.loc[:,'bidincrement'])\n",
    "data_thrld['N'] = data_thrld['N'].astype(int)\n",
    "data_thrld.head()"
   ],
   "metadata": {
    "collapsed": false
   }
  },
  {
   "cell_type": "markdown",
   "source": [
    "- 算完N之后，需要把fixed-price auction的bid inc变成0"
   ],
   "metadata": {
    "collapsed": false
   }
  },
  {
   "cell_type": "code",
   "execution_count": 105,
   "outputs": [
    {
     "data": {
      "text/plain": "array([0.15, 0.  , 0.01, 0.12, 0.24, 0.02, 0.06])"
     },
     "execution_count": 105,
     "metadata": {},
     "output_type": "execute_result"
    }
   ],
   "source": [
    "idx_fixed = data_thrld[data_thrld.flg_fixedprice == 1].index.tolist()\n",
    "data_thrld.loc[idx_fixed,'bidincrement'] = 0\n",
    "data_thrld.bidincrement.unique()"
   ],
   "metadata": {
    "collapsed": false
   }
  },
  {
   "cell_type": "markdown",
   "source": [
    "## 3.2 计算p\n",
    "### 3.2.1 计算'cnt_N'\n",
    "1. unique setting一样的auction认为是同一个\n",
    "2. `P = cnt_n_2 / cnt_uniq`，下面需要计算`cnt_n_2`\n",
    "    - `cnt_n_2`表示某个setting下的`n_2`某数值出现了几次\n",
    "    - Example: `cnt_n=2`表示在某个setting下，有2场拍卖持续了n_2轮\n",
    "features_cnt_n_2 = unique_setting+['n_2']"
   ],
   "metadata": {
    "collapsed": false
   }
  },
  {
   "cell_type": "code",
   "execution_count": 106,
   "outputs": [
    {
     "data": {
      "text/plain": "   auction_id  product_id                                      item  \\\n0       86827    10009602  sony-ericsson-s500i-unlocked-mysterious-   \n1       87964    10009881            psp-slim-lite-sony-piano-black   \n2       87965    10009881            psp-slim-lite-sony-piano-black   \n3       88638    10006115  sony-ericsson-s500i-unlocked-mysterious-   \n4       88639    10006115  sony-ericsson-s500i-unlocked-mysterious-   \n\n                                            desc  retail  price  bidincrement  \\\n0  Sony Ericsson S500i Unlocked Mysterious Green  499.99  13.35          0.15   \n1               PSP Slim & Lite Sony Piano Black  169.99  74.70          0.15   \n2               PSP Slim & Lite Sony Piano Black  169.99  83.10          0.15   \n3  Sony Ericsson S500i Unlocked Mysterious Green  499.99  19.65          0.15   \n4  Sony Ericsson S500i Unlocked Mysterious Green  499.99  47.10          0.15   \n\n   bidfee  flg_fixedprice  id  cnt_uniq    N  cnt_N  \n0    0.75               0   0        69   89      1  \n1    0.75               0   1        60  498      1  \n2    0.75               0   1        60  554      1  \n3    0.75               0   0        69  131      1  \n4    0.75               0   0        69  314      1  ",
      "text/html": "<div>\n<style scoped>\n    .dataframe tbody tr th:only-of-type {\n        vertical-align: middle;\n    }\n\n    .dataframe tbody tr th {\n        vertical-align: top;\n    }\n\n    .dataframe thead th {\n        text-align: right;\n    }\n</style>\n<table border=\"1\" class=\"dataframe\">\n  <thead>\n    <tr style=\"text-align: right;\">\n      <th></th>\n      <th>auction_id</th>\n      <th>product_id</th>\n      <th>item</th>\n      <th>desc</th>\n      <th>retail</th>\n      <th>price</th>\n      <th>bidincrement</th>\n      <th>bidfee</th>\n      <th>flg_fixedprice</th>\n      <th>id</th>\n      <th>cnt_uniq</th>\n      <th>N</th>\n      <th>cnt_N</th>\n    </tr>\n  </thead>\n  <tbody>\n    <tr>\n      <th>0</th>\n      <td>86827</td>\n      <td>10009602</td>\n      <td>sony-ericsson-s500i-unlocked-mysterious-</td>\n      <td>Sony Ericsson S500i Unlocked Mysterious Green</td>\n      <td>499.99</td>\n      <td>13.35</td>\n      <td>0.15</td>\n      <td>0.75</td>\n      <td>0</td>\n      <td>0</td>\n      <td>69</td>\n      <td>89</td>\n      <td>1</td>\n    </tr>\n    <tr>\n      <th>1</th>\n      <td>87964</td>\n      <td>10009881</td>\n      <td>psp-slim-lite-sony-piano-black</td>\n      <td>PSP Slim &amp; Lite Sony Piano Black</td>\n      <td>169.99</td>\n      <td>74.70</td>\n      <td>0.15</td>\n      <td>0.75</td>\n      <td>0</td>\n      <td>1</td>\n      <td>60</td>\n      <td>498</td>\n      <td>1</td>\n    </tr>\n    <tr>\n      <th>2</th>\n      <td>87965</td>\n      <td>10009881</td>\n      <td>psp-slim-lite-sony-piano-black</td>\n      <td>PSP Slim &amp; Lite Sony Piano Black</td>\n      <td>169.99</td>\n      <td>83.10</td>\n      <td>0.15</td>\n      <td>0.75</td>\n      <td>0</td>\n      <td>1</td>\n      <td>60</td>\n      <td>554</td>\n      <td>1</td>\n    </tr>\n    <tr>\n      <th>3</th>\n      <td>88638</td>\n      <td>10006115</td>\n      <td>sony-ericsson-s500i-unlocked-mysterious-</td>\n      <td>Sony Ericsson S500i Unlocked Mysterious Green</td>\n      <td>499.99</td>\n      <td>19.65</td>\n      <td>0.15</td>\n      <td>0.75</td>\n      <td>0</td>\n      <td>0</td>\n      <td>69</td>\n      <td>131</td>\n      <td>1</td>\n    </tr>\n    <tr>\n      <th>4</th>\n      <td>88639</td>\n      <td>10006115</td>\n      <td>sony-ericsson-s500i-unlocked-mysterious-</td>\n      <td>Sony Ericsson S500i Unlocked Mysterious Green</td>\n      <td>499.99</td>\n      <td>47.10</td>\n      <td>0.15</td>\n      <td>0.75</td>\n      <td>0</td>\n      <td>0</td>\n      <td>69</td>\n      <td>314</td>\n      <td>1</td>\n    </tr>\n  </tbody>\n</table>\n</div>"
     },
     "execution_count": 106,
     "metadata": {},
     "output_type": "execute_result"
    }
   ],
   "source": [
    "features = unique_setting_NN+['N']\n",
    "\n",
    "data_grouped = data_thrld.groupby(by=features,as_index=False)\n",
    "data_cnt_N = pd.DataFrame(data_grouped.size())\n",
    "data_cnt_N.rename(columns={'size': 'cnt_N'}, inplace=True)\n",
    "\n",
    "data_P = pd.merge(data_thrld,data_cnt_N,on=features,how=\"left\")\n",
    "data_P.head()\n",
    "# pd.merge(data_thrld,data_cnt_N,on=features,how=\"\")"
   ],
   "metadata": {
    "collapsed": false
   }
  },
  {
   "cell_type": "markdown",
   "source": [
    "### 3.2.2 计算P\n",
    "- P = cnt_n / cnt_uniq\n",
    "- 输出的结果在`data_withn_cnt_n12`中，其中包含了所需要的3个值：cnt_n_2 cnt_uniq"
   ],
   "metadata": {
    "collapsed": false
   }
  },
  {
   "cell_type": "code",
   "execution_count": 107,
   "outputs": [
    {
     "data": {
      "text/plain": "   auction_id  product_id                                      item  \\\n0       86827    10009602  sony-ericsson-s500i-unlocked-mysterious-   \n1       87964    10009881            psp-slim-lite-sony-piano-black   \n2       87965    10009881            psp-slim-lite-sony-piano-black   \n3       88638    10006115  sony-ericsson-s500i-unlocked-mysterious-   \n4       88639    10006115  sony-ericsson-s500i-unlocked-mysterious-   \n\n                                            desc  retail  price  bidincrement  \\\n0  Sony Ericsson S500i Unlocked Mysterious Green  499.99  13.35          0.15   \n1               PSP Slim & Lite Sony Piano Black  169.99  74.70          0.15   \n2               PSP Slim & Lite Sony Piano Black  169.99  83.10          0.15   \n3  Sony Ericsson S500i Unlocked Mysterious Green  499.99  19.65          0.15   \n4  Sony Ericsson S500i Unlocked Mysterious Green  499.99  47.10          0.15   \n\n   bidfee  flg_fixedprice  id  cnt_uniq    N  cnt_N         P  \n0    0.75               0   0        69   89      1  0.014493  \n1    0.75               0   1        60  498      1  0.016667  \n2    0.75               0   1        60  554      1  0.016667  \n3    0.75               0   0        69  131      1  0.014493  \n4    0.75               0   0        69  314      1  0.014493  ",
      "text/html": "<div>\n<style scoped>\n    .dataframe tbody tr th:only-of-type {\n        vertical-align: middle;\n    }\n\n    .dataframe tbody tr th {\n        vertical-align: top;\n    }\n\n    .dataframe thead th {\n        text-align: right;\n    }\n</style>\n<table border=\"1\" class=\"dataframe\">\n  <thead>\n    <tr style=\"text-align: right;\">\n      <th></th>\n      <th>auction_id</th>\n      <th>product_id</th>\n      <th>item</th>\n      <th>desc</th>\n      <th>retail</th>\n      <th>price</th>\n      <th>bidincrement</th>\n      <th>bidfee</th>\n      <th>flg_fixedprice</th>\n      <th>id</th>\n      <th>cnt_uniq</th>\n      <th>N</th>\n      <th>cnt_N</th>\n      <th>P</th>\n    </tr>\n  </thead>\n  <tbody>\n    <tr>\n      <th>0</th>\n      <td>86827</td>\n      <td>10009602</td>\n      <td>sony-ericsson-s500i-unlocked-mysterious-</td>\n      <td>Sony Ericsson S500i Unlocked Mysterious Green</td>\n      <td>499.99</td>\n      <td>13.35</td>\n      <td>0.15</td>\n      <td>0.75</td>\n      <td>0</td>\n      <td>0</td>\n      <td>69</td>\n      <td>89</td>\n      <td>1</td>\n      <td>0.014493</td>\n    </tr>\n    <tr>\n      <th>1</th>\n      <td>87964</td>\n      <td>10009881</td>\n      <td>psp-slim-lite-sony-piano-black</td>\n      <td>PSP Slim &amp; Lite Sony Piano Black</td>\n      <td>169.99</td>\n      <td>74.70</td>\n      <td>0.15</td>\n      <td>0.75</td>\n      <td>0</td>\n      <td>1</td>\n      <td>60</td>\n      <td>498</td>\n      <td>1</td>\n      <td>0.016667</td>\n    </tr>\n    <tr>\n      <th>2</th>\n      <td>87965</td>\n      <td>10009881</td>\n      <td>psp-slim-lite-sony-piano-black</td>\n      <td>PSP Slim &amp; Lite Sony Piano Black</td>\n      <td>169.99</td>\n      <td>83.10</td>\n      <td>0.15</td>\n      <td>0.75</td>\n      <td>0</td>\n      <td>1</td>\n      <td>60</td>\n      <td>554</td>\n      <td>1</td>\n      <td>0.016667</td>\n    </tr>\n    <tr>\n      <th>3</th>\n      <td>88638</td>\n      <td>10006115</td>\n      <td>sony-ericsson-s500i-unlocked-mysterious-</td>\n      <td>Sony Ericsson S500i Unlocked Mysterious Green</td>\n      <td>499.99</td>\n      <td>19.65</td>\n      <td>0.15</td>\n      <td>0.75</td>\n      <td>0</td>\n      <td>0</td>\n      <td>69</td>\n      <td>131</td>\n      <td>1</td>\n      <td>0.014493</td>\n    </tr>\n    <tr>\n      <th>4</th>\n      <td>88639</td>\n      <td>10006115</td>\n      <td>sony-ericsson-s500i-unlocked-mysterious-</td>\n      <td>Sony Ericsson S500i Unlocked Mysterious Green</td>\n      <td>499.99</td>\n      <td>47.10</td>\n      <td>0.15</td>\n      <td>0.75</td>\n      <td>0</td>\n      <td>0</td>\n      <td>69</td>\n      <td>314</td>\n      <td>1</td>\n      <td>0.014493</td>\n    </tr>\n  </tbody>\n</table>\n</div>"
     },
     "execution_count": 107,
     "metadata": {},
     "output_type": "execute_result"
    }
   ],
   "source": [
    "data_P['P'] = data_P['cnt_N'] / data_P['cnt_uniq']\n",
    "data_P.head()"
   ],
   "metadata": {
    "collapsed": false
   }
  },
  {
   "cell_type": "markdown",
   "source": [
    "- 保留部分列"
   ],
   "metadata": {
    "collapsed": false
   }
  },
  {
   "cell_type": "code",
   "execution_count": 108,
   "outputs": [
    {
     "data": {
      "text/plain": "   auction_id  product_id                                           desc  \\\n0       86827    10009602  Sony Ericsson S500i Unlocked Mysterious Green   \n1       87964    10009881               PSP Slim & Lite Sony Piano Black   \n2       87965    10009881               PSP Slim & Lite Sony Piano Black   \n3       88638    10006115  Sony Ericsson S500i Unlocked Mysterious Green   \n4       88639    10006115  Sony Ericsson S500i Unlocked Mysterious Green   \n\n   retail  price  bidincrement  bidfee  flg_fixedprice    N  cnt_N         P  \n0  499.99  13.35          0.15    0.75               0   89      1  0.014493  \n1  169.99  74.70          0.15    0.75               0  498      1  0.016667  \n2  169.99  83.10          0.15    0.75               0  554      1  0.016667  \n3  499.99  19.65          0.15    0.75               0  131      1  0.014493  \n4  499.99  47.10          0.15    0.75               0  314      1  0.014493  ",
      "text/html": "<div>\n<style scoped>\n    .dataframe tbody tr th:only-of-type {\n        vertical-align: middle;\n    }\n\n    .dataframe tbody tr th {\n        vertical-align: top;\n    }\n\n    .dataframe thead th {\n        text-align: right;\n    }\n</style>\n<table border=\"1\" class=\"dataframe\">\n  <thead>\n    <tr style=\"text-align: right;\">\n      <th></th>\n      <th>auction_id</th>\n      <th>product_id</th>\n      <th>desc</th>\n      <th>retail</th>\n      <th>price</th>\n      <th>bidincrement</th>\n      <th>bidfee</th>\n      <th>flg_fixedprice</th>\n      <th>N</th>\n      <th>cnt_N</th>\n      <th>P</th>\n    </tr>\n  </thead>\n  <tbody>\n    <tr>\n      <th>0</th>\n      <td>86827</td>\n      <td>10009602</td>\n      <td>Sony Ericsson S500i Unlocked Mysterious Green</td>\n      <td>499.99</td>\n      <td>13.35</td>\n      <td>0.15</td>\n      <td>0.75</td>\n      <td>0</td>\n      <td>89</td>\n      <td>1</td>\n      <td>0.014493</td>\n    </tr>\n    <tr>\n      <th>1</th>\n      <td>87964</td>\n      <td>10009881</td>\n      <td>PSP Slim &amp; Lite Sony Piano Black</td>\n      <td>169.99</td>\n      <td>74.70</td>\n      <td>0.15</td>\n      <td>0.75</td>\n      <td>0</td>\n      <td>498</td>\n      <td>1</td>\n      <td>0.016667</td>\n    </tr>\n    <tr>\n      <th>2</th>\n      <td>87965</td>\n      <td>10009881</td>\n      <td>PSP Slim &amp; Lite Sony Piano Black</td>\n      <td>169.99</td>\n      <td>83.10</td>\n      <td>0.15</td>\n      <td>0.75</td>\n      <td>0</td>\n      <td>554</td>\n      <td>1</td>\n      <td>0.016667</td>\n    </tr>\n    <tr>\n      <th>3</th>\n      <td>88638</td>\n      <td>10006115</td>\n      <td>Sony Ericsson S500i Unlocked Mysterious Green</td>\n      <td>499.99</td>\n      <td>19.65</td>\n      <td>0.15</td>\n      <td>0.75</td>\n      <td>0</td>\n      <td>131</td>\n      <td>1</td>\n      <td>0.014493</td>\n    </tr>\n    <tr>\n      <th>4</th>\n      <td>88639</td>\n      <td>10006115</td>\n      <td>Sony Ericsson S500i Unlocked Mysterious Green</td>\n      <td>499.99</td>\n      <td>47.10</td>\n      <td>0.15</td>\n      <td>0.75</td>\n      <td>0</td>\n      <td>314</td>\n      <td>1</td>\n      <td>0.014493</td>\n    </tr>\n  </tbody>\n</table>\n</div>"
     },
     "execution_count": 108,
     "metadata": {},
     "output_type": "execute_result"
    }
   ],
   "source": [
    "data_P.drop(columns=['cnt_uniq','id','item'],inplace=True,axis=1)\n",
    "# features_keep = unique_setting_NN +['N'] + ['P']+['cnt_N']  # 想保留的列\n",
    "# data_P = data_P[features_keep].copy()\n",
    "data_P.head()"
   ],
   "metadata": {
    "collapsed": false
   }
  },
  {
   "cell_type": "markdown",
   "source": [
    "# 4. 保存结果\n"
   ],
   "metadata": {
    "collapsed": false
   }
  },
  {
   "cell_type": "code",
   "execution_count": 109,
   "outputs": [
    {
     "name": "stdout",
     "output_type": "stream",
     "text": [
      "小数据集一共有 108753 条记录\n"
     ]
    }
   ],
   "source": [
    "data_P.to_csv(data_np_path,encoding=\"utf-8\",index=False,header=True)\n",
    "print(f\"小数据集一共有 {data_P.shape[0]} 条记录\")"
   ],
   "metadata": {
    "collapsed": false
   }
  },
  {
   "cell_type": "code",
   "execution_count": 110,
   "outputs": [
    {
     "data": {
      "text/plain": "                                            desc\n0  Sony Ericsson S500i Unlocked Mysterious Green\n1               PSP Slim & Lite Sony Piano Black\n2     iPod Touch Apple 8GB with Software Upgrade\n3                 LG KU990 Viewty Unlocked Black\n4      Logitech Cordless Wave Keyboard and Mouse",
      "text/html": "<div>\n<style scoped>\n    .dataframe tbody tr th:only-of-type {\n        vertical-align: middle;\n    }\n\n    .dataframe tbody tr th {\n        vertical-align: top;\n    }\n\n    .dataframe thead th {\n        text-align: right;\n    }\n</style>\n<table border=\"1\" class=\"dataframe\">\n  <thead>\n    <tr style=\"text-align: right;\">\n      <th></th>\n      <th>desc</th>\n    </tr>\n  </thead>\n  <tbody>\n    <tr>\n      <th>0</th>\n      <td>Sony Ericsson S500i Unlocked Mysterious Green</td>\n    </tr>\n    <tr>\n      <th>1</th>\n      <td>PSP Slim &amp; Lite Sony Piano Black</td>\n    </tr>\n    <tr>\n      <th>2</th>\n      <td>iPod Touch Apple 8GB with Software Upgrade</td>\n    </tr>\n    <tr>\n      <th>3</th>\n      <td>LG KU990 Viewty Unlocked Black</td>\n    </tr>\n    <tr>\n      <th>4</th>\n      <td>Logitech Cordless Wave Keyboard and Mouse</td>\n    </tr>\n  </tbody>\n</table>\n</div>"
     },
     "execution_count": 110,
     "metadata": {},
     "output_type": "execute_result"
    }
   ],
   "source": [
    "item_df = pd.DataFrame(data_P['desc'].drop_duplicates(inplace=False))\n",
    "item_df.reset_index(drop=True,inplace=True)\n",
    "item_df.to_csv(prod_path,encoding=\"utf-8\",index=False,header=True)\n",
    "item_df.head()"
   ],
   "metadata": {
    "collapsed": false
   }
  },
  {
   "cell_type": "markdown",
   "source": [
    "- 保存data key"
   ],
   "metadata": {
    "collapsed": false
   }
  },
  {
   "cell_type": "code",
   "execution_count": 111,
   "outputs": [
    {
     "name": "stdout",
     "output_type": "stream",
     "text": [
      "当setting = ['bidincrement', 'bidfee', 'retail', 'flg_fixedprice']\n",
      "一共有 *627*场不同的auction\n"
     ]
    }
   ],
   "source": [
    "data_auction_GT = data_P[unique_setting_GT].copy()\n",
    "settings_GT = data_auction_GT.drop_duplicates(ignore_index=True)\n",
    "settings_GT.to_csv(settings_GT_path,encoding=\"utf-8\",index=False,header=True)\n",
    "\n",
    "print(f\"当setting = {unique_setting_GT}\")\n",
    "print(f\"一共有 *{settings_GT.shape[0]}*场不同的auction\")"
   ],
   "metadata": {
    "collapsed": false
   }
  },
  {
   "cell_type": "code",
   "execution_count": 112,
   "outputs": [
    {
     "name": "stdout",
     "output_type": "stream",
     "text": [
      "当setting = ['desc', 'bidincrement', 'bidfee', 'retail', 'flg_fixedprice']\n",
      "一共有 *1226*场不同的auction\n"
     ]
    }
   ],
   "source": [
    "data_auction_NN = data_P[unique_setting_NN].copy()\n",
    "settings_NN = data_auction_NN.drop_duplicates(ignore_index=True)\n",
    "settings_NN.to_csv(settings_NN_path,encoding=\"utf-8\",index=False,header=True)\n",
    "\n",
    "print(f\"当setting = {unique_setting_NN}\")\n",
    "print(f\"一共有 *{settings_NN.shape[0]}*场不同的auction\")"
   ],
   "metadata": {
    "collapsed": false
   }
  },
  {
   "cell_type": "code",
   "execution_count": null,
   "outputs": [],
   "source": [],
   "metadata": {
    "collapsed": false
   }
  }
 ],
 "metadata": {
  "kernelspec": {
   "display_name": "Python 3",
   "language": "python",
   "name": "python3"
  },
  "language_info": {
   "codemirror_mode": {
    "name": "ipython",
    "version": 2
   },
   "file_extension": ".py",
   "mimetype": "text/x-python",
   "name": "python",
   "nbconvert_exporter": "python",
   "pygments_lexer": "ipython2",
   "version": "2.7.6"
  }
 },
 "nbformat": 4,
 "nbformat_minor": 0
}
