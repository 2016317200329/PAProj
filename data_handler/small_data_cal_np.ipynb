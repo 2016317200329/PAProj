{
 "cells": [
  {
   "cell_type": "code",
   "execution_count": 1,
   "metadata": {
    "collapsed": true
   },
   "outputs": [],
   "source": [
    "#!/usr/bin/env python\n",
    "# -*- coding: utf-8 -*-\n",
    "# @Time    : 2022/11/21 14:28\n",
    "# @Author  : Wang Yujia\n",
    "# @File    : data_cal_np.ipynb\n",
    "# @Description : 1. 计算N和P 2. 设置threshold"
   ]
  },
  {
   "cell_type": "markdown",
   "source": [
    "# 0. what for\n",
    "1. 计算N和P，从`data_extract_for_asc_symmetry_2.ipynb`提取出来的\n",
    "    - 计算P的方法：**method-2**，`(price-0)/bidincrement`\n",
    "2. 计算完后，样本数小于`threshold`的settings不予考虑\n",
    "# 1. Preparations\n",
    "## 1.1 全局设置"
   ],
   "metadata": {
    "collapsed": false
   }
  },
  {
   "cell_type": "code",
   "execution_count": 26,
   "outputs": [],
   "source": [
    "# outcomes dataset\n",
    "outcomes_path = \"../data/outcomes_cleaned.csv\"\n",
    "\n",
    "# Output\n",
    "data_np_path = r'../data/small_auctions_np.csv'                 #\n",
    "settings_np_path = r'../data/small_settings_np.csv'             #\n",
    "prod_path = r'../data/small_prod.csv'\n",
    "\n",
    "settings_GT_path = \"../data/small_settings_GT.csv\"\n",
    "settings_NN_path = \"../data/small_settings_NN.csv\"\n",
    "\n",
    "# 衡量一场auction是否unique的标志\n",
    "unique_setting_GT = ['bidincrement','bidfee','retail','flg_endprice']\n",
    "unique_setting_NN = ['desc','bidincrement','bidfee','retail','flg_endprice']\n",
    "\n",
    "threshold = 16\n",
    "\n",
    "import numpy as np\n",
    "import pandas as pd"
   ],
   "metadata": {
    "collapsed": false
   }
  },
  {
   "cell_type": "markdown",
   "source": [
    "## 1.2 读取data"
   ],
   "metadata": {
    "collapsed": false
   }
  },
  {
   "cell_type": "code",
   "execution_count": 11,
   "outputs": [],
   "source": [
    "outcomes = pd.read_csv(outcomes_path, encoding=\"utf-8\")"
   ],
   "metadata": {
    "collapsed": false
   }
  },
  {
   "cell_type": "markdown",
   "source": [
    "# 2. threshold\n",
    "1. threshold筛选的是某个unique_setting_NN下，拍卖发生的次数不够多，那么这个setting不具有代表性\n",
    "2."
   ],
   "metadata": {
    "collapsed": false
   }
  },
  {
   "cell_type": "code",
   "execution_count": 12,
   "outputs": [],
   "source": [
    "features = unique_setting_NN"
   ],
   "metadata": {
    "collapsed": false
   }
  },
  {
   "cell_type": "code",
   "execution_count": 13,
   "outputs": [
    {
     "data": {
      "text/plain": "   auction_id  product_id                                      item  \\\n0       86827    10009602  sony-ericsson-s500i-unlocked-mysterious-   \n1       87964    10009881            psp-slim-lite-sony-piano-black   \n2       87965    10009881            psp-slim-lite-sony-piano-black   \n3       88638    10006115  sony-ericsson-s500i-unlocked-mysterious-   \n4       88639    10006115  sony-ericsson-s500i-unlocked-mysterious-   \n\n                                            desc  retail  price  bidincrement  \\\n0  Sony Ericsson S500i Unlocked Mysterious Green  499.99  13.35          0.15   \n1               PSP Slim & Lite Sony Piano Black  169.99  74.70          0.15   \n2               PSP Slim & Lite Sony Piano Black  169.99  83.10          0.15   \n3  Sony Ericsson S500i Unlocked Mysterious Green  499.99  19.65          0.15   \n4  Sony Ericsson S500i Unlocked Mysterious Green  499.99  47.10          0.15   \n\n   bidfee  flg_endprice  id  cnt_uniq  \n0    0.75             0   0        69  \n1    0.75             0   1        60  \n2    0.75             0   1        60  \n3    0.75             0   0        69  \n4    0.75             0   0        69  ",
      "text/html": "<div>\n<style scoped>\n    .dataframe tbody tr th:only-of-type {\n        vertical-align: middle;\n    }\n\n    .dataframe tbody tr th {\n        vertical-align: top;\n    }\n\n    .dataframe thead th {\n        text-align: right;\n    }\n</style>\n<table border=\"1\" class=\"dataframe\">\n  <thead>\n    <tr style=\"text-align: right;\">\n      <th></th>\n      <th>auction_id</th>\n      <th>product_id</th>\n      <th>item</th>\n      <th>desc</th>\n      <th>retail</th>\n      <th>price</th>\n      <th>bidincrement</th>\n      <th>bidfee</th>\n      <th>flg_endprice</th>\n      <th>id</th>\n      <th>cnt_uniq</th>\n    </tr>\n  </thead>\n  <tbody>\n    <tr>\n      <th>0</th>\n      <td>86827</td>\n      <td>10009602</td>\n      <td>sony-ericsson-s500i-unlocked-mysterious-</td>\n      <td>Sony Ericsson S500i Unlocked Mysterious Green</td>\n      <td>499.99</td>\n      <td>13.35</td>\n      <td>0.15</td>\n      <td>0.75</td>\n      <td>0</td>\n      <td>0</td>\n      <td>69</td>\n    </tr>\n    <tr>\n      <th>1</th>\n      <td>87964</td>\n      <td>10009881</td>\n      <td>psp-slim-lite-sony-piano-black</td>\n      <td>PSP Slim &amp; Lite Sony Piano Black</td>\n      <td>169.99</td>\n      <td>74.70</td>\n      <td>0.15</td>\n      <td>0.75</td>\n      <td>0</td>\n      <td>1</td>\n      <td>60</td>\n    </tr>\n    <tr>\n      <th>2</th>\n      <td>87965</td>\n      <td>10009881</td>\n      <td>psp-slim-lite-sony-piano-black</td>\n      <td>PSP Slim &amp; Lite Sony Piano Black</td>\n      <td>169.99</td>\n      <td>83.10</td>\n      <td>0.15</td>\n      <td>0.75</td>\n      <td>0</td>\n      <td>1</td>\n      <td>60</td>\n    </tr>\n    <tr>\n      <th>3</th>\n      <td>88638</td>\n      <td>10006115</td>\n      <td>sony-ericsson-s500i-unlocked-mysterious-</td>\n      <td>Sony Ericsson S500i Unlocked Mysterious Green</td>\n      <td>499.99</td>\n      <td>19.65</td>\n      <td>0.15</td>\n      <td>0.75</td>\n      <td>0</td>\n      <td>0</td>\n      <td>69</td>\n    </tr>\n    <tr>\n      <th>4</th>\n      <td>88639</td>\n      <td>10006115</td>\n      <td>sony-ericsson-s500i-unlocked-mysterious-</td>\n      <td>Sony Ericsson S500i Unlocked Mysterious Green</td>\n      <td>499.99</td>\n      <td>47.10</td>\n      <td>0.15</td>\n      <td>0.75</td>\n      <td>0</td>\n      <td>0</td>\n      <td>69</td>\n    </tr>\n  </tbody>\n</table>\n</div>"
     },
     "execution_count": 13,
     "metadata": {},
     "output_type": "execute_result"
    }
   ],
   "source": [
    "# each unique setting对应了'cnt_uniq'场auction\n",
    "# 注意'cnt_uniq'本来并不需要出现在最后的data中，后面用threshold会联动一下\n",
    "\n",
    "data_grouped_tmp = outcomes.groupby(features,as_index=False)\n",
    "tmp = pd.DataFrame(data_grouped_tmp.size())\n",
    "\n",
    "# 加入大表\n",
    "data_withn_cnt = pd.merge(outcomes, tmp, on=features, how=\"left\")\n",
    "data_withn_cnt.rename(columns={'size': 'cnt_uniq'}, inplace=True)\n",
    "assert outcomes.shape[0] == data_withn_cnt.shape[0],\"Wrong!\"\n",
    "data_withn_cnt.head()"
   ],
   "metadata": {
    "collapsed": false
   }
  },
  {
   "cell_type": "markdown",
   "source": [
    "- threshold筛选"
   ],
   "metadata": {
    "collapsed": false
   }
  },
  {
   "cell_type": "code",
   "execution_count": 14,
   "outputs": [
    {
     "name": "stdout",
     "output_type": "stream",
     "text": [
      "Drop 掉了 *12224* 行duplicate data\n"
     ]
    }
   ],
   "source": [
    "# 筛选unique setting对应的样本数(data_withn_cnt['cnt_uniq'])在threshold之上的部分\n",
    "data_thrld = data_withn_cnt[data_withn_cnt['cnt_uniq'] >= threshold].copy()\n",
    "\n",
    "print(\"Drop 掉了 *{}* 行duplicate data\".format(data_withn_cnt.shape[0] - data_thrld.shape[0]))"
   ],
   "metadata": {
    "collapsed": false
   }
  },
  {
   "cell_type": "code",
   "execution_count": 15,
   "outputs": [
    {
     "name": "stdout",
     "output_type": "stream",
     "text": [
      "还剩 1196 个uniq auction settings\n"
     ]
    }
   ],
   "source": [
    "settings_NN_thrld = data_thrld[features].drop_duplicates(inplace=False)\n",
    "settings_NN_thrld.reset_index(drop=True,inplace=True)\n",
    "n_settings = settings_NN_thrld.shape[0]\n",
    "\n",
    "print(f\"还剩 {n_settings} 个uniq auction settings\")"
   ],
   "metadata": {
    "collapsed": false
   }
  },
  {
   "cell_type": "code",
   "execution_count": 16,
   "outputs": [
    {
     "data": {
      "text/plain": "          auction_id    product_id         retail          price  \\\ncount  106959.000000  1.069590e+05  106959.000000  106959.000000   \nmean   171330.024982  1.001099e+07     218.142697      38.668920   \nstd     44188.241923  2.068105e+03     334.476432      71.857894   \nmin     86827.000000  1.000158e+07       8.590000       0.010000   \n25%    134421.500000  1.001071e+07      39.990000       3.360000   \n50%    167846.000000  1.001148e+07      88.990000      13.920000   \n75%    209453.500000  1.001222e+07     249.990000      45.360000   \nmax    259070.000000  1.001539e+07    2799.990000    3685.650000   \n\n        bidincrement         bidfee   flg_endprice             id  \\\ncount  106959.000000  106959.000000  106959.000000  106959.000000   \nmean        0.121501       0.699016       0.041455     580.753840   \nstd         0.052762       0.071051       0.199341     460.232257   \nmin         0.010000       0.600000       0.000000       0.000000   \n25%         0.120000       0.600000       0.000000     128.000000   \n50%         0.150000       0.750000       0.000000     562.000000   \n75%         0.150000       0.750000       0.000000     998.000000   \nmax         0.240000       0.750000       1.000000    1748.000000   \n\n            cnt_uniq  \ncount  106959.000000  \nmean      708.364224  \nstd      1128.590811  \nmin        16.000000  \n25%        62.000000  \n50%       236.000000  \n75%       977.000000  \nmax      4998.000000  ",
      "text/html": "<div>\n<style scoped>\n    .dataframe tbody tr th:only-of-type {\n        vertical-align: middle;\n    }\n\n    .dataframe tbody tr th {\n        vertical-align: top;\n    }\n\n    .dataframe thead th {\n        text-align: right;\n    }\n</style>\n<table border=\"1\" class=\"dataframe\">\n  <thead>\n    <tr style=\"text-align: right;\">\n      <th></th>\n      <th>auction_id</th>\n      <th>product_id</th>\n      <th>retail</th>\n      <th>price</th>\n      <th>bidincrement</th>\n      <th>bidfee</th>\n      <th>flg_endprice</th>\n      <th>id</th>\n      <th>cnt_uniq</th>\n    </tr>\n  </thead>\n  <tbody>\n    <tr>\n      <th>count</th>\n      <td>106959.000000</td>\n      <td>1.069590e+05</td>\n      <td>106959.000000</td>\n      <td>106959.000000</td>\n      <td>106959.000000</td>\n      <td>106959.000000</td>\n      <td>106959.000000</td>\n      <td>106959.000000</td>\n      <td>106959.000000</td>\n    </tr>\n    <tr>\n      <th>mean</th>\n      <td>171330.024982</td>\n      <td>1.001099e+07</td>\n      <td>218.142697</td>\n      <td>38.668920</td>\n      <td>0.121501</td>\n      <td>0.699016</td>\n      <td>0.041455</td>\n      <td>580.753840</td>\n      <td>708.364224</td>\n    </tr>\n    <tr>\n      <th>std</th>\n      <td>44188.241923</td>\n      <td>2.068105e+03</td>\n      <td>334.476432</td>\n      <td>71.857894</td>\n      <td>0.052762</td>\n      <td>0.071051</td>\n      <td>0.199341</td>\n      <td>460.232257</td>\n      <td>1128.590811</td>\n    </tr>\n    <tr>\n      <th>min</th>\n      <td>86827.000000</td>\n      <td>1.000158e+07</td>\n      <td>8.590000</td>\n      <td>0.010000</td>\n      <td>0.010000</td>\n      <td>0.600000</td>\n      <td>0.000000</td>\n      <td>0.000000</td>\n      <td>16.000000</td>\n    </tr>\n    <tr>\n      <th>25%</th>\n      <td>134421.500000</td>\n      <td>1.001071e+07</td>\n      <td>39.990000</td>\n      <td>3.360000</td>\n      <td>0.120000</td>\n      <td>0.600000</td>\n      <td>0.000000</td>\n      <td>128.000000</td>\n      <td>62.000000</td>\n    </tr>\n    <tr>\n      <th>50%</th>\n      <td>167846.000000</td>\n      <td>1.001148e+07</td>\n      <td>88.990000</td>\n      <td>13.920000</td>\n      <td>0.150000</td>\n      <td>0.750000</td>\n      <td>0.000000</td>\n      <td>562.000000</td>\n      <td>236.000000</td>\n    </tr>\n    <tr>\n      <th>75%</th>\n      <td>209453.500000</td>\n      <td>1.001222e+07</td>\n      <td>249.990000</td>\n      <td>45.360000</td>\n      <td>0.150000</td>\n      <td>0.750000</td>\n      <td>0.000000</td>\n      <td>998.000000</td>\n      <td>977.000000</td>\n    </tr>\n    <tr>\n      <th>max</th>\n      <td>259070.000000</td>\n      <td>1.001539e+07</td>\n      <td>2799.990000</td>\n      <td>3685.650000</td>\n      <td>0.240000</td>\n      <td>0.750000</td>\n      <td>1.000000</td>\n      <td>1748.000000</td>\n      <td>4998.000000</td>\n    </tr>\n  </tbody>\n</table>\n</div>"
     },
     "execution_count": 16,
     "metadata": {},
     "output_type": "execute_result"
    }
   ],
   "source": [
    "data_thrld.describe()"
   ],
   "metadata": {
    "collapsed": false
   }
  },
  {
   "cell_type": "markdown",
   "source": [
    "# 3. 计算N和P\n",
    "## 3.1 计算N\n",
    "1. 这里计算N是 **“方法二”** ：在`outcomes.tsv`中通过(price-0)/bidincrement来计算"
   ],
   "metadata": {
    "collapsed": false
   }
  },
  {
   "cell_type": "code",
   "execution_count": 17,
   "outputs": [
    {
     "data": {
      "text/plain": "   auction_id  product_id                                      item  \\\n0       86827    10009602  sony-ericsson-s500i-unlocked-mysterious-   \n1       87964    10009881            psp-slim-lite-sony-piano-black   \n2       87965    10009881            psp-slim-lite-sony-piano-black   \n3       88638    10006115  sony-ericsson-s500i-unlocked-mysterious-   \n4       88639    10006115  sony-ericsson-s500i-unlocked-mysterious-   \n\n                                            desc  retail  price  bidincrement  \\\n0  Sony Ericsson S500i Unlocked Mysterious Green  499.99  13.35          0.15   \n1               PSP Slim & Lite Sony Piano Black  169.99  74.70          0.15   \n2               PSP Slim & Lite Sony Piano Black  169.99  83.10          0.15   \n3  Sony Ericsson S500i Unlocked Mysterious Green  499.99  19.65          0.15   \n4  Sony Ericsson S500i Unlocked Mysterious Green  499.99  47.10          0.15   \n\n   bidfee  flg_endprice  id  cnt_uniq    N  \n0    0.75             0   0        69   89  \n1    0.75             0   1        60  498  \n2    0.75             0   1        60  554  \n3    0.75             0   0        69  131  \n4    0.75             0   0        69  314  ",
      "text/html": "<div>\n<style scoped>\n    .dataframe tbody tr th:only-of-type {\n        vertical-align: middle;\n    }\n\n    .dataframe tbody tr th {\n        vertical-align: top;\n    }\n\n    .dataframe thead th {\n        text-align: right;\n    }\n</style>\n<table border=\"1\" class=\"dataframe\">\n  <thead>\n    <tr style=\"text-align: right;\">\n      <th></th>\n      <th>auction_id</th>\n      <th>product_id</th>\n      <th>item</th>\n      <th>desc</th>\n      <th>retail</th>\n      <th>price</th>\n      <th>bidincrement</th>\n      <th>bidfee</th>\n      <th>flg_endprice</th>\n      <th>id</th>\n      <th>cnt_uniq</th>\n      <th>N</th>\n    </tr>\n  </thead>\n  <tbody>\n    <tr>\n      <th>0</th>\n      <td>86827</td>\n      <td>10009602</td>\n      <td>sony-ericsson-s500i-unlocked-mysterious-</td>\n      <td>Sony Ericsson S500i Unlocked Mysterious Green</td>\n      <td>499.99</td>\n      <td>13.35</td>\n      <td>0.15</td>\n      <td>0.75</td>\n      <td>0</td>\n      <td>0</td>\n      <td>69</td>\n      <td>89</td>\n    </tr>\n    <tr>\n      <th>1</th>\n      <td>87964</td>\n      <td>10009881</td>\n      <td>psp-slim-lite-sony-piano-black</td>\n      <td>PSP Slim &amp; Lite Sony Piano Black</td>\n      <td>169.99</td>\n      <td>74.70</td>\n      <td>0.15</td>\n      <td>0.75</td>\n      <td>0</td>\n      <td>1</td>\n      <td>60</td>\n      <td>498</td>\n    </tr>\n    <tr>\n      <th>2</th>\n      <td>87965</td>\n      <td>10009881</td>\n      <td>psp-slim-lite-sony-piano-black</td>\n      <td>PSP Slim &amp; Lite Sony Piano Black</td>\n      <td>169.99</td>\n      <td>83.10</td>\n      <td>0.15</td>\n      <td>0.75</td>\n      <td>0</td>\n      <td>1</td>\n      <td>60</td>\n      <td>554</td>\n    </tr>\n    <tr>\n      <th>3</th>\n      <td>88638</td>\n      <td>10006115</td>\n      <td>sony-ericsson-s500i-unlocked-mysterious-</td>\n      <td>Sony Ericsson S500i Unlocked Mysterious Green</td>\n      <td>499.99</td>\n      <td>19.65</td>\n      <td>0.15</td>\n      <td>0.75</td>\n      <td>0</td>\n      <td>0</td>\n      <td>69</td>\n      <td>131</td>\n    </tr>\n    <tr>\n      <th>4</th>\n      <td>88639</td>\n      <td>10006115</td>\n      <td>sony-ericsson-s500i-unlocked-mysterious-</td>\n      <td>Sony Ericsson S500i Unlocked Mysterious Green</td>\n      <td>499.99</td>\n      <td>47.10</td>\n      <td>0.15</td>\n      <td>0.75</td>\n      <td>0</td>\n      <td>0</td>\n      <td>69</td>\n      <td>314</td>\n    </tr>\n  </tbody>\n</table>\n</div>"
     },
     "execution_count": 17,
     "metadata": {},
     "output_type": "execute_result"
    }
   ],
   "source": [
    "data_thrld = data_thrld.copy()\n",
    "data_thrld.loc[:,'N'] = data_thrld.loc[:,'price'] / (data_thrld.loc[:,'bidincrement'])\n",
    "data_thrld['N'] = data_thrld['N'].astype(int)\n",
    "data_thrld.head()"
   ],
   "metadata": {
    "collapsed": false
   }
  },
  {
   "cell_type": "markdown",
   "source": [
    "- 算完N之后，需要把fixed-price auction的bid inc变成0， 他们都是100%-off auction"
   ],
   "metadata": {
    "collapsed": false
   }
  },
  {
   "cell_type": "code",
   "execution_count": 19,
   "outputs": [
    {
     "data": {
      "text/plain": "array([0.15, 0.  , 0.01, 0.12, 0.24, 0.02, 0.06])"
     },
     "execution_count": 19,
     "metadata": {},
     "output_type": "execute_result"
    }
   ],
   "source": [
    "idx_fixed = data_thrld[data_thrld.flg_endprice == 1].index.tolist()\n",
    "data_thrld.loc[idx_fixed,'bidincrement'] = 0\n",
    "data_thrld.bidincrement.unique()"
   ],
   "metadata": {
    "collapsed": false
   }
  },
  {
   "cell_type": "markdown",
   "source": [
    "## 3.2 计算p\n",
    "### 3.2.1 计算'cnt_N'\n",
    "1. unique setting一样的auction认为是同一个\n",
    "2. `P = cnt_n_2 / cnt_uniq`，下面需要计算`cnt_n_2`\n",
    "    - `cnt_n_2`表示某个setting下的`n_2`某数值出现了几次\n",
    "    - Example: `cnt_n=2`表示在某个setting下，有2场拍卖持续了n_2轮\n",
    "features_cnt_n_2 = unique_setting+['n_2']"
   ],
   "metadata": {
    "collapsed": false
   }
  },
  {
   "cell_type": "code",
   "execution_count": 21,
   "outputs": [
    {
     "data": {
      "text/plain": "   auction_id  product_id                                      item  \\\n0       86827    10009602  sony-ericsson-s500i-unlocked-mysterious-   \n1       87964    10009881            psp-slim-lite-sony-piano-black   \n2       87965    10009881            psp-slim-lite-sony-piano-black   \n3       88638    10006115  sony-ericsson-s500i-unlocked-mysterious-   \n4       88639    10006115  sony-ericsson-s500i-unlocked-mysterious-   \n\n                                            desc  retail  price  bidincrement  \\\n0  Sony Ericsson S500i Unlocked Mysterious Green  499.99  13.35          0.15   \n1               PSP Slim & Lite Sony Piano Black  169.99  74.70          0.15   \n2               PSP Slim & Lite Sony Piano Black  169.99  83.10          0.15   \n3  Sony Ericsson S500i Unlocked Mysterious Green  499.99  19.65          0.15   \n4  Sony Ericsson S500i Unlocked Mysterious Green  499.99  47.10          0.15   \n\n   bidfee  flg_endprice  id  cnt_uniq    N  cnt_N  \n0    0.75             0   0        69   89      1  \n1    0.75             0   1        60  498      1  \n2    0.75             0   1        60  554      1  \n3    0.75             0   0        69  131      1  \n4    0.75             0   0        69  314      1  ",
      "text/html": "<div>\n<style scoped>\n    .dataframe tbody tr th:only-of-type {\n        vertical-align: middle;\n    }\n\n    .dataframe tbody tr th {\n        vertical-align: top;\n    }\n\n    .dataframe thead th {\n        text-align: right;\n    }\n</style>\n<table border=\"1\" class=\"dataframe\">\n  <thead>\n    <tr style=\"text-align: right;\">\n      <th></th>\n      <th>auction_id</th>\n      <th>product_id</th>\n      <th>item</th>\n      <th>desc</th>\n      <th>retail</th>\n      <th>price</th>\n      <th>bidincrement</th>\n      <th>bidfee</th>\n      <th>flg_endprice</th>\n      <th>id</th>\n      <th>cnt_uniq</th>\n      <th>N</th>\n      <th>cnt_N</th>\n    </tr>\n  </thead>\n  <tbody>\n    <tr>\n      <th>0</th>\n      <td>86827</td>\n      <td>10009602</td>\n      <td>sony-ericsson-s500i-unlocked-mysterious-</td>\n      <td>Sony Ericsson S500i Unlocked Mysterious Green</td>\n      <td>499.99</td>\n      <td>13.35</td>\n      <td>0.15</td>\n      <td>0.75</td>\n      <td>0</td>\n      <td>0</td>\n      <td>69</td>\n      <td>89</td>\n      <td>1</td>\n    </tr>\n    <tr>\n      <th>1</th>\n      <td>87964</td>\n      <td>10009881</td>\n      <td>psp-slim-lite-sony-piano-black</td>\n      <td>PSP Slim &amp; Lite Sony Piano Black</td>\n      <td>169.99</td>\n      <td>74.70</td>\n      <td>0.15</td>\n      <td>0.75</td>\n      <td>0</td>\n      <td>1</td>\n      <td>60</td>\n      <td>498</td>\n      <td>1</td>\n    </tr>\n    <tr>\n      <th>2</th>\n      <td>87965</td>\n      <td>10009881</td>\n      <td>psp-slim-lite-sony-piano-black</td>\n      <td>PSP Slim &amp; Lite Sony Piano Black</td>\n      <td>169.99</td>\n      <td>83.10</td>\n      <td>0.15</td>\n      <td>0.75</td>\n      <td>0</td>\n      <td>1</td>\n      <td>60</td>\n      <td>554</td>\n      <td>1</td>\n    </tr>\n    <tr>\n      <th>3</th>\n      <td>88638</td>\n      <td>10006115</td>\n      <td>sony-ericsson-s500i-unlocked-mysterious-</td>\n      <td>Sony Ericsson S500i Unlocked Mysterious Green</td>\n      <td>499.99</td>\n      <td>19.65</td>\n      <td>0.15</td>\n      <td>0.75</td>\n      <td>0</td>\n      <td>0</td>\n      <td>69</td>\n      <td>131</td>\n      <td>1</td>\n    </tr>\n    <tr>\n      <th>4</th>\n      <td>88639</td>\n      <td>10006115</td>\n      <td>sony-ericsson-s500i-unlocked-mysterious-</td>\n      <td>Sony Ericsson S500i Unlocked Mysterious Green</td>\n      <td>499.99</td>\n      <td>47.10</td>\n      <td>0.15</td>\n      <td>0.75</td>\n      <td>0</td>\n      <td>0</td>\n      <td>69</td>\n      <td>314</td>\n      <td>1</td>\n    </tr>\n  </tbody>\n</table>\n</div>"
     },
     "execution_count": 21,
     "metadata": {},
     "output_type": "execute_result"
    }
   ],
   "source": [
    "features = unique_setting_NN+['N']\n",
    "\n",
    "data_grouped = data_thrld.groupby(by=features,as_index=False)\n",
    "data_cnt_N = pd.DataFrame(data_grouped.size())\n",
    "data_cnt_N.rename(columns={'size': 'cnt_N'}, inplace=True)\n",
    "\n",
    "data_P = pd.merge(data_thrld,data_cnt_N,on=features,how=\"left\")\n",
    "data_P.head()\n",
    "# pd.merge(data_thrld,data_cnt_N,on=features,how=\"\")"
   ],
   "metadata": {
    "collapsed": false
   }
  },
  {
   "cell_type": "markdown",
   "source": [
    "### 3.2.2 计算P\n",
    "- P = cnt_n / cnt_uniq\n",
    "- 输出的结果在`data_withn_cnt_n12`中，其中包含了所需要的3个值：cnt_n_2 cnt_uniq"
   ],
   "metadata": {
    "collapsed": false
   }
  },
  {
   "cell_type": "code",
   "execution_count": 22,
   "outputs": [
    {
     "data": {
      "text/plain": "   auction_id  product_id                                      item  \\\n0       86827    10009602  sony-ericsson-s500i-unlocked-mysterious-   \n1       87964    10009881            psp-slim-lite-sony-piano-black   \n2       87965    10009881            psp-slim-lite-sony-piano-black   \n3       88638    10006115  sony-ericsson-s500i-unlocked-mysterious-   \n4       88639    10006115  sony-ericsson-s500i-unlocked-mysterious-   \n\n                                            desc  retail  price  bidincrement  \\\n0  Sony Ericsson S500i Unlocked Mysterious Green  499.99  13.35          0.15   \n1               PSP Slim & Lite Sony Piano Black  169.99  74.70          0.15   \n2               PSP Slim & Lite Sony Piano Black  169.99  83.10          0.15   \n3  Sony Ericsson S500i Unlocked Mysterious Green  499.99  19.65          0.15   \n4  Sony Ericsson S500i Unlocked Mysterious Green  499.99  47.10          0.15   \n\n   bidfee  flg_endprice  id  cnt_uniq    N  cnt_N         P  \n0    0.75             0   0        69   89      1  0.014493  \n1    0.75             0   1        60  498      1  0.016667  \n2    0.75             0   1        60  554      1  0.016667  \n3    0.75             0   0        69  131      1  0.014493  \n4    0.75             0   0        69  314      1  0.014493  ",
      "text/html": "<div>\n<style scoped>\n    .dataframe tbody tr th:only-of-type {\n        vertical-align: middle;\n    }\n\n    .dataframe tbody tr th {\n        vertical-align: top;\n    }\n\n    .dataframe thead th {\n        text-align: right;\n    }\n</style>\n<table border=\"1\" class=\"dataframe\">\n  <thead>\n    <tr style=\"text-align: right;\">\n      <th></th>\n      <th>auction_id</th>\n      <th>product_id</th>\n      <th>item</th>\n      <th>desc</th>\n      <th>retail</th>\n      <th>price</th>\n      <th>bidincrement</th>\n      <th>bidfee</th>\n      <th>flg_endprice</th>\n      <th>id</th>\n      <th>cnt_uniq</th>\n      <th>N</th>\n      <th>cnt_N</th>\n      <th>P</th>\n    </tr>\n  </thead>\n  <tbody>\n    <tr>\n      <th>0</th>\n      <td>86827</td>\n      <td>10009602</td>\n      <td>sony-ericsson-s500i-unlocked-mysterious-</td>\n      <td>Sony Ericsson S500i Unlocked Mysterious Green</td>\n      <td>499.99</td>\n      <td>13.35</td>\n      <td>0.15</td>\n      <td>0.75</td>\n      <td>0</td>\n      <td>0</td>\n      <td>69</td>\n      <td>89</td>\n      <td>1</td>\n      <td>0.014493</td>\n    </tr>\n    <tr>\n      <th>1</th>\n      <td>87964</td>\n      <td>10009881</td>\n      <td>psp-slim-lite-sony-piano-black</td>\n      <td>PSP Slim &amp; Lite Sony Piano Black</td>\n      <td>169.99</td>\n      <td>74.70</td>\n      <td>0.15</td>\n      <td>0.75</td>\n      <td>0</td>\n      <td>1</td>\n      <td>60</td>\n      <td>498</td>\n      <td>1</td>\n      <td>0.016667</td>\n    </tr>\n    <tr>\n      <th>2</th>\n      <td>87965</td>\n      <td>10009881</td>\n      <td>psp-slim-lite-sony-piano-black</td>\n      <td>PSP Slim &amp; Lite Sony Piano Black</td>\n      <td>169.99</td>\n      <td>83.10</td>\n      <td>0.15</td>\n      <td>0.75</td>\n      <td>0</td>\n      <td>1</td>\n      <td>60</td>\n      <td>554</td>\n      <td>1</td>\n      <td>0.016667</td>\n    </tr>\n    <tr>\n      <th>3</th>\n      <td>88638</td>\n      <td>10006115</td>\n      <td>sony-ericsson-s500i-unlocked-mysterious-</td>\n      <td>Sony Ericsson S500i Unlocked Mysterious Green</td>\n      <td>499.99</td>\n      <td>19.65</td>\n      <td>0.15</td>\n      <td>0.75</td>\n      <td>0</td>\n      <td>0</td>\n      <td>69</td>\n      <td>131</td>\n      <td>1</td>\n      <td>0.014493</td>\n    </tr>\n    <tr>\n      <th>4</th>\n      <td>88639</td>\n      <td>10006115</td>\n      <td>sony-ericsson-s500i-unlocked-mysterious-</td>\n      <td>Sony Ericsson S500i Unlocked Mysterious Green</td>\n      <td>499.99</td>\n      <td>47.10</td>\n      <td>0.15</td>\n      <td>0.75</td>\n      <td>0</td>\n      <td>0</td>\n      <td>69</td>\n      <td>314</td>\n      <td>1</td>\n      <td>0.014493</td>\n    </tr>\n  </tbody>\n</table>\n</div>"
     },
     "execution_count": 22,
     "metadata": {},
     "output_type": "execute_result"
    }
   ],
   "source": [
    "data_P['P'] = data_P['cnt_N'] / data_P['cnt_uniq']\n",
    "data_P.head()"
   ],
   "metadata": {
    "collapsed": false
   }
  },
  {
   "cell_type": "markdown",
   "source": [
    "- 保留部分列"
   ],
   "metadata": {
    "collapsed": false
   }
  },
  {
   "cell_type": "code",
   "execution_count": 23,
   "outputs": [
    {
     "data": {
      "text/plain": "   auction_id  product_id                                           desc  \\\n0       86827    10009602  Sony Ericsson S500i Unlocked Mysterious Green   \n1       87964    10009881               PSP Slim & Lite Sony Piano Black   \n2       87965    10009881               PSP Slim & Lite Sony Piano Black   \n3       88638    10006115  Sony Ericsson S500i Unlocked Mysterious Green   \n4       88639    10006115  Sony Ericsson S500i Unlocked Mysterious Green   \n\n   retail  price  bidincrement  bidfee  flg_endprice    N  cnt_N         P  \n0  499.99  13.35          0.15    0.75             0   89      1  0.014493  \n1  169.99  74.70          0.15    0.75             0  498      1  0.016667  \n2  169.99  83.10          0.15    0.75             0  554      1  0.016667  \n3  499.99  19.65          0.15    0.75             0  131      1  0.014493  \n4  499.99  47.10          0.15    0.75             0  314      1  0.014493  ",
      "text/html": "<div>\n<style scoped>\n    .dataframe tbody tr th:only-of-type {\n        vertical-align: middle;\n    }\n\n    .dataframe tbody tr th {\n        vertical-align: top;\n    }\n\n    .dataframe thead th {\n        text-align: right;\n    }\n</style>\n<table border=\"1\" class=\"dataframe\">\n  <thead>\n    <tr style=\"text-align: right;\">\n      <th></th>\n      <th>auction_id</th>\n      <th>product_id</th>\n      <th>desc</th>\n      <th>retail</th>\n      <th>price</th>\n      <th>bidincrement</th>\n      <th>bidfee</th>\n      <th>flg_endprice</th>\n      <th>N</th>\n      <th>cnt_N</th>\n      <th>P</th>\n    </tr>\n  </thead>\n  <tbody>\n    <tr>\n      <th>0</th>\n      <td>86827</td>\n      <td>10009602</td>\n      <td>Sony Ericsson S500i Unlocked Mysterious Green</td>\n      <td>499.99</td>\n      <td>13.35</td>\n      <td>0.15</td>\n      <td>0.75</td>\n      <td>0</td>\n      <td>89</td>\n      <td>1</td>\n      <td>0.014493</td>\n    </tr>\n    <tr>\n      <th>1</th>\n      <td>87964</td>\n      <td>10009881</td>\n      <td>PSP Slim &amp; Lite Sony Piano Black</td>\n      <td>169.99</td>\n      <td>74.70</td>\n      <td>0.15</td>\n      <td>0.75</td>\n      <td>0</td>\n      <td>498</td>\n      <td>1</td>\n      <td>0.016667</td>\n    </tr>\n    <tr>\n      <th>2</th>\n      <td>87965</td>\n      <td>10009881</td>\n      <td>PSP Slim &amp; Lite Sony Piano Black</td>\n      <td>169.99</td>\n      <td>83.10</td>\n      <td>0.15</td>\n      <td>0.75</td>\n      <td>0</td>\n      <td>554</td>\n      <td>1</td>\n      <td>0.016667</td>\n    </tr>\n    <tr>\n      <th>3</th>\n      <td>88638</td>\n      <td>10006115</td>\n      <td>Sony Ericsson S500i Unlocked Mysterious Green</td>\n      <td>499.99</td>\n      <td>19.65</td>\n      <td>0.15</td>\n      <td>0.75</td>\n      <td>0</td>\n      <td>131</td>\n      <td>1</td>\n      <td>0.014493</td>\n    </tr>\n    <tr>\n      <th>4</th>\n      <td>88639</td>\n      <td>10006115</td>\n      <td>Sony Ericsson S500i Unlocked Mysterious Green</td>\n      <td>499.99</td>\n      <td>47.10</td>\n      <td>0.15</td>\n      <td>0.75</td>\n      <td>0</td>\n      <td>314</td>\n      <td>1</td>\n      <td>0.014493</td>\n    </tr>\n  </tbody>\n</table>\n</div>"
     },
     "execution_count": 23,
     "metadata": {},
     "output_type": "execute_result"
    }
   ],
   "source": [
    "data_P.drop(columns=['cnt_uniq','id','item'],inplace=True,axis=1)\n",
    "# features_keep = unique_setting_NN +['N'] + ['P']+['cnt_N']  # 想保留的列\n",
    "# data_P = data_P[features_keep].copy()\n",
    "data_P.head()"
   ],
   "metadata": {
    "collapsed": false
   }
  },
  {
   "cell_type": "markdown",
   "source": [
    "# 4. 保存结果\n"
   ],
   "metadata": {
    "collapsed": false
   }
  },
  {
   "cell_type": "code",
   "execution_count": 27,
   "outputs": [
    {
     "name": "stdout",
     "output_type": "stream",
     "text": [
      "小数据集一共有 106959 条记录\n"
     ]
    }
   ],
   "source": [
    "data_P.to_csv(data_np_path,encoding=\"utf-8\",index=False,header=True)\n",
    "print(f\"小数据集一共有 {data_P.shape[0]} 条记录\")"
   ],
   "metadata": {
    "collapsed": false
   }
  },
  {
   "cell_type": "code",
   "execution_count": 28,
   "outputs": [
    {
     "data": {
      "text/plain": "                                            desc\n0  Sony Ericsson S500i Unlocked Mysterious Green\n1               PSP Slim & Lite Sony Piano Black\n2     iPod Touch Apple 8GB with Software Upgrade\n3      Logitech Cordless Wave Keyboard and Mouse\n4                     SanDisk Cruzer Contour 4GB",
      "text/html": "<div>\n<style scoped>\n    .dataframe tbody tr th:only-of-type {\n        vertical-align: middle;\n    }\n\n    .dataframe tbody tr th {\n        vertical-align: top;\n    }\n\n    .dataframe thead th {\n        text-align: right;\n    }\n</style>\n<table border=\"1\" class=\"dataframe\">\n  <thead>\n    <tr style=\"text-align: right;\">\n      <th></th>\n      <th>desc</th>\n    </tr>\n  </thead>\n  <tbody>\n    <tr>\n      <th>0</th>\n      <td>Sony Ericsson S500i Unlocked Mysterious Green</td>\n    </tr>\n    <tr>\n      <th>1</th>\n      <td>PSP Slim &amp; Lite Sony Piano Black</td>\n    </tr>\n    <tr>\n      <th>2</th>\n      <td>iPod Touch Apple 8GB with Software Upgrade</td>\n    </tr>\n    <tr>\n      <th>3</th>\n      <td>Logitech Cordless Wave Keyboard and Mouse</td>\n    </tr>\n    <tr>\n      <th>4</th>\n      <td>SanDisk Cruzer Contour 4GB</td>\n    </tr>\n  </tbody>\n</table>\n</div>"
     },
     "execution_count": 28,
     "metadata": {},
     "output_type": "execute_result"
    }
   ],
   "source": [
    "item_df = pd.DataFrame(data_P['desc'].drop_duplicates(inplace=False))\n",
    "item_df.reset_index(drop=True,inplace=True)\n",
    "item_df.to_csv(prod_path,encoding=\"utf-8\",index=False,header=True)\n",
    "item_df.head()"
   ],
   "metadata": {
    "collapsed": false
   }
  },
  {
   "cell_type": "markdown",
   "source": [
    "- 保存data key"
   ],
   "metadata": {
    "collapsed": false
   }
  },
  {
   "cell_type": "code",
   "execution_count": 29,
   "outputs": [
    {
     "name": "stdout",
     "output_type": "stream",
     "text": [
      "当setting = ['bidincrement', 'bidfee', 'retail', 'flg_endprice']\n",
      "一共有 *607*场不同的auction\n"
     ]
    }
   ],
   "source": [
    "data_auction_GT = data_P[unique_setting_GT].copy()\n",
    "settings_GT = data_auction_GT.drop_duplicates(ignore_index=True)\n",
    "settings_GT.to_csv(settings_GT_path,encoding=\"utf-8\",index=False,header=True)\n",
    "\n",
    "print(f\"当setting = {unique_setting_GT}\")\n",
    "print(f\"一共有 *{settings_GT.shape[0]}*场不同的auction\")"
   ],
   "metadata": {
    "collapsed": false
   }
  },
  {
   "cell_type": "code",
   "execution_count": 30,
   "outputs": [
    {
     "name": "stdout",
     "output_type": "stream",
     "text": [
      "当setting = ['desc', 'bidincrement', 'bidfee', 'retail', 'flg_endprice']\n",
      "一共有 *1196*场不同的auction\n"
     ]
    }
   ],
   "source": [
    "data_auction_NN = data_P[unique_setting_NN].copy()\n",
    "settings_NN = data_auction_NN.drop_duplicates(ignore_index=True)\n",
    "settings_NN.to_csv(settings_NN_path,encoding=\"utf-8\",index=False,header=True)\n",
    "\n",
    "print(f\"当setting = {unique_setting_NN}\")\n",
    "print(f\"一共有 *{settings_NN.shape[0]}*场不同的auction\")"
   ],
   "metadata": {
    "collapsed": false
   }
  }
 ],
 "metadata": {
  "kernelspec": {
   "display_name": "Python 3",
   "language": "python",
   "name": "python3"
  },
  "language_info": {
   "codemirror_mode": {
    "name": "ipython",
    "version": 2
   },
   "file_extension": ".py",
   "mimetype": "text/x-python",
   "name": "python",
   "nbconvert_exporter": "python",
   "pygments_lexer": "ipython2",
   "version": "2.7.6"
  }
 },
 "nbformat": 4,
 "nbformat_minor": 0
}
