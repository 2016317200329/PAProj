{
 "cells": [
  {
   "cell_type": "code",
   "execution_count": 35,
   "outputs": [],
   "source": [
    "#!/usr/bin/env python\n",
    "# -*- coding: utf-8 -*-\n",
    "# @Time    : 2022/9/26 14:40\n",
    "# @Author  : Wang Yujia\n",
    "# @File    : data_extract_for_asc_symmetry_2.ipynb\n",
    "# @Description : 1. 使用【method-2】计算target_n和target_p 2.为ascending-price 的GT模型 **以及** PT模型，从outcomes中提取features和data。"
   ],
   "metadata": {
    "collapsed": false
   }
  },
  {
   "cell_type": "markdown",
   "source": [
    "# 0. what for\n",
    "1. 提取ascending-price auction（symmetry）的GT model需要的features, or settings\n",
    "    - 并不是所有settings都会被considered into, 样本数小于`threshold`的settings不予考虑\n",
    "2. 根据1中的settings，提取对应的data. 选择**method-2**计算`n`与`p`，作为target data使用\n",
    "3. 代码参考自`../BasicInfo/calculate_n.np`，对于列名/参数名进行了优化和更改\n",
    "4. Output：2个csv\n",
    "    - `datawithnp_asc_symmetry_2.csv`：去除了重复行，但是未没经过threshold筛选的data\n",
    "    - `datawithnp_asc_symmetry_2_selected.csv`去除了重复行，且经过threshold筛选，GTmodel需要的参数和target data都在这里了\n",
    "5. **当GT模型计算需要更多的feature时**，更改`unique_setting`就好，把需要的feature提取出来\n",
    "6. **检查逻辑的2个思路**：\n",
    "    - 对于同一个unique setting, 是不是 sum(['cnt_n_1'])==['cnt_uniq'].\n",
    "    - 对于同一个unique setting, 是不是['cnt_n_1']==2对应的['P']是['cnt_n_1']==1对应的['P']的 2倍\n",
    "    - 逻辑检查 see 2.2.4\n",
    "7. 刚意识到，'n'这个值其实是不会变的，变的是'p'，后者取决于我们把什么样的feature归为一类，而前者就是一场拍卖的轮数，是一个既已发生的客观值"
   ],
   "metadata": {
    "collapsed": false
   }
  },
  {
   "cell_type": "markdown",
   "source": [
    "# 1. Preparations\n",
    "## 1.1 全局设置"
   ],
   "metadata": {
    "collapsed": false
   }
  },
  {
   "cell_type": "code",
   "execution_count": 16,
   "outputs": [],
   "source": [
    "# outcomes dataset\n",
    "outcomes_orignal_path = \"../data/outcomes.tsv\"\n",
    "\n",
    "# 计算完n和p后，可以使用的dataset被output在\n",
    "output_path = \"../data/info_asymm/datawithnp_asc_symmetry_2.csv\"\n",
    "# 经过threshold后，得到的dataset\n",
    "data_selected_path = \"../data/info_asymm/datawithnp_asc_symmetry_2_selected.csv\"\n",
    "\n",
    "# 最终GT model需要的features（不包括np），其中`product_id` is not necessary\n",
    "# features_GT = ['bidincrement','bidfee','retail']\n",
    "\n",
    "# 衡量一场auction是否unique的标志\n",
    "unique_setting = ['product_id', 'bidincrement', 'bidfee','retail']\n",
    "# To get 'n' by method-2, need this feature:\n",
    "price_feature = ['price']\n",
    "\n",
    "# 样本数小于`threshold`的settings不予考虑\n",
    "threshold = 16\n",
    "\n",
    "import numpy as np\n",
    "import pandas as pd"
   ],
   "metadata": {
    "collapsed": false
   }
  },
  {
   "cell_type": "markdown",
   "source": [
    "## 1.2 读取data与清洗\n",
    "1. 清洗掉data where `(outcomes['bidfee']*0.01) >= outcomes['retail']`，这种data无意义"
   ],
   "metadata": {
    "collapsed": false
   }
  },
  {
   "cell_type": "code",
   "execution_count": 21,
   "outputs": [
    {
     "name": "stdout",
     "output_type": "stream",
     "text": [
      "Drop 掉了 *32* 行data，他们的bidfee >= retail\n"
     ]
    }
   ],
   "source": [
    "outcomes = pd.read_csv(outcomes_orignal_path, sep='\\t')\n",
    "# outcomes = outcomes[(unique_setting+price_feature)]\n",
    "idx_drop = outcomes[(outcomes['bidfee']*0.01)>=outcomes['retail']].index\n",
    "outcomes.drop(idx_drop,axis = 0,inplace=True)\n",
    "print(\"Drop 掉了 *{}* 行data，他们的bidfee >= retail\".format(len(idx_drop)))"
   ],
   "metadata": {
    "collapsed": false
   }
  },
  {
   "cell_type": "markdown",
   "source": [
    "2. 清洗掉['flg_fixedprice'] == 1的数据，只保留增价拍卖"
   ],
   "metadata": {
    "collapsed": false
   }
  },
  {
   "cell_type": "code",
   "execution_count": 22,
   "outputs": [
    {
     "name": "stdout",
     "output_type": "stream",
     "text": [
      "Drop 掉了 *2203* 行data，他们不是增价拍卖（是fixed-price）\n"
     ]
    }
   ],
   "source": [
    "b = outcomes.shape[0]\n",
    "outcomes_asc = outcomes[np.array(outcomes['flg_fixedprice'] == 0)].copy()\n",
    "print(f\"Drop 掉了 *{b- outcomes_asc.shape[0]}* 行data，他们不是增价拍卖（是fixed-price）\")"
   ],
   "metadata": {
    "collapsed": false
   }
  },
  {
   "cell_type": "markdown",
   "source": [
    "3. 要不要drop掉'finalprice'和 'price'不一致的data呢？"
   ],
   "metadata": {
    "collapsed": false
   }
  },
  {
   "cell_type": "code",
   "execution_count": 23,
   "outputs": [
    {
     "name": "stdout",
     "output_type": "stream",
     "text": [
      "'finalprice'和 'price'不一致的data有 *4556* 个\n"
     ]
    }
   ],
   "source": [
    "b = sum(outcomes_asc['finalprice'] == outcomes_asc['price'])\n",
    "print(f\"'finalprice'和 'price'不一致的data有 *{outcomes_asc.shape[0]-b}* 个\")"
   ],
   "metadata": {
    "collapsed": false
   }
  },
  {
   "cell_type": "markdown",
   "source": [
    "# 2. 计算N和P\n",
    "## 2.1 计算N\n",
    "1. 这里计算N是 **“方法二”** ：在`outcomes.tsv`中通过(price-0)/bidincrement来计算"
   ],
   "metadata": {
    "collapsed": false
   }
  },
  {
   "cell_type": "code",
   "execution_count": 24,
   "outputs": [],
   "source": [
    "data_withn = outcomes_asc.copy()\n",
    "data_withn.loc[:,'n_2'] = outcomes_asc.loc[:,'price'] / (outcomes_asc.loc[:,'bidincrement']*0.01)\n",
    "data_withn['n_2'] = data_withn['n_2'].astype(int)                      # 把n变成int\n",
    "\n",
    "# data_withn = data_withn.drop(price_feature,axis=1)                     # 去掉【绝对】不用的列"
   ],
   "metadata": {
    "collapsed": false
   }
  },
  {
   "cell_type": "markdown",
   "source": [
    "## 2.2 计算p\n",
    "1. unique setting一样的auction认为是同一个\n",
    "2. `P = cnt_n_2 / cnt_uniq`\n",
    "3. `cnt_uniq = ['n_2'].nunique()` when 'unique setting' is the same"
   ],
   "metadata": {
    "collapsed": false
   }
  },
  {
   "cell_type": "code",
   "execution_count": 28,
   "outputs": [
    {
     "data": {
      "text/plain": "(3666, 5)"
     },
     "execution_count": 28,
     "metadata": {},
     "output_type": "execute_result"
    }
   ],
   "source": [
    "# 2.2.1 each unique setting对应了'cnt_uniq'场auction: data_withn_cnt\n",
    "# 注意'cnt_uniq'本来并不需要出现在最后的data中，但是后面用threshold会联动一下\n",
    "# 最后的data中保留了这一项，方便计算likelihood\n",
    "data_grouped_tmp = data_withn.groupby(unique_setting,as_index=False)\n",
    "tmp = pd.DataFrame(data_grouped_tmp.size())\n",
    "# 现在是3666个auction uniq settings"
   ],
   "metadata": {
    "collapsed": false
   }
  },
  {
   "cell_type": "code",
   "execution_count": 29,
   "outputs": [
    {
     "data": {
      "text/plain": "   auction_id  product_id                                      item  \\\n0       86827    10009602  sony-ericsson-s500i-unlocked-mysterious-   \n1       87964    10009881            psp-slim-lite-sony-piano-black   \n2       87965    10009881            psp-slim-lite-sony-piano-black   \n3       88638    10006115  sony-ericsson-s500i-unlocked-mysterious-   \n4       88639    10006115  sony-ericsson-s500i-unlocked-mysterious-   \n\n                                            desc  retail  price  finalprice  \\\n0  Sony Ericsson S500i Unlocked Mysterious Green  499.99  13.35       13.35   \n1               PSP Slim & Lite Sony Piano Black  169.99  74.70       74.70   \n2               PSP Slim & Lite Sony Piano Black  169.99  83.10       83.10   \n3  Sony Ericsson S500i Unlocked Mysterious Green  499.99  19.65       19.65   \n4  Sony Ericsson S500i Unlocked Mysterious Green  499.99  47.10       47.10   \n\n   bidincrement  bidfee        winner  placedbids  freebids  \\\n0            15      75       Racer11          26         0   \n1            15      75        Cemo23          65         0   \n2            15      75  Jacobsonnich          94         0   \n3            15      75        Mokkis          10         0   \n4            15      75  Superloeffel          80         0   \n\n            endtime_str  flg_click_only  flg_beginnerauction  flg_fixedprice  \\\n0  19:52 PDT 09-16-2008               0                    0               0   \n1  11:17 PDT 08-28-2008               0                    0               0   \n2  22:52 PDT 11-07-2008               0                    1               0   \n3  22:02 PDT 08-23-2008               0                    0               0   \n4  14:23 PDT 08-24-2008               0                    0               0   \n\n   flg_endprice  n_2  cnt_uniq  \n0             0   89        10  \n1             0  498        21  \n2             0  554        21  \n3             0  131        33  \n4             0  314        33  ",
      "text/html": "<div>\n<style scoped>\n    .dataframe tbody tr th:only-of-type {\n        vertical-align: middle;\n    }\n\n    .dataframe tbody tr th {\n        vertical-align: top;\n    }\n\n    .dataframe thead th {\n        text-align: right;\n    }\n</style>\n<table border=\"1\" class=\"dataframe\">\n  <thead>\n    <tr style=\"text-align: right;\">\n      <th></th>\n      <th>auction_id</th>\n      <th>product_id</th>\n      <th>item</th>\n      <th>desc</th>\n      <th>retail</th>\n      <th>price</th>\n      <th>finalprice</th>\n      <th>bidincrement</th>\n      <th>bidfee</th>\n      <th>winner</th>\n      <th>placedbids</th>\n      <th>freebids</th>\n      <th>endtime_str</th>\n      <th>flg_click_only</th>\n      <th>flg_beginnerauction</th>\n      <th>flg_fixedprice</th>\n      <th>flg_endprice</th>\n      <th>n_2</th>\n      <th>cnt_uniq</th>\n    </tr>\n  </thead>\n  <tbody>\n    <tr>\n      <th>0</th>\n      <td>86827</td>\n      <td>10009602</td>\n      <td>sony-ericsson-s500i-unlocked-mysterious-</td>\n      <td>Sony Ericsson S500i Unlocked Mysterious Green</td>\n      <td>499.99</td>\n      <td>13.35</td>\n      <td>13.35</td>\n      <td>15</td>\n      <td>75</td>\n      <td>Racer11</td>\n      <td>26</td>\n      <td>0</td>\n      <td>19:52 PDT 09-16-2008</td>\n      <td>0</td>\n      <td>0</td>\n      <td>0</td>\n      <td>0</td>\n      <td>89</td>\n      <td>10</td>\n    </tr>\n    <tr>\n      <th>1</th>\n      <td>87964</td>\n      <td>10009881</td>\n      <td>psp-slim-lite-sony-piano-black</td>\n      <td>PSP Slim &amp; Lite Sony Piano Black</td>\n      <td>169.99</td>\n      <td>74.70</td>\n      <td>74.70</td>\n      <td>15</td>\n      <td>75</td>\n      <td>Cemo23</td>\n      <td>65</td>\n      <td>0</td>\n      <td>11:17 PDT 08-28-2008</td>\n      <td>0</td>\n      <td>0</td>\n      <td>0</td>\n      <td>0</td>\n      <td>498</td>\n      <td>21</td>\n    </tr>\n    <tr>\n      <th>2</th>\n      <td>87965</td>\n      <td>10009881</td>\n      <td>psp-slim-lite-sony-piano-black</td>\n      <td>PSP Slim &amp; Lite Sony Piano Black</td>\n      <td>169.99</td>\n      <td>83.10</td>\n      <td>83.10</td>\n      <td>15</td>\n      <td>75</td>\n      <td>Jacobsonnich</td>\n      <td>94</td>\n      <td>0</td>\n      <td>22:52 PDT 11-07-2008</td>\n      <td>0</td>\n      <td>1</td>\n      <td>0</td>\n      <td>0</td>\n      <td>554</td>\n      <td>21</td>\n    </tr>\n    <tr>\n      <th>3</th>\n      <td>88638</td>\n      <td>10006115</td>\n      <td>sony-ericsson-s500i-unlocked-mysterious-</td>\n      <td>Sony Ericsson S500i Unlocked Mysterious Green</td>\n      <td>499.99</td>\n      <td>19.65</td>\n      <td>19.65</td>\n      <td>15</td>\n      <td>75</td>\n      <td>Mokkis</td>\n      <td>10</td>\n      <td>0</td>\n      <td>22:02 PDT 08-23-2008</td>\n      <td>0</td>\n      <td>0</td>\n      <td>0</td>\n      <td>0</td>\n      <td>131</td>\n      <td>33</td>\n    </tr>\n    <tr>\n      <th>4</th>\n      <td>88639</td>\n      <td>10006115</td>\n      <td>sony-ericsson-s500i-unlocked-mysterious-</td>\n      <td>Sony Ericsson S500i Unlocked Mysterious Green</td>\n      <td>499.99</td>\n      <td>47.10</td>\n      <td>47.10</td>\n      <td>15</td>\n      <td>75</td>\n      <td>Superloeffel</td>\n      <td>80</td>\n      <td>0</td>\n      <td>14:23 PDT 08-24-2008</td>\n      <td>0</td>\n      <td>0</td>\n      <td>0</td>\n      <td>0</td>\n      <td>314</td>\n      <td>33</td>\n    </tr>\n  </tbody>\n</table>\n</div>"
     },
     "execution_count": 29,
     "metadata": {},
     "output_type": "execute_result"
    }
   ],
   "source": [
    "data_withn_cnt = pd.merge(data_withn, tmp, on=unique_setting, how=\"left\")\n",
    "data_withn_cnt.rename(columns={'size': 'cnt_uniq'}, inplace=True)\n",
    "data_withn_cnt.head()"
   ],
   "metadata": {
    "collapsed": false
   }
  },
  {
   "cell_type": "markdown",
   "source": [
    "- P = cnt_n / cnt_uniq,上面已经算了' cnt_uniq'，下面需要算cnt_n"
   ],
   "metadata": {
    "collapsed": false
   }
  },
  {
   "cell_type": "code",
   "source": [
    "# 2.2.2 计算cnt_n_2，并添加到data_withn的一列: data_withn_cnt_n1\n",
    "        # cnt_n_2表示某个setting下的n_1某数值出现了几次/ Example: cnt_n=2表示在某个setting下，有2场拍卖持续了n_1轮\n",
    "features_cnt_n_2 = unique_setting+['n_2']\n",
    "data_grouped_tmp = data_withn.groupby(features_cnt_n_2,as_index=False)\n",
    "tmp = pd.DataFrame(data_grouped_tmp.size())\n",
    "\n",
    "data_withn_cnt_n2 = pd.merge(data_withn_cnt, tmp, on=features_cnt_n_2, how=\"left\")\n",
    "data_withn_cnt_n2.rename(columns={'size': 'cnt_n_2'}, inplace=True)\n",
    "data_withn_cnt_n2.head()"
   ],
   "metadata": {
    "collapsed": false
   },
   "execution_count": 30,
   "outputs": [
    {
     "data": {
      "text/plain": "   auction_id  product_id                                      item  \\\n0       86827    10009602  sony-ericsson-s500i-unlocked-mysterious-   \n1       87964    10009881            psp-slim-lite-sony-piano-black   \n2       87965    10009881            psp-slim-lite-sony-piano-black   \n3       88638    10006115  sony-ericsson-s500i-unlocked-mysterious-   \n4       88639    10006115  sony-ericsson-s500i-unlocked-mysterious-   \n\n                                            desc  retail  price  finalprice  \\\n0  Sony Ericsson S500i Unlocked Mysterious Green  499.99  13.35       13.35   \n1               PSP Slim & Lite Sony Piano Black  169.99  74.70       74.70   \n2               PSP Slim & Lite Sony Piano Black  169.99  83.10       83.10   \n3  Sony Ericsson S500i Unlocked Mysterious Green  499.99  19.65       19.65   \n4  Sony Ericsson S500i Unlocked Mysterious Green  499.99  47.10       47.10   \n\n   bidincrement  bidfee        winner  placedbids  freebids  \\\n0            15      75       Racer11          26         0   \n1            15      75        Cemo23          65         0   \n2            15      75  Jacobsonnich          94         0   \n3            15      75        Mokkis          10         0   \n4            15      75  Superloeffel          80         0   \n\n            endtime_str  flg_click_only  flg_beginnerauction  flg_fixedprice  \\\n0  19:52 PDT 09-16-2008               0                    0               0   \n1  11:17 PDT 08-28-2008               0                    0               0   \n2  22:52 PDT 11-07-2008               0                    1               0   \n3  22:02 PDT 08-23-2008               0                    0               0   \n4  14:23 PDT 08-24-2008               0                    0               0   \n\n   flg_endprice  n_2  cnt_uniq  cnt_n_2  \n0             0   89        10        1  \n1             0  498        21        1  \n2             0  554        21        1  \n3             0  131        33        1  \n4             0  314        33        1  ",
      "text/html": "<div>\n<style scoped>\n    .dataframe tbody tr th:only-of-type {\n        vertical-align: middle;\n    }\n\n    .dataframe tbody tr th {\n        vertical-align: top;\n    }\n\n    .dataframe thead th {\n        text-align: right;\n    }\n</style>\n<table border=\"1\" class=\"dataframe\">\n  <thead>\n    <tr style=\"text-align: right;\">\n      <th></th>\n      <th>auction_id</th>\n      <th>product_id</th>\n      <th>item</th>\n      <th>desc</th>\n      <th>retail</th>\n      <th>price</th>\n      <th>finalprice</th>\n      <th>bidincrement</th>\n      <th>bidfee</th>\n      <th>winner</th>\n      <th>placedbids</th>\n      <th>freebids</th>\n      <th>endtime_str</th>\n      <th>flg_click_only</th>\n      <th>flg_beginnerauction</th>\n      <th>flg_fixedprice</th>\n      <th>flg_endprice</th>\n      <th>n_2</th>\n      <th>cnt_uniq</th>\n      <th>cnt_n_2</th>\n    </tr>\n  </thead>\n  <tbody>\n    <tr>\n      <th>0</th>\n      <td>86827</td>\n      <td>10009602</td>\n      <td>sony-ericsson-s500i-unlocked-mysterious-</td>\n      <td>Sony Ericsson S500i Unlocked Mysterious Green</td>\n      <td>499.99</td>\n      <td>13.35</td>\n      <td>13.35</td>\n      <td>15</td>\n      <td>75</td>\n      <td>Racer11</td>\n      <td>26</td>\n      <td>0</td>\n      <td>19:52 PDT 09-16-2008</td>\n      <td>0</td>\n      <td>0</td>\n      <td>0</td>\n      <td>0</td>\n      <td>89</td>\n      <td>10</td>\n      <td>1</td>\n    </tr>\n    <tr>\n      <th>1</th>\n      <td>87964</td>\n      <td>10009881</td>\n      <td>psp-slim-lite-sony-piano-black</td>\n      <td>PSP Slim &amp; Lite Sony Piano Black</td>\n      <td>169.99</td>\n      <td>74.70</td>\n      <td>74.70</td>\n      <td>15</td>\n      <td>75</td>\n      <td>Cemo23</td>\n      <td>65</td>\n      <td>0</td>\n      <td>11:17 PDT 08-28-2008</td>\n      <td>0</td>\n      <td>0</td>\n      <td>0</td>\n      <td>0</td>\n      <td>498</td>\n      <td>21</td>\n      <td>1</td>\n    </tr>\n    <tr>\n      <th>2</th>\n      <td>87965</td>\n      <td>10009881</td>\n      <td>psp-slim-lite-sony-piano-black</td>\n      <td>PSP Slim &amp; Lite Sony Piano Black</td>\n      <td>169.99</td>\n      <td>83.10</td>\n      <td>83.10</td>\n      <td>15</td>\n      <td>75</td>\n      <td>Jacobsonnich</td>\n      <td>94</td>\n      <td>0</td>\n      <td>22:52 PDT 11-07-2008</td>\n      <td>0</td>\n      <td>1</td>\n      <td>0</td>\n      <td>0</td>\n      <td>554</td>\n      <td>21</td>\n      <td>1</td>\n    </tr>\n    <tr>\n      <th>3</th>\n      <td>88638</td>\n      <td>10006115</td>\n      <td>sony-ericsson-s500i-unlocked-mysterious-</td>\n      <td>Sony Ericsson S500i Unlocked Mysterious Green</td>\n      <td>499.99</td>\n      <td>19.65</td>\n      <td>19.65</td>\n      <td>15</td>\n      <td>75</td>\n      <td>Mokkis</td>\n      <td>10</td>\n      <td>0</td>\n      <td>22:02 PDT 08-23-2008</td>\n      <td>0</td>\n      <td>0</td>\n      <td>0</td>\n      <td>0</td>\n      <td>131</td>\n      <td>33</td>\n      <td>1</td>\n    </tr>\n    <tr>\n      <th>4</th>\n      <td>88639</td>\n      <td>10006115</td>\n      <td>sony-ericsson-s500i-unlocked-mysterious-</td>\n      <td>Sony Ericsson S500i Unlocked Mysterious Green</td>\n      <td>499.99</td>\n      <td>47.10</td>\n      <td>47.10</td>\n      <td>15</td>\n      <td>75</td>\n      <td>Superloeffel</td>\n      <td>80</td>\n      <td>0</td>\n      <td>14:23 PDT 08-24-2008</td>\n      <td>0</td>\n      <td>0</td>\n      <td>0</td>\n      <td>0</td>\n      <td>314</td>\n      <td>33</td>\n      <td>1</td>\n    </tr>\n  </tbody>\n</table>\n</div>"
     },
     "execution_count": 30,
     "metadata": {},
     "output_type": "execute_result"
    }
   ]
  },
  {
   "cell_type": "markdown",
   "source": [
    "- P = cnt_n / cnt_uniq\n",
    "- 输出的结果在`data_withn_cnt_n12`中，其中包含了所需要的3个值：cnt_n_2 cnt_uniq"
   ],
   "metadata": {
    "collapsed": false
   }
  },
  {
   "cell_type": "code",
   "source": [
    "# 2.2.3 计算P=cnt_n_2 / cnt_uniq: data_withn_cnt_n2\n",
    "\n",
    "tmp = data_withn_cnt_n2['cnt_n_2'] / data_withn_cnt_n2['cnt_uniq']\n",
    "data_withn_cnt_n2['P'] = tmp\n",
    "data_withn_cnt_n2.head()"
   ],
   "metadata": {
    "collapsed": false
   },
   "execution_count": 31,
   "outputs": [
    {
     "data": {
      "text/plain": "   auction_id  product_id                                      item  \\\n0       86827    10009602  sony-ericsson-s500i-unlocked-mysterious-   \n1       87964    10009881            psp-slim-lite-sony-piano-black   \n2       87965    10009881            psp-slim-lite-sony-piano-black   \n3       88638    10006115  sony-ericsson-s500i-unlocked-mysterious-   \n4       88639    10006115  sony-ericsson-s500i-unlocked-mysterious-   \n\n                                            desc  retail  price  finalprice  \\\n0  Sony Ericsson S500i Unlocked Mysterious Green  499.99  13.35       13.35   \n1               PSP Slim & Lite Sony Piano Black  169.99  74.70       74.70   \n2               PSP Slim & Lite Sony Piano Black  169.99  83.10       83.10   \n3  Sony Ericsson S500i Unlocked Mysterious Green  499.99  19.65       19.65   \n4  Sony Ericsson S500i Unlocked Mysterious Green  499.99  47.10       47.10   \n\n   bidincrement  bidfee        winner  ...  freebids           endtime_str  \\\n0            15      75       Racer11  ...         0  19:52 PDT 09-16-2008   \n1            15      75        Cemo23  ...         0  11:17 PDT 08-28-2008   \n2            15      75  Jacobsonnich  ...         0  22:52 PDT 11-07-2008   \n3            15      75        Mokkis  ...         0  22:02 PDT 08-23-2008   \n4            15      75  Superloeffel  ...         0  14:23 PDT 08-24-2008   \n\n  flg_click_only  flg_beginnerauction  flg_fixedprice  flg_endprice  n_2  \\\n0              0                    0               0             0   89   \n1              0                    0               0             0  498   \n2              0                    1               0             0  554   \n3              0                    0               0             0  131   \n4              0                    0               0             0  314   \n\n   cnt_uniq  cnt_n_2         P  \n0        10        1  0.100000  \n1        21        1  0.047619  \n2        21        1  0.047619  \n3        33        1  0.030303  \n4        33        1  0.030303  \n\n[5 rows x 21 columns]",
      "text/html": "<div>\n<style scoped>\n    .dataframe tbody tr th:only-of-type {\n        vertical-align: middle;\n    }\n\n    .dataframe tbody tr th {\n        vertical-align: top;\n    }\n\n    .dataframe thead th {\n        text-align: right;\n    }\n</style>\n<table border=\"1\" class=\"dataframe\">\n  <thead>\n    <tr style=\"text-align: right;\">\n      <th></th>\n      <th>auction_id</th>\n      <th>product_id</th>\n      <th>item</th>\n      <th>desc</th>\n      <th>retail</th>\n      <th>price</th>\n      <th>finalprice</th>\n      <th>bidincrement</th>\n      <th>bidfee</th>\n      <th>winner</th>\n      <th>...</th>\n      <th>freebids</th>\n      <th>endtime_str</th>\n      <th>flg_click_only</th>\n      <th>flg_beginnerauction</th>\n      <th>flg_fixedprice</th>\n      <th>flg_endprice</th>\n      <th>n_2</th>\n      <th>cnt_uniq</th>\n      <th>cnt_n_2</th>\n      <th>P</th>\n    </tr>\n  </thead>\n  <tbody>\n    <tr>\n      <th>0</th>\n      <td>86827</td>\n      <td>10009602</td>\n      <td>sony-ericsson-s500i-unlocked-mysterious-</td>\n      <td>Sony Ericsson S500i Unlocked Mysterious Green</td>\n      <td>499.99</td>\n      <td>13.35</td>\n      <td>13.35</td>\n      <td>15</td>\n      <td>75</td>\n      <td>Racer11</td>\n      <td>...</td>\n      <td>0</td>\n      <td>19:52 PDT 09-16-2008</td>\n      <td>0</td>\n      <td>0</td>\n      <td>0</td>\n      <td>0</td>\n      <td>89</td>\n      <td>10</td>\n      <td>1</td>\n      <td>0.100000</td>\n    </tr>\n    <tr>\n      <th>1</th>\n      <td>87964</td>\n      <td>10009881</td>\n      <td>psp-slim-lite-sony-piano-black</td>\n      <td>PSP Slim &amp; Lite Sony Piano Black</td>\n      <td>169.99</td>\n      <td>74.70</td>\n      <td>74.70</td>\n      <td>15</td>\n      <td>75</td>\n      <td>Cemo23</td>\n      <td>...</td>\n      <td>0</td>\n      <td>11:17 PDT 08-28-2008</td>\n      <td>0</td>\n      <td>0</td>\n      <td>0</td>\n      <td>0</td>\n      <td>498</td>\n      <td>21</td>\n      <td>1</td>\n      <td>0.047619</td>\n    </tr>\n    <tr>\n      <th>2</th>\n      <td>87965</td>\n      <td>10009881</td>\n      <td>psp-slim-lite-sony-piano-black</td>\n      <td>PSP Slim &amp; Lite Sony Piano Black</td>\n      <td>169.99</td>\n      <td>83.10</td>\n      <td>83.10</td>\n      <td>15</td>\n      <td>75</td>\n      <td>Jacobsonnich</td>\n      <td>...</td>\n      <td>0</td>\n      <td>22:52 PDT 11-07-2008</td>\n      <td>0</td>\n      <td>1</td>\n      <td>0</td>\n      <td>0</td>\n      <td>554</td>\n      <td>21</td>\n      <td>1</td>\n      <td>0.047619</td>\n    </tr>\n    <tr>\n      <th>3</th>\n      <td>88638</td>\n      <td>10006115</td>\n      <td>sony-ericsson-s500i-unlocked-mysterious-</td>\n      <td>Sony Ericsson S500i Unlocked Mysterious Green</td>\n      <td>499.99</td>\n      <td>19.65</td>\n      <td>19.65</td>\n      <td>15</td>\n      <td>75</td>\n      <td>Mokkis</td>\n      <td>...</td>\n      <td>0</td>\n      <td>22:02 PDT 08-23-2008</td>\n      <td>0</td>\n      <td>0</td>\n      <td>0</td>\n      <td>0</td>\n      <td>131</td>\n      <td>33</td>\n      <td>1</td>\n      <td>0.030303</td>\n    </tr>\n    <tr>\n      <th>4</th>\n      <td>88639</td>\n      <td>10006115</td>\n      <td>sony-ericsson-s500i-unlocked-mysterious-</td>\n      <td>Sony Ericsson S500i Unlocked Mysterious Green</td>\n      <td>499.99</td>\n      <td>47.10</td>\n      <td>47.10</td>\n      <td>15</td>\n      <td>75</td>\n      <td>Superloeffel</td>\n      <td>...</td>\n      <td>0</td>\n      <td>14:23 PDT 08-24-2008</td>\n      <td>0</td>\n      <td>0</td>\n      <td>0</td>\n      <td>0</td>\n      <td>314</td>\n      <td>33</td>\n      <td>1</td>\n      <td>0.030303</td>\n    </tr>\n  </tbody>\n</table>\n<p>5 rows × 21 columns</p>\n</div>"
     },
     "execution_count": 31,
     "metadata": {},
     "output_type": "execute_result"
    }
   ]
  },
  {
   "cell_type": "code",
   "execution_count": 42,
   "outputs": [],
   "source": [
    "# 2.2.4 逻辑检查\n",
    "# data_withn_cnt_n1.to_csv(\"data_check_tmp.csv\", header=True, encoding=\"utf-8\",index=False)"
   ],
   "metadata": {
    "collapsed": false
   }
  },
  {
   "cell_type": "markdown",
   "source": [
    "## 2.3 保存结果\n",
    "0. 逻辑检查请在之前进行\n",
    "1. **这里保存的是没有经过`threshold`筛选的data**\n",
    "2. 去重注意不能按照`unique_setting`去搞，毕竟一个`unique_setting`对应一组`np`值，也就是对应一个概率分布\n",
    "3. 保存csv之前注意转换一些列的dtype"
   ],
   "metadata": {
    "collapsed": false
   }
  },
  {
   "cell_type": "code",
   "execution_count": 33,
   "outputs": [
    {
     "name": "stdout",
     "output_type": "stream",
     "text": [
      "Drop 掉了 *0* 行duplicate data\n"
     ]
    }
   ],
   "source": [
    "# 去重，重命名\n",
    "data_withn_cnt_n2.rename(columns={'n_2': 'N'}, inplace=True)\n",
    "len_before_drop = data_withn_cnt_n2.shape[0]\n",
    "data_withn_cnt_n2.drop_duplicates(subset=(['N','P']+unique_setting),inplace=True)\n",
    "print(\"Drop 掉了 *{}* 行duplicate data\".format(len_before_drop - data_withn_cnt_n2.shape[0]))"
   ],
   "metadata": {
    "collapsed": false
   }
  },
  {
   "cell_type": "code",
   "execution_count": 34,
   "outputs": [
    {
     "name": "stdout",
     "output_type": "stream",
     "text": [
      "The data is like: \n",
      "   auction_id  product_id                                      item  \\\n",
      "0       86827    10009602  sony-ericsson-s500i-unlocked-mysterious-   \n",
      "1       87964    10009881            psp-slim-lite-sony-piano-black   \n",
      "2       87965    10009881            psp-slim-lite-sony-piano-black   \n",
      "3       88638    10006115  sony-ericsson-s500i-unlocked-mysterious-   \n",
      "4       88639    10006115  sony-ericsson-s500i-unlocked-mysterious-   \n",
      "\n",
      "                                            desc  retail  price  finalprice  \\\n",
      "0  Sony Ericsson S500i Unlocked Mysterious Green  499.99  13.35       13.35   \n",
      "1               PSP Slim & Lite Sony Piano Black  169.99  74.70       74.70   \n",
      "2               PSP Slim & Lite Sony Piano Black  169.99  83.10       83.10   \n",
      "3  Sony Ericsson S500i Unlocked Mysterious Green  499.99  19.65       19.65   \n",
      "4  Sony Ericsson S500i Unlocked Mysterious Green  499.99  47.10       47.10   \n",
      "\n",
      "   bidincrement  bidfee        winner  ...  freebids           endtime_str  \\\n",
      "0          0.15    0.75       Racer11  ...         0  19:52 PDT 09-16-2008   \n",
      "1          0.15    0.75        Cemo23  ...         0  11:17 PDT 08-28-2008   \n",
      "2          0.15    0.75  Jacobsonnich  ...         0  22:52 PDT 11-07-2008   \n",
      "3          0.15    0.75        Mokkis  ...         0  22:02 PDT 08-23-2008   \n",
      "4          0.15    0.75  Superloeffel  ...         0  14:23 PDT 08-24-2008   \n",
      "\n",
      "  flg_click_only  flg_beginnerauction  flg_fixedprice  flg_endprice    N  \\\n",
      "0              0                    0               0             0   89   \n",
      "1              0                    0               0             0  498   \n",
      "2              0                    1               0             0  554   \n",
      "3              0                    0               0             0  131   \n",
      "4              0                    0               0             0  314   \n",
      "\n",
      "   cnt_uniq  cnt_n_2         P  \n",
      "0        10        1  0.100000  \n",
      "1        21        1  0.047619  \n",
      "2        21        1  0.047619  \n",
      "3        33        1  0.030303  \n",
      "4        33        1  0.030303  \n",
      "\n",
      "[5 rows x 21 columns]\n"
     ]
    }
   ],
   "source": [
    "# cent to dollar\n",
    "data_withn_cnt_n2['bidincrement'] = data_withn_cnt_n2['bidincrement']*0.01\n",
    "data_withn_cnt_n2['bidfee'] = data_withn_cnt_n2['bidfee']*0.01\n",
    "\n",
    "# output to csv\n",
    "data_withn_cnt_n2.to_csv(output_path, header=True, encoding=\"utf-8\",index=False)\n",
    "print(\"The data is like: \")\n",
    "print(data_withn_cnt_n2.head())"
   ],
   "metadata": {
    "collapsed": false
   }
  },
  {
   "cell_type": "markdown",
   "source": [
    "# 3. 根据threshold筛选data\n",
    "1. **取样本数在threshold之上的setting作为数据集来使用**\n",
    "    - 根据每个unique setting下的样本数: data_withn_cnt_n2['cnt_uniq']，用`threshold`筛选\n",
    "2. GTmodel可以根据这个进行计算"
   ],
   "metadata": {
    "collapsed": false
   }
  },
  {
   "cell_type": "code",
   "execution_count": 40,
   "outputs": [
    {
     "name": "stdout",
     "output_type": "stream",
     "text": [
      "经过threshold，drop掉 *2398* 个setting\n",
      "现在有 *1268* 个uniq settings\n",
      "uniq settings = ['product_id', 'bidincrement', 'bidfee', 'retail']\n"
     ]
    }
   ],
   "source": [
    "# 筛选unique setting对应的样本数(data_withn_cnt_n2['cnt_uniq'])在threshold之上的部分\n",
    "data_selected = data_withn_cnt_n2[data_withn_cnt_n2['cnt_uniq'] >= threshold][:]\n",
    "data_selected.to_csv(data_selected_path,header=True,encoding=\"utf-8\",index=False)"
   ],
   "metadata": {
    "collapsed": false
   }
  },
  {
   "cell_type": "code",
   "execution_count": 43,
   "outputs": [
    {
     "name": "stdout",
     "output_type": "stream",
     "text": [
      "经过threshold，drop掉 *2398* 个setting\n",
      "现在有 *1268* 个uniq settings\n",
      "uniq settings = ['product_id', 'bidincrement', 'bidfee', 'retail']\n"
     ]
    }
   ],
   "source": [
    "b = len(data_withn_cnt_n2.groupby(unique_setting))\n",
    "tmp = data_selected.groupby(unique_setting)\n",
    "print(f\"经过threshold，drop掉 *{b - len(tmp)}* 个setting\")\n",
    "print(f\"现在有 *{len(tmp)}* 个uniq settings\")\n",
    "print(f\"uniq settings = {unique_setting}\")"
   ],
   "metadata": {
    "collapsed": false
   }
  },
  {
   "cell_type": "code",
   "execution_count": null,
   "outputs": [],
   "source": [],
   "metadata": {
    "collapsed": false
   }
  }
 ],
 "metadata": {
  "kernelspec": {
   "display_name": "Python 3",
   "language": "python",
   "name": "python3"
  },
  "language_info": {
   "codemirror_mode": {
    "name": "ipython",
    "version": 2
   },
   "file_extension": ".py",
   "mimetype": "text/x-python",
   "name": "python",
   "nbconvert_exporter": "python",
   "pygments_lexer": "ipython2",
   "version": "2.7.6"
  }
 },
 "nbformat": 4,
 "nbformat_minor": 0
}
