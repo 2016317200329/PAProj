{
 "cells": [
  {
   "cell_type": "code",
   "execution_count": 35,
   "outputs": [],
   "source": [
    "#!/usr/bin/env python\n",
    "# -*- coding: utf-8 -*-\n",
    "# @Time    : 2022/9/26 14:40\n",
    "# @Author  : Wang Yujia\n",
    "# @File    : data_extract_for_asc_symmetry_2.ipynb\n",
    "# @Description : 1. 使用【method-2】计算target_n和target_p 2.为ascending-price 的GT模型 **以及** PT模型，从outcomes中提取features和data。"
   ],
   "metadata": {
    "collapsed": false,
    "pycharm": {
     "name": "#%%\n"
    }
   }
  },
  {
   "cell_type": "markdown",
   "source": [
    "# 0. what for\n",
    "1. 提取ascending-price auction（symmetry）的GT model需要的features, or settings\n",
    "    - 并不是所有settings都会被considered into, 样本数小于`threshold`的settings不予考虑\n",
    "2. 根据1中的settings，提取对应的data. 选择**method-2**计算`n`与`p`，作为target data使用\n",
    "3. 代码参考自`../BasicInfo/calculate_n.np`，对于列名/参数名进行了优化和更改\n",
    "4. Output：2个csv\n",
    "    - `datawithnp_asc_symmetry_2.csv`：去除了重复行，但是未没经过threshold筛选的data\n",
    "    - `datawithnp_asc_symmetry_2_selected.csv`去除了重复行，且经过threshold筛选，GTmodel需要的参数和target data都在这里了\n",
    "5. **当GT模型计算需要更多的feature时**，更改`unique_setting`就好，把需要的feature提取出来\n",
    "6. **检查逻辑的2个思路**：\n",
    "    - 对于同一个unique setting, 是不是 sum(['cnt_n_1'])==['cnt_uniq'].\n",
    "    - 对于同一个unique setting, 是不是['cnt_n_1']==2对应的['P']是['cnt_n_1']==1对应的['P']的 2倍\n",
    "    - 逻辑检查 see 2.2.4\n",
    "7. 刚意识到，'n'这个值其实是不会变的，变的是'p'，后者取决于我们把什么样的feature归为一类，而前者就是一场拍卖的轮数，是一个既已发生的客观值"
   ],
   "metadata": {
    "collapsed": false
   }
  },
  {
   "cell_type": "markdown",
   "source": [
    "# 1. Preparations\n",
    "## 1.1 全局设置"
   ],
   "metadata": {
    "collapsed": false
   }
  },
  {
   "cell_type": "code",
   "execution_count": 36,
   "outputs": [],
   "source": [
    "# outcomes dataset\n",
    "outcomes_orignal_path = \"../data/outcomes.tsv\"\n",
    "\n",
    "# 计算完n和p后，可以使用的dataset被output在\n",
    "output_path = \"../data/info_asymm/datawithnp_asc_symmetry_2.csv\"\n",
    "# 经过threshold后，得到的dataset\n",
    "data_selected_path = \"../data/info_asymm/datawithnp_asc_symmetry_2_selected.csv\"\n",
    "\n",
    "# 最终GT model需要的features（不包括np），其中`product_id` is not necessary\n",
    "# features_GT = ['bidincrement','bidfee','retail']\n",
    "\n",
    "# 衡量一场auction是否unique的标志\n",
    "unique_setting = ['product_id', 'bidincrement', 'bidfee','retail']\n",
    "# To get 'n' by method-2, need this feature:\n",
    "price_feature = ['price']\n",
    "\n",
    "# 样本数小于`threshold`的settings不予考虑\n",
    "threshold = 16\n",
    "\n",
    "import numpy as np\n",
    "import pandas as pd"
   ],
   "metadata": {
    "collapsed": false,
    "pycharm": {
     "name": "#%%\n"
    }
   }
  },
  {
   "cell_type": "markdown",
   "source": [
    "## 1.2 读取data\n",
    "1. 清洗掉data where `(outcomes['bidfee']*0.01)>=outcomes['retail']`"
   ],
   "metadata": {
    "collapsed": false
   }
  },
  {
   "cell_type": "code",
   "execution_count": 37,
   "outputs": [
    {
     "name": "stdout",
     "output_type": "stream",
     "text": [
      "Drop 掉了 *32* 行data\n"
     ]
    }
   ],
   "source": [
    "outcomes = pd.read_csv(outcomes_orignal_path, sep='\\t')\n",
    "outcomes = outcomes[(unique_setting+price_feature)]\n",
    "idx_drop = outcomes[(outcomes['bidfee']*0.01)>=outcomes['retail']].index\n",
    "outcomes.drop(idx_drop,axis = 0,inplace=True)\n",
    "print(\"Drop 掉了 *{}* 行data，他们的bidfee >= retail\".format(len(idx_drop)))"
   ],
   "metadata": {
    "collapsed": false,
    "pycharm": {
     "name": "#%%\n"
    }
   }
  },
  {
   "cell_type": "markdown",
   "source": [
    "# 2. 计算n和p\n",
    "## 2.1 计算n\n",
    "1. 这里计算n是 **“方法二”** ：在`outcomes.tsv`中通过(price-0)/bidincrement来计算"
   ],
   "metadata": {
    "collapsed": false
   }
  },
  {
   "cell_type": "code",
   "execution_count": 38,
   "outputs": [],
   "source": [
    "data_withn = outcomes.copy()\n",
    "data_withn.loc[:,'n_2'] = outcomes.loc[:,'price'] / (outcomes.loc[:,'bidincrement']*0.01)\n",
    "data_withn['n_2'] = data_withn['n_2'].astype(int)                      # 把n变成int\n",
    "\n",
    "data_withn = data_withn.drop(price_feature,axis=1)                     # 去掉【绝对】不用的列"
   ],
   "metadata": {
    "collapsed": false,
    "pycharm": {
     "name": "#%%\n"
    }
   }
  },
  {
   "cell_type": "markdown",
   "source": [
    "## 2.2 计算p\n",
    "1. unique setting一样的auction认为是同一个\n",
    "2. `P = cnt_n_2 / cnt_uniq`\n",
    "3. `cnt_uniq = ['n_2'].nunique()` when 'unique setting' is the same"
   ],
   "metadata": {
    "collapsed": false,
    "pycharm": {
     "name": "#%% md\n"
    }
   }
  },
  {
   "cell_type": "code",
   "source": [
    "# 2.2.1 each unique setting对应了'cnt_uniq'场auction: data_withn_cnt\n",
    "# 注意'cnt_uniq'本来并不需要出现在最后的data中，但是后面用threshold会联动一下\n",
    "# 最后的data中保留了这一项，方便计算likelihood\n",
    "data_grouped_tmp = data_withn.groupby(unique_setting,as_index=False)\n",
    "tmp = pd.DataFrame(data_grouped_tmp.size())\n",
    "\n",
    "data_withn_cnt = pd.merge(data_withn, tmp, on=unique_setting, how=\"left\")\n",
    "data_withn_cnt.rename(columns={'size': 'cnt_uniq'}, inplace=True)\n",
    "data_withn_cnt.head()"
   ],
   "metadata": {
    "collapsed": false,
    "pycharm": {
     "name": "#%%\n"
    }
   },
   "execution_count": 39,
   "outputs": [
    {
     "data": {
      "text/plain": "   product_id  bidincrement  bidfee  retail  n_2  cnt_uniq\n0    10009602            15      75  499.99   89        10\n1    10009881            15      75  169.99  498        21\n2    10009881            15      75  169.99  554        21\n3    10006115            15      75  499.99  131        33\n4    10006115            15      75  499.99  314        33",
      "text/html": "<div>\n<style scoped>\n    .dataframe tbody tr th:only-of-type {\n        vertical-align: middle;\n    }\n\n    .dataframe tbody tr th {\n        vertical-align: top;\n    }\n\n    .dataframe thead th {\n        text-align: right;\n    }\n</style>\n<table border=\"1\" class=\"dataframe\">\n  <thead>\n    <tr style=\"text-align: right;\">\n      <th></th>\n      <th>product_id</th>\n      <th>bidincrement</th>\n      <th>bidfee</th>\n      <th>retail</th>\n      <th>n_2</th>\n      <th>cnt_uniq</th>\n    </tr>\n  </thead>\n  <tbody>\n    <tr>\n      <th>0</th>\n      <td>10009602</td>\n      <td>15</td>\n      <td>75</td>\n      <td>499.99</td>\n      <td>89</td>\n      <td>10</td>\n    </tr>\n    <tr>\n      <th>1</th>\n      <td>10009881</td>\n      <td>15</td>\n      <td>75</td>\n      <td>169.99</td>\n      <td>498</td>\n      <td>21</td>\n    </tr>\n    <tr>\n      <th>2</th>\n      <td>10009881</td>\n      <td>15</td>\n      <td>75</td>\n      <td>169.99</td>\n      <td>554</td>\n      <td>21</td>\n    </tr>\n    <tr>\n      <th>3</th>\n      <td>10006115</td>\n      <td>15</td>\n      <td>75</td>\n      <td>499.99</td>\n      <td>131</td>\n      <td>33</td>\n    </tr>\n    <tr>\n      <th>4</th>\n      <td>10006115</td>\n      <td>15</td>\n      <td>75</td>\n      <td>499.99</td>\n      <td>314</td>\n      <td>33</td>\n    </tr>\n  </tbody>\n</table>\n</div>"
     },
     "execution_count": 39,
     "metadata": {},
     "output_type": "execute_result"
    }
   ]
  },
  {
   "cell_type": "markdown",
   "source": [
    "- P = cnt_n / cnt_uniq,上面已经算了' cnt_uniq'，下面需要算cnt_n"
   ],
   "metadata": {
    "collapsed": false,
    "pycharm": {
     "name": "#%% md\n"
    }
   }
  },
  {
   "cell_type": "code",
   "source": [
    "# 2.2.2 计算cnt_n_2，并添加到data_withn的一列: data_withn_cnt_n1\n",
    "        # cnt_n_2表示某个setting下的n_1某数值出现了几次/ Example: cnt_n=2表示在某个setting下，有2场拍卖持续了n_1轮\n",
    "features_cnt_n_2 = unique_setting+['n_2']\n",
    "data_grouped_tmp = data_withn.groupby(features_cnt_n_2,as_index=False)\n",
    "tmp = pd.DataFrame(data_grouped_tmp.size())\n",
    "\n",
    "data_withn_cnt_n2 = pd.merge(data_withn_cnt, tmp, on=features_cnt_n_2, how=\"left\")\n",
    "data_withn_cnt_n2.rename(columns={'size': 'cnt_n_2'}, inplace=True)\n",
    "data_withn_cnt_n2.head()"
   ],
   "metadata": {
    "collapsed": false,
    "pycharm": {
     "name": "#%%\n"
    }
   },
   "execution_count": 40,
   "outputs": [
    {
     "data": {
      "text/plain": "   product_id  bidincrement  bidfee  retail  n_2  cnt_uniq  cnt_n_2\n0    10009602            15      75  499.99   89        10        1\n1    10009881            15      75  169.99  498        21        1\n2    10009881            15      75  169.99  554        21        1\n3    10006115            15      75  499.99  131        33        1\n4    10006115            15      75  499.99  314        33        1",
      "text/html": "<div>\n<style scoped>\n    .dataframe tbody tr th:only-of-type {\n        vertical-align: middle;\n    }\n\n    .dataframe tbody tr th {\n        vertical-align: top;\n    }\n\n    .dataframe thead th {\n        text-align: right;\n    }\n</style>\n<table border=\"1\" class=\"dataframe\">\n  <thead>\n    <tr style=\"text-align: right;\">\n      <th></th>\n      <th>product_id</th>\n      <th>bidincrement</th>\n      <th>bidfee</th>\n      <th>retail</th>\n      <th>n_2</th>\n      <th>cnt_uniq</th>\n      <th>cnt_n_2</th>\n    </tr>\n  </thead>\n  <tbody>\n    <tr>\n      <th>0</th>\n      <td>10009602</td>\n      <td>15</td>\n      <td>75</td>\n      <td>499.99</td>\n      <td>89</td>\n      <td>10</td>\n      <td>1</td>\n    </tr>\n    <tr>\n      <th>1</th>\n      <td>10009881</td>\n      <td>15</td>\n      <td>75</td>\n      <td>169.99</td>\n      <td>498</td>\n      <td>21</td>\n      <td>1</td>\n    </tr>\n    <tr>\n      <th>2</th>\n      <td>10009881</td>\n      <td>15</td>\n      <td>75</td>\n      <td>169.99</td>\n      <td>554</td>\n      <td>21</td>\n      <td>1</td>\n    </tr>\n    <tr>\n      <th>3</th>\n      <td>10006115</td>\n      <td>15</td>\n      <td>75</td>\n      <td>499.99</td>\n      <td>131</td>\n      <td>33</td>\n      <td>1</td>\n    </tr>\n    <tr>\n      <th>4</th>\n      <td>10006115</td>\n      <td>15</td>\n      <td>75</td>\n      <td>499.99</td>\n      <td>314</td>\n      <td>33</td>\n      <td>1</td>\n    </tr>\n  </tbody>\n</table>\n</div>"
     },
     "execution_count": 40,
     "metadata": {},
     "output_type": "execute_result"
    }
   ]
  },
  {
   "cell_type": "markdown",
   "source": [
    "- P = cnt_n / cnt_uniq\n",
    "- 输出的结果在`data_withn_cnt_n12`中，其中包含了所需要的3个值：cnt_n_2 cnt_uniq"
   ],
   "metadata": {
    "collapsed": false,
    "pycharm": {
     "name": "#%% md\n"
    }
   }
  },
  {
   "cell_type": "code",
   "source": [
    "# 2.2.3 计算P=cnt_n_2 / cnt_uniq: data_withn_cnt_n2\n",
    "\n",
    "tmp = data_withn_cnt_n2['cnt_n_2'] / data_withn_cnt_n2['cnt_uniq']\n",
    "data_withn_cnt_n2['P'] = tmp\n",
    "data_withn_cnt_n2.head()"
   ],
   "metadata": {
    "collapsed": false,
    "pycharm": {
     "name": "#%%\n"
    }
   },
   "execution_count": 41,
   "outputs": [
    {
     "data": {
      "text/plain": "   product_id  bidincrement  bidfee  retail  n_2  cnt_uniq  cnt_n_2         P\n0    10009602            15      75  499.99   89        10        1  0.100000\n1    10009881            15      75  169.99  498        21        1  0.047619\n2    10009881            15      75  169.99  554        21        1  0.047619\n3    10006115            15      75  499.99  131        33        1  0.030303\n4    10006115            15      75  499.99  314        33        1  0.030303",
      "text/html": "<div>\n<style scoped>\n    .dataframe tbody tr th:only-of-type {\n        vertical-align: middle;\n    }\n\n    .dataframe tbody tr th {\n        vertical-align: top;\n    }\n\n    .dataframe thead th {\n        text-align: right;\n    }\n</style>\n<table border=\"1\" class=\"dataframe\">\n  <thead>\n    <tr style=\"text-align: right;\">\n      <th></th>\n      <th>product_id</th>\n      <th>bidincrement</th>\n      <th>bidfee</th>\n      <th>retail</th>\n      <th>n_2</th>\n      <th>cnt_uniq</th>\n      <th>cnt_n_2</th>\n      <th>P</th>\n    </tr>\n  </thead>\n  <tbody>\n    <tr>\n      <th>0</th>\n      <td>10009602</td>\n      <td>15</td>\n      <td>75</td>\n      <td>499.99</td>\n      <td>89</td>\n      <td>10</td>\n      <td>1</td>\n      <td>0.100000</td>\n    </tr>\n    <tr>\n      <th>1</th>\n      <td>10009881</td>\n      <td>15</td>\n      <td>75</td>\n      <td>169.99</td>\n      <td>498</td>\n      <td>21</td>\n      <td>1</td>\n      <td>0.047619</td>\n    </tr>\n    <tr>\n      <th>2</th>\n      <td>10009881</td>\n      <td>15</td>\n      <td>75</td>\n      <td>169.99</td>\n      <td>554</td>\n      <td>21</td>\n      <td>1</td>\n      <td>0.047619</td>\n    </tr>\n    <tr>\n      <th>3</th>\n      <td>10006115</td>\n      <td>15</td>\n      <td>75</td>\n      <td>499.99</td>\n      <td>131</td>\n      <td>33</td>\n      <td>1</td>\n      <td>0.030303</td>\n    </tr>\n    <tr>\n      <th>4</th>\n      <td>10006115</td>\n      <td>15</td>\n      <td>75</td>\n      <td>499.99</td>\n      <td>314</td>\n      <td>33</td>\n      <td>1</td>\n      <td>0.030303</td>\n    </tr>\n  </tbody>\n</table>\n</div>"
     },
     "execution_count": 41,
     "metadata": {},
     "output_type": "execute_result"
    }
   ]
  },
  {
   "cell_type": "code",
   "execution_count": 42,
   "outputs": [],
   "source": [
    "# 2.2.4 逻辑检查\n",
    "# data_withn_cnt_n1.to_csv(\"data_check_tmp.csv\", header=True, encoding=\"utf-8\",index=False)"
   ],
   "metadata": {
    "collapsed": false,
    "pycharm": {
     "name": "#%%\n"
    }
   }
  },
  {
   "cell_type": "markdown",
   "source": [
    "## 2.3 保存结果\n",
    "0. 逻辑检查请在之前进行\n",
    "1. **这里保存的是没有经过`threshold`筛选的data**\n",
    "2. 去重注意不能按照`unique_setting`去搞，毕竟一个`unique_setting`对应一组`np`值，也就是对应一个概率分布"
   ],
   "metadata": {
    "collapsed": false
   }
  },
  {
   "cell_type": "code",
   "execution_count": 43,
   "outputs": [
    {
     "name": "stdout",
     "output_type": "stream",
     "text": [
      "Drop 掉了 *-36886* 行duplicate data\n",
      "The data is like: \n",
      "   product_id  bidincrement  bidfee  retail    N  cnt_uniq  cnt_n_2         P\n",
      "0    10009602          0.15    0.75  499.99   89        10        1  0.100000\n",
      "1    10009881          0.15    0.75  169.99  498        21        1  0.047619\n",
      "2    10009881          0.15    0.75  169.99  554        21        1  0.047619\n",
      "3    10006115          0.15    0.75  499.99  131        33        1  0.030303\n",
      "4    10006115          0.15    0.75  499.99  314        33        1  0.030303\n"
     ]
    }
   ],
   "source": [
    "# 去重，重命名\n",
    "data_withn_cnt_n2.rename(columns={'n_2': 'N'}, inplace=True)\n",
    "len_before_drop = data_withn_cnt_n2.shape[0]\n",
    "data_withn_cnt_n2.drop_duplicates(subset=(['N','P']+unique_setting),inplace=True)\n",
    "print(\"Drop 掉了 *{}* 行duplicate data\".format(data_withn_cnt_n2.shape[0] - len_before_drop))\n",
    "\n",
    "# cent to dollar\n",
    "data_withn_cnt_n2['bidincrement'] = data_withn_cnt_n2['bidincrement']*0.01\n",
    "data_withn_cnt_n2['bidfee'] = data_withn_cnt_n2['bidfee']*0.01\n",
    "# output to csv\n",
    "data_withn_cnt_n2.to_csv(output_path, header=True, encoding=\"utf-8\",index=False)\n",
    "print(\"The data is like: \")\n",
    "print(data_withn_cnt_n2.head())"
   ],
   "metadata": {
    "collapsed": false,
    "pycharm": {
     "name": "#%%\n"
    }
   }
  },
  {
   "cell_type": "markdown",
   "source": [
    "# 3. 根据threshold筛选data\n",
    "1. 取样本数在threshold之上的setting作为数据集来使用\n",
    "    - 根据每个unique setting下的样本数: data_withn_cnt_n2['cnt_uniq']，用`threshold`筛选\n",
    "2. GTmodel可以根据这个进行计算"
   ],
   "metadata": {
    "collapsed": false
   }
  },
  {
   "cell_type": "code",
   "execution_count": 44,
   "outputs": [],
   "source": [
    "# 筛选unique setting对应的样本数(data_withn_cnt_n2['cnt_uniq'])在threshold之上的部分\n",
    "data_selected = data_withn_cnt_n2[data_withn_cnt_n2['cnt_uniq'] >= threshold][:]\n",
    "data_selected.to_csv(data_selected_path,header=True,encoding=\"utf-8\",index=False)"
   ],
   "metadata": {
    "collapsed": false,
    "pycharm": {
     "name": "#%%\n"
    }
   }
  },
  {
   "cell_type": "markdown",
   "source": [
    "# 4. output\n",
    "1.输出一些信息"
   ],
   "metadata": {
    "collapsed": false
   }
  },
  {
   "cell_type": "code",
   "execution_count": 45,
   "outputs": [
    {
     "name": "stdout",
     "output_type": "stream",
     "text": [
      "在当前threshold设置下，dataset包括71178个setting\n",
      "\n",
      "当前threshold为16，相当于取了84.233%个unique settings\n",
      "\n"
     ]
    }
   ],
   "source": [
    "total_amount = data_withn_cnt_n2.shape[0]\n",
    "data_selected_size = data_selected.shape[0]\n",
    "print(\"在当前threshold设置下，dataset包括{}个setting\\n\".format(data_selected_size))\n",
    "print(\"当前threshold为{0}，相当于取了{1}%个unique settings\\n\".format(threshold, round(data_selected_size/total_amount*100, 3)))"
   ],
   "metadata": {
    "collapsed": false,
    "pycharm": {
     "name": "#%%\n"
    }
   }
  }
 ],
 "metadata": {
  "kernelspec": {
   "display_name": "Python 3",
   "language": "python",
   "name": "python3"
  },
  "language_info": {
   "codemirror_mode": {
    "name": "ipython",
    "version": 2
   },
   "file_extension": ".py",
   "mimetype": "text/x-python",
   "name": "python",
   "nbconvert_exporter": "python",
   "pygments_lexer": "ipython2",
   "version": "2.7.6"
  }
 },
 "nbformat": 4,
 "nbformat_minor": 0
}