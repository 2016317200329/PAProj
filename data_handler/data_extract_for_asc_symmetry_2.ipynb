{
 "cells": [
  {
   "cell_type": "code",
   "execution_count": 1,
   "outputs": [],
   "source": [
    "#!/usr/bin/env python\n",
    "# -*- coding: utf-8 -*-\n",
    "# @Time    : 2022/9/26 14:40\n",
    "# @Author  : Wang Yujia\n",
    "# @File    : data_extract_for_asc_symmetry_2.ipynb\n",
    "# @Description : 提取data_key，另存一下data"
   ],
   "metadata": {
    "collapsed": false
   }
  },
  {
   "cell_type": "markdown",
   "source": [
    "# 1. Preparations\n",
    "## 1.1 全局设置"
   ],
   "metadata": {
    "collapsed": false
   }
  },
  {
   "cell_type": "code",
   "execution_count": 2,
   "outputs": [],
   "source": [
    "# outcomes dataset\n",
    "data_path = \"../data/datawithnp_2_selected.csv\"\n",
    "\n",
    "# output path\n",
    "data_output_path = \"../data/info_asymm/datawithnp_asc_symmetry_selected.csv\"\n",
    "# data_key_path\n",
    "data_key_path = \"../data/info_asymm/data_key_GT_1.csv\"\n",
    "\n",
    "# 最终GT model需要的features（不包括np），其中`product_id` is not necessary\n",
    "features_GT = ['bidincrement','bidfee','retail']\n",
    "\n",
    "import numpy as np\n",
    "import pandas as pd"
   ],
   "metadata": {
    "collapsed": false
   }
  },
  {
   "cell_type": "markdown",
   "source": [
    "## 1.2 读取data\n",
    "1. data其实就是`data_selected_path = \"../data/datawithnp_2_selected.csv\"`这个data\n",
    "2. data_key"
   ],
   "metadata": {
    "collapsed": false
   }
  },
  {
   "cell_type": "code",
   "execution_count": 3,
   "outputs": [],
   "source": [
    "data = pd.read_csv(data_path,encoding=\"utf-8\")"
   ],
   "metadata": {
    "collapsed": false
   }
  },
  {
   "cell_type": "code",
   "execution_count": 4,
   "outputs": [
    {
     "name": "stdout",
     "output_type": "stream",
     "text": [
      "包括 *605* 个data key\n",
      "Done\n"
     ]
    }
   ],
   "source": [
    "data_key = data[features_GT].copy()\n",
    "data_key.drop_duplicates(inplace=True,ignore_index=True)\n",
    "data_key.to_csv(data_key_path,index=False,header=True,encoding=\"utf-8\")\n",
    "\n",
    "data.to_csv(data_output_path,index=False,header=True,encoding=\"utf-8\")\n",
    "\n",
    "print(f\"包括 *{data_key.shape[0]}* 个data key\")\n",
    "print(\"Done\")"
   ],
   "metadata": {
    "collapsed": false
   }
  },
  {
   "cell_type": "code",
   "execution_count": null,
   "outputs": [],
   "source": [],
   "metadata": {
    "collapsed": false
   }
  }
 ],
 "metadata": {
  "kernelspec": {
   "display_name": "Python 3",
   "language": "python",
   "name": "python3"
  },
  "language_info": {
   "codemirror_mode": {
    "name": "ipython",
    "version": 2
   },
   "file_extension": ".py",
   "mimetype": "text/x-python",
   "name": "python",
   "nbconvert_exporter": "python",
   "pygments_lexer": "ipython2",
   "version": "2.7.6"
  }
 },
 "nbformat": 4,
 "nbformat_minor": 0
}
