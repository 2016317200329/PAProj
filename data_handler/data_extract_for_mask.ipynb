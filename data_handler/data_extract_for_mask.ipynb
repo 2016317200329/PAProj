{
 "cells": [
  {
   "cell_type": "markdown",
   "source": [
    "# 0. what for\n",
    "1. 根据seed，保存mask idx\n",
    "\n",
    "# 1."
   ],
   "metadata": {
    "collapsed": false
   }
  },
  {
   "cell_type": "code",
   "execution_count": 49,
   "outputs": [],
   "source": [
    "# 人工数据集or真实数据集\n",
    "ARTIFICIAL = False\n",
    "seed = 277      # 3,31,204,223,277\n",
    "\n",
    "\n",
    "noise_pct = 0.05  # 噪音占比:我们希望生成的data总体上最多浮动的百分比noise_pct\n",
    "\n",
    "\n",
    "# Data path\n",
    "if ARTIFICIAL:\n",
    "\n",
    "    target_path = \"../data/artificial_targets_v2_\" + \"noise=\" + str(noise_pct)\n",
    "\n",
    "else:\n",
    "\n",
    "    target_path = \"../data/targets_all\"\n",
    "\n",
    "\n",
    "# output path\n",
    "val_mask_root_path = \"../data/mask_idx/mask_idx_val_seed=\"+str(seed) + \"/\"\n",
    "test_mask_root_path = \"../data/mask_idx/mask_idx_test_seed=\"+str(seed)+ \"/\"\n",
    "file_head = \"mask_idx_\"\n",
    "file_tail= \".csv\"\n",
    "\n",
    "import numpy as np\n",
    "import pandas as pd\n",
    "import os\n",
    "from metric_for_GTs_func import *\n",
    "from tqdm import tqdm\n",
    "import torch\n",
    "import random\n"
   ],
   "metadata": {
    "collapsed": false
   }
  },
  {
   "cell_type": "code",
   "execution_count": 50,
   "outputs": [
    {
     "name": "stdout",
     "output_type": "stream",
     "text": [
      "seed= 277\n"
     ]
    }
   ],
   "source": [
    "def setup_seed(seed):\n",
    "    torch.manual_seed(seed)\n",
    "    torch.cuda.manual_seed_all(seed)\n",
    "    np.random.seed(seed)\n",
    "    random.seed(seed)\n",
    "    torch.backends.cudnn.deterministic = True\n",
    "\n",
    "setup_seed(seed)\n",
    "\n",
    "# target_path里有全部的target data地址\n",
    "target_all_path = os.listdir(target_path)\n",
    "LEN_ALL = target_all_path.__len__()\n",
    "\n",
    "print(\"seed=\",seed)"
   ],
   "metadata": {
    "collapsed": false
   }
  },
  {
   "cell_type": "code",
   "execution_count": 51,
   "outputs": [],
   "source": [
    "if not os.path.exists(val_mask_root_path):\n",
    "    os.makedirs(val_mask_root_path)\n",
    "if not os.path.exists(test_mask_root_path):\n",
    "    os.makedirs(test_mask_root_path)"
   ],
   "metadata": {
    "collapsed": false
   }
  },
  {
   "cell_type": "code",
   "execution_count": 52,
   "outputs": [],
   "source": [
    "col_names = [\"mask_idx\"]\n",
    "mask_pct_val = 0.2\n",
    "mask_pct_test = 0.1\n",
    "\n",
    "threshold_len = 10        # len_i < 10不设置mask"
   ],
   "metadata": {
    "collapsed": false
   }
  },
  {
   "cell_type": "code",
   "execution_count": 53,
   "outputs": [
    {
     "name": "stderr",
     "output_type": "stream",
     "text": [
      "100%|██████████| 1276/1276 [00:01<00:00, 737.88it/s]\n"
     ]
    }
   ],
   "source": [
    "for i in tqdm(range(LEN_ALL)):\n",
    "# for i in tqdm(range(0,2)):\n",
    "        target_path_i_path = os.path.join(target_path, target_all_path[i])\n",
    "        target_df = pd.read_csv(target_path_i_path,encoding=\"utf-8\")\n",
    "\n",
    "        len_i = target_df.shape[0]          # data records amount\n",
    "\n",
    "        if len_i<threshold_len:\n",
    "            print(\"!!!!!!\")\n",
    "        n_mask = int(np.floor((mask_pct_test+mask_pct_val)*len_i))   # mask的总规模\n",
    "        mask_list = sorted([random.randint(0, len_i) for i in range(n_mask)])\n",
    "\n",
    "        val_mask = mask_list[0:int(np.floor(mask_pct_val*len_i))]          # val mask list\n",
    "        test_mask = mask_list[len(val_mask):]                               # 剩下的是test\n",
    "\n",
    "        val_mask_df = pd.DataFrame(val_mask,columns=col_names)\n",
    "        test_mask_df = pd.DataFrame(test_mask,columns=col_names)\n",
    "\n",
    "        # Save\n",
    "        val_output_path = val_mask_root_path + file_head + str(i).zfill(4) + file_tail\n",
    "        test_output_path = test_mask_root_path + file_head + str(i).zfill(4) + file_tail\n",
    "\n",
    "        val_mask_df.to_csv(val_output_path,header=True,index=False,encoding=\"utf-8\")\n",
    "        test_mask_df.to_csv(test_output_path,header=True,index=False,encoding=\"utf-8\")\n"
   ],
   "metadata": {
    "collapsed": false
   }
  },
  {
   "cell_type": "code",
   "execution_count": null,
   "outputs": [],
   "source": [],
   "metadata": {
    "collapsed": false
   }
  }
 ],
 "metadata": {
  "kernelspec": {
   "display_name": "Python 3",
   "language": "python",
   "name": "python3"
  },
  "language_info": {
   "codemirror_mode": {
    "name": "ipython",
    "version": 2
   },
   "file_extension": ".py",
   "mimetype": "text/x-python",
   "name": "python",
   "nbconvert_exporter": "python",
   "pygments_lexer": "ipython2",
   "version": "2.7.6"
  }
 },
 "nbformat": 4,
 "nbformat_minor": 0
}
