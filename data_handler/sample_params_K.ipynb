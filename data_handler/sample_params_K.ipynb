{
 "cells": [
  {
   "cell_type": "code",
   "execution_count": 13,
   "outputs": [],
   "source": [
    "#-*- coding : utf-8 -*-\n",
    "# coding: utf-8\n",
    "\n",
    "%load_ext autoreload\n",
    "%autoreload 2"
   ],
   "metadata": {
    "collapsed": false
   }
  },
  {
   "cell_type": "markdown",
   "source": [
    "# 0. what for\n",
    "1. 用于生成人工数据集需要的K值\n",
    "2. 对GT2的params进行sample请参考v2那个，这个不用了\n",
    "# 1. preparations\n",
    "## 1.1 import"
   ],
   "metadata": {
    "collapsed": false
   }
  },
  {
   "cell_type": "code",
   "execution_count": 14,
   "metadata": {
    "collapsed": true
   },
   "outputs": [],
   "source": [
    "import pandas as pd\n",
    "import random\n"
   ]
  },
  {
   "cell_type": "markdown",
   "source": [
    "## 1.2 data path"
   ],
   "metadata": {
    "collapsed": false
   }
  },
  {
   "cell_type": "code",
   "execution_count": 15,
   "outputs": [],
   "source": [
    "settings_small_NN_path = r\"../data/small_settings_NN.csv\"\n",
    "settings_large_NN_path = r'E:\\DATA\\large_dta\\large_settings_NN.csv'\n",
    "\n",
    "\n",
    "# Output path of sampled [alpha, labda] and k\n",
    "params_and_K_sampled_path = r\"../data/params_and_K_sampled.csv\"\n",
    "\n",
    "\n",
    "bound_alpha = [-0.3,0.3]\n",
    "bound_labda = [0.01,18]\n",
    "\n",
    "# 生成的auction observations：可以观察到200-600场auction\n",
    "bound_observations = [200,600]        # 真实数据上这个值平均是90+"
   ],
   "metadata": {
    "collapsed": false
   }
  },
  {
   "cell_type": "code",
   "execution_count": 16,
   "outputs": [],
   "source": [
    "data_key_small = pd.read_csv(settings_small_NN_path, encoding=\"utf-8\")\n",
    "data_key_large = pd.read_csv(settings_large_NN_path, encoding=\"utf-8\")\n",
    "data_key = pd.concat([data_key_small,data_key_large],axis=0,ignore_index=True)\n",
    "len_settings = data_key.shape[0]        # 一共要sample len_settings 这么多settings"
   ],
   "metadata": {
    "collapsed": false
   }
  },
  {
   "cell_type": "markdown",
   "source": [
    "# 2. sample\n",
    "1. [alpha, labda] that GT-2 needs\n",
    "2. 比例系数k，表示GT-1的抽样比重\n",
    "3. observations值，表示这个setting一共有observations条记录\n",
    "4. 'mu','sigma'表示noise"
   ],
   "metadata": {
    "collapsed": false
   }
  },
  {
   "cell_type": "code",
   "execution_count": 17,
   "outputs": [],
   "source": [
    "col_names=['alpha', 'labda', 'K_1','observations']\n",
    "params_and_K_sampled = pd.DataFrame(columns=col_names)"
   ],
   "metadata": {
    "collapsed": false
   }
  },
  {
   "cell_type": "code",
   "execution_count": 18,
   "outputs": [
    {
     "name": "stdout",
     "output_type": "stream",
     "text": [
      "Done\n"
     ]
    }
   ],
   "source": [
    "for i in range(len_settings):\n",
    "\n",
    "    sampled_alpha = round(random.uniform(bound_alpha[0], bound_alpha[1]), 4)\n",
    "    sampled_labda = round(random.uniform(bound_labda[0], bound_labda[1]), 4)\n",
    "\n",
    "    sampled_K_1 = round(random.uniform(0, 1), 2)\n",
    "\n",
    "    sampled_ob = int(random.uniform(bound_observations[0], bound_observations[1]))\n",
    "\n",
    "    sampled = pd.DataFrame(\n",
    "        data=[[sampled_alpha, sampled_labda, sampled_K_1, sampled_ob]], columns=col_names)\n",
    "\n",
    "    params_and_K_sampled = pd.concat([params_and_K_sampled,sampled],axis=0)\n",
    "\n",
    "print(\"Done\")"
   ],
   "metadata": {
    "collapsed": false
   }
  },
  {
   "cell_type": "markdown",
   "source": [
    "- save"
   ],
   "metadata": {
    "collapsed": false
   }
  },
  {
   "cell_type": "code",
   "execution_count": 19,
   "outputs": [],
   "source": [
    "params_and_K_sampled.to_csv(params_and_K_sampled_path, header=True, index=False, encoding=\"utf-8\")"
   ],
   "metadata": {
    "collapsed": false
   }
  }
 ],
 "metadata": {
  "kernelspec": {
   "display_name": "Python 3",
   "language": "python",
   "name": "python3"
  },
  "language_info": {
   "codemirror_mode": {
    "name": "ipython",
    "version": 2
   },
   "file_extension": ".py",
   "mimetype": "text/x-python",
   "name": "python",
   "nbconvert_exporter": "python",
   "pygments_lexer": "ipython2",
   "version": "2.7.6"
  }
 },
 "nbformat": 4,
 "nbformat_minor": 0
}
