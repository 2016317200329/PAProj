{
 "cells": [
  {
   "cell_type": "code",
   "execution_count": 66,
   "metadata": {
    "collapsed": true
   },
   "outputs": [],
   "source": [
    "#!/usr/bin/env python\n",
    "# -*- coding: utf-8 -*-\n",
    "# @Time    : 2022/9/26 14:40\n",
    "# @Author  : Wang Yujia\n",
    "# @File    : data_extract_for_asc_symmetry.ipynb\n",
    "# @Description : 为ascending-price auction从outcomes中提取features和data。ref：信息不对称的paper里symmetry的情况。"
   ]
  },
  {
   "cell_type": "markdown",
   "metadata": {},
   "source": [
    "# 0. what for\n",
    "1. 提取ascending-price auction（symmetry）的GT model需要的features, or settings\n",
    "    - 并不是所有settings都会被considered into, 样本数小于`threshold`的settings不予考虑\n",
    "2. 根据1中的settings，提取对应的data. 选择method-1计算`n`与`p`，作为target data使用\n",
    "3. 代码参考自`../BasicInfo/calculate_n.np`，对于列名/参数名进行了优化和更改\n",
    "4. Output：2个csv\n",
    "    - `datawithnp_asc_symmetry.csv`：去除了重复行，但是未没经过threshold筛选的data\n",
    "    - `datawithnp_asc_symmetry_selected.csv`去除了重复行，且经过threshold筛选，GTmodel需要的参数和target data都在这里了\n",
    "5. **当GT模型计算需要更多的feature时**，更改`features_GT`就好\n",
    "6. **检查逻辑的2个思路**：\n",
    "    - 对于同一个unique setting, 是不是 sum(['cnt_n_1'])==['cnt_uniq'].\n",
    "    - 对于同一个unique setting, 是不是['cnt_n_1']==2对应的['P']是['cnt_n_1']==1对应的['P']的 2倍\n",
    "    - 逻辑检查 see 2.2.4\n",
    "7. 刚意识到，'n'这个值其实是不会变的，变的是'p'，后者取决于我们把什么样的feature归为一类，而前者就是一场拍卖的轮数，是一个既已发生的客观值"
   ]
  },
  {
   "cell_type": "markdown",
   "metadata": {},
   "source": [
    "# 1. Preparations\n",
    "## 1.1 全局设置"
   ]
  },
  {
   "cell_type": "code",
   "execution_count": 67,
   "metadata": {
    "pycharm": {
     "name": "#%%\n"
    }
   },
   "outputs": [],
   "source": [
    "# outcomes dataset\n",
    "outcomes_orignal_path = \"../data/outcomes.tsv\"\n",
    "# traces dataset\n",
    "traces_original_path = \"../data/traces.tsv\"\n",
    "# outcomes和traces共有的auction_id: `common_auction_id`\n",
    "# Clearly这里选择method-1计算(n,p)\n",
    "common_auction_id_path = \"../data/common_auction_id.csv\"\n",
    "# 计算完n和p后，可以使用的dataset被output在\n",
    "output_path = \"../data/info_asymm/datawithnp_asc_symmetry.csv\"\n",
    "# 经过threshold后，得到的dataset\n",
    "data_selected_path = \"../data/info_asymm/datawithnp_asc_symmetry_selected.csv\"\n",
    "\n",
    "# 最终GT model需要的features（不包括np），其中`product_id` is not necessary\n",
    "features_GT = ['auction_id','product_id','bidincrement','bidfee','retail']\n",
    "# 衡量一场auction是否unique的标志\n",
    "# 发现存在'product_id'相同的但'retail'不同的情况，也具有实际意义，设置为uniq setting，不过因为样本量少而清洗掉就是另外一回事了\n",
    "unique_setting = ['product_id', 'bidincrement', 'bidfee','retail']\n",
    "# 样本数小于`threshold`的settings不予考虑\n",
    "threshold = 16\n",
    "\n",
    "import numpy as np\n",
    "import pandas as pd"
   ]
  },
  {
   "cell_type": "markdown",
   "metadata": {},
   "source": [
    "## 1.2 读取data"
   ]
  },
  {
   "cell_type": "code",
   "execution_count": 68,
   "metadata": {
    "pycharm": {
     "name": "#%%\n"
    }
   },
   "outputs": [],
   "source": [
    "outcomes = pd.read_csv(outcomes_orignal_path, sep='\\t')\n",
    "outcomes = outcomes[features_GT]\n",
    "traces = pd.read_csv(traces_original_path, sep='\\t')\n",
    "common_auction_id = pd.read_csv(common_auction_id_path, encoding=\"utf-8\")"
   ]
  },
  {
   "cell_type": "markdown",
   "metadata": {},
   "source": [
    "# 2. 计算n和p\n",
    "## 2.1 计算n\n",
    "1. 这里计算n是“方法一”：just count according to `traces.tsv`"
   ]
  },
  {
   "cell_type": "code",
   "execution_count": 69,
   "metadata": {
    "pycharm": {
     "name": "#%%\n"
    }
   },
   "outputs": [],
   "source": [
    "# 2.1.1 traces数据groupby，目的是为了数n，并且保留需要的列: trace_groupby_auctionid\n",
    "trace_grouped = traces.groupby('auction_id')\n",
    "trace_groupby_auctionid = trace_grouped.count()['bid_user'].to_frame()     # 这里count出来的'n_1'就是'duration'\n",
    "trace_groupby_auctionid.reset_index(drop=False, inplace=True)              # 整理data，index是'auction_id'，把index变成一列\n",
    "trace_groupby_auctionid.columns=['auction_id','n_1']\n",
    "\n",
    "# 2.1.2 从outcomes中提取共有的auction_id对应的data: outcomes_incommon\n",
    "# It turns out all 'auction_id' recorded in traces.tsv are also in outcomes.tsv\n",
    "outcomes_incommon = outcomes[outcomes['auction_id'].isin(common_auction_id['auction_id'])]\n",
    "\n",
    "# 2.1.3 通过左连接的方式，得到一个包括数据'n'的表：data_withn\n",
    "data_withn = pd.merge(trace_groupby_auctionid, outcomes_incommon, on='auction_id', how=\"left\")\n",
    "data_withn.drop(['auction_id'],axis = 1,inplace=True)    #不需要这个信息\n",
    "data_withn['product_id'] = data_withn['product_id'].astype(int)"
   ]
  },
  {
   "cell_type": "code",
   "execution_count": 70,
   "outputs": [],
   "source": [
    "# 2.1.4 New Added: drop data where ['flg_fixedprice'] == 1\n",
    "# 按照方法一的话会发现，traces.tsv中没有任何['flg_fixedprice'] == 1的信息\n",
    "# np.where(data_withn['flg_fixedprice'] == 1)"
   ],
   "metadata": {
    "collapsed": false,
    "pycharm": {
     "name": "#%%\n"
    }
   }
  },
  {
   "cell_type": "markdown",
   "metadata": {},
   "source": [
    "## 2.2 计算p\n",
    "1. 实际上`unique setting=['product_id', 'bidincrement', 'bidfee','retail']`，unique setting一样的auction认为是同一个\n",
    "2. 但是存在不同'product_id'具有同样的'retail'，这一点需要注意\n",
    "3. 因此对于GT model而言，`unique setting for GT=['retail', 'bidincrement', 'bidfee']`\n",
    "4. `P = cnt_n_1 / cnt_uniq`\n",
    "5. cnt_uniq = ['n_1'].nunique() under the same 'unique setting'"
   ]
  },
  {
   "cell_type": "code",
   "execution_count": 71,
   "outputs": [
    {
     "data": {
      "text/plain": "   n_1  product_id  bidincrement  bidfee  retail  cnt_uniq\n0  151    10012342            12      60   64.12        12\n1   79    10012342            12      60   64.12        12\n2   72    10012359            12      60  169.99        14\n3  283    10012359            12      60  169.99        14\n4   51    10011778            12      60   27.99         9",
      "text/html": "<div>\n<style scoped>\n    .dataframe tbody tr th:only-of-type {\n        vertical-align: middle;\n    }\n\n    .dataframe tbody tr th {\n        vertical-align: top;\n    }\n\n    .dataframe thead th {\n        text-align: right;\n    }\n</style>\n<table border=\"1\" class=\"dataframe\">\n  <thead>\n    <tr style=\"text-align: right;\">\n      <th></th>\n      <th>n_1</th>\n      <th>product_id</th>\n      <th>bidincrement</th>\n      <th>bidfee</th>\n      <th>retail</th>\n      <th>cnt_uniq</th>\n    </tr>\n  </thead>\n  <tbody>\n    <tr>\n      <th>0</th>\n      <td>151</td>\n      <td>10012342</td>\n      <td>12</td>\n      <td>60</td>\n      <td>64.12</td>\n      <td>12</td>\n    </tr>\n    <tr>\n      <th>1</th>\n      <td>79</td>\n      <td>10012342</td>\n      <td>12</td>\n      <td>60</td>\n      <td>64.12</td>\n      <td>12</td>\n    </tr>\n    <tr>\n      <th>2</th>\n      <td>72</td>\n      <td>10012359</td>\n      <td>12</td>\n      <td>60</td>\n      <td>169.99</td>\n      <td>14</td>\n    </tr>\n    <tr>\n      <th>3</th>\n      <td>283</td>\n      <td>10012359</td>\n      <td>12</td>\n      <td>60</td>\n      <td>169.99</td>\n      <td>14</td>\n    </tr>\n    <tr>\n      <th>4</th>\n      <td>51</td>\n      <td>10011778</td>\n      <td>12</td>\n      <td>60</td>\n      <td>27.99</td>\n      <td>9</td>\n    </tr>\n  </tbody>\n</table>\n</div>"
     },
     "execution_count": 71,
     "metadata": {},
     "output_type": "execute_result"
    }
   ],
   "source": [
    "# 2.2.1 each unique setting对应了'cnt_uniq'场auction: data_withn_cnt\n",
    "# 注意'cnt_uniq'并不需要出现在最后的data中，但是后面和threshold会联动一下\n",
    "data_grouped_tmp = data_withn.groupby(unique_setting,as_index=False)\n",
    "tmp = pd.DataFrame(data_grouped_tmp.size())\n",
    "tmp.reset_index(drop=False, inplace=True)    # 把index变成col\n",
    "\n",
    "data_withn_cnt = pd.merge(data_withn, tmp, on=unique_setting, how=\"left\")\n",
    "data_withn_cnt.rename(columns={0: 'cnt_uniq'}, inplace=True)\n",
    "data_withn_cnt.head()"
   ],
   "metadata": {
    "collapsed": false,
    "pycharm": {
     "name": "#%%\n"
    }
   }
  },
  {
   "cell_type": "markdown",
   "metadata": {
    "pycharm": {
     "name": "#%% md\n"
    }
   },
   "source": [
    "- P = cnt_n / cnt_uniq,上面已经算了' cnt_uniq'，下面需要算cnt_n"
   ]
  },
  {
   "cell_type": "code",
   "execution_count": 72,
   "outputs": [],
   "source": [
    "# 2.2.2 计算cnt_n_1，并添加到data_withn的一列: data_withn_cnt_n1\n",
    "        # cnt_n_1表示某个setting下的n_1某数值出现了几次/ Example: cnt_n=2表示在某个setting下，有2场拍卖持续了n_1轮\n",
    "features_cnt_n_1 = unique_setting+['n_1']\n",
    "data_grouped_tmp = data_withn.groupby(features_cnt_n_1,as_index=False)\n",
    "tmp = pd.DataFrame(data_grouped_tmp.size())\n",
    "tmp.reset_index(drop=False, inplace=True)\n",
    "data_withn_cnt_n1 = pd.merge(data_withn_cnt, tmp, on=features_cnt_n_1, how=\"left\")\n",
    "data_withn_cnt_n1.rename(columns={0: 'cnt_n_1'}, inplace=True)"
   ],
   "metadata": {
    "collapsed": false,
    "pycharm": {
     "name": "#%%\n"
    }
   }
  },
  {
   "cell_type": "markdown",
   "metadata": {},
   "source": [
    "- P = cnt_n / cnt_uniq\n",
    "- 输出的结果在`data_withn_cnt_n12`中，其中包含了所需要的3个值：cnt_n_1 cnt_uniq"
   ]
  },
  {
   "cell_type": "code",
   "execution_count": 73,
   "metadata": {
    "pycharm": {
     "name": "#%%\n"
    }
   },
   "outputs": [],
   "source": [
    "# 2.2.3 计算P=cnt_n_1 / cnt_uniq: data_withn_cnt_n12\n",
    "\n",
    "tmp = data_withn_cnt_n1['cnt_n_1'] / data_withn_cnt_n1['cnt_uniq']\n",
    "data_withn_cnt_n1['P'] = tmp"
   ]
  },
  {
   "cell_type": "code",
   "execution_count": 74,
   "outputs": [],
   "source": [
    "# 2.2.4 逻辑检查\n",
    "# data_withn_cnt_n1.to_csv(\"data_check_tmp.csv\", header=True, encoding=\"utf-8\",index=False)"
   ],
   "metadata": {
    "collapsed": false,
    "pycharm": {
     "name": "#%%\n"
    }
   }
  },
  {
   "cell_type": "markdown",
   "metadata": {
    "pycharm": {
     "name": "#%% md\n"
    }
   },
   "source": [
    "## 2.3 保存结果\n",
    "0. 逻辑检查请在之前进行\n",
    "1. 这里保存的是没有经过`threshold`筛选的data\n",
    "2. 去重注意不能按照`unique_setting`去搞，毕竟一个`unique_setting`对应一组`np`值，也就是对应一个概率分布"
   ]
  },
  {
   "cell_type": "code",
   "execution_count": 75,
   "outputs": [
    {
     "name": "stdout",
     "output_type": "stream",
     "text": [
      "The data is like: \n",
      "     N  product_id  bidincrement  bidfee  retail  cnt_uniq  cnt_n_1         P\n",
      "0  151    10012342            12      60   64.12        12        1  0.083333\n",
      "1   79    10012342            12      60   64.12        12        1  0.083333\n",
      "2   72    10012359            12      60  169.99        14        1  0.071429\n",
      "3  283    10012359            12      60  169.99        14        1  0.071429\n",
      "4   51    10011778            12      60   27.99         9        1  0.111111\n"
     ]
    }
   ],
   "source": [
    "# 去重，重命名与输出\n",
    "data_withn_cnt_n1.rename(columns={'n_1': 'N'}, inplace=True)\n",
    "data_withn_cnt_n1.drop_duplicates(subset=['N','product_id','bidincrement','bidfee','P'],inplace=True)\n",
    "data_withn_cnt_n1.to_csv(output_path, header=True, encoding=\"utf-8\",index=False)\n",
    "print(\"The data is like: \")\n",
    "print(data_withn_cnt_n1.head())"
   ],
   "metadata": {
    "collapsed": false,
    "pycharm": {
     "name": "#%%\n"
    }
   }
  },
  {
   "cell_type": "markdown",
   "metadata": {},
   "source": [
    "# 3. 根据threshold筛选data\n",
    "1. 取样本数在threshold之上的setting作为数据集来使用\n",
    "    - 根据每个unique setting[product_id,bidincrement,bidfee]下的样本数: data_withn_cnt_n1['cnt_uniq']，用`threshold`筛选\n",
    "2. GTmodel可以根据这个进行计算"
   ]
  },
  {
   "cell_type": "code",
   "execution_count": 76,
   "metadata": {
    "pycharm": {
     "name": "#%%\n"
    }
   },
   "outputs": [],
   "source": [
    "# 筛选unique setting对应的样本数(data_withn_cnt_n1['cnt_uniq'])在threshold之上的部分\n",
    "data_selected = data_withn_cnt_n1[data_withn_cnt_n1['cnt_uniq'] >= threshold][:]\n",
    "data_selected.to_csv(data_selected_path,header=True,encoding=\"utf-8\",index=False)"
   ]
  },
  {
   "cell_type": "markdown",
   "metadata": {},
   "source": [
    "# 4. output\n",
    "1.输出一些信息"
   ]
  },
  {
   "cell_type": "code",
   "execution_count": 77,
   "metadata": {
    "pycharm": {
     "name": "#%%\n"
    }
   },
   "outputs": [
    {
     "name": "stdout",
     "output_type": "stream",
     "text": [
      "在当前threshold设置下，dataset包括3838个setting\n",
      "\n",
      "当前threshold为16，相当于取了60.412%个unique settings\n",
      "\n"
     ]
    }
   ],
   "source": [
    "total_amount = data_withn_cnt_n1.shape[0]\n",
    "data_selected_size = data_selected.shape[0]\n",
    "print(\"在当前threshold设置下，dataset包括{}个setting\\n\".format(data_selected_size))\n",
    "print(\"当前threshold为{0}，相当于取了{1}%个unique settings\\n\".format(threshold, round(data_selected_size/total_amount*100, 3)))"
   ]
  }
 ],
 "metadata": {
  "kernelspec": {
   "name": "conda-root-py",
   "language": "python",
   "display_name": "Python [conda env:root]"
  },
  "language_info": {
   "codemirror_mode": {
    "name": "ipython",
    "version": 3
   },
   "file_extension": ".py",
   "mimetype": "text/x-python",
   "name": "python",
   "nbconvert_exporter": "python",
   "pygments_lexer": "ipython3",
   "version": "3.7.0"
  },
  "toc": {
   "base_numbering": 1,
   "nav_menu": {
    "height": "168px",
    "width": "283px"
   },
   "number_sections": true,
   "sideBar": true,
   "skip_h1_title": false,
   "title_cell": "Table of Contents",
   "title_sidebar": "Contents",
   "toc_cell": false,
   "toc_position": {},
   "toc_section_display": true,
   "toc_window_display": false
  },
  "varInspector": {
   "cols": {
    "lenName": 16,
    "lenType": 16,
    "lenVar": 40
   },
   "kernels_config": {
    "python": {
     "delete_cmd_postfix": "",
     "delete_cmd_prefix": "del ",
     "library": "var_list.py",
     "varRefreshCmd": "print(var_dic_list())"
    },
    "r": {
     "delete_cmd_postfix": ") ",
     "delete_cmd_prefix": "rm(",
     "library": "var_list.r",
     "varRefreshCmd": "cat(var_dic_list()) "
    }
   },
   "types_to_exclude": [
    "module",
    "function",
    "builtin_function_or_method",
    "instance",
    "_Feature"
   ],
   "window_display": false
  }
 },
 "nbformat": 4,
 "nbformat_minor": 1
}