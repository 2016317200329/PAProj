{
 "cells": [
  {
   "cell_type": "code",
   "execution_count": 1,
   "metadata": {
    "collapsed": true
   },
   "outputs": [],
   "source": [
    "#!/usr/bin/env python\n",
    "# -*- coding: utf-8 -*-\n",
    "# @Time    : 2022/10/3 21:02\n",
    "# @Author  : Wang Yujia\n",
    "# @File    : auction_features_trans.ipynb\n",
    "# @Description : 为auction提取contextual features\n"
   ]
  },
  {
   "cell_type": "markdown",
   "source": [
    "# 0. what for\n",
    "1. 一些auction的features/ setting info需要转换一下格式\n",
    "\n",
    "\n",
    "# 1. preparations\n",
    "## 1.1 全局设置"
   ],
   "metadata": {
    "collapsed": false
   }
  },
  {
   "cell_type": "code",
   "execution_count": 1,
   "outputs": [],
   "source": [
    "# outcomes dataset\n",
    "data_path = \"../data/info_asymm/datawithnp_asc_symmetry_selected.csv\"\n",
    "\n",
    "import numpy as np\n",
    "import pandas as pd"
   ],
   "metadata": {
    "collapsed": false
   }
  },
  {
   "cell_type": "markdown",
   "source": [
    "## 1.2 读取data"
   ],
   "metadata": {
    "collapsed": false
   }
  },
  {
   "cell_type": "code",
   "execution_count": 3,
   "outputs": [
    {
     "data": {
      "text/plain": "    N  product_id  bidincrement  bidfee  retail  cnt_uniq  cnt_n_1       P\n0  37    10012480            12      60   34.99        16        1  0.0625\n1  59    10012480            12      60   34.99        16        1  0.0625\n2   4    10012480            12      60   34.99        16        1  0.0625\n3   4    10012365            12      60   19.99        16        1  0.0625\n4  23    10012365            12      60   19.99        16        1  0.0625",
      "text/html": "<div>\n<style scoped>\n    .dataframe tbody tr th:only-of-type {\n        vertical-align: middle;\n    }\n\n    .dataframe tbody tr th {\n        vertical-align: top;\n    }\n\n    .dataframe thead th {\n        text-align: right;\n    }\n</style>\n<table border=\"1\" class=\"dataframe\">\n  <thead>\n    <tr style=\"text-align: right;\">\n      <th></th>\n      <th>N</th>\n      <th>product_id</th>\n      <th>bidincrement</th>\n      <th>bidfee</th>\n      <th>retail</th>\n      <th>cnt_uniq</th>\n      <th>cnt_n_1</th>\n      <th>P</th>\n    </tr>\n  </thead>\n  <tbody>\n    <tr>\n      <th>0</th>\n      <td>37</td>\n      <td>10012480</td>\n      <td>12</td>\n      <td>60</td>\n      <td>34.99</td>\n      <td>16</td>\n      <td>1</td>\n      <td>0.0625</td>\n    </tr>\n    <tr>\n      <th>1</th>\n      <td>59</td>\n      <td>10012480</td>\n      <td>12</td>\n      <td>60</td>\n      <td>34.99</td>\n      <td>16</td>\n      <td>1</td>\n      <td>0.0625</td>\n    </tr>\n    <tr>\n      <th>2</th>\n      <td>4</td>\n      <td>10012480</td>\n      <td>12</td>\n      <td>60</td>\n      <td>34.99</td>\n      <td>16</td>\n      <td>1</td>\n      <td>0.0625</td>\n    </tr>\n    <tr>\n      <th>3</th>\n      <td>4</td>\n      <td>10012365</td>\n      <td>12</td>\n      <td>60</td>\n      <td>19.99</td>\n      <td>16</td>\n      <td>1</td>\n      <td>0.0625</td>\n    </tr>\n    <tr>\n      <th>4</th>\n      <td>23</td>\n      <td>10012365</td>\n      <td>12</td>\n      <td>60</td>\n      <td>19.99</td>\n      <td>16</td>\n      <td>1</td>\n      <td>0.0625</td>\n    </tr>\n  </tbody>\n</table>\n</div>"
     },
     "execution_count": 3,
     "metadata": {},
     "output_type": "execute_result"
    }
   ],
   "source": [
    "data = pd.read_csv(data_path)\n",
    "data_colnames = data.columns\n",
    "data.head()\n"
   ],
   "metadata": {
    "collapsed": false
   }
  },
  {
   "cell_type": "markdown",
   "source": [
    "# 2. Categorical data\n",
    "1. 'product_id' 需要转换一下"
   ],
   "metadata": {
    "collapsed": false
   }
  },
  {
   "cell_type": "code",
   "execution_count": null,
   "outputs": [],
   "source": [],
   "metadata": {
    "collapsed": false
   }
  },
  {
   "cell_type": "markdown",
   "source": [
    "# 3. Numerical data\n",
    "1. 其他data需要标准化一下，包括'retail',''\n",
    "\n"
   ],
   "metadata": {
    "collapsed": false
   }
  }
 ],
 "metadata": {
  "kernelspec": {
   "name": "conda-env-pythorch-py",
   "language": "python",
   "display_name": "Python [conda env:pythorch] *"
  },
  "language_info": {
   "codemirror_mode": {
    "name": "ipython",
    "version": 2
   },
   "file_extension": ".py",
   "mimetype": "text/x-python",
   "name": "python",
   "nbconvert_exporter": "python",
   "pygments_lexer": "ipython2",
   "version": "2.7.6"
  }
 },
 "nbformat": 4,
 "nbformat_minor": 0
}
