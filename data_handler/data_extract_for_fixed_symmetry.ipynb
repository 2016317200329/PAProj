{
 "cells": [
  {
   "cell_type": "code",
   "execution_count": 1,
   "metadata": {
    "collapsed": true
   },
   "outputs": [],
   "source": [
    "#!/usr/bin/env python\n",
    "# -*- coding: utf-8 -*-\n",
    "# @Time    : 2022/9/29 11:07\n",
    "# @Author  : Wang Yujia\n",
    "# @File    : data_extract_for_fixed_symmetry.ipynb\n",
    "# @Description : 为fixed-price auction从outcomes中提取features和data。"
   ]
  },
  {
   "cell_type": "markdown",
   "source": [
    "# 0. what for\n",
    "1. 提取fixed-price auction（symmetry）的GT model需要的features,\n",
    "2. 提取fixed-price auction（symmetry）的GT model需要的data key,"
   ],
   "metadata": {
    "collapsed": false
   }
  },
  {
   "cell_type": "markdown",
   "source": [
    "# 1. Preparations\n",
    "## 1.1 全局设置"
   ],
   "metadata": {
    "collapsed": false
   }
  },
  {
   "cell_type": "code",
   "execution_count": 8,
   "outputs": [],
   "source": [
    "# 经过threshold后，得到的dataset\n",
    "data_path = \"../data/datawithnp_2_selected_fixed.csv\"\n",
    "\n",
    "# output path\n",
    "data_output_path = \"../data/info_asymm/datawithnp_fixed_symmetry_selected.csv\"\n",
    "# data_key_path\n",
    "data_key_path = \"../data/info_asymm/data_key_GT_1_fixed.csv\"\n",
    "\n",
    "# 最终GT model需要的features（不包括np），其中`product_id` is not necessary\n",
    "features_GT = ['bidincrement','bidfee','retail']\n",
    "import numpy as np\n",
    "import pandas as pd"
   ],
   "metadata": {
    "collapsed": false
   }
  },
  {
   "cell_type": "markdown",
   "source": [
    "## 1.2 读取data\n",
    "1. data其实就是`data_selected_path = \"../data/datawithnp_2_selected.csv\"`这个data\n",
    "2. outcomes的col：Index(['auction_id', 'product_id', 'item', 'desc', 'retail', 'price',\n",
    "       'finalprice', 'bidincrement', 'bidfee', 'winner', 'placedbids',\n",
    "       'freebids', 'endtime_str', 'flg_click_only', 'flg_beginnerauction',\n",
    "       'flg_fixedprice', 'flg_endprice'],"
   ],
   "metadata": {
    "collapsed": false
   }
  },
  {
   "cell_type": "code",
   "execution_count": 9,
   "outputs": [],
   "source": [
    "data = pd.read_csv(data_path,encoding=\"utf-8\")"
   ],
   "metadata": {
    "collapsed": false
   }
  },
  {
   "cell_type": "markdown",
   "source": [
    "## 1.2 读取data\n",
    "1. data其实就是`data_selected_path = \"../data/datawithnp_2_selected.csv\"`这个data\n",
    "2. data_key"
   ],
   "metadata": {
    "collapsed": false
   }
  },
  {
   "cell_type": "code",
   "execution_count": 10,
   "outputs": [
    {
     "name": "stdout",
     "output_type": "stream",
     "text": [
      "包括 *22* 个data key\n",
      "Done\n"
     ]
    }
   ],
   "source": [
    "data_key = data[features_GT].copy()\n",
    "data_key.drop_duplicates(inplace=True,ignore_index=True)\n",
    "\n",
    "data_key.to_csv(data_key_path,index=False,header=True,encoding=\"utf-8\")\n",
    "data.to_csv(data_output_path,index=False,header=True,encoding=\"utf-8\")\n",
    "\n",
    "print(f\"包括 *{data_key.shape[0]}* 个data key\")\n",
    "print(\"Done\")"
   ],
   "metadata": {
    "collapsed": false
   }
  }
 ],
 "metadata": {
  "kernelspec": {
   "display_name": "Python 3",
   "language": "python",
   "name": "python3"
  },
  "language_info": {
   "codemirror_mode": {
    "name": "ipython",
    "version": 2
   },
   "file_extension": ".py",
   "mimetype": "text/x-python",
   "name": "python",
   "nbconvert_exporter": "python",
   "pygments_lexer": "ipython2",
   "version": "2.7.6"
  }
 },
 "nbformat": 4,
 "nbformat_minor": 0
}
