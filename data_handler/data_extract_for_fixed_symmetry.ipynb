{
 "cells": [
  {
   "cell_type": "code",
   "execution_count": 37,
   "metadata": {
    "collapsed": true
   },
   "outputs": [],
   "source": [
    "#!/usr/bin/env python\n",
    "# -*- coding: utf-8 -*-\n",
    "# @Time    : 2022/9/29 11:07\n",
    "# @Author  : Wang Yujia\n",
    "# @File    : data_extract_for_fixed_symmetry.ipynb\n",
    "# @Description : 为fixed-price auction从outcomes中提取features和data。ref：信息不对称的paper里symmetry的情况。"
   ]
  },
  {
   "cell_type": "markdown",
   "source": [
    "# 0. what for\n",
    "1. 提取fixed-price auction（symmetry）的GT model需要的features, or settings\n",
    "    - 并不是所有settings都会被considered into, 样本数小于`threshold`的settings不予考虑\n",
    "2. 选择method-2来计算`n`与`p`，毕竟`traces.tsv`中不包含任何fixed-price auctions\n",
    "3. 代码参考自`../BasicInfo/calculate_n.np`，对于列名/参数名进行了优化和更改"
   ],
   "metadata": {
    "collapsed": false
   }
  },
  {
   "cell_type": "markdown",
   "source": [
    "# 1. Preparations\n",
    "## 1.1 全局设置"
   ],
   "metadata": {
    "collapsed": false
   }
  },
  {
   "cell_type": "code",
   "execution_count": 38,
   "outputs": [],
   "source": [
    "# outcomes dataset\n",
    "outcomes_orignal_path = \"../data/outcomes.tsv\"\n",
    "# traces dataset\n",
    "traces_original_path = \"../data/traces.tsv\"\n",
    "# 计算完n和p后，可以使用的dataset被output在\n",
    "output_path = \"../data/info_asymm/datawithnp_fixed_symmetry.csv\"\n",
    "# 经过threshold后，得到的dataset\n",
    "data_selected_path = \"../data/info_asymm/datawithnp_fixed_symmetry_selected.csv\"\n",
    "\n",
    "# 样本数小于`threshold`的settings不予考虑\n",
    "threshold = 16\n",
    "\n",
    "# 最终GT model做generate需要的features（不包括np），其中`product_id` is not necessary\n",
    "# fixed model 多了一个'finalprice'\n",
    "features_GT = ['auction_id','product_id','bidincrement','bidfee','retail','finalprice']\n",
    "# 衡量一场auction是否unique的标志\n",
    "# 需要喂给NN的necessary features\n",
    "unique_setting = ['product_id', 'bidincrement', 'bidfee', 'retail']\n",
    "# fixed-auction flag\n",
    "flg_fixed = ['flg_fixedprice']\n",
    "# To get 'n' by method-2, need this feature:\n",
    "price_feature = ['price']\n",
    "\n",
    "import numpy as np\n",
    "import pandas as pd"
   ],
   "metadata": {
    "collapsed": false,
    "pycharm": {
     "name": "#%%\n"
    }
   }
  },
  {
   "cell_type": "markdown",
   "source": [
    "## 1.2 读取fixed-price的data\n",
    "1. 从outcomes中筛选那些flg_fixed == 1的data\n",
    "2. outcomes.tsv中一共有 *2203* 场auctions 是 fixed-price auction."
   ],
   "metadata": {
    "collapsed": false
   }
  },
  {
   "cell_type": "code",
   "execution_count": 39,
   "outputs": [
    {
     "name": "stdout",
     "output_type": "stream",
     "text": [
      "outcomes.tsv 中一共有 *121419* 场auctions.\n",
      "outcomes.tsv 中一共有 *2203* 场auctions 是 fixed-price auction.\n"
     ]
    }
   ],
   "source": [
    "outcomes = pd.read_csv(outcomes_orignal_path, sep='\\t')\n",
    "print(\"outcomes.tsv 中一共有 *{}* 场auctions.\".format(outcomes.shape[0]))\n",
    "\n",
    "outcomes = outcomes[(features_GT+flg_fixed+price_feature)]\n",
    "outcomes['product_id'] = outcomes['product_id'].astype(int)\n",
    "idx = np.array(outcomes[flg_fixed] == 1)  # 记得转化成array，否则容易因为index不对应产生NaN值\n",
    "outcomes_fixed = outcomes[idx]\n",
    "print(\"outcomes.tsv 中一共有 *{}* 场auctions 是 fixed-price auction.\".format(outcomes_fixed.shape[0]))"
   ],
   "metadata": {
    "collapsed": false,
    "pycharm": {
     "name": "#%%\n"
    }
   }
  },
  {
   "cell_type": "markdown",
   "source": [
    "# 2. 计算n和p\n",
    "## 2.1 计算n\n",
    "1. 这里计算n是“方法二”：在outcomes.tsv中通过(price-0)/bidincrement来计算"
   ],
   "metadata": {
    "collapsed": false,
    "pycharm": {
     "name": "#%% md\n"
    }
   }
  },
  {
   "cell_type": "code",
   "execution_count": 40,
   "outputs": [],
   "source": [
    "data_withn = outcomes_fixed.copy()\n",
    "data_withn.loc[:,'n_2'] = outcomes.loc[:,'price'] / (outcomes.loc[:,'bidincrement']*0.01)\n",
    "data_withn['n_2'] = data_withn['n_2'].astype(int)                      # 把n变成int\n",
    "\n",
    "data_withn = data_withn.drop(flg_fixed+price_feature,axis=1)           # 去掉不用的列"
   ],
   "metadata": {
    "collapsed": false,
    "pycharm": {
     "name": "#%%\n"
    }
   }
  },
  {
   "cell_type": "markdown",
   "source": [
    "## 2.2 计算p\n",
    "1. `unique setting=['product_id', 'bidincrement', 'bidfee','retail']`，unique setting一样的auction认为是同一个\n",
    "2. `P = cnt_n_2 / cnt_uniq`\n",
    "3. cnt_uniq = ['n_2'].nunique() under the same 'unique setting'"
   ],
   "metadata": {
    "collapsed": false
   }
  },
  {
   "cell_type": "code",
   "execution_count": 41,
   "outputs": [],
   "source": [
    "# 2.2.1 each unique setting对应了'cnt_uniq'场auction: data_withn_cnt\n",
    "# 注意'cnt_uniq'并不需要出现在最后的data中，但是后面和threshold会联动一下\n",
    "data_grouped_tmp = data_withn.groupby(unique_setting,as_index=False)\n",
    "tmp = pd.DataFrame(data_grouped_tmp.size())\n",
    "\n",
    "data_withn_cnt = pd.merge(data_withn, tmp, on=unique_setting, how=\"left\")\n",
    "data_withn_cnt.rename(columns={'size': 'cnt_uniq'}, inplace=True)"
   ],
   "metadata": {
    "collapsed": false,
    "pycharm": {
     "name": "#%%\n"
    }
   }
  },
  {
   "cell_type": "markdown",
   "source": [
    "- P = cnt_n / cnt_uniq,上面已经算了' cnt_uniq'，下面需要算cnt_n"
   ],
   "metadata": {
    "collapsed": false
   }
  },
  {
   "cell_type": "code",
   "execution_count": 42,
   "outputs": [],
   "source": [
    "# 2.2.2 计算cnt_n_2，并添加到data_withn的一列: data_withn_cnt_n1\n",
    "        # cnt_n_2表示某个setting下的n_1某数值出现了几次/ Example: cnt_n=2表示在某个setting下，有2场拍卖持续了n_1轮\n",
    "features_cnt_n_2 = unique_setting+['n_2']\n",
    "data_grouped_tmp = data_withn.groupby(features_cnt_n_2,as_index=False)\n",
    "tmp = pd.DataFrame(data_grouped_tmp.size())\n",
    "\n",
    "data_withn_cnt_n2 = pd.merge(data_withn_cnt, tmp, on=features_cnt_n_2, how=\"left\")\n",
    "data_withn_cnt_n2.rename(columns={'size': 'cnt_n_2'}, inplace=True)"
   ],
   "metadata": {
    "collapsed": false,
    "pycharm": {
     "name": "#%%\n"
    }
   }
  },
  {
   "cell_type": "markdown",
   "source": [
    "- P = cnt_n / cnt_uniq\n",
    "- 输出的结果在`data_withn_cnt_n12`中，其中包含了所需要的3个值：cnt_n_1 cnt_uniq"
   ],
   "metadata": {
    "collapsed": false
   }
  },
  {
   "cell_type": "code",
   "execution_count": 43,
   "outputs": [],
   "source": [
    "# 2.2.3 计算P=cnt_n_2 / cnt_uniq: data_withn_cnt_n2\n",
    "\n",
    "tmp = data_withn_cnt_n2['cnt_n_2'] / data_withn_cnt_n2['cnt_uniq']\n",
    "data_withn_cnt_n2['P'] = tmp"
   ],
   "metadata": {
    "collapsed": false,
    "pycharm": {
     "name": "#%%\n"
    }
   }
  },
  {
   "cell_type": "markdown",
   "source": [
    "## 2.3 保存结果\n",
    "0. 逻辑检查请在之前进行\n",
    "1. 这里保存的是没有经过`threshold`筛选的data\n",
    "2. 去重注意不能按照`unique_setting`去搞，毕竟一个`unique_setting`对应一组`np`值，也就是对应一个概率分布"
   ],
   "metadata": {
    "collapsed": false
   }
  },
  {
   "cell_type": "code",
   "execution_count": 44,
   "outputs": [
    {
     "name": "stdout",
     "output_type": "stream",
     "text": [
      "The data is like: \n",
      "   auction_id  product_id  bidincrement  bidfee  retail  finalprice     N  \\\n",
      "0       90391    10007682            15      75  899.99         1.0   175   \n",
      "1       90392    10007682            15      75  899.99         1.0  1074   \n",
      "2       92731    10009561            15      75  799.99         1.0    21   \n",
      "3       92744    10009440            15      75  899.99         1.0  1073   \n",
      "4       92933    10008521            15      75  749.99         1.0  1242   \n",
      "\n",
      "   cnt_uniq  cnt_n_2         P  \n",
      "0         8        1  0.125000  \n",
      "1         8        1  0.125000  \n",
      "2         3        1  0.333333  \n",
      "3        15        1  0.066667  \n",
      "4        93        1  0.010753  \n"
     ]
    }
   ],
   "source": [
    "# 去重，重命名与输出\n",
    "data_withn_cnt_n2.rename(columns={'n_2': 'N'}, inplace=True)\n",
    "data_withn_cnt_n2.drop_duplicates(subset=(['N','P']+features_GT),inplace=True)\n",
    "data_withn_cnt_n2.to_csv(output_path, header=True, encoding=\"utf-8\",index=False)\n",
    "print(\"The data is like: \")\n",
    "print(data_withn_cnt_n2.head())"
   ],
   "metadata": {
    "collapsed": false,
    "pycharm": {
     "name": "#%%\n"
    }
   }
  },
  {
   "cell_type": "markdown",
   "source": [
    "# 3. 根据threshold筛选data\n",
    "1. 取样本数在threshold之上的setting作为数据集来使用\n",
    "    - 根据每个unique setting[product_id,bidincrement,bidfee]下的样本数: data_withn_cnt_n1['cnt_uniq']，用`threshold`筛选\n",
    "2. GT model可以根据这个进行计算"
   ],
   "metadata": {
    "collapsed": false,
    "pycharm": {
     "name": "#%% md\n"
    }
   }
  },
  {
   "cell_type": "code",
   "execution_count": 45,
   "outputs": [],
   "source": [
    "# 筛选unique setting对应的样本数(data_withn_cnt_n1['cnt_uniq'])在threshold之上的部分\n",
    "data_selected = data_withn_cnt_n2[data_withn_cnt_n2['cnt_uniq'] >= threshold][:]\n",
    "data_selected.to_csv(data_selected_path,header=True,encoding=\"utf-8\",index=False)"
   ],
   "metadata": {
    "collapsed": false,
    "pycharm": {
     "name": "#%%\n"
    }
   }
  },
  {
   "cell_type": "markdown",
   "source": [
    "# 4. output\n",
    "1.输出一些信息"
   ],
   "metadata": {
    "collapsed": false,
    "pycharm": {
     "name": "#%% md\n"
    }
   }
  },
  {
   "cell_type": "code",
   "execution_count": 46,
   "outputs": [
    {
     "name": "stdout",
     "output_type": "stream",
     "text": [
      "在当前threshold下，dataset包括*1597*个setting\n",
      "\n",
      "当前threshold为*16*，相当于取了*72.492%*个unique settings\n",
      "\n"
     ]
    }
   ],
   "source": [
    "total_amount = data_withn_cnt_n2.shape[0]\n",
    "data_selected_size = data_selected.shape[0]\n",
    "print(\"在当前threshold下，dataset包括*{}*个setting\\n\".format(data_selected_size))\n",
    "print(\"当前threshold为*{0}*，相当于取了*{1}%*个unique settings\\n\".format(threshold, round(data_selected_size/total_amount*100, 3)))\n"
   ],
   "metadata": {
    "collapsed": false,
    "pycharm": {
     "name": "#%%\n"
    }
   }
  }
 ],
 "metadata": {
  "kernelspec": {
   "display_name": "Python 3",
   "language": "python",
   "name": "python3"
  },
  "language_info": {
   "codemirror_mode": {
    "name": "ipython",
    "version": 2
   },
   "file_extension": ".py",
   "mimetype": "text/x-python",
   "name": "python",
   "nbconvert_exporter": "python",
   "pygments_lexer": "ipython2",
   "version": "2.7.6"
  }
 },
 "nbformat": 4,
 "nbformat_minor": 0
}