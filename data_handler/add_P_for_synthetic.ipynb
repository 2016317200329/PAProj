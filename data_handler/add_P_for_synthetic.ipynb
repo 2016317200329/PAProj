{
 "cells": [
  {
   "cell_type": "markdown",
   "source": [
    "# 0. Intro\n",
    "1. 为synthetic data添加P列，因为KL计算必须使用P"
   ],
   "metadata": {
    "collapsed": false
   }
  },
  {
   "cell_type": "code",
   "execution_count": 24,
   "metadata": {
    "collapsed": true
   },
   "outputs": [
    {
     "name": "stdout",
     "output_type": "stream",
     "text": [
      "The autoreload extension is already loaded. To reload it, use:\n",
      "  %reload_ext autoreload\n"
     ]
    }
   ],
   "source": [
    "import pandas as pd\n",
    "import torch\n",
    "%load_ext autoreload\n",
    "%reload_ext autoreload\n",
    "%autoreload 2"
   ]
  },
  {
   "cell_type": "code",
   "execution_count": 25,
   "outputs": [],
   "source": [
    "from MLP.utils import *\n",
    "import os\n",
    "noise_pct = 0.05           # 噪音占比:我们希望生成的data总体上最多浮动的百分比noise_pct\n",
    "from tqdm import tqdm\n",
    "from MLP.Config.config_base import BaseConfig\n",
    "config = BaseConfig()"
   ],
   "metadata": {
    "collapsed": false
   }
  },
  {
   "cell_type": "code",
   "execution_count": 26,
   "outputs": [],
   "source": [
    "target_path = target_path = \"../data/artificial_targets_v2_\" + \"noise=\" + str(noise_pct)\n",
    "target_all_path = os.listdir(target_path)"
   ],
   "metadata": {
    "collapsed": false
   }
  },
  {
   "cell_type": "markdown",
   "source": [
    "# 1."
   ],
   "metadata": {
    "collapsed": false
   }
  },
  {
   "cell_type": "code",
   "execution_count": 27,
   "outputs": [
    {
     "name": "stderr",
     "output_type": "stream",
     "text": [
      "100%|██████████| 1276/1276 [00:03<00:00, 320.75it/s]\n"
     ]
    }
   ],
   "source": [
    "for file_i in tqdm(target_all_path):\n",
    "\n",
    "    # Get target data\n",
    "    target_path_i = os.path.join(target_path, file_i)\n",
    "    target_df = pd.read_csv(target_path_i,encoding=\"utf-8\")\n",
    "\n",
    "    target_df_group = target_df.groupby(by = ['N'],as_index=False).size()\n",
    "    target_df_group['P'] = target_df_group['size'] / sum(target_df_group['size'])\n",
    "\n",
    "    target_df_wP = pd.merge(left = target_df, right=target_df_group ,how=\"left\", on=['N'])\n",
    "    target_df_wP.drop(labels='size',axis=1,inplace=True)\n",
    "\n",
    "    target_df_wP.columns = ['N','P']\n",
    "\n",
    "    target_df_wP.to_csv(target_path_i,index=False)"
   ],
   "metadata": {
    "collapsed": false
   }
  },
  {
   "cell_type": "code",
   "execution_count": null,
   "outputs": [],
   "source": [],
   "metadata": {
    "collapsed": false
   }
  }
 ],
 "metadata": {
  "kernelspec": {
   "display_name": "Python 3",
   "language": "python",
   "name": "python3"
  },
  "language_info": {
   "codemirror_mode": {
    "name": "ipython",
    "version": 2
   },
   "file_extension": ".py",
   "mimetype": "text/x-python",
   "name": "python",
   "nbconvert_exporter": "python",
   "pygments_lexer": "ipython2",
   "version": "2.7.6"
  }
 },
 "nbformat": 4,
 "nbformat_minor": 0
}
