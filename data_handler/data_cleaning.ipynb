{
 "cells": [
  {
   "cell_type": "code",
   "execution_count": 56,
   "metadata": {
    "collapsed": true
   },
   "outputs": [],
   "source": [
    "#!/usr/bin/env python\n",
    "# -*- coding: utf-8 -*-\n",
    "# @Time    : 2022/9/26 14:40\n",
    "# @Author  : Wang Yujia\n",
    "# @File    : data_cleaning.ipynb\n",
    "# @Description : 1. 对outcomes.tsv进行清洗"
   ]
  },
  {
   "cell_type": "markdown",
   "source": [
    "# 0. what for\n",
    "1. 对outcomes.tsv进行清洗\n",
    "# 1. Preparations\n",
    "## 1.1 全局设置"
   ],
   "metadata": {
    "collapsed": false
   }
  },
  {
   "cell_type": "code",
   "execution_count": 57,
   "outputs": [],
   "source": [
    "# outcomes dataset\n",
    "outcomes_orignal_path = \"../data/outcomes.tsv\"\n",
    "\n",
    "# output path\n",
    "output_path = \"../data/outcomes_cleaned.csv\"\n",
    "\n",
    "import numpy as np\n",
    "import pandas as pd"
   ],
   "metadata": {
    "collapsed": false
   }
  },
  {
   "cell_type": "markdown",
   "source": [
    "## 1.2 读取data，统一单位\n",
    "1. 把'bidfee'和'bidincrement'单位统一成dollar"
   ],
   "metadata": {
    "collapsed": false
   }
  },
  {
   "cell_type": "code",
   "execution_count": 58,
   "outputs": [
    {
     "data": {
      "text/plain": "   auction_id  product_id                                      item  \\\n0       86827    10009602  sony-ericsson-s500i-unlocked-mysterious-   \n1       87964    10009881            psp-slim-lite-sony-piano-black   \n2       87965    10009881            psp-slim-lite-sony-piano-black   \n3       88638    10006115  sony-ericsson-s500i-unlocked-mysterious-   \n4       88639    10006115  sony-ericsson-s500i-unlocked-mysterious-   \n\n                                            desc  retail  price  finalprice  \\\n0  Sony Ericsson S500i Unlocked Mysterious Green  499.99  13.35       13.35   \n1               PSP Slim & Lite Sony Piano Black  169.99  74.70       74.70   \n2               PSP Slim & Lite Sony Piano Black  169.99  83.10       83.10   \n3  Sony Ericsson S500i Unlocked Mysterious Green  499.99  19.65       19.65   \n4  Sony Ericsson S500i Unlocked Mysterious Green  499.99  47.10       47.10   \n\n   bidincrement  bidfee        winner  placedbids  freebids  \\\n0          0.15    0.75       Racer11          26         0   \n1          0.15    0.75        Cemo23          65         0   \n2          0.15    0.75  Jacobsonnich          94         0   \n3          0.15    0.75        Mokkis          10         0   \n4          0.15    0.75  Superloeffel          80         0   \n\n            endtime_str  flg_click_only  flg_beginnerauction  flg_fixedprice  \\\n0  19:52 PDT 09-16-2008               0                    0               0   \n1  11:17 PDT 08-28-2008               0                    0               0   \n2  22:52 PDT 11-07-2008               0                    1               0   \n3  22:02 PDT 08-23-2008               0                    0               0   \n4  14:23 PDT 08-24-2008               0                    0               0   \n\n   flg_endprice  \n0             0  \n1             0  \n2             0  \n3             0  \n4             0  ",
      "text/html": "<div>\n<style scoped>\n    .dataframe tbody tr th:only-of-type {\n        vertical-align: middle;\n    }\n\n    .dataframe tbody tr th {\n        vertical-align: top;\n    }\n\n    .dataframe thead th {\n        text-align: right;\n    }\n</style>\n<table border=\"1\" class=\"dataframe\">\n  <thead>\n    <tr style=\"text-align: right;\">\n      <th></th>\n      <th>auction_id</th>\n      <th>product_id</th>\n      <th>item</th>\n      <th>desc</th>\n      <th>retail</th>\n      <th>price</th>\n      <th>finalprice</th>\n      <th>bidincrement</th>\n      <th>bidfee</th>\n      <th>winner</th>\n      <th>placedbids</th>\n      <th>freebids</th>\n      <th>endtime_str</th>\n      <th>flg_click_only</th>\n      <th>flg_beginnerauction</th>\n      <th>flg_fixedprice</th>\n      <th>flg_endprice</th>\n    </tr>\n  </thead>\n  <tbody>\n    <tr>\n      <th>0</th>\n      <td>86827</td>\n      <td>10009602</td>\n      <td>sony-ericsson-s500i-unlocked-mysterious-</td>\n      <td>Sony Ericsson S500i Unlocked Mysterious Green</td>\n      <td>499.99</td>\n      <td>13.35</td>\n      <td>13.35</td>\n      <td>0.15</td>\n      <td>0.75</td>\n      <td>Racer11</td>\n      <td>26</td>\n      <td>0</td>\n      <td>19:52 PDT 09-16-2008</td>\n      <td>0</td>\n      <td>0</td>\n      <td>0</td>\n      <td>0</td>\n    </tr>\n    <tr>\n      <th>1</th>\n      <td>87964</td>\n      <td>10009881</td>\n      <td>psp-slim-lite-sony-piano-black</td>\n      <td>PSP Slim &amp; Lite Sony Piano Black</td>\n      <td>169.99</td>\n      <td>74.70</td>\n      <td>74.70</td>\n      <td>0.15</td>\n      <td>0.75</td>\n      <td>Cemo23</td>\n      <td>65</td>\n      <td>0</td>\n      <td>11:17 PDT 08-28-2008</td>\n      <td>0</td>\n      <td>0</td>\n      <td>0</td>\n      <td>0</td>\n    </tr>\n    <tr>\n      <th>2</th>\n      <td>87965</td>\n      <td>10009881</td>\n      <td>psp-slim-lite-sony-piano-black</td>\n      <td>PSP Slim &amp; Lite Sony Piano Black</td>\n      <td>169.99</td>\n      <td>83.10</td>\n      <td>83.10</td>\n      <td>0.15</td>\n      <td>0.75</td>\n      <td>Jacobsonnich</td>\n      <td>94</td>\n      <td>0</td>\n      <td>22:52 PDT 11-07-2008</td>\n      <td>0</td>\n      <td>1</td>\n      <td>0</td>\n      <td>0</td>\n    </tr>\n    <tr>\n      <th>3</th>\n      <td>88638</td>\n      <td>10006115</td>\n      <td>sony-ericsson-s500i-unlocked-mysterious-</td>\n      <td>Sony Ericsson S500i Unlocked Mysterious Green</td>\n      <td>499.99</td>\n      <td>19.65</td>\n      <td>19.65</td>\n      <td>0.15</td>\n      <td>0.75</td>\n      <td>Mokkis</td>\n      <td>10</td>\n      <td>0</td>\n      <td>22:02 PDT 08-23-2008</td>\n      <td>0</td>\n      <td>0</td>\n      <td>0</td>\n      <td>0</td>\n    </tr>\n    <tr>\n      <th>4</th>\n      <td>88639</td>\n      <td>10006115</td>\n      <td>sony-ericsson-s500i-unlocked-mysterious-</td>\n      <td>Sony Ericsson S500i Unlocked Mysterious Green</td>\n      <td>499.99</td>\n      <td>47.10</td>\n      <td>47.10</td>\n      <td>0.15</td>\n      <td>0.75</td>\n      <td>Superloeffel</td>\n      <td>80</td>\n      <td>0</td>\n      <td>14:23 PDT 08-24-2008</td>\n      <td>0</td>\n      <td>0</td>\n      <td>0</td>\n      <td>0</td>\n    </tr>\n  </tbody>\n</table>\n</div>"
     },
     "execution_count": 58,
     "metadata": {},
     "output_type": "execute_result"
    }
   ],
   "source": [
    "outcomes = pd.read_csv(outcomes_orignal_path, sep='\\t')\n",
    "outcomes['bidfee'] = outcomes['bidfee']*0.01\n",
    "outcomes['bidincrement'] = outcomes['bidincrement']*0.01\n",
    "outcomes.head()"
   ],
   "metadata": {
    "collapsed": false
   }
  },
  {
   "cell_type": "markdown",
   "source": [
    "# 2. 根据规则drop数据\n",
    "## 2.1 drop data where ['bidfee'] >= ['retail']\n",
    "1. 异常数据，bid fee比retail都高。"
   ],
   "metadata": {
    "collapsed": false
   }
  },
  {
   "cell_type": "code",
   "execution_count": 59,
   "outputs": [
    {
     "name": "stdout",
     "output_type": "stream",
     "text": [
      "Drop 掉了 *32* 行data，他们的bidfee >= retail\n"
     ]
    }
   ],
   "source": [
    "idx_drop = outcomes[(outcomes['bidfee'])>=outcomes['retail']].index\n",
    "outcomes.drop(idx_drop,axis = 0,inplace=True)\n",
    "print(\"Drop 掉了 *{}* 行data，他们的bidfee >= retail\".format(len(idx_drop)))"
   ],
   "metadata": {
    "collapsed": false
   }
  },
  {
   "cell_type": "markdown",
   "source": [
    "## 2.2 要不要drop掉'finalprice'和 'price'不一致的data呢？\n",
    "1. 暂时不\n",
    "\n",
    "## 2.3 drop data where ['flg_fixedprice'] == 1\n",
    "1. 只保留“增加拍卖的数据”"
   ],
   "metadata": {
    "collapsed": false
   }
  },
  {
   "cell_type": "code",
   "execution_count": 60,
   "outputs": [
    {
     "name": "stdout",
     "output_type": "stream",
     "text": [
      "Drop 掉了 *2203* 行data，他们不是增价拍卖（是fixed-price）\n"
     ]
    }
   ],
   "source": [
    "b = outcomes.shape[0]\n",
    "outcomes_asc = outcomes[np.array(outcomes['flg_fixedprice'] == 0)].copy()\n",
    "print(f\"Drop 掉了 *{b- outcomes_asc.shape[0]}* 行data，他们不是增价拍卖（是fixed-price）\")"
   ],
   "metadata": {
    "collapsed": false
   }
  },
  {
   "cell_type": "markdown",
   "source": [
    "## 2.4 drop data where 'desc'=\"-\"\n",
    "1. 有的data的desc是“-”，而且item是一个“xxxx.html”，认为异常数据\n",
    "    - 'product_id' == 10010818"
   ],
   "metadata": {
    "collapsed": false
   }
  },
  {
   "cell_type": "code",
   "execution_count": 61,
   "outputs": [
    {
     "name": "stdout",
     "output_type": "stream",
     "text": [
      "Drop 掉了 *1* 行data，它们的desc是“-”）\n"
     ]
    }
   ],
   "source": [
    "idx_drop = outcomes_asc[outcomes_asc['desc'] == '-'].index\n",
    "outcomes_asc.drop(idx_drop,inplace=True,axis=0)\n",
    "print(f\"Drop 掉了 *{len(idx_drop)}* 行data，它们的desc是“-”）\")"
   ],
   "metadata": {
    "collapsed": false
   }
  },
  {
   "cell_type": "markdown",
   "source": [
    "# 3. Reformat\n",
    "1. 有的product_id和item以及desc对不上，\n",
    "2. 添加一列id，保留原来的'product_id'，希望“id”一样时，对应的desc是唯一的\n",
    "    - 不应该以item为标准有很多desc不同但是item一样\n",
    "    - 而且item项的信息过于简略，不全\n",
    "3. 可以预想的是，reformat之后，settings数目会减少，但是由于并没有drop数据，samples会增多一点"
   ],
   "metadata": {
    "collapsed": false
   }
  },
  {
   "cell_type": "code",
   "execution_count": 62,
   "outputs": [],
   "source": [
    "desc_arr = outcomes_asc['desc'].unique()\n",
    "desc_df = pd.DataFrame({'id' : np.arange(0,len(desc_arr)),\n",
    "                        'desc': desc_arr})\n",
    "outcomes_with_id = outcomes_asc.merge(desc_df,on='desc',how=\"left\")"
   ],
   "metadata": {
    "collapsed": false
   }
  },
  {
   "cell_type": "markdown",
   "source": [
    "# 4. save"
   ],
   "metadata": {
    "collapsed": false
   }
  },
  {
   "cell_type": "code",
   "execution_count": 63,
   "outputs": [
    {
     "name": "stdout",
     "output_type": "stream",
     "text": [
      "Done\n"
     ]
    }
   ],
   "source": [
    "# outcomes_asc.to_csv(output_path,index=False,header=True,encoding=\"utf-8\")\n",
    "outcomes_with_id.to_csv(output_path,index=False,header=True,encoding=\"utf-8\")\n",
    "print(\"Done\")"
   ],
   "metadata": {
    "collapsed": false
   }
  },
  {
   "cell_type": "code",
   "execution_count": null,
   "outputs": [],
   "source": [],
   "metadata": {
    "collapsed": false
   }
  }
 ],
 "metadata": {
  "kernelspec": {
   "display_name": "Python 3",
   "language": "python",
   "name": "python3"
  },
  "language_info": {
   "codemirror_mode": {
    "name": "ipython",
    "version": 2
   },
   "file_extension": ".py",
   "mimetype": "text/x-python",
   "name": "python",
   "nbconvert_exporter": "python",
   "pygments_lexer": "ipython2",
   "version": "2.7.6"
  }
 },
 "nbformat": 4,
 "nbformat_minor": 0
}
