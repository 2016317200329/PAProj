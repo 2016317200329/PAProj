{
 "cells": [
  {
   "cell_type": "code",
   "execution_count": null,
   "metadata": {
    "collapsed": true
   },
   "outputs": [],
   "source": []
  },
  {
   "cell_type": "markdown",
   "source": [
    "# 0. what for\n",
    "1. 读取metric文件，检查不同seed下，在test set上的avg metric\n",
    "2. 读取revenue data file，看一看data records的数量。\n",
    "\n",
    "# 1. data path"
   ],
   "metadata": {
    "collapsed": false
   }
  },
  {
   "cell_type": "code",
   "execution_count": 8,
   "outputs": [],
   "source": [
    "import pandas as pd\n",
    "import torch\n",
    "import random\n",
    "import numpy as np\n",
    "metric_GT1_path = \"../data/GT_metric/NLL_metric_GT_Tgt=1_e30_seed=3.csv\"\n",
    "\n",
    "data_path_head = \"../data/revenue/setting_bd_2_selected_analysis_seed=\"\n",
    "data_path_tail = \".csv\"\n",
    "\n",
    "train_pct = 0.7\n",
    "vali_pct = 0.2"
   ],
   "metadata": {
    "collapsed": false
   }
  },
  {
   "cell_type": "code",
   "execution_count": 9,
   "outputs": [],
   "source": [
    "metric_GT1 = pd.read_csv(metric_GT1_path).GT1\n",
    "LEN_ALL = metric_GT1.shape[0]\n",
    "def setup_seed(seed):\n",
    "    \"\"\"\n",
    "    Set seed\n",
    "    Args:\n",
    "        seed:\n",
    "    \"\"\"\n",
    "    torch.manual_seed(seed)\n",
    "    torch.cuda.manual_seed_all(seed)\n",
    "    np.random.seed(seed)\n",
    "    random.seed(seed)\n",
    "    torch.backends.cudnn.deterministic = True\n"
   ],
   "metadata": {
    "collapsed": false
   }
  },
  {
   "cell_type": "markdown",
   "source": [
    "# 1."
   ],
   "metadata": {
    "collapsed": false
   }
  },
  {
   "cell_type": "code",
   "execution_count": 13,
   "outputs": [
    {
     "name": "stdout",
     "output_type": "stream",
     "text": [
      "seed=300, mean metric=6.734659231250759\n",
      "seed=301, mean metric=6.66399346405369\n",
      "seed=302, mean metric=6.87831675611703\n",
      "seed=303, mean metric=6.872797126450931\n",
      "seed=304, mean metric=6.881450190782066\n",
      "seed=305, mean metric=6.817041159427383\n",
      "seed=306, mean metric=7.046401631259844\n",
      "seed=307, mean metric=7.180922843376784\n",
      "seed=308, mean metric=6.868476703484293\n",
      "seed=309, mean metric=6.855327149662697\n",
      "seed=310, mean metric=7.4336565191120485\n",
      "seed=311, mean metric=6.9106789034739124\n",
      "seed=312, mean metric=6.705026617524264\n",
      "seed=313, mean metric=7.112808172678981\n",
      "seed=314, mean metric=6.592986233299709\n",
      "seed=315, mean metric=6.855106597497292\n",
      "seed=316, mean metric=6.48897188700293\n",
      "seed=317, mean metric=6.8873741654898435\n",
      "seed=318, mean metric=7.0962165121077705\n",
      "seed=319, mean metric=6.842506647708476\n"
     ]
    }
   ],
   "source": [
    "seed_list = [i for i in range(300,320)]\n",
    "for seed in seed_list:\n",
    "    setup_seed(seed)\n",
    "\n",
    "    # 使用全部的data\n",
    "    shuffled_indices = np.random.permutation(LEN_ALL)\n",
    "\n",
    "    train_idx = shuffled_indices[:int(train_pct*LEN_ALL)]\n",
    "    # train_idx = shuffled_indices\n",
    "    tmp = int((train_pct+vali_pct)*LEN_ALL)\n",
    "    val_idx = shuffled_indices[int(train_pct*LEN_ALL):tmp]\n",
    "    test_idx = shuffled_indices[tmp:]\n",
    "    metric_test = metric_GT1[test_idx]\n",
    "    print(f\"seed={seed}, mean metric={metric_test.mean()}\")"
   ],
   "metadata": {
    "collapsed": false
   }
  },
  {
   "cell_type": "code",
   "execution_count": null,
   "outputs": [],
   "source": [],
   "metadata": {
    "collapsed": false
   }
  },
  {
   "cell_type": "markdown",
   "source": [
    "# 2. check data record数量"
   ],
   "metadata": {
    "collapsed": false
   }
  },
  {
   "cell_type": "code",
   "execution_count": null,
   "outputs": [],
   "source": [
    "seed_list = [3,31,204,223,277,307]\n",
    "\n",
    "for seed in seed_list:\n",
    "    data_file_path = data_path_head + str(seed) + data_path_tail\n",
    "    data = pd.read_csv(data_file_path,encoding=\"utf-8\")"
   ],
   "metadata": {
    "collapsed": false
   }
  }
 ],
 "metadata": {
  "kernelspec": {
   "display_name": "Python 3",
   "language": "python",
   "name": "python3"
  },
  "language_info": {
   "codemirror_mode": {
    "name": "ipython",
    "version": 2
   },
   "file_extension": ".py",
   "mimetype": "text/x-python",
   "name": "python",
   "nbconvert_exporter": "python",
   "pygments_lexer": "ipython2",
   "version": "2.7.6"
  }
 },
 "nbformat": 4,
 "nbformat_minor": 0
}
