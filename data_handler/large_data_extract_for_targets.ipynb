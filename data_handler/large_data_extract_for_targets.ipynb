{
 "cells": [
  {
   "cell_type": "markdown",
   "source": [
    "# 0. what for\n",
    "1. 把一张表拆成多个csv文件\n",
    "# 1. Preparations\n",
    "## 1.1 全局设置"
   ],
   "metadata": {
    "collapsed": false
   }
  },
  {
   "cell_type": "code",
   "execution_count": 58,
   "outputs": [],
   "source": [
    "#导入pandas包\n",
    "import pandas as pd\n",
    "import numpy as np\n",
    "from tqdm import tqdm\n",
    "\n",
    "#data path\n",
    "data_np_path = r'E:\\DATA\\large_dta\\auctions_np.csv'                 #\n",
    "settings_np_path = r'E:\\DATA\\large_dta\\settings_np.csv'             #\n",
    "\n",
    "# data output path\n",
    "target_output_head= r\"E:\\DATA\\large_dta\\targets\\target_data_NP_\"\n",
    "target_output_tail= \".csv\""
   ],
   "metadata": {
    "collapsed": false
   }
  },
  {
   "cell_type": "code",
   "execution_count": 59,
   "metadata": {
    "collapsed": true
   },
   "outputs": [
    {
     "data": {
      "text/plain": "                                 item     k     y  retail\n0                     20 BIDS VOUCHER  0.01  0.01    14.0\n1                     20 BIDS VOUCHER  0.01  0.01    15.0\n2                     50 BIDS VOUCHER  0.01  0.01    35.0\n3                50 FREEBIDS VOUCHER!  0.01  0.01    35.0\n4  MAKITA CORDLESS ARTICULATED WRENCH  0.01  0.01    59.0",
      "text/html": "<div>\n<style scoped>\n    .dataframe tbody tr th:only-of-type {\n        vertical-align: middle;\n    }\n\n    .dataframe tbody tr th {\n        vertical-align: top;\n    }\n\n    .dataframe thead th {\n        text-align: right;\n    }\n</style>\n<table border=\"1\" class=\"dataframe\">\n  <thead>\n    <tr style=\"text-align: right;\">\n      <th></th>\n      <th>item</th>\n      <th>k</th>\n      <th>y</th>\n      <th>retail</th>\n    </tr>\n  </thead>\n  <tbody>\n    <tr>\n      <th>0</th>\n      <td>20 BIDS VOUCHER</td>\n      <td>0.01</td>\n      <td>0.01</td>\n      <td>14.0</td>\n    </tr>\n    <tr>\n      <th>1</th>\n      <td>20 BIDS VOUCHER</td>\n      <td>0.01</td>\n      <td>0.01</td>\n      <td>15.0</td>\n    </tr>\n    <tr>\n      <th>2</th>\n      <td>50 BIDS VOUCHER</td>\n      <td>0.01</td>\n      <td>0.01</td>\n      <td>35.0</td>\n    </tr>\n    <tr>\n      <th>3</th>\n      <td>50 FREEBIDS VOUCHER!</td>\n      <td>0.01</td>\n      <td>0.01</td>\n      <td>35.0</td>\n    </tr>\n    <tr>\n      <th>4</th>\n      <td>MAKITA CORDLESS ARTICULATED WRENCH</td>\n      <td>0.01</td>\n      <td>0.01</td>\n      <td>59.0</td>\n    </tr>\n  </tbody>\n</table>\n</div>"
     },
     "execution_count": 59,
     "metadata": {},
     "output_type": "execute_result"
    }
   ],
   "source": [
    "data = pd.read_csv(data_np_path,encoding=\"utf-8\")\n",
    "settings = pd.read_csv(settings_np_path,encoding=\"utf-8\")\n",
    "\n",
    "unique_setting_NN = ['item','k','y','retail']\n",
    "settings.head()"
   ]
  },
  {
   "cell_type": "markdown",
   "source": [
    "# 2. output"
   ],
   "metadata": {
    "collapsed": false
   }
  },
  {
   "cell_type": "code",
   "execution_count": 66,
   "outputs": [],
   "source": [
    "START = 1196\n",
    "for i in range(len(settings)):\n",
    "    data_i_df = data[(data['item']==settings.iloc[i,0]) & (data['k']==settings.iloc[i,1]) & (data['y']==settings.iloc[i,2]) & (data['retail']==settings.iloc[i,3])]\n",
    "\n",
    "    data_i_df = data_i_df[['N','P']].copy()\n",
    "    data_i_df.sort_values(by=\"N\",inplace=True,ignore_index=True)\n",
    "    # Get the output path\n",
    "    target_output_path = target_output_head+str(START+i).zfill(4)+target_output_tail\n",
    "    data_i_df.to_csv(target_output_path,header=True,index=False,encoding=\"utf-8\")"
   ],
   "metadata": {
    "collapsed": false
   }
  },
  {
   "cell_type": "markdown",
   "source": [
    "# 3. 整理粒度\n",
    "1. read in data （with 'cnt'）\n",
    "2. 粒度=5"
   ],
   "metadata": {
    "collapsed": false
   }
  },
  {
   "cell_type": "code",
   "execution_count": 64,
   "outputs": [],
   "source": [
    "target_output_head= r\"E:\\DATA\\large_dta\\targets_5\\target_data_NP_\"\n",
    "target_output_tail= \".csv\""
   ],
   "metadata": {
    "collapsed": false
   }
  },
  {
   "cell_type": "code",
   "execution_count": 65,
   "outputs": [
    {
     "name": "stderr",
     "output_type": "stream",
     "text": [
      "100%|██████████| 78/78 [00:01<00:00, 72.42it/s]\n"
     ]
    }
   ],
   "source": [
    "for i in tqdm(range(0,len(settings))):\n",
    "\n",
    "    data_i = data[(data['item']==settings.iloc[i,0]) & (data['k']==settings.iloc[i,1]) & (data['y']==settings.iloc[i,2]) & (data['retail']==settings.iloc[i,3])]\n",
    "    data_i = data_i[['N','P','cnt_N']].copy()\n",
    "    data_i.sort_values(by=\"N\",inplace=True,ignore_index=True)\n",
    "\n",
    "    # 无重复\n",
    "    data_i_df = data_i.drop_duplicates(inplace = False,ignore_index=True)\n",
    "    # New added: Rearrange the data according to their length\n",
    "    data_lenth = data_i_df.shape[0]         # Data length\n",
    "    dele_idx = []                           # Idx to be deleted\n",
    "\n",
    "    if(data_lenth >= 0):\n",
    "        j = 0\n",
    "        while (j < data_lenth):\n",
    "            # N值-1恰好是5倍\n",
    "            if((data_i_df.iloc[j,0]-1)%5 == 0):\n",
    "                k = j+1    # 用k记录位置\n",
    "                # k不是data最后一个值 and [k]在+5的范围内\n",
    "                while((k < data_lenth) and (data_i_df.iloc[j,0]+5 > data_i_df.iloc[k,0])):\n",
    "                    # 更新[j]的prob值和cnt值：叠加\n",
    "                    data_i_df.iloc[j,1] += data_i_df.iloc[k,1]\n",
    "                    data_i_df.iloc[j,2] += data_i_df.iloc[k,2]\n",
    "                    # 删除[k]\n",
    "                    dele_idx.append(k)\n",
    "                    k += 1\n",
    "                # j 从 k（其实是k+1）的位置继续\n",
    "                j = k\n",
    "            # N值不是5倍且未被并入任何一个已存在的开头\n",
    "            else:\n",
    "                # 原地修改（减小）成一个新的区间的开头,\n",
    "                while((data_i_df.iloc[j,0]-1) %5 != 0):\n",
    "                    data_i_df.iloc[j,0] -= 1\n",
    "                # 注意不需要j+1，下一次循环从当前开始，check后面的n需不需要并进来\n",
    "                # j += 1\n",
    "\n",
    "    ######### 如果只想保存改动的data，把下面都拿到上面的if里面来\n",
    "    # Save i_th training data file\n",
    "    # save_i_trainfile(i)\n",
    "    # Dele\n",
    "    data_i_df = data_i_df.drop(dele_idx,axis = 0).copy()\n",
    "\n",
    "    # Reconstruct and repeat data according to 'cnt_n_2'\n",
    "    data_i_df = data_i_df.loc[data_i_df.index.repeat(data_i_df['cnt_N'])]\n",
    "    data_i_df = data_i_df[['N','P']]\n",
    "\n",
    "    # Get the output path\n",
    "    target_output_path = target_output_head+str(i).zfill(4)+target_output_tail\n",
    "    data_i_df.to_csv(target_output_path,header=True,index=False,encoding=\"utf-8\")\n"
   ],
   "metadata": {
    "collapsed": false
   }
  },
  {
   "cell_type": "code",
   "execution_count": null,
   "outputs": [],
   "source": [],
   "metadata": {
    "collapsed": false
   }
  }
 ],
 "metadata": {
  "kernelspec": {
   "display_name": "Python 3",
   "language": "python",
   "name": "python3"
  },
  "language_info": {
   "codemirror_mode": {
    "name": "ipython",
    "version": 2
   },
   "file_extension": ".py",
   "mimetype": "text/x-python",
   "name": "python",
   "nbconvert_exporter": "python",
   "pygments_lexer": "ipython2",
   "version": "2.7.6"
  }
 },
 "nbformat": 4,
 "nbformat_minor": 0
}
