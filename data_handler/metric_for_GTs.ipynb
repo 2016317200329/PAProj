{
 "cells": [
  {
   "cell_type": "code",
   "execution_count": 10,
   "outputs": [],
   "source": [
    "%load_ext autoreload\n",
    "%reload_ext autoreload\n",
    "%autoreload 2"
   ],
   "metadata": {
    "collapsed": false
   }
  },
  {
   "cell_type": "markdown",
   "source": [
    "# 0. Intro\n",
    "1. 计算得到理论模型下对于target data的NLL值作为metric，方便对比\n",
    "2. 人工数据集需要4列：GT1, GT2(SA), GT2(common)+GT2(NN)\n",
    "3. 真实数据集需要4列：GT1, GT2(SA), GT2(common)+GT2(NN)\n",
    "4. 计算方法都是先计算前3列再计算最后一列\n",
    "# 1. Preparations\n",
    "## 1.1 global settings"
   ],
   "metadata": {
    "collapsed": false
   }
  },
  {
   "cell_type": "code",
   "execution_count": 27,
   "outputs": [],
   "source": [
    "import pandas as pd\n",
    "import numpy as np\n",
    "import math\n",
    "import random\n",
    "import os\n",
    "import pickle\n",
    "from matplotlib import pyplot as plt\n",
    "from tqdm import tqdm\n",
    "\n",
    "# For GT-2\n",
    "from GT_model.GT_2.SA_for_PT_funcs_delta_eq1 import *\n",
    "import GT_model.GT_2.SA_for_PT_funcs_delta_eq1\n",
    "# reload(GT_model.GT_2.SA_for_PT_funcs_delta_eq1)\n",
    "\n",
    "from metric_for_GTs_func import *\n"
   ],
   "metadata": {
    "collapsed": false
   }
  },
  {
   "cell_type": "markdown",
   "source": [
    "## 1.2 the data path\n"
   ],
   "metadata": {
    "collapsed": false
   }
  },
  {
   "cell_type": "code",
   "execution_count": 70,
   "outputs": [],
   "source": [
    "ARTIFICIAL = True\n",
    "noise_pct = 0.05           # 噪音占比:我们希望生成的data总体上最多浮动的百分比noise_pct\n",
    "seed = 407            # [3,31,204,223,407]# 计算alpha和lambda的来源：NN的infer结果，还是来自csv的结果\n",
    "\n",
    "# Target data\n",
    "if ARTIFICIAL:\n",
    "        target_path = \"../data/artificial_targets_v2_\" + \"noise=\" + str(noise_pct)\n",
    "else:\n",
    "        target_path = r\"../data/targets_all\"\n",
    "\n",
    "# Input: GT-2 params\n",
    "if ARTIFICIAL:\n",
    "        # GT-2 NN 产生的params\n",
    "        params_opitim_path_NN = r\"../data/SA_PT/params_artificial_v2_noise=\" + str(noise_pct)+\"_seed=\" + str(seed) + \".csv\"\n",
    "        # SA 的 params\n",
    "        params_opitim_path_SA = \"../data/SA_PT/params_opitim_artificial_v2_noise_\"+str(noise_pct)+\".csv\"\n",
    "else:\n",
    "        # GT-2 NN 产生的params\n",
    "        params_opitim_path_NN = r\"../data/SA_PT/params_seed=\" + str(seed) + \".csv\"\n",
    "        # SA 的 params\n",
    "        params_opitim_path_SA = \"../data/SA_PT/params_opitim_delta_T.csv\"\n",
    "\n",
    "# target data是target_5时 TARGET = 5\n",
    "TARGET = 1\n",
    "\n",
    "# Small dataset\n",
    "small_settings_NN_path = r\"../data/small_settings_NN.csv\"\n",
    "# Large data\n",
    "large_settings_NN_path = r'E:\\DATA\\large_dta\\large_settings_NN.csv'\n",
    "\n",
    "# Output path\n",
    "# 3 col and 4 col\n",
    "if ARTIFICIAL:\n",
    "        NLL_metric_path_1  = r\"../data/GT_metric/NLL_metric_GT_Tgt=1_e30_artificial_v_2_noise=\"+str(noise_pct)+\".csv\"\n",
    "        NLL_metric_path_2  =\"../data/GT_metric/NLL_metric_GT_Tgt=1_e30_all_\"+\"artificial_targets_v2_\" + \"noise=\" + str(noise_pct)+\"_seed=\"+str(seed)+\".csv\"\n",
    "else:\n",
    "        NLL_metric_path_1  =\"../data/GT_metric/NLL_metric_GT_Tgt=1_e30.csv\"\n",
    "        # 添加的这一列和seed有关！\n",
    "        NLL_metric_path_2  =\"../data/GT_metric/NLL_metric_GT_Tgt=1_e30_seed=\"+str(seed)+\".csv\"\n",
    "\n",
    "col_names = ['GT1', 'GT2(common)','GT2(SA)']\n",
    "col_names_NN = ['GT2(NN)']\n",
    "\n",
    "# For GT-2\n",
    "alpha = -0.013581112\n",
    "delta = 1\n",
    "labda = 3.312402533\n",
    "\n",
    "MIN_LOSS = 1e-30\n"
   ],
   "metadata": {
    "collapsed": false
   }
  },
  {
   "cell_type": "markdown",
   "source": [
    "## 1.3 Read in"
   ],
   "metadata": {
    "collapsed": false
   }
  },
  {
   "cell_type": "code",
   "execution_count": 71,
   "outputs": [
    {
     "name": "stdout",
     "output_type": "stream",
     "text": [
      "小数据集有 *1196* 场auction，大数据集有 *80* 场auction，一共*1276*\n"
     ]
    }
   ],
   "source": [
    "data_key_small = pd.read_csv(small_settings_NN_path,encoding=\"utf-8\")\n",
    "data_key_large = pd.read_csv(large_settings_NN_path,encoding=\"utf-8\")\n",
    "\n",
    "# target_path里有全部的target data地址\n",
    "target_all_path = os.listdir(target_path)\n",
    "\n",
    "# params_opitim_delta= pd.read_csv(params_opitim_delta_path,encoding=\"utf-8\")\n",
    "params_opitim_SA = pd.read_csv(params_opitim_path_SA,encoding=\"utf-8\")\n",
    "\n",
    "len_small = data_key_small.shape[0]\n",
    "len_large = data_key_large.shape[0]\n",
    "len_all = len(target_all_path)\n",
    "print(f\"小数据集有 *{len_small}* 场auction，大数据集有 *{len_large}* 场auction，一共*{len_all}*\")\n"
   ],
   "metadata": {
    "collapsed": false
   }
  },
  {
   "cell_type": "code",
   "execution_count": 49,
   "outputs": [
    {
     "data": {
      "text/plain": "                                              desc  bidincrement  bidfee  \\\n0                                  20 BIDS VOUCHER          0.01    0.01   \n1                                  20 BIDS VOUCHER          0.01    0.01   \n2                                  50 BIDS VOUCHER          0.01    0.01   \n3                             50 FREEBIDS VOUCHER!          0.01    0.01   \n4  CLATRONIC PM 2658 HOT AIR POPCORN MAKER (WHITE)          0.01    0.01   \n\n   retail  flg_endprice  \n0    14.0             0  \n1    15.0             0  \n2    35.0             0  \n3    35.0             0  \n4    35.0             0  ",
      "text/html": "<div>\n<style scoped>\n    .dataframe tbody tr th:only-of-type {\n        vertical-align: middle;\n    }\n\n    .dataframe tbody tr th {\n        vertical-align: top;\n    }\n\n    .dataframe thead th {\n        text-align: right;\n    }\n</style>\n<table border=\"1\" class=\"dataframe\">\n  <thead>\n    <tr style=\"text-align: right;\">\n      <th></th>\n      <th>desc</th>\n      <th>bidincrement</th>\n      <th>bidfee</th>\n      <th>retail</th>\n      <th>flg_endprice</th>\n    </tr>\n  </thead>\n  <tbody>\n    <tr>\n      <th>0</th>\n      <td>20 BIDS VOUCHER</td>\n      <td>0.01</td>\n      <td>0.01</td>\n      <td>14.0</td>\n      <td>0</td>\n    </tr>\n    <tr>\n      <th>1</th>\n      <td>20 BIDS VOUCHER</td>\n      <td>0.01</td>\n      <td>0.01</td>\n      <td>15.0</td>\n      <td>0</td>\n    </tr>\n    <tr>\n      <th>2</th>\n      <td>50 BIDS VOUCHER</td>\n      <td>0.01</td>\n      <td>0.01</td>\n      <td>35.0</td>\n      <td>0</td>\n    </tr>\n    <tr>\n      <th>3</th>\n      <td>50 FREEBIDS VOUCHER!</td>\n      <td>0.01</td>\n      <td>0.01</td>\n      <td>35.0</td>\n      <td>0</td>\n    </tr>\n    <tr>\n      <th>4</th>\n      <td>CLATRONIC PM 2658 HOT AIR POPCORN MAKER (WHITE)</td>\n      <td>0.01</td>\n      <td>0.01</td>\n      <td>35.0</td>\n      <td>0</td>\n    </tr>\n  </tbody>\n</table>\n</div>"
     },
     "execution_count": 49,
     "metadata": {},
     "output_type": "execute_result"
    }
   ],
   "source": [
    "data_key_large.head()"
   ],
   "metadata": {
    "collapsed": false
   }
  },
  {
   "cell_type": "markdown",
   "source": [
    "# 2. Compute the NLL\n",
    "## 2.1 先算前3列\n",
    "1. 注意真实数据集只跑一次就够了"
   ],
   "metadata": {
    "collapsed": false
   }
  },
  {
   "cell_type": "code",
   "execution_count": 50,
   "outputs": [
    {
     "data": {
      "text/plain": "   key_idx     alpha  delta     labda  initial_loss   final_loss  avg_loss\n0        0  0.061227      1  4.007592   1048.245937   971.189029  3.034966\n1        1  0.047061      1  7.664214    939.993322   804.370159  2.654687\n2        2  0.080019      1  4.080966   1710.033256  1506.151280  2.789169\n3        3  0.097774      1  5.198637    737.680055   589.685310  2.330772\n4        4  0.021540      1  7.627588   1086.205018  1041.966627  3.020193",
      "text/html": "<div>\n<style scoped>\n    .dataframe tbody tr th:only-of-type {\n        vertical-align: middle;\n    }\n\n    .dataframe tbody tr th {\n        vertical-align: top;\n    }\n\n    .dataframe thead th {\n        text-align: right;\n    }\n</style>\n<table border=\"1\" class=\"dataframe\">\n  <thead>\n    <tr style=\"text-align: right;\">\n      <th></th>\n      <th>key_idx</th>\n      <th>alpha</th>\n      <th>delta</th>\n      <th>labda</th>\n      <th>initial_loss</th>\n      <th>final_loss</th>\n      <th>avg_loss</th>\n    </tr>\n  </thead>\n  <tbody>\n    <tr>\n      <th>0</th>\n      <td>0</td>\n      <td>0.061227</td>\n      <td>1</td>\n      <td>4.007592</td>\n      <td>1048.245937</td>\n      <td>971.189029</td>\n      <td>3.034966</td>\n    </tr>\n    <tr>\n      <th>1</th>\n      <td>1</td>\n      <td>0.047061</td>\n      <td>1</td>\n      <td>7.664214</td>\n      <td>939.993322</td>\n      <td>804.370159</td>\n      <td>2.654687</td>\n    </tr>\n    <tr>\n      <th>2</th>\n      <td>2</td>\n      <td>0.080019</td>\n      <td>1</td>\n      <td>4.080966</td>\n      <td>1710.033256</td>\n      <td>1506.151280</td>\n      <td>2.789169</td>\n    </tr>\n    <tr>\n      <th>3</th>\n      <td>3</td>\n      <td>0.097774</td>\n      <td>1</td>\n      <td>5.198637</td>\n      <td>737.680055</td>\n      <td>589.685310</td>\n      <td>2.330772</td>\n    </tr>\n    <tr>\n      <th>4</th>\n      <td>4</td>\n      <td>0.021540</td>\n      <td>1</td>\n      <td>7.627588</td>\n      <td>1086.205018</td>\n      <td>1041.966627</td>\n      <td>3.020193</td>\n    </tr>\n  </tbody>\n</table>\n</div>"
     },
     "execution_count": 50,
     "metadata": {},
     "output_type": "execute_result"
    }
   ],
   "source": [
    "params_opitim_SA.head()"
   ],
   "metadata": {
    "collapsed": false
   }
  },
  {
   "cell_type": "code",
   "execution_count": 51,
   "outputs": [
    {
     "name": "stderr",
     "output_type": "stream",
     "text": [
      "100%|██████████| 1276/1276 [14:31<00:00,  1.46it/s]\n"
     ]
    }
   ],
   "source": [
    "NLL_metric = np.array([0]*len(target_all_path)*3).reshape(-1,3)\n",
    "NLL_metric_pd = pd.DataFrame(NLL_metric,columns=col_names)\n",
    "\n",
    "for i in tqdm(range(len_all)):\n",
    "# for i in range(10):\n",
    "        # Get target data\n",
    "        target_path_i_path = os.path.join(target_path, target_all_path[i])\n",
    "        target_df = pd.read_csv(target_path_i_path,encoding=\"utf-8\")\n",
    "        target = list(target_df.iloc[:,0])\n",
    "        idx = 0\n",
    "        # Get the auction setting\n",
    "        if i < len_small:\n",
    "                idx = i\n",
    "                settings_df = data_key_small.iloc[idx,:]\n",
    "        else:\n",
    "                idx = i-len_small\n",
    "                settings_df = data_key_large.iloc[idx,:]\n",
    "        # Compute the NLL value of each GT models\n",
    "        NLL_metric_pd.iloc[i,0] = GT_1(settings_df,target)\n",
    "        # GT-2: common\n",
    "        NLL_metric_pd.iloc[i,1] = GT_2(settings_df,target)\n",
    "\n",
    "        # GT-2: SA\n",
    "        alpha_i = params_opitim_SA.loc[i,'alpha'].item()\n",
    "        labda_i = params_opitim_SA.loc[i,'labda'].item()\n",
    "        NLL_metric_pd.iloc[i,2] = GT_2_uniq(settings_df,target,alpha_i,labda_i)"
   ],
   "metadata": {
    "collapsed": false
   }
  },
  {
   "cell_type": "code",
   "execution_count": 53,
   "outputs": [
    {
     "data": {
      "text/plain": "'../data/GT_metric/NLL_metric_GT_Tgt=1_e30_artificial_v_2_noise=0.05.csv'"
     },
     "execution_count": 53,
     "metadata": {},
     "output_type": "execute_result"
    }
   ],
   "source": [
    "NLL_metric_path_1"
   ],
   "metadata": {
    "collapsed": false
   }
  },
  {
   "cell_type": "code",
   "execution_count": 54,
   "outputs": [
    {
     "data": {
      "text/plain": "        GT1  GT2(common)   GT2(SA)\n0  6.510921    10.116069  3.034966\n1  5.440194     5.569359  2.654687\n2  6.002648     7.397694  2.789169\n3  4.807790     4.285982  2.330772\n4  4.454099     3.796559  3.020193",
      "text/html": "<div>\n<style scoped>\n    .dataframe tbody tr th:only-of-type {\n        vertical-align: middle;\n    }\n\n    .dataframe tbody tr th {\n        vertical-align: top;\n    }\n\n    .dataframe thead th {\n        text-align: right;\n    }\n</style>\n<table border=\"1\" class=\"dataframe\">\n  <thead>\n    <tr style=\"text-align: right;\">\n      <th></th>\n      <th>GT1</th>\n      <th>GT2(common)</th>\n      <th>GT2(SA)</th>\n    </tr>\n  </thead>\n  <tbody>\n    <tr>\n      <th>0</th>\n      <td>6.510921</td>\n      <td>10.116069</td>\n      <td>3.034966</td>\n    </tr>\n    <tr>\n      <th>1</th>\n      <td>5.440194</td>\n      <td>5.569359</td>\n      <td>2.654687</td>\n    </tr>\n    <tr>\n      <th>2</th>\n      <td>6.002648</td>\n      <td>7.397694</td>\n      <td>2.789169</td>\n    </tr>\n    <tr>\n      <th>3</th>\n      <td>4.807790</td>\n      <td>4.285982</td>\n      <td>2.330772</td>\n    </tr>\n    <tr>\n      <th>4</th>\n      <td>4.454099</td>\n      <td>3.796559</td>\n      <td>3.020193</td>\n    </tr>\n  </tbody>\n</table>\n</div>"
     },
     "execution_count": 54,
     "metadata": {},
     "output_type": "execute_result"
    }
   ],
   "source": [
    "NLL_metric_pd.to_csv(NLL_metric_path_1,encoding=\"utf-8\",header=True,index=False)\n",
    "NLL_metric_pd.head()"
   ],
   "metadata": {
    "collapsed": false
   }
  },
  {
   "cell_type": "code",
   "execution_count": 39,
   "outputs": [
    {
     "data": {
      "text/plain": "GT1            6.142750\nGT2(common)    7.320263\nGT2(SA)        6.417691\ndtype: float64"
     },
     "execution_count": 39,
     "metadata": {},
     "output_type": "execute_result"
    }
   ],
   "source": [
    "NLL_metric_pd.mean()"
   ],
   "metadata": {
    "collapsed": false
   }
  },
  {
   "cell_type": "markdown",
   "source": [
    "## 2.2 根据random seed计算部分metric [optional]"
   ],
   "metadata": {
    "collapsed": false
   }
  },
  {
   "cell_type": "code",
   "execution_count": 55,
   "outputs": [
    {
     "data": {
      "text/plain": "        GT1  GT2(common)   GT2(SA)\n0  6.510921    10.116069  3.034966\n1  5.440194     5.569359  2.654687\n2  6.002648     7.397694  2.789169\n3  4.807790     4.285982  2.330772\n4  4.454099     3.796559  3.020193",
      "text/html": "<div>\n<style scoped>\n    .dataframe tbody tr th:only-of-type {\n        vertical-align: middle;\n    }\n\n    .dataframe tbody tr th {\n        vertical-align: top;\n    }\n\n    .dataframe thead th {\n        text-align: right;\n    }\n</style>\n<table border=\"1\" class=\"dataframe\">\n  <thead>\n    <tr style=\"text-align: right;\">\n      <th></th>\n      <th>GT1</th>\n      <th>GT2(common)</th>\n      <th>GT2(SA)</th>\n    </tr>\n  </thead>\n  <tbody>\n    <tr>\n      <th>0</th>\n      <td>6.510921</td>\n      <td>10.116069</td>\n      <td>3.034966</td>\n    </tr>\n    <tr>\n      <th>1</th>\n      <td>5.440194</td>\n      <td>5.569359</td>\n      <td>2.654687</td>\n    </tr>\n    <tr>\n      <th>2</th>\n      <td>6.002648</td>\n      <td>7.397694</td>\n      <td>2.789169</td>\n    </tr>\n    <tr>\n      <th>3</th>\n      <td>4.807790</td>\n      <td>4.285982</td>\n      <td>2.330772</td>\n    </tr>\n    <tr>\n      <th>4</th>\n      <td>4.454099</td>\n      <td>3.796559</td>\n      <td>3.020193</td>\n    </tr>\n  </tbody>\n</table>\n</div>"
     },
     "execution_count": 55,
     "metadata": {},
     "output_type": "execute_result"
    }
   ],
   "source": [
    "NLL_metric_all = pd.read_csv(NLL_metric_path_1,encoding=\"utf-8\")\n",
    "NLL_metric_all.head()"
   ],
   "metadata": {
    "collapsed": false
   }
  },
  {
   "cell_type": "code",
   "execution_count": 56,
   "outputs": [],
   "source": [
    "\n",
    "def setup_seed(seed):\n",
    "        \"\"\"\n",
    "        Set seed\n",
    "        Args:\n",
    "        seed:\n",
    "        \"\"\"\n",
    "        torch.manual_seed(seed)\n",
    "        torch.cuda.manual_seed_all(seed)\n",
    "        np.random.seed(seed)\n",
    "        random.seed(seed)\n",
    "        torch.backends.cudnn.deterministic = True\n",
    "\n",
    "train_pct = 0.7\n",
    "vali_pct = 0.2\n",
    "test_pct = 0.1\n",
    "\n",
    "def seed2_test_idx(seed):\n",
    "\n",
    "        setup_seed(seed)\n",
    "\n",
    "        shuffled_indices = np.random.permutation(len_all)\n",
    "        train_idx = shuffled_indices[:int(train_pct * len_all)]\n",
    "        tmp = int((train_pct + vali_pct) * len_all)\n",
    "        val_idx = shuffled_indices[int(train_pct * len_all):tmp]\n",
    "        test_idx = shuffled_indices[tmp:]\n",
    "\n",
    "        return test_idx"
   ],
   "metadata": {
    "collapsed": false
   }
  },
  {
   "cell_type": "markdown",
   "source": [
    "- 只取test set上的metric做比较"
   ],
   "metadata": {
    "collapsed": false
   }
  },
  {
   "cell_type": "code",
   "execution_count": 57,
   "outputs": [
    {
     "data": {
      "text/plain": "                   0         1         2         3         4         5   \\\nGT1          5.883374  5.666227  6.202299  6.127058  6.182548  6.147268   \nGT2(common)  6.819498  6.354654  7.277116  7.275202  7.305540  7.374980   \nGT2(SA)      5.978948  5.874476  6.500927  6.406702  6.711144  6.917933   \n\n                   6         7         8         9         10        11  \\\nGT1          5.968057  6.175018  6.380398  6.093821  5.905741  5.841440   \nGT2(common)  7.075862  7.413813  7.841595  7.416052  7.204366  6.764744   \nGT2(SA)      6.258685  6.760955  7.354463  6.330880  6.198600  5.849018   \n\n                   12        13        14        15        16        17  \\\nGT1          6.185187  5.738962  5.930806  5.989298  5.804795  6.281691   \nGT2(common)  7.356624  6.548365  7.514830  6.860478  6.847741  7.955465   \nGT2(SA)      6.512822  5.717968  6.748747  6.102427  5.843371  7.259156   \n\n                   18        19  \nGT1          5.813772  6.032700  \nGT2(common)  6.567041  7.341943  \nGT2(SA)      5.802198  6.721192  ",
      "text/html": "<div>\n<style scoped>\n    .dataframe tbody tr th:only-of-type {\n        vertical-align: middle;\n    }\n\n    .dataframe tbody tr th {\n        vertical-align: top;\n    }\n\n    .dataframe thead th {\n        text-align: right;\n    }\n</style>\n<table border=\"1\" class=\"dataframe\">\n  <thead>\n    <tr style=\"text-align: right;\">\n      <th></th>\n      <th>0</th>\n      <th>1</th>\n      <th>2</th>\n      <th>3</th>\n      <th>4</th>\n      <th>5</th>\n      <th>6</th>\n      <th>7</th>\n      <th>8</th>\n      <th>9</th>\n      <th>10</th>\n      <th>11</th>\n      <th>12</th>\n      <th>13</th>\n      <th>14</th>\n      <th>15</th>\n      <th>16</th>\n      <th>17</th>\n      <th>18</th>\n      <th>19</th>\n    </tr>\n  </thead>\n  <tbody>\n    <tr>\n      <th>GT1</th>\n      <td>5.883374</td>\n      <td>5.666227</td>\n      <td>6.202299</td>\n      <td>6.127058</td>\n      <td>6.182548</td>\n      <td>6.147268</td>\n      <td>5.968057</td>\n      <td>6.175018</td>\n      <td>6.380398</td>\n      <td>6.093821</td>\n      <td>5.905741</td>\n      <td>5.841440</td>\n      <td>6.185187</td>\n      <td>5.738962</td>\n      <td>5.930806</td>\n      <td>5.989298</td>\n      <td>5.804795</td>\n      <td>6.281691</td>\n      <td>5.813772</td>\n      <td>6.032700</td>\n    </tr>\n    <tr>\n      <th>GT2(common)</th>\n      <td>6.819498</td>\n      <td>6.354654</td>\n      <td>7.277116</td>\n      <td>7.275202</td>\n      <td>7.305540</td>\n      <td>7.374980</td>\n      <td>7.075862</td>\n      <td>7.413813</td>\n      <td>7.841595</td>\n      <td>7.416052</td>\n      <td>7.204366</td>\n      <td>6.764744</td>\n      <td>7.356624</td>\n      <td>6.548365</td>\n      <td>7.514830</td>\n      <td>6.860478</td>\n      <td>6.847741</td>\n      <td>7.955465</td>\n      <td>6.567041</td>\n      <td>7.341943</td>\n    </tr>\n    <tr>\n      <th>GT2(SA)</th>\n      <td>5.978948</td>\n      <td>5.874476</td>\n      <td>6.500927</td>\n      <td>6.406702</td>\n      <td>6.711144</td>\n      <td>6.917933</td>\n      <td>6.258685</td>\n      <td>6.760955</td>\n      <td>7.354463</td>\n      <td>6.330880</td>\n      <td>6.198600</td>\n      <td>5.849018</td>\n      <td>6.512822</td>\n      <td>5.717968</td>\n      <td>6.748747</td>\n      <td>6.102427</td>\n      <td>5.843371</td>\n      <td>7.259156</td>\n      <td>5.802198</td>\n      <td>6.721192</td>\n    </tr>\n  </tbody>\n</table>\n</div>"
     },
     "execution_count": 57,
     "metadata": {},
     "output_type": "execute_result"
    }
   ],
   "source": [
    "NLL_metric_test_pd = pd.DataFrame()\n",
    "for i in range(400,420):\n",
    "        test_idx = seed2_test_idx(i)\n",
    "        NLL_metric_test = NLL_metric_all.iloc[test_idx,:].mean()\n",
    "        NLL_metric_test.columns = [str(i)]\n",
    "        NLL_metric_test_pd = pd.concat([NLL_metric_test_pd,NLL_metric_test],axis=1,ignore_index=True)\n",
    "NLL_metric_test_pd"
   ],
   "metadata": {
    "collapsed": false
   }
  },
  {
   "cell_type": "markdown",
   "source": [
    "## 2.3 再算NN这一列\n",
    "1. 节省时间，可以直接算这一列，然后和上面的拼接\n",
    "2. random seed不影响上面的值"
   ],
   "metadata": {
    "collapsed": false
   }
  },
  {
   "cell_type": "code",
   "execution_count": 33,
   "outputs": [
    {
     "data": {
      "text/plain": "'../data/SA_PT/params_artificial_v2_noise=0.05_seed=31.csv'"
     },
     "execution_count": 33,
     "metadata": {},
     "output_type": "execute_result"
    }
   ],
   "source": [
    "params_opitim_NN = pd.read_csv(params_opitim_path_NN,encoding=\"utf-8\")\n",
    "NLL_metric_all = pd.read_csv(NLL_metric_path_1,encoding=\"utf-8\")\n",
    "params_opitim_path_NN"
   ],
   "metadata": {
    "collapsed": false
   }
  },
  {
   "cell_type": "code",
   "execution_count": 34,
   "outputs": [
    {
     "name": "stderr",
     "output_type": "stream",
     "text": [
      "100%|██████████| 1276/1276 [04:15<00:00,  5.00it/s]\n"
     ]
    }
   ],
   "source": [
    "NLL_metric_NN = np.array([0]*len(target_all_path)*1).reshape(-1,1)\n",
    "NLL_metric_NN_pd = pd.DataFrame(NLL_metric_NN,columns=col_names_NN)\n",
    "\n",
    "for i in tqdm(range(len_all)):\n",
    "# for i in range(10):\n",
    "        # Get target data\n",
    "        target_path_i_path = os.path.join(target_path, target_all_path[i])\n",
    "        target_df = pd.read_csv(target_path_i_path,encoding=\"utf-8\")\n",
    "        target = list(target_df.iloc[:,0])\n",
    "        idx = 0\n",
    "        # Get the auction setting\n",
    "        if i < len_small:\n",
    "                idx = i\n",
    "                settings_df = data_key_small.iloc[idx,:]\n",
    "        else:\n",
    "                idx = i-len_small\n",
    "                settings_df = data_key_large.iloc[idx,:]\n",
    "\n",
    "        # GT-2: NN\n",
    "        alpha_i = params_opitim_NN.loc[i,'alpha'].item()\n",
    "        labda_i = params_opitim_NN.loc[i,'labda'].item()\n",
    "        NLL_metric_NN_pd.iloc[i,0] = GT_2_uniq(settings_df,target,alpha_i,labda_i)"
   ],
   "metadata": {
    "collapsed": false
   }
  },
  {
   "cell_type": "markdown",
   "source": [
    "- 合并两个表"
   ],
   "metadata": {
    "collapsed": false
   }
  },
  {
   "cell_type": "code",
   "execution_count": 35,
   "outputs": [
    {
     "data": {
      "text/plain": "        GT1  GT2(common)   GT2(SA)   GT2(NN)\n0  6.511353    10.113840  3.105446  3.429143\n1  5.440389     5.569214  2.680497  2.793203\n2  6.002874     7.397112  2.815074  2.992014\n3  4.812571     4.294273  2.377858  2.514237\n4  4.463451     3.819465  3.140084  3.087075",
      "text/html": "<div>\n<style scoped>\n    .dataframe tbody tr th:only-of-type {\n        vertical-align: middle;\n    }\n\n    .dataframe tbody tr th {\n        vertical-align: top;\n    }\n\n    .dataframe thead th {\n        text-align: right;\n    }\n</style>\n<table border=\"1\" class=\"dataframe\">\n  <thead>\n    <tr style=\"text-align: right;\">\n      <th></th>\n      <th>GT1</th>\n      <th>GT2(common)</th>\n      <th>GT2(SA)</th>\n      <th>GT2(NN)</th>\n    </tr>\n  </thead>\n  <tbody>\n    <tr>\n      <th>0</th>\n      <td>6.511353</td>\n      <td>10.113840</td>\n      <td>3.105446</td>\n      <td>3.429143</td>\n    </tr>\n    <tr>\n      <th>1</th>\n      <td>5.440389</td>\n      <td>5.569214</td>\n      <td>2.680497</td>\n      <td>2.793203</td>\n    </tr>\n    <tr>\n      <th>2</th>\n      <td>6.002874</td>\n      <td>7.397112</td>\n      <td>2.815074</td>\n      <td>2.992014</td>\n    </tr>\n    <tr>\n      <th>3</th>\n      <td>4.812571</td>\n      <td>4.294273</td>\n      <td>2.377858</td>\n      <td>2.514237</td>\n    </tr>\n    <tr>\n      <th>4</th>\n      <td>4.463451</td>\n      <td>3.819465</td>\n      <td>3.140084</td>\n      <td>3.087075</td>\n    </tr>\n  </tbody>\n</table>\n</div>"
     },
     "execution_count": 35,
     "metadata": {},
     "output_type": "execute_result"
    }
   ],
   "source": [
    "NLL_metric_all[col_names_NN[0]] = NLL_metric_NN_pd.iloc[:,0]\n",
    "NLL_metric_all.head()"
   ],
   "metadata": {
    "collapsed": false
   }
  },
  {
   "cell_type": "code",
   "execution_count": 36,
   "outputs": [
    {
     "data": {
      "text/plain": "GT1            6.142750\nGT2(common)    7.320263\nGT2(SA)        6.417691\nGT2(NN)        5.378669\ndtype: float64"
     },
     "execution_count": 36,
     "metadata": {},
     "output_type": "execute_result"
    }
   ],
   "source": [
    "NLL_metric_all.mean()"
   ],
   "metadata": {
    "collapsed": false
   }
  },
  {
   "cell_type": "code",
   "execution_count": 37,
   "outputs": [
    {
     "data": {
      "text/plain": "'../data/GT_metric/NLL_metric_GT_Tgt=1_e30_all_artificial_targets_v2_noise=0.05_seed=31.csv'"
     },
     "execution_count": 37,
     "metadata": {},
     "output_type": "execute_result"
    }
   ],
   "source": [
    "NLL_metric_path_2"
   ],
   "metadata": {
    "collapsed": false
   }
  },
  {
   "cell_type": "code",
   "execution_count": 38,
   "outputs": [],
   "source": [
    "NLL_metric_all.to_csv(NLL_metric_path_2,encoding=\"utf-8\",header=True,index=False)"
   ],
   "metadata": {
    "collapsed": false
   }
  },
  {
   "cell_type": "code",
   "execution_count": 72,
   "outputs": [],
   "source": [
    "# NLL_metric_all = pd.read_csv(NLL_metric_path_1,encoding=\"utf-8\")\n",
    "# NLL_metric_NN_pd = pd.read_csv(NLL_metric_path_2,encoding=\"utf-8\")\n",
    "# NLL_metric_all[col_names_NN[0]] = NLL_metric_NN_pd.iloc[:,0]\n",
    "# NLL_metric_all.head()\n",
    "# NLL_metric_all.to_csv(NLL_metric_path_2,encoding=\"utf-8\",header=True,index=False)"
   ],
   "metadata": {
    "collapsed": false
   }
  },
  {
   "cell_type": "markdown",
   "source": [
    "# 5. 分析"
   ],
   "metadata": {
    "collapsed": false
   }
  },
  {
   "cell_type": "code",
   "execution_count": 111,
   "outputs": [
    {
     "data": {
      "text/plain": "nll1    6.844739\nnll2    8.006883\nnll3    6.762404\ndtype: float64"
     },
     "execution_count": 111,
     "metadata": {},
     "output_type": "execute_result"
    }
   ],
   "source": [
    "# 提取training set上的metric\n",
    "def save_data_idx(LEN):\n",
    "        \"\"\"\n",
    "        因为objective function会被执行很多次，所以这里先保存一下idx，使得所有objective在同一组dataset上进行。\n",
    "        然后在tuning时，会在shuffle_time组不同的dataset split上进行，用以取平均\n",
    "        Args:\n",
    "        dataset:\n",
    "        opt:\n",
    "        shuffle_time: The num of list of index to be generated.\n",
    "        \"\"\"\n",
    "        shuffled_indices = np.random.permutation(LEN)\n",
    "\n",
    "        return shuffled_indices\n",
    "\n",
    "def get_data_idx(shuffled_indices):\n",
    "        \"\"\"\n",
    "        To get data split idx according to shuffled 'shuffled_indices'\n",
    "        Args:\n",
    "        shuffled_indices:\n",
    "        opt:\n",
    "\n",
    "        Returns:\n",
    "        \"\"\"\n",
    "\n",
    "        DATA_len = len(shuffled_indices)\n",
    "\n",
    "        train_idx = shuffled_indices[:int(0.7 * DATA_len)]\n",
    "        tmp = int((0.7 + 0.2) * DATA_len)\n",
    "        val_idx = shuffled_indices[int(0.7 * DATA_len):tmp]\n",
    "        test_idx = shuffled_indices[tmp:]\n",
    "\n",
    "        return train_idx,val_idx,test_idx\n",
    "\n",
    "shuffled_indices = save_data_idx(len_all)\n",
    "train_idx,val_idx,test_idx = get_data_idx(shuffled_indices)\n",
    "\n",
    "# 计算train_idx的metric\n",
    "NLL_train = NLL_metric_pd.iloc[train_idx,:]\n",
    "NLL_train.mean()"
   ],
   "metadata": {
    "collapsed": false
   }
  },
  {
   "cell_type": "code",
   "execution_count": 19,
   "outputs": [
    {
     "data": {
      "text/plain": "        nll1       nll2       nll3   diff_1_3  diff_1_2\n0   7.274325   8.422152  59.208116 -51.933791 -1.147827\n1   5.895485   6.095491  10.023283  -4.127798 -0.200006\n2   7.044588   7.095199  10.661947  -3.617359 -0.050611\n3  57.089958  58.632186  69.077553 -11.987595 -1.542229\n4   5.480635   5.635930   6.708339  -1.227704 -0.155295",
      "text/html": "<div>\n<style scoped>\n    .dataframe tbody tr th:only-of-type {\n        vertical-align: middle;\n    }\n\n    .dataframe tbody tr th {\n        vertical-align: top;\n    }\n\n    .dataframe thead th {\n        text-align: right;\n    }\n</style>\n<table border=\"1\" class=\"dataframe\">\n  <thead>\n    <tr style=\"text-align: right;\">\n      <th></th>\n      <th>nll1</th>\n      <th>nll2</th>\n      <th>nll3</th>\n      <th>diff_1_3</th>\n      <th>diff_1_2</th>\n    </tr>\n  </thead>\n  <tbody>\n    <tr>\n      <th>0</th>\n      <td>7.274325</td>\n      <td>8.422152</td>\n      <td>59.208116</td>\n      <td>-51.933791</td>\n      <td>-1.147827</td>\n    </tr>\n    <tr>\n      <th>1</th>\n      <td>5.895485</td>\n      <td>6.095491</td>\n      <td>10.023283</td>\n      <td>-4.127798</td>\n      <td>-0.200006</td>\n    </tr>\n    <tr>\n      <th>2</th>\n      <td>7.044588</td>\n      <td>7.095199</td>\n      <td>10.661947</td>\n      <td>-3.617359</td>\n      <td>-0.050611</td>\n    </tr>\n    <tr>\n      <th>3</th>\n      <td>57.089958</td>\n      <td>58.632186</td>\n      <td>69.077553</td>\n      <td>-11.987595</td>\n      <td>-1.542229</td>\n    </tr>\n    <tr>\n      <th>4</th>\n      <td>5.480635</td>\n      <td>5.635930</td>\n      <td>6.708339</td>\n      <td>-1.227704</td>\n      <td>-0.155295</td>\n    </tr>\n  </tbody>\n</table>\n</div>"
     },
     "execution_count": 19,
     "metadata": {},
     "output_type": "execute_result"
    }
   ],
   "source": [
    "NLL_metric_pd = pd.read_csv(NLL_metric_path,encoding=\"utf-8\")\n",
    "NLL_metric_pd.head()"
   ],
   "metadata": {
    "collapsed": false
   }
  },
  {
   "cell_type": "code",
   "execution_count": 153,
   "outputs": [
    {
     "data": {
      "text/plain": "nll1        6.053707\nnll2        7.311598\nnll3        6.018353\ndiff_1_3    0.035354\ndiff_1_2   -1.257891\ndtype: float64"
     },
     "execution_count": 153,
     "metadata": {},
     "output_type": "execute_result"
    }
   ],
   "source": [
    "NLL_metric_pd.mean()"
   ],
   "metadata": {
    "collapsed": false
   }
  },
  {
   "cell_type": "code",
   "execution_count": 151,
   "outputs": [
    {
     "name": "stdout",
     "output_type": "stream",
     "text": [
      "GT-1 优于 GT-2(uniq params) 的次数：651\n"
     ]
    }
   ],
   "source": [
    "NLL_metric_pd['diff_1_3'] = NLL_metric_pd.nll1 - NLL_metric_pd.nll3\n",
    "print(f\"GT-1 优于 GT-2(uniq params) 的次数：{len(NLL_metric_pd[NLL_metric_pd.diff_1_3<0])}\")\n"
   ],
   "metadata": {
    "collapsed": false
   }
  },
  {
   "cell_type": "code",
   "execution_count": 152,
   "outputs": [
    {
     "name": "stdout",
     "output_type": "stream",
     "text": [
      "GT-1 优于 GT-2(common params) 的次数：810\n"
     ]
    }
   ],
   "source": [
    "NLL_metric_pd['diff_1_2'] = NLL_metric_pd.nll1-NLL_metric_pd.nll2\n",
    "print(f\"GT-1 优于 GT-2(common params) 的次数：{len(NLL_metric_pd[NLL_metric_pd.diff_1_2<0])}\")\n"
   ],
   "metadata": {
    "collapsed": false
   }
  },
  {
   "cell_type": "markdown",
   "source": [
    "- 取出GT-2(uniq params)表现较好的index"
   ],
   "metadata": {
    "collapsed": false
   }
  },
  {
   "cell_type": "code",
   "execution_count": 46,
   "outputs": [],
   "source": [
    "idx_GT2_better = NLL_metric_pd.loc[NLL_metric_pd.diff_1_3>0].index.tolist()\n",
    "\n",
    "# Save the object to a file using pickle\n",
    "with open('idx_GT2_better.pickle', 'wb') as f:\n",
    "        pickle.dump(idx_GT2_better, f)"
   ],
   "metadata": {
    "collapsed": false
   }
  },
  {
   "cell_type": "code",
   "execution_count": 38,
   "outputs": [
    {
     "data": {
      "text/plain": "          nll1      nll2      nll3  diff_1_3  diff_1_2\n5     4.782111  4.604050  4.596256  0.185856  0.178062\n10    4.424717  4.367903  4.263774  0.160943  0.056813\n48    4.490065  4.214732  4.263987  0.226078  0.275333\n57    6.652434  6.617769  6.776412 -0.123978  0.034665\n62    5.277681  5.138671  5.580647 -0.302966  0.139010\n...        ...       ...       ...       ...       ...\n1229  8.160232  7.336610  6.871275  1.288958  0.823623\n1230  8.160232  7.222429  5.743403  2.416829  0.937804\n1231  8.682538  7.928424  6.810318  1.872220  0.754114\n1232  8.987072  8.382943  6.047435  2.939636  0.604129\n1233  9.332470  8.976456  6.639076  2.693393  0.356014\n\n[206 rows x 5 columns]",
      "text/html": "<div>\n<style scoped>\n    .dataframe tbody tr th:only-of-type {\n        vertical-align: middle;\n    }\n\n    .dataframe tbody tr th {\n        vertical-align: top;\n    }\n\n    .dataframe thead th {\n        text-align: right;\n    }\n</style>\n<table border=\"1\" class=\"dataframe\">\n  <thead>\n    <tr style=\"text-align: right;\">\n      <th></th>\n      <th>nll1</th>\n      <th>nll2</th>\n      <th>nll3</th>\n      <th>diff_1_3</th>\n      <th>diff_1_2</th>\n    </tr>\n  </thead>\n  <tbody>\n    <tr>\n      <th>5</th>\n      <td>4.782111</td>\n      <td>4.604050</td>\n      <td>4.596256</td>\n      <td>0.185856</td>\n      <td>0.178062</td>\n    </tr>\n    <tr>\n      <th>10</th>\n      <td>4.424717</td>\n      <td>4.367903</td>\n      <td>4.263774</td>\n      <td>0.160943</td>\n      <td>0.056813</td>\n    </tr>\n    <tr>\n      <th>48</th>\n      <td>4.490065</td>\n      <td>4.214732</td>\n      <td>4.263987</td>\n      <td>0.226078</td>\n      <td>0.275333</td>\n    </tr>\n    <tr>\n      <th>57</th>\n      <td>6.652434</td>\n      <td>6.617769</td>\n      <td>6.776412</td>\n      <td>-0.123978</td>\n      <td>0.034665</td>\n    </tr>\n    <tr>\n      <th>62</th>\n      <td>5.277681</td>\n      <td>5.138671</td>\n      <td>5.580647</td>\n      <td>-0.302966</td>\n      <td>0.139010</td>\n    </tr>\n    <tr>\n      <th>...</th>\n      <td>...</td>\n      <td>...</td>\n      <td>...</td>\n      <td>...</td>\n      <td>...</td>\n    </tr>\n    <tr>\n      <th>1229</th>\n      <td>8.160232</td>\n      <td>7.336610</td>\n      <td>6.871275</td>\n      <td>1.288958</td>\n      <td>0.823623</td>\n    </tr>\n    <tr>\n      <th>1230</th>\n      <td>8.160232</td>\n      <td>7.222429</td>\n      <td>5.743403</td>\n      <td>2.416829</td>\n      <td>0.937804</td>\n    </tr>\n    <tr>\n      <th>1231</th>\n      <td>8.682538</td>\n      <td>7.928424</td>\n      <td>6.810318</td>\n      <td>1.872220</td>\n      <td>0.754114</td>\n    </tr>\n    <tr>\n      <th>1232</th>\n      <td>8.987072</td>\n      <td>8.382943</td>\n      <td>6.047435</td>\n      <td>2.939636</td>\n      <td>0.604129</td>\n    </tr>\n    <tr>\n      <th>1233</th>\n      <td>9.332470</td>\n      <td>8.976456</td>\n      <td>6.639076</td>\n      <td>2.693393</td>\n      <td>0.356014</td>\n    </tr>\n  </tbody>\n</table>\n<p>206 rows × 5 columns</p>\n</div>"
     },
     "execution_count": 38,
     "metadata": {},
     "output_type": "execute_result"
    }
   ],
   "source": [
    "GT2_better_GT1 = NLL_metric_pd[NLL_metric_pd.diff_1_2>0].copy()\n",
    "GT2_better_GT1"
   ],
   "metadata": {
    "collapsed": false
   }
  },
  {
   "cell_type": "markdown",
   "source": [
    "# 5. test\n",
    "## 5.1 MINloss test\n",
    "1. 读取不同MINLoss下的metric，看一下MINLoss对于结果有无影响\n",
    "2. plot: 横轴MINLoss，纵轴metric"
   ],
   "metadata": {
    "collapsed": false
   }
  },
  {
   "cell_type": "code",
   "execution_count": 18,
   "outputs": [],
   "source": [
    "metric_list = [2,4,6,8,10,12,20,30,40]"
   ],
   "metadata": {
    "collapsed": false
   }
  },
  {
   "cell_type": "code",
   "execution_count": 19,
   "outputs": [
    {
     "data": {
      "text/plain": "<Figure size 640x480 with 1 Axes>",
      "image/png": "[encoded data removed]"
     },
     "metadata": {},
     "output_type": "display_data"
    }
   ],
   "source": [
    "metric = np.array([0]*len(metric_list)*2).reshape(-1,2)\n",
    "metric_pd = pd.DataFrame(metric)\n",
    "\n",
    "for i in range(len(metric_list)):\n",
    "        file_head = \"../data/GT_metric/NLL_metric_GT_Tgt=1_e\"\n",
    "        file_end = \".csv\"\n",
    "\n",
    "        file_name = file_head + str(metric_list[i]) + file_end\n",
    "\n",
    "        data = pd.read_csv(file_name,encoding=\"utf-8\")\n",
    "        metric_i = np.array(data.sum(axis=0))\n",
    "\n",
    "        metric_pd.iloc[i,0] = metric_i[0]\n",
    "        metric_pd.iloc[i,1] = metric_i[1]\n",
    "\n",
    "metric_pd = metric_pd/ len(target_all_path)\n",
    "plt.plot(metric_list, metric_pd.iloc[:,0], color='green', marker = \".\", label='GT-1')\n",
    "plt.plot(metric_list, metric_pd.iloc[:,1], color='red', marker = \".\", label='GT-2')\n",
    "\n",
    "plt.xlabel('MINloss=1e-x')\n",
    "plt.ylabel('avg NLL metric of each auction')\n",
    "plt.legend()\n",
    "plt.show()"
   ],
   "metadata": {
    "collapsed": false
   }
  },
  {
   "cell_type": "code",
   "execution_count": null,
   "outputs": [],
   "source": [],
   "metadata": {
    "collapsed": false
   }
  }
 ],
 "metadata": {
  "kernelspec": {
   "display_name": "Python 3",
   "language": "python",
   "name": "python3"
  },
  "language_info": {
   "codemirror_mode": {
    "name": "ipython",
    "version": 2
   },
   "file_extension": ".py",
   "mimetype": "text/x-python",
   "name": "python",
   "nbconvert_exporter": "python",
   "pygments_lexer": "ipython2",
   "version": "2.7.6"
  }
 },
 "nbformat": 4,
 "nbformat_minor": 0
}
