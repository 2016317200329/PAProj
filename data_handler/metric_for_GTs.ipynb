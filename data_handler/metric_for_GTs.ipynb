{
 "cells": [
  {
   "cell_type": "markdown",
   "source": [
    "# 0. Intro\n",
    "1. 计算得到理论模型下对于target data的NLL值作为metric，方便对比\n",
    "\n",
    "\n",
    "# 1. Preparations\n",
    "## 1.1 global settings"
   ],
   "metadata": {
    "collapsed": false
   }
  },
  {
   "cell_type": "code",
   "execution_count": 11,
   "outputs": [],
   "source": [
    "import pandas as pd\n",
    "import numpy as np\n",
    "import math\n",
    "import random\n",
    "import os\n",
    "from operator import itemgetter\n",
    "from matplotlib import pyplot as plt\n",
    "\n",
    "\n",
    "# For GT-2\n",
    "from GT_model.GT_2.SA_for_PT_funcs_delta_eq1 import *\n",
    "from tqdm import  tqdm"
   ],
   "metadata": {
    "collapsed": false
   }
  },
  {
   "cell_type": "markdown",
   "source": [
    "## 1.2 the data path\n"
   ],
   "metadata": {
    "collapsed": false
   }
  },
  {
   "cell_type": "code",
   "execution_count": 26,
   "outputs": [],
   "source": [
    "# Target data\n",
    "target_path = r\"../data/targets\"\n",
    "# target_path = r\"../data/targets_5\"\n",
    "# target_path = r\"../data/targets_5_cdf\"\n",
    "\n",
    "# target data是target_5时 TARGET = 5\n",
    "TARGET = 1\n",
    "\n",
    "# For GT-2\n",
    "alpha = -0.013581112\n",
    "delta = 1\n",
    "labda = 3.312402533\n",
    "\n",
    "MIN_LOSS = 1e-50\n",
    "\n",
    "# data keys\n",
    "data_key_path = \"../data/target_datakey.csv\"\n",
    "# inferred params for GT-2 model\n",
    "#params_opitim_path = \"../data/SA_PT/params_opitim_oneforall.csv\"\n",
    "\n",
    "# NLL output path\n",
    "NLL_metric_path  =\"../data/GT_metric/NLL_metric_GT_Tgt=1_e50.csv\""
   ],
   "metadata": {
    "collapsed": false
   }
  },
  {
   "cell_type": "markdown",
   "source": [
    "## 1.3 Read in"
   ],
   "metadata": {
    "collapsed": false
   }
  },
  {
   "cell_type": "code",
   "execution_count": 27,
   "outputs": [],
   "source": [
    "settings = pd.read_csv(data_key_path,encoding=\"utf-8\")\n",
    "#params_all = pd.read_csv(params_opitim_path,encoding=\"utf-8\")\n",
    "# target_path里有全部的target data地址\n",
    "target_all_path = os.listdir(target_path)"
   ],
   "metadata": {
    "collapsed": false
   }
  },
  {
   "cell_type": "markdown",
   "source": [
    "# 2. 两个GT模型\n",
    "## 2.1 GT-1"
   ],
   "metadata": {
    "collapsed": false
   }
  },
  {
   "cell_type": "code",
   "execution_count": 28,
   "outputs": [],
   "source": [
    "def GT_1(setting, target):\n",
    "        b = np.array(setting.bidfee)               # bid fee (dollar)\n",
    "        v = np.array(setting.retail)               # valuation\n",
    "        d = np.array(setting.bidincrement)\n",
    "\n",
    "        T = int((v-b)/d)                           # duration limitation\n",
    "\n",
    "        # Solve for U\n",
    "        U = [0] * (T + 1)                          # the prob. that someone offers a bid in t_th round\n",
    "        U[0] = 1\n",
    "        for t in range(1,len(U)):\n",
    "                U[t] = 1.0-b/(v-d*(t-1))\n",
    "\n",
    "        # Solve for P\n",
    "        p = np.array([0.0]*(T))\n",
    "        tmp = np.array([0.0]*(T+3))                         # tmp的大小不需要太精确\n",
    "        tmp[0] = 1.0\n",
    "        # p[t]表示auction进行(t+1)轮然后结束的概率\n",
    "        for t in range(0,T):\n",
    "                tmp[t+1] = tmp[t]*U[t]                      # tmp[t+1]存了到(t)的U的连乘积\n",
    "                p[t] = (1-U[t+1])*tmp[t+1]\n",
    "        # To make sure sum=1\n",
    "        p[T-1] = max(1-sum(p[0:T-1]),0)\n",
    "\n",
    "        # According to the target data, compute the NLL value\n",
    "\n",
    "        p_dict = {}\n",
    "        nll = 0\n",
    "        i = 0\n",
    "        # Sum prob in every interval of TARGET\n",
    "        for i in range(0,len(p),TARGET):\n",
    "                j = min(len(p),i+TARGET)\n",
    "                p_dict[i+1] = np.sum(p[i:j])\n",
    "        # nll = np.sum(itemgetter(*target)(p_dict))\n",
    "        # Sum up all prob if GT gives one\n",
    "        for i in range(0, len(target)):\n",
    "                if target[i] in p_dict:\n",
    "                        nll += -np.log(p_dict[target[i]]+MIN_LOSS)\n",
    "                else:\n",
    "                        nll += -np.log(0.+MIN_LOSS)\n",
    "        return nll/len(target)"
   ],
   "metadata": {
    "collapsed": false
   }
  },
  {
   "cell_type": "markdown",
   "source": [
    "## 2.2 GT-2"
   ],
   "metadata": {
    "collapsed": false
   }
  },
  {
   "cell_type": "code",
   "execution_count": 29,
   "outputs": [],
   "source": [
    "def GT_2(setting, target):\n",
    "        b = np.array(setting.bidfee)               # bid fee (dollar)\n",
    "        v = np.array(setting.retail)               # valuation\n",
    "        d = np.array(setting.bidincrement)\n",
    "\n",
    "        T = int((v-b)/d)                           # duration limitation\n",
    "\n",
    "        # Solve for U\n",
    "        U = [0] * (T + 1)                               # the prob. that someone offers a bid in t_th round\n",
    "        U[0] = 1\n",
    "        for t in range(1,T+1):\n",
    "                U[t] = f_Equi(t, v, d, b, alpha, labda)\n",
    "\n",
    "        # Solve for P\n",
    "        p = np.array([0.0]*(T))\n",
    "        tmp = np.array([0.0]*(T+3))                         # tmp的大小不需要太精确\n",
    "        tmp[0] = 1.0\n",
    "        # p[t]表示auction进行(t+1)轮然后结束的概率\n",
    "        for t in range(0,T):\n",
    "                tmp[t+1] = tmp[t]*U[t]                      # tmp[t+1]存了到(t)的U的连乘积\n",
    "                p[t] = (1-U[t+1])*tmp[t+1]\n",
    "        # To make sure sum=1\n",
    "        p[T-1] = max(1-sum(p[0:T-1]),0)\n",
    "\n",
    "        # According to the target data, compute the NLL value\n",
    "\n",
    "        p_dict = {}\n",
    "        nll = 0\n",
    "        i = 0\n",
    "        # Sum prob in every interval of TARGET\n",
    "        for i in range(0,len(p),TARGET):\n",
    "                j = min(len(p),i+TARGET)\n",
    "                p_dict[i+1] = np.sum(p[i:j])\n",
    "        # nll = np.sum(itemgetter(*target)(p_dict))\n",
    "        # Sum up all prob if GT gives one\n",
    "        for i in range(0, len(target)):\n",
    "                if target[i] in p_dict:\n",
    "                        nll += -np.log(p_dict[target[i]]+MIN_LOSS)\n",
    "                else:\n",
    "                        nll += -np.log(0.+MIN_LOSS)\n",
    "\n",
    "        return nll/len(target)"
   ],
   "metadata": {
    "collapsed": false
   }
  },
  {
   "cell_type": "markdown",
   "source": [
    "# 3. Compute the NLL"
   ],
   "metadata": {
    "collapsed": false
   }
  },
  {
   "cell_type": "code",
   "execution_count": 30,
   "outputs": [
    {
     "name": "stderr",
     "output_type": "stream",
     "text": [
      "100%|██████████| 1196/1196 [06:13<00:00,  3.20it/s]\n"
     ]
    }
   ],
   "source": [
    "NLL_metric = np.array([0]*len(target_all_path)*2).reshape(-1,2)\n",
    "NLL_metric_pd = pd.DataFrame(NLL_metric,columns=['nll1','nll2'])\n",
    "\n",
    "for i in tqdm(range(len(target_all_path))):\n",
    "# for i in range(1):\n",
    "        # Get target data\n",
    "        target_path_i_path = os.path.join(target_path, target_all_path[i])\n",
    "        target_df = pd.read_csv(target_path_i_path,encoding=\"utf-8\")\n",
    "        target = list(target_df.iloc[:,0])\n",
    "\n",
    "        # Get the auction setting\n",
    "        settings_df = settings.iloc[i,:]\n",
    "\n",
    "        # Compute the NLL value of each GT models\n",
    "        NLL_metric_pd.iloc[i,0] = GT_1(settings_df,target)\n",
    "        NLL_metric_pd.iloc[i,1] = GT_2(settings_df,target)"
   ],
   "metadata": {
    "collapsed": false
   }
  },
  {
   "cell_type": "markdown",
   "source": [
    "# 4. Output"
   ],
   "metadata": {
    "collapsed": false
   }
  },
  {
   "cell_type": "code",
   "execution_count": 31,
   "outputs": [],
   "source": [
    "NLL_metric_pd.to_csv(NLL_metric_path,encoding=\"utf-8\",header=True,index=False)"
   ],
   "metadata": {
    "collapsed": false
   }
  },
  {
   "cell_type": "markdown",
   "source": [
    "# 5. test\n",
    "## 5.1 MINloss test\n",
    "1. 读取不同MINLoss下的metric，看一下MINLoss对于结果有无影响\n",
    "2. plot: 横轴MINLoss，纵轴metric"
   ],
   "metadata": {
    "collapsed": false
   }
  },
  {
   "cell_type": "code",
   "execution_count": 18,
   "outputs": [],
   "source": [
    "metric_list = [2,4,6,8,10,12,20,30,40]"
   ],
   "metadata": {
    "collapsed": false
   }
  },
  {
   "cell_type": "code",
   "execution_count": 19,
   "outputs": [
    {
     "data": {
      "text/plain": "<Figure size 640x480 with 1 Axes>",
      "image/png": "[encoded data removed]"
     },
     "metadata": {},
     "output_type": "display_data"
    }
   ],
   "source": [
    "metric = np.array([0]*len(metric_list)*2).reshape(-1,2)\n",
    "metric_pd = pd.DataFrame(metric)\n",
    "\n",
    "for i in range(len(metric_list)):\n",
    "        file_head = \"../data/GT_metric/NLL_metric_GT_Tgt=1_e\"\n",
    "        file_end = \".csv\"\n",
    "\n",
    "        file_name = file_head + str(metric_list[i]) + file_end\n",
    "\n",
    "        data = pd.read_csv(file_name,encoding=\"utf-8\")\n",
    "        metric_i = np.array(data.sum(axis=0))\n",
    "\n",
    "        metric_pd.iloc[i,0] = metric_i[0]\n",
    "        metric_pd.iloc[i,1] = metric_i[1]\n",
    "\n",
    "\n",
    "metric_pd = metric_pd/ len(target_all_path)\n",
    "plt.plot(metric_list, metric_pd.iloc[:,0], color='green', marker = \".\", label='GT-1')\n",
    "plt.plot(metric_list, metric_pd.iloc[:,1], color='red', marker = \".\", label='GT-2')\n",
    "\n",
    "plt.xlabel('MINloss=1e-x')\n",
    "plt.ylabel('avg NLL metric of each auction')\n",
    "plt.legend()\n",
    "plt.show()"
   ],
   "metadata": {
    "collapsed": false
   }
  },
  {
   "cell_type": "code",
   "execution_count": null,
   "outputs": [],
   "source": [],
   "metadata": {
    "collapsed": false
   }
  }
 ],
 "metadata": {
  "kernelspec": {
   "display_name": "Python 3",
   "language": "python",
   "name": "python3"
  },
  "language_info": {
   "codemirror_mode": {
    "name": "ipython",
    "version": 2
   },
   "file_extension": ".py",
   "mimetype": "text/x-python",
   "name": "python",
   "nbconvert_exporter": "python",
   "pygments_lexer": "ipython2",
   "version": "2.7.6"
  }
 },
 "nbformat": 4,
 "nbformat_minor": 0
}
