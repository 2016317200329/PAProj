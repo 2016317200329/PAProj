{
 "cells": [
  {
   "cell_type": "markdown",
   "source": [
    "# 0. Intro\n",
    "\n",
    "# 1."
   ],
   "metadata": {
    "collapsed": false
   }
  },
  {
   "cell_type": "code",
   "execution_count": 210,
   "outputs": [],
   "source": [
    "\n",
    "# oversample数据的比例\n",
    "P = 0.5\n",
    "\n",
    "# Target data\n",
    "target_path = r\"../data/targets\"\n",
    "# target_path = r\"../data/targets_5\"\n",
    "\n",
    "# data keys\n",
    "data_key_path = \"../data/target_datakey.csv\"\n",
    "\n",
    "import os\n",
    "from sklearn.cluster import KMeans\n",
    "import numpy as np\n",
    "import pandas as pd\n",
    "import matplotlib.pyplot as plt\n",
    "from numpy import random\n",
    "\n",
    "from scipy.spatial.distance import cdist"
   ],
   "metadata": {
    "collapsed": false
   }
  },
  {
   "cell_type": "code",
   "execution_count": 211,
   "outputs": [],
   "source": [
    "# all_path里有全部的data地址作为list\n",
    "target_all_path = os.listdir(target_path)\n"
   ],
   "metadata": {
    "collapsed": false
   }
  },
  {
   "cell_type": "markdown",
   "source": [
    "# 2. K-means\n",
    "## 2.1 执行k-means"
   ],
   "metadata": {
    "collapsed": false
   }
  },
  {
   "cell_type": "code",
   "execution_count": 212,
   "outputs": [
    {
     "data": {
      "text/plain": "array([[ 287],\n       [1245],\n       [ 728]])"
     },
     "execution_count": 212,
     "metadata": {},
     "output_type": "execute_result"
    }
   ],
   "source": [
    "index = 2\n",
    "N_cluster = 3\n",
    "\n",
    "data_path = os.path.join(target_path,target_all_path[index])\n",
    "data = pd.read_csv(data_path,encoding=\"utf-8\")\n",
    "data = np.array(data.iloc[:,0]).reshape(-1, 1)\n",
    "\n",
    "kmeans = KMeans(n_clusters=N_cluster, random_state=0).fit(data)\n",
    "# 返回center\n",
    "centers = np.array(kmeans.cluster_centers_, dtype=int)\n",
    "# 返回每一点的标签\n",
    "labels =  pd.DataFrame(kmeans.labels_)\n",
    "centers\n"
   ],
   "metadata": {
    "collapsed": false
   }
  },
  {
   "cell_type": "markdown",
   "source": [
    "- 可视化"
   ],
   "metadata": {
    "collapsed": false
   }
  },
  {
   "cell_type": "code",
   "execution_count": 213,
   "outputs": [
    {
     "data": {
      "text/plain": "<Figure size 2000x500 with 1 Axes>",
      "image/png": "[encoded data removed]"
     },
     "metadata": {},
     "output_type": "display_data"
    }
   ],
   "source": [
    "# 可视化\n",
    "fig = plt.figure(1,figsize=(20,5))\n",
    "ax = fig.add_subplot(111)\n",
    "\n",
    "ax.set_title('Kmeans')\n",
    "plt.xlabel('N')\n",
    "\n",
    "#画散点图\n",
    "y1 = np.zeros(data.shape)\n",
    "y2 = np.zeros(centers.shape)\n",
    "ax.scatter(data,y1,c='b',marker = ',')\n",
    "ax.scatter(centers,y2,c='r',marker = ',')\n",
    "\n",
    "plt.show()"
   ],
   "metadata": {
    "collapsed": false
   }
  },
  {
   "cell_type": "markdown",
   "source": [
    "## 2.2 计算dist\n",
    "1. 计算距离centers的dist"
   ],
   "metadata": {
    "collapsed": false
   }
  },
  {
   "cell_type": "code",
   "execution_count": 214,
   "outputs": [
    {
     "data": {
      "text/plain": "     N   dist  cluster\n0   27  260.0        0\n1   32  255.0        0\n2   57  230.0        0\n3   97  190.0        0\n4  141  146.0        0",
      "text/html": "<div>\n<style scoped>\n    .dataframe tbody tr th:only-of-type {\n        vertical-align: middle;\n    }\n\n    .dataframe tbody tr th {\n        vertical-align: top;\n    }\n\n    .dataframe thead th {\n        text-align: right;\n    }\n</style>\n<table border=\"1\" class=\"dataframe\">\n  <thead>\n    <tr style=\"text-align: right;\">\n      <th></th>\n      <th>N</th>\n      <th>dist</th>\n      <th>cluster</th>\n    </tr>\n  </thead>\n  <tbody>\n    <tr>\n      <th>0</th>\n      <td>27</td>\n      <td>260.0</td>\n      <td>0</td>\n    </tr>\n    <tr>\n      <th>1</th>\n      <td>32</td>\n      <td>255.0</td>\n      <td>0</td>\n    </tr>\n    <tr>\n      <th>2</th>\n      <td>57</td>\n      <td>230.0</td>\n      <td>0</td>\n    </tr>\n    <tr>\n      <th>3</th>\n      <td>97</td>\n      <td>190.0</td>\n      <td>0</td>\n    </tr>\n    <tr>\n      <th>4</th>\n      <td>141</td>\n      <td>146.0</td>\n      <td>0</td>\n    </tr>\n  </tbody>\n</table>\n</div>"
     },
     "execution_count": 214,
     "metadata": {},
     "output_type": "execute_result"
    }
   ],
   "source": [
    "dist_all = cdist(data, centers, metric='cityblock')\n",
    "\n",
    "# 距离centers的距离\n",
    "dist = []\n",
    "for i in range(len(dist_all)):\n",
    "    dist.append(dist_all[i,kmeans.labels_[i]])\n",
    "dist = pd.DataFrame(dist)\n",
    "\n",
    "# N 距离 cluster组合成一个pd\n",
    "dist_pd = pd.concat([pd.DataFrame(data),dist,labels],axis = 1)\n",
    "dist_pd.columns = [\"N\",\"dist\",\"cluster\"]\n",
    "dist_pd.head()"
   ],
   "metadata": {
    "collapsed": false
   }
  },
  {
   "cell_type": "markdown",
   "source": [
    "2. 将centers的坐标以及距离center的最大距离合并，加入table，方便计算prob"
   ],
   "metadata": {
    "collapsed": false
   }
  },
  {
   "cell_type": "code",
   "execution_count": 215,
   "outputs": [
    {
     "data": {
      "text/plain": "   cluster  center  max_dist\n0        0     287     260.0\n1        1    1245     286.0\n2        2     728     220.0",
      "text/html": "<div>\n<style scoped>\n    .dataframe tbody tr th:only-of-type {\n        vertical-align: middle;\n    }\n\n    .dataframe tbody tr th {\n        vertical-align: top;\n    }\n\n    .dataframe thead th {\n        text-align: right;\n    }\n</style>\n<table border=\"1\" class=\"dataframe\">\n  <thead>\n    <tr style=\"text-align: right;\">\n      <th></th>\n      <th>cluster</th>\n      <th>center</th>\n      <th>max_dist</th>\n    </tr>\n  </thead>\n  <tbody>\n    <tr>\n      <th>0</th>\n      <td>0</td>\n      <td>287</td>\n      <td>260.0</td>\n    </tr>\n    <tr>\n      <th>1</th>\n      <td>1</td>\n      <td>1245</td>\n      <td>286.0</td>\n    </tr>\n    <tr>\n      <th>2</th>\n      <td>2</td>\n      <td>728</td>\n      <td>220.0</td>\n    </tr>\n  </tbody>\n</table>\n</div>"
     },
     "execution_count": 215,
     "metadata": {},
     "output_type": "execute_result"
    }
   ],
   "source": [
    "# centers坐标\n",
    "centers_pd = pd.DataFrame(centers)\n",
    "centers_pd.reset_index(drop=False,inplace=True)\n",
    "centers_pd.columns = ['cluster','center']\n",
    "\n",
    "# 每个cluster的dist的最大值最小值\n",
    "max_dist = pd.DataFrame(dist_pd.groupby(\"cluster\")['dist'].max())\n",
    "# min_dist = pd.DataFrame(dist_pd.groupby(\"cluster\")['dist'].min())\n",
    "\n",
    "max_dist.reset_index(drop=False,inplace=True)\n",
    "# min_dist.reset_index(drop=False,inplace=True)\n",
    "\n",
    "max_dist.columns = ['cluster','max_dist']\n",
    "# min_dist.columns = ['cluster','min_dist']\n",
    "\n",
    "# 每个cluster的dist之和\n",
    "# sum_dist = pd.DataFrame(dist_pd.groupby(\"cluster\")['dist'].sum())\n",
    "# sum_dist.reset_index(drop=False,inplace=True)\n",
    "# sum_dist.columns = ['cluster','sum_dist']\n",
    "\n",
    "\n",
    "# 合并\n",
    "centers_pd = pd.merge(centers_pd,max_dist,on='cluster')\n",
    "# centers_pd = pd.merge(centers_pd,min_dist,on='cluster')\n",
    "# centers_pd = pd.merge(centers_pd,sum_dist,on='cluster')\n",
    "centers_pd"
   ],
   "metadata": {
    "collapsed": false
   }
  },
  {
   "cell_type": "code",
   "execution_count": 216,
   "outputs": [
    {
     "data": {
      "text/plain": "       N   dist  cluster  center  max_dist\n0     27  260.0        0     287     260.0\n1     32  255.0        0     287     260.0\n2     57  230.0        0     287     260.0\n3     97  190.0        0     287     260.0\n4    141  146.0        0     287     260.0\n5    181  106.0        0     287     260.0\n6    187  100.0        0     287     260.0\n7    225   62.0        0     287     260.0\n8    270   17.0        0     287     260.0\n9    299   12.0        0     287     260.0\n10   299   12.0        0     287     260.0\n11   352   65.0        0     287     260.0\n12   363   76.0        0     287     260.0\n13   402  115.0        0     287     260.0\n14   423  136.0        0     287     260.0\n15   428  141.0        0     287     260.0\n16   429  142.0        0     287     260.0\n17   431  144.0        0     287     260.0\n18   456  169.0        0     287     260.0\n19   461  174.0        0     287     260.0\n20   468  181.0        0     287     260.0\n21   516  212.0        2     728     220.0\n22   531  197.0        2     728     220.0\n23   545  183.0        2     728     220.0\n24   547  181.0        2     728     220.0\n25   633   95.0        2     728     220.0\n26   683   45.0        2     728     220.0\n27   685   43.0        2     728     220.0\n28   697   31.0        2     728     220.0\n29   713   15.0        2     728     220.0\n30   796   68.0        2     728     220.0\n31   816   88.0        2     728     220.0\n32   829  101.0        2     728     220.0\n33   883  155.0        2     728     220.0\n34   908  180.0        2     728     220.0\n35   931  203.0        2     728     220.0\n36   948  220.0        2     728     220.0\n37  1045  200.0        1    1245     286.0\n38  1050  195.0        1    1245     286.0\n39  1096  149.0        1    1245     286.0\n40  1168   77.0        1    1245     286.0\n41  1187   58.0        1    1245     286.0\n42  1200   45.0        1    1245     286.0\n43  1211   34.0        1    1245     286.0\n44  1262   17.0        1    1245     286.0\n45  1346  101.0        1    1245     286.0\n46  1364  119.0        1    1245     286.0\n47  1487  242.0        1    1245     286.0\n48  1531  286.0        1    1245     286.0",
      "text/html": "<div>\n<style scoped>\n    .dataframe tbody tr th:only-of-type {\n        vertical-align: middle;\n    }\n\n    .dataframe tbody tr th {\n        vertical-align: top;\n    }\n\n    .dataframe thead th {\n        text-align: right;\n    }\n</style>\n<table border=\"1\" class=\"dataframe\">\n  <thead>\n    <tr style=\"text-align: right;\">\n      <th></th>\n      <th>N</th>\n      <th>dist</th>\n      <th>cluster</th>\n      <th>center</th>\n      <th>max_dist</th>\n    </tr>\n  </thead>\n  <tbody>\n    <tr>\n      <th>0</th>\n      <td>27</td>\n      <td>260.0</td>\n      <td>0</td>\n      <td>287</td>\n      <td>260.0</td>\n    </tr>\n    <tr>\n      <th>1</th>\n      <td>32</td>\n      <td>255.0</td>\n      <td>0</td>\n      <td>287</td>\n      <td>260.0</td>\n    </tr>\n    <tr>\n      <th>2</th>\n      <td>57</td>\n      <td>230.0</td>\n      <td>0</td>\n      <td>287</td>\n      <td>260.0</td>\n    </tr>\n    <tr>\n      <th>3</th>\n      <td>97</td>\n      <td>190.0</td>\n      <td>0</td>\n      <td>287</td>\n      <td>260.0</td>\n    </tr>\n    <tr>\n      <th>4</th>\n      <td>141</td>\n      <td>146.0</td>\n      <td>0</td>\n      <td>287</td>\n      <td>260.0</td>\n    </tr>\n    <tr>\n      <th>5</th>\n      <td>181</td>\n      <td>106.0</td>\n      <td>0</td>\n      <td>287</td>\n      <td>260.0</td>\n    </tr>\n    <tr>\n      <th>6</th>\n      <td>187</td>\n      <td>100.0</td>\n      <td>0</td>\n      <td>287</td>\n      <td>260.0</td>\n    </tr>\n    <tr>\n      <th>7</th>\n      <td>225</td>\n      <td>62.0</td>\n      <td>0</td>\n      <td>287</td>\n      <td>260.0</td>\n    </tr>\n    <tr>\n      <th>8</th>\n      <td>270</td>\n      <td>17.0</td>\n      <td>0</td>\n      <td>287</td>\n      <td>260.0</td>\n    </tr>\n    <tr>\n      <th>9</th>\n      <td>299</td>\n      <td>12.0</td>\n      <td>0</td>\n      <td>287</td>\n      <td>260.0</td>\n    </tr>\n    <tr>\n      <th>10</th>\n      <td>299</td>\n      <td>12.0</td>\n      <td>0</td>\n      <td>287</td>\n      <td>260.0</td>\n    </tr>\n    <tr>\n      <th>11</th>\n      <td>352</td>\n      <td>65.0</td>\n      <td>0</td>\n      <td>287</td>\n      <td>260.0</td>\n    </tr>\n    <tr>\n      <th>12</th>\n      <td>363</td>\n      <td>76.0</td>\n      <td>0</td>\n      <td>287</td>\n      <td>260.0</td>\n    </tr>\n    <tr>\n      <th>13</th>\n      <td>402</td>\n      <td>115.0</td>\n      <td>0</td>\n      <td>287</td>\n      <td>260.0</td>\n    </tr>\n    <tr>\n      <th>14</th>\n      <td>423</td>\n      <td>136.0</td>\n      <td>0</td>\n      <td>287</td>\n      <td>260.0</td>\n    </tr>\n    <tr>\n      <th>15</th>\n      <td>428</td>\n      <td>141.0</td>\n      <td>0</td>\n      <td>287</td>\n      <td>260.0</td>\n    </tr>\n    <tr>\n      <th>16</th>\n      <td>429</td>\n      <td>142.0</td>\n      <td>0</td>\n      <td>287</td>\n      <td>260.0</td>\n    </tr>\n    <tr>\n      <th>17</th>\n      <td>431</td>\n      <td>144.0</td>\n      <td>0</td>\n      <td>287</td>\n      <td>260.0</td>\n    </tr>\n    <tr>\n      <th>18</th>\n      <td>456</td>\n      <td>169.0</td>\n      <td>0</td>\n      <td>287</td>\n      <td>260.0</td>\n    </tr>\n    <tr>\n      <th>19</th>\n      <td>461</td>\n      <td>174.0</td>\n      <td>0</td>\n      <td>287</td>\n      <td>260.0</td>\n    </tr>\n    <tr>\n      <th>20</th>\n      <td>468</td>\n      <td>181.0</td>\n      <td>0</td>\n      <td>287</td>\n      <td>260.0</td>\n    </tr>\n    <tr>\n      <th>21</th>\n      <td>516</td>\n      <td>212.0</td>\n      <td>2</td>\n      <td>728</td>\n      <td>220.0</td>\n    </tr>\n    <tr>\n      <th>22</th>\n      <td>531</td>\n      <td>197.0</td>\n      <td>2</td>\n      <td>728</td>\n      <td>220.0</td>\n    </tr>\n    <tr>\n      <th>23</th>\n      <td>545</td>\n      <td>183.0</td>\n      <td>2</td>\n      <td>728</td>\n      <td>220.0</td>\n    </tr>\n    <tr>\n      <th>24</th>\n      <td>547</td>\n      <td>181.0</td>\n      <td>2</td>\n      <td>728</td>\n      <td>220.0</td>\n    </tr>\n    <tr>\n      <th>25</th>\n      <td>633</td>\n      <td>95.0</td>\n      <td>2</td>\n      <td>728</td>\n      <td>220.0</td>\n    </tr>\n    <tr>\n      <th>26</th>\n      <td>683</td>\n      <td>45.0</td>\n      <td>2</td>\n      <td>728</td>\n      <td>220.0</td>\n    </tr>\n    <tr>\n      <th>27</th>\n      <td>685</td>\n      <td>43.0</td>\n      <td>2</td>\n      <td>728</td>\n      <td>220.0</td>\n    </tr>\n    <tr>\n      <th>28</th>\n      <td>697</td>\n      <td>31.0</td>\n      <td>2</td>\n      <td>728</td>\n      <td>220.0</td>\n    </tr>\n    <tr>\n      <th>29</th>\n      <td>713</td>\n      <td>15.0</td>\n      <td>2</td>\n      <td>728</td>\n      <td>220.0</td>\n    </tr>\n    <tr>\n      <th>30</th>\n      <td>796</td>\n      <td>68.0</td>\n      <td>2</td>\n      <td>728</td>\n      <td>220.0</td>\n    </tr>\n    <tr>\n      <th>31</th>\n      <td>816</td>\n      <td>88.0</td>\n      <td>2</td>\n      <td>728</td>\n      <td>220.0</td>\n    </tr>\n    <tr>\n      <th>32</th>\n      <td>829</td>\n      <td>101.0</td>\n      <td>2</td>\n      <td>728</td>\n      <td>220.0</td>\n    </tr>\n    <tr>\n      <th>33</th>\n      <td>883</td>\n      <td>155.0</td>\n      <td>2</td>\n      <td>728</td>\n      <td>220.0</td>\n    </tr>\n    <tr>\n      <th>34</th>\n      <td>908</td>\n      <td>180.0</td>\n      <td>2</td>\n      <td>728</td>\n      <td>220.0</td>\n    </tr>\n    <tr>\n      <th>35</th>\n      <td>931</td>\n      <td>203.0</td>\n      <td>2</td>\n      <td>728</td>\n      <td>220.0</td>\n    </tr>\n    <tr>\n      <th>36</th>\n      <td>948</td>\n      <td>220.0</td>\n      <td>2</td>\n      <td>728</td>\n      <td>220.0</td>\n    </tr>\n    <tr>\n      <th>37</th>\n      <td>1045</td>\n      <td>200.0</td>\n      <td>1</td>\n      <td>1245</td>\n      <td>286.0</td>\n    </tr>\n    <tr>\n      <th>38</th>\n      <td>1050</td>\n      <td>195.0</td>\n      <td>1</td>\n      <td>1245</td>\n      <td>286.0</td>\n    </tr>\n    <tr>\n      <th>39</th>\n      <td>1096</td>\n      <td>149.0</td>\n      <td>1</td>\n      <td>1245</td>\n      <td>286.0</td>\n    </tr>\n    <tr>\n      <th>40</th>\n      <td>1168</td>\n      <td>77.0</td>\n      <td>1</td>\n      <td>1245</td>\n      <td>286.0</td>\n    </tr>\n    <tr>\n      <th>41</th>\n      <td>1187</td>\n      <td>58.0</td>\n      <td>1</td>\n      <td>1245</td>\n      <td>286.0</td>\n    </tr>\n    <tr>\n      <th>42</th>\n      <td>1200</td>\n      <td>45.0</td>\n      <td>1</td>\n      <td>1245</td>\n      <td>286.0</td>\n    </tr>\n    <tr>\n      <th>43</th>\n      <td>1211</td>\n      <td>34.0</td>\n      <td>1</td>\n      <td>1245</td>\n      <td>286.0</td>\n    </tr>\n    <tr>\n      <th>44</th>\n      <td>1262</td>\n      <td>17.0</td>\n      <td>1</td>\n      <td>1245</td>\n      <td>286.0</td>\n    </tr>\n    <tr>\n      <th>45</th>\n      <td>1346</td>\n      <td>101.0</td>\n      <td>1</td>\n      <td>1245</td>\n      <td>286.0</td>\n    </tr>\n    <tr>\n      <th>46</th>\n      <td>1364</td>\n      <td>119.0</td>\n      <td>1</td>\n      <td>1245</td>\n      <td>286.0</td>\n    </tr>\n    <tr>\n      <th>47</th>\n      <td>1487</td>\n      <td>242.0</td>\n      <td>1</td>\n      <td>1245</td>\n      <td>286.0</td>\n    </tr>\n    <tr>\n      <th>48</th>\n      <td>1531</td>\n      <td>286.0</td>\n      <td>1</td>\n      <td>1245</td>\n      <td>286.0</td>\n    </tr>\n  </tbody>\n</table>\n</div>"
     },
     "execution_count": 216,
     "metadata": {},
     "output_type": "execute_result"
    }
   ],
   "source": [
    "# 合并成一张大表\n",
    "data_pd = pd.merge(dist_pd,centers_pd,on='cluster',how=\"left\")\n",
    "\n",
    "data_pd"
   ],
   "metadata": {
    "collapsed": false
   }
  },
  {
   "cell_type": "markdown",
   "source": [
    "3. 重新计算dist以及sum"
   ],
   "metadata": {
    "collapsed": false
   }
  },
  {
   "cell_type": "code",
   "execution_count": 217,
   "outputs": [
    {
     "data": {
      "text/plain": "       N   dist  cluster  center  max_dist  new_dist  new_sum_dist\n0     27  260.0        0     287     260.0       1.0        2748.0\n1     32  255.0        0     287     260.0       6.0        2748.0\n2     57  230.0        0     287     260.0      31.0        2748.0\n3     97  190.0        0     287     260.0      71.0        2748.0\n4    141  146.0        0     287     260.0     115.0        2748.0\n5    181  106.0        0     287     260.0     155.0        2748.0\n6    187  100.0        0     287     260.0     161.0        2748.0\n7    225   62.0        0     287     260.0     199.0        2748.0\n8    270   17.0        0     287     260.0     244.0        2748.0\n9    299   12.0        0     287     260.0     249.0        2748.0\n10   299   12.0        0     287     260.0     249.0        2748.0\n11   352   65.0        0     287     260.0     196.0        2748.0\n12   363   76.0        0     287     260.0     185.0        2748.0\n13   402  115.0        0     287     260.0     146.0        2748.0\n14   423  136.0        0     287     260.0     125.0        2748.0\n15   428  141.0        0     287     260.0     120.0        2748.0\n16   429  142.0        0     287     260.0     119.0        2748.0\n17   431  144.0        0     287     260.0     117.0        2748.0\n18   456  169.0        0     287     260.0      92.0        2748.0\n19   461  174.0        0     287     260.0      87.0        2748.0\n20   468  181.0        0     287     260.0      80.0        2748.0\n21   516  212.0        2     728     220.0       9.0        1519.0\n22   531  197.0        2     728     220.0      24.0        1519.0\n23   545  183.0        2     728     220.0      38.0        1519.0\n24   547  181.0        2     728     220.0      40.0        1519.0\n25   633   95.0        2     728     220.0     126.0        1519.0\n26   683   45.0        2     728     220.0     176.0        1519.0\n27   685   43.0        2     728     220.0     178.0        1519.0\n28   697   31.0        2     728     220.0     190.0        1519.0\n29   713   15.0        2     728     220.0     206.0        1519.0\n30   796   68.0        2     728     220.0     153.0        1519.0\n31   816   88.0        2     728     220.0     133.0        1519.0\n32   829  101.0        2     728     220.0     120.0        1519.0\n33   883  155.0        2     728     220.0      66.0        1519.0\n34   908  180.0        2     728     220.0      41.0        1519.0\n35   931  203.0        2     728     220.0      18.0        1519.0\n36   948  220.0        2     728     220.0       1.0        1519.0\n37  1045  200.0        1    1245     286.0      87.0        1921.0\n38  1050  195.0        1    1245     286.0      92.0        1921.0\n39  1096  149.0        1    1245     286.0     138.0        1921.0\n40  1168   77.0        1    1245     286.0     210.0        1921.0\n41  1187   58.0        1    1245     286.0     229.0        1921.0\n42  1200   45.0        1    1245     286.0     242.0        1921.0\n43  1211   34.0        1    1245     286.0     253.0        1921.0\n44  1262   17.0        1    1245     286.0     270.0        1921.0\n45  1346  101.0        1    1245     286.0     186.0        1921.0\n46  1364  119.0        1    1245     286.0     168.0        1921.0\n47  1487  242.0        1    1245     286.0      45.0        1921.0\n48  1531  286.0        1    1245     286.0       1.0        1921.0",
      "text/html": "<div>\n<style scoped>\n    .dataframe tbody tr th:only-of-type {\n        vertical-align: middle;\n    }\n\n    .dataframe tbody tr th {\n        vertical-align: top;\n    }\n\n    .dataframe thead th {\n        text-align: right;\n    }\n</style>\n<table border=\"1\" class=\"dataframe\">\n  <thead>\n    <tr style=\"text-align: right;\">\n      <th></th>\n      <th>N</th>\n      <th>dist</th>\n      <th>cluster</th>\n      <th>center</th>\n      <th>max_dist</th>\n      <th>new_dist</th>\n      <th>new_sum_dist</th>\n    </tr>\n  </thead>\n  <tbody>\n    <tr>\n      <th>0</th>\n      <td>27</td>\n      <td>260.0</td>\n      <td>0</td>\n      <td>287</td>\n      <td>260.0</td>\n      <td>1.0</td>\n      <td>2748.0</td>\n    </tr>\n    <tr>\n      <th>1</th>\n      <td>32</td>\n      <td>255.0</td>\n      <td>0</td>\n      <td>287</td>\n      <td>260.0</td>\n      <td>6.0</td>\n      <td>2748.0</td>\n    </tr>\n    <tr>\n      <th>2</th>\n      <td>57</td>\n      <td>230.0</td>\n      <td>0</td>\n      <td>287</td>\n      <td>260.0</td>\n      <td>31.0</td>\n      <td>2748.0</td>\n    </tr>\n    <tr>\n      <th>3</th>\n      <td>97</td>\n      <td>190.0</td>\n      <td>0</td>\n      <td>287</td>\n      <td>260.0</td>\n      <td>71.0</td>\n      <td>2748.0</td>\n    </tr>\n    <tr>\n      <th>4</th>\n      <td>141</td>\n      <td>146.0</td>\n      <td>0</td>\n      <td>287</td>\n      <td>260.0</td>\n      <td>115.0</td>\n      <td>2748.0</td>\n    </tr>\n    <tr>\n      <th>5</th>\n      <td>181</td>\n      <td>106.0</td>\n      <td>0</td>\n      <td>287</td>\n      <td>260.0</td>\n      <td>155.0</td>\n      <td>2748.0</td>\n    </tr>\n    <tr>\n      <th>6</th>\n      <td>187</td>\n      <td>100.0</td>\n      <td>0</td>\n      <td>287</td>\n      <td>260.0</td>\n      <td>161.0</td>\n      <td>2748.0</td>\n    </tr>\n    <tr>\n      <th>7</th>\n      <td>225</td>\n      <td>62.0</td>\n      <td>0</td>\n      <td>287</td>\n      <td>260.0</td>\n      <td>199.0</td>\n      <td>2748.0</td>\n    </tr>\n    <tr>\n      <th>8</th>\n      <td>270</td>\n      <td>17.0</td>\n      <td>0</td>\n      <td>287</td>\n      <td>260.0</td>\n      <td>244.0</td>\n      <td>2748.0</td>\n    </tr>\n    <tr>\n      <th>9</th>\n      <td>299</td>\n      <td>12.0</td>\n      <td>0</td>\n      <td>287</td>\n      <td>260.0</td>\n      <td>249.0</td>\n      <td>2748.0</td>\n    </tr>\n    <tr>\n      <th>10</th>\n      <td>299</td>\n      <td>12.0</td>\n      <td>0</td>\n      <td>287</td>\n      <td>260.0</td>\n      <td>249.0</td>\n      <td>2748.0</td>\n    </tr>\n    <tr>\n      <th>11</th>\n      <td>352</td>\n      <td>65.0</td>\n      <td>0</td>\n      <td>287</td>\n      <td>260.0</td>\n      <td>196.0</td>\n      <td>2748.0</td>\n    </tr>\n    <tr>\n      <th>12</th>\n      <td>363</td>\n      <td>76.0</td>\n      <td>0</td>\n      <td>287</td>\n      <td>260.0</td>\n      <td>185.0</td>\n      <td>2748.0</td>\n    </tr>\n    <tr>\n      <th>13</th>\n      <td>402</td>\n      <td>115.0</td>\n      <td>0</td>\n      <td>287</td>\n      <td>260.0</td>\n      <td>146.0</td>\n      <td>2748.0</td>\n    </tr>\n    <tr>\n      <th>14</th>\n      <td>423</td>\n      <td>136.0</td>\n      <td>0</td>\n      <td>287</td>\n      <td>260.0</td>\n      <td>125.0</td>\n      <td>2748.0</td>\n    </tr>\n    <tr>\n      <th>15</th>\n      <td>428</td>\n      <td>141.0</td>\n      <td>0</td>\n      <td>287</td>\n      <td>260.0</td>\n      <td>120.0</td>\n      <td>2748.0</td>\n    </tr>\n    <tr>\n      <th>16</th>\n      <td>429</td>\n      <td>142.0</td>\n      <td>0</td>\n      <td>287</td>\n      <td>260.0</td>\n      <td>119.0</td>\n      <td>2748.0</td>\n    </tr>\n    <tr>\n      <th>17</th>\n      <td>431</td>\n      <td>144.0</td>\n      <td>0</td>\n      <td>287</td>\n      <td>260.0</td>\n      <td>117.0</td>\n      <td>2748.0</td>\n    </tr>\n    <tr>\n      <th>18</th>\n      <td>456</td>\n      <td>169.0</td>\n      <td>0</td>\n      <td>287</td>\n      <td>260.0</td>\n      <td>92.0</td>\n      <td>2748.0</td>\n    </tr>\n    <tr>\n      <th>19</th>\n      <td>461</td>\n      <td>174.0</td>\n      <td>0</td>\n      <td>287</td>\n      <td>260.0</td>\n      <td>87.0</td>\n      <td>2748.0</td>\n    </tr>\n    <tr>\n      <th>20</th>\n      <td>468</td>\n      <td>181.0</td>\n      <td>0</td>\n      <td>287</td>\n      <td>260.0</td>\n      <td>80.0</td>\n      <td>2748.0</td>\n    </tr>\n    <tr>\n      <th>21</th>\n      <td>516</td>\n      <td>212.0</td>\n      <td>2</td>\n      <td>728</td>\n      <td>220.0</td>\n      <td>9.0</td>\n      <td>1519.0</td>\n    </tr>\n    <tr>\n      <th>22</th>\n      <td>531</td>\n      <td>197.0</td>\n      <td>2</td>\n      <td>728</td>\n      <td>220.0</td>\n      <td>24.0</td>\n      <td>1519.0</td>\n    </tr>\n    <tr>\n      <th>23</th>\n      <td>545</td>\n      <td>183.0</td>\n      <td>2</td>\n      <td>728</td>\n      <td>220.0</td>\n      <td>38.0</td>\n      <td>1519.0</td>\n    </tr>\n    <tr>\n      <th>24</th>\n      <td>547</td>\n      <td>181.0</td>\n      <td>2</td>\n      <td>728</td>\n      <td>220.0</td>\n      <td>40.0</td>\n      <td>1519.0</td>\n    </tr>\n    <tr>\n      <th>25</th>\n      <td>633</td>\n      <td>95.0</td>\n      <td>2</td>\n      <td>728</td>\n      <td>220.0</td>\n      <td>126.0</td>\n      <td>1519.0</td>\n    </tr>\n    <tr>\n      <th>26</th>\n      <td>683</td>\n      <td>45.0</td>\n      <td>2</td>\n      <td>728</td>\n      <td>220.0</td>\n      <td>176.0</td>\n      <td>1519.0</td>\n    </tr>\n    <tr>\n      <th>27</th>\n      <td>685</td>\n      <td>43.0</td>\n      <td>2</td>\n      <td>728</td>\n      <td>220.0</td>\n      <td>178.0</td>\n      <td>1519.0</td>\n    </tr>\n    <tr>\n      <th>28</th>\n      <td>697</td>\n      <td>31.0</td>\n      <td>2</td>\n      <td>728</td>\n      <td>220.0</td>\n      <td>190.0</td>\n      <td>1519.0</td>\n    </tr>\n    <tr>\n      <th>29</th>\n      <td>713</td>\n      <td>15.0</td>\n      <td>2</td>\n      <td>728</td>\n      <td>220.0</td>\n      <td>206.0</td>\n      <td>1519.0</td>\n    </tr>\n    <tr>\n      <th>30</th>\n      <td>796</td>\n      <td>68.0</td>\n      <td>2</td>\n      <td>728</td>\n      <td>220.0</td>\n      <td>153.0</td>\n      <td>1519.0</td>\n    </tr>\n    <tr>\n      <th>31</th>\n      <td>816</td>\n      <td>88.0</td>\n      <td>2</td>\n      <td>728</td>\n      <td>220.0</td>\n      <td>133.0</td>\n      <td>1519.0</td>\n    </tr>\n    <tr>\n      <th>32</th>\n      <td>829</td>\n      <td>101.0</td>\n      <td>2</td>\n      <td>728</td>\n      <td>220.0</td>\n      <td>120.0</td>\n      <td>1519.0</td>\n    </tr>\n    <tr>\n      <th>33</th>\n      <td>883</td>\n      <td>155.0</td>\n      <td>2</td>\n      <td>728</td>\n      <td>220.0</td>\n      <td>66.0</td>\n      <td>1519.0</td>\n    </tr>\n    <tr>\n      <th>34</th>\n      <td>908</td>\n      <td>180.0</td>\n      <td>2</td>\n      <td>728</td>\n      <td>220.0</td>\n      <td>41.0</td>\n      <td>1519.0</td>\n    </tr>\n    <tr>\n      <th>35</th>\n      <td>931</td>\n      <td>203.0</td>\n      <td>2</td>\n      <td>728</td>\n      <td>220.0</td>\n      <td>18.0</td>\n      <td>1519.0</td>\n    </tr>\n    <tr>\n      <th>36</th>\n      <td>948</td>\n      <td>220.0</td>\n      <td>2</td>\n      <td>728</td>\n      <td>220.0</td>\n      <td>1.0</td>\n      <td>1519.0</td>\n    </tr>\n    <tr>\n      <th>37</th>\n      <td>1045</td>\n      <td>200.0</td>\n      <td>1</td>\n      <td>1245</td>\n      <td>286.0</td>\n      <td>87.0</td>\n      <td>1921.0</td>\n    </tr>\n    <tr>\n      <th>38</th>\n      <td>1050</td>\n      <td>195.0</td>\n      <td>1</td>\n      <td>1245</td>\n      <td>286.0</td>\n      <td>92.0</td>\n      <td>1921.0</td>\n    </tr>\n    <tr>\n      <th>39</th>\n      <td>1096</td>\n      <td>149.0</td>\n      <td>1</td>\n      <td>1245</td>\n      <td>286.0</td>\n      <td>138.0</td>\n      <td>1921.0</td>\n    </tr>\n    <tr>\n      <th>40</th>\n      <td>1168</td>\n      <td>77.0</td>\n      <td>1</td>\n      <td>1245</td>\n      <td>286.0</td>\n      <td>210.0</td>\n      <td>1921.0</td>\n    </tr>\n    <tr>\n      <th>41</th>\n      <td>1187</td>\n      <td>58.0</td>\n      <td>1</td>\n      <td>1245</td>\n      <td>286.0</td>\n      <td>229.0</td>\n      <td>1921.0</td>\n    </tr>\n    <tr>\n      <th>42</th>\n      <td>1200</td>\n      <td>45.0</td>\n      <td>1</td>\n      <td>1245</td>\n      <td>286.0</td>\n      <td>242.0</td>\n      <td>1921.0</td>\n    </tr>\n    <tr>\n      <th>43</th>\n      <td>1211</td>\n      <td>34.0</td>\n      <td>1</td>\n      <td>1245</td>\n      <td>286.0</td>\n      <td>253.0</td>\n      <td>1921.0</td>\n    </tr>\n    <tr>\n      <th>44</th>\n      <td>1262</td>\n      <td>17.0</td>\n      <td>1</td>\n      <td>1245</td>\n      <td>286.0</td>\n      <td>270.0</td>\n      <td>1921.0</td>\n    </tr>\n    <tr>\n      <th>45</th>\n      <td>1346</td>\n      <td>101.0</td>\n      <td>1</td>\n      <td>1245</td>\n      <td>286.0</td>\n      <td>186.0</td>\n      <td>1921.0</td>\n    </tr>\n    <tr>\n      <th>46</th>\n      <td>1364</td>\n      <td>119.0</td>\n      <td>1</td>\n      <td>1245</td>\n      <td>286.0</td>\n      <td>168.0</td>\n      <td>1921.0</td>\n    </tr>\n    <tr>\n      <th>47</th>\n      <td>1487</td>\n      <td>242.0</td>\n      <td>1</td>\n      <td>1245</td>\n      <td>286.0</td>\n      <td>45.0</td>\n      <td>1921.0</td>\n    </tr>\n    <tr>\n      <th>48</th>\n      <td>1531</td>\n      <td>286.0</td>\n      <td>1</td>\n      <td>1245</td>\n      <td>286.0</td>\n      <td>1.0</td>\n      <td>1921.0</td>\n    </tr>\n  </tbody>\n</table>\n</div>"
     },
     "execution_count": 217,
     "metadata": {},
     "output_type": "execute_result"
    }
   ],
   "source": [
    "# data_pd['prob'] = (data_pd['dist']-data_pd['min_dist']) / (data_pd['max_dist'] - data_pd['min_dist'])\n",
    "\n",
    "# 重新量化dist\n",
    "data_pd['new_dist'] = data_pd['max_dist'] - data_pd['dist']+1\n",
    "\n",
    "# 重新计算sum\n",
    "new_sum_dist = pd.DataFrame(data_pd.groupby(\"cluster\")['new_dist'].sum())\n",
    "new_sum_dist.reset_index(drop=False,inplace=True)\n",
    "new_sum_dist.columns = ['cluster','new_sum_dist']\n",
    "\n",
    "data_pd = pd.merge(data_pd,new_sum_dist,on='cluster',how=\"left\")\n",
    "data_pd"
   ],
   "metadata": {
    "collapsed": false
   }
  },
  {
   "cell_type": "markdown",
   "source": [
    "4. 计算prob:\n",
    "    - 1.归一化 prob= (x - x_min) / (x_max - x_min)\n",
    "    - 2.和为1:"
   ],
   "metadata": {
    "collapsed": false
   }
  },
  {
   "cell_type": "code",
   "execution_count": 218,
   "outputs": [
    {
     "data": {
      "text/plain": "       N   dist  cluster  center  max_dist  new_dist  new_sum_dist      prob\n0     27  260.0        0     287     260.0       1.0        2748.0  0.000364\n1     32  255.0        0     287     260.0       6.0        2748.0  0.002183\n2     57  230.0        0     287     260.0      31.0        2748.0  0.011281\n3     97  190.0        0     287     260.0      71.0        2748.0  0.025837\n4    141  146.0        0     287     260.0     115.0        2748.0  0.041849\n5    181  106.0        0     287     260.0     155.0        2748.0  0.056405\n6    187  100.0        0     287     260.0     161.0        2748.0  0.058588\n7    225   62.0        0     287     260.0     199.0        2748.0  0.072416\n8    270   17.0        0     287     260.0     244.0        2748.0  0.088792\n9    299   12.0        0     287     260.0     249.0        2748.0  0.090611\n10   299   12.0        0     287     260.0     249.0        2748.0  0.090611\n11   352   65.0        0     287     260.0     196.0        2748.0  0.071325\n12   363   76.0        0     287     260.0     185.0        2748.0  0.067322\n13   402  115.0        0     287     260.0     146.0        2748.0  0.053130\n14   423  136.0        0     287     260.0     125.0        2748.0  0.045488\n15   428  141.0        0     287     260.0     120.0        2748.0  0.043668\n16   429  142.0        0     287     260.0     119.0        2748.0  0.043304\n17   431  144.0        0     287     260.0     117.0        2748.0  0.042576\n18   456  169.0        0     287     260.0      92.0        2748.0  0.033479\n19   461  174.0        0     287     260.0      87.0        2748.0  0.031659\n20   468  181.0        0     287     260.0      80.0        2748.0  0.029112\n21   516  212.0        2     728     220.0       9.0        1519.0  0.005925\n22   531  197.0        2     728     220.0      24.0        1519.0  0.015800\n23   545  183.0        2     728     220.0      38.0        1519.0  0.025016\n24   547  181.0        2     728     220.0      40.0        1519.0  0.026333\n25   633   95.0        2     728     220.0     126.0        1519.0  0.082949\n26   683   45.0        2     728     220.0     176.0        1519.0  0.115866\n27   685   43.0        2     728     220.0     178.0        1519.0  0.117182\n28   697   31.0        2     728     220.0     190.0        1519.0  0.125082\n29   713   15.0        2     728     220.0     206.0        1519.0  0.135616\n30   796   68.0        2     728     220.0     153.0        1519.0  0.100724\n31   816   88.0        2     728     220.0     133.0        1519.0  0.087558\n32   829  101.0        2     728     220.0     120.0        1519.0  0.078999\n33   883  155.0        2     728     220.0      66.0        1519.0  0.043450\n34   908  180.0        2     728     220.0      41.0        1519.0  0.026991\n35   931  203.0        2     728     220.0      18.0        1519.0  0.011850\n36   948  220.0        2     728     220.0       1.0        1519.0  0.000658\n37  1045  200.0        1    1245     286.0      87.0        1921.0  0.045289\n38  1050  195.0        1    1245     286.0      92.0        1921.0  0.047892\n39  1096  149.0        1    1245     286.0     138.0        1921.0  0.071838\n40  1168   77.0        1    1245     286.0     210.0        1921.0  0.109318\n41  1187   58.0        1    1245     286.0     229.0        1921.0  0.119209\n42  1200   45.0        1    1245     286.0     242.0        1921.0  0.125976\n43  1211   34.0        1    1245     286.0     253.0        1921.0  0.131702\n44  1262   17.0        1    1245     286.0     270.0        1921.0  0.140552\n45  1346  101.0        1    1245     286.0     186.0        1921.0  0.096825\n46  1364  119.0        1    1245     286.0     168.0        1921.0  0.087454\n47  1487  242.0        1    1245     286.0      45.0        1921.0  0.023425\n48  1531  286.0        1    1245     286.0       1.0        1921.0  0.000521",
      "text/html": "<div>\n<style scoped>\n    .dataframe tbody tr th:only-of-type {\n        vertical-align: middle;\n    }\n\n    .dataframe tbody tr th {\n        vertical-align: top;\n    }\n\n    .dataframe thead th {\n        text-align: right;\n    }\n</style>\n<table border=\"1\" class=\"dataframe\">\n  <thead>\n    <tr style=\"text-align: right;\">\n      <th></th>\n      <th>N</th>\n      <th>dist</th>\n      <th>cluster</th>\n      <th>center</th>\n      <th>max_dist</th>\n      <th>new_dist</th>\n      <th>new_sum_dist</th>\n      <th>prob</th>\n    </tr>\n  </thead>\n  <tbody>\n    <tr>\n      <th>0</th>\n      <td>27</td>\n      <td>260.0</td>\n      <td>0</td>\n      <td>287</td>\n      <td>260.0</td>\n      <td>1.0</td>\n      <td>2748.0</td>\n      <td>0.000364</td>\n    </tr>\n    <tr>\n      <th>1</th>\n      <td>32</td>\n      <td>255.0</td>\n      <td>0</td>\n      <td>287</td>\n      <td>260.0</td>\n      <td>6.0</td>\n      <td>2748.0</td>\n      <td>0.002183</td>\n    </tr>\n    <tr>\n      <th>2</th>\n      <td>57</td>\n      <td>230.0</td>\n      <td>0</td>\n      <td>287</td>\n      <td>260.0</td>\n      <td>31.0</td>\n      <td>2748.0</td>\n      <td>0.011281</td>\n    </tr>\n    <tr>\n      <th>3</th>\n      <td>97</td>\n      <td>190.0</td>\n      <td>0</td>\n      <td>287</td>\n      <td>260.0</td>\n      <td>71.0</td>\n      <td>2748.0</td>\n      <td>0.025837</td>\n    </tr>\n    <tr>\n      <th>4</th>\n      <td>141</td>\n      <td>146.0</td>\n      <td>0</td>\n      <td>287</td>\n      <td>260.0</td>\n      <td>115.0</td>\n      <td>2748.0</td>\n      <td>0.041849</td>\n    </tr>\n    <tr>\n      <th>5</th>\n      <td>181</td>\n      <td>106.0</td>\n      <td>0</td>\n      <td>287</td>\n      <td>260.0</td>\n      <td>155.0</td>\n      <td>2748.0</td>\n      <td>0.056405</td>\n    </tr>\n    <tr>\n      <th>6</th>\n      <td>187</td>\n      <td>100.0</td>\n      <td>0</td>\n      <td>287</td>\n      <td>260.0</td>\n      <td>161.0</td>\n      <td>2748.0</td>\n      <td>0.058588</td>\n    </tr>\n    <tr>\n      <th>7</th>\n      <td>225</td>\n      <td>62.0</td>\n      <td>0</td>\n      <td>287</td>\n      <td>260.0</td>\n      <td>199.0</td>\n      <td>2748.0</td>\n      <td>0.072416</td>\n    </tr>\n    <tr>\n      <th>8</th>\n      <td>270</td>\n      <td>17.0</td>\n      <td>0</td>\n      <td>287</td>\n      <td>260.0</td>\n      <td>244.0</td>\n      <td>2748.0</td>\n      <td>0.088792</td>\n    </tr>\n    <tr>\n      <th>9</th>\n      <td>299</td>\n      <td>12.0</td>\n      <td>0</td>\n      <td>287</td>\n      <td>260.0</td>\n      <td>249.0</td>\n      <td>2748.0</td>\n      <td>0.090611</td>\n    </tr>\n    <tr>\n      <th>10</th>\n      <td>299</td>\n      <td>12.0</td>\n      <td>0</td>\n      <td>287</td>\n      <td>260.0</td>\n      <td>249.0</td>\n      <td>2748.0</td>\n      <td>0.090611</td>\n    </tr>\n    <tr>\n      <th>11</th>\n      <td>352</td>\n      <td>65.0</td>\n      <td>0</td>\n      <td>287</td>\n      <td>260.0</td>\n      <td>196.0</td>\n      <td>2748.0</td>\n      <td>0.071325</td>\n    </tr>\n    <tr>\n      <th>12</th>\n      <td>363</td>\n      <td>76.0</td>\n      <td>0</td>\n      <td>287</td>\n      <td>260.0</td>\n      <td>185.0</td>\n      <td>2748.0</td>\n      <td>0.067322</td>\n    </tr>\n    <tr>\n      <th>13</th>\n      <td>402</td>\n      <td>115.0</td>\n      <td>0</td>\n      <td>287</td>\n      <td>260.0</td>\n      <td>146.0</td>\n      <td>2748.0</td>\n      <td>0.053130</td>\n    </tr>\n    <tr>\n      <th>14</th>\n      <td>423</td>\n      <td>136.0</td>\n      <td>0</td>\n      <td>287</td>\n      <td>260.0</td>\n      <td>125.0</td>\n      <td>2748.0</td>\n      <td>0.045488</td>\n    </tr>\n    <tr>\n      <th>15</th>\n      <td>428</td>\n      <td>141.0</td>\n      <td>0</td>\n      <td>287</td>\n      <td>260.0</td>\n      <td>120.0</td>\n      <td>2748.0</td>\n      <td>0.043668</td>\n    </tr>\n    <tr>\n      <th>16</th>\n      <td>429</td>\n      <td>142.0</td>\n      <td>0</td>\n      <td>287</td>\n      <td>260.0</td>\n      <td>119.0</td>\n      <td>2748.0</td>\n      <td>0.043304</td>\n    </tr>\n    <tr>\n      <th>17</th>\n      <td>431</td>\n      <td>144.0</td>\n      <td>0</td>\n      <td>287</td>\n      <td>260.0</td>\n      <td>117.0</td>\n      <td>2748.0</td>\n      <td>0.042576</td>\n    </tr>\n    <tr>\n      <th>18</th>\n      <td>456</td>\n      <td>169.0</td>\n      <td>0</td>\n      <td>287</td>\n      <td>260.0</td>\n      <td>92.0</td>\n      <td>2748.0</td>\n      <td>0.033479</td>\n    </tr>\n    <tr>\n      <th>19</th>\n      <td>461</td>\n      <td>174.0</td>\n      <td>0</td>\n      <td>287</td>\n      <td>260.0</td>\n      <td>87.0</td>\n      <td>2748.0</td>\n      <td>0.031659</td>\n    </tr>\n    <tr>\n      <th>20</th>\n      <td>468</td>\n      <td>181.0</td>\n      <td>0</td>\n      <td>287</td>\n      <td>260.0</td>\n      <td>80.0</td>\n      <td>2748.0</td>\n      <td>0.029112</td>\n    </tr>\n    <tr>\n      <th>21</th>\n      <td>516</td>\n      <td>212.0</td>\n      <td>2</td>\n      <td>728</td>\n      <td>220.0</td>\n      <td>9.0</td>\n      <td>1519.0</td>\n      <td>0.005925</td>\n    </tr>\n    <tr>\n      <th>22</th>\n      <td>531</td>\n      <td>197.0</td>\n      <td>2</td>\n      <td>728</td>\n      <td>220.0</td>\n      <td>24.0</td>\n      <td>1519.0</td>\n      <td>0.015800</td>\n    </tr>\n    <tr>\n      <th>23</th>\n      <td>545</td>\n      <td>183.0</td>\n      <td>2</td>\n      <td>728</td>\n      <td>220.0</td>\n      <td>38.0</td>\n      <td>1519.0</td>\n      <td>0.025016</td>\n    </tr>\n    <tr>\n      <th>24</th>\n      <td>547</td>\n      <td>181.0</td>\n      <td>2</td>\n      <td>728</td>\n      <td>220.0</td>\n      <td>40.0</td>\n      <td>1519.0</td>\n      <td>0.026333</td>\n    </tr>\n    <tr>\n      <th>25</th>\n      <td>633</td>\n      <td>95.0</td>\n      <td>2</td>\n      <td>728</td>\n      <td>220.0</td>\n      <td>126.0</td>\n      <td>1519.0</td>\n      <td>0.082949</td>\n    </tr>\n    <tr>\n      <th>26</th>\n      <td>683</td>\n      <td>45.0</td>\n      <td>2</td>\n      <td>728</td>\n      <td>220.0</td>\n      <td>176.0</td>\n      <td>1519.0</td>\n      <td>0.115866</td>\n    </tr>\n    <tr>\n      <th>27</th>\n      <td>685</td>\n      <td>43.0</td>\n      <td>2</td>\n      <td>728</td>\n      <td>220.0</td>\n      <td>178.0</td>\n      <td>1519.0</td>\n      <td>0.117182</td>\n    </tr>\n    <tr>\n      <th>28</th>\n      <td>697</td>\n      <td>31.0</td>\n      <td>2</td>\n      <td>728</td>\n      <td>220.0</td>\n      <td>190.0</td>\n      <td>1519.0</td>\n      <td>0.125082</td>\n    </tr>\n    <tr>\n      <th>29</th>\n      <td>713</td>\n      <td>15.0</td>\n      <td>2</td>\n      <td>728</td>\n      <td>220.0</td>\n      <td>206.0</td>\n      <td>1519.0</td>\n      <td>0.135616</td>\n    </tr>\n    <tr>\n      <th>30</th>\n      <td>796</td>\n      <td>68.0</td>\n      <td>2</td>\n      <td>728</td>\n      <td>220.0</td>\n      <td>153.0</td>\n      <td>1519.0</td>\n      <td>0.100724</td>\n    </tr>\n    <tr>\n      <th>31</th>\n      <td>816</td>\n      <td>88.0</td>\n      <td>2</td>\n      <td>728</td>\n      <td>220.0</td>\n      <td>133.0</td>\n      <td>1519.0</td>\n      <td>0.087558</td>\n    </tr>\n    <tr>\n      <th>32</th>\n      <td>829</td>\n      <td>101.0</td>\n      <td>2</td>\n      <td>728</td>\n      <td>220.0</td>\n      <td>120.0</td>\n      <td>1519.0</td>\n      <td>0.078999</td>\n    </tr>\n    <tr>\n      <th>33</th>\n      <td>883</td>\n      <td>155.0</td>\n      <td>2</td>\n      <td>728</td>\n      <td>220.0</td>\n      <td>66.0</td>\n      <td>1519.0</td>\n      <td>0.043450</td>\n    </tr>\n    <tr>\n      <th>34</th>\n      <td>908</td>\n      <td>180.0</td>\n      <td>2</td>\n      <td>728</td>\n      <td>220.0</td>\n      <td>41.0</td>\n      <td>1519.0</td>\n      <td>0.026991</td>\n    </tr>\n    <tr>\n      <th>35</th>\n      <td>931</td>\n      <td>203.0</td>\n      <td>2</td>\n      <td>728</td>\n      <td>220.0</td>\n      <td>18.0</td>\n      <td>1519.0</td>\n      <td>0.011850</td>\n    </tr>\n    <tr>\n      <th>36</th>\n      <td>948</td>\n      <td>220.0</td>\n      <td>2</td>\n      <td>728</td>\n      <td>220.0</td>\n      <td>1.0</td>\n      <td>1519.0</td>\n      <td>0.000658</td>\n    </tr>\n    <tr>\n      <th>37</th>\n      <td>1045</td>\n      <td>200.0</td>\n      <td>1</td>\n      <td>1245</td>\n      <td>286.0</td>\n      <td>87.0</td>\n      <td>1921.0</td>\n      <td>0.045289</td>\n    </tr>\n    <tr>\n      <th>38</th>\n      <td>1050</td>\n      <td>195.0</td>\n      <td>1</td>\n      <td>1245</td>\n      <td>286.0</td>\n      <td>92.0</td>\n      <td>1921.0</td>\n      <td>0.047892</td>\n    </tr>\n    <tr>\n      <th>39</th>\n      <td>1096</td>\n      <td>149.0</td>\n      <td>1</td>\n      <td>1245</td>\n      <td>286.0</td>\n      <td>138.0</td>\n      <td>1921.0</td>\n      <td>0.071838</td>\n    </tr>\n    <tr>\n      <th>40</th>\n      <td>1168</td>\n      <td>77.0</td>\n      <td>1</td>\n      <td>1245</td>\n      <td>286.0</td>\n      <td>210.0</td>\n      <td>1921.0</td>\n      <td>0.109318</td>\n    </tr>\n    <tr>\n      <th>41</th>\n      <td>1187</td>\n      <td>58.0</td>\n      <td>1</td>\n      <td>1245</td>\n      <td>286.0</td>\n      <td>229.0</td>\n      <td>1921.0</td>\n      <td>0.119209</td>\n    </tr>\n    <tr>\n      <th>42</th>\n      <td>1200</td>\n      <td>45.0</td>\n      <td>1</td>\n      <td>1245</td>\n      <td>286.0</td>\n      <td>242.0</td>\n      <td>1921.0</td>\n      <td>0.125976</td>\n    </tr>\n    <tr>\n      <th>43</th>\n      <td>1211</td>\n      <td>34.0</td>\n      <td>1</td>\n      <td>1245</td>\n      <td>286.0</td>\n      <td>253.0</td>\n      <td>1921.0</td>\n      <td>0.131702</td>\n    </tr>\n    <tr>\n      <th>44</th>\n      <td>1262</td>\n      <td>17.0</td>\n      <td>1</td>\n      <td>1245</td>\n      <td>286.0</td>\n      <td>270.0</td>\n      <td>1921.0</td>\n      <td>0.140552</td>\n    </tr>\n    <tr>\n      <th>45</th>\n      <td>1346</td>\n      <td>101.0</td>\n      <td>1</td>\n      <td>1245</td>\n      <td>286.0</td>\n      <td>186.0</td>\n      <td>1921.0</td>\n      <td>0.096825</td>\n    </tr>\n    <tr>\n      <th>46</th>\n      <td>1364</td>\n      <td>119.0</td>\n      <td>1</td>\n      <td>1245</td>\n      <td>286.0</td>\n      <td>168.0</td>\n      <td>1921.0</td>\n      <td>0.087454</td>\n    </tr>\n    <tr>\n      <th>47</th>\n      <td>1487</td>\n      <td>242.0</td>\n      <td>1</td>\n      <td>1245</td>\n      <td>286.0</td>\n      <td>45.0</td>\n      <td>1921.0</td>\n      <td>0.023425</td>\n    </tr>\n    <tr>\n      <th>48</th>\n      <td>1531</td>\n      <td>286.0</td>\n      <td>1</td>\n      <td>1245</td>\n      <td>286.0</td>\n      <td>1.0</td>\n      <td>1921.0</td>\n      <td>0.000521</td>\n    </tr>\n  </tbody>\n</table>\n</div>"
     },
     "execution_count": 218,
     "metadata": {},
     "output_type": "execute_result"
    }
   ],
   "source": [
    "data_pd['prob'] = data_pd['new_dist']/data_pd['new_sum_dist']\n",
    "data_pd"
   ],
   "metadata": {
    "collapsed": false
   }
  },
  {
   "cell_type": "markdown",
   "source": [
    "# 3. DA\n",
    "## 3.1 N_news分配\n",
    "1. 据cluster大小分配抽样规模,独立的从每个cluster中oversample"
   ],
   "metadata": {
    "collapsed": false
   }
  },
  {
   "cell_type": "code",
   "execution_count": 219,
   "outputs": [
    {
     "data": {
      "text/plain": "array([10,  6,  8])"
     },
     "execution_count": 219,
     "metadata": {},
     "output_type": "execute_result"
    }
   ],
   "source": [
    "\n",
    "# N_news = int(P*len(data))\n",
    "\n",
    "# 得到每个cluster的规模\n",
    "cluster_size = np.array(data_pd.groupby(\"cluster\").count().iloc[:,0])\n",
    "# 根据cluster大小分配抽样规模\n",
    "N_news_ls = np.array(cluster_size*P,dtype=int)\n",
    "N_news_ls"
   ],
   "metadata": {
    "collapsed": false
   }
  },
  {
   "cell_type": "markdown",
   "source": [
    "## 3.2 oversample"
   ],
   "metadata": {
    "collapsed": false
   }
  },
  {
   "cell_type": "code",
   "execution_count": 220,
   "outputs": [
    {
     "data": {
      "text/plain": "True"
     },
     "execution_count": 220,
     "metadata": {},
     "output_type": "execute_result"
    }
   ],
   "source": [
    "new_data = pd.DataFrame()       # 新生成的‘N’\n",
    "\n",
    "for i in range(kmeans.n_clusters):\n",
    "    # Get all data in cluster i\n",
    "\n",
    "    data_i = data_pd[data_pd.loc[:,'cluster'] == i]\n",
    "    data_i = data_i.reset_index(drop=True)\n",
    "    # 降序排序,并且重新index一下\n",
    "    data_i.sort_values(by='prob',ascending = False,inplace = True,ignore_index = True)\n",
    "\n",
    "    # Sample according to the prob\n",
    "    new_idx = random.choice(a = data_i.shape[0], p = data_i.prob,size=N_news_ls[i])\n",
    "    new_data_i = data_i.loc[new_idx,'N'].reset_index(drop=True)\n",
    "\n",
    "    new_data = pd.concat([new_data,pd.DataFrame(new_data_i)],axis=0)\n",
    "\n",
    "new_data.reset_index(drop=True, inplace=True)\n",
    "new_data.shape[0] == N_news_ls.sum()"
   ],
   "metadata": {
    "collapsed": false
   }
  },
  {
   "cell_type": "markdown",
   "source": [
    "- 可视化"
   ],
   "metadata": {
    "collapsed": false
   }
  },
  {
   "cell_type": "code",
   "execution_count": 221,
   "outputs": [
    {
     "data": {
      "text/plain": "<Figure size 2000x500 with 1 Axes>",
      "image/png": "[encoded data removed]"
     },
     "metadata": {},
     "output_type": "display_data"
    }
   ],
   "source": [
    "# 可视化\n",
    "fig = plt.figure(1,figsize=(20,5))\n",
    "ax = fig.add_subplot(111)\n",
    "\n",
    "ax.set_title('Kmeans')\n",
    "plt.xlabel('N')\n",
    "\n",
    "#画散点图\n",
    "y1 = np.zeros(data.shape)\n",
    "y2 = np.zeros(centers.shape)\n",
    "ax.scatter(data,y1,c='b',marker = ',')\n",
    "ax.scatter(centers,y2,c='r',marker = ',')\n",
    "\n",
    "# New added data\n",
    "y3 = np.zeros(new_data.shape)\n",
    "ax.scatter(new_data,y3,c='y',marker = ',')\n",
    "\n",
    "plt.show()"
   ],
   "metadata": {
    "collapsed": false
   }
  },
  {
   "cell_type": "markdown",
   "source": [
    "- 可视化两个分布"
   ],
   "metadata": {
    "collapsed": false
   }
  },
  {
   "cell_type": "code",
   "execution_count": 222,
   "outputs": [
    {
     "data": {
      "text/plain": "(200,)"
     },
     "execution_count": 222,
     "metadata": {},
     "output_type": "execute_result"
    }
   ],
   "source": [
    "x_value = np.random.randint(140,180,200)\n",
    "x2_value = np.random.randint(140,180,100)\n",
    "x_value.shape\n",
    "# plt.hist([x_value,x2_value],bins=10,stacked=True)"
   ],
   "metadata": {
    "collapsed": false
   }
  },
  {
   "cell_type": "code",
   "execution_count": 230,
   "outputs": [
    {
     "data": {
      "text/plain": "<Figure size 1200x600 with 2 Axes>",
      "image/png": "[encoded data removed]"
     },
     "metadata": {},
     "output_type": "display_data"
    }
   ],
   "source": [
    "# 可视化\n",
    "fig = plt.figure(figsize=(12,6))\n",
    "\n",
    "ax = fig.add_subplot(121)\n",
    "ax.set_title('before DA')\n",
    "plt.xlabel('N')\n",
    "ax.set_ylim([0,7])\n",
    "\n",
    "# hist\n",
    "data = np.squeeze(data)\n",
    "new_data = np.squeeze(new_data)\n",
    "x = [data]\n",
    "labels = ['before']\n",
    "ax.hist(x,bins = 100,stacked=True,label=labels)\n",
    "\n",
    "# # hist\n",
    "# plt.legend()\n",
    "# plt.show()\n",
    "\n",
    "ax = fig.add_subplot(122)\n",
    "ax.set_title('DA')\n",
    "plt.xlabel('N')\n",
    "\n",
    "# hist\n",
    "x = [data,new_data]\n",
    "labels = ['before','after']\n",
    "ax.hist(x,bins = 100,stacked=True,label=labels)\n",
    "\n",
    "# hist\n",
    "plt.legend()\n",
    "plt.show()"
   ],
   "metadata": {
    "collapsed": false
   }
  },
  {
   "cell_type": "code",
   "execution_count": 225,
   "outputs": [],
   "source": [],
   "metadata": {
    "collapsed": false
   }
  },
  {
   "cell_type": "code",
   "execution_count": null,
   "outputs": [],
   "source": [],
   "metadata": {
    "collapsed": false
   }
  }
 ],
 "metadata": {
  "kernelspec": {
   "display_name": "Python 3",
   "language": "python",
   "name": "python3"
  },
  "language_info": {
   "codemirror_mode": {
    "name": "ipython",
    "version": 2
   },
   "file_extension": ".py",
   "mimetype": "text/x-python",
   "name": "python",
   "nbconvert_exporter": "python",
   "pygments_lexer": "ipython2",
   "version": "2.7.6"
  }
 },
 "nbformat": 4,
 "nbformat_minor": 0
}
