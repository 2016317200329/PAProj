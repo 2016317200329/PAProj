{
 "cells": [
  {
   "cell_type": "code",
   "execution_count": 1,
   "metadata": {
    "collapsed": true
   },
   "outputs": [],
   "source": [
    "#!/usr/bin/env python\n",
    "# -*- coding: utf-8 -*-\n",
    "# @Time    : 2022/11/19 10:05\n",
    "# @Author  : Wang Yujia\n",
    "# @File    : data_extract_for_targets.ipynb\n",
    "# @Description : 为了target datas提取信息\n"
   ]
  },
  {
   "cell_type": "markdown",
   "source": [
    "# 1. Preparations\n",
    "## 1.1 全局设置\n",
    "1. input的`data_path`来自“data_extract_for_PT.ipynb”"
   ],
   "metadata": {
    "collapsed": false
   }
  },
  {
   "cell_type": "code",
   "execution_count": 44,
   "outputs": [],
   "source": [
    "data_path = \"../data/targets/target_data_original.csv\"\n",
    "\n",
    "# output path\n",
    "target_output_path = \"../data/targets/target_data_N.csv\"\n",
    "target_data_key_path = \"../data/targets/target_datakey.csv\"\n",
    "\n",
    "features = ['product_id', 'bidincrement', 'bidfee','retail']\n",
    "import pandas as pd\n",
    "import numpy as np\n",
    "from visdom import Visdom\n",
    "import csv"
   ],
   "metadata": {
    "collapsed": false
   }
  },
  {
   "cell_type": "markdown",
   "source": [
    "## 1.2 data 读取\n",
    "1. 读取data，保存data_key"
   ],
   "metadata": {
    "collapsed": false
   }
  },
  {
   "cell_type": "code",
   "execution_count": 30,
   "outputs": [
    {
     "data": {
      "text/plain": "numpy.int64"
     },
     "execution_count": 30,
     "metadata": {},
     "output_type": "execute_result"
    }
   ],
   "source": [
    "data = pd.read_csv(data_path, encoding=\"utf-8\")\n",
    "data.head()\n",
    "# type(data.product_id[0])"
   ],
   "metadata": {
    "collapsed": false
   }
  },
  {
   "cell_type": "code",
   "execution_count": 36,
   "outputs": [
    {
     "name": "stdout",
     "output_type": "stream",
     "text": [
      "target data中，一共包括 *1303* 个data keys\n"
     ]
    },
    {
     "data": {
      "text/plain": "   product_id  bidincrement  bidfee  retail\n0    10009881          0.15    0.75  169.99\n1    10006115          0.15    0.75  499.99\n2    10007148          0.15    0.75  299.99\n3    10007263          0.15    0.75   89.99\n4    10010575          0.15    0.75   59.99",
      "text/html": "<div>\n<style scoped>\n    .dataframe tbody tr th:only-of-type {\n        vertical-align: middle;\n    }\n\n    .dataframe tbody tr th {\n        vertical-align: top;\n    }\n\n    .dataframe thead th {\n        text-align: right;\n    }\n</style>\n<table border=\"1\" class=\"dataframe\">\n  <thead>\n    <tr style=\"text-align: right;\">\n      <th></th>\n      <th>product_id</th>\n      <th>bidincrement</th>\n      <th>bidfee</th>\n      <th>retail</th>\n    </tr>\n  </thead>\n  <tbody>\n    <tr>\n      <th>0</th>\n      <td>10009881</td>\n      <td>0.15</td>\n      <td>0.75</td>\n      <td>169.99</td>\n    </tr>\n    <tr>\n      <th>1</th>\n      <td>10006115</td>\n      <td>0.15</td>\n      <td>0.75</td>\n      <td>499.99</td>\n    </tr>\n    <tr>\n      <th>2</th>\n      <td>10007148</td>\n      <td>0.15</td>\n      <td>0.75</td>\n      <td>299.99</td>\n    </tr>\n    <tr>\n      <th>3</th>\n      <td>10007263</td>\n      <td>0.15</td>\n      <td>0.75</td>\n      <td>89.99</td>\n    </tr>\n    <tr>\n      <th>4</th>\n      <td>10010575</td>\n      <td>0.15</td>\n      <td>0.75</td>\n      <td>59.99</td>\n    </tr>\n  </tbody>\n</table>\n</div>"
     },
     "execution_count": 36,
     "metadata": {},
     "output_type": "execute_result"
    }
   ],
   "source": [
    "data_key = data[features].copy()\n",
    "data_key.drop_duplicates(inplace=True,ignore_index=True)\n",
    "data_key.to_csv(target_data_key_path,header=True, encoding=\"utf-8\",index=False)\n",
    "print(f\"target data中，一共包括 *{data_key.shape[0]}* 个data keys\")\n",
    "data_key.head()"
   ],
   "metadata": {
    "collapsed": false
   }
  },
  {
   "cell_type": "markdown",
   "source": [
    "## 1.3 functions about 'key'"
   ],
   "metadata": {
    "collapsed": false
   }
  },
  {
   "cell_type": "code",
   "execution_count": 37,
   "outputs": [],
   "source": [
    "# get key from i in 'data_key'\n",
    "def get_key_from_index(i,flag=\"NotStr\"):\n",
    "    if(flag == \"str\"):\n",
    "        key_i = list(data_key.iloc[i,:])\n",
    "        key_i_str = (str(int(key_i[0])),str(key_i[1]),str(key_i[2]),str(key_i[3]))   # 'product_id'是int类型\n",
    "        return key_i_str\n",
    "    else:\n",
    "        key_i = data_key.iloc[i,:]\n",
    "        return key_i\n",
    "\n",
    "def select_data_fromkey(key_i_str):\n",
    "    return data[(data['product_id'] == key_i_str[0]) & (data['bidincrement'] == key_i_str[1]) & (data['bidfee'] == key_i_str[2]) & (data['retail'] == key_i_str[3])].copy()"
   ],
   "metadata": {
    "collapsed": false
   }
  },
  {
   "cell_type": "markdown",
   "source": [
    "# 2. 整理\n",
    "1. 整理成一个[key]对应一个“N” vector的格式\n",
    "2. \"P\" vector也需要（画图），“N”是为了算MLE"
   ],
   "metadata": {
    "collapsed": false
   }
  },
  {
   "cell_type": "code",
   "execution_count": 38,
   "outputs": [
    {
     "name": "stdout",
     "output_type": "stream",
     "text": [
      "Done\n"
     ]
    }
   ],
   "source": [
    "P = {}\n",
    "N = {}\n",
    "env_str = 'P_targets'\n",
    "# viz = Visdom(env=env_str)\n",
    "print(\"Done\")"
   ],
   "metadata": {
    "collapsed": false
   }
  },
  {
   "cell_type": "code",
   "execution_count": 40,
   "outputs": [
    {
     "name": "stdout",
     "output_type": "stream",
     "text": [
      "Done\n"
     ]
    },
    {
     "data": {
      "text/plain": "1303"
     },
     "execution_count": 40,
     "metadata": {},
     "output_type": "execute_result"
    }
   ],
   "source": [
    "# data_key.shape[0]\n",
    "for i in range(0,data_key.shape[0]):\n",
    "    # i = 0\n",
    "    # get i_th data_key\n",
    "    key_i = get_key_from_index(i)\n",
    "    data_i = select_data_fromkey(key_i)\n",
    "    data_i.reset_index(drop=True,inplace=True)\n",
    "    data_i.sort_values(by='N',ignore_index=True,inplace=True)\n",
    "\n",
    "    key_i_str = get_key_from_index(i,\"str\")         # key for N\n",
    "    N[key_i_str] = np.array(data_i.loc[:,'N'])\n",
    "\n",
    "print(\"Done\")"
   ],
   "metadata": {
    "collapsed": false
   }
  },
  {
   "cell_type": "markdown",
   "source": [
    "# 3 save\n",
    "1. 保存结果以及viz环境"
   ],
   "metadata": {
    "collapsed": false
   }
  },
  {
   "cell_type": "code",
   "execution_count": null,
   "outputs": [],
   "source": [
    "# 保存整个环境\n",
    "viz.save(envs=[env_str])"
   ],
   "metadata": {
    "collapsed": false
   }
  },
  {
   "cell_type": "code",
   "execution_count": 45,
   "outputs": [
    {
     "name": "stdout",
     "output_type": "stream",
     "text": [
      "DONE\n"
     ]
    }
   ],
   "source": [
    "\n",
    "with open(target_output_path,\"w+\",encoding='utf—8',newline='') as f:\n",
    "    w= csv.DictWriter(f,fieldnames=['product_id','bidincrement','bidfee','retail','N'])\n",
    "    w.writeheader()\n",
    "\n",
    "    key=list(N.keys())\n",
    "    value =list(N.values())\n",
    "    for i in range(len(key)):\n",
    "        dic = {       #字典类型\n",
    "            'product_id':key[i][0],\n",
    "            'bidincrement':key[i][1],\n",
    "            'bidfee':key[i][2],\n",
    "            'retail':key[i][3],\n",
    "            'N': list(value[i])\n",
    "        }\n",
    "        w.writerow(dic)   #数据写入csv文件\n",
    "print(\"DONE\")"
   ],
   "metadata": {
    "collapsed": false
   }
  },
  {
   "cell_type": "code",
   "execution_count": null,
   "outputs": [],
   "source": [],
   "metadata": {
    "collapsed": false
   }
  }
 ],
 "metadata": {
  "kernelspec": {
   "display_name": "Python 3",
   "language": "python",
   "name": "python3"
  },
  "language_info": {
   "codemirror_mode": {
    "name": "ipython",
    "version": 2
   },
   "file_extension": ".py",
   "mimetype": "text/x-python",
   "name": "python",
   "nbconvert_exporter": "python",
   "pygments_lexer": "ipython2",
   "version": "2.7.6"
  }
 },
 "nbformat": 4,
 "nbformat_minor": 0
}
