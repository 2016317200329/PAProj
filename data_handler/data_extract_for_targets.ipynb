{
 "cells": [
  {
   "cell_type": "code",
   "execution_count": 72,
   "metadata": {
    "collapsed": true
   },
   "outputs": [],
   "source": [
    "#!/usr/bin/env python\n",
    "# -*- coding: utf-8 -*-\n",
    "# @Time    : 2022/11/19 10:05\n",
    "# @Author  : Wang Yujia\n",
    "# @File    : data_extract_for_targets.ipynb\n",
    "# @Description : 为了target datas提取信息，而且提取data_key"
   ]
  },
  {
   "cell_type": "markdown",
   "source": [
    "# 1. Preparations\n",
    "## 1.1 全局设置\n",
    "1. input的data包括那些duration过长的结果\n",
    "2. output一共`data_key.shape[0]`+1个文件"
   ],
   "metadata": {
    "collapsed": false
   }
  },
  {
   "cell_type": "code",
   "execution_count": 73,
   "outputs": [],
   "source": [
    "data_path = \"../data/datawithnp_2_selected.csv\"\n",
    "prod_embedding_output_path = \"../data/prod_embedding.csv\"\n",
    "\n",
    "# output path\n",
    "target_output_head= \"../data/targets/target_data_NP_\"\n",
    "target_output_tail= \".csv\"\n",
    "target_data_key_path = \"../data/target_datakey.csv\"\n",
    "\n",
    "features = ['id', 'bidincrement', 'bidfee','retail']\n",
    "import pandas as pd\n",
    "import numpy as np\n",
    "from visdom import Visdom\n",
    "import csv\n",
    "from tqdm import tqdm\n",
    "from IPython.display import clear_output"
   ],
   "metadata": {
    "collapsed": false
   }
  },
  {
   "cell_type": "markdown",
   "source": [
    "## 1.2 data读取与保存data_key"
   ],
   "metadata": {
    "collapsed": false
   }
  },
  {
   "cell_type": "code",
   "execution_count": 74,
   "outputs": [
    {
     "data": {
      "text/plain": "(   auction_id  product_id                                      item  \\\n 0       86827    10009602  sony-ericsson-s500i-unlocked-mysterious-   \n 1       87964    10009881            psp-slim-lite-sony-piano-black   \n 2       87965    10009881            psp-slim-lite-sony-piano-black   \n 3       88638    10006115  sony-ericsson-s500i-unlocked-mysterious-   \n 4       88639    10006115  sony-ericsson-s500i-unlocked-mysterious-   \n \n                                             desc  retail  price  finalprice  \\\n 0  Sony Ericsson S500i Unlocked Mysterious Green  499.99  13.35       13.35   \n 1               PSP Slim & Lite Sony Piano Black  169.99  74.70       74.70   \n 2               PSP Slim & Lite Sony Piano Black  169.99  83.10       83.10   \n 3  Sony Ericsson S500i Unlocked Mysterious Green  499.99  19.65       19.65   \n 4  Sony Ericsson S500i Unlocked Mysterious Green  499.99  47.10       47.10   \n \n    bidincrement  bidfee        winner  ...           endtime_str  \\\n 0          0.15    0.75       Racer11  ...  19:52 PDT 09-16-2008   \n 1          0.15    0.75        Cemo23  ...  11:17 PDT 08-28-2008   \n 2          0.15    0.75  Jacobsonnich  ...  22:52 PDT 11-07-2008   \n 3          0.15    0.75        Mokkis  ...  22:02 PDT 08-23-2008   \n 4          0.15    0.75  Superloeffel  ...  14:23 PDT 08-24-2008   \n \n    flg_click_only flg_beginnerauction  flg_fixedprice  flg_endprice  id    N  \\\n 0               0                   0               0             0   0   89   \n 1               0                   0               0             0   1  498   \n 2               0                   1               0             0   1  554   \n 3               0                   0               0             0   0  131   \n 4               0                   0               0             0   0  314   \n \n    cnt_uniq  cnt_n_2         P  \n 0        69        1  0.014493  \n 1        60        1  0.016667  \n 2        60        1  0.016667  \n 3        69        1  0.014493  \n 4        69        1  0.014493  \n \n [5 rows x 22 columns],\n (68324, 22))"
     },
     "execution_count": 74,
     "metadata": {},
     "output_type": "execute_result"
    }
   ],
   "source": [
    "data = pd.read_csv(data_path, encoding=\"utf-8\")\n",
    "data.head(),data.shape"
   ],
   "metadata": {
    "collapsed": false
   }
  },
  {
   "cell_type": "code",
   "execution_count": 75,
   "outputs": [
    {
     "name": "stdout",
     "output_type": "stream",
     "text": [
      "target data中，一共包括 *1196* 个data keys\n"
     ]
    },
    {
     "data": {
      "text/plain": "(   id  bidincrement  bidfee  retail\n 0   0          0.15    0.75  499.99\n 1   1          0.15    0.75  169.99\n 2   2          0.15    0.75  299.99\n 3   3          0.15    0.75   89.99\n 4   5          0.15    0.75   59.99,\n (1196, 4))"
     },
     "execution_count": 75,
     "metadata": {},
     "output_type": "execute_result"
    }
   ],
   "source": [
    "data_key = data[features].copy()\n",
    "data_key.drop_duplicates(inplace=True,ignore_index=True)\n",
    "# make sure int\n",
    "data_key['id'] = data_key['id'].astype(int)\n",
    "data_key.to_csv(target_data_key_path,header=True, encoding=\"utf-8\",index=False)\n",
    "print(f\"target data中，一共包括 *{data_key.shape[0]}* 个data keys\")\n",
    "data_key.head(),data_key.shape"
   ],
   "metadata": {
    "collapsed": false
   }
  },
  {
   "cell_type": "markdown",
   "source": [
    "## 1.3 functions about 'key'"
   ],
   "metadata": {
    "collapsed": false
   }
  },
  {
   "cell_type": "code",
   "execution_count": 76,
   "outputs": [],
   "source": [
    "# get key from i in 'data_key'\n",
    "def get_key_from_index(i,flag=\"NotStr\"):\n",
    "    if(flag == \"str\"):\n",
    "        key_i = list(data_key.iloc[i,:])\n",
    "        key_i_str = (str(int(key_i[0])),str(key_i[1]),str(key_i[2]),str(key_i[3]))   # 'product_id'是int类型\n",
    "        return key_i_str\n",
    "    else:\n",
    "        key_i = data_key.iloc[i,:]\n",
    "        return key_i\n",
    "\n",
    "def select_data_fromkey(key_i_str):\n",
    "    return data[(data['id'] == key_i_str[0]) & (data['bidincrement'] == key_i_str[1]) & (data['bidfee'] == key_i_str[2]) & (data['retail'] == key_i_str[3])].copy()"
   ],
   "metadata": {
    "collapsed": false
   }
  },
  {
   "cell_type": "markdown",
   "source": [
    "# 2. 整理与输出\n",
    "\n",
    "1. 整理成一个[key]对应一个“N” vector的格式\n",
    "    - 最后的data中不包括\"cnt_n_2\"这一列，\n",
    "2. 注意一定要按照`data_key`逐行保存csv，这样index可以对应\n"
   ],
   "metadata": {
    "collapsed": false
   }
  },
  {
   "cell_type": "code",
   "execution_count": 77,
   "outputs": [
    {
     "data": {
      "text/plain": "1196"
     },
     "execution_count": 77,
     "metadata": {},
     "output_type": "execute_result"
    }
   ],
   "source": [
    "plot_flag = 0\n",
    "if(plot_flag):\n",
    "    env_str = 'N_targets'\n",
    "    viz = Visdom(env=env_str)\n",
    "\n",
    "# col_names = ['id','bidincrement','bidfee','retail','N','P','cnt_n_2']\n",
    "col_names = ['N','P']\n",
    "\n",
    "data_key.shape[0]"
   ],
   "metadata": {
    "collapsed": false
   }
  },
  {
   "cell_type": "code",
   "execution_count": 79,
   "outputs": [
    {
     "name": "stderr",
     "output_type": "stream",
     "text": [
      "100%|██████████| 1196/1196 [00:03<00:00, 347.15it/s]"
     ]
    },
    {
     "name": "stdout",
     "output_type": "stream",
     "text": [
      "Done\n"
     ]
    },
    {
     "name": "stderr",
     "output_type": "stream",
     "text": [
      "\n"
     ]
    }
   ],
   "source": [
    "# data_key.shape[0]\n",
    "for i in tqdm(range(0,data_key.shape[0])):\n",
    "\n",
    "    # get i_th data_key\n",
    "    key_i = get_key_from_index(i)\n",
    "    data_i = select_data_fromkey(key_i)\n",
    "    data_i.reset_index(drop=True,inplace=True)\n",
    "    data_i.sort_values(by='N',ignore_index=True,inplace=True)\n",
    "    data_i_df = data_i[col_names]\n",
    "\n",
    "    # data_i_df = data_i_df.loc[data_i_df.index.repeat(data_i_df['cnt_n_2'])]\n",
    "    # get the filepath and output\n",
    "    target_output_path = target_output_head+str(i).zfill(4)+target_output_tail\n",
    "    data_i_df.to_csv(target_output_path,header=True,index=False,encoding=\"utf-8\")\n",
    "\n",
    "# clear_output()\n",
    "print(\"Done\")"
   ],
   "metadata": {
    "collapsed": false
   }
  },
  {
   "cell_type": "markdown",
   "source": [
    "# 4 save\n",
    "1. 保存结果以及viz环境"
   ],
   "metadata": {
    "collapsed": false
   }
  },
  {
   "cell_type": "code",
   "execution_count": null,
   "outputs": [],
   "source": [
    "# 保存整个环境\n",
    "if(plot_flag):\n",
    "    viz.save(envs=[env_str])"
   ],
   "metadata": {
    "collapsed": false
   }
  }
 ],
 "metadata": {
  "kernelspec": {
   "display_name": "Python 3",
   "language": "python",
   "name": "python3"
  },
  "language_info": {
   "codemirror_mode": {
    "name": "ipython",
    "version": 2
   },
   "file_extension": ".py",
   "mimetype": "text/x-python",
   "name": "python",
   "nbconvert_exporter": "python",
   "pygments_lexer": "ipython2",
   "version": "2.7.6"
  }
 },
 "nbformat": 4,
 "nbformat_minor": 0
}
