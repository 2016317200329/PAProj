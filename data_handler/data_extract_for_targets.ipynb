{
 "cells": [
  {
   "cell_type": "code",
   "execution_count": 1,
   "metadata": {
    "collapsed": true
   },
   "outputs": [],
   "source": [
    "#!/usr/bin/env python\n",
    "# -*- coding: utf-8 -*-\n",
    "# @Time    : 2022/11/19 10:05\n",
    "# @Author  : Wang Yujia\n",
    "# @File    : data_extract_for_targets.ipynb\n",
    "# @Description : 为了target datas提取信息"
   ]
  },
  {
   "cell_type": "markdown",
   "source": [
    "# 1. Preparations\n",
    "## 1.1 全局设置\n",
    "1. input的`data_path`来自“data_extract_for_PT.ipynb”"
   ],
   "metadata": {
    "collapsed": false
   }
  },
  {
   "cell_type": "code",
   "execution_count": 70,
   "outputs": [],
   "source": [
    "data_path = \"../data/targets/target_data_original.csv\"\n",
    "\n",
    "# output path\n",
    "target_output_path = \"../data/targets/target_data_NP.csv\"\n",
    "target_data_key_path = \"../data/targets/target_datakey.csv\"\n",
    "\n",
    "features = ['product_id', 'bidincrement', 'bidfee','retail']\n",
    "import pandas as pd\n",
    "import numpy as np\n",
    "from visdom import Visdom\n",
    "import csv"
   ],
   "metadata": {
    "collapsed": false
   }
  },
  {
   "cell_type": "markdown",
   "source": [
    "## 1.2 data 读取与清洗\n",
    "1. 读取data，保存data_key"
   ],
   "metadata": {
    "collapsed": false
   }
  },
  {
   "cell_type": "code",
   "execution_count": 63,
   "outputs": [
    {
     "data": {
      "text/plain": "   auction_id  product_id                                      item  \\\n0       87964    10009881            psp-slim-lite-sony-piano-black   \n1       87965    10009881            psp-slim-lite-sony-piano-black   \n2       88638    10006115  sony-ericsson-s500i-unlocked-mysterious-   \n3       88639    10006115  sony-ericsson-s500i-unlocked-mysterious-   \n4       89434    10007148  ipod-touch-apple-8gb-with-software-upgra   \n\n                                            desc  retail  price  finalprice  \\\n0               PSP Slim & Lite Sony Piano Black  169.99  74.70       74.70   \n1               PSP Slim & Lite Sony Piano Black  169.99  83.10       83.10   \n2  Sony Ericsson S500i Unlocked Mysterious Green  499.99  19.65       19.65   \n3  Sony Ericsson S500i Unlocked Mysterious Green  499.99  47.10       47.10   \n4     iPod Touch Apple 8GB with Software Upgrade  299.99  63.45       63.45   \n\n   bidincrement  bidfee        winner  ...           endtime_str  \\\n0          0.15    0.75        Cemo23  ...  11:17 PDT 08-28-2008   \n1          0.15    0.75  Jacobsonnich  ...  22:52 PDT 11-07-2008   \n2          0.15    0.75        Mokkis  ...  22:02 PDT 08-23-2008   \n3          0.15    0.75  Superloeffel  ...  14:23 PDT 08-24-2008   \n4          0.15    0.75     02bigwill  ...  10:56 PDT 08-22-2008   \n\n   flg_click_only flg_beginnerauction  flg_fixedprice  flg_endprice    N  \\\n0               0                   0               0             0  498   \n1               0                   1               0             0  554   \n2               0                   0               0             0  131   \n3               0                   0               0             0  314   \n4               0                   0               0             0  423   \n\n   cnt_uniq  cnt_n_2         P            T  \n0        21        1  0.047619  1128.266667  \n1        21        1  0.047619  1128.266667  \n2        33        1  0.030303  3328.266667  \n3        33        1  0.030303  3328.266667  \n4        49        1  0.020408  1994.933333  \n\n[5 rows x 22 columns]",
      "text/html": "<div>\n<style scoped>\n    .dataframe tbody tr th:only-of-type {\n        vertical-align: middle;\n    }\n\n    .dataframe tbody tr th {\n        vertical-align: top;\n    }\n\n    .dataframe thead th {\n        text-align: right;\n    }\n</style>\n<table border=\"1\" class=\"dataframe\">\n  <thead>\n    <tr style=\"text-align: right;\">\n      <th></th>\n      <th>auction_id</th>\n      <th>product_id</th>\n      <th>item</th>\n      <th>desc</th>\n      <th>retail</th>\n      <th>price</th>\n      <th>finalprice</th>\n      <th>bidincrement</th>\n      <th>bidfee</th>\n      <th>winner</th>\n      <th>...</th>\n      <th>endtime_str</th>\n      <th>flg_click_only</th>\n      <th>flg_beginnerauction</th>\n      <th>flg_fixedprice</th>\n      <th>flg_endprice</th>\n      <th>N</th>\n      <th>cnt_uniq</th>\n      <th>cnt_n_2</th>\n      <th>P</th>\n      <th>T</th>\n    </tr>\n  </thead>\n  <tbody>\n    <tr>\n      <th>0</th>\n      <td>87964</td>\n      <td>10009881</td>\n      <td>psp-slim-lite-sony-piano-black</td>\n      <td>PSP Slim &amp; Lite Sony Piano Black</td>\n      <td>169.99</td>\n      <td>74.70</td>\n      <td>74.70</td>\n      <td>0.15</td>\n      <td>0.75</td>\n      <td>Cemo23</td>\n      <td>...</td>\n      <td>11:17 PDT 08-28-2008</td>\n      <td>0</td>\n      <td>0</td>\n      <td>0</td>\n      <td>0</td>\n      <td>498</td>\n      <td>21</td>\n      <td>1</td>\n      <td>0.047619</td>\n      <td>1128.266667</td>\n    </tr>\n    <tr>\n      <th>1</th>\n      <td>87965</td>\n      <td>10009881</td>\n      <td>psp-slim-lite-sony-piano-black</td>\n      <td>PSP Slim &amp; Lite Sony Piano Black</td>\n      <td>169.99</td>\n      <td>83.10</td>\n      <td>83.10</td>\n      <td>0.15</td>\n      <td>0.75</td>\n      <td>Jacobsonnich</td>\n      <td>...</td>\n      <td>22:52 PDT 11-07-2008</td>\n      <td>0</td>\n      <td>1</td>\n      <td>0</td>\n      <td>0</td>\n      <td>554</td>\n      <td>21</td>\n      <td>1</td>\n      <td>0.047619</td>\n      <td>1128.266667</td>\n    </tr>\n    <tr>\n      <th>2</th>\n      <td>88638</td>\n      <td>10006115</td>\n      <td>sony-ericsson-s500i-unlocked-mysterious-</td>\n      <td>Sony Ericsson S500i Unlocked Mysterious Green</td>\n      <td>499.99</td>\n      <td>19.65</td>\n      <td>19.65</td>\n      <td>0.15</td>\n      <td>0.75</td>\n      <td>Mokkis</td>\n      <td>...</td>\n      <td>22:02 PDT 08-23-2008</td>\n      <td>0</td>\n      <td>0</td>\n      <td>0</td>\n      <td>0</td>\n      <td>131</td>\n      <td>33</td>\n      <td>1</td>\n      <td>0.030303</td>\n      <td>3328.266667</td>\n    </tr>\n    <tr>\n      <th>3</th>\n      <td>88639</td>\n      <td>10006115</td>\n      <td>sony-ericsson-s500i-unlocked-mysterious-</td>\n      <td>Sony Ericsson S500i Unlocked Mysterious Green</td>\n      <td>499.99</td>\n      <td>47.10</td>\n      <td>47.10</td>\n      <td>0.15</td>\n      <td>0.75</td>\n      <td>Superloeffel</td>\n      <td>...</td>\n      <td>14:23 PDT 08-24-2008</td>\n      <td>0</td>\n      <td>0</td>\n      <td>0</td>\n      <td>0</td>\n      <td>314</td>\n      <td>33</td>\n      <td>1</td>\n      <td>0.030303</td>\n      <td>3328.266667</td>\n    </tr>\n    <tr>\n      <th>4</th>\n      <td>89434</td>\n      <td>10007148</td>\n      <td>ipod-touch-apple-8gb-with-software-upgra</td>\n      <td>iPod Touch Apple 8GB with Software Upgrade</td>\n      <td>299.99</td>\n      <td>63.45</td>\n      <td>63.45</td>\n      <td>0.15</td>\n      <td>0.75</td>\n      <td>02bigwill</td>\n      <td>...</td>\n      <td>10:56 PDT 08-22-2008</td>\n      <td>0</td>\n      <td>0</td>\n      <td>0</td>\n      <td>0</td>\n      <td>423</td>\n      <td>49</td>\n      <td>1</td>\n      <td>0.020408</td>\n      <td>1994.933333</td>\n    </tr>\n  </tbody>\n</table>\n<p>5 rows × 22 columns</p>\n</div>"
     },
     "execution_count": 63,
     "metadata": {},
     "output_type": "execute_result"
    }
   ],
   "source": [
    "data = pd.read_csv(data_path, encoding=\"utf-8\")\n",
    "data.head()"
   ],
   "metadata": {
    "collapsed": false
   }
  },
  {
   "cell_type": "code",
   "execution_count": 61,
   "outputs": [
    {
     "name": "stdout",
     "output_type": "stream",
     "text": [
      "target data中，一共包括 *1268* 个data keys\n"
     ]
    },
    {
     "data": {
      "text/plain": "   product_id  bidincrement  bidfee  retail\n0    10009881          0.15    0.75  169.99\n1    10006115          0.15    0.75  499.99\n2    10007148          0.15    0.75  299.99\n3    10007263          0.15    0.75   89.99\n4    10010575          0.15    0.75   59.99",
      "text/html": "<div>\n<style scoped>\n    .dataframe tbody tr th:only-of-type {\n        vertical-align: middle;\n    }\n\n    .dataframe tbody tr th {\n        vertical-align: top;\n    }\n\n    .dataframe thead th {\n        text-align: right;\n    }\n</style>\n<table border=\"1\" class=\"dataframe\">\n  <thead>\n    <tr style=\"text-align: right;\">\n      <th></th>\n      <th>product_id</th>\n      <th>bidincrement</th>\n      <th>bidfee</th>\n      <th>retail</th>\n    </tr>\n  </thead>\n  <tbody>\n    <tr>\n      <th>0</th>\n      <td>10009881</td>\n      <td>0.15</td>\n      <td>0.75</td>\n      <td>169.99</td>\n    </tr>\n    <tr>\n      <th>1</th>\n      <td>10006115</td>\n      <td>0.15</td>\n      <td>0.75</td>\n      <td>499.99</td>\n    </tr>\n    <tr>\n      <th>2</th>\n      <td>10007148</td>\n      <td>0.15</td>\n      <td>0.75</td>\n      <td>299.99</td>\n    </tr>\n    <tr>\n      <th>3</th>\n      <td>10007263</td>\n      <td>0.15</td>\n      <td>0.75</td>\n      <td>89.99</td>\n    </tr>\n    <tr>\n      <th>4</th>\n      <td>10010575</td>\n      <td>0.15</td>\n      <td>0.75</td>\n      <td>59.99</td>\n    </tr>\n  </tbody>\n</table>\n</div>"
     },
     "execution_count": 61,
     "metadata": {},
     "output_type": "execute_result"
    }
   ],
   "source": [
    "data_key = data[features].copy()\n",
    "data_key.drop_duplicates(inplace=True,ignore_index=True)\n",
    "data_key.to_csv(target_data_key_path,header=True, encoding=\"utf-8\",index=False)\n",
    "print(f\"target data中，一共包括 *{data_key.shape[0]}* 个data keys\")\n",
    "data_key.head()"
   ],
   "metadata": {
    "collapsed": false
   }
  },
  {
   "cell_type": "markdown",
   "source": [
    "## 1.3 functions about 'key'"
   ],
   "metadata": {
    "collapsed": false
   }
  },
  {
   "cell_type": "code",
   "execution_count": 62,
   "outputs": [],
   "source": [
    "# get key from i in 'data_key'\n",
    "def get_key_from_index(i,flag=\"NotStr\"):\n",
    "    if(flag == \"str\"):\n",
    "        key_i = list(data_key.iloc[i,:])\n",
    "        key_i_str = (str(int(key_i[0])),str(key_i[1]),str(key_i[2]),str(key_i[3]))   # 'product_id'是int类型\n",
    "        return key_i_str\n",
    "    else:\n",
    "        key_i = data_key.iloc[i,:]\n",
    "        return key_i\n",
    "\n",
    "def select_data_fromkey(key_i_str):\n",
    "    return data[(data['product_id'] == key_i_str[0]) & (data['bidincrement'] == key_i_str[1]) & (data['bidfee'] == key_i_str[2]) & (data['retail'] == key_i_str[3])].copy()"
   ],
   "metadata": {
    "collapsed": false
   }
  },
  {
   "cell_type": "markdown",
   "source": [
    "# 2. 整理\n",
    "## 2.1 N\n",
    "1. 整理成一个[key]对应一个“N” vector的格式\n"
   ],
   "metadata": {
    "collapsed": false
   }
  },
  {
   "cell_type": "code",
   "execution_count": 64,
   "outputs": [
    {
     "name": "stdout",
     "output_type": "stream",
     "text": [
      "Done\n"
     ]
    }
   ],
   "source": [
    "N = {}\n",
    "env_str = 'N_targets'\n",
    "# viz = Visdom(env=env_str)\n",
    "print(\"Done\")"
   ],
   "metadata": {
    "collapsed": false
   }
  },
  {
   "cell_type": "code",
   "execution_count": 65,
   "outputs": [
    {
     "name": "stdout",
     "output_type": "stream",
     "text": [
      "Done\n"
     ]
    }
   ],
   "source": [
    "# data_key.shape[0]\n",
    "for i in range(0,data_key.shape[0]):\n",
    "    # i = 0\n",
    "    # get i_th data_key\n",
    "    key_i = get_key_from_index(i)\n",
    "    data_i = select_data_fromkey(key_i)\n",
    "    data_i.reset_index(drop=True,inplace=True)\n",
    "    data_i.sort_values(by='N',ignore_index=True,inplace=True)\n",
    "\n",
    "    key_i_str = get_key_from_index(i,\"str\")         # key for N\n",
    "    N[key_i_str] = np.array(data_i.loc[:,'N'])\n",
    "\n",
    "print(\"Done\")"
   ],
   "metadata": {
    "collapsed": false
   }
  },
  {
   "cell_type": "markdown",
   "source": [
    "## 2.2 P\n",
    "1. \"P\" vector也需要（画图），“N”是为了算MLE"
   ],
   "metadata": {
    "collapsed": false
   }
  },
  {
   "cell_type": "code",
   "execution_count": null,
   "outputs": [],
   "source": [
    "P = {}\n",
    "env_str = 'P_targets'\n",
    "# viz = Visdom(env=env_str)\n",
    "print(\"Done\")"
   ],
   "metadata": {
    "collapsed": false
   }
  },
  {
   "cell_type": "code",
   "execution_count": 69,
   "outputs": [
    {
     "name": "stdout",
     "output_type": "stream",
     "text": [
      "Done\n"
     ]
    }
   ],
   "source": [
    "# data_key.shape[0]\n",
    "for i in range(0,data_key.shape[0]):\n",
    "    # i = 0\n",
    "    # get i_th data_key\n",
    "    key_i = get_key_from_index(i)\n",
    "    data_i = select_data_fromkey(key_i)\n",
    "    data_i.reset_index(drop=True,inplace=True)\n",
    "    data_i.sort_values(by='N',ignore_index=True,inplace=True)\n",
    "\n",
    "    key_i_str = get_key_from_index(i,\"str\")         # key for P\n",
    "    P[key_i_str] = np.array(data_i.loc[:,'P'])\n",
    "print(\"Done\")"
   ],
   "metadata": {
    "collapsed": false
   }
  },
  {
   "cell_type": "markdown",
   "source": [
    "# 3 save\n",
    "1. 保存结果以及viz环境"
   ],
   "metadata": {
    "collapsed": false
   }
  },
  {
   "cell_type": "code",
   "execution_count": null,
   "outputs": [],
   "source": [
    "# 保存整个环境\n",
    "viz.save(envs=[env_str])"
   ],
   "metadata": {
    "collapsed": false
   }
  },
  {
   "cell_type": "code",
   "execution_count": 73,
   "outputs": [
    {
     "name": "stdout",
     "output_type": "stream",
     "text": [
      "DONE\n"
     ]
    }
   ],
   "source": [
    "\n",
    "with open(target_output_path,\"w+\",encoding='utf—8',newline='') as f:\n",
    "    w= csv.DictWriter(f,fieldnames=['product_id','bidincrement','bidfee','retail','N','P'])\n",
    "    w.writeheader()\n",
    "\n",
    "    key=list(N.keys())\n",
    "    value_N =list(N.values())\n",
    "    value_P =list(P.values())\n",
    "    for i in range(len(key)):\n",
    "        dic = {       #字典类型\n",
    "            'product_id':key[i][0],\n",
    "            'bidincrement':key[i][1],\n",
    "            'bidfee':key[i][2],\n",
    "            'retail':key[i][3],\n",
    "            'N': list(value_N[i]),\n",
    "            'P': list(value_P[i])\n",
    "        }\n",
    "        w.writerow(dic)   #数据写入csv文件\n",
    "print(\"DONE\")"
   ],
   "metadata": {
    "collapsed": false
   }
  },
  {
   "cell_type": "code",
   "execution_count": null,
   "outputs": [],
   "source": [],
   "metadata": {
    "collapsed": false
   }
  }
 ],
 "metadata": {
  "kernelspec": {
   "display_name": "Python 3",
   "language": "python",
   "name": "python3"
  },
  "language_info": {
   "codemirror_mode": {
    "name": "ipython",
    "version": 2
   },
   "file_extension": ".py",
   "mimetype": "text/x-python",
   "name": "python",
   "nbconvert_exporter": "python",
   "pygments_lexer": "ipython2",
   "version": "2.7.6"
  }
 },
 "nbformat": 4,
 "nbformat_minor": 0
}
