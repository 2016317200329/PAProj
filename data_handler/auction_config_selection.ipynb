{
 "cells": [
  {
   "cell_type": "markdown",
   "source": [
    "# 0. what for\n",
    "1. m和v固定的时候，real data上是否有多组对应的b与d？以此来研究当m和v固定时，b与d对于revenue的影响\n",
    "# 1."
   ],
   "metadata": {
    "collapsed": false
   }
  },
  {
   "cell_type": "code",
   "execution_count": 4,
   "metadata": {
    "collapsed": true
   },
   "outputs": [],
   "source": [
    "import os\n",
    "\n",
    "import numpy as np\n",
    "import pandas as pd\n",
    "from math import sqrt\n",
    "import torch\n",
    "import random\n",
    "from sklearn.metrics import mean_squared_error, mean_absolute_error\n",
    "\n",
    "# 人工数据集or真实数据集\n",
    "ARTIFICIAL = False\n",
    "# 是否包含voucher\n",
    "with_vou = False\n",
    "\n",
    "seed = 307\n",
    "\n",
    "noise_pct = 0.05  # 噪音占比:我们希望生成的data总体上最多浮动的百分比noise_pct\n",
    "SELECTED_thrd = 2\n",
    "\n",
    "target_path = \"../data/targets_all\"\n",
    "\n",
    "data_key_path = \"../data/target_datakey_all.csv\"\n",
    "target_ER_path = \"../data/revenue/target_ER.csv\"\n",
    "GT_1_ER_path = \"../data/revenue/target_GT_1_ER.csv\"\n",
    "GT_2_ER_path = \"../data/revenue/target_GT_2_ER_seed=\"+str(seed)+\".csv\"\n",
    "MDN_ER_path = \"../data/revenue/target_MDN_ER_seed=\"+str(seed)+\".csv\"\n",
    "\n",
    "\n",
    "if with_vou:\n",
    "    file_with_vou = \"\"\n",
    "else:\n",
    "    file_with_vou = \"_wo_vou\"\n",
    "\n",
    "# Data path\n",
    "if ARTIFICIAL:\n",
    "\n",
    "    target_path_metric = \"../data/artificial_targets_v2_\" + \"noise=\" + str(noise_pct)\n",
    "\n",
    "    NLL_metric_path = \"../data/GT_metric/NLL_metric_GT_Tgt=1_e30_all_\" + \"artificial_targets_v2_\" + \"noise=\" + str(\n",
    "    noise_pct) + \"_seed=\" + str(seed) + \".csv\"\n",
    "\n",
    "else:\n",
    "\n",
    "    target_path_metric = \"../data/targets_all\"\n",
    "    NLL_metric_path = \"../data/GT_metric/NLL_metric_GT_Tgt=1_e30_seed=\"+str(seed)+\".csv\"\n",
    "\n",
    "# output path\n",
    "setting_list = \"../data/revenue/setting_bd_\"+str(SELECTED_thrd)+\".csv\"\n",
    "# 只保留同一个(m,v)对应了多组形成对比的(b,d)的config\n",
    "setting_selected_list = \"../data/revenue/setting_bd_\"+str(SELECTED_thrd)+\"_selected.csv\"\n",
    "# by hand, 筛选\n",
    "setting_analysis = \"../data/revenue/setting_bd_\"+str(SELECTED_thrd)+\"_selected_analysis_seed=\"+str(seed)+\".csv\"\n",
    "\n",
    "col_mv = ['desc','retail']\n",
    "col_ER = ['revenue','retail','odds']\n",
    "col_config = ['desc','bidincrement','bidfee','retail','flg_endprice']\n"
   ]
  },
  {
   "cell_type": "code",
   "execution_count": 5,
   "outputs": [
    {
     "data": {
      "text/plain": "                                            desc  bidincrement  bidfee  \\\n0  Sony Ericsson S500i Unlocked Mysterious Green          0.15    0.75   \n1               PSP Slim & Lite Sony Piano Black          0.15    0.75   \n2     iPod Touch Apple 8GB with Software Upgrade          0.15    0.75   \n3      Logitech Cordless Wave Keyboard and Mouse          0.15    0.75   \n4                     SanDisk Cruzer Contour 4GB          0.15    0.75   \n\n   retail  flg_endprice  \n0  499.99             0  \n1  169.99             0  \n2  299.99             0  \n3   89.99             0  \n4   59.99             0  ",
      "text/html": "<div>\n<style scoped>\n    .dataframe tbody tr th:only-of-type {\n        vertical-align: middle;\n    }\n\n    .dataframe tbody tr th {\n        vertical-align: top;\n    }\n\n    .dataframe thead th {\n        text-align: right;\n    }\n</style>\n<table border=\"1\" class=\"dataframe\">\n  <thead>\n    <tr style=\"text-align: right;\">\n      <th></th>\n      <th>desc</th>\n      <th>bidincrement</th>\n      <th>bidfee</th>\n      <th>retail</th>\n      <th>flg_endprice</th>\n    </tr>\n  </thead>\n  <tbody>\n    <tr>\n      <th>0</th>\n      <td>Sony Ericsson S500i Unlocked Mysterious Green</td>\n      <td>0.15</td>\n      <td>0.75</td>\n      <td>499.99</td>\n      <td>0</td>\n    </tr>\n    <tr>\n      <th>1</th>\n      <td>PSP Slim &amp; Lite Sony Piano Black</td>\n      <td>0.15</td>\n      <td>0.75</td>\n      <td>169.99</td>\n      <td>0</td>\n    </tr>\n    <tr>\n      <th>2</th>\n      <td>iPod Touch Apple 8GB with Software Upgrade</td>\n      <td>0.15</td>\n      <td>0.75</td>\n      <td>299.99</td>\n      <td>0</td>\n    </tr>\n    <tr>\n      <th>3</th>\n      <td>Logitech Cordless Wave Keyboard and Mouse</td>\n      <td>0.15</td>\n      <td>0.75</td>\n      <td>89.99</td>\n      <td>0</td>\n    </tr>\n    <tr>\n      <th>4</th>\n      <td>SanDisk Cruzer Contour 4GB</td>\n      <td>0.15</td>\n      <td>0.75</td>\n      <td>59.99</td>\n      <td>0</td>\n    </tr>\n  </tbody>\n</table>\n</div>"
     },
     "execution_count": 5,
     "metadata": {},
     "output_type": "execute_result"
    }
   ],
   "source": [
    "data_key = pd.read_csv(data_key_path,encoding=\"utf-8\")\n",
    "target_ER = pd.read_csv(target_ER_path,encoding=\"utf-8\")\n",
    "GT_1_ER = pd.read_csv(GT_1_ER_path,encoding=\"utf-8\")\n",
    "GT_2_ER = pd.read_csv(GT_2_ER_path,encoding=\"utf-8\")\n",
    "MDN_ER = pd.read_csv(MDN_ER_path,encoding=\"utf-8\")\n",
    "LEN_ALL = data_key.shape[0]\n",
    "data_key.head()"
   ],
   "metadata": {
    "collapsed": false
   }
  },
  {
   "cell_type": "code",
   "execution_count": 6,
   "outputs": [
    {
     "data": {
      "text/plain": "307"
     },
     "execution_count": 6,
     "metadata": {},
     "output_type": "execute_result"
    }
   ],
   "source": [
    "\n",
    "\n",
    "def setup_seed(seed):\n",
    "    \"\"\"\n",
    "    Set seed\n",
    "    Args:\n",
    "        seed:\n",
    "    \"\"\"\n",
    "    torch.manual_seed(seed)\n",
    "    torch.cuda.manual_seed_all(seed)\n",
    "    np.random.seed(seed)\n",
    "    random.seed(seed)\n",
    "    torch.backends.cudnn.deterministic = True\n",
    "\n",
    "setup_seed(seed)\n",
    "\n",
    "seed"
   ],
   "metadata": {
    "collapsed": false
   }
  },
  {
   "cell_type": "code",
   "execution_count": 219,
   "outputs": [
    {
     "data": {
      "text/plain": "array([ 207, 1191,   62, 1260, 1250, 1166, 1230, 1049, 1238,  660,  872,\n        215,  662, 1018,  256,  722,   18, 1174, 1258,  507, 1074,  771,\n        687,  762,  107,   10,  199,  260,  761,  859,  705,  430,  407,\n        288,   80,  514,  368,  888,  158,  637,  875,   37,  695,  844,\n        703,  421,  795,   28,  912,   53,  316,  892,    0,  150,  201,\n        165,  425,  714,  457, 1186,  806,  878,  346,  579,  909, 1251,\n        697, 1109,   70, 1256,  284, 1003, 1035,  254,  206,  509,  379,\n         54,  267,  327,  777, 1147,  924,  478,   25,  869,    4,  931,\n        749, 1000,  161,  799,  857,  311, 1214,  961,  883,  427, 1006,\n        245,   91, 1187, 1066,  981, 1046,  527,  782,  486,  440,  273,\n         97,  624,  925,  125,  108,   29,  960,  467,  303,  958,  341,\n        455,  371, 1130,  319,  578,  932,  689])"
     },
     "execution_count": 219,
     "metadata": {},
     "output_type": "execute_result"
    }
   ],
   "source": [
    "train_pct = 0.7\n",
    "vali_pct = 0.2\n",
    "\n",
    "# 使用全部的data\n",
    "shuffled_indices = np.random.permutation(data_key.shape[0])\n",
    "\n",
    "train_idx = shuffled_indices[:int(train_pct*LEN_ALL)]\n",
    "# train_idx = shuffled_indices\n",
    "tmp = int((train_pct+vali_pct)*LEN_ALL)\n",
    "val_idx = shuffled_indices[int(train_pct*LEN_ALL):tmp]\n",
    "test_idx = shuffled_indices[tmp:]\n",
    "test_idx"
   ],
   "metadata": {
    "collapsed": false
   }
  },
  {
   "cell_type": "markdown",
   "source": [
    "# 2. 筛选m和v，对应的b与d\n",
    "1. 有多少组m和v？他们最多出现了几次？\n",
    "    - 出现次数>=SELECTED_thrd"
   ],
   "metadata": {
    "collapsed": false
   }
  },
  {
   "cell_type": "code",
   "execution_count": 220,
   "outputs": [
    {
     "name": "stdout",
     "output_type": "stream",
     "text": [
      " ‘size’ > 2的一共有 88\n"
     ]
    }
   ],
   "source": [
    "data_mv = data_key.groupby(by=col_mv,as_index=False)\n",
    "data_mv_df = pd.DataFrame(data_mv.size())\n",
    "# 按照size排序\n",
    "# data_mv_df.sort_values(by=['size'],ascending=False,inplace=True)\n",
    "# data_mv_df.head()\n",
    "data_mv_selected = data_mv_df[data_mv_df['size']>=SELECTED_thrd]\n",
    "data_mv_selected.reset_index(inplace=True,drop=True)\n",
    "print(f\" ‘size’ > {SELECTED_thrd}的一共有 {data_mv_selected.shape[0]}\")\n",
    "# data_mv_selected"
   ],
   "metadata": {
    "collapsed": false
   }
  },
  {
   "cell_type": "code",
   "execution_count": 221,
   "outputs": [
    {
     "data": {
      "text/plain": "                       desc   retail  size\n0              $1,000 Cash!  1000.00     2\n1  $799 iPhone 3G Gift Card   799.99     2\n2                 $80 Cash!    80.00     2\n3           20 Bids Voucher    12.00     4\n4          300 Bids Voucher   180.00     4",
      "text/html": "<div>\n<style scoped>\n    .dataframe tbody tr th:only-of-type {\n        vertical-align: middle;\n    }\n\n    .dataframe tbody tr th {\n        vertical-align: top;\n    }\n\n    .dataframe thead th {\n        text-align: right;\n    }\n</style>\n<table border=\"1\" class=\"dataframe\">\n  <thead>\n    <tr style=\"text-align: right;\">\n      <th></th>\n      <th>desc</th>\n      <th>retail</th>\n      <th>size</th>\n    </tr>\n  </thead>\n  <tbody>\n    <tr>\n      <th>0</th>\n      <td>$1,000 Cash!</td>\n      <td>1000.00</td>\n      <td>2</td>\n    </tr>\n    <tr>\n      <th>1</th>\n      <td>$799 iPhone 3G Gift Card</td>\n      <td>799.99</td>\n      <td>2</td>\n    </tr>\n    <tr>\n      <th>2</th>\n      <td>$80 Cash!</td>\n      <td>80.00</td>\n      <td>2</td>\n    </tr>\n    <tr>\n      <th>3</th>\n      <td>20 Bids Voucher</td>\n      <td>12.00</td>\n      <td>4</td>\n    </tr>\n    <tr>\n      <th>4</th>\n      <td>300 Bids Voucher</td>\n      <td>180.00</td>\n      <td>4</td>\n    </tr>\n  </tbody>\n</table>\n</div>"
     },
     "execution_count": 221,
     "metadata": {},
     "output_type": "execute_result"
    }
   ],
   "source": [
    "data_mv_selected.head()"
   ],
   "metadata": {
    "collapsed": false
   }
  },
  {
   "cell_type": "markdown",
   "source": [
    "2. 获得这些mv对应的bd值\n",
    "3. 可以发现，基本上都是一个bidfee对应2个bid increment的情况"
   ],
   "metadata": {
    "collapsed": false
   }
  },
  {
   "cell_type": "code",
   "execution_count": 222,
   "outputs": [
    {
     "data": {
      "text/plain": "(192, 5)"
     },
     "execution_count": 222,
     "metadata": {},
     "output_type": "execute_result"
    }
   ],
   "source": [
    "mvbd = pd.DataFrame()\n",
    "\n",
    "for i in range(data_mv_selected.shape[0]):\n",
    "    key = (data_mv_selected.iloc[i,0],data_mv_selected.iloc[i,1])\n",
    "    mvbd = pd.concat([mvbd,data_mv.get_group(key)],axis=0,ignore_index=True)\n",
    "mvbd.shape"
   ],
   "metadata": {
    "collapsed": false
   }
  },
  {
   "cell_type": "code",
   "execution_count": 223,
   "outputs": [],
   "source": [
    "# mvbd.to_csv(setting_list,encoding=\"utf-8\",index=False,header=True)"
   ],
   "metadata": {
    "collapsed": false
   }
  },
  {
   "cell_type": "markdown",
   "source": [
    "# 3. 读入setting，找到他们的revenue以及rmse\n",
    "## 3.1 找到rmse\n",
    "1. setting来源于selected file\n",
    "2. 要先找到idx."
   ],
   "metadata": {
    "collapsed": false
   }
  },
  {
   "cell_type": "code",
   "execution_count": 224,
   "outputs": [],
   "source": [
    "mvbd = pd.read_csv(setting_selected_list,encoding=\"utf-8\")"
   ],
   "metadata": {
    "collapsed": false
   }
  },
  {
   "cell_type": "code",
   "execution_count": 225,
   "outputs": [],
   "source": [
    "data_mv_windex = data_key.reset_index(drop=False)\n",
    "mvbd_selected = pd.merge(mvbd,data_mv_windex,how=\"left\")\n",
    "idx = mvbd_selected['index'].tolist()"
   ],
   "metadata": {
    "collapsed": false
   }
  },
  {
   "cell_type": "code",
   "execution_count": 226,
   "outputs": [
    {
     "data": {
      "text/plain": "                                            desc  bidincrement  bidfee  \\\n0                                   $1,000 Cash!          0.00    0.75   \n1                                   $1,000 Cash!          0.01    0.75   \n2                       $799 iPhone 3G Gift Card          0.06    0.60   \n3                       $799 iPhone 3G Gift Card          0.02    0.60   \n4                                      $80 Cash!          0.00    0.75   \n..                                           ...           ...     ...   \n122                   UFC 2009: Undisputed (PS3)          0.12    0.60   \n123  Verizon VZ-V300AM-2 DECT 6.0 Cordless Phone          0.12    0.60   \n124  Verizon VZ-V300AM-2 DECT 6.0 Cordless Phone          0.24    0.60   \n125    Wii Fit | Nintendo WiiFit + Balance Board          0.15    0.75   \n126    Wii Fit | Nintendo WiiFit + Balance Board          0.01    0.75   \n\n      retail  flg_endprice  index  \n0    1000.00             1     21  \n1    1000.00             0    407  \n2     799.99             0    927  \n3     799.99             0    928  \n4      80.00             1     20  \n..       ...           ...    ...  \n122    52.99             0    835  \n123   119.99             0    722  \n124   119.99             0    778  \n125    89.99             0    183  \n126    89.99             0    540  \n\n[127 rows x 6 columns]",
      "text/html": "<div>\n<style scoped>\n    .dataframe tbody tr th:only-of-type {\n        vertical-align: middle;\n    }\n\n    .dataframe tbody tr th {\n        vertical-align: top;\n    }\n\n    .dataframe thead th {\n        text-align: right;\n    }\n</style>\n<table border=\"1\" class=\"dataframe\">\n  <thead>\n    <tr style=\"text-align: right;\">\n      <th></th>\n      <th>desc</th>\n      <th>bidincrement</th>\n      <th>bidfee</th>\n      <th>retail</th>\n      <th>flg_endprice</th>\n      <th>index</th>\n    </tr>\n  </thead>\n  <tbody>\n    <tr>\n      <th>0</th>\n      <td>$1,000 Cash!</td>\n      <td>0.00</td>\n      <td>0.75</td>\n      <td>1000.00</td>\n      <td>1</td>\n      <td>21</td>\n    </tr>\n    <tr>\n      <th>1</th>\n      <td>$1,000 Cash!</td>\n      <td>0.01</td>\n      <td>0.75</td>\n      <td>1000.00</td>\n      <td>0</td>\n      <td>407</td>\n    </tr>\n    <tr>\n      <th>2</th>\n      <td>$799 iPhone 3G Gift Card</td>\n      <td>0.06</td>\n      <td>0.60</td>\n      <td>799.99</td>\n      <td>0</td>\n      <td>927</td>\n    </tr>\n    <tr>\n      <th>3</th>\n      <td>$799 iPhone 3G Gift Card</td>\n      <td>0.02</td>\n      <td>0.60</td>\n      <td>799.99</td>\n      <td>0</td>\n      <td>928</td>\n    </tr>\n    <tr>\n      <th>4</th>\n      <td>$80 Cash!</td>\n      <td>0.00</td>\n      <td>0.75</td>\n      <td>80.00</td>\n      <td>1</td>\n      <td>20</td>\n    </tr>\n    <tr>\n      <th>...</th>\n      <td>...</td>\n      <td>...</td>\n      <td>...</td>\n      <td>...</td>\n      <td>...</td>\n      <td>...</td>\n    </tr>\n    <tr>\n      <th>122</th>\n      <td>UFC 2009: Undisputed (PS3)</td>\n      <td>0.12</td>\n      <td>0.60</td>\n      <td>52.99</td>\n      <td>0</td>\n      <td>835</td>\n    </tr>\n    <tr>\n      <th>123</th>\n      <td>Verizon VZ-V300AM-2 DECT 6.0 Cordless Phone</td>\n      <td>0.12</td>\n      <td>0.60</td>\n      <td>119.99</td>\n      <td>0</td>\n      <td>722</td>\n    </tr>\n    <tr>\n      <th>124</th>\n      <td>Verizon VZ-V300AM-2 DECT 6.0 Cordless Phone</td>\n      <td>0.24</td>\n      <td>0.60</td>\n      <td>119.99</td>\n      <td>0</td>\n      <td>778</td>\n    </tr>\n    <tr>\n      <th>125</th>\n      <td>Wii Fit | Nintendo WiiFit + Balance Board</td>\n      <td>0.15</td>\n      <td>0.75</td>\n      <td>89.99</td>\n      <td>0</td>\n      <td>183</td>\n    </tr>\n    <tr>\n      <th>126</th>\n      <td>Wii Fit | Nintendo WiiFit + Balance Board</td>\n      <td>0.01</td>\n      <td>0.75</td>\n      <td>89.99</td>\n      <td>0</td>\n      <td>540</td>\n    </tr>\n  </tbody>\n</table>\n<p>127 rows × 6 columns</p>\n</div>"
     },
     "execution_count": 226,
     "metadata": {},
     "output_type": "execute_result"
    }
   ],
   "source": [
    "mvbd_selected"
   ],
   "metadata": {
    "collapsed": false
   }
  },
  {
   "cell_type": "code",
   "execution_count": 227,
   "outputs": [],
   "source": [
    "def get_rmse(target,data):\n",
    "    target.reset_index(inplace=True,drop=True)\n",
    "    data.reset_index(inplace=True,drop=True)\n",
    "\n",
    "    rmse = sqrt(mean_squared_error(data.odds, target.odds))\n",
    "    mae = mean_absolute_error(data.odds, target.odds)\n",
    "    # rmse = np.sqrt(np.sum( (target.odds-data.odds)*(target.odds-data.odds))/target.shape[0] )\n",
    "    return rmse,mae"
   ],
   "metadata": {
    "collapsed": false
   }
  },
  {
   "cell_type": "code",
   "execution_count": 228,
   "outputs": [
    {
     "name": "stdout",
     "output_type": "stream",
     "text": [
      "GT-1\n"
     ]
    },
    {
     "data": {
      "text/plain": "(5.19983091060939, 2.217875120788871)"
     },
     "execution_count": 228,
     "metadata": {},
     "output_type": "execute_result"
    }
   ],
   "source": [
    "print(f\"GT-1\")\n",
    "get_rmse(target_ER.iloc[idx,:], GT_1_ER.iloc[idx,:])"
   ],
   "metadata": {
    "collapsed": false
   }
  },
  {
   "cell_type": "code",
   "execution_count": 229,
   "outputs": [
    {
     "name": "stdout",
     "output_type": "stream",
     "text": [
      "GT-2\n"
     ]
    },
    {
     "data": {
      "text/plain": "(9.185248756399133, 3.95317488689578)"
     },
     "execution_count": 229,
     "metadata": {},
     "output_type": "execute_result"
    }
   ],
   "source": [
    "print(f\"GT-2\")\n",
    "get_rmse(target_ER.iloc[idx,:], GT_2_ER.iloc[idx,:])"
   ],
   "metadata": {
    "collapsed": false
   }
  },
  {
   "cell_type": "code",
   "execution_count": 230,
   "outputs": [
    {
     "name": "stdout",
     "output_type": "stream",
     "text": [
      "MDN\n"
     ]
    },
    {
     "data": {
      "text/plain": "(4.791967493989202, 1.8434802776963384)"
     },
     "execution_count": 230,
     "metadata": {},
     "output_type": "execute_result"
    }
   ],
   "source": [
    "print(f\"MDN\")\n",
    "get_rmse(target_ER.iloc[idx,:], MDN_ER.iloc[idx,:])"
   ],
   "metadata": {
    "collapsed": false
   }
  },
  {
   "cell_type": "markdown",
   "source": [
    "## 3.2 找到revenue"
   ],
   "metadata": {
    "collapsed": false
   }
  },
  {
   "cell_type": "code",
   "execution_count": 231,
   "outputs": [],
   "source": [
    "target_ER = pd.read_csv(target_ER_path,encoding=\"utf-8\")\n",
    "GT_1_ER = pd.read_csv(GT_1_ER_path,encoding=\"utf-8\")\n",
    "GT_2_ER = pd.read_csv(GT_2_ER_path,encoding=\"utf-8\")\n",
    "MDN_ER = pd.read_csv(MDN_ER_path,encoding=\"utf-8\")"
   ],
   "metadata": {
    "collapsed": false
   }
  },
  {
   "cell_type": "code",
   "execution_count": 232,
   "outputs": [],
   "source": [
    "# tmp = target_ER\n",
    "mvbd_selected['target'] = round(target_ER.odds,2)\n",
    "mvbd_selected['GT1'] = GT_1_ER.odds\n",
    "mvbd_selected['GT2'] = round(GT_2_ER.odds,2)\n",
    "mvbd_selected['MDN'] = round(MDN_ER.odds,2)"
   ],
   "metadata": {
    "collapsed": false
   }
  },
  {
   "cell_type": "markdown",
   "source": [
    "## 3.3 是否位于test set"
   ],
   "metadata": {
    "collapsed": false
   }
  },
  {
   "cell_type": "code",
   "execution_count": 233,
   "outputs": [],
   "source": [
    "mvbd_selected['flg_test_set'] = [i in test_idx for i in mvbd_selected['index']]"
   ],
   "metadata": {
    "collapsed": false
   }
  },
  {
   "cell_type": "code",
   "execution_count": 234,
   "outputs": [
    {
     "data": {
      "text/plain": "                                            desc  bidincrement  bidfee  \\\n0                                   $1,000 Cash!          0.00    0.75   \n1                                   $1,000 Cash!          0.01    0.75   \n2                       $799 iPhone 3G Gift Card          0.06    0.60   \n3                       $799 iPhone 3G Gift Card          0.02    0.60   \n4                                      $80 Cash!          0.00    0.75   \n..                                           ...           ...     ...   \n122                   UFC 2009: Undisputed (PS3)          0.12    0.60   \n123  Verizon VZ-V300AM-2 DECT 6.0 Cordless Phone          0.12    0.60   \n124  Verizon VZ-V300AM-2 DECT 6.0 Cordless Phone          0.24    0.60   \n125    Wii Fit | Nintendo WiiFit + Balance Board          0.15    0.75   \n126    Wii Fit | Nintendo WiiFit + Balance Board          0.01    0.75   \n\n      retail  flg_endprice  index  target  GT1    GT2   MDN  flg_test_set  \n0    1000.00             1     21    0.63    1   1.53  1.90         False  \n1    1000.00             0    407    2.38    1   1.54  1.36          True  \n2     799.99             0    927    2.03    1   1.59  5.52         False  \n3     799.99             0    928    2.30    1   1.54  0.97         False  \n4      80.00             1     20    0.82    1   1.40  2.59         False  \n..       ...           ...    ...     ...  ...    ...   ...           ...  \n122    52.99             0    835    2.32    1   1.73  3.16         False  \n123   119.99             0    722    1.97    1   1.77  3.10          True  \n124   119.99             0    778    1.94    1  61.04  1.24         False  \n125    89.99             0    183    6.98    1   1.77  1.70         False  \n126    89.99             0    540    0.64    1   1.20  0.55         False  \n\n[127 rows x 11 columns]",
      "text/html": "<div>\n<style scoped>\n    .dataframe tbody tr th:only-of-type {\n        vertical-align: middle;\n    }\n\n    .dataframe tbody tr th {\n        vertical-align: top;\n    }\n\n    .dataframe thead th {\n        text-align: right;\n    }\n</style>\n<table border=\"1\" class=\"dataframe\">\n  <thead>\n    <tr style=\"text-align: right;\">\n      <th></th>\n      <th>desc</th>\n      <th>bidincrement</th>\n      <th>bidfee</th>\n      <th>retail</th>\n      <th>flg_endprice</th>\n      <th>index</th>\n      <th>target</th>\n      <th>GT1</th>\n      <th>GT2</th>\n      <th>MDN</th>\n      <th>flg_test_set</th>\n    </tr>\n  </thead>\n  <tbody>\n    <tr>\n      <th>0</th>\n      <td>$1,000 Cash!</td>\n      <td>0.00</td>\n      <td>0.75</td>\n      <td>1000.00</td>\n      <td>1</td>\n      <td>21</td>\n      <td>0.63</td>\n      <td>1</td>\n      <td>1.53</td>\n      <td>1.90</td>\n      <td>False</td>\n    </tr>\n    <tr>\n      <th>1</th>\n      <td>$1,000 Cash!</td>\n      <td>0.01</td>\n      <td>0.75</td>\n      <td>1000.00</td>\n      <td>0</td>\n      <td>407</td>\n      <td>2.38</td>\n      <td>1</td>\n      <td>1.54</td>\n      <td>1.36</td>\n      <td>True</td>\n    </tr>\n    <tr>\n      <th>2</th>\n      <td>$799 iPhone 3G Gift Card</td>\n      <td>0.06</td>\n      <td>0.60</td>\n      <td>799.99</td>\n      <td>0</td>\n      <td>927</td>\n      <td>2.03</td>\n      <td>1</td>\n      <td>1.59</td>\n      <td>5.52</td>\n      <td>False</td>\n    </tr>\n    <tr>\n      <th>3</th>\n      <td>$799 iPhone 3G Gift Card</td>\n      <td>0.02</td>\n      <td>0.60</td>\n      <td>799.99</td>\n      <td>0</td>\n      <td>928</td>\n      <td>2.30</td>\n      <td>1</td>\n      <td>1.54</td>\n      <td>0.97</td>\n      <td>False</td>\n    </tr>\n    <tr>\n      <th>4</th>\n      <td>$80 Cash!</td>\n      <td>0.00</td>\n      <td>0.75</td>\n      <td>80.00</td>\n      <td>1</td>\n      <td>20</td>\n      <td>0.82</td>\n      <td>1</td>\n      <td>1.40</td>\n      <td>2.59</td>\n      <td>False</td>\n    </tr>\n    <tr>\n      <th>...</th>\n      <td>...</td>\n      <td>...</td>\n      <td>...</td>\n      <td>...</td>\n      <td>...</td>\n      <td>...</td>\n      <td>...</td>\n      <td>...</td>\n      <td>...</td>\n      <td>...</td>\n      <td>...</td>\n    </tr>\n    <tr>\n      <th>122</th>\n      <td>UFC 2009: Undisputed (PS3)</td>\n      <td>0.12</td>\n      <td>0.60</td>\n      <td>52.99</td>\n      <td>0</td>\n      <td>835</td>\n      <td>2.32</td>\n      <td>1</td>\n      <td>1.73</td>\n      <td>3.16</td>\n      <td>False</td>\n    </tr>\n    <tr>\n      <th>123</th>\n      <td>Verizon VZ-V300AM-2 DECT 6.0 Cordless Phone</td>\n      <td>0.12</td>\n      <td>0.60</td>\n      <td>119.99</td>\n      <td>0</td>\n      <td>722</td>\n      <td>1.97</td>\n      <td>1</td>\n      <td>1.77</td>\n      <td>3.10</td>\n      <td>True</td>\n    </tr>\n    <tr>\n      <th>124</th>\n      <td>Verizon VZ-V300AM-2 DECT 6.0 Cordless Phone</td>\n      <td>0.24</td>\n      <td>0.60</td>\n      <td>119.99</td>\n      <td>0</td>\n      <td>778</td>\n      <td>1.94</td>\n      <td>1</td>\n      <td>61.04</td>\n      <td>1.24</td>\n      <td>False</td>\n    </tr>\n    <tr>\n      <th>125</th>\n      <td>Wii Fit | Nintendo WiiFit + Balance Board</td>\n      <td>0.15</td>\n      <td>0.75</td>\n      <td>89.99</td>\n      <td>0</td>\n      <td>183</td>\n      <td>6.98</td>\n      <td>1</td>\n      <td>1.77</td>\n      <td>1.70</td>\n      <td>False</td>\n    </tr>\n    <tr>\n      <th>126</th>\n      <td>Wii Fit | Nintendo WiiFit + Balance Board</td>\n      <td>0.01</td>\n      <td>0.75</td>\n      <td>89.99</td>\n      <td>0</td>\n      <td>540</td>\n      <td>0.64</td>\n      <td>1</td>\n      <td>1.20</td>\n      <td>0.55</td>\n      <td>False</td>\n    </tr>\n  </tbody>\n</table>\n<p>127 rows × 11 columns</p>\n</div>"
     },
     "execution_count": 234,
     "metadata": {},
     "output_type": "execute_result"
    }
   ],
   "source": [
    "mvbd_selected"
   ],
   "metadata": {
    "collapsed": false
   }
  },
  {
   "cell_type": "code",
   "execution_count": 235,
   "outputs": [
    {
     "data": {
      "text/plain": "'../data/revenue/setting_bd_2_selected_analysis_seed=307.csv'"
     },
     "execution_count": 235,
     "metadata": {},
     "output_type": "execute_result"
    }
   ],
   "source": [
    "setting_analysis"
   ],
   "metadata": {
    "collapsed": false
   }
  },
  {
   "cell_type": "code",
   "execution_count": 236,
   "outputs": [],
   "source": [
    "mvbd_selected.to_csv(setting_analysis,encoding=\"utf-8\",header=True,index=False)"
   ],
   "metadata": {
    "collapsed": false
   }
  },
  {
   "cell_type": "markdown",
   "source": [
    "# 4. 具体分析\n",
    "## 4.1 调查每个setting的data records数量\n",
    "1. 平均213"
   ],
   "metadata": {
    "collapsed": false
   }
  },
  {
   "cell_type": "code",
   "execution_count": 7,
   "outputs": [],
   "source": [
    "seed_list = [3,31,204,223,407]\n",
    "data_record_lst = []\n",
    "all_target_file = os.listdir(target_path)"
   ],
   "metadata": {
    "collapsed": false
   }
  },
  {
   "cell_type": "code",
   "execution_count": 8,
   "outputs": [
    {
     "name": "stdout",
     "output_type": "stream",
     "text": [
      "seed=3\n",
      "../data/revenue/setting_bd_2_selected_analysis_seed=3_wo_vou.csv\n",
      "seed=31\n",
      "../data/revenue/setting_bd_2_selected_analysis_seed=31_wo_vou.csv\n",
      "seed=204\n",
      "../data/revenue/setting_bd_2_selected_analysis_seed=204_wo_vou.csv\n",
      "seed=223\n",
      "../data/revenue/setting_bd_2_selected_analysis_seed=223_wo_vou.csv\n",
      "seed=407\n",
      "../data/revenue/setting_bd_2_selected_analysis_seed=407_wo_vou.csv\n"
     ]
    }
   ],
   "source": [
    "\n",
    "for seed_i in seed_list:\n",
    "    record_cnt = 0\n",
    "    setting_analysis = \"../data/revenue/setting_bd_\"+str(SELECTED_thrd)+\"_selected_analysis_seed=\"+str(seed_i)+file_with_vou+\".csv\"\n",
    "    mvbd_anaysis = pd.read_csv(setting_analysis,encoding=\"utf-8\")\n",
    "    print(f\"seed={seed_i}\")\n",
    "    print(setting_analysis)\n",
    "\n",
    "    for j in range(mvbd_anaysis.shape[0]):\n",
    "\n",
    "        setting_j = mvbd_anaysis.loc[j,col_config]\n",
    "        # 根据setting找到key\n",
    "        idx = data_key[((data_key['desc'] == setting_j['desc']) &\n",
    "            (data_key['bidincrement'] == setting_j['bidincrement']) &\n",
    "            (data_key['bidfee'] == setting_j['bidfee']) &\n",
    "            (data_key['retail'] == setting_j['retail']) &\n",
    "            (data_key['flg_endprice'] == setting_j['flg_endprice']))].index[0]\n",
    "        # 获取idx对应的file以及长度\n",
    "        target_data_path = os.path.join(target_path,all_target_file[idx])\n",
    "        target_data = pd.read_csv(target_data_path,encoding=\"utf-8\")\n",
    "        record_cnt += target_data.shape[0]\n",
    "    # records总数/\n",
    "    recond_avg = int(record_cnt / mvbd_anaysis.shape[0])\n",
    "    data_record_lst.append(recond_avg)"
   ],
   "metadata": {
    "collapsed": false
   }
  },
  {
   "cell_type": "code",
   "execution_count": 9,
   "outputs": [
    {
     "name": "stdout",
     "output_type": "stream",
     "text": [
      "data record数量：\n"
     ]
    },
    {
     "data": {
      "text/plain": "([197, 97, 67, 75, 214], 130.0)"
     },
     "execution_count": 9,
     "metadata": {},
     "output_type": "execute_result"
    }
   ],
   "source": [
    "print(\"data record数量：\")\n",
    "data_record_lst, np.mean(data_record_lst)"
   ],
   "metadata": {
    "collapsed": false
   }
  },
  {
   "cell_type": "markdown",
   "source": [
    "## 4.2 [bid fee不变，从bid inc的角度分析]"
   ],
   "metadata": {
    "collapsed": false
   }
  },
  {
   "cell_type": "code",
   "execution_count": 189,
   "outputs": [],
   "source": [
    "mvbd_anaysis = pd.read_csv(setting_analysis,encoding=\"utf-8\")\n",
    "mvbd_anaysis.GT2 = round(mvbd_anaysis.GT2,2)\n",
    "mvbd_anaysis.MDN = round(mvbd_anaysis.MDN,2)\n",
    "mvbd_anaysis.target = round(mvbd_anaysis.target,2)\n",
    "mvbd_anaysis.to_csv(setting_analysis,encoding=\"utf-8\",header=True,index=False)"
   ],
   "metadata": {
    "collapsed": false
   }
  },
  {
   "cell_type": "code",
   "execution_count": null,
   "outputs": [],
   "source": [],
   "metadata": {
    "collapsed": false
   }
  }
 ],
 "metadata": {
  "kernelspec": {
   "display_name": "Python 3",
   "language": "python",
   "name": "python3"
  },
  "language_info": {
   "codemirror_mode": {
    "name": "ipython",
    "version": 2
   },
   "file_extension": ".py",
   "mimetype": "text/x-python",
   "name": "python",
   "nbconvert_exporter": "python",
   "pygments_lexer": "ipython2",
   "version": "2.7.6"
  }
 },
 "nbformat": 4,
 "nbformat_minor": 0
}
